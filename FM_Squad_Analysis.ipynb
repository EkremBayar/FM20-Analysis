{
 "cells": [
  {
   "cell_type": "code",
   "execution_count": 1,
   "metadata": {},
   "outputs": [
    {
     "data": {
      "text/html": [
       "        <script type=\"text/javascript\">\n",
       "        window.PlotlyConfig = {MathJaxConfig: 'local'};\n",
       "        if (window.MathJax) {MathJax.Hub.Config({SVG: {font: \"STIX-Web\"}});}\n",
       "        if (typeof require !== 'undefined') {\n",
       "        require.undef(\"plotly\");\n",
       "        requirejs.config({\n",
       "            paths: {\n",
       "                'plotly': ['https://cdn.plot.ly/plotly-latest.min']\n",
       "            }\n",
       "        });\n",
       "        require(['plotly'], function(Plotly) {\n",
       "            window._Plotly = Plotly;\n",
       "        });\n",
       "        }\n",
       "        </script>\n",
       "        "
      ]
     },
     "metadata": {},
     "output_type": "display_data"
    },
    {
     "data": {
      "text/html": [
       "        <script type=\"text/javascript\">\n",
       "        window.PlotlyConfig = {MathJaxConfig: 'local'};\n",
       "        if (window.MathJax) {MathJax.Hub.Config({SVG: {font: \"STIX-Web\"}});}\n",
       "        if (typeof require !== 'undefined') {\n",
       "        require.undef(\"plotly\");\n",
       "        requirejs.config({\n",
       "            paths: {\n",
       "                'plotly': ['https://cdn.plot.ly/plotly-latest.min']\n",
       "            }\n",
       "        });\n",
       "        require(['plotly'], function(Plotly) {\n",
       "            window._Plotly = Plotly;\n",
       "        });\n",
       "        }\n",
       "        </script>\n",
       "        "
      ]
     },
     "metadata": {},
     "output_type": "display_data"
    }
   ],
   "source": [
    "# Import required packages\n",
    "\n",
    "import numpy as np\n",
    "import pandas as pd\n",
    "from plotly.offline import download_plotlyjs, init_notebook_mode, plot, iplot\n",
    "import cufflinks as cf\n",
    "init_notebook_mode(connected=True)\n",
    "cf.go_offline()"
   ]
  },
  {
   "cell_type": "code",
   "execution_count": 2,
   "metadata": {},
   "outputs": [
    {
     "ename": "ImportError",
     "evalue": "html5lib not found, please install it",
     "output_type": "error",
     "traceback": [
      "\u001b[1;31m---------------------------------------------------------------------------\u001b[0m",
      "\u001b[1;31mImportError\u001b[0m                               Traceback (most recent call last)",
      "\u001b[1;32m<ipython-input-2-54b4ed8a92f0>\u001b[0m in \u001b[0;36m<module>\u001b[1;34m\u001b[0m\n\u001b[0;32m      1\u001b[0m \u001b[1;31m# Create DataFrame\u001b[0m\u001b[1;33m\u001b[0m\u001b[1;33m\u001b[0m\u001b[1;33m\u001b[0m\u001b[0m\n\u001b[0;32m      2\u001b[0m \u001b[1;33m\u001b[0m\u001b[0m\n\u001b[1;32m----> 3\u001b[1;33m \u001b[0mdf\u001b[0m \u001b[1;33m=\u001b[0m \u001b[0mpd\u001b[0m\u001b[1;33m.\u001b[0m\u001b[0mread_html\u001b[0m\u001b[1;33m(\u001b[0m\u001b[1;34mr\"C:\\Users\\stuar\\OneDrive\\My Documents\\P\\Python\\FM20\\XML\\squad_attributes.html\"\u001b[0m\u001b[1;33m,\u001b[0m\u001b[0mskiprows\u001b[0m\u001b[1;33m=\u001b[0m\u001b[1;36m0\u001b[0m\u001b[1;33m)\u001b[0m\u001b[1;33m[\u001b[0m\u001b[1;36m0\u001b[0m\u001b[1;33m]\u001b[0m\u001b[1;33m\u001b[0m\u001b[1;33m\u001b[0m\u001b[0m\n\u001b[0m\u001b[0;32m      4\u001b[0m \u001b[0mdf1\u001b[0m \u001b[1;33m=\u001b[0m \u001b[0mpd\u001b[0m\u001b[1;33m.\u001b[0m\u001b[0mread_html\u001b[0m\u001b[1;33m(\u001b[0m\u001b[1;34mr\"C:\\Users\\stuar\\OneDrive\\My Documents\\P\\Python\\FM20\\XML\\squad_statistics.html\"\u001b[0m\u001b[1;33m,\u001b[0m\u001b[0mskiprows\u001b[0m\u001b[1;33m=\u001b[0m\u001b[1;36m0\u001b[0m\u001b[1;33m)\u001b[0m\u001b[1;33m[\u001b[0m\u001b[1;36m0\u001b[0m\u001b[1;33m]\u001b[0m\u001b[1;33m\u001b[0m\u001b[1;33m\u001b[0m\u001b[0m\n\u001b[0;32m      5\u001b[0m \u001b[1;33m\u001b[0m\u001b[0m\n",
      "\u001b[1;32mc:\\users\\stuar\\appdata\\local\\programs\\python\\python38-32\\lib\\site-packages\\pandas\\io\\html.py\u001b[0m in \u001b[0;36mread_html\u001b[1;34m(io, match, flavor, header, index_col, skiprows, attrs, parse_dates, thousands, encoding, decimal, converters, na_values, keep_default_na, displayed_only)\u001b[0m\n\u001b[0;32m   1083\u001b[0m         )\n\u001b[0;32m   1084\u001b[0m     \u001b[0mvalidate_header_arg\u001b[0m\u001b[1;33m(\u001b[0m\u001b[0mheader\u001b[0m\u001b[1;33m)\u001b[0m\u001b[1;33m\u001b[0m\u001b[1;33m\u001b[0m\u001b[0m\n\u001b[1;32m-> 1085\u001b[1;33m     return _parse(\n\u001b[0m\u001b[0;32m   1086\u001b[0m         \u001b[0mflavor\u001b[0m\u001b[1;33m=\u001b[0m\u001b[0mflavor\u001b[0m\u001b[1;33m,\u001b[0m\u001b[1;33m\u001b[0m\u001b[1;33m\u001b[0m\u001b[0m\n\u001b[0;32m   1087\u001b[0m         \u001b[0mio\u001b[0m\u001b[1;33m=\u001b[0m\u001b[0mio\u001b[0m\u001b[1;33m,\u001b[0m\u001b[1;33m\u001b[0m\u001b[1;33m\u001b[0m\u001b[0m\n",
      "\u001b[1;32mc:\\users\\stuar\\appdata\\local\\programs\\python\\python38-32\\lib\\site-packages\\pandas\\io\\html.py\u001b[0m in \u001b[0;36m_parse\u001b[1;34m(flavor, io, match, attrs, encoding, displayed_only, **kwargs)\u001b[0m\n\u001b[0;32m    889\u001b[0m     \u001b[0mretained\u001b[0m \u001b[1;33m=\u001b[0m \u001b[1;32mNone\u001b[0m\u001b[1;33m\u001b[0m\u001b[1;33m\u001b[0m\u001b[0m\n\u001b[0;32m    890\u001b[0m     \u001b[1;32mfor\u001b[0m \u001b[0mflav\u001b[0m \u001b[1;32min\u001b[0m \u001b[0mflavor\u001b[0m\u001b[1;33m:\u001b[0m\u001b[1;33m\u001b[0m\u001b[1;33m\u001b[0m\u001b[0m\n\u001b[1;32m--> 891\u001b[1;33m         \u001b[0mparser\u001b[0m \u001b[1;33m=\u001b[0m \u001b[0m_parser_dispatch\u001b[0m\u001b[1;33m(\u001b[0m\u001b[0mflav\u001b[0m\u001b[1;33m)\u001b[0m\u001b[1;33m\u001b[0m\u001b[1;33m\u001b[0m\u001b[0m\n\u001b[0m\u001b[0;32m    892\u001b[0m         \u001b[0mp\u001b[0m \u001b[1;33m=\u001b[0m \u001b[0mparser\u001b[0m\u001b[1;33m(\u001b[0m\u001b[0mio\u001b[0m\u001b[1;33m,\u001b[0m \u001b[0mcompiled_match\u001b[0m\u001b[1;33m,\u001b[0m \u001b[0mattrs\u001b[0m\u001b[1;33m,\u001b[0m \u001b[0mencoding\u001b[0m\u001b[1;33m,\u001b[0m \u001b[0mdisplayed_only\u001b[0m\u001b[1;33m)\u001b[0m\u001b[1;33m\u001b[0m\u001b[1;33m\u001b[0m\u001b[0m\n\u001b[0;32m    893\u001b[0m \u001b[1;33m\u001b[0m\u001b[0m\n",
      "\u001b[1;32mc:\\users\\stuar\\appdata\\local\\programs\\python\\python38-32\\lib\\site-packages\\pandas\\io\\html.py\u001b[0m in \u001b[0;36m_parser_dispatch\u001b[1;34m(flavor)\u001b[0m\n\u001b[0;32m    838\u001b[0m     \u001b[1;32mif\u001b[0m \u001b[0mflavor\u001b[0m \u001b[1;32min\u001b[0m \u001b[1;33m(\u001b[0m\u001b[1;34m\"bs4\"\u001b[0m\u001b[1;33m,\u001b[0m \u001b[1;34m\"html5lib\"\u001b[0m\u001b[1;33m)\u001b[0m\u001b[1;33m:\u001b[0m\u001b[1;33m\u001b[0m\u001b[1;33m\u001b[0m\u001b[0m\n\u001b[0;32m    839\u001b[0m         \u001b[1;32mif\u001b[0m \u001b[1;32mnot\u001b[0m \u001b[0m_HAS_HTML5LIB\u001b[0m\u001b[1;33m:\u001b[0m\u001b[1;33m\u001b[0m\u001b[1;33m\u001b[0m\u001b[0m\n\u001b[1;32m--> 840\u001b[1;33m             \u001b[1;32mraise\u001b[0m \u001b[0mImportError\u001b[0m\u001b[1;33m(\u001b[0m\u001b[1;34m\"html5lib not found, please install it\"\u001b[0m\u001b[1;33m)\u001b[0m\u001b[1;33m\u001b[0m\u001b[1;33m\u001b[0m\u001b[0m\n\u001b[0m\u001b[0;32m    841\u001b[0m         \u001b[1;32mif\u001b[0m \u001b[1;32mnot\u001b[0m \u001b[0m_HAS_BS4\u001b[0m\u001b[1;33m:\u001b[0m\u001b[1;33m\u001b[0m\u001b[1;33m\u001b[0m\u001b[0m\n\u001b[0;32m    842\u001b[0m             \u001b[1;32mraise\u001b[0m \u001b[0mImportError\u001b[0m\u001b[1;33m(\u001b[0m\u001b[1;34m\"BeautifulSoup4 (bs4) not found, please install it\"\u001b[0m\u001b[1;33m)\u001b[0m\u001b[1;33m\u001b[0m\u001b[1;33m\u001b[0m\u001b[0m\n",
      "\u001b[1;31mImportError\u001b[0m: html5lib not found, please install it"
     ]
    }
   ],
   "source": [
    "# Create DataFrame\n",
    "\n",
    "df = pd.read_html(r\"C:\\Users\\stuar\\OneDrive\\My Documents\\P\\Python\\FM20\\XML\\squad_attributes.html\",skiprows=0)[0]\n",
    "df1 = pd.read_html(r\"C:\\Users\\stuar\\OneDrive\\My Documents\\P\\Python\\FM20\\XML\\squad_statistics.html\",skiprows=0)[0]\n",
    "\n",
    "# Set DataFrame limits\n",
    "\n",
    "pd.set_option('display.max_columns',50)\n",
    "pd.set_option('display.max_rows',5)\n",
    "pd.set_option('precision', 0)\n",
    "\n",
    "# Create score for each position and club DNA.\n",
    "\n",
    "# DNA\n",
    "df['dna_score'] = df['Agg'] + df['Det'] + df['Tea'] + df['Wor']\n",
    "\n",
    "# Sweeper Keeper\n",
    "df['sk_score'] = df['Com'] + df['Kic'] + df['1v1'] + df['Ref'] + df['TRO'] + df['Ant'] + df['Cmp'] + df['Cnt'] + df['Pos'] + df['Agi']\n",
    "\n",
    "# CWB\n",
    "df['cwb_score'] = df['Cro'] + df['Dri'] + df['Fir'] + df['Pas'] + df['Tec'] + df['Dec'] + df['OtB'] + df['Tea'] + df['Wor'] + df['Acc'] + df['Pac'] + df['Sta']\n",
    "\n",
    "# WB\n",
    "df['wb_score'] = df['Cro'] + df['Dri'] + df['Mar'] + df['Tck'] + df['OtB'] + df['Tea'] + df['Wor'] + df['Acc'] + df['Sta'] \n",
    "\n",
    "# CD\n",
    "df['cd_score'] = df['Hea'] + df['Mar'] + df['Tck'] + df['Pos'] + df['Jum'] + df['Str'] \n",
    "\n",
    "# DM\n",
    "df['dm_score'] = df['Tck'] + df['Ant'] + df['Cnt'] + df['Pos'] + df['Tea'] + df['Wor'] + df['Sta'] \n",
    "\n",
    "# BWM\n",
    "df['bwm_score'] = df['Tck'] + df['Agg'] + df['Ant'] + df['Bra'] + df['Tea'] + df['Wor'] \n",
    "\n",
    "# CAR\n",
    "df['car_score'] = df['Pas'] + df['Tck'] + df['Dec'] + df['Pos'] + df['Tea'] + df['Wor'] + df['Sta'] \n",
    "\n",
    "# IFS\n",
    "df['ifs_score'] = df['Dri'] + df['Fir'] + df['Pas'] + df['Tec'] + df['OtB'] + df['Acc'] + df['Agi'] + df['Bal'] \n",
    "\n",
    "# IFA\n",
    "df['ifa_score'] = df['Dri'] + df['Fin'] + df['Fir'] + df['Tec'] + df['OtB'] + df['Acc'] + df['Agi'] + df['Bal'] \n",
    "\n",
    "# F9\n",
    "df['f9_score'] = df['Dri'] + df['Fir'] + df['Pas'] + df['Tec'] + df['Cmp'] + df['Dec'] + df['OtB'] + df['Vis'] + df['Acc'] + df['Agi']\n"
   ]
  },
  {
   "cell_type": "code",
   "execution_count": null,
   "metadata": {},
   "outputs": [],
   "source": [
    "# Create custom column on DataFrame for each position and DNA\n",
    "\n",
    "dna = df[['Name', 'Age', 'Agg' , 'Det' , 'Tea' , 'Wor', 'dna_score']]\n",
    "sk = df[['Name', 'Age' , 'Com' , 'Kic' , '1v1', 'Ref', 'TRO', 'Ant', 'Cmp', 'Cnt', 'Pos', 'Agi', 'sk_score']]\n",
    "cwb = df[['Name', 'Age' , 'Cro' , 'Dri', 'Fir', 'Pas', 'Tec', 'Dec', 'OtB', 'Tea', 'Wor', 'Acc', 'Pac', 'Sta', 'cwb_score']]\n",
    "wb = df[['Name', 'Age' , 'Cro' , 'Dri', 'Mar', 'Tck', 'OtB', 'Tea', 'Wor', 'Acc', 'Sta', 'wb_score']] \n",
    "cd = df[['Name', 'Age' ,  'Hea', 'Mar' , 'Tck', 'Pos', 'Jum', 'Str' , 'cd_score']] \n",
    "dm = df[['Name', 'Age' , 'Tck', 'Ant', 'Cnt', 'Pos', 'Tea', 'Wor', 'Sta', 'dm_score']]\n",
    "bwm = df[['Name', 'Age' , 'Tck' , 'Agg' , 'Ant' , 'Bra' , 'Tea' , 'Wor', 'bwm_score']]\n",
    "car = df[['Name', 'Age' , 'Pas', 'Tck', 'Dec', 'Pos', 'Tea', 'Wor', 'Sta', 'car_score']]\n",
    "ifs = df[['Name', 'Age' , 'Dri', 'Fir', 'Pas', 'Tec', 'OtB', 'Acc', 'Agi', 'Bal', 'ifs_score']]\n",
    "ifa = df[['Name', 'Age' , 'Dri', 'Fin', 'Fir', 'Tec', 'OtB', 'Acc', 'Agi', 'Bal', 'ifa_score']]\n",
    "f9 = df[['Name', 'Age' , 'Dri', 'Fir', 'Pas', 'Tec', 'Cmp', 'Dec', 'OtB', 'Vis', 'Acc', 'Agi', 'f9_score']]\n"
   ]
  },
  {
   "cell_type": "code",
   "execution_count": null,
   "metadata": {},
   "outputs": [],
   "source": [
    "# Club DNA Score\n",
    "# change number inside head() to decide how many rows to display\n",
    "\n",
    "print(\"DNA\")\n",
    "sorted_dna = dna.sort_values(by='dna_score', ascending=False)\n",
    "sorted_dna.head(10).style.format({\"Age\": \"{:20,.0f}\", \n",
    "                          })\\\n",
    "                   .hide_index()\\\n",
    "                   .background_gradient(cmap='Blues')"
   ]
  },
  {
   "cell_type": "code",
   "execution_count": null,
   "metadata": {},
   "outputs": [],
   "source": [
    "# Print Column Names to choose plot values\n",
    "#for col in df1.columns: \n",
    "#    print(col) "
   ]
  },
  {
   "cell_type": "code",
   "execution_count": null,
   "metadata": {},
   "outputs": [],
   "source": [
    "# Sweeper Keeper - Support\n",
    "\n",
    "print(\"Sweeper Keeper - Support\")\n",
    "sorted_sk = sk.sort_values(by='sk_score', ascending=False)\n",
    "sorted_sk.head(10).style.format({\"Age\": \"{:20,.0f}\", \n",
    "                          })\\\n",
    "                        .hide_index()\\\n",
    "                        .background_gradient(cmap='Blues')"
   ]
  },
  {
   "cell_type": "code",
   "execution_count": null,
   "metadata": {},
   "outputs": [],
   "source": [
    "# Create Scatter Plot \n",
    "\n",
    "df1.iplot(kind='scatter',x='Con/90',y='Gl Mst',\n",
    "           mode='markers',text='Name',size=10,\n",
    "          xTitle='Goals Conceded/90',yTitle='Mistakes leading to a goal',title='Sweeper Keeper - Support')"
   ]
  },
  {
   "cell_type": "code",
   "execution_count": null,
   "metadata": {},
   "outputs": [],
   "source": [
    "# Complete Wing Back - Support\n",
    "\n",
    "print(\"Complete Wing Back - Support\")\n",
    "sorted_cwb = cwb.sort_values(by='cwb_score', ascending=False)\n",
    "sorted_cwb.head(10).style.format({\"Age\": \"{:20,.0f}\", \n",
    "                          })\\\n",
    "                        .hide_index()\\\n",
    "                        .background_gradient(cmap='Blues')"
   ]
  },
  {
   "cell_type": "code",
   "execution_count": null,
   "metadata": {},
   "outputs": [],
   "source": [
    "df1.iplot(kind='scatter',x='K Ps/90',y='Cr C/A',\n",
    "           mode='markers',text='Name',size=10,\n",
    "          xTitle='Key Passes/90',yTitle='Cross Completion %',title='Complete Wing Back - Support')"
   ]
  },
  {
   "cell_type": "code",
   "execution_count": null,
   "metadata": {},
   "outputs": [],
   "source": [
    "print(\"Wing Back - Support\")\n",
    "sorted_wb = wb.sort_values(by='wb_score', ascending=False)\n",
    "sorted_wb.head(10).style.format({\"Age\": \"{:20,.0f}\", \n",
    "                          })\\\n",
    "                       .hide_index()\\\n",
    "                       .background_gradient(cmap='Blues')"
   ]
  },
  {
   "cell_type": "code",
   "execution_count": null,
   "metadata": {},
   "outputs": [],
   "source": [
    "df1.iplot(kind='scatter',x='DrbPG',y='Cr C/A',\n",
    "           mode='markers',text='Name',size=10,\n",
    "          xTitle='Dribbles/90',yTitle='Cross Completion %',title='Wing Back - Support')  "
   ]
  },
  {
   "cell_type": "code",
   "execution_count": null,
   "metadata": {},
   "outputs": [],
   "source": [
    "print(\"Central Defender\")\n",
    "sorted_cd = cd.sort_values(by='cd_score', ascending=False)\n",
    "sorted_cd.head(10).style.format({\"Age\": \"{:20,.0f}\", \n",
    "                          })\\\n",
    "                       .hide_index()\\\n",
    "                       .background_gradient(cmap='Blues')"
   ]
  },
  {
   "cell_type": "code",
   "execution_count": null,
   "metadata": {},
   "outputs": [],
   "source": [
    "df1.iplot(kind='scatter',x='Hdrs W/90',y='Int/90',\n",
    "           mode='markers',text='Name',size=10,\n",
    "          xTitle='Headers Won/90',yTitle='Interceptions/90',title='Central Defender - Defend')"
   ]
  },
  {
   "cell_type": "code",
   "execution_count": null,
   "metadata": {},
   "outputs": [],
   "source": [
    "print(\"Defensive Midfielder\")\n",
    "sorted_dm = dm.sort_values(by='dm_score', ascending=False)\n",
    "sorted_dm.head(10).style.format({\"Age\": \"{:20,.0f}\", \n",
    "                          })\\\n",
    "                       .hide_index()\\\n",
    "                       .background_gradient(cmap='Blues')"
   ]
  },
  {
   "cell_type": "code",
   "execution_count": null,
   "metadata": {},
   "outputs": [],
   "source": [
    "df1.iplot(kind='scatter',x='Pas %',y='Int/90',\n",
    "           mode='markers',text='Name',size=10,\n",
    "          xTitle='Pass Completion %',yTitle='Interceptions/90',title='Defensive Midfielder - Defend')"
   ]
  },
  {
   "cell_type": "code",
   "execution_count": 3,
   "metadata": {},
   "outputs": [
    {
     "name": "stdout",
     "output_type": "stream",
     "text": [
      "Ball Winning Midfielder\n"
     ]
    },
    {
     "ename": "NameError",
     "evalue": "name 'bwm' is not defined",
     "output_type": "error",
     "traceback": [
      "\u001b[1;31m---------------------------------------------------------------------------\u001b[0m",
      "\u001b[1;31mNameError\u001b[0m                                 Traceback (most recent call last)",
      "\u001b[1;32m<ipython-input-3-0596feed4acb>\u001b[0m in \u001b[0;36m<module>\u001b[1;34m\u001b[0m\n\u001b[0;32m      1\u001b[0m \u001b[0mprint\u001b[0m\u001b[1;33m(\u001b[0m\u001b[1;34m\"Ball Winning Midfielder\"\u001b[0m\u001b[1;33m)\u001b[0m\u001b[1;33m\u001b[0m\u001b[1;33m\u001b[0m\u001b[0m\n\u001b[1;32m----> 2\u001b[1;33m \u001b[0msorted_bwm\u001b[0m \u001b[1;33m=\u001b[0m \u001b[0mbwm\u001b[0m\u001b[1;33m.\u001b[0m\u001b[0msort_values\u001b[0m\u001b[1;33m(\u001b[0m\u001b[0mby\u001b[0m\u001b[1;33m=\u001b[0m\u001b[1;34m'bwm_score'\u001b[0m\u001b[1;33m,\u001b[0m \u001b[0mascending\u001b[0m\u001b[1;33m=\u001b[0m\u001b[1;32mFalse\u001b[0m\u001b[1;33m)\u001b[0m\u001b[1;33m\u001b[0m\u001b[1;33m\u001b[0m\u001b[0m\n\u001b[0m\u001b[0;32m      3\u001b[0m sorted_bwm.head(10).style.format({\"Age\": \"{:20,.0f}\", \n\u001b[0;32m      4\u001b[0m                           })\\\n\u001b[0;32m      5\u001b[0m                        \u001b[1;33m.\u001b[0m\u001b[0mhide_index\u001b[0m\u001b[1;33m(\u001b[0m\u001b[1;33m)\u001b[0m\u001b[0;31m\\\u001b[0m\u001b[1;33m\u001b[0m\u001b[1;33m\u001b[0m\u001b[0m\n",
      "\u001b[1;31mNameError\u001b[0m: name 'bwm' is not defined"
     ]
    }
   ],
   "source": [
    "print(\"Ball Winning Midfielder\")\n",
    "sorted_bwm = bwm.sort_values(by='bwm_score', ascending=False)\n",
    "sorted_bwm.head(10).style.format({\"Age\": \"{:20,.0f}\", \n",
    "                          })\\\n",
    "                       .hide_index()\\\n",
    "                       .background_gradient(cmap='Blues')"
   ]
  },
  {
   "cell_type": "code",
   "execution_count": 4,
   "metadata": {},
   "outputs": [
    {
     "ename": "NameError",
     "evalue": "name 'df1' is not defined",
     "output_type": "error",
     "traceback": [
      "\u001b[1;31m---------------------------------------------------------------------------\u001b[0m",
      "\u001b[1;31mNameError\u001b[0m                                 Traceback (most recent call last)",
      "\u001b[1;32m<ipython-input-4-3da4dccba8d6>\u001b[0m in \u001b[0;36m<module>\u001b[1;34m\u001b[0m\n\u001b[1;32m----> 1\u001b[1;33m df1.iplot(kind='scatter',x='Tck',y='Int/90',\n\u001b[0m\u001b[0;32m      2\u001b[0m            \u001b[0mmode\u001b[0m\u001b[1;33m=\u001b[0m\u001b[1;34m'markers'\u001b[0m\u001b[1;33m,\u001b[0m\u001b[0mtext\u001b[0m\u001b[1;33m=\u001b[0m\u001b[1;34m'Name'\u001b[0m\u001b[1;33m,\u001b[0m\u001b[0msize\u001b[0m\u001b[1;33m=\u001b[0m\u001b[1;36m10\u001b[0m\u001b[1;33m,\u001b[0m\u001b[1;33m\u001b[0m\u001b[1;33m\u001b[0m\u001b[0m\n\u001b[0;32m      3\u001b[0m           xTitle='Tackles/90',yTitle='Interceptions/90',title='Ball Winning Midfielder - Support')\t\n",
      "\u001b[1;31mNameError\u001b[0m: name 'df1' is not defined"
     ]
    }
   ],
   "source": [
    "df1.iplot(kind='scatter',x='Tck',y='Int/90',\n",
    "           mode='markers',text='Name',size=10,\n",
    "          xTitle='Tackles/90',yTitle='Interceptions/90',title='Ball Winning Midfielder - Support')\t"
   ]
  },
  {
   "cell_type": "code",
   "execution_count": 5,
   "metadata": {},
   "outputs": [
    {
     "name": "stdout",
     "output_type": "stream",
     "text": [
      "Carilello\n"
     ]
    },
    {
     "ename": "NameError",
     "evalue": "name 'car' is not defined",
     "output_type": "error",
     "traceback": [
      "\u001b[1;31m---------------------------------------------------------------------------\u001b[0m",
      "\u001b[1;31mNameError\u001b[0m                                 Traceback (most recent call last)",
      "\u001b[1;32m<ipython-input-5-1bbaf7174f45>\u001b[0m in \u001b[0;36m<module>\u001b[1;34m\u001b[0m\n\u001b[0;32m      1\u001b[0m \u001b[0mprint\u001b[0m\u001b[1;33m(\u001b[0m\u001b[1;34m\"Carilello\"\u001b[0m\u001b[1;33m)\u001b[0m\u001b[1;33m\u001b[0m\u001b[1;33m\u001b[0m\u001b[0m\n\u001b[1;32m----> 2\u001b[1;33m \u001b[0msorted_car\u001b[0m \u001b[1;33m=\u001b[0m \u001b[0mcar\u001b[0m\u001b[1;33m.\u001b[0m\u001b[0msort_values\u001b[0m\u001b[1;33m(\u001b[0m\u001b[0mby\u001b[0m\u001b[1;33m=\u001b[0m\u001b[1;34m'car_score'\u001b[0m\u001b[1;33m,\u001b[0m \u001b[0mascending\u001b[0m\u001b[1;33m=\u001b[0m\u001b[1;32mFalse\u001b[0m\u001b[1;33m)\u001b[0m\u001b[1;33m\u001b[0m\u001b[1;33m\u001b[0m\u001b[0m\n\u001b[0m\u001b[0;32m      3\u001b[0m sorted_car.head(10).style.format({\"Age\": \"{:20,.0f}\", \n\u001b[0;32m      4\u001b[0m                           })\\\n\u001b[0;32m      5\u001b[0m                        \u001b[1;33m.\u001b[0m\u001b[0mhide_index\u001b[0m\u001b[1;33m(\u001b[0m\u001b[1;33m)\u001b[0m\u001b[0;31m\\\u001b[0m\u001b[1;33m\u001b[0m\u001b[1;33m\u001b[0m\u001b[0m\n",
      "\u001b[1;31mNameError\u001b[0m: name 'car' is not defined"
     ]
    }
   ],
   "source": [
    "print(\"Carilello\")\n",
    "sorted_car = car.sort_values(by='car_score', ascending=False)\n",
    "sorted_car.head(10).style.format({\"Age\": \"{:20,.0f}\", \n",
    "                          })\\\n",
    "                       .hide_index()\\\n",
    "                       .background_gradient(cmap='Blues')"
   ]
  },
  {
   "cell_type": "code",
   "execution_count": 6,
   "metadata": {},
   "outputs": [
    {
     "ename": "NameError",
     "evalue": "name 'df1' is not defined",
     "output_type": "error",
     "traceback": [
      "\u001b[1;31m---------------------------------------------------------------------------\u001b[0m",
      "\u001b[1;31mNameError\u001b[0m                                 Traceback (most recent call last)",
      "\u001b[1;32m<ipython-input-6-0f775ecccaf2>\u001b[0m in \u001b[0;36m<module>\u001b[1;34m\u001b[0m\n\u001b[1;32m----> 1\u001b[1;33m df1.iplot(kind='scatter',x='K Ps/90',y='Pas %',\n\u001b[0m\u001b[0;32m      2\u001b[0m            \u001b[0mmode\u001b[0m\u001b[1;33m=\u001b[0m\u001b[1;34m'markers'\u001b[0m\u001b[1;33m,\u001b[0m\u001b[0mtext\u001b[0m\u001b[1;33m=\u001b[0m\u001b[1;34m'Name'\u001b[0m\u001b[1;33m,\u001b[0m\u001b[0msize\u001b[0m\u001b[1;33m=\u001b[0m\u001b[1;36m10\u001b[0m\u001b[1;33m,\u001b[0m\u001b[1;33m\u001b[0m\u001b[1;33m\u001b[0m\u001b[0m\n\u001b[0;32m      3\u001b[0m           xTitle='Key Passes/90',yTitle='Pass Completion %',title='Carrilero')\t\n",
      "\u001b[1;31mNameError\u001b[0m: name 'df1' is not defined"
     ]
    }
   ],
   "source": [
    "df1.iplot(kind='scatter',x='K Ps/90',y='Pas %',\n",
    "           mode='markers',text='Name',size=10,\n",
    "          xTitle='Key Passes/90',yTitle='Pass Completion %',title='Carrilero')\t"
   ]
  },
  {
   "cell_type": "code",
   "execution_count": 7,
   "metadata": {},
   "outputs": [
    {
     "name": "stdout",
     "output_type": "stream",
     "text": [
      "Inside Forward Support\n"
     ]
    },
    {
     "ename": "NameError",
     "evalue": "name 'ifs' is not defined",
     "output_type": "error",
     "traceback": [
      "\u001b[1;31m---------------------------------------------------------------------------\u001b[0m",
      "\u001b[1;31mNameError\u001b[0m                                 Traceback (most recent call last)",
      "\u001b[1;32m<ipython-input-7-1332a31cb82f>\u001b[0m in \u001b[0;36m<module>\u001b[1;34m\u001b[0m\n\u001b[0;32m      1\u001b[0m \u001b[0mprint\u001b[0m\u001b[1;33m(\u001b[0m\u001b[1;34m\"Inside Forward Support\"\u001b[0m\u001b[1;33m)\u001b[0m\u001b[1;33m\u001b[0m\u001b[1;33m\u001b[0m\u001b[0m\n\u001b[1;32m----> 2\u001b[1;33m \u001b[0msorted_ifs\u001b[0m \u001b[1;33m=\u001b[0m \u001b[0mifs\u001b[0m\u001b[1;33m.\u001b[0m\u001b[0msort_values\u001b[0m\u001b[1;33m(\u001b[0m\u001b[0mby\u001b[0m\u001b[1;33m=\u001b[0m\u001b[1;34m'ifs_score'\u001b[0m\u001b[1;33m,\u001b[0m \u001b[0mascending\u001b[0m\u001b[1;33m=\u001b[0m\u001b[1;32mFalse\u001b[0m\u001b[1;33m)\u001b[0m\u001b[1;33m\u001b[0m\u001b[1;33m\u001b[0m\u001b[0m\n\u001b[0m\u001b[0;32m      3\u001b[0m sorted_ifs.head(10).style.format({\"Age\": \"{:20,.0f}\", \n\u001b[0;32m      4\u001b[0m                           })\\\n\u001b[0;32m      5\u001b[0m                        \u001b[1;33m.\u001b[0m\u001b[0mhide_index\u001b[0m\u001b[1;33m(\u001b[0m\u001b[1;33m)\u001b[0m\u001b[0;31m\\\u001b[0m\u001b[1;33m\u001b[0m\u001b[1;33m\u001b[0m\u001b[0m\n",
      "\u001b[1;31mNameError\u001b[0m: name 'ifs' is not defined"
     ]
    }
   ],
   "source": [
    "print(\"Inside Forward Support\")\n",
    "sorted_ifs = ifs.sort_values(by='ifs_score', ascending=False)\n",
    "sorted_ifs.head(10).style.format({\"Age\": \"{:20,.0f}\", \n",
    "                          })\\\n",
    "                       .hide_index()\\\n",
    "                       .background_gradient(cmap='Blues')"
   ]
  },
  {
   "cell_type": "code",
   "execution_count": 8,
   "metadata": {},
   "outputs": [
    {
     "ename": "NameError",
     "evalue": "name 'df1' is not defined",
     "output_type": "error",
     "traceback": [
      "\u001b[1;31m---------------------------------------------------------------------------\u001b[0m",
      "\u001b[1;31mNameError\u001b[0m                                 Traceback (most recent call last)",
      "\u001b[1;32m<ipython-input-8-b5df7ba76426>\u001b[0m in \u001b[0;36m<module>\u001b[1;34m\u001b[0m\n\u001b[1;32m----> 1\u001b[1;33m df1.iplot(kind='scatter',x='Asts/90',y='Ch C/90',\n\u001b[0m\u001b[0;32m      2\u001b[0m            \u001b[0mmode\u001b[0m\u001b[1;33m=\u001b[0m\u001b[1;34m'markers'\u001b[0m\u001b[1;33m,\u001b[0m\u001b[0mtext\u001b[0m\u001b[1;33m=\u001b[0m\u001b[1;34m'Name'\u001b[0m\u001b[1;33m,\u001b[0m\u001b[0msize\u001b[0m\u001b[1;33m=\u001b[0m\u001b[1;36m10\u001b[0m\u001b[1;33m,\u001b[0m\u001b[1;33m\u001b[0m\u001b[1;33m\u001b[0m\u001b[0m\n\u001b[0;32m      3\u001b[0m           xTitle='Assists/90',yTitle='Chances Created/90',title='Inside Forward - Support')\t\n",
      "\u001b[1;31mNameError\u001b[0m: name 'df1' is not defined"
     ]
    }
   ],
   "source": [
    "df1.iplot(kind='scatter',x='Asts/90',y='Ch C/90',\n",
    "           mode='markers',text='Name',size=10,\n",
    "          xTitle='Assists/90',yTitle='Chances Created/90',title='Inside Forward - Support')\t"
   ]
  },
  {
   "cell_type": "code",
   "execution_count": 9,
   "metadata": {},
   "outputs": [
    {
     "name": "stdout",
     "output_type": "stream",
     "text": [
      "Inside Forward Attack\n"
     ]
    },
    {
     "ename": "NameError",
     "evalue": "name 'ifa' is not defined",
     "output_type": "error",
     "traceback": [
      "\u001b[1;31m---------------------------------------------------------------------------\u001b[0m",
      "\u001b[1;31mNameError\u001b[0m                                 Traceback (most recent call last)",
      "\u001b[1;32m<ipython-input-9-469d301befda>\u001b[0m in \u001b[0;36m<module>\u001b[1;34m\u001b[0m\n\u001b[0;32m      1\u001b[0m \u001b[0mprint\u001b[0m\u001b[1;33m(\u001b[0m\u001b[1;34m\"Inside Forward Attack\"\u001b[0m\u001b[1;33m)\u001b[0m\u001b[1;33m\u001b[0m\u001b[1;33m\u001b[0m\u001b[0m\n\u001b[1;32m----> 2\u001b[1;33m \u001b[0msorted_ifa\u001b[0m \u001b[1;33m=\u001b[0m \u001b[0mifa\u001b[0m\u001b[1;33m.\u001b[0m\u001b[0msort_values\u001b[0m\u001b[1;33m(\u001b[0m\u001b[0mby\u001b[0m\u001b[1;33m=\u001b[0m\u001b[1;34m'ifa_score'\u001b[0m\u001b[1;33m,\u001b[0m \u001b[0mascending\u001b[0m\u001b[1;33m=\u001b[0m\u001b[1;32mFalse\u001b[0m\u001b[1;33m)\u001b[0m\u001b[1;33m\u001b[0m\u001b[1;33m\u001b[0m\u001b[0m\n\u001b[0m\u001b[0;32m      3\u001b[0m sorted_ifa.head(10).style.format({\"Age\": \"{:20,.0f}\", \n\u001b[0;32m      4\u001b[0m                           })\\\n\u001b[0;32m      5\u001b[0m                        \u001b[1;33m.\u001b[0m\u001b[0mhide_index\u001b[0m\u001b[1;33m(\u001b[0m\u001b[1;33m)\u001b[0m\u001b[0;31m\\\u001b[0m\u001b[1;33m\u001b[0m\u001b[1;33m\u001b[0m\u001b[0m\n",
      "\u001b[1;31mNameError\u001b[0m: name 'ifa' is not defined"
     ]
    }
   ],
   "source": [
    "print(\"Inside Forward Attack\")\n",
    "sorted_ifa = ifa.sort_values(by='ifa_score', ascending=False)\n",
    "sorted_ifa.head(10).style.format({\"Age\": \"{:20,.0f}\", \n",
    "                          })\\\n",
    "                       .hide_index()\\\n",
    "                       .background_gradient(cmap='Blues')"
   ]
  },
  {
   "cell_type": "code",
   "execution_count": 10,
   "metadata": {},
   "outputs": [
    {
     "ename": "NameError",
     "evalue": "name 'df1' is not defined",
     "output_type": "error",
     "traceback": [
      "\u001b[1;31m---------------------------------------------------------------------------\u001b[0m",
      "\u001b[1;31mNameError\u001b[0m                                 Traceback (most recent call last)",
      "\u001b[1;32m<ipython-input-10-8b440d624d19>\u001b[0m in \u001b[0;36m<module>\u001b[1;34m\u001b[0m\n\u001b[1;32m----> 1\u001b[1;33m df1.iplot(kind='scatter',x='Gls/90',y='Ch C/90',\n\u001b[0m\u001b[0;32m      2\u001b[0m            \u001b[0mmode\u001b[0m\u001b[1;33m=\u001b[0m\u001b[1;34m'markers'\u001b[0m\u001b[1;33m,\u001b[0m\u001b[0mtext\u001b[0m\u001b[1;33m=\u001b[0m\u001b[1;34m'Name'\u001b[0m\u001b[1;33m,\u001b[0m\u001b[0msize\u001b[0m\u001b[1;33m=\u001b[0m\u001b[1;36m10\u001b[0m\u001b[1;33m,\u001b[0m\u001b[1;33m\u001b[0m\u001b[1;33m\u001b[0m\u001b[0m\n\u001b[0;32m      3\u001b[0m           xTitle='Goals/90',yTitle='Chances Created/90',title='Inside Forward - Attack')\n",
      "\u001b[1;31mNameError\u001b[0m: name 'df1' is not defined"
     ]
    }
   ],
   "source": [
    "df1.iplot(kind='scatter',x='Gls/90',y='Ch C/90',\n",
    "           mode='markers',text='Name',size=10,\n",
    "          xTitle='Goals/90',yTitle='Chances Created/90',title='Inside Forward - Attack')"
   ]
  },
  {
   "cell_type": "code",
   "execution_count": 11,
   "metadata": {},
   "outputs": [
    {
     "name": "stdout",
     "output_type": "stream",
     "text": [
      "False Nine\n"
     ]
    },
    {
     "ename": "NameError",
     "evalue": "name 'f9' is not defined",
     "output_type": "error",
     "traceback": [
      "\u001b[1;31m---------------------------------------------------------------------------\u001b[0m",
      "\u001b[1;31mNameError\u001b[0m                                 Traceback (most recent call last)",
      "\u001b[1;32m<ipython-input-11-aa520ea55ef4>\u001b[0m in \u001b[0;36m<module>\u001b[1;34m\u001b[0m\n\u001b[0;32m      1\u001b[0m \u001b[0mprint\u001b[0m\u001b[1;33m(\u001b[0m\u001b[1;34m\"False Nine\"\u001b[0m\u001b[1;33m)\u001b[0m\u001b[1;33m\u001b[0m\u001b[1;33m\u001b[0m\u001b[0m\n\u001b[1;32m----> 2\u001b[1;33m \u001b[0msorted_f9\u001b[0m \u001b[1;33m=\u001b[0m \u001b[0mf9\u001b[0m\u001b[1;33m.\u001b[0m\u001b[0msort_values\u001b[0m\u001b[1;33m(\u001b[0m\u001b[0mby\u001b[0m\u001b[1;33m=\u001b[0m\u001b[1;34m'f9_score'\u001b[0m\u001b[1;33m,\u001b[0m \u001b[0mascending\u001b[0m\u001b[1;33m=\u001b[0m\u001b[1;32mFalse\u001b[0m\u001b[1;33m)\u001b[0m\u001b[1;33m\u001b[0m\u001b[1;33m\u001b[0m\u001b[0m\n\u001b[0m\u001b[0;32m      3\u001b[0m sorted_f9.head(10).style.format({\"Age\": \"{:20,.0f}\", \n\u001b[0;32m      4\u001b[0m                           })\\\n\u001b[0;32m      5\u001b[0m                        \u001b[1;33m.\u001b[0m\u001b[0mhide_index\u001b[0m\u001b[1;33m(\u001b[0m\u001b[1;33m)\u001b[0m\u001b[0;31m\\\u001b[0m\u001b[1;33m\u001b[0m\u001b[1;33m\u001b[0m\u001b[0m\n",
      "\u001b[1;31mNameError\u001b[0m: name 'f9' is not defined"
     ]
    }
   ],
   "source": [
    "print(\"False Nine\")\n",
    "sorted_f9 = f9.sort_values(by='f9_score', ascending=False)\n",
    "sorted_f9.head(10).style.format({\"Age\": \"{:20,.0f}\", \n",
    "                          })\\\n",
    "                       .hide_index()\\\n",
    "                       .background_gradient(cmap='Blues')"
   ]
  },
  {
   "cell_type": "code",
   "execution_count": 12,
   "metadata": {},
   "outputs": [
    {
     "ename": "NameError",
     "evalue": "name 'df1' is not defined",
     "output_type": "error",
     "traceback": [
      "\u001b[1;31m---------------------------------------------------------------------------\u001b[0m",
      "\u001b[1;31mNameError\u001b[0m                                 Traceback (most recent call last)",
      "\u001b[1;32m<ipython-input-12-7461d89287a5>\u001b[0m in \u001b[0;36m<module>\u001b[1;34m\u001b[0m\n\u001b[1;32m----> 1\u001b[1;33m df1.iplot(kind='scatter',x='Shot/90',y='Gls/90',\n\u001b[0m\u001b[0;32m      2\u001b[0m            \u001b[0mmode\u001b[0m\u001b[1;33m=\u001b[0m\u001b[1;34m'markers'\u001b[0m\u001b[1;33m,\u001b[0m\u001b[0mtext\u001b[0m\u001b[1;33m=\u001b[0m\u001b[1;34m'Name'\u001b[0m\u001b[1;33m,\u001b[0m\u001b[0msize\u001b[0m\u001b[1;33m=\u001b[0m\u001b[1;36m10\u001b[0m\u001b[1;33m,\u001b[0m\u001b[1;33m\u001b[0m\u001b[1;33m\u001b[0m\u001b[0m\n\u001b[0;32m      3\u001b[0m           xTitle='Shots/90',yTitle='Goals/90',title='False Nine - Support')\t\n",
      "\u001b[1;31mNameError\u001b[0m: name 'df1' is not defined"
     ]
    }
   ],
   "source": [
    "df1.iplot(kind='scatter',x='Shot/90',y='Gls/90',\n",
    "           mode='markers',text='Name',size=10,\n",
    "          xTitle='Shots/90',yTitle='Goals/90',title='False Nine - Support')\t"
   ]
  },
  {
   "cell_type": "code",
   "execution_count": null,
   "metadata": {},
   "outputs": [],
   "source": []
  },
  {
   "cell_type": "code",
   "execution_count": null,
   "metadata": {},
   "outputs": [],
   "source": []
  },
  {
   "cell_type": "code",
   "execution_count": null,
   "metadata": {},
   "outputs": [],
   "source": []
  },
  {
   "cell_type": "code",
   "execution_count": null,
   "metadata": {},
   "outputs": [],
   "source": []
  },
  {
   "cell_type": "code",
   "execution_count": null,
   "metadata": {},
   "outputs": [],
   "source": []
  },
  {
   "cell_type": "code",
   "execution_count": null,
   "metadata": {},
   "outputs": [],
   "source": []
  },
  {
   "cell_type": "code",
   "execution_count": null,
   "metadata": {},
   "outputs": [],
   "source": []
  },
  {
   "cell_type": "code",
   "execution_count": null,
   "metadata": {},
   "outputs": [],
   "source": []
  },
  {
   "cell_type": "code",
   "execution_count": null,
   "metadata": {},
   "outputs": [],
   "source": []
  },
  {
   "cell_type": "code",
   "execution_count": null,
   "metadata": {},
   "outputs": [],
   "source": []
  },
  {
   "cell_type": "code",
   "execution_count": null,
   "metadata": {},
   "outputs": [],
   "source": []
  },
  {
   "cell_type": "code",
   "execution_count": null,
   "metadata": {},
   "outputs": [],
   "source": []
  },
  {
   "cell_type": "code",
   "execution_count": null,
   "metadata": {},
   "outputs": [],
   "source": []
  }
 ],
 "metadata": {
  "kernelspec": {
   "display_name": "Python 3",
   "language": "python",
   "name": "python3"
  },
  "language_info": {
   "codemirror_mode": {
    "name": "ipython",
    "version": 3
   },
   "file_extension": ".py",
   "mimetype": "text/x-python",
   "name": "python",
   "nbconvert_exporter": "python",
   "pygments_lexer": "ipython3",
   "version": "3.8.2"
  }
 },
 "nbformat": 4,
 "nbformat_minor": 4
}
