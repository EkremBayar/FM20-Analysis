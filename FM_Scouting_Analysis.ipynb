{
 "cells": [
  {
   "cell_type": "code",
   "execution_count": 1,
   "metadata": {},
   "outputs": [
    {
     "data": {
      "text/html": [
       "        <script type=\"text/javascript\">\n",
       "        window.PlotlyConfig = {MathJaxConfig: 'local'};\n",
       "        if (window.MathJax) {MathJax.Hub.Config({SVG: {font: \"STIX-Web\"}});}\n",
       "        if (typeof require !== 'undefined') {\n",
       "        require.undef(\"plotly\");\n",
       "        requirejs.config({\n",
       "            paths: {\n",
       "                'plotly': ['https://cdn.plot.ly/plotly-latest.min']\n",
       "            }\n",
       "        });\n",
       "        require(['plotly'], function(Plotly) {\n",
       "            window._Plotly = Plotly;\n",
       "        });\n",
       "        }\n",
       "        </script>\n",
       "        "
      ]
     },
     "metadata": {},
     "output_type": "display_data"
    },
    {
     "data": {
      "text/html": [
       "        <script type=\"text/javascript\">\n",
       "        window.PlotlyConfig = {MathJaxConfig: 'local'};\n",
       "        if (window.MathJax) {MathJax.Hub.Config({SVG: {font: \"STIX-Web\"}});}\n",
       "        if (typeof require !== 'undefined') {\n",
       "        require.undef(\"plotly\");\n",
       "        requirejs.config({\n",
       "            paths: {\n",
       "                'plotly': ['https://cdn.plot.ly/plotly-latest.min']\n",
       "            }\n",
       "        });\n",
       "        require(['plotly'], function(Plotly) {\n",
       "            window._Plotly = Plotly;\n",
       "        });\n",
       "        }\n",
       "        </script>\n",
       "        "
      ]
     },
     "metadata": {},
     "output_type": "display_data"
    }
   ],
   "source": [
    "# Import required packages\n",
    "\n",
    "import numpy as np\n",
    "import pandas as pd\n",
    "from plotly.offline import download_plotlyjs, init_notebook_mode, plot, iplot\n",
    "import cufflinks as cf\n",
    "init_notebook_mode(connected=True)\n",
    "cf.go_offline()"
   ]
  },
  {
   "cell_type": "code",
   "execution_count": 2,
   "metadata": {},
   "outputs": [],
   "source": [
    "# Create DataFrame\n",
    "\n",
    "df = pd.read_html(r\"C:\\Users\\stuar\\OneDrive\\My Documents\\P\\Python\\FM20\\XML\\scouting_attributes.html\",skiprows=0)[0]\n",
    "df1 = pd.read_html(r\"C:\\Users\\stuar\\OneDrive\\My Documents\\P\\Python\\FM20\\XML\\scouting_statistics.html\",skiprows=0)[0]\n",
    "\n",
    "# Set DataFrame limits\n",
    "\n",
    "pd.set_option('display.max_columns',50)\n",
    "pd.set_option('display.max_rows',5)\n",
    "pd.set_option('precision', 0)\n",
    "\n",
    "# Create score for each position and club DNA.\n",
    "\n",
    "# DNA\n",
    "df['dna_score'] = df['Agg'] + df['Det'] + df['Tea'] + df['Wor']\n",
    "\n",
    "# Sweeper Keeper\n",
    "df['sk_score'] = df['Com'] + df['Kic'] + df['1v1'] + df['Ref'] + df['TRO'] + df['Ant'] + df['Cmp'] + df['Cnt'] + df['Pos'] + df['Agi']\n",
    "\n",
    "# CWB\n",
    "df['cwb_score'] = df['Cro'] + df['Dri'] + df['Fir'] + df['Pas'] + df['Tec'] + df['Dec'] + df['OtB'] + df['Tea'] + df['Wor'] + df['Acc'] + df['Pac'] + df['Sta']\n",
    "\n",
    "# WB\n",
    "df['wb_score'] = df['Cro'] + df['Dri'] + df['Mar'] + df['Tck'] + df['OtB'] + df['Tea'] + df['Wor'] + df['Acc'] + df['Sta'] \n",
    "\n",
    "# CD\n",
    "df['cd_score'] = df['Hea'] + df['Mar'] + df['Tck'] + df['Pos'] + df['Jum'] + df['Str'] \n",
    "\n",
    "# DM\n",
    "df['dm_score'] = df['Tck'] + df['Ant'] + df['Cnt'] + df['Pos'] + df['Tea'] + df['Wor'] + df['Sta'] \n",
    "\n",
    "# BWM\n",
    "df['bwm_score'] = df['Tck'] + df['Agg'] + df['Ant'] + df['Bra'] + df['Tea'] + df['Wor'] \n",
    "\n",
    "# CAR\n",
    "df['car_score'] = df['Pas'] + df['Tck'] + df['Dec'] + df['Pos'] + df['Tea'] + df['Wor'] + df['Sta'] \n",
    "\n",
    "# IFS\n",
    "df['ifs_score'] = df['Dri'] + df['Fir'] + df['Pas'] + df['Tec'] + df['OtB'] + df['Acc'] + df['Agi'] + df['Bal'] \n",
    "\n",
    "# IFA\n",
    "df['ifa_score'] = df['Dri'] + df['Fin'] + df['Fir'] + df['Tec'] + df['OtB'] + df['Acc'] + df['Agi'] + df['Bal'] \n",
    "\n",
    "# F9\n",
    "df['f9_score'] = df['Dri'] + df['Fir'] + df['Pas'] + df['Tec'] + df['Cmp'] + df['Dec'] + df['OtB'] + df['Vis'] + df['Acc'] + df['Agi']\n"
   ]
  },
  {
   "cell_type": "code",
   "execution_count": 3,
   "metadata": {},
   "outputs": [],
   "source": [
    "# Create custom column on DataFrame for each position and DNA\n",
    "\n",
    "dna = df[['Name', 'Age', 'Agg' , 'Det' , 'Tea' , 'Wor', 'dna_score']]\n",
    "sk = df[['Name', 'Age' , 'Com' , 'Kic' , '1v1', 'Ref', 'TRO', 'Ant', 'Cmp', 'Cnt', 'Pos', 'Agi', 'sk_score']]\n",
    "cwb = df[['Name', 'Age' , 'Cro' , 'Dri', 'Fir', 'Pas', 'Tec', 'Dec', 'OtB', 'Tea', 'Wor', 'Acc', 'Pac', 'Sta', 'cwb_score']]\n",
    "wb = df[['Name', 'Age' , 'Cro' , 'Dri', 'Mar', 'Tck', 'OtB', 'Tea', 'Wor', 'Acc', 'Sta', 'wb_score']] \n",
    "cd = df[['Name', 'Age' ,  'Hea', 'Mar' , 'Tck', 'Pos', 'Jum', 'Str' , 'cd_score']] \n",
    "dm = df[['Name', 'Age' , 'Tck', 'Ant', 'Cnt', 'Pos', 'Tea', 'Wor', 'Sta', 'dm_score']]\n",
    "bwm = df[['Name', 'Age' , 'Tck' , 'Agg' , 'Ant' , 'Bra' , 'Tea' , 'Wor', 'bwm_score']]\n",
    "car = df[['Name', 'Age' , 'Pas', 'Tck', 'Dec', 'Pos', 'Tea', 'Wor', 'Sta', 'car_score']]\n",
    "ifs = df[['Name', 'Age' , 'Dri', 'Fir', 'Pas', 'Tec', 'OtB', 'Acc', 'Agi', 'Bal', 'ifs_score']]\n",
    "ifa = df[['Name', 'Age' , 'Dri', 'Fin', 'Fir', 'Tec', 'OtB', 'Acc', 'Agi', 'Bal', 'ifa_score']]\n",
    "f9 = df[['Name', 'Age' , 'Dri', 'Fir', 'Pas', 'Tec', 'Cmp', 'Dec', 'OtB', 'Vis', 'Acc', 'Agi', 'f9_score']]\n"
   ]
  },
  {
   "cell_type": "code",
   "execution_count": 4,
   "metadata": {},
   "outputs": [
    {
     "name": "stdout",
     "output_type": "stream",
     "text": [
      "DNA\n"
     ]
    },
    {
     "data": {
      "text/html": [
       "<style  type=\"text/css\" >\n",
       "    #T_d6f7ddb8_91d2_11ea_a998_4ceb428e4071row0_col1 {\n",
       "            background-color:  #1764ab;\n",
       "            color:  #f1f1f1;\n",
       "        }    #T_d6f7ddb8_91d2_11ea_a998_4ceb428e4071row0_col2 {\n",
       "            background-color:  #4191c6;\n",
       "            color:  #000000;\n",
       "        }    #T_d6f7ddb8_91d2_11ea_a998_4ceb428e4071row0_col3 {\n",
       "            background-color:  #1764ab;\n",
       "            color:  #f1f1f1;\n",
       "        }    #T_d6f7ddb8_91d2_11ea_a998_4ceb428e4071row0_col4 {\n",
       "            background-color:  #2b7bba;\n",
       "            color:  #000000;\n",
       "        }    #T_d6f7ddb8_91d2_11ea_a998_4ceb428e4071row0_col5 {\n",
       "            background-color:  #3787c0;\n",
       "            color:  #000000;\n",
       "        }    #T_d6f7ddb8_91d2_11ea_a998_4ceb428e4071row0_col6 {\n",
       "            background-color:  #08306b;\n",
       "            color:  #f1f1f1;\n",
       "        }    #T_d6f7ddb8_91d2_11ea_a998_4ceb428e4071row1_col1 {\n",
       "            background-color:  #94c4df;\n",
       "            color:  #000000;\n",
       "        }    #T_d6f7ddb8_91d2_11ea_a998_4ceb428e4071row1_col2 {\n",
       "            background-color:  #08306b;\n",
       "            color:  #f1f1f1;\n",
       "        }    #T_d6f7ddb8_91d2_11ea_a998_4ceb428e4071row1_col3 {\n",
       "            background-color:  #1764ab;\n",
       "            color:  #f1f1f1;\n",
       "        }    #T_d6f7ddb8_91d2_11ea_a998_4ceb428e4071row1_col4 {\n",
       "            background-color:  #f7fbff;\n",
       "            color:  #000000;\n",
       "        }    #T_d6f7ddb8_91d2_11ea_a998_4ceb428e4071row1_col5 {\n",
       "            background-color:  #3787c0;\n",
       "            color:  #000000;\n",
       "        }    #T_d6f7ddb8_91d2_11ea_a998_4ceb428e4071row1_col6 {\n",
       "            background-color:  #6aaed6;\n",
       "            color:  #000000;\n",
       "        }    #T_d6f7ddb8_91d2_11ea_a998_4ceb428e4071row2_col1 {\n",
       "            background-color:  #1764ab;\n",
       "            color:  #f1f1f1;\n",
       "        }    #T_d6f7ddb8_91d2_11ea_a998_4ceb428e4071row2_col2 {\n",
       "            background-color:  #6aaed6;\n",
       "            color:  #000000;\n",
       "        }    #T_d6f7ddb8_91d2_11ea_a998_4ceb428e4071row2_col3 {\n",
       "            background-color:  #4a98c9;\n",
       "            color:  #000000;\n",
       "        }    #T_d6f7ddb8_91d2_11ea_a998_4ceb428e4071row2_col4 {\n",
       "            background-color:  #539ecd;\n",
       "            color:  #000000;\n",
       "        }    #T_d6f7ddb8_91d2_11ea_a998_4ceb428e4071row2_col5 {\n",
       "            background-color:  #08306b;\n",
       "            color:  #f1f1f1;\n",
       "        }    #T_d6f7ddb8_91d2_11ea_a998_4ceb428e4071row2_col6 {\n",
       "            background-color:  #6aaed6;\n",
       "            color:  #000000;\n",
       "        }    #T_d6f7ddb8_91d2_11ea_a998_4ceb428e4071row3_col1 {\n",
       "            background-color:  #08306b;\n",
       "            color:  #f1f1f1;\n",
       "        }    #T_d6f7ddb8_91d2_11ea_a998_4ceb428e4071row3_col2 {\n",
       "            background-color:  #f7fbff;\n",
       "            color:  #000000;\n",
       "        }    #T_d6f7ddb8_91d2_11ea_a998_4ceb428e4071row3_col3 {\n",
       "            background-color:  #08306b;\n",
       "            color:  #f1f1f1;\n",
       "        }    #T_d6f7ddb8_91d2_11ea_a998_4ceb428e4071row3_col4 {\n",
       "            background-color:  #0b559f;\n",
       "            color:  #f1f1f1;\n",
       "        }    #T_d6f7ddb8_91d2_11ea_a998_4ceb428e4071row3_col5 {\n",
       "            background-color:  #6aaed6;\n",
       "            color:  #000000;\n",
       "        }    #T_d6f7ddb8_91d2_11ea_a998_4ceb428e4071row3_col6 {\n",
       "            background-color:  #c6dbef;\n",
       "            color:  #000000;\n",
       "        }    #T_d6f7ddb8_91d2_11ea_a998_4ceb428e4071row4_col1 {\n",
       "            background-color:  #f7fbff;\n",
       "            color:  #000000;\n",
       "        }    #T_d6f7ddb8_91d2_11ea_a998_4ceb428e4071row4_col2 {\n",
       "            background-color:  #08306b;\n",
       "            color:  #f1f1f1;\n",
       "        }    #T_d6f7ddb8_91d2_11ea_a998_4ceb428e4071row4_col3 {\n",
       "            background-color:  #f7fbff;\n",
       "            color:  #000000;\n",
       "        }    #T_d6f7ddb8_91d2_11ea_a998_4ceb428e4071row4_col4 {\n",
       "            background-color:  #08306b;\n",
       "            color:  #f1f1f1;\n",
       "        }    #T_d6f7ddb8_91d2_11ea_a998_4ceb428e4071row4_col5 {\n",
       "            background-color:  #3787c0;\n",
       "            color:  #000000;\n",
       "        }    #T_d6f7ddb8_91d2_11ea_a998_4ceb428e4071row4_col6 {\n",
       "            background-color:  #c6dbef;\n",
       "            color:  #000000;\n",
       "        }    #T_d6f7ddb8_91d2_11ea_a998_4ceb428e4071row5_col1 {\n",
       "            background-color:  #08306b;\n",
       "            color:  #f1f1f1;\n",
       "        }    #T_d6f7ddb8_91d2_11ea_a998_4ceb428e4071row5_col2 {\n",
       "            background-color:  #2070b4;\n",
       "            color:  #f1f1f1;\n",
       "        }    #T_d6f7ddb8_91d2_11ea_a998_4ceb428e4071row5_col3 {\n",
       "            background-color:  #94c4df;\n",
       "            color:  #000000;\n",
       "        }    #T_d6f7ddb8_91d2_11ea_a998_4ceb428e4071row5_col4 {\n",
       "            background-color:  #0b559f;\n",
       "            color:  #f1f1f1;\n",
       "        }    #T_d6f7ddb8_91d2_11ea_a998_4ceb428e4071row5_col5 {\n",
       "            background-color:  #6aaed6;\n",
       "            color:  #000000;\n",
       "        }    #T_d6f7ddb8_91d2_11ea_a998_4ceb428e4071row5_col6 {\n",
       "            background-color:  #c6dbef;\n",
       "            color:  #000000;\n",
       "        }    #T_d6f7ddb8_91d2_11ea_a998_4ceb428e4071row6_col1 {\n",
       "            background-color:  #d0e1f2;\n",
       "            color:  #000000;\n",
       "        }    #T_d6f7ddb8_91d2_11ea_a998_4ceb428e4071row6_col2 {\n",
       "            background-color:  #c6dbef;\n",
       "            color:  #000000;\n",
       "        }    #T_d6f7ddb8_91d2_11ea_a998_4ceb428e4071row6_col3 {\n",
       "            background-color:  #2e7ebc;\n",
       "            color:  #000000;\n",
       "        }    #T_d6f7ddb8_91d2_11ea_a998_4ceb428e4071row6_col4 {\n",
       "            background-color:  #2b7bba;\n",
       "            color:  #000000;\n",
       "        }    #T_d6f7ddb8_91d2_11ea_a998_4ceb428e4071row6_col5 {\n",
       "            background-color:  #105ba4;\n",
       "            color:  #f1f1f1;\n",
       "        }    #T_d6f7ddb8_91d2_11ea_a998_4ceb428e4071row6_col6 {\n",
       "            background-color:  #c6dbef;\n",
       "            color:  #000000;\n",
       "        }    #T_d6f7ddb8_91d2_11ea_a998_4ceb428e4071row7_col1 {\n",
       "            background-color:  #d0e1f2;\n",
       "            color:  #000000;\n",
       "        }    #T_d6f7ddb8_91d2_11ea_a998_4ceb428e4071row7_col2 {\n",
       "            background-color:  #6aaed6;\n",
       "            color:  #000000;\n",
       "        }    #T_d6f7ddb8_91d2_11ea_a998_4ceb428e4071row7_col3 {\n",
       "            background-color:  #1764ab;\n",
       "            color:  #f1f1f1;\n",
       "        }    #T_d6f7ddb8_91d2_11ea_a998_4ceb428e4071row7_col4 {\n",
       "            background-color:  #539ecd;\n",
       "            color:  #000000;\n",
       "        }    #T_d6f7ddb8_91d2_11ea_a998_4ceb428e4071row7_col5 {\n",
       "            background-color:  #abd0e6;\n",
       "            color:  #000000;\n",
       "        }    #T_d6f7ddb8_91d2_11ea_a998_4ceb428e4071row7_col6 {\n",
       "            background-color:  #f7fbff;\n",
       "            color:  #000000;\n",
       "        }    #T_d6f7ddb8_91d2_11ea_a998_4ceb428e4071row8_col1 {\n",
       "            background-color:  #08306b;\n",
       "            color:  #f1f1f1;\n",
       "        }    #T_d6f7ddb8_91d2_11ea_a998_4ceb428e4071row8_col2 {\n",
       "            background-color:  #4191c6;\n",
       "            color:  #000000;\n",
       "        }    #T_d6f7ddb8_91d2_11ea_a998_4ceb428e4071row8_col3 {\n",
       "            background-color:  #1764ab;\n",
       "            color:  #f1f1f1;\n",
       "        }    #T_d6f7ddb8_91d2_11ea_a998_4ceb428e4071row8_col4 {\n",
       "            background-color:  #539ecd;\n",
       "            color:  #000000;\n",
       "        }    #T_d6f7ddb8_91d2_11ea_a998_4ceb428e4071row8_col5 {\n",
       "            background-color:  #d6e6f4;\n",
       "            color:  #000000;\n",
       "        }    #T_d6f7ddb8_91d2_11ea_a998_4ceb428e4071row8_col6 {\n",
       "            background-color:  #f7fbff;\n",
       "            color:  #000000;\n",
       "        }    #T_d6f7ddb8_91d2_11ea_a998_4ceb428e4071row9_col1 {\n",
       "            background-color:  #4a98c9;\n",
       "            color:  #000000;\n",
       "        }    #T_d6f7ddb8_91d2_11ea_a998_4ceb428e4071row9_col2 {\n",
       "            background-color:  #08306b;\n",
       "            color:  #f1f1f1;\n",
       "        }    #T_d6f7ddb8_91d2_11ea_a998_4ceb428e4071row9_col3 {\n",
       "            background-color:  #6aaed6;\n",
       "            color:  #000000;\n",
       "        }    #T_d6f7ddb8_91d2_11ea_a998_4ceb428e4071row9_col4 {\n",
       "            background-color:  #2b7bba;\n",
       "            color:  #000000;\n",
       "        }    #T_d6f7ddb8_91d2_11ea_a998_4ceb428e4071row9_col5 {\n",
       "            background-color:  #f7fbff;\n",
       "            color:  #000000;\n",
       "        }    #T_d6f7ddb8_91d2_11ea_a998_4ceb428e4071row9_col6 {\n",
       "            background-color:  #f7fbff;\n",
       "            color:  #000000;\n",
       "        }</style><table id=\"T_d6f7ddb8_91d2_11ea_a998_4ceb428e4071\" ><thead>    <tr>        <th class=\"col_heading level0 col0\" >Name</th>        <th class=\"col_heading level0 col1\" >Age</th>        <th class=\"col_heading level0 col2\" >Agg</th>        <th class=\"col_heading level0 col3\" >Det</th>        <th class=\"col_heading level0 col4\" >Tea</th>        <th class=\"col_heading level0 col5\" >Wor</th>        <th class=\"col_heading level0 col6\" >dna_score</th>    </tr></thead><tbody>\n",
       "                <tr>\n",
       "                                <td id=\"T_d6f7ddb8_91d2_11ea_a998_4ceb428e4071row0_col0\" class=\"data row0 col0\" >Daniel Liszka</td>\n",
       "                        <td id=\"T_d6f7ddb8_91d2_11ea_a998_4ceb428e4071row0_col1\" class=\"data row0 col1\" >                  22</td>\n",
       "                        <td id=\"T_d6f7ddb8_91d2_11ea_a998_4ceb428e4071row0_col2\" class=\"data row0 col2\" >15</td>\n",
       "                        <td id=\"T_d6f7ddb8_91d2_11ea_a998_4ceb428e4071row0_col3\" class=\"data row0 col3\" >18</td>\n",
       "                        <td id=\"T_d6f7ddb8_91d2_11ea_a998_4ceb428e4071row0_col4\" class=\"data row0 col4\" >17</td>\n",
       "                        <td id=\"T_d6f7ddb8_91d2_11ea_a998_4ceb428e4071row0_col5\" class=\"data row0 col5\" >16</td>\n",
       "                        <td id=\"T_d6f7ddb8_91d2_11ea_a998_4ceb428e4071row0_col6\" class=\"data row0 col6\" >66</td>\n",
       "            </tr>\n",
       "            <tr>\n",
       "                                <td id=\"T_d6f7ddb8_91d2_11ea_a998_4ceb428e4071row1_col0\" class=\"data row1 col0\" >Jakub Niewiadomski</td>\n",
       "                        <td id=\"T_d6f7ddb8_91d2_11ea_a998_4ceb428e4071row1_col1\" class=\"data row1 col1\" >                  20</td>\n",
       "                        <td id=\"T_d6f7ddb8_91d2_11ea_a998_4ceb428e4071row1_col2\" class=\"data row1 col2\" >18</td>\n",
       "                        <td id=\"T_d6f7ddb8_91d2_11ea_a998_4ceb428e4071row1_col3\" class=\"data row1 col3\" >18</td>\n",
       "                        <td id=\"T_d6f7ddb8_91d2_11ea_a998_4ceb428e4071row1_col4\" class=\"data row1 col4\" >12</td>\n",
       "                        <td id=\"T_d6f7ddb8_91d2_11ea_a998_4ceb428e4071row1_col5\" class=\"data row1 col5\" >16</td>\n",
       "                        <td id=\"T_d6f7ddb8_91d2_11ea_a998_4ceb428e4071row1_col6\" class=\"data row1 col6\" >64</td>\n",
       "            </tr>\n",
       "            <tr>\n",
       "                                <td id=\"T_d6f7ddb8_91d2_11ea_a998_4ceb428e4071row2_col0\" class=\"data row2 col0\" >Miodrag Maljkovic</td>\n",
       "                        <td id=\"T_d6f7ddb8_91d2_11ea_a998_4ceb428e4071row2_col1\" class=\"data row2 col1\" >                  22</td>\n",
       "                        <td id=\"T_d6f7ddb8_91d2_11ea_a998_4ceb428e4071row2_col2\" class=\"data row2 col2\" >14</td>\n",
       "                        <td id=\"T_d6f7ddb8_91d2_11ea_a998_4ceb428e4071row2_col3\" class=\"data row2 col3\" >16</td>\n",
       "                        <td id=\"T_d6f7ddb8_91d2_11ea_a998_4ceb428e4071row2_col4\" class=\"data row2 col4\" >16</td>\n",
       "                        <td id=\"T_d6f7ddb8_91d2_11ea_a998_4ceb428e4071row2_col5\" class=\"data row2 col5\" >18</td>\n",
       "                        <td id=\"T_d6f7ddb8_91d2_11ea_a998_4ceb428e4071row2_col6\" class=\"data row2 col6\" >64</td>\n",
       "            </tr>\n",
       "            <tr>\n",
       "                                <td id=\"T_d6f7ddb8_91d2_11ea_a998_4ceb428e4071row3_col0\" class=\"data row3 col0\" >Elvis Novalic</td>\n",
       "                        <td id=\"T_d6f7ddb8_91d2_11ea_a998_4ceb428e4071row3_col1\" class=\"data row3 col1\" >                  23</td>\n",
       "                        <td id=\"T_d6f7ddb8_91d2_11ea_a998_4ceb428e4071row3_col2\" class=\"data row3 col2\" >10</td>\n",
       "                        <td id=\"T_d6f7ddb8_91d2_11ea_a998_4ceb428e4071row3_col3\" class=\"data row3 col3\" >20</td>\n",
       "                        <td id=\"T_d6f7ddb8_91d2_11ea_a998_4ceb428e4071row3_col4\" class=\"data row3 col4\" >18</td>\n",
       "                        <td id=\"T_d6f7ddb8_91d2_11ea_a998_4ceb428e4071row3_col5\" class=\"data row3 col5\" >15</td>\n",
       "                        <td id=\"T_d6f7ddb8_91d2_11ea_a998_4ceb428e4071row3_col6\" class=\"data row3 col6\" >63</td>\n",
       "            </tr>\n",
       "            <tr>\n",
       "                                <td id=\"T_d6f7ddb8_91d2_11ea_a998_4ceb428e4071row4_col0\" class=\"data row4 col0\" >Daniel Piesio</td>\n",
       "                        <td id=\"T_d6f7ddb8_91d2_11ea_a998_4ceb428e4071row4_col1\" class=\"data row4 col1\" >                  18</td>\n",
       "                        <td id=\"T_d6f7ddb8_91d2_11ea_a998_4ceb428e4071row4_col2\" class=\"data row4 col2\" >18</td>\n",
       "                        <td id=\"T_d6f7ddb8_91d2_11ea_a998_4ceb428e4071row4_col3\" class=\"data row4 col3\" >10</td>\n",
       "                        <td id=\"T_d6f7ddb8_91d2_11ea_a998_4ceb428e4071row4_col4\" class=\"data row4 col4\" >19</td>\n",
       "                        <td id=\"T_d6f7ddb8_91d2_11ea_a998_4ceb428e4071row4_col5\" class=\"data row4 col5\" >16</td>\n",
       "                        <td id=\"T_d6f7ddb8_91d2_11ea_a998_4ceb428e4071row4_col6\" class=\"data row4 col6\" >63</td>\n",
       "            </tr>\n",
       "            <tr>\n",
       "                                <td id=\"T_d6f7ddb8_91d2_11ea_a998_4ceb428e4071row5_col0\" class=\"data row5 col0\" >Patrik Delic</td>\n",
       "                        <td id=\"T_d6f7ddb8_91d2_11ea_a998_4ceb428e4071row5_col1\" class=\"data row5 col1\" >                  23</td>\n",
       "                        <td id=\"T_d6f7ddb8_91d2_11ea_a998_4ceb428e4071row5_col2\" class=\"data row5 col2\" >16</td>\n",
       "                        <td id=\"T_d6f7ddb8_91d2_11ea_a998_4ceb428e4071row5_col3\" class=\"data row5 col3\" >14</td>\n",
       "                        <td id=\"T_d6f7ddb8_91d2_11ea_a998_4ceb428e4071row5_col4\" class=\"data row5 col4\" >18</td>\n",
       "                        <td id=\"T_d6f7ddb8_91d2_11ea_a998_4ceb428e4071row5_col5\" class=\"data row5 col5\" >15</td>\n",
       "                        <td id=\"T_d6f7ddb8_91d2_11ea_a998_4ceb428e4071row5_col6\" class=\"data row5 col6\" >63</td>\n",
       "            </tr>\n",
       "            <tr>\n",
       "                                <td id=\"T_d6f7ddb8_91d2_11ea_a998_4ceb428e4071row6_col0\" class=\"data row6 col0\" >Martin Baturina</td>\n",
       "                        <td id=\"T_d6f7ddb8_91d2_11ea_a998_4ceb428e4071row6_col1\" class=\"data row6 col1\" >                  19</td>\n",
       "                        <td id=\"T_d6f7ddb8_91d2_11ea_a998_4ceb428e4071row6_col2\" class=\"data row6 col2\" >12</td>\n",
       "                        <td id=\"T_d6f7ddb8_91d2_11ea_a998_4ceb428e4071row6_col3\" class=\"data row6 col3\" >17</td>\n",
       "                        <td id=\"T_d6f7ddb8_91d2_11ea_a998_4ceb428e4071row6_col4\" class=\"data row6 col4\" >17</td>\n",
       "                        <td id=\"T_d6f7ddb8_91d2_11ea_a998_4ceb428e4071row6_col5\" class=\"data row6 col5\" >17</td>\n",
       "                        <td id=\"T_d6f7ddb8_91d2_11ea_a998_4ceb428e4071row6_col6\" class=\"data row6 col6\" >63</td>\n",
       "            </tr>\n",
       "            <tr>\n",
       "                                <td id=\"T_d6f7ddb8_91d2_11ea_a998_4ceb428e4071row7_col0\" class=\"data row7 col0\" >Kacper Szmidt</td>\n",
       "                        <td id=\"T_d6f7ddb8_91d2_11ea_a998_4ceb428e4071row7_col1\" class=\"data row7 col1\" >                  19</td>\n",
       "                        <td id=\"T_d6f7ddb8_91d2_11ea_a998_4ceb428e4071row7_col2\" class=\"data row7 col2\" >14</td>\n",
       "                        <td id=\"T_d6f7ddb8_91d2_11ea_a998_4ceb428e4071row7_col3\" class=\"data row7 col3\" >18</td>\n",
       "                        <td id=\"T_d6f7ddb8_91d2_11ea_a998_4ceb428e4071row7_col4\" class=\"data row7 col4\" >16</td>\n",
       "                        <td id=\"T_d6f7ddb8_91d2_11ea_a998_4ceb428e4071row7_col5\" class=\"data row7 col5\" >14</td>\n",
       "                        <td id=\"T_d6f7ddb8_91d2_11ea_a998_4ceb428e4071row7_col6\" class=\"data row7 col6\" >62</td>\n",
       "            </tr>\n",
       "            <tr>\n",
       "                                <td id=\"T_d6f7ddb8_91d2_11ea_a998_4ceb428e4071row8_col0\" class=\"data row8 col0\" >Ivo Kralj</td>\n",
       "                        <td id=\"T_d6f7ddb8_91d2_11ea_a998_4ceb428e4071row8_col1\" class=\"data row8 col1\" >                  23</td>\n",
       "                        <td id=\"T_d6f7ddb8_91d2_11ea_a998_4ceb428e4071row8_col2\" class=\"data row8 col2\" >15</td>\n",
       "                        <td id=\"T_d6f7ddb8_91d2_11ea_a998_4ceb428e4071row8_col3\" class=\"data row8 col3\" >18</td>\n",
       "                        <td id=\"T_d6f7ddb8_91d2_11ea_a998_4ceb428e4071row8_col4\" class=\"data row8 col4\" >16</td>\n",
       "                        <td id=\"T_d6f7ddb8_91d2_11ea_a998_4ceb428e4071row8_col5\" class=\"data row8 col5\" >13</td>\n",
       "                        <td id=\"T_d6f7ddb8_91d2_11ea_a998_4ceb428e4071row8_col6\" class=\"data row8 col6\" >62</td>\n",
       "            </tr>\n",
       "            <tr>\n",
       "                                <td id=\"T_d6f7ddb8_91d2_11ea_a998_4ceb428e4071row9_col0\" class=\"data row9 col0\" >Mikolaj Labojko</td>\n",
       "                        <td id=\"T_d6f7ddb8_91d2_11ea_a998_4ceb428e4071row9_col1\" class=\"data row9 col1\" >                  21</td>\n",
       "                        <td id=\"T_d6f7ddb8_91d2_11ea_a998_4ceb428e4071row9_col2\" class=\"data row9 col2\" >18</td>\n",
       "                        <td id=\"T_d6f7ddb8_91d2_11ea_a998_4ceb428e4071row9_col3\" class=\"data row9 col3\" >15</td>\n",
       "                        <td id=\"T_d6f7ddb8_91d2_11ea_a998_4ceb428e4071row9_col4\" class=\"data row9 col4\" >17</td>\n",
       "                        <td id=\"T_d6f7ddb8_91d2_11ea_a998_4ceb428e4071row9_col5\" class=\"data row9 col5\" >12</td>\n",
       "                        <td id=\"T_d6f7ddb8_91d2_11ea_a998_4ceb428e4071row9_col6\" class=\"data row9 col6\" >62</td>\n",
       "            </tr>\n",
       "    </tbody></table>"
      ],
      "text/plain": [
       "<pandas.io.formats.style.Styler at 0xb8c6f40>"
      ]
     },
     "execution_count": 4,
     "metadata": {},
     "output_type": "execute_result"
    }
   ],
   "source": [
    "# Club DNA Score\n",
    "# change number inside head() to decide how many rows to display\n",
    "\n",
    "print(\"DNA\")\n",
    "sorted_dna = dna.sort_values(by='dna_score', ascending=False)\n",
    "sorted_dna.head(10).style.format({\"Age\": \"{:20,.0f}\", \n",
    "                          })\\\n",
    "                   .hide_index()\\\n",
    "                   .background_gradient(cmap='Blues')"
   ]
  },
  {
   "cell_type": "code",
   "execution_count": 5,
   "metadata": {},
   "outputs": [],
   "source": [
    "# Print Column Names to choose plot values\n",
    "#for col in df1.columns: \n",
    "#    print(col) "
   ]
  },
  {
   "cell_type": "code",
   "execution_count": 6,
   "metadata": {},
   "outputs": [
    {
     "name": "stdout",
     "output_type": "stream",
     "text": [
      "Sweeper Keeper - Support\n"
     ]
    },
    {
     "data": {
      "text/html": [
       "<style  type=\"text/css\" >\n",
       "    #T_d717bcbe_91d2_11ea_a4a1_4ceb428e4071row0_col1 {\n",
       "            background-color:  #6aaed6;\n",
       "            color:  #000000;\n",
       "        }    #T_d717bcbe_91d2_11ea_a4a1_4ceb428e4071row0_col2 {\n",
       "            background-color:  #4a98c9;\n",
       "            color:  #000000;\n",
       "        }    #T_d717bcbe_91d2_11ea_a4a1_4ceb428e4071row0_col3 {\n",
       "            background-color:  #08306b;\n",
       "            color:  #f1f1f1;\n",
       "        }    #T_d717bcbe_91d2_11ea_a4a1_4ceb428e4071row0_col4 {\n",
       "            background-color:  #4191c6;\n",
       "            color:  #000000;\n",
       "        }    #T_d717bcbe_91d2_11ea_a4a1_4ceb428e4071row0_col5 {\n",
       "            background-color:  #2070b4;\n",
       "            color:  #f1f1f1;\n",
       "        }    #T_d717bcbe_91d2_11ea_a4a1_4ceb428e4071row0_col6 {\n",
       "            background-color:  #5ca4d0;\n",
       "            color:  #000000;\n",
       "        }    #T_d717bcbe_91d2_11ea_a4a1_4ceb428e4071row0_col7 {\n",
       "            background-color:  #08306b;\n",
       "            color:  #f1f1f1;\n",
       "        }    #T_d717bcbe_91d2_11ea_a4a1_4ceb428e4071row0_col8 {\n",
       "            background-color:  #4191c6;\n",
       "            color:  #000000;\n",
       "        }    #T_d717bcbe_91d2_11ea_a4a1_4ceb428e4071row0_col9 {\n",
       "            background-color:  #08306b;\n",
       "            color:  #f1f1f1;\n",
       "        }    #T_d717bcbe_91d2_11ea_a4a1_4ceb428e4071row0_col10 {\n",
       "            background-color:  #6aaed6;\n",
       "            color:  #000000;\n",
       "        }    #T_d717bcbe_91d2_11ea_a4a1_4ceb428e4071row0_col11 {\n",
       "            background-color:  #0b559f;\n",
       "            color:  #f1f1f1;\n",
       "        }    #T_d717bcbe_91d2_11ea_a4a1_4ceb428e4071row0_col12 {\n",
       "            background-color:  #08306b;\n",
       "            color:  #f1f1f1;\n",
       "        }    #T_d717bcbe_91d2_11ea_a4a1_4ceb428e4071row1_col1 {\n",
       "            background-color:  #08306b;\n",
       "            color:  #f1f1f1;\n",
       "        }    #T_d717bcbe_91d2_11ea_a4a1_4ceb428e4071row1_col2 {\n",
       "            background-color:  #4a98c9;\n",
       "            color:  #000000;\n",
       "        }    #T_d717bcbe_91d2_11ea_a4a1_4ceb428e4071row1_col3 {\n",
       "            background-color:  #f7fbff;\n",
       "            color:  #000000;\n",
       "        }    #T_d717bcbe_91d2_11ea_a4a1_4ceb428e4071row1_col4 {\n",
       "            background-color:  #08306b;\n",
       "            color:  #f1f1f1;\n",
       "        }    #T_d717bcbe_91d2_11ea_a4a1_4ceb428e4071row1_col5 {\n",
       "            background-color:  #08306b;\n",
       "            color:  #f1f1f1;\n",
       "        }    #T_d717bcbe_91d2_11ea_a4a1_4ceb428e4071row1_col6 {\n",
       "            background-color:  #3f8fc5;\n",
       "            color:  #000000;\n",
       "        }    #T_d717bcbe_91d2_11ea_a4a1_4ceb428e4071row1_col7 {\n",
       "            background-color:  #08306b;\n",
       "            color:  #f1f1f1;\n",
       "        }    #T_d717bcbe_91d2_11ea_a4a1_4ceb428e4071row1_col8 {\n",
       "            background-color:  #2070b4;\n",
       "            color:  #f1f1f1;\n",
       "        }    #T_d717bcbe_91d2_11ea_a4a1_4ceb428e4071row1_col9 {\n",
       "            background-color:  #4a98c9;\n",
       "            color:  #000000;\n",
       "        }    #T_d717bcbe_91d2_11ea_a4a1_4ceb428e4071row1_col10 {\n",
       "            background-color:  #3787c0;\n",
       "            color:  #000000;\n",
       "        }    #T_d717bcbe_91d2_11ea_a4a1_4ceb428e4071row1_col11 {\n",
       "            background-color:  #2b7bba;\n",
       "            color:  #000000;\n",
       "        }    #T_d717bcbe_91d2_11ea_a4a1_4ceb428e4071row1_col12 {\n",
       "            background-color:  #0a549e;\n",
       "            color:  #f1f1f1;\n",
       "        }    #T_d717bcbe_91d2_11ea_a4a1_4ceb428e4071row2_col1 {\n",
       "            background-color:  #2070b4;\n",
       "            color:  #f1f1f1;\n",
       "        }    #T_d717bcbe_91d2_11ea_a4a1_4ceb428e4071row2_col2 {\n",
       "            background-color:  #1764ab;\n",
       "            color:  #f1f1f1;\n",
       "        }    #T_d717bcbe_91d2_11ea_a4a1_4ceb428e4071row2_col3 {\n",
       "            background-color:  #abd0e6;\n",
       "            color:  #000000;\n",
       "        }    #T_d717bcbe_91d2_11ea_a4a1_4ceb428e4071row2_col4 {\n",
       "            background-color:  #4191c6;\n",
       "            color:  #000000;\n",
       "        }    #T_d717bcbe_91d2_11ea_a4a1_4ceb428e4071row2_col5 {\n",
       "            background-color:  #6aaed6;\n",
       "            color:  #000000;\n",
       "        }    #T_d717bcbe_91d2_11ea_a4a1_4ceb428e4071row2_col6 {\n",
       "            background-color:  #d3e4f3;\n",
       "            color:  #000000;\n",
       "        }    #T_d717bcbe_91d2_11ea_a4a1_4ceb428e4071row2_col7 {\n",
       "            background-color:  #105ba4;\n",
       "            color:  #f1f1f1;\n",
       "        }    #T_d717bcbe_91d2_11ea_a4a1_4ceb428e4071row2_col8 {\n",
       "            background-color:  #2070b4;\n",
       "            color:  #f1f1f1;\n",
       "        }    #T_d717bcbe_91d2_11ea_a4a1_4ceb428e4071row2_col9 {\n",
       "            background-color:  #4a98c9;\n",
       "            color:  #000000;\n",
       "        }    #T_d717bcbe_91d2_11ea_a4a1_4ceb428e4071row2_col10 {\n",
       "            background-color:  #08306b;\n",
       "            color:  #f1f1f1;\n",
       "        }    #T_d717bcbe_91d2_11ea_a4a1_4ceb428e4071row2_col11 {\n",
       "            background-color:  #08306b;\n",
       "            color:  #f1f1f1;\n",
       "        }    #T_d717bcbe_91d2_11ea_a4a1_4ceb428e4071row2_col12 {\n",
       "            background-color:  #2777b8;\n",
       "            color:  #000000;\n",
       "        }    #T_d717bcbe_91d2_11ea_a4a1_4ceb428e4071row3_col1 {\n",
       "            background-color:  #08306b;\n",
       "            color:  #f1f1f1;\n",
       "        }    #T_d717bcbe_91d2_11ea_a4a1_4ceb428e4071row3_col2 {\n",
       "            background-color:  #1764ab;\n",
       "            color:  #f1f1f1;\n",
       "        }    #T_d717bcbe_91d2_11ea_a4a1_4ceb428e4071row3_col3 {\n",
       "            background-color:  #abd0e6;\n",
       "            color:  #000000;\n",
       "        }    #T_d717bcbe_91d2_11ea_a4a1_4ceb428e4071row3_col4 {\n",
       "            background-color:  #6aaed6;\n",
       "            color:  #000000;\n",
       "        }    #T_d717bcbe_91d2_11ea_a4a1_4ceb428e4071row3_col5 {\n",
       "            background-color:  #f7fbff;\n",
       "            color:  #000000;\n",
       "        }    #T_d717bcbe_91d2_11ea_a4a1_4ceb428e4071row3_col6 {\n",
       "            background-color:  #2676b8;\n",
       "            color:  #000000;\n",
       "        }    #T_d717bcbe_91d2_11ea_a4a1_4ceb428e4071row3_col7 {\n",
       "            background-color:  #3787c0;\n",
       "            color:  #000000;\n",
       "        }    #T_d717bcbe_91d2_11ea_a4a1_4ceb428e4071row3_col8 {\n",
       "            background-color:  #08306b;\n",
       "            color:  #f1f1f1;\n",
       "        }    #T_d717bcbe_91d2_11ea_a4a1_4ceb428e4071row3_col9 {\n",
       "            background-color:  #94c4df;\n",
       "            color:  #000000;\n",
       "        }    #T_d717bcbe_91d2_11ea_a4a1_4ceb428e4071row3_col10 {\n",
       "            background-color:  #abd0e6;\n",
       "            color:  #000000;\n",
       "        }    #T_d717bcbe_91d2_11ea_a4a1_4ceb428e4071row3_col11 {\n",
       "            background-color:  #89bedc;\n",
       "            color:  #000000;\n",
       "        }    #T_d717bcbe_91d2_11ea_a4a1_4ceb428e4071row3_col12 {\n",
       "            background-color:  #65aad4;\n",
       "            color:  #000000;\n",
       "        }    #T_d717bcbe_91d2_11ea_a4a1_4ceb428e4071row4_col1 {\n",
       "            background-color:  #2070b4;\n",
       "            color:  #f1f1f1;\n",
       "        }    #T_d717bcbe_91d2_11ea_a4a1_4ceb428e4071row4_col2 {\n",
       "            background-color:  #4a98c9;\n",
       "            color:  #000000;\n",
       "        }    #T_d717bcbe_91d2_11ea_a4a1_4ceb428e4071row4_col3 {\n",
       "            background-color:  #abd0e6;\n",
       "            color:  #000000;\n",
       "        }    #T_d717bcbe_91d2_11ea_a4a1_4ceb428e4071row4_col4 {\n",
       "            background-color:  #6aaed6;\n",
       "            color:  #000000;\n",
       "        }    #T_d717bcbe_91d2_11ea_a4a1_4ceb428e4071row4_col5 {\n",
       "            background-color:  #6aaed6;\n",
       "            color:  #000000;\n",
       "        }    #T_d717bcbe_91d2_11ea_a4a1_4ceb428e4071row4_col6 {\n",
       "            background-color:  #135fa7;\n",
       "            color:  #f1f1f1;\n",
       "        }    #T_d717bcbe_91d2_11ea_a4a1_4ceb428e4071row4_col7 {\n",
       "            background-color:  #3787c0;\n",
       "            color:  #000000;\n",
       "        }    #T_d717bcbe_91d2_11ea_a4a1_4ceb428e4071row4_col8 {\n",
       "            background-color:  #4191c6;\n",
       "            color:  #000000;\n",
       "        }    #T_d717bcbe_91d2_11ea_a4a1_4ceb428e4071row4_col9 {\n",
       "            background-color:  #6aaed6;\n",
       "            color:  #000000;\n",
       "        }    #T_d717bcbe_91d2_11ea_a4a1_4ceb428e4071row4_col10 {\n",
       "            background-color:  #d6e6f4;\n",
       "            color:  #000000;\n",
       "        }    #T_d717bcbe_91d2_11ea_a4a1_4ceb428e4071row4_col11 {\n",
       "            background-color:  #f7fbff;\n",
       "            color:  #000000;\n",
       "        }    #T_d717bcbe_91d2_11ea_a4a1_4ceb428e4071row4_col12 {\n",
       "            background-color:  #9cc9e1;\n",
       "            color:  #000000;\n",
       "        }    #T_d717bcbe_91d2_11ea_a4a1_4ceb428e4071row5_col1 {\n",
       "            background-color:  #c6dbef;\n",
       "            color:  #000000;\n",
       "        }    #T_d717bcbe_91d2_11ea_a4a1_4ceb428e4071row5_col2 {\n",
       "            background-color:  #d0e1f2;\n",
       "            color:  #000000;\n",
       "        }    #T_d717bcbe_91d2_11ea_a4a1_4ceb428e4071row5_col3 {\n",
       "            background-color:  #6aaed6;\n",
       "            color:  #000000;\n",
       "        }    #T_d717bcbe_91d2_11ea_a4a1_4ceb428e4071row5_col4 {\n",
       "            background-color:  #f7fbff;\n",
       "            color:  #000000;\n",
       "        }    #T_d717bcbe_91d2_11ea_a4a1_4ceb428e4071row5_col5 {\n",
       "            background-color:  #2070b4;\n",
       "            color:  #f1f1f1;\n",
       "        }    #T_d717bcbe_91d2_11ea_a4a1_4ceb428e4071row5_col6 {\n",
       "            background-color:  #3f8fc5;\n",
       "            color:  #000000;\n",
       "        }    #T_d717bcbe_91d2_11ea_a4a1_4ceb428e4071row5_col7 {\n",
       "            background-color:  #f7fbff;\n",
       "            color:  #000000;\n",
       "        }    #T_d717bcbe_91d2_11ea_a4a1_4ceb428e4071row5_col8 {\n",
       "            background-color:  #6aaed6;\n",
       "            color:  #000000;\n",
       "        }    #T_d717bcbe_91d2_11ea_a4a1_4ceb428e4071row5_col9 {\n",
       "            background-color:  #4a98c9;\n",
       "            color:  #000000;\n",
       "        }    #T_d717bcbe_91d2_11ea_a4a1_4ceb428e4071row5_col10 {\n",
       "            background-color:  #3787c0;\n",
       "            color:  #000000;\n",
       "        }    #T_d717bcbe_91d2_11ea_a4a1_4ceb428e4071row5_col11 {\n",
       "            background-color:  #08306b;\n",
       "            color:  #f1f1f1;\n",
       "        }    #T_d717bcbe_91d2_11ea_a4a1_4ceb428e4071row5_col12 {\n",
       "            background-color:  #9cc9e1;\n",
       "            color:  #000000;\n",
       "        }    #T_d717bcbe_91d2_11ea_a4a1_4ceb428e4071row6_col1 {\n",
       "            background-color:  #f7fbff;\n",
       "            color:  #000000;\n",
       "        }    #T_d717bcbe_91d2_11ea_a4a1_4ceb428e4071row6_col2 {\n",
       "            background-color:  #f7fbff;\n",
       "            color:  #000000;\n",
       "        }    #T_d717bcbe_91d2_11ea_a4a1_4ceb428e4071row6_col3 {\n",
       "            background-color:  #6aaed6;\n",
       "            color:  #000000;\n",
       "        }    #T_d717bcbe_91d2_11ea_a4a1_4ceb428e4071row6_col4 {\n",
       "            background-color:  #2070b4;\n",
       "            color:  #f1f1f1;\n",
       "        }    #T_d717bcbe_91d2_11ea_a4a1_4ceb428e4071row6_col5 {\n",
       "            background-color:  #f7fbff;\n",
       "            color:  #000000;\n",
       "        }    #T_d717bcbe_91d2_11ea_a4a1_4ceb428e4071row6_col6 {\n",
       "            background-color:  #08306b;\n",
       "            color:  #f1f1f1;\n",
       "        }    #T_d717bcbe_91d2_11ea_a4a1_4ceb428e4071row6_col7 {\n",
       "            background-color:  #6aaed6;\n",
       "            color:  #000000;\n",
       "        }    #T_d717bcbe_91d2_11ea_a4a1_4ceb428e4071row6_col8 {\n",
       "            background-color:  #c6dbef;\n",
       "            color:  #000000;\n",
       "        }    #T_d717bcbe_91d2_11ea_a4a1_4ceb428e4071row6_col9 {\n",
       "            background-color:  #4a98c9;\n",
       "            color:  #000000;\n",
       "        }    #T_d717bcbe_91d2_11ea_a4a1_4ceb428e4071row6_col10 {\n",
       "            background-color:  #d6e6f4;\n",
       "            color:  #000000;\n",
       "        }    #T_d717bcbe_91d2_11ea_a4a1_4ceb428e4071row6_col11 {\n",
       "            background-color:  #f7fbff;\n",
       "            color:  #000000;\n",
       "        }    #T_d717bcbe_91d2_11ea_a4a1_4ceb428e4071row6_col12 {\n",
       "            background-color:  #bed8ec;\n",
       "            color:  #000000;\n",
       "        }    #T_d717bcbe_91d2_11ea_a4a1_4ceb428e4071row7_col1 {\n",
       "            background-color:  #08306b;\n",
       "            color:  #f1f1f1;\n",
       "        }    #T_d717bcbe_91d2_11ea_a4a1_4ceb428e4071row7_col2 {\n",
       "            background-color:  #d0e1f2;\n",
       "            color:  #000000;\n",
       "        }    #T_d717bcbe_91d2_11ea_a4a1_4ceb428e4071row7_col3 {\n",
       "            background-color:  #abd0e6;\n",
       "            color:  #000000;\n",
       "        }    #T_d717bcbe_91d2_11ea_a4a1_4ceb428e4071row7_col4 {\n",
       "            background-color:  #deebf7;\n",
       "            color:  #000000;\n",
       "        }    #T_d717bcbe_91d2_11ea_a4a1_4ceb428e4071row7_col5 {\n",
       "            background-color:  #2070b4;\n",
       "            color:  #f1f1f1;\n",
       "        }    #T_d717bcbe_91d2_11ea_a4a1_4ceb428e4071row7_col6 {\n",
       "            background-color:  #bfd8ed;\n",
       "            color:  #000000;\n",
       "        }    #T_d717bcbe_91d2_11ea_a4a1_4ceb428e4071row7_col7 {\n",
       "            background-color:  #3787c0;\n",
       "            color:  #000000;\n",
       "        }    #T_d717bcbe_91d2_11ea_a4a1_4ceb428e4071row7_col8 {\n",
       "            background-color:  #08306b;\n",
       "            color:  #f1f1f1;\n",
       "        }    #T_d717bcbe_91d2_11ea_a4a1_4ceb428e4071row7_col9 {\n",
       "            background-color:  #b7d4ea;\n",
       "            color:  #000000;\n",
       "        }    #T_d717bcbe_91d2_11ea_a4a1_4ceb428e4071row7_col10 {\n",
       "            background-color:  #d6e6f4;\n",
       "            color:  #000000;\n",
       "        }    #T_d717bcbe_91d2_11ea_a4a1_4ceb428e4071row7_col11 {\n",
       "            background-color:  #0b559f;\n",
       "            color:  #f1f1f1;\n",
       "        }    #T_d717bcbe_91d2_11ea_a4a1_4ceb428e4071row7_col12 {\n",
       "            background-color:  #bed8ec;\n",
       "            color:  #000000;\n",
       "        }    #T_d717bcbe_91d2_11ea_a4a1_4ceb428e4071row8_col1 {\n",
       "            background-color:  #2070b4;\n",
       "            color:  #f1f1f1;\n",
       "        }    #T_d717bcbe_91d2_11ea_a4a1_4ceb428e4071row8_col2 {\n",
       "            background-color:  #08306b;\n",
       "            color:  #f1f1f1;\n",
       "        }    #T_d717bcbe_91d2_11ea_a4a1_4ceb428e4071row8_col3 {\n",
       "            background-color:  #d6e6f4;\n",
       "            color:  #000000;\n",
       "        }    #T_d717bcbe_91d2_11ea_a4a1_4ceb428e4071row8_col4 {\n",
       "            background-color:  #c6dbef;\n",
       "            color:  #000000;\n",
       "        }    #T_d717bcbe_91d2_11ea_a4a1_4ceb428e4071row8_col5 {\n",
       "            background-color:  #08306b;\n",
       "            color:  #f1f1f1;\n",
       "        }    #T_d717bcbe_91d2_11ea_a4a1_4ceb428e4071row8_col6 {\n",
       "            background-color:  #7db8da;\n",
       "            color:  #000000;\n",
       "        }    #T_d717bcbe_91d2_11ea_a4a1_4ceb428e4071row8_col7 {\n",
       "            background-color:  #6aaed6;\n",
       "            color:  #000000;\n",
       "        }    #T_d717bcbe_91d2_11ea_a4a1_4ceb428e4071row8_col8 {\n",
       "            background-color:  #2070b4;\n",
       "            color:  #f1f1f1;\n",
       "        }    #T_d717bcbe_91d2_11ea_a4a1_4ceb428e4071row8_col9 {\n",
       "            background-color:  #f7fbff;\n",
       "            color:  #000000;\n",
       "        }    #T_d717bcbe_91d2_11ea_a4a1_4ceb428e4071row8_col10 {\n",
       "            background-color:  #f7fbff;\n",
       "            color:  #000000;\n",
       "        }    #T_d717bcbe_91d2_11ea_a4a1_4ceb428e4071row8_col11 {\n",
       "            background-color:  #89bedc;\n",
       "            color:  #000000;\n",
       "        }    #T_d717bcbe_91d2_11ea_a4a1_4ceb428e4071row8_col12 {\n",
       "            background-color:  #d5e5f4;\n",
       "            color:  #000000;\n",
       "        }    #T_d717bcbe_91d2_11ea_a4a1_4ceb428e4071row9_col1 {\n",
       "            background-color:  #08306b;\n",
       "            color:  #f1f1f1;\n",
       "        }    #T_d717bcbe_91d2_11ea_a4a1_4ceb428e4071row9_col2 {\n",
       "            background-color:  #f7fbff;\n",
       "            color:  #000000;\n",
       "        }    #T_d717bcbe_91d2_11ea_a4a1_4ceb428e4071row9_col3 {\n",
       "            background-color:  #d6e6f4;\n",
       "            color:  #000000;\n",
       "        }    #T_d717bcbe_91d2_11ea_a4a1_4ceb428e4071row9_col4 {\n",
       "            background-color:  #9dcae1;\n",
       "            color:  #000000;\n",
       "        }    #T_d717bcbe_91d2_11ea_a4a1_4ceb428e4071row9_col5 {\n",
       "            background-color:  #08306b;\n",
       "            color:  #f1f1f1;\n",
       "        }    #T_d717bcbe_91d2_11ea_a4a1_4ceb428e4071row9_col6 {\n",
       "            background-color:  #f7fbff;\n",
       "            color:  #000000;\n",
       "        }    #T_d717bcbe_91d2_11ea_a4a1_4ceb428e4071row9_col7 {\n",
       "            background-color:  #105ba4;\n",
       "            color:  #f1f1f1;\n",
       "        }    #T_d717bcbe_91d2_11ea_a4a1_4ceb428e4071row9_col8 {\n",
       "            background-color:  #f7fbff;\n",
       "            color:  #000000;\n",
       "        }    #T_d717bcbe_91d2_11ea_a4a1_4ceb428e4071row9_col9 {\n",
       "            background-color:  #94c4df;\n",
       "            color:  #000000;\n",
       "        }    #T_d717bcbe_91d2_11ea_a4a1_4ceb428e4071row9_col10 {\n",
       "            background-color:  #abd0e6;\n",
       "            color:  #000000;\n",
       "        }    #T_d717bcbe_91d2_11ea_a4a1_4ceb428e4071row9_col11 {\n",
       "            background-color:  #2b7bba;\n",
       "            color:  #000000;\n",
       "        }    #T_d717bcbe_91d2_11ea_a4a1_4ceb428e4071row9_col12 {\n",
       "            background-color:  #f7fbff;\n",
       "            color:  #000000;\n",
       "        }</style><table id=\"T_d717bcbe_91d2_11ea_a4a1_4ceb428e4071\" ><thead>    <tr>        <th class=\"col_heading level0 col0\" >Name</th>        <th class=\"col_heading level0 col1\" >Age</th>        <th class=\"col_heading level0 col2\" >Com</th>        <th class=\"col_heading level0 col3\" >Kic</th>        <th class=\"col_heading level0 col4\" >1v1</th>        <th class=\"col_heading level0 col5\" >Ref</th>        <th class=\"col_heading level0 col6\" >TRO</th>        <th class=\"col_heading level0 col7\" >Ant</th>        <th class=\"col_heading level0 col8\" >Cmp</th>        <th class=\"col_heading level0 col9\" >Cnt</th>        <th class=\"col_heading level0 col10\" >Pos</th>        <th class=\"col_heading level0 col11\" >Agi</th>        <th class=\"col_heading level0 col12\" >sk_score</th>    </tr></thead><tbody>\n",
       "                <tr>\n",
       "                                <td id=\"T_d717bcbe_91d2_11ea_a4a1_4ceb428e4071row0_col0\" class=\"data row0 col0\" >Renato Josipovic</td>\n",
       "                        <td id=\"T_d717bcbe_91d2_11ea_a4a1_4ceb428e4071row0_col1\" class=\"data row0 col1\" >                  21</td>\n",
       "                        <td id=\"T_d717bcbe_91d2_11ea_a4a1_4ceb428e4071row0_col2\" class=\"data row0 col2\" >11</td>\n",
       "                        <td id=\"T_d717bcbe_91d2_11ea_a4a1_4ceb428e4071row0_col3\" class=\"data row0 col3\" >15</td>\n",
       "                        <td id=\"T_d717bcbe_91d2_11ea_a4a1_4ceb428e4071row0_col4\" class=\"data row0 col4\" >12</td>\n",
       "                        <td id=\"T_d717bcbe_91d2_11ea_a4a1_4ceb428e4071row0_col5\" class=\"data row0 col5\" >13</td>\n",
       "                        <td id=\"T_d717bcbe_91d2_11ea_a4a1_4ceb428e4071row0_col6\" class=\"data row0 col6\" >11</td>\n",
       "                        <td id=\"T_d717bcbe_91d2_11ea_a4a1_4ceb428e4071row0_col7\" class=\"data row0 col7\" >13</td>\n",
       "                        <td id=\"T_d717bcbe_91d2_11ea_a4a1_4ceb428e4071row0_col8\" class=\"data row0 col8\" >9</td>\n",
       "                        <td id=\"T_d717bcbe_91d2_11ea_a4a1_4ceb428e4071row0_col9\" class=\"data row0 col9\" >15</td>\n",
       "                        <td id=\"T_d717bcbe_91d2_11ea_a4a1_4ceb428e4071row0_col10\" class=\"data row0 col10\" >11</td>\n",
       "                        <td id=\"T_d717bcbe_91d2_11ea_a4a1_4ceb428e4071row0_col11\" class=\"data row0 col11\" >13</td>\n",
       "                        <td id=\"T_d717bcbe_91d2_11ea_a4a1_4ceb428e4071row0_col12\" class=\"data row0 col12\" >123</td>\n",
       "            </tr>\n",
       "            <tr>\n",
       "                                <td id=\"T_d717bcbe_91d2_11ea_a4a1_4ceb428e4071row1_col0\" class=\"data row1 col0\" >Lennart Grill</td>\n",
       "                        <td id=\"T_d717bcbe_91d2_11ea_a4a1_4ceb428e4071row1_col1\" class=\"data row1 col1\" >                  23</td>\n",
       "                        <td id=\"T_d717bcbe_91d2_11ea_a4a1_4ceb428e4071row1_col2\" class=\"data row1 col2\" >11</td>\n",
       "                        <td id=\"T_d717bcbe_91d2_11ea_a4a1_4ceb428e4071row1_col3\" class=\"data row1 col3\" >9</td>\n",
       "                        <td id=\"T_d717bcbe_91d2_11ea_a4a1_4ceb428e4071row1_col4\" class=\"data row1 col4\" >15</td>\n",
       "                        <td id=\"T_d717bcbe_91d2_11ea_a4a1_4ceb428e4071row1_col5\" class=\"data row1 col5\" >14</td>\n",
       "                        <td id=\"T_d717bcbe_91d2_11ea_a4a1_4ceb428e4071row1_col6\" class=\"data row1 col6\" >12</td>\n",
       "                        <td id=\"T_d717bcbe_91d2_11ea_a4a1_4ceb428e4071row1_col7\" class=\"data row1 col7\" >13</td>\n",
       "                        <td id=\"T_d717bcbe_91d2_11ea_a4a1_4ceb428e4071row1_col8\" class=\"data row1 col8\" >10</td>\n",
       "                        <td id=\"T_d717bcbe_91d2_11ea_a4a1_4ceb428e4071row1_col9\" class=\"data row1 col9\" >11</td>\n",
       "                        <td id=\"T_d717bcbe_91d2_11ea_a4a1_4ceb428e4071row1_col10\" class=\"data row1 col10\" >12</td>\n",
       "                        <td id=\"T_d717bcbe_91d2_11ea_a4a1_4ceb428e4071row1_col11\" class=\"data row1 col11\" >12</td>\n",
       "                        <td id=\"T_d717bcbe_91d2_11ea_a4a1_4ceb428e4071row1_col12\" class=\"data row1 col12\" >119</td>\n",
       "            </tr>\n",
       "            <tr>\n",
       "                                <td id=\"T_d717bcbe_91d2_11ea_a4a1_4ceb428e4071row2_col0\" class=\"data row2 col0\" >Billy Crellin</td>\n",
       "                        <td id=\"T_d717bcbe_91d2_11ea_a4a1_4ceb428e4071row2_col1\" class=\"data row2 col1\" >                  22</td>\n",
       "                        <td id=\"T_d717bcbe_91d2_11ea_a4a1_4ceb428e4071row2_col2\" class=\"data row2 col2\" >12</td>\n",
       "                        <td id=\"T_d717bcbe_91d2_11ea_a4a1_4ceb428e4071row2_col3\" class=\"data row2 col3\" >11</td>\n",
       "                        <td id=\"T_d717bcbe_91d2_11ea_a4a1_4ceb428e4071row2_col4\" class=\"data row2 col4\" >12</td>\n",
       "                        <td id=\"T_d717bcbe_91d2_11ea_a4a1_4ceb428e4071row2_col5\" class=\"data row2 col5\" >12</td>\n",
       "                        <td id=\"T_d717bcbe_91d2_11ea_a4a1_4ceb428e4071row2_col6\" class=\"data row2 col6\" >7</td>\n",
       "                        <td id=\"T_d717bcbe_91d2_11ea_a4a1_4ceb428e4071row2_col7\" class=\"data row2 col7\" >12</td>\n",
       "                        <td id=\"T_d717bcbe_91d2_11ea_a4a1_4ceb428e4071row2_col8\" class=\"data row2 col8\" >10</td>\n",
       "                        <td id=\"T_d717bcbe_91d2_11ea_a4a1_4ceb428e4071row2_col9\" class=\"data row2 col9\" >11</td>\n",
       "                        <td id=\"T_d717bcbe_91d2_11ea_a4a1_4ceb428e4071row2_col10\" class=\"data row2 col10\" >14</td>\n",
       "                        <td id=\"T_d717bcbe_91d2_11ea_a4a1_4ceb428e4071row2_col11\" class=\"data row2 col11\" >14</td>\n",
       "                        <td id=\"T_d717bcbe_91d2_11ea_a4a1_4ceb428e4071row2_col12\" class=\"data row2 col12\" >115</td>\n",
       "            </tr>\n",
       "            <tr>\n",
       "                                <td id=\"T_d717bcbe_91d2_11ea_a4a1_4ceb428e4071row3_col0\" class=\"data row3 col0\" >Stefan Randjelovic</td>\n",
       "                        <td id=\"T_d717bcbe_91d2_11ea_a4a1_4ceb428e4071row3_col1\" class=\"data row3 col1\" >                  23</td>\n",
       "                        <td id=\"T_d717bcbe_91d2_11ea_a4a1_4ceb428e4071row3_col2\" class=\"data row3 col2\" >12</td>\n",
       "                        <td id=\"T_d717bcbe_91d2_11ea_a4a1_4ceb428e4071row3_col3\" class=\"data row3 col3\" >11</td>\n",
       "                        <td id=\"T_d717bcbe_91d2_11ea_a4a1_4ceb428e4071row3_col4\" class=\"data row3 col4\" >11</td>\n",
       "                        <td id=\"T_d717bcbe_91d2_11ea_a4a1_4ceb428e4071row3_col5\" class=\"data row3 col5\" >10</td>\n",
       "                        <td id=\"T_d717bcbe_91d2_11ea_a4a1_4ceb428e4071row3_col6\" class=\"data row3 col6\" >13</td>\n",
       "                        <td id=\"T_d717bcbe_91d2_11ea_a4a1_4ceb428e4071row3_col7\" class=\"data row3 col7\" >11</td>\n",
       "                        <td id=\"T_d717bcbe_91d2_11ea_a4a1_4ceb428e4071row3_col8\" class=\"data row3 col8\" >12</td>\n",
       "                        <td id=\"T_d717bcbe_91d2_11ea_a4a1_4ceb428e4071row3_col9\" class=\"data row3 col9\" >9</td>\n",
       "                        <td id=\"T_d717bcbe_91d2_11ea_a4a1_4ceb428e4071row3_col10\" class=\"data row3 col10\" >10</td>\n",
       "                        <td id=\"T_d717bcbe_91d2_11ea_a4a1_4ceb428e4071row3_col11\" class=\"data row3 col11\" >10</td>\n",
       "                        <td id=\"T_d717bcbe_91d2_11ea_a4a1_4ceb428e4071row3_col12\" class=\"data row3 col12\" >109</td>\n",
       "            </tr>\n",
       "            <tr>\n",
       "                                <td id=\"T_d717bcbe_91d2_11ea_a4a1_4ceb428e4071row4_col0\" class=\"data row4 col0\" >Aleksa Milojevic</td>\n",
       "                        <td id=\"T_d717bcbe_91d2_11ea_a4a1_4ceb428e4071row4_col1\" class=\"data row4 col1\" >                  22</td>\n",
       "                        <td id=\"T_d717bcbe_91d2_11ea_a4a1_4ceb428e4071row4_col2\" class=\"data row4 col2\" >11</td>\n",
       "                        <td id=\"T_d717bcbe_91d2_11ea_a4a1_4ceb428e4071row4_col3\" class=\"data row4 col3\" >11</td>\n",
       "                        <td id=\"T_d717bcbe_91d2_11ea_a4a1_4ceb428e4071row4_col4\" class=\"data row4 col4\" >11</td>\n",
       "                        <td id=\"T_d717bcbe_91d2_11ea_a4a1_4ceb428e4071row4_col5\" class=\"data row4 col5\" >12</td>\n",
       "                        <td id=\"T_d717bcbe_91d2_11ea_a4a1_4ceb428e4071row4_col6\" class=\"data row4 col6\" >14</td>\n",
       "                        <td id=\"T_d717bcbe_91d2_11ea_a4a1_4ceb428e4071row4_col7\" class=\"data row4 col7\" >11</td>\n",
       "                        <td id=\"T_d717bcbe_91d2_11ea_a4a1_4ceb428e4071row4_col8\" class=\"data row4 col8\" >9</td>\n",
       "                        <td id=\"T_d717bcbe_91d2_11ea_a4a1_4ceb428e4071row4_col9\" class=\"data row4 col9\" >10</td>\n",
       "                        <td id=\"T_d717bcbe_91d2_11ea_a4a1_4ceb428e4071row4_col10\" class=\"data row4 col10\" >9</td>\n",
       "                        <td id=\"T_d717bcbe_91d2_11ea_a4a1_4ceb428e4071row4_col11\" class=\"data row4 col11\" >7</td>\n",
       "                        <td id=\"T_d717bcbe_91d2_11ea_a4a1_4ceb428e4071row4_col12\" class=\"data row4 col12\" >105</td>\n",
       "            </tr>\n",
       "            <tr>\n",
       "                                <td id=\"T_d717bcbe_91d2_11ea_a4a1_4ceb428e4071row5_col0\" class=\"data row5 col0\" >Hubert Wasiewski</td>\n",
       "                        <td id=\"T_d717bcbe_91d2_11ea_a4a1_4ceb428e4071row5_col1\" class=\"data row5 col1\" >                  20</td>\n",
       "                        <td id=\"T_d717bcbe_91d2_11ea_a4a1_4ceb428e4071row5_col2\" class=\"data row5 col2\" >9</td>\n",
       "                        <td id=\"T_d717bcbe_91d2_11ea_a4a1_4ceb428e4071row5_col3\" class=\"data row5 col3\" >12</td>\n",
       "                        <td id=\"T_d717bcbe_91d2_11ea_a4a1_4ceb428e4071row5_col4\" class=\"data row5 col4\" >7</td>\n",
       "                        <td id=\"T_d717bcbe_91d2_11ea_a4a1_4ceb428e4071row5_col5\" class=\"data row5 col5\" >13</td>\n",
       "                        <td id=\"T_d717bcbe_91d2_11ea_a4a1_4ceb428e4071row5_col6\" class=\"data row5 col6\" >12</td>\n",
       "                        <td id=\"T_d717bcbe_91d2_11ea_a4a1_4ceb428e4071row5_col7\" class=\"data row5 col7\" >7</td>\n",
       "                        <td id=\"T_d717bcbe_91d2_11ea_a4a1_4ceb428e4071row5_col8\" class=\"data row5 col8\" >8</td>\n",
       "                        <td id=\"T_d717bcbe_91d2_11ea_a4a1_4ceb428e4071row5_col9\" class=\"data row5 col9\" >11</td>\n",
       "                        <td id=\"T_d717bcbe_91d2_11ea_a4a1_4ceb428e4071row5_col10\" class=\"data row5 col10\" >12</td>\n",
       "                        <td id=\"T_d717bcbe_91d2_11ea_a4a1_4ceb428e4071row5_col11\" class=\"data row5 col11\" >14</td>\n",
       "                        <td id=\"T_d717bcbe_91d2_11ea_a4a1_4ceb428e4071row5_col12\" class=\"data row5 col12\" >105</td>\n",
       "            </tr>\n",
       "            <tr>\n",
       "                                <td id=\"T_d717bcbe_91d2_11ea_a4a1_4ceb428e4071row6_col0\" class=\"data row6 col0\" >Ivan Mandic</td>\n",
       "                        <td id=\"T_d717bcbe_91d2_11ea_a4a1_4ceb428e4071row6_col1\" class=\"data row6 col1\" >                  19</td>\n",
       "                        <td id=\"T_d717bcbe_91d2_11ea_a4a1_4ceb428e4071row6_col2\" class=\"data row6 col2\" >8</td>\n",
       "                        <td id=\"T_d717bcbe_91d2_11ea_a4a1_4ceb428e4071row6_col3\" class=\"data row6 col3\" >12</td>\n",
       "                        <td id=\"T_d717bcbe_91d2_11ea_a4a1_4ceb428e4071row6_col4\" class=\"data row6 col4\" >13</td>\n",
       "                        <td id=\"T_d717bcbe_91d2_11ea_a4a1_4ceb428e4071row6_col5\" class=\"data row6 col5\" >10</td>\n",
       "                        <td id=\"T_d717bcbe_91d2_11ea_a4a1_4ceb428e4071row6_col6\" class=\"data row6 col6\" >16</td>\n",
       "                        <td id=\"T_d717bcbe_91d2_11ea_a4a1_4ceb428e4071row6_col7\" class=\"data row6 col7\" >10</td>\n",
       "                        <td id=\"T_d717bcbe_91d2_11ea_a4a1_4ceb428e4071row6_col8\" class=\"data row6 col8\" >6</td>\n",
       "                        <td id=\"T_d717bcbe_91d2_11ea_a4a1_4ceb428e4071row6_col9\" class=\"data row6 col9\" >11</td>\n",
       "                        <td id=\"T_d717bcbe_91d2_11ea_a4a1_4ceb428e4071row6_col10\" class=\"data row6 col10\" >9</td>\n",
       "                        <td id=\"T_d717bcbe_91d2_11ea_a4a1_4ceb428e4071row6_col11\" class=\"data row6 col11\" >7</td>\n",
       "                        <td id=\"T_d717bcbe_91d2_11ea_a4a1_4ceb428e4071row6_col12\" class=\"data row6 col12\" >102</td>\n",
       "            </tr>\n",
       "            <tr>\n",
       "                                <td id=\"T_d717bcbe_91d2_11ea_a4a1_4ceb428e4071row7_col0\" class=\"data row7 col0\" >Goran Buljandric</td>\n",
       "                        <td id=\"T_d717bcbe_91d2_11ea_a4a1_4ceb428e4071row7_col1\" class=\"data row7 col1\" >                  23</td>\n",
       "                        <td id=\"T_d717bcbe_91d2_11ea_a4a1_4ceb428e4071row7_col2\" class=\"data row7 col2\" >9</td>\n",
       "                        <td id=\"T_d717bcbe_91d2_11ea_a4a1_4ceb428e4071row7_col3\" class=\"data row7 col3\" >11</td>\n",
       "                        <td id=\"T_d717bcbe_91d2_11ea_a4a1_4ceb428e4071row7_col4\" class=\"data row7 col4\" >8</td>\n",
       "                        <td id=\"T_d717bcbe_91d2_11ea_a4a1_4ceb428e4071row7_col5\" class=\"data row7 col5\" >13</td>\n",
       "                        <td id=\"T_d717bcbe_91d2_11ea_a4a1_4ceb428e4071row7_col6\" class=\"data row7 col6\" >8</td>\n",
       "                        <td id=\"T_d717bcbe_91d2_11ea_a4a1_4ceb428e4071row7_col7\" class=\"data row7 col7\" >11</td>\n",
       "                        <td id=\"T_d717bcbe_91d2_11ea_a4a1_4ceb428e4071row7_col8\" class=\"data row7 col8\" >12</td>\n",
       "                        <td id=\"T_d717bcbe_91d2_11ea_a4a1_4ceb428e4071row7_col9\" class=\"data row7 col9\" >8</td>\n",
       "                        <td id=\"T_d717bcbe_91d2_11ea_a4a1_4ceb428e4071row7_col10\" class=\"data row7 col10\" >9</td>\n",
       "                        <td id=\"T_d717bcbe_91d2_11ea_a4a1_4ceb428e4071row7_col11\" class=\"data row7 col11\" >13</td>\n",
       "                        <td id=\"T_d717bcbe_91d2_11ea_a4a1_4ceb428e4071row7_col12\" class=\"data row7 col12\" >102</td>\n",
       "            </tr>\n",
       "            <tr>\n",
       "                                <td id=\"T_d717bcbe_91d2_11ea_a4a1_4ceb428e4071row8_col0\" class=\"data row8 col0\" >Vice Bazdaric</td>\n",
       "                        <td id=\"T_d717bcbe_91d2_11ea_a4a1_4ceb428e4071row8_col1\" class=\"data row8 col1\" >                  22</td>\n",
       "                        <td id=\"T_d717bcbe_91d2_11ea_a4a1_4ceb428e4071row8_col2\" class=\"data row8 col2\" >13</td>\n",
       "                        <td id=\"T_d717bcbe_91d2_11ea_a4a1_4ceb428e4071row8_col3\" class=\"data row8 col3\" >10</td>\n",
       "                        <td id=\"T_d717bcbe_91d2_11ea_a4a1_4ceb428e4071row8_col4\" class=\"data row8 col4\" >9</td>\n",
       "                        <td id=\"T_d717bcbe_91d2_11ea_a4a1_4ceb428e4071row8_col5\" class=\"data row8 col5\" >14</td>\n",
       "                        <td id=\"T_d717bcbe_91d2_11ea_a4a1_4ceb428e4071row8_col6\" class=\"data row8 col6\" >10</td>\n",
       "                        <td id=\"T_d717bcbe_91d2_11ea_a4a1_4ceb428e4071row8_col7\" class=\"data row8 col7\" >10</td>\n",
       "                        <td id=\"T_d717bcbe_91d2_11ea_a4a1_4ceb428e4071row8_col8\" class=\"data row8 col8\" >10</td>\n",
       "                        <td id=\"T_d717bcbe_91d2_11ea_a4a1_4ceb428e4071row8_col9\" class=\"data row8 col9\" >5</td>\n",
       "                        <td id=\"T_d717bcbe_91d2_11ea_a4a1_4ceb428e4071row8_col10\" class=\"data row8 col10\" >8</td>\n",
       "                        <td id=\"T_d717bcbe_91d2_11ea_a4a1_4ceb428e4071row8_col11\" class=\"data row8 col11\" >10</td>\n",
       "                        <td id=\"T_d717bcbe_91d2_11ea_a4a1_4ceb428e4071row8_col12\" class=\"data row8 col12\" >99</td>\n",
       "            </tr>\n",
       "            <tr>\n",
       "                                <td id=\"T_d717bcbe_91d2_11ea_a4a1_4ceb428e4071row9_col0\" class=\"data row9 col0\" >Daniel Bielica</td>\n",
       "                        <td id=\"T_d717bcbe_91d2_11ea_a4a1_4ceb428e4071row9_col1\" class=\"data row9 col1\" >                  23</td>\n",
       "                        <td id=\"T_d717bcbe_91d2_11ea_a4a1_4ceb428e4071row9_col2\" class=\"data row9 col2\" >8</td>\n",
       "                        <td id=\"T_d717bcbe_91d2_11ea_a4a1_4ceb428e4071row9_col3\" class=\"data row9 col3\" >10</td>\n",
       "                        <td id=\"T_d717bcbe_91d2_11ea_a4a1_4ceb428e4071row9_col4\" class=\"data row9 col4\" >10</td>\n",
       "                        <td id=\"T_d717bcbe_91d2_11ea_a4a1_4ceb428e4071row9_col5\" class=\"data row9 col5\" >14</td>\n",
       "                        <td id=\"T_d717bcbe_91d2_11ea_a4a1_4ceb428e4071row9_col6\" class=\"data row9 col6\" >5</td>\n",
       "                        <td id=\"T_d717bcbe_91d2_11ea_a4a1_4ceb428e4071row9_col7\" class=\"data row9 col7\" >12</td>\n",
       "                        <td id=\"T_d717bcbe_91d2_11ea_a4a1_4ceb428e4071row9_col8\" class=\"data row9 col8\" >4</td>\n",
       "                        <td id=\"T_d717bcbe_91d2_11ea_a4a1_4ceb428e4071row9_col9\" class=\"data row9 col9\" >9</td>\n",
       "                        <td id=\"T_d717bcbe_91d2_11ea_a4a1_4ceb428e4071row9_col10\" class=\"data row9 col10\" >10</td>\n",
       "                        <td id=\"T_d717bcbe_91d2_11ea_a4a1_4ceb428e4071row9_col11\" class=\"data row9 col11\" >12</td>\n",
       "                        <td id=\"T_d717bcbe_91d2_11ea_a4a1_4ceb428e4071row9_col12\" class=\"data row9 col12\" >94</td>\n",
       "            </tr>\n",
       "    </tbody></table>"
      ],
      "text/plain": [
       "<pandas.io.formats.style.Styler at 0xc834988>"
      ]
     },
     "execution_count": 6,
     "metadata": {},
     "output_type": "execute_result"
    }
   ],
   "source": [
    "# Sweeper Keeper - Support\n",
    "\n",
    "print(\"Sweeper Keeper - Support\")\n",
    "sorted_sk = sk.sort_values(by='sk_score', ascending=False)\n",
    "sorted_sk.head(10).style.format({\"Age\": \"{:20,.0f}\", \n",
    "                          })\\\n",
    "                        .hide_index()\\\n",
    "                        .background_gradient(cmap='Blues')"
   ]
  },
  {
   "cell_type": "code",
   "execution_count": 7,
   "metadata": {},
   "outputs": [
    {
     "data": {
      "application/vnd.plotly.v1+json": {
       "config": {
        "linkText": "Export to plot.ly",
        "plotlyServerURL": "https://plot.ly",
        "showLink": true
       },
       "data": [
        {
         "line": {
          "color": "rgba(255, 153, 51, 1.0)",
          "dash": "solid",
          "shape": "linear",
          "width": 1.3
         },
         "marker": {
          "size": 10,
          "symbol": "circle"
         },
         "mode": "markers",
         "name": "Gl Mst",
         "text": [
          "Djibril DiakitÃ©",
          "JoÃ£o Tavares",
          "Matej Hudecek",
          "Adrian Rybak",
          "Oskar Repka",
          "Maciej Obodecki",
          "Ivo Kralj",
          "Bartosz Sobczyk",
          "Ivan Tomac",
          "Nikola Bogdanovski",
          "Stefan Velickovic",
          "Andrija Zakoc",
          "AurÃ©lien Nguiamba",
          "Flynn Downes",
          "Nikola Puzic",
          "Andjelo Kacavenda",
          "Tymoteusz Puchacz",
          "Felix Brunmayr",
          "Lennart Grill",
          "Josip Rakic",
          "Stefan Randjelovic",
          "Radoslaw Dzierbicki",
          "Alexandar Ubavic",
          "Veljko Jovkovic",
          "Mariano GÃ³mez",
          "David Bumberger",
          "Enrico Huss",
          "Mateo Jaksic",
          "Konrad Jozwicki",
          "Nikita Marusenko",
          "Djordje Jovanovic",
          "Filip Lisnic",
          "Dawid Szalas",
          "Vladimir Ilic",
          "Marcin Mackowiak",
          "Florin Codrean",
          "David Otto",
          "Stefan Golubovic",
          "Keanan Bennetts",
          "Andrej Vukas",
          "Jannik Tepe",
          "Mladen Devetak",
          "Tom Baack",
          "Jan Sobocinski",
          "TomÃ¡s Blanco",
          "Sinan Karweina",
          "Ben Williams",
          "Arkadiusz Zajaczkowski",
          "Miguel Reisinho",
          "Filp Ceko",
          "Michel StÃ¶cker",
          "JÃ©rÃ´me Deom",
          "Ranko Jokic",
          "Palko DÃ¡rdai",
          "Aleksander Tomasz",
          "Alex Vigo",
          "Daniel Bielica",
          "Marko Djira",
          "Norbert Walczak",
          "Boris Moltenis",
          "Julius Kade",
          "Goran Buljandric",
          "Jannis KÃ¼bler",
          "Aleksa Jovanovic",
          "Tomasz Owczarek",
          "David Wittkowski",
          "Konrad Zaklika",
          "Pawel Karbowinski",
          "Nicky Werner",
          "Julijan Popovic",
          "Nassim Boujellab",
          "Bartlomiej Gajda",
          "Nemanja Matijevic",
          "Marko Denic",
          "Robert Baar",
          "Tuta",
          "Dusan Jokovic",
          "Tomasz Dzida",
          "Aleksa Pejic",
          "Krsta Bojic",
          "Sikou NiakatÃ©",
          "Tomasz Makowski",
          "Sebastian Gwozdz",
          "Adrian Polanski",
          "Bryan Mbeumo",
          "Dorin Sirbu",
          "Elvis Novalic",
          "MickaÃ«l Cuisance",
          "Mateusz Madzia",
          "JesÃºs Vargas",
          "Marino Jedvaj",
          "Raphael Assibey-Mensah",
          "Lukasz Sztylka",
          "Zoran Zrnzevic",
          "Alex Krawiec",
          "Petar Melezovic",
          "Tomasz Kurek",
          "Danko Radic",
          "Paul Mensah",
          "Jordan Williams",
          "Mario Mustapic",
          "Nikola Trickovic",
          "Patrik Delic",
          "Maciej Famulak",
          "Wiktor Nahrebecki",
          "Barne Poggenberg",
          "Mirza Jasarevic",
          "Ratko Minic",
          "Semih Åahin",
          "Matej Santek",
          "Georgios Siadas",
          "Tyrese Campbell",
          "Martin Krizmanic",
          "Kacper Laskos",
          "Aleksa Milojevic",
          "Cheick DoucourÃ©",
          "Ivan Jakovljev",
          "Przemyslaw Zdybowicz",
          "Sven Botman",
          "Malik Karaahmet",
          "Lukas KrÃ¼ger",
          "Niclas Stierlin",
          "Mane Markovic",
          "Karol Czubak",
          "Ilija Dejanovic",
          "Pascal Hackethal",
          "Oleg Gorin",
          "Michal Zieba",
          "Miodrag Maljkovic",
          "Jakov Blagaic",
          "Harisson Marcelin",
          "Vice Bazdaric",
          "Daniel Liszka",
          "Jan Sieracki",
          "Jhonny Lucas",
          "Tymoteusz Klups",
          "Josip Sutalo",
          "Othman Boussaid",
          "Evert Linthorst",
          "Jusuf Gazibegovic",
          "Virgiliu Postolachi",
          "Luis GÃ¶rlich",
          "Andrej Ilic",
          "Daniel Haritonov",
          "Patryk Drabik",
          "Tom Dobek-Pietrowski",
          "Michal Mydlarz",
          "Cho Jeong-Hui",
          "Mohamed Loua",
          "Nemanja Zikic",
          "Emir Sejdovic",
          "Samuel Lengle",
          "Mateusz Duchowski",
          "Iliya Gruev",
          "Bartosz Borun",
          "Juraj Ljubic",
          "GonÃ§alo Rebelo",
          "Dominik Resetar",
          "Jurica Prsir",
          "Piotr Wujec",
          "Jan Majsterek",
          "Mitchel Bakker",
          "Kamil Piatkowski",
          "Michal Ozga",
          "Karol Turek",
          "Toni Karimovic",
          "Billy Crellin",
          "Konrad Sieracki",
          "Vando Luis",
          "Jan Los",
          "Jessic Ngankam",
          "Adam Borkowski",
          "Julian Rieckmann",
          "Luka Pavlak",
          "Robert Ion",
          "Linus RosenlÃ¶cher",
          "Eugen Telch",
          "Nicholas Wunsch",
          "Dawid Kisly",
          "Uros Miloradovic",
          "Alois Oroz",
          "Luca Bazzoli",
          "Ronan Darcy",
          "Yann-Aurel Bisseck",
          "Timo Bornemann",
          "Radivoj Bosic",
          "Jakov Katusa",
          "Kacper Jozefiak",
          "Szymon Mroczko",
          "Karol Struski",
          "Wojciech Kaminski",
          "Piotr Lisowski",
          "Daishawn Redan",
          "Kacper Smolinski",
          "Lukas SchÃ¶fl",
          "Mikolaj Labojko",
          "Jakub Karbownik",
          "Damir Magdic",
          "Karol Malec",
          "Patryk Wozniak",
          "Can Bozdogan",
          "Aleksander Paluszek",
          "Mario Cuic",
          "Dragoljub Savic",
          "Nathan Collins",
          "Dominik Pila",
          "Mihael Kupresak",
          "Manu KonÃ©",
          "Niels Hahn",
          "Tin Hrvoj",
          "Lucas Da Cunha",
          "Rahim Ibrahim",
          "Renato Josipovic",
          "Han-Noah Massengo",
          "Kacper Wiatrak",
          "Bartosz Kuzniarski",
          "Adrian Petk",
          "Fabian Tauchhammer",
          "Bartlomiej Mruk",
          "Jakub Rudek",
          "Jakub Swiecinski",
          "Jakub Nowakowski",
          "Kamil Dabrowski",
          "Yuri Sprandel Flores",
          "Stefan Radmanovac",
          "Kamal Bafounta",
          "Filip Marchwinski",
          "Kamil Lukoszek",
          "Jakub Niewiadomski",
          "Dominik Kedzior",
          "Joe Gelhardt",
          "Filip Sobiecki",
          "Fran Tomek",
          "Hubert Wasiewski",
          "Djordje Vasic",
          "Jakub Zima",
          "Damian Makuch",
          "Andrzej Kloda",
          "Stipe Biuk",
          "Mateusz Pienczak",
          "FIlip Brekalo",
          "Stefan Despotovski",
          "Jakub Kisiel",
          "Duje Skugor",
          "Martin Baturina",
          "Radoslaw Cielemecki",
          "Ariel Mosor",
          "Nikola Petkovic",
          "Nikodem Sujecki",
          "Ivan Mandic",
          "Stanislaw Loch",
          "Dario Grgic",
          "Wojciech Szybka",
          "Kacper Szmidt",
          "Vukasin Krstic",
          "Obrendo Doesburg",
          "Casper Elderman",
          "Predrag Jovic",
          "Daniel Hoyo-Kowalski",
          "Darijo Basic",
          "Wiktor Mosur",
          "Uros Mirkovic",
          "Marcos RodrÃ­guez",
          "Adrian Å¢apu",
          "Paul Mari",
          "Pawel Muzylowski",
          "Dragan Radovic",
          "Szymon Kobeszko",
          "Marcin Dabrowski",
          "Jorge Delgado",
          "Daniel Piesio",
          null
         ],
         "type": "scatter",
         "x": [
          "-",
          "-",
          "-",
          "-",
          "-",
          "-",
          "-",
          "-",
          "-",
          "-",
          "-",
          "-",
          "-",
          "-",
          "-",
          "-",
          "-",
          "-",
          "0.90",
          "-",
          "1.98",
          "-",
          "-",
          "-",
          "-",
          "-",
          "-",
          "-",
          "-",
          "-",
          "-",
          "-",
          "-",
          "-",
          "-",
          "-",
          "-",
          "-",
          "-",
          "-",
          "-",
          "-",
          "-",
          "-",
          "-",
          "-",
          "-",
          "-",
          "-",
          "-",
          "-",
          "-",
          "-",
          "-",
          "-",
          "-",
          "1.07",
          "-",
          "-",
          "-",
          "-",
          "0.82",
          "-",
          "-",
          "-",
          "-",
          "-",
          "-",
          "-",
          "-",
          "-",
          "-",
          "-",
          "-",
          "-",
          "-",
          "-",
          "-",
          "-",
          "-",
          "-",
          "-",
          "-",
          "-",
          "-",
          "-",
          "-",
          "-",
          "-",
          "-",
          "-",
          "-",
          "-",
          "-",
          "-",
          "-",
          "-",
          "-",
          "-",
          "-",
          "1.67",
          "-",
          "-",
          "-",
          "-",
          "-",
          "-",
          "-",
          "-",
          "-",
          "-",
          "-",
          "-",
          "-",
          "0.93",
          "-",
          "-",
          "-",
          "-",
          "-",
          "-",
          "-",
          "0.90",
          "-",
          "-",
          "-",
          "-",
          "-",
          "-",
          "-",
          "-",
          "1.38",
          "-",
          "-",
          "-",
          "-",
          "-",
          "-",
          "-",
          "-",
          "-",
          "-",
          "-",
          "-",
          "-",
          "-",
          "-",
          "-",
          "-",
          "-",
          "-",
          "-",
          "-",
          "-",
          "-",
          "-",
          "-",
          "-",
          "-",
          "-",
          "-",
          "-",
          "-",
          "-",
          "-",
          "-",
          "1.25",
          "-",
          "-",
          "-",
          "-",
          "-",
          "-",
          "-",
          "-",
          "-",
          "-",
          "-",
          "-",
          "-",
          "-",
          "-",
          "-",
          "-",
          "-",
          "-",
          "-",
          "-",
          "-",
          "-",
          "-",
          "-",
          "-",
          "-",
          "-",
          "-",
          "-",
          "-",
          "-",
          "-",
          "-",
          "-",
          "-",
          "-",
          "-",
          "-",
          "-",
          "-",
          "-",
          "-",
          "-",
          "-",
          "1.25",
          "-",
          "-",
          "-",
          "-",
          "-",
          "-",
          "-",
          "-",
          "-",
          "-",
          "-",
          "-",
          "-",
          "-",
          "-",
          "-",
          "-",
          "-",
          "-",
          "-",
          "1.18",
          "-",
          "-",
          "-",
          "-",
          "-",
          "-",
          "-",
          "-",
          "-",
          "-",
          "-",
          "-",
          "-",
          "-",
          "0.98",
          "1.61",
          "-",
          "-",
          "-",
          "-",
          "-",
          "-",
          "-",
          "-",
          "-",
          "-",
          "-",
          "-",
          "-",
          "-",
          "-",
          "-",
          "-",
          "-",
          "-",
          "-",
          "-",
          null
         ],
         "y": [
          0,
          0,
          0,
          0,
          0,
          0,
          0,
          0,
          0,
          0,
          0,
          0,
          0,
          0,
          0,
          0,
          0,
          0,
          0,
          0,
          0,
          0,
          0,
          0,
          0,
          0,
          0,
          0,
          0,
          0,
          0,
          0,
          0,
          0,
          0,
          0,
          0,
          0,
          0,
          0,
          0,
          0,
          0,
          0,
          0,
          0,
          0,
          0,
          0,
          0,
          0,
          0,
          0,
          0,
          0,
          0,
          0,
          0,
          0,
          0,
          0,
          0,
          0,
          0,
          0,
          0,
          0,
          0,
          0,
          0,
          0,
          0,
          0,
          0,
          0,
          0,
          0,
          0,
          0,
          0,
          0,
          0,
          0,
          0,
          0,
          0,
          0,
          0,
          0,
          0,
          0,
          0,
          0,
          0,
          0,
          0,
          0,
          0,
          0,
          0,
          0,
          0,
          0,
          0,
          0,
          0,
          0,
          0,
          0,
          0,
          0,
          0,
          0,
          0,
          0,
          0,
          0,
          0,
          0,
          0,
          0,
          2,
          0,
          0,
          0,
          0,
          0,
          0,
          0,
          0,
          0,
          1,
          0,
          0,
          0,
          0,
          0,
          0,
          0,
          0,
          0,
          0,
          0,
          0,
          0,
          0,
          0,
          1,
          0,
          0,
          0,
          0,
          0,
          0,
          0,
          0,
          0,
          0,
          0,
          0,
          0,
          1,
          0,
          0,
          0,
          0,
          0,
          0,
          0,
          0,
          0,
          0,
          0,
          0,
          0,
          0,
          0,
          0,
          0,
          0,
          0,
          0,
          0,
          0,
          0,
          0,
          0,
          0,
          0,
          0,
          0,
          0,
          0,
          0,
          0,
          0,
          0,
          0,
          0,
          0,
          0,
          0,
          0,
          0,
          0,
          0,
          0,
          0,
          0,
          0,
          0,
          0,
          0,
          0,
          0,
          0,
          0,
          0,
          0,
          0,
          0,
          0,
          0,
          0,
          0,
          0,
          0,
          0,
          0,
          0,
          0,
          0,
          0,
          0,
          0,
          0,
          0,
          0,
          0,
          0,
          0,
          0,
          0,
          0,
          0,
          0,
          0,
          0,
          0,
          3,
          0,
          0,
          0,
          0,
          0,
          0,
          0,
          0,
          0,
          0,
          0,
          0,
          0,
          0,
          0,
          0,
          0,
          0,
          0,
          0,
          0,
          ""
         ]
        }
       ],
       "layout": {
        "legend": {
         "bgcolor": "#F5F6F9",
         "font": {
          "color": "#4D5663"
         }
        },
        "paper_bgcolor": "#F5F6F9",
        "plot_bgcolor": "#F5F6F9",
        "template": {
         "data": {
          "bar": [
           {
            "error_x": {
             "color": "#2a3f5f"
            },
            "error_y": {
             "color": "#2a3f5f"
            },
            "marker": {
             "line": {
              "color": "#E5ECF6",
              "width": 0.5
             }
            },
            "type": "bar"
           }
          ],
          "barpolar": [
           {
            "marker": {
             "line": {
              "color": "#E5ECF6",
              "width": 0.5
             }
            },
            "type": "barpolar"
           }
          ],
          "carpet": [
           {
            "aaxis": {
             "endlinecolor": "#2a3f5f",
             "gridcolor": "white",
             "linecolor": "white",
             "minorgridcolor": "white",
             "startlinecolor": "#2a3f5f"
            },
            "baxis": {
             "endlinecolor": "#2a3f5f",
             "gridcolor": "white",
             "linecolor": "white",
             "minorgridcolor": "white",
             "startlinecolor": "#2a3f5f"
            },
            "type": "carpet"
           }
          ],
          "choropleth": [
           {
            "colorbar": {
             "outlinewidth": 0,
             "ticks": ""
            },
            "type": "choropleth"
           }
          ],
          "contour": [
           {
            "colorbar": {
             "outlinewidth": 0,
             "ticks": ""
            },
            "colorscale": [
             [
              0,
              "#0d0887"
             ],
             [
              0.1111111111111111,
              "#46039f"
             ],
             [
              0.2222222222222222,
              "#7201a8"
             ],
             [
              0.3333333333333333,
              "#9c179e"
             ],
             [
              0.4444444444444444,
              "#bd3786"
             ],
             [
              0.5555555555555556,
              "#d8576b"
             ],
             [
              0.6666666666666666,
              "#ed7953"
             ],
             [
              0.7777777777777778,
              "#fb9f3a"
             ],
             [
              0.8888888888888888,
              "#fdca26"
             ],
             [
              1,
              "#f0f921"
             ]
            ],
            "type": "contour"
           }
          ],
          "contourcarpet": [
           {
            "colorbar": {
             "outlinewidth": 0,
             "ticks": ""
            },
            "type": "contourcarpet"
           }
          ],
          "heatmap": [
           {
            "colorbar": {
             "outlinewidth": 0,
             "ticks": ""
            },
            "colorscale": [
             [
              0,
              "#0d0887"
             ],
             [
              0.1111111111111111,
              "#46039f"
             ],
             [
              0.2222222222222222,
              "#7201a8"
             ],
             [
              0.3333333333333333,
              "#9c179e"
             ],
             [
              0.4444444444444444,
              "#bd3786"
             ],
             [
              0.5555555555555556,
              "#d8576b"
             ],
             [
              0.6666666666666666,
              "#ed7953"
             ],
             [
              0.7777777777777778,
              "#fb9f3a"
             ],
             [
              0.8888888888888888,
              "#fdca26"
             ],
             [
              1,
              "#f0f921"
             ]
            ],
            "type": "heatmap"
           }
          ],
          "heatmapgl": [
           {
            "colorbar": {
             "outlinewidth": 0,
             "ticks": ""
            },
            "colorscale": [
             [
              0,
              "#0d0887"
             ],
             [
              0.1111111111111111,
              "#46039f"
             ],
             [
              0.2222222222222222,
              "#7201a8"
             ],
             [
              0.3333333333333333,
              "#9c179e"
             ],
             [
              0.4444444444444444,
              "#bd3786"
             ],
             [
              0.5555555555555556,
              "#d8576b"
             ],
             [
              0.6666666666666666,
              "#ed7953"
             ],
             [
              0.7777777777777778,
              "#fb9f3a"
             ],
             [
              0.8888888888888888,
              "#fdca26"
             ],
             [
              1,
              "#f0f921"
             ]
            ],
            "type": "heatmapgl"
           }
          ],
          "histogram": [
           {
            "marker": {
             "colorbar": {
              "outlinewidth": 0,
              "ticks": ""
             }
            },
            "type": "histogram"
           }
          ],
          "histogram2d": [
           {
            "colorbar": {
             "outlinewidth": 0,
             "ticks": ""
            },
            "colorscale": [
             [
              0,
              "#0d0887"
             ],
             [
              0.1111111111111111,
              "#46039f"
             ],
             [
              0.2222222222222222,
              "#7201a8"
             ],
             [
              0.3333333333333333,
              "#9c179e"
             ],
             [
              0.4444444444444444,
              "#bd3786"
             ],
             [
              0.5555555555555556,
              "#d8576b"
             ],
             [
              0.6666666666666666,
              "#ed7953"
             ],
             [
              0.7777777777777778,
              "#fb9f3a"
             ],
             [
              0.8888888888888888,
              "#fdca26"
             ],
             [
              1,
              "#f0f921"
             ]
            ],
            "type": "histogram2d"
           }
          ],
          "histogram2dcontour": [
           {
            "colorbar": {
             "outlinewidth": 0,
             "ticks": ""
            },
            "colorscale": [
             [
              0,
              "#0d0887"
             ],
             [
              0.1111111111111111,
              "#46039f"
             ],
             [
              0.2222222222222222,
              "#7201a8"
             ],
             [
              0.3333333333333333,
              "#9c179e"
             ],
             [
              0.4444444444444444,
              "#bd3786"
             ],
             [
              0.5555555555555556,
              "#d8576b"
             ],
             [
              0.6666666666666666,
              "#ed7953"
             ],
             [
              0.7777777777777778,
              "#fb9f3a"
             ],
             [
              0.8888888888888888,
              "#fdca26"
             ],
             [
              1,
              "#f0f921"
             ]
            ],
            "type": "histogram2dcontour"
           }
          ],
          "mesh3d": [
           {
            "colorbar": {
             "outlinewidth": 0,
             "ticks": ""
            },
            "type": "mesh3d"
           }
          ],
          "parcoords": [
           {
            "line": {
             "colorbar": {
              "outlinewidth": 0,
              "ticks": ""
             }
            },
            "type": "parcoords"
           }
          ],
          "pie": [
           {
            "automargin": true,
            "type": "pie"
           }
          ],
          "scatter": [
           {
            "marker": {
             "colorbar": {
              "outlinewidth": 0,
              "ticks": ""
             }
            },
            "type": "scatter"
           }
          ],
          "scatter3d": [
           {
            "line": {
             "colorbar": {
              "outlinewidth": 0,
              "ticks": ""
             }
            },
            "marker": {
             "colorbar": {
              "outlinewidth": 0,
              "ticks": ""
             }
            },
            "type": "scatter3d"
           }
          ],
          "scattercarpet": [
           {
            "marker": {
             "colorbar": {
              "outlinewidth": 0,
              "ticks": ""
             }
            },
            "type": "scattercarpet"
           }
          ],
          "scattergeo": [
           {
            "marker": {
             "colorbar": {
              "outlinewidth": 0,
              "ticks": ""
             }
            },
            "type": "scattergeo"
           }
          ],
          "scattergl": [
           {
            "marker": {
             "colorbar": {
              "outlinewidth": 0,
              "ticks": ""
             }
            },
            "type": "scattergl"
           }
          ],
          "scattermapbox": [
           {
            "marker": {
             "colorbar": {
              "outlinewidth": 0,
              "ticks": ""
             }
            },
            "type": "scattermapbox"
           }
          ],
          "scatterpolar": [
           {
            "marker": {
             "colorbar": {
              "outlinewidth": 0,
              "ticks": ""
             }
            },
            "type": "scatterpolar"
           }
          ],
          "scatterpolargl": [
           {
            "marker": {
             "colorbar": {
              "outlinewidth": 0,
              "ticks": ""
             }
            },
            "type": "scatterpolargl"
           }
          ],
          "scatterternary": [
           {
            "marker": {
             "colorbar": {
              "outlinewidth": 0,
              "ticks": ""
             }
            },
            "type": "scatterternary"
           }
          ],
          "surface": [
           {
            "colorbar": {
             "outlinewidth": 0,
             "ticks": ""
            },
            "colorscale": [
             [
              0,
              "#0d0887"
             ],
             [
              0.1111111111111111,
              "#46039f"
             ],
             [
              0.2222222222222222,
              "#7201a8"
             ],
             [
              0.3333333333333333,
              "#9c179e"
             ],
             [
              0.4444444444444444,
              "#bd3786"
             ],
             [
              0.5555555555555556,
              "#d8576b"
             ],
             [
              0.6666666666666666,
              "#ed7953"
             ],
             [
              0.7777777777777778,
              "#fb9f3a"
             ],
             [
              0.8888888888888888,
              "#fdca26"
             ],
             [
              1,
              "#f0f921"
             ]
            ],
            "type": "surface"
           }
          ],
          "table": [
           {
            "cells": {
             "fill": {
              "color": "#EBF0F8"
             },
             "line": {
              "color": "white"
             }
            },
            "header": {
             "fill": {
              "color": "#C8D4E3"
             },
             "line": {
              "color": "white"
             }
            },
            "type": "table"
           }
          ]
         },
         "layout": {
          "annotationdefaults": {
           "arrowcolor": "#2a3f5f",
           "arrowhead": 0,
           "arrowwidth": 1
          },
          "coloraxis": {
           "colorbar": {
            "outlinewidth": 0,
            "ticks": ""
           }
          },
          "colorscale": {
           "diverging": [
            [
             0,
             "#8e0152"
            ],
            [
             0.1,
             "#c51b7d"
            ],
            [
             0.2,
             "#de77ae"
            ],
            [
             0.3,
             "#f1b6da"
            ],
            [
             0.4,
             "#fde0ef"
            ],
            [
             0.5,
             "#f7f7f7"
            ],
            [
             0.6,
             "#e6f5d0"
            ],
            [
             0.7,
             "#b8e186"
            ],
            [
             0.8,
             "#7fbc41"
            ],
            [
             0.9,
             "#4d9221"
            ],
            [
             1,
             "#276419"
            ]
           ],
           "sequential": [
            [
             0,
             "#0d0887"
            ],
            [
             0.1111111111111111,
             "#46039f"
            ],
            [
             0.2222222222222222,
             "#7201a8"
            ],
            [
             0.3333333333333333,
             "#9c179e"
            ],
            [
             0.4444444444444444,
             "#bd3786"
            ],
            [
             0.5555555555555556,
             "#d8576b"
            ],
            [
             0.6666666666666666,
             "#ed7953"
            ],
            [
             0.7777777777777778,
             "#fb9f3a"
            ],
            [
             0.8888888888888888,
             "#fdca26"
            ],
            [
             1,
             "#f0f921"
            ]
           ],
           "sequentialminus": [
            [
             0,
             "#0d0887"
            ],
            [
             0.1111111111111111,
             "#46039f"
            ],
            [
             0.2222222222222222,
             "#7201a8"
            ],
            [
             0.3333333333333333,
             "#9c179e"
            ],
            [
             0.4444444444444444,
             "#bd3786"
            ],
            [
             0.5555555555555556,
             "#d8576b"
            ],
            [
             0.6666666666666666,
             "#ed7953"
            ],
            [
             0.7777777777777778,
             "#fb9f3a"
            ],
            [
             0.8888888888888888,
             "#fdca26"
            ],
            [
             1,
             "#f0f921"
            ]
           ]
          },
          "colorway": [
           "#636efa",
           "#EF553B",
           "#00cc96",
           "#ab63fa",
           "#FFA15A",
           "#19d3f3",
           "#FF6692",
           "#B6E880",
           "#FF97FF",
           "#FECB52"
          ],
          "font": {
           "color": "#2a3f5f"
          },
          "geo": {
           "bgcolor": "white",
           "lakecolor": "white",
           "landcolor": "#E5ECF6",
           "showlakes": true,
           "showland": true,
           "subunitcolor": "white"
          },
          "hoverlabel": {
           "align": "left"
          },
          "hovermode": "closest",
          "mapbox": {
           "style": "light"
          },
          "paper_bgcolor": "white",
          "plot_bgcolor": "#E5ECF6",
          "polar": {
           "angularaxis": {
            "gridcolor": "white",
            "linecolor": "white",
            "ticks": ""
           },
           "bgcolor": "#E5ECF6",
           "radialaxis": {
            "gridcolor": "white",
            "linecolor": "white",
            "ticks": ""
           }
          },
          "scene": {
           "xaxis": {
            "backgroundcolor": "#E5ECF6",
            "gridcolor": "white",
            "gridwidth": 2,
            "linecolor": "white",
            "showbackground": true,
            "ticks": "",
            "zerolinecolor": "white"
           },
           "yaxis": {
            "backgroundcolor": "#E5ECF6",
            "gridcolor": "white",
            "gridwidth": 2,
            "linecolor": "white",
            "showbackground": true,
            "ticks": "",
            "zerolinecolor": "white"
           },
           "zaxis": {
            "backgroundcolor": "#E5ECF6",
            "gridcolor": "white",
            "gridwidth": 2,
            "linecolor": "white",
            "showbackground": true,
            "ticks": "",
            "zerolinecolor": "white"
           }
          },
          "shapedefaults": {
           "line": {
            "color": "#2a3f5f"
           }
          },
          "ternary": {
           "aaxis": {
            "gridcolor": "white",
            "linecolor": "white",
            "ticks": ""
           },
           "baxis": {
            "gridcolor": "white",
            "linecolor": "white",
            "ticks": ""
           },
           "bgcolor": "#E5ECF6",
           "caxis": {
            "gridcolor": "white",
            "linecolor": "white",
            "ticks": ""
           }
          },
          "title": {
           "x": 0.05
          },
          "xaxis": {
           "automargin": true,
           "gridcolor": "white",
           "linecolor": "white",
           "ticks": "",
           "title": {
            "standoff": 15
           },
           "zerolinecolor": "white",
           "zerolinewidth": 2
          },
          "yaxis": {
           "automargin": true,
           "gridcolor": "white",
           "linecolor": "white",
           "ticks": "",
           "title": {
            "standoff": 15
           },
           "zerolinecolor": "white",
           "zerolinewidth": 2
          }
         }
        },
        "title": {
         "font": {
          "color": "#4D5663"
         },
         "text": "Sweeper Keeper - Support"
        },
        "xaxis": {
         "gridcolor": "#E1E5ED",
         "showgrid": true,
         "tickfont": {
          "color": "#4D5663"
         },
         "title": {
          "font": {
           "color": "#4D5663"
          },
          "text": "Goals Conceded/90"
         },
         "zerolinecolor": "#E1E5ED"
        },
        "yaxis": {
         "gridcolor": "#E1E5ED",
         "showgrid": true,
         "tickfont": {
          "color": "#4D5663"
         },
         "title": {
          "font": {
           "color": "#4D5663"
          },
          "text": "Mistakes leading to a goal"
         },
         "zerolinecolor": "#E1E5ED"
        }
       }
      },
      "text/html": [
       "<div>\n",
       "        \n",
       "        \n",
       "            <div id=\"dd60b453-114b-4436-9763-ec57c7e8a705\" class=\"plotly-graph-div\" style=\"height:525px; width:100%;\"></div>\n",
       "            <script type=\"text/javascript\">\n",
       "                require([\"plotly\"], function(Plotly) {\n",
       "                    window.PLOTLYENV=window.PLOTLYENV || {};\n",
       "                    window.PLOTLYENV.BASE_URL='https://plot.ly';\n",
       "                    \n",
       "                if (document.getElementById(\"dd60b453-114b-4436-9763-ec57c7e8a705\")) {\n",
       "                    Plotly.newPlot(\n",
       "                        'dd60b453-114b-4436-9763-ec57c7e8a705',\n",
       "                        [{\"line\": {\"color\": \"rgba(255, 153, 51, 1.0)\", \"dash\": \"solid\", \"shape\": \"linear\", \"width\": 1.3}, \"marker\": {\"size\": 10, \"symbol\": \"circle\"}, \"mode\": \"markers\", \"name\": \"Gl Mst\", \"text\": [\"Djibril Diakit\\u00c3\\u00a9\", \"Jo\\u00c3\\u00a3o Tavares\", \"Matej Hudecek\", \"Adrian Rybak\", \"Oskar Repka\", \"Maciej Obodecki\", \"Ivo Kralj\", \"Bartosz Sobczyk\", \"Ivan Tomac\", \"Nikola Bogdanovski\", \"Stefan Velickovic\", \"Andrija Zakoc\", \"Aur\\u00c3\\u00a9lien Nguiamba\", \"Flynn Downes\", \"Nikola Puzic\", \"Andjelo Kacavenda\", \"Tymoteusz Puchacz\", \"Felix Brunmayr\", \"Lennart Grill\", \"Josip Rakic\", \"Stefan Randjelovic\", \"Radoslaw Dzierbicki\", \"Alexandar Ubavic\", \"Veljko Jovkovic\", \"Mariano G\\u00c3\\u00b3mez\", \"David Bumberger\", \"Enrico Huss\", \"Mateo Jaksic\", \"Konrad Jozwicki\", \"Nikita Marusenko\", \"Djordje Jovanovic\", \"Filip Lisnic\", \"Dawid Szalas\", \"Vladimir Ilic\", \"Marcin Mackowiak\", \"Florin Codrean\", \"David Otto\", \"Stefan Golubovic\", \"Keanan Bennetts\", \"Andrej Vukas\", \"Jannik Tepe\", \"Mladen Devetak\", \"Tom Baack\", \"Jan Sobocinski\", \"Tom\\u00c3\\u00a1s Blanco\", \"Sinan Karweina\", \"Ben Williams\", \"Arkadiusz Zajaczkowski\", \"Miguel Reisinho\", \"Filp Ceko\", \"Michel St\\u00c3\\u00b6cker\", \"J\\u00c3\\u00a9r\\u00c3\\u00b4me Deom\", \"Ranko Jokic\", \"Palko D\\u00c3\\u00a1rdai\", \"Aleksander Tomasz\", \"Alex Vigo\", \"Daniel Bielica\", \"Marko Djira\", \"Norbert Walczak\", \"Boris Moltenis\", \"Julius Kade\", \"Goran Buljandric\", \"Jannis K\\u00c3\\u00bcbler\", \"Aleksa Jovanovic\", \"Tomasz Owczarek\", \"David Wittkowski\", \"Konrad Zaklika\", \"Pawel Karbowinski\", \"Nicky Werner\", \"Julijan Popovic\", \"Nassim Boujellab\", \"Bartlomiej Gajda\", \"Nemanja Matijevic\", \"Marko Denic\", \"Robert Baar\", \"Tuta\", \"Dusan Jokovic\", \"Tomasz Dzida\", \"Aleksa Pejic\", \"Krsta Bojic\", \"Sikou Niakat\\u00c3\\u00a9\", \"Tomasz Makowski\", \"Sebastian Gwozdz\", \"Adrian Polanski\", \"Bryan Mbeumo\", \"Dorin Sirbu\", \"Elvis Novalic\", \"Micka\\u00c3\\u00abl Cuisance\", \"Mateusz Madzia\", \"Jes\\u00c3\\u00bas Vargas\", \"Marino Jedvaj\", \"Raphael Assibey-Mensah\", \"Lukasz Sztylka\", \"Zoran Zrnzevic\", \"Alex Krawiec\", \"Petar Melezovic\", \"Tomasz Kurek\", \"Danko Radic\", \"Paul Mensah\", \"Jordan Williams\", \"Mario Mustapic\", \"Nikola Trickovic\", \"Patrik Delic\", \"Maciej Famulak\", \"Wiktor Nahrebecki\", \"Barne Poggenberg\", \"Mirza Jasarevic\", \"Ratko Minic\", \"Semih \\u00c5\\u009eahin\", \"Matej Santek\", \"Georgios Siadas\", \"Tyrese Campbell\", \"Martin Krizmanic\", \"Kacper Laskos\", \"Aleksa Milojevic\", \"Cheick Doucour\\u00c3\\u00a9\", \"Ivan Jakovljev\", \"Przemyslaw Zdybowicz\", \"Sven Botman\", \"Malik Karaahmet\", \"Lukas Kr\\u00c3\\u00bcger\", \"Niclas Stierlin\", \"Mane Markovic\", \"Karol Czubak\", \"Ilija Dejanovic\", \"Pascal Hackethal\", \"Oleg Gorin\", \"Michal Zieba\", \"Miodrag Maljkovic\", \"Jakov Blagaic\", \"Harisson Marcelin\", \"Vice Bazdaric\", \"Daniel Liszka\", \"Jan Sieracki\", \"Jhonny Lucas\", \"Tymoteusz Klups\", \"Josip Sutalo\", \"Othman Boussaid\", \"Evert Linthorst\", \"Jusuf Gazibegovic\", \"Virgiliu Postolachi\", \"Luis G\\u00c3\\u00b6rlich\", \"Andrej Ilic\", \"Daniel Haritonov\", \"Patryk Drabik\", \"Tom Dobek-Pietrowski\", \"Michal Mydlarz\", \"Cho Jeong-Hui\", \"Mohamed Loua\", \"Nemanja Zikic\", \"Emir Sejdovic\", \"Samuel Lengle\", \"Mateusz Duchowski\", \"Iliya Gruev\", \"Bartosz Borun\", \"Juraj Ljubic\", \"Gon\\u00c3\\u00a7alo Rebelo\", \"Dominik Resetar\", \"Jurica Prsir\", \"Piotr Wujec\", \"Jan Majsterek\", \"Mitchel Bakker\", \"Kamil Piatkowski\", \"Michal Ozga\", \"Karol Turek\", \"Toni Karimovic\", \"Billy Crellin\", \"Konrad Sieracki\", \"Vando Luis\", \"Jan Los\", \"Jessic Ngankam\", \"Adam Borkowski\", \"Julian Rieckmann\", \"Luka Pavlak\", \"Robert Ion\", \"Linus Rosenl\\u00c3\\u00b6cher\", \"Eugen Telch\", \"Nicholas Wunsch\", \"Dawid Kisly\", \"Uros Miloradovic\", \"Alois Oroz\", \"Luca Bazzoli\", \"Ronan Darcy\", \"Yann-Aurel Bisseck\", \"Timo Bornemann\", \"Radivoj Bosic\", \"Jakov Katusa\", \"Kacper Jozefiak\", \"Szymon Mroczko\", \"Karol Struski\", \"Wojciech Kaminski\", \"Piotr Lisowski\", \"Daishawn Redan\", \"Kacper Smolinski\", \"Lukas Sch\\u00c3\\u00b6fl\", \"Mikolaj Labojko\", \"Jakub Karbownik\", \"Damir Magdic\", \"Karol Malec\", \"Patryk Wozniak\", \"Can Bozdogan\", \"Aleksander Paluszek\", \"Mario Cuic\", \"Dragoljub Savic\", \"Nathan Collins\", \"Dominik Pila\", \"Mihael Kupresak\", \"Manu Kon\\u00c3\\u00a9\", \"Niels Hahn\", \"Tin Hrvoj\", \"Lucas Da Cunha\", \"Rahim Ibrahim\", \"Renato Josipovic\", \"Han-Noah Massengo\", \"Kacper Wiatrak\", \"Bartosz Kuzniarski\", \"Adrian Petk\", \"Fabian Tauchhammer\", \"Bartlomiej Mruk\", \"Jakub Rudek\", \"Jakub Swiecinski\", \"Jakub Nowakowski\", \"Kamil Dabrowski\", \"Yuri Sprandel Flores\", \"Stefan Radmanovac\", \"Kamal Bafounta\", \"Filip Marchwinski\", \"Kamil Lukoszek\", \"Jakub Niewiadomski\", \"Dominik Kedzior\", \"Joe Gelhardt\", \"Filip Sobiecki\", \"Fran Tomek\", \"Hubert Wasiewski\", \"Djordje Vasic\", \"Jakub Zima\", \"Damian Makuch\", \"Andrzej Kloda\", \"Stipe Biuk\", \"Mateusz Pienczak\", \"FIlip Brekalo\", \"Stefan Despotovski\", \"Jakub Kisiel\", \"Duje Skugor\", \"Martin Baturina\", \"Radoslaw Cielemecki\", \"Ariel Mosor\", \"Nikola Petkovic\", \"Nikodem Sujecki\", \"Ivan Mandic\", \"Stanislaw Loch\", \"Dario Grgic\", \"Wojciech Szybka\", \"Kacper Szmidt\", \"Vukasin Krstic\", \"Obrendo Doesburg\", \"Casper Elderman\", \"Predrag Jovic\", \"Daniel Hoyo-Kowalski\", \"Darijo Basic\", \"Wiktor Mosur\", \"Uros Mirkovic\", \"Marcos Rodr\\u00c3\\u00adguez\", \"Adrian \\u00c5\\u00a2apu\", \"Paul Mari\", \"Pawel Muzylowski\", \"Dragan Radovic\", \"Szymon Kobeszko\", \"Marcin Dabrowski\", \"Jorge Delgado\", \"Daniel Piesio\", null], \"type\": \"scatter\", \"x\": [\"-\", \"-\", \"-\", \"-\", \"-\", \"-\", \"-\", \"-\", \"-\", \"-\", \"-\", \"-\", \"-\", \"-\", \"-\", \"-\", \"-\", \"-\", \"0.90\", \"-\", \"1.98\", \"-\", \"-\", \"-\", \"-\", \"-\", \"-\", \"-\", \"-\", \"-\", \"-\", \"-\", \"-\", \"-\", \"-\", \"-\", \"-\", \"-\", \"-\", \"-\", \"-\", \"-\", \"-\", \"-\", \"-\", \"-\", \"-\", \"-\", \"-\", \"-\", \"-\", \"-\", \"-\", \"-\", \"-\", \"-\", \"1.07\", \"-\", \"-\", \"-\", \"-\", \"0.82\", \"-\", \"-\", \"-\", \"-\", \"-\", \"-\", \"-\", \"-\", \"-\", \"-\", \"-\", \"-\", \"-\", \"-\", \"-\", \"-\", \"-\", \"-\", \"-\", \"-\", \"-\", \"-\", \"-\", \"-\", \"-\", \"-\", \"-\", \"-\", \"-\", \"-\", \"-\", \"-\", \"-\", \"-\", \"-\", \"-\", \"-\", \"-\", \"1.67\", \"-\", \"-\", \"-\", \"-\", \"-\", \"-\", \"-\", \"-\", \"-\", \"-\", \"-\", \"-\", \"-\", \"0.93\", \"-\", \"-\", \"-\", \"-\", \"-\", \"-\", \"-\", \"0.90\", \"-\", \"-\", \"-\", \"-\", \"-\", \"-\", \"-\", \"-\", \"1.38\", \"-\", \"-\", \"-\", \"-\", \"-\", \"-\", \"-\", \"-\", \"-\", \"-\", \"-\", \"-\", \"-\", \"-\", \"-\", \"-\", \"-\", \"-\", \"-\", \"-\", \"-\", \"-\", \"-\", \"-\", \"-\", \"-\", \"-\", \"-\", \"-\", \"-\", \"-\", \"-\", \"-\", \"-\", \"1.25\", \"-\", \"-\", \"-\", \"-\", \"-\", \"-\", \"-\", \"-\", \"-\", \"-\", \"-\", \"-\", \"-\", \"-\", \"-\", \"-\", \"-\", \"-\", \"-\", \"-\", \"-\", \"-\", \"-\", \"-\", \"-\", \"-\", \"-\", \"-\", \"-\", \"-\", \"-\", \"-\", \"-\", \"-\", \"-\", \"-\", \"-\", \"-\", \"-\", \"-\", \"-\", \"-\", \"-\", \"-\", \"-\", \"1.25\", \"-\", \"-\", \"-\", \"-\", \"-\", \"-\", \"-\", \"-\", \"-\", \"-\", \"-\", \"-\", \"-\", \"-\", \"-\", \"-\", \"-\", \"-\", \"-\", \"-\", \"1.18\", \"-\", \"-\", \"-\", \"-\", \"-\", \"-\", \"-\", \"-\", \"-\", \"-\", \"-\", \"-\", \"-\", \"-\", \"0.98\", \"1.61\", \"-\", \"-\", \"-\", \"-\", \"-\", \"-\", \"-\", \"-\", \"-\", \"-\", \"-\", \"-\", \"-\", \"-\", \"-\", \"-\", \"-\", \"-\", \"-\", \"-\", \"-\", null], \"y\": [0.0, 0.0, 0.0, 0.0, 0.0, 0.0, 0.0, 0.0, 0.0, 0.0, 0.0, 0.0, 0.0, 0.0, 0.0, 0.0, 0.0, 0.0, 0.0, 0.0, 0.0, 0.0, 0.0, 0.0, 0.0, 0.0, 0.0, 0.0, 0.0, 0.0, 0.0, 0.0, 0.0, 0.0, 0.0, 0.0, 0.0, 0.0, 0.0, 0.0, 0.0, 0.0, 0.0, 0.0, 0.0, 0.0, 0.0, 0.0, 0.0, 0.0, 0.0, 0.0, 0.0, 0.0, 0.0, 0.0, 0.0, 0.0, 0.0, 0.0, 0.0, 0.0, 0.0, 0.0, 0.0, 0.0, 0.0, 0.0, 0.0, 0.0, 0.0, 0.0, 0.0, 0.0, 0.0, 0.0, 0.0, 0.0, 0.0, 0.0, 0.0, 0.0, 0.0, 0.0, 0.0, 0.0, 0.0, 0.0, 0.0, 0.0, 0.0, 0.0, 0.0, 0.0, 0.0, 0.0, 0.0, 0.0, 0.0, 0.0, 0.0, 0.0, 0.0, 0.0, 0.0, 0.0, 0.0, 0.0, 0.0, 0.0, 0.0, 0.0, 0.0, 0.0, 0.0, 0.0, 0.0, 0.0, 0.0, 0.0, 0.0, 2.0, 0.0, 0.0, 0.0, 0.0, 0.0, 0.0, 0.0, 0.0, 0.0, 1.0, 0.0, 0.0, 0.0, 0.0, 0.0, 0.0, 0.0, 0.0, 0.0, 0.0, 0.0, 0.0, 0.0, 0.0, 0.0, 1.0, 0.0, 0.0, 0.0, 0.0, 0.0, 0.0, 0.0, 0.0, 0.0, 0.0, 0.0, 0.0, 0.0, 1.0, 0.0, 0.0, 0.0, 0.0, 0.0, 0.0, 0.0, 0.0, 0.0, 0.0, 0.0, 0.0, 0.0, 0.0, 0.0, 0.0, 0.0, 0.0, 0.0, 0.0, 0.0, 0.0, 0.0, 0.0, 0.0, 0.0, 0.0, 0.0, 0.0, 0.0, 0.0, 0.0, 0.0, 0.0, 0.0, 0.0, 0.0, 0.0, 0.0, 0.0, 0.0, 0.0, 0.0, 0.0, 0.0, 0.0, 0.0, 0.0, 0.0, 0.0, 0.0, 0.0, 0.0, 0.0, 0.0, 0.0, 0.0, 0.0, 0.0, 0.0, 0.0, 0.0, 0.0, 0.0, 0.0, 0.0, 0.0, 0.0, 0.0, 0.0, 0.0, 0.0, 0.0, 0.0, 0.0, 0.0, 0.0, 0.0, 0.0, 0.0, 0.0, 0.0, 0.0, 0.0, 0.0, 0.0, 0.0, 3.0, 0.0, 0.0, 0.0, 0.0, 0.0, 0.0, 0.0, 0.0, 0.0, 0.0, 0.0, 0.0, 0.0, 0.0, 0.0, 0.0, 0.0, 0.0, 0.0, 0.0, 0.0, \"\"]}],\n",
       "                        {\"legend\": {\"bgcolor\": \"#F5F6F9\", \"font\": {\"color\": \"#4D5663\"}}, \"paper_bgcolor\": \"#F5F6F9\", \"plot_bgcolor\": \"#F5F6F9\", \"template\": {\"data\": {\"bar\": [{\"error_x\": {\"color\": \"#2a3f5f\"}, \"error_y\": {\"color\": \"#2a3f5f\"}, \"marker\": {\"line\": {\"color\": \"#E5ECF6\", \"width\": 0.5}}, \"type\": \"bar\"}], \"barpolar\": [{\"marker\": {\"line\": {\"color\": \"#E5ECF6\", \"width\": 0.5}}, \"type\": \"barpolar\"}], \"carpet\": [{\"aaxis\": {\"endlinecolor\": \"#2a3f5f\", \"gridcolor\": \"white\", \"linecolor\": \"white\", \"minorgridcolor\": \"white\", \"startlinecolor\": \"#2a3f5f\"}, \"baxis\": {\"endlinecolor\": \"#2a3f5f\", \"gridcolor\": \"white\", \"linecolor\": \"white\", \"minorgridcolor\": \"white\", \"startlinecolor\": \"#2a3f5f\"}, \"type\": \"carpet\"}], \"choropleth\": [{\"colorbar\": {\"outlinewidth\": 0, \"ticks\": \"\"}, \"type\": \"choropleth\"}], \"contour\": [{\"colorbar\": {\"outlinewidth\": 0, \"ticks\": \"\"}, \"colorscale\": [[0.0, \"#0d0887\"], [0.1111111111111111, \"#46039f\"], [0.2222222222222222, \"#7201a8\"], [0.3333333333333333, \"#9c179e\"], [0.4444444444444444, \"#bd3786\"], [0.5555555555555556, \"#d8576b\"], [0.6666666666666666, \"#ed7953\"], [0.7777777777777778, \"#fb9f3a\"], [0.8888888888888888, \"#fdca26\"], [1.0, \"#f0f921\"]], \"type\": \"contour\"}], \"contourcarpet\": [{\"colorbar\": {\"outlinewidth\": 0, \"ticks\": \"\"}, \"type\": \"contourcarpet\"}], \"heatmap\": [{\"colorbar\": {\"outlinewidth\": 0, \"ticks\": \"\"}, \"colorscale\": [[0.0, \"#0d0887\"], [0.1111111111111111, \"#46039f\"], [0.2222222222222222, \"#7201a8\"], [0.3333333333333333, \"#9c179e\"], [0.4444444444444444, \"#bd3786\"], [0.5555555555555556, \"#d8576b\"], [0.6666666666666666, \"#ed7953\"], [0.7777777777777778, \"#fb9f3a\"], [0.8888888888888888, \"#fdca26\"], [1.0, \"#f0f921\"]], \"type\": \"heatmap\"}], \"heatmapgl\": [{\"colorbar\": {\"outlinewidth\": 0, \"ticks\": \"\"}, \"colorscale\": [[0.0, \"#0d0887\"], [0.1111111111111111, \"#46039f\"], [0.2222222222222222, \"#7201a8\"], [0.3333333333333333, \"#9c179e\"], [0.4444444444444444, \"#bd3786\"], [0.5555555555555556, \"#d8576b\"], [0.6666666666666666, \"#ed7953\"], [0.7777777777777778, \"#fb9f3a\"], [0.8888888888888888, \"#fdca26\"], [1.0, \"#f0f921\"]], \"type\": \"heatmapgl\"}], \"histogram\": [{\"marker\": {\"colorbar\": {\"outlinewidth\": 0, \"ticks\": \"\"}}, \"type\": \"histogram\"}], \"histogram2d\": [{\"colorbar\": {\"outlinewidth\": 0, \"ticks\": \"\"}, \"colorscale\": [[0.0, \"#0d0887\"], [0.1111111111111111, \"#46039f\"], [0.2222222222222222, \"#7201a8\"], [0.3333333333333333, \"#9c179e\"], [0.4444444444444444, \"#bd3786\"], [0.5555555555555556, \"#d8576b\"], [0.6666666666666666, \"#ed7953\"], [0.7777777777777778, \"#fb9f3a\"], [0.8888888888888888, \"#fdca26\"], [1.0, \"#f0f921\"]], \"type\": \"histogram2d\"}], \"histogram2dcontour\": [{\"colorbar\": {\"outlinewidth\": 0, \"ticks\": \"\"}, \"colorscale\": [[0.0, \"#0d0887\"], [0.1111111111111111, \"#46039f\"], [0.2222222222222222, \"#7201a8\"], [0.3333333333333333, \"#9c179e\"], [0.4444444444444444, \"#bd3786\"], [0.5555555555555556, \"#d8576b\"], [0.6666666666666666, \"#ed7953\"], [0.7777777777777778, \"#fb9f3a\"], [0.8888888888888888, \"#fdca26\"], [1.0, \"#f0f921\"]], \"type\": \"histogram2dcontour\"}], \"mesh3d\": [{\"colorbar\": {\"outlinewidth\": 0, \"ticks\": \"\"}, \"type\": \"mesh3d\"}], \"parcoords\": [{\"line\": {\"colorbar\": {\"outlinewidth\": 0, \"ticks\": \"\"}}, \"type\": \"parcoords\"}], \"pie\": [{\"automargin\": true, \"type\": \"pie\"}], \"scatter\": [{\"marker\": {\"colorbar\": {\"outlinewidth\": 0, \"ticks\": \"\"}}, \"type\": \"scatter\"}], \"scatter3d\": [{\"line\": {\"colorbar\": {\"outlinewidth\": 0, \"ticks\": \"\"}}, \"marker\": {\"colorbar\": {\"outlinewidth\": 0, \"ticks\": \"\"}}, \"type\": \"scatter3d\"}], \"scattercarpet\": [{\"marker\": {\"colorbar\": {\"outlinewidth\": 0, \"ticks\": \"\"}}, \"type\": \"scattercarpet\"}], \"scattergeo\": [{\"marker\": {\"colorbar\": {\"outlinewidth\": 0, \"ticks\": \"\"}}, \"type\": \"scattergeo\"}], \"scattergl\": [{\"marker\": {\"colorbar\": {\"outlinewidth\": 0, \"ticks\": \"\"}}, \"type\": \"scattergl\"}], \"scattermapbox\": [{\"marker\": {\"colorbar\": {\"outlinewidth\": 0, \"ticks\": \"\"}}, \"type\": \"scattermapbox\"}], \"scatterpolar\": [{\"marker\": {\"colorbar\": {\"outlinewidth\": 0, \"ticks\": \"\"}}, \"type\": \"scatterpolar\"}], \"scatterpolargl\": [{\"marker\": {\"colorbar\": {\"outlinewidth\": 0, \"ticks\": \"\"}}, \"type\": \"scatterpolargl\"}], \"scatterternary\": [{\"marker\": {\"colorbar\": {\"outlinewidth\": 0, \"ticks\": \"\"}}, \"type\": \"scatterternary\"}], \"surface\": [{\"colorbar\": {\"outlinewidth\": 0, \"ticks\": \"\"}, \"colorscale\": [[0.0, \"#0d0887\"], [0.1111111111111111, \"#46039f\"], [0.2222222222222222, \"#7201a8\"], [0.3333333333333333, \"#9c179e\"], [0.4444444444444444, \"#bd3786\"], [0.5555555555555556, \"#d8576b\"], [0.6666666666666666, \"#ed7953\"], [0.7777777777777778, \"#fb9f3a\"], [0.8888888888888888, \"#fdca26\"], [1.0, \"#f0f921\"]], \"type\": \"surface\"}], \"table\": [{\"cells\": {\"fill\": {\"color\": \"#EBF0F8\"}, \"line\": {\"color\": \"white\"}}, \"header\": {\"fill\": {\"color\": \"#C8D4E3\"}, \"line\": {\"color\": \"white\"}}, \"type\": \"table\"}]}, \"layout\": {\"annotationdefaults\": {\"arrowcolor\": \"#2a3f5f\", \"arrowhead\": 0, \"arrowwidth\": 1}, \"coloraxis\": {\"colorbar\": {\"outlinewidth\": 0, \"ticks\": \"\"}}, \"colorscale\": {\"diverging\": [[0, \"#8e0152\"], [0.1, \"#c51b7d\"], [0.2, \"#de77ae\"], [0.3, \"#f1b6da\"], [0.4, \"#fde0ef\"], [0.5, \"#f7f7f7\"], [0.6, \"#e6f5d0\"], [0.7, \"#b8e186\"], [0.8, \"#7fbc41\"], [0.9, \"#4d9221\"], [1, \"#276419\"]], \"sequential\": [[0.0, \"#0d0887\"], [0.1111111111111111, \"#46039f\"], [0.2222222222222222, \"#7201a8\"], [0.3333333333333333, \"#9c179e\"], [0.4444444444444444, \"#bd3786\"], [0.5555555555555556, \"#d8576b\"], [0.6666666666666666, \"#ed7953\"], [0.7777777777777778, \"#fb9f3a\"], [0.8888888888888888, \"#fdca26\"], [1.0, \"#f0f921\"]], \"sequentialminus\": [[0.0, \"#0d0887\"], [0.1111111111111111, \"#46039f\"], [0.2222222222222222, \"#7201a8\"], [0.3333333333333333, \"#9c179e\"], [0.4444444444444444, \"#bd3786\"], [0.5555555555555556, \"#d8576b\"], [0.6666666666666666, \"#ed7953\"], [0.7777777777777778, \"#fb9f3a\"], [0.8888888888888888, \"#fdca26\"], [1.0, \"#f0f921\"]]}, \"colorway\": [\"#636efa\", \"#EF553B\", \"#00cc96\", \"#ab63fa\", \"#FFA15A\", \"#19d3f3\", \"#FF6692\", \"#B6E880\", \"#FF97FF\", \"#FECB52\"], \"font\": {\"color\": \"#2a3f5f\"}, \"geo\": {\"bgcolor\": \"white\", \"lakecolor\": \"white\", \"landcolor\": \"#E5ECF6\", \"showlakes\": true, \"showland\": true, \"subunitcolor\": \"white\"}, \"hoverlabel\": {\"align\": \"left\"}, \"hovermode\": \"closest\", \"mapbox\": {\"style\": \"light\"}, \"paper_bgcolor\": \"white\", \"plot_bgcolor\": \"#E5ECF6\", \"polar\": {\"angularaxis\": {\"gridcolor\": \"white\", \"linecolor\": \"white\", \"ticks\": \"\"}, \"bgcolor\": \"#E5ECF6\", \"radialaxis\": {\"gridcolor\": \"white\", \"linecolor\": \"white\", \"ticks\": \"\"}}, \"scene\": {\"xaxis\": {\"backgroundcolor\": \"#E5ECF6\", \"gridcolor\": \"white\", \"gridwidth\": 2, \"linecolor\": \"white\", \"showbackground\": true, \"ticks\": \"\", \"zerolinecolor\": \"white\"}, \"yaxis\": {\"backgroundcolor\": \"#E5ECF6\", \"gridcolor\": \"white\", \"gridwidth\": 2, \"linecolor\": \"white\", \"showbackground\": true, \"ticks\": \"\", \"zerolinecolor\": \"white\"}, \"zaxis\": {\"backgroundcolor\": \"#E5ECF6\", \"gridcolor\": \"white\", \"gridwidth\": 2, \"linecolor\": \"white\", \"showbackground\": true, \"ticks\": \"\", \"zerolinecolor\": \"white\"}}, \"shapedefaults\": {\"line\": {\"color\": \"#2a3f5f\"}}, \"ternary\": {\"aaxis\": {\"gridcolor\": \"white\", \"linecolor\": \"white\", \"ticks\": \"\"}, \"baxis\": {\"gridcolor\": \"white\", \"linecolor\": \"white\", \"ticks\": \"\"}, \"bgcolor\": \"#E5ECF6\", \"caxis\": {\"gridcolor\": \"white\", \"linecolor\": \"white\", \"ticks\": \"\"}}, \"title\": {\"x\": 0.05}, \"xaxis\": {\"automargin\": true, \"gridcolor\": \"white\", \"linecolor\": \"white\", \"ticks\": \"\", \"title\": {\"standoff\": 15}, \"zerolinecolor\": \"white\", \"zerolinewidth\": 2}, \"yaxis\": {\"automargin\": true, \"gridcolor\": \"white\", \"linecolor\": \"white\", \"ticks\": \"\", \"title\": {\"standoff\": 15}, \"zerolinecolor\": \"white\", \"zerolinewidth\": 2}}}, \"title\": {\"font\": {\"color\": \"#4D5663\"}, \"text\": \"Sweeper Keeper - Support\"}, \"xaxis\": {\"gridcolor\": \"#E1E5ED\", \"showgrid\": true, \"tickfont\": {\"color\": \"#4D5663\"}, \"title\": {\"font\": {\"color\": \"#4D5663\"}, \"text\": \"Goals Conceded/90\"}, \"zerolinecolor\": \"#E1E5ED\"}, \"yaxis\": {\"gridcolor\": \"#E1E5ED\", \"showgrid\": true, \"tickfont\": {\"color\": \"#4D5663\"}, \"title\": {\"font\": {\"color\": \"#4D5663\"}, \"text\": \"Mistakes leading to a goal\"}, \"zerolinecolor\": \"#E1E5ED\"}},\n",
       "                        {\"showLink\": true, \"linkText\": \"Export to plot.ly\", \"plotlyServerURL\": \"https://plot.ly\", \"responsive\": true}\n",
       "                    ).then(function(){\n",
       "                            \n",
       "var gd = document.getElementById('dd60b453-114b-4436-9763-ec57c7e8a705');\n",
       "var x = new MutationObserver(function (mutations, observer) {{\n",
       "        var display = window.getComputedStyle(gd).display;\n",
       "        if (!display || display === 'none') {{\n",
       "            console.log([gd, 'removed!']);\n",
       "            Plotly.purge(gd);\n",
       "            observer.disconnect();\n",
       "        }}\n",
       "}});\n",
       "\n",
       "// Listen for the removal of the full notebook cells\n",
       "var notebookContainer = gd.closest('#notebook-container');\n",
       "if (notebookContainer) {{\n",
       "    x.observe(notebookContainer, {childList: true});\n",
       "}}\n",
       "\n",
       "// Listen for the clearing of the current output cell\n",
       "var outputEl = gd.closest('.output');\n",
       "if (outputEl) {{\n",
       "    x.observe(outputEl, {childList: true});\n",
       "}}\n",
       "\n",
       "                        })\n",
       "                };\n",
       "                });\n",
       "            </script>\n",
       "        </div>"
      ]
     },
     "metadata": {},
     "output_type": "display_data"
    }
   ],
   "source": [
    "# Create Scatter Plot \n",
    "\n",
    "df1.iplot(kind='scatter',x='Con/90',y='Gl Mst',\n",
    "           mode='markers',text='Name',size=10,\n",
    "          xTitle='Goals Conceded/90',yTitle='Mistakes leading to a goal',title='Sweeper Keeper - Support')"
   ]
  },
  {
   "cell_type": "code",
   "execution_count": 8,
   "metadata": {},
   "outputs": [
    {
     "name": "stdout",
     "output_type": "stream",
     "text": [
      "Complete Wing Back - Support\n"
     ]
    },
    {
     "data": {
      "text/html": [
       "<style  type=\"text/css\" >\n",
       "    #T_dfc10149_91d2_11ea_b1d8_4ceb428e4071row0_col1 {\n",
       "            background-color:  #d6e6f4;\n",
       "            color:  #000000;\n",
       "        }    #T_dfc10149_91d2_11ea_b1d8_4ceb428e4071row0_col2 {\n",
       "            background-color:  #08306b;\n",
       "            color:  #f1f1f1;\n",
       "        }    #T_dfc10149_91d2_11ea_b1d8_4ceb428e4071row0_col3 {\n",
       "            background-color:  #2b7bba;\n",
       "            color:  #000000;\n",
       "        }    #T_dfc10149_91d2_11ea_b1d8_4ceb428e4071row0_col4 {\n",
       "            background-color:  #1764ab;\n",
       "            color:  #f1f1f1;\n",
       "        }    #T_dfc10149_91d2_11ea_b1d8_4ceb428e4071row0_col5 {\n",
       "            background-color:  #f7fbff;\n",
       "            color:  #000000;\n",
       "        }    #T_dfc10149_91d2_11ea_b1d8_4ceb428e4071row0_col6 {\n",
       "            background-color:  #105ba4;\n",
       "            color:  #f1f1f1;\n",
       "        }    #T_dfc10149_91d2_11ea_b1d8_4ceb428e4071row0_col7 {\n",
       "            background-color:  #c6dbef;\n",
       "            color:  #000000;\n",
       "        }    #T_dfc10149_91d2_11ea_b1d8_4ceb428e4071row0_col8 {\n",
       "            background-color:  #539ecd;\n",
       "            color:  #000000;\n",
       "        }    #T_dfc10149_91d2_11ea_b1d8_4ceb428e4071row0_col9 {\n",
       "            background-color:  #dbe9f6;\n",
       "            color:  #000000;\n",
       "        }    #T_dfc10149_91d2_11ea_b1d8_4ceb428e4071row0_col10 {\n",
       "            background-color:  #4a98c9;\n",
       "            color:  #000000;\n",
       "        }    #T_dfc10149_91d2_11ea_b1d8_4ceb428e4071row0_col11 {\n",
       "            background-color:  #1764ab;\n",
       "            color:  #f1f1f1;\n",
       "        }    #T_dfc10149_91d2_11ea_b1d8_4ceb428e4071row0_col12 {\n",
       "            background-color:  #08306b;\n",
       "            color:  #f1f1f1;\n",
       "        }    #T_dfc10149_91d2_11ea_b1d8_4ceb428e4071row0_col13 {\n",
       "            background-color:  #94c4df;\n",
       "            color:  #000000;\n",
       "        }    #T_dfc10149_91d2_11ea_b1d8_4ceb428e4071row0_col14 {\n",
       "            background-color:  #08306b;\n",
       "            color:  #f1f1f1;\n",
       "        }    #T_dfc10149_91d2_11ea_b1d8_4ceb428e4071row1_col1 {\n",
       "            background-color:  #08306b;\n",
       "            color:  #f1f1f1;\n",
       "        }    #T_dfc10149_91d2_11ea_b1d8_4ceb428e4071row1_col2 {\n",
       "            background-color:  #58a1cf;\n",
       "            color:  #000000;\n",
       "        }    #T_dfc10149_91d2_11ea_b1d8_4ceb428e4071row1_col3 {\n",
       "            background-color:  #08306b;\n",
       "            color:  #f1f1f1;\n",
       "        }    #T_dfc10149_91d2_11ea_b1d8_4ceb428e4071row1_col4 {\n",
       "            background-color:  #d0e1f2;\n",
       "            color:  #000000;\n",
       "        }    #T_dfc10149_91d2_11ea_b1d8_4ceb428e4071row1_col5 {\n",
       "            background-color:  #89bedc;\n",
       "            color:  #000000;\n",
       "        }    #T_dfc10149_91d2_11ea_b1d8_4ceb428e4071row1_col6 {\n",
       "            background-color:  #105ba4;\n",
       "            color:  #f1f1f1;\n",
       "        }    #T_dfc10149_91d2_11ea_b1d8_4ceb428e4071row1_col7 {\n",
       "            background-color:  #6aaed6;\n",
       "            color:  #000000;\n",
       "        }    #T_dfc10149_91d2_11ea_b1d8_4ceb428e4071row1_col8 {\n",
       "            background-color:  #0b559f;\n",
       "            color:  #f1f1f1;\n",
       "        }    #T_dfc10149_91d2_11ea_b1d8_4ceb428e4071row1_col9 {\n",
       "            background-color:  #dbe9f6;\n",
       "            color:  #000000;\n",
       "        }    #T_dfc10149_91d2_11ea_b1d8_4ceb428e4071row1_col10 {\n",
       "            background-color:  #d0e1f2;\n",
       "            color:  #000000;\n",
       "        }    #T_dfc10149_91d2_11ea_b1d8_4ceb428e4071row1_col11 {\n",
       "            background-color:  #94c4df;\n",
       "            color:  #000000;\n",
       "        }    #T_dfc10149_91d2_11ea_b1d8_4ceb428e4071row1_col12 {\n",
       "            background-color:  #08306b;\n",
       "            color:  #f1f1f1;\n",
       "        }    #T_dfc10149_91d2_11ea_b1d8_4ceb428e4071row1_col13 {\n",
       "            background-color:  #1764ab;\n",
       "            color:  #f1f1f1;\n",
       "        }    #T_dfc10149_91d2_11ea_b1d8_4ceb428e4071row1_col14 {\n",
       "            background-color:  #0b559f;\n",
       "            color:  #f1f1f1;\n",
       "        }    #T_dfc10149_91d2_11ea_b1d8_4ceb428e4071row2_col1 {\n",
       "            background-color:  #abd0e6;\n",
       "            color:  #000000;\n",
       "        }    #T_dfc10149_91d2_11ea_b1d8_4ceb428e4071row2_col2 {\n",
       "            background-color:  #abd0e6;\n",
       "            color:  #000000;\n",
       "        }    #T_dfc10149_91d2_11ea_b1d8_4ceb428e4071row2_col3 {\n",
       "            background-color:  #0b559f;\n",
       "            color:  #f1f1f1;\n",
       "        }    #T_dfc10149_91d2_11ea_b1d8_4ceb428e4071row2_col4 {\n",
       "            background-color:  #d0e1f2;\n",
       "            color:  #000000;\n",
       "        }    #T_dfc10149_91d2_11ea_b1d8_4ceb428e4071row2_col5 {\n",
       "            background-color:  #f7fbff;\n",
       "            color:  #000000;\n",
       "        }    #T_dfc10149_91d2_11ea_b1d8_4ceb428e4071row2_col6 {\n",
       "            background-color:  #08306b;\n",
       "            color:  #f1f1f1;\n",
       "        }    #T_dfc10149_91d2_11ea_b1d8_4ceb428e4071row2_col7 {\n",
       "            background-color:  #2070b4;\n",
       "            color:  #f1f1f1;\n",
       "        }    #T_dfc10149_91d2_11ea_b1d8_4ceb428e4071row2_col8 {\n",
       "            background-color:  #539ecd;\n",
       "            color:  #000000;\n",
       "        }    #T_dfc10149_91d2_11ea_b1d8_4ceb428e4071row2_col9 {\n",
       "            background-color:  #08306b;\n",
       "            color:  #f1f1f1;\n",
       "        }    #T_dfc10149_91d2_11ea_b1d8_4ceb428e4071row2_col10 {\n",
       "            background-color:  #94c4df;\n",
       "            color:  #000000;\n",
       "        }    #T_dfc10149_91d2_11ea_b1d8_4ceb428e4071row2_col11 {\n",
       "            background-color:  #4a98c9;\n",
       "            color:  #000000;\n",
       "        }    #T_dfc10149_91d2_11ea_b1d8_4ceb428e4071row2_col12 {\n",
       "            background-color:  #f7fbff;\n",
       "            color:  #000000;\n",
       "        }    #T_dfc10149_91d2_11ea_b1d8_4ceb428e4071row2_col13 {\n",
       "            background-color:  #08306b;\n",
       "            color:  #f1f1f1;\n",
       "        }    #T_dfc10149_91d2_11ea_b1d8_4ceb428e4071row2_col14 {\n",
       "            background-color:  #2b7bba;\n",
       "            color:  #000000;\n",
       "        }    #T_dfc10149_91d2_11ea_b1d8_4ceb428e4071row3_col1 {\n",
       "            background-color:  #abd0e6;\n",
       "            color:  #000000;\n",
       "        }    #T_dfc10149_91d2_11ea_b1d8_4ceb428e4071row3_col2 {\n",
       "            background-color:  #abd0e6;\n",
       "            color:  #000000;\n",
       "        }    #T_dfc10149_91d2_11ea_b1d8_4ceb428e4071row3_col3 {\n",
       "            background-color:  #2b7bba;\n",
       "            color:  #000000;\n",
       "        }    #T_dfc10149_91d2_11ea_b1d8_4ceb428e4071row3_col4 {\n",
       "            background-color:  #08306b;\n",
       "            color:  #f1f1f1;\n",
       "        }    #T_dfc10149_91d2_11ea_b1d8_4ceb428e4071row3_col5 {\n",
       "            background-color:  #f7fbff;\n",
       "            color:  #000000;\n",
       "        }    #T_dfc10149_91d2_11ea_b1d8_4ceb428e4071row3_col6 {\n",
       "            background-color:  #abd0e6;\n",
       "            color:  #000000;\n",
       "        }    #T_dfc10149_91d2_11ea_b1d8_4ceb428e4071row3_col7 {\n",
       "            background-color:  #08306b;\n",
       "            color:  #f1f1f1;\n",
       "        }    #T_dfc10149_91d2_11ea_b1d8_4ceb428e4071row3_col8 {\n",
       "            background-color:  #08306b;\n",
       "            color:  #f1f1f1;\n",
       "        }    #T_dfc10149_91d2_11ea_b1d8_4ceb428e4071row3_col9 {\n",
       "            background-color:  #08306b;\n",
       "            color:  #f1f1f1;\n",
       "        }    #T_dfc10149_91d2_11ea_b1d8_4ceb428e4071row3_col10 {\n",
       "            background-color:  #4a98c9;\n",
       "            color:  #000000;\n",
       "        }    #T_dfc10149_91d2_11ea_b1d8_4ceb428e4071row3_col11 {\n",
       "            background-color:  #d0e1f2;\n",
       "            color:  #000000;\n",
       "        }    #T_dfc10149_91d2_11ea_b1d8_4ceb428e4071row3_col12 {\n",
       "            background-color:  #c6dbef;\n",
       "            color:  #000000;\n",
       "        }    #T_dfc10149_91d2_11ea_b1d8_4ceb428e4071row3_col13 {\n",
       "            background-color:  #d0e1f2;\n",
       "            color:  #000000;\n",
       "        }    #T_dfc10149_91d2_11ea_b1d8_4ceb428e4071row3_col14 {\n",
       "            background-color:  #539ecd;\n",
       "            color:  #000000;\n",
       "        }    #T_dfc10149_91d2_11ea_b1d8_4ceb428e4071row4_col1 {\n",
       "            background-color:  #f7fbff;\n",
       "            color:  #000000;\n",
       "        }    #T_dfc10149_91d2_11ea_b1d8_4ceb428e4071row4_col2 {\n",
       "            background-color:  #084d96;\n",
       "            color:  #f1f1f1;\n",
       "        }    #T_dfc10149_91d2_11ea_b1d8_4ceb428e4071row4_col3 {\n",
       "            background-color:  #dbe9f6;\n",
       "            color:  #000000;\n",
       "        }    #T_dfc10149_91d2_11ea_b1d8_4ceb428e4071row4_col4 {\n",
       "            background-color:  #f7fbff;\n",
       "            color:  #000000;\n",
       "        }    #T_dfc10149_91d2_11ea_b1d8_4ceb428e4071row4_col5 {\n",
       "            background-color:  #08306b;\n",
       "            color:  #f1f1f1;\n",
       "        }    #T_dfc10149_91d2_11ea_b1d8_4ceb428e4071row4_col6 {\n",
       "            background-color:  #3787c0;\n",
       "            color:  #000000;\n",
       "        }    #T_dfc10149_91d2_11ea_b1d8_4ceb428e4071row4_col7 {\n",
       "            background-color:  #f7fbff;\n",
       "            color:  #000000;\n",
       "        }    #T_dfc10149_91d2_11ea_b1d8_4ceb428e4071row4_col8 {\n",
       "            background-color:  #0b559f;\n",
       "            color:  #f1f1f1;\n",
       "        }    #T_dfc10149_91d2_11ea_b1d8_4ceb428e4071row4_col9 {\n",
       "            background-color:  #f7fbff;\n",
       "            color:  #000000;\n",
       "        }    #T_dfc10149_91d2_11ea_b1d8_4ceb428e4071row4_col10 {\n",
       "            background-color:  #4a98c9;\n",
       "            color:  #000000;\n",
       "        }    #T_dfc10149_91d2_11ea_b1d8_4ceb428e4071row4_col11 {\n",
       "            background-color:  #94c4df;\n",
       "            color:  #000000;\n",
       "        }    #T_dfc10149_91d2_11ea_b1d8_4ceb428e4071row4_col12 {\n",
       "            background-color:  #08306b;\n",
       "            color:  #f1f1f1;\n",
       "        }    #T_dfc10149_91d2_11ea_b1d8_4ceb428e4071row4_col13 {\n",
       "            background-color:  #94c4df;\n",
       "            color:  #000000;\n",
       "        }    #T_dfc10149_91d2_11ea_b1d8_4ceb428e4071row4_col14 {\n",
       "            background-color:  #bad6eb;\n",
       "            color:  #000000;\n",
       "        }    #T_dfc10149_91d2_11ea_b1d8_4ceb428e4071row5_col1 {\n",
       "            background-color:  #08306b;\n",
       "            color:  #f1f1f1;\n",
       "        }    #T_dfc10149_91d2_11ea_b1d8_4ceb428e4071row5_col2 {\n",
       "            background-color:  #3787c0;\n",
       "            color:  #000000;\n",
       "        }    #T_dfc10149_91d2_11ea_b1d8_4ceb428e4071row5_col3 {\n",
       "            background-color:  #89bedc;\n",
       "            color:  #000000;\n",
       "        }    #T_dfc10149_91d2_11ea_b1d8_4ceb428e4071row5_col4 {\n",
       "            background-color:  #08306b;\n",
       "            color:  #f1f1f1;\n",
       "        }    #T_dfc10149_91d2_11ea_b1d8_4ceb428e4071row5_col5 {\n",
       "            background-color:  #0b559f;\n",
       "            color:  #f1f1f1;\n",
       "        }    #T_dfc10149_91d2_11ea_b1d8_4ceb428e4071row5_col6 {\n",
       "            background-color:  #d6e6f4;\n",
       "            color:  #000000;\n",
       "        }    #T_dfc10149_91d2_11ea_b1d8_4ceb428e4071row5_col7 {\n",
       "            background-color:  #6aaed6;\n",
       "            color:  #000000;\n",
       "        }    #T_dfc10149_91d2_11ea_b1d8_4ceb428e4071row5_col8 {\n",
       "            background-color:  #0b559f;\n",
       "            color:  #f1f1f1;\n",
       "        }    #T_dfc10149_91d2_11ea_b1d8_4ceb428e4071row5_col9 {\n",
       "            background-color:  #bad6eb;\n",
       "            color:  #000000;\n",
       "        }    #T_dfc10149_91d2_11ea_b1d8_4ceb428e4071row5_col10 {\n",
       "            background-color:  #94c4df;\n",
       "            color:  #000000;\n",
       "        }    #T_dfc10149_91d2_11ea_b1d8_4ceb428e4071row5_col11 {\n",
       "            background-color:  #d0e1f2;\n",
       "            color:  #000000;\n",
       "        }    #T_dfc10149_91d2_11ea_b1d8_4ceb428e4071row5_col12 {\n",
       "            background-color:  #2070b4;\n",
       "            color:  #f1f1f1;\n",
       "        }    #T_dfc10149_91d2_11ea_b1d8_4ceb428e4071row5_col13 {\n",
       "            background-color:  #f7fbff;\n",
       "            color:  #000000;\n",
       "        }    #T_dfc10149_91d2_11ea_b1d8_4ceb428e4071row5_col14 {\n",
       "            background-color:  #bad6eb;\n",
       "            color:  #000000;\n",
       "        }    #T_dfc10149_91d2_11ea_b1d8_4ceb428e4071row6_col1 {\n",
       "            background-color:  #abd0e6;\n",
       "            color:  #000000;\n",
       "        }    #T_dfc10149_91d2_11ea_b1d8_4ceb428e4071row6_col2 {\n",
       "            background-color:  #82bbdb;\n",
       "            color:  #000000;\n",
       "        }    #T_dfc10149_91d2_11ea_b1d8_4ceb428e4071row6_col3 {\n",
       "            background-color:  #89bedc;\n",
       "            color:  #000000;\n",
       "        }    #T_dfc10149_91d2_11ea_b1d8_4ceb428e4071row6_col4 {\n",
       "            background-color:  #d0e1f2;\n",
       "            color:  #000000;\n",
       "        }    #T_dfc10149_91d2_11ea_b1d8_4ceb428e4071row6_col5 {\n",
       "            background-color:  #2b7bba;\n",
       "            color:  #000000;\n",
       "        }    #T_dfc10149_91d2_11ea_b1d8_4ceb428e4071row6_col6 {\n",
       "            background-color:  #abd0e6;\n",
       "            color:  #000000;\n",
       "        }    #T_dfc10149_91d2_11ea_b1d8_4ceb428e4071row6_col7 {\n",
       "            background-color:  #08306b;\n",
       "            color:  #f1f1f1;\n",
       "        }    #T_dfc10149_91d2_11ea_b1d8_4ceb428e4071row6_col8 {\n",
       "            background-color:  #f7fbff;\n",
       "            color:  #000000;\n",
       "        }    #T_dfc10149_91d2_11ea_b1d8_4ceb428e4071row6_col9 {\n",
       "            background-color:  #08306b;\n",
       "            color:  #f1f1f1;\n",
       "        }    #T_dfc10149_91d2_11ea_b1d8_4ceb428e4071row6_col10 {\n",
       "            background-color:  #1764ab;\n",
       "            color:  #f1f1f1;\n",
       "        }    #T_dfc10149_91d2_11ea_b1d8_4ceb428e4071row6_col11 {\n",
       "            background-color:  #94c4df;\n",
       "            color:  #000000;\n",
       "        }    #T_dfc10149_91d2_11ea_b1d8_4ceb428e4071row6_col12 {\n",
       "            background-color:  #6aaed6;\n",
       "            color:  #000000;\n",
       "        }    #T_dfc10149_91d2_11ea_b1d8_4ceb428e4071row6_col13 {\n",
       "            background-color:  #4a98c9;\n",
       "            color:  #000000;\n",
       "        }    #T_dfc10149_91d2_11ea_b1d8_4ceb428e4071row6_col14 {\n",
       "            background-color:  #bad6eb;\n",
       "            color:  #000000;\n",
       "        }    #T_dfc10149_91d2_11ea_b1d8_4ceb428e4071row7_col1 {\n",
       "            background-color:  #abd0e6;\n",
       "            color:  #000000;\n",
       "        }    #T_dfc10149_91d2_11ea_b1d8_4ceb428e4071row7_col2 {\n",
       "            background-color:  #f7fbff;\n",
       "            color:  #000000;\n",
       "        }    #T_dfc10149_91d2_11ea_b1d8_4ceb428e4071row7_col3 {\n",
       "            background-color:  #539ecd;\n",
       "            color:  #000000;\n",
       "        }    #T_dfc10149_91d2_11ea_b1d8_4ceb428e4071row7_col4 {\n",
       "            background-color:  #4a98c9;\n",
       "            color:  #000000;\n",
       "        }    #T_dfc10149_91d2_11ea_b1d8_4ceb428e4071row7_col5 {\n",
       "            background-color:  #89bedc;\n",
       "            color:  #000000;\n",
       "        }    #T_dfc10149_91d2_11ea_b1d8_4ceb428e4071row7_col6 {\n",
       "            background-color:  #3787c0;\n",
       "            color:  #000000;\n",
       "        }    #T_dfc10149_91d2_11ea_b1d8_4ceb428e4071row7_col7 {\n",
       "            background-color:  #08306b;\n",
       "            color:  #f1f1f1;\n",
       "        }    #T_dfc10149_91d2_11ea_b1d8_4ceb428e4071row7_col8 {\n",
       "            background-color:  #2b7bba;\n",
       "            color:  #000000;\n",
       "        }    #T_dfc10149_91d2_11ea_b1d8_4ceb428e4071row7_col9 {\n",
       "            background-color:  #0b559f;\n",
       "            color:  #f1f1f1;\n",
       "        }    #T_dfc10149_91d2_11ea_b1d8_4ceb428e4071row7_col10 {\n",
       "            background-color:  #08306b;\n",
       "            color:  #f1f1f1;\n",
       "        }    #T_dfc10149_91d2_11ea_b1d8_4ceb428e4071row7_col11 {\n",
       "            background-color:  #f7fbff;\n",
       "            color:  #000000;\n",
       "        }    #T_dfc10149_91d2_11ea_b1d8_4ceb428e4071row7_col12 {\n",
       "            background-color:  #c6dbef;\n",
       "            color:  #000000;\n",
       "        }    #T_dfc10149_91d2_11ea_b1d8_4ceb428e4071row7_col13 {\n",
       "            background-color:  #d0e1f2;\n",
       "            color:  #000000;\n",
       "        }    #T_dfc10149_91d2_11ea_b1d8_4ceb428e4071row7_col14 {\n",
       "            background-color:  #dbe9f6;\n",
       "            color:  #000000;\n",
       "        }    #T_dfc10149_91d2_11ea_b1d8_4ceb428e4071row8_col1 {\n",
       "            background-color:  #105ba4;\n",
       "            color:  #f1f1f1;\n",
       "        }    #T_dfc10149_91d2_11ea_b1d8_4ceb428e4071row8_col2 {\n",
       "            background-color:  #82bbdb;\n",
       "            color:  #000000;\n",
       "        }    #T_dfc10149_91d2_11ea_b1d8_4ceb428e4071row8_col3 {\n",
       "            background-color:  #0b559f;\n",
       "            color:  #f1f1f1;\n",
       "        }    #T_dfc10149_91d2_11ea_b1d8_4ceb428e4071row8_col4 {\n",
       "            background-color:  #d0e1f2;\n",
       "            color:  #000000;\n",
       "        }    #T_dfc10149_91d2_11ea_b1d8_4ceb428e4071row8_col5 {\n",
       "            background-color:  #0b559f;\n",
       "            color:  #f1f1f1;\n",
       "        }    #T_dfc10149_91d2_11ea_b1d8_4ceb428e4071row8_col6 {\n",
       "            background-color:  #f7fbff;\n",
       "            color:  #000000;\n",
       "        }    #T_dfc10149_91d2_11ea_b1d8_4ceb428e4071row8_col7 {\n",
       "            background-color:  #2070b4;\n",
       "            color:  #f1f1f1;\n",
       "        }    #T_dfc10149_91d2_11ea_b1d8_4ceb428e4071row8_col8 {\n",
       "            background-color:  #2b7bba;\n",
       "            color:  #000000;\n",
       "        }    #T_dfc10149_91d2_11ea_b1d8_4ceb428e4071row8_col9 {\n",
       "            background-color:  #f7fbff;\n",
       "            color:  #000000;\n",
       "        }    #T_dfc10149_91d2_11ea_b1d8_4ceb428e4071row8_col10 {\n",
       "            background-color:  #94c4df;\n",
       "            color:  #000000;\n",
       "        }    #T_dfc10149_91d2_11ea_b1d8_4ceb428e4071row8_col11 {\n",
       "            background-color:  #08306b;\n",
       "            color:  #f1f1f1;\n",
       "        }    #T_dfc10149_91d2_11ea_b1d8_4ceb428e4071row8_col12 {\n",
       "            background-color:  #2070b4;\n",
       "            color:  #f1f1f1;\n",
       "        }    #T_dfc10149_91d2_11ea_b1d8_4ceb428e4071row8_col13 {\n",
       "            background-color:  #f7fbff;\n",
       "            color:  #000000;\n",
       "        }    #T_dfc10149_91d2_11ea_b1d8_4ceb428e4071row8_col14 {\n",
       "            background-color:  #f7fbff;\n",
       "            color:  #000000;\n",
       "        }    #T_dfc10149_91d2_11ea_b1d8_4ceb428e4071row9_col1 {\n",
       "            background-color:  #08306b;\n",
       "            color:  #f1f1f1;\n",
       "        }    #T_dfc10149_91d2_11ea_b1d8_4ceb428e4071row9_col2 {\n",
       "            background-color:  #58a1cf;\n",
       "            color:  #000000;\n",
       "        }    #T_dfc10149_91d2_11ea_b1d8_4ceb428e4071row9_col3 {\n",
       "            background-color:  #f7fbff;\n",
       "            color:  #000000;\n",
       "        }    #T_dfc10149_91d2_11ea_b1d8_4ceb428e4071row9_col4 {\n",
       "            background-color:  #4a98c9;\n",
       "            color:  #000000;\n",
       "        }    #T_dfc10149_91d2_11ea_b1d8_4ceb428e4071row9_col5 {\n",
       "            background-color:  #539ecd;\n",
       "            color:  #000000;\n",
       "        }    #T_dfc10149_91d2_11ea_b1d8_4ceb428e4071row9_col6 {\n",
       "            background-color:  #3787c0;\n",
       "            color:  #000000;\n",
       "        }    #T_dfc10149_91d2_11ea_b1d8_4ceb428e4071row9_col7 {\n",
       "            background-color:  #08306b;\n",
       "            color:  #f1f1f1;\n",
       "        }    #T_dfc10149_91d2_11ea_b1d8_4ceb428e4071row9_col8 {\n",
       "            background-color:  #0b559f;\n",
       "            color:  #f1f1f1;\n",
       "        }    #T_dfc10149_91d2_11ea_b1d8_4ceb428e4071row9_col9 {\n",
       "            background-color:  #bad6eb;\n",
       "            color:  #000000;\n",
       "        }    #T_dfc10149_91d2_11ea_b1d8_4ceb428e4071row9_col10 {\n",
       "            background-color:  #f7fbff;\n",
       "            color:  #000000;\n",
       "        }    #T_dfc10149_91d2_11ea_b1d8_4ceb428e4071row9_col11 {\n",
       "            background-color:  #94c4df;\n",
       "            color:  #000000;\n",
       "        }    #T_dfc10149_91d2_11ea_b1d8_4ceb428e4071row9_col12 {\n",
       "            background-color:  #2070b4;\n",
       "            color:  #f1f1f1;\n",
       "        }    #T_dfc10149_91d2_11ea_b1d8_4ceb428e4071row9_col13 {\n",
       "            background-color:  #94c4df;\n",
       "            color:  #000000;\n",
       "        }    #T_dfc10149_91d2_11ea_b1d8_4ceb428e4071row9_col14 {\n",
       "            background-color:  #f7fbff;\n",
       "            color:  #000000;\n",
       "        }</style><table id=\"T_dfc10149_91d2_11ea_b1d8_4ceb428e4071\" ><thead>    <tr>        <th class=\"col_heading level0 col0\" >Name</th>        <th class=\"col_heading level0 col1\" >Age</th>        <th class=\"col_heading level0 col2\" >Cro</th>        <th class=\"col_heading level0 col3\" >Dri</th>        <th class=\"col_heading level0 col4\" >Fir</th>        <th class=\"col_heading level0 col5\" >Pas</th>        <th class=\"col_heading level0 col6\" >Tec</th>        <th class=\"col_heading level0 col7\" >Dec</th>        <th class=\"col_heading level0 col8\" >OtB</th>        <th class=\"col_heading level0 col9\" >Tea</th>        <th class=\"col_heading level0 col10\" >Wor</th>        <th class=\"col_heading level0 col11\" >Acc</th>        <th class=\"col_heading level0 col12\" >Pac</th>        <th class=\"col_heading level0 col13\" >Sta</th>        <th class=\"col_heading level0 col14\" >cwb_score</th>    </tr></thead><tbody>\n",
       "                <tr>\n",
       "                                <td id=\"T_dfc10149_91d2_11ea_b1d8_4ceb428e4071row0_col0\" class=\"data row0 col0\" >Filipe Cerqueira</td>\n",
       "                        <td id=\"T_dfc10149_91d2_11ea_b1d8_4ceb428e4071row0_col1\" class=\"data row0 col1\" >                  18</td>\n",
       "                        <td id=\"T_dfc10149_91d2_11ea_b1d8_4ceb428e4071row0_col2\" class=\"data row0 col2\" >15</td>\n",
       "                        <td id=\"T_dfc10149_91d2_11ea_b1d8_4ceb428e4071row0_col3\" class=\"data row0 col3\" >13</td>\n",
       "                        <td id=\"T_dfc10149_91d2_11ea_b1d8_4ceb428e4071row0_col4\" class=\"data row0 col4\" >15</td>\n",
       "                        <td id=\"T_dfc10149_91d2_11ea_b1d8_4ceb428e4071row0_col5\" class=\"data row0 col5\" >9</td>\n",
       "                        <td id=\"T_dfc10149_91d2_11ea_b1d8_4ceb428e4071row0_col6\" class=\"data row0 col6\" >15</td>\n",
       "                        <td id=\"T_dfc10149_91d2_11ea_b1d8_4ceb428e4071row0_col7\" class=\"data row0 col7\" >10</td>\n",
       "                        <td id=\"T_dfc10149_91d2_11ea_b1d8_4ceb428e4071row0_col8\" class=\"data row0 col8\" >10</td>\n",
       "                        <td id=\"T_dfc10149_91d2_11ea_b1d8_4ceb428e4071row0_col9\" class=\"data row0 col9\" >12</td>\n",
       "                        <td id=\"T_dfc10149_91d2_11ea_b1d8_4ceb428e4071row0_col10\" class=\"data row0 col10\" >15</td>\n",
       "                        <td id=\"T_dfc10149_91d2_11ea_b1d8_4ceb428e4071row0_col11\" class=\"data row0 col11\" >15</td>\n",
       "                        <td id=\"T_dfc10149_91d2_11ea_b1d8_4ceb428e4071row0_col12\" class=\"data row0 col12\" >14</td>\n",
       "                        <td id=\"T_dfc10149_91d2_11ea_b1d8_4ceb428e4071row0_col13\" class=\"data row0 col13\" >13</td>\n",
       "                        <td id=\"T_dfc10149_91d2_11ea_b1d8_4ceb428e4071row0_col14\" class=\"data row0 col14\" >156</td>\n",
       "            </tr>\n",
       "            <tr>\n",
       "                                <td id=\"T_dfc10149_91d2_11ea_b1d8_4ceb428e4071row1_col0\" class=\"data row1 col0\" >JesÃºs Vargas</td>\n",
       "                        <td id=\"T_dfc10149_91d2_11ea_b1d8_4ceb428e4071row1_col1\" class=\"data row1 col1\" >                  23</td>\n",
       "                        <td id=\"T_dfc10149_91d2_11ea_b1d8_4ceb428e4071row1_col2\" class=\"data row1 col2\" >11</td>\n",
       "                        <td id=\"T_dfc10149_91d2_11ea_b1d8_4ceb428e4071row1_col3\" class=\"data row1 col3\" >15</td>\n",
       "                        <td id=\"T_dfc10149_91d2_11ea_b1d8_4ceb428e4071row1_col4\" class=\"data row1 col4\" >12</td>\n",
       "                        <td id=\"T_dfc10149_91d2_11ea_b1d8_4ceb428e4071row1_col5\" class=\"data row1 col5\" >12</td>\n",
       "                        <td id=\"T_dfc10149_91d2_11ea_b1d8_4ceb428e4071row1_col6\" class=\"data row1 col6\" >15</td>\n",
       "                        <td id=\"T_dfc10149_91d2_11ea_b1d8_4ceb428e4071row1_col7\" class=\"data row1 col7\" >11</td>\n",
       "                        <td id=\"T_dfc10149_91d2_11ea_b1d8_4ceb428e4071row1_col8\" class=\"data row1 col8\" >12</td>\n",
       "                        <td id=\"T_dfc10149_91d2_11ea_b1d8_4ceb428e4071row1_col9\" class=\"data row1 col9\" >12</td>\n",
       "                        <td id=\"T_dfc10149_91d2_11ea_b1d8_4ceb428e4071row1_col10\" class=\"data row1 col10\" >13</td>\n",
       "                        <td id=\"T_dfc10149_91d2_11ea_b1d8_4ceb428e4071row1_col11\" class=\"data row1 col11\" >13</td>\n",
       "                        <td id=\"T_dfc10149_91d2_11ea_b1d8_4ceb428e4071row1_col12\" class=\"data row1 col12\" >14</td>\n",
       "                        <td id=\"T_dfc10149_91d2_11ea_b1d8_4ceb428e4071row1_col13\" class=\"data row1 col13\" >15</td>\n",
       "                        <td id=\"T_dfc10149_91d2_11ea_b1d8_4ceb428e4071row1_col14\" class=\"data row1 col14\" >155</td>\n",
       "            </tr>\n",
       "            <tr>\n",
       "                                <td id=\"T_dfc10149_91d2_11ea_b1d8_4ceb428e4071row2_col0\" class=\"data row2 col0\" >Uros Mirkovic</td>\n",
       "                        <td id=\"T_dfc10149_91d2_11ea_b1d8_4ceb428e4071row2_col1\" class=\"data row2 col1\" >                  19</td>\n",
       "                        <td id=\"T_dfc10149_91d2_11ea_b1d8_4ceb428e4071row2_col2\" class=\"data row2 col2\" >9</td>\n",
       "                        <td id=\"T_dfc10149_91d2_11ea_b1d8_4ceb428e4071row2_col3\" class=\"data row2 col3\" >14</td>\n",
       "                        <td id=\"T_dfc10149_91d2_11ea_b1d8_4ceb428e4071row2_col4\" class=\"data row2 col4\" >12</td>\n",
       "                        <td id=\"T_dfc10149_91d2_11ea_b1d8_4ceb428e4071row2_col5\" class=\"data row2 col5\" >9</td>\n",
       "                        <td id=\"T_dfc10149_91d2_11ea_b1d8_4ceb428e4071row2_col6\" class=\"data row2 col6\" >16</td>\n",
       "                        <td id=\"T_dfc10149_91d2_11ea_b1d8_4ceb428e4071row2_col7\" class=\"data row2 col7\" >12</td>\n",
       "                        <td id=\"T_dfc10149_91d2_11ea_b1d8_4ceb428e4071row2_col8\" class=\"data row2 col8\" >10</td>\n",
       "                        <td id=\"T_dfc10149_91d2_11ea_b1d8_4ceb428e4071row2_col9\" class=\"data row2 col9\" >18</td>\n",
       "                        <td id=\"T_dfc10149_91d2_11ea_b1d8_4ceb428e4071row2_col10\" class=\"data row2 col10\" >14</td>\n",
       "                        <td id=\"T_dfc10149_91d2_11ea_b1d8_4ceb428e4071row2_col11\" class=\"data row2 col11\" >14</td>\n",
       "                        <td id=\"T_dfc10149_91d2_11ea_b1d8_4ceb428e4071row2_col12\" class=\"data row2 col12\" >10</td>\n",
       "                        <td id=\"T_dfc10149_91d2_11ea_b1d8_4ceb428e4071row2_col13\" class=\"data row2 col13\" >16</td>\n",
       "                        <td id=\"T_dfc10149_91d2_11ea_b1d8_4ceb428e4071row2_col14\" class=\"data row2 col14\" >154</td>\n",
       "            </tr>\n",
       "            <tr>\n",
       "                                <td id=\"T_dfc10149_91d2_11ea_b1d8_4ceb428e4071row3_col0\" class=\"data row3 col0\" >Adrian Å¢apu</td>\n",
       "                        <td id=\"T_dfc10149_91d2_11ea_b1d8_4ceb428e4071row3_col1\" class=\"data row3 col1\" >                  19</td>\n",
       "                        <td id=\"T_dfc10149_91d2_11ea_b1d8_4ceb428e4071row3_col2\" class=\"data row3 col2\" >9</td>\n",
       "                        <td id=\"T_dfc10149_91d2_11ea_b1d8_4ceb428e4071row3_col3\" class=\"data row3 col3\" >13</td>\n",
       "                        <td id=\"T_dfc10149_91d2_11ea_b1d8_4ceb428e4071row3_col4\" class=\"data row3 col4\" >16</td>\n",
       "                        <td id=\"T_dfc10149_91d2_11ea_b1d8_4ceb428e4071row3_col5\" class=\"data row3 col5\" >9</td>\n",
       "                        <td id=\"T_dfc10149_91d2_11ea_b1d8_4ceb428e4071row3_col6\" class=\"data row3 col6\" >12</td>\n",
       "                        <td id=\"T_dfc10149_91d2_11ea_b1d8_4ceb428e4071row3_col7\" class=\"data row3 col7\" >13</td>\n",
       "                        <td id=\"T_dfc10149_91d2_11ea_b1d8_4ceb428e4071row3_col8\" class=\"data row3 col8\" >13</td>\n",
       "                        <td id=\"T_dfc10149_91d2_11ea_b1d8_4ceb428e4071row3_col9\" class=\"data row3 col9\" >18</td>\n",
       "                        <td id=\"T_dfc10149_91d2_11ea_b1d8_4ceb428e4071row3_col10\" class=\"data row3 col10\" >15</td>\n",
       "                        <td id=\"T_dfc10149_91d2_11ea_b1d8_4ceb428e4071row3_col11\" class=\"data row3 col11\" >12</td>\n",
       "                        <td id=\"T_dfc10149_91d2_11ea_b1d8_4ceb428e4071row3_col12\" class=\"data row3 col12\" >11</td>\n",
       "                        <td id=\"T_dfc10149_91d2_11ea_b1d8_4ceb428e4071row3_col13\" class=\"data row3 col13\" >12</td>\n",
       "                        <td id=\"T_dfc10149_91d2_11ea_b1d8_4ceb428e4071row3_col14\" class=\"data row3 col14\" >153</td>\n",
       "            </tr>\n",
       "            <tr>\n",
       "                                <td id=\"T_dfc10149_91d2_11ea_b1d8_4ceb428e4071row4_col0\" class=\"data row4 col0\" >Helderlan</td>\n",
       "                        <td id=\"T_dfc10149_91d2_11ea_b1d8_4ceb428e4071row4_col1\" class=\"data row4 col1\" >                  17</td>\n",
       "                        <td id=\"T_dfc10149_91d2_11ea_b1d8_4ceb428e4071row4_col2\" class=\"data row4 col2\" >14</td>\n",
       "                        <td id=\"T_dfc10149_91d2_11ea_b1d8_4ceb428e4071row4_col3\" class=\"data row4 col3\" >9</td>\n",
       "                        <td id=\"T_dfc10149_91d2_11ea_b1d8_4ceb428e4071row4_col4\" class=\"data row4 col4\" >11</td>\n",
       "                        <td id=\"T_dfc10149_91d2_11ea_b1d8_4ceb428e4071row4_col5\" class=\"data row4 col5\" >16</td>\n",
       "                        <td id=\"T_dfc10149_91d2_11ea_b1d8_4ceb428e4071row4_col6\" class=\"data row4 col6\" >14</td>\n",
       "                        <td id=\"T_dfc10149_91d2_11ea_b1d8_4ceb428e4071row4_col7\" class=\"data row4 col7\" >9</td>\n",
       "                        <td id=\"T_dfc10149_91d2_11ea_b1d8_4ceb428e4071row4_col8\" class=\"data row4 col8\" >12</td>\n",
       "                        <td id=\"T_dfc10149_91d2_11ea_b1d8_4ceb428e4071row4_col9\" class=\"data row4 col9\" >11</td>\n",
       "                        <td id=\"T_dfc10149_91d2_11ea_b1d8_4ceb428e4071row4_col10\" class=\"data row4 col10\" >15</td>\n",
       "                        <td id=\"T_dfc10149_91d2_11ea_b1d8_4ceb428e4071row4_col11\" class=\"data row4 col11\" >13</td>\n",
       "                        <td id=\"T_dfc10149_91d2_11ea_b1d8_4ceb428e4071row4_col12\" class=\"data row4 col12\" >14</td>\n",
       "                        <td id=\"T_dfc10149_91d2_11ea_b1d8_4ceb428e4071row4_col13\" class=\"data row4 col13\" >13</td>\n",
       "                        <td id=\"T_dfc10149_91d2_11ea_b1d8_4ceb428e4071row4_col14\" class=\"data row4 col14\" >151</td>\n",
       "            </tr>\n",
       "            <tr>\n",
       "                                <td id=\"T_dfc10149_91d2_11ea_b1d8_4ceb428e4071row5_col0\" class=\"data row5 col0\" >Nikola Trickovic</td>\n",
       "                        <td id=\"T_dfc10149_91d2_11ea_b1d8_4ceb428e4071row5_col1\" class=\"data row5 col1\" >                  23</td>\n",
       "                        <td id=\"T_dfc10149_91d2_11ea_b1d8_4ceb428e4071row5_col2\" class=\"data row5 col2\" >12</td>\n",
       "                        <td id=\"T_dfc10149_91d2_11ea_b1d8_4ceb428e4071row5_col3\" class=\"data row5 col3\" >11</td>\n",
       "                        <td id=\"T_dfc10149_91d2_11ea_b1d8_4ceb428e4071row5_col4\" class=\"data row5 col4\" >16</td>\n",
       "                        <td id=\"T_dfc10149_91d2_11ea_b1d8_4ceb428e4071row5_col5\" class=\"data row5 col5\" >15</td>\n",
       "                        <td id=\"T_dfc10149_91d2_11ea_b1d8_4ceb428e4071row5_col6\" class=\"data row5 col6\" >11</td>\n",
       "                        <td id=\"T_dfc10149_91d2_11ea_b1d8_4ceb428e4071row5_col7\" class=\"data row5 col7\" >11</td>\n",
       "                        <td id=\"T_dfc10149_91d2_11ea_b1d8_4ceb428e4071row5_col8\" class=\"data row5 col8\" >12</td>\n",
       "                        <td id=\"T_dfc10149_91d2_11ea_b1d8_4ceb428e4071row5_col9\" class=\"data row5 col9\" >13</td>\n",
       "                        <td id=\"T_dfc10149_91d2_11ea_b1d8_4ceb428e4071row5_col10\" class=\"data row5 col10\" >14</td>\n",
       "                        <td id=\"T_dfc10149_91d2_11ea_b1d8_4ceb428e4071row5_col11\" class=\"data row5 col11\" >12</td>\n",
       "                        <td id=\"T_dfc10149_91d2_11ea_b1d8_4ceb428e4071row5_col12\" class=\"data row5 col12\" >13</td>\n",
       "                        <td id=\"T_dfc10149_91d2_11ea_b1d8_4ceb428e4071row5_col13\" class=\"data row5 col13\" >11</td>\n",
       "                        <td id=\"T_dfc10149_91d2_11ea_b1d8_4ceb428e4071row5_col14\" class=\"data row5 col14\" >151</td>\n",
       "            </tr>\n",
       "            <tr>\n",
       "                                <td id=\"T_dfc10149_91d2_11ea_b1d8_4ceb428e4071row6_col0\" class=\"data row6 col0\" >Paul Mari</td>\n",
       "                        <td id=\"T_dfc10149_91d2_11ea_b1d8_4ceb428e4071row6_col1\" class=\"data row6 col1\" >                  19</td>\n",
       "                        <td id=\"T_dfc10149_91d2_11ea_b1d8_4ceb428e4071row6_col2\" class=\"data row6 col2\" >10</td>\n",
       "                        <td id=\"T_dfc10149_91d2_11ea_b1d8_4ceb428e4071row6_col3\" class=\"data row6 col3\" >11</td>\n",
       "                        <td id=\"T_dfc10149_91d2_11ea_b1d8_4ceb428e4071row6_col4\" class=\"data row6 col4\" >12</td>\n",
       "                        <td id=\"T_dfc10149_91d2_11ea_b1d8_4ceb428e4071row6_col5\" class=\"data row6 col5\" >14</td>\n",
       "                        <td id=\"T_dfc10149_91d2_11ea_b1d8_4ceb428e4071row6_col6\" class=\"data row6 col6\" >12</td>\n",
       "                        <td id=\"T_dfc10149_91d2_11ea_b1d8_4ceb428e4071row6_col7\" class=\"data row6 col7\" >13</td>\n",
       "                        <td id=\"T_dfc10149_91d2_11ea_b1d8_4ceb428e4071row6_col8\" class=\"data row6 col8\" >6</td>\n",
       "                        <td id=\"T_dfc10149_91d2_11ea_b1d8_4ceb428e4071row6_col9\" class=\"data row6 col9\" >18</td>\n",
       "                        <td id=\"T_dfc10149_91d2_11ea_b1d8_4ceb428e4071row6_col10\" class=\"data row6 col10\" >16</td>\n",
       "                        <td id=\"T_dfc10149_91d2_11ea_b1d8_4ceb428e4071row6_col11\" class=\"data row6 col11\" >13</td>\n",
       "                        <td id=\"T_dfc10149_91d2_11ea_b1d8_4ceb428e4071row6_col12\" class=\"data row6 col12\" >12</td>\n",
       "                        <td id=\"T_dfc10149_91d2_11ea_b1d8_4ceb428e4071row6_col13\" class=\"data row6 col13\" >14</td>\n",
       "                        <td id=\"T_dfc10149_91d2_11ea_b1d8_4ceb428e4071row6_col14\" class=\"data row6 col14\" >151</td>\n",
       "            </tr>\n",
       "            <tr>\n",
       "                                <td id=\"T_dfc10149_91d2_11ea_b1d8_4ceb428e4071row7_col0\" class=\"data row7 col0\" >Martin Baturina</td>\n",
       "                        <td id=\"T_dfc10149_91d2_11ea_b1d8_4ceb428e4071row7_col1\" class=\"data row7 col1\" >                  19</td>\n",
       "                        <td id=\"T_dfc10149_91d2_11ea_b1d8_4ceb428e4071row7_col2\" class=\"data row7 col2\" >6</td>\n",
       "                        <td id=\"T_dfc10149_91d2_11ea_b1d8_4ceb428e4071row7_col3\" class=\"data row7 col3\" >12</td>\n",
       "                        <td id=\"T_dfc10149_91d2_11ea_b1d8_4ceb428e4071row7_col4\" class=\"data row7 col4\" >14</td>\n",
       "                        <td id=\"T_dfc10149_91d2_11ea_b1d8_4ceb428e4071row7_col5\" class=\"data row7 col5\" >12</td>\n",
       "                        <td id=\"T_dfc10149_91d2_11ea_b1d8_4ceb428e4071row7_col6\" class=\"data row7 col6\" >14</td>\n",
       "                        <td id=\"T_dfc10149_91d2_11ea_b1d8_4ceb428e4071row7_col7\" class=\"data row7 col7\" >13</td>\n",
       "                        <td id=\"T_dfc10149_91d2_11ea_b1d8_4ceb428e4071row7_col8\" class=\"data row7 col8\" >11</td>\n",
       "                        <td id=\"T_dfc10149_91d2_11ea_b1d8_4ceb428e4071row7_col9\" class=\"data row7 col9\" >17</td>\n",
       "                        <td id=\"T_dfc10149_91d2_11ea_b1d8_4ceb428e4071row7_col10\" class=\"data row7 col10\" >17</td>\n",
       "                        <td id=\"T_dfc10149_91d2_11ea_b1d8_4ceb428e4071row7_col11\" class=\"data row7 col11\" >11</td>\n",
       "                        <td id=\"T_dfc10149_91d2_11ea_b1d8_4ceb428e4071row7_col12\" class=\"data row7 col12\" >11</td>\n",
       "                        <td id=\"T_dfc10149_91d2_11ea_b1d8_4ceb428e4071row7_col13\" class=\"data row7 col13\" >12</td>\n",
       "                        <td id=\"T_dfc10149_91d2_11ea_b1d8_4ceb428e4071row7_col14\" class=\"data row7 col14\" >150</td>\n",
       "            </tr>\n",
       "            <tr>\n",
       "                                <td id=\"T_dfc10149_91d2_11ea_b1d8_4ceb428e4071row8_col0\" class=\"data row8 col0\" >Semih Åahin</td>\n",
       "                        <td id=\"T_dfc10149_91d2_11ea_b1d8_4ceb428e4071row8_col1\" class=\"data row8 col1\" >                  22</td>\n",
       "                        <td id=\"T_dfc10149_91d2_11ea_b1d8_4ceb428e4071row8_col2\" class=\"data row8 col2\" >10</td>\n",
       "                        <td id=\"T_dfc10149_91d2_11ea_b1d8_4ceb428e4071row8_col3\" class=\"data row8 col3\" >14</td>\n",
       "                        <td id=\"T_dfc10149_91d2_11ea_b1d8_4ceb428e4071row8_col4\" class=\"data row8 col4\" >12</td>\n",
       "                        <td id=\"T_dfc10149_91d2_11ea_b1d8_4ceb428e4071row8_col5\" class=\"data row8 col5\" >15</td>\n",
       "                        <td id=\"T_dfc10149_91d2_11ea_b1d8_4ceb428e4071row8_col6\" class=\"data row8 col6\" >10</td>\n",
       "                        <td id=\"T_dfc10149_91d2_11ea_b1d8_4ceb428e4071row8_col7\" class=\"data row8 col7\" >12</td>\n",
       "                        <td id=\"T_dfc10149_91d2_11ea_b1d8_4ceb428e4071row8_col8\" class=\"data row8 col8\" >11</td>\n",
       "                        <td id=\"T_dfc10149_91d2_11ea_b1d8_4ceb428e4071row8_col9\" class=\"data row8 col9\" >11</td>\n",
       "                        <td id=\"T_dfc10149_91d2_11ea_b1d8_4ceb428e4071row8_col10\" class=\"data row8 col10\" >14</td>\n",
       "                        <td id=\"T_dfc10149_91d2_11ea_b1d8_4ceb428e4071row8_col11\" class=\"data row8 col11\" >16</td>\n",
       "                        <td id=\"T_dfc10149_91d2_11ea_b1d8_4ceb428e4071row8_col12\" class=\"data row8 col12\" >13</td>\n",
       "                        <td id=\"T_dfc10149_91d2_11ea_b1d8_4ceb428e4071row8_col13\" class=\"data row8 col13\" >11</td>\n",
       "                        <td id=\"T_dfc10149_91d2_11ea_b1d8_4ceb428e4071row8_col14\" class=\"data row8 col14\" >149</td>\n",
       "            </tr>\n",
       "            <tr>\n",
       "                                <td id=\"T_dfc10149_91d2_11ea_b1d8_4ceb428e4071row9_col0\" class=\"data row9 col0\" >JoÃ£o Tavares</td>\n",
       "                        <td id=\"T_dfc10149_91d2_11ea_b1d8_4ceb428e4071row9_col1\" class=\"data row9 col1\" >                  23</td>\n",
       "                        <td id=\"T_dfc10149_91d2_11ea_b1d8_4ceb428e4071row9_col2\" class=\"data row9 col2\" >11</td>\n",
       "                        <td id=\"T_dfc10149_91d2_11ea_b1d8_4ceb428e4071row9_col3\" class=\"data row9 col3\" >8</td>\n",
       "                        <td id=\"T_dfc10149_91d2_11ea_b1d8_4ceb428e4071row9_col4\" class=\"data row9 col4\" >14</td>\n",
       "                        <td id=\"T_dfc10149_91d2_11ea_b1d8_4ceb428e4071row9_col5\" class=\"data row9 col5\" >13</td>\n",
       "                        <td id=\"T_dfc10149_91d2_11ea_b1d8_4ceb428e4071row9_col6\" class=\"data row9 col6\" >14</td>\n",
       "                        <td id=\"T_dfc10149_91d2_11ea_b1d8_4ceb428e4071row9_col7\" class=\"data row9 col7\" >13</td>\n",
       "                        <td id=\"T_dfc10149_91d2_11ea_b1d8_4ceb428e4071row9_col8\" class=\"data row9 col8\" >12</td>\n",
       "                        <td id=\"T_dfc10149_91d2_11ea_b1d8_4ceb428e4071row9_col9\" class=\"data row9 col9\" >13</td>\n",
       "                        <td id=\"T_dfc10149_91d2_11ea_b1d8_4ceb428e4071row9_col10\" class=\"data row9 col10\" >12</td>\n",
       "                        <td id=\"T_dfc10149_91d2_11ea_b1d8_4ceb428e4071row9_col11\" class=\"data row9 col11\" >13</td>\n",
       "                        <td id=\"T_dfc10149_91d2_11ea_b1d8_4ceb428e4071row9_col12\" class=\"data row9 col12\" >13</td>\n",
       "                        <td id=\"T_dfc10149_91d2_11ea_b1d8_4ceb428e4071row9_col13\" class=\"data row9 col13\" >13</td>\n",
       "                        <td id=\"T_dfc10149_91d2_11ea_b1d8_4ceb428e4071row9_col14\" class=\"data row9 col14\" >149</td>\n",
       "            </tr>\n",
       "    </tbody></table>"
      ],
      "text/plain": [
       "<pandas.io.formats.style.Styler at 0xc834568>"
      ]
     },
     "execution_count": 8,
     "metadata": {},
     "output_type": "execute_result"
    }
   ],
   "source": [
    "# Complete Wing Back - Support\n",
    "\n",
    "print(\"Complete Wing Back - Support\")\n",
    "sorted_cwb = cwb.sort_values(by='cwb_score', ascending=False)\n",
    "sorted_cwb.head(10).style.format({\"Age\": \"{:20,.0f}\", \n",
    "                          })\\\n",
    "                        .hide_index()\\\n",
    "                        .background_gradient(cmap='Blues')"
   ]
  },
  {
   "cell_type": "code",
   "execution_count": 9,
   "metadata": {},
   "outputs": [
    {
     "data": {
      "application/vnd.plotly.v1+json": {
       "config": {
        "linkText": "Export to plot.ly",
        "plotlyServerURL": "https://plot.ly",
        "showLink": true
       },
       "data": [
        {
         "line": {
          "color": "rgba(255, 153, 51, 1.0)",
          "dash": "solid",
          "shape": "linear",
          "width": 1.3
         },
         "marker": {
          "size": 10,
          "symbol": "circle"
         },
         "mode": "markers",
         "name": "Cr C/A",
         "text": [
          "Djibril DiakitÃ©",
          "JoÃ£o Tavares",
          "Matej Hudecek",
          "Adrian Rybak",
          "Oskar Repka",
          "Maciej Obodecki",
          "Ivo Kralj",
          "Bartosz Sobczyk",
          "Ivan Tomac",
          "Nikola Bogdanovski",
          "Stefan Velickovic",
          "Andrija Zakoc",
          "AurÃ©lien Nguiamba",
          "Flynn Downes",
          "Nikola Puzic",
          "Andjelo Kacavenda",
          "Tymoteusz Puchacz",
          "Felix Brunmayr",
          "Lennart Grill",
          "Josip Rakic",
          "Stefan Randjelovic",
          "Radoslaw Dzierbicki",
          "Alexandar Ubavic",
          "Veljko Jovkovic",
          "Mariano GÃ³mez",
          "David Bumberger",
          "Enrico Huss",
          "Mateo Jaksic",
          "Konrad Jozwicki",
          "Nikita Marusenko",
          "Djordje Jovanovic",
          "Filip Lisnic",
          "Dawid Szalas",
          "Vladimir Ilic",
          "Marcin Mackowiak",
          "Florin Codrean",
          "David Otto",
          "Stefan Golubovic",
          "Keanan Bennetts",
          "Andrej Vukas",
          "Jannik Tepe",
          "Mladen Devetak",
          "Tom Baack",
          "Jan Sobocinski",
          "TomÃ¡s Blanco",
          "Sinan Karweina",
          "Ben Williams",
          "Arkadiusz Zajaczkowski",
          "Miguel Reisinho",
          "Filp Ceko",
          "Michel StÃ¶cker",
          "JÃ©rÃ´me Deom",
          "Ranko Jokic",
          "Palko DÃ¡rdai",
          "Aleksander Tomasz",
          "Alex Vigo",
          "Daniel Bielica",
          "Marko Djira",
          "Norbert Walczak",
          "Boris Moltenis",
          "Julius Kade",
          "Goran Buljandric",
          "Jannis KÃ¼bler",
          "Aleksa Jovanovic",
          "Tomasz Owczarek",
          "David Wittkowski",
          "Konrad Zaklika",
          "Pawel Karbowinski",
          "Nicky Werner",
          "Julijan Popovic",
          "Nassim Boujellab",
          "Bartlomiej Gajda",
          "Nemanja Matijevic",
          "Marko Denic",
          "Robert Baar",
          "Tuta",
          "Dusan Jokovic",
          "Tomasz Dzida",
          "Aleksa Pejic",
          "Krsta Bojic",
          "Sikou NiakatÃ©",
          "Tomasz Makowski",
          "Sebastian Gwozdz",
          "Adrian Polanski",
          "Bryan Mbeumo",
          "Dorin Sirbu",
          "Elvis Novalic",
          "MickaÃ«l Cuisance",
          "Mateusz Madzia",
          "JesÃºs Vargas",
          "Marino Jedvaj",
          "Raphael Assibey-Mensah",
          "Lukasz Sztylka",
          "Zoran Zrnzevic",
          "Alex Krawiec",
          "Petar Melezovic",
          "Tomasz Kurek",
          "Danko Radic",
          "Paul Mensah",
          "Jordan Williams",
          "Mario Mustapic",
          "Nikola Trickovic",
          "Patrik Delic",
          "Maciej Famulak",
          "Wiktor Nahrebecki",
          "Barne Poggenberg",
          "Mirza Jasarevic",
          "Ratko Minic",
          "Semih Åahin",
          "Matej Santek",
          "Georgios Siadas",
          "Tyrese Campbell",
          "Martin Krizmanic",
          "Kacper Laskos",
          "Aleksa Milojevic",
          "Cheick DoucourÃ©",
          "Ivan Jakovljev",
          "Przemyslaw Zdybowicz",
          "Sven Botman",
          "Malik Karaahmet",
          "Lukas KrÃ¼ger",
          "Niclas Stierlin",
          "Mane Markovic",
          "Karol Czubak",
          "Ilija Dejanovic",
          "Pascal Hackethal",
          "Oleg Gorin",
          "Michal Zieba",
          "Miodrag Maljkovic",
          "Jakov Blagaic",
          "Harisson Marcelin",
          "Vice Bazdaric",
          "Daniel Liszka",
          "Jan Sieracki",
          "Jhonny Lucas",
          "Tymoteusz Klups",
          "Josip Sutalo",
          "Othman Boussaid",
          "Evert Linthorst",
          "Jusuf Gazibegovic",
          "Virgiliu Postolachi",
          "Luis GÃ¶rlich",
          "Andrej Ilic",
          "Daniel Haritonov",
          "Patryk Drabik",
          "Tom Dobek-Pietrowski",
          "Michal Mydlarz",
          "Cho Jeong-Hui",
          "Mohamed Loua",
          "Nemanja Zikic",
          "Emir Sejdovic",
          "Samuel Lengle",
          "Mateusz Duchowski",
          "Iliya Gruev",
          "Bartosz Borun",
          "Juraj Ljubic",
          "GonÃ§alo Rebelo",
          "Dominik Resetar",
          "Jurica Prsir",
          "Piotr Wujec",
          "Jan Majsterek",
          "Mitchel Bakker",
          "Kamil Piatkowski",
          "Michal Ozga",
          "Karol Turek",
          "Toni Karimovic",
          "Billy Crellin",
          "Konrad Sieracki",
          "Vando Luis",
          "Jan Los",
          "Jessic Ngankam",
          "Adam Borkowski",
          "Julian Rieckmann",
          "Luka Pavlak",
          "Robert Ion",
          "Linus RosenlÃ¶cher",
          "Eugen Telch",
          "Nicholas Wunsch",
          "Dawid Kisly",
          "Uros Miloradovic",
          "Alois Oroz",
          "Luca Bazzoli",
          "Ronan Darcy",
          "Yann-Aurel Bisseck",
          "Timo Bornemann",
          "Radivoj Bosic",
          "Jakov Katusa",
          "Kacper Jozefiak",
          "Szymon Mroczko",
          "Karol Struski",
          "Wojciech Kaminski",
          "Piotr Lisowski",
          "Daishawn Redan",
          "Kacper Smolinski",
          "Lukas SchÃ¶fl",
          "Mikolaj Labojko",
          "Jakub Karbownik",
          "Damir Magdic",
          "Karol Malec",
          "Patryk Wozniak",
          "Can Bozdogan",
          "Aleksander Paluszek",
          "Mario Cuic",
          "Dragoljub Savic",
          "Nathan Collins",
          "Dominik Pila",
          "Mihael Kupresak",
          "Manu KonÃ©",
          "Niels Hahn",
          "Tin Hrvoj",
          "Lucas Da Cunha",
          "Rahim Ibrahim",
          "Renato Josipovic",
          "Han-Noah Massengo",
          "Kacper Wiatrak",
          "Bartosz Kuzniarski",
          "Adrian Petk",
          "Fabian Tauchhammer",
          "Bartlomiej Mruk",
          "Jakub Rudek",
          "Jakub Swiecinski",
          "Jakub Nowakowski",
          "Kamil Dabrowski",
          "Yuri Sprandel Flores",
          "Stefan Radmanovac",
          "Kamal Bafounta",
          "Filip Marchwinski",
          "Kamil Lukoszek",
          "Jakub Niewiadomski",
          "Dominik Kedzior",
          "Joe Gelhardt",
          "Filip Sobiecki",
          "Fran Tomek",
          "Hubert Wasiewski",
          "Djordje Vasic",
          "Jakub Zima",
          "Damian Makuch",
          "Andrzej Kloda",
          "Stipe Biuk",
          "Mateusz Pienczak",
          "FIlip Brekalo",
          "Stefan Despotovski",
          "Jakub Kisiel",
          "Duje Skugor",
          "Martin Baturina",
          "Radoslaw Cielemecki",
          "Ariel Mosor",
          "Nikola Petkovic",
          "Nikodem Sujecki",
          "Ivan Mandic",
          "Stanislaw Loch",
          "Dario Grgic",
          "Wojciech Szybka",
          "Kacper Szmidt",
          "Vukasin Krstic",
          "Obrendo Doesburg",
          "Casper Elderman",
          "Predrag Jovic",
          "Daniel Hoyo-Kowalski",
          "Darijo Basic",
          "Wiktor Mosur",
          "Uros Mirkovic",
          "Marcos RodrÃ­guez",
          "Adrian Å¢apu",
          "Paul Mari",
          "Pawel Muzylowski",
          "Dragan Radovic",
          "Szymon Kobeszko",
          "Marcin Dabrowski",
          "Jorge Delgado",
          "Daniel Piesio",
          null
         ],
         "type": "scatter",
         "x": [
          "-",
          "-",
          "0.11",
          "0.12",
          "-",
          "-",
          "-",
          "0.15",
          "0.42",
          "0.58",
          "0.23",
          "0.25",
          "0.28",
          "0.44",
          "1.04",
          "0.26",
          "0.23",
          "0.25",
          "0.10",
          "0.15",
          "0.14",
          "0.33",
          "-",
          "0.57",
          "0.22",
          "0.23",
          "0.26",
          "0.14",
          "0.46",
          "0.40",
          "0.46",
          "0.06",
          "0.44",
          "0.10",
          "0.24",
          "-",
          "0.34",
          "0.05",
          "0.48",
          "0.29",
          "0.38",
          "0.52",
          "0.40",
          "0.29",
          "-",
          "0.40",
          "0.08",
          "0.32",
          "0.58",
          "0.17",
          "0.31",
          "0.43",
          "0.11",
          "0.99",
          "-",
          "0.06",
          "0.17",
          "0.75",
          "-",
          "0.06",
          "0.79",
          "-",
          "1.01",
          "0.15",
          "0.12",
          "0.20",
          "0.27",
          "0.32",
          "0.19",
          "0.32",
          "0.86",
          "0.40",
          "0.47",
          "-",
          "0.20",
          "-",
          "0.25",
          "0.68",
          "0.34",
          "0.37",
          "0.19",
          "0.33",
          "-",
          "0.35",
          "0.45",
          "-",
          "0.60",
          "1.07",
          "0.05",
          "0.39",
          "-",
          "-",
          "0.26",
          "-",
          "1.74",
          "-",
          "0.61",
          "0.70",
          "0.45",
          "0.29",
          "0.17",
          "0.25",
          "-",
          "0.85",
          "0.85",
          "0.23",
          "0.24",
          "0.71",
          "0.53",
          "0.67",
          "0.44",
          "0.17",
          "0.11",
          "0.18",
          "0.12",
          "0.86",
          "-",
          "0.20",
          "0.06",
          "-",
          "0.30",
          "0.41",
          "0.10",
          "0.21",
          "-",
          "0.48",
          "0.44",
          "0.32",
          "0.49",
          "0.69",
          "0.06",
          "0.06",
          "0.88",
          "0.54",
          "0.46",
          "0.22",
          "0.14",
          "-",
          "0.14",
          "0.51",
          "-",
          "0.37",
          "0.29",
          "0.30",
          "0.60",
          "0.82",
          "0.71",
          "0.09",
          "0.07",
          "-",
          "0.96",
          "0.51",
          "0.94",
          "0.18",
          "0.66",
          "0.40",
          "-",
          "0.17",
          "0.88",
          "0.06",
          "0.60",
          "0.18",
          "0.27",
          "0.36",
          "0.41",
          "0.72",
          "-",
          "0.56",
          "-",
          "0.45",
          "0.46",
          "0.08",
          "0.21",
          "1.22",
          "0.66",
          "0.29",
          "-",
          "0.38",
          "0.23",
          "0.68",
          "0.06",
          "0.59",
          "0.47",
          "0.16",
          "0.14",
          "0.18",
          "1.10",
          "0.08",
          "0.20",
          "0.71",
          "0.26",
          "0.36",
          "0.15",
          "0.30",
          "-",
          "-",
          "0.08",
          "0.23",
          "0.14",
          "0.94",
          "0.56",
          "-",
          "0.24",
          "-",
          "0.07",
          "0.09",
          "0.49",
          "-",
          "-",
          "0.32",
          "-",
          "-",
          "0.06",
          "0.56",
          "-",
          "0.31",
          "0.47",
          "-",
          "0.22",
          "0.81",
          "0.11",
          "-",
          "0.14",
          "0.03",
          "0.27",
          "0.31",
          "1.01",
          "0.23",
          "0.33",
          "0.44",
          "0.06",
          "0.38",
          "0.83",
          "0.07",
          "0.48",
          "-",
          "0.15",
          "0.17",
          "0.90",
          "-",
          "0.29",
          "0.20",
          "0.63",
          "0.15",
          "0.43",
          "0.70",
          "0.15",
          "1.25",
          "0.07",
          "0.15",
          "1.06",
          "0.52",
          "0.54",
          "0.59",
          "0.21",
          "-",
          "-",
          "0.90",
          "-",
          "0.25",
          "0.44",
          "0.34",
          "0.24",
          "0.16",
          "0.17",
          "0.86",
          "0.75",
          "0.18",
          "0.25",
          "0.42",
          "0.70",
          null
         ],
         "y": [
          "0%",
          "0%",
          "32%",
          "0%",
          "0%",
          "0%",
          "0%",
          "36%",
          "0%",
          "31%",
          "40%",
          "5%",
          "0%",
          "0%",
          "36%",
          "32%",
          "33%",
          "0%",
          "0%",
          "23%",
          "0%",
          "43%",
          "0%",
          "31%",
          "0%",
          "0%",
          "33%",
          "24%",
          "10%",
          "0%",
          "30%",
          "5%",
          "30%",
          "39%",
          "0%",
          "0%",
          "32%",
          "30%",
          "34%",
          "34%",
          "29%",
          "32%",
          "50%",
          "0%",
          "27%",
          "35%",
          "37%",
          "34%",
          "25%",
          "34%",
          "0%",
          "36%",
          "36%",
          "35%",
          "0%",
          "44%",
          "0%",
          "26%",
          "0%",
          "0%",
          "0%",
          "0%",
          "25%",
          "0%",
          "0%",
          "36%",
          "0%",
          "39%",
          "21%",
          "31%",
          "28%",
          "0%",
          "35%",
          "0%",
          "0%",
          "0%",
          "0%",
          "33%",
          "0%",
          "37%",
          "0%",
          "7%",
          "0%",
          "32%",
          "37%",
          "0%",
          "33%",
          "35%",
          "0%",
          "29%",
          "0%",
          "0%",
          "32%",
          "0%",
          "33%",
          "0%",
          "37%",
          "36%",
          "29%",
          "37%",
          "0%",
          "37%",
          "0%",
          "31%",
          "36%",
          "32%",
          "36%",
          "38%",
          "34%",
          "32%",
          "33%",
          "23%",
          "0%",
          "0%",
          "0%",
          "25%",
          "0%",
          "33%",
          "0%",
          "0%",
          "28%",
          "27%",
          "0%",
          "0%",
          "0%",
          "34%",
          "33%",
          "29%",
          "10%",
          "27%",
          "0%",
          "0%",
          "38%",
          "23%",
          "31%",
          "30%",
          "0%",
          "0%",
          "37%",
          "41%",
          "0%",
          "36%",
          "30%",
          "30%",
          "29%",
          "32%",
          "34%",
          "0%",
          "25%",
          "0%",
          "33%",
          "29%",
          "30%",
          "4%",
          "20%",
          "37%",
          "0%",
          "14%",
          "34%",
          "0%",
          "26%",
          "0%",
          "5%",
          "0%",
          "28%",
          "33%",
          "0%",
          "32%",
          "0%",
          "35%",
          "35%",
          "30%",
          "0%",
          "32%",
          "40%",
          "25%",
          "0%",
          "32%",
          "5%",
          "36%",
          "0%",
          "26%",
          "29%",
          "0%",
          "33%",
          "36%",
          "35%",
          "0%",
          "7%",
          "35%",
          "20%",
          "0%",
          "30%",
          "17%",
          "0%",
          "0%",
          "23%",
          "30%",
          "37%",
          "34%",
          "24%",
          "0%",
          "11%",
          "0%",
          "0%",
          "33%",
          "40%",
          "0%",
          "0%",
          "37%",
          "0%",
          "0%",
          "0%",
          "25%",
          "0%",
          "32%",
          "13%",
          "0%",
          "5%",
          "29%",
          "31%",
          "0%",
          "39%",
          "21%",
          "34%",
          "4%",
          "34%",
          "32%",
          "36%",
          "33%",
          "50%",
          "35%",
          "18%",
          "0%",
          "35%",
          "8%",
          "0%",
          "26%",
          "36%",
          "0%",
          "32%",
          "36%",
          "25%",
          "29%",
          "22%",
          "26%",
          "6%",
          "25%",
          "0%",
          "0%",
          "37%",
          "36%",
          "37%",
          "23%",
          "0%",
          "0%",
          "0%",
          "34%",
          "0%",
          "40%",
          "37%",
          "25%",
          "34%",
          "33%",
          "28%",
          "31%",
          "36%",
          "33%",
          "27%",
          "38%",
          "34%",
          ""
         ]
        }
       ],
       "layout": {
        "legend": {
         "bgcolor": "#F5F6F9",
         "font": {
          "color": "#4D5663"
         }
        },
        "paper_bgcolor": "#F5F6F9",
        "plot_bgcolor": "#F5F6F9",
        "template": {
         "data": {
          "bar": [
           {
            "error_x": {
             "color": "#2a3f5f"
            },
            "error_y": {
             "color": "#2a3f5f"
            },
            "marker": {
             "line": {
              "color": "#E5ECF6",
              "width": 0.5
             }
            },
            "type": "bar"
           }
          ],
          "barpolar": [
           {
            "marker": {
             "line": {
              "color": "#E5ECF6",
              "width": 0.5
             }
            },
            "type": "barpolar"
           }
          ],
          "carpet": [
           {
            "aaxis": {
             "endlinecolor": "#2a3f5f",
             "gridcolor": "white",
             "linecolor": "white",
             "minorgridcolor": "white",
             "startlinecolor": "#2a3f5f"
            },
            "baxis": {
             "endlinecolor": "#2a3f5f",
             "gridcolor": "white",
             "linecolor": "white",
             "minorgridcolor": "white",
             "startlinecolor": "#2a3f5f"
            },
            "type": "carpet"
           }
          ],
          "choropleth": [
           {
            "colorbar": {
             "outlinewidth": 0,
             "ticks": ""
            },
            "type": "choropleth"
           }
          ],
          "contour": [
           {
            "colorbar": {
             "outlinewidth": 0,
             "ticks": ""
            },
            "colorscale": [
             [
              0,
              "#0d0887"
             ],
             [
              0.1111111111111111,
              "#46039f"
             ],
             [
              0.2222222222222222,
              "#7201a8"
             ],
             [
              0.3333333333333333,
              "#9c179e"
             ],
             [
              0.4444444444444444,
              "#bd3786"
             ],
             [
              0.5555555555555556,
              "#d8576b"
             ],
             [
              0.6666666666666666,
              "#ed7953"
             ],
             [
              0.7777777777777778,
              "#fb9f3a"
             ],
             [
              0.8888888888888888,
              "#fdca26"
             ],
             [
              1,
              "#f0f921"
             ]
            ],
            "type": "contour"
           }
          ],
          "contourcarpet": [
           {
            "colorbar": {
             "outlinewidth": 0,
             "ticks": ""
            },
            "type": "contourcarpet"
           }
          ],
          "heatmap": [
           {
            "colorbar": {
             "outlinewidth": 0,
             "ticks": ""
            },
            "colorscale": [
             [
              0,
              "#0d0887"
             ],
             [
              0.1111111111111111,
              "#46039f"
             ],
             [
              0.2222222222222222,
              "#7201a8"
             ],
             [
              0.3333333333333333,
              "#9c179e"
             ],
             [
              0.4444444444444444,
              "#bd3786"
             ],
             [
              0.5555555555555556,
              "#d8576b"
             ],
             [
              0.6666666666666666,
              "#ed7953"
             ],
             [
              0.7777777777777778,
              "#fb9f3a"
             ],
             [
              0.8888888888888888,
              "#fdca26"
             ],
             [
              1,
              "#f0f921"
             ]
            ],
            "type": "heatmap"
           }
          ],
          "heatmapgl": [
           {
            "colorbar": {
             "outlinewidth": 0,
             "ticks": ""
            },
            "colorscale": [
             [
              0,
              "#0d0887"
             ],
             [
              0.1111111111111111,
              "#46039f"
             ],
             [
              0.2222222222222222,
              "#7201a8"
             ],
             [
              0.3333333333333333,
              "#9c179e"
             ],
             [
              0.4444444444444444,
              "#bd3786"
             ],
             [
              0.5555555555555556,
              "#d8576b"
             ],
             [
              0.6666666666666666,
              "#ed7953"
             ],
             [
              0.7777777777777778,
              "#fb9f3a"
             ],
             [
              0.8888888888888888,
              "#fdca26"
             ],
             [
              1,
              "#f0f921"
             ]
            ],
            "type": "heatmapgl"
           }
          ],
          "histogram": [
           {
            "marker": {
             "colorbar": {
              "outlinewidth": 0,
              "ticks": ""
             }
            },
            "type": "histogram"
           }
          ],
          "histogram2d": [
           {
            "colorbar": {
             "outlinewidth": 0,
             "ticks": ""
            },
            "colorscale": [
             [
              0,
              "#0d0887"
             ],
             [
              0.1111111111111111,
              "#46039f"
             ],
             [
              0.2222222222222222,
              "#7201a8"
             ],
             [
              0.3333333333333333,
              "#9c179e"
             ],
             [
              0.4444444444444444,
              "#bd3786"
             ],
             [
              0.5555555555555556,
              "#d8576b"
             ],
             [
              0.6666666666666666,
              "#ed7953"
             ],
             [
              0.7777777777777778,
              "#fb9f3a"
             ],
             [
              0.8888888888888888,
              "#fdca26"
             ],
             [
              1,
              "#f0f921"
             ]
            ],
            "type": "histogram2d"
           }
          ],
          "histogram2dcontour": [
           {
            "colorbar": {
             "outlinewidth": 0,
             "ticks": ""
            },
            "colorscale": [
             [
              0,
              "#0d0887"
             ],
             [
              0.1111111111111111,
              "#46039f"
             ],
             [
              0.2222222222222222,
              "#7201a8"
             ],
             [
              0.3333333333333333,
              "#9c179e"
             ],
             [
              0.4444444444444444,
              "#bd3786"
             ],
             [
              0.5555555555555556,
              "#d8576b"
             ],
             [
              0.6666666666666666,
              "#ed7953"
             ],
             [
              0.7777777777777778,
              "#fb9f3a"
             ],
             [
              0.8888888888888888,
              "#fdca26"
             ],
             [
              1,
              "#f0f921"
             ]
            ],
            "type": "histogram2dcontour"
           }
          ],
          "mesh3d": [
           {
            "colorbar": {
             "outlinewidth": 0,
             "ticks": ""
            },
            "type": "mesh3d"
           }
          ],
          "parcoords": [
           {
            "line": {
             "colorbar": {
              "outlinewidth": 0,
              "ticks": ""
             }
            },
            "type": "parcoords"
           }
          ],
          "pie": [
           {
            "automargin": true,
            "type": "pie"
           }
          ],
          "scatter": [
           {
            "marker": {
             "colorbar": {
              "outlinewidth": 0,
              "ticks": ""
             }
            },
            "type": "scatter"
           }
          ],
          "scatter3d": [
           {
            "line": {
             "colorbar": {
              "outlinewidth": 0,
              "ticks": ""
             }
            },
            "marker": {
             "colorbar": {
              "outlinewidth": 0,
              "ticks": ""
             }
            },
            "type": "scatter3d"
           }
          ],
          "scattercarpet": [
           {
            "marker": {
             "colorbar": {
              "outlinewidth": 0,
              "ticks": ""
             }
            },
            "type": "scattercarpet"
           }
          ],
          "scattergeo": [
           {
            "marker": {
             "colorbar": {
              "outlinewidth": 0,
              "ticks": ""
             }
            },
            "type": "scattergeo"
           }
          ],
          "scattergl": [
           {
            "marker": {
             "colorbar": {
              "outlinewidth": 0,
              "ticks": ""
             }
            },
            "type": "scattergl"
           }
          ],
          "scattermapbox": [
           {
            "marker": {
             "colorbar": {
              "outlinewidth": 0,
              "ticks": ""
             }
            },
            "type": "scattermapbox"
           }
          ],
          "scatterpolar": [
           {
            "marker": {
             "colorbar": {
              "outlinewidth": 0,
              "ticks": ""
             }
            },
            "type": "scatterpolar"
           }
          ],
          "scatterpolargl": [
           {
            "marker": {
             "colorbar": {
              "outlinewidth": 0,
              "ticks": ""
             }
            },
            "type": "scatterpolargl"
           }
          ],
          "scatterternary": [
           {
            "marker": {
             "colorbar": {
              "outlinewidth": 0,
              "ticks": ""
             }
            },
            "type": "scatterternary"
           }
          ],
          "surface": [
           {
            "colorbar": {
             "outlinewidth": 0,
             "ticks": ""
            },
            "colorscale": [
             [
              0,
              "#0d0887"
             ],
             [
              0.1111111111111111,
              "#46039f"
             ],
             [
              0.2222222222222222,
              "#7201a8"
             ],
             [
              0.3333333333333333,
              "#9c179e"
             ],
             [
              0.4444444444444444,
              "#bd3786"
             ],
             [
              0.5555555555555556,
              "#d8576b"
             ],
             [
              0.6666666666666666,
              "#ed7953"
             ],
             [
              0.7777777777777778,
              "#fb9f3a"
             ],
             [
              0.8888888888888888,
              "#fdca26"
             ],
             [
              1,
              "#f0f921"
             ]
            ],
            "type": "surface"
           }
          ],
          "table": [
           {
            "cells": {
             "fill": {
              "color": "#EBF0F8"
             },
             "line": {
              "color": "white"
             }
            },
            "header": {
             "fill": {
              "color": "#C8D4E3"
             },
             "line": {
              "color": "white"
             }
            },
            "type": "table"
           }
          ]
         },
         "layout": {
          "annotationdefaults": {
           "arrowcolor": "#2a3f5f",
           "arrowhead": 0,
           "arrowwidth": 1
          },
          "coloraxis": {
           "colorbar": {
            "outlinewidth": 0,
            "ticks": ""
           }
          },
          "colorscale": {
           "diverging": [
            [
             0,
             "#8e0152"
            ],
            [
             0.1,
             "#c51b7d"
            ],
            [
             0.2,
             "#de77ae"
            ],
            [
             0.3,
             "#f1b6da"
            ],
            [
             0.4,
             "#fde0ef"
            ],
            [
             0.5,
             "#f7f7f7"
            ],
            [
             0.6,
             "#e6f5d0"
            ],
            [
             0.7,
             "#b8e186"
            ],
            [
             0.8,
             "#7fbc41"
            ],
            [
             0.9,
             "#4d9221"
            ],
            [
             1,
             "#276419"
            ]
           ],
           "sequential": [
            [
             0,
             "#0d0887"
            ],
            [
             0.1111111111111111,
             "#46039f"
            ],
            [
             0.2222222222222222,
             "#7201a8"
            ],
            [
             0.3333333333333333,
             "#9c179e"
            ],
            [
             0.4444444444444444,
             "#bd3786"
            ],
            [
             0.5555555555555556,
             "#d8576b"
            ],
            [
             0.6666666666666666,
             "#ed7953"
            ],
            [
             0.7777777777777778,
             "#fb9f3a"
            ],
            [
             0.8888888888888888,
             "#fdca26"
            ],
            [
             1,
             "#f0f921"
            ]
           ],
           "sequentialminus": [
            [
             0,
             "#0d0887"
            ],
            [
             0.1111111111111111,
             "#46039f"
            ],
            [
             0.2222222222222222,
             "#7201a8"
            ],
            [
             0.3333333333333333,
             "#9c179e"
            ],
            [
             0.4444444444444444,
             "#bd3786"
            ],
            [
             0.5555555555555556,
             "#d8576b"
            ],
            [
             0.6666666666666666,
             "#ed7953"
            ],
            [
             0.7777777777777778,
             "#fb9f3a"
            ],
            [
             0.8888888888888888,
             "#fdca26"
            ],
            [
             1,
             "#f0f921"
            ]
           ]
          },
          "colorway": [
           "#636efa",
           "#EF553B",
           "#00cc96",
           "#ab63fa",
           "#FFA15A",
           "#19d3f3",
           "#FF6692",
           "#B6E880",
           "#FF97FF",
           "#FECB52"
          ],
          "font": {
           "color": "#2a3f5f"
          },
          "geo": {
           "bgcolor": "white",
           "lakecolor": "white",
           "landcolor": "#E5ECF6",
           "showlakes": true,
           "showland": true,
           "subunitcolor": "white"
          },
          "hoverlabel": {
           "align": "left"
          },
          "hovermode": "closest",
          "mapbox": {
           "style": "light"
          },
          "paper_bgcolor": "white",
          "plot_bgcolor": "#E5ECF6",
          "polar": {
           "angularaxis": {
            "gridcolor": "white",
            "linecolor": "white",
            "ticks": ""
           },
           "bgcolor": "#E5ECF6",
           "radialaxis": {
            "gridcolor": "white",
            "linecolor": "white",
            "ticks": ""
           }
          },
          "scene": {
           "xaxis": {
            "backgroundcolor": "#E5ECF6",
            "gridcolor": "white",
            "gridwidth": 2,
            "linecolor": "white",
            "showbackground": true,
            "ticks": "",
            "zerolinecolor": "white"
           },
           "yaxis": {
            "backgroundcolor": "#E5ECF6",
            "gridcolor": "white",
            "gridwidth": 2,
            "linecolor": "white",
            "showbackground": true,
            "ticks": "",
            "zerolinecolor": "white"
           },
           "zaxis": {
            "backgroundcolor": "#E5ECF6",
            "gridcolor": "white",
            "gridwidth": 2,
            "linecolor": "white",
            "showbackground": true,
            "ticks": "",
            "zerolinecolor": "white"
           }
          },
          "shapedefaults": {
           "line": {
            "color": "#2a3f5f"
           }
          },
          "ternary": {
           "aaxis": {
            "gridcolor": "white",
            "linecolor": "white",
            "ticks": ""
           },
           "baxis": {
            "gridcolor": "white",
            "linecolor": "white",
            "ticks": ""
           },
           "bgcolor": "#E5ECF6",
           "caxis": {
            "gridcolor": "white",
            "linecolor": "white",
            "ticks": ""
           }
          },
          "title": {
           "x": 0.05
          },
          "xaxis": {
           "automargin": true,
           "gridcolor": "white",
           "linecolor": "white",
           "ticks": "",
           "title": {
            "standoff": 15
           },
           "zerolinecolor": "white",
           "zerolinewidth": 2
          },
          "yaxis": {
           "automargin": true,
           "gridcolor": "white",
           "linecolor": "white",
           "ticks": "",
           "title": {
            "standoff": 15
           },
           "zerolinecolor": "white",
           "zerolinewidth": 2
          }
         }
        },
        "title": {
         "font": {
          "color": "#4D5663"
         },
         "text": "Complete Wing Back - Support"
        },
        "xaxis": {
         "gridcolor": "#E1E5ED",
         "showgrid": true,
         "tickfont": {
          "color": "#4D5663"
         },
         "title": {
          "font": {
           "color": "#4D5663"
          },
          "text": "Key Passes/90"
         },
         "zerolinecolor": "#E1E5ED"
        },
        "yaxis": {
         "gridcolor": "#E1E5ED",
         "showgrid": true,
         "tickfont": {
          "color": "#4D5663"
         },
         "title": {
          "font": {
           "color": "#4D5663"
          },
          "text": "Cross Completion %"
         },
         "zerolinecolor": "#E1E5ED"
        }
       }
      },
      "text/html": [
       "<div>\n",
       "        \n",
       "        \n",
       "            <div id=\"4f275974-ead7-445c-bf2f-c7feb4ed6938\" class=\"plotly-graph-div\" style=\"height:525px; width:100%;\"></div>\n",
       "            <script type=\"text/javascript\">\n",
       "                require([\"plotly\"], function(Plotly) {\n",
       "                    window.PLOTLYENV=window.PLOTLYENV || {};\n",
       "                    window.PLOTLYENV.BASE_URL='https://plot.ly';\n",
       "                    \n",
       "                if (document.getElementById(\"4f275974-ead7-445c-bf2f-c7feb4ed6938\")) {\n",
       "                    Plotly.newPlot(\n",
       "                        '4f275974-ead7-445c-bf2f-c7feb4ed6938',\n",
       "                        [{\"line\": {\"color\": \"rgba(255, 153, 51, 1.0)\", \"dash\": \"solid\", \"shape\": \"linear\", \"width\": 1.3}, \"marker\": {\"size\": 10, \"symbol\": \"circle\"}, \"mode\": \"markers\", \"name\": \"Cr C/A\", \"text\": [\"Djibril Diakit\\u00c3\\u00a9\", \"Jo\\u00c3\\u00a3o Tavares\", \"Matej Hudecek\", \"Adrian Rybak\", \"Oskar Repka\", \"Maciej Obodecki\", \"Ivo Kralj\", \"Bartosz Sobczyk\", \"Ivan Tomac\", \"Nikola Bogdanovski\", \"Stefan Velickovic\", \"Andrija Zakoc\", \"Aur\\u00c3\\u00a9lien Nguiamba\", \"Flynn Downes\", \"Nikola Puzic\", \"Andjelo Kacavenda\", \"Tymoteusz Puchacz\", \"Felix Brunmayr\", \"Lennart Grill\", \"Josip Rakic\", \"Stefan Randjelovic\", \"Radoslaw Dzierbicki\", \"Alexandar Ubavic\", \"Veljko Jovkovic\", \"Mariano G\\u00c3\\u00b3mez\", \"David Bumberger\", \"Enrico Huss\", \"Mateo Jaksic\", \"Konrad Jozwicki\", \"Nikita Marusenko\", \"Djordje Jovanovic\", \"Filip Lisnic\", \"Dawid Szalas\", \"Vladimir Ilic\", \"Marcin Mackowiak\", \"Florin Codrean\", \"David Otto\", \"Stefan Golubovic\", \"Keanan Bennetts\", \"Andrej Vukas\", \"Jannik Tepe\", \"Mladen Devetak\", \"Tom Baack\", \"Jan Sobocinski\", \"Tom\\u00c3\\u00a1s Blanco\", \"Sinan Karweina\", \"Ben Williams\", \"Arkadiusz Zajaczkowski\", \"Miguel Reisinho\", \"Filp Ceko\", \"Michel St\\u00c3\\u00b6cker\", \"J\\u00c3\\u00a9r\\u00c3\\u00b4me Deom\", \"Ranko Jokic\", \"Palko D\\u00c3\\u00a1rdai\", \"Aleksander Tomasz\", \"Alex Vigo\", \"Daniel Bielica\", \"Marko Djira\", \"Norbert Walczak\", \"Boris Moltenis\", \"Julius Kade\", \"Goran Buljandric\", \"Jannis K\\u00c3\\u00bcbler\", \"Aleksa Jovanovic\", \"Tomasz Owczarek\", \"David Wittkowski\", \"Konrad Zaklika\", \"Pawel Karbowinski\", \"Nicky Werner\", \"Julijan Popovic\", \"Nassim Boujellab\", \"Bartlomiej Gajda\", \"Nemanja Matijevic\", \"Marko Denic\", \"Robert Baar\", \"Tuta\", \"Dusan Jokovic\", \"Tomasz Dzida\", \"Aleksa Pejic\", \"Krsta Bojic\", \"Sikou Niakat\\u00c3\\u00a9\", \"Tomasz Makowski\", \"Sebastian Gwozdz\", \"Adrian Polanski\", \"Bryan Mbeumo\", \"Dorin Sirbu\", \"Elvis Novalic\", \"Micka\\u00c3\\u00abl Cuisance\", \"Mateusz Madzia\", \"Jes\\u00c3\\u00bas Vargas\", \"Marino Jedvaj\", \"Raphael Assibey-Mensah\", \"Lukasz Sztylka\", \"Zoran Zrnzevic\", \"Alex Krawiec\", \"Petar Melezovic\", \"Tomasz Kurek\", \"Danko Radic\", \"Paul Mensah\", \"Jordan Williams\", \"Mario Mustapic\", \"Nikola Trickovic\", \"Patrik Delic\", \"Maciej Famulak\", \"Wiktor Nahrebecki\", \"Barne Poggenberg\", \"Mirza Jasarevic\", \"Ratko Minic\", \"Semih \\u00c5\\u009eahin\", \"Matej Santek\", \"Georgios Siadas\", \"Tyrese Campbell\", \"Martin Krizmanic\", \"Kacper Laskos\", \"Aleksa Milojevic\", \"Cheick Doucour\\u00c3\\u00a9\", \"Ivan Jakovljev\", \"Przemyslaw Zdybowicz\", \"Sven Botman\", \"Malik Karaahmet\", \"Lukas Kr\\u00c3\\u00bcger\", \"Niclas Stierlin\", \"Mane Markovic\", \"Karol Czubak\", \"Ilija Dejanovic\", \"Pascal Hackethal\", \"Oleg Gorin\", \"Michal Zieba\", \"Miodrag Maljkovic\", \"Jakov Blagaic\", \"Harisson Marcelin\", \"Vice Bazdaric\", \"Daniel Liszka\", \"Jan Sieracki\", \"Jhonny Lucas\", \"Tymoteusz Klups\", \"Josip Sutalo\", \"Othman Boussaid\", \"Evert Linthorst\", \"Jusuf Gazibegovic\", \"Virgiliu Postolachi\", \"Luis G\\u00c3\\u00b6rlich\", \"Andrej Ilic\", \"Daniel Haritonov\", \"Patryk Drabik\", \"Tom Dobek-Pietrowski\", \"Michal Mydlarz\", \"Cho Jeong-Hui\", \"Mohamed Loua\", \"Nemanja Zikic\", \"Emir Sejdovic\", \"Samuel Lengle\", \"Mateusz Duchowski\", \"Iliya Gruev\", \"Bartosz Borun\", \"Juraj Ljubic\", \"Gon\\u00c3\\u00a7alo Rebelo\", \"Dominik Resetar\", \"Jurica Prsir\", \"Piotr Wujec\", \"Jan Majsterek\", \"Mitchel Bakker\", \"Kamil Piatkowski\", \"Michal Ozga\", \"Karol Turek\", \"Toni Karimovic\", \"Billy Crellin\", \"Konrad Sieracki\", \"Vando Luis\", \"Jan Los\", \"Jessic Ngankam\", \"Adam Borkowski\", \"Julian Rieckmann\", \"Luka Pavlak\", \"Robert Ion\", \"Linus Rosenl\\u00c3\\u00b6cher\", \"Eugen Telch\", \"Nicholas Wunsch\", \"Dawid Kisly\", \"Uros Miloradovic\", \"Alois Oroz\", \"Luca Bazzoli\", \"Ronan Darcy\", \"Yann-Aurel Bisseck\", \"Timo Bornemann\", \"Radivoj Bosic\", \"Jakov Katusa\", \"Kacper Jozefiak\", \"Szymon Mroczko\", \"Karol Struski\", \"Wojciech Kaminski\", \"Piotr Lisowski\", \"Daishawn Redan\", \"Kacper Smolinski\", \"Lukas Sch\\u00c3\\u00b6fl\", \"Mikolaj Labojko\", \"Jakub Karbownik\", \"Damir Magdic\", \"Karol Malec\", \"Patryk Wozniak\", \"Can Bozdogan\", \"Aleksander Paluszek\", \"Mario Cuic\", \"Dragoljub Savic\", \"Nathan Collins\", \"Dominik Pila\", \"Mihael Kupresak\", \"Manu Kon\\u00c3\\u00a9\", \"Niels Hahn\", \"Tin Hrvoj\", \"Lucas Da Cunha\", \"Rahim Ibrahim\", \"Renato Josipovic\", \"Han-Noah Massengo\", \"Kacper Wiatrak\", \"Bartosz Kuzniarski\", \"Adrian Petk\", \"Fabian Tauchhammer\", \"Bartlomiej Mruk\", \"Jakub Rudek\", \"Jakub Swiecinski\", \"Jakub Nowakowski\", \"Kamil Dabrowski\", \"Yuri Sprandel Flores\", \"Stefan Radmanovac\", \"Kamal Bafounta\", \"Filip Marchwinski\", \"Kamil Lukoszek\", \"Jakub Niewiadomski\", \"Dominik Kedzior\", \"Joe Gelhardt\", \"Filip Sobiecki\", \"Fran Tomek\", \"Hubert Wasiewski\", \"Djordje Vasic\", \"Jakub Zima\", \"Damian Makuch\", \"Andrzej Kloda\", \"Stipe Biuk\", \"Mateusz Pienczak\", \"FIlip Brekalo\", \"Stefan Despotovski\", \"Jakub Kisiel\", \"Duje Skugor\", \"Martin Baturina\", \"Radoslaw Cielemecki\", \"Ariel Mosor\", \"Nikola Petkovic\", \"Nikodem Sujecki\", \"Ivan Mandic\", \"Stanislaw Loch\", \"Dario Grgic\", \"Wojciech Szybka\", \"Kacper Szmidt\", \"Vukasin Krstic\", \"Obrendo Doesburg\", \"Casper Elderman\", \"Predrag Jovic\", \"Daniel Hoyo-Kowalski\", \"Darijo Basic\", \"Wiktor Mosur\", \"Uros Mirkovic\", \"Marcos Rodr\\u00c3\\u00adguez\", \"Adrian \\u00c5\\u00a2apu\", \"Paul Mari\", \"Pawel Muzylowski\", \"Dragan Radovic\", \"Szymon Kobeszko\", \"Marcin Dabrowski\", \"Jorge Delgado\", \"Daniel Piesio\", null], \"type\": \"scatter\", \"x\": [\"-\", \"-\", \"0.11\", \"0.12\", \"-\", \"-\", \"-\", \"0.15\", \"0.42\", \"0.58\", \"0.23\", \"0.25\", \"0.28\", \"0.44\", \"1.04\", \"0.26\", \"0.23\", \"0.25\", \"0.10\", \"0.15\", \"0.14\", \"0.33\", \"-\", \"0.57\", \"0.22\", \"0.23\", \"0.26\", \"0.14\", \"0.46\", \"0.40\", \"0.46\", \"0.06\", \"0.44\", \"0.10\", \"0.24\", \"-\", \"0.34\", \"0.05\", \"0.48\", \"0.29\", \"0.38\", \"0.52\", \"0.40\", \"0.29\", \"-\", \"0.40\", \"0.08\", \"0.32\", \"0.58\", \"0.17\", \"0.31\", \"0.43\", \"0.11\", \"0.99\", \"-\", \"0.06\", \"0.17\", \"0.75\", \"-\", \"0.06\", \"0.79\", \"-\", \"1.01\", \"0.15\", \"0.12\", \"0.20\", \"0.27\", \"0.32\", \"0.19\", \"0.32\", \"0.86\", \"0.40\", \"0.47\", \"-\", \"0.20\", \"-\", \"0.25\", \"0.68\", \"0.34\", \"0.37\", \"0.19\", \"0.33\", \"-\", \"0.35\", \"0.45\", \"-\", \"0.60\", \"1.07\", \"0.05\", \"0.39\", \"-\", \"-\", \"0.26\", \"-\", \"1.74\", \"-\", \"0.61\", \"0.70\", \"0.45\", \"0.29\", \"0.17\", \"0.25\", \"-\", \"0.85\", \"0.85\", \"0.23\", \"0.24\", \"0.71\", \"0.53\", \"0.67\", \"0.44\", \"0.17\", \"0.11\", \"0.18\", \"0.12\", \"0.86\", \"-\", \"0.20\", \"0.06\", \"-\", \"0.30\", \"0.41\", \"0.10\", \"0.21\", \"-\", \"0.48\", \"0.44\", \"0.32\", \"0.49\", \"0.69\", \"0.06\", \"0.06\", \"0.88\", \"0.54\", \"0.46\", \"0.22\", \"0.14\", \"-\", \"0.14\", \"0.51\", \"-\", \"0.37\", \"0.29\", \"0.30\", \"0.60\", \"0.82\", \"0.71\", \"0.09\", \"0.07\", \"-\", \"0.96\", \"0.51\", \"0.94\", \"0.18\", \"0.66\", \"0.40\", \"-\", \"0.17\", \"0.88\", \"0.06\", \"0.60\", \"0.18\", \"0.27\", \"0.36\", \"0.41\", \"0.72\", \"-\", \"0.56\", \"-\", \"0.45\", \"0.46\", \"0.08\", \"0.21\", \"1.22\", \"0.66\", \"0.29\", \"-\", \"0.38\", \"0.23\", \"0.68\", \"0.06\", \"0.59\", \"0.47\", \"0.16\", \"0.14\", \"0.18\", \"1.10\", \"0.08\", \"0.20\", \"0.71\", \"0.26\", \"0.36\", \"0.15\", \"0.30\", \"-\", \"-\", \"0.08\", \"0.23\", \"0.14\", \"0.94\", \"0.56\", \"-\", \"0.24\", \"-\", \"0.07\", \"0.09\", \"0.49\", \"-\", \"-\", \"0.32\", \"-\", \"-\", \"0.06\", \"0.56\", \"-\", \"0.31\", \"0.47\", \"-\", \"0.22\", \"0.81\", \"0.11\", \"-\", \"0.14\", \"0.03\", \"0.27\", \"0.31\", \"1.01\", \"0.23\", \"0.33\", \"0.44\", \"0.06\", \"0.38\", \"0.83\", \"0.07\", \"0.48\", \"-\", \"0.15\", \"0.17\", \"0.90\", \"-\", \"0.29\", \"0.20\", \"0.63\", \"0.15\", \"0.43\", \"0.70\", \"0.15\", \"1.25\", \"0.07\", \"0.15\", \"1.06\", \"0.52\", \"0.54\", \"0.59\", \"0.21\", \"-\", \"-\", \"0.90\", \"-\", \"0.25\", \"0.44\", \"0.34\", \"0.24\", \"0.16\", \"0.17\", \"0.86\", \"0.75\", \"0.18\", \"0.25\", \"0.42\", \"0.70\", null], \"y\": [\"0%\", \"0%\", \"32%\", \"0%\", \"0%\", \"0%\", \"0%\", \"36%\", \"0%\", \"31%\", \"40%\", \"5%\", \"0%\", \"0%\", \"36%\", \"32%\", \"33%\", \"0%\", \"0%\", \"23%\", \"0%\", \"43%\", \"0%\", \"31%\", \"0%\", \"0%\", \"33%\", \"24%\", \"10%\", \"0%\", \"30%\", \"5%\", \"30%\", \"39%\", \"0%\", \"0%\", \"32%\", \"30%\", \"34%\", \"34%\", \"29%\", \"32%\", \"50%\", \"0%\", \"27%\", \"35%\", \"37%\", \"34%\", \"25%\", \"34%\", \"0%\", \"36%\", \"36%\", \"35%\", \"0%\", \"44%\", \"0%\", \"26%\", \"0%\", \"0%\", \"0%\", \"0%\", \"25%\", \"0%\", \"0%\", \"36%\", \"0%\", \"39%\", \"21%\", \"31%\", \"28%\", \"0%\", \"35%\", \"0%\", \"0%\", \"0%\", \"0%\", \"33%\", \"0%\", \"37%\", \"0%\", \"7%\", \"0%\", \"32%\", \"37%\", \"0%\", \"33%\", \"35%\", \"0%\", \"29%\", \"0%\", \"0%\", \"32%\", \"0%\", \"33%\", \"0%\", \"37%\", \"36%\", \"29%\", \"37%\", \"0%\", \"37%\", \"0%\", \"31%\", \"36%\", \"32%\", \"36%\", \"38%\", \"34%\", \"32%\", \"33%\", \"23%\", \"0%\", \"0%\", \"0%\", \"25%\", \"0%\", \"33%\", \"0%\", \"0%\", \"28%\", \"27%\", \"0%\", \"0%\", \"0%\", \"34%\", \"33%\", \"29%\", \"10%\", \"27%\", \"0%\", \"0%\", \"38%\", \"23%\", \"31%\", \"30%\", \"0%\", \"0%\", \"37%\", \"41%\", \"0%\", \"36%\", \"30%\", \"30%\", \"29%\", \"32%\", \"34%\", \"0%\", \"25%\", \"0%\", \"33%\", \"29%\", \"30%\", \"4%\", \"20%\", \"37%\", \"0%\", \"14%\", \"34%\", \"0%\", \"26%\", \"0%\", \"5%\", \"0%\", \"28%\", \"33%\", \"0%\", \"32%\", \"0%\", \"35%\", \"35%\", \"30%\", \"0%\", \"32%\", \"40%\", \"25%\", \"0%\", \"32%\", \"5%\", \"36%\", \"0%\", \"26%\", \"29%\", \"0%\", \"33%\", \"36%\", \"35%\", \"0%\", \"7%\", \"35%\", \"20%\", \"0%\", \"30%\", \"17%\", \"0%\", \"0%\", \"23%\", \"30%\", \"37%\", \"34%\", \"24%\", \"0%\", \"11%\", \"0%\", \"0%\", \"33%\", \"40%\", \"0%\", \"0%\", \"37%\", \"0%\", \"0%\", \"0%\", \"25%\", \"0%\", \"32%\", \"13%\", \"0%\", \"5%\", \"29%\", \"31%\", \"0%\", \"39%\", \"21%\", \"34%\", \"4%\", \"34%\", \"32%\", \"36%\", \"33%\", \"50%\", \"35%\", \"18%\", \"0%\", \"35%\", \"8%\", \"0%\", \"26%\", \"36%\", \"0%\", \"32%\", \"36%\", \"25%\", \"29%\", \"22%\", \"26%\", \"6%\", \"25%\", \"0%\", \"0%\", \"37%\", \"36%\", \"37%\", \"23%\", \"0%\", \"0%\", \"0%\", \"34%\", \"0%\", \"40%\", \"37%\", \"25%\", \"34%\", \"33%\", \"28%\", \"31%\", \"36%\", \"33%\", \"27%\", \"38%\", \"34%\", \"\"]}],\n",
       "                        {\"legend\": {\"bgcolor\": \"#F5F6F9\", \"font\": {\"color\": \"#4D5663\"}}, \"paper_bgcolor\": \"#F5F6F9\", \"plot_bgcolor\": \"#F5F6F9\", \"template\": {\"data\": {\"bar\": [{\"error_x\": {\"color\": \"#2a3f5f\"}, \"error_y\": {\"color\": \"#2a3f5f\"}, \"marker\": {\"line\": {\"color\": \"#E5ECF6\", \"width\": 0.5}}, \"type\": \"bar\"}], \"barpolar\": [{\"marker\": {\"line\": {\"color\": \"#E5ECF6\", \"width\": 0.5}}, \"type\": \"barpolar\"}], \"carpet\": [{\"aaxis\": {\"endlinecolor\": \"#2a3f5f\", \"gridcolor\": \"white\", \"linecolor\": \"white\", \"minorgridcolor\": \"white\", \"startlinecolor\": \"#2a3f5f\"}, \"baxis\": {\"endlinecolor\": \"#2a3f5f\", \"gridcolor\": \"white\", \"linecolor\": \"white\", \"minorgridcolor\": \"white\", \"startlinecolor\": \"#2a3f5f\"}, \"type\": \"carpet\"}], \"choropleth\": [{\"colorbar\": {\"outlinewidth\": 0, \"ticks\": \"\"}, \"type\": \"choropleth\"}], \"contour\": [{\"colorbar\": {\"outlinewidth\": 0, \"ticks\": \"\"}, \"colorscale\": [[0.0, \"#0d0887\"], [0.1111111111111111, \"#46039f\"], [0.2222222222222222, \"#7201a8\"], [0.3333333333333333, \"#9c179e\"], [0.4444444444444444, \"#bd3786\"], [0.5555555555555556, \"#d8576b\"], [0.6666666666666666, \"#ed7953\"], [0.7777777777777778, \"#fb9f3a\"], [0.8888888888888888, \"#fdca26\"], [1.0, \"#f0f921\"]], \"type\": \"contour\"}], \"contourcarpet\": [{\"colorbar\": {\"outlinewidth\": 0, \"ticks\": \"\"}, \"type\": \"contourcarpet\"}], \"heatmap\": [{\"colorbar\": {\"outlinewidth\": 0, \"ticks\": \"\"}, \"colorscale\": [[0.0, \"#0d0887\"], [0.1111111111111111, \"#46039f\"], [0.2222222222222222, \"#7201a8\"], [0.3333333333333333, \"#9c179e\"], [0.4444444444444444, \"#bd3786\"], [0.5555555555555556, \"#d8576b\"], [0.6666666666666666, \"#ed7953\"], [0.7777777777777778, \"#fb9f3a\"], [0.8888888888888888, \"#fdca26\"], [1.0, \"#f0f921\"]], \"type\": \"heatmap\"}], \"heatmapgl\": [{\"colorbar\": {\"outlinewidth\": 0, \"ticks\": \"\"}, \"colorscale\": [[0.0, \"#0d0887\"], [0.1111111111111111, \"#46039f\"], [0.2222222222222222, \"#7201a8\"], [0.3333333333333333, \"#9c179e\"], [0.4444444444444444, \"#bd3786\"], [0.5555555555555556, \"#d8576b\"], [0.6666666666666666, \"#ed7953\"], [0.7777777777777778, \"#fb9f3a\"], [0.8888888888888888, \"#fdca26\"], [1.0, \"#f0f921\"]], \"type\": \"heatmapgl\"}], \"histogram\": [{\"marker\": {\"colorbar\": {\"outlinewidth\": 0, \"ticks\": \"\"}}, \"type\": \"histogram\"}], \"histogram2d\": [{\"colorbar\": {\"outlinewidth\": 0, \"ticks\": \"\"}, \"colorscale\": [[0.0, \"#0d0887\"], [0.1111111111111111, \"#46039f\"], [0.2222222222222222, \"#7201a8\"], [0.3333333333333333, \"#9c179e\"], [0.4444444444444444, \"#bd3786\"], [0.5555555555555556, \"#d8576b\"], [0.6666666666666666, \"#ed7953\"], [0.7777777777777778, \"#fb9f3a\"], [0.8888888888888888, \"#fdca26\"], [1.0, \"#f0f921\"]], \"type\": \"histogram2d\"}], \"histogram2dcontour\": [{\"colorbar\": {\"outlinewidth\": 0, \"ticks\": \"\"}, \"colorscale\": [[0.0, \"#0d0887\"], [0.1111111111111111, \"#46039f\"], [0.2222222222222222, \"#7201a8\"], [0.3333333333333333, \"#9c179e\"], [0.4444444444444444, \"#bd3786\"], [0.5555555555555556, \"#d8576b\"], [0.6666666666666666, \"#ed7953\"], [0.7777777777777778, \"#fb9f3a\"], [0.8888888888888888, \"#fdca26\"], [1.0, \"#f0f921\"]], \"type\": \"histogram2dcontour\"}], \"mesh3d\": [{\"colorbar\": {\"outlinewidth\": 0, \"ticks\": \"\"}, \"type\": \"mesh3d\"}], \"parcoords\": [{\"line\": {\"colorbar\": {\"outlinewidth\": 0, \"ticks\": \"\"}}, \"type\": \"parcoords\"}], \"pie\": [{\"automargin\": true, \"type\": \"pie\"}], \"scatter\": [{\"marker\": {\"colorbar\": {\"outlinewidth\": 0, \"ticks\": \"\"}}, \"type\": \"scatter\"}], \"scatter3d\": [{\"line\": {\"colorbar\": {\"outlinewidth\": 0, \"ticks\": \"\"}}, \"marker\": {\"colorbar\": {\"outlinewidth\": 0, \"ticks\": \"\"}}, \"type\": \"scatter3d\"}], \"scattercarpet\": [{\"marker\": {\"colorbar\": {\"outlinewidth\": 0, \"ticks\": \"\"}}, \"type\": \"scattercarpet\"}], \"scattergeo\": [{\"marker\": {\"colorbar\": {\"outlinewidth\": 0, \"ticks\": \"\"}}, \"type\": \"scattergeo\"}], \"scattergl\": [{\"marker\": {\"colorbar\": {\"outlinewidth\": 0, \"ticks\": \"\"}}, \"type\": \"scattergl\"}], \"scattermapbox\": [{\"marker\": {\"colorbar\": {\"outlinewidth\": 0, \"ticks\": \"\"}}, \"type\": \"scattermapbox\"}], \"scatterpolar\": [{\"marker\": {\"colorbar\": {\"outlinewidth\": 0, \"ticks\": \"\"}}, \"type\": \"scatterpolar\"}], \"scatterpolargl\": [{\"marker\": {\"colorbar\": {\"outlinewidth\": 0, \"ticks\": \"\"}}, \"type\": \"scatterpolargl\"}], \"scatterternary\": [{\"marker\": {\"colorbar\": {\"outlinewidth\": 0, \"ticks\": \"\"}}, \"type\": \"scatterternary\"}], \"surface\": [{\"colorbar\": {\"outlinewidth\": 0, \"ticks\": \"\"}, \"colorscale\": [[0.0, \"#0d0887\"], [0.1111111111111111, \"#46039f\"], [0.2222222222222222, \"#7201a8\"], [0.3333333333333333, \"#9c179e\"], [0.4444444444444444, \"#bd3786\"], [0.5555555555555556, \"#d8576b\"], [0.6666666666666666, \"#ed7953\"], [0.7777777777777778, \"#fb9f3a\"], [0.8888888888888888, \"#fdca26\"], [1.0, \"#f0f921\"]], \"type\": \"surface\"}], \"table\": [{\"cells\": {\"fill\": {\"color\": \"#EBF0F8\"}, \"line\": {\"color\": \"white\"}}, \"header\": {\"fill\": {\"color\": \"#C8D4E3\"}, \"line\": {\"color\": \"white\"}}, \"type\": \"table\"}]}, \"layout\": {\"annotationdefaults\": {\"arrowcolor\": \"#2a3f5f\", \"arrowhead\": 0, \"arrowwidth\": 1}, \"coloraxis\": {\"colorbar\": {\"outlinewidth\": 0, \"ticks\": \"\"}}, \"colorscale\": {\"diverging\": [[0, \"#8e0152\"], [0.1, \"#c51b7d\"], [0.2, \"#de77ae\"], [0.3, \"#f1b6da\"], [0.4, \"#fde0ef\"], [0.5, \"#f7f7f7\"], [0.6, \"#e6f5d0\"], [0.7, \"#b8e186\"], [0.8, \"#7fbc41\"], [0.9, \"#4d9221\"], [1, \"#276419\"]], \"sequential\": [[0.0, \"#0d0887\"], [0.1111111111111111, \"#46039f\"], [0.2222222222222222, \"#7201a8\"], [0.3333333333333333, \"#9c179e\"], [0.4444444444444444, \"#bd3786\"], [0.5555555555555556, \"#d8576b\"], [0.6666666666666666, \"#ed7953\"], [0.7777777777777778, \"#fb9f3a\"], [0.8888888888888888, \"#fdca26\"], [1.0, \"#f0f921\"]], \"sequentialminus\": [[0.0, \"#0d0887\"], [0.1111111111111111, \"#46039f\"], [0.2222222222222222, \"#7201a8\"], [0.3333333333333333, \"#9c179e\"], [0.4444444444444444, \"#bd3786\"], [0.5555555555555556, \"#d8576b\"], [0.6666666666666666, \"#ed7953\"], [0.7777777777777778, \"#fb9f3a\"], [0.8888888888888888, \"#fdca26\"], [1.0, \"#f0f921\"]]}, \"colorway\": [\"#636efa\", \"#EF553B\", \"#00cc96\", \"#ab63fa\", \"#FFA15A\", \"#19d3f3\", \"#FF6692\", \"#B6E880\", \"#FF97FF\", \"#FECB52\"], \"font\": {\"color\": \"#2a3f5f\"}, \"geo\": {\"bgcolor\": \"white\", \"lakecolor\": \"white\", \"landcolor\": \"#E5ECF6\", \"showlakes\": true, \"showland\": true, \"subunitcolor\": \"white\"}, \"hoverlabel\": {\"align\": \"left\"}, \"hovermode\": \"closest\", \"mapbox\": {\"style\": \"light\"}, \"paper_bgcolor\": \"white\", \"plot_bgcolor\": \"#E5ECF6\", \"polar\": {\"angularaxis\": {\"gridcolor\": \"white\", \"linecolor\": \"white\", \"ticks\": \"\"}, \"bgcolor\": \"#E5ECF6\", \"radialaxis\": {\"gridcolor\": \"white\", \"linecolor\": \"white\", \"ticks\": \"\"}}, \"scene\": {\"xaxis\": {\"backgroundcolor\": \"#E5ECF6\", \"gridcolor\": \"white\", \"gridwidth\": 2, \"linecolor\": \"white\", \"showbackground\": true, \"ticks\": \"\", \"zerolinecolor\": \"white\"}, \"yaxis\": {\"backgroundcolor\": \"#E5ECF6\", \"gridcolor\": \"white\", \"gridwidth\": 2, \"linecolor\": \"white\", \"showbackground\": true, \"ticks\": \"\", \"zerolinecolor\": \"white\"}, \"zaxis\": {\"backgroundcolor\": \"#E5ECF6\", \"gridcolor\": \"white\", \"gridwidth\": 2, \"linecolor\": \"white\", \"showbackground\": true, \"ticks\": \"\", \"zerolinecolor\": \"white\"}}, \"shapedefaults\": {\"line\": {\"color\": \"#2a3f5f\"}}, \"ternary\": {\"aaxis\": {\"gridcolor\": \"white\", \"linecolor\": \"white\", \"ticks\": \"\"}, \"baxis\": {\"gridcolor\": \"white\", \"linecolor\": \"white\", \"ticks\": \"\"}, \"bgcolor\": \"#E5ECF6\", \"caxis\": {\"gridcolor\": \"white\", \"linecolor\": \"white\", \"ticks\": \"\"}}, \"title\": {\"x\": 0.05}, \"xaxis\": {\"automargin\": true, \"gridcolor\": \"white\", \"linecolor\": \"white\", \"ticks\": \"\", \"title\": {\"standoff\": 15}, \"zerolinecolor\": \"white\", \"zerolinewidth\": 2}, \"yaxis\": {\"automargin\": true, \"gridcolor\": \"white\", \"linecolor\": \"white\", \"ticks\": \"\", \"title\": {\"standoff\": 15}, \"zerolinecolor\": \"white\", \"zerolinewidth\": 2}}}, \"title\": {\"font\": {\"color\": \"#4D5663\"}, \"text\": \"Complete Wing Back - Support\"}, \"xaxis\": {\"gridcolor\": \"#E1E5ED\", \"showgrid\": true, \"tickfont\": {\"color\": \"#4D5663\"}, \"title\": {\"font\": {\"color\": \"#4D5663\"}, \"text\": \"Key Passes/90\"}, \"zerolinecolor\": \"#E1E5ED\"}, \"yaxis\": {\"gridcolor\": \"#E1E5ED\", \"showgrid\": true, \"tickfont\": {\"color\": \"#4D5663\"}, \"title\": {\"font\": {\"color\": \"#4D5663\"}, \"text\": \"Cross Completion %\"}, \"zerolinecolor\": \"#E1E5ED\"}},\n",
       "                        {\"showLink\": true, \"linkText\": \"Export to plot.ly\", \"plotlyServerURL\": \"https://plot.ly\", \"responsive\": true}\n",
       "                    ).then(function(){\n",
       "                            \n",
       "var gd = document.getElementById('4f275974-ead7-445c-bf2f-c7feb4ed6938');\n",
       "var x = new MutationObserver(function (mutations, observer) {{\n",
       "        var display = window.getComputedStyle(gd).display;\n",
       "        if (!display || display === 'none') {{\n",
       "            console.log([gd, 'removed!']);\n",
       "            Plotly.purge(gd);\n",
       "            observer.disconnect();\n",
       "        }}\n",
       "}});\n",
       "\n",
       "// Listen for the removal of the full notebook cells\n",
       "var notebookContainer = gd.closest('#notebook-container');\n",
       "if (notebookContainer) {{\n",
       "    x.observe(notebookContainer, {childList: true});\n",
       "}}\n",
       "\n",
       "// Listen for the clearing of the current output cell\n",
       "var outputEl = gd.closest('.output');\n",
       "if (outputEl) {{\n",
       "    x.observe(outputEl, {childList: true});\n",
       "}}\n",
       "\n",
       "                        })\n",
       "                };\n",
       "                });\n",
       "            </script>\n",
       "        </div>"
      ]
     },
     "metadata": {},
     "output_type": "display_data"
    }
   ],
   "source": [
    "df1.iplot(kind='scatter',x='K Ps/90',y='Cr C/A',\n",
    "           mode='markers',text='Name',size=10,\n",
    "          xTitle='Key Passes/90',yTitle='Cross Completion %',title='Complete Wing Back - Support')"
   ]
  },
  {
   "cell_type": "code",
   "execution_count": 10,
   "metadata": {},
   "outputs": [
    {
     "name": "stdout",
     "output_type": "stream",
     "text": [
      "Wing Back - Support\n"
     ]
    },
    {
     "data": {
      "text/html": [
       "<style  type=\"text/css\" >\n",
       "    #T_dff9e5c3_91d2_11ea_bfcc_4ceb428e4071row0_col1 {\n",
       "            background-color:  #abd0e6;\n",
       "            color:  #000000;\n",
       "        }    #T_dff9e5c3_91d2_11ea_bfcc_4ceb428e4071row0_col2 {\n",
       "            background-color:  #abd0e6;\n",
       "            color:  #000000;\n",
       "        }    #T_dff9e5c3_91d2_11ea_bfcc_4ceb428e4071row0_col3 {\n",
       "            background-color:  #89bedc;\n",
       "            color:  #000000;\n",
       "        }    #T_dff9e5c3_91d2_11ea_bfcc_4ceb428e4071row0_col4 {\n",
       "            background-color:  #4a98c9;\n",
       "            color:  #000000;\n",
       "        }    #T_dff9e5c3_91d2_11ea_bfcc_4ceb428e4071row0_col5 {\n",
       "            background-color:  #1b69af;\n",
       "            color:  #f1f1f1;\n",
       "        }    #T_dff9e5c3_91d2_11ea_bfcc_4ceb428e4071row0_col6 {\n",
       "            background-color:  #f7fbff;\n",
       "            color:  #000000;\n",
       "        }    #T_dff9e5c3_91d2_11ea_bfcc_4ceb428e4071row0_col7 {\n",
       "            background-color:  #08306b;\n",
       "            color:  #f1f1f1;\n",
       "        }    #T_dff9e5c3_91d2_11ea_bfcc_4ceb428e4071row0_col8 {\n",
       "            background-color:  #105ba4;\n",
       "            color:  #f1f1f1;\n",
       "        }    #T_dff9e5c3_91d2_11ea_bfcc_4ceb428e4071row0_col9 {\n",
       "            background-color:  #105ba4;\n",
       "            color:  #f1f1f1;\n",
       "        }    #T_dff9e5c3_91d2_11ea_bfcc_4ceb428e4071row0_col10 {\n",
       "            background-color:  #4a98c9;\n",
       "            color:  #000000;\n",
       "        }    #T_dff9e5c3_91d2_11ea_bfcc_4ceb428e4071row0_col11 {\n",
       "            background-color:  #08306b;\n",
       "            color:  #f1f1f1;\n",
       "        }    #T_dff9e5c3_91d2_11ea_bfcc_4ceb428e4071row1_col1 {\n",
       "            background-color:  #105ba4;\n",
       "            color:  #f1f1f1;\n",
       "        }    #T_dff9e5c3_91d2_11ea_bfcc_4ceb428e4071row1_col2 {\n",
       "            background-color:  #105ba4;\n",
       "            color:  #f1f1f1;\n",
       "        }    #T_dff9e5c3_91d2_11ea_bfcc_4ceb428e4071row1_col3 {\n",
       "            background-color:  #89bedc;\n",
       "            color:  #000000;\n",
       "        }    #T_dff9e5c3_91d2_11ea_bfcc_4ceb428e4071row1_col4 {\n",
       "            background-color:  #1764ab;\n",
       "            color:  #f1f1f1;\n",
       "        }    #T_dff9e5c3_91d2_11ea_bfcc_4ceb428e4071row1_col5 {\n",
       "            background-color:  #3787c0;\n",
       "            color:  #000000;\n",
       "        }    #T_dff9e5c3_91d2_11ea_bfcc_4ceb428e4071row1_col6 {\n",
       "            background-color:  #08306b;\n",
       "            color:  #f1f1f1;\n",
       "        }    #T_dff9e5c3_91d2_11ea_bfcc_4ceb428e4071row1_col7 {\n",
       "            background-color:  #f7fbff;\n",
       "            color:  #000000;\n",
       "        }    #T_dff9e5c3_91d2_11ea_bfcc_4ceb428e4071row1_col8 {\n",
       "            background-color:  #abd0e6;\n",
       "            color:  #000000;\n",
       "        }    #T_dff9e5c3_91d2_11ea_bfcc_4ceb428e4071row1_col9 {\n",
       "            background-color:  #105ba4;\n",
       "            color:  #f1f1f1;\n",
       "        }    #T_dff9e5c3_91d2_11ea_bfcc_4ceb428e4071row1_col10 {\n",
       "            background-color:  #94c4df;\n",
       "            color:  #000000;\n",
       "        }    #T_dff9e5c3_91d2_11ea_bfcc_4ceb428e4071row1_col11 {\n",
       "            background-color:  #1764ab;\n",
       "            color:  #f1f1f1;\n",
       "        }    #T_dff9e5c3_91d2_11ea_bfcc_4ceb428e4071row2_col1 {\n",
       "            background-color:  #3787c0;\n",
       "            color:  #000000;\n",
       "        }    #T_dff9e5c3_91d2_11ea_bfcc_4ceb428e4071row2_col2 {\n",
       "            background-color:  #105ba4;\n",
       "            color:  #f1f1f1;\n",
       "        }    #T_dff9e5c3_91d2_11ea_bfcc_4ceb428e4071row2_col3 {\n",
       "            background-color:  #08306b;\n",
       "            color:  #f1f1f1;\n",
       "        }    #T_dff9e5c3_91d2_11ea_bfcc_4ceb428e4071row2_col4 {\n",
       "            background-color:  #f7fbff;\n",
       "            color:  #000000;\n",
       "        }    #T_dff9e5c3_91d2_11ea_bfcc_4ceb428e4071row2_col5 {\n",
       "            background-color:  #abd0e6;\n",
       "            color:  #000000;\n",
       "        }    #T_dff9e5c3_91d2_11ea_bfcc_4ceb428e4071row2_col6 {\n",
       "            background-color:  #bad6eb;\n",
       "            color:  #000000;\n",
       "        }    #T_dff9e5c3_91d2_11ea_bfcc_4ceb428e4071row2_col7 {\n",
       "            background-color:  #2b7bba;\n",
       "            color:  #000000;\n",
       "        }    #T_dff9e5c3_91d2_11ea_bfcc_4ceb428e4071row2_col8 {\n",
       "            background-color:  #105ba4;\n",
       "            color:  #f1f1f1;\n",
       "        }    #T_dff9e5c3_91d2_11ea_bfcc_4ceb428e4071row2_col9 {\n",
       "            background-color:  #08306b;\n",
       "            color:  #f1f1f1;\n",
       "        }    #T_dff9e5c3_91d2_11ea_bfcc_4ceb428e4071row2_col10 {\n",
       "            background-color:  #f7fbff;\n",
       "            color:  #000000;\n",
       "        }    #T_dff9e5c3_91d2_11ea_bfcc_4ceb428e4071row2_col11 {\n",
       "            background-color:  #4a98c9;\n",
       "            color:  #000000;\n",
       "        }    #T_dff9e5c3_91d2_11ea_bfcc_4ceb428e4071row3_col1 {\n",
       "            background-color:  #abd0e6;\n",
       "            color:  #000000;\n",
       "        }    #T_dff9e5c3_91d2_11ea_bfcc_4ceb428e4071row3_col2 {\n",
       "            background-color:  #d6e6f4;\n",
       "            color:  #000000;\n",
       "        }    #T_dff9e5c3_91d2_11ea_bfcc_4ceb428e4071row3_col3 {\n",
       "            background-color:  #0b559f;\n",
       "            color:  #f1f1f1;\n",
       "        }    #T_dff9e5c3_91d2_11ea_bfcc_4ceb428e4071row3_col4 {\n",
       "            background-color:  #f7fbff;\n",
       "            color:  #000000;\n",
       "        }    #T_dff9e5c3_91d2_11ea_bfcc_4ceb428e4071row3_col5 {\n",
       "            background-color:  #f7fbff;\n",
       "            color:  #000000;\n",
       "        }    #T_dff9e5c3_91d2_11ea_bfcc_4ceb428e4071row3_col6 {\n",
       "            background-color:  #539ecd;\n",
       "            color:  #000000;\n",
       "        }    #T_dff9e5c3_91d2_11ea_bfcc_4ceb428e4071row3_col7 {\n",
       "            background-color:  #08306b;\n",
       "            color:  #f1f1f1;\n",
       "        }    #T_dff9e5c3_91d2_11ea_bfcc_4ceb428e4071row3_col8 {\n",
       "            background-color:  #6aaed6;\n",
       "            color:  #000000;\n",
       "        }    #T_dff9e5c3_91d2_11ea_bfcc_4ceb428e4071row3_col9 {\n",
       "            background-color:  #08306b;\n",
       "            color:  #f1f1f1;\n",
       "        }    #T_dff9e5c3_91d2_11ea_bfcc_4ceb428e4071row3_col10 {\n",
       "            background-color:  #08306b;\n",
       "            color:  #f1f1f1;\n",
       "        }    #T_dff9e5c3_91d2_11ea_bfcc_4ceb428e4071row3_col11 {\n",
       "            background-color:  #94c4df;\n",
       "            color:  #000000;\n",
       "        }    #T_dff9e5c3_91d2_11ea_bfcc_4ceb428e4071row4_col1 {\n",
       "            background-color:  #105ba4;\n",
       "            color:  #f1f1f1;\n",
       "        }    #T_dff9e5c3_91d2_11ea_bfcc_4ceb428e4071row4_col2 {\n",
       "            background-color:  #d6e6f4;\n",
       "            color:  #000000;\n",
       "        }    #T_dff9e5c3_91d2_11ea_bfcc_4ceb428e4071row4_col3 {\n",
       "            background-color:  #f7fbff;\n",
       "            color:  #000000;\n",
       "        }    #T_dff9e5c3_91d2_11ea_bfcc_4ceb428e4071row4_col4 {\n",
       "            background-color:  #08306b;\n",
       "            color:  #f1f1f1;\n",
       "        }    #T_dff9e5c3_91d2_11ea_bfcc_4ceb428e4071row4_col5 {\n",
       "            background-color:  #08306b;\n",
       "            color:  #f1f1f1;\n",
       "        }    #T_dff9e5c3_91d2_11ea_bfcc_4ceb428e4071row4_col6 {\n",
       "            background-color:  #dbe9f6;\n",
       "            color:  #000000;\n",
       "        }    #T_dff9e5c3_91d2_11ea_bfcc_4ceb428e4071row4_col7 {\n",
       "            background-color:  #08306b;\n",
       "            color:  #f1f1f1;\n",
       "        }    #T_dff9e5c3_91d2_11ea_bfcc_4ceb428e4071row4_col8 {\n",
       "            background-color:  #08306b;\n",
       "            color:  #f1f1f1;\n",
       "        }    #T_dff9e5c3_91d2_11ea_bfcc_4ceb428e4071row4_col9 {\n",
       "            background-color:  #f7fbff;\n",
       "            color:  #000000;\n",
       "        }    #T_dff9e5c3_91d2_11ea_bfcc_4ceb428e4071row4_col10 {\n",
       "            background-color:  #94c4df;\n",
       "            color:  #000000;\n",
       "        }    #T_dff9e5c3_91d2_11ea_bfcc_4ceb428e4071row4_col11 {\n",
       "            background-color:  #d0e1f2;\n",
       "            color:  #000000;\n",
       "        }    #T_dff9e5c3_91d2_11ea_bfcc_4ceb428e4071row5_col1 {\n",
       "            background-color:  #3787c0;\n",
       "            color:  #000000;\n",
       "        }    #T_dff9e5c3_91d2_11ea_bfcc_4ceb428e4071row5_col2 {\n",
       "            background-color:  #f7fbff;\n",
       "            color:  #000000;\n",
       "        }    #T_dff9e5c3_91d2_11ea_bfcc_4ceb428e4071row5_col3 {\n",
       "            background-color:  #dbe9f6;\n",
       "            color:  #000000;\n",
       "        }    #T_dff9e5c3_91d2_11ea_bfcc_4ceb428e4071row5_col4 {\n",
       "            background-color:  #1764ab;\n",
       "            color:  #f1f1f1;\n",
       "        }    #T_dff9e5c3_91d2_11ea_bfcc_4ceb428e4071row5_col5 {\n",
       "            background-color:  #abd0e6;\n",
       "            color:  #000000;\n",
       "        }    #T_dff9e5c3_91d2_11ea_bfcc_4ceb428e4071row5_col6 {\n",
       "            background-color:  #2b7bba;\n",
       "            color:  #000000;\n",
       "        }    #T_dff9e5c3_91d2_11ea_bfcc_4ceb428e4071row5_col7 {\n",
       "            background-color:  #08306b;\n",
       "            color:  #f1f1f1;\n",
       "        }    #T_dff9e5c3_91d2_11ea_bfcc_4ceb428e4071row5_col8 {\n",
       "            background-color:  #105ba4;\n",
       "            color:  #f1f1f1;\n",
       "        }    #T_dff9e5c3_91d2_11ea_bfcc_4ceb428e4071row5_col9 {\n",
       "            background-color:  #105ba4;\n",
       "            color:  #f1f1f1;\n",
       "        }    #T_dff9e5c3_91d2_11ea_bfcc_4ceb428e4071row5_col10 {\n",
       "            background-color:  #d0e1f2;\n",
       "            color:  #000000;\n",
       "        }    #T_dff9e5c3_91d2_11ea_bfcc_4ceb428e4071row5_col11 {\n",
       "            background-color:  #d0e1f2;\n",
       "            color:  #000000;\n",
       "        }    #T_dff9e5c3_91d2_11ea_bfcc_4ceb428e4071row6_col1 {\n",
       "            background-color:  #08306b;\n",
       "            color:  #f1f1f1;\n",
       "        }    #T_dff9e5c3_91d2_11ea_bfcc_4ceb428e4071row6_col2 {\n",
       "            background-color:  #6aaed6;\n",
       "            color:  #000000;\n",
       "        }    #T_dff9e5c3_91d2_11ea_bfcc_4ceb428e4071row6_col3 {\n",
       "            background-color:  #08306b;\n",
       "            color:  #f1f1f1;\n",
       "        }    #T_dff9e5c3_91d2_11ea_bfcc_4ceb428e4071row6_col4 {\n",
       "            background-color:  #d0e1f2;\n",
       "            color:  #000000;\n",
       "        }    #T_dff9e5c3_91d2_11ea_bfcc_4ceb428e4071row6_col5 {\n",
       "            background-color:  #e1edf8;\n",
       "            color:  #000000;\n",
       "        }    #T_dff9e5c3_91d2_11ea_bfcc_4ceb428e4071row6_col6 {\n",
       "            background-color:  #0b559f;\n",
       "            color:  #f1f1f1;\n",
       "        }    #T_dff9e5c3_91d2_11ea_bfcc_4ceb428e4071row6_col7 {\n",
       "            background-color:  #dbe9f6;\n",
       "            color:  #000000;\n",
       "        }    #T_dff9e5c3_91d2_11ea_bfcc_4ceb428e4071row6_col8 {\n",
       "            background-color:  #abd0e6;\n",
       "            color:  #000000;\n",
       "        }    #T_dff9e5c3_91d2_11ea_bfcc_4ceb428e4071row6_col9 {\n",
       "            background-color:  #105ba4;\n",
       "            color:  #f1f1f1;\n",
       "        }    #T_dff9e5c3_91d2_11ea_bfcc_4ceb428e4071row6_col10 {\n",
       "            background-color:  #1764ab;\n",
       "            color:  #f1f1f1;\n",
       "        }    #T_dff9e5c3_91d2_11ea_bfcc_4ceb428e4071row6_col11 {\n",
       "            background-color:  #f7fbff;\n",
       "            color:  #000000;\n",
       "        }    #T_dff9e5c3_91d2_11ea_bfcc_4ceb428e4071row7_col1 {\n",
       "            background-color:  #abd0e6;\n",
       "            color:  #000000;\n",
       "        }    #T_dff9e5c3_91d2_11ea_bfcc_4ceb428e4071row7_col2 {\n",
       "            background-color:  #d6e6f4;\n",
       "            color:  #000000;\n",
       "        }    #T_dff9e5c3_91d2_11ea_bfcc_4ceb428e4071row7_col3 {\n",
       "            background-color:  #2b7bba;\n",
       "            color:  #000000;\n",
       "        }    #T_dff9e5c3_91d2_11ea_bfcc_4ceb428e4071row7_col4 {\n",
       "            background-color:  #f7fbff;\n",
       "            color:  #000000;\n",
       "        }    #T_dff9e5c3_91d2_11ea_bfcc_4ceb428e4071row7_col5 {\n",
       "            background-color:  #e1edf8;\n",
       "            color:  #000000;\n",
       "        }    #T_dff9e5c3_91d2_11ea_bfcc_4ceb428e4071row7_col6 {\n",
       "            background-color:  #08306b;\n",
       "            color:  #f1f1f1;\n",
       "        }    #T_dff9e5c3_91d2_11ea_bfcc_4ceb428e4071row7_col7 {\n",
       "            background-color:  #08306b;\n",
       "            color:  #f1f1f1;\n",
       "        }    #T_dff9e5c3_91d2_11ea_bfcc_4ceb428e4071row7_col8 {\n",
       "            background-color:  #3787c0;\n",
       "            color:  #000000;\n",
       "        }    #T_dff9e5c3_91d2_11ea_bfcc_4ceb428e4071row7_col9 {\n",
       "            background-color:  #3787c0;\n",
       "            color:  #000000;\n",
       "        }    #T_dff9e5c3_91d2_11ea_bfcc_4ceb428e4071row7_col10 {\n",
       "            background-color:  #d0e1f2;\n",
       "            color:  #000000;\n",
       "        }    #T_dff9e5c3_91d2_11ea_bfcc_4ceb428e4071row7_col11 {\n",
       "            background-color:  #f7fbff;\n",
       "            color:  #000000;\n",
       "        }    #T_dff9e5c3_91d2_11ea_bfcc_4ceb428e4071row8_col1 {\n",
       "            background-color:  #08306b;\n",
       "            color:  #f1f1f1;\n",
       "        }    #T_dff9e5c3_91d2_11ea_bfcc_4ceb428e4071row8_col2 {\n",
       "            background-color:  #3787c0;\n",
       "            color:  #000000;\n",
       "        }    #T_dff9e5c3_91d2_11ea_bfcc_4ceb428e4071row8_col3 {\n",
       "            background-color:  #89bedc;\n",
       "            color:  #000000;\n",
       "        }    #T_dff9e5c3_91d2_11ea_bfcc_4ceb428e4071row8_col4 {\n",
       "            background-color:  #4a98c9;\n",
       "            color:  #000000;\n",
       "        }    #T_dff9e5c3_91d2_11ea_bfcc_4ceb428e4071row8_col5 {\n",
       "            background-color:  #3787c0;\n",
       "            color:  #000000;\n",
       "        }    #T_dff9e5c3_91d2_11ea_bfcc_4ceb428e4071row8_col6 {\n",
       "            background-color:  #2b7bba;\n",
       "            color:  #000000;\n",
       "        }    #T_dff9e5c3_91d2_11ea_bfcc_4ceb428e4071row8_col7 {\n",
       "            background-color:  #2b7bba;\n",
       "            color:  #000000;\n",
       "        }    #T_dff9e5c3_91d2_11ea_bfcc_4ceb428e4071row8_col8 {\n",
       "            background-color:  #f7fbff;\n",
       "            color:  #000000;\n",
       "        }    #T_dff9e5c3_91d2_11ea_bfcc_4ceb428e4071row8_col9 {\n",
       "            background-color:  #3787c0;\n",
       "            color:  #000000;\n",
       "        }    #T_dff9e5c3_91d2_11ea_bfcc_4ceb428e4071row8_col10 {\n",
       "            background-color:  #f7fbff;\n",
       "            color:  #000000;\n",
       "        }    #T_dff9e5c3_91d2_11ea_bfcc_4ceb428e4071row8_col11 {\n",
       "            background-color:  #f7fbff;\n",
       "            color:  #000000;\n",
       "        }    #T_dff9e5c3_91d2_11ea_bfcc_4ceb428e4071row9_col1 {\n",
       "            background-color:  #f7fbff;\n",
       "            color:  #000000;\n",
       "        }    #T_dff9e5c3_91d2_11ea_bfcc_4ceb428e4071row9_col2 {\n",
       "            background-color:  #08306b;\n",
       "            color:  #f1f1f1;\n",
       "        }    #T_dff9e5c3_91d2_11ea_bfcc_4ceb428e4071row9_col3 {\n",
       "            background-color:  #dbe9f6;\n",
       "            color:  #000000;\n",
       "        }    #T_dff9e5c3_91d2_11ea_bfcc_4ceb428e4071row9_col4 {\n",
       "            background-color:  #d0e1f2;\n",
       "            color:  #000000;\n",
       "        }    #T_dff9e5c3_91d2_11ea_bfcc_4ceb428e4071row9_col5 {\n",
       "            background-color:  #58a1cf;\n",
       "            color:  #000000;\n",
       "        }    #T_dff9e5c3_91d2_11ea_bfcc_4ceb428e4071row9_col6 {\n",
       "            background-color:  #0b559f;\n",
       "            color:  #f1f1f1;\n",
       "        }    #T_dff9e5c3_91d2_11ea_bfcc_4ceb428e4071row9_col7 {\n",
       "            background-color:  #f7fbff;\n",
       "            color:  #000000;\n",
       "        }    #T_dff9e5c3_91d2_11ea_bfcc_4ceb428e4071row9_col8 {\n",
       "            background-color:  #3787c0;\n",
       "            color:  #000000;\n",
       "        }    #T_dff9e5c3_91d2_11ea_bfcc_4ceb428e4071row9_col9 {\n",
       "            background-color:  #105ba4;\n",
       "            color:  #f1f1f1;\n",
       "        }    #T_dff9e5c3_91d2_11ea_bfcc_4ceb428e4071row9_col10 {\n",
       "            background-color:  #94c4df;\n",
       "            color:  #000000;\n",
       "        }    #T_dff9e5c3_91d2_11ea_bfcc_4ceb428e4071row9_col11 {\n",
       "            background-color:  #f7fbff;\n",
       "            color:  #000000;\n",
       "        }</style><table id=\"T_dff9e5c3_91d2_11ea_bfcc_4ceb428e4071\" ><thead>    <tr>        <th class=\"col_heading level0 col0\" >Name</th>        <th class=\"col_heading level0 col1\" >Age</th>        <th class=\"col_heading level0 col2\" >Cro</th>        <th class=\"col_heading level0 col3\" >Dri</th>        <th class=\"col_heading level0 col4\" >Mar</th>        <th class=\"col_heading level0 col5\" >Tck</th>        <th class=\"col_heading level0 col6\" >OtB</th>        <th class=\"col_heading level0 col7\" >Tea</th>        <th class=\"col_heading level0 col8\" >Wor</th>        <th class=\"col_heading level0 col9\" >Acc</th>        <th class=\"col_heading level0 col10\" >Sta</th>        <th class=\"col_heading level0 col11\" >wb_score</th>    </tr></thead><tbody>\n",
       "                <tr>\n",
       "                                <td id=\"T_dff9e5c3_91d2_11ea_bfcc_4ceb428e4071row0_col0\" class=\"data row0 col0\" >Paul Mari</td>\n",
       "                        <td id=\"T_dff9e5c3_91d2_11ea_bfcc_4ceb428e4071row0_col1\" class=\"data row0 col1\" >                  19</td>\n",
       "                        <td id=\"T_dff9e5c3_91d2_11ea_bfcc_4ceb428e4071row0_col2\" class=\"data row0 col2\" >10</td>\n",
       "                        <td id=\"T_dff9e5c3_91d2_11ea_bfcc_4ceb428e4071row0_col3\" class=\"data row0 col3\" >11</td>\n",
       "                        <td id=\"T_dff9e5c3_91d2_11ea_bfcc_4ceb428e4071row0_col4\" class=\"data row0 col4\" >11</td>\n",
       "                        <td id=\"T_dff9e5c3_91d2_11ea_bfcc_4ceb428e4071row0_col5\" class=\"data row0 col5\" >13</td>\n",
       "                        <td id=\"T_dff9e5c3_91d2_11ea_bfcc_4ceb428e4071row0_col6\" class=\"data row0 col6\" >6</td>\n",
       "                        <td id=\"T_dff9e5c3_91d2_11ea_bfcc_4ceb428e4071row0_col7\" class=\"data row0 col7\" >18</td>\n",
       "                        <td id=\"T_dff9e5c3_91d2_11ea_bfcc_4ceb428e4071row0_col8\" class=\"data row0 col8\" >16</td>\n",
       "                        <td id=\"T_dff9e5c3_91d2_11ea_bfcc_4ceb428e4071row0_col9\" class=\"data row0 col9\" >13</td>\n",
       "                        <td id=\"T_dff9e5c3_91d2_11ea_bfcc_4ceb428e4071row0_col10\" class=\"data row0 col10\" >14</td>\n",
       "                        <td id=\"T_dff9e5c3_91d2_11ea_bfcc_4ceb428e4071row0_col11\" class=\"data row0 col11\" >112</td>\n",
       "            </tr>\n",
       "            <tr>\n",
       "                                <td id=\"T_dff9e5c3_91d2_11ea_bfcc_4ceb428e4071row1_col0\" class=\"data row1 col0\" >Mitchel Bakker</td>\n",
       "                        <td id=\"T_dff9e5c3_91d2_11ea_bfcc_4ceb428e4071row1_col1\" class=\"data row1 col1\" >                  22</td>\n",
       "                        <td id=\"T_dff9e5c3_91d2_11ea_bfcc_4ceb428e4071row1_col2\" class=\"data row1 col2\" >13</td>\n",
       "                        <td id=\"T_dff9e5c3_91d2_11ea_bfcc_4ceb428e4071row1_col3\" class=\"data row1 col3\" >11</td>\n",
       "                        <td id=\"T_dff9e5c3_91d2_11ea_bfcc_4ceb428e4071row1_col4\" class=\"data row1 col4\" >12</td>\n",
       "                        <td id=\"T_dff9e5c3_91d2_11ea_bfcc_4ceb428e4071row1_col5\" class=\"data row1 col5\" >12</td>\n",
       "                        <td id=\"T_dff9e5c3_91d2_11ea_bfcc_4ceb428e4071row1_col6\" class=\"data row1 col6\" >13</td>\n",
       "                        <td id=\"T_dff9e5c3_91d2_11ea_bfcc_4ceb428e4071row1_col7\" class=\"data row1 col7\" >11</td>\n",
       "                        <td id=\"T_dff9e5c3_91d2_11ea_bfcc_4ceb428e4071row1_col8\" class=\"data row1 col8\" >13</td>\n",
       "                        <td id=\"T_dff9e5c3_91d2_11ea_bfcc_4ceb428e4071row1_col9\" class=\"data row1 col9\" >13</td>\n",
       "                        <td id=\"T_dff9e5c3_91d2_11ea_bfcc_4ceb428e4071row1_col10\" class=\"data row1 col10\" >13</td>\n",
       "                        <td id=\"T_dff9e5c3_91d2_11ea_bfcc_4ceb428e4071row1_col11\" class=\"data row1 col11\" >111</td>\n",
       "            </tr>\n",
       "            <tr>\n",
       "                                <td id=\"T_dff9e5c3_91d2_11ea_bfcc_4ceb428e4071row2_col0\" class=\"data row2 col0\" >Jakov Katusa</td>\n",
       "                        <td id=\"T_dff9e5c3_91d2_11ea_bfcc_4ceb428e4071row2_col1\" class=\"data row2 col1\" >                  21</td>\n",
       "                        <td id=\"T_dff9e5c3_91d2_11ea_bfcc_4ceb428e4071row2_col2\" class=\"data row2 col2\" >13</td>\n",
       "                        <td id=\"T_dff9e5c3_91d2_11ea_bfcc_4ceb428e4071row2_col3\" class=\"data row2 col3\" >15</td>\n",
       "                        <td id=\"T_dff9e5c3_91d2_11ea_bfcc_4ceb428e4071row2_col4\" class=\"data row2 col4\" >8</td>\n",
       "                        <td id=\"T_dff9e5c3_91d2_11ea_bfcc_4ceb428e4071row2_col5\" class=\"data row2 col5\" >9</td>\n",
       "                        <td id=\"T_dff9e5c3_91d2_11ea_bfcc_4ceb428e4071row2_col6\" class=\"data row2 col6\" >8</td>\n",
       "                        <td id=\"T_dff9e5c3_91d2_11ea_bfcc_4ceb428e4071row2_col7\" class=\"data row2 col7\" >16</td>\n",
       "                        <td id=\"T_dff9e5c3_91d2_11ea_bfcc_4ceb428e4071row2_col8\" class=\"data row2 col8\" >16</td>\n",
       "                        <td id=\"T_dff9e5c3_91d2_11ea_bfcc_4ceb428e4071row2_col9\" class=\"data row2 col9\" >14</td>\n",
       "                        <td id=\"T_dff9e5c3_91d2_11ea_bfcc_4ceb428e4071row2_col10\" class=\"data row2 col10\" >11</td>\n",
       "                        <td id=\"T_dff9e5c3_91d2_11ea_bfcc_4ceb428e4071row2_col11\" class=\"data row2 col11\" >110</td>\n",
       "            </tr>\n",
       "            <tr>\n",
       "                                <td id=\"T_dff9e5c3_91d2_11ea_bfcc_4ceb428e4071row3_col0\" class=\"data row3 col0\" >Uros Mirkovic</td>\n",
       "                        <td id=\"T_dff9e5c3_91d2_11ea_bfcc_4ceb428e4071row3_col1\" class=\"data row3 col1\" >                  19</td>\n",
       "                        <td id=\"T_dff9e5c3_91d2_11ea_bfcc_4ceb428e4071row3_col2\" class=\"data row3 col2\" >9</td>\n",
       "                        <td id=\"T_dff9e5c3_91d2_11ea_bfcc_4ceb428e4071row3_col3\" class=\"data row3 col3\" >14</td>\n",
       "                        <td id=\"T_dff9e5c3_91d2_11ea_bfcc_4ceb428e4071row3_col4\" class=\"data row3 col4\" >8</td>\n",
       "                        <td id=\"T_dff9e5c3_91d2_11ea_bfcc_4ceb428e4071row3_col5\" class=\"data row3 col5\" >6</td>\n",
       "                        <td id=\"T_dff9e5c3_91d2_11ea_bfcc_4ceb428e4071row3_col6\" class=\"data row3 col6\" >10</td>\n",
       "                        <td id=\"T_dff9e5c3_91d2_11ea_bfcc_4ceb428e4071row3_col7\" class=\"data row3 col7\" >18</td>\n",
       "                        <td id=\"T_dff9e5c3_91d2_11ea_bfcc_4ceb428e4071row3_col8\" class=\"data row3 col8\" >14</td>\n",
       "                        <td id=\"T_dff9e5c3_91d2_11ea_bfcc_4ceb428e4071row3_col9\" class=\"data row3 col9\" >14</td>\n",
       "                        <td id=\"T_dff9e5c3_91d2_11ea_bfcc_4ceb428e4071row3_col10\" class=\"data row3 col10\" >16</td>\n",
       "                        <td id=\"T_dff9e5c3_91d2_11ea_bfcc_4ceb428e4071row3_col11\" class=\"data row3 col11\" >109</td>\n",
       "            </tr>\n",
       "            <tr>\n",
       "                                <td id=\"T_dff9e5c3_91d2_11ea_bfcc_4ceb428e4071row4_col0\" class=\"data row4 col0\" >Michal Ozga</td>\n",
       "                        <td id=\"T_dff9e5c3_91d2_11ea_bfcc_4ceb428e4071row4_col1\" class=\"data row4 col1\" >                  22</td>\n",
       "                        <td id=\"T_dff9e5c3_91d2_11ea_bfcc_4ceb428e4071row4_col2\" class=\"data row4 col2\" >9</td>\n",
       "                        <td id=\"T_dff9e5c3_91d2_11ea_bfcc_4ceb428e4071row4_col3\" class=\"data row4 col3\" >8</td>\n",
       "                        <td id=\"T_dff9e5c3_91d2_11ea_bfcc_4ceb428e4071row4_col4\" class=\"data row4 col4\" >13</td>\n",
       "                        <td id=\"T_dff9e5c3_91d2_11ea_bfcc_4ceb428e4071row4_col5\" class=\"data row4 col5\" >15</td>\n",
       "                        <td id=\"T_dff9e5c3_91d2_11ea_bfcc_4ceb428e4071row4_col6\" class=\"data row4 col6\" >7</td>\n",
       "                        <td id=\"T_dff9e5c3_91d2_11ea_bfcc_4ceb428e4071row4_col7\" class=\"data row4 col7\" >18</td>\n",
       "                        <td id=\"T_dff9e5c3_91d2_11ea_bfcc_4ceb428e4071row4_col8\" class=\"data row4 col8\" >17</td>\n",
       "                        <td id=\"T_dff9e5c3_91d2_11ea_bfcc_4ceb428e4071row4_col9\" class=\"data row4 col9\" >8</td>\n",
       "                        <td id=\"T_dff9e5c3_91d2_11ea_bfcc_4ceb428e4071row4_col10\" class=\"data row4 col10\" >13</td>\n",
       "                        <td id=\"T_dff9e5c3_91d2_11ea_bfcc_4ceb428e4071row4_col11\" class=\"data row4 col11\" >108</td>\n",
       "            </tr>\n",
       "            <tr>\n",
       "                                <td id=\"T_dff9e5c3_91d2_11ea_bfcc_4ceb428e4071row5_col0\" class=\"data row5 col0\" >Lukas SchÃ¶fl</td>\n",
       "                        <td id=\"T_dff9e5c3_91d2_11ea_bfcc_4ceb428e4071row5_col1\" class=\"data row5 col1\" >                  21</td>\n",
       "                        <td id=\"T_dff9e5c3_91d2_11ea_bfcc_4ceb428e4071row5_col2\" class=\"data row5 col2\" >8</td>\n",
       "                        <td id=\"T_dff9e5c3_91d2_11ea_bfcc_4ceb428e4071row5_col3\" class=\"data row5 col3\" >9</td>\n",
       "                        <td id=\"T_dff9e5c3_91d2_11ea_bfcc_4ceb428e4071row5_col4\" class=\"data row5 col4\" >12</td>\n",
       "                        <td id=\"T_dff9e5c3_91d2_11ea_bfcc_4ceb428e4071row5_col5\" class=\"data row5 col5\" >9</td>\n",
       "                        <td id=\"T_dff9e5c3_91d2_11ea_bfcc_4ceb428e4071row5_col6\" class=\"data row5 col6\" >11</td>\n",
       "                        <td id=\"T_dff9e5c3_91d2_11ea_bfcc_4ceb428e4071row5_col7\" class=\"data row5 col7\" >18</td>\n",
       "                        <td id=\"T_dff9e5c3_91d2_11ea_bfcc_4ceb428e4071row5_col8\" class=\"data row5 col8\" >16</td>\n",
       "                        <td id=\"T_dff9e5c3_91d2_11ea_bfcc_4ceb428e4071row5_col9\" class=\"data row5 col9\" >13</td>\n",
       "                        <td id=\"T_dff9e5c3_91d2_11ea_bfcc_4ceb428e4071row5_col10\" class=\"data row5 col10\" >12</td>\n",
       "                        <td id=\"T_dff9e5c3_91d2_11ea_bfcc_4ceb428e4071row5_col11\" class=\"data row5 col11\" >108</td>\n",
       "            </tr>\n",
       "            <tr>\n",
       "                                <td id=\"T_dff9e5c3_91d2_11ea_bfcc_4ceb428e4071row6_col0\" class=\"data row6 col0\" >JesÃºs Vargas</td>\n",
       "                        <td id=\"T_dff9e5c3_91d2_11ea_bfcc_4ceb428e4071row6_col1\" class=\"data row6 col1\" >                  23</td>\n",
       "                        <td id=\"T_dff9e5c3_91d2_11ea_bfcc_4ceb428e4071row6_col2\" class=\"data row6 col2\" >11</td>\n",
       "                        <td id=\"T_dff9e5c3_91d2_11ea_bfcc_4ceb428e4071row6_col3\" class=\"data row6 col3\" >15</td>\n",
       "                        <td id=\"T_dff9e5c3_91d2_11ea_bfcc_4ceb428e4071row6_col4\" class=\"data row6 col4\" >9</td>\n",
       "                        <td id=\"T_dff9e5c3_91d2_11ea_bfcc_4ceb428e4071row6_col5\" class=\"data row6 col5\" >7</td>\n",
       "                        <td id=\"T_dff9e5c3_91d2_11ea_bfcc_4ceb428e4071row6_col6\" class=\"data row6 col6\" >12</td>\n",
       "                        <td id=\"T_dff9e5c3_91d2_11ea_bfcc_4ceb428e4071row6_col7\" class=\"data row6 col7\" >12</td>\n",
       "                        <td id=\"T_dff9e5c3_91d2_11ea_bfcc_4ceb428e4071row6_col8\" class=\"data row6 col8\" >13</td>\n",
       "                        <td id=\"T_dff9e5c3_91d2_11ea_bfcc_4ceb428e4071row6_col9\" class=\"data row6 col9\" >13</td>\n",
       "                        <td id=\"T_dff9e5c3_91d2_11ea_bfcc_4ceb428e4071row6_col10\" class=\"data row6 col10\" >15</td>\n",
       "                        <td id=\"T_dff9e5c3_91d2_11ea_bfcc_4ceb428e4071row6_col11\" class=\"data row6 col11\" >107</td>\n",
       "            </tr>\n",
       "            <tr>\n",
       "                                <td id=\"T_dff9e5c3_91d2_11ea_bfcc_4ceb428e4071row7_col0\" class=\"data row7 col0\" >Adrian Å¢apu</td>\n",
       "                        <td id=\"T_dff9e5c3_91d2_11ea_bfcc_4ceb428e4071row7_col1\" class=\"data row7 col1\" >                  19</td>\n",
       "                        <td id=\"T_dff9e5c3_91d2_11ea_bfcc_4ceb428e4071row7_col2\" class=\"data row7 col2\" >9</td>\n",
       "                        <td id=\"T_dff9e5c3_91d2_11ea_bfcc_4ceb428e4071row7_col3\" class=\"data row7 col3\" >13</td>\n",
       "                        <td id=\"T_dff9e5c3_91d2_11ea_bfcc_4ceb428e4071row7_col4\" class=\"data row7 col4\" >8</td>\n",
       "                        <td id=\"T_dff9e5c3_91d2_11ea_bfcc_4ceb428e4071row7_col5\" class=\"data row7 col5\" >7</td>\n",
       "                        <td id=\"T_dff9e5c3_91d2_11ea_bfcc_4ceb428e4071row7_col6\" class=\"data row7 col6\" >13</td>\n",
       "                        <td id=\"T_dff9e5c3_91d2_11ea_bfcc_4ceb428e4071row7_col7\" class=\"data row7 col7\" >18</td>\n",
       "                        <td id=\"T_dff9e5c3_91d2_11ea_bfcc_4ceb428e4071row7_col8\" class=\"data row7 col8\" >15</td>\n",
       "                        <td id=\"T_dff9e5c3_91d2_11ea_bfcc_4ceb428e4071row7_col9\" class=\"data row7 col9\" >12</td>\n",
       "                        <td id=\"T_dff9e5c3_91d2_11ea_bfcc_4ceb428e4071row7_col10\" class=\"data row7 col10\" >12</td>\n",
       "                        <td id=\"T_dff9e5c3_91d2_11ea_bfcc_4ceb428e4071row7_col11\" class=\"data row7 col11\" >107</td>\n",
       "            </tr>\n",
       "            <tr>\n",
       "                                <td id=\"T_dff9e5c3_91d2_11ea_bfcc_4ceb428e4071row8_col0\" class=\"data row8 col0\" >Stefan Velickovic</td>\n",
       "                        <td id=\"T_dff9e5c3_91d2_11ea_bfcc_4ceb428e4071row8_col1\" class=\"data row8 col1\" >                  23</td>\n",
       "                        <td id=\"T_dff9e5c3_91d2_11ea_bfcc_4ceb428e4071row8_col2\" class=\"data row8 col2\" >12</td>\n",
       "                        <td id=\"T_dff9e5c3_91d2_11ea_bfcc_4ceb428e4071row8_col3\" class=\"data row8 col3\" >11</td>\n",
       "                        <td id=\"T_dff9e5c3_91d2_11ea_bfcc_4ceb428e4071row8_col4\" class=\"data row8 col4\" >11</td>\n",
       "                        <td id=\"T_dff9e5c3_91d2_11ea_bfcc_4ceb428e4071row8_col5\" class=\"data row8 col5\" >12</td>\n",
       "                        <td id=\"T_dff9e5c3_91d2_11ea_bfcc_4ceb428e4071row8_col6\" class=\"data row8 col6\" >11</td>\n",
       "                        <td id=\"T_dff9e5c3_91d2_11ea_bfcc_4ceb428e4071row8_col7\" class=\"data row8 col7\" >16</td>\n",
       "                        <td id=\"T_dff9e5c3_91d2_11ea_bfcc_4ceb428e4071row8_col8\" class=\"data row8 col8\" >11</td>\n",
       "                        <td id=\"T_dff9e5c3_91d2_11ea_bfcc_4ceb428e4071row8_col9\" class=\"data row8 col9\" >12</td>\n",
       "                        <td id=\"T_dff9e5c3_91d2_11ea_bfcc_4ceb428e4071row8_col10\" class=\"data row8 col10\" >11</td>\n",
       "                        <td id=\"T_dff9e5c3_91d2_11ea_bfcc_4ceb428e4071row8_col11\" class=\"data row8 col11\" >107</td>\n",
       "            </tr>\n",
       "            <tr>\n",
       "                                <td id=\"T_dff9e5c3_91d2_11ea_bfcc_4ceb428e4071row9_col0\" class=\"data row9 col0\" >Helderlan</td>\n",
       "                        <td id=\"T_dff9e5c3_91d2_11ea_bfcc_4ceb428e4071row9_col1\" class=\"data row9 col1\" >                  17</td>\n",
       "                        <td id=\"T_dff9e5c3_91d2_11ea_bfcc_4ceb428e4071row9_col2\" class=\"data row9 col2\" >14</td>\n",
       "                        <td id=\"T_dff9e5c3_91d2_11ea_bfcc_4ceb428e4071row9_col3\" class=\"data row9 col3\" >9</td>\n",
       "                        <td id=\"T_dff9e5c3_91d2_11ea_bfcc_4ceb428e4071row9_col4\" class=\"data row9 col4\" >9</td>\n",
       "                        <td id=\"T_dff9e5c3_91d2_11ea_bfcc_4ceb428e4071row9_col5\" class=\"data row9 col5\" >11</td>\n",
       "                        <td id=\"T_dff9e5c3_91d2_11ea_bfcc_4ceb428e4071row9_col6\" class=\"data row9 col6\" >12</td>\n",
       "                        <td id=\"T_dff9e5c3_91d2_11ea_bfcc_4ceb428e4071row9_col7\" class=\"data row9 col7\" >11</td>\n",
       "                        <td id=\"T_dff9e5c3_91d2_11ea_bfcc_4ceb428e4071row9_col8\" class=\"data row9 col8\" >15</td>\n",
       "                        <td id=\"T_dff9e5c3_91d2_11ea_bfcc_4ceb428e4071row9_col9\" class=\"data row9 col9\" >13</td>\n",
       "                        <td id=\"T_dff9e5c3_91d2_11ea_bfcc_4ceb428e4071row9_col10\" class=\"data row9 col10\" >13</td>\n",
       "                        <td id=\"T_dff9e5c3_91d2_11ea_bfcc_4ceb428e4071row9_col11\" class=\"data row9 col11\" >107</td>\n",
       "            </tr>\n",
       "    </tbody></table>"
      ],
      "text/plain": [
       "<pandas.io.formats.style.Styler at 0xc834358>"
      ]
     },
     "execution_count": 10,
     "metadata": {},
     "output_type": "execute_result"
    }
   ],
   "source": [
    "print(\"Wing Back - Support\")\n",
    "sorted_wb = wb.sort_values(by='wb_score', ascending=False)\n",
    "sorted_wb.head(10).style.format({\"Age\": \"{:20,.0f}\", \n",
    "                          })\\\n",
    "                       .hide_index()\\\n",
    "                       .background_gradient(cmap='Blues')"
   ]
  },
  {
   "cell_type": "code",
   "execution_count": 11,
   "metadata": {},
   "outputs": [
    {
     "data": {
      "application/vnd.plotly.v1+json": {
       "config": {
        "linkText": "Export to plot.ly",
        "plotlyServerURL": "https://plot.ly",
        "showLink": true
       },
       "data": [
        {
         "line": {
          "color": "rgba(255, 153, 51, 1.0)",
          "dash": "solid",
          "shape": "linear",
          "width": 1.3
         },
         "marker": {
          "size": 10,
          "symbol": "circle"
         },
         "mode": "markers",
         "name": "Cr C/A",
         "text": [
          "Djibril DiakitÃ©",
          "JoÃ£o Tavares",
          "Matej Hudecek",
          "Adrian Rybak",
          "Oskar Repka",
          "Maciej Obodecki",
          "Ivo Kralj",
          "Bartosz Sobczyk",
          "Ivan Tomac",
          "Nikola Bogdanovski",
          "Stefan Velickovic",
          "Andrija Zakoc",
          "AurÃ©lien Nguiamba",
          "Flynn Downes",
          "Nikola Puzic",
          "Andjelo Kacavenda",
          "Tymoteusz Puchacz",
          "Felix Brunmayr",
          "Lennart Grill",
          "Josip Rakic",
          "Stefan Randjelovic",
          "Radoslaw Dzierbicki",
          "Alexandar Ubavic",
          "Veljko Jovkovic",
          "Mariano GÃ³mez",
          "David Bumberger",
          "Enrico Huss",
          "Mateo Jaksic",
          "Konrad Jozwicki",
          "Nikita Marusenko",
          "Djordje Jovanovic",
          "Filip Lisnic",
          "Dawid Szalas",
          "Vladimir Ilic",
          "Marcin Mackowiak",
          "Florin Codrean",
          "David Otto",
          "Stefan Golubovic",
          "Keanan Bennetts",
          "Andrej Vukas",
          "Jannik Tepe",
          "Mladen Devetak",
          "Tom Baack",
          "Jan Sobocinski",
          "TomÃ¡s Blanco",
          "Sinan Karweina",
          "Ben Williams",
          "Arkadiusz Zajaczkowski",
          "Miguel Reisinho",
          "Filp Ceko",
          "Michel StÃ¶cker",
          "JÃ©rÃ´me Deom",
          "Ranko Jokic",
          "Palko DÃ¡rdai",
          "Aleksander Tomasz",
          "Alex Vigo",
          "Daniel Bielica",
          "Marko Djira",
          "Norbert Walczak",
          "Boris Moltenis",
          "Julius Kade",
          "Goran Buljandric",
          "Jannis KÃ¼bler",
          "Aleksa Jovanovic",
          "Tomasz Owczarek",
          "David Wittkowski",
          "Konrad Zaklika",
          "Pawel Karbowinski",
          "Nicky Werner",
          "Julijan Popovic",
          "Nassim Boujellab",
          "Bartlomiej Gajda",
          "Nemanja Matijevic",
          "Marko Denic",
          "Robert Baar",
          "Tuta",
          "Dusan Jokovic",
          "Tomasz Dzida",
          "Aleksa Pejic",
          "Krsta Bojic",
          "Sikou NiakatÃ©",
          "Tomasz Makowski",
          "Sebastian Gwozdz",
          "Adrian Polanski",
          "Bryan Mbeumo",
          "Dorin Sirbu",
          "Elvis Novalic",
          "MickaÃ«l Cuisance",
          "Mateusz Madzia",
          "JesÃºs Vargas",
          "Marino Jedvaj",
          "Raphael Assibey-Mensah",
          "Lukasz Sztylka",
          "Zoran Zrnzevic",
          "Alex Krawiec",
          "Petar Melezovic",
          "Tomasz Kurek",
          "Danko Radic",
          "Paul Mensah",
          "Jordan Williams",
          "Mario Mustapic",
          "Nikola Trickovic",
          "Patrik Delic",
          "Maciej Famulak",
          "Wiktor Nahrebecki",
          "Barne Poggenberg",
          "Mirza Jasarevic",
          "Ratko Minic",
          "Semih Åahin",
          "Matej Santek",
          "Georgios Siadas",
          "Tyrese Campbell",
          "Martin Krizmanic",
          "Kacper Laskos",
          "Aleksa Milojevic",
          "Cheick DoucourÃ©",
          "Ivan Jakovljev",
          "Przemyslaw Zdybowicz",
          "Sven Botman",
          "Malik Karaahmet",
          "Lukas KrÃ¼ger",
          "Niclas Stierlin",
          "Mane Markovic",
          "Karol Czubak",
          "Ilija Dejanovic",
          "Pascal Hackethal",
          "Oleg Gorin",
          "Michal Zieba",
          "Miodrag Maljkovic",
          "Jakov Blagaic",
          "Harisson Marcelin",
          "Vice Bazdaric",
          "Daniel Liszka",
          "Jan Sieracki",
          "Jhonny Lucas",
          "Tymoteusz Klups",
          "Josip Sutalo",
          "Othman Boussaid",
          "Evert Linthorst",
          "Jusuf Gazibegovic",
          "Virgiliu Postolachi",
          "Luis GÃ¶rlich",
          "Andrej Ilic",
          "Daniel Haritonov",
          "Patryk Drabik",
          "Tom Dobek-Pietrowski",
          "Michal Mydlarz",
          "Cho Jeong-Hui",
          "Mohamed Loua",
          "Nemanja Zikic",
          "Emir Sejdovic",
          "Samuel Lengle",
          "Mateusz Duchowski",
          "Iliya Gruev",
          "Bartosz Borun",
          "Juraj Ljubic",
          "GonÃ§alo Rebelo",
          "Dominik Resetar",
          "Jurica Prsir",
          "Piotr Wujec",
          "Jan Majsterek",
          "Mitchel Bakker",
          "Kamil Piatkowski",
          "Michal Ozga",
          "Karol Turek",
          "Toni Karimovic",
          "Billy Crellin",
          "Konrad Sieracki",
          "Vando Luis",
          "Jan Los",
          "Jessic Ngankam",
          "Adam Borkowski",
          "Julian Rieckmann",
          "Luka Pavlak",
          "Robert Ion",
          "Linus RosenlÃ¶cher",
          "Eugen Telch",
          "Nicholas Wunsch",
          "Dawid Kisly",
          "Uros Miloradovic",
          "Alois Oroz",
          "Luca Bazzoli",
          "Ronan Darcy",
          "Yann-Aurel Bisseck",
          "Timo Bornemann",
          "Radivoj Bosic",
          "Jakov Katusa",
          "Kacper Jozefiak",
          "Szymon Mroczko",
          "Karol Struski",
          "Wojciech Kaminski",
          "Piotr Lisowski",
          "Daishawn Redan",
          "Kacper Smolinski",
          "Lukas SchÃ¶fl",
          "Mikolaj Labojko",
          "Jakub Karbownik",
          "Damir Magdic",
          "Karol Malec",
          "Patryk Wozniak",
          "Can Bozdogan",
          "Aleksander Paluszek",
          "Mario Cuic",
          "Dragoljub Savic",
          "Nathan Collins",
          "Dominik Pila",
          "Mihael Kupresak",
          "Manu KonÃ©",
          "Niels Hahn",
          "Tin Hrvoj",
          "Lucas Da Cunha",
          "Rahim Ibrahim",
          "Renato Josipovic",
          "Han-Noah Massengo",
          "Kacper Wiatrak",
          "Bartosz Kuzniarski",
          "Adrian Petk",
          "Fabian Tauchhammer",
          "Bartlomiej Mruk",
          "Jakub Rudek",
          "Jakub Swiecinski",
          "Jakub Nowakowski",
          "Kamil Dabrowski",
          "Yuri Sprandel Flores",
          "Stefan Radmanovac",
          "Kamal Bafounta",
          "Filip Marchwinski",
          "Kamil Lukoszek",
          "Jakub Niewiadomski",
          "Dominik Kedzior",
          "Joe Gelhardt",
          "Filip Sobiecki",
          "Fran Tomek",
          "Hubert Wasiewski",
          "Djordje Vasic",
          "Jakub Zima",
          "Damian Makuch",
          "Andrzej Kloda",
          "Stipe Biuk",
          "Mateusz Pienczak",
          "FIlip Brekalo",
          "Stefan Despotovski",
          "Jakub Kisiel",
          "Duje Skugor",
          "Martin Baturina",
          "Radoslaw Cielemecki",
          "Ariel Mosor",
          "Nikola Petkovic",
          "Nikodem Sujecki",
          "Ivan Mandic",
          "Stanislaw Loch",
          "Dario Grgic",
          "Wojciech Szybka",
          "Kacper Szmidt",
          "Vukasin Krstic",
          "Obrendo Doesburg",
          "Casper Elderman",
          "Predrag Jovic",
          "Daniel Hoyo-Kowalski",
          "Darijo Basic",
          "Wiktor Mosur",
          "Uros Mirkovic",
          "Marcos RodrÃ­guez",
          "Adrian Å¢apu",
          "Paul Mari",
          "Pawel Muzylowski",
          "Dragan Radovic",
          "Szymon Kobeszko",
          "Marcin Dabrowski",
          "Jorge Delgado",
          "Daniel Piesio",
          null
         ],
         "type": "scatter",
         "x": [
          "-",
          "-",
          "1.12",
          "-",
          "0.16",
          "-",
          "-",
          "1.50",
          "0.05",
          "4.00",
          "0.46",
          "0.08",
          "-",
          "0.32",
          "-",
          "0.10",
          "2.49",
          "0.13",
          "-",
          "0.68",
          "-",
          "0.20",
          "-",
          "2.87",
          "-",
          "-",
          "0.39",
          "0.14",
          "0.64",
          "0.29",
          "1.85",
          "-",
          "2.08",
          "1.00",
          "-",
          "-",
          "2.78",
          "0.70",
          "1.53",
          "2.30",
          "2.31",
          "0.42",
          "0.17",
          "-",
          "1.09",
          "2.25",
          "1.69",
          "0.21",
          "0.22",
          "0.72",
          "-",
          "0.57",
          "0.28",
          "3.14",
          "-",
          "0.69",
          "-",
          "2.17",
          "-",
          "-",
          "0.97",
          "-",
          "0.34",
          "0.05",
          "-",
          "0.05",
          "-",
          "0.53",
          "1.11",
          "0.41",
          "1.84",
          "-",
          "2.92",
          "-",
          "-",
          "0.52",
          "-",
          "0.59",
          "0.11",
          "0.92",
          "-",
          "0.27",
          "-",
          "0.47",
          "2.11",
          "-",
          "0.09",
          "0.42",
          "-",
          "3.04",
          "-",
          "-",
          "0.26",
          "-",
          "2.79",
          "-",
          "2.33",
          "4.22",
          "2.87",
          "0.47",
          "-",
          "0.51",
          "-",
          "0.47",
          "0.26",
          "0.14",
          "1.02",
          "3.07",
          "3.72",
          "0.47",
          "0.50",
          "1.73",
          "-",
          "0.09",
          "-",
          "0.05",
          "-",
          "3.15",
          "0.11",
          "-",
          "2.21",
          "0.09",
          "-",
          "1.74",
          "-",
          "1.15",
          "0.09",
          "0.16",
          "3.07",
          "3.32",
          "-",
          "-",
          "2.52",
          "0.31",
          "1.31",
          "2.59",
          "-",
          "-",
          "0.28",
          "0.79",
          "-",
          "0.60",
          "1.91",
          "0.50",
          "2.54",
          "0.45",
          "0.05",
          "-",
          "0.50",
          "-",
          "-",
          "0.10",
          "3.57",
          "0.18",
          "0.52",
          "0.24",
          "-",
          "1.04",
          "1.31",
          "-",
          "0.09",
          "-",
          "-",
          "-",
          "0.49",
          "-",
          "-",
          "0.28",
          "0.13",
          "2.49",
          "1.24",
          "0.38",
          "0.11",
          "0.64",
          "2.10",
          "0.44",
          "-",
          "1.77",
          "-",
          "0.23",
          "0.06",
          "0.24",
          "0.29",
          "0.24",
          "2.01",
          "3.16",
          "3.93",
          "-",
          "0.07",
          "1.35",
          "0.05",
          "-",
          "1.81",
          "0.30",
          "-",
          "-",
          "2.52",
          "0.92",
          "0.98",
          "0.16",
          "0.31",
          "0.15",
          "0.08",
          "-",
          "-",
          "0.71",
          "3.35",
          "-",
          "-",
          "0.89",
          "-",
          "-",
          "-",
          "0.71",
          "-",
          "1.66",
          "0.06",
          "-",
          "0.06",
          "0.46",
          "0.99",
          "-",
          "1.01",
          "0.51",
          "0.11",
          "0.04",
          "2.72",
          "2.42",
          "1.38",
          "2.18",
          "0.32",
          "2.96",
          "0.06",
          "-",
          "0.40",
          "0.08",
          "-",
          "0.09",
          "0.76",
          "-",
          "0.88",
          "0.05",
          "0.31",
          "2.61",
          "1.45",
          "1.08",
          "0.08",
          "-",
          "-",
          "-",
          "0.41",
          "1.42",
          "0.08",
          "4.08",
          "-",
          "-",
          "0.09",
          "1.51",
          "-",
          "0.08",
          "1.96",
          "1.92",
          "0.16",
          "1.67",
          "0.80",
          "0.40",
          "1.56",
          "0.06",
          "0.19",
          "0.15",
          "0.83",
          null
         ],
         "y": [
          "0%",
          "0%",
          "32%",
          "0%",
          "0%",
          "0%",
          "0%",
          "36%",
          "0%",
          "31%",
          "40%",
          "5%",
          "0%",
          "0%",
          "36%",
          "32%",
          "33%",
          "0%",
          "0%",
          "23%",
          "0%",
          "43%",
          "0%",
          "31%",
          "0%",
          "0%",
          "33%",
          "24%",
          "10%",
          "0%",
          "30%",
          "5%",
          "30%",
          "39%",
          "0%",
          "0%",
          "32%",
          "30%",
          "34%",
          "34%",
          "29%",
          "32%",
          "50%",
          "0%",
          "27%",
          "35%",
          "37%",
          "34%",
          "25%",
          "34%",
          "0%",
          "36%",
          "36%",
          "35%",
          "0%",
          "44%",
          "0%",
          "26%",
          "0%",
          "0%",
          "0%",
          "0%",
          "25%",
          "0%",
          "0%",
          "36%",
          "0%",
          "39%",
          "21%",
          "31%",
          "28%",
          "0%",
          "35%",
          "0%",
          "0%",
          "0%",
          "0%",
          "33%",
          "0%",
          "37%",
          "0%",
          "7%",
          "0%",
          "32%",
          "37%",
          "0%",
          "33%",
          "35%",
          "0%",
          "29%",
          "0%",
          "0%",
          "32%",
          "0%",
          "33%",
          "0%",
          "37%",
          "36%",
          "29%",
          "37%",
          "0%",
          "37%",
          "0%",
          "31%",
          "36%",
          "32%",
          "36%",
          "38%",
          "34%",
          "32%",
          "33%",
          "23%",
          "0%",
          "0%",
          "0%",
          "25%",
          "0%",
          "33%",
          "0%",
          "0%",
          "28%",
          "27%",
          "0%",
          "0%",
          "0%",
          "34%",
          "33%",
          "29%",
          "10%",
          "27%",
          "0%",
          "0%",
          "38%",
          "23%",
          "31%",
          "30%",
          "0%",
          "0%",
          "37%",
          "41%",
          "0%",
          "36%",
          "30%",
          "30%",
          "29%",
          "32%",
          "34%",
          "0%",
          "25%",
          "0%",
          "33%",
          "29%",
          "30%",
          "4%",
          "20%",
          "37%",
          "0%",
          "14%",
          "34%",
          "0%",
          "26%",
          "0%",
          "5%",
          "0%",
          "28%",
          "33%",
          "0%",
          "32%",
          "0%",
          "35%",
          "35%",
          "30%",
          "0%",
          "32%",
          "40%",
          "25%",
          "0%",
          "32%",
          "5%",
          "36%",
          "0%",
          "26%",
          "29%",
          "0%",
          "33%",
          "36%",
          "35%",
          "0%",
          "7%",
          "35%",
          "20%",
          "0%",
          "30%",
          "17%",
          "0%",
          "0%",
          "23%",
          "30%",
          "37%",
          "34%",
          "24%",
          "0%",
          "11%",
          "0%",
          "0%",
          "33%",
          "40%",
          "0%",
          "0%",
          "37%",
          "0%",
          "0%",
          "0%",
          "25%",
          "0%",
          "32%",
          "13%",
          "0%",
          "5%",
          "29%",
          "31%",
          "0%",
          "39%",
          "21%",
          "34%",
          "4%",
          "34%",
          "32%",
          "36%",
          "33%",
          "50%",
          "35%",
          "18%",
          "0%",
          "35%",
          "8%",
          "0%",
          "26%",
          "36%",
          "0%",
          "32%",
          "36%",
          "25%",
          "29%",
          "22%",
          "26%",
          "6%",
          "25%",
          "0%",
          "0%",
          "37%",
          "36%",
          "37%",
          "23%",
          "0%",
          "0%",
          "0%",
          "34%",
          "0%",
          "40%",
          "37%",
          "25%",
          "34%",
          "33%",
          "28%",
          "31%",
          "36%",
          "33%",
          "27%",
          "38%",
          "34%",
          ""
         ]
        }
       ],
       "layout": {
        "legend": {
         "bgcolor": "#F5F6F9",
         "font": {
          "color": "#4D5663"
         }
        },
        "paper_bgcolor": "#F5F6F9",
        "plot_bgcolor": "#F5F6F9",
        "template": {
         "data": {
          "bar": [
           {
            "error_x": {
             "color": "#2a3f5f"
            },
            "error_y": {
             "color": "#2a3f5f"
            },
            "marker": {
             "line": {
              "color": "#E5ECF6",
              "width": 0.5
             }
            },
            "type": "bar"
           }
          ],
          "barpolar": [
           {
            "marker": {
             "line": {
              "color": "#E5ECF6",
              "width": 0.5
             }
            },
            "type": "barpolar"
           }
          ],
          "carpet": [
           {
            "aaxis": {
             "endlinecolor": "#2a3f5f",
             "gridcolor": "white",
             "linecolor": "white",
             "minorgridcolor": "white",
             "startlinecolor": "#2a3f5f"
            },
            "baxis": {
             "endlinecolor": "#2a3f5f",
             "gridcolor": "white",
             "linecolor": "white",
             "minorgridcolor": "white",
             "startlinecolor": "#2a3f5f"
            },
            "type": "carpet"
           }
          ],
          "choropleth": [
           {
            "colorbar": {
             "outlinewidth": 0,
             "ticks": ""
            },
            "type": "choropleth"
           }
          ],
          "contour": [
           {
            "colorbar": {
             "outlinewidth": 0,
             "ticks": ""
            },
            "colorscale": [
             [
              0,
              "#0d0887"
             ],
             [
              0.1111111111111111,
              "#46039f"
             ],
             [
              0.2222222222222222,
              "#7201a8"
             ],
             [
              0.3333333333333333,
              "#9c179e"
             ],
             [
              0.4444444444444444,
              "#bd3786"
             ],
             [
              0.5555555555555556,
              "#d8576b"
             ],
             [
              0.6666666666666666,
              "#ed7953"
             ],
             [
              0.7777777777777778,
              "#fb9f3a"
             ],
             [
              0.8888888888888888,
              "#fdca26"
             ],
             [
              1,
              "#f0f921"
             ]
            ],
            "type": "contour"
           }
          ],
          "contourcarpet": [
           {
            "colorbar": {
             "outlinewidth": 0,
             "ticks": ""
            },
            "type": "contourcarpet"
           }
          ],
          "heatmap": [
           {
            "colorbar": {
             "outlinewidth": 0,
             "ticks": ""
            },
            "colorscale": [
             [
              0,
              "#0d0887"
             ],
             [
              0.1111111111111111,
              "#46039f"
             ],
             [
              0.2222222222222222,
              "#7201a8"
             ],
             [
              0.3333333333333333,
              "#9c179e"
             ],
             [
              0.4444444444444444,
              "#bd3786"
             ],
             [
              0.5555555555555556,
              "#d8576b"
             ],
             [
              0.6666666666666666,
              "#ed7953"
             ],
             [
              0.7777777777777778,
              "#fb9f3a"
             ],
             [
              0.8888888888888888,
              "#fdca26"
             ],
             [
              1,
              "#f0f921"
             ]
            ],
            "type": "heatmap"
           }
          ],
          "heatmapgl": [
           {
            "colorbar": {
             "outlinewidth": 0,
             "ticks": ""
            },
            "colorscale": [
             [
              0,
              "#0d0887"
             ],
             [
              0.1111111111111111,
              "#46039f"
             ],
             [
              0.2222222222222222,
              "#7201a8"
             ],
             [
              0.3333333333333333,
              "#9c179e"
             ],
             [
              0.4444444444444444,
              "#bd3786"
             ],
             [
              0.5555555555555556,
              "#d8576b"
             ],
             [
              0.6666666666666666,
              "#ed7953"
             ],
             [
              0.7777777777777778,
              "#fb9f3a"
             ],
             [
              0.8888888888888888,
              "#fdca26"
             ],
             [
              1,
              "#f0f921"
             ]
            ],
            "type": "heatmapgl"
           }
          ],
          "histogram": [
           {
            "marker": {
             "colorbar": {
              "outlinewidth": 0,
              "ticks": ""
             }
            },
            "type": "histogram"
           }
          ],
          "histogram2d": [
           {
            "colorbar": {
             "outlinewidth": 0,
             "ticks": ""
            },
            "colorscale": [
             [
              0,
              "#0d0887"
             ],
             [
              0.1111111111111111,
              "#46039f"
             ],
             [
              0.2222222222222222,
              "#7201a8"
             ],
             [
              0.3333333333333333,
              "#9c179e"
             ],
             [
              0.4444444444444444,
              "#bd3786"
             ],
             [
              0.5555555555555556,
              "#d8576b"
             ],
             [
              0.6666666666666666,
              "#ed7953"
             ],
             [
              0.7777777777777778,
              "#fb9f3a"
             ],
             [
              0.8888888888888888,
              "#fdca26"
             ],
             [
              1,
              "#f0f921"
             ]
            ],
            "type": "histogram2d"
           }
          ],
          "histogram2dcontour": [
           {
            "colorbar": {
             "outlinewidth": 0,
             "ticks": ""
            },
            "colorscale": [
             [
              0,
              "#0d0887"
             ],
             [
              0.1111111111111111,
              "#46039f"
             ],
             [
              0.2222222222222222,
              "#7201a8"
             ],
             [
              0.3333333333333333,
              "#9c179e"
             ],
             [
              0.4444444444444444,
              "#bd3786"
             ],
             [
              0.5555555555555556,
              "#d8576b"
             ],
             [
              0.6666666666666666,
              "#ed7953"
             ],
             [
              0.7777777777777778,
              "#fb9f3a"
             ],
             [
              0.8888888888888888,
              "#fdca26"
             ],
             [
              1,
              "#f0f921"
             ]
            ],
            "type": "histogram2dcontour"
           }
          ],
          "mesh3d": [
           {
            "colorbar": {
             "outlinewidth": 0,
             "ticks": ""
            },
            "type": "mesh3d"
           }
          ],
          "parcoords": [
           {
            "line": {
             "colorbar": {
              "outlinewidth": 0,
              "ticks": ""
             }
            },
            "type": "parcoords"
           }
          ],
          "pie": [
           {
            "automargin": true,
            "type": "pie"
           }
          ],
          "scatter": [
           {
            "marker": {
             "colorbar": {
              "outlinewidth": 0,
              "ticks": ""
             }
            },
            "type": "scatter"
           }
          ],
          "scatter3d": [
           {
            "line": {
             "colorbar": {
              "outlinewidth": 0,
              "ticks": ""
             }
            },
            "marker": {
             "colorbar": {
              "outlinewidth": 0,
              "ticks": ""
             }
            },
            "type": "scatter3d"
           }
          ],
          "scattercarpet": [
           {
            "marker": {
             "colorbar": {
              "outlinewidth": 0,
              "ticks": ""
             }
            },
            "type": "scattercarpet"
           }
          ],
          "scattergeo": [
           {
            "marker": {
             "colorbar": {
              "outlinewidth": 0,
              "ticks": ""
             }
            },
            "type": "scattergeo"
           }
          ],
          "scattergl": [
           {
            "marker": {
             "colorbar": {
              "outlinewidth": 0,
              "ticks": ""
             }
            },
            "type": "scattergl"
           }
          ],
          "scattermapbox": [
           {
            "marker": {
             "colorbar": {
              "outlinewidth": 0,
              "ticks": ""
             }
            },
            "type": "scattermapbox"
           }
          ],
          "scatterpolar": [
           {
            "marker": {
             "colorbar": {
              "outlinewidth": 0,
              "ticks": ""
             }
            },
            "type": "scatterpolar"
           }
          ],
          "scatterpolargl": [
           {
            "marker": {
             "colorbar": {
              "outlinewidth": 0,
              "ticks": ""
             }
            },
            "type": "scatterpolargl"
           }
          ],
          "scatterternary": [
           {
            "marker": {
             "colorbar": {
              "outlinewidth": 0,
              "ticks": ""
             }
            },
            "type": "scatterternary"
           }
          ],
          "surface": [
           {
            "colorbar": {
             "outlinewidth": 0,
             "ticks": ""
            },
            "colorscale": [
             [
              0,
              "#0d0887"
             ],
             [
              0.1111111111111111,
              "#46039f"
             ],
             [
              0.2222222222222222,
              "#7201a8"
             ],
             [
              0.3333333333333333,
              "#9c179e"
             ],
             [
              0.4444444444444444,
              "#bd3786"
             ],
             [
              0.5555555555555556,
              "#d8576b"
             ],
             [
              0.6666666666666666,
              "#ed7953"
             ],
             [
              0.7777777777777778,
              "#fb9f3a"
             ],
             [
              0.8888888888888888,
              "#fdca26"
             ],
             [
              1,
              "#f0f921"
             ]
            ],
            "type": "surface"
           }
          ],
          "table": [
           {
            "cells": {
             "fill": {
              "color": "#EBF0F8"
             },
             "line": {
              "color": "white"
             }
            },
            "header": {
             "fill": {
              "color": "#C8D4E3"
             },
             "line": {
              "color": "white"
             }
            },
            "type": "table"
           }
          ]
         },
         "layout": {
          "annotationdefaults": {
           "arrowcolor": "#2a3f5f",
           "arrowhead": 0,
           "arrowwidth": 1
          },
          "coloraxis": {
           "colorbar": {
            "outlinewidth": 0,
            "ticks": ""
           }
          },
          "colorscale": {
           "diverging": [
            [
             0,
             "#8e0152"
            ],
            [
             0.1,
             "#c51b7d"
            ],
            [
             0.2,
             "#de77ae"
            ],
            [
             0.3,
             "#f1b6da"
            ],
            [
             0.4,
             "#fde0ef"
            ],
            [
             0.5,
             "#f7f7f7"
            ],
            [
             0.6,
             "#e6f5d0"
            ],
            [
             0.7,
             "#b8e186"
            ],
            [
             0.8,
             "#7fbc41"
            ],
            [
             0.9,
             "#4d9221"
            ],
            [
             1,
             "#276419"
            ]
           ],
           "sequential": [
            [
             0,
             "#0d0887"
            ],
            [
             0.1111111111111111,
             "#46039f"
            ],
            [
             0.2222222222222222,
             "#7201a8"
            ],
            [
             0.3333333333333333,
             "#9c179e"
            ],
            [
             0.4444444444444444,
             "#bd3786"
            ],
            [
             0.5555555555555556,
             "#d8576b"
            ],
            [
             0.6666666666666666,
             "#ed7953"
            ],
            [
             0.7777777777777778,
             "#fb9f3a"
            ],
            [
             0.8888888888888888,
             "#fdca26"
            ],
            [
             1,
             "#f0f921"
            ]
           ],
           "sequentialminus": [
            [
             0,
             "#0d0887"
            ],
            [
             0.1111111111111111,
             "#46039f"
            ],
            [
             0.2222222222222222,
             "#7201a8"
            ],
            [
             0.3333333333333333,
             "#9c179e"
            ],
            [
             0.4444444444444444,
             "#bd3786"
            ],
            [
             0.5555555555555556,
             "#d8576b"
            ],
            [
             0.6666666666666666,
             "#ed7953"
            ],
            [
             0.7777777777777778,
             "#fb9f3a"
            ],
            [
             0.8888888888888888,
             "#fdca26"
            ],
            [
             1,
             "#f0f921"
            ]
           ]
          },
          "colorway": [
           "#636efa",
           "#EF553B",
           "#00cc96",
           "#ab63fa",
           "#FFA15A",
           "#19d3f3",
           "#FF6692",
           "#B6E880",
           "#FF97FF",
           "#FECB52"
          ],
          "font": {
           "color": "#2a3f5f"
          },
          "geo": {
           "bgcolor": "white",
           "lakecolor": "white",
           "landcolor": "#E5ECF6",
           "showlakes": true,
           "showland": true,
           "subunitcolor": "white"
          },
          "hoverlabel": {
           "align": "left"
          },
          "hovermode": "closest",
          "mapbox": {
           "style": "light"
          },
          "paper_bgcolor": "white",
          "plot_bgcolor": "#E5ECF6",
          "polar": {
           "angularaxis": {
            "gridcolor": "white",
            "linecolor": "white",
            "ticks": ""
           },
           "bgcolor": "#E5ECF6",
           "radialaxis": {
            "gridcolor": "white",
            "linecolor": "white",
            "ticks": ""
           }
          },
          "scene": {
           "xaxis": {
            "backgroundcolor": "#E5ECF6",
            "gridcolor": "white",
            "gridwidth": 2,
            "linecolor": "white",
            "showbackground": true,
            "ticks": "",
            "zerolinecolor": "white"
           },
           "yaxis": {
            "backgroundcolor": "#E5ECF6",
            "gridcolor": "white",
            "gridwidth": 2,
            "linecolor": "white",
            "showbackground": true,
            "ticks": "",
            "zerolinecolor": "white"
           },
           "zaxis": {
            "backgroundcolor": "#E5ECF6",
            "gridcolor": "white",
            "gridwidth": 2,
            "linecolor": "white",
            "showbackground": true,
            "ticks": "",
            "zerolinecolor": "white"
           }
          },
          "shapedefaults": {
           "line": {
            "color": "#2a3f5f"
           }
          },
          "ternary": {
           "aaxis": {
            "gridcolor": "white",
            "linecolor": "white",
            "ticks": ""
           },
           "baxis": {
            "gridcolor": "white",
            "linecolor": "white",
            "ticks": ""
           },
           "bgcolor": "#E5ECF6",
           "caxis": {
            "gridcolor": "white",
            "linecolor": "white",
            "ticks": ""
           }
          },
          "title": {
           "x": 0.05
          },
          "xaxis": {
           "automargin": true,
           "gridcolor": "white",
           "linecolor": "white",
           "ticks": "",
           "title": {
            "standoff": 15
           },
           "zerolinecolor": "white",
           "zerolinewidth": 2
          },
          "yaxis": {
           "automargin": true,
           "gridcolor": "white",
           "linecolor": "white",
           "ticks": "",
           "title": {
            "standoff": 15
           },
           "zerolinecolor": "white",
           "zerolinewidth": 2
          }
         }
        },
        "title": {
         "font": {
          "color": "#4D5663"
         },
         "text": "Wing Back - Support"
        },
        "xaxis": {
         "gridcolor": "#E1E5ED",
         "showgrid": true,
         "tickfont": {
          "color": "#4D5663"
         },
         "title": {
          "font": {
           "color": "#4D5663"
          },
          "text": "Dribbles/90"
         },
         "zerolinecolor": "#E1E5ED"
        },
        "yaxis": {
         "gridcolor": "#E1E5ED",
         "showgrid": true,
         "tickfont": {
          "color": "#4D5663"
         },
         "title": {
          "font": {
           "color": "#4D5663"
          },
          "text": "Cross Completion %"
         },
         "zerolinecolor": "#E1E5ED"
        }
       }
      },
      "text/html": [
       "<div>\n",
       "        \n",
       "        \n",
       "            <div id=\"ed4f9762-2371-4bcd-af51-cd10240096a9\" class=\"plotly-graph-div\" style=\"height:525px; width:100%;\"></div>\n",
       "            <script type=\"text/javascript\">\n",
       "                require([\"plotly\"], function(Plotly) {\n",
       "                    window.PLOTLYENV=window.PLOTLYENV || {};\n",
       "                    window.PLOTLYENV.BASE_URL='https://plot.ly';\n",
       "                    \n",
       "                if (document.getElementById(\"ed4f9762-2371-4bcd-af51-cd10240096a9\")) {\n",
       "                    Plotly.newPlot(\n",
       "                        'ed4f9762-2371-4bcd-af51-cd10240096a9',\n",
       "                        [{\"line\": {\"color\": \"rgba(255, 153, 51, 1.0)\", \"dash\": \"solid\", \"shape\": \"linear\", \"width\": 1.3}, \"marker\": {\"size\": 10, \"symbol\": \"circle\"}, \"mode\": \"markers\", \"name\": \"Cr C/A\", \"text\": [\"Djibril Diakit\\u00c3\\u00a9\", \"Jo\\u00c3\\u00a3o Tavares\", \"Matej Hudecek\", \"Adrian Rybak\", \"Oskar Repka\", \"Maciej Obodecki\", \"Ivo Kralj\", \"Bartosz Sobczyk\", \"Ivan Tomac\", \"Nikola Bogdanovski\", \"Stefan Velickovic\", \"Andrija Zakoc\", \"Aur\\u00c3\\u00a9lien Nguiamba\", \"Flynn Downes\", \"Nikola Puzic\", \"Andjelo Kacavenda\", \"Tymoteusz Puchacz\", \"Felix Brunmayr\", \"Lennart Grill\", \"Josip Rakic\", \"Stefan Randjelovic\", \"Radoslaw Dzierbicki\", \"Alexandar Ubavic\", \"Veljko Jovkovic\", \"Mariano G\\u00c3\\u00b3mez\", \"David Bumberger\", \"Enrico Huss\", \"Mateo Jaksic\", \"Konrad Jozwicki\", \"Nikita Marusenko\", \"Djordje Jovanovic\", \"Filip Lisnic\", \"Dawid Szalas\", \"Vladimir Ilic\", \"Marcin Mackowiak\", \"Florin Codrean\", \"David Otto\", \"Stefan Golubovic\", \"Keanan Bennetts\", \"Andrej Vukas\", \"Jannik Tepe\", \"Mladen Devetak\", \"Tom Baack\", \"Jan Sobocinski\", \"Tom\\u00c3\\u00a1s Blanco\", \"Sinan Karweina\", \"Ben Williams\", \"Arkadiusz Zajaczkowski\", \"Miguel Reisinho\", \"Filp Ceko\", \"Michel St\\u00c3\\u00b6cker\", \"J\\u00c3\\u00a9r\\u00c3\\u00b4me Deom\", \"Ranko Jokic\", \"Palko D\\u00c3\\u00a1rdai\", \"Aleksander Tomasz\", \"Alex Vigo\", \"Daniel Bielica\", \"Marko Djira\", \"Norbert Walczak\", \"Boris Moltenis\", \"Julius Kade\", \"Goran Buljandric\", \"Jannis K\\u00c3\\u00bcbler\", \"Aleksa Jovanovic\", \"Tomasz Owczarek\", \"David Wittkowski\", \"Konrad Zaklika\", \"Pawel Karbowinski\", \"Nicky Werner\", \"Julijan Popovic\", \"Nassim Boujellab\", \"Bartlomiej Gajda\", \"Nemanja Matijevic\", \"Marko Denic\", \"Robert Baar\", \"Tuta\", \"Dusan Jokovic\", \"Tomasz Dzida\", \"Aleksa Pejic\", \"Krsta Bojic\", \"Sikou Niakat\\u00c3\\u00a9\", \"Tomasz Makowski\", \"Sebastian Gwozdz\", \"Adrian Polanski\", \"Bryan Mbeumo\", \"Dorin Sirbu\", \"Elvis Novalic\", \"Micka\\u00c3\\u00abl Cuisance\", \"Mateusz Madzia\", \"Jes\\u00c3\\u00bas Vargas\", \"Marino Jedvaj\", \"Raphael Assibey-Mensah\", \"Lukasz Sztylka\", \"Zoran Zrnzevic\", \"Alex Krawiec\", \"Petar Melezovic\", \"Tomasz Kurek\", \"Danko Radic\", \"Paul Mensah\", \"Jordan Williams\", \"Mario Mustapic\", \"Nikola Trickovic\", \"Patrik Delic\", \"Maciej Famulak\", \"Wiktor Nahrebecki\", \"Barne Poggenberg\", \"Mirza Jasarevic\", \"Ratko Minic\", \"Semih \\u00c5\\u009eahin\", \"Matej Santek\", \"Georgios Siadas\", \"Tyrese Campbell\", \"Martin Krizmanic\", \"Kacper Laskos\", \"Aleksa Milojevic\", \"Cheick Doucour\\u00c3\\u00a9\", \"Ivan Jakovljev\", \"Przemyslaw Zdybowicz\", \"Sven Botman\", \"Malik Karaahmet\", \"Lukas Kr\\u00c3\\u00bcger\", \"Niclas Stierlin\", \"Mane Markovic\", \"Karol Czubak\", \"Ilija Dejanovic\", \"Pascal Hackethal\", \"Oleg Gorin\", \"Michal Zieba\", \"Miodrag Maljkovic\", \"Jakov Blagaic\", \"Harisson Marcelin\", \"Vice Bazdaric\", \"Daniel Liszka\", \"Jan Sieracki\", \"Jhonny Lucas\", \"Tymoteusz Klups\", \"Josip Sutalo\", \"Othman Boussaid\", \"Evert Linthorst\", \"Jusuf Gazibegovic\", \"Virgiliu Postolachi\", \"Luis G\\u00c3\\u00b6rlich\", \"Andrej Ilic\", \"Daniel Haritonov\", \"Patryk Drabik\", \"Tom Dobek-Pietrowski\", \"Michal Mydlarz\", \"Cho Jeong-Hui\", \"Mohamed Loua\", \"Nemanja Zikic\", \"Emir Sejdovic\", \"Samuel Lengle\", \"Mateusz Duchowski\", \"Iliya Gruev\", \"Bartosz Borun\", \"Juraj Ljubic\", \"Gon\\u00c3\\u00a7alo Rebelo\", \"Dominik Resetar\", \"Jurica Prsir\", \"Piotr Wujec\", \"Jan Majsterek\", \"Mitchel Bakker\", \"Kamil Piatkowski\", \"Michal Ozga\", \"Karol Turek\", \"Toni Karimovic\", \"Billy Crellin\", \"Konrad Sieracki\", \"Vando Luis\", \"Jan Los\", \"Jessic Ngankam\", \"Adam Borkowski\", \"Julian Rieckmann\", \"Luka Pavlak\", \"Robert Ion\", \"Linus Rosenl\\u00c3\\u00b6cher\", \"Eugen Telch\", \"Nicholas Wunsch\", \"Dawid Kisly\", \"Uros Miloradovic\", \"Alois Oroz\", \"Luca Bazzoli\", \"Ronan Darcy\", \"Yann-Aurel Bisseck\", \"Timo Bornemann\", \"Radivoj Bosic\", \"Jakov Katusa\", \"Kacper Jozefiak\", \"Szymon Mroczko\", \"Karol Struski\", \"Wojciech Kaminski\", \"Piotr Lisowski\", \"Daishawn Redan\", \"Kacper Smolinski\", \"Lukas Sch\\u00c3\\u00b6fl\", \"Mikolaj Labojko\", \"Jakub Karbownik\", \"Damir Magdic\", \"Karol Malec\", \"Patryk Wozniak\", \"Can Bozdogan\", \"Aleksander Paluszek\", \"Mario Cuic\", \"Dragoljub Savic\", \"Nathan Collins\", \"Dominik Pila\", \"Mihael Kupresak\", \"Manu Kon\\u00c3\\u00a9\", \"Niels Hahn\", \"Tin Hrvoj\", \"Lucas Da Cunha\", \"Rahim Ibrahim\", \"Renato Josipovic\", \"Han-Noah Massengo\", \"Kacper Wiatrak\", \"Bartosz Kuzniarski\", \"Adrian Petk\", \"Fabian Tauchhammer\", \"Bartlomiej Mruk\", \"Jakub Rudek\", \"Jakub Swiecinski\", \"Jakub Nowakowski\", \"Kamil Dabrowski\", \"Yuri Sprandel Flores\", \"Stefan Radmanovac\", \"Kamal Bafounta\", \"Filip Marchwinski\", \"Kamil Lukoszek\", \"Jakub Niewiadomski\", \"Dominik Kedzior\", \"Joe Gelhardt\", \"Filip Sobiecki\", \"Fran Tomek\", \"Hubert Wasiewski\", \"Djordje Vasic\", \"Jakub Zima\", \"Damian Makuch\", \"Andrzej Kloda\", \"Stipe Biuk\", \"Mateusz Pienczak\", \"FIlip Brekalo\", \"Stefan Despotovski\", \"Jakub Kisiel\", \"Duje Skugor\", \"Martin Baturina\", \"Radoslaw Cielemecki\", \"Ariel Mosor\", \"Nikola Petkovic\", \"Nikodem Sujecki\", \"Ivan Mandic\", \"Stanislaw Loch\", \"Dario Grgic\", \"Wojciech Szybka\", \"Kacper Szmidt\", \"Vukasin Krstic\", \"Obrendo Doesburg\", \"Casper Elderman\", \"Predrag Jovic\", \"Daniel Hoyo-Kowalski\", \"Darijo Basic\", \"Wiktor Mosur\", \"Uros Mirkovic\", \"Marcos Rodr\\u00c3\\u00adguez\", \"Adrian \\u00c5\\u00a2apu\", \"Paul Mari\", \"Pawel Muzylowski\", \"Dragan Radovic\", \"Szymon Kobeszko\", \"Marcin Dabrowski\", \"Jorge Delgado\", \"Daniel Piesio\", null], \"type\": \"scatter\", \"x\": [\"-\", \"-\", \"1.12\", \"-\", \"0.16\", \"-\", \"-\", \"1.50\", \"0.05\", \"4.00\", \"0.46\", \"0.08\", \"-\", \"0.32\", \"-\", \"0.10\", \"2.49\", \"0.13\", \"-\", \"0.68\", \"-\", \"0.20\", \"-\", \"2.87\", \"-\", \"-\", \"0.39\", \"0.14\", \"0.64\", \"0.29\", \"1.85\", \"-\", \"2.08\", \"1.00\", \"-\", \"-\", \"2.78\", \"0.70\", \"1.53\", \"2.30\", \"2.31\", \"0.42\", \"0.17\", \"-\", \"1.09\", \"2.25\", \"1.69\", \"0.21\", \"0.22\", \"0.72\", \"-\", \"0.57\", \"0.28\", \"3.14\", \"-\", \"0.69\", \"-\", \"2.17\", \"-\", \"-\", \"0.97\", \"-\", \"0.34\", \"0.05\", \"-\", \"0.05\", \"-\", \"0.53\", \"1.11\", \"0.41\", \"1.84\", \"-\", \"2.92\", \"-\", \"-\", \"0.52\", \"-\", \"0.59\", \"0.11\", \"0.92\", \"-\", \"0.27\", \"-\", \"0.47\", \"2.11\", \"-\", \"0.09\", \"0.42\", \"-\", \"3.04\", \"-\", \"-\", \"0.26\", \"-\", \"2.79\", \"-\", \"2.33\", \"4.22\", \"2.87\", \"0.47\", \"-\", \"0.51\", \"-\", \"0.47\", \"0.26\", \"0.14\", \"1.02\", \"3.07\", \"3.72\", \"0.47\", \"0.50\", \"1.73\", \"-\", \"0.09\", \"-\", \"0.05\", \"-\", \"3.15\", \"0.11\", \"-\", \"2.21\", \"0.09\", \"-\", \"1.74\", \"-\", \"1.15\", \"0.09\", \"0.16\", \"3.07\", \"3.32\", \"-\", \"-\", \"2.52\", \"0.31\", \"1.31\", \"2.59\", \"-\", \"-\", \"0.28\", \"0.79\", \"-\", \"0.60\", \"1.91\", \"0.50\", \"2.54\", \"0.45\", \"0.05\", \"-\", \"0.50\", \"-\", \"-\", \"0.10\", \"3.57\", \"0.18\", \"0.52\", \"0.24\", \"-\", \"1.04\", \"1.31\", \"-\", \"0.09\", \"-\", \"-\", \"-\", \"0.49\", \"-\", \"-\", \"0.28\", \"0.13\", \"2.49\", \"1.24\", \"0.38\", \"0.11\", \"0.64\", \"2.10\", \"0.44\", \"-\", \"1.77\", \"-\", \"0.23\", \"0.06\", \"0.24\", \"0.29\", \"0.24\", \"2.01\", \"3.16\", \"3.93\", \"-\", \"0.07\", \"1.35\", \"0.05\", \"-\", \"1.81\", \"0.30\", \"-\", \"-\", \"2.52\", \"0.92\", \"0.98\", \"0.16\", \"0.31\", \"0.15\", \"0.08\", \"-\", \"-\", \"0.71\", \"3.35\", \"-\", \"-\", \"0.89\", \"-\", \"-\", \"-\", \"0.71\", \"-\", \"1.66\", \"0.06\", \"-\", \"0.06\", \"0.46\", \"0.99\", \"-\", \"1.01\", \"0.51\", \"0.11\", \"0.04\", \"2.72\", \"2.42\", \"1.38\", \"2.18\", \"0.32\", \"2.96\", \"0.06\", \"-\", \"0.40\", \"0.08\", \"-\", \"0.09\", \"0.76\", \"-\", \"0.88\", \"0.05\", \"0.31\", \"2.61\", \"1.45\", \"1.08\", \"0.08\", \"-\", \"-\", \"-\", \"0.41\", \"1.42\", \"0.08\", \"4.08\", \"-\", \"-\", \"0.09\", \"1.51\", \"-\", \"0.08\", \"1.96\", \"1.92\", \"0.16\", \"1.67\", \"0.80\", \"0.40\", \"1.56\", \"0.06\", \"0.19\", \"0.15\", \"0.83\", null], \"y\": [\"0%\", \"0%\", \"32%\", \"0%\", \"0%\", \"0%\", \"0%\", \"36%\", \"0%\", \"31%\", \"40%\", \"5%\", \"0%\", \"0%\", \"36%\", \"32%\", \"33%\", \"0%\", \"0%\", \"23%\", \"0%\", \"43%\", \"0%\", \"31%\", \"0%\", \"0%\", \"33%\", \"24%\", \"10%\", \"0%\", \"30%\", \"5%\", \"30%\", \"39%\", \"0%\", \"0%\", \"32%\", \"30%\", \"34%\", \"34%\", \"29%\", \"32%\", \"50%\", \"0%\", \"27%\", \"35%\", \"37%\", \"34%\", \"25%\", \"34%\", \"0%\", \"36%\", \"36%\", \"35%\", \"0%\", \"44%\", \"0%\", \"26%\", \"0%\", \"0%\", \"0%\", \"0%\", \"25%\", \"0%\", \"0%\", \"36%\", \"0%\", \"39%\", \"21%\", \"31%\", \"28%\", \"0%\", \"35%\", \"0%\", \"0%\", \"0%\", \"0%\", \"33%\", \"0%\", \"37%\", \"0%\", \"7%\", \"0%\", \"32%\", \"37%\", \"0%\", \"33%\", \"35%\", \"0%\", \"29%\", \"0%\", \"0%\", \"32%\", \"0%\", \"33%\", \"0%\", \"37%\", \"36%\", \"29%\", \"37%\", \"0%\", \"37%\", \"0%\", \"31%\", \"36%\", \"32%\", \"36%\", \"38%\", \"34%\", \"32%\", \"33%\", \"23%\", \"0%\", \"0%\", \"0%\", \"25%\", \"0%\", \"33%\", \"0%\", \"0%\", \"28%\", \"27%\", \"0%\", \"0%\", \"0%\", \"34%\", \"33%\", \"29%\", \"10%\", \"27%\", \"0%\", \"0%\", \"38%\", \"23%\", \"31%\", \"30%\", \"0%\", \"0%\", \"37%\", \"41%\", \"0%\", \"36%\", \"30%\", \"30%\", \"29%\", \"32%\", \"34%\", \"0%\", \"25%\", \"0%\", \"33%\", \"29%\", \"30%\", \"4%\", \"20%\", \"37%\", \"0%\", \"14%\", \"34%\", \"0%\", \"26%\", \"0%\", \"5%\", \"0%\", \"28%\", \"33%\", \"0%\", \"32%\", \"0%\", \"35%\", \"35%\", \"30%\", \"0%\", \"32%\", \"40%\", \"25%\", \"0%\", \"32%\", \"5%\", \"36%\", \"0%\", \"26%\", \"29%\", \"0%\", \"33%\", \"36%\", \"35%\", \"0%\", \"7%\", \"35%\", \"20%\", \"0%\", \"30%\", \"17%\", \"0%\", \"0%\", \"23%\", \"30%\", \"37%\", \"34%\", \"24%\", \"0%\", \"11%\", \"0%\", \"0%\", \"33%\", \"40%\", \"0%\", \"0%\", \"37%\", \"0%\", \"0%\", \"0%\", \"25%\", \"0%\", \"32%\", \"13%\", \"0%\", \"5%\", \"29%\", \"31%\", \"0%\", \"39%\", \"21%\", \"34%\", \"4%\", \"34%\", \"32%\", \"36%\", \"33%\", \"50%\", \"35%\", \"18%\", \"0%\", \"35%\", \"8%\", \"0%\", \"26%\", \"36%\", \"0%\", \"32%\", \"36%\", \"25%\", \"29%\", \"22%\", \"26%\", \"6%\", \"25%\", \"0%\", \"0%\", \"37%\", \"36%\", \"37%\", \"23%\", \"0%\", \"0%\", \"0%\", \"34%\", \"0%\", \"40%\", \"37%\", \"25%\", \"34%\", \"33%\", \"28%\", \"31%\", \"36%\", \"33%\", \"27%\", \"38%\", \"34%\", \"\"]}],\n",
       "                        {\"legend\": {\"bgcolor\": \"#F5F6F9\", \"font\": {\"color\": \"#4D5663\"}}, \"paper_bgcolor\": \"#F5F6F9\", \"plot_bgcolor\": \"#F5F6F9\", \"template\": {\"data\": {\"bar\": [{\"error_x\": {\"color\": \"#2a3f5f\"}, \"error_y\": {\"color\": \"#2a3f5f\"}, \"marker\": {\"line\": {\"color\": \"#E5ECF6\", \"width\": 0.5}}, \"type\": \"bar\"}], \"barpolar\": [{\"marker\": {\"line\": {\"color\": \"#E5ECF6\", \"width\": 0.5}}, \"type\": \"barpolar\"}], \"carpet\": [{\"aaxis\": {\"endlinecolor\": \"#2a3f5f\", \"gridcolor\": \"white\", \"linecolor\": \"white\", \"minorgridcolor\": \"white\", \"startlinecolor\": \"#2a3f5f\"}, \"baxis\": {\"endlinecolor\": \"#2a3f5f\", \"gridcolor\": \"white\", \"linecolor\": \"white\", \"minorgridcolor\": \"white\", \"startlinecolor\": \"#2a3f5f\"}, \"type\": \"carpet\"}], \"choropleth\": [{\"colorbar\": {\"outlinewidth\": 0, \"ticks\": \"\"}, \"type\": \"choropleth\"}], \"contour\": [{\"colorbar\": {\"outlinewidth\": 0, \"ticks\": \"\"}, \"colorscale\": [[0.0, \"#0d0887\"], [0.1111111111111111, \"#46039f\"], [0.2222222222222222, \"#7201a8\"], [0.3333333333333333, \"#9c179e\"], [0.4444444444444444, \"#bd3786\"], [0.5555555555555556, \"#d8576b\"], [0.6666666666666666, \"#ed7953\"], [0.7777777777777778, \"#fb9f3a\"], [0.8888888888888888, \"#fdca26\"], [1.0, \"#f0f921\"]], \"type\": \"contour\"}], \"contourcarpet\": [{\"colorbar\": {\"outlinewidth\": 0, \"ticks\": \"\"}, \"type\": \"contourcarpet\"}], \"heatmap\": [{\"colorbar\": {\"outlinewidth\": 0, \"ticks\": \"\"}, \"colorscale\": [[0.0, \"#0d0887\"], [0.1111111111111111, \"#46039f\"], [0.2222222222222222, \"#7201a8\"], [0.3333333333333333, \"#9c179e\"], [0.4444444444444444, \"#bd3786\"], [0.5555555555555556, \"#d8576b\"], [0.6666666666666666, \"#ed7953\"], [0.7777777777777778, \"#fb9f3a\"], [0.8888888888888888, \"#fdca26\"], [1.0, \"#f0f921\"]], \"type\": \"heatmap\"}], \"heatmapgl\": [{\"colorbar\": {\"outlinewidth\": 0, \"ticks\": \"\"}, \"colorscale\": [[0.0, \"#0d0887\"], [0.1111111111111111, \"#46039f\"], [0.2222222222222222, \"#7201a8\"], [0.3333333333333333, \"#9c179e\"], [0.4444444444444444, \"#bd3786\"], [0.5555555555555556, \"#d8576b\"], [0.6666666666666666, \"#ed7953\"], [0.7777777777777778, \"#fb9f3a\"], [0.8888888888888888, \"#fdca26\"], [1.0, \"#f0f921\"]], \"type\": \"heatmapgl\"}], \"histogram\": [{\"marker\": {\"colorbar\": {\"outlinewidth\": 0, \"ticks\": \"\"}}, \"type\": \"histogram\"}], \"histogram2d\": [{\"colorbar\": {\"outlinewidth\": 0, \"ticks\": \"\"}, \"colorscale\": [[0.0, \"#0d0887\"], [0.1111111111111111, \"#46039f\"], [0.2222222222222222, \"#7201a8\"], [0.3333333333333333, \"#9c179e\"], [0.4444444444444444, \"#bd3786\"], [0.5555555555555556, \"#d8576b\"], [0.6666666666666666, \"#ed7953\"], [0.7777777777777778, \"#fb9f3a\"], [0.8888888888888888, \"#fdca26\"], [1.0, \"#f0f921\"]], \"type\": \"histogram2d\"}], \"histogram2dcontour\": [{\"colorbar\": {\"outlinewidth\": 0, \"ticks\": \"\"}, \"colorscale\": [[0.0, \"#0d0887\"], [0.1111111111111111, \"#46039f\"], [0.2222222222222222, \"#7201a8\"], [0.3333333333333333, \"#9c179e\"], [0.4444444444444444, \"#bd3786\"], [0.5555555555555556, \"#d8576b\"], [0.6666666666666666, \"#ed7953\"], [0.7777777777777778, \"#fb9f3a\"], [0.8888888888888888, \"#fdca26\"], [1.0, \"#f0f921\"]], \"type\": \"histogram2dcontour\"}], \"mesh3d\": [{\"colorbar\": {\"outlinewidth\": 0, \"ticks\": \"\"}, \"type\": \"mesh3d\"}], \"parcoords\": [{\"line\": {\"colorbar\": {\"outlinewidth\": 0, \"ticks\": \"\"}}, \"type\": \"parcoords\"}], \"pie\": [{\"automargin\": true, \"type\": \"pie\"}], \"scatter\": [{\"marker\": {\"colorbar\": {\"outlinewidth\": 0, \"ticks\": \"\"}}, \"type\": \"scatter\"}], \"scatter3d\": [{\"line\": {\"colorbar\": {\"outlinewidth\": 0, \"ticks\": \"\"}}, \"marker\": {\"colorbar\": {\"outlinewidth\": 0, \"ticks\": \"\"}}, \"type\": \"scatter3d\"}], \"scattercarpet\": [{\"marker\": {\"colorbar\": {\"outlinewidth\": 0, \"ticks\": \"\"}}, \"type\": \"scattercarpet\"}], \"scattergeo\": [{\"marker\": {\"colorbar\": {\"outlinewidth\": 0, \"ticks\": \"\"}}, \"type\": \"scattergeo\"}], \"scattergl\": [{\"marker\": {\"colorbar\": {\"outlinewidth\": 0, \"ticks\": \"\"}}, \"type\": \"scattergl\"}], \"scattermapbox\": [{\"marker\": {\"colorbar\": {\"outlinewidth\": 0, \"ticks\": \"\"}}, \"type\": \"scattermapbox\"}], \"scatterpolar\": [{\"marker\": {\"colorbar\": {\"outlinewidth\": 0, \"ticks\": \"\"}}, \"type\": \"scatterpolar\"}], \"scatterpolargl\": [{\"marker\": {\"colorbar\": {\"outlinewidth\": 0, \"ticks\": \"\"}}, \"type\": \"scatterpolargl\"}], \"scatterternary\": [{\"marker\": {\"colorbar\": {\"outlinewidth\": 0, \"ticks\": \"\"}}, \"type\": \"scatterternary\"}], \"surface\": [{\"colorbar\": {\"outlinewidth\": 0, \"ticks\": \"\"}, \"colorscale\": [[0.0, \"#0d0887\"], [0.1111111111111111, \"#46039f\"], [0.2222222222222222, \"#7201a8\"], [0.3333333333333333, \"#9c179e\"], [0.4444444444444444, \"#bd3786\"], [0.5555555555555556, \"#d8576b\"], [0.6666666666666666, \"#ed7953\"], [0.7777777777777778, \"#fb9f3a\"], [0.8888888888888888, \"#fdca26\"], [1.0, \"#f0f921\"]], \"type\": \"surface\"}], \"table\": [{\"cells\": {\"fill\": {\"color\": \"#EBF0F8\"}, \"line\": {\"color\": \"white\"}}, \"header\": {\"fill\": {\"color\": \"#C8D4E3\"}, \"line\": {\"color\": \"white\"}}, \"type\": \"table\"}]}, \"layout\": {\"annotationdefaults\": {\"arrowcolor\": \"#2a3f5f\", \"arrowhead\": 0, \"arrowwidth\": 1}, \"coloraxis\": {\"colorbar\": {\"outlinewidth\": 0, \"ticks\": \"\"}}, \"colorscale\": {\"diverging\": [[0, \"#8e0152\"], [0.1, \"#c51b7d\"], [0.2, \"#de77ae\"], [0.3, \"#f1b6da\"], [0.4, \"#fde0ef\"], [0.5, \"#f7f7f7\"], [0.6, \"#e6f5d0\"], [0.7, \"#b8e186\"], [0.8, \"#7fbc41\"], [0.9, \"#4d9221\"], [1, \"#276419\"]], \"sequential\": [[0.0, \"#0d0887\"], [0.1111111111111111, \"#46039f\"], [0.2222222222222222, \"#7201a8\"], [0.3333333333333333, \"#9c179e\"], [0.4444444444444444, \"#bd3786\"], [0.5555555555555556, \"#d8576b\"], [0.6666666666666666, \"#ed7953\"], [0.7777777777777778, \"#fb9f3a\"], [0.8888888888888888, \"#fdca26\"], [1.0, \"#f0f921\"]], \"sequentialminus\": [[0.0, \"#0d0887\"], [0.1111111111111111, \"#46039f\"], [0.2222222222222222, \"#7201a8\"], [0.3333333333333333, \"#9c179e\"], [0.4444444444444444, \"#bd3786\"], [0.5555555555555556, \"#d8576b\"], [0.6666666666666666, \"#ed7953\"], [0.7777777777777778, \"#fb9f3a\"], [0.8888888888888888, \"#fdca26\"], [1.0, \"#f0f921\"]]}, \"colorway\": [\"#636efa\", \"#EF553B\", \"#00cc96\", \"#ab63fa\", \"#FFA15A\", \"#19d3f3\", \"#FF6692\", \"#B6E880\", \"#FF97FF\", \"#FECB52\"], \"font\": {\"color\": \"#2a3f5f\"}, \"geo\": {\"bgcolor\": \"white\", \"lakecolor\": \"white\", \"landcolor\": \"#E5ECF6\", \"showlakes\": true, \"showland\": true, \"subunitcolor\": \"white\"}, \"hoverlabel\": {\"align\": \"left\"}, \"hovermode\": \"closest\", \"mapbox\": {\"style\": \"light\"}, \"paper_bgcolor\": \"white\", \"plot_bgcolor\": \"#E5ECF6\", \"polar\": {\"angularaxis\": {\"gridcolor\": \"white\", \"linecolor\": \"white\", \"ticks\": \"\"}, \"bgcolor\": \"#E5ECF6\", \"radialaxis\": {\"gridcolor\": \"white\", \"linecolor\": \"white\", \"ticks\": \"\"}}, \"scene\": {\"xaxis\": {\"backgroundcolor\": \"#E5ECF6\", \"gridcolor\": \"white\", \"gridwidth\": 2, \"linecolor\": \"white\", \"showbackground\": true, \"ticks\": \"\", \"zerolinecolor\": \"white\"}, \"yaxis\": {\"backgroundcolor\": \"#E5ECF6\", \"gridcolor\": \"white\", \"gridwidth\": 2, \"linecolor\": \"white\", \"showbackground\": true, \"ticks\": \"\", \"zerolinecolor\": \"white\"}, \"zaxis\": {\"backgroundcolor\": \"#E5ECF6\", \"gridcolor\": \"white\", \"gridwidth\": 2, \"linecolor\": \"white\", \"showbackground\": true, \"ticks\": \"\", \"zerolinecolor\": \"white\"}}, \"shapedefaults\": {\"line\": {\"color\": \"#2a3f5f\"}}, \"ternary\": {\"aaxis\": {\"gridcolor\": \"white\", \"linecolor\": \"white\", \"ticks\": \"\"}, \"baxis\": {\"gridcolor\": \"white\", \"linecolor\": \"white\", \"ticks\": \"\"}, \"bgcolor\": \"#E5ECF6\", \"caxis\": {\"gridcolor\": \"white\", \"linecolor\": \"white\", \"ticks\": \"\"}}, \"title\": {\"x\": 0.05}, \"xaxis\": {\"automargin\": true, \"gridcolor\": \"white\", \"linecolor\": \"white\", \"ticks\": \"\", \"title\": {\"standoff\": 15}, \"zerolinecolor\": \"white\", \"zerolinewidth\": 2}, \"yaxis\": {\"automargin\": true, \"gridcolor\": \"white\", \"linecolor\": \"white\", \"ticks\": \"\", \"title\": {\"standoff\": 15}, \"zerolinecolor\": \"white\", \"zerolinewidth\": 2}}}, \"title\": {\"font\": {\"color\": \"#4D5663\"}, \"text\": \"Wing Back - Support\"}, \"xaxis\": {\"gridcolor\": \"#E1E5ED\", \"showgrid\": true, \"tickfont\": {\"color\": \"#4D5663\"}, \"title\": {\"font\": {\"color\": \"#4D5663\"}, \"text\": \"Dribbles/90\"}, \"zerolinecolor\": \"#E1E5ED\"}, \"yaxis\": {\"gridcolor\": \"#E1E5ED\", \"showgrid\": true, \"tickfont\": {\"color\": \"#4D5663\"}, \"title\": {\"font\": {\"color\": \"#4D5663\"}, \"text\": \"Cross Completion %\"}, \"zerolinecolor\": \"#E1E5ED\"}},\n",
       "                        {\"showLink\": true, \"linkText\": \"Export to plot.ly\", \"plotlyServerURL\": \"https://plot.ly\", \"responsive\": true}\n",
       "                    ).then(function(){\n",
       "                            \n",
       "var gd = document.getElementById('ed4f9762-2371-4bcd-af51-cd10240096a9');\n",
       "var x = new MutationObserver(function (mutations, observer) {{\n",
       "        var display = window.getComputedStyle(gd).display;\n",
       "        if (!display || display === 'none') {{\n",
       "            console.log([gd, 'removed!']);\n",
       "            Plotly.purge(gd);\n",
       "            observer.disconnect();\n",
       "        }}\n",
       "}});\n",
       "\n",
       "// Listen for the removal of the full notebook cells\n",
       "var notebookContainer = gd.closest('#notebook-container');\n",
       "if (notebookContainer) {{\n",
       "    x.observe(notebookContainer, {childList: true});\n",
       "}}\n",
       "\n",
       "// Listen for the clearing of the current output cell\n",
       "var outputEl = gd.closest('.output');\n",
       "if (outputEl) {{\n",
       "    x.observe(outputEl, {childList: true});\n",
       "}}\n",
       "\n",
       "                        })\n",
       "                };\n",
       "                });\n",
       "            </script>\n",
       "        </div>"
      ]
     },
     "metadata": {},
     "output_type": "display_data"
    }
   ],
   "source": [
    "df1.iplot(kind='scatter',x='DrbPG',y='Cr C/A',\n",
    "           mode='markers',text='Name',size=10,\n",
    "          xTitle='Dribbles/90',yTitle='Cross Completion %',title='Wing Back - Support')  "
   ]
  },
  {
   "cell_type": "code",
   "execution_count": 12,
   "metadata": {},
   "outputs": [
    {
     "name": "stdout",
     "output_type": "stream",
     "text": [
      "Central Defender\n"
     ]
    },
    {
     "data": {
      "text/html": [
       "<style  type=\"text/css\" >\n",
       "    #T_e024f7c0_91d2_11ea_a264_4ceb428e4071row0_col1 {\n",
       "            background-color:  #2070b4;\n",
       "            color:  #f1f1f1;\n",
       "        }    #T_e024f7c0_91d2_11ea_a264_4ceb428e4071row0_col2 {\n",
       "            background-color:  #94c4df;\n",
       "            color:  #000000;\n",
       "        }    #T_e024f7c0_91d2_11ea_a264_4ceb428e4071row0_col3 {\n",
       "            background-color:  #6aaed6;\n",
       "            color:  #000000;\n",
       "        }    #T_e024f7c0_91d2_11ea_a264_4ceb428e4071row0_col4 {\n",
       "            background-color:  #94c4df;\n",
       "            color:  #000000;\n",
       "        }    #T_e024f7c0_91d2_11ea_a264_4ceb428e4071row0_col5 {\n",
       "            background-color:  #f7fbff;\n",
       "            color:  #000000;\n",
       "        }    #T_e024f7c0_91d2_11ea_a264_4ceb428e4071row0_col6 {\n",
       "            background-color:  #08306b;\n",
       "            color:  #f1f1f1;\n",
       "        }    #T_e024f7c0_91d2_11ea_a264_4ceb428e4071row0_col7 {\n",
       "            background-color:  #6aaed6;\n",
       "            color:  #000000;\n",
       "        }    #T_e024f7c0_91d2_11ea_a264_4ceb428e4071row0_col8 {\n",
       "            background-color:  #08306b;\n",
       "            color:  #f1f1f1;\n",
       "        }    #T_e024f7c0_91d2_11ea_a264_4ceb428e4071row1_col1 {\n",
       "            background-color:  #6aaed6;\n",
       "            color:  #000000;\n",
       "        }    #T_e024f7c0_91d2_11ea_a264_4ceb428e4071row1_col2 {\n",
       "            background-color:  #94c4df;\n",
       "            color:  #000000;\n",
       "        }    #T_e024f7c0_91d2_11ea_a264_4ceb428e4071row1_col3 {\n",
       "            background-color:  #6aaed6;\n",
       "            color:  #000000;\n",
       "        }    #T_e024f7c0_91d2_11ea_a264_4ceb428e4071row1_col4 {\n",
       "            background-color:  #f7fbff;\n",
       "            color:  #000000;\n",
       "        }    #T_e024f7c0_91d2_11ea_a264_4ceb428e4071row1_col5 {\n",
       "            background-color:  #abd0e6;\n",
       "            color:  #000000;\n",
       "        }    #T_e024f7c0_91d2_11ea_a264_4ceb428e4071row1_col6 {\n",
       "            background-color:  #08306b;\n",
       "            color:  #f1f1f1;\n",
       "        }    #T_e024f7c0_91d2_11ea_a264_4ceb428e4071row1_col7 {\n",
       "            background-color:  #6aaed6;\n",
       "            color:  #000000;\n",
       "        }    #T_e024f7c0_91d2_11ea_a264_4ceb428e4071row1_col8 {\n",
       "            background-color:  #1764ab;\n",
       "            color:  #f1f1f1;\n",
       "        }    #T_e024f7c0_91d2_11ea_a264_4ceb428e4071row2_col1 {\n",
       "            background-color:  #f7fbff;\n",
       "            color:  #000000;\n",
       "        }    #T_e024f7c0_91d2_11ea_a264_4ceb428e4071row2_col2 {\n",
       "            background-color:  #f7fbff;\n",
       "            color:  #000000;\n",
       "        }    #T_e024f7c0_91d2_11ea_a264_4ceb428e4071row2_col3 {\n",
       "            background-color:  #08306b;\n",
       "            color:  #f1f1f1;\n",
       "        }    #T_e024f7c0_91d2_11ea_a264_4ceb428e4071row2_col4 {\n",
       "            background-color:  #08306b;\n",
       "            color:  #f1f1f1;\n",
       "        }    #T_e024f7c0_91d2_11ea_a264_4ceb428e4071row2_col5 {\n",
       "            background-color:  #abd0e6;\n",
       "            color:  #000000;\n",
       "        }    #T_e024f7c0_91d2_11ea_a264_4ceb428e4071row2_col6 {\n",
       "            background-color:  #89bedc;\n",
       "            color:  #000000;\n",
       "        }    #T_e024f7c0_91d2_11ea_a264_4ceb428e4071row2_col7 {\n",
       "            background-color:  #f7fbff;\n",
       "            color:  #000000;\n",
       "        }    #T_e024f7c0_91d2_11ea_a264_4ceb428e4071row2_col8 {\n",
       "            background-color:  #4a98c9;\n",
       "            color:  #000000;\n",
       "        }    #T_e024f7c0_91d2_11ea_a264_4ceb428e4071row3_col1 {\n",
       "            background-color:  #f7fbff;\n",
       "            color:  #000000;\n",
       "        }    #T_e024f7c0_91d2_11ea_a264_4ceb428e4071row3_col2 {\n",
       "            background-color:  #08306b;\n",
       "            color:  #f1f1f1;\n",
       "        }    #T_e024f7c0_91d2_11ea_a264_4ceb428e4071row3_col3 {\n",
       "            background-color:  #f7fbff;\n",
       "            color:  #000000;\n",
       "        }    #T_e024f7c0_91d2_11ea_a264_4ceb428e4071row3_col4 {\n",
       "            background-color:  #f7fbff;\n",
       "            color:  #000000;\n",
       "        }    #T_e024f7c0_91d2_11ea_a264_4ceb428e4071row3_col5 {\n",
       "            background-color:  #08306b;\n",
       "            color:  #f1f1f1;\n",
       "        }    #T_e024f7c0_91d2_11ea_a264_4ceb428e4071row3_col6 {\n",
       "            background-color:  #bad6eb;\n",
       "            color:  #000000;\n",
       "        }    #T_e024f7c0_91d2_11ea_a264_4ceb428e4071row3_col7 {\n",
       "            background-color:  #6aaed6;\n",
       "            color:  #000000;\n",
       "        }    #T_e024f7c0_91d2_11ea_a264_4ceb428e4071row3_col8 {\n",
       "            background-color:  #4a98c9;\n",
       "            color:  #000000;\n",
       "        }    #T_e024f7c0_91d2_11ea_a264_4ceb428e4071row4_col1 {\n",
       "            background-color:  #08306b;\n",
       "            color:  #f1f1f1;\n",
       "        }    #T_e024f7c0_91d2_11ea_a264_4ceb428e4071row4_col2 {\n",
       "            background-color:  #94c4df;\n",
       "            color:  #000000;\n",
       "        }    #T_e024f7c0_91d2_11ea_a264_4ceb428e4071row4_col3 {\n",
       "            background-color:  #08306b;\n",
       "            color:  #f1f1f1;\n",
       "        }    #T_e024f7c0_91d2_11ea_a264_4ceb428e4071row4_col4 {\n",
       "            background-color:  #d0e1f2;\n",
       "            color:  #000000;\n",
       "        }    #T_e024f7c0_91d2_11ea_a264_4ceb428e4071row4_col5 {\n",
       "            background-color:  #3787c0;\n",
       "            color:  #000000;\n",
       "        }    #T_e024f7c0_91d2_11ea_a264_4ceb428e4071row4_col6 {\n",
       "            background-color:  #89bedc;\n",
       "            color:  #000000;\n",
       "        }    #T_e024f7c0_91d2_11ea_a264_4ceb428e4071row4_col7 {\n",
       "            background-color:  #6aaed6;\n",
       "            color:  #000000;\n",
       "        }    #T_e024f7c0_91d2_11ea_a264_4ceb428e4071row4_col8 {\n",
       "            background-color:  #4a98c9;\n",
       "            color:  #000000;\n",
       "        }    #T_e024f7c0_91d2_11ea_a264_4ceb428e4071row5_col1 {\n",
       "            background-color:  #6aaed6;\n",
       "            color:  #000000;\n",
       "        }    #T_e024f7c0_91d2_11ea_a264_4ceb428e4071row5_col2 {\n",
       "            background-color:  #4a98c9;\n",
       "            color:  #000000;\n",
       "        }    #T_e024f7c0_91d2_11ea_a264_4ceb428e4071row5_col3 {\n",
       "            background-color:  #6aaed6;\n",
       "            color:  #000000;\n",
       "        }    #T_e024f7c0_91d2_11ea_a264_4ceb428e4071row5_col4 {\n",
       "            background-color:  #d0e1f2;\n",
       "            color:  #000000;\n",
       "        }    #T_e024f7c0_91d2_11ea_a264_4ceb428e4071row5_col5 {\n",
       "            background-color:  #abd0e6;\n",
       "            color:  #000000;\n",
       "        }    #T_e024f7c0_91d2_11ea_a264_4ceb428e4071row5_col6 {\n",
       "            background-color:  #89bedc;\n",
       "            color:  #000000;\n",
       "        }    #T_e024f7c0_91d2_11ea_a264_4ceb428e4071row5_col7 {\n",
       "            background-color:  #6aaed6;\n",
       "            color:  #000000;\n",
       "        }    #T_e024f7c0_91d2_11ea_a264_4ceb428e4071row5_col8 {\n",
       "            background-color:  #94c4df;\n",
       "            color:  #000000;\n",
       "        }    #T_e024f7c0_91d2_11ea_a264_4ceb428e4071row6_col1 {\n",
       "            background-color:  #c6dbef;\n",
       "            color:  #000000;\n",
       "        }    #T_e024f7c0_91d2_11ea_a264_4ceb428e4071row6_col2 {\n",
       "            background-color:  #f7fbff;\n",
       "            color:  #000000;\n",
       "        }    #T_e024f7c0_91d2_11ea_a264_4ceb428e4071row6_col3 {\n",
       "            background-color:  #6aaed6;\n",
       "            color:  #000000;\n",
       "        }    #T_e024f7c0_91d2_11ea_a264_4ceb428e4071row6_col4 {\n",
       "            background-color:  #d0e1f2;\n",
       "            color:  #000000;\n",
       "        }    #T_e024f7c0_91d2_11ea_a264_4ceb428e4071row6_col5 {\n",
       "            background-color:  #3787c0;\n",
       "            color:  #000000;\n",
       "        }    #T_e024f7c0_91d2_11ea_a264_4ceb428e4071row6_col6 {\n",
       "            background-color:  #2b7bba;\n",
       "            color:  #000000;\n",
       "        }    #T_e024f7c0_91d2_11ea_a264_4ceb428e4071row6_col7 {\n",
       "            background-color:  #6aaed6;\n",
       "            color:  #000000;\n",
       "        }    #T_e024f7c0_91d2_11ea_a264_4ceb428e4071row6_col8 {\n",
       "            background-color:  #94c4df;\n",
       "            color:  #000000;\n",
       "        }    #T_e024f7c0_91d2_11ea_a264_4ceb428e4071row7_col1 {\n",
       "            background-color:  #6aaed6;\n",
       "            color:  #000000;\n",
       "        }    #T_e024f7c0_91d2_11ea_a264_4ceb428e4071row7_col2 {\n",
       "            background-color:  #4a98c9;\n",
       "            color:  #000000;\n",
       "        }    #T_e024f7c0_91d2_11ea_a264_4ceb428e4071row7_col3 {\n",
       "            background-color:  #f7fbff;\n",
       "            color:  #000000;\n",
       "        }    #T_e024f7c0_91d2_11ea_a264_4ceb428e4071row7_col4 {\n",
       "            background-color:  #94c4df;\n",
       "            color:  #000000;\n",
       "        }    #T_e024f7c0_91d2_11ea_a264_4ceb428e4071row7_col5 {\n",
       "            background-color:  #3787c0;\n",
       "            color:  #000000;\n",
       "        }    #T_e024f7c0_91d2_11ea_a264_4ceb428e4071row7_col6 {\n",
       "            background-color:  #f7fbff;\n",
       "            color:  #000000;\n",
       "        }    #T_e024f7c0_91d2_11ea_a264_4ceb428e4071row7_col7 {\n",
       "            background-color:  #08306b;\n",
       "            color:  #f1f1f1;\n",
       "        }    #T_e024f7c0_91d2_11ea_a264_4ceb428e4071row7_col8 {\n",
       "            background-color:  #d0e1f2;\n",
       "            color:  #000000;\n",
       "        }    #T_e024f7c0_91d2_11ea_a264_4ceb428e4071row8_col1 {\n",
       "            background-color:  #2070b4;\n",
       "            color:  #f1f1f1;\n",
       "        }    #T_e024f7c0_91d2_11ea_a264_4ceb428e4071row8_col2 {\n",
       "            background-color:  #4a98c9;\n",
       "            color:  #000000;\n",
       "        }    #T_e024f7c0_91d2_11ea_a264_4ceb428e4071row8_col3 {\n",
       "            background-color:  #f7fbff;\n",
       "            color:  #000000;\n",
       "        }    #T_e024f7c0_91d2_11ea_a264_4ceb428e4071row8_col4 {\n",
       "            background-color:  #f7fbff;\n",
       "            color:  #000000;\n",
       "        }    #T_e024f7c0_91d2_11ea_a264_4ceb428e4071row8_col5 {\n",
       "            background-color:  #3787c0;\n",
       "            color:  #000000;\n",
       "        }    #T_e024f7c0_91d2_11ea_a264_4ceb428e4071row8_col6 {\n",
       "            background-color:  #89bedc;\n",
       "            color:  #000000;\n",
       "        }    #T_e024f7c0_91d2_11ea_a264_4ceb428e4071row8_col7 {\n",
       "            background-color:  #f7fbff;\n",
       "            color:  #000000;\n",
       "        }    #T_e024f7c0_91d2_11ea_a264_4ceb428e4071row8_col8 {\n",
       "            background-color:  #f7fbff;\n",
       "            color:  #000000;\n",
       "        }    #T_e024f7c0_91d2_11ea_a264_4ceb428e4071row9_col1 {\n",
       "            background-color:  #f7fbff;\n",
       "            color:  #000000;\n",
       "        }    #T_e024f7c0_91d2_11ea_a264_4ceb428e4071row9_col2 {\n",
       "            background-color:  #94c4df;\n",
       "            color:  #000000;\n",
       "        }    #T_e024f7c0_91d2_11ea_a264_4ceb428e4071row9_col3 {\n",
       "            background-color:  #f7fbff;\n",
       "            color:  #000000;\n",
       "        }    #T_e024f7c0_91d2_11ea_a264_4ceb428e4071row9_col4 {\n",
       "            background-color:  #f7fbff;\n",
       "            color:  #000000;\n",
       "        }    #T_e024f7c0_91d2_11ea_a264_4ceb428e4071row9_col5 {\n",
       "            background-color:  #3787c0;\n",
       "            color:  #000000;\n",
       "        }    #T_e024f7c0_91d2_11ea_a264_4ceb428e4071row9_col6 {\n",
       "            background-color:  #539ecd;\n",
       "            color:  #000000;\n",
       "        }    #T_e024f7c0_91d2_11ea_a264_4ceb428e4071row9_col7 {\n",
       "            background-color:  #f7fbff;\n",
       "            color:  #000000;\n",
       "        }    #T_e024f7c0_91d2_11ea_a264_4ceb428e4071row9_col8 {\n",
       "            background-color:  #f7fbff;\n",
       "            color:  #000000;\n",
       "        }</style><table id=\"T_e024f7c0_91d2_11ea_a264_4ceb428e4071\" ><thead>    <tr>        <th class=\"col_heading level0 col0\" >Name</th>        <th class=\"col_heading level0 col1\" >Age</th>        <th class=\"col_heading level0 col2\" >Hea</th>        <th class=\"col_heading level0 col3\" >Mar</th>        <th class=\"col_heading level0 col4\" >Tck</th>        <th class=\"col_heading level0 col5\" >Pos</th>        <th class=\"col_heading level0 col6\" >Jum</th>        <th class=\"col_heading level0 col7\" >Str</th>        <th class=\"col_heading level0 col8\" >cd_score</th>    </tr></thead><tbody>\n",
       "                <tr>\n",
       "                                <td id=\"T_e024f7c0_91d2_11ea_a264_4ceb428e4071row0_col0\" class=\"data row0 col0\" >Yann-Aurel Bisseck</td>\n",
       "                        <td id=\"T_e024f7c0_91d2_11ea_a264_4ceb428e4071row0_col1\" class=\"data row0 col1\" >                  22</td>\n",
       "                        <td id=\"T_e024f7c0_91d2_11ea_a264_4ceb428e4071row0_col2\" class=\"data row0 col2\" >12</td>\n",
       "                        <td id=\"T_e024f7c0_91d2_11ea_a264_4ceb428e4071row0_col3\" class=\"data row0 col3\" >13</td>\n",
       "                        <td id=\"T_e024f7c0_91d2_11ea_a264_4ceb428e4071row0_col4\" class=\"data row0 col4\" >14</td>\n",
       "                        <td id=\"T_e024f7c0_91d2_11ea_a264_4ceb428e4071row0_col5\" class=\"data row0 col5\" >11</td>\n",
       "                        <td id=\"T_e024f7c0_91d2_11ea_a264_4ceb428e4071row0_col6\" class=\"data row0 col6\" >18</td>\n",
       "                        <td id=\"T_e024f7c0_91d2_11ea_a264_4ceb428e4071row0_col7\" class=\"data row0 col7\" >13</td>\n",
       "                        <td id=\"T_e024f7c0_91d2_11ea_a264_4ceb428e4071row0_col8\" class=\"data row0 col8\" >81</td>\n",
       "            </tr>\n",
       "            <tr>\n",
       "                                <td id=\"T_e024f7c0_91d2_11ea_a264_4ceb428e4071row1_col0\" class=\"data row1 col0\" >Yuri Sprandel Flores</td>\n",
       "                        <td id=\"T_e024f7c0_91d2_11ea_a264_4ceb428e4071row1_col1\" class=\"data row1 col1\" >                  21</td>\n",
       "                        <td id=\"T_e024f7c0_91d2_11ea_a264_4ceb428e4071row1_col2\" class=\"data row1 col2\" >12</td>\n",
       "                        <td id=\"T_e024f7c0_91d2_11ea_a264_4ceb428e4071row1_col3\" class=\"data row1 col3\" >13</td>\n",
       "                        <td id=\"T_e024f7c0_91d2_11ea_a264_4ceb428e4071row1_col4\" class=\"data row1 col4\" >12</td>\n",
       "                        <td id=\"T_e024f7c0_91d2_11ea_a264_4ceb428e4071row1_col5\" class=\"data row1 col5\" >12</td>\n",
       "                        <td id=\"T_e024f7c0_91d2_11ea_a264_4ceb428e4071row1_col6\" class=\"data row1 col6\" >18</td>\n",
       "                        <td id=\"T_e024f7c0_91d2_11ea_a264_4ceb428e4071row1_col7\" class=\"data row1 col7\" >13</td>\n",
       "                        <td id=\"T_e024f7c0_91d2_11ea_a264_4ceb428e4071row1_col8\" class=\"data row1 col8\" >80</td>\n",
       "            </tr>\n",
       "            <tr>\n",
       "                                <td id=\"T_e024f7c0_91d2_11ea_a264_4ceb428e4071row2_col0\" class=\"data row2 col0\" >Casper Elderman</td>\n",
       "                        <td id=\"T_e024f7c0_91d2_11ea_a264_4ceb428e4071row2_col1\" class=\"data row2 col1\" >                  19</td>\n",
       "                        <td id=\"T_e024f7c0_91d2_11ea_a264_4ceb428e4071row2_col2\" class=\"data row2 col2\" >10</td>\n",
       "                        <td id=\"T_e024f7c0_91d2_11ea_a264_4ceb428e4071row2_col3\" class=\"data row2 col3\" >14</td>\n",
       "                        <td id=\"T_e024f7c0_91d2_11ea_a264_4ceb428e4071row2_col4\" class=\"data row2 col4\" >17</td>\n",
       "                        <td id=\"T_e024f7c0_91d2_11ea_a264_4ceb428e4071row2_col5\" class=\"data row2 col5\" >12</td>\n",
       "                        <td id=\"T_e024f7c0_91d2_11ea_a264_4ceb428e4071row2_col6\" class=\"data row2 col6\" >14</td>\n",
       "                        <td id=\"T_e024f7c0_91d2_11ea_a264_4ceb428e4071row2_col7\" class=\"data row2 col7\" >12</td>\n",
       "                        <td id=\"T_e024f7c0_91d2_11ea_a264_4ceb428e4071row2_col8\" class=\"data row2 col8\" >79</td>\n",
       "            </tr>\n",
       "            <tr>\n",
       "                                <td id=\"T_e024f7c0_91d2_11ea_a264_4ceb428e4071row3_col0\" class=\"data row3 col0\" >Stefan Despotovski</td>\n",
       "                        <td id=\"T_e024f7c0_91d2_11ea_a264_4ceb428e4071row3_col1\" class=\"data row3 col1\" >                  19</td>\n",
       "                        <td id=\"T_e024f7c0_91d2_11ea_a264_4ceb428e4071row3_col2\" class=\"data row3 col2\" >15</td>\n",
       "                        <td id=\"T_e024f7c0_91d2_11ea_a264_4ceb428e4071row3_col3\" class=\"data row3 col3\" >12</td>\n",
       "                        <td id=\"T_e024f7c0_91d2_11ea_a264_4ceb428e4071row3_col4\" class=\"data row3 col4\" >12</td>\n",
       "                        <td id=\"T_e024f7c0_91d2_11ea_a264_4ceb428e4071row3_col5\" class=\"data row3 col5\" >14</td>\n",
       "                        <td id=\"T_e024f7c0_91d2_11ea_a264_4ceb428e4071row3_col6\" class=\"data row3 col6\" >13</td>\n",
       "                        <td id=\"T_e024f7c0_91d2_11ea_a264_4ceb428e4071row3_col7\" class=\"data row3 col7\" >13</td>\n",
       "                        <td id=\"T_e024f7c0_91d2_11ea_a264_4ceb428e4071row3_col8\" class=\"data row3 col8\" >79</td>\n",
       "            </tr>\n",
       "            <tr>\n",
       "                                <td id=\"T_e024f7c0_91d2_11ea_a264_4ceb428e4071row4_col0\" class=\"data row4 col0\" >Jan Sobocinski</td>\n",
       "                        <td id=\"T_e024f7c0_91d2_11ea_a264_4ceb428e4071row4_col1\" class=\"data row4 col1\" >                  23</td>\n",
       "                        <td id=\"T_e024f7c0_91d2_11ea_a264_4ceb428e4071row4_col2\" class=\"data row4 col2\" >12</td>\n",
       "                        <td id=\"T_e024f7c0_91d2_11ea_a264_4ceb428e4071row4_col3\" class=\"data row4 col3\" >14</td>\n",
       "                        <td id=\"T_e024f7c0_91d2_11ea_a264_4ceb428e4071row4_col4\" class=\"data row4 col4\" >13</td>\n",
       "                        <td id=\"T_e024f7c0_91d2_11ea_a264_4ceb428e4071row4_col5\" class=\"data row4 col5\" >13</td>\n",
       "                        <td id=\"T_e024f7c0_91d2_11ea_a264_4ceb428e4071row4_col6\" class=\"data row4 col6\" >14</td>\n",
       "                        <td id=\"T_e024f7c0_91d2_11ea_a264_4ceb428e4071row4_col7\" class=\"data row4 col7\" >13</td>\n",
       "                        <td id=\"T_e024f7c0_91d2_11ea_a264_4ceb428e4071row4_col8\" class=\"data row4 col8\" >79</td>\n",
       "            </tr>\n",
       "            <tr>\n",
       "                                <td id=\"T_e024f7c0_91d2_11ea_a264_4ceb428e4071row5_col0\" class=\"data row5 col0\" >Wojciech Kaminski</td>\n",
       "                        <td id=\"T_e024f7c0_91d2_11ea_a264_4ceb428e4071row5_col1\" class=\"data row5 col1\" >                  21</td>\n",
       "                        <td id=\"T_e024f7c0_91d2_11ea_a264_4ceb428e4071row5_col2\" class=\"data row5 col2\" >13</td>\n",
       "                        <td id=\"T_e024f7c0_91d2_11ea_a264_4ceb428e4071row5_col3\" class=\"data row5 col3\" >13</td>\n",
       "                        <td id=\"T_e024f7c0_91d2_11ea_a264_4ceb428e4071row5_col4\" class=\"data row5 col4\" >13</td>\n",
       "                        <td id=\"T_e024f7c0_91d2_11ea_a264_4ceb428e4071row5_col5\" class=\"data row5 col5\" >12</td>\n",
       "                        <td id=\"T_e024f7c0_91d2_11ea_a264_4ceb428e4071row5_col6\" class=\"data row5 col6\" >14</td>\n",
       "                        <td id=\"T_e024f7c0_91d2_11ea_a264_4ceb428e4071row5_col7\" class=\"data row5 col7\" >13</td>\n",
       "                        <td id=\"T_e024f7c0_91d2_11ea_a264_4ceb428e4071row5_col8\" class=\"data row5 col8\" >78</td>\n",
       "            </tr>\n",
       "            <tr>\n",
       "                                <td id=\"T_e024f7c0_91d2_11ea_a264_4ceb428e4071row6_col0\" class=\"data row6 col0\" >Kamal Bafounta</td>\n",
       "                        <td id=\"T_e024f7c0_91d2_11ea_a264_4ceb428e4071row6_col1\" class=\"data row6 col1\" >                  20</td>\n",
       "                        <td id=\"T_e024f7c0_91d2_11ea_a264_4ceb428e4071row6_col2\" class=\"data row6 col2\" >10</td>\n",
       "                        <td id=\"T_e024f7c0_91d2_11ea_a264_4ceb428e4071row6_col3\" class=\"data row6 col3\" >13</td>\n",
       "                        <td id=\"T_e024f7c0_91d2_11ea_a264_4ceb428e4071row6_col4\" class=\"data row6 col4\" >13</td>\n",
       "                        <td id=\"T_e024f7c0_91d2_11ea_a264_4ceb428e4071row6_col5\" class=\"data row6 col5\" >13</td>\n",
       "                        <td id=\"T_e024f7c0_91d2_11ea_a264_4ceb428e4071row6_col6\" class=\"data row6 col6\" >16</td>\n",
       "                        <td id=\"T_e024f7c0_91d2_11ea_a264_4ceb428e4071row6_col7\" class=\"data row6 col7\" >13</td>\n",
       "                        <td id=\"T_e024f7c0_91d2_11ea_a264_4ceb428e4071row6_col8\" class=\"data row6 col8\" >78</td>\n",
       "            </tr>\n",
       "            <tr>\n",
       "                                <td id=\"T_e024f7c0_91d2_11ea_a264_4ceb428e4071row7_col0\" class=\"data row7 col0\" >Rahim Ibrahim</td>\n",
       "                        <td id=\"T_e024f7c0_91d2_11ea_a264_4ceb428e4071row7_col1\" class=\"data row7 col1\" >                  21</td>\n",
       "                        <td id=\"T_e024f7c0_91d2_11ea_a264_4ceb428e4071row7_col2\" class=\"data row7 col2\" >13</td>\n",
       "                        <td id=\"T_e024f7c0_91d2_11ea_a264_4ceb428e4071row7_col3\" class=\"data row7 col3\" >12</td>\n",
       "                        <td id=\"T_e024f7c0_91d2_11ea_a264_4ceb428e4071row7_col4\" class=\"data row7 col4\" >14</td>\n",
       "                        <td id=\"T_e024f7c0_91d2_11ea_a264_4ceb428e4071row7_col5\" class=\"data row7 col5\" >13</td>\n",
       "                        <td id=\"T_e024f7c0_91d2_11ea_a264_4ceb428e4071row7_col6\" class=\"data row7 col6\" >11</td>\n",
       "                        <td id=\"T_e024f7c0_91d2_11ea_a264_4ceb428e4071row7_col7\" class=\"data row7 col7\" >14</td>\n",
       "                        <td id=\"T_e024f7c0_91d2_11ea_a264_4ceb428e4071row7_col8\" class=\"data row7 col8\" >77</td>\n",
       "            </tr>\n",
       "            <tr>\n",
       "                                <td id=\"T_e024f7c0_91d2_11ea_a264_4ceb428e4071row8_col0\" class=\"data row8 col0\" >Josip Sutalo</td>\n",
       "                        <td id=\"T_e024f7c0_91d2_11ea_a264_4ceb428e4071row8_col1\" class=\"data row8 col1\" >                  22</td>\n",
       "                        <td id=\"T_e024f7c0_91d2_11ea_a264_4ceb428e4071row8_col2\" class=\"data row8 col2\" >13</td>\n",
       "                        <td id=\"T_e024f7c0_91d2_11ea_a264_4ceb428e4071row8_col3\" class=\"data row8 col3\" >12</td>\n",
       "                        <td id=\"T_e024f7c0_91d2_11ea_a264_4ceb428e4071row8_col4\" class=\"data row8 col4\" >12</td>\n",
       "                        <td id=\"T_e024f7c0_91d2_11ea_a264_4ceb428e4071row8_col5\" class=\"data row8 col5\" >13</td>\n",
       "                        <td id=\"T_e024f7c0_91d2_11ea_a264_4ceb428e4071row8_col6\" class=\"data row8 col6\" >14</td>\n",
       "                        <td id=\"T_e024f7c0_91d2_11ea_a264_4ceb428e4071row8_col7\" class=\"data row8 col7\" >12</td>\n",
       "                        <td id=\"T_e024f7c0_91d2_11ea_a264_4ceb428e4071row8_col8\" class=\"data row8 col8\" >76</td>\n",
       "            </tr>\n",
       "            <tr>\n",
       "                                <td id=\"T_e024f7c0_91d2_11ea_a264_4ceb428e4071row9_col0\" class=\"data row9 col0\" >Vukasin Krstic</td>\n",
       "                        <td id=\"T_e024f7c0_91d2_11ea_a264_4ceb428e4071row9_col1\" class=\"data row9 col1\" >                  19</td>\n",
       "                        <td id=\"T_e024f7c0_91d2_11ea_a264_4ceb428e4071row9_col2\" class=\"data row9 col2\" >12</td>\n",
       "                        <td id=\"T_e024f7c0_91d2_11ea_a264_4ceb428e4071row9_col3\" class=\"data row9 col3\" >12</td>\n",
       "                        <td id=\"T_e024f7c0_91d2_11ea_a264_4ceb428e4071row9_col4\" class=\"data row9 col4\" >12</td>\n",
       "                        <td id=\"T_e024f7c0_91d2_11ea_a264_4ceb428e4071row9_col5\" class=\"data row9 col5\" >13</td>\n",
       "                        <td id=\"T_e024f7c0_91d2_11ea_a264_4ceb428e4071row9_col6\" class=\"data row9 col6\" >15</td>\n",
       "                        <td id=\"T_e024f7c0_91d2_11ea_a264_4ceb428e4071row9_col7\" class=\"data row9 col7\" >12</td>\n",
       "                        <td id=\"T_e024f7c0_91d2_11ea_a264_4ceb428e4071row9_col8\" class=\"data row9 col8\" >76</td>\n",
       "            </tr>\n",
       "    </tbody></table>"
      ],
      "text/plain": [
       "<pandas.io.formats.style.Styler at 0xcd30238>"
      ]
     },
     "execution_count": 12,
     "metadata": {},
     "output_type": "execute_result"
    }
   ],
   "source": [
    "print(\"Central Defender\")\n",
    "sorted_cd = cd.sort_values(by='cd_score', ascending=False)\n",
    "sorted_cd.head(10).style.format({\"Age\": \"{:20,.0f}\", \n",
    "                          })\\\n",
    "                       .hide_index()\\\n",
    "                       .background_gradient(cmap='Blues')"
   ]
  },
  {
   "cell_type": "code",
   "execution_count": 13,
   "metadata": {},
   "outputs": [
    {
     "data": {
      "application/vnd.plotly.v1+json": {
       "config": {
        "linkText": "Export to plot.ly",
        "plotlyServerURL": "https://plot.ly",
        "showLink": true
       },
       "data": [
        {
         "line": {
          "color": "rgba(255, 153, 51, 1.0)",
          "dash": "solid",
          "shape": "linear",
          "width": 1.3
         },
         "marker": {
          "size": 10,
          "symbol": "circle"
         },
         "mode": "markers",
         "name": "Int/90",
         "text": [
          "Djibril DiakitÃ©",
          "JoÃ£o Tavares",
          "Matej Hudecek",
          "Adrian Rybak",
          "Oskar Repka",
          "Maciej Obodecki",
          "Ivo Kralj",
          "Bartosz Sobczyk",
          "Ivan Tomac",
          "Nikola Bogdanovski",
          "Stefan Velickovic",
          "Andrija Zakoc",
          "AurÃ©lien Nguiamba",
          "Flynn Downes",
          "Nikola Puzic",
          "Andjelo Kacavenda",
          "Tymoteusz Puchacz",
          "Felix Brunmayr",
          "Lennart Grill",
          "Josip Rakic",
          "Stefan Randjelovic",
          "Radoslaw Dzierbicki",
          "Alexandar Ubavic",
          "Veljko Jovkovic",
          "Mariano GÃ³mez",
          "David Bumberger",
          "Enrico Huss",
          "Mateo Jaksic",
          "Konrad Jozwicki",
          "Nikita Marusenko",
          "Djordje Jovanovic",
          "Filip Lisnic",
          "Dawid Szalas",
          "Vladimir Ilic",
          "Marcin Mackowiak",
          "Florin Codrean",
          "David Otto",
          "Stefan Golubovic",
          "Keanan Bennetts",
          "Andrej Vukas",
          "Jannik Tepe",
          "Mladen Devetak",
          "Tom Baack",
          "Jan Sobocinski",
          "TomÃ¡s Blanco",
          "Sinan Karweina",
          "Ben Williams",
          "Arkadiusz Zajaczkowski",
          "Miguel Reisinho",
          "Filp Ceko",
          "Michel StÃ¶cker",
          "JÃ©rÃ´me Deom",
          "Ranko Jokic",
          "Palko DÃ¡rdai",
          "Aleksander Tomasz",
          "Alex Vigo",
          "Daniel Bielica",
          "Marko Djira",
          "Norbert Walczak",
          "Boris Moltenis",
          "Julius Kade",
          "Goran Buljandric",
          "Jannis KÃ¼bler",
          "Aleksa Jovanovic",
          "Tomasz Owczarek",
          "David Wittkowski",
          "Konrad Zaklika",
          "Pawel Karbowinski",
          "Nicky Werner",
          "Julijan Popovic",
          "Nassim Boujellab",
          "Bartlomiej Gajda",
          "Nemanja Matijevic",
          "Marko Denic",
          "Robert Baar",
          "Tuta",
          "Dusan Jokovic",
          "Tomasz Dzida",
          "Aleksa Pejic",
          "Krsta Bojic",
          "Sikou NiakatÃ©",
          "Tomasz Makowski",
          "Sebastian Gwozdz",
          "Adrian Polanski",
          "Bryan Mbeumo",
          "Dorin Sirbu",
          "Elvis Novalic",
          "MickaÃ«l Cuisance",
          "Mateusz Madzia",
          "JesÃºs Vargas",
          "Marino Jedvaj",
          "Raphael Assibey-Mensah",
          "Lukasz Sztylka",
          "Zoran Zrnzevic",
          "Alex Krawiec",
          "Petar Melezovic",
          "Tomasz Kurek",
          "Danko Radic",
          "Paul Mensah",
          "Jordan Williams",
          "Mario Mustapic",
          "Nikola Trickovic",
          "Patrik Delic",
          "Maciej Famulak",
          "Wiktor Nahrebecki",
          "Barne Poggenberg",
          "Mirza Jasarevic",
          "Ratko Minic",
          "Semih Åahin",
          "Matej Santek",
          "Georgios Siadas",
          "Tyrese Campbell",
          "Martin Krizmanic",
          "Kacper Laskos",
          "Aleksa Milojevic",
          "Cheick DoucourÃ©",
          "Ivan Jakovljev",
          "Przemyslaw Zdybowicz",
          "Sven Botman",
          "Malik Karaahmet",
          "Lukas KrÃ¼ger",
          "Niclas Stierlin",
          "Mane Markovic",
          "Karol Czubak",
          "Ilija Dejanovic",
          "Pascal Hackethal",
          "Oleg Gorin",
          "Michal Zieba",
          "Miodrag Maljkovic",
          "Jakov Blagaic",
          "Harisson Marcelin",
          "Vice Bazdaric",
          "Daniel Liszka",
          "Jan Sieracki",
          "Jhonny Lucas",
          "Tymoteusz Klups",
          "Josip Sutalo",
          "Othman Boussaid",
          "Evert Linthorst",
          "Jusuf Gazibegovic",
          "Virgiliu Postolachi",
          "Luis GÃ¶rlich",
          "Andrej Ilic",
          "Daniel Haritonov",
          "Patryk Drabik",
          "Tom Dobek-Pietrowski",
          "Michal Mydlarz",
          "Cho Jeong-Hui",
          "Mohamed Loua",
          "Nemanja Zikic",
          "Emir Sejdovic",
          "Samuel Lengle",
          "Mateusz Duchowski",
          "Iliya Gruev",
          "Bartosz Borun",
          "Juraj Ljubic",
          "GonÃ§alo Rebelo",
          "Dominik Resetar",
          "Jurica Prsir",
          "Piotr Wujec",
          "Jan Majsterek",
          "Mitchel Bakker",
          "Kamil Piatkowski",
          "Michal Ozga",
          "Karol Turek",
          "Toni Karimovic",
          "Billy Crellin",
          "Konrad Sieracki",
          "Vando Luis",
          "Jan Los",
          "Jessic Ngankam",
          "Adam Borkowski",
          "Julian Rieckmann",
          "Luka Pavlak",
          "Robert Ion",
          "Linus RosenlÃ¶cher",
          "Eugen Telch",
          "Nicholas Wunsch",
          "Dawid Kisly",
          "Uros Miloradovic",
          "Alois Oroz",
          "Luca Bazzoli",
          "Ronan Darcy",
          "Yann-Aurel Bisseck",
          "Timo Bornemann",
          "Radivoj Bosic",
          "Jakov Katusa",
          "Kacper Jozefiak",
          "Szymon Mroczko",
          "Karol Struski",
          "Wojciech Kaminski",
          "Piotr Lisowski",
          "Daishawn Redan",
          "Kacper Smolinski",
          "Lukas SchÃ¶fl",
          "Mikolaj Labojko",
          "Jakub Karbownik",
          "Damir Magdic",
          "Karol Malec",
          "Patryk Wozniak",
          "Can Bozdogan",
          "Aleksander Paluszek",
          "Mario Cuic",
          "Dragoljub Savic",
          "Nathan Collins",
          "Dominik Pila",
          "Mihael Kupresak",
          "Manu KonÃ©",
          "Niels Hahn",
          "Tin Hrvoj",
          "Lucas Da Cunha",
          "Rahim Ibrahim",
          "Renato Josipovic",
          "Han-Noah Massengo",
          "Kacper Wiatrak",
          "Bartosz Kuzniarski",
          "Adrian Petk",
          "Fabian Tauchhammer",
          "Bartlomiej Mruk",
          "Jakub Rudek",
          "Jakub Swiecinski",
          "Jakub Nowakowski",
          "Kamil Dabrowski",
          "Yuri Sprandel Flores",
          "Stefan Radmanovac",
          "Kamal Bafounta",
          "Filip Marchwinski",
          "Kamil Lukoszek",
          "Jakub Niewiadomski",
          "Dominik Kedzior",
          "Joe Gelhardt",
          "Filip Sobiecki",
          "Fran Tomek",
          "Hubert Wasiewski",
          "Djordje Vasic",
          "Jakub Zima",
          "Damian Makuch",
          "Andrzej Kloda",
          "Stipe Biuk",
          "Mateusz Pienczak",
          "FIlip Brekalo",
          "Stefan Despotovski",
          "Jakub Kisiel",
          "Duje Skugor",
          "Martin Baturina",
          "Radoslaw Cielemecki",
          "Ariel Mosor",
          "Nikola Petkovic",
          "Nikodem Sujecki",
          "Ivan Mandic",
          "Stanislaw Loch",
          "Dario Grgic",
          "Wojciech Szybka",
          "Kacper Szmidt",
          "Vukasin Krstic",
          "Obrendo Doesburg",
          "Casper Elderman",
          "Predrag Jovic",
          "Daniel Hoyo-Kowalski",
          "Darijo Basic",
          "Wiktor Mosur",
          "Uros Mirkovic",
          "Marcos RodrÃ­guez",
          "Adrian Å¢apu",
          "Paul Mari",
          "Pawel Muzylowski",
          "Dragan Radovic",
          "Szymon Kobeszko",
          "Marcin Dabrowski",
          "Jorge Delgado",
          "Daniel Piesio",
          null
         ],
         "type": "scatter",
         "x": [
          "0.07",
          "-",
          "3.14",
          "4.19",
          "3.65",
          "-",
          "4.78",
          "3.08",
          "2.85",
          "1.46",
          "2.45",
          "3.70",
          "3.02",
          "3.91",
          "3.03",
          "5.52",
          "2.87",
          "1.13",
          "-",
          "2.59",
          "-",
          "2.31",
          "-",
          "2.01",
          "3.44",
          "4.03",
          "2.68",
          "4.02",
          "2.60",
          "3.17",
          "1.69",
          "5.22",
          "1.10",
          "3.52",
          "5.53",
          "-",
          "2.10",
          "3.70",
          "2.58",
          "2.69",
          "1.24",
          "3.79",
          "2.95",
          "5.54",
          "1.32",
          "1.61",
          "4.15",
          "4.10",
          "1.45",
          "3.28",
          "5.10",
          "0.29",
          "4.17",
          "1.45",
          "-",
          "1.09",
          "-",
          "2.32",
          "-",
          "5.00",
          "1.52",
          "-",
          "2.76",
          "4.91",
          "4.91",
          "2.41",
          "4.21",
          "2.74",
          "0.92",
          "3.27",
          "3.23",
          "6.00",
          "1.65",
          "-",
          "4.89",
          "4.67",
          "4.96",
          "1.95",
          "4.08",
          "3.00",
          "5.38",
          "3.06",
          "-",
          "3.89",
          "1.51",
          "-",
          "2.89",
          "1.84",
          "5.03",
          "0.89",
          "-",
          "-",
          "4.74",
          "-",
          "1.97",
          "-",
          "1.90",
          "1.24",
          "0.96",
          "3.84",
          "-",
          "3.11",
          "-",
          "2.64",
          "3.59",
          "2.82",
          "1.87",
          "1.97",
          "1.45",
          "1.73",
          "3.44",
          "1.12",
          "6.00",
          "4.30",
          "-",
          "4.18",
          "-",
          "1.51",
          "5.96",
          "-",
          "2.21",
          "3.89",
          "-",
          "2.16",
          "-",
          "2.58",
          "3.97",
          "3.45",
          "2.52",
          "2.57",
          "0.70",
          "-",
          "1.45",
          "3.07",
          "3.23",
          "2.52",
          "5.57",
          "-",
          "2.17",
          "2.70",
          "-",
          "3.30",
          "3.31",
          "3.58",
          "1.57",
          "4.04",
          "2.77",
          "0.13",
          "3.45",
          "-",
          "2.91",
          "4.01",
          "3.44",
          "3.81",
          "4.13",
          "2.98",
          "0.21",
          "2.31",
          "2.98",
          "5.44",
          "3.76",
          "5.18",
          "4.52",
          "4.63",
          "3.43",
          "2.16",
          "-",
          "3.42",
          "0.47",
          "1.60",
          "2.42",
          "1.30",
          "5.81",
          "3.20",
          "2.34",
          "3.28",
          "-",
          "1.39",
          "3.34",
          "4.06",
          "4.44",
          "3.63",
          "1.41",
          "6.22",
          "1.65",
          "2.02",
          "1.68",
          "5.97",
          "2.16",
          "3.05",
          "5.22",
          "4.05",
          "1.71",
          "2.43",
          "-",
          "-",
          "2.52",
          "3.70",
          "1.86",
          "3.14",
          "2.76",
          "5.16",
          "5.98",
          "-",
          "5.24",
          "3.38",
          "1.88",
          "-",
          "-",
          "4.69",
          "-",
          "-",
          "-",
          "3.34",
          "-",
          "1.17",
          "4.20",
          "-",
          "4.67",
          "1.92",
          "3.80",
          "-",
          "2.02",
          "4.20",
          "2.99",
          "4.83",
          "2.81",
          "1.48",
          "3.48",
          "2.00",
          "0.13",
          "3.26",
          "2.88",
          "-",
          "2.46",
          "5.80",
          "5.50",
          "4.59",
          "3.08",
          "4.24",
          "2.43",
          "5.38",
          "4.16",
          "1.84",
          "3.08",
          "2.79",
          "5.13",
          "4.39",
          "-",
          "-",
          "3.17",
          "3.61",
          "2.76",
          "2.89",
          "5.07",
          "-",
          "4.08",
          "1.57",
          "5.69",
          "2.76",
          "1.70",
          "1.80",
          "2.49",
          "2.95",
          "3.95",
          "3.12",
          "2.10",
          "4.21",
          "3.12",
          "0.80",
          "3.31",
          null
         ],
         "y": [
          "0.07",
          "-",
          "2.47",
          "2.55",
          "3.02",
          "-",
          "4.56",
          "1.13",
          "3.32",
          "2.92",
          "2.30",
          "1.15",
          "2.63",
          "2.46",
          "3.40",
          "3.12",
          "3.17",
          "0.88",
          "-",
          "3.35",
          "-",
          "0.79",
          "-",
          "1.61",
          "1.72",
          "4.08",
          "1.83",
          "2.30",
          "1.50",
          "2.08",
          "1.39",
          "3.22",
          "1.21",
          "1.24",
          "2.77",
          "-",
          "1.19",
          "1.15",
          "1.18",
          "0.93",
          "1.24",
          "2.86",
          "2.78",
          "3.29",
          "0.85",
          "1.21",
          "3.08",
          "3.89",
          "1.59",
          "2.94",
          "3.82",
          "0.36",
          "2.67",
          "1.41",
          "-",
          "1.49",
          "-",
          "1.65",
          "-",
          "2.94",
          "1.10",
          "-",
          "3.70",
          "2.82",
          "1.62",
          "3.67",
          "2.35",
          "1.00",
          "0.92",
          "2.85",
          "1.56",
          "4.17",
          "0.80",
          "-",
          "1.32",
          "3.06",
          "2.66",
          "0.93",
          "2.47",
          "1.41",
          "4.28",
          "3.39",
          "-",
          "4.07",
          "0.98",
          "-",
          "2.57",
          "1.25",
          "3.88",
          "1.99",
          "-",
          "-",
          "1.49",
          "-",
          "1.10",
          "-",
          "0.92",
          "1.29",
          "0.96",
          "2.44",
          "-",
          "1.20",
          "-",
          "0.85",
          "3.53",
          "2.91",
          "0.84",
          "0.77",
          "2.90",
          "4.32",
          "3.67",
          "1.00",
          "2.58",
          "2.42",
          "-",
          "3.00",
          "-",
          "0.79",
          "2.76",
          "-",
          "1.49",
          "2.43",
          "-",
          "0.70",
          "-",
          "2.72",
          "2.65",
          "2.57",
          "0.88",
          "1.69",
          "0.38",
          "-",
          "1.95",
          "2.15",
          "3.53",
          "0.86",
          "3.43",
          "-",
          "0.91",
          "1.80",
          "-",
          "2.15",
          "1.03",
          "3.23",
          "0.67",
          "2.24",
          "3.21",
          "0.09",
          "3.74",
          "-",
          "2.04",
          "3.45",
          "1.19",
          "3.07",
          "1.33",
          "1.61",
          "0.17",
          "0.92",
          "2.10",
          "3.89",
          "2.05",
          "1.94",
          "3.59",
          "1.25",
          "3.60",
          "1.90",
          "-",
          "1.33",
          "0.21",
          "1.25",
          "1.18",
          "0.92",
          "4.07",
          "2.50",
          "2.16",
          "2.33",
          "-",
          "1.01",
          "1.70",
          "2.48",
          "3.61",
          "1.13",
          "0.47",
          "3.15",
          "0.96",
          "1.84",
          "0.97",
          "3.57",
          "1.76",
          "1.56",
          "3.84",
          "3.73",
          "1.86",
          "3.20",
          "-",
          "-",
          "0.73",
          "2.31",
          "0.93",
          "2.04",
          "2.25",
          "3.57",
          "5.09",
          "-",
          "2.76",
          "0.80",
          "1.53",
          "-",
          "-",
          "2.27",
          "-",
          "-",
          "-",
          "2.94",
          "-",
          "1.23",
          "3.73",
          "-",
          "4.61",
          "2.73",
          "2.92",
          "-",
          "0.87",
          "2.01",
          "1.33",
          "5.14",
          "1.29",
          "1.09",
          "1.91",
          "0.96",
          "0.19",
          "1.37",
          "3.21",
          "-",
          "0.80",
          "2.90",
          "4.38",
          "3.21",
          "0.99",
          "2.62",
          "3.02",
          "4.47",
          "1.65",
          "0.77",
          "0.85",
          "2.28",
          "4.00",
          "3.42",
          "-",
          "-",
          "1.06",
          "1.48",
          "4.07",
          "0.96",
          "4.23",
          "-",
          "3.21",
          "1.46",
          "3.61",
          "2.01",
          "1.07",
          "0.96",
          "1.37",
          "1.36",
          "3.14",
          "1.00",
          "1.76",
          "2.69",
          "1.72",
          "0.80",
          "3.25",
          ""
         ]
        }
       ],
       "layout": {
        "legend": {
         "bgcolor": "#F5F6F9",
         "font": {
          "color": "#4D5663"
         }
        },
        "paper_bgcolor": "#F5F6F9",
        "plot_bgcolor": "#F5F6F9",
        "template": {
         "data": {
          "bar": [
           {
            "error_x": {
             "color": "#2a3f5f"
            },
            "error_y": {
             "color": "#2a3f5f"
            },
            "marker": {
             "line": {
              "color": "#E5ECF6",
              "width": 0.5
             }
            },
            "type": "bar"
           }
          ],
          "barpolar": [
           {
            "marker": {
             "line": {
              "color": "#E5ECF6",
              "width": 0.5
             }
            },
            "type": "barpolar"
           }
          ],
          "carpet": [
           {
            "aaxis": {
             "endlinecolor": "#2a3f5f",
             "gridcolor": "white",
             "linecolor": "white",
             "minorgridcolor": "white",
             "startlinecolor": "#2a3f5f"
            },
            "baxis": {
             "endlinecolor": "#2a3f5f",
             "gridcolor": "white",
             "linecolor": "white",
             "minorgridcolor": "white",
             "startlinecolor": "#2a3f5f"
            },
            "type": "carpet"
           }
          ],
          "choropleth": [
           {
            "colorbar": {
             "outlinewidth": 0,
             "ticks": ""
            },
            "type": "choropleth"
           }
          ],
          "contour": [
           {
            "colorbar": {
             "outlinewidth": 0,
             "ticks": ""
            },
            "colorscale": [
             [
              0,
              "#0d0887"
             ],
             [
              0.1111111111111111,
              "#46039f"
             ],
             [
              0.2222222222222222,
              "#7201a8"
             ],
             [
              0.3333333333333333,
              "#9c179e"
             ],
             [
              0.4444444444444444,
              "#bd3786"
             ],
             [
              0.5555555555555556,
              "#d8576b"
             ],
             [
              0.6666666666666666,
              "#ed7953"
             ],
             [
              0.7777777777777778,
              "#fb9f3a"
             ],
             [
              0.8888888888888888,
              "#fdca26"
             ],
             [
              1,
              "#f0f921"
             ]
            ],
            "type": "contour"
           }
          ],
          "contourcarpet": [
           {
            "colorbar": {
             "outlinewidth": 0,
             "ticks": ""
            },
            "type": "contourcarpet"
           }
          ],
          "heatmap": [
           {
            "colorbar": {
             "outlinewidth": 0,
             "ticks": ""
            },
            "colorscale": [
             [
              0,
              "#0d0887"
             ],
             [
              0.1111111111111111,
              "#46039f"
             ],
             [
              0.2222222222222222,
              "#7201a8"
             ],
             [
              0.3333333333333333,
              "#9c179e"
             ],
             [
              0.4444444444444444,
              "#bd3786"
             ],
             [
              0.5555555555555556,
              "#d8576b"
             ],
             [
              0.6666666666666666,
              "#ed7953"
             ],
             [
              0.7777777777777778,
              "#fb9f3a"
             ],
             [
              0.8888888888888888,
              "#fdca26"
             ],
             [
              1,
              "#f0f921"
             ]
            ],
            "type": "heatmap"
           }
          ],
          "heatmapgl": [
           {
            "colorbar": {
             "outlinewidth": 0,
             "ticks": ""
            },
            "colorscale": [
             [
              0,
              "#0d0887"
             ],
             [
              0.1111111111111111,
              "#46039f"
             ],
             [
              0.2222222222222222,
              "#7201a8"
             ],
             [
              0.3333333333333333,
              "#9c179e"
             ],
             [
              0.4444444444444444,
              "#bd3786"
             ],
             [
              0.5555555555555556,
              "#d8576b"
             ],
             [
              0.6666666666666666,
              "#ed7953"
             ],
             [
              0.7777777777777778,
              "#fb9f3a"
             ],
             [
              0.8888888888888888,
              "#fdca26"
             ],
             [
              1,
              "#f0f921"
             ]
            ],
            "type": "heatmapgl"
           }
          ],
          "histogram": [
           {
            "marker": {
             "colorbar": {
              "outlinewidth": 0,
              "ticks": ""
             }
            },
            "type": "histogram"
           }
          ],
          "histogram2d": [
           {
            "colorbar": {
             "outlinewidth": 0,
             "ticks": ""
            },
            "colorscale": [
             [
              0,
              "#0d0887"
             ],
             [
              0.1111111111111111,
              "#46039f"
             ],
             [
              0.2222222222222222,
              "#7201a8"
             ],
             [
              0.3333333333333333,
              "#9c179e"
             ],
             [
              0.4444444444444444,
              "#bd3786"
             ],
             [
              0.5555555555555556,
              "#d8576b"
             ],
             [
              0.6666666666666666,
              "#ed7953"
             ],
             [
              0.7777777777777778,
              "#fb9f3a"
             ],
             [
              0.8888888888888888,
              "#fdca26"
             ],
             [
              1,
              "#f0f921"
             ]
            ],
            "type": "histogram2d"
           }
          ],
          "histogram2dcontour": [
           {
            "colorbar": {
             "outlinewidth": 0,
             "ticks": ""
            },
            "colorscale": [
             [
              0,
              "#0d0887"
             ],
             [
              0.1111111111111111,
              "#46039f"
             ],
             [
              0.2222222222222222,
              "#7201a8"
             ],
             [
              0.3333333333333333,
              "#9c179e"
             ],
             [
              0.4444444444444444,
              "#bd3786"
             ],
             [
              0.5555555555555556,
              "#d8576b"
             ],
             [
              0.6666666666666666,
              "#ed7953"
             ],
             [
              0.7777777777777778,
              "#fb9f3a"
             ],
             [
              0.8888888888888888,
              "#fdca26"
             ],
             [
              1,
              "#f0f921"
             ]
            ],
            "type": "histogram2dcontour"
           }
          ],
          "mesh3d": [
           {
            "colorbar": {
             "outlinewidth": 0,
             "ticks": ""
            },
            "type": "mesh3d"
           }
          ],
          "parcoords": [
           {
            "line": {
             "colorbar": {
              "outlinewidth": 0,
              "ticks": ""
             }
            },
            "type": "parcoords"
           }
          ],
          "pie": [
           {
            "automargin": true,
            "type": "pie"
           }
          ],
          "scatter": [
           {
            "marker": {
             "colorbar": {
              "outlinewidth": 0,
              "ticks": ""
             }
            },
            "type": "scatter"
           }
          ],
          "scatter3d": [
           {
            "line": {
             "colorbar": {
              "outlinewidth": 0,
              "ticks": ""
             }
            },
            "marker": {
             "colorbar": {
              "outlinewidth": 0,
              "ticks": ""
             }
            },
            "type": "scatter3d"
           }
          ],
          "scattercarpet": [
           {
            "marker": {
             "colorbar": {
              "outlinewidth": 0,
              "ticks": ""
             }
            },
            "type": "scattercarpet"
           }
          ],
          "scattergeo": [
           {
            "marker": {
             "colorbar": {
              "outlinewidth": 0,
              "ticks": ""
             }
            },
            "type": "scattergeo"
           }
          ],
          "scattergl": [
           {
            "marker": {
             "colorbar": {
              "outlinewidth": 0,
              "ticks": ""
             }
            },
            "type": "scattergl"
           }
          ],
          "scattermapbox": [
           {
            "marker": {
             "colorbar": {
              "outlinewidth": 0,
              "ticks": ""
             }
            },
            "type": "scattermapbox"
           }
          ],
          "scatterpolar": [
           {
            "marker": {
             "colorbar": {
              "outlinewidth": 0,
              "ticks": ""
             }
            },
            "type": "scatterpolar"
           }
          ],
          "scatterpolargl": [
           {
            "marker": {
             "colorbar": {
              "outlinewidth": 0,
              "ticks": ""
             }
            },
            "type": "scatterpolargl"
           }
          ],
          "scatterternary": [
           {
            "marker": {
             "colorbar": {
              "outlinewidth": 0,
              "ticks": ""
             }
            },
            "type": "scatterternary"
           }
          ],
          "surface": [
           {
            "colorbar": {
             "outlinewidth": 0,
             "ticks": ""
            },
            "colorscale": [
             [
              0,
              "#0d0887"
             ],
             [
              0.1111111111111111,
              "#46039f"
             ],
             [
              0.2222222222222222,
              "#7201a8"
             ],
             [
              0.3333333333333333,
              "#9c179e"
             ],
             [
              0.4444444444444444,
              "#bd3786"
             ],
             [
              0.5555555555555556,
              "#d8576b"
             ],
             [
              0.6666666666666666,
              "#ed7953"
             ],
             [
              0.7777777777777778,
              "#fb9f3a"
             ],
             [
              0.8888888888888888,
              "#fdca26"
             ],
             [
              1,
              "#f0f921"
             ]
            ],
            "type": "surface"
           }
          ],
          "table": [
           {
            "cells": {
             "fill": {
              "color": "#EBF0F8"
             },
             "line": {
              "color": "white"
             }
            },
            "header": {
             "fill": {
              "color": "#C8D4E3"
             },
             "line": {
              "color": "white"
             }
            },
            "type": "table"
           }
          ]
         },
         "layout": {
          "annotationdefaults": {
           "arrowcolor": "#2a3f5f",
           "arrowhead": 0,
           "arrowwidth": 1
          },
          "coloraxis": {
           "colorbar": {
            "outlinewidth": 0,
            "ticks": ""
           }
          },
          "colorscale": {
           "diverging": [
            [
             0,
             "#8e0152"
            ],
            [
             0.1,
             "#c51b7d"
            ],
            [
             0.2,
             "#de77ae"
            ],
            [
             0.3,
             "#f1b6da"
            ],
            [
             0.4,
             "#fde0ef"
            ],
            [
             0.5,
             "#f7f7f7"
            ],
            [
             0.6,
             "#e6f5d0"
            ],
            [
             0.7,
             "#b8e186"
            ],
            [
             0.8,
             "#7fbc41"
            ],
            [
             0.9,
             "#4d9221"
            ],
            [
             1,
             "#276419"
            ]
           ],
           "sequential": [
            [
             0,
             "#0d0887"
            ],
            [
             0.1111111111111111,
             "#46039f"
            ],
            [
             0.2222222222222222,
             "#7201a8"
            ],
            [
             0.3333333333333333,
             "#9c179e"
            ],
            [
             0.4444444444444444,
             "#bd3786"
            ],
            [
             0.5555555555555556,
             "#d8576b"
            ],
            [
             0.6666666666666666,
             "#ed7953"
            ],
            [
             0.7777777777777778,
             "#fb9f3a"
            ],
            [
             0.8888888888888888,
             "#fdca26"
            ],
            [
             1,
             "#f0f921"
            ]
           ],
           "sequentialminus": [
            [
             0,
             "#0d0887"
            ],
            [
             0.1111111111111111,
             "#46039f"
            ],
            [
             0.2222222222222222,
             "#7201a8"
            ],
            [
             0.3333333333333333,
             "#9c179e"
            ],
            [
             0.4444444444444444,
             "#bd3786"
            ],
            [
             0.5555555555555556,
             "#d8576b"
            ],
            [
             0.6666666666666666,
             "#ed7953"
            ],
            [
             0.7777777777777778,
             "#fb9f3a"
            ],
            [
             0.8888888888888888,
             "#fdca26"
            ],
            [
             1,
             "#f0f921"
            ]
           ]
          },
          "colorway": [
           "#636efa",
           "#EF553B",
           "#00cc96",
           "#ab63fa",
           "#FFA15A",
           "#19d3f3",
           "#FF6692",
           "#B6E880",
           "#FF97FF",
           "#FECB52"
          ],
          "font": {
           "color": "#2a3f5f"
          },
          "geo": {
           "bgcolor": "white",
           "lakecolor": "white",
           "landcolor": "#E5ECF6",
           "showlakes": true,
           "showland": true,
           "subunitcolor": "white"
          },
          "hoverlabel": {
           "align": "left"
          },
          "hovermode": "closest",
          "mapbox": {
           "style": "light"
          },
          "paper_bgcolor": "white",
          "plot_bgcolor": "#E5ECF6",
          "polar": {
           "angularaxis": {
            "gridcolor": "white",
            "linecolor": "white",
            "ticks": ""
           },
           "bgcolor": "#E5ECF6",
           "radialaxis": {
            "gridcolor": "white",
            "linecolor": "white",
            "ticks": ""
           }
          },
          "scene": {
           "xaxis": {
            "backgroundcolor": "#E5ECF6",
            "gridcolor": "white",
            "gridwidth": 2,
            "linecolor": "white",
            "showbackground": true,
            "ticks": "",
            "zerolinecolor": "white"
           },
           "yaxis": {
            "backgroundcolor": "#E5ECF6",
            "gridcolor": "white",
            "gridwidth": 2,
            "linecolor": "white",
            "showbackground": true,
            "ticks": "",
            "zerolinecolor": "white"
           },
           "zaxis": {
            "backgroundcolor": "#E5ECF6",
            "gridcolor": "white",
            "gridwidth": 2,
            "linecolor": "white",
            "showbackground": true,
            "ticks": "",
            "zerolinecolor": "white"
           }
          },
          "shapedefaults": {
           "line": {
            "color": "#2a3f5f"
           }
          },
          "ternary": {
           "aaxis": {
            "gridcolor": "white",
            "linecolor": "white",
            "ticks": ""
           },
           "baxis": {
            "gridcolor": "white",
            "linecolor": "white",
            "ticks": ""
           },
           "bgcolor": "#E5ECF6",
           "caxis": {
            "gridcolor": "white",
            "linecolor": "white",
            "ticks": ""
           }
          },
          "title": {
           "x": 0.05
          },
          "xaxis": {
           "automargin": true,
           "gridcolor": "white",
           "linecolor": "white",
           "ticks": "",
           "title": {
            "standoff": 15
           },
           "zerolinecolor": "white",
           "zerolinewidth": 2
          },
          "yaxis": {
           "automargin": true,
           "gridcolor": "white",
           "linecolor": "white",
           "ticks": "",
           "title": {
            "standoff": 15
           },
           "zerolinecolor": "white",
           "zerolinewidth": 2
          }
         }
        },
        "title": {
         "font": {
          "color": "#4D5663"
         },
         "text": "Central Defender - Defend"
        },
        "xaxis": {
         "gridcolor": "#E1E5ED",
         "showgrid": true,
         "tickfont": {
          "color": "#4D5663"
         },
         "title": {
          "font": {
           "color": "#4D5663"
          },
          "text": "Headers Won/90"
         },
         "zerolinecolor": "#E1E5ED"
        },
        "yaxis": {
         "gridcolor": "#E1E5ED",
         "showgrid": true,
         "tickfont": {
          "color": "#4D5663"
         },
         "title": {
          "font": {
           "color": "#4D5663"
          },
          "text": "Interceptions/90"
         },
         "zerolinecolor": "#E1E5ED"
        }
       }
      },
      "text/html": [
       "<div>\n",
       "        \n",
       "        \n",
       "            <div id=\"e6872196-5441-4eb5-9382-9d281ad2b5d8\" class=\"plotly-graph-div\" style=\"height:525px; width:100%;\"></div>\n",
       "            <script type=\"text/javascript\">\n",
       "                require([\"plotly\"], function(Plotly) {\n",
       "                    window.PLOTLYENV=window.PLOTLYENV || {};\n",
       "                    window.PLOTLYENV.BASE_URL='https://plot.ly';\n",
       "                    \n",
       "                if (document.getElementById(\"e6872196-5441-4eb5-9382-9d281ad2b5d8\")) {\n",
       "                    Plotly.newPlot(\n",
       "                        'e6872196-5441-4eb5-9382-9d281ad2b5d8',\n",
       "                        [{\"line\": {\"color\": \"rgba(255, 153, 51, 1.0)\", \"dash\": \"solid\", \"shape\": \"linear\", \"width\": 1.3}, \"marker\": {\"size\": 10, \"symbol\": \"circle\"}, \"mode\": \"markers\", \"name\": \"Int/90\", \"text\": [\"Djibril Diakit\\u00c3\\u00a9\", \"Jo\\u00c3\\u00a3o Tavares\", \"Matej Hudecek\", \"Adrian Rybak\", \"Oskar Repka\", \"Maciej Obodecki\", \"Ivo Kralj\", \"Bartosz Sobczyk\", \"Ivan Tomac\", \"Nikola Bogdanovski\", \"Stefan Velickovic\", \"Andrija Zakoc\", \"Aur\\u00c3\\u00a9lien Nguiamba\", \"Flynn Downes\", \"Nikola Puzic\", \"Andjelo Kacavenda\", \"Tymoteusz Puchacz\", \"Felix Brunmayr\", \"Lennart Grill\", \"Josip Rakic\", \"Stefan Randjelovic\", \"Radoslaw Dzierbicki\", \"Alexandar Ubavic\", \"Veljko Jovkovic\", \"Mariano G\\u00c3\\u00b3mez\", \"David Bumberger\", \"Enrico Huss\", \"Mateo Jaksic\", \"Konrad Jozwicki\", \"Nikita Marusenko\", \"Djordje Jovanovic\", \"Filip Lisnic\", \"Dawid Szalas\", \"Vladimir Ilic\", \"Marcin Mackowiak\", \"Florin Codrean\", \"David Otto\", \"Stefan Golubovic\", \"Keanan Bennetts\", \"Andrej Vukas\", \"Jannik Tepe\", \"Mladen Devetak\", \"Tom Baack\", \"Jan Sobocinski\", \"Tom\\u00c3\\u00a1s Blanco\", \"Sinan Karweina\", \"Ben Williams\", \"Arkadiusz Zajaczkowski\", \"Miguel Reisinho\", \"Filp Ceko\", \"Michel St\\u00c3\\u00b6cker\", \"J\\u00c3\\u00a9r\\u00c3\\u00b4me Deom\", \"Ranko Jokic\", \"Palko D\\u00c3\\u00a1rdai\", \"Aleksander Tomasz\", \"Alex Vigo\", \"Daniel Bielica\", \"Marko Djira\", \"Norbert Walczak\", \"Boris Moltenis\", \"Julius Kade\", \"Goran Buljandric\", \"Jannis K\\u00c3\\u00bcbler\", \"Aleksa Jovanovic\", \"Tomasz Owczarek\", \"David Wittkowski\", \"Konrad Zaklika\", \"Pawel Karbowinski\", \"Nicky Werner\", \"Julijan Popovic\", \"Nassim Boujellab\", \"Bartlomiej Gajda\", \"Nemanja Matijevic\", \"Marko Denic\", \"Robert Baar\", \"Tuta\", \"Dusan Jokovic\", \"Tomasz Dzida\", \"Aleksa Pejic\", \"Krsta Bojic\", \"Sikou Niakat\\u00c3\\u00a9\", \"Tomasz Makowski\", \"Sebastian Gwozdz\", \"Adrian Polanski\", \"Bryan Mbeumo\", \"Dorin Sirbu\", \"Elvis Novalic\", \"Micka\\u00c3\\u00abl Cuisance\", \"Mateusz Madzia\", \"Jes\\u00c3\\u00bas Vargas\", \"Marino Jedvaj\", \"Raphael Assibey-Mensah\", \"Lukasz Sztylka\", \"Zoran Zrnzevic\", \"Alex Krawiec\", \"Petar Melezovic\", \"Tomasz Kurek\", \"Danko Radic\", \"Paul Mensah\", \"Jordan Williams\", \"Mario Mustapic\", \"Nikola Trickovic\", \"Patrik Delic\", \"Maciej Famulak\", \"Wiktor Nahrebecki\", \"Barne Poggenberg\", \"Mirza Jasarevic\", \"Ratko Minic\", \"Semih \\u00c5\\u009eahin\", \"Matej Santek\", \"Georgios Siadas\", \"Tyrese Campbell\", \"Martin Krizmanic\", \"Kacper Laskos\", \"Aleksa Milojevic\", \"Cheick Doucour\\u00c3\\u00a9\", \"Ivan Jakovljev\", \"Przemyslaw Zdybowicz\", \"Sven Botman\", \"Malik Karaahmet\", \"Lukas Kr\\u00c3\\u00bcger\", \"Niclas Stierlin\", \"Mane Markovic\", \"Karol Czubak\", \"Ilija Dejanovic\", \"Pascal Hackethal\", \"Oleg Gorin\", \"Michal Zieba\", \"Miodrag Maljkovic\", \"Jakov Blagaic\", \"Harisson Marcelin\", \"Vice Bazdaric\", \"Daniel Liszka\", \"Jan Sieracki\", \"Jhonny Lucas\", \"Tymoteusz Klups\", \"Josip Sutalo\", \"Othman Boussaid\", \"Evert Linthorst\", \"Jusuf Gazibegovic\", \"Virgiliu Postolachi\", \"Luis G\\u00c3\\u00b6rlich\", \"Andrej Ilic\", \"Daniel Haritonov\", \"Patryk Drabik\", \"Tom Dobek-Pietrowski\", \"Michal Mydlarz\", \"Cho Jeong-Hui\", \"Mohamed Loua\", \"Nemanja Zikic\", \"Emir Sejdovic\", \"Samuel Lengle\", \"Mateusz Duchowski\", \"Iliya Gruev\", \"Bartosz Borun\", \"Juraj Ljubic\", \"Gon\\u00c3\\u00a7alo Rebelo\", \"Dominik Resetar\", \"Jurica Prsir\", \"Piotr Wujec\", \"Jan Majsterek\", \"Mitchel Bakker\", \"Kamil Piatkowski\", \"Michal Ozga\", \"Karol Turek\", \"Toni Karimovic\", \"Billy Crellin\", \"Konrad Sieracki\", \"Vando Luis\", \"Jan Los\", \"Jessic Ngankam\", \"Adam Borkowski\", \"Julian Rieckmann\", \"Luka Pavlak\", \"Robert Ion\", \"Linus Rosenl\\u00c3\\u00b6cher\", \"Eugen Telch\", \"Nicholas Wunsch\", \"Dawid Kisly\", \"Uros Miloradovic\", \"Alois Oroz\", \"Luca Bazzoli\", \"Ronan Darcy\", \"Yann-Aurel Bisseck\", \"Timo Bornemann\", \"Radivoj Bosic\", \"Jakov Katusa\", \"Kacper Jozefiak\", \"Szymon Mroczko\", \"Karol Struski\", \"Wojciech Kaminski\", \"Piotr Lisowski\", \"Daishawn Redan\", \"Kacper Smolinski\", \"Lukas Sch\\u00c3\\u00b6fl\", \"Mikolaj Labojko\", \"Jakub Karbownik\", \"Damir Magdic\", \"Karol Malec\", \"Patryk Wozniak\", \"Can Bozdogan\", \"Aleksander Paluszek\", \"Mario Cuic\", \"Dragoljub Savic\", \"Nathan Collins\", \"Dominik Pila\", \"Mihael Kupresak\", \"Manu Kon\\u00c3\\u00a9\", \"Niels Hahn\", \"Tin Hrvoj\", \"Lucas Da Cunha\", \"Rahim Ibrahim\", \"Renato Josipovic\", \"Han-Noah Massengo\", \"Kacper Wiatrak\", \"Bartosz Kuzniarski\", \"Adrian Petk\", \"Fabian Tauchhammer\", \"Bartlomiej Mruk\", \"Jakub Rudek\", \"Jakub Swiecinski\", \"Jakub Nowakowski\", \"Kamil Dabrowski\", \"Yuri Sprandel Flores\", \"Stefan Radmanovac\", \"Kamal Bafounta\", \"Filip Marchwinski\", \"Kamil Lukoszek\", \"Jakub Niewiadomski\", \"Dominik Kedzior\", \"Joe Gelhardt\", \"Filip Sobiecki\", \"Fran Tomek\", \"Hubert Wasiewski\", \"Djordje Vasic\", \"Jakub Zima\", \"Damian Makuch\", \"Andrzej Kloda\", \"Stipe Biuk\", \"Mateusz Pienczak\", \"FIlip Brekalo\", \"Stefan Despotovski\", \"Jakub Kisiel\", \"Duje Skugor\", \"Martin Baturina\", \"Radoslaw Cielemecki\", \"Ariel Mosor\", \"Nikola Petkovic\", \"Nikodem Sujecki\", \"Ivan Mandic\", \"Stanislaw Loch\", \"Dario Grgic\", \"Wojciech Szybka\", \"Kacper Szmidt\", \"Vukasin Krstic\", \"Obrendo Doesburg\", \"Casper Elderman\", \"Predrag Jovic\", \"Daniel Hoyo-Kowalski\", \"Darijo Basic\", \"Wiktor Mosur\", \"Uros Mirkovic\", \"Marcos Rodr\\u00c3\\u00adguez\", \"Adrian \\u00c5\\u00a2apu\", \"Paul Mari\", \"Pawel Muzylowski\", \"Dragan Radovic\", \"Szymon Kobeszko\", \"Marcin Dabrowski\", \"Jorge Delgado\", \"Daniel Piesio\", null], \"type\": \"scatter\", \"x\": [\"0.07\", \"-\", \"3.14\", \"4.19\", \"3.65\", \"-\", \"4.78\", \"3.08\", \"2.85\", \"1.46\", \"2.45\", \"3.70\", \"3.02\", \"3.91\", \"3.03\", \"5.52\", \"2.87\", \"1.13\", \"-\", \"2.59\", \"-\", \"2.31\", \"-\", \"2.01\", \"3.44\", \"4.03\", \"2.68\", \"4.02\", \"2.60\", \"3.17\", \"1.69\", \"5.22\", \"1.10\", \"3.52\", \"5.53\", \"-\", \"2.10\", \"3.70\", \"2.58\", \"2.69\", \"1.24\", \"3.79\", \"2.95\", \"5.54\", \"1.32\", \"1.61\", \"4.15\", \"4.10\", \"1.45\", \"3.28\", \"5.10\", \"0.29\", \"4.17\", \"1.45\", \"-\", \"1.09\", \"-\", \"2.32\", \"-\", \"5.00\", \"1.52\", \"-\", \"2.76\", \"4.91\", \"4.91\", \"2.41\", \"4.21\", \"2.74\", \"0.92\", \"3.27\", \"3.23\", \"6.00\", \"1.65\", \"-\", \"4.89\", \"4.67\", \"4.96\", \"1.95\", \"4.08\", \"3.00\", \"5.38\", \"3.06\", \"-\", \"3.89\", \"1.51\", \"-\", \"2.89\", \"1.84\", \"5.03\", \"0.89\", \"-\", \"-\", \"4.74\", \"-\", \"1.97\", \"-\", \"1.90\", \"1.24\", \"0.96\", \"3.84\", \"-\", \"3.11\", \"-\", \"2.64\", \"3.59\", \"2.82\", \"1.87\", \"1.97\", \"1.45\", \"1.73\", \"3.44\", \"1.12\", \"6.00\", \"4.30\", \"-\", \"4.18\", \"-\", \"1.51\", \"5.96\", \"-\", \"2.21\", \"3.89\", \"-\", \"2.16\", \"-\", \"2.58\", \"3.97\", \"3.45\", \"2.52\", \"2.57\", \"0.70\", \"-\", \"1.45\", \"3.07\", \"3.23\", \"2.52\", \"5.57\", \"-\", \"2.17\", \"2.70\", \"-\", \"3.30\", \"3.31\", \"3.58\", \"1.57\", \"4.04\", \"2.77\", \"0.13\", \"3.45\", \"-\", \"2.91\", \"4.01\", \"3.44\", \"3.81\", \"4.13\", \"2.98\", \"0.21\", \"2.31\", \"2.98\", \"5.44\", \"3.76\", \"5.18\", \"4.52\", \"4.63\", \"3.43\", \"2.16\", \"-\", \"3.42\", \"0.47\", \"1.60\", \"2.42\", \"1.30\", \"5.81\", \"3.20\", \"2.34\", \"3.28\", \"-\", \"1.39\", \"3.34\", \"4.06\", \"4.44\", \"3.63\", \"1.41\", \"6.22\", \"1.65\", \"2.02\", \"1.68\", \"5.97\", \"2.16\", \"3.05\", \"5.22\", \"4.05\", \"1.71\", \"2.43\", \"-\", \"-\", \"2.52\", \"3.70\", \"1.86\", \"3.14\", \"2.76\", \"5.16\", \"5.98\", \"-\", \"5.24\", \"3.38\", \"1.88\", \"-\", \"-\", \"4.69\", \"-\", \"-\", \"-\", \"3.34\", \"-\", \"1.17\", \"4.20\", \"-\", \"4.67\", \"1.92\", \"3.80\", \"-\", \"2.02\", \"4.20\", \"2.99\", \"4.83\", \"2.81\", \"1.48\", \"3.48\", \"2.00\", \"0.13\", \"3.26\", \"2.88\", \"-\", \"2.46\", \"5.80\", \"5.50\", \"4.59\", \"3.08\", \"4.24\", \"2.43\", \"5.38\", \"4.16\", \"1.84\", \"3.08\", \"2.79\", \"5.13\", \"4.39\", \"-\", \"-\", \"3.17\", \"3.61\", \"2.76\", \"2.89\", \"5.07\", \"-\", \"4.08\", \"1.57\", \"5.69\", \"2.76\", \"1.70\", \"1.80\", \"2.49\", \"2.95\", \"3.95\", \"3.12\", \"2.10\", \"4.21\", \"3.12\", \"0.80\", \"3.31\", null], \"y\": [\"0.07\", \"-\", \"2.47\", \"2.55\", \"3.02\", \"-\", \"4.56\", \"1.13\", \"3.32\", \"2.92\", \"2.30\", \"1.15\", \"2.63\", \"2.46\", \"3.40\", \"3.12\", \"3.17\", \"0.88\", \"-\", \"3.35\", \"-\", \"0.79\", \"-\", \"1.61\", \"1.72\", \"4.08\", \"1.83\", \"2.30\", \"1.50\", \"2.08\", \"1.39\", \"3.22\", \"1.21\", \"1.24\", \"2.77\", \"-\", \"1.19\", \"1.15\", \"1.18\", \"0.93\", \"1.24\", \"2.86\", \"2.78\", \"3.29\", \"0.85\", \"1.21\", \"3.08\", \"3.89\", \"1.59\", \"2.94\", \"3.82\", \"0.36\", \"2.67\", \"1.41\", \"-\", \"1.49\", \"-\", \"1.65\", \"-\", \"2.94\", \"1.10\", \"-\", \"3.70\", \"2.82\", \"1.62\", \"3.67\", \"2.35\", \"1.00\", \"0.92\", \"2.85\", \"1.56\", \"4.17\", \"0.80\", \"-\", \"1.32\", \"3.06\", \"2.66\", \"0.93\", \"2.47\", \"1.41\", \"4.28\", \"3.39\", \"-\", \"4.07\", \"0.98\", \"-\", \"2.57\", \"1.25\", \"3.88\", \"1.99\", \"-\", \"-\", \"1.49\", \"-\", \"1.10\", \"-\", \"0.92\", \"1.29\", \"0.96\", \"2.44\", \"-\", \"1.20\", \"-\", \"0.85\", \"3.53\", \"2.91\", \"0.84\", \"0.77\", \"2.90\", \"4.32\", \"3.67\", \"1.00\", \"2.58\", \"2.42\", \"-\", \"3.00\", \"-\", \"0.79\", \"2.76\", \"-\", \"1.49\", \"2.43\", \"-\", \"0.70\", \"-\", \"2.72\", \"2.65\", \"2.57\", \"0.88\", \"1.69\", \"0.38\", \"-\", \"1.95\", \"2.15\", \"3.53\", \"0.86\", \"3.43\", \"-\", \"0.91\", \"1.80\", \"-\", \"2.15\", \"1.03\", \"3.23\", \"0.67\", \"2.24\", \"3.21\", \"0.09\", \"3.74\", \"-\", \"2.04\", \"3.45\", \"1.19\", \"3.07\", \"1.33\", \"1.61\", \"0.17\", \"0.92\", \"2.10\", \"3.89\", \"2.05\", \"1.94\", \"3.59\", \"1.25\", \"3.60\", \"1.90\", \"-\", \"1.33\", \"0.21\", \"1.25\", \"1.18\", \"0.92\", \"4.07\", \"2.50\", \"2.16\", \"2.33\", \"-\", \"1.01\", \"1.70\", \"2.48\", \"3.61\", \"1.13\", \"0.47\", \"3.15\", \"0.96\", \"1.84\", \"0.97\", \"3.57\", \"1.76\", \"1.56\", \"3.84\", \"3.73\", \"1.86\", \"3.20\", \"-\", \"-\", \"0.73\", \"2.31\", \"0.93\", \"2.04\", \"2.25\", \"3.57\", \"5.09\", \"-\", \"2.76\", \"0.80\", \"1.53\", \"-\", \"-\", \"2.27\", \"-\", \"-\", \"-\", \"2.94\", \"-\", \"1.23\", \"3.73\", \"-\", \"4.61\", \"2.73\", \"2.92\", \"-\", \"0.87\", \"2.01\", \"1.33\", \"5.14\", \"1.29\", \"1.09\", \"1.91\", \"0.96\", \"0.19\", \"1.37\", \"3.21\", \"-\", \"0.80\", \"2.90\", \"4.38\", \"3.21\", \"0.99\", \"2.62\", \"3.02\", \"4.47\", \"1.65\", \"0.77\", \"0.85\", \"2.28\", \"4.00\", \"3.42\", \"-\", \"-\", \"1.06\", \"1.48\", \"4.07\", \"0.96\", \"4.23\", \"-\", \"3.21\", \"1.46\", \"3.61\", \"2.01\", \"1.07\", \"0.96\", \"1.37\", \"1.36\", \"3.14\", \"1.00\", \"1.76\", \"2.69\", \"1.72\", \"0.80\", \"3.25\", \"\"]}],\n",
       "                        {\"legend\": {\"bgcolor\": \"#F5F6F9\", \"font\": {\"color\": \"#4D5663\"}}, \"paper_bgcolor\": \"#F5F6F9\", \"plot_bgcolor\": \"#F5F6F9\", \"template\": {\"data\": {\"bar\": [{\"error_x\": {\"color\": \"#2a3f5f\"}, \"error_y\": {\"color\": \"#2a3f5f\"}, \"marker\": {\"line\": {\"color\": \"#E5ECF6\", \"width\": 0.5}}, \"type\": \"bar\"}], \"barpolar\": [{\"marker\": {\"line\": {\"color\": \"#E5ECF6\", \"width\": 0.5}}, \"type\": \"barpolar\"}], \"carpet\": [{\"aaxis\": {\"endlinecolor\": \"#2a3f5f\", \"gridcolor\": \"white\", \"linecolor\": \"white\", \"minorgridcolor\": \"white\", \"startlinecolor\": \"#2a3f5f\"}, \"baxis\": {\"endlinecolor\": \"#2a3f5f\", \"gridcolor\": \"white\", \"linecolor\": \"white\", \"minorgridcolor\": \"white\", \"startlinecolor\": \"#2a3f5f\"}, \"type\": \"carpet\"}], \"choropleth\": [{\"colorbar\": {\"outlinewidth\": 0, \"ticks\": \"\"}, \"type\": \"choropleth\"}], \"contour\": [{\"colorbar\": {\"outlinewidth\": 0, \"ticks\": \"\"}, \"colorscale\": [[0.0, \"#0d0887\"], [0.1111111111111111, \"#46039f\"], [0.2222222222222222, \"#7201a8\"], [0.3333333333333333, \"#9c179e\"], [0.4444444444444444, \"#bd3786\"], [0.5555555555555556, \"#d8576b\"], [0.6666666666666666, \"#ed7953\"], [0.7777777777777778, \"#fb9f3a\"], [0.8888888888888888, \"#fdca26\"], [1.0, \"#f0f921\"]], \"type\": \"contour\"}], \"contourcarpet\": [{\"colorbar\": {\"outlinewidth\": 0, \"ticks\": \"\"}, \"type\": \"contourcarpet\"}], \"heatmap\": [{\"colorbar\": {\"outlinewidth\": 0, \"ticks\": \"\"}, \"colorscale\": [[0.0, \"#0d0887\"], [0.1111111111111111, \"#46039f\"], [0.2222222222222222, \"#7201a8\"], [0.3333333333333333, \"#9c179e\"], [0.4444444444444444, \"#bd3786\"], [0.5555555555555556, \"#d8576b\"], [0.6666666666666666, \"#ed7953\"], [0.7777777777777778, \"#fb9f3a\"], [0.8888888888888888, \"#fdca26\"], [1.0, \"#f0f921\"]], \"type\": \"heatmap\"}], \"heatmapgl\": [{\"colorbar\": {\"outlinewidth\": 0, \"ticks\": \"\"}, \"colorscale\": [[0.0, \"#0d0887\"], [0.1111111111111111, \"#46039f\"], [0.2222222222222222, \"#7201a8\"], [0.3333333333333333, \"#9c179e\"], [0.4444444444444444, \"#bd3786\"], [0.5555555555555556, \"#d8576b\"], [0.6666666666666666, \"#ed7953\"], [0.7777777777777778, \"#fb9f3a\"], [0.8888888888888888, \"#fdca26\"], [1.0, \"#f0f921\"]], \"type\": \"heatmapgl\"}], \"histogram\": [{\"marker\": {\"colorbar\": {\"outlinewidth\": 0, \"ticks\": \"\"}}, \"type\": \"histogram\"}], \"histogram2d\": [{\"colorbar\": {\"outlinewidth\": 0, \"ticks\": \"\"}, \"colorscale\": [[0.0, \"#0d0887\"], [0.1111111111111111, \"#46039f\"], [0.2222222222222222, \"#7201a8\"], [0.3333333333333333, \"#9c179e\"], [0.4444444444444444, \"#bd3786\"], [0.5555555555555556, \"#d8576b\"], [0.6666666666666666, \"#ed7953\"], [0.7777777777777778, \"#fb9f3a\"], [0.8888888888888888, \"#fdca26\"], [1.0, \"#f0f921\"]], \"type\": \"histogram2d\"}], \"histogram2dcontour\": [{\"colorbar\": {\"outlinewidth\": 0, \"ticks\": \"\"}, \"colorscale\": [[0.0, \"#0d0887\"], [0.1111111111111111, \"#46039f\"], [0.2222222222222222, \"#7201a8\"], [0.3333333333333333, \"#9c179e\"], [0.4444444444444444, \"#bd3786\"], [0.5555555555555556, \"#d8576b\"], [0.6666666666666666, \"#ed7953\"], [0.7777777777777778, \"#fb9f3a\"], [0.8888888888888888, \"#fdca26\"], [1.0, \"#f0f921\"]], \"type\": \"histogram2dcontour\"}], \"mesh3d\": [{\"colorbar\": {\"outlinewidth\": 0, \"ticks\": \"\"}, \"type\": \"mesh3d\"}], \"parcoords\": [{\"line\": {\"colorbar\": {\"outlinewidth\": 0, \"ticks\": \"\"}}, \"type\": \"parcoords\"}], \"pie\": [{\"automargin\": true, \"type\": \"pie\"}], \"scatter\": [{\"marker\": {\"colorbar\": {\"outlinewidth\": 0, \"ticks\": \"\"}}, \"type\": \"scatter\"}], \"scatter3d\": [{\"line\": {\"colorbar\": {\"outlinewidth\": 0, \"ticks\": \"\"}}, \"marker\": {\"colorbar\": {\"outlinewidth\": 0, \"ticks\": \"\"}}, \"type\": \"scatter3d\"}], \"scattercarpet\": [{\"marker\": {\"colorbar\": {\"outlinewidth\": 0, \"ticks\": \"\"}}, \"type\": \"scattercarpet\"}], \"scattergeo\": [{\"marker\": {\"colorbar\": {\"outlinewidth\": 0, \"ticks\": \"\"}}, \"type\": \"scattergeo\"}], \"scattergl\": [{\"marker\": {\"colorbar\": {\"outlinewidth\": 0, \"ticks\": \"\"}}, \"type\": \"scattergl\"}], \"scattermapbox\": [{\"marker\": {\"colorbar\": {\"outlinewidth\": 0, \"ticks\": \"\"}}, \"type\": \"scattermapbox\"}], \"scatterpolar\": [{\"marker\": {\"colorbar\": {\"outlinewidth\": 0, \"ticks\": \"\"}}, \"type\": \"scatterpolar\"}], \"scatterpolargl\": [{\"marker\": {\"colorbar\": {\"outlinewidth\": 0, \"ticks\": \"\"}}, \"type\": \"scatterpolargl\"}], \"scatterternary\": [{\"marker\": {\"colorbar\": {\"outlinewidth\": 0, \"ticks\": \"\"}}, \"type\": \"scatterternary\"}], \"surface\": [{\"colorbar\": {\"outlinewidth\": 0, \"ticks\": \"\"}, \"colorscale\": [[0.0, \"#0d0887\"], [0.1111111111111111, \"#46039f\"], [0.2222222222222222, \"#7201a8\"], [0.3333333333333333, \"#9c179e\"], [0.4444444444444444, \"#bd3786\"], [0.5555555555555556, \"#d8576b\"], [0.6666666666666666, \"#ed7953\"], [0.7777777777777778, \"#fb9f3a\"], [0.8888888888888888, \"#fdca26\"], [1.0, \"#f0f921\"]], \"type\": \"surface\"}], \"table\": [{\"cells\": {\"fill\": {\"color\": \"#EBF0F8\"}, \"line\": {\"color\": \"white\"}}, \"header\": {\"fill\": {\"color\": \"#C8D4E3\"}, \"line\": {\"color\": \"white\"}}, \"type\": \"table\"}]}, \"layout\": {\"annotationdefaults\": {\"arrowcolor\": \"#2a3f5f\", \"arrowhead\": 0, \"arrowwidth\": 1}, \"coloraxis\": {\"colorbar\": {\"outlinewidth\": 0, \"ticks\": \"\"}}, \"colorscale\": {\"diverging\": [[0, \"#8e0152\"], [0.1, \"#c51b7d\"], [0.2, \"#de77ae\"], [0.3, \"#f1b6da\"], [0.4, \"#fde0ef\"], [0.5, \"#f7f7f7\"], [0.6, \"#e6f5d0\"], [0.7, \"#b8e186\"], [0.8, \"#7fbc41\"], [0.9, \"#4d9221\"], [1, \"#276419\"]], \"sequential\": [[0.0, \"#0d0887\"], [0.1111111111111111, \"#46039f\"], [0.2222222222222222, \"#7201a8\"], [0.3333333333333333, \"#9c179e\"], [0.4444444444444444, \"#bd3786\"], [0.5555555555555556, \"#d8576b\"], [0.6666666666666666, \"#ed7953\"], [0.7777777777777778, \"#fb9f3a\"], [0.8888888888888888, \"#fdca26\"], [1.0, \"#f0f921\"]], \"sequentialminus\": [[0.0, \"#0d0887\"], [0.1111111111111111, \"#46039f\"], [0.2222222222222222, \"#7201a8\"], [0.3333333333333333, \"#9c179e\"], [0.4444444444444444, \"#bd3786\"], [0.5555555555555556, \"#d8576b\"], [0.6666666666666666, \"#ed7953\"], [0.7777777777777778, \"#fb9f3a\"], [0.8888888888888888, \"#fdca26\"], [1.0, \"#f0f921\"]]}, \"colorway\": [\"#636efa\", \"#EF553B\", \"#00cc96\", \"#ab63fa\", \"#FFA15A\", \"#19d3f3\", \"#FF6692\", \"#B6E880\", \"#FF97FF\", \"#FECB52\"], \"font\": {\"color\": \"#2a3f5f\"}, \"geo\": {\"bgcolor\": \"white\", \"lakecolor\": \"white\", \"landcolor\": \"#E5ECF6\", \"showlakes\": true, \"showland\": true, \"subunitcolor\": \"white\"}, \"hoverlabel\": {\"align\": \"left\"}, \"hovermode\": \"closest\", \"mapbox\": {\"style\": \"light\"}, \"paper_bgcolor\": \"white\", \"plot_bgcolor\": \"#E5ECF6\", \"polar\": {\"angularaxis\": {\"gridcolor\": \"white\", \"linecolor\": \"white\", \"ticks\": \"\"}, \"bgcolor\": \"#E5ECF6\", \"radialaxis\": {\"gridcolor\": \"white\", \"linecolor\": \"white\", \"ticks\": \"\"}}, \"scene\": {\"xaxis\": {\"backgroundcolor\": \"#E5ECF6\", \"gridcolor\": \"white\", \"gridwidth\": 2, \"linecolor\": \"white\", \"showbackground\": true, \"ticks\": \"\", \"zerolinecolor\": \"white\"}, \"yaxis\": {\"backgroundcolor\": \"#E5ECF6\", \"gridcolor\": \"white\", \"gridwidth\": 2, \"linecolor\": \"white\", \"showbackground\": true, \"ticks\": \"\", \"zerolinecolor\": \"white\"}, \"zaxis\": {\"backgroundcolor\": \"#E5ECF6\", \"gridcolor\": \"white\", \"gridwidth\": 2, \"linecolor\": \"white\", \"showbackground\": true, \"ticks\": \"\", \"zerolinecolor\": \"white\"}}, \"shapedefaults\": {\"line\": {\"color\": \"#2a3f5f\"}}, \"ternary\": {\"aaxis\": {\"gridcolor\": \"white\", \"linecolor\": \"white\", \"ticks\": \"\"}, \"baxis\": {\"gridcolor\": \"white\", \"linecolor\": \"white\", \"ticks\": \"\"}, \"bgcolor\": \"#E5ECF6\", \"caxis\": {\"gridcolor\": \"white\", \"linecolor\": \"white\", \"ticks\": \"\"}}, \"title\": {\"x\": 0.05}, \"xaxis\": {\"automargin\": true, \"gridcolor\": \"white\", \"linecolor\": \"white\", \"ticks\": \"\", \"title\": {\"standoff\": 15}, \"zerolinecolor\": \"white\", \"zerolinewidth\": 2}, \"yaxis\": {\"automargin\": true, \"gridcolor\": \"white\", \"linecolor\": \"white\", \"ticks\": \"\", \"title\": {\"standoff\": 15}, \"zerolinecolor\": \"white\", \"zerolinewidth\": 2}}}, \"title\": {\"font\": {\"color\": \"#4D5663\"}, \"text\": \"Central Defender - Defend\"}, \"xaxis\": {\"gridcolor\": \"#E1E5ED\", \"showgrid\": true, \"tickfont\": {\"color\": \"#4D5663\"}, \"title\": {\"font\": {\"color\": \"#4D5663\"}, \"text\": \"Headers Won/90\"}, \"zerolinecolor\": \"#E1E5ED\"}, \"yaxis\": {\"gridcolor\": \"#E1E5ED\", \"showgrid\": true, \"tickfont\": {\"color\": \"#4D5663\"}, \"title\": {\"font\": {\"color\": \"#4D5663\"}, \"text\": \"Interceptions/90\"}, \"zerolinecolor\": \"#E1E5ED\"}},\n",
       "                        {\"showLink\": true, \"linkText\": \"Export to plot.ly\", \"plotlyServerURL\": \"https://plot.ly\", \"responsive\": true}\n",
       "                    ).then(function(){\n",
       "                            \n",
       "var gd = document.getElementById('e6872196-5441-4eb5-9382-9d281ad2b5d8');\n",
       "var x = new MutationObserver(function (mutations, observer) {{\n",
       "        var display = window.getComputedStyle(gd).display;\n",
       "        if (!display || display === 'none') {{\n",
       "            console.log([gd, 'removed!']);\n",
       "            Plotly.purge(gd);\n",
       "            observer.disconnect();\n",
       "        }}\n",
       "}});\n",
       "\n",
       "// Listen for the removal of the full notebook cells\n",
       "var notebookContainer = gd.closest('#notebook-container');\n",
       "if (notebookContainer) {{\n",
       "    x.observe(notebookContainer, {childList: true});\n",
       "}}\n",
       "\n",
       "// Listen for the clearing of the current output cell\n",
       "var outputEl = gd.closest('.output');\n",
       "if (outputEl) {{\n",
       "    x.observe(outputEl, {childList: true});\n",
       "}}\n",
       "\n",
       "                        })\n",
       "                };\n",
       "                });\n",
       "            </script>\n",
       "        </div>"
      ]
     },
     "metadata": {},
     "output_type": "display_data"
    }
   ],
   "source": [
    "df1.iplot(kind='scatter',x='Hdrs W/90',y='Int/90',\n",
    "           mode='markers',text='Name',size=10,\n",
    "          xTitle='Headers Won/90',yTitle='Interceptions/90',title='Central Defender - Defend')"
   ]
  },
  {
   "cell_type": "code",
   "execution_count": 14,
   "metadata": {},
   "outputs": [
    {
     "name": "stdout",
     "output_type": "stream",
     "text": [
      "Defensive Midfielder\n"
     ]
    },
    {
     "data": {
      "text/html": [
       "<style  type=\"text/css\" >\n",
       "    #T_e0576b39_91d2_11ea_b006_4ceb428e4071row0_col1 {\n",
       "            background-color:  #d0e1f2;\n",
       "            color:  #000000;\n",
       "        }    #T_e0576b39_91d2_11ea_b006_4ceb428e4071row0_col2 {\n",
       "            background-color:  #6aaed6;\n",
       "            color:  #000000;\n",
       "        }    #T_e0576b39_91d2_11ea_b006_4ceb428e4071row0_col3 {\n",
       "            background-color:  #1764ab;\n",
       "            color:  #f1f1f1;\n",
       "        }    #T_e0576b39_91d2_11ea_b006_4ceb428e4071row0_col4 {\n",
       "            background-color:  #1764ab;\n",
       "            color:  #f1f1f1;\n",
       "        }    #T_e0576b39_91d2_11ea_b006_4ceb428e4071row0_col5 {\n",
       "            background-color:  #539ecd;\n",
       "            color:  #000000;\n",
       "        }    #T_e0576b39_91d2_11ea_b006_4ceb428e4071row0_col6 {\n",
       "            background-color:  #2070b4;\n",
       "            color:  #f1f1f1;\n",
       "        }    #T_e0576b39_91d2_11ea_b006_4ceb428e4071row0_col7 {\n",
       "            background-color:  #1764ab;\n",
       "            color:  #f1f1f1;\n",
       "        }    #T_e0576b39_91d2_11ea_b006_4ceb428e4071row0_col8 {\n",
       "            background-color:  #2070b4;\n",
       "            color:  #f1f1f1;\n",
       "        }    #T_e0576b39_91d2_11ea_b006_4ceb428e4071row0_col9 {\n",
       "            background-color:  #08306b;\n",
       "            color:  #f1f1f1;\n",
       "        }    #T_e0576b39_91d2_11ea_b006_4ceb428e4071row1_col1 {\n",
       "            background-color:  #f7fbff;\n",
       "            color:  #000000;\n",
       "        }    #T_e0576b39_91d2_11ea_b006_4ceb428e4071row1_col2 {\n",
       "            background-color:  #c6dbef;\n",
       "            color:  #000000;\n",
       "        }    #T_e0576b39_91d2_11ea_b006_4ceb428e4071row1_col3 {\n",
       "            background-color:  #1764ab;\n",
       "            color:  #f1f1f1;\n",
       "        }    #T_e0576b39_91d2_11ea_b006_4ceb428e4071row1_col4 {\n",
       "            background-color:  #d0e1f2;\n",
       "            color:  #000000;\n",
       "        }    #T_e0576b39_91d2_11ea_b006_4ceb428e4071row1_col5 {\n",
       "            background-color:  #f7fbff;\n",
       "            color:  #000000;\n",
       "        }    #T_e0576b39_91d2_11ea_b006_4ceb428e4071row1_col6 {\n",
       "            background-color:  #08509b;\n",
       "            color:  #f1f1f1;\n",
       "        }    #T_e0576b39_91d2_11ea_b006_4ceb428e4071row1_col7 {\n",
       "            background-color:  #1764ab;\n",
       "            color:  #f1f1f1;\n",
       "        }    #T_e0576b39_91d2_11ea_b006_4ceb428e4071row1_col8 {\n",
       "            background-color:  #08306b;\n",
       "            color:  #f1f1f1;\n",
       "        }    #T_e0576b39_91d2_11ea_b006_4ceb428e4071row1_col9 {\n",
       "            background-color:  #7db8da;\n",
       "            color:  #000000;\n",
       "        }    #T_e0576b39_91d2_11ea_b006_4ceb428e4071row2_col1 {\n",
       "            background-color:  #1764ab;\n",
       "            color:  #f1f1f1;\n",
       "        }    #T_e0576b39_91d2_11ea_b006_4ceb428e4071row2_col2 {\n",
       "            background-color:  #2070b4;\n",
       "            color:  #f1f1f1;\n",
       "        }    #T_e0576b39_91d2_11ea_b006_4ceb428e4071row2_col3 {\n",
       "            background-color:  #4a98c9;\n",
       "            color:  #000000;\n",
       "        }    #T_e0576b39_91d2_11ea_b006_4ceb428e4071row2_col4 {\n",
       "            background-color:  #94c4df;\n",
       "            color:  #000000;\n",
       "        }    #T_e0576b39_91d2_11ea_b006_4ceb428e4071row2_col5 {\n",
       "            background-color:  #2b7bba;\n",
       "            color:  #000000;\n",
       "        }    #T_e0576b39_91d2_11ea_b006_4ceb428e4071row2_col6 {\n",
       "            background-color:  #6aaed6;\n",
       "            color:  #000000;\n",
       "        }    #T_e0576b39_91d2_11ea_b006_4ceb428e4071row2_col7 {\n",
       "            background-color:  #94c4df;\n",
       "            color:  #000000;\n",
       "        }    #T_e0576b39_91d2_11ea_b006_4ceb428e4071row2_col8 {\n",
       "            background-color:  #c6dbef;\n",
       "            color:  #000000;\n",
       "        }    #T_e0576b39_91d2_11ea_b006_4ceb428e4071row2_col9 {\n",
       "            background-color:  #bfd8ed;\n",
       "            color:  #000000;\n",
       "        }    #T_e0576b39_91d2_11ea_b006_4ceb428e4071row3_col1 {\n",
       "            background-color:  #4a98c9;\n",
       "            color:  #000000;\n",
       "        }    #T_e0576b39_91d2_11ea_b006_4ceb428e4071row3_col2 {\n",
       "            background-color:  #c6dbef;\n",
       "            color:  #000000;\n",
       "        }    #T_e0576b39_91d2_11ea_b006_4ceb428e4071row3_col3 {\n",
       "            background-color:  #4a98c9;\n",
       "            color:  #000000;\n",
       "        }    #T_e0576b39_91d2_11ea_b006_4ceb428e4071row3_col4 {\n",
       "            background-color:  #94c4df;\n",
       "            color:  #000000;\n",
       "        }    #T_e0576b39_91d2_11ea_b006_4ceb428e4071row3_col5 {\n",
       "            background-color:  #539ecd;\n",
       "            color:  #000000;\n",
       "        }    #T_e0576b39_91d2_11ea_b006_4ceb428e4071row3_col6 {\n",
       "            background-color:  #4191c6;\n",
       "            color:  #000000;\n",
       "        }    #T_e0576b39_91d2_11ea_b006_4ceb428e4071row3_col7 {\n",
       "            background-color:  #94c4df;\n",
       "            color:  #000000;\n",
       "        }    #T_e0576b39_91d2_11ea_b006_4ceb428e4071row3_col8 {\n",
       "            background-color:  #6aaed6;\n",
       "            color:  #000000;\n",
       "        }    #T_e0576b39_91d2_11ea_b006_4ceb428e4071row3_col9 {\n",
       "            background-color:  #d3e4f3;\n",
       "            color:  #000000;\n",
       "        }    #T_e0576b39_91d2_11ea_b006_4ceb428e4071row4_col1 {\n",
       "            background-color:  #94c4df;\n",
       "            color:  #000000;\n",
       "        }    #T_e0576b39_91d2_11ea_b006_4ceb428e4071row4_col2 {\n",
       "            background-color:  #6aaed6;\n",
       "            color:  #000000;\n",
       "        }    #T_e0576b39_91d2_11ea_b006_4ceb428e4071row4_col3 {\n",
       "            background-color:  #08306b;\n",
       "            color:  #f1f1f1;\n",
       "        }    #T_e0576b39_91d2_11ea_b006_4ceb428e4071row4_col4 {\n",
       "            background-color:  #94c4df;\n",
       "            color:  #000000;\n",
       "        }    #T_e0576b39_91d2_11ea_b006_4ceb428e4071row4_col5 {\n",
       "            background-color:  #2b7bba;\n",
       "            color:  #000000;\n",
       "        }    #T_e0576b39_91d2_11ea_b006_4ceb428e4071row4_col6 {\n",
       "            background-color:  #deebf7;\n",
       "            color:  #000000;\n",
       "        }    #T_e0576b39_91d2_11ea_b006_4ceb428e4071row4_col7 {\n",
       "            background-color:  #d0e1f2;\n",
       "            color:  #000000;\n",
       "        }    #T_e0576b39_91d2_11ea_b006_4ceb428e4071row4_col8 {\n",
       "            background-color:  #c6dbef;\n",
       "            color:  #000000;\n",
       "        }    #T_e0576b39_91d2_11ea_b006_4ceb428e4071row4_col9 {\n",
       "            background-color:  #d3e4f3;\n",
       "            color:  #000000;\n",
       "        }    #T_e0576b39_91d2_11ea_b006_4ceb428e4071row5_col1 {\n",
       "            background-color:  #d0e1f2;\n",
       "            color:  #000000;\n",
       "        }    #T_e0576b39_91d2_11ea_b006_4ceb428e4071row5_col2 {\n",
       "            background-color:  #f7fbff;\n",
       "            color:  #000000;\n",
       "        }    #T_e0576b39_91d2_11ea_b006_4ceb428e4071row5_col3 {\n",
       "            background-color:  #4a98c9;\n",
       "            color:  #000000;\n",
       "        }    #T_e0576b39_91d2_11ea_b006_4ceb428e4071row5_col4 {\n",
       "            background-color:  #f7fbff;\n",
       "            color:  #000000;\n",
       "        }    #T_e0576b39_91d2_11ea_b006_4ceb428e4071row5_col5 {\n",
       "            background-color:  #89bedc;\n",
       "            color:  #000000;\n",
       "        }    #T_e0576b39_91d2_11ea_b006_4ceb428e4071row5_col6 {\n",
       "            background-color:  #08306b;\n",
       "            color:  #f1f1f1;\n",
       "        }    #T_e0576b39_91d2_11ea_b006_4ceb428e4071row5_col7 {\n",
       "            background-color:  #1764ab;\n",
       "            color:  #f1f1f1;\n",
       "        }    #T_e0576b39_91d2_11ea_b006_4ceb428e4071row5_col8 {\n",
       "            background-color:  #c6dbef;\n",
       "            color:  #000000;\n",
       "        }    #T_e0576b39_91d2_11ea_b006_4ceb428e4071row5_col9 {\n",
       "            background-color:  #d3e4f3;\n",
       "            color:  #000000;\n",
       "        }    #T_e0576b39_91d2_11ea_b006_4ceb428e4071row6_col1 {\n",
       "            background-color:  #1764ab;\n",
       "            color:  #f1f1f1;\n",
       "        }    #T_e0576b39_91d2_11ea_b006_4ceb428e4071row6_col2 {\n",
       "            background-color:  #08306b;\n",
       "            color:  #f1f1f1;\n",
       "        }    #T_e0576b39_91d2_11ea_b006_4ceb428e4071row6_col3 {\n",
       "            background-color:  #f7fbff;\n",
       "            color:  #000000;\n",
       "        }    #T_e0576b39_91d2_11ea_b006_4ceb428e4071row6_col4 {\n",
       "            background-color:  #d0e1f2;\n",
       "            color:  #000000;\n",
       "        }    #T_e0576b39_91d2_11ea_b006_4ceb428e4071row6_col5 {\n",
       "            background-color:  #539ecd;\n",
       "            color:  #000000;\n",
       "        }    #T_e0576b39_91d2_11ea_b006_4ceb428e4071row6_col6 {\n",
       "            background-color:  #2070b4;\n",
       "            color:  #f1f1f1;\n",
       "        }    #T_e0576b39_91d2_11ea_b006_4ceb428e4071row6_col7 {\n",
       "            background-color:  #08306b;\n",
       "            color:  #f1f1f1;\n",
       "        }    #T_e0576b39_91d2_11ea_b006_4ceb428e4071row6_col8 {\n",
       "            background-color:  #6aaed6;\n",
       "            color:  #000000;\n",
       "        }    #T_e0576b39_91d2_11ea_b006_4ceb428e4071row6_col9 {\n",
       "            background-color:  #d3e4f3;\n",
       "            color:  #000000;\n",
       "        }    #T_e0576b39_91d2_11ea_b006_4ceb428e4071row7_col1 {\n",
       "            background-color:  #08306b;\n",
       "            color:  #f1f1f1;\n",
       "        }    #T_e0576b39_91d2_11ea_b006_4ceb428e4071row7_col2 {\n",
       "            background-color:  #c6dbef;\n",
       "            color:  #000000;\n",
       "        }    #T_e0576b39_91d2_11ea_b006_4ceb428e4071row7_col3 {\n",
       "            background-color:  #4a98c9;\n",
       "            color:  #000000;\n",
       "        }    #T_e0576b39_91d2_11ea_b006_4ceb428e4071row7_col4 {\n",
       "            background-color:  #4a98c9;\n",
       "            color:  #000000;\n",
       "        }    #T_e0576b39_91d2_11ea_b006_4ceb428e4071row7_col5 {\n",
       "            background-color:  #2b7bba;\n",
       "            color:  #000000;\n",
       "        }    #T_e0576b39_91d2_11ea_b006_4ceb428e4071row7_col6 {\n",
       "            background-color:  #deebf7;\n",
       "            color:  #000000;\n",
       "        }    #T_e0576b39_91d2_11ea_b006_4ceb428e4071row7_col7 {\n",
       "            background-color:  #d0e1f2;\n",
       "            color:  #000000;\n",
       "        }    #T_e0576b39_91d2_11ea_b006_4ceb428e4071row7_col8 {\n",
       "            background-color:  #08306b;\n",
       "            color:  #f1f1f1;\n",
       "        }    #T_e0576b39_91d2_11ea_b006_4ceb428e4071row7_col9 {\n",
       "            background-color:  #e5eff9;\n",
       "            color:  #000000;\n",
       "        }    #T_e0576b39_91d2_11ea_b006_4ceb428e4071row8_col1 {\n",
       "            background-color:  #08306b;\n",
       "            color:  #f1f1f1;\n",
       "        }    #T_e0576b39_91d2_11ea_b006_4ceb428e4071row8_col2 {\n",
       "            background-color:  #6aaed6;\n",
       "            color:  #000000;\n",
       "        }    #T_e0576b39_91d2_11ea_b006_4ceb428e4071row8_col3 {\n",
       "            background-color:  #4a98c9;\n",
       "            color:  #000000;\n",
       "        }    #T_e0576b39_91d2_11ea_b006_4ceb428e4071row8_col4 {\n",
       "            background-color:  #4a98c9;\n",
       "            color:  #000000;\n",
       "        }    #T_e0576b39_91d2_11ea_b006_4ceb428e4071row8_col5 {\n",
       "            background-color:  #2b7bba;\n",
       "            color:  #000000;\n",
       "        }    #T_e0576b39_91d2_11ea_b006_4ceb428e4071row8_col6 {\n",
       "            background-color:  #deebf7;\n",
       "            color:  #000000;\n",
       "        }    #T_e0576b39_91d2_11ea_b006_4ceb428e4071row8_col7 {\n",
       "            background-color:  #f7fbff;\n",
       "            color:  #000000;\n",
       "        }    #T_e0576b39_91d2_11ea_b006_4ceb428e4071row8_col8 {\n",
       "            background-color:  #2070b4;\n",
       "            color:  #f1f1f1;\n",
       "        }    #T_e0576b39_91d2_11ea_b006_4ceb428e4071row8_col9 {\n",
       "            background-color:  #f7fbff;\n",
       "            color:  #000000;\n",
       "        }    #T_e0576b39_91d2_11ea_b006_4ceb428e4071row9_col1 {\n",
       "            background-color:  #f7fbff;\n",
       "            color:  #000000;\n",
       "        }    #T_e0576b39_91d2_11ea_b006_4ceb428e4071row9_col2 {\n",
       "            background-color:  #6aaed6;\n",
       "            color:  #000000;\n",
       "        }    #T_e0576b39_91d2_11ea_b006_4ceb428e4071row9_col3 {\n",
       "            background-color:  #6aaed6;\n",
       "            color:  #000000;\n",
       "        }    #T_e0576b39_91d2_11ea_b006_4ceb428e4071row9_col4 {\n",
       "            background-color:  #08306b;\n",
       "            color:  #f1f1f1;\n",
       "        }    #T_e0576b39_91d2_11ea_b006_4ceb428e4071row9_col5 {\n",
       "            background-color:  #08306b;\n",
       "            color:  #f1f1f1;\n",
       "        }    #T_e0576b39_91d2_11ea_b006_4ceb428e4071row9_col6 {\n",
       "            background-color:  #f7fbff;\n",
       "            color:  #000000;\n",
       "        }    #T_e0576b39_91d2_11ea_b006_4ceb428e4071row9_col7 {\n",
       "            background-color:  #d0e1f2;\n",
       "            color:  #000000;\n",
       "        }    #T_e0576b39_91d2_11ea_b006_4ceb428e4071row9_col8 {\n",
       "            background-color:  #f7fbff;\n",
       "            color:  #000000;\n",
       "        }    #T_e0576b39_91d2_11ea_b006_4ceb428e4071row9_col9 {\n",
       "            background-color:  #f7fbff;\n",
       "            color:  #000000;\n",
       "        }</style><table id=\"T_e0576b39_91d2_11ea_b006_4ceb428e4071\" ><thead>    <tr>        <th class=\"col_heading level0 col0\" >Name</th>        <th class=\"col_heading level0 col1\" >Age</th>        <th class=\"col_heading level0 col2\" >Tck</th>        <th class=\"col_heading level0 col3\" >Ant</th>        <th class=\"col_heading level0 col4\" >Cnt</th>        <th class=\"col_heading level0 col5\" >Pos</th>        <th class=\"col_heading level0 col6\" >Tea</th>        <th class=\"col_heading level0 col7\" >Wor</th>        <th class=\"col_heading level0 col8\" >Sta</th>        <th class=\"col_heading level0 col9\" >dm_score</th>    </tr></thead><tbody>\n",
       "                <tr>\n",
       "                                <td id=\"T_e0576b39_91d2_11ea_b006_4ceb428e4071row0_col0\" class=\"data row0 col0\" >Paul Mari</td>\n",
       "                        <td id=\"T_e0576b39_91d2_11ea_b006_4ceb428e4071row0_col1\" class=\"data row0 col1\" >                  19</td>\n",
       "                        <td id=\"T_e0576b39_91d2_11ea_b006_4ceb428e4071row0_col2\" class=\"data row0 col2\" >13</td>\n",
       "                        <td id=\"T_e0576b39_91d2_11ea_b006_4ceb428e4071row0_col3\" class=\"data row0 col3\" >13</td>\n",
       "                        <td id=\"T_e0576b39_91d2_11ea_b006_4ceb428e4071row0_col4\" class=\"data row0 col4\" >13</td>\n",
       "                        <td id=\"T_e0576b39_91d2_11ea_b006_4ceb428e4071row0_col5\" class=\"data row0 col5\" >12</td>\n",
       "                        <td id=\"T_e0576b39_91d2_11ea_b006_4ceb428e4071row0_col6\" class=\"data row0 col6\" >18</td>\n",
       "                        <td id=\"T_e0576b39_91d2_11ea_b006_4ceb428e4071row0_col7\" class=\"data row0 col7\" >16</td>\n",
       "                        <td id=\"T_e0576b39_91d2_11ea_b006_4ceb428e4071row0_col8\" class=\"data row0 col8\" >14</td>\n",
       "                        <td id=\"T_e0576b39_91d2_11ea_b006_4ceb428e4071row0_col9\" class=\"data row0 col9\" >99</td>\n",
       "            </tr>\n",
       "            <tr>\n",
       "                                <td id=\"T_e0576b39_91d2_11ea_b006_4ceb428e4071row1_col0\" class=\"data row1 col0\" >Daniel Piesio</td>\n",
       "                        <td id=\"T_e0576b39_91d2_11ea_b006_4ceb428e4071row1_col1\" class=\"data row1 col1\" >                  18</td>\n",
       "                        <td id=\"T_e0576b39_91d2_11ea_b006_4ceb428e4071row1_col2\" class=\"data row1 col2\" >12</td>\n",
       "                        <td id=\"T_e0576b39_91d2_11ea_b006_4ceb428e4071row1_col3\" class=\"data row1 col3\" >13</td>\n",
       "                        <td id=\"T_e0576b39_91d2_11ea_b006_4ceb428e4071row1_col4\" class=\"data row1 col4\" >10</td>\n",
       "                        <td id=\"T_e0576b39_91d2_11ea_b006_4ceb428e4071row1_col5\" class=\"data row1 col5\" >8</td>\n",
       "                        <td id=\"T_e0576b39_91d2_11ea_b006_4ceb428e4071row1_col6\" class=\"data row1 col6\" >19</td>\n",
       "                        <td id=\"T_e0576b39_91d2_11ea_b006_4ceb428e4071row1_col7\" class=\"data row1 col7\" >16</td>\n",
       "                        <td id=\"T_e0576b39_91d2_11ea_b006_4ceb428e4071row1_col8\" class=\"data row1 col8\" >15</td>\n",
       "                        <td id=\"T_e0576b39_91d2_11ea_b006_4ceb428e4071row1_col9\" class=\"data row1 col9\" >93</td>\n",
       "            </tr>\n",
       "            <tr>\n",
       "                                <td id=\"T_e0576b39_91d2_11ea_b006_4ceb428e4071row2_col0\" class=\"data row2 col0\" >Piotr Wujec</td>\n",
       "                        <td id=\"T_e0576b39_91d2_11ea_b006_4ceb428e4071row2_col1\" class=\"data row2 col1\" >                  22</td>\n",
       "                        <td id=\"T_e0576b39_91d2_11ea_b006_4ceb428e4071row2_col2\" class=\"data row2 col2\" >14</td>\n",
       "                        <td id=\"T_e0576b39_91d2_11ea_b006_4ceb428e4071row2_col3\" class=\"data row2 col3\" >11</td>\n",
       "                        <td id=\"T_e0576b39_91d2_11ea_b006_4ceb428e4071row2_col4\" class=\"data row2 col4\" >11</td>\n",
       "                        <td id=\"T_e0576b39_91d2_11ea_b006_4ceb428e4071row2_col5\" class=\"data row2 col5\" >13</td>\n",
       "                        <td id=\"T_e0576b39_91d2_11ea_b006_4ceb428e4071row2_col6\" class=\"data row2 col6\" >16</td>\n",
       "                        <td id=\"T_e0576b39_91d2_11ea_b006_4ceb428e4071row2_col7\" class=\"data row2 col7\" >14</td>\n",
       "                        <td id=\"T_e0576b39_91d2_11ea_b006_4ceb428e4071row2_col8\" class=\"data row2 col8\" >12</td>\n",
       "                        <td id=\"T_e0576b39_91d2_11ea_b006_4ceb428e4071row2_col9\" class=\"data row2 col9\" >91</td>\n",
       "            </tr>\n",
       "            <tr>\n",
       "                                <td id=\"T_e0576b39_91d2_11ea_b006_4ceb428e4071row3_col0\" class=\"data row3 col0\" >Yuri Sprandel Flores</td>\n",
       "                        <td id=\"T_e0576b39_91d2_11ea_b006_4ceb428e4071row3_col1\" class=\"data row3 col1\" >                  21</td>\n",
       "                        <td id=\"T_e0576b39_91d2_11ea_b006_4ceb428e4071row3_col2\" class=\"data row3 col2\" >12</td>\n",
       "                        <td id=\"T_e0576b39_91d2_11ea_b006_4ceb428e4071row3_col3\" class=\"data row3 col3\" >11</td>\n",
       "                        <td id=\"T_e0576b39_91d2_11ea_b006_4ceb428e4071row3_col4\" class=\"data row3 col4\" >11</td>\n",
       "                        <td id=\"T_e0576b39_91d2_11ea_b006_4ceb428e4071row3_col5\" class=\"data row3 col5\" >12</td>\n",
       "                        <td id=\"T_e0576b39_91d2_11ea_b006_4ceb428e4071row3_col6\" class=\"data row3 col6\" >17</td>\n",
       "                        <td id=\"T_e0576b39_91d2_11ea_b006_4ceb428e4071row3_col7\" class=\"data row3 col7\" >14</td>\n",
       "                        <td id=\"T_e0576b39_91d2_11ea_b006_4ceb428e4071row3_col8\" class=\"data row3 col8\" >13</td>\n",
       "                        <td id=\"T_e0576b39_91d2_11ea_b006_4ceb428e4071row3_col9\" class=\"data row3 col9\" >90</td>\n",
       "            </tr>\n",
       "            <tr>\n",
       "                                <td id=\"T_e0576b39_91d2_11ea_b006_4ceb428e4071row4_col0\" class=\"data row4 col0\" >Kamal Bafounta</td>\n",
       "                        <td id=\"T_e0576b39_91d2_11ea_b006_4ceb428e4071row4_col1\" class=\"data row4 col1\" >                  20</td>\n",
       "                        <td id=\"T_e0576b39_91d2_11ea_b006_4ceb428e4071row4_col2\" class=\"data row4 col2\" >13</td>\n",
       "                        <td id=\"T_e0576b39_91d2_11ea_b006_4ceb428e4071row4_col3\" class=\"data row4 col3\" >15</td>\n",
       "                        <td id=\"T_e0576b39_91d2_11ea_b006_4ceb428e4071row4_col4\" class=\"data row4 col4\" >11</td>\n",
       "                        <td id=\"T_e0576b39_91d2_11ea_b006_4ceb428e4071row4_col5\" class=\"data row4 col5\" >13</td>\n",
       "                        <td id=\"T_e0576b39_91d2_11ea_b006_4ceb428e4071row4_col6\" class=\"data row4 col6\" >13</td>\n",
       "                        <td id=\"T_e0576b39_91d2_11ea_b006_4ceb428e4071row4_col7\" class=\"data row4 col7\" >13</td>\n",
       "                        <td id=\"T_e0576b39_91d2_11ea_b006_4ceb428e4071row4_col8\" class=\"data row4 col8\" >12</td>\n",
       "                        <td id=\"T_e0576b39_91d2_11ea_b006_4ceb428e4071row4_col9\" class=\"data row4 col9\" >90</td>\n",
       "            </tr>\n",
       "            <tr>\n",
       "                                <td id=\"T_e0576b39_91d2_11ea_b006_4ceb428e4071row5_col0\" class=\"data row5 col0\" >Daniel Hoyo-Kowalski</td>\n",
       "                        <td id=\"T_e0576b39_91d2_11ea_b006_4ceb428e4071row5_col1\" class=\"data row5 col1\" >                  19</td>\n",
       "                        <td id=\"T_e0576b39_91d2_11ea_b006_4ceb428e4071row5_col2\" class=\"data row5 col2\" >11</td>\n",
       "                        <td id=\"T_e0576b39_91d2_11ea_b006_4ceb428e4071row5_col3\" class=\"data row5 col3\" >11</td>\n",
       "                        <td id=\"T_e0576b39_91d2_11ea_b006_4ceb428e4071row5_col4\" class=\"data row5 col4\" >9</td>\n",
       "                        <td id=\"T_e0576b39_91d2_11ea_b006_4ceb428e4071row5_col5\" class=\"data row5 col5\" >11</td>\n",
       "                        <td id=\"T_e0576b39_91d2_11ea_b006_4ceb428e4071row5_col6\" class=\"data row5 col6\" >20</td>\n",
       "                        <td id=\"T_e0576b39_91d2_11ea_b006_4ceb428e4071row5_col7\" class=\"data row5 col7\" >16</td>\n",
       "                        <td id=\"T_e0576b39_91d2_11ea_b006_4ceb428e4071row5_col8\" class=\"data row5 col8\" >12</td>\n",
       "                        <td id=\"T_e0576b39_91d2_11ea_b006_4ceb428e4071row5_col9\" class=\"data row5 col9\" >90</td>\n",
       "            </tr>\n",
       "            <tr>\n",
       "                                <td id=\"T_e0576b39_91d2_11ea_b006_4ceb428e4071row6_col0\" class=\"data row6 col0\" >Michal Ozga</td>\n",
       "                        <td id=\"T_e0576b39_91d2_11ea_b006_4ceb428e4071row6_col1\" class=\"data row6 col1\" >                  22</td>\n",
       "                        <td id=\"T_e0576b39_91d2_11ea_b006_4ceb428e4071row6_col2\" class=\"data row6 col2\" >15</td>\n",
       "                        <td id=\"T_e0576b39_91d2_11ea_b006_4ceb428e4071row6_col3\" class=\"data row6 col3\" >5</td>\n",
       "                        <td id=\"T_e0576b39_91d2_11ea_b006_4ceb428e4071row6_col4\" class=\"data row6 col4\" >10</td>\n",
       "                        <td id=\"T_e0576b39_91d2_11ea_b006_4ceb428e4071row6_col5\" class=\"data row6 col5\" >12</td>\n",
       "                        <td id=\"T_e0576b39_91d2_11ea_b006_4ceb428e4071row6_col6\" class=\"data row6 col6\" >18</td>\n",
       "                        <td id=\"T_e0576b39_91d2_11ea_b006_4ceb428e4071row6_col7\" class=\"data row6 col7\" >17</td>\n",
       "                        <td id=\"T_e0576b39_91d2_11ea_b006_4ceb428e4071row6_col8\" class=\"data row6 col8\" >13</td>\n",
       "                        <td id=\"T_e0576b39_91d2_11ea_b006_4ceb428e4071row6_col9\" class=\"data row6 col9\" >90</td>\n",
       "            </tr>\n",
       "            <tr>\n",
       "                                <td id=\"T_e0576b39_91d2_11ea_b006_4ceb428e4071row7_col0\" class=\"data row7 col0\" >Michel StÃ¶cker</td>\n",
       "                        <td id=\"T_e0576b39_91d2_11ea_b006_4ceb428e4071row7_col1\" class=\"data row7 col1\" >                  23</td>\n",
       "                        <td id=\"T_e0576b39_91d2_11ea_b006_4ceb428e4071row7_col2\" class=\"data row7 col2\" >12</td>\n",
       "                        <td id=\"T_e0576b39_91d2_11ea_b006_4ceb428e4071row7_col3\" class=\"data row7 col3\" >11</td>\n",
       "                        <td id=\"T_e0576b39_91d2_11ea_b006_4ceb428e4071row7_col4\" class=\"data row7 col4\" >12</td>\n",
       "                        <td id=\"T_e0576b39_91d2_11ea_b006_4ceb428e4071row7_col5\" class=\"data row7 col5\" >13</td>\n",
       "                        <td id=\"T_e0576b39_91d2_11ea_b006_4ceb428e4071row7_col6\" class=\"data row7 col6\" >13</td>\n",
       "                        <td id=\"T_e0576b39_91d2_11ea_b006_4ceb428e4071row7_col7\" class=\"data row7 col7\" >13</td>\n",
       "                        <td id=\"T_e0576b39_91d2_11ea_b006_4ceb428e4071row7_col8\" class=\"data row7 col8\" >15</td>\n",
       "                        <td id=\"T_e0576b39_91d2_11ea_b006_4ceb428e4071row7_col9\" class=\"data row7 col9\" >89</td>\n",
       "            </tr>\n",
       "            <tr>\n",
       "                                <td id=\"T_e0576b39_91d2_11ea_b006_4ceb428e4071row8_col0\" class=\"data row8 col0\" >Jan Sobocinski</td>\n",
       "                        <td id=\"T_e0576b39_91d2_11ea_b006_4ceb428e4071row8_col1\" class=\"data row8 col1\" >                  23</td>\n",
       "                        <td id=\"T_e0576b39_91d2_11ea_b006_4ceb428e4071row8_col2\" class=\"data row8 col2\" >13</td>\n",
       "                        <td id=\"T_e0576b39_91d2_11ea_b006_4ceb428e4071row8_col3\" class=\"data row8 col3\" >11</td>\n",
       "                        <td id=\"T_e0576b39_91d2_11ea_b006_4ceb428e4071row8_col4\" class=\"data row8 col4\" >12</td>\n",
       "                        <td id=\"T_e0576b39_91d2_11ea_b006_4ceb428e4071row8_col5\" class=\"data row8 col5\" >13</td>\n",
       "                        <td id=\"T_e0576b39_91d2_11ea_b006_4ceb428e4071row8_col6\" class=\"data row8 col6\" >13</td>\n",
       "                        <td id=\"T_e0576b39_91d2_11ea_b006_4ceb428e4071row8_col7\" class=\"data row8 col7\" >12</td>\n",
       "                        <td id=\"T_e0576b39_91d2_11ea_b006_4ceb428e4071row8_col8\" class=\"data row8 col8\" >14</td>\n",
       "                        <td id=\"T_e0576b39_91d2_11ea_b006_4ceb428e4071row8_col9\" class=\"data row8 col9\" >88</td>\n",
       "            </tr>\n",
       "            <tr>\n",
       "                                <td id=\"T_e0576b39_91d2_11ea_b006_4ceb428e4071row9_col0\" class=\"data row9 col0\" >Szymon Kobeszko</td>\n",
       "                        <td id=\"T_e0576b39_91d2_11ea_b006_4ceb428e4071row9_col1\" class=\"data row9 col1\" >                  18</td>\n",
       "                        <td id=\"T_e0576b39_91d2_11ea_b006_4ceb428e4071row9_col2\" class=\"data row9 col2\" >13</td>\n",
       "                        <td id=\"T_e0576b39_91d2_11ea_b006_4ceb428e4071row9_col3\" class=\"data row9 col3\" >10</td>\n",
       "                        <td id=\"T_e0576b39_91d2_11ea_b006_4ceb428e4071row9_col4\" class=\"data row9 col4\" >14</td>\n",
       "                        <td id=\"T_e0576b39_91d2_11ea_b006_4ceb428e4071row9_col5\" class=\"data row9 col5\" >15</td>\n",
       "                        <td id=\"T_e0576b39_91d2_11ea_b006_4ceb428e4071row9_col6\" class=\"data row9 col6\" >12</td>\n",
       "                        <td id=\"T_e0576b39_91d2_11ea_b006_4ceb428e4071row9_col7\" class=\"data row9 col7\" >13</td>\n",
       "                        <td id=\"T_e0576b39_91d2_11ea_b006_4ceb428e4071row9_col8\" class=\"data row9 col8\" >11</td>\n",
       "                        <td id=\"T_e0576b39_91d2_11ea_b006_4ceb428e4071row9_col9\" class=\"data row9 col9\" >88</td>\n",
       "            </tr>\n",
       "    </tbody></table>"
      ],
      "text/plain": [
       "<pandas.io.formats.style.Styler at 0xcd30ad8>"
      ]
     },
     "execution_count": 14,
     "metadata": {},
     "output_type": "execute_result"
    }
   ],
   "source": [
    "print(\"Defensive Midfielder\")\n",
    "sorted_dm = dm.sort_values(by='dm_score', ascending=False)\n",
    "sorted_dm.head(10).style.format({\"Age\": \"{:20,.0f}\", \n",
    "                          })\\\n",
    "                       .hide_index()\\\n",
    "                       .background_gradient(cmap='Blues')"
   ]
  },
  {
   "cell_type": "code",
   "execution_count": 15,
   "metadata": {},
   "outputs": [
    {
     "data": {
      "application/vnd.plotly.v1+json": {
       "config": {
        "linkText": "Export to plot.ly",
        "plotlyServerURL": "https://plot.ly",
        "showLink": true
       },
       "data": [
        {
         "line": {
          "color": "rgba(255, 153, 51, 1.0)",
          "dash": "solid",
          "shape": "linear",
          "width": 1.3
         },
         "marker": {
          "size": 10,
          "symbol": "circle"
         },
         "mode": "markers",
         "name": "Int/90",
         "text": [
          "Djibril DiakitÃ©",
          "JoÃ£o Tavares",
          "Matej Hudecek",
          "Adrian Rybak",
          "Oskar Repka",
          "Maciej Obodecki",
          "Ivo Kralj",
          "Bartosz Sobczyk",
          "Ivan Tomac",
          "Nikola Bogdanovski",
          "Stefan Velickovic",
          "Andrija Zakoc",
          "AurÃ©lien Nguiamba",
          "Flynn Downes",
          "Nikola Puzic",
          "Andjelo Kacavenda",
          "Tymoteusz Puchacz",
          "Felix Brunmayr",
          "Lennart Grill",
          "Josip Rakic",
          "Stefan Randjelovic",
          "Radoslaw Dzierbicki",
          "Alexandar Ubavic",
          "Veljko Jovkovic",
          "Mariano GÃ³mez",
          "David Bumberger",
          "Enrico Huss",
          "Mateo Jaksic",
          "Konrad Jozwicki",
          "Nikita Marusenko",
          "Djordje Jovanovic",
          "Filip Lisnic",
          "Dawid Szalas",
          "Vladimir Ilic",
          "Marcin Mackowiak",
          "Florin Codrean",
          "David Otto",
          "Stefan Golubovic",
          "Keanan Bennetts",
          "Andrej Vukas",
          "Jannik Tepe",
          "Mladen Devetak",
          "Tom Baack",
          "Jan Sobocinski",
          "TomÃ¡s Blanco",
          "Sinan Karweina",
          "Ben Williams",
          "Arkadiusz Zajaczkowski",
          "Miguel Reisinho",
          "Filp Ceko",
          "Michel StÃ¶cker",
          "JÃ©rÃ´me Deom",
          "Ranko Jokic",
          "Palko DÃ¡rdai",
          "Aleksander Tomasz",
          "Alex Vigo",
          "Daniel Bielica",
          "Marko Djira",
          "Norbert Walczak",
          "Boris Moltenis",
          "Julius Kade",
          "Goran Buljandric",
          "Jannis KÃ¼bler",
          "Aleksa Jovanovic",
          "Tomasz Owczarek",
          "David Wittkowski",
          "Konrad Zaklika",
          "Pawel Karbowinski",
          "Nicky Werner",
          "Julijan Popovic",
          "Nassim Boujellab",
          "Bartlomiej Gajda",
          "Nemanja Matijevic",
          "Marko Denic",
          "Robert Baar",
          "Tuta",
          "Dusan Jokovic",
          "Tomasz Dzida",
          "Aleksa Pejic",
          "Krsta Bojic",
          "Sikou NiakatÃ©",
          "Tomasz Makowski",
          "Sebastian Gwozdz",
          "Adrian Polanski",
          "Bryan Mbeumo",
          "Dorin Sirbu",
          "Elvis Novalic",
          "MickaÃ«l Cuisance",
          "Mateusz Madzia",
          "JesÃºs Vargas",
          "Marino Jedvaj",
          "Raphael Assibey-Mensah",
          "Lukasz Sztylka",
          "Zoran Zrnzevic",
          "Alex Krawiec",
          "Petar Melezovic",
          "Tomasz Kurek",
          "Danko Radic",
          "Paul Mensah",
          "Jordan Williams",
          "Mario Mustapic",
          "Nikola Trickovic",
          "Patrik Delic",
          "Maciej Famulak",
          "Wiktor Nahrebecki",
          "Barne Poggenberg",
          "Mirza Jasarevic",
          "Ratko Minic",
          "Semih Åahin",
          "Matej Santek",
          "Georgios Siadas",
          "Tyrese Campbell",
          "Martin Krizmanic",
          "Kacper Laskos",
          "Aleksa Milojevic",
          "Cheick DoucourÃ©",
          "Ivan Jakovljev",
          "Przemyslaw Zdybowicz",
          "Sven Botman",
          "Malik Karaahmet",
          "Lukas KrÃ¼ger",
          "Niclas Stierlin",
          "Mane Markovic",
          "Karol Czubak",
          "Ilija Dejanovic",
          "Pascal Hackethal",
          "Oleg Gorin",
          "Michal Zieba",
          "Miodrag Maljkovic",
          "Jakov Blagaic",
          "Harisson Marcelin",
          "Vice Bazdaric",
          "Daniel Liszka",
          "Jan Sieracki",
          "Jhonny Lucas",
          "Tymoteusz Klups",
          "Josip Sutalo",
          "Othman Boussaid",
          "Evert Linthorst",
          "Jusuf Gazibegovic",
          "Virgiliu Postolachi",
          "Luis GÃ¶rlich",
          "Andrej Ilic",
          "Daniel Haritonov",
          "Patryk Drabik",
          "Tom Dobek-Pietrowski",
          "Michal Mydlarz",
          "Cho Jeong-Hui",
          "Mohamed Loua",
          "Nemanja Zikic",
          "Emir Sejdovic",
          "Samuel Lengle",
          "Mateusz Duchowski",
          "Iliya Gruev",
          "Bartosz Borun",
          "Juraj Ljubic",
          "GonÃ§alo Rebelo",
          "Dominik Resetar",
          "Jurica Prsir",
          "Piotr Wujec",
          "Jan Majsterek",
          "Mitchel Bakker",
          "Kamil Piatkowski",
          "Michal Ozga",
          "Karol Turek",
          "Toni Karimovic",
          "Billy Crellin",
          "Konrad Sieracki",
          "Vando Luis",
          "Jan Los",
          "Jessic Ngankam",
          "Adam Borkowski",
          "Julian Rieckmann",
          "Luka Pavlak",
          "Robert Ion",
          "Linus RosenlÃ¶cher",
          "Eugen Telch",
          "Nicholas Wunsch",
          "Dawid Kisly",
          "Uros Miloradovic",
          "Alois Oroz",
          "Luca Bazzoli",
          "Ronan Darcy",
          "Yann-Aurel Bisseck",
          "Timo Bornemann",
          "Radivoj Bosic",
          "Jakov Katusa",
          "Kacper Jozefiak",
          "Szymon Mroczko",
          "Karol Struski",
          "Wojciech Kaminski",
          "Piotr Lisowski",
          "Daishawn Redan",
          "Kacper Smolinski",
          "Lukas SchÃ¶fl",
          "Mikolaj Labojko",
          "Jakub Karbownik",
          "Damir Magdic",
          "Karol Malec",
          "Patryk Wozniak",
          "Can Bozdogan",
          "Aleksander Paluszek",
          "Mario Cuic",
          "Dragoljub Savic",
          "Nathan Collins",
          "Dominik Pila",
          "Mihael Kupresak",
          "Manu KonÃ©",
          "Niels Hahn",
          "Tin Hrvoj",
          "Lucas Da Cunha",
          "Rahim Ibrahim",
          "Renato Josipovic",
          "Han-Noah Massengo",
          "Kacper Wiatrak",
          "Bartosz Kuzniarski",
          "Adrian Petk",
          "Fabian Tauchhammer",
          "Bartlomiej Mruk",
          "Jakub Rudek",
          "Jakub Swiecinski",
          "Jakub Nowakowski",
          "Kamil Dabrowski",
          "Yuri Sprandel Flores",
          "Stefan Radmanovac",
          "Kamal Bafounta",
          "Filip Marchwinski",
          "Kamil Lukoszek",
          "Jakub Niewiadomski",
          "Dominik Kedzior",
          "Joe Gelhardt",
          "Filip Sobiecki",
          "Fran Tomek",
          "Hubert Wasiewski",
          "Djordje Vasic",
          "Jakub Zima",
          "Damian Makuch",
          "Andrzej Kloda",
          "Stipe Biuk",
          "Mateusz Pienczak",
          "FIlip Brekalo",
          "Stefan Despotovski",
          "Jakub Kisiel",
          "Duje Skugor",
          "Martin Baturina",
          "Radoslaw Cielemecki",
          "Ariel Mosor",
          "Nikola Petkovic",
          "Nikodem Sujecki",
          "Ivan Mandic",
          "Stanislaw Loch",
          "Dario Grgic",
          "Wojciech Szybka",
          "Kacper Szmidt",
          "Vukasin Krstic",
          "Obrendo Doesburg",
          "Casper Elderman",
          "Predrag Jovic",
          "Daniel Hoyo-Kowalski",
          "Darijo Basic",
          "Wiktor Mosur",
          "Uros Mirkovic",
          "Marcos RodrÃ­guez",
          "Adrian Å¢apu",
          "Paul Mari",
          "Pawel Muzylowski",
          "Dragan Radovic",
          "Szymon Kobeszko",
          "Marcin Dabrowski",
          "Jorge Delgado",
          "Daniel Piesio",
          null
         ],
         "type": "scatter",
         "x": [
          "64%",
          "66%",
          "68%",
          "71%",
          "71%",
          "61%",
          "71%",
          "69%",
          "70%",
          "70%",
          "76%",
          "68%",
          "80%",
          "83%",
          "69%",
          "77%",
          "71%",
          "68%",
          "48%",
          "68%",
          "43%",
          "69%",
          "67%",
          "64%",
          "71%",
          "74%",
          "73%",
          "68%",
          "76%",
          "75%",
          "65%",
          "72%",
          "57%",
          "70%",
          "75%",
          "74%",
          "65%",
          "61%",
          "64%",
          "57%",
          "62%",
          "73%",
          "88%",
          "82%",
          "64%",
          "64%",
          "72%",
          "71%",
          "75%",
          "64%",
          "74%",
          "63%",
          "69%",
          "68%",
          "74%",
          "72%",
          "44%",
          "76%",
          "61%",
          "78%",
          "91%",
          "61%",
          "70%",
          "74%",
          "70%",
          "65%",
          "72%",
          "63%",
          "61%",
          "70%",
          "71%",
          "74%",
          "61%",
          "70%",
          "67%",
          "84%",
          "75%",
          "66%",
          "76%",
          "66%",
          "77%",
          "82%",
          "73%",
          "64%",
          "65%",
          "68%",
          "77%",
          "80%",
          "66%",
          "66%",
          "72%",
          "70%",
          "66%",
          "67%",
          "61%",
          "70%",
          "63%",
          "64%",
          "66%",
          "71%",
          "42%",
          "79%",
          "68%",
          "74%",
          "72%",
          "67%",
          "64%",
          "68%",
          "68%",
          "76%",
          "71%",
          "66%",
          "68%",
          "78%",
          "47%",
          "77%",
          "72%",
          "60%",
          "76%",
          "58%",
          "68%",
          "73%",
          "44%",
          "62%",
          "65%",
          "71%",
          "68%",
          "72%",
          "64%",
          "71%",
          "71%",
          "47%",
          "68%",
          "70%",
          "75%",
          "70%",
          "74%",
          "68%",
          "72%",
          "69%",
          "57%",
          "70%",
          "64%",
          "70%",
          "70%",
          "69%",
          "69%",
          "66%",
          "82%",
          "73%",
          "74%",
          "71%",
          "73%",
          "78%",
          "69%",
          "71%",
          "68%",
          "63%",
          "72%",
          "70%",
          "69%",
          "73%",
          "75%",
          "70%",
          "69%",
          "65%",
          "58%",
          "72%",
          "68%",
          "65%",
          "65%",
          "66%",
          "79%",
          "71%",
          "65%",
          "66%",
          "69%",
          "59%",
          "72%",
          "77%",
          "68%",
          "73%",
          "74%",
          "76%",
          "61%",
          "64%",
          "65%",
          "71%",
          "66%",
          "68%",
          "77%",
          "72%",
          "66%",
          "71%",
          "71%",
          "72%",
          "66%",
          "67%",
          "63%",
          "70%",
          "74%",
          "71%",
          "72%",
          "73%",
          "78%",
          "73%",
          "63%",
          "69%",
          "72%",
          "69%",
          "72%",
          "70%",
          "51%",
          "77%",
          "69%",
          "61%",
          "76%",
          "73%",
          "72%",
          "75%",
          "72%",
          "70%",
          "65%",
          "71%",
          "68%",
          "80%",
          "74%",
          "62%",
          "67%",
          "63%",
          "55%",
          "70%",
          "78%",
          "48%",
          "74%",
          "76%",
          "69%",
          "68%",
          "72%",
          "73%",
          "73%",
          "70%",
          "71%",
          "57%",
          "70%",
          "67%",
          "75%",
          "76%",
          "51%",
          "46%",
          "71%",
          "71%",
          "75%",
          "72%",
          "73%",
          "75%",
          "73%",
          "72%",
          "68%",
          "72%",
          "64%",
          "62%",
          "70%",
          "68%",
          "77%",
          "71%",
          "67%",
          "75%",
          "70%",
          "73%",
          "72%",
          null
         ],
         "y": [
          "0.07",
          "-",
          "2.47",
          "2.55",
          "3.02",
          "-",
          "4.56",
          "1.13",
          "3.32",
          "2.92",
          "2.30",
          "1.15",
          "2.63",
          "2.46",
          "3.40",
          "3.12",
          "3.17",
          "0.88",
          "-",
          "3.35",
          "-",
          "0.79",
          "-",
          "1.61",
          "1.72",
          "4.08",
          "1.83",
          "2.30",
          "1.50",
          "2.08",
          "1.39",
          "3.22",
          "1.21",
          "1.24",
          "2.77",
          "-",
          "1.19",
          "1.15",
          "1.18",
          "0.93",
          "1.24",
          "2.86",
          "2.78",
          "3.29",
          "0.85",
          "1.21",
          "3.08",
          "3.89",
          "1.59",
          "2.94",
          "3.82",
          "0.36",
          "2.67",
          "1.41",
          "-",
          "1.49",
          "-",
          "1.65",
          "-",
          "2.94",
          "1.10",
          "-",
          "3.70",
          "2.82",
          "1.62",
          "3.67",
          "2.35",
          "1.00",
          "0.92",
          "2.85",
          "1.56",
          "4.17",
          "0.80",
          "-",
          "1.32",
          "3.06",
          "2.66",
          "0.93",
          "2.47",
          "1.41",
          "4.28",
          "3.39",
          "-",
          "4.07",
          "0.98",
          "-",
          "2.57",
          "1.25",
          "3.88",
          "1.99",
          "-",
          "-",
          "1.49",
          "-",
          "1.10",
          "-",
          "0.92",
          "1.29",
          "0.96",
          "2.44",
          "-",
          "1.20",
          "-",
          "0.85",
          "3.53",
          "2.91",
          "0.84",
          "0.77",
          "2.90",
          "4.32",
          "3.67",
          "1.00",
          "2.58",
          "2.42",
          "-",
          "3.00",
          "-",
          "0.79",
          "2.76",
          "-",
          "1.49",
          "2.43",
          "-",
          "0.70",
          "-",
          "2.72",
          "2.65",
          "2.57",
          "0.88",
          "1.69",
          "0.38",
          "-",
          "1.95",
          "2.15",
          "3.53",
          "0.86",
          "3.43",
          "-",
          "0.91",
          "1.80",
          "-",
          "2.15",
          "1.03",
          "3.23",
          "0.67",
          "2.24",
          "3.21",
          "0.09",
          "3.74",
          "-",
          "2.04",
          "3.45",
          "1.19",
          "3.07",
          "1.33",
          "1.61",
          "0.17",
          "0.92",
          "2.10",
          "3.89",
          "2.05",
          "1.94",
          "3.59",
          "1.25",
          "3.60",
          "1.90",
          "-",
          "1.33",
          "0.21",
          "1.25",
          "1.18",
          "0.92",
          "4.07",
          "2.50",
          "2.16",
          "2.33",
          "-",
          "1.01",
          "1.70",
          "2.48",
          "3.61",
          "1.13",
          "0.47",
          "3.15",
          "0.96",
          "1.84",
          "0.97",
          "3.57",
          "1.76",
          "1.56",
          "3.84",
          "3.73",
          "1.86",
          "3.20",
          "-",
          "-",
          "0.73",
          "2.31",
          "0.93",
          "2.04",
          "2.25",
          "3.57",
          "5.09",
          "-",
          "2.76",
          "0.80",
          "1.53",
          "-",
          "-",
          "2.27",
          "-",
          "-",
          "-",
          "2.94",
          "-",
          "1.23",
          "3.73",
          "-",
          "4.61",
          "2.73",
          "2.92",
          "-",
          "0.87",
          "2.01",
          "1.33",
          "5.14",
          "1.29",
          "1.09",
          "1.91",
          "0.96",
          "0.19",
          "1.37",
          "3.21",
          "-",
          "0.80",
          "2.90",
          "4.38",
          "3.21",
          "0.99",
          "2.62",
          "3.02",
          "4.47",
          "1.65",
          "0.77",
          "0.85",
          "2.28",
          "4.00",
          "3.42",
          "-",
          "-",
          "1.06",
          "1.48",
          "4.07",
          "0.96",
          "4.23",
          "-",
          "3.21",
          "1.46",
          "3.61",
          "2.01",
          "1.07",
          "0.96",
          "1.37",
          "1.36",
          "3.14",
          "1.00",
          "1.76",
          "2.69",
          "1.72",
          "0.80",
          "3.25",
          ""
         ]
        }
       ],
       "layout": {
        "legend": {
         "bgcolor": "#F5F6F9",
         "font": {
          "color": "#4D5663"
         }
        },
        "paper_bgcolor": "#F5F6F9",
        "plot_bgcolor": "#F5F6F9",
        "template": {
         "data": {
          "bar": [
           {
            "error_x": {
             "color": "#2a3f5f"
            },
            "error_y": {
             "color": "#2a3f5f"
            },
            "marker": {
             "line": {
              "color": "#E5ECF6",
              "width": 0.5
             }
            },
            "type": "bar"
           }
          ],
          "barpolar": [
           {
            "marker": {
             "line": {
              "color": "#E5ECF6",
              "width": 0.5
             }
            },
            "type": "barpolar"
           }
          ],
          "carpet": [
           {
            "aaxis": {
             "endlinecolor": "#2a3f5f",
             "gridcolor": "white",
             "linecolor": "white",
             "minorgridcolor": "white",
             "startlinecolor": "#2a3f5f"
            },
            "baxis": {
             "endlinecolor": "#2a3f5f",
             "gridcolor": "white",
             "linecolor": "white",
             "minorgridcolor": "white",
             "startlinecolor": "#2a3f5f"
            },
            "type": "carpet"
           }
          ],
          "choropleth": [
           {
            "colorbar": {
             "outlinewidth": 0,
             "ticks": ""
            },
            "type": "choropleth"
           }
          ],
          "contour": [
           {
            "colorbar": {
             "outlinewidth": 0,
             "ticks": ""
            },
            "colorscale": [
             [
              0,
              "#0d0887"
             ],
             [
              0.1111111111111111,
              "#46039f"
             ],
             [
              0.2222222222222222,
              "#7201a8"
             ],
             [
              0.3333333333333333,
              "#9c179e"
             ],
             [
              0.4444444444444444,
              "#bd3786"
             ],
             [
              0.5555555555555556,
              "#d8576b"
             ],
             [
              0.6666666666666666,
              "#ed7953"
             ],
             [
              0.7777777777777778,
              "#fb9f3a"
             ],
             [
              0.8888888888888888,
              "#fdca26"
             ],
             [
              1,
              "#f0f921"
             ]
            ],
            "type": "contour"
           }
          ],
          "contourcarpet": [
           {
            "colorbar": {
             "outlinewidth": 0,
             "ticks": ""
            },
            "type": "contourcarpet"
           }
          ],
          "heatmap": [
           {
            "colorbar": {
             "outlinewidth": 0,
             "ticks": ""
            },
            "colorscale": [
             [
              0,
              "#0d0887"
             ],
             [
              0.1111111111111111,
              "#46039f"
             ],
             [
              0.2222222222222222,
              "#7201a8"
             ],
             [
              0.3333333333333333,
              "#9c179e"
             ],
             [
              0.4444444444444444,
              "#bd3786"
             ],
             [
              0.5555555555555556,
              "#d8576b"
             ],
             [
              0.6666666666666666,
              "#ed7953"
             ],
             [
              0.7777777777777778,
              "#fb9f3a"
             ],
             [
              0.8888888888888888,
              "#fdca26"
             ],
             [
              1,
              "#f0f921"
             ]
            ],
            "type": "heatmap"
           }
          ],
          "heatmapgl": [
           {
            "colorbar": {
             "outlinewidth": 0,
             "ticks": ""
            },
            "colorscale": [
             [
              0,
              "#0d0887"
             ],
             [
              0.1111111111111111,
              "#46039f"
             ],
             [
              0.2222222222222222,
              "#7201a8"
             ],
             [
              0.3333333333333333,
              "#9c179e"
             ],
             [
              0.4444444444444444,
              "#bd3786"
             ],
             [
              0.5555555555555556,
              "#d8576b"
             ],
             [
              0.6666666666666666,
              "#ed7953"
             ],
             [
              0.7777777777777778,
              "#fb9f3a"
             ],
             [
              0.8888888888888888,
              "#fdca26"
             ],
             [
              1,
              "#f0f921"
             ]
            ],
            "type": "heatmapgl"
           }
          ],
          "histogram": [
           {
            "marker": {
             "colorbar": {
              "outlinewidth": 0,
              "ticks": ""
             }
            },
            "type": "histogram"
           }
          ],
          "histogram2d": [
           {
            "colorbar": {
             "outlinewidth": 0,
             "ticks": ""
            },
            "colorscale": [
             [
              0,
              "#0d0887"
             ],
             [
              0.1111111111111111,
              "#46039f"
             ],
             [
              0.2222222222222222,
              "#7201a8"
             ],
             [
              0.3333333333333333,
              "#9c179e"
             ],
             [
              0.4444444444444444,
              "#bd3786"
             ],
             [
              0.5555555555555556,
              "#d8576b"
             ],
             [
              0.6666666666666666,
              "#ed7953"
             ],
             [
              0.7777777777777778,
              "#fb9f3a"
             ],
             [
              0.8888888888888888,
              "#fdca26"
             ],
             [
              1,
              "#f0f921"
             ]
            ],
            "type": "histogram2d"
           }
          ],
          "histogram2dcontour": [
           {
            "colorbar": {
             "outlinewidth": 0,
             "ticks": ""
            },
            "colorscale": [
             [
              0,
              "#0d0887"
             ],
             [
              0.1111111111111111,
              "#46039f"
             ],
             [
              0.2222222222222222,
              "#7201a8"
             ],
             [
              0.3333333333333333,
              "#9c179e"
             ],
             [
              0.4444444444444444,
              "#bd3786"
             ],
             [
              0.5555555555555556,
              "#d8576b"
             ],
             [
              0.6666666666666666,
              "#ed7953"
             ],
             [
              0.7777777777777778,
              "#fb9f3a"
             ],
             [
              0.8888888888888888,
              "#fdca26"
             ],
             [
              1,
              "#f0f921"
             ]
            ],
            "type": "histogram2dcontour"
           }
          ],
          "mesh3d": [
           {
            "colorbar": {
             "outlinewidth": 0,
             "ticks": ""
            },
            "type": "mesh3d"
           }
          ],
          "parcoords": [
           {
            "line": {
             "colorbar": {
              "outlinewidth": 0,
              "ticks": ""
             }
            },
            "type": "parcoords"
           }
          ],
          "pie": [
           {
            "automargin": true,
            "type": "pie"
           }
          ],
          "scatter": [
           {
            "marker": {
             "colorbar": {
              "outlinewidth": 0,
              "ticks": ""
             }
            },
            "type": "scatter"
           }
          ],
          "scatter3d": [
           {
            "line": {
             "colorbar": {
              "outlinewidth": 0,
              "ticks": ""
             }
            },
            "marker": {
             "colorbar": {
              "outlinewidth": 0,
              "ticks": ""
             }
            },
            "type": "scatter3d"
           }
          ],
          "scattercarpet": [
           {
            "marker": {
             "colorbar": {
              "outlinewidth": 0,
              "ticks": ""
             }
            },
            "type": "scattercarpet"
           }
          ],
          "scattergeo": [
           {
            "marker": {
             "colorbar": {
              "outlinewidth": 0,
              "ticks": ""
             }
            },
            "type": "scattergeo"
           }
          ],
          "scattergl": [
           {
            "marker": {
             "colorbar": {
              "outlinewidth": 0,
              "ticks": ""
             }
            },
            "type": "scattergl"
           }
          ],
          "scattermapbox": [
           {
            "marker": {
             "colorbar": {
              "outlinewidth": 0,
              "ticks": ""
             }
            },
            "type": "scattermapbox"
           }
          ],
          "scatterpolar": [
           {
            "marker": {
             "colorbar": {
              "outlinewidth": 0,
              "ticks": ""
             }
            },
            "type": "scatterpolar"
           }
          ],
          "scatterpolargl": [
           {
            "marker": {
             "colorbar": {
              "outlinewidth": 0,
              "ticks": ""
             }
            },
            "type": "scatterpolargl"
           }
          ],
          "scatterternary": [
           {
            "marker": {
             "colorbar": {
              "outlinewidth": 0,
              "ticks": ""
             }
            },
            "type": "scatterternary"
           }
          ],
          "surface": [
           {
            "colorbar": {
             "outlinewidth": 0,
             "ticks": ""
            },
            "colorscale": [
             [
              0,
              "#0d0887"
             ],
             [
              0.1111111111111111,
              "#46039f"
             ],
             [
              0.2222222222222222,
              "#7201a8"
             ],
             [
              0.3333333333333333,
              "#9c179e"
             ],
             [
              0.4444444444444444,
              "#bd3786"
             ],
             [
              0.5555555555555556,
              "#d8576b"
             ],
             [
              0.6666666666666666,
              "#ed7953"
             ],
             [
              0.7777777777777778,
              "#fb9f3a"
             ],
             [
              0.8888888888888888,
              "#fdca26"
             ],
             [
              1,
              "#f0f921"
             ]
            ],
            "type": "surface"
           }
          ],
          "table": [
           {
            "cells": {
             "fill": {
              "color": "#EBF0F8"
             },
             "line": {
              "color": "white"
             }
            },
            "header": {
             "fill": {
              "color": "#C8D4E3"
             },
             "line": {
              "color": "white"
             }
            },
            "type": "table"
           }
          ]
         },
         "layout": {
          "annotationdefaults": {
           "arrowcolor": "#2a3f5f",
           "arrowhead": 0,
           "arrowwidth": 1
          },
          "coloraxis": {
           "colorbar": {
            "outlinewidth": 0,
            "ticks": ""
           }
          },
          "colorscale": {
           "diverging": [
            [
             0,
             "#8e0152"
            ],
            [
             0.1,
             "#c51b7d"
            ],
            [
             0.2,
             "#de77ae"
            ],
            [
             0.3,
             "#f1b6da"
            ],
            [
             0.4,
             "#fde0ef"
            ],
            [
             0.5,
             "#f7f7f7"
            ],
            [
             0.6,
             "#e6f5d0"
            ],
            [
             0.7,
             "#b8e186"
            ],
            [
             0.8,
             "#7fbc41"
            ],
            [
             0.9,
             "#4d9221"
            ],
            [
             1,
             "#276419"
            ]
           ],
           "sequential": [
            [
             0,
             "#0d0887"
            ],
            [
             0.1111111111111111,
             "#46039f"
            ],
            [
             0.2222222222222222,
             "#7201a8"
            ],
            [
             0.3333333333333333,
             "#9c179e"
            ],
            [
             0.4444444444444444,
             "#bd3786"
            ],
            [
             0.5555555555555556,
             "#d8576b"
            ],
            [
             0.6666666666666666,
             "#ed7953"
            ],
            [
             0.7777777777777778,
             "#fb9f3a"
            ],
            [
             0.8888888888888888,
             "#fdca26"
            ],
            [
             1,
             "#f0f921"
            ]
           ],
           "sequentialminus": [
            [
             0,
             "#0d0887"
            ],
            [
             0.1111111111111111,
             "#46039f"
            ],
            [
             0.2222222222222222,
             "#7201a8"
            ],
            [
             0.3333333333333333,
             "#9c179e"
            ],
            [
             0.4444444444444444,
             "#bd3786"
            ],
            [
             0.5555555555555556,
             "#d8576b"
            ],
            [
             0.6666666666666666,
             "#ed7953"
            ],
            [
             0.7777777777777778,
             "#fb9f3a"
            ],
            [
             0.8888888888888888,
             "#fdca26"
            ],
            [
             1,
             "#f0f921"
            ]
           ]
          },
          "colorway": [
           "#636efa",
           "#EF553B",
           "#00cc96",
           "#ab63fa",
           "#FFA15A",
           "#19d3f3",
           "#FF6692",
           "#B6E880",
           "#FF97FF",
           "#FECB52"
          ],
          "font": {
           "color": "#2a3f5f"
          },
          "geo": {
           "bgcolor": "white",
           "lakecolor": "white",
           "landcolor": "#E5ECF6",
           "showlakes": true,
           "showland": true,
           "subunitcolor": "white"
          },
          "hoverlabel": {
           "align": "left"
          },
          "hovermode": "closest",
          "mapbox": {
           "style": "light"
          },
          "paper_bgcolor": "white",
          "plot_bgcolor": "#E5ECF6",
          "polar": {
           "angularaxis": {
            "gridcolor": "white",
            "linecolor": "white",
            "ticks": ""
           },
           "bgcolor": "#E5ECF6",
           "radialaxis": {
            "gridcolor": "white",
            "linecolor": "white",
            "ticks": ""
           }
          },
          "scene": {
           "xaxis": {
            "backgroundcolor": "#E5ECF6",
            "gridcolor": "white",
            "gridwidth": 2,
            "linecolor": "white",
            "showbackground": true,
            "ticks": "",
            "zerolinecolor": "white"
           },
           "yaxis": {
            "backgroundcolor": "#E5ECF6",
            "gridcolor": "white",
            "gridwidth": 2,
            "linecolor": "white",
            "showbackground": true,
            "ticks": "",
            "zerolinecolor": "white"
           },
           "zaxis": {
            "backgroundcolor": "#E5ECF6",
            "gridcolor": "white",
            "gridwidth": 2,
            "linecolor": "white",
            "showbackground": true,
            "ticks": "",
            "zerolinecolor": "white"
           }
          },
          "shapedefaults": {
           "line": {
            "color": "#2a3f5f"
           }
          },
          "ternary": {
           "aaxis": {
            "gridcolor": "white",
            "linecolor": "white",
            "ticks": ""
           },
           "baxis": {
            "gridcolor": "white",
            "linecolor": "white",
            "ticks": ""
           },
           "bgcolor": "#E5ECF6",
           "caxis": {
            "gridcolor": "white",
            "linecolor": "white",
            "ticks": ""
           }
          },
          "title": {
           "x": 0.05
          },
          "xaxis": {
           "automargin": true,
           "gridcolor": "white",
           "linecolor": "white",
           "ticks": "",
           "title": {
            "standoff": 15
           },
           "zerolinecolor": "white",
           "zerolinewidth": 2
          },
          "yaxis": {
           "automargin": true,
           "gridcolor": "white",
           "linecolor": "white",
           "ticks": "",
           "title": {
            "standoff": 15
           },
           "zerolinecolor": "white",
           "zerolinewidth": 2
          }
         }
        },
        "title": {
         "font": {
          "color": "#4D5663"
         },
         "text": "Defensive Midfielder - Defend"
        },
        "xaxis": {
         "gridcolor": "#E1E5ED",
         "showgrid": true,
         "tickfont": {
          "color": "#4D5663"
         },
         "title": {
          "font": {
           "color": "#4D5663"
          },
          "text": "Pass Completion %"
         },
         "zerolinecolor": "#E1E5ED"
        },
        "yaxis": {
         "gridcolor": "#E1E5ED",
         "showgrid": true,
         "tickfont": {
          "color": "#4D5663"
         },
         "title": {
          "font": {
           "color": "#4D5663"
          },
          "text": "Interceptions/90"
         },
         "zerolinecolor": "#E1E5ED"
        }
       }
      },
      "text/html": [
       "<div>\n",
       "        \n",
       "        \n",
       "            <div id=\"81f2046f-811a-4b72-9f1d-5bb6d7694fe1\" class=\"plotly-graph-div\" style=\"height:525px; width:100%;\"></div>\n",
       "            <script type=\"text/javascript\">\n",
       "                require([\"plotly\"], function(Plotly) {\n",
       "                    window.PLOTLYENV=window.PLOTLYENV || {};\n",
       "                    window.PLOTLYENV.BASE_URL='https://plot.ly';\n",
       "                    \n",
       "                if (document.getElementById(\"81f2046f-811a-4b72-9f1d-5bb6d7694fe1\")) {\n",
       "                    Plotly.newPlot(\n",
       "                        '81f2046f-811a-4b72-9f1d-5bb6d7694fe1',\n",
       "                        [{\"line\": {\"color\": \"rgba(255, 153, 51, 1.0)\", \"dash\": \"solid\", \"shape\": \"linear\", \"width\": 1.3}, \"marker\": {\"size\": 10, \"symbol\": \"circle\"}, \"mode\": \"markers\", \"name\": \"Int/90\", \"text\": [\"Djibril Diakit\\u00c3\\u00a9\", \"Jo\\u00c3\\u00a3o Tavares\", \"Matej Hudecek\", \"Adrian Rybak\", \"Oskar Repka\", \"Maciej Obodecki\", \"Ivo Kralj\", \"Bartosz Sobczyk\", \"Ivan Tomac\", \"Nikola Bogdanovski\", \"Stefan Velickovic\", \"Andrija Zakoc\", \"Aur\\u00c3\\u00a9lien Nguiamba\", \"Flynn Downes\", \"Nikola Puzic\", \"Andjelo Kacavenda\", \"Tymoteusz Puchacz\", \"Felix Brunmayr\", \"Lennart Grill\", \"Josip Rakic\", \"Stefan Randjelovic\", \"Radoslaw Dzierbicki\", \"Alexandar Ubavic\", \"Veljko Jovkovic\", \"Mariano G\\u00c3\\u00b3mez\", \"David Bumberger\", \"Enrico Huss\", \"Mateo Jaksic\", \"Konrad Jozwicki\", \"Nikita Marusenko\", \"Djordje Jovanovic\", \"Filip Lisnic\", \"Dawid Szalas\", \"Vladimir Ilic\", \"Marcin Mackowiak\", \"Florin Codrean\", \"David Otto\", \"Stefan Golubovic\", \"Keanan Bennetts\", \"Andrej Vukas\", \"Jannik Tepe\", \"Mladen Devetak\", \"Tom Baack\", \"Jan Sobocinski\", \"Tom\\u00c3\\u00a1s Blanco\", \"Sinan Karweina\", \"Ben Williams\", \"Arkadiusz Zajaczkowski\", \"Miguel Reisinho\", \"Filp Ceko\", \"Michel St\\u00c3\\u00b6cker\", \"J\\u00c3\\u00a9r\\u00c3\\u00b4me Deom\", \"Ranko Jokic\", \"Palko D\\u00c3\\u00a1rdai\", \"Aleksander Tomasz\", \"Alex Vigo\", \"Daniel Bielica\", \"Marko Djira\", \"Norbert Walczak\", \"Boris Moltenis\", \"Julius Kade\", \"Goran Buljandric\", \"Jannis K\\u00c3\\u00bcbler\", \"Aleksa Jovanovic\", \"Tomasz Owczarek\", \"David Wittkowski\", \"Konrad Zaklika\", \"Pawel Karbowinski\", \"Nicky Werner\", \"Julijan Popovic\", \"Nassim Boujellab\", \"Bartlomiej Gajda\", \"Nemanja Matijevic\", \"Marko Denic\", \"Robert Baar\", \"Tuta\", \"Dusan Jokovic\", \"Tomasz Dzida\", \"Aleksa Pejic\", \"Krsta Bojic\", \"Sikou Niakat\\u00c3\\u00a9\", \"Tomasz Makowski\", \"Sebastian Gwozdz\", \"Adrian Polanski\", \"Bryan Mbeumo\", \"Dorin Sirbu\", \"Elvis Novalic\", \"Micka\\u00c3\\u00abl Cuisance\", \"Mateusz Madzia\", \"Jes\\u00c3\\u00bas Vargas\", \"Marino Jedvaj\", \"Raphael Assibey-Mensah\", \"Lukasz Sztylka\", \"Zoran Zrnzevic\", \"Alex Krawiec\", \"Petar Melezovic\", \"Tomasz Kurek\", \"Danko Radic\", \"Paul Mensah\", \"Jordan Williams\", \"Mario Mustapic\", \"Nikola Trickovic\", \"Patrik Delic\", \"Maciej Famulak\", \"Wiktor Nahrebecki\", \"Barne Poggenberg\", \"Mirza Jasarevic\", \"Ratko Minic\", \"Semih \\u00c5\\u009eahin\", \"Matej Santek\", \"Georgios Siadas\", \"Tyrese Campbell\", \"Martin Krizmanic\", \"Kacper Laskos\", \"Aleksa Milojevic\", \"Cheick Doucour\\u00c3\\u00a9\", \"Ivan Jakovljev\", \"Przemyslaw Zdybowicz\", \"Sven Botman\", \"Malik Karaahmet\", \"Lukas Kr\\u00c3\\u00bcger\", \"Niclas Stierlin\", \"Mane Markovic\", \"Karol Czubak\", \"Ilija Dejanovic\", \"Pascal Hackethal\", \"Oleg Gorin\", \"Michal Zieba\", \"Miodrag Maljkovic\", \"Jakov Blagaic\", \"Harisson Marcelin\", \"Vice Bazdaric\", \"Daniel Liszka\", \"Jan Sieracki\", \"Jhonny Lucas\", \"Tymoteusz Klups\", \"Josip Sutalo\", \"Othman Boussaid\", \"Evert Linthorst\", \"Jusuf Gazibegovic\", \"Virgiliu Postolachi\", \"Luis G\\u00c3\\u00b6rlich\", \"Andrej Ilic\", \"Daniel Haritonov\", \"Patryk Drabik\", \"Tom Dobek-Pietrowski\", \"Michal Mydlarz\", \"Cho Jeong-Hui\", \"Mohamed Loua\", \"Nemanja Zikic\", \"Emir Sejdovic\", \"Samuel Lengle\", \"Mateusz Duchowski\", \"Iliya Gruev\", \"Bartosz Borun\", \"Juraj Ljubic\", \"Gon\\u00c3\\u00a7alo Rebelo\", \"Dominik Resetar\", \"Jurica Prsir\", \"Piotr Wujec\", \"Jan Majsterek\", \"Mitchel Bakker\", \"Kamil Piatkowski\", \"Michal Ozga\", \"Karol Turek\", \"Toni Karimovic\", \"Billy Crellin\", \"Konrad Sieracki\", \"Vando Luis\", \"Jan Los\", \"Jessic Ngankam\", \"Adam Borkowski\", \"Julian Rieckmann\", \"Luka Pavlak\", \"Robert Ion\", \"Linus Rosenl\\u00c3\\u00b6cher\", \"Eugen Telch\", \"Nicholas Wunsch\", \"Dawid Kisly\", \"Uros Miloradovic\", \"Alois Oroz\", \"Luca Bazzoli\", \"Ronan Darcy\", \"Yann-Aurel Bisseck\", \"Timo Bornemann\", \"Radivoj Bosic\", \"Jakov Katusa\", \"Kacper Jozefiak\", \"Szymon Mroczko\", \"Karol Struski\", \"Wojciech Kaminski\", \"Piotr Lisowski\", \"Daishawn Redan\", \"Kacper Smolinski\", \"Lukas Sch\\u00c3\\u00b6fl\", \"Mikolaj Labojko\", \"Jakub Karbownik\", \"Damir Magdic\", \"Karol Malec\", \"Patryk Wozniak\", \"Can Bozdogan\", \"Aleksander Paluszek\", \"Mario Cuic\", \"Dragoljub Savic\", \"Nathan Collins\", \"Dominik Pila\", \"Mihael Kupresak\", \"Manu Kon\\u00c3\\u00a9\", \"Niels Hahn\", \"Tin Hrvoj\", \"Lucas Da Cunha\", \"Rahim Ibrahim\", \"Renato Josipovic\", \"Han-Noah Massengo\", \"Kacper Wiatrak\", \"Bartosz Kuzniarski\", \"Adrian Petk\", \"Fabian Tauchhammer\", \"Bartlomiej Mruk\", \"Jakub Rudek\", \"Jakub Swiecinski\", \"Jakub Nowakowski\", \"Kamil Dabrowski\", \"Yuri Sprandel Flores\", \"Stefan Radmanovac\", \"Kamal Bafounta\", \"Filip Marchwinski\", \"Kamil Lukoszek\", \"Jakub Niewiadomski\", \"Dominik Kedzior\", \"Joe Gelhardt\", \"Filip Sobiecki\", \"Fran Tomek\", \"Hubert Wasiewski\", \"Djordje Vasic\", \"Jakub Zima\", \"Damian Makuch\", \"Andrzej Kloda\", \"Stipe Biuk\", \"Mateusz Pienczak\", \"FIlip Brekalo\", \"Stefan Despotovski\", \"Jakub Kisiel\", \"Duje Skugor\", \"Martin Baturina\", \"Radoslaw Cielemecki\", \"Ariel Mosor\", \"Nikola Petkovic\", \"Nikodem Sujecki\", \"Ivan Mandic\", \"Stanislaw Loch\", \"Dario Grgic\", \"Wojciech Szybka\", \"Kacper Szmidt\", \"Vukasin Krstic\", \"Obrendo Doesburg\", \"Casper Elderman\", \"Predrag Jovic\", \"Daniel Hoyo-Kowalski\", \"Darijo Basic\", \"Wiktor Mosur\", \"Uros Mirkovic\", \"Marcos Rodr\\u00c3\\u00adguez\", \"Adrian \\u00c5\\u00a2apu\", \"Paul Mari\", \"Pawel Muzylowski\", \"Dragan Radovic\", \"Szymon Kobeszko\", \"Marcin Dabrowski\", \"Jorge Delgado\", \"Daniel Piesio\", null], \"type\": \"scatter\", \"x\": [\"64%\", \"66%\", \"68%\", \"71%\", \"71%\", \"61%\", \"71%\", \"69%\", \"70%\", \"70%\", \"76%\", \"68%\", \"80%\", \"83%\", \"69%\", \"77%\", \"71%\", \"68%\", \"48%\", \"68%\", \"43%\", \"69%\", \"67%\", \"64%\", \"71%\", \"74%\", \"73%\", \"68%\", \"76%\", \"75%\", \"65%\", \"72%\", \"57%\", \"70%\", \"75%\", \"74%\", \"65%\", \"61%\", \"64%\", \"57%\", \"62%\", \"73%\", \"88%\", \"82%\", \"64%\", \"64%\", \"72%\", \"71%\", \"75%\", \"64%\", \"74%\", \"63%\", \"69%\", \"68%\", \"74%\", \"72%\", \"44%\", \"76%\", \"61%\", \"78%\", \"91%\", \"61%\", \"70%\", \"74%\", \"70%\", \"65%\", \"72%\", \"63%\", \"61%\", \"70%\", \"71%\", \"74%\", \"61%\", \"70%\", \"67%\", \"84%\", \"75%\", \"66%\", \"76%\", \"66%\", \"77%\", \"82%\", \"73%\", \"64%\", \"65%\", \"68%\", \"77%\", \"80%\", \"66%\", \"66%\", \"72%\", \"70%\", \"66%\", \"67%\", \"61%\", \"70%\", \"63%\", \"64%\", \"66%\", \"71%\", \"42%\", \"79%\", \"68%\", \"74%\", \"72%\", \"67%\", \"64%\", \"68%\", \"68%\", \"76%\", \"71%\", \"66%\", \"68%\", \"78%\", \"47%\", \"77%\", \"72%\", \"60%\", \"76%\", \"58%\", \"68%\", \"73%\", \"44%\", \"62%\", \"65%\", \"71%\", \"68%\", \"72%\", \"64%\", \"71%\", \"71%\", \"47%\", \"68%\", \"70%\", \"75%\", \"70%\", \"74%\", \"68%\", \"72%\", \"69%\", \"57%\", \"70%\", \"64%\", \"70%\", \"70%\", \"69%\", \"69%\", \"66%\", \"82%\", \"73%\", \"74%\", \"71%\", \"73%\", \"78%\", \"69%\", \"71%\", \"68%\", \"63%\", \"72%\", \"70%\", \"69%\", \"73%\", \"75%\", \"70%\", \"69%\", \"65%\", \"58%\", \"72%\", \"68%\", \"65%\", \"65%\", \"66%\", \"79%\", \"71%\", \"65%\", \"66%\", \"69%\", \"59%\", \"72%\", \"77%\", \"68%\", \"73%\", \"74%\", \"76%\", \"61%\", \"64%\", \"65%\", \"71%\", \"66%\", \"68%\", \"77%\", \"72%\", \"66%\", \"71%\", \"71%\", \"72%\", \"66%\", \"67%\", \"63%\", \"70%\", \"74%\", \"71%\", \"72%\", \"73%\", \"78%\", \"73%\", \"63%\", \"69%\", \"72%\", \"69%\", \"72%\", \"70%\", \"51%\", \"77%\", \"69%\", \"61%\", \"76%\", \"73%\", \"72%\", \"75%\", \"72%\", \"70%\", \"65%\", \"71%\", \"68%\", \"80%\", \"74%\", \"62%\", \"67%\", \"63%\", \"55%\", \"70%\", \"78%\", \"48%\", \"74%\", \"76%\", \"69%\", \"68%\", \"72%\", \"73%\", \"73%\", \"70%\", \"71%\", \"57%\", \"70%\", \"67%\", \"75%\", \"76%\", \"51%\", \"46%\", \"71%\", \"71%\", \"75%\", \"72%\", \"73%\", \"75%\", \"73%\", \"72%\", \"68%\", \"72%\", \"64%\", \"62%\", \"70%\", \"68%\", \"77%\", \"71%\", \"67%\", \"75%\", \"70%\", \"73%\", \"72%\", null], \"y\": [\"0.07\", \"-\", \"2.47\", \"2.55\", \"3.02\", \"-\", \"4.56\", \"1.13\", \"3.32\", \"2.92\", \"2.30\", \"1.15\", \"2.63\", \"2.46\", \"3.40\", \"3.12\", \"3.17\", \"0.88\", \"-\", \"3.35\", \"-\", \"0.79\", \"-\", \"1.61\", \"1.72\", \"4.08\", \"1.83\", \"2.30\", \"1.50\", \"2.08\", \"1.39\", \"3.22\", \"1.21\", \"1.24\", \"2.77\", \"-\", \"1.19\", \"1.15\", \"1.18\", \"0.93\", \"1.24\", \"2.86\", \"2.78\", \"3.29\", \"0.85\", \"1.21\", \"3.08\", \"3.89\", \"1.59\", \"2.94\", \"3.82\", \"0.36\", \"2.67\", \"1.41\", \"-\", \"1.49\", \"-\", \"1.65\", \"-\", \"2.94\", \"1.10\", \"-\", \"3.70\", \"2.82\", \"1.62\", \"3.67\", \"2.35\", \"1.00\", \"0.92\", \"2.85\", \"1.56\", \"4.17\", \"0.80\", \"-\", \"1.32\", \"3.06\", \"2.66\", \"0.93\", \"2.47\", \"1.41\", \"4.28\", \"3.39\", \"-\", \"4.07\", \"0.98\", \"-\", \"2.57\", \"1.25\", \"3.88\", \"1.99\", \"-\", \"-\", \"1.49\", \"-\", \"1.10\", \"-\", \"0.92\", \"1.29\", \"0.96\", \"2.44\", \"-\", \"1.20\", \"-\", \"0.85\", \"3.53\", \"2.91\", \"0.84\", \"0.77\", \"2.90\", \"4.32\", \"3.67\", \"1.00\", \"2.58\", \"2.42\", \"-\", \"3.00\", \"-\", \"0.79\", \"2.76\", \"-\", \"1.49\", \"2.43\", \"-\", \"0.70\", \"-\", \"2.72\", \"2.65\", \"2.57\", \"0.88\", \"1.69\", \"0.38\", \"-\", \"1.95\", \"2.15\", \"3.53\", \"0.86\", \"3.43\", \"-\", \"0.91\", \"1.80\", \"-\", \"2.15\", \"1.03\", \"3.23\", \"0.67\", \"2.24\", \"3.21\", \"0.09\", \"3.74\", \"-\", \"2.04\", \"3.45\", \"1.19\", \"3.07\", \"1.33\", \"1.61\", \"0.17\", \"0.92\", \"2.10\", \"3.89\", \"2.05\", \"1.94\", \"3.59\", \"1.25\", \"3.60\", \"1.90\", \"-\", \"1.33\", \"0.21\", \"1.25\", \"1.18\", \"0.92\", \"4.07\", \"2.50\", \"2.16\", \"2.33\", \"-\", \"1.01\", \"1.70\", \"2.48\", \"3.61\", \"1.13\", \"0.47\", \"3.15\", \"0.96\", \"1.84\", \"0.97\", \"3.57\", \"1.76\", \"1.56\", \"3.84\", \"3.73\", \"1.86\", \"3.20\", \"-\", \"-\", \"0.73\", \"2.31\", \"0.93\", \"2.04\", \"2.25\", \"3.57\", \"5.09\", \"-\", \"2.76\", \"0.80\", \"1.53\", \"-\", \"-\", \"2.27\", \"-\", \"-\", \"-\", \"2.94\", \"-\", \"1.23\", \"3.73\", \"-\", \"4.61\", \"2.73\", \"2.92\", \"-\", \"0.87\", \"2.01\", \"1.33\", \"5.14\", \"1.29\", \"1.09\", \"1.91\", \"0.96\", \"0.19\", \"1.37\", \"3.21\", \"-\", \"0.80\", \"2.90\", \"4.38\", \"3.21\", \"0.99\", \"2.62\", \"3.02\", \"4.47\", \"1.65\", \"0.77\", \"0.85\", \"2.28\", \"4.00\", \"3.42\", \"-\", \"-\", \"1.06\", \"1.48\", \"4.07\", \"0.96\", \"4.23\", \"-\", \"3.21\", \"1.46\", \"3.61\", \"2.01\", \"1.07\", \"0.96\", \"1.37\", \"1.36\", \"3.14\", \"1.00\", \"1.76\", \"2.69\", \"1.72\", \"0.80\", \"3.25\", \"\"]}],\n",
       "                        {\"legend\": {\"bgcolor\": \"#F5F6F9\", \"font\": {\"color\": \"#4D5663\"}}, \"paper_bgcolor\": \"#F5F6F9\", \"plot_bgcolor\": \"#F5F6F9\", \"template\": {\"data\": {\"bar\": [{\"error_x\": {\"color\": \"#2a3f5f\"}, \"error_y\": {\"color\": \"#2a3f5f\"}, \"marker\": {\"line\": {\"color\": \"#E5ECF6\", \"width\": 0.5}}, \"type\": \"bar\"}], \"barpolar\": [{\"marker\": {\"line\": {\"color\": \"#E5ECF6\", \"width\": 0.5}}, \"type\": \"barpolar\"}], \"carpet\": [{\"aaxis\": {\"endlinecolor\": \"#2a3f5f\", \"gridcolor\": \"white\", \"linecolor\": \"white\", \"minorgridcolor\": \"white\", \"startlinecolor\": \"#2a3f5f\"}, \"baxis\": {\"endlinecolor\": \"#2a3f5f\", \"gridcolor\": \"white\", \"linecolor\": \"white\", \"minorgridcolor\": \"white\", \"startlinecolor\": \"#2a3f5f\"}, \"type\": \"carpet\"}], \"choropleth\": [{\"colorbar\": {\"outlinewidth\": 0, \"ticks\": \"\"}, \"type\": \"choropleth\"}], \"contour\": [{\"colorbar\": {\"outlinewidth\": 0, \"ticks\": \"\"}, \"colorscale\": [[0.0, \"#0d0887\"], [0.1111111111111111, \"#46039f\"], [0.2222222222222222, \"#7201a8\"], [0.3333333333333333, \"#9c179e\"], [0.4444444444444444, \"#bd3786\"], [0.5555555555555556, \"#d8576b\"], [0.6666666666666666, \"#ed7953\"], [0.7777777777777778, \"#fb9f3a\"], [0.8888888888888888, \"#fdca26\"], [1.0, \"#f0f921\"]], \"type\": \"contour\"}], \"contourcarpet\": [{\"colorbar\": {\"outlinewidth\": 0, \"ticks\": \"\"}, \"type\": \"contourcarpet\"}], \"heatmap\": [{\"colorbar\": {\"outlinewidth\": 0, \"ticks\": \"\"}, \"colorscale\": [[0.0, \"#0d0887\"], [0.1111111111111111, \"#46039f\"], [0.2222222222222222, \"#7201a8\"], [0.3333333333333333, \"#9c179e\"], [0.4444444444444444, \"#bd3786\"], [0.5555555555555556, \"#d8576b\"], [0.6666666666666666, \"#ed7953\"], [0.7777777777777778, \"#fb9f3a\"], [0.8888888888888888, \"#fdca26\"], [1.0, \"#f0f921\"]], \"type\": \"heatmap\"}], \"heatmapgl\": [{\"colorbar\": {\"outlinewidth\": 0, \"ticks\": \"\"}, \"colorscale\": [[0.0, \"#0d0887\"], [0.1111111111111111, \"#46039f\"], [0.2222222222222222, \"#7201a8\"], [0.3333333333333333, \"#9c179e\"], [0.4444444444444444, \"#bd3786\"], [0.5555555555555556, \"#d8576b\"], [0.6666666666666666, \"#ed7953\"], [0.7777777777777778, \"#fb9f3a\"], [0.8888888888888888, \"#fdca26\"], [1.0, \"#f0f921\"]], \"type\": \"heatmapgl\"}], \"histogram\": [{\"marker\": {\"colorbar\": {\"outlinewidth\": 0, \"ticks\": \"\"}}, \"type\": \"histogram\"}], \"histogram2d\": [{\"colorbar\": {\"outlinewidth\": 0, \"ticks\": \"\"}, \"colorscale\": [[0.0, \"#0d0887\"], [0.1111111111111111, \"#46039f\"], [0.2222222222222222, \"#7201a8\"], [0.3333333333333333, \"#9c179e\"], [0.4444444444444444, \"#bd3786\"], [0.5555555555555556, \"#d8576b\"], [0.6666666666666666, \"#ed7953\"], [0.7777777777777778, \"#fb9f3a\"], [0.8888888888888888, \"#fdca26\"], [1.0, \"#f0f921\"]], \"type\": \"histogram2d\"}], \"histogram2dcontour\": [{\"colorbar\": {\"outlinewidth\": 0, \"ticks\": \"\"}, \"colorscale\": [[0.0, \"#0d0887\"], [0.1111111111111111, \"#46039f\"], [0.2222222222222222, \"#7201a8\"], [0.3333333333333333, \"#9c179e\"], [0.4444444444444444, \"#bd3786\"], [0.5555555555555556, \"#d8576b\"], [0.6666666666666666, \"#ed7953\"], [0.7777777777777778, \"#fb9f3a\"], [0.8888888888888888, \"#fdca26\"], [1.0, \"#f0f921\"]], \"type\": \"histogram2dcontour\"}], \"mesh3d\": [{\"colorbar\": {\"outlinewidth\": 0, \"ticks\": \"\"}, \"type\": \"mesh3d\"}], \"parcoords\": [{\"line\": {\"colorbar\": {\"outlinewidth\": 0, \"ticks\": \"\"}}, \"type\": \"parcoords\"}], \"pie\": [{\"automargin\": true, \"type\": \"pie\"}], \"scatter\": [{\"marker\": {\"colorbar\": {\"outlinewidth\": 0, \"ticks\": \"\"}}, \"type\": \"scatter\"}], \"scatter3d\": [{\"line\": {\"colorbar\": {\"outlinewidth\": 0, \"ticks\": \"\"}}, \"marker\": {\"colorbar\": {\"outlinewidth\": 0, \"ticks\": \"\"}}, \"type\": \"scatter3d\"}], \"scattercarpet\": [{\"marker\": {\"colorbar\": {\"outlinewidth\": 0, \"ticks\": \"\"}}, \"type\": \"scattercarpet\"}], \"scattergeo\": [{\"marker\": {\"colorbar\": {\"outlinewidth\": 0, \"ticks\": \"\"}}, \"type\": \"scattergeo\"}], \"scattergl\": [{\"marker\": {\"colorbar\": {\"outlinewidth\": 0, \"ticks\": \"\"}}, \"type\": \"scattergl\"}], \"scattermapbox\": [{\"marker\": {\"colorbar\": {\"outlinewidth\": 0, \"ticks\": \"\"}}, \"type\": \"scattermapbox\"}], \"scatterpolar\": [{\"marker\": {\"colorbar\": {\"outlinewidth\": 0, \"ticks\": \"\"}}, \"type\": \"scatterpolar\"}], \"scatterpolargl\": [{\"marker\": {\"colorbar\": {\"outlinewidth\": 0, \"ticks\": \"\"}}, \"type\": \"scatterpolargl\"}], \"scatterternary\": [{\"marker\": {\"colorbar\": {\"outlinewidth\": 0, \"ticks\": \"\"}}, \"type\": \"scatterternary\"}], \"surface\": [{\"colorbar\": {\"outlinewidth\": 0, \"ticks\": \"\"}, \"colorscale\": [[0.0, \"#0d0887\"], [0.1111111111111111, \"#46039f\"], [0.2222222222222222, \"#7201a8\"], [0.3333333333333333, \"#9c179e\"], [0.4444444444444444, \"#bd3786\"], [0.5555555555555556, \"#d8576b\"], [0.6666666666666666, \"#ed7953\"], [0.7777777777777778, \"#fb9f3a\"], [0.8888888888888888, \"#fdca26\"], [1.0, \"#f0f921\"]], \"type\": \"surface\"}], \"table\": [{\"cells\": {\"fill\": {\"color\": \"#EBF0F8\"}, \"line\": {\"color\": \"white\"}}, \"header\": {\"fill\": {\"color\": \"#C8D4E3\"}, \"line\": {\"color\": \"white\"}}, \"type\": \"table\"}]}, \"layout\": {\"annotationdefaults\": {\"arrowcolor\": \"#2a3f5f\", \"arrowhead\": 0, \"arrowwidth\": 1}, \"coloraxis\": {\"colorbar\": {\"outlinewidth\": 0, \"ticks\": \"\"}}, \"colorscale\": {\"diverging\": [[0, \"#8e0152\"], [0.1, \"#c51b7d\"], [0.2, \"#de77ae\"], [0.3, \"#f1b6da\"], [0.4, \"#fde0ef\"], [0.5, \"#f7f7f7\"], [0.6, \"#e6f5d0\"], [0.7, \"#b8e186\"], [0.8, \"#7fbc41\"], [0.9, \"#4d9221\"], [1, \"#276419\"]], \"sequential\": [[0.0, \"#0d0887\"], [0.1111111111111111, \"#46039f\"], [0.2222222222222222, \"#7201a8\"], [0.3333333333333333, \"#9c179e\"], [0.4444444444444444, \"#bd3786\"], [0.5555555555555556, \"#d8576b\"], [0.6666666666666666, \"#ed7953\"], [0.7777777777777778, \"#fb9f3a\"], [0.8888888888888888, \"#fdca26\"], [1.0, \"#f0f921\"]], \"sequentialminus\": [[0.0, \"#0d0887\"], [0.1111111111111111, \"#46039f\"], [0.2222222222222222, \"#7201a8\"], [0.3333333333333333, \"#9c179e\"], [0.4444444444444444, \"#bd3786\"], [0.5555555555555556, \"#d8576b\"], [0.6666666666666666, \"#ed7953\"], [0.7777777777777778, \"#fb9f3a\"], [0.8888888888888888, \"#fdca26\"], [1.0, \"#f0f921\"]]}, \"colorway\": [\"#636efa\", \"#EF553B\", \"#00cc96\", \"#ab63fa\", \"#FFA15A\", \"#19d3f3\", \"#FF6692\", \"#B6E880\", \"#FF97FF\", \"#FECB52\"], \"font\": {\"color\": \"#2a3f5f\"}, \"geo\": {\"bgcolor\": \"white\", \"lakecolor\": \"white\", \"landcolor\": \"#E5ECF6\", \"showlakes\": true, \"showland\": true, \"subunitcolor\": \"white\"}, \"hoverlabel\": {\"align\": \"left\"}, \"hovermode\": \"closest\", \"mapbox\": {\"style\": \"light\"}, \"paper_bgcolor\": \"white\", \"plot_bgcolor\": \"#E5ECF6\", \"polar\": {\"angularaxis\": {\"gridcolor\": \"white\", \"linecolor\": \"white\", \"ticks\": \"\"}, \"bgcolor\": \"#E5ECF6\", \"radialaxis\": {\"gridcolor\": \"white\", \"linecolor\": \"white\", \"ticks\": \"\"}}, \"scene\": {\"xaxis\": {\"backgroundcolor\": \"#E5ECF6\", \"gridcolor\": \"white\", \"gridwidth\": 2, \"linecolor\": \"white\", \"showbackground\": true, \"ticks\": \"\", \"zerolinecolor\": \"white\"}, \"yaxis\": {\"backgroundcolor\": \"#E5ECF6\", \"gridcolor\": \"white\", \"gridwidth\": 2, \"linecolor\": \"white\", \"showbackground\": true, \"ticks\": \"\", \"zerolinecolor\": \"white\"}, \"zaxis\": {\"backgroundcolor\": \"#E5ECF6\", \"gridcolor\": \"white\", \"gridwidth\": 2, \"linecolor\": \"white\", \"showbackground\": true, \"ticks\": \"\", \"zerolinecolor\": \"white\"}}, \"shapedefaults\": {\"line\": {\"color\": \"#2a3f5f\"}}, \"ternary\": {\"aaxis\": {\"gridcolor\": \"white\", \"linecolor\": \"white\", \"ticks\": \"\"}, \"baxis\": {\"gridcolor\": \"white\", \"linecolor\": \"white\", \"ticks\": \"\"}, \"bgcolor\": \"#E5ECF6\", \"caxis\": {\"gridcolor\": \"white\", \"linecolor\": \"white\", \"ticks\": \"\"}}, \"title\": {\"x\": 0.05}, \"xaxis\": {\"automargin\": true, \"gridcolor\": \"white\", \"linecolor\": \"white\", \"ticks\": \"\", \"title\": {\"standoff\": 15}, \"zerolinecolor\": \"white\", \"zerolinewidth\": 2}, \"yaxis\": {\"automargin\": true, \"gridcolor\": \"white\", \"linecolor\": \"white\", \"ticks\": \"\", \"title\": {\"standoff\": 15}, \"zerolinecolor\": \"white\", \"zerolinewidth\": 2}}}, \"title\": {\"font\": {\"color\": \"#4D5663\"}, \"text\": \"Defensive Midfielder - Defend\"}, \"xaxis\": {\"gridcolor\": \"#E1E5ED\", \"showgrid\": true, \"tickfont\": {\"color\": \"#4D5663\"}, \"title\": {\"font\": {\"color\": \"#4D5663\"}, \"text\": \"Pass Completion %\"}, \"zerolinecolor\": \"#E1E5ED\"}, \"yaxis\": {\"gridcolor\": \"#E1E5ED\", \"showgrid\": true, \"tickfont\": {\"color\": \"#4D5663\"}, \"title\": {\"font\": {\"color\": \"#4D5663\"}, \"text\": \"Interceptions/90\"}, \"zerolinecolor\": \"#E1E5ED\"}},\n",
       "                        {\"showLink\": true, \"linkText\": \"Export to plot.ly\", \"plotlyServerURL\": \"https://plot.ly\", \"responsive\": true}\n",
       "                    ).then(function(){\n",
       "                            \n",
       "var gd = document.getElementById('81f2046f-811a-4b72-9f1d-5bb6d7694fe1');\n",
       "var x = new MutationObserver(function (mutations, observer) {{\n",
       "        var display = window.getComputedStyle(gd).display;\n",
       "        if (!display || display === 'none') {{\n",
       "            console.log([gd, 'removed!']);\n",
       "            Plotly.purge(gd);\n",
       "            observer.disconnect();\n",
       "        }}\n",
       "}});\n",
       "\n",
       "// Listen for the removal of the full notebook cells\n",
       "var notebookContainer = gd.closest('#notebook-container');\n",
       "if (notebookContainer) {{\n",
       "    x.observe(notebookContainer, {childList: true});\n",
       "}}\n",
       "\n",
       "// Listen for the clearing of the current output cell\n",
       "var outputEl = gd.closest('.output');\n",
       "if (outputEl) {{\n",
       "    x.observe(outputEl, {childList: true});\n",
       "}}\n",
       "\n",
       "                        })\n",
       "                };\n",
       "                });\n",
       "            </script>\n",
       "        </div>"
      ]
     },
     "metadata": {},
     "output_type": "display_data"
    }
   ],
   "source": [
    "df1.iplot(kind='scatter',x='Pas %',y='Int/90',\n",
    "           mode='markers',text='Name',size=10,\n",
    "          xTitle='Pass Completion %',yTitle='Interceptions/90',title='Defensive Midfielder - Defend')"
   ]
  },
  {
   "cell_type": "code",
   "execution_count": 16,
   "metadata": {},
   "outputs": [
    {
     "name": "stdout",
     "output_type": "stream",
     "text": [
      "Ball Winning Midfielder\n"
     ]
    },
    {
     "data": {
      "text/html": [
       "<style  type=\"text/css\" >\n",
       "    #T_e081ae19_91d2_11ea_9bca_4ceb428e4071row0_col1 {\n",
       "            background-color:  #f7fbff;\n",
       "            color:  #000000;\n",
       "        }    #T_e081ae19_91d2_11ea_9bca_4ceb428e4071row0_col2 {\n",
       "            background-color:  #c6dbef;\n",
       "            color:  #000000;\n",
       "        }    #T_e081ae19_91d2_11ea_9bca_4ceb428e4071row0_col3 {\n",
       "            background-color:  #08306b;\n",
       "            color:  #f1f1f1;\n",
       "        }    #T_e081ae19_91d2_11ea_9bca_4ceb428e4071row0_col4 {\n",
       "            background-color:  #08306b;\n",
       "            color:  #f1f1f1;\n",
       "        }    #T_e081ae19_91d2_11ea_9bca_4ceb428e4071row0_col5 {\n",
       "            background-color:  #f7fbff;\n",
       "            color:  #000000;\n",
       "        }    #T_e081ae19_91d2_11ea_9bca_4ceb428e4071row0_col6 {\n",
       "            background-color:  #08306b;\n",
       "            color:  #f1f1f1;\n",
       "        }    #T_e081ae19_91d2_11ea_9bca_4ceb428e4071row0_col7 {\n",
       "            background-color:  #1764ab;\n",
       "            color:  #f1f1f1;\n",
       "        }    #T_e081ae19_91d2_11ea_9bca_4ceb428e4071row0_col8 {\n",
       "            background-color:  #08306b;\n",
       "            color:  #f1f1f1;\n",
       "        }    #T_e081ae19_91d2_11ea_9bca_4ceb428e4071row1_col1 {\n",
       "            background-color:  #d0e1f2;\n",
       "            color:  #000000;\n",
       "        }    #T_e081ae19_91d2_11ea_9bca_4ceb428e4071row1_col2 {\n",
       "            background-color:  #6aaed6;\n",
       "            color:  #000000;\n",
       "        }    #T_e081ae19_91d2_11ea_9bca_4ceb428e4071row1_col3 {\n",
       "            background-color:  #9dcae1;\n",
       "            color:  #000000;\n",
       "        }    #T_e081ae19_91d2_11ea_9bca_4ceb428e4071row1_col4 {\n",
       "            background-color:  #08306b;\n",
       "            color:  #f1f1f1;\n",
       "        }    #T_e081ae19_91d2_11ea_9bca_4ceb428e4071row1_col5 {\n",
       "            background-color:  #6aaed6;\n",
       "            color:  #000000;\n",
       "        }    #T_e081ae19_91d2_11ea_9bca_4ceb428e4071row1_col6 {\n",
       "            background-color:  #1764ab;\n",
       "            color:  #f1f1f1;\n",
       "        }    #T_e081ae19_91d2_11ea_9bca_4ceb428e4071row1_col7 {\n",
       "            background-color:  #1764ab;\n",
       "            color:  #f1f1f1;\n",
       "        }    #T_e081ae19_91d2_11ea_9bca_4ceb428e4071row1_col8 {\n",
       "            background-color:  #1967ad;\n",
       "            color:  #f1f1f1;\n",
       "        }    #T_e081ae19_91d2_11ea_9bca_4ceb428e4071row2_col1 {\n",
       "            background-color:  #1764ab;\n",
       "            color:  #f1f1f1;\n",
       "        }    #T_e081ae19_91d2_11ea_9bca_4ceb428e4071row2_col2 {\n",
       "            background-color:  #2070b4;\n",
       "            color:  #f1f1f1;\n",
       "        }    #T_e081ae19_91d2_11ea_9bca_4ceb428e4071row2_col3 {\n",
       "            background-color:  #9dcae1;\n",
       "            color:  #000000;\n",
       "        }    #T_e081ae19_91d2_11ea_9bca_4ceb428e4071row2_col4 {\n",
       "            background-color:  #2070b4;\n",
       "            color:  #f1f1f1;\n",
       "        }    #T_e081ae19_91d2_11ea_9bca_4ceb428e4071row2_col5 {\n",
       "            background-color:  #f7fbff;\n",
       "            color:  #000000;\n",
       "        }    #T_e081ae19_91d2_11ea_9bca_4ceb428e4071row2_col6 {\n",
       "            background-color:  #94c4df;\n",
       "            color:  #000000;\n",
       "        }    #T_e081ae19_91d2_11ea_9bca_4ceb428e4071row2_col7 {\n",
       "            background-color:  #94c4df;\n",
       "            color:  #000000;\n",
       "        }    #T_e081ae19_91d2_11ea_9bca_4ceb428e4071row2_col8 {\n",
       "            background-color:  #bad6eb;\n",
       "            color:  #000000;\n",
       "        }    #T_e081ae19_91d2_11ea_9bca_4ceb428e4071row3_col1 {\n",
       "            background-color:  #08306b;\n",
       "            color:  #f1f1f1;\n",
       "        }    #T_e081ae19_91d2_11ea_9bca_4ceb428e4071row3_col2 {\n",
       "            background-color:  #f7fbff;\n",
       "            color:  #000000;\n",
       "        }    #T_e081ae19_91d2_11ea_9bca_4ceb428e4071row3_col3 {\n",
       "            background-color:  #4191c6;\n",
       "            color:  #000000;\n",
       "        }    #T_e081ae19_91d2_11ea_9bca_4ceb428e4071row3_col4 {\n",
       "            background-color:  #08509b;\n",
       "            color:  #f1f1f1;\n",
       "        }    #T_e081ae19_91d2_11ea_9bca_4ceb428e4071row3_col5 {\n",
       "            background-color:  #c6dbef;\n",
       "            color:  #000000;\n",
       "        }    #T_e081ae19_91d2_11ea_9bca_4ceb428e4071row3_col6 {\n",
       "            background-color:  #94c4df;\n",
       "            color:  #000000;\n",
       "        }    #T_e081ae19_91d2_11ea_9bca_4ceb428e4071row3_col7 {\n",
       "            background-color:  #d0e1f2;\n",
       "            color:  #000000;\n",
       "        }    #T_e081ae19_91d2_11ea_9bca_4ceb428e4071row3_col8 {\n",
       "            background-color:  #bad6eb;\n",
       "            color:  #000000;\n",
       "        }    #T_e081ae19_91d2_11ea_9bca_4ceb428e4071row4_col1 {\n",
       "            background-color:  #08306b;\n",
       "            color:  #f1f1f1;\n",
       "        }    #T_e081ae19_91d2_11ea_9bca_4ceb428e4071row4_col2 {\n",
       "            background-color:  #f7fbff;\n",
       "            color:  #000000;\n",
       "        }    #T_e081ae19_91d2_11ea_9bca_4ceb428e4071row4_col3 {\n",
       "            background-color:  #f7fbff;\n",
       "            color:  #000000;\n",
       "        }    #T_e081ae19_91d2_11ea_9bca_4ceb428e4071row4_col4 {\n",
       "            background-color:  #4191c6;\n",
       "            color:  #000000;\n",
       "        }    #T_e081ae19_91d2_11ea_9bca_4ceb428e4071row4_col5 {\n",
       "            background-color:  #08306b;\n",
       "            color:  #f1f1f1;\n",
       "        }    #T_e081ae19_91d2_11ea_9bca_4ceb428e4071row4_col6 {\n",
       "            background-color:  #1764ab;\n",
       "            color:  #f1f1f1;\n",
       "        }    #T_e081ae19_91d2_11ea_9bca_4ceb428e4071row4_col7 {\n",
       "            background-color:  #4a98c9;\n",
       "            color:  #000000;\n",
       "        }    #T_e081ae19_91d2_11ea_9bca_4ceb428e4071row4_col8 {\n",
       "            background-color:  #bad6eb;\n",
       "            color:  #000000;\n",
       "        }    #T_e081ae19_91d2_11ea_9bca_4ceb428e4071row5_col1 {\n",
       "            background-color:  #08306b;\n",
       "            color:  #f1f1f1;\n",
       "        }    #T_e081ae19_91d2_11ea_9bca_4ceb428e4071row5_col2 {\n",
       "            background-color:  #08306b;\n",
       "            color:  #f1f1f1;\n",
       "        }    #T_e081ae19_91d2_11ea_9bca_4ceb428e4071row5_col3 {\n",
       "            background-color:  #deebf7;\n",
       "            color:  #000000;\n",
       "        }    #T_e081ae19_91d2_11ea_9bca_4ceb428e4071row5_col4 {\n",
       "            background-color:  #2070b4;\n",
       "            color:  #f1f1f1;\n",
       "        }    #T_e081ae19_91d2_11ea_9bca_4ceb428e4071row5_col5 {\n",
       "            background-color:  #6aaed6;\n",
       "            color:  #000000;\n",
       "        }    #T_e081ae19_91d2_11ea_9bca_4ceb428e4071row5_col6 {\n",
       "            background-color:  #d0e1f2;\n",
       "            color:  #000000;\n",
       "        }    #T_e081ae19_91d2_11ea_9bca_4ceb428e4071row5_col7 {\n",
       "            background-color:  #d0e1f2;\n",
       "            color:  #000000;\n",
       "        }    #T_e081ae19_91d2_11ea_9bca_4ceb428e4071row5_col8 {\n",
       "            background-color:  #cde0f1;\n",
       "            color:  #000000;\n",
       "        }    #T_e081ae19_91d2_11ea_9bca_4ceb428e4071row6_col1 {\n",
       "            background-color:  #08306b;\n",
       "            color:  #f1f1f1;\n",
       "        }    #T_e081ae19_91d2_11ea_9bca_4ceb428e4071row6_col2 {\n",
       "            background-color:  #f7fbff;\n",
       "            color:  #000000;\n",
       "        }    #T_e081ae19_91d2_11ea_9bca_4ceb428e4071row6_col3 {\n",
       "            background-color:  #6aaed6;\n",
       "            color:  #000000;\n",
       "        }    #T_e081ae19_91d2_11ea_9bca_4ceb428e4071row6_col4 {\n",
       "            background-color:  #9dcae1;\n",
       "            color:  #000000;\n",
       "        }    #T_e081ae19_91d2_11ea_9bca_4ceb428e4071row6_col5 {\n",
       "            background-color:  #6aaed6;\n",
       "            color:  #000000;\n",
       "        }    #T_e081ae19_91d2_11ea_9bca_4ceb428e4071row6_col6 {\n",
       "            background-color:  #1764ab;\n",
       "            color:  #f1f1f1;\n",
       "        }    #T_e081ae19_91d2_11ea_9bca_4ceb428e4071row6_col7 {\n",
       "            background-color:  #d0e1f2;\n",
       "            color:  #000000;\n",
       "        }    #T_e081ae19_91d2_11ea_9bca_4ceb428e4071row6_col8 {\n",
       "            background-color:  #dbe9f6;\n",
       "            color:  #000000;\n",
       "        }    #T_e081ae19_91d2_11ea_9bca_4ceb428e4071row7_col1 {\n",
       "            background-color:  #4a98c9;\n",
       "            color:  #000000;\n",
       "        }    #T_e081ae19_91d2_11ea_9bca_4ceb428e4071row7_col2 {\n",
       "            background-color:  #c6dbef;\n",
       "            color:  #000000;\n",
       "        }    #T_e081ae19_91d2_11ea_9bca_4ceb428e4071row7_col3 {\n",
       "            background-color:  #9dcae1;\n",
       "            color:  #000000;\n",
       "        }    #T_e081ae19_91d2_11ea_9bca_4ceb428e4071row7_col4 {\n",
       "            background-color:  #6aaed6;\n",
       "            color:  #000000;\n",
       "        }    #T_e081ae19_91d2_11ea_9bca_4ceb428e4071row7_col5 {\n",
       "            background-color:  #c6dbef;\n",
       "            color:  #000000;\n",
       "        }    #T_e081ae19_91d2_11ea_9bca_4ceb428e4071row7_col6 {\n",
       "            background-color:  #f7fbff;\n",
       "            color:  #000000;\n",
       "        }    #T_e081ae19_91d2_11ea_9bca_4ceb428e4071row7_col7 {\n",
       "            background-color:  #08306b;\n",
       "            color:  #f1f1f1;\n",
       "        }    #T_e081ae19_91d2_11ea_9bca_4ceb428e4071row7_col8 {\n",
       "            background-color:  #dbe9f6;\n",
       "            color:  #000000;\n",
       "        }    #T_e081ae19_91d2_11ea_9bca_4ceb428e4071row8_col1 {\n",
       "            background-color:  #4a98c9;\n",
       "            color:  #000000;\n",
       "        }    #T_e081ae19_91d2_11ea_9bca_4ceb428e4071row8_col2 {\n",
       "            background-color:  #c6dbef;\n",
       "            color:  #000000;\n",
       "        }    #T_e081ae19_91d2_11ea_9bca_4ceb428e4071row8_col3 {\n",
       "            background-color:  #08306b;\n",
       "            color:  #f1f1f1;\n",
       "        }    #T_e081ae19_91d2_11ea_9bca_4ceb428e4071row8_col4 {\n",
       "            background-color:  #f7fbff;\n",
       "            color:  #000000;\n",
       "        }    #T_e081ae19_91d2_11ea_9bca_4ceb428e4071row8_col5 {\n",
       "            background-color:  #f7fbff;\n",
       "            color:  #000000;\n",
       "        }    #T_e081ae19_91d2_11ea_9bca_4ceb428e4071row8_col6 {\n",
       "            background-color:  #4a98c9;\n",
       "            color:  #000000;\n",
       "        }    #T_e081ae19_91d2_11ea_9bca_4ceb428e4071row8_col7 {\n",
       "            background-color:  #f7fbff;\n",
       "            color:  #000000;\n",
       "        }    #T_e081ae19_91d2_11ea_9bca_4ceb428e4071row8_col8 {\n",
       "            background-color:  #f7fbff;\n",
       "            color:  #000000;\n",
       "        }    #T_e081ae19_91d2_11ea_9bca_4ceb428e4071row9_col1 {\n",
       "            background-color:  #d0e1f2;\n",
       "            color:  #000000;\n",
       "        }    #T_e081ae19_91d2_11ea_9bca_4ceb428e4071row9_col2 {\n",
       "            background-color:  #6aaed6;\n",
       "            color:  #000000;\n",
       "        }    #T_e081ae19_91d2_11ea_9bca_4ceb428e4071row9_col3 {\n",
       "            background-color:  #6aaed6;\n",
       "            color:  #000000;\n",
       "        }    #T_e081ae19_91d2_11ea_9bca_4ceb428e4071row9_col4 {\n",
       "            background-color:  #c6dbef;\n",
       "            color:  #000000;\n",
       "        }    #T_e081ae19_91d2_11ea_9bca_4ceb428e4071row9_col5 {\n",
       "            background-color:  #2070b4;\n",
       "            color:  #f1f1f1;\n",
       "        }    #T_e081ae19_91d2_11ea_9bca_4ceb428e4071row9_col6 {\n",
       "            background-color:  #d0e1f2;\n",
       "            color:  #000000;\n",
       "        }    #T_e081ae19_91d2_11ea_9bca_4ceb428e4071row9_col7 {\n",
       "            background-color:  #f7fbff;\n",
       "            color:  #000000;\n",
       "        }    #T_e081ae19_91d2_11ea_9bca_4ceb428e4071row9_col8 {\n",
       "            background-color:  #f7fbff;\n",
       "            color:  #000000;\n",
       "        }</style><table id=\"T_e081ae19_91d2_11ea_9bca_4ceb428e4071\" ><thead>    <tr>        <th class=\"col_heading level0 col0\" >Name</th>        <th class=\"col_heading level0 col1\" >Age</th>        <th class=\"col_heading level0 col2\" >Tck</th>        <th class=\"col_heading level0 col3\" >Agg</th>        <th class=\"col_heading level0 col4\" >Ant</th>        <th class=\"col_heading level0 col5\" >Bra</th>        <th class=\"col_heading level0 col6\" >Tea</th>        <th class=\"col_heading level0 col7\" >Wor</th>        <th class=\"col_heading level0 col8\" >bwm_score</th>    </tr></thead><tbody>\n",
       "                <tr>\n",
       "                                <td id=\"T_e081ae19_91d2_11ea_9bca_4ceb428e4071row0_col0\" class=\"data row0 col0\" >Daniel Piesio</td>\n",
       "                        <td id=\"T_e081ae19_91d2_11ea_9bca_4ceb428e4071row0_col1\" class=\"data row0 col1\" >                  18</td>\n",
       "                        <td id=\"T_e081ae19_91d2_11ea_9bca_4ceb428e4071row0_col2\" class=\"data row0 col2\" >12</td>\n",
       "                        <td id=\"T_e081ae19_91d2_11ea_9bca_4ceb428e4071row0_col3\" class=\"data row0 col3\" >18</td>\n",
       "                        <td id=\"T_e081ae19_91d2_11ea_9bca_4ceb428e4071row0_col4\" class=\"data row0 col4\" >13</td>\n",
       "                        <td id=\"T_e081ae19_91d2_11ea_9bca_4ceb428e4071row0_col5\" class=\"data row0 col5\" >16</td>\n",
       "                        <td id=\"T_e081ae19_91d2_11ea_9bca_4ceb428e4071row0_col6\" class=\"data row0 col6\" >19</td>\n",
       "                        <td id=\"T_e081ae19_91d2_11ea_9bca_4ceb428e4071row0_col7\" class=\"data row0 col7\" >16</td>\n",
       "                        <td id=\"T_e081ae19_91d2_11ea_9bca_4ceb428e4071row0_col8\" class=\"data row0 col8\" >94</td>\n",
       "            </tr>\n",
       "            <tr>\n",
       "                                <td id=\"T_e081ae19_91d2_11ea_9bca_4ceb428e4071row1_col0\" class=\"data row1 col0\" >Paul Mari</td>\n",
       "                        <td id=\"T_e081ae19_91d2_11ea_9bca_4ceb428e4071row1_col1\" class=\"data row1 col1\" >                  19</td>\n",
       "                        <td id=\"T_e081ae19_91d2_11ea_9bca_4ceb428e4071row1_col2\" class=\"data row1 col2\" >13</td>\n",
       "                        <td id=\"T_e081ae19_91d2_11ea_9bca_4ceb428e4071row1_col3\" class=\"data row1 col3\" >13</td>\n",
       "                        <td id=\"T_e081ae19_91d2_11ea_9bca_4ceb428e4071row1_col4\" class=\"data row1 col4\" >13</td>\n",
       "                        <td id=\"T_e081ae19_91d2_11ea_9bca_4ceb428e4071row1_col5\" class=\"data row1 col5\" >18</td>\n",
       "                        <td id=\"T_e081ae19_91d2_11ea_9bca_4ceb428e4071row1_col6\" class=\"data row1 col6\" >18</td>\n",
       "                        <td id=\"T_e081ae19_91d2_11ea_9bca_4ceb428e4071row1_col7\" class=\"data row1 col7\" >16</td>\n",
       "                        <td id=\"T_e081ae19_91d2_11ea_9bca_4ceb428e4071row1_col8\" class=\"data row1 col8\" >91</td>\n",
       "            </tr>\n",
       "            <tr>\n",
       "                                <td id=\"T_e081ae19_91d2_11ea_9bca_4ceb428e4071row2_col0\" class=\"data row2 col0\" >Piotr Wujec</td>\n",
       "                        <td id=\"T_e081ae19_91d2_11ea_9bca_4ceb428e4071row2_col1\" class=\"data row2 col1\" >                  22</td>\n",
       "                        <td id=\"T_e081ae19_91d2_11ea_9bca_4ceb428e4071row2_col2\" class=\"data row2 col2\" >14</td>\n",
       "                        <td id=\"T_e081ae19_91d2_11ea_9bca_4ceb428e4071row2_col3\" class=\"data row2 col3\" >13</td>\n",
       "                        <td id=\"T_e081ae19_91d2_11ea_9bca_4ceb428e4071row2_col4\" class=\"data row2 col4\" >11</td>\n",
       "                        <td id=\"T_e081ae19_91d2_11ea_9bca_4ceb428e4071row2_col5\" class=\"data row2 col5\" >16</td>\n",
       "                        <td id=\"T_e081ae19_91d2_11ea_9bca_4ceb428e4071row2_col6\" class=\"data row2 col6\" >16</td>\n",
       "                        <td id=\"T_e081ae19_91d2_11ea_9bca_4ceb428e4071row2_col7\" class=\"data row2 col7\" >14</td>\n",
       "                        <td id=\"T_e081ae19_91d2_11ea_9bca_4ceb428e4071row2_col8\" class=\"data row2 col8\" >84</td>\n",
       "            </tr>\n",
       "            <tr>\n",
       "                                <td id=\"T_e081ae19_91d2_11ea_9bca_4ceb428e4071row3_col0\" class=\"data row3 col0\" >Ivo Kralj</td>\n",
       "                        <td id=\"T_e081ae19_91d2_11ea_9bca_4ceb428e4071row3_col1\" class=\"data row3 col1\" >                  23</td>\n",
       "                        <td id=\"T_e081ae19_91d2_11ea_9bca_4ceb428e4071row3_col2\" class=\"data row3 col2\" >11</td>\n",
       "                        <td id=\"T_e081ae19_91d2_11ea_9bca_4ceb428e4071row3_col3\" class=\"data row3 col3\" >15</td>\n",
       "                        <td id=\"T_e081ae19_91d2_11ea_9bca_4ceb428e4071row3_col4\" class=\"data row3 col4\" >12</td>\n",
       "                        <td id=\"T_e081ae19_91d2_11ea_9bca_4ceb428e4071row3_col5\" class=\"data row3 col5\" >17</td>\n",
       "                        <td id=\"T_e081ae19_91d2_11ea_9bca_4ceb428e4071row3_col6\" class=\"data row3 col6\" >16</td>\n",
       "                        <td id=\"T_e081ae19_91d2_11ea_9bca_4ceb428e4071row3_col7\" class=\"data row3 col7\" >13</td>\n",
       "                        <td id=\"T_e081ae19_91d2_11ea_9bca_4ceb428e4071row3_col8\" class=\"data row3 col8\" >84</td>\n",
       "            </tr>\n",
       "            <tr>\n",
       "                                <td id=\"T_e081ae19_91d2_11ea_9bca_4ceb428e4071row4_col0\" class=\"data row4 col0\" >Elvis Novalic</td>\n",
       "                        <td id=\"T_e081ae19_91d2_11ea_9bca_4ceb428e4071row4_col1\" class=\"data row4 col1\" >                  23</td>\n",
       "                        <td id=\"T_e081ae19_91d2_11ea_9bca_4ceb428e4071row4_col2\" class=\"data row4 col2\" >11</td>\n",
       "                        <td id=\"T_e081ae19_91d2_11ea_9bca_4ceb428e4071row4_col3\" class=\"data row4 col3\" >10</td>\n",
       "                        <td id=\"T_e081ae19_91d2_11ea_9bca_4ceb428e4071row4_col4\" class=\"data row4 col4\" >10</td>\n",
       "                        <td id=\"T_e081ae19_91d2_11ea_9bca_4ceb428e4071row4_col5\" class=\"data row4 col5\" >20</td>\n",
       "                        <td id=\"T_e081ae19_91d2_11ea_9bca_4ceb428e4071row4_col6\" class=\"data row4 col6\" >18</td>\n",
       "                        <td id=\"T_e081ae19_91d2_11ea_9bca_4ceb428e4071row4_col7\" class=\"data row4 col7\" >15</td>\n",
       "                        <td id=\"T_e081ae19_91d2_11ea_9bca_4ceb428e4071row4_col8\" class=\"data row4 col8\" >84</td>\n",
       "            </tr>\n",
       "            <tr>\n",
       "                                <td id=\"T_e081ae19_91d2_11ea_9bca_4ceb428e4071row5_col0\" class=\"data row5 col0\" >Oskar Repka</td>\n",
       "                        <td id=\"T_e081ae19_91d2_11ea_9bca_4ceb428e4071row5_col1\" class=\"data row5 col1\" >                  23</td>\n",
       "                        <td id=\"T_e081ae19_91d2_11ea_9bca_4ceb428e4071row5_col2\" class=\"data row5 col2\" >15</td>\n",
       "                        <td id=\"T_e081ae19_91d2_11ea_9bca_4ceb428e4071row5_col3\" class=\"data row5 col3\" >11</td>\n",
       "                        <td id=\"T_e081ae19_91d2_11ea_9bca_4ceb428e4071row5_col4\" class=\"data row5 col4\" >11</td>\n",
       "                        <td id=\"T_e081ae19_91d2_11ea_9bca_4ceb428e4071row5_col5\" class=\"data row5 col5\" >18</td>\n",
       "                        <td id=\"T_e081ae19_91d2_11ea_9bca_4ceb428e4071row5_col6\" class=\"data row5 col6\" >15</td>\n",
       "                        <td id=\"T_e081ae19_91d2_11ea_9bca_4ceb428e4071row5_col7\" class=\"data row5 col7\" >13</td>\n",
       "                        <td id=\"T_e081ae19_91d2_11ea_9bca_4ceb428e4071row5_col8\" class=\"data row5 col8\" >83</td>\n",
       "            </tr>\n",
       "            <tr>\n",
       "                                <td id=\"T_e081ae19_91d2_11ea_9bca_4ceb428e4071row6_col0\" class=\"data row6 col0\" >Marino Jedvaj</td>\n",
       "                        <td id=\"T_e081ae19_91d2_11ea_9bca_4ceb428e4071row6_col1\" class=\"data row6 col1\" >                  23</td>\n",
       "                        <td id=\"T_e081ae19_91d2_11ea_9bca_4ceb428e4071row6_col2\" class=\"data row6 col2\" >11</td>\n",
       "                        <td id=\"T_e081ae19_91d2_11ea_9bca_4ceb428e4071row6_col3\" class=\"data row6 col3\" >14</td>\n",
       "                        <td id=\"T_e081ae19_91d2_11ea_9bca_4ceb428e4071row6_col4\" class=\"data row6 col4\" >8</td>\n",
       "                        <td id=\"T_e081ae19_91d2_11ea_9bca_4ceb428e4071row6_col5\" class=\"data row6 col5\" >18</td>\n",
       "                        <td id=\"T_e081ae19_91d2_11ea_9bca_4ceb428e4071row6_col6\" class=\"data row6 col6\" >18</td>\n",
       "                        <td id=\"T_e081ae19_91d2_11ea_9bca_4ceb428e4071row6_col7\" class=\"data row6 col7\" >13</td>\n",
       "                        <td id=\"T_e081ae19_91d2_11ea_9bca_4ceb428e4071row6_col8\" class=\"data row6 col8\" >82</td>\n",
       "            </tr>\n",
       "            <tr>\n",
       "                                <td id=\"T_e081ae19_91d2_11ea_9bca_4ceb428e4071row7_col0\" class=\"data row7 col0\" >Jakub Swiecinski</td>\n",
       "                        <td id=\"T_e081ae19_91d2_11ea_9bca_4ceb428e4071row7_col1\" class=\"data row7 col1\" >                  21</td>\n",
       "                        <td id=\"T_e081ae19_91d2_11ea_9bca_4ceb428e4071row7_col2\" class=\"data row7 col2\" >12</td>\n",
       "                        <td id=\"T_e081ae19_91d2_11ea_9bca_4ceb428e4071row7_col3\" class=\"data row7 col3\" >13</td>\n",
       "                        <td id=\"T_e081ae19_91d2_11ea_9bca_4ceb428e4071row7_col4\" class=\"data row7 col4\" >9</td>\n",
       "                        <td id=\"T_e081ae19_91d2_11ea_9bca_4ceb428e4071row7_col5\" class=\"data row7 col5\" >17</td>\n",
       "                        <td id=\"T_e081ae19_91d2_11ea_9bca_4ceb428e4071row7_col6\" class=\"data row7 col6\" >14</td>\n",
       "                        <td id=\"T_e081ae19_91d2_11ea_9bca_4ceb428e4071row7_col7\" class=\"data row7 col7\" >17</td>\n",
       "                        <td id=\"T_e081ae19_91d2_11ea_9bca_4ceb428e4071row7_col8\" class=\"data row7 col8\" >82</td>\n",
       "            </tr>\n",
       "            <tr>\n",
       "                                <td id=\"T_e081ae19_91d2_11ea_9bca_4ceb428e4071row8_col0\" class=\"data row8 col0\" >Mikolaj Labojko</td>\n",
       "                        <td id=\"T_e081ae19_91d2_11ea_9bca_4ceb428e4071row8_col1\" class=\"data row8 col1\" >                  21</td>\n",
       "                        <td id=\"T_e081ae19_91d2_11ea_9bca_4ceb428e4071row8_col2\" class=\"data row8 col2\" >12</td>\n",
       "                        <td id=\"T_e081ae19_91d2_11ea_9bca_4ceb428e4071row8_col3\" class=\"data row8 col3\" >18</td>\n",
       "                        <td id=\"T_e081ae19_91d2_11ea_9bca_4ceb428e4071row8_col4\" class=\"data row8 col4\" >5</td>\n",
       "                        <td id=\"T_e081ae19_91d2_11ea_9bca_4ceb428e4071row8_col5\" class=\"data row8 col5\" >16</td>\n",
       "                        <td id=\"T_e081ae19_91d2_11ea_9bca_4ceb428e4071row8_col6\" class=\"data row8 col6\" >17</td>\n",
       "                        <td id=\"T_e081ae19_91d2_11ea_9bca_4ceb428e4071row8_col7\" class=\"data row8 col7\" >12</td>\n",
       "                        <td id=\"T_e081ae19_91d2_11ea_9bca_4ceb428e4071row8_col8\" class=\"data row8 col8\" >80</td>\n",
       "            </tr>\n",
       "            <tr>\n",
       "                                <td id=\"T_e081ae19_91d2_11ea_9bca_4ceb428e4071row9_col0\" class=\"data row9 col0\" >Jakub Kisiel</td>\n",
       "                        <td id=\"T_e081ae19_91d2_11ea_9bca_4ceb428e4071row9_col1\" class=\"data row9 col1\" >                  19</td>\n",
       "                        <td id=\"T_e081ae19_91d2_11ea_9bca_4ceb428e4071row9_col2\" class=\"data row9 col2\" >13</td>\n",
       "                        <td id=\"T_e081ae19_91d2_11ea_9bca_4ceb428e4071row9_col3\" class=\"data row9 col3\" >14</td>\n",
       "                        <td id=\"T_e081ae19_91d2_11ea_9bca_4ceb428e4071row9_col4\" class=\"data row9 col4\" >7</td>\n",
       "                        <td id=\"T_e081ae19_91d2_11ea_9bca_4ceb428e4071row9_col5\" class=\"data row9 col5\" >19</td>\n",
       "                        <td id=\"T_e081ae19_91d2_11ea_9bca_4ceb428e4071row9_col6\" class=\"data row9 col6\" >15</td>\n",
       "                        <td id=\"T_e081ae19_91d2_11ea_9bca_4ceb428e4071row9_col7\" class=\"data row9 col7\" >12</td>\n",
       "                        <td id=\"T_e081ae19_91d2_11ea_9bca_4ceb428e4071row9_col8\" class=\"data row9 col8\" >80</td>\n",
       "            </tr>\n",
       "    </tbody></table>"
      ],
      "text/plain": [
       "<pandas.io.formats.style.Styler at 0xcd30358>"
      ]
     },
     "execution_count": 16,
     "metadata": {},
     "output_type": "execute_result"
    }
   ],
   "source": [
    "print(\"Ball Winning Midfielder\")\n",
    "sorted_bwm = bwm.sort_values(by='bwm_score', ascending=False)\n",
    "sorted_bwm.head(10).style.format({\"Age\": \"{:20,.0f}\", \n",
    "                          })\\\n",
    "                       .hide_index()\\\n",
    "                       .background_gradient(cmap='Blues')"
   ]
  },
  {
   "cell_type": "code",
   "execution_count": 17,
   "metadata": {},
   "outputs": [
    {
     "data": {
      "application/vnd.plotly.v1+json": {
       "config": {
        "linkText": "Export to plot.ly",
        "plotlyServerURL": "https://plot.ly",
        "showLink": true
       },
       "data": [
        {
         "line": {
          "color": "rgba(255, 153, 51, 1.0)",
          "dash": "solid",
          "shape": "linear",
          "width": 1.3
         },
         "marker": {
          "size": 10,
          "symbol": "circle"
         },
         "mode": "markers",
         "name": "Int/90",
         "text": [
          "Djibril DiakitÃ©",
          "JoÃ£o Tavares",
          "Matej Hudecek",
          "Adrian Rybak",
          "Oskar Repka",
          "Maciej Obodecki",
          "Ivo Kralj",
          "Bartosz Sobczyk",
          "Ivan Tomac",
          "Nikola Bogdanovski",
          "Stefan Velickovic",
          "Andrija Zakoc",
          "AurÃ©lien Nguiamba",
          "Flynn Downes",
          "Nikola Puzic",
          "Andjelo Kacavenda",
          "Tymoteusz Puchacz",
          "Felix Brunmayr",
          "Lennart Grill",
          "Josip Rakic",
          "Stefan Randjelovic",
          "Radoslaw Dzierbicki",
          "Alexandar Ubavic",
          "Veljko Jovkovic",
          "Mariano GÃ³mez",
          "David Bumberger",
          "Enrico Huss",
          "Mateo Jaksic",
          "Konrad Jozwicki",
          "Nikita Marusenko",
          "Djordje Jovanovic",
          "Filip Lisnic",
          "Dawid Szalas",
          "Vladimir Ilic",
          "Marcin Mackowiak",
          "Florin Codrean",
          "David Otto",
          "Stefan Golubovic",
          "Keanan Bennetts",
          "Andrej Vukas",
          "Jannik Tepe",
          "Mladen Devetak",
          "Tom Baack",
          "Jan Sobocinski",
          "TomÃ¡s Blanco",
          "Sinan Karweina",
          "Ben Williams",
          "Arkadiusz Zajaczkowski",
          "Miguel Reisinho",
          "Filp Ceko",
          "Michel StÃ¶cker",
          "JÃ©rÃ´me Deom",
          "Ranko Jokic",
          "Palko DÃ¡rdai",
          "Aleksander Tomasz",
          "Alex Vigo",
          "Daniel Bielica",
          "Marko Djira",
          "Norbert Walczak",
          "Boris Moltenis",
          "Julius Kade",
          "Goran Buljandric",
          "Jannis KÃ¼bler",
          "Aleksa Jovanovic",
          "Tomasz Owczarek",
          "David Wittkowski",
          "Konrad Zaklika",
          "Pawel Karbowinski",
          "Nicky Werner",
          "Julijan Popovic",
          "Nassim Boujellab",
          "Bartlomiej Gajda",
          "Nemanja Matijevic",
          "Marko Denic",
          "Robert Baar",
          "Tuta",
          "Dusan Jokovic",
          "Tomasz Dzida",
          "Aleksa Pejic",
          "Krsta Bojic",
          "Sikou NiakatÃ©",
          "Tomasz Makowski",
          "Sebastian Gwozdz",
          "Adrian Polanski",
          "Bryan Mbeumo",
          "Dorin Sirbu",
          "Elvis Novalic",
          "MickaÃ«l Cuisance",
          "Mateusz Madzia",
          "JesÃºs Vargas",
          "Marino Jedvaj",
          "Raphael Assibey-Mensah",
          "Lukasz Sztylka",
          "Zoran Zrnzevic",
          "Alex Krawiec",
          "Petar Melezovic",
          "Tomasz Kurek",
          "Danko Radic",
          "Paul Mensah",
          "Jordan Williams",
          "Mario Mustapic",
          "Nikola Trickovic",
          "Patrik Delic",
          "Maciej Famulak",
          "Wiktor Nahrebecki",
          "Barne Poggenberg",
          "Mirza Jasarevic",
          "Ratko Minic",
          "Semih Åahin",
          "Matej Santek",
          "Georgios Siadas",
          "Tyrese Campbell",
          "Martin Krizmanic",
          "Kacper Laskos",
          "Aleksa Milojevic",
          "Cheick DoucourÃ©",
          "Ivan Jakovljev",
          "Przemyslaw Zdybowicz",
          "Sven Botman",
          "Malik Karaahmet",
          "Lukas KrÃ¼ger",
          "Niclas Stierlin",
          "Mane Markovic",
          "Karol Czubak",
          "Ilija Dejanovic",
          "Pascal Hackethal",
          "Oleg Gorin",
          "Michal Zieba",
          "Miodrag Maljkovic",
          "Jakov Blagaic",
          "Harisson Marcelin",
          "Vice Bazdaric",
          "Daniel Liszka",
          "Jan Sieracki",
          "Jhonny Lucas",
          "Tymoteusz Klups",
          "Josip Sutalo",
          "Othman Boussaid",
          "Evert Linthorst",
          "Jusuf Gazibegovic",
          "Virgiliu Postolachi",
          "Luis GÃ¶rlich",
          "Andrej Ilic",
          "Daniel Haritonov",
          "Patryk Drabik",
          "Tom Dobek-Pietrowski",
          "Michal Mydlarz",
          "Cho Jeong-Hui",
          "Mohamed Loua",
          "Nemanja Zikic",
          "Emir Sejdovic",
          "Samuel Lengle",
          "Mateusz Duchowski",
          "Iliya Gruev",
          "Bartosz Borun",
          "Juraj Ljubic",
          "GonÃ§alo Rebelo",
          "Dominik Resetar",
          "Jurica Prsir",
          "Piotr Wujec",
          "Jan Majsterek",
          "Mitchel Bakker",
          "Kamil Piatkowski",
          "Michal Ozga",
          "Karol Turek",
          "Toni Karimovic",
          "Billy Crellin",
          "Konrad Sieracki",
          "Vando Luis",
          "Jan Los",
          "Jessic Ngankam",
          "Adam Borkowski",
          "Julian Rieckmann",
          "Luka Pavlak",
          "Robert Ion",
          "Linus RosenlÃ¶cher",
          "Eugen Telch",
          "Nicholas Wunsch",
          "Dawid Kisly",
          "Uros Miloradovic",
          "Alois Oroz",
          "Luca Bazzoli",
          "Ronan Darcy",
          "Yann-Aurel Bisseck",
          "Timo Bornemann",
          "Radivoj Bosic",
          "Jakov Katusa",
          "Kacper Jozefiak",
          "Szymon Mroczko",
          "Karol Struski",
          "Wojciech Kaminski",
          "Piotr Lisowski",
          "Daishawn Redan",
          "Kacper Smolinski",
          "Lukas SchÃ¶fl",
          "Mikolaj Labojko",
          "Jakub Karbownik",
          "Damir Magdic",
          "Karol Malec",
          "Patryk Wozniak",
          "Can Bozdogan",
          "Aleksander Paluszek",
          "Mario Cuic",
          "Dragoljub Savic",
          "Nathan Collins",
          "Dominik Pila",
          "Mihael Kupresak",
          "Manu KonÃ©",
          "Niels Hahn",
          "Tin Hrvoj",
          "Lucas Da Cunha",
          "Rahim Ibrahim",
          "Renato Josipovic",
          "Han-Noah Massengo",
          "Kacper Wiatrak",
          "Bartosz Kuzniarski",
          "Adrian Petk",
          "Fabian Tauchhammer",
          "Bartlomiej Mruk",
          "Jakub Rudek",
          "Jakub Swiecinski",
          "Jakub Nowakowski",
          "Kamil Dabrowski",
          "Yuri Sprandel Flores",
          "Stefan Radmanovac",
          "Kamal Bafounta",
          "Filip Marchwinski",
          "Kamil Lukoszek",
          "Jakub Niewiadomski",
          "Dominik Kedzior",
          "Joe Gelhardt",
          "Filip Sobiecki",
          "Fran Tomek",
          "Hubert Wasiewski",
          "Djordje Vasic",
          "Jakub Zima",
          "Damian Makuch",
          "Andrzej Kloda",
          "Stipe Biuk",
          "Mateusz Pienczak",
          "FIlip Brekalo",
          "Stefan Despotovski",
          "Jakub Kisiel",
          "Duje Skugor",
          "Martin Baturina",
          "Radoslaw Cielemecki",
          "Ariel Mosor",
          "Nikola Petkovic",
          "Nikodem Sujecki",
          "Ivan Mandic",
          "Stanislaw Loch",
          "Dario Grgic",
          "Wojciech Szybka",
          "Kacper Szmidt",
          "Vukasin Krstic",
          "Obrendo Doesburg",
          "Casper Elderman",
          "Predrag Jovic",
          "Daniel Hoyo-Kowalski",
          "Darijo Basic",
          "Wiktor Mosur",
          "Uros Mirkovic",
          "Marcos RodrÃ­guez",
          "Adrian Å¢apu",
          "Paul Mari",
          "Pawel Muzylowski",
          "Dragan Radovic",
          "Szymon Kobeszko",
          "Marcin Dabrowski",
          "Jorge Delgado",
          "Daniel Piesio",
          null
         ],
         "type": "scatter",
         "x": [
          "2.20",
          "1.29",
          "3.31",
          "4.07",
          "7.23",
          "0.94",
          "3.92",
          "2.78",
          "4.20",
          "1.36",
          "5.13",
          "3.37",
          "4.53",
          "3.98",
          "4.81",
          "6.54",
          "0.98",
          "2.26",
          "-",
          "3.88",
          "0.00",
          "1.25",
          "2.13",
          "0.29",
          "3.00",
          "4.14",
          "2.16",
          "4.02",
          "3.46",
          "2.94",
          "0.00",
          "3.44",
          "0.93",
          "3.48",
          "4.30",
          "2.17",
          "0.17",
          "3.90",
          "2.19",
          "-",
          "0.32",
          "3.84",
          "1.56",
          "4.15",
          "0.62",
          "0.32",
          "3.85",
          "3.67",
          "2.96",
          "4.00",
          "4.08",
          "0.50",
          "3.44",
          "1.13",
          "2.00",
          "2.46",
          "-",
          "3.89",
          "1.00",
          "3.44",
          "0.85",
          "-",
          "3.63",
          "3.96",
          "5.16",
          "3.92",
          "3.34",
          "3.84",
          "0.48",
          "3.27",
          "3.34",
          "6.00",
          "0.28",
          "1.90",
          "3.47",
          "1.79",
          "4.46",
          "1.53",
          "5.92",
          "1.16",
          "3.76",
          "3.86",
          "2.01",
          "4.36",
          "0.60",
          "1.02",
          "3.95",
          "2.55",
          "5.09",
          "1.61",
          "1.68",
          "1.13",
          "4.13",
          "1.74",
          "0.75",
          "2.10",
          "0.43",
          "0.20",
          "0.13",
          "2.91",
          "0.00",
          "2.98",
          "1.00",
          "2.72",
          "3.98",
          "3.84",
          "0.42",
          "0.44",
          "1.30",
          "3.33",
          "3.28",
          "0.06",
          "3.21",
          "3.49",
          "-",
          "3.27",
          "1.61",
          "0.46",
          "4.03",
          "1.14",
          "0.84",
          "3.94",
          "0.00",
          "0.84",
          "1.26",
          "3.26",
          "3.89",
          "4.01",
          "0.44",
          "0.50",
          "2.37",
          "0.00",
          "3.02",
          "4.07",
          "3.84",
          "0.94",
          "4.07",
          "0.93",
          "2.59",
          "3.65",
          "1.00",
          "4.08",
          "0.74",
          "4.64",
          "0.82",
          "2.17",
          "3.42",
          "2.05",
          "4.74",
          "2.09",
          "2.30",
          "4.61",
          "0.56",
          "4.17",
          "2.66",
          "2.01",
          "1.33",
          "0.58",
          "2.19",
          "4.89",
          "3.94",
          "3.65",
          "3.81",
          "6.15",
          "2.70",
          "1.31",
          "-",
          "3.21",
          "1.92",
          "0.53",
          "1.05",
          "1.76",
          "4.49",
          "1.60",
          "0.42",
          "3.64",
          "1.63",
          "0.69",
          "5.21",
          "3.09",
          "2.55",
          "1.91",
          "1.23",
          "4.04",
          "0.18",
          "1.58",
          "1.10",
          "4.15",
          "3.51",
          "2.55",
          "5.17",
          "3.18",
          "0.49",
          "3.88",
          "2.06",
          "2.21",
          "1.06",
          "2.85",
          "3.72",
          "2.51",
          "2.38",
          "3.49",
          "4.61",
          "0.68",
          "3.42",
          "1.78",
          "0.28",
          "0.94",
          "2.00",
          "3.72",
          "1.41",
          "2.10",
          "0.00",
          "3.73",
          "1.68",
          "0.55",
          "3.97",
          "1.57",
          "4.28",
          "2.91",
          "4.07",
          "2.07",
          "1.51",
          "3.41",
          "3.20",
          "4.48",
          "0.28",
          "0.55",
          "4.01",
          "0.96",
          "1.27",
          "0.68",
          "4.36",
          "-",
          "1.51",
          "4.08",
          "3.94",
          "4.24",
          "1.04",
          "3.78",
          "3.17",
          "3.60",
          "5.18",
          "0.69",
          "2.14",
          "2.09",
          "4.00",
          "3.53",
          "-",
          "-",
          "1.22",
          "2.58",
          "3.92",
          "0.96",
          "4.58",
          "1.83",
          "4.52",
          "1.96",
          "3.77",
          "2.93",
          "1.07",
          "1.47",
          "4.02",
          "1.99",
          "3.83",
          "1.79",
          "1.02",
          "4.34",
          "4.27",
          "2.32",
          "2.48",
          null
         ],
         "y": [
          "0.07",
          "-",
          "2.47",
          "2.55",
          "3.02",
          "-",
          "4.56",
          "1.13",
          "3.32",
          "2.92",
          "2.30",
          "1.15",
          "2.63",
          "2.46",
          "3.40",
          "3.12",
          "3.17",
          "0.88",
          "-",
          "3.35",
          "-",
          "0.79",
          "-",
          "1.61",
          "1.72",
          "4.08",
          "1.83",
          "2.30",
          "1.50",
          "2.08",
          "1.39",
          "3.22",
          "1.21",
          "1.24",
          "2.77",
          "-",
          "1.19",
          "1.15",
          "1.18",
          "0.93",
          "1.24",
          "2.86",
          "2.78",
          "3.29",
          "0.85",
          "1.21",
          "3.08",
          "3.89",
          "1.59",
          "2.94",
          "3.82",
          "0.36",
          "2.67",
          "1.41",
          "-",
          "1.49",
          "-",
          "1.65",
          "-",
          "2.94",
          "1.10",
          "-",
          "3.70",
          "2.82",
          "1.62",
          "3.67",
          "2.35",
          "1.00",
          "0.92",
          "2.85",
          "1.56",
          "4.17",
          "0.80",
          "-",
          "1.32",
          "3.06",
          "2.66",
          "0.93",
          "2.47",
          "1.41",
          "4.28",
          "3.39",
          "-",
          "4.07",
          "0.98",
          "-",
          "2.57",
          "1.25",
          "3.88",
          "1.99",
          "-",
          "-",
          "1.49",
          "-",
          "1.10",
          "-",
          "0.92",
          "1.29",
          "0.96",
          "2.44",
          "-",
          "1.20",
          "-",
          "0.85",
          "3.53",
          "2.91",
          "0.84",
          "0.77",
          "2.90",
          "4.32",
          "3.67",
          "1.00",
          "2.58",
          "2.42",
          "-",
          "3.00",
          "-",
          "0.79",
          "2.76",
          "-",
          "1.49",
          "2.43",
          "-",
          "0.70",
          "-",
          "2.72",
          "2.65",
          "2.57",
          "0.88",
          "1.69",
          "0.38",
          "-",
          "1.95",
          "2.15",
          "3.53",
          "0.86",
          "3.43",
          "-",
          "0.91",
          "1.80",
          "-",
          "2.15",
          "1.03",
          "3.23",
          "0.67",
          "2.24",
          "3.21",
          "0.09",
          "3.74",
          "-",
          "2.04",
          "3.45",
          "1.19",
          "3.07",
          "1.33",
          "1.61",
          "0.17",
          "0.92",
          "2.10",
          "3.89",
          "2.05",
          "1.94",
          "3.59",
          "1.25",
          "3.60",
          "1.90",
          "-",
          "1.33",
          "0.21",
          "1.25",
          "1.18",
          "0.92",
          "4.07",
          "2.50",
          "2.16",
          "2.33",
          "-",
          "1.01",
          "1.70",
          "2.48",
          "3.61",
          "1.13",
          "0.47",
          "3.15",
          "0.96",
          "1.84",
          "0.97",
          "3.57",
          "1.76",
          "1.56",
          "3.84",
          "3.73",
          "1.86",
          "3.20",
          "-",
          "-",
          "0.73",
          "2.31",
          "0.93",
          "2.04",
          "2.25",
          "3.57",
          "5.09",
          "-",
          "2.76",
          "0.80",
          "1.53",
          "-",
          "-",
          "2.27",
          "-",
          "-",
          "-",
          "2.94",
          "-",
          "1.23",
          "3.73",
          "-",
          "4.61",
          "2.73",
          "2.92",
          "-",
          "0.87",
          "2.01",
          "1.33",
          "5.14",
          "1.29",
          "1.09",
          "1.91",
          "0.96",
          "0.19",
          "1.37",
          "3.21",
          "-",
          "0.80",
          "2.90",
          "4.38",
          "3.21",
          "0.99",
          "2.62",
          "3.02",
          "4.47",
          "1.65",
          "0.77",
          "0.85",
          "2.28",
          "4.00",
          "3.42",
          "-",
          "-",
          "1.06",
          "1.48",
          "4.07",
          "0.96",
          "4.23",
          "-",
          "3.21",
          "1.46",
          "3.61",
          "2.01",
          "1.07",
          "0.96",
          "1.37",
          "1.36",
          "3.14",
          "1.00",
          "1.76",
          "2.69",
          "1.72",
          "0.80",
          "3.25",
          ""
         ]
        }
       ],
       "layout": {
        "legend": {
         "bgcolor": "#F5F6F9",
         "font": {
          "color": "#4D5663"
         }
        },
        "paper_bgcolor": "#F5F6F9",
        "plot_bgcolor": "#F5F6F9",
        "template": {
         "data": {
          "bar": [
           {
            "error_x": {
             "color": "#2a3f5f"
            },
            "error_y": {
             "color": "#2a3f5f"
            },
            "marker": {
             "line": {
              "color": "#E5ECF6",
              "width": 0.5
             }
            },
            "type": "bar"
           }
          ],
          "barpolar": [
           {
            "marker": {
             "line": {
              "color": "#E5ECF6",
              "width": 0.5
             }
            },
            "type": "barpolar"
           }
          ],
          "carpet": [
           {
            "aaxis": {
             "endlinecolor": "#2a3f5f",
             "gridcolor": "white",
             "linecolor": "white",
             "minorgridcolor": "white",
             "startlinecolor": "#2a3f5f"
            },
            "baxis": {
             "endlinecolor": "#2a3f5f",
             "gridcolor": "white",
             "linecolor": "white",
             "minorgridcolor": "white",
             "startlinecolor": "#2a3f5f"
            },
            "type": "carpet"
           }
          ],
          "choropleth": [
           {
            "colorbar": {
             "outlinewidth": 0,
             "ticks": ""
            },
            "type": "choropleth"
           }
          ],
          "contour": [
           {
            "colorbar": {
             "outlinewidth": 0,
             "ticks": ""
            },
            "colorscale": [
             [
              0,
              "#0d0887"
             ],
             [
              0.1111111111111111,
              "#46039f"
             ],
             [
              0.2222222222222222,
              "#7201a8"
             ],
             [
              0.3333333333333333,
              "#9c179e"
             ],
             [
              0.4444444444444444,
              "#bd3786"
             ],
             [
              0.5555555555555556,
              "#d8576b"
             ],
             [
              0.6666666666666666,
              "#ed7953"
             ],
             [
              0.7777777777777778,
              "#fb9f3a"
             ],
             [
              0.8888888888888888,
              "#fdca26"
             ],
             [
              1,
              "#f0f921"
             ]
            ],
            "type": "contour"
           }
          ],
          "contourcarpet": [
           {
            "colorbar": {
             "outlinewidth": 0,
             "ticks": ""
            },
            "type": "contourcarpet"
           }
          ],
          "heatmap": [
           {
            "colorbar": {
             "outlinewidth": 0,
             "ticks": ""
            },
            "colorscale": [
             [
              0,
              "#0d0887"
             ],
             [
              0.1111111111111111,
              "#46039f"
             ],
             [
              0.2222222222222222,
              "#7201a8"
             ],
             [
              0.3333333333333333,
              "#9c179e"
             ],
             [
              0.4444444444444444,
              "#bd3786"
             ],
             [
              0.5555555555555556,
              "#d8576b"
             ],
             [
              0.6666666666666666,
              "#ed7953"
             ],
             [
              0.7777777777777778,
              "#fb9f3a"
             ],
             [
              0.8888888888888888,
              "#fdca26"
             ],
             [
              1,
              "#f0f921"
             ]
            ],
            "type": "heatmap"
           }
          ],
          "heatmapgl": [
           {
            "colorbar": {
             "outlinewidth": 0,
             "ticks": ""
            },
            "colorscale": [
             [
              0,
              "#0d0887"
             ],
             [
              0.1111111111111111,
              "#46039f"
             ],
             [
              0.2222222222222222,
              "#7201a8"
             ],
             [
              0.3333333333333333,
              "#9c179e"
             ],
             [
              0.4444444444444444,
              "#bd3786"
             ],
             [
              0.5555555555555556,
              "#d8576b"
             ],
             [
              0.6666666666666666,
              "#ed7953"
             ],
             [
              0.7777777777777778,
              "#fb9f3a"
             ],
             [
              0.8888888888888888,
              "#fdca26"
             ],
             [
              1,
              "#f0f921"
             ]
            ],
            "type": "heatmapgl"
           }
          ],
          "histogram": [
           {
            "marker": {
             "colorbar": {
              "outlinewidth": 0,
              "ticks": ""
             }
            },
            "type": "histogram"
           }
          ],
          "histogram2d": [
           {
            "colorbar": {
             "outlinewidth": 0,
             "ticks": ""
            },
            "colorscale": [
             [
              0,
              "#0d0887"
             ],
             [
              0.1111111111111111,
              "#46039f"
             ],
             [
              0.2222222222222222,
              "#7201a8"
             ],
             [
              0.3333333333333333,
              "#9c179e"
             ],
             [
              0.4444444444444444,
              "#bd3786"
             ],
             [
              0.5555555555555556,
              "#d8576b"
             ],
             [
              0.6666666666666666,
              "#ed7953"
             ],
             [
              0.7777777777777778,
              "#fb9f3a"
             ],
             [
              0.8888888888888888,
              "#fdca26"
             ],
             [
              1,
              "#f0f921"
             ]
            ],
            "type": "histogram2d"
           }
          ],
          "histogram2dcontour": [
           {
            "colorbar": {
             "outlinewidth": 0,
             "ticks": ""
            },
            "colorscale": [
             [
              0,
              "#0d0887"
             ],
             [
              0.1111111111111111,
              "#46039f"
             ],
             [
              0.2222222222222222,
              "#7201a8"
             ],
             [
              0.3333333333333333,
              "#9c179e"
             ],
             [
              0.4444444444444444,
              "#bd3786"
             ],
             [
              0.5555555555555556,
              "#d8576b"
             ],
             [
              0.6666666666666666,
              "#ed7953"
             ],
             [
              0.7777777777777778,
              "#fb9f3a"
             ],
             [
              0.8888888888888888,
              "#fdca26"
             ],
             [
              1,
              "#f0f921"
             ]
            ],
            "type": "histogram2dcontour"
           }
          ],
          "mesh3d": [
           {
            "colorbar": {
             "outlinewidth": 0,
             "ticks": ""
            },
            "type": "mesh3d"
           }
          ],
          "parcoords": [
           {
            "line": {
             "colorbar": {
              "outlinewidth": 0,
              "ticks": ""
             }
            },
            "type": "parcoords"
           }
          ],
          "pie": [
           {
            "automargin": true,
            "type": "pie"
           }
          ],
          "scatter": [
           {
            "marker": {
             "colorbar": {
              "outlinewidth": 0,
              "ticks": ""
             }
            },
            "type": "scatter"
           }
          ],
          "scatter3d": [
           {
            "line": {
             "colorbar": {
              "outlinewidth": 0,
              "ticks": ""
             }
            },
            "marker": {
             "colorbar": {
              "outlinewidth": 0,
              "ticks": ""
             }
            },
            "type": "scatter3d"
           }
          ],
          "scattercarpet": [
           {
            "marker": {
             "colorbar": {
              "outlinewidth": 0,
              "ticks": ""
             }
            },
            "type": "scattercarpet"
           }
          ],
          "scattergeo": [
           {
            "marker": {
             "colorbar": {
              "outlinewidth": 0,
              "ticks": ""
             }
            },
            "type": "scattergeo"
           }
          ],
          "scattergl": [
           {
            "marker": {
             "colorbar": {
              "outlinewidth": 0,
              "ticks": ""
             }
            },
            "type": "scattergl"
           }
          ],
          "scattermapbox": [
           {
            "marker": {
             "colorbar": {
              "outlinewidth": 0,
              "ticks": ""
             }
            },
            "type": "scattermapbox"
           }
          ],
          "scatterpolar": [
           {
            "marker": {
             "colorbar": {
              "outlinewidth": 0,
              "ticks": ""
             }
            },
            "type": "scatterpolar"
           }
          ],
          "scatterpolargl": [
           {
            "marker": {
             "colorbar": {
              "outlinewidth": 0,
              "ticks": ""
             }
            },
            "type": "scatterpolargl"
           }
          ],
          "scatterternary": [
           {
            "marker": {
             "colorbar": {
              "outlinewidth": 0,
              "ticks": ""
             }
            },
            "type": "scatterternary"
           }
          ],
          "surface": [
           {
            "colorbar": {
             "outlinewidth": 0,
             "ticks": ""
            },
            "colorscale": [
             [
              0,
              "#0d0887"
             ],
             [
              0.1111111111111111,
              "#46039f"
             ],
             [
              0.2222222222222222,
              "#7201a8"
             ],
             [
              0.3333333333333333,
              "#9c179e"
             ],
             [
              0.4444444444444444,
              "#bd3786"
             ],
             [
              0.5555555555555556,
              "#d8576b"
             ],
             [
              0.6666666666666666,
              "#ed7953"
             ],
             [
              0.7777777777777778,
              "#fb9f3a"
             ],
             [
              0.8888888888888888,
              "#fdca26"
             ],
             [
              1,
              "#f0f921"
             ]
            ],
            "type": "surface"
           }
          ],
          "table": [
           {
            "cells": {
             "fill": {
              "color": "#EBF0F8"
             },
             "line": {
              "color": "white"
             }
            },
            "header": {
             "fill": {
              "color": "#C8D4E3"
             },
             "line": {
              "color": "white"
             }
            },
            "type": "table"
           }
          ]
         },
         "layout": {
          "annotationdefaults": {
           "arrowcolor": "#2a3f5f",
           "arrowhead": 0,
           "arrowwidth": 1
          },
          "coloraxis": {
           "colorbar": {
            "outlinewidth": 0,
            "ticks": ""
           }
          },
          "colorscale": {
           "diverging": [
            [
             0,
             "#8e0152"
            ],
            [
             0.1,
             "#c51b7d"
            ],
            [
             0.2,
             "#de77ae"
            ],
            [
             0.3,
             "#f1b6da"
            ],
            [
             0.4,
             "#fde0ef"
            ],
            [
             0.5,
             "#f7f7f7"
            ],
            [
             0.6,
             "#e6f5d0"
            ],
            [
             0.7,
             "#b8e186"
            ],
            [
             0.8,
             "#7fbc41"
            ],
            [
             0.9,
             "#4d9221"
            ],
            [
             1,
             "#276419"
            ]
           ],
           "sequential": [
            [
             0,
             "#0d0887"
            ],
            [
             0.1111111111111111,
             "#46039f"
            ],
            [
             0.2222222222222222,
             "#7201a8"
            ],
            [
             0.3333333333333333,
             "#9c179e"
            ],
            [
             0.4444444444444444,
             "#bd3786"
            ],
            [
             0.5555555555555556,
             "#d8576b"
            ],
            [
             0.6666666666666666,
             "#ed7953"
            ],
            [
             0.7777777777777778,
             "#fb9f3a"
            ],
            [
             0.8888888888888888,
             "#fdca26"
            ],
            [
             1,
             "#f0f921"
            ]
           ],
           "sequentialminus": [
            [
             0,
             "#0d0887"
            ],
            [
             0.1111111111111111,
             "#46039f"
            ],
            [
             0.2222222222222222,
             "#7201a8"
            ],
            [
             0.3333333333333333,
             "#9c179e"
            ],
            [
             0.4444444444444444,
             "#bd3786"
            ],
            [
             0.5555555555555556,
             "#d8576b"
            ],
            [
             0.6666666666666666,
             "#ed7953"
            ],
            [
             0.7777777777777778,
             "#fb9f3a"
            ],
            [
             0.8888888888888888,
             "#fdca26"
            ],
            [
             1,
             "#f0f921"
            ]
           ]
          },
          "colorway": [
           "#636efa",
           "#EF553B",
           "#00cc96",
           "#ab63fa",
           "#FFA15A",
           "#19d3f3",
           "#FF6692",
           "#B6E880",
           "#FF97FF",
           "#FECB52"
          ],
          "font": {
           "color": "#2a3f5f"
          },
          "geo": {
           "bgcolor": "white",
           "lakecolor": "white",
           "landcolor": "#E5ECF6",
           "showlakes": true,
           "showland": true,
           "subunitcolor": "white"
          },
          "hoverlabel": {
           "align": "left"
          },
          "hovermode": "closest",
          "mapbox": {
           "style": "light"
          },
          "paper_bgcolor": "white",
          "plot_bgcolor": "#E5ECF6",
          "polar": {
           "angularaxis": {
            "gridcolor": "white",
            "linecolor": "white",
            "ticks": ""
           },
           "bgcolor": "#E5ECF6",
           "radialaxis": {
            "gridcolor": "white",
            "linecolor": "white",
            "ticks": ""
           }
          },
          "scene": {
           "xaxis": {
            "backgroundcolor": "#E5ECF6",
            "gridcolor": "white",
            "gridwidth": 2,
            "linecolor": "white",
            "showbackground": true,
            "ticks": "",
            "zerolinecolor": "white"
           },
           "yaxis": {
            "backgroundcolor": "#E5ECF6",
            "gridcolor": "white",
            "gridwidth": 2,
            "linecolor": "white",
            "showbackground": true,
            "ticks": "",
            "zerolinecolor": "white"
           },
           "zaxis": {
            "backgroundcolor": "#E5ECF6",
            "gridcolor": "white",
            "gridwidth": 2,
            "linecolor": "white",
            "showbackground": true,
            "ticks": "",
            "zerolinecolor": "white"
           }
          },
          "shapedefaults": {
           "line": {
            "color": "#2a3f5f"
           }
          },
          "ternary": {
           "aaxis": {
            "gridcolor": "white",
            "linecolor": "white",
            "ticks": ""
           },
           "baxis": {
            "gridcolor": "white",
            "linecolor": "white",
            "ticks": ""
           },
           "bgcolor": "#E5ECF6",
           "caxis": {
            "gridcolor": "white",
            "linecolor": "white",
            "ticks": ""
           }
          },
          "title": {
           "x": 0.05
          },
          "xaxis": {
           "automargin": true,
           "gridcolor": "white",
           "linecolor": "white",
           "ticks": "",
           "title": {
            "standoff": 15
           },
           "zerolinecolor": "white",
           "zerolinewidth": 2
          },
          "yaxis": {
           "automargin": true,
           "gridcolor": "white",
           "linecolor": "white",
           "ticks": "",
           "title": {
            "standoff": 15
           },
           "zerolinecolor": "white",
           "zerolinewidth": 2
          }
         }
        },
        "title": {
         "font": {
          "color": "#4D5663"
         },
         "text": "Ball Winning Midfielder - Support"
        },
        "xaxis": {
         "gridcolor": "#E1E5ED",
         "showgrid": true,
         "tickfont": {
          "color": "#4D5663"
         },
         "title": {
          "font": {
           "color": "#4D5663"
          },
          "text": "Tackles/90"
         },
         "zerolinecolor": "#E1E5ED"
        },
        "yaxis": {
         "gridcolor": "#E1E5ED",
         "showgrid": true,
         "tickfont": {
          "color": "#4D5663"
         },
         "title": {
          "font": {
           "color": "#4D5663"
          },
          "text": "Interceptions/90"
         },
         "zerolinecolor": "#E1E5ED"
        }
       }
      },
      "text/html": [
       "<div>\n",
       "        \n",
       "        \n",
       "            <div id=\"3a282664-616c-48fe-8f67-40b2272cff50\" class=\"plotly-graph-div\" style=\"height:525px; width:100%;\"></div>\n",
       "            <script type=\"text/javascript\">\n",
       "                require([\"plotly\"], function(Plotly) {\n",
       "                    window.PLOTLYENV=window.PLOTLYENV || {};\n",
       "                    window.PLOTLYENV.BASE_URL='https://plot.ly';\n",
       "                    \n",
       "                if (document.getElementById(\"3a282664-616c-48fe-8f67-40b2272cff50\")) {\n",
       "                    Plotly.newPlot(\n",
       "                        '3a282664-616c-48fe-8f67-40b2272cff50',\n",
       "                        [{\"line\": {\"color\": \"rgba(255, 153, 51, 1.0)\", \"dash\": \"solid\", \"shape\": \"linear\", \"width\": 1.3}, \"marker\": {\"size\": 10, \"symbol\": \"circle\"}, \"mode\": \"markers\", \"name\": \"Int/90\", \"text\": [\"Djibril Diakit\\u00c3\\u00a9\", \"Jo\\u00c3\\u00a3o Tavares\", \"Matej Hudecek\", \"Adrian Rybak\", \"Oskar Repka\", \"Maciej Obodecki\", \"Ivo Kralj\", \"Bartosz Sobczyk\", \"Ivan Tomac\", \"Nikola Bogdanovski\", \"Stefan Velickovic\", \"Andrija Zakoc\", \"Aur\\u00c3\\u00a9lien Nguiamba\", \"Flynn Downes\", \"Nikola Puzic\", \"Andjelo Kacavenda\", \"Tymoteusz Puchacz\", \"Felix Brunmayr\", \"Lennart Grill\", \"Josip Rakic\", \"Stefan Randjelovic\", \"Radoslaw Dzierbicki\", \"Alexandar Ubavic\", \"Veljko Jovkovic\", \"Mariano G\\u00c3\\u00b3mez\", \"David Bumberger\", \"Enrico Huss\", \"Mateo Jaksic\", \"Konrad Jozwicki\", \"Nikita Marusenko\", \"Djordje Jovanovic\", \"Filip Lisnic\", \"Dawid Szalas\", \"Vladimir Ilic\", \"Marcin Mackowiak\", \"Florin Codrean\", \"David Otto\", \"Stefan Golubovic\", \"Keanan Bennetts\", \"Andrej Vukas\", \"Jannik Tepe\", \"Mladen Devetak\", \"Tom Baack\", \"Jan Sobocinski\", \"Tom\\u00c3\\u00a1s Blanco\", \"Sinan Karweina\", \"Ben Williams\", \"Arkadiusz Zajaczkowski\", \"Miguel Reisinho\", \"Filp Ceko\", \"Michel St\\u00c3\\u00b6cker\", \"J\\u00c3\\u00a9r\\u00c3\\u00b4me Deom\", \"Ranko Jokic\", \"Palko D\\u00c3\\u00a1rdai\", \"Aleksander Tomasz\", \"Alex Vigo\", \"Daniel Bielica\", \"Marko Djira\", \"Norbert Walczak\", \"Boris Moltenis\", \"Julius Kade\", \"Goran Buljandric\", \"Jannis K\\u00c3\\u00bcbler\", \"Aleksa Jovanovic\", \"Tomasz Owczarek\", \"David Wittkowski\", \"Konrad Zaklika\", \"Pawel Karbowinski\", \"Nicky Werner\", \"Julijan Popovic\", \"Nassim Boujellab\", \"Bartlomiej Gajda\", \"Nemanja Matijevic\", \"Marko Denic\", \"Robert Baar\", \"Tuta\", \"Dusan Jokovic\", \"Tomasz Dzida\", \"Aleksa Pejic\", \"Krsta Bojic\", \"Sikou Niakat\\u00c3\\u00a9\", \"Tomasz Makowski\", \"Sebastian Gwozdz\", \"Adrian Polanski\", \"Bryan Mbeumo\", \"Dorin Sirbu\", \"Elvis Novalic\", \"Micka\\u00c3\\u00abl Cuisance\", \"Mateusz Madzia\", \"Jes\\u00c3\\u00bas Vargas\", \"Marino Jedvaj\", \"Raphael Assibey-Mensah\", \"Lukasz Sztylka\", \"Zoran Zrnzevic\", \"Alex Krawiec\", \"Petar Melezovic\", \"Tomasz Kurek\", \"Danko Radic\", \"Paul Mensah\", \"Jordan Williams\", \"Mario Mustapic\", \"Nikola Trickovic\", \"Patrik Delic\", \"Maciej Famulak\", \"Wiktor Nahrebecki\", \"Barne Poggenberg\", \"Mirza Jasarevic\", \"Ratko Minic\", \"Semih \\u00c5\\u009eahin\", \"Matej Santek\", \"Georgios Siadas\", \"Tyrese Campbell\", \"Martin Krizmanic\", \"Kacper Laskos\", \"Aleksa Milojevic\", \"Cheick Doucour\\u00c3\\u00a9\", \"Ivan Jakovljev\", \"Przemyslaw Zdybowicz\", \"Sven Botman\", \"Malik Karaahmet\", \"Lukas Kr\\u00c3\\u00bcger\", \"Niclas Stierlin\", \"Mane Markovic\", \"Karol Czubak\", \"Ilija Dejanovic\", \"Pascal Hackethal\", \"Oleg Gorin\", \"Michal Zieba\", \"Miodrag Maljkovic\", \"Jakov Blagaic\", \"Harisson Marcelin\", \"Vice Bazdaric\", \"Daniel Liszka\", \"Jan Sieracki\", \"Jhonny Lucas\", \"Tymoteusz Klups\", \"Josip Sutalo\", \"Othman Boussaid\", \"Evert Linthorst\", \"Jusuf Gazibegovic\", \"Virgiliu Postolachi\", \"Luis G\\u00c3\\u00b6rlich\", \"Andrej Ilic\", \"Daniel Haritonov\", \"Patryk Drabik\", \"Tom Dobek-Pietrowski\", \"Michal Mydlarz\", \"Cho Jeong-Hui\", \"Mohamed Loua\", \"Nemanja Zikic\", \"Emir Sejdovic\", \"Samuel Lengle\", \"Mateusz Duchowski\", \"Iliya Gruev\", \"Bartosz Borun\", \"Juraj Ljubic\", \"Gon\\u00c3\\u00a7alo Rebelo\", \"Dominik Resetar\", \"Jurica Prsir\", \"Piotr Wujec\", \"Jan Majsterek\", \"Mitchel Bakker\", \"Kamil Piatkowski\", \"Michal Ozga\", \"Karol Turek\", \"Toni Karimovic\", \"Billy Crellin\", \"Konrad Sieracki\", \"Vando Luis\", \"Jan Los\", \"Jessic Ngankam\", \"Adam Borkowski\", \"Julian Rieckmann\", \"Luka Pavlak\", \"Robert Ion\", \"Linus Rosenl\\u00c3\\u00b6cher\", \"Eugen Telch\", \"Nicholas Wunsch\", \"Dawid Kisly\", \"Uros Miloradovic\", \"Alois Oroz\", \"Luca Bazzoli\", \"Ronan Darcy\", \"Yann-Aurel Bisseck\", \"Timo Bornemann\", \"Radivoj Bosic\", \"Jakov Katusa\", \"Kacper Jozefiak\", \"Szymon Mroczko\", \"Karol Struski\", \"Wojciech Kaminski\", \"Piotr Lisowski\", \"Daishawn Redan\", \"Kacper Smolinski\", \"Lukas Sch\\u00c3\\u00b6fl\", \"Mikolaj Labojko\", \"Jakub Karbownik\", \"Damir Magdic\", \"Karol Malec\", \"Patryk Wozniak\", \"Can Bozdogan\", \"Aleksander Paluszek\", \"Mario Cuic\", \"Dragoljub Savic\", \"Nathan Collins\", \"Dominik Pila\", \"Mihael Kupresak\", \"Manu Kon\\u00c3\\u00a9\", \"Niels Hahn\", \"Tin Hrvoj\", \"Lucas Da Cunha\", \"Rahim Ibrahim\", \"Renato Josipovic\", \"Han-Noah Massengo\", \"Kacper Wiatrak\", \"Bartosz Kuzniarski\", \"Adrian Petk\", \"Fabian Tauchhammer\", \"Bartlomiej Mruk\", \"Jakub Rudek\", \"Jakub Swiecinski\", \"Jakub Nowakowski\", \"Kamil Dabrowski\", \"Yuri Sprandel Flores\", \"Stefan Radmanovac\", \"Kamal Bafounta\", \"Filip Marchwinski\", \"Kamil Lukoszek\", \"Jakub Niewiadomski\", \"Dominik Kedzior\", \"Joe Gelhardt\", \"Filip Sobiecki\", \"Fran Tomek\", \"Hubert Wasiewski\", \"Djordje Vasic\", \"Jakub Zima\", \"Damian Makuch\", \"Andrzej Kloda\", \"Stipe Biuk\", \"Mateusz Pienczak\", \"FIlip Brekalo\", \"Stefan Despotovski\", \"Jakub Kisiel\", \"Duje Skugor\", \"Martin Baturina\", \"Radoslaw Cielemecki\", \"Ariel Mosor\", \"Nikola Petkovic\", \"Nikodem Sujecki\", \"Ivan Mandic\", \"Stanislaw Loch\", \"Dario Grgic\", \"Wojciech Szybka\", \"Kacper Szmidt\", \"Vukasin Krstic\", \"Obrendo Doesburg\", \"Casper Elderman\", \"Predrag Jovic\", \"Daniel Hoyo-Kowalski\", \"Darijo Basic\", \"Wiktor Mosur\", \"Uros Mirkovic\", \"Marcos Rodr\\u00c3\\u00adguez\", \"Adrian \\u00c5\\u00a2apu\", \"Paul Mari\", \"Pawel Muzylowski\", \"Dragan Radovic\", \"Szymon Kobeszko\", \"Marcin Dabrowski\", \"Jorge Delgado\", \"Daniel Piesio\", null], \"type\": \"scatter\", \"x\": [\"2.20\", \"1.29\", \"3.31\", \"4.07\", \"7.23\", \"0.94\", \"3.92\", \"2.78\", \"4.20\", \"1.36\", \"5.13\", \"3.37\", \"4.53\", \"3.98\", \"4.81\", \"6.54\", \"0.98\", \"2.26\", \"-\", \"3.88\", \"0.00\", \"1.25\", \"2.13\", \"0.29\", \"3.00\", \"4.14\", \"2.16\", \"4.02\", \"3.46\", \"2.94\", \"0.00\", \"3.44\", \"0.93\", \"3.48\", \"4.30\", \"2.17\", \"0.17\", \"3.90\", \"2.19\", \"-\", \"0.32\", \"3.84\", \"1.56\", \"4.15\", \"0.62\", \"0.32\", \"3.85\", \"3.67\", \"2.96\", \"4.00\", \"4.08\", \"0.50\", \"3.44\", \"1.13\", \"2.00\", \"2.46\", \"-\", \"3.89\", \"1.00\", \"3.44\", \"0.85\", \"-\", \"3.63\", \"3.96\", \"5.16\", \"3.92\", \"3.34\", \"3.84\", \"0.48\", \"3.27\", \"3.34\", \"6.00\", \"0.28\", \"1.90\", \"3.47\", \"1.79\", \"4.46\", \"1.53\", \"5.92\", \"1.16\", \"3.76\", \"3.86\", \"2.01\", \"4.36\", \"0.60\", \"1.02\", \"3.95\", \"2.55\", \"5.09\", \"1.61\", \"1.68\", \"1.13\", \"4.13\", \"1.74\", \"0.75\", \"2.10\", \"0.43\", \"0.20\", \"0.13\", \"2.91\", \"0.00\", \"2.98\", \"1.00\", \"2.72\", \"3.98\", \"3.84\", \"0.42\", \"0.44\", \"1.30\", \"3.33\", \"3.28\", \"0.06\", \"3.21\", \"3.49\", \"-\", \"3.27\", \"1.61\", \"0.46\", \"4.03\", \"1.14\", \"0.84\", \"3.94\", \"0.00\", \"0.84\", \"1.26\", \"3.26\", \"3.89\", \"4.01\", \"0.44\", \"0.50\", \"2.37\", \"0.00\", \"3.02\", \"4.07\", \"3.84\", \"0.94\", \"4.07\", \"0.93\", \"2.59\", \"3.65\", \"1.00\", \"4.08\", \"0.74\", \"4.64\", \"0.82\", \"2.17\", \"3.42\", \"2.05\", \"4.74\", \"2.09\", \"2.30\", \"4.61\", \"0.56\", \"4.17\", \"2.66\", \"2.01\", \"1.33\", \"0.58\", \"2.19\", \"4.89\", \"3.94\", \"3.65\", \"3.81\", \"6.15\", \"2.70\", \"1.31\", \"-\", \"3.21\", \"1.92\", \"0.53\", \"1.05\", \"1.76\", \"4.49\", \"1.60\", \"0.42\", \"3.64\", \"1.63\", \"0.69\", \"5.21\", \"3.09\", \"2.55\", \"1.91\", \"1.23\", \"4.04\", \"0.18\", \"1.58\", \"1.10\", \"4.15\", \"3.51\", \"2.55\", \"5.17\", \"3.18\", \"0.49\", \"3.88\", \"2.06\", \"2.21\", \"1.06\", \"2.85\", \"3.72\", \"2.51\", \"2.38\", \"3.49\", \"4.61\", \"0.68\", \"3.42\", \"1.78\", \"0.28\", \"0.94\", \"2.00\", \"3.72\", \"1.41\", \"2.10\", \"0.00\", \"3.73\", \"1.68\", \"0.55\", \"3.97\", \"1.57\", \"4.28\", \"2.91\", \"4.07\", \"2.07\", \"1.51\", \"3.41\", \"3.20\", \"4.48\", \"0.28\", \"0.55\", \"4.01\", \"0.96\", \"1.27\", \"0.68\", \"4.36\", \"-\", \"1.51\", \"4.08\", \"3.94\", \"4.24\", \"1.04\", \"3.78\", \"3.17\", \"3.60\", \"5.18\", \"0.69\", \"2.14\", \"2.09\", \"4.00\", \"3.53\", \"-\", \"-\", \"1.22\", \"2.58\", \"3.92\", \"0.96\", \"4.58\", \"1.83\", \"4.52\", \"1.96\", \"3.77\", \"2.93\", \"1.07\", \"1.47\", \"4.02\", \"1.99\", \"3.83\", \"1.79\", \"1.02\", \"4.34\", \"4.27\", \"2.32\", \"2.48\", null], \"y\": [\"0.07\", \"-\", \"2.47\", \"2.55\", \"3.02\", \"-\", \"4.56\", \"1.13\", \"3.32\", \"2.92\", \"2.30\", \"1.15\", \"2.63\", \"2.46\", \"3.40\", \"3.12\", \"3.17\", \"0.88\", \"-\", \"3.35\", \"-\", \"0.79\", \"-\", \"1.61\", \"1.72\", \"4.08\", \"1.83\", \"2.30\", \"1.50\", \"2.08\", \"1.39\", \"3.22\", \"1.21\", \"1.24\", \"2.77\", \"-\", \"1.19\", \"1.15\", \"1.18\", \"0.93\", \"1.24\", \"2.86\", \"2.78\", \"3.29\", \"0.85\", \"1.21\", \"3.08\", \"3.89\", \"1.59\", \"2.94\", \"3.82\", \"0.36\", \"2.67\", \"1.41\", \"-\", \"1.49\", \"-\", \"1.65\", \"-\", \"2.94\", \"1.10\", \"-\", \"3.70\", \"2.82\", \"1.62\", \"3.67\", \"2.35\", \"1.00\", \"0.92\", \"2.85\", \"1.56\", \"4.17\", \"0.80\", \"-\", \"1.32\", \"3.06\", \"2.66\", \"0.93\", \"2.47\", \"1.41\", \"4.28\", \"3.39\", \"-\", \"4.07\", \"0.98\", \"-\", \"2.57\", \"1.25\", \"3.88\", \"1.99\", \"-\", \"-\", \"1.49\", \"-\", \"1.10\", \"-\", \"0.92\", \"1.29\", \"0.96\", \"2.44\", \"-\", \"1.20\", \"-\", \"0.85\", \"3.53\", \"2.91\", \"0.84\", \"0.77\", \"2.90\", \"4.32\", \"3.67\", \"1.00\", \"2.58\", \"2.42\", \"-\", \"3.00\", \"-\", \"0.79\", \"2.76\", \"-\", \"1.49\", \"2.43\", \"-\", \"0.70\", \"-\", \"2.72\", \"2.65\", \"2.57\", \"0.88\", \"1.69\", \"0.38\", \"-\", \"1.95\", \"2.15\", \"3.53\", \"0.86\", \"3.43\", \"-\", \"0.91\", \"1.80\", \"-\", \"2.15\", \"1.03\", \"3.23\", \"0.67\", \"2.24\", \"3.21\", \"0.09\", \"3.74\", \"-\", \"2.04\", \"3.45\", \"1.19\", \"3.07\", \"1.33\", \"1.61\", \"0.17\", \"0.92\", \"2.10\", \"3.89\", \"2.05\", \"1.94\", \"3.59\", \"1.25\", \"3.60\", \"1.90\", \"-\", \"1.33\", \"0.21\", \"1.25\", \"1.18\", \"0.92\", \"4.07\", \"2.50\", \"2.16\", \"2.33\", \"-\", \"1.01\", \"1.70\", \"2.48\", \"3.61\", \"1.13\", \"0.47\", \"3.15\", \"0.96\", \"1.84\", \"0.97\", \"3.57\", \"1.76\", \"1.56\", \"3.84\", \"3.73\", \"1.86\", \"3.20\", \"-\", \"-\", \"0.73\", \"2.31\", \"0.93\", \"2.04\", \"2.25\", \"3.57\", \"5.09\", \"-\", \"2.76\", \"0.80\", \"1.53\", \"-\", \"-\", \"2.27\", \"-\", \"-\", \"-\", \"2.94\", \"-\", \"1.23\", \"3.73\", \"-\", \"4.61\", \"2.73\", \"2.92\", \"-\", \"0.87\", \"2.01\", \"1.33\", \"5.14\", \"1.29\", \"1.09\", \"1.91\", \"0.96\", \"0.19\", \"1.37\", \"3.21\", \"-\", \"0.80\", \"2.90\", \"4.38\", \"3.21\", \"0.99\", \"2.62\", \"3.02\", \"4.47\", \"1.65\", \"0.77\", \"0.85\", \"2.28\", \"4.00\", \"3.42\", \"-\", \"-\", \"1.06\", \"1.48\", \"4.07\", \"0.96\", \"4.23\", \"-\", \"3.21\", \"1.46\", \"3.61\", \"2.01\", \"1.07\", \"0.96\", \"1.37\", \"1.36\", \"3.14\", \"1.00\", \"1.76\", \"2.69\", \"1.72\", \"0.80\", \"3.25\", \"\"]}],\n",
       "                        {\"legend\": {\"bgcolor\": \"#F5F6F9\", \"font\": {\"color\": \"#4D5663\"}}, \"paper_bgcolor\": \"#F5F6F9\", \"plot_bgcolor\": \"#F5F6F9\", \"template\": {\"data\": {\"bar\": [{\"error_x\": {\"color\": \"#2a3f5f\"}, \"error_y\": {\"color\": \"#2a3f5f\"}, \"marker\": {\"line\": {\"color\": \"#E5ECF6\", \"width\": 0.5}}, \"type\": \"bar\"}], \"barpolar\": [{\"marker\": {\"line\": {\"color\": \"#E5ECF6\", \"width\": 0.5}}, \"type\": \"barpolar\"}], \"carpet\": [{\"aaxis\": {\"endlinecolor\": \"#2a3f5f\", \"gridcolor\": \"white\", \"linecolor\": \"white\", \"minorgridcolor\": \"white\", \"startlinecolor\": \"#2a3f5f\"}, \"baxis\": {\"endlinecolor\": \"#2a3f5f\", \"gridcolor\": \"white\", \"linecolor\": \"white\", \"minorgridcolor\": \"white\", \"startlinecolor\": \"#2a3f5f\"}, \"type\": \"carpet\"}], \"choropleth\": [{\"colorbar\": {\"outlinewidth\": 0, \"ticks\": \"\"}, \"type\": \"choropleth\"}], \"contour\": [{\"colorbar\": {\"outlinewidth\": 0, \"ticks\": \"\"}, \"colorscale\": [[0.0, \"#0d0887\"], [0.1111111111111111, \"#46039f\"], [0.2222222222222222, \"#7201a8\"], [0.3333333333333333, \"#9c179e\"], [0.4444444444444444, \"#bd3786\"], [0.5555555555555556, \"#d8576b\"], [0.6666666666666666, \"#ed7953\"], [0.7777777777777778, \"#fb9f3a\"], [0.8888888888888888, \"#fdca26\"], [1.0, \"#f0f921\"]], \"type\": \"contour\"}], \"contourcarpet\": [{\"colorbar\": {\"outlinewidth\": 0, \"ticks\": \"\"}, \"type\": \"contourcarpet\"}], \"heatmap\": [{\"colorbar\": {\"outlinewidth\": 0, \"ticks\": \"\"}, \"colorscale\": [[0.0, \"#0d0887\"], [0.1111111111111111, \"#46039f\"], [0.2222222222222222, \"#7201a8\"], [0.3333333333333333, \"#9c179e\"], [0.4444444444444444, \"#bd3786\"], [0.5555555555555556, \"#d8576b\"], [0.6666666666666666, \"#ed7953\"], [0.7777777777777778, \"#fb9f3a\"], [0.8888888888888888, \"#fdca26\"], [1.0, \"#f0f921\"]], \"type\": \"heatmap\"}], \"heatmapgl\": [{\"colorbar\": {\"outlinewidth\": 0, \"ticks\": \"\"}, \"colorscale\": [[0.0, \"#0d0887\"], [0.1111111111111111, \"#46039f\"], [0.2222222222222222, \"#7201a8\"], [0.3333333333333333, \"#9c179e\"], [0.4444444444444444, \"#bd3786\"], [0.5555555555555556, \"#d8576b\"], [0.6666666666666666, \"#ed7953\"], [0.7777777777777778, \"#fb9f3a\"], [0.8888888888888888, \"#fdca26\"], [1.0, \"#f0f921\"]], \"type\": \"heatmapgl\"}], \"histogram\": [{\"marker\": {\"colorbar\": {\"outlinewidth\": 0, \"ticks\": \"\"}}, \"type\": \"histogram\"}], \"histogram2d\": [{\"colorbar\": {\"outlinewidth\": 0, \"ticks\": \"\"}, \"colorscale\": [[0.0, \"#0d0887\"], [0.1111111111111111, \"#46039f\"], [0.2222222222222222, \"#7201a8\"], [0.3333333333333333, \"#9c179e\"], [0.4444444444444444, \"#bd3786\"], [0.5555555555555556, \"#d8576b\"], [0.6666666666666666, \"#ed7953\"], [0.7777777777777778, \"#fb9f3a\"], [0.8888888888888888, \"#fdca26\"], [1.0, \"#f0f921\"]], \"type\": \"histogram2d\"}], \"histogram2dcontour\": [{\"colorbar\": {\"outlinewidth\": 0, \"ticks\": \"\"}, \"colorscale\": [[0.0, \"#0d0887\"], [0.1111111111111111, \"#46039f\"], [0.2222222222222222, \"#7201a8\"], [0.3333333333333333, \"#9c179e\"], [0.4444444444444444, \"#bd3786\"], [0.5555555555555556, \"#d8576b\"], [0.6666666666666666, \"#ed7953\"], [0.7777777777777778, \"#fb9f3a\"], [0.8888888888888888, \"#fdca26\"], [1.0, \"#f0f921\"]], \"type\": \"histogram2dcontour\"}], \"mesh3d\": [{\"colorbar\": {\"outlinewidth\": 0, \"ticks\": \"\"}, \"type\": \"mesh3d\"}], \"parcoords\": [{\"line\": {\"colorbar\": {\"outlinewidth\": 0, \"ticks\": \"\"}}, \"type\": \"parcoords\"}], \"pie\": [{\"automargin\": true, \"type\": \"pie\"}], \"scatter\": [{\"marker\": {\"colorbar\": {\"outlinewidth\": 0, \"ticks\": \"\"}}, \"type\": \"scatter\"}], \"scatter3d\": [{\"line\": {\"colorbar\": {\"outlinewidth\": 0, \"ticks\": \"\"}}, \"marker\": {\"colorbar\": {\"outlinewidth\": 0, \"ticks\": \"\"}}, \"type\": \"scatter3d\"}], \"scattercarpet\": [{\"marker\": {\"colorbar\": {\"outlinewidth\": 0, \"ticks\": \"\"}}, \"type\": \"scattercarpet\"}], \"scattergeo\": [{\"marker\": {\"colorbar\": {\"outlinewidth\": 0, \"ticks\": \"\"}}, \"type\": \"scattergeo\"}], \"scattergl\": [{\"marker\": {\"colorbar\": {\"outlinewidth\": 0, \"ticks\": \"\"}}, \"type\": \"scattergl\"}], \"scattermapbox\": [{\"marker\": {\"colorbar\": {\"outlinewidth\": 0, \"ticks\": \"\"}}, \"type\": \"scattermapbox\"}], \"scatterpolar\": [{\"marker\": {\"colorbar\": {\"outlinewidth\": 0, \"ticks\": \"\"}}, \"type\": \"scatterpolar\"}], \"scatterpolargl\": [{\"marker\": {\"colorbar\": {\"outlinewidth\": 0, \"ticks\": \"\"}}, \"type\": \"scatterpolargl\"}], \"scatterternary\": [{\"marker\": {\"colorbar\": {\"outlinewidth\": 0, \"ticks\": \"\"}}, \"type\": \"scatterternary\"}], \"surface\": [{\"colorbar\": {\"outlinewidth\": 0, \"ticks\": \"\"}, \"colorscale\": [[0.0, \"#0d0887\"], [0.1111111111111111, \"#46039f\"], [0.2222222222222222, \"#7201a8\"], [0.3333333333333333, \"#9c179e\"], [0.4444444444444444, \"#bd3786\"], [0.5555555555555556, \"#d8576b\"], [0.6666666666666666, \"#ed7953\"], [0.7777777777777778, \"#fb9f3a\"], [0.8888888888888888, \"#fdca26\"], [1.0, \"#f0f921\"]], \"type\": \"surface\"}], \"table\": [{\"cells\": {\"fill\": {\"color\": \"#EBF0F8\"}, \"line\": {\"color\": \"white\"}}, \"header\": {\"fill\": {\"color\": \"#C8D4E3\"}, \"line\": {\"color\": \"white\"}}, \"type\": \"table\"}]}, \"layout\": {\"annotationdefaults\": {\"arrowcolor\": \"#2a3f5f\", \"arrowhead\": 0, \"arrowwidth\": 1}, \"coloraxis\": {\"colorbar\": {\"outlinewidth\": 0, \"ticks\": \"\"}}, \"colorscale\": {\"diverging\": [[0, \"#8e0152\"], [0.1, \"#c51b7d\"], [0.2, \"#de77ae\"], [0.3, \"#f1b6da\"], [0.4, \"#fde0ef\"], [0.5, \"#f7f7f7\"], [0.6, \"#e6f5d0\"], [0.7, \"#b8e186\"], [0.8, \"#7fbc41\"], [0.9, \"#4d9221\"], [1, \"#276419\"]], \"sequential\": [[0.0, \"#0d0887\"], [0.1111111111111111, \"#46039f\"], [0.2222222222222222, \"#7201a8\"], [0.3333333333333333, \"#9c179e\"], [0.4444444444444444, \"#bd3786\"], [0.5555555555555556, \"#d8576b\"], [0.6666666666666666, \"#ed7953\"], [0.7777777777777778, \"#fb9f3a\"], [0.8888888888888888, \"#fdca26\"], [1.0, \"#f0f921\"]], \"sequentialminus\": [[0.0, \"#0d0887\"], [0.1111111111111111, \"#46039f\"], [0.2222222222222222, \"#7201a8\"], [0.3333333333333333, \"#9c179e\"], [0.4444444444444444, \"#bd3786\"], [0.5555555555555556, \"#d8576b\"], [0.6666666666666666, \"#ed7953\"], [0.7777777777777778, \"#fb9f3a\"], [0.8888888888888888, \"#fdca26\"], [1.0, \"#f0f921\"]]}, \"colorway\": [\"#636efa\", \"#EF553B\", \"#00cc96\", \"#ab63fa\", \"#FFA15A\", \"#19d3f3\", \"#FF6692\", \"#B6E880\", \"#FF97FF\", \"#FECB52\"], \"font\": {\"color\": \"#2a3f5f\"}, \"geo\": {\"bgcolor\": \"white\", \"lakecolor\": \"white\", \"landcolor\": \"#E5ECF6\", \"showlakes\": true, \"showland\": true, \"subunitcolor\": \"white\"}, \"hoverlabel\": {\"align\": \"left\"}, \"hovermode\": \"closest\", \"mapbox\": {\"style\": \"light\"}, \"paper_bgcolor\": \"white\", \"plot_bgcolor\": \"#E5ECF6\", \"polar\": {\"angularaxis\": {\"gridcolor\": \"white\", \"linecolor\": \"white\", \"ticks\": \"\"}, \"bgcolor\": \"#E5ECF6\", \"radialaxis\": {\"gridcolor\": \"white\", \"linecolor\": \"white\", \"ticks\": \"\"}}, \"scene\": {\"xaxis\": {\"backgroundcolor\": \"#E5ECF6\", \"gridcolor\": \"white\", \"gridwidth\": 2, \"linecolor\": \"white\", \"showbackground\": true, \"ticks\": \"\", \"zerolinecolor\": \"white\"}, \"yaxis\": {\"backgroundcolor\": \"#E5ECF6\", \"gridcolor\": \"white\", \"gridwidth\": 2, \"linecolor\": \"white\", \"showbackground\": true, \"ticks\": \"\", \"zerolinecolor\": \"white\"}, \"zaxis\": {\"backgroundcolor\": \"#E5ECF6\", \"gridcolor\": \"white\", \"gridwidth\": 2, \"linecolor\": \"white\", \"showbackground\": true, \"ticks\": \"\", \"zerolinecolor\": \"white\"}}, \"shapedefaults\": {\"line\": {\"color\": \"#2a3f5f\"}}, \"ternary\": {\"aaxis\": {\"gridcolor\": \"white\", \"linecolor\": \"white\", \"ticks\": \"\"}, \"baxis\": {\"gridcolor\": \"white\", \"linecolor\": \"white\", \"ticks\": \"\"}, \"bgcolor\": \"#E5ECF6\", \"caxis\": {\"gridcolor\": \"white\", \"linecolor\": \"white\", \"ticks\": \"\"}}, \"title\": {\"x\": 0.05}, \"xaxis\": {\"automargin\": true, \"gridcolor\": \"white\", \"linecolor\": \"white\", \"ticks\": \"\", \"title\": {\"standoff\": 15}, \"zerolinecolor\": \"white\", \"zerolinewidth\": 2}, \"yaxis\": {\"automargin\": true, \"gridcolor\": \"white\", \"linecolor\": \"white\", \"ticks\": \"\", \"title\": {\"standoff\": 15}, \"zerolinecolor\": \"white\", \"zerolinewidth\": 2}}}, \"title\": {\"font\": {\"color\": \"#4D5663\"}, \"text\": \"Ball Winning Midfielder - Support\"}, \"xaxis\": {\"gridcolor\": \"#E1E5ED\", \"showgrid\": true, \"tickfont\": {\"color\": \"#4D5663\"}, \"title\": {\"font\": {\"color\": \"#4D5663\"}, \"text\": \"Tackles/90\"}, \"zerolinecolor\": \"#E1E5ED\"}, \"yaxis\": {\"gridcolor\": \"#E1E5ED\", \"showgrid\": true, \"tickfont\": {\"color\": \"#4D5663\"}, \"title\": {\"font\": {\"color\": \"#4D5663\"}, \"text\": \"Interceptions/90\"}, \"zerolinecolor\": \"#E1E5ED\"}},\n",
       "                        {\"showLink\": true, \"linkText\": \"Export to plot.ly\", \"plotlyServerURL\": \"https://plot.ly\", \"responsive\": true}\n",
       "                    ).then(function(){\n",
       "                            \n",
       "var gd = document.getElementById('3a282664-616c-48fe-8f67-40b2272cff50');\n",
       "var x = new MutationObserver(function (mutations, observer) {{\n",
       "        var display = window.getComputedStyle(gd).display;\n",
       "        if (!display || display === 'none') {{\n",
       "            console.log([gd, 'removed!']);\n",
       "            Plotly.purge(gd);\n",
       "            observer.disconnect();\n",
       "        }}\n",
       "}});\n",
       "\n",
       "// Listen for the removal of the full notebook cells\n",
       "var notebookContainer = gd.closest('#notebook-container');\n",
       "if (notebookContainer) {{\n",
       "    x.observe(notebookContainer, {childList: true});\n",
       "}}\n",
       "\n",
       "// Listen for the clearing of the current output cell\n",
       "var outputEl = gd.closest('.output');\n",
       "if (outputEl) {{\n",
       "    x.observe(outputEl, {childList: true});\n",
       "}}\n",
       "\n",
       "                        })\n",
       "                };\n",
       "                });\n",
       "            </script>\n",
       "        </div>"
      ]
     },
     "metadata": {},
     "output_type": "display_data"
    }
   ],
   "source": [
    "df1.iplot(kind='scatter',x='Tck',y='Int/90',\n",
    "           mode='markers',text='Name',size=10,\n",
    "          xTitle='Tackles/90',yTitle='Interceptions/90',title='Ball Winning Midfielder - Support')\t"
   ]
  },
  {
   "cell_type": "code",
   "execution_count": 18,
   "metadata": {},
   "outputs": [
    {
     "name": "stdout",
     "output_type": "stream",
     "text": [
      "Carilello\n"
     ]
    },
    {
     "data": {
      "text/html": [
       "<style  type=\"text/css\" >\n",
       "    #T_e0b38bae_91d2_11ea_9e94_4ceb428e4071row0_col1 {\n",
       "            background-color:  #f7fbff;\n",
       "            color:  #000000;\n",
       "        }    #T_e0b38bae_91d2_11ea_9e94_4ceb428e4071row0_col2 {\n",
       "            background-color:  #0b559f;\n",
       "            color:  #f1f1f1;\n",
       "        }    #T_e0b38bae_91d2_11ea_9e94_4ceb428e4071row0_col3 {\n",
       "            background-color:  #6aaed6;\n",
       "            color:  #000000;\n",
       "        }    #T_e0b38bae_91d2_11ea_9e94_4ceb428e4071row0_col4 {\n",
       "            background-color:  #3787c0;\n",
       "            color:  #000000;\n",
       "        }    #T_e0b38bae_91d2_11ea_9e94_4ceb428e4071row0_col5 {\n",
       "            background-color:  #4a98c9;\n",
       "            color:  #000000;\n",
       "        }    #T_e0b38bae_91d2_11ea_9e94_4ceb428e4071row0_col6 {\n",
       "            background-color:  #08306b;\n",
       "            color:  #f1f1f1;\n",
       "        }    #T_e0b38bae_91d2_11ea_9e94_4ceb428e4071row0_col7 {\n",
       "            background-color:  #105ba4;\n",
       "            color:  #f1f1f1;\n",
       "        }    #T_e0b38bae_91d2_11ea_9e94_4ceb428e4071row0_col8 {\n",
       "            background-color:  #2b7bba;\n",
       "            color:  #000000;\n",
       "        }    #T_e0b38bae_91d2_11ea_9e94_4ceb428e4071row0_col9 {\n",
       "            background-color:  #08306b;\n",
       "            color:  #f1f1f1;\n",
       "        }    #T_e0b38bae_91d2_11ea_9e94_4ceb428e4071row1_col1 {\n",
       "            background-color:  #2070b4;\n",
       "            color:  #f1f1f1;\n",
       "        }    #T_e0b38bae_91d2_11ea_9e94_4ceb428e4071row1_col2 {\n",
       "            background-color:  #f7fbff;\n",
       "            color:  #000000;\n",
       "        }    #T_e0b38bae_91d2_11ea_9e94_4ceb428e4071row1_col3 {\n",
       "            background-color:  #08306b;\n",
       "            color:  #f1f1f1;\n",
       "        }    #T_e0b38bae_91d2_11ea_9e94_4ceb428e4071row1_col4 {\n",
       "            background-color:  #08306b;\n",
       "            color:  #f1f1f1;\n",
       "        }    #T_e0b38bae_91d2_11ea_9e94_4ceb428e4071row1_col5 {\n",
       "            background-color:  #4a98c9;\n",
       "            color:  #000000;\n",
       "        }    #T_e0b38bae_91d2_11ea_9e94_4ceb428e4071row1_col6 {\n",
       "            background-color:  #08306b;\n",
       "            color:  #f1f1f1;\n",
       "        }    #T_e0b38bae_91d2_11ea_9e94_4ceb428e4071row1_col7 {\n",
       "            background-color:  #08306b;\n",
       "            color:  #f1f1f1;\n",
       "        }    #T_e0b38bae_91d2_11ea_9e94_4ceb428e4071row1_col8 {\n",
       "            background-color:  #539ecd;\n",
       "            color:  #000000;\n",
       "        }    #T_e0b38bae_91d2_11ea_9e94_4ceb428e4071row1_col9 {\n",
       "            background-color:  #2676b8;\n",
       "            color:  #000000;\n",
       "        }    #T_e0b38bae_91d2_11ea_9e94_4ceb428e4071row2_col1 {\n",
       "            background-color:  #08306b;\n",
       "            color:  #f1f1f1;\n",
       "        }    #T_e0b38bae_91d2_11ea_9e94_4ceb428e4071row2_col2 {\n",
       "            background-color:  #08306b;\n",
       "            color:  #f1f1f1;\n",
       "        }    #T_e0b38bae_91d2_11ea_9e94_4ceb428e4071row2_col3 {\n",
       "            background-color:  #6aaed6;\n",
       "            color:  #000000;\n",
       "        }    #T_e0b38bae_91d2_11ea_9e94_4ceb428e4071row2_col4 {\n",
       "            background-color:  #3787c0;\n",
       "            color:  #000000;\n",
       "        }    #T_e0b38bae_91d2_11ea_9e94_4ceb428e4071row2_col5 {\n",
       "            background-color:  #1764ab;\n",
       "            color:  #f1f1f1;\n",
       "        }    #T_e0b38bae_91d2_11ea_9e94_4ceb428e4071row2_col6 {\n",
       "            background-color:  #f7fbff;\n",
       "            color:  #000000;\n",
       "        }    #T_e0b38bae_91d2_11ea_9e94_4ceb428e4071row2_col7 {\n",
       "            background-color:  #d6e6f4;\n",
       "            color:  #000000;\n",
       "        }    #T_e0b38bae_91d2_11ea_9e94_4ceb428e4071row2_col8 {\n",
       "            background-color:  #2b7bba;\n",
       "            color:  #000000;\n",
       "        }    #T_e0b38bae_91d2_11ea_9e94_4ceb428e4071row2_col9 {\n",
       "            background-color:  #a1cbe2;\n",
       "            color:  #000000;\n",
       "        }    #T_e0b38bae_91d2_11ea_9e94_4ceb428e4071row3_col1 {\n",
       "            background-color:  #6aaed6;\n",
       "            color:  #000000;\n",
       "        }    #T_e0b38bae_91d2_11ea_9e94_4ceb428e4071row3_col2 {\n",
       "            background-color:  #539ecd;\n",
       "            color:  #000000;\n",
       "        }    #T_e0b38bae_91d2_11ea_9e94_4ceb428e4071row3_col3 {\n",
       "            background-color:  #c6dbef;\n",
       "            color:  #000000;\n",
       "        }    #T_e0b38bae_91d2_11ea_9e94_4ceb428e4071row3_col4 {\n",
       "            background-color:  #abd0e6;\n",
       "            color:  #000000;\n",
       "        }    #T_e0b38bae_91d2_11ea_9e94_4ceb428e4071row3_col5 {\n",
       "            background-color:  #4a98c9;\n",
       "            color:  #000000;\n",
       "        }    #T_e0b38bae_91d2_11ea_9e94_4ceb428e4071row3_col6 {\n",
       "            background-color:  #1764ab;\n",
       "            color:  #f1f1f1;\n",
       "        }    #T_e0b38bae_91d2_11ea_9e94_4ceb428e4071row3_col7 {\n",
       "            background-color:  #6aaed6;\n",
       "            color:  #000000;\n",
       "        }    #T_e0b38bae_91d2_11ea_9e94_4ceb428e4071row3_col8 {\n",
       "            background-color:  #539ecd;\n",
       "            color:  #000000;\n",
       "        }    #T_e0b38bae_91d2_11ea_9e94_4ceb428e4071row3_col9 {\n",
       "            background-color:  #bfd8ed;\n",
       "            color:  #000000;\n",
       "        }    #T_e0b38bae_91d2_11ea_9e94_4ceb428e4071row4_col1 {\n",
       "            background-color:  #08306b;\n",
       "            color:  #f1f1f1;\n",
       "        }    #T_e0b38bae_91d2_11ea_9e94_4ceb428e4071row4_col2 {\n",
       "            background-color:  #2b7bba;\n",
       "            color:  #000000;\n",
       "        }    #T_e0b38bae_91d2_11ea_9e94_4ceb428e4071row4_col3 {\n",
       "            background-color:  #08306b;\n",
       "            color:  #f1f1f1;\n",
       "        }    #T_e0b38bae_91d2_11ea_9e94_4ceb428e4071row4_col4 {\n",
       "            background-color:  #3787c0;\n",
       "            color:  #000000;\n",
       "        }    #T_e0b38bae_91d2_11ea_9e94_4ceb428e4071row4_col5 {\n",
       "            background-color:  #08306b;\n",
       "            color:  #f1f1f1;\n",
       "        }    #T_e0b38bae_91d2_11ea_9e94_4ceb428e4071row4_col6 {\n",
       "            background-color:  #1764ab;\n",
       "            color:  #f1f1f1;\n",
       "        }    #T_e0b38bae_91d2_11ea_9e94_4ceb428e4071row4_col7 {\n",
       "            background-color:  #f7fbff;\n",
       "            color:  #000000;\n",
       "        }    #T_e0b38bae_91d2_11ea_9e94_4ceb428e4071row4_col8 {\n",
       "            background-color:  #f7fbff;\n",
       "            color:  #000000;\n",
       "        }    #T_e0b38bae_91d2_11ea_9e94_4ceb428e4071row4_col9 {\n",
       "            background-color:  #bfd8ed;\n",
       "            color:  #000000;\n",
       "        }    #T_e0b38bae_91d2_11ea_9e94_4ceb428e4071row5_col1 {\n",
       "            background-color:  #08306b;\n",
       "            color:  #f1f1f1;\n",
       "        }    #T_e0b38bae_91d2_11ea_9e94_4ceb428e4071row5_col2 {\n",
       "            background-color:  #08306b;\n",
       "            color:  #f1f1f1;\n",
       "        }    #T_e0b38bae_91d2_11ea_9e94_4ceb428e4071row5_col3 {\n",
       "            background-color:  #f7fbff;\n",
       "            color:  #000000;\n",
       "        }    #T_e0b38bae_91d2_11ea_9e94_4ceb428e4071row5_col4 {\n",
       "            background-color:  #abd0e6;\n",
       "            color:  #000000;\n",
       "        }    #T_e0b38bae_91d2_11ea_9e94_4ceb428e4071row5_col5 {\n",
       "            background-color:  #d0e1f2;\n",
       "            color:  #000000;\n",
       "        }    #T_e0b38bae_91d2_11ea_9e94_4ceb428e4071row5_col6 {\n",
       "            background-color:  #08306b;\n",
       "            color:  #f1f1f1;\n",
       "        }    #T_e0b38bae_91d2_11ea_9e94_4ceb428e4071row5_col7 {\n",
       "            background-color:  #3787c0;\n",
       "            color:  #000000;\n",
       "        }    #T_e0b38bae_91d2_11ea_9e94_4ceb428e4071row5_col8 {\n",
       "            background-color:  #dbe9f6;\n",
       "            color:  #000000;\n",
       "        }    #T_e0b38bae_91d2_11ea_9e94_4ceb428e4071row5_col9 {\n",
       "            background-color:  #d3e4f3;\n",
       "            color:  #000000;\n",
       "        }    #T_e0b38bae_91d2_11ea_9e94_4ceb428e4071row6_col1 {\n",
       "            background-color:  #6aaed6;\n",
       "            color:  #000000;\n",
       "        }    #T_e0b38bae_91d2_11ea_9e94_4ceb428e4071row6_col2 {\n",
       "            background-color:  #bad6eb;\n",
       "            color:  #000000;\n",
       "        }    #T_e0b38bae_91d2_11ea_9e94_4ceb428e4071row6_col3 {\n",
       "            background-color:  #c6dbef;\n",
       "            color:  #000000;\n",
       "        }    #T_e0b38bae_91d2_11ea_9e94_4ceb428e4071row6_col4 {\n",
       "            background-color:  #f7fbff;\n",
       "            color:  #000000;\n",
       "        }    #T_e0b38bae_91d2_11ea_9e94_4ceb428e4071row6_col5 {\n",
       "            background-color:  #94c4df;\n",
       "            color:  #000000;\n",
       "        }    #T_e0b38bae_91d2_11ea_9e94_4ceb428e4071row6_col6 {\n",
       "            background-color:  #d0e1f2;\n",
       "            color:  #000000;\n",
       "        }    #T_e0b38bae_91d2_11ea_9e94_4ceb428e4071row6_col7 {\n",
       "            background-color:  #08306b;\n",
       "            color:  #f1f1f1;\n",
       "        }    #T_e0b38bae_91d2_11ea_9e94_4ceb428e4071row6_col8 {\n",
       "            background-color:  #08306b;\n",
       "            color:  #f1f1f1;\n",
       "        }    #T_e0b38bae_91d2_11ea_9e94_4ceb428e4071row6_col9 {\n",
       "            background-color:  #d3e4f3;\n",
       "            color:  #000000;\n",
       "        }    #T_e0b38bae_91d2_11ea_9e94_4ceb428e4071row7_col1 {\n",
       "            background-color:  #2070b4;\n",
       "            color:  #f1f1f1;\n",
       "        }    #T_e0b38bae_91d2_11ea_9e94_4ceb428e4071row7_col2 {\n",
       "            background-color:  #f7fbff;\n",
       "            color:  #000000;\n",
       "        }    #T_e0b38bae_91d2_11ea_9e94_4ceb428e4071row7_col3 {\n",
       "            background-color:  #2070b4;\n",
       "            color:  #f1f1f1;\n",
       "        }    #T_e0b38bae_91d2_11ea_9e94_4ceb428e4071row7_col4 {\n",
       "            background-color:  #3787c0;\n",
       "            color:  #000000;\n",
       "        }    #T_e0b38bae_91d2_11ea_9e94_4ceb428e4071row7_col5 {\n",
       "            background-color:  #1764ab;\n",
       "            color:  #f1f1f1;\n",
       "        }    #T_e0b38bae_91d2_11ea_9e94_4ceb428e4071row7_col6 {\n",
       "            background-color:  #4a98c9;\n",
       "            color:  #000000;\n",
       "        }    #T_e0b38bae_91d2_11ea_9e94_4ceb428e4071row7_col7 {\n",
       "            background-color:  #6aaed6;\n",
       "            color:  #000000;\n",
       "        }    #T_e0b38bae_91d2_11ea_9e94_4ceb428e4071row7_col8 {\n",
       "            background-color:  #89bedc;\n",
       "            color:  #000000;\n",
       "        }    #T_e0b38bae_91d2_11ea_9e94_4ceb428e4071row7_col9 {\n",
       "            background-color:  #e5eff9;\n",
       "            color:  #000000;\n",
       "        }    #T_e0b38bae_91d2_11ea_9e94_4ceb428e4071row8_col1 {\n",
       "            background-color:  #c6dbef;\n",
       "            color:  #000000;\n",
       "        }    #T_e0b38bae_91d2_11ea_9e94_4ceb428e4071row8_col2 {\n",
       "            background-color:  #2b7bba;\n",
       "            color:  #000000;\n",
       "        }    #T_e0b38bae_91d2_11ea_9e94_4ceb428e4071row8_col3 {\n",
       "            background-color:  #6aaed6;\n",
       "            color:  #000000;\n",
       "        }    #T_e0b38bae_91d2_11ea_9e94_4ceb428e4071row8_col4 {\n",
       "            background-color:  #3787c0;\n",
       "            color:  #000000;\n",
       "        }    #T_e0b38bae_91d2_11ea_9e94_4ceb428e4071row8_col5 {\n",
       "            background-color:  #1764ab;\n",
       "            color:  #f1f1f1;\n",
       "        }    #T_e0b38bae_91d2_11ea_9e94_4ceb428e4071row8_col6 {\n",
       "            background-color:  #f7fbff;\n",
       "            color:  #000000;\n",
       "        }    #T_e0b38bae_91d2_11ea_9e94_4ceb428e4071row8_col7 {\n",
       "            background-color:  #abd0e6;\n",
       "            color:  #000000;\n",
       "        }    #T_e0b38bae_91d2_11ea_9e94_4ceb428e4071row8_col8 {\n",
       "            background-color:  #89bedc;\n",
       "            color:  #000000;\n",
       "        }    #T_e0b38bae_91d2_11ea_9e94_4ceb428e4071row8_col9 {\n",
       "            background-color:  #e5eff9;\n",
       "            color:  #000000;\n",
       "        }    #T_e0b38bae_91d2_11ea_9e94_4ceb428e4071row9_col1 {\n",
       "            background-color:  #2070b4;\n",
       "            color:  #f1f1f1;\n",
       "        }    #T_e0b38bae_91d2_11ea_9e94_4ceb428e4071row9_col2 {\n",
       "            background-color:  #bad6eb;\n",
       "            color:  #000000;\n",
       "        }    #T_e0b38bae_91d2_11ea_9e94_4ceb428e4071row9_col3 {\n",
       "            background-color:  #6aaed6;\n",
       "            color:  #000000;\n",
       "        }    #T_e0b38bae_91d2_11ea_9e94_4ceb428e4071row9_col4 {\n",
       "            background-color:  #abd0e6;\n",
       "            color:  #000000;\n",
       "        }    #T_e0b38bae_91d2_11ea_9e94_4ceb428e4071row9_col5 {\n",
       "            background-color:  #f7fbff;\n",
       "            color:  #000000;\n",
       "        }    #T_e0b38bae_91d2_11ea_9e94_4ceb428e4071row9_col6 {\n",
       "            background-color:  #1764ab;\n",
       "            color:  #f1f1f1;\n",
       "        }    #T_e0b38bae_91d2_11ea_9e94_4ceb428e4071row9_col7 {\n",
       "            background-color:  #105ba4;\n",
       "            color:  #f1f1f1;\n",
       "        }    #T_e0b38bae_91d2_11ea_9e94_4ceb428e4071row9_col8 {\n",
       "            background-color:  #89bedc;\n",
       "            color:  #000000;\n",
       "        }    #T_e0b38bae_91d2_11ea_9e94_4ceb428e4071row9_col9 {\n",
       "            background-color:  #f7fbff;\n",
       "            color:  #000000;\n",
       "        }</style><table id=\"T_e0b38bae_91d2_11ea_9e94_4ceb428e4071\" ><thead>    <tr>        <th class=\"col_heading level0 col0\" >Name</th>        <th class=\"col_heading level0 col1\" >Age</th>        <th class=\"col_heading level0 col2\" >Pas</th>        <th class=\"col_heading level0 col3\" >Tck</th>        <th class=\"col_heading level0 col4\" >Dec</th>        <th class=\"col_heading level0 col5\" >Pos</th>        <th class=\"col_heading level0 col6\" >Tea</th>        <th class=\"col_heading level0 col7\" >Wor</th>        <th class=\"col_heading level0 col8\" >Sta</th>        <th class=\"col_heading level0 col9\" >car_score</th>    </tr></thead><tbody>\n",
       "                <tr>\n",
       "                                <td id=\"T_e0b38bae_91d2_11ea_9e94_4ceb428e4071row0_col0\" class=\"data row0 col0\" >Paul Mari</td>\n",
       "                        <td id=\"T_e0b38bae_91d2_11ea_9e94_4ceb428e4071row0_col1\" class=\"data row0 col1\" >                  19</td>\n",
       "                        <td id=\"T_e0b38bae_91d2_11ea_9e94_4ceb428e4071row0_col2\" class=\"data row0 col2\" >14</td>\n",
       "                        <td id=\"T_e0b38bae_91d2_11ea_9e94_4ceb428e4071row0_col3\" class=\"data row0 col3\" >13</td>\n",
       "                        <td id=\"T_e0b38bae_91d2_11ea_9e94_4ceb428e4071row0_col4\" class=\"data row0 col4\" >13</td>\n",
       "                        <td id=\"T_e0b38bae_91d2_11ea_9e94_4ceb428e4071row0_col5\" class=\"data row0 col5\" >12</td>\n",
       "                        <td id=\"T_e0b38bae_91d2_11ea_9e94_4ceb428e4071row0_col6\" class=\"data row0 col6\" >18</td>\n",
       "                        <td id=\"T_e0b38bae_91d2_11ea_9e94_4ceb428e4071row0_col7\" class=\"data row0 col7\" >16</td>\n",
       "                        <td id=\"T_e0b38bae_91d2_11ea_9e94_4ceb428e4071row0_col8\" class=\"data row0 col8\" >14</td>\n",
       "                        <td id=\"T_e0b38bae_91d2_11ea_9e94_4ceb428e4071row0_col9\" class=\"data row0 col9\" >100</td>\n",
       "            </tr>\n",
       "            <tr>\n",
       "                                <td id=\"T_e0b38bae_91d2_11ea_9e94_4ceb428e4071row1_col0\" class=\"data row1 col0\" >Michal Ozga</td>\n",
       "                        <td id=\"T_e0b38bae_91d2_11ea_9e94_4ceb428e4071row1_col1\" class=\"data row1 col1\" >                  22</td>\n",
       "                        <td id=\"T_e0b38bae_91d2_11ea_9e94_4ceb428e4071row1_col2\" class=\"data row1 col2\" >8</td>\n",
       "                        <td id=\"T_e0b38bae_91d2_11ea_9e94_4ceb428e4071row1_col3\" class=\"data row1 col3\" >15</td>\n",
       "                        <td id=\"T_e0b38bae_91d2_11ea_9e94_4ceb428e4071row1_col4\" class=\"data row1 col4\" >14</td>\n",
       "                        <td id=\"T_e0b38bae_91d2_11ea_9e94_4ceb428e4071row1_col5\" class=\"data row1 col5\" >12</td>\n",
       "                        <td id=\"T_e0b38bae_91d2_11ea_9e94_4ceb428e4071row1_col6\" class=\"data row1 col6\" >18</td>\n",
       "                        <td id=\"T_e0b38bae_91d2_11ea_9e94_4ceb428e4071row1_col7\" class=\"data row1 col7\" >17</td>\n",
       "                        <td id=\"T_e0b38bae_91d2_11ea_9e94_4ceb428e4071row1_col8\" class=\"data row1 col8\" >13</td>\n",
       "                        <td id=\"T_e0b38bae_91d2_11ea_9e94_4ceb428e4071row1_col9\" class=\"data row1 col9\" >97</td>\n",
       "            </tr>\n",
       "            <tr>\n",
       "                                <td id=\"T_e0b38bae_91d2_11ea_9e94_4ceb428e4071row2_col0\" class=\"data row2 col0\" >Jan Sobocinski</td>\n",
       "                        <td id=\"T_e0b38bae_91d2_11ea_9e94_4ceb428e4071row2_col1\" class=\"data row2 col1\" >                  23</td>\n",
       "                        <td id=\"T_e0b38bae_91d2_11ea_9e94_4ceb428e4071row2_col2\" class=\"data row2 col2\" >15</td>\n",
       "                        <td id=\"T_e0b38bae_91d2_11ea_9e94_4ceb428e4071row2_col3\" class=\"data row2 col3\" >13</td>\n",
       "                        <td id=\"T_e0b38bae_91d2_11ea_9e94_4ceb428e4071row2_col4\" class=\"data row2 col4\" >13</td>\n",
       "                        <td id=\"T_e0b38bae_91d2_11ea_9e94_4ceb428e4071row2_col5\" class=\"data row2 col5\" >13</td>\n",
       "                        <td id=\"T_e0b38bae_91d2_11ea_9e94_4ceb428e4071row2_col6\" class=\"data row2 col6\" >13</td>\n",
       "                        <td id=\"T_e0b38bae_91d2_11ea_9e94_4ceb428e4071row2_col7\" class=\"data row2 col7\" >12</td>\n",
       "                        <td id=\"T_e0b38bae_91d2_11ea_9e94_4ceb428e4071row2_col8\" class=\"data row2 col8\" >14</td>\n",
       "                        <td id=\"T_e0b38bae_91d2_11ea_9e94_4ceb428e4071row2_col9\" class=\"data row2 col9\" >93</td>\n",
       "            </tr>\n",
       "            <tr>\n",
       "                                <td id=\"T_e0b38bae_91d2_11ea_9e94_4ceb428e4071row3_col0\" class=\"data row3 col0\" >Yuri Sprandel Flores</td>\n",
       "                        <td id=\"T_e0b38bae_91d2_11ea_9e94_4ceb428e4071row3_col1\" class=\"data row3 col1\" >                  21</td>\n",
       "                        <td id=\"T_e0b38bae_91d2_11ea_9e94_4ceb428e4071row3_col2\" class=\"data row3 col2\" >12</td>\n",
       "                        <td id=\"T_e0b38bae_91d2_11ea_9e94_4ceb428e4071row3_col3\" class=\"data row3 col3\" >12</td>\n",
       "                        <td id=\"T_e0b38bae_91d2_11ea_9e94_4ceb428e4071row3_col4\" class=\"data row3 col4\" >12</td>\n",
       "                        <td id=\"T_e0b38bae_91d2_11ea_9e94_4ceb428e4071row3_col5\" class=\"data row3 col5\" >12</td>\n",
       "                        <td id=\"T_e0b38bae_91d2_11ea_9e94_4ceb428e4071row3_col6\" class=\"data row3 col6\" >17</td>\n",
       "                        <td id=\"T_e0b38bae_91d2_11ea_9e94_4ceb428e4071row3_col7\" class=\"data row3 col7\" >14</td>\n",
       "                        <td id=\"T_e0b38bae_91d2_11ea_9e94_4ceb428e4071row3_col8\" class=\"data row3 col8\" >13</td>\n",
       "                        <td id=\"T_e0b38bae_91d2_11ea_9e94_4ceb428e4071row3_col9\" class=\"data row3 col9\" >92</td>\n",
       "            </tr>\n",
       "            <tr>\n",
       "                                <td id=\"T_e0b38bae_91d2_11ea_9e94_4ceb428e4071row4_col0\" class=\"data row4 col0\" >Andjelo Kacavenda</td>\n",
       "                        <td id=\"T_e0b38bae_91d2_11ea_9e94_4ceb428e4071row4_col1\" class=\"data row4 col1\" >                  23</td>\n",
       "                        <td id=\"T_e0b38bae_91d2_11ea_9e94_4ceb428e4071row4_col2\" class=\"data row4 col2\" >13</td>\n",
       "                        <td id=\"T_e0b38bae_91d2_11ea_9e94_4ceb428e4071row4_col3\" class=\"data row4 col3\" >15</td>\n",
       "                        <td id=\"T_e0b38bae_91d2_11ea_9e94_4ceb428e4071row4_col4\" class=\"data row4 col4\" >13</td>\n",
       "                        <td id=\"T_e0b38bae_91d2_11ea_9e94_4ceb428e4071row4_col5\" class=\"data row4 col5\" >14</td>\n",
       "                        <td id=\"T_e0b38bae_91d2_11ea_9e94_4ceb428e4071row4_col6\" class=\"data row4 col6\" >17</td>\n",
       "                        <td id=\"T_e0b38bae_91d2_11ea_9e94_4ceb428e4071row4_col7\" class=\"data row4 col7\" >11</td>\n",
       "                        <td id=\"T_e0b38bae_91d2_11ea_9e94_4ceb428e4071row4_col8\" class=\"data row4 col8\" >9</td>\n",
       "                        <td id=\"T_e0b38bae_91d2_11ea_9e94_4ceb428e4071row4_col9\" class=\"data row4 col9\" >92</td>\n",
       "            </tr>\n",
       "            <tr>\n",
       "                                <td id=\"T_e0b38bae_91d2_11ea_9e94_4ceb428e4071row5_col0\" class=\"data row5 col0\" >Elvis Novalic</td>\n",
       "                        <td id=\"T_e0b38bae_91d2_11ea_9e94_4ceb428e4071row5_col1\" class=\"data row5 col1\" >                  23</td>\n",
       "                        <td id=\"T_e0b38bae_91d2_11ea_9e94_4ceb428e4071row5_col2\" class=\"data row5 col2\" >15</td>\n",
       "                        <td id=\"T_e0b38bae_91d2_11ea_9e94_4ceb428e4071row5_col3\" class=\"data row5 col3\" >11</td>\n",
       "                        <td id=\"T_e0b38bae_91d2_11ea_9e94_4ceb428e4071row5_col4\" class=\"data row5 col4\" >12</td>\n",
       "                        <td id=\"T_e0b38bae_91d2_11ea_9e94_4ceb428e4071row5_col5\" class=\"data row5 col5\" >10</td>\n",
       "                        <td id=\"T_e0b38bae_91d2_11ea_9e94_4ceb428e4071row5_col6\" class=\"data row5 col6\" >18</td>\n",
       "                        <td id=\"T_e0b38bae_91d2_11ea_9e94_4ceb428e4071row5_col7\" class=\"data row5 col7\" >15</td>\n",
       "                        <td id=\"T_e0b38bae_91d2_11ea_9e94_4ceb428e4071row5_col8\" class=\"data row5 col8\" >10</td>\n",
       "                        <td id=\"T_e0b38bae_91d2_11ea_9e94_4ceb428e4071row5_col9\" class=\"data row5 col9\" >91</td>\n",
       "            </tr>\n",
       "            <tr>\n",
       "                                <td id=\"T_e0b38bae_91d2_11ea_9e94_4ceb428e4071row6_col0\" class=\"data row6 col0\" >Jakub Swiecinski</td>\n",
       "                        <td id=\"T_e0b38bae_91d2_11ea_9e94_4ceb428e4071row6_col1\" class=\"data row6 col1\" >                  21</td>\n",
       "                        <td id=\"T_e0b38bae_91d2_11ea_9e94_4ceb428e4071row6_col2\" class=\"data row6 col2\" >10</td>\n",
       "                        <td id=\"T_e0b38bae_91d2_11ea_9e94_4ceb428e4071row6_col3\" class=\"data row6 col3\" >12</td>\n",
       "                        <td id=\"T_e0b38bae_91d2_11ea_9e94_4ceb428e4071row6_col4\" class=\"data row6 col4\" >11</td>\n",
       "                        <td id=\"T_e0b38bae_91d2_11ea_9e94_4ceb428e4071row6_col5\" class=\"data row6 col5\" >11</td>\n",
       "                        <td id=\"T_e0b38bae_91d2_11ea_9e94_4ceb428e4071row6_col6\" class=\"data row6 col6\" >14</td>\n",
       "                        <td id=\"T_e0b38bae_91d2_11ea_9e94_4ceb428e4071row6_col7\" class=\"data row6 col7\" >17</td>\n",
       "                        <td id=\"T_e0b38bae_91d2_11ea_9e94_4ceb428e4071row6_col8\" class=\"data row6 col8\" >16</td>\n",
       "                        <td id=\"T_e0b38bae_91d2_11ea_9e94_4ceb428e4071row6_col9\" class=\"data row6 col9\" >91</td>\n",
       "            </tr>\n",
       "            <tr>\n",
       "                                <td id=\"T_e0b38bae_91d2_11ea_9e94_4ceb428e4071row7_col0\" class=\"data row7 col0\" >Piotr Wujec</td>\n",
       "                        <td id=\"T_e0b38bae_91d2_11ea_9e94_4ceb428e4071row7_col1\" class=\"data row7 col1\" >                  22</td>\n",
       "                        <td id=\"T_e0b38bae_91d2_11ea_9e94_4ceb428e4071row7_col2\" class=\"data row7 col2\" >8</td>\n",
       "                        <td id=\"T_e0b38bae_91d2_11ea_9e94_4ceb428e4071row7_col3\" class=\"data row7 col3\" >14</td>\n",
       "                        <td id=\"T_e0b38bae_91d2_11ea_9e94_4ceb428e4071row7_col4\" class=\"data row7 col4\" >13</td>\n",
       "                        <td id=\"T_e0b38bae_91d2_11ea_9e94_4ceb428e4071row7_col5\" class=\"data row7 col5\" >13</td>\n",
       "                        <td id=\"T_e0b38bae_91d2_11ea_9e94_4ceb428e4071row7_col6\" class=\"data row7 col6\" >16</td>\n",
       "                        <td id=\"T_e0b38bae_91d2_11ea_9e94_4ceb428e4071row7_col7\" class=\"data row7 col7\" >14</td>\n",
       "                        <td id=\"T_e0b38bae_91d2_11ea_9e94_4ceb428e4071row7_col8\" class=\"data row7 col8\" >12</td>\n",
       "                        <td id=\"T_e0b38bae_91d2_11ea_9e94_4ceb428e4071row7_col9\" class=\"data row7 col9\" >90</td>\n",
       "            </tr>\n",
       "            <tr>\n",
       "                                <td id=\"T_e0b38bae_91d2_11ea_9e94_4ceb428e4071row8_col0\" class=\"data row8 col0\" >Kamal Bafounta</td>\n",
       "                        <td id=\"T_e0b38bae_91d2_11ea_9e94_4ceb428e4071row8_col1\" class=\"data row8 col1\" >                  20</td>\n",
       "                        <td id=\"T_e0b38bae_91d2_11ea_9e94_4ceb428e4071row8_col2\" class=\"data row8 col2\" >13</td>\n",
       "                        <td id=\"T_e0b38bae_91d2_11ea_9e94_4ceb428e4071row8_col3\" class=\"data row8 col3\" >13</td>\n",
       "                        <td id=\"T_e0b38bae_91d2_11ea_9e94_4ceb428e4071row8_col4\" class=\"data row8 col4\" >13</td>\n",
       "                        <td id=\"T_e0b38bae_91d2_11ea_9e94_4ceb428e4071row8_col5\" class=\"data row8 col5\" >13</td>\n",
       "                        <td id=\"T_e0b38bae_91d2_11ea_9e94_4ceb428e4071row8_col6\" class=\"data row8 col6\" >13</td>\n",
       "                        <td id=\"T_e0b38bae_91d2_11ea_9e94_4ceb428e4071row8_col7\" class=\"data row8 col7\" >13</td>\n",
       "                        <td id=\"T_e0b38bae_91d2_11ea_9e94_4ceb428e4071row8_col8\" class=\"data row8 col8\" >12</td>\n",
       "                        <td id=\"T_e0b38bae_91d2_11ea_9e94_4ceb428e4071row8_col9\" class=\"data row8 col9\" >90</td>\n",
       "            </tr>\n",
       "            <tr>\n",
       "                                <td id=\"T_e0b38bae_91d2_11ea_9e94_4ceb428e4071row9_col0\" class=\"data row9 col0\" >Jan Sieracki</td>\n",
       "                        <td id=\"T_e0b38bae_91d2_11ea_9e94_4ceb428e4071row9_col1\" class=\"data row9 col1\" >                  22</td>\n",
       "                        <td id=\"T_e0b38bae_91d2_11ea_9e94_4ceb428e4071row9_col2\" class=\"data row9 col2\" >10</td>\n",
       "                        <td id=\"T_e0b38bae_91d2_11ea_9e94_4ceb428e4071row9_col3\" class=\"data row9 col3\" >13</td>\n",
       "                        <td id=\"T_e0b38bae_91d2_11ea_9e94_4ceb428e4071row9_col4\" class=\"data row9 col4\" >12</td>\n",
       "                        <td id=\"T_e0b38bae_91d2_11ea_9e94_4ceb428e4071row9_col5\" class=\"data row9 col5\" >9</td>\n",
       "                        <td id=\"T_e0b38bae_91d2_11ea_9e94_4ceb428e4071row9_col6\" class=\"data row9 col6\" >17</td>\n",
       "                        <td id=\"T_e0b38bae_91d2_11ea_9e94_4ceb428e4071row9_col7\" class=\"data row9 col7\" >16</td>\n",
       "                        <td id=\"T_e0b38bae_91d2_11ea_9e94_4ceb428e4071row9_col8\" class=\"data row9 col8\" >12</td>\n",
       "                        <td id=\"T_e0b38bae_91d2_11ea_9e94_4ceb428e4071row9_col9\" class=\"data row9 col9\" >89</td>\n",
       "            </tr>\n",
       "    </tbody></table>"
      ],
      "text/plain": [
       "<pandas.io.formats.style.Styler at 0xcd30a78>"
      ]
     },
     "execution_count": 18,
     "metadata": {},
     "output_type": "execute_result"
    }
   ],
   "source": [
    "print(\"Carilello\")\n",
    "sorted_car = car.sort_values(by='car_score', ascending=False)\n",
    "sorted_car.head(10).style.format({\"Age\": \"{:20,.0f}\", \n",
    "                          })\\\n",
    "                       .hide_index()\\\n",
    "                       .background_gradient(cmap='Blues')"
   ]
  },
  {
   "cell_type": "code",
   "execution_count": 19,
   "metadata": {},
   "outputs": [
    {
     "data": {
      "application/vnd.plotly.v1+json": {
       "config": {
        "linkText": "Export to plot.ly",
        "plotlyServerURL": "https://plot.ly",
        "showLink": true
       },
       "data": [
        {
         "line": {
          "color": "rgba(255, 153, 51, 1.0)",
          "dash": "solid",
          "shape": "linear",
          "width": 1.3
         },
         "marker": {
          "size": 10,
          "symbol": "circle"
         },
         "mode": "markers",
         "name": "Pas %",
         "text": [
          "Djibril DiakitÃ©",
          "JoÃ£o Tavares",
          "Matej Hudecek",
          "Adrian Rybak",
          "Oskar Repka",
          "Maciej Obodecki",
          "Ivo Kralj",
          "Bartosz Sobczyk",
          "Ivan Tomac",
          "Nikola Bogdanovski",
          "Stefan Velickovic",
          "Andrija Zakoc",
          "AurÃ©lien Nguiamba",
          "Flynn Downes",
          "Nikola Puzic",
          "Andjelo Kacavenda",
          "Tymoteusz Puchacz",
          "Felix Brunmayr",
          "Lennart Grill",
          "Josip Rakic",
          "Stefan Randjelovic",
          "Radoslaw Dzierbicki",
          "Alexandar Ubavic",
          "Veljko Jovkovic",
          "Mariano GÃ³mez",
          "David Bumberger",
          "Enrico Huss",
          "Mateo Jaksic",
          "Konrad Jozwicki",
          "Nikita Marusenko",
          "Djordje Jovanovic",
          "Filip Lisnic",
          "Dawid Szalas",
          "Vladimir Ilic",
          "Marcin Mackowiak",
          "Florin Codrean",
          "David Otto",
          "Stefan Golubovic",
          "Keanan Bennetts",
          "Andrej Vukas",
          "Jannik Tepe",
          "Mladen Devetak",
          "Tom Baack",
          "Jan Sobocinski",
          "TomÃ¡s Blanco",
          "Sinan Karweina",
          "Ben Williams",
          "Arkadiusz Zajaczkowski",
          "Miguel Reisinho",
          "Filp Ceko",
          "Michel StÃ¶cker",
          "JÃ©rÃ´me Deom",
          "Ranko Jokic",
          "Palko DÃ¡rdai",
          "Aleksander Tomasz",
          "Alex Vigo",
          "Daniel Bielica",
          "Marko Djira",
          "Norbert Walczak",
          "Boris Moltenis",
          "Julius Kade",
          "Goran Buljandric",
          "Jannis KÃ¼bler",
          "Aleksa Jovanovic",
          "Tomasz Owczarek",
          "David Wittkowski",
          "Konrad Zaklika",
          "Pawel Karbowinski",
          "Nicky Werner",
          "Julijan Popovic",
          "Nassim Boujellab",
          "Bartlomiej Gajda",
          "Nemanja Matijevic",
          "Marko Denic",
          "Robert Baar",
          "Tuta",
          "Dusan Jokovic",
          "Tomasz Dzida",
          "Aleksa Pejic",
          "Krsta Bojic",
          "Sikou NiakatÃ©",
          "Tomasz Makowski",
          "Sebastian Gwozdz",
          "Adrian Polanski",
          "Bryan Mbeumo",
          "Dorin Sirbu",
          "Elvis Novalic",
          "MickaÃ«l Cuisance",
          "Mateusz Madzia",
          "JesÃºs Vargas",
          "Marino Jedvaj",
          "Raphael Assibey-Mensah",
          "Lukasz Sztylka",
          "Zoran Zrnzevic",
          "Alex Krawiec",
          "Petar Melezovic",
          "Tomasz Kurek",
          "Danko Radic",
          "Paul Mensah",
          "Jordan Williams",
          "Mario Mustapic",
          "Nikola Trickovic",
          "Patrik Delic",
          "Maciej Famulak",
          "Wiktor Nahrebecki",
          "Barne Poggenberg",
          "Mirza Jasarevic",
          "Ratko Minic",
          "Semih Åahin",
          "Matej Santek",
          "Georgios Siadas",
          "Tyrese Campbell",
          "Martin Krizmanic",
          "Kacper Laskos",
          "Aleksa Milojevic",
          "Cheick DoucourÃ©",
          "Ivan Jakovljev",
          "Przemyslaw Zdybowicz",
          "Sven Botman",
          "Malik Karaahmet",
          "Lukas KrÃ¼ger",
          "Niclas Stierlin",
          "Mane Markovic",
          "Karol Czubak",
          "Ilija Dejanovic",
          "Pascal Hackethal",
          "Oleg Gorin",
          "Michal Zieba",
          "Miodrag Maljkovic",
          "Jakov Blagaic",
          "Harisson Marcelin",
          "Vice Bazdaric",
          "Daniel Liszka",
          "Jan Sieracki",
          "Jhonny Lucas",
          "Tymoteusz Klups",
          "Josip Sutalo",
          "Othman Boussaid",
          "Evert Linthorst",
          "Jusuf Gazibegovic",
          "Virgiliu Postolachi",
          "Luis GÃ¶rlich",
          "Andrej Ilic",
          "Daniel Haritonov",
          "Patryk Drabik",
          "Tom Dobek-Pietrowski",
          "Michal Mydlarz",
          "Cho Jeong-Hui",
          "Mohamed Loua",
          "Nemanja Zikic",
          "Emir Sejdovic",
          "Samuel Lengle",
          "Mateusz Duchowski",
          "Iliya Gruev",
          "Bartosz Borun",
          "Juraj Ljubic",
          "GonÃ§alo Rebelo",
          "Dominik Resetar",
          "Jurica Prsir",
          "Piotr Wujec",
          "Jan Majsterek",
          "Mitchel Bakker",
          "Kamil Piatkowski",
          "Michal Ozga",
          "Karol Turek",
          "Toni Karimovic",
          "Billy Crellin",
          "Konrad Sieracki",
          "Vando Luis",
          "Jan Los",
          "Jessic Ngankam",
          "Adam Borkowski",
          "Julian Rieckmann",
          "Luka Pavlak",
          "Robert Ion",
          "Linus RosenlÃ¶cher",
          "Eugen Telch",
          "Nicholas Wunsch",
          "Dawid Kisly",
          "Uros Miloradovic",
          "Alois Oroz",
          "Luca Bazzoli",
          "Ronan Darcy",
          "Yann-Aurel Bisseck",
          "Timo Bornemann",
          "Radivoj Bosic",
          "Jakov Katusa",
          "Kacper Jozefiak",
          "Szymon Mroczko",
          "Karol Struski",
          "Wojciech Kaminski",
          "Piotr Lisowski",
          "Daishawn Redan",
          "Kacper Smolinski",
          "Lukas SchÃ¶fl",
          "Mikolaj Labojko",
          "Jakub Karbownik",
          "Damir Magdic",
          "Karol Malec",
          "Patryk Wozniak",
          "Can Bozdogan",
          "Aleksander Paluszek",
          "Mario Cuic",
          "Dragoljub Savic",
          "Nathan Collins",
          "Dominik Pila",
          "Mihael Kupresak",
          "Manu KonÃ©",
          "Niels Hahn",
          "Tin Hrvoj",
          "Lucas Da Cunha",
          "Rahim Ibrahim",
          "Renato Josipovic",
          "Han-Noah Massengo",
          "Kacper Wiatrak",
          "Bartosz Kuzniarski",
          "Adrian Petk",
          "Fabian Tauchhammer",
          "Bartlomiej Mruk",
          "Jakub Rudek",
          "Jakub Swiecinski",
          "Jakub Nowakowski",
          "Kamil Dabrowski",
          "Yuri Sprandel Flores",
          "Stefan Radmanovac",
          "Kamal Bafounta",
          "Filip Marchwinski",
          "Kamil Lukoszek",
          "Jakub Niewiadomski",
          "Dominik Kedzior",
          "Joe Gelhardt",
          "Filip Sobiecki",
          "Fran Tomek",
          "Hubert Wasiewski",
          "Djordje Vasic",
          "Jakub Zima",
          "Damian Makuch",
          "Andrzej Kloda",
          "Stipe Biuk",
          "Mateusz Pienczak",
          "FIlip Brekalo",
          "Stefan Despotovski",
          "Jakub Kisiel",
          "Duje Skugor",
          "Martin Baturina",
          "Radoslaw Cielemecki",
          "Ariel Mosor",
          "Nikola Petkovic",
          "Nikodem Sujecki",
          "Ivan Mandic",
          "Stanislaw Loch",
          "Dario Grgic",
          "Wojciech Szybka",
          "Kacper Szmidt",
          "Vukasin Krstic",
          "Obrendo Doesburg",
          "Casper Elderman",
          "Predrag Jovic",
          "Daniel Hoyo-Kowalski",
          "Darijo Basic",
          "Wiktor Mosur",
          "Uros Mirkovic",
          "Marcos RodrÃ­guez",
          "Adrian Å¢apu",
          "Paul Mari",
          "Pawel Muzylowski",
          "Dragan Radovic",
          "Szymon Kobeszko",
          "Marcin Dabrowski",
          "Jorge Delgado",
          "Daniel Piesio",
          null
         ],
         "type": "scatter",
         "x": [
          "-",
          "-",
          "0.11",
          "0.12",
          "-",
          "-",
          "-",
          "0.15",
          "0.42",
          "0.58",
          "0.23",
          "0.25",
          "0.28",
          "0.44",
          "1.04",
          "0.26",
          "0.23",
          "0.25",
          "0.10",
          "0.15",
          "0.14",
          "0.33",
          "-",
          "0.57",
          "0.22",
          "0.23",
          "0.26",
          "0.14",
          "0.46",
          "0.40",
          "0.46",
          "0.06",
          "0.44",
          "0.10",
          "0.24",
          "-",
          "0.34",
          "0.05",
          "0.48",
          "0.29",
          "0.38",
          "0.52",
          "0.40",
          "0.29",
          "-",
          "0.40",
          "0.08",
          "0.32",
          "0.58",
          "0.17",
          "0.31",
          "0.43",
          "0.11",
          "0.99",
          "-",
          "0.06",
          "0.17",
          "0.75",
          "-",
          "0.06",
          "0.79",
          "-",
          "1.01",
          "0.15",
          "0.12",
          "0.20",
          "0.27",
          "0.32",
          "0.19",
          "0.32",
          "0.86",
          "0.40",
          "0.47",
          "-",
          "0.20",
          "-",
          "0.25",
          "0.68",
          "0.34",
          "0.37",
          "0.19",
          "0.33",
          "-",
          "0.35",
          "0.45",
          "-",
          "0.60",
          "1.07",
          "0.05",
          "0.39",
          "-",
          "-",
          "0.26",
          "-",
          "1.74",
          "-",
          "0.61",
          "0.70",
          "0.45",
          "0.29",
          "0.17",
          "0.25",
          "-",
          "0.85",
          "0.85",
          "0.23",
          "0.24",
          "0.71",
          "0.53",
          "0.67",
          "0.44",
          "0.17",
          "0.11",
          "0.18",
          "0.12",
          "0.86",
          "-",
          "0.20",
          "0.06",
          "-",
          "0.30",
          "0.41",
          "0.10",
          "0.21",
          "-",
          "0.48",
          "0.44",
          "0.32",
          "0.49",
          "0.69",
          "0.06",
          "0.06",
          "0.88",
          "0.54",
          "0.46",
          "0.22",
          "0.14",
          "-",
          "0.14",
          "0.51",
          "-",
          "0.37",
          "0.29",
          "0.30",
          "0.60",
          "0.82",
          "0.71",
          "0.09",
          "0.07",
          "-",
          "0.96",
          "0.51",
          "0.94",
          "0.18",
          "0.66",
          "0.40",
          "-",
          "0.17",
          "0.88",
          "0.06",
          "0.60",
          "0.18",
          "0.27",
          "0.36",
          "0.41",
          "0.72",
          "-",
          "0.56",
          "-",
          "0.45",
          "0.46",
          "0.08",
          "0.21",
          "1.22",
          "0.66",
          "0.29",
          "-",
          "0.38",
          "0.23",
          "0.68",
          "0.06",
          "0.59",
          "0.47",
          "0.16",
          "0.14",
          "0.18",
          "1.10",
          "0.08",
          "0.20",
          "0.71",
          "0.26",
          "0.36",
          "0.15",
          "0.30",
          "-",
          "-",
          "0.08",
          "0.23",
          "0.14",
          "0.94",
          "0.56",
          "-",
          "0.24",
          "-",
          "0.07",
          "0.09",
          "0.49",
          "-",
          "-",
          "0.32",
          "-",
          "-",
          "0.06",
          "0.56",
          "-",
          "0.31",
          "0.47",
          "-",
          "0.22",
          "0.81",
          "0.11",
          "-",
          "0.14",
          "0.03",
          "0.27",
          "0.31",
          "1.01",
          "0.23",
          "0.33",
          "0.44",
          "0.06",
          "0.38",
          "0.83",
          "0.07",
          "0.48",
          "-",
          "0.15",
          "0.17",
          "0.90",
          "-",
          "0.29",
          "0.20",
          "0.63",
          "0.15",
          "0.43",
          "0.70",
          "0.15",
          "1.25",
          "0.07",
          "0.15",
          "1.06",
          "0.52",
          "0.54",
          "0.59",
          "0.21",
          "-",
          "-",
          "0.90",
          "-",
          "0.25",
          "0.44",
          "0.34",
          "0.24",
          "0.16",
          "0.17",
          "0.86",
          "0.75",
          "0.18",
          "0.25",
          "0.42",
          "0.70",
          null
         ],
         "y": [
          "64%",
          "66%",
          "68%",
          "71%",
          "71%",
          "61%",
          "71%",
          "69%",
          "70%",
          "70%",
          "76%",
          "68%",
          "80%",
          "83%",
          "69%",
          "77%",
          "71%",
          "68%",
          "48%",
          "68%",
          "43%",
          "69%",
          "67%",
          "64%",
          "71%",
          "74%",
          "73%",
          "68%",
          "76%",
          "75%",
          "65%",
          "72%",
          "57%",
          "70%",
          "75%",
          "74%",
          "65%",
          "61%",
          "64%",
          "57%",
          "62%",
          "73%",
          "88%",
          "82%",
          "64%",
          "64%",
          "72%",
          "71%",
          "75%",
          "64%",
          "74%",
          "63%",
          "69%",
          "68%",
          "74%",
          "72%",
          "44%",
          "76%",
          "61%",
          "78%",
          "91%",
          "61%",
          "70%",
          "74%",
          "70%",
          "65%",
          "72%",
          "63%",
          "61%",
          "70%",
          "71%",
          "74%",
          "61%",
          "70%",
          "67%",
          "84%",
          "75%",
          "66%",
          "76%",
          "66%",
          "77%",
          "82%",
          "73%",
          "64%",
          "65%",
          "68%",
          "77%",
          "80%",
          "66%",
          "66%",
          "72%",
          "70%",
          "66%",
          "67%",
          "61%",
          "70%",
          "63%",
          "64%",
          "66%",
          "71%",
          "42%",
          "79%",
          "68%",
          "74%",
          "72%",
          "67%",
          "64%",
          "68%",
          "68%",
          "76%",
          "71%",
          "66%",
          "68%",
          "78%",
          "47%",
          "77%",
          "72%",
          "60%",
          "76%",
          "58%",
          "68%",
          "73%",
          "44%",
          "62%",
          "65%",
          "71%",
          "68%",
          "72%",
          "64%",
          "71%",
          "71%",
          "47%",
          "68%",
          "70%",
          "75%",
          "70%",
          "74%",
          "68%",
          "72%",
          "69%",
          "57%",
          "70%",
          "64%",
          "70%",
          "70%",
          "69%",
          "69%",
          "66%",
          "82%",
          "73%",
          "74%",
          "71%",
          "73%",
          "78%",
          "69%",
          "71%",
          "68%",
          "63%",
          "72%",
          "70%",
          "69%",
          "73%",
          "75%",
          "70%",
          "69%",
          "65%",
          "58%",
          "72%",
          "68%",
          "65%",
          "65%",
          "66%",
          "79%",
          "71%",
          "65%",
          "66%",
          "69%",
          "59%",
          "72%",
          "77%",
          "68%",
          "73%",
          "74%",
          "76%",
          "61%",
          "64%",
          "65%",
          "71%",
          "66%",
          "68%",
          "77%",
          "72%",
          "66%",
          "71%",
          "71%",
          "72%",
          "66%",
          "67%",
          "63%",
          "70%",
          "74%",
          "71%",
          "72%",
          "73%",
          "78%",
          "73%",
          "63%",
          "69%",
          "72%",
          "69%",
          "72%",
          "70%",
          "51%",
          "77%",
          "69%",
          "61%",
          "76%",
          "73%",
          "72%",
          "75%",
          "72%",
          "70%",
          "65%",
          "71%",
          "68%",
          "80%",
          "74%",
          "62%",
          "67%",
          "63%",
          "55%",
          "70%",
          "78%",
          "48%",
          "74%",
          "76%",
          "69%",
          "68%",
          "72%",
          "73%",
          "73%",
          "70%",
          "71%",
          "57%",
          "70%",
          "67%",
          "75%",
          "76%",
          "51%",
          "46%",
          "71%",
          "71%",
          "75%",
          "72%",
          "73%",
          "75%",
          "73%",
          "72%",
          "68%",
          "72%",
          "64%",
          "62%",
          "70%",
          "68%",
          "77%",
          "71%",
          "67%",
          "75%",
          "70%",
          "73%",
          "72%",
          ""
         ]
        }
       ],
       "layout": {
        "legend": {
         "bgcolor": "#F5F6F9",
         "font": {
          "color": "#4D5663"
         }
        },
        "paper_bgcolor": "#F5F6F9",
        "plot_bgcolor": "#F5F6F9",
        "template": {
         "data": {
          "bar": [
           {
            "error_x": {
             "color": "#2a3f5f"
            },
            "error_y": {
             "color": "#2a3f5f"
            },
            "marker": {
             "line": {
              "color": "#E5ECF6",
              "width": 0.5
             }
            },
            "type": "bar"
           }
          ],
          "barpolar": [
           {
            "marker": {
             "line": {
              "color": "#E5ECF6",
              "width": 0.5
             }
            },
            "type": "barpolar"
           }
          ],
          "carpet": [
           {
            "aaxis": {
             "endlinecolor": "#2a3f5f",
             "gridcolor": "white",
             "linecolor": "white",
             "minorgridcolor": "white",
             "startlinecolor": "#2a3f5f"
            },
            "baxis": {
             "endlinecolor": "#2a3f5f",
             "gridcolor": "white",
             "linecolor": "white",
             "minorgridcolor": "white",
             "startlinecolor": "#2a3f5f"
            },
            "type": "carpet"
           }
          ],
          "choropleth": [
           {
            "colorbar": {
             "outlinewidth": 0,
             "ticks": ""
            },
            "type": "choropleth"
           }
          ],
          "contour": [
           {
            "colorbar": {
             "outlinewidth": 0,
             "ticks": ""
            },
            "colorscale": [
             [
              0,
              "#0d0887"
             ],
             [
              0.1111111111111111,
              "#46039f"
             ],
             [
              0.2222222222222222,
              "#7201a8"
             ],
             [
              0.3333333333333333,
              "#9c179e"
             ],
             [
              0.4444444444444444,
              "#bd3786"
             ],
             [
              0.5555555555555556,
              "#d8576b"
             ],
             [
              0.6666666666666666,
              "#ed7953"
             ],
             [
              0.7777777777777778,
              "#fb9f3a"
             ],
             [
              0.8888888888888888,
              "#fdca26"
             ],
             [
              1,
              "#f0f921"
             ]
            ],
            "type": "contour"
           }
          ],
          "contourcarpet": [
           {
            "colorbar": {
             "outlinewidth": 0,
             "ticks": ""
            },
            "type": "contourcarpet"
           }
          ],
          "heatmap": [
           {
            "colorbar": {
             "outlinewidth": 0,
             "ticks": ""
            },
            "colorscale": [
             [
              0,
              "#0d0887"
             ],
             [
              0.1111111111111111,
              "#46039f"
             ],
             [
              0.2222222222222222,
              "#7201a8"
             ],
             [
              0.3333333333333333,
              "#9c179e"
             ],
             [
              0.4444444444444444,
              "#bd3786"
             ],
             [
              0.5555555555555556,
              "#d8576b"
             ],
             [
              0.6666666666666666,
              "#ed7953"
             ],
             [
              0.7777777777777778,
              "#fb9f3a"
             ],
             [
              0.8888888888888888,
              "#fdca26"
             ],
             [
              1,
              "#f0f921"
             ]
            ],
            "type": "heatmap"
           }
          ],
          "heatmapgl": [
           {
            "colorbar": {
             "outlinewidth": 0,
             "ticks": ""
            },
            "colorscale": [
             [
              0,
              "#0d0887"
             ],
             [
              0.1111111111111111,
              "#46039f"
             ],
             [
              0.2222222222222222,
              "#7201a8"
             ],
             [
              0.3333333333333333,
              "#9c179e"
             ],
             [
              0.4444444444444444,
              "#bd3786"
             ],
             [
              0.5555555555555556,
              "#d8576b"
             ],
             [
              0.6666666666666666,
              "#ed7953"
             ],
             [
              0.7777777777777778,
              "#fb9f3a"
             ],
             [
              0.8888888888888888,
              "#fdca26"
             ],
             [
              1,
              "#f0f921"
             ]
            ],
            "type": "heatmapgl"
           }
          ],
          "histogram": [
           {
            "marker": {
             "colorbar": {
              "outlinewidth": 0,
              "ticks": ""
             }
            },
            "type": "histogram"
           }
          ],
          "histogram2d": [
           {
            "colorbar": {
             "outlinewidth": 0,
             "ticks": ""
            },
            "colorscale": [
             [
              0,
              "#0d0887"
             ],
             [
              0.1111111111111111,
              "#46039f"
             ],
             [
              0.2222222222222222,
              "#7201a8"
             ],
             [
              0.3333333333333333,
              "#9c179e"
             ],
             [
              0.4444444444444444,
              "#bd3786"
             ],
             [
              0.5555555555555556,
              "#d8576b"
             ],
             [
              0.6666666666666666,
              "#ed7953"
             ],
             [
              0.7777777777777778,
              "#fb9f3a"
             ],
             [
              0.8888888888888888,
              "#fdca26"
             ],
             [
              1,
              "#f0f921"
             ]
            ],
            "type": "histogram2d"
           }
          ],
          "histogram2dcontour": [
           {
            "colorbar": {
             "outlinewidth": 0,
             "ticks": ""
            },
            "colorscale": [
             [
              0,
              "#0d0887"
             ],
             [
              0.1111111111111111,
              "#46039f"
             ],
             [
              0.2222222222222222,
              "#7201a8"
             ],
             [
              0.3333333333333333,
              "#9c179e"
             ],
             [
              0.4444444444444444,
              "#bd3786"
             ],
             [
              0.5555555555555556,
              "#d8576b"
             ],
             [
              0.6666666666666666,
              "#ed7953"
             ],
             [
              0.7777777777777778,
              "#fb9f3a"
             ],
             [
              0.8888888888888888,
              "#fdca26"
             ],
             [
              1,
              "#f0f921"
             ]
            ],
            "type": "histogram2dcontour"
           }
          ],
          "mesh3d": [
           {
            "colorbar": {
             "outlinewidth": 0,
             "ticks": ""
            },
            "type": "mesh3d"
           }
          ],
          "parcoords": [
           {
            "line": {
             "colorbar": {
              "outlinewidth": 0,
              "ticks": ""
             }
            },
            "type": "parcoords"
           }
          ],
          "pie": [
           {
            "automargin": true,
            "type": "pie"
           }
          ],
          "scatter": [
           {
            "marker": {
             "colorbar": {
              "outlinewidth": 0,
              "ticks": ""
             }
            },
            "type": "scatter"
           }
          ],
          "scatter3d": [
           {
            "line": {
             "colorbar": {
              "outlinewidth": 0,
              "ticks": ""
             }
            },
            "marker": {
             "colorbar": {
              "outlinewidth": 0,
              "ticks": ""
             }
            },
            "type": "scatter3d"
           }
          ],
          "scattercarpet": [
           {
            "marker": {
             "colorbar": {
              "outlinewidth": 0,
              "ticks": ""
             }
            },
            "type": "scattercarpet"
           }
          ],
          "scattergeo": [
           {
            "marker": {
             "colorbar": {
              "outlinewidth": 0,
              "ticks": ""
             }
            },
            "type": "scattergeo"
           }
          ],
          "scattergl": [
           {
            "marker": {
             "colorbar": {
              "outlinewidth": 0,
              "ticks": ""
             }
            },
            "type": "scattergl"
           }
          ],
          "scattermapbox": [
           {
            "marker": {
             "colorbar": {
              "outlinewidth": 0,
              "ticks": ""
             }
            },
            "type": "scattermapbox"
           }
          ],
          "scatterpolar": [
           {
            "marker": {
             "colorbar": {
              "outlinewidth": 0,
              "ticks": ""
             }
            },
            "type": "scatterpolar"
           }
          ],
          "scatterpolargl": [
           {
            "marker": {
             "colorbar": {
              "outlinewidth": 0,
              "ticks": ""
             }
            },
            "type": "scatterpolargl"
           }
          ],
          "scatterternary": [
           {
            "marker": {
             "colorbar": {
              "outlinewidth": 0,
              "ticks": ""
             }
            },
            "type": "scatterternary"
           }
          ],
          "surface": [
           {
            "colorbar": {
             "outlinewidth": 0,
             "ticks": ""
            },
            "colorscale": [
             [
              0,
              "#0d0887"
             ],
             [
              0.1111111111111111,
              "#46039f"
             ],
             [
              0.2222222222222222,
              "#7201a8"
             ],
             [
              0.3333333333333333,
              "#9c179e"
             ],
             [
              0.4444444444444444,
              "#bd3786"
             ],
             [
              0.5555555555555556,
              "#d8576b"
             ],
             [
              0.6666666666666666,
              "#ed7953"
             ],
             [
              0.7777777777777778,
              "#fb9f3a"
             ],
             [
              0.8888888888888888,
              "#fdca26"
             ],
             [
              1,
              "#f0f921"
             ]
            ],
            "type": "surface"
           }
          ],
          "table": [
           {
            "cells": {
             "fill": {
              "color": "#EBF0F8"
             },
             "line": {
              "color": "white"
             }
            },
            "header": {
             "fill": {
              "color": "#C8D4E3"
             },
             "line": {
              "color": "white"
             }
            },
            "type": "table"
           }
          ]
         },
         "layout": {
          "annotationdefaults": {
           "arrowcolor": "#2a3f5f",
           "arrowhead": 0,
           "arrowwidth": 1
          },
          "coloraxis": {
           "colorbar": {
            "outlinewidth": 0,
            "ticks": ""
           }
          },
          "colorscale": {
           "diverging": [
            [
             0,
             "#8e0152"
            ],
            [
             0.1,
             "#c51b7d"
            ],
            [
             0.2,
             "#de77ae"
            ],
            [
             0.3,
             "#f1b6da"
            ],
            [
             0.4,
             "#fde0ef"
            ],
            [
             0.5,
             "#f7f7f7"
            ],
            [
             0.6,
             "#e6f5d0"
            ],
            [
             0.7,
             "#b8e186"
            ],
            [
             0.8,
             "#7fbc41"
            ],
            [
             0.9,
             "#4d9221"
            ],
            [
             1,
             "#276419"
            ]
           ],
           "sequential": [
            [
             0,
             "#0d0887"
            ],
            [
             0.1111111111111111,
             "#46039f"
            ],
            [
             0.2222222222222222,
             "#7201a8"
            ],
            [
             0.3333333333333333,
             "#9c179e"
            ],
            [
             0.4444444444444444,
             "#bd3786"
            ],
            [
             0.5555555555555556,
             "#d8576b"
            ],
            [
             0.6666666666666666,
             "#ed7953"
            ],
            [
             0.7777777777777778,
             "#fb9f3a"
            ],
            [
             0.8888888888888888,
             "#fdca26"
            ],
            [
             1,
             "#f0f921"
            ]
           ],
           "sequentialminus": [
            [
             0,
             "#0d0887"
            ],
            [
             0.1111111111111111,
             "#46039f"
            ],
            [
             0.2222222222222222,
             "#7201a8"
            ],
            [
             0.3333333333333333,
             "#9c179e"
            ],
            [
             0.4444444444444444,
             "#bd3786"
            ],
            [
             0.5555555555555556,
             "#d8576b"
            ],
            [
             0.6666666666666666,
             "#ed7953"
            ],
            [
             0.7777777777777778,
             "#fb9f3a"
            ],
            [
             0.8888888888888888,
             "#fdca26"
            ],
            [
             1,
             "#f0f921"
            ]
           ]
          },
          "colorway": [
           "#636efa",
           "#EF553B",
           "#00cc96",
           "#ab63fa",
           "#FFA15A",
           "#19d3f3",
           "#FF6692",
           "#B6E880",
           "#FF97FF",
           "#FECB52"
          ],
          "font": {
           "color": "#2a3f5f"
          },
          "geo": {
           "bgcolor": "white",
           "lakecolor": "white",
           "landcolor": "#E5ECF6",
           "showlakes": true,
           "showland": true,
           "subunitcolor": "white"
          },
          "hoverlabel": {
           "align": "left"
          },
          "hovermode": "closest",
          "mapbox": {
           "style": "light"
          },
          "paper_bgcolor": "white",
          "plot_bgcolor": "#E5ECF6",
          "polar": {
           "angularaxis": {
            "gridcolor": "white",
            "linecolor": "white",
            "ticks": ""
           },
           "bgcolor": "#E5ECF6",
           "radialaxis": {
            "gridcolor": "white",
            "linecolor": "white",
            "ticks": ""
           }
          },
          "scene": {
           "xaxis": {
            "backgroundcolor": "#E5ECF6",
            "gridcolor": "white",
            "gridwidth": 2,
            "linecolor": "white",
            "showbackground": true,
            "ticks": "",
            "zerolinecolor": "white"
           },
           "yaxis": {
            "backgroundcolor": "#E5ECF6",
            "gridcolor": "white",
            "gridwidth": 2,
            "linecolor": "white",
            "showbackground": true,
            "ticks": "",
            "zerolinecolor": "white"
           },
           "zaxis": {
            "backgroundcolor": "#E5ECF6",
            "gridcolor": "white",
            "gridwidth": 2,
            "linecolor": "white",
            "showbackground": true,
            "ticks": "",
            "zerolinecolor": "white"
           }
          },
          "shapedefaults": {
           "line": {
            "color": "#2a3f5f"
           }
          },
          "ternary": {
           "aaxis": {
            "gridcolor": "white",
            "linecolor": "white",
            "ticks": ""
           },
           "baxis": {
            "gridcolor": "white",
            "linecolor": "white",
            "ticks": ""
           },
           "bgcolor": "#E5ECF6",
           "caxis": {
            "gridcolor": "white",
            "linecolor": "white",
            "ticks": ""
           }
          },
          "title": {
           "x": 0.05
          },
          "xaxis": {
           "automargin": true,
           "gridcolor": "white",
           "linecolor": "white",
           "ticks": "",
           "title": {
            "standoff": 15
           },
           "zerolinecolor": "white",
           "zerolinewidth": 2
          },
          "yaxis": {
           "automargin": true,
           "gridcolor": "white",
           "linecolor": "white",
           "ticks": "",
           "title": {
            "standoff": 15
           },
           "zerolinecolor": "white",
           "zerolinewidth": 2
          }
         }
        },
        "title": {
         "font": {
          "color": "#4D5663"
         },
         "text": "Carrilero"
        },
        "xaxis": {
         "gridcolor": "#E1E5ED",
         "showgrid": true,
         "tickfont": {
          "color": "#4D5663"
         },
         "title": {
          "font": {
           "color": "#4D5663"
          },
          "text": "Key Passes/90"
         },
         "zerolinecolor": "#E1E5ED"
        },
        "yaxis": {
         "gridcolor": "#E1E5ED",
         "showgrid": true,
         "tickfont": {
          "color": "#4D5663"
         },
         "title": {
          "font": {
           "color": "#4D5663"
          },
          "text": "Pass Completion %"
         },
         "zerolinecolor": "#E1E5ED"
        }
       }
      },
      "text/html": [
       "<div>\n",
       "        \n",
       "        \n",
       "            <div id=\"b2513578-531b-4ce6-b526-402e8261ac58\" class=\"plotly-graph-div\" style=\"height:525px; width:100%;\"></div>\n",
       "            <script type=\"text/javascript\">\n",
       "                require([\"plotly\"], function(Plotly) {\n",
       "                    window.PLOTLYENV=window.PLOTLYENV || {};\n",
       "                    window.PLOTLYENV.BASE_URL='https://plot.ly';\n",
       "                    \n",
       "                if (document.getElementById(\"b2513578-531b-4ce6-b526-402e8261ac58\")) {\n",
       "                    Plotly.newPlot(\n",
       "                        'b2513578-531b-4ce6-b526-402e8261ac58',\n",
       "                        [{\"line\": {\"color\": \"rgba(255, 153, 51, 1.0)\", \"dash\": \"solid\", \"shape\": \"linear\", \"width\": 1.3}, \"marker\": {\"size\": 10, \"symbol\": \"circle\"}, \"mode\": \"markers\", \"name\": \"Pas %\", \"text\": [\"Djibril Diakit\\u00c3\\u00a9\", \"Jo\\u00c3\\u00a3o Tavares\", \"Matej Hudecek\", \"Adrian Rybak\", \"Oskar Repka\", \"Maciej Obodecki\", \"Ivo Kralj\", \"Bartosz Sobczyk\", \"Ivan Tomac\", \"Nikola Bogdanovski\", \"Stefan Velickovic\", \"Andrija Zakoc\", \"Aur\\u00c3\\u00a9lien Nguiamba\", \"Flynn Downes\", \"Nikola Puzic\", \"Andjelo Kacavenda\", \"Tymoteusz Puchacz\", \"Felix Brunmayr\", \"Lennart Grill\", \"Josip Rakic\", \"Stefan Randjelovic\", \"Radoslaw Dzierbicki\", \"Alexandar Ubavic\", \"Veljko Jovkovic\", \"Mariano G\\u00c3\\u00b3mez\", \"David Bumberger\", \"Enrico Huss\", \"Mateo Jaksic\", \"Konrad Jozwicki\", \"Nikita Marusenko\", \"Djordje Jovanovic\", \"Filip Lisnic\", \"Dawid Szalas\", \"Vladimir Ilic\", \"Marcin Mackowiak\", \"Florin Codrean\", \"David Otto\", \"Stefan Golubovic\", \"Keanan Bennetts\", \"Andrej Vukas\", \"Jannik Tepe\", \"Mladen Devetak\", \"Tom Baack\", \"Jan Sobocinski\", \"Tom\\u00c3\\u00a1s Blanco\", \"Sinan Karweina\", \"Ben Williams\", \"Arkadiusz Zajaczkowski\", \"Miguel Reisinho\", \"Filp Ceko\", \"Michel St\\u00c3\\u00b6cker\", \"J\\u00c3\\u00a9r\\u00c3\\u00b4me Deom\", \"Ranko Jokic\", \"Palko D\\u00c3\\u00a1rdai\", \"Aleksander Tomasz\", \"Alex Vigo\", \"Daniel Bielica\", \"Marko Djira\", \"Norbert Walczak\", \"Boris Moltenis\", \"Julius Kade\", \"Goran Buljandric\", \"Jannis K\\u00c3\\u00bcbler\", \"Aleksa Jovanovic\", \"Tomasz Owczarek\", \"David Wittkowski\", \"Konrad Zaklika\", \"Pawel Karbowinski\", \"Nicky Werner\", \"Julijan Popovic\", \"Nassim Boujellab\", \"Bartlomiej Gajda\", \"Nemanja Matijevic\", \"Marko Denic\", \"Robert Baar\", \"Tuta\", \"Dusan Jokovic\", \"Tomasz Dzida\", \"Aleksa Pejic\", \"Krsta Bojic\", \"Sikou Niakat\\u00c3\\u00a9\", \"Tomasz Makowski\", \"Sebastian Gwozdz\", \"Adrian Polanski\", \"Bryan Mbeumo\", \"Dorin Sirbu\", \"Elvis Novalic\", \"Micka\\u00c3\\u00abl Cuisance\", \"Mateusz Madzia\", \"Jes\\u00c3\\u00bas Vargas\", \"Marino Jedvaj\", \"Raphael Assibey-Mensah\", \"Lukasz Sztylka\", \"Zoran Zrnzevic\", \"Alex Krawiec\", \"Petar Melezovic\", \"Tomasz Kurek\", \"Danko Radic\", \"Paul Mensah\", \"Jordan Williams\", \"Mario Mustapic\", \"Nikola Trickovic\", \"Patrik Delic\", \"Maciej Famulak\", \"Wiktor Nahrebecki\", \"Barne Poggenberg\", \"Mirza Jasarevic\", \"Ratko Minic\", \"Semih \\u00c5\\u009eahin\", \"Matej Santek\", \"Georgios Siadas\", \"Tyrese Campbell\", \"Martin Krizmanic\", \"Kacper Laskos\", \"Aleksa Milojevic\", \"Cheick Doucour\\u00c3\\u00a9\", \"Ivan Jakovljev\", \"Przemyslaw Zdybowicz\", \"Sven Botman\", \"Malik Karaahmet\", \"Lukas Kr\\u00c3\\u00bcger\", \"Niclas Stierlin\", \"Mane Markovic\", \"Karol Czubak\", \"Ilija Dejanovic\", \"Pascal Hackethal\", \"Oleg Gorin\", \"Michal Zieba\", \"Miodrag Maljkovic\", \"Jakov Blagaic\", \"Harisson Marcelin\", \"Vice Bazdaric\", \"Daniel Liszka\", \"Jan Sieracki\", \"Jhonny Lucas\", \"Tymoteusz Klups\", \"Josip Sutalo\", \"Othman Boussaid\", \"Evert Linthorst\", \"Jusuf Gazibegovic\", \"Virgiliu Postolachi\", \"Luis G\\u00c3\\u00b6rlich\", \"Andrej Ilic\", \"Daniel Haritonov\", \"Patryk Drabik\", \"Tom Dobek-Pietrowski\", \"Michal Mydlarz\", \"Cho Jeong-Hui\", \"Mohamed Loua\", \"Nemanja Zikic\", \"Emir Sejdovic\", \"Samuel Lengle\", \"Mateusz Duchowski\", \"Iliya Gruev\", \"Bartosz Borun\", \"Juraj Ljubic\", \"Gon\\u00c3\\u00a7alo Rebelo\", \"Dominik Resetar\", \"Jurica Prsir\", \"Piotr Wujec\", \"Jan Majsterek\", \"Mitchel Bakker\", \"Kamil Piatkowski\", \"Michal Ozga\", \"Karol Turek\", \"Toni Karimovic\", \"Billy Crellin\", \"Konrad Sieracki\", \"Vando Luis\", \"Jan Los\", \"Jessic Ngankam\", \"Adam Borkowski\", \"Julian Rieckmann\", \"Luka Pavlak\", \"Robert Ion\", \"Linus Rosenl\\u00c3\\u00b6cher\", \"Eugen Telch\", \"Nicholas Wunsch\", \"Dawid Kisly\", \"Uros Miloradovic\", \"Alois Oroz\", \"Luca Bazzoli\", \"Ronan Darcy\", \"Yann-Aurel Bisseck\", \"Timo Bornemann\", \"Radivoj Bosic\", \"Jakov Katusa\", \"Kacper Jozefiak\", \"Szymon Mroczko\", \"Karol Struski\", \"Wojciech Kaminski\", \"Piotr Lisowski\", \"Daishawn Redan\", \"Kacper Smolinski\", \"Lukas Sch\\u00c3\\u00b6fl\", \"Mikolaj Labojko\", \"Jakub Karbownik\", \"Damir Magdic\", \"Karol Malec\", \"Patryk Wozniak\", \"Can Bozdogan\", \"Aleksander Paluszek\", \"Mario Cuic\", \"Dragoljub Savic\", \"Nathan Collins\", \"Dominik Pila\", \"Mihael Kupresak\", \"Manu Kon\\u00c3\\u00a9\", \"Niels Hahn\", \"Tin Hrvoj\", \"Lucas Da Cunha\", \"Rahim Ibrahim\", \"Renato Josipovic\", \"Han-Noah Massengo\", \"Kacper Wiatrak\", \"Bartosz Kuzniarski\", \"Adrian Petk\", \"Fabian Tauchhammer\", \"Bartlomiej Mruk\", \"Jakub Rudek\", \"Jakub Swiecinski\", \"Jakub Nowakowski\", \"Kamil Dabrowski\", \"Yuri Sprandel Flores\", \"Stefan Radmanovac\", \"Kamal Bafounta\", \"Filip Marchwinski\", \"Kamil Lukoszek\", \"Jakub Niewiadomski\", \"Dominik Kedzior\", \"Joe Gelhardt\", \"Filip Sobiecki\", \"Fran Tomek\", \"Hubert Wasiewski\", \"Djordje Vasic\", \"Jakub Zima\", \"Damian Makuch\", \"Andrzej Kloda\", \"Stipe Biuk\", \"Mateusz Pienczak\", \"FIlip Brekalo\", \"Stefan Despotovski\", \"Jakub Kisiel\", \"Duje Skugor\", \"Martin Baturina\", \"Radoslaw Cielemecki\", \"Ariel Mosor\", \"Nikola Petkovic\", \"Nikodem Sujecki\", \"Ivan Mandic\", \"Stanislaw Loch\", \"Dario Grgic\", \"Wojciech Szybka\", \"Kacper Szmidt\", \"Vukasin Krstic\", \"Obrendo Doesburg\", \"Casper Elderman\", \"Predrag Jovic\", \"Daniel Hoyo-Kowalski\", \"Darijo Basic\", \"Wiktor Mosur\", \"Uros Mirkovic\", \"Marcos Rodr\\u00c3\\u00adguez\", \"Adrian \\u00c5\\u00a2apu\", \"Paul Mari\", \"Pawel Muzylowski\", \"Dragan Radovic\", \"Szymon Kobeszko\", \"Marcin Dabrowski\", \"Jorge Delgado\", \"Daniel Piesio\", null], \"type\": \"scatter\", \"x\": [\"-\", \"-\", \"0.11\", \"0.12\", \"-\", \"-\", \"-\", \"0.15\", \"0.42\", \"0.58\", \"0.23\", \"0.25\", \"0.28\", \"0.44\", \"1.04\", \"0.26\", \"0.23\", \"0.25\", \"0.10\", \"0.15\", \"0.14\", \"0.33\", \"-\", \"0.57\", \"0.22\", \"0.23\", \"0.26\", \"0.14\", \"0.46\", \"0.40\", \"0.46\", \"0.06\", \"0.44\", \"0.10\", \"0.24\", \"-\", \"0.34\", \"0.05\", \"0.48\", \"0.29\", \"0.38\", \"0.52\", \"0.40\", \"0.29\", \"-\", \"0.40\", \"0.08\", \"0.32\", \"0.58\", \"0.17\", \"0.31\", \"0.43\", \"0.11\", \"0.99\", \"-\", \"0.06\", \"0.17\", \"0.75\", \"-\", \"0.06\", \"0.79\", \"-\", \"1.01\", \"0.15\", \"0.12\", \"0.20\", \"0.27\", \"0.32\", \"0.19\", \"0.32\", \"0.86\", \"0.40\", \"0.47\", \"-\", \"0.20\", \"-\", \"0.25\", \"0.68\", \"0.34\", \"0.37\", \"0.19\", \"0.33\", \"-\", \"0.35\", \"0.45\", \"-\", \"0.60\", \"1.07\", \"0.05\", \"0.39\", \"-\", \"-\", \"0.26\", \"-\", \"1.74\", \"-\", \"0.61\", \"0.70\", \"0.45\", \"0.29\", \"0.17\", \"0.25\", \"-\", \"0.85\", \"0.85\", \"0.23\", \"0.24\", \"0.71\", \"0.53\", \"0.67\", \"0.44\", \"0.17\", \"0.11\", \"0.18\", \"0.12\", \"0.86\", \"-\", \"0.20\", \"0.06\", \"-\", \"0.30\", \"0.41\", \"0.10\", \"0.21\", \"-\", \"0.48\", \"0.44\", \"0.32\", \"0.49\", \"0.69\", \"0.06\", \"0.06\", \"0.88\", \"0.54\", \"0.46\", \"0.22\", \"0.14\", \"-\", \"0.14\", \"0.51\", \"-\", \"0.37\", \"0.29\", \"0.30\", \"0.60\", \"0.82\", \"0.71\", \"0.09\", \"0.07\", \"-\", \"0.96\", \"0.51\", \"0.94\", \"0.18\", \"0.66\", \"0.40\", \"-\", \"0.17\", \"0.88\", \"0.06\", \"0.60\", \"0.18\", \"0.27\", \"0.36\", \"0.41\", \"0.72\", \"-\", \"0.56\", \"-\", \"0.45\", \"0.46\", \"0.08\", \"0.21\", \"1.22\", \"0.66\", \"0.29\", \"-\", \"0.38\", \"0.23\", \"0.68\", \"0.06\", \"0.59\", \"0.47\", \"0.16\", \"0.14\", \"0.18\", \"1.10\", \"0.08\", \"0.20\", \"0.71\", \"0.26\", \"0.36\", \"0.15\", \"0.30\", \"-\", \"-\", \"0.08\", \"0.23\", \"0.14\", \"0.94\", \"0.56\", \"-\", \"0.24\", \"-\", \"0.07\", \"0.09\", \"0.49\", \"-\", \"-\", \"0.32\", \"-\", \"-\", \"0.06\", \"0.56\", \"-\", \"0.31\", \"0.47\", \"-\", \"0.22\", \"0.81\", \"0.11\", \"-\", \"0.14\", \"0.03\", \"0.27\", \"0.31\", \"1.01\", \"0.23\", \"0.33\", \"0.44\", \"0.06\", \"0.38\", \"0.83\", \"0.07\", \"0.48\", \"-\", \"0.15\", \"0.17\", \"0.90\", \"-\", \"0.29\", \"0.20\", \"0.63\", \"0.15\", \"0.43\", \"0.70\", \"0.15\", \"1.25\", \"0.07\", \"0.15\", \"1.06\", \"0.52\", \"0.54\", \"0.59\", \"0.21\", \"-\", \"-\", \"0.90\", \"-\", \"0.25\", \"0.44\", \"0.34\", \"0.24\", \"0.16\", \"0.17\", \"0.86\", \"0.75\", \"0.18\", \"0.25\", \"0.42\", \"0.70\", null], \"y\": [\"64%\", \"66%\", \"68%\", \"71%\", \"71%\", \"61%\", \"71%\", \"69%\", \"70%\", \"70%\", \"76%\", \"68%\", \"80%\", \"83%\", \"69%\", \"77%\", \"71%\", \"68%\", \"48%\", \"68%\", \"43%\", \"69%\", \"67%\", \"64%\", \"71%\", \"74%\", \"73%\", \"68%\", \"76%\", \"75%\", \"65%\", \"72%\", \"57%\", \"70%\", \"75%\", \"74%\", \"65%\", \"61%\", \"64%\", \"57%\", \"62%\", \"73%\", \"88%\", \"82%\", \"64%\", \"64%\", \"72%\", \"71%\", \"75%\", \"64%\", \"74%\", \"63%\", \"69%\", \"68%\", \"74%\", \"72%\", \"44%\", \"76%\", \"61%\", \"78%\", \"91%\", \"61%\", \"70%\", \"74%\", \"70%\", \"65%\", \"72%\", \"63%\", \"61%\", \"70%\", \"71%\", \"74%\", \"61%\", \"70%\", \"67%\", \"84%\", \"75%\", \"66%\", \"76%\", \"66%\", \"77%\", \"82%\", \"73%\", \"64%\", \"65%\", \"68%\", \"77%\", \"80%\", \"66%\", \"66%\", \"72%\", \"70%\", \"66%\", \"67%\", \"61%\", \"70%\", \"63%\", \"64%\", \"66%\", \"71%\", \"42%\", \"79%\", \"68%\", \"74%\", \"72%\", \"67%\", \"64%\", \"68%\", \"68%\", \"76%\", \"71%\", \"66%\", \"68%\", \"78%\", \"47%\", \"77%\", \"72%\", \"60%\", \"76%\", \"58%\", \"68%\", \"73%\", \"44%\", \"62%\", \"65%\", \"71%\", \"68%\", \"72%\", \"64%\", \"71%\", \"71%\", \"47%\", \"68%\", \"70%\", \"75%\", \"70%\", \"74%\", \"68%\", \"72%\", \"69%\", \"57%\", \"70%\", \"64%\", \"70%\", \"70%\", \"69%\", \"69%\", \"66%\", \"82%\", \"73%\", \"74%\", \"71%\", \"73%\", \"78%\", \"69%\", \"71%\", \"68%\", \"63%\", \"72%\", \"70%\", \"69%\", \"73%\", \"75%\", \"70%\", \"69%\", \"65%\", \"58%\", \"72%\", \"68%\", \"65%\", \"65%\", \"66%\", \"79%\", \"71%\", \"65%\", \"66%\", \"69%\", \"59%\", \"72%\", \"77%\", \"68%\", \"73%\", \"74%\", \"76%\", \"61%\", \"64%\", \"65%\", \"71%\", \"66%\", \"68%\", \"77%\", \"72%\", \"66%\", \"71%\", \"71%\", \"72%\", \"66%\", \"67%\", \"63%\", \"70%\", \"74%\", \"71%\", \"72%\", \"73%\", \"78%\", \"73%\", \"63%\", \"69%\", \"72%\", \"69%\", \"72%\", \"70%\", \"51%\", \"77%\", \"69%\", \"61%\", \"76%\", \"73%\", \"72%\", \"75%\", \"72%\", \"70%\", \"65%\", \"71%\", \"68%\", \"80%\", \"74%\", \"62%\", \"67%\", \"63%\", \"55%\", \"70%\", \"78%\", \"48%\", \"74%\", \"76%\", \"69%\", \"68%\", \"72%\", \"73%\", \"73%\", \"70%\", \"71%\", \"57%\", \"70%\", \"67%\", \"75%\", \"76%\", \"51%\", \"46%\", \"71%\", \"71%\", \"75%\", \"72%\", \"73%\", \"75%\", \"73%\", \"72%\", \"68%\", \"72%\", \"64%\", \"62%\", \"70%\", \"68%\", \"77%\", \"71%\", \"67%\", \"75%\", \"70%\", \"73%\", \"72%\", \"\"]}],\n",
       "                        {\"legend\": {\"bgcolor\": \"#F5F6F9\", \"font\": {\"color\": \"#4D5663\"}}, \"paper_bgcolor\": \"#F5F6F9\", \"plot_bgcolor\": \"#F5F6F9\", \"template\": {\"data\": {\"bar\": [{\"error_x\": {\"color\": \"#2a3f5f\"}, \"error_y\": {\"color\": \"#2a3f5f\"}, \"marker\": {\"line\": {\"color\": \"#E5ECF6\", \"width\": 0.5}}, \"type\": \"bar\"}], \"barpolar\": [{\"marker\": {\"line\": {\"color\": \"#E5ECF6\", \"width\": 0.5}}, \"type\": \"barpolar\"}], \"carpet\": [{\"aaxis\": {\"endlinecolor\": \"#2a3f5f\", \"gridcolor\": \"white\", \"linecolor\": \"white\", \"minorgridcolor\": \"white\", \"startlinecolor\": \"#2a3f5f\"}, \"baxis\": {\"endlinecolor\": \"#2a3f5f\", \"gridcolor\": \"white\", \"linecolor\": \"white\", \"minorgridcolor\": \"white\", \"startlinecolor\": \"#2a3f5f\"}, \"type\": \"carpet\"}], \"choropleth\": [{\"colorbar\": {\"outlinewidth\": 0, \"ticks\": \"\"}, \"type\": \"choropleth\"}], \"contour\": [{\"colorbar\": {\"outlinewidth\": 0, \"ticks\": \"\"}, \"colorscale\": [[0.0, \"#0d0887\"], [0.1111111111111111, \"#46039f\"], [0.2222222222222222, \"#7201a8\"], [0.3333333333333333, \"#9c179e\"], [0.4444444444444444, \"#bd3786\"], [0.5555555555555556, \"#d8576b\"], [0.6666666666666666, \"#ed7953\"], [0.7777777777777778, \"#fb9f3a\"], [0.8888888888888888, \"#fdca26\"], [1.0, \"#f0f921\"]], \"type\": \"contour\"}], \"contourcarpet\": [{\"colorbar\": {\"outlinewidth\": 0, \"ticks\": \"\"}, \"type\": \"contourcarpet\"}], \"heatmap\": [{\"colorbar\": {\"outlinewidth\": 0, \"ticks\": \"\"}, \"colorscale\": [[0.0, \"#0d0887\"], [0.1111111111111111, \"#46039f\"], [0.2222222222222222, \"#7201a8\"], [0.3333333333333333, \"#9c179e\"], [0.4444444444444444, \"#bd3786\"], [0.5555555555555556, \"#d8576b\"], [0.6666666666666666, \"#ed7953\"], [0.7777777777777778, \"#fb9f3a\"], [0.8888888888888888, \"#fdca26\"], [1.0, \"#f0f921\"]], \"type\": \"heatmap\"}], \"heatmapgl\": [{\"colorbar\": {\"outlinewidth\": 0, \"ticks\": \"\"}, \"colorscale\": [[0.0, \"#0d0887\"], [0.1111111111111111, \"#46039f\"], [0.2222222222222222, \"#7201a8\"], [0.3333333333333333, \"#9c179e\"], [0.4444444444444444, \"#bd3786\"], [0.5555555555555556, \"#d8576b\"], [0.6666666666666666, \"#ed7953\"], [0.7777777777777778, \"#fb9f3a\"], [0.8888888888888888, \"#fdca26\"], [1.0, \"#f0f921\"]], \"type\": \"heatmapgl\"}], \"histogram\": [{\"marker\": {\"colorbar\": {\"outlinewidth\": 0, \"ticks\": \"\"}}, \"type\": \"histogram\"}], \"histogram2d\": [{\"colorbar\": {\"outlinewidth\": 0, \"ticks\": \"\"}, \"colorscale\": [[0.0, \"#0d0887\"], [0.1111111111111111, \"#46039f\"], [0.2222222222222222, \"#7201a8\"], [0.3333333333333333, \"#9c179e\"], [0.4444444444444444, \"#bd3786\"], [0.5555555555555556, \"#d8576b\"], [0.6666666666666666, \"#ed7953\"], [0.7777777777777778, \"#fb9f3a\"], [0.8888888888888888, \"#fdca26\"], [1.0, \"#f0f921\"]], \"type\": \"histogram2d\"}], \"histogram2dcontour\": [{\"colorbar\": {\"outlinewidth\": 0, \"ticks\": \"\"}, \"colorscale\": [[0.0, \"#0d0887\"], [0.1111111111111111, \"#46039f\"], [0.2222222222222222, \"#7201a8\"], [0.3333333333333333, \"#9c179e\"], [0.4444444444444444, \"#bd3786\"], [0.5555555555555556, \"#d8576b\"], [0.6666666666666666, \"#ed7953\"], [0.7777777777777778, \"#fb9f3a\"], [0.8888888888888888, \"#fdca26\"], [1.0, \"#f0f921\"]], \"type\": \"histogram2dcontour\"}], \"mesh3d\": [{\"colorbar\": {\"outlinewidth\": 0, \"ticks\": \"\"}, \"type\": \"mesh3d\"}], \"parcoords\": [{\"line\": {\"colorbar\": {\"outlinewidth\": 0, \"ticks\": \"\"}}, \"type\": \"parcoords\"}], \"pie\": [{\"automargin\": true, \"type\": \"pie\"}], \"scatter\": [{\"marker\": {\"colorbar\": {\"outlinewidth\": 0, \"ticks\": \"\"}}, \"type\": \"scatter\"}], \"scatter3d\": [{\"line\": {\"colorbar\": {\"outlinewidth\": 0, \"ticks\": \"\"}}, \"marker\": {\"colorbar\": {\"outlinewidth\": 0, \"ticks\": \"\"}}, \"type\": \"scatter3d\"}], \"scattercarpet\": [{\"marker\": {\"colorbar\": {\"outlinewidth\": 0, \"ticks\": \"\"}}, \"type\": \"scattercarpet\"}], \"scattergeo\": [{\"marker\": {\"colorbar\": {\"outlinewidth\": 0, \"ticks\": \"\"}}, \"type\": \"scattergeo\"}], \"scattergl\": [{\"marker\": {\"colorbar\": {\"outlinewidth\": 0, \"ticks\": \"\"}}, \"type\": \"scattergl\"}], \"scattermapbox\": [{\"marker\": {\"colorbar\": {\"outlinewidth\": 0, \"ticks\": \"\"}}, \"type\": \"scattermapbox\"}], \"scatterpolar\": [{\"marker\": {\"colorbar\": {\"outlinewidth\": 0, \"ticks\": \"\"}}, \"type\": \"scatterpolar\"}], \"scatterpolargl\": [{\"marker\": {\"colorbar\": {\"outlinewidth\": 0, \"ticks\": \"\"}}, \"type\": \"scatterpolargl\"}], \"scatterternary\": [{\"marker\": {\"colorbar\": {\"outlinewidth\": 0, \"ticks\": \"\"}}, \"type\": \"scatterternary\"}], \"surface\": [{\"colorbar\": {\"outlinewidth\": 0, \"ticks\": \"\"}, \"colorscale\": [[0.0, \"#0d0887\"], [0.1111111111111111, \"#46039f\"], [0.2222222222222222, \"#7201a8\"], [0.3333333333333333, \"#9c179e\"], [0.4444444444444444, \"#bd3786\"], [0.5555555555555556, \"#d8576b\"], [0.6666666666666666, \"#ed7953\"], [0.7777777777777778, \"#fb9f3a\"], [0.8888888888888888, \"#fdca26\"], [1.0, \"#f0f921\"]], \"type\": \"surface\"}], \"table\": [{\"cells\": {\"fill\": {\"color\": \"#EBF0F8\"}, \"line\": {\"color\": \"white\"}}, \"header\": {\"fill\": {\"color\": \"#C8D4E3\"}, \"line\": {\"color\": \"white\"}}, \"type\": \"table\"}]}, \"layout\": {\"annotationdefaults\": {\"arrowcolor\": \"#2a3f5f\", \"arrowhead\": 0, \"arrowwidth\": 1}, \"coloraxis\": {\"colorbar\": {\"outlinewidth\": 0, \"ticks\": \"\"}}, \"colorscale\": {\"diverging\": [[0, \"#8e0152\"], [0.1, \"#c51b7d\"], [0.2, \"#de77ae\"], [0.3, \"#f1b6da\"], [0.4, \"#fde0ef\"], [0.5, \"#f7f7f7\"], [0.6, \"#e6f5d0\"], [0.7, \"#b8e186\"], [0.8, \"#7fbc41\"], [0.9, \"#4d9221\"], [1, \"#276419\"]], \"sequential\": [[0.0, \"#0d0887\"], [0.1111111111111111, \"#46039f\"], [0.2222222222222222, \"#7201a8\"], [0.3333333333333333, \"#9c179e\"], [0.4444444444444444, \"#bd3786\"], [0.5555555555555556, \"#d8576b\"], [0.6666666666666666, \"#ed7953\"], [0.7777777777777778, \"#fb9f3a\"], [0.8888888888888888, \"#fdca26\"], [1.0, \"#f0f921\"]], \"sequentialminus\": [[0.0, \"#0d0887\"], [0.1111111111111111, \"#46039f\"], [0.2222222222222222, \"#7201a8\"], [0.3333333333333333, \"#9c179e\"], [0.4444444444444444, \"#bd3786\"], [0.5555555555555556, \"#d8576b\"], [0.6666666666666666, \"#ed7953\"], [0.7777777777777778, \"#fb9f3a\"], [0.8888888888888888, \"#fdca26\"], [1.0, \"#f0f921\"]]}, \"colorway\": [\"#636efa\", \"#EF553B\", \"#00cc96\", \"#ab63fa\", \"#FFA15A\", \"#19d3f3\", \"#FF6692\", \"#B6E880\", \"#FF97FF\", \"#FECB52\"], \"font\": {\"color\": \"#2a3f5f\"}, \"geo\": {\"bgcolor\": \"white\", \"lakecolor\": \"white\", \"landcolor\": \"#E5ECF6\", \"showlakes\": true, \"showland\": true, \"subunitcolor\": \"white\"}, \"hoverlabel\": {\"align\": \"left\"}, \"hovermode\": \"closest\", \"mapbox\": {\"style\": \"light\"}, \"paper_bgcolor\": \"white\", \"plot_bgcolor\": \"#E5ECF6\", \"polar\": {\"angularaxis\": {\"gridcolor\": \"white\", \"linecolor\": \"white\", \"ticks\": \"\"}, \"bgcolor\": \"#E5ECF6\", \"radialaxis\": {\"gridcolor\": \"white\", \"linecolor\": \"white\", \"ticks\": \"\"}}, \"scene\": {\"xaxis\": {\"backgroundcolor\": \"#E5ECF6\", \"gridcolor\": \"white\", \"gridwidth\": 2, \"linecolor\": \"white\", \"showbackground\": true, \"ticks\": \"\", \"zerolinecolor\": \"white\"}, \"yaxis\": {\"backgroundcolor\": \"#E5ECF6\", \"gridcolor\": \"white\", \"gridwidth\": 2, \"linecolor\": \"white\", \"showbackground\": true, \"ticks\": \"\", \"zerolinecolor\": \"white\"}, \"zaxis\": {\"backgroundcolor\": \"#E5ECF6\", \"gridcolor\": \"white\", \"gridwidth\": 2, \"linecolor\": \"white\", \"showbackground\": true, \"ticks\": \"\", \"zerolinecolor\": \"white\"}}, \"shapedefaults\": {\"line\": {\"color\": \"#2a3f5f\"}}, \"ternary\": {\"aaxis\": {\"gridcolor\": \"white\", \"linecolor\": \"white\", \"ticks\": \"\"}, \"baxis\": {\"gridcolor\": \"white\", \"linecolor\": \"white\", \"ticks\": \"\"}, \"bgcolor\": \"#E5ECF6\", \"caxis\": {\"gridcolor\": \"white\", \"linecolor\": \"white\", \"ticks\": \"\"}}, \"title\": {\"x\": 0.05}, \"xaxis\": {\"automargin\": true, \"gridcolor\": \"white\", \"linecolor\": \"white\", \"ticks\": \"\", \"title\": {\"standoff\": 15}, \"zerolinecolor\": \"white\", \"zerolinewidth\": 2}, \"yaxis\": {\"automargin\": true, \"gridcolor\": \"white\", \"linecolor\": \"white\", \"ticks\": \"\", \"title\": {\"standoff\": 15}, \"zerolinecolor\": \"white\", \"zerolinewidth\": 2}}}, \"title\": {\"font\": {\"color\": \"#4D5663\"}, \"text\": \"Carrilero\"}, \"xaxis\": {\"gridcolor\": \"#E1E5ED\", \"showgrid\": true, \"tickfont\": {\"color\": \"#4D5663\"}, \"title\": {\"font\": {\"color\": \"#4D5663\"}, \"text\": \"Key Passes/90\"}, \"zerolinecolor\": \"#E1E5ED\"}, \"yaxis\": {\"gridcolor\": \"#E1E5ED\", \"showgrid\": true, \"tickfont\": {\"color\": \"#4D5663\"}, \"title\": {\"font\": {\"color\": \"#4D5663\"}, \"text\": \"Pass Completion %\"}, \"zerolinecolor\": \"#E1E5ED\"}},\n",
       "                        {\"showLink\": true, \"linkText\": \"Export to plot.ly\", \"plotlyServerURL\": \"https://plot.ly\", \"responsive\": true}\n",
       "                    ).then(function(){\n",
       "                            \n",
       "var gd = document.getElementById('b2513578-531b-4ce6-b526-402e8261ac58');\n",
       "var x = new MutationObserver(function (mutations, observer) {{\n",
       "        var display = window.getComputedStyle(gd).display;\n",
       "        if (!display || display === 'none') {{\n",
       "            console.log([gd, 'removed!']);\n",
       "            Plotly.purge(gd);\n",
       "            observer.disconnect();\n",
       "        }}\n",
       "}});\n",
       "\n",
       "// Listen for the removal of the full notebook cells\n",
       "var notebookContainer = gd.closest('#notebook-container');\n",
       "if (notebookContainer) {{\n",
       "    x.observe(notebookContainer, {childList: true});\n",
       "}}\n",
       "\n",
       "// Listen for the clearing of the current output cell\n",
       "var outputEl = gd.closest('.output');\n",
       "if (outputEl) {{\n",
       "    x.observe(outputEl, {childList: true});\n",
       "}}\n",
       "\n",
       "                        })\n",
       "                };\n",
       "                });\n",
       "            </script>\n",
       "        </div>"
      ]
     },
     "metadata": {},
     "output_type": "display_data"
    }
   ],
   "source": [
    "df1.iplot(kind='scatter',x='K Ps/90',y='Pas %',\n",
    "           mode='markers',text='Name',size=10,\n",
    "          xTitle='Key Passes/90',yTitle='Pass Completion %',title='Carrilero')\t"
   ]
  },
  {
   "cell_type": "code",
   "execution_count": 20,
   "metadata": {},
   "outputs": [
    {
     "name": "stdout",
     "output_type": "stream",
     "text": [
      "Inside Forward Support\n"
     ]
    },
    {
     "data": {
      "text/html": [
       "<style  type=\"text/css\" >\n",
       "    #T_e0e716a9_91d2_11ea_86f6_4ceb428e4071row0_col1 {\n",
       "            background-color:  #d6e6f4;\n",
       "            color:  #000000;\n",
       "        }    #T_e0e716a9_91d2_11ea_86f6_4ceb428e4071row0_col2 {\n",
       "            background-color:  #2b7bba;\n",
       "            color:  #000000;\n",
       "        }    #T_e0e716a9_91d2_11ea_86f6_4ceb428e4071row0_col3 {\n",
       "            background-color:  #1764ab;\n",
       "            color:  #f1f1f1;\n",
       "        }    #T_e0e716a9_91d2_11ea_86f6_4ceb428e4071row0_col4 {\n",
       "            background-color:  #d0e1f2;\n",
       "            color:  #000000;\n",
       "        }    #T_e0e716a9_91d2_11ea_86f6_4ceb428e4071row0_col5 {\n",
       "            background-color:  #2b7bba;\n",
       "            color:  #000000;\n",
       "        }    #T_e0e716a9_91d2_11ea_86f6_4ceb428e4071row0_col6 {\n",
       "            background-color:  #f7fbff;\n",
       "            color:  #000000;\n",
       "        }    #T_e0e716a9_91d2_11ea_86f6_4ceb428e4071row0_col7 {\n",
       "            background-color:  #0b559f;\n",
       "            color:  #f1f1f1;\n",
       "        }    #T_e0e716a9_91d2_11ea_86f6_4ceb428e4071row0_col8 {\n",
       "            background-color:  #08306b;\n",
       "            color:  #f1f1f1;\n",
       "        }    #T_e0e716a9_91d2_11ea_86f6_4ceb428e4071row0_col9 {\n",
       "            background-color:  #abd0e6;\n",
       "            color:  #000000;\n",
       "        }    #T_e0e716a9_91d2_11ea_86f6_4ceb428e4071row0_col10 {\n",
       "            background-color:  #08306b;\n",
       "            color:  #f1f1f1;\n",
       "        }    #T_e0e716a9_91d2_11ea_86f6_4ceb428e4071row1_col1 {\n",
       "            background-color:  #d6e6f4;\n",
       "            color:  #000000;\n",
       "        }    #T_e0e716a9_91d2_11ea_86f6_4ceb428e4071row1_col2 {\n",
       "            background-color:  #539ecd;\n",
       "            color:  #000000;\n",
       "        }    #T_e0e716a9_91d2_11ea_86f6_4ceb428e4071row1_col3 {\n",
       "            background-color:  #94c4df;\n",
       "            color:  #000000;\n",
       "        }    #T_e0e716a9_91d2_11ea_86f6_4ceb428e4071row1_col4 {\n",
       "            background-color:  #6aaed6;\n",
       "            color:  #000000;\n",
       "        }    #T_e0e716a9_91d2_11ea_86f6_4ceb428e4071row1_col5 {\n",
       "            background-color:  #08306b;\n",
       "            color:  #f1f1f1;\n",
       "        }    #T_e0e716a9_91d2_11ea_86f6_4ceb428e4071row1_col6 {\n",
       "            background-color:  #6aaed6;\n",
       "            color:  #000000;\n",
       "        }    #T_e0e716a9_91d2_11ea_86f6_4ceb428e4071row1_col7 {\n",
       "            background-color:  #bad6eb;\n",
       "            color:  #000000;\n",
       "        }    #T_e0e716a9_91d2_11ea_86f6_4ceb428e4071row1_col8 {\n",
       "            background-color:  #6aaed6;\n",
       "            color:  #000000;\n",
       "        }    #T_e0e716a9_91d2_11ea_86f6_4ceb428e4071row1_col9 {\n",
       "            background-color:  #3787c0;\n",
       "            color:  #000000;\n",
       "        }    #T_e0e716a9_91d2_11ea_86f6_4ceb428e4071row1_col10 {\n",
       "            background-color:  #08306b;\n",
       "            color:  #f1f1f1;\n",
       "        }    #T_e0e716a9_91d2_11ea_86f6_4ceb428e4071row2_col1 {\n",
       "            background-color:  #abd0e6;\n",
       "            color:  #000000;\n",
       "        }    #T_e0e716a9_91d2_11ea_86f6_4ceb428e4071row2_col2 {\n",
       "            background-color:  #89bedc;\n",
       "            color:  #000000;\n",
       "        }    #T_e0e716a9_91d2_11ea_86f6_4ceb428e4071row2_col3 {\n",
       "            background-color:  #1764ab;\n",
       "            color:  #f1f1f1;\n",
       "        }    #T_e0e716a9_91d2_11ea_86f6_4ceb428e4071row2_col4 {\n",
       "            background-color:  #08306b;\n",
       "            color:  #f1f1f1;\n",
       "        }    #T_e0e716a9_91d2_11ea_86f6_4ceb428e4071row2_col5 {\n",
       "            background-color:  #f7fbff;\n",
       "            color:  #000000;\n",
       "        }    #T_e0e716a9_91d2_11ea_86f6_4ceb428e4071row2_col6 {\n",
       "            background-color:  #2070b4;\n",
       "            color:  #f1f1f1;\n",
       "        }    #T_e0e716a9_91d2_11ea_86f6_4ceb428e4071row2_col7 {\n",
       "            background-color:  #f7fbff;\n",
       "            color:  #000000;\n",
       "        }    #T_e0e716a9_91d2_11ea_86f6_4ceb428e4071row2_col8 {\n",
       "            background-color:  #c6dbef;\n",
       "            color:  #000000;\n",
       "        }    #T_e0e716a9_91d2_11ea_86f6_4ceb428e4071row2_col9 {\n",
       "            background-color:  #08306b;\n",
       "            color:  #f1f1f1;\n",
       "        }    #T_e0e716a9_91d2_11ea_86f6_4ceb428e4071row2_col10 {\n",
       "            background-color:  #1764ab;\n",
       "            color:  #f1f1f1;\n",
       "        }    #T_e0e716a9_91d2_11ea_86f6_4ceb428e4071row3_col1 {\n",
       "            background-color:  #08306b;\n",
       "            color:  #f1f1f1;\n",
       "        }    #T_e0e716a9_91d2_11ea_86f6_4ceb428e4071row3_col2 {\n",
       "            background-color:  #08306b;\n",
       "            color:  #f1f1f1;\n",
       "        }    #T_e0e716a9_91d2_11ea_86f6_4ceb428e4071row3_col3 {\n",
       "            background-color:  #d0e1f2;\n",
       "            color:  #000000;\n",
       "        }    #T_e0e716a9_91d2_11ea_86f6_4ceb428e4071row3_col4 {\n",
       "            background-color:  #6aaed6;\n",
       "            color:  #000000;\n",
       "        }    #T_e0e716a9_91d2_11ea_86f6_4ceb428e4071row3_col5 {\n",
       "            background-color:  #2b7bba;\n",
       "            color:  #000000;\n",
       "        }    #T_e0e716a9_91d2_11ea_86f6_4ceb428e4071row3_col6 {\n",
       "            background-color:  #6aaed6;\n",
       "            color:  #000000;\n",
       "        }    #T_e0e716a9_91d2_11ea_86f6_4ceb428e4071row3_col7 {\n",
       "            background-color:  #539ecd;\n",
       "            color:  #000000;\n",
       "        }    #T_e0e716a9_91d2_11ea_86f6_4ceb428e4071row3_col8 {\n",
       "            background-color:  #c6dbef;\n",
       "            color:  #000000;\n",
       "        }    #T_e0e716a9_91d2_11ea_86f6_4ceb428e4071row3_col9 {\n",
       "            background-color:  #d6e6f4;\n",
       "            color:  #000000;\n",
       "        }    #T_e0e716a9_91d2_11ea_86f6_4ceb428e4071row3_col10 {\n",
       "            background-color:  #4a98c9;\n",
       "            color:  #000000;\n",
       "        }    #T_e0e716a9_91d2_11ea_86f6_4ceb428e4071row4_col1 {\n",
       "            background-color:  #f7fbff;\n",
       "            color:  #000000;\n",
       "        }    #T_e0e716a9_91d2_11ea_86f6_4ceb428e4071row4_col2 {\n",
       "            background-color:  #dbe9f6;\n",
       "            color:  #000000;\n",
       "        }    #T_e0e716a9_91d2_11ea_86f6_4ceb428e4071row4_col3 {\n",
       "            background-color:  #f7fbff;\n",
       "            color:  #000000;\n",
       "        }    #T_e0e716a9_91d2_11ea_86f6_4ceb428e4071row4_col4 {\n",
       "            background-color:  #084a91;\n",
       "            color:  #f1f1f1;\n",
       "        }    #T_e0e716a9_91d2_11ea_86f6_4ceb428e4071row4_col5 {\n",
       "            background-color:  #539ecd;\n",
       "            color:  #000000;\n",
       "        }    #T_e0e716a9_91d2_11ea_86f6_4ceb428e4071row4_col6 {\n",
       "            background-color:  #6aaed6;\n",
       "            color:  #000000;\n",
       "        }    #T_e0e716a9_91d2_11ea_86f6_4ceb428e4071row4_col7 {\n",
       "            background-color:  #539ecd;\n",
       "            color:  #000000;\n",
       "        }    #T_e0e716a9_91d2_11ea_86f6_4ceb428e4071row4_col8 {\n",
       "            background-color:  #2070b4;\n",
       "            color:  #f1f1f1;\n",
       "        }    #T_e0e716a9_91d2_11ea_86f6_4ceb428e4071row4_col9 {\n",
       "            background-color:  #abd0e6;\n",
       "            color:  #000000;\n",
       "        }    #T_e0e716a9_91d2_11ea_86f6_4ceb428e4071row4_col10 {\n",
       "            background-color:  #94c4df;\n",
       "            color:  #000000;\n",
       "        }    #T_e0e716a9_91d2_11ea_86f6_4ceb428e4071row5_col1 {\n",
       "            background-color:  #105ba4;\n",
       "            color:  #f1f1f1;\n",
       "        }    #T_e0e716a9_91d2_11ea_86f6_4ceb428e4071row5_col2 {\n",
       "            background-color:  #0b559f;\n",
       "            color:  #f1f1f1;\n",
       "        }    #T_e0e716a9_91d2_11ea_86f6_4ceb428e4071row5_col3 {\n",
       "            background-color:  #d0e1f2;\n",
       "            color:  #000000;\n",
       "        }    #T_e0e716a9_91d2_11ea_86f6_4ceb428e4071row5_col4 {\n",
       "            background-color:  #1764ab;\n",
       "            color:  #f1f1f1;\n",
       "        }    #T_e0e716a9_91d2_11ea_86f6_4ceb428e4071row5_col5 {\n",
       "            background-color:  #f7fbff;\n",
       "            color:  #000000;\n",
       "        }    #T_e0e716a9_91d2_11ea_86f6_4ceb428e4071row5_col6 {\n",
       "            background-color:  #c6dbef;\n",
       "            color:  #000000;\n",
       "        }    #T_e0e716a9_91d2_11ea_86f6_4ceb428e4071row5_col7 {\n",
       "            background-color:  #08306b;\n",
       "            color:  #f1f1f1;\n",
       "        }    #T_e0e716a9_91d2_11ea_86f6_4ceb428e4071row5_col8 {\n",
       "            background-color:  #f7fbff;\n",
       "            color:  #000000;\n",
       "        }    #T_e0e716a9_91d2_11ea_86f6_4ceb428e4071row5_col9 {\n",
       "            background-color:  #abd0e6;\n",
       "            color:  #000000;\n",
       "        }    #T_e0e716a9_91d2_11ea_86f6_4ceb428e4071row5_col10 {\n",
       "            background-color:  #94c4df;\n",
       "            color:  #000000;\n",
       "        }    #T_e0e716a9_91d2_11ea_86f6_4ceb428e4071row6_col1 {\n",
       "            background-color:  #3787c0;\n",
       "            color:  #000000;\n",
       "        }    #T_e0e716a9_91d2_11ea_86f6_4ceb428e4071row6_col2 {\n",
       "            background-color:  #89bedc;\n",
       "            color:  #000000;\n",
       "        }    #T_e0e716a9_91d2_11ea_86f6_4ceb428e4071row6_col3 {\n",
       "            background-color:  #1764ab;\n",
       "            color:  #f1f1f1;\n",
       "        }    #T_e0e716a9_91d2_11ea_86f6_4ceb428e4071row6_col4 {\n",
       "            background-color:  #2e7ebc;\n",
       "            color:  #000000;\n",
       "        }    #T_e0e716a9_91d2_11ea_86f6_4ceb428e4071row6_col5 {\n",
       "            background-color:  #539ecd;\n",
       "            color:  #000000;\n",
       "        }    #T_e0e716a9_91d2_11ea_86f6_4ceb428e4071row6_col6 {\n",
       "            background-color:  #c6dbef;\n",
       "            color:  #000000;\n",
       "        }    #T_e0e716a9_91d2_11ea_86f6_4ceb428e4071row6_col7 {\n",
       "            background-color:  #89bedc;\n",
       "            color:  #000000;\n",
       "        }    #T_e0e716a9_91d2_11ea_86f6_4ceb428e4071row6_col8 {\n",
       "            background-color:  #6aaed6;\n",
       "            color:  #000000;\n",
       "        }    #T_e0e716a9_91d2_11ea_86f6_4ceb428e4071row6_col9 {\n",
       "            background-color:  #f7fbff;\n",
       "            color:  #000000;\n",
       "        }    #T_e0e716a9_91d2_11ea_86f6_4ceb428e4071row6_col10 {\n",
       "            background-color:  #d0e1f2;\n",
       "            color:  #000000;\n",
       "        }    #T_e0e716a9_91d2_11ea_86f6_4ceb428e4071row7_col1 {\n",
       "            background-color:  #105ba4;\n",
       "            color:  #f1f1f1;\n",
       "        }    #T_e0e716a9_91d2_11ea_86f6_4ceb428e4071row7_col2 {\n",
       "            background-color:  #f7fbff;\n",
       "            color:  #000000;\n",
       "        }    #T_e0e716a9_91d2_11ea_86f6_4ceb428e4071row7_col3 {\n",
       "            background-color:  #1764ab;\n",
       "            color:  #f1f1f1;\n",
       "        }    #T_e0e716a9_91d2_11ea_86f6_4ceb428e4071row7_col4 {\n",
       "            background-color:  #b7d4ea;\n",
       "            color:  #000000;\n",
       "        }    #T_e0e716a9_91d2_11ea_86f6_4ceb428e4071row7_col5 {\n",
       "            background-color:  #89bedc;\n",
       "            color:  #000000;\n",
       "        }    #T_e0e716a9_91d2_11ea_86f6_4ceb428e4071row7_col6 {\n",
       "            background-color:  #6aaed6;\n",
       "            color:  #000000;\n",
       "        }    #T_e0e716a9_91d2_11ea_86f6_4ceb428e4071row7_col7 {\n",
       "            background-color:  #2b7bba;\n",
       "            color:  #000000;\n",
       "        }    #T_e0e716a9_91d2_11ea_86f6_4ceb428e4071row7_col8 {\n",
       "            background-color:  #2070b4;\n",
       "            color:  #f1f1f1;\n",
       "        }    #T_e0e716a9_91d2_11ea_86f6_4ceb428e4071row7_col9 {\n",
       "            background-color:  #3787c0;\n",
       "            color:  #000000;\n",
       "        }    #T_e0e716a9_91d2_11ea_86f6_4ceb428e4071row7_col10 {\n",
       "            background-color:  #d0e1f2;\n",
       "            color:  #000000;\n",
       "        }    #T_e0e716a9_91d2_11ea_86f6_4ceb428e4071row8_col1 {\n",
       "            background-color:  #abd0e6;\n",
       "            color:  #000000;\n",
       "        }    #T_e0e716a9_91d2_11ea_86f6_4ceb428e4071row8_col2 {\n",
       "            background-color:  #2b7bba;\n",
       "            color:  #000000;\n",
       "        }    #T_e0e716a9_91d2_11ea_86f6_4ceb428e4071row8_col3 {\n",
       "            background-color:  #08306b;\n",
       "            color:  #f1f1f1;\n",
       "        }    #T_e0e716a9_91d2_11ea_86f6_4ceb428e4071row8_col4 {\n",
       "            background-color:  #d0e1f2;\n",
       "            color:  #000000;\n",
       "        }    #T_e0e716a9_91d2_11ea_86f6_4ceb428e4071row8_col5 {\n",
       "            background-color:  #bad6eb;\n",
       "            color:  #000000;\n",
       "        }    #T_e0e716a9_91d2_11ea_86f6_4ceb428e4071row8_col6 {\n",
       "            background-color:  #2070b4;\n",
       "            color:  #f1f1f1;\n",
       "        }    #T_e0e716a9_91d2_11ea_86f6_4ceb428e4071row8_col7 {\n",
       "            background-color:  #89bedc;\n",
       "            color:  #000000;\n",
       "        }    #T_e0e716a9_91d2_11ea_86f6_4ceb428e4071row8_col8 {\n",
       "            background-color:  #c6dbef;\n",
       "            color:  #000000;\n",
       "        }    #T_e0e716a9_91d2_11ea_86f6_4ceb428e4071row8_col9 {\n",
       "            background-color:  #abd0e6;\n",
       "            color:  #000000;\n",
       "        }    #T_e0e716a9_91d2_11ea_86f6_4ceb428e4071row8_col10 {\n",
       "            background-color:  #f7fbff;\n",
       "            color:  #000000;\n",
       "        }    #T_e0e716a9_91d2_11ea_86f6_4ceb428e4071row9_col1 {\n",
       "            background-color:  #d6e6f4;\n",
       "            color:  #000000;\n",
       "        }    #T_e0e716a9_91d2_11ea_86f6_4ceb428e4071row9_col2 {\n",
       "            background-color:  #0b559f;\n",
       "            color:  #f1f1f1;\n",
       "        }    #T_e0e716a9_91d2_11ea_86f6_4ceb428e4071row9_col3 {\n",
       "            background-color:  #4a98c9;\n",
       "            color:  #000000;\n",
       "        }    #T_e0e716a9_91d2_11ea_86f6_4ceb428e4071row9_col4 {\n",
       "            background-color:  #f7fbff;\n",
       "            color:  #000000;\n",
       "        }    #T_e0e716a9_91d2_11ea_86f6_4ceb428e4071row9_col5 {\n",
       "            background-color:  #dbe9f6;\n",
       "            color:  #000000;\n",
       "        }    #T_e0e716a9_91d2_11ea_86f6_4ceb428e4071row9_col6 {\n",
       "            background-color:  #08306b;\n",
       "            color:  #f1f1f1;\n",
       "        }    #T_e0e716a9_91d2_11ea_86f6_4ceb428e4071row9_col7 {\n",
       "            background-color:  #539ecd;\n",
       "            color:  #000000;\n",
       "        }    #T_e0e716a9_91d2_11ea_86f6_4ceb428e4071row9_col8 {\n",
       "            background-color:  #6aaed6;\n",
       "            color:  #000000;\n",
       "        }    #T_e0e716a9_91d2_11ea_86f6_4ceb428e4071row9_col9 {\n",
       "            background-color:  #6aaed6;\n",
       "            color:  #000000;\n",
       "        }    #T_e0e716a9_91d2_11ea_86f6_4ceb428e4071row9_col10 {\n",
       "            background-color:  #f7fbff;\n",
       "            color:  #000000;\n",
       "        }</style><table id=\"T_e0e716a9_91d2_11ea_86f6_4ceb428e4071\" ><thead>    <tr>        <th class=\"col_heading level0 col0\" >Name</th>        <th class=\"col_heading level0 col1\" >Age</th>        <th class=\"col_heading level0 col2\" >Dri</th>        <th class=\"col_heading level0 col3\" >Fir</th>        <th class=\"col_heading level0 col4\" >Pas</th>        <th class=\"col_heading level0 col5\" >Tec</th>        <th class=\"col_heading level0 col6\" >OtB</th>        <th class=\"col_heading level0 col7\" >Acc</th>        <th class=\"col_heading level0 col8\" >Agi</th>        <th class=\"col_heading level0 col9\" >Bal</th>        <th class=\"col_heading level0 col10\" >ifs_score</th>    </tr></thead><tbody>\n",
       "                <tr>\n",
       "                                <td id=\"T_e0e716a9_91d2_11ea_86f6_4ceb428e4071row0_col0\" class=\"data row0 col0\" >Filipe Cerqueira</td>\n",
       "                        <td id=\"T_e0e716a9_91d2_11ea_86f6_4ceb428e4071row0_col1\" class=\"data row0 col1\" >                  18</td>\n",
       "                        <td id=\"T_e0e716a9_91d2_11ea_86f6_4ceb428e4071row0_col2\" class=\"data row0 col2\" >13</td>\n",
       "                        <td id=\"T_e0e716a9_91d2_11ea_86f6_4ceb428e4071row0_col3\" class=\"data row0 col3\" >15</td>\n",
       "                        <td id=\"T_e0e716a9_91d2_11ea_86f6_4ceb428e4071row0_col4\" class=\"data row0 col4\" >9</td>\n",
       "                        <td id=\"T_e0e716a9_91d2_11ea_86f6_4ceb428e4071row0_col5\" class=\"data row0 col5\" >15</td>\n",
       "                        <td id=\"T_e0e716a9_91d2_11ea_86f6_4ceb428e4071row0_col6\" class=\"data row0 col6\" >10</td>\n",
       "                        <td id=\"T_e0e716a9_91d2_11ea_86f6_4ceb428e4071row0_col7\" class=\"data row0 col7\" >15</td>\n",
       "                        <td id=\"T_e0e716a9_91d2_11ea_86f6_4ceb428e4071row0_col8\" class=\"data row0 col8\" >17</td>\n",
       "                        <td id=\"T_e0e716a9_91d2_11ea_86f6_4ceb428e4071row0_col9\" class=\"data row0 col9\" >12</td>\n",
       "                        <td id=\"T_e0e716a9_91d2_11ea_86f6_4ceb428e4071row0_col10\" class=\"data row0 col10\" >106</td>\n",
       "            </tr>\n",
       "            <tr>\n",
       "                                <td id=\"T_e0e716a9_91d2_11ea_86f6_4ceb428e4071row1_col0\" class=\"data row1 col0\" >Pawel Muzylowski</td>\n",
       "                        <td id=\"T_e0e716a9_91d2_11ea_86f6_4ceb428e4071row1_col1\" class=\"data row1 col1\" >                  18</td>\n",
       "                        <td id=\"T_e0e716a9_91d2_11ea_86f6_4ceb428e4071row1_col2\" class=\"data row1 col2\" >12</td>\n",
       "                        <td id=\"T_e0e716a9_91d2_11ea_86f6_4ceb428e4071row1_col3\" class=\"data row1 col3\" >13</td>\n",
       "                        <td id=\"T_e0e716a9_91d2_11ea_86f6_4ceb428e4071row1_col4\" class=\"data row1 col4\" >12</td>\n",
       "                        <td id=\"T_e0e716a9_91d2_11ea_86f6_4ceb428e4071row1_col5\" class=\"data row1 col5\" >17</td>\n",
       "                        <td id=\"T_e0e716a9_91d2_11ea_86f6_4ceb428e4071row1_col6\" class=\"data row1 col6\" >12</td>\n",
       "                        <td id=\"T_e0e716a9_91d2_11ea_86f6_4ceb428e4071row1_col7\" class=\"data row1 col7\" >11</td>\n",
       "                        <td id=\"T_e0e716a9_91d2_11ea_86f6_4ceb428e4071row1_col8\" class=\"data row1 col8\" >15</td>\n",
       "                        <td id=\"T_e0e716a9_91d2_11ea_86f6_4ceb428e4071row1_col9\" class=\"data row1 col9\" >14</td>\n",
       "                        <td id=\"T_e0e716a9_91d2_11ea_86f6_4ceb428e4071row1_col10\" class=\"data row1 col10\" >106</td>\n",
       "            </tr>\n",
       "            <tr>\n",
       "                                <td id=\"T_e0e716a9_91d2_11ea_86f6_4ceb428e4071row2_col0\" class=\"data row2 col0\" >Predrag Jovic</td>\n",
       "                        <td id=\"T_e0e716a9_91d2_11ea_86f6_4ceb428e4071row2_col1\" class=\"data row2 col1\" >                  19</td>\n",
       "                        <td id=\"T_e0e716a9_91d2_11ea_86f6_4ceb428e4071row2_col2\" class=\"data row2 col2\" >11</td>\n",
       "                        <td id=\"T_e0e716a9_91d2_11ea_86f6_4ceb428e4071row2_col3\" class=\"data row2 col3\" >15</td>\n",
       "                        <td id=\"T_e0e716a9_91d2_11ea_86f6_4ceb428e4071row2_col4\" class=\"data row2 col4\" >17</td>\n",
       "                        <td id=\"T_e0e716a9_91d2_11ea_86f6_4ceb428e4071row2_col5\" class=\"data row2 col5\" >10</td>\n",
       "                        <td id=\"T_e0e716a9_91d2_11ea_86f6_4ceb428e4071row2_col6\" class=\"data row2 col6\" >13</td>\n",
       "                        <td id=\"T_e0e716a9_91d2_11ea_86f6_4ceb428e4071row2_col7\" class=\"data row2 col7\" >9</td>\n",
       "                        <td id=\"T_e0e716a9_91d2_11ea_86f6_4ceb428e4071row2_col8\" class=\"data row2 col8\" >14</td>\n",
       "                        <td id=\"T_e0e716a9_91d2_11ea_86f6_4ceb428e4071row2_col9\" class=\"data row2 col9\" >16</td>\n",
       "                        <td id=\"T_e0e716a9_91d2_11ea_86f6_4ceb428e4071row2_col10\" class=\"data row2 col10\" >105</td>\n",
       "            </tr>\n",
       "            <tr>\n",
       "                                <td id=\"T_e0e716a9_91d2_11ea_86f6_4ceb428e4071row3_col0\" class=\"data row3 col0\" >JesÃºs Vargas</td>\n",
       "                        <td id=\"T_e0e716a9_91d2_11ea_86f6_4ceb428e4071row3_col1\" class=\"data row3 col1\" >                  23</td>\n",
       "                        <td id=\"T_e0e716a9_91d2_11ea_86f6_4ceb428e4071row3_col2\" class=\"data row3 col2\" >15</td>\n",
       "                        <td id=\"T_e0e716a9_91d2_11ea_86f6_4ceb428e4071row3_col3\" class=\"data row3 col3\" >12</td>\n",
       "                        <td id=\"T_e0e716a9_91d2_11ea_86f6_4ceb428e4071row3_col4\" class=\"data row3 col4\" >12</td>\n",
       "                        <td id=\"T_e0e716a9_91d2_11ea_86f6_4ceb428e4071row3_col5\" class=\"data row3 col5\" >15</td>\n",
       "                        <td id=\"T_e0e716a9_91d2_11ea_86f6_4ceb428e4071row3_col6\" class=\"data row3 col6\" >12</td>\n",
       "                        <td id=\"T_e0e716a9_91d2_11ea_86f6_4ceb428e4071row3_col7\" class=\"data row3 col7\" >13</td>\n",
       "                        <td id=\"T_e0e716a9_91d2_11ea_86f6_4ceb428e4071row3_col8\" class=\"data row3 col8\" >14</td>\n",
       "                        <td id=\"T_e0e716a9_91d2_11ea_86f6_4ceb428e4071row3_col9\" class=\"data row3 col9\" >11</td>\n",
       "                        <td id=\"T_e0e716a9_91d2_11ea_86f6_4ceb428e4071row3_col10\" class=\"data row3 col10\" >104</td>\n",
       "            </tr>\n",
       "            <tr>\n",
       "                                <td id=\"T_e0e716a9_91d2_11ea_86f6_4ceb428e4071row4_col0\" class=\"data row4 col0\" >Helderlan</td>\n",
       "                        <td id=\"T_e0e716a9_91d2_11ea_86f6_4ceb428e4071row4_col1\" class=\"data row4 col1\" >                  17</td>\n",
       "                        <td id=\"T_e0e716a9_91d2_11ea_86f6_4ceb428e4071row4_col2\" class=\"data row4 col2\" >9</td>\n",
       "                        <td id=\"T_e0e716a9_91d2_11ea_86f6_4ceb428e4071row4_col3\" class=\"data row4 col3\" >11</td>\n",
       "                        <td id=\"T_e0e716a9_91d2_11ea_86f6_4ceb428e4071row4_col4\" class=\"data row4 col4\" >16</td>\n",
       "                        <td id=\"T_e0e716a9_91d2_11ea_86f6_4ceb428e4071row4_col5\" class=\"data row4 col5\" >14</td>\n",
       "                        <td id=\"T_e0e716a9_91d2_11ea_86f6_4ceb428e4071row4_col6\" class=\"data row4 col6\" >12</td>\n",
       "                        <td id=\"T_e0e716a9_91d2_11ea_86f6_4ceb428e4071row4_col7\" class=\"data row4 col7\" >13</td>\n",
       "                        <td id=\"T_e0e716a9_91d2_11ea_86f6_4ceb428e4071row4_col8\" class=\"data row4 col8\" >16</td>\n",
       "                        <td id=\"T_e0e716a9_91d2_11ea_86f6_4ceb428e4071row4_col9\" class=\"data row4 col9\" >12</td>\n",
       "                        <td id=\"T_e0e716a9_91d2_11ea_86f6_4ceb428e4071row4_col10\" class=\"data row4 col10\" >103</td>\n",
       "            </tr>\n",
       "            <tr>\n",
       "                                <td id=\"T_e0e716a9_91d2_11ea_86f6_4ceb428e4071row5_col0\" class=\"data row5 col0\" >Semih Åahin</td>\n",
       "                        <td id=\"T_e0e716a9_91d2_11ea_86f6_4ceb428e4071row5_col1\" class=\"data row5 col1\" >                  22</td>\n",
       "                        <td id=\"T_e0e716a9_91d2_11ea_86f6_4ceb428e4071row5_col2\" class=\"data row5 col2\" >14</td>\n",
       "                        <td id=\"T_e0e716a9_91d2_11ea_86f6_4ceb428e4071row5_col3\" class=\"data row5 col3\" >12</td>\n",
       "                        <td id=\"T_e0e716a9_91d2_11ea_86f6_4ceb428e4071row5_col4\" class=\"data row5 col4\" >15</td>\n",
       "                        <td id=\"T_e0e716a9_91d2_11ea_86f6_4ceb428e4071row5_col5\" class=\"data row5 col5\" >10</td>\n",
       "                        <td id=\"T_e0e716a9_91d2_11ea_86f6_4ceb428e4071row5_col6\" class=\"data row5 col6\" >11</td>\n",
       "                        <td id=\"T_e0e716a9_91d2_11ea_86f6_4ceb428e4071row5_col7\" class=\"data row5 col7\" >16</td>\n",
       "                        <td id=\"T_e0e716a9_91d2_11ea_86f6_4ceb428e4071row5_col8\" class=\"data row5 col8\" >13</td>\n",
       "                        <td id=\"T_e0e716a9_91d2_11ea_86f6_4ceb428e4071row5_col9\" class=\"data row5 col9\" >12</td>\n",
       "                        <td id=\"T_e0e716a9_91d2_11ea_86f6_4ceb428e4071row5_col10\" class=\"data row5 col10\" >103</td>\n",
       "            </tr>\n",
       "            <tr>\n",
       "                                <td id=\"T_e0e716a9_91d2_11ea_86f6_4ceb428e4071row6_col0\" class=\"data row6 col0\" >Can Bozdogan</td>\n",
       "                        <td id=\"T_e0e716a9_91d2_11ea_86f6_4ceb428e4071row6_col1\" class=\"data row6 col1\" >                  21</td>\n",
       "                        <td id=\"T_e0e716a9_91d2_11ea_86f6_4ceb428e4071row6_col2\" class=\"data row6 col2\" >11</td>\n",
       "                        <td id=\"T_e0e716a9_91d2_11ea_86f6_4ceb428e4071row6_col3\" class=\"data row6 col3\" >15</td>\n",
       "                        <td id=\"T_e0e716a9_91d2_11ea_86f6_4ceb428e4071row6_col4\" class=\"data row6 col4\" >14</td>\n",
       "                        <td id=\"T_e0e716a9_91d2_11ea_86f6_4ceb428e4071row6_col5\" class=\"data row6 col5\" >14</td>\n",
       "                        <td id=\"T_e0e716a9_91d2_11ea_86f6_4ceb428e4071row6_col6\" class=\"data row6 col6\" >11</td>\n",
       "                        <td id=\"T_e0e716a9_91d2_11ea_86f6_4ceb428e4071row6_col7\" class=\"data row6 col7\" >12</td>\n",
       "                        <td id=\"T_e0e716a9_91d2_11ea_86f6_4ceb428e4071row6_col8\" class=\"data row6 col8\" >15</td>\n",
       "                        <td id=\"T_e0e716a9_91d2_11ea_86f6_4ceb428e4071row6_col9\" class=\"data row6 col9\" >10</td>\n",
       "                        <td id=\"T_e0e716a9_91d2_11ea_86f6_4ceb428e4071row6_col10\" class=\"data row6 col10\" >102</td>\n",
       "            </tr>\n",
       "            <tr>\n",
       "                                <td id=\"T_e0e716a9_91d2_11ea_86f6_4ceb428e4071row7_col0\" class=\"data row7 col0\" >Virgiliu Postolachi</td>\n",
       "                        <td id=\"T_e0e716a9_91d2_11ea_86f6_4ceb428e4071row7_col1\" class=\"data row7 col1\" >                  22</td>\n",
       "                        <td id=\"T_e0e716a9_91d2_11ea_86f6_4ceb428e4071row7_col2\" class=\"data row7 col2\" >8</td>\n",
       "                        <td id=\"T_e0e716a9_91d2_11ea_86f6_4ceb428e4071row7_col3\" class=\"data row7 col3\" >15</td>\n",
       "                        <td id=\"T_e0e716a9_91d2_11ea_86f6_4ceb428e4071row7_col4\" class=\"data row7 col4\" >10</td>\n",
       "                        <td id=\"T_e0e716a9_91d2_11ea_86f6_4ceb428e4071row7_col5\" class=\"data row7 col5\" >13</td>\n",
       "                        <td id=\"T_e0e716a9_91d2_11ea_86f6_4ceb428e4071row7_col6\" class=\"data row7 col6\" >12</td>\n",
       "                        <td id=\"T_e0e716a9_91d2_11ea_86f6_4ceb428e4071row7_col7\" class=\"data row7 col7\" >14</td>\n",
       "                        <td id=\"T_e0e716a9_91d2_11ea_86f6_4ceb428e4071row7_col8\" class=\"data row7 col8\" >16</td>\n",
       "                        <td id=\"T_e0e716a9_91d2_11ea_86f6_4ceb428e4071row7_col9\" class=\"data row7 col9\" >14</td>\n",
       "                        <td id=\"T_e0e716a9_91d2_11ea_86f6_4ceb428e4071row7_col10\" class=\"data row7 col10\" >102</td>\n",
       "            </tr>\n",
       "            <tr>\n",
       "                                <td id=\"T_e0e716a9_91d2_11ea_86f6_4ceb428e4071row8_col0\" class=\"data row8 col0\" >Adrian Å¢apu</td>\n",
       "                        <td id=\"T_e0e716a9_91d2_11ea_86f6_4ceb428e4071row8_col1\" class=\"data row8 col1\" >                  19</td>\n",
       "                        <td id=\"T_e0e716a9_91d2_11ea_86f6_4ceb428e4071row8_col2\" class=\"data row8 col2\" >13</td>\n",
       "                        <td id=\"T_e0e716a9_91d2_11ea_86f6_4ceb428e4071row8_col3\" class=\"data row8 col3\" >16</td>\n",
       "                        <td id=\"T_e0e716a9_91d2_11ea_86f6_4ceb428e4071row8_col4\" class=\"data row8 col4\" >9</td>\n",
       "                        <td id=\"T_e0e716a9_91d2_11ea_86f6_4ceb428e4071row8_col5\" class=\"data row8 col5\" >12</td>\n",
       "                        <td id=\"T_e0e716a9_91d2_11ea_86f6_4ceb428e4071row8_col6\" class=\"data row8 col6\" >13</td>\n",
       "                        <td id=\"T_e0e716a9_91d2_11ea_86f6_4ceb428e4071row8_col7\" class=\"data row8 col7\" >12</td>\n",
       "                        <td id=\"T_e0e716a9_91d2_11ea_86f6_4ceb428e4071row8_col8\" class=\"data row8 col8\" >14</td>\n",
       "                        <td id=\"T_e0e716a9_91d2_11ea_86f6_4ceb428e4071row8_col9\" class=\"data row8 col9\" >12</td>\n",
       "                        <td id=\"T_e0e716a9_91d2_11ea_86f6_4ceb428e4071row8_col10\" class=\"data row8 col10\" >101</td>\n",
       "            </tr>\n",
       "            <tr>\n",
       "                                <td id=\"T_e0e716a9_91d2_11ea_86f6_4ceb428e4071row9_col0\" class=\"data row9 col0\" >Milan Mugosa</td>\n",
       "                        <td id=\"T_e0e716a9_91d2_11ea_86f6_4ceb428e4071row9_col1\" class=\"data row9 col1\" >                  18</td>\n",
       "                        <td id=\"T_e0e716a9_91d2_11ea_86f6_4ceb428e4071row9_col2\" class=\"data row9 col2\" >14</td>\n",
       "                        <td id=\"T_e0e716a9_91d2_11ea_86f6_4ceb428e4071row9_col3\" class=\"data row9 col3\" >14</td>\n",
       "                        <td id=\"T_e0e716a9_91d2_11ea_86f6_4ceb428e4071row9_col4\" class=\"data row9 col4\" >7</td>\n",
       "                        <td id=\"T_e0e716a9_91d2_11ea_86f6_4ceb428e4071row9_col5\" class=\"data row9 col5\" >11</td>\n",
       "                        <td id=\"T_e0e716a9_91d2_11ea_86f6_4ceb428e4071row9_col6\" class=\"data row9 col6\" >14</td>\n",
       "                        <td id=\"T_e0e716a9_91d2_11ea_86f6_4ceb428e4071row9_col7\" class=\"data row9 col7\" >13</td>\n",
       "                        <td id=\"T_e0e716a9_91d2_11ea_86f6_4ceb428e4071row9_col8\" class=\"data row9 col8\" >15</td>\n",
       "                        <td id=\"T_e0e716a9_91d2_11ea_86f6_4ceb428e4071row9_col9\" class=\"data row9 col9\" >13</td>\n",
       "                        <td id=\"T_e0e716a9_91d2_11ea_86f6_4ceb428e4071row9_col10\" class=\"data row9 col10\" >101</td>\n",
       "            </tr>\n",
       "    </tbody></table>"
      ],
      "text/plain": [
       "<pandas.io.formats.style.Styler at 0xcd55280>"
      ]
     },
     "execution_count": 20,
     "metadata": {},
     "output_type": "execute_result"
    }
   ],
   "source": [
    "print(\"Inside Forward Support\")\n",
    "sorted_ifs = ifs.sort_values(by='ifs_score', ascending=False)\n",
    "sorted_ifs.head(10).style.format({\"Age\": \"{:20,.0f}\", \n",
    "                          })\\\n",
    "                       .hide_index()\\\n",
    "                       .background_gradient(cmap='Blues')"
   ]
  },
  {
   "cell_type": "code",
   "execution_count": 21,
   "metadata": {},
   "outputs": [
    {
     "data": {
      "application/vnd.plotly.v1+json": {
       "config": {
        "linkText": "Export to plot.ly",
        "plotlyServerURL": "https://plot.ly",
        "showLink": true
       },
       "data": [
        {
         "line": {
          "color": "rgba(255, 153, 51, 1.0)",
          "dash": "solid",
          "shape": "linear",
          "width": 1.3
         },
         "marker": {
          "size": 10,
          "symbol": "circle"
         },
         "mode": "markers",
         "name": "Ch C/90",
         "text": [
          "Djibril DiakitÃ©",
          "JoÃ£o Tavares",
          "Matej Hudecek",
          "Adrian Rybak",
          "Oskar Repka",
          "Maciej Obodecki",
          "Ivo Kralj",
          "Bartosz Sobczyk",
          "Ivan Tomac",
          "Nikola Bogdanovski",
          "Stefan Velickovic",
          "Andrija Zakoc",
          "AurÃ©lien Nguiamba",
          "Flynn Downes",
          "Nikola Puzic",
          "Andjelo Kacavenda",
          "Tymoteusz Puchacz",
          "Felix Brunmayr",
          "Lennart Grill",
          "Josip Rakic",
          "Stefan Randjelovic",
          "Radoslaw Dzierbicki",
          "Alexandar Ubavic",
          "Veljko Jovkovic",
          "Mariano GÃ³mez",
          "David Bumberger",
          "Enrico Huss",
          "Mateo Jaksic",
          "Konrad Jozwicki",
          "Nikita Marusenko",
          "Djordje Jovanovic",
          "Filip Lisnic",
          "Dawid Szalas",
          "Vladimir Ilic",
          "Marcin Mackowiak",
          "Florin Codrean",
          "David Otto",
          "Stefan Golubovic",
          "Keanan Bennetts",
          "Andrej Vukas",
          "Jannik Tepe",
          "Mladen Devetak",
          "Tom Baack",
          "Jan Sobocinski",
          "TomÃ¡s Blanco",
          "Sinan Karweina",
          "Ben Williams",
          "Arkadiusz Zajaczkowski",
          "Miguel Reisinho",
          "Filp Ceko",
          "Michel StÃ¶cker",
          "JÃ©rÃ´me Deom",
          "Ranko Jokic",
          "Palko DÃ¡rdai",
          "Aleksander Tomasz",
          "Alex Vigo",
          "Daniel Bielica",
          "Marko Djira",
          "Norbert Walczak",
          "Boris Moltenis",
          "Julius Kade",
          "Goran Buljandric",
          "Jannis KÃ¼bler",
          "Aleksa Jovanovic",
          "Tomasz Owczarek",
          "David Wittkowski",
          "Konrad Zaklika",
          "Pawel Karbowinski",
          "Nicky Werner",
          "Julijan Popovic",
          "Nassim Boujellab",
          "Bartlomiej Gajda",
          "Nemanja Matijevic",
          "Marko Denic",
          "Robert Baar",
          "Tuta",
          "Dusan Jokovic",
          "Tomasz Dzida",
          "Aleksa Pejic",
          "Krsta Bojic",
          "Sikou NiakatÃ©",
          "Tomasz Makowski",
          "Sebastian Gwozdz",
          "Adrian Polanski",
          "Bryan Mbeumo",
          "Dorin Sirbu",
          "Elvis Novalic",
          "MickaÃ«l Cuisance",
          "Mateusz Madzia",
          "JesÃºs Vargas",
          "Marino Jedvaj",
          "Raphael Assibey-Mensah",
          "Lukasz Sztylka",
          "Zoran Zrnzevic",
          "Alex Krawiec",
          "Petar Melezovic",
          "Tomasz Kurek",
          "Danko Radic",
          "Paul Mensah",
          "Jordan Williams",
          "Mario Mustapic",
          "Nikola Trickovic",
          "Patrik Delic",
          "Maciej Famulak",
          "Wiktor Nahrebecki",
          "Barne Poggenberg",
          "Mirza Jasarevic",
          "Ratko Minic",
          "Semih Åahin",
          "Matej Santek",
          "Georgios Siadas",
          "Tyrese Campbell",
          "Martin Krizmanic",
          "Kacper Laskos",
          "Aleksa Milojevic",
          "Cheick DoucourÃ©",
          "Ivan Jakovljev",
          "Przemyslaw Zdybowicz",
          "Sven Botman",
          "Malik Karaahmet",
          "Lukas KrÃ¼ger",
          "Niclas Stierlin",
          "Mane Markovic",
          "Karol Czubak",
          "Ilija Dejanovic",
          "Pascal Hackethal",
          "Oleg Gorin",
          "Michal Zieba",
          "Miodrag Maljkovic",
          "Jakov Blagaic",
          "Harisson Marcelin",
          "Vice Bazdaric",
          "Daniel Liszka",
          "Jan Sieracki",
          "Jhonny Lucas",
          "Tymoteusz Klups",
          "Josip Sutalo",
          "Othman Boussaid",
          "Evert Linthorst",
          "Jusuf Gazibegovic",
          "Virgiliu Postolachi",
          "Luis GÃ¶rlich",
          "Andrej Ilic",
          "Daniel Haritonov",
          "Patryk Drabik",
          "Tom Dobek-Pietrowski",
          "Michal Mydlarz",
          "Cho Jeong-Hui",
          "Mohamed Loua",
          "Nemanja Zikic",
          "Emir Sejdovic",
          "Samuel Lengle",
          "Mateusz Duchowski",
          "Iliya Gruev",
          "Bartosz Borun",
          "Juraj Ljubic",
          "GonÃ§alo Rebelo",
          "Dominik Resetar",
          "Jurica Prsir",
          "Piotr Wujec",
          "Jan Majsterek",
          "Mitchel Bakker",
          "Kamil Piatkowski",
          "Michal Ozga",
          "Karol Turek",
          "Toni Karimovic",
          "Billy Crellin",
          "Konrad Sieracki",
          "Vando Luis",
          "Jan Los",
          "Jessic Ngankam",
          "Adam Borkowski",
          "Julian Rieckmann",
          "Luka Pavlak",
          "Robert Ion",
          "Linus RosenlÃ¶cher",
          "Eugen Telch",
          "Nicholas Wunsch",
          "Dawid Kisly",
          "Uros Miloradovic",
          "Alois Oroz",
          "Luca Bazzoli",
          "Ronan Darcy",
          "Yann-Aurel Bisseck",
          "Timo Bornemann",
          "Radivoj Bosic",
          "Jakov Katusa",
          "Kacper Jozefiak",
          "Szymon Mroczko",
          "Karol Struski",
          "Wojciech Kaminski",
          "Piotr Lisowski",
          "Daishawn Redan",
          "Kacper Smolinski",
          "Lukas SchÃ¶fl",
          "Mikolaj Labojko",
          "Jakub Karbownik",
          "Damir Magdic",
          "Karol Malec",
          "Patryk Wozniak",
          "Can Bozdogan",
          "Aleksander Paluszek",
          "Mario Cuic",
          "Dragoljub Savic",
          "Nathan Collins",
          "Dominik Pila",
          "Mihael Kupresak",
          "Manu KonÃ©",
          "Niels Hahn",
          "Tin Hrvoj",
          "Lucas Da Cunha",
          "Rahim Ibrahim",
          "Renato Josipovic",
          "Han-Noah Massengo",
          "Kacper Wiatrak",
          "Bartosz Kuzniarski",
          "Adrian Petk",
          "Fabian Tauchhammer",
          "Bartlomiej Mruk",
          "Jakub Rudek",
          "Jakub Swiecinski",
          "Jakub Nowakowski",
          "Kamil Dabrowski",
          "Yuri Sprandel Flores",
          "Stefan Radmanovac",
          "Kamal Bafounta",
          "Filip Marchwinski",
          "Kamil Lukoszek",
          "Jakub Niewiadomski",
          "Dominik Kedzior",
          "Joe Gelhardt",
          "Filip Sobiecki",
          "Fran Tomek",
          "Hubert Wasiewski",
          "Djordje Vasic",
          "Jakub Zima",
          "Damian Makuch",
          "Andrzej Kloda",
          "Stipe Biuk",
          "Mateusz Pienczak",
          "FIlip Brekalo",
          "Stefan Despotovski",
          "Jakub Kisiel",
          "Duje Skugor",
          "Martin Baturina",
          "Radoslaw Cielemecki",
          "Ariel Mosor",
          "Nikola Petkovic",
          "Nikodem Sujecki",
          "Ivan Mandic",
          "Stanislaw Loch",
          "Dario Grgic",
          "Wojciech Szybka",
          "Kacper Szmidt",
          "Vukasin Krstic",
          "Obrendo Doesburg",
          "Casper Elderman",
          "Predrag Jovic",
          "Daniel Hoyo-Kowalski",
          "Darijo Basic",
          "Wiktor Mosur",
          "Uros Mirkovic",
          "Marcos RodrÃ­guez",
          "Adrian Å¢apu",
          "Paul Mari",
          "Pawel Muzylowski",
          "Dragan Radovic",
          "Szymon Kobeszko",
          "Marcin Dabrowski",
          "Jorge Delgado",
          "Daniel Piesio",
          null
         ],
         "type": "scatter",
         "x": [
          "-",
          "0.14",
          "0.11",
          "0.06",
          "-",
          "0.17",
          "-",
          "-",
          "0.23",
          "0.24",
          "0.15",
          "0.08",
          "0.06",
          "0.06",
          "0.44",
          "0.05",
          "0.08",
          "0.04",
          "-",
          "0.08",
          "-",
          "0.07",
          "0.22",
          "0.17",
          "0.17",
          "0.11",
          "0.20",
          "0.07",
          "0.06",
          "-",
          "0.08",
          "-",
          "0.27",
          "-",
          "0.06",
          "0.04",
          "0.06",
          "-",
          "0.13",
          "0.15",
          "-",
          "0.05",
          "-",
          "0.12",
          "0.08",
          "0.24",
          "-",
          "0.11",
          "0.22",
          "0.06",
          "0.05",
          "0.29",
          "0.11",
          "0.33",
          "0.12",
          "0.11",
          "-",
          "0.30",
          "0.14",
          "0.06",
          "0.12",
          "-",
          "0.27",
          "-",
          "-",
          "0.05",
          "0.05",
          "-",
          "0.10",
          "0.18",
          "0.46",
          "0.11",
          "0.14",
          "0.23",
          "0.05",
          "-",
          "-",
          "0.42",
          "0.11",
          "0.12",
          "0.13",
          "0.07",
          "0.13",
          "0.24",
          "0.08",
          "0.06",
          "0.18",
          "0.53",
          "0.05",
          "0.11",
          "0.16",
          "0.22",
          "0.09",
          "0.09",
          "0.93",
          "0.05",
          "0.37",
          "0.40",
          "0.19",
          "0.06",
          "-",
          "0.06",
          "0.09",
          "0.54",
          "0.59",
          "0.05",
          "0.18",
          "0.22",
          "0.34",
          "0.40",
          "0.17",
          "-",
          "-",
          "0.09",
          "-",
          "0.16",
          "-",
          "0.13",
          "-",
          "0.21",
          "-",
          "-",
          "-",
          "0.21",
          "0.13",
          "0.20",
          "0.09",
          "0.08",
          "0.27",
          "0.38",
          "-",
          "-",
          "0.38",
          "-",
          "0.08",
          "0.07",
          "0.07",
          "0.07",
          "0.21",
          "0.22",
          "0.07",
          "0.18",
          "-",
          "0.10",
          "0.45",
          "0.22",
          "0.38",
          "0.21",
          "-",
          "0.09",
          "0.39",
          "0.30",
          "0.25",
          "-",
          "0.30",
          "0.16",
          "0.13",
          "0.06",
          "0.18",
          "-",
          "0.17",
          "-",
          "0.11",
          "0.18",
          "0.16",
          "0.13",
          "-",
          "0.42",
          "0.04",
          "0.09",
          "0.33",
          "0.08",
          "0.11",
          "0.51",
          "0.06",
          "0.07",
          "0.26",
          "0.32",
          "0.06",
          "0.15",
          "0.06",
          "0.20",
          "0.18",
          "0.08",
          "0.09",
          "0.09",
          "0.32",
          "0.08",
          "0.07",
          "0.43",
          "-",
          "0.05",
          "0.10",
          "0.08",
          "0.18",
          "0.07",
          "0.08",
          "-",
          "-",
          "0.86",
          "0.25",
          "-",
          "-",
          "0.14",
          "-",
          "-",
          "0.21",
          "0.29",
          "0.06",
          "-",
          "0.12",
          "0.20",
          "-",
          "0.08",
          "0.05",
          "0.12",
          "0.17",
          "0.04",
          "0.06",
          "0.06",
          "0.06",
          "0.14",
          "-",
          "0.03",
          "0.05",
          "0.13",
          "0.09",
          "0.08",
          "0.13",
          "0.17",
          "0.06",
          "0.08",
          "0.26",
          "-",
          "0.08",
          "-",
          "0.15",
          "-",
          "0.28",
          "0.08",
          "0.15",
          "0.10",
          "0.24",
          "0.15",
          "-",
          "0.19",
          "-",
          "0.54",
          "-",
          "-",
          "0.08",
          "0.32",
          "0.08",
          "0.15",
          "-",
          "0.04",
          "-",
          "-",
          "-",
          "0.08",
          "0.13",
          "0.06",
          "-",
          "-",
          "0.06",
          "0.47",
          "0.41",
          "-",
          "-",
          "0.15",
          "0.13",
          null
         ],
         "y": [
          "-",
          "-",
          "0.67",
          "0.18",
          "0.56",
          "-",
          "0.57",
          "0.60",
          "1.45",
          "2.63",
          "1.22",
          "0.16",
          "0.28",
          "0.44",
          "3.62",
          "0.77",
          "0.60",
          "1.09",
          "-",
          "0.46",
          "-",
          "0.53",
          "-",
          "0.98",
          "0.17",
          "0.45",
          "0.65",
          "1.22",
          "1.44",
          "0.40",
          "0.85",
          "0.33",
          "1.97",
          "0.10",
          "0.77",
          "-",
          "0.68",
          "0.25",
          "0.83",
          "0.29",
          "0.70",
          "0.99",
          "-",
          "0.58",
          "1.01",
          "1.13",
          "0.62",
          "0.48",
          "0.87",
          "0.44",
          "0.46",
          "0.64",
          "0.56",
          "3.24",
          "-",
          "0.17",
          "-",
          "0.37",
          "-",
          "0.28",
          "0.37",
          "-",
          "1.08",
          "0.25",
          "0.12",
          "0.25",
          "0.33",
          "1.16",
          "0.53",
          "0.92",
          "1.15",
          "1.09",
          "1.42",
          "-",
          "0.34",
          "-",
          "0.43",
          "1.36",
          "1.32",
          "1.59",
          "0.52",
          "0.27",
          "-",
          "0.88",
          "1.89",
          "-",
          "1.70",
          "2.37",
          "0.33",
          "1.49",
          "-",
          "-",
          "0.97",
          "-",
          "3.37",
          "-",
          "0.55",
          "2.14",
          "1.09",
          "0.93",
          "-",
          "0.57",
          "-",
          "0.62",
          "2.29",
          "0.51",
          "0.78",
          "1.48",
          "1.79",
          "2.26",
          "1.06",
          "0.84",
          "0.16",
          "0.36",
          "-",
          "1.07",
          "-",
          "0.92",
          "0.11",
          "-",
          "1.02",
          "0.60",
          "-",
          "0.56",
          "-",
          "0.41",
          "2.38",
          "0.32",
          "1.48",
          "1.63",
          "-",
          "-",
          "2.33",
          "0.92",
          "1.38",
          "1.59",
          "0.29",
          "-",
          "0.84",
          "0.79",
          "-",
          "1.83",
          "0.81",
          "0.55",
          "1.94",
          "2.17",
          "1.85",
          "0.04",
          "0.50",
          "-",
          "1.87",
          "2.13",
          "0.88",
          "0.80",
          "3.17",
          "1.29",
          "-",
          "0.52",
          "2.72",
          "0.28",
          "0.51",
          "0.29",
          "0.44",
          "0.27",
          "0.65",
          "1.38",
          "-",
          "1.33",
          "-",
          "1.51",
          "1.11",
          "0.54",
          "0.32",
          "0.96",
          "1.02",
          "0.36",
          "-",
          "1.70",
          "0.59",
          "1.51",
          "0.71",
          "0.83",
          "0.23",
          "0.40",
          "0.87",
          "1.49",
          "2.13",
          "0.25",
          "0.14",
          "1.77",
          "0.20",
          "0.55",
          "0.64",
          "0.61",
          "-",
          "-",
          "1.14",
          "0.92",
          "0.79",
          "2.74",
          "1.25",
          "0.08",
          "0.40",
          "-",
          "0.44",
          "1.16",
          "1.39",
          "-",
          "-",
          "0.32",
          "-",
          "-",
          "-",
          "1.67",
          "-",
          "1.72",
          "1.34",
          "-",
          "0.39",
          "1.10",
          "0.77",
          "-",
          "1.51",
          "0.34",
          "0.43",
          "0.44",
          "1.57",
          "1.01",
          "0.13",
          "0.96",
          "-",
          "0.76",
          "1.54",
          "-",
          "0.48",
          "0.47",
          "-",
          "0.09",
          "2.32",
          "0.39",
          "0.81",
          "0.76",
          "1.26",
          "0.31",
          "2.48",
          "1.52",
          "0.45",
          "2.71",
          "-",
          "-",
          "1.95",
          "2.06",
          "1.38",
          "2.89",
          "0.21",
          "-",
          "0.35",
          "1.12",
          "0.15",
          "0.84",
          "1.70",
          "0.85",
          "0.40",
          "1.04",
          "0.51",
          "1.33",
          "1.97",
          "0.98",
          "0.89",
          "0.49",
          "1.59",
          ""
         ]
        }
       ],
       "layout": {
        "legend": {
         "bgcolor": "#F5F6F9",
         "font": {
          "color": "#4D5663"
         }
        },
        "paper_bgcolor": "#F5F6F9",
        "plot_bgcolor": "#F5F6F9",
        "template": {
         "data": {
          "bar": [
           {
            "error_x": {
             "color": "#2a3f5f"
            },
            "error_y": {
             "color": "#2a3f5f"
            },
            "marker": {
             "line": {
              "color": "#E5ECF6",
              "width": 0.5
             }
            },
            "type": "bar"
           }
          ],
          "barpolar": [
           {
            "marker": {
             "line": {
              "color": "#E5ECF6",
              "width": 0.5
             }
            },
            "type": "barpolar"
           }
          ],
          "carpet": [
           {
            "aaxis": {
             "endlinecolor": "#2a3f5f",
             "gridcolor": "white",
             "linecolor": "white",
             "minorgridcolor": "white",
             "startlinecolor": "#2a3f5f"
            },
            "baxis": {
             "endlinecolor": "#2a3f5f",
             "gridcolor": "white",
             "linecolor": "white",
             "minorgridcolor": "white",
             "startlinecolor": "#2a3f5f"
            },
            "type": "carpet"
           }
          ],
          "choropleth": [
           {
            "colorbar": {
             "outlinewidth": 0,
             "ticks": ""
            },
            "type": "choropleth"
           }
          ],
          "contour": [
           {
            "colorbar": {
             "outlinewidth": 0,
             "ticks": ""
            },
            "colorscale": [
             [
              0,
              "#0d0887"
             ],
             [
              0.1111111111111111,
              "#46039f"
             ],
             [
              0.2222222222222222,
              "#7201a8"
             ],
             [
              0.3333333333333333,
              "#9c179e"
             ],
             [
              0.4444444444444444,
              "#bd3786"
             ],
             [
              0.5555555555555556,
              "#d8576b"
             ],
             [
              0.6666666666666666,
              "#ed7953"
             ],
             [
              0.7777777777777778,
              "#fb9f3a"
             ],
             [
              0.8888888888888888,
              "#fdca26"
             ],
             [
              1,
              "#f0f921"
             ]
            ],
            "type": "contour"
           }
          ],
          "contourcarpet": [
           {
            "colorbar": {
             "outlinewidth": 0,
             "ticks": ""
            },
            "type": "contourcarpet"
           }
          ],
          "heatmap": [
           {
            "colorbar": {
             "outlinewidth": 0,
             "ticks": ""
            },
            "colorscale": [
             [
              0,
              "#0d0887"
             ],
             [
              0.1111111111111111,
              "#46039f"
             ],
             [
              0.2222222222222222,
              "#7201a8"
             ],
             [
              0.3333333333333333,
              "#9c179e"
             ],
             [
              0.4444444444444444,
              "#bd3786"
             ],
             [
              0.5555555555555556,
              "#d8576b"
             ],
             [
              0.6666666666666666,
              "#ed7953"
             ],
             [
              0.7777777777777778,
              "#fb9f3a"
             ],
             [
              0.8888888888888888,
              "#fdca26"
             ],
             [
              1,
              "#f0f921"
             ]
            ],
            "type": "heatmap"
           }
          ],
          "heatmapgl": [
           {
            "colorbar": {
             "outlinewidth": 0,
             "ticks": ""
            },
            "colorscale": [
             [
              0,
              "#0d0887"
             ],
             [
              0.1111111111111111,
              "#46039f"
             ],
             [
              0.2222222222222222,
              "#7201a8"
             ],
             [
              0.3333333333333333,
              "#9c179e"
             ],
             [
              0.4444444444444444,
              "#bd3786"
             ],
             [
              0.5555555555555556,
              "#d8576b"
             ],
             [
              0.6666666666666666,
              "#ed7953"
             ],
             [
              0.7777777777777778,
              "#fb9f3a"
             ],
             [
              0.8888888888888888,
              "#fdca26"
             ],
             [
              1,
              "#f0f921"
             ]
            ],
            "type": "heatmapgl"
           }
          ],
          "histogram": [
           {
            "marker": {
             "colorbar": {
              "outlinewidth": 0,
              "ticks": ""
             }
            },
            "type": "histogram"
           }
          ],
          "histogram2d": [
           {
            "colorbar": {
             "outlinewidth": 0,
             "ticks": ""
            },
            "colorscale": [
             [
              0,
              "#0d0887"
             ],
             [
              0.1111111111111111,
              "#46039f"
             ],
             [
              0.2222222222222222,
              "#7201a8"
             ],
             [
              0.3333333333333333,
              "#9c179e"
             ],
             [
              0.4444444444444444,
              "#bd3786"
             ],
             [
              0.5555555555555556,
              "#d8576b"
             ],
             [
              0.6666666666666666,
              "#ed7953"
             ],
             [
              0.7777777777777778,
              "#fb9f3a"
             ],
             [
              0.8888888888888888,
              "#fdca26"
             ],
             [
              1,
              "#f0f921"
             ]
            ],
            "type": "histogram2d"
           }
          ],
          "histogram2dcontour": [
           {
            "colorbar": {
             "outlinewidth": 0,
             "ticks": ""
            },
            "colorscale": [
             [
              0,
              "#0d0887"
             ],
             [
              0.1111111111111111,
              "#46039f"
             ],
             [
              0.2222222222222222,
              "#7201a8"
             ],
             [
              0.3333333333333333,
              "#9c179e"
             ],
             [
              0.4444444444444444,
              "#bd3786"
             ],
             [
              0.5555555555555556,
              "#d8576b"
             ],
             [
              0.6666666666666666,
              "#ed7953"
             ],
             [
              0.7777777777777778,
              "#fb9f3a"
             ],
             [
              0.8888888888888888,
              "#fdca26"
             ],
             [
              1,
              "#f0f921"
             ]
            ],
            "type": "histogram2dcontour"
           }
          ],
          "mesh3d": [
           {
            "colorbar": {
             "outlinewidth": 0,
             "ticks": ""
            },
            "type": "mesh3d"
           }
          ],
          "parcoords": [
           {
            "line": {
             "colorbar": {
              "outlinewidth": 0,
              "ticks": ""
             }
            },
            "type": "parcoords"
           }
          ],
          "pie": [
           {
            "automargin": true,
            "type": "pie"
           }
          ],
          "scatter": [
           {
            "marker": {
             "colorbar": {
              "outlinewidth": 0,
              "ticks": ""
             }
            },
            "type": "scatter"
           }
          ],
          "scatter3d": [
           {
            "line": {
             "colorbar": {
              "outlinewidth": 0,
              "ticks": ""
             }
            },
            "marker": {
             "colorbar": {
              "outlinewidth": 0,
              "ticks": ""
             }
            },
            "type": "scatter3d"
           }
          ],
          "scattercarpet": [
           {
            "marker": {
             "colorbar": {
              "outlinewidth": 0,
              "ticks": ""
             }
            },
            "type": "scattercarpet"
           }
          ],
          "scattergeo": [
           {
            "marker": {
             "colorbar": {
              "outlinewidth": 0,
              "ticks": ""
             }
            },
            "type": "scattergeo"
           }
          ],
          "scattergl": [
           {
            "marker": {
             "colorbar": {
              "outlinewidth": 0,
              "ticks": ""
             }
            },
            "type": "scattergl"
           }
          ],
          "scattermapbox": [
           {
            "marker": {
             "colorbar": {
              "outlinewidth": 0,
              "ticks": ""
             }
            },
            "type": "scattermapbox"
           }
          ],
          "scatterpolar": [
           {
            "marker": {
             "colorbar": {
              "outlinewidth": 0,
              "ticks": ""
             }
            },
            "type": "scatterpolar"
           }
          ],
          "scatterpolargl": [
           {
            "marker": {
             "colorbar": {
              "outlinewidth": 0,
              "ticks": ""
             }
            },
            "type": "scatterpolargl"
           }
          ],
          "scatterternary": [
           {
            "marker": {
             "colorbar": {
              "outlinewidth": 0,
              "ticks": ""
             }
            },
            "type": "scatterternary"
           }
          ],
          "surface": [
           {
            "colorbar": {
             "outlinewidth": 0,
             "ticks": ""
            },
            "colorscale": [
             [
              0,
              "#0d0887"
             ],
             [
              0.1111111111111111,
              "#46039f"
             ],
             [
              0.2222222222222222,
              "#7201a8"
             ],
             [
              0.3333333333333333,
              "#9c179e"
             ],
             [
              0.4444444444444444,
              "#bd3786"
             ],
             [
              0.5555555555555556,
              "#d8576b"
             ],
             [
              0.6666666666666666,
              "#ed7953"
             ],
             [
              0.7777777777777778,
              "#fb9f3a"
             ],
             [
              0.8888888888888888,
              "#fdca26"
             ],
             [
              1,
              "#f0f921"
             ]
            ],
            "type": "surface"
           }
          ],
          "table": [
           {
            "cells": {
             "fill": {
              "color": "#EBF0F8"
             },
             "line": {
              "color": "white"
             }
            },
            "header": {
             "fill": {
              "color": "#C8D4E3"
             },
             "line": {
              "color": "white"
             }
            },
            "type": "table"
           }
          ]
         },
         "layout": {
          "annotationdefaults": {
           "arrowcolor": "#2a3f5f",
           "arrowhead": 0,
           "arrowwidth": 1
          },
          "coloraxis": {
           "colorbar": {
            "outlinewidth": 0,
            "ticks": ""
           }
          },
          "colorscale": {
           "diverging": [
            [
             0,
             "#8e0152"
            ],
            [
             0.1,
             "#c51b7d"
            ],
            [
             0.2,
             "#de77ae"
            ],
            [
             0.3,
             "#f1b6da"
            ],
            [
             0.4,
             "#fde0ef"
            ],
            [
             0.5,
             "#f7f7f7"
            ],
            [
             0.6,
             "#e6f5d0"
            ],
            [
             0.7,
             "#b8e186"
            ],
            [
             0.8,
             "#7fbc41"
            ],
            [
             0.9,
             "#4d9221"
            ],
            [
             1,
             "#276419"
            ]
           ],
           "sequential": [
            [
             0,
             "#0d0887"
            ],
            [
             0.1111111111111111,
             "#46039f"
            ],
            [
             0.2222222222222222,
             "#7201a8"
            ],
            [
             0.3333333333333333,
             "#9c179e"
            ],
            [
             0.4444444444444444,
             "#bd3786"
            ],
            [
             0.5555555555555556,
             "#d8576b"
            ],
            [
             0.6666666666666666,
             "#ed7953"
            ],
            [
             0.7777777777777778,
             "#fb9f3a"
            ],
            [
             0.8888888888888888,
             "#fdca26"
            ],
            [
             1,
             "#f0f921"
            ]
           ],
           "sequentialminus": [
            [
             0,
             "#0d0887"
            ],
            [
             0.1111111111111111,
             "#46039f"
            ],
            [
             0.2222222222222222,
             "#7201a8"
            ],
            [
             0.3333333333333333,
             "#9c179e"
            ],
            [
             0.4444444444444444,
             "#bd3786"
            ],
            [
             0.5555555555555556,
             "#d8576b"
            ],
            [
             0.6666666666666666,
             "#ed7953"
            ],
            [
             0.7777777777777778,
             "#fb9f3a"
            ],
            [
             0.8888888888888888,
             "#fdca26"
            ],
            [
             1,
             "#f0f921"
            ]
           ]
          },
          "colorway": [
           "#636efa",
           "#EF553B",
           "#00cc96",
           "#ab63fa",
           "#FFA15A",
           "#19d3f3",
           "#FF6692",
           "#B6E880",
           "#FF97FF",
           "#FECB52"
          ],
          "font": {
           "color": "#2a3f5f"
          },
          "geo": {
           "bgcolor": "white",
           "lakecolor": "white",
           "landcolor": "#E5ECF6",
           "showlakes": true,
           "showland": true,
           "subunitcolor": "white"
          },
          "hoverlabel": {
           "align": "left"
          },
          "hovermode": "closest",
          "mapbox": {
           "style": "light"
          },
          "paper_bgcolor": "white",
          "plot_bgcolor": "#E5ECF6",
          "polar": {
           "angularaxis": {
            "gridcolor": "white",
            "linecolor": "white",
            "ticks": ""
           },
           "bgcolor": "#E5ECF6",
           "radialaxis": {
            "gridcolor": "white",
            "linecolor": "white",
            "ticks": ""
           }
          },
          "scene": {
           "xaxis": {
            "backgroundcolor": "#E5ECF6",
            "gridcolor": "white",
            "gridwidth": 2,
            "linecolor": "white",
            "showbackground": true,
            "ticks": "",
            "zerolinecolor": "white"
           },
           "yaxis": {
            "backgroundcolor": "#E5ECF6",
            "gridcolor": "white",
            "gridwidth": 2,
            "linecolor": "white",
            "showbackground": true,
            "ticks": "",
            "zerolinecolor": "white"
           },
           "zaxis": {
            "backgroundcolor": "#E5ECF6",
            "gridcolor": "white",
            "gridwidth": 2,
            "linecolor": "white",
            "showbackground": true,
            "ticks": "",
            "zerolinecolor": "white"
           }
          },
          "shapedefaults": {
           "line": {
            "color": "#2a3f5f"
           }
          },
          "ternary": {
           "aaxis": {
            "gridcolor": "white",
            "linecolor": "white",
            "ticks": ""
           },
           "baxis": {
            "gridcolor": "white",
            "linecolor": "white",
            "ticks": ""
           },
           "bgcolor": "#E5ECF6",
           "caxis": {
            "gridcolor": "white",
            "linecolor": "white",
            "ticks": ""
           }
          },
          "title": {
           "x": 0.05
          },
          "xaxis": {
           "automargin": true,
           "gridcolor": "white",
           "linecolor": "white",
           "ticks": "",
           "title": {
            "standoff": 15
           },
           "zerolinecolor": "white",
           "zerolinewidth": 2
          },
          "yaxis": {
           "automargin": true,
           "gridcolor": "white",
           "linecolor": "white",
           "ticks": "",
           "title": {
            "standoff": 15
           },
           "zerolinecolor": "white",
           "zerolinewidth": 2
          }
         }
        },
        "title": {
         "font": {
          "color": "#4D5663"
         },
         "text": "Inside Forward - Support"
        },
        "xaxis": {
         "gridcolor": "#E1E5ED",
         "showgrid": true,
         "tickfont": {
          "color": "#4D5663"
         },
         "title": {
          "font": {
           "color": "#4D5663"
          },
          "text": "Assists/90"
         },
         "zerolinecolor": "#E1E5ED"
        },
        "yaxis": {
         "gridcolor": "#E1E5ED",
         "showgrid": true,
         "tickfont": {
          "color": "#4D5663"
         },
         "title": {
          "font": {
           "color": "#4D5663"
          },
          "text": "Chances Created/90"
         },
         "zerolinecolor": "#E1E5ED"
        }
       }
      },
      "text/html": [
       "<div>\n",
       "        \n",
       "        \n",
       "            <div id=\"8a7fd4f5-33c9-477d-817b-8229f2442b51\" class=\"plotly-graph-div\" style=\"height:525px; width:100%;\"></div>\n",
       "            <script type=\"text/javascript\">\n",
       "                require([\"plotly\"], function(Plotly) {\n",
       "                    window.PLOTLYENV=window.PLOTLYENV || {};\n",
       "                    window.PLOTLYENV.BASE_URL='https://plot.ly';\n",
       "                    \n",
       "                if (document.getElementById(\"8a7fd4f5-33c9-477d-817b-8229f2442b51\")) {\n",
       "                    Plotly.newPlot(\n",
       "                        '8a7fd4f5-33c9-477d-817b-8229f2442b51',\n",
       "                        [{\"line\": {\"color\": \"rgba(255, 153, 51, 1.0)\", \"dash\": \"solid\", \"shape\": \"linear\", \"width\": 1.3}, \"marker\": {\"size\": 10, \"symbol\": \"circle\"}, \"mode\": \"markers\", \"name\": \"Ch C/90\", \"text\": [\"Djibril Diakit\\u00c3\\u00a9\", \"Jo\\u00c3\\u00a3o Tavares\", \"Matej Hudecek\", \"Adrian Rybak\", \"Oskar Repka\", \"Maciej Obodecki\", \"Ivo Kralj\", \"Bartosz Sobczyk\", \"Ivan Tomac\", \"Nikola Bogdanovski\", \"Stefan Velickovic\", \"Andrija Zakoc\", \"Aur\\u00c3\\u00a9lien Nguiamba\", \"Flynn Downes\", \"Nikola Puzic\", \"Andjelo Kacavenda\", \"Tymoteusz Puchacz\", \"Felix Brunmayr\", \"Lennart Grill\", \"Josip Rakic\", \"Stefan Randjelovic\", \"Radoslaw Dzierbicki\", \"Alexandar Ubavic\", \"Veljko Jovkovic\", \"Mariano G\\u00c3\\u00b3mez\", \"David Bumberger\", \"Enrico Huss\", \"Mateo Jaksic\", \"Konrad Jozwicki\", \"Nikita Marusenko\", \"Djordje Jovanovic\", \"Filip Lisnic\", \"Dawid Szalas\", \"Vladimir Ilic\", \"Marcin Mackowiak\", \"Florin Codrean\", \"David Otto\", \"Stefan Golubovic\", \"Keanan Bennetts\", \"Andrej Vukas\", \"Jannik Tepe\", \"Mladen Devetak\", \"Tom Baack\", \"Jan Sobocinski\", \"Tom\\u00c3\\u00a1s Blanco\", \"Sinan Karweina\", \"Ben Williams\", \"Arkadiusz Zajaczkowski\", \"Miguel Reisinho\", \"Filp Ceko\", \"Michel St\\u00c3\\u00b6cker\", \"J\\u00c3\\u00a9r\\u00c3\\u00b4me Deom\", \"Ranko Jokic\", \"Palko D\\u00c3\\u00a1rdai\", \"Aleksander Tomasz\", \"Alex Vigo\", \"Daniel Bielica\", \"Marko Djira\", \"Norbert Walczak\", \"Boris Moltenis\", \"Julius Kade\", \"Goran Buljandric\", \"Jannis K\\u00c3\\u00bcbler\", \"Aleksa Jovanovic\", \"Tomasz Owczarek\", \"David Wittkowski\", \"Konrad Zaklika\", \"Pawel Karbowinski\", \"Nicky Werner\", \"Julijan Popovic\", \"Nassim Boujellab\", \"Bartlomiej Gajda\", \"Nemanja Matijevic\", \"Marko Denic\", \"Robert Baar\", \"Tuta\", \"Dusan Jokovic\", \"Tomasz Dzida\", \"Aleksa Pejic\", \"Krsta Bojic\", \"Sikou Niakat\\u00c3\\u00a9\", \"Tomasz Makowski\", \"Sebastian Gwozdz\", \"Adrian Polanski\", \"Bryan Mbeumo\", \"Dorin Sirbu\", \"Elvis Novalic\", \"Micka\\u00c3\\u00abl Cuisance\", \"Mateusz Madzia\", \"Jes\\u00c3\\u00bas Vargas\", \"Marino Jedvaj\", \"Raphael Assibey-Mensah\", \"Lukasz Sztylka\", \"Zoran Zrnzevic\", \"Alex Krawiec\", \"Petar Melezovic\", \"Tomasz Kurek\", \"Danko Radic\", \"Paul Mensah\", \"Jordan Williams\", \"Mario Mustapic\", \"Nikola Trickovic\", \"Patrik Delic\", \"Maciej Famulak\", \"Wiktor Nahrebecki\", \"Barne Poggenberg\", \"Mirza Jasarevic\", \"Ratko Minic\", \"Semih \\u00c5\\u009eahin\", \"Matej Santek\", \"Georgios Siadas\", \"Tyrese Campbell\", \"Martin Krizmanic\", \"Kacper Laskos\", \"Aleksa Milojevic\", \"Cheick Doucour\\u00c3\\u00a9\", \"Ivan Jakovljev\", \"Przemyslaw Zdybowicz\", \"Sven Botman\", \"Malik Karaahmet\", \"Lukas Kr\\u00c3\\u00bcger\", \"Niclas Stierlin\", \"Mane Markovic\", \"Karol Czubak\", \"Ilija Dejanovic\", \"Pascal Hackethal\", \"Oleg Gorin\", \"Michal Zieba\", \"Miodrag Maljkovic\", \"Jakov Blagaic\", \"Harisson Marcelin\", \"Vice Bazdaric\", \"Daniel Liszka\", \"Jan Sieracki\", \"Jhonny Lucas\", \"Tymoteusz Klups\", \"Josip Sutalo\", \"Othman Boussaid\", \"Evert Linthorst\", \"Jusuf Gazibegovic\", \"Virgiliu Postolachi\", \"Luis G\\u00c3\\u00b6rlich\", \"Andrej Ilic\", \"Daniel Haritonov\", \"Patryk Drabik\", \"Tom Dobek-Pietrowski\", \"Michal Mydlarz\", \"Cho Jeong-Hui\", \"Mohamed Loua\", \"Nemanja Zikic\", \"Emir Sejdovic\", \"Samuel Lengle\", \"Mateusz Duchowski\", \"Iliya Gruev\", \"Bartosz Borun\", \"Juraj Ljubic\", \"Gon\\u00c3\\u00a7alo Rebelo\", \"Dominik Resetar\", \"Jurica Prsir\", \"Piotr Wujec\", \"Jan Majsterek\", \"Mitchel Bakker\", \"Kamil Piatkowski\", \"Michal Ozga\", \"Karol Turek\", \"Toni Karimovic\", \"Billy Crellin\", \"Konrad Sieracki\", \"Vando Luis\", \"Jan Los\", \"Jessic Ngankam\", \"Adam Borkowski\", \"Julian Rieckmann\", \"Luka Pavlak\", \"Robert Ion\", \"Linus Rosenl\\u00c3\\u00b6cher\", \"Eugen Telch\", \"Nicholas Wunsch\", \"Dawid Kisly\", \"Uros Miloradovic\", \"Alois Oroz\", \"Luca Bazzoli\", \"Ronan Darcy\", \"Yann-Aurel Bisseck\", \"Timo Bornemann\", \"Radivoj Bosic\", \"Jakov Katusa\", \"Kacper Jozefiak\", \"Szymon Mroczko\", \"Karol Struski\", \"Wojciech Kaminski\", \"Piotr Lisowski\", \"Daishawn Redan\", \"Kacper Smolinski\", \"Lukas Sch\\u00c3\\u00b6fl\", \"Mikolaj Labojko\", \"Jakub Karbownik\", \"Damir Magdic\", \"Karol Malec\", \"Patryk Wozniak\", \"Can Bozdogan\", \"Aleksander Paluszek\", \"Mario Cuic\", \"Dragoljub Savic\", \"Nathan Collins\", \"Dominik Pila\", \"Mihael Kupresak\", \"Manu Kon\\u00c3\\u00a9\", \"Niels Hahn\", \"Tin Hrvoj\", \"Lucas Da Cunha\", \"Rahim Ibrahim\", \"Renato Josipovic\", \"Han-Noah Massengo\", \"Kacper Wiatrak\", \"Bartosz Kuzniarski\", \"Adrian Petk\", \"Fabian Tauchhammer\", \"Bartlomiej Mruk\", \"Jakub Rudek\", \"Jakub Swiecinski\", \"Jakub Nowakowski\", \"Kamil Dabrowski\", \"Yuri Sprandel Flores\", \"Stefan Radmanovac\", \"Kamal Bafounta\", \"Filip Marchwinski\", \"Kamil Lukoszek\", \"Jakub Niewiadomski\", \"Dominik Kedzior\", \"Joe Gelhardt\", \"Filip Sobiecki\", \"Fran Tomek\", \"Hubert Wasiewski\", \"Djordje Vasic\", \"Jakub Zima\", \"Damian Makuch\", \"Andrzej Kloda\", \"Stipe Biuk\", \"Mateusz Pienczak\", \"FIlip Brekalo\", \"Stefan Despotovski\", \"Jakub Kisiel\", \"Duje Skugor\", \"Martin Baturina\", \"Radoslaw Cielemecki\", \"Ariel Mosor\", \"Nikola Petkovic\", \"Nikodem Sujecki\", \"Ivan Mandic\", \"Stanislaw Loch\", \"Dario Grgic\", \"Wojciech Szybka\", \"Kacper Szmidt\", \"Vukasin Krstic\", \"Obrendo Doesburg\", \"Casper Elderman\", \"Predrag Jovic\", \"Daniel Hoyo-Kowalski\", \"Darijo Basic\", \"Wiktor Mosur\", \"Uros Mirkovic\", \"Marcos Rodr\\u00c3\\u00adguez\", \"Adrian \\u00c5\\u00a2apu\", \"Paul Mari\", \"Pawel Muzylowski\", \"Dragan Radovic\", \"Szymon Kobeszko\", \"Marcin Dabrowski\", \"Jorge Delgado\", \"Daniel Piesio\", null], \"type\": \"scatter\", \"x\": [\"-\", \"0.14\", \"0.11\", \"0.06\", \"-\", \"0.17\", \"-\", \"-\", \"0.23\", \"0.24\", \"0.15\", \"0.08\", \"0.06\", \"0.06\", \"0.44\", \"0.05\", \"0.08\", \"0.04\", \"-\", \"0.08\", \"-\", \"0.07\", \"0.22\", \"0.17\", \"0.17\", \"0.11\", \"0.20\", \"0.07\", \"0.06\", \"-\", \"0.08\", \"-\", \"0.27\", \"-\", \"0.06\", \"0.04\", \"0.06\", \"-\", \"0.13\", \"0.15\", \"-\", \"0.05\", \"-\", \"0.12\", \"0.08\", \"0.24\", \"-\", \"0.11\", \"0.22\", \"0.06\", \"0.05\", \"0.29\", \"0.11\", \"0.33\", \"0.12\", \"0.11\", \"-\", \"0.30\", \"0.14\", \"0.06\", \"0.12\", \"-\", \"0.27\", \"-\", \"-\", \"0.05\", \"0.05\", \"-\", \"0.10\", \"0.18\", \"0.46\", \"0.11\", \"0.14\", \"0.23\", \"0.05\", \"-\", \"-\", \"0.42\", \"0.11\", \"0.12\", \"0.13\", \"0.07\", \"0.13\", \"0.24\", \"0.08\", \"0.06\", \"0.18\", \"0.53\", \"0.05\", \"0.11\", \"0.16\", \"0.22\", \"0.09\", \"0.09\", \"0.93\", \"0.05\", \"0.37\", \"0.40\", \"0.19\", \"0.06\", \"-\", \"0.06\", \"0.09\", \"0.54\", \"0.59\", \"0.05\", \"0.18\", \"0.22\", \"0.34\", \"0.40\", \"0.17\", \"-\", \"-\", \"0.09\", \"-\", \"0.16\", \"-\", \"0.13\", \"-\", \"0.21\", \"-\", \"-\", \"-\", \"0.21\", \"0.13\", \"0.20\", \"0.09\", \"0.08\", \"0.27\", \"0.38\", \"-\", \"-\", \"0.38\", \"-\", \"0.08\", \"0.07\", \"0.07\", \"0.07\", \"0.21\", \"0.22\", \"0.07\", \"0.18\", \"-\", \"0.10\", \"0.45\", \"0.22\", \"0.38\", \"0.21\", \"-\", \"0.09\", \"0.39\", \"0.30\", \"0.25\", \"-\", \"0.30\", \"0.16\", \"0.13\", \"0.06\", \"0.18\", \"-\", \"0.17\", \"-\", \"0.11\", \"0.18\", \"0.16\", \"0.13\", \"-\", \"0.42\", \"0.04\", \"0.09\", \"0.33\", \"0.08\", \"0.11\", \"0.51\", \"0.06\", \"0.07\", \"0.26\", \"0.32\", \"0.06\", \"0.15\", \"0.06\", \"0.20\", \"0.18\", \"0.08\", \"0.09\", \"0.09\", \"0.32\", \"0.08\", \"0.07\", \"0.43\", \"-\", \"0.05\", \"0.10\", \"0.08\", \"0.18\", \"0.07\", \"0.08\", \"-\", \"-\", \"0.86\", \"0.25\", \"-\", \"-\", \"0.14\", \"-\", \"-\", \"0.21\", \"0.29\", \"0.06\", \"-\", \"0.12\", \"0.20\", \"-\", \"0.08\", \"0.05\", \"0.12\", \"0.17\", \"0.04\", \"0.06\", \"0.06\", \"0.06\", \"0.14\", \"-\", \"0.03\", \"0.05\", \"0.13\", \"0.09\", \"0.08\", \"0.13\", \"0.17\", \"0.06\", \"0.08\", \"0.26\", \"-\", \"0.08\", \"-\", \"0.15\", \"-\", \"0.28\", \"0.08\", \"0.15\", \"0.10\", \"0.24\", \"0.15\", \"-\", \"0.19\", \"-\", \"0.54\", \"-\", \"-\", \"0.08\", \"0.32\", \"0.08\", \"0.15\", \"-\", \"0.04\", \"-\", \"-\", \"-\", \"0.08\", \"0.13\", \"0.06\", \"-\", \"-\", \"0.06\", \"0.47\", \"0.41\", \"-\", \"-\", \"0.15\", \"0.13\", null], \"y\": [\"-\", \"-\", \"0.67\", \"0.18\", \"0.56\", \"-\", \"0.57\", \"0.60\", \"1.45\", \"2.63\", \"1.22\", \"0.16\", \"0.28\", \"0.44\", \"3.62\", \"0.77\", \"0.60\", \"1.09\", \"-\", \"0.46\", \"-\", \"0.53\", \"-\", \"0.98\", \"0.17\", \"0.45\", \"0.65\", \"1.22\", \"1.44\", \"0.40\", \"0.85\", \"0.33\", \"1.97\", \"0.10\", \"0.77\", \"-\", \"0.68\", \"0.25\", \"0.83\", \"0.29\", \"0.70\", \"0.99\", \"-\", \"0.58\", \"1.01\", \"1.13\", \"0.62\", \"0.48\", \"0.87\", \"0.44\", \"0.46\", \"0.64\", \"0.56\", \"3.24\", \"-\", \"0.17\", \"-\", \"0.37\", \"-\", \"0.28\", \"0.37\", \"-\", \"1.08\", \"0.25\", \"0.12\", \"0.25\", \"0.33\", \"1.16\", \"0.53\", \"0.92\", \"1.15\", \"1.09\", \"1.42\", \"-\", \"0.34\", \"-\", \"0.43\", \"1.36\", \"1.32\", \"1.59\", \"0.52\", \"0.27\", \"-\", \"0.88\", \"1.89\", \"-\", \"1.70\", \"2.37\", \"0.33\", \"1.49\", \"-\", \"-\", \"0.97\", \"-\", \"3.37\", \"-\", \"0.55\", \"2.14\", \"1.09\", \"0.93\", \"-\", \"0.57\", \"-\", \"0.62\", \"2.29\", \"0.51\", \"0.78\", \"1.48\", \"1.79\", \"2.26\", \"1.06\", \"0.84\", \"0.16\", \"0.36\", \"-\", \"1.07\", \"-\", \"0.92\", \"0.11\", \"-\", \"1.02\", \"0.60\", \"-\", \"0.56\", \"-\", \"0.41\", \"2.38\", \"0.32\", \"1.48\", \"1.63\", \"-\", \"-\", \"2.33\", \"0.92\", \"1.38\", \"1.59\", \"0.29\", \"-\", \"0.84\", \"0.79\", \"-\", \"1.83\", \"0.81\", \"0.55\", \"1.94\", \"2.17\", \"1.85\", \"0.04\", \"0.50\", \"-\", \"1.87\", \"2.13\", \"0.88\", \"0.80\", \"3.17\", \"1.29\", \"-\", \"0.52\", \"2.72\", \"0.28\", \"0.51\", \"0.29\", \"0.44\", \"0.27\", \"0.65\", \"1.38\", \"-\", \"1.33\", \"-\", \"1.51\", \"1.11\", \"0.54\", \"0.32\", \"0.96\", \"1.02\", \"0.36\", \"-\", \"1.70\", \"0.59\", \"1.51\", \"0.71\", \"0.83\", \"0.23\", \"0.40\", \"0.87\", \"1.49\", \"2.13\", \"0.25\", \"0.14\", \"1.77\", \"0.20\", \"0.55\", \"0.64\", \"0.61\", \"-\", \"-\", \"1.14\", \"0.92\", \"0.79\", \"2.74\", \"1.25\", \"0.08\", \"0.40\", \"-\", \"0.44\", \"1.16\", \"1.39\", \"-\", \"-\", \"0.32\", \"-\", \"-\", \"-\", \"1.67\", \"-\", \"1.72\", \"1.34\", \"-\", \"0.39\", \"1.10\", \"0.77\", \"-\", \"1.51\", \"0.34\", \"0.43\", \"0.44\", \"1.57\", \"1.01\", \"0.13\", \"0.96\", \"-\", \"0.76\", \"1.54\", \"-\", \"0.48\", \"0.47\", \"-\", \"0.09\", \"2.32\", \"0.39\", \"0.81\", \"0.76\", \"1.26\", \"0.31\", \"2.48\", \"1.52\", \"0.45\", \"2.71\", \"-\", \"-\", \"1.95\", \"2.06\", \"1.38\", \"2.89\", \"0.21\", \"-\", \"0.35\", \"1.12\", \"0.15\", \"0.84\", \"1.70\", \"0.85\", \"0.40\", \"1.04\", \"0.51\", \"1.33\", \"1.97\", \"0.98\", \"0.89\", \"0.49\", \"1.59\", \"\"]}],\n",
       "                        {\"legend\": {\"bgcolor\": \"#F5F6F9\", \"font\": {\"color\": \"#4D5663\"}}, \"paper_bgcolor\": \"#F5F6F9\", \"plot_bgcolor\": \"#F5F6F9\", \"template\": {\"data\": {\"bar\": [{\"error_x\": {\"color\": \"#2a3f5f\"}, \"error_y\": {\"color\": \"#2a3f5f\"}, \"marker\": {\"line\": {\"color\": \"#E5ECF6\", \"width\": 0.5}}, \"type\": \"bar\"}], \"barpolar\": [{\"marker\": {\"line\": {\"color\": \"#E5ECF6\", \"width\": 0.5}}, \"type\": \"barpolar\"}], \"carpet\": [{\"aaxis\": {\"endlinecolor\": \"#2a3f5f\", \"gridcolor\": \"white\", \"linecolor\": \"white\", \"minorgridcolor\": \"white\", \"startlinecolor\": \"#2a3f5f\"}, \"baxis\": {\"endlinecolor\": \"#2a3f5f\", \"gridcolor\": \"white\", \"linecolor\": \"white\", \"minorgridcolor\": \"white\", \"startlinecolor\": \"#2a3f5f\"}, \"type\": \"carpet\"}], \"choropleth\": [{\"colorbar\": {\"outlinewidth\": 0, \"ticks\": \"\"}, \"type\": \"choropleth\"}], \"contour\": [{\"colorbar\": {\"outlinewidth\": 0, \"ticks\": \"\"}, \"colorscale\": [[0.0, \"#0d0887\"], [0.1111111111111111, \"#46039f\"], [0.2222222222222222, \"#7201a8\"], [0.3333333333333333, \"#9c179e\"], [0.4444444444444444, \"#bd3786\"], [0.5555555555555556, \"#d8576b\"], [0.6666666666666666, \"#ed7953\"], [0.7777777777777778, \"#fb9f3a\"], [0.8888888888888888, \"#fdca26\"], [1.0, \"#f0f921\"]], \"type\": \"contour\"}], \"contourcarpet\": [{\"colorbar\": {\"outlinewidth\": 0, \"ticks\": \"\"}, \"type\": \"contourcarpet\"}], \"heatmap\": [{\"colorbar\": {\"outlinewidth\": 0, \"ticks\": \"\"}, \"colorscale\": [[0.0, \"#0d0887\"], [0.1111111111111111, \"#46039f\"], [0.2222222222222222, \"#7201a8\"], [0.3333333333333333, \"#9c179e\"], [0.4444444444444444, \"#bd3786\"], [0.5555555555555556, \"#d8576b\"], [0.6666666666666666, \"#ed7953\"], [0.7777777777777778, \"#fb9f3a\"], [0.8888888888888888, \"#fdca26\"], [1.0, \"#f0f921\"]], \"type\": \"heatmap\"}], \"heatmapgl\": [{\"colorbar\": {\"outlinewidth\": 0, \"ticks\": \"\"}, \"colorscale\": [[0.0, \"#0d0887\"], [0.1111111111111111, \"#46039f\"], [0.2222222222222222, \"#7201a8\"], [0.3333333333333333, \"#9c179e\"], [0.4444444444444444, \"#bd3786\"], [0.5555555555555556, \"#d8576b\"], [0.6666666666666666, \"#ed7953\"], [0.7777777777777778, \"#fb9f3a\"], [0.8888888888888888, \"#fdca26\"], [1.0, \"#f0f921\"]], \"type\": \"heatmapgl\"}], \"histogram\": [{\"marker\": {\"colorbar\": {\"outlinewidth\": 0, \"ticks\": \"\"}}, \"type\": \"histogram\"}], \"histogram2d\": [{\"colorbar\": {\"outlinewidth\": 0, \"ticks\": \"\"}, \"colorscale\": [[0.0, \"#0d0887\"], [0.1111111111111111, \"#46039f\"], [0.2222222222222222, \"#7201a8\"], [0.3333333333333333, \"#9c179e\"], [0.4444444444444444, \"#bd3786\"], [0.5555555555555556, \"#d8576b\"], [0.6666666666666666, \"#ed7953\"], [0.7777777777777778, \"#fb9f3a\"], [0.8888888888888888, \"#fdca26\"], [1.0, \"#f0f921\"]], \"type\": \"histogram2d\"}], \"histogram2dcontour\": [{\"colorbar\": {\"outlinewidth\": 0, \"ticks\": \"\"}, \"colorscale\": [[0.0, \"#0d0887\"], [0.1111111111111111, \"#46039f\"], [0.2222222222222222, \"#7201a8\"], [0.3333333333333333, \"#9c179e\"], [0.4444444444444444, \"#bd3786\"], [0.5555555555555556, \"#d8576b\"], [0.6666666666666666, \"#ed7953\"], [0.7777777777777778, \"#fb9f3a\"], [0.8888888888888888, \"#fdca26\"], [1.0, \"#f0f921\"]], \"type\": \"histogram2dcontour\"}], \"mesh3d\": [{\"colorbar\": {\"outlinewidth\": 0, \"ticks\": \"\"}, \"type\": \"mesh3d\"}], \"parcoords\": [{\"line\": {\"colorbar\": {\"outlinewidth\": 0, \"ticks\": \"\"}}, \"type\": \"parcoords\"}], \"pie\": [{\"automargin\": true, \"type\": \"pie\"}], \"scatter\": [{\"marker\": {\"colorbar\": {\"outlinewidth\": 0, \"ticks\": \"\"}}, \"type\": \"scatter\"}], \"scatter3d\": [{\"line\": {\"colorbar\": {\"outlinewidth\": 0, \"ticks\": \"\"}}, \"marker\": {\"colorbar\": {\"outlinewidth\": 0, \"ticks\": \"\"}}, \"type\": \"scatter3d\"}], \"scattercarpet\": [{\"marker\": {\"colorbar\": {\"outlinewidth\": 0, \"ticks\": \"\"}}, \"type\": \"scattercarpet\"}], \"scattergeo\": [{\"marker\": {\"colorbar\": {\"outlinewidth\": 0, \"ticks\": \"\"}}, \"type\": \"scattergeo\"}], \"scattergl\": [{\"marker\": {\"colorbar\": {\"outlinewidth\": 0, \"ticks\": \"\"}}, \"type\": \"scattergl\"}], \"scattermapbox\": [{\"marker\": {\"colorbar\": {\"outlinewidth\": 0, \"ticks\": \"\"}}, \"type\": \"scattermapbox\"}], \"scatterpolar\": [{\"marker\": {\"colorbar\": {\"outlinewidth\": 0, \"ticks\": \"\"}}, \"type\": \"scatterpolar\"}], \"scatterpolargl\": [{\"marker\": {\"colorbar\": {\"outlinewidth\": 0, \"ticks\": \"\"}}, \"type\": \"scatterpolargl\"}], \"scatterternary\": [{\"marker\": {\"colorbar\": {\"outlinewidth\": 0, \"ticks\": \"\"}}, \"type\": \"scatterternary\"}], \"surface\": [{\"colorbar\": {\"outlinewidth\": 0, \"ticks\": \"\"}, \"colorscale\": [[0.0, \"#0d0887\"], [0.1111111111111111, \"#46039f\"], [0.2222222222222222, \"#7201a8\"], [0.3333333333333333, \"#9c179e\"], [0.4444444444444444, \"#bd3786\"], [0.5555555555555556, \"#d8576b\"], [0.6666666666666666, \"#ed7953\"], [0.7777777777777778, \"#fb9f3a\"], [0.8888888888888888, \"#fdca26\"], [1.0, \"#f0f921\"]], \"type\": \"surface\"}], \"table\": [{\"cells\": {\"fill\": {\"color\": \"#EBF0F8\"}, \"line\": {\"color\": \"white\"}}, \"header\": {\"fill\": {\"color\": \"#C8D4E3\"}, \"line\": {\"color\": \"white\"}}, \"type\": \"table\"}]}, \"layout\": {\"annotationdefaults\": {\"arrowcolor\": \"#2a3f5f\", \"arrowhead\": 0, \"arrowwidth\": 1}, \"coloraxis\": {\"colorbar\": {\"outlinewidth\": 0, \"ticks\": \"\"}}, \"colorscale\": {\"diverging\": [[0, \"#8e0152\"], [0.1, \"#c51b7d\"], [0.2, \"#de77ae\"], [0.3, \"#f1b6da\"], [0.4, \"#fde0ef\"], [0.5, \"#f7f7f7\"], [0.6, \"#e6f5d0\"], [0.7, \"#b8e186\"], [0.8, \"#7fbc41\"], [0.9, \"#4d9221\"], [1, \"#276419\"]], \"sequential\": [[0.0, \"#0d0887\"], [0.1111111111111111, \"#46039f\"], [0.2222222222222222, \"#7201a8\"], [0.3333333333333333, \"#9c179e\"], [0.4444444444444444, \"#bd3786\"], [0.5555555555555556, \"#d8576b\"], [0.6666666666666666, \"#ed7953\"], [0.7777777777777778, \"#fb9f3a\"], [0.8888888888888888, \"#fdca26\"], [1.0, \"#f0f921\"]], \"sequentialminus\": [[0.0, \"#0d0887\"], [0.1111111111111111, \"#46039f\"], [0.2222222222222222, \"#7201a8\"], [0.3333333333333333, \"#9c179e\"], [0.4444444444444444, \"#bd3786\"], [0.5555555555555556, \"#d8576b\"], [0.6666666666666666, \"#ed7953\"], [0.7777777777777778, \"#fb9f3a\"], [0.8888888888888888, \"#fdca26\"], [1.0, \"#f0f921\"]]}, \"colorway\": [\"#636efa\", \"#EF553B\", \"#00cc96\", \"#ab63fa\", \"#FFA15A\", \"#19d3f3\", \"#FF6692\", \"#B6E880\", \"#FF97FF\", \"#FECB52\"], \"font\": {\"color\": \"#2a3f5f\"}, \"geo\": {\"bgcolor\": \"white\", \"lakecolor\": \"white\", \"landcolor\": \"#E5ECF6\", \"showlakes\": true, \"showland\": true, \"subunitcolor\": \"white\"}, \"hoverlabel\": {\"align\": \"left\"}, \"hovermode\": \"closest\", \"mapbox\": {\"style\": \"light\"}, \"paper_bgcolor\": \"white\", \"plot_bgcolor\": \"#E5ECF6\", \"polar\": {\"angularaxis\": {\"gridcolor\": \"white\", \"linecolor\": \"white\", \"ticks\": \"\"}, \"bgcolor\": \"#E5ECF6\", \"radialaxis\": {\"gridcolor\": \"white\", \"linecolor\": \"white\", \"ticks\": \"\"}}, \"scene\": {\"xaxis\": {\"backgroundcolor\": \"#E5ECF6\", \"gridcolor\": \"white\", \"gridwidth\": 2, \"linecolor\": \"white\", \"showbackground\": true, \"ticks\": \"\", \"zerolinecolor\": \"white\"}, \"yaxis\": {\"backgroundcolor\": \"#E5ECF6\", \"gridcolor\": \"white\", \"gridwidth\": 2, \"linecolor\": \"white\", \"showbackground\": true, \"ticks\": \"\", \"zerolinecolor\": \"white\"}, \"zaxis\": {\"backgroundcolor\": \"#E5ECF6\", \"gridcolor\": \"white\", \"gridwidth\": 2, \"linecolor\": \"white\", \"showbackground\": true, \"ticks\": \"\", \"zerolinecolor\": \"white\"}}, \"shapedefaults\": {\"line\": {\"color\": \"#2a3f5f\"}}, \"ternary\": {\"aaxis\": {\"gridcolor\": \"white\", \"linecolor\": \"white\", \"ticks\": \"\"}, \"baxis\": {\"gridcolor\": \"white\", \"linecolor\": \"white\", \"ticks\": \"\"}, \"bgcolor\": \"#E5ECF6\", \"caxis\": {\"gridcolor\": \"white\", \"linecolor\": \"white\", \"ticks\": \"\"}}, \"title\": {\"x\": 0.05}, \"xaxis\": {\"automargin\": true, \"gridcolor\": \"white\", \"linecolor\": \"white\", \"ticks\": \"\", \"title\": {\"standoff\": 15}, \"zerolinecolor\": \"white\", \"zerolinewidth\": 2}, \"yaxis\": {\"automargin\": true, \"gridcolor\": \"white\", \"linecolor\": \"white\", \"ticks\": \"\", \"title\": {\"standoff\": 15}, \"zerolinecolor\": \"white\", \"zerolinewidth\": 2}}}, \"title\": {\"font\": {\"color\": \"#4D5663\"}, \"text\": \"Inside Forward - Support\"}, \"xaxis\": {\"gridcolor\": \"#E1E5ED\", \"showgrid\": true, \"tickfont\": {\"color\": \"#4D5663\"}, \"title\": {\"font\": {\"color\": \"#4D5663\"}, \"text\": \"Assists/90\"}, \"zerolinecolor\": \"#E1E5ED\"}, \"yaxis\": {\"gridcolor\": \"#E1E5ED\", \"showgrid\": true, \"tickfont\": {\"color\": \"#4D5663\"}, \"title\": {\"font\": {\"color\": \"#4D5663\"}, \"text\": \"Chances Created/90\"}, \"zerolinecolor\": \"#E1E5ED\"}},\n",
       "                        {\"showLink\": true, \"linkText\": \"Export to plot.ly\", \"plotlyServerURL\": \"https://plot.ly\", \"responsive\": true}\n",
       "                    ).then(function(){\n",
       "                            \n",
       "var gd = document.getElementById('8a7fd4f5-33c9-477d-817b-8229f2442b51');\n",
       "var x = new MutationObserver(function (mutations, observer) {{\n",
       "        var display = window.getComputedStyle(gd).display;\n",
       "        if (!display || display === 'none') {{\n",
       "            console.log([gd, 'removed!']);\n",
       "            Plotly.purge(gd);\n",
       "            observer.disconnect();\n",
       "        }}\n",
       "}});\n",
       "\n",
       "// Listen for the removal of the full notebook cells\n",
       "var notebookContainer = gd.closest('#notebook-container');\n",
       "if (notebookContainer) {{\n",
       "    x.observe(notebookContainer, {childList: true});\n",
       "}}\n",
       "\n",
       "// Listen for the clearing of the current output cell\n",
       "var outputEl = gd.closest('.output');\n",
       "if (outputEl) {{\n",
       "    x.observe(outputEl, {childList: true});\n",
       "}}\n",
       "\n",
       "                        })\n",
       "                };\n",
       "                });\n",
       "            </script>\n",
       "        </div>"
      ]
     },
     "metadata": {},
     "output_type": "display_data"
    }
   ],
   "source": [
    "df1.iplot(kind='scatter',x='Asts/90',y='Ch C/90',\n",
    "           mode='markers',text='Name',size=10,\n",
    "          xTitle='Assists/90',yTitle='Chances Created/90',title='Inside Forward - Support')\t"
   ]
  },
  {
   "cell_type": "code",
   "execution_count": 22,
   "metadata": {},
   "outputs": [
    {
     "name": "stdout",
     "output_type": "stream",
     "text": [
      "Inside Forward Attack\n"
     ]
    },
    {
     "data": {
      "text/html": [
       "<style  type=\"text/css\" >\n",
       "    #T_e116d1b4_91d2_11ea_87a7_4ceb428e4071row0_col1 {\n",
       "            background-color:  #f7fbff;\n",
       "            color:  #000000;\n",
       "        }    #T_e116d1b4_91d2_11ea_87a7_4ceb428e4071row0_col2 {\n",
       "            background-color:  #0b559f;\n",
       "            color:  #f1f1f1;\n",
       "        }    #T_e116d1b4_91d2_11ea_87a7_4ceb428e4071row0_col3 {\n",
       "            background-color:  #539ecd;\n",
       "            color:  #000000;\n",
       "        }    #T_e116d1b4_91d2_11ea_87a7_4ceb428e4071row0_col4 {\n",
       "            background-color:  #6aaed6;\n",
       "            color:  #000000;\n",
       "        }    #T_e116d1b4_91d2_11ea_87a7_4ceb428e4071row0_col5 {\n",
       "            background-color:  #7db8da;\n",
       "            color:  #000000;\n",
       "        }    #T_e116d1b4_91d2_11ea_87a7_4ceb428e4071row0_col6 {\n",
       "            background-color:  #08306b;\n",
       "            color:  #f1f1f1;\n",
       "        }    #T_e116d1b4_91d2_11ea_87a7_4ceb428e4071row0_col7 {\n",
       "            background-color:  #6aaed6;\n",
       "            color:  #000000;\n",
       "        }    #T_e116d1b4_91d2_11ea_87a7_4ceb428e4071row0_col8 {\n",
       "            background-color:  #4a98c9;\n",
       "            color:  #000000;\n",
       "        }    #T_e116d1b4_91d2_11ea_87a7_4ceb428e4071row0_col9 {\n",
       "            background-color:  #105ba4;\n",
       "            color:  #f1f1f1;\n",
       "        }    #T_e116d1b4_91d2_11ea_87a7_4ceb428e4071row0_col10 {\n",
       "            background-color:  #08306b;\n",
       "            color:  #f1f1f1;\n",
       "        }    #T_e116d1b4_91d2_11ea_87a7_4ceb428e4071row1_col1 {\n",
       "            background-color:  #f7fbff;\n",
       "            color:  #000000;\n",
       "        }    #T_e116d1b4_91d2_11ea_87a7_4ceb428e4071row1_col2 {\n",
       "            background-color:  #2b7bba;\n",
       "            color:  #000000;\n",
       "        }    #T_e116d1b4_91d2_11ea_87a7_4ceb428e4071row1_col3 {\n",
       "            background-color:  #f7fbff;\n",
       "            color:  #000000;\n",
       "        }    #T_e116d1b4_91d2_11ea_87a7_4ceb428e4071row1_col4 {\n",
       "            background-color:  #2070b4;\n",
       "            color:  #f1f1f1;\n",
       "        }    #T_e116d1b4_91d2_11ea_87a7_4ceb428e4071row1_col5 {\n",
       "            background-color:  #135fa7;\n",
       "            color:  #f1f1f1;\n",
       "        }    #T_e116d1b4_91d2_11ea_87a7_4ceb428e4071row1_col6 {\n",
       "            background-color:  #f7fbff;\n",
       "            color:  #000000;\n",
       "        }    #T_e116d1b4_91d2_11ea_87a7_4ceb428e4071row1_col7 {\n",
       "            background-color:  #08306b;\n",
       "            color:  #f1f1f1;\n",
       "        }    #T_e116d1b4_91d2_11ea_87a7_4ceb428e4071row1_col8 {\n",
       "            background-color:  #08306b;\n",
       "            color:  #f1f1f1;\n",
       "        }    #T_e116d1b4_91d2_11ea_87a7_4ceb428e4071row1_col9 {\n",
       "            background-color:  #3787c0;\n",
       "            color:  #000000;\n",
       "        }    #T_e116d1b4_91d2_11ea_87a7_4ceb428e4071row1_col10 {\n",
       "            background-color:  #08509b;\n",
       "            color:  #f1f1f1;\n",
       "        }    #T_e116d1b4_91d2_11ea_87a7_4ceb428e4071row2_col1 {\n",
       "            background-color:  #1764ab;\n",
       "            color:  #f1f1f1;\n",
       "        }    #T_e116d1b4_91d2_11ea_87a7_4ceb428e4071row2_col2 {\n",
       "            background-color:  #f7fbff;\n",
       "            color:  #000000;\n",
       "        }    #T_e116d1b4_91d2_11ea_87a7_4ceb428e4071row2_col3 {\n",
       "            background-color:  #bad6eb;\n",
       "            color:  #000000;\n",
       "        }    #T_e116d1b4_91d2_11ea_87a7_4ceb428e4071row2_col4 {\n",
       "            background-color:  #2070b4;\n",
       "            color:  #f1f1f1;\n",
       "        }    #T_e116d1b4_91d2_11ea_87a7_4ceb428e4071row2_col5 {\n",
       "            background-color:  #3f8fc5;\n",
       "            color:  #000000;\n",
       "        }    #T_e116d1b4_91d2_11ea_87a7_4ceb428e4071row2_col6 {\n",
       "            background-color:  #6aaed6;\n",
       "            color:  #000000;\n",
       "        }    #T_e116d1b4_91d2_11ea_87a7_4ceb428e4071row2_col7 {\n",
       "            background-color:  #2070b4;\n",
       "            color:  #f1f1f1;\n",
       "        }    #T_e116d1b4_91d2_11ea_87a7_4ceb428e4071row2_col8 {\n",
       "            background-color:  #1764ab;\n",
       "            color:  #f1f1f1;\n",
       "        }    #T_e116d1b4_91d2_11ea_87a7_4ceb428e4071row2_col9 {\n",
       "            background-color:  #08306b;\n",
       "            color:  #f1f1f1;\n",
       "        }    #T_e116d1b4_91d2_11ea_87a7_4ceb428e4071row2_col10 {\n",
       "            background-color:  #6aaed6;\n",
       "            color:  #000000;\n",
       "        }    #T_e116d1b4_91d2_11ea_87a7_4ceb428e4071row3_col1 {\n",
       "            background-color:  #f7fbff;\n",
       "            color:  #000000;\n",
       "        }    #T_e116d1b4_91d2_11ea_87a7_4ceb428e4071row3_col2 {\n",
       "            background-color:  #539ecd;\n",
       "            color:  #000000;\n",
       "        }    #T_e116d1b4_91d2_11ea_87a7_4ceb428e4071row3_col3 {\n",
       "            background-color:  #f7fbff;\n",
       "            color:  #000000;\n",
       "        }    #T_e116d1b4_91d2_11ea_87a7_4ceb428e4071row3_col4 {\n",
       "            background-color:  #c6dbef;\n",
       "            color:  #000000;\n",
       "        }    #T_e116d1b4_91d2_11ea_87a7_4ceb428e4071row3_col5 {\n",
       "            background-color:  #08306b;\n",
       "            color:  #f1f1f1;\n",
       "        }    #T_e116d1b4_91d2_11ea_87a7_4ceb428e4071row3_col6 {\n",
       "            background-color:  #6aaed6;\n",
       "            color:  #000000;\n",
       "        }    #T_e116d1b4_91d2_11ea_87a7_4ceb428e4071row3_col7 {\n",
       "            background-color:  #f7fbff;\n",
       "            color:  #000000;\n",
       "        }    #T_e116d1b4_91d2_11ea_87a7_4ceb428e4071row3_col8 {\n",
       "            background-color:  #4a98c9;\n",
       "            color:  #000000;\n",
       "        }    #T_e116d1b4_91d2_11ea_87a7_4ceb428e4071row3_col9 {\n",
       "            background-color:  #08306b;\n",
       "            color:  #f1f1f1;\n",
       "        }    #T_e116d1b4_91d2_11ea_87a7_4ceb428e4071row3_col10 {\n",
       "            background-color:  #6aaed6;\n",
       "            color:  #000000;\n",
       "        }    #T_e116d1b4_91d2_11ea_87a7_4ceb428e4071row4_col1 {\n",
       "            background-color:  #d0e1f2;\n",
       "            color:  #000000;\n",
       "        }    #T_e116d1b4_91d2_11ea_87a7_4ceb428e4071row4_col2 {\n",
       "            background-color:  #2b7bba;\n",
       "            color:  #000000;\n",
       "        }    #T_e116d1b4_91d2_11ea_87a7_4ceb428e4071row4_col3 {\n",
       "            background-color:  #bad6eb;\n",
       "            color:  #000000;\n",
       "        }    #T_e116d1b4_91d2_11ea_87a7_4ceb428e4071row4_col4 {\n",
       "            background-color:  #08306b;\n",
       "            color:  #f1f1f1;\n",
       "        }    #T_e116d1b4_91d2_11ea_87a7_4ceb428e4071row4_col5 {\n",
       "            background-color:  #5ca4d0;\n",
       "            color:  #000000;\n",
       "        }    #T_e116d1b4_91d2_11ea_87a7_4ceb428e4071row4_col6 {\n",
       "            background-color:  #2070b4;\n",
       "            color:  #f1f1f1;\n",
       "        }    #T_e116d1b4_91d2_11ea_87a7_4ceb428e4071row4_col7 {\n",
       "            background-color:  #c6dbef;\n",
       "            color:  #000000;\n",
       "        }    #T_e116d1b4_91d2_11ea_87a7_4ceb428e4071row4_col8 {\n",
       "            background-color:  #94c4df;\n",
       "            color:  #000000;\n",
       "        }    #T_e116d1b4_91d2_11ea_87a7_4ceb428e4071row4_col9 {\n",
       "            background-color:  #3787c0;\n",
       "            color:  #000000;\n",
       "        }    #T_e116d1b4_91d2_11ea_87a7_4ceb428e4071row4_col10 {\n",
       "            background-color:  #6aaed6;\n",
       "            color:  #000000;\n",
       "        }    #T_e116d1b4_91d2_11ea_87a7_4ceb428e4071row5_col1 {\n",
       "            background-color:  #08306b;\n",
       "            color:  #f1f1f1;\n",
       "        }    #T_e116d1b4_91d2_11ea_87a7_4ceb428e4071row5_col2 {\n",
       "            background-color:  #08306b;\n",
       "            color:  #f1f1f1;\n",
       "        }    #T_e116d1b4_91d2_11ea_87a7_4ceb428e4071row5_col3 {\n",
       "            background-color:  #f7fbff;\n",
       "            color:  #000000;\n",
       "        }    #T_e116d1b4_91d2_11ea_87a7_4ceb428e4071row5_col4 {\n",
       "            background-color:  #f7fbff;\n",
       "            color:  #000000;\n",
       "        }    #T_e116d1b4_91d2_11ea_87a7_4ceb428e4071row5_col5 {\n",
       "            background-color:  #135fa7;\n",
       "            color:  #f1f1f1;\n",
       "        }    #T_e116d1b4_91d2_11ea_87a7_4ceb428e4071row5_col6 {\n",
       "            background-color:  #6aaed6;\n",
       "            color:  #000000;\n",
       "        }    #T_e116d1b4_91d2_11ea_87a7_4ceb428e4071row5_col7 {\n",
       "            background-color:  #6aaed6;\n",
       "            color:  #000000;\n",
       "        }    #T_e116d1b4_91d2_11ea_87a7_4ceb428e4071row5_col8 {\n",
       "            background-color:  #94c4df;\n",
       "            color:  #000000;\n",
       "        }    #T_e116d1b4_91d2_11ea_87a7_4ceb428e4071row5_col9 {\n",
       "            background-color:  #6aaed6;\n",
       "            color:  #000000;\n",
       "        }    #T_e116d1b4_91d2_11ea_87a7_4ceb428e4071row5_col10 {\n",
       "            background-color:  #c6dbef;\n",
       "            color:  #000000;\n",
       "        }    #T_e116d1b4_91d2_11ea_87a7_4ceb428e4071row6_col1 {\n",
       "            background-color:  #94c4df;\n",
       "            color:  #000000;\n",
       "        }    #T_e116d1b4_91d2_11ea_87a7_4ceb428e4071row6_col2 {\n",
       "            background-color:  #539ecd;\n",
       "            color:  #000000;\n",
       "        }    #T_e116d1b4_91d2_11ea_87a7_4ceb428e4071row6_col3 {\n",
       "            background-color:  #89bedc;\n",
       "            color:  #000000;\n",
       "        }    #T_e116d1b4_91d2_11ea_87a7_4ceb428e4071row6_col4 {\n",
       "            background-color:  #c6dbef;\n",
       "            color:  #000000;\n",
       "        }    #T_e116d1b4_91d2_11ea_87a7_4ceb428e4071row6_col5 {\n",
       "            background-color:  #5ca4d0;\n",
       "            color:  #000000;\n",
       "        }    #T_e116d1b4_91d2_11ea_87a7_4ceb428e4071row6_col6 {\n",
       "            background-color:  #f7fbff;\n",
       "            color:  #000000;\n",
       "        }    #T_e116d1b4_91d2_11ea_87a7_4ceb428e4071row6_col7 {\n",
       "            background-color:  #2070b4;\n",
       "            color:  #f1f1f1;\n",
       "        }    #T_e116d1b4_91d2_11ea_87a7_4ceb428e4071row6_col8 {\n",
       "            background-color:  #94c4df;\n",
       "            color:  #000000;\n",
       "        }    #T_e116d1b4_91d2_11ea_87a7_4ceb428e4071row6_col9 {\n",
       "            background-color:  #105ba4;\n",
       "            color:  #f1f1f1;\n",
       "        }    #T_e116d1b4_91d2_11ea_87a7_4ceb428e4071row6_col10 {\n",
       "            background-color:  #deebf7;\n",
       "            color:  #000000;\n",
       "        }    #T_e116d1b4_91d2_11ea_87a7_4ceb428e4071row7_col1 {\n",
       "            background-color:  #4a98c9;\n",
       "            color:  #000000;\n",
       "        }    #T_e116d1b4_91d2_11ea_87a7_4ceb428e4071row7_col2 {\n",
       "            background-color:  #539ecd;\n",
       "            color:  #000000;\n",
       "        }    #T_e116d1b4_91d2_11ea_87a7_4ceb428e4071row7_col3 {\n",
       "            background-color:  #539ecd;\n",
       "            color:  #000000;\n",
       "        }    #T_e116d1b4_91d2_11ea_87a7_4ceb428e4071row7_col4 {\n",
       "            background-color:  #c6dbef;\n",
       "            color:  #000000;\n",
       "        }    #T_e116d1b4_91d2_11ea_87a7_4ceb428e4071row7_col5 {\n",
       "            background-color:  #2676b8;\n",
       "            color:  #000000;\n",
       "        }    #T_e116d1b4_91d2_11ea_87a7_4ceb428e4071row7_col6 {\n",
       "            background-color:  #08306b;\n",
       "            color:  #f1f1f1;\n",
       "        }    #T_e116d1b4_91d2_11ea_87a7_4ceb428e4071row7_col7 {\n",
       "            background-color:  #6aaed6;\n",
       "            color:  #000000;\n",
       "        }    #T_e116d1b4_91d2_11ea_87a7_4ceb428e4071row7_col8 {\n",
       "            background-color:  #d0e1f2;\n",
       "            color:  #000000;\n",
       "        }    #T_e116d1b4_91d2_11ea_87a7_4ceb428e4071row7_col9 {\n",
       "            background-color:  #f7fbff;\n",
       "            color:  #000000;\n",
       "        }    #T_e116d1b4_91d2_11ea_87a7_4ceb428e4071row7_col10 {\n",
       "            background-color:  #deebf7;\n",
       "            color:  #000000;\n",
       "        }    #T_e116d1b4_91d2_11ea_87a7_4ceb428e4071row8_col1 {\n",
       "            background-color:  #08306b;\n",
       "            color:  #f1f1f1;\n",
       "        }    #T_e116d1b4_91d2_11ea_87a7_4ceb428e4071row8_col2 {\n",
       "            background-color:  #89bedc;\n",
       "            color:  #000000;\n",
       "        }    #T_e116d1b4_91d2_11ea_87a7_4ceb428e4071row8_col3 {\n",
       "            background-color:  #539ecd;\n",
       "            color:  #000000;\n",
       "        }    #T_e116d1b4_91d2_11ea_87a7_4ceb428e4071row8_col4 {\n",
       "            background-color:  #f7fbff;\n",
       "            color:  #000000;\n",
       "        }    #T_e116d1b4_91d2_11ea_87a7_4ceb428e4071row8_col5 {\n",
       "            background-color:  #3f8fc5;\n",
       "            color:  #000000;\n",
       "        }    #T_e116d1b4_91d2_11ea_87a7_4ceb428e4071row8_col6 {\n",
       "            background-color:  #08306b;\n",
       "            color:  #f1f1f1;\n",
       "        }    #T_e116d1b4_91d2_11ea_87a7_4ceb428e4071row8_col7 {\n",
       "            background-color:  #f7fbff;\n",
       "            color:  #000000;\n",
       "        }    #T_e116d1b4_91d2_11ea_87a7_4ceb428e4071row8_col8 {\n",
       "            background-color:  #f7fbff;\n",
       "            color:  #000000;\n",
       "        }    #T_e116d1b4_91d2_11ea_87a7_4ceb428e4071row8_col9 {\n",
       "            background-color:  #105ba4;\n",
       "            color:  #f1f1f1;\n",
       "        }    #T_e116d1b4_91d2_11ea_87a7_4ceb428e4071row8_col10 {\n",
       "            background-color:  #f7fbff;\n",
       "            color:  #000000;\n",
       "        }    #T_e116d1b4_91d2_11ea_87a7_4ceb428e4071row9_col1 {\n",
       "            background-color:  #d0e1f2;\n",
       "            color:  #000000;\n",
       "        }    #T_e116d1b4_91d2_11ea_87a7_4ceb428e4071row9_col2 {\n",
       "            background-color:  #539ecd;\n",
       "            color:  #000000;\n",
       "        }    #T_e116d1b4_91d2_11ea_87a7_4ceb428e4071row9_col3 {\n",
       "            background-color:  #08306b;\n",
       "            color:  #f1f1f1;\n",
       "        }    #T_e116d1b4_91d2_11ea_87a7_4ceb428e4071row9_col4 {\n",
       "            background-color:  #f7fbff;\n",
       "            color:  #000000;\n",
       "        }    #T_e116d1b4_91d2_11ea_87a7_4ceb428e4071row9_col5 {\n",
       "            background-color:  #f7fbff;\n",
       "            color:  #000000;\n",
       "        }    #T_e116d1b4_91d2_11ea_87a7_4ceb428e4071row9_col6 {\n",
       "            background-color:  #f7fbff;\n",
       "            color:  #000000;\n",
       "        }    #T_e116d1b4_91d2_11ea_87a7_4ceb428e4071row9_col7 {\n",
       "            background-color:  #08306b;\n",
       "            color:  #f1f1f1;\n",
       "        }    #T_e116d1b4_91d2_11ea_87a7_4ceb428e4071row9_col8 {\n",
       "            background-color:  #4a98c9;\n",
       "            color:  #000000;\n",
       "        }    #T_e116d1b4_91d2_11ea_87a7_4ceb428e4071row9_col9 {\n",
       "            background-color:  #105ba4;\n",
       "            color:  #f1f1f1;\n",
       "        }    #T_e116d1b4_91d2_11ea_87a7_4ceb428e4071row9_col10 {\n",
       "            background-color:  #f7fbff;\n",
       "            color:  #000000;\n",
       "        }</style><table id=\"T_e116d1b4_91d2_11ea_87a7_4ceb428e4071\" ><thead>    <tr>        <th class=\"col_heading level0 col0\" >Name</th>        <th class=\"col_heading level0 col1\" >Age</th>        <th class=\"col_heading level0 col2\" >Dri</th>        <th class=\"col_heading level0 col3\" >Fin</th>        <th class=\"col_heading level0 col4\" >Fir</th>        <th class=\"col_heading level0 col5\" >Tec</th>        <th class=\"col_heading level0 col6\" >OtB</th>        <th class=\"col_heading level0 col7\" >Acc</th>        <th class=\"col_heading level0 col8\" >Agi</th>        <th class=\"col_heading level0 col9\" >Bal</th>        <th class=\"col_heading level0 col10\" >ifa_score</th>    </tr></thead><tbody>\n",
       "                <tr>\n",
       "                                <td id=\"T_e116d1b4_91d2_11ea_87a7_4ceb428e4071row0_col0\" class=\"data row0 col0\" >Milan Mugosa</td>\n",
       "                        <td id=\"T_e116d1b4_91d2_11ea_87a7_4ceb428e4071row0_col1\" class=\"data row0 col1\" >                  18</td>\n",
       "                        <td id=\"T_e116d1b4_91d2_11ea_87a7_4ceb428e4071row0_col2\" class=\"data row0 col2\" >14</td>\n",
       "                        <td id=\"T_e116d1b4_91d2_11ea_87a7_4ceb428e4071row0_col3\" class=\"data row0 col3\" >12</td>\n",
       "                        <td id=\"T_e116d1b4_91d2_11ea_87a7_4ceb428e4071row0_col4\" class=\"data row0 col4\" >14</td>\n",
       "                        <td id=\"T_e116d1b4_91d2_11ea_87a7_4ceb428e4071row0_col5\" class=\"data row0 col5\" >11</td>\n",
       "                        <td id=\"T_e116d1b4_91d2_11ea_87a7_4ceb428e4071row0_col6\" class=\"data row0 col6\" >14</td>\n",
       "                        <td id=\"T_e116d1b4_91d2_11ea_87a7_4ceb428e4071row0_col7\" class=\"data row0 col7\" >13</td>\n",
       "                        <td id=\"T_e116d1b4_91d2_11ea_87a7_4ceb428e4071row0_col8\" class=\"data row0 col8\" >15</td>\n",
       "                        <td id=\"T_e116d1b4_91d2_11ea_87a7_4ceb428e4071row0_col9\" class=\"data row0 col9\" >13</td>\n",
       "                        <td id=\"T_e116d1b4_91d2_11ea_87a7_4ceb428e4071row0_col10\" class=\"data row0 col10\" >106</td>\n",
       "            </tr>\n",
       "            <tr>\n",
       "                                <td id=\"T_e116d1b4_91d2_11ea_87a7_4ceb428e4071row1_col0\" class=\"data row1 col0\" >Filipe Cerqueira</td>\n",
       "                        <td id=\"T_e116d1b4_91d2_11ea_87a7_4ceb428e4071row1_col1\" class=\"data row1 col1\" >                  18</td>\n",
       "                        <td id=\"T_e116d1b4_91d2_11ea_87a7_4ceb428e4071row1_col2\" class=\"data row1 col2\" >13</td>\n",
       "                        <td id=\"T_e116d1b4_91d2_11ea_87a7_4ceb428e4071row1_col3\" class=\"data row1 col3\" >8</td>\n",
       "                        <td id=\"T_e116d1b4_91d2_11ea_87a7_4ceb428e4071row1_col4\" class=\"data row1 col4\" >15</td>\n",
       "                        <td id=\"T_e116d1b4_91d2_11ea_87a7_4ceb428e4071row1_col5\" class=\"data row1 col5\" >15</td>\n",
       "                        <td id=\"T_e116d1b4_91d2_11ea_87a7_4ceb428e4071row1_col6\" class=\"data row1 col6\" >10</td>\n",
       "                        <td id=\"T_e116d1b4_91d2_11ea_87a7_4ceb428e4071row1_col7\" class=\"data row1 col7\" >15</td>\n",
       "                        <td id=\"T_e116d1b4_91d2_11ea_87a7_4ceb428e4071row1_col8\" class=\"data row1 col8\" >17</td>\n",
       "                        <td id=\"T_e116d1b4_91d2_11ea_87a7_4ceb428e4071row1_col9\" class=\"data row1 col9\" >12</td>\n",
       "                        <td id=\"T_e116d1b4_91d2_11ea_87a7_4ceb428e4071row1_col10\" class=\"data row1 col10\" >105</td>\n",
       "            </tr>\n",
       "            <tr>\n",
       "                                <td id=\"T_e116d1b4_91d2_11ea_87a7_4ceb428e4071row2_col0\" class=\"data row2 col0\" >Virgiliu Postolachi</td>\n",
       "                        <td id=\"T_e116d1b4_91d2_11ea_87a7_4ceb428e4071row2_col1\" class=\"data row2 col1\" >                  22</td>\n",
       "                        <td id=\"T_e116d1b4_91d2_11ea_87a7_4ceb428e4071row2_col2\" class=\"data row2 col2\" >8</td>\n",
       "                        <td id=\"T_e116d1b4_91d2_11ea_87a7_4ceb428e4071row2_col3\" class=\"data row2 col3\" >10</td>\n",
       "                        <td id=\"T_e116d1b4_91d2_11ea_87a7_4ceb428e4071row2_col4\" class=\"data row2 col4\" >15</td>\n",
       "                        <td id=\"T_e116d1b4_91d2_11ea_87a7_4ceb428e4071row2_col5\" class=\"data row2 col5\" >13</td>\n",
       "                        <td id=\"T_e116d1b4_91d2_11ea_87a7_4ceb428e4071row2_col6\" class=\"data row2 col6\" >12</td>\n",
       "                        <td id=\"T_e116d1b4_91d2_11ea_87a7_4ceb428e4071row2_col7\" class=\"data row2 col7\" >14</td>\n",
       "                        <td id=\"T_e116d1b4_91d2_11ea_87a7_4ceb428e4071row2_col8\" class=\"data row2 col8\" >16</td>\n",
       "                        <td id=\"T_e116d1b4_91d2_11ea_87a7_4ceb428e4071row2_col9\" class=\"data row2 col9\" >14</td>\n",
       "                        <td id=\"T_e116d1b4_91d2_11ea_87a7_4ceb428e4071row2_col10\" class=\"data row2 col10\" >102</td>\n",
       "            </tr>\n",
       "            <tr>\n",
       "                                <td id=\"T_e116d1b4_91d2_11ea_87a7_4ceb428e4071row3_col0\" class=\"data row3 col0\" >Pawel Muzylowski</td>\n",
       "                        <td id=\"T_e116d1b4_91d2_11ea_87a7_4ceb428e4071row3_col1\" class=\"data row3 col1\" >                  18</td>\n",
       "                        <td id=\"T_e116d1b4_91d2_11ea_87a7_4ceb428e4071row3_col2\" class=\"data row3 col2\" >12</td>\n",
       "                        <td id=\"T_e116d1b4_91d2_11ea_87a7_4ceb428e4071row3_col3\" class=\"data row3 col3\" >8</td>\n",
       "                        <td id=\"T_e116d1b4_91d2_11ea_87a7_4ceb428e4071row3_col4\" class=\"data row3 col4\" >13</td>\n",
       "                        <td id=\"T_e116d1b4_91d2_11ea_87a7_4ceb428e4071row3_col5\" class=\"data row3 col5\" >17</td>\n",
       "                        <td id=\"T_e116d1b4_91d2_11ea_87a7_4ceb428e4071row3_col6\" class=\"data row3 col6\" >12</td>\n",
       "                        <td id=\"T_e116d1b4_91d2_11ea_87a7_4ceb428e4071row3_col7\" class=\"data row3 col7\" >11</td>\n",
       "                        <td id=\"T_e116d1b4_91d2_11ea_87a7_4ceb428e4071row3_col8\" class=\"data row3 col8\" >15</td>\n",
       "                        <td id=\"T_e116d1b4_91d2_11ea_87a7_4ceb428e4071row3_col9\" class=\"data row3 col9\" >14</td>\n",
       "                        <td id=\"T_e116d1b4_91d2_11ea_87a7_4ceb428e4071row3_col10\" class=\"data row3 col10\" >102</td>\n",
       "            </tr>\n",
       "            <tr>\n",
       "                                <td id=\"T_e116d1b4_91d2_11ea_87a7_4ceb428e4071row4_col0\" class=\"data row4 col0\" >Adrian Å¢apu</td>\n",
       "                        <td id=\"T_e116d1b4_91d2_11ea_87a7_4ceb428e4071row4_col1\" class=\"data row4 col1\" >                  19</td>\n",
       "                        <td id=\"T_e116d1b4_91d2_11ea_87a7_4ceb428e4071row4_col2\" class=\"data row4 col2\" >13</td>\n",
       "                        <td id=\"T_e116d1b4_91d2_11ea_87a7_4ceb428e4071row4_col3\" class=\"data row4 col3\" >10</td>\n",
       "                        <td id=\"T_e116d1b4_91d2_11ea_87a7_4ceb428e4071row4_col4\" class=\"data row4 col4\" >16</td>\n",
       "                        <td id=\"T_e116d1b4_91d2_11ea_87a7_4ceb428e4071row4_col5\" class=\"data row4 col5\" >12</td>\n",
       "                        <td id=\"T_e116d1b4_91d2_11ea_87a7_4ceb428e4071row4_col6\" class=\"data row4 col6\" >13</td>\n",
       "                        <td id=\"T_e116d1b4_91d2_11ea_87a7_4ceb428e4071row4_col7\" class=\"data row4 col7\" >12</td>\n",
       "                        <td id=\"T_e116d1b4_91d2_11ea_87a7_4ceb428e4071row4_col8\" class=\"data row4 col8\" >14</td>\n",
       "                        <td id=\"T_e116d1b4_91d2_11ea_87a7_4ceb428e4071row4_col9\" class=\"data row4 col9\" >12</td>\n",
       "                        <td id=\"T_e116d1b4_91d2_11ea_87a7_4ceb428e4071row4_col10\" class=\"data row4 col10\" >102</td>\n",
       "            </tr>\n",
       "            <tr>\n",
       "                                <td id=\"T_e116d1b4_91d2_11ea_87a7_4ceb428e4071row5_col0\" class=\"data row5 col0\" >JesÃºs Vargas</td>\n",
       "                        <td id=\"T_e116d1b4_91d2_11ea_87a7_4ceb428e4071row5_col1\" class=\"data row5 col1\" >                  23</td>\n",
       "                        <td id=\"T_e116d1b4_91d2_11ea_87a7_4ceb428e4071row5_col2\" class=\"data row5 col2\" >15</td>\n",
       "                        <td id=\"T_e116d1b4_91d2_11ea_87a7_4ceb428e4071row5_col3\" class=\"data row5 col3\" >8</td>\n",
       "                        <td id=\"T_e116d1b4_91d2_11ea_87a7_4ceb428e4071row5_col4\" class=\"data row5 col4\" >12</td>\n",
       "                        <td id=\"T_e116d1b4_91d2_11ea_87a7_4ceb428e4071row5_col5\" class=\"data row5 col5\" >15</td>\n",
       "                        <td id=\"T_e116d1b4_91d2_11ea_87a7_4ceb428e4071row5_col6\" class=\"data row5 col6\" >12</td>\n",
       "                        <td id=\"T_e116d1b4_91d2_11ea_87a7_4ceb428e4071row5_col7\" class=\"data row5 col7\" >13</td>\n",
       "                        <td id=\"T_e116d1b4_91d2_11ea_87a7_4ceb428e4071row5_col8\" class=\"data row5 col8\" >14</td>\n",
       "                        <td id=\"T_e116d1b4_91d2_11ea_87a7_4ceb428e4071row5_col9\" class=\"data row5 col9\" >11</td>\n",
       "                        <td id=\"T_e116d1b4_91d2_11ea_87a7_4ceb428e4071row5_col10\" class=\"data row5 col10\" >100</td>\n",
       "            </tr>\n",
       "            <tr>\n",
       "                                <td id=\"T_e116d1b4_91d2_11ea_87a7_4ceb428e4071row6_col0\" class=\"data row6 col0\" >Fran Tomek</td>\n",
       "                        <td id=\"T_e116d1b4_91d2_11ea_87a7_4ceb428e4071row6_col1\" class=\"data row6 col1\" >                  20</td>\n",
       "                        <td id=\"T_e116d1b4_91d2_11ea_87a7_4ceb428e4071row6_col2\" class=\"data row6 col2\" >12</td>\n",
       "                        <td id=\"T_e116d1b4_91d2_11ea_87a7_4ceb428e4071row6_col3\" class=\"data row6 col3\" >11</td>\n",
       "                        <td id=\"T_e116d1b4_91d2_11ea_87a7_4ceb428e4071row6_col4\" class=\"data row6 col4\" >13</td>\n",
       "                        <td id=\"T_e116d1b4_91d2_11ea_87a7_4ceb428e4071row6_col5\" class=\"data row6 col5\" >12</td>\n",
       "                        <td id=\"T_e116d1b4_91d2_11ea_87a7_4ceb428e4071row6_col6\" class=\"data row6 col6\" >10</td>\n",
       "                        <td id=\"T_e116d1b4_91d2_11ea_87a7_4ceb428e4071row6_col7\" class=\"data row6 col7\" >14</td>\n",
       "                        <td id=\"T_e116d1b4_91d2_11ea_87a7_4ceb428e4071row6_col8\" class=\"data row6 col8\" >14</td>\n",
       "                        <td id=\"T_e116d1b4_91d2_11ea_87a7_4ceb428e4071row6_col9\" class=\"data row6 col9\" >13</td>\n",
       "                        <td id=\"T_e116d1b4_91d2_11ea_87a7_4ceb428e4071row6_col10\" class=\"data row6 col10\" >99</td>\n",
       "            </tr>\n",
       "            <tr>\n",
       "                                <td id=\"T_e116d1b4_91d2_11ea_87a7_4ceb428e4071row7_col0\" class=\"data row7 col0\" >Mihael Kupresak</td>\n",
       "                        <td id=\"T_e116d1b4_91d2_11ea_87a7_4ceb428e4071row7_col1\" class=\"data row7 col1\" >                  21</td>\n",
       "                        <td id=\"T_e116d1b4_91d2_11ea_87a7_4ceb428e4071row7_col2\" class=\"data row7 col2\" >12</td>\n",
       "                        <td id=\"T_e116d1b4_91d2_11ea_87a7_4ceb428e4071row7_col3\" class=\"data row7 col3\" >12</td>\n",
       "                        <td id=\"T_e116d1b4_91d2_11ea_87a7_4ceb428e4071row7_col4\" class=\"data row7 col4\" >13</td>\n",
       "                        <td id=\"T_e116d1b4_91d2_11ea_87a7_4ceb428e4071row7_col5\" class=\"data row7 col5\" >14</td>\n",
       "                        <td id=\"T_e116d1b4_91d2_11ea_87a7_4ceb428e4071row7_col6\" class=\"data row7 col6\" >14</td>\n",
       "                        <td id=\"T_e116d1b4_91d2_11ea_87a7_4ceb428e4071row7_col7\" class=\"data row7 col7\" >13</td>\n",
       "                        <td id=\"T_e116d1b4_91d2_11ea_87a7_4ceb428e4071row7_col8\" class=\"data row7 col8\" >13</td>\n",
       "                        <td id=\"T_e116d1b4_91d2_11ea_87a7_4ceb428e4071row7_col9\" class=\"data row7 col9\" >8</td>\n",
       "                        <td id=\"T_e116d1b4_91d2_11ea_87a7_4ceb428e4071row7_col10\" class=\"data row7 col10\" >99</td>\n",
       "            </tr>\n",
       "            <tr>\n",
       "                                <td id=\"T_e116d1b4_91d2_11ea_87a7_4ceb428e4071row8_col0\" class=\"data row8 col0\" >Djordje Jovanovic</td>\n",
       "                        <td id=\"T_e116d1b4_91d2_11ea_87a7_4ceb428e4071row8_col1\" class=\"data row8 col1\" >                  23</td>\n",
       "                        <td id=\"T_e116d1b4_91d2_11ea_87a7_4ceb428e4071row8_col2\" class=\"data row8 col2\" >11</td>\n",
       "                        <td id=\"T_e116d1b4_91d2_11ea_87a7_4ceb428e4071row8_col3\" class=\"data row8 col3\" >12</td>\n",
       "                        <td id=\"T_e116d1b4_91d2_11ea_87a7_4ceb428e4071row8_col4\" class=\"data row8 col4\" >12</td>\n",
       "                        <td id=\"T_e116d1b4_91d2_11ea_87a7_4ceb428e4071row8_col5\" class=\"data row8 col5\" >13</td>\n",
       "                        <td id=\"T_e116d1b4_91d2_11ea_87a7_4ceb428e4071row8_col6\" class=\"data row8 col6\" >14</td>\n",
       "                        <td id=\"T_e116d1b4_91d2_11ea_87a7_4ceb428e4071row8_col7\" class=\"data row8 col7\" >11</td>\n",
       "                        <td id=\"T_e116d1b4_91d2_11ea_87a7_4ceb428e4071row8_col8\" class=\"data row8 col8\" >12</td>\n",
       "                        <td id=\"T_e116d1b4_91d2_11ea_87a7_4ceb428e4071row8_col9\" class=\"data row8 col9\" >13</td>\n",
       "                        <td id=\"T_e116d1b4_91d2_11ea_87a7_4ceb428e4071row8_col10\" class=\"data row8 col10\" >98</td>\n",
       "            </tr>\n",
       "            <tr>\n",
       "                                <td id=\"T_e116d1b4_91d2_11ea_87a7_4ceb428e4071row9_col0\" class=\"data row9 col0\" >Duje Skugor</td>\n",
       "                        <td id=\"T_e116d1b4_91d2_11ea_87a7_4ceb428e4071row9_col1\" class=\"data row9 col1\" >                  19</td>\n",
       "                        <td id=\"T_e116d1b4_91d2_11ea_87a7_4ceb428e4071row9_col2\" class=\"data row9 col2\" >12</td>\n",
       "                        <td id=\"T_e116d1b4_91d2_11ea_87a7_4ceb428e4071row9_col3\" class=\"data row9 col3\" >15</td>\n",
       "                        <td id=\"T_e116d1b4_91d2_11ea_87a7_4ceb428e4071row9_col4\" class=\"data row9 col4\" >12</td>\n",
       "                        <td id=\"T_e116d1b4_91d2_11ea_87a7_4ceb428e4071row9_col5\" class=\"data row9 col5\" >6</td>\n",
       "                        <td id=\"T_e116d1b4_91d2_11ea_87a7_4ceb428e4071row9_col6\" class=\"data row9 col6\" >10</td>\n",
       "                        <td id=\"T_e116d1b4_91d2_11ea_87a7_4ceb428e4071row9_col7\" class=\"data row9 col7\" >15</td>\n",
       "                        <td id=\"T_e116d1b4_91d2_11ea_87a7_4ceb428e4071row9_col8\" class=\"data row9 col8\" >15</td>\n",
       "                        <td id=\"T_e116d1b4_91d2_11ea_87a7_4ceb428e4071row9_col9\" class=\"data row9 col9\" >13</td>\n",
       "                        <td id=\"T_e116d1b4_91d2_11ea_87a7_4ceb428e4071row9_col10\" class=\"data row9 col10\" >98</td>\n",
       "            </tr>\n",
       "    </tbody></table>"
      ],
      "text/plain": [
       "<pandas.io.formats.style.Styler at 0xcd08568>"
      ]
     },
     "execution_count": 22,
     "metadata": {},
     "output_type": "execute_result"
    }
   ],
   "source": [
    "print(\"Inside Forward Attack\")\n",
    "sorted_ifa = ifa.sort_values(by='ifa_score', ascending=False)\n",
    "sorted_ifa.head(10).style.format({\"Age\": \"{:20,.0f}\", \n",
    "                          })\\\n",
    "                       .hide_index()\\\n",
    "                       .background_gradient(cmap='Blues')"
   ]
  },
  {
   "cell_type": "code",
   "execution_count": 23,
   "metadata": {},
   "outputs": [
    {
     "data": {
      "application/vnd.plotly.v1+json": {
       "config": {
        "linkText": "Export to plot.ly",
        "plotlyServerURL": "https://plot.ly",
        "showLink": true
       },
       "data": [
        {
         "line": {
          "color": "rgba(255, 153, 51, 1.0)",
          "dash": "solid",
          "shape": "linear",
          "width": 1.3
         },
         "marker": {
          "size": 10,
          "symbol": "circle"
         },
         "mode": "markers",
         "name": "Ch C/90",
         "text": [
          "Djibril DiakitÃ©",
          "JoÃ£o Tavares",
          "Matej Hudecek",
          "Adrian Rybak",
          "Oskar Repka",
          "Maciej Obodecki",
          "Ivo Kralj",
          "Bartosz Sobczyk",
          "Ivan Tomac",
          "Nikola Bogdanovski",
          "Stefan Velickovic",
          "Andrija Zakoc",
          "AurÃ©lien Nguiamba",
          "Flynn Downes",
          "Nikola Puzic",
          "Andjelo Kacavenda",
          "Tymoteusz Puchacz",
          "Felix Brunmayr",
          "Lennart Grill",
          "Josip Rakic",
          "Stefan Randjelovic",
          "Radoslaw Dzierbicki",
          "Alexandar Ubavic",
          "Veljko Jovkovic",
          "Mariano GÃ³mez",
          "David Bumberger",
          "Enrico Huss",
          "Mateo Jaksic",
          "Konrad Jozwicki",
          "Nikita Marusenko",
          "Djordje Jovanovic",
          "Filip Lisnic",
          "Dawid Szalas",
          "Vladimir Ilic",
          "Marcin Mackowiak",
          "Florin Codrean",
          "David Otto",
          "Stefan Golubovic",
          "Keanan Bennetts",
          "Andrej Vukas",
          "Jannik Tepe",
          "Mladen Devetak",
          "Tom Baack",
          "Jan Sobocinski",
          "TomÃ¡s Blanco",
          "Sinan Karweina",
          "Ben Williams",
          "Arkadiusz Zajaczkowski",
          "Miguel Reisinho",
          "Filp Ceko",
          "Michel StÃ¶cker",
          "JÃ©rÃ´me Deom",
          "Ranko Jokic",
          "Palko DÃ¡rdai",
          "Aleksander Tomasz",
          "Alex Vigo",
          "Daniel Bielica",
          "Marko Djira",
          "Norbert Walczak",
          "Boris Moltenis",
          "Julius Kade",
          "Goran Buljandric",
          "Jannis KÃ¼bler",
          "Aleksa Jovanovic",
          "Tomasz Owczarek",
          "David Wittkowski",
          "Konrad Zaklika",
          "Pawel Karbowinski",
          "Nicky Werner",
          "Julijan Popovic",
          "Nassim Boujellab",
          "Bartlomiej Gajda",
          "Nemanja Matijevic",
          "Marko Denic",
          "Robert Baar",
          "Tuta",
          "Dusan Jokovic",
          "Tomasz Dzida",
          "Aleksa Pejic",
          "Krsta Bojic",
          "Sikou NiakatÃ©",
          "Tomasz Makowski",
          "Sebastian Gwozdz",
          "Adrian Polanski",
          "Bryan Mbeumo",
          "Dorin Sirbu",
          "Elvis Novalic",
          "MickaÃ«l Cuisance",
          "Mateusz Madzia",
          "JesÃºs Vargas",
          "Marino Jedvaj",
          "Raphael Assibey-Mensah",
          "Lukasz Sztylka",
          "Zoran Zrnzevic",
          "Alex Krawiec",
          "Petar Melezovic",
          "Tomasz Kurek",
          "Danko Radic",
          "Paul Mensah",
          "Jordan Williams",
          "Mario Mustapic",
          "Nikola Trickovic",
          "Patrik Delic",
          "Maciej Famulak",
          "Wiktor Nahrebecki",
          "Barne Poggenberg",
          "Mirza Jasarevic",
          "Ratko Minic",
          "Semih Åahin",
          "Matej Santek",
          "Georgios Siadas",
          "Tyrese Campbell",
          "Martin Krizmanic",
          "Kacper Laskos",
          "Aleksa Milojevic",
          "Cheick DoucourÃ©",
          "Ivan Jakovljev",
          "Przemyslaw Zdybowicz",
          "Sven Botman",
          "Malik Karaahmet",
          "Lukas KrÃ¼ger",
          "Niclas Stierlin",
          "Mane Markovic",
          "Karol Czubak",
          "Ilija Dejanovic",
          "Pascal Hackethal",
          "Oleg Gorin",
          "Michal Zieba",
          "Miodrag Maljkovic",
          "Jakov Blagaic",
          "Harisson Marcelin",
          "Vice Bazdaric",
          "Daniel Liszka",
          "Jan Sieracki",
          "Jhonny Lucas",
          "Tymoteusz Klups",
          "Josip Sutalo",
          "Othman Boussaid",
          "Evert Linthorst",
          "Jusuf Gazibegovic",
          "Virgiliu Postolachi",
          "Luis GÃ¶rlich",
          "Andrej Ilic",
          "Daniel Haritonov",
          "Patryk Drabik",
          "Tom Dobek-Pietrowski",
          "Michal Mydlarz",
          "Cho Jeong-Hui",
          "Mohamed Loua",
          "Nemanja Zikic",
          "Emir Sejdovic",
          "Samuel Lengle",
          "Mateusz Duchowski",
          "Iliya Gruev",
          "Bartosz Borun",
          "Juraj Ljubic",
          "GonÃ§alo Rebelo",
          "Dominik Resetar",
          "Jurica Prsir",
          "Piotr Wujec",
          "Jan Majsterek",
          "Mitchel Bakker",
          "Kamil Piatkowski",
          "Michal Ozga",
          "Karol Turek",
          "Toni Karimovic",
          "Billy Crellin",
          "Konrad Sieracki",
          "Vando Luis",
          "Jan Los",
          "Jessic Ngankam",
          "Adam Borkowski",
          "Julian Rieckmann",
          "Luka Pavlak",
          "Robert Ion",
          "Linus RosenlÃ¶cher",
          "Eugen Telch",
          "Nicholas Wunsch",
          "Dawid Kisly",
          "Uros Miloradovic",
          "Alois Oroz",
          "Luca Bazzoli",
          "Ronan Darcy",
          "Yann-Aurel Bisseck",
          "Timo Bornemann",
          "Radivoj Bosic",
          "Jakov Katusa",
          "Kacper Jozefiak",
          "Szymon Mroczko",
          "Karol Struski",
          "Wojciech Kaminski",
          "Piotr Lisowski",
          "Daishawn Redan",
          "Kacper Smolinski",
          "Lukas SchÃ¶fl",
          "Mikolaj Labojko",
          "Jakub Karbownik",
          "Damir Magdic",
          "Karol Malec",
          "Patryk Wozniak",
          "Can Bozdogan",
          "Aleksander Paluszek",
          "Mario Cuic",
          "Dragoljub Savic",
          "Nathan Collins",
          "Dominik Pila",
          "Mihael Kupresak",
          "Manu KonÃ©",
          "Niels Hahn",
          "Tin Hrvoj",
          "Lucas Da Cunha",
          "Rahim Ibrahim",
          "Renato Josipovic",
          "Han-Noah Massengo",
          "Kacper Wiatrak",
          "Bartosz Kuzniarski",
          "Adrian Petk",
          "Fabian Tauchhammer",
          "Bartlomiej Mruk",
          "Jakub Rudek",
          "Jakub Swiecinski",
          "Jakub Nowakowski",
          "Kamil Dabrowski",
          "Yuri Sprandel Flores",
          "Stefan Radmanovac",
          "Kamal Bafounta",
          "Filip Marchwinski",
          "Kamil Lukoszek",
          "Jakub Niewiadomski",
          "Dominik Kedzior",
          "Joe Gelhardt",
          "Filip Sobiecki",
          "Fran Tomek",
          "Hubert Wasiewski",
          "Djordje Vasic",
          "Jakub Zima",
          "Damian Makuch",
          "Andrzej Kloda",
          "Stipe Biuk",
          "Mateusz Pienczak",
          "FIlip Brekalo",
          "Stefan Despotovski",
          "Jakub Kisiel",
          "Duje Skugor",
          "Martin Baturina",
          "Radoslaw Cielemecki",
          "Ariel Mosor",
          "Nikola Petkovic",
          "Nikodem Sujecki",
          "Ivan Mandic",
          "Stanislaw Loch",
          "Dario Grgic",
          "Wojciech Szybka",
          "Kacper Szmidt",
          "Vukasin Krstic",
          "Obrendo Doesburg",
          "Casper Elderman",
          "Predrag Jovic",
          "Daniel Hoyo-Kowalski",
          "Darijo Basic",
          "Wiktor Mosur",
          "Uros Mirkovic",
          "Marcos RodrÃ­guez",
          "Adrian Å¢apu",
          "Paul Mari",
          "Pawel Muzylowski",
          "Dragan Radovic",
          "Szymon Kobeszko",
          "Marcin Dabrowski",
          "Jorge Delgado",
          "Daniel Piesio",
          null
         ],
         "type": "scatter",
         "x": [
          "0.07",
          "0.14",
          "0.17",
          "0.06",
          "-",
          "0.17",
          "-",
          "0.08",
          "-",
          "0.24",
          "-",
          "-",
          "-",
          "-",
          "0.07",
          "0.05",
          "0.38",
          "-",
          "-",
          "0.08",
          "-",
          "-",
          "0.13",
          "0.23",
          "0.11",
          "-",
          "-",
          "0.07",
          "-",
          "0.06",
          "0.54",
          "0.06",
          "0.05",
          "0.10",
          "0.06",
          "-",
          "0.62",
          "-",
          "-",
          "0.10",
          "0.32",
          "-",
          "-",
          "-",
          "0.23",
          "0.32",
          "-",
          "0.16",
          "-",
          "0.06",
          "-",
          "0.14",
          "-",
          "0.28",
          "0.06",
          "0.11",
          "-",
          "-",
          "0.14",
          "-",
          "0.12",
          "-",
          "0.13",
          "0.05",
          "-",
          "0.05",
          "-",
          "-",
          "0.15",
          "-",
          "0.23",
          "0.11",
          "0.33",
          "0.05",
          "-",
          "-",
          "0.06",
          "0.17",
          "-",
          "0.24",
          "-",
          "0.07",
          "0.13",
          "0.24",
          "0.30",
          "-",
          "0.05",
          "0.12",
          "-",
          "0.22",
          "-",
          "0.09",
          "-",
          "0.13",
          "0.23",
          "0.05",
          "0.61",
          "0.15",
          "0.45",
          "-",
          "-",
          "-",
          "-",
          "0.08",
          "0.07",
          "0.05",
          "0.18",
          "0.16",
          "0.19",
          "0.07",
          "-",
          "0.33",
          "-",
          "-",
          "-",
          "0.11",
          "0.09",
          "0.39",
          "-",
          "0.79",
          "0.06",
          "-",
          "-",
          "0.49",
          "0.09",
          "-",
          "0.18",
          "0.24",
          "0.55",
          "0.31",
          "0.06",
          "-",
          "0.06",
          "0.08",
          "0.15",
          "0.22",
          "-",
          "0.07",
          "0.21",
          "-",
          "0.07",
          "0.05",
          "0.22",
          "-",
          "0.37",
          "0.07",
          "0.22",
          "-",
          "-",
          "0.04",
          "0.04",
          "0.20",
          "0.44",
          "-",
          "-",
          "0.16",
          "0.04",
          "0.64",
          "0.18",
          "0.06",
          "0.17",
          "-",
          "-",
          "0.09",
          "-",
          "0.26",
          "-",
          "-",
          "-",
          "0.45",
          "0.13",
          "0.08",
          "-",
          "0.19",
          "0.18",
          "-",
          "-",
          "-",
          "-",
          "0.08",
          "0.12",
          "0.10",
          "0.23",
          "-",
          "0.69",
          "-",
          "0.06",
          "-",
          "-",
          "0.07",
          "0.05",
          "-",
          "0.64",
          "-",
          "0.06",
          "0.14",
          "-",
          "0.08",
          "0.05",
          "0.16",
          "-",
          "0.08",
          "-",
          "0.14",
          "-",
          "0.09",
          "0.42",
          "0.12",
          "0.06",
          "0.08",
          "0.06",
          "0.03",
          "-",
          "0.08",
          "-",
          "0.62",
          "0.17",
          "-",
          "-",
          "0.17",
          "-",
          "0.05",
          "0.07",
          "-",
          "0.16",
          "-",
          "0.18",
          "0.31",
          "0.07",
          "0.17",
          "0.44",
          "0.15",
          "0.13",
          "-",
          "-",
          "0.08",
          "0.07",
          "-",
          "0.19",
          "-",
          "-",
          "0.10",
          "0.08",
          "0.38",
          "-",
          "0.06",
          "-",
          "0.22",
          "-",
          "-",
          "0.41",
          "0.06",
          "0.08",
          "0.07",
          "0.14",
          "0.09",
          "-",
          "0.11",
          "-",
          "0.08",
          "-",
          "0.11",
          "-",
          "0.16",
          "0.06",
          "0.20",
          "0.34",
          "-",
          "-",
          "-",
          "0.13",
          null
         ],
         "y": [
          "-",
          "-",
          "0.67",
          "0.18",
          "0.56",
          "-",
          "0.57",
          "0.60",
          "1.45",
          "2.63",
          "1.22",
          "0.16",
          "0.28",
          "0.44",
          "3.62",
          "0.77",
          "0.60",
          "1.09",
          "-",
          "0.46",
          "-",
          "0.53",
          "-",
          "0.98",
          "0.17",
          "0.45",
          "0.65",
          "1.22",
          "1.44",
          "0.40",
          "0.85",
          "0.33",
          "1.97",
          "0.10",
          "0.77",
          "-",
          "0.68",
          "0.25",
          "0.83",
          "0.29",
          "0.70",
          "0.99",
          "-",
          "0.58",
          "1.01",
          "1.13",
          "0.62",
          "0.48",
          "0.87",
          "0.44",
          "0.46",
          "0.64",
          "0.56",
          "3.24",
          "-",
          "0.17",
          "-",
          "0.37",
          "-",
          "0.28",
          "0.37",
          "-",
          "1.08",
          "0.25",
          "0.12",
          "0.25",
          "0.33",
          "1.16",
          "0.53",
          "0.92",
          "1.15",
          "1.09",
          "1.42",
          "-",
          "0.34",
          "-",
          "0.43",
          "1.36",
          "1.32",
          "1.59",
          "0.52",
          "0.27",
          "-",
          "0.88",
          "1.89",
          "-",
          "1.70",
          "2.37",
          "0.33",
          "1.49",
          "-",
          "-",
          "0.97",
          "-",
          "3.37",
          "-",
          "0.55",
          "2.14",
          "1.09",
          "0.93",
          "-",
          "0.57",
          "-",
          "0.62",
          "2.29",
          "0.51",
          "0.78",
          "1.48",
          "1.79",
          "2.26",
          "1.06",
          "0.84",
          "0.16",
          "0.36",
          "-",
          "1.07",
          "-",
          "0.92",
          "0.11",
          "-",
          "1.02",
          "0.60",
          "-",
          "0.56",
          "-",
          "0.41",
          "2.38",
          "0.32",
          "1.48",
          "1.63",
          "-",
          "-",
          "2.33",
          "0.92",
          "1.38",
          "1.59",
          "0.29",
          "-",
          "0.84",
          "0.79",
          "-",
          "1.83",
          "0.81",
          "0.55",
          "1.94",
          "2.17",
          "1.85",
          "0.04",
          "0.50",
          "-",
          "1.87",
          "2.13",
          "0.88",
          "0.80",
          "3.17",
          "1.29",
          "-",
          "0.52",
          "2.72",
          "0.28",
          "0.51",
          "0.29",
          "0.44",
          "0.27",
          "0.65",
          "1.38",
          "-",
          "1.33",
          "-",
          "1.51",
          "1.11",
          "0.54",
          "0.32",
          "0.96",
          "1.02",
          "0.36",
          "-",
          "1.70",
          "0.59",
          "1.51",
          "0.71",
          "0.83",
          "0.23",
          "0.40",
          "0.87",
          "1.49",
          "2.13",
          "0.25",
          "0.14",
          "1.77",
          "0.20",
          "0.55",
          "0.64",
          "0.61",
          "-",
          "-",
          "1.14",
          "0.92",
          "0.79",
          "2.74",
          "1.25",
          "0.08",
          "0.40",
          "-",
          "0.44",
          "1.16",
          "1.39",
          "-",
          "-",
          "0.32",
          "-",
          "-",
          "-",
          "1.67",
          "-",
          "1.72",
          "1.34",
          "-",
          "0.39",
          "1.10",
          "0.77",
          "-",
          "1.51",
          "0.34",
          "0.43",
          "0.44",
          "1.57",
          "1.01",
          "0.13",
          "0.96",
          "-",
          "0.76",
          "1.54",
          "-",
          "0.48",
          "0.47",
          "-",
          "0.09",
          "2.32",
          "0.39",
          "0.81",
          "0.76",
          "1.26",
          "0.31",
          "2.48",
          "1.52",
          "0.45",
          "2.71",
          "-",
          "-",
          "1.95",
          "2.06",
          "1.38",
          "2.89",
          "0.21",
          "-",
          "0.35",
          "1.12",
          "0.15",
          "0.84",
          "1.70",
          "0.85",
          "0.40",
          "1.04",
          "0.51",
          "1.33",
          "1.97",
          "0.98",
          "0.89",
          "0.49",
          "1.59",
          ""
         ]
        }
       ],
       "layout": {
        "legend": {
         "bgcolor": "#F5F6F9",
         "font": {
          "color": "#4D5663"
         }
        },
        "paper_bgcolor": "#F5F6F9",
        "plot_bgcolor": "#F5F6F9",
        "template": {
         "data": {
          "bar": [
           {
            "error_x": {
             "color": "#2a3f5f"
            },
            "error_y": {
             "color": "#2a3f5f"
            },
            "marker": {
             "line": {
              "color": "#E5ECF6",
              "width": 0.5
             }
            },
            "type": "bar"
           }
          ],
          "barpolar": [
           {
            "marker": {
             "line": {
              "color": "#E5ECF6",
              "width": 0.5
             }
            },
            "type": "barpolar"
           }
          ],
          "carpet": [
           {
            "aaxis": {
             "endlinecolor": "#2a3f5f",
             "gridcolor": "white",
             "linecolor": "white",
             "minorgridcolor": "white",
             "startlinecolor": "#2a3f5f"
            },
            "baxis": {
             "endlinecolor": "#2a3f5f",
             "gridcolor": "white",
             "linecolor": "white",
             "minorgridcolor": "white",
             "startlinecolor": "#2a3f5f"
            },
            "type": "carpet"
           }
          ],
          "choropleth": [
           {
            "colorbar": {
             "outlinewidth": 0,
             "ticks": ""
            },
            "type": "choropleth"
           }
          ],
          "contour": [
           {
            "colorbar": {
             "outlinewidth": 0,
             "ticks": ""
            },
            "colorscale": [
             [
              0,
              "#0d0887"
             ],
             [
              0.1111111111111111,
              "#46039f"
             ],
             [
              0.2222222222222222,
              "#7201a8"
             ],
             [
              0.3333333333333333,
              "#9c179e"
             ],
             [
              0.4444444444444444,
              "#bd3786"
             ],
             [
              0.5555555555555556,
              "#d8576b"
             ],
             [
              0.6666666666666666,
              "#ed7953"
             ],
             [
              0.7777777777777778,
              "#fb9f3a"
             ],
             [
              0.8888888888888888,
              "#fdca26"
             ],
             [
              1,
              "#f0f921"
             ]
            ],
            "type": "contour"
           }
          ],
          "contourcarpet": [
           {
            "colorbar": {
             "outlinewidth": 0,
             "ticks": ""
            },
            "type": "contourcarpet"
           }
          ],
          "heatmap": [
           {
            "colorbar": {
             "outlinewidth": 0,
             "ticks": ""
            },
            "colorscale": [
             [
              0,
              "#0d0887"
             ],
             [
              0.1111111111111111,
              "#46039f"
             ],
             [
              0.2222222222222222,
              "#7201a8"
             ],
             [
              0.3333333333333333,
              "#9c179e"
             ],
             [
              0.4444444444444444,
              "#bd3786"
             ],
             [
              0.5555555555555556,
              "#d8576b"
             ],
             [
              0.6666666666666666,
              "#ed7953"
             ],
             [
              0.7777777777777778,
              "#fb9f3a"
             ],
             [
              0.8888888888888888,
              "#fdca26"
             ],
             [
              1,
              "#f0f921"
             ]
            ],
            "type": "heatmap"
           }
          ],
          "heatmapgl": [
           {
            "colorbar": {
             "outlinewidth": 0,
             "ticks": ""
            },
            "colorscale": [
             [
              0,
              "#0d0887"
             ],
             [
              0.1111111111111111,
              "#46039f"
             ],
             [
              0.2222222222222222,
              "#7201a8"
             ],
             [
              0.3333333333333333,
              "#9c179e"
             ],
             [
              0.4444444444444444,
              "#bd3786"
             ],
             [
              0.5555555555555556,
              "#d8576b"
             ],
             [
              0.6666666666666666,
              "#ed7953"
             ],
             [
              0.7777777777777778,
              "#fb9f3a"
             ],
             [
              0.8888888888888888,
              "#fdca26"
             ],
             [
              1,
              "#f0f921"
             ]
            ],
            "type": "heatmapgl"
           }
          ],
          "histogram": [
           {
            "marker": {
             "colorbar": {
              "outlinewidth": 0,
              "ticks": ""
             }
            },
            "type": "histogram"
           }
          ],
          "histogram2d": [
           {
            "colorbar": {
             "outlinewidth": 0,
             "ticks": ""
            },
            "colorscale": [
             [
              0,
              "#0d0887"
             ],
             [
              0.1111111111111111,
              "#46039f"
             ],
             [
              0.2222222222222222,
              "#7201a8"
             ],
             [
              0.3333333333333333,
              "#9c179e"
             ],
             [
              0.4444444444444444,
              "#bd3786"
             ],
             [
              0.5555555555555556,
              "#d8576b"
             ],
             [
              0.6666666666666666,
              "#ed7953"
             ],
             [
              0.7777777777777778,
              "#fb9f3a"
             ],
             [
              0.8888888888888888,
              "#fdca26"
             ],
             [
              1,
              "#f0f921"
             ]
            ],
            "type": "histogram2d"
           }
          ],
          "histogram2dcontour": [
           {
            "colorbar": {
             "outlinewidth": 0,
             "ticks": ""
            },
            "colorscale": [
             [
              0,
              "#0d0887"
             ],
             [
              0.1111111111111111,
              "#46039f"
             ],
             [
              0.2222222222222222,
              "#7201a8"
             ],
             [
              0.3333333333333333,
              "#9c179e"
             ],
             [
              0.4444444444444444,
              "#bd3786"
             ],
             [
              0.5555555555555556,
              "#d8576b"
             ],
             [
              0.6666666666666666,
              "#ed7953"
             ],
             [
              0.7777777777777778,
              "#fb9f3a"
             ],
             [
              0.8888888888888888,
              "#fdca26"
             ],
             [
              1,
              "#f0f921"
             ]
            ],
            "type": "histogram2dcontour"
           }
          ],
          "mesh3d": [
           {
            "colorbar": {
             "outlinewidth": 0,
             "ticks": ""
            },
            "type": "mesh3d"
           }
          ],
          "parcoords": [
           {
            "line": {
             "colorbar": {
              "outlinewidth": 0,
              "ticks": ""
             }
            },
            "type": "parcoords"
           }
          ],
          "pie": [
           {
            "automargin": true,
            "type": "pie"
           }
          ],
          "scatter": [
           {
            "marker": {
             "colorbar": {
              "outlinewidth": 0,
              "ticks": ""
             }
            },
            "type": "scatter"
           }
          ],
          "scatter3d": [
           {
            "line": {
             "colorbar": {
              "outlinewidth": 0,
              "ticks": ""
             }
            },
            "marker": {
             "colorbar": {
              "outlinewidth": 0,
              "ticks": ""
             }
            },
            "type": "scatter3d"
           }
          ],
          "scattercarpet": [
           {
            "marker": {
             "colorbar": {
              "outlinewidth": 0,
              "ticks": ""
             }
            },
            "type": "scattercarpet"
           }
          ],
          "scattergeo": [
           {
            "marker": {
             "colorbar": {
              "outlinewidth": 0,
              "ticks": ""
             }
            },
            "type": "scattergeo"
           }
          ],
          "scattergl": [
           {
            "marker": {
             "colorbar": {
              "outlinewidth": 0,
              "ticks": ""
             }
            },
            "type": "scattergl"
           }
          ],
          "scattermapbox": [
           {
            "marker": {
             "colorbar": {
              "outlinewidth": 0,
              "ticks": ""
             }
            },
            "type": "scattermapbox"
           }
          ],
          "scatterpolar": [
           {
            "marker": {
             "colorbar": {
              "outlinewidth": 0,
              "ticks": ""
             }
            },
            "type": "scatterpolar"
           }
          ],
          "scatterpolargl": [
           {
            "marker": {
             "colorbar": {
              "outlinewidth": 0,
              "ticks": ""
             }
            },
            "type": "scatterpolargl"
           }
          ],
          "scatterternary": [
           {
            "marker": {
             "colorbar": {
              "outlinewidth": 0,
              "ticks": ""
             }
            },
            "type": "scatterternary"
           }
          ],
          "surface": [
           {
            "colorbar": {
             "outlinewidth": 0,
             "ticks": ""
            },
            "colorscale": [
             [
              0,
              "#0d0887"
             ],
             [
              0.1111111111111111,
              "#46039f"
             ],
             [
              0.2222222222222222,
              "#7201a8"
             ],
             [
              0.3333333333333333,
              "#9c179e"
             ],
             [
              0.4444444444444444,
              "#bd3786"
             ],
             [
              0.5555555555555556,
              "#d8576b"
             ],
             [
              0.6666666666666666,
              "#ed7953"
             ],
             [
              0.7777777777777778,
              "#fb9f3a"
             ],
             [
              0.8888888888888888,
              "#fdca26"
             ],
             [
              1,
              "#f0f921"
             ]
            ],
            "type": "surface"
           }
          ],
          "table": [
           {
            "cells": {
             "fill": {
              "color": "#EBF0F8"
             },
             "line": {
              "color": "white"
             }
            },
            "header": {
             "fill": {
              "color": "#C8D4E3"
             },
             "line": {
              "color": "white"
             }
            },
            "type": "table"
           }
          ]
         },
         "layout": {
          "annotationdefaults": {
           "arrowcolor": "#2a3f5f",
           "arrowhead": 0,
           "arrowwidth": 1
          },
          "coloraxis": {
           "colorbar": {
            "outlinewidth": 0,
            "ticks": ""
           }
          },
          "colorscale": {
           "diverging": [
            [
             0,
             "#8e0152"
            ],
            [
             0.1,
             "#c51b7d"
            ],
            [
             0.2,
             "#de77ae"
            ],
            [
             0.3,
             "#f1b6da"
            ],
            [
             0.4,
             "#fde0ef"
            ],
            [
             0.5,
             "#f7f7f7"
            ],
            [
             0.6,
             "#e6f5d0"
            ],
            [
             0.7,
             "#b8e186"
            ],
            [
             0.8,
             "#7fbc41"
            ],
            [
             0.9,
             "#4d9221"
            ],
            [
             1,
             "#276419"
            ]
           ],
           "sequential": [
            [
             0,
             "#0d0887"
            ],
            [
             0.1111111111111111,
             "#46039f"
            ],
            [
             0.2222222222222222,
             "#7201a8"
            ],
            [
             0.3333333333333333,
             "#9c179e"
            ],
            [
             0.4444444444444444,
             "#bd3786"
            ],
            [
             0.5555555555555556,
             "#d8576b"
            ],
            [
             0.6666666666666666,
             "#ed7953"
            ],
            [
             0.7777777777777778,
             "#fb9f3a"
            ],
            [
             0.8888888888888888,
             "#fdca26"
            ],
            [
             1,
             "#f0f921"
            ]
           ],
           "sequentialminus": [
            [
             0,
             "#0d0887"
            ],
            [
             0.1111111111111111,
             "#46039f"
            ],
            [
             0.2222222222222222,
             "#7201a8"
            ],
            [
             0.3333333333333333,
             "#9c179e"
            ],
            [
             0.4444444444444444,
             "#bd3786"
            ],
            [
             0.5555555555555556,
             "#d8576b"
            ],
            [
             0.6666666666666666,
             "#ed7953"
            ],
            [
             0.7777777777777778,
             "#fb9f3a"
            ],
            [
             0.8888888888888888,
             "#fdca26"
            ],
            [
             1,
             "#f0f921"
            ]
           ]
          },
          "colorway": [
           "#636efa",
           "#EF553B",
           "#00cc96",
           "#ab63fa",
           "#FFA15A",
           "#19d3f3",
           "#FF6692",
           "#B6E880",
           "#FF97FF",
           "#FECB52"
          ],
          "font": {
           "color": "#2a3f5f"
          },
          "geo": {
           "bgcolor": "white",
           "lakecolor": "white",
           "landcolor": "#E5ECF6",
           "showlakes": true,
           "showland": true,
           "subunitcolor": "white"
          },
          "hoverlabel": {
           "align": "left"
          },
          "hovermode": "closest",
          "mapbox": {
           "style": "light"
          },
          "paper_bgcolor": "white",
          "plot_bgcolor": "#E5ECF6",
          "polar": {
           "angularaxis": {
            "gridcolor": "white",
            "linecolor": "white",
            "ticks": ""
           },
           "bgcolor": "#E5ECF6",
           "radialaxis": {
            "gridcolor": "white",
            "linecolor": "white",
            "ticks": ""
           }
          },
          "scene": {
           "xaxis": {
            "backgroundcolor": "#E5ECF6",
            "gridcolor": "white",
            "gridwidth": 2,
            "linecolor": "white",
            "showbackground": true,
            "ticks": "",
            "zerolinecolor": "white"
           },
           "yaxis": {
            "backgroundcolor": "#E5ECF6",
            "gridcolor": "white",
            "gridwidth": 2,
            "linecolor": "white",
            "showbackground": true,
            "ticks": "",
            "zerolinecolor": "white"
           },
           "zaxis": {
            "backgroundcolor": "#E5ECF6",
            "gridcolor": "white",
            "gridwidth": 2,
            "linecolor": "white",
            "showbackground": true,
            "ticks": "",
            "zerolinecolor": "white"
           }
          },
          "shapedefaults": {
           "line": {
            "color": "#2a3f5f"
           }
          },
          "ternary": {
           "aaxis": {
            "gridcolor": "white",
            "linecolor": "white",
            "ticks": ""
           },
           "baxis": {
            "gridcolor": "white",
            "linecolor": "white",
            "ticks": ""
           },
           "bgcolor": "#E5ECF6",
           "caxis": {
            "gridcolor": "white",
            "linecolor": "white",
            "ticks": ""
           }
          },
          "title": {
           "x": 0.05
          },
          "xaxis": {
           "automargin": true,
           "gridcolor": "white",
           "linecolor": "white",
           "ticks": "",
           "title": {
            "standoff": 15
           },
           "zerolinecolor": "white",
           "zerolinewidth": 2
          },
          "yaxis": {
           "automargin": true,
           "gridcolor": "white",
           "linecolor": "white",
           "ticks": "",
           "title": {
            "standoff": 15
           },
           "zerolinecolor": "white",
           "zerolinewidth": 2
          }
         }
        },
        "title": {
         "font": {
          "color": "#4D5663"
         },
         "text": "Inside Forward - Attack"
        },
        "xaxis": {
         "gridcolor": "#E1E5ED",
         "showgrid": true,
         "tickfont": {
          "color": "#4D5663"
         },
         "title": {
          "font": {
           "color": "#4D5663"
          },
          "text": "Goals/90"
         },
         "zerolinecolor": "#E1E5ED"
        },
        "yaxis": {
         "gridcolor": "#E1E5ED",
         "showgrid": true,
         "tickfont": {
          "color": "#4D5663"
         },
         "title": {
          "font": {
           "color": "#4D5663"
          },
          "text": "Chances Created/90"
         },
         "zerolinecolor": "#E1E5ED"
        }
       }
      },
      "text/html": [
       "<div>\n",
       "        \n",
       "        \n",
       "            <div id=\"8a81cf6b-8563-4100-af82-3d6a307b436f\" class=\"plotly-graph-div\" style=\"height:525px; width:100%;\"></div>\n",
       "            <script type=\"text/javascript\">\n",
       "                require([\"plotly\"], function(Plotly) {\n",
       "                    window.PLOTLYENV=window.PLOTLYENV || {};\n",
       "                    window.PLOTLYENV.BASE_URL='https://plot.ly';\n",
       "                    \n",
       "                if (document.getElementById(\"8a81cf6b-8563-4100-af82-3d6a307b436f\")) {\n",
       "                    Plotly.newPlot(\n",
       "                        '8a81cf6b-8563-4100-af82-3d6a307b436f',\n",
       "                        [{\"line\": {\"color\": \"rgba(255, 153, 51, 1.0)\", \"dash\": \"solid\", \"shape\": \"linear\", \"width\": 1.3}, \"marker\": {\"size\": 10, \"symbol\": \"circle\"}, \"mode\": \"markers\", \"name\": \"Ch C/90\", \"text\": [\"Djibril Diakit\\u00c3\\u00a9\", \"Jo\\u00c3\\u00a3o Tavares\", \"Matej Hudecek\", \"Adrian Rybak\", \"Oskar Repka\", \"Maciej Obodecki\", \"Ivo Kralj\", \"Bartosz Sobczyk\", \"Ivan Tomac\", \"Nikola Bogdanovski\", \"Stefan Velickovic\", \"Andrija Zakoc\", \"Aur\\u00c3\\u00a9lien Nguiamba\", \"Flynn Downes\", \"Nikola Puzic\", \"Andjelo Kacavenda\", \"Tymoteusz Puchacz\", \"Felix Brunmayr\", \"Lennart Grill\", \"Josip Rakic\", \"Stefan Randjelovic\", \"Radoslaw Dzierbicki\", \"Alexandar Ubavic\", \"Veljko Jovkovic\", \"Mariano G\\u00c3\\u00b3mez\", \"David Bumberger\", \"Enrico Huss\", \"Mateo Jaksic\", \"Konrad Jozwicki\", \"Nikita Marusenko\", \"Djordje Jovanovic\", \"Filip Lisnic\", \"Dawid Szalas\", \"Vladimir Ilic\", \"Marcin Mackowiak\", \"Florin Codrean\", \"David Otto\", \"Stefan Golubovic\", \"Keanan Bennetts\", \"Andrej Vukas\", \"Jannik Tepe\", \"Mladen Devetak\", \"Tom Baack\", \"Jan Sobocinski\", \"Tom\\u00c3\\u00a1s Blanco\", \"Sinan Karweina\", \"Ben Williams\", \"Arkadiusz Zajaczkowski\", \"Miguel Reisinho\", \"Filp Ceko\", \"Michel St\\u00c3\\u00b6cker\", \"J\\u00c3\\u00a9r\\u00c3\\u00b4me Deom\", \"Ranko Jokic\", \"Palko D\\u00c3\\u00a1rdai\", \"Aleksander Tomasz\", \"Alex Vigo\", \"Daniel Bielica\", \"Marko Djira\", \"Norbert Walczak\", \"Boris Moltenis\", \"Julius Kade\", \"Goran Buljandric\", \"Jannis K\\u00c3\\u00bcbler\", \"Aleksa Jovanovic\", \"Tomasz Owczarek\", \"David Wittkowski\", \"Konrad Zaklika\", \"Pawel Karbowinski\", \"Nicky Werner\", \"Julijan Popovic\", \"Nassim Boujellab\", \"Bartlomiej Gajda\", \"Nemanja Matijevic\", \"Marko Denic\", \"Robert Baar\", \"Tuta\", \"Dusan Jokovic\", \"Tomasz Dzida\", \"Aleksa Pejic\", \"Krsta Bojic\", \"Sikou Niakat\\u00c3\\u00a9\", \"Tomasz Makowski\", \"Sebastian Gwozdz\", \"Adrian Polanski\", \"Bryan Mbeumo\", \"Dorin Sirbu\", \"Elvis Novalic\", \"Micka\\u00c3\\u00abl Cuisance\", \"Mateusz Madzia\", \"Jes\\u00c3\\u00bas Vargas\", \"Marino Jedvaj\", \"Raphael Assibey-Mensah\", \"Lukasz Sztylka\", \"Zoran Zrnzevic\", \"Alex Krawiec\", \"Petar Melezovic\", \"Tomasz Kurek\", \"Danko Radic\", \"Paul Mensah\", \"Jordan Williams\", \"Mario Mustapic\", \"Nikola Trickovic\", \"Patrik Delic\", \"Maciej Famulak\", \"Wiktor Nahrebecki\", \"Barne Poggenberg\", \"Mirza Jasarevic\", \"Ratko Minic\", \"Semih \\u00c5\\u009eahin\", \"Matej Santek\", \"Georgios Siadas\", \"Tyrese Campbell\", \"Martin Krizmanic\", \"Kacper Laskos\", \"Aleksa Milojevic\", \"Cheick Doucour\\u00c3\\u00a9\", \"Ivan Jakovljev\", \"Przemyslaw Zdybowicz\", \"Sven Botman\", \"Malik Karaahmet\", \"Lukas Kr\\u00c3\\u00bcger\", \"Niclas Stierlin\", \"Mane Markovic\", \"Karol Czubak\", \"Ilija Dejanovic\", \"Pascal Hackethal\", \"Oleg Gorin\", \"Michal Zieba\", \"Miodrag Maljkovic\", \"Jakov Blagaic\", \"Harisson Marcelin\", \"Vice Bazdaric\", \"Daniel Liszka\", \"Jan Sieracki\", \"Jhonny Lucas\", \"Tymoteusz Klups\", \"Josip Sutalo\", \"Othman Boussaid\", \"Evert Linthorst\", \"Jusuf Gazibegovic\", \"Virgiliu Postolachi\", \"Luis G\\u00c3\\u00b6rlich\", \"Andrej Ilic\", \"Daniel Haritonov\", \"Patryk Drabik\", \"Tom Dobek-Pietrowski\", \"Michal Mydlarz\", \"Cho Jeong-Hui\", \"Mohamed Loua\", \"Nemanja Zikic\", \"Emir Sejdovic\", \"Samuel Lengle\", \"Mateusz Duchowski\", \"Iliya Gruev\", \"Bartosz Borun\", \"Juraj Ljubic\", \"Gon\\u00c3\\u00a7alo Rebelo\", \"Dominik Resetar\", \"Jurica Prsir\", \"Piotr Wujec\", \"Jan Majsterek\", \"Mitchel Bakker\", \"Kamil Piatkowski\", \"Michal Ozga\", \"Karol Turek\", \"Toni Karimovic\", \"Billy Crellin\", \"Konrad Sieracki\", \"Vando Luis\", \"Jan Los\", \"Jessic Ngankam\", \"Adam Borkowski\", \"Julian Rieckmann\", \"Luka Pavlak\", \"Robert Ion\", \"Linus Rosenl\\u00c3\\u00b6cher\", \"Eugen Telch\", \"Nicholas Wunsch\", \"Dawid Kisly\", \"Uros Miloradovic\", \"Alois Oroz\", \"Luca Bazzoli\", \"Ronan Darcy\", \"Yann-Aurel Bisseck\", \"Timo Bornemann\", \"Radivoj Bosic\", \"Jakov Katusa\", \"Kacper Jozefiak\", \"Szymon Mroczko\", \"Karol Struski\", \"Wojciech Kaminski\", \"Piotr Lisowski\", \"Daishawn Redan\", \"Kacper Smolinski\", \"Lukas Sch\\u00c3\\u00b6fl\", \"Mikolaj Labojko\", \"Jakub Karbownik\", \"Damir Magdic\", \"Karol Malec\", \"Patryk Wozniak\", \"Can Bozdogan\", \"Aleksander Paluszek\", \"Mario Cuic\", \"Dragoljub Savic\", \"Nathan Collins\", \"Dominik Pila\", \"Mihael Kupresak\", \"Manu Kon\\u00c3\\u00a9\", \"Niels Hahn\", \"Tin Hrvoj\", \"Lucas Da Cunha\", \"Rahim Ibrahim\", \"Renato Josipovic\", \"Han-Noah Massengo\", \"Kacper Wiatrak\", \"Bartosz Kuzniarski\", \"Adrian Petk\", \"Fabian Tauchhammer\", \"Bartlomiej Mruk\", \"Jakub Rudek\", \"Jakub Swiecinski\", \"Jakub Nowakowski\", \"Kamil Dabrowski\", \"Yuri Sprandel Flores\", \"Stefan Radmanovac\", \"Kamal Bafounta\", \"Filip Marchwinski\", \"Kamil Lukoszek\", \"Jakub Niewiadomski\", \"Dominik Kedzior\", \"Joe Gelhardt\", \"Filip Sobiecki\", \"Fran Tomek\", \"Hubert Wasiewski\", \"Djordje Vasic\", \"Jakub Zima\", \"Damian Makuch\", \"Andrzej Kloda\", \"Stipe Biuk\", \"Mateusz Pienczak\", \"FIlip Brekalo\", \"Stefan Despotovski\", \"Jakub Kisiel\", \"Duje Skugor\", \"Martin Baturina\", \"Radoslaw Cielemecki\", \"Ariel Mosor\", \"Nikola Petkovic\", \"Nikodem Sujecki\", \"Ivan Mandic\", \"Stanislaw Loch\", \"Dario Grgic\", \"Wojciech Szybka\", \"Kacper Szmidt\", \"Vukasin Krstic\", \"Obrendo Doesburg\", \"Casper Elderman\", \"Predrag Jovic\", \"Daniel Hoyo-Kowalski\", \"Darijo Basic\", \"Wiktor Mosur\", \"Uros Mirkovic\", \"Marcos Rodr\\u00c3\\u00adguez\", \"Adrian \\u00c5\\u00a2apu\", \"Paul Mari\", \"Pawel Muzylowski\", \"Dragan Radovic\", \"Szymon Kobeszko\", \"Marcin Dabrowski\", \"Jorge Delgado\", \"Daniel Piesio\", null], \"type\": \"scatter\", \"x\": [\"0.07\", \"0.14\", \"0.17\", \"0.06\", \"-\", \"0.17\", \"-\", \"0.08\", \"-\", \"0.24\", \"-\", \"-\", \"-\", \"-\", \"0.07\", \"0.05\", \"0.38\", \"-\", \"-\", \"0.08\", \"-\", \"-\", \"0.13\", \"0.23\", \"0.11\", \"-\", \"-\", \"0.07\", \"-\", \"0.06\", \"0.54\", \"0.06\", \"0.05\", \"0.10\", \"0.06\", \"-\", \"0.62\", \"-\", \"-\", \"0.10\", \"0.32\", \"-\", \"-\", \"-\", \"0.23\", \"0.32\", \"-\", \"0.16\", \"-\", \"0.06\", \"-\", \"0.14\", \"-\", \"0.28\", \"0.06\", \"0.11\", \"-\", \"-\", \"0.14\", \"-\", \"0.12\", \"-\", \"0.13\", \"0.05\", \"-\", \"0.05\", \"-\", \"-\", \"0.15\", \"-\", \"0.23\", \"0.11\", \"0.33\", \"0.05\", \"-\", \"-\", \"0.06\", \"0.17\", \"-\", \"0.24\", \"-\", \"0.07\", \"0.13\", \"0.24\", \"0.30\", \"-\", \"0.05\", \"0.12\", \"-\", \"0.22\", \"-\", \"0.09\", \"-\", \"0.13\", \"0.23\", \"0.05\", \"0.61\", \"0.15\", \"0.45\", \"-\", \"-\", \"-\", \"-\", \"0.08\", \"0.07\", \"0.05\", \"0.18\", \"0.16\", \"0.19\", \"0.07\", \"-\", \"0.33\", \"-\", \"-\", \"-\", \"0.11\", \"0.09\", \"0.39\", \"-\", \"0.79\", \"0.06\", \"-\", \"-\", \"0.49\", \"0.09\", \"-\", \"0.18\", \"0.24\", \"0.55\", \"0.31\", \"0.06\", \"-\", \"0.06\", \"0.08\", \"0.15\", \"0.22\", \"-\", \"0.07\", \"0.21\", \"-\", \"0.07\", \"0.05\", \"0.22\", \"-\", \"0.37\", \"0.07\", \"0.22\", \"-\", \"-\", \"0.04\", \"0.04\", \"0.20\", \"0.44\", \"-\", \"-\", \"0.16\", \"0.04\", \"0.64\", \"0.18\", \"0.06\", \"0.17\", \"-\", \"-\", \"0.09\", \"-\", \"0.26\", \"-\", \"-\", \"-\", \"0.45\", \"0.13\", \"0.08\", \"-\", \"0.19\", \"0.18\", \"-\", \"-\", \"-\", \"-\", \"0.08\", \"0.12\", \"0.10\", \"0.23\", \"-\", \"0.69\", \"-\", \"0.06\", \"-\", \"-\", \"0.07\", \"0.05\", \"-\", \"0.64\", \"-\", \"0.06\", \"0.14\", \"-\", \"0.08\", \"0.05\", \"0.16\", \"-\", \"0.08\", \"-\", \"0.14\", \"-\", \"0.09\", \"0.42\", \"0.12\", \"0.06\", \"0.08\", \"0.06\", \"0.03\", \"-\", \"0.08\", \"-\", \"0.62\", \"0.17\", \"-\", \"-\", \"0.17\", \"-\", \"0.05\", \"0.07\", \"-\", \"0.16\", \"-\", \"0.18\", \"0.31\", \"0.07\", \"0.17\", \"0.44\", \"0.15\", \"0.13\", \"-\", \"-\", \"0.08\", \"0.07\", \"-\", \"0.19\", \"-\", \"-\", \"0.10\", \"0.08\", \"0.38\", \"-\", \"0.06\", \"-\", \"0.22\", \"-\", \"-\", \"0.41\", \"0.06\", \"0.08\", \"0.07\", \"0.14\", \"0.09\", \"-\", \"0.11\", \"-\", \"0.08\", \"-\", \"0.11\", \"-\", \"0.16\", \"0.06\", \"0.20\", \"0.34\", \"-\", \"-\", \"-\", \"0.13\", null], \"y\": [\"-\", \"-\", \"0.67\", \"0.18\", \"0.56\", \"-\", \"0.57\", \"0.60\", \"1.45\", \"2.63\", \"1.22\", \"0.16\", \"0.28\", \"0.44\", \"3.62\", \"0.77\", \"0.60\", \"1.09\", \"-\", \"0.46\", \"-\", \"0.53\", \"-\", \"0.98\", \"0.17\", \"0.45\", \"0.65\", \"1.22\", \"1.44\", \"0.40\", \"0.85\", \"0.33\", \"1.97\", \"0.10\", \"0.77\", \"-\", \"0.68\", \"0.25\", \"0.83\", \"0.29\", \"0.70\", \"0.99\", \"-\", \"0.58\", \"1.01\", \"1.13\", \"0.62\", \"0.48\", \"0.87\", \"0.44\", \"0.46\", \"0.64\", \"0.56\", \"3.24\", \"-\", \"0.17\", \"-\", \"0.37\", \"-\", \"0.28\", \"0.37\", \"-\", \"1.08\", \"0.25\", \"0.12\", \"0.25\", \"0.33\", \"1.16\", \"0.53\", \"0.92\", \"1.15\", \"1.09\", \"1.42\", \"-\", \"0.34\", \"-\", \"0.43\", \"1.36\", \"1.32\", \"1.59\", \"0.52\", \"0.27\", \"-\", \"0.88\", \"1.89\", \"-\", \"1.70\", \"2.37\", \"0.33\", \"1.49\", \"-\", \"-\", \"0.97\", \"-\", \"3.37\", \"-\", \"0.55\", \"2.14\", \"1.09\", \"0.93\", \"-\", \"0.57\", \"-\", \"0.62\", \"2.29\", \"0.51\", \"0.78\", \"1.48\", \"1.79\", \"2.26\", \"1.06\", \"0.84\", \"0.16\", \"0.36\", \"-\", \"1.07\", \"-\", \"0.92\", \"0.11\", \"-\", \"1.02\", \"0.60\", \"-\", \"0.56\", \"-\", \"0.41\", \"2.38\", \"0.32\", \"1.48\", \"1.63\", \"-\", \"-\", \"2.33\", \"0.92\", \"1.38\", \"1.59\", \"0.29\", \"-\", \"0.84\", \"0.79\", \"-\", \"1.83\", \"0.81\", \"0.55\", \"1.94\", \"2.17\", \"1.85\", \"0.04\", \"0.50\", \"-\", \"1.87\", \"2.13\", \"0.88\", \"0.80\", \"3.17\", \"1.29\", \"-\", \"0.52\", \"2.72\", \"0.28\", \"0.51\", \"0.29\", \"0.44\", \"0.27\", \"0.65\", \"1.38\", \"-\", \"1.33\", \"-\", \"1.51\", \"1.11\", \"0.54\", \"0.32\", \"0.96\", \"1.02\", \"0.36\", \"-\", \"1.70\", \"0.59\", \"1.51\", \"0.71\", \"0.83\", \"0.23\", \"0.40\", \"0.87\", \"1.49\", \"2.13\", \"0.25\", \"0.14\", \"1.77\", \"0.20\", \"0.55\", \"0.64\", \"0.61\", \"-\", \"-\", \"1.14\", \"0.92\", \"0.79\", \"2.74\", \"1.25\", \"0.08\", \"0.40\", \"-\", \"0.44\", \"1.16\", \"1.39\", \"-\", \"-\", \"0.32\", \"-\", \"-\", \"-\", \"1.67\", \"-\", \"1.72\", \"1.34\", \"-\", \"0.39\", \"1.10\", \"0.77\", \"-\", \"1.51\", \"0.34\", \"0.43\", \"0.44\", \"1.57\", \"1.01\", \"0.13\", \"0.96\", \"-\", \"0.76\", \"1.54\", \"-\", \"0.48\", \"0.47\", \"-\", \"0.09\", \"2.32\", \"0.39\", \"0.81\", \"0.76\", \"1.26\", \"0.31\", \"2.48\", \"1.52\", \"0.45\", \"2.71\", \"-\", \"-\", \"1.95\", \"2.06\", \"1.38\", \"2.89\", \"0.21\", \"-\", \"0.35\", \"1.12\", \"0.15\", \"0.84\", \"1.70\", \"0.85\", \"0.40\", \"1.04\", \"0.51\", \"1.33\", \"1.97\", \"0.98\", \"0.89\", \"0.49\", \"1.59\", \"\"]}],\n",
       "                        {\"legend\": {\"bgcolor\": \"#F5F6F9\", \"font\": {\"color\": \"#4D5663\"}}, \"paper_bgcolor\": \"#F5F6F9\", \"plot_bgcolor\": \"#F5F6F9\", \"template\": {\"data\": {\"bar\": [{\"error_x\": {\"color\": \"#2a3f5f\"}, \"error_y\": {\"color\": \"#2a3f5f\"}, \"marker\": {\"line\": {\"color\": \"#E5ECF6\", \"width\": 0.5}}, \"type\": \"bar\"}], \"barpolar\": [{\"marker\": {\"line\": {\"color\": \"#E5ECF6\", \"width\": 0.5}}, \"type\": \"barpolar\"}], \"carpet\": [{\"aaxis\": {\"endlinecolor\": \"#2a3f5f\", \"gridcolor\": \"white\", \"linecolor\": \"white\", \"minorgridcolor\": \"white\", \"startlinecolor\": \"#2a3f5f\"}, \"baxis\": {\"endlinecolor\": \"#2a3f5f\", \"gridcolor\": \"white\", \"linecolor\": \"white\", \"minorgridcolor\": \"white\", \"startlinecolor\": \"#2a3f5f\"}, \"type\": \"carpet\"}], \"choropleth\": [{\"colorbar\": {\"outlinewidth\": 0, \"ticks\": \"\"}, \"type\": \"choropleth\"}], \"contour\": [{\"colorbar\": {\"outlinewidth\": 0, \"ticks\": \"\"}, \"colorscale\": [[0.0, \"#0d0887\"], [0.1111111111111111, \"#46039f\"], [0.2222222222222222, \"#7201a8\"], [0.3333333333333333, \"#9c179e\"], [0.4444444444444444, \"#bd3786\"], [0.5555555555555556, \"#d8576b\"], [0.6666666666666666, \"#ed7953\"], [0.7777777777777778, \"#fb9f3a\"], [0.8888888888888888, \"#fdca26\"], [1.0, \"#f0f921\"]], \"type\": \"contour\"}], \"contourcarpet\": [{\"colorbar\": {\"outlinewidth\": 0, \"ticks\": \"\"}, \"type\": \"contourcarpet\"}], \"heatmap\": [{\"colorbar\": {\"outlinewidth\": 0, \"ticks\": \"\"}, \"colorscale\": [[0.0, \"#0d0887\"], [0.1111111111111111, \"#46039f\"], [0.2222222222222222, \"#7201a8\"], [0.3333333333333333, \"#9c179e\"], [0.4444444444444444, \"#bd3786\"], [0.5555555555555556, \"#d8576b\"], [0.6666666666666666, \"#ed7953\"], [0.7777777777777778, \"#fb9f3a\"], [0.8888888888888888, \"#fdca26\"], [1.0, \"#f0f921\"]], \"type\": \"heatmap\"}], \"heatmapgl\": [{\"colorbar\": {\"outlinewidth\": 0, \"ticks\": \"\"}, \"colorscale\": [[0.0, \"#0d0887\"], [0.1111111111111111, \"#46039f\"], [0.2222222222222222, \"#7201a8\"], [0.3333333333333333, \"#9c179e\"], [0.4444444444444444, \"#bd3786\"], [0.5555555555555556, \"#d8576b\"], [0.6666666666666666, \"#ed7953\"], [0.7777777777777778, \"#fb9f3a\"], [0.8888888888888888, \"#fdca26\"], [1.0, \"#f0f921\"]], \"type\": \"heatmapgl\"}], \"histogram\": [{\"marker\": {\"colorbar\": {\"outlinewidth\": 0, \"ticks\": \"\"}}, \"type\": \"histogram\"}], \"histogram2d\": [{\"colorbar\": {\"outlinewidth\": 0, \"ticks\": \"\"}, \"colorscale\": [[0.0, \"#0d0887\"], [0.1111111111111111, \"#46039f\"], [0.2222222222222222, \"#7201a8\"], [0.3333333333333333, \"#9c179e\"], [0.4444444444444444, \"#bd3786\"], [0.5555555555555556, \"#d8576b\"], [0.6666666666666666, \"#ed7953\"], [0.7777777777777778, \"#fb9f3a\"], [0.8888888888888888, \"#fdca26\"], [1.0, \"#f0f921\"]], \"type\": \"histogram2d\"}], \"histogram2dcontour\": [{\"colorbar\": {\"outlinewidth\": 0, \"ticks\": \"\"}, \"colorscale\": [[0.0, \"#0d0887\"], [0.1111111111111111, \"#46039f\"], [0.2222222222222222, \"#7201a8\"], [0.3333333333333333, \"#9c179e\"], [0.4444444444444444, \"#bd3786\"], [0.5555555555555556, \"#d8576b\"], [0.6666666666666666, \"#ed7953\"], [0.7777777777777778, \"#fb9f3a\"], [0.8888888888888888, \"#fdca26\"], [1.0, \"#f0f921\"]], \"type\": \"histogram2dcontour\"}], \"mesh3d\": [{\"colorbar\": {\"outlinewidth\": 0, \"ticks\": \"\"}, \"type\": \"mesh3d\"}], \"parcoords\": [{\"line\": {\"colorbar\": {\"outlinewidth\": 0, \"ticks\": \"\"}}, \"type\": \"parcoords\"}], \"pie\": [{\"automargin\": true, \"type\": \"pie\"}], \"scatter\": [{\"marker\": {\"colorbar\": {\"outlinewidth\": 0, \"ticks\": \"\"}}, \"type\": \"scatter\"}], \"scatter3d\": [{\"line\": {\"colorbar\": {\"outlinewidth\": 0, \"ticks\": \"\"}}, \"marker\": {\"colorbar\": {\"outlinewidth\": 0, \"ticks\": \"\"}}, \"type\": \"scatter3d\"}], \"scattercarpet\": [{\"marker\": {\"colorbar\": {\"outlinewidth\": 0, \"ticks\": \"\"}}, \"type\": \"scattercarpet\"}], \"scattergeo\": [{\"marker\": {\"colorbar\": {\"outlinewidth\": 0, \"ticks\": \"\"}}, \"type\": \"scattergeo\"}], \"scattergl\": [{\"marker\": {\"colorbar\": {\"outlinewidth\": 0, \"ticks\": \"\"}}, \"type\": \"scattergl\"}], \"scattermapbox\": [{\"marker\": {\"colorbar\": {\"outlinewidth\": 0, \"ticks\": \"\"}}, \"type\": \"scattermapbox\"}], \"scatterpolar\": [{\"marker\": {\"colorbar\": {\"outlinewidth\": 0, \"ticks\": \"\"}}, \"type\": \"scatterpolar\"}], \"scatterpolargl\": [{\"marker\": {\"colorbar\": {\"outlinewidth\": 0, \"ticks\": \"\"}}, \"type\": \"scatterpolargl\"}], \"scatterternary\": [{\"marker\": {\"colorbar\": {\"outlinewidth\": 0, \"ticks\": \"\"}}, \"type\": \"scatterternary\"}], \"surface\": [{\"colorbar\": {\"outlinewidth\": 0, \"ticks\": \"\"}, \"colorscale\": [[0.0, \"#0d0887\"], [0.1111111111111111, \"#46039f\"], [0.2222222222222222, \"#7201a8\"], [0.3333333333333333, \"#9c179e\"], [0.4444444444444444, \"#bd3786\"], [0.5555555555555556, \"#d8576b\"], [0.6666666666666666, \"#ed7953\"], [0.7777777777777778, \"#fb9f3a\"], [0.8888888888888888, \"#fdca26\"], [1.0, \"#f0f921\"]], \"type\": \"surface\"}], \"table\": [{\"cells\": {\"fill\": {\"color\": \"#EBF0F8\"}, \"line\": {\"color\": \"white\"}}, \"header\": {\"fill\": {\"color\": \"#C8D4E3\"}, \"line\": {\"color\": \"white\"}}, \"type\": \"table\"}]}, \"layout\": {\"annotationdefaults\": {\"arrowcolor\": \"#2a3f5f\", \"arrowhead\": 0, \"arrowwidth\": 1}, \"coloraxis\": {\"colorbar\": {\"outlinewidth\": 0, \"ticks\": \"\"}}, \"colorscale\": {\"diverging\": [[0, \"#8e0152\"], [0.1, \"#c51b7d\"], [0.2, \"#de77ae\"], [0.3, \"#f1b6da\"], [0.4, \"#fde0ef\"], [0.5, \"#f7f7f7\"], [0.6, \"#e6f5d0\"], [0.7, \"#b8e186\"], [0.8, \"#7fbc41\"], [0.9, \"#4d9221\"], [1, \"#276419\"]], \"sequential\": [[0.0, \"#0d0887\"], [0.1111111111111111, \"#46039f\"], [0.2222222222222222, \"#7201a8\"], [0.3333333333333333, \"#9c179e\"], [0.4444444444444444, \"#bd3786\"], [0.5555555555555556, \"#d8576b\"], [0.6666666666666666, \"#ed7953\"], [0.7777777777777778, \"#fb9f3a\"], [0.8888888888888888, \"#fdca26\"], [1.0, \"#f0f921\"]], \"sequentialminus\": [[0.0, \"#0d0887\"], [0.1111111111111111, \"#46039f\"], [0.2222222222222222, \"#7201a8\"], [0.3333333333333333, \"#9c179e\"], [0.4444444444444444, \"#bd3786\"], [0.5555555555555556, \"#d8576b\"], [0.6666666666666666, \"#ed7953\"], [0.7777777777777778, \"#fb9f3a\"], [0.8888888888888888, \"#fdca26\"], [1.0, \"#f0f921\"]]}, \"colorway\": [\"#636efa\", \"#EF553B\", \"#00cc96\", \"#ab63fa\", \"#FFA15A\", \"#19d3f3\", \"#FF6692\", \"#B6E880\", \"#FF97FF\", \"#FECB52\"], \"font\": {\"color\": \"#2a3f5f\"}, \"geo\": {\"bgcolor\": \"white\", \"lakecolor\": \"white\", \"landcolor\": \"#E5ECF6\", \"showlakes\": true, \"showland\": true, \"subunitcolor\": \"white\"}, \"hoverlabel\": {\"align\": \"left\"}, \"hovermode\": \"closest\", \"mapbox\": {\"style\": \"light\"}, \"paper_bgcolor\": \"white\", \"plot_bgcolor\": \"#E5ECF6\", \"polar\": {\"angularaxis\": {\"gridcolor\": \"white\", \"linecolor\": \"white\", \"ticks\": \"\"}, \"bgcolor\": \"#E5ECF6\", \"radialaxis\": {\"gridcolor\": \"white\", \"linecolor\": \"white\", \"ticks\": \"\"}}, \"scene\": {\"xaxis\": {\"backgroundcolor\": \"#E5ECF6\", \"gridcolor\": \"white\", \"gridwidth\": 2, \"linecolor\": \"white\", \"showbackground\": true, \"ticks\": \"\", \"zerolinecolor\": \"white\"}, \"yaxis\": {\"backgroundcolor\": \"#E5ECF6\", \"gridcolor\": \"white\", \"gridwidth\": 2, \"linecolor\": \"white\", \"showbackground\": true, \"ticks\": \"\", \"zerolinecolor\": \"white\"}, \"zaxis\": {\"backgroundcolor\": \"#E5ECF6\", \"gridcolor\": \"white\", \"gridwidth\": 2, \"linecolor\": \"white\", \"showbackground\": true, \"ticks\": \"\", \"zerolinecolor\": \"white\"}}, \"shapedefaults\": {\"line\": {\"color\": \"#2a3f5f\"}}, \"ternary\": {\"aaxis\": {\"gridcolor\": \"white\", \"linecolor\": \"white\", \"ticks\": \"\"}, \"baxis\": {\"gridcolor\": \"white\", \"linecolor\": \"white\", \"ticks\": \"\"}, \"bgcolor\": \"#E5ECF6\", \"caxis\": {\"gridcolor\": \"white\", \"linecolor\": \"white\", \"ticks\": \"\"}}, \"title\": {\"x\": 0.05}, \"xaxis\": {\"automargin\": true, \"gridcolor\": \"white\", \"linecolor\": \"white\", \"ticks\": \"\", \"title\": {\"standoff\": 15}, \"zerolinecolor\": \"white\", \"zerolinewidth\": 2}, \"yaxis\": {\"automargin\": true, \"gridcolor\": \"white\", \"linecolor\": \"white\", \"ticks\": \"\", \"title\": {\"standoff\": 15}, \"zerolinecolor\": \"white\", \"zerolinewidth\": 2}}}, \"title\": {\"font\": {\"color\": \"#4D5663\"}, \"text\": \"Inside Forward - Attack\"}, \"xaxis\": {\"gridcolor\": \"#E1E5ED\", \"showgrid\": true, \"tickfont\": {\"color\": \"#4D5663\"}, \"title\": {\"font\": {\"color\": \"#4D5663\"}, \"text\": \"Goals/90\"}, \"zerolinecolor\": \"#E1E5ED\"}, \"yaxis\": {\"gridcolor\": \"#E1E5ED\", \"showgrid\": true, \"tickfont\": {\"color\": \"#4D5663\"}, \"title\": {\"font\": {\"color\": \"#4D5663\"}, \"text\": \"Chances Created/90\"}, \"zerolinecolor\": \"#E1E5ED\"}},\n",
       "                        {\"showLink\": true, \"linkText\": \"Export to plot.ly\", \"plotlyServerURL\": \"https://plot.ly\", \"responsive\": true}\n",
       "                    ).then(function(){\n",
       "                            \n",
       "var gd = document.getElementById('8a81cf6b-8563-4100-af82-3d6a307b436f');\n",
       "var x = new MutationObserver(function (mutations, observer) {{\n",
       "        var display = window.getComputedStyle(gd).display;\n",
       "        if (!display || display === 'none') {{\n",
       "            console.log([gd, 'removed!']);\n",
       "            Plotly.purge(gd);\n",
       "            observer.disconnect();\n",
       "        }}\n",
       "}});\n",
       "\n",
       "// Listen for the removal of the full notebook cells\n",
       "var notebookContainer = gd.closest('#notebook-container');\n",
       "if (notebookContainer) {{\n",
       "    x.observe(notebookContainer, {childList: true});\n",
       "}}\n",
       "\n",
       "// Listen for the clearing of the current output cell\n",
       "var outputEl = gd.closest('.output');\n",
       "if (outputEl) {{\n",
       "    x.observe(outputEl, {childList: true});\n",
       "}}\n",
       "\n",
       "                        })\n",
       "                };\n",
       "                });\n",
       "            </script>\n",
       "        </div>"
      ]
     },
     "metadata": {},
     "output_type": "display_data"
    }
   ],
   "source": [
    "df1.iplot(kind='scatter',x='Gls/90',y='Ch C/90',\n",
    "           mode='markers',text='Name',size=10,\n",
    "          xTitle='Goals/90',yTitle='Chances Created/90',title='Inside Forward - Attack')"
   ]
  },
  {
   "cell_type": "code",
   "execution_count": 24,
   "metadata": {},
   "outputs": [
    {
     "name": "stdout",
     "output_type": "stream",
     "text": [
      "False Nine\n"
     ]
    },
    {
     "data": {
      "text/html": [
       "<style  type=\"text/css\" >\n",
       "    #T_e152e6e3_91d2_11ea_bc97_4ceb428e4071row0_col1 {\n",
       "            background-color:  #f7fbff;\n",
       "            color:  #000000;\n",
       "        }    #T_e152e6e3_91d2_11ea_bc97_4ceb428e4071row0_col2 {\n",
       "            background-color:  #94c4df;\n",
       "            color:  #000000;\n",
       "        }    #T_e152e6e3_91d2_11ea_bc97_4ceb428e4071row0_col3 {\n",
       "            background-color:  #c6dbef;\n",
       "            color:  #000000;\n",
       "        }    #T_e152e6e3_91d2_11ea_bc97_4ceb428e4071row0_col4 {\n",
       "            background-color:  #9dcae1;\n",
       "            color:  #000000;\n",
       "        }    #T_e152e6e3_91d2_11ea_bc97_4ceb428e4071row0_col5 {\n",
       "            background-color:  #08306b;\n",
       "            color:  #f1f1f1;\n",
       "        }    #T_e152e6e3_91d2_11ea_bc97_4ceb428e4071row0_col6 {\n",
       "            background-color:  #4a98c9;\n",
       "            color:  #000000;\n",
       "        }    #T_e152e6e3_91d2_11ea_bc97_4ceb428e4071row0_col7 {\n",
       "            background-color:  #08306b;\n",
       "            color:  #f1f1f1;\n",
       "        }    #T_e152e6e3_91d2_11ea_bc97_4ceb428e4071row0_col8 {\n",
       "            background-color:  #2070b4;\n",
       "            color:  #f1f1f1;\n",
       "        }    #T_e152e6e3_91d2_11ea_bc97_4ceb428e4071row0_col9 {\n",
       "            background-color:  #3787c0;\n",
       "            color:  #000000;\n",
       "        }    #T_e152e6e3_91d2_11ea_bc97_4ceb428e4071row0_col10 {\n",
       "            background-color:  #bad6eb;\n",
       "            color:  #000000;\n",
       "        }    #T_e152e6e3_91d2_11ea_bc97_4ceb428e4071row0_col11 {\n",
       "            background-color:  #4a98c9;\n",
       "            color:  #000000;\n",
       "        }    #T_e152e6e3_91d2_11ea_bc97_4ceb428e4071row0_col12 {\n",
       "            background-color:  #08306b;\n",
       "            color:  #f1f1f1;\n",
       "        }    #T_e152e6e3_91d2_11ea_bc97_4ceb428e4071row1_col1 {\n",
       "            background-color:  #08306b;\n",
       "            color:  #f1f1f1;\n",
       "        }    #T_e152e6e3_91d2_11ea_bc97_4ceb428e4071row1_col2 {\n",
       "            background-color:  #94c4df;\n",
       "            color:  #000000;\n",
       "        }    #T_e152e6e3_91d2_11ea_bc97_4ceb428e4071row1_col3 {\n",
       "            background-color:  #f7fbff;\n",
       "            color:  #000000;\n",
       "        }    #T_e152e6e3_91d2_11ea_bc97_4ceb428e4071row1_col4 {\n",
       "            background-color:  #9dcae1;\n",
       "            color:  #000000;\n",
       "        }    #T_e152e6e3_91d2_11ea_bc97_4ceb428e4071row1_col5 {\n",
       "            background-color:  #89bedc;\n",
       "            color:  #000000;\n",
       "        }    #T_e152e6e3_91d2_11ea_bc97_4ceb428e4071row1_col6 {\n",
       "            background-color:  #08306b;\n",
       "            color:  #f1f1f1;\n",
       "        }    #T_e152e6e3_91d2_11ea_bc97_4ceb428e4071row1_col7 {\n",
       "            background-color:  #1764ab;\n",
       "            color:  #f1f1f1;\n",
       "        }    #T_e152e6e3_91d2_11ea_bc97_4ceb428e4071row1_col8 {\n",
       "            background-color:  #2070b4;\n",
       "            color:  #f1f1f1;\n",
       "        }    #T_e152e6e3_91d2_11ea_bc97_4ceb428e4071row1_col9 {\n",
       "            background-color:  #d6e6f4;\n",
       "            color:  #000000;\n",
       "        }    #T_e152e6e3_91d2_11ea_bc97_4ceb428e4071row1_col10 {\n",
       "            background-color:  #2b7bba;\n",
       "            color:  #000000;\n",
       "        }    #T_e152e6e3_91d2_11ea_bc97_4ceb428e4071row1_col11 {\n",
       "            background-color:  #94c4df;\n",
       "            color:  #000000;\n",
       "        }    #T_e152e6e3_91d2_11ea_bc97_4ceb428e4071row1_col12 {\n",
       "            background-color:  #6aaed6;\n",
       "            color:  #000000;\n",
       "        }    #T_e152e6e3_91d2_11ea_bc97_4ceb428e4071row2_col1 {\n",
       "            background-color:  #08306b;\n",
       "            color:  #f1f1f1;\n",
       "        }    #T_e152e6e3_91d2_11ea_bc97_4ceb428e4071row2_col2 {\n",
       "            background-color:  #08306b;\n",
       "            color:  #f1f1f1;\n",
       "        }    #T_e152e6e3_91d2_11ea_bc97_4ceb428e4071row2_col3 {\n",
       "            background-color:  #f7fbff;\n",
       "            color:  #000000;\n",
       "        }    #T_e152e6e3_91d2_11ea_bc97_4ceb428e4071row2_col4 {\n",
       "            background-color:  #9dcae1;\n",
       "            color:  #000000;\n",
       "        }    #T_e152e6e3_91d2_11ea_bc97_4ceb428e4071row2_col5 {\n",
       "            background-color:  #2b7bba;\n",
       "            color:  #000000;\n",
       "        }    #T_e152e6e3_91d2_11ea_bc97_4ceb428e4071row2_col6 {\n",
       "            background-color:  #94c4df;\n",
       "            color:  #000000;\n",
       "        }    #T_e152e6e3_91d2_11ea_bc97_4ceb428e4071row2_col7 {\n",
       "            background-color:  #94c4df;\n",
       "            color:  #000000;\n",
       "        }    #T_e152e6e3_91d2_11ea_bc97_4ceb428e4071row2_col8 {\n",
       "            background-color:  #2070b4;\n",
       "            color:  #f1f1f1;\n",
       "        }    #T_e152e6e3_91d2_11ea_bc97_4ceb428e4071row2_col9 {\n",
       "            background-color:  #abd0e6;\n",
       "            color:  #000000;\n",
       "        }    #T_e152e6e3_91d2_11ea_bc97_4ceb428e4071row2_col10 {\n",
       "            background-color:  #539ecd;\n",
       "            color:  #000000;\n",
       "        }    #T_e152e6e3_91d2_11ea_bc97_4ceb428e4071row2_col11 {\n",
       "            background-color:  #94c4df;\n",
       "            color:  #000000;\n",
       "        }    #T_e152e6e3_91d2_11ea_bc97_4ceb428e4071row2_col12 {\n",
       "            background-color:  #6aaed6;\n",
       "            color:  #000000;\n",
       "        }    #T_e152e6e3_91d2_11ea_bc97_4ceb428e4071row3_col1 {\n",
       "            background-color:  #4a98c9;\n",
       "            color:  #000000;\n",
       "        }    #T_e152e6e3_91d2_11ea_bc97_4ceb428e4071row3_col2 {\n",
       "            background-color:  #d0e1f2;\n",
       "            color:  #000000;\n",
       "        }    #T_e152e6e3_91d2_11ea_bc97_4ceb428e4071row3_col3 {\n",
       "            background-color:  #2070b4;\n",
       "            color:  #f1f1f1;\n",
       "        }    #T_e152e6e3_91d2_11ea_bc97_4ceb428e4071row3_col4 {\n",
       "            background-color:  #4191c6;\n",
       "            color:  #000000;\n",
       "        }    #T_e152e6e3_91d2_11ea_bc97_4ceb428e4071row3_col5 {\n",
       "            background-color:  #539ecd;\n",
       "            color:  #000000;\n",
       "        }    #T_e152e6e3_91d2_11ea_bc97_4ceb428e4071row3_col6 {\n",
       "            background-color:  #94c4df;\n",
       "            color:  #000000;\n",
       "        }    #T_e152e6e3_91d2_11ea_bc97_4ceb428e4071row3_col7 {\n",
       "            background-color:  #f7fbff;\n",
       "            color:  #000000;\n",
       "        }    #T_e152e6e3_91d2_11ea_bc97_4ceb428e4071row3_col8 {\n",
       "            background-color:  #6aaed6;\n",
       "            color:  #000000;\n",
       "        }    #T_e152e6e3_91d2_11ea_bc97_4ceb428e4071row3_col9 {\n",
       "            background-color:  #3787c0;\n",
       "            color:  #000000;\n",
       "        }    #T_e152e6e3_91d2_11ea_bc97_4ceb428e4071row3_col10 {\n",
       "            background-color:  #89bedc;\n",
       "            color:  #000000;\n",
       "        }    #T_e152e6e3_91d2_11ea_bc97_4ceb428e4071row3_col11 {\n",
       "            background-color:  #4a98c9;\n",
       "            color:  #000000;\n",
       "        }    #T_e152e6e3_91d2_11ea_bc97_4ceb428e4071row3_col12 {\n",
       "            background-color:  #94c4df;\n",
       "            color:  #000000;\n",
       "        }    #T_e152e6e3_91d2_11ea_bc97_4ceb428e4071row4_col1 {\n",
       "            background-color:  #d0e1f2;\n",
       "            color:  #000000;\n",
       "        }    #T_e152e6e3_91d2_11ea_bc97_4ceb428e4071row4_col2 {\n",
       "            background-color:  #4a98c9;\n",
       "            color:  #000000;\n",
       "        }    #T_e152e6e3_91d2_11ea_bc97_4ceb428e4071row4_col3 {\n",
       "            background-color:  #08306b;\n",
       "            color:  #f1f1f1;\n",
       "        }    #T_e152e6e3_91d2_11ea_bc97_4ceb428e4071row4_col4 {\n",
       "            background-color:  #f7fbff;\n",
       "            color:  #000000;\n",
       "        }    #T_e152e6e3_91d2_11ea_bc97_4ceb428e4071row4_col5 {\n",
       "            background-color:  #bad6eb;\n",
       "            color:  #000000;\n",
       "        }    #T_e152e6e3_91d2_11ea_bc97_4ceb428e4071row4_col6 {\n",
       "            background-color:  #f7fbff;\n",
       "            color:  #000000;\n",
       "        }    #T_e152e6e3_91d2_11ea_bc97_4ceb428e4071row4_col7 {\n",
       "            background-color:  #1764ab;\n",
       "            color:  #f1f1f1;\n",
       "        }    #T_e152e6e3_91d2_11ea_bc97_4ceb428e4071row4_col8 {\n",
       "            background-color:  #08306b;\n",
       "            color:  #f1f1f1;\n",
       "        }    #T_e152e6e3_91d2_11ea_bc97_4ceb428e4071row4_col9 {\n",
       "            background-color:  #105ba4;\n",
       "            color:  #f1f1f1;\n",
       "        }    #T_e152e6e3_91d2_11ea_bc97_4ceb428e4071row4_col10 {\n",
       "            background-color:  #89bedc;\n",
       "            color:  #000000;\n",
       "        }    #T_e152e6e3_91d2_11ea_bc97_4ceb428e4071row4_col11 {\n",
       "            background-color:  #94c4df;\n",
       "            color:  #000000;\n",
       "        }    #T_e152e6e3_91d2_11ea_bc97_4ceb428e4071row4_col12 {\n",
       "            background-color:  #94c4df;\n",
       "            color:  #000000;\n",
       "        }    #T_e152e6e3_91d2_11ea_bc97_4ceb428e4071row5_col1 {\n",
       "            background-color:  #f7fbff;\n",
       "            color:  #000000;\n",
       "        }    #T_e152e6e3_91d2_11ea_bc97_4ceb428e4071row5_col2 {\n",
       "            background-color:  #4a98c9;\n",
       "            color:  #000000;\n",
       "        }    #T_e152e6e3_91d2_11ea_bc97_4ceb428e4071row5_col3 {\n",
       "            background-color:  #2070b4;\n",
       "            color:  #f1f1f1;\n",
       "        }    #T_e152e6e3_91d2_11ea_bc97_4ceb428e4071row5_col4 {\n",
       "            background-color:  #f7fbff;\n",
       "            color:  #000000;\n",
       "        }    #T_e152e6e3_91d2_11ea_bc97_4ceb428e4071row5_col5 {\n",
       "            background-color:  #2b7bba;\n",
       "            color:  #000000;\n",
       "        }    #T_e152e6e3_91d2_11ea_bc97_4ceb428e4071row5_col6 {\n",
       "            background-color:  #94c4df;\n",
       "            color:  #000000;\n",
       "        }    #T_e152e6e3_91d2_11ea_bc97_4ceb428e4071row5_col7 {\n",
       "            background-color:  #d0e1f2;\n",
       "            color:  #000000;\n",
       "        }    #T_e152e6e3_91d2_11ea_bc97_4ceb428e4071row5_col8 {\n",
       "            background-color:  #c6dbef;\n",
       "            color:  #000000;\n",
       "        }    #T_e152e6e3_91d2_11ea_bc97_4ceb428e4071row5_col9 {\n",
       "            background-color:  #f7fbff;\n",
       "            color:  #000000;\n",
       "        }    #T_e152e6e3_91d2_11ea_bc97_4ceb428e4071row5_col10 {\n",
       "            background-color:  #0b559f;\n",
       "            color:  #f1f1f1;\n",
       "        }    #T_e152e6e3_91d2_11ea_bc97_4ceb428e4071row5_col11 {\n",
       "            background-color:  #08306b;\n",
       "            color:  #f1f1f1;\n",
       "        }    #T_e152e6e3_91d2_11ea_bc97_4ceb428e4071row5_col12 {\n",
       "            background-color:  #b7d4ea;\n",
       "            color:  #000000;\n",
       "        }    #T_e152e6e3_91d2_11ea_bc97_4ceb428e4071row6_col1 {\n",
       "            background-color:  #d0e1f2;\n",
       "            color:  #000000;\n",
       "        }    #T_e152e6e3_91d2_11ea_bc97_4ceb428e4071row6_col2 {\n",
       "            background-color:  #d0e1f2;\n",
       "            color:  #000000;\n",
       "        }    #T_e152e6e3_91d2_11ea_bc97_4ceb428e4071row6_col3 {\n",
       "            background-color:  #2070b4;\n",
       "            color:  #f1f1f1;\n",
       "        }    #T_e152e6e3_91d2_11ea_bc97_4ceb428e4071row6_col4 {\n",
       "            background-color:  #08306b;\n",
       "            color:  #f1f1f1;\n",
       "        }    #T_e152e6e3_91d2_11ea_bc97_4ceb428e4071row6_col5 {\n",
       "            background-color:  #f7fbff;\n",
       "            color:  #000000;\n",
       "        }    #T_e152e6e3_91d2_11ea_bc97_4ceb428e4071row6_col6 {\n",
       "            background-color:  #94c4df;\n",
       "            color:  #000000;\n",
       "        }    #T_e152e6e3_91d2_11ea_bc97_4ceb428e4071row6_col7 {\n",
       "            background-color:  #f7fbff;\n",
       "            color:  #000000;\n",
       "        }    #T_e152e6e3_91d2_11ea_bc97_4ceb428e4071row6_col8 {\n",
       "            background-color:  #08306b;\n",
       "            color:  #f1f1f1;\n",
       "        }    #T_e152e6e3_91d2_11ea_bc97_4ceb428e4071row6_col9 {\n",
       "            background-color:  #08306b;\n",
       "            color:  #f1f1f1;\n",
       "        }    #T_e152e6e3_91d2_11ea_bc97_4ceb428e4071row6_col10 {\n",
       "            background-color:  #f7fbff;\n",
       "            color:  #000000;\n",
       "        }    #T_e152e6e3_91d2_11ea_bc97_4ceb428e4071row6_col11 {\n",
       "            background-color:  #94c4df;\n",
       "            color:  #000000;\n",
       "        }    #T_e152e6e3_91d2_11ea_bc97_4ceb428e4071row6_col12 {\n",
       "            background-color:  #b7d4ea;\n",
       "            color:  #000000;\n",
       "        }    #T_e152e6e3_91d2_11ea_bc97_4ceb428e4071row7_col1 {\n",
       "            background-color:  #1764ab;\n",
       "            color:  #f1f1f1;\n",
       "        }    #T_e152e6e3_91d2_11ea_bc97_4ceb428e4071row7_col2 {\n",
       "            background-color:  #1764ab;\n",
       "            color:  #f1f1f1;\n",
       "        }    #T_e152e6e3_91d2_11ea_bc97_4ceb428e4071row7_col3 {\n",
       "            background-color:  #f7fbff;\n",
       "            color:  #000000;\n",
       "        }    #T_e152e6e3_91d2_11ea_bc97_4ceb428e4071row7_col4 {\n",
       "            background-color:  #2070b4;\n",
       "            color:  #f1f1f1;\n",
       "        }    #T_e152e6e3_91d2_11ea_bc97_4ceb428e4071row7_col5 {\n",
       "            background-color:  #f7fbff;\n",
       "            color:  #000000;\n",
       "        }    #T_e152e6e3_91d2_11ea_bc97_4ceb428e4071row7_col6 {\n",
       "            background-color:  #d0e1f2;\n",
       "            color:  #000000;\n",
       "        }    #T_e152e6e3_91d2_11ea_bc97_4ceb428e4071row7_col7 {\n",
       "            background-color:  #4a98c9;\n",
       "            color:  #000000;\n",
       "        }    #T_e152e6e3_91d2_11ea_bc97_4ceb428e4071row7_col8 {\n",
       "            background-color:  #6aaed6;\n",
       "            color:  #000000;\n",
       "        }    #T_e152e6e3_91d2_11ea_bc97_4ceb428e4071row7_col9 {\n",
       "            background-color:  #abd0e6;\n",
       "            color:  #000000;\n",
       "        }    #T_e152e6e3_91d2_11ea_bc97_4ceb428e4071row7_col10 {\n",
       "            background-color:  #08306b;\n",
       "            color:  #f1f1f1;\n",
       "        }    #T_e152e6e3_91d2_11ea_bc97_4ceb428e4071row7_col11 {\n",
       "            background-color:  #d0e1f2;\n",
       "            color:  #000000;\n",
       "        }    #T_e152e6e3_91d2_11ea_bc97_4ceb428e4071row7_col12 {\n",
       "            background-color:  #b7d4ea;\n",
       "            color:  #000000;\n",
       "        }    #T_e152e6e3_91d2_11ea_bc97_4ceb428e4071row8_col1 {\n",
       "            background-color:  #d0e1f2;\n",
       "            color:  #000000;\n",
       "        }    #T_e152e6e3_91d2_11ea_bc97_4ceb428e4071row8_col2 {\n",
       "            background-color:  #94c4df;\n",
       "            color:  #000000;\n",
       "        }    #T_e152e6e3_91d2_11ea_bc97_4ceb428e4071row8_col3 {\n",
       "            background-color:  #6aaed6;\n",
       "            color:  #000000;\n",
       "        }    #T_e152e6e3_91d2_11ea_bc97_4ceb428e4071row8_col4 {\n",
       "            background-color:  #9dcae1;\n",
       "            color:  #000000;\n",
       "        }    #T_e152e6e3_91d2_11ea_bc97_4ceb428e4071row8_col5 {\n",
       "            background-color:  #539ecd;\n",
       "            color:  #000000;\n",
       "        }    #T_e152e6e3_91d2_11ea_bc97_4ceb428e4071row8_col6 {\n",
       "            background-color:  #f7fbff;\n",
       "            color:  #000000;\n",
       "        }    #T_e152e6e3_91d2_11ea_bc97_4ceb428e4071row8_col7 {\n",
       "            background-color:  #1764ab;\n",
       "            color:  #f1f1f1;\n",
       "        }    #T_e152e6e3_91d2_11ea_bc97_4ceb428e4071row8_col8 {\n",
       "            background-color:  #6aaed6;\n",
       "            color:  #000000;\n",
       "        }    #T_e152e6e3_91d2_11ea_bc97_4ceb428e4071row8_col9 {\n",
       "            background-color:  #6aaed6;\n",
       "            color:  #000000;\n",
       "        }    #T_e152e6e3_91d2_11ea_bc97_4ceb428e4071row8_col10 {\n",
       "            background-color:  #bad6eb;\n",
       "            color:  #000000;\n",
       "        }    #T_e152e6e3_91d2_11ea_bc97_4ceb428e4071row8_col11 {\n",
       "            background-color:  #d0e1f2;\n",
       "            color:  #000000;\n",
       "        }    #T_e152e6e3_91d2_11ea_bc97_4ceb428e4071row8_col12 {\n",
       "            background-color:  #f7fbff;\n",
       "            color:  #000000;\n",
       "        }    #T_e152e6e3_91d2_11ea_bc97_4ceb428e4071row9_col1 {\n",
       "            background-color:  #08306b;\n",
       "            color:  #f1f1f1;\n",
       "        }    #T_e152e6e3_91d2_11ea_bc97_4ceb428e4071row9_col2 {\n",
       "            background-color:  #f7fbff;\n",
       "            color:  #000000;\n",
       "        }    #T_e152e6e3_91d2_11ea_bc97_4ceb428e4071row9_col3 {\n",
       "            background-color:  #2070b4;\n",
       "            color:  #f1f1f1;\n",
       "        }    #T_e152e6e3_91d2_11ea_bc97_4ceb428e4071row9_col4 {\n",
       "            background-color:  #deebf7;\n",
       "            color:  #000000;\n",
       "        }    #T_e152e6e3_91d2_11ea_bc97_4ceb428e4071row9_col5 {\n",
       "            background-color:  #89bedc;\n",
       "            color:  #000000;\n",
       "        }    #T_e152e6e3_91d2_11ea_bc97_4ceb428e4071row9_col6 {\n",
       "            background-color:  #94c4df;\n",
       "            color:  #000000;\n",
       "        }    #T_e152e6e3_91d2_11ea_bc97_4ceb428e4071row9_col7 {\n",
       "            background-color:  #08306b;\n",
       "            color:  #f1f1f1;\n",
       "        }    #T_e152e6e3_91d2_11ea_bc97_4ceb428e4071row9_col8 {\n",
       "            background-color:  #f7fbff;\n",
       "            color:  #000000;\n",
       "        }    #T_e152e6e3_91d2_11ea_bc97_4ceb428e4071row9_col9 {\n",
       "            background-color:  #105ba4;\n",
       "            color:  #f1f1f1;\n",
       "        }    #T_e152e6e3_91d2_11ea_bc97_4ceb428e4071row9_col10 {\n",
       "            background-color:  #539ecd;\n",
       "            color:  #000000;\n",
       "        }    #T_e152e6e3_91d2_11ea_bc97_4ceb428e4071row9_col11 {\n",
       "            background-color:  #f7fbff;\n",
       "            color:  #000000;\n",
       "        }    #T_e152e6e3_91d2_11ea_bc97_4ceb428e4071row9_col12 {\n",
       "            background-color:  #f7fbff;\n",
       "            color:  #000000;\n",
       "        }</style><table id=\"T_e152e6e3_91d2_11ea_bc97_4ceb428e4071\" ><thead>    <tr>        <th class=\"col_heading level0 col0\" >Name</th>        <th class=\"col_heading level0 col1\" >Age</th>        <th class=\"col_heading level0 col2\" >Dri</th>        <th class=\"col_heading level0 col3\" >Fir</th>        <th class=\"col_heading level0 col4\" >Pas</th>        <th class=\"col_heading level0 col5\" >Tec</th>        <th class=\"col_heading level0 col6\" >Cmp</th>        <th class=\"col_heading level0 col7\" >Dec</th>        <th class=\"col_heading level0 col8\" >OtB</th>        <th class=\"col_heading level0 col9\" >Vis</th>        <th class=\"col_heading level0 col10\" >Acc</th>        <th class=\"col_heading level0 col11\" >Agi</th>        <th class=\"col_heading level0 col12\" >f9_score</th>    </tr></thead><tbody>\n",
       "                <tr>\n",
       "                                <td id=\"T_e152e6e3_91d2_11ea_bc97_4ceb428e4071row0_col0\" class=\"data row0 col0\" >Pawel Muzylowski</td>\n",
       "                        <td id=\"T_e152e6e3_91d2_11ea_bc97_4ceb428e4071row0_col1\" class=\"data row0 col1\" >                  18</td>\n",
       "                        <td id=\"T_e152e6e3_91d2_11ea_bc97_4ceb428e4071row0_col2\" class=\"data row0 col2\" >12</td>\n",
       "                        <td id=\"T_e152e6e3_91d2_11ea_bc97_4ceb428e4071row0_col3\" class=\"data row0 col3\" >13</td>\n",
       "                        <td id=\"T_e152e6e3_91d2_11ea_bc97_4ceb428e4071row0_col4\" class=\"data row0 col4\" >12</td>\n",
       "                        <td id=\"T_e152e6e3_91d2_11ea_bc97_4ceb428e4071row0_col5\" class=\"data row0 col5\" >17</td>\n",
       "                        <td id=\"T_e152e6e3_91d2_11ea_bc97_4ceb428e4071row0_col6\" class=\"data row0 col6\" >13</td>\n",
       "                        <td id=\"T_e152e6e3_91d2_11ea_bc97_4ceb428e4071row0_col7\" class=\"data row0 col7\" >14</td>\n",
       "                        <td id=\"T_e152e6e3_91d2_11ea_bc97_4ceb428e4071row0_col8\" class=\"data row0 col8\" >12</td>\n",
       "                        <td id=\"T_e152e6e3_91d2_11ea_bc97_4ceb428e4071row0_col9\" class=\"data row0 col9\" >14</td>\n",
       "                        <td id=\"T_e152e6e3_91d2_11ea_bc97_4ceb428e4071row0_col10\" class=\"data row0 col10\" >11</td>\n",
       "                        <td id=\"T_e152e6e3_91d2_11ea_bc97_4ceb428e4071row0_col11\" class=\"data row0 col11\" >15</td>\n",
       "                        <td id=\"T_e152e6e3_91d2_11ea_bc97_4ceb428e4071row0_col12\" class=\"data row0 col12\" >133</td>\n",
       "            </tr>\n",
       "            <tr>\n",
       "                                <td id=\"T_e152e6e3_91d2_11ea_bc97_4ceb428e4071row1_col0\" class=\"data row1 col0\" >TomÃ¡s Blanco</td>\n",
       "                        <td id=\"T_e152e6e3_91d2_11ea_bc97_4ceb428e4071row1_col1\" class=\"data row1 col1\" >                  23</td>\n",
       "                        <td id=\"T_e152e6e3_91d2_11ea_bc97_4ceb428e4071row1_col2\" class=\"data row1 col2\" >12</td>\n",
       "                        <td id=\"T_e152e6e3_91d2_11ea_bc97_4ceb428e4071row1_col3\" class=\"data row1 col3\" >12</td>\n",
       "                        <td id=\"T_e152e6e3_91d2_11ea_bc97_4ceb428e4071row1_col4\" class=\"data row1 col4\" >12</td>\n",
       "                        <td id=\"T_e152e6e3_91d2_11ea_bc97_4ceb428e4071row1_col5\" class=\"data row1 col5\" >13</td>\n",
       "                        <td id=\"T_e152e6e3_91d2_11ea_bc97_4ceb428e4071row1_col6\" class=\"data row1 col6\" >15</td>\n",
       "                        <td id=\"T_e152e6e3_91d2_11ea_bc97_4ceb428e4071row1_col7\" class=\"data row1 col7\" >13</td>\n",
       "                        <td id=\"T_e152e6e3_91d2_11ea_bc97_4ceb428e4071row1_col8\" class=\"data row1 col8\" >12</td>\n",
       "                        <td id=\"T_e152e6e3_91d2_11ea_bc97_4ceb428e4071row1_col9\" class=\"data row1 col9\" >11</td>\n",
       "                        <td id=\"T_e152e6e3_91d2_11ea_bc97_4ceb428e4071row1_col10\" class=\"data row1 col10\" >14</td>\n",
       "                        <td id=\"T_e152e6e3_91d2_11ea_bc97_4ceb428e4071row1_col11\" class=\"data row1 col11\" >14</td>\n",
       "                        <td id=\"T_e152e6e3_91d2_11ea_bc97_4ceb428e4071row1_col12\" class=\"data row1 col12\" >128</td>\n",
       "            </tr>\n",
       "            <tr>\n",
       "                                <td id=\"T_e152e6e3_91d2_11ea_bc97_4ceb428e4071row2_col0\" class=\"data row2 col0\" >JesÃºs Vargas</td>\n",
       "                        <td id=\"T_e152e6e3_91d2_11ea_bc97_4ceb428e4071row2_col1\" class=\"data row2 col1\" >                  23</td>\n",
       "                        <td id=\"T_e152e6e3_91d2_11ea_bc97_4ceb428e4071row2_col2\" class=\"data row2 col2\" >15</td>\n",
       "                        <td id=\"T_e152e6e3_91d2_11ea_bc97_4ceb428e4071row2_col3\" class=\"data row2 col3\" >12</td>\n",
       "                        <td id=\"T_e152e6e3_91d2_11ea_bc97_4ceb428e4071row2_col4\" class=\"data row2 col4\" >12</td>\n",
       "                        <td id=\"T_e152e6e3_91d2_11ea_bc97_4ceb428e4071row2_col5\" class=\"data row2 col5\" >15</td>\n",
       "                        <td id=\"T_e152e6e3_91d2_11ea_bc97_4ceb428e4071row2_col6\" class=\"data row2 col6\" >12</td>\n",
       "                        <td id=\"T_e152e6e3_91d2_11ea_bc97_4ceb428e4071row2_col7\" class=\"data row2 col7\" >11</td>\n",
       "                        <td id=\"T_e152e6e3_91d2_11ea_bc97_4ceb428e4071row2_col8\" class=\"data row2 col8\" >12</td>\n",
       "                        <td id=\"T_e152e6e3_91d2_11ea_bc97_4ceb428e4071row2_col9\" class=\"data row2 col9\" >12</td>\n",
       "                        <td id=\"T_e152e6e3_91d2_11ea_bc97_4ceb428e4071row2_col10\" class=\"data row2 col10\" >13</td>\n",
       "                        <td id=\"T_e152e6e3_91d2_11ea_bc97_4ceb428e4071row2_col11\" class=\"data row2 col11\" >14</td>\n",
       "                        <td id=\"T_e152e6e3_91d2_11ea_bc97_4ceb428e4071row2_col12\" class=\"data row2 col12\" >128</td>\n",
       "            </tr>\n",
       "            <tr>\n",
       "                                <td id=\"T_e152e6e3_91d2_11ea_bc97_4ceb428e4071row3_col0\" class=\"data row3 col0\" >Can Bozdogan</td>\n",
       "                        <td id=\"T_e152e6e3_91d2_11ea_bc97_4ceb428e4071row3_col1\" class=\"data row3 col1\" >                  21</td>\n",
       "                        <td id=\"T_e152e6e3_91d2_11ea_bc97_4ceb428e4071row3_col2\" class=\"data row3 col2\" >11</td>\n",
       "                        <td id=\"T_e152e6e3_91d2_11ea_bc97_4ceb428e4071row3_col3\" class=\"data row3 col3\" >15</td>\n",
       "                        <td id=\"T_e152e6e3_91d2_11ea_bc97_4ceb428e4071row3_col4\" class=\"data row3 col4\" >14</td>\n",
       "                        <td id=\"T_e152e6e3_91d2_11ea_bc97_4ceb428e4071row3_col5\" class=\"data row3 col5\" >14</td>\n",
       "                        <td id=\"T_e152e6e3_91d2_11ea_bc97_4ceb428e4071row3_col6\" class=\"data row3 col6\" >12</td>\n",
       "                        <td id=\"T_e152e6e3_91d2_11ea_bc97_4ceb428e4071row3_col7\" class=\"data row3 col7\" >9</td>\n",
       "                        <td id=\"T_e152e6e3_91d2_11ea_bc97_4ceb428e4071row3_col8\" class=\"data row3 col8\" >11</td>\n",
       "                        <td id=\"T_e152e6e3_91d2_11ea_bc97_4ceb428e4071row3_col9\" class=\"data row3 col9\" >14</td>\n",
       "                        <td id=\"T_e152e6e3_91d2_11ea_bc97_4ceb428e4071row3_col10\" class=\"data row3 col10\" >12</td>\n",
       "                        <td id=\"T_e152e6e3_91d2_11ea_bc97_4ceb428e4071row3_col11\" class=\"data row3 col11\" >15</td>\n",
       "                        <td id=\"T_e152e6e3_91d2_11ea_bc97_4ceb428e4071row3_col12\" class=\"data row3 col12\" >127</td>\n",
       "            </tr>\n",
       "            <tr>\n",
       "                                <td id=\"T_e152e6e3_91d2_11ea_bc97_4ceb428e4071row4_col0\" class=\"data row4 col0\" >Adrian Å¢apu</td>\n",
       "                        <td id=\"T_e152e6e3_91d2_11ea_bc97_4ceb428e4071row4_col1\" class=\"data row4 col1\" >                  19</td>\n",
       "                        <td id=\"T_e152e6e3_91d2_11ea_bc97_4ceb428e4071row4_col2\" class=\"data row4 col2\" >13</td>\n",
       "                        <td id=\"T_e152e6e3_91d2_11ea_bc97_4ceb428e4071row4_col3\" class=\"data row4 col3\" >16</td>\n",
       "                        <td id=\"T_e152e6e3_91d2_11ea_bc97_4ceb428e4071row4_col4\" class=\"data row4 col4\" >9</td>\n",
       "                        <td id=\"T_e152e6e3_91d2_11ea_bc97_4ceb428e4071row4_col5\" class=\"data row4 col5\" >12</td>\n",
       "                        <td id=\"T_e152e6e3_91d2_11ea_bc97_4ceb428e4071row4_col6\" class=\"data row4 col6\" >10</td>\n",
       "                        <td id=\"T_e152e6e3_91d2_11ea_bc97_4ceb428e4071row4_col7\" class=\"data row4 col7\" >13</td>\n",
       "                        <td id=\"T_e152e6e3_91d2_11ea_bc97_4ceb428e4071row4_col8\" class=\"data row4 col8\" >13</td>\n",
       "                        <td id=\"T_e152e6e3_91d2_11ea_bc97_4ceb428e4071row4_col9\" class=\"data row4 col9\" >15</td>\n",
       "                        <td id=\"T_e152e6e3_91d2_11ea_bc97_4ceb428e4071row4_col10\" class=\"data row4 col10\" >12</td>\n",
       "                        <td id=\"T_e152e6e3_91d2_11ea_bc97_4ceb428e4071row4_col11\" class=\"data row4 col11\" >14</td>\n",
       "                        <td id=\"T_e152e6e3_91d2_11ea_bc97_4ceb428e4071row4_col12\" class=\"data row4 col12\" >127</td>\n",
       "            </tr>\n",
       "            <tr>\n",
       "                                <td id=\"T_e152e6e3_91d2_11ea_bc97_4ceb428e4071row5_col0\" class=\"data row5 col0\" >Filipe Cerqueira</td>\n",
       "                        <td id=\"T_e152e6e3_91d2_11ea_bc97_4ceb428e4071row5_col1\" class=\"data row5 col1\" >                  18</td>\n",
       "                        <td id=\"T_e152e6e3_91d2_11ea_bc97_4ceb428e4071row5_col2\" class=\"data row5 col2\" >13</td>\n",
       "                        <td id=\"T_e152e6e3_91d2_11ea_bc97_4ceb428e4071row5_col3\" class=\"data row5 col3\" >15</td>\n",
       "                        <td id=\"T_e152e6e3_91d2_11ea_bc97_4ceb428e4071row5_col4\" class=\"data row5 col4\" >9</td>\n",
       "                        <td id=\"T_e152e6e3_91d2_11ea_bc97_4ceb428e4071row5_col5\" class=\"data row5 col5\" >15</td>\n",
       "                        <td id=\"T_e152e6e3_91d2_11ea_bc97_4ceb428e4071row5_col6\" class=\"data row5 col6\" >12</td>\n",
       "                        <td id=\"T_e152e6e3_91d2_11ea_bc97_4ceb428e4071row5_col7\" class=\"data row5 col7\" >10</td>\n",
       "                        <td id=\"T_e152e6e3_91d2_11ea_bc97_4ceb428e4071row5_col8\" class=\"data row5 col8\" >10</td>\n",
       "                        <td id=\"T_e152e6e3_91d2_11ea_bc97_4ceb428e4071row5_col9\" class=\"data row5 col9\" >10</td>\n",
       "                        <td id=\"T_e152e6e3_91d2_11ea_bc97_4ceb428e4071row5_col10\" class=\"data row5 col10\" >15</td>\n",
       "                        <td id=\"T_e152e6e3_91d2_11ea_bc97_4ceb428e4071row5_col11\" class=\"data row5 col11\" >17</td>\n",
       "                        <td id=\"T_e152e6e3_91d2_11ea_bc97_4ceb428e4071row5_col12\" class=\"data row5 col12\" >126</td>\n",
       "            </tr>\n",
       "            <tr>\n",
       "                                <td id=\"T_e152e6e3_91d2_11ea_bc97_4ceb428e4071row6_col0\" class=\"data row6 col0\" >Predrag Jovic</td>\n",
       "                        <td id=\"T_e152e6e3_91d2_11ea_bc97_4ceb428e4071row6_col1\" class=\"data row6 col1\" >                  19</td>\n",
       "                        <td id=\"T_e152e6e3_91d2_11ea_bc97_4ceb428e4071row6_col2\" class=\"data row6 col2\" >11</td>\n",
       "                        <td id=\"T_e152e6e3_91d2_11ea_bc97_4ceb428e4071row6_col3\" class=\"data row6 col3\" >15</td>\n",
       "                        <td id=\"T_e152e6e3_91d2_11ea_bc97_4ceb428e4071row6_col4\" class=\"data row6 col4\" >17</td>\n",
       "                        <td id=\"T_e152e6e3_91d2_11ea_bc97_4ceb428e4071row6_col5\" class=\"data row6 col5\" >10</td>\n",
       "                        <td id=\"T_e152e6e3_91d2_11ea_bc97_4ceb428e4071row6_col6\" class=\"data row6 col6\" >12</td>\n",
       "                        <td id=\"T_e152e6e3_91d2_11ea_bc97_4ceb428e4071row6_col7\" class=\"data row6 col7\" >9</td>\n",
       "                        <td id=\"T_e152e6e3_91d2_11ea_bc97_4ceb428e4071row6_col8\" class=\"data row6 col8\" >13</td>\n",
       "                        <td id=\"T_e152e6e3_91d2_11ea_bc97_4ceb428e4071row6_col9\" class=\"data row6 col9\" >16</td>\n",
       "                        <td id=\"T_e152e6e3_91d2_11ea_bc97_4ceb428e4071row6_col10\" class=\"data row6 col10\" >9</td>\n",
       "                        <td id=\"T_e152e6e3_91d2_11ea_bc97_4ceb428e4071row6_col11\" class=\"data row6 col11\" >14</td>\n",
       "                        <td id=\"T_e152e6e3_91d2_11ea_bc97_4ceb428e4071row6_col12\" class=\"data row6 col12\" >126</td>\n",
       "            </tr>\n",
       "            <tr>\n",
       "                                <td id=\"T_e152e6e3_91d2_11ea_bc97_4ceb428e4071row7_col0\" class=\"data row7 col0\" >Semih Åahin</td>\n",
       "                        <td id=\"T_e152e6e3_91d2_11ea_bc97_4ceb428e4071row7_col1\" class=\"data row7 col1\" >                  22</td>\n",
       "                        <td id=\"T_e152e6e3_91d2_11ea_bc97_4ceb428e4071row7_col2\" class=\"data row7 col2\" >14</td>\n",
       "                        <td id=\"T_e152e6e3_91d2_11ea_bc97_4ceb428e4071row7_col3\" class=\"data row7 col3\" >12</td>\n",
       "                        <td id=\"T_e152e6e3_91d2_11ea_bc97_4ceb428e4071row7_col4\" class=\"data row7 col4\" >15</td>\n",
       "                        <td id=\"T_e152e6e3_91d2_11ea_bc97_4ceb428e4071row7_col5\" class=\"data row7 col5\" >10</td>\n",
       "                        <td id=\"T_e152e6e3_91d2_11ea_bc97_4ceb428e4071row7_col6\" class=\"data row7 col6\" >11</td>\n",
       "                        <td id=\"T_e152e6e3_91d2_11ea_bc97_4ceb428e4071row7_col7\" class=\"data row7 col7\" >12</td>\n",
       "                        <td id=\"T_e152e6e3_91d2_11ea_bc97_4ceb428e4071row7_col8\" class=\"data row7 col8\" >11</td>\n",
       "                        <td id=\"T_e152e6e3_91d2_11ea_bc97_4ceb428e4071row7_col9\" class=\"data row7 col9\" >12</td>\n",
       "                        <td id=\"T_e152e6e3_91d2_11ea_bc97_4ceb428e4071row7_col10\" class=\"data row7 col10\" >16</td>\n",
       "                        <td id=\"T_e152e6e3_91d2_11ea_bc97_4ceb428e4071row7_col11\" class=\"data row7 col11\" >13</td>\n",
       "                        <td id=\"T_e152e6e3_91d2_11ea_bc97_4ceb428e4071row7_col12\" class=\"data row7 col12\" >126</td>\n",
       "            </tr>\n",
       "            <tr>\n",
       "                                <td id=\"T_e152e6e3_91d2_11ea_bc97_4ceb428e4071row8_col0\" class=\"data row8 col0\" >Martin Baturina</td>\n",
       "                        <td id=\"T_e152e6e3_91d2_11ea_bc97_4ceb428e4071row8_col1\" class=\"data row8 col1\" >                  19</td>\n",
       "                        <td id=\"T_e152e6e3_91d2_11ea_bc97_4ceb428e4071row8_col2\" class=\"data row8 col2\" >12</td>\n",
       "                        <td id=\"T_e152e6e3_91d2_11ea_bc97_4ceb428e4071row8_col3\" class=\"data row8 col3\" >14</td>\n",
       "                        <td id=\"T_e152e6e3_91d2_11ea_bc97_4ceb428e4071row8_col4\" class=\"data row8 col4\" >12</td>\n",
       "                        <td id=\"T_e152e6e3_91d2_11ea_bc97_4ceb428e4071row8_col5\" class=\"data row8 col5\" >14</td>\n",
       "                        <td id=\"T_e152e6e3_91d2_11ea_bc97_4ceb428e4071row8_col6\" class=\"data row8 col6\" >10</td>\n",
       "                        <td id=\"T_e152e6e3_91d2_11ea_bc97_4ceb428e4071row8_col7\" class=\"data row8 col7\" >13</td>\n",
       "                        <td id=\"T_e152e6e3_91d2_11ea_bc97_4ceb428e4071row8_col8\" class=\"data row8 col8\" >11</td>\n",
       "                        <td id=\"T_e152e6e3_91d2_11ea_bc97_4ceb428e4071row8_col9\" class=\"data row8 col9\" >13</td>\n",
       "                        <td id=\"T_e152e6e3_91d2_11ea_bc97_4ceb428e4071row8_col10\" class=\"data row8 col10\" >11</td>\n",
       "                        <td id=\"T_e152e6e3_91d2_11ea_bc97_4ceb428e4071row8_col11\" class=\"data row8 col11\" >13</td>\n",
       "                        <td id=\"T_e152e6e3_91d2_11ea_bc97_4ceb428e4071row8_col12\" class=\"data row8 col12\" >123</td>\n",
       "            </tr>\n",
       "            <tr>\n",
       "                                <td id=\"T_e152e6e3_91d2_11ea_bc97_4ceb428e4071row9_col0\" class=\"data row9 col0\" >Jannis KÃ¼bler</td>\n",
       "                        <td id=\"T_e152e6e3_91d2_11ea_bc97_4ceb428e4071row9_col1\" class=\"data row9 col1\" >                  23</td>\n",
       "                        <td id=\"T_e152e6e3_91d2_11ea_bc97_4ceb428e4071row9_col2\" class=\"data row9 col2\" >10</td>\n",
       "                        <td id=\"T_e152e6e3_91d2_11ea_bc97_4ceb428e4071row9_col3\" class=\"data row9 col3\" >15</td>\n",
       "                        <td id=\"T_e152e6e3_91d2_11ea_bc97_4ceb428e4071row9_col4\" class=\"data row9 col4\" >10</td>\n",
       "                        <td id=\"T_e152e6e3_91d2_11ea_bc97_4ceb428e4071row9_col5\" class=\"data row9 col5\" >13</td>\n",
       "                        <td id=\"T_e152e6e3_91d2_11ea_bc97_4ceb428e4071row9_col6\" class=\"data row9 col6\" >12</td>\n",
       "                        <td id=\"T_e152e6e3_91d2_11ea_bc97_4ceb428e4071row9_col7\" class=\"data row9 col7\" >14</td>\n",
       "                        <td id=\"T_e152e6e3_91d2_11ea_bc97_4ceb428e4071row9_col8\" class=\"data row9 col8\" >9</td>\n",
       "                        <td id=\"T_e152e6e3_91d2_11ea_bc97_4ceb428e4071row9_col9\" class=\"data row9 col9\" >15</td>\n",
       "                        <td id=\"T_e152e6e3_91d2_11ea_bc97_4ceb428e4071row9_col10\" class=\"data row9 col10\" >13</td>\n",
       "                        <td id=\"T_e152e6e3_91d2_11ea_bc97_4ceb428e4071row9_col11\" class=\"data row9 col11\" >12</td>\n",
       "                        <td id=\"T_e152e6e3_91d2_11ea_bc97_4ceb428e4071row9_col12\" class=\"data row9 col12\" >123</td>\n",
       "            </tr>\n",
       "    </tbody></table>"
      ],
      "text/plain": [
       "<pandas.io.formats.style.Styler at 0xcd6dbb0>"
      ]
     },
     "execution_count": 24,
     "metadata": {},
     "output_type": "execute_result"
    }
   ],
   "source": [
    "print(\"False Nine\")\n",
    "sorted_f9 = f9.sort_values(by='f9_score', ascending=False)\n",
    "sorted_f9.head(10).style.format({\"Age\": \"{:20,.0f}\", \n",
    "                          })\\\n",
    "                       .hide_index()\\\n",
    "                       .background_gradient(cmap='Blues')"
   ]
  },
  {
   "cell_type": "code",
   "execution_count": 25,
   "metadata": {},
   "outputs": [
    {
     "data": {
      "application/vnd.plotly.v1+json": {
       "config": {
        "linkText": "Export to plot.ly",
        "plotlyServerURL": "https://plot.ly",
        "showLink": true
       },
       "data": [
        {
         "line": {
          "color": "rgba(255, 153, 51, 1.0)",
          "dash": "solid",
          "shape": "linear",
          "width": 1.3
         },
         "marker": {
          "size": 10,
          "symbol": "circle"
         },
         "mode": "markers",
         "name": "Gls/90",
         "text": [
          "Djibril DiakitÃ©",
          "JoÃ£o Tavares",
          "Matej Hudecek",
          "Adrian Rybak",
          "Oskar Repka",
          "Maciej Obodecki",
          "Ivo Kralj",
          "Bartosz Sobczyk",
          "Ivan Tomac",
          "Nikola Bogdanovski",
          "Stefan Velickovic",
          "Andrija Zakoc",
          "AurÃ©lien Nguiamba",
          "Flynn Downes",
          "Nikola Puzic",
          "Andjelo Kacavenda",
          "Tymoteusz Puchacz",
          "Felix Brunmayr",
          "Lennart Grill",
          "Josip Rakic",
          "Stefan Randjelovic",
          "Radoslaw Dzierbicki",
          "Alexandar Ubavic",
          "Veljko Jovkovic",
          "Mariano GÃ³mez",
          "David Bumberger",
          "Enrico Huss",
          "Mateo Jaksic",
          "Konrad Jozwicki",
          "Nikita Marusenko",
          "Djordje Jovanovic",
          "Filip Lisnic",
          "Dawid Szalas",
          "Vladimir Ilic",
          "Marcin Mackowiak",
          "Florin Codrean",
          "David Otto",
          "Stefan Golubovic",
          "Keanan Bennetts",
          "Andrej Vukas",
          "Jannik Tepe",
          "Mladen Devetak",
          "Tom Baack",
          "Jan Sobocinski",
          "TomÃ¡s Blanco",
          "Sinan Karweina",
          "Ben Williams",
          "Arkadiusz Zajaczkowski",
          "Miguel Reisinho",
          "Filp Ceko",
          "Michel StÃ¶cker",
          "JÃ©rÃ´me Deom",
          "Ranko Jokic",
          "Palko DÃ¡rdai",
          "Aleksander Tomasz",
          "Alex Vigo",
          "Daniel Bielica",
          "Marko Djira",
          "Norbert Walczak",
          "Boris Moltenis",
          "Julius Kade",
          "Goran Buljandric",
          "Jannis KÃ¼bler",
          "Aleksa Jovanovic",
          "Tomasz Owczarek",
          "David Wittkowski",
          "Konrad Zaklika",
          "Pawel Karbowinski",
          "Nicky Werner",
          "Julijan Popovic",
          "Nassim Boujellab",
          "Bartlomiej Gajda",
          "Nemanja Matijevic",
          "Marko Denic",
          "Robert Baar",
          "Tuta",
          "Dusan Jokovic",
          "Tomasz Dzida",
          "Aleksa Pejic",
          "Krsta Bojic",
          "Sikou NiakatÃ©",
          "Tomasz Makowski",
          "Sebastian Gwozdz",
          "Adrian Polanski",
          "Bryan Mbeumo",
          "Dorin Sirbu",
          "Elvis Novalic",
          "MickaÃ«l Cuisance",
          "Mateusz Madzia",
          "JesÃºs Vargas",
          "Marino Jedvaj",
          "Raphael Assibey-Mensah",
          "Lukasz Sztylka",
          "Zoran Zrnzevic",
          "Alex Krawiec",
          "Petar Melezovic",
          "Tomasz Kurek",
          "Danko Radic",
          "Paul Mensah",
          "Jordan Williams",
          "Mario Mustapic",
          "Nikola Trickovic",
          "Patrik Delic",
          "Maciej Famulak",
          "Wiktor Nahrebecki",
          "Barne Poggenberg",
          "Mirza Jasarevic",
          "Ratko Minic",
          "Semih Åahin",
          "Matej Santek",
          "Georgios Siadas",
          "Tyrese Campbell",
          "Martin Krizmanic",
          "Kacper Laskos",
          "Aleksa Milojevic",
          "Cheick DoucourÃ©",
          "Ivan Jakovljev",
          "Przemyslaw Zdybowicz",
          "Sven Botman",
          "Malik Karaahmet",
          "Lukas KrÃ¼ger",
          "Niclas Stierlin",
          "Mane Markovic",
          "Karol Czubak",
          "Ilija Dejanovic",
          "Pascal Hackethal",
          "Oleg Gorin",
          "Michal Zieba",
          "Miodrag Maljkovic",
          "Jakov Blagaic",
          "Harisson Marcelin",
          "Vice Bazdaric",
          "Daniel Liszka",
          "Jan Sieracki",
          "Jhonny Lucas",
          "Tymoteusz Klups",
          "Josip Sutalo",
          "Othman Boussaid",
          "Evert Linthorst",
          "Jusuf Gazibegovic",
          "Virgiliu Postolachi",
          "Luis GÃ¶rlich",
          "Andrej Ilic",
          "Daniel Haritonov",
          "Patryk Drabik",
          "Tom Dobek-Pietrowski",
          "Michal Mydlarz",
          "Cho Jeong-Hui",
          "Mohamed Loua",
          "Nemanja Zikic",
          "Emir Sejdovic",
          "Samuel Lengle",
          "Mateusz Duchowski",
          "Iliya Gruev",
          "Bartosz Borun",
          "Juraj Ljubic",
          "GonÃ§alo Rebelo",
          "Dominik Resetar",
          "Jurica Prsir",
          "Piotr Wujec",
          "Jan Majsterek",
          "Mitchel Bakker",
          "Kamil Piatkowski",
          "Michal Ozga",
          "Karol Turek",
          "Toni Karimovic",
          "Billy Crellin",
          "Konrad Sieracki",
          "Vando Luis",
          "Jan Los",
          "Jessic Ngankam",
          "Adam Borkowski",
          "Julian Rieckmann",
          "Luka Pavlak",
          "Robert Ion",
          "Linus RosenlÃ¶cher",
          "Eugen Telch",
          "Nicholas Wunsch",
          "Dawid Kisly",
          "Uros Miloradovic",
          "Alois Oroz",
          "Luca Bazzoli",
          "Ronan Darcy",
          "Yann-Aurel Bisseck",
          "Timo Bornemann",
          "Radivoj Bosic",
          "Jakov Katusa",
          "Kacper Jozefiak",
          "Szymon Mroczko",
          "Karol Struski",
          "Wojciech Kaminski",
          "Piotr Lisowski",
          "Daishawn Redan",
          "Kacper Smolinski",
          "Lukas SchÃ¶fl",
          "Mikolaj Labojko",
          "Jakub Karbownik",
          "Damir Magdic",
          "Karol Malec",
          "Patryk Wozniak",
          "Can Bozdogan",
          "Aleksander Paluszek",
          "Mario Cuic",
          "Dragoljub Savic",
          "Nathan Collins",
          "Dominik Pila",
          "Mihael Kupresak",
          "Manu KonÃ©",
          "Niels Hahn",
          "Tin Hrvoj",
          "Lucas Da Cunha",
          "Rahim Ibrahim",
          "Renato Josipovic",
          "Han-Noah Massengo",
          "Kacper Wiatrak",
          "Bartosz Kuzniarski",
          "Adrian Petk",
          "Fabian Tauchhammer",
          "Bartlomiej Mruk",
          "Jakub Rudek",
          "Jakub Swiecinski",
          "Jakub Nowakowski",
          "Kamil Dabrowski",
          "Yuri Sprandel Flores",
          "Stefan Radmanovac",
          "Kamal Bafounta",
          "Filip Marchwinski",
          "Kamil Lukoszek",
          "Jakub Niewiadomski",
          "Dominik Kedzior",
          "Joe Gelhardt",
          "Filip Sobiecki",
          "Fran Tomek",
          "Hubert Wasiewski",
          "Djordje Vasic",
          "Jakub Zima",
          "Damian Makuch",
          "Andrzej Kloda",
          "Stipe Biuk",
          "Mateusz Pienczak",
          "FIlip Brekalo",
          "Stefan Despotovski",
          "Jakub Kisiel",
          "Duje Skugor",
          "Martin Baturina",
          "Radoslaw Cielemecki",
          "Ariel Mosor",
          "Nikola Petkovic",
          "Nikodem Sujecki",
          "Ivan Mandic",
          "Stanislaw Loch",
          "Dario Grgic",
          "Wojciech Szybka",
          "Kacper Szmidt",
          "Vukasin Krstic",
          "Obrendo Doesburg",
          "Casper Elderman",
          "Predrag Jovic",
          "Daniel Hoyo-Kowalski",
          "Darijo Basic",
          "Wiktor Mosur",
          "Uros Mirkovic",
          "Marcos RodrÃ­guez",
          "Adrian Å¢apu",
          "Paul Mari",
          "Pawel Muzylowski",
          "Dragan Radovic",
          "Szymon Kobeszko",
          "Marcin Dabrowski",
          "Jorge Delgado",
          "Daniel Piesio",
          null
         ],
         "type": "scatter",
         "x": [
          "0.87",
          "0.79",
          "1.85",
          "1.15",
          "0.64",
          "2.72",
          "0.57",
          "0.38",
          "1.31",
          "1.27",
          "0.61",
          "1.48",
          "0.50",
          "0.50",
          "0.96",
          "0.77",
          "1.96",
          "0.46",
          "-",
          "1.45",
          "-",
          "0.92",
          "0.26",
          "1.15",
          "0.39",
          "0.28",
          "1.11",
          "0.65",
          "0.58",
          "0.52",
          "3.31",
          "0.61",
          "0.66",
          "1.05",
          "0.71",
          "0.35",
          "3.29",
          "0.15",
          "0.04",
          "1.76",
          "2.15",
          "0.05",
          "0.35",
          "0.58",
          "1.79",
          "1.93",
          "0.23",
          "1.92",
          "1.16",
          "0.72",
          "1.22",
          "2.21",
          "0.17",
          "1.41",
          "0.29",
          "1.31",
          "-",
          "0.15",
          "4.03",
          "0.72",
          "1.40",
          "-",
          "1.41",
          "0.74",
          "0.75",
          "0.05",
          "0.66",
          "0.11",
          "0.87",
          "0.74",
          "1.96",
          "0.97",
          "1.60",
          "0.63",
          "0.44",
          "0.35",
          "0.37",
          "1.02",
          "0.69",
          "1.59",
          "0.45",
          "1.06",
          "0.49",
          "2.30",
          "2.87",
          "1.80",
          "0.64",
          "1.42",
          "1.26",
          "1.99",
          "0.26",
          "1.61",
          "0.44",
          "0.39",
          "1.74",
          "0.40",
          "3.07",
          "2.39",
          "4.22",
          "0.47",
          "-",
          "0.38",
          "1.57",
          "0.78",
          "1.18",
          "0.18",
          "0.96",
          "1.75",
          "1.26",
          "1.06",
          "0.50",
          "3.85",
          "0.32",
          "0.99",
          "-",
          "1.07",
          "0.70",
          "2.36",
          "0.22",
          "1.93",
          "1.31",
          "0.69",
          "-",
          "3.06",
          "1.57",
          "0.20",
          "1.41",
          "1.77",
          "2.14",
          "2.00",
          "0.58",
          "-",
          "0.57",
          "2.54",
          "1.92",
          "1.66",
          "0.79",
          "1.21",
          "1.47",
          "1.35",
          "3.53",
          "1.70",
          "2.43",
          "0.30",
          "1.35",
          "1.27",
          "1.25",
          "0.38",
          "0.93",
          "0.61",
          "0.91",
          "1.47",
          "1.88",
          "0.55",
          "0.37",
          "1.29",
          "0.25",
          "3.23",
          "1.58",
          "1.22",
          "1.80",
          "0.24",
          "1.25",
          "1.07",
          "0.08",
          "1.64",
          "-",
          "0.70",
          "0.17",
          "2.58",
          "2.03",
          "1.61",
          "0.63",
          "0.96",
          "1.50",
          "0.07",
          "0.05",
          "0.57",
          "0.70",
          "1.20",
          "1.07",
          "0.73",
          "1.93",
          "0.65",
          "2.93",
          "0.53",
          "0.64",
          "1.08",
          "1.89",
          "1.06",
          "0.56",
          "0.95",
          "2.79",
          "0.46",
          "0.76",
          "0.43",
          "1.71",
          "0.77",
          "0.98",
          "1.25",
          "1.06",
          "1.52",
          "0.48",
          "1.86",
          "0.15",
          "0.80",
          "2.86",
          "0.82",
          "0.31",
          "1.21",
          "0.71",
          "0.46",
          "-",
          "1.19",
          "0.40",
          "2.65",
          "1.22",
          "0.57",
          "1.00",
          "1.34",
          "0.28",
          "0.18",
          "0.79",
          "0.17",
          "1.01",
          "1.36",
          "1.89",
          "2.11",
          "0.26",
          "1.57",
          "3.29",
          "1.59",
          "0.58",
          "-",
          "0.40",
          "0.31",
          "1.19",
          "1.99",
          "0.71",
          "0.85",
          "0.07",
          "1.27",
          "1.02",
          "2.68",
          "0.85",
          "1.21",
          "1.28",
          "1.74",
          "-",
          "-",
          "0.97",
          "0.71",
          "0.92",
          "1.93",
          "0.42",
          "0.57",
          "0.43",
          "0.73",
          "1.15",
          "0.42",
          "1.01",
          "0.73",
          "-",
          "1.04",
          "0.69",
          "1.06",
          "2.65",
          "0.67",
          "0.25",
          "0.46",
          "0.64",
          null
         ],
         "y": [
          "0.07",
          "0.14",
          "0.17",
          "0.06",
          "-",
          "0.17",
          "-",
          "0.08",
          "-",
          "0.24",
          "-",
          "-",
          "-",
          "-",
          "0.07",
          "0.05",
          "0.38",
          "-",
          "-",
          "0.08",
          "-",
          "-",
          "0.13",
          "0.23",
          "0.11",
          "-",
          "-",
          "0.07",
          "-",
          "0.06",
          "0.54",
          "0.06",
          "0.05",
          "0.10",
          "0.06",
          "-",
          "0.62",
          "-",
          "-",
          "0.10",
          "0.32",
          "-",
          "-",
          "-",
          "0.23",
          "0.32",
          "-",
          "0.16",
          "-",
          "0.06",
          "-",
          "0.14",
          "-",
          "0.28",
          "0.06",
          "0.11",
          "-",
          "-",
          "0.14",
          "-",
          "0.12",
          "-",
          "0.13",
          "0.05",
          "-",
          "0.05",
          "-",
          "-",
          "0.15",
          "-",
          "0.23",
          "0.11",
          "0.33",
          "0.05",
          "-",
          "-",
          "0.06",
          "0.17",
          "-",
          "0.24",
          "-",
          "0.07",
          "0.13",
          "0.24",
          "0.30",
          "-",
          "0.05",
          "0.12",
          "-",
          "0.22",
          "-",
          "0.09",
          "-",
          "0.13",
          "0.23",
          "0.05",
          "0.61",
          "0.15",
          "0.45",
          "-",
          "-",
          "-",
          "-",
          "0.08",
          "0.07",
          "0.05",
          "0.18",
          "0.16",
          "0.19",
          "0.07",
          "-",
          "0.33",
          "-",
          "-",
          "-",
          "0.11",
          "0.09",
          "0.39",
          "-",
          "0.79",
          "0.06",
          "-",
          "-",
          "0.49",
          "0.09",
          "-",
          "0.18",
          "0.24",
          "0.55",
          "0.31",
          "0.06",
          "-",
          "0.06",
          "0.08",
          "0.15",
          "0.22",
          "-",
          "0.07",
          "0.21",
          "-",
          "0.07",
          "0.05",
          "0.22",
          "-",
          "0.37",
          "0.07",
          "0.22",
          "-",
          "-",
          "0.04",
          "0.04",
          "0.20",
          "0.44",
          "-",
          "-",
          "0.16",
          "0.04",
          "0.64",
          "0.18",
          "0.06",
          "0.17",
          "-",
          "-",
          "0.09",
          "-",
          "0.26",
          "-",
          "-",
          "-",
          "0.45",
          "0.13",
          "0.08",
          "-",
          "0.19",
          "0.18",
          "-",
          "-",
          "-",
          "-",
          "0.08",
          "0.12",
          "0.10",
          "0.23",
          "-",
          "0.69",
          "-",
          "0.06",
          "-",
          "-",
          "0.07",
          "0.05",
          "-",
          "0.64",
          "-",
          "0.06",
          "0.14",
          "-",
          "0.08",
          "0.05",
          "0.16",
          "-",
          "0.08",
          "-",
          "0.14",
          "-",
          "0.09",
          "0.42",
          "0.12",
          "0.06",
          "0.08",
          "0.06",
          "0.03",
          "-",
          "0.08",
          "-",
          "0.62",
          "0.17",
          "-",
          "-",
          "0.17",
          "-",
          "0.05",
          "0.07",
          "-",
          "0.16",
          "-",
          "0.18",
          "0.31",
          "0.07",
          "0.17",
          "0.44",
          "0.15",
          "0.13",
          "-",
          "-",
          "0.08",
          "0.07",
          "-",
          "0.19",
          "-",
          "-",
          "0.10",
          "0.08",
          "0.38",
          "-",
          "0.06",
          "-",
          "0.22",
          "-",
          "-",
          "0.41",
          "0.06",
          "0.08",
          "0.07",
          "0.14",
          "0.09",
          "-",
          "0.11",
          "-",
          "0.08",
          "-",
          "0.11",
          "-",
          "0.16",
          "0.06",
          "0.20",
          "0.34",
          "-",
          "-",
          "-",
          "0.13",
          ""
         ]
        }
       ],
       "layout": {
        "legend": {
         "bgcolor": "#F5F6F9",
         "font": {
          "color": "#4D5663"
         }
        },
        "paper_bgcolor": "#F5F6F9",
        "plot_bgcolor": "#F5F6F9",
        "template": {
         "data": {
          "bar": [
           {
            "error_x": {
             "color": "#2a3f5f"
            },
            "error_y": {
             "color": "#2a3f5f"
            },
            "marker": {
             "line": {
              "color": "#E5ECF6",
              "width": 0.5
             }
            },
            "type": "bar"
           }
          ],
          "barpolar": [
           {
            "marker": {
             "line": {
              "color": "#E5ECF6",
              "width": 0.5
             }
            },
            "type": "barpolar"
           }
          ],
          "carpet": [
           {
            "aaxis": {
             "endlinecolor": "#2a3f5f",
             "gridcolor": "white",
             "linecolor": "white",
             "minorgridcolor": "white",
             "startlinecolor": "#2a3f5f"
            },
            "baxis": {
             "endlinecolor": "#2a3f5f",
             "gridcolor": "white",
             "linecolor": "white",
             "minorgridcolor": "white",
             "startlinecolor": "#2a3f5f"
            },
            "type": "carpet"
           }
          ],
          "choropleth": [
           {
            "colorbar": {
             "outlinewidth": 0,
             "ticks": ""
            },
            "type": "choropleth"
           }
          ],
          "contour": [
           {
            "colorbar": {
             "outlinewidth": 0,
             "ticks": ""
            },
            "colorscale": [
             [
              0,
              "#0d0887"
             ],
             [
              0.1111111111111111,
              "#46039f"
             ],
             [
              0.2222222222222222,
              "#7201a8"
             ],
             [
              0.3333333333333333,
              "#9c179e"
             ],
             [
              0.4444444444444444,
              "#bd3786"
             ],
             [
              0.5555555555555556,
              "#d8576b"
             ],
             [
              0.6666666666666666,
              "#ed7953"
             ],
             [
              0.7777777777777778,
              "#fb9f3a"
             ],
             [
              0.8888888888888888,
              "#fdca26"
             ],
             [
              1,
              "#f0f921"
             ]
            ],
            "type": "contour"
           }
          ],
          "contourcarpet": [
           {
            "colorbar": {
             "outlinewidth": 0,
             "ticks": ""
            },
            "type": "contourcarpet"
           }
          ],
          "heatmap": [
           {
            "colorbar": {
             "outlinewidth": 0,
             "ticks": ""
            },
            "colorscale": [
             [
              0,
              "#0d0887"
             ],
             [
              0.1111111111111111,
              "#46039f"
             ],
             [
              0.2222222222222222,
              "#7201a8"
             ],
             [
              0.3333333333333333,
              "#9c179e"
             ],
             [
              0.4444444444444444,
              "#bd3786"
             ],
             [
              0.5555555555555556,
              "#d8576b"
             ],
             [
              0.6666666666666666,
              "#ed7953"
             ],
             [
              0.7777777777777778,
              "#fb9f3a"
             ],
             [
              0.8888888888888888,
              "#fdca26"
             ],
             [
              1,
              "#f0f921"
             ]
            ],
            "type": "heatmap"
           }
          ],
          "heatmapgl": [
           {
            "colorbar": {
             "outlinewidth": 0,
             "ticks": ""
            },
            "colorscale": [
             [
              0,
              "#0d0887"
             ],
             [
              0.1111111111111111,
              "#46039f"
             ],
             [
              0.2222222222222222,
              "#7201a8"
             ],
             [
              0.3333333333333333,
              "#9c179e"
             ],
             [
              0.4444444444444444,
              "#bd3786"
             ],
             [
              0.5555555555555556,
              "#d8576b"
             ],
             [
              0.6666666666666666,
              "#ed7953"
             ],
             [
              0.7777777777777778,
              "#fb9f3a"
             ],
             [
              0.8888888888888888,
              "#fdca26"
             ],
             [
              1,
              "#f0f921"
             ]
            ],
            "type": "heatmapgl"
           }
          ],
          "histogram": [
           {
            "marker": {
             "colorbar": {
              "outlinewidth": 0,
              "ticks": ""
             }
            },
            "type": "histogram"
           }
          ],
          "histogram2d": [
           {
            "colorbar": {
             "outlinewidth": 0,
             "ticks": ""
            },
            "colorscale": [
             [
              0,
              "#0d0887"
             ],
             [
              0.1111111111111111,
              "#46039f"
             ],
             [
              0.2222222222222222,
              "#7201a8"
             ],
             [
              0.3333333333333333,
              "#9c179e"
             ],
             [
              0.4444444444444444,
              "#bd3786"
             ],
             [
              0.5555555555555556,
              "#d8576b"
             ],
             [
              0.6666666666666666,
              "#ed7953"
             ],
             [
              0.7777777777777778,
              "#fb9f3a"
             ],
             [
              0.8888888888888888,
              "#fdca26"
             ],
             [
              1,
              "#f0f921"
             ]
            ],
            "type": "histogram2d"
           }
          ],
          "histogram2dcontour": [
           {
            "colorbar": {
             "outlinewidth": 0,
             "ticks": ""
            },
            "colorscale": [
             [
              0,
              "#0d0887"
             ],
             [
              0.1111111111111111,
              "#46039f"
             ],
             [
              0.2222222222222222,
              "#7201a8"
             ],
             [
              0.3333333333333333,
              "#9c179e"
             ],
             [
              0.4444444444444444,
              "#bd3786"
             ],
             [
              0.5555555555555556,
              "#d8576b"
             ],
             [
              0.6666666666666666,
              "#ed7953"
             ],
             [
              0.7777777777777778,
              "#fb9f3a"
             ],
             [
              0.8888888888888888,
              "#fdca26"
             ],
             [
              1,
              "#f0f921"
             ]
            ],
            "type": "histogram2dcontour"
           }
          ],
          "mesh3d": [
           {
            "colorbar": {
             "outlinewidth": 0,
             "ticks": ""
            },
            "type": "mesh3d"
           }
          ],
          "parcoords": [
           {
            "line": {
             "colorbar": {
              "outlinewidth": 0,
              "ticks": ""
             }
            },
            "type": "parcoords"
           }
          ],
          "pie": [
           {
            "automargin": true,
            "type": "pie"
           }
          ],
          "scatter": [
           {
            "marker": {
             "colorbar": {
              "outlinewidth": 0,
              "ticks": ""
             }
            },
            "type": "scatter"
           }
          ],
          "scatter3d": [
           {
            "line": {
             "colorbar": {
              "outlinewidth": 0,
              "ticks": ""
             }
            },
            "marker": {
             "colorbar": {
              "outlinewidth": 0,
              "ticks": ""
             }
            },
            "type": "scatter3d"
           }
          ],
          "scattercarpet": [
           {
            "marker": {
             "colorbar": {
              "outlinewidth": 0,
              "ticks": ""
             }
            },
            "type": "scattercarpet"
           }
          ],
          "scattergeo": [
           {
            "marker": {
             "colorbar": {
              "outlinewidth": 0,
              "ticks": ""
             }
            },
            "type": "scattergeo"
           }
          ],
          "scattergl": [
           {
            "marker": {
             "colorbar": {
              "outlinewidth": 0,
              "ticks": ""
             }
            },
            "type": "scattergl"
           }
          ],
          "scattermapbox": [
           {
            "marker": {
             "colorbar": {
              "outlinewidth": 0,
              "ticks": ""
             }
            },
            "type": "scattermapbox"
           }
          ],
          "scatterpolar": [
           {
            "marker": {
             "colorbar": {
              "outlinewidth": 0,
              "ticks": ""
             }
            },
            "type": "scatterpolar"
           }
          ],
          "scatterpolargl": [
           {
            "marker": {
             "colorbar": {
              "outlinewidth": 0,
              "ticks": ""
             }
            },
            "type": "scatterpolargl"
           }
          ],
          "scatterternary": [
           {
            "marker": {
             "colorbar": {
              "outlinewidth": 0,
              "ticks": ""
             }
            },
            "type": "scatterternary"
           }
          ],
          "surface": [
           {
            "colorbar": {
             "outlinewidth": 0,
             "ticks": ""
            },
            "colorscale": [
             [
              0,
              "#0d0887"
             ],
             [
              0.1111111111111111,
              "#46039f"
             ],
             [
              0.2222222222222222,
              "#7201a8"
             ],
             [
              0.3333333333333333,
              "#9c179e"
             ],
             [
              0.4444444444444444,
              "#bd3786"
             ],
             [
              0.5555555555555556,
              "#d8576b"
             ],
             [
              0.6666666666666666,
              "#ed7953"
             ],
             [
              0.7777777777777778,
              "#fb9f3a"
             ],
             [
              0.8888888888888888,
              "#fdca26"
             ],
             [
              1,
              "#f0f921"
             ]
            ],
            "type": "surface"
           }
          ],
          "table": [
           {
            "cells": {
             "fill": {
              "color": "#EBF0F8"
             },
             "line": {
              "color": "white"
             }
            },
            "header": {
             "fill": {
              "color": "#C8D4E3"
             },
             "line": {
              "color": "white"
             }
            },
            "type": "table"
           }
          ]
         },
         "layout": {
          "annotationdefaults": {
           "arrowcolor": "#2a3f5f",
           "arrowhead": 0,
           "arrowwidth": 1
          },
          "coloraxis": {
           "colorbar": {
            "outlinewidth": 0,
            "ticks": ""
           }
          },
          "colorscale": {
           "diverging": [
            [
             0,
             "#8e0152"
            ],
            [
             0.1,
             "#c51b7d"
            ],
            [
             0.2,
             "#de77ae"
            ],
            [
             0.3,
             "#f1b6da"
            ],
            [
             0.4,
             "#fde0ef"
            ],
            [
             0.5,
             "#f7f7f7"
            ],
            [
             0.6,
             "#e6f5d0"
            ],
            [
             0.7,
             "#b8e186"
            ],
            [
             0.8,
             "#7fbc41"
            ],
            [
             0.9,
             "#4d9221"
            ],
            [
             1,
             "#276419"
            ]
           ],
           "sequential": [
            [
             0,
             "#0d0887"
            ],
            [
             0.1111111111111111,
             "#46039f"
            ],
            [
             0.2222222222222222,
             "#7201a8"
            ],
            [
             0.3333333333333333,
             "#9c179e"
            ],
            [
             0.4444444444444444,
             "#bd3786"
            ],
            [
             0.5555555555555556,
             "#d8576b"
            ],
            [
             0.6666666666666666,
             "#ed7953"
            ],
            [
             0.7777777777777778,
             "#fb9f3a"
            ],
            [
             0.8888888888888888,
             "#fdca26"
            ],
            [
             1,
             "#f0f921"
            ]
           ],
           "sequentialminus": [
            [
             0,
             "#0d0887"
            ],
            [
             0.1111111111111111,
             "#46039f"
            ],
            [
             0.2222222222222222,
             "#7201a8"
            ],
            [
             0.3333333333333333,
             "#9c179e"
            ],
            [
             0.4444444444444444,
             "#bd3786"
            ],
            [
             0.5555555555555556,
             "#d8576b"
            ],
            [
             0.6666666666666666,
             "#ed7953"
            ],
            [
             0.7777777777777778,
             "#fb9f3a"
            ],
            [
             0.8888888888888888,
             "#fdca26"
            ],
            [
             1,
             "#f0f921"
            ]
           ]
          },
          "colorway": [
           "#636efa",
           "#EF553B",
           "#00cc96",
           "#ab63fa",
           "#FFA15A",
           "#19d3f3",
           "#FF6692",
           "#B6E880",
           "#FF97FF",
           "#FECB52"
          ],
          "font": {
           "color": "#2a3f5f"
          },
          "geo": {
           "bgcolor": "white",
           "lakecolor": "white",
           "landcolor": "#E5ECF6",
           "showlakes": true,
           "showland": true,
           "subunitcolor": "white"
          },
          "hoverlabel": {
           "align": "left"
          },
          "hovermode": "closest",
          "mapbox": {
           "style": "light"
          },
          "paper_bgcolor": "white",
          "plot_bgcolor": "#E5ECF6",
          "polar": {
           "angularaxis": {
            "gridcolor": "white",
            "linecolor": "white",
            "ticks": ""
           },
           "bgcolor": "#E5ECF6",
           "radialaxis": {
            "gridcolor": "white",
            "linecolor": "white",
            "ticks": ""
           }
          },
          "scene": {
           "xaxis": {
            "backgroundcolor": "#E5ECF6",
            "gridcolor": "white",
            "gridwidth": 2,
            "linecolor": "white",
            "showbackground": true,
            "ticks": "",
            "zerolinecolor": "white"
           },
           "yaxis": {
            "backgroundcolor": "#E5ECF6",
            "gridcolor": "white",
            "gridwidth": 2,
            "linecolor": "white",
            "showbackground": true,
            "ticks": "",
            "zerolinecolor": "white"
           },
           "zaxis": {
            "backgroundcolor": "#E5ECF6",
            "gridcolor": "white",
            "gridwidth": 2,
            "linecolor": "white",
            "showbackground": true,
            "ticks": "",
            "zerolinecolor": "white"
           }
          },
          "shapedefaults": {
           "line": {
            "color": "#2a3f5f"
           }
          },
          "ternary": {
           "aaxis": {
            "gridcolor": "white",
            "linecolor": "white",
            "ticks": ""
           },
           "baxis": {
            "gridcolor": "white",
            "linecolor": "white",
            "ticks": ""
           },
           "bgcolor": "#E5ECF6",
           "caxis": {
            "gridcolor": "white",
            "linecolor": "white",
            "ticks": ""
           }
          },
          "title": {
           "x": 0.05
          },
          "xaxis": {
           "automargin": true,
           "gridcolor": "white",
           "linecolor": "white",
           "ticks": "",
           "title": {
            "standoff": 15
           },
           "zerolinecolor": "white",
           "zerolinewidth": 2
          },
          "yaxis": {
           "automargin": true,
           "gridcolor": "white",
           "linecolor": "white",
           "ticks": "",
           "title": {
            "standoff": 15
           },
           "zerolinecolor": "white",
           "zerolinewidth": 2
          }
         }
        },
        "title": {
         "font": {
          "color": "#4D5663"
         },
         "text": "False Nine - Support"
        },
        "xaxis": {
         "gridcolor": "#E1E5ED",
         "showgrid": true,
         "tickfont": {
          "color": "#4D5663"
         },
         "title": {
          "font": {
           "color": "#4D5663"
          },
          "text": "Shots/90"
         },
         "zerolinecolor": "#E1E5ED"
        },
        "yaxis": {
         "gridcolor": "#E1E5ED",
         "showgrid": true,
         "tickfont": {
          "color": "#4D5663"
         },
         "title": {
          "font": {
           "color": "#4D5663"
          },
          "text": "Goals/90"
         },
         "zerolinecolor": "#E1E5ED"
        }
       }
      },
      "text/html": [
       "<div>\n",
       "        \n",
       "        \n",
       "            <div id=\"54310a2d-de2e-4fb9-8839-cb1bba400776\" class=\"plotly-graph-div\" style=\"height:525px; width:100%;\"></div>\n",
       "            <script type=\"text/javascript\">\n",
       "                require([\"plotly\"], function(Plotly) {\n",
       "                    window.PLOTLYENV=window.PLOTLYENV || {};\n",
       "                    window.PLOTLYENV.BASE_URL='https://plot.ly';\n",
       "                    \n",
       "                if (document.getElementById(\"54310a2d-de2e-4fb9-8839-cb1bba400776\")) {\n",
       "                    Plotly.newPlot(\n",
       "                        '54310a2d-de2e-4fb9-8839-cb1bba400776',\n",
       "                        [{\"line\": {\"color\": \"rgba(255, 153, 51, 1.0)\", \"dash\": \"solid\", \"shape\": \"linear\", \"width\": 1.3}, \"marker\": {\"size\": 10, \"symbol\": \"circle\"}, \"mode\": \"markers\", \"name\": \"Gls/90\", \"text\": [\"Djibril Diakit\\u00c3\\u00a9\", \"Jo\\u00c3\\u00a3o Tavares\", \"Matej Hudecek\", \"Adrian Rybak\", \"Oskar Repka\", \"Maciej Obodecki\", \"Ivo Kralj\", \"Bartosz Sobczyk\", \"Ivan Tomac\", \"Nikola Bogdanovski\", \"Stefan Velickovic\", \"Andrija Zakoc\", \"Aur\\u00c3\\u00a9lien Nguiamba\", \"Flynn Downes\", \"Nikola Puzic\", \"Andjelo Kacavenda\", \"Tymoteusz Puchacz\", \"Felix Brunmayr\", \"Lennart Grill\", \"Josip Rakic\", \"Stefan Randjelovic\", \"Radoslaw Dzierbicki\", \"Alexandar Ubavic\", \"Veljko Jovkovic\", \"Mariano G\\u00c3\\u00b3mez\", \"David Bumberger\", \"Enrico Huss\", \"Mateo Jaksic\", \"Konrad Jozwicki\", \"Nikita Marusenko\", \"Djordje Jovanovic\", \"Filip Lisnic\", \"Dawid Szalas\", \"Vladimir Ilic\", \"Marcin Mackowiak\", \"Florin Codrean\", \"David Otto\", \"Stefan Golubovic\", \"Keanan Bennetts\", \"Andrej Vukas\", \"Jannik Tepe\", \"Mladen Devetak\", \"Tom Baack\", \"Jan Sobocinski\", \"Tom\\u00c3\\u00a1s Blanco\", \"Sinan Karweina\", \"Ben Williams\", \"Arkadiusz Zajaczkowski\", \"Miguel Reisinho\", \"Filp Ceko\", \"Michel St\\u00c3\\u00b6cker\", \"J\\u00c3\\u00a9r\\u00c3\\u00b4me Deom\", \"Ranko Jokic\", \"Palko D\\u00c3\\u00a1rdai\", \"Aleksander Tomasz\", \"Alex Vigo\", \"Daniel Bielica\", \"Marko Djira\", \"Norbert Walczak\", \"Boris Moltenis\", \"Julius Kade\", \"Goran Buljandric\", \"Jannis K\\u00c3\\u00bcbler\", \"Aleksa Jovanovic\", \"Tomasz Owczarek\", \"David Wittkowski\", \"Konrad Zaklika\", \"Pawel Karbowinski\", \"Nicky Werner\", \"Julijan Popovic\", \"Nassim Boujellab\", \"Bartlomiej Gajda\", \"Nemanja Matijevic\", \"Marko Denic\", \"Robert Baar\", \"Tuta\", \"Dusan Jokovic\", \"Tomasz Dzida\", \"Aleksa Pejic\", \"Krsta Bojic\", \"Sikou Niakat\\u00c3\\u00a9\", \"Tomasz Makowski\", \"Sebastian Gwozdz\", \"Adrian Polanski\", \"Bryan Mbeumo\", \"Dorin Sirbu\", \"Elvis Novalic\", \"Micka\\u00c3\\u00abl Cuisance\", \"Mateusz Madzia\", \"Jes\\u00c3\\u00bas Vargas\", \"Marino Jedvaj\", \"Raphael Assibey-Mensah\", \"Lukasz Sztylka\", \"Zoran Zrnzevic\", \"Alex Krawiec\", \"Petar Melezovic\", \"Tomasz Kurek\", \"Danko Radic\", \"Paul Mensah\", \"Jordan Williams\", \"Mario Mustapic\", \"Nikola Trickovic\", \"Patrik Delic\", \"Maciej Famulak\", \"Wiktor Nahrebecki\", \"Barne Poggenberg\", \"Mirza Jasarevic\", \"Ratko Minic\", \"Semih \\u00c5\\u009eahin\", \"Matej Santek\", \"Georgios Siadas\", \"Tyrese Campbell\", \"Martin Krizmanic\", \"Kacper Laskos\", \"Aleksa Milojevic\", \"Cheick Doucour\\u00c3\\u00a9\", \"Ivan Jakovljev\", \"Przemyslaw Zdybowicz\", \"Sven Botman\", \"Malik Karaahmet\", \"Lukas Kr\\u00c3\\u00bcger\", \"Niclas Stierlin\", \"Mane Markovic\", \"Karol Czubak\", \"Ilija Dejanovic\", \"Pascal Hackethal\", \"Oleg Gorin\", \"Michal Zieba\", \"Miodrag Maljkovic\", \"Jakov Blagaic\", \"Harisson Marcelin\", \"Vice Bazdaric\", \"Daniel Liszka\", \"Jan Sieracki\", \"Jhonny Lucas\", \"Tymoteusz Klups\", \"Josip Sutalo\", \"Othman Boussaid\", \"Evert Linthorst\", \"Jusuf Gazibegovic\", \"Virgiliu Postolachi\", \"Luis G\\u00c3\\u00b6rlich\", \"Andrej Ilic\", \"Daniel Haritonov\", \"Patryk Drabik\", \"Tom Dobek-Pietrowski\", \"Michal Mydlarz\", \"Cho Jeong-Hui\", \"Mohamed Loua\", \"Nemanja Zikic\", \"Emir Sejdovic\", \"Samuel Lengle\", \"Mateusz Duchowski\", \"Iliya Gruev\", \"Bartosz Borun\", \"Juraj Ljubic\", \"Gon\\u00c3\\u00a7alo Rebelo\", \"Dominik Resetar\", \"Jurica Prsir\", \"Piotr Wujec\", \"Jan Majsterek\", \"Mitchel Bakker\", \"Kamil Piatkowski\", \"Michal Ozga\", \"Karol Turek\", \"Toni Karimovic\", \"Billy Crellin\", \"Konrad Sieracki\", \"Vando Luis\", \"Jan Los\", \"Jessic Ngankam\", \"Adam Borkowski\", \"Julian Rieckmann\", \"Luka Pavlak\", \"Robert Ion\", \"Linus Rosenl\\u00c3\\u00b6cher\", \"Eugen Telch\", \"Nicholas Wunsch\", \"Dawid Kisly\", \"Uros Miloradovic\", \"Alois Oroz\", \"Luca Bazzoli\", \"Ronan Darcy\", \"Yann-Aurel Bisseck\", \"Timo Bornemann\", \"Radivoj Bosic\", \"Jakov Katusa\", \"Kacper Jozefiak\", \"Szymon Mroczko\", \"Karol Struski\", \"Wojciech Kaminski\", \"Piotr Lisowski\", \"Daishawn Redan\", \"Kacper Smolinski\", \"Lukas Sch\\u00c3\\u00b6fl\", \"Mikolaj Labojko\", \"Jakub Karbownik\", \"Damir Magdic\", \"Karol Malec\", \"Patryk Wozniak\", \"Can Bozdogan\", \"Aleksander Paluszek\", \"Mario Cuic\", \"Dragoljub Savic\", \"Nathan Collins\", \"Dominik Pila\", \"Mihael Kupresak\", \"Manu Kon\\u00c3\\u00a9\", \"Niels Hahn\", \"Tin Hrvoj\", \"Lucas Da Cunha\", \"Rahim Ibrahim\", \"Renato Josipovic\", \"Han-Noah Massengo\", \"Kacper Wiatrak\", \"Bartosz Kuzniarski\", \"Adrian Petk\", \"Fabian Tauchhammer\", \"Bartlomiej Mruk\", \"Jakub Rudek\", \"Jakub Swiecinski\", \"Jakub Nowakowski\", \"Kamil Dabrowski\", \"Yuri Sprandel Flores\", \"Stefan Radmanovac\", \"Kamal Bafounta\", \"Filip Marchwinski\", \"Kamil Lukoszek\", \"Jakub Niewiadomski\", \"Dominik Kedzior\", \"Joe Gelhardt\", \"Filip Sobiecki\", \"Fran Tomek\", \"Hubert Wasiewski\", \"Djordje Vasic\", \"Jakub Zima\", \"Damian Makuch\", \"Andrzej Kloda\", \"Stipe Biuk\", \"Mateusz Pienczak\", \"FIlip Brekalo\", \"Stefan Despotovski\", \"Jakub Kisiel\", \"Duje Skugor\", \"Martin Baturina\", \"Radoslaw Cielemecki\", \"Ariel Mosor\", \"Nikola Petkovic\", \"Nikodem Sujecki\", \"Ivan Mandic\", \"Stanislaw Loch\", \"Dario Grgic\", \"Wojciech Szybka\", \"Kacper Szmidt\", \"Vukasin Krstic\", \"Obrendo Doesburg\", \"Casper Elderman\", \"Predrag Jovic\", \"Daniel Hoyo-Kowalski\", \"Darijo Basic\", \"Wiktor Mosur\", \"Uros Mirkovic\", \"Marcos Rodr\\u00c3\\u00adguez\", \"Adrian \\u00c5\\u00a2apu\", \"Paul Mari\", \"Pawel Muzylowski\", \"Dragan Radovic\", \"Szymon Kobeszko\", \"Marcin Dabrowski\", \"Jorge Delgado\", \"Daniel Piesio\", null], \"type\": \"scatter\", \"x\": [\"0.87\", \"0.79\", \"1.85\", \"1.15\", \"0.64\", \"2.72\", \"0.57\", \"0.38\", \"1.31\", \"1.27\", \"0.61\", \"1.48\", \"0.50\", \"0.50\", \"0.96\", \"0.77\", \"1.96\", \"0.46\", \"-\", \"1.45\", \"-\", \"0.92\", \"0.26\", \"1.15\", \"0.39\", \"0.28\", \"1.11\", \"0.65\", \"0.58\", \"0.52\", \"3.31\", \"0.61\", \"0.66\", \"1.05\", \"0.71\", \"0.35\", \"3.29\", \"0.15\", \"0.04\", \"1.76\", \"2.15\", \"0.05\", \"0.35\", \"0.58\", \"1.79\", \"1.93\", \"0.23\", \"1.92\", \"1.16\", \"0.72\", \"1.22\", \"2.21\", \"0.17\", \"1.41\", \"0.29\", \"1.31\", \"-\", \"0.15\", \"4.03\", \"0.72\", \"1.40\", \"-\", \"1.41\", \"0.74\", \"0.75\", \"0.05\", \"0.66\", \"0.11\", \"0.87\", \"0.74\", \"1.96\", \"0.97\", \"1.60\", \"0.63\", \"0.44\", \"0.35\", \"0.37\", \"1.02\", \"0.69\", \"1.59\", \"0.45\", \"1.06\", \"0.49\", \"2.30\", \"2.87\", \"1.80\", \"0.64\", \"1.42\", \"1.26\", \"1.99\", \"0.26\", \"1.61\", \"0.44\", \"0.39\", \"1.74\", \"0.40\", \"3.07\", \"2.39\", \"4.22\", \"0.47\", \"-\", \"0.38\", \"1.57\", \"0.78\", \"1.18\", \"0.18\", \"0.96\", \"1.75\", \"1.26\", \"1.06\", \"0.50\", \"3.85\", \"0.32\", \"0.99\", \"-\", \"1.07\", \"0.70\", \"2.36\", \"0.22\", \"1.93\", \"1.31\", \"0.69\", \"-\", \"3.06\", \"1.57\", \"0.20\", \"1.41\", \"1.77\", \"2.14\", \"2.00\", \"0.58\", \"-\", \"0.57\", \"2.54\", \"1.92\", \"1.66\", \"0.79\", \"1.21\", \"1.47\", \"1.35\", \"3.53\", \"1.70\", \"2.43\", \"0.30\", \"1.35\", \"1.27\", \"1.25\", \"0.38\", \"0.93\", \"0.61\", \"0.91\", \"1.47\", \"1.88\", \"0.55\", \"0.37\", \"1.29\", \"0.25\", \"3.23\", \"1.58\", \"1.22\", \"1.80\", \"0.24\", \"1.25\", \"1.07\", \"0.08\", \"1.64\", \"-\", \"0.70\", \"0.17\", \"2.58\", \"2.03\", \"1.61\", \"0.63\", \"0.96\", \"1.50\", \"0.07\", \"0.05\", \"0.57\", \"0.70\", \"1.20\", \"1.07\", \"0.73\", \"1.93\", \"0.65\", \"2.93\", \"0.53\", \"0.64\", \"1.08\", \"1.89\", \"1.06\", \"0.56\", \"0.95\", \"2.79\", \"0.46\", \"0.76\", \"0.43\", \"1.71\", \"0.77\", \"0.98\", \"1.25\", \"1.06\", \"1.52\", \"0.48\", \"1.86\", \"0.15\", \"0.80\", \"2.86\", \"0.82\", \"0.31\", \"1.21\", \"0.71\", \"0.46\", \"-\", \"1.19\", \"0.40\", \"2.65\", \"1.22\", \"0.57\", \"1.00\", \"1.34\", \"0.28\", \"0.18\", \"0.79\", \"0.17\", \"1.01\", \"1.36\", \"1.89\", \"2.11\", \"0.26\", \"1.57\", \"3.29\", \"1.59\", \"0.58\", \"-\", \"0.40\", \"0.31\", \"1.19\", \"1.99\", \"0.71\", \"0.85\", \"0.07\", \"1.27\", \"1.02\", \"2.68\", \"0.85\", \"1.21\", \"1.28\", \"1.74\", \"-\", \"-\", \"0.97\", \"0.71\", \"0.92\", \"1.93\", \"0.42\", \"0.57\", \"0.43\", \"0.73\", \"1.15\", \"0.42\", \"1.01\", \"0.73\", \"-\", \"1.04\", \"0.69\", \"1.06\", \"2.65\", \"0.67\", \"0.25\", \"0.46\", \"0.64\", null], \"y\": [\"0.07\", \"0.14\", \"0.17\", \"0.06\", \"-\", \"0.17\", \"-\", \"0.08\", \"-\", \"0.24\", \"-\", \"-\", \"-\", \"-\", \"0.07\", \"0.05\", \"0.38\", \"-\", \"-\", \"0.08\", \"-\", \"-\", \"0.13\", \"0.23\", \"0.11\", \"-\", \"-\", \"0.07\", \"-\", \"0.06\", \"0.54\", \"0.06\", \"0.05\", \"0.10\", \"0.06\", \"-\", \"0.62\", \"-\", \"-\", \"0.10\", \"0.32\", \"-\", \"-\", \"-\", \"0.23\", \"0.32\", \"-\", \"0.16\", \"-\", \"0.06\", \"-\", \"0.14\", \"-\", \"0.28\", \"0.06\", \"0.11\", \"-\", \"-\", \"0.14\", \"-\", \"0.12\", \"-\", \"0.13\", \"0.05\", \"-\", \"0.05\", \"-\", \"-\", \"0.15\", \"-\", \"0.23\", \"0.11\", \"0.33\", \"0.05\", \"-\", \"-\", \"0.06\", \"0.17\", \"-\", \"0.24\", \"-\", \"0.07\", \"0.13\", \"0.24\", \"0.30\", \"-\", \"0.05\", \"0.12\", \"-\", \"0.22\", \"-\", \"0.09\", \"-\", \"0.13\", \"0.23\", \"0.05\", \"0.61\", \"0.15\", \"0.45\", \"-\", \"-\", \"-\", \"-\", \"0.08\", \"0.07\", \"0.05\", \"0.18\", \"0.16\", \"0.19\", \"0.07\", \"-\", \"0.33\", \"-\", \"-\", \"-\", \"0.11\", \"0.09\", \"0.39\", \"-\", \"0.79\", \"0.06\", \"-\", \"-\", \"0.49\", \"0.09\", \"-\", \"0.18\", \"0.24\", \"0.55\", \"0.31\", \"0.06\", \"-\", \"0.06\", \"0.08\", \"0.15\", \"0.22\", \"-\", \"0.07\", \"0.21\", \"-\", \"0.07\", \"0.05\", \"0.22\", \"-\", \"0.37\", \"0.07\", \"0.22\", \"-\", \"-\", \"0.04\", \"0.04\", \"0.20\", \"0.44\", \"-\", \"-\", \"0.16\", \"0.04\", \"0.64\", \"0.18\", \"0.06\", \"0.17\", \"-\", \"-\", \"0.09\", \"-\", \"0.26\", \"-\", \"-\", \"-\", \"0.45\", \"0.13\", \"0.08\", \"-\", \"0.19\", \"0.18\", \"-\", \"-\", \"-\", \"-\", \"0.08\", \"0.12\", \"0.10\", \"0.23\", \"-\", \"0.69\", \"-\", \"0.06\", \"-\", \"-\", \"0.07\", \"0.05\", \"-\", \"0.64\", \"-\", \"0.06\", \"0.14\", \"-\", \"0.08\", \"0.05\", \"0.16\", \"-\", \"0.08\", \"-\", \"0.14\", \"-\", \"0.09\", \"0.42\", \"0.12\", \"0.06\", \"0.08\", \"0.06\", \"0.03\", \"-\", \"0.08\", \"-\", \"0.62\", \"0.17\", \"-\", \"-\", \"0.17\", \"-\", \"0.05\", \"0.07\", \"-\", \"0.16\", \"-\", \"0.18\", \"0.31\", \"0.07\", \"0.17\", \"0.44\", \"0.15\", \"0.13\", \"-\", \"-\", \"0.08\", \"0.07\", \"-\", \"0.19\", \"-\", \"-\", \"0.10\", \"0.08\", \"0.38\", \"-\", \"0.06\", \"-\", \"0.22\", \"-\", \"-\", \"0.41\", \"0.06\", \"0.08\", \"0.07\", \"0.14\", \"0.09\", \"-\", \"0.11\", \"-\", \"0.08\", \"-\", \"0.11\", \"-\", \"0.16\", \"0.06\", \"0.20\", \"0.34\", \"-\", \"-\", \"-\", \"0.13\", \"\"]}],\n",
       "                        {\"legend\": {\"bgcolor\": \"#F5F6F9\", \"font\": {\"color\": \"#4D5663\"}}, \"paper_bgcolor\": \"#F5F6F9\", \"plot_bgcolor\": \"#F5F6F9\", \"template\": {\"data\": {\"bar\": [{\"error_x\": {\"color\": \"#2a3f5f\"}, \"error_y\": {\"color\": \"#2a3f5f\"}, \"marker\": {\"line\": {\"color\": \"#E5ECF6\", \"width\": 0.5}}, \"type\": \"bar\"}], \"barpolar\": [{\"marker\": {\"line\": {\"color\": \"#E5ECF6\", \"width\": 0.5}}, \"type\": \"barpolar\"}], \"carpet\": [{\"aaxis\": {\"endlinecolor\": \"#2a3f5f\", \"gridcolor\": \"white\", \"linecolor\": \"white\", \"minorgridcolor\": \"white\", \"startlinecolor\": \"#2a3f5f\"}, \"baxis\": {\"endlinecolor\": \"#2a3f5f\", \"gridcolor\": \"white\", \"linecolor\": \"white\", \"minorgridcolor\": \"white\", \"startlinecolor\": \"#2a3f5f\"}, \"type\": \"carpet\"}], \"choropleth\": [{\"colorbar\": {\"outlinewidth\": 0, \"ticks\": \"\"}, \"type\": \"choropleth\"}], \"contour\": [{\"colorbar\": {\"outlinewidth\": 0, \"ticks\": \"\"}, \"colorscale\": [[0.0, \"#0d0887\"], [0.1111111111111111, \"#46039f\"], [0.2222222222222222, \"#7201a8\"], [0.3333333333333333, \"#9c179e\"], [0.4444444444444444, \"#bd3786\"], [0.5555555555555556, \"#d8576b\"], [0.6666666666666666, \"#ed7953\"], [0.7777777777777778, \"#fb9f3a\"], [0.8888888888888888, \"#fdca26\"], [1.0, \"#f0f921\"]], \"type\": \"contour\"}], \"contourcarpet\": [{\"colorbar\": {\"outlinewidth\": 0, \"ticks\": \"\"}, \"type\": \"contourcarpet\"}], \"heatmap\": [{\"colorbar\": {\"outlinewidth\": 0, \"ticks\": \"\"}, \"colorscale\": [[0.0, \"#0d0887\"], [0.1111111111111111, \"#46039f\"], [0.2222222222222222, \"#7201a8\"], [0.3333333333333333, \"#9c179e\"], [0.4444444444444444, \"#bd3786\"], [0.5555555555555556, \"#d8576b\"], [0.6666666666666666, \"#ed7953\"], [0.7777777777777778, \"#fb9f3a\"], [0.8888888888888888, \"#fdca26\"], [1.0, \"#f0f921\"]], \"type\": \"heatmap\"}], \"heatmapgl\": [{\"colorbar\": {\"outlinewidth\": 0, \"ticks\": \"\"}, \"colorscale\": [[0.0, \"#0d0887\"], [0.1111111111111111, \"#46039f\"], [0.2222222222222222, \"#7201a8\"], [0.3333333333333333, \"#9c179e\"], [0.4444444444444444, \"#bd3786\"], [0.5555555555555556, \"#d8576b\"], [0.6666666666666666, \"#ed7953\"], [0.7777777777777778, \"#fb9f3a\"], [0.8888888888888888, \"#fdca26\"], [1.0, \"#f0f921\"]], \"type\": \"heatmapgl\"}], \"histogram\": [{\"marker\": {\"colorbar\": {\"outlinewidth\": 0, \"ticks\": \"\"}}, \"type\": \"histogram\"}], \"histogram2d\": [{\"colorbar\": {\"outlinewidth\": 0, \"ticks\": \"\"}, \"colorscale\": [[0.0, \"#0d0887\"], [0.1111111111111111, \"#46039f\"], [0.2222222222222222, \"#7201a8\"], [0.3333333333333333, \"#9c179e\"], [0.4444444444444444, \"#bd3786\"], [0.5555555555555556, \"#d8576b\"], [0.6666666666666666, \"#ed7953\"], [0.7777777777777778, \"#fb9f3a\"], [0.8888888888888888, \"#fdca26\"], [1.0, \"#f0f921\"]], \"type\": \"histogram2d\"}], \"histogram2dcontour\": [{\"colorbar\": {\"outlinewidth\": 0, \"ticks\": \"\"}, \"colorscale\": [[0.0, \"#0d0887\"], [0.1111111111111111, \"#46039f\"], [0.2222222222222222, \"#7201a8\"], [0.3333333333333333, \"#9c179e\"], [0.4444444444444444, \"#bd3786\"], [0.5555555555555556, \"#d8576b\"], [0.6666666666666666, \"#ed7953\"], [0.7777777777777778, \"#fb9f3a\"], [0.8888888888888888, \"#fdca26\"], [1.0, \"#f0f921\"]], \"type\": \"histogram2dcontour\"}], \"mesh3d\": [{\"colorbar\": {\"outlinewidth\": 0, \"ticks\": \"\"}, \"type\": \"mesh3d\"}], \"parcoords\": [{\"line\": {\"colorbar\": {\"outlinewidth\": 0, \"ticks\": \"\"}}, \"type\": \"parcoords\"}], \"pie\": [{\"automargin\": true, \"type\": \"pie\"}], \"scatter\": [{\"marker\": {\"colorbar\": {\"outlinewidth\": 0, \"ticks\": \"\"}}, \"type\": \"scatter\"}], \"scatter3d\": [{\"line\": {\"colorbar\": {\"outlinewidth\": 0, \"ticks\": \"\"}}, \"marker\": {\"colorbar\": {\"outlinewidth\": 0, \"ticks\": \"\"}}, \"type\": \"scatter3d\"}], \"scattercarpet\": [{\"marker\": {\"colorbar\": {\"outlinewidth\": 0, \"ticks\": \"\"}}, \"type\": \"scattercarpet\"}], \"scattergeo\": [{\"marker\": {\"colorbar\": {\"outlinewidth\": 0, \"ticks\": \"\"}}, \"type\": \"scattergeo\"}], \"scattergl\": [{\"marker\": {\"colorbar\": {\"outlinewidth\": 0, \"ticks\": \"\"}}, \"type\": \"scattergl\"}], \"scattermapbox\": [{\"marker\": {\"colorbar\": {\"outlinewidth\": 0, \"ticks\": \"\"}}, \"type\": \"scattermapbox\"}], \"scatterpolar\": [{\"marker\": {\"colorbar\": {\"outlinewidth\": 0, \"ticks\": \"\"}}, \"type\": \"scatterpolar\"}], \"scatterpolargl\": [{\"marker\": {\"colorbar\": {\"outlinewidth\": 0, \"ticks\": \"\"}}, \"type\": \"scatterpolargl\"}], \"scatterternary\": [{\"marker\": {\"colorbar\": {\"outlinewidth\": 0, \"ticks\": \"\"}}, \"type\": \"scatterternary\"}], \"surface\": [{\"colorbar\": {\"outlinewidth\": 0, \"ticks\": \"\"}, \"colorscale\": [[0.0, \"#0d0887\"], [0.1111111111111111, \"#46039f\"], [0.2222222222222222, \"#7201a8\"], [0.3333333333333333, \"#9c179e\"], [0.4444444444444444, \"#bd3786\"], [0.5555555555555556, \"#d8576b\"], [0.6666666666666666, \"#ed7953\"], [0.7777777777777778, \"#fb9f3a\"], [0.8888888888888888, \"#fdca26\"], [1.0, \"#f0f921\"]], \"type\": \"surface\"}], \"table\": [{\"cells\": {\"fill\": {\"color\": \"#EBF0F8\"}, \"line\": {\"color\": \"white\"}}, \"header\": {\"fill\": {\"color\": \"#C8D4E3\"}, \"line\": {\"color\": \"white\"}}, \"type\": \"table\"}]}, \"layout\": {\"annotationdefaults\": {\"arrowcolor\": \"#2a3f5f\", \"arrowhead\": 0, \"arrowwidth\": 1}, \"coloraxis\": {\"colorbar\": {\"outlinewidth\": 0, \"ticks\": \"\"}}, \"colorscale\": {\"diverging\": [[0, \"#8e0152\"], [0.1, \"#c51b7d\"], [0.2, \"#de77ae\"], [0.3, \"#f1b6da\"], [0.4, \"#fde0ef\"], [0.5, \"#f7f7f7\"], [0.6, \"#e6f5d0\"], [0.7, \"#b8e186\"], [0.8, \"#7fbc41\"], [0.9, \"#4d9221\"], [1, \"#276419\"]], \"sequential\": [[0.0, \"#0d0887\"], [0.1111111111111111, \"#46039f\"], [0.2222222222222222, \"#7201a8\"], [0.3333333333333333, \"#9c179e\"], [0.4444444444444444, \"#bd3786\"], [0.5555555555555556, \"#d8576b\"], [0.6666666666666666, \"#ed7953\"], [0.7777777777777778, \"#fb9f3a\"], [0.8888888888888888, \"#fdca26\"], [1.0, \"#f0f921\"]], \"sequentialminus\": [[0.0, \"#0d0887\"], [0.1111111111111111, \"#46039f\"], [0.2222222222222222, \"#7201a8\"], [0.3333333333333333, \"#9c179e\"], [0.4444444444444444, \"#bd3786\"], [0.5555555555555556, \"#d8576b\"], [0.6666666666666666, \"#ed7953\"], [0.7777777777777778, \"#fb9f3a\"], [0.8888888888888888, \"#fdca26\"], [1.0, \"#f0f921\"]]}, \"colorway\": [\"#636efa\", \"#EF553B\", \"#00cc96\", \"#ab63fa\", \"#FFA15A\", \"#19d3f3\", \"#FF6692\", \"#B6E880\", \"#FF97FF\", \"#FECB52\"], \"font\": {\"color\": \"#2a3f5f\"}, \"geo\": {\"bgcolor\": \"white\", \"lakecolor\": \"white\", \"landcolor\": \"#E5ECF6\", \"showlakes\": true, \"showland\": true, \"subunitcolor\": \"white\"}, \"hoverlabel\": {\"align\": \"left\"}, \"hovermode\": \"closest\", \"mapbox\": {\"style\": \"light\"}, \"paper_bgcolor\": \"white\", \"plot_bgcolor\": \"#E5ECF6\", \"polar\": {\"angularaxis\": {\"gridcolor\": \"white\", \"linecolor\": \"white\", \"ticks\": \"\"}, \"bgcolor\": \"#E5ECF6\", \"radialaxis\": {\"gridcolor\": \"white\", \"linecolor\": \"white\", \"ticks\": \"\"}}, \"scene\": {\"xaxis\": {\"backgroundcolor\": \"#E5ECF6\", \"gridcolor\": \"white\", \"gridwidth\": 2, \"linecolor\": \"white\", \"showbackground\": true, \"ticks\": \"\", \"zerolinecolor\": \"white\"}, \"yaxis\": {\"backgroundcolor\": \"#E5ECF6\", \"gridcolor\": \"white\", \"gridwidth\": 2, \"linecolor\": \"white\", \"showbackground\": true, \"ticks\": \"\", \"zerolinecolor\": \"white\"}, \"zaxis\": {\"backgroundcolor\": \"#E5ECF6\", \"gridcolor\": \"white\", \"gridwidth\": 2, \"linecolor\": \"white\", \"showbackground\": true, \"ticks\": \"\", \"zerolinecolor\": \"white\"}}, \"shapedefaults\": {\"line\": {\"color\": \"#2a3f5f\"}}, \"ternary\": {\"aaxis\": {\"gridcolor\": \"white\", \"linecolor\": \"white\", \"ticks\": \"\"}, \"baxis\": {\"gridcolor\": \"white\", \"linecolor\": \"white\", \"ticks\": \"\"}, \"bgcolor\": \"#E5ECF6\", \"caxis\": {\"gridcolor\": \"white\", \"linecolor\": \"white\", \"ticks\": \"\"}}, \"title\": {\"x\": 0.05}, \"xaxis\": {\"automargin\": true, \"gridcolor\": \"white\", \"linecolor\": \"white\", \"ticks\": \"\", \"title\": {\"standoff\": 15}, \"zerolinecolor\": \"white\", \"zerolinewidth\": 2}, \"yaxis\": {\"automargin\": true, \"gridcolor\": \"white\", \"linecolor\": \"white\", \"ticks\": \"\", \"title\": {\"standoff\": 15}, \"zerolinecolor\": \"white\", \"zerolinewidth\": 2}}}, \"title\": {\"font\": {\"color\": \"#4D5663\"}, \"text\": \"False Nine - Support\"}, \"xaxis\": {\"gridcolor\": \"#E1E5ED\", \"showgrid\": true, \"tickfont\": {\"color\": \"#4D5663\"}, \"title\": {\"font\": {\"color\": \"#4D5663\"}, \"text\": \"Shots/90\"}, \"zerolinecolor\": \"#E1E5ED\"}, \"yaxis\": {\"gridcolor\": \"#E1E5ED\", \"showgrid\": true, \"tickfont\": {\"color\": \"#4D5663\"}, \"title\": {\"font\": {\"color\": \"#4D5663\"}, \"text\": \"Goals/90\"}, \"zerolinecolor\": \"#E1E5ED\"}},\n",
       "                        {\"showLink\": true, \"linkText\": \"Export to plot.ly\", \"plotlyServerURL\": \"https://plot.ly\", \"responsive\": true}\n",
       "                    ).then(function(){\n",
       "                            \n",
       "var gd = document.getElementById('54310a2d-de2e-4fb9-8839-cb1bba400776');\n",
       "var x = new MutationObserver(function (mutations, observer) {{\n",
       "        var display = window.getComputedStyle(gd).display;\n",
       "        if (!display || display === 'none') {{\n",
       "            console.log([gd, 'removed!']);\n",
       "            Plotly.purge(gd);\n",
       "            observer.disconnect();\n",
       "        }}\n",
       "}});\n",
       "\n",
       "// Listen for the removal of the full notebook cells\n",
       "var notebookContainer = gd.closest('#notebook-container');\n",
       "if (notebookContainer) {{\n",
       "    x.observe(notebookContainer, {childList: true});\n",
       "}}\n",
       "\n",
       "// Listen for the clearing of the current output cell\n",
       "var outputEl = gd.closest('.output');\n",
       "if (outputEl) {{\n",
       "    x.observe(outputEl, {childList: true});\n",
       "}}\n",
       "\n",
       "                        })\n",
       "                };\n",
       "                });\n",
       "            </script>\n",
       "        </div>"
      ]
     },
     "metadata": {},
     "output_type": "display_data"
    }
   ],
   "source": [
    "df1.iplot(kind='scatter',x='Shot/90',y='Gls/90',\n",
    "           mode='markers',text='Name',size=10,\n",
    "          xTitle='Shots/90',yTitle='Goals/90',title='False Nine - Support')\t"
   ]
  },
  {
   "cell_type": "code",
   "execution_count": null,
   "metadata": {},
   "outputs": [],
   "source": []
  },
  {
   "cell_type": "code",
   "execution_count": null,
   "metadata": {},
   "outputs": [],
   "source": []
  },
  {
   "cell_type": "code",
   "execution_count": null,
   "metadata": {},
   "outputs": [],
   "source": []
  },
  {
   "cell_type": "code",
   "execution_count": null,
   "metadata": {},
   "outputs": [],
   "source": []
  },
  {
   "cell_type": "code",
   "execution_count": null,
   "metadata": {},
   "outputs": [],
   "source": []
  },
  {
   "cell_type": "code",
   "execution_count": null,
   "metadata": {},
   "outputs": [],
   "source": []
  },
  {
   "cell_type": "code",
   "execution_count": null,
   "metadata": {},
   "outputs": [],
   "source": []
  },
  {
   "cell_type": "code",
   "execution_count": null,
   "metadata": {},
   "outputs": [],
   "source": []
  },
  {
   "cell_type": "code",
   "execution_count": null,
   "metadata": {},
   "outputs": [],
   "source": []
  },
  {
   "cell_type": "code",
   "execution_count": null,
   "metadata": {},
   "outputs": [],
   "source": []
  },
  {
   "cell_type": "code",
   "execution_count": null,
   "metadata": {},
   "outputs": [],
   "source": []
  },
  {
   "cell_type": "code",
   "execution_count": null,
   "metadata": {},
   "outputs": [],
   "source": []
  },
  {
   "cell_type": "code",
   "execution_count": null,
   "metadata": {},
   "outputs": [],
   "source": []
  },
  {
   "cell_type": "code",
   "execution_count": null,
   "metadata": {},
   "outputs": [],
   "source": []
  },
  {
   "cell_type": "code",
   "execution_count": null,
   "metadata": {},
   "outputs": [],
   "source": []
  },
  {
   "cell_type": "code",
   "execution_count": null,
   "metadata": {},
   "outputs": [],
   "source": []
  },
  {
   "cell_type": "code",
   "execution_count": null,
   "metadata": {},
   "outputs": [],
   "source": []
  },
  {
   "cell_type": "code",
   "execution_count": null,
   "metadata": {},
   "outputs": [],
   "source": []
  },
  {
   "cell_type": "code",
   "execution_count": null,
   "metadata": {},
   "outputs": [],
   "source": []
  },
  {
   "cell_type": "code",
   "execution_count": null,
   "metadata": {},
   "outputs": [],
   "source": []
  },
  {
   "cell_type": "code",
   "execution_count": null,
   "metadata": {},
   "outputs": [],
   "source": []
  }
 ],
 "metadata": {
  "kernelspec": {
   "display_name": "Python 3",
   "language": "python",
   "name": "python3"
  },
  "language_info": {
   "codemirror_mode": {
    "name": "ipython",
    "version": 3
   },
   "file_extension": ".py",
   "mimetype": "text/x-python",
   "name": "python",
   "nbconvert_exporter": "python",
   "pygments_lexer": "ipython3",
   "version": "3.8.2"
  }
 },
 "nbformat": 4,
 "nbformat_minor": 4
}
