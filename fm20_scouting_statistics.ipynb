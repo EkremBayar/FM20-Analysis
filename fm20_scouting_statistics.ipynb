{
 "cells": [
  {
   "cell_type": "code",
   "execution_count": 8,
   "metadata": {},
   "outputs": [],
   "source": [
    "import numpy as np\n",
    "import pandas as pd\n",
    "import matplotlib.pyplot as plt\n",
    "%matplotlib inline"
   ]
  },
  {
   "cell_type": "code",
   "execution_count": 9,
   "metadata": {},
   "outputs": [
    {
     "data": {
      "text/html": [
       "        <script type=\"text/javascript\">\n",
       "        window.PlotlyConfig = {MathJaxConfig: 'local'};\n",
       "        if (window.MathJax) {MathJax.Hub.Config({SVG: {font: \"STIX-Web\"}});}\n",
       "        if (typeof require !== 'undefined') {\n",
       "        require.undef(\"plotly\");\n",
       "        requirejs.config({\n",
       "            paths: {\n",
       "                'plotly': ['https://cdn.plot.ly/plotly-latest.min']\n",
       "            }\n",
       "        });\n",
       "        require(['plotly'], function(Plotly) {\n",
       "            window._Plotly = Plotly;\n",
       "        });\n",
       "        }\n",
       "        </script>\n",
       "        "
      ]
     },
     "metadata": {},
     "output_type": "display_data"
    },
    {
     "data": {
      "text/html": [
       "        <script type=\"text/javascript\">\n",
       "        window.PlotlyConfig = {MathJaxConfig: 'local'};\n",
       "        if (window.MathJax) {MathJax.Hub.Config({SVG: {font: \"STIX-Web\"}});}\n",
       "        if (typeof require !== 'undefined') {\n",
       "        require.undef(\"plotly\");\n",
       "        requirejs.config({\n",
       "            paths: {\n",
       "                'plotly': ['https://cdn.plot.ly/plotly-latest.min']\n",
       "            }\n",
       "        });\n",
       "        require(['plotly'], function(Plotly) {\n",
       "            window._Plotly = Plotly;\n",
       "        });\n",
       "        }\n",
       "        </script>\n",
       "        "
      ]
     },
     "metadata": {},
     "output_type": "display_data"
    }
   ],
   "source": [
    "#Imports the tools needed to run plotly offline - usually plotly interacts with an online resource.\n",
    "#These imports allow us to host everything from our computer\n",
    "from plotly.offline import download_plotlyjs, init_notebook_mode, plot, iplot\n",
    "import cufflinks as cf\n",
    "#Allows us to plot our interactive charts in our Jupyter Notebook\n",
    "init_notebook_mode(connected=True)\n",
    "cf.go_offline()"
   ]
  },
  {
   "cell_type": "code",
   "execution_count": 10,
   "metadata": {},
   "outputs": [
    {
     "data": {
      "text/html": [
       "<div>\n",
       "<style scoped>\n",
       "    .dataframe tbody tr th:only-of-type {\n",
       "        vertical-align: middle;\n",
       "    }\n",
       "\n",
       "    .dataframe tbody tr th {\n",
       "        vertical-align: top;\n",
       "    }\n",
       "\n",
       "    .dataframe thead th {\n",
       "        text-align: right;\n",
       "    }\n",
       "</style>\n",
       "<table border=\"1\" class=\"dataframe\">\n",
       "  <thead>\n",
       "    <tr style=\"text-align: right;\">\n",
       "      <th></th>\n",
       "      <th>Inf</th>\n",
       "      <th>Name</th>\n",
       "      <th>Age</th>\n",
       "      <th>Best Pos</th>\n",
       "      <th>Personality</th>\n",
       "      <th>Yel</th>\n",
       "      <th>Tgls/90</th>\n",
       "      <th>Tcon</th>\n",
       "      <th>Tgls</th>\n",
       "      <th>Tcon/90</th>\n",
       "      <th>Starts</th>\n",
       "      <th>Red</th>\n",
       "      <th>Pts/Gm</th>\n",
       "      <th>PoM</th>\n",
       "      <th>Pen/R</th>\n",
       "      <th>Pens S</th>\n",
       "      <th>Pens Saved Ratio</th>\n",
       "      <th>Pens Saved</th>\n",
       "      <th>Pens Faced</th>\n",
       "      <th>Pens</th>\n",
       "      <th>Last Gl</th>\n",
       "      <th>Last C</th>\n",
       "      <th>Mins/Gm</th>\n",
       "      <th>Mins</th>\n",
       "      <th>Last 5 Games</th>\n",
       "      <th>Int Conc</th>\n",
       "      <th>Int Av Rat</th>\n",
       "      <th>Int Ast</th>\n",
       "      <th>Int Apps</th>\n",
       "      <th>Gls/90</th>\n",
       "      <th>...</th>\n",
       "      <th>Ps C/90</th>\n",
       "      <th>Ps C</th>\n",
       "      <th>Pas %</th>\n",
       "      <th>Ps A/90</th>\n",
       "      <th>Pas A</th>\n",
       "      <th>Off</th>\n",
       "      <th>Mstks</th>\n",
       "      <th>Gl Mst</th>\n",
       "      <th>K Tck</th>\n",
       "      <th>K Ps/90</th>\n",
       "      <th>K Pas</th>\n",
       "      <th>K Hdrs</th>\n",
       "      <th>Int/90</th>\n",
       "      <th>Itc</th>\n",
       "      <th>Hdr %</th>\n",
       "      <th>Hdrs W/90</th>\n",
       "      <th>Hdrs</th>\n",
       "      <th>DrbPG</th>\n",
       "      <th>Drb</th>\n",
       "      <th>Dist/90</th>\n",
       "      <th>Distance</th>\n",
       "      <th>Cr C</th>\n",
       "      <th>Cr C/A</th>\n",
       "      <th>Cr A</th>\n",
       "      <th>Ch C/90</th>\n",
       "      <th>ChC</th>\n",
       "      <th>Asts/90</th>\n",
       "      <th>Aer A/90</th>\n",
       "      <th>Hdrs A</th>\n",
       "      <th>AT Apps</th>\n",
       "    </tr>\n",
       "  </thead>\n",
       "  <tbody>\n",
       "    <tr>\n",
       "      <th>0</th>\n",
       "      <td>NaN</td>\n",
       "      <td>Oskar Repka</td>\n",
       "      <td>23</td>\n",
       "      <td>-</td>\n",
       "      <td>Balanced</td>\n",
       "      <td>4</td>\n",
       "      <td>1</td>\n",
       "      <td>-</td>\n",
       "      <td>17</td>\n",
       "      <td>2</td>\n",
       "      <td>16</td>\n",
       "      <td></td>\n",
       "      <td>1</td>\n",
       "      <td>0</td>\n",
       "      <td>-</td>\n",
       "      <td></td>\n",
       "      <td>-</td>\n",
       "      <td></td>\n",
       "      <td>110</td>\n",
       "      <td></td>\n",
       "      <td>-</td>\n",
       "      <td>-</td>\n",
       "      <td>71</td>\n",
       "      <td>1133</td>\n",
       "      <td>7</td>\n",
       "      <td>-</td>\n",
       "      <td>-</td>\n",
       "      <td>-</td>\n",
       "      <td>-</td>\n",
       "      <td>-</td>\n",
       "      <td>...</td>\n",
       "      <td>16</td>\n",
       "      <td>205</td>\n",
       "      <td>71%</td>\n",
       "      <td>23</td>\n",
       "      <td>290</td>\n",
       "      <td>2</td>\n",
       "      <td>0</td>\n",
       "      <td></td>\n",
       "      <td>15</td>\n",
       "      <td>-</td>\n",
       "      <td>0</td>\n",
       "      <td>0</td>\n",
       "      <td>3</td>\n",
       "      <td>38</td>\n",
       "      <td>74%</td>\n",
       "      <td>4</td>\n",
       "      <td>46</td>\n",
       "      <td>0.16</td>\n",
       "      <td>2</td>\n",
       "      <td>7.2km</td>\n",
       "      <td>91.0km</td>\n",
       "      <td>0</td>\n",
       "      <td>0%</td>\n",
       "      <td>8</td>\n",
       "      <td>0.56</td>\n",
       "      <td>7</td>\n",
       "      <td>-</td>\n",
       "      <td>5</td>\n",
       "      <td>62</td>\n",
       "      <td>103</td>\n",
       "    </tr>\n",
       "    <tr>\n",
       "      <th>1</th>\n",
       "      <td>Inj</td>\n",
       "      <td>Marcel Mehlem</td>\n",
       "      <td>27</td>\n",
       "      <td>DM, M (C)</td>\n",
       "      <td>Balanced</td>\n",
       "      <td>4</td>\n",
       "      <td>2</td>\n",
       "      <td>-</td>\n",
       "      <td>21</td>\n",
       "      <td>1</td>\n",
       "      <td>14</td>\n",
       "      <td></td>\n",
       "      <td>1</td>\n",
       "      <td>1</td>\n",
       "      <td>-</td>\n",
       "      <td></td>\n",
       "      <td>-</td>\n",
       "      <td></td>\n",
       "      <td>122</td>\n",
       "      <td></td>\n",
       "      <td>0.00</td>\n",
       "      <td>-</td>\n",
       "      <td>90</td>\n",
       "      <td>1260</td>\n",
       "      <td>7</td>\n",
       "      <td>-</td>\n",
       "      <td>-</td>\n",
       "      <td>-</td>\n",
       "      <td>-</td>\n",
       "      <td>0.07</td>\n",
       "      <td>...</td>\n",
       "      <td>26</td>\n",
       "      <td>371</td>\n",
       "      <td>80%</td>\n",
       "      <td>33</td>\n",
       "      <td>462</td>\n",
       "      <td>4</td>\n",
       "      <td>1</td>\n",
       "      <td></td>\n",
       "      <td>7</td>\n",
       "      <td>0.21</td>\n",
       "      <td>3</td>\n",
       "      <td>3</td>\n",
       "      <td>5</td>\n",
       "      <td>71</td>\n",
       "      <td>79%</td>\n",
       "      <td>4</td>\n",
       "      <td>54</td>\n",
       "      <td>0.64</td>\n",
       "      <td>9</td>\n",
       "      <td>7.8km</td>\n",
       "      <td>108.7km</td>\n",
       "      <td>4</td>\n",
       "      <td>22%</td>\n",
       "      <td>18</td>\n",
       "      <td>1.00</td>\n",
       "      <td>14</td>\n",
       "      <td>-</td>\n",
       "      <td>5</td>\n",
       "      <td>68</td>\n",
       "      <td>197</td>\n",
       "    </tr>\n",
       "  </tbody>\n",
       "</table>\n",
       "<p>2 rows × 90 columns</p>\n",
       "</div>"
      ],
      "text/plain": [
       "   Inf           Name  Age   Best Pos Personality  Yel  Tgls/90 Tcon  Tgls  \\\n",
       "0  NaN    Oskar Repka   23          -    Balanced    4        1    -    17   \n",
       "1  Inj  Marcel Mehlem   27  DM, M (C)    Balanced    4        2    -    21   \n",
       "\n",
       "   Tcon/90  Starts  Red  Pts/Gm  PoM Pen/R  Pens S Pens Saved Ratio  \\\n",
       "0        2      16            1    0     -                        -   \n",
       "1        1      14            1    1     -                        -   \n",
       "\n",
       "   Pens Saved  Pens Faced  Pens Last Gl Last C  Mins/Gm  Mins  Last 5 Games  \\\n",
       "0                     110             -      -       71  1133             7   \n",
       "1                     122          0.00      -       90  1260             7   \n",
       "\n",
       "  Int Conc Int Av Rat Int Ast Int Apps Gls/90  ... Ps C/90  Ps C  Pas %  \\\n",
       "0        -          -       -        -      -  ...      16   205    71%   \n",
       "1        -          -       -        -   0.07  ...      26   371    80%   \n",
       "\n",
       "  Ps A/90  Pas A  Off Mstks  Gl Mst  K Tck K Ps/90 K Pas  K Hdrs Int/90  Itc  \\\n",
       "0      23    290    2     0             15       -     0       0      3   38   \n",
       "1      33    462    4     1              7    0.21     3       3      5   71   \n",
       "\n",
       "  Hdr % Hdrs W/90 Hdrs DrbPG  Drb  Dist/90 Distance  Cr C Cr C/A Cr A Ch C/90  \\\n",
       "0   74%         4   46  0.16    2    7.2km   91.0km     0     0%    8    0.56   \n",
       "1   79%         4   54  0.64    9    7.8km  108.7km     4    22%   18    1.00   \n",
       "\n",
       "  ChC  Asts/90 Aer A/90 Hdrs A AT Apps  \n",
       "0   7        -        5     62     103  \n",
       "1  14        -        5     68     197  \n",
       "\n",
       "[2 rows x 90 columns]"
      ]
     },
     "execution_count": 10,
     "metadata": {},
     "output_type": "execute_result"
    }
   ],
   "source": [
    "df = pd.read_html(r\"C:\\Users\\stuar\\OneDrive\\My Documents\\P\\Python\\FM20\\XML\\scouting_statistics.html\",skiprows=0)[0]\n",
    "pd.set_option('display.max_columns',60)\n",
    "pd.set_option('display.max_rows',10)\n",
    "pd.set_option('precision', 0)\n",
    "df.head(2)"
   ]
  },
  {
   "cell_type": "code",
   "execution_count": 11,
   "metadata": {},
   "outputs": [],
   "source": [
    "#df.iplot(kind='scatter',x='Svh',y='Con/90',\n",
    "#           mode='markers',text='Name',size=10,\n",
    "#       \n",
    "#          xTitle='Clean Sheets',yTitle='Goals conceded/90',title='Sweeper Keeper - Support')"
   ]
  },
  {
   "cell_type": "code",
   "execution_count": 12,
   "metadata": {},
   "outputs": [
    {
     "data": {
      "application/vnd.plotly.v1+json": {
       "config": {
        "linkText": "Export to plot.ly",
        "plotlyServerURL": "https://plot.ly",
        "showLink": true
       },
       "data": [
        {
         "line": {
          "color": "rgba(255, 153, 51, 1.0)",
          "dash": "solid",
          "shape": "linear",
          "width": 1.3
         },
         "marker": {
          "size": 10,
          "symbol": "circle"
         },
         "mode": "markers",
         "name": "Cr C/A",
         "text": [
          "Oskar Repka",
          "Marcel Mehlem",
          "Jessie Guera Djou",
          "Andjelo Kacavenda",
          "Michal Ozga",
          "Josip Zeljkovic",
          "Lukasz Duszkiewicz",
          "Bartlomiej Gajda",
          "Aleksa Pejic",
          "Daniel Pospisil",
          "Jakov Basic",
          "Robert Mandrysz",
          "Sasa Tomanovic",
          "Sebastian Duda",
          "Ivan Jovanovic",
          "Duje Medak",
          "Dominik Siwinski",
          "Arkadiusz Kozlowski",
          "Fanol PÃ«rdedaj",
          "Kamil Niewiadomski",
          "Lukasz Mozler",
          "Haris Memic",
          "Kristijan Jakic",
          "Filip Tolic",
          "Jakub Kisiel",
          "Dawid Kisly",
          "Taras Romanchuk",
          "Aleksander Slezak",
          "Tomasz Owczarek",
          "Richie Smallwood",
          "Mateusz Stepien",
          "Josip Bauk",
          "Domagoj Perica",
          "Uros Filipovic",
          "Stefan Velickovic",
          "Filip Sredojevic",
          "Radoslaw Kaminski",
          "Alexander Fuchs",
          "Tomas Huk",
          "Wojciech Kaminski",
          "Kasim Adams",
          "Mateusz Madzia",
          "Sebastian Kopec",
          "Jovan Simic",
          "Antonio Asanovic",
          "Marko Labovic",
          "Hubert Molski",
          "Hrvoje Dzijan",
          "Amos Youga",
          "Mario Erb",
          "Fabio DaprelÃ",
          "Kresimir Jelic",
          "Jakob Johansson",
          "Liam Gordon",
          "Jakub Hric",
          "Damian Koziel",
          "Malcom Edjouma",
          "Piotr Wujec",
          "Donald Molls",
          "Luka Pavkovic",
          "Norbert Radkiewicz",
          "Danilo Wiebe",
          "Kristi Qose",
          "Nikola Puzic",
          "Radoslaw Kursa",
          "Jonas Bager",
          "Jon Flanagan",
          "Vuk Mitosevic",
          "Tom Hateley",
          "Sasa Balic",
          "Mohamed Loua",
          "Dawid Bialek",
          "Ben Thompson",
          "Pawel Kohut",
          "Daniel Haritonov",
          "Andrej Causic",
          "Sebastian Smialek",
          "Luka Miljevic",
          "Andrzej Korytek",
          "Mario Cuic",
          "Lubomir Satka",
          "Vukasin Krstic",
          "Peter Drobnak",
          "Marko Filipovic",
          "Martin Vukorepa",
          "Nicklas Shipnoski",
          "Joey Pelupessy",
          "Antonio Mrkovic",
          "Kamal Bafounta",
          "Adrian Liberacki",
          "Tevin Ihrig",
          "Sandi Lovric",
          "Patrick Wolfgang Kapp",
          "Ivan Roca",
          "Karol Drwecki",
          "Zlatko Ilicic",
          "Luka Cakarun",
          "Tan Jiajie",
          "Domagoj Zigri",
          "Casper Elderman",
          "Samuel Lengle",
          "Luka Cankovic",
          "Kenny Dougall",
          "AurÃ©lien Nguiamba",
          "Fahri Akyol",
          "Andrija Crnadak",
          "Grzegorz Wawrzynski",
          "Julian Rieckmann",
          "Leandro",
          "Milos Brajovic",
          "Nathan Baker",
          "Matthias Rahn",
          "Petar Mitic",
          "Dusan Stevanovic",
          "Jan Janik",
          "Fran Tomek",
          "Tomasz Lewandowski",
          "Mateusz Dlugolecki",
          "Pawel Baranowski",
          "David Jablonsky",
          "Adam Mesjasz",
          "Oliver Praznovsky",
          "Florian Egerer",
          "Maxim Kventser",
          "Nikola Bjelanovic",
          "Bojan Cigulajkic",
          "Philip Heise",
          "Thomas Haas",
          "Milan Janjic",
          "Max Dombrowka",
          "Ervin Kacar",
          "Ãscar Gil",
          "Maxime Le Marchand",
          "Jan LÃ¶hmannsrÃ¶ben",
          "Andrzej Kloda",
          "Adrian Polanski",
          "RamÃ³n",
          "Jan Sieracki",
          "Dusan Jokovic",
          "Daniel Dziwniel",
          "Patryk Wilk",
          "Sebastian Zalepa",
          "Jan Sterba",
          "Stefan Draskovic",
          "Damian Garbacik",
          "Bartosz Kopacz",
          "Szymon Kobeszko",
          "Massadio HaÃ¯dara",
          "Manuel Martic",
          "Filip Bainovic",
          "Adrian Niewiadomski",
          "Marcin Mackowiak",
          "Pierre Fassnacht",
          "Michael Heinloth",
          "Nenad Kocovic",
          "Miladin Stevanovic",
          "Jakub Pruzanin",
          "Bartlomiej Mruk",
          "Herbert Paul",
          "Donatas Nakrosius",
          "Ivan Zgrablic",
          "Robin Urban",
          "Kacper Gorski",
          "Adrian Filipiak",
          "Adrian Purzycki",
          "Kostas Triantafyllopoulos",
          "Aleksandar Bjelica",
          "Tomas Petrasek",
          "Miquel Nelom",
          "Koen Weuts",
          "Aleksandar Petrovic",
          "Marcin Dabrowski",
          "Niko Datkovic",
          "Michal Zieba",
          "Rafal Ostrowski",
          "Ivan Tomac",
          "David Urban",
          "Andrej Startsev",
          "Nemanja Vidic",
          "Petar Botica",
          "Bojan Gocanin",
          "Fabian Holthaus",
          "Tim HÃ¤uÃler",
          "Mikkel Kirkeskov",
          "Ovidiu Popescu",
          "Iliya Gruev",
          "Filip Jovic",
          "Douglas Bergqvist",
          "Marcin Sudy",
          "Mart Ristl",
          "Lovro Sindik",
          "Mladen Micanovic",
          "Blazej Cyfert",
          "Luca Zander",
          "Igor Sapala",
          "Jan Sobocinski",
          "Artur Gac",
          "Kacper Jozefiak",
          "Zvezdan Djordjilovic",
          "David Bumberger",
          "Ivan Bosnjak",
          "Michal Wrzesniewski",
          "Aleksandar Ignjovski",
          "Turgay Gemicibasi",
          "Nenad Kiso",
          "Lukasz Sztylka",
          "Noboru Shimura",
          "Derrick Williams",
          "Dino Stiglec",
          "Kyriakos Savvidis",
          "Niklas Landgraf",
          "Tomasz Wojcinowicz",
          "Mateusz Pienczak",
          "Jaroslaw Kubicki",
          "Patrick Kammerbauer",
          "Luis GÃ¶rlich",
          "Chris Wolf",
          "Josip Sutalo",
          "Jakub Zima",
          "Ernest Dzieciol",
          "Norbert Myszka",
          "Robin FluÃ",
          "Nemanja Milovanovic",
          "Syam Ben Youssef",
          "Adrian Rybak",
          "Rafal Remisz",
          "Bartlomiej Kasprzak",
          "Miroslav Bogosavac",
          "Dragoljub Srnic",
          "Kaan Kurt",
          "Ivan Runje",
          "Sonny Bradley",
          "Adam Pazio",
          "Ariel Borysiuk",
          "Krystian Stolarczyk",
          "Damian Kostkowski",
          "Dominik Nothnagel",
          "Michel StÃ¶cker",
          "Ryan Malone",
          "Milan Makaric",
          "Matej Hybs",
          "Sven Botman",
          "Piotr Bartloszewski",
          "Mariusz Holik",
          "Mateo Jaksic",
          "Ashton GÃ¶tz",
          "Marcos RodrÃ­guez",
          "Jakub Swiecinski",
          "Marius GrÃ¶sch",
          "Aleksa Jovanovic",
          "Aleksandar Varjacic",
          "Mirko Djermanovic",
          "Igor Biedrzycki",
          "Lukas Duriska",
          "Julien Tadrowski",
          "Jakub Niewiadomski",
          "Philipp Riese",
          "Bartlomiej Lorenc",
          "Julian Wolff",
          "Adrian Bielawski",
          "Filip Zderic",
          "Eric Weeger",
          "Bartosz Kieliba",
          "Filp Ceko",
          "Ariel Mosor",
          "Srdjan Grabez",
          "Bozidar Petrovic",
          "Benjamin Himmel",
          "Marco Komenda",
          "Wiktor Nahrebecki",
          "Niclas Stierlin",
          null
         ],
         "type": "scatter",
         "x": [
          "-",
          "0.21",
          "0.34",
          "0.27",
          "0.29",
          "0.50",
          "0.85",
          "0.40",
          "0.36",
          "0.57",
          "0.42",
          "0.48",
          "0.54",
          "0.59",
          "0.36",
          "0.56",
          "0.74",
          "0.16",
          "0.11",
          "0.28",
          "0.37",
          "0.72",
          "0.46",
          "0.39",
          "0.65",
          "0.23",
          "0.88",
          "0.33",
          "0.12",
          "0.24",
          "0.17",
          "0.24",
          "0.37",
          "1.32",
          "0.23",
          "0.26",
          "0.23",
          "0.26",
          "0.47",
          "0.27",
          "0.22",
          "0.05",
          "0.28",
          "-",
          "0.34",
          "0.75",
          "0.43",
          "0.47",
          "0.35",
          "0.25",
          "0.31",
          "-",
          "0.56",
          "0.13",
          "0.13",
          "0.42",
          "0.09",
          "0.06",
          "0.84",
          "0.16",
          "0.12",
          "0.43",
          "0.16",
          "1.04",
          "0.37",
          "0.15",
          "0.33",
          "0.51",
          "0.28",
          "0.27",
          "-",
          "0.39",
          "0.60",
          "0.70",
          "0.32",
          "-",
          "0.41",
          "0.10",
          "0.20",
          "0.25",
          "0.13",
          "0.22",
          "0.07",
          "0.47",
          "0.07",
          "0.55",
          "0.15",
          "0.22",
          "0.29",
          "0.16",
          "0.18",
          "0.64",
          "0.64",
          "0.38",
          "0.38",
          "0.18",
          "0.22",
          "0.08",
          "0.36",
          "-",
          "0.51",
          "0.12",
          "0.39",
          "0.24",
          "0.28",
          "1.35",
          "0.06",
          "0.21",
          "0.13",
          "0.09",
          "-",
          "0.14",
          "0.64",
          "0.20",
          "0.09",
          "0.75",
          "0.16",
          "0.32",
          "0.08",
          "0.14",
          "0.12",
          "0.07",
          "0.30",
          "0.35",
          "0.39",
          "0.06",
          "0.52",
          "0.25",
          "0.55",
          "0.49",
          "0.12",
          "0.08",
          "0.16",
          "0.09",
          "0.19",
          "0.35",
          "0.59",
          "0.64",
          "0.26",
          "0.44",
          "0.21",
          "0.33",
          "0.07",
          "0.45",
          "0.05",
          "-",
          "0.18",
          "0.24",
          "0.13",
          "0.43",
          "0.32",
          "0.24",
          "0.19",
          "0.45",
          "0.29",
          "0.32",
          "0.29",
          "0.22",
          "-",
          "0.40",
          "0.27",
          "0.34",
          "0.47",
          "0.49",
          "0.27",
          "0.06",
          "0.09",
          "0.16",
          "0.27",
          "0.08",
          "-",
          "0.27",
          "0.11",
          "0.38",
          "0.38",
          "0.42",
          "0.10",
          "0.31",
          "0.35",
          "0.29",
          "0.59",
          "0.20",
          "0.18",
          "0.37",
          "0.19",
          "0.18",
          "0.51",
          "0.22",
          "0.44",
          "0.60",
          "0.14",
          "0.80",
          "0.26",
          "1.16",
          "0.07",
          "0.29",
          "0.45",
          "0.08",
          "0.52",
          "0.23",
          "0.13",
          "-",
          "0.60",
          "0.24",
          "0.48",
          "0.26",
          "-",
          "0.07",
          "0.62",
          "0.50",
          "0.28",
          "0.21",
          "-",
          "0.55",
          "0.77",
          "0.30",
          "0.63",
          "0.15",
          "-",
          "0.16",
          "0.45",
          "0.17",
          "0.37",
          "0.13",
          "0.12",
          "0.17",
          "0.38",
          "0.19",
          "0.46",
          "0.13",
          "0.27",
          "0.18",
          "0.11",
          "0.47",
          "0.26",
          "0.38",
          "0.14",
          "0.33",
          "0.20",
          "0.56",
          "0.38",
          "0.06",
          "0.24",
          "0.07",
          "0.14",
          "0.05",
          "0.24",
          "0.12",
          "0.22",
          "0.16",
          "0.40",
          "0.43",
          "0.28",
          "0.06",
          "-",
          "0.28",
          "0.41",
          "0.53",
          "0.14",
          "0.32",
          "0.13",
          "0.19",
          "0.19",
          "0.17",
          "0.15",
          "0.14",
          "0.22",
          "0.43",
          "0.18",
          "0.85",
          "0.43",
          null
         ],
         "y": [
          "0%",
          "22%",
          "13%",
          "33%",
          "0%",
          "28%",
          "34%",
          "0%",
          "0%",
          "0%",
          "33%",
          "37%",
          "36%",
          "19%",
          "23%",
          "5%",
          "34%",
          "0%",
          "36%",
          "0%",
          "25%",
          "35%",
          "28%",
          "32%",
          "26%",
          "5%",
          "26%",
          "0%",
          "0%",
          "19%",
          "0%",
          "0%",
          "30%",
          "35%",
          "40%",
          "0%",
          "5%",
          "25%",
          "28%",
          "22%",
          "0%",
          "0%",
          "0%",
          "0%",
          "0%",
          "12%",
          "0%",
          "0%",
          "0%",
          "0%",
          "0%",
          "0%",
          "28%",
          "0%",
          "0%",
          "15%",
          "0%",
          "0%",
          "16%",
          "0%",
          "0%",
          "0%",
          "0%",
          "36%",
          "0%",
          "6%",
          "35%",
          "40%",
          "32%",
          "8%",
          "22%",
          "29%",
          "0%",
          "14%",
          "30%",
          "0%",
          "5%",
          "0%",
          "0%",
          "11%",
          "0%",
          "0%",
          "19%",
          "7%",
          "0%",
          "18%",
          "21%",
          "32%",
          "0%",
          "33%",
          "0%",
          "25%",
          "11%",
          "5%",
          "36%",
          "33%",
          "0%",
          "6%",
          "33%",
          "0%",
          "30%",
          "0%",
          "40%",
          "0%",
          "4%",
          "36%",
          "29%",
          "0%",
          "26%",
          "30%",
          "0%",
          "0%",
          "39%",
          "0%",
          "0%",
          "19%",
          "0%",
          "9%",
          "0%",
          "0%",
          "19%",
          "0%",
          "28%",
          "18%",
          "34%",
          "27%",
          "26%",
          "41%",
          "25%",
          "32%",
          "26%",
          "6%",
          "0%",
          "21%",
          "26%",
          "32%",
          "0%",
          "25%",
          "0%",
          "37%",
          "0%",
          "0%",
          "0%",
          "33%",
          "19%",
          "25%",
          "33%",
          "31%",
          "37%",
          "36%",
          "5%",
          "0%",
          "26%",
          "34%",
          "26%",
          "26%",
          "0%",
          "5%",
          "8%",
          "0%",
          "0%",
          "0%",
          "0%",
          "40%",
          "29%",
          "0%",
          "0%",
          "0%",
          "39%",
          "0%",
          "0%",
          "26%",
          "0%",
          "29%",
          "9%",
          "0%",
          "0%",
          "36%",
          "0%",
          "0%",
          "28%",
          "33%",
          "39%",
          "33%",
          "36%",
          "4%",
          "26%",
          "0%",
          "28%",
          "38%",
          "24%",
          "35%",
          "0%",
          "30%",
          "5%",
          "0%",
          "41%",
          "0%",
          "28%",
          "0%",
          "0%",
          "0%",
          "33%",
          "29%",
          "11%",
          "32%",
          "16%",
          "6%",
          "34%",
          "33%",
          "32%",
          "0%",
          "0%",
          "35%",
          "25%",
          "36%",
          "37%",
          "0%",
          "8%",
          "5%",
          "0%",
          "24%",
          "14%",
          "0%",
          "0%",
          "0%",
          "36%",
          "36%",
          "36%",
          "40%",
          "27%",
          "0%",
          "41%",
          "40%",
          "0%",
          "0%",
          "0%",
          "0%",
          "12%",
          "32%",
          "33%",
          "0%",
          "16%",
          "0%",
          "24%",
          "34%",
          "34%",
          "31%",
          "0%",
          "0%",
          "35%",
          "34%",
          "0%",
          "0%",
          "0%",
          "35%",
          "0%",
          "32%",
          "0%",
          "32%",
          "31%",
          "37%",
          "0%",
          "34%",
          "6%",
          "32%",
          "38%",
          "39%",
          "10%",
          "36%",
          "26%",
          ""
         ]
        }
       ],
       "layout": {
        "legend": {
         "bgcolor": "#F5F6F9",
         "font": {
          "color": "#4D5663"
         }
        },
        "paper_bgcolor": "#F5F6F9",
        "plot_bgcolor": "#F5F6F9",
        "template": {
         "data": {
          "bar": [
           {
            "error_x": {
             "color": "#2a3f5f"
            },
            "error_y": {
             "color": "#2a3f5f"
            },
            "marker": {
             "line": {
              "color": "#E5ECF6",
              "width": 0.5
             }
            },
            "type": "bar"
           }
          ],
          "barpolar": [
           {
            "marker": {
             "line": {
              "color": "#E5ECF6",
              "width": 0.5
             }
            },
            "type": "barpolar"
           }
          ],
          "carpet": [
           {
            "aaxis": {
             "endlinecolor": "#2a3f5f",
             "gridcolor": "white",
             "linecolor": "white",
             "minorgridcolor": "white",
             "startlinecolor": "#2a3f5f"
            },
            "baxis": {
             "endlinecolor": "#2a3f5f",
             "gridcolor": "white",
             "linecolor": "white",
             "minorgridcolor": "white",
             "startlinecolor": "#2a3f5f"
            },
            "type": "carpet"
           }
          ],
          "choropleth": [
           {
            "colorbar": {
             "outlinewidth": 0,
             "ticks": ""
            },
            "type": "choropleth"
           }
          ],
          "contour": [
           {
            "colorbar": {
             "outlinewidth": 0,
             "ticks": ""
            },
            "colorscale": [
             [
              0,
              "#0d0887"
             ],
             [
              0.1111111111111111,
              "#46039f"
             ],
             [
              0.2222222222222222,
              "#7201a8"
             ],
             [
              0.3333333333333333,
              "#9c179e"
             ],
             [
              0.4444444444444444,
              "#bd3786"
             ],
             [
              0.5555555555555556,
              "#d8576b"
             ],
             [
              0.6666666666666666,
              "#ed7953"
             ],
             [
              0.7777777777777778,
              "#fb9f3a"
             ],
             [
              0.8888888888888888,
              "#fdca26"
             ],
             [
              1,
              "#f0f921"
             ]
            ],
            "type": "contour"
           }
          ],
          "contourcarpet": [
           {
            "colorbar": {
             "outlinewidth": 0,
             "ticks": ""
            },
            "type": "contourcarpet"
           }
          ],
          "heatmap": [
           {
            "colorbar": {
             "outlinewidth": 0,
             "ticks": ""
            },
            "colorscale": [
             [
              0,
              "#0d0887"
             ],
             [
              0.1111111111111111,
              "#46039f"
             ],
             [
              0.2222222222222222,
              "#7201a8"
             ],
             [
              0.3333333333333333,
              "#9c179e"
             ],
             [
              0.4444444444444444,
              "#bd3786"
             ],
             [
              0.5555555555555556,
              "#d8576b"
             ],
             [
              0.6666666666666666,
              "#ed7953"
             ],
             [
              0.7777777777777778,
              "#fb9f3a"
             ],
             [
              0.8888888888888888,
              "#fdca26"
             ],
             [
              1,
              "#f0f921"
             ]
            ],
            "type": "heatmap"
           }
          ],
          "heatmapgl": [
           {
            "colorbar": {
             "outlinewidth": 0,
             "ticks": ""
            },
            "colorscale": [
             [
              0,
              "#0d0887"
             ],
             [
              0.1111111111111111,
              "#46039f"
             ],
             [
              0.2222222222222222,
              "#7201a8"
             ],
             [
              0.3333333333333333,
              "#9c179e"
             ],
             [
              0.4444444444444444,
              "#bd3786"
             ],
             [
              0.5555555555555556,
              "#d8576b"
             ],
             [
              0.6666666666666666,
              "#ed7953"
             ],
             [
              0.7777777777777778,
              "#fb9f3a"
             ],
             [
              0.8888888888888888,
              "#fdca26"
             ],
             [
              1,
              "#f0f921"
             ]
            ],
            "type": "heatmapgl"
           }
          ],
          "histogram": [
           {
            "marker": {
             "colorbar": {
              "outlinewidth": 0,
              "ticks": ""
             }
            },
            "type": "histogram"
           }
          ],
          "histogram2d": [
           {
            "colorbar": {
             "outlinewidth": 0,
             "ticks": ""
            },
            "colorscale": [
             [
              0,
              "#0d0887"
             ],
             [
              0.1111111111111111,
              "#46039f"
             ],
             [
              0.2222222222222222,
              "#7201a8"
             ],
             [
              0.3333333333333333,
              "#9c179e"
             ],
             [
              0.4444444444444444,
              "#bd3786"
             ],
             [
              0.5555555555555556,
              "#d8576b"
             ],
             [
              0.6666666666666666,
              "#ed7953"
             ],
             [
              0.7777777777777778,
              "#fb9f3a"
             ],
             [
              0.8888888888888888,
              "#fdca26"
             ],
             [
              1,
              "#f0f921"
             ]
            ],
            "type": "histogram2d"
           }
          ],
          "histogram2dcontour": [
           {
            "colorbar": {
             "outlinewidth": 0,
             "ticks": ""
            },
            "colorscale": [
             [
              0,
              "#0d0887"
             ],
             [
              0.1111111111111111,
              "#46039f"
             ],
             [
              0.2222222222222222,
              "#7201a8"
             ],
             [
              0.3333333333333333,
              "#9c179e"
             ],
             [
              0.4444444444444444,
              "#bd3786"
             ],
             [
              0.5555555555555556,
              "#d8576b"
             ],
             [
              0.6666666666666666,
              "#ed7953"
             ],
             [
              0.7777777777777778,
              "#fb9f3a"
             ],
             [
              0.8888888888888888,
              "#fdca26"
             ],
             [
              1,
              "#f0f921"
             ]
            ],
            "type": "histogram2dcontour"
           }
          ],
          "mesh3d": [
           {
            "colorbar": {
             "outlinewidth": 0,
             "ticks": ""
            },
            "type": "mesh3d"
           }
          ],
          "parcoords": [
           {
            "line": {
             "colorbar": {
              "outlinewidth": 0,
              "ticks": ""
             }
            },
            "type": "parcoords"
           }
          ],
          "pie": [
           {
            "automargin": true,
            "type": "pie"
           }
          ],
          "scatter": [
           {
            "marker": {
             "colorbar": {
              "outlinewidth": 0,
              "ticks": ""
             }
            },
            "type": "scatter"
           }
          ],
          "scatter3d": [
           {
            "line": {
             "colorbar": {
              "outlinewidth": 0,
              "ticks": ""
             }
            },
            "marker": {
             "colorbar": {
              "outlinewidth": 0,
              "ticks": ""
             }
            },
            "type": "scatter3d"
           }
          ],
          "scattercarpet": [
           {
            "marker": {
             "colorbar": {
              "outlinewidth": 0,
              "ticks": ""
             }
            },
            "type": "scattercarpet"
           }
          ],
          "scattergeo": [
           {
            "marker": {
             "colorbar": {
              "outlinewidth": 0,
              "ticks": ""
             }
            },
            "type": "scattergeo"
           }
          ],
          "scattergl": [
           {
            "marker": {
             "colorbar": {
              "outlinewidth": 0,
              "ticks": ""
             }
            },
            "type": "scattergl"
           }
          ],
          "scattermapbox": [
           {
            "marker": {
             "colorbar": {
              "outlinewidth": 0,
              "ticks": ""
             }
            },
            "type": "scattermapbox"
           }
          ],
          "scatterpolar": [
           {
            "marker": {
             "colorbar": {
              "outlinewidth": 0,
              "ticks": ""
             }
            },
            "type": "scatterpolar"
           }
          ],
          "scatterpolargl": [
           {
            "marker": {
             "colorbar": {
              "outlinewidth": 0,
              "ticks": ""
             }
            },
            "type": "scatterpolargl"
           }
          ],
          "scatterternary": [
           {
            "marker": {
             "colorbar": {
              "outlinewidth": 0,
              "ticks": ""
             }
            },
            "type": "scatterternary"
           }
          ],
          "surface": [
           {
            "colorbar": {
             "outlinewidth": 0,
             "ticks": ""
            },
            "colorscale": [
             [
              0,
              "#0d0887"
             ],
             [
              0.1111111111111111,
              "#46039f"
             ],
             [
              0.2222222222222222,
              "#7201a8"
             ],
             [
              0.3333333333333333,
              "#9c179e"
             ],
             [
              0.4444444444444444,
              "#bd3786"
             ],
             [
              0.5555555555555556,
              "#d8576b"
             ],
             [
              0.6666666666666666,
              "#ed7953"
             ],
             [
              0.7777777777777778,
              "#fb9f3a"
             ],
             [
              0.8888888888888888,
              "#fdca26"
             ],
             [
              1,
              "#f0f921"
             ]
            ],
            "type": "surface"
           }
          ],
          "table": [
           {
            "cells": {
             "fill": {
              "color": "#EBF0F8"
             },
             "line": {
              "color": "white"
             }
            },
            "header": {
             "fill": {
              "color": "#C8D4E3"
             },
             "line": {
              "color": "white"
             }
            },
            "type": "table"
           }
          ]
         },
         "layout": {
          "annotationdefaults": {
           "arrowcolor": "#2a3f5f",
           "arrowhead": 0,
           "arrowwidth": 1
          },
          "coloraxis": {
           "colorbar": {
            "outlinewidth": 0,
            "ticks": ""
           }
          },
          "colorscale": {
           "diverging": [
            [
             0,
             "#8e0152"
            ],
            [
             0.1,
             "#c51b7d"
            ],
            [
             0.2,
             "#de77ae"
            ],
            [
             0.3,
             "#f1b6da"
            ],
            [
             0.4,
             "#fde0ef"
            ],
            [
             0.5,
             "#f7f7f7"
            ],
            [
             0.6,
             "#e6f5d0"
            ],
            [
             0.7,
             "#b8e186"
            ],
            [
             0.8,
             "#7fbc41"
            ],
            [
             0.9,
             "#4d9221"
            ],
            [
             1,
             "#276419"
            ]
           ],
           "sequential": [
            [
             0,
             "#0d0887"
            ],
            [
             0.1111111111111111,
             "#46039f"
            ],
            [
             0.2222222222222222,
             "#7201a8"
            ],
            [
             0.3333333333333333,
             "#9c179e"
            ],
            [
             0.4444444444444444,
             "#bd3786"
            ],
            [
             0.5555555555555556,
             "#d8576b"
            ],
            [
             0.6666666666666666,
             "#ed7953"
            ],
            [
             0.7777777777777778,
             "#fb9f3a"
            ],
            [
             0.8888888888888888,
             "#fdca26"
            ],
            [
             1,
             "#f0f921"
            ]
           ],
           "sequentialminus": [
            [
             0,
             "#0d0887"
            ],
            [
             0.1111111111111111,
             "#46039f"
            ],
            [
             0.2222222222222222,
             "#7201a8"
            ],
            [
             0.3333333333333333,
             "#9c179e"
            ],
            [
             0.4444444444444444,
             "#bd3786"
            ],
            [
             0.5555555555555556,
             "#d8576b"
            ],
            [
             0.6666666666666666,
             "#ed7953"
            ],
            [
             0.7777777777777778,
             "#fb9f3a"
            ],
            [
             0.8888888888888888,
             "#fdca26"
            ],
            [
             1,
             "#f0f921"
            ]
           ]
          },
          "colorway": [
           "#636efa",
           "#EF553B",
           "#00cc96",
           "#ab63fa",
           "#FFA15A",
           "#19d3f3",
           "#FF6692",
           "#B6E880",
           "#FF97FF",
           "#FECB52"
          ],
          "font": {
           "color": "#2a3f5f"
          },
          "geo": {
           "bgcolor": "white",
           "lakecolor": "white",
           "landcolor": "#E5ECF6",
           "showlakes": true,
           "showland": true,
           "subunitcolor": "white"
          },
          "hoverlabel": {
           "align": "left"
          },
          "hovermode": "closest",
          "mapbox": {
           "style": "light"
          },
          "paper_bgcolor": "white",
          "plot_bgcolor": "#E5ECF6",
          "polar": {
           "angularaxis": {
            "gridcolor": "white",
            "linecolor": "white",
            "ticks": ""
           },
           "bgcolor": "#E5ECF6",
           "radialaxis": {
            "gridcolor": "white",
            "linecolor": "white",
            "ticks": ""
           }
          },
          "scene": {
           "xaxis": {
            "backgroundcolor": "#E5ECF6",
            "gridcolor": "white",
            "gridwidth": 2,
            "linecolor": "white",
            "showbackground": true,
            "ticks": "",
            "zerolinecolor": "white"
           },
           "yaxis": {
            "backgroundcolor": "#E5ECF6",
            "gridcolor": "white",
            "gridwidth": 2,
            "linecolor": "white",
            "showbackground": true,
            "ticks": "",
            "zerolinecolor": "white"
           },
           "zaxis": {
            "backgroundcolor": "#E5ECF6",
            "gridcolor": "white",
            "gridwidth": 2,
            "linecolor": "white",
            "showbackground": true,
            "ticks": "",
            "zerolinecolor": "white"
           }
          },
          "shapedefaults": {
           "line": {
            "color": "#2a3f5f"
           }
          },
          "ternary": {
           "aaxis": {
            "gridcolor": "white",
            "linecolor": "white",
            "ticks": ""
           },
           "baxis": {
            "gridcolor": "white",
            "linecolor": "white",
            "ticks": ""
           },
           "bgcolor": "#E5ECF6",
           "caxis": {
            "gridcolor": "white",
            "linecolor": "white",
            "ticks": ""
           }
          },
          "title": {
           "x": 0.05
          },
          "xaxis": {
           "automargin": true,
           "gridcolor": "white",
           "linecolor": "white",
           "ticks": "",
           "title": {
            "standoff": 15
           },
           "zerolinecolor": "white",
           "zerolinewidth": 2
          },
          "yaxis": {
           "automargin": true,
           "gridcolor": "white",
           "linecolor": "white",
           "ticks": "",
           "title": {
            "standoff": 15
           },
           "zerolinecolor": "white",
           "zerolinewidth": 2
          }
         }
        },
        "title": {
         "font": {
          "color": "#4D5663"
         },
         "text": "Complete Wing Back - Support"
        },
        "xaxis": {
         "gridcolor": "#E1E5ED",
         "showgrid": true,
         "tickfont": {
          "color": "#4D5663"
         },
         "title": {
          "font": {
           "color": "#4D5663"
          },
          "text": "Key Passes/90"
         },
         "zerolinecolor": "#E1E5ED"
        },
        "yaxis": {
         "gridcolor": "#E1E5ED",
         "showgrid": true,
         "tickfont": {
          "color": "#4D5663"
         },
         "title": {
          "font": {
           "color": "#4D5663"
          },
          "text": "Cross Completion %"
         },
         "zerolinecolor": "#E1E5ED"
        }
       }
      },
      "text/html": [
       "<div>\n",
       "        \n",
       "        \n",
       "            <div id=\"1f08f688-0c1a-45c7-b2c4-2388f4b5dd98\" class=\"plotly-graph-div\" style=\"height:525px; width:100%;\"></div>\n",
       "            <script type=\"text/javascript\">\n",
       "                require([\"plotly\"], function(Plotly) {\n",
       "                    window.PLOTLYENV=window.PLOTLYENV || {};\n",
       "                    window.PLOTLYENV.BASE_URL='https://plot.ly';\n",
       "                    \n",
       "                if (document.getElementById(\"1f08f688-0c1a-45c7-b2c4-2388f4b5dd98\")) {\n",
       "                    Plotly.newPlot(\n",
       "                        '1f08f688-0c1a-45c7-b2c4-2388f4b5dd98',\n",
       "                        [{\"line\": {\"color\": \"rgba(255, 153, 51, 1.0)\", \"dash\": \"solid\", \"shape\": \"linear\", \"width\": 1.3}, \"marker\": {\"size\": 10, \"symbol\": \"circle\"}, \"mode\": \"markers\", \"name\": \"Cr C/A\", \"text\": [\"Oskar Repka\", \"Marcel Mehlem\", \"Jessie Guera Djou\", \"Andjelo Kacavenda\", \"Michal Ozga\", \"Josip Zeljkovic\", \"Lukasz Duszkiewicz\", \"Bartlomiej Gajda\", \"Aleksa Pejic\", \"Daniel Pospisil\", \"Jakov Basic\", \"Robert Mandrysz\", \"Sasa Tomanovic\", \"Sebastian Duda\", \"Ivan Jovanovic\", \"Duje Medak\", \"Dominik Siwinski\", \"Arkadiusz Kozlowski\", \"Fanol P\\u00c3\\u00abrdedaj\", \"Kamil Niewiadomski\", \"Lukasz Mozler\", \"Haris Memic\", \"Kristijan Jakic\", \"Filip Tolic\", \"Jakub Kisiel\", \"Dawid Kisly\", \"Taras Romanchuk\", \"Aleksander Slezak\", \"Tomasz Owczarek\", \"Richie Smallwood\", \"Mateusz Stepien\", \"Josip Bauk\", \"Domagoj Perica\", \"Uros Filipovic\", \"Stefan Velickovic\", \"Filip Sredojevic\", \"Radoslaw Kaminski\", \"Alexander Fuchs\", \"Tomas Huk\", \"Wojciech Kaminski\", \"Kasim Adams\", \"Mateusz Madzia\", \"Sebastian Kopec\", \"Jovan Simic\", \"Antonio Asanovic\", \"Marko Labovic\", \"Hubert Molski\", \"Hrvoje Dzijan\", \"Amos Youga\", \"Mario Erb\", \"Fabio Daprel\\u00c3\", \"Kresimir Jelic\", \"Jakob Johansson\", \"Liam Gordon\", \"Jakub Hric\", \"Damian Koziel\", \"Malcom Edjouma\", \"Piotr Wujec\", \"Donald Molls\", \"Luka Pavkovic\", \"Norbert Radkiewicz\", \"Danilo Wiebe\", \"Kristi Qose\", \"Nikola Puzic\", \"Radoslaw Kursa\", \"Jonas Bager\", \"Jon Flanagan\", \"Vuk Mitosevic\", \"Tom Hateley\", \"Sasa Balic\", \"Mohamed Loua\", \"Dawid Bialek\", \"Ben Thompson\", \"Pawel Kohut\", \"Daniel Haritonov\", \"Andrej Causic\", \"Sebastian Smialek\", \"Luka Miljevic\", \"Andrzej Korytek\", \"Mario Cuic\", \"Lubomir Satka\", \"Vukasin Krstic\", \"Peter Drobnak\", \"Marko Filipovic\", \"Martin Vukorepa\", \"Nicklas Shipnoski\", \"Joey Pelupessy\", \"Antonio Mrkovic\", \"Kamal Bafounta\", \"Adrian Liberacki\", \"Tevin Ihrig\", \"Sandi Lovric\", \"Patrick Wolfgang Kapp\", \"Ivan Roca\", \"Karol Drwecki\", \"Zlatko Ilicic\", \"Luka Cakarun\", \"Tan Jiajie\", \"Domagoj Zigri\", \"Casper Elderman\", \"Samuel Lengle\", \"Luka Cankovic\", \"Kenny Dougall\", \"Aur\\u00c3\\u00a9lien Nguiamba\", \"Fahri Akyol\", \"Andrija Crnadak\", \"Grzegorz Wawrzynski\", \"Julian Rieckmann\", \"Leandro\", \"Milos Brajovic\", \"Nathan Baker\", \"Matthias Rahn\", \"Petar Mitic\", \"Dusan Stevanovic\", \"Jan Janik\", \"Fran Tomek\", \"Tomasz Lewandowski\", \"Mateusz Dlugolecki\", \"Pawel Baranowski\", \"David Jablonsky\", \"Adam Mesjasz\", \"Oliver Praznovsky\", \"Florian Egerer\", \"Maxim Kventser\", \"Nikola Bjelanovic\", \"Bojan Cigulajkic\", \"Philip Heise\", \"Thomas Haas\", \"Milan Janjic\", \"Max Dombrowka\", \"Ervin Kacar\", \"\\u00c3\\u0093scar Gil\", \"Maxime Le Marchand\", \"Jan L\\u00c3\\u00b6hmannsr\\u00c3\\u00b6ben\", \"Andrzej Kloda\", \"Adrian Polanski\", \"Ram\\u00c3\\u00b3n\", \"Jan Sieracki\", \"Dusan Jokovic\", \"Daniel Dziwniel\", \"Patryk Wilk\", \"Sebastian Zalepa\", \"Jan Sterba\", \"Stefan Draskovic\", \"Damian Garbacik\", \"Bartosz Kopacz\", \"Szymon Kobeszko\", \"Massadio Ha\\u00c3\\u00afdara\", \"Manuel Martic\", \"Filip Bainovic\", \"Adrian Niewiadomski\", \"Marcin Mackowiak\", \"Pierre Fassnacht\", \"Michael Heinloth\", \"Nenad Kocovic\", \"Miladin Stevanovic\", \"Jakub Pruzanin\", \"Bartlomiej Mruk\", \"Herbert Paul\", \"Donatas Nakrosius\", \"Ivan Zgrablic\", \"Robin Urban\", \"Kacper Gorski\", \"Adrian Filipiak\", \"Adrian Purzycki\", \"Kostas Triantafyllopoulos\", \"Aleksandar Bjelica\", \"Tomas Petrasek\", \"Miquel Nelom\", \"Koen Weuts\", \"Aleksandar Petrovic\", \"Marcin Dabrowski\", \"Niko Datkovic\", \"Michal Zieba\", \"Rafal Ostrowski\", \"Ivan Tomac\", \"David Urban\", \"Andrej Startsev\", \"Nemanja Vidic\", \"Petar Botica\", \"Bojan Gocanin\", \"Fabian Holthaus\", \"Tim H\\u00c3\\u00a4u\\u00c3\\u009fler\", \"Mikkel Kirkeskov\", \"Ovidiu Popescu\", \"Iliya Gruev\", \"Filip Jovic\", \"Douglas Bergqvist\", \"Marcin Sudy\", \"Mart Ristl\", \"Lovro Sindik\", \"Mladen Micanovic\", \"Blazej Cyfert\", \"Luca Zander\", \"Igor Sapala\", \"Jan Sobocinski\", \"Artur Gac\", \"Kacper Jozefiak\", \"Zvezdan Djordjilovic\", \"David Bumberger\", \"Ivan Bosnjak\", \"Michal Wrzesniewski\", \"Aleksandar Ignjovski\", \"Turgay Gemicibasi\", \"Nenad Kiso\", \"Lukasz Sztylka\", \"Noboru Shimura\", \"Derrick Williams\", \"Dino Stiglec\", \"Kyriakos Savvidis\", \"Niklas Landgraf\", \"Tomasz Wojcinowicz\", \"Mateusz Pienczak\", \"Jaroslaw Kubicki\", \"Patrick Kammerbauer\", \"Luis G\\u00c3\\u00b6rlich\", \"Chris Wolf\", \"Josip Sutalo\", \"Jakub Zima\", \"Ernest Dzieciol\", \"Norbert Myszka\", \"Robin Flu\\u00c3\\u009f\", \"Nemanja Milovanovic\", \"Syam Ben Youssef\", \"Adrian Rybak\", \"Rafal Remisz\", \"Bartlomiej Kasprzak\", \"Miroslav Bogosavac\", \"Dragoljub Srnic\", \"Kaan Kurt\", \"Ivan Runje\", \"Sonny Bradley\", \"Adam Pazio\", \"Ariel Borysiuk\", \"Krystian Stolarczyk\", \"Damian Kostkowski\", \"Dominik Nothnagel\", \"Michel St\\u00c3\\u00b6cker\", \"Ryan Malone\", \"Milan Makaric\", \"Matej Hybs\", \"Sven Botman\", \"Piotr Bartloszewski\", \"Mariusz Holik\", \"Mateo Jaksic\", \"Ashton G\\u00c3\\u00b6tz\", \"Marcos Rodr\\u00c3\\u00adguez\", \"Jakub Swiecinski\", \"Marius Gr\\u00c3\\u00b6sch\", \"Aleksa Jovanovic\", \"Aleksandar Varjacic\", \"Mirko Djermanovic\", \"Igor Biedrzycki\", \"Lukas Duriska\", \"Julien Tadrowski\", \"Jakub Niewiadomski\", \"Philipp Riese\", \"Bartlomiej Lorenc\", \"Julian Wolff\", \"Adrian Bielawski\", \"Filip Zderic\", \"Eric Weeger\", \"Bartosz Kieliba\", \"Filp Ceko\", \"Ariel Mosor\", \"Srdjan Grabez\", \"Bozidar Petrovic\", \"Benjamin Himmel\", \"Marco Komenda\", \"Wiktor Nahrebecki\", \"Niclas Stierlin\", null], \"type\": \"scatter\", \"x\": [\"-\", \"0.21\", \"0.34\", \"0.27\", \"0.29\", \"0.50\", \"0.85\", \"0.40\", \"0.36\", \"0.57\", \"0.42\", \"0.48\", \"0.54\", \"0.59\", \"0.36\", \"0.56\", \"0.74\", \"0.16\", \"0.11\", \"0.28\", \"0.37\", \"0.72\", \"0.46\", \"0.39\", \"0.65\", \"0.23\", \"0.88\", \"0.33\", \"0.12\", \"0.24\", \"0.17\", \"0.24\", \"0.37\", \"1.32\", \"0.23\", \"0.26\", \"0.23\", \"0.26\", \"0.47\", \"0.27\", \"0.22\", \"0.05\", \"0.28\", \"-\", \"0.34\", \"0.75\", \"0.43\", \"0.47\", \"0.35\", \"0.25\", \"0.31\", \"-\", \"0.56\", \"0.13\", \"0.13\", \"0.42\", \"0.09\", \"0.06\", \"0.84\", \"0.16\", \"0.12\", \"0.43\", \"0.16\", \"1.04\", \"0.37\", \"0.15\", \"0.33\", \"0.51\", \"0.28\", \"0.27\", \"-\", \"0.39\", \"0.60\", \"0.70\", \"0.32\", \"-\", \"0.41\", \"0.10\", \"0.20\", \"0.25\", \"0.13\", \"0.22\", \"0.07\", \"0.47\", \"0.07\", \"0.55\", \"0.15\", \"0.22\", \"0.29\", \"0.16\", \"0.18\", \"0.64\", \"0.64\", \"0.38\", \"0.38\", \"0.18\", \"0.22\", \"0.08\", \"0.36\", \"-\", \"0.51\", \"0.12\", \"0.39\", \"0.24\", \"0.28\", \"1.35\", \"0.06\", \"0.21\", \"0.13\", \"0.09\", \"-\", \"0.14\", \"0.64\", \"0.20\", \"0.09\", \"0.75\", \"0.16\", \"0.32\", \"0.08\", \"0.14\", \"0.12\", \"0.07\", \"0.30\", \"0.35\", \"0.39\", \"0.06\", \"0.52\", \"0.25\", \"0.55\", \"0.49\", \"0.12\", \"0.08\", \"0.16\", \"0.09\", \"0.19\", \"0.35\", \"0.59\", \"0.64\", \"0.26\", \"0.44\", \"0.21\", \"0.33\", \"0.07\", \"0.45\", \"0.05\", \"-\", \"0.18\", \"0.24\", \"0.13\", \"0.43\", \"0.32\", \"0.24\", \"0.19\", \"0.45\", \"0.29\", \"0.32\", \"0.29\", \"0.22\", \"-\", \"0.40\", \"0.27\", \"0.34\", \"0.47\", \"0.49\", \"0.27\", \"0.06\", \"0.09\", \"0.16\", \"0.27\", \"0.08\", \"-\", \"0.27\", \"0.11\", \"0.38\", \"0.38\", \"0.42\", \"0.10\", \"0.31\", \"0.35\", \"0.29\", \"0.59\", \"0.20\", \"0.18\", \"0.37\", \"0.19\", \"0.18\", \"0.51\", \"0.22\", \"0.44\", \"0.60\", \"0.14\", \"0.80\", \"0.26\", \"1.16\", \"0.07\", \"0.29\", \"0.45\", \"0.08\", \"0.52\", \"0.23\", \"0.13\", \"-\", \"0.60\", \"0.24\", \"0.48\", \"0.26\", \"-\", \"0.07\", \"0.62\", \"0.50\", \"0.28\", \"0.21\", \"-\", \"0.55\", \"0.77\", \"0.30\", \"0.63\", \"0.15\", \"-\", \"0.16\", \"0.45\", \"0.17\", \"0.37\", \"0.13\", \"0.12\", \"0.17\", \"0.38\", \"0.19\", \"0.46\", \"0.13\", \"0.27\", \"0.18\", \"0.11\", \"0.47\", \"0.26\", \"0.38\", \"0.14\", \"0.33\", \"0.20\", \"0.56\", \"0.38\", \"0.06\", \"0.24\", \"0.07\", \"0.14\", \"0.05\", \"0.24\", \"0.12\", \"0.22\", \"0.16\", \"0.40\", \"0.43\", \"0.28\", \"0.06\", \"-\", \"0.28\", \"0.41\", \"0.53\", \"0.14\", \"0.32\", \"0.13\", \"0.19\", \"0.19\", \"0.17\", \"0.15\", \"0.14\", \"0.22\", \"0.43\", \"0.18\", \"0.85\", \"0.43\", null], \"y\": [\"0%\", \"22%\", \"13%\", \"33%\", \"0%\", \"28%\", \"34%\", \"0%\", \"0%\", \"0%\", \"33%\", \"37%\", \"36%\", \"19%\", \"23%\", \"5%\", \"34%\", \"0%\", \"36%\", \"0%\", \"25%\", \"35%\", \"28%\", \"32%\", \"26%\", \"5%\", \"26%\", \"0%\", \"0%\", \"19%\", \"0%\", \"0%\", \"30%\", \"35%\", \"40%\", \"0%\", \"5%\", \"25%\", \"28%\", \"22%\", \"0%\", \"0%\", \"0%\", \"0%\", \"0%\", \"12%\", \"0%\", \"0%\", \"0%\", \"0%\", \"0%\", \"0%\", \"28%\", \"0%\", \"0%\", \"15%\", \"0%\", \"0%\", \"16%\", \"0%\", \"0%\", \"0%\", \"0%\", \"36%\", \"0%\", \"6%\", \"35%\", \"40%\", \"32%\", \"8%\", \"22%\", \"29%\", \"0%\", \"14%\", \"30%\", \"0%\", \"5%\", \"0%\", \"0%\", \"11%\", \"0%\", \"0%\", \"19%\", \"7%\", \"0%\", \"18%\", \"21%\", \"32%\", \"0%\", \"33%\", \"0%\", \"25%\", \"11%\", \"5%\", \"36%\", \"33%\", \"0%\", \"6%\", \"33%\", \"0%\", \"30%\", \"0%\", \"40%\", \"0%\", \"4%\", \"36%\", \"29%\", \"0%\", \"26%\", \"30%\", \"0%\", \"0%\", \"39%\", \"0%\", \"0%\", \"19%\", \"0%\", \"9%\", \"0%\", \"0%\", \"19%\", \"0%\", \"28%\", \"18%\", \"34%\", \"27%\", \"26%\", \"41%\", \"25%\", \"32%\", \"26%\", \"6%\", \"0%\", \"21%\", \"26%\", \"32%\", \"0%\", \"25%\", \"0%\", \"37%\", \"0%\", \"0%\", \"0%\", \"33%\", \"19%\", \"25%\", \"33%\", \"31%\", \"37%\", \"36%\", \"5%\", \"0%\", \"26%\", \"34%\", \"26%\", \"26%\", \"0%\", \"5%\", \"8%\", \"0%\", \"0%\", \"0%\", \"0%\", \"40%\", \"29%\", \"0%\", \"0%\", \"0%\", \"39%\", \"0%\", \"0%\", \"26%\", \"0%\", \"29%\", \"9%\", \"0%\", \"0%\", \"36%\", \"0%\", \"0%\", \"28%\", \"33%\", \"39%\", \"33%\", \"36%\", \"4%\", \"26%\", \"0%\", \"28%\", \"38%\", \"24%\", \"35%\", \"0%\", \"30%\", \"5%\", \"0%\", \"41%\", \"0%\", \"28%\", \"0%\", \"0%\", \"0%\", \"33%\", \"29%\", \"11%\", \"32%\", \"16%\", \"6%\", \"34%\", \"33%\", \"32%\", \"0%\", \"0%\", \"35%\", \"25%\", \"36%\", \"37%\", \"0%\", \"8%\", \"5%\", \"0%\", \"24%\", \"14%\", \"0%\", \"0%\", \"0%\", \"36%\", \"36%\", \"36%\", \"40%\", \"27%\", \"0%\", \"41%\", \"40%\", \"0%\", \"0%\", \"0%\", \"0%\", \"12%\", \"32%\", \"33%\", \"0%\", \"16%\", \"0%\", \"24%\", \"34%\", \"34%\", \"31%\", \"0%\", \"0%\", \"35%\", \"34%\", \"0%\", \"0%\", \"0%\", \"35%\", \"0%\", \"32%\", \"0%\", \"32%\", \"31%\", \"37%\", \"0%\", \"34%\", \"6%\", \"32%\", \"38%\", \"39%\", \"10%\", \"36%\", \"26%\", \"\"]}],\n",
       "                        {\"legend\": {\"bgcolor\": \"#F5F6F9\", \"font\": {\"color\": \"#4D5663\"}}, \"paper_bgcolor\": \"#F5F6F9\", \"plot_bgcolor\": \"#F5F6F9\", \"template\": {\"data\": {\"bar\": [{\"error_x\": {\"color\": \"#2a3f5f\"}, \"error_y\": {\"color\": \"#2a3f5f\"}, \"marker\": {\"line\": {\"color\": \"#E5ECF6\", \"width\": 0.5}}, \"type\": \"bar\"}], \"barpolar\": [{\"marker\": {\"line\": {\"color\": \"#E5ECF6\", \"width\": 0.5}}, \"type\": \"barpolar\"}], \"carpet\": [{\"aaxis\": {\"endlinecolor\": \"#2a3f5f\", \"gridcolor\": \"white\", \"linecolor\": \"white\", \"minorgridcolor\": \"white\", \"startlinecolor\": \"#2a3f5f\"}, \"baxis\": {\"endlinecolor\": \"#2a3f5f\", \"gridcolor\": \"white\", \"linecolor\": \"white\", \"minorgridcolor\": \"white\", \"startlinecolor\": \"#2a3f5f\"}, \"type\": \"carpet\"}], \"choropleth\": [{\"colorbar\": {\"outlinewidth\": 0, \"ticks\": \"\"}, \"type\": \"choropleth\"}], \"contour\": [{\"colorbar\": {\"outlinewidth\": 0, \"ticks\": \"\"}, \"colorscale\": [[0.0, \"#0d0887\"], [0.1111111111111111, \"#46039f\"], [0.2222222222222222, \"#7201a8\"], [0.3333333333333333, \"#9c179e\"], [0.4444444444444444, \"#bd3786\"], [0.5555555555555556, \"#d8576b\"], [0.6666666666666666, \"#ed7953\"], [0.7777777777777778, \"#fb9f3a\"], [0.8888888888888888, \"#fdca26\"], [1.0, \"#f0f921\"]], \"type\": \"contour\"}], \"contourcarpet\": [{\"colorbar\": {\"outlinewidth\": 0, \"ticks\": \"\"}, \"type\": \"contourcarpet\"}], \"heatmap\": [{\"colorbar\": {\"outlinewidth\": 0, \"ticks\": \"\"}, \"colorscale\": [[0.0, \"#0d0887\"], [0.1111111111111111, \"#46039f\"], [0.2222222222222222, \"#7201a8\"], [0.3333333333333333, \"#9c179e\"], [0.4444444444444444, \"#bd3786\"], [0.5555555555555556, \"#d8576b\"], [0.6666666666666666, \"#ed7953\"], [0.7777777777777778, \"#fb9f3a\"], [0.8888888888888888, \"#fdca26\"], [1.0, \"#f0f921\"]], \"type\": \"heatmap\"}], \"heatmapgl\": [{\"colorbar\": {\"outlinewidth\": 0, \"ticks\": \"\"}, \"colorscale\": [[0.0, \"#0d0887\"], [0.1111111111111111, \"#46039f\"], [0.2222222222222222, \"#7201a8\"], [0.3333333333333333, \"#9c179e\"], [0.4444444444444444, \"#bd3786\"], [0.5555555555555556, \"#d8576b\"], [0.6666666666666666, \"#ed7953\"], [0.7777777777777778, \"#fb9f3a\"], [0.8888888888888888, \"#fdca26\"], [1.0, \"#f0f921\"]], \"type\": \"heatmapgl\"}], \"histogram\": [{\"marker\": {\"colorbar\": {\"outlinewidth\": 0, \"ticks\": \"\"}}, \"type\": \"histogram\"}], \"histogram2d\": [{\"colorbar\": {\"outlinewidth\": 0, \"ticks\": \"\"}, \"colorscale\": [[0.0, \"#0d0887\"], [0.1111111111111111, \"#46039f\"], [0.2222222222222222, \"#7201a8\"], [0.3333333333333333, \"#9c179e\"], [0.4444444444444444, \"#bd3786\"], [0.5555555555555556, \"#d8576b\"], [0.6666666666666666, \"#ed7953\"], [0.7777777777777778, \"#fb9f3a\"], [0.8888888888888888, \"#fdca26\"], [1.0, \"#f0f921\"]], \"type\": \"histogram2d\"}], \"histogram2dcontour\": [{\"colorbar\": {\"outlinewidth\": 0, \"ticks\": \"\"}, \"colorscale\": [[0.0, \"#0d0887\"], [0.1111111111111111, \"#46039f\"], [0.2222222222222222, \"#7201a8\"], [0.3333333333333333, \"#9c179e\"], [0.4444444444444444, \"#bd3786\"], [0.5555555555555556, \"#d8576b\"], [0.6666666666666666, \"#ed7953\"], [0.7777777777777778, \"#fb9f3a\"], [0.8888888888888888, \"#fdca26\"], [1.0, \"#f0f921\"]], \"type\": \"histogram2dcontour\"}], \"mesh3d\": [{\"colorbar\": {\"outlinewidth\": 0, \"ticks\": \"\"}, \"type\": \"mesh3d\"}], \"parcoords\": [{\"line\": {\"colorbar\": {\"outlinewidth\": 0, \"ticks\": \"\"}}, \"type\": \"parcoords\"}], \"pie\": [{\"automargin\": true, \"type\": \"pie\"}], \"scatter\": [{\"marker\": {\"colorbar\": {\"outlinewidth\": 0, \"ticks\": \"\"}}, \"type\": \"scatter\"}], \"scatter3d\": [{\"line\": {\"colorbar\": {\"outlinewidth\": 0, \"ticks\": \"\"}}, \"marker\": {\"colorbar\": {\"outlinewidth\": 0, \"ticks\": \"\"}}, \"type\": \"scatter3d\"}], \"scattercarpet\": [{\"marker\": {\"colorbar\": {\"outlinewidth\": 0, \"ticks\": \"\"}}, \"type\": \"scattercarpet\"}], \"scattergeo\": [{\"marker\": {\"colorbar\": {\"outlinewidth\": 0, \"ticks\": \"\"}}, \"type\": \"scattergeo\"}], \"scattergl\": [{\"marker\": {\"colorbar\": {\"outlinewidth\": 0, \"ticks\": \"\"}}, \"type\": \"scattergl\"}], \"scattermapbox\": [{\"marker\": {\"colorbar\": {\"outlinewidth\": 0, \"ticks\": \"\"}}, \"type\": \"scattermapbox\"}], \"scatterpolar\": [{\"marker\": {\"colorbar\": {\"outlinewidth\": 0, \"ticks\": \"\"}}, \"type\": \"scatterpolar\"}], \"scatterpolargl\": [{\"marker\": {\"colorbar\": {\"outlinewidth\": 0, \"ticks\": \"\"}}, \"type\": \"scatterpolargl\"}], \"scatterternary\": [{\"marker\": {\"colorbar\": {\"outlinewidth\": 0, \"ticks\": \"\"}}, \"type\": \"scatterternary\"}], \"surface\": [{\"colorbar\": {\"outlinewidth\": 0, \"ticks\": \"\"}, \"colorscale\": [[0.0, \"#0d0887\"], [0.1111111111111111, \"#46039f\"], [0.2222222222222222, \"#7201a8\"], [0.3333333333333333, \"#9c179e\"], [0.4444444444444444, \"#bd3786\"], [0.5555555555555556, \"#d8576b\"], [0.6666666666666666, \"#ed7953\"], [0.7777777777777778, \"#fb9f3a\"], [0.8888888888888888, \"#fdca26\"], [1.0, \"#f0f921\"]], \"type\": \"surface\"}], \"table\": [{\"cells\": {\"fill\": {\"color\": \"#EBF0F8\"}, \"line\": {\"color\": \"white\"}}, \"header\": {\"fill\": {\"color\": \"#C8D4E3\"}, \"line\": {\"color\": \"white\"}}, \"type\": \"table\"}]}, \"layout\": {\"annotationdefaults\": {\"arrowcolor\": \"#2a3f5f\", \"arrowhead\": 0, \"arrowwidth\": 1}, \"coloraxis\": {\"colorbar\": {\"outlinewidth\": 0, \"ticks\": \"\"}}, \"colorscale\": {\"diverging\": [[0, \"#8e0152\"], [0.1, \"#c51b7d\"], [0.2, \"#de77ae\"], [0.3, \"#f1b6da\"], [0.4, \"#fde0ef\"], [0.5, \"#f7f7f7\"], [0.6, \"#e6f5d0\"], [0.7, \"#b8e186\"], [0.8, \"#7fbc41\"], [0.9, \"#4d9221\"], [1, \"#276419\"]], \"sequential\": [[0.0, \"#0d0887\"], [0.1111111111111111, \"#46039f\"], [0.2222222222222222, \"#7201a8\"], [0.3333333333333333, \"#9c179e\"], [0.4444444444444444, \"#bd3786\"], [0.5555555555555556, \"#d8576b\"], [0.6666666666666666, \"#ed7953\"], [0.7777777777777778, \"#fb9f3a\"], [0.8888888888888888, \"#fdca26\"], [1.0, \"#f0f921\"]], \"sequentialminus\": [[0.0, \"#0d0887\"], [0.1111111111111111, \"#46039f\"], [0.2222222222222222, \"#7201a8\"], [0.3333333333333333, \"#9c179e\"], [0.4444444444444444, \"#bd3786\"], [0.5555555555555556, \"#d8576b\"], [0.6666666666666666, \"#ed7953\"], [0.7777777777777778, \"#fb9f3a\"], [0.8888888888888888, \"#fdca26\"], [1.0, \"#f0f921\"]]}, \"colorway\": [\"#636efa\", \"#EF553B\", \"#00cc96\", \"#ab63fa\", \"#FFA15A\", \"#19d3f3\", \"#FF6692\", \"#B6E880\", \"#FF97FF\", \"#FECB52\"], \"font\": {\"color\": \"#2a3f5f\"}, \"geo\": {\"bgcolor\": \"white\", \"lakecolor\": \"white\", \"landcolor\": \"#E5ECF6\", \"showlakes\": true, \"showland\": true, \"subunitcolor\": \"white\"}, \"hoverlabel\": {\"align\": \"left\"}, \"hovermode\": \"closest\", \"mapbox\": {\"style\": \"light\"}, \"paper_bgcolor\": \"white\", \"plot_bgcolor\": \"#E5ECF6\", \"polar\": {\"angularaxis\": {\"gridcolor\": \"white\", \"linecolor\": \"white\", \"ticks\": \"\"}, \"bgcolor\": \"#E5ECF6\", \"radialaxis\": {\"gridcolor\": \"white\", \"linecolor\": \"white\", \"ticks\": \"\"}}, \"scene\": {\"xaxis\": {\"backgroundcolor\": \"#E5ECF6\", \"gridcolor\": \"white\", \"gridwidth\": 2, \"linecolor\": \"white\", \"showbackground\": true, \"ticks\": \"\", \"zerolinecolor\": \"white\"}, \"yaxis\": {\"backgroundcolor\": \"#E5ECF6\", \"gridcolor\": \"white\", \"gridwidth\": 2, \"linecolor\": \"white\", \"showbackground\": true, \"ticks\": \"\", \"zerolinecolor\": \"white\"}, \"zaxis\": {\"backgroundcolor\": \"#E5ECF6\", \"gridcolor\": \"white\", \"gridwidth\": 2, \"linecolor\": \"white\", \"showbackground\": true, \"ticks\": \"\", \"zerolinecolor\": \"white\"}}, \"shapedefaults\": {\"line\": {\"color\": \"#2a3f5f\"}}, \"ternary\": {\"aaxis\": {\"gridcolor\": \"white\", \"linecolor\": \"white\", \"ticks\": \"\"}, \"baxis\": {\"gridcolor\": \"white\", \"linecolor\": \"white\", \"ticks\": \"\"}, \"bgcolor\": \"#E5ECF6\", \"caxis\": {\"gridcolor\": \"white\", \"linecolor\": \"white\", \"ticks\": \"\"}}, \"title\": {\"x\": 0.05}, \"xaxis\": {\"automargin\": true, \"gridcolor\": \"white\", \"linecolor\": \"white\", \"ticks\": \"\", \"title\": {\"standoff\": 15}, \"zerolinecolor\": \"white\", \"zerolinewidth\": 2}, \"yaxis\": {\"automargin\": true, \"gridcolor\": \"white\", \"linecolor\": \"white\", \"ticks\": \"\", \"title\": {\"standoff\": 15}, \"zerolinecolor\": \"white\", \"zerolinewidth\": 2}}}, \"title\": {\"font\": {\"color\": \"#4D5663\"}, \"text\": \"Complete Wing Back - Support\"}, \"xaxis\": {\"gridcolor\": \"#E1E5ED\", \"showgrid\": true, \"tickfont\": {\"color\": \"#4D5663\"}, \"title\": {\"font\": {\"color\": \"#4D5663\"}, \"text\": \"Key Passes/90\"}, \"zerolinecolor\": \"#E1E5ED\"}, \"yaxis\": {\"gridcolor\": \"#E1E5ED\", \"showgrid\": true, \"tickfont\": {\"color\": \"#4D5663\"}, \"title\": {\"font\": {\"color\": \"#4D5663\"}, \"text\": \"Cross Completion %\"}, \"zerolinecolor\": \"#E1E5ED\"}},\n",
       "                        {\"showLink\": true, \"linkText\": \"Export to plot.ly\", \"plotlyServerURL\": \"https://plot.ly\", \"responsive\": true}\n",
       "                    ).then(function(){\n",
       "                            \n",
       "var gd = document.getElementById('1f08f688-0c1a-45c7-b2c4-2388f4b5dd98');\n",
       "var x = new MutationObserver(function (mutations, observer) {{\n",
       "        var display = window.getComputedStyle(gd).display;\n",
       "        if (!display || display === 'none') {{\n",
       "            console.log([gd, 'removed!']);\n",
       "            Plotly.purge(gd);\n",
       "            observer.disconnect();\n",
       "        }}\n",
       "}});\n",
       "\n",
       "// Listen for the removal of the full notebook cells\n",
       "var notebookContainer = gd.closest('#notebook-container');\n",
       "if (notebookContainer) {{\n",
       "    x.observe(notebookContainer, {childList: true});\n",
       "}}\n",
       "\n",
       "// Listen for the clearing of the current output cell\n",
       "var outputEl = gd.closest('.output');\n",
       "if (outputEl) {{\n",
       "    x.observe(outputEl, {childList: true});\n",
       "}}\n",
       "\n",
       "                        })\n",
       "                };\n",
       "                });\n",
       "            </script>\n",
       "        </div>"
      ]
     },
     "metadata": {},
     "output_type": "display_data"
    }
   ],
   "source": [
    "df.iplot(kind='scatter',x='K Ps/90',y='Cr C/A',\n",
    "           mode='markers',text='Name',size=10,\n",
    "          xTitle='Key Passes/90',yTitle='Cross Completion %',title='Complete Wing Back - Support')"
   ]
  },
  {
   "cell_type": "code",
   "execution_count": 13,
   "metadata": {},
   "outputs": [
    {
     "data": {
      "application/vnd.plotly.v1+json": {
       "config": {
        "linkText": "Export to plot.ly",
        "plotlyServerURL": "https://plot.ly",
        "showLink": true
       },
       "data": [
        {
         "line": {
          "color": "rgba(255, 153, 51, 1.0)",
          "dash": "solid",
          "shape": "linear",
          "width": 1.3
         },
         "marker": {
          "size": 10,
          "symbol": "circle"
         },
         "mode": "markers",
         "name": "Cr C/A",
         "text": [
          "Oskar Repka",
          "Marcel Mehlem",
          "Jessie Guera Djou",
          "Andjelo Kacavenda",
          "Michal Ozga",
          "Josip Zeljkovic",
          "Lukasz Duszkiewicz",
          "Bartlomiej Gajda",
          "Aleksa Pejic",
          "Daniel Pospisil",
          "Jakov Basic",
          "Robert Mandrysz",
          "Sasa Tomanovic",
          "Sebastian Duda",
          "Ivan Jovanovic",
          "Duje Medak",
          "Dominik Siwinski",
          "Arkadiusz Kozlowski",
          "Fanol PÃ«rdedaj",
          "Kamil Niewiadomski",
          "Lukasz Mozler",
          "Haris Memic",
          "Kristijan Jakic",
          "Filip Tolic",
          "Jakub Kisiel",
          "Dawid Kisly",
          "Taras Romanchuk",
          "Aleksander Slezak",
          "Tomasz Owczarek",
          "Richie Smallwood",
          "Mateusz Stepien",
          "Josip Bauk",
          "Domagoj Perica",
          "Uros Filipovic",
          "Stefan Velickovic",
          "Filip Sredojevic",
          "Radoslaw Kaminski",
          "Alexander Fuchs",
          "Tomas Huk",
          "Wojciech Kaminski",
          "Kasim Adams",
          "Mateusz Madzia",
          "Sebastian Kopec",
          "Jovan Simic",
          "Antonio Asanovic",
          "Marko Labovic",
          "Hubert Molski",
          "Hrvoje Dzijan",
          "Amos Youga",
          "Mario Erb",
          "Fabio DaprelÃ",
          "Kresimir Jelic",
          "Jakob Johansson",
          "Liam Gordon",
          "Jakub Hric",
          "Damian Koziel",
          "Malcom Edjouma",
          "Piotr Wujec",
          "Donald Molls",
          "Luka Pavkovic",
          "Norbert Radkiewicz",
          "Danilo Wiebe",
          "Kristi Qose",
          "Nikola Puzic",
          "Radoslaw Kursa",
          "Jonas Bager",
          "Jon Flanagan",
          "Vuk Mitosevic",
          "Tom Hateley",
          "Sasa Balic",
          "Mohamed Loua",
          "Dawid Bialek",
          "Ben Thompson",
          "Pawel Kohut",
          "Daniel Haritonov",
          "Andrej Causic",
          "Sebastian Smialek",
          "Luka Miljevic",
          "Andrzej Korytek",
          "Mario Cuic",
          "Lubomir Satka",
          "Vukasin Krstic",
          "Peter Drobnak",
          "Marko Filipovic",
          "Martin Vukorepa",
          "Nicklas Shipnoski",
          "Joey Pelupessy",
          "Antonio Mrkovic",
          "Kamal Bafounta",
          "Adrian Liberacki",
          "Tevin Ihrig",
          "Sandi Lovric",
          "Patrick Wolfgang Kapp",
          "Ivan Roca",
          "Karol Drwecki",
          "Zlatko Ilicic",
          "Luka Cakarun",
          "Tan Jiajie",
          "Domagoj Zigri",
          "Casper Elderman",
          "Samuel Lengle",
          "Luka Cankovic",
          "Kenny Dougall",
          "AurÃ©lien Nguiamba",
          "Fahri Akyol",
          "Andrija Crnadak",
          "Grzegorz Wawrzynski",
          "Julian Rieckmann",
          "Leandro",
          "Milos Brajovic",
          "Nathan Baker",
          "Matthias Rahn",
          "Petar Mitic",
          "Dusan Stevanovic",
          "Jan Janik",
          "Fran Tomek",
          "Tomasz Lewandowski",
          "Mateusz Dlugolecki",
          "Pawel Baranowski",
          "David Jablonsky",
          "Adam Mesjasz",
          "Oliver Praznovsky",
          "Florian Egerer",
          "Maxim Kventser",
          "Nikola Bjelanovic",
          "Bojan Cigulajkic",
          "Philip Heise",
          "Thomas Haas",
          "Milan Janjic",
          "Max Dombrowka",
          "Ervin Kacar",
          "Ãscar Gil",
          "Maxime Le Marchand",
          "Jan LÃ¶hmannsrÃ¶ben",
          "Andrzej Kloda",
          "Adrian Polanski",
          "RamÃ³n",
          "Jan Sieracki",
          "Dusan Jokovic",
          "Daniel Dziwniel",
          "Patryk Wilk",
          "Sebastian Zalepa",
          "Jan Sterba",
          "Stefan Draskovic",
          "Damian Garbacik",
          "Bartosz Kopacz",
          "Szymon Kobeszko",
          "Massadio HaÃ¯dara",
          "Manuel Martic",
          "Filip Bainovic",
          "Adrian Niewiadomski",
          "Marcin Mackowiak",
          "Pierre Fassnacht",
          "Michael Heinloth",
          "Nenad Kocovic",
          "Miladin Stevanovic",
          "Jakub Pruzanin",
          "Bartlomiej Mruk",
          "Herbert Paul",
          "Donatas Nakrosius",
          "Ivan Zgrablic",
          "Robin Urban",
          "Kacper Gorski",
          "Adrian Filipiak",
          "Adrian Purzycki",
          "Kostas Triantafyllopoulos",
          "Aleksandar Bjelica",
          "Tomas Petrasek",
          "Miquel Nelom",
          "Koen Weuts",
          "Aleksandar Petrovic",
          "Marcin Dabrowski",
          "Niko Datkovic",
          "Michal Zieba",
          "Rafal Ostrowski",
          "Ivan Tomac",
          "David Urban",
          "Andrej Startsev",
          "Nemanja Vidic",
          "Petar Botica",
          "Bojan Gocanin",
          "Fabian Holthaus",
          "Tim HÃ¤uÃler",
          "Mikkel Kirkeskov",
          "Ovidiu Popescu",
          "Iliya Gruev",
          "Filip Jovic",
          "Douglas Bergqvist",
          "Marcin Sudy",
          "Mart Ristl",
          "Lovro Sindik",
          "Mladen Micanovic",
          "Blazej Cyfert",
          "Luca Zander",
          "Igor Sapala",
          "Jan Sobocinski",
          "Artur Gac",
          "Kacper Jozefiak",
          "Zvezdan Djordjilovic",
          "David Bumberger",
          "Ivan Bosnjak",
          "Michal Wrzesniewski",
          "Aleksandar Ignjovski",
          "Turgay Gemicibasi",
          "Nenad Kiso",
          "Lukasz Sztylka",
          "Noboru Shimura",
          "Derrick Williams",
          "Dino Stiglec",
          "Kyriakos Savvidis",
          "Niklas Landgraf",
          "Tomasz Wojcinowicz",
          "Mateusz Pienczak",
          "Jaroslaw Kubicki",
          "Patrick Kammerbauer",
          "Luis GÃ¶rlich",
          "Chris Wolf",
          "Josip Sutalo",
          "Jakub Zima",
          "Ernest Dzieciol",
          "Norbert Myszka",
          "Robin FluÃ",
          "Nemanja Milovanovic",
          "Syam Ben Youssef",
          "Adrian Rybak",
          "Rafal Remisz",
          "Bartlomiej Kasprzak",
          "Miroslav Bogosavac",
          "Dragoljub Srnic",
          "Kaan Kurt",
          "Ivan Runje",
          "Sonny Bradley",
          "Adam Pazio",
          "Ariel Borysiuk",
          "Krystian Stolarczyk",
          "Damian Kostkowski",
          "Dominik Nothnagel",
          "Michel StÃ¶cker",
          "Ryan Malone",
          "Milan Makaric",
          "Matej Hybs",
          "Sven Botman",
          "Piotr Bartloszewski",
          "Mariusz Holik",
          "Mateo Jaksic",
          "Ashton GÃ¶tz",
          "Marcos RodrÃ­guez",
          "Jakub Swiecinski",
          "Marius GrÃ¶sch",
          "Aleksa Jovanovic",
          "Aleksandar Varjacic",
          "Mirko Djermanovic",
          "Igor Biedrzycki",
          "Lukas Duriska",
          "Julien Tadrowski",
          "Jakub Niewiadomski",
          "Philipp Riese",
          "Bartlomiej Lorenc",
          "Julian Wolff",
          "Adrian Bielawski",
          "Filip Zderic",
          "Eric Weeger",
          "Bartosz Kieliba",
          "Filp Ceko",
          "Ariel Mosor",
          "Srdjan Grabez",
          "Bozidar Petrovic",
          "Benjamin Himmel",
          "Marco Komenda",
          "Wiktor Nahrebecki",
          "Niclas Stierlin",
          null
         ],
         "type": "scatter",
         "x": [
          "0.16",
          "0.64",
          "0.60",
          "0.11",
          "-",
          "0.12",
          "0.26",
          "-",
          "0.12",
          "-",
          "0.91",
          "0.18",
          "0.63",
          "0.20",
          "0.31",
          "-",
          "0.06",
          "-",
          "0.50",
          "0.19",
          "0.37",
          "0.48",
          "-",
          "0.19",
          "0.25",
          "-",
          "0.22",
          "-",
          "-",
          "0.12",
          "-",
          "-",
          "0.05",
          "-",
          "0.46",
          "-",
          "-",
          "0.09",
          "0.20",
          "0.05",
          "-",
          "-",
          "-",
          "-",
          "0.27",
          "0.05",
          "0.14",
          "-",
          "0.28",
          "-",
          "-",
          "-",
          "0.56",
          "-",
          "-",
          "-",
          "0.83",
          "-",
          "0.47",
          "-",
          "-",
          "0.12",
          "0.16",
          "-",
          "-",
          "0.07",
          "0.33",
          "0.26",
          "0.38",
          "0.09",
          "0.54",
          "0.55",
          "1.25",
          "0.19",
          "0.53",
          "-",
          "-",
          "-",
          "-",
          "0.08",
          "-",
          "-",
          "0.97",
          "0.35",
          "-",
          "2.93",
          "0.37",
          "-",
          "-",
          "0.47",
          "-",
          "0.32",
          "0.21",
          "0.51",
          "-",
          "0.94",
          "-",
          "0.08",
          "0.42",
          "0.09",
          "0.11",
          "-",
          "0.13",
          "-",
          "0.11",
          "0.55",
          "0.37",
          "0.11",
          "0.20",
          "0.27",
          "-",
          "0.05",
          "-",
          "-",
          "0.18",
          "0.07",
          "-",
          "-",
          "-",
          "-",
          "0.06",
          "0.07",
          "0.10",
          "1.12",
          "0.84",
          "0.17",
          "0.97",
          "0.42",
          "0.48",
          "0.05",
          "0.97",
          "0.08",
          "-",
          "1.14",
          "0.09",
          "0.47",
          "-",
          "0.36",
          "-",
          "2.32",
          "-",
          "-",
          "0.07",
          "0.05",
          "0.15",
          "0.87",
          "0.06",
          "2.43",
          "0.53",
          "0.17",
          "0.06",
          "-",
          "0.19",
          "0.86",
          "-",
          "0.16",
          "-",
          "0.06",
          "0.28",
          "-",
          "-",
          "-",
          "-",
          "0.12",
          "0.35",
          "-",
          "-",
          "0.04",
          "1.26",
          "0.08",
          "-",
          "0.20",
          "-",
          "0.19",
          "-",
          "0.05",
          "-",
          "0.38",
          "-",
          "-",
          "0.25",
          "1.54",
          "0.49",
          "0.19",
          "0.10",
          "0.18",
          "0.17",
          "0.07",
          "0.44",
          "-",
          "0.07",
          "0.05",
          "-",
          "1.16",
          "0.21",
          "-",
          "0.64",
          "-",
          "0.05",
          "-",
          "-",
          "-",
          "0.82",
          "0.48",
          "0.10",
          "0.26",
          "0.57",
          "-",
          "0.27",
          "0.14",
          "1.70",
          "-",
          "-",
          "0.73",
          "1.60",
          "0.55",
          "-",
          "-",
          "0.08",
          "-",
          "-",
          "0.23",
          "0.22",
          "0.07",
          "-",
          "-",
          "0.83",
          "1.19",
          "-",
          "0.84",
          "0.05",
          "-",
          "0.06",
          "0.11",
          "-",
          "-",
          "-",
          "-",
          "-",
          "0.34",
          "1.26",
          "0.11",
          "-",
          "0.07",
          "0.14",
          "0.27",
          "0.16",
          "0.99",
          "-",
          "0.05",
          "0.34",
          "0.18",
          "-",
          "0.06",
          "-",
          "1.41",
          "0.07",
          "-",
          "-",
          "1.16",
          "1.27",
          "0.48",
          "0.06",
          "0.72",
          "0.08",
          "0.14",
          "0.94",
          "0.11",
          "0.05",
          "0.26",
          "0.10",
          null
         ],
         "y": [
          "0%",
          "22%",
          "13%",
          "33%",
          "0%",
          "28%",
          "34%",
          "0%",
          "0%",
          "0%",
          "33%",
          "37%",
          "36%",
          "19%",
          "23%",
          "5%",
          "34%",
          "0%",
          "36%",
          "0%",
          "25%",
          "35%",
          "28%",
          "32%",
          "26%",
          "5%",
          "26%",
          "0%",
          "0%",
          "19%",
          "0%",
          "0%",
          "30%",
          "35%",
          "40%",
          "0%",
          "5%",
          "25%",
          "28%",
          "22%",
          "0%",
          "0%",
          "0%",
          "0%",
          "0%",
          "12%",
          "0%",
          "0%",
          "0%",
          "0%",
          "0%",
          "0%",
          "28%",
          "0%",
          "0%",
          "15%",
          "0%",
          "0%",
          "16%",
          "0%",
          "0%",
          "0%",
          "0%",
          "36%",
          "0%",
          "6%",
          "35%",
          "40%",
          "32%",
          "8%",
          "22%",
          "29%",
          "0%",
          "14%",
          "30%",
          "0%",
          "5%",
          "0%",
          "0%",
          "11%",
          "0%",
          "0%",
          "19%",
          "7%",
          "0%",
          "18%",
          "21%",
          "32%",
          "0%",
          "33%",
          "0%",
          "25%",
          "11%",
          "5%",
          "36%",
          "33%",
          "0%",
          "6%",
          "33%",
          "0%",
          "30%",
          "0%",
          "40%",
          "0%",
          "4%",
          "36%",
          "29%",
          "0%",
          "26%",
          "30%",
          "0%",
          "0%",
          "39%",
          "0%",
          "0%",
          "19%",
          "0%",
          "9%",
          "0%",
          "0%",
          "19%",
          "0%",
          "28%",
          "18%",
          "34%",
          "27%",
          "26%",
          "41%",
          "25%",
          "32%",
          "26%",
          "6%",
          "0%",
          "21%",
          "26%",
          "32%",
          "0%",
          "25%",
          "0%",
          "37%",
          "0%",
          "0%",
          "0%",
          "33%",
          "19%",
          "25%",
          "33%",
          "31%",
          "37%",
          "36%",
          "5%",
          "0%",
          "26%",
          "34%",
          "26%",
          "26%",
          "0%",
          "5%",
          "8%",
          "0%",
          "0%",
          "0%",
          "0%",
          "40%",
          "29%",
          "0%",
          "0%",
          "0%",
          "39%",
          "0%",
          "0%",
          "26%",
          "0%",
          "29%",
          "9%",
          "0%",
          "0%",
          "36%",
          "0%",
          "0%",
          "28%",
          "33%",
          "39%",
          "33%",
          "36%",
          "4%",
          "26%",
          "0%",
          "28%",
          "38%",
          "24%",
          "35%",
          "0%",
          "30%",
          "5%",
          "0%",
          "41%",
          "0%",
          "28%",
          "0%",
          "0%",
          "0%",
          "33%",
          "29%",
          "11%",
          "32%",
          "16%",
          "6%",
          "34%",
          "33%",
          "32%",
          "0%",
          "0%",
          "35%",
          "25%",
          "36%",
          "37%",
          "0%",
          "8%",
          "5%",
          "0%",
          "24%",
          "14%",
          "0%",
          "0%",
          "0%",
          "36%",
          "36%",
          "36%",
          "40%",
          "27%",
          "0%",
          "41%",
          "40%",
          "0%",
          "0%",
          "0%",
          "0%",
          "12%",
          "32%",
          "33%",
          "0%",
          "16%",
          "0%",
          "24%",
          "34%",
          "34%",
          "31%",
          "0%",
          "0%",
          "35%",
          "34%",
          "0%",
          "0%",
          "0%",
          "35%",
          "0%",
          "32%",
          "0%",
          "32%",
          "31%",
          "37%",
          "0%",
          "34%",
          "6%",
          "32%",
          "38%",
          "39%",
          "10%",
          "36%",
          "26%",
          ""
         ]
        }
       ],
       "layout": {
        "legend": {
         "bgcolor": "#F5F6F9",
         "font": {
          "color": "#4D5663"
         }
        },
        "paper_bgcolor": "#F5F6F9",
        "plot_bgcolor": "#F5F6F9",
        "template": {
         "data": {
          "bar": [
           {
            "error_x": {
             "color": "#2a3f5f"
            },
            "error_y": {
             "color": "#2a3f5f"
            },
            "marker": {
             "line": {
              "color": "#E5ECF6",
              "width": 0.5
             }
            },
            "type": "bar"
           }
          ],
          "barpolar": [
           {
            "marker": {
             "line": {
              "color": "#E5ECF6",
              "width": 0.5
             }
            },
            "type": "barpolar"
           }
          ],
          "carpet": [
           {
            "aaxis": {
             "endlinecolor": "#2a3f5f",
             "gridcolor": "white",
             "linecolor": "white",
             "minorgridcolor": "white",
             "startlinecolor": "#2a3f5f"
            },
            "baxis": {
             "endlinecolor": "#2a3f5f",
             "gridcolor": "white",
             "linecolor": "white",
             "minorgridcolor": "white",
             "startlinecolor": "#2a3f5f"
            },
            "type": "carpet"
           }
          ],
          "choropleth": [
           {
            "colorbar": {
             "outlinewidth": 0,
             "ticks": ""
            },
            "type": "choropleth"
           }
          ],
          "contour": [
           {
            "colorbar": {
             "outlinewidth": 0,
             "ticks": ""
            },
            "colorscale": [
             [
              0,
              "#0d0887"
             ],
             [
              0.1111111111111111,
              "#46039f"
             ],
             [
              0.2222222222222222,
              "#7201a8"
             ],
             [
              0.3333333333333333,
              "#9c179e"
             ],
             [
              0.4444444444444444,
              "#bd3786"
             ],
             [
              0.5555555555555556,
              "#d8576b"
             ],
             [
              0.6666666666666666,
              "#ed7953"
             ],
             [
              0.7777777777777778,
              "#fb9f3a"
             ],
             [
              0.8888888888888888,
              "#fdca26"
             ],
             [
              1,
              "#f0f921"
             ]
            ],
            "type": "contour"
           }
          ],
          "contourcarpet": [
           {
            "colorbar": {
             "outlinewidth": 0,
             "ticks": ""
            },
            "type": "contourcarpet"
           }
          ],
          "heatmap": [
           {
            "colorbar": {
             "outlinewidth": 0,
             "ticks": ""
            },
            "colorscale": [
             [
              0,
              "#0d0887"
             ],
             [
              0.1111111111111111,
              "#46039f"
             ],
             [
              0.2222222222222222,
              "#7201a8"
             ],
             [
              0.3333333333333333,
              "#9c179e"
             ],
             [
              0.4444444444444444,
              "#bd3786"
             ],
             [
              0.5555555555555556,
              "#d8576b"
             ],
             [
              0.6666666666666666,
              "#ed7953"
             ],
             [
              0.7777777777777778,
              "#fb9f3a"
             ],
             [
              0.8888888888888888,
              "#fdca26"
             ],
             [
              1,
              "#f0f921"
             ]
            ],
            "type": "heatmap"
           }
          ],
          "heatmapgl": [
           {
            "colorbar": {
             "outlinewidth": 0,
             "ticks": ""
            },
            "colorscale": [
             [
              0,
              "#0d0887"
             ],
             [
              0.1111111111111111,
              "#46039f"
             ],
             [
              0.2222222222222222,
              "#7201a8"
             ],
             [
              0.3333333333333333,
              "#9c179e"
             ],
             [
              0.4444444444444444,
              "#bd3786"
             ],
             [
              0.5555555555555556,
              "#d8576b"
             ],
             [
              0.6666666666666666,
              "#ed7953"
             ],
             [
              0.7777777777777778,
              "#fb9f3a"
             ],
             [
              0.8888888888888888,
              "#fdca26"
             ],
             [
              1,
              "#f0f921"
             ]
            ],
            "type": "heatmapgl"
           }
          ],
          "histogram": [
           {
            "marker": {
             "colorbar": {
              "outlinewidth": 0,
              "ticks": ""
             }
            },
            "type": "histogram"
           }
          ],
          "histogram2d": [
           {
            "colorbar": {
             "outlinewidth": 0,
             "ticks": ""
            },
            "colorscale": [
             [
              0,
              "#0d0887"
             ],
             [
              0.1111111111111111,
              "#46039f"
             ],
             [
              0.2222222222222222,
              "#7201a8"
             ],
             [
              0.3333333333333333,
              "#9c179e"
             ],
             [
              0.4444444444444444,
              "#bd3786"
             ],
             [
              0.5555555555555556,
              "#d8576b"
             ],
             [
              0.6666666666666666,
              "#ed7953"
             ],
             [
              0.7777777777777778,
              "#fb9f3a"
             ],
             [
              0.8888888888888888,
              "#fdca26"
             ],
             [
              1,
              "#f0f921"
             ]
            ],
            "type": "histogram2d"
           }
          ],
          "histogram2dcontour": [
           {
            "colorbar": {
             "outlinewidth": 0,
             "ticks": ""
            },
            "colorscale": [
             [
              0,
              "#0d0887"
             ],
             [
              0.1111111111111111,
              "#46039f"
             ],
             [
              0.2222222222222222,
              "#7201a8"
             ],
             [
              0.3333333333333333,
              "#9c179e"
             ],
             [
              0.4444444444444444,
              "#bd3786"
             ],
             [
              0.5555555555555556,
              "#d8576b"
             ],
             [
              0.6666666666666666,
              "#ed7953"
             ],
             [
              0.7777777777777778,
              "#fb9f3a"
             ],
             [
              0.8888888888888888,
              "#fdca26"
             ],
             [
              1,
              "#f0f921"
             ]
            ],
            "type": "histogram2dcontour"
           }
          ],
          "mesh3d": [
           {
            "colorbar": {
             "outlinewidth": 0,
             "ticks": ""
            },
            "type": "mesh3d"
           }
          ],
          "parcoords": [
           {
            "line": {
             "colorbar": {
              "outlinewidth": 0,
              "ticks": ""
             }
            },
            "type": "parcoords"
           }
          ],
          "pie": [
           {
            "automargin": true,
            "type": "pie"
           }
          ],
          "scatter": [
           {
            "marker": {
             "colorbar": {
              "outlinewidth": 0,
              "ticks": ""
             }
            },
            "type": "scatter"
           }
          ],
          "scatter3d": [
           {
            "line": {
             "colorbar": {
              "outlinewidth": 0,
              "ticks": ""
             }
            },
            "marker": {
             "colorbar": {
              "outlinewidth": 0,
              "ticks": ""
             }
            },
            "type": "scatter3d"
           }
          ],
          "scattercarpet": [
           {
            "marker": {
             "colorbar": {
              "outlinewidth": 0,
              "ticks": ""
             }
            },
            "type": "scattercarpet"
           }
          ],
          "scattergeo": [
           {
            "marker": {
             "colorbar": {
              "outlinewidth": 0,
              "ticks": ""
             }
            },
            "type": "scattergeo"
           }
          ],
          "scattergl": [
           {
            "marker": {
             "colorbar": {
              "outlinewidth": 0,
              "ticks": ""
             }
            },
            "type": "scattergl"
           }
          ],
          "scattermapbox": [
           {
            "marker": {
             "colorbar": {
              "outlinewidth": 0,
              "ticks": ""
             }
            },
            "type": "scattermapbox"
           }
          ],
          "scatterpolar": [
           {
            "marker": {
             "colorbar": {
              "outlinewidth": 0,
              "ticks": ""
             }
            },
            "type": "scatterpolar"
           }
          ],
          "scatterpolargl": [
           {
            "marker": {
             "colorbar": {
              "outlinewidth": 0,
              "ticks": ""
             }
            },
            "type": "scatterpolargl"
           }
          ],
          "scatterternary": [
           {
            "marker": {
             "colorbar": {
              "outlinewidth": 0,
              "ticks": ""
             }
            },
            "type": "scatterternary"
           }
          ],
          "surface": [
           {
            "colorbar": {
             "outlinewidth": 0,
             "ticks": ""
            },
            "colorscale": [
             [
              0,
              "#0d0887"
             ],
             [
              0.1111111111111111,
              "#46039f"
             ],
             [
              0.2222222222222222,
              "#7201a8"
             ],
             [
              0.3333333333333333,
              "#9c179e"
             ],
             [
              0.4444444444444444,
              "#bd3786"
             ],
             [
              0.5555555555555556,
              "#d8576b"
             ],
             [
              0.6666666666666666,
              "#ed7953"
             ],
             [
              0.7777777777777778,
              "#fb9f3a"
             ],
             [
              0.8888888888888888,
              "#fdca26"
             ],
             [
              1,
              "#f0f921"
             ]
            ],
            "type": "surface"
           }
          ],
          "table": [
           {
            "cells": {
             "fill": {
              "color": "#EBF0F8"
             },
             "line": {
              "color": "white"
             }
            },
            "header": {
             "fill": {
              "color": "#C8D4E3"
             },
             "line": {
              "color": "white"
             }
            },
            "type": "table"
           }
          ]
         },
         "layout": {
          "annotationdefaults": {
           "arrowcolor": "#2a3f5f",
           "arrowhead": 0,
           "arrowwidth": 1
          },
          "coloraxis": {
           "colorbar": {
            "outlinewidth": 0,
            "ticks": ""
           }
          },
          "colorscale": {
           "diverging": [
            [
             0,
             "#8e0152"
            ],
            [
             0.1,
             "#c51b7d"
            ],
            [
             0.2,
             "#de77ae"
            ],
            [
             0.3,
             "#f1b6da"
            ],
            [
             0.4,
             "#fde0ef"
            ],
            [
             0.5,
             "#f7f7f7"
            ],
            [
             0.6,
             "#e6f5d0"
            ],
            [
             0.7,
             "#b8e186"
            ],
            [
             0.8,
             "#7fbc41"
            ],
            [
             0.9,
             "#4d9221"
            ],
            [
             1,
             "#276419"
            ]
           ],
           "sequential": [
            [
             0,
             "#0d0887"
            ],
            [
             0.1111111111111111,
             "#46039f"
            ],
            [
             0.2222222222222222,
             "#7201a8"
            ],
            [
             0.3333333333333333,
             "#9c179e"
            ],
            [
             0.4444444444444444,
             "#bd3786"
            ],
            [
             0.5555555555555556,
             "#d8576b"
            ],
            [
             0.6666666666666666,
             "#ed7953"
            ],
            [
             0.7777777777777778,
             "#fb9f3a"
            ],
            [
             0.8888888888888888,
             "#fdca26"
            ],
            [
             1,
             "#f0f921"
            ]
           ],
           "sequentialminus": [
            [
             0,
             "#0d0887"
            ],
            [
             0.1111111111111111,
             "#46039f"
            ],
            [
             0.2222222222222222,
             "#7201a8"
            ],
            [
             0.3333333333333333,
             "#9c179e"
            ],
            [
             0.4444444444444444,
             "#bd3786"
            ],
            [
             0.5555555555555556,
             "#d8576b"
            ],
            [
             0.6666666666666666,
             "#ed7953"
            ],
            [
             0.7777777777777778,
             "#fb9f3a"
            ],
            [
             0.8888888888888888,
             "#fdca26"
            ],
            [
             1,
             "#f0f921"
            ]
           ]
          },
          "colorway": [
           "#636efa",
           "#EF553B",
           "#00cc96",
           "#ab63fa",
           "#FFA15A",
           "#19d3f3",
           "#FF6692",
           "#B6E880",
           "#FF97FF",
           "#FECB52"
          ],
          "font": {
           "color": "#2a3f5f"
          },
          "geo": {
           "bgcolor": "white",
           "lakecolor": "white",
           "landcolor": "#E5ECF6",
           "showlakes": true,
           "showland": true,
           "subunitcolor": "white"
          },
          "hoverlabel": {
           "align": "left"
          },
          "hovermode": "closest",
          "mapbox": {
           "style": "light"
          },
          "paper_bgcolor": "white",
          "plot_bgcolor": "#E5ECF6",
          "polar": {
           "angularaxis": {
            "gridcolor": "white",
            "linecolor": "white",
            "ticks": ""
           },
           "bgcolor": "#E5ECF6",
           "radialaxis": {
            "gridcolor": "white",
            "linecolor": "white",
            "ticks": ""
           }
          },
          "scene": {
           "xaxis": {
            "backgroundcolor": "#E5ECF6",
            "gridcolor": "white",
            "gridwidth": 2,
            "linecolor": "white",
            "showbackground": true,
            "ticks": "",
            "zerolinecolor": "white"
           },
           "yaxis": {
            "backgroundcolor": "#E5ECF6",
            "gridcolor": "white",
            "gridwidth": 2,
            "linecolor": "white",
            "showbackground": true,
            "ticks": "",
            "zerolinecolor": "white"
           },
           "zaxis": {
            "backgroundcolor": "#E5ECF6",
            "gridcolor": "white",
            "gridwidth": 2,
            "linecolor": "white",
            "showbackground": true,
            "ticks": "",
            "zerolinecolor": "white"
           }
          },
          "shapedefaults": {
           "line": {
            "color": "#2a3f5f"
           }
          },
          "ternary": {
           "aaxis": {
            "gridcolor": "white",
            "linecolor": "white",
            "ticks": ""
           },
           "baxis": {
            "gridcolor": "white",
            "linecolor": "white",
            "ticks": ""
           },
           "bgcolor": "#E5ECF6",
           "caxis": {
            "gridcolor": "white",
            "linecolor": "white",
            "ticks": ""
           }
          },
          "title": {
           "x": 0.05
          },
          "xaxis": {
           "automargin": true,
           "gridcolor": "white",
           "linecolor": "white",
           "ticks": "",
           "title": {
            "standoff": 15
           },
           "zerolinecolor": "white",
           "zerolinewidth": 2
          },
          "yaxis": {
           "automargin": true,
           "gridcolor": "white",
           "linecolor": "white",
           "ticks": "",
           "title": {
            "standoff": 15
           },
           "zerolinecolor": "white",
           "zerolinewidth": 2
          }
         }
        },
        "title": {
         "font": {
          "color": "#4D5663"
         },
         "text": "Wing Back - Support"
        },
        "xaxis": {
         "gridcolor": "#E1E5ED",
         "showgrid": true,
         "tickfont": {
          "color": "#4D5663"
         },
         "title": {
          "font": {
           "color": "#4D5663"
          },
          "text": "Dribbles/90"
         },
         "zerolinecolor": "#E1E5ED"
        },
        "yaxis": {
         "gridcolor": "#E1E5ED",
         "showgrid": true,
         "tickfont": {
          "color": "#4D5663"
         },
         "title": {
          "font": {
           "color": "#4D5663"
          },
          "text": "Cross Completion %"
         },
         "zerolinecolor": "#E1E5ED"
        }
       }
      },
      "text/html": [
       "<div>\n",
       "        \n",
       "        \n",
       "            <div id=\"d56bd78d-8781-46c1-9b0a-aad7c36541f0\" class=\"plotly-graph-div\" style=\"height:525px; width:100%;\"></div>\n",
       "            <script type=\"text/javascript\">\n",
       "                require([\"plotly\"], function(Plotly) {\n",
       "                    window.PLOTLYENV=window.PLOTLYENV || {};\n",
       "                    window.PLOTLYENV.BASE_URL='https://plot.ly';\n",
       "                    \n",
       "                if (document.getElementById(\"d56bd78d-8781-46c1-9b0a-aad7c36541f0\")) {\n",
       "                    Plotly.newPlot(\n",
       "                        'd56bd78d-8781-46c1-9b0a-aad7c36541f0',\n",
       "                        [{\"line\": {\"color\": \"rgba(255, 153, 51, 1.0)\", \"dash\": \"solid\", \"shape\": \"linear\", \"width\": 1.3}, \"marker\": {\"size\": 10, \"symbol\": \"circle\"}, \"mode\": \"markers\", \"name\": \"Cr C/A\", \"text\": [\"Oskar Repka\", \"Marcel Mehlem\", \"Jessie Guera Djou\", \"Andjelo Kacavenda\", \"Michal Ozga\", \"Josip Zeljkovic\", \"Lukasz Duszkiewicz\", \"Bartlomiej Gajda\", \"Aleksa Pejic\", \"Daniel Pospisil\", \"Jakov Basic\", \"Robert Mandrysz\", \"Sasa Tomanovic\", \"Sebastian Duda\", \"Ivan Jovanovic\", \"Duje Medak\", \"Dominik Siwinski\", \"Arkadiusz Kozlowski\", \"Fanol P\\u00c3\\u00abrdedaj\", \"Kamil Niewiadomski\", \"Lukasz Mozler\", \"Haris Memic\", \"Kristijan Jakic\", \"Filip Tolic\", \"Jakub Kisiel\", \"Dawid Kisly\", \"Taras Romanchuk\", \"Aleksander Slezak\", \"Tomasz Owczarek\", \"Richie Smallwood\", \"Mateusz Stepien\", \"Josip Bauk\", \"Domagoj Perica\", \"Uros Filipovic\", \"Stefan Velickovic\", \"Filip Sredojevic\", \"Radoslaw Kaminski\", \"Alexander Fuchs\", \"Tomas Huk\", \"Wojciech Kaminski\", \"Kasim Adams\", \"Mateusz Madzia\", \"Sebastian Kopec\", \"Jovan Simic\", \"Antonio Asanovic\", \"Marko Labovic\", \"Hubert Molski\", \"Hrvoje Dzijan\", \"Amos Youga\", \"Mario Erb\", \"Fabio Daprel\\u00c3\", \"Kresimir Jelic\", \"Jakob Johansson\", \"Liam Gordon\", \"Jakub Hric\", \"Damian Koziel\", \"Malcom Edjouma\", \"Piotr Wujec\", \"Donald Molls\", \"Luka Pavkovic\", \"Norbert Radkiewicz\", \"Danilo Wiebe\", \"Kristi Qose\", \"Nikola Puzic\", \"Radoslaw Kursa\", \"Jonas Bager\", \"Jon Flanagan\", \"Vuk Mitosevic\", \"Tom Hateley\", \"Sasa Balic\", \"Mohamed Loua\", \"Dawid Bialek\", \"Ben Thompson\", \"Pawel Kohut\", \"Daniel Haritonov\", \"Andrej Causic\", \"Sebastian Smialek\", \"Luka Miljevic\", \"Andrzej Korytek\", \"Mario Cuic\", \"Lubomir Satka\", \"Vukasin Krstic\", \"Peter Drobnak\", \"Marko Filipovic\", \"Martin Vukorepa\", \"Nicklas Shipnoski\", \"Joey Pelupessy\", \"Antonio Mrkovic\", \"Kamal Bafounta\", \"Adrian Liberacki\", \"Tevin Ihrig\", \"Sandi Lovric\", \"Patrick Wolfgang Kapp\", \"Ivan Roca\", \"Karol Drwecki\", \"Zlatko Ilicic\", \"Luka Cakarun\", \"Tan Jiajie\", \"Domagoj Zigri\", \"Casper Elderman\", \"Samuel Lengle\", \"Luka Cankovic\", \"Kenny Dougall\", \"Aur\\u00c3\\u00a9lien Nguiamba\", \"Fahri Akyol\", \"Andrija Crnadak\", \"Grzegorz Wawrzynski\", \"Julian Rieckmann\", \"Leandro\", \"Milos Brajovic\", \"Nathan Baker\", \"Matthias Rahn\", \"Petar Mitic\", \"Dusan Stevanovic\", \"Jan Janik\", \"Fran Tomek\", \"Tomasz Lewandowski\", \"Mateusz Dlugolecki\", \"Pawel Baranowski\", \"David Jablonsky\", \"Adam Mesjasz\", \"Oliver Praznovsky\", \"Florian Egerer\", \"Maxim Kventser\", \"Nikola Bjelanovic\", \"Bojan Cigulajkic\", \"Philip Heise\", \"Thomas Haas\", \"Milan Janjic\", \"Max Dombrowka\", \"Ervin Kacar\", \"\\u00c3\\u0093scar Gil\", \"Maxime Le Marchand\", \"Jan L\\u00c3\\u00b6hmannsr\\u00c3\\u00b6ben\", \"Andrzej Kloda\", \"Adrian Polanski\", \"Ram\\u00c3\\u00b3n\", \"Jan Sieracki\", \"Dusan Jokovic\", \"Daniel Dziwniel\", \"Patryk Wilk\", \"Sebastian Zalepa\", \"Jan Sterba\", \"Stefan Draskovic\", \"Damian Garbacik\", \"Bartosz Kopacz\", \"Szymon Kobeszko\", \"Massadio Ha\\u00c3\\u00afdara\", \"Manuel Martic\", \"Filip Bainovic\", \"Adrian Niewiadomski\", \"Marcin Mackowiak\", \"Pierre Fassnacht\", \"Michael Heinloth\", \"Nenad Kocovic\", \"Miladin Stevanovic\", \"Jakub Pruzanin\", \"Bartlomiej Mruk\", \"Herbert Paul\", \"Donatas Nakrosius\", \"Ivan Zgrablic\", \"Robin Urban\", \"Kacper Gorski\", \"Adrian Filipiak\", \"Adrian Purzycki\", \"Kostas Triantafyllopoulos\", \"Aleksandar Bjelica\", \"Tomas Petrasek\", \"Miquel Nelom\", \"Koen Weuts\", \"Aleksandar Petrovic\", \"Marcin Dabrowski\", \"Niko Datkovic\", \"Michal Zieba\", \"Rafal Ostrowski\", \"Ivan Tomac\", \"David Urban\", \"Andrej Startsev\", \"Nemanja Vidic\", \"Petar Botica\", \"Bojan Gocanin\", \"Fabian Holthaus\", \"Tim H\\u00c3\\u00a4u\\u00c3\\u009fler\", \"Mikkel Kirkeskov\", \"Ovidiu Popescu\", \"Iliya Gruev\", \"Filip Jovic\", \"Douglas Bergqvist\", \"Marcin Sudy\", \"Mart Ristl\", \"Lovro Sindik\", \"Mladen Micanovic\", \"Blazej Cyfert\", \"Luca Zander\", \"Igor Sapala\", \"Jan Sobocinski\", \"Artur Gac\", \"Kacper Jozefiak\", \"Zvezdan Djordjilovic\", \"David Bumberger\", \"Ivan Bosnjak\", \"Michal Wrzesniewski\", \"Aleksandar Ignjovski\", \"Turgay Gemicibasi\", \"Nenad Kiso\", \"Lukasz Sztylka\", \"Noboru Shimura\", \"Derrick Williams\", \"Dino Stiglec\", \"Kyriakos Savvidis\", \"Niklas Landgraf\", \"Tomasz Wojcinowicz\", \"Mateusz Pienczak\", \"Jaroslaw Kubicki\", \"Patrick Kammerbauer\", \"Luis G\\u00c3\\u00b6rlich\", \"Chris Wolf\", \"Josip Sutalo\", \"Jakub Zima\", \"Ernest Dzieciol\", \"Norbert Myszka\", \"Robin Flu\\u00c3\\u009f\", \"Nemanja Milovanovic\", \"Syam Ben Youssef\", \"Adrian Rybak\", \"Rafal Remisz\", \"Bartlomiej Kasprzak\", \"Miroslav Bogosavac\", \"Dragoljub Srnic\", \"Kaan Kurt\", \"Ivan Runje\", \"Sonny Bradley\", \"Adam Pazio\", \"Ariel Borysiuk\", \"Krystian Stolarczyk\", \"Damian Kostkowski\", \"Dominik Nothnagel\", \"Michel St\\u00c3\\u00b6cker\", \"Ryan Malone\", \"Milan Makaric\", \"Matej Hybs\", \"Sven Botman\", \"Piotr Bartloszewski\", \"Mariusz Holik\", \"Mateo Jaksic\", \"Ashton G\\u00c3\\u00b6tz\", \"Marcos Rodr\\u00c3\\u00adguez\", \"Jakub Swiecinski\", \"Marius Gr\\u00c3\\u00b6sch\", \"Aleksa Jovanovic\", \"Aleksandar Varjacic\", \"Mirko Djermanovic\", \"Igor Biedrzycki\", \"Lukas Duriska\", \"Julien Tadrowski\", \"Jakub Niewiadomski\", \"Philipp Riese\", \"Bartlomiej Lorenc\", \"Julian Wolff\", \"Adrian Bielawski\", \"Filip Zderic\", \"Eric Weeger\", \"Bartosz Kieliba\", \"Filp Ceko\", \"Ariel Mosor\", \"Srdjan Grabez\", \"Bozidar Petrovic\", \"Benjamin Himmel\", \"Marco Komenda\", \"Wiktor Nahrebecki\", \"Niclas Stierlin\", null], \"type\": \"scatter\", \"x\": [\"0.16\", \"0.64\", \"0.60\", \"0.11\", \"-\", \"0.12\", \"0.26\", \"-\", \"0.12\", \"-\", \"0.91\", \"0.18\", \"0.63\", \"0.20\", \"0.31\", \"-\", \"0.06\", \"-\", \"0.50\", \"0.19\", \"0.37\", \"0.48\", \"-\", \"0.19\", \"0.25\", \"-\", \"0.22\", \"-\", \"-\", \"0.12\", \"-\", \"-\", \"0.05\", \"-\", \"0.46\", \"-\", \"-\", \"0.09\", \"0.20\", \"0.05\", \"-\", \"-\", \"-\", \"-\", \"0.27\", \"0.05\", \"0.14\", \"-\", \"0.28\", \"-\", \"-\", \"-\", \"0.56\", \"-\", \"-\", \"-\", \"0.83\", \"-\", \"0.47\", \"-\", \"-\", \"0.12\", \"0.16\", \"-\", \"-\", \"0.07\", \"0.33\", \"0.26\", \"0.38\", \"0.09\", \"0.54\", \"0.55\", \"1.25\", \"0.19\", \"0.53\", \"-\", \"-\", \"-\", \"-\", \"0.08\", \"-\", \"-\", \"0.97\", \"0.35\", \"-\", \"2.93\", \"0.37\", \"-\", \"-\", \"0.47\", \"-\", \"0.32\", \"0.21\", \"0.51\", \"-\", \"0.94\", \"-\", \"0.08\", \"0.42\", \"0.09\", \"0.11\", \"-\", \"0.13\", \"-\", \"0.11\", \"0.55\", \"0.37\", \"0.11\", \"0.20\", \"0.27\", \"-\", \"0.05\", \"-\", \"-\", \"0.18\", \"0.07\", \"-\", \"-\", \"-\", \"-\", \"0.06\", \"0.07\", \"0.10\", \"1.12\", \"0.84\", \"0.17\", \"0.97\", \"0.42\", \"0.48\", \"0.05\", \"0.97\", \"0.08\", \"-\", \"1.14\", \"0.09\", \"0.47\", \"-\", \"0.36\", \"-\", \"2.32\", \"-\", \"-\", \"0.07\", \"0.05\", \"0.15\", \"0.87\", \"0.06\", \"2.43\", \"0.53\", \"0.17\", \"0.06\", \"-\", \"0.19\", \"0.86\", \"-\", \"0.16\", \"-\", \"0.06\", \"0.28\", \"-\", \"-\", \"-\", \"-\", \"0.12\", \"0.35\", \"-\", \"-\", \"0.04\", \"1.26\", \"0.08\", \"-\", \"0.20\", \"-\", \"0.19\", \"-\", \"0.05\", \"-\", \"0.38\", \"-\", \"-\", \"0.25\", \"1.54\", \"0.49\", \"0.19\", \"0.10\", \"0.18\", \"0.17\", \"0.07\", \"0.44\", \"-\", \"0.07\", \"0.05\", \"-\", \"1.16\", \"0.21\", \"-\", \"0.64\", \"-\", \"0.05\", \"-\", \"-\", \"-\", \"0.82\", \"0.48\", \"0.10\", \"0.26\", \"0.57\", \"-\", \"0.27\", \"0.14\", \"1.70\", \"-\", \"-\", \"0.73\", \"1.60\", \"0.55\", \"-\", \"-\", \"0.08\", \"-\", \"-\", \"0.23\", \"0.22\", \"0.07\", \"-\", \"-\", \"0.83\", \"1.19\", \"-\", \"0.84\", \"0.05\", \"-\", \"0.06\", \"0.11\", \"-\", \"-\", \"-\", \"-\", \"-\", \"0.34\", \"1.26\", \"0.11\", \"-\", \"0.07\", \"0.14\", \"0.27\", \"0.16\", \"0.99\", \"-\", \"0.05\", \"0.34\", \"0.18\", \"-\", \"0.06\", \"-\", \"1.41\", \"0.07\", \"-\", \"-\", \"1.16\", \"1.27\", \"0.48\", \"0.06\", \"0.72\", \"0.08\", \"0.14\", \"0.94\", \"0.11\", \"0.05\", \"0.26\", \"0.10\", null], \"y\": [\"0%\", \"22%\", \"13%\", \"33%\", \"0%\", \"28%\", \"34%\", \"0%\", \"0%\", \"0%\", \"33%\", \"37%\", \"36%\", \"19%\", \"23%\", \"5%\", \"34%\", \"0%\", \"36%\", \"0%\", \"25%\", \"35%\", \"28%\", \"32%\", \"26%\", \"5%\", \"26%\", \"0%\", \"0%\", \"19%\", \"0%\", \"0%\", \"30%\", \"35%\", \"40%\", \"0%\", \"5%\", \"25%\", \"28%\", \"22%\", \"0%\", \"0%\", \"0%\", \"0%\", \"0%\", \"12%\", \"0%\", \"0%\", \"0%\", \"0%\", \"0%\", \"0%\", \"28%\", \"0%\", \"0%\", \"15%\", \"0%\", \"0%\", \"16%\", \"0%\", \"0%\", \"0%\", \"0%\", \"36%\", \"0%\", \"6%\", \"35%\", \"40%\", \"32%\", \"8%\", \"22%\", \"29%\", \"0%\", \"14%\", \"30%\", \"0%\", \"5%\", \"0%\", \"0%\", \"11%\", \"0%\", \"0%\", \"19%\", \"7%\", \"0%\", \"18%\", \"21%\", \"32%\", \"0%\", \"33%\", \"0%\", \"25%\", \"11%\", \"5%\", \"36%\", \"33%\", \"0%\", \"6%\", \"33%\", \"0%\", \"30%\", \"0%\", \"40%\", \"0%\", \"4%\", \"36%\", \"29%\", \"0%\", \"26%\", \"30%\", \"0%\", \"0%\", \"39%\", \"0%\", \"0%\", \"19%\", \"0%\", \"9%\", \"0%\", \"0%\", \"19%\", \"0%\", \"28%\", \"18%\", \"34%\", \"27%\", \"26%\", \"41%\", \"25%\", \"32%\", \"26%\", \"6%\", \"0%\", \"21%\", \"26%\", \"32%\", \"0%\", \"25%\", \"0%\", \"37%\", \"0%\", \"0%\", \"0%\", \"33%\", \"19%\", \"25%\", \"33%\", \"31%\", \"37%\", \"36%\", \"5%\", \"0%\", \"26%\", \"34%\", \"26%\", \"26%\", \"0%\", \"5%\", \"8%\", \"0%\", \"0%\", \"0%\", \"0%\", \"40%\", \"29%\", \"0%\", \"0%\", \"0%\", \"39%\", \"0%\", \"0%\", \"26%\", \"0%\", \"29%\", \"9%\", \"0%\", \"0%\", \"36%\", \"0%\", \"0%\", \"28%\", \"33%\", \"39%\", \"33%\", \"36%\", \"4%\", \"26%\", \"0%\", \"28%\", \"38%\", \"24%\", \"35%\", \"0%\", \"30%\", \"5%\", \"0%\", \"41%\", \"0%\", \"28%\", \"0%\", \"0%\", \"0%\", \"33%\", \"29%\", \"11%\", \"32%\", \"16%\", \"6%\", \"34%\", \"33%\", \"32%\", \"0%\", \"0%\", \"35%\", \"25%\", \"36%\", \"37%\", \"0%\", \"8%\", \"5%\", \"0%\", \"24%\", \"14%\", \"0%\", \"0%\", \"0%\", \"36%\", \"36%\", \"36%\", \"40%\", \"27%\", \"0%\", \"41%\", \"40%\", \"0%\", \"0%\", \"0%\", \"0%\", \"12%\", \"32%\", \"33%\", \"0%\", \"16%\", \"0%\", \"24%\", \"34%\", \"34%\", \"31%\", \"0%\", \"0%\", \"35%\", \"34%\", \"0%\", \"0%\", \"0%\", \"35%\", \"0%\", \"32%\", \"0%\", \"32%\", \"31%\", \"37%\", \"0%\", \"34%\", \"6%\", \"32%\", \"38%\", \"39%\", \"10%\", \"36%\", \"26%\", \"\"]}],\n",
       "                        {\"legend\": {\"bgcolor\": \"#F5F6F9\", \"font\": {\"color\": \"#4D5663\"}}, \"paper_bgcolor\": \"#F5F6F9\", \"plot_bgcolor\": \"#F5F6F9\", \"template\": {\"data\": {\"bar\": [{\"error_x\": {\"color\": \"#2a3f5f\"}, \"error_y\": {\"color\": \"#2a3f5f\"}, \"marker\": {\"line\": {\"color\": \"#E5ECF6\", \"width\": 0.5}}, \"type\": \"bar\"}], \"barpolar\": [{\"marker\": {\"line\": {\"color\": \"#E5ECF6\", \"width\": 0.5}}, \"type\": \"barpolar\"}], \"carpet\": [{\"aaxis\": {\"endlinecolor\": \"#2a3f5f\", \"gridcolor\": \"white\", \"linecolor\": \"white\", \"minorgridcolor\": \"white\", \"startlinecolor\": \"#2a3f5f\"}, \"baxis\": {\"endlinecolor\": \"#2a3f5f\", \"gridcolor\": \"white\", \"linecolor\": \"white\", \"minorgridcolor\": \"white\", \"startlinecolor\": \"#2a3f5f\"}, \"type\": \"carpet\"}], \"choropleth\": [{\"colorbar\": {\"outlinewidth\": 0, \"ticks\": \"\"}, \"type\": \"choropleth\"}], \"contour\": [{\"colorbar\": {\"outlinewidth\": 0, \"ticks\": \"\"}, \"colorscale\": [[0.0, \"#0d0887\"], [0.1111111111111111, \"#46039f\"], [0.2222222222222222, \"#7201a8\"], [0.3333333333333333, \"#9c179e\"], [0.4444444444444444, \"#bd3786\"], [0.5555555555555556, \"#d8576b\"], [0.6666666666666666, \"#ed7953\"], [0.7777777777777778, \"#fb9f3a\"], [0.8888888888888888, \"#fdca26\"], [1.0, \"#f0f921\"]], \"type\": \"contour\"}], \"contourcarpet\": [{\"colorbar\": {\"outlinewidth\": 0, \"ticks\": \"\"}, \"type\": \"contourcarpet\"}], \"heatmap\": [{\"colorbar\": {\"outlinewidth\": 0, \"ticks\": \"\"}, \"colorscale\": [[0.0, \"#0d0887\"], [0.1111111111111111, \"#46039f\"], [0.2222222222222222, \"#7201a8\"], [0.3333333333333333, \"#9c179e\"], [0.4444444444444444, \"#bd3786\"], [0.5555555555555556, \"#d8576b\"], [0.6666666666666666, \"#ed7953\"], [0.7777777777777778, \"#fb9f3a\"], [0.8888888888888888, \"#fdca26\"], [1.0, \"#f0f921\"]], \"type\": \"heatmap\"}], \"heatmapgl\": [{\"colorbar\": {\"outlinewidth\": 0, \"ticks\": \"\"}, \"colorscale\": [[0.0, \"#0d0887\"], [0.1111111111111111, \"#46039f\"], [0.2222222222222222, \"#7201a8\"], [0.3333333333333333, \"#9c179e\"], [0.4444444444444444, \"#bd3786\"], [0.5555555555555556, \"#d8576b\"], [0.6666666666666666, \"#ed7953\"], [0.7777777777777778, \"#fb9f3a\"], [0.8888888888888888, \"#fdca26\"], [1.0, \"#f0f921\"]], \"type\": \"heatmapgl\"}], \"histogram\": [{\"marker\": {\"colorbar\": {\"outlinewidth\": 0, \"ticks\": \"\"}}, \"type\": \"histogram\"}], \"histogram2d\": [{\"colorbar\": {\"outlinewidth\": 0, \"ticks\": \"\"}, \"colorscale\": [[0.0, \"#0d0887\"], [0.1111111111111111, \"#46039f\"], [0.2222222222222222, \"#7201a8\"], [0.3333333333333333, \"#9c179e\"], [0.4444444444444444, \"#bd3786\"], [0.5555555555555556, \"#d8576b\"], [0.6666666666666666, \"#ed7953\"], [0.7777777777777778, \"#fb9f3a\"], [0.8888888888888888, \"#fdca26\"], [1.0, \"#f0f921\"]], \"type\": \"histogram2d\"}], \"histogram2dcontour\": [{\"colorbar\": {\"outlinewidth\": 0, \"ticks\": \"\"}, \"colorscale\": [[0.0, \"#0d0887\"], [0.1111111111111111, \"#46039f\"], [0.2222222222222222, \"#7201a8\"], [0.3333333333333333, \"#9c179e\"], [0.4444444444444444, \"#bd3786\"], [0.5555555555555556, \"#d8576b\"], [0.6666666666666666, \"#ed7953\"], [0.7777777777777778, \"#fb9f3a\"], [0.8888888888888888, \"#fdca26\"], [1.0, \"#f0f921\"]], \"type\": \"histogram2dcontour\"}], \"mesh3d\": [{\"colorbar\": {\"outlinewidth\": 0, \"ticks\": \"\"}, \"type\": \"mesh3d\"}], \"parcoords\": [{\"line\": {\"colorbar\": {\"outlinewidth\": 0, \"ticks\": \"\"}}, \"type\": \"parcoords\"}], \"pie\": [{\"automargin\": true, \"type\": \"pie\"}], \"scatter\": [{\"marker\": {\"colorbar\": {\"outlinewidth\": 0, \"ticks\": \"\"}}, \"type\": \"scatter\"}], \"scatter3d\": [{\"line\": {\"colorbar\": {\"outlinewidth\": 0, \"ticks\": \"\"}}, \"marker\": {\"colorbar\": {\"outlinewidth\": 0, \"ticks\": \"\"}}, \"type\": \"scatter3d\"}], \"scattercarpet\": [{\"marker\": {\"colorbar\": {\"outlinewidth\": 0, \"ticks\": \"\"}}, \"type\": \"scattercarpet\"}], \"scattergeo\": [{\"marker\": {\"colorbar\": {\"outlinewidth\": 0, \"ticks\": \"\"}}, \"type\": \"scattergeo\"}], \"scattergl\": [{\"marker\": {\"colorbar\": {\"outlinewidth\": 0, \"ticks\": \"\"}}, \"type\": \"scattergl\"}], \"scattermapbox\": [{\"marker\": {\"colorbar\": {\"outlinewidth\": 0, \"ticks\": \"\"}}, \"type\": \"scattermapbox\"}], \"scatterpolar\": [{\"marker\": {\"colorbar\": {\"outlinewidth\": 0, \"ticks\": \"\"}}, \"type\": \"scatterpolar\"}], \"scatterpolargl\": [{\"marker\": {\"colorbar\": {\"outlinewidth\": 0, \"ticks\": \"\"}}, \"type\": \"scatterpolargl\"}], \"scatterternary\": [{\"marker\": {\"colorbar\": {\"outlinewidth\": 0, \"ticks\": \"\"}}, \"type\": \"scatterternary\"}], \"surface\": [{\"colorbar\": {\"outlinewidth\": 0, \"ticks\": \"\"}, \"colorscale\": [[0.0, \"#0d0887\"], [0.1111111111111111, \"#46039f\"], [0.2222222222222222, \"#7201a8\"], [0.3333333333333333, \"#9c179e\"], [0.4444444444444444, \"#bd3786\"], [0.5555555555555556, \"#d8576b\"], [0.6666666666666666, \"#ed7953\"], [0.7777777777777778, \"#fb9f3a\"], [0.8888888888888888, \"#fdca26\"], [1.0, \"#f0f921\"]], \"type\": \"surface\"}], \"table\": [{\"cells\": {\"fill\": {\"color\": \"#EBF0F8\"}, \"line\": {\"color\": \"white\"}}, \"header\": {\"fill\": {\"color\": \"#C8D4E3\"}, \"line\": {\"color\": \"white\"}}, \"type\": \"table\"}]}, \"layout\": {\"annotationdefaults\": {\"arrowcolor\": \"#2a3f5f\", \"arrowhead\": 0, \"arrowwidth\": 1}, \"coloraxis\": {\"colorbar\": {\"outlinewidth\": 0, \"ticks\": \"\"}}, \"colorscale\": {\"diverging\": [[0, \"#8e0152\"], [0.1, \"#c51b7d\"], [0.2, \"#de77ae\"], [0.3, \"#f1b6da\"], [0.4, \"#fde0ef\"], [0.5, \"#f7f7f7\"], [0.6, \"#e6f5d0\"], [0.7, \"#b8e186\"], [0.8, \"#7fbc41\"], [0.9, \"#4d9221\"], [1, \"#276419\"]], \"sequential\": [[0.0, \"#0d0887\"], [0.1111111111111111, \"#46039f\"], [0.2222222222222222, \"#7201a8\"], [0.3333333333333333, \"#9c179e\"], [0.4444444444444444, \"#bd3786\"], [0.5555555555555556, \"#d8576b\"], [0.6666666666666666, \"#ed7953\"], [0.7777777777777778, \"#fb9f3a\"], [0.8888888888888888, \"#fdca26\"], [1.0, \"#f0f921\"]], \"sequentialminus\": [[0.0, \"#0d0887\"], [0.1111111111111111, \"#46039f\"], [0.2222222222222222, \"#7201a8\"], [0.3333333333333333, \"#9c179e\"], [0.4444444444444444, \"#bd3786\"], [0.5555555555555556, \"#d8576b\"], [0.6666666666666666, \"#ed7953\"], [0.7777777777777778, \"#fb9f3a\"], [0.8888888888888888, \"#fdca26\"], [1.0, \"#f0f921\"]]}, \"colorway\": [\"#636efa\", \"#EF553B\", \"#00cc96\", \"#ab63fa\", \"#FFA15A\", \"#19d3f3\", \"#FF6692\", \"#B6E880\", \"#FF97FF\", \"#FECB52\"], \"font\": {\"color\": \"#2a3f5f\"}, \"geo\": {\"bgcolor\": \"white\", \"lakecolor\": \"white\", \"landcolor\": \"#E5ECF6\", \"showlakes\": true, \"showland\": true, \"subunitcolor\": \"white\"}, \"hoverlabel\": {\"align\": \"left\"}, \"hovermode\": \"closest\", \"mapbox\": {\"style\": \"light\"}, \"paper_bgcolor\": \"white\", \"plot_bgcolor\": \"#E5ECF6\", \"polar\": {\"angularaxis\": {\"gridcolor\": \"white\", \"linecolor\": \"white\", \"ticks\": \"\"}, \"bgcolor\": \"#E5ECF6\", \"radialaxis\": {\"gridcolor\": \"white\", \"linecolor\": \"white\", \"ticks\": \"\"}}, \"scene\": {\"xaxis\": {\"backgroundcolor\": \"#E5ECF6\", \"gridcolor\": \"white\", \"gridwidth\": 2, \"linecolor\": \"white\", \"showbackground\": true, \"ticks\": \"\", \"zerolinecolor\": \"white\"}, \"yaxis\": {\"backgroundcolor\": \"#E5ECF6\", \"gridcolor\": \"white\", \"gridwidth\": 2, \"linecolor\": \"white\", \"showbackground\": true, \"ticks\": \"\", \"zerolinecolor\": \"white\"}, \"zaxis\": {\"backgroundcolor\": \"#E5ECF6\", \"gridcolor\": \"white\", \"gridwidth\": 2, \"linecolor\": \"white\", \"showbackground\": true, \"ticks\": \"\", \"zerolinecolor\": \"white\"}}, \"shapedefaults\": {\"line\": {\"color\": \"#2a3f5f\"}}, \"ternary\": {\"aaxis\": {\"gridcolor\": \"white\", \"linecolor\": \"white\", \"ticks\": \"\"}, \"baxis\": {\"gridcolor\": \"white\", \"linecolor\": \"white\", \"ticks\": \"\"}, \"bgcolor\": \"#E5ECF6\", \"caxis\": {\"gridcolor\": \"white\", \"linecolor\": \"white\", \"ticks\": \"\"}}, \"title\": {\"x\": 0.05}, \"xaxis\": {\"automargin\": true, \"gridcolor\": \"white\", \"linecolor\": \"white\", \"ticks\": \"\", \"title\": {\"standoff\": 15}, \"zerolinecolor\": \"white\", \"zerolinewidth\": 2}, \"yaxis\": {\"automargin\": true, \"gridcolor\": \"white\", \"linecolor\": \"white\", \"ticks\": \"\", \"title\": {\"standoff\": 15}, \"zerolinecolor\": \"white\", \"zerolinewidth\": 2}}}, \"title\": {\"font\": {\"color\": \"#4D5663\"}, \"text\": \"Wing Back - Support\"}, \"xaxis\": {\"gridcolor\": \"#E1E5ED\", \"showgrid\": true, \"tickfont\": {\"color\": \"#4D5663\"}, \"title\": {\"font\": {\"color\": \"#4D5663\"}, \"text\": \"Dribbles/90\"}, \"zerolinecolor\": \"#E1E5ED\"}, \"yaxis\": {\"gridcolor\": \"#E1E5ED\", \"showgrid\": true, \"tickfont\": {\"color\": \"#4D5663\"}, \"title\": {\"font\": {\"color\": \"#4D5663\"}, \"text\": \"Cross Completion %\"}, \"zerolinecolor\": \"#E1E5ED\"}},\n",
       "                        {\"showLink\": true, \"linkText\": \"Export to plot.ly\", \"plotlyServerURL\": \"https://plot.ly\", \"responsive\": true}\n",
       "                    ).then(function(){\n",
       "                            \n",
       "var gd = document.getElementById('d56bd78d-8781-46c1-9b0a-aad7c36541f0');\n",
       "var x = new MutationObserver(function (mutations, observer) {{\n",
       "        var display = window.getComputedStyle(gd).display;\n",
       "        if (!display || display === 'none') {{\n",
       "            console.log([gd, 'removed!']);\n",
       "            Plotly.purge(gd);\n",
       "            observer.disconnect();\n",
       "        }}\n",
       "}});\n",
       "\n",
       "// Listen for the removal of the full notebook cells\n",
       "var notebookContainer = gd.closest('#notebook-container');\n",
       "if (notebookContainer) {{\n",
       "    x.observe(notebookContainer, {childList: true});\n",
       "}}\n",
       "\n",
       "// Listen for the clearing of the current output cell\n",
       "var outputEl = gd.closest('.output');\n",
       "if (outputEl) {{\n",
       "    x.observe(outputEl, {childList: true});\n",
       "}}\n",
       "\n",
       "                        })\n",
       "                };\n",
       "                });\n",
       "            </script>\n",
       "        </div>"
      ]
     },
     "metadata": {},
     "output_type": "display_data"
    }
   ],
   "source": [
    "df.iplot(kind='scatter',x='DrbPG',y='Cr C/A',\n",
    "           mode='markers',text='Name',size=10,\n",
    "          xTitle='Dribbles/90',yTitle='Cross Completion %',title='Wing Back - Support')  "
   ]
  },
  {
   "cell_type": "code",
   "execution_count": 14,
   "metadata": {},
   "outputs": [
    {
     "data": {
      "application/vnd.plotly.v1+json": {
       "config": {
        "linkText": "Export to plot.ly",
        "plotlyServerURL": "https://plot.ly",
        "showLink": true
       },
       "data": [
        {
         "line": {
          "color": "rgba(255, 153, 51, 1.0)",
          "dash": "solid",
          "shape": "linear",
          "width": 1.3
         },
         "marker": {
          "size": 10,
          "symbol": "circle"
         },
         "mode": "markers",
         "name": "Int/90",
         "text": [
          "Oskar Repka",
          "Marcel Mehlem",
          "Jessie Guera Djou",
          "Andjelo Kacavenda",
          "Michal Ozga",
          "Josip Zeljkovic",
          "Lukasz Duszkiewicz",
          "Bartlomiej Gajda",
          "Aleksa Pejic",
          "Daniel Pospisil",
          "Jakov Basic",
          "Robert Mandrysz",
          "Sasa Tomanovic",
          "Sebastian Duda",
          "Ivan Jovanovic",
          "Duje Medak",
          "Dominik Siwinski",
          "Arkadiusz Kozlowski",
          "Fanol PÃ«rdedaj",
          "Kamil Niewiadomski",
          "Lukasz Mozler",
          "Haris Memic",
          "Kristijan Jakic",
          "Filip Tolic",
          "Jakub Kisiel",
          "Dawid Kisly",
          "Taras Romanchuk",
          "Aleksander Slezak",
          "Tomasz Owczarek",
          "Richie Smallwood",
          "Mateusz Stepien",
          "Josip Bauk",
          "Domagoj Perica",
          "Uros Filipovic",
          "Stefan Velickovic",
          "Filip Sredojevic",
          "Radoslaw Kaminski",
          "Alexander Fuchs",
          "Tomas Huk",
          "Wojciech Kaminski",
          "Kasim Adams",
          "Mateusz Madzia",
          "Sebastian Kopec",
          "Jovan Simic",
          "Antonio Asanovic",
          "Marko Labovic",
          "Hubert Molski",
          "Hrvoje Dzijan",
          "Amos Youga",
          "Mario Erb",
          "Fabio DaprelÃ",
          "Kresimir Jelic",
          "Jakob Johansson",
          "Liam Gordon",
          "Jakub Hric",
          "Damian Koziel",
          "Malcom Edjouma",
          "Piotr Wujec",
          "Donald Molls",
          "Luka Pavkovic",
          "Norbert Radkiewicz",
          "Danilo Wiebe",
          "Kristi Qose",
          "Nikola Puzic",
          "Radoslaw Kursa",
          "Jonas Bager",
          "Jon Flanagan",
          "Vuk Mitosevic",
          "Tom Hateley",
          "Sasa Balic",
          "Mohamed Loua",
          "Dawid Bialek",
          "Ben Thompson",
          "Pawel Kohut",
          "Daniel Haritonov",
          "Andrej Causic",
          "Sebastian Smialek",
          "Luka Miljevic",
          "Andrzej Korytek",
          "Mario Cuic",
          "Lubomir Satka",
          "Vukasin Krstic",
          "Peter Drobnak",
          "Marko Filipovic",
          "Martin Vukorepa",
          "Nicklas Shipnoski",
          "Joey Pelupessy",
          "Antonio Mrkovic",
          "Kamal Bafounta",
          "Adrian Liberacki",
          "Tevin Ihrig",
          "Sandi Lovric",
          "Patrick Wolfgang Kapp",
          "Ivan Roca",
          "Karol Drwecki",
          "Zlatko Ilicic",
          "Luka Cakarun",
          "Tan Jiajie",
          "Domagoj Zigri",
          "Casper Elderman",
          "Samuel Lengle",
          "Luka Cankovic",
          "Kenny Dougall",
          "AurÃ©lien Nguiamba",
          "Fahri Akyol",
          "Andrija Crnadak",
          "Grzegorz Wawrzynski",
          "Julian Rieckmann",
          "Leandro",
          "Milos Brajovic",
          "Nathan Baker",
          "Matthias Rahn",
          "Petar Mitic",
          "Dusan Stevanovic",
          "Jan Janik",
          "Fran Tomek",
          "Tomasz Lewandowski",
          "Mateusz Dlugolecki",
          "Pawel Baranowski",
          "David Jablonsky",
          "Adam Mesjasz",
          "Oliver Praznovsky",
          "Florian Egerer",
          "Maxim Kventser",
          "Nikola Bjelanovic",
          "Bojan Cigulajkic",
          "Philip Heise",
          "Thomas Haas",
          "Milan Janjic",
          "Max Dombrowka",
          "Ervin Kacar",
          "Ãscar Gil",
          "Maxime Le Marchand",
          "Jan LÃ¶hmannsrÃ¶ben",
          "Andrzej Kloda",
          "Adrian Polanski",
          "RamÃ³n",
          "Jan Sieracki",
          "Dusan Jokovic",
          "Daniel Dziwniel",
          "Patryk Wilk",
          "Sebastian Zalepa",
          "Jan Sterba",
          "Stefan Draskovic",
          "Damian Garbacik",
          "Bartosz Kopacz",
          "Szymon Kobeszko",
          "Massadio HaÃ¯dara",
          "Manuel Martic",
          "Filip Bainovic",
          "Adrian Niewiadomski",
          "Marcin Mackowiak",
          "Pierre Fassnacht",
          "Michael Heinloth",
          "Nenad Kocovic",
          "Miladin Stevanovic",
          "Jakub Pruzanin",
          "Bartlomiej Mruk",
          "Herbert Paul",
          "Donatas Nakrosius",
          "Ivan Zgrablic",
          "Robin Urban",
          "Kacper Gorski",
          "Adrian Filipiak",
          "Adrian Purzycki",
          "Kostas Triantafyllopoulos",
          "Aleksandar Bjelica",
          "Tomas Petrasek",
          "Miquel Nelom",
          "Koen Weuts",
          "Aleksandar Petrovic",
          "Marcin Dabrowski",
          "Niko Datkovic",
          "Michal Zieba",
          "Rafal Ostrowski",
          "Ivan Tomac",
          "David Urban",
          "Andrej Startsev",
          "Nemanja Vidic",
          "Petar Botica",
          "Bojan Gocanin",
          "Fabian Holthaus",
          "Tim HÃ¤uÃler",
          "Mikkel Kirkeskov",
          "Ovidiu Popescu",
          "Iliya Gruev",
          "Filip Jovic",
          "Douglas Bergqvist",
          "Marcin Sudy",
          "Mart Ristl",
          "Lovro Sindik",
          "Mladen Micanovic",
          "Blazej Cyfert",
          "Luca Zander",
          "Igor Sapala",
          "Jan Sobocinski",
          "Artur Gac",
          "Kacper Jozefiak",
          "Zvezdan Djordjilovic",
          "David Bumberger",
          "Ivan Bosnjak",
          "Michal Wrzesniewski",
          "Aleksandar Ignjovski",
          "Turgay Gemicibasi",
          "Nenad Kiso",
          "Lukasz Sztylka",
          "Noboru Shimura",
          "Derrick Williams",
          "Dino Stiglec",
          "Kyriakos Savvidis",
          "Niklas Landgraf",
          "Tomasz Wojcinowicz",
          "Mateusz Pienczak",
          "Jaroslaw Kubicki",
          "Patrick Kammerbauer",
          "Luis GÃ¶rlich",
          "Chris Wolf",
          "Josip Sutalo",
          "Jakub Zima",
          "Ernest Dzieciol",
          "Norbert Myszka",
          "Robin FluÃ",
          "Nemanja Milovanovic",
          "Syam Ben Youssef",
          "Adrian Rybak",
          "Rafal Remisz",
          "Bartlomiej Kasprzak",
          "Miroslav Bogosavac",
          "Dragoljub Srnic",
          "Kaan Kurt",
          "Ivan Runje",
          "Sonny Bradley",
          "Adam Pazio",
          "Ariel Borysiuk",
          "Krystian Stolarczyk",
          "Damian Kostkowski",
          "Dominik Nothnagel",
          "Michel StÃ¶cker",
          "Ryan Malone",
          "Milan Makaric",
          "Matej Hybs",
          "Sven Botman",
          "Piotr Bartloszewski",
          "Mariusz Holik",
          "Mateo Jaksic",
          "Ashton GÃ¶tz",
          "Marcos RodrÃ­guez",
          "Jakub Swiecinski",
          "Marius GrÃ¶sch",
          "Aleksa Jovanovic",
          "Aleksandar Varjacic",
          "Mirko Djermanovic",
          "Igor Biedrzycki",
          "Lukas Duriska",
          "Julien Tadrowski",
          "Jakub Niewiadomski",
          "Philipp Riese",
          "Bartlomiej Lorenc",
          "Julian Wolff",
          "Adrian Bielawski",
          "Filip Zderic",
          "Eric Weeger",
          "Bartosz Kieliba",
          "Filp Ceko",
          "Ariel Mosor",
          "Srdjan Grabez",
          "Bozidar Petrovic",
          "Benjamin Himmel",
          "Marco Komenda",
          "Wiktor Nahrebecki",
          "Niclas Stierlin",
          null
         ],
         "type": "scatter",
         "x": [
          3.65,
          3.86,
          4.48,
          5.44,
          4.6,
          3.23,
          3.72,
          6,
          4.1,
          4.76,
          3.83,
          3.81,
          3.52,
          4.54,
          2.39,
          3.5,
          5.04,
          5.41,
          3.31,
          4.34,
          4.35,
          2.79,
          4.1,
          4.4,
          4.25,
          3.34,
          4.31,
          5.67,
          4.91,
          4.02,
          3.77,
          4.35,
          3.39,
          3.05,
          2.45,
          6.99,
          5.41,
          3.12,
          4.51,
          5.16,
          5.62,
          5.03,
          5.85,
          6.89,
          5.59,
          3.84,
          3.87,
          4.4,
          4.63,
          4.72,
          4.47,
          7.57,
          4.67,
          5,
          3.67,
          4.69,
          4.89,
          5.44,
          2.71,
          4.95,
          3.92,
          5.81,
          4.96,
          3.03,
          4.89,
          5,
          4.34,
          3.27,
          3.79,
          5.09,
          3.4,
          3.06,
          3.04,
          2.47,
          3.61,
          4.99,
          3.31,
          5.84,
          4.7,
          5.98,
          6,
          5.14,
          3.2,
          4.14,
          6.54,
          3.16,
          3.92,
          4.44,
          4.92,
          3.95,
          5.81,
          3.56,
          5.09,
          3.1,
          4.27,
          3.64,
          5.02,
          2.53,
          4.99,
          4.08,
          3.95,
          5.35,
          3.92,
          3.02,
          3.82,
          3.05,
          4.07,
          5.81,
          4.69,
          2.96,
          6.22,
          9.18,
          3.87,
          5.07,
          4.19,
          2.95,
          6.16,
          5.16,
          5.87,
          6.98,
          4.91,
          5.45,
          3.86,
          3.94,
          2.57,
          3.03,
          2.32,
          3.24,
          4.59,
          4.48,
          2.56,
          5.11,
          5.46,
          4.17,
          5.03,
          3.89,
          4.63,
          3.36,
          5,
          2.83,
          5.71,
          6.58,
          5,
          4.09,
          5.51,
          4.27,
          4.21,
          3.8,
          4.99,
          3.46,
          4.5,
          5.53,
          4.68,
          3.08,
          4,
          4.29,
          6.46,
          4.67,
          4.45,
          5.2,
          5.93,
          5.37,
          5,
          3.4,
          2.92,
          4.96,
          5.11,
          7.44,
          1.53,
          3.84,
          4.76,
          3.13,
          6.39,
          3.73,
          4.8,
          2.85,
          7.34,
          3.57,
          4.9,
          5.27,
          4.43,
          3.24,
          3.81,
          3.99,
          1.94,
          3.81,
          3.66,
          4.99,
          4.68,
          3.89,
          2.94,
          2.99,
          4.53,
          4.34,
          3.26,
          5.54,
          2.81,
          5.97,
          3.9,
          4.03,
          3.76,
          4.61,
          2.55,
          3.83,
          4.03,
          4.74,
          3.96,
          5.17,
          3.98,
          2.69,
          2.98,
          5.74,
          4.65,
          3.18,
          3.26,
          3.33,
          3.69,
          5.54,
          5.8,
          4.4,
          4.47,
          4.19,
          3.85,
          6.69,
          4.19,
          5.23,
          2.33,
          3.75,
          1.91,
          2.32,
          4.97,
          8.53,
          3,
          3.26,
          5.37,
          5.38,
          4.11,
          5.08,
          5.15,
          3.92,
          3.65,
          5.96,
          3.06,
          4.83,
          4.02,
          3.48,
          2.49,
          3.78,
          5.67,
          4.9,
          3.84,
          2.86,
          5.12,
          5.18,
          4.85,
          3.52,
          3.59,
          4.11,
          5.86,
          3.23,
          2.33,
          3.43,
          4.97,
          3.28,
          5.13,
          3.37,
          3.88,
          3.19,
          4.77,
          3.59,
          3.89,
          null
         ],
         "y": [
          3.02,
          5.07,
          3.7,
          3.18,
          1.08,
          2.61,
          4.11,
          4.17,
          2.35,
          3.63,
          1.74,
          3.69,
          3.89,
          2.96,
          2.75,
          3.31,
          5.11,
          5.49,
          3.36,
          2.83,
          2.94,
          3.51,
          2.28,
          3.81,
          1.72,
          1.7,
          3.87,
          3.5,
          1.62,
          3.72,
          1.2,
          2.88,
          2.17,
          3.5,
          2.3,
          3.99,
          4.15,
          4.17,
          3.84,
          3.82,
          2.55,
          3.88,
          3.43,
          4.05,
          3,
          3.89,
          3.72,
          3.33,
          2.97,
          4.37,
          4.16,
          2.22,
          5.6,
          3.56,
          3,
          4.09,
          3.6,
          3.89,
          2.62,
          3.95,
          3.49,
          4.51,
          2.92,
          3.4,
          3.11,
          3.31,
          4.01,
          2.95,
          4.17,
          4.45,
          3.64,
          2.9,
          2.62,
          3.48,
          3.29,
          3.56,
          2.59,
          5.12,
          3.9,
          5.05,
          5.6,
          4.32,
          1.56,
          2.22,
          5.53,
          1.66,
          3.11,
          5.53,
          5.11,
          2.53,
          4.57,
          3.62,
          4.51,
          2.66,
          3.67,
          3.7,
          2.92,
          0.92,
          4.04,
          3.21,
          3.33,
          3.25,
          2.61,
          2.55,
          3.31,
          2.1,
          4.68,
          4.07,
          3.28,
          4.03,
          3.4,
          2.4,
          3.53,
          2.77,
          2.41,
          3.15,
          3.36,
          2.84,
          3.89,
          4.56,
          2.61,
          3.46,
          3.41,
          4,
          3.57,
          3.58,
          2.09,
          3.65,
          3.42,
          4.14,
          2.31,
          3.88,
          4.29,
          2.75,
          3.51,
          4.07,
          3.39,
          2.45,
          2.69,
          3.7,
          3.5,
          3.1,
          3.09,
          3.99,
          3.62,
          3.18,
          2.69,
          4.1,
          3.06,
          3.11,
          4.38,
          2.77,
          4.39,
          3.99,
          3.66,
          3.26,
          3.11,
          4.61,
          1.95,
          3.13,
          3.33,
          3.35,
          3.21,
          3.15,
          3.63,
          2.81,
          3.2,
          3.05,
          3.33,
          3.32,
          2.38,
          1.56,
          3.88,
          2.96,
          4.26,
          3.32,
          4.2,
          2.38,
          2.3,
          3.22,
          3.51,
          1.94,
          4.06,
          3.12,
          2.82,
          3.07,
          4.17,
          2.76,
          1.83,
          2.64,
          2.94,
          3.2,
          3.11,
          3,
          2.91,
          3.29,
          2.87,
          3.57,
          3.29,
          4.08,
          1.57,
          2.95,
          1.85,
          3.59,
          4.08,
          1.49,
          3.15,
          4.19,
          2.6,
          2.2,
          4.25,
          3.89,
          2.92,
          3,
          2.37,
          2.07,
          5.34,
          3.54,
          2.9,
          2.95,
          3.85,
          3.84,
          3.26,
          4.23,
          2.55,
          3.08,
          2.71,
          3.88,
          3.6,
          1.35,
          3.79,
          3.71,
          2.61,
          4.05,
          3.68,
          4.29,
          3.75,
          3.88,
          2.93,
          3.92,
          3.15,
          2.76,
          3.12,
          3.22,
          2.3,
          2.25,
          1.37,
          2.79,
          3.87,
          2.82,
          3.67,
          3.83,
          3.4,
          2.41,
          3.59,
          1.97,
          3.72,
          3.21,
          3,
          4.26,
          1.93,
          4.62,
          2.39,
          2.94,
          4,
          2.96,
          3.16,
          1.44,
          3.94,
          3.53,
          2.5,
          ""
         ]
        }
       ],
       "layout": {
        "legend": {
         "bgcolor": "#F5F6F9",
         "font": {
          "color": "#4D5663"
         }
        },
        "paper_bgcolor": "#F5F6F9",
        "plot_bgcolor": "#F5F6F9",
        "template": {
         "data": {
          "bar": [
           {
            "error_x": {
             "color": "#2a3f5f"
            },
            "error_y": {
             "color": "#2a3f5f"
            },
            "marker": {
             "line": {
              "color": "#E5ECF6",
              "width": 0.5
             }
            },
            "type": "bar"
           }
          ],
          "barpolar": [
           {
            "marker": {
             "line": {
              "color": "#E5ECF6",
              "width": 0.5
             }
            },
            "type": "barpolar"
           }
          ],
          "carpet": [
           {
            "aaxis": {
             "endlinecolor": "#2a3f5f",
             "gridcolor": "white",
             "linecolor": "white",
             "minorgridcolor": "white",
             "startlinecolor": "#2a3f5f"
            },
            "baxis": {
             "endlinecolor": "#2a3f5f",
             "gridcolor": "white",
             "linecolor": "white",
             "minorgridcolor": "white",
             "startlinecolor": "#2a3f5f"
            },
            "type": "carpet"
           }
          ],
          "choropleth": [
           {
            "colorbar": {
             "outlinewidth": 0,
             "ticks": ""
            },
            "type": "choropleth"
           }
          ],
          "contour": [
           {
            "colorbar": {
             "outlinewidth": 0,
             "ticks": ""
            },
            "colorscale": [
             [
              0,
              "#0d0887"
             ],
             [
              0.1111111111111111,
              "#46039f"
             ],
             [
              0.2222222222222222,
              "#7201a8"
             ],
             [
              0.3333333333333333,
              "#9c179e"
             ],
             [
              0.4444444444444444,
              "#bd3786"
             ],
             [
              0.5555555555555556,
              "#d8576b"
             ],
             [
              0.6666666666666666,
              "#ed7953"
             ],
             [
              0.7777777777777778,
              "#fb9f3a"
             ],
             [
              0.8888888888888888,
              "#fdca26"
             ],
             [
              1,
              "#f0f921"
             ]
            ],
            "type": "contour"
           }
          ],
          "contourcarpet": [
           {
            "colorbar": {
             "outlinewidth": 0,
             "ticks": ""
            },
            "type": "contourcarpet"
           }
          ],
          "heatmap": [
           {
            "colorbar": {
             "outlinewidth": 0,
             "ticks": ""
            },
            "colorscale": [
             [
              0,
              "#0d0887"
             ],
             [
              0.1111111111111111,
              "#46039f"
             ],
             [
              0.2222222222222222,
              "#7201a8"
             ],
             [
              0.3333333333333333,
              "#9c179e"
             ],
             [
              0.4444444444444444,
              "#bd3786"
             ],
             [
              0.5555555555555556,
              "#d8576b"
             ],
             [
              0.6666666666666666,
              "#ed7953"
             ],
             [
              0.7777777777777778,
              "#fb9f3a"
             ],
             [
              0.8888888888888888,
              "#fdca26"
             ],
             [
              1,
              "#f0f921"
             ]
            ],
            "type": "heatmap"
           }
          ],
          "heatmapgl": [
           {
            "colorbar": {
             "outlinewidth": 0,
             "ticks": ""
            },
            "colorscale": [
             [
              0,
              "#0d0887"
             ],
             [
              0.1111111111111111,
              "#46039f"
             ],
             [
              0.2222222222222222,
              "#7201a8"
             ],
             [
              0.3333333333333333,
              "#9c179e"
             ],
             [
              0.4444444444444444,
              "#bd3786"
             ],
             [
              0.5555555555555556,
              "#d8576b"
             ],
             [
              0.6666666666666666,
              "#ed7953"
             ],
             [
              0.7777777777777778,
              "#fb9f3a"
             ],
             [
              0.8888888888888888,
              "#fdca26"
             ],
             [
              1,
              "#f0f921"
             ]
            ],
            "type": "heatmapgl"
           }
          ],
          "histogram": [
           {
            "marker": {
             "colorbar": {
              "outlinewidth": 0,
              "ticks": ""
             }
            },
            "type": "histogram"
           }
          ],
          "histogram2d": [
           {
            "colorbar": {
             "outlinewidth": 0,
             "ticks": ""
            },
            "colorscale": [
             [
              0,
              "#0d0887"
             ],
             [
              0.1111111111111111,
              "#46039f"
             ],
             [
              0.2222222222222222,
              "#7201a8"
             ],
             [
              0.3333333333333333,
              "#9c179e"
             ],
             [
              0.4444444444444444,
              "#bd3786"
             ],
             [
              0.5555555555555556,
              "#d8576b"
             ],
             [
              0.6666666666666666,
              "#ed7953"
             ],
             [
              0.7777777777777778,
              "#fb9f3a"
             ],
             [
              0.8888888888888888,
              "#fdca26"
             ],
             [
              1,
              "#f0f921"
             ]
            ],
            "type": "histogram2d"
           }
          ],
          "histogram2dcontour": [
           {
            "colorbar": {
             "outlinewidth": 0,
             "ticks": ""
            },
            "colorscale": [
             [
              0,
              "#0d0887"
             ],
             [
              0.1111111111111111,
              "#46039f"
             ],
             [
              0.2222222222222222,
              "#7201a8"
             ],
             [
              0.3333333333333333,
              "#9c179e"
             ],
             [
              0.4444444444444444,
              "#bd3786"
             ],
             [
              0.5555555555555556,
              "#d8576b"
             ],
             [
              0.6666666666666666,
              "#ed7953"
             ],
             [
              0.7777777777777778,
              "#fb9f3a"
             ],
             [
              0.8888888888888888,
              "#fdca26"
             ],
             [
              1,
              "#f0f921"
             ]
            ],
            "type": "histogram2dcontour"
           }
          ],
          "mesh3d": [
           {
            "colorbar": {
             "outlinewidth": 0,
             "ticks": ""
            },
            "type": "mesh3d"
           }
          ],
          "parcoords": [
           {
            "line": {
             "colorbar": {
              "outlinewidth": 0,
              "ticks": ""
             }
            },
            "type": "parcoords"
           }
          ],
          "pie": [
           {
            "automargin": true,
            "type": "pie"
           }
          ],
          "scatter": [
           {
            "marker": {
             "colorbar": {
              "outlinewidth": 0,
              "ticks": ""
             }
            },
            "type": "scatter"
           }
          ],
          "scatter3d": [
           {
            "line": {
             "colorbar": {
              "outlinewidth": 0,
              "ticks": ""
             }
            },
            "marker": {
             "colorbar": {
              "outlinewidth": 0,
              "ticks": ""
             }
            },
            "type": "scatter3d"
           }
          ],
          "scattercarpet": [
           {
            "marker": {
             "colorbar": {
              "outlinewidth": 0,
              "ticks": ""
             }
            },
            "type": "scattercarpet"
           }
          ],
          "scattergeo": [
           {
            "marker": {
             "colorbar": {
              "outlinewidth": 0,
              "ticks": ""
             }
            },
            "type": "scattergeo"
           }
          ],
          "scattergl": [
           {
            "marker": {
             "colorbar": {
              "outlinewidth": 0,
              "ticks": ""
             }
            },
            "type": "scattergl"
           }
          ],
          "scattermapbox": [
           {
            "marker": {
             "colorbar": {
              "outlinewidth": 0,
              "ticks": ""
             }
            },
            "type": "scattermapbox"
           }
          ],
          "scatterpolar": [
           {
            "marker": {
             "colorbar": {
              "outlinewidth": 0,
              "ticks": ""
             }
            },
            "type": "scatterpolar"
           }
          ],
          "scatterpolargl": [
           {
            "marker": {
             "colorbar": {
              "outlinewidth": 0,
              "ticks": ""
             }
            },
            "type": "scatterpolargl"
           }
          ],
          "scatterternary": [
           {
            "marker": {
             "colorbar": {
              "outlinewidth": 0,
              "ticks": ""
             }
            },
            "type": "scatterternary"
           }
          ],
          "surface": [
           {
            "colorbar": {
             "outlinewidth": 0,
             "ticks": ""
            },
            "colorscale": [
             [
              0,
              "#0d0887"
             ],
             [
              0.1111111111111111,
              "#46039f"
             ],
             [
              0.2222222222222222,
              "#7201a8"
             ],
             [
              0.3333333333333333,
              "#9c179e"
             ],
             [
              0.4444444444444444,
              "#bd3786"
             ],
             [
              0.5555555555555556,
              "#d8576b"
             ],
             [
              0.6666666666666666,
              "#ed7953"
             ],
             [
              0.7777777777777778,
              "#fb9f3a"
             ],
             [
              0.8888888888888888,
              "#fdca26"
             ],
             [
              1,
              "#f0f921"
             ]
            ],
            "type": "surface"
           }
          ],
          "table": [
           {
            "cells": {
             "fill": {
              "color": "#EBF0F8"
             },
             "line": {
              "color": "white"
             }
            },
            "header": {
             "fill": {
              "color": "#C8D4E3"
             },
             "line": {
              "color": "white"
             }
            },
            "type": "table"
           }
          ]
         },
         "layout": {
          "annotationdefaults": {
           "arrowcolor": "#2a3f5f",
           "arrowhead": 0,
           "arrowwidth": 1
          },
          "coloraxis": {
           "colorbar": {
            "outlinewidth": 0,
            "ticks": ""
           }
          },
          "colorscale": {
           "diverging": [
            [
             0,
             "#8e0152"
            ],
            [
             0.1,
             "#c51b7d"
            ],
            [
             0.2,
             "#de77ae"
            ],
            [
             0.3,
             "#f1b6da"
            ],
            [
             0.4,
             "#fde0ef"
            ],
            [
             0.5,
             "#f7f7f7"
            ],
            [
             0.6,
             "#e6f5d0"
            ],
            [
             0.7,
             "#b8e186"
            ],
            [
             0.8,
             "#7fbc41"
            ],
            [
             0.9,
             "#4d9221"
            ],
            [
             1,
             "#276419"
            ]
           ],
           "sequential": [
            [
             0,
             "#0d0887"
            ],
            [
             0.1111111111111111,
             "#46039f"
            ],
            [
             0.2222222222222222,
             "#7201a8"
            ],
            [
             0.3333333333333333,
             "#9c179e"
            ],
            [
             0.4444444444444444,
             "#bd3786"
            ],
            [
             0.5555555555555556,
             "#d8576b"
            ],
            [
             0.6666666666666666,
             "#ed7953"
            ],
            [
             0.7777777777777778,
             "#fb9f3a"
            ],
            [
             0.8888888888888888,
             "#fdca26"
            ],
            [
             1,
             "#f0f921"
            ]
           ],
           "sequentialminus": [
            [
             0,
             "#0d0887"
            ],
            [
             0.1111111111111111,
             "#46039f"
            ],
            [
             0.2222222222222222,
             "#7201a8"
            ],
            [
             0.3333333333333333,
             "#9c179e"
            ],
            [
             0.4444444444444444,
             "#bd3786"
            ],
            [
             0.5555555555555556,
             "#d8576b"
            ],
            [
             0.6666666666666666,
             "#ed7953"
            ],
            [
             0.7777777777777778,
             "#fb9f3a"
            ],
            [
             0.8888888888888888,
             "#fdca26"
            ],
            [
             1,
             "#f0f921"
            ]
           ]
          },
          "colorway": [
           "#636efa",
           "#EF553B",
           "#00cc96",
           "#ab63fa",
           "#FFA15A",
           "#19d3f3",
           "#FF6692",
           "#B6E880",
           "#FF97FF",
           "#FECB52"
          ],
          "font": {
           "color": "#2a3f5f"
          },
          "geo": {
           "bgcolor": "white",
           "lakecolor": "white",
           "landcolor": "#E5ECF6",
           "showlakes": true,
           "showland": true,
           "subunitcolor": "white"
          },
          "hoverlabel": {
           "align": "left"
          },
          "hovermode": "closest",
          "mapbox": {
           "style": "light"
          },
          "paper_bgcolor": "white",
          "plot_bgcolor": "#E5ECF6",
          "polar": {
           "angularaxis": {
            "gridcolor": "white",
            "linecolor": "white",
            "ticks": ""
           },
           "bgcolor": "#E5ECF6",
           "radialaxis": {
            "gridcolor": "white",
            "linecolor": "white",
            "ticks": ""
           }
          },
          "scene": {
           "xaxis": {
            "backgroundcolor": "#E5ECF6",
            "gridcolor": "white",
            "gridwidth": 2,
            "linecolor": "white",
            "showbackground": true,
            "ticks": "",
            "zerolinecolor": "white"
           },
           "yaxis": {
            "backgroundcolor": "#E5ECF6",
            "gridcolor": "white",
            "gridwidth": 2,
            "linecolor": "white",
            "showbackground": true,
            "ticks": "",
            "zerolinecolor": "white"
           },
           "zaxis": {
            "backgroundcolor": "#E5ECF6",
            "gridcolor": "white",
            "gridwidth": 2,
            "linecolor": "white",
            "showbackground": true,
            "ticks": "",
            "zerolinecolor": "white"
           }
          },
          "shapedefaults": {
           "line": {
            "color": "#2a3f5f"
           }
          },
          "ternary": {
           "aaxis": {
            "gridcolor": "white",
            "linecolor": "white",
            "ticks": ""
           },
           "baxis": {
            "gridcolor": "white",
            "linecolor": "white",
            "ticks": ""
           },
           "bgcolor": "#E5ECF6",
           "caxis": {
            "gridcolor": "white",
            "linecolor": "white",
            "ticks": ""
           }
          },
          "title": {
           "x": 0.05
          },
          "xaxis": {
           "automargin": true,
           "gridcolor": "white",
           "linecolor": "white",
           "ticks": "",
           "title": {
            "standoff": 15
           },
           "zerolinecolor": "white",
           "zerolinewidth": 2
          },
          "yaxis": {
           "automargin": true,
           "gridcolor": "white",
           "linecolor": "white",
           "ticks": "",
           "title": {
            "standoff": 15
           },
           "zerolinecolor": "white",
           "zerolinewidth": 2
          }
         }
        },
        "title": {
         "font": {
          "color": "#4D5663"
         },
         "text": "Central Defender - Defend"
        },
        "xaxis": {
         "gridcolor": "#E1E5ED",
         "showgrid": true,
         "tickfont": {
          "color": "#4D5663"
         },
         "title": {
          "font": {
           "color": "#4D5663"
          },
          "text": "Headers Won/90"
         },
         "zerolinecolor": "#E1E5ED"
        },
        "yaxis": {
         "gridcolor": "#E1E5ED",
         "showgrid": true,
         "tickfont": {
          "color": "#4D5663"
         },
         "title": {
          "font": {
           "color": "#4D5663"
          },
          "text": "Interceptions/90"
         },
         "zerolinecolor": "#E1E5ED"
        }
       }
      },
      "text/html": [
       "<div>\n",
       "        \n",
       "        \n",
       "            <div id=\"5aacb120-2944-49b5-93f3-244ffa1d59f9\" class=\"plotly-graph-div\" style=\"height:525px; width:100%;\"></div>\n",
       "            <script type=\"text/javascript\">\n",
       "                require([\"plotly\"], function(Plotly) {\n",
       "                    window.PLOTLYENV=window.PLOTLYENV || {};\n",
       "                    window.PLOTLYENV.BASE_URL='https://plot.ly';\n",
       "                    \n",
       "                if (document.getElementById(\"5aacb120-2944-49b5-93f3-244ffa1d59f9\")) {\n",
       "                    Plotly.newPlot(\n",
       "                        '5aacb120-2944-49b5-93f3-244ffa1d59f9',\n",
       "                        [{\"line\": {\"color\": \"rgba(255, 153, 51, 1.0)\", \"dash\": \"solid\", \"shape\": \"linear\", \"width\": 1.3}, \"marker\": {\"size\": 10, \"symbol\": \"circle\"}, \"mode\": \"markers\", \"name\": \"Int/90\", \"text\": [\"Oskar Repka\", \"Marcel Mehlem\", \"Jessie Guera Djou\", \"Andjelo Kacavenda\", \"Michal Ozga\", \"Josip Zeljkovic\", \"Lukasz Duszkiewicz\", \"Bartlomiej Gajda\", \"Aleksa Pejic\", \"Daniel Pospisil\", \"Jakov Basic\", \"Robert Mandrysz\", \"Sasa Tomanovic\", \"Sebastian Duda\", \"Ivan Jovanovic\", \"Duje Medak\", \"Dominik Siwinski\", \"Arkadiusz Kozlowski\", \"Fanol P\\u00c3\\u00abrdedaj\", \"Kamil Niewiadomski\", \"Lukasz Mozler\", \"Haris Memic\", \"Kristijan Jakic\", \"Filip Tolic\", \"Jakub Kisiel\", \"Dawid Kisly\", \"Taras Romanchuk\", \"Aleksander Slezak\", \"Tomasz Owczarek\", \"Richie Smallwood\", \"Mateusz Stepien\", \"Josip Bauk\", \"Domagoj Perica\", \"Uros Filipovic\", \"Stefan Velickovic\", \"Filip Sredojevic\", \"Radoslaw Kaminski\", \"Alexander Fuchs\", \"Tomas Huk\", \"Wojciech Kaminski\", \"Kasim Adams\", \"Mateusz Madzia\", \"Sebastian Kopec\", \"Jovan Simic\", \"Antonio Asanovic\", \"Marko Labovic\", \"Hubert Molski\", \"Hrvoje Dzijan\", \"Amos Youga\", \"Mario Erb\", \"Fabio Daprel\\u00c3\", \"Kresimir Jelic\", \"Jakob Johansson\", \"Liam Gordon\", \"Jakub Hric\", \"Damian Koziel\", \"Malcom Edjouma\", \"Piotr Wujec\", \"Donald Molls\", \"Luka Pavkovic\", \"Norbert Radkiewicz\", \"Danilo Wiebe\", \"Kristi Qose\", \"Nikola Puzic\", \"Radoslaw Kursa\", \"Jonas Bager\", \"Jon Flanagan\", \"Vuk Mitosevic\", \"Tom Hateley\", \"Sasa Balic\", \"Mohamed Loua\", \"Dawid Bialek\", \"Ben Thompson\", \"Pawel Kohut\", \"Daniel Haritonov\", \"Andrej Causic\", \"Sebastian Smialek\", \"Luka Miljevic\", \"Andrzej Korytek\", \"Mario Cuic\", \"Lubomir Satka\", \"Vukasin Krstic\", \"Peter Drobnak\", \"Marko Filipovic\", \"Martin Vukorepa\", \"Nicklas Shipnoski\", \"Joey Pelupessy\", \"Antonio Mrkovic\", \"Kamal Bafounta\", \"Adrian Liberacki\", \"Tevin Ihrig\", \"Sandi Lovric\", \"Patrick Wolfgang Kapp\", \"Ivan Roca\", \"Karol Drwecki\", \"Zlatko Ilicic\", \"Luka Cakarun\", \"Tan Jiajie\", \"Domagoj Zigri\", \"Casper Elderman\", \"Samuel Lengle\", \"Luka Cankovic\", \"Kenny Dougall\", \"Aur\\u00c3\\u00a9lien Nguiamba\", \"Fahri Akyol\", \"Andrija Crnadak\", \"Grzegorz Wawrzynski\", \"Julian Rieckmann\", \"Leandro\", \"Milos Brajovic\", \"Nathan Baker\", \"Matthias Rahn\", \"Petar Mitic\", \"Dusan Stevanovic\", \"Jan Janik\", \"Fran Tomek\", \"Tomasz Lewandowski\", \"Mateusz Dlugolecki\", \"Pawel Baranowski\", \"David Jablonsky\", \"Adam Mesjasz\", \"Oliver Praznovsky\", \"Florian Egerer\", \"Maxim Kventser\", \"Nikola Bjelanovic\", \"Bojan Cigulajkic\", \"Philip Heise\", \"Thomas Haas\", \"Milan Janjic\", \"Max Dombrowka\", \"Ervin Kacar\", \"\\u00c3\\u0093scar Gil\", \"Maxime Le Marchand\", \"Jan L\\u00c3\\u00b6hmannsr\\u00c3\\u00b6ben\", \"Andrzej Kloda\", \"Adrian Polanski\", \"Ram\\u00c3\\u00b3n\", \"Jan Sieracki\", \"Dusan Jokovic\", \"Daniel Dziwniel\", \"Patryk Wilk\", \"Sebastian Zalepa\", \"Jan Sterba\", \"Stefan Draskovic\", \"Damian Garbacik\", \"Bartosz Kopacz\", \"Szymon Kobeszko\", \"Massadio Ha\\u00c3\\u00afdara\", \"Manuel Martic\", \"Filip Bainovic\", \"Adrian Niewiadomski\", \"Marcin Mackowiak\", \"Pierre Fassnacht\", \"Michael Heinloth\", \"Nenad Kocovic\", \"Miladin Stevanovic\", \"Jakub Pruzanin\", \"Bartlomiej Mruk\", \"Herbert Paul\", \"Donatas Nakrosius\", \"Ivan Zgrablic\", \"Robin Urban\", \"Kacper Gorski\", \"Adrian Filipiak\", \"Adrian Purzycki\", \"Kostas Triantafyllopoulos\", \"Aleksandar Bjelica\", \"Tomas Petrasek\", \"Miquel Nelom\", \"Koen Weuts\", \"Aleksandar Petrovic\", \"Marcin Dabrowski\", \"Niko Datkovic\", \"Michal Zieba\", \"Rafal Ostrowski\", \"Ivan Tomac\", \"David Urban\", \"Andrej Startsev\", \"Nemanja Vidic\", \"Petar Botica\", \"Bojan Gocanin\", \"Fabian Holthaus\", \"Tim H\\u00c3\\u00a4u\\u00c3\\u009fler\", \"Mikkel Kirkeskov\", \"Ovidiu Popescu\", \"Iliya Gruev\", \"Filip Jovic\", \"Douglas Bergqvist\", \"Marcin Sudy\", \"Mart Ristl\", \"Lovro Sindik\", \"Mladen Micanovic\", \"Blazej Cyfert\", \"Luca Zander\", \"Igor Sapala\", \"Jan Sobocinski\", \"Artur Gac\", \"Kacper Jozefiak\", \"Zvezdan Djordjilovic\", \"David Bumberger\", \"Ivan Bosnjak\", \"Michal Wrzesniewski\", \"Aleksandar Ignjovski\", \"Turgay Gemicibasi\", \"Nenad Kiso\", \"Lukasz Sztylka\", \"Noboru Shimura\", \"Derrick Williams\", \"Dino Stiglec\", \"Kyriakos Savvidis\", \"Niklas Landgraf\", \"Tomasz Wojcinowicz\", \"Mateusz Pienczak\", \"Jaroslaw Kubicki\", \"Patrick Kammerbauer\", \"Luis G\\u00c3\\u00b6rlich\", \"Chris Wolf\", \"Josip Sutalo\", \"Jakub Zima\", \"Ernest Dzieciol\", \"Norbert Myszka\", \"Robin Flu\\u00c3\\u009f\", \"Nemanja Milovanovic\", \"Syam Ben Youssef\", \"Adrian Rybak\", \"Rafal Remisz\", \"Bartlomiej Kasprzak\", \"Miroslav Bogosavac\", \"Dragoljub Srnic\", \"Kaan Kurt\", \"Ivan Runje\", \"Sonny Bradley\", \"Adam Pazio\", \"Ariel Borysiuk\", \"Krystian Stolarczyk\", \"Damian Kostkowski\", \"Dominik Nothnagel\", \"Michel St\\u00c3\\u00b6cker\", \"Ryan Malone\", \"Milan Makaric\", \"Matej Hybs\", \"Sven Botman\", \"Piotr Bartloszewski\", \"Mariusz Holik\", \"Mateo Jaksic\", \"Ashton G\\u00c3\\u00b6tz\", \"Marcos Rodr\\u00c3\\u00adguez\", \"Jakub Swiecinski\", \"Marius Gr\\u00c3\\u00b6sch\", \"Aleksa Jovanovic\", \"Aleksandar Varjacic\", \"Mirko Djermanovic\", \"Igor Biedrzycki\", \"Lukas Duriska\", \"Julien Tadrowski\", \"Jakub Niewiadomski\", \"Philipp Riese\", \"Bartlomiej Lorenc\", \"Julian Wolff\", \"Adrian Bielawski\", \"Filip Zderic\", \"Eric Weeger\", \"Bartosz Kieliba\", \"Filp Ceko\", \"Ariel Mosor\", \"Srdjan Grabez\", \"Bozidar Petrovic\", \"Benjamin Himmel\", \"Marco Komenda\", \"Wiktor Nahrebecki\", \"Niclas Stierlin\", null], \"type\": \"scatter\", \"x\": [3.65, 3.86, 4.48, 5.44, 4.6, 3.23, 3.72, 6.0, 4.1, 4.76, 3.83, 3.81, 3.52, 4.54, 2.39, 3.5, 5.04, 5.41, 3.31, 4.34, 4.35, 2.79, 4.1, 4.4, 4.25, 3.34, 4.31, 5.67, 4.91, 4.02, 3.77, 4.35, 3.39, 3.05, 2.45, 6.99, 5.41, 3.12, 4.51, 5.16, 5.62, 5.03, 5.85, 6.89, 5.59, 3.84, 3.87, 4.4, 4.63, 4.72, 4.47, 7.57, 4.67, 5.0, 3.67, 4.69, 4.89, 5.44, 2.71, 4.95, 3.92, 5.81, 4.96, 3.03, 4.89, 5.0, 4.34, 3.27, 3.79, 5.09, 3.4, 3.06, 3.04, 2.47, 3.61, 4.99, 3.31, 5.84, 4.7, 5.98, 6.0, 5.14, 3.2, 4.14, 6.54, 3.16, 3.92, 4.44, 4.92, 3.95, 5.81, 3.56, 5.09, 3.1, 4.27, 3.64, 5.02, 2.53, 4.99, 4.08, 3.95, 5.35, 3.92, 3.02, 3.82, 3.05, 4.07, 5.81, 4.69, 2.96, 6.22, 9.18, 3.87, 5.07, 4.19, 2.95, 6.16, 5.16, 5.87, 6.98, 4.91, 5.45, 3.86, 3.94, 2.57, 3.03, 2.32, 3.24, 4.59, 4.48, 2.56, 5.11, 5.46, 4.17, 5.03, 3.89, 4.63, 3.36, 5.0, 2.83, 5.71, 6.58, 5.0, 4.09, 5.51, 4.27, 4.21, 3.8, 4.99, 3.46, 4.5, 5.53, 4.68, 3.08, 4.0, 4.29, 6.46, 4.67, 4.45, 5.2, 5.93, 5.37, 5.0, 3.4, 2.92, 4.96, 5.11, 7.44, 1.53, 3.84, 4.76, 3.13, 6.39, 3.73, 4.8, 2.85, 7.34, 3.57, 4.9, 5.27, 4.43, 3.24, 3.81, 3.99, 1.94, 3.81, 3.66, 4.99, 4.68, 3.89, 2.94, 2.99, 4.53, 4.34, 3.26, 5.54, 2.81, 5.97, 3.9, 4.03, 3.76, 4.61, 2.55, 3.83, 4.03, 4.74, 3.96, 5.17, 3.98, 2.69, 2.98, 5.74, 4.65, 3.18, 3.26, 3.33, 3.69, 5.54, 5.8, 4.4, 4.47, 4.19, 3.85, 6.69, 4.19, 5.23, 2.33, 3.75, 1.91, 2.32, 4.97, 8.53, 3.0, 3.26, 5.37, 5.38, 4.11, 5.08, 5.15, 3.92, 3.65, 5.96, 3.06, 4.83, 4.02, 3.48, 2.49, 3.78, 5.67, 4.9, 3.84, 2.86, 5.12, 5.18, 4.85, 3.52, 3.59, 4.11, 5.86, 3.23, 2.33, 3.43, 4.97, 3.28, 5.13, 3.37, 3.88, 3.19, 4.77, 3.59, 3.89, null], \"y\": [3.02, 5.07, 3.7, 3.18, 1.08, 2.61, 4.11, 4.17, 2.35, 3.63, 1.74, 3.69, 3.89, 2.96, 2.75, 3.31, 5.11, 5.49, 3.36, 2.83, 2.94, 3.51, 2.28, 3.81, 1.72, 1.7, 3.87, 3.5, 1.62, 3.72, 1.2, 2.88, 2.17, 3.5, 2.3, 3.99, 4.15, 4.17, 3.84, 3.82, 2.55, 3.88, 3.43, 4.05, 3.0, 3.89, 3.72, 3.33, 2.97, 4.37, 4.16, 2.22, 5.6, 3.56, 3.0, 4.09, 3.6, 3.89, 2.62, 3.95, 3.49, 4.51, 2.92, 3.4, 3.11, 3.31, 4.01, 2.95, 4.17, 4.45, 3.64, 2.9, 2.62, 3.48, 3.29, 3.56, 2.59, 5.12, 3.9, 5.05, 5.6, 4.32, 1.56, 2.22, 5.53, 1.66, 3.11, 5.53, 5.11, 2.53, 4.57, 3.62, 4.51, 2.66, 3.67, 3.7, 2.92, 0.92, 4.04, 3.21, 3.33, 3.25, 2.61, 2.55, 3.31, 2.1, 4.68, 4.07, 3.28, 4.03, 3.4, 2.4, 3.53, 2.77, 2.41, 3.15, 3.36, 2.84, 3.89, 4.56, 2.61, 3.46, 3.41, 4.0, 3.57, 3.58, 2.09, 3.65, 3.42, 4.14, 2.31, 3.88, 4.29, 2.75, 3.51, 4.07, 3.39, 2.45, 2.69, 3.7, 3.5, 3.1, 3.09, 3.99, 3.62, 3.18, 2.69, 4.1, 3.06, 3.11, 4.38, 2.77, 4.39, 3.99, 3.66, 3.26, 3.11, 4.61, 1.95, 3.13, 3.33, 3.35, 3.21, 3.15, 3.63, 2.81, 3.2, 3.05, 3.33, 3.32, 2.38, 1.56, 3.88, 2.96, 4.26, 3.32, 4.2, 2.38, 2.3, 3.22, 3.51, 1.94, 4.06, 3.12, 2.82, 3.07, 4.17, 2.76, 1.83, 2.64, 2.94, 3.2, 3.11, 3.0, 2.91, 3.29, 2.87, 3.57, 3.29, 4.08, 1.57, 2.95, 1.85, 3.59, 4.08, 1.49, 3.15, 4.19, 2.6, 2.2, 4.25, 3.89, 2.92, 3.0, 2.37, 2.07, 5.34, 3.54, 2.9, 2.95, 3.85, 3.84, 3.26, 4.23, 2.55, 3.08, 2.71, 3.88, 3.6, 1.35, 3.79, 3.71, 2.61, 4.05, 3.68, 4.29, 3.75, 3.88, 2.93, 3.92, 3.15, 2.76, 3.12, 3.22, 2.3, 2.25, 1.37, 2.79, 3.87, 2.82, 3.67, 3.83, 3.4, 2.41, 3.59, 1.97, 3.72, 3.21, 3.0, 4.26, 1.93, 4.62, 2.39, 2.94, 4.0, 2.96, 3.16, 1.44, 3.94, 3.53, 2.5, \"\"]}],\n",
       "                        {\"legend\": {\"bgcolor\": \"#F5F6F9\", \"font\": {\"color\": \"#4D5663\"}}, \"paper_bgcolor\": \"#F5F6F9\", \"plot_bgcolor\": \"#F5F6F9\", \"template\": {\"data\": {\"bar\": [{\"error_x\": {\"color\": \"#2a3f5f\"}, \"error_y\": {\"color\": \"#2a3f5f\"}, \"marker\": {\"line\": {\"color\": \"#E5ECF6\", \"width\": 0.5}}, \"type\": \"bar\"}], \"barpolar\": [{\"marker\": {\"line\": {\"color\": \"#E5ECF6\", \"width\": 0.5}}, \"type\": \"barpolar\"}], \"carpet\": [{\"aaxis\": {\"endlinecolor\": \"#2a3f5f\", \"gridcolor\": \"white\", \"linecolor\": \"white\", \"minorgridcolor\": \"white\", \"startlinecolor\": \"#2a3f5f\"}, \"baxis\": {\"endlinecolor\": \"#2a3f5f\", \"gridcolor\": \"white\", \"linecolor\": \"white\", \"minorgridcolor\": \"white\", \"startlinecolor\": \"#2a3f5f\"}, \"type\": \"carpet\"}], \"choropleth\": [{\"colorbar\": {\"outlinewidth\": 0, \"ticks\": \"\"}, \"type\": \"choropleth\"}], \"contour\": [{\"colorbar\": {\"outlinewidth\": 0, \"ticks\": \"\"}, \"colorscale\": [[0.0, \"#0d0887\"], [0.1111111111111111, \"#46039f\"], [0.2222222222222222, \"#7201a8\"], [0.3333333333333333, \"#9c179e\"], [0.4444444444444444, \"#bd3786\"], [0.5555555555555556, \"#d8576b\"], [0.6666666666666666, \"#ed7953\"], [0.7777777777777778, \"#fb9f3a\"], [0.8888888888888888, \"#fdca26\"], [1.0, \"#f0f921\"]], \"type\": \"contour\"}], \"contourcarpet\": [{\"colorbar\": {\"outlinewidth\": 0, \"ticks\": \"\"}, \"type\": \"contourcarpet\"}], \"heatmap\": [{\"colorbar\": {\"outlinewidth\": 0, \"ticks\": \"\"}, \"colorscale\": [[0.0, \"#0d0887\"], [0.1111111111111111, \"#46039f\"], [0.2222222222222222, \"#7201a8\"], [0.3333333333333333, \"#9c179e\"], [0.4444444444444444, \"#bd3786\"], [0.5555555555555556, \"#d8576b\"], [0.6666666666666666, \"#ed7953\"], [0.7777777777777778, \"#fb9f3a\"], [0.8888888888888888, \"#fdca26\"], [1.0, \"#f0f921\"]], \"type\": \"heatmap\"}], \"heatmapgl\": [{\"colorbar\": {\"outlinewidth\": 0, \"ticks\": \"\"}, \"colorscale\": [[0.0, \"#0d0887\"], [0.1111111111111111, \"#46039f\"], [0.2222222222222222, \"#7201a8\"], [0.3333333333333333, \"#9c179e\"], [0.4444444444444444, \"#bd3786\"], [0.5555555555555556, \"#d8576b\"], [0.6666666666666666, \"#ed7953\"], [0.7777777777777778, \"#fb9f3a\"], [0.8888888888888888, \"#fdca26\"], [1.0, \"#f0f921\"]], \"type\": \"heatmapgl\"}], \"histogram\": [{\"marker\": {\"colorbar\": {\"outlinewidth\": 0, \"ticks\": \"\"}}, \"type\": \"histogram\"}], \"histogram2d\": [{\"colorbar\": {\"outlinewidth\": 0, \"ticks\": \"\"}, \"colorscale\": [[0.0, \"#0d0887\"], [0.1111111111111111, \"#46039f\"], [0.2222222222222222, \"#7201a8\"], [0.3333333333333333, \"#9c179e\"], [0.4444444444444444, \"#bd3786\"], [0.5555555555555556, \"#d8576b\"], [0.6666666666666666, \"#ed7953\"], [0.7777777777777778, \"#fb9f3a\"], [0.8888888888888888, \"#fdca26\"], [1.0, \"#f0f921\"]], \"type\": \"histogram2d\"}], \"histogram2dcontour\": [{\"colorbar\": {\"outlinewidth\": 0, \"ticks\": \"\"}, \"colorscale\": [[0.0, \"#0d0887\"], [0.1111111111111111, \"#46039f\"], [0.2222222222222222, \"#7201a8\"], [0.3333333333333333, \"#9c179e\"], [0.4444444444444444, \"#bd3786\"], [0.5555555555555556, \"#d8576b\"], [0.6666666666666666, \"#ed7953\"], [0.7777777777777778, \"#fb9f3a\"], [0.8888888888888888, \"#fdca26\"], [1.0, \"#f0f921\"]], \"type\": \"histogram2dcontour\"}], \"mesh3d\": [{\"colorbar\": {\"outlinewidth\": 0, \"ticks\": \"\"}, \"type\": \"mesh3d\"}], \"parcoords\": [{\"line\": {\"colorbar\": {\"outlinewidth\": 0, \"ticks\": \"\"}}, \"type\": \"parcoords\"}], \"pie\": [{\"automargin\": true, \"type\": \"pie\"}], \"scatter\": [{\"marker\": {\"colorbar\": {\"outlinewidth\": 0, \"ticks\": \"\"}}, \"type\": \"scatter\"}], \"scatter3d\": [{\"line\": {\"colorbar\": {\"outlinewidth\": 0, \"ticks\": \"\"}}, \"marker\": {\"colorbar\": {\"outlinewidth\": 0, \"ticks\": \"\"}}, \"type\": \"scatter3d\"}], \"scattercarpet\": [{\"marker\": {\"colorbar\": {\"outlinewidth\": 0, \"ticks\": \"\"}}, \"type\": \"scattercarpet\"}], \"scattergeo\": [{\"marker\": {\"colorbar\": {\"outlinewidth\": 0, \"ticks\": \"\"}}, \"type\": \"scattergeo\"}], \"scattergl\": [{\"marker\": {\"colorbar\": {\"outlinewidth\": 0, \"ticks\": \"\"}}, \"type\": \"scattergl\"}], \"scattermapbox\": [{\"marker\": {\"colorbar\": {\"outlinewidth\": 0, \"ticks\": \"\"}}, \"type\": \"scattermapbox\"}], \"scatterpolar\": [{\"marker\": {\"colorbar\": {\"outlinewidth\": 0, \"ticks\": \"\"}}, \"type\": \"scatterpolar\"}], \"scatterpolargl\": [{\"marker\": {\"colorbar\": {\"outlinewidth\": 0, \"ticks\": \"\"}}, \"type\": \"scatterpolargl\"}], \"scatterternary\": [{\"marker\": {\"colorbar\": {\"outlinewidth\": 0, \"ticks\": \"\"}}, \"type\": \"scatterternary\"}], \"surface\": [{\"colorbar\": {\"outlinewidth\": 0, \"ticks\": \"\"}, \"colorscale\": [[0.0, \"#0d0887\"], [0.1111111111111111, \"#46039f\"], [0.2222222222222222, \"#7201a8\"], [0.3333333333333333, \"#9c179e\"], [0.4444444444444444, \"#bd3786\"], [0.5555555555555556, \"#d8576b\"], [0.6666666666666666, \"#ed7953\"], [0.7777777777777778, \"#fb9f3a\"], [0.8888888888888888, \"#fdca26\"], [1.0, \"#f0f921\"]], \"type\": \"surface\"}], \"table\": [{\"cells\": {\"fill\": {\"color\": \"#EBF0F8\"}, \"line\": {\"color\": \"white\"}}, \"header\": {\"fill\": {\"color\": \"#C8D4E3\"}, \"line\": {\"color\": \"white\"}}, \"type\": \"table\"}]}, \"layout\": {\"annotationdefaults\": {\"arrowcolor\": \"#2a3f5f\", \"arrowhead\": 0, \"arrowwidth\": 1}, \"coloraxis\": {\"colorbar\": {\"outlinewidth\": 0, \"ticks\": \"\"}}, \"colorscale\": {\"diverging\": [[0, \"#8e0152\"], [0.1, \"#c51b7d\"], [0.2, \"#de77ae\"], [0.3, \"#f1b6da\"], [0.4, \"#fde0ef\"], [0.5, \"#f7f7f7\"], [0.6, \"#e6f5d0\"], [0.7, \"#b8e186\"], [0.8, \"#7fbc41\"], [0.9, \"#4d9221\"], [1, \"#276419\"]], \"sequential\": [[0.0, \"#0d0887\"], [0.1111111111111111, \"#46039f\"], [0.2222222222222222, \"#7201a8\"], [0.3333333333333333, \"#9c179e\"], [0.4444444444444444, \"#bd3786\"], [0.5555555555555556, \"#d8576b\"], [0.6666666666666666, \"#ed7953\"], [0.7777777777777778, \"#fb9f3a\"], [0.8888888888888888, \"#fdca26\"], [1.0, \"#f0f921\"]], \"sequentialminus\": [[0.0, \"#0d0887\"], [0.1111111111111111, \"#46039f\"], [0.2222222222222222, \"#7201a8\"], [0.3333333333333333, \"#9c179e\"], [0.4444444444444444, \"#bd3786\"], [0.5555555555555556, \"#d8576b\"], [0.6666666666666666, \"#ed7953\"], [0.7777777777777778, \"#fb9f3a\"], [0.8888888888888888, \"#fdca26\"], [1.0, \"#f0f921\"]]}, \"colorway\": [\"#636efa\", \"#EF553B\", \"#00cc96\", \"#ab63fa\", \"#FFA15A\", \"#19d3f3\", \"#FF6692\", \"#B6E880\", \"#FF97FF\", \"#FECB52\"], \"font\": {\"color\": \"#2a3f5f\"}, \"geo\": {\"bgcolor\": \"white\", \"lakecolor\": \"white\", \"landcolor\": \"#E5ECF6\", \"showlakes\": true, \"showland\": true, \"subunitcolor\": \"white\"}, \"hoverlabel\": {\"align\": \"left\"}, \"hovermode\": \"closest\", \"mapbox\": {\"style\": \"light\"}, \"paper_bgcolor\": \"white\", \"plot_bgcolor\": \"#E5ECF6\", \"polar\": {\"angularaxis\": {\"gridcolor\": \"white\", \"linecolor\": \"white\", \"ticks\": \"\"}, \"bgcolor\": \"#E5ECF6\", \"radialaxis\": {\"gridcolor\": \"white\", \"linecolor\": \"white\", \"ticks\": \"\"}}, \"scene\": {\"xaxis\": {\"backgroundcolor\": \"#E5ECF6\", \"gridcolor\": \"white\", \"gridwidth\": 2, \"linecolor\": \"white\", \"showbackground\": true, \"ticks\": \"\", \"zerolinecolor\": \"white\"}, \"yaxis\": {\"backgroundcolor\": \"#E5ECF6\", \"gridcolor\": \"white\", \"gridwidth\": 2, \"linecolor\": \"white\", \"showbackground\": true, \"ticks\": \"\", \"zerolinecolor\": \"white\"}, \"zaxis\": {\"backgroundcolor\": \"#E5ECF6\", \"gridcolor\": \"white\", \"gridwidth\": 2, \"linecolor\": \"white\", \"showbackground\": true, \"ticks\": \"\", \"zerolinecolor\": \"white\"}}, \"shapedefaults\": {\"line\": {\"color\": \"#2a3f5f\"}}, \"ternary\": {\"aaxis\": {\"gridcolor\": \"white\", \"linecolor\": \"white\", \"ticks\": \"\"}, \"baxis\": {\"gridcolor\": \"white\", \"linecolor\": \"white\", \"ticks\": \"\"}, \"bgcolor\": \"#E5ECF6\", \"caxis\": {\"gridcolor\": \"white\", \"linecolor\": \"white\", \"ticks\": \"\"}}, \"title\": {\"x\": 0.05}, \"xaxis\": {\"automargin\": true, \"gridcolor\": \"white\", \"linecolor\": \"white\", \"ticks\": \"\", \"title\": {\"standoff\": 15}, \"zerolinecolor\": \"white\", \"zerolinewidth\": 2}, \"yaxis\": {\"automargin\": true, \"gridcolor\": \"white\", \"linecolor\": \"white\", \"ticks\": \"\", \"title\": {\"standoff\": 15}, \"zerolinecolor\": \"white\", \"zerolinewidth\": 2}}}, \"title\": {\"font\": {\"color\": \"#4D5663\"}, \"text\": \"Central Defender - Defend\"}, \"xaxis\": {\"gridcolor\": \"#E1E5ED\", \"showgrid\": true, \"tickfont\": {\"color\": \"#4D5663\"}, \"title\": {\"font\": {\"color\": \"#4D5663\"}, \"text\": \"Headers Won/90\"}, \"zerolinecolor\": \"#E1E5ED\"}, \"yaxis\": {\"gridcolor\": \"#E1E5ED\", \"showgrid\": true, \"tickfont\": {\"color\": \"#4D5663\"}, \"title\": {\"font\": {\"color\": \"#4D5663\"}, \"text\": \"Interceptions/90\"}, \"zerolinecolor\": \"#E1E5ED\"}},\n",
       "                        {\"showLink\": true, \"linkText\": \"Export to plot.ly\", \"plotlyServerURL\": \"https://plot.ly\", \"responsive\": true}\n",
       "                    ).then(function(){\n",
       "                            \n",
       "var gd = document.getElementById('5aacb120-2944-49b5-93f3-244ffa1d59f9');\n",
       "var x = new MutationObserver(function (mutations, observer) {{\n",
       "        var display = window.getComputedStyle(gd).display;\n",
       "        if (!display || display === 'none') {{\n",
       "            console.log([gd, 'removed!']);\n",
       "            Plotly.purge(gd);\n",
       "            observer.disconnect();\n",
       "        }}\n",
       "}});\n",
       "\n",
       "// Listen for the removal of the full notebook cells\n",
       "var notebookContainer = gd.closest('#notebook-container');\n",
       "if (notebookContainer) {{\n",
       "    x.observe(notebookContainer, {childList: true});\n",
       "}}\n",
       "\n",
       "// Listen for the clearing of the current output cell\n",
       "var outputEl = gd.closest('.output');\n",
       "if (outputEl) {{\n",
       "    x.observe(outputEl, {childList: true});\n",
       "}}\n",
       "\n",
       "                        })\n",
       "                };\n",
       "                });\n",
       "            </script>\n",
       "        </div>"
      ]
     },
     "metadata": {},
     "output_type": "display_data"
    }
   ],
   "source": [
    "df.iplot(kind='scatter',x='Hdrs W/90',y='Int/90',\n",
    "           mode='markers',text='Name',size=10,\n",
    "          xTitle='Headers Won/90',yTitle='Interceptions/90',title='Central Defender - Defend')"
   ]
  },
  {
   "cell_type": "code",
   "execution_count": 15,
   "metadata": {},
   "outputs": [
    {
     "data": {
      "application/vnd.plotly.v1+json": {
       "config": {
        "linkText": "Export to plot.ly",
        "plotlyServerURL": "https://plot.ly",
        "showLink": true
       },
       "data": [
        {
         "line": {
          "color": "rgba(255, 153, 51, 1.0)",
          "dash": "solid",
          "shape": "linear",
          "width": 1.3
         },
         "marker": {
          "size": 10,
          "symbol": "circle"
         },
         "mode": "markers",
         "name": "Int/90",
         "text": [
          "Oskar Repka",
          "Marcel Mehlem",
          "Jessie Guera Djou",
          "Andjelo Kacavenda",
          "Michal Ozga",
          "Josip Zeljkovic",
          "Lukasz Duszkiewicz",
          "Bartlomiej Gajda",
          "Aleksa Pejic",
          "Daniel Pospisil",
          "Jakov Basic",
          "Robert Mandrysz",
          "Sasa Tomanovic",
          "Sebastian Duda",
          "Ivan Jovanovic",
          "Duje Medak",
          "Dominik Siwinski",
          "Arkadiusz Kozlowski",
          "Fanol PÃ«rdedaj",
          "Kamil Niewiadomski",
          "Lukasz Mozler",
          "Haris Memic",
          "Kristijan Jakic",
          "Filip Tolic",
          "Jakub Kisiel",
          "Dawid Kisly",
          "Taras Romanchuk",
          "Aleksander Slezak",
          "Tomasz Owczarek",
          "Richie Smallwood",
          "Mateusz Stepien",
          "Josip Bauk",
          "Domagoj Perica",
          "Uros Filipovic",
          "Stefan Velickovic",
          "Filip Sredojevic",
          "Radoslaw Kaminski",
          "Alexander Fuchs",
          "Tomas Huk",
          "Wojciech Kaminski",
          "Kasim Adams",
          "Mateusz Madzia",
          "Sebastian Kopec",
          "Jovan Simic",
          "Antonio Asanovic",
          "Marko Labovic",
          "Hubert Molski",
          "Hrvoje Dzijan",
          "Amos Youga",
          "Mario Erb",
          "Fabio DaprelÃ",
          "Kresimir Jelic",
          "Jakob Johansson",
          "Liam Gordon",
          "Jakub Hric",
          "Damian Koziel",
          "Malcom Edjouma",
          "Piotr Wujec",
          "Donald Molls",
          "Luka Pavkovic",
          "Norbert Radkiewicz",
          "Danilo Wiebe",
          "Kristi Qose",
          "Nikola Puzic",
          "Radoslaw Kursa",
          "Jonas Bager",
          "Jon Flanagan",
          "Vuk Mitosevic",
          "Tom Hateley",
          "Sasa Balic",
          "Mohamed Loua",
          "Dawid Bialek",
          "Ben Thompson",
          "Pawel Kohut",
          "Daniel Haritonov",
          "Andrej Causic",
          "Sebastian Smialek",
          "Luka Miljevic",
          "Andrzej Korytek",
          "Mario Cuic",
          "Lubomir Satka",
          "Vukasin Krstic",
          "Peter Drobnak",
          "Marko Filipovic",
          "Martin Vukorepa",
          "Nicklas Shipnoski",
          "Joey Pelupessy",
          "Antonio Mrkovic",
          "Kamal Bafounta",
          "Adrian Liberacki",
          "Tevin Ihrig",
          "Sandi Lovric",
          "Patrick Wolfgang Kapp",
          "Ivan Roca",
          "Karol Drwecki",
          "Zlatko Ilicic",
          "Luka Cakarun",
          "Tan Jiajie",
          "Domagoj Zigri",
          "Casper Elderman",
          "Samuel Lengle",
          "Luka Cankovic",
          "Kenny Dougall",
          "AurÃ©lien Nguiamba",
          "Fahri Akyol",
          "Andrija Crnadak",
          "Grzegorz Wawrzynski",
          "Julian Rieckmann",
          "Leandro",
          "Milos Brajovic",
          "Nathan Baker",
          "Matthias Rahn",
          "Petar Mitic",
          "Dusan Stevanovic",
          "Jan Janik",
          "Fran Tomek",
          "Tomasz Lewandowski",
          "Mateusz Dlugolecki",
          "Pawel Baranowski",
          "David Jablonsky",
          "Adam Mesjasz",
          "Oliver Praznovsky",
          "Florian Egerer",
          "Maxim Kventser",
          "Nikola Bjelanovic",
          "Bojan Cigulajkic",
          "Philip Heise",
          "Thomas Haas",
          "Milan Janjic",
          "Max Dombrowka",
          "Ervin Kacar",
          "Ãscar Gil",
          "Maxime Le Marchand",
          "Jan LÃ¶hmannsrÃ¶ben",
          "Andrzej Kloda",
          "Adrian Polanski",
          "RamÃ³n",
          "Jan Sieracki",
          "Dusan Jokovic",
          "Daniel Dziwniel",
          "Patryk Wilk",
          "Sebastian Zalepa",
          "Jan Sterba",
          "Stefan Draskovic",
          "Damian Garbacik",
          "Bartosz Kopacz",
          "Szymon Kobeszko",
          "Massadio HaÃ¯dara",
          "Manuel Martic",
          "Filip Bainovic",
          "Adrian Niewiadomski",
          "Marcin Mackowiak",
          "Pierre Fassnacht",
          "Michael Heinloth",
          "Nenad Kocovic",
          "Miladin Stevanovic",
          "Jakub Pruzanin",
          "Bartlomiej Mruk",
          "Herbert Paul",
          "Donatas Nakrosius",
          "Ivan Zgrablic",
          "Robin Urban",
          "Kacper Gorski",
          "Adrian Filipiak",
          "Adrian Purzycki",
          "Kostas Triantafyllopoulos",
          "Aleksandar Bjelica",
          "Tomas Petrasek",
          "Miquel Nelom",
          "Koen Weuts",
          "Aleksandar Petrovic",
          "Marcin Dabrowski",
          "Niko Datkovic",
          "Michal Zieba",
          "Rafal Ostrowski",
          "Ivan Tomac",
          "David Urban",
          "Andrej Startsev",
          "Nemanja Vidic",
          "Petar Botica",
          "Bojan Gocanin",
          "Fabian Holthaus",
          "Tim HÃ¤uÃler",
          "Mikkel Kirkeskov",
          "Ovidiu Popescu",
          "Iliya Gruev",
          "Filip Jovic",
          "Douglas Bergqvist",
          "Marcin Sudy",
          "Mart Ristl",
          "Lovro Sindik",
          "Mladen Micanovic",
          "Blazej Cyfert",
          "Luca Zander",
          "Igor Sapala",
          "Jan Sobocinski",
          "Artur Gac",
          "Kacper Jozefiak",
          "Zvezdan Djordjilovic",
          "David Bumberger",
          "Ivan Bosnjak",
          "Michal Wrzesniewski",
          "Aleksandar Ignjovski",
          "Turgay Gemicibasi",
          "Nenad Kiso",
          "Lukasz Sztylka",
          "Noboru Shimura",
          "Derrick Williams",
          "Dino Stiglec",
          "Kyriakos Savvidis",
          "Niklas Landgraf",
          "Tomasz Wojcinowicz",
          "Mateusz Pienczak",
          "Jaroslaw Kubicki",
          "Patrick Kammerbauer",
          "Luis GÃ¶rlich",
          "Chris Wolf",
          "Josip Sutalo",
          "Jakub Zima",
          "Ernest Dzieciol",
          "Norbert Myszka",
          "Robin FluÃ",
          "Nemanja Milovanovic",
          "Syam Ben Youssef",
          "Adrian Rybak",
          "Rafal Remisz",
          "Bartlomiej Kasprzak",
          "Miroslav Bogosavac",
          "Dragoljub Srnic",
          "Kaan Kurt",
          "Ivan Runje",
          "Sonny Bradley",
          "Adam Pazio",
          "Ariel Borysiuk",
          "Krystian Stolarczyk",
          "Damian Kostkowski",
          "Dominik Nothnagel",
          "Michel StÃ¶cker",
          "Ryan Malone",
          "Milan Makaric",
          "Matej Hybs",
          "Sven Botman",
          "Piotr Bartloszewski",
          "Mariusz Holik",
          "Mateo Jaksic",
          "Ashton GÃ¶tz",
          "Marcos RodrÃ­guez",
          "Jakub Swiecinski",
          "Marius GrÃ¶sch",
          "Aleksa Jovanovic",
          "Aleksandar Varjacic",
          "Mirko Djermanovic",
          "Igor Biedrzycki",
          "Lukas Duriska",
          "Julien Tadrowski",
          "Jakub Niewiadomski",
          "Philipp Riese",
          "Bartlomiej Lorenc",
          "Julian Wolff",
          "Adrian Bielawski",
          "Filip Zderic",
          "Eric Weeger",
          "Bartosz Kieliba",
          "Filp Ceko",
          "Ariel Mosor",
          "Srdjan Grabez",
          "Bozidar Petrovic",
          "Benjamin Himmel",
          "Marco Komenda",
          "Wiktor Nahrebecki",
          "Niclas Stierlin",
          null
         ],
         "type": "scatter",
         "x": [
          "71%",
          "80%",
          "78%",
          "77%",
          "70%",
          "73%",
          "70%",
          "74%",
          "76%",
          "71%",
          "74%",
          "74%",
          "76%",
          "72%",
          "75%",
          "73%",
          "74%",
          "75%",
          "75%",
          "73%",
          "78%",
          "71%",
          "75%",
          "78%",
          "71%",
          "72%",
          "82%",
          "72%",
          "70%",
          "78%",
          "69%",
          "72%",
          "67%",
          "76%",
          "76%",
          "69%",
          "73%",
          "79%",
          "78%",
          "77%",
          "76%",
          "66%",
          "71%",
          "72%",
          "75%",
          "75%",
          "64%",
          "72%",
          "76%",
          "76%",
          "75%",
          "65%",
          "78%",
          "74%",
          "69%",
          "69%",
          "80%",
          "70%",
          "67%",
          "73%",
          "68%",
          "76%",
          "71%",
          "69%",
          "72%",
          "75%",
          "72%",
          "79%",
          "79%",
          "76%",
          "82%",
          "69%",
          "80%",
          "67%",
          "70%",
          "75%",
          "71%",
          "80%",
          "74%",
          "73%",
          "78%",
          "73%",
          "69%",
          "75%",
          "72%",
          "77%",
          "78%",
          "70%",
          "80%",
          "70%",
          "77%",
          "79%",
          "77%",
          "73%",
          "68%",
          "68%",
          "77%",
          "66%",
          "71%",
          "73%",
          "70%",
          "72%",
          "80%",
          "80%",
          "71%",
          "74%",
          "62%",
          "79%",
          "75%",
          "75%",
          "75%",
          "65%",
          "76%",
          "78%",
          "72%",
          "78%",
          "71%",
          "74%",
          "73%",
          "77%",
          "72%",
          "76%",
          "73%",
          "67%",
          "68%",
          "67%",
          "81%",
          "70%",
          "76%",
          "73%",
          "66%",
          "80%",
          "84%",
          "71%",
          "68%",
          "64%",
          "81%",
          "70%",
          "74%",
          "69%",
          "71%",
          "72%",
          "77%",
          "69%",
          "69%",
          "71%",
          "75%",
          "73%",
          "79%",
          "76%",
          "74%",
          "75%",
          "73%",
          "68%",
          "69%",
          "73%",
          "65%",
          "72%",
          "75%",
          "73%",
          "72%",
          "71%",
          "71%",
          "67%",
          "77%",
          "75%",
          "75%",
          "73%",
          "69%",
          "74%",
          "66%",
          "70%",
          "75%",
          "72%",
          "73%",
          "70%",
          "76%",
          "69%",
          "76%",
          "75%",
          "81%",
          "71%",
          "71%",
          "69%",
          "75%",
          "78%",
          "78%",
          "78%",
          "69%",
          "71%",
          "77%",
          "73%",
          "73%",
          "83%",
          "77%",
          "82%",
          "65%",
          "71%",
          "69%",
          "74%",
          "71%",
          "76%",
          "80%",
          "75%",
          "83%",
          "66%",
          "71%",
          "76%",
          "74%",
          "78%",
          "77%",
          "72%",
          "73%",
          "77%",
          "81%",
          "70%",
          "71%",
          "73%",
          "76%",
          "73%",
          "69%",
          "73%",
          "77%",
          "76%",
          "71%",
          "75%",
          "75%",
          "73%",
          "77%",
          "68%",
          "76%",
          "75%",
          "72%",
          "80%",
          "74%",
          "72%",
          "74%",
          "74%",
          "74%",
          "79%",
          "72%",
          "76%",
          "64%",
          "71%",
          "68%",
          "69%",
          "70%",
          "72%",
          "72%",
          "74%",
          "75%",
          "65%",
          "72%",
          "75%",
          "74%",
          "67%",
          "76%",
          "68%",
          "71%",
          "68%",
          "69%",
          "67%",
          "76%",
          "64%",
          "75%",
          "72%",
          "70%",
          "72%",
          "75%",
          "72%",
          "73%",
          null
         ],
         "y": [
          3.02,
          5.07,
          3.7,
          3.18,
          1.08,
          2.61,
          4.11,
          4.17,
          2.35,
          3.63,
          1.74,
          3.69,
          3.89,
          2.96,
          2.75,
          3.31,
          5.11,
          5.49,
          3.36,
          2.83,
          2.94,
          3.51,
          2.28,
          3.81,
          1.72,
          1.7,
          3.87,
          3.5,
          1.62,
          3.72,
          1.2,
          2.88,
          2.17,
          3.5,
          2.3,
          3.99,
          4.15,
          4.17,
          3.84,
          3.82,
          2.55,
          3.88,
          3.43,
          4.05,
          3,
          3.89,
          3.72,
          3.33,
          2.97,
          4.37,
          4.16,
          2.22,
          5.6,
          3.56,
          3,
          4.09,
          3.6,
          3.89,
          2.62,
          3.95,
          3.49,
          4.51,
          2.92,
          3.4,
          3.11,
          3.31,
          4.01,
          2.95,
          4.17,
          4.45,
          3.64,
          2.9,
          2.62,
          3.48,
          3.29,
          3.56,
          2.59,
          5.12,
          3.9,
          5.05,
          5.6,
          4.32,
          1.56,
          2.22,
          5.53,
          1.66,
          3.11,
          5.53,
          5.11,
          2.53,
          4.57,
          3.62,
          4.51,
          2.66,
          3.67,
          3.7,
          2.92,
          0.92,
          4.04,
          3.21,
          3.33,
          3.25,
          2.61,
          2.55,
          3.31,
          2.1,
          4.68,
          4.07,
          3.28,
          4.03,
          3.4,
          2.4,
          3.53,
          2.77,
          2.41,
          3.15,
          3.36,
          2.84,
          3.89,
          4.56,
          2.61,
          3.46,
          3.41,
          4,
          3.57,
          3.58,
          2.09,
          3.65,
          3.42,
          4.14,
          2.31,
          3.88,
          4.29,
          2.75,
          3.51,
          4.07,
          3.39,
          2.45,
          2.69,
          3.7,
          3.5,
          3.1,
          3.09,
          3.99,
          3.62,
          3.18,
          2.69,
          4.1,
          3.06,
          3.11,
          4.38,
          2.77,
          4.39,
          3.99,
          3.66,
          3.26,
          3.11,
          4.61,
          1.95,
          3.13,
          3.33,
          3.35,
          3.21,
          3.15,
          3.63,
          2.81,
          3.2,
          3.05,
          3.33,
          3.32,
          2.38,
          1.56,
          3.88,
          2.96,
          4.26,
          3.32,
          4.2,
          2.38,
          2.3,
          3.22,
          3.51,
          1.94,
          4.06,
          3.12,
          2.82,
          3.07,
          4.17,
          2.76,
          1.83,
          2.64,
          2.94,
          3.2,
          3.11,
          3,
          2.91,
          3.29,
          2.87,
          3.57,
          3.29,
          4.08,
          1.57,
          2.95,
          1.85,
          3.59,
          4.08,
          1.49,
          3.15,
          4.19,
          2.6,
          2.2,
          4.25,
          3.89,
          2.92,
          3,
          2.37,
          2.07,
          5.34,
          3.54,
          2.9,
          2.95,
          3.85,
          3.84,
          3.26,
          4.23,
          2.55,
          3.08,
          2.71,
          3.88,
          3.6,
          1.35,
          3.79,
          3.71,
          2.61,
          4.05,
          3.68,
          4.29,
          3.75,
          3.88,
          2.93,
          3.92,
          3.15,
          2.76,
          3.12,
          3.22,
          2.3,
          2.25,
          1.37,
          2.79,
          3.87,
          2.82,
          3.67,
          3.83,
          3.4,
          2.41,
          3.59,
          1.97,
          3.72,
          3.21,
          3,
          4.26,
          1.93,
          4.62,
          2.39,
          2.94,
          4,
          2.96,
          3.16,
          1.44,
          3.94,
          3.53,
          2.5,
          ""
         ]
        }
       ],
       "layout": {
        "legend": {
         "bgcolor": "#F5F6F9",
         "font": {
          "color": "#4D5663"
         }
        },
        "paper_bgcolor": "#F5F6F9",
        "plot_bgcolor": "#F5F6F9",
        "template": {
         "data": {
          "bar": [
           {
            "error_x": {
             "color": "#2a3f5f"
            },
            "error_y": {
             "color": "#2a3f5f"
            },
            "marker": {
             "line": {
              "color": "#E5ECF6",
              "width": 0.5
             }
            },
            "type": "bar"
           }
          ],
          "barpolar": [
           {
            "marker": {
             "line": {
              "color": "#E5ECF6",
              "width": 0.5
             }
            },
            "type": "barpolar"
           }
          ],
          "carpet": [
           {
            "aaxis": {
             "endlinecolor": "#2a3f5f",
             "gridcolor": "white",
             "linecolor": "white",
             "minorgridcolor": "white",
             "startlinecolor": "#2a3f5f"
            },
            "baxis": {
             "endlinecolor": "#2a3f5f",
             "gridcolor": "white",
             "linecolor": "white",
             "minorgridcolor": "white",
             "startlinecolor": "#2a3f5f"
            },
            "type": "carpet"
           }
          ],
          "choropleth": [
           {
            "colorbar": {
             "outlinewidth": 0,
             "ticks": ""
            },
            "type": "choropleth"
           }
          ],
          "contour": [
           {
            "colorbar": {
             "outlinewidth": 0,
             "ticks": ""
            },
            "colorscale": [
             [
              0,
              "#0d0887"
             ],
             [
              0.1111111111111111,
              "#46039f"
             ],
             [
              0.2222222222222222,
              "#7201a8"
             ],
             [
              0.3333333333333333,
              "#9c179e"
             ],
             [
              0.4444444444444444,
              "#bd3786"
             ],
             [
              0.5555555555555556,
              "#d8576b"
             ],
             [
              0.6666666666666666,
              "#ed7953"
             ],
             [
              0.7777777777777778,
              "#fb9f3a"
             ],
             [
              0.8888888888888888,
              "#fdca26"
             ],
             [
              1,
              "#f0f921"
             ]
            ],
            "type": "contour"
           }
          ],
          "contourcarpet": [
           {
            "colorbar": {
             "outlinewidth": 0,
             "ticks": ""
            },
            "type": "contourcarpet"
           }
          ],
          "heatmap": [
           {
            "colorbar": {
             "outlinewidth": 0,
             "ticks": ""
            },
            "colorscale": [
             [
              0,
              "#0d0887"
             ],
             [
              0.1111111111111111,
              "#46039f"
             ],
             [
              0.2222222222222222,
              "#7201a8"
             ],
             [
              0.3333333333333333,
              "#9c179e"
             ],
             [
              0.4444444444444444,
              "#bd3786"
             ],
             [
              0.5555555555555556,
              "#d8576b"
             ],
             [
              0.6666666666666666,
              "#ed7953"
             ],
             [
              0.7777777777777778,
              "#fb9f3a"
             ],
             [
              0.8888888888888888,
              "#fdca26"
             ],
             [
              1,
              "#f0f921"
             ]
            ],
            "type": "heatmap"
           }
          ],
          "heatmapgl": [
           {
            "colorbar": {
             "outlinewidth": 0,
             "ticks": ""
            },
            "colorscale": [
             [
              0,
              "#0d0887"
             ],
             [
              0.1111111111111111,
              "#46039f"
             ],
             [
              0.2222222222222222,
              "#7201a8"
             ],
             [
              0.3333333333333333,
              "#9c179e"
             ],
             [
              0.4444444444444444,
              "#bd3786"
             ],
             [
              0.5555555555555556,
              "#d8576b"
             ],
             [
              0.6666666666666666,
              "#ed7953"
             ],
             [
              0.7777777777777778,
              "#fb9f3a"
             ],
             [
              0.8888888888888888,
              "#fdca26"
             ],
             [
              1,
              "#f0f921"
             ]
            ],
            "type": "heatmapgl"
           }
          ],
          "histogram": [
           {
            "marker": {
             "colorbar": {
              "outlinewidth": 0,
              "ticks": ""
             }
            },
            "type": "histogram"
           }
          ],
          "histogram2d": [
           {
            "colorbar": {
             "outlinewidth": 0,
             "ticks": ""
            },
            "colorscale": [
             [
              0,
              "#0d0887"
             ],
             [
              0.1111111111111111,
              "#46039f"
             ],
             [
              0.2222222222222222,
              "#7201a8"
             ],
             [
              0.3333333333333333,
              "#9c179e"
             ],
             [
              0.4444444444444444,
              "#bd3786"
             ],
             [
              0.5555555555555556,
              "#d8576b"
             ],
             [
              0.6666666666666666,
              "#ed7953"
             ],
             [
              0.7777777777777778,
              "#fb9f3a"
             ],
             [
              0.8888888888888888,
              "#fdca26"
             ],
             [
              1,
              "#f0f921"
             ]
            ],
            "type": "histogram2d"
           }
          ],
          "histogram2dcontour": [
           {
            "colorbar": {
             "outlinewidth": 0,
             "ticks": ""
            },
            "colorscale": [
             [
              0,
              "#0d0887"
             ],
             [
              0.1111111111111111,
              "#46039f"
             ],
             [
              0.2222222222222222,
              "#7201a8"
             ],
             [
              0.3333333333333333,
              "#9c179e"
             ],
             [
              0.4444444444444444,
              "#bd3786"
             ],
             [
              0.5555555555555556,
              "#d8576b"
             ],
             [
              0.6666666666666666,
              "#ed7953"
             ],
             [
              0.7777777777777778,
              "#fb9f3a"
             ],
             [
              0.8888888888888888,
              "#fdca26"
             ],
             [
              1,
              "#f0f921"
             ]
            ],
            "type": "histogram2dcontour"
           }
          ],
          "mesh3d": [
           {
            "colorbar": {
             "outlinewidth": 0,
             "ticks": ""
            },
            "type": "mesh3d"
           }
          ],
          "parcoords": [
           {
            "line": {
             "colorbar": {
              "outlinewidth": 0,
              "ticks": ""
             }
            },
            "type": "parcoords"
           }
          ],
          "pie": [
           {
            "automargin": true,
            "type": "pie"
           }
          ],
          "scatter": [
           {
            "marker": {
             "colorbar": {
              "outlinewidth": 0,
              "ticks": ""
             }
            },
            "type": "scatter"
           }
          ],
          "scatter3d": [
           {
            "line": {
             "colorbar": {
              "outlinewidth": 0,
              "ticks": ""
             }
            },
            "marker": {
             "colorbar": {
              "outlinewidth": 0,
              "ticks": ""
             }
            },
            "type": "scatter3d"
           }
          ],
          "scattercarpet": [
           {
            "marker": {
             "colorbar": {
              "outlinewidth": 0,
              "ticks": ""
             }
            },
            "type": "scattercarpet"
           }
          ],
          "scattergeo": [
           {
            "marker": {
             "colorbar": {
              "outlinewidth": 0,
              "ticks": ""
             }
            },
            "type": "scattergeo"
           }
          ],
          "scattergl": [
           {
            "marker": {
             "colorbar": {
              "outlinewidth": 0,
              "ticks": ""
             }
            },
            "type": "scattergl"
           }
          ],
          "scattermapbox": [
           {
            "marker": {
             "colorbar": {
              "outlinewidth": 0,
              "ticks": ""
             }
            },
            "type": "scattermapbox"
           }
          ],
          "scatterpolar": [
           {
            "marker": {
             "colorbar": {
              "outlinewidth": 0,
              "ticks": ""
             }
            },
            "type": "scatterpolar"
           }
          ],
          "scatterpolargl": [
           {
            "marker": {
             "colorbar": {
              "outlinewidth": 0,
              "ticks": ""
             }
            },
            "type": "scatterpolargl"
           }
          ],
          "scatterternary": [
           {
            "marker": {
             "colorbar": {
              "outlinewidth": 0,
              "ticks": ""
             }
            },
            "type": "scatterternary"
           }
          ],
          "surface": [
           {
            "colorbar": {
             "outlinewidth": 0,
             "ticks": ""
            },
            "colorscale": [
             [
              0,
              "#0d0887"
             ],
             [
              0.1111111111111111,
              "#46039f"
             ],
             [
              0.2222222222222222,
              "#7201a8"
             ],
             [
              0.3333333333333333,
              "#9c179e"
             ],
             [
              0.4444444444444444,
              "#bd3786"
             ],
             [
              0.5555555555555556,
              "#d8576b"
             ],
             [
              0.6666666666666666,
              "#ed7953"
             ],
             [
              0.7777777777777778,
              "#fb9f3a"
             ],
             [
              0.8888888888888888,
              "#fdca26"
             ],
             [
              1,
              "#f0f921"
             ]
            ],
            "type": "surface"
           }
          ],
          "table": [
           {
            "cells": {
             "fill": {
              "color": "#EBF0F8"
             },
             "line": {
              "color": "white"
             }
            },
            "header": {
             "fill": {
              "color": "#C8D4E3"
             },
             "line": {
              "color": "white"
             }
            },
            "type": "table"
           }
          ]
         },
         "layout": {
          "annotationdefaults": {
           "arrowcolor": "#2a3f5f",
           "arrowhead": 0,
           "arrowwidth": 1
          },
          "coloraxis": {
           "colorbar": {
            "outlinewidth": 0,
            "ticks": ""
           }
          },
          "colorscale": {
           "diverging": [
            [
             0,
             "#8e0152"
            ],
            [
             0.1,
             "#c51b7d"
            ],
            [
             0.2,
             "#de77ae"
            ],
            [
             0.3,
             "#f1b6da"
            ],
            [
             0.4,
             "#fde0ef"
            ],
            [
             0.5,
             "#f7f7f7"
            ],
            [
             0.6,
             "#e6f5d0"
            ],
            [
             0.7,
             "#b8e186"
            ],
            [
             0.8,
             "#7fbc41"
            ],
            [
             0.9,
             "#4d9221"
            ],
            [
             1,
             "#276419"
            ]
           ],
           "sequential": [
            [
             0,
             "#0d0887"
            ],
            [
             0.1111111111111111,
             "#46039f"
            ],
            [
             0.2222222222222222,
             "#7201a8"
            ],
            [
             0.3333333333333333,
             "#9c179e"
            ],
            [
             0.4444444444444444,
             "#bd3786"
            ],
            [
             0.5555555555555556,
             "#d8576b"
            ],
            [
             0.6666666666666666,
             "#ed7953"
            ],
            [
             0.7777777777777778,
             "#fb9f3a"
            ],
            [
             0.8888888888888888,
             "#fdca26"
            ],
            [
             1,
             "#f0f921"
            ]
           ],
           "sequentialminus": [
            [
             0,
             "#0d0887"
            ],
            [
             0.1111111111111111,
             "#46039f"
            ],
            [
             0.2222222222222222,
             "#7201a8"
            ],
            [
             0.3333333333333333,
             "#9c179e"
            ],
            [
             0.4444444444444444,
             "#bd3786"
            ],
            [
             0.5555555555555556,
             "#d8576b"
            ],
            [
             0.6666666666666666,
             "#ed7953"
            ],
            [
             0.7777777777777778,
             "#fb9f3a"
            ],
            [
             0.8888888888888888,
             "#fdca26"
            ],
            [
             1,
             "#f0f921"
            ]
           ]
          },
          "colorway": [
           "#636efa",
           "#EF553B",
           "#00cc96",
           "#ab63fa",
           "#FFA15A",
           "#19d3f3",
           "#FF6692",
           "#B6E880",
           "#FF97FF",
           "#FECB52"
          ],
          "font": {
           "color": "#2a3f5f"
          },
          "geo": {
           "bgcolor": "white",
           "lakecolor": "white",
           "landcolor": "#E5ECF6",
           "showlakes": true,
           "showland": true,
           "subunitcolor": "white"
          },
          "hoverlabel": {
           "align": "left"
          },
          "hovermode": "closest",
          "mapbox": {
           "style": "light"
          },
          "paper_bgcolor": "white",
          "plot_bgcolor": "#E5ECF6",
          "polar": {
           "angularaxis": {
            "gridcolor": "white",
            "linecolor": "white",
            "ticks": ""
           },
           "bgcolor": "#E5ECF6",
           "radialaxis": {
            "gridcolor": "white",
            "linecolor": "white",
            "ticks": ""
           }
          },
          "scene": {
           "xaxis": {
            "backgroundcolor": "#E5ECF6",
            "gridcolor": "white",
            "gridwidth": 2,
            "linecolor": "white",
            "showbackground": true,
            "ticks": "",
            "zerolinecolor": "white"
           },
           "yaxis": {
            "backgroundcolor": "#E5ECF6",
            "gridcolor": "white",
            "gridwidth": 2,
            "linecolor": "white",
            "showbackground": true,
            "ticks": "",
            "zerolinecolor": "white"
           },
           "zaxis": {
            "backgroundcolor": "#E5ECF6",
            "gridcolor": "white",
            "gridwidth": 2,
            "linecolor": "white",
            "showbackground": true,
            "ticks": "",
            "zerolinecolor": "white"
           }
          },
          "shapedefaults": {
           "line": {
            "color": "#2a3f5f"
           }
          },
          "ternary": {
           "aaxis": {
            "gridcolor": "white",
            "linecolor": "white",
            "ticks": ""
           },
           "baxis": {
            "gridcolor": "white",
            "linecolor": "white",
            "ticks": ""
           },
           "bgcolor": "#E5ECF6",
           "caxis": {
            "gridcolor": "white",
            "linecolor": "white",
            "ticks": ""
           }
          },
          "title": {
           "x": 0.05
          },
          "xaxis": {
           "automargin": true,
           "gridcolor": "white",
           "linecolor": "white",
           "ticks": "",
           "title": {
            "standoff": 15
           },
           "zerolinecolor": "white",
           "zerolinewidth": 2
          },
          "yaxis": {
           "automargin": true,
           "gridcolor": "white",
           "linecolor": "white",
           "ticks": "",
           "title": {
            "standoff": 15
           },
           "zerolinecolor": "white",
           "zerolinewidth": 2
          }
         }
        },
        "title": {
         "font": {
          "color": "#4D5663"
         },
         "text": "Defensive Midfielder - Defend"
        },
        "xaxis": {
         "gridcolor": "#E1E5ED",
         "showgrid": true,
         "tickfont": {
          "color": "#4D5663"
         },
         "title": {
          "font": {
           "color": "#4D5663"
          },
          "text": "Pass Completion %"
         },
         "zerolinecolor": "#E1E5ED"
        },
        "yaxis": {
         "gridcolor": "#E1E5ED",
         "showgrid": true,
         "tickfont": {
          "color": "#4D5663"
         },
         "title": {
          "font": {
           "color": "#4D5663"
          },
          "text": "Interceptions/90"
         },
         "zerolinecolor": "#E1E5ED"
        }
       }
      },
      "text/html": [
       "<div>\n",
       "        \n",
       "        \n",
       "            <div id=\"3e5f28ac-622a-4431-b740-cf273333ecfc\" class=\"plotly-graph-div\" style=\"height:525px; width:100%;\"></div>\n",
       "            <script type=\"text/javascript\">\n",
       "                require([\"plotly\"], function(Plotly) {\n",
       "                    window.PLOTLYENV=window.PLOTLYENV || {};\n",
       "                    window.PLOTLYENV.BASE_URL='https://plot.ly';\n",
       "                    \n",
       "                if (document.getElementById(\"3e5f28ac-622a-4431-b740-cf273333ecfc\")) {\n",
       "                    Plotly.newPlot(\n",
       "                        '3e5f28ac-622a-4431-b740-cf273333ecfc',\n",
       "                        [{\"line\": {\"color\": \"rgba(255, 153, 51, 1.0)\", \"dash\": \"solid\", \"shape\": \"linear\", \"width\": 1.3}, \"marker\": {\"size\": 10, \"symbol\": \"circle\"}, \"mode\": \"markers\", \"name\": \"Int/90\", \"text\": [\"Oskar Repka\", \"Marcel Mehlem\", \"Jessie Guera Djou\", \"Andjelo Kacavenda\", \"Michal Ozga\", \"Josip Zeljkovic\", \"Lukasz Duszkiewicz\", \"Bartlomiej Gajda\", \"Aleksa Pejic\", \"Daniel Pospisil\", \"Jakov Basic\", \"Robert Mandrysz\", \"Sasa Tomanovic\", \"Sebastian Duda\", \"Ivan Jovanovic\", \"Duje Medak\", \"Dominik Siwinski\", \"Arkadiusz Kozlowski\", \"Fanol P\\u00c3\\u00abrdedaj\", \"Kamil Niewiadomski\", \"Lukasz Mozler\", \"Haris Memic\", \"Kristijan Jakic\", \"Filip Tolic\", \"Jakub Kisiel\", \"Dawid Kisly\", \"Taras Romanchuk\", \"Aleksander Slezak\", \"Tomasz Owczarek\", \"Richie Smallwood\", \"Mateusz Stepien\", \"Josip Bauk\", \"Domagoj Perica\", \"Uros Filipovic\", \"Stefan Velickovic\", \"Filip Sredojevic\", \"Radoslaw Kaminski\", \"Alexander Fuchs\", \"Tomas Huk\", \"Wojciech Kaminski\", \"Kasim Adams\", \"Mateusz Madzia\", \"Sebastian Kopec\", \"Jovan Simic\", \"Antonio Asanovic\", \"Marko Labovic\", \"Hubert Molski\", \"Hrvoje Dzijan\", \"Amos Youga\", \"Mario Erb\", \"Fabio Daprel\\u00c3\", \"Kresimir Jelic\", \"Jakob Johansson\", \"Liam Gordon\", \"Jakub Hric\", \"Damian Koziel\", \"Malcom Edjouma\", \"Piotr Wujec\", \"Donald Molls\", \"Luka Pavkovic\", \"Norbert Radkiewicz\", \"Danilo Wiebe\", \"Kristi Qose\", \"Nikola Puzic\", \"Radoslaw Kursa\", \"Jonas Bager\", \"Jon Flanagan\", \"Vuk Mitosevic\", \"Tom Hateley\", \"Sasa Balic\", \"Mohamed Loua\", \"Dawid Bialek\", \"Ben Thompson\", \"Pawel Kohut\", \"Daniel Haritonov\", \"Andrej Causic\", \"Sebastian Smialek\", \"Luka Miljevic\", \"Andrzej Korytek\", \"Mario Cuic\", \"Lubomir Satka\", \"Vukasin Krstic\", \"Peter Drobnak\", \"Marko Filipovic\", \"Martin Vukorepa\", \"Nicklas Shipnoski\", \"Joey Pelupessy\", \"Antonio Mrkovic\", \"Kamal Bafounta\", \"Adrian Liberacki\", \"Tevin Ihrig\", \"Sandi Lovric\", \"Patrick Wolfgang Kapp\", \"Ivan Roca\", \"Karol Drwecki\", \"Zlatko Ilicic\", \"Luka Cakarun\", \"Tan Jiajie\", \"Domagoj Zigri\", \"Casper Elderman\", \"Samuel Lengle\", \"Luka Cankovic\", \"Kenny Dougall\", \"Aur\\u00c3\\u00a9lien Nguiamba\", \"Fahri Akyol\", \"Andrija Crnadak\", \"Grzegorz Wawrzynski\", \"Julian Rieckmann\", \"Leandro\", \"Milos Brajovic\", \"Nathan Baker\", \"Matthias Rahn\", \"Petar Mitic\", \"Dusan Stevanovic\", \"Jan Janik\", \"Fran Tomek\", \"Tomasz Lewandowski\", \"Mateusz Dlugolecki\", \"Pawel Baranowski\", \"David Jablonsky\", \"Adam Mesjasz\", \"Oliver Praznovsky\", \"Florian Egerer\", \"Maxim Kventser\", \"Nikola Bjelanovic\", \"Bojan Cigulajkic\", \"Philip Heise\", \"Thomas Haas\", \"Milan Janjic\", \"Max Dombrowka\", \"Ervin Kacar\", \"\\u00c3\\u0093scar Gil\", \"Maxime Le Marchand\", \"Jan L\\u00c3\\u00b6hmannsr\\u00c3\\u00b6ben\", \"Andrzej Kloda\", \"Adrian Polanski\", \"Ram\\u00c3\\u00b3n\", \"Jan Sieracki\", \"Dusan Jokovic\", \"Daniel Dziwniel\", \"Patryk Wilk\", \"Sebastian Zalepa\", \"Jan Sterba\", \"Stefan Draskovic\", \"Damian Garbacik\", \"Bartosz Kopacz\", \"Szymon Kobeszko\", \"Massadio Ha\\u00c3\\u00afdara\", \"Manuel Martic\", \"Filip Bainovic\", \"Adrian Niewiadomski\", \"Marcin Mackowiak\", \"Pierre Fassnacht\", \"Michael Heinloth\", \"Nenad Kocovic\", \"Miladin Stevanovic\", \"Jakub Pruzanin\", \"Bartlomiej Mruk\", \"Herbert Paul\", \"Donatas Nakrosius\", \"Ivan Zgrablic\", \"Robin Urban\", \"Kacper Gorski\", \"Adrian Filipiak\", \"Adrian Purzycki\", \"Kostas Triantafyllopoulos\", \"Aleksandar Bjelica\", \"Tomas Petrasek\", \"Miquel Nelom\", \"Koen Weuts\", \"Aleksandar Petrovic\", \"Marcin Dabrowski\", \"Niko Datkovic\", \"Michal Zieba\", \"Rafal Ostrowski\", \"Ivan Tomac\", \"David Urban\", \"Andrej Startsev\", \"Nemanja Vidic\", \"Petar Botica\", \"Bojan Gocanin\", \"Fabian Holthaus\", \"Tim H\\u00c3\\u00a4u\\u00c3\\u009fler\", \"Mikkel Kirkeskov\", \"Ovidiu Popescu\", \"Iliya Gruev\", \"Filip Jovic\", \"Douglas Bergqvist\", \"Marcin Sudy\", \"Mart Ristl\", \"Lovro Sindik\", \"Mladen Micanovic\", \"Blazej Cyfert\", \"Luca Zander\", \"Igor Sapala\", \"Jan Sobocinski\", \"Artur Gac\", \"Kacper Jozefiak\", \"Zvezdan Djordjilovic\", \"David Bumberger\", \"Ivan Bosnjak\", \"Michal Wrzesniewski\", \"Aleksandar Ignjovski\", \"Turgay Gemicibasi\", \"Nenad Kiso\", \"Lukasz Sztylka\", \"Noboru Shimura\", \"Derrick Williams\", \"Dino Stiglec\", \"Kyriakos Savvidis\", \"Niklas Landgraf\", \"Tomasz Wojcinowicz\", \"Mateusz Pienczak\", \"Jaroslaw Kubicki\", \"Patrick Kammerbauer\", \"Luis G\\u00c3\\u00b6rlich\", \"Chris Wolf\", \"Josip Sutalo\", \"Jakub Zima\", \"Ernest Dzieciol\", \"Norbert Myszka\", \"Robin Flu\\u00c3\\u009f\", \"Nemanja Milovanovic\", \"Syam Ben Youssef\", \"Adrian Rybak\", \"Rafal Remisz\", \"Bartlomiej Kasprzak\", \"Miroslav Bogosavac\", \"Dragoljub Srnic\", \"Kaan Kurt\", \"Ivan Runje\", \"Sonny Bradley\", \"Adam Pazio\", \"Ariel Borysiuk\", \"Krystian Stolarczyk\", \"Damian Kostkowski\", \"Dominik Nothnagel\", \"Michel St\\u00c3\\u00b6cker\", \"Ryan Malone\", \"Milan Makaric\", \"Matej Hybs\", \"Sven Botman\", \"Piotr Bartloszewski\", \"Mariusz Holik\", \"Mateo Jaksic\", \"Ashton G\\u00c3\\u00b6tz\", \"Marcos Rodr\\u00c3\\u00adguez\", \"Jakub Swiecinski\", \"Marius Gr\\u00c3\\u00b6sch\", \"Aleksa Jovanovic\", \"Aleksandar Varjacic\", \"Mirko Djermanovic\", \"Igor Biedrzycki\", \"Lukas Duriska\", \"Julien Tadrowski\", \"Jakub Niewiadomski\", \"Philipp Riese\", \"Bartlomiej Lorenc\", \"Julian Wolff\", \"Adrian Bielawski\", \"Filip Zderic\", \"Eric Weeger\", \"Bartosz Kieliba\", \"Filp Ceko\", \"Ariel Mosor\", \"Srdjan Grabez\", \"Bozidar Petrovic\", \"Benjamin Himmel\", \"Marco Komenda\", \"Wiktor Nahrebecki\", \"Niclas Stierlin\", null], \"type\": \"scatter\", \"x\": [\"71%\", \"80%\", \"78%\", \"77%\", \"70%\", \"73%\", \"70%\", \"74%\", \"76%\", \"71%\", \"74%\", \"74%\", \"76%\", \"72%\", \"75%\", \"73%\", \"74%\", \"75%\", \"75%\", \"73%\", \"78%\", \"71%\", \"75%\", \"78%\", \"71%\", \"72%\", \"82%\", \"72%\", \"70%\", \"78%\", \"69%\", \"72%\", \"67%\", \"76%\", \"76%\", \"69%\", \"73%\", \"79%\", \"78%\", \"77%\", \"76%\", \"66%\", \"71%\", \"72%\", \"75%\", \"75%\", \"64%\", \"72%\", \"76%\", \"76%\", \"75%\", \"65%\", \"78%\", \"74%\", \"69%\", \"69%\", \"80%\", \"70%\", \"67%\", \"73%\", \"68%\", \"76%\", \"71%\", \"69%\", \"72%\", \"75%\", \"72%\", \"79%\", \"79%\", \"76%\", \"82%\", \"69%\", \"80%\", \"67%\", \"70%\", \"75%\", \"71%\", \"80%\", \"74%\", \"73%\", \"78%\", \"73%\", \"69%\", \"75%\", \"72%\", \"77%\", \"78%\", \"70%\", \"80%\", \"70%\", \"77%\", \"79%\", \"77%\", \"73%\", \"68%\", \"68%\", \"77%\", \"66%\", \"71%\", \"73%\", \"70%\", \"72%\", \"80%\", \"80%\", \"71%\", \"74%\", \"62%\", \"79%\", \"75%\", \"75%\", \"75%\", \"65%\", \"76%\", \"78%\", \"72%\", \"78%\", \"71%\", \"74%\", \"73%\", \"77%\", \"72%\", \"76%\", \"73%\", \"67%\", \"68%\", \"67%\", \"81%\", \"70%\", \"76%\", \"73%\", \"66%\", \"80%\", \"84%\", \"71%\", \"68%\", \"64%\", \"81%\", \"70%\", \"74%\", \"69%\", \"71%\", \"72%\", \"77%\", \"69%\", \"69%\", \"71%\", \"75%\", \"73%\", \"79%\", \"76%\", \"74%\", \"75%\", \"73%\", \"68%\", \"69%\", \"73%\", \"65%\", \"72%\", \"75%\", \"73%\", \"72%\", \"71%\", \"71%\", \"67%\", \"77%\", \"75%\", \"75%\", \"73%\", \"69%\", \"74%\", \"66%\", \"70%\", \"75%\", \"72%\", \"73%\", \"70%\", \"76%\", \"69%\", \"76%\", \"75%\", \"81%\", \"71%\", \"71%\", \"69%\", \"75%\", \"78%\", \"78%\", \"78%\", \"69%\", \"71%\", \"77%\", \"73%\", \"73%\", \"83%\", \"77%\", \"82%\", \"65%\", \"71%\", \"69%\", \"74%\", \"71%\", \"76%\", \"80%\", \"75%\", \"83%\", \"66%\", \"71%\", \"76%\", \"74%\", \"78%\", \"77%\", \"72%\", \"73%\", \"77%\", \"81%\", \"70%\", \"71%\", \"73%\", \"76%\", \"73%\", \"69%\", \"73%\", \"77%\", \"76%\", \"71%\", \"75%\", \"75%\", \"73%\", \"77%\", \"68%\", \"76%\", \"75%\", \"72%\", \"80%\", \"74%\", \"72%\", \"74%\", \"74%\", \"74%\", \"79%\", \"72%\", \"76%\", \"64%\", \"71%\", \"68%\", \"69%\", \"70%\", \"72%\", \"72%\", \"74%\", \"75%\", \"65%\", \"72%\", \"75%\", \"74%\", \"67%\", \"76%\", \"68%\", \"71%\", \"68%\", \"69%\", \"67%\", \"76%\", \"64%\", \"75%\", \"72%\", \"70%\", \"72%\", \"75%\", \"72%\", \"73%\", null], \"y\": [3.02, 5.07, 3.7, 3.18, 1.08, 2.61, 4.11, 4.17, 2.35, 3.63, 1.74, 3.69, 3.89, 2.96, 2.75, 3.31, 5.11, 5.49, 3.36, 2.83, 2.94, 3.51, 2.28, 3.81, 1.72, 1.7, 3.87, 3.5, 1.62, 3.72, 1.2, 2.88, 2.17, 3.5, 2.3, 3.99, 4.15, 4.17, 3.84, 3.82, 2.55, 3.88, 3.43, 4.05, 3.0, 3.89, 3.72, 3.33, 2.97, 4.37, 4.16, 2.22, 5.6, 3.56, 3.0, 4.09, 3.6, 3.89, 2.62, 3.95, 3.49, 4.51, 2.92, 3.4, 3.11, 3.31, 4.01, 2.95, 4.17, 4.45, 3.64, 2.9, 2.62, 3.48, 3.29, 3.56, 2.59, 5.12, 3.9, 5.05, 5.6, 4.32, 1.56, 2.22, 5.53, 1.66, 3.11, 5.53, 5.11, 2.53, 4.57, 3.62, 4.51, 2.66, 3.67, 3.7, 2.92, 0.92, 4.04, 3.21, 3.33, 3.25, 2.61, 2.55, 3.31, 2.1, 4.68, 4.07, 3.28, 4.03, 3.4, 2.4, 3.53, 2.77, 2.41, 3.15, 3.36, 2.84, 3.89, 4.56, 2.61, 3.46, 3.41, 4.0, 3.57, 3.58, 2.09, 3.65, 3.42, 4.14, 2.31, 3.88, 4.29, 2.75, 3.51, 4.07, 3.39, 2.45, 2.69, 3.7, 3.5, 3.1, 3.09, 3.99, 3.62, 3.18, 2.69, 4.1, 3.06, 3.11, 4.38, 2.77, 4.39, 3.99, 3.66, 3.26, 3.11, 4.61, 1.95, 3.13, 3.33, 3.35, 3.21, 3.15, 3.63, 2.81, 3.2, 3.05, 3.33, 3.32, 2.38, 1.56, 3.88, 2.96, 4.26, 3.32, 4.2, 2.38, 2.3, 3.22, 3.51, 1.94, 4.06, 3.12, 2.82, 3.07, 4.17, 2.76, 1.83, 2.64, 2.94, 3.2, 3.11, 3.0, 2.91, 3.29, 2.87, 3.57, 3.29, 4.08, 1.57, 2.95, 1.85, 3.59, 4.08, 1.49, 3.15, 4.19, 2.6, 2.2, 4.25, 3.89, 2.92, 3.0, 2.37, 2.07, 5.34, 3.54, 2.9, 2.95, 3.85, 3.84, 3.26, 4.23, 2.55, 3.08, 2.71, 3.88, 3.6, 1.35, 3.79, 3.71, 2.61, 4.05, 3.68, 4.29, 3.75, 3.88, 2.93, 3.92, 3.15, 2.76, 3.12, 3.22, 2.3, 2.25, 1.37, 2.79, 3.87, 2.82, 3.67, 3.83, 3.4, 2.41, 3.59, 1.97, 3.72, 3.21, 3.0, 4.26, 1.93, 4.62, 2.39, 2.94, 4.0, 2.96, 3.16, 1.44, 3.94, 3.53, 2.5, \"\"]}],\n",
       "                        {\"legend\": {\"bgcolor\": \"#F5F6F9\", \"font\": {\"color\": \"#4D5663\"}}, \"paper_bgcolor\": \"#F5F6F9\", \"plot_bgcolor\": \"#F5F6F9\", \"template\": {\"data\": {\"bar\": [{\"error_x\": {\"color\": \"#2a3f5f\"}, \"error_y\": {\"color\": \"#2a3f5f\"}, \"marker\": {\"line\": {\"color\": \"#E5ECF6\", \"width\": 0.5}}, \"type\": \"bar\"}], \"barpolar\": [{\"marker\": {\"line\": {\"color\": \"#E5ECF6\", \"width\": 0.5}}, \"type\": \"barpolar\"}], \"carpet\": [{\"aaxis\": {\"endlinecolor\": \"#2a3f5f\", \"gridcolor\": \"white\", \"linecolor\": \"white\", \"minorgridcolor\": \"white\", \"startlinecolor\": \"#2a3f5f\"}, \"baxis\": {\"endlinecolor\": \"#2a3f5f\", \"gridcolor\": \"white\", \"linecolor\": \"white\", \"minorgridcolor\": \"white\", \"startlinecolor\": \"#2a3f5f\"}, \"type\": \"carpet\"}], \"choropleth\": [{\"colorbar\": {\"outlinewidth\": 0, \"ticks\": \"\"}, \"type\": \"choropleth\"}], \"contour\": [{\"colorbar\": {\"outlinewidth\": 0, \"ticks\": \"\"}, \"colorscale\": [[0.0, \"#0d0887\"], [0.1111111111111111, \"#46039f\"], [0.2222222222222222, \"#7201a8\"], [0.3333333333333333, \"#9c179e\"], [0.4444444444444444, \"#bd3786\"], [0.5555555555555556, \"#d8576b\"], [0.6666666666666666, \"#ed7953\"], [0.7777777777777778, \"#fb9f3a\"], [0.8888888888888888, \"#fdca26\"], [1.0, \"#f0f921\"]], \"type\": \"contour\"}], \"contourcarpet\": [{\"colorbar\": {\"outlinewidth\": 0, \"ticks\": \"\"}, \"type\": \"contourcarpet\"}], \"heatmap\": [{\"colorbar\": {\"outlinewidth\": 0, \"ticks\": \"\"}, \"colorscale\": [[0.0, \"#0d0887\"], [0.1111111111111111, \"#46039f\"], [0.2222222222222222, \"#7201a8\"], [0.3333333333333333, \"#9c179e\"], [0.4444444444444444, \"#bd3786\"], [0.5555555555555556, \"#d8576b\"], [0.6666666666666666, \"#ed7953\"], [0.7777777777777778, \"#fb9f3a\"], [0.8888888888888888, \"#fdca26\"], [1.0, \"#f0f921\"]], \"type\": \"heatmap\"}], \"heatmapgl\": [{\"colorbar\": {\"outlinewidth\": 0, \"ticks\": \"\"}, \"colorscale\": [[0.0, \"#0d0887\"], [0.1111111111111111, \"#46039f\"], [0.2222222222222222, \"#7201a8\"], [0.3333333333333333, \"#9c179e\"], [0.4444444444444444, \"#bd3786\"], [0.5555555555555556, \"#d8576b\"], [0.6666666666666666, \"#ed7953\"], [0.7777777777777778, \"#fb9f3a\"], [0.8888888888888888, \"#fdca26\"], [1.0, \"#f0f921\"]], \"type\": \"heatmapgl\"}], \"histogram\": [{\"marker\": {\"colorbar\": {\"outlinewidth\": 0, \"ticks\": \"\"}}, \"type\": \"histogram\"}], \"histogram2d\": [{\"colorbar\": {\"outlinewidth\": 0, \"ticks\": \"\"}, \"colorscale\": [[0.0, \"#0d0887\"], [0.1111111111111111, \"#46039f\"], [0.2222222222222222, \"#7201a8\"], [0.3333333333333333, \"#9c179e\"], [0.4444444444444444, \"#bd3786\"], [0.5555555555555556, \"#d8576b\"], [0.6666666666666666, \"#ed7953\"], [0.7777777777777778, \"#fb9f3a\"], [0.8888888888888888, \"#fdca26\"], [1.0, \"#f0f921\"]], \"type\": \"histogram2d\"}], \"histogram2dcontour\": [{\"colorbar\": {\"outlinewidth\": 0, \"ticks\": \"\"}, \"colorscale\": [[0.0, \"#0d0887\"], [0.1111111111111111, \"#46039f\"], [0.2222222222222222, \"#7201a8\"], [0.3333333333333333, \"#9c179e\"], [0.4444444444444444, \"#bd3786\"], [0.5555555555555556, \"#d8576b\"], [0.6666666666666666, \"#ed7953\"], [0.7777777777777778, \"#fb9f3a\"], [0.8888888888888888, \"#fdca26\"], [1.0, \"#f0f921\"]], \"type\": \"histogram2dcontour\"}], \"mesh3d\": [{\"colorbar\": {\"outlinewidth\": 0, \"ticks\": \"\"}, \"type\": \"mesh3d\"}], \"parcoords\": [{\"line\": {\"colorbar\": {\"outlinewidth\": 0, \"ticks\": \"\"}}, \"type\": \"parcoords\"}], \"pie\": [{\"automargin\": true, \"type\": \"pie\"}], \"scatter\": [{\"marker\": {\"colorbar\": {\"outlinewidth\": 0, \"ticks\": \"\"}}, \"type\": \"scatter\"}], \"scatter3d\": [{\"line\": {\"colorbar\": {\"outlinewidth\": 0, \"ticks\": \"\"}}, \"marker\": {\"colorbar\": {\"outlinewidth\": 0, \"ticks\": \"\"}}, \"type\": \"scatter3d\"}], \"scattercarpet\": [{\"marker\": {\"colorbar\": {\"outlinewidth\": 0, \"ticks\": \"\"}}, \"type\": \"scattercarpet\"}], \"scattergeo\": [{\"marker\": {\"colorbar\": {\"outlinewidth\": 0, \"ticks\": \"\"}}, \"type\": \"scattergeo\"}], \"scattergl\": [{\"marker\": {\"colorbar\": {\"outlinewidth\": 0, \"ticks\": \"\"}}, \"type\": \"scattergl\"}], \"scattermapbox\": [{\"marker\": {\"colorbar\": {\"outlinewidth\": 0, \"ticks\": \"\"}}, \"type\": \"scattermapbox\"}], \"scatterpolar\": [{\"marker\": {\"colorbar\": {\"outlinewidth\": 0, \"ticks\": \"\"}}, \"type\": \"scatterpolar\"}], \"scatterpolargl\": [{\"marker\": {\"colorbar\": {\"outlinewidth\": 0, \"ticks\": \"\"}}, \"type\": \"scatterpolargl\"}], \"scatterternary\": [{\"marker\": {\"colorbar\": {\"outlinewidth\": 0, \"ticks\": \"\"}}, \"type\": \"scatterternary\"}], \"surface\": [{\"colorbar\": {\"outlinewidth\": 0, \"ticks\": \"\"}, \"colorscale\": [[0.0, \"#0d0887\"], [0.1111111111111111, \"#46039f\"], [0.2222222222222222, \"#7201a8\"], [0.3333333333333333, \"#9c179e\"], [0.4444444444444444, \"#bd3786\"], [0.5555555555555556, \"#d8576b\"], [0.6666666666666666, \"#ed7953\"], [0.7777777777777778, \"#fb9f3a\"], [0.8888888888888888, \"#fdca26\"], [1.0, \"#f0f921\"]], \"type\": \"surface\"}], \"table\": [{\"cells\": {\"fill\": {\"color\": \"#EBF0F8\"}, \"line\": {\"color\": \"white\"}}, \"header\": {\"fill\": {\"color\": \"#C8D4E3\"}, \"line\": {\"color\": \"white\"}}, \"type\": \"table\"}]}, \"layout\": {\"annotationdefaults\": {\"arrowcolor\": \"#2a3f5f\", \"arrowhead\": 0, \"arrowwidth\": 1}, \"coloraxis\": {\"colorbar\": {\"outlinewidth\": 0, \"ticks\": \"\"}}, \"colorscale\": {\"diverging\": [[0, \"#8e0152\"], [0.1, \"#c51b7d\"], [0.2, \"#de77ae\"], [0.3, \"#f1b6da\"], [0.4, \"#fde0ef\"], [0.5, \"#f7f7f7\"], [0.6, \"#e6f5d0\"], [0.7, \"#b8e186\"], [0.8, \"#7fbc41\"], [0.9, \"#4d9221\"], [1, \"#276419\"]], \"sequential\": [[0.0, \"#0d0887\"], [0.1111111111111111, \"#46039f\"], [0.2222222222222222, \"#7201a8\"], [0.3333333333333333, \"#9c179e\"], [0.4444444444444444, \"#bd3786\"], [0.5555555555555556, \"#d8576b\"], [0.6666666666666666, \"#ed7953\"], [0.7777777777777778, \"#fb9f3a\"], [0.8888888888888888, \"#fdca26\"], [1.0, \"#f0f921\"]], \"sequentialminus\": [[0.0, \"#0d0887\"], [0.1111111111111111, \"#46039f\"], [0.2222222222222222, \"#7201a8\"], [0.3333333333333333, \"#9c179e\"], [0.4444444444444444, \"#bd3786\"], [0.5555555555555556, \"#d8576b\"], [0.6666666666666666, \"#ed7953\"], [0.7777777777777778, \"#fb9f3a\"], [0.8888888888888888, \"#fdca26\"], [1.0, \"#f0f921\"]]}, \"colorway\": [\"#636efa\", \"#EF553B\", \"#00cc96\", \"#ab63fa\", \"#FFA15A\", \"#19d3f3\", \"#FF6692\", \"#B6E880\", \"#FF97FF\", \"#FECB52\"], \"font\": {\"color\": \"#2a3f5f\"}, \"geo\": {\"bgcolor\": \"white\", \"lakecolor\": \"white\", \"landcolor\": \"#E5ECF6\", \"showlakes\": true, \"showland\": true, \"subunitcolor\": \"white\"}, \"hoverlabel\": {\"align\": \"left\"}, \"hovermode\": \"closest\", \"mapbox\": {\"style\": \"light\"}, \"paper_bgcolor\": \"white\", \"plot_bgcolor\": \"#E5ECF6\", \"polar\": {\"angularaxis\": {\"gridcolor\": \"white\", \"linecolor\": \"white\", \"ticks\": \"\"}, \"bgcolor\": \"#E5ECF6\", \"radialaxis\": {\"gridcolor\": \"white\", \"linecolor\": \"white\", \"ticks\": \"\"}}, \"scene\": {\"xaxis\": {\"backgroundcolor\": \"#E5ECF6\", \"gridcolor\": \"white\", \"gridwidth\": 2, \"linecolor\": \"white\", \"showbackground\": true, \"ticks\": \"\", \"zerolinecolor\": \"white\"}, \"yaxis\": {\"backgroundcolor\": \"#E5ECF6\", \"gridcolor\": \"white\", \"gridwidth\": 2, \"linecolor\": \"white\", \"showbackground\": true, \"ticks\": \"\", \"zerolinecolor\": \"white\"}, \"zaxis\": {\"backgroundcolor\": \"#E5ECF6\", \"gridcolor\": \"white\", \"gridwidth\": 2, \"linecolor\": \"white\", \"showbackground\": true, \"ticks\": \"\", \"zerolinecolor\": \"white\"}}, \"shapedefaults\": {\"line\": {\"color\": \"#2a3f5f\"}}, \"ternary\": {\"aaxis\": {\"gridcolor\": \"white\", \"linecolor\": \"white\", \"ticks\": \"\"}, \"baxis\": {\"gridcolor\": \"white\", \"linecolor\": \"white\", \"ticks\": \"\"}, \"bgcolor\": \"#E5ECF6\", \"caxis\": {\"gridcolor\": \"white\", \"linecolor\": \"white\", \"ticks\": \"\"}}, \"title\": {\"x\": 0.05}, \"xaxis\": {\"automargin\": true, \"gridcolor\": \"white\", \"linecolor\": \"white\", \"ticks\": \"\", \"title\": {\"standoff\": 15}, \"zerolinecolor\": \"white\", \"zerolinewidth\": 2}, \"yaxis\": {\"automargin\": true, \"gridcolor\": \"white\", \"linecolor\": \"white\", \"ticks\": \"\", \"title\": {\"standoff\": 15}, \"zerolinecolor\": \"white\", \"zerolinewidth\": 2}}}, \"title\": {\"font\": {\"color\": \"#4D5663\"}, \"text\": \"Defensive Midfielder - Defend\"}, \"xaxis\": {\"gridcolor\": \"#E1E5ED\", \"showgrid\": true, \"tickfont\": {\"color\": \"#4D5663\"}, \"title\": {\"font\": {\"color\": \"#4D5663\"}, \"text\": \"Pass Completion %\"}, \"zerolinecolor\": \"#E1E5ED\"}, \"yaxis\": {\"gridcolor\": \"#E1E5ED\", \"showgrid\": true, \"tickfont\": {\"color\": \"#4D5663\"}, \"title\": {\"font\": {\"color\": \"#4D5663\"}, \"text\": \"Interceptions/90\"}, \"zerolinecolor\": \"#E1E5ED\"}},\n",
       "                        {\"showLink\": true, \"linkText\": \"Export to plot.ly\", \"plotlyServerURL\": \"https://plot.ly\", \"responsive\": true}\n",
       "                    ).then(function(){\n",
       "                            \n",
       "var gd = document.getElementById('3e5f28ac-622a-4431-b740-cf273333ecfc');\n",
       "var x = new MutationObserver(function (mutations, observer) {{\n",
       "        var display = window.getComputedStyle(gd).display;\n",
       "        if (!display || display === 'none') {{\n",
       "            console.log([gd, 'removed!']);\n",
       "            Plotly.purge(gd);\n",
       "            observer.disconnect();\n",
       "        }}\n",
       "}});\n",
       "\n",
       "// Listen for the removal of the full notebook cells\n",
       "var notebookContainer = gd.closest('#notebook-container');\n",
       "if (notebookContainer) {{\n",
       "    x.observe(notebookContainer, {childList: true});\n",
       "}}\n",
       "\n",
       "// Listen for the clearing of the current output cell\n",
       "var outputEl = gd.closest('.output');\n",
       "if (outputEl) {{\n",
       "    x.observe(outputEl, {childList: true});\n",
       "}}\n",
       "\n",
       "                        })\n",
       "                };\n",
       "                });\n",
       "            </script>\n",
       "        </div>"
      ]
     },
     "metadata": {},
     "output_type": "display_data"
    }
   ],
   "source": [
    "df.iplot(kind='scatter',x='Pas %',y='Int/90',\n",
    "           mode='markers',text='Name',size=10,\n",
    "          xTitle='Pass Completion %',yTitle='Interceptions/90',title='Defensive Midfielder - Defend')"
   ]
  },
  {
   "cell_type": "code",
   "execution_count": 16,
   "metadata": {},
   "outputs": [
    {
     "data": {
      "application/vnd.plotly.v1+json": {
       "config": {
        "linkText": "Export to plot.ly",
        "plotlyServerURL": "https://plot.ly",
        "showLink": true
       },
       "data": [
        {
         "line": {
          "color": "rgba(255, 153, 51, 1.0)",
          "dash": "solid",
          "shape": "linear",
          "width": 1.3
         },
         "marker": {
          "size": 10,
          "symbol": "circle"
         },
         "mode": "markers",
         "name": "Int/90",
         "text": [
          "Oskar Repka",
          "Marcel Mehlem",
          "Jessie Guera Djou",
          "Andjelo Kacavenda",
          "Michal Ozga",
          "Josip Zeljkovic",
          "Lukasz Duszkiewicz",
          "Bartlomiej Gajda",
          "Aleksa Pejic",
          "Daniel Pospisil",
          "Jakov Basic",
          "Robert Mandrysz",
          "Sasa Tomanovic",
          "Sebastian Duda",
          "Ivan Jovanovic",
          "Duje Medak",
          "Dominik Siwinski",
          "Arkadiusz Kozlowski",
          "Fanol PÃ«rdedaj",
          "Kamil Niewiadomski",
          "Lukasz Mozler",
          "Haris Memic",
          "Kristijan Jakic",
          "Filip Tolic",
          "Jakub Kisiel",
          "Dawid Kisly",
          "Taras Romanchuk",
          "Aleksander Slezak",
          "Tomasz Owczarek",
          "Richie Smallwood",
          "Mateusz Stepien",
          "Josip Bauk",
          "Domagoj Perica",
          "Uros Filipovic",
          "Stefan Velickovic",
          "Filip Sredojevic",
          "Radoslaw Kaminski",
          "Alexander Fuchs",
          "Tomas Huk",
          "Wojciech Kaminski",
          "Kasim Adams",
          "Mateusz Madzia",
          "Sebastian Kopec",
          "Jovan Simic",
          "Antonio Asanovic",
          "Marko Labovic",
          "Hubert Molski",
          "Hrvoje Dzijan",
          "Amos Youga",
          "Mario Erb",
          "Fabio DaprelÃ",
          "Kresimir Jelic",
          "Jakob Johansson",
          "Liam Gordon",
          "Jakub Hric",
          "Damian Koziel",
          "Malcom Edjouma",
          "Piotr Wujec",
          "Donald Molls",
          "Luka Pavkovic",
          "Norbert Radkiewicz",
          "Danilo Wiebe",
          "Kristi Qose",
          "Nikola Puzic",
          "Radoslaw Kursa",
          "Jonas Bager",
          "Jon Flanagan",
          "Vuk Mitosevic",
          "Tom Hateley",
          "Sasa Balic",
          "Mohamed Loua",
          "Dawid Bialek",
          "Ben Thompson",
          "Pawel Kohut",
          "Daniel Haritonov",
          "Andrej Causic",
          "Sebastian Smialek",
          "Luka Miljevic",
          "Andrzej Korytek",
          "Mario Cuic",
          "Lubomir Satka",
          "Vukasin Krstic",
          "Peter Drobnak",
          "Marko Filipovic",
          "Martin Vukorepa",
          "Nicklas Shipnoski",
          "Joey Pelupessy",
          "Antonio Mrkovic",
          "Kamal Bafounta",
          "Adrian Liberacki",
          "Tevin Ihrig",
          "Sandi Lovric",
          "Patrick Wolfgang Kapp",
          "Ivan Roca",
          "Karol Drwecki",
          "Zlatko Ilicic",
          "Luka Cakarun",
          "Tan Jiajie",
          "Domagoj Zigri",
          "Casper Elderman",
          "Samuel Lengle",
          "Luka Cankovic",
          "Kenny Dougall",
          "AurÃ©lien Nguiamba",
          "Fahri Akyol",
          "Andrija Crnadak",
          "Grzegorz Wawrzynski",
          "Julian Rieckmann",
          "Leandro",
          "Milos Brajovic",
          "Nathan Baker",
          "Matthias Rahn",
          "Petar Mitic",
          "Dusan Stevanovic",
          "Jan Janik",
          "Fran Tomek",
          "Tomasz Lewandowski",
          "Mateusz Dlugolecki",
          "Pawel Baranowski",
          "David Jablonsky",
          "Adam Mesjasz",
          "Oliver Praznovsky",
          "Florian Egerer",
          "Maxim Kventser",
          "Nikola Bjelanovic",
          "Bojan Cigulajkic",
          "Philip Heise",
          "Thomas Haas",
          "Milan Janjic",
          "Max Dombrowka",
          "Ervin Kacar",
          "Ãscar Gil",
          "Maxime Le Marchand",
          "Jan LÃ¶hmannsrÃ¶ben",
          "Andrzej Kloda",
          "Adrian Polanski",
          "RamÃ³n",
          "Jan Sieracki",
          "Dusan Jokovic",
          "Daniel Dziwniel",
          "Patryk Wilk",
          "Sebastian Zalepa",
          "Jan Sterba",
          "Stefan Draskovic",
          "Damian Garbacik",
          "Bartosz Kopacz",
          "Szymon Kobeszko",
          "Massadio HaÃ¯dara",
          "Manuel Martic",
          "Filip Bainovic",
          "Adrian Niewiadomski",
          "Marcin Mackowiak",
          "Pierre Fassnacht",
          "Michael Heinloth",
          "Nenad Kocovic",
          "Miladin Stevanovic",
          "Jakub Pruzanin",
          "Bartlomiej Mruk",
          "Herbert Paul",
          "Donatas Nakrosius",
          "Ivan Zgrablic",
          "Robin Urban",
          "Kacper Gorski",
          "Adrian Filipiak",
          "Adrian Purzycki",
          "Kostas Triantafyllopoulos",
          "Aleksandar Bjelica",
          "Tomas Petrasek",
          "Miquel Nelom",
          "Koen Weuts",
          "Aleksandar Petrovic",
          "Marcin Dabrowski",
          "Niko Datkovic",
          "Michal Zieba",
          "Rafal Ostrowski",
          "Ivan Tomac",
          "David Urban",
          "Andrej Startsev",
          "Nemanja Vidic",
          "Petar Botica",
          "Bojan Gocanin",
          "Fabian Holthaus",
          "Tim HÃ¤uÃler",
          "Mikkel Kirkeskov",
          "Ovidiu Popescu",
          "Iliya Gruev",
          "Filip Jovic",
          "Douglas Bergqvist",
          "Marcin Sudy",
          "Mart Ristl",
          "Lovro Sindik",
          "Mladen Micanovic",
          "Blazej Cyfert",
          "Luca Zander",
          "Igor Sapala",
          "Jan Sobocinski",
          "Artur Gac",
          "Kacper Jozefiak",
          "Zvezdan Djordjilovic",
          "David Bumberger",
          "Ivan Bosnjak",
          "Michal Wrzesniewski",
          "Aleksandar Ignjovski",
          "Turgay Gemicibasi",
          "Nenad Kiso",
          "Lukasz Sztylka",
          "Noboru Shimura",
          "Derrick Williams",
          "Dino Stiglec",
          "Kyriakos Savvidis",
          "Niklas Landgraf",
          "Tomasz Wojcinowicz",
          "Mateusz Pienczak",
          "Jaroslaw Kubicki",
          "Patrick Kammerbauer",
          "Luis GÃ¶rlich",
          "Chris Wolf",
          "Josip Sutalo",
          "Jakub Zima",
          "Ernest Dzieciol",
          "Norbert Myszka",
          "Robin FluÃ",
          "Nemanja Milovanovic",
          "Syam Ben Youssef",
          "Adrian Rybak",
          "Rafal Remisz",
          "Bartlomiej Kasprzak",
          "Miroslav Bogosavac",
          "Dragoljub Srnic",
          "Kaan Kurt",
          "Ivan Runje",
          "Sonny Bradley",
          "Adam Pazio",
          "Ariel Borysiuk",
          "Krystian Stolarczyk",
          "Damian Kostkowski",
          "Dominik Nothnagel",
          "Michel StÃ¶cker",
          "Ryan Malone",
          "Milan Makaric",
          "Matej Hybs",
          "Sven Botman",
          "Piotr Bartloszewski",
          "Mariusz Holik",
          "Mateo Jaksic",
          "Ashton GÃ¶tz",
          "Marcos RodrÃ­guez",
          "Jakub Swiecinski",
          "Marius GrÃ¶sch",
          "Aleksa Jovanovic",
          "Aleksandar Varjacic",
          "Mirko Djermanovic",
          "Igor Biedrzycki",
          "Lukas Duriska",
          "Julien Tadrowski",
          "Jakub Niewiadomski",
          "Philipp Riese",
          "Bartlomiej Lorenc",
          "Julian Wolff",
          "Adrian Bielawski",
          "Filip Zderic",
          "Eric Weeger",
          "Bartosz Kieliba",
          "Filp Ceko",
          "Ariel Mosor",
          "Srdjan Grabez",
          "Bozidar Petrovic",
          "Benjamin Himmel",
          "Marco Komenda",
          "Wiktor Nahrebecki",
          "Niclas Stierlin",
          null
         ],
         "type": "scatter",
         "x": [
          7.23,
          7.07,
          6.63,
          6.62,
          6.16,
          6.1,
          6.07,
          6,
          5.91,
          5.9,
          5.71,
          5.68,
          5.6,
          5.52,
          5.51,
          5.38,
          5.35,
          5.33,
          5.29,
          5.28,
          5.27,
          5.27,
          5.24,
          5.24,
          5.23,
          5.21,
          5.19,
          5.17,
          5.16,
          5.16,
          5.15,
          5.14,
          5.14,
          5.14,
          5.13,
          5.13,
          5.12,
          5.12,
          5.12,
          5.11,
          5.11,
          5.09,
          5.06,
          5.05,
          5.04,
          5.04,
          5.01,
          5,
          4.97,
          4.97,
          4.97,
          4.95,
          4.95,
          4.94,
          4.93,
          4.93,
          4.89,
          4.89,
          4.86,
          4.84,
          4.84,
          4.82,
          4.81,
          4.81,
          4.79,
          4.78,
          4.76,
          4.75,
          4.74,
          4.73,
          4.72,
          4.71,
          4.7,
          4.68,
          4.68,
          4.66,
          4.66,
          4.63,
          4.63,
          4.63,
          4.63,
          4.62,
          4.61,
          4.6,
          4.6,
          4.59,
          4.59,
          4.58,
          4.58,
          4.58,
          4.57,
          4.57,
          4.56,
          4.56,
          4.54,
          4.52,
          4.52,
          4.52,
          4.52,
          4.52,
          4.51,
          4.51,
          4.5,
          4.5,
          4.5,
          4.5,
          4.5,
          4.49,
          4.49,
          4.48,
          4.48,
          4.47,
          4.46,
          4.46,
          4.46,
          4.45,
          4.45,
          4.42,
          4.42,
          4.42,
          4.42,
          4.42,
          4.41,
          4.41,
          4.41,
          4.41,
          4.41,
          4.4,
          4.38,
          4.38,
          4.38,
          4.37,
          4.37,
          4.36,
          4.36,
          4.36,
          4.36,
          4.36,
          4.36,
          4.36,
          4.36,
          4.35,
          4.35,
          4.34,
          4.34,
          4.34,
          4.34,
          4.33,
          4.32,
          4.32,
          4.31,
          4.3,
          4.29,
          4.29,
          4.29,
          4.29,
          4.29,
          4.28,
          4.27,
          4.27,
          4.27,
          4.27,
          4.26,
          4.26,
          4.25,
          4.24,
          4.24,
          4.23,
          4.23,
          4.22,
          4.22,
          4.22,
          4.21,
          4.21,
          4.21,
          4.2,
          4.2,
          4.2,
          4.2,
          4.19,
          4.18,
          4.18,
          4.18,
          4.18,
          4.17,
          4.17,
          4.17,
          4.17,
          4.17,
          4.16,
          4.16,
          4.16,
          4.16,
          4.16,
          4.16,
          4.15,
          4.15,
          4.15,
          4.14,
          4.14,
          4.14,
          4.14,
          4.13,
          4.13,
          4.13,
          4.13,
          4.12,
          4.12,
          4.11,
          4.11,
          4.11,
          4.11,
          4.1,
          4.09,
          4.09,
          4.09,
          4.08,
          4.08,
          4.08,
          4.08,
          4.07,
          4.07,
          4.07,
          4.07,
          4.07,
          4.06,
          4.06,
          4.06,
          4.06,
          4.06,
          4.06,
          4.06,
          4.06,
          4.05,
          4.05,
          4.05,
          4.04,
          4.04,
          4.04,
          4.03,
          4.03,
          4.03,
          4.03,
          4.02,
          4.02,
          4.02,
          4.02,
          4.02,
          4.02,
          4.02,
          4.01,
          4.01,
          4.01,
          4.01,
          4.01,
          4.01,
          4,
          4,
          4,
          4,
          4,
          4,
          4,
          4,
          4,
          3.99,
          3.99,
          3.99,
          3.99,
          3.98,
          3.98,
          null
         ],
         "y": [
          3.02,
          5.07,
          3.7,
          3.18,
          1.08,
          2.61,
          4.11,
          4.17,
          2.35,
          3.63,
          1.74,
          3.69,
          3.89,
          2.96,
          2.75,
          3.31,
          5.11,
          5.49,
          3.36,
          2.83,
          2.94,
          3.51,
          2.28,
          3.81,
          1.72,
          1.7,
          3.87,
          3.5,
          1.62,
          3.72,
          1.2,
          2.88,
          2.17,
          3.5,
          2.3,
          3.99,
          4.15,
          4.17,
          3.84,
          3.82,
          2.55,
          3.88,
          3.43,
          4.05,
          3,
          3.89,
          3.72,
          3.33,
          2.97,
          4.37,
          4.16,
          2.22,
          5.6,
          3.56,
          3,
          4.09,
          3.6,
          3.89,
          2.62,
          3.95,
          3.49,
          4.51,
          2.92,
          3.4,
          3.11,
          3.31,
          4.01,
          2.95,
          4.17,
          4.45,
          3.64,
          2.9,
          2.62,
          3.48,
          3.29,
          3.56,
          2.59,
          5.12,
          3.9,
          5.05,
          5.6,
          4.32,
          1.56,
          2.22,
          5.53,
          1.66,
          3.11,
          5.53,
          5.11,
          2.53,
          4.57,
          3.62,
          4.51,
          2.66,
          3.67,
          3.7,
          2.92,
          0.92,
          4.04,
          3.21,
          3.33,
          3.25,
          2.61,
          2.55,
          3.31,
          2.1,
          4.68,
          4.07,
          3.28,
          4.03,
          3.4,
          2.4,
          3.53,
          2.77,
          2.41,
          3.15,
          3.36,
          2.84,
          3.89,
          4.56,
          2.61,
          3.46,
          3.41,
          4,
          3.57,
          3.58,
          2.09,
          3.65,
          3.42,
          4.14,
          2.31,
          3.88,
          4.29,
          2.75,
          3.51,
          4.07,
          3.39,
          2.45,
          2.69,
          3.7,
          3.5,
          3.1,
          3.09,
          3.99,
          3.62,
          3.18,
          2.69,
          4.1,
          3.06,
          3.11,
          4.38,
          2.77,
          4.39,
          3.99,
          3.66,
          3.26,
          3.11,
          4.61,
          1.95,
          3.13,
          3.33,
          3.35,
          3.21,
          3.15,
          3.63,
          2.81,
          3.2,
          3.05,
          3.33,
          3.32,
          2.38,
          1.56,
          3.88,
          2.96,
          4.26,
          3.32,
          4.2,
          2.38,
          2.3,
          3.22,
          3.51,
          1.94,
          4.06,
          3.12,
          2.82,
          3.07,
          4.17,
          2.76,
          1.83,
          2.64,
          2.94,
          3.2,
          3.11,
          3,
          2.91,
          3.29,
          2.87,
          3.57,
          3.29,
          4.08,
          1.57,
          2.95,
          1.85,
          3.59,
          4.08,
          1.49,
          3.15,
          4.19,
          2.6,
          2.2,
          4.25,
          3.89,
          2.92,
          3,
          2.37,
          2.07,
          5.34,
          3.54,
          2.9,
          2.95,
          3.85,
          3.84,
          3.26,
          4.23,
          2.55,
          3.08,
          2.71,
          3.88,
          3.6,
          1.35,
          3.79,
          3.71,
          2.61,
          4.05,
          3.68,
          4.29,
          3.75,
          3.88,
          2.93,
          3.92,
          3.15,
          2.76,
          3.12,
          3.22,
          2.3,
          2.25,
          1.37,
          2.79,
          3.87,
          2.82,
          3.67,
          3.83,
          3.4,
          2.41,
          3.59,
          1.97,
          3.72,
          3.21,
          3,
          4.26,
          1.93,
          4.62,
          2.39,
          2.94,
          4,
          2.96,
          3.16,
          1.44,
          3.94,
          3.53,
          2.5,
          ""
         ]
        }
       ],
       "layout": {
        "legend": {
         "bgcolor": "#F5F6F9",
         "font": {
          "color": "#4D5663"
         }
        },
        "paper_bgcolor": "#F5F6F9",
        "plot_bgcolor": "#F5F6F9",
        "template": {
         "data": {
          "bar": [
           {
            "error_x": {
             "color": "#2a3f5f"
            },
            "error_y": {
             "color": "#2a3f5f"
            },
            "marker": {
             "line": {
              "color": "#E5ECF6",
              "width": 0.5
             }
            },
            "type": "bar"
           }
          ],
          "barpolar": [
           {
            "marker": {
             "line": {
              "color": "#E5ECF6",
              "width": 0.5
             }
            },
            "type": "barpolar"
           }
          ],
          "carpet": [
           {
            "aaxis": {
             "endlinecolor": "#2a3f5f",
             "gridcolor": "white",
             "linecolor": "white",
             "minorgridcolor": "white",
             "startlinecolor": "#2a3f5f"
            },
            "baxis": {
             "endlinecolor": "#2a3f5f",
             "gridcolor": "white",
             "linecolor": "white",
             "minorgridcolor": "white",
             "startlinecolor": "#2a3f5f"
            },
            "type": "carpet"
           }
          ],
          "choropleth": [
           {
            "colorbar": {
             "outlinewidth": 0,
             "ticks": ""
            },
            "type": "choropleth"
           }
          ],
          "contour": [
           {
            "colorbar": {
             "outlinewidth": 0,
             "ticks": ""
            },
            "colorscale": [
             [
              0,
              "#0d0887"
             ],
             [
              0.1111111111111111,
              "#46039f"
             ],
             [
              0.2222222222222222,
              "#7201a8"
             ],
             [
              0.3333333333333333,
              "#9c179e"
             ],
             [
              0.4444444444444444,
              "#bd3786"
             ],
             [
              0.5555555555555556,
              "#d8576b"
             ],
             [
              0.6666666666666666,
              "#ed7953"
             ],
             [
              0.7777777777777778,
              "#fb9f3a"
             ],
             [
              0.8888888888888888,
              "#fdca26"
             ],
             [
              1,
              "#f0f921"
             ]
            ],
            "type": "contour"
           }
          ],
          "contourcarpet": [
           {
            "colorbar": {
             "outlinewidth": 0,
             "ticks": ""
            },
            "type": "contourcarpet"
           }
          ],
          "heatmap": [
           {
            "colorbar": {
             "outlinewidth": 0,
             "ticks": ""
            },
            "colorscale": [
             [
              0,
              "#0d0887"
             ],
             [
              0.1111111111111111,
              "#46039f"
             ],
             [
              0.2222222222222222,
              "#7201a8"
             ],
             [
              0.3333333333333333,
              "#9c179e"
             ],
             [
              0.4444444444444444,
              "#bd3786"
             ],
             [
              0.5555555555555556,
              "#d8576b"
             ],
             [
              0.6666666666666666,
              "#ed7953"
             ],
             [
              0.7777777777777778,
              "#fb9f3a"
             ],
             [
              0.8888888888888888,
              "#fdca26"
             ],
             [
              1,
              "#f0f921"
             ]
            ],
            "type": "heatmap"
           }
          ],
          "heatmapgl": [
           {
            "colorbar": {
             "outlinewidth": 0,
             "ticks": ""
            },
            "colorscale": [
             [
              0,
              "#0d0887"
             ],
             [
              0.1111111111111111,
              "#46039f"
             ],
             [
              0.2222222222222222,
              "#7201a8"
             ],
             [
              0.3333333333333333,
              "#9c179e"
             ],
             [
              0.4444444444444444,
              "#bd3786"
             ],
             [
              0.5555555555555556,
              "#d8576b"
             ],
             [
              0.6666666666666666,
              "#ed7953"
             ],
             [
              0.7777777777777778,
              "#fb9f3a"
             ],
             [
              0.8888888888888888,
              "#fdca26"
             ],
             [
              1,
              "#f0f921"
             ]
            ],
            "type": "heatmapgl"
           }
          ],
          "histogram": [
           {
            "marker": {
             "colorbar": {
              "outlinewidth": 0,
              "ticks": ""
             }
            },
            "type": "histogram"
           }
          ],
          "histogram2d": [
           {
            "colorbar": {
             "outlinewidth": 0,
             "ticks": ""
            },
            "colorscale": [
             [
              0,
              "#0d0887"
             ],
             [
              0.1111111111111111,
              "#46039f"
             ],
             [
              0.2222222222222222,
              "#7201a8"
             ],
             [
              0.3333333333333333,
              "#9c179e"
             ],
             [
              0.4444444444444444,
              "#bd3786"
             ],
             [
              0.5555555555555556,
              "#d8576b"
             ],
             [
              0.6666666666666666,
              "#ed7953"
             ],
             [
              0.7777777777777778,
              "#fb9f3a"
             ],
             [
              0.8888888888888888,
              "#fdca26"
             ],
             [
              1,
              "#f0f921"
             ]
            ],
            "type": "histogram2d"
           }
          ],
          "histogram2dcontour": [
           {
            "colorbar": {
             "outlinewidth": 0,
             "ticks": ""
            },
            "colorscale": [
             [
              0,
              "#0d0887"
             ],
             [
              0.1111111111111111,
              "#46039f"
             ],
             [
              0.2222222222222222,
              "#7201a8"
             ],
             [
              0.3333333333333333,
              "#9c179e"
             ],
             [
              0.4444444444444444,
              "#bd3786"
             ],
             [
              0.5555555555555556,
              "#d8576b"
             ],
             [
              0.6666666666666666,
              "#ed7953"
             ],
             [
              0.7777777777777778,
              "#fb9f3a"
             ],
             [
              0.8888888888888888,
              "#fdca26"
             ],
             [
              1,
              "#f0f921"
             ]
            ],
            "type": "histogram2dcontour"
           }
          ],
          "mesh3d": [
           {
            "colorbar": {
             "outlinewidth": 0,
             "ticks": ""
            },
            "type": "mesh3d"
           }
          ],
          "parcoords": [
           {
            "line": {
             "colorbar": {
              "outlinewidth": 0,
              "ticks": ""
             }
            },
            "type": "parcoords"
           }
          ],
          "pie": [
           {
            "automargin": true,
            "type": "pie"
           }
          ],
          "scatter": [
           {
            "marker": {
             "colorbar": {
              "outlinewidth": 0,
              "ticks": ""
             }
            },
            "type": "scatter"
           }
          ],
          "scatter3d": [
           {
            "line": {
             "colorbar": {
              "outlinewidth": 0,
              "ticks": ""
             }
            },
            "marker": {
             "colorbar": {
              "outlinewidth": 0,
              "ticks": ""
             }
            },
            "type": "scatter3d"
           }
          ],
          "scattercarpet": [
           {
            "marker": {
             "colorbar": {
              "outlinewidth": 0,
              "ticks": ""
             }
            },
            "type": "scattercarpet"
           }
          ],
          "scattergeo": [
           {
            "marker": {
             "colorbar": {
              "outlinewidth": 0,
              "ticks": ""
             }
            },
            "type": "scattergeo"
           }
          ],
          "scattergl": [
           {
            "marker": {
             "colorbar": {
              "outlinewidth": 0,
              "ticks": ""
             }
            },
            "type": "scattergl"
           }
          ],
          "scattermapbox": [
           {
            "marker": {
             "colorbar": {
              "outlinewidth": 0,
              "ticks": ""
             }
            },
            "type": "scattermapbox"
           }
          ],
          "scatterpolar": [
           {
            "marker": {
             "colorbar": {
              "outlinewidth": 0,
              "ticks": ""
             }
            },
            "type": "scatterpolar"
           }
          ],
          "scatterpolargl": [
           {
            "marker": {
             "colorbar": {
              "outlinewidth": 0,
              "ticks": ""
             }
            },
            "type": "scatterpolargl"
           }
          ],
          "scatterternary": [
           {
            "marker": {
             "colorbar": {
              "outlinewidth": 0,
              "ticks": ""
             }
            },
            "type": "scatterternary"
           }
          ],
          "surface": [
           {
            "colorbar": {
             "outlinewidth": 0,
             "ticks": ""
            },
            "colorscale": [
             [
              0,
              "#0d0887"
             ],
             [
              0.1111111111111111,
              "#46039f"
             ],
             [
              0.2222222222222222,
              "#7201a8"
             ],
             [
              0.3333333333333333,
              "#9c179e"
             ],
             [
              0.4444444444444444,
              "#bd3786"
             ],
             [
              0.5555555555555556,
              "#d8576b"
             ],
             [
              0.6666666666666666,
              "#ed7953"
             ],
             [
              0.7777777777777778,
              "#fb9f3a"
             ],
             [
              0.8888888888888888,
              "#fdca26"
             ],
             [
              1,
              "#f0f921"
             ]
            ],
            "type": "surface"
           }
          ],
          "table": [
           {
            "cells": {
             "fill": {
              "color": "#EBF0F8"
             },
             "line": {
              "color": "white"
             }
            },
            "header": {
             "fill": {
              "color": "#C8D4E3"
             },
             "line": {
              "color": "white"
             }
            },
            "type": "table"
           }
          ]
         },
         "layout": {
          "annotationdefaults": {
           "arrowcolor": "#2a3f5f",
           "arrowhead": 0,
           "arrowwidth": 1
          },
          "coloraxis": {
           "colorbar": {
            "outlinewidth": 0,
            "ticks": ""
           }
          },
          "colorscale": {
           "diverging": [
            [
             0,
             "#8e0152"
            ],
            [
             0.1,
             "#c51b7d"
            ],
            [
             0.2,
             "#de77ae"
            ],
            [
             0.3,
             "#f1b6da"
            ],
            [
             0.4,
             "#fde0ef"
            ],
            [
             0.5,
             "#f7f7f7"
            ],
            [
             0.6,
             "#e6f5d0"
            ],
            [
             0.7,
             "#b8e186"
            ],
            [
             0.8,
             "#7fbc41"
            ],
            [
             0.9,
             "#4d9221"
            ],
            [
             1,
             "#276419"
            ]
           ],
           "sequential": [
            [
             0,
             "#0d0887"
            ],
            [
             0.1111111111111111,
             "#46039f"
            ],
            [
             0.2222222222222222,
             "#7201a8"
            ],
            [
             0.3333333333333333,
             "#9c179e"
            ],
            [
             0.4444444444444444,
             "#bd3786"
            ],
            [
             0.5555555555555556,
             "#d8576b"
            ],
            [
             0.6666666666666666,
             "#ed7953"
            ],
            [
             0.7777777777777778,
             "#fb9f3a"
            ],
            [
             0.8888888888888888,
             "#fdca26"
            ],
            [
             1,
             "#f0f921"
            ]
           ],
           "sequentialminus": [
            [
             0,
             "#0d0887"
            ],
            [
             0.1111111111111111,
             "#46039f"
            ],
            [
             0.2222222222222222,
             "#7201a8"
            ],
            [
             0.3333333333333333,
             "#9c179e"
            ],
            [
             0.4444444444444444,
             "#bd3786"
            ],
            [
             0.5555555555555556,
             "#d8576b"
            ],
            [
             0.6666666666666666,
             "#ed7953"
            ],
            [
             0.7777777777777778,
             "#fb9f3a"
            ],
            [
             0.8888888888888888,
             "#fdca26"
            ],
            [
             1,
             "#f0f921"
            ]
           ]
          },
          "colorway": [
           "#636efa",
           "#EF553B",
           "#00cc96",
           "#ab63fa",
           "#FFA15A",
           "#19d3f3",
           "#FF6692",
           "#B6E880",
           "#FF97FF",
           "#FECB52"
          ],
          "font": {
           "color": "#2a3f5f"
          },
          "geo": {
           "bgcolor": "white",
           "lakecolor": "white",
           "landcolor": "#E5ECF6",
           "showlakes": true,
           "showland": true,
           "subunitcolor": "white"
          },
          "hoverlabel": {
           "align": "left"
          },
          "hovermode": "closest",
          "mapbox": {
           "style": "light"
          },
          "paper_bgcolor": "white",
          "plot_bgcolor": "#E5ECF6",
          "polar": {
           "angularaxis": {
            "gridcolor": "white",
            "linecolor": "white",
            "ticks": ""
           },
           "bgcolor": "#E5ECF6",
           "radialaxis": {
            "gridcolor": "white",
            "linecolor": "white",
            "ticks": ""
           }
          },
          "scene": {
           "xaxis": {
            "backgroundcolor": "#E5ECF6",
            "gridcolor": "white",
            "gridwidth": 2,
            "linecolor": "white",
            "showbackground": true,
            "ticks": "",
            "zerolinecolor": "white"
           },
           "yaxis": {
            "backgroundcolor": "#E5ECF6",
            "gridcolor": "white",
            "gridwidth": 2,
            "linecolor": "white",
            "showbackground": true,
            "ticks": "",
            "zerolinecolor": "white"
           },
           "zaxis": {
            "backgroundcolor": "#E5ECF6",
            "gridcolor": "white",
            "gridwidth": 2,
            "linecolor": "white",
            "showbackground": true,
            "ticks": "",
            "zerolinecolor": "white"
           }
          },
          "shapedefaults": {
           "line": {
            "color": "#2a3f5f"
           }
          },
          "ternary": {
           "aaxis": {
            "gridcolor": "white",
            "linecolor": "white",
            "ticks": ""
           },
           "baxis": {
            "gridcolor": "white",
            "linecolor": "white",
            "ticks": ""
           },
           "bgcolor": "#E5ECF6",
           "caxis": {
            "gridcolor": "white",
            "linecolor": "white",
            "ticks": ""
           }
          },
          "title": {
           "x": 0.05
          },
          "xaxis": {
           "automargin": true,
           "gridcolor": "white",
           "linecolor": "white",
           "ticks": "",
           "title": {
            "standoff": 15
           },
           "zerolinecolor": "white",
           "zerolinewidth": 2
          },
          "yaxis": {
           "automargin": true,
           "gridcolor": "white",
           "linecolor": "white",
           "ticks": "",
           "title": {
            "standoff": 15
           },
           "zerolinecolor": "white",
           "zerolinewidth": 2
          }
         }
        },
        "title": {
         "font": {
          "color": "#4D5663"
         },
         "text": "Ball Winning Midfielder - Support"
        },
        "xaxis": {
         "gridcolor": "#E1E5ED",
         "showgrid": true,
         "tickfont": {
          "color": "#4D5663"
         },
         "title": {
          "font": {
           "color": "#4D5663"
          },
          "text": "Tackles/90"
         },
         "zerolinecolor": "#E1E5ED"
        },
        "yaxis": {
         "gridcolor": "#E1E5ED",
         "showgrid": true,
         "tickfont": {
          "color": "#4D5663"
         },
         "title": {
          "font": {
           "color": "#4D5663"
          },
          "text": "Interceptions/90"
         },
         "zerolinecolor": "#E1E5ED"
        }
       }
      },
      "text/html": [
       "<div>\n",
       "        \n",
       "        \n",
       "            <div id=\"3e174a44-47ff-4e4e-a527-997f504779f2\" class=\"plotly-graph-div\" style=\"height:525px; width:100%;\"></div>\n",
       "            <script type=\"text/javascript\">\n",
       "                require([\"plotly\"], function(Plotly) {\n",
       "                    window.PLOTLYENV=window.PLOTLYENV || {};\n",
       "                    window.PLOTLYENV.BASE_URL='https://plot.ly';\n",
       "                    \n",
       "                if (document.getElementById(\"3e174a44-47ff-4e4e-a527-997f504779f2\")) {\n",
       "                    Plotly.newPlot(\n",
       "                        '3e174a44-47ff-4e4e-a527-997f504779f2',\n",
       "                        [{\"line\": {\"color\": \"rgba(255, 153, 51, 1.0)\", \"dash\": \"solid\", \"shape\": \"linear\", \"width\": 1.3}, \"marker\": {\"size\": 10, \"symbol\": \"circle\"}, \"mode\": \"markers\", \"name\": \"Int/90\", \"text\": [\"Oskar Repka\", \"Marcel Mehlem\", \"Jessie Guera Djou\", \"Andjelo Kacavenda\", \"Michal Ozga\", \"Josip Zeljkovic\", \"Lukasz Duszkiewicz\", \"Bartlomiej Gajda\", \"Aleksa Pejic\", \"Daniel Pospisil\", \"Jakov Basic\", \"Robert Mandrysz\", \"Sasa Tomanovic\", \"Sebastian Duda\", \"Ivan Jovanovic\", \"Duje Medak\", \"Dominik Siwinski\", \"Arkadiusz Kozlowski\", \"Fanol P\\u00c3\\u00abrdedaj\", \"Kamil Niewiadomski\", \"Lukasz Mozler\", \"Haris Memic\", \"Kristijan Jakic\", \"Filip Tolic\", \"Jakub Kisiel\", \"Dawid Kisly\", \"Taras Romanchuk\", \"Aleksander Slezak\", \"Tomasz Owczarek\", \"Richie Smallwood\", \"Mateusz Stepien\", \"Josip Bauk\", \"Domagoj Perica\", \"Uros Filipovic\", \"Stefan Velickovic\", \"Filip Sredojevic\", \"Radoslaw Kaminski\", \"Alexander Fuchs\", \"Tomas Huk\", \"Wojciech Kaminski\", \"Kasim Adams\", \"Mateusz Madzia\", \"Sebastian Kopec\", \"Jovan Simic\", \"Antonio Asanovic\", \"Marko Labovic\", \"Hubert Molski\", \"Hrvoje Dzijan\", \"Amos Youga\", \"Mario Erb\", \"Fabio Daprel\\u00c3\", \"Kresimir Jelic\", \"Jakob Johansson\", \"Liam Gordon\", \"Jakub Hric\", \"Damian Koziel\", \"Malcom Edjouma\", \"Piotr Wujec\", \"Donald Molls\", \"Luka Pavkovic\", \"Norbert Radkiewicz\", \"Danilo Wiebe\", \"Kristi Qose\", \"Nikola Puzic\", \"Radoslaw Kursa\", \"Jonas Bager\", \"Jon Flanagan\", \"Vuk Mitosevic\", \"Tom Hateley\", \"Sasa Balic\", \"Mohamed Loua\", \"Dawid Bialek\", \"Ben Thompson\", \"Pawel Kohut\", \"Daniel Haritonov\", \"Andrej Causic\", \"Sebastian Smialek\", \"Luka Miljevic\", \"Andrzej Korytek\", \"Mario Cuic\", \"Lubomir Satka\", \"Vukasin Krstic\", \"Peter Drobnak\", \"Marko Filipovic\", \"Martin Vukorepa\", \"Nicklas Shipnoski\", \"Joey Pelupessy\", \"Antonio Mrkovic\", \"Kamal Bafounta\", \"Adrian Liberacki\", \"Tevin Ihrig\", \"Sandi Lovric\", \"Patrick Wolfgang Kapp\", \"Ivan Roca\", \"Karol Drwecki\", \"Zlatko Ilicic\", \"Luka Cakarun\", \"Tan Jiajie\", \"Domagoj Zigri\", \"Casper Elderman\", \"Samuel Lengle\", \"Luka Cankovic\", \"Kenny Dougall\", \"Aur\\u00c3\\u00a9lien Nguiamba\", \"Fahri Akyol\", \"Andrija Crnadak\", \"Grzegorz Wawrzynski\", \"Julian Rieckmann\", \"Leandro\", \"Milos Brajovic\", \"Nathan Baker\", \"Matthias Rahn\", \"Petar Mitic\", \"Dusan Stevanovic\", \"Jan Janik\", \"Fran Tomek\", \"Tomasz Lewandowski\", \"Mateusz Dlugolecki\", \"Pawel Baranowski\", \"David Jablonsky\", \"Adam Mesjasz\", \"Oliver Praznovsky\", \"Florian Egerer\", \"Maxim Kventser\", \"Nikola Bjelanovic\", \"Bojan Cigulajkic\", \"Philip Heise\", \"Thomas Haas\", \"Milan Janjic\", \"Max Dombrowka\", \"Ervin Kacar\", \"\\u00c3\\u0093scar Gil\", \"Maxime Le Marchand\", \"Jan L\\u00c3\\u00b6hmannsr\\u00c3\\u00b6ben\", \"Andrzej Kloda\", \"Adrian Polanski\", \"Ram\\u00c3\\u00b3n\", \"Jan Sieracki\", \"Dusan Jokovic\", \"Daniel Dziwniel\", \"Patryk Wilk\", \"Sebastian Zalepa\", \"Jan Sterba\", \"Stefan Draskovic\", \"Damian Garbacik\", \"Bartosz Kopacz\", \"Szymon Kobeszko\", \"Massadio Ha\\u00c3\\u00afdara\", \"Manuel Martic\", \"Filip Bainovic\", \"Adrian Niewiadomski\", \"Marcin Mackowiak\", \"Pierre Fassnacht\", \"Michael Heinloth\", \"Nenad Kocovic\", \"Miladin Stevanovic\", \"Jakub Pruzanin\", \"Bartlomiej Mruk\", \"Herbert Paul\", \"Donatas Nakrosius\", \"Ivan Zgrablic\", \"Robin Urban\", \"Kacper Gorski\", \"Adrian Filipiak\", \"Adrian Purzycki\", \"Kostas Triantafyllopoulos\", \"Aleksandar Bjelica\", \"Tomas Petrasek\", \"Miquel Nelom\", \"Koen Weuts\", \"Aleksandar Petrovic\", \"Marcin Dabrowski\", \"Niko Datkovic\", \"Michal Zieba\", \"Rafal Ostrowski\", \"Ivan Tomac\", \"David Urban\", \"Andrej Startsev\", \"Nemanja Vidic\", \"Petar Botica\", \"Bojan Gocanin\", \"Fabian Holthaus\", \"Tim H\\u00c3\\u00a4u\\u00c3\\u009fler\", \"Mikkel Kirkeskov\", \"Ovidiu Popescu\", \"Iliya Gruev\", \"Filip Jovic\", \"Douglas Bergqvist\", \"Marcin Sudy\", \"Mart Ristl\", \"Lovro Sindik\", \"Mladen Micanovic\", \"Blazej Cyfert\", \"Luca Zander\", \"Igor Sapala\", \"Jan Sobocinski\", \"Artur Gac\", \"Kacper Jozefiak\", \"Zvezdan Djordjilovic\", \"David Bumberger\", \"Ivan Bosnjak\", \"Michal Wrzesniewski\", \"Aleksandar Ignjovski\", \"Turgay Gemicibasi\", \"Nenad Kiso\", \"Lukasz Sztylka\", \"Noboru Shimura\", \"Derrick Williams\", \"Dino Stiglec\", \"Kyriakos Savvidis\", \"Niklas Landgraf\", \"Tomasz Wojcinowicz\", \"Mateusz Pienczak\", \"Jaroslaw Kubicki\", \"Patrick Kammerbauer\", \"Luis G\\u00c3\\u00b6rlich\", \"Chris Wolf\", \"Josip Sutalo\", \"Jakub Zima\", \"Ernest Dzieciol\", \"Norbert Myszka\", \"Robin Flu\\u00c3\\u009f\", \"Nemanja Milovanovic\", \"Syam Ben Youssef\", \"Adrian Rybak\", \"Rafal Remisz\", \"Bartlomiej Kasprzak\", \"Miroslav Bogosavac\", \"Dragoljub Srnic\", \"Kaan Kurt\", \"Ivan Runje\", \"Sonny Bradley\", \"Adam Pazio\", \"Ariel Borysiuk\", \"Krystian Stolarczyk\", \"Damian Kostkowski\", \"Dominik Nothnagel\", \"Michel St\\u00c3\\u00b6cker\", \"Ryan Malone\", \"Milan Makaric\", \"Matej Hybs\", \"Sven Botman\", \"Piotr Bartloszewski\", \"Mariusz Holik\", \"Mateo Jaksic\", \"Ashton G\\u00c3\\u00b6tz\", \"Marcos Rodr\\u00c3\\u00adguez\", \"Jakub Swiecinski\", \"Marius Gr\\u00c3\\u00b6sch\", \"Aleksa Jovanovic\", \"Aleksandar Varjacic\", \"Mirko Djermanovic\", \"Igor Biedrzycki\", \"Lukas Duriska\", \"Julien Tadrowski\", \"Jakub Niewiadomski\", \"Philipp Riese\", \"Bartlomiej Lorenc\", \"Julian Wolff\", \"Adrian Bielawski\", \"Filip Zderic\", \"Eric Weeger\", \"Bartosz Kieliba\", \"Filp Ceko\", \"Ariel Mosor\", \"Srdjan Grabez\", \"Bozidar Petrovic\", \"Benjamin Himmel\", \"Marco Komenda\", \"Wiktor Nahrebecki\", \"Niclas Stierlin\", null], \"type\": \"scatter\", \"x\": [7.23, 7.07, 6.63, 6.62, 6.16, 6.1, 6.07, 6.0, 5.91, 5.9, 5.71, 5.68, 5.6, 5.52, 5.51, 5.38, 5.35, 5.33, 5.29, 5.28, 5.27, 5.27, 5.24, 5.24, 5.23, 5.21, 5.19, 5.17, 5.16, 5.16, 5.15, 5.14, 5.14, 5.14, 5.13, 5.13, 5.12, 5.12, 5.12, 5.11, 5.11, 5.09, 5.06, 5.05, 5.04, 5.04, 5.01, 5.0, 4.97, 4.97, 4.97, 4.95, 4.95, 4.94, 4.93, 4.93, 4.89, 4.89, 4.86, 4.84, 4.84, 4.82, 4.81, 4.81, 4.79, 4.78, 4.76, 4.75, 4.74, 4.73, 4.72, 4.71, 4.7, 4.68, 4.68, 4.66, 4.66, 4.63, 4.63, 4.63, 4.63, 4.62, 4.61, 4.6, 4.6, 4.59, 4.59, 4.58, 4.58, 4.58, 4.57, 4.57, 4.56, 4.56, 4.54, 4.52, 4.52, 4.52, 4.52, 4.52, 4.51, 4.51, 4.5, 4.5, 4.5, 4.5, 4.5, 4.49, 4.49, 4.48, 4.48, 4.47, 4.46, 4.46, 4.46, 4.45, 4.45, 4.42, 4.42, 4.42, 4.42, 4.42, 4.41, 4.41, 4.41, 4.41, 4.41, 4.4, 4.38, 4.38, 4.38, 4.37, 4.37, 4.36, 4.36, 4.36, 4.36, 4.36, 4.36, 4.36, 4.36, 4.35, 4.35, 4.34, 4.34, 4.34, 4.34, 4.33, 4.32, 4.32, 4.31, 4.3, 4.29, 4.29, 4.29, 4.29, 4.29, 4.28, 4.27, 4.27, 4.27, 4.27, 4.26, 4.26, 4.25, 4.24, 4.24, 4.23, 4.23, 4.22, 4.22, 4.22, 4.21, 4.21, 4.21, 4.2, 4.2, 4.2, 4.2, 4.19, 4.18, 4.18, 4.18, 4.18, 4.17, 4.17, 4.17, 4.17, 4.17, 4.16, 4.16, 4.16, 4.16, 4.16, 4.16, 4.15, 4.15, 4.15, 4.14, 4.14, 4.14, 4.14, 4.13, 4.13, 4.13, 4.13, 4.12, 4.12, 4.11, 4.11, 4.11, 4.11, 4.1, 4.09, 4.09, 4.09, 4.08, 4.08, 4.08, 4.08, 4.07, 4.07, 4.07, 4.07, 4.07, 4.06, 4.06, 4.06, 4.06, 4.06, 4.06, 4.06, 4.06, 4.05, 4.05, 4.05, 4.04, 4.04, 4.04, 4.03, 4.03, 4.03, 4.03, 4.02, 4.02, 4.02, 4.02, 4.02, 4.02, 4.02, 4.01, 4.01, 4.01, 4.01, 4.01, 4.01, 4.0, 4.0, 4.0, 4.0, 4.0, 4.0, 4.0, 4.0, 4.0, 3.99, 3.99, 3.99, 3.99, 3.98, 3.98, null], \"y\": [3.02, 5.07, 3.7, 3.18, 1.08, 2.61, 4.11, 4.17, 2.35, 3.63, 1.74, 3.69, 3.89, 2.96, 2.75, 3.31, 5.11, 5.49, 3.36, 2.83, 2.94, 3.51, 2.28, 3.81, 1.72, 1.7, 3.87, 3.5, 1.62, 3.72, 1.2, 2.88, 2.17, 3.5, 2.3, 3.99, 4.15, 4.17, 3.84, 3.82, 2.55, 3.88, 3.43, 4.05, 3.0, 3.89, 3.72, 3.33, 2.97, 4.37, 4.16, 2.22, 5.6, 3.56, 3.0, 4.09, 3.6, 3.89, 2.62, 3.95, 3.49, 4.51, 2.92, 3.4, 3.11, 3.31, 4.01, 2.95, 4.17, 4.45, 3.64, 2.9, 2.62, 3.48, 3.29, 3.56, 2.59, 5.12, 3.9, 5.05, 5.6, 4.32, 1.56, 2.22, 5.53, 1.66, 3.11, 5.53, 5.11, 2.53, 4.57, 3.62, 4.51, 2.66, 3.67, 3.7, 2.92, 0.92, 4.04, 3.21, 3.33, 3.25, 2.61, 2.55, 3.31, 2.1, 4.68, 4.07, 3.28, 4.03, 3.4, 2.4, 3.53, 2.77, 2.41, 3.15, 3.36, 2.84, 3.89, 4.56, 2.61, 3.46, 3.41, 4.0, 3.57, 3.58, 2.09, 3.65, 3.42, 4.14, 2.31, 3.88, 4.29, 2.75, 3.51, 4.07, 3.39, 2.45, 2.69, 3.7, 3.5, 3.1, 3.09, 3.99, 3.62, 3.18, 2.69, 4.1, 3.06, 3.11, 4.38, 2.77, 4.39, 3.99, 3.66, 3.26, 3.11, 4.61, 1.95, 3.13, 3.33, 3.35, 3.21, 3.15, 3.63, 2.81, 3.2, 3.05, 3.33, 3.32, 2.38, 1.56, 3.88, 2.96, 4.26, 3.32, 4.2, 2.38, 2.3, 3.22, 3.51, 1.94, 4.06, 3.12, 2.82, 3.07, 4.17, 2.76, 1.83, 2.64, 2.94, 3.2, 3.11, 3.0, 2.91, 3.29, 2.87, 3.57, 3.29, 4.08, 1.57, 2.95, 1.85, 3.59, 4.08, 1.49, 3.15, 4.19, 2.6, 2.2, 4.25, 3.89, 2.92, 3.0, 2.37, 2.07, 5.34, 3.54, 2.9, 2.95, 3.85, 3.84, 3.26, 4.23, 2.55, 3.08, 2.71, 3.88, 3.6, 1.35, 3.79, 3.71, 2.61, 4.05, 3.68, 4.29, 3.75, 3.88, 2.93, 3.92, 3.15, 2.76, 3.12, 3.22, 2.3, 2.25, 1.37, 2.79, 3.87, 2.82, 3.67, 3.83, 3.4, 2.41, 3.59, 1.97, 3.72, 3.21, 3.0, 4.26, 1.93, 4.62, 2.39, 2.94, 4.0, 2.96, 3.16, 1.44, 3.94, 3.53, 2.5, \"\"]}],\n",
       "                        {\"legend\": {\"bgcolor\": \"#F5F6F9\", \"font\": {\"color\": \"#4D5663\"}}, \"paper_bgcolor\": \"#F5F6F9\", \"plot_bgcolor\": \"#F5F6F9\", \"template\": {\"data\": {\"bar\": [{\"error_x\": {\"color\": \"#2a3f5f\"}, \"error_y\": {\"color\": \"#2a3f5f\"}, \"marker\": {\"line\": {\"color\": \"#E5ECF6\", \"width\": 0.5}}, \"type\": \"bar\"}], \"barpolar\": [{\"marker\": {\"line\": {\"color\": \"#E5ECF6\", \"width\": 0.5}}, \"type\": \"barpolar\"}], \"carpet\": [{\"aaxis\": {\"endlinecolor\": \"#2a3f5f\", \"gridcolor\": \"white\", \"linecolor\": \"white\", \"minorgridcolor\": \"white\", \"startlinecolor\": \"#2a3f5f\"}, \"baxis\": {\"endlinecolor\": \"#2a3f5f\", \"gridcolor\": \"white\", \"linecolor\": \"white\", \"minorgridcolor\": \"white\", \"startlinecolor\": \"#2a3f5f\"}, \"type\": \"carpet\"}], \"choropleth\": [{\"colorbar\": {\"outlinewidth\": 0, \"ticks\": \"\"}, \"type\": \"choropleth\"}], \"contour\": [{\"colorbar\": {\"outlinewidth\": 0, \"ticks\": \"\"}, \"colorscale\": [[0.0, \"#0d0887\"], [0.1111111111111111, \"#46039f\"], [0.2222222222222222, \"#7201a8\"], [0.3333333333333333, \"#9c179e\"], [0.4444444444444444, \"#bd3786\"], [0.5555555555555556, \"#d8576b\"], [0.6666666666666666, \"#ed7953\"], [0.7777777777777778, \"#fb9f3a\"], [0.8888888888888888, \"#fdca26\"], [1.0, \"#f0f921\"]], \"type\": \"contour\"}], \"contourcarpet\": [{\"colorbar\": {\"outlinewidth\": 0, \"ticks\": \"\"}, \"type\": \"contourcarpet\"}], \"heatmap\": [{\"colorbar\": {\"outlinewidth\": 0, \"ticks\": \"\"}, \"colorscale\": [[0.0, \"#0d0887\"], [0.1111111111111111, \"#46039f\"], [0.2222222222222222, \"#7201a8\"], [0.3333333333333333, \"#9c179e\"], [0.4444444444444444, \"#bd3786\"], [0.5555555555555556, \"#d8576b\"], [0.6666666666666666, \"#ed7953\"], [0.7777777777777778, \"#fb9f3a\"], [0.8888888888888888, \"#fdca26\"], [1.0, \"#f0f921\"]], \"type\": \"heatmap\"}], \"heatmapgl\": [{\"colorbar\": {\"outlinewidth\": 0, \"ticks\": \"\"}, \"colorscale\": [[0.0, \"#0d0887\"], [0.1111111111111111, \"#46039f\"], [0.2222222222222222, \"#7201a8\"], [0.3333333333333333, \"#9c179e\"], [0.4444444444444444, \"#bd3786\"], [0.5555555555555556, \"#d8576b\"], [0.6666666666666666, \"#ed7953\"], [0.7777777777777778, \"#fb9f3a\"], [0.8888888888888888, \"#fdca26\"], [1.0, \"#f0f921\"]], \"type\": \"heatmapgl\"}], \"histogram\": [{\"marker\": {\"colorbar\": {\"outlinewidth\": 0, \"ticks\": \"\"}}, \"type\": \"histogram\"}], \"histogram2d\": [{\"colorbar\": {\"outlinewidth\": 0, \"ticks\": \"\"}, \"colorscale\": [[0.0, \"#0d0887\"], [0.1111111111111111, \"#46039f\"], [0.2222222222222222, \"#7201a8\"], [0.3333333333333333, \"#9c179e\"], [0.4444444444444444, \"#bd3786\"], [0.5555555555555556, \"#d8576b\"], [0.6666666666666666, \"#ed7953\"], [0.7777777777777778, \"#fb9f3a\"], [0.8888888888888888, \"#fdca26\"], [1.0, \"#f0f921\"]], \"type\": \"histogram2d\"}], \"histogram2dcontour\": [{\"colorbar\": {\"outlinewidth\": 0, \"ticks\": \"\"}, \"colorscale\": [[0.0, \"#0d0887\"], [0.1111111111111111, \"#46039f\"], [0.2222222222222222, \"#7201a8\"], [0.3333333333333333, \"#9c179e\"], [0.4444444444444444, \"#bd3786\"], [0.5555555555555556, \"#d8576b\"], [0.6666666666666666, \"#ed7953\"], [0.7777777777777778, \"#fb9f3a\"], [0.8888888888888888, \"#fdca26\"], [1.0, \"#f0f921\"]], \"type\": \"histogram2dcontour\"}], \"mesh3d\": [{\"colorbar\": {\"outlinewidth\": 0, \"ticks\": \"\"}, \"type\": \"mesh3d\"}], \"parcoords\": [{\"line\": {\"colorbar\": {\"outlinewidth\": 0, \"ticks\": \"\"}}, \"type\": \"parcoords\"}], \"pie\": [{\"automargin\": true, \"type\": \"pie\"}], \"scatter\": [{\"marker\": {\"colorbar\": {\"outlinewidth\": 0, \"ticks\": \"\"}}, \"type\": \"scatter\"}], \"scatter3d\": [{\"line\": {\"colorbar\": {\"outlinewidth\": 0, \"ticks\": \"\"}}, \"marker\": {\"colorbar\": {\"outlinewidth\": 0, \"ticks\": \"\"}}, \"type\": \"scatter3d\"}], \"scattercarpet\": [{\"marker\": {\"colorbar\": {\"outlinewidth\": 0, \"ticks\": \"\"}}, \"type\": \"scattercarpet\"}], \"scattergeo\": [{\"marker\": {\"colorbar\": {\"outlinewidth\": 0, \"ticks\": \"\"}}, \"type\": \"scattergeo\"}], \"scattergl\": [{\"marker\": {\"colorbar\": {\"outlinewidth\": 0, \"ticks\": \"\"}}, \"type\": \"scattergl\"}], \"scattermapbox\": [{\"marker\": {\"colorbar\": {\"outlinewidth\": 0, \"ticks\": \"\"}}, \"type\": \"scattermapbox\"}], \"scatterpolar\": [{\"marker\": {\"colorbar\": {\"outlinewidth\": 0, \"ticks\": \"\"}}, \"type\": \"scatterpolar\"}], \"scatterpolargl\": [{\"marker\": {\"colorbar\": {\"outlinewidth\": 0, \"ticks\": \"\"}}, \"type\": \"scatterpolargl\"}], \"scatterternary\": [{\"marker\": {\"colorbar\": {\"outlinewidth\": 0, \"ticks\": \"\"}}, \"type\": \"scatterternary\"}], \"surface\": [{\"colorbar\": {\"outlinewidth\": 0, \"ticks\": \"\"}, \"colorscale\": [[0.0, \"#0d0887\"], [0.1111111111111111, \"#46039f\"], [0.2222222222222222, \"#7201a8\"], [0.3333333333333333, \"#9c179e\"], [0.4444444444444444, \"#bd3786\"], [0.5555555555555556, \"#d8576b\"], [0.6666666666666666, \"#ed7953\"], [0.7777777777777778, \"#fb9f3a\"], [0.8888888888888888, \"#fdca26\"], [1.0, \"#f0f921\"]], \"type\": \"surface\"}], \"table\": [{\"cells\": {\"fill\": {\"color\": \"#EBF0F8\"}, \"line\": {\"color\": \"white\"}}, \"header\": {\"fill\": {\"color\": \"#C8D4E3\"}, \"line\": {\"color\": \"white\"}}, \"type\": \"table\"}]}, \"layout\": {\"annotationdefaults\": {\"arrowcolor\": \"#2a3f5f\", \"arrowhead\": 0, \"arrowwidth\": 1}, \"coloraxis\": {\"colorbar\": {\"outlinewidth\": 0, \"ticks\": \"\"}}, \"colorscale\": {\"diverging\": [[0, \"#8e0152\"], [0.1, \"#c51b7d\"], [0.2, \"#de77ae\"], [0.3, \"#f1b6da\"], [0.4, \"#fde0ef\"], [0.5, \"#f7f7f7\"], [0.6, \"#e6f5d0\"], [0.7, \"#b8e186\"], [0.8, \"#7fbc41\"], [0.9, \"#4d9221\"], [1, \"#276419\"]], \"sequential\": [[0.0, \"#0d0887\"], [0.1111111111111111, \"#46039f\"], [0.2222222222222222, \"#7201a8\"], [0.3333333333333333, \"#9c179e\"], [0.4444444444444444, \"#bd3786\"], [0.5555555555555556, \"#d8576b\"], [0.6666666666666666, \"#ed7953\"], [0.7777777777777778, \"#fb9f3a\"], [0.8888888888888888, \"#fdca26\"], [1.0, \"#f0f921\"]], \"sequentialminus\": [[0.0, \"#0d0887\"], [0.1111111111111111, \"#46039f\"], [0.2222222222222222, \"#7201a8\"], [0.3333333333333333, \"#9c179e\"], [0.4444444444444444, \"#bd3786\"], [0.5555555555555556, \"#d8576b\"], [0.6666666666666666, \"#ed7953\"], [0.7777777777777778, \"#fb9f3a\"], [0.8888888888888888, \"#fdca26\"], [1.0, \"#f0f921\"]]}, \"colorway\": [\"#636efa\", \"#EF553B\", \"#00cc96\", \"#ab63fa\", \"#FFA15A\", \"#19d3f3\", \"#FF6692\", \"#B6E880\", \"#FF97FF\", \"#FECB52\"], \"font\": {\"color\": \"#2a3f5f\"}, \"geo\": {\"bgcolor\": \"white\", \"lakecolor\": \"white\", \"landcolor\": \"#E5ECF6\", \"showlakes\": true, \"showland\": true, \"subunitcolor\": \"white\"}, \"hoverlabel\": {\"align\": \"left\"}, \"hovermode\": \"closest\", \"mapbox\": {\"style\": \"light\"}, \"paper_bgcolor\": \"white\", \"plot_bgcolor\": \"#E5ECF6\", \"polar\": {\"angularaxis\": {\"gridcolor\": \"white\", \"linecolor\": \"white\", \"ticks\": \"\"}, \"bgcolor\": \"#E5ECF6\", \"radialaxis\": {\"gridcolor\": \"white\", \"linecolor\": \"white\", \"ticks\": \"\"}}, \"scene\": {\"xaxis\": {\"backgroundcolor\": \"#E5ECF6\", \"gridcolor\": \"white\", \"gridwidth\": 2, \"linecolor\": \"white\", \"showbackground\": true, \"ticks\": \"\", \"zerolinecolor\": \"white\"}, \"yaxis\": {\"backgroundcolor\": \"#E5ECF6\", \"gridcolor\": \"white\", \"gridwidth\": 2, \"linecolor\": \"white\", \"showbackground\": true, \"ticks\": \"\", \"zerolinecolor\": \"white\"}, \"zaxis\": {\"backgroundcolor\": \"#E5ECF6\", \"gridcolor\": \"white\", \"gridwidth\": 2, \"linecolor\": \"white\", \"showbackground\": true, \"ticks\": \"\", \"zerolinecolor\": \"white\"}}, \"shapedefaults\": {\"line\": {\"color\": \"#2a3f5f\"}}, \"ternary\": {\"aaxis\": {\"gridcolor\": \"white\", \"linecolor\": \"white\", \"ticks\": \"\"}, \"baxis\": {\"gridcolor\": \"white\", \"linecolor\": \"white\", \"ticks\": \"\"}, \"bgcolor\": \"#E5ECF6\", \"caxis\": {\"gridcolor\": \"white\", \"linecolor\": \"white\", \"ticks\": \"\"}}, \"title\": {\"x\": 0.05}, \"xaxis\": {\"automargin\": true, \"gridcolor\": \"white\", \"linecolor\": \"white\", \"ticks\": \"\", \"title\": {\"standoff\": 15}, \"zerolinecolor\": \"white\", \"zerolinewidth\": 2}, \"yaxis\": {\"automargin\": true, \"gridcolor\": \"white\", \"linecolor\": \"white\", \"ticks\": \"\", \"title\": {\"standoff\": 15}, \"zerolinecolor\": \"white\", \"zerolinewidth\": 2}}}, \"title\": {\"font\": {\"color\": \"#4D5663\"}, \"text\": \"Ball Winning Midfielder - Support\"}, \"xaxis\": {\"gridcolor\": \"#E1E5ED\", \"showgrid\": true, \"tickfont\": {\"color\": \"#4D5663\"}, \"title\": {\"font\": {\"color\": \"#4D5663\"}, \"text\": \"Tackles/90\"}, \"zerolinecolor\": \"#E1E5ED\"}, \"yaxis\": {\"gridcolor\": \"#E1E5ED\", \"showgrid\": true, \"tickfont\": {\"color\": \"#4D5663\"}, \"title\": {\"font\": {\"color\": \"#4D5663\"}, \"text\": \"Interceptions/90\"}, \"zerolinecolor\": \"#E1E5ED\"}},\n",
       "                        {\"showLink\": true, \"linkText\": \"Export to plot.ly\", \"plotlyServerURL\": \"https://plot.ly\", \"responsive\": true}\n",
       "                    ).then(function(){\n",
       "                            \n",
       "var gd = document.getElementById('3e174a44-47ff-4e4e-a527-997f504779f2');\n",
       "var x = new MutationObserver(function (mutations, observer) {{\n",
       "        var display = window.getComputedStyle(gd).display;\n",
       "        if (!display || display === 'none') {{\n",
       "            console.log([gd, 'removed!']);\n",
       "            Plotly.purge(gd);\n",
       "            observer.disconnect();\n",
       "        }}\n",
       "}});\n",
       "\n",
       "// Listen for the removal of the full notebook cells\n",
       "var notebookContainer = gd.closest('#notebook-container');\n",
       "if (notebookContainer) {{\n",
       "    x.observe(notebookContainer, {childList: true});\n",
       "}}\n",
       "\n",
       "// Listen for the clearing of the current output cell\n",
       "var outputEl = gd.closest('.output');\n",
       "if (outputEl) {{\n",
       "    x.observe(outputEl, {childList: true});\n",
       "}}\n",
       "\n",
       "                        })\n",
       "                };\n",
       "                });\n",
       "            </script>\n",
       "        </div>"
      ]
     },
     "metadata": {},
     "output_type": "display_data"
    }
   ],
   "source": [
    "df.iplot(kind='scatter',x='Tck',y='Int/90',\n",
    "           mode='markers',text='Name',size=10,\n",
    "          xTitle='Tackles/90',yTitle='Interceptions/90',title='Ball Winning Midfielder - Support')\t"
   ]
  },
  {
   "cell_type": "code",
   "execution_count": 17,
   "metadata": {},
   "outputs": [
    {
     "data": {
      "application/vnd.plotly.v1+json": {
       "config": {
        "linkText": "Export to plot.ly",
        "plotlyServerURL": "https://plot.ly",
        "showLink": true
       },
       "data": [
        {
         "line": {
          "color": "rgba(255, 153, 51, 1.0)",
          "dash": "solid",
          "shape": "linear",
          "width": 1.3
         },
         "marker": {
          "size": 10,
          "symbol": "circle"
         },
         "mode": "markers",
         "name": "Pas %",
         "text": [
          "Oskar Repka",
          "Marcel Mehlem",
          "Jessie Guera Djou",
          "Andjelo Kacavenda",
          "Michal Ozga",
          "Josip Zeljkovic",
          "Lukasz Duszkiewicz",
          "Bartlomiej Gajda",
          "Aleksa Pejic",
          "Daniel Pospisil",
          "Jakov Basic",
          "Robert Mandrysz",
          "Sasa Tomanovic",
          "Sebastian Duda",
          "Ivan Jovanovic",
          "Duje Medak",
          "Dominik Siwinski",
          "Arkadiusz Kozlowski",
          "Fanol PÃ«rdedaj",
          "Kamil Niewiadomski",
          "Lukasz Mozler",
          "Haris Memic",
          "Kristijan Jakic",
          "Filip Tolic",
          "Jakub Kisiel",
          "Dawid Kisly",
          "Taras Romanchuk",
          "Aleksander Slezak",
          "Tomasz Owczarek",
          "Richie Smallwood",
          "Mateusz Stepien",
          "Josip Bauk",
          "Domagoj Perica",
          "Uros Filipovic",
          "Stefan Velickovic",
          "Filip Sredojevic",
          "Radoslaw Kaminski",
          "Alexander Fuchs",
          "Tomas Huk",
          "Wojciech Kaminski",
          "Kasim Adams",
          "Mateusz Madzia",
          "Sebastian Kopec",
          "Jovan Simic",
          "Antonio Asanovic",
          "Marko Labovic",
          "Hubert Molski",
          "Hrvoje Dzijan",
          "Amos Youga",
          "Mario Erb",
          "Fabio DaprelÃ",
          "Kresimir Jelic",
          "Jakob Johansson",
          "Liam Gordon",
          "Jakub Hric",
          "Damian Koziel",
          "Malcom Edjouma",
          "Piotr Wujec",
          "Donald Molls",
          "Luka Pavkovic",
          "Norbert Radkiewicz",
          "Danilo Wiebe",
          "Kristi Qose",
          "Nikola Puzic",
          "Radoslaw Kursa",
          "Jonas Bager",
          "Jon Flanagan",
          "Vuk Mitosevic",
          "Tom Hateley",
          "Sasa Balic",
          "Mohamed Loua",
          "Dawid Bialek",
          "Ben Thompson",
          "Pawel Kohut",
          "Daniel Haritonov",
          "Andrej Causic",
          "Sebastian Smialek",
          "Luka Miljevic",
          "Andrzej Korytek",
          "Mario Cuic",
          "Lubomir Satka",
          "Vukasin Krstic",
          "Peter Drobnak",
          "Marko Filipovic",
          "Martin Vukorepa",
          "Nicklas Shipnoski",
          "Joey Pelupessy",
          "Antonio Mrkovic",
          "Kamal Bafounta",
          "Adrian Liberacki",
          "Tevin Ihrig",
          "Sandi Lovric",
          "Patrick Wolfgang Kapp",
          "Ivan Roca",
          "Karol Drwecki",
          "Zlatko Ilicic",
          "Luka Cakarun",
          "Tan Jiajie",
          "Domagoj Zigri",
          "Casper Elderman",
          "Samuel Lengle",
          "Luka Cankovic",
          "Kenny Dougall",
          "AurÃ©lien Nguiamba",
          "Fahri Akyol",
          "Andrija Crnadak",
          "Grzegorz Wawrzynski",
          "Julian Rieckmann",
          "Leandro",
          "Milos Brajovic",
          "Nathan Baker",
          "Matthias Rahn",
          "Petar Mitic",
          "Dusan Stevanovic",
          "Jan Janik",
          "Fran Tomek",
          "Tomasz Lewandowski",
          "Mateusz Dlugolecki",
          "Pawel Baranowski",
          "David Jablonsky",
          "Adam Mesjasz",
          "Oliver Praznovsky",
          "Florian Egerer",
          "Maxim Kventser",
          "Nikola Bjelanovic",
          "Bojan Cigulajkic",
          "Philip Heise",
          "Thomas Haas",
          "Milan Janjic",
          "Max Dombrowka",
          "Ervin Kacar",
          "Ãscar Gil",
          "Maxime Le Marchand",
          "Jan LÃ¶hmannsrÃ¶ben",
          "Andrzej Kloda",
          "Adrian Polanski",
          "RamÃ³n",
          "Jan Sieracki",
          "Dusan Jokovic",
          "Daniel Dziwniel",
          "Patryk Wilk",
          "Sebastian Zalepa",
          "Jan Sterba",
          "Stefan Draskovic",
          "Damian Garbacik",
          "Bartosz Kopacz",
          "Szymon Kobeszko",
          "Massadio HaÃ¯dara",
          "Manuel Martic",
          "Filip Bainovic",
          "Adrian Niewiadomski",
          "Marcin Mackowiak",
          "Pierre Fassnacht",
          "Michael Heinloth",
          "Nenad Kocovic",
          "Miladin Stevanovic",
          "Jakub Pruzanin",
          "Bartlomiej Mruk",
          "Herbert Paul",
          "Donatas Nakrosius",
          "Ivan Zgrablic",
          "Robin Urban",
          "Kacper Gorski",
          "Adrian Filipiak",
          "Adrian Purzycki",
          "Kostas Triantafyllopoulos",
          "Aleksandar Bjelica",
          "Tomas Petrasek",
          "Miquel Nelom",
          "Koen Weuts",
          "Aleksandar Petrovic",
          "Marcin Dabrowski",
          "Niko Datkovic",
          "Michal Zieba",
          "Rafal Ostrowski",
          "Ivan Tomac",
          "David Urban",
          "Andrej Startsev",
          "Nemanja Vidic",
          "Petar Botica",
          "Bojan Gocanin",
          "Fabian Holthaus",
          "Tim HÃ¤uÃler",
          "Mikkel Kirkeskov",
          "Ovidiu Popescu",
          "Iliya Gruev",
          "Filip Jovic",
          "Douglas Bergqvist",
          "Marcin Sudy",
          "Mart Ristl",
          "Lovro Sindik",
          "Mladen Micanovic",
          "Blazej Cyfert",
          "Luca Zander",
          "Igor Sapala",
          "Jan Sobocinski",
          "Artur Gac",
          "Kacper Jozefiak",
          "Zvezdan Djordjilovic",
          "David Bumberger",
          "Ivan Bosnjak",
          "Michal Wrzesniewski",
          "Aleksandar Ignjovski",
          "Turgay Gemicibasi",
          "Nenad Kiso",
          "Lukasz Sztylka",
          "Noboru Shimura",
          "Derrick Williams",
          "Dino Stiglec",
          "Kyriakos Savvidis",
          "Niklas Landgraf",
          "Tomasz Wojcinowicz",
          "Mateusz Pienczak",
          "Jaroslaw Kubicki",
          "Patrick Kammerbauer",
          "Luis GÃ¶rlich",
          "Chris Wolf",
          "Josip Sutalo",
          "Jakub Zima",
          "Ernest Dzieciol",
          "Norbert Myszka",
          "Robin FluÃ",
          "Nemanja Milovanovic",
          "Syam Ben Youssef",
          "Adrian Rybak",
          "Rafal Remisz",
          "Bartlomiej Kasprzak",
          "Miroslav Bogosavac",
          "Dragoljub Srnic",
          "Kaan Kurt",
          "Ivan Runje",
          "Sonny Bradley",
          "Adam Pazio",
          "Ariel Borysiuk",
          "Krystian Stolarczyk",
          "Damian Kostkowski",
          "Dominik Nothnagel",
          "Michel StÃ¶cker",
          "Ryan Malone",
          "Milan Makaric",
          "Matej Hybs",
          "Sven Botman",
          "Piotr Bartloszewski",
          "Mariusz Holik",
          "Mateo Jaksic",
          "Ashton GÃ¶tz",
          "Marcos RodrÃ­guez",
          "Jakub Swiecinski",
          "Marius GrÃ¶sch",
          "Aleksa Jovanovic",
          "Aleksandar Varjacic",
          "Mirko Djermanovic",
          "Igor Biedrzycki",
          "Lukas Duriska",
          "Julien Tadrowski",
          "Jakub Niewiadomski",
          "Philipp Riese",
          "Bartlomiej Lorenc",
          "Julian Wolff",
          "Adrian Bielawski",
          "Filip Zderic",
          "Eric Weeger",
          "Bartosz Kieliba",
          "Filp Ceko",
          "Ariel Mosor",
          "Srdjan Grabez",
          "Bozidar Petrovic",
          "Benjamin Himmel",
          "Marco Komenda",
          "Wiktor Nahrebecki",
          "Niclas Stierlin",
          null
         ],
         "type": "scatter",
         "x": [
          "-",
          "0.21",
          "0.34",
          "0.27",
          "0.29",
          "0.50",
          "0.85",
          "0.40",
          "0.36",
          "0.57",
          "0.42",
          "0.48",
          "0.54",
          "0.59",
          "0.36",
          "0.56",
          "0.74",
          "0.16",
          "0.11",
          "0.28",
          "0.37",
          "0.72",
          "0.46",
          "0.39",
          "0.65",
          "0.23",
          "0.88",
          "0.33",
          "0.12",
          "0.24",
          "0.17",
          "0.24",
          "0.37",
          "1.32",
          "0.23",
          "0.26",
          "0.23",
          "0.26",
          "0.47",
          "0.27",
          "0.22",
          "0.05",
          "0.28",
          "-",
          "0.34",
          "0.75",
          "0.43",
          "0.47",
          "0.35",
          "0.25",
          "0.31",
          "-",
          "0.56",
          "0.13",
          "0.13",
          "0.42",
          "0.09",
          "0.06",
          "0.84",
          "0.16",
          "0.12",
          "0.43",
          "0.16",
          "1.04",
          "0.37",
          "0.15",
          "0.33",
          "0.51",
          "0.28",
          "0.27",
          "-",
          "0.39",
          "0.60",
          "0.70",
          "0.32",
          "-",
          "0.41",
          "0.10",
          "0.20",
          "0.25",
          "0.13",
          "0.22",
          "0.07",
          "0.47",
          "0.07",
          "0.55",
          "0.15",
          "0.22",
          "0.29",
          "0.16",
          "0.18",
          "0.64",
          "0.64",
          "0.38",
          "0.38",
          "0.18",
          "0.22",
          "0.08",
          "0.36",
          "-",
          "0.51",
          "0.12",
          "0.39",
          "0.24",
          "0.28",
          "1.35",
          "0.06",
          "0.21",
          "0.13",
          "0.09",
          "-",
          "0.14",
          "0.64",
          "0.20",
          "0.09",
          "0.75",
          "0.16",
          "0.32",
          "0.08",
          "0.14",
          "0.12",
          "0.07",
          "0.30",
          "0.35",
          "0.39",
          "0.06",
          "0.52",
          "0.25",
          "0.55",
          "0.49",
          "0.12",
          "0.08",
          "0.16",
          "0.09",
          "0.19",
          "0.35",
          "0.59",
          "0.64",
          "0.26",
          "0.44",
          "0.21",
          "0.33",
          "0.07",
          "0.45",
          "0.05",
          "-",
          "0.18",
          "0.24",
          "0.13",
          "0.43",
          "0.32",
          "0.24",
          "0.19",
          "0.45",
          "0.29",
          "0.32",
          "0.29",
          "0.22",
          "-",
          "0.40",
          "0.27",
          "0.34",
          "0.47",
          "0.49",
          "0.27",
          "0.06",
          "0.09",
          "0.16",
          "0.27",
          "0.08",
          "-",
          "0.27",
          "0.11",
          "0.38",
          "0.38",
          "0.42",
          "0.10",
          "0.31",
          "0.35",
          "0.29",
          "0.59",
          "0.20",
          "0.18",
          "0.37",
          "0.19",
          "0.18",
          "0.51",
          "0.22",
          "0.44",
          "0.60",
          "0.14",
          "0.80",
          "0.26",
          "1.16",
          "0.07",
          "0.29",
          "0.45",
          "0.08",
          "0.52",
          "0.23",
          "0.13",
          "-",
          "0.60",
          "0.24",
          "0.48",
          "0.26",
          "-",
          "0.07",
          "0.62",
          "0.50",
          "0.28",
          "0.21",
          "-",
          "0.55",
          "0.77",
          "0.30",
          "0.63",
          "0.15",
          "-",
          "0.16",
          "0.45",
          "0.17",
          "0.37",
          "0.13",
          "0.12",
          "0.17",
          "0.38",
          "0.19",
          "0.46",
          "0.13",
          "0.27",
          "0.18",
          "0.11",
          "0.47",
          "0.26",
          "0.38",
          "0.14",
          "0.33",
          "0.20",
          "0.56",
          "0.38",
          "0.06",
          "0.24",
          "0.07",
          "0.14",
          "0.05",
          "0.24",
          "0.12",
          "0.22",
          "0.16",
          "0.40",
          "0.43",
          "0.28",
          "0.06",
          "-",
          "0.28",
          "0.41",
          "0.53",
          "0.14",
          "0.32",
          "0.13",
          "0.19",
          "0.19",
          "0.17",
          "0.15",
          "0.14",
          "0.22",
          "0.43",
          "0.18",
          "0.85",
          "0.43",
          null
         ],
         "y": [
          "71%",
          "80%",
          "78%",
          "77%",
          "70%",
          "73%",
          "70%",
          "74%",
          "76%",
          "71%",
          "74%",
          "74%",
          "76%",
          "72%",
          "75%",
          "73%",
          "74%",
          "75%",
          "75%",
          "73%",
          "78%",
          "71%",
          "75%",
          "78%",
          "71%",
          "72%",
          "82%",
          "72%",
          "70%",
          "78%",
          "69%",
          "72%",
          "67%",
          "76%",
          "76%",
          "69%",
          "73%",
          "79%",
          "78%",
          "77%",
          "76%",
          "66%",
          "71%",
          "72%",
          "75%",
          "75%",
          "64%",
          "72%",
          "76%",
          "76%",
          "75%",
          "65%",
          "78%",
          "74%",
          "69%",
          "69%",
          "80%",
          "70%",
          "67%",
          "73%",
          "68%",
          "76%",
          "71%",
          "69%",
          "72%",
          "75%",
          "72%",
          "79%",
          "79%",
          "76%",
          "82%",
          "69%",
          "80%",
          "67%",
          "70%",
          "75%",
          "71%",
          "80%",
          "74%",
          "73%",
          "78%",
          "73%",
          "69%",
          "75%",
          "72%",
          "77%",
          "78%",
          "70%",
          "80%",
          "70%",
          "77%",
          "79%",
          "77%",
          "73%",
          "68%",
          "68%",
          "77%",
          "66%",
          "71%",
          "73%",
          "70%",
          "72%",
          "80%",
          "80%",
          "71%",
          "74%",
          "62%",
          "79%",
          "75%",
          "75%",
          "75%",
          "65%",
          "76%",
          "78%",
          "72%",
          "78%",
          "71%",
          "74%",
          "73%",
          "77%",
          "72%",
          "76%",
          "73%",
          "67%",
          "68%",
          "67%",
          "81%",
          "70%",
          "76%",
          "73%",
          "66%",
          "80%",
          "84%",
          "71%",
          "68%",
          "64%",
          "81%",
          "70%",
          "74%",
          "69%",
          "71%",
          "72%",
          "77%",
          "69%",
          "69%",
          "71%",
          "75%",
          "73%",
          "79%",
          "76%",
          "74%",
          "75%",
          "73%",
          "68%",
          "69%",
          "73%",
          "65%",
          "72%",
          "75%",
          "73%",
          "72%",
          "71%",
          "71%",
          "67%",
          "77%",
          "75%",
          "75%",
          "73%",
          "69%",
          "74%",
          "66%",
          "70%",
          "75%",
          "72%",
          "73%",
          "70%",
          "76%",
          "69%",
          "76%",
          "75%",
          "81%",
          "71%",
          "71%",
          "69%",
          "75%",
          "78%",
          "78%",
          "78%",
          "69%",
          "71%",
          "77%",
          "73%",
          "73%",
          "83%",
          "77%",
          "82%",
          "65%",
          "71%",
          "69%",
          "74%",
          "71%",
          "76%",
          "80%",
          "75%",
          "83%",
          "66%",
          "71%",
          "76%",
          "74%",
          "78%",
          "77%",
          "72%",
          "73%",
          "77%",
          "81%",
          "70%",
          "71%",
          "73%",
          "76%",
          "73%",
          "69%",
          "73%",
          "77%",
          "76%",
          "71%",
          "75%",
          "75%",
          "73%",
          "77%",
          "68%",
          "76%",
          "75%",
          "72%",
          "80%",
          "74%",
          "72%",
          "74%",
          "74%",
          "74%",
          "79%",
          "72%",
          "76%",
          "64%",
          "71%",
          "68%",
          "69%",
          "70%",
          "72%",
          "72%",
          "74%",
          "75%",
          "65%",
          "72%",
          "75%",
          "74%",
          "67%",
          "76%",
          "68%",
          "71%",
          "68%",
          "69%",
          "67%",
          "76%",
          "64%",
          "75%",
          "72%",
          "70%",
          "72%",
          "75%",
          "72%",
          "73%",
          ""
         ]
        }
       ],
       "layout": {
        "legend": {
         "bgcolor": "#F5F6F9",
         "font": {
          "color": "#4D5663"
         }
        },
        "paper_bgcolor": "#F5F6F9",
        "plot_bgcolor": "#F5F6F9",
        "template": {
         "data": {
          "bar": [
           {
            "error_x": {
             "color": "#2a3f5f"
            },
            "error_y": {
             "color": "#2a3f5f"
            },
            "marker": {
             "line": {
              "color": "#E5ECF6",
              "width": 0.5
             }
            },
            "type": "bar"
           }
          ],
          "barpolar": [
           {
            "marker": {
             "line": {
              "color": "#E5ECF6",
              "width": 0.5
             }
            },
            "type": "barpolar"
           }
          ],
          "carpet": [
           {
            "aaxis": {
             "endlinecolor": "#2a3f5f",
             "gridcolor": "white",
             "linecolor": "white",
             "minorgridcolor": "white",
             "startlinecolor": "#2a3f5f"
            },
            "baxis": {
             "endlinecolor": "#2a3f5f",
             "gridcolor": "white",
             "linecolor": "white",
             "minorgridcolor": "white",
             "startlinecolor": "#2a3f5f"
            },
            "type": "carpet"
           }
          ],
          "choropleth": [
           {
            "colorbar": {
             "outlinewidth": 0,
             "ticks": ""
            },
            "type": "choropleth"
           }
          ],
          "contour": [
           {
            "colorbar": {
             "outlinewidth": 0,
             "ticks": ""
            },
            "colorscale": [
             [
              0,
              "#0d0887"
             ],
             [
              0.1111111111111111,
              "#46039f"
             ],
             [
              0.2222222222222222,
              "#7201a8"
             ],
             [
              0.3333333333333333,
              "#9c179e"
             ],
             [
              0.4444444444444444,
              "#bd3786"
             ],
             [
              0.5555555555555556,
              "#d8576b"
             ],
             [
              0.6666666666666666,
              "#ed7953"
             ],
             [
              0.7777777777777778,
              "#fb9f3a"
             ],
             [
              0.8888888888888888,
              "#fdca26"
             ],
             [
              1,
              "#f0f921"
             ]
            ],
            "type": "contour"
           }
          ],
          "contourcarpet": [
           {
            "colorbar": {
             "outlinewidth": 0,
             "ticks": ""
            },
            "type": "contourcarpet"
           }
          ],
          "heatmap": [
           {
            "colorbar": {
             "outlinewidth": 0,
             "ticks": ""
            },
            "colorscale": [
             [
              0,
              "#0d0887"
             ],
             [
              0.1111111111111111,
              "#46039f"
             ],
             [
              0.2222222222222222,
              "#7201a8"
             ],
             [
              0.3333333333333333,
              "#9c179e"
             ],
             [
              0.4444444444444444,
              "#bd3786"
             ],
             [
              0.5555555555555556,
              "#d8576b"
             ],
             [
              0.6666666666666666,
              "#ed7953"
             ],
             [
              0.7777777777777778,
              "#fb9f3a"
             ],
             [
              0.8888888888888888,
              "#fdca26"
             ],
             [
              1,
              "#f0f921"
             ]
            ],
            "type": "heatmap"
           }
          ],
          "heatmapgl": [
           {
            "colorbar": {
             "outlinewidth": 0,
             "ticks": ""
            },
            "colorscale": [
             [
              0,
              "#0d0887"
             ],
             [
              0.1111111111111111,
              "#46039f"
             ],
             [
              0.2222222222222222,
              "#7201a8"
             ],
             [
              0.3333333333333333,
              "#9c179e"
             ],
             [
              0.4444444444444444,
              "#bd3786"
             ],
             [
              0.5555555555555556,
              "#d8576b"
             ],
             [
              0.6666666666666666,
              "#ed7953"
             ],
             [
              0.7777777777777778,
              "#fb9f3a"
             ],
             [
              0.8888888888888888,
              "#fdca26"
             ],
             [
              1,
              "#f0f921"
             ]
            ],
            "type": "heatmapgl"
           }
          ],
          "histogram": [
           {
            "marker": {
             "colorbar": {
              "outlinewidth": 0,
              "ticks": ""
             }
            },
            "type": "histogram"
           }
          ],
          "histogram2d": [
           {
            "colorbar": {
             "outlinewidth": 0,
             "ticks": ""
            },
            "colorscale": [
             [
              0,
              "#0d0887"
             ],
             [
              0.1111111111111111,
              "#46039f"
             ],
             [
              0.2222222222222222,
              "#7201a8"
             ],
             [
              0.3333333333333333,
              "#9c179e"
             ],
             [
              0.4444444444444444,
              "#bd3786"
             ],
             [
              0.5555555555555556,
              "#d8576b"
             ],
             [
              0.6666666666666666,
              "#ed7953"
             ],
             [
              0.7777777777777778,
              "#fb9f3a"
             ],
             [
              0.8888888888888888,
              "#fdca26"
             ],
             [
              1,
              "#f0f921"
             ]
            ],
            "type": "histogram2d"
           }
          ],
          "histogram2dcontour": [
           {
            "colorbar": {
             "outlinewidth": 0,
             "ticks": ""
            },
            "colorscale": [
             [
              0,
              "#0d0887"
             ],
             [
              0.1111111111111111,
              "#46039f"
             ],
             [
              0.2222222222222222,
              "#7201a8"
             ],
             [
              0.3333333333333333,
              "#9c179e"
             ],
             [
              0.4444444444444444,
              "#bd3786"
             ],
             [
              0.5555555555555556,
              "#d8576b"
             ],
             [
              0.6666666666666666,
              "#ed7953"
             ],
             [
              0.7777777777777778,
              "#fb9f3a"
             ],
             [
              0.8888888888888888,
              "#fdca26"
             ],
             [
              1,
              "#f0f921"
             ]
            ],
            "type": "histogram2dcontour"
           }
          ],
          "mesh3d": [
           {
            "colorbar": {
             "outlinewidth": 0,
             "ticks": ""
            },
            "type": "mesh3d"
           }
          ],
          "parcoords": [
           {
            "line": {
             "colorbar": {
              "outlinewidth": 0,
              "ticks": ""
             }
            },
            "type": "parcoords"
           }
          ],
          "pie": [
           {
            "automargin": true,
            "type": "pie"
           }
          ],
          "scatter": [
           {
            "marker": {
             "colorbar": {
              "outlinewidth": 0,
              "ticks": ""
             }
            },
            "type": "scatter"
           }
          ],
          "scatter3d": [
           {
            "line": {
             "colorbar": {
              "outlinewidth": 0,
              "ticks": ""
             }
            },
            "marker": {
             "colorbar": {
              "outlinewidth": 0,
              "ticks": ""
             }
            },
            "type": "scatter3d"
           }
          ],
          "scattercarpet": [
           {
            "marker": {
             "colorbar": {
              "outlinewidth": 0,
              "ticks": ""
             }
            },
            "type": "scattercarpet"
           }
          ],
          "scattergeo": [
           {
            "marker": {
             "colorbar": {
              "outlinewidth": 0,
              "ticks": ""
             }
            },
            "type": "scattergeo"
           }
          ],
          "scattergl": [
           {
            "marker": {
             "colorbar": {
              "outlinewidth": 0,
              "ticks": ""
             }
            },
            "type": "scattergl"
           }
          ],
          "scattermapbox": [
           {
            "marker": {
             "colorbar": {
              "outlinewidth": 0,
              "ticks": ""
             }
            },
            "type": "scattermapbox"
           }
          ],
          "scatterpolar": [
           {
            "marker": {
             "colorbar": {
              "outlinewidth": 0,
              "ticks": ""
             }
            },
            "type": "scatterpolar"
           }
          ],
          "scatterpolargl": [
           {
            "marker": {
             "colorbar": {
              "outlinewidth": 0,
              "ticks": ""
             }
            },
            "type": "scatterpolargl"
           }
          ],
          "scatterternary": [
           {
            "marker": {
             "colorbar": {
              "outlinewidth": 0,
              "ticks": ""
             }
            },
            "type": "scatterternary"
           }
          ],
          "surface": [
           {
            "colorbar": {
             "outlinewidth": 0,
             "ticks": ""
            },
            "colorscale": [
             [
              0,
              "#0d0887"
             ],
             [
              0.1111111111111111,
              "#46039f"
             ],
             [
              0.2222222222222222,
              "#7201a8"
             ],
             [
              0.3333333333333333,
              "#9c179e"
             ],
             [
              0.4444444444444444,
              "#bd3786"
             ],
             [
              0.5555555555555556,
              "#d8576b"
             ],
             [
              0.6666666666666666,
              "#ed7953"
             ],
             [
              0.7777777777777778,
              "#fb9f3a"
             ],
             [
              0.8888888888888888,
              "#fdca26"
             ],
             [
              1,
              "#f0f921"
             ]
            ],
            "type": "surface"
           }
          ],
          "table": [
           {
            "cells": {
             "fill": {
              "color": "#EBF0F8"
             },
             "line": {
              "color": "white"
             }
            },
            "header": {
             "fill": {
              "color": "#C8D4E3"
             },
             "line": {
              "color": "white"
             }
            },
            "type": "table"
           }
          ]
         },
         "layout": {
          "annotationdefaults": {
           "arrowcolor": "#2a3f5f",
           "arrowhead": 0,
           "arrowwidth": 1
          },
          "coloraxis": {
           "colorbar": {
            "outlinewidth": 0,
            "ticks": ""
           }
          },
          "colorscale": {
           "diverging": [
            [
             0,
             "#8e0152"
            ],
            [
             0.1,
             "#c51b7d"
            ],
            [
             0.2,
             "#de77ae"
            ],
            [
             0.3,
             "#f1b6da"
            ],
            [
             0.4,
             "#fde0ef"
            ],
            [
             0.5,
             "#f7f7f7"
            ],
            [
             0.6,
             "#e6f5d0"
            ],
            [
             0.7,
             "#b8e186"
            ],
            [
             0.8,
             "#7fbc41"
            ],
            [
             0.9,
             "#4d9221"
            ],
            [
             1,
             "#276419"
            ]
           ],
           "sequential": [
            [
             0,
             "#0d0887"
            ],
            [
             0.1111111111111111,
             "#46039f"
            ],
            [
             0.2222222222222222,
             "#7201a8"
            ],
            [
             0.3333333333333333,
             "#9c179e"
            ],
            [
             0.4444444444444444,
             "#bd3786"
            ],
            [
             0.5555555555555556,
             "#d8576b"
            ],
            [
             0.6666666666666666,
             "#ed7953"
            ],
            [
             0.7777777777777778,
             "#fb9f3a"
            ],
            [
             0.8888888888888888,
             "#fdca26"
            ],
            [
             1,
             "#f0f921"
            ]
           ],
           "sequentialminus": [
            [
             0,
             "#0d0887"
            ],
            [
             0.1111111111111111,
             "#46039f"
            ],
            [
             0.2222222222222222,
             "#7201a8"
            ],
            [
             0.3333333333333333,
             "#9c179e"
            ],
            [
             0.4444444444444444,
             "#bd3786"
            ],
            [
             0.5555555555555556,
             "#d8576b"
            ],
            [
             0.6666666666666666,
             "#ed7953"
            ],
            [
             0.7777777777777778,
             "#fb9f3a"
            ],
            [
             0.8888888888888888,
             "#fdca26"
            ],
            [
             1,
             "#f0f921"
            ]
           ]
          },
          "colorway": [
           "#636efa",
           "#EF553B",
           "#00cc96",
           "#ab63fa",
           "#FFA15A",
           "#19d3f3",
           "#FF6692",
           "#B6E880",
           "#FF97FF",
           "#FECB52"
          ],
          "font": {
           "color": "#2a3f5f"
          },
          "geo": {
           "bgcolor": "white",
           "lakecolor": "white",
           "landcolor": "#E5ECF6",
           "showlakes": true,
           "showland": true,
           "subunitcolor": "white"
          },
          "hoverlabel": {
           "align": "left"
          },
          "hovermode": "closest",
          "mapbox": {
           "style": "light"
          },
          "paper_bgcolor": "white",
          "plot_bgcolor": "#E5ECF6",
          "polar": {
           "angularaxis": {
            "gridcolor": "white",
            "linecolor": "white",
            "ticks": ""
           },
           "bgcolor": "#E5ECF6",
           "radialaxis": {
            "gridcolor": "white",
            "linecolor": "white",
            "ticks": ""
           }
          },
          "scene": {
           "xaxis": {
            "backgroundcolor": "#E5ECF6",
            "gridcolor": "white",
            "gridwidth": 2,
            "linecolor": "white",
            "showbackground": true,
            "ticks": "",
            "zerolinecolor": "white"
           },
           "yaxis": {
            "backgroundcolor": "#E5ECF6",
            "gridcolor": "white",
            "gridwidth": 2,
            "linecolor": "white",
            "showbackground": true,
            "ticks": "",
            "zerolinecolor": "white"
           },
           "zaxis": {
            "backgroundcolor": "#E5ECF6",
            "gridcolor": "white",
            "gridwidth": 2,
            "linecolor": "white",
            "showbackground": true,
            "ticks": "",
            "zerolinecolor": "white"
           }
          },
          "shapedefaults": {
           "line": {
            "color": "#2a3f5f"
           }
          },
          "ternary": {
           "aaxis": {
            "gridcolor": "white",
            "linecolor": "white",
            "ticks": ""
           },
           "baxis": {
            "gridcolor": "white",
            "linecolor": "white",
            "ticks": ""
           },
           "bgcolor": "#E5ECF6",
           "caxis": {
            "gridcolor": "white",
            "linecolor": "white",
            "ticks": ""
           }
          },
          "title": {
           "x": 0.05
          },
          "xaxis": {
           "automargin": true,
           "gridcolor": "white",
           "linecolor": "white",
           "ticks": "",
           "title": {
            "standoff": 15
           },
           "zerolinecolor": "white",
           "zerolinewidth": 2
          },
          "yaxis": {
           "automargin": true,
           "gridcolor": "white",
           "linecolor": "white",
           "ticks": "",
           "title": {
            "standoff": 15
           },
           "zerolinecolor": "white",
           "zerolinewidth": 2
          }
         }
        },
        "title": {
         "font": {
          "color": "#4D5663"
         },
         "text": "Carrilero"
        },
        "xaxis": {
         "gridcolor": "#E1E5ED",
         "showgrid": true,
         "tickfont": {
          "color": "#4D5663"
         },
         "title": {
          "font": {
           "color": "#4D5663"
          },
          "text": "Key Passes/90"
         },
         "zerolinecolor": "#E1E5ED"
        },
        "yaxis": {
         "gridcolor": "#E1E5ED",
         "showgrid": true,
         "tickfont": {
          "color": "#4D5663"
         },
         "title": {
          "font": {
           "color": "#4D5663"
          },
          "text": "Pass Completion %"
         },
         "zerolinecolor": "#E1E5ED"
        }
       }
      },
      "text/html": [
       "<div>\n",
       "        \n",
       "        \n",
       "            <div id=\"367f7cda-8e30-42f3-9739-07b39920bfb2\" class=\"plotly-graph-div\" style=\"height:525px; width:100%;\"></div>\n",
       "            <script type=\"text/javascript\">\n",
       "                require([\"plotly\"], function(Plotly) {\n",
       "                    window.PLOTLYENV=window.PLOTLYENV || {};\n",
       "                    window.PLOTLYENV.BASE_URL='https://plot.ly';\n",
       "                    \n",
       "                if (document.getElementById(\"367f7cda-8e30-42f3-9739-07b39920bfb2\")) {\n",
       "                    Plotly.newPlot(\n",
       "                        '367f7cda-8e30-42f3-9739-07b39920bfb2',\n",
       "                        [{\"line\": {\"color\": \"rgba(255, 153, 51, 1.0)\", \"dash\": \"solid\", \"shape\": \"linear\", \"width\": 1.3}, \"marker\": {\"size\": 10, \"symbol\": \"circle\"}, \"mode\": \"markers\", \"name\": \"Pas %\", \"text\": [\"Oskar Repka\", \"Marcel Mehlem\", \"Jessie Guera Djou\", \"Andjelo Kacavenda\", \"Michal Ozga\", \"Josip Zeljkovic\", \"Lukasz Duszkiewicz\", \"Bartlomiej Gajda\", \"Aleksa Pejic\", \"Daniel Pospisil\", \"Jakov Basic\", \"Robert Mandrysz\", \"Sasa Tomanovic\", \"Sebastian Duda\", \"Ivan Jovanovic\", \"Duje Medak\", \"Dominik Siwinski\", \"Arkadiusz Kozlowski\", \"Fanol P\\u00c3\\u00abrdedaj\", \"Kamil Niewiadomski\", \"Lukasz Mozler\", \"Haris Memic\", \"Kristijan Jakic\", \"Filip Tolic\", \"Jakub Kisiel\", \"Dawid Kisly\", \"Taras Romanchuk\", \"Aleksander Slezak\", \"Tomasz Owczarek\", \"Richie Smallwood\", \"Mateusz Stepien\", \"Josip Bauk\", \"Domagoj Perica\", \"Uros Filipovic\", \"Stefan Velickovic\", \"Filip Sredojevic\", \"Radoslaw Kaminski\", \"Alexander Fuchs\", \"Tomas Huk\", \"Wojciech Kaminski\", \"Kasim Adams\", \"Mateusz Madzia\", \"Sebastian Kopec\", \"Jovan Simic\", \"Antonio Asanovic\", \"Marko Labovic\", \"Hubert Molski\", \"Hrvoje Dzijan\", \"Amos Youga\", \"Mario Erb\", \"Fabio Daprel\\u00c3\", \"Kresimir Jelic\", \"Jakob Johansson\", \"Liam Gordon\", \"Jakub Hric\", \"Damian Koziel\", \"Malcom Edjouma\", \"Piotr Wujec\", \"Donald Molls\", \"Luka Pavkovic\", \"Norbert Radkiewicz\", \"Danilo Wiebe\", \"Kristi Qose\", \"Nikola Puzic\", \"Radoslaw Kursa\", \"Jonas Bager\", \"Jon Flanagan\", \"Vuk Mitosevic\", \"Tom Hateley\", \"Sasa Balic\", \"Mohamed Loua\", \"Dawid Bialek\", \"Ben Thompson\", \"Pawel Kohut\", \"Daniel Haritonov\", \"Andrej Causic\", \"Sebastian Smialek\", \"Luka Miljevic\", \"Andrzej Korytek\", \"Mario Cuic\", \"Lubomir Satka\", \"Vukasin Krstic\", \"Peter Drobnak\", \"Marko Filipovic\", \"Martin Vukorepa\", \"Nicklas Shipnoski\", \"Joey Pelupessy\", \"Antonio Mrkovic\", \"Kamal Bafounta\", \"Adrian Liberacki\", \"Tevin Ihrig\", \"Sandi Lovric\", \"Patrick Wolfgang Kapp\", \"Ivan Roca\", \"Karol Drwecki\", \"Zlatko Ilicic\", \"Luka Cakarun\", \"Tan Jiajie\", \"Domagoj Zigri\", \"Casper Elderman\", \"Samuel Lengle\", \"Luka Cankovic\", \"Kenny Dougall\", \"Aur\\u00c3\\u00a9lien Nguiamba\", \"Fahri Akyol\", \"Andrija Crnadak\", \"Grzegorz Wawrzynski\", \"Julian Rieckmann\", \"Leandro\", \"Milos Brajovic\", \"Nathan Baker\", \"Matthias Rahn\", \"Petar Mitic\", \"Dusan Stevanovic\", \"Jan Janik\", \"Fran Tomek\", \"Tomasz Lewandowski\", \"Mateusz Dlugolecki\", \"Pawel Baranowski\", \"David Jablonsky\", \"Adam Mesjasz\", \"Oliver Praznovsky\", \"Florian Egerer\", \"Maxim Kventser\", \"Nikola Bjelanovic\", \"Bojan Cigulajkic\", \"Philip Heise\", \"Thomas Haas\", \"Milan Janjic\", \"Max Dombrowka\", \"Ervin Kacar\", \"\\u00c3\\u0093scar Gil\", \"Maxime Le Marchand\", \"Jan L\\u00c3\\u00b6hmannsr\\u00c3\\u00b6ben\", \"Andrzej Kloda\", \"Adrian Polanski\", \"Ram\\u00c3\\u00b3n\", \"Jan Sieracki\", \"Dusan Jokovic\", \"Daniel Dziwniel\", \"Patryk Wilk\", \"Sebastian Zalepa\", \"Jan Sterba\", \"Stefan Draskovic\", \"Damian Garbacik\", \"Bartosz Kopacz\", \"Szymon Kobeszko\", \"Massadio Ha\\u00c3\\u00afdara\", \"Manuel Martic\", \"Filip Bainovic\", \"Adrian Niewiadomski\", \"Marcin Mackowiak\", \"Pierre Fassnacht\", \"Michael Heinloth\", \"Nenad Kocovic\", \"Miladin Stevanovic\", \"Jakub Pruzanin\", \"Bartlomiej Mruk\", \"Herbert Paul\", \"Donatas Nakrosius\", \"Ivan Zgrablic\", \"Robin Urban\", \"Kacper Gorski\", \"Adrian Filipiak\", \"Adrian Purzycki\", \"Kostas Triantafyllopoulos\", \"Aleksandar Bjelica\", \"Tomas Petrasek\", \"Miquel Nelom\", \"Koen Weuts\", \"Aleksandar Petrovic\", \"Marcin Dabrowski\", \"Niko Datkovic\", \"Michal Zieba\", \"Rafal Ostrowski\", \"Ivan Tomac\", \"David Urban\", \"Andrej Startsev\", \"Nemanja Vidic\", \"Petar Botica\", \"Bojan Gocanin\", \"Fabian Holthaus\", \"Tim H\\u00c3\\u00a4u\\u00c3\\u009fler\", \"Mikkel Kirkeskov\", \"Ovidiu Popescu\", \"Iliya Gruev\", \"Filip Jovic\", \"Douglas Bergqvist\", \"Marcin Sudy\", \"Mart Ristl\", \"Lovro Sindik\", \"Mladen Micanovic\", \"Blazej Cyfert\", \"Luca Zander\", \"Igor Sapala\", \"Jan Sobocinski\", \"Artur Gac\", \"Kacper Jozefiak\", \"Zvezdan Djordjilovic\", \"David Bumberger\", \"Ivan Bosnjak\", \"Michal Wrzesniewski\", \"Aleksandar Ignjovski\", \"Turgay Gemicibasi\", \"Nenad Kiso\", \"Lukasz Sztylka\", \"Noboru Shimura\", \"Derrick Williams\", \"Dino Stiglec\", \"Kyriakos Savvidis\", \"Niklas Landgraf\", \"Tomasz Wojcinowicz\", \"Mateusz Pienczak\", \"Jaroslaw Kubicki\", \"Patrick Kammerbauer\", \"Luis G\\u00c3\\u00b6rlich\", \"Chris Wolf\", \"Josip Sutalo\", \"Jakub Zima\", \"Ernest Dzieciol\", \"Norbert Myszka\", \"Robin Flu\\u00c3\\u009f\", \"Nemanja Milovanovic\", \"Syam Ben Youssef\", \"Adrian Rybak\", \"Rafal Remisz\", \"Bartlomiej Kasprzak\", \"Miroslav Bogosavac\", \"Dragoljub Srnic\", \"Kaan Kurt\", \"Ivan Runje\", \"Sonny Bradley\", \"Adam Pazio\", \"Ariel Borysiuk\", \"Krystian Stolarczyk\", \"Damian Kostkowski\", \"Dominik Nothnagel\", \"Michel St\\u00c3\\u00b6cker\", \"Ryan Malone\", \"Milan Makaric\", \"Matej Hybs\", \"Sven Botman\", \"Piotr Bartloszewski\", \"Mariusz Holik\", \"Mateo Jaksic\", \"Ashton G\\u00c3\\u00b6tz\", \"Marcos Rodr\\u00c3\\u00adguez\", \"Jakub Swiecinski\", \"Marius Gr\\u00c3\\u00b6sch\", \"Aleksa Jovanovic\", \"Aleksandar Varjacic\", \"Mirko Djermanovic\", \"Igor Biedrzycki\", \"Lukas Duriska\", \"Julien Tadrowski\", \"Jakub Niewiadomski\", \"Philipp Riese\", \"Bartlomiej Lorenc\", \"Julian Wolff\", \"Adrian Bielawski\", \"Filip Zderic\", \"Eric Weeger\", \"Bartosz Kieliba\", \"Filp Ceko\", \"Ariel Mosor\", \"Srdjan Grabez\", \"Bozidar Petrovic\", \"Benjamin Himmel\", \"Marco Komenda\", \"Wiktor Nahrebecki\", \"Niclas Stierlin\", null], \"type\": \"scatter\", \"x\": [\"-\", \"0.21\", \"0.34\", \"0.27\", \"0.29\", \"0.50\", \"0.85\", \"0.40\", \"0.36\", \"0.57\", \"0.42\", \"0.48\", \"0.54\", \"0.59\", \"0.36\", \"0.56\", \"0.74\", \"0.16\", \"0.11\", \"0.28\", \"0.37\", \"0.72\", \"0.46\", \"0.39\", \"0.65\", \"0.23\", \"0.88\", \"0.33\", \"0.12\", \"0.24\", \"0.17\", \"0.24\", \"0.37\", \"1.32\", \"0.23\", \"0.26\", \"0.23\", \"0.26\", \"0.47\", \"0.27\", \"0.22\", \"0.05\", \"0.28\", \"-\", \"0.34\", \"0.75\", \"0.43\", \"0.47\", \"0.35\", \"0.25\", \"0.31\", \"-\", \"0.56\", \"0.13\", \"0.13\", \"0.42\", \"0.09\", \"0.06\", \"0.84\", \"0.16\", \"0.12\", \"0.43\", \"0.16\", \"1.04\", \"0.37\", \"0.15\", \"0.33\", \"0.51\", \"0.28\", \"0.27\", \"-\", \"0.39\", \"0.60\", \"0.70\", \"0.32\", \"-\", \"0.41\", \"0.10\", \"0.20\", \"0.25\", \"0.13\", \"0.22\", \"0.07\", \"0.47\", \"0.07\", \"0.55\", \"0.15\", \"0.22\", \"0.29\", \"0.16\", \"0.18\", \"0.64\", \"0.64\", \"0.38\", \"0.38\", \"0.18\", \"0.22\", \"0.08\", \"0.36\", \"-\", \"0.51\", \"0.12\", \"0.39\", \"0.24\", \"0.28\", \"1.35\", \"0.06\", \"0.21\", \"0.13\", \"0.09\", \"-\", \"0.14\", \"0.64\", \"0.20\", \"0.09\", \"0.75\", \"0.16\", \"0.32\", \"0.08\", \"0.14\", \"0.12\", \"0.07\", \"0.30\", \"0.35\", \"0.39\", \"0.06\", \"0.52\", \"0.25\", \"0.55\", \"0.49\", \"0.12\", \"0.08\", \"0.16\", \"0.09\", \"0.19\", \"0.35\", \"0.59\", \"0.64\", \"0.26\", \"0.44\", \"0.21\", \"0.33\", \"0.07\", \"0.45\", \"0.05\", \"-\", \"0.18\", \"0.24\", \"0.13\", \"0.43\", \"0.32\", \"0.24\", \"0.19\", \"0.45\", \"0.29\", \"0.32\", \"0.29\", \"0.22\", \"-\", \"0.40\", \"0.27\", \"0.34\", \"0.47\", \"0.49\", \"0.27\", \"0.06\", \"0.09\", \"0.16\", \"0.27\", \"0.08\", \"-\", \"0.27\", \"0.11\", \"0.38\", \"0.38\", \"0.42\", \"0.10\", \"0.31\", \"0.35\", \"0.29\", \"0.59\", \"0.20\", \"0.18\", \"0.37\", \"0.19\", \"0.18\", \"0.51\", \"0.22\", \"0.44\", \"0.60\", \"0.14\", \"0.80\", \"0.26\", \"1.16\", \"0.07\", \"0.29\", \"0.45\", \"0.08\", \"0.52\", \"0.23\", \"0.13\", \"-\", \"0.60\", \"0.24\", \"0.48\", \"0.26\", \"-\", \"0.07\", \"0.62\", \"0.50\", \"0.28\", \"0.21\", \"-\", \"0.55\", \"0.77\", \"0.30\", \"0.63\", \"0.15\", \"-\", \"0.16\", \"0.45\", \"0.17\", \"0.37\", \"0.13\", \"0.12\", \"0.17\", \"0.38\", \"0.19\", \"0.46\", \"0.13\", \"0.27\", \"0.18\", \"0.11\", \"0.47\", \"0.26\", \"0.38\", \"0.14\", \"0.33\", \"0.20\", \"0.56\", \"0.38\", \"0.06\", \"0.24\", \"0.07\", \"0.14\", \"0.05\", \"0.24\", \"0.12\", \"0.22\", \"0.16\", \"0.40\", \"0.43\", \"0.28\", \"0.06\", \"-\", \"0.28\", \"0.41\", \"0.53\", \"0.14\", \"0.32\", \"0.13\", \"0.19\", \"0.19\", \"0.17\", \"0.15\", \"0.14\", \"0.22\", \"0.43\", \"0.18\", \"0.85\", \"0.43\", null], \"y\": [\"71%\", \"80%\", \"78%\", \"77%\", \"70%\", \"73%\", \"70%\", \"74%\", \"76%\", \"71%\", \"74%\", \"74%\", \"76%\", \"72%\", \"75%\", \"73%\", \"74%\", \"75%\", \"75%\", \"73%\", \"78%\", \"71%\", \"75%\", \"78%\", \"71%\", \"72%\", \"82%\", \"72%\", \"70%\", \"78%\", \"69%\", \"72%\", \"67%\", \"76%\", \"76%\", \"69%\", \"73%\", \"79%\", \"78%\", \"77%\", \"76%\", \"66%\", \"71%\", \"72%\", \"75%\", \"75%\", \"64%\", \"72%\", \"76%\", \"76%\", \"75%\", \"65%\", \"78%\", \"74%\", \"69%\", \"69%\", \"80%\", \"70%\", \"67%\", \"73%\", \"68%\", \"76%\", \"71%\", \"69%\", \"72%\", \"75%\", \"72%\", \"79%\", \"79%\", \"76%\", \"82%\", \"69%\", \"80%\", \"67%\", \"70%\", \"75%\", \"71%\", \"80%\", \"74%\", \"73%\", \"78%\", \"73%\", \"69%\", \"75%\", \"72%\", \"77%\", \"78%\", \"70%\", \"80%\", \"70%\", \"77%\", \"79%\", \"77%\", \"73%\", \"68%\", \"68%\", \"77%\", \"66%\", \"71%\", \"73%\", \"70%\", \"72%\", \"80%\", \"80%\", \"71%\", \"74%\", \"62%\", \"79%\", \"75%\", \"75%\", \"75%\", \"65%\", \"76%\", \"78%\", \"72%\", \"78%\", \"71%\", \"74%\", \"73%\", \"77%\", \"72%\", \"76%\", \"73%\", \"67%\", \"68%\", \"67%\", \"81%\", \"70%\", \"76%\", \"73%\", \"66%\", \"80%\", \"84%\", \"71%\", \"68%\", \"64%\", \"81%\", \"70%\", \"74%\", \"69%\", \"71%\", \"72%\", \"77%\", \"69%\", \"69%\", \"71%\", \"75%\", \"73%\", \"79%\", \"76%\", \"74%\", \"75%\", \"73%\", \"68%\", \"69%\", \"73%\", \"65%\", \"72%\", \"75%\", \"73%\", \"72%\", \"71%\", \"71%\", \"67%\", \"77%\", \"75%\", \"75%\", \"73%\", \"69%\", \"74%\", \"66%\", \"70%\", \"75%\", \"72%\", \"73%\", \"70%\", \"76%\", \"69%\", \"76%\", \"75%\", \"81%\", \"71%\", \"71%\", \"69%\", \"75%\", \"78%\", \"78%\", \"78%\", \"69%\", \"71%\", \"77%\", \"73%\", \"73%\", \"83%\", \"77%\", \"82%\", \"65%\", \"71%\", \"69%\", \"74%\", \"71%\", \"76%\", \"80%\", \"75%\", \"83%\", \"66%\", \"71%\", \"76%\", \"74%\", \"78%\", \"77%\", \"72%\", \"73%\", \"77%\", \"81%\", \"70%\", \"71%\", \"73%\", \"76%\", \"73%\", \"69%\", \"73%\", \"77%\", \"76%\", \"71%\", \"75%\", \"75%\", \"73%\", \"77%\", \"68%\", \"76%\", \"75%\", \"72%\", \"80%\", \"74%\", \"72%\", \"74%\", \"74%\", \"74%\", \"79%\", \"72%\", \"76%\", \"64%\", \"71%\", \"68%\", \"69%\", \"70%\", \"72%\", \"72%\", \"74%\", \"75%\", \"65%\", \"72%\", \"75%\", \"74%\", \"67%\", \"76%\", \"68%\", \"71%\", \"68%\", \"69%\", \"67%\", \"76%\", \"64%\", \"75%\", \"72%\", \"70%\", \"72%\", \"75%\", \"72%\", \"73%\", \"\"]}],\n",
       "                        {\"legend\": {\"bgcolor\": \"#F5F6F9\", \"font\": {\"color\": \"#4D5663\"}}, \"paper_bgcolor\": \"#F5F6F9\", \"plot_bgcolor\": \"#F5F6F9\", \"template\": {\"data\": {\"bar\": [{\"error_x\": {\"color\": \"#2a3f5f\"}, \"error_y\": {\"color\": \"#2a3f5f\"}, \"marker\": {\"line\": {\"color\": \"#E5ECF6\", \"width\": 0.5}}, \"type\": \"bar\"}], \"barpolar\": [{\"marker\": {\"line\": {\"color\": \"#E5ECF6\", \"width\": 0.5}}, \"type\": \"barpolar\"}], \"carpet\": [{\"aaxis\": {\"endlinecolor\": \"#2a3f5f\", \"gridcolor\": \"white\", \"linecolor\": \"white\", \"minorgridcolor\": \"white\", \"startlinecolor\": \"#2a3f5f\"}, \"baxis\": {\"endlinecolor\": \"#2a3f5f\", \"gridcolor\": \"white\", \"linecolor\": \"white\", \"minorgridcolor\": \"white\", \"startlinecolor\": \"#2a3f5f\"}, \"type\": \"carpet\"}], \"choropleth\": [{\"colorbar\": {\"outlinewidth\": 0, \"ticks\": \"\"}, \"type\": \"choropleth\"}], \"contour\": [{\"colorbar\": {\"outlinewidth\": 0, \"ticks\": \"\"}, \"colorscale\": [[0.0, \"#0d0887\"], [0.1111111111111111, \"#46039f\"], [0.2222222222222222, \"#7201a8\"], [0.3333333333333333, \"#9c179e\"], [0.4444444444444444, \"#bd3786\"], [0.5555555555555556, \"#d8576b\"], [0.6666666666666666, \"#ed7953\"], [0.7777777777777778, \"#fb9f3a\"], [0.8888888888888888, \"#fdca26\"], [1.0, \"#f0f921\"]], \"type\": \"contour\"}], \"contourcarpet\": [{\"colorbar\": {\"outlinewidth\": 0, \"ticks\": \"\"}, \"type\": \"contourcarpet\"}], \"heatmap\": [{\"colorbar\": {\"outlinewidth\": 0, \"ticks\": \"\"}, \"colorscale\": [[0.0, \"#0d0887\"], [0.1111111111111111, \"#46039f\"], [0.2222222222222222, \"#7201a8\"], [0.3333333333333333, \"#9c179e\"], [0.4444444444444444, \"#bd3786\"], [0.5555555555555556, \"#d8576b\"], [0.6666666666666666, \"#ed7953\"], [0.7777777777777778, \"#fb9f3a\"], [0.8888888888888888, \"#fdca26\"], [1.0, \"#f0f921\"]], \"type\": \"heatmap\"}], \"heatmapgl\": [{\"colorbar\": {\"outlinewidth\": 0, \"ticks\": \"\"}, \"colorscale\": [[0.0, \"#0d0887\"], [0.1111111111111111, \"#46039f\"], [0.2222222222222222, \"#7201a8\"], [0.3333333333333333, \"#9c179e\"], [0.4444444444444444, \"#bd3786\"], [0.5555555555555556, \"#d8576b\"], [0.6666666666666666, \"#ed7953\"], [0.7777777777777778, \"#fb9f3a\"], [0.8888888888888888, \"#fdca26\"], [1.0, \"#f0f921\"]], \"type\": \"heatmapgl\"}], \"histogram\": [{\"marker\": {\"colorbar\": {\"outlinewidth\": 0, \"ticks\": \"\"}}, \"type\": \"histogram\"}], \"histogram2d\": [{\"colorbar\": {\"outlinewidth\": 0, \"ticks\": \"\"}, \"colorscale\": [[0.0, \"#0d0887\"], [0.1111111111111111, \"#46039f\"], [0.2222222222222222, \"#7201a8\"], [0.3333333333333333, \"#9c179e\"], [0.4444444444444444, \"#bd3786\"], [0.5555555555555556, \"#d8576b\"], [0.6666666666666666, \"#ed7953\"], [0.7777777777777778, \"#fb9f3a\"], [0.8888888888888888, \"#fdca26\"], [1.0, \"#f0f921\"]], \"type\": \"histogram2d\"}], \"histogram2dcontour\": [{\"colorbar\": {\"outlinewidth\": 0, \"ticks\": \"\"}, \"colorscale\": [[0.0, \"#0d0887\"], [0.1111111111111111, \"#46039f\"], [0.2222222222222222, \"#7201a8\"], [0.3333333333333333, \"#9c179e\"], [0.4444444444444444, \"#bd3786\"], [0.5555555555555556, \"#d8576b\"], [0.6666666666666666, \"#ed7953\"], [0.7777777777777778, \"#fb9f3a\"], [0.8888888888888888, \"#fdca26\"], [1.0, \"#f0f921\"]], \"type\": \"histogram2dcontour\"}], \"mesh3d\": [{\"colorbar\": {\"outlinewidth\": 0, \"ticks\": \"\"}, \"type\": \"mesh3d\"}], \"parcoords\": [{\"line\": {\"colorbar\": {\"outlinewidth\": 0, \"ticks\": \"\"}}, \"type\": \"parcoords\"}], \"pie\": [{\"automargin\": true, \"type\": \"pie\"}], \"scatter\": [{\"marker\": {\"colorbar\": {\"outlinewidth\": 0, \"ticks\": \"\"}}, \"type\": \"scatter\"}], \"scatter3d\": [{\"line\": {\"colorbar\": {\"outlinewidth\": 0, \"ticks\": \"\"}}, \"marker\": {\"colorbar\": {\"outlinewidth\": 0, \"ticks\": \"\"}}, \"type\": \"scatter3d\"}], \"scattercarpet\": [{\"marker\": {\"colorbar\": {\"outlinewidth\": 0, \"ticks\": \"\"}}, \"type\": \"scattercarpet\"}], \"scattergeo\": [{\"marker\": {\"colorbar\": {\"outlinewidth\": 0, \"ticks\": \"\"}}, \"type\": \"scattergeo\"}], \"scattergl\": [{\"marker\": {\"colorbar\": {\"outlinewidth\": 0, \"ticks\": \"\"}}, \"type\": \"scattergl\"}], \"scattermapbox\": [{\"marker\": {\"colorbar\": {\"outlinewidth\": 0, \"ticks\": \"\"}}, \"type\": \"scattermapbox\"}], \"scatterpolar\": [{\"marker\": {\"colorbar\": {\"outlinewidth\": 0, \"ticks\": \"\"}}, \"type\": \"scatterpolar\"}], \"scatterpolargl\": [{\"marker\": {\"colorbar\": {\"outlinewidth\": 0, \"ticks\": \"\"}}, \"type\": \"scatterpolargl\"}], \"scatterternary\": [{\"marker\": {\"colorbar\": {\"outlinewidth\": 0, \"ticks\": \"\"}}, \"type\": \"scatterternary\"}], \"surface\": [{\"colorbar\": {\"outlinewidth\": 0, \"ticks\": \"\"}, \"colorscale\": [[0.0, \"#0d0887\"], [0.1111111111111111, \"#46039f\"], [0.2222222222222222, \"#7201a8\"], [0.3333333333333333, \"#9c179e\"], [0.4444444444444444, \"#bd3786\"], [0.5555555555555556, \"#d8576b\"], [0.6666666666666666, \"#ed7953\"], [0.7777777777777778, \"#fb9f3a\"], [0.8888888888888888, \"#fdca26\"], [1.0, \"#f0f921\"]], \"type\": \"surface\"}], \"table\": [{\"cells\": {\"fill\": {\"color\": \"#EBF0F8\"}, \"line\": {\"color\": \"white\"}}, \"header\": {\"fill\": {\"color\": \"#C8D4E3\"}, \"line\": {\"color\": \"white\"}}, \"type\": \"table\"}]}, \"layout\": {\"annotationdefaults\": {\"arrowcolor\": \"#2a3f5f\", \"arrowhead\": 0, \"arrowwidth\": 1}, \"coloraxis\": {\"colorbar\": {\"outlinewidth\": 0, \"ticks\": \"\"}}, \"colorscale\": {\"diverging\": [[0, \"#8e0152\"], [0.1, \"#c51b7d\"], [0.2, \"#de77ae\"], [0.3, \"#f1b6da\"], [0.4, \"#fde0ef\"], [0.5, \"#f7f7f7\"], [0.6, \"#e6f5d0\"], [0.7, \"#b8e186\"], [0.8, \"#7fbc41\"], [0.9, \"#4d9221\"], [1, \"#276419\"]], \"sequential\": [[0.0, \"#0d0887\"], [0.1111111111111111, \"#46039f\"], [0.2222222222222222, \"#7201a8\"], [0.3333333333333333, \"#9c179e\"], [0.4444444444444444, \"#bd3786\"], [0.5555555555555556, \"#d8576b\"], [0.6666666666666666, \"#ed7953\"], [0.7777777777777778, \"#fb9f3a\"], [0.8888888888888888, \"#fdca26\"], [1.0, \"#f0f921\"]], \"sequentialminus\": [[0.0, \"#0d0887\"], [0.1111111111111111, \"#46039f\"], [0.2222222222222222, \"#7201a8\"], [0.3333333333333333, \"#9c179e\"], [0.4444444444444444, \"#bd3786\"], [0.5555555555555556, \"#d8576b\"], [0.6666666666666666, \"#ed7953\"], [0.7777777777777778, \"#fb9f3a\"], [0.8888888888888888, \"#fdca26\"], [1.0, \"#f0f921\"]]}, \"colorway\": [\"#636efa\", \"#EF553B\", \"#00cc96\", \"#ab63fa\", \"#FFA15A\", \"#19d3f3\", \"#FF6692\", \"#B6E880\", \"#FF97FF\", \"#FECB52\"], \"font\": {\"color\": \"#2a3f5f\"}, \"geo\": {\"bgcolor\": \"white\", \"lakecolor\": \"white\", \"landcolor\": \"#E5ECF6\", \"showlakes\": true, \"showland\": true, \"subunitcolor\": \"white\"}, \"hoverlabel\": {\"align\": \"left\"}, \"hovermode\": \"closest\", \"mapbox\": {\"style\": \"light\"}, \"paper_bgcolor\": \"white\", \"plot_bgcolor\": \"#E5ECF6\", \"polar\": {\"angularaxis\": {\"gridcolor\": \"white\", \"linecolor\": \"white\", \"ticks\": \"\"}, \"bgcolor\": \"#E5ECF6\", \"radialaxis\": {\"gridcolor\": \"white\", \"linecolor\": \"white\", \"ticks\": \"\"}}, \"scene\": {\"xaxis\": {\"backgroundcolor\": \"#E5ECF6\", \"gridcolor\": \"white\", \"gridwidth\": 2, \"linecolor\": \"white\", \"showbackground\": true, \"ticks\": \"\", \"zerolinecolor\": \"white\"}, \"yaxis\": {\"backgroundcolor\": \"#E5ECF6\", \"gridcolor\": \"white\", \"gridwidth\": 2, \"linecolor\": \"white\", \"showbackground\": true, \"ticks\": \"\", \"zerolinecolor\": \"white\"}, \"zaxis\": {\"backgroundcolor\": \"#E5ECF6\", \"gridcolor\": \"white\", \"gridwidth\": 2, \"linecolor\": \"white\", \"showbackground\": true, \"ticks\": \"\", \"zerolinecolor\": \"white\"}}, \"shapedefaults\": {\"line\": {\"color\": \"#2a3f5f\"}}, \"ternary\": {\"aaxis\": {\"gridcolor\": \"white\", \"linecolor\": \"white\", \"ticks\": \"\"}, \"baxis\": {\"gridcolor\": \"white\", \"linecolor\": \"white\", \"ticks\": \"\"}, \"bgcolor\": \"#E5ECF6\", \"caxis\": {\"gridcolor\": \"white\", \"linecolor\": \"white\", \"ticks\": \"\"}}, \"title\": {\"x\": 0.05}, \"xaxis\": {\"automargin\": true, \"gridcolor\": \"white\", \"linecolor\": \"white\", \"ticks\": \"\", \"title\": {\"standoff\": 15}, \"zerolinecolor\": \"white\", \"zerolinewidth\": 2}, \"yaxis\": {\"automargin\": true, \"gridcolor\": \"white\", \"linecolor\": \"white\", \"ticks\": \"\", \"title\": {\"standoff\": 15}, \"zerolinecolor\": \"white\", \"zerolinewidth\": 2}}}, \"title\": {\"font\": {\"color\": \"#4D5663\"}, \"text\": \"Carrilero\"}, \"xaxis\": {\"gridcolor\": \"#E1E5ED\", \"showgrid\": true, \"tickfont\": {\"color\": \"#4D5663\"}, \"title\": {\"font\": {\"color\": \"#4D5663\"}, \"text\": \"Key Passes/90\"}, \"zerolinecolor\": \"#E1E5ED\"}, \"yaxis\": {\"gridcolor\": \"#E1E5ED\", \"showgrid\": true, \"tickfont\": {\"color\": \"#4D5663\"}, \"title\": {\"font\": {\"color\": \"#4D5663\"}, \"text\": \"Pass Completion %\"}, \"zerolinecolor\": \"#E1E5ED\"}},\n",
       "                        {\"showLink\": true, \"linkText\": \"Export to plot.ly\", \"plotlyServerURL\": \"https://plot.ly\", \"responsive\": true}\n",
       "                    ).then(function(){\n",
       "                            \n",
       "var gd = document.getElementById('367f7cda-8e30-42f3-9739-07b39920bfb2');\n",
       "var x = new MutationObserver(function (mutations, observer) {{\n",
       "        var display = window.getComputedStyle(gd).display;\n",
       "        if (!display || display === 'none') {{\n",
       "            console.log([gd, 'removed!']);\n",
       "            Plotly.purge(gd);\n",
       "            observer.disconnect();\n",
       "        }}\n",
       "}});\n",
       "\n",
       "// Listen for the removal of the full notebook cells\n",
       "var notebookContainer = gd.closest('#notebook-container');\n",
       "if (notebookContainer) {{\n",
       "    x.observe(notebookContainer, {childList: true});\n",
       "}}\n",
       "\n",
       "// Listen for the clearing of the current output cell\n",
       "var outputEl = gd.closest('.output');\n",
       "if (outputEl) {{\n",
       "    x.observe(outputEl, {childList: true});\n",
       "}}\n",
       "\n",
       "                        })\n",
       "                };\n",
       "                });\n",
       "            </script>\n",
       "        </div>"
      ]
     },
     "metadata": {},
     "output_type": "display_data"
    }
   ],
   "source": [
    "df.iplot(kind='scatter',x='K Ps/90',y='Pas %',\n",
    "           mode='markers',text='Name',size=10,\n",
    "          xTitle='Key Passes/90',yTitle='Pass Completion %',title='Carrilero')\t"
   ]
  },
  {
   "cell_type": "code",
   "execution_count": 18,
   "metadata": {},
   "outputs": [
    {
     "data": {
      "application/vnd.plotly.v1+json": {
       "config": {
        "linkText": "Export to plot.ly",
        "plotlyServerURL": "https://plot.ly",
        "showLink": true
       },
       "data": [
        {
         "line": {
          "color": "rgba(255, 153, 51, 1.0)",
          "dash": "solid",
          "shape": "linear",
          "width": 1.3
         },
         "marker": {
          "size": 10,
          "symbol": "circle"
         },
         "mode": "markers",
         "name": "Ch C/90",
         "text": [
          "Oskar Repka",
          "Marcel Mehlem",
          "Jessie Guera Djou",
          "Andjelo Kacavenda",
          "Michal Ozga",
          "Josip Zeljkovic",
          "Lukasz Duszkiewicz",
          "Bartlomiej Gajda",
          "Aleksa Pejic",
          "Daniel Pospisil",
          "Jakov Basic",
          "Robert Mandrysz",
          "Sasa Tomanovic",
          "Sebastian Duda",
          "Ivan Jovanovic",
          "Duje Medak",
          "Dominik Siwinski",
          "Arkadiusz Kozlowski",
          "Fanol PÃ«rdedaj",
          "Kamil Niewiadomski",
          "Lukasz Mozler",
          "Haris Memic",
          "Kristijan Jakic",
          "Filip Tolic",
          "Jakub Kisiel",
          "Dawid Kisly",
          "Taras Romanchuk",
          "Aleksander Slezak",
          "Tomasz Owczarek",
          "Richie Smallwood",
          "Mateusz Stepien",
          "Josip Bauk",
          "Domagoj Perica",
          "Uros Filipovic",
          "Stefan Velickovic",
          "Filip Sredojevic",
          "Radoslaw Kaminski",
          "Alexander Fuchs",
          "Tomas Huk",
          "Wojciech Kaminski",
          "Kasim Adams",
          "Mateusz Madzia",
          "Sebastian Kopec",
          "Jovan Simic",
          "Antonio Asanovic",
          "Marko Labovic",
          "Hubert Molski",
          "Hrvoje Dzijan",
          "Amos Youga",
          "Mario Erb",
          "Fabio DaprelÃ",
          "Kresimir Jelic",
          "Jakob Johansson",
          "Liam Gordon",
          "Jakub Hric",
          "Damian Koziel",
          "Malcom Edjouma",
          "Piotr Wujec",
          "Donald Molls",
          "Luka Pavkovic",
          "Norbert Radkiewicz",
          "Danilo Wiebe",
          "Kristi Qose",
          "Nikola Puzic",
          "Radoslaw Kursa",
          "Jonas Bager",
          "Jon Flanagan",
          "Vuk Mitosevic",
          "Tom Hateley",
          "Sasa Balic",
          "Mohamed Loua",
          "Dawid Bialek",
          "Ben Thompson",
          "Pawel Kohut",
          "Daniel Haritonov",
          "Andrej Causic",
          "Sebastian Smialek",
          "Luka Miljevic",
          "Andrzej Korytek",
          "Mario Cuic",
          "Lubomir Satka",
          "Vukasin Krstic",
          "Peter Drobnak",
          "Marko Filipovic",
          "Martin Vukorepa",
          "Nicklas Shipnoski",
          "Joey Pelupessy",
          "Antonio Mrkovic",
          "Kamal Bafounta",
          "Adrian Liberacki",
          "Tevin Ihrig",
          "Sandi Lovric",
          "Patrick Wolfgang Kapp",
          "Ivan Roca",
          "Karol Drwecki",
          "Zlatko Ilicic",
          "Luka Cakarun",
          "Tan Jiajie",
          "Domagoj Zigri",
          "Casper Elderman",
          "Samuel Lengle",
          "Luka Cankovic",
          "Kenny Dougall",
          "AurÃ©lien Nguiamba",
          "Fahri Akyol",
          "Andrija Crnadak",
          "Grzegorz Wawrzynski",
          "Julian Rieckmann",
          "Leandro",
          "Milos Brajovic",
          "Nathan Baker",
          "Matthias Rahn",
          "Petar Mitic",
          "Dusan Stevanovic",
          "Jan Janik",
          "Fran Tomek",
          "Tomasz Lewandowski",
          "Mateusz Dlugolecki",
          "Pawel Baranowski",
          "David Jablonsky",
          "Adam Mesjasz",
          "Oliver Praznovsky",
          "Florian Egerer",
          "Maxim Kventser",
          "Nikola Bjelanovic",
          "Bojan Cigulajkic",
          "Philip Heise",
          "Thomas Haas",
          "Milan Janjic",
          "Max Dombrowka",
          "Ervin Kacar",
          "Ãscar Gil",
          "Maxime Le Marchand",
          "Jan LÃ¶hmannsrÃ¶ben",
          "Andrzej Kloda",
          "Adrian Polanski",
          "RamÃ³n",
          "Jan Sieracki",
          "Dusan Jokovic",
          "Daniel Dziwniel",
          "Patryk Wilk",
          "Sebastian Zalepa",
          "Jan Sterba",
          "Stefan Draskovic",
          "Damian Garbacik",
          "Bartosz Kopacz",
          "Szymon Kobeszko",
          "Massadio HaÃ¯dara",
          "Manuel Martic",
          "Filip Bainovic",
          "Adrian Niewiadomski",
          "Marcin Mackowiak",
          "Pierre Fassnacht",
          "Michael Heinloth",
          "Nenad Kocovic",
          "Miladin Stevanovic",
          "Jakub Pruzanin",
          "Bartlomiej Mruk",
          "Herbert Paul",
          "Donatas Nakrosius",
          "Ivan Zgrablic",
          "Robin Urban",
          "Kacper Gorski",
          "Adrian Filipiak",
          "Adrian Purzycki",
          "Kostas Triantafyllopoulos",
          "Aleksandar Bjelica",
          "Tomas Petrasek",
          "Miquel Nelom",
          "Koen Weuts",
          "Aleksandar Petrovic",
          "Marcin Dabrowski",
          "Niko Datkovic",
          "Michal Zieba",
          "Rafal Ostrowski",
          "Ivan Tomac",
          "David Urban",
          "Andrej Startsev",
          "Nemanja Vidic",
          "Petar Botica",
          "Bojan Gocanin",
          "Fabian Holthaus",
          "Tim HÃ¤uÃler",
          "Mikkel Kirkeskov",
          "Ovidiu Popescu",
          "Iliya Gruev",
          "Filip Jovic",
          "Douglas Bergqvist",
          "Marcin Sudy",
          "Mart Ristl",
          "Lovro Sindik",
          "Mladen Micanovic",
          "Blazej Cyfert",
          "Luca Zander",
          "Igor Sapala",
          "Jan Sobocinski",
          "Artur Gac",
          "Kacper Jozefiak",
          "Zvezdan Djordjilovic",
          "David Bumberger",
          "Ivan Bosnjak",
          "Michal Wrzesniewski",
          "Aleksandar Ignjovski",
          "Turgay Gemicibasi",
          "Nenad Kiso",
          "Lukasz Sztylka",
          "Noboru Shimura",
          "Derrick Williams",
          "Dino Stiglec",
          "Kyriakos Savvidis",
          "Niklas Landgraf",
          "Tomasz Wojcinowicz",
          "Mateusz Pienczak",
          "Jaroslaw Kubicki",
          "Patrick Kammerbauer",
          "Luis GÃ¶rlich",
          "Chris Wolf",
          "Josip Sutalo",
          "Jakub Zima",
          "Ernest Dzieciol",
          "Norbert Myszka",
          "Robin FluÃ",
          "Nemanja Milovanovic",
          "Syam Ben Youssef",
          "Adrian Rybak",
          "Rafal Remisz",
          "Bartlomiej Kasprzak",
          "Miroslav Bogosavac",
          "Dragoljub Srnic",
          "Kaan Kurt",
          "Ivan Runje",
          "Sonny Bradley",
          "Adam Pazio",
          "Ariel Borysiuk",
          "Krystian Stolarczyk",
          "Damian Kostkowski",
          "Dominik Nothnagel",
          "Michel StÃ¶cker",
          "Ryan Malone",
          "Milan Makaric",
          "Matej Hybs",
          "Sven Botman",
          "Piotr Bartloszewski",
          "Mariusz Holik",
          "Mateo Jaksic",
          "Ashton GÃ¶tz",
          "Marcos RodrÃ­guez",
          "Jakub Swiecinski",
          "Marius GrÃ¶sch",
          "Aleksa Jovanovic",
          "Aleksandar Varjacic",
          "Mirko Djermanovic",
          "Igor Biedrzycki",
          "Lukas Duriska",
          "Julien Tadrowski",
          "Jakub Niewiadomski",
          "Philipp Riese",
          "Bartlomiej Lorenc",
          "Julian Wolff",
          "Adrian Bielawski",
          "Filip Zderic",
          "Eric Weeger",
          "Bartosz Kieliba",
          "Filp Ceko",
          "Ariel Mosor",
          "Srdjan Grabez",
          "Bozidar Petrovic",
          "Benjamin Himmel",
          "Marco Komenda",
          "Wiktor Nahrebecki",
          "Niclas Stierlin",
          null
         ],
         "type": "scatter",
         "x": [
          "-",
          "-",
          "-",
          "0.05",
          "0.20",
          "0.31",
          "0.33",
          "0.11",
          "0.12",
          "0.14",
          "0.14",
          "0.06",
          "0.36",
          "0.13",
          "0.16",
          "0.19",
          "0.43",
          "-",
          "-",
          "-",
          "0.31",
          "0.40",
          "0.08",
          "-",
          "0.25",
          "0.06",
          "0.22",
          "-",
          "-",
          "0.12",
          "0.06",
          "0.06",
          "0.05",
          "0.68",
          "0.15",
          "0.16",
          "0.06",
          "0.17",
          "0.07",
          "-",
          "0.07",
          "0.05",
          "0.11",
          "-",
          "0.07",
          "0.25",
          "0.14",
          "0.20",
          "0.07",
          "-",
          "-",
          "-",
          "0.37",
          "0.06",
          "0.13",
          "0.12",
          "-",
          "-",
          "0.09",
          "0.16",
          "0.06",
          "0.19",
          "0.16",
          "0.44",
          "0.11",
          "-",
          "-",
          "0.06",
          "-",
          "-",
          "-",
          "0.31",
          "0.12",
          "0.25",
          "0.11",
          "-",
          "0.16",
          "0.05",
          "0.07",
          "-",
          "-",
          "-",
          "-",
          "0.12",
          "0.07",
          "0.08",
          "0.07",
          "0.15",
          "0.14",
          "0.05",
          "-",
          "0.32",
          "0.32",
          "0.32",
          "-",
          "0.06",
          "-",
          "-",
          "-",
          "-",
          "0.34",
          "-",
          "0.20",
          "0.06",
          "0.11",
          "0.45",
          "0.06",
          "0.11",
          "-",
          "-",
          "-",
          "-",
          "0.15",
          "0.07",
          "-",
          "0.27",
          "-",
          "0.16",
          "0.08",
          "0.07",
          "-",
          "-",
          "0.10",
          "0.06",
          "0.06",
          "-",
          "-",
          "0.08",
          "0.14",
          "0.15",
          "-",
          "-",
          "0.08",
          "-",
          "-",
          "0.24",
          "0.11",
          "-",
          "-",
          "-",
          "0.07",
          "0.11",
          "0.07",
          "0.25",
          "0.05",
          "-",
          "-",
          "0.18",
          "0.07",
          "0.35",
          "0.13",
          "0.06",
          "0.14",
          "0.25",
          "0.15",
          "-",
          "0.18",
          "0.06",
          "-",
          "0.20",
          "-",
          "0.10",
          "0.11",
          "0.19",
          "0.09",
          "0.06",
          "-",
          "0.12",
          "0.09",
          "-",
          "-",
          "-",
          "0.04",
          "0.10",
          "0.11",
          "0.23",
          "0.05",
          "0.13",
          "0.15",
          "-",
          "0.17",
          "0.05",
          "0.06",
          "0.12",
          "-",
          "-",
          "0.34",
          "-",
          "0.25",
          "0.32",
          "-",
          "0.27",
          "0.16",
          "0.24",
          "-",
          "0.12",
          "0.06",
          "0.08",
          "0.10",
          "0.11",
          "0.13",
          "0.06",
          "0.05",
          "0.06",
          "0.10",
          "0.09",
          "-",
          "-",
          "0.07",
          "0.07",
          "0.14",
          "-",
          "-",
          "0.18",
          "0.18",
          "0.15",
          "0.16",
          "0.08",
          "-",
          "-",
          "0.17",
          "-",
          "-",
          "-",
          "0.06",
          "-",
          "0.15",
          "0.06",
          "0.12",
          "0.06",
          "-",
          "0.06",
          "0.06",
          "0.32",
          "0.05",
          "-",
          "-",
          "0.05",
          "0.10",
          "0.11",
          "0.19",
          "-",
          "0.12",
          "0.07",
          "0.07",
          "-",
          "-",
          "0.06",
          "-",
          "-",
          "0.06",
          "-",
          "0.11",
          "-",
          "-",
          "0.14",
          "-",
          "0.11",
          "0.05",
          "-",
          "-",
          "0.10",
          "-",
          "0.06",
          "-",
          "0.07",
          "0.06",
          "0.11",
          "0.09",
          "0.59",
          "-",
          null
         ],
         "y": [
          "0.56",
          "1.00",
          "1.38",
          "0.81",
          "0.29",
          "1.18",
          "1.63",
          "1.09",
          "1.33",
          "0.36",
          "1.04",
          "1.81",
          "0.54",
          "2.24",
          "1.40",
          "1.00",
          "3.63",
          "0.66",
          "0.61",
          "0.19",
          "1.96",
          "1.12",
          "1.82",
          "0.91",
          "1.31",
          "0.59",
          "0.51",
          "0.17",
          "0.12",
          "0.72",
          "0.86",
          "0.24",
          "0.79",
          "3.32",
          "1.22",
          "0.36",
          "0.23",
          "0.43",
          "0.94",
          "0.22",
          "0.29",
          "0.33",
          "0.56",
          "0.26",
          "0.75",
          "2.05",
          "0.72",
          "1.47",
          "0.35",
          "0.40",
          "0.56",
          "0.40",
          "3.17",
          "0.50",
          "0.40",
          "0.42",
          "0.74",
          "0.28",
          "0.65",
          "0.21",
          "0.12",
          "0.56",
          "0.55",
          "3.62",
          "1.63",
          "0.52",
          "0.75",
          "1.16",
          "0.85",
          "0.73",
          "0.46",
          "0.39",
          "0.89",
          "1.58",
          "0.58",
          "0.11",
          "0.26",
          "0.92",
          "0.46",
          "0.42",
          "0.46",
          "0.22",
          "0.52",
          "1.40",
          "0.29",
          "0.24",
          "0.67",
          "1.02",
          "0.38",
          "0.58",
          "0.35",
          "1.91",
          "0.53",
          "0.38",
          "0.49",
          "1.06",
          "0.83",
          "0.38",
          "0.59",
          "0.35",
          "2.14",
          "0.18",
          "0.33",
          "0.30",
          "0.63",
          "3.50",
          "0.12",
          "0.32",
          "0.60",
          "-",
          "0.33",
          "0.05",
          "2.01",
          "0.54",
          "0.36",
          "1.58",
          "0.36",
          "0.74",
          "0.46",
          "0.71",
          "0.81",
          "0.74",
          "0.50",
          "0.24",
          "1.40",
          "0.66",
          "0.07",
          "1.16",
          "1.71",
          "1.28",
          "0.24",
          "0.41",
          "0.55",
          "0.38",
          "0.09",
          "0.88",
          "0.70",
          "1.09",
          "0.38",
          "1.16",
          "0.71",
          "0.38",
          "0.20",
          "1.10",
          "0.56",
          "0.29",
          "0.98",
          "0.95",
          "0.60",
          "1.56",
          "0.51",
          "0.77",
          "0.43",
          "1.01",
          "0.34",
          "0.40",
          "0.23",
          "0.39",
          "0.37",
          "0.53",
          "0.13",
          "0.43",
          "0.42",
          "0.49",
          "1.06",
          "0.24",
          "0.43",
          "0.44",
          "0.36",
          "0.23",
          "0.30",
          "0.88",
          "0.22",
          "0.38",
          "1.19",
          "1.45",
          "0.10",
          "0.56",
          "0.45",
          "0.29",
          "0.84",
          "1.39",
          "1.05",
          "0.37",
          "0.49",
          "0.80",
          "1.53",
          "0.67",
          "0.88",
          "1.62",
          "1.36",
          "2.61",
          "0.21",
          "0.43",
          "1.11",
          "0.58",
          "0.57",
          "0.25",
          "0.71",
          "0.45",
          "0.13",
          "0.30",
          "0.60",
          "0.84",
          "0.77",
          "0.97",
          "0.40",
          "0.63",
          "1.58",
          "0.71",
          "1.20",
          "0.47",
          "0.36",
          "1.00",
          "0.47",
          "1.66",
          "1.26",
          "0.23",
          "0.47",
          "0.16",
          "0.57",
          "1.11",
          "0.89",
          "0.16",
          "0.18",
          "0.41",
          "1.43",
          "0.81",
          "0.99",
          "0.52",
          "0.43",
          "0.35",
          "0.89",
          "1.53",
          "0.26",
          "0.43",
          "0.43",
          "0.38",
          "0.61",
          "1.62",
          "1.01",
          "0.11",
          "0.54",
          "0.66",
          "1.22",
          "0.54",
          "0.40",
          "0.64",
          "0.36",
          "0.21",
          "1.07",
          "0.67",
          "0.72",
          "0.31",
          "0.30",
          "0.14",
          "0.90",
          "0.89",
          "0.23",
          "0.39",
          "0.47",
          "0.62",
          "0.52",
          "0.44",
          "0.45",
          "0.69",
          "0.61",
          "0.53",
          "0.55",
          "2.29",
          "0.58",
          ""
         ]
        }
       ],
       "layout": {
        "legend": {
         "bgcolor": "#F5F6F9",
         "font": {
          "color": "#4D5663"
         }
        },
        "paper_bgcolor": "#F5F6F9",
        "plot_bgcolor": "#F5F6F9",
        "template": {
         "data": {
          "bar": [
           {
            "error_x": {
             "color": "#2a3f5f"
            },
            "error_y": {
             "color": "#2a3f5f"
            },
            "marker": {
             "line": {
              "color": "#E5ECF6",
              "width": 0.5
             }
            },
            "type": "bar"
           }
          ],
          "barpolar": [
           {
            "marker": {
             "line": {
              "color": "#E5ECF6",
              "width": 0.5
             }
            },
            "type": "barpolar"
           }
          ],
          "carpet": [
           {
            "aaxis": {
             "endlinecolor": "#2a3f5f",
             "gridcolor": "white",
             "linecolor": "white",
             "minorgridcolor": "white",
             "startlinecolor": "#2a3f5f"
            },
            "baxis": {
             "endlinecolor": "#2a3f5f",
             "gridcolor": "white",
             "linecolor": "white",
             "minorgridcolor": "white",
             "startlinecolor": "#2a3f5f"
            },
            "type": "carpet"
           }
          ],
          "choropleth": [
           {
            "colorbar": {
             "outlinewidth": 0,
             "ticks": ""
            },
            "type": "choropleth"
           }
          ],
          "contour": [
           {
            "colorbar": {
             "outlinewidth": 0,
             "ticks": ""
            },
            "colorscale": [
             [
              0,
              "#0d0887"
             ],
             [
              0.1111111111111111,
              "#46039f"
             ],
             [
              0.2222222222222222,
              "#7201a8"
             ],
             [
              0.3333333333333333,
              "#9c179e"
             ],
             [
              0.4444444444444444,
              "#bd3786"
             ],
             [
              0.5555555555555556,
              "#d8576b"
             ],
             [
              0.6666666666666666,
              "#ed7953"
             ],
             [
              0.7777777777777778,
              "#fb9f3a"
             ],
             [
              0.8888888888888888,
              "#fdca26"
             ],
             [
              1,
              "#f0f921"
             ]
            ],
            "type": "contour"
           }
          ],
          "contourcarpet": [
           {
            "colorbar": {
             "outlinewidth": 0,
             "ticks": ""
            },
            "type": "contourcarpet"
           }
          ],
          "heatmap": [
           {
            "colorbar": {
             "outlinewidth": 0,
             "ticks": ""
            },
            "colorscale": [
             [
              0,
              "#0d0887"
             ],
             [
              0.1111111111111111,
              "#46039f"
             ],
             [
              0.2222222222222222,
              "#7201a8"
             ],
             [
              0.3333333333333333,
              "#9c179e"
             ],
             [
              0.4444444444444444,
              "#bd3786"
             ],
             [
              0.5555555555555556,
              "#d8576b"
             ],
             [
              0.6666666666666666,
              "#ed7953"
             ],
             [
              0.7777777777777778,
              "#fb9f3a"
             ],
             [
              0.8888888888888888,
              "#fdca26"
             ],
             [
              1,
              "#f0f921"
             ]
            ],
            "type": "heatmap"
           }
          ],
          "heatmapgl": [
           {
            "colorbar": {
             "outlinewidth": 0,
             "ticks": ""
            },
            "colorscale": [
             [
              0,
              "#0d0887"
             ],
             [
              0.1111111111111111,
              "#46039f"
             ],
             [
              0.2222222222222222,
              "#7201a8"
             ],
             [
              0.3333333333333333,
              "#9c179e"
             ],
             [
              0.4444444444444444,
              "#bd3786"
             ],
             [
              0.5555555555555556,
              "#d8576b"
             ],
             [
              0.6666666666666666,
              "#ed7953"
             ],
             [
              0.7777777777777778,
              "#fb9f3a"
             ],
             [
              0.8888888888888888,
              "#fdca26"
             ],
             [
              1,
              "#f0f921"
             ]
            ],
            "type": "heatmapgl"
           }
          ],
          "histogram": [
           {
            "marker": {
             "colorbar": {
              "outlinewidth": 0,
              "ticks": ""
             }
            },
            "type": "histogram"
           }
          ],
          "histogram2d": [
           {
            "colorbar": {
             "outlinewidth": 0,
             "ticks": ""
            },
            "colorscale": [
             [
              0,
              "#0d0887"
             ],
             [
              0.1111111111111111,
              "#46039f"
             ],
             [
              0.2222222222222222,
              "#7201a8"
             ],
             [
              0.3333333333333333,
              "#9c179e"
             ],
             [
              0.4444444444444444,
              "#bd3786"
             ],
             [
              0.5555555555555556,
              "#d8576b"
             ],
             [
              0.6666666666666666,
              "#ed7953"
             ],
             [
              0.7777777777777778,
              "#fb9f3a"
             ],
             [
              0.8888888888888888,
              "#fdca26"
             ],
             [
              1,
              "#f0f921"
             ]
            ],
            "type": "histogram2d"
           }
          ],
          "histogram2dcontour": [
           {
            "colorbar": {
             "outlinewidth": 0,
             "ticks": ""
            },
            "colorscale": [
             [
              0,
              "#0d0887"
             ],
             [
              0.1111111111111111,
              "#46039f"
             ],
             [
              0.2222222222222222,
              "#7201a8"
             ],
             [
              0.3333333333333333,
              "#9c179e"
             ],
             [
              0.4444444444444444,
              "#bd3786"
             ],
             [
              0.5555555555555556,
              "#d8576b"
             ],
             [
              0.6666666666666666,
              "#ed7953"
             ],
             [
              0.7777777777777778,
              "#fb9f3a"
             ],
             [
              0.8888888888888888,
              "#fdca26"
             ],
             [
              1,
              "#f0f921"
             ]
            ],
            "type": "histogram2dcontour"
           }
          ],
          "mesh3d": [
           {
            "colorbar": {
             "outlinewidth": 0,
             "ticks": ""
            },
            "type": "mesh3d"
           }
          ],
          "parcoords": [
           {
            "line": {
             "colorbar": {
              "outlinewidth": 0,
              "ticks": ""
             }
            },
            "type": "parcoords"
           }
          ],
          "pie": [
           {
            "automargin": true,
            "type": "pie"
           }
          ],
          "scatter": [
           {
            "marker": {
             "colorbar": {
              "outlinewidth": 0,
              "ticks": ""
             }
            },
            "type": "scatter"
           }
          ],
          "scatter3d": [
           {
            "line": {
             "colorbar": {
              "outlinewidth": 0,
              "ticks": ""
             }
            },
            "marker": {
             "colorbar": {
              "outlinewidth": 0,
              "ticks": ""
             }
            },
            "type": "scatter3d"
           }
          ],
          "scattercarpet": [
           {
            "marker": {
             "colorbar": {
              "outlinewidth": 0,
              "ticks": ""
             }
            },
            "type": "scattercarpet"
           }
          ],
          "scattergeo": [
           {
            "marker": {
             "colorbar": {
              "outlinewidth": 0,
              "ticks": ""
             }
            },
            "type": "scattergeo"
           }
          ],
          "scattergl": [
           {
            "marker": {
             "colorbar": {
              "outlinewidth": 0,
              "ticks": ""
             }
            },
            "type": "scattergl"
           }
          ],
          "scattermapbox": [
           {
            "marker": {
             "colorbar": {
              "outlinewidth": 0,
              "ticks": ""
             }
            },
            "type": "scattermapbox"
           }
          ],
          "scatterpolar": [
           {
            "marker": {
             "colorbar": {
              "outlinewidth": 0,
              "ticks": ""
             }
            },
            "type": "scatterpolar"
           }
          ],
          "scatterpolargl": [
           {
            "marker": {
             "colorbar": {
              "outlinewidth": 0,
              "ticks": ""
             }
            },
            "type": "scatterpolargl"
           }
          ],
          "scatterternary": [
           {
            "marker": {
             "colorbar": {
              "outlinewidth": 0,
              "ticks": ""
             }
            },
            "type": "scatterternary"
           }
          ],
          "surface": [
           {
            "colorbar": {
             "outlinewidth": 0,
             "ticks": ""
            },
            "colorscale": [
             [
              0,
              "#0d0887"
             ],
             [
              0.1111111111111111,
              "#46039f"
             ],
             [
              0.2222222222222222,
              "#7201a8"
             ],
             [
              0.3333333333333333,
              "#9c179e"
             ],
             [
              0.4444444444444444,
              "#bd3786"
             ],
             [
              0.5555555555555556,
              "#d8576b"
             ],
             [
              0.6666666666666666,
              "#ed7953"
             ],
             [
              0.7777777777777778,
              "#fb9f3a"
             ],
             [
              0.8888888888888888,
              "#fdca26"
             ],
             [
              1,
              "#f0f921"
             ]
            ],
            "type": "surface"
           }
          ],
          "table": [
           {
            "cells": {
             "fill": {
              "color": "#EBF0F8"
             },
             "line": {
              "color": "white"
             }
            },
            "header": {
             "fill": {
              "color": "#C8D4E3"
             },
             "line": {
              "color": "white"
             }
            },
            "type": "table"
           }
          ]
         },
         "layout": {
          "annotationdefaults": {
           "arrowcolor": "#2a3f5f",
           "arrowhead": 0,
           "arrowwidth": 1
          },
          "coloraxis": {
           "colorbar": {
            "outlinewidth": 0,
            "ticks": ""
           }
          },
          "colorscale": {
           "diverging": [
            [
             0,
             "#8e0152"
            ],
            [
             0.1,
             "#c51b7d"
            ],
            [
             0.2,
             "#de77ae"
            ],
            [
             0.3,
             "#f1b6da"
            ],
            [
             0.4,
             "#fde0ef"
            ],
            [
             0.5,
             "#f7f7f7"
            ],
            [
             0.6,
             "#e6f5d0"
            ],
            [
             0.7,
             "#b8e186"
            ],
            [
             0.8,
             "#7fbc41"
            ],
            [
             0.9,
             "#4d9221"
            ],
            [
             1,
             "#276419"
            ]
           ],
           "sequential": [
            [
             0,
             "#0d0887"
            ],
            [
             0.1111111111111111,
             "#46039f"
            ],
            [
             0.2222222222222222,
             "#7201a8"
            ],
            [
             0.3333333333333333,
             "#9c179e"
            ],
            [
             0.4444444444444444,
             "#bd3786"
            ],
            [
             0.5555555555555556,
             "#d8576b"
            ],
            [
             0.6666666666666666,
             "#ed7953"
            ],
            [
             0.7777777777777778,
             "#fb9f3a"
            ],
            [
             0.8888888888888888,
             "#fdca26"
            ],
            [
             1,
             "#f0f921"
            ]
           ],
           "sequentialminus": [
            [
             0,
             "#0d0887"
            ],
            [
             0.1111111111111111,
             "#46039f"
            ],
            [
             0.2222222222222222,
             "#7201a8"
            ],
            [
             0.3333333333333333,
             "#9c179e"
            ],
            [
             0.4444444444444444,
             "#bd3786"
            ],
            [
             0.5555555555555556,
             "#d8576b"
            ],
            [
             0.6666666666666666,
             "#ed7953"
            ],
            [
             0.7777777777777778,
             "#fb9f3a"
            ],
            [
             0.8888888888888888,
             "#fdca26"
            ],
            [
             1,
             "#f0f921"
            ]
           ]
          },
          "colorway": [
           "#636efa",
           "#EF553B",
           "#00cc96",
           "#ab63fa",
           "#FFA15A",
           "#19d3f3",
           "#FF6692",
           "#B6E880",
           "#FF97FF",
           "#FECB52"
          ],
          "font": {
           "color": "#2a3f5f"
          },
          "geo": {
           "bgcolor": "white",
           "lakecolor": "white",
           "landcolor": "#E5ECF6",
           "showlakes": true,
           "showland": true,
           "subunitcolor": "white"
          },
          "hoverlabel": {
           "align": "left"
          },
          "hovermode": "closest",
          "mapbox": {
           "style": "light"
          },
          "paper_bgcolor": "white",
          "plot_bgcolor": "#E5ECF6",
          "polar": {
           "angularaxis": {
            "gridcolor": "white",
            "linecolor": "white",
            "ticks": ""
           },
           "bgcolor": "#E5ECF6",
           "radialaxis": {
            "gridcolor": "white",
            "linecolor": "white",
            "ticks": ""
           }
          },
          "scene": {
           "xaxis": {
            "backgroundcolor": "#E5ECF6",
            "gridcolor": "white",
            "gridwidth": 2,
            "linecolor": "white",
            "showbackground": true,
            "ticks": "",
            "zerolinecolor": "white"
           },
           "yaxis": {
            "backgroundcolor": "#E5ECF6",
            "gridcolor": "white",
            "gridwidth": 2,
            "linecolor": "white",
            "showbackground": true,
            "ticks": "",
            "zerolinecolor": "white"
           },
           "zaxis": {
            "backgroundcolor": "#E5ECF6",
            "gridcolor": "white",
            "gridwidth": 2,
            "linecolor": "white",
            "showbackground": true,
            "ticks": "",
            "zerolinecolor": "white"
           }
          },
          "shapedefaults": {
           "line": {
            "color": "#2a3f5f"
           }
          },
          "ternary": {
           "aaxis": {
            "gridcolor": "white",
            "linecolor": "white",
            "ticks": ""
           },
           "baxis": {
            "gridcolor": "white",
            "linecolor": "white",
            "ticks": ""
           },
           "bgcolor": "#E5ECF6",
           "caxis": {
            "gridcolor": "white",
            "linecolor": "white",
            "ticks": ""
           }
          },
          "title": {
           "x": 0.05
          },
          "xaxis": {
           "automargin": true,
           "gridcolor": "white",
           "linecolor": "white",
           "ticks": "",
           "title": {
            "standoff": 15
           },
           "zerolinecolor": "white",
           "zerolinewidth": 2
          },
          "yaxis": {
           "automargin": true,
           "gridcolor": "white",
           "linecolor": "white",
           "ticks": "",
           "title": {
            "standoff": 15
           },
           "zerolinecolor": "white",
           "zerolinewidth": 2
          }
         }
        },
        "title": {
         "font": {
          "color": "#4D5663"
         },
         "text": "Inside Forward - Support"
        },
        "xaxis": {
         "gridcolor": "#E1E5ED",
         "showgrid": true,
         "tickfont": {
          "color": "#4D5663"
         },
         "title": {
          "font": {
           "color": "#4D5663"
          },
          "text": "Assists/90"
         },
         "zerolinecolor": "#E1E5ED"
        },
        "yaxis": {
         "gridcolor": "#E1E5ED",
         "showgrid": true,
         "tickfont": {
          "color": "#4D5663"
         },
         "title": {
          "font": {
           "color": "#4D5663"
          },
          "text": "Chances Created/90"
         },
         "zerolinecolor": "#E1E5ED"
        }
       }
      },
      "text/html": [
       "<div>\n",
       "        \n",
       "        \n",
       "            <div id=\"5f14c902-ce96-40fb-b062-ba7d65cbf036\" class=\"plotly-graph-div\" style=\"height:525px; width:100%;\"></div>\n",
       "            <script type=\"text/javascript\">\n",
       "                require([\"plotly\"], function(Plotly) {\n",
       "                    window.PLOTLYENV=window.PLOTLYENV || {};\n",
       "                    window.PLOTLYENV.BASE_URL='https://plot.ly';\n",
       "                    \n",
       "                if (document.getElementById(\"5f14c902-ce96-40fb-b062-ba7d65cbf036\")) {\n",
       "                    Plotly.newPlot(\n",
       "                        '5f14c902-ce96-40fb-b062-ba7d65cbf036',\n",
       "                        [{\"line\": {\"color\": \"rgba(255, 153, 51, 1.0)\", \"dash\": \"solid\", \"shape\": \"linear\", \"width\": 1.3}, \"marker\": {\"size\": 10, \"symbol\": \"circle\"}, \"mode\": \"markers\", \"name\": \"Ch C/90\", \"text\": [\"Oskar Repka\", \"Marcel Mehlem\", \"Jessie Guera Djou\", \"Andjelo Kacavenda\", \"Michal Ozga\", \"Josip Zeljkovic\", \"Lukasz Duszkiewicz\", \"Bartlomiej Gajda\", \"Aleksa Pejic\", \"Daniel Pospisil\", \"Jakov Basic\", \"Robert Mandrysz\", \"Sasa Tomanovic\", \"Sebastian Duda\", \"Ivan Jovanovic\", \"Duje Medak\", \"Dominik Siwinski\", \"Arkadiusz Kozlowski\", \"Fanol P\\u00c3\\u00abrdedaj\", \"Kamil Niewiadomski\", \"Lukasz Mozler\", \"Haris Memic\", \"Kristijan Jakic\", \"Filip Tolic\", \"Jakub Kisiel\", \"Dawid Kisly\", \"Taras Romanchuk\", \"Aleksander Slezak\", \"Tomasz Owczarek\", \"Richie Smallwood\", \"Mateusz Stepien\", \"Josip Bauk\", \"Domagoj Perica\", \"Uros Filipovic\", \"Stefan Velickovic\", \"Filip Sredojevic\", \"Radoslaw Kaminski\", \"Alexander Fuchs\", \"Tomas Huk\", \"Wojciech Kaminski\", \"Kasim Adams\", \"Mateusz Madzia\", \"Sebastian Kopec\", \"Jovan Simic\", \"Antonio Asanovic\", \"Marko Labovic\", \"Hubert Molski\", \"Hrvoje Dzijan\", \"Amos Youga\", \"Mario Erb\", \"Fabio Daprel\\u00c3\", \"Kresimir Jelic\", \"Jakob Johansson\", \"Liam Gordon\", \"Jakub Hric\", \"Damian Koziel\", \"Malcom Edjouma\", \"Piotr Wujec\", \"Donald Molls\", \"Luka Pavkovic\", \"Norbert Radkiewicz\", \"Danilo Wiebe\", \"Kristi Qose\", \"Nikola Puzic\", \"Radoslaw Kursa\", \"Jonas Bager\", \"Jon Flanagan\", \"Vuk Mitosevic\", \"Tom Hateley\", \"Sasa Balic\", \"Mohamed Loua\", \"Dawid Bialek\", \"Ben Thompson\", \"Pawel Kohut\", \"Daniel Haritonov\", \"Andrej Causic\", \"Sebastian Smialek\", \"Luka Miljevic\", \"Andrzej Korytek\", \"Mario Cuic\", \"Lubomir Satka\", \"Vukasin Krstic\", \"Peter Drobnak\", \"Marko Filipovic\", \"Martin Vukorepa\", \"Nicklas Shipnoski\", \"Joey Pelupessy\", \"Antonio Mrkovic\", \"Kamal Bafounta\", \"Adrian Liberacki\", \"Tevin Ihrig\", \"Sandi Lovric\", \"Patrick Wolfgang Kapp\", \"Ivan Roca\", \"Karol Drwecki\", \"Zlatko Ilicic\", \"Luka Cakarun\", \"Tan Jiajie\", \"Domagoj Zigri\", \"Casper Elderman\", \"Samuel Lengle\", \"Luka Cankovic\", \"Kenny Dougall\", \"Aur\\u00c3\\u00a9lien Nguiamba\", \"Fahri Akyol\", \"Andrija Crnadak\", \"Grzegorz Wawrzynski\", \"Julian Rieckmann\", \"Leandro\", \"Milos Brajovic\", \"Nathan Baker\", \"Matthias Rahn\", \"Petar Mitic\", \"Dusan Stevanovic\", \"Jan Janik\", \"Fran Tomek\", \"Tomasz Lewandowski\", \"Mateusz Dlugolecki\", \"Pawel Baranowski\", \"David Jablonsky\", \"Adam Mesjasz\", \"Oliver Praznovsky\", \"Florian Egerer\", \"Maxim Kventser\", \"Nikola Bjelanovic\", \"Bojan Cigulajkic\", \"Philip Heise\", \"Thomas Haas\", \"Milan Janjic\", \"Max Dombrowka\", \"Ervin Kacar\", \"\\u00c3\\u0093scar Gil\", \"Maxime Le Marchand\", \"Jan L\\u00c3\\u00b6hmannsr\\u00c3\\u00b6ben\", \"Andrzej Kloda\", \"Adrian Polanski\", \"Ram\\u00c3\\u00b3n\", \"Jan Sieracki\", \"Dusan Jokovic\", \"Daniel Dziwniel\", \"Patryk Wilk\", \"Sebastian Zalepa\", \"Jan Sterba\", \"Stefan Draskovic\", \"Damian Garbacik\", \"Bartosz Kopacz\", \"Szymon Kobeszko\", \"Massadio Ha\\u00c3\\u00afdara\", \"Manuel Martic\", \"Filip Bainovic\", \"Adrian Niewiadomski\", \"Marcin Mackowiak\", \"Pierre Fassnacht\", \"Michael Heinloth\", \"Nenad Kocovic\", \"Miladin Stevanovic\", \"Jakub Pruzanin\", \"Bartlomiej Mruk\", \"Herbert Paul\", \"Donatas Nakrosius\", \"Ivan Zgrablic\", \"Robin Urban\", \"Kacper Gorski\", \"Adrian Filipiak\", \"Adrian Purzycki\", \"Kostas Triantafyllopoulos\", \"Aleksandar Bjelica\", \"Tomas Petrasek\", \"Miquel Nelom\", \"Koen Weuts\", \"Aleksandar Petrovic\", \"Marcin Dabrowski\", \"Niko Datkovic\", \"Michal Zieba\", \"Rafal Ostrowski\", \"Ivan Tomac\", \"David Urban\", \"Andrej Startsev\", \"Nemanja Vidic\", \"Petar Botica\", \"Bojan Gocanin\", \"Fabian Holthaus\", \"Tim H\\u00c3\\u00a4u\\u00c3\\u009fler\", \"Mikkel Kirkeskov\", \"Ovidiu Popescu\", \"Iliya Gruev\", \"Filip Jovic\", \"Douglas Bergqvist\", \"Marcin Sudy\", \"Mart Ristl\", \"Lovro Sindik\", \"Mladen Micanovic\", \"Blazej Cyfert\", \"Luca Zander\", \"Igor Sapala\", \"Jan Sobocinski\", \"Artur Gac\", \"Kacper Jozefiak\", \"Zvezdan Djordjilovic\", \"David Bumberger\", \"Ivan Bosnjak\", \"Michal Wrzesniewski\", \"Aleksandar Ignjovski\", \"Turgay Gemicibasi\", \"Nenad Kiso\", \"Lukasz Sztylka\", \"Noboru Shimura\", \"Derrick Williams\", \"Dino Stiglec\", \"Kyriakos Savvidis\", \"Niklas Landgraf\", \"Tomasz Wojcinowicz\", \"Mateusz Pienczak\", \"Jaroslaw Kubicki\", \"Patrick Kammerbauer\", \"Luis G\\u00c3\\u00b6rlich\", \"Chris Wolf\", \"Josip Sutalo\", \"Jakub Zima\", \"Ernest Dzieciol\", \"Norbert Myszka\", \"Robin Flu\\u00c3\\u009f\", \"Nemanja Milovanovic\", \"Syam Ben Youssef\", \"Adrian Rybak\", \"Rafal Remisz\", \"Bartlomiej Kasprzak\", \"Miroslav Bogosavac\", \"Dragoljub Srnic\", \"Kaan Kurt\", \"Ivan Runje\", \"Sonny Bradley\", \"Adam Pazio\", \"Ariel Borysiuk\", \"Krystian Stolarczyk\", \"Damian Kostkowski\", \"Dominik Nothnagel\", \"Michel St\\u00c3\\u00b6cker\", \"Ryan Malone\", \"Milan Makaric\", \"Matej Hybs\", \"Sven Botman\", \"Piotr Bartloszewski\", \"Mariusz Holik\", \"Mateo Jaksic\", \"Ashton G\\u00c3\\u00b6tz\", \"Marcos Rodr\\u00c3\\u00adguez\", \"Jakub Swiecinski\", \"Marius Gr\\u00c3\\u00b6sch\", \"Aleksa Jovanovic\", \"Aleksandar Varjacic\", \"Mirko Djermanovic\", \"Igor Biedrzycki\", \"Lukas Duriska\", \"Julien Tadrowski\", \"Jakub Niewiadomski\", \"Philipp Riese\", \"Bartlomiej Lorenc\", \"Julian Wolff\", \"Adrian Bielawski\", \"Filip Zderic\", \"Eric Weeger\", \"Bartosz Kieliba\", \"Filp Ceko\", \"Ariel Mosor\", \"Srdjan Grabez\", \"Bozidar Petrovic\", \"Benjamin Himmel\", \"Marco Komenda\", \"Wiktor Nahrebecki\", \"Niclas Stierlin\", null], \"type\": \"scatter\", \"x\": [\"-\", \"-\", \"-\", \"0.05\", \"0.20\", \"0.31\", \"0.33\", \"0.11\", \"0.12\", \"0.14\", \"0.14\", \"0.06\", \"0.36\", \"0.13\", \"0.16\", \"0.19\", \"0.43\", \"-\", \"-\", \"-\", \"0.31\", \"0.40\", \"0.08\", \"-\", \"0.25\", \"0.06\", \"0.22\", \"-\", \"-\", \"0.12\", \"0.06\", \"0.06\", \"0.05\", \"0.68\", \"0.15\", \"0.16\", \"0.06\", \"0.17\", \"0.07\", \"-\", \"0.07\", \"0.05\", \"0.11\", \"-\", \"0.07\", \"0.25\", \"0.14\", \"0.20\", \"0.07\", \"-\", \"-\", \"-\", \"0.37\", \"0.06\", \"0.13\", \"0.12\", \"-\", \"-\", \"0.09\", \"0.16\", \"0.06\", \"0.19\", \"0.16\", \"0.44\", \"0.11\", \"-\", \"-\", \"0.06\", \"-\", \"-\", \"-\", \"0.31\", \"0.12\", \"0.25\", \"0.11\", \"-\", \"0.16\", \"0.05\", \"0.07\", \"-\", \"-\", \"-\", \"-\", \"0.12\", \"0.07\", \"0.08\", \"0.07\", \"0.15\", \"0.14\", \"0.05\", \"-\", \"0.32\", \"0.32\", \"0.32\", \"-\", \"0.06\", \"-\", \"-\", \"-\", \"-\", \"0.34\", \"-\", \"0.20\", \"0.06\", \"0.11\", \"0.45\", \"0.06\", \"0.11\", \"-\", \"-\", \"-\", \"-\", \"0.15\", \"0.07\", \"-\", \"0.27\", \"-\", \"0.16\", \"0.08\", \"0.07\", \"-\", \"-\", \"0.10\", \"0.06\", \"0.06\", \"-\", \"-\", \"0.08\", \"0.14\", \"0.15\", \"-\", \"-\", \"0.08\", \"-\", \"-\", \"0.24\", \"0.11\", \"-\", \"-\", \"-\", \"0.07\", \"0.11\", \"0.07\", \"0.25\", \"0.05\", \"-\", \"-\", \"0.18\", \"0.07\", \"0.35\", \"0.13\", \"0.06\", \"0.14\", \"0.25\", \"0.15\", \"-\", \"0.18\", \"0.06\", \"-\", \"0.20\", \"-\", \"0.10\", \"0.11\", \"0.19\", \"0.09\", \"0.06\", \"-\", \"0.12\", \"0.09\", \"-\", \"-\", \"-\", \"0.04\", \"0.10\", \"0.11\", \"0.23\", \"0.05\", \"0.13\", \"0.15\", \"-\", \"0.17\", \"0.05\", \"0.06\", \"0.12\", \"-\", \"-\", \"0.34\", \"-\", \"0.25\", \"0.32\", \"-\", \"0.27\", \"0.16\", \"0.24\", \"-\", \"0.12\", \"0.06\", \"0.08\", \"0.10\", \"0.11\", \"0.13\", \"0.06\", \"0.05\", \"0.06\", \"0.10\", \"0.09\", \"-\", \"-\", \"0.07\", \"0.07\", \"0.14\", \"-\", \"-\", \"0.18\", \"0.18\", \"0.15\", \"0.16\", \"0.08\", \"-\", \"-\", \"0.17\", \"-\", \"-\", \"-\", \"0.06\", \"-\", \"0.15\", \"0.06\", \"0.12\", \"0.06\", \"-\", \"0.06\", \"0.06\", \"0.32\", \"0.05\", \"-\", \"-\", \"0.05\", \"0.10\", \"0.11\", \"0.19\", \"-\", \"0.12\", \"0.07\", \"0.07\", \"-\", \"-\", \"0.06\", \"-\", \"-\", \"0.06\", \"-\", \"0.11\", \"-\", \"-\", \"0.14\", \"-\", \"0.11\", \"0.05\", \"-\", \"-\", \"0.10\", \"-\", \"0.06\", \"-\", \"0.07\", \"0.06\", \"0.11\", \"0.09\", \"0.59\", \"-\", null], \"y\": [\"0.56\", \"1.00\", \"1.38\", \"0.81\", \"0.29\", \"1.18\", \"1.63\", \"1.09\", \"1.33\", \"0.36\", \"1.04\", \"1.81\", \"0.54\", \"2.24\", \"1.40\", \"1.00\", \"3.63\", \"0.66\", \"0.61\", \"0.19\", \"1.96\", \"1.12\", \"1.82\", \"0.91\", \"1.31\", \"0.59\", \"0.51\", \"0.17\", \"0.12\", \"0.72\", \"0.86\", \"0.24\", \"0.79\", \"3.32\", \"1.22\", \"0.36\", \"0.23\", \"0.43\", \"0.94\", \"0.22\", \"0.29\", \"0.33\", \"0.56\", \"0.26\", \"0.75\", \"2.05\", \"0.72\", \"1.47\", \"0.35\", \"0.40\", \"0.56\", \"0.40\", \"3.17\", \"0.50\", \"0.40\", \"0.42\", \"0.74\", \"0.28\", \"0.65\", \"0.21\", \"0.12\", \"0.56\", \"0.55\", \"3.62\", \"1.63\", \"0.52\", \"0.75\", \"1.16\", \"0.85\", \"0.73\", \"0.46\", \"0.39\", \"0.89\", \"1.58\", \"0.58\", \"0.11\", \"0.26\", \"0.92\", \"0.46\", \"0.42\", \"0.46\", \"0.22\", \"0.52\", \"1.40\", \"0.29\", \"0.24\", \"0.67\", \"1.02\", \"0.38\", \"0.58\", \"0.35\", \"1.91\", \"0.53\", \"0.38\", \"0.49\", \"1.06\", \"0.83\", \"0.38\", \"0.59\", \"0.35\", \"2.14\", \"0.18\", \"0.33\", \"0.30\", \"0.63\", \"3.50\", \"0.12\", \"0.32\", \"0.60\", \"-\", \"0.33\", \"0.05\", \"2.01\", \"0.54\", \"0.36\", \"1.58\", \"0.36\", \"0.74\", \"0.46\", \"0.71\", \"0.81\", \"0.74\", \"0.50\", \"0.24\", \"1.40\", \"0.66\", \"0.07\", \"1.16\", \"1.71\", \"1.28\", \"0.24\", \"0.41\", \"0.55\", \"0.38\", \"0.09\", \"0.88\", \"0.70\", \"1.09\", \"0.38\", \"1.16\", \"0.71\", \"0.38\", \"0.20\", \"1.10\", \"0.56\", \"0.29\", \"0.98\", \"0.95\", \"0.60\", \"1.56\", \"0.51\", \"0.77\", \"0.43\", \"1.01\", \"0.34\", \"0.40\", \"0.23\", \"0.39\", \"0.37\", \"0.53\", \"0.13\", \"0.43\", \"0.42\", \"0.49\", \"1.06\", \"0.24\", \"0.43\", \"0.44\", \"0.36\", \"0.23\", \"0.30\", \"0.88\", \"0.22\", \"0.38\", \"1.19\", \"1.45\", \"0.10\", \"0.56\", \"0.45\", \"0.29\", \"0.84\", \"1.39\", \"1.05\", \"0.37\", \"0.49\", \"0.80\", \"1.53\", \"0.67\", \"0.88\", \"1.62\", \"1.36\", \"2.61\", \"0.21\", \"0.43\", \"1.11\", \"0.58\", \"0.57\", \"0.25\", \"0.71\", \"0.45\", \"0.13\", \"0.30\", \"0.60\", \"0.84\", \"0.77\", \"0.97\", \"0.40\", \"0.63\", \"1.58\", \"0.71\", \"1.20\", \"0.47\", \"0.36\", \"1.00\", \"0.47\", \"1.66\", \"1.26\", \"0.23\", \"0.47\", \"0.16\", \"0.57\", \"1.11\", \"0.89\", \"0.16\", \"0.18\", \"0.41\", \"1.43\", \"0.81\", \"0.99\", \"0.52\", \"0.43\", \"0.35\", \"0.89\", \"1.53\", \"0.26\", \"0.43\", \"0.43\", \"0.38\", \"0.61\", \"1.62\", \"1.01\", \"0.11\", \"0.54\", \"0.66\", \"1.22\", \"0.54\", \"0.40\", \"0.64\", \"0.36\", \"0.21\", \"1.07\", \"0.67\", \"0.72\", \"0.31\", \"0.30\", \"0.14\", \"0.90\", \"0.89\", \"0.23\", \"0.39\", \"0.47\", \"0.62\", \"0.52\", \"0.44\", \"0.45\", \"0.69\", \"0.61\", \"0.53\", \"0.55\", \"2.29\", \"0.58\", \"\"]}],\n",
       "                        {\"legend\": {\"bgcolor\": \"#F5F6F9\", \"font\": {\"color\": \"#4D5663\"}}, \"paper_bgcolor\": \"#F5F6F9\", \"plot_bgcolor\": \"#F5F6F9\", \"template\": {\"data\": {\"bar\": [{\"error_x\": {\"color\": \"#2a3f5f\"}, \"error_y\": {\"color\": \"#2a3f5f\"}, \"marker\": {\"line\": {\"color\": \"#E5ECF6\", \"width\": 0.5}}, \"type\": \"bar\"}], \"barpolar\": [{\"marker\": {\"line\": {\"color\": \"#E5ECF6\", \"width\": 0.5}}, \"type\": \"barpolar\"}], \"carpet\": [{\"aaxis\": {\"endlinecolor\": \"#2a3f5f\", \"gridcolor\": \"white\", \"linecolor\": \"white\", \"minorgridcolor\": \"white\", \"startlinecolor\": \"#2a3f5f\"}, \"baxis\": {\"endlinecolor\": \"#2a3f5f\", \"gridcolor\": \"white\", \"linecolor\": \"white\", \"minorgridcolor\": \"white\", \"startlinecolor\": \"#2a3f5f\"}, \"type\": \"carpet\"}], \"choropleth\": [{\"colorbar\": {\"outlinewidth\": 0, \"ticks\": \"\"}, \"type\": \"choropleth\"}], \"contour\": [{\"colorbar\": {\"outlinewidth\": 0, \"ticks\": \"\"}, \"colorscale\": [[0.0, \"#0d0887\"], [0.1111111111111111, \"#46039f\"], [0.2222222222222222, \"#7201a8\"], [0.3333333333333333, \"#9c179e\"], [0.4444444444444444, \"#bd3786\"], [0.5555555555555556, \"#d8576b\"], [0.6666666666666666, \"#ed7953\"], [0.7777777777777778, \"#fb9f3a\"], [0.8888888888888888, \"#fdca26\"], [1.0, \"#f0f921\"]], \"type\": \"contour\"}], \"contourcarpet\": [{\"colorbar\": {\"outlinewidth\": 0, \"ticks\": \"\"}, \"type\": \"contourcarpet\"}], \"heatmap\": [{\"colorbar\": {\"outlinewidth\": 0, \"ticks\": \"\"}, \"colorscale\": [[0.0, \"#0d0887\"], [0.1111111111111111, \"#46039f\"], [0.2222222222222222, \"#7201a8\"], [0.3333333333333333, \"#9c179e\"], [0.4444444444444444, \"#bd3786\"], [0.5555555555555556, \"#d8576b\"], [0.6666666666666666, \"#ed7953\"], [0.7777777777777778, \"#fb9f3a\"], [0.8888888888888888, \"#fdca26\"], [1.0, \"#f0f921\"]], \"type\": \"heatmap\"}], \"heatmapgl\": [{\"colorbar\": {\"outlinewidth\": 0, \"ticks\": \"\"}, \"colorscale\": [[0.0, \"#0d0887\"], [0.1111111111111111, \"#46039f\"], [0.2222222222222222, \"#7201a8\"], [0.3333333333333333, \"#9c179e\"], [0.4444444444444444, \"#bd3786\"], [0.5555555555555556, \"#d8576b\"], [0.6666666666666666, \"#ed7953\"], [0.7777777777777778, \"#fb9f3a\"], [0.8888888888888888, \"#fdca26\"], [1.0, \"#f0f921\"]], \"type\": \"heatmapgl\"}], \"histogram\": [{\"marker\": {\"colorbar\": {\"outlinewidth\": 0, \"ticks\": \"\"}}, \"type\": \"histogram\"}], \"histogram2d\": [{\"colorbar\": {\"outlinewidth\": 0, \"ticks\": \"\"}, \"colorscale\": [[0.0, \"#0d0887\"], [0.1111111111111111, \"#46039f\"], [0.2222222222222222, \"#7201a8\"], [0.3333333333333333, \"#9c179e\"], [0.4444444444444444, \"#bd3786\"], [0.5555555555555556, \"#d8576b\"], [0.6666666666666666, \"#ed7953\"], [0.7777777777777778, \"#fb9f3a\"], [0.8888888888888888, \"#fdca26\"], [1.0, \"#f0f921\"]], \"type\": \"histogram2d\"}], \"histogram2dcontour\": [{\"colorbar\": {\"outlinewidth\": 0, \"ticks\": \"\"}, \"colorscale\": [[0.0, \"#0d0887\"], [0.1111111111111111, \"#46039f\"], [0.2222222222222222, \"#7201a8\"], [0.3333333333333333, \"#9c179e\"], [0.4444444444444444, \"#bd3786\"], [0.5555555555555556, \"#d8576b\"], [0.6666666666666666, \"#ed7953\"], [0.7777777777777778, \"#fb9f3a\"], [0.8888888888888888, \"#fdca26\"], [1.0, \"#f0f921\"]], \"type\": \"histogram2dcontour\"}], \"mesh3d\": [{\"colorbar\": {\"outlinewidth\": 0, \"ticks\": \"\"}, \"type\": \"mesh3d\"}], \"parcoords\": [{\"line\": {\"colorbar\": {\"outlinewidth\": 0, \"ticks\": \"\"}}, \"type\": \"parcoords\"}], \"pie\": [{\"automargin\": true, \"type\": \"pie\"}], \"scatter\": [{\"marker\": {\"colorbar\": {\"outlinewidth\": 0, \"ticks\": \"\"}}, \"type\": \"scatter\"}], \"scatter3d\": [{\"line\": {\"colorbar\": {\"outlinewidth\": 0, \"ticks\": \"\"}}, \"marker\": {\"colorbar\": {\"outlinewidth\": 0, \"ticks\": \"\"}}, \"type\": \"scatter3d\"}], \"scattercarpet\": [{\"marker\": {\"colorbar\": {\"outlinewidth\": 0, \"ticks\": \"\"}}, \"type\": \"scattercarpet\"}], \"scattergeo\": [{\"marker\": {\"colorbar\": {\"outlinewidth\": 0, \"ticks\": \"\"}}, \"type\": \"scattergeo\"}], \"scattergl\": [{\"marker\": {\"colorbar\": {\"outlinewidth\": 0, \"ticks\": \"\"}}, \"type\": \"scattergl\"}], \"scattermapbox\": [{\"marker\": {\"colorbar\": {\"outlinewidth\": 0, \"ticks\": \"\"}}, \"type\": \"scattermapbox\"}], \"scatterpolar\": [{\"marker\": {\"colorbar\": {\"outlinewidth\": 0, \"ticks\": \"\"}}, \"type\": \"scatterpolar\"}], \"scatterpolargl\": [{\"marker\": {\"colorbar\": {\"outlinewidth\": 0, \"ticks\": \"\"}}, \"type\": \"scatterpolargl\"}], \"scatterternary\": [{\"marker\": {\"colorbar\": {\"outlinewidth\": 0, \"ticks\": \"\"}}, \"type\": \"scatterternary\"}], \"surface\": [{\"colorbar\": {\"outlinewidth\": 0, \"ticks\": \"\"}, \"colorscale\": [[0.0, \"#0d0887\"], [0.1111111111111111, \"#46039f\"], [0.2222222222222222, \"#7201a8\"], [0.3333333333333333, \"#9c179e\"], [0.4444444444444444, \"#bd3786\"], [0.5555555555555556, \"#d8576b\"], [0.6666666666666666, \"#ed7953\"], [0.7777777777777778, \"#fb9f3a\"], [0.8888888888888888, \"#fdca26\"], [1.0, \"#f0f921\"]], \"type\": \"surface\"}], \"table\": [{\"cells\": {\"fill\": {\"color\": \"#EBF0F8\"}, \"line\": {\"color\": \"white\"}}, \"header\": {\"fill\": {\"color\": \"#C8D4E3\"}, \"line\": {\"color\": \"white\"}}, \"type\": \"table\"}]}, \"layout\": {\"annotationdefaults\": {\"arrowcolor\": \"#2a3f5f\", \"arrowhead\": 0, \"arrowwidth\": 1}, \"coloraxis\": {\"colorbar\": {\"outlinewidth\": 0, \"ticks\": \"\"}}, \"colorscale\": {\"diverging\": [[0, \"#8e0152\"], [0.1, \"#c51b7d\"], [0.2, \"#de77ae\"], [0.3, \"#f1b6da\"], [0.4, \"#fde0ef\"], [0.5, \"#f7f7f7\"], [0.6, \"#e6f5d0\"], [0.7, \"#b8e186\"], [0.8, \"#7fbc41\"], [0.9, \"#4d9221\"], [1, \"#276419\"]], \"sequential\": [[0.0, \"#0d0887\"], [0.1111111111111111, \"#46039f\"], [0.2222222222222222, \"#7201a8\"], [0.3333333333333333, \"#9c179e\"], [0.4444444444444444, \"#bd3786\"], [0.5555555555555556, \"#d8576b\"], [0.6666666666666666, \"#ed7953\"], [0.7777777777777778, \"#fb9f3a\"], [0.8888888888888888, \"#fdca26\"], [1.0, \"#f0f921\"]], \"sequentialminus\": [[0.0, \"#0d0887\"], [0.1111111111111111, \"#46039f\"], [0.2222222222222222, \"#7201a8\"], [0.3333333333333333, \"#9c179e\"], [0.4444444444444444, \"#bd3786\"], [0.5555555555555556, \"#d8576b\"], [0.6666666666666666, \"#ed7953\"], [0.7777777777777778, \"#fb9f3a\"], [0.8888888888888888, \"#fdca26\"], [1.0, \"#f0f921\"]]}, \"colorway\": [\"#636efa\", \"#EF553B\", \"#00cc96\", \"#ab63fa\", \"#FFA15A\", \"#19d3f3\", \"#FF6692\", \"#B6E880\", \"#FF97FF\", \"#FECB52\"], \"font\": {\"color\": \"#2a3f5f\"}, \"geo\": {\"bgcolor\": \"white\", \"lakecolor\": \"white\", \"landcolor\": \"#E5ECF6\", \"showlakes\": true, \"showland\": true, \"subunitcolor\": \"white\"}, \"hoverlabel\": {\"align\": \"left\"}, \"hovermode\": \"closest\", \"mapbox\": {\"style\": \"light\"}, \"paper_bgcolor\": \"white\", \"plot_bgcolor\": \"#E5ECF6\", \"polar\": {\"angularaxis\": {\"gridcolor\": \"white\", \"linecolor\": \"white\", \"ticks\": \"\"}, \"bgcolor\": \"#E5ECF6\", \"radialaxis\": {\"gridcolor\": \"white\", \"linecolor\": \"white\", \"ticks\": \"\"}}, \"scene\": {\"xaxis\": {\"backgroundcolor\": \"#E5ECF6\", \"gridcolor\": \"white\", \"gridwidth\": 2, \"linecolor\": \"white\", \"showbackground\": true, \"ticks\": \"\", \"zerolinecolor\": \"white\"}, \"yaxis\": {\"backgroundcolor\": \"#E5ECF6\", \"gridcolor\": \"white\", \"gridwidth\": 2, \"linecolor\": \"white\", \"showbackground\": true, \"ticks\": \"\", \"zerolinecolor\": \"white\"}, \"zaxis\": {\"backgroundcolor\": \"#E5ECF6\", \"gridcolor\": \"white\", \"gridwidth\": 2, \"linecolor\": \"white\", \"showbackground\": true, \"ticks\": \"\", \"zerolinecolor\": \"white\"}}, \"shapedefaults\": {\"line\": {\"color\": \"#2a3f5f\"}}, \"ternary\": {\"aaxis\": {\"gridcolor\": \"white\", \"linecolor\": \"white\", \"ticks\": \"\"}, \"baxis\": {\"gridcolor\": \"white\", \"linecolor\": \"white\", \"ticks\": \"\"}, \"bgcolor\": \"#E5ECF6\", \"caxis\": {\"gridcolor\": \"white\", \"linecolor\": \"white\", \"ticks\": \"\"}}, \"title\": {\"x\": 0.05}, \"xaxis\": {\"automargin\": true, \"gridcolor\": \"white\", \"linecolor\": \"white\", \"ticks\": \"\", \"title\": {\"standoff\": 15}, \"zerolinecolor\": \"white\", \"zerolinewidth\": 2}, \"yaxis\": {\"automargin\": true, \"gridcolor\": \"white\", \"linecolor\": \"white\", \"ticks\": \"\", \"title\": {\"standoff\": 15}, \"zerolinecolor\": \"white\", \"zerolinewidth\": 2}}}, \"title\": {\"font\": {\"color\": \"#4D5663\"}, \"text\": \"Inside Forward - Support\"}, \"xaxis\": {\"gridcolor\": \"#E1E5ED\", \"showgrid\": true, \"tickfont\": {\"color\": \"#4D5663\"}, \"title\": {\"font\": {\"color\": \"#4D5663\"}, \"text\": \"Assists/90\"}, \"zerolinecolor\": \"#E1E5ED\"}, \"yaxis\": {\"gridcolor\": \"#E1E5ED\", \"showgrid\": true, \"tickfont\": {\"color\": \"#4D5663\"}, \"title\": {\"font\": {\"color\": \"#4D5663\"}, \"text\": \"Chances Created/90\"}, \"zerolinecolor\": \"#E1E5ED\"}},\n",
       "                        {\"showLink\": true, \"linkText\": \"Export to plot.ly\", \"plotlyServerURL\": \"https://plot.ly\", \"responsive\": true}\n",
       "                    ).then(function(){\n",
       "                            \n",
       "var gd = document.getElementById('5f14c902-ce96-40fb-b062-ba7d65cbf036');\n",
       "var x = new MutationObserver(function (mutations, observer) {{\n",
       "        var display = window.getComputedStyle(gd).display;\n",
       "        if (!display || display === 'none') {{\n",
       "            console.log([gd, 'removed!']);\n",
       "            Plotly.purge(gd);\n",
       "            observer.disconnect();\n",
       "        }}\n",
       "}});\n",
       "\n",
       "// Listen for the removal of the full notebook cells\n",
       "var notebookContainer = gd.closest('#notebook-container');\n",
       "if (notebookContainer) {{\n",
       "    x.observe(notebookContainer, {childList: true});\n",
       "}}\n",
       "\n",
       "// Listen for the clearing of the current output cell\n",
       "var outputEl = gd.closest('.output');\n",
       "if (outputEl) {{\n",
       "    x.observe(outputEl, {childList: true});\n",
       "}}\n",
       "\n",
       "                        })\n",
       "                };\n",
       "                });\n",
       "            </script>\n",
       "        </div>"
      ]
     },
     "metadata": {},
     "output_type": "display_data"
    }
   ],
   "source": [
    "df.iplot(kind='scatter',x='Asts/90',y='Ch C/90',\n",
    "           mode='markers',text='Name',size=10,\n",
    "          xTitle='Assists/90',yTitle='Chances Created/90',title='Inside Forward - Support')\t"
   ]
  },
  {
   "cell_type": "code",
   "execution_count": 23,
   "metadata": {},
   "outputs": [
    {
     "data": {
      "application/vnd.plotly.v1+json": {
       "config": {
        "linkText": "Export to plot.ly",
        "plotlyServerURL": "https://plot.ly",
        "showLink": true
       },
       "data": [
        {
         "line": {
          "color": "rgba(255, 153, 51, 1.0)",
          "dash": "solid",
          "shape": "linear",
          "width": 1.3
         },
         "marker": {
          "size": 10,
          "symbol": "circle"
         },
         "mode": "markers",
         "name": "Ch C/90",
         "text": [
          "Oskar Repka",
          "Marcel Mehlem",
          "Jessie Guera Djou",
          "Andjelo Kacavenda",
          "Michal Ozga",
          "Josip Zeljkovic",
          "Lukasz Duszkiewicz",
          "Bartlomiej Gajda",
          "Aleksa Pejic",
          "Daniel Pospisil",
          "Jakov Basic",
          "Robert Mandrysz",
          "Sasa Tomanovic",
          "Sebastian Duda",
          "Ivan Jovanovic",
          "Duje Medak",
          "Dominik Siwinski",
          "Arkadiusz Kozlowski",
          "Fanol PÃ«rdedaj",
          "Kamil Niewiadomski",
          "Lukasz Mozler",
          "Haris Memic",
          "Kristijan Jakic",
          "Filip Tolic",
          "Jakub Kisiel",
          "Dawid Kisly",
          "Taras Romanchuk",
          "Aleksander Slezak",
          "Tomasz Owczarek",
          "Richie Smallwood",
          "Mateusz Stepien",
          "Josip Bauk",
          "Domagoj Perica",
          "Uros Filipovic",
          "Stefan Velickovic",
          "Filip Sredojevic",
          "Radoslaw Kaminski",
          "Alexander Fuchs",
          "Tomas Huk",
          "Wojciech Kaminski",
          "Kasim Adams",
          "Mateusz Madzia",
          "Sebastian Kopec",
          "Jovan Simic",
          "Antonio Asanovic",
          "Marko Labovic",
          "Hubert Molski",
          "Hrvoje Dzijan",
          "Amos Youga",
          "Mario Erb",
          "Fabio DaprelÃ",
          "Kresimir Jelic",
          "Jakob Johansson",
          "Liam Gordon",
          "Jakub Hric",
          "Damian Koziel",
          "Malcom Edjouma",
          "Piotr Wujec",
          "Donald Molls",
          "Luka Pavkovic",
          "Norbert Radkiewicz",
          "Danilo Wiebe",
          "Kristi Qose",
          "Nikola Puzic",
          "Radoslaw Kursa",
          "Jonas Bager",
          "Jon Flanagan",
          "Vuk Mitosevic",
          "Tom Hateley",
          "Sasa Balic",
          "Mohamed Loua",
          "Dawid Bialek",
          "Ben Thompson",
          "Pawel Kohut",
          "Daniel Haritonov",
          "Andrej Causic",
          "Sebastian Smialek",
          "Luka Miljevic",
          "Andrzej Korytek",
          "Mario Cuic",
          "Lubomir Satka",
          "Vukasin Krstic",
          "Peter Drobnak",
          "Marko Filipovic",
          "Martin Vukorepa",
          "Nicklas Shipnoski",
          "Joey Pelupessy",
          "Antonio Mrkovic",
          "Kamal Bafounta",
          "Adrian Liberacki",
          "Tevin Ihrig",
          "Sandi Lovric",
          "Patrick Wolfgang Kapp",
          "Ivan Roca",
          "Karol Drwecki",
          "Zlatko Ilicic",
          "Luka Cakarun",
          "Tan Jiajie",
          "Domagoj Zigri",
          "Casper Elderman",
          "Samuel Lengle",
          "Luka Cankovic",
          "Kenny Dougall",
          "AurÃ©lien Nguiamba",
          "Fahri Akyol",
          "Andrija Crnadak",
          "Grzegorz Wawrzynski",
          "Julian Rieckmann",
          "Leandro",
          "Milos Brajovic",
          "Nathan Baker",
          "Matthias Rahn",
          "Petar Mitic",
          "Dusan Stevanovic",
          "Jan Janik",
          "Fran Tomek",
          "Tomasz Lewandowski",
          "Mateusz Dlugolecki",
          "Pawel Baranowski",
          "David Jablonsky",
          "Adam Mesjasz",
          "Oliver Praznovsky",
          "Florian Egerer",
          "Maxim Kventser",
          "Nikola Bjelanovic",
          "Bojan Cigulajkic",
          "Philip Heise",
          "Thomas Haas",
          "Milan Janjic",
          "Max Dombrowka",
          "Ervin Kacar",
          "Ãscar Gil",
          "Maxime Le Marchand",
          "Jan LÃ¶hmannsrÃ¶ben",
          "Andrzej Kloda",
          "Adrian Polanski",
          "RamÃ³n",
          "Jan Sieracki",
          "Dusan Jokovic",
          "Daniel Dziwniel",
          "Patryk Wilk",
          "Sebastian Zalepa",
          "Jan Sterba",
          "Stefan Draskovic",
          "Damian Garbacik",
          "Bartosz Kopacz",
          "Szymon Kobeszko",
          "Massadio HaÃ¯dara",
          "Manuel Martic",
          "Filip Bainovic",
          "Adrian Niewiadomski",
          "Marcin Mackowiak",
          "Pierre Fassnacht",
          "Michael Heinloth",
          "Nenad Kocovic",
          "Miladin Stevanovic",
          "Jakub Pruzanin",
          "Bartlomiej Mruk",
          "Herbert Paul",
          "Donatas Nakrosius",
          "Ivan Zgrablic",
          "Robin Urban",
          "Kacper Gorski",
          "Adrian Filipiak",
          "Adrian Purzycki",
          "Kostas Triantafyllopoulos",
          "Aleksandar Bjelica",
          "Tomas Petrasek",
          "Miquel Nelom",
          "Koen Weuts",
          "Aleksandar Petrovic",
          "Marcin Dabrowski",
          "Niko Datkovic",
          "Michal Zieba",
          "Rafal Ostrowski",
          "Ivan Tomac",
          "David Urban",
          "Andrej Startsev",
          "Nemanja Vidic",
          "Petar Botica",
          "Bojan Gocanin",
          "Fabian Holthaus",
          "Tim HÃ¤uÃler",
          "Mikkel Kirkeskov",
          "Ovidiu Popescu",
          "Iliya Gruev",
          "Filip Jovic",
          "Douglas Bergqvist",
          "Marcin Sudy",
          "Mart Ristl",
          "Lovro Sindik",
          "Mladen Micanovic",
          "Blazej Cyfert",
          "Luca Zander",
          "Igor Sapala",
          "Jan Sobocinski",
          "Artur Gac",
          "Kacper Jozefiak",
          "Zvezdan Djordjilovic",
          "David Bumberger",
          "Ivan Bosnjak",
          "Michal Wrzesniewski",
          "Aleksandar Ignjovski",
          "Turgay Gemicibasi",
          "Nenad Kiso",
          "Lukasz Sztylka",
          "Noboru Shimura",
          "Derrick Williams",
          "Dino Stiglec",
          "Kyriakos Savvidis",
          "Niklas Landgraf",
          "Tomasz Wojcinowicz",
          "Mateusz Pienczak",
          "Jaroslaw Kubicki",
          "Patrick Kammerbauer",
          "Luis GÃ¶rlich",
          "Chris Wolf",
          "Josip Sutalo",
          "Jakub Zima",
          "Ernest Dzieciol",
          "Norbert Myszka",
          "Robin FluÃ",
          "Nemanja Milovanovic",
          "Syam Ben Youssef",
          "Adrian Rybak",
          "Rafal Remisz",
          "Bartlomiej Kasprzak",
          "Miroslav Bogosavac",
          "Dragoljub Srnic",
          "Kaan Kurt",
          "Ivan Runje",
          "Sonny Bradley",
          "Adam Pazio",
          "Ariel Borysiuk",
          "Krystian Stolarczyk",
          "Damian Kostkowski",
          "Dominik Nothnagel",
          "Michel StÃ¶cker",
          "Ryan Malone",
          "Milan Makaric",
          "Matej Hybs",
          "Sven Botman",
          "Piotr Bartloszewski",
          "Mariusz Holik",
          "Mateo Jaksic",
          "Ashton GÃ¶tz",
          "Marcos RodrÃ­guez",
          "Jakub Swiecinski",
          "Marius GrÃ¶sch",
          "Aleksa Jovanovic",
          "Aleksandar Varjacic",
          "Mirko Djermanovic",
          "Igor Biedrzycki",
          "Lukas Duriska",
          "Julien Tadrowski",
          "Jakub Niewiadomski",
          "Philipp Riese",
          "Bartlomiej Lorenc",
          "Julian Wolff",
          "Adrian Bielawski",
          "Filip Zderic",
          "Eric Weeger",
          "Bartosz Kieliba",
          "Filp Ceko",
          "Ariel Mosor",
          "Srdjan Grabez",
          "Bozidar Petrovic",
          "Benjamin Himmel",
          "Marco Komenda",
          "Wiktor Nahrebecki",
          "Niclas Stierlin",
          null
         ],
         "type": "scatter",
         "x": [
          "-",
          "0.07",
          "-",
          "0.05",
          "0.10",
          "-",
          "0.13",
          "0.11",
          "-",
          "-",
          "-",
          "0.06",
          "-",
          "-",
          "0.05",
          "0.06",
          "0.25",
          "-",
          "0.11",
          "0.09",
          "-",
          "-",
          "-",
          "-",
          "0.08",
          "-",
          "-",
          "0.28",
          "-",
          "-",
          "-",
          "-",
          "0.11",
          "0.05",
          "-",
          "-",
          "0.12",
          "-",
          "0.07",
          "0.05",
          "0.15",
          "-",
          "0.22",
          "-",
          "-",
          "0.10",
          "-",
          "0.07",
          "-",
          "0.05",
          "0.06",
          "0.11",
          "0.19",
          "0.06",
          "0.13",
          "-",
          "-",
          "0.06",
          "-",
          "-",
          "-",
          "-",
          "-",
          "0.07",
          "-",
          "0.07",
          "-",
          "-",
          "-",
          "-",
          "-",
          "0.08",
          "-",
          "0.06",
          "-",
          "0.05",
          "0.05",
          "0.05",
          "0.07",
          "-",
          "-",
          "0.15",
          "-",
          "-",
          "0.14",
          "0.32",
          "-",
          "-",
          "-",
          "-",
          "-",
          "0.13",
          "0.05",
          "0.13",
          "0.32",
          "0.12",
          "0.11",
          "-",
          "0.18",
          "-",
          "0.23",
          "0.12",
          "-",
          "-",
          "0.06",
          "0.10",
          "-",
          "-",
          "0.07",
          "-",
          "-",
          "0.05",
          "-",
          "0.07",
          "0.09",
          "0.14",
          "0.05",
          "0.11",
          "0.08",
          "0.07",
          "-",
          "0.07",
          "-",
          "0.12",
          "0.11",
          "0.06",
          "0.07",
          "0.08",
          "0.07",
          "0.15",
          "0.06",
          "0.08",
          "0.08",
          "0.09",
          "-",
          "0.24",
          "0.11",
          "0.09",
          "0.06",
          "-",
          "-",
          "-",
          "-",
          "0.30",
          "0.05",
          "-",
          "-",
          "-",
          "-",
          "-",
          "0.06",
          "0.06",
          "-",
          "0.05",
          "-",
          "-",
          "0.06",
          "-",
          "-",
          "0.07",
          "-",
          "0.05",
          "0.05",
          "-",
          "-",
          "0.06",
          "0.09",
          "0.04",
          "-",
          "-",
          "-",
          "-",
          "0.04",
          "0.19",
          "0.11",
          "-",
          "-",
          "-",
          "0.05",
          "-",
          "-",
          "-",
          "-",
          "0.06",
          "-",
          "-",
          "-",
          "-",
          "0.06",
          "0.23",
          "0.07",
          "0.21",
          "-",
          "0.12",
          "0.14",
          "-",
          "-",
          "-",
          "-",
          "-",
          "-",
          "-",
          "0.38",
          "0.18",
          "0.10",
          "-",
          "-",
          "-",
          "-",
          "-",
          "-",
          "0.11",
          "-",
          "0.09",
          "0.06",
          "0.05",
          "0.16",
          "-",
          "0.08",
          "-",
          "0.11",
          "0.12",
          "-",
          "0.07",
          "0.06",
          "0.06",
          "-",
          "-",
          "-",
          "0.06",
          "0.16",
          "0.06",
          "0.11",
          "0.05",
          "-",
          "0.05",
          "-",
          "-",
          "0.05",
          "0.06",
          "-",
          "-",
          "0.24",
          "0.22",
          "0.07",
          "-",
          "-",
          "-",
          "0.07",
          "0.05",
          "0.06",
          "-",
          "0.06",
          "-",
          "0.06",
          "0.07",
          "-",
          "0.05",
          "-",
          "0.06",
          "-",
          "-",
          "-",
          "0.06",
          "-",
          "-",
          "0.06",
          "0.05",
          "-",
          "0.07",
          "-",
          null
         ],
         "y": [
          "0.56",
          "1.00",
          "1.38",
          "0.81",
          "0.29",
          "1.18",
          "1.63",
          "1.09",
          "1.33",
          "0.36",
          "1.04",
          "1.81",
          "0.54",
          "2.24",
          "1.40",
          "1.00",
          "3.63",
          "0.66",
          "0.61",
          "0.19",
          "1.96",
          "1.12",
          "1.82",
          "0.91",
          "1.31",
          "0.59",
          "0.51",
          "0.17",
          "0.12",
          "0.72",
          "0.86",
          "0.24",
          "0.79",
          "3.32",
          "1.22",
          "0.36",
          "0.23",
          "0.43",
          "0.94",
          "0.22",
          "0.29",
          "0.33",
          "0.56",
          "0.26",
          "0.75",
          "2.05",
          "0.72",
          "1.47",
          "0.35",
          "0.40",
          "0.56",
          "0.40",
          "3.17",
          "0.50",
          "0.40",
          "0.42",
          "0.74",
          "0.28",
          "0.65",
          "0.21",
          "0.12",
          "0.56",
          "0.55",
          "3.62",
          "1.63",
          "0.52",
          "0.75",
          "1.16",
          "0.85",
          "0.73",
          "0.46",
          "0.39",
          "0.89",
          "1.58",
          "0.58",
          "0.11",
          "0.26",
          "0.92",
          "0.46",
          "0.42",
          "0.46",
          "0.22",
          "0.52",
          "1.40",
          "0.29",
          "0.24",
          "0.67",
          "1.02",
          "0.38",
          "0.58",
          "0.35",
          "1.91",
          "0.53",
          "0.38",
          "0.49",
          "1.06",
          "0.83",
          "0.38",
          "0.59",
          "0.35",
          "2.14",
          "0.18",
          "0.33",
          "0.30",
          "0.63",
          "3.50",
          "0.12",
          "0.32",
          "0.60",
          "-",
          "0.33",
          "0.05",
          "2.01",
          "0.54",
          "0.36",
          "1.58",
          "0.36",
          "0.74",
          "0.46",
          "0.71",
          "0.81",
          "0.74",
          "0.50",
          "0.24",
          "1.40",
          "0.66",
          "0.07",
          "1.16",
          "1.71",
          "1.28",
          "0.24",
          "0.41",
          "0.55",
          "0.38",
          "0.09",
          "0.88",
          "0.70",
          "1.09",
          "0.38",
          "1.16",
          "0.71",
          "0.38",
          "0.20",
          "1.10",
          "0.56",
          "0.29",
          "0.98",
          "0.95",
          "0.60",
          "1.56",
          "0.51",
          "0.77",
          "0.43",
          "1.01",
          "0.34",
          "0.40",
          "0.23",
          "0.39",
          "0.37",
          "0.53",
          "0.13",
          "0.43",
          "0.42",
          "0.49",
          "1.06",
          "0.24",
          "0.43",
          "0.44",
          "0.36",
          "0.23",
          "0.30",
          "0.88",
          "0.22",
          "0.38",
          "1.19",
          "1.45",
          "0.10",
          "0.56",
          "0.45",
          "0.29",
          "0.84",
          "1.39",
          "1.05",
          "0.37",
          "0.49",
          "0.80",
          "1.53",
          "0.67",
          "0.88",
          "1.62",
          "1.36",
          "2.61",
          "0.21",
          "0.43",
          "1.11",
          "0.58",
          "0.57",
          "0.25",
          "0.71",
          "0.45",
          "0.13",
          "0.30",
          "0.60",
          "0.84",
          "0.77",
          "0.97",
          "0.40",
          "0.63",
          "1.58",
          "0.71",
          "1.20",
          "0.47",
          "0.36",
          "1.00",
          "0.47",
          "1.66",
          "1.26",
          "0.23",
          "0.47",
          "0.16",
          "0.57",
          "1.11",
          "0.89",
          "0.16",
          "0.18",
          "0.41",
          "1.43",
          "0.81",
          "0.99",
          "0.52",
          "0.43",
          "0.35",
          "0.89",
          "1.53",
          "0.26",
          "0.43",
          "0.43",
          "0.38",
          "0.61",
          "1.62",
          "1.01",
          "0.11",
          "0.54",
          "0.66",
          "1.22",
          "0.54",
          "0.40",
          "0.64",
          "0.36",
          "0.21",
          "1.07",
          "0.67",
          "0.72",
          "0.31",
          "0.30",
          "0.14",
          "0.90",
          "0.89",
          "0.23",
          "0.39",
          "0.47",
          "0.62",
          "0.52",
          "0.44",
          "0.45",
          "0.69",
          "0.61",
          "0.53",
          "0.55",
          "2.29",
          "0.58",
          ""
         ]
        }
       ],
       "layout": {
        "legend": {
         "bgcolor": "#F5F6F9",
         "font": {
          "color": "#4D5663"
         }
        },
        "paper_bgcolor": "#F5F6F9",
        "plot_bgcolor": "#F5F6F9",
        "template": {
         "data": {
          "bar": [
           {
            "error_x": {
             "color": "#2a3f5f"
            },
            "error_y": {
             "color": "#2a3f5f"
            },
            "marker": {
             "line": {
              "color": "#E5ECF6",
              "width": 0.5
             }
            },
            "type": "bar"
           }
          ],
          "barpolar": [
           {
            "marker": {
             "line": {
              "color": "#E5ECF6",
              "width": 0.5
             }
            },
            "type": "barpolar"
           }
          ],
          "carpet": [
           {
            "aaxis": {
             "endlinecolor": "#2a3f5f",
             "gridcolor": "white",
             "linecolor": "white",
             "minorgridcolor": "white",
             "startlinecolor": "#2a3f5f"
            },
            "baxis": {
             "endlinecolor": "#2a3f5f",
             "gridcolor": "white",
             "linecolor": "white",
             "minorgridcolor": "white",
             "startlinecolor": "#2a3f5f"
            },
            "type": "carpet"
           }
          ],
          "choropleth": [
           {
            "colorbar": {
             "outlinewidth": 0,
             "ticks": ""
            },
            "type": "choropleth"
           }
          ],
          "contour": [
           {
            "colorbar": {
             "outlinewidth": 0,
             "ticks": ""
            },
            "colorscale": [
             [
              0,
              "#0d0887"
             ],
             [
              0.1111111111111111,
              "#46039f"
             ],
             [
              0.2222222222222222,
              "#7201a8"
             ],
             [
              0.3333333333333333,
              "#9c179e"
             ],
             [
              0.4444444444444444,
              "#bd3786"
             ],
             [
              0.5555555555555556,
              "#d8576b"
             ],
             [
              0.6666666666666666,
              "#ed7953"
             ],
             [
              0.7777777777777778,
              "#fb9f3a"
             ],
             [
              0.8888888888888888,
              "#fdca26"
             ],
             [
              1,
              "#f0f921"
             ]
            ],
            "type": "contour"
           }
          ],
          "contourcarpet": [
           {
            "colorbar": {
             "outlinewidth": 0,
             "ticks": ""
            },
            "type": "contourcarpet"
           }
          ],
          "heatmap": [
           {
            "colorbar": {
             "outlinewidth": 0,
             "ticks": ""
            },
            "colorscale": [
             [
              0,
              "#0d0887"
             ],
             [
              0.1111111111111111,
              "#46039f"
             ],
             [
              0.2222222222222222,
              "#7201a8"
             ],
             [
              0.3333333333333333,
              "#9c179e"
             ],
             [
              0.4444444444444444,
              "#bd3786"
             ],
             [
              0.5555555555555556,
              "#d8576b"
             ],
             [
              0.6666666666666666,
              "#ed7953"
             ],
             [
              0.7777777777777778,
              "#fb9f3a"
             ],
             [
              0.8888888888888888,
              "#fdca26"
             ],
             [
              1,
              "#f0f921"
             ]
            ],
            "type": "heatmap"
           }
          ],
          "heatmapgl": [
           {
            "colorbar": {
             "outlinewidth": 0,
             "ticks": ""
            },
            "colorscale": [
             [
              0,
              "#0d0887"
             ],
             [
              0.1111111111111111,
              "#46039f"
             ],
             [
              0.2222222222222222,
              "#7201a8"
             ],
             [
              0.3333333333333333,
              "#9c179e"
             ],
             [
              0.4444444444444444,
              "#bd3786"
             ],
             [
              0.5555555555555556,
              "#d8576b"
             ],
             [
              0.6666666666666666,
              "#ed7953"
             ],
             [
              0.7777777777777778,
              "#fb9f3a"
             ],
             [
              0.8888888888888888,
              "#fdca26"
             ],
             [
              1,
              "#f0f921"
             ]
            ],
            "type": "heatmapgl"
           }
          ],
          "histogram": [
           {
            "marker": {
             "colorbar": {
              "outlinewidth": 0,
              "ticks": ""
             }
            },
            "type": "histogram"
           }
          ],
          "histogram2d": [
           {
            "colorbar": {
             "outlinewidth": 0,
             "ticks": ""
            },
            "colorscale": [
             [
              0,
              "#0d0887"
             ],
             [
              0.1111111111111111,
              "#46039f"
             ],
             [
              0.2222222222222222,
              "#7201a8"
             ],
             [
              0.3333333333333333,
              "#9c179e"
             ],
             [
              0.4444444444444444,
              "#bd3786"
             ],
             [
              0.5555555555555556,
              "#d8576b"
             ],
             [
              0.6666666666666666,
              "#ed7953"
             ],
             [
              0.7777777777777778,
              "#fb9f3a"
             ],
             [
              0.8888888888888888,
              "#fdca26"
             ],
             [
              1,
              "#f0f921"
             ]
            ],
            "type": "histogram2d"
           }
          ],
          "histogram2dcontour": [
           {
            "colorbar": {
             "outlinewidth": 0,
             "ticks": ""
            },
            "colorscale": [
             [
              0,
              "#0d0887"
             ],
             [
              0.1111111111111111,
              "#46039f"
             ],
             [
              0.2222222222222222,
              "#7201a8"
             ],
             [
              0.3333333333333333,
              "#9c179e"
             ],
             [
              0.4444444444444444,
              "#bd3786"
             ],
             [
              0.5555555555555556,
              "#d8576b"
             ],
             [
              0.6666666666666666,
              "#ed7953"
             ],
             [
              0.7777777777777778,
              "#fb9f3a"
             ],
             [
              0.8888888888888888,
              "#fdca26"
             ],
             [
              1,
              "#f0f921"
             ]
            ],
            "type": "histogram2dcontour"
           }
          ],
          "mesh3d": [
           {
            "colorbar": {
             "outlinewidth": 0,
             "ticks": ""
            },
            "type": "mesh3d"
           }
          ],
          "parcoords": [
           {
            "line": {
             "colorbar": {
              "outlinewidth": 0,
              "ticks": ""
             }
            },
            "type": "parcoords"
           }
          ],
          "pie": [
           {
            "automargin": true,
            "type": "pie"
           }
          ],
          "scatter": [
           {
            "marker": {
             "colorbar": {
              "outlinewidth": 0,
              "ticks": ""
             }
            },
            "type": "scatter"
           }
          ],
          "scatter3d": [
           {
            "line": {
             "colorbar": {
              "outlinewidth": 0,
              "ticks": ""
             }
            },
            "marker": {
             "colorbar": {
              "outlinewidth": 0,
              "ticks": ""
             }
            },
            "type": "scatter3d"
           }
          ],
          "scattercarpet": [
           {
            "marker": {
             "colorbar": {
              "outlinewidth": 0,
              "ticks": ""
             }
            },
            "type": "scattercarpet"
           }
          ],
          "scattergeo": [
           {
            "marker": {
             "colorbar": {
              "outlinewidth": 0,
              "ticks": ""
             }
            },
            "type": "scattergeo"
           }
          ],
          "scattergl": [
           {
            "marker": {
             "colorbar": {
              "outlinewidth": 0,
              "ticks": ""
             }
            },
            "type": "scattergl"
           }
          ],
          "scattermapbox": [
           {
            "marker": {
             "colorbar": {
              "outlinewidth": 0,
              "ticks": ""
             }
            },
            "type": "scattermapbox"
           }
          ],
          "scatterpolar": [
           {
            "marker": {
             "colorbar": {
              "outlinewidth": 0,
              "ticks": ""
             }
            },
            "type": "scatterpolar"
           }
          ],
          "scatterpolargl": [
           {
            "marker": {
             "colorbar": {
              "outlinewidth": 0,
              "ticks": ""
             }
            },
            "type": "scatterpolargl"
           }
          ],
          "scatterternary": [
           {
            "marker": {
             "colorbar": {
              "outlinewidth": 0,
              "ticks": ""
             }
            },
            "type": "scatterternary"
           }
          ],
          "surface": [
           {
            "colorbar": {
             "outlinewidth": 0,
             "ticks": ""
            },
            "colorscale": [
             [
              0,
              "#0d0887"
             ],
             [
              0.1111111111111111,
              "#46039f"
             ],
             [
              0.2222222222222222,
              "#7201a8"
             ],
             [
              0.3333333333333333,
              "#9c179e"
             ],
             [
              0.4444444444444444,
              "#bd3786"
             ],
             [
              0.5555555555555556,
              "#d8576b"
             ],
             [
              0.6666666666666666,
              "#ed7953"
             ],
             [
              0.7777777777777778,
              "#fb9f3a"
             ],
             [
              0.8888888888888888,
              "#fdca26"
             ],
             [
              1,
              "#f0f921"
             ]
            ],
            "type": "surface"
           }
          ],
          "table": [
           {
            "cells": {
             "fill": {
              "color": "#EBF0F8"
             },
             "line": {
              "color": "white"
             }
            },
            "header": {
             "fill": {
              "color": "#C8D4E3"
             },
             "line": {
              "color": "white"
             }
            },
            "type": "table"
           }
          ]
         },
         "layout": {
          "annotationdefaults": {
           "arrowcolor": "#2a3f5f",
           "arrowhead": 0,
           "arrowwidth": 1
          },
          "coloraxis": {
           "colorbar": {
            "outlinewidth": 0,
            "ticks": ""
           }
          },
          "colorscale": {
           "diverging": [
            [
             0,
             "#8e0152"
            ],
            [
             0.1,
             "#c51b7d"
            ],
            [
             0.2,
             "#de77ae"
            ],
            [
             0.3,
             "#f1b6da"
            ],
            [
             0.4,
             "#fde0ef"
            ],
            [
             0.5,
             "#f7f7f7"
            ],
            [
             0.6,
             "#e6f5d0"
            ],
            [
             0.7,
             "#b8e186"
            ],
            [
             0.8,
             "#7fbc41"
            ],
            [
             0.9,
             "#4d9221"
            ],
            [
             1,
             "#276419"
            ]
           ],
           "sequential": [
            [
             0,
             "#0d0887"
            ],
            [
             0.1111111111111111,
             "#46039f"
            ],
            [
             0.2222222222222222,
             "#7201a8"
            ],
            [
             0.3333333333333333,
             "#9c179e"
            ],
            [
             0.4444444444444444,
             "#bd3786"
            ],
            [
             0.5555555555555556,
             "#d8576b"
            ],
            [
             0.6666666666666666,
             "#ed7953"
            ],
            [
             0.7777777777777778,
             "#fb9f3a"
            ],
            [
             0.8888888888888888,
             "#fdca26"
            ],
            [
             1,
             "#f0f921"
            ]
           ],
           "sequentialminus": [
            [
             0,
             "#0d0887"
            ],
            [
             0.1111111111111111,
             "#46039f"
            ],
            [
             0.2222222222222222,
             "#7201a8"
            ],
            [
             0.3333333333333333,
             "#9c179e"
            ],
            [
             0.4444444444444444,
             "#bd3786"
            ],
            [
             0.5555555555555556,
             "#d8576b"
            ],
            [
             0.6666666666666666,
             "#ed7953"
            ],
            [
             0.7777777777777778,
             "#fb9f3a"
            ],
            [
             0.8888888888888888,
             "#fdca26"
            ],
            [
             1,
             "#f0f921"
            ]
           ]
          },
          "colorway": [
           "#636efa",
           "#EF553B",
           "#00cc96",
           "#ab63fa",
           "#FFA15A",
           "#19d3f3",
           "#FF6692",
           "#B6E880",
           "#FF97FF",
           "#FECB52"
          ],
          "font": {
           "color": "#2a3f5f"
          },
          "geo": {
           "bgcolor": "white",
           "lakecolor": "white",
           "landcolor": "#E5ECF6",
           "showlakes": true,
           "showland": true,
           "subunitcolor": "white"
          },
          "hoverlabel": {
           "align": "left"
          },
          "hovermode": "closest",
          "mapbox": {
           "style": "light"
          },
          "paper_bgcolor": "white",
          "plot_bgcolor": "#E5ECF6",
          "polar": {
           "angularaxis": {
            "gridcolor": "white",
            "linecolor": "white",
            "ticks": ""
           },
           "bgcolor": "#E5ECF6",
           "radialaxis": {
            "gridcolor": "white",
            "linecolor": "white",
            "ticks": ""
           }
          },
          "scene": {
           "xaxis": {
            "backgroundcolor": "#E5ECF6",
            "gridcolor": "white",
            "gridwidth": 2,
            "linecolor": "white",
            "showbackground": true,
            "ticks": "",
            "zerolinecolor": "white"
           },
           "yaxis": {
            "backgroundcolor": "#E5ECF6",
            "gridcolor": "white",
            "gridwidth": 2,
            "linecolor": "white",
            "showbackground": true,
            "ticks": "",
            "zerolinecolor": "white"
           },
           "zaxis": {
            "backgroundcolor": "#E5ECF6",
            "gridcolor": "white",
            "gridwidth": 2,
            "linecolor": "white",
            "showbackground": true,
            "ticks": "",
            "zerolinecolor": "white"
           }
          },
          "shapedefaults": {
           "line": {
            "color": "#2a3f5f"
           }
          },
          "ternary": {
           "aaxis": {
            "gridcolor": "white",
            "linecolor": "white",
            "ticks": ""
           },
           "baxis": {
            "gridcolor": "white",
            "linecolor": "white",
            "ticks": ""
           },
           "bgcolor": "#E5ECF6",
           "caxis": {
            "gridcolor": "white",
            "linecolor": "white",
            "ticks": ""
           }
          },
          "title": {
           "x": 0.05
          },
          "xaxis": {
           "automargin": true,
           "gridcolor": "white",
           "linecolor": "white",
           "ticks": "",
           "title": {
            "standoff": 15
           },
           "zerolinecolor": "white",
           "zerolinewidth": 2
          },
          "yaxis": {
           "automargin": true,
           "gridcolor": "white",
           "linecolor": "white",
           "ticks": "",
           "title": {
            "standoff": 15
           },
           "zerolinecolor": "white",
           "zerolinewidth": 2
          }
         }
        },
        "title": {
         "font": {
          "color": "#4D5663"
         },
         "text": "Inside Forward - Attack"
        },
        "xaxis": {
         "gridcolor": "#E1E5ED",
         "showgrid": true,
         "tickfont": {
          "color": "#4D5663"
         },
         "title": {
          "font": {
           "color": "#4D5663"
          },
          "text": "Goals/90"
         },
         "zerolinecolor": "#E1E5ED"
        },
        "yaxis": {
         "gridcolor": "#E1E5ED",
         "showgrid": true,
         "tickfont": {
          "color": "#4D5663"
         },
         "title": {
          "font": {
           "color": "#4D5663"
          },
          "text": "Chances Created/90"
         },
         "zerolinecolor": "#E1E5ED"
        }
       }
      },
      "text/html": [
       "<div>\n",
       "        \n",
       "        \n",
       "            <div id=\"ea55a257-9041-4a8b-88f9-7e222626de18\" class=\"plotly-graph-div\" style=\"height:525px; width:100%;\"></div>\n",
       "            <script type=\"text/javascript\">\n",
       "                require([\"plotly\"], function(Plotly) {\n",
       "                    window.PLOTLYENV=window.PLOTLYENV || {};\n",
       "                    window.PLOTLYENV.BASE_URL='https://plot.ly';\n",
       "                    \n",
       "                if (document.getElementById(\"ea55a257-9041-4a8b-88f9-7e222626de18\")) {\n",
       "                    Plotly.newPlot(\n",
       "                        'ea55a257-9041-4a8b-88f9-7e222626de18',\n",
       "                        [{\"line\": {\"color\": \"rgba(255, 153, 51, 1.0)\", \"dash\": \"solid\", \"shape\": \"linear\", \"width\": 1.3}, \"marker\": {\"size\": 10, \"symbol\": \"circle\"}, \"mode\": \"markers\", \"name\": \"Ch C/90\", \"text\": [\"Oskar Repka\", \"Marcel Mehlem\", \"Jessie Guera Djou\", \"Andjelo Kacavenda\", \"Michal Ozga\", \"Josip Zeljkovic\", \"Lukasz Duszkiewicz\", \"Bartlomiej Gajda\", \"Aleksa Pejic\", \"Daniel Pospisil\", \"Jakov Basic\", \"Robert Mandrysz\", \"Sasa Tomanovic\", \"Sebastian Duda\", \"Ivan Jovanovic\", \"Duje Medak\", \"Dominik Siwinski\", \"Arkadiusz Kozlowski\", \"Fanol P\\u00c3\\u00abrdedaj\", \"Kamil Niewiadomski\", \"Lukasz Mozler\", \"Haris Memic\", \"Kristijan Jakic\", \"Filip Tolic\", \"Jakub Kisiel\", \"Dawid Kisly\", \"Taras Romanchuk\", \"Aleksander Slezak\", \"Tomasz Owczarek\", \"Richie Smallwood\", \"Mateusz Stepien\", \"Josip Bauk\", \"Domagoj Perica\", \"Uros Filipovic\", \"Stefan Velickovic\", \"Filip Sredojevic\", \"Radoslaw Kaminski\", \"Alexander Fuchs\", \"Tomas Huk\", \"Wojciech Kaminski\", \"Kasim Adams\", \"Mateusz Madzia\", \"Sebastian Kopec\", \"Jovan Simic\", \"Antonio Asanovic\", \"Marko Labovic\", \"Hubert Molski\", \"Hrvoje Dzijan\", \"Amos Youga\", \"Mario Erb\", \"Fabio Daprel\\u00c3\", \"Kresimir Jelic\", \"Jakob Johansson\", \"Liam Gordon\", \"Jakub Hric\", \"Damian Koziel\", \"Malcom Edjouma\", \"Piotr Wujec\", \"Donald Molls\", \"Luka Pavkovic\", \"Norbert Radkiewicz\", \"Danilo Wiebe\", \"Kristi Qose\", \"Nikola Puzic\", \"Radoslaw Kursa\", \"Jonas Bager\", \"Jon Flanagan\", \"Vuk Mitosevic\", \"Tom Hateley\", \"Sasa Balic\", \"Mohamed Loua\", \"Dawid Bialek\", \"Ben Thompson\", \"Pawel Kohut\", \"Daniel Haritonov\", \"Andrej Causic\", \"Sebastian Smialek\", \"Luka Miljevic\", \"Andrzej Korytek\", \"Mario Cuic\", \"Lubomir Satka\", \"Vukasin Krstic\", \"Peter Drobnak\", \"Marko Filipovic\", \"Martin Vukorepa\", \"Nicklas Shipnoski\", \"Joey Pelupessy\", \"Antonio Mrkovic\", \"Kamal Bafounta\", \"Adrian Liberacki\", \"Tevin Ihrig\", \"Sandi Lovric\", \"Patrick Wolfgang Kapp\", \"Ivan Roca\", \"Karol Drwecki\", \"Zlatko Ilicic\", \"Luka Cakarun\", \"Tan Jiajie\", \"Domagoj Zigri\", \"Casper Elderman\", \"Samuel Lengle\", \"Luka Cankovic\", \"Kenny Dougall\", \"Aur\\u00c3\\u00a9lien Nguiamba\", \"Fahri Akyol\", \"Andrija Crnadak\", \"Grzegorz Wawrzynski\", \"Julian Rieckmann\", \"Leandro\", \"Milos Brajovic\", \"Nathan Baker\", \"Matthias Rahn\", \"Petar Mitic\", \"Dusan Stevanovic\", \"Jan Janik\", \"Fran Tomek\", \"Tomasz Lewandowski\", \"Mateusz Dlugolecki\", \"Pawel Baranowski\", \"David Jablonsky\", \"Adam Mesjasz\", \"Oliver Praznovsky\", \"Florian Egerer\", \"Maxim Kventser\", \"Nikola Bjelanovic\", \"Bojan Cigulajkic\", \"Philip Heise\", \"Thomas Haas\", \"Milan Janjic\", \"Max Dombrowka\", \"Ervin Kacar\", \"\\u00c3\\u0093scar Gil\", \"Maxime Le Marchand\", \"Jan L\\u00c3\\u00b6hmannsr\\u00c3\\u00b6ben\", \"Andrzej Kloda\", \"Adrian Polanski\", \"Ram\\u00c3\\u00b3n\", \"Jan Sieracki\", \"Dusan Jokovic\", \"Daniel Dziwniel\", \"Patryk Wilk\", \"Sebastian Zalepa\", \"Jan Sterba\", \"Stefan Draskovic\", \"Damian Garbacik\", \"Bartosz Kopacz\", \"Szymon Kobeszko\", \"Massadio Ha\\u00c3\\u00afdara\", \"Manuel Martic\", \"Filip Bainovic\", \"Adrian Niewiadomski\", \"Marcin Mackowiak\", \"Pierre Fassnacht\", \"Michael Heinloth\", \"Nenad Kocovic\", \"Miladin Stevanovic\", \"Jakub Pruzanin\", \"Bartlomiej Mruk\", \"Herbert Paul\", \"Donatas Nakrosius\", \"Ivan Zgrablic\", \"Robin Urban\", \"Kacper Gorski\", \"Adrian Filipiak\", \"Adrian Purzycki\", \"Kostas Triantafyllopoulos\", \"Aleksandar Bjelica\", \"Tomas Petrasek\", \"Miquel Nelom\", \"Koen Weuts\", \"Aleksandar Petrovic\", \"Marcin Dabrowski\", \"Niko Datkovic\", \"Michal Zieba\", \"Rafal Ostrowski\", \"Ivan Tomac\", \"David Urban\", \"Andrej Startsev\", \"Nemanja Vidic\", \"Petar Botica\", \"Bojan Gocanin\", \"Fabian Holthaus\", \"Tim H\\u00c3\\u00a4u\\u00c3\\u009fler\", \"Mikkel Kirkeskov\", \"Ovidiu Popescu\", \"Iliya Gruev\", \"Filip Jovic\", \"Douglas Bergqvist\", \"Marcin Sudy\", \"Mart Ristl\", \"Lovro Sindik\", \"Mladen Micanovic\", \"Blazej Cyfert\", \"Luca Zander\", \"Igor Sapala\", \"Jan Sobocinski\", \"Artur Gac\", \"Kacper Jozefiak\", \"Zvezdan Djordjilovic\", \"David Bumberger\", \"Ivan Bosnjak\", \"Michal Wrzesniewski\", \"Aleksandar Ignjovski\", \"Turgay Gemicibasi\", \"Nenad Kiso\", \"Lukasz Sztylka\", \"Noboru Shimura\", \"Derrick Williams\", \"Dino Stiglec\", \"Kyriakos Savvidis\", \"Niklas Landgraf\", \"Tomasz Wojcinowicz\", \"Mateusz Pienczak\", \"Jaroslaw Kubicki\", \"Patrick Kammerbauer\", \"Luis G\\u00c3\\u00b6rlich\", \"Chris Wolf\", \"Josip Sutalo\", \"Jakub Zima\", \"Ernest Dzieciol\", \"Norbert Myszka\", \"Robin Flu\\u00c3\\u009f\", \"Nemanja Milovanovic\", \"Syam Ben Youssef\", \"Adrian Rybak\", \"Rafal Remisz\", \"Bartlomiej Kasprzak\", \"Miroslav Bogosavac\", \"Dragoljub Srnic\", \"Kaan Kurt\", \"Ivan Runje\", \"Sonny Bradley\", \"Adam Pazio\", \"Ariel Borysiuk\", \"Krystian Stolarczyk\", \"Damian Kostkowski\", \"Dominik Nothnagel\", \"Michel St\\u00c3\\u00b6cker\", \"Ryan Malone\", \"Milan Makaric\", \"Matej Hybs\", \"Sven Botman\", \"Piotr Bartloszewski\", \"Mariusz Holik\", \"Mateo Jaksic\", \"Ashton G\\u00c3\\u00b6tz\", \"Marcos Rodr\\u00c3\\u00adguez\", \"Jakub Swiecinski\", \"Marius Gr\\u00c3\\u00b6sch\", \"Aleksa Jovanovic\", \"Aleksandar Varjacic\", \"Mirko Djermanovic\", \"Igor Biedrzycki\", \"Lukas Duriska\", \"Julien Tadrowski\", \"Jakub Niewiadomski\", \"Philipp Riese\", \"Bartlomiej Lorenc\", \"Julian Wolff\", \"Adrian Bielawski\", \"Filip Zderic\", \"Eric Weeger\", \"Bartosz Kieliba\", \"Filp Ceko\", \"Ariel Mosor\", \"Srdjan Grabez\", \"Bozidar Petrovic\", \"Benjamin Himmel\", \"Marco Komenda\", \"Wiktor Nahrebecki\", \"Niclas Stierlin\", null], \"type\": \"scatter\", \"x\": [\"-\", \"0.07\", \"-\", \"0.05\", \"0.10\", \"-\", \"0.13\", \"0.11\", \"-\", \"-\", \"-\", \"0.06\", \"-\", \"-\", \"0.05\", \"0.06\", \"0.25\", \"-\", \"0.11\", \"0.09\", \"-\", \"-\", \"-\", \"-\", \"0.08\", \"-\", \"-\", \"0.28\", \"-\", \"-\", \"-\", \"-\", \"0.11\", \"0.05\", \"-\", \"-\", \"0.12\", \"-\", \"0.07\", \"0.05\", \"0.15\", \"-\", \"0.22\", \"-\", \"-\", \"0.10\", \"-\", \"0.07\", \"-\", \"0.05\", \"0.06\", \"0.11\", \"0.19\", \"0.06\", \"0.13\", \"-\", \"-\", \"0.06\", \"-\", \"-\", \"-\", \"-\", \"-\", \"0.07\", \"-\", \"0.07\", \"-\", \"-\", \"-\", \"-\", \"-\", \"0.08\", \"-\", \"0.06\", \"-\", \"0.05\", \"0.05\", \"0.05\", \"0.07\", \"-\", \"-\", \"0.15\", \"-\", \"-\", \"0.14\", \"0.32\", \"-\", \"-\", \"-\", \"-\", \"-\", \"0.13\", \"0.05\", \"0.13\", \"0.32\", \"0.12\", \"0.11\", \"-\", \"0.18\", \"-\", \"0.23\", \"0.12\", \"-\", \"-\", \"0.06\", \"0.10\", \"-\", \"-\", \"0.07\", \"-\", \"-\", \"0.05\", \"-\", \"0.07\", \"0.09\", \"0.14\", \"0.05\", \"0.11\", \"0.08\", \"0.07\", \"-\", \"0.07\", \"-\", \"0.12\", \"0.11\", \"0.06\", \"0.07\", \"0.08\", \"0.07\", \"0.15\", \"0.06\", \"0.08\", \"0.08\", \"0.09\", \"-\", \"0.24\", \"0.11\", \"0.09\", \"0.06\", \"-\", \"-\", \"-\", \"-\", \"0.30\", \"0.05\", \"-\", \"-\", \"-\", \"-\", \"-\", \"0.06\", \"0.06\", \"-\", \"0.05\", \"-\", \"-\", \"0.06\", \"-\", \"-\", \"0.07\", \"-\", \"0.05\", \"0.05\", \"-\", \"-\", \"0.06\", \"0.09\", \"0.04\", \"-\", \"-\", \"-\", \"-\", \"0.04\", \"0.19\", \"0.11\", \"-\", \"-\", \"-\", \"0.05\", \"-\", \"-\", \"-\", \"-\", \"0.06\", \"-\", \"-\", \"-\", \"-\", \"0.06\", \"0.23\", \"0.07\", \"0.21\", \"-\", \"0.12\", \"0.14\", \"-\", \"-\", \"-\", \"-\", \"-\", \"-\", \"-\", \"0.38\", \"0.18\", \"0.10\", \"-\", \"-\", \"-\", \"-\", \"-\", \"-\", \"0.11\", \"-\", \"0.09\", \"0.06\", \"0.05\", \"0.16\", \"-\", \"0.08\", \"-\", \"0.11\", \"0.12\", \"-\", \"0.07\", \"0.06\", \"0.06\", \"-\", \"-\", \"-\", \"0.06\", \"0.16\", \"0.06\", \"0.11\", \"0.05\", \"-\", \"0.05\", \"-\", \"-\", \"0.05\", \"0.06\", \"-\", \"-\", \"0.24\", \"0.22\", \"0.07\", \"-\", \"-\", \"-\", \"0.07\", \"0.05\", \"0.06\", \"-\", \"0.06\", \"-\", \"0.06\", \"0.07\", \"-\", \"0.05\", \"-\", \"0.06\", \"-\", \"-\", \"-\", \"0.06\", \"-\", \"-\", \"0.06\", \"0.05\", \"-\", \"0.07\", \"-\", null], \"y\": [\"0.56\", \"1.00\", \"1.38\", \"0.81\", \"0.29\", \"1.18\", \"1.63\", \"1.09\", \"1.33\", \"0.36\", \"1.04\", \"1.81\", \"0.54\", \"2.24\", \"1.40\", \"1.00\", \"3.63\", \"0.66\", \"0.61\", \"0.19\", \"1.96\", \"1.12\", \"1.82\", \"0.91\", \"1.31\", \"0.59\", \"0.51\", \"0.17\", \"0.12\", \"0.72\", \"0.86\", \"0.24\", \"0.79\", \"3.32\", \"1.22\", \"0.36\", \"0.23\", \"0.43\", \"0.94\", \"0.22\", \"0.29\", \"0.33\", \"0.56\", \"0.26\", \"0.75\", \"2.05\", \"0.72\", \"1.47\", \"0.35\", \"0.40\", \"0.56\", \"0.40\", \"3.17\", \"0.50\", \"0.40\", \"0.42\", \"0.74\", \"0.28\", \"0.65\", \"0.21\", \"0.12\", \"0.56\", \"0.55\", \"3.62\", \"1.63\", \"0.52\", \"0.75\", \"1.16\", \"0.85\", \"0.73\", \"0.46\", \"0.39\", \"0.89\", \"1.58\", \"0.58\", \"0.11\", \"0.26\", \"0.92\", \"0.46\", \"0.42\", \"0.46\", \"0.22\", \"0.52\", \"1.40\", \"0.29\", \"0.24\", \"0.67\", \"1.02\", \"0.38\", \"0.58\", \"0.35\", \"1.91\", \"0.53\", \"0.38\", \"0.49\", \"1.06\", \"0.83\", \"0.38\", \"0.59\", \"0.35\", \"2.14\", \"0.18\", \"0.33\", \"0.30\", \"0.63\", \"3.50\", \"0.12\", \"0.32\", \"0.60\", \"-\", \"0.33\", \"0.05\", \"2.01\", \"0.54\", \"0.36\", \"1.58\", \"0.36\", \"0.74\", \"0.46\", \"0.71\", \"0.81\", \"0.74\", \"0.50\", \"0.24\", \"1.40\", \"0.66\", \"0.07\", \"1.16\", \"1.71\", \"1.28\", \"0.24\", \"0.41\", \"0.55\", \"0.38\", \"0.09\", \"0.88\", \"0.70\", \"1.09\", \"0.38\", \"1.16\", \"0.71\", \"0.38\", \"0.20\", \"1.10\", \"0.56\", \"0.29\", \"0.98\", \"0.95\", \"0.60\", \"1.56\", \"0.51\", \"0.77\", \"0.43\", \"1.01\", \"0.34\", \"0.40\", \"0.23\", \"0.39\", \"0.37\", \"0.53\", \"0.13\", \"0.43\", \"0.42\", \"0.49\", \"1.06\", \"0.24\", \"0.43\", \"0.44\", \"0.36\", \"0.23\", \"0.30\", \"0.88\", \"0.22\", \"0.38\", \"1.19\", \"1.45\", \"0.10\", \"0.56\", \"0.45\", \"0.29\", \"0.84\", \"1.39\", \"1.05\", \"0.37\", \"0.49\", \"0.80\", \"1.53\", \"0.67\", \"0.88\", \"1.62\", \"1.36\", \"2.61\", \"0.21\", \"0.43\", \"1.11\", \"0.58\", \"0.57\", \"0.25\", \"0.71\", \"0.45\", \"0.13\", \"0.30\", \"0.60\", \"0.84\", \"0.77\", \"0.97\", \"0.40\", \"0.63\", \"1.58\", \"0.71\", \"1.20\", \"0.47\", \"0.36\", \"1.00\", \"0.47\", \"1.66\", \"1.26\", \"0.23\", \"0.47\", \"0.16\", \"0.57\", \"1.11\", \"0.89\", \"0.16\", \"0.18\", \"0.41\", \"1.43\", \"0.81\", \"0.99\", \"0.52\", \"0.43\", \"0.35\", \"0.89\", \"1.53\", \"0.26\", \"0.43\", \"0.43\", \"0.38\", \"0.61\", \"1.62\", \"1.01\", \"0.11\", \"0.54\", \"0.66\", \"1.22\", \"0.54\", \"0.40\", \"0.64\", \"0.36\", \"0.21\", \"1.07\", \"0.67\", \"0.72\", \"0.31\", \"0.30\", \"0.14\", \"0.90\", \"0.89\", \"0.23\", \"0.39\", \"0.47\", \"0.62\", \"0.52\", \"0.44\", \"0.45\", \"0.69\", \"0.61\", \"0.53\", \"0.55\", \"2.29\", \"0.58\", \"\"]}],\n",
       "                        {\"legend\": {\"bgcolor\": \"#F5F6F9\", \"font\": {\"color\": \"#4D5663\"}}, \"paper_bgcolor\": \"#F5F6F9\", \"plot_bgcolor\": \"#F5F6F9\", \"template\": {\"data\": {\"bar\": [{\"error_x\": {\"color\": \"#2a3f5f\"}, \"error_y\": {\"color\": \"#2a3f5f\"}, \"marker\": {\"line\": {\"color\": \"#E5ECF6\", \"width\": 0.5}}, \"type\": \"bar\"}], \"barpolar\": [{\"marker\": {\"line\": {\"color\": \"#E5ECF6\", \"width\": 0.5}}, \"type\": \"barpolar\"}], \"carpet\": [{\"aaxis\": {\"endlinecolor\": \"#2a3f5f\", \"gridcolor\": \"white\", \"linecolor\": \"white\", \"minorgridcolor\": \"white\", \"startlinecolor\": \"#2a3f5f\"}, \"baxis\": {\"endlinecolor\": \"#2a3f5f\", \"gridcolor\": \"white\", \"linecolor\": \"white\", \"minorgridcolor\": \"white\", \"startlinecolor\": \"#2a3f5f\"}, \"type\": \"carpet\"}], \"choropleth\": [{\"colorbar\": {\"outlinewidth\": 0, \"ticks\": \"\"}, \"type\": \"choropleth\"}], \"contour\": [{\"colorbar\": {\"outlinewidth\": 0, \"ticks\": \"\"}, \"colorscale\": [[0.0, \"#0d0887\"], [0.1111111111111111, \"#46039f\"], [0.2222222222222222, \"#7201a8\"], [0.3333333333333333, \"#9c179e\"], [0.4444444444444444, \"#bd3786\"], [0.5555555555555556, \"#d8576b\"], [0.6666666666666666, \"#ed7953\"], [0.7777777777777778, \"#fb9f3a\"], [0.8888888888888888, \"#fdca26\"], [1.0, \"#f0f921\"]], \"type\": \"contour\"}], \"contourcarpet\": [{\"colorbar\": {\"outlinewidth\": 0, \"ticks\": \"\"}, \"type\": \"contourcarpet\"}], \"heatmap\": [{\"colorbar\": {\"outlinewidth\": 0, \"ticks\": \"\"}, \"colorscale\": [[0.0, \"#0d0887\"], [0.1111111111111111, \"#46039f\"], [0.2222222222222222, \"#7201a8\"], [0.3333333333333333, \"#9c179e\"], [0.4444444444444444, \"#bd3786\"], [0.5555555555555556, \"#d8576b\"], [0.6666666666666666, \"#ed7953\"], [0.7777777777777778, \"#fb9f3a\"], [0.8888888888888888, \"#fdca26\"], [1.0, \"#f0f921\"]], \"type\": \"heatmap\"}], \"heatmapgl\": [{\"colorbar\": {\"outlinewidth\": 0, \"ticks\": \"\"}, \"colorscale\": [[0.0, \"#0d0887\"], [0.1111111111111111, \"#46039f\"], [0.2222222222222222, \"#7201a8\"], [0.3333333333333333, \"#9c179e\"], [0.4444444444444444, \"#bd3786\"], [0.5555555555555556, \"#d8576b\"], [0.6666666666666666, \"#ed7953\"], [0.7777777777777778, \"#fb9f3a\"], [0.8888888888888888, \"#fdca26\"], [1.0, \"#f0f921\"]], \"type\": \"heatmapgl\"}], \"histogram\": [{\"marker\": {\"colorbar\": {\"outlinewidth\": 0, \"ticks\": \"\"}}, \"type\": \"histogram\"}], \"histogram2d\": [{\"colorbar\": {\"outlinewidth\": 0, \"ticks\": \"\"}, \"colorscale\": [[0.0, \"#0d0887\"], [0.1111111111111111, \"#46039f\"], [0.2222222222222222, \"#7201a8\"], [0.3333333333333333, \"#9c179e\"], [0.4444444444444444, \"#bd3786\"], [0.5555555555555556, \"#d8576b\"], [0.6666666666666666, \"#ed7953\"], [0.7777777777777778, \"#fb9f3a\"], [0.8888888888888888, \"#fdca26\"], [1.0, \"#f0f921\"]], \"type\": \"histogram2d\"}], \"histogram2dcontour\": [{\"colorbar\": {\"outlinewidth\": 0, \"ticks\": \"\"}, \"colorscale\": [[0.0, \"#0d0887\"], [0.1111111111111111, \"#46039f\"], [0.2222222222222222, \"#7201a8\"], [0.3333333333333333, \"#9c179e\"], [0.4444444444444444, \"#bd3786\"], [0.5555555555555556, \"#d8576b\"], [0.6666666666666666, \"#ed7953\"], [0.7777777777777778, \"#fb9f3a\"], [0.8888888888888888, \"#fdca26\"], [1.0, \"#f0f921\"]], \"type\": \"histogram2dcontour\"}], \"mesh3d\": [{\"colorbar\": {\"outlinewidth\": 0, \"ticks\": \"\"}, \"type\": \"mesh3d\"}], \"parcoords\": [{\"line\": {\"colorbar\": {\"outlinewidth\": 0, \"ticks\": \"\"}}, \"type\": \"parcoords\"}], \"pie\": [{\"automargin\": true, \"type\": \"pie\"}], \"scatter\": [{\"marker\": {\"colorbar\": {\"outlinewidth\": 0, \"ticks\": \"\"}}, \"type\": \"scatter\"}], \"scatter3d\": [{\"line\": {\"colorbar\": {\"outlinewidth\": 0, \"ticks\": \"\"}}, \"marker\": {\"colorbar\": {\"outlinewidth\": 0, \"ticks\": \"\"}}, \"type\": \"scatter3d\"}], \"scattercarpet\": [{\"marker\": {\"colorbar\": {\"outlinewidth\": 0, \"ticks\": \"\"}}, \"type\": \"scattercarpet\"}], \"scattergeo\": [{\"marker\": {\"colorbar\": {\"outlinewidth\": 0, \"ticks\": \"\"}}, \"type\": \"scattergeo\"}], \"scattergl\": [{\"marker\": {\"colorbar\": {\"outlinewidth\": 0, \"ticks\": \"\"}}, \"type\": \"scattergl\"}], \"scattermapbox\": [{\"marker\": {\"colorbar\": {\"outlinewidth\": 0, \"ticks\": \"\"}}, \"type\": \"scattermapbox\"}], \"scatterpolar\": [{\"marker\": {\"colorbar\": {\"outlinewidth\": 0, \"ticks\": \"\"}}, \"type\": \"scatterpolar\"}], \"scatterpolargl\": [{\"marker\": {\"colorbar\": {\"outlinewidth\": 0, \"ticks\": \"\"}}, \"type\": \"scatterpolargl\"}], \"scatterternary\": [{\"marker\": {\"colorbar\": {\"outlinewidth\": 0, \"ticks\": \"\"}}, \"type\": \"scatterternary\"}], \"surface\": [{\"colorbar\": {\"outlinewidth\": 0, \"ticks\": \"\"}, \"colorscale\": [[0.0, \"#0d0887\"], [0.1111111111111111, \"#46039f\"], [0.2222222222222222, \"#7201a8\"], [0.3333333333333333, \"#9c179e\"], [0.4444444444444444, \"#bd3786\"], [0.5555555555555556, \"#d8576b\"], [0.6666666666666666, \"#ed7953\"], [0.7777777777777778, \"#fb9f3a\"], [0.8888888888888888, \"#fdca26\"], [1.0, \"#f0f921\"]], \"type\": \"surface\"}], \"table\": [{\"cells\": {\"fill\": {\"color\": \"#EBF0F8\"}, \"line\": {\"color\": \"white\"}}, \"header\": {\"fill\": {\"color\": \"#C8D4E3\"}, \"line\": {\"color\": \"white\"}}, \"type\": \"table\"}]}, \"layout\": {\"annotationdefaults\": {\"arrowcolor\": \"#2a3f5f\", \"arrowhead\": 0, \"arrowwidth\": 1}, \"coloraxis\": {\"colorbar\": {\"outlinewidth\": 0, \"ticks\": \"\"}}, \"colorscale\": {\"diverging\": [[0, \"#8e0152\"], [0.1, \"#c51b7d\"], [0.2, \"#de77ae\"], [0.3, \"#f1b6da\"], [0.4, \"#fde0ef\"], [0.5, \"#f7f7f7\"], [0.6, \"#e6f5d0\"], [0.7, \"#b8e186\"], [0.8, \"#7fbc41\"], [0.9, \"#4d9221\"], [1, \"#276419\"]], \"sequential\": [[0.0, \"#0d0887\"], [0.1111111111111111, \"#46039f\"], [0.2222222222222222, \"#7201a8\"], [0.3333333333333333, \"#9c179e\"], [0.4444444444444444, \"#bd3786\"], [0.5555555555555556, \"#d8576b\"], [0.6666666666666666, \"#ed7953\"], [0.7777777777777778, \"#fb9f3a\"], [0.8888888888888888, \"#fdca26\"], [1.0, \"#f0f921\"]], \"sequentialminus\": [[0.0, \"#0d0887\"], [0.1111111111111111, \"#46039f\"], [0.2222222222222222, \"#7201a8\"], [0.3333333333333333, \"#9c179e\"], [0.4444444444444444, \"#bd3786\"], [0.5555555555555556, \"#d8576b\"], [0.6666666666666666, \"#ed7953\"], [0.7777777777777778, \"#fb9f3a\"], [0.8888888888888888, \"#fdca26\"], [1.0, \"#f0f921\"]]}, \"colorway\": [\"#636efa\", \"#EF553B\", \"#00cc96\", \"#ab63fa\", \"#FFA15A\", \"#19d3f3\", \"#FF6692\", \"#B6E880\", \"#FF97FF\", \"#FECB52\"], \"font\": {\"color\": \"#2a3f5f\"}, \"geo\": {\"bgcolor\": \"white\", \"lakecolor\": \"white\", \"landcolor\": \"#E5ECF6\", \"showlakes\": true, \"showland\": true, \"subunitcolor\": \"white\"}, \"hoverlabel\": {\"align\": \"left\"}, \"hovermode\": \"closest\", \"mapbox\": {\"style\": \"light\"}, \"paper_bgcolor\": \"white\", \"plot_bgcolor\": \"#E5ECF6\", \"polar\": {\"angularaxis\": {\"gridcolor\": \"white\", \"linecolor\": \"white\", \"ticks\": \"\"}, \"bgcolor\": \"#E5ECF6\", \"radialaxis\": {\"gridcolor\": \"white\", \"linecolor\": \"white\", \"ticks\": \"\"}}, \"scene\": {\"xaxis\": {\"backgroundcolor\": \"#E5ECF6\", \"gridcolor\": \"white\", \"gridwidth\": 2, \"linecolor\": \"white\", \"showbackground\": true, \"ticks\": \"\", \"zerolinecolor\": \"white\"}, \"yaxis\": {\"backgroundcolor\": \"#E5ECF6\", \"gridcolor\": \"white\", \"gridwidth\": 2, \"linecolor\": \"white\", \"showbackground\": true, \"ticks\": \"\", \"zerolinecolor\": \"white\"}, \"zaxis\": {\"backgroundcolor\": \"#E5ECF6\", \"gridcolor\": \"white\", \"gridwidth\": 2, \"linecolor\": \"white\", \"showbackground\": true, \"ticks\": \"\", \"zerolinecolor\": \"white\"}}, \"shapedefaults\": {\"line\": {\"color\": \"#2a3f5f\"}}, \"ternary\": {\"aaxis\": {\"gridcolor\": \"white\", \"linecolor\": \"white\", \"ticks\": \"\"}, \"baxis\": {\"gridcolor\": \"white\", \"linecolor\": \"white\", \"ticks\": \"\"}, \"bgcolor\": \"#E5ECF6\", \"caxis\": {\"gridcolor\": \"white\", \"linecolor\": \"white\", \"ticks\": \"\"}}, \"title\": {\"x\": 0.05}, \"xaxis\": {\"automargin\": true, \"gridcolor\": \"white\", \"linecolor\": \"white\", \"ticks\": \"\", \"title\": {\"standoff\": 15}, \"zerolinecolor\": \"white\", \"zerolinewidth\": 2}, \"yaxis\": {\"automargin\": true, \"gridcolor\": \"white\", \"linecolor\": \"white\", \"ticks\": \"\", \"title\": {\"standoff\": 15}, \"zerolinecolor\": \"white\", \"zerolinewidth\": 2}}}, \"title\": {\"font\": {\"color\": \"#4D5663\"}, \"text\": \"Inside Forward - Attack\"}, \"xaxis\": {\"gridcolor\": \"#E1E5ED\", \"showgrid\": true, \"tickfont\": {\"color\": \"#4D5663\"}, \"title\": {\"font\": {\"color\": \"#4D5663\"}, \"text\": \"Goals/90\"}, \"zerolinecolor\": \"#E1E5ED\"}, \"yaxis\": {\"gridcolor\": \"#E1E5ED\", \"showgrid\": true, \"tickfont\": {\"color\": \"#4D5663\"}, \"title\": {\"font\": {\"color\": \"#4D5663\"}, \"text\": \"Chances Created/90\"}, \"zerolinecolor\": \"#E1E5ED\"}},\n",
       "                        {\"showLink\": true, \"linkText\": \"Export to plot.ly\", \"plotlyServerURL\": \"https://plot.ly\", \"responsive\": true}\n",
       "                    ).then(function(){\n",
       "                            \n",
       "var gd = document.getElementById('ea55a257-9041-4a8b-88f9-7e222626de18');\n",
       "var x = new MutationObserver(function (mutations, observer) {{\n",
       "        var display = window.getComputedStyle(gd).display;\n",
       "        if (!display || display === 'none') {{\n",
       "            console.log([gd, 'removed!']);\n",
       "            Plotly.purge(gd);\n",
       "            observer.disconnect();\n",
       "        }}\n",
       "}});\n",
       "\n",
       "// Listen for the removal of the full notebook cells\n",
       "var notebookContainer = gd.closest('#notebook-container');\n",
       "if (notebookContainer) {{\n",
       "    x.observe(notebookContainer, {childList: true});\n",
       "}}\n",
       "\n",
       "// Listen for the clearing of the current output cell\n",
       "var outputEl = gd.closest('.output');\n",
       "if (outputEl) {{\n",
       "    x.observe(outputEl, {childList: true});\n",
       "}}\n",
       "\n",
       "                        })\n",
       "                };\n",
       "                });\n",
       "            </script>\n",
       "        </div>"
      ]
     },
     "metadata": {},
     "output_type": "display_data"
    }
   ],
   "source": [
    "df.iplot(kind='scatter',x='Gls/90',y='Ch C/90',\n",
    "           mode='markers',text='Name',size=10,\n",
    "          xTitle='Goals/90',yTitle='Chances Created/90',title='Inside Forward - Attack')\t"
   ]
  },
  {
   "cell_type": "code",
   "execution_count": 35,
   "metadata": {},
   "outputs": [
    {
     "data": {
      "application/vnd.plotly.v1+json": {
       "config": {
        "linkText": "Export to plot.ly",
        "plotlyServerURL": "https://plot.ly",
        "showLink": true
       },
       "data": [
        {
         "line": {
          "color": "rgba(255, 153, 51, 1.0)",
          "dash": "solid",
          "shape": "linear",
          "width": 1.3
         },
         "marker": {
          "size": 10,
          "symbol": "circle"
         },
         "mode": "markers",
         "name": "Gls/90",
         "text": [
          "Oskar Repka",
          "Marcel Mehlem",
          "Jessie Guera Djou",
          "Andjelo Kacavenda",
          "Michal Ozga",
          "Josip Zeljkovic",
          "Lukasz Duszkiewicz",
          "Bartlomiej Gajda",
          "Aleksa Pejic",
          "Daniel Pospisil",
          "Jakov Basic",
          "Robert Mandrysz",
          "Sasa Tomanovic",
          "Sebastian Duda",
          "Ivan Jovanovic",
          "Duje Medak",
          "Dominik Siwinski",
          "Arkadiusz Kozlowski",
          "Fanol PÃ«rdedaj",
          "Kamil Niewiadomski",
          "Lukasz Mozler",
          "Haris Memic",
          "Kristijan Jakic",
          "Filip Tolic",
          "Jakub Kisiel",
          "Dawid Kisly",
          "Taras Romanchuk",
          "Aleksander Slezak",
          "Tomasz Owczarek",
          "Richie Smallwood",
          "Mateusz Stepien",
          "Josip Bauk",
          "Domagoj Perica",
          "Uros Filipovic",
          "Stefan Velickovic",
          "Filip Sredojevic",
          "Radoslaw Kaminski",
          "Alexander Fuchs",
          "Tomas Huk",
          "Wojciech Kaminski",
          "Kasim Adams",
          "Mateusz Madzia",
          "Sebastian Kopec",
          "Jovan Simic",
          "Antonio Asanovic",
          "Marko Labovic",
          "Hubert Molski",
          "Hrvoje Dzijan",
          "Amos Youga",
          "Mario Erb",
          "Fabio DaprelÃ",
          "Kresimir Jelic",
          "Jakob Johansson",
          "Liam Gordon",
          "Jakub Hric",
          "Damian Koziel",
          "Malcom Edjouma",
          "Piotr Wujec",
          "Donald Molls",
          "Luka Pavkovic",
          "Norbert Radkiewicz",
          "Danilo Wiebe",
          "Kristi Qose",
          "Nikola Puzic",
          "Radoslaw Kursa",
          "Jonas Bager",
          "Jon Flanagan",
          "Vuk Mitosevic",
          "Tom Hateley",
          "Sasa Balic",
          "Mohamed Loua",
          "Dawid Bialek",
          "Ben Thompson",
          "Pawel Kohut",
          "Daniel Haritonov",
          "Andrej Causic",
          "Sebastian Smialek",
          "Luka Miljevic",
          "Andrzej Korytek",
          "Mario Cuic",
          "Lubomir Satka",
          "Vukasin Krstic",
          "Peter Drobnak",
          "Marko Filipovic",
          "Martin Vukorepa",
          "Nicklas Shipnoski",
          "Joey Pelupessy",
          "Antonio Mrkovic",
          "Kamal Bafounta",
          "Adrian Liberacki",
          "Tevin Ihrig",
          "Sandi Lovric",
          "Patrick Wolfgang Kapp",
          "Ivan Roca",
          "Karol Drwecki",
          "Zlatko Ilicic",
          "Luka Cakarun",
          "Tan Jiajie",
          "Domagoj Zigri",
          "Casper Elderman",
          "Samuel Lengle",
          "Luka Cankovic",
          "Kenny Dougall",
          "AurÃ©lien Nguiamba",
          "Fahri Akyol",
          "Andrija Crnadak",
          "Grzegorz Wawrzynski",
          "Julian Rieckmann",
          "Leandro",
          "Milos Brajovic",
          "Nathan Baker",
          "Matthias Rahn",
          "Petar Mitic",
          "Dusan Stevanovic",
          "Jan Janik",
          "Fran Tomek",
          "Tomasz Lewandowski",
          "Mateusz Dlugolecki",
          "Pawel Baranowski",
          "David Jablonsky",
          "Adam Mesjasz",
          "Oliver Praznovsky",
          "Florian Egerer",
          "Maxim Kventser",
          "Nikola Bjelanovic",
          "Bojan Cigulajkic",
          "Philip Heise",
          "Thomas Haas",
          "Milan Janjic",
          "Max Dombrowka",
          "Ervin Kacar",
          "Ãscar Gil",
          "Maxime Le Marchand",
          "Jan LÃ¶hmannsrÃ¶ben",
          "Andrzej Kloda",
          "Adrian Polanski",
          "RamÃ³n",
          "Jan Sieracki",
          "Dusan Jokovic",
          "Daniel Dziwniel",
          "Patryk Wilk",
          "Sebastian Zalepa",
          "Jan Sterba",
          "Stefan Draskovic",
          "Damian Garbacik",
          "Bartosz Kopacz",
          "Szymon Kobeszko",
          "Massadio HaÃ¯dara",
          "Manuel Martic",
          "Filip Bainovic",
          "Adrian Niewiadomski",
          "Marcin Mackowiak",
          "Pierre Fassnacht",
          "Michael Heinloth",
          "Nenad Kocovic",
          "Miladin Stevanovic",
          "Jakub Pruzanin",
          "Bartlomiej Mruk",
          "Herbert Paul",
          "Donatas Nakrosius",
          "Ivan Zgrablic",
          "Robin Urban",
          "Kacper Gorski",
          "Adrian Filipiak",
          "Adrian Purzycki",
          "Kostas Triantafyllopoulos",
          "Aleksandar Bjelica",
          "Tomas Petrasek",
          "Miquel Nelom",
          "Koen Weuts",
          "Aleksandar Petrovic",
          "Marcin Dabrowski",
          "Niko Datkovic",
          "Michal Zieba",
          "Rafal Ostrowski",
          "Ivan Tomac",
          "David Urban",
          "Andrej Startsev",
          "Nemanja Vidic",
          "Petar Botica",
          "Bojan Gocanin",
          "Fabian Holthaus",
          "Tim HÃ¤uÃler",
          "Mikkel Kirkeskov",
          "Ovidiu Popescu",
          "Iliya Gruev",
          "Filip Jovic",
          "Douglas Bergqvist",
          "Marcin Sudy",
          "Mart Ristl",
          "Lovro Sindik",
          "Mladen Micanovic",
          "Blazej Cyfert",
          "Luca Zander",
          "Igor Sapala",
          "Jan Sobocinski",
          "Artur Gac",
          "Kacper Jozefiak",
          "Zvezdan Djordjilovic",
          "David Bumberger",
          "Ivan Bosnjak",
          "Michal Wrzesniewski",
          "Aleksandar Ignjovski",
          "Turgay Gemicibasi",
          "Nenad Kiso",
          "Lukasz Sztylka",
          "Noboru Shimura",
          "Derrick Williams",
          "Dino Stiglec",
          "Kyriakos Savvidis",
          "Niklas Landgraf",
          "Tomasz Wojcinowicz",
          "Mateusz Pienczak",
          "Jaroslaw Kubicki",
          "Patrick Kammerbauer",
          "Luis GÃ¶rlich",
          "Chris Wolf",
          "Josip Sutalo",
          "Jakub Zima",
          "Ernest Dzieciol",
          "Norbert Myszka",
          "Robin FluÃ",
          "Nemanja Milovanovic",
          "Syam Ben Youssef",
          "Adrian Rybak",
          "Rafal Remisz",
          "Bartlomiej Kasprzak",
          "Miroslav Bogosavac",
          "Dragoljub Srnic",
          "Kaan Kurt",
          "Ivan Runje",
          "Sonny Bradley",
          "Adam Pazio",
          "Ariel Borysiuk",
          "Krystian Stolarczyk",
          "Damian Kostkowski",
          "Dominik Nothnagel",
          "Michel StÃ¶cker",
          "Ryan Malone",
          "Milan Makaric",
          "Matej Hybs",
          "Sven Botman",
          "Piotr Bartloszewski",
          "Mariusz Holik",
          "Mateo Jaksic",
          "Ashton GÃ¶tz",
          "Marcos RodrÃ­guez",
          "Jakub Swiecinski",
          "Marius GrÃ¶sch",
          "Aleksa Jovanovic",
          "Aleksandar Varjacic",
          "Mirko Djermanovic",
          "Igor Biedrzycki",
          "Lukas Duriska",
          "Julien Tadrowski",
          "Jakub Niewiadomski",
          "Philipp Riese",
          "Bartlomiej Lorenc",
          "Julian Wolff",
          "Adrian Bielawski",
          "Filip Zderic",
          "Eric Weeger",
          "Bartosz Kieliba",
          "Filp Ceko",
          "Ariel Mosor",
          "Srdjan Grabez",
          "Bozidar Petrovic",
          "Benjamin Himmel",
          "Marco Komenda",
          "Wiktor Nahrebecki",
          "Niclas Stierlin",
          null
         ],
         "type": "scatter",
         "x": [
          "0.64",
          "1.21",
          "0.52",
          "0.81",
          "0.98",
          "1.06",
          "0.72",
          "0.97",
          "0.72",
          "1.49",
          "0.56",
          "1.15",
          "0.90",
          "0.46",
          "0.57",
          "0.81",
          "2.15",
          "0.74",
          "0.88",
          "0.66",
          "0.92",
          "0.64",
          "0.38",
          "0.39",
          "1.06",
          "0.70",
          "0.66",
          "2.22",
          "0.75",
          "0.36",
          "1.20",
          "0.31",
          "0.53",
          "1.14",
          "0.61",
          "0.62",
          "1.32",
          "0.52",
          "0.74",
          "0.48",
          "0.88",
          "1.26",
          "2.25",
          "0.53",
          "0.68",
          "0.70",
          "2.00",
          "0.53",
          "0.76",
          "1.36",
          "0.56",
          "1.42",
          "0.84",
          "0.81",
          "1.80",
          "0.36",
          "0.28",
          "1.22",
          "0.37",
          "0.32",
          "0.37",
          "1.05",
          "1.10",
          "0.96",
          "0.63",
          "0.74",
          "0.67",
          "0.51",
          "0.19",
          "1.18",
          "0.85",
          "1.02",
          "0.65",
          "0.95",
          "0.32",
          "0.49",
          "0.72",
          "0.82",
          "0.93",
          "0.42",
          "0.46",
          "0.45",
          "0.45",
          "0.47",
          "0.79",
          "2.06",
          "0.44",
          "1.24",
          "1.48",
          "0.37",
          "0.44",
          "1.02",
          "0.85",
          "0.63",
          "3.51",
          "1.12",
          "1.10",
          "0.31",
          "1.25",
          "0.43",
          "1.41",
          "0.78",
          "0.13",
          "0.53",
          "0.28",
          "1.00",
          "0.31",
          "0.63",
          "0.67",
          "0.09",
          "0.17",
          "0.66",
          "0.98",
          "0.68",
          "0.71",
          "0.62",
          "1.45",
          "2.05",
          "0.53",
          "1.21",
          "0.75",
          "0.96",
          "0.75",
          "0.29",
          "2.62",
          "0.28",
          "0.15",
          "2.24",
          "0.55",
          "1.08",
          "2.31",
          "0.33",
          "0.08",
          "1.61",
          "2.18",
          "2.30",
          "1.35",
          "2.82",
          "0.38",
          "0.44",
          "0.36",
          "0.54",
          "0.66",
          "2.55",
          "0.41",
          "0.36",
          "0.67",
          "0.24",
          "0.40",
          "0.43",
          "1.21",
          "0.71",
          "0.48",
          "1.36",
          "0.34",
          "0.95",
          "0.88",
          "1.00",
          "0.84",
          "0.40",
          "0.60",
          "0.53",
          "0.95",
          "0.19",
          "0.62",
          "0.66",
          "0.69",
          "0.40",
          "0.36",
          "0.38",
          "0.95",
          "0.27",
          "0.40",
          "1.82",
          "1.19",
          "1.31",
          "0.48",
          "0.88",
          "0.90",
          "0.49",
          "0.33",
          "0.05",
          "0.18",
          "0.25",
          "0.78",
          "0.55",
          "0.77",
          "0.75",
          "1.20",
          "1.11",
          "0.36",
          "1.92",
          "0.95",
          "0.61",
          "0.55",
          "0.58",
          "0.32",
          "1.08",
          "0.29",
          "0.28",
          "0.50",
          "0.47",
          "1.30",
          "0.66",
          "0.34",
          "0.44",
          "0.16",
          "0.63",
          "0.27",
          "0.50",
          "0.21",
          "1.32",
          "0.82",
          "0.27",
          "0.24",
          "1.66",
          "1.49",
          "0.85",
          "0.31",
          "0.43",
          "0.96",
          "0.58",
          "0.30",
          "0.43",
          "1.15",
          "0.75",
          "0.45",
          "0.19",
          "0.87",
          "1.16",
          "1.28",
          "0.29",
          "0.78",
          "1.00",
          "1.11",
          "0.71",
          "0.29",
          "1.31",
          "0.71",
          "1.12",
          "0.19",
          "0.22",
          "1.98",
          "1.90",
          "0.65",
          "0.38",
          "-",
          "0.23",
          "0.36",
          "0.78",
          "0.85",
          "0.49",
          "1.34",
          "0.56",
          "1.14",
          "0.28",
          "0.97",
          "0.21",
          "0.59",
          "2.32",
          "1.47",
          "1.71",
          "0.26",
          "0.72",
          "1.28",
          "0.07",
          "1.50",
          "0.53",
          "0.46",
          "1.18",
          "0.67",
          null
         ],
         "y": [
          "-",
          "0.07",
          "-",
          "0.05",
          "0.10",
          "-",
          "0.13",
          "0.11",
          "-",
          "-",
          "-",
          "0.06",
          "-",
          "-",
          "0.05",
          "0.06",
          "0.25",
          "-",
          "0.11",
          "0.09",
          "-",
          "-",
          "-",
          "-",
          "0.08",
          "-",
          "-",
          "0.28",
          "-",
          "-",
          "-",
          "-",
          "0.11",
          "0.05",
          "-",
          "-",
          "0.12",
          "-",
          "0.07",
          "0.05",
          "0.15",
          "-",
          "0.22",
          "-",
          "-",
          "0.10",
          "-",
          "0.07",
          "-",
          "0.05",
          "0.06",
          "0.11",
          "0.19",
          "0.06",
          "0.13",
          "-",
          "-",
          "0.06",
          "-",
          "-",
          "-",
          "-",
          "-",
          "0.07",
          "-",
          "0.07",
          "-",
          "-",
          "-",
          "-",
          "-",
          "0.08",
          "-",
          "0.06",
          "-",
          "0.05",
          "0.05",
          "0.05",
          "0.07",
          "-",
          "-",
          "0.15",
          "-",
          "-",
          "0.14",
          "0.32",
          "-",
          "-",
          "-",
          "-",
          "-",
          "0.13",
          "0.05",
          "0.13",
          "0.32",
          "0.12",
          "0.11",
          "-",
          "0.18",
          "-",
          "0.23",
          "0.12",
          "-",
          "-",
          "0.06",
          "0.10",
          "-",
          "-",
          "0.07",
          "-",
          "-",
          "0.05",
          "-",
          "0.07",
          "0.09",
          "0.14",
          "0.05",
          "0.11",
          "0.08",
          "0.07",
          "-",
          "0.07",
          "-",
          "0.12",
          "0.11",
          "0.06",
          "0.07",
          "0.08",
          "0.07",
          "0.15",
          "0.06",
          "0.08",
          "0.08",
          "0.09",
          "-",
          "0.24",
          "0.11",
          "0.09",
          "0.06",
          "-",
          "-",
          "-",
          "-",
          "0.30",
          "0.05",
          "-",
          "-",
          "-",
          "-",
          "-",
          "0.06",
          "0.06",
          "-",
          "0.05",
          "-",
          "-",
          "0.06",
          "-",
          "-",
          "0.07",
          "-",
          "0.05",
          "0.05",
          "-",
          "-",
          "0.06",
          "0.09",
          "0.04",
          "-",
          "-",
          "-",
          "-",
          "0.04",
          "0.19",
          "0.11",
          "-",
          "-",
          "-",
          "0.05",
          "-",
          "-",
          "-",
          "-",
          "0.06",
          "-",
          "-",
          "-",
          "-",
          "0.06",
          "0.23",
          "0.07",
          "0.21",
          "-",
          "0.12",
          "0.14",
          "-",
          "-",
          "-",
          "-",
          "-",
          "-",
          "-",
          "0.38",
          "0.18",
          "0.10",
          "-",
          "-",
          "-",
          "-",
          "-",
          "-",
          "0.11",
          "-",
          "0.09",
          "0.06",
          "0.05",
          "0.16",
          "-",
          "0.08",
          "-",
          "0.11",
          "0.12",
          "-",
          "0.07",
          "0.06",
          "0.06",
          "-",
          "-",
          "-",
          "0.06",
          "0.16",
          "0.06",
          "0.11",
          "0.05",
          "-",
          "0.05",
          "-",
          "-",
          "0.05",
          "0.06",
          "-",
          "-",
          "0.24",
          "0.22",
          "0.07",
          "-",
          "-",
          "-",
          "0.07",
          "0.05",
          "0.06",
          "-",
          "0.06",
          "-",
          "0.06",
          "0.07",
          "-",
          "0.05",
          "-",
          "0.06",
          "-",
          "-",
          "-",
          "0.06",
          "-",
          "-",
          "0.06",
          "0.05",
          "-",
          "0.07",
          "-",
          ""
         ]
        }
       ],
       "layout": {
        "legend": {
         "bgcolor": "#F5F6F9",
         "font": {
          "color": "#4D5663"
         }
        },
        "paper_bgcolor": "#F5F6F9",
        "plot_bgcolor": "#F5F6F9",
        "template": {
         "data": {
          "bar": [
           {
            "error_x": {
             "color": "#2a3f5f"
            },
            "error_y": {
             "color": "#2a3f5f"
            },
            "marker": {
             "line": {
              "color": "#E5ECF6",
              "width": 0.5
             }
            },
            "type": "bar"
           }
          ],
          "barpolar": [
           {
            "marker": {
             "line": {
              "color": "#E5ECF6",
              "width": 0.5
             }
            },
            "type": "barpolar"
           }
          ],
          "carpet": [
           {
            "aaxis": {
             "endlinecolor": "#2a3f5f",
             "gridcolor": "white",
             "linecolor": "white",
             "minorgridcolor": "white",
             "startlinecolor": "#2a3f5f"
            },
            "baxis": {
             "endlinecolor": "#2a3f5f",
             "gridcolor": "white",
             "linecolor": "white",
             "minorgridcolor": "white",
             "startlinecolor": "#2a3f5f"
            },
            "type": "carpet"
           }
          ],
          "choropleth": [
           {
            "colorbar": {
             "outlinewidth": 0,
             "ticks": ""
            },
            "type": "choropleth"
           }
          ],
          "contour": [
           {
            "colorbar": {
             "outlinewidth": 0,
             "ticks": ""
            },
            "colorscale": [
             [
              0,
              "#0d0887"
             ],
             [
              0.1111111111111111,
              "#46039f"
             ],
             [
              0.2222222222222222,
              "#7201a8"
             ],
             [
              0.3333333333333333,
              "#9c179e"
             ],
             [
              0.4444444444444444,
              "#bd3786"
             ],
             [
              0.5555555555555556,
              "#d8576b"
             ],
             [
              0.6666666666666666,
              "#ed7953"
             ],
             [
              0.7777777777777778,
              "#fb9f3a"
             ],
             [
              0.8888888888888888,
              "#fdca26"
             ],
             [
              1,
              "#f0f921"
             ]
            ],
            "type": "contour"
           }
          ],
          "contourcarpet": [
           {
            "colorbar": {
             "outlinewidth": 0,
             "ticks": ""
            },
            "type": "contourcarpet"
           }
          ],
          "heatmap": [
           {
            "colorbar": {
             "outlinewidth": 0,
             "ticks": ""
            },
            "colorscale": [
             [
              0,
              "#0d0887"
             ],
             [
              0.1111111111111111,
              "#46039f"
             ],
             [
              0.2222222222222222,
              "#7201a8"
             ],
             [
              0.3333333333333333,
              "#9c179e"
             ],
             [
              0.4444444444444444,
              "#bd3786"
             ],
             [
              0.5555555555555556,
              "#d8576b"
             ],
             [
              0.6666666666666666,
              "#ed7953"
             ],
             [
              0.7777777777777778,
              "#fb9f3a"
             ],
             [
              0.8888888888888888,
              "#fdca26"
             ],
             [
              1,
              "#f0f921"
             ]
            ],
            "type": "heatmap"
           }
          ],
          "heatmapgl": [
           {
            "colorbar": {
             "outlinewidth": 0,
             "ticks": ""
            },
            "colorscale": [
             [
              0,
              "#0d0887"
             ],
             [
              0.1111111111111111,
              "#46039f"
             ],
             [
              0.2222222222222222,
              "#7201a8"
             ],
             [
              0.3333333333333333,
              "#9c179e"
             ],
             [
              0.4444444444444444,
              "#bd3786"
             ],
             [
              0.5555555555555556,
              "#d8576b"
             ],
             [
              0.6666666666666666,
              "#ed7953"
             ],
             [
              0.7777777777777778,
              "#fb9f3a"
             ],
             [
              0.8888888888888888,
              "#fdca26"
             ],
             [
              1,
              "#f0f921"
             ]
            ],
            "type": "heatmapgl"
           }
          ],
          "histogram": [
           {
            "marker": {
             "colorbar": {
              "outlinewidth": 0,
              "ticks": ""
             }
            },
            "type": "histogram"
           }
          ],
          "histogram2d": [
           {
            "colorbar": {
             "outlinewidth": 0,
             "ticks": ""
            },
            "colorscale": [
             [
              0,
              "#0d0887"
             ],
             [
              0.1111111111111111,
              "#46039f"
             ],
             [
              0.2222222222222222,
              "#7201a8"
             ],
             [
              0.3333333333333333,
              "#9c179e"
             ],
             [
              0.4444444444444444,
              "#bd3786"
             ],
             [
              0.5555555555555556,
              "#d8576b"
             ],
             [
              0.6666666666666666,
              "#ed7953"
             ],
             [
              0.7777777777777778,
              "#fb9f3a"
             ],
             [
              0.8888888888888888,
              "#fdca26"
             ],
             [
              1,
              "#f0f921"
             ]
            ],
            "type": "histogram2d"
           }
          ],
          "histogram2dcontour": [
           {
            "colorbar": {
             "outlinewidth": 0,
             "ticks": ""
            },
            "colorscale": [
             [
              0,
              "#0d0887"
             ],
             [
              0.1111111111111111,
              "#46039f"
             ],
             [
              0.2222222222222222,
              "#7201a8"
             ],
             [
              0.3333333333333333,
              "#9c179e"
             ],
             [
              0.4444444444444444,
              "#bd3786"
             ],
             [
              0.5555555555555556,
              "#d8576b"
             ],
             [
              0.6666666666666666,
              "#ed7953"
             ],
             [
              0.7777777777777778,
              "#fb9f3a"
             ],
             [
              0.8888888888888888,
              "#fdca26"
             ],
             [
              1,
              "#f0f921"
             ]
            ],
            "type": "histogram2dcontour"
           }
          ],
          "mesh3d": [
           {
            "colorbar": {
             "outlinewidth": 0,
             "ticks": ""
            },
            "type": "mesh3d"
           }
          ],
          "parcoords": [
           {
            "line": {
             "colorbar": {
              "outlinewidth": 0,
              "ticks": ""
             }
            },
            "type": "parcoords"
           }
          ],
          "pie": [
           {
            "automargin": true,
            "type": "pie"
           }
          ],
          "scatter": [
           {
            "marker": {
             "colorbar": {
              "outlinewidth": 0,
              "ticks": ""
             }
            },
            "type": "scatter"
           }
          ],
          "scatter3d": [
           {
            "line": {
             "colorbar": {
              "outlinewidth": 0,
              "ticks": ""
             }
            },
            "marker": {
             "colorbar": {
              "outlinewidth": 0,
              "ticks": ""
             }
            },
            "type": "scatter3d"
           }
          ],
          "scattercarpet": [
           {
            "marker": {
             "colorbar": {
              "outlinewidth": 0,
              "ticks": ""
             }
            },
            "type": "scattercarpet"
           }
          ],
          "scattergeo": [
           {
            "marker": {
             "colorbar": {
              "outlinewidth": 0,
              "ticks": ""
             }
            },
            "type": "scattergeo"
           }
          ],
          "scattergl": [
           {
            "marker": {
             "colorbar": {
              "outlinewidth": 0,
              "ticks": ""
             }
            },
            "type": "scattergl"
           }
          ],
          "scattermapbox": [
           {
            "marker": {
             "colorbar": {
              "outlinewidth": 0,
              "ticks": ""
             }
            },
            "type": "scattermapbox"
           }
          ],
          "scatterpolar": [
           {
            "marker": {
             "colorbar": {
              "outlinewidth": 0,
              "ticks": ""
             }
            },
            "type": "scatterpolar"
           }
          ],
          "scatterpolargl": [
           {
            "marker": {
             "colorbar": {
              "outlinewidth": 0,
              "ticks": ""
             }
            },
            "type": "scatterpolargl"
           }
          ],
          "scatterternary": [
           {
            "marker": {
             "colorbar": {
              "outlinewidth": 0,
              "ticks": ""
             }
            },
            "type": "scatterternary"
           }
          ],
          "surface": [
           {
            "colorbar": {
             "outlinewidth": 0,
             "ticks": ""
            },
            "colorscale": [
             [
              0,
              "#0d0887"
             ],
             [
              0.1111111111111111,
              "#46039f"
             ],
             [
              0.2222222222222222,
              "#7201a8"
             ],
             [
              0.3333333333333333,
              "#9c179e"
             ],
             [
              0.4444444444444444,
              "#bd3786"
             ],
             [
              0.5555555555555556,
              "#d8576b"
             ],
             [
              0.6666666666666666,
              "#ed7953"
             ],
             [
              0.7777777777777778,
              "#fb9f3a"
             ],
             [
              0.8888888888888888,
              "#fdca26"
             ],
             [
              1,
              "#f0f921"
             ]
            ],
            "type": "surface"
           }
          ],
          "table": [
           {
            "cells": {
             "fill": {
              "color": "#EBF0F8"
             },
             "line": {
              "color": "white"
             }
            },
            "header": {
             "fill": {
              "color": "#C8D4E3"
             },
             "line": {
              "color": "white"
             }
            },
            "type": "table"
           }
          ]
         },
         "layout": {
          "annotationdefaults": {
           "arrowcolor": "#2a3f5f",
           "arrowhead": 0,
           "arrowwidth": 1
          },
          "coloraxis": {
           "colorbar": {
            "outlinewidth": 0,
            "ticks": ""
           }
          },
          "colorscale": {
           "diverging": [
            [
             0,
             "#8e0152"
            ],
            [
             0.1,
             "#c51b7d"
            ],
            [
             0.2,
             "#de77ae"
            ],
            [
             0.3,
             "#f1b6da"
            ],
            [
             0.4,
             "#fde0ef"
            ],
            [
             0.5,
             "#f7f7f7"
            ],
            [
             0.6,
             "#e6f5d0"
            ],
            [
             0.7,
             "#b8e186"
            ],
            [
             0.8,
             "#7fbc41"
            ],
            [
             0.9,
             "#4d9221"
            ],
            [
             1,
             "#276419"
            ]
           ],
           "sequential": [
            [
             0,
             "#0d0887"
            ],
            [
             0.1111111111111111,
             "#46039f"
            ],
            [
             0.2222222222222222,
             "#7201a8"
            ],
            [
             0.3333333333333333,
             "#9c179e"
            ],
            [
             0.4444444444444444,
             "#bd3786"
            ],
            [
             0.5555555555555556,
             "#d8576b"
            ],
            [
             0.6666666666666666,
             "#ed7953"
            ],
            [
             0.7777777777777778,
             "#fb9f3a"
            ],
            [
             0.8888888888888888,
             "#fdca26"
            ],
            [
             1,
             "#f0f921"
            ]
           ],
           "sequentialminus": [
            [
             0,
             "#0d0887"
            ],
            [
             0.1111111111111111,
             "#46039f"
            ],
            [
             0.2222222222222222,
             "#7201a8"
            ],
            [
             0.3333333333333333,
             "#9c179e"
            ],
            [
             0.4444444444444444,
             "#bd3786"
            ],
            [
             0.5555555555555556,
             "#d8576b"
            ],
            [
             0.6666666666666666,
             "#ed7953"
            ],
            [
             0.7777777777777778,
             "#fb9f3a"
            ],
            [
             0.8888888888888888,
             "#fdca26"
            ],
            [
             1,
             "#f0f921"
            ]
           ]
          },
          "colorway": [
           "#636efa",
           "#EF553B",
           "#00cc96",
           "#ab63fa",
           "#FFA15A",
           "#19d3f3",
           "#FF6692",
           "#B6E880",
           "#FF97FF",
           "#FECB52"
          ],
          "font": {
           "color": "#2a3f5f"
          },
          "geo": {
           "bgcolor": "white",
           "lakecolor": "white",
           "landcolor": "#E5ECF6",
           "showlakes": true,
           "showland": true,
           "subunitcolor": "white"
          },
          "hoverlabel": {
           "align": "left"
          },
          "hovermode": "closest",
          "mapbox": {
           "style": "light"
          },
          "paper_bgcolor": "white",
          "plot_bgcolor": "#E5ECF6",
          "polar": {
           "angularaxis": {
            "gridcolor": "white",
            "linecolor": "white",
            "ticks": ""
           },
           "bgcolor": "#E5ECF6",
           "radialaxis": {
            "gridcolor": "white",
            "linecolor": "white",
            "ticks": ""
           }
          },
          "scene": {
           "xaxis": {
            "backgroundcolor": "#E5ECF6",
            "gridcolor": "white",
            "gridwidth": 2,
            "linecolor": "white",
            "showbackground": true,
            "ticks": "",
            "zerolinecolor": "white"
           },
           "yaxis": {
            "backgroundcolor": "#E5ECF6",
            "gridcolor": "white",
            "gridwidth": 2,
            "linecolor": "white",
            "showbackground": true,
            "ticks": "",
            "zerolinecolor": "white"
           },
           "zaxis": {
            "backgroundcolor": "#E5ECF6",
            "gridcolor": "white",
            "gridwidth": 2,
            "linecolor": "white",
            "showbackground": true,
            "ticks": "",
            "zerolinecolor": "white"
           }
          },
          "shapedefaults": {
           "line": {
            "color": "#2a3f5f"
           }
          },
          "ternary": {
           "aaxis": {
            "gridcolor": "white",
            "linecolor": "white",
            "ticks": ""
           },
           "baxis": {
            "gridcolor": "white",
            "linecolor": "white",
            "ticks": ""
           },
           "bgcolor": "#E5ECF6",
           "caxis": {
            "gridcolor": "white",
            "linecolor": "white",
            "ticks": ""
           }
          },
          "title": {
           "x": 0.05
          },
          "xaxis": {
           "automargin": true,
           "gridcolor": "white",
           "linecolor": "white",
           "ticks": "",
           "title": {
            "standoff": 15
           },
           "zerolinecolor": "white",
           "zerolinewidth": 2
          },
          "yaxis": {
           "automargin": true,
           "gridcolor": "white",
           "linecolor": "white",
           "ticks": "",
           "title": {
            "standoff": 15
           },
           "zerolinecolor": "white",
           "zerolinewidth": 2
          }
         }
        },
        "title": {
         "font": {
          "color": "#4D5663"
         },
         "text": "False Nine - Support"
        },
        "xaxis": {
         "gridcolor": "#E1E5ED",
         "showgrid": true,
         "tickfont": {
          "color": "#4D5663"
         },
         "title": {
          "font": {
           "color": "#4D5663"
          },
          "text": "Shots/90"
         },
         "zerolinecolor": "#E1E5ED"
        },
        "yaxis": {
         "gridcolor": "#E1E5ED",
         "showgrid": true,
         "tickfont": {
          "color": "#4D5663"
         },
         "title": {
          "font": {
           "color": "#4D5663"
          },
          "text": "Goals/90"
         },
         "zerolinecolor": "#E1E5ED"
        }
       }
      },
      "text/html": [
       "<div>\n",
       "        \n",
       "        \n",
       "            <div id=\"757ccad7-2d01-4e20-9001-9c5ba250e344\" class=\"plotly-graph-div\" style=\"height:525px; width:100%;\"></div>\n",
       "            <script type=\"text/javascript\">\n",
       "                require([\"plotly\"], function(Plotly) {\n",
       "                    window.PLOTLYENV=window.PLOTLYENV || {};\n",
       "                    window.PLOTLYENV.BASE_URL='https://plot.ly';\n",
       "                    \n",
       "                if (document.getElementById(\"757ccad7-2d01-4e20-9001-9c5ba250e344\")) {\n",
       "                    Plotly.newPlot(\n",
       "                        '757ccad7-2d01-4e20-9001-9c5ba250e344',\n",
       "                        [{\"line\": {\"color\": \"rgba(255, 153, 51, 1.0)\", \"dash\": \"solid\", \"shape\": \"linear\", \"width\": 1.3}, \"marker\": {\"size\": 10, \"symbol\": \"circle\"}, \"mode\": \"markers\", \"name\": \"Gls/90\", \"text\": [\"Oskar Repka\", \"Marcel Mehlem\", \"Jessie Guera Djou\", \"Andjelo Kacavenda\", \"Michal Ozga\", \"Josip Zeljkovic\", \"Lukasz Duszkiewicz\", \"Bartlomiej Gajda\", \"Aleksa Pejic\", \"Daniel Pospisil\", \"Jakov Basic\", \"Robert Mandrysz\", \"Sasa Tomanovic\", \"Sebastian Duda\", \"Ivan Jovanovic\", \"Duje Medak\", \"Dominik Siwinski\", \"Arkadiusz Kozlowski\", \"Fanol P\\u00c3\\u00abrdedaj\", \"Kamil Niewiadomski\", \"Lukasz Mozler\", \"Haris Memic\", \"Kristijan Jakic\", \"Filip Tolic\", \"Jakub Kisiel\", \"Dawid Kisly\", \"Taras Romanchuk\", \"Aleksander Slezak\", \"Tomasz Owczarek\", \"Richie Smallwood\", \"Mateusz Stepien\", \"Josip Bauk\", \"Domagoj Perica\", \"Uros Filipovic\", \"Stefan Velickovic\", \"Filip Sredojevic\", \"Radoslaw Kaminski\", \"Alexander Fuchs\", \"Tomas Huk\", \"Wojciech Kaminski\", \"Kasim Adams\", \"Mateusz Madzia\", \"Sebastian Kopec\", \"Jovan Simic\", \"Antonio Asanovic\", \"Marko Labovic\", \"Hubert Molski\", \"Hrvoje Dzijan\", \"Amos Youga\", \"Mario Erb\", \"Fabio Daprel\\u00c3\", \"Kresimir Jelic\", \"Jakob Johansson\", \"Liam Gordon\", \"Jakub Hric\", \"Damian Koziel\", \"Malcom Edjouma\", \"Piotr Wujec\", \"Donald Molls\", \"Luka Pavkovic\", \"Norbert Radkiewicz\", \"Danilo Wiebe\", \"Kristi Qose\", \"Nikola Puzic\", \"Radoslaw Kursa\", \"Jonas Bager\", \"Jon Flanagan\", \"Vuk Mitosevic\", \"Tom Hateley\", \"Sasa Balic\", \"Mohamed Loua\", \"Dawid Bialek\", \"Ben Thompson\", \"Pawel Kohut\", \"Daniel Haritonov\", \"Andrej Causic\", \"Sebastian Smialek\", \"Luka Miljevic\", \"Andrzej Korytek\", \"Mario Cuic\", \"Lubomir Satka\", \"Vukasin Krstic\", \"Peter Drobnak\", \"Marko Filipovic\", \"Martin Vukorepa\", \"Nicklas Shipnoski\", \"Joey Pelupessy\", \"Antonio Mrkovic\", \"Kamal Bafounta\", \"Adrian Liberacki\", \"Tevin Ihrig\", \"Sandi Lovric\", \"Patrick Wolfgang Kapp\", \"Ivan Roca\", \"Karol Drwecki\", \"Zlatko Ilicic\", \"Luka Cakarun\", \"Tan Jiajie\", \"Domagoj Zigri\", \"Casper Elderman\", \"Samuel Lengle\", \"Luka Cankovic\", \"Kenny Dougall\", \"Aur\\u00c3\\u00a9lien Nguiamba\", \"Fahri Akyol\", \"Andrija Crnadak\", \"Grzegorz Wawrzynski\", \"Julian Rieckmann\", \"Leandro\", \"Milos Brajovic\", \"Nathan Baker\", \"Matthias Rahn\", \"Petar Mitic\", \"Dusan Stevanovic\", \"Jan Janik\", \"Fran Tomek\", \"Tomasz Lewandowski\", \"Mateusz Dlugolecki\", \"Pawel Baranowski\", \"David Jablonsky\", \"Adam Mesjasz\", \"Oliver Praznovsky\", \"Florian Egerer\", \"Maxim Kventser\", \"Nikola Bjelanovic\", \"Bojan Cigulajkic\", \"Philip Heise\", \"Thomas Haas\", \"Milan Janjic\", \"Max Dombrowka\", \"Ervin Kacar\", \"\\u00c3\\u0093scar Gil\", \"Maxime Le Marchand\", \"Jan L\\u00c3\\u00b6hmannsr\\u00c3\\u00b6ben\", \"Andrzej Kloda\", \"Adrian Polanski\", \"Ram\\u00c3\\u00b3n\", \"Jan Sieracki\", \"Dusan Jokovic\", \"Daniel Dziwniel\", \"Patryk Wilk\", \"Sebastian Zalepa\", \"Jan Sterba\", \"Stefan Draskovic\", \"Damian Garbacik\", \"Bartosz Kopacz\", \"Szymon Kobeszko\", \"Massadio Ha\\u00c3\\u00afdara\", \"Manuel Martic\", \"Filip Bainovic\", \"Adrian Niewiadomski\", \"Marcin Mackowiak\", \"Pierre Fassnacht\", \"Michael Heinloth\", \"Nenad Kocovic\", \"Miladin Stevanovic\", \"Jakub Pruzanin\", \"Bartlomiej Mruk\", \"Herbert Paul\", \"Donatas Nakrosius\", \"Ivan Zgrablic\", \"Robin Urban\", \"Kacper Gorski\", \"Adrian Filipiak\", \"Adrian Purzycki\", \"Kostas Triantafyllopoulos\", \"Aleksandar Bjelica\", \"Tomas Petrasek\", \"Miquel Nelom\", \"Koen Weuts\", \"Aleksandar Petrovic\", \"Marcin Dabrowski\", \"Niko Datkovic\", \"Michal Zieba\", \"Rafal Ostrowski\", \"Ivan Tomac\", \"David Urban\", \"Andrej Startsev\", \"Nemanja Vidic\", \"Petar Botica\", \"Bojan Gocanin\", \"Fabian Holthaus\", \"Tim H\\u00c3\\u00a4u\\u00c3\\u009fler\", \"Mikkel Kirkeskov\", \"Ovidiu Popescu\", \"Iliya Gruev\", \"Filip Jovic\", \"Douglas Bergqvist\", \"Marcin Sudy\", \"Mart Ristl\", \"Lovro Sindik\", \"Mladen Micanovic\", \"Blazej Cyfert\", \"Luca Zander\", \"Igor Sapala\", \"Jan Sobocinski\", \"Artur Gac\", \"Kacper Jozefiak\", \"Zvezdan Djordjilovic\", \"David Bumberger\", \"Ivan Bosnjak\", \"Michal Wrzesniewski\", \"Aleksandar Ignjovski\", \"Turgay Gemicibasi\", \"Nenad Kiso\", \"Lukasz Sztylka\", \"Noboru Shimura\", \"Derrick Williams\", \"Dino Stiglec\", \"Kyriakos Savvidis\", \"Niklas Landgraf\", \"Tomasz Wojcinowicz\", \"Mateusz Pienczak\", \"Jaroslaw Kubicki\", \"Patrick Kammerbauer\", \"Luis G\\u00c3\\u00b6rlich\", \"Chris Wolf\", \"Josip Sutalo\", \"Jakub Zima\", \"Ernest Dzieciol\", \"Norbert Myszka\", \"Robin Flu\\u00c3\\u009f\", \"Nemanja Milovanovic\", \"Syam Ben Youssef\", \"Adrian Rybak\", \"Rafal Remisz\", \"Bartlomiej Kasprzak\", \"Miroslav Bogosavac\", \"Dragoljub Srnic\", \"Kaan Kurt\", \"Ivan Runje\", \"Sonny Bradley\", \"Adam Pazio\", \"Ariel Borysiuk\", \"Krystian Stolarczyk\", \"Damian Kostkowski\", \"Dominik Nothnagel\", \"Michel St\\u00c3\\u00b6cker\", \"Ryan Malone\", \"Milan Makaric\", \"Matej Hybs\", \"Sven Botman\", \"Piotr Bartloszewski\", \"Mariusz Holik\", \"Mateo Jaksic\", \"Ashton G\\u00c3\\u00b6tz\", \"Marcos Rodr\\u00c3\\u00adguez\", \"Jakub Swiecinski\", \"Marius Gr\\u00c3\\u00b6sch\", \"Aleksa Jovanovic\", \"Aleksandar Varjacic\", \"Mirko Djermanovic\", \"Igor Biedrzycki\", \"Lukas Duriska\", \"Julien Tadrowski\", \"Jakub Niewiadomski\", \"Philipp Riese\", \"Bartlomiej Lorenc\", \"Julian Wolff\", \"Adrian Bielawski\", \"Filip Zderic\", \"Eric Weeger\", \"Bartosz Kieliba\", \"Filp Ceko\", \"Ariel Mosor\", \"Srdjan Grabez\", \"Bozidar Petrovic\", \"Benjamin Himmel\", \"Marco Komenda\", \"Wiktor Nahrebecki\", \"Niclas Stierlin\", null], \"type\": \"scatter\", \"x\": [\"0.64\", \"1.21\", \"0.52\", \"0.81\", \"0.98\", \"1.06\", \"0.72\", \"0.97\", \"0.72\", \"1.49\", \"0.56\", \"1.15\", \"0.90\", \"0.46\", \"0.57\", \"0.81\", \"2.15\", \"0.74\", \"0.88\", \"0.66\", \"0.92\", \"0.64\", \"0.38\", \"0.39\", \"1.06\", \"0.70\", \"0.66\", \"2.22\", \"0.75\", \"0.36\", \"1.20\", \"0.31\", \"0.53\", \"1.14\", \"0.61\", \"0.62\", \"1.32\", \"0.52\", \"0.74\", \"0.48\", \"0.88\", \"1.26\", \"2.25\", \"0.53\", \"0.68\", \"0.70\", \"2.00\", \"0.53\", \"0.76\", \"1.36\", \"0.56\", \"1.42\", \"0.84\", \"0.81\", \"1.80\", \"0.36\", \"0.28\", \"1.22\", \"0.37\", \"0.32\", \"0.37\", \"1.05\", \"1.10\", \"0.96\", \"0.63\", \"0.74\", \"0.67\", \"0.51\", \"0.19\", \"1.18\", \"0.85\", \"1.02\", \"0.65\", \"0.95\", \"0.32\", \"0.49\", \"0.72\", \"0.82\", \"0.93\", \"0.42\", \"0.46\", \"0.45\", \"0.45\", \"0.47\", \"0.79\", \"2.06\", \"0.44\", \"1.24\", \"1.48\", \"0.37\", \"0.44\", \"1.02\", \"0.85\", \"0.63\", \"3.51\", \"1.12\", \"1.10\", \"0.31\", \"1.25\", \"0.43\", \"1.41\", \"0.78\", \"0.13\", \"0.53\", \"0.28\", \"1.00\", \"0.31\", \"0.63\", \"0.67\", \"0.09\", \"0.17\", \"0.66\", \"0.98\", \"0.68\", \"0.71\", \"0.62\", \"1.45\", \"2.05\", \"0.53\", \"1.21\", \"0.75\", \"0.96\", \"0.75\", \"0.29\", \"2.62\", \"0.28\", \"0.15\", \"2.24\", \"0.55\", \"1.08\", \"2.31\", \"0.33\", \"0.08\", \"1.61\", \"2.18\", \"2.30\", \"1.35\", \"2.82\", \"0.38\", \"0.44\", \"0.36\", \"0.54\", \"0.66\", \"2.55\", \"0.41\", \"0.36\", \"0.67\", \"0.24\", \"0.40\", \"0.43\", \"1.21\", \"0.71\", \"0.48\", \"1.36\", \"0.34\", \"0.95\", \"0.88\", \"1.00\", \"0.84\", \"0.40\", \"0.60\", \"0.53\", \"0.95\", \"0.19\", \"0.62\", \"0.66\", \"0.69\", \"0.40\", \"0.36\", \"0.38\", \"0.95\", \"0.27\", \"0.40\", \"1.82\", \"1.19\", \"1.31\", \"0.48\", \"0.88\", \"0.90\", \"0.49\", \"0.33\", \"0.05\", \"0.18\", \"0.25\", \"0.78\", \"0.55\", \"0.77\", \"0.75\", \"1.20\", \"1.11\", \"0.36\", \"1.92\", \"0.95\", \"0.61\", \"0.55\", \"0.58\", \"0.32\", \"1.08\", \"0.29\", \"0.28\", \"0.50\", \"0.47\", \"1.30\", \"0.66\", \"0.34\", \"0.44\", \"0.16\", \"0.63\", \"0.27\", \"0.50\", \"0.21\", \"1.32\", \"0.82\", \"0.27\", \"0.24\", \"1.66\", \"1.49\", \"0.85\", \"0.31\", \"0.43\", \"0.96\", \"0.58\", \"0.30\", \"0.43\", \"1.15\", \"0.75\", \"0.45\", \"0.19\", \"0.87\", \"1.16\", \"1.28\", \"0.29\", \"0.78\", \"1.00\", \"1.11\", \"0.71\", \"0.29\", \"1.31\", \"0.71\", \"1.12\", \"0.19\", \"0.22\", \"1.98\", \"1.90\", \"0.65\", \"0.38\", \"-\", \"0.23\", \"0.36\", \"0.78\", \"0.85\", \"0.49\", \"1.34\", \"0.56\", \"1.14\", \"0.28\", \"0.97\", \"0.21\", \"0.59\", \"2.32\", \"1.47\", \"1.71\", \"0.26\", \"0.72\", \"1.28\", \"0.07\", \"1.50\", \"0.53\", \"0.46\", \"1.18\", \"0.67\", null], \"y\": [\"-\", \"0.07\", \"-\", \"0.05\", \"0.10\", \"-\", \"0.13\", \"0.11\", \"-\", \"-\", \"-\", \"0.06\", \"-\", \"-\", \"0.05\", \"0.06\", \"0.25\", \"-\", \"0.11\", \"0.09\", \"-\", \"-\", \"-\", \"-\", \"0.08\", \"-\", \"-\", \"0.28\", \"-\", \"-\", \"-\", \"-\", \"0.11\", \"0.05\", \"-\", \"-\", \"0.12\", \"-\", \"0.07\", \"0.05\", \"0.15\", \"-\", \"0.22\", \"-\", \"-\", \"0.10\", \"-\", \"0.07\", \"-\", \"0.05\", \"0.06\", \"0.11\", \"0.19\", \"0.06\", \"0.13\", \"-\", \"-\", \"0.06\", \"-\", \"-\", \"-\", \"-\", \"-\", \"0.07\", \"-\", \"0.07\", \"-\", \"-\", \"-\", \"-\", \"-\", \"0.08\", \"-\", \"0.06\", \"-\", \"0.05\", \"0.05\", \"0.05\", \"0.07\", \"-\", \"-\", \"0.15\", \"-\", \"-\", \"0.14\", \"0.32\", \"-\", \"-\", \"-\", \"-\", \"-\", \"0.13\", \"0.05\", \"0.13\", \"0.32\", \"0.12\", \"0.11\", \"-\", \"0.18\", \"-\", \"0.23\", \"0.12\", \"-\", \"-\", \"0.06\", \"0.10\", \"-\", \"-\", \"0.07\", \"-\", \"-\", \"0.05\", \"-\", \"0.07\", \"0.09\", \"0.14\", \"0.05\", \"0.11\", \"0.08\", \"0.07\", \"-\", \"0.07\", \"-\", \"0.12\", \"0.11\", \"0.06\", \"0.07\", \"0.08\", \"0.07\", \"0.15\", \"0.06\", \"0.08\", \"0.08\", \"0.09\", \"-\", \"0.24\", \"0.11\", \"0.09\", \"0.06\", \"-\", \"-\", \"-\", \"-\", \"0.30\", \"0.05\", \"-\", \"-\", \"-\", \"-\", \"-\", \"0.06\", \"0.06\", \"-\", \"0.05\", \"-\", \"-\", \"0.06\", \"-\", \"-\", \"0.07\", \"-\", \"0.05\", \"0.05\", \"-\", \"-\", \"0.06\", \"0.09\", \"0.04\", \"-\", \"-\", \"-\", \"-\", \"0.04\", \"0.19\", \"0.11\", \"-\", \"-\", \"-\", \"0.05\", \"-\", \"-\", \"-\", \"-\", \"0.06\", \"-\", \"-\", \"-\", \"-\", \"0.06\", \"0.23\", \"0.07\", \"0.21\", \"-\", \"0.12\", \"0.14\", \"-\", \"-\", \"-\", \"-\", \"-\", \"-\", \"-\", \"0.38\", \"0.18\", \"0.10\", \"-\", \"-\", \"-\", \"-\", \"-\", \"-\", \"0.11\", \"-\", \"0.09\", \"0.06\", \"0.05\", \"0.16\", \"-\", \"0.08\", \"-\", \"0.11\", \"0.12\", \"-\", \"0.07\", \"0.06\", \"0.06\", \"-\", \"-\", \"-\", \"0.06\", \"0.16\", \"0.06\", \"0.11\", \"0.05\", \"-\", \"0.05\", \"-\", \"-\", \"0.05\", \"0.06\", \"-\", \"-\", \"0.24\", \"0.22\", \"0.07\", \"-\", \"-\", \"-\", \"0.07\", \"0.05\", \"0.06\", \"-\", \"0.06\", \"-\", \"0.06\", \"0.07\", \"-\", \"0.05\", \"-\", \"0.06\", \"-\", \"-\", \"-\", \"0.06\", \"-\", \"-\", \"0.06\", \"0.05\", \"-\", \"0.07\", \"-\", \"\"]}],\n",
       "                        {\"legend\": {\"bgcolor\": \"#F5F6F9\", \"font\": {\"color\": \"#4D5663\"}}, \"paper_bgcolor\": \"#F5F6F9\", \"plot_bgcolor\": \"#F5F6F9\", \"template\": {\"data\": {\"bar\": [{\"error_x\": {\"color\": \"#2a3f5f\"}, \"error_y\": {\"color\": \"#2a3f5f\"}, \"marker\": {\"line\": {\"color\": \"#E5ECF6\", \"width\": 0.5}}, \"type\": \"bar\"}], \"barpolar\": [{\"marker\": {\"line\": {\"color\": \"#E5ECF6\", \"width\": 0.5}}, \"type\": \"barpolar\"}], \"carpet\": [{\"aaxis\": {\"endlinecolor\": \"#2a3f5f\", \"gridcolor\": \"white\", \"linecolor\": \"white\", \"minorgridcolor\": \"white\", \"startlinecolor\": \"#2a3f5f\"}, \"baxis\": {\"endlinecolor\": \"#2a3f5f\", \"gridcolor\": \"white\", \"linecolor\": \"white\", \"minorgridcolor\": \"white\", \"startlinecolor\": \"#2a3f5f\"}, \"type\": \"carpet\"}], \"choropleth\": [{\"colorbar\": {\"outlinewidth\": 0, \"ticks\": \"\"}, \"type\": \"choropleth\"}], \"contour\": [{\"colorbar\": {\"outlinewidth\": 0, \"ticks\": \"\"}, \"colorscale\": [[0.0, \"#0d0887\"], [0.1111111111111111, \"#46039f\"], [0.2222222222222222, \"#7201a8\"], [0.3333333333333333, \"#9c179e\"], [0.4444444444444444, \"#bd3786\"], [0.5555555555555556, \"#d8576b\"], [0.6666666666666666, \"#ed7953\"], [0.7777777777777778, \"#fb9f3a\"], [0.8888888888888888, \"#fdca26\"], [1.0, \"#f0f921\"]], \"type\": \"contour\"}], \"contourcarpet\": [{\"colorbar\": {\"outlinewidth\": 0, \"ticks\": \"\"}, \"type\": \"contourcarpet\"}], \"heatmap\": [{\"colorbar\": {\"outlinewidth\": 0, \"ticks\": \"\"}, \"colorscale\": [[0.0, \"#0d0887\"], [0.1111111111111111, \"#46039f\"], [0.2222222222222222, \"#7201a8\"], [0.3333333333333333, \"#9c179e\"], [0.4444444444444444, \"#bd3786\"], [0.5555555555555556, \"#d8576b\"], [0.6666666666666666, \"#ed7953\"], [0.7777777777777778, \"#fb9f3a\"], [0.8888888888888888, \"#fdca26\"], [1.0, \"#f0f921\"]], \"type\": \"heatmap\"}], \"heatmapgl\": [{\"colorbar\": {\"outlinewidth\": 0, \"ticks\": \"\"}, \"colorscale\": [[0.0, \"#0d0887\"], [0.1111111111111111, \"#46039f\"], [0.2222222222222222, \"#7201a8\"], [0.3333333333333333, \"#9c179e\"], [0.4444444444444444, \"#bd3786\"], [0.5555555555555556, \"#d8576b\"], [0.6666666666666666, \"#ed7953\"], [0.7777777777777778, \"#fb9f3a\"], [0.8888888888888888, \"#fdca26\"], [1.0, \"#f0f921\"]], \"type\": \"heatmapgl\"}], \"histogram\": [{\"marker\": {\"colorbar\": {\"outlinewidth\": 0, \"ticks\": \"\"}}, \"type\": \"histogram\"}], \"histogram2d\": [{\"colorbar\": {\"outlinewidth\": 0, \"ticks\": \"\"}, \"colorscale\": [[0.0, \"#0d0887\"], [0.1111111111111111, \"#46039f\"], [0.2222222222222222, \"#7201a8\"], [0.3333333333333333, \"#9c179e\"], [0.4444444444444444, \"#bd3786\"], [0.5555555555555556, \"#d8576b\"], [0.6666666666666666, \"#ed7953\"], [0.7777777777777778, \"#fb9f3a\"], [0.8888888888888888, \"#fdca26\"], [1.0, \"#f0f921\"]], \"type\": \"histogram2d\"}], \"histogram2dcontour\": [{\"colorbar\": {\"outlinewidth\": 0, \"ticks\": \"\"}, \"colorscale\": [[0.0, \"#0d0887\"], [0.1111111111111111, \"#46039f\"], [0.2222222222222222, \"#7201a8\"], [0.3333333333333333, \"#9c179e\"], [0.4444444444444444, \"#bd3786\"], [0.5555555555555556, \"#d8576b\"], [0.6666666666666666, \"#ed7953\"], [0.7777777777777778, \"#fb9f3a\"], [0.8888888888888888, \"#fdca26\"], [1.0, \"#f0f921\"]], \"type\": \"histogram2dcontour\"}], \"mesh3d\": [{\"colorbar\": {\"outlinewidth\": 0, \"ticks\": \"\"}, \"type\": \"mesh3d\"}], \"parcoords\": [{\"line\": {\"colorbar\": {\"outlinewidth\": 0, \"ticks\": \"\"}}, \"type\": \"parcoords\"}], \"pie\": [{\"automargin\": true, \"type\": \"pie\"}], \"scatter\": [{\"marker\": {\"colorbar\": {\"outlinewidth\": 0, \"ticks\": \"\"}}, \"type\": \"scatter\"}], \"scatter3d\": [{\"line\": {\"colorbar\": {\"outlinewidth\": 0, \"ticks\": \"\"}}, \"marker\": {\"colorbar\": {\"outlinewidth\": 0, \"ticks\": \"\"}}, \"type\": \"scatter3d\"}], \"scattercarpet\": [{\"marker\": {\"colorbar\": {\"outlinewidth\": 0, \"ticks\": \"\"}}, \"type\": \"scattercarpet\"}], \"scattergeo\": [{\"marker\": {\"colorbar\": {\"outlinewidth\": 0, \"ticks\": \"\"}}, \"type\": \"scattergeo\"}], \"scattergl\": [{\"marker\": {\"colorbar\": {\"outlinewidth\": 0, \"ticks\": \"\"}}, \"type\": \"scattergl\"}], \"scattermapbox\": [{\"marker\": {\"colorbar\": {\"outlinewidth\": 0, \"ticks\": \"\"}}, \"type\": \"scattermapbox\"}], \"scatterpolar\": [{\"marker\": {\"colorbar\": {\"outlinewidth\": 0, \"ticks\": \"\"}}, \"type\": \"scatterpolar\"}], \"scatterpolargl\": [{\"marker\": {\"colorbar\": {\"outlinewidth\": 0, \"ticks\": \"\"}}, \"type\": \"scatterpolargl\"}], \"scatterternary\": [{\"marker\": {\"colorbar\": {\"outlinewidth\": 0, \"ticks\": \"\"}}, \"type\": \"scatterternary\"}], \"surface\": [{\"colorbar\": {\"outlinewidth\": 0, \"ticks\": \"\"}, \"colorscale\": [[0.0, \"#0d0887\"], [0.1111111111111111, \"#46039f\"], [0.2222222222222222, \"#7201a8\"], [0.3333333333333333, \"#9c179e\"], [0.4444444444444444, \"#bd3786\"], [0.5555555555555556, \"#d8576b\"], [0.6666666666666666, \"#ed7953\"], [0.7777777777777778, \"#fb9f3a\"], [0.8888888888888888, \"#fdca26\"], [1.0, \"#f0f921\"]], \"type\": \"surface\"}], \"table\": [{\"cells\": {\"fill\": {\"color\": \"#EBF0F8\"}, \"line\": {\"color\": \"white\"}}, \"header\": {\"fill\": {\"color\": \"#C8D4E3\"}, \"line\": {\"color\": \"white\"}}, \"type\": \"table\"}]}, \"layout\": {\"annotationdefaults\": {\"arrowcolor\": \"#2a3f5f\", \"arrowhead\": 0, \"arrowwidth\": 1}, \"coloraxis\": {\"colorbar\": {\"outlinewidth\": 0, \"ticks\": \"\"}}, \"colorscale\": {\"diverging\": [[0, \"#8e0152\"], [0.1, \"#c51b7d\"], [0.2, \"#de77ae\"], [0.3, \"#f1b6da\"], [0.4, \"#fde0ef\"], [0.5, \"#f7f7f7\"], [0.6, \"#e6f5d0\"], [0.7, \"#b8e186\"], [0.8, \"#7fbc41\"], [0.9, \"#4d9221\"], [1, \"#276419\"]], \"sequential\": [[0.0, \"#0d0887\"], [0.1111111111111111, \"#46039f\"], [0.2222222222222222, \"#7201a8\"], [0.3333333333333333, \"#9c179e\"], [0.4444444444444444, \"#bd3786\"], [0.5555555555555556, \"#d8576b\"], [0.6666666666666666, \"#ed7953\"], [0.7777777777777778, \"#fb9f3a\"], [0.8888888888888888, \"#fdca26\"], [1.0, \"#f0f921\"]], \"sequentialminus\": [[0.0, \"#0d0887\"], [0.1111111111111111, \"#46039f\"], [0.2222222222222222, \"#7201a8\"], [0.3333333333333333, \"#9c179e\"], [0.4444444444444444, \"#bd3786\"], [0.5555555555555556, \"#d8576b\"], [0.6666666666666666, \"#ed7953\"], [0.7777777777777778, \"#fb9f3a\"], [0.8888888888888888, \"#fdca26\"], [1.0, \"#f0f921\"]]}, \"colorway\": [\"#636efa\", \"#EF553B\", \"#00cc96\", \"#ab63fa\", \"#FFA15A\", \"#19d3f3\", \"#FF6692\", \"#B6E880\", \"#FF97FF\", \"#FECB52\"], \"font\": {\"color\": \"#2a3f5f\"}, \"geo\": {\"bgcolor\": \"white\", \"lakecolor\": \"white\", \"landcolor\": \"#E5ECF6\", \"showlakes\": true, \"showland\": true, \"subunitcolor\": \"white\"}, \"hoverlabel\": {\"align\": \"left\"}, \"hovermode\": \"closest\", \"mapbox\": {\"style\": \"light\"}, \"paper_bgcolor\": \"white\", \"plot_bgcolor\": \"#E5ECF6\", \"polar\": {\"angularaxis\": {\"gridcolor\": \"white\", \"linecolor\": \"white\", \"ticks\": \"\"}, \"bgcolor\": \"#E5ECF6\", \"radialaxis\": {\"gridcolor\": \"white\", \"linecolor\": \"white\", \"ticks\": \"\"}}, \"scene\": {\"xaxis\": {\"backgroundcolor\": \"#E5ECF6\", \"gridcolor\": \"white\", \"gridwidth\": 2, \"linecolor\": \"white\", \"showbackground\": true, \"ticks\": \"\", \"zerolinecolor\": \"white\"}, \"yaxis\": {\"backgroundcolor\": \"#E5ECF6\", \"gridcolor\": \"white\", \"gridwidth\": 2, \"linecolor\": \"white\", \"showbackground\": true, \"ticks\": \"\", \"zerolinecolor\": \"white\"}, \"zaxis\": {\"backgroundcolor\": \"#E5ECF6\", \"gridcolor\": \"white\", \"gridwidth\": 2, \"linecolor\": \"white\", \"showbackground\": true, \"ticks\": \"\", \"zerolinecolor\": \"white\"}}, \"shapedefaults\": {\"line\": {\"color\": \"#2a3f5f\"}}, \"ternary\": {\"aaxis\": {\"gridcolor\": \"white\", \"linecolor\": \"white\", \"ticks\": \"\"}, \"baxis\": {\"gridcolor\": \"white\", \"linecolor\": \"white\", \"ticks\": \"\"}, \"bgcolor\": \"#E5ECF6\", \"caxis\": {\"gridcolor\": \"white\", \"linecolor\": \"white\", \"ticks\": \"\"}}, \"title\": {\"x\": 0.05}, \"xaxis\": {\"automargin\": true, \"gridcolor\": \"white\", \"linecolor\": \"white\", \"ticks\": \"\", \"title\": {\"standoff\": 15}, \"zerolinecolor\": \"white\", \"zerolinewidth\": 2}, \"yaxis\": {\"automargin\": true, \"gridcolor\": \"white\", \"linecolor\": \"white\", \"ticks\": \"\", \"title\": {\"standoff\": 15}, \"zerolinecolor\": \"white\", \"zerolinewidth\": 2}}}, \"title\": {\"font\": {\"color\": \"#4D5663\"}, \"text\": \"False Nine - Support\"}, \"xaxis\": {\"gridcolor\": \"#E1E5ED\", \"showgrid\": true, \"tickfont\": {\"color\": \"#4D5663\"}, \"title\": {\"font\": {\"color\": \"#4D5663\"}, \"text\": \"Shots/90\"}, \"zerolinecolor\": \"#E1E5ED\"}, \"yaxis\": {\"gridcolor\": \"#E1E5ED\", \"showgrid\": true, \"tickfont\": {\"color\": \"#4D5663\"}, \"title\": {\"font\": {\"color\": \"#4D5663\"}, \"text\": \"Goals/90\"}, \"zerolinecolor\": \"#E1E5ED\"}},\n",
       "                        {\"showLink\": true, \"linkText\": \"Export to plot.ly\", \"plotlyServerURL\": \"https://plot.ly\", \"responsive\": true}\n",
       "                    ).then(function(){\n",
       "                            \n",
       "var gd = document.getElementById('757ccad7-2d01-4e20-9001-9c5ba250e344');\n",
       "var x = new MutationObserver(function (mutations, observer) {{\n",
       "        var display = window.getComputedStyle(gd).display;\n",
       "        if (!display || display === 'none') {{\n",
       "            console.log([gd, 'removed!']);\n",
       "            Plotly.purge(gd);\n",
       "            observer.disconnect();\n",
       "        }}\n",
       "}});\n",
       "\n",
       "// Listen for the removal of the full notebook cells\n",
       "var notebookContainer = gd.closest('#notebook-container');\n",
       "if (notebookContainer) {{\n",
       "    x.observe(notebookContainer, {childList: true});\n",
       "}}\n",
       "\n",
       "// Listen for the clearing of the current output cell\n",
       "var outputEl = gd.closest('.output');\n",
       "if (outputEl) {{\n",
       "    x.observe(outputEl, {childList: true});\n",
       "}}\n",
       "\n",
       "                        })\n",
       "                };\n",
       "                });\n",
       "            </script>\n",
       "        </div>"
      ]
     },
     "metadata": {},
     "output_type": "display_data"
    }
   ],
   "source": [
    "df.iplot(kind='scatter',x='Shot/90',y='Gls/90',\n",
    "           mode='markers',text='Name',size=10,\n",
    "          xTitle='Shots/90',yTitle='Goals/90',title='False Nine - Support')\t\n"
   ]
  },
  {
   "cell_type": "code",
   "execution_count": null,
   "metadata": {},
   "outputs": [],
   "source": []
  },
  {
   "cell_type": "code",
   "execution_count": null,
   "metadata": {},
   "outputs": [],
   "source": []
  },
  {
   "cell_type": "code",
   "execution_count": null,
   "metadata": {},
   "outputs": [],
   "source": []
  },
  {
   "cell_type": "code",
   "execution_count": null,
   "metadata": {},
   "outputs": [],
   "source": []
  },
  {
   "cell_type": "code",
   "execution_count": null,
   "metadata": {},
   "outputs": [],
   "source": []
  },
  {
   "cell_type": "code",
   "execution_count": null,
   "metadata": {},
   "outputs": [],
   "source": []
  },
  {
   "cell_type": "code",
   "execution_count": null,
   "metadata": {},
   "outputs": [],
   "source": []
  },
  {
   "cell_type": "code",
   "execution_count": null,
   "metadata": {},
   "outputs": [],
   "source": []
  },
  {
   "cell_type": "code",
   "execution_count": null,
   "metadata": {},
   "outputs": [],
   "source": []
  },
  {
   "cell_type": "code",
   "execution_count": null,
   "metadata": {},
   "outputs": [],
   "source": []
  },
  {
   "cell_type": "code",
   "execution_count": null,
   "metadata": {},
   "outputs": [],
   "source": []
  }
 ],
 "metadata": {
  "kernelspec": {
   "display_name": "Python 3",
   "language": "python",
   "name": "python3"
  },
  "language_info": {
   "codemirror_mode": {
    "name": "ipython",
    "version": 3
   },
   "file_extension": ".py",
   "mimetype": "text/x-python",
   "name": "python",
   "nbconvert_exporter": "python",
   "pygments_lexer": "ipython3",
   "version": "3.8.2"
  }
 },
 "nbformat": 4,
 "nbformat_minor": 4
}
