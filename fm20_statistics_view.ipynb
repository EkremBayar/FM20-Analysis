{
 "cells": [
  {
   "cell_type": "code",
   "execution_count": 6,
   "metadata": {},
   "outputs": [],
   "source": [
    "import numpy as np\n",
    "import pandas as pd\n",
    "import matplotlib.pyplot as plt\n",
    "plt.style.use('seaborn')\n",
    "#https://matplotlib.org/3.2.1/gallery/style_sheets/style_sheets_reference.html\n",
    "%matplotlib inline\n",
    "import plotly.express as px\n"
   ]
  },
  {
   "cell_type": "code",
   "execution_count": 7,
   "metadata": {},
   "outputs": [
    {
     "data": {
      "text/html": [
       "<div>\n",
       "<style scoped>\n",
       "    .dataframe tbody tr th:only-of-type {\n",
       "        vertical-align: middle;\n",
       "    }\n",
       "\n",
       "    .dataframe tbody tr th {\n",
       "        vertical-align: top;\n",
       "    }\n",
       "\n",
       "    .dataframe thead th {\n",
       "        text-align: right;\n",
       "    }\n",
       "</style>\n",
       "<table border=\"1\" class=\"dataframe\">\n",
       "  <thead>\n",
       "    <tr style=\"text-align: right;\">\n",
       "      <th></th>\n",
       "      <th>Name</th>\n",
       "      <th>Age</th>\n",
       "      <th>Best Pos</th>\n",
       "      <th>Personality</th>\n",
       "      <th>Hdrs A</th>\n",
       "      <th>Tck</th>\n",
       "      <th>Tck W</th>\n",
       "      <th>Tck R</th>\n",
       "      <th>Tck A</th>\n",
       "      <th>Shot/90</th>\n",
       "      <th>Shot %</th>\n",
       "      <th>ShT/90</th>\n",
       "      <th>ShT</th>\n",
       "      <th>Shots</th>\n",
       "      <th>Svt</th>\n",
       "      <th>Svp</th>\n",
       "      <th>Svh</th>\n",
       "      <th>Ps C/90</th>\n",
       "      <th>Ps C</th>\n",
       "      <th>Pas %</th>\n",
       "      <th>Ps A/90</th>\n",
       "      <th>Pas A</th>\n",
       "      <th>Off</th>\n",
       "      <th>Mstks</th>\n",
       "      <th>Gl Mst</th>\n",
       "      <th>K Tck</th>\n",
       "      <th>K Ps/90</th>\n",
       "      <th>K Pas</th>\n",
       "      <th>K Hdrs</th>\n",
       "      <th>Int/90</th>\n",
       "      <th>...</th>\n",
       "      <th>Pens</th>\n",
       "      <th>Last Gl</th>\n",
       "      <th>Last C</th>\n",
       "      <th>Mins/Gm</th>\n",
       "      <th>Mins</th>\n",
       "      <th>LMR</th>\n",
       "      <th>Last 5 Games</th>\n",
       "      <th>Int Conc</th>\n",
       "      <th>Int Av Rat</th>\n",
       "      <th>Int Ast</th>\n",
       "      <th>Int Apps</th>\n",
       "      <th>Gls/90</th>\n",
       "      <th>Conc</th>\n",
       "      <th>Gls</th>\n",
       "      <th>Won</th>\n",
       "      <th>G. Mis</th>\n",
       "      <th>Lost</th>\n",
       "      <th>D</th>\n",
       "      <th>Gwin</th>\n",
       "      <th>Fls</th>\n",
       "      <th>FA</th>\n",
       "      <th>Con/90</th>\n",
       "      <th>Clean sheets</th>\n",
       "      <th>Av Rat</th>\n",
       "      <th>Mins/Gl</th>\n",
       "      <th>Ast</th>\n",
       "      <th>Apps</th>\n",
       "      <th>AT Lge Gls</th>\n",
       "      <th>AT Lge Apps</th>\n",
       "      <th>AT Gls</th>\n",
       "    </tr>\n",
       "  </thead>\n",
       "  <tbody>\n",
       "    <tr>\n",
       "      <th>0</th>\n",
       "      <td>Shawn Hery</td>\n",
       "      <td>21</td>\n",
       "      <td>ST (C)</td>\n",
       "      <td>Balanced</td>\n",
       "      <td>69</td>\n",
       "      <td>0.91</td>\n",
       "      <td>8</td>\n",
       "      <td>100%</td>\n",
       "      <td>8</td>\n",
       "      <td>3.29</td>\n",
       "      <td>45%</td>\n",
       "      <td>1.47</td>\n",
       "      <td>13</td>\n",
       "      <td>29</td>\n",
       "      <td>-</td>\n",
       "      <td>-</td>\n",
       "      <td>-</td>\n",
       "      <td>23.92</td>\n",
       "      <td>211</td>\n",
       "      <td>88%</td>\n",
       "      <td>27.09</td>\n",
       "      <td>239</td>\n",
       "      <td>5</td>\n",
       "      <td>10</td>\n",
       "      <td>0</td>\n",
       "      <td>0</td>\n",
       "      <td>1.02</td>\n",
       "      <td>9</td>\n",
       "      <td>12</td>\n",
       "      <td>0.79</td>\n",
       "      <td>...</td>\n",
       "      <td>0</td>\n",
       "      <td>455.00</td>\n",
       "      <td>-</td>\n",
       "      <td>46.71</td>\n",
       "      <td>794</td>\n",
       "      <td>-</td>\n",
       "      <td>6.76</td>\n",
       "      <td>-</td>\n",
       "      <td>-</td>\n",
       "      <td>-</td>\n",
       "      <td>-</td>\n",
       "      <td>0.34</td>\n",
       "      <td>-</td>\n",
       "      <td>3</td>\n",
       "      <td>11</td>\n",
       "      <td>-</td>\n",
       "      <td>1</td>\n",
       "      <td>5</td>\n",
       "      <td>65%</td>\n",
       "      <td>3</td>\n",
       "      <td>10</td>\n",
       "      <td>-</td>\n",
       "      <td>-</td>\n",
       "      <td>6.93</td>\n",
       "      <td>264.67</td>\n",
       "      <td>0</td>\n",
       "      <td>8 (9)</td>\n",
       "      <td>14</td>\n",
       "      <td>69</td>\n",
       "      <td>15</td>\n",
       "    </tr>\n",
       "    <tr>\n",
       "      <th>1</th>\n",
       "      <td>Franck Evina</td>\n",
       "      <td>22</td>\n",
       "      <td>AM (L)</td>\n",
       "      <td>Balanced</td>\n",
       "      <td>39</td>\n",
       "      <td>1.66</td>\n",
       "      <td>13</td>\n",
       "      <td>65%</td>\n",
       "      <td>20</td>\n",
       "      <td>3.58</td>\n",
       "      <td>50%</td>\n",
       "      <td>1.79</td>\n",
       "      <td>14</td>\n",
       "      <td>28</td>\n",
       "      <td>-</td>\n",
       "      <td>-</td>\n",
       "      <td>-</td>\n",
       "      <td>26.37</td>\n",
       "      <td>206</td>\n",
       "      <td>86%</td>\n",
       "      <td>30.73</td>\n",
       "      <td>240</td>\n",
       "      <td>3</td>\n",
       "      <td>12</td>\n",
       "      <td>0</td>\n",
       "      <td>1</td>\n",
       "      <td>0.26</td>\n",
       "      <td>2</td>\n",
       "      <td>10</td>\n",
       "      <td>1.15</td>\n",
       "      <td>...</td>\n",
       "      <td>1</td>\n",
       "      <td>140.00</td>\n",
       "      <td>-</td>\n",
       "      <td>54.08</td>\n",
       "      <td>703</td>\n",
       "      <td>6.20</td>\n",
       "      <td>7.10</td>\n",
       "      <td>-</td>\n",
       "      <td>-</td>\n",
       "      <td>-</td>\n",
       "      <td>-</td>\n",
       "      <td>0.51</td>\n",
       "      <td>-</td>\n",
       "      <td>4</td>\n",
       "      <td>6</td>\n",
       "      <td>-</td>\n",
       "      <td>1</td>\n",
       "      <td>6</td>\n",
       "      <td>46%</td>\n",
       "      <td>12</td>\n",
       "      <td>16</td>\n",
       "      <td>-</td>\n",
       "      <td>-</td>\n",
       "      <td>6.85</td>\n",
       "      <td>175.75</td>\n",
       "      <td>1</td>\n",
       "      <td>7 (6)</td>\n",
       "      <td>38</td>\n",
       "      <td>150</td>\n",
       "      <td>39</td>\n",
       "    </tr>\n",
       "  </tbody>\n",
       "</table>\n",
       "<p>2 rows × 90 columns</p>\n",
       "</div>"
      ],
      "text/plain": [
       "           Name  Age Best Pos Personality Hdrs A   Tck Tck W Tck R Tck A  \\\n",
       "0    Shawn Hery   21   ST (C)    Balanced     69  0.91     8  100%     8   \n",
       "1  Franck Evina   22   AM (L)    Balanced     39  1.66    13   65%    20   \n",
       "\n",
       "  Shot/90 Shot % ShT/90 ShT Shots Svt Svp Svh Ps C/90 Ps C Pas % Ps A/90  \\\n",
       "0    3.29    45%   1.47  13    29   -   -   -   23.92  211   88%   27.09   \n",
       "1    3.58    50%   1.79  14    28   -   -   -   26.37  206   86%   30.73   \n",
       "\n",
       "  Pas A Off Mstks Gl Mst K Tck K Ps/90 K Pas K Hdrs Int/90  ... Pens Last Gl  \\\n",
       "0   239   5    10      0     0    1.02     9     12   0.79  ...    0  455.00   \n",
       "1   240   3    12      0     1    0.26     2     10   1.15  ...    1  140.00   \n",
       "\n",
       "  Last C Mins/Gm Mins   LMR Last 5 Games Int Conc Int Av Rat Int Ast Int Apps  \\\n",
       "0      -   46.71  794     -         6.76        -          -       -        -   \n",
       "1      -   54.08  703  6.20         7.10        -          -       -        -   \n",
       "\n",
       "  Gls/90 Conc Gls Won G. Mis Lost  D Gwin Fls  FA Con/90 Clean sheets Av Rat  \\\n",
       "0   0.34    -   3  11      -    1  5  65%   3  10      -            -   6.93   \n",
       "1   0.51    -   4   6      -    1  6  46%  12  16      -            -   6.85   \n",
       "\n",
       "  Mins/Gl Ast   Apps AT Lge Gls AT Lge Apps AT Gls  \n",
       "0  264.67   0  8 (9)         14          69     15  \n",
       "1  175.75   1  7 (6)         38         150     39  \n",
       "\n",
       "[2 rows x 90 columns]"
      ]
     },
     "execution_count": 7,
     "metadata": {},
     "output_type": "execute_result"
    }
   ],
   "source": [
    "df = pd.read_html(r\"C:\\Users\\stuar\\OneDrive\\My Documents\\P\\Python\\FM20\\XML\\statistics_view.html\",skiprows=0)[0]\n",
    "pd.set_option('display.max_columns',60)\n",
    "pd.set_option('display.max_rows',10)\n",
    "pd.set_option('precision', 0)\n",
    "df.head(2)"
   ]
  },
  {
   "cell_type": "code",
   "execution_count": 8,
   "metadata": {},
   "outputs": [],
   "source": [
    "#list(df)"
   ]
  },
  {
   "cell_type": "code",
   "execution_count": 9,
   "metadata": {},
   "outputs": [],
   "source": [
    "# Sweeper Keeper - Support\n",
    "\n",
    "#fig = px.scatter(df, x=\"Clean sheets\", y=\"Con/90\", color=\"Name\",  \n",
    "#        size='Age', hover_data=['Name'])\n",
    "\n",
    "#fig.update_layout(\n",
    "#    title=\"Sweeper Keeper - Support\",\n",
    "#    xaxis_title=\"Clean Sheets\",\n",
    "#    yaxis_title=\"Goals Conceded/90\",\n",
    "#    font=dict(\n",
    "#        family=\"Courier New, monospace\",\n",
    "#        size=16,\n",
    "#        color=\"#7f7f7f\"\n",
    "#    )\n",
    "#)\n",
    "#fig.show()"
   ]
  },
  {
   "cell_type": "code",
   "execution_count": 10,
   "metadata": {},
   "outputs": [
    {
     "data": {
      "application/vnd.plotly.v1+json": {
       "config": {
        "plotlyServerURL": "https://plot.ly"
       },
       "data": [
        {
         "customdata": [
          [
           "Shawn Hery"
          ]
         ],
         "hovertemplate": "Name=%{customdata[0]}<br>K Ps/90=%{x}<br>Cr C/A=%{y}<br>Age=%{marker.size}<extra></extra>",
         "legendgroup": "Shawn Hery",
         "marker": {
          "color": "#636efa",
          "size": [
           21
          ],
          "sizemode": "area",
          "sizeref": 0.0875,
          "symbol": "circle"
         },
         "mode": "markers",
         "name": "Shawn Hery",
         "showlegend": true,
         "type": "scatter",
         "x": [
          "1.02"
         ],
         "xaxis": "x",
         "y": [
          "18%"
         ],
         "yaxis": "y"
        },
        {
         "customdata": [
          [
           "Franck Evina"
          ]
         ],
         "hovertemplate": "Name=%{customdata[0]}<br>K Ps/90=%{x}<br>Cr C/A=%{y}<br>Age=%{marker.size}<extra></extra>",
         "legendgroup": "Franck Evina",
         "marker": {
          "color": "#EF553B",
          "size": [
           22
          ],
          "sizemode": "area",
          "sizeref": 0.0875,
          "symbol": "circle"
         },
         "mode": "markers",
         "name": "Franck Evina",
         "showlegend": true,
         "type": "scatter",
         "x": [
          "0.26"
         ],
         "xaxis": "x",
         "y": [
          "27%"
         ],
         "yaxis": "y"
        },
        {
         "customdata": [
          [
           "Luca Unbehaun"
          ]
         ],
         "hovertemplate": "Name=%{customdata[0]}<br>K Ps/90=%{x}<br>Cr C/A=%{y}<br>Age=%{marker.size}<extra></extra>",
         "legendgroup": "Luca Unbehaun",
         "marker": {
          "color": "#00cc96",
          "size": [
           21
          ],
          "sizemode": "area",
          "sizeref": 0.0875,
          "symbol": "circle"
         },
         "mode": "markers",
         "name": "Luca Unbehaun",
         "showlegend": true,
         "type": "scatter",
         "x": [
          "-"
         ],
         "xaxis": "x",
         "y": [
          "0%"
         ],
         "yaxis": "y"
        },
        {
         "customdata": [
          [
           "Marvin Jung"
          ]
         ],
         "hovertemplate": "Name=%{customdata[0]}<br>K Ps/90=%{x}<br>Cr C/A=%{y}<br>Age=%{marker.size}<extra></extra>",
         "legendgroup": "Marvin Jung",
         "marker": {
          "color": "#ab63fa",
          "size": [
           21
          ],
          "sizemode": "area",
          "sizeref": 0.0875,
          "symbol": "circle"
         },
         "mode": "markers",
         "name": "Marvin Jung",
         "showlegend": true,
         "type": "scatter",
         "x": [
          "0.51"
         ],
         "xaxis": "x",
         "y": [
          "15%"
         ],
         "yaxis": "y"
        },
        {
         "customdata": [
          [
           "Mike Fitzner"
          ]
         ],
         "hovertemplate": "Name=%{customdata[0]}<br>K Ps/90=%{x}<br>Cr C/A=%{y}<br>Age=%{marker.size}<extra></extra>",
         "legendgroup": "Mike Fitzner",
         "marker": {
          "color": "#FFA15A",
          "size": [
           18
          ],
          "sizemode": "area",
          "sizeref": 0.0875,
          "symbol": "circle"
         },
         "mode": "markers",
         "name": "Mike Fitzner",
         "showlegend": true,
         "type": "scatter",
         "x": [
          "1.74"
         ],
         "xaxis": "x",
         "y": [
          "19%"
         ],
         "yaxis": "y"
        },
        {
         "customdata": [
          [
           "Sefer AygÃ¼n"
          ]
         ],
         "hovertemplate": "Name=%{customdata[0]}<br>K Ps/90=%{x}<br>Cr C/A=%{y}<br>Age=%{marker.size}<extra></extra>",
         "legendgroup": "Sefer AygÃ¼n",
         "marker": {
          "color": "#19d3f3",
          "size": [
           18
          ],
          "sizemode": "area",
          "sizeref": 0.0875,
          "symbol": "circle"
         },
         "mode": "markers",
         "name": "Sefer AygÃ¼n",
         "showlegend": true,
         "type": "scatter",
         "x": [
          "1.41"
         ],
         "xaxis": "x",
         "y": [
          "23%"
         ],
         "yaxis": "y"
        },
        {
         "customdata": [
          [
           "Marco Hiller"
          ]
         ],
         "hovertemplate": "Name=%{customdata[0]}<br>K Ps/90=%{x}<br>Cr C/A=%{y}<br>Age=%{marker.size}<extra></extra>",
         "legendgroup": "Marco Hiller",
         "marker": {
          "color": "#FF6692",
          "size": [
           25
          ],
          "sizemode": "area",
          "sizeref": 0.0875,
          "symbol": "circle"
         },
         "mode": "markers",
         "name": "Marco Hiller",
         "showlegend": true,
         "type": "scatter",
         "x": [
          "-"
         ],
         "xaxis": "x",
         "y": [
          "0%"
         ],
         "yaxis": "y"
        },
        {
         "customdata": [
          [
           "Leon Klassen"
          ]
         ],
         "hovertemplate": "Name=%{customdata[0]}<br>K Ps/90=%{x}<br>Cr C/A=%{y}<br>Age=%{marker.size}<extra></extra>",
         "legendgroup": "Leon Klassen",
         "marker": {
          "color": "#B6E880",
          "size": [
           22
          ],
          "sizemode": "area",
          "sizeref": 0.0875,
          "symbol": "circle"
         },
         "mode": "markers",
         "name": "Leon Klassen",
         "showlegend": true,
         "type": "scatter",
         "x": [
          "0.66"
         ],
         "xaxis": "x",
         "y": [
          "18%"
         ],
         "yaxis": "y"
        },
        {
         "customdata": [
          [
           "Noel Niemann"
          ]
         ],
         "hovertemplate": "Name=%{customdata[0]}<br>K Ps/90=%{x}<br>Cr C/A=%{y}<br>Age=%{marker.size}<extra></extra>",
         "legendgroup": "Noel Niemann",
         "marker": {
          "color": "#FF97FF",
          "size": [
           23
          ],
          "sizemode": "area",
          "sizeref": 0.0875,
          "symbol": "circle"
         },
         "mode": "markers",
         "name": "Noel Niemann",
         "showlegend": true,
         "type": "scatter",
         "x": [
          "0.55"
         ],
         "xaxis": "x",
         "y": [
          "18%"
         ],
         "yaxis": "y"
        },
        {
         "customdata": [
          [
           "Lucas Deaux"
          ]
         ],
         "hovertemplate": "Name=%{customdata[0]}<br>K Ps/90=%{x}<br>Cr C/A=%{y}<br>Age=%{marker.size}<extra></extra>",
         "legendgroup": "Lucas Deaux",
         "marker": {
          "color": "#FECB52",
          "size": [
           33
          ],
          "sizemode": "area",
          "sizeref": 0.0875,
          "symbol": "circle"
         },
         "mode": "markers",
         "name": "Lucas Deaux",
         "showlegend": true,
         "type": "scatter",
         "x": [
          "1.72"
         ],
         "xaxis": "x",
         "y": [
          "40%"
         ],
         "yaxis": "y"
        },
        {
         "customdata": [
          [
           "Julian Schwermann"
          ]
         ],
         "hovertemplate": "Name=%{customdata[0]}<br>K Ps/90=%{x}<br>Cr C/A=%{y}<br>Age=%{marker.size}<extra></extra>",
         "legendgroup": "Julian Schwermann",
         "marker": {
          "color": "#636efa",
          "size": [
           23
          ],
          "sizemode": "area",
          "sizeref": 0.0875,
          "symbol": "circle"
         },
         "mode": "markers",
         "name": "Julian Schwermann",
         "showlegend": true,
         "type": "scatter",
         "x": [
          "1.44"
         ],
         "xaxis": "x",
         "y": [
          "40%"
         ],
         "yaxis": "y"
        },
        {
         "customdata": [
          [
           "Oliver Kragl"
          ]
         ],
         "hovertemplate": "Name=%{customdata[0]}<br>K Ps/90=%{x}<br>Cr C/A=%{y}<br>Age=%{marker.size}<extra></extra>",
         "legendgroup": "Oliver Kragl",
         "marker": {
          "color": "#EF553B",
          "size": [
           32
          ],
          "sizemode": "area",
          "sizeref": 0.0875,
          "symbol": "circle"
         },
         "mode": "markers",
         "name": "Oliver Kragl",
         "showlegend": true,
         "type": "scatter",
         "x": [
          "0.80"
         ],
         "xaxis": "x",
         "y": [
          "16%"
         ],
         "yaxis": "y"
        },
        {
         "customdata": [
          [
           "Ben SchÃ¤fer"
          ]
         ],
         "hovertemplate": "Name=%{customdata[0]}<br>K Ps/90=%{x}<br>Cr C/A=%{y}<br>Age=%{marker.size}<extra></extra>",
         "legendgroup": "Ben SchÃ¤fer",
         "marker": {
          "color": "#00cc96",
          "size": [
           18
          ],
          "sizemode": "area",
          "sizeref": 0.0875,
          "symbol": "circle"
         },
         "mode": "markers",
         "name": "Ben SchÃ¤fer",
         "showlegend": true,
         "type": "scatter",
         "x": [
          "-"
         ],
         "xaxis": "x",
         "y": [
          "-"
         ],
         "yaxis": "y"
        },
        {
         "customdata": [
          [
           "Andreas Ahlm"
          ]
         ],
         "hovertemplate": "Name=%{customdata[0]}<br>K Ps/90=%{x}<br>Cr C/A=%{y}<br>Age=%{marker.size}<extra></extra>",
         "legendgroup": "Andreas Ahlm",
         "marker": {
          "color": "#ab63fa",
          "size": [
           18
          ],
          "sizemode": "area",
          "sizeref": 0.0875,
          "symbol": "circle"
         },
         "mode": "markers",
         "name": "Andreas Ahlm",
         "showlegend": true,
         "type": "scatter",
         "x": [
          "-"
         ],
         "xaxis": "x",
         "y": [
          "-"
         ],
         "yaxis": "y"
        },
        {
         "customdata": [
          [
           "Petr Dvorak"
          ]
         ],
         "hovertemplate": "Name=%{customdata[0]}<br>K Ps/90=%{x}<br>Cr C/A=%{y}<br>Age=%{marker.size}<extra></extra>",
         "legendgroup": "Petr Dvorak",
         "marker": {
          "color": "#FFA15A",
          "size": [
           17
          ],
          "sizemode": "area",
          "sizeref": 0.0875,
          "symbol": "circle"
         },
         "mode": "markers",
         "name": "Petr Dvorak",
         "showlegend": true,
         "type": "scatter",
         "x": [
          "-"
         ],
         "xaxis": "x",
         "y": [
          "-"
         ],
         "yaxis": "y"
        },
        {
         "customdata": [
          [
           "Efkan Bekiroglu"
          ]
         ],
         "hovertemplate": "Name=%{customdata[0]}<br>K Ps/90=%{x}<br>Cr C/A=%{y}<br>Age=%{marker.size}<extra></extra>",
         "legendgroup": "Efkan Bekiroglu",
         "marker": {
          "color": "#19d3f3",
          "size": [
           27
          ],
          "sizemode": "area",
          "sizeref": 0.0875,
          "symbol": "circle"
         },
         "mode": "markers",
         "name": "Efkan Bekiroglu",
         "showlegend": true,
         "type": "scatter",
         "x": [
          "2.05"
         ],
         "xaxis": "x",
         "y": [
          "20%"
         ],
         "yaxis": "y"
        },
        {
         "customdata": [
          [
           "Fabian Greilinger"
          ]
         ],
         "hovertemplate": "Name=%{customdata[0]}<br>K Ps/90=%{x}<br>Cr C/A=%{y}<br>Age=%{marker.size}<extra></extra>",
         "legendgroup": "Fabian Greilinger",
         "marker": {
          "color": "#FF6692",
          "size": [
           22
          ],
          "sizemode": "area",
          "sizeref": 0.0875,
          "symbol": "circle"
         },
         "mode": "markers",
         "name": "Fabian Greilinger",
         "showlegend": true,
         "type": "scatter",
         "x": [
          "0.85"
         ],
         "xaxis": "x",
         "y": [
          "19%"
         ],
         "yaxis": "y"
        },
        {
         "customdata": [
          [
           "Marko Basic"
          ]
         ],
         "hovertemplate": "Name=%{customdata[0]}<br>K Ps/90=%{x}<br>Cr C/A=%{y}<br>Age=%{marker.size}<extra></extra>",
         "legendgroup": "Marko Basic",
         "marker": {
          "color": "#B6E880",
          "size": [
           17
          ],
          "sizemode": "area",
          "sizeref": 0.0875,
          "symbol": "circle"
         },
         "mode": "markers",
         "name": "Marko Basic",
         "showlegend": true,
         "type": "scatter",
         "x": [
          "-"
         ],
         "xaxis": "x",
         "y": [
          "-"
         ],
         "yaxis": "y"
        },
        {
         "customdata": [
          [
           "Mert GÃ¶ckan"
          ]
         ],
         "hovertemplate": "Name=%{customdata[0]}<br>K Ps/90=%{x}<br>Cr C/A=%{y}<br>Age=%{marker.size}<extra></extra>",
         "legendgroup": "Mert GÃ¶ckan",
         "marker": {
          "color": "#FF97FF",
          "size": [
           21
          ],
          "sizemode": "area",
          "sizeref": 0.0875,
          "symbol": "circle"
         },
         "mode": "markers",
         "name": "Mert GÃ¶ckan",
         "showlegend": true,
         "type": "scatter",
         "x": [
          "0.58"
         ],
         "xaxis": "x",
         "y": [
          "11%"
         ],
         "yaxis": "y"
        },
        {
         "customdata": [
          [
           "Gabriel Isik"
          ]
         ],
         "hovertemplate": "Name=%{customdata[0]}<br>K Ps/90=%{x}<br>Cr C/A=%{y}<br>Age=%{marker.size}<extra></extra>",
         "legendgroup": "Gabriel Isik",
         "marker": {
          "color": "#FECB52",
          "size": [
           23
          ],
          "sizemode": "area",
          "sizeref": 0.0875,
          "symbol": "circle"
         },
         "mode": "markers",
         "name": "Gabriel Isik",
         "showlegend": true,
         "type": "scatter",
         "x": [
          "0.06"
         ],
         "xaxis": "x",
         "y": [
          "0%"
         ],
         "yaxis": "y"
        },
        {
         "customdata": [
          [
           "Pawel Majewski"
          ]
         ],
         "hovertemplate": "Name=%{customdata[0]}<br>K Ps/90=%{x}<br>Cr C/A=%{y}<br>Age=%{marker.size}<extra></extra>",
         "legendgroup": "Pawel Majewski",
         "marker": {
          "color": "#636efa",
          "size": [
           18
          ],
          "sizemode": "area",
          "sizeref": 0.0875,
          "symbol": "circle"
         },
         "mode": "markers",
         "name": "Pawel Majewski",
         "showlegend": true,
         "type": "scatter",
         "x": [
          "0.33"
         ],
         "xaxis": "x",
         "y": [
          "0%"
         ],
         "yaxis": "y"
        },
        {
         "customdata": [
          [
           "Peter KÃ¶ster"
          ]
         ],
         "hovertemplate": "Name=%{customdata[0]}<br>K Ps/90=%{x}<br>Cr C/A=%{y}<br>Age=%{marker.size}<extra></extra>",
         "legendgroup": "Peter KÃ¶ster",
         "marker": {
          "color": "#EF553B",
          "size": [
           23
          ],
          "sizemode": "area",
          "sizeref": 0.0875,
          "symbol": "circle"
         },
         "mode": "markers",
         "name": "Peter KÃ¶ster",
         "showlegend": true,
         "type": "scatter",
         "x": [
          "-"
         ],
         "xaxis": "x",
         "y": [
          "0%"
         ],
         "yaxis": "y"
        },
        {
         "customdata": [
          [
           "Abdoulaye Niang"
          ]
         ],
         "hovertemplate": "Name=%{customdata[0]}<br>K Ps/90=%{x}<br>Cr C/A=%{y}<br>Age=%{marker.size}<extra></extra>",
         "legendgroup": "Abdoulaye Niang",
         "marker": {
          "color": "#00cc96",
          "size": [
           19
          ],
          "sizemode": "area",
          "sizeref": 0.0875,
          "symbol": "circle"
         },
         "mode": "markers",
         "name": "Abdoulaye Niang",
         "showlegend": true,
         "type": "scatter",
         "x": [
          "1.46"
         ],
         "xaxis": "x",
         "y": [
          "25%"
         ],
         "yaxis": "y"
        },
        {
         "customdata": [
          [
           "Sven Bender"
          ]
         ],
         "hovertemplate": "Name=%{customdata[0]}<br>K Ps/90=%{x}<br>Cr C/A=%{y}<br>Age=%{marker.size}<extra></extra>",
         "legendgroup": "Sven Bender",
         "marker": {
          "color": "#ab63fa",
          "size": [
           33
          ],
          "sizemode": "area",
          "sizeref": 0.0875,
          "symbol": "circle"
         },
         "mode": "markers",
         "name": "Sven Bender",
         "showlegend": true,
         "type": "scatter",
         "x": [
          "0.33"
         ],
         "xaxis": "x",
         "y": [
          "0%"
         ],
         "yaxis": "y"
        },
        {
         "customdata": [
          [
           "Gary Medel"
          ]
         ],
         "hovertemplate": "Name=%{customdata[0]}<br>K Ps/90=%{x}<br>Cr C/A=%{y}<br>Age=%{marker.size}<extra></extra>",
         "legendgroup": "Gary Medel",
         "marker": {
          "color": "#FFA15A",
          "size": [
           35
          ],
          "sizemode": "area",
          "sizeref": 0.0875,
          "symbol": "circle"
         },
         "mode": "markers",
         "name": "Gary Medel",
         "showlegend": true,
         "type": "scatter",
         "x": [
          "1.88"
         ],
         "xaxis": "x",
         "y": [
          "33%"
         ],
         "yaxis": "y"
        }
       ],
       "layout": {
        "font": {
         "color": "#7f7f7f",
         "family": "Courier New, monospace",
         "size": 16
        },
        "legend": {
         "itemsizing": "constant",
         "title": {
          "text": "Name"
         },
         "tracegroupgap": 0
        },
        "margin": {
         "t": 60
        },
        "template": {
         "data": {
          "bar": [
           {
            "error_x": {
             "color": "#2a3f5f"
            },
            "error_y": {
             "color": "#2a3f5f"
            },
            "marker": {
             "line": {
              "color": "#E5ECF6",
              "width": 0.5
             }
            },
            "type": "bar"
           }
          ],
          "barpolar": [
           {
            "marker": {
             "line": {
              "color": "#E5ECF6",
              "width": 0.5
             }
            },
            "type": "barpolar"
           }
          ],
          "carpet": [
           {
            "aaxis": {
             "endlinecolor": "#2a3f5f",
             "gridcolor": "white",
             "linecolor": "white",
             "minorgridcolor": "white",
             "startlinecolor": "#2a3f5f"
            },
            "baxis": {
             "endlinecolor": "#2a3f5f",
             "gridcolor": "white",
             "linecolor": "white",
             "minorgridcolor": "white",
             "startlinecolor": "#2a3f5f"
            },
            "type": "carpet"
           }
          ],
          "choropleth": [
           {
            "colorbar": {
             "outlinewidth": 0,
             "ticks": ""
            },
            "type": "choropleth"
           }
          ],
          "contour": [
           {
            "colorbar": {
             "outlinewidth": 0,
             "ticks": ""
            },
            "colorscale": [
             [
              0,
              "#0d0887"
             ],
             [
              0.1111111111111111,
              "#46039f"
             ],
             [
              0.2222222222222222,
              "#7201a8"
             ],
             [
              0.3333333333333333,
              "#9c179e"
             ],
             [
              0.4444444444444444,
              "#bd3786"
             ],
             [
              0.5555555555555556,
              "#d8576b"
             ],
             [
              0.6666666666666666,
              "#ed7953"
             ],
             [
              0.7777777777777778,
              "#fb9f3a"
             ],
             [
              0.8888888888888888,
              "#fdca26"
             ],
             [
              1,
              "#f0f921"
             ]
            ],
            "type": "contour"
           }
          ],
          "contourcarpet": [
           {
            "colorbar": {
             "outlinewidth": 0,
             "ticks": ""
            },
            "type": "contourcarpet"
           }
          ],
          "heatmap": [
           {
            "colorbar": {
             "outlinewidth": 0,
             "ticks": ""
            },
            "colorscale": [
             [
              0,
              "#0d0887"
             ],
             [
              0.1111111111111111,
              "#46039f"
             ],
             [
              0.2222222222222222,
              "#7201a8"
             ],
             [
              0.3333333333333333,
              "#9c179e"
             ],
             [
              0.4444444444444444,
              "#bd3786"
             ],
             [
              0.5555555555555556,
              "#d8576b"
             ],
             [
              0.6666666666666666,
              "#ed7953"
             ],
             [
              0.7777777777777778,
              "#fb9f3a"
             ],
             [
              0.8888888888888888,
              "#fdca26"
             ],
             [
              1,
              "#f0f921"
             ]
            ],
            "type": "heatmap"
           }
          ],
          "heatmapgl": [
           {
            "colorbar": {
             "outlinewidth": 0,
             "ticks": ""
            },
            "colorscale": [
             [
              0,
              "#0d0887"
             ],
             [
              0.1111111111111111,
              "#46039f"
             ],
             [
              0.2222222222222222,
              "#7201a8"
             ],
             [
              0.3333333333333333,
              "#9c179e"
             ],
             [
              0.4444444444444444,
              "#bd3786"
             ],
             [
              0.5555555555555556,
              "#d8576b"
             ],
             [
              0.6666666666666666,
              "#ed7953"
             ],
             [
              0.7777777777777778,
              "#fb9f3a"
             ],
             [
              0.8888888888888888,
              "#fdca26"
             ],
             [
              1,
              "#f0f921"
             ]
            ],
            "type": "heatmapgl"
           }
          ],
          "histogram": [
           {
            "marker": {
             "colorbar": {
              "outlinewidth": 0,
              "ticks": ""
             }
            },
            "type": "histogram"
           }
          ],
          "histogram2d": [
           {
            "colorbar": {
             "outlinewidth": 0,
             "ticks": ""
            },
            "colorscale": [
             [
              0,
              "#0d0887"
             ],
             [
              0.1111111111111111,
              "#46039f"
             ],
             [
              0.2222222222222222,
              "#7201a8"
             ],
             [
              0.3333333333333333,
              "#9c179e"
             ],
             [
              0.4444444444444444,
              "#bd3786"
             ],
             [
              0.5555555555555556,
              "#d8576b"
             ],
             [
              0.6666666666666666,
              "#ed7953"
             ],
             [
              0.7777777777777778,
              "#fb9f3a"
             ],
             [
              0.8888888888888888,
              "#fdca26"
             ],
             [
              1,
              "#f0f921"
             ]
            ],
            "type": "histogram2d"
           }
          ],
          "histogram2dcontour": [
           {
            "colorbar": {
             "outlinewidth": 0,
             "ticks": ""
            },
            "colorscale": [
             [
              0,
              "#0d0887"
             ],
             [
              0.1111111111111111,
              "#46039f"
             ],
             [
              0.2222222222222222,
              "#7201a8"
             ],
             [
              0.3333333333333333,
              "#9c179e"
             ],
             [
              0.4444444444444444,
              "#bd3786"
             ],
             [
              0.5555555555555556,
              "#d8576b"
             ],
             [
              0.6666666666666666,
              "#ed7953"
             ],
             [
              0.7777777777777778,
              "#fb9f3a"
             ],
             [
              0.8888888888888888,
              "#fdca26"
             ],
             [
              1,
              "#f0f921"
             ]
            ],
            "type": "histogram2dcontour"
           }
          ],
          "mesh3d": [
           {
            "colorbar": {
             "outlinewidth": 0,
             "ticks": ""
            },
            "type": "mesh3d"
           }
          ],
          "parcoords": [
           {
            "line": {
             "colorbar": {
              "outlinewidth": 0,
              "ticks": ""
             }
            },
            "type": "parcoords"
           }
          ],
          "pie": [
           {
            "automargin": true,
            "type": "pie"
           }
          ],
          "scatter": [
           {
            "marker": {
             "colorbar": {
              "outlinewidth": 0,
              "ticks": ""
             }
            },
            "type": "scatter"
           }
          ],
          "scatter3d": [
           {
            "line": {
             "colorbar": {
              "outlinewidth": 0,
              "ticks": ""
             }
            },
            "marker": {
             "colorbar": {
              "outlinewidth": 0,
              "ticks": ""
             }
            },
            "type": "scatter3d"
           }
          ],
          "scattercarpet": [
           {
            "marker": {
             "colorbar": {
              "outlinewidth": 0,
              "ticks": ""
             }
            },
            "type": "scattercarpet"
           }
          ],
          "scattergeo": [
           {
            "marker": {
             "colorbar": {
              "outlinewidth": 0,
              "ticks": ""
             }
            },
            "type": "scattergeo"
           }
          ],
          "scattergl": [
           {
            "marker": {
             "colorbar": {
              "outlinewidth": 0,
              "ticks": ""
             }
            },
            "type": "scattergl"
           }
          ],
          "scattermapbox": [
           {
            "marker": {
             "colorbar": {
              "outlinewidth": 0,
              "ticks": ""
             }
            },
            "type": "scattermapbox"
           }
          ],
          "scatterpolar": [
           {
            "marker": {
             "colorbar": {
              "outlinewidth": 0,
              "ticks": ""
             }
            },
            "type": "scatterpolar"
           }
          ],
          "scatterpolargl": [
           {
            "marker": {
             "colorbar": {
              "outlinewidth": 0,
              "ticks": ""
             }
            },
            "type": "scatterpolargl"
           }
          ],
          "scatterternary": [
           {
            "marker": {
             "colorbar": {
              "outlinewidth": 0,
              "ticks": ""
             }
            },
            "type": "scatterternary"
           }
          ],
          "surface": [
           {
            "colorbar": {
             "outlinewidth": 0,
             "ticks": ""
            },
            "colorscale": [
             [
              0,
              "#0d0887"
             ],
             [
              0.1111111111111111,
              "#46039f"
             ],
             [
              0.2222222222222222,
              "#7201a8"
             ],
             [
              0.3333333333333333,
              "#9c179e"
             ],
             [
              0.4444444444444444,
              "#bd3786"
             ],
             [
              0.5555555555555556,
              "#d8576b"
             ],
             [
              0.6666666666666666,
              "#ed7953"
             ],
             [
              0.7777777777777778,
              "#fb9f3a"
             ],
             [
              0.8888888888888888,
              "#fdca26"
             ],
             [
              1,
              "#f0f921"
             ]
            ],
            "type": "surface"
           }
          ],
          "table": [
           {
            "cells": {
             "fill": {
              "color": "#EBF0F8"
             },
             "line": {
              "color": "white"
             }
            },
            "header": {
             "fill": {
              "color": "#C8D4E3"
             },
             "line": {
              "color": "white"
             }
            },
            "type": "table"
           }
          ]
         },
         "layout": {
          "annotationdefaults": {
           "arrowcolor": "#2a3f5f",
           "arrowhead": 0,
           "arrowwidth": 1
          },
          "coloraxis": {
           "colorbar": {
            "outlinewidth": 0,
            "ticks": ""
           }
          },
          "colorscale": {
           "diverging": [
            [
             0,
             "#8e0152"
            ],
            [
             0.1,
             "#c51b7d"
            ],
            [
             0.2,
             "#de77ae"
            ],
            [
             0.3,
             "#f1b6da"
            ],
            [
             0.4,
             "#fde0ef"
            ],
            [
             0.5,
             "#f7f7f7"
            ],
            [
             0.6,
             "#e6f5d0"
            ],
            [
             0.7,
             "#b8e186"
            ],
            [
             0.8,
             "#7fbc41"
            ],
            [
             0.9,
             "#4d9221"
            ],
            [
             1,
             "#276419"
            ]
           ],
           "sequential": [
            [
             0,
             "#0d0887"
            ],
            [
             0.1111111111111111,
             "#46039f"
            ],
            [
             0.2222222222222222,
             "#7201a8"
            ],
            [
             0.3333333333333333,
             "#9c179e"
            ],
            [
             0.4444444444444444,
             "#bd3786"
            ],
            [
             0.5555555555555556,
             "#d8576b"
            ],
            [
             0.6666666666666666,
             "#ed7953"
            ],
            [
             0.7777777777777778,
             "#fb9f3a"
            ],
            [
             0.8888888888888888,
             "#fdca26"
            ],
            [
             1,
             "#f0f921"
            ]
           ],
           "sequentialminus": [
            [
             0,
             "#0d0887"
            ],
            [
             0.1111111111111111,
             "#46039f"
            ],
            [
             0.2222222222222222,
             "#7201a8"
            ],
            [
             0.3333333333333333,
             "#9c179e"
            ],
            [
             0.4444444444444444,
             "#bd3786"
            ],
            [
             0.5555555555555556,
             "#d8576b"
            ],
            [
             0.6666666666666666,
             "#ed7953"
            ],
            [
             0.7777777777777778,
             "#fb9f3a"
            ],
            [
             0.8888888888888888,
             "#fdca26"
            ],
            [
             1,
             "#f0f921"
            ]
           ]
          },
          "colorway": [
           "#636efa",
           "#EF553B",
           "#00cc96",
           "#ab63fa",
           "#FFA15A",
           "#19d3f3",
           "#FF6692",
           "#B6E880",
           "#FF97FF",
           "#FECB52"
          ],
          "font": {
           "color": "#2a3f5f"
          },
          "geo": {
           "bgcolor": "white",
           "lakecolor": "white",
           "landcolor": "#E5ECF6",
           "showlakes": true,
           "showland": true,
           "subunitcolor": "white"
          },
          "hoverlabel": {
           "align": "left"
          },
          "hovermode": "closest",
          "mapbox": {
           "style": "light"
          },
          "paper_bgcolor": "white",
          "plot_bgcolor": "#E5ECF6",
          "polar": {
           "angularaxis": {
            "gridcolor": "white",
            "linecolor": "white",
            "ticks": ""
           },
           "bgcolor": "#E5ECF6",
           "radialaxis": {
            "gridcolor": "white",
            "linecolor": "white",
            "ticks": ""
           }
          },
          "scene": {
           "xaxis": {
            "backgroundcolor": "#E5ECF6",
            "gridcolor": "white",
            "gridwidth": 2,
            "linecolor": "white",
            "showbackground": true,
            "ticks": "",
            "zerolinecolor": "white"
           },
           "yaxis": {
            "backgroundcolor": "#E5ECF6",
            "gridcolor": "white",
            "gridwidth": 2,
            "linecolor": "white",
            "showbackground": true,
            "ticks": "",
            "zerolinecolor": "white"
           },
           "zaxis": {
            "backgroundcolor": "#E5ECF6",
            "gridcolor": "white",
            "gridwidth": 2,
            "linecolor": "white",
            "showbackground": true,
            "ticks": "",
            "zerolinecolor": "white"
           }
          },
          "shapedefaults": {
           "line": {
            "color": "#2a3f5f"
           }
          },
          "ternary": {
           "aaxis": {
            "gridcolor": "white",
            "linecolor": "white",
            "ticks": ""
           },
           "baxis": {
            "gridcolor": "white",
            "linecolor": "white",
            "ticks": ""
           },
           "bgcolor": "#E5ECF6",
           "caxis": {
            "gridcolor": "white",
            "linecolor": "white",
            "ticks": ""
           }
          },
          "title": {
           "x": 0.05
          },
          "xaxis": {
           "automargin": true,
           "gridcolor": "white",
           "linecolor": "white",
           "ticks": "",
           "title": {
            "standoff": 15
           },
           "zerolinecolor": "white",
           "zerolinewidth": 2
          },
          "yaxis": {
           "automargin": true,
           "gridcolor": "white",
           "linecolor": "white",
           "ticks": "",
           "title": {
            "standoff": 15
           },
           "zerolinecolor": "white",
           "zerolinewidth": 2
          }
         }
        },
        "title": {
         "text": "Complete Wing-Back - Support"
        },
        "xaxis": {
         "anchor": "y",
         "domain": [
          0,
          1
         ],
         "title": {
          "text": "Key Passes/90"
         }
        },
        "yaxis": {
         "anchor": "x",
         "domain": [
          0,
          1
         ],
         "title": {
          "text": "Cross Completion %"
         }
        }
       }
      },
      "text/html": [
       "<div>\n",
       "        \n",
       "        \n",
       "            <div id=\"37d5357c-a78d-4776-9dff-6ac648e8ec3a\" class=\"plotly-graph-div\" style=\"height:525px; width:100%;\"></div>\n",
       "            <script type=\"text/javascript\">\n",
       "                require([\"plotly\"], function(Plotly) {\n",
       "                    window.PLOTLYENV=window.PLOTLYENV || {};\n",
       "                    \n",
       "                if (document.getElementById(\"37d5357c-a78d-4776-9dff-6ac648e8ec3a\")) {\n",
       "                    Plotly.newPlot(\n",
       "                        '37d5357c-a78d-4776-9dff-6ac648e8ec3a',\n",
       "                        [{\"customdata\": [[\"Shawn Hery\"]], \"hovertemplate\": \"Name=%{customdata[0]}<br>K Ps/90=%{x}<br>Cr C/A=%{y}<br>Age=%{marker.size}<extra></extra>\", \"legendgroup\": \"Shawn Hery\", \"marker\": {\"color\": \"#636efa\", \"size\": [21], \"sizemode\": \"area\", \"sizeref\": 0.0875, \"symbol\": \"circle\"}, \"mode\": \"markers\", \"name\": \"Shawn Hery\", \"showlegend\": true, \"type\": \"scatter\", \"x\": [\"1.02\"], \"xaxis\": \"x\", \"y\": [\"18%\"], \"yaxis\": \"y\"}, {\"customdata\": [[\"Franck Evina\"]], \"hovertemplate\": \"Name=%{customdata[0]}<br>K Ps/90=%{x}<br>Cr C/A=%{y}<br>Age=%{marker.size}<extra></extra>\", \"legendgroup\": \"Franck Evina\", \"marker\": {\"color\": \"#EF553B\", \"size\": [22], \"sizemode\": \"area\", \"sizeref\": 0.0875, \"symbol\": \"circle\"}, \"mode\": \"markers\", \"name\": \"Franck Evina\", \"showlegend\": true, \"type\": \"scatter\", \"x\": [\"0.26\"], \"xaxis\": \"x\", \"y\": [\"27%\"], \"yaxis\": \"y\"}, {\"customdata\": [[\"Luca Unbehaun\"]], \"hovertemplate\": \"Name=%{customdata[0]}<br>K Ps/90=%{x}<br>Cr C/A=%{y}<br>Age=%{marker.size}<extra></extra>\", \"legendgroup\": \"Luca Unbehaun\", \"marker\": {\"color\": \"#00cc96\", \"size\": [21], \"sizemode\": \"area\", \"sizeref\": 0.0875, \"symbol\": \"circle\"}, \"mode\": \"markers\", \"name\": \"Luca Unbehaun\", \"showlegend\": true, \"type\": \"scatter\", \"x\": [\"-\"], \"xaxis\": \"x\", \"y\": [\"0%\"], \"yaxis\": \"y\"}, {\"customdata\": [[\"Marvin Jung\"]], \"hovertemplate\": \"Name=%{customdata[0]}<br>K Ps/90=%{x}<br>Cr C/A=%{y}<br>Age=%{marker.size}<extra></extra>\", \"legendgroup\": \"Marvin Jung\", \"marker\": {\"color\": \"#ab63fa\", \"size\": [21], \"sizemode\": \"area\", \"sizeref\": 0.0875, \"symbol\": \"circle\"}, \"mode\": \"markers\", \"name\": \"Marvin Jung\", \"showlegend\": true, \"type\": \"scatter\", \"x\": [\"0.51\"], \"xaxis\": \"x\", \"y\": [\"15%\"], \"yaxis\": \"y\"}, {\"customdata\": [[\"Mike Fitzner\"]], \"hovertemplate\": \"Name=%{customdata[0]}<br>K Ps/90=%{x}<br>Cr C/A=%{y}<br>Age=%{marker.size}<extra></extra>\", \"legendgroup\": \"Mike Fitzner\", \"marker\": {\"color\": \"#FFA15A\", \"size\": [18], \"sizemode\": \"area\", \"sizeref\": 0.0875, \"symbol\": \"circle\"}, \"mode\": \"markers\", \"name\": \"Mike Fitzner\", \"showlegend\": true, \"type\": \"scatter\", \"x\": [\"1.74\"], \"xaxis\": \"x\", \"y\": [\"19%\"], \"yaxis\": \"y\"}, {\"customdata\": [[\"Sefer Ayg\\u00c3\\u00bcn\"]], \"hovertemplate\": \"Name=%{customdata[0]}<br>K Ps/90=%{x}<br>Cr C/A=%{y}<br>Age=%{marker.size}<extra></extra>\", \"legendgroup\": \"Sefer Ayg\\u00c3\\u00bcn\", \"marker\": {\"color\": \"#19d3f3\", \"size\": [18], \"sizemode\": \"area\", \"sizeref\": 0.0875, \"symbol\": \"circle\"}, \"mode\": \"markers\", \"name\": \"Sefer Ayg\\u00c3\\u00bcn\", \"showlegend\": true, \"type\": \"scatter\", \"x\": [\"1.41\"], \"xaxis\": \"x\", \"y\": [\"23%\"], \"yaxis\": \"y\"}, {\"customdata\": [[\"Marco Hiller\"]], \"hovertemplate\": \"Name=%{customdata[0]}<br>K Ps/90=%{x}<br>Cr C/A=%{y}<br>Age=%{marker.size}<extra></extra>\", \"legendgroup\": \"Marco Hiller\", \"marker\": {\"color\": \"#FF6692\", \"size\": [25], \"sizemode\": \"area\", \"sizeref\": 0.0875, \"symbol\": \"circle\"}, \"mode\": \"markers\", \"name\": \"Marco Hiller\", \"showlegend\": true, \"type\": \"scatter\", \"x\": [\"-\"], \"xaxis\": \"x\", \"y\": [\"0%\"], \"yaxis\": \"y\"}, {\"customdata\": [[\"Leon Klassen\"]], \"hovertemplate\": \"Name=%{customdata[0]}<br>K Ps/90=%{x}<br>Cr C/A=%{y}<br>Age=%{marker.size}<extra></extra>\", \"legendgroup\": \"Leon Klassen\", \"marker\": {\"color\": \"#B6E880\", \"size\": [22], \"sizemode\": \"area\", \"sizeref\": 0.0875, \"symbol\": \"circle\"}, \"mode\": \"markers\", \"name\": \"Leon Klassen\", \"showlegend\": true, \"type\": \"scatter\", \"x\": [\"0.66\"], \"xaxis\": \"x\", \"y\": [\"18%\"], \"yaxis\": \"y\"}, {\"customdata\": [[\"Noel Niemann\"]], \"hovertemplate\": \"Name=%{customdata[0]}<br>K Ps/90=%{x}<br>Cr C/A=%{y}<br>Age=%{marker.size}<extra></extra>\", \"legendgroup\": \"Noel Niemann\", \"marker\": {\"color\": \"#FF97FF\", \"size\": [23], \"sizemode\": \"area\", \"sizeref\": 0.0875, \"symbol\": \"circle\"}, \"mode\": \"markers\", \"name\": \"Noel Niemann\", \"showlegend\": true, \"type\": \"scatter\", \"x\": [\"0.55\"], \"xaxis\": \"x\", \"y\": [\"18%\"], \"yaxis\": \"y\"}, {\"customdata\": [[\"Lucas Deaux\"]], \"hovertemplate\": \"Name=%{customdata[0]}<br>K Ps/90=%{x}<br>Cr C/A=%{y}<br>Age=%{marker.size}<extra></extra>\", \"legendgroup\": \"Lucas Deaux\", \"marker\": {\"color\": \"#FECB52\", \"size\": [33], \"sizemode\": \"area\", \"sizeref\": 0.0875, \"symbol\": \"circle\"}, \"mode\": \"markers\", \"name\": \"Lucas Deaux\", \"showlegend\": true, \"type\": \"scatter\", \"x\": [\"1.72\"], \"xaxis\": \"x\", \"y\": [\"40%\"], \"yaxis\": \"y\"}, {\"customdata\": [[\"Julian Schwermann\"]], \"hovertemplate\": \"Name=%{customdata[0]}<br>K Ps/90=%{x}<br>Cr C/A=%{y}<br>Age=%{marker.size}<extra></extra>\", \"legendgroup\": \"Julian Schwermann\", \"marker\": {\"color\": \"#636efa\", \"size\": [23], \"sizemode\": \"area\", \"sizeref\": 0.0875, \"symbol\": \"circle\"}, \"mode\": \"markers\", \"name\": \"Julian Schwermann\", \"showlegend\": true, \"type\": \"scatter\", \"x\": [\"1.44\"], \"xaxis\": \"x\", \"y\": [\"40%\"], \"yaxis\": \"y\"}, {\"customdata\": [[\"Oliver Kragl\"]], \"hovertemplate\": \"Name=%{customdata[0]}<br>K Ps/90=%{x}<br>Cr C/A=%{y}<br>Age=%{marker.size}<extra></extra>\", \"legendgroup\": \"Oliver Kragl\", \"marker\": {\"color\": \"#EF553B\", \"size\": [32], \"sizemode\": \"area\", \"sizeref\": 0.0875, \"symbol\": \"circle\"}, \"mode\": \"markers\", \"name\": \"Oliver Kragl\", \"showlegend\": true, \"type\": \"scatter\", \"x\": [\"0.80\"], \"xaxis\": \"x\", \"y\": [\"16%\"], \"yaxis\": \"y\"}, {\"customdata\": [[\"Ben Sch\\u00c3\\u00a4fer\"]], \"hovertemplate\": \"Name=%{customdata[0]}<br>K Ps/90=%{x}<br>Cr C/A=%{y}<br>Age=%{marker.size}<extra></extra>\", \"legendgroup\": \"Ben Sch\\u00c3\\u00a4fer\", \"marker\": {\"color\": \"#00cc96\", \"size\": [18], \"sizemode\": \"area\", \"sizeref\": 0.0875, \"symbol\": \"circle\"}, \"mode\": \"markers\", \"name\": \"Ben Sch\\u00c3\\u00a4fer\", \"showlegend\": true, \"type\": \"scatter\", \"x\": [\"-\"], \"xaxis\": \"x\", \"y\": [\"-\"], \"yaxis\": \"y\"}, {\"customdata\": [[\"Andreas Ahlm\"]], \"hovertemplate\": \"Name=%{customdata[0]}<br>K Ps/90=%{x}<br>Cr C/A=%{y}<br>Age=%{marker.size}<extra></extra>\", \"legendgroup\": \"Andreas Ahlm\", \"marker\": {\"color\": \"#ab63fa\", \"size\": [18], \"sizemode\": \"area\", \"sizeref\": 0.0875, \"symbol\": \"circle\"}, \"mode\": \"markers\", \"name\": \"Andreas Ahlm\", \"showlegend\": true, \"type\": \"scatter\", \"x\": [\"-\"], \"xaxis\": \"x\", \"y\": [\"-\"], \"yaxis\": \"y\"}, {\"customdata\": [[\"Petr Dvorak\"]], \"hovertemplate\": \"Name=%{customdata[0]}<br>K Ps/90=%{x}<br>Cr C/A=%{y}<br>Age=%{marker.size}<extra></extra>\", \"legendgroup\": \"Petr Dvorak\", \"marker\": {\"color\": \"#FFA15A\", \"size\": [17], \"sizemode\": \"area\", \"sizeref\": 0.0875, \"symbol\": \"circle\"}, \"mode\": \"markers\", \"name\": \"Petr Dvorak\", \"showlegend\": true, \"type\": \"scatter\", \"x\": [\"-\"], \"xaxis\": \"x\", \"y\": [\"-\"], \"yaxis\": \"y\"}, {\"customdata\": [[\"Efkan Bekiroglu\"]], \"hovertemplate\": \"Name=%{customdata[0]}<br>K Ps/90=%{x}<br>Cr C/A=%{y}<br>Age=%{marker.size}<extra></extra>\", \"legendgroup\": \"Efkan Bekiroglu\", \"marker\": {\"color\": \"#19d3f3\", \"size\": [27], \"sizemode\": \"area\", \"sizeref\": 0.0875, \"symbol\": \"circle\"}, \"mode\": \"markers\", \"name\": \"Efkan Bekiroglu\", \"showlegend\": true, \"type\": \"scatter\", \"x\": [\"2.05\"], \"xaxis\": \"x\", \"y\": [\"20%\"], \"yaxis\": \"y\"}, {\"customdata\": [[\"Fabian Greilinger\"]], \"hovertemplate\": \"Name=%{customdata[0]}<br>K Ps/90=%{x}<br>Cr C/A=%{y}<br>Age=%{marker.size}<extra></extra>\", \"legendgroup\": \"Fabian Greilinger\", \"marker\": {\"color\": \"#FF6692\", \"size\": [22], \"sizemode\": \"area\", \"sizeref\": 0.0875, \"symbol\": \"circle\"}, \"mode\": \"markers\", \"name\": \"Fabian Greilinger\", \"showlegend\": true, \"type\": \"scatter\", \"x\": [\"0.85\"], \"xaxis\": \"x\", \"y\": [\"19%\"], \"yaxis\": \"y\"}, {\"customdata\": [[\"Marko Basic\"]], \"hovertemplate\": \"Name=%{customdata[0]}<br>K Ps/90=%{x}<br>Cr C/A=%{y}<br>Age=%{marker.size}<extra></extra>\", \"legendgroup\": \"Marko Basic\", \"marker\": {\"color\": \"#B6E880\", \"size\": [17], \"sizemode\": \"area\", \"sizeref\": 0.0875, \"symbol\": \"circle\"}, \"mode\": \"markers\", \"name\": \"Marko Basic\", \"showlegend\": true, \"type\": \"scatter\", \"x\": [\"-\"], \"xaxis\": \"x\", \"y\": [\"-\"], \"yaxis\": \"y\"}, {\"customdata\": [[\"Mert G\\u00c3\\u00b6ckan\"]], \"hovertemplate\": \"Name=%{customdata[0]}<br>K Ps/90=%{x}<br>Cr C/A=%{y}<br>Age=%{marker.size}<extra></extra>\", \"legendgroup\": \"Mert G\\u00c3\\u00b6ckan\", \"marker\": {\"color\": \"#FF97FF\", \"size\": [21], \"sizemode\": \"area\", \"sizeref\": 0.0875, \"symbol\": \"circle\"}, \"mode\": \"markers\", \"name\": \"Mert G\\u00c3\\u00b6ckan\", \"showlegend\": true, \"type\": \"scatter\", \"x\": [\"0.58\"], \"xaxis\": \"x\", \"y\": [\"11%\"], \"yaxis\": \"y\"}, {\"customdata\": [[\"Gabriel Isik\"]], \"hovertemplate\": \"Name=%{customdata[0]}<br>K Ps/90=%{x}<br>Cr C/A=%{y}<br>Age=%{marker.size}<extra></extra>\", \"legendgroup\": \"Gabriel Isik\", \"marker\": {\"color\": \"#FECB52\", \"size\": [23], \"sizemode\": \"area\", \"sizeref\": 0.0875, \"symbol\": \"circle\"}, \"mode\": \"markers\", \"name\": \"Gabriel Isik\", \"showlegend\": true, \"type\": \"scatter\", \"x\": [\"0.06\"], \"xaxis\": \"x\", \"y\": [\"0%\"], \"yaxis\": \"y\"}, {\"customdata\": [[\"Pawel Majewski\"]], \"hovertemplate\": \"Name=%{customdata[0]}<br>K Ps/90=%{x}<br>Cr C/A=%{y}<br>Age=%{marker.size}<extra></extra>\", \"legendgroup\": \"Pawel Majewski\", \"marker\": {\"color\": \"#636efa\", \"size\": [18], \"sizemode\": \"area\", \"sizeref\": 0.0875, \"symbol\": \"circle\"}, \"mode\": \"markers\", \"name\": \"Pawel Majewski\", \"showlegend\": true, \"type\": \"scatter\", \"x\": [\"0.33\"], \"xaxis\": \"x\", \"y\": [\"0%\"], \"yaxis\": \"y\"}, {\"customdata\": [[\"Peter K\\u00c3\\u00b6ster\"]], \"hovertemplate\": \"Name=%{customdata[0]}<br>K Ps/90=%{x}<br>Cr C/A=%{y}<br>Age=%{marker.size}<extra></extra>\", \"legendgroup\": \"Peter K\\u00c3\\u00b6ster\", \"marker\": {\"color\": \"#EF553B\", \"size\": [23], \"sizemode\": \"area\", \"sizeref\": 0.0875, \"symbol\": \"circle\"}, \"mode\": \"markers\", \"name\": \"Peter K\\u00c3\\u00b6ster\", \"showlegend\": true, \"type\": \"scatter\", \"x\": [\"-\"], \"xaxis\": \"x\", \"y\": [\"0%\"], \"yaxis\": \"y\"}, {\"customdata\": [[\"Abdoulaye Niang\"]], \"hovertemplate\": \"Name=%{customdata[0]}<br>K Ps/90=%{x}<br>Cr C/A=%{y}<br>Age=%{marker.size}<extra></extra>\", \"legendgroup\": \"Abdoulaye Niang\", \"marker\": {\"color\": \"#00cc96\", \"size\": [19], \"sizemode\": \"area\", \"sizeref\": 0.0875, \"symbol\": \"circle\"}, \"mode\": \"markers\", \"name\": \"Abdoulaye Niang\", \"showlegend\": true, \"type\": \"scatter\", \"x\": [\"1.46\"], \"xaxis\": \"x\", \"y\": [\"25%\"], \"yaxis\": \"y\"}, {\"customdata\": [[\"Sven Bender\"]], \"hovertemplate\": \"Name=%{customdata[0]}<br>K Ps/90=%{x}<br>Cr C/A=%{y}<br>Age=%{marker.size}<extra></extra>\", \"legendgroup\": \"Sven Bender\", \"marker\": {\"color\": \"#ab63fa\", \"size\": [33], \"sizemode\": \"area\", \"sizeref\": 0.0875, \"symbol\": \"circle\"}, \"mode\": \"markers\", \"name\": \"Sven Bender\", \"showlegend\": true, \"type\": \"scatter\", \"x\": [\"0.33\"], \"xaxis\": \"x\", \"y\": [\"0%\"], \"yaxis\": \"y\"}, {\"customdata\": [[\"Gary Medel\"]], \"hovertemplate\": \"Name=%{customdata[0]}<br>K Ps/90=%{x}<br>Cr C/A=%{y}<br>Age=%{marker.size}<extra></extra>\", \"legendgroup\": \"Gary Medel\", \"marker\": {\"color\": \"#FFA15A\", \"size\": [35], \"sizemode\": \"area\", \"sizeref\": 0.0875, \"symbol\": \"circle\"}, \"mode\": \"markers\", \"name\": \"Gary Medel\", \"showlegend\": true, \"type\": \"scatter\", \"x\": [\"1.88\"], \"xaxis\": \"x\", \"y\": [\"33%\"], \"yaxis\": \"y\"}],\n",
       "                        {\"font\": {\"color\": \"#7f7f7f\", \"family\": \"Courier New, monospace\", \"size\": 16}, \"legend\": {\"itemsizing\": \"constant\", \"title\": {\"text\": \"Name\"}, \"tracegroupgap\": 0}, \"margin\": {\"t\": 60}, \"template\": {\"data\": {\"bar\": [{\"error_x\": {\"color\": \"#2a3f5f\"}, \"error_y\": {\"color\": \"#2a3f5f\"}, \"marker\": {\"line\": {\"color\": \"#E5ECF6\", \"width\": 0.5}}, \"type\": \"bar\"}], \"barpolar\": [{\"marker\": {\"line\": {\"color\": \"#E5ECF6\", \"width\": 0.5}}, \"type\": \"barpolar\"}], \"carpet\": [{\"aaxis\": {\"endlinecolor\": \"#2a3f5f\", \"gridcolor\": \"white\", \"linecolor\": \"white\", \"minorgridcolor\": \"white\", \"startlinecolor\": \"#2a3f5f\"}, \"baxis\": {\"endlinecolor\": \"#2a3f5f\", \"gridcolor\": \"white\", \"linecolor\": \"white\", \"minorgridcolor\": \"white\", \"startlinecolor\": \"#2a3f5f\"}, \"type\": \"carpet\"}], \"choropleth\": [{\"colorbar\": {\"outlinewidth\": 0, \"ticks\": \"\"}, \"type\": \"choropleth\"}], \"contour\": [{\"colorbar\": {\"outlinewidth\": 0, \"ticks\": \"\"}, \"colorscale\": [[0.0, \"#0d0887\"], [0.1111111111111111, \"#46039f\"], [0.2222222222222222, \"#7201a8\"], [0.3333333333333333, \"#9c179e\"], [0.4444444444444444, \"#bd3786\"], [0.5555555555555556, \"#d8576b\"], [0.6666666666666666, \"#ed7953\"], [0.7777777777777778, \"#fb9f3a\"], [0.8888888888888888, \"#fdca26\"], [1.0, \"#f0f921\"]], \"type\": \"contour\"}], \"contourcarpet\": [{\"colorbar\": {\"outlinewidth\": 0, \"ticks\": \"\"}, \"type\": \"contourcarpet\"}], \"heatmap\": [{\"colorbar\": {\"outlinewidth\": 0, \"ticks\": \"\"}, \"colorscale\": [[0.0, \"#0d0887\"], [0.1111111111111111, \"#46039f\"], [0.2222222222222222, \"#7201a8\"], [0.3333333333333333, \"#9c179e\"], [0.4444444444444444, \"#bd3786\"], [0.5555555555555556, \"#d8576b\"], [0.6666666666666666, \"#ed7953\"], [0.7777777777777778, \"#fb9f3a\"], [0.8888888888888888, \"#fdca26\"], [1.0, \"#f0f921\"]], \"type\": \"heatmap\"}], \"heatmapgl\": [{\"colorbar\": {\"outlinewidth\": 0, \"ticks\": \"\"}, \"colorscale\": [[0.0, \"#0d0887\"], [0.1111111111111111, \"#46039f\"], [0.2222222222222222, \"#7201a8\"], [0.3333333333333333, \"#9c179e\"], [0.4444444444444444, \"#bd3786\"], [0.5555555555555556, \"#d8576b\"], [0.6666666666666666, \"#ed7953\"], [0.7777777777777778, \"#fb9f3a\"], [0.8888888888888888, \"#fdca26\"], [1.0, \"#f0f921\"]], \"type\": \"heatmapgl\"}], \"histogram\": [{\"marker\": {\"colorbar\": {\"outlinewidth\": 0, \"ticks\": \"\"}}, \"type\": \"histogram\"}], \"histogram2d\": [{\"colorbar\": {\"outlinewidth\": 0, \"ticks\": \"\"}, \"colorscale\": [[0.0, \"#0d0887\"], [0.1111111111111111, \"#46039f\"], [0.2222222222222222, \"#7201a8\"], [0.3333333333333333, \"#9c179e\"], [0.4444444444444444, \"#bd3786\"], [0.5555555555555556, \"#d8576b\"], [0.6666666666666666, \"#ed7953\"], [0.7777777777777778, \"#fb9f3a\"], [0.8888888888888888, \"#fdca26\"], [1.0, \"#f0f921\"]], \"type\": \"histogram2d\"}], \"histogram2dcontour\": [{\"colorbar\": {\"outlinewidth\": 0, \"ticks\": \"\"}, \"colorscale\": [[0.0, \"#0d0887\"], [0.1111111111111111, \"#46039f\"], [0.2222222222222222, \"#7201a8\"], [0.3333333333333333, \"#9c179e\"], [0.4444444444444444, \"#bd3786\"], [0.5555555555555556, \"#d8576b\"], [0.6666666666666666, \"#ed7953\"], [0.7777777777777778, \"#fb9f3a\"], [0.8888888888888888, \"#fdca26\"], [1.0, \"#f0f921\"]], \"type\": \"histogram2dcontour\"}], \"mesh3d\": [{\"colorbar\": {\"outlinewidth\": 0, \"ticks\": \"\"}, \"type\": \"mesh3d\"}], \"parcoords\": [{\"line\": {\"colorbar\": {\"outlinewidth\": 0, \"ticks\": \"\"}}, \"type\": \"parcoords\"}], \"pie\": [{\"automargin\": true, \"type\": \"pie\"}], \"scatter\": [{\"marker\": {\"colorbar\": {\"outlinewidth\": 0, \"ticks\": \"\"}}, \"type\": \"scatter\"}], \"scatter3d\": [{\"line\": {\"colorbar\": {\"outlinewidth\": 0, \"ticks\": \"\"}}, \"marker\": {\"colorbar\": {\"outlinewidth\": 0, \"ticks\": \"\"}}, \"type\": \"scatter3d\"}], \"scattercarpet\": [{\"marker\": {\"colorbar\": {\"outlinewidth\": 0, \"ticks\": \"\"}}, \"type\": \"scattercarpet\"}], \"scattergeo\": [{\"marker\": {\"colorbar\": {\"outlinewidth\": 0, \"ticks\": \"\"}}, \"type\": \"scattergeo\"}], \"scattergl\": [{\"marker\": {\"colorbar\": {\"outlinewidth\": 0, \"ticks\": \"\"}}, \"type\": \"scattergl\"}], \"scattermapbox\": [{\"marker\": {\"colorbar\": {\"outlinewidth\": 0, \"ticks\": \"\"}}, \"type\": \"scattermapbox\"}], \"scatterpolar\": [{\"marker\": {\"colorbar\": {\"outlinewidth\": 0, \"ticks\": \"\"}}, \"type\": \"scatterpolar\"}], \"scatterpolargl\": [{\"marker\": {\"colorbar\": {\"outlinewidth\": 0, \"ticks\": \"\"}}, \"type\": \"scatterpolargl\"}], \"scatterternary\": [{\"marker\": {\"colorbar\": {\"outlinewidth\": 0, \"ticks\": \"\"}}, \"type\": \"scatterternary\"}], \"surface\": [{\"colorbar\": {\"outlinewidth\": 0, \"ticks\": \"\"}, \"colorscale\": [[0.0, \"#0d0887\"], [0.1111111111111111, \"#46039f\"], [0.2222222222222222, \"#7201a8\"], [0.3333333333333333, \"#9c179e\"], [0.4444444444444444, \"#bd3786\"], [0.5555555555555556, \"#d8576b\"], [0.6666666666666666, \"#ed7953\"], [0.7777777777777778, \"#fb9f3a\"], [0.8888888888888888, \"#fdca26\"], [1.0, \"#f0f921\"]], \"type\": \"surface\"}], \"table\": [{\"cells\": {\"fill\": {\"color\": \"#EBF0F8\"}, \"line\": {\"color\": \"white\"}}, \"header\": {\"fill\": {\"color\": \"#C8D4E3\"}, \"line\": {\"color\": \"white\"}}, \"type\": \"table\"}]}, \"layout\": {\"annotationdefaults\": {\"arrowcolor\": \"#2a3f5f\", \"arrowhead\": 0, \"arrowwidth\": 1}, \"coloraxis\": {\"colorbar\": {\"outlinewidth\": 0, \"ticks\": \"\"}}, \"colorscale\": {\"diverging\": [[0, \"#8e0152\"], [0.1, \"#c51b7d\"], [0.2, \"#de77ae\"], [0.3, \"#f1b6da\"], [0.4, \"#fde0ef\"], [0.5, \"#f7f7f7\"], [0.6, \"#e6f5d0\"], [0.7, \"#b8e186\"], [0.8, \"#7fbc41\"], [0.9, \"#4d9221\"], [1, \"#276419\"]], \"sequential\": [[0.0, \"#0d0887\"], [0.1111111111111111, \"#46039f\"], [0.2222222222222222, \"#7201a8\"], [0.3333333333333333, \"#9c179e\"], [0.4444444444444444, \"#bd3786\"], [0.5555555555555556, \"#d8576b\"], [0.6666666666666666, \"#ed7953\"], [0.7777777777777778, \"#fb9f3a\"], [0.8888888888888888, \"#fdca26\"], [1.0, \"#f0f921\"]], \"sequentialminus\": [[0.0, \"#0d0887\"], [0.1111111111111111, \"#46039f\"], [0.2222222222222222, \"#7201a8\"], [0.3333333333333333, \"#9c179e\"], [0.4444444444444444, \"#bd3786\"], [0.5555555555555556, \"#d8576b\"], [0.6666666666666666, \"#ed7953\"], [0.7777777777777778, \"#fb9f3a\"], [0.8888888888888888, \"#fdca26\"], [1.0, \"#f0f921\"]]}, \"colorway\": [\"#636efa\", \"#EF553B\", \"#00cc96\", \"#ab63fa\", \"#FFA15A\", \"#19d3f3\", \"#FF6692\", \"#B6E880\", \"#FF97FF\", \"#FECB52\"], \"font\": {\"color\": \"#2a3f5f\"}, \"geo\": {\"bgcolor\": \"white\", \"lakecolor\": \"white\", \"landcolor\": \"#E5ECF6\", \"showlakes\": true, \"showland\": true, \"subunitcolor\": \"white\"}, \"hoverlabel\": {\"align\": \"left\"}, \"hovermode\": \"closest\", \"mapbox\": {\"style\": \"light\"}, \"paper_bgcolor\": \"white\", \"plot_bgcolor\": \"#E5ECF6\", \"polar\": {\"angularaxis\": {\"gridcolor\": \"white\", \"linecolor\": \"white\", \"ticks\": \"\"}, \"bgcolor\": \"#E5ECF6\", \"radialaxis\": {\"gridcolor\": \"white\", \"linecolor\": \"white\", \"ticks\": \"\"}}, \"scene\": {\"xaxis\": {\"backgroundcolor\": \"#E5ECF6\", \"gridcolor\": \"white\", \"gridwidth\": 2, \"linecolor\": \"white\", \"showbackground\": true, \"ticks\": \"\", \"zerolinecolor\": \"white\"}, \"yaxis\": {\"backgroundcolor\": \"#E5ECF6\", \"gridcolor\": \"white\", \"gridwidth\": 2, \"linecolor\": \"white\", \"showbackground\": true, \"ticks\": \"\", \"zerolinecolor\": \"white\"}, \"zaxis\": {\"backgroundcolor\": \"#E5ECF6\", \"gridcolor\": \"white\", \"gridwidth\": 2, \"linecolor\": \"white\", \"showbackground\": true, \"ticks\": \"\", \"zerolinecolor\": \"white\"}}, \"shapedefaults\": {\"line\": {\"color\": \"#2a3f5f\"}}, \"ternary\": {\"aaxis\": {\"gridcolor\": \"white\", \"linecolor\": \"white\", \"ticks\": \"\"}, \"baxis\": {\"gridcolor\": \"white\", \"linecolor\": \"white\", \"ticks\": \"\"}, \"bgcolor\": \"#E5ECF6\", \"caxis\": {\"gridcolor\": \"white\", \"linecolor\": \"white\", \"ticks\": \"\"}}, \"title\": {\"x\": 0.05}, \"xaxis\": {\"automargin\": true, \"gridcolor\": \"white\", \"linecolor\": \"white\", \"ticks\": \"\", \"title\": {\"standoff\": 15}, \"zerolinecolor\": \"white\", \"zerolinewidth\": 2}, \"yaxis\": {\"automargin\": true, \"gridcolor\": \"white\", \"linecolor\": \"white\", \"ticks\": \"\", \"title\": {\"standoff\": 15}, \"zerolinecolor\": \"white\", \"zerolinewidth\": 2}}}, \"title\": {\"text\": \"Complete Wing-Back - Support\"}, \"xaxis\": {\"anchor\": \"y\", \"domain\": [0.0, 1.0], \"title\": {\"text\": \"Key Passes/90\"}}, \"yaxis\": {\"anchor\": \"x\", \"domain\": [0.0, 1.0], \"title\": {\"text\": \"Cross Completion %\"}}},\n",
       "                        {\"responsive\": true}\n",
       "                    ).then(function(){\n",
       "                            \n",
       "var gd = document.getElementById('37d5357c-a78d-4776-9dff-6ac648e8ec3a');\n",
       "var x = new MutationObserver(function (mutations, observer) {{\n",
       "        var display = window.getComputedStyle(gd).display;\n",
       "        if (!display || display === 'none') {{\n",
       "            console.log([gd, 'removed!']);\n",
       "            Plotly.purge(gd);\n",
       "            observer.disconnect();\n",
       "        }}\n",
       "}});\n",
       "\n",
       "// Listen for the removal of the full notebook cells\n",
       "var notebookContainer = gd.closest('#notebook-container');\n",
       "if (notebookContainer) {{\n",
       "    x.observe(notebookContainer, {childList: true});\n",
       "}}\n",
       "\n",
       "// Listen for the clearing of the current output cell\n",
       "var outputEl = gd.closest('.output');\n",
       "if (outputEl) {{\n",
       "    x.observe(outputEl, {childList: true});\n",
       "}}\n",
       "\n",
       "                        })\n",
       "                };\n",
       "                });\n",
       "            </script>\n",
       "        </div>"
      ]
     },
     "metadata": {},
     "output_type": "display_data"
    }
   ],
   "source": [
    "# Complete Wing-Back - Support\n",
    "\n",
    "fig = px.scatter(df, x=\"K Ps/90\", y=\"Cr C/A\", color=\"Name\",  \n",
    "        size='Age', hover_data=['Name'])\n",
    "\n",
    "fig.update_layout(\n",
    "    title=\"Complete Wing-Back - Support\",\n",
    "    xaxis_title=\"Key Passes/90\",\n",
    "    yaxis_title=\"Cross Completion %\",\n",
    "    font=dict(\n",
    "        family=\"Courier New, monospace\",\n",
    "        size=16,\n",
    "        color=\"#7f7f7f\"\n",
    "    )\n",
    ")\n",
    "fig.show()"
   ]
  },
  {
   "cell_type": "code",
   "execution_count": 7,
   "metadata": {},
   "outputs": [
    {
     "data": {
      "application/vnd.plotly.v1+json": {
       "config": {
        "plotlyServerURL": "https://plot.ly"
       },
       "data": [
        {
         "customdata": [
          [
           "Shawn Hery"
          ]
         ],
         "hovertemplate": "Name=%{customdata[0]}<br>DrbPG=%{x}<br>Cr C/A=%{y}<br>Age=%{marker.size}<extra></extra>",
         "legendgroup": "Shawn Hery",
         "marker": {
          "color": "#636efa",
          "size": [
           21
          ],
          "sizemode": "area",
          "sizeref": 0.0875,
          "symbol": "circle"
         },
         "mode": "markers",
         "name": "Shawn Hery",
         "showlegend": true,
         "type": "scatter",
         "x": [
          "4.31"
         ],
         "xaxis": "x",
         "y": [
          "18%"
         ],
         "yaxis": "y"
        },
        {
         "customdata": [
          [
           "Franck Evina"
          ]
         ],
         "hovertemplate": "Name=%{customdata[0]}<br>DrbPG=%{x}<br>Cr C/A=%{y}<br>Age=%{marker.size}<extra></extra>",
         "legendgroup": "Franck Evina",
         "marker": {
          "color": "#EF553B",
          "size": [
           22
          ],
          "sizemode": "area",
          "sizeref": 0.0875,
          "symbol": "circle"
         },
         "mode": "markers",
         "name": "Franck Evina",
         "showlegend": true,
         "type": "scatter",
         "x": [
          "1.28"
         ],
         "xaxis": "x",
         "y": [
          "27%"
         ],
         "yaxis": "y"
        },
        {
         "customdata": [
          [
           "Luca Unbehaun"
          ]
         ],
         "hovertemplate": "Name=%{customdata[0]}<br>DrbPG=%{x}<br>Cr C/A=%{y}<br>Age=%{marker.size}<extra></extra>",
         "legendgroup": "Luca Unbehaun",
         "marker": {
          "color": "#00cc96",
          "size": [
           21
          ],
          "sizemode": "area",
          "sizeref": 0.0875,
          "symbol": "circle"
         },
         "mode": "markers",
         "name": "Luca Unbehaun",
         "showlegend": true,
         "type": "scatter",
         "x": [
          "-"
         ],
         "xaxis": "x",
         "y": [
          "0%"
         ],
         "yaxis": "y"
        },
        {
         "customdata": [
          [
           "Marvin Jung"
          ]
         ],
         "hovertemplate": "Name=%{customdata[0]}<br>DrbPG=%{x}<br>Cr C/A=%{y}<br>Age=%{marker.size}<extra></extra>",
         "legendgroup": "Marvin Jung",
         "marker": {
          "color": "#ab63fa",
          "size": [
           21
          ],
          "sizemode": "area",
          "sizeref": 0.0875,
          "symbol": "circle"
         },
         "mode": "markers",
         "name": "Marvin Jung",
         "showlegend": true,
         "type": "scatter",
         "x": [
          "4.09"
         ],
         "xaxis": "x",
         "y": [
          "15%"
         ],
         "yaxis": "y"
        },
        {
         "customdata": [
          [
           "Mike Fitzner"
          ]
         ],
         "hovertemplate": "Name=%{customdata[0]}<br>DrbPG=%{x}<br>Cr C/A=%{y}<br>Age=%{marker.size}<extra></extra>",
         "legendgroup": "Mike Fitzner",
         "marker": {
          "color": "#FFA15A",
          "size": [
           18
          ],
          "sizemode": "area",
          "sizeref": 0.0875,
          "symbol": "circle"
         },
         "mode": "markers",
         "name": "Mike Fitzner",
         "showlegend": true,
         "type": "scatter",
         "x": [
          "2.39"
         ],
         "xaxis": "x",
         "y": [
          "19%"
         ],
         "yaxis": "y"
        },
        {
         "customdata": [
          [
           "Sefer AygÃ¼n"
          ]
         ],
         "hovertemplate": "Name=%{customdata[0]}<br>DrbPG=%{x}<br>Cr C/A=%{y}<br>Age=%{marker.size}<extra></extra>",
         "legendgroup": "Sefer AygÃ¼n",
         "marker": {
          "color": "#19d3f3",
          "size": [
           18
          ],
          "sizemode": "area",
          "sizeref": 0.0875,
          "symbol": "circle"
         },
         "mode": "markers",
         "name": "Sefer AygÃ¼n",
         "showlegend": true,
         "type": "scatter",
         "x": [
          "2.12"
         ],
         "xaxis": "x",
         "y": [
          "23%"
         ],
         "yaxis": "y"
        },
        {
         "customdata": [
          [
           "Marco Hiller"
          ]
         ],
         "hovertemplate": "Name=%{customdata[0]}<br>DrbPG=%{x}<br>Cr C/A=%{y}<br>Age=%{marker.size}<extra></extra>",
         "legendgroup": "Marco Hiller",
         "marker": {
          "color": "#FF6692",
          "size": [
           25
          ],
          "sizemode": "area",
          "sizeref": 0.0875,
          "symbol": "circle"
         },
         "mode": "markers",
         "name": "Marco Hiller",
         "showlegend": true,
         "type": "scatter",
         "x": [
          "-"
         ],
         "xaxis": "x",
         "y": [
          "0%"
         ],
         "yaxis": "y"
        },
        {
         "customdata": [
          [
           "Leon Klassen"
          ]
         ],
         "hovertemplate": "Name=%{customdata[0]}<br>DrbPG=%{x}<br>Cr C/A=%{y}<br>Age=%{marker.size}<extra></extra>",
         "legendgroup": "Leon Klassen",
         "marker": {
          "color": "#B6E880",
          "size": [
           22
          ],
          "sizemode": "area",
          "sizeref": 0.0875,
          "symbol": "circle"
         },
         "mode": "markers",
         "name": "Leon Klassen",
         "showlegend": true,
         "type": "scatter",
         "x": [
          "2.83"
         ],
         "xaxis": "x",
         "y": [
          "18%"
         ],
         "yaxis": "y"
        },
        {
         "customdata": [
          [
           "Noel Niemann"
          ]
         ],
         "hovertemplate": "Name=%{customdata[0]}<br>DrbPG=%{x}<br>Cr C/A=%{y}<br>Age=%{marker.size}<extra></extra>",
         "legendgroup": "Noel Niemann",
         "marker": {
          "color": "#FF97FF",
          "size": [
           23
          ],
          "sizemode": "area",
          "sizeref": 0.0875,
          "symbol": "circle"
         },
         "mode": "markers",
         "name": "Noel Niemann",
         "showlegend": true,
         "type": "scatter",
         "x": [
          "3.38"
         ],
         "xaxis": "x",
         "y": [
          "18%"
         ],
         "yaxis": "y"
        },
        {
         "customdata": [
          [
           "Lucas Deaux"
          ]
         ],
         "hovertemplate": "Name=%{customdata[0]}<br>DrbPG=%{x}<br>Cr C/A=%{y}<br>Age=%{marker.size}<extra></extra>",
         "legendgroup": "Lucas Deaux",
         "marker": {
          "color": "#FECB52",
          "size": [
           33
          ],
          "sizemode": "area",
          "sizeref": 0.0875,
          "symbol": "circle"
         },
         "mode": "markers",
         "name": "Lucas Deaux",
         "showlegend": true,
         "type": "scatter",
         "x": [
          "0.57"
         ],
         "xaxis": "x",
         "y": [
          "40%"
         ],
         "yaxis": "y"
        },
        {
         "customdata": [
          [
           "Julian Schwermann"
          ]
         ],
         "hovertemplate": "Name=%{customdata[0]}<br>DrbPG=%{x}<br>Cr C/A=%{y}<br>Age=%{marker.size}<extra></extra>",
         "legendgroup": "Julian Schwermann",
         "marker": {
          "color": "#636efa",
          "size": [
           23
          ],
          "sizemode": "area",
          "sizeref": 0.0875,
          "symbol": "circle"
         },
         "mode": "markers",
         "name": "Julian Schwermann",
         "showlegend": true,
         "type": "scatter",
         "x": [
          "0.36"
         ],
         "xaxis": "x",
         "y": [
          "40%"
         ],
         "yaxis": "y"
        },
        {
         "customdata": [
          [
           "Oliver Kragl"
          ]
         ],
         "hovertemplate": "Name=%{customdata[0]}<br>DrbPG=%{x}<br>Cr C/A=%{y}<br>Age=%{marker.size}<extra></extra>",
         "legendgroup": "Oliver Kragl",
         "marker": {
          "color": "#EF553B",
          "size": [
           32
          ],
          "sizemode": "area",
          "sizeref": 0.0875,
          "symbol": "circle"
         },
         "mode": "markers",
         "name": "Oliver Kragl",
         "showlegend": true,
         "type": "scatter",
         "x": [
          "2.93"
         ],
         "xaxis": "x",
         "y": [
          "16%"
         ],
         "yaxis": "y"
        },
        {
         "customdata": [
          [
           "Ben SchÃ¤fer"
          ]
         ],
         "hovertemplate": "Name=%{customdata[0]}<br>DrbPG=%{x}<br>Cr C/A=%{y}<br>Age=%{marker.size}<extra></extra>",
         "legendgroup": "Ben SchÃ¤fer",
         "marker": {
          "color": "#00cc96",
          "size": [
           18
          ],
          "sizemode": "area",
          "sizeref": 0.0875,
          "symbol": "circle"
         },
         "mode": "markers",
         "name": "Ben SchÃ¤fer",
         "showlegend": true,
         "type": "scatter",
         "x": [
          "-"
         ],
         "xaxis": "x",
         "y": [
          "-"
         ],
         "yaxis": "y"
        },
        {
         "customdata": [
          [
           "Andreas Ahlm"
          ]
         ],
         "hovertemplate": "Name=%{customdata[0]}<br>DrbPG=%{x}<br>Cr C/A=%{y}<br>Age=%{marker.size}<extra></extra>",
         "legendgroup": "Andreas Ahlm",
         "marker": {
          "color": "#ab63fa",
          "size": [
           18
          ],
          "sizemode": "area",
          "sizeref": 0.0875,
          "symbol": "circle"
         },
         "mode": "markers",
         "name": "Andreas Ahlm",
         "showlegend": true,
         "type": "scatter",
         "x": [
          "-"
         ],
         "xaxis": "x",
         "y": [
          "-"
         ],
         "yaxis": "y"
        },
        {
         "customdata": [
          [
           "Petr Dvorak"
          ]
         ],
         "hovertemplate": "Name=%{customdata[0]}<br>DrbPG=%{x}<br>Cr C/A=%{y}<br>Age=%{marker.size}<extra></extra>",
         "legendgroup": "Petr Dvorak",
         "marker": {
          "color": "#FFA15A",
          "size": [
           17
          ],
          "sizemode": "area",
          "sizeref": 0.0875,
          "symbol": "circle"
         },
         "mode": "markers",
         "name": "Petr Dvorak",
         "showlegend": true,
         "type": "scatter",
         "x": [
          "-"
         ],
         "xaxis": "x",
         "y": [
          "-"
         ],
         "yaxis": "y"
        },
        {
         "customdata": [
          [
           "Efkan Bekiroglu"
          ]
         ],
         "hovertemplate": "Name=%{customdata[0]}<br>DrbPG=%{x}<br>Cr C/A=%{y}<br>Age=%{marker.size}<extra></extra>",
         "legendgroup": "Efkan Bekiroglu",
         "marker": {
          "color": "#19d3f3",
          "size": [
           27
          ],
          "sizemode": "area",
          "sizeref": 0.0875,
          "symbol": "circle"
         },
         "mode": "markers",
         "name": "Efkan Bekiroglu",
         "showlegend": true,
         "type": "scatter",
         "x": [
          "0.22"
         ],
         "xaxis": "x",
         "y": [
          "20%"
         ],
         "yaxis": "y"
        },
        {
         "customdata": [
          [
           "Fabian Greilinger"
          ]
         ],
         "hovertemplate": "Name=%{customdata[0]}<br>DrbPG=%{x}<br>Cr C/A=%{y}<br>Age=%{marker.size}<extra></extra>",
         "legendgroup": "Fabian Greilinger",
         "marker": {
          "color": "#FF6692",
          "size": [
           22
          ],
          "sizemode": "area",
          "sizeref": 0.0875,
          "symbol": "circle"
         },
         "mode": "markers",
         "name": "Fabian Greilinger",
         "showlegend": true,
         "type": "scatter",
         "x": [
          "3.60"
         ],
         "xaxis": "x",
         "y": [
          "19%"
         ],
         "yaxis": "y"
        },
        {
         "customdata": [
          [
           "Marko Basic"
          ]
         ],
         "hovertemplate": "Name=%{customdata[0]}<br>DrbPG=%{x}<br>Cr C/A=%{y}<br>Age=%{marker.size}<extra></extra>",
         "legendgroup": "Marko Basic",
         "marker": {
          "color": "#B6E880",
          "size": [
           17
          ],
          "sizemode": "area",
          "sizeref": 0.0875,
          "symbol": "circle"
         },
         "mode": "markers",
         "name": "Marko Basic",
         "showlegend": true,
         "type": "scatter",
         "x": [
          "-"
         ],
         "xaxis": "x",
         "y": [
          "-"
         ],
         "yaxis": "y"
        },
        {
         "customdata": [
          [
           "Mert GÃ¶ckan"
          ]
         ],
         "hovertemplate": "Name=%{customdata[0]}<br>DrbPG=%{x}<br>Cr C/A=%{y}<br>Age=%{marker.size}<extra></extra>",
         "legendgroup": "Mert GÃ¶ckan",
         "marker": {
          "color": "#FF97FF",
          "size": [
           21
          ],
          "sizemode": "area",
          "sizeref": 0.0875,
          "symbol": "circle"
         },
         "mode": "markers",
         "name": "Mert GÃ¶ckan",
         "showlegend": true,
         "type": "scatter",
         "x": [
          "0.88"
         ],
         "xaxis": "x",
         "y": [
          "11%"
         ],
         "yaxis": "y"
        },
        {
         "customdata": [
          [
           "Gabriel Isik"
          ]
         ],
         "hovertemplate": "Name=%{customdata[0]}<br>DrbPG=%{x}<br>Cr C/A=%{y}<br>Age=%{marker.size}<extra></extra>",
         "legendgroup": "Gabriel Isik",
         "marker": {
          "color": "#FECB52",
          "size": [
           23
          ],
          "sizemode": "area",
          "sizeref": 0.0875,
          "symbol": "circle"
         },
         "mode": "markers",
         "name": "Gabriel Isik",
         "showlegend": true,
         "type": "scatter",
         "x": [
          "0.44"
         ],
         "xaxis": "x",
         "y": [
          "0%"
         ],
         "yaxis": "y"
        },
        {
         "customdata": [
          [
           "Pawel Majewski"
          ]
         ],
         "hovertemplate": "Name=%{customdata[0]}<br>DrbPG=%{x}<br>Cr C/A=%{y}<br>Age=%{marker.size}<extra></extra>",
         "legendgroup": "Pawel Majewski",
         "marker": {
          "color": "#636efa",
          "size": [
           18
          ],
          "sizemode": "area",
          "sizeref": 0.0875,
          "symbol": "circle"
         },
         "mode": "markers",
         "name": "Pawel Majewski",
         "showlegend": true,
         "type": "scatter",
         "x": [
          "-"
         ],
         "xaxis": "x",
         "y": [
          "0%"
         ],
         "yaxis": "y"
        },
        {
         "customdata": [
          [
           "Peter KÃ¶ster"
          ]
         ],
         "hovertemplate": "Name=%{customdata[0]}<br>DrbPG=%{x}<br>Cr C/A=%{y}<br>Age=%{marker.size}<extra></extra>",
         "legendgroup": "Peter KÃ¶ster",
         "marker": {
          "color": "#EF553B",
          "size": [
           23
          ],
          "sizemode": "area",
          "sizeref": 0.0875,
          "symbol": "circle"
         },
         "mode": "markers",
         "name": "Peter KÃ¶ster",
         "showlegend": true,
         "type": "scatter",
         "x": [
          "0.32"
         ],
         "xaxis": "x",
         "y": [
          "0%"
         ],
         "yaxis": "y"
        },
        {
         "customdata": [
          [
           "Abdoulaye Niang"
          ]
         ],
         "hovertemplate": "Name=%{customdata[0]}<br>DrbPG=%{x}<br>Cr C/A=%{y}<br>Age=%{marker.size}<extra></extra>",
         "legendgroup": "Abdoulaye Niang",
         "marker": {
          "color": "#00cc96",
          "size": [
           19
          ],
          "sizemode": "area",
          "sizeref": 0.0875,
          "symbol": "circle"
         },
         "mode": "markers",
         "name": "Abdoulaye Niang",
         "showlegend": true,
         "type": "scatter",
         "x": [
          "0.97"
         ],
         "xaxis": "x",
         "y": [
          "25%"
         ],
         "yaxis": "y"
        },
        {
         "customdata": [
          [
           "Sven Bender"
          ]
         ],
         "hovertemplate": "Name=%{customdata[0]}<br>DrbPG=%{x}<br>Cr C/A=%{y}<br>Age=%{marker.size}<extra></extra>",
         "legendgroup": "Sven Bender",
         "marker": {
          "color": "#ab63fa",
          "size": [
           33
          ],
          "sizemode": "area",
          "sizeref": 0.0875,
          "symbol": "circle"
         },
         "mode": "markers",
         "name": "Sven Bender",
         "showlegend": true,
         "type": "scatter",
         "x": [
          "0.39"
         ],
         "xaxis": "x",
         "y": [
          "0%"
         ],
         "yaxis": "y"
        },
        {
         "customdata": [
          [
           "Gary Medel"
          ]
         ],
         "hovertemplate": "Name=%{customdata[0]}<br>DrbPG=%{x}<br>Cr C/A=%{y}<br>Age=%{marker.size}<extra></extra>",
         "legendgroup": "Gary Medel",
         "marker": {
          "color": "#FFA15A",
          "size": [
           35
          ],
          "sizemode": "area",
          "sizeref": 0.0875,
          "symbol": "circle"
         },
         "mode": "markers",
         "name": "Gary Medel",
         "showlegend": true,
         "type": "scatter",
         "x": [
          "0.56"
         ],
         "xaxis": "x",
         "y": [
          "33%"
         ],
         "yaxis": "y"
        }
       ],
       "layout": {
        "font": {
         "color": "#7f7f7f",
         "family": "Courier New, monospace",
         "size": 16
        },
        "legend": {
         "itemsizing": "constant",
         "title": {
          "text": "Name"
         },
         "tracegroupgap": 0
        },
        "margin": {
         "t": 60
        },
        "template": {
         "data": {
          "bar": [
           {
            "error_x": {
             "color": "#2a3f5f"
            },
            "error_y": {
             "color": "#2a3f5f"
            },
            "marker": {
             "line": {
              "color": "#E5ECF6",
              "width": 0.5
             }
            },
            "type": "bar"
           }
          ],
          "barpolar": [
           {
            "marker": {
             "line": {
              "color": "#E5ECF6",
              "width": 0.5
             }
            },
            "type": "barpolar"
           }
          ],
          "carpet": [
           {
            "aaxis": {
             "endlinecolor": "#2a3f5f",
             "gridcolor": "white",
             "linecolor": "white",
             "minorgridcolor": "white",
             "startlinecolor": "#2a3f5f"
            },
            "baxis": {
             "endlinecolor": "#2a3f5f",
             "gridcolor": "white",
             "linecolor": "white",
             "minorgridcolor": "white",
             "startlinecolor": "#2a3f5f"
            },
            "type": "carpet"
           }
          ],
          "choropleth": [
           {
            "colorbar": {
             "outlinewidth": 0,
             "ticks": ""
            },
            "type": "choropleth"
           }
          ],
          "contour": [
           {
            "colorbar": {
             "outlinewidth": 0,
             "ticks": ""
            },
            "colorscale": [
             [
              0,
              "#0d0887"
             ],
             [
              0.1111111111111111,
              "#46039f"
             ],
             [
              0.2222222222222222,
              "#7201a8"
             ],
             [
              0.3333333333333333,
              "#9c179e"
             ],
             [
              0.4444444444444444,
              "#bd3786"
             ],
             [
              0.5555555555555556,
              "#d8576b"
             ],
             [
              0.6666666666666666,
              "#ed7953"
             ],
             [
              0.7777777777777778,
              "#fb9f3a"
             ],
             [
              0.8888888888888888,
              "#fdca26"
             ],
             [
              1,
              "#f0f921"
             ]
            ],
            "type": "contour"
           }
          ],
          "contourcarpet": [
           {
            "colorbar": {
             "outlinewidth": 0,
             "ticks": ""
            },
            "type": "contourcarpet"
           }
          ],
          "heatmap": [
           {
            "colorbar": {
             "outlinewidth": 0,
             "ticks": ""
            },
            "colorscale": [
             [
              0,
              "#0d0887"
             ],
             [
              0.1111111111111111,
              "#46039f"
             ],
             [
              0.2222222222222222,
              "#7201a8"
             ],
             [
              0.3333333333333333,
              "#9c179e"
             ],
             [
              0.4444444444444444,
              "#bd3786"
             ],
             [
              0.5555555555555556,
              "#d8576b"
             ],
             [
              0.6666666666666666,
              "#ed7953"
             ],
             [
              0.7777777777777778,
              "#fb9f3a"
             ],
             [
              0.8888888888888888,
              "#fdca26"
             ],
             [
              1,
              "#f0f921"
             ]
            ],
            "type": "heatmap"
           }
          ],
          "heatmapgl": [
           {
            "colorbar": {
             "outlinewidth": 0,
             "ticks": ""
            },
            "colorscale": [
             [
              0,
              "#0d0887"
             ],
             [
              0.1111111111111111,
              "#46039f"
             ],
             [
              0.2222222222222222,
              "#7201a8"
             ],
             [
              0.3333333333333333,
              "#9c179e"
             ],
             [
              0.4444444444444444,
              "#bd3786"
             ],
             [
              0.5555555555555556,
              "#d8576b"
             ],
             [
              0.6666666666666666,
              "#ed7953"
             ],
             [
              0.7777777777777778,
              "#fb9f3a"
             ],
             [
              0.8888888888888888,
              "#fdca26"
             ],
             [
              1,
              "#f0f921"
             ]
            ],
            "type": "heatmapgl"
           }
          ],
          "histogram": [
           {
            "marker": {
             "colorbar": {
              "outlinewidth": 0,
              "ticks": ""
             }
            },
            "type": "histogram"
           }
          ],
          "histogram2d": [
           {
            "colorbar": {
             "outlinewidth": 0,
             "ticks": ""
            },
            "colorscale": [
             [
              0,
              "#0d0887"
             ],
             [
              0.1111111111111111,
              "#46039f"
             ],
             [
              0.2222222222222222,
              "#7201a8"
             ],
             [
              0.3333333333333333,
              "#9c179e"
             ],
             [
              0.4444444444444444,
              "#bd3786"
             ],
             [
              0.5555555555555556,
              "#d8576b"
             ],
             [
              0.6666666666666666,
              "#ed7953"
             ],
             [
              0.7777777777777778,
              "#fb9f3a"
             ],
             [
              0.8888888888888888,
              "#fdca26"
             ],
             [
              1,
              "#f0f921"
             ]
            ],
            "type": "histogram2d"
           }
          ],
          "histogram2dcontour": [
           {
            "colorbar": {
             "outlinewidth": 0,
             "ticks": ""
            },
            "colorscale": [
             [
              0,
              "#0d0887"
             ],
             [
              0.1111111111111111,
              "#46039f"
             ],
             [
              0.2222222222222222,
              "#7201a8"
             ],
             [
              0.3333333333333333,
              "#9c179e"
             ],
             [
              0.4444444444444444,
              "#bd3786"
             ],
             [
              0.5555555555555556,
              "#d8576b"
             ],
             [
              0.6666666666666666,
              "#ed7953"
             ],
             [
              0.7777777777777778,
              "#fb9f3a"
             ],
             [
              0.8888888888888888,
              "#fdca26"
             ],
             [
              1,
              "#f0f921"
             ]
            ],
            "type": "histogram2dcontour"
           }
          ],
          "mesh3d": [
           {
            "colorbar": {
             "outlinewidth": 0,
             "ticks": ""
            },
            "type": "mesh3d"
           }
          ],
          "parcoords": [
           {
            "line": {
             "colorbar": {
              "outlinewidth": 0,
              "ticks": ""
             }
            },
            "type": "parcoords"
           }
          ],
          "pie": [
           {
            "automargin": true,
            "type": "pie"
           }
          ],
          "scatter": [
           {
            "marker": {
             "colorbar": {
              "outlinewidth": 0,
              "ticks": ""
             }
            },
            "type": "scatter"
           }
          ],
          "scatter3d": [
           {
            "line": {
             "colorbar": {
              "outlinewidth": 0,
              "ticks": ""
             }
            },
            "marker": {
             "colorbar": {
              "outlinewidth": 0,
              "ticks": ""
             }
            },
            "type": "scatter3d"
           }
          ],
          "scattercarpet": [
           {
            "marker": {
             "colorbar": {
              "outlinewidth": 0,
              "ticks": ""
             }
            },
            "type": "scattercarpet"
           }
          ],
          "scattergeo": [
           {
            "marker": {
             "colorbar": {
              "outlinewidth": 0,
              "ticks": ""
             }
            },
            "type": "scattergeo"
           }
          ],
          "scattergl": [
           {
            "marker": {
             "colorbar": {
              "outlinewidth": 0,
              "ticks": ""
             }
            },
            "type": "scattergl"
           }
          ],
          "scattermapbox": [
           {
            "marker": {
             "colorbar": {
              "outlinewidth": 0,
              "ticks": ""
             }
            },
            "type": "scattermapbox"
           }
          ],
          "scatterpolar": [
           {
            "marker": {
             "colorbar": {
              "outlinewidth": 0,
              "ticks": ""
             }
            },
            "type": "scatterpolar"
           }
          ],
          "scatterpolargl": [
           {
            "marker": {
             "colorbar": {
              "outlinewidth": 0,
              "ticks": ""
             }
            },
            "type": "scatterpolargl"
           }
          ],
          "scatterternary": [
           {
            "marker": {
             "colorbar": {
              "outlinewidth": 0,
              "ticks": ""
             }
            },
            "type": "scatterternary"
           }
          ],
          "surface": [
           {
            "colorbar": {
             "outlinewidth": 0,
             "ticks": ""
            },
            "colorscale": [
             [
              0,
              "#0d0887"
             ],
             [
              0.1111111111111111,
              "#46039f"
             ],
             [
              0.2222222222222222,
              "#7201a8"
             ],
             [
              0.3333333333333333,
              "#9c179e"
             ],
             [
              0.4444444444444444,
              "#bd3786"
             ],
             [
              0.5555555555555556,
              "#d8576b"
             ],
             [
              0.6666666666666666,
              "#ed7953"
             ],
             [
              0.7777777777777778,
              "#fb9f3a"
             ],
             [
              0.8888888888888888,
              "#fdca26"
             ],
             [
              1,
              "#f0f921"
             ]
            ],
            "type": "surface"
           }
          ],
          "table": [
           {
            "cells": {
             "fill": {
              "color": "#EBF0F8"
             },
             "line": {
              "color": "white"
             }
            },
            "header": {
             "fill": {
              "color": "#C8D4E3"
             },
             "line": {
              "color": "white"
             }
            },
            "type": "table"
           }
          ]
         },
         "layout": {
          "annotationdefaults": {
           "arrowcolor": "#2a3f5f",
           "arrowhead": 0,
           "arrowwidth": 1
          },
          "coloraxis": {
           "colorbar": {
            "outlinewidth": 0,
            "ticks": ""
           }
          },
          "colorscale": {
           "diverging": [
            [
             0,
             "#8e0152"
            ],
            [
             0.1,
             "#c51b7d"
            ],
            [
             0.2,
             "#de77ae"
            ],
            [
             0.3,
             "#f1b6da"
            ],
            [
             0.4,
             "#fde0ef"
            ],
            [
             0.5,
             "#f7f7f7"
            ],
            [
             0.6,
             "#e6f5d0"
            ],
            [
             0.7,
             "#b8e186"
            ],
            [
             0.8,
             "#7fbc41"
            ],
            [
             0.9,
             "#4d9221"
            ],
            [
             1,
             "#276419"
            ]
           ],
           "sequential": [
            [
             0,
             "#0d0887"
            ],
            [
             0.1111111111111111,
             "#46039f"
            ],
            [
             0.2222222222222222,
             "#7201a8"
            ],
            [
             0.3333333333333333,
             "#9c179e"
            ],
            [
             0.4444444444444444,
             "#bd3786"
            ],
            [
             0.5555555555555556,
             "#d8576b"
            ],
            [
             0.6666666666666666,
             "#ed7953"
            ],
            [
             0.7777777777777778,
             "#fb9f3a"
            ],
            [
             0.8888888888888888,
             "#fdca26"
            ],
            [
             1,
             "#f0f921"
            ]
           ],
           "sequentialminus": [
            [
             0,
             "#0d0887"
            ],
            [
             0.1111111111111111,
             "#46039f"
            ],
            [
             0.2222222222222222,
             "#7201a8"
            ],
            [
             0.3333333333333333,
             "#9c179e"
            ],
            [
             0.4444444444444444,
             "#bd3786"
            ],
            [
             0.5555555555555556,
             "#d8576b"
            ],
            [
             0.6666666666666666,
             "#ed7953"
            ],
            [
             0.7777777777777778,
             "#fb9f3a"
            ],
            [
             0.8888888888888888,
             "#fdca26"
            ],
            [
             1,
             "#f0f921"
            ]
           ]
          },
          "colorway": [
           "#636efa",
           "#EF553B",
           "#00cc96",
           "#ab63fa",
           "#FFA15A",
           "#19d3f3",
           "#FF6692",
           "#B6E880",
           "#FF97FF",
           "#FECB52"
          ],
          "font": {
           "color": "#2a3f5f"
          },
          "geo": {
           "bgcolor": "white",
           "lakecolor": "white",
           "landcolor": "#E5ECF6",
           "showlakes": true,
           "showland": true,
           "subunitcolor": "white"
          },
          "hoverlabel": {
           "align": "left"
          },
          "hovermode": "closest",
          "mapbox": {
           "style": "light"
          },
          "paper_bgcolor": "white",
          "plot_bgcolor": "#E5ECF6",
          "polar": {
           "angularaxis": {
            "gridcolor": "white",
            "linecolor": "white",
            "ticks": ""
           },
           "bgcolor": "#E5ECF6",
           "radialaxis": {
            "gridcolor": "white",
            "linecolor": "white",
            "ticks": ""
           }
          },
          "scene": {
           "xaxis": {
            "backgroundcolor": "#E5ECF6",
            "gridcolor": "white",
            "gridwidth": 2,
            "linecolor": "white",
            "showbackground": true,
            "ticks": "",
            "zerolinecolor": "white"
           },
           "yaxis": {
            "backgroundcolor": "#E5ECF6",
            "gridcolor": "white",
            "gridwidth": 2,
            "linecolor": "white",
            "showbackground": true,
            "ticks": "",
            "zerolinecolor": "white"
           },
           "zaxis": {
            "backgroundcolor": "#E5ECF6",
            "gridcolor": "white",
            "gridwidth": 2,
            "linecolor": "white",
            "showbackground": true,
            "ticks": "",
            "zerolinecolor": "white"
           }
          },
          "shapedefaults": {
           "line": {
            "color": "#2a3f5f"
           }
          },
          "ternary": {
           "aaxis": {
            "gridcolor": "white",
            "linecolor": "white",
            "ticks": ""
           },
           "baxis": {
            "gridcolor": "white",
            "linecolor": "white",
            "ticks": ""
           },
           "bgcolor": "#E5ECF6",
           "caxis": {
            "gridcolor": "white",
            "linecolor": "white",
            "ticks": ""
           }
          },
          "title": {
           "x": 0.05
          },
          "xaxis": {
           "automargin": true,
           "gridcolor": "white",
           "linecolor": "white",
           "ticks": "",
           "title": {
            "standoff": 15
           },
           "zerolinecolor": "white",
           "zerolinewidth": 2
          },
          "yaxis": {
           "automargin": true,
           "gridcolor": "white",
           "linecolor": "white",
           "ticks": "",
           "title": {
            "standoff": 15
           },
           "zerolinecolor": "white",
           "zerolinewidth": 2
          }
         }
        },
        "title": {
         "text": "Wing-Back - Support"
        },
        "xaxis": {
         "anchor": "y",
         "domain": [
          0,
          1
         ],
         "title": {
          "text": "Dribbles/90"
         }
        },
        "yaxis": {
         "anchor": "x",
         "domain": [
          0,
          1
         ],
         "title": {
          "text": "Cross Completion %"
         }
        }
       }
      },
      "text/html": [
       "<div>\n",
       "        \n",
       "        \n",
       "            <div id=\"f09eac17-1e85-4a39-8c33-90c29847659d\" class=\"plotly-graph-div\" style=\"height:525px; width:100%;\"></div>\n",
       "            <script type=\"text/javascript\">\n",
       "                require([\"plotly\"], function(Plotly) {\n",
       "                    window.PLOTLYENV=window.PLOTLYENV || {};\n",
       "                    \n",
       "                if (document.getElementById(\"f09eac17-1e85-4a39-8c33-90c29847659d\")) {\n",
       "                    Plotly.newPlot(\n",
       "                        'f09eac17-1e85-4a39-8c33-90c29847659d',\n",
       "                        [{\"customdata\": [[\"Shawn Hery\"]], \"hovertemplate\": \"Name=%{customdata[0]}<br>DrbPG=%{x}<br>Cr C/A=%{y}<br>Age=%{marker.size}<extra></extra>\", \"legendgroup\": \"Shawn Hery\", \"marker\": {\"color\": \"#636efa\", \"size\": [21], \"sizemode\": \"area\", \"sizeref\": 0.0875, \"symbol\": \"circle\"}, \"mode\": \"markers\", \"name\": \"Shawn Hery\", \"showlegend\": true, \"type\": \"scatter\", \"x\": [\"4.31\"], \"xaxis\": \"x\", \"y\": [\"18%\"], \"yaxis\": \"y\"}, {\"customdata\": [[\"Franck Evina\"]], \"hovertemplate\": \"Name=%{customdata[0]}<br>DrbPG=%{x}<br>Cr C/A=%{y}<br>Age=%{marker.size}<extra></extra>\", \"legendgroup\": \"Franck Evina\", \"marker\": {\"color\": \"#EF553B\", \"size\": [22], \"sizemode\": \"area\", \"sizeref\": 0.0875, \"symbol\": \"circle\"}, \"mode\": \"markers\", \"name\": \"Franck Evina\", \"showlegend\": true, \"type\": \"scatter\", \"x\": [\"1.28\"], \"xaxis\": \"x\", \"y\": [\"27%\"], \"yaxis\": \"y\"}, {\"customdata\": [[\"Luca Unbehaun\"]], \"hovertemplate\": \"Name=%{customdata[0]}<br>DrbPG=%{x}<br>Cr C/A=%{y}<br>Age=%{marker.size}<extra></extra>\", \"legendgroup\": \"Luca Unbehaun\", \"marker\": {\"color\": \"#00cc96\", \"size\": [21], \"sizemode\": \"area\", \"sizeref\": 0.0875, \"symbol\": \"circle\"}, \"mode\": \"markers\", \"name\": \"Luca Unbehaun\", \"showlegend\": true, \"type\": \"scatter\", \"x\": [\"-\"], \"xaxis\": \"x\", \"y\": [\"0%\"], \"yaxis\": \"y\"}, {\"customdata\": [[\"Marvin Jung\"]], \"hovertemplate\": \"Name=%{customdata[0]}<br>DrbPG=%{x}<br>Cr C/A=%{y}<br>Age=%{marker.size}<extra></extra>\", \"legendgroup\": \"Marvin Jung\", \"marker\": {\"color\": \"#ab63fa\", \"size\": [21], \"sizemode\": \"area\", \"sizeref\": 0.0875, \"symbol\": \"circle\"}, \"mode\": \"markers\", \"name\": \"Marvin Jung\", \"showlegend\": true, \"type\": \"scatter\", \"x\": [\"4.09\"], \"xaxis\": \"x\", \"y\": [\"15%\"], \"yaxis\": \"y\"}, {\"customdata\": [[\"Mike Fitzner\"]], \"hovertemplate\": \"Name=%{customdata[0]}<br>DrbPG=%{x}<br>Cr C/A=%{y}<br>Age=%{marker.size}<extra></extra>\", \"legendgroup\": \"Mike Fitzner\", \"marker\": {\"color\": \"#FFA15A\", \"size\": [18], \"sizemode\": \"area\", \"sizeref\": 0.0875, \"symbol\": \"circle\"}, \"mode\": \"markers\", \"name\": \"Mike Fitzner\", \"showlegend\": true, \"type\": \"scatter\", \"x\": [\"2.39\"], \"xaxis\": \"x\", \"y\": [\"19%\"], \"yaxis\": \"y\"}, {\"customdata\": [[\"Sefer Ayg\\u00c3\\u00bcn\"]], \"hovertemplate\": \"Name=%{customdata[0]}<br>DrbPG=%{x}<br>Cr C/A=%{y}<br>Age=%{marker.size}<extra></extra>\", \"legendgroup\": \"Sefer Ayg\\u00c3\\u00bcn\", \"marker\": {\"color\": \"#19d3f3\", \"size\": [18], \"sizemode\": \"area\", \"sizeref\": 0.0875, \"symbol\": \"circle\"}, \"mode\": \"markers\", \"name\": \"Sefer Ayg\\u00c3\\u00bcn\", \"showlegend\": true, \"type\": \"scatter\", \"x\": [\"2.12\"], \"xaxis\": \"x\", \"y\": [\"23%\"], \"yaxis\": \"y\"}, {\"customdata\": [[\"Marco Hiller\"]], \"hovertemplate\": \"Name=%{customdata[0]}<br>DrbPG=%{x}<br>Cr C/A=%{y}<br>Age=%{marker.size}<extra></extra>\", \"legendgroup\": \"Marco Hiller\", \"marker\": {\"color\": \"#FF6692\", \"size\": [25], \"sizemode\": \"area\", \"sizeref\": 0.0875, \"symbol\": \"circle\"}, \"mode\": \"markers\", \"name\": \"Marco Hiller\", \"showlegend\": true, \"type\": \"scatter\", \"x\": [\"-\"], \"xaxis\": \"x\", \"y\": [\"0%\"], \"yaxis\": \"y\"}, {\"customdata\": [[\"Leon Klassen\"]], \"hovertemplate\": \"Name=%{customdata[0]}<br>DrbPG=%{x}<br>Cr C/A=%{y}<br>Age=%{marker.size}<extra></extra>\", \"legendgroup\": \"Leon Klassen\", \"marker\": {\"color\": \"#B6E880\", \"size\": [22], \"sizemode\": \"area\", \"sizeref\": 0.0875, \"symbol\": \"circle\"}, \"mode\": \"markers\", \"name\": \"Leon Klassen\", \"showlegend\": true, \"type\": \"scatter\", \"x\": [\"2.83\"], \"xaxis\": \"x\", \"y\": [\"18%\"], \"yaxis\": \"y\"}, {\"customdata\": [[\"Noel Niemann\"]], \"hovertemplate\": \"Name=%{customdata[0]}<br>DrbPG=%{x}<br>Cr C/A=%{y}<br>Age=%{marker.size}<extra></extra>\", \"legendgroup\": \"Noel Niemann\", \"marker\": {\"color\": \"#FF97FF\", \"size\": [23], \"sizemode\": \"area\", \"sizeref\": 0.0875, \"symbol\": \"circle\"}, \"mode\": \"markers\", \"name\": \"Noel Niemann\", \"showlegend\": true, \"type\": \"scatter\", \"x\": [\"3.38\"], \"xaxis\": \"x\", \"y\": [\"18%\"], \"yaxis\": \"y\"}, {\"customdata\": [[\"Lucas Deaux\"]], \"hovertemplate\": \"Name=%{customdata[0]}<br>DrbPG=%{x}<br>Cr C/A=%{y}<br>Age=%{marker.size}<extra></extra>\", \"legendgroup\": \"Lucas Deaux\", \"marker\": {\"color\": \"#FECB52\", \"size\": [33], \"sizemode\": \"area\", \"sizeref\": 0.0875, \"symbol\": \"circle\"}, \"mode\": \"markers\", \"name\": \"Lucas Deaux\", \"showlegend\": true, \"type\": \"scatter\", \"x\": [\"0.57\"], \"xaxis\": \"x\", \"y\": [\"40%\"], \"yaxis\": \"y\"}, {\"customdata\": [[\"Julian Schwermann\"]], \"hovertemplate\": \"Name=%{customdata[0]}<br>DrbPG=%{x}<br>Cr C/A=%{y}<br>Age=%{marker.size}<extra></extra>\", \"legendgroup\": \"Julian Schwermann\", \"marker\": {\"color\": \"#636efa\", \"size\": [23], \"sizemode\": \"area\", \"sizeref\": 0.0875, \"symbol\": \"circle\"}, \"mode\": \"markers\", \"name\": \"Julian Schwermann\", \"showlegend\": true, \"type\": \"scatter\", \"x\": [\"0.36\"], \"xaxis\": \"x\", \"y\": [\"40%\"], \"yaxis\": \"y\"}, {\"customdata\": [[\"Oliver Kragl\"]], \"hovertemplate\": \"Name=%{customdata[0]}<br>DrbPG=%{x}<br>Cr C/A=%{y}<br>Age=%{marker.size}<extra></extra>\", \"legendgroup\": \"Oliver Kragl\", \"marker\": {\"color\": \"#EF553B\", \"size\": [32], \"sizemode\": \"area\", \"sizeref\": 0.0875, \"symbol\": \"circle\"}, \"mode\": \"markers\", \"name\": \"Oliver Kragl\", \"showlegend\": true, \"type\": \"scatter\", \"x\": [\"2.93\"], \"xaxis\": \"x\", \"y\": [\"16%\"], \"yaxis\": \"y\"}, {\"customdata\": [[\"Ben Sch\\u00c3\\u00a4fer\"]], \"hovertemplate\": \"Name=%{customdata[0]}<br>DrbPG=%{x}<br>Cr C/A=%{y}<br>Age=%{marker.size}<extra></extra>\", \"legendgroup\": \"Ben Sch\\u00c3\\u00a4fer\", \"marker\": {\"color\": \"#00cc96\", \"size\": [18], \"sizemode\": \"area\", \"sizeref\": 0.0875, \"symbol\": \"circle\"}, \"mode\": \"markers\", \"name\": \"Ben Sch\\u00c3\\u00a4fer\", \"showlegend\": true, \"type\": \"scatter\", \"x\": [\"-\"], \"xaxis\": \"x\", \"y\": [\"-\"], \"yaxis\": \"y\"}, {\"customdata\": [[\"Andreas Ahlm\"]], \"hovertemplate\": \"Name=%{customdata[0]}<br>DrbPG=%{x}<br>Cr C/A=%{y}<br>Age=%{marker.size}<extra></extra>\", \"legendgroup\": \"Andreas Ahlm\", \"marker\": {\"color\": \"#ab63fa\", \"size\": [18], \"sizemode\": \"area\", \"sizeref\": 0.0875, \"symbol\": \"circle\"}, \"mode\": \"markers\", \"name\": \"Andreas Ahlm\", \"showlegend\": true, \"type\": \"scatter\", \"x\": [\"-\"], \"xaxis\": \"x\", \"y\": [\"-\"], \"yaxis\": \"y\"}, {\"customdata\": [[\"Petr Dvorak\"]], \"hovertemplate\": \"Name=%{customdata[0]}<br>DrbPG=%{x}<br>Cr C/A=%{y}<br>Age=%{marker.size}<extra></extra>\", \"legendgroup\": \"Petr Dvorak\", \"marker\": {\"color\": \"#FFA15A\", \"size\": [17], \"sizemode\": \"area\", \"sizeref\": 0.0875, \"symbol\": \"circle\"}, \"mode\": \"markers\", \"name\": \"Petr Dvorak\", \"showlegend\": true, \"type\": \"scatter\", \"x\": [\"-\"], \"xaxis\": \"x\", \"y\": [\"-\"], \"yaxis\": \"y\"}, {\"customdata\": [[\"Efkan Bekiroglu\"]], \"hovertemplate\": \"Name=%{customdata[0]}<br>DrbPG=%{x}<br>Cr C/A=%{y}<br>Age=%{marker.size}<extra></extra>\", \"legendgroup\": \"Efkan Bekiroglu\", \"marker\": {\"color\": \"#19d3f3\", \"size\": [27], \"sizemode\": \"area\", \"sizeref\": 0.0875, \"symbol\": \"circle\"}, \"mode\": \"markers\", \"name\": \"Efkan Bekiroglu\", \"showlegend\": true, \"type\": \"scatter\", \"x\": [\"0.22\"], \"xaxis\": \"x\", \"y\": [\"20%\"], \"yaxis\": \"y\"}, {\"customdata\": [[\"Fabian Greilinger\"]], \"hovertemplate\": \"Name=%{customdata[0]}<br>DrbPG=%{x}<br>Cr C/A=%{y}<br>Age=%{marker.size}<extra></extra>\", \"legendgroup\": \"Fabian Greilinger\", \"marker\": {\"color\": \"#FF6692\", \"size\": [22], \"sizemode\": \"area\", \"sizeref\": 0.0875, \"symbol\": \"circle\"}, \"mode\": \"markers\", \"name\": \"Fabian Greilinger\", \"showlegend\": true, \"type\": \"scatter\", \"x\": [\"3.60\"], \"xaxis\": \"x\", \"y\": [\"19%\"], \"yaxis\": \"y\"}, {\"customdata\": [[\"Marko Basic\"]], \"hovertemplate\": \"Name=%{customdata[0]}<br>DrbPG=%{x}<br>Cr C/A=%{y}<br>Age=%{marker.size}<extra></extra>\", \"legendgroup\": \"Marko Basic\", \"marker\": {\"color\": \"#B6E880\", \"size\": [17], \"sizemode\": \"area\", \"sizeref\": 0.0875, \"symbol\": \"circle\"}, \"mode\": \"markers\", \"name\": \"Marko Basic\", \"showlegend\": true, \"type\": \"scatter\", \"x\": [\"-\"], \"xaxis\": \"x\", \"y\": [\"-\"], \"yaxis\": \"y\"}, {\"customdata\": [[\"Mert G\\u00c3\\u00b6ckan\"]], \"hovertemplate\": \"Name=%{customdata[0]}<br>DrbPG=%{x}<br>Cr C/A=%{y}<br>Age=%{marker.size}<extra></extra>\", \"legendgroup\": \"Mert G\\u00c3\\u00b6ckan\", \"marker\": {\"color\": \"#FF97FF\", \"size\": [21], \"sizemode\": \"area\", \"sizeref\": 0.0875, \"symbol\": \"circle\"}, \"mode\": \"markers\", \"name\": \"Mert G\\u00c3\\u00b6ckan\", \"showlegend\": true, \"type\": \"scatter\", \"x\": [\"0.88\"], \"xaxis\": \"x\", \"y\": [\"11%\"], \"yaxis\": \"y\"}, {\"customdata\": [[\"Gabriel Isik\"]], \"hovertemplate\": \"Name=%{customdata[0]}<br>DrbPG=%{x}<br>Cr C/A=%{y}<br>Age=%{marker.size}<extra></extra>\", \"legendgroup\": \"Gabriel Isik\", \"marker\": {\"color\": \"#FECB52\", \"size\": [23], \"sizemode\": \"area\", \"sizeref\": 0.0875, \"symbol\": \"circle\"}, \"mode\": \"markers\", \"name\": \"Gabriel Isik\", \"showlegend\": true, \"type\": \"scatter\", \"x\": [\"0.44\"], \"xaxis\": \"x\", \"y\": [\"0%\"], \"yaxis\": \"y\"}, {\"customdata\": [[\"Pawel Majewski\"]], \"hovertemplate\": \"Name=%{customdata[0]}<br>DrbPG=%{x}<br>Cr C/A=%{y}<br>Age=%{marker.size}<extra></extra>\", \"legendgroup\": \"Pawel Majewski\", \"marker\": {\"color\": \"#636efa\", \"size\": [18], \"sizemode\": \"area\", \"sizeref\": 0.0875, \"symbol\": \"circle\"}, \"mode\": \"markers\", \"name\": \"Pawel Majewski\", \"showlegend\": true, \"type\": \"scatter\", \"x\": [\"-\"], \"xaxis\": \"x\", \"y\": [\"0%\"], \"yaxis\": \"y\"}, {\"customdata\": [[\"Peter K\\u00c3\\u00b6ster\"]], \"hovertemplate\": \"Name=%{customdata[0]}<br>DrbPG=%{x}<br>Cr C/A=%{y}<br>Age=%{marker.size}<extra></extra>\", \"legendgroup\": \"Peter K\\u00c3\\u00b6ster\", \"marker\": {\"color\": \"#EF553B\", \"size\": [23], \"sizemode\": \"area\", \"sizeref\": 0.0875, \"symbol\": \"circle\"}, \"mode\": \"markers\", \"name\": \"Peter K\\u00c3\\u00b6ster\", \"showlegend\": true, \"type\": \"scatter\", \"x\": [\"0.32\"], \"xaxis\": \"x\", \"y\": [\"0%\"], \"yaxis\": \"y\"}, {\"customdata\": [[\"Abdoulaye Niang\"]], \"hovertemplate\": \"Name=%{customdata[0]}<br>DrbPG=%{x}<br>Cr C/A=%{y}<br>Age=%{marker.size}<extra></extra>\", \"legendgroup\": \"Abdoulaye Niang\", \"marker\": {\"color\": \"#00cc96\", \"size\": [19], \"sizemode\": \"area\", \"sizeref\": 0.0875, \"symbol\": \"circle\"}, \"mode\": \"markers\", \"name\": \"Abdoulaye Niang\", \"showlegend\": true, \"type\": \"scatter\", \"x\": [\"0.97\"], \"xaxis\": \"x\", \"y\": [\"25%\"], \"yaxis\": \"y\"}, {\"customdata\": [[\"Sven Bender\"]], \"hovertemplate\": \"Name=%{customdata[0]}<br>DrbPG=%{x}<br>Cr C/A=%{y}<br>Age=%{marker.size}<extra></extra>\", \"legendgroup\": \"Sven Bender\", \"marker\": {\"color\": \"#ab63fa\", \"size\": [33], \"sizemode\": \"area\", \"sizeref\": 0.0875, \"symbol\": \"circle\"}, \"mode\": \"markers\", \"name\": \"Sven Bender\", \"showlegend\": true, \"type\": \"scatter\", \"x\": [\"0.39\"], \"xaxis\": \"x\", \"y\": [\"0%\"], \"yaxis\": \"y\"}, {\"customdata\": [[\"Gary Medel\"]], \"hovertemplate\": \"Name=%{customdata[0]}<br>DrbPG=%{x}<br>Cr C/A=%{y}<br>Age=%{marker.size}<extra></extra>\", \"legendgroup\": \"Gary Medel\", \"marker\": {\"color\": \"#FFA15A\", \"size\": [35], \"sizemode\": \"area\", \"sizeref\": 0.0875, \"symbol\": \"circle\"}, \"mode\": \"markers\", \"name\": \"Gary Medel\", \"showlegend\": true, \"type\": \"scatter\", \"x\": [\"0.56\"], \"xaxis\": \"x\", \"y\": [\"33%\"], \"yaxis\": \"y\"}],\n",
       "                        {\"font\": {\"color\": \"#7f7f7f\", \"family\": \"Courier New, monospace\", \"size\": 16}, \"legend\": {\"itemsizing\": \"constant\", \"title\": {\"text\": \"Name\"}, \"tracegroupgap\": 0}, \"margin\": {\"t\": 60}, \"template\": {\"data\": {\"bar\": [{\"error_x\": {\"color\": \"#2a3f5f\"}, \"error_y\": {\"color\": \"#2a3f5f\"}, \"marker\": {\"line\": {\"color\": \"#E5ECF6\", \"width\": 0.5}}, \"type\": \"bar\"}], \"barpolar\": [{\"marker\": {\"line\": {\"color\": \"#E5ECF6\", \"width\": 0.5}}, \"type\": \"barpolar\"}], \"carpet\": [{\"aaxis\": {\"endlinecolor\": \"#2a3f5f\", \"gridcolor\": \"white\", \"linecolor\": \"white\", \"minorgridcolor\": \"white\", \"startlinecolor\": \"#2a3f5f\"}, \"baxis\": {\"endlinecolor\": \"#2a3f5f\", \"gridcolor\": \"white\", \"linecolor\": \"white\", \"minorgridcolor\": \"white\", \"startlinecolor\": \"#2a3f5f\"}, \"type\": \"carpet\"}], \"choropleth\": [{\"colorbar\": {\"outlinewidth\": 0, \"ticks\": \"\"}, \"type\": \"choropleth\"}], \"contour\": [{\"colorbar\": {\"outlinewidth\": 0, \"ticks\": \"\"}, \"colorscale\": [[0.0, \"#0d0887\"], [0.1111111111111111, \"#46039f\"], [0.2222222222222222, \"#7201a8\"], [0.3333333333333333, \"#9c179e\"], [0.4444444444444444, \"#bd3786\"], [0.5555555555555556, \"#d8576b\"], [0.6666666666666666, \"#ed7953\"], [0.7777777777777778, \"#fb9f3a\"], [0.8888888888888888, \"#fdca26\"], [1.0, \"#f0f921\"]], \"type\": \"contour\"}], \"contourcarpet\": [{\"colorbar\": {\"outlinewidth\": 0, \"ticks\": \"\"}, \"type\": \"contourcarpet\"}], \"heatmap\": [{\"colorbar\": {\"outlinewidth\": 0, \"ticks\": \"\"}, \"colorscale\": [[0.0, \"#0d0887\"], [0.1111111111111111, \"#46039f\"], [0.2222222222222222, \"#7201a8\"], [0.3333333333333333, \"#9c179e\"], [0.4444444444444444, \"#bd3786\"], [0.5555555555555556, \"#d8576b\"], [0.6666666666666666, \"#ed7953\"], [0.7777777777777778, \"#fb9f3a\"], [0.8888888888888888, \"#fdca26\"], [1.0, \"#f0f921\"]], \"type\": \"heatmap\"}], \"heatmapgl\": [{\"colorbar\": {\"outlinewidth\": 0, \"ticks\": \"\"}, \"colorscale\": [[0.0, \"#0d0887\"], [0.1111111111111111, \"#46039f\"], [0.2222222222222222, \"#7201a8\"], [0.3333333333333333, \"#9c179e\"], [0.4444444444444444, \"#bd3786\"], [0.5555555555555556, \"#d8576b\"], [0.6666666666666666, \"#ed7953\"], [0.7777777777777778, \"#fb9f3a\"], [0.8888888888888888, \"#fdca26\"], [1.0, \"#f0f921\"]], \"type\": \"heatmapgl\"}], \"histogram\": [{\"marker\": {\"colorbar\": {\"outlinewidth\": 0, \"ticks\": \"\"}}, \"type\": \"histogram\"}], \"histogram2d\": [{\"colorbar\": {\"outlinewidth\": 0, \"ticks\": \"\"}, \"colorscale\": [[0.0, \"#0d0887\"], [0.1111111111111111, \"#46039f\"], [0.2222222222222222, \"#7201a8\"], [0.3333333333333333, \"#9c179e\"], [0.4444444444444444, \"#bd3786\"], [0.5555555555555556, \"#d8576b\"], [0.6666666666666666, \"#ed7953\"], [0.7777777777777778, \"#fb9f3a\"], [0.8888888888888888, \"#fdca26\"], [1.0, \"#f0f921\"]], \"type\": \"histogram2d\"}], \"histogram2dcontour\": [{\"colorbar\": {\"outlinewidth\": 0, \"ticks\": \"\"}, \"colorscale\": [[0.0, \"#0d0887\"], [0.1111111111111111, \"#46039f\"], [0.2222222222222222, \"#7201a8\"], [0.3333333333333333, \"#9c179e\"], [0.4444444444444444, \"#bd3786\"], [0.5555555555555556, \"#d8576b\"], [0.6666666666666666, \"#ed7953\"], [0.7777777777777778, \"#fb9f3a\"], [0.8888888888888888, \"#fdca26\"], [1.0, \"#f0f921\"]], \"type\": \"histogram2dcontour\"}], \"mesh3d\": [{\"colorbar\": {\"outlinewidth\": 0, \"ticks\": \"\"}, \"type\": \"mesh3d\"}], \"parcoords\": [{\"line\": {\"colorbar\": {\"outlinewidth\": 0, \"ticks\": \"\"}}, \"type\": \"parcoords\"}], \"pie\": [{\"automargin\": true, \"type\": \"pie\"}], \"scatter\": [{\"marker\": {\"colorbar\": {\"outlinewidth\": 0, \"ticks\": \"\"}}, \"type\": \"scatter\"}], \"scatter3d\": [{\"line\": {\"colorbar\": {\"outlinewidth\": 0, \"ticks\": \"\"}}, \"marker\": {\"colorbar\": {\"outlinewidth\": 0, \"ticks\": \"\"}}, \"type\": \"scatter3d\"}], \"scattercarpet\": [{\"marker\": {\"colorbar\": {\"outlinewidth\": 0, \"ticks\": \"\"}}, \"type\": \"scattercarpet\"}], \"scattergeo\": [{\"marker\": {\"colorbar\": {\"outlinewidth\": 0, \"ticks\": \"\"}}, \"type\": \"scattergeo\"}], \"scattergl\": [{\"marker\": {\"colorbar\": {\"outlinewidth\": 0, \"ticks\": \"\"}}, \"type\": \"scattergl\"}], \"scattermapbox\": [{\"marker\": {\"colorbar\": {\"outlinewidth\": 0, \"ticks\": \"\"}}, \"type\": \"scattermapbox\"}], \"scatterpolar\": [{\"marker\": {\"colorbar\": {\"outlinewidth\": 0, \"ticks\": \"\"}}, \"type\": \"scatterpolar\"}], \"scatterpolargl\": [{\"marker\": {\"colorbar\": {\"outlinewidth\": 0, \"ticks\": \"\"}}, \"type\": \"scatterpolargl\"}], \"scatterternary\": [{\"marker\": {\"colorbar\": {\"outlinewidth\": 0, \"ticks\": \"\"}}, \"type\": \"scatterternary\"}], \"surface\": [{\"colorbar\": {\"outlinewidth\": 0, \"ticks\": \"\"}, \"colorscale\": [[0.0, \"#0d0887\"], [0.1111111111111111, \"#46039f\"], [0.2222222222222222, \"#7201a8\"], [0.3333333333333333, \"#9c179e\"], [0.4444444444444444, \"#bd3786\"], [0.5555555555555556, \"#d8576b\"], [0.6666666666666666, \"#ed7953\"], [0.7777777777777778, \"#fb9f3a\"], [0.8888888888888888, \"#fdca26\"], [1.0, \"#f0f921\"]], \"type\": \"surface\"}], \"table\": [{\"cells\": {\"fill\": {\"color\": \"#EBF0F8\"}, \"line\": {\"color\": \"white\"}}, \"header\": {\"fill\": {\"color\": \"#C8D4E3\"}, \"line\": {\"color\": \"white\"}}, \"type\": \"table\"}]}, \"layout\": {\"annotationdefaults\": {\"arrowcolor\": \"#2a3f5f\", \"arrowhead\": 0, \"arrowwidth\": 1}, \"coloraxis\": {\"colorbar\": {\"outlinewidth\": 0, \"ticks\": \"\"}}, \"colorscale\": {\"diverging\": [[0, \"#8e0152\"], [0.1, \"#c51b7d\"], [0.2, \"#de77ae\"], [0.3, \"#f1b6da\"], [0.4, \"#fde0ef\"], [0.5, \"#f7f7f7\"], [0.6, \"#e6f5d0\"], [0.7, \"#b8e186\"], [0.8, \"#7fbc41\"], [0.9, \"#4d9221\"], [1, \"#276419\"]], \"sequential\": [[0.0, \"#0d0887\"], [0.1111111111111111, \"#46039f\"], [0.2222222222222222, \"#7201a8\"], [0.3333333333333333, \"#9c179e\"], [0.4444444444444444, \"#bd3786\"], [0.5555555555555556, \"#d8576b\"], [0.6666666666666666, \"#ed7953\"], [0.7777777777777778, \"#fb9f3a\"], [0.8888888888888888, \"#fdca26\"], [1.0, \"#f0f921\"]], \"sequentialminus\": [[0.0, \"#0d0887\"], [0.1111111111111111, \"#46039f\"], [0.2222222222222222, \"#7201a8\"], [0.3333333333333333, \"#9c179e\"], [0.4444444444444444, \"#bd3786\"], [0.5555555555555556, \"#d8576b\"], [0.6666666666666666, \"#ed7953\"], [0.7777777777777778, \"#fb9f3a\"], [0.8888888888888888, \"#fdca26\"], [1.0, \"#f0f921\"]]}, \"colorway\": [\"#636efa\", \"#EF553B\", \"#00cc96\", \"#ab63fa\", \"#FFA15A\", \"#19d3f3\", \"#FF6692\", \"#B6E880\", \"#FF97FF\", \"#FECB52\"], \"font\": {\"color\": \"#2a3f5f\"}, \"geo\": {\"bgcolor\": \"white\", \"lakecolor\": \"white\", \"landcolor\": \"#E5ECF6\", \"showlakes\": true, \"showland\": true, \"subunitcolor\": \"white\"}, \"hoverlabel\": {\"align\": \"left\"}, \"hovermode\": \"closest\", \"mapbox\": {\"style\": \"light\"}, \"paper_bgcolor\": \"white\", \"plot_bgcolor\": \"#E5ECF6\", \"polar\": {\"angularaxis\": {\"gridcolor\": \"white\", \"linecolor\": \"white\", \"ticks\": \"\"}, \"bgcolor\": \"#E5ECF6\", \"radialaxis\": {\"gridcolor\": \"white\", \"linecolor\": \"white\", \"ticks\": \"\"}}, \"scene\": {\"xaxis\": {\"backgroundcolor\": \"#E5ECF6\", \"gridcolor\": \"white\", \"gridwidth\": 2, \"linecolor\": \"white\", \"showbackground\": true, \"ticks\": \"\", \"zerolinecolor\": \"white\"}, \"yaxis\": {\"backgroundcolor\": \"#E5ECF6\", \"gridcolor\": \"white\", \"gridwidth\": 2, \"linecolor\": \"white\", \"showbackground\": true, \"ticks\": \"\", \"zerolinecolor\": \"white\"}, \"zaxis\": {\"backgroundcolor\": \"#E5ECF6\", \"gridcolor\": \"white\", \"gridwidth\": 2, \"linecolor\": \"white\", \"showbackground\": true, \"ticks\": \"\", \"zerolinecolor\": \"white\"}}, \"shapedefaults\": {\"line\": {\"color\": \"#2a3f5f\"}}, \"ternary\": {\"aaxis\": {\"gridcolor\": \"white\", \"linecolor\": \"white\", \"ticks\": \"\"}, \"baxis\": {\"gridcolor\": \"white\", \"linecolor\": \"white\", \"ticks\": \"\"}, \"bgcolor\": \"#E5ECF6\", \"caxis\": {\"gridcolor\": \"white\", \"linecolor\": \"white\", \"ticks\": \"\"}}, \"title\": {\"x\": 0.05}, \"xaxis\": {\"automargin\": true, \"gridcolor\": \"white\", \"linecolor\": \"white\", \"ticks\": \"\", \"title\": {\"standoff\": 15}, \"zerolinecolor\": \"white\", \"zerolinewidth\": 2}, \"yaxis\": {\"automargin\": true, \"gridcolor\": \"white\", \"linecolor\": \"white\", \"ticks\": \"\", \"title\": {\"standoff\": 15}, \"zerolinecolor\": \"white\", \"zerolinewidth\": 2}}}, \"title\": {\"text\": \"Wing-Back - Support\"}, \"xaxis\": {\"anchor\": \"y\", \"domain\": [0.0, 1.0], \"title\": {\"text\": \"Dribbles/90\"}}, \"yaxis\": {\"anchor\": \"x\", \"domain\": [0.0, 1.0], \"title\": {\"text\": \"Cross Completion %\"}}},\n",
       "                        {\"responsive\": true}\n",
       "                    ).then(function(){\n",
       "                            \n",
       "var gd = document.getElementById('f09eac17-1e85-4a39-8c33-90c29847659d');\n",
       "var x = new MutationObserver(function (mutations, observer) {{\n",
       "        var display = window.getComputedStyle(gd).display;\n",
       "        if (!display || display === 'none') {{\n",
       "            console.log([gd, 'removed!']);\n",
       "            Plotly.purge(gd);\n",
       "            observer.disconnect();\n",
       "        }}\n",
       "}});\n",
       "\n",
       "// Listen for the removal of the full notebook cells\n",
       "var notebookContainer = gd.closest('#notebook-container');\n",
       "if (notebookContainer) {{\n",
       "    x.observe(notebookContainer, {childList: true});\n",
       "}}\n",
       "\n",
       "// Listen for the clearing of the current output cell\n",
       "var outputEl = gd.closest('.output');\n",
       "if (outputEl) {{\n",
       "    x.observe(outputEl, {childList: true});\n",
       "}}\n",
       "\n",
       "                        })\n",
       "                };\n",
       "                });\n",
       "            </script>\n",
       "        </div>"
      ]
     },
     "metadata": {},
     "output_type": "display_data"
    }
   ],
   "source": [
    "# Wing-Back - Support\n",
    "\n",
    "fig = px.scatter(df, x=\"DrbPG\", y=\"Cr C/A\", color=\"Name\",  \n",
    "        size='Age', hover_data=['Name'])\n",
    "\n",
    "fig.update_layout(\n",
    "    title=\"Wing-Back - Support\",\n",
    "    xaxis_title=\"Dribbles/90\",\n",
    "    yaxis_title=\"Cross Completion %\",\n",
    "    font=dict(\n",
    "        family=\"Courier New, monospace\",\n",
    "        size=16,\n",
    "        color=\"#7f7f7f\"\n",
    "    )\n",
    ")\n",
    "fig.show()"
   ]
  },
  {
   "cell_type": "code",
   "execution_count": 8,
   "metadata": {},
   "outputs": [
    {
     "data": {
      "application/vnd.plotly.v1+json": {
       "config": {
        "plotlyServerURL": "https://plot.ly"
       },
       "data": [
        {
         "customdata": [
          [
           "Shawn Hery"
          ]
         ],
         "hovertemplate": "Name=%{customdata[0]}<br>Hdrs W/90=%{x}<br>Int/90=%{y}<br>Age=%{marker.size}<extra></extra>",
         "legendgroup": "Shawn Hery",
         "marker": {
          "color": "#636efa",
          "size": [
           21
          ],
          "sizemode": "area",
          "sizeref": 0.0875,
          "symbol": "circle"
         },
         "mode": "markers",
         "name": "Shawn Hery",
         "showlegend": true,
         "type": "scatter",
         "x": [
          "3.17"
         ],
         "xaxis": "x",
         "y": [
          "0.79"
         ],
         "yaxis": "y"
        },
        {
         "customdata": [
          [
           "Franck Evina"
          ]
         ],
         "hovertemplate": "Name=%{customdata[0]}<br>Hdrs W/90=%{x}<br>Int/90=%{y}<br>Age=%{marker.size}<extra></extra>",
         "legendgroup": "Franck Evina",
         "marker": {
          "color": "#EF553B",
          "size": [
           22
          ],
          "sizemode": "area",
          "sizeref": 0.0875,
          "symbol": "circle"
         },
         "mode": "markers",
         "name": "Franck Evina",
         "showlegend": true,
         "type": "scatter",
         "x": [
          "3.33"
         ],
         "xaxis": "x",
         "y": [
          "1.15"
         ],
         "yaxis": "y"
        },
        {
         "customdata": [
          [
           "Luca Unbehaun"
          ]
         ],
         "hovertemplate": "Name=%{customdata[0]}<br>Hdrs W/90=%{x}<br>Int/90=%{y}<br>Age=%{marker.size}<extra></extra>",
         "legendgroup": "Luca Unbehaun",
         "marker": {
          "color": "#00cc96",
          "size": [
           21
          ],
          "sizemode": "area",
          "sizeref": 0.0875,
          "symbol": "circle"
         },
         "mode": "markers",
         "name": "Luca Unbehaun",
         "showlegend": true,
         "type": "scatter",
         "x": [
          "-"
         ],
         "xaxis": "x",
         "y": [
          "-"
         ],
         "yaxis": "y"
        },
        {
         "customdata": [
          [
           "Marvin Jung"
          ]
         ],
         "hovertemplate": "Name=%{customdata[0]}<br>Hdrs W/90=%{x}<br>Int/90=%{y}<br>Age=%{marker.size}<extra></extra>",
         "legendgroup": "Marvin Jung",
         "marker": {
          "color": "#ab63fa",
          "size": [
           21
          ],
          "sizemode": "area",
          "sizeref": 0.0875,
          "symbol": "circle"
         },
         "mode": "markers",
         "name": "Marvin Jung",
         "showlegend": true,
         "type": "scatter",
         "x": [
          "4.09"
         ],
         "xaxis": "x",
         "y": [
          "2.48"
         ],
         "yaxis": "y"
        },
        {
         "customdata": [
          [
           "Mike Fitzner"
          ]
         ],
         "hovertemplate": "Name=%{customdata[0]}<br>Hdrs W/90=%{x}<br>Int/90=%{y}<br>Age=%{marker.size}<extra></extra>",
         "legendgroup": "Mike Fitzner",
         "marker": {
          "color": "#FFA15A",
          "size": [
           18
          ],
          "sizemode": "area",
          "sizeref": 0.0875,
          "symbol": "circle"
         },
         "mode": "markers",
         "name": "Mike Fitzner",
         "showlegend": true,
         "type": "scatter",
         "x": [
          "4.64"
         ],
         "xaxis": "x",
         "y": [
          "0.65"
         ],
         "yaxis": "y"
        },
        {
         "customdata": [
          [
           "Sefer AygÃ¼n"
          ]
         ],
         "hovertemplate": "Name=%{customdata[0]}<br>Hdrs W/90=%{x}<br>Int/90=%{y}<br>Age=%{marker.size}<extra></extra>",
         "legendgroup": "Sefer AygÃ¼n",
         "marker": {
          "color": "#19d3f3",
          "size": [
           18
          ],
          "sizemode": "area",
          "sizeref": 0.0875,
          "symbol": "circle"
         },
         "mode": "markers",
         "name": "Sefer AygÃ¼n",
         "showlegend": true,
         "type": "scatter",
         "x": [
          "1.41"
         ],
         "xaxis": "x",
         "y": [
          "1.24"
         ],
         "yaxis": "y"
        },
        {
         "customdata": [
          [
           "Marco Hiller"
          ]
         ],
         "hovertemplate": "Name=%{customdata[0]}<br>Hdrs W/90=%{x}<br>Int/90=%{y}<br>Age=%{marker.size}<extra></extra>",
         "legendgroup": "Marco Hiller",
         "marker": {
          "color": "#FF6692",
          "size": [
           25
          ],
          "sizemode": "area",
          "sizeref": 0.0875,
          "symbol": "circle"
         },
         "mode": "markers",
         "name": "Marco Hiller",
         "showlegend": true,
         "type": "scatter",
         "x": [
          "-"
         ],
         "xaxis": "x",
         "y": [
          "-"
         ],
         "yaxis": "y"
        },
        {
         "customdata": [
          [
           "Leon Klassen"
          ]
         ],
         "hovertemplate": "Name=%{customdata[0]}<br>Hdrs W/90=%{x}<br>Int/90=%{y}<br>Age=%{marker.size}<extra></extra>",
         "legendgroup": "Leon Klassen",
         "marker": {
          "color": "#B6E880",
          "size": [
           22
          ],
          "sizemode": "area",
          "sizeref": 0.0875,
          "symbol": "circle"
         },
         "mode": "markers",
         "name": "Leon Klassen",
         "showlegend": true,
         "type": "scatter",
         "x": [
          "1.12"
         ],
         "xaxis": "x",
         "y": [
          "1.51"
         ],
         "yaxis": "y"
        },
        {
         "customdata": [
          [
           "Noel Niemann"
          ]
         ],
         "hovertemplate": "Name=%{customdata[0]}<br>Hdrs W/90=%{x}<br>Int/90=%{y}<br>Age=%{marker.size}<extra></extra>",
         "legendgroup": "Noel Niemann",
         "marker": {
          "color": "#FF97FF",
          "size": [
           23
          ],
          "sizemode": "area",
          "sizeref": 0.0875,
          "symbol": "circle"
         },
         "mode": "markers",
         "name": "Noel Niemann",
         "showlegend": true,
         "type": "scatter",
         "x": [
          "1.64"
         ],
         "xaxis": "x",
         "y": [
          "0.76"
         ],
         "yaxis": "y"
        },
        {
         "customdata": [
          [
           "Lucas Deaux"
          ]
         ],
         "hovertemplate": "Name=%{customdata[0]}<br>Hdrs W/90=%{x}<br>Int/90=%{y}<br>Age=%{marker.size}<extra></extra>",
         "legendgroup": "Lucas Deaux",
         "marker": {
          "color": "#FECB52",
          "size": [
           33
          ],
          "sizemode": "area",
          "sizeref": 0.0875,
          "symbol": "circle"
         },
         "mode": "markers",
         "name": "Lucas Deaux",
         "showlegend": true,
         "type": "scatter",
         "x": [
          "2.63"
         ],
         "xaxis": "x",
         "y": [
          "1.03"
         ],
         "yaxis": "y"
        },
        {
         "customdata": [
          [
           "Julian Schwermann"
          ]
         ],
         "hovertemplate": "Name=%{customdata[0]}<br>Hdrs W/90=%{x}<br>Int/90=%{y}<br>Age=%{marker.size}<extra></extra>",
         "legendgroup": "Julian Schwermann",
         "marker": {
          "color": "#636efa",
          "size": [
           23
          ],
          "sizemode": "area",
          "sizeref": 0.0875,
          "symbol": "circle"
         },
         "mode": "markers",
         "name": "Julian Schwermann",
         "showlegend": true,
         "type": "scatter",
         "x": [
          "1.44"
         ],
         "xaxis": "x",
         "y": [
          "1.22"
         ],
         "yaxis": "y"
        },
        {
         "customdata": [
          [
           "Oliver Kragl"
          ]
         ],
         "hovertemplate": "Name=%{customdata[0]}<br>Hdrs W/90=%{x}<br>Int/90=%{y}<br>Age=%{marker.size}<extra></extra>",
         "legendgroup": "Oliver Kragl",
         "marker": {
          "color": "#EF553B",
          "size": [
           32
          ],
          "sizemode": "area",
          "sizeref": 0.0875,
          "symbol": "circle"
         },
         "mode": "markers",
         "name": "Oliver Kragl",
         "showlegend": true,
         "type": "scatter",
         "x": [
          "3.46"
         ],
         "xaxis": "x",
         "y": [
          "1.07"
         ],
         "yaxis": "y"
        },
        {
         "customdata": [
          [
           "Ben SchÃ¤fer"
          ]
         ],
         "hovertemplate": "Name=%{customdata[0]}<br>Hdrs W/90=%{x}<br>Int/90=%{y}<br>Age=%{marker.size}<extra></extra>",
         "legendgroup": "Ben SchÃ¤fer",
         "marker": {
          "color": "#00cc96",
          "size": [
           18
          ],
          "sizemode": "area",
          "sizeref": 0.0875,
          "symbol": "circle"
         },
         "mode": "markers",
         "name": "Ben SchÃ¤fer",
         "showlegend": true,
         "type": "scatter",
         "x": [
          "-"
         ],
         "xaxis": "x",
         "y": [
          "-"
         ],
         "yaxis": "y"
        },
        {
         "customdata": [
          [
           "Andreas Ahlm"
          ]
         ],
         "hovertemplate": "Name=%{customdata[0]}<br>Hdrs W/90=%{x}<br>Int/90=%{y}<br>Age=%{marker.size}<extra></extra>",
         "legendgroup": "Andreas Ahlm",
         "marker": {
          "color": "#ab63fa",
          "size": [
           18
          ],
          "sizemode": "area",
          "sizeref": 0.0875,
          "symbol": "circle"
         },
         "mode": "markers",
         "name": "Andreas Ahlm",
         "showlegend": true,
         "type": "scatter",
         "x": [
          "-"
         ],
         "xaxis": "x",
         "y": [
          "-"
         ],
         "yaxis": "y"
        },
        {
         "customdata": [
          [
           "Petr Dvorak"
          ]
         ],
         "hovertemplate": "Name=%{customdata[0]}<br>Hdrs W/90=%{x}<br>Int/90=%{y}<br>Age=%{marker.size}<extra></extra>",
         "legendgroup": "Petr Dvorak",
         "marker": {
          "color": "#FFA15A",
          "size": [
           17
          ],
          "sizemode": "area",
          "sizeref": 0.0875,
          "symbol": "circle"
         },
         "mode": "markers",
         "name": "Petr Dvorak",
         "showlegend": true,
         "type": "scatter",
         "x": [
          "-"
         ],
         "xaxis": "x",
         "y": [
          "-"
         ],
         "yaxis": "y"
        },
        {
         "customdata": [
          [
           "Efkan Bekiroglu"
          ]
         ],
         "hovertemplate": "Name=%{customdata[0]}<br>Hdrs W/90=%{x}<br>Int/90=%{y}<br>Age=%{marker.size}<extra></extra>",
         "legendgroup": "Efkan Bekiroglu",
         "marker": {
          "color": "#19d3f3",
          "size": [
           27
          ],
          "sizemode": "area",
          "sizeref": 0.0875,
          "symbol": "circle"
         },
         "mode": "markers",
         "name": "Efkan Bekiroglu",
         "showlegend": true,
         "type": "scatter",
         "x": [
          "2.27"
         ],
         "xaxis": "x",
         "y": [
          "0.65"
         ],
         "yaxis": "y"
        },
        {
         "customdata": [
          [
           "Fabian Greilinger"
          ]
         ],
         "hovertemplate": "Name=%{customdata[0]}<br>Hdrs W/90=%{x}<br>Int/90=%{y}<br>Age=%{marker.size}<extra></extra>",
         "legendgroup": "Fabian Greilinger",
         "marker": {
          "color": "#FF6692",
          "size": [
           22
          ],
          "sizemode": "area",
          "sizeref": 0.0875,
          "symbol": "circle"
         },
         "mode": "markers",
         "name": "Fabian Greilinger",
         "showlegend": true,
         "type": "scatter",
         "x": [
          "1.91"
         ],
         "xaxis": "x",
         "y": [
          "0.42"
         ],
         "yaxis": "y"
        },
        {
         "customdata": [
          [
           "Marko Basic"
          ]
         ],
         "hovertemplate": "Name=%{customdata[0]}<br>Hdrs W/90=%{x}<br>Int/90=%{y}<br>Age=%{marker.size}<extra></extra>",
         "legendgroup": "Marko Basic",
         "marker": {
          "color": "#B6E880",
          "size": [
           17
          ],
          "sizemode": "area",
          "sizeref": 0.0875,
          "symbol": "circle"
         },
         "mode": "markers",
         "name": "Marko Basic",
         "showlegend": true,
         "type": "scatter",
         "x": [
          "-"
         ],
         "xaxis": "x",
         "y": [
          "-"
         ],
         "yaxis": "y"
        },
        {
         "customdata": [
          [
           "Mert GÃ¶ckan"
          ]
         ],
         "hovertemplate": "Name=%{customdata[0]}<br>Hdrs W/90=%{x}<br>Int/90=%{y}<br>Age=%{marker.size}<extra></extra>",
         "legendgroup": "Mert GÃ¶ckan",
         "marker": {
          "color": "#FF97FF",
          "size": [
           21
          ],
          "sizemode": "area",
          "sizeref": 0.0875,
          "symbol": "circle"
         },
         "mode": "markers",
         "name": "Mert GÃ¶ckan",
         "showlegend": true,
         "type": "scatter",
         "x": [
          "4.09"
         ],
         "xaxis": "x",
         "y": [
          "1.46"
         ],
         "yaxis": "y"
        },
        {
         "customdata": [
          [
           "Gabriel Isik"
          ]
         ],
         "hovertemplate": "Name=%{customdata[0]}<br>Hdrs W/90=%{x}<br>Int/90=%{y}<br>Age=%{marker.size}<extra></extra>",
         "legendgroup": "Gabriel Isik",
         "marker": {
          "color": "#FECB52",
          "size": [
           23
          ],
          "sizemode": "area",
          "sizeref": 0.0875,
          "symbol": "circle"
         },
         "mode": "markers",
         "name": "Gabriel Isik",
         "showlegend": true,
         "type": "scatter",
         "x": [
          "3.19"
         ],
         "xaxis": "x",
         "y": [
          "2.38"
         ],
         "yaxis": "y"
        },
        {
         "customdata": [
          [
           "Pawel Majewski"
          ]
         ],
         "hovertemplate": "Name=%{customdata[0]}<br>Hdrs W/90=%{x}<br>Int/90=%{y}<br>Age=%{marker.size}<extra></extra>",
         "legendgroup": "Pawel Majewski",
         "marker": {
          "color": "#636efa",
          "size": [
           18
          ],
          "sizemode": "area",
          "sizeref": 0.0875,
          "symbol": "circle"
         },
         "mode": "markers",
         "name": "Pawel Majewski",
         "showlegend": true,
         "type": "scatter",
         "x": [
          "-"
         ],
         "xaxis": "x",
         "y": [
          "-"
         ],
         "yaxis": "y"
        },
        {
         "customdata": [
          [
           "Peter KÃ¶ster"
          ]
         ],
         "hovertemplate": "Name=%{customdata[0]}<br>Hdrs W/90=%{x}<br>Int/90=%{y}<br>Age=%{marker.size}<extra></extra>",
         "legendgroup": "Peter KÃ¶ster",
         "marker": {
          "color": "#EF553B",
          "size": [
           23
          ],
          "sizemode": "area",
          "sizeref": 0.0875,
          "symbol": "circle"
         },
         "mode": "markers",
         "name": "Peter KÃ¶ster",
         "showlegend": true,
         "type": "scatter",
         "x": [
          "2.25"
         ],
         "xaxis": "x",
         "y": [
          "1.61"
         ],
         "yaxis": "y"
        },
        {
         "customdata": [
          [
           "Abdoulaye Niang"
          ]
         ],
         "hovertemplate": "Name=%{customdata[0]}<br>Hdrs W/90=%{x}<br>Int/90=%{y}<br>Age=%{marker.size}<extra></extra>",
         "legendgroup": "Abdoulaye Niang",
         "marker": {
          "color": "#00cc96",
          "size": [
           19
          ],
          "sizemode": "area",
          "sizeref": 0.0875,
          "symbol": "circle"
         },
         "mode": "markers",
         "name": "Abdoulaye Niang",
         "showlegend": true,
         "type": "scatter",
         "x": [
          "1.17"
         ],
         "xaxis": "x",
         "y": [
          "1.46"
         ],
         "yaxis": "y"
        },
        {
         "customdata": [
          [
           "Sven Bender"
          ]
         ],
         "hovertemplate": "Name=%{customdata[0]}<br>Hdrs W/90=%{x}<br>Int/90=%{y}<br>Age=%{marker.size}<extra></extra>",
         "legendgroup": "Sven Bender",
         "marker": {
          "color": "#ab63fa",
          "size": [
           33
          ],
          "sizemode": "area",
          "sizeref": 0.0875,
          "symbol": "circle"
         },
         "mode": "markers",
         "name": "Sven Bender",
         "showlegend": true,
         "type": "scatter",
         "x": [
          "4.06"
         ],
         "xaxis": "x",
         "y": [
          "2.67"
         ],
         "yaxis": "y"
        },
        {
         "customdata": [
          [
           "Gary Medel"
          ]
         ],
         "hovertemplate": "Name=%{customdata[0]}<br>Hdrs W/90=%{x}<br>Int/90=%{y}<br>Age=%{marker.size}<extra></extra>",
         "legendgroup": "Gary Medel",
         "marker": {
          "color": "#FFA15A",
          "size": [
           35
          ],
          "sizemode": "area",
          "sizeref": 0.0875,
          "symbol": "circle"
         },
         "mode": "markers",
         "name": "Gary Medel",
         "showlegend": true,
         "type": "scatter",
         "x": [
          "0.75"
         ],
         "xaxis": "x",
         "y": [
          "0.66"
         ],
         "yaxis": "y"
        }
       ],
       "layout": {
        "font": {
         "color": "#7f7f7f",
         "family": "Courier New, monospace",
         "size": 16
        },
        "legend": {
         "itemsizing": "constant",
         "title": {
          "text": "Name"
         },
         "tracegroupgap": 0
        },
        "margin": {
         "t": 60
        },
        "template": {
         "data": {
          "bar": [
           {
            "error_x": {
             "color": "#2a3f5f"
            },
            "error_y": {
             "color": "#2a3f5f"
            },
            "marker": {
             "line": {
              "color": "#E5ECF6",
              "width": 0.5
             }
            },
            "type": "bar"
           }
          ],
          "barpolar": [
           {
            "marker": {
             "line": {
              "color": "#E5ECF6",
              "width": 0.5
             }
            },
            "type": "barpolar"
           }
          ],
          "carpet": [
           {
            "aaxis": {
             "endlinecolor": "#2a3f5f",
             "gridcolor": "white",
             "linecolor": "white",
             "minorgridcolor": "white",
             "startlinecolor": "#2a3f5f"
            },
            "baxis": {
             "endlinecolor": "#2a3f5f",
             "gridcolor": "white",
             "linecolor": "white",
             "minorgridcolor": "white",
             "startlinecolor": "#2a3f5f"
            },
            "type": "carpet"
           }
          ],
          "choropleth": [
           {
            "colorbar": {
             "outlinewidth": 0,
             "ticks": ""
            },
            "type": "choropleth"
           }
          ],
          "contour": [
           {
            "colorbar": {
             "outlinewidth": 0,
             "ticks": ""
            },
            "colorscale": [
             [
              0,
              "#0d0887"
             ],
             [
              0.1111111111111111,
              "#46039f"
             ],
             [
              0.2222222222222222,
              "#7201a8"
             ],
             [
              0.3333333333333333,
              "#9c179e"
             ],
             [
              0.4444444444444444,
              "#bd3786"
             ],
             [
              0.5555555555555556,
              "#d8576b"
             ],
             [
              0.6666666666666666,
              "#ed7953"
             ],
             [
              0.7777777777777778,
              "#fb9f3a"
             ],
             [
              0.8888888888888888,
              "#fdca26"
             ],
             [
              1,
              "#f0f921"
             ]
            ],
            "type": "contour"
           }
          ],
          "contourcarpet": [
           {
            "colorbar": {
             "outlinewidth": 0,
             "ticks": ""
            },
            "type": "contourcarpet"
           }
          ],
          "heatmap": [
           {
            "colorbar": {
             "outlinewidth": 0,
             "ticks": ""
            },
            "colorscale": [
             [
              0,
              "#0d0887"
             ],
             [
              0.1111111111111111,
              "#46039f"
             ],
             [
              0.2222222222222222,
              "#7201a8"
             ],
             [
              0.3333333333333333,
              "#9c179e"
             ],
             [
              0.4444444444444444,
              "#bd3786"
             ],
             [
              0.5555555555555556,
              "#d8576b"
             ],
             [
              0.6666666666666666,
              "#ed7953"
             ],
             [
              0.7777777777777778,
              "#fb9f3a"
             ],
             [
              0.8888888888888888,
              "#fdca26"
             ],
             [
              1,
              "#f0f921"
             ]
            ],
            "type": "heatmap"
           }
          ],
          "heatmapgl": [
           {
            "colorbar": {
             "outlinewidth": 0,
             "ticks": ""
            },
            "colorscale": [
             [
              0,
              "#0d0887"
             ],
             [
              0.1111111111111111,
              "#46039f"
             ],
             [
              0.2222222222222222,
              "#7201a8"
             ],
             [
              0.3333333333333333,
              "#9c179e"
             ],
             [
              0.4444444444444444,
              "#bd3786"
             ],
             [
              0.5555555555555556,
              "#d8576b"
             ],
             [
              0.6666666666666666,
              "#ed7953"
             ],
             [
              0.7777777777777778,
              "#fb9f3a"
             ],
             [
              0.8888888888888888,
              "#fdca26"
             ],
             [
              1,
              "#f0f921"
             ]
            ],
            "type": "heatmapgl"
           }
          ],
          "histogram": [
           {
            "marker": {
             "colorbar": {
              "outlinewidth": 0,
              "ticks": ""
             }
            },
            "type": "histogram"
           }
          ],
          "histogram2d": [
           {
            "colorbar": {
             "outlinewidth": 0,
             "ticks": ""
            },
            "colorscale": [
             [
              0,
              "#0d0887"
             ],
             [
              0.1111111111111111,
              "#46039f"
             ],
             [
              0.2222222222222222,
              "#7201a8"
             ],
             [
              0.3333333333333333,
              "#9c179e"
             ],
             [
              0.4444444444444444,
              "#bd3786"
             ],
             [
              0.5555555555555556,
              "#d8576b"
             ],
             [
              0.6666666666666666,
              "#ed7953"
             ],
             [
              0.7777777777777778,
              "#fb9f3a"
             ],
             [
              0.8888888888888888,
              "#fdca26"
             ],
             [
              1,
              "#f0f921"
             ]
            ],
            "type": "histogram2d"
           }
          ],
          "histogram2dcontour": [
           {
            "colorbar": {
             "outlinewidth": 0,
             "ticks": ""
            },
            "colorscale": [
             [
              0,
              "#0d0887"
             ],
             [
              0.1111111111111111,
              "#46039f"
             ],
             [
              0.2222222222222222,
              "#7201a8"
             ],
             [
              0.3333333333333333,
              "#9c179e"
             ],
             [
              0.4444444444444444,
              "#bd3786"
             ],
             [
              0.5555555555555556,
              "#d8576b"
             ],
             [
              0.6666666666666666,
              "#ed7953"
             ],
             [
              0.7777777777777778,
              "#fb9f3a"
             ],
             [
              0.8888888888888888,
              "#fdca26"
             ],
             [
              1,
              "#f0f921"
             ]
            ],
            "type": "histogram2dcontour"
           }
          ],
          "mesh3d": [
           {
            "colorbar": {
             "outlinewidth": 0,
             "ticks": ""
            },
            "type": "mesh3d"
           }
          ],
          "parcoords": [
           {
            "line": {
             "colorbar": {
              "outlinewidth": 0,
              "ticks": ""
             }
            },
            "type": "parcoords"
           }
          ],
          "pie": [
           {
            "automargin": true,
            "type": "pie"
           }
          ],
          "scatter": [
           {
            "marker": {
             "colorbar": {
              "outlinewidth": 0,
              "ticks": ""
             }
            },
            "type": "scatter"
           }
          ],
          "scatter3d": [
           {
            "line": {
             "colorbar": {
              "outlinewidth": 0,
              "ticks": ""
             }
            },
            "marker": {
             "colorbar": {
              "outlinewidth": 0,
              "ticks": ""
             }
            },
            "type": "scatter3d"
           }
          ],
          "scattercarpet": [
           {
            "marker": {
             "colorbar": {
              "outlinewidth": 0,
              "ticks": ""
             }
            },
            "type": "scattercarpet"
           }
          ],
          "scattergeo": [
           {
            "marker": {
             "colorbar": {
              "outlinewidth": 0,
              "ticks": ""
             }
            },
            "type": "scattergeo"
           }
          ],
          "scattergl": [
           {
            "marker": {
             "colorbar": {
              "outlinewidth": 0,
              "ticks": ""
             }
            },
            "type": "scattergl"
           }
          ],
          "scattermapbox": [
           {
            "marker": {
             "colorbar": {
              "outlinewidth": 0,
              "ticks": ""
             }
            },
            "type": "scattermapbox"
           }
          ],
          "scatterpolar": [
           {
            "marker": {
             "colorbar": {
              "outlinewidth": 0,
              "ticks": ""
             }
            },
            "type": "scatterpolar"
           }
          ],
          "scatterpolargl": [
           {
            "marker": {
             "colorbar": {
              "outlinewidth": 0,
              "ticks": ""
             }
            },
            "type": "scatterpolargl"
           }
          ],
          "scatterternary": [
           {
            "marker": {
             "colorbar": {
              "outlinewidth": 0,
              "ticks": ""
             }
            },
            "type": "scatterternary"
           }
          ],
          "surface": [
           {
            "colorbar": {
             "outlinewidth": 0,
             "ticks": ""
            },
            "colorscale": [
             [
              0,
              "#0d0887"
             ],
             [
              0.1111111111111111,
              "#46039f"
             ],
             [
              0.2222222222222222,
              "#7201a8"
             ],
             [
              0.3333333333333333,
              "#9c179e"
             ],
             [
              0.4444444444444444,
              "#bd3786"
             ],
             [
              0.5555555555555556,
              "#d8576b"
             ],
             [
              0.6666666666666666,
              "#ed7953"
             ],
             [
              0.7777777777777778,
              "#fb9f3a"
             ],
             [
              0.8888888888888888,
              "#fdca26"
             ],
             [
              1,
              "#f0f921"
             ]
            ],
            "type": "surface"
           }
          ],
          "table": [
           {
            "cells": {
             "fill": {
              "color": "#EBF0F8"
             },
             "line": {
              "color": "white"
             }
            },
            "header": {
             "fill": {
              "color": "#C8D4E3"
             },
             "line": {
              "color": "white"
             }
            },
            "type": "table"
           }
          ]
         },
         "layout": {
          "annotationdefaults": {
           "arrowcolor": "#2a3f5f",
           "arrowhead": 0,
           "arrowwidth": 1
          },
          "coloraxis": {
           "colorbar": {
            "outlinewidth": 0,
            "ticks": ""
           }
          },
          "colorscale": {
           "diverging": [
            [
             0,
             "#8e0152"
            ],
            [
             0.1,
             "#c51b7d"
            ],
            [
             0.2,
             "#de77ae"
            ],
            [
             0.3,
             "#f1b6da"
            ],
            [
             0.4,
             "#fde0ef"
            ],
            [
             0.5,
             "#f7f7f7"
            ],
            [
             0.6,
             "#e6f5d0"
            ],
            [
             0.7,
             "#b8e186"
            ],
            [
             0.8,
             "#7fbc41"
            ],
            [
             0.9,
             "#4d9221"
            ],
            [
             1,
             "#276419"
            ]
           ],
           "sequential": [
            [
             0,
             "#0d0887"
            ],
            [
             0.1111111111111111,
             "#46039f"
            ],
            [
             0.2222222222222222,
             "#7201a8"
            ],
            [
             0.3333333333333333,
             "#9c179e"
            ],
            [
             0.4444444444444444,
             "#bd3786"
            ],
            [
             0.5555555555555556,
             "#d8576b"
            ],
            [
             0.6666666666666666,
             "#ed7953"
            ],
            [
             0.7777777777777778,
             "#fb9f3a"
            ],
            [
             0.8888888888888888,
             "#fdca26"
            ],
            [
             1,
             "#f0f921"
            ]
           ],
           "sequentialminus": [
            [
             0,
             "#0d0887"
            ],
            [
             0.1111111111111111,
             "#46039f"
            ],
            [
             0.2222222222222222,
             "#7201a8"
            ],
            [
             0.3333333333333333,
             "#9c179e"
            ],
            [
             0.4444444444444444,
             "#bd3786"
            ],
            [
             0.5555555555555556,
             "#d8576b"
            ],
            [
             0.6666666666666666,
             "#ed7953"
            ],
            [
             0.7777777777777778,
             "#fb9f3a"
            ],
            [
             0.8888888888888888,
             "#fdca26"
            ],
            [
             1,
             "#f0f921"
            ]
           ]
          },
          "colorway": [
           "#636efa",
           "#EF553B",
           "#00cc96",
           "#ab63fa",
           "#FFA15A",
           "#19d3f3",
           "#FF6692",
           "#B6E880",
           "#FF97FF",
           "#FECB52"
          ],
          "font": {
           "color": "#2a3f5f"
          },
          "geo": {
           "bgcolor": "white",
           "lakecolor": "white",
           "landcolor": "#E5ECF6",
           "showlakes": true,
           "showland": true,
           "subunitcolor": "white"
          },
          "hoverlabel": {
           "align": "left"
          },
          "hovermode": "closest",
          "mapbox": {
           "style": "light"
          },
          "paper_bgcolor": "white",
          "plot_bgcolor": "#E5ECF6",
          "polar": {
           "angularaxis": {
            "gridcolor": "white",
            "linecolor": "white",
            "ticks": ""
           },
           "bgcolor": "#E5ECF6",
           "radialaxis": {
            "gridcolor": "white",
            "linecolor": "white",
            "ticks": ""
           }
          },
          "scene": {
           "xaxis": {
            "backgroundcolor": "#E5ECF6",
            "gridcolor": "white",
            "gridwidth": 2,
            "linecolor": "white",
            "showbackground": true,
            "ticks": "",
            "zerolinecolor": "white"
           },
           "yaxis": {
            "backgroundcolor": "#E5ECF6",
            "gridcolor": "white",
            "gridwidth": 2,
            "linecolor": "white",
            "showbackground": true,
            "ticks": "",
            "zerolinecolor": "white"
           },
           "zaxis": {
            "backgroundcolor": "#E5ECF6",
            "gridcolor": "white",
            "gridwidth": 2,
            "linecolor": "white",
            "showbackground": true,
            "ticks": "",
            "zerolinecolor": "white"
           }
          },
          "shapedefaults": {
           "line": {
            "color": "#2a3f5f"
           }
          },
          "ternary": {
           "aaxis": {
            "gridcolor": "white",
            "linecolor": "white",
            "ticks": ""
           },
           "baxis": {
            "gridcolor": "white",
            "linecolor": "white",
            "ticks": ""
           },
           "bgcolor": "#E5ECF6",
           "caxis": {
            "gridcolor": "white",
            "linecolor": "white",
            "ticks": ""
           }
          },
          "title": {
           "x": 0.05
          },
          "xaxis": {
           "automargin": true,
           "gridcolor": "white",
           "linecolor": "white",
           "ticks": "",
           "title": {
            "standoff": 15
           },
           "zerolinecolor": "white",
           "zerolinewidth": 2
          },
          "yaxis": {
           "automargin": true,
           "gridcolor": "white",
           "linecolor": "white",
           "ticks": "",
           "title": {
            "standoff": 15
           },
           "zerolinecolor": "white",
           "zerolinewidth": 2
          }
         }
        },
        "title": {
         "text": "Central Defender - Defend"
        },
        "xaxis": {
         "anchor": "y",
         "domain": [
          0,
          1
         ],
         "title": {
          "text": "Headers Won/90"
         }
        },
        "yaxis": {
         "anchor": "x",
         "domain": [
          0,
          1
         ],
         "title": {
          "text": "Interceptions/90"
         }
        }
       }
      },
      "text/html": [
       "<div>\n",
       "        \n",
       "        \n",
       "            <div id=\"b832063c-3e78-4a90-997d-b7aa9cbbbff5\" class=\"plotly-graph-div\" style=\"height:525px; width:100%;\"></div>\n",
       "            <script type=\"text/javascript\">\n",
       "                require([\"plotly\"], function(Plotly) {\n",
       "                    window.PLOTLYENV=window.PLOTLYENV || {};\n",
       "                    \n",
       "                if (document.getElementById(\"b832063c-3e78-4a90-997d-b7aa9cbbbff5\")) {\n",
       "                    Plotly.newPlot(\n",
       "                        'b832063c-3e78-4a90-997d-b7aa9cbbbff5',\n",
       "                        [{\"customdata\": [[\"Shawn Hery\"]], \"hovertemplate\": \"Name=%{customdata[0]}<br>Hdrs W/90=%{x}<br>Int/90=%{y}<br>Age=%{marker.size}<extra></extra>\", \"legendgroup\": \"Shawn Hery\", \"marker\": {\"color\": \"#636efa\", \"size\": [21], \"sizemode\": \"area\", \"sizeref\": 0.0875, \"symbol\": \"circle\"}, \"mode\": \"markers\", \"name\": \"Shawn Hery\", \"showlegend\": true, \"type\": \"scatter\", \"x\": [\"3.17\"], \"xaxis\": \"x\", \"y\": [\"0.79\"], \"yaxis\": \"y\"}, {\"customdata\": [[\"Franck Evina\"]], \"hovertemplate\": \"Name=%{customdata[0]}<br>Hdrs W/90=%{x}<br>Int/90=%{y}<br>Age=%{marker.size}<extra></extra>\", \"legendgroup\": \"Franck Evina\", \"marker\": {\"color\": \"#EF553B\", \"size\": [22], \"sizemode\": \"area\", \"sizeref\": 0.0875, \"symbol\": \"circle\"}, \"mode\": \"markers\", \"name\": \"Franck Evina\", \"showlegend\": true, \"type\": \"scatter\", \"x\": [\"3.33\"], \"xaxis\": \"x\", \"y\": [\"1.15\"], \"yaxis\": \"y\"}, {\"customdata\": [[\"Luca Unbehaun\"]], \"hovertemplate\": \"Name=%{customdata[0]}<br>Hdrs W/90=%{x}<br>Int/90=%{y}<br>Age=%{marker.size}<extra></extra>\", \"legendgroup\": \"Luca Unbehaun\", \"marker\": {\"color\": \"#00cc96\", \"size\": [21], \"sizemode\": \"area\", \"sizeref\": 0.0875, \"symbol\": \"circle\"}, \"mode\": \"markers\", \"name\": \"Luca Unbehaun\", \"showlegend\": true, \"type\": \"scatter\", \"x\": [\"-\"], \"xaxis\": \"x\", \"y\": [\"-\"], \"yaxis\": \"y\"}, {\"customdata\": [[\"Marvin Jung\"]], \"hovertemplate\": \"Name=%{customdata[0]}<br>Hdrs W/90=%{x}<br>Int/90=%{y}<br>Age=%{marker.size}<extra></extra>\", \"legendgroup\": \"Marvin Jung\", \"marker\": {\"color\": \"#ab63fa\", \"size\": [21], \"sizemode\": \"area\", \"sizeref\": 0.0875, \"symbol\": \"circle\"}, \"mode\": \"markers\", \"name\": \"Marvin Jung\", \"showlegend\": true, \"type\": \"scatter\", \"x\": [\"4.09\"], \"xaxis\": \"x\", \"y\": [\"2.48\"], \"yaxis\": \"y\"}, {\"customdata\": [[\"Mike Fitzner\"]], \"hovertemplate\": \"Name=%{customdata[0]}<br>Hdrs W/90=%{x}<br>Int/90=%{y}<br>Age=%{marker.size}<extra></extra>\", \"legendgroup\": \"Mike Fitzner\", \"marker\": {\"color\": \"#FFA15A\", \"size\": [18], \"sizemode\": \"area\", \"sizeref\": 0.0875, \"symbol\": \"circle\"}, \"mode\": \"markers\", \"name\": \"Mike Fitzner\", \"showlegend\": true, \"type\": \"scatter\", \"x\": [\"4.64\"], \"xaxis\": \"x\", \"y\": [\"0.65\"], \"yaxis\": \"y\"}, {\"customdata\": [[\"Sefer Ayg\\u00c3\\u00bcn\"]], \"hovertemplate\": \"Name=%{customdata[0]}<br>Hdrs W/90=%{x}<br>Int/90=%{y}<br>Age=%{marker.size}<extra></extra>\", \"legendgroup\": \"Sefer Ayg\\u00c3\\u00bcn\", \"marker\": {\"color\": \"#19d3f3\", \"size\": [18], \"sizemode\": \"area\", \"sizeref\": 0.0875, \"symbol\": \"circle\"}, \"mode\": \"markers\", \"name\": \"Sefer Ayg\\u00c3\\u00bcn\", \"showlegend\": true, \"type\": \"scatter\", \"x\": [\"1.41\"], \"xaxis\": \"x\", \"y\": [\"1.24\"], \"yaxis\": \"y\"}, {\"customdata\": [[\"Marco Hiller\"]], \"hovertemplate\": \"Name=%{customdata[0]}<br>Hdrs W/90=%{x}<br>Int/90=%{y}<br>Age=%{marker.size}<extra></extra>\", \"legendgroup\": \"Marco Hiller\", \"marker\": {\"color\": \"#FF6692\", \"size\": [25], \"sizemode\": \"area\", \"sizeref\": 0.0875, \"symbol\": \"circle\"}, \"mode\": \"markers\", \"name\": \"Marco Hiller\", \"showlegend\": true, \"type\": \"scatter\", \"x\": [\"-\"], \"xaxis\": \"x\", \"y\": [\"-\"], \"yaxis\": \"y\"}, {\"customdata\": [[\"Leon Klassen\"]], \"hovertemplate\": \"Name=%{customdata[0]}<br>Hdrs W/90=%{x}<br>Int/90=%{y}<br>Age=%{marker.size}<extra></extra>\", \"legendgroup\": \"Leon Klassen\", \"marker\": {\"color\": \"#B6E880\", \"size\": [22], \"sizemode\": \"area\", \"sizeref\": 0.0875, \"symbol\": \"circle\"}, \"mode\": \"markers\", \"name\": \"Leon Klassen\", \"showlegend\": true, \"type\": \"scatter\", \"x\": [\"1.12\"], \"xaxis\": \"x\", \"y\": [\"1.51\"], \"yaxis\": \"y\"}, {\"customdata\": [[\"Noel Niemann\"]], \"hovertemplate\": \"Name=%{customdata[0]}<br>Hdrs W/90=%{x}<br>Int/90=%{y}<br>Age=%{marker.size}<extra></extra>\", \"legendgroup\": \"Noel Niemann\", \"marker\": {\"color\": \"#FF97FF\", \"size\": [23], \"sizemode\": \"area\", \"sizeref\": 0.0875, \"symbol\": \"circle\"}, \"mode\": \"markers\", \"name\": \"Noel Niemann\", \"showlegend\": true, \"type\": \"scatter\", \"x\": [\"1.64\"], \"xaxis\": \"x\", \"y\": [\"0.76\"], \"yaxis\": \"y\"}, {\"customdata\": [[\"Lucas Deaux\"]], \"hovertemplate\": \"Name=%{customdata[0]}<br>Hdrs W/90=%{x}<br>Int/90=%{y}<br>Age=%{marker.size}<extra></extra>\", \"legendgroup\": \"Lucas Deaux\", \"marker\": {\"color\": \"#FECB52\", \"size\": [33], \"sizemode\": \"area\", \"sizeref\": 0.0875, \"symbol\": \"circle\"}, \"mode\": \"markers\", \"name\": \"Lucas Deaux\", \"showlegend\": true, \"type\": \"scatter\", \"x\": [\"2.63\"], \"xaxis\": \"x\", \"y\": [\"1.03\"], \"yaxis\": \"y\"}, {\"customdata\": [[\"Julian Schwermann\"]], \"hovertemplate\": \"Name=%{customdata[0]}<br>Hdrs W/90=%{x}<br>Int/90=%{y}<br>Age=%{marker.size}<extra></extra>\", \"legendgroup\": \"Julian Schwermann\", \"marker\": {\"color\": \"#636efa\", \"size\": [23], \"sizemode\": \"area\", \"sizeref\": 0.0875, \"symbol\": \"circle\"}, \"mode\": \"markers\", \"name\": \"Julian Schwermann\", \"showlegend\": true, \"type\": \"scatter\", \"x\": [\"1.44\"], \"xaxis\": \"x\", \"y\": [\"1.22\"], \"yaxis\": \"y\"}, {\"customdata\": [[\"Oliver Kragl\"]], \"hovertemplate\": \"Name=%{customdata[0]}<br>Hdrs W/90=%{x}<br>Int/90=%{y}<br>Age=%{marker.size}<extra></extra>\", \"legendgroup\": \"Oliver Kragl\", \"marker\": {\"color\": \"#EF553B\", \"size\": [32], \"sizemode\": \"area\", \"sizeref\": 0.0875, \"symbol\": \"circle\"}, \"mode\": \"markers\", \"name\": \"Oliver Kragl\", \"showlegend\": true, \"type\": \"scatter\", \"x\": [\"3.46\"], \"xaxis\": \"x\", \"y\": [\"1.07\"], \"yaxis\": \"y\"}, {\"customdata\": [[\"Ben Sch\\u00c3\\u00a4fer\"]], \"hovertemplate\": \"Name=%{customdata[0]}<br>Hdrs W/90=%{x}<br>Int/90=%{y}<br>Age=%{marker.size}<extra></extra>\", \"legendgroup\": \"Ben Sch\\u00c3\\u00a4fer\", \"marker\": {\"color\": \"#00cc96\", \"size\": [18], \"sizemode\": \"area\", \"sizeref\": 0.0875, \"symbol\": \"circle\"}, \"mode\": \"markers\", \"name\": \"Ben Sch\\u00c3\\u00a4fer\", \"showlegend\": true, \"type\": \"scatter\", \"x\": [\"-\"], \"xaxis\": \"x\", \"y\": [\"-\"], \"yaxis\": \"y\"}, {\"customdata\": [[\"Andreas Ahlm\"]], \"hovertemplate\": \"Name=%{customdata[0]}<br>Hdrs W/90=%{x}<br>Int/90=%{y}<br>Age=%{marker.size}<extra></extra>\", \"legendgroup\": \"Andreas Ahlm\", \"marker\": {\"color\": \"#ab63fa\", \"size\": [18], \"sizemode\": \"area\", \"sizeref\": 0.0875, \"symbol\": \"circle\"}, \"mode\": \"markers\", \"name\": \"Andreas Ahlm\", \"showlegend\": true, \"type\": \"scatter\", \"x\": [\"-\"], \"xaxis\": \"x\", \"y\": [\"-\"], \"yaxis\": \"y\"}, {\"customdata\": [[\"Petr Dvorak\"]], \"hovertemplate\": \"Name=%{customdata[0]}<br>Hdrs W/90=%{x}<br>Int/90=%{y}<br>Age=%{marker.size}<extra></extra>\", \"legendgroup\": \"Petr Dvorak\", \"marker\": {\"color\": \"#FFA15A\", \"size\": [17], \"sizemode\": \"area\", \"sizeref\": 0.0875, \"symbol\": \"circle\"}, \"mode\": \"markers\", \"name\": \"Petr Dvorak\", \"showlegend\": true, \"type\": \"scatter\", \"x\": [\"-\"], \"xaxis\": \"x\", \"y\": [\"-\"], \"yaxis\": \"y\"}, {\"customdata\": [[\"Efkan Bekiroglu\"]], \"hovertemplate\": \"Name=%{customdata[0]}<br>Hdrs W/90=%{x}<br>Int/90=%{y}<br>Age=%{marker.size}<extra></extra>\", \"legendgroup\": \"Efkan Bekiroglu\", \"marker\": {\"color\": \"#19d3f3\", \"size\": [27], \"sizemode\": \"area\", \"sizeref\": 0.0875, \"symbol\": \"circle\"}, \"mode\": \"markers\", \"name\": \"Efkan Bekiroglu\", \"showlegend\": true, \"type\": \"scatter\", \"x\": [\"2.27\"], \"xaxis\": \"x\", \"y\": [\"0.65\"], \"yaxis\": \"y\"}, {\"customdata\": [[\"Fabian Greilinger\"]], \"hovertemplate\": \"Name=%{customdata[0]}<br>Hdrs W/90=%{x}<br>Int/90=%{y}<br>Age=%{marker.size}<extra></extra>\", \"legendgroup\": \"Fabian Greilinger\", \"marker\": {\"color\": \"#FF6692\", \"size\": [22], \"sizemode\": \"area\", \"sizeref\": 0.0875, \"symbol\": \"circle\"}, \"mode\": \"markers\", \"name\": \"Fabian Greilinger\", \"showlegend\": true, \"type\": \"scatter\", \"x\": [\"1.91\"], \"xaxis\": \"x\", \"y\": [\"0.42\"], \"yaxis\": \"y\"}, {\"customdata\": [[\"Marko Basic\"]], \"hovertemplate\": \"Name=%{customdata[0]}<br>Hdrs W/90=%{x}<br>Int/90=%{y}<br>Age=%{marker.size}<extra></extra>\", \"legendgroup\": \"Marko Basic\", \"marker\": {\"color\": \"#B6E880\", \"size\": [17], \"sizemode\": \"area\", \"sizeref\": 0.0875, \"symbol\": \"circle\"}, \"mode\": \"markers\", \"name\": \"Marko Basic\", \"showlegend\": true, \"type\": \"scatter\", \"x\": [\"-\"], \"xaxis\": \"x\", \"y\": [\"-\"], \"yaxis\": \"y\"}, {\"customdata\": [[\"Mert G\\u00c3\\u00b6ckan\"]], \"hovertemplate\": \"Name=%{customdata[0]}<br>Hdrs W/90=%{x}<br>Int/90=%{y}<br>Age=%{marker.size}<extra></extra>\", \"legendgroup\": \"Mert G\\u00c3\\u00b6ckan\", \"marker\": {\"color\": \"#FF97FF\", \"size\": [21], \"sizemode\": \"area\", \"sizeref\": 0.0875, \"symbol\": \"circle\"}, \"mode\": \"markers\", \"name\": \"Mert G\\u00c3\\u00b6ckan\", \"showlegend\": true, \"type\": \"scatter\", \"x\": [\"4.09\"], \"xaxis\": \"x\", \"y\": [\"1.46\"], \"yaxis\": \"y\"}, {\"customdata\": [[\"Gabriel Isik\"]], \"hovertemplate\": \"Name=%{customdata[0]}<br>Hdrs W/90=%{x}<br>Int/90=%{y}<br>Age=%{marker.size}<extra></extra>\", \"legendgroup\": \"Gabriel Isik\", \"marker\": {\"color\": \"#FECB52\", \"size\": [23], \"sizemode\": \"area\", \"sizeref\": 0.0875, \"symbol\": \"circle\"}, \"mode\": \"markers\", \"name\": \"Gabriel Isik\", \"showlegend\": true, \"type\": \"scatter\", \"x\": [\"3.19\"], \"xaxis\": \"x\", \"y\": [\"2.38\"], \"yaxis\": \"y\"}, {\"customdata\": [[\"Pawel Majewski\"]], \"hovertemplate\": \"Name=%{customdata[0]}<br>Hdrs W/90=%{x}<br>Int/90=%{y}<br>Age=%{marker.size}<extra></extra>\", \"legendgroup\": \"Pawel Majewski\", \"marker\": {\"color\": \"#636efa\", \"size\": [18], \"sizemode\": \"area\", \"sizeref\": 0.0875, \"symbol\": \"circle\"}, \"mode\": \"markers\", \"name\": \"Pawel Majewski\", \"showlegend\": true, \"type\": \"scatter\", \"x\": [\"-\"], \"xaxis\": \"x\", \"y\": [\"-\"], \"yaxis\": \"y\"}, {\"customdata\": [[\"Peter K\\u00c3\\u00b6ster\"]], \"hovertemplate\": \"Name=%{customdata[0]}<br>Hdrs W/90=%{x}<br>Int/90=%{y}<br>Age=%{marker.size}<extra></extra>\", \"legendgroup\": \"Peter K\\u00c3\\u00b6ster\", \"marker\": {\"color\": \"#EF553B\", \"size\": [23], \"sizemode\": \"area\", \"sizeref\": 0.0875, \"symbol\": \"circle\"}, \"mode\": \"markers\", \"name\": \"Peter K\\u00c3\\u00b6ster\", \"showlegend\": true, \"type\": \"scatter\", \"x\": [\"2.25\"], \"xaxis\": \"x\", \"y\": [\"1.61\"], \"yaxis\": \"y\"}, {\"customdata\": [[\"Abdoulaye Niang\"]], \"hovertemplate\": \"Name=%{customdata[0]}<br>Hdrs W/90=%{x}<br>Int/90=%{y}<br>Age=%{marker.size}<extra></extra>\", \"legendgroup\": \"Abdoulaye Niang\", \"marker\": {\"color\": \"#00cc96\", \"size\": [19], \"sizemode\": \"area\", \"sizeref\": 0.0875, \"symbol\": \"circle\"}, \"mode\": \"markers\", \"name\": \"Abdoulaye Niang\", \"showlegend\": true, \"type\": \"scatter\", \"x\": [\"1.17\"], \"xaxis\": \"x\", \"y\": [\"1.46\"], \"yaxis\": \"y\"}, {\"customdata\": [[\"Sven Bender\"]], \"hovertemplate\": \"Name=%{customdata[0]}<br>Hdrs W/90=%{x}<br>Int/90=%{y}<br>Age=%{marker.size}<extra></extra>\", \"legendgroup\": \"Sven Bender\", \"marker\": {\"color\": \"#ab63fa\", \"size\": [33], \"sizemode\": \"area\", \"sizeref\": 0.0875, \"symbol\": \"circle\"}, \"mode\": \"markers\", \"name\": \"Sven Bender\", \"showlegend\": true, \"type\": \"scatter\", \"x\": [\"4.06\"], \"xaxis\": \"x\", \"y\": [\"2.67\"], \"yaxis\": \"y\"}, {\"customdata\": [[\"Gary Medel\"]], \"hovertemplate\": \"Name=%{customdata[0]}<br>Hdrs W/90=%{x}<br>Int/90=%{y}<br>Age=%{marker.size}<extra></extra>\", \"legendgroup\": \"Gary Medel\", \"marker\": {\"color\": \"#FFA15A\", \"size\": [35], \"sizemode\": \"area\", \"sizeref\": 0.0875, \"symbol\": \"circle\"}, \"mode\": \"markers\", \"name\": \"Gary Medel\", \"showlegend\": true, \"type\": \"scatter\", \"x\": [\"0.75\"], \"xaxis\": \"x\", \"y\": [\"0.66\"], \"yaxis\": \"y\"}],\n",
       "                        {\"font\": {\"color\": \"#7f7f7f\", \"family\": \"Courier New, monospace\", \"size\": 16}, \"legend\": {\"itemsizing\": \"constant\", \"title\": {\"text\": \"Name\"}, \"tracegroupgap\": 0}, \"margin\": {\"t\": 60}, \"template\": {\"data\": {\"bar\": [{\"error_x\": {\"color\": \"#2a3f5f\"}, \"error_y\": {\"color\": \"#2a3f5f\"}, \"marker\": {\"line\": {\"color\": \"#E5ECF6\", \"width\": 0.5}}, \"type\": \"bar\"}], \"barpolar\": [{\"marker\": {\"line\": {\"color\": \"#E5ECF6\", \"width\": 0.5}}, \"type\": \"barpolar\"}], \"carpet\": [{\"aaxis\": {\"endlinecolor\": \"#2a3f5f\", \"gridcolor\": \"white\", \"linecolor\": \"white\", \"minorgridcolor\": \"white\", \"startlinecolor\": \"#2a3f5f\"}, \"baxis\": {\"endlinecolor\": \"#2a3f5f\", \"gridcolor\": \"white\", \"linecolor\": \"white\", \"minorgridcolor\": \"white\", \"startlinecolor\": \"#2a3f5f\"}, \"type\": \"carpet\"}], \"choropleth\": [{\"colorbar\": {\"outlinewidth\": 0, \"ticks\": \"\"}, \"type\": \"choropleth\"}], \"contour\": [{\"colorbar\": {\"outlinewidth\": 0, \"ticks\": \"\"}, \"colorscale\": [[0.0, \"#0d0887\"], [0.1111111111111111, \"#46039f\"], [0.2222222222222222, \"#7201a8\"], [0.3333333333333333, \"#9c179e\"], [0.4444444444444444, \"#bd3786\"], [0.5555555555555556, \"#d8576b\"], [0.6666666666666666, \"#ed7953\"], [0.7777777777777778, \"#fb9f3a\"], [0.8888888888888888, \"#fdca26\"], [1.0, \"#f0f921\"]], \"type\": \"contour\"}], \"contourcarpet\": [{\"colorbar\": {\"outlinewidth\": 0, \"ticks\": \"\"}, \"type\": \"contourcarpet\"}], \"heatmap\": [{\"colorbar\": {\"outlinewidth\": 0, \"ticks\": \"\"}, \"colorscale\": [[0.0, \"#0d0887\"], [0.1111111111111111, \"#46039f\"], [0.2222222222222222, \"#7201a8\"], [0.3333333333333333, \"#9c179e\"], [0.4444444444444444, \"#bd3786\"], [0.5555555555555556, \"#d8576b\"], [0.6666666666666666, \"#ed7953\"], [0.7777777777777778, \"#fb9f3a\"], [0.8888888888888888, \"#fdca26\"], [1.0, \"#f0f921\"]], \"type\": \"heatmap\"}], \"heatmapgl\": [{\"colorbar\": {\"outlinewidth\": 0, \"ticks\": \"\"}, \"colorscale\": [[0.0, \"#0d0887\"], [0.1111111111111111, \"#46039f\"], [0.2222222222222222, \"#7201a8\"], [0.3333333333333333, \"#9c179e\"], [0.4444444444444444, \"#bd3786\"], [0.5555555555555556, \"#d8576b\"], [0.6666666666666666, \"#ed7953\"], [0.7777777777777778, \"#fb9f3a\"], [0.8888888888888888, \"#fdca26\"], [1.0, \"#f0f921\"]], \"type\": \"heatmapgl\"}], \"histogram\": [{\"marker\": {\"colorbar\": {\"outlinewidth\": 0, \"ticks\": \"\"}}, \"type\": \"histogram\"}], \"histogram2d\": [{\"colorbar\": {\"outlinewidth\": 0, \"ticks\": \"\"}, \"colorscale\": [[0.0, \"#0d0887\"], [0.1111111111111111, \"#46039f\"], [0.2222222222222222, \"#7201a8\"], [0.3333333333333333, \"#9c179e\"], [0.4444444444444444, \"#bd3786\"], [0.5555555555555556, \"#d8576b\"], [0.6666666666666666, \"#ed7953\"], [0.7777777777777778, \"#fb9f3a\"], [0.8888888888888888, \"#fdca26\"], [1.0, \"#f0f921\"]], \"type\": \"histogram2d\"}], \"histogram2dcontour\": [{\"colorbar\": {\"outlinewidth\": 0, \"ticks\": \"\"}, \"colorscale\": [[0.0, \"#0d0887\"], [0.1111111111111111, \"#46039f\"], [0.2222222222222222, \"#7201a8\"], [0.3333333333333333, \"#9c179e\"], [0.4444444444444444, \"#bd3786\"], [0.5555555555555556, \"#d8576b\"], [0.6666666666666666, \"#ed7953\"], [0.7777777777777778, \"#fb9f3a\"], [0.8888888888888888, \"#fdca26\"], [1.0, \"#f0f921\"]], \"type\": \"histogram2dcontour\"}], \"mesh3d\": [{\"colorbar\": {\"outlinewidth\": 0, \"ticks\": \"\"}, \"type\": \"mesh3d\"}], \"parcoords\": [{\"line\": {\"colorbar\": {\"outlinewidth\": 0, \"ticks\": \"\"}}, \"type\": \"parcoords\"}], \"pie\": [{\"automargin\": true, \"type\": \"pie\"}], \"scatter\": [{\"marker\": {\"colorbar\": {\"outlinewidth\": 0, \"ticks\": \"\"}}, \"type\": \"scatter\"}], \"scatter3d\": [{\"line\": {\"colorbar\": {\"outlinewidth\": 0, \"ticks\": \"\"}}, \"marker\": {\"colorbar\": {\"outlinewidth\": 0, \"ticks\": \"\"}}, \"type\": \"scatter3d\"}], \"scattercarpet\": [{\"marker\": {\"colorbar\": {\"outlinewidth\": 0, \"ticks\": \"\"}}, \"type\": \"scattercarpet\"}], \"scattergeo\": [{\"marker\": {\"colorbar\": {\"outlinewidth\": 0, \"ticks\": \"\"}}, \"type\": \"scattergeo\"}], \"scattergl\": [{\"marker\": {\"colorbar\": {\"outlinewidth\": 0, \"ticks\": \"\"}}, \"type\": \"scattergl\"}], \"scattermapbox\": [{\"marker\": {\"colorbar\": {\"outlinewidth\": 0, \"ticks\": \"\"}}, \"type\": \"scattermapbox\"}], \"scatterpolar\": [{\"marker\": {\"colorbar\": {\"outlinewidth\": 0, \"ticks\": \"\"}}, \"type\": \"scatterpolar\"}], \"scatterpolargl\": [{\"marker\": {\"colorbar\": {\"outlinewidth\": 0, \"ticks\": \"\"}}, \"type\": \"scatterpolargl\"}], \"scatterternary\": [{\"marker\": {\"colorbar\": {\"outlinewidth\": 0, \"ticks\": \"\"}}, \"type\": \"scatterternary\"}], \"surface\": [{\"colorbar\": {\"outlinewidth\": 0, \"ticks\": \"\"}, \"colorscale\": [[0.0, \"#0d0887\"], [0.1111111111111111, \"#46039f\"], [0.2222222222222222, \"#7201a8\"], [0.3333333333333333, \"#9c179e\"], [0.4444444444444444, \"#bd3786\"], [0.5555555555555556, \"#d8576b\"], [0.6666666666666666, \"#ed7953\"], [0.7777777777777778, \"#fb9f3a\"], [0.8888888888888888, \"#fdca26\"], [1.0, \"#f0f921\"]], \"type\": \"surface\"}], \"table\": [{\"cells\": {\"fill\": {\"color\": \"#EBF0F8\"}, \"line\": {\"color\": \"white\"}}, \"header\": {\"fill\": {\"color\": \"#C8D4E3\"}, \"line\": {\"color\": \"white\"}}, \"type\": \"table\"}]}, \"layout\": {\"annotationdefaults\": {\"arrowcolor\": \"#2a3f5f\", \"arrowhead\": 0, \"arrowwidth\": 1}, \"coloraxis\": {\"colorbar\": {\"outlinewidth\": 0, \"ticks\": \"\"}}, \"colorscale\": {\"diverging\": [[0, \"#8e0152\"], [0.1, \"#c51b7d\"], [0.2, \"#de77ae\"], [0.3, \"#f1b6da\"], [0.4, \"#fde0ef\"], [0.5, \"#f7f7f7\"], [0.6, \"#e6f5d0\"], [0.7, \"#b8e186\"], [0.8, \"#7fbc41\"], [0.9, \"#4d9221\"], [1, \"#276419\"]], \"sequential\": [[0.0, \"#0d0887\"], [0.1111111111111111, \"#46039f\"], [0.2222222222222222, \"#7201a8\"], [0.3333333333333333, \"#9c179e\"], [0.4444444444444444, \"#bd3786\"], [0.5555555555555556, \"#d8576b\"], [0.6666666666666666, \"#ed7953\"], [0.7777777777777778, \"#fb9f3a\"], [0.8888888888888888, \"#fdca26\"], [1.0, \"#f0f921\"]], \"sequentialminus\": [[0.0, \"#0d0887\"], [0.1111111111111111, \"#46039f\"], [0.2222222222222222, \"#7201a8\"], [0.3333333333333333, \"#9c179e\"], [0.4444444444444444, \"#bd3786\"], [0.5555555555555556, \"#d8576b\"], [0.6666666666666666, \"#ed7953\"], [0.7777777777777778, \"#fb9f3a\"], [0.8888888888888888, \"#fdca26\"], [1.0, \"#f0f921\"]]}, \"colorway\": [\"#636efa\", \"#EF553B\", \"#00cc96\", \"#ab63fa\", \"#FFA15A\", \"#19d3f3\", \"#FF6692\", \"#B6E880\", \"#FF97FF\", \"#FECB52\"], \"font\": {\"color\": \"#2a3f5f\"}, \"geo\": {\"bgcolor\": \"white\", \"lakecolor\": \"white\", \"landcolor\": \"#E5ECF6\", \"showlakes\": true, \"showland\": true, \"subunitcolor\": \"white\"}, \"hoverlabel\": {\"align\": \"left\"}, \"hovermode\": \"closest\", \"mapbox\": {\"style\": \"light\"}, \"paper_bgcolor\": \"white\", \"plot_bgcolor\": \"#E5ECF6\", \"polar\": {\"angularaxis\": {\"gridcolor\": \"white\", \"linecolor\": \"white\", \"ticks\": \"\"}, \"bgcolor\": \"#E5ECF6\", \"radialaxis\": {\"gridcolor\": \"white\", \"linecolor\": \"white\", \"ticks\": \"\"}}, \"scene\": {\"xaxis\": {\"backgroundcolor\": \"#E5ECF6\", \"gridcolor\": \"white\", \"gridwidth\": 2, \"linecolor\": \"white\", \"showbackground\": true, \"ticks\": \"\", \"zerolinecolor\": \"white\"}, \"yaxis\": {\"backgroundcolor\": \"#E5ECF6\", \"gridcolor\": \"white\", \"gridwidth\": 2, \"linecolor\": \"white\", \"showbackground\": true, \"ticks\": \"\", \"zerolinecolor\": \"white\"}, \"zaxis\": {\"backgroundcolor\": \"#E5ECF6\", \"gridcolor\": \"white\", \"gridwidth\": 2, \"linecolor\": \"white\", \"showbackground\": true, \"ticks\": \"\", \"zerolinecolor\": \"white\"}}, \"shapedefaults\": {\"line\": {\"color\": \"#2a3f5f\"}}, \"ternary\": {\"aaxis\": {\"gridcolor\": \"white\", \"linecolor\": \"white\", \"ticks\": \"\"}, \"baxis\": {\"gridcolor\": \"white\", \"linecolor\": \"white\", \"ticks\": \"\"}, \"bgcolor\": \"#E5ECF6\", \"caxis\": {\"gridcolor\": \"white\", \"linecolor\": \"white\", \"ticks\": \"\"}}, \"title\": {\"x\": 0.05}, \"xaxis\": {\"automargin\": true, \"gridcolor\": \"white\", \"linecolor\": \"white\", \"ticks\": \"\", \"title\": {\"standoff\": 15}, \"zerolinecolor\": \"white\", \"zerolinewidth\": 2}, \"yaxis\": {\"automargin\": true, \"gridcolor\": \"white\", \"linecolor\": \"white\", \"ticks\": \"\", \"title\": {\"standoff\": 15}, \"zerolinecolor\": \"white\", \"zerolinewidth\": 2}}}, \"title\": {\"text\": \"Central Defender - Defend\"}, \"xaxis\": {\"anchor\": \"y\", \"domain\": [0.0, 1.0], \"title\": {\"text\": \"Headers Won/90\"}}, \"yaxis\": {\"anchor\": \"x\", \"domain\": [0.0, 1.0], \"title\": {\"text\": \"Interceptions/90\"}}},\n",
       "                        {\"responsive\": true}\n",
       "                    ).then(function(){\n",
       "                            \n",
       "var gd = document.getElementById('b832063c-3e78-4a90-997d-b7aa9cbbbff5');\n",
       "var x = new MutationObserver(function (mutations, observer) {{\n",
       "        var display = window.getComputedStyle(gd).display;\n",
       "        if (!display || display === 'none') {{\n",
       "            console.log([gd, 'removed!']);\n",
       "            Plotly.purge(gd);\n",
       "            observer.disconnect();\n",
       "        }}\n",
       "}});\n",
       "\n",
       "// Listen for the removal of the full notebook cells\n",
       "var notebookContainer = gd.closest('#notebook-container');\n",
       "if (notebookContainer) {{\n",
       "    x.observe(notebookContainer, {childList: true});\n",
       "}}\n",
       "\n",
       "// Listen for the clearing of the current output cell\n",
       "var outputEl = gd.closest('.output');\n",
       "if (outputEl) {{\n",
       "    x.observe(outputEl, {childList: true});\n",
       "}}\n",
       "\n",
       "                        })\n",
       "                };\n",
       "                });\n",
       "            </script>\n",
       "        </div>"
      ]
     },
     "metadata": {},
     "output_type": "display_data"
    }
   ],
   "source": [
    "# Central Defender - Defend\n",
    "\n",
    "fig = px.scatter(df, x=\"Hdrs W/90\", y=\"Int/90\", color=\"Name\",  \n",
    "        size='Age', hover_data=['Name'])\n",
    "\n",
    "fig.update_layout(\n",
    "    title=\"Central Defender - Defend\",\n",
    "    xaxis_title=\"Headers Won/90\",\n",
    "    yaxis_title=\"Interceptions/90\",\n",
    "    font=dict(\n",
    "        family=\"Courier New, monospace\",\n",
    "        size=16,\n",
    "        color=\"#7f7f7f\"\n",
    "    )\n",
    ")\n",
    "fig.show() "
   ]
  },
  {
   "cell_type": "code",
   "execution_count": 9,
   "metadata": {},
   "outputs": [
    {
     "data": {
      "application/vnd.plotly.v1+json": {
       "config": {
        "plotlyServerURL": "https://plot.ly"
       },
       "data": [
        {
         "customdata": [
          [
           "Shawn Hery"
          ]
         ],
         "hovertemplate": "Name=%{customdata[0]}<br>Pas %=%{x}<br>Int/90=%{y}<br>Age=%{marker.size}<extra></extra>",
         "legendgroup": "Shawn Hery",
         "marker": {
          "color": "#636efa",
          "size": [
           21
          ],
          "sizemode": "area",
          "sizeref": 0.0875,
          "symbol": "circle"
         },
         "mode": "markers",
         "name": "Shawn Hery",
         "showlegend": true,
         "type": "scatter",
         "x": [
          "88%"
         ],
         "xaxis": "x",
         "y": [
          "0.79"
         ],
         "yaxis": "y"
        },
        {
         "customdata": [
          [
           "Franck Evina"
          ]
         ],
         "hovertemplate": "Name=%{customdata[0]}<br>Pas %=%{x}<br>Int/90=%{y}<br>Age=%{marker.size}<extra></extra>",
         "legendgroup": "Franck Evina",
         "marker": {
          "color": "#EF553B",
          "size": [
           22
          ],
          "sizemode": "area",
          "sizeref": 0.0875,
          "symbol": "circle"
         },
         "mode": "markers",
         "name": "Franck Evina",
         "showlegend": true,
         "type": "scatter",
         "x": [
          "86%"
         ],
         "xaxis": "x",
         "y": [
          "1.15"
         ],
         "yaxis": "y"
        },
        {
         "customdata": [
          [
           "Luca Unbehaun"
          ]
         ],
         "hovertemplate": "Name=%{customdata[0]}<br>Pas %=%{x}<br>Int/90=%{y}<br>Age=%{marker.size}<extra></extra>",
         "legendgroup": "Luca Unbehaun",
         "marker": {
          "color": "#00cc96",
          "size": [
           21
          ],
          "sizemode": "area",
          "sizeref": 0.0875,
          "symbol": "circle"
         },
         "mode": "markers",
         "name": "Luca Unbehaun",
         "showlegend": true,
         "type": "scatter",
         "x": [
          "90%"
         ],
         "xaxis": "x",
         "y": [
          "-"
         ],
         "yaxis": "y"
        },
        {
         "customdata": [
          [
           "Marvin Jung"
          ]
         ],
         "hovertemplate": "Name=%{customdata[0]}<br>Pas %=%{x}<br>Int/90=%{y}<br>Age=%{marker.size}<extra></extra>",
         "legendgroup": "Marvin Jung",
         "marker": {
          "color": "#ab63fa",
          "size": [
           21
          ],
          "sizemode": "area",
          "sizeref": 0.0875,
          "symbol": "circle"
         },
         "mode": "markers",
         "name": "Marvin Jung",
         "showlegend": true,
         "type": "scatter",
         "x": [
          "86%"
         ],
         "xaxis": "x",
         "y": [
          "2.48"
         ],
         "yaxis": "y"
        },
        {
         "customdata": [
          [
           "Mike Fitzner"
          ]
         ],
         "hovertemplate": "Name=%{customdata[0]}<br>Pas %=%{x}<br>Int/90=%{y}<br>Age=%{marker.size}<extra></extra>",
         "legendgroup": "Mike Fitzner",
         "marker": {
          "color": "#FFA15A",
          "size": [
           18
          ],
          "sizemode": "area",
          "sizeref": 0.0875,
          "symbol": "circle"
         },
         "mode": "markers",
         "name": "Mike Fitzner",
         "showlegend": true,
         "type": "scatter",
         "x": [
          "86%"
         ],
         "xaxis": "x",
         "y": [
          "0.65"
         ],
         "yaxis": "y"
        },
        {
         "customdata": [
          [
           "Sefer AygÃ¼n"
          ]
         ],
         "hovertemplate": "Name=%{customdata[0]}<br>Pas %=%{x}<br>Int/90=%{y}<br>Age=%{marker.size}<extra></extra>",
         "legendgroup": "Sefer AygÃ¼n",
         "marker": {
          "color": "#19d3f3",
          "size": [
           18
          ],
          "sizemode": "area",
          "sizeref": 0.0875,
          "symbol": "circle"
         },
         "mode": "markers",
         "name": "Sefer AygÃ¼n",
         "showlegend": true,
         "type": "scatter",
         "x": [
          "81%"
         ],
         "xaxis": "x",
         "y": [
          "1.24"
         ],
         "yaxis": "y"
        },
        {
         "customdata": [
          [
           "Marco Hiller"
          ]
         ],
         "hovertemplate": "Name=%{customdata[0]}<br>Pas %=%{x}<br>Int/90=%{y}<br>Age=%{marker.size}<extra></extra>",
         "legendgroup": "Marco Hiller",
         "marker": {
          "color": "#FF6692",
          "size": [
           25
          ],
          "sizemode": "area",
          "sizeref": 0.0875,
          "symbol": "circle"
         },
         "mode": "markers",
         "name": "Marco Hiller",
         "showlegend": true,
         "type": "scatter",
         "x": [
          "-"
         ],
         "xaxis": "x",
         "y": [
          "-"
         ],
         "yaxis": "y"
        },
        {
         "customdata": [
          [
           "Leon Klassen"
          ]
         ],
         "hovertemplate": "Name=%{customdata[0]}<br>Pas %=%{x}<br>Int/90=%{y}<br>Age=%{marker.size}<extra></extra>",
         "legendgroup": "Leon Klassen",
         "marker": {
          "color": "#B6E880",
          "size": [
           22
          ],
          "sizemode": "area",
          "sizeref": 0.0875,
          "symbol": "circle"
         },
         "mode": "markers",
         "name": "Leon Klassen",
         "showlegend": true,
         "type": "scatter",
         "x": [
          "85%"
         ],
         "xaxis": "x",
         "y": [
          "1.51"
         ],
         "yaxis": "y"
        },
        {
         "customdata": [
          [
           "Noel Niemann"
          ]
         ],
         "hovertemplate": "Name=%{customdata[0]}<br>Pas %=%{x}<br>Int/90=%{y}<br>Age=%{marker.size}<extra></extra>",
         "legendgroup": "Noel Niemann",
         "marker": {
          "color": "#FF97FF",
          "size": [
           23
          ],
          "sizemode": "area",
          "sizeref": 0.0875,
          "symbol": "circle"
         },
         "mode": "markers",
         "name": "Noel Niemann",
         "showlegend": true,
         "type": "scatter",
         "x": [
          "80%"
         ],
         "xaxis": "x",
         "y": [
          "0.76"
         ],
         "yaxis": "y"
        },
        {
         "customdata": [
          [
           "Lucas Deaux"
          ]
         ],
         "hovertemplate": "Name=%{customdata[0]}<br>Pas %=%{x}<br>Int/90=%{y}<br>Age=%{marker.size}<extra></extra>",
         "legendgroup": "Lucas Deaux",
         "marker": {
          "color": "#FECB52",
          "size": [
           33
          ],
          "sizemode": "area",
          "sizeref": 0.0875,
          "symbol": "circle"
         },
         "mode": "markers",
         "name": "Lucas Deaux",
         "showlegend": true,
         "type": "scatter",
         "x": [
          "92%"
         ],
         "xaxis": "x",
         "y": [
          "1.03"
         ],
         "yaxis": "y"
        },
        {
         "customdata": [
          [
           "Julian Schwermann"
          ]
         ],
         "hovertemplate": "Name=%{customdata[0]}<br>Pas %=%{x}<br>Int/90=%{y}<br>Age=%{marker.size}<extra></extra>",
         "legendgroup": "Julian Schwermann",
         "marker": {
          "color": "#636efa",
          "size": [
           23
          ],
          "sizemode": "area",
          "sizeref": 0.0875,
          "symbol": "circle"
         },
         "mode": "markers",
         "name": "Julian Schwermann",
         "showlegend": true,
         "type": "scatter",
         "x": [
          "93%"
         ],
         "xaxis": "x",
         "y": [
          "1.22"
         ],
         "yaxis": "y"
        },
        {
         "customdata": [
          [
           "Oliver Kragl"
          ]
         ],
         "hovertemplate": "Name=%{customdata[0]}<br>Pas %=%{x}<br>Int/90=%{y}<br>Age=%{marker.size}<extra></extra>",
         "legendgroup": "Oliver Kragl",
         "marker": {
          "color": "#EF553B",
          "size": [
           32
          ],
          "sizemode": "area",
          "sizeref": 0.0875,
          "symbol": "circle"
         },
         "mode": "markers",
         "name": "Oliver Kragl",
         "showlegend": true,
         "type": "scatter",
         "x": [
          "78%"
         ],
         "xaxis": "x",
         "y": [
          "1.07"
         ],
         "yaxis": "y"
        },
        {
         "customdata": [
          [
           "Ben SchÃ¤fer"
          ]
         ],
         "hovertemplate": "Name=%{customdata[0]}<br>Pas %=%{x}<br>Int/90=%{y}<br>Age=%{marker.size}<extra></extra>",
         "legendgroup": "Ben SchÃ¤fer",
         "marker": {
          "color": "#00cc96",
          "size": [
           18
          ],
          "sizemode": "area",
          "sizeref": 0.0875,
          "symbol": "circle"
         },
         "mode": "markers",
         "name": "Ben SchÃ¤fer",
         "showlegend": true,
         "type": "scatter",
         "x": [
          "-"
         ],
         "xaxis": "x",
         "y": [
          "-"
         ],
         "yaxis": "y"
        },
        {
         "customdata": [
          [
           "Andreas Ahlm"
          ]
         ],
         "hovertemplate": "Name=%{customdata[0]}<br>Pas %=%{x}<br>Int/90=%{y}<br>Age=%{marker.size}<extra></extra>",
         "legendgroup": "Andreas Ahlm",
         "marker": {
          "color": "#ab63fa",
          "size": [
           18
          ],
          "sizemode": "area",
          "sizeref": 0.0875,
          "symbol": "circle"
         },
         "mode": "markers",
         "name": "Andreas Ahlm",
         "showlegend": true,
         "type": "scatter",
         "x": [
          "-"
         ],
         "xaxis": "x",
         "y": [
          "-"
         ],
         "yaxis": "y"
        },
        {
         "customdata": [
          [
           "Petr Dvorak"
          ]
         ],
         "hovertemplate": "Name=%{customdata[0]}<br>Pas %=%{x}<br>Int/90=%{y}<br>Age=%{marker.size}<extra></extra>",
         "legendgroup": "Petr Dvorak",
         "marker": {
          "color": "#FFA15A",
          "size": [
           17
          ],
          "sizemode": "area",
          "sizeref": 0.0875,
          "symbol": "circle"
         },
         "mode": "markers",
         "name": "Petr Dvorak",
         "showlegend": true,
         "type": "scatter",
         "x": [
          "-"
         ],
         "xaxis": "x",
         "y": [
          "-"
         ],
         "yaxis": "y"
        },
        {
         "customdata": [
          [
           "Efkan Bekiroglu"
          ]
         ],
         "hovertemplate": "Name=%{customdata[0]}<br>Pas %=%{x}<br>Int/90=%{y}<br>Age=%{marker.size}<extra></extra>",
         "legendgroup": "Efkan Bekiroglu",
         "marker": {
          "color": "#19d3f3",
          "size": [
           27
          ],
          "sizemode": "area",
          "sizeref": 0.0875,
          "symbol": "circle"
         },
         "mode": "markers",
         "name": "Efkan Bekiroglu",
         "showlegend": true,
         "type": "scatter",
         "x": [
          "88%"
         ],
         "xaxis": "x",
         "y": [
          "0.65"
         ],
         "yaxis": "y"
        },
        {
         "customdata": [
          [
           "Fabian Greilinger"
          ]
         ],
         "hovertemplate": "Name=%{customdata[0]}<br>Pas %=%{x}<br>Int/90=%{y}<br>Age=%{marker.size}<extra></extra>",
         "legendgroup": "Fabian Greilinger",
         "marker": {
          "color": "#FF6692",
          "size": [
           22
          ],
          "sizemode": "area",
          "sizeref": 0.0875,
          "symbol": "circle"
         },
         "mode": "markers",
         "name": "Fabian Greilinger",
         "showlegend": true,
         "type": "scatter",
         "x": [
          "87%"
         ],
         "xaxis": "x",
         "y": [
          "0.42"
         ],
         "yaxis": "y"
        },
        {
         "customdata": [
          [
           "Marko Basic"
          ]
         ],
         "hovertemplate": "Name=%{customdata[0]}<br>Pas %=%{x}<br>Int/90=%{y}<br>Age=%{marker.size}<extra></extra>",
         "legendgroup": "Marko Basic",
         "marker": {
          "color": "#B6E880",
          "size": [
           17
          ],
          "sizemode": "area",
          "sizeref": 0.0875,
          "symbol": "circle"
         },
         "mode": "markers",
         "name": "Marko Basic",
         "showlegend": true,
         "type": "scatter",
         "x": [
          "-"
         ],
         "xaxis": "x",
         "y": [
          "-"
         ],
         "yaxis": "y"
        },
        {
         "customdata": [
          [
           "Mert GÃ¶ckan"
          ]
         ],
         "hovertemplate": "Name=%{customdata[0]}<br>Pas %=%{x}<br>Int/90=%{y}<br>Age=%{marker.size}<extra></extra>",
         "legendgroup": "Mert GÃ¶ckan",
         "marker": {
          "color": "#FF97FF",
          "size": [
           21
          ],
          "sizemode": "area",
          "sizeref": 0.0875,
          "symbol": "circle"
         },
         "mode": "markers",
         "name": "Mert GÃ¶ckan",
         "showlegend": true,
         "type": "scatter",
         "x": [
          "79%"
         ],
         "xaxis": "x",
         "y": [
          "1.46"
         ],
         "yaxis": "y"
        },
        {
         "customdata": [
          [
           "Gabriel Isik"
          ]
         ],
         "hovertemplate": "Name=%{customdata[0]}<br>Pas %=%{x}<br>Int/90=%{y}<br>Age=%{marker.size}<extra></extra>",
         "legendgroup": "Gabriel Isik",
         "marker": {
          "color": "#FECB52",
          "size": [
           23
          ],
          "sizemode": "area",
          "sizeref": 0.0875,
          "symbol": "circle"
         },
         "mode": "markers",
         "name": "Gabriel Isik",
         "showlegend": true,
         "type": "scatter",
         "x": [
          "83%"
         ],
         "xaxis": "x",
         "y": [
          "2.38"
         ],
         "yaxis": "y"
        },
        {
         "customdata": [
          [
           "Pawel Majewski"
          ]
         ],
         "hovertemplate": "Name=%{customdata[0]}<br>Pas %=%{x}<br>Int/90=%{y}<br>Age=%{marker.size}<extra></extra>",
         "legendgroup": "Pawel Majewski",
         "marker": {
          "color": "#636efa",
          "size": [
           18
          ],
          "sizemode": "area",
          "sizeref": 0.0875,
          "symbol": "circle"
         },
         "mode": "markers",
         "name": "Pawel Majewski",
         "showlegend": true,
         "type": "scatter",
         "x": [
          "87%"
         ],
         "xaxis": "x",
         "y": [
          "-"
         ],
         "yaxis": "y"
        },
        {
         "customdata": [
          [
           "Peter KÃ¶ster"
          ]
         ],
         "hovertemplate": "Name=%{customdata[0]}<br>Pas %=%{x}<br>Int/90=%{y}<br>Age=%{marker.size}<extra></extra>",
         "legendgroup": "Peter KÃ¶ster",
         "marker": {
          "color": "#EF553B",
          "size": [
           23
          ],
          "sizemode": "area",
          "sizeref": 0.0875,
          "symbol": "circle"
         },
         "mode": "markers",
         "name": "Peter KÃ¶ster",
         "showlegend": true,
         "type": "scatter",
         "x": [
          "81%"
         ],
         "xaxis": "x",
         "y": [
          "1.61"
         ],
         "yaxis": "y"
        },
        {
         "customdata": [
          [
           "Abdoulaye Niang"
          ]
         ],
         "hovertemplate": "Name=%{customdata[0]}<br>Pas %=%{x}<br>Int/90=%{y}<br>Age=%{marker.size}<extra></extra>",
         "legendgroup": "Abdoulaye Niang",
         "marker": {
          "color": "#00cc96",
          "size": [
           19
          ],
          "sizemode": "area",
          "sizeref": 0.0875,
          "symbol": "circle"
         },
         "mode": "markers",
         "name": "Abdoulaye Niang",
         "showlegend": true,
         "type": "scatter",
         "x": [
          "94%"
         ],
         "xaxis": "x",
         "y": [
          "1.46"
         ],
         "yaxis": "y"
        },
        {
         "customdata": [
          [
           "Sven Bender"
          ]
         ],
         "hovertemplate": "Name=%{customdata[0]}<br>Pas %=%{x}<br>Int/90=%{y}<br>Age=%{marker.size}<extra></extra>",
         "legendgroup": "Sven Bender",
         "marker": {
          "color": "#ab63fa",
          "size": [
           33
          ],
          "sizemode": "area",
          "sizeref": 0.0875,
          "symbol": "circle"
         },
         "mode": "markers",
         "name": "Sven Bender",
         "showlegend": true,
         "type": "scatter",
         "x": [
          "90%"
         ],
         "xaxis": "x",
         "y": [
          "2.67"
         ],
         "yaxis": "y"
        },
        {
         "customdata": [
          [
           "Gary Medel"
          ]
         ],
         "hovertemplate": "Name=%{customdata[0]}<br>Pas %=%{x}<br>Int/90=%{y}<br>Age=%{marker.size}<extra></extra>",
         "legendgroup": "Gary Medel",
         "marker": {
          "color": "#FFA15A",
          "size": [
           35
          ],
          "sizemode": "area",
          "sizeref": 0.0875,
          "symbol": "circle"
         },
         "mode": "markers",
         "name": "Gary Medel",
         "showlegend": true,
         "type": "scatter",
         "x": [
          "93%"
         ],
         "xaxis": "x",
         "y": [
          "0.66"
         ],
         "yaxis": "y"
        }
       ],
       "layout": {
        "font": {
         "color": "#7f7f7f",
         "family": "Courier New, monospace",
         "size": 16
        },
        "legend": {
         "itemsizing": "constant",
         "title": {
          "text": "Name"
         },
         "tracegroupgap": 0
        },
        "margin": {
         "t": 60
        },
        "template": {
         "data": {
          "bar": [
           {
            "error_x": {
             "color": "#2a3f5f"
            },
            "error_y": {
             "color": "#2a3f5f"
            },
            "marker": {
             "line": {
              "color": "#E5ECF6",
              "width": 0.5
             }
            },
            "type": "bar"
           }
          ],
          "barpolar": [
           {
            "marker": {
             "line": {
              "color": "#E5ECF6",
              "width": 0.5
             }
            },
            "type": "barpolar"
           }
          ],
          "carpet": [
           {
            "aaxis": {
             "endlinecolor": "#2a3f5f",
             "gridcolor": "white",
             "linecolor": "white",
             "minorgridcolor": "white",
             "startlinecolor": "#2a3f5f"
            },
            "baxis": {
             "endlinecolor": "#2a3f5f",
             "gridcolor": "white",
             "linecolor": "white",
             "minorgridcolor": "white",
             "startlinecolor": "#2a3f5f"
            },
            "type": "carpet"
           }
          ],
          "choropleth": [
           {
            "colorbar": {
             "outlinewidth": 0,
             "ticks": ""
            },
            "type": "choropleth"
           }
          ],
          "contour": [
           {
            "colorbar": {
             "outlinewidth": 0,
             "ticks": ""
            },
            "colorscale": [
             [
              0,
              "#0d0887"
             ],
             [
              0.1111111111111111,
              "#46039f"
             ],
             [
              0.2222222222222222,
              "#7201a8"
             ],
             [
              0.3333333333333333,
              "#9c179e"
             ],
             [
              0.4444444444444444,
              "#bd3786"
             ],
             [
              0.5555555555555556,
              "#d8576b"
             ],
             [
              0.6666666666666666,
              "#ed7953"
             ],
             [
              0.7777777777777778,
              "#fb9f3a"
             ],
             [
              0.8888888888888888,
              "#fdca26"
             ],
             [
              1,
              "#f0f921"
             ]
            ],
            "type": "contour"
           }
          ],
          "contourcarpet": [
           {
            "colorbar": {
             "outlinewidth": 0,
             "ticks": ""
            },
            "type": "contourcarpet"
           }
          ],
          "heatmap": [
           {
            "colorbar": {
             "outlinewidth": 0,
             "ticks": ""
            },
            "colorscale": [
             [
              0,
              "#0d0887"
             ],
             [
              0.1111111111111111,
              "#46039f"
             ],
             [
              0.2222222222222222,
              "#7201a8"
             ],
             [
              0.3333333333333333,
              "#9c179e"
             ],
             [
              0.4444444444444444,
              "#bd3786"
             ],
             [
              0.5555555555555556,
              "#d8576b"
             ],
             [
              0.6666666666666666,
              "#ed7953"
             ],
             [
              0.7777777777777778,
              "#fb9f3a"
             ],
             [
              0.8888888888888888,
              "#fdca26"
             ],
             [
              1,
              "#f0f921"
             ]
            ],
            "type": "heatmap"
           }
          ],
          "heatmapgl": [
           {
            "colorbar": {
             "outlinewidth": 0,
             "ticks": ""
            },
            "colorscale": [
             [
              0,
              "#0d0887"
             ],
             [
              0.1111111111111111,
              "#46039f"
             ],
             [
              0.2222222222222222,
              "#7201a8"
             ],
             [
              0.3333333333333333,
              "#9c179e"
             ],
             [
              0.4444444444444444,
              "#bd3786"
             ],
             [
              0.5555555555555556,
              "#d8576b"
             ],
             [
              0.6666666666666666,
              "#ed7953"
             ],
             [
              0.7777777777777778,
              "#fb9f3a"
             ],
             [
              0.8888888888888888,
              "#fdca26"
             ],
             [
              1,
              "#f0f921"
             ]
            ],
            "type": "heatmapgl"
           }
          ],
          "histogram": [
           {
            "marker": {
             "colorbar": {
              "outlinewidth": 0,
              "ticks": ""
             }
            },
            "type": "histogram"
           }
          ],
          "histogram2d": [
           {
            "colorbar": {
             "outlinewidth": 0,
             "ticks": ""
            },
            "colorscale": [
             [
              0,
              "#0d0887"
             ],
             [
              0.1111111111111111,
              "#46039f"
             ],
             [
              0.2222222222222222,
              "#7201a8"
             ],
             [
              0.3333333333333333,
              "#9c179e"
             ],
             [
              0.4444444444444444,
              "#bd3786"
             ],
             [
              0.5555555555555556,
              "#d8576b"
             ],
             [
              0.6666666666666666,
              "#ed7953"
             ],
             [
              0.7777777777777778,
              "#fb9f3a"
             ],
             [
              0.8888888888888888,
              "#fdca26"
             ],
             [
              1,
              "#f0f921"
             ]
            ],
            "type": "histogram2d"
           }
          ],
          "histogram2dcontour": [
           {
            "colorbar": {
             "outlinewidth": 0,
             "ticks": ""
            },
            "colorscale": [
             [
              0,
              "#0d0887"
             ],
             [
              0.1111111111111111,
              "#46039f"
             ],
             [
              0.2222222222222222,
              "#7201a8"
             ],
             [
              0.3333333333333333,
              "#9c179e"
             ],
             [
              0.4444444444444444,
              "#bd3786"
             ],
             [
              0.5555555555555556,
              "#d8576b"
             ],
             [
              0.6666666666666666,
              "#ed7953"
             ],
             [
              0.7777777777777778,
              "#fb9f3a"
             ],
             [
              0.8888888888888888,
              "#fdca26"
             ],
             [
              1,
              "#f0f921"
             ]
            ],
            "type": "histogram2dcontour"
           }
          ],
          "mesh3d": [
           {
            "colorbar": {
             "outlinewidth": 0,
             "ticks": ""
            },
            "type": "mesh3d"
           }
          ],
          "parcoords": [
           {
            "line": {
             "colorbar": {
              "outlinewidth": 0,
              "ticks": ""
             }
            },
            "type": "parcoords"
           }
          ],
          "pie": [
           {
            "automargin": true,
            "type": "pie"
           }
          ],
          "scatter": [
           {
            "marker": {
             "colorbar": {
              "outlinewidth": 0,
              "ticks": ""
             }
            },
            "type": "scatter"
           }
          ],
          "scatter3d": [
           {
            "line": {
             "colorbar": {
              "outlinewidth": 0,
              "ticks": ""
             }
            },
            "marker": {
             "colorbar": {
              "outlinewidth": 0,
              "ticks": ""
             }
            },
            "type": "scatter3d"
           }
          ],
          "scattercarpet": [
           {
            "marker": {
             "colorbar": {
              "outlinewidth": 0,
              "ticks": ""
             }
            },
            "type": "scattercarpet"
           }
          ],
          "scattergeo": [
           {
            "marker": {
             "colorbar": {
              "outlinewidth": 0,
              "ticks": ""
             }
            },
            "type": "scattergeo"
           }
          ],
          "scattergl": [
           {
            "marker": {
             "colorbar": {
              "outlinewidth": 0,
              "ticks": ""
             }
            },
            "type": "scattergl"
           }
          ],
          "scattermapbox": [
           {
            "marker": {
             "colorbar": {
              "outlinewidth": 0,
              "ticks": ""
             }
            },
            "type": "scattermapbox"
           }
          ],
          "scatterpolar": [
           {
            "marker": {
             "colorbar": {
              "outlinewidth": 0,
              "ticks": ""
             }
            },
            "type": "scatterpolar"
           }
          ],
          "scatterpolargl": [
           {
            "marker": {
             "colorbar": {
              "outlinewidth": 0,
              "ticks": ""
             }
            },
            "type": "scatterpolargl"
           }
          ],
          "scatterternary": [
           {
            "marker": {
             "colorbar": {
              "outlinewidth": 0,
              "ticks": ""
             }
            },
            "type": "scatterternary"
           }
          ],
          "surface": [
           {
            "colorbar": {
             "outlinewidth": 0,
             "ticks": ""
            },
            "colorscale": [
             [
              0,
              "#0d0887"
             ],
             [
              0.1111111111111111,
              "#46039f"
             ],
             [
              0.2222222222222222,
              "#7201a8"
             ],
             [
              0.3333333333333333,
              "#9c179e"
             ],
             [
              0.4444444444444444,
              "#bd3786"
             ],
             [
              0.5555555555555556,
              "#d8576b"
             ],
             [
              0.6666666666666666,
              "#ed7953"
             ],
             [
              0.7777777777777778,
              "#fb9f3a"
             ],
             [
              0.8888888888888888,
              "#fdca26"
             ],
             [
              1,
              "#f0f921"
             ]
            ],
            "type": "surface"
           }
          ],
          "table": [
           {
            "cells": {
             "fill": {
              "color": "#EBF0F8"
             },
             "line": {
              "color": "white"
             }
            },
            "header": {
             "fill": {
              "color": "#C8D4E3"
             },
             "line": {
              "color": "white"
             }
            },
            "type": "table"
           }
          ]
         },
         "layout": {
          "annotationdefaults": {
           "arrowcolor": "#2a3f5f",
           "arrowhead": 0,
           "arrowwidth": 1
          },
          "coloraxis": {
           "colorbar": {
            "outlinewidth": 0,
            "ticks": ""
           }
          },
          "colorscale": {
           "diverging": [
            [
             0,
             "#8e0152"
            ],
            [
             0.1,
             "#c51b7d"
            ],
            [
             0.2,
             "#de77ae"
            ],
            [
             0.3,
             "#f1b6da"
            ],
            [
             0.4,
             "#fde0ef"
            ],
            [
             0.5,
             "#f7f7f7"
            ],
            [
             0.6,
             "#e6f5d0"
            ],
            [
             0.7,
             "#b8e186"
            ],
            [
             0.8,
             "#7fbc41"
            ],
            [
             0.9,
             "#4d9221"
            ],
            [
             1,
             "#276419"
            ]
           ],
           "sequential": [
            [
             0,
             "#0d0887"
            ],
            [
             0.1111111111111111,
             "#46039f"
            ],
            [
             0.2222222222222222,
             "#7201a8"
            ],
            [
             0.3333333333333333,
             "#9c179e"
            ],
            [
             0.4444444444444444,
             "#bd3786"
            ],
            [
             0.5555555555555556,
             "#d8576b"
            ],
            [
             0.6666666666666666,
             "#ed7953"
            ],
            [
             0.7777777777777778,
             "#fb9f3a"
            ],
            [
             0.8888888888888888,
             "#fdca26"
            ],
            [
             1,
             "#f0f921"
            ]
           ],
           "sequentialminus": [
            [
             0,
             "#0d0887"
            ],
            [
             0.1111111111111111,
             "#46039f"
            ],
            [
             0.2222222222222222,
             "#7201a8"
            ],
            [
             0.3333333333333333,
             "#9c179e"
            ],
            [
             0.4444444444444444,
             "#bd3786"
            ],
            [
             0.5555555555555556,
             "#d8576b"
            ],
            [
             0.6666666666666666,
             "#ed7953"
            ],
            [
             0.7777777777777778,
             "#fb9f3a"
            ],
            [
             0.8888888888888888,
             "#fdca26"
            ],
            [
             1,
             "#f0f921"
            ]
           ]
          },
          "colorway": [
           "#636efa",
           "#EF553B",
           "#00cc96",
           "#ab63fa",
           "#FFA15A",
           "#19d3f3",
           "#FF6692",
           "#B6E880",
           "#FF97FF",
           "#FECB52"
          ],
          "font": {
           "color": "#2a3f5f"
          },
          "geo": {
           "bgcolor": "white",
           "lakecolor": "white",
           "landcolor": "#E5ECF6",
           "showlakes": true,
           "showland": true,
           "subunitcolor": "white"
          },
          "hoverlabel": {
           "align": "left"
          },
          "hovermode": "closest",
          "mapbox": {
           "style": "light"
          },
          "paper_bgcolor": "white",
          "plot_bgcolor": "#E5ECF6",
          "polar": {
           "angularaxis": {
            "gridcolor": "white",
            "linecolor": "white",
            "ticks": ""
           },
           "bgcolor": "#E5ECF6",
           "radialaxis": {
            "gridcolor": "white",
            "linecolor": "white",
            "ticks": ""
           }
          },
          "scene": {
           "xaxis": {
            "backgroundcolor": "#E5ECF6",
            "gridcolor": "white",
            "gridwidth": 2,
            "linecolor": "white",
            "showbackground": true,
            "ticks": "",
            "zerolinecolor": "white"
           },
           "yaxis": {
            "backgroundcolor": "#E5ECF6",
            "gridcolor": "white",
            "gridwidth": 2,
            "linecolor": "white",
            "showbackground": true,
            "ticks": "",
            "zerolinecolor": "white"
           },
           "zaxis": {
            "backgroundcolor": "#E5ECF6",
            "gridcolor": "white",
            "gridwidth": 2,
            "linecolor": "white",
            "showbackground": true,
            "ticks": "",
            "zerolinecolor": "white"
           }
          },
          "shapedefaults": {
           "line": {
            "color": "#2a3f5f"
           }
          },
          "ternary": {
           "aaxis": {
            "gridcolor": "white",
            "linecolor": "white",
            "ticks": ""
           },
           "baxis": {
            "gridcolor": "white",
            "linecolor": "white",
            "ticks": ""
           },
           "bgcolor": "#E5ECF6",
           "caxis": {
            "gridcolor": "white",
            "linecolor": "white",
            "ticks": ""
           }
          },
          "title": {
           "x": 0.05
          },
          "xaxis": {
           "automargin": true,
           "gridcolor": "white",
           "linecolor": "white",
           "ticks": "",
           "title": {
            "standoff": 15
           },
           "zerolinecolor": "white",
           "zerolinewidth": 2
          },
          "yaxis": {
           "automargin": true,
           "gridcolor": "white",
           "linecolor": "white",
           "ticks": "",
           "title": {
            "standoff": 15
           },
           "zerolinecolor": "white",
           "zerolinewidth": 2
          }
         }
        },
        "title": {
         "text": "Defensive Midfielder - Defend"
        },
        "xaxis": {
         "anchor": "y",
         "domain": [
          0,
          1
         ],
         "title": {
          "text": "Pass Completion %"
         }
        },
        "yaxis": {
         "anchor": "x",
         "domain": [
          0,
          1
         ],
         "title": {
          "text": "Interceptions/90"
         }
        }
       }
      },
      "text/html": [
       "<div>\n",
       "        \n",
       "        \n",
       "            <div id=\"2d9e91d9-e675-4231-bbf1-53b8e90223b0\" class=\"plotly-graph-div\" style=\"height:525px; width:100%;\"></div>\n",
       "            <script type=\"text/javascript\">\n",
       "                require([\"plotly\"], function(Plotly) {\n",
       "                    window.PLOTLYENV=window.PLOTLYENV || {};\n",
       "                    \n",
       "                if (document.getElementById(\"2d9e91d9-e675-4231-bbf1-53b8e90223b0\")) {\n",
       "                    Plotly.newPlot(\n",
       "                        '2d9e91d9-e675-4231-bbf1-53b8e90223b0',\n",
       "                        [{\"customdata\": [[\"Shawn Hery\"]], \"hovertemplate\": \"Name=%{customdata[0]}<br>Pas %=%{x}<br>Int/90=%{y}<br>Age=%{marker.size}<extra></extra>\", \"legendgroup\": \"Shawn Hery\", \"marker\": {\"color\": \"#636efa\", \"size\": [21], \"sizemode\": \"area\", \"sizeref\": 0.0875, \"symbol\": \"circle\"}, \"mode\": \"markers\", \"name\": \"Shawn Hery\", \"showlegend\": true, \"type\": \"scatter\", \"x\": [\"88%\"], \"xaxis\": \"x\", \"y\": [\"0.79\"], \"yaxis\": \"y\"}, {\"customdata\": [[\"Franck Evina\"]], \"hovertemplate\": \"Name=%{customdata[0]}<br>Pas %=%{x}<br>Int/90=%{y}<br>Age=%{marker.size}<extra></extra>\", \"legendgroup\": \"Franck Evina\", \"marker\": {\"color\": \"#EF553B\", \"size\": [22], \"sizemode\": \"area\", \"sizeref\": 0.0875, \"symbol\": \"circle\"}, \"mode\": \"markers\", \"name\": \"Franck Evina\", \"showlegend\": true, \"type\": \"scatter\", \"x\": [\"86%\"], \"xaxis\": \"x\", \"y\": [\"1.15\"], \"yaxis\": \"y\"}, {\"customdata\": [[\"Luca Unbehaun\"]], \"hovertemplate\": \"Name=%{customdata[0]}<br>Pas %=%{x}<br>Int/90=%{y}<br>Age=%{marker.size}<extra></extra>\", \"legendgroup\": \"Luca Unbehaun\", \"marker\": {\"color\": \"#00cc96\", \"size\": [21], \"sizemode\": \"area\", \"sizeref\": 0.0875, \"symbol\": \"circle\"}, \"mode\": \"markers\", \"name\": \"Luca Unbehaun\", \"showlegend\": true, \"type\": \"scatter\", \"x\": [\"90%\"], \"xaxis\": \"x\", \"y\": [\"-\"], \"yaxis\": \"y\"}, {\"customdata\": [[\"Marvin Jung\"]], \"hovertemplate\": \"Name=%{customdata[0]}<br>Pas %=%{x}<br>Int/90=%{y}<br>Age=%{marker.size}<extra></extra>\", \"legendgroup\": \"Marvin Jung\", \"marker\": {\"color\": \"#ab63fa\", \"size\": [21], \"sizemode\": \"area\", \"sizeref\": 0.0875, \"symbol\": \"circle\"}, \"mode\": \"markers\", \"name\": \"Marvin Jung\", \"showlegend\": true, \"type\": \"scatter\", \"x\": [\"86%\"], \"xaxis\": \"x\", \"y\": [\"2.48\"], \"yaxis\": \"y\"}, {\"customdata\": [[\"Mike Fitzner\"]], \"hovertemplate\": \"Name=%{customdata[0]}<br>Pas %=%{x}<br>Int/90=%{y}<br>Age=%{marker.size}<extra></extra>\", \"legendgroup\": \"Mike Fitzner\", \"marker\": {\"color\": \"#FFA15A\", \"size\": [18], \"sizemode\": \"area\", \"sizeref\": 0.0875, \"symbol\": \"circle\"}, \"mode\": \"markers\", \"name\": \"Mike Fitzner\", \"showlegend\": true, \"type\": \"scatter\", \"x\": [\"86%\"], \"xaxis\": \"x\", \"y\": [\"0.65\"], \"yaxis\": \"y\"}, {\"customdata\": [[\"Sefer Ayg\\u00c3\\u00bcn\"]], \"hovertemplate\": \"Name=%{customdata[0]}<br>Pas %=%{x}<br>Int/90=%{y}<br>Age=%{marker.size}<extra></extra>\", \"legendgroup\": \"Sefer Ayg\\u00c3\\u00bcn\", \"marker\": {\"color\": \"#19d3f3\", \"size\": [18], \"sizemode\": \"area\", \"sizeref\": 0.0875, \"symbol\": \"circle\"}, \"mode\": \"markers\", \"name\": \"Sefer Ayg\\u00c3\\u00bcn\", \"showlegend\": true, \"type\": \"scatter\", \"x\": [\"81%\"], \"xaxis\": \"x\", \"y\": [\"1.24\"], \"yaxis\": \"y\"}, {\"customdata\": [[\"Marco Hiller\"]], \"hovertemplate\": \"Name=%{customdata[0]}<br>Pas %=%{x}<br>Int/90=%{y}<br>Age=%{marker.size}<extra></extra>\", \"legendgroup\": \"Marco Hiller\", \"marker\": {\"color\": \"#FF6692\", \"size\": [25], \"sizemode\": \"area\", \"sizeref\": 0.0875, \"symbol\": \"circle\"}, \"mode\": \"markers\", \"name\": \"Marco Hiller\", \"showlegend\": true, \"type\": \"scatter\", \"x\": [\"-\"], \"xaxis\": \"x\", \"y\": [\"-\"], \"yaxis\": \"y\"}, {\"customdata\": [[\"Leon Klassen\"]], \"hovertemplate\": \"Name=%{customdata[0]}<br>Pas %=%{x}<br>Int/90=%{y}<br>Age=%{marker.size}<extra></extra>\", \"legendgroup\": \"Leon Klassen\", \"marker\": {\"color\": \"#B6E880\", \"size\": [22], \"sizemode\": \"area\", \"sizeref\": 0.0875, \"symbol\": \"circle\"}, \"mode\": \"markers\", \"name\": \"Leon Klassen\", \"showlegend\": true, \"type\": \"scatter\", \"x\": [\"85%\"], \"xaxis\": \"x\", \"y\": [\"1.51\"], \"yaxis\": \"y\"}, {\"customdata\": [[\"Noel Niemann\"]], \"hovertemplate\": \"Name=%{customdata[0]}<br>Pas %=%{x}<br>Int/90=%{y}<br>Age=%{marker.size}<extra></extra>\", \"legendgroup\": \"Noel Niemann\", \"marker\": {\"color\": \"#FF97FF\", \"size\": [23], \"sizemode\": \"area\", \"sizeref\": 0.0875, \"symbol\": \"circle\"}, \"mode\": \"markers\", \"name\": \"Noel Niemann\", \"showlegend\": true, \"type\": \"scatter\", \"x\": [\"80%\"], \"xaxis\": \"x\", \"y\": [\"0.76\"], \"yaxis\": \"y\"}, {\"customdata\": [[\"Lucas Deaux\"]], \"hovertemplate\": \"Name=%{customdata[0]}<br>Pas %=%{x}<br>Int/90=%{y}<br>Age=%{marker.size}<extra></extra>\", \"legendgroup\": \"Lucas Deaux\", \"marker\": {\"color\": \"#FECB52\", \"size\": [33], \"sizemode\": \"area\", \"sizeref\": 0.0875, \"symbol\": \"circle\"}, \"mode\": \"markers\", \"name\": \"Lucas Deaux\", \"showlegend\": true, \"type\": \"scatter\", \"x\": [\"92%\"], \"xaxis\": \"x\", \"y\": [\"1.03\"], \"yaxis\": \"y\"}, {\"customdata\": [[\"Julian Schwermann\"]], \"hovertemplate\": \"Name=%{customdata[0]}<br>Pas %=%{x}<br>Int/90=%{y}<br>Age=%{marker.size}<extra></extra>\", \"legendgroup\": \"Julian Schwermann\", \"marker\": {\"color\": \"#636efa\", \"size\": [23], \"sizemode\": \"area\", \"sizeref\": 0.0875, \"symbol\": \"circle\"}, \"mode\": \"markers\", \"name\": \"Julian Schwermann\", \"showlegend\": true, \"type\": \"scatter\", \"x\": [\"93%\"], \"xaxis\": \"x\", \"y\": [\"1.22\"], \"yaxis\": \"y\"}, {\"customdata\": [[\"Oliver Kragl\"]], \"hovertemplate\": \"Name=%{customdata[0]}<br>Pas %=%{x}<br>Int/90=%{y}<br>Age=%{marker.size}<extra></extra>\", \"legendgroup\": \"Oliver Kragl\", \"marker\": {\"color\": \"#EF553B\", \"size\": [32], \"sizemode\": \"area\", \"sizeref\": 0.0875, \"symbol\": \"circle\"}, \"mode\": \"markers\", \"name\": \"Oliver Kragl\", \"showlegend\": true, \"type\": \"scatter\", \"x\": [\"78%\"], \"xaxis\": \"x\", \"y\": [\"1.07\"], \"yaxis\": \"y\"}, {\"customdata\": [[\"Ben Sch\\u00c3\\u00a4fer\"]], \"hovertemplate\": \"Name=%{customdata[0]}<br>Pas %=%{x}<br>Int/90=%{y}<br>Age=%{marker.size}<extra></extra>\", \"legendgroup\": \"Ben Sch\\u00c3\\u00a4fer\", \"marker\": {\"color\": \"#00cc96\", \"size\": [18], \"sizemode\": \"area\", \"sizeref\": 0.0875, \"symbol\": \"circle\"}, \"mode\": \"markers\", \"name\": \"Ben Sch\\u00c3\\u00a4fer\", \"showlegend\": true, \"type\": \"scatter\", \"x\": [\"-\"], \"xaxis\": \"x\", \"y\": [\"-\"], \"yaxis\": \"y\"}, {\"customdata\": [[\"Andreas Ahlm\"]], \"hovertemplate\": \"Name=%{customdata[0]}<br>Pas %=%{x}<br>Int/90=%{y}<br>Age=%{marker.size}<extra></extra>\", \"legendgroup\": \"Andreas Ahlm\", \"marker\": {\"color\": \"#ab63fa\", \"size\": [18], \"sizemode\": \"area\", \"sizeref\": 0.0875, \"symbol\": \"circle\"}, \"mode\": \"markers\", \"name\": \"Andreas Ahlm\", \"showlegend\": true, \"type\": \"scatter\", \"x\": [\"-\"], \"xaxis\": \"x\", \"y\": [\"-\"], \"yaxis\": \"y\"}, {\"customdata\": [[\"Petr Dvorak\"]], \"hovertemplate\": \"Name=%{customdata[0]}<br>Pas %=%{x}<br>Int/90=%{y}<br>Age=%{marker.size}<extra></extra>\", \"legendgroup\": \"Petr Dvorak\", \"marker\": {\"color\": \"#FFA15A\", \"size\": [17], \"sizemode\": \"area\", \"sizeref\": 0.0875, \"symbol\": \"circle\"}, \"mode\": \"markers\", \"name\": \"Petr Dvorak\", \"showlegend\": true, \"type\": \"scatter\", \"x\": [\"-\"], \"xaxis\": \"x\", \"y\": [\"-\"], \"yaxis\": \"y\"}, {\"customdata\": [[\"Efkan Bekiroglu\"]], \"hovertemplate\": \"Name=%{customdata[0]}<br>Pas %=%{x}<br>Int/90=%{y}<br>Age=%{marker.size}<extra></extra>\", \"legendgroup\": \"Efkan Bekiroglu\", \"marker\": {\"color\": \"#19d3f3\", \"size\": [27], \"sizemode\": \"area\", \"sizeref\": 0.0875, \"symbol\": \"circle\"}, \"mode\": \"markers\", \"name\": \"Efkan Bekiroglu\", \"showlegend\": true, \"type\": \"scatter\", \"x\": [\"88%\"], \"xaxis\": \"x\", \"y\": [\"0.65\"], \"yaxis\": \"y\"}, {\"customdata\": [[\"Fabian Greilinger\"]], \"hovertemplate\": \"Name=%{customdata[0]}<br>Pas %=%{x}<br>Int/90=%{y}<br>Age=%{marker.size}<extra></extra>\", \"legendgroup\": \"Fabian Greilinger\", \"marker\": {\"color\": \"#FF6692\", \"size\": [22], \"sizemode\": \"area\", \"sizeref\": 0.0875, \"symbol\": \"circle\"}, \"mode\": \"markers\", \"name\": \"Fabian Greilinger\", \"showlegend\": true, \"type\": \"scatter\", \"x\": [\"87%\"], \"xaxis\": \"x\", \"y\": [\"0.42\"], \"yaxis\": \"y\"}, {\"customdata\": [[\"Marko Basic\"]], \"hovertemplate\": \"Name=%{customdata[0]}<br>Pas %=%{x}<br>Int/90=%{y}<br>Age=%{marker.size}<extra></extra>\", \"legendgroup\": \"Marko Basic\", \"marker\": {\"color\": \"#B6E880\", \"size\": [17], \"sizemode\": \"area\", \"sizeref\": 0.0875, \"symbol\": \"circle\"}, \"mode\": \"markers\", \"name\": \"Marko Basic\", \"showlegend\": true, \"type\": \"scatter\", \"x\": [\"-\"], \"xaxis\": \"x\", \"y\": [\"-\"], \"yaxis\": \"y\"}, {\"customdata\": [[\"Mert G\\u00c3\\u00b6ckan\"]], \"hovertemplate\": \"Name=%{customdata[0]}<br>Pas %=%{x}<br>Int/90=%{y}<br>Age=%{marker.size}<extra></extra>\", \"legendgroup\": \"Mert G\\u00c3\\u00b6ckan\", \"marker\": {\"color\": \"#FF97FF\", \"size\": [21], \"sizemode\": \"area\", \"sizeref\": 0.0875, \"symbol\": \"circle\"}, \"mode\": \"markers\", \"name\": \"Mert G\\u00c3\\u00b6ckan\", \"showlegend\": true, \"type\": \"scatter\", \"x\": [\"79%\"], \"xaxis\": \"x\", \"y\": [\"1.46\"], \"yaxis\": \"y\"}, {\"customdata\": [[\"Gabriel Isik\"]], \"hovertemplate\": \"Name=%{customdata[0]}<br>Pas %=%{x}<br>Int/90=%{y}<br>Age=%{marker.size}<extra></extra>\", \"legendgroup\": \"Gabriel Isik\", \"marker\": {\"color\": \"#FECB52\", \"size\": [23], \"sizemode\": \"area\", \"sizeref\": 0.0875, \"symbol\": \"circle\"}, \"mode\": \"markers\", \"name\": \"Gabriel Isik\", \"showlegend\": true, \"type\": \"scatter\", \"x\": [\"83%\"], \"xaxis\": \"x\", \"y\": [\"2.38\"], \"yaxis\": \"y\"}, {\"customdata\": [[\"Pawel Majewski\"]], \"hovertemplate\": \"Name=%{customdata[0]}<br>Pas %=%{x}<br>Int/90=%{y}<br>Age=%{marker.size}<extra></extra>\", \"legendgroup\": \"Pawel Majewski\", \"marker\": {\"color\": \"#636efa\", \"size\": [18], \"sizemode\": \"area\", \"sizeref\": 0.0875, \"symbol\": \"circle\"}, \"mode\": \"markers\", \"name\": \"Pawel Majewski\", \"showlegend\": true, \"type\": \"scatter\", \"x\": [\"87%\"], \"xaxis\": \"x\", \"y\": [\"-\"], \"yaxis\": \"y\"}, {\"customdata\": [[\"Peter K\\u00c3\\u00b6ster\"]], \"hovertemplate\": \"Name=%{customdata[0]}<br>Pas %=%{x}<br>Int/90=%{y}<br>Age=%{marker.size}<extra></extra>\", \"legendgroup\": \"Peter K\\u00c3\\u00b6ster\", \"marker\": {\"color\": \"#EF553B\", \"size\": [23], \"sizemode\": \"area\", \"sizeref\": 0.0875, \"symbol\": \"circle\"}, \"mode\": \"markers\", \"name\": \"Peter K\\u00c3\\u00b6ster\", \"showlegend\": true, \"type\": \"scatter\", \"x\": [\"81%\"], \"xaxis\": \"x\", \"y\": [\"1.61\"], \"yaxis\": \"y\"}, {\"customdata\": [[\"Abdoulaye Niang\"]], \"hovertemplate\": \"Name=%{customdata[0]}<br>Pas %=%{x}<br>Int/90=%{y}<br>Age=%{marker.size}<extra></extra>\", \"legendgroup\": \"Abdoulaye Niang\", \"marker\": {\"color\": \"#00cc96\", \"size\": [19], \"sizemode\": \"area\", \"sizeref\": 0.0875, \"symbol\": \"circle\"}, \"mode\": \"markers\", \"name\": \"Abdoulaye Niang\", \"showlegend\": true, \"type\": \"scatter\", \"x\": [\"94%\"], \"xaxis\": \"x\", \"y\": [\"1.46\"], \"yaxis\": \"y\"}, {\"customdata\": [[\"Sven Bender\"]], \"hovertemplate\": \"Name=%{customdata[0]}<br>Pas %=%{x}<br>Int/90=%{y}<br>Age=%{marker.size}<extra></extra>\", \"legendgroup\": \"Sven Bender\", \"marker\": {\"color\": \"#ab63fa\", \"size\": [33], \"sizemode\": \"area\", \"sizeref\": 0.0875, \"symbol\": \"circle\"}, \"mode\": \"markers\", \"name\": \"Sven Bender\", \"showlegend\": true, \"type\": \"scatter\", \"x\": [\"90%\"], \"xaxis\": \"x\", \"y\": [\"2.67\"], \"yaxis\": \"y\"}, {\"customdata\": [[\"Gary Medel\"]], \"hovertemplate\": \"Name=%{customdata[0]}<br>Pas %=%{x}<br>Int/90=%{y}<br>Age=%{marker.size}<extra></extra>\", \"legendgroup\": \"Gary Medel\", \"marker\": {\"color\": \"#FFA15A\", \"size\": [35], \"sizemode\": \"area\", \"sizeref\": 0.0875, \"symbol\": \"circle\"}, \"mode\": \"markers\", \"name\": \"Gary Medel\", \"showlegend\": true, \"type\": \"scatter\", \"x\": [\"93%\"], \"xaxis\": \"x\", \"y\": [\"0.66\"], \"yaxis\": \"y\"}],\n",
       "                        {\"font\": {\"color\": \"#7f7f7f\", \"family\": \"Courier New, monospace\", \"size\": 16}, \"legend\": {\"itemsizing\": \"constant\", \"title\": {\"text\": \"Name\"}, \"tracegroupgap\": 0}, \"margin\": {\"t\": 60}, \"template\": {\"data\": {\"bar\": [{\"error_x\": {\"color\": \"#2a3f5f\"}, \"error_y\": {\"color\": \"#2a3f5f\"}, \"marker\": {\"line\": {\"color\": \"#E5ECF6\", \"width\": 0.5}}, \"type\": \"bar\"}], \"barpolar\": [{\"marker\": {\"line\": {\"color\": \"#E5ECF6\", \"width\": 0.5}}, \"type\": \"barpolar\"}], \"carpet\": [{\"aaxis\": {\"endlinecolor\": \"#2a3f5f\", \"gridcolor\": \"white\", \"linecolor\": \"white\", \"minorgridcolor\": \"white\", \"startlinecolor\": \"#2a3f5f\"}, \"baxis\": {\"endlinecolor\": \"#2a3f5f\", \"gridcolor\": \"white\", \"linecolor\": \"white\", \"minorgridcolor\": \"white\", \"startlinecolor\": \"#2a3f5f\"}, \"type\": \"carpet\"}], \"choropleth\": [{\"colorbar\": {\"outlinewidth\": 0, \"ticks\": \"\"}, \"type\": \"choropleth\"}], \"contour\": [{\"colorbar\": {\"outlinewidth\": 0, \"ticks\": \"\"}, \"colorscale\": [[0.0, \"#0d0887\"], [0.1111111111111111, \"#46039f\"], [0.2222222222222222, \"#7201a8\"], [0.3333333333333333, \"#9c179e\"], [0.4444444444444444, \"#bd3786\"], [0.5555555555555556, \"#d8576b\"], [0.6666666666666666, \"#ed7953\"], [0.7777777777777778, \"#fb9f3a\"], [0.8888888888888888, \"#fdca26\"], [1.0, \"#f0f921\"]], \"type\": \"contour\"}], \"contourcarpet\": [{\"colorbar\": {\"outlinewidth\": 0, \"ticks\": \"\"}, \"type\": \"contourcarpet\"}], \"heatmap\": [{\"colorbar\": {\"outlinewidth\": 0, \"ticks\": \"\"}, \"colorscale\": [[0.0, \"#0d0887\"], [0.1111111111111111, \"#46039f\"], [0.2222222222222222, \"#7201a8\"], [0.3333333333333333, \"#9c179e\"], [0.4444444444444444, \"#bd3786\"], [0.5555555555555556, \"#d8576b\"], [0.6666666666666666, \"#ed7953\"], [0.7777777777777778, \"#fb9f3a\"], [0.8888888888888888, \"#fdca26\"], [1.0, \"#f0f921\"]], \"type\": \"heatmap\"}], \"heatmapgl\": [{\"colorbar\": {\"outlinewidth\": 0, \"ticks\": \"\"}, \"colorscale\": [[0.0, \"#0d0887\"], [0.1111111111111111, \"#46039f\"], [0.2222222222222222, \"#7201a8\"], [0.3333333333333333, \"#9c179e\"], [0.4444444444444444, \"#bd3786\"], [0.5555555555555556, \"#d8576b\"], [0.6666666666666666, \"#ed7953\"], [0.7777777777777778, \"#fb9f3a\"], [0.8888888888888888, \"#fdca26\"], [1.0, \"#f0f921\"]], \"type\": \"heatmapgl\"}], \"histogram\": [{\"marker\": {\"colorbar\": {\"outlinewidth\": 0, \"ticks\": \"\"}}, \"type\": \"histogram\"}], \"histogram2d\": [{\"colorbar\": {\"outlinewidth\": 0, \"ticks\": \"\"}, \"colorscale\": [[0.0, \"#0d0887\"], [0.1111111111111111, \"#46039f\"], [0.2222222222222222, \"#7201a8\"], [0.3333333333333333, \"#9c179e\"], [0.4444444444444444, \"#bd3786\"], [0.5555555555555556, \"#d8576b\"], [0.6666666666666666, \"#ed7953\"], [0.7777777777777778, \"#fb9f3a\"], [0.8888888888888888, \"#fdca26\"], [1.0, \"#f0f921\"]], \"type\": \"histogram2d\"}], \"histogram2dcontour\": [{\"colorbar\": {\"outlinewidth\": 0, \"ticks\": \"\"}, \"colorscale\": [[0.0, \"#0d0887\"], [0.1111111111111111, \"#46039f\"], [0.2222222222222222, \"#7201a8\"], [0.3333333333333333, \"#9c179e\"], [0.4444444444444444, \"#bd3786\"], [0.5555555555555556, \"#d8576b\"], [0.6666666666666666, \"#ed7953\"], [0.7777777777777778, \"#fb9f3a\"], [0.8888888888888888, \"#fdca26\"], [1.0, \"#f0f921\"]], \"type\": \"histogram2dcontour\"}], \"mesh3d\": [{\"colorbar\": {\"outlinewidth\": 0, \"ticks\": \"\"}, \"type\": \"mesh3d\"}], \"parcoords\": [{\"line\": {\"colorbar\": {\"outlinewidth\": 0, \"ticks\": \"\"}}, \"type\": \"parcoords\"}], \"pie\": [{\"automargin\": true, \"type\": \"pie\"}], \"scatter\": [{\"marker\": {\"colorbar\": {\"outlinewidth\": 0, \"ticks\": \"\"}}, \"type\": \"scatter\"}], \"scatter3d\": [{\"line\": {\"colorbar\": {\"outlinewidth\": 0, \"ticks\": \"\"}}, \"marker\": {\"colorbar\": {\"outlinewidth\": 0, \"ticks\": \"\"}}, \"type\": \"scatter3d\"}], \"scattercarpet\": [{\"marker\": {\"colorbar\": {\"outlinewidth\": 0, \"ticks\": \"\"}}, \"type\": \"scattercarpet\"}], \"scattergeo\": [{\"marker\": {\"colorbar\": {\"outlinewidth\": 0, \"ticks\": \"\"}}, \"type\": \"scattergeo\"}], \"scattergl\": [{\"marker\": {\"colorbar\": {\"outlinewidth\": 0, \"ticks\": \"\"}}, \"type\": \"scattergl\"}], \"scattermapbox\": [{\"marker\": {\"colorbar\": {\"outlinewidth\": 0, \"ticks\": \"\"}}, \"type\": \"scattermapbox\"}], \"scatterpolar\": [{\"marker\": {\"colorbar\": {\"outlinewidth\": 0, \"ticks\": \"\"}}, \"type\": \"scatterpolar\"}], \"scatterpolargl\": [{\"marker\": {\"colorbar\": {\"outlinewidth\": 0, \"ticks\": \"\"}}, \"type\": \"scatterpolargl\"}], \"scatterternary\": [{\"marker\": {\"colorbar\": {\"outlinewidth\": 0, \"ticks\": \"\"}}, \"type\": \"scatterternary\"}], \"surface\": [{\"colorbar\": {\"outlinewidth\": 0, \"ticks\": \"\"}, \"colorscale\": [[0.0, \"#0d0887\"], [0.1111111111111111, \"#46039f\"], [0.2222222222222222, \"#7201a8\"], [0.3333333333333333, \"#9c179e\"], [0.4444444444444444, \"#bd3786\"], [0.5555555555555556, \"#d8576b\"], [0.6666666666666666, \"#ed7953\"], [0.7777777777777778, \"#fb9f3a\"], [0.8888888888888888, \"#fdca26\"], [1.0, \"#f0f921\"]], \"type\": \"surface\"}], \"table\": [{\"cells\": {\"fill\": {\"color\": \"#EBF0F8\"}, \"line\": {\"color\": \"white\"}}, \"header\": {\"fill\": {\"color\": \"#C8D4E3\"}, \"line\": {\"color\": \"white\"}}, \"type\": \"table\"}]}, \"layout\": {\"annotationdefaults\": {\"arrowcolor\": \"#2a3f5f\", \"arrowhead\": 0, \"arrowwidth\": 1}, \"coloraxis\": {\"colorbar\": {\"outlinewidth\": 0, \"ticks\": \"\"}}, \"colorscale\": {\"diverging\": [[0, \"#8e0152\"], [0.1, \"#c51b7d\"], [0.2, \"#de77ae\"], [0.3, \"#f1b6da\"], [0.4, \"#fde0ef\"], [0.5, \"#f7f7f7\"], [0.6, \"#e6f5d0\"], [0.7, \"#b8e186\"], [0.8, \"#7fbc41\"], [0.9, \"#4d9221\"], [1, \"#276419\"]], \"sequential\": [[0.0, \"#0d0887\"], [0.1111111111111111, \"#46039f\"], [0.2222222222222222, \"#7201a8\"], [0.3333333333333333, \"#9c179e\"], [0.4444444444444444, \"#bd3786\"], [0.5555555555555556, \"#d8576b\"], [0.6666666666666666, \"#ed7953\"], [0.7777777777777778, \"#fb9f3a\"], [0.8888888888888888, \"#fdca26\"], [1.0, \"#f0f921\"]], \"sequentialminus\": [[0.0, \"#0d0887\"], [0.1111111111111111, \"#46039f\"], [0.2222222222222222, \"#7201a8\"], [0.3333333333333333, \"#9c179e\"], [0.4444444444444444, \"#bd3786\"], [0.5555555555555556, \"#d8576b\"], [0.6666666666666666, \"#ed7953\"], [0.7777777777777778, \"#fb9f3a\"], [0.8888888888888888, \"#fdca26\"], [1.0, \"#f0f921\"]]}, \"colorway\": [\"#636efa\", \"#EF553B\", \"#00cc96\", \"#ab63fa\", \"#FFA15A\", \"#19d3f3\", \"#FF6692\", \"#B6E880\", \"#FF97FF\", \"#FECB52\"], \"font\": {\"color\": \"#2a3f5f\"}, \"geo\": {\"bgcolor\": \"white\", \"lakecolor\": \"white\", \"landcolor\": \"#E5ECF6\", \"showlakes\": true, \"showland\": true, \"subunitcolor\": \"white\"}, \"hoverlabel\": {\"align\": \"left\"}, \"hovermode\": \"closest\", \"mapbox\": {\"style\": \"light\"}, \"paper_bgcolor\": \"white\", \"plot_bgcolor\": \"#E5ECF6\", \"polar\": {\"angularaxis\": {\"gridcolor\": \"white\", \"linecolor\": \"white\", \"ticks\": \"\"}, \"bgcolor\": \"#E5ECF6\", \"radialaxis\": {\"gridcolor\": \"white\", \"linecolor\": \"white\", \"ticks\": \"\"}}, \"scene\": {\"xaxis\": {\"backgroundcolor\": \"#E5ECF6\", \"gridcolor\": \"white\", \"gridwidth\": 2, \"linecolor\": \"white\", \"showbackground\": true, \"ticks\": \"\", \"zerolinecolor\": \"white\"}, \"yaxis\": {\"backgroundcolor\": \"#E5ECF6\", \"gridcolor\": \"white\", \"gridwidth\": 2, \"linecolor\": \"white\", \"showbackground\": true, \"ticks\": \"\", \"zerolinecolor\": \"white\"}, \"zaxis\": {\"backgroundcolor\": \"#E5ECF6\", \"gridcolor\": \"white\", \"gridwidth\": 2, \"linecolor\": \"white\", \"showbackground\": true, \"ticks\": \"\", \"zerolinecolor\": \"white\"}}, \"shapedefaults\": {\"line\": {\"color\": \"#2a3f5f\"}}, \"ternary\": {\"aaxis\": {\"gridcolor\": \"white\", \"linecolor\": \"white\", \"ticks\": \"\"}, \"baxis\": {\"gridcolor\": \"white\", \"linecolor\": \"white\", \"ticks\": \"\"}, \"bgcolor\": \"#E5ECF6\", \"caxis\": {\"gridcolor\": \"white\", \"linecolor\": \"white\", \"ticks\": \"\"}}, \"title\": {\"x\": 0.05}, \"xaxis\": {\"automargin\": true, \"gridcolor\": \"white\", \"linecolor\": \"white\", \"ticks\": \"\", \"title\": {\"standoff\": 15}, \"zerolinecolor\": \"white\", \"zerolinewidth\": 2}, \"yaxis\": {\"automargin\": true, \"gridcolor\": \"white\", \"linecolor\": \"white\", \"ticks\": \"\", \"title\": {\"standoff\": 15}, \"zerolinecolor\": \"white\", \"zerolinewidth\": 2}}}, \"title\": {\"text\": \"Defensive Midfielder - Defend\"}, \"xaxis\": {\"anchor\": \"y\", \"domain\": [0.0, 1.0], \"title\": {\"text\": \"Pass Completion %\"}}, \"yaxis\": {\"anchor\": \"x\", \"domain\": [0.0, 1.0], \"title\": {\"text\": \"Interceptions/90\"}}},\n",
       "                        {\"responsive\": true}\n",
       "                    ).then(function(){\n",
       "                            \n",
       "var gd = document.getElementById('2d9e91d9-e675-4231-bbf1-53b8e90223b0');\n",
       "var x = new MutationObserver(function (mutations, observer) {{\n",
       "        var display = window.getComputedStyle(gd).display;\n",
       "        if (!display || display === 'none') {{\n",
       "            console.log([gd, 'removed!']);\n",
       "            Plotly.purge(gd);\n",
       "            observer.disconnect();\n",
       "        }}\n",
       "}});\n",
       "\n",
       "// Listen for the removal of the full notebook cells\n",
       "var notebookContainer = gd.closest('#notebook-container');\n",
       "if (notebookContainer) {{\n",
       "    x.observe(notebookContainer, {childList: true});\n",
       "}}\n",
       "\n",
       "// Listen for the clearing of the current output cell\n",
       "var outputEl = gd.closest('.output');\n",
       "if (outputEl) {{\n",
       "    x.observe(outputEl, {childList: true});\n",
       "}}\n",
       "\n",
       "                        })\n",
       "                };\n",
       "                });\n",
       "            </script>\n",
       "        </div>"
      ]
     },
     "metadata": {},
     "output_type": "display_data"
    }
   ],
   "source": [
    "# Defensive Midfielder - Defend\n",
    "\n",
    "fig = px.scatter(df, x=\"Pas %\", y=\"Int/90\", color=\"Name\",  \n",
    "        size='Age', hover_data=['Name'])\n",
    "\n",
    "fig.update_layout(\n",
    "    title=\"Defensive Midfielder - Defend\",\n",
    "    xaxis_title=\"Pass Completion %\",\n",
    "    yaxis_title=\"Interceptions/90\",\n",
    "    font=dict(\n",
    "        family=\"Courier New, monospace\",\n",
    "        size=16,\n",
    "        color=\"#7f7f7f\"\n",
    "    )\n",
    ")\n",
    "fig.show() "
   ]
  },
  {
   "cell_type": "code",
   "execution_count": 10,
   "metadata": {},
   "outputs": [
    {
     "data": {
      "application/vnd.plotly.v1+json": {
       "config": {
        "plotlyServerURL": "https://plot.ly"
       },
       "data": [
        {
         "customdata": [
          [
           "Shawn Hery"
          ]
         ],
         "hovertemplate": "Name=%{customdata[0]}<br>Tck=%{x}<br>Int/90=%{y}<br>Age=%{marker.size}<extra></extra>",
         "legendgroup": "Shawn Hery",
         "marker": {
          "color": "#636efa",
          "size": [
           21
          ],
          "sizemode": "area",
          "sizeref": 0.0875,
          "symbol": "circle"
         },
         "mode": "markers",
         "name": "Shawn Hery",
         "showlegend": true,
         "type": "scatter",
         "x": [
          "0.91"
         ],
         "xaxis": "x",
         "y": [
          "0.79"
         ],
         "yaxis": "y"
        },
        {
         "customdata": [
          [
           "Franck Evina"
          ]
         ],
         "hovertemplate": "Name=%{customdata[0]}<br>Tck=%{x}<br>Int/90=%{y}<br>Age=%{marker.size}<extra></extra>",
         "legendgroup": "Franck Evina",
         "marker": {
          "color": "#EF553B",
          "size": [
           22
          ],
          "sizemode": "area",
          "sizeref": 0.0875,
          "symbol": "circle"
         },
         "mode": "markers",
         "name": "Franck Evina",
         "showlegend": true,
         "type": "scatter",
         "x": [
          "1.66"
         ],
         "xaxis": "x",
         "y": [
          "1.15"
         ],
         "yaxis": "y"
        },
        {
         "customdata": [
          [
           "Luca Unbehaun"
          ]
         ],
         "hovertemplate": "Name=%{customdata[0]}<br>Tck=%{x}<br>Int/90=%{y}<br>Age=%{marker.size}<extra></extra>",
         "legendgroup": "Luca Unbehaun",
         "marker": {
          "color": "#00cc96",
          "size": [
           21
          ],
          "sizemode": "area",
          "sizeref": 0.0875,
          "symbol": "circle"
         },
         "mode": "markers",
         "name": "Luca Unbehaun",
         "showlegend": true,
         "type": "scatter",
         "x": [
          "-"
         ],
         "xaxis": "x",
         "y": [
          "-"
         ],
         "yaxis": "y"
        },
        {
         "customdata": [
          [
           "Marvin Jung"
          ]
         ],
         "hovertemplate": "Name=%{customdata[0]}<br>Tck=%{x}<br>Int/90=%{y}<br>Age=%{marker.size}<extra></extra>",
         "legendgroup": "Marvin Jung",
         "marker": {
          "color": "#ab63fa",
          "size": [
           21
          ],
          "sizemode": "area",
          "sizeref": 0.0875,
          "symbol": "circle"
         },
         "mode": "markers",
         "name": "Marvin Jung",
         "showlegend": true,
         "type": "scatter",
         "x": [
          "3.50"
         ],
         "xaxis": "x",
         "y": [
          "2.48"
         ],
         "yaxis": "y"
        },
        {
         "customdata": [
          [
           "Mike Fitzner"
          ]
         ],
         "hovertemplate": "Name=%{customdata[0]}<br>Tck=%{x}<br>Int/90=%{y}<br>Age=%{marker.size}<extra></extra>",
         "legendgroup": "Mike Fitzner",
         "marker": {
          "color": "#FFA15A",
          "size": [
           18
          ],
          "sizemode": "area",
          "sizeref": 0.0875,
          "symbol": "circle"
         },
         "mode": "markers",
         "name": "Mike Fitzner",
         "showlegend": true,
         "type": "scatter",
         "x": [
          "1.09"
         ],
         "xaxis": "x",
         "y": [
          "0.65"
         ],
         "yaxis": "y"
        },
        {
         "customdata": [
          [
           "Sefer AygÃ¼n"
          ]
         ],
         "hovertemplate": "Name=%{customdata[0]}<br>Tck=%{x}<br>Int/90=%{y}<br>Age=%{marker.size}<extra></extra>",
         "legendgroup": "Sefer AygÃ¼n",
         "marker": {
          "color": "#19d3f3",
          "size": [
           18
          ],
          "sizemode": "area",
          "sizeref": 0.0875,
          "symbol": "circle"
         },
         "mode": "markers",
         "name": "Sefer AygÃ¼n",
         "showlegend": true,
         "type": "scatter",
         "x": [
          "3.35"
         ],
         "xaxis": "x",
         "y": [
          "1.24"
         ],
         "yaxis": "y"
        },
        {
         "customdata": [
          [
           "Marco Hiller"
          ]
         ],
         "hovertemplate": "Name=%{customdata[0]}<br>Tck=%{x}<br>Int/90=%{y}<br>Age=%{marker.size}<extra></extra>",
         "legendgroup": "Marco Hiller",
         "marker": {
          "color": "#FF6692",
          "size": [
           25
          ],
          "sizemode": "area",
          "sizeref": 0.0875,
          "symbol": "circle"
         },
         "mode": "markers",
         "name": "Marco Hiller",
         "showlegend": true,
         "type": "scatter",
         "x": [
          "-"
         ],
         "xaxis": "x",
         "y": [
          "-"
         ],
         "yaxis": "y"
        },
        {
         "customdata": [
          [
           "Leon Klassen"
          ]
         ],
         "hovertemplate": "Name=%{customdata[0]}<br>Tck=%{x}<br>Int/90=%{y}<br>Age=%{marker.size}<extra></extra>",
         "legendgroup": "Leon Klassen",
         "marker": {
          "color": "#B6E880",
          "size": [
           22
          ],
          "sizemode": "area",
          "sizeref": 0.0875,
          "symbol": "circle"
         },
         "mode": "markers",
         "name": "Leon Klassen",
         "showlegend": true,
         "type": "scatter",
         "x": [
          "2.24"
         ],
         "xaxis": "x",
         "y": [
          "1.51"
         ],
         "yaxis": "y"
        },
        {
         "customdata": [
          [
           "Noel Niemann"
          ]
         ],
         "hovertemplate": "Name=%{customdata[0]}<br>Tck=%{x}<br>Int/90=%{y}<br>Age=%{marker.size}<extra></extra>",
         "legendgroup": "Noel Niemann",
         "marker": {
          "color": "#FF97FF",
          "size": [
           23
          ],
          "sizemode": "area",
          "sizeref": 0.0875,
          "symbol": "circle"
         },
         "mode": "markers",
         "name": "Noel Niemann",
         "showlegend": true,
         "type": "scatter",
         "x": [
          "1.31"
         ],
         "xaxis": "x",
         "y": [
          "0.76"
         ],
         "yaxis": "y"
        },
        {
         "customdata": [
          [
           "Lucas Deaux"
          ]
         ],
         "hovertemplate": "Name=%{customdata[0]}<br>Tck=%{x}<br>Int/90=%{y}<br>Age=%{marker.size}<extra></extra>",
         "legendgroup": "Lucas Deaux",
         "marker": {
          "color": "#FECB52",
          "size": [
           33
          ],
          "sizemode": "area",
          "sizeref": 0.0875,
          "symbol": "circle"
         },
         "mode": "markers",
         "name": "Lucas Deaux",
         "showlegend": true,
         "type": "scatter",
         "x": [
          "1.72"
         ],
         "xaxis": "x",
         "y": [
          "1.03"
         ],
         "yaxis": "y"
        },
        {
         "customdata": [
          [
           "Julian Schwermann"
          ]
         ],
         "hovertemplate": "Name=%{customdata[0]}<br>Tck=%{x}<br>Int/90=%{y}<br>Age=%{marker.size}<extra></extra>",
         "legendgroup": "Julian Schwermann",
         "marker": {
          "color": "#636efa",
          "size": [
           23
          ],
          "sizemode": "area",
          "sizeref": 0.0875,
          "symbol": "circle"
         },
         "mode": "markers",
         "name": "Julian Schwermann",
         "showlegend": true,
         "type": "scatter",
         "x": [
          "1.37"
         ],
         "xaxis": "x",
         "y": [
          "1.22"
         ],
         "yaxis": "y"
        },
        {
         "customdata": [
          [
           "Oliver Kragl"
          ]
         ],
         "hovertemplate": "Name=%{customdata[0]}<br>Tck=%{x}<br>Int/90=%{y}<br>Age=%{marker.size}<extra></extra>",
         "legendgroup": "Oliver Kragl",
         "marker": {
          "color": "#EF553B",
          "size": [
           32
          ],
          "sizemode": "area",
          "sizeref": 0.0875,
          "symbol": "circle"
         },
         "mode": "markers",
         "name": "Oliver Kragl",
         "showlegend": true,
         "type": "scatter",
         "x": [
          "3.20"
         ],
         "xaxis": "x",
         "y": [
          "1.07"
         ],
         "yaxis": "y"
        },
        {
         "customdata": [
          [
           "Ben SchÃ¤fer"
          ]
         ],
         "hovertemplate": "Name=%{customdata[0]}<br>Tck=%{x}<br>Int/90=%{y}<br>Age=%{marker.size}<extra></extra>",
         "legendgroup": "Ben SchÃ¤fer",
         "marker": {
          "color": "#00cc96",
          "size": [
           18
          ],
          "sizemode": "area",
          "sizeref": 0.0875,
          "symbol": "circle"
         },
         "mode": "markers",
         "name": "Ben SchÃ¤fer",
         "showlegend": true,
         "type": "scatter",
         "x": [
          "-"
         ],
         "xaxis": "x",
         "y": [
          "-"
         ],
         "yaxis": "y"
        },
        {
         "customdata": [
          [
           "Andreas Ahlm"
          ]
         ],
         "hovertemplate": "Name=%{customdata[0]}<br>Tck=%{x}<br>Int/90=%{y}<br>Age=%{marker.size}<extra></extra>",
         "legendgroup": "Andreas Ahlm",
         "marker": {
          "color": "#ab63fa",
          "size": [
           18
          ],
          "sizemode": "area",
          "sizeref": 0.0875,
          "symbol": "circle"
         },
         "mode": "markers",
         "name": "Andreas Ahlm",
         "showlegend": true,
         "type": "scatter",
         "x": [
          "-"
         ],
         "xaxis": "x",
         "y": [
          "-"
         ],
         "yaxis": "y"
        },
        {
         "customdata": [
          [
           "Petr Dvorak"
          ]
         ],
         "hovertemplate": "Name=%{customdata[0]}<br>Tck=%{x}<br>Int/90=%{y}<br>Age=%{marker.size}<extra></extra>",
         "legendgroup": "Petr Dvorak",
         "marker": {
          "color": "#FFA15A",
          "size": [
           17
          ],
          "sizemode": "area",
          "sizeref": 0.0875,
          "symbol": "circle"
         },
         "mode": "markers",
         "name": "Petr Dvorak",
         "showlegend": true,
         "type": "scatter",
         "x": [
          "-"
         ],
         "xaxis": "x",
         "y": [
          "-"
         ],
         "yaxis": "y"
        },
        {
         "customdata": [
          [
           "Efkan Bekiroglu"
          ]
         ],
         "hovertemplate": "Name=%{customdata[0]}<br>Tck=%{x}<br>Int/90=%{y}<br>Age=%{marker.size}<extra></extra>",
         "legendgroup": "Efkan Bekiroglu",
         "marker": {
          "color": "#19d3f3",
          "size": [
           27
          ],
          "sizemode": "area",
          "sizeref": 0.0875,
          "symbol": "circle"
         },
         "mode": "markers",
         "name": "Efkan Bekiroglu",
         "showlegend": true,
         "type": "scatter",
         "x": [
          "1.08"
         ],
         "xaxis": "x",
         "y": [
          "0.65"
         ],
         "yaxis": "y"
        },
        {
         "customdata": [
          [
           "Fabian Greilinger"
          ]
         ],
         "hovertemplate": "Name=%{customdata[0]}<br>Tck=%{x}<br>Int/90=%{y}<br>Age=%{marker.size}<extra></extra>",
         "legendgroup": "Fabian Greilinger",
         "marker": {
          "color": "#FF6692",
          "size": [
           22
          ],
          "sizemode": "area",
          "sizeref": 0.0875,
          "symbol": "circle"
         },
         "mode": "markers",
         "name": "Fabian Greilinger",
         "showlegend": true,
         "type": "scatter",
         "x": [
          "1.48"
         ],
         "xaxis": "x",
         "y": [
          "0.42"
         ],
         "yaxis": "y"
        },
        {
         "customdata": [
          [
           "Marko Basic"
          ]
         ],
         "hovertemplate": "Name=%{customdata[0]}<br>Tck=%{x}<br>Int/90=%{y}<br>Age=%{marker.size}<extra></extra>",
         "legendgroup": "Marko Basic",
         "marker": {
          "color": "#B6E880",
          "size": [
           17
          ],
          "sizemode": "area",
          "sizeref": 0.0875,
          "symbol": "circle"
         },
         "mode": "markers",
         "name": "Marko Basic",
         "showlegend": true,
         "type": "scatter",
         "x": [
          "-"
         ],
         "xaxis": "x",
         "y": [
          "-"
         ],
         "yaxis": "y"
        },
        {
         "customdata": [
          [
           "Mert GÃ¶ckan"
          ]
         ],
         "hovertemplate": "Name=%{customdata[0]}<br>Tck=%{x}<br>Int/90=%{y}<br>Age=%{marker.size}<extra></extra>",
         "legendgroup": "Mert GÃ¶ckan",
         "marker": {
          "color": "#FF97FF",
          "size": [
           21
          ],
          "sizemode": "area",
          "sizeref": 0.0875,
          "symbol": "circle"
         },
         "mode": "markers",
         "name": "Mert GÃ¶ckan",
         "showlegend": true,
         "type": "scatter",
         "x": [
          "1.46"
         ],
         "xaxis": "x",
         "y": [
          "1.46"
         ],
         "yaxis": "y"
        },
        {
         "customdata": [
          [
           "Gabriel Isik"
          ]
         ],
         "hovertemplate": "Name=%{customdata[0]}<br>Tck=%{x}<br>Int/90=%{y}<br>Age=%{marker.size}<extra></extra>",
         "legendgroup": "Gabriel Isik",
         "marker": {
          "color": "#FECB52",
          "size": [
           23
          ],
          "sizemode": "area",
          "sizeref": 0.0875,
          "symbol": "circle"
         },
         "mode": "markers",
         "name": "Gabriel Isik",
         "showlegend": true,
         "type": "scatter",
         "x": [
          "0.69"
         ],
         "xaxis": "x",
         "y": [
          "2.38"
         ],
         "yaxis": "y"
        },
        {
         "customdata": [
          [
           "Pawel Majewski"
          ]
         ],
         "hovertemplate": "Name=%{customdata[0]}<br>Tck=%{x}<br>Int/90=%{y}<br>Age=%{marker.size}<extra></extra>",
         "legendgroup": "Pawel Majewski",
         "marker": {
          "color": "#636efa",
          "size": [
           18
          ],
          "sizemode": "area",
          "sizeref": 0.0875,
          "symbol": "circle"
         },
         "mode": "markers",
         "name": "Pawel Majewski",
         "showlegend": true,
         "type": "scatter",
         "x": [
          "-"
         ],
         "xaxis": "x",
         "y": [
          "-"
         ],
         "yaxis": "y"
        },
        {
         "customdata": [
          [
           "Peter KÃ¶ster"
          ]
         ],
         "hovertemplate": "Name=%{customdata[0]}<br>Tck=%{x}<br>Int/90=%{y}<br>Age=%{marker.size}<extra></extra>",
         "legendgroup": "Peter KÃ¶ster",
         "marker": {
          "color": "#EF553B",
          "size": [
           23
          ],
          "sizemode": "area",
          "sizeref": 0.0875,
          "symbol": "circle"
         },
         "mode": "markers",
         "name": "Peter KÃ¶ster",
         "showlegend": true,
         "type": "scatter",
         "x": [
          "1.93"
         ],
         "xaxis": "x",
         "y": [
          "1.61"
         ],
         "yaxis": "y"
        },
        {
         "customdata": [
          [
           "Abdoulaye Niang"
          ]
         ],
         "hovertemplate": "Name=%{customdata[0]}<br>Tck=%{x}<br>Int/90=%{y}<br>Age=%{marker.size}<extra></extra>",
         "legendgroup": "Abdoulaye Niang",
         "marker": {
          "color": "#00cc96",
          "size": [
           19
          ],
          "sizemode": "area",
          "sizeref": 0.0875,
          "symbol": "circle"
         },
         "mode": "markers",
         "name": "Abdoulaye Niang",
         "showlegend": true,
         "type": "scatter",
         "x": [
          "3.50"
         ],
         "xaxis": "x",
         "y": [
          "1.46"
         ],
         "yaxis": "y"
        },
        {
         "customdata": [
          [
           "Sven Bender"
          ]
         ],
         "hovertemplate": "Name=%{customdata[0]}<br>Tck=%{x}<br>Int/90=%{y}<br>Age=%{marker.size}<extra></extra>",
         "legendgroup": "Sven Bender",
         "marker": {
          "color": "#ab63fa",
          "size": [
           33
          ],
          "sizemode": "area",
          "sizeref": 0.0875,
          "symbol": "circle"
         },
         "mode": "markers",
         "name": "Sven Bender",
         "showlegend": true,
         "type": "scatter",
         "x": [
          "0.72"
         ],
         "xaxis": "x",
         "y": [
          "2.67"
         ],
         "yaxis": "y"
        },
        {
         "customdata": [
          [
           "Gary Medel"
          ]
         ],
         "hovertemplate": "Name=%{customdata[0]}<br>Tck=%{x}<br>Int/90=%{y}<br>Age=%{marker.size}<extra></extra>",
         "legendgroup": "Gary Medel",
         "marker": {
          "color": "#FFA15A",
          "size": [
           35
          ],
          "sizemode": "area",
          "sizeref": 0.0875,
          "symbol": "circle"
         },
         "mode": "markers",
         "name": "Gary Medel",
         "showlegend": true,
         "type": "scatter",
         "x": [
          "2.72"
         ],
         "xaxis": "x",
         "y": [
          "0.66"
         ],
         "yaxis": "y"
        }
       ],
       "layout": {
        "font": {
         "color": "#7f7f7f",
         "family": "Courier New, monospace",
         "size": 16
        },
        "legend": {
         "itemsizing": "constant",
         "title": {
          "text": "Name"
         },
         "tracegroupgap": 0
        },
        "margin": {
         "t": 60
        },
        "template": {
         "data": {
          "bar": [
           {
            "error_x": {
             "color": "#2a3f5f"
            },
            "error_y": {
             "color": "#2a3f5f"
            },
            "marker": {
             "line": {
              "color": "#E5ECF6",
              "width": 0.5
             }
            },
            "type": "bar"
           }
          ],
          "barpolar": [
           {
            "marker": {
             "line": {
              "color": "#E5ECF6",
              "width": 0.5
             }
            },
            "type": "barpolar"
           }
          ],
          "carpet": [
           {
            "aaxis": {
             "endlinecolor": "#2a3f5f",
             "gridcolor": "white",
             "linecolor": "white",
             "minorgridcolor": "white",
             "startlinecolor": "#2a3f5f"
            },
            "baxis": {
             "endlinecolor": "#2a3f5f",
             "gridcolor": "white",
             "linecolor": "white",
             "minorgridcolor": "white",
             "startlinecolor": "#2a3f5f"
            },
            "type": "carpet"
           }
          ],
          "choropleth": [
           {
            "colorbar": {
             "outlinewidth": 0,
             "ticks": ""
            },
            "type": "choropleth"
           }
          ],
          "contour": [
           {
            "colorbar": {
             "outlinewidth": 0,
             "ticks": ""
            },
            "colorscale": [
             [
              0,
              "#0d0887"
             ],
             [
              0.1111111111111111,
              "#46039f"
             ],
             [
              0.2222222222222222,
              "#7201a8"
             ],
             [
              0.3333333333333333,
              "#9c179e"
             ],
             [
              0.4444444444444444,
              "#bd3786"
             ],
             [
              0.5555555555555556,
              "#d8576b"
             ],
             [
              0.6666666666666666,
              "#ed7953"
             ],
             [
              0.7777777777777778,
              "#fb9f3a"
             ],
             [
              0.8888888888888888,
              "#fdca26"
             ],
             [
              1,
              "#f0f921"
             ]
            ],
            "type": "contour"
           }
          ],
          "contourcarpet": [
           {
            "colorbar": {
             "outlinewidth": 0,
             "ticks": ""
            },
            "type": "contourcarpet"
           }
          ],
          "heatmap": [
           {
            "colorbar": {
             "outlinewidth": 0,
             "ticks": ""
            },
            "colorscale": [
             [
              0,
              "#0d0887"
             ],
             [
              0.1111111111111111,
              "#46039f"
             ],
             [
              0.2222222222222222,
              "#7201a8"
             ],
             [
              0.3333333333333333,
              "#9c179e"
             ],
             [
              0.4444444444444444,
              "#bd3786"
             ],
             [
              0.5555555555555556,
              "#d8576b"
             ],
             [
              0.6666666666666666,
              "#ed7953"
             ],
             [
              0.7777777777777778,
              "#fb9f3a"
             ],
             [
              0.8888888888888888,
              "#fdca26"
             ],
             [
              1,
              "#f0f921"
             ]
            ],
            "type": "heatmap"
           }
          ],
          "heatmapgl": [
           {
            "colorbar": {
             "outlinewidth": 0,
             "ticks": ""
            },
            "colorscale": [
             [
              0,
              "#0d0887"
             ],
             [
              0.1111111111111111,
              "#46039f"
             ],
             [
              0.2222222222222222,
              "#7201a8"
             ],
             [
              0.3333333333333333,
              "#9c179e"
             ],
             [
              0.4444444444444444,
              "#bd3786"
             ],
             [
              0.5555555555555556,
              "#d8576b"
             ],
             [
              0.6666666666666666,
              "#ed7953"
             ],
             [
              0.7777777777777778,
              "#fb9f3a"
             ],
             [
              0.8888888888888888,
              "#fdca26"
             ],
             [
              1,
              "#f0f921"
             ]
            ],
            "type": "heatmapgl"
           }
          ],
          "histogram": [
           {
            "marker": {
             "colorbar": {
              "outlinewidth": 0,
              "ticks": ""
             }
            },
            "type": "histogram"
           }
          ],
          "histogram2d": [
           {
            "colorbar": {
             "outlinewidth": 0,
             "ticks": ""
            },
            "colorscale": [
             [
              0,
              "#0d0887"
             ],
             [
              0.1111111111111111,
              "#46039f"
             ],
             [
              0.2222222222222222,
              "#7201a8"
             ],
             [
              0.3333333333333333,
              "#9c179e"
             ],
             [
              0.4444444444444444,
              "#bd3786"
             ],
             [
              0.5555555555555556,
              "#d8576b"
             ],
             [
              0.6666666666666666,
              "#ed7953"
             ],
             [
              0.7777777777777778,
              "#fb9f3a"
             ],
             [
              0.8888888888888888,
              "#fdca26"
             ],
             [
              1,
              "#f0f921"
             ]
            ],
            "type": "histogram2d"
           }
          ],
          "histogram2dcontour": [
           {
            "colorbar": {
             "outlinewidth": 0,
             "ticks": ""
            },
            "colorscale": [
             [
              0,
              "#0d0887"
             ],
             [
              0.1111111111111111,
              "#46039f"
             ],
             [
              0.2222222222222222,
              "#7201a8"
             ],
             [
              0.3333333333333333,
              "#9c179e"
             ],
             [
              0.4444444444444444,
              "#bd3786"
             ],
             [
              0.5555555555555556,
              "#d8576b"
             ],
             [
              0.6666666666666666,
              "#ed7953"
             ],
             [
              0.7777777777777778,
              "#fb9f3a"
             ],
             [
              0.8888888888888888,
              "#fdca26"
             ],
             [
              1,
              "#f0f921"
             ]
            ],
            "type": "histogram2dcontour"
           }
          ],
          "mesh3d": [
           {
            "colorbar": {
             "outlinewidth": 0,
             "ticks": ""
            },
            "type": "mesh3d"
           }
          ],
          "parcoords": [
           {
            "line": {
             "colorbar": {
              "outlinewidth": 0,
              "ticks": ""
             }
            },
            "type": "parcoords"
           }
          ],
          "pie": [
           {
            "automargin": true,
            "type": "pie"
           }
          ],
          "scatter": [
           {
            "marker": {
             "colorbar": {
              "outlinewidth": 0,
              "ticks": ""
             }
            },
            "type": "scatter"
           }
          ],
          "scatter3d": [
           {
            "line": {
             "colorbar": {
              "outlinewidth": 0,
              "ticks": ""
             }
            },
            "marker": {
             "colorbar": {
              "outlinewidth": 0,
              "ticks": ""
             }
            },
            "type": "scatter3d"
           }
          ],
          "scattercarpet": [
           {
            "marker": {
             "colorbar": {
              "outlinewidth": 0,
              "ticks": ""
             }
            },
            "type": "scattercarpet"
           }
          ],
          "scattergeo": [
           {
            "marker": {
             "colorbar": {
              "outlinewidth": 0,
              "ticks": ""
             }
            },
            "type": "scattergeo"
           }
          ],
          "scattergl": [
           {
            "marker": {
             "colorbar": {
              "outlinewidth": 0,
              "ticks": ""
             }
            },
            "type": "scattergl"
           }
          ],
          "scattermapbox": [
           {
            "marker": {
             "colorbar": {
              "outlinewidth": 0,
              "ticks": ""
             }
            },
            "type": "scattermapbox"
           }
          ],
          "scatterpolar": [
           {
            "marker": {
             "colorbar": {
              "outlinewidth": 0,
              "ticks": ""
             }
            },
            "type": "scatterpolar"
           }
          ],
          "scatterpolargl": [
           {
            "marker": {
             "colorbar": {
              "outlinewidth": 0,
              "ticks": ""
             }
            },
            "type": "scatterpolargl"
           }
          ],
          "scatterternary": [
           {
            "marker": {
             "colorbar": {
              "outlinewidth": 0,
              "ticks": ""
             }
            },
            "type": "scatterternary"
           }
          ],
          "surface": [
           {
            "colorbar": {
             "outlinewidth": 0,
             "ticks": ""
            },
            "colorscale": [
             [
              0,
              "#0d0887"
             ],
             [
              0.1111111111111111,
              "#46039f"
             ],
             [
              0.2222222222222222,
              "#7201a8"
             ],
             [
              0.3333333333333333,
              "#9c179e"
             ],
             [
              0.4444444444444444,
              "#bd3786"
             ],
             [
              0.5555555555555556,
              "#d8576b"
             ],
             [
              0.6666666666666666,
              "#ed7953"
             ],
             [
              0.7777777777777778,
              "#fb9f3a"
             ],
             [
              0.8888888888888888,
              "#fdca26"
             ],
             [
              1,
              "#f0f921"
             ]
            ],
            "type": "surface"
           }
          ],
          "table": [
           {
            "cells": {
             "fill": {
              "color": "#EBF0F8"
             },
             "line": {
              "color": "white"
             }
            },
            "header": {
             "fill": {
              "color": "#C8D4E3"
             },
             "line": {
              "color": "white"
             }
            },
            "type": "table"
           }
          ]
         },
         "layout": {
          "annotationdefaults": {
           "arrowcolor": "#2a3f5f",
           "arrowhead": 0,
           "arrowwidth": 1
          },
          "coloraxis": {
           "colorbar": {
            "outlinewidth": 0,
            "ticks": ""
           }
          },
          "colorscale": {
           "diverging": [
            [
             0,
             "#8e0152"
            ],
            [
             0.1,
             "#c51b7d"
            ],
            [
             0.2,
             "#de77ae"
            ],
            [
             0.3,
             "#f1b6da"
            ],
            [
             0.4,
             "#fde0ef"
            ],
            [
             0.5,
             "#f7f7f7"
            ],
            [
             0.6,
             "#e6f5d0"
            ],
            [
             0.7,
             "#b8e186"
            ],
            [
             0.8,
             "#7fbc41"
            ],
            [
             0.9,
             "#4d9221"
            ],
            [
             1,
             "#276419"
            ]
           ],
           "sequential": [
            [
             0,
             "#0d0887"
            ],
            [
             0.1111111111111111,
             "#46039f"
            ],
            [
             0.2222222222222222,
             "#7201a8"
            ],
            [
             0.3333333333333333,
             "#9c179e"
            ],
            [
             0.4444444444444444,
             "#bd3786"
            ],
            [
             0.5555555555555556,
             "#d8576b"
            ],
            [
             0.6666666666666666,
             "#ed7953"
            ],
            [
             0.7777777777777778,
             "#fb9f3a"
            ],
            [
             0.8888888888888888,
             "#fdca26"
            ],
            [
             1,
             "#f0f921"
            ]
           ],
           "sequentialminus": [
            [
             0,
             "#0d0887"
            ],
            [
             0.1111111111111111,
             "#46039f"
            ],
            [
             0.2222222222222222,
             "#7201a8"
            ],
            [
             0.3333333333333333,
             "#9c179e"
            ],
            [
             0.4444444444444444,
             "#bd3786"
            ],
            [
             0.5555555555555556,
             "#d8576b"
            ],
            [
             0.6666666666666666,
             "#ed7953"
            ],
            [
             0.7777777777777778,
             "#fb9f3a"
            ],
            [
             0.8888888888888888,
             "#fdca26"
            ],
            [
             1,
             "#f0f921"
            ]
           ]
          },
          "colorway": [
           "#636efa",
           "#EF553B",
           "#00cc96",
           "#ab63fa",
           "#FFA15A",
           "#19d3f3",
           "#FF6692",
           "#B6E880",
           "#FF97FF",
           "#FECB52"
          ],
          "font": {
           "color": "#2a3f5f"
          },
          "geo": {
           "bgcolor": "white",
           "lakecolor": "white",
           "landcolor": "#E5ECF6",
           "showlakes": true,
           "showland": true,
           "subunitcolor": "white"
          },
          "hoverlabel": {
           "align": "left"
          },
          "hovermode": "closest",
          "mapbox": {
           "style": "light"
          },
          "paper_bgcolor": "white",
          "plot_bgcolor": "#E5ECF6",
          "polar": {
           "angularaxis": {
            "gridcolor": "white",
            "linecolor": "white",
            "ticks": ""
           },
           "bgcolor": "#E5ECF6",
           "radialaxis": {
            "gridcolor": "white",
            "linecolor": "white",
            "ticks": ""
           }
          },
          "scene": {
           "xaxis": {
            "backgroundcolor": "#E5ECF6",
            "gridcolor": "white",
            "gridwidth": 2,
            "linecolor": "white",
            "showbackground": true,
            "ticks": "",
            "zerolinecolor": "white"
           },
           "yaxis": {
            "backgroundcolor": "#E5ECF6",
            "gridcolor": "white",
            "gridwidth": 2,
            "linecolor": "white",
            "showbackground": true,
            "ticks": "",
            "zerolinecolor": "white"
           },
           "zaxis": {
            "backgroundcolor": "#E5ECF6",
            "gridcolor": "white",
            "gridwidth": 2,
            "linecolor": "white",
            "showbackground": true,
            "ticks": "",
            "zerolinecolor": "white"
           }
          },
          "shapedefaults": {
           "line": {
            "color": "#2a3f5f"
           }
          },
          "ternary": {
           "aaxis": {
            "gridcolor": "white",
            "linecolor": "white",
            "ticks": ""
           },
           "baxis": {
            "gridcolor": "white",
            "linecolor": "white",
            "ticks": ""
           },
           "bgcolor": "#E5ECF6",
           "caxis": {
            "gridcolor": "white",
            "linecolor": "white",
            "ticks": ""
           }
          },
          "title": {
           "x": 0.05
          },
          "xaxis": {
           "automargin": true,
           "gridcolor": "white",
           "linecolor": "white",
           "ticks": "",
           "title": {
            "standoff": 15
           },
           "zerolinecolor": "white",
           "zerolinewidth": 2
          },
          "yaxis": {
           "automargin": true,
           "gridcolor": "white",
           "linecolor": "white",
           "ticks": "",
           "title": {
            "standoff": 15
           },
           "zerolinecolor": "white",
           "zerolinewidth": 2
          }
         }
        },
        "title": {
         "text": "Ball Winning Midfielder - Support"
        },
        "xaxis": {
         "anchor": "y",
         "domain": [
          0,
          1
         ],
         "title": {
          "text": "Tackles/90"
         }
        },
        "yaxis": {
         "anchor": "x",
         "domain": [
          0,
          1
         ],
         "title": {
          "text": "Interceptions/90"
         }
        }
       }
      },
      "text/html": [
       "<div>\n",
       "        \n",
       "        \n",
       "            <div id=\"6df982be-521c-4524-ba0a-4b8f99c8e587\" class=\"plotly-graph-div\" style=\"height:525px; width:100%;\"></div>\n",
       "            <script type=\"text/javascript\">\n",
       "                require([\"plotly\"], function(Plotly) {\n",
       "                    window.PLOTLYENV=window.PLOTLYENV || {};\n",
       "                    \n",
       "                if (document.getElementById(\"6df982be-521c-4524-ba0a-4b8f99c8e587\")) {\n",
       "                    Plotly.newPlot(\n",
       "                        '6df982be-521c-4524-ba0a-4b8f99c8e587',\n",
       "                        [{\"customdata\": [[\"Shawn Hery\"]], \"hovertemplate\": \"Name=%{customdata[0]}<br>Tck=%{x}<br>Int/90=%{y}<br>Age=%{marker.size}<extra></extra>\", \"legendgroup\": \"Shawn Hery\", \"marker\": {\"color\": \"#636efa\", \"size\": [21], \"sizemode\": \"area\", \"sizeref\": 0.0875, \"symbol\": \"circle\"}, \"mode\": \"markers\", \"name\": \"Shawn Hery\", \"showlegend\": true, \"type\": \"scatter\", \"x\": [\"0.91\"], \"xaxis\": \"x\", \"y\": [\"0.79\"], \"yaxis\": \"y\"}, {\"customdata\": [[\"Franck Evina\"]], \"hovertemplate\": \"Name=%{customdata[0]}<br>Tck=%{x}<br>Int/90=%{y}<br>Age=%{marker.size}<extra></extra>\", \"legendgroup\": \"Franck Evina\", \"marker\": {\"color\": \"#EF553B\", \"size\": [22], \"sizemode\": \"area\", \"sizeref\": 0.0875, \"symbol\": \"circle\"}, \"mode\": \"markers\", \"name\": \"Franck Evina\", \"showlegend\": true, \"type\": \"scatter\", \"x\": [\"1.66\"], \"xaxis\": \"x\", \"y\": [\"1.15\"], \"yaxis\": \"y\"}, {\"customdata\": [[\"Luca Unbehaun\"]], \"hovertemplate\": \"Name=%{customdata[0]}<br>Tck=%{x}<br>Int/90=%{y}<br>Age=%{marker.size}<extra></extra>\", \"legendgroup\": \"Luca Unbehaun\", \"marker\": {\"color\": \"#00cc96\", \"size\": [21], \"sizemode\": \"area\", \"sizeref\": 0.0875, \"symbol\": \"circle\"}, \"mode\": \"markers\", \"name\": \"Luca Unbehaun\", \"showlegend\": true, \"type\": \"scatter\", \"x\": [\"-\"], \"xaxis\": \"x\", \"y\": [\"-\"], \"yaxis\": \"y\"}, {\"customdata\": [[\"Marvin Jung\"]], \"hovertemplate\": \"Name=%{customdata[0]}<br>Tck=%{x}<br>Int/90=%{y}<br>Age=%{marker.size}<extra></extra>\", \"legendgroup\": \"Marvin Jung\", \"marker\": {\"color\": \"#ab63fa\", \"size\": [21], \"sizemode\": \"area\", \"sizeref\": 0.0875, \"symbol\": \"circle\"}, \"mode\": \"markers\", \"name\": \"Marvin Jung\", \"showlegend\": true, \"type\": \"scatter\", \"x\": [\"3.50\"], \"xaxis\": \"x\", \"y\": [\"2.48\"], \"yaxis\": \"y\"}, {\"customdata\": [[\"Mike Fitzner\"]], \"hovertemplate\": \"Name=%{customdata[0]}<br>Tck=%{x}<br>Int/90=%{y}<br>Age=%{marker.size}<extra></extra>\", \"legendgroup\": \"Mike Fitzner\", \"marker\": {\"color\": \"#FFA15A\", \"size\": [18], \"sizemode\": \"area\", \"sizeref\": 0.0875, \"symbol\": \"circle\"}, \"mode\": \"markers\", \"name\": \"Mike Fitzner\", \"showlegend\": true, \"type\": \"scatter\", \"x\": [\"1.09\"], \"xaxis\": \"x\", \"y\": [\"0.65\"], \"yaxis\": \"y\"}, {\"customdata\": [[\"Sefer Ayg\\u00c3\\u00bcn\"]], \"hovertemplate\": \"Name=%{customdata[0]}<br>Tck=%{x}<br>Int/90=%{y}<br>Age=%{marker.size}<extra></extra>\", \"legendgroup\": \"Sefer Ayg\\u00c3\\u00bcn\", \"marker\": {\"color\": \"#19d3f3\", \"size\": [18], \"sizemode\": \"area\", \"sizeref\": 0.0875, \"symbol\": \"circle\"}, \"mode\": \"markers\", \"name\": \"Sefer Ayg\\u00c3\\u00bcn\", \"showlegend\": true, \"type\": \"scatter\", \"x\": [\"3.35\"], \"xaxis\": \"x\", \"y\": [\"1.24\"], \"yaxis\": \"y\"}, {\"customdata\": [[\"Marco Hiller\"]], \"hovertemplate\": \"Name=%{customdata[0]}<br>Tck=%{x}<br>Int/90=%{y}<br>Age=%{marker.size}<extra></extra>\", \"legendgroup\": \"Marco Hiller\", \"marker\": {\"color\": \"#FF6692\", \"size\": [25], \"sizemode\": \"area\", \"sizeref\": 0.0875, \"symbol\": \"circle\"}, \"mode\": \"markers\", \"name\": \"Marco Hiller\", \"showlegend\": true, \"type\": \"scatter\", \"x\": [\"-\"], \"xaxis\": \"x\", \"y\": [\"-\"], \"yaxis\": \"y\"}, {\"customdata\": [[\"Leon Klassen\"]], \"hovertemplate\": \"Name=%{customdata[0]}<br>Tck=%{x}<br>Int/90=%{y}<br>Age=%{marker.size}<extra></extra>\", \"legendgroup\": \"Leon Klassen\", \"marker\": {\"color\": \"#B6E880\", \"size\": [22], \"sizemode\": \"area\", \"sizeref\": 0.0875, \"symbol\": \"circle\"}, \"mode\": \"markers\", \"name\": \"Leon Klassen\", \"showlegend\": true, \"type\": \"scatter\", \"x\": [\"2.24\"], \"xaxis\": \"x\", \"y\": [\"1.51\"], \"yaxis\": \"y\"}, {\"customdata\": [[\"Noel Niemann\"]], \"hovertemplate\": \"Name=%{customdata[0]}<br>Tck=%{x}<br>Int/90=%{y}<br>Age=%{marker.size}<extra></extra>\", \"legendgroup\": \"Noel Niemann\", \"marker\": {\"color\": \"#FF97FF\", \"size\": [23], \"sizemode\": \"area\", \"sizeref\": 0.0875, \"symbol\": \"circle\"}, \"mode\": \"markers\", \"name\": \"Noel Niemann\", \"showlegend\": true, \"type\": \"scatter\", \"x\": [\"1.31\"], \"xaxis\": \"x\", \"y\": [\"0.76\"], \"yaxis\": \"y\"}, {\"customdata\": [[\"Lucas Deaux\"]], \"hovertemplate\": \"Name=%{customdata[0]}<br>Tck=%{x}<br>Int/90=%{y}<br>Age=%{marker.size}<extra></extra>\", \"legendgroup\": \"Lucas Deaux\", \"marker\": {\"color\": \"#FECB52\", \"size\": [33], \"sizemode\": \"area\", \"sizeref\": 0.0875, \"symbol\": \"circle\"}, \"mode\": \"markers\", \"name\": \"Lucas Deaux\", \"showlegend\": true, \"type\": \"scatter\", \"x\": [\"1.72\"], \"xaxis\": \"x\", \"y\": [\"1.03\"], \"yaxis\": \"y\"}, {\"customdata\": [[\"Julian Schwermann\"]], \"hovertemplate\": \"Name=%{customdata[0]}<br>Tck=%{x}<br>Int/90=%{y}<br>Age=%{marker.size}<extra></extra>\", \"legendgroup\": \"Julian Schwermann\", \"marker\": {\"color\": \"#636efa\", \"size\": [23], \"sizemode\": \"area\", \"sizeref\": 0.0875, \"symbol\": \"circle\"}, \"mode\": \"markers\", \"name\": \"Julian Schwermann\", \"showlegend\": true, \"type\": \"scatter\", \"x\": [\"1.37\"], \"xaxis\": \"x\", \"y\": [\"1.22\"], \"yaxis\": \"y\"}, {\"customdata\": [[\"Oliver Kragl\"]], \"hovertemplate\": \"Name=%{customdata[0]}<br>Tck=%{x}<br>Int/90=%{y}<br>Age=%{marker.size}<extra></extra>\", \"legendgroup\": \"Oliver Kragl\", \"marker\": {\"color\": \"#EF553B\", \"size\": [32], \"sizemode\": \"area\", \"sizeref\": 0.0875, \"symbol\": \"circle\"}, \"mode\": \"markers\", \"name\": \"Oliver Kragl\", \"showlegend\": true, \"type\": \"scatter\", \"x\": [\"3.20\"], \"xaxis\": \"x\", \"y\": [\"1.07\"], \"yaxis\": \"y\"}, {\"customdata\": [[\"Ben Sch\\u00c3\\u00a4fer\"]], \"hovertemplate\": \"Name=%{customdata[0]}<br>Tck=%{x}<br>Int/90=%{y}<br>Age=%{marker.size}<extra></extra>\", \"legendgroup\": \"Ben Sch\\u00c3\\u00a4fer\", \"marker\": {\"color\": \"#00cc96\", \"size\": [18], \"sizemode\": \"area\", \"sizeref\": 0.0875, \"symbol\": \"circle\"}, \"mode\": \"markers\", \"name\": \"Ben Sch\\u00c3\\u00a4fer\", \"showlegend\": true, \"type\": \"scatter\", \"x\": [\"-\"], \"xaxis\": \"x\", \"y\": [\"-\"], \"yaxis\": \"y\"}, {\"customdata\": [[\"Andreas Ahlm\"]], \"hovertemplate\": \"Name=%{customdata[0]}<br>Tck=%{x}<br>Int/90=%{y}<br>Age=%{marker.size}<extra></extra>\", \"legendgroup\": \"Andreas Ahlm\", \"marker\": {\"color\": \"#ab63fa\", \"size\": [18], \"sizemode\": \"area\", \"sizeref\": 0.0875, \"symbol\": \"circle\"}, \"mode\": \"markers\", \"name\": \"Andreas Ahlm\", \"showlegend\": true, \"type\": \"scatter\", \"x\": [\"-\"], \"xaxis\": \"x\", \"y\": [\"-\"], \"yaxis\": \"y\"}, {\"customdata\": [[\"Petr Dvorak\"]], \"hovertemplate\": \"Name=%{customdata[0]}<br>Tck=%{x}<br>Int/90=%{y}<br>Age=%{marker.size}<extra></extra>\", \"legendgroup\": \"Petr Dvorak\", \"marker\": {\"color\": \"#FFA15A\", \"size\": [17], \"sizemode\": \"area\", \"sizeref\": 0.0875, \"symbol\": \"circle\"}, \"mode\": \"markers\", \"name\": \"Petr Dvorak\", \"showlegend\": true, \"type\": \"scatter\", \"x\": [\"-\"], \"xaxis\": \"x\", \"y\": [\"-\"], \"yaxis\": \"y\"}, {\"customdata\": [[\"Efkan Bekiroglu\"]], \"hovertemplate\": \"Name=%{customdata[0]}<br>Tck=%{x}<br>Int/90=%{y}<br>Age=%{marker.size}<extra></extra>\", \"legendgroup\": \"Efkan Bekiroglu\", \"marker\": {\"color\": \"#19d3f3\", \"size\": [27], \"sizemode\": \"area\", \"sizeref\": 0.0875, \"symbol\": \"circle\"}, \"mode\": \"markers\", \"name\": \"Efkan Bekiroglu\", \"showlegend\": true, \"type\": \"scatter\", \"x\": [\"1.08\"], \"xaxis\": \"x\", \"y\": [\"0.65\"], \"yaxis\": \"y\"}, {\"customdata\": [[\"Fabian Greilinger\"]], \"hovertemplate\": \"Name=%{customdata[0]}<br>Tck=%{x}<br>Int/90=%{y}<br>Age=%{marker.size}<extra></extra>\", \"legendgroup\": \"Fabian Greilinger\", \"marker\": {\"color\": \"#FF6692\", \"size\": [22], \"sizemode\": \"area\", \"sizeref\": 0.0875, \"symbol\": \"circle\"}, \"mode\": \"markers\", \"name\": \"Fabian Greilinger\", \"showlegend\": true, \"type\": \"scatter\", \"x\": [\"1.48\"], \"xaxis\": \"x\", \"y\": [\"0.42\"], \"yaxis\": \"y\"}, {\"customdata\": [[\"Marko Basic\"]], \"hovertemplate\": \"Name=%{customdata[0]}<br>Tck=%{x}<br>Int/90=%{y}<br>Age=%{marker.size}<extra></extra>\", \"legendgroup\": \"Marko Basic\", \"marker\": {\"color\": \"#B6E880\", \"size\": [17], \"sizemode\": \"area\", \"sizeref\": 0.0875, \"symbol\": \"circle\"}, \"mode\": \"markers\", \"name\": \"Marko Basic\", \"showlegend\": true, \"type\": \"scatter\", \"x\": [\"-\"], \"xaxis\": \"x\", \"y\": [\"-\"], \"yaxis\": \"y\"}, {\"customdata\": [[\"Mert G\\u00c3\\u00b6ckan\"]], \"hovertemplate\": \"Name=%{customdata[0]}<br>Tck=%{x}<br>Int/90=%{y}<br>Age=%{marker.size}<extra></extra>\", \"legendgroup\": \"Mert G\\u00c3\\u00b6ckan\", \"marker\": {\"color\": \"#FF97FF\", \"size\": [21], \"sizemode\": \"area\", \"sizeref\": 0.0875, \"symbol\": \"circle\"}, \"mode\": \"markers\", \"name\": \"Mert G\\u00c3\\u00b6ckan\", \"showlegend\": true, \"type\": \"scatter\", \"x\": [\"1.46\"], \"xaxis\": \"x\", \"y\": [\"1.46\"], \"yaxis\": \"y\"}, {\"customdata\": [[\"Gabriel Isik\"]], \"hovertemplate\": \"Name=%{customdata[0]}<br>Tck=%{x}<br>Int/90=%{y}<br>Age=%{marker.size}<extra></extra>\", \"legendgroup\": \"Gabriel Isik\", \"marker\": {\"color\": \"#FECB52\", \"size\": [23], \"sizemode\": \"area\", \"sizeref\": 0.0875, \"symbol\": \"circle\"}, \"mode\": \"markers\", \"name\": \"Gabriel Isik\", \"showlegend\": true, \"type\": \"scatter\", \"x\": [\"0.69\"], \"xaxis\": \"x\", \"y\": [\"2.38\"], \"yaxis\": \"y\"}, {\"customdata\": [[\"Pawel Majewski\"]], \"hovertemplate\": \"Name=%{customdata[0]}<br>Tck=%{x}<br>Int/90=%{y}<br>Age=%{marker.size}<extra></extra>\", \"legendgroup\": \"Pawel Majewski\", \"marker\": {\"color\": \"#636efa\", \"size\": [18], \"sizemode\": \"area\", \"sizeref\": 0.0875, \"symbol\": \"circle\"}, \"mode\": \"markers\", \"name\": \"Pawel Majewski\", \"showlegend\": true, \"type\": \"scatter\", \"x\": [\"-\"], \"xaxis\": \"x\", \"y\": [\"-\"], \"yaxis\": \"y\"}, {\"customdata\": [[\"Peter K\\u00c3\\u00b6ster\"]], \"hovertemplate\": \"Name=%{customdata[0]}<br>Tck=%{x}<br>Int/90=%{y}<br>Age=%{marker.size}<extra></extra>\", \"legendgroup\": \"Peter K\\u00c3\\u00b6ster\", \"marker\": {\"color\": \"#EF553B\", \"size\": [23], \"sizemode\": \"area\", \"sizeref\": 0.0875, \"symbol\": \"circle\"}, \"mode\": \"markers\", \"name\": \"Peter K\\u00c3\\u00b6ster\", \"showlegend\": true, \"type\": \"scatter\", \"x\": [\"1.93\"], \"xaxis\": \"x\", \"y\": [\"1.61\"], \"yaxis\": \"y\"}, {\"customdata\": [[\"Abdoulaye Niang\"]], \"hovertemplate\": \"Name=%{customdata[0]}<br>Tck=%{x}<br>Int/90=%{y}<br>Age=%{marker.size}<extra></extra>\", \"legendgroup\": \"Abdoulaye Niang\", \"marker\": {\"color\": \"#00cc96\", \"size\": [19], \"sizemode\": \"area\", \"sizeref\": 0.0875, \"symbol\": \"circle\"}, \"mode\": \"markers\", \"name\": \"Abdoulaye Niang\", \"showlegend\": true, \"type\": \"scatter\", \"x\": [\"3.50\"], \"xaxis\": \"x\", \"y\": [\"1.46\"], \"yaxis\": \"y\"}, {\"customdata\": [[\"Sven Bender\"]], \"hovertemplate\": \"Name=%{customdata[0]}<br>Tck=%{x}<br>Int/90=%{y}<br>Age=%{marker.size}<extra></extra>\", \"legendgroup\": \"Sven Bender\", \"marker\": {\"color\": \"#ab63fa\", \"size\": [33], \"sizemode\": \"area\", \"sizeref\": 0.0875, \"symbol\": \"circle\"}, \"mode\": \"markers\", \"name\": \"Sven Bender\", \"showlegend\": true, \"type\": \"scatter\", \"x\": [\"0.72\"], \"xaxis\": \"x\", \"y\": [\"2.67\"], \"yaxis\": \"y\"}, {\"customdata\": [[\"Gary Medel\"]], \"hovertemplate\": \"Name=%{customdata[0]}<br>Tck=%{x}<br>Int/90=%{y}<br>Age=%{marker.size}<extra></extra>\", \"legendgroup\": \"Gary Medel\", \"marker\": {\"color\": \"#FFA15A\", \"size\": [35], \"sizemode\": \"area\", \"sizeref\": 0.0875, \"symbol\": \"circle\"}, \"mode\": \"markers\", \"name\": \"Gary Medel\", \"showlegend\": true, \"type\": \"scatter\", \"x\": [\"2.72\"], \"xaxis\": \"x\", \"y\": [\"0.66\"], \"yaxis\": \"y\"}],\n",
       "                        {\"font\": {\"color\": \"#7f7f7f\", \"family\": \"Courier New, monospace\", \"size\": 16}, \"legend\": {\"itemsizing\": \"constant\", \"title\": {\"text\": \"Name\"}, \"tracegroupgap\": 0}, \"margin\": {\"t\": 60}, \"template\": {\"data\": {\"bar\": [{\"error_x\": {\"color\": \"#2a3f5f\"}, \"error_y\": {\"color\": \"#2a3f5f\"}, \"marker\": {\"line\": {\"color\": \"#E5ECF6\", \"width\": 0.5}}, \"type\": \"bar\"}], \"barpolar\": [{\"marker\": {\"line\": {\"color\": \"#E5ECF6\", \"width\": 0.5}}, \"type\": \"barpolar\"}], \"carpet\": [{\"aaxis\": {\"endlinecolor\": \"#2a3f5f\", \"gridcolor\": \"white\", \"linecolor\": \"white\", \"minorgridcolor\": \"white\", \"startlinecolor\": \"#2a3f5f\"}, \"baxis\": {\"endlinecolor\": \"#2a3f5f\", \"gridcolor\": \"white\", \"linecolor\": \"white\", \"minorgridcolor\": \"white\", \"startlinecolor\": \"#2a3f5f\"}, \"type\": \"carpet\"}], \"choropleth\": [{\"colorbar\": {\"outlinewidth\": 0, \"ticks\": \"\"}, \"type\": \"choropleth\"}], \"contour\": [{\"colorbar\": {\"outlinewidth\": 0, \"ticks\": \"\"}, \"colorscale\": [[0.0, \"#0d0887\"], [0.1111111111111111, \"#46039f\"], [0.2222222222222222, \"#7201a8\"], [0.3333333333333333, \"#9c179e\"], [0.4444444444444444, \"#bd3786\"], [0.5555555555555556, \"#d8576b\"], [0.6666666666666666, \"#ed7953\"], [0.7777777777777778, \"#fb9f3a\"], [0.8888888888888888, \"#fdca26\"], [1.0, \"#f0f921\"]], \"type\": \"contour\"}], \"contourcarpet\": [{\"colorbar\": {\"outlinewidth\": 0, \"ticks\": \"\"}, \"type\": \"contourcarpet\"}], \"heatmap\": [{\"colorbar\": {\"outlinewidth\": 0, \"ticks\": \"\"}, \"colorscale\": [[0.0, \"#0d0887\"], [0.1111111111111111, \"#46039f\"], [0.2222222222222222, \"#7201a8\"], [0.3333333333333333, \"#9c179e\"], [0.4444444444444444, \"#bd3786\"], [0.5555555555555556, \"#d8576b\"], [0.6666666666666666, \"#ed7953\"], [0.7777777777777778, \"#fb9f3a\"], [0.8888888888888888, \"#fdca26\"], [1.0, \"#f0f921\"]], \"type\": \"heatmap\"}], \"heatmapgl\": [{\"colorbar\": {\"outlinewidth\": 0, \"ticks\": \"\"}, \"colorscale\": [[0.0, \"#0d0887\"], [0.1111111111111111, \"#46039f\"], [0.2222222222222222, \"#7201a8\"], [0.3333333333333333, \"#9c179e\"], [0.4444444444444444, \"#bd3786\"], [0.5555555555555556, \"#d8576b\"], [0.6666666666666666, \"#ed7953\"], [0.7777777777777778, \"#fb9f3a\"], [0.8888888888888888, \"#fdca26\"], [1.0, \"#f0f921\"]], \"type\": \"heatmapgl\"}], \"histogram\": [{\"marker\": {\"colorbar\": {\"outlinewidth\": 0, \"ticks\": \"\"}}, \"type\": \"histogram\"}], \"histogram2d\": [{\"colorbar\": {\"outlinewidth\": 0, \"ticks\": \"\"}, \"colorscale\": [[0.0, \"#0d0887\"], [0.1111111111111111, \"#46039f\"], [0.2222222222222222, \"#7201a8\"], [0.3333333333333333, \"#9c179e\"], [0.4444444444444444, \"#bd3786\"], [0.5555555555555556, \"#d8576b\"], [0.6666666666666666, \"#ed7953\"], [0.7777777777777778, \"#fb9f3a\"], [0.8888888888888888, \"#fdca26\"], [1.0, \"#f0f921\"]], \"type\": \"histogram2d\"}], \"histogram2dcontour\": [{\"colorbar\": {\"outlinewidth\": 0, \"ticks\": \"\"}, \"colorscale\": [[0.0, \"#0d0887\"], [0.1111111111111111, \"#46039f\"], [0.2222222222222222, \"#7201a8\"], [0.3333333333333333, \"#9c179e\"], [0.4444444444444444, \"#bd3786\"], [0.5555555555555556, \"#d8576b\"], [0.6666666666666666, \"#ed7953\"], [0.7777777777777778, \"#fb9f3a\"], [0.8888888888888888, \"#fdca26\"], [1.0, \"#f0f921\"]], \"type\": \"histogram2dcontour\"}], \"mesh3d\": [{\"colorbar\": {\"outlinewidth\": 0, \"ticks\": \"\"}, \"type\": \"mesh3d\"}], \"parcoords\": [{\"line\": {\"colorbar\": {\"outlinewidth\": 0, \"ticks\": \"\"}}, \"type\": \"parcoords\"}], \"pie\": [{\"automargin\": true, \"type\": \"pie\"}], \"scatter\": [{\"marker\": {\"colorbar\": {\"outlinewidth\": 0, \"ticks\": \"\"}}, \"type\": \"scatter\"}], \"scatter3d\": [{\"line\": {\"colorbar\": {\"outlinewidth\": 0, \"ticks\": \"\"}}, \"marker\": {\"colorbar\": {\"outlinewidth\": 0, \"ticks\": \"\"}}, \"type\": \"scatter3d\"}], \"scattercarpet\": [{\"marker\": {\"colorbar\": {\"outlinewidth\": 0, \"ticks\": \"\"}}, \"type\": \"scattercarpet\"}], \"scattergeo\": [{\"marker\": {\"colorbar\": {\"outlinewidth\": 0, \"ticks\": \"\"}}, \"type\": \"scattergeo\"}], \"scattergl\": [{\"marker\": {\"colorbar\": {\"outlinewidth\": 0, \"ticks\": \"\"}}, \"type\": \"scattergl\"}], \"scattermapbox\": [{\"marker\": {\"colorbar\": {\"outlinewidth\": 0, \"ticks\": \"\"}}, \"type\": \"scattermapbox\"}], \"scatterpolar\": [{\"marker\": {\"colorbar\": {\"outlinewidth\": 0, \"ticks\": \"\"}}, \"type\": \"scatterpolar\"}], \"scatterpolargl\": [{\"marker\": {\"colorbar\": {\"outlinewidth\": 0, \"ticks\": \"\"}}, \"type\": \"scatterpolargl\"}], \"scatterternary\": [{\"marker\": {\"colorbar\": {\"outlinewidth\": 0, \"ticks\": \"\"}}, \"type\": \"scatterternary\"}], \"surface\": [{\"colorbar\": {\"outlinewidth\": 0, \"ticks\": \"\"}, \"colorscale\": [[0.0, \"#0d0887\"], [0.1111111111111111, \"#46039f\"], [0.2222222222222222, \"#7201a8\"], [0.3333333333333333, \"#9c179e\"], [0.4444444444444444, \"#bd3786\"], [0.5555555555555556, \"#d8576b\"], [0.6666666666666666, \"#ed7953\"], [0.7777777777777778, \"#fb9f3a\"], [0.8888888888888888, \"#fdca26\"], [1.0, \"#f0f921\"]], \"type\": \"surface\"}], \"table\": [{\"cells\": {\"fill\": {\"color\": \"#EBF0F8\"}, \"line\": {\"color\": \"white\"}}, \"header\": {\"fill\": {\"color\": \"#C8D4E3\"}, \"line\": {\"color\": \"white\"}}, \"type\": \"table\"}]}, \"layout\": {\"annotationdefaults\": {\"arrowcolor\": \"#2a3f5f\", \"arrowhead\": 0, \"arrowwidth\": 1}, \"coloraxis\": {\"colorbar\": {\"outlinewidth\": 0, \"ticks\": \"\"}}, \"colorscale\": {\"diverging\": [[0, \"#8e0152\"], [0.1, \"#c51b7d\"], [0.2, \"#de77ae\"], [0.3, \"#f1b6da\"], [0.4, \"#fde0ef\"], [0.5, \"#f7f7f7\"], [0.6, \"#e6f5d0\"], [0.7, \"#b8e186\"], [0.8, \"#7fbc41\"], [0.9, \"#4d9221\"], [1, \"#276419\"]], \"sequential\": [[0.0, \"#0d0887\"], [0.1111111111111111, \"#46039f\"], [0.2222222222222222, \"#7201a8\"], [0.3333333333333333, \"#9c179e\"], [0.4444444444444444, \"#bd3786\"], [0.5555555555555556, \"#d8576b\"], [0.6666666666666666, \"#ed7953\"], [0.7777777777777778, \"#fb9f3a\"], [0.8888888888888888, \"#fdca26\"], [1.0, \"#f0f921\"]], \"sequentialminus\": [[0.0, \"#0d0887\"], [0.1111111111111111, \"#46039f\"], [0.2222222222222222, \"#7201a8\"], [0.3333333333333333, \"#9c179e\"], [0.4444444444444444, \"#bd3786\"], [0.5555555555555556, \"#d8576b\"], [0.6666666666666666, \"#ed7953\"], [0.7777777777777778, \"#fb9f3a\"], [0.8888888888888888, \"#fdca26\"], [1.0, \"#f0f921\"]]}, \"colorway\": [\"#636efa\", \"#EF553B\", \"#00cc96\", \"#ab63fa\", \"#FFA15A\", \"#19d3f3\", \"#FF6692\", \"#B6E880\", \"#FF97FF\", \"#FECB52\"], \"font\": {\"color\": \"#2a3f5f\"}, \"geo\": {\"bgcolor\": \"white\", \"lakecolor\": \"white\", \"landcolor\": \"#E5ECF6\", \"showlakes\": true, \"showland\": true, \"subunitcolor\": \"white\"}, \"hoverlabel\": {\"align\": \"left\"}, \"hovermode\": \"closest\", \"mapbox\": {\"style\": \"light\"}, \"paper_bgcolor\": \"white\", \"plot_bgcolor\": \"#E5ECF6\", \"polar\": {\"angularaxis\": {\"gridcolor\": \"white\", \"linecolor\": \"white\", \"ticks\": \"\"}, \"bgcolor\": \"#E5ECF6\", \"radialaxis\": {\"gridcolor\": \"white\", \"linecolor\": \"white\", \"ticks\": \"\"}}, \"scene\": {\"xaxis\": {\"backgroundcolor\": \"#E5ECF6\", \"gridcolor\": \"white\", \"gridwidth\": 2, \"linecolor\": \"white\", \"showbackground\": true, \"ticks\": \"\", \"zerolinecolor\": \"white\"}, \"yaxis\": {\"backgroundcolor\": \"#E5ECF6\", \"gridcolor\": \"white\", \"gridwidth\": 2, \"linecolor\": \"white\", \"showbackground\": true, \"ticks\": \"\", \"zerolinecolor\": \"white\"}, \"zaxis\": {\"backgroundcolor\": \"#E5ECF6\", \"gridcolor\": \"white\", \"gridwidth\": 2, \"linecolor\": \"white\", \"showbackground\": true, \"ticks\": \"\", \"zerolinecolor\": \"white\"}}, \"shapedefaults\": {\"line\": {\"color\": \"#2a3f5f\"}}, \"ternary\": {\"aaxis\": {\"gridcolor\": \"white\", \"linecolor\": \"white\", \"ticks\": \"\"}, \"baxis\": {\"gridcolor\": \"white\", \"linecolor\": \"white\", \"ticks\": \"\"}, \"bgcolor\": \"#E5ECF6\", \"caxis\": {\"gridcolor\": \"white\", \"linecolor\": \"white\", \"ticks\": \"\"}}, \"title\": {\"x\": 0.05}, \"xaxis\": {\"automargin\": true, \"gridcolor\": \"white\", \"linecolor\": \"white\", \"ticks\": \"\", \"title\": {\"standoff\": 15}, \"zerolinecolor\": \"white\", \"zerolinewidth\": 2}, \"yaxis\": {\"automargin\": true, \"gridcolor\": \"white\", \"linecolor\": \"white\", \"ticks\": \"\", \"title\": {\"standoff\": 15}, \"zerolinecolor\": \"white\", \"zerolinewidth\": 2}}}, \"title\": {\"text\": \"Ball Winning Midfielder - Support\"}, \"xaxis\": {\"anchor\": \"y\", \"domain\": [0.0, 1.0], \"title\": {\"text\": \"Tackles/90\"}}, \"yaxis\": {\"anchor\": \"x\", \"domain\": [0.0, 1.0], \"title\": {\"text\": \"Interceptions/90\"}}},\n",
       "                        {\"responsive\": true}\n",
       "                    ).then(function(){\n",
       "                            \n",
       "var gd = document.getElementById('6df982be-521c-4524-ba0a-4b8f99c8e587');\n",
       "var x = new MutationObserver(function (mutations, observer) {{\n",
       "        var display = window.getComputedStyle(gd).display;\n",
       "        if (!display || display === 'none') {{\n",
       "            console.log([gd, 'removed!']);\n",
       "            Plotly.purge(gd);\n",
       "            observer.disconnect();\n",
       "        }}\n",
       "}});\n",
       "\n",
       "// Listen for the removal of the full notebook cells\n",
       "var notebookContainer = gd.closest('#notebook-container');\n",
       "if (notebookContainer) {{\n",
       "    x.observe(notebookContainer, {childList: true});\n",
       "}}\n",
       "\n",
       "// Listen for the clearing of the current output cell\n",
       "var outputEl = gd.closest('.output');\n",
       "if (outputEl) {{\n",
       "    x.observe(outputEl, {childList: true});\n",
       "}}\n",
       "\n",
       "                        })\n",
       "                };\n",
       "                });\n",
       "            </script>\n",
       "        </div>"
      ]
     },
     "metadata": {},
     "output_type": "display_data"
    }
   ],
   "source": [
    "# Ball Winning Midfielder - Support\n",
    "\n",
    "fig = px.scatter(df, x=\"Tck\", y=\"Int/90\", color=\"Name\",  \n",
    "        size='Age', hover_data=['Name'])\n",
    "\n",
    "fig.update_layout(\n",
    "    title=\"Ball Winning Midfielder - Support\",\n",
    "    xaxis_title=\"Tackles/90\",\n",
    "    yaxis_title=\"Interceptions/90\",\n",
    "    font=dict(\n",
    "        family=\"Courier New, monospace\",\n",
    "        size=16,\n",
    "        color=\"#7f7f7f\"\n",
    "    )\n",
    ")\n",
    "fig.show()"
   ]
  },
  {
   "cell_type": "code",
   "execution_count": 11,
   "metadata": {},
   "outputs": [
    {
     "data": {
      "application/vnd.plotly.v1+json": {
       "config": {
        "plotlyServerURL": "https://plot.ly"
       },
       "data": [
        {
         "customdata": [
          [
           "Shawn Hery"
          ]
         ],
         "hovertemplate": "Name=%{customdata[0]}<br>K Ps/90=%{x}<br>Pas %=%{y}<br>Age=%{marker.size}<extra></extra>",
         "legendgroup": "Shawn Hery",
         "marker": {
          "color": "#636efa",
          "size": [
           21
          ],
          "sizemode": "area",
          "sizeref": 0.0875,
          "symbol": "circle"
         },
         "mode": "markers",
         "name": "Shawn Hery",
         "showlegend": true,
         "type": "scatter",
         "x": [
          "1.02"
         ],
         "xaxis": "x",
         "y": [
          "88%"
         ],
         "yaxis": "y"
        },
        {
         "customdata": [
          [
           "Franck Evina"
          ]
         ],
         "hovertemplate": "Name=%{customdata[0]}<br>K Ps/90=%{x}<br>Pas %=%{y}<br>Age=%{marker.size}<extra></extra>",
         "legendgroup": "Franck Evina",
         "marker": {
          "color": "#EF553B",
          "size": [
           22
          ],
          "sizemode": "area",
          "sizeref": 0.0875,
          "symbol": "circle"
         },
         "mode": "markers",
         "name": "Franck Evina",
         "showlegend": true,
         "type": "scatter",
         "x": [
          "0.26"
         ],
         "xaxis": "x",
         "y": [
          "86%"
         ],
         "yaxis": "y"
        },
        {
         "customdata": [
          [
           "Luca Unbehaun"
          ]
         ],
         "hovertemplate": "Name=%{customdata[0]}<br>K Ps/90=%{x}<br>Pas %=%{y}<br>Age=%{marker.size}<extra></extra>",
         "legendgroup": "Luca Unbehaun",
         "marker": {
          "color": "#00cc96",
          "size": [
           21
          ],
          "sizemode": "area",
          "sizeref": 0.0875,
          "symbol": "circle"
         },
         "mode": "markers",
         "name": "Luca Unbehaun",
         "showlegend": true,
         "type": "scatter",
         "x": [
          "-"
         ],
         "xaxis": "x",
         "y": [
          "90%"
         ],
         "yaxis": "y"
        },
        {
         "customdata": [
          [
           "Marvin Jung"
          ]
         ],
         "hovertemplate": "Name=%{customdata[0]}<br>K Ps/90=%{x}<br>Pas %=%{y}<br>Age=%{marker.size}<extra></extra>",
         "legendgroup": "Marvin Jung",
         "marker": {
          "color": "#ab63fa",
          "size": [
           21
          ],
          "sizemode": "area",
          "sizeref": 0.0875,
          "symbol": "circle"
         },
         "mode": "markers",
         "name": "Marvin Jung",
         "showlegend": true,
         "type": "scatter",
         "x": [
          "0.51"
         ],
         "xaxis": "x",
         "y": [
          "86%"
         ],
         "yaxis": "y"
        },
        {
         "customdata": [
          [
           "Mike Fitzner"
          ]
         ],
         "hovertemplate": "Name=%{customdata[0]}<br>K Ps/90=%{x}<br>Pas %=%{y}<br>Age=%{marker.size}<extra></extra>",
         "legendgroup": "Mike Fitzner",
         "marker": {
          "color": "#FFA15A",
          "size": [
           18
          ],
          "sizemode": "area",
          "sizeref": 0.0875,
          "symbol": "circle"
         },
         "mode": "markers",
         "name": "Mike Fitzner",
         "showlegend": true,
         "type": "scatter",
         "x": [
          "1.74"
         ],
         "xaxis": "x",
         "y": [
          "86%"
         ],
         "yaxis": "y"
        },
        {
         "customdata": [
          [
           "Sefer AygÃ¼n"
          ]
         ],
         "hovertemplate": "Name=%{customdata[0]}<br>K Ps/90=%{x}<br>Pas %=%{y}<br>Age=%{marker.size}<extra></extra>",
         "legendgroup": "Sefer AygÃ¼n",
         "marker": {
          "color": "#19d3f3",
          "size": [
           18
          ],
          "sizemode": "area",
          "sizeref": 0.0875,
          "symbol": "circle"
         },
         "mode": "markers",
         "name": "Sefer AygÃ¼n",
         "showlegend": true,
         "type": "scatter",
         "x": [
          "1.41"
         ],
         "xaxis": "x",
         "y": [
          "81%"
         ],
         "yaxis": "y"
        },
        {
         "customdata": [
          [
           "Marco Hiller"
          ]
         ],
         "hovertemplate": "Name=%{customdata[0]}<br>K Ps/90=%{x}<br>Pas %=%{y}<br>Age=%{marker.size}<extra></extra>",
         "legendgroup": "Marco Hiller",
         "marker": {
          "color": "#FF6692",
          "size": [
           25
          ],
          "sizemode": "area",
          "sizeref": 0.0875,
          "symbol": "circle"
         },
         "mode": "markers",
         "name": "Marco Hiller",
         "showlegend": true,
         "type": "scatter",
         "x": [
          "-"
         ],
         "xaxis": "x",
         "y": [
          "-"
         ],
         "yaxis": "y"
        },
        {
         "customdata": [
          [
           "Leon Klassen"
          ]
         ],
         "hovertemplate": "Name=%{customdata[0]}<br>K Ps/90=%{x}<br>Pas %=%{y}<br>Age=%{marker.size}<extra></extra>",
         "legendgroup": "Leon Klassen",
         "marker": {
          "color": "#B6E880",
          "size": [
           22
          ],
          "sizemode": "area",
          "sizeref": 0.0875,
          "symbol": "circle"
         },
         "mode": "markers",
         "name": "Leon Klassen",
         "showlegend": true,
         "type": "scatter",
         "x": [
          "0.66"
         ],
         "xaxis": "x",
         "y": [
          "85%"
         ],
         "yaxis": "y"
        },
        {
         "customdata": [
          [
           "Noel Niemann"
          ]
         ],
         "hovertemplate": "Name=%{customdata[0]}<br>K Ps/90=%{x}<br>Pas %=%{y}<br>Age=%{marker.size}<extra></extra>",
         "legendgroup": "Noel Niemann",
         "marker": {
          "color": "#FF97FF",
          "size": [
           23
          ],
          "sizemode": "area",
          "sizeref": 0.0875,
          "symbol": "circle"
         },
         "mode": "markers",
         "name": "Noel Niemann",
         "showlegend": true,
         "type": "scatter",
         "x": [
          "0.55"
         ],
         "xaxis": "x",
         "y": [
          "80%"
         ],
         "yaxis": "y"
        },
        {
         "customdata": [
          [
           "Lucas Deaux"
          ]
         ],
         "hovertemplate": "Name=%{customdata[0]}<br>K Ps/90=%{x}<br>Pas %=%{y}<br>Age=%{marker.size}<extra></extra>",
         "legendgroup": "Lucas Deaux",
         "marker": {
          "color": "#FECB52",
          "size": [
           33
          ],
          "sizemode": "area",
          "sizeref": 0.0875,
          "symbol": "circle"
         },
         "mode": "markers",
         "name": "Lucas Deaux",
         "showlegend": true,
         "type": "scatter",
         "x": [
          "1.72"
         ],
         "xaxis": "x",
         "y": [
          "92%"
         ],
         "yaxis": "y"
        },
        {
         "customdata": [
          [
           "Julian Schwermann"
          ]
         ],
         "hovertemplate": "Name=%{customdata[0]}<br>K Ps/90=%{x}<br>Pas %=%{y}<br>Age=%{marker.size}<extra></extra>",
         "legendgroup": "Julian Schwermann",
         "marker": {
          "color": "#636efa",
          "size": [
           23
          ],
          "sizemode": "area",
          "sizeref": 0.0875,
          "symbol": "circle"
         },
         "mode": "markers",
         "name": "Julian Schwermann",
         "showlegend": true,
         "type": "scatter",
         "x": [
          "1.44"
         ],
         "xaxis": "x",
         "y": [
          "93%"
         ],
         "yaxis": "y"
        },
        {
         "customdata": [
          [
           "Oliver Kragl"
          ]
         ],
         "hovertemplate": "Name=%{customdata[0]}<br>K Ps/90=%{x}<br>Pas %=%{y}<br>Age=%{marker.size}<extra></extra>",
         "legendgroup": "Oliver Kragl",
         "marker": {
          "color": "#EF553B",
          "size": [
           32
          ],
          "sizemode": "area",
          "sizeref": 0.0875,
          "symbol": "circle"
         },
         "mode": "markers",
         "name": "Oliver Kragl",
         "showlegend": true,
         "type": "scatter",
         "x": [
          "0.80"
         ],
         "xaxis": "x",
         "y": [
          "78%"
         ],
         "yaxis": "y"
        },
        {
         "customdata": [
          [
           "Ben SchÃ¤fer"
          ]
         ],
         "hovertemplate": "Name=%{customdata[0]}<br>K Ps/90=%{x}<br>Pas %=%{y}<br>Age=%{marker.size}<extra></extra>",
         "legendgroup": "Ben SchÃ¤fer",
         "marker": {
          "color": "#00cc96",
          "size": [
           18
          ],
          "sizemode": "area",
          "sizeref": 0.0875,
          "symbol": "circle"
         },
         "mode": "markers",
         "name": "Ben SchÃ¤fer",
         "showlegend": true,
         "type": "scatter",
         "x": [
          "-"
         ],
         "xaxis": "x",
         "y": [
          "-"
         ],
         "yaxis": "y"
        },
        {
         "customdata": [
          [
           "Andreas Ahlm"
          ]
         ],
         "hovertemplate": "Name=%{customdata[0]}<br>K Ps/90=%{x}<br>Pas %=%{y}<br>Age=%{marker.size}<extra></extra>",
         "legendgroup": "Andreas Ahlm",
         "marker": {
          "color": "#ab63fa",
          "size": [
           18
          ],
          "sizemode": "area",
          "sizeref": 0.0875,
          "symbol": "circle"
         },
         "mode": "markers",
         "name": "Andreas Ahlm",
         "showlegend": true,
         "type": "scatter",
         "x": [
          "-"
         ],
         "xaxis": "x",
         "y": [
          "-"
         ],
         "yaxis": "y"
        },
        {
         "customdata": [
          [
           "Petr Dvorak"
          ]
         ],
         "hovertemplate": "Name=%{customdata[0]}<br>K Ps/90=%{x}<br>Pas %=%{y}<br>Age=%{marker.size}<extra></extra>",
         "legendgroup": "Petr Dvorak",
         "marker": {
          "color": "#FFA15A",
          "size": [
           17
          ],
          "sizemode": "area",
          "sizeref": 0.0875,
          "symbol": "circle"
         },
         "mode": "markers",
         "name": "Petr Dvorak",
         "showlegend": true,
         "type": "scatter",
         "x": [
          "-"
         ],
         "xaxis": "x",
         "y": [
          "-"
         ],
         "yaxis": "y"
        },
        {
         "customdata": [
          [
           "Efkan Bekiroglu"
          ]
         ],
         "hovertemplate": "Name=%{customdata[0]}<br>K Ps/90=%{x}<br>Pas %=%{y}<br>Age=%{marker.size}<extra></extra>",
         "legendgroup": "Efkan Bekiroglu",
         "marker": {
          "color": "#19d3f3",
          "size": [
           27
          ],
          "sizemode": "area",
          "sizeref": 0.0875,
          "symbol": "circle"
         },
         "mode": "markers",
         "name": "Efkan Bekiroglu",
         "showlegend": true,
         "type": "scatter",
         "x": [
          "2.05"
         ],
         "xaxis": "x",
         "y": [
          "88%"
         ],
         "yaxis": "y"
        },
        {
         "customdata": [
          [
           "Fabian Greilinger"
          ]
         ],
         "hovertemplate": "Name=%{customdata[0]}<br>K Ps/90=%{x}<br>Pas %=%{y}<br>Age=%{marker.size}<extra></extra>",
         "legendgroup": "Fabian Greilinger",
         "marker": {
          "color": "#FF6692",
          "size": [
           22
          ],
          "sizemode": "area",
          "sizeref": 0.0875,
          "symbol": "circle"
         },
         "mode": "markers",
         "name": "Fabian Greilinger",
         "showlegend": true,
         "type": "scatter",
         "x": [
          "0.85"
         ],
         "xaxis": "x",
         "y": [
          "87%"
         ],
         "yaxis": "y"
        },
        {
         "customdata": [
          [
           "Marko Basic"
          ]
         ],
         "hovertemplate": "Name=%{customdata[0]}<br>K Ps/90=%{x}<br>Pas %=%{y}<br>Age=%{marker.size}<extra></extra>",
         "legendgroup": "Marko Basic",
         "marker": {
          "color": "#B6E880",
          "size": [
           17
          ],
          "sizemode": "area",
          "sizeref": 0.0875,
          "symbol": "circle"
         },
         "mode": "markers",
         "name": "Marko Basic",
         "showlegend": true,
         "type": "scatter",
         "x": [
          "-"
         ],
         "xaxis": "x",
         "y": [
          "-"
         ],
         "yaxis": "y"
        },
        {
         "customdata": [
          [
           "Mert GÃ¶ckan"
          ]
         ],
         "hovertemplate": "Name=%{customdata[0]}<br>K Ps/90=%{x}<br>Pas %=%{y}<br>Age=%{marker.size}<extra></extra>",
         "legendgroup": "Mert GÃ¶ckan",
         "marker": {
          "color": "#FF97FF",
          "size": [
           21
          ],
          "sizemode": "area",
          "sizeref": 0.0875,
          "symbol": "circle"
         },
         "mode": "markers",
         "name": "Mert GÃ¶ckan",
         "showlegend": true,
         "type": "scatter",
         "x": [
          "0.58"
         ],
         "xaxis": "x",
         "y": [
          "79%"
         ],
         "yaxis": "y"
        },
        {
         "customdata": [
          [
           "Gabriel Isik"
          ]
         ],
         "hovertemplate": "Name=%{customdata[0]}<br>K Ps/90=%{x}<br>Pas %=%{y}<br>Age=%{marker.size}<extra></extra>",
         "legendgroup": "Gabriel Isik",
         "marker": {
          "color": "#FECB52",
          "size": [
           23
          ],
          "sizemode": "area",
          "sizeref": 0.0875,
          "symbol": "circle"
         },
         "mode": "markers",
         "name": "Gabriel Isik",
         "showlegend": true,
         "type": "scatter",
         "x": [
          "0.06"
         ],
         "xaxis": "x",
         "y": [
          "83%"
         ],
         "yaxis": "y"
        },
        {
         "customdata": [
          [
           "Pawel Majewski"
          ]
         ],
         "hovertemplate": "Name=%{customdata[0]}<br>K Ps/90=%{x}<br>Pas %=%{y}<br>Age=%{marker.size}<extra></extra>",
         "legendgroup": "Pawel Majewski",
         "marker": {
          "color": "#636efa",
          "size": [
           18
          ],
          "sizemode": "area",
          "sizeref": 0.0875,
          "symbol": "circle"
         },
         "mode": "markers",
         "name": "Pawel Majewski",
         "showlegend": true,
         "type": "scatter",
         "x": [
          "0.33"
         ],
         "xaxis": "x",
         "y": [
          "87%"
         ],
         "yaxis": "y"
        },
        {
         "customdata": [
          [
           "Peter KÃ¶ster"
          ]
         ],
         "hovertemplate": "Name=%{customdata[0]}<br>K Ps/90=%{x}<br>Pas %=%{y}<br>Age=%{marker.size}<extra></extra>",
         "legendgroup": "Peter KÃ¶ster",
         "marker": {
          "color": "#EF553B",
          "size": [
           23
          ],
          "sizemode": "area",
          "sizeref": 0.0875,
          "symbol": "circle"
         },
         "mode": "markers",
         "name": "Peter KÃ¶ster",
         "showlegend": true,
         "type": "scatter",
         "x": [
          "-"
         ],
         "xaxis": "x",
         "y": [
          "81%"
         ],
         "yaxis": "y"
        },
        {
         "customdata": [
          [
           "Abdoulaye Niang"
          ]
         ],
         "hovertemplate": "Name=%{customdata[0]}<br>K Ps/90=%{x}<br>Pas %=%{y}<br>Age=%{marker.size}<extra></extra>",
         "legendgroup": "Abdoulaye Niang",
         "marker": {
          "color": "#00cc96",
          "size": [
           19
          ],
          "sizemode": "area",
          "sizeref": 0.0875,
          "symbol": "circle"
         },
         "mode": "markers",
         "name": "Abdoulaye Niang",
         "showlegend": true,
         "type": "scatter",
         "x": [
          "1.46"
         ],
         "xaxis": "x",
         "y": [
          "94%"
         ],
         "yaxis": "y"
        },
        {
         "customdata": [
          [
           "Sven Bender"
          ]
         ],
         "hovertemplate": "Name=%{customdata[0]}<br>K Ps/90=%{x}<br>Pas %=%{y}<br>Age=%{marker.size}<extra></extra>",
         "legendgroup": "Sven Bender",
         "marker": {
          "color": "#ab63fa",
          "size": [
           33
          ],
          "sizemode": "area",
          "sizeref": 0.0875,
          "symbol": "circle"
         },
         "mode": "markers",
         "name": "Sven Bender",
         "showlegend": true,
         "type": "scatter",
         "x": [
          "0.33"
         ],
         "xaxis": "x",
         "y": [
          "90%"
         ],
         "yaxis": "y"
        },
        {
         "customdata": [
          [
           "Gary Medel"
          ]
         ],
         "hovertemplate": "Name=%{customdata[0]}<br>K Ps/90=%{x}<br>Pas %=%{y}<br>Age=%{marker.size}<extra></extra>",
         "legendgroup": "Gary Medel",
         "marker": {
          "color": "#FFA15A",
          "size": [
           35
          ],
          "sizemode": "area",
          "sizeref": 0.0875,
          "symbol": "circle"
         },
         "mode": "markers",
         "name": "Gary Medel",
         "showlegend": true,
         "type": "scatter",
         "x": [
          "1.88"
         ],
         "xaxis": "x",
         "y": [
          "93%"
         ],
         "yaxis": "y"
        }
       ],
       "layout": {
        "font": {
         "color": "#7f7f7f",
         "family": "Courier New, monospace",
         "size": 16
        },
        "legend": {
         "itemsizing": "constant",
         "title": {
          "text": "Name"
         },
         "tracegroupgap": 0
        },
        "margin": {
         "t": 60
        },
        "template": {
         "data": {
          "bar": [
           {
            "error_x": {
             "color": "#2a3f5f"
            },
            "error_y": {
             "color": "#2a3f5f"
            },
            "marker": {
             "line": {
              "color": "#E5ECF6",
              "width": 0.5
             }
            },
            "type": "bar"
           }
          ],
          "barpolar": [
           {
            "marker": {
             "line": {
              "color": "#E5ECF6",
              "width": 0.5
             }
            },
            "type": "barpolar"
           }
          ],
          "carpet": [
           {
            "aaxis": {
             "endlinecolor": "#2a3f5f",
             "gridcolor": "white",
             "linecolor": "white",
             "minorgridcolor": "white",
             "startlinecolor": "#2a3f5f"
            },
            "baxis": {
             "endlinecolor": "#2a3f5f",
             "gridcolor": "white",
             "linecolor": "white",
             "minorgridcolor": "white",
             "startlinecolor": "#2a3f5f"
            },
            "type": "carpet"
           }
          ],
          "choropleth": [
           {
            "colorbar": {
             "outlinewidth": 0,
             "ticks": ""
            },
            "type": "choropleth"
           }
          ],
          "contour": [
           {
            "colorbar": {
             "outlinewidth": 0,
             "ticks": ""
            },
            "colorscale": [
             [
              0,
              "#0d0887"
             ],
             [
              0.1111111111111111,
              "#46039f"
             ],
             [
              0.2222222222222222,
              "#7201a8"
             ],
             [
              0.3333333333333333,
              "#9c179e"
             ],
             [
              0.4444444444444444,
              "#bd3786"
             ],
             [
              0.5555555555555556,
              "#d8576b"
             ],
             [
              0.6666666666666666,
              "#ed7953"
             ],
             [
              0.7777777777777778,
              "#fb9f3a"
             ],
             [
              0.8888888888888888,
              "#fdca26"
             ],
             [
              1,
              "#f0f921"
             ]
            ],
            "type": "contour"
           }
          ],
          "contourcarpet": [
           {
            "colorbar": {
             "outlinewidth": 0,
             "ticks": ""
            },
            "type": "contourcarpet"
           }
          ],
          "heatmap": [
           {
            "colorbar": {
             "outlinewidth": 0,
             "ticks": ""
            },
            "colorscale": [
             [
              0,
              "#0d0887"
             ],
             [
              0.1111111111111111,
              "#46039f"
             ],
             [
              0.2222222222222222,
              "#7201a8"
             ],
             [
              0.3333333333333333,
              "#9c179e"
             ],
             [
              0.4444444444444444,
              "#bd3786"
             ],
             [
              0.5555555555555556,
              "#d8576b"
             ],
             [
              0.6666666666666666,
              "#ed7953"
             ],
             [
              0.7777777777777778,
              "#fb9f3a"
             ],
             [
              0.8888888888888888,
              "#fdca26"
             ],
             [
              1,
              "#f0f921"
             ]
            ],
            "type": "heatmap"
           }
          ],
          "heatmapgl": [
           {
            "colorbar": {
             "outlinewidth": 0,
             "ticks": ""
            },
            "colorscale": [
             [
              0,
              "#0d0887"
             ],
             [
              0.1111111111111111,
              "#46039f"
             ],
             [
              0.2222222222222222,
              "#7201a8"
             ],
             [
              0.3333333333333333,
              "#9c179e"
             ],
             [
              0.4444444444444444,
              "#bd3786"
             ],
             [
              0.5555555555555556,
              "#d8576b"
             ],
             [
              0.6666666666666666,
              "#ed7953"
             ],
             [
              0.7777777777777778,
              "#fb9f3a"
             ],
             [
              0.8888888888888888,
              "#fdca26"
             ],
             [
              1,
              "#f0f921"
             ]
            ],
            "type": "heatmapgl"
           }
          ],
          "histogram": [
           {
            "marker": {
             "colorbar": {
              "outlinewidth": 0,
              "ticks": ""
             }
            },
            "type": "histogram"
           }
          ],
          "histogram2d": [
           {
            "colorbar": {
             "outlinewidth": 0,
             "ticks": ""
            },
            "colorscale": [
             [
              0,
              "#0d0887"
             ],
             [
              0.1111111111111111,
              "#46039f"
             ],
             [
              0.2222222222222222,
              "#7201a8"
             ],
             [
              0.3333333333333333,
              "#9c179e"
             ],
             [
              0.4444444444444444,
              "#bd3786"
             ],
             [
              0.5555555555555556,
              "#d8576b"
             ],
             [
              0.6666666666666666,
              "#ed7953"
             ],
             [
              0.7777777777777778,
              "#fb9f3a"
             ],
             [
              0.8888888888888888,
              "#fdca26"
             ],
             [
              1,
              "#f0f921"
             ]
            ],
            "type": "histogram2d"
           }
          ],
          "histogram2dcontour": [
           {
            "colorbar": {
             "outlinewidth": 0,
             "ticks": ""
            },
            "colorscale": [
             [
              0,
              "#0d0887"
             ],
             [
              0.1111111111111111,
              "#46039f"
             ],
             [
              0.2222222222222222,
              "#7201a8"
             ],
             [
              0.3333333333333333,
              "#9c179e"
             ],
             [
              0.4444444444444444,
              "#bd3786"
             ],
             [
              0.5555555555555556,
              "#d8576b"
             ],
             [
              0.6666666666666666,
              "#ed7953"
             ],
             [
              0.7777777777777778,
              "#fb9f3a"
             ],
             [
              0.8888888888888888,
              "#fdca26"
             ],
             [
              1,
              "#f0f921"
             ]
            ],
            "type": "histogram2dcontour"
           }
          ],
          "mesh3d": [
           {
            "colorbar": {
             "outlinewidth": 0,
             "ticks": ""
            },
            "type": "mesh3d"
           }
          ],
          "parcoords": [
           {
            "line": {
             "colorbar": {
              "outlinewidth": 0,
              "ticks": ""
             }
            },
            "type": "parcoords"
           }
          ],
          "pie": [
           {
            "automargin": true,
            "type": "pie"
           }
          ],
          "scatter": [
           {
            "marker": {
             "colorbar": {
              "outlinewidth": 0,
              "ticks": ""
             }
            },
            "type": "scatter"
           }
          ],
          "scatter3d": [
           {
            "line": {
             "colorbar": {
              "outlinewidth": 0,
              "ticks": ""
             }
            },
            "marker": {
             "colorbar": {
              "outlinewidth": 0,
              "ticks": ""
             }
            },
            "type": "scatter3d"
           }
          ],
          "scattercarpet": [
           {
            "marker": {
             "colorbar": {
              "outlinewidth": 0,
              "ticks": ""
             }
            },
            "type": "scattercarpet"
           }
          ],
          "scattergeo": [
           {
            "marker": {
             "colorbar": {
              "outlinewidth": 0,
              "ticks": ""
             }
            },
            "type": "scattergeo"
           }
          ],
          "scattergl": [
           {
            "marker": {
             "colorbar": {
              "outlinewidth": 0,
              "ticks": ""
             }
            },
            "type": "scattergl"
           }
          ],
          "scattermapbox": [
           {
            "marker": {
             "colorbar": {
              "outlinewidth": 0,
              "ticks": ""
             }
            },
            "type": "scattermapbox"
           }
          ],
          "scatterpolar": [
           {
            "marker": {
             "colorbar": {
              "outlinewidth": 0,
              "ticks": ""
             }
            },
            "type": "scatterpolar"
           }
          ],
          "scatterpolargl": [
           {
            "marker": {
             "colorbar": {
              "outlinewidth": 0,
              "ticks": ""
             }
            },
            "type": "scatterpolargl"
           }
          ],
          "scatterternary": [
           {
            "marker": {
             "colorbar": {
              "outlinewidth": 0,
              "ticks": ""
             }
            },
            "type": "scatterternary"
           }
          ],
          "surface": [
           {
            "colorbar": {
             "outlinewidth": 0,
             "ticks": ""
            },
            "colorscale": [
             [
              0,
              "#0d0887"
             ],
             [
              0.1111111111111111,
              "#46039f"
             ],
             [
              0.2222222222222222,
              "#7201a8"
             ],
             [
              0.3333333333333333,
              "#9c179e"
             ],
             [
              0.4444444444444444,
              "#bd3786"
             ],
             [
              0.5555555555555556,
              "#d8576b"
             ],
             [
              0.6666666666666666,
              "#ed7953"
             ],
             [
              0.7777777777777778,
              "#fb9f3a"
             ],
             [
              0.8888888888888888,
              "#fdca26"
             ],
             [
              1,
              "#f0f921"
             ]
            ],
            "type": "surface"
           }
          ],
          "table": [
           {
            "cells": {
             "fill": {
              "color": "#EBF0F8"
             },
             "line": {
              "color": "white"
             }
            },
            "header": {
             "fill": {
              "color": "#C8D4E3"
             },
             "line": {
              "color": "white"
             }
            },
            "type": "table"
           }
          ]
         },
         "layout": {
          "annotationdefaults": {
           "arrowcolor": "#2a3f5f",
           "arrowhead": 0,
           "arrowwidth": 1
          },
          "coloraxis": {
           "colorbar": {
            "outlinewidth": 0,
            "ticks": ""
           }
          },
          "colorscale": {
           "diverging": [
            [
             0,
             "#8e0152"
            ],
            [
             0.1,
             "#c51b7d"
            ],
            [
             0.2,
             "#de77ae"
            ],
            [
             0.3,
             "#f1b6da"
            ],
            [
             0.4,
             "#fde0ef"
            ],
            [
             0.5,
             "#f7f7f7"
            ],
            [
             0.6,
             "#e6f5d0"
            ],
            [
             0.7,
             "#b8e186"
            ],
            [
             0.8,
             "#7fbc41"
            ],
            [
             0.9,
             "#4d9221"
            ],
            [
             1,
             "#276419"
            ]
           ],
           "sequential": [
            [
             0,
             "#0d0887"
            ],
            [
             0.1111111111111111,
             "#46039f"
            ],
            [
             0.2222222222222222,
             "#7201a8"
            ],
            [
             0.3333333333333333,
             "#9c179e"
            ],
            [
             0.4444444444444444,
             "#bd3786"
            ],
            [
             0.5555555555555556,
             "#d8576b"
            ],
            [
             0.6666666666666666,
             "#ed7953"
            ],
            [
             0.7777777777777778,
             "#fb9f3a"
            ],
            [
             0.8888888888888888,
             "#fdca26"
            ],
            [
             1,
             "#f0f921"
            ]
           ],
           "sequentialminus": [
            [
             0,
             "#0d0887"
            ],
            [
             0.1111111111111111,
             "#46039f"
            ],
            [
             0.2222222222222222,
             "#7201a8"
            ],
            [
             0.3333333333333333,
             "#9c179e"
            ],
            [
             0.4444444444444444,
             "#bd3786"
            ],
            [
             0.5555555555555556,
             "#d8576b"
            ],
            [
             0.6666666666666666,
             "#ed7953"
            ],
            [
             0.7777777777777778,
             "#fb9f3a"
            ],
            [
             0.8888888888888888,
             "#fdca26"
            ],
            [
             1,
             "#f0f921"
            ]
           ]
          },
          "colorway": [
           "#636efa",
           "#EF553B",
           "#00cc96",
           "#ab63fa",
           "#FFA15A",
           "#19d3f3",
           "#FF6692",
           "#B6E880",
           "#FF97FF",
           "#FECB52"
          ],
          "font": {
           "color": "#2a3f5f"
          },
          "geo": {
           "bgcolor": "white",
           "lakecolor": "white",
           "landcolor": "#E5ECF6",
           "showlakes": true,
           "showland": true,
           "subunitcolor": "white"
          },
          "hoverlabel": {
           "align": "left"
          },
          "hovermode": "closest",
          "mapbox": {
           "style": "light"
          },
          "paper_bgcolor": "white",
          "plot_bgcolor": "#E5ECF6",
          "polar": {
           "angularaxis": {
            "gridcolor": "white",
            "linecolor": "white",
            "ticks": ""
           },
           "bgcolor": "#E5ECF6",
           "radialaxis": {
            "gridcolor": "white",
            "linecolor": "white",
            "ticks": ""
           }
          },
          "scene": {
           "xaxis": {
            "backgroundcolor": "#E5ECF6",
            "gridcolor": "white",
            "gridwidth": 2,
            "linecolor": "white",
            "showbackground": true,
            "ticks": "",
            "zerolinecolor": "white"
           },
           "yaxis": {
            "backgroundcolor": "#E5ECF6",
            "gridcolor": "white",
            "gridwidth": 2,
            "linecolor": "white",
            "showbackground": true,
            "ticks": "",
            "zerolinecolor": "white"
           },
           "zaxis": {
            "backgroundcolor": "#E5ECF6",
            "gridcolor": "white",
            "gridwidth": 2,
            "linecolor": "white",
            "showbackground": true,
            "ticks": "",
            "zerolinecolor": "white"
           }
          },
          "shapedefaults": {
           "line": {
            "color": "#2a3f5f"
           }
          },
          "ternary": {
           "aaxis": {
            "gridcolor": "white",
            "linecolor": "white",
            "ticks": ""
           },
           "baxis": {
            "gridcolor": "white",
            "linecolor": "white",
            "ticks": ""
           },
           "bgcolor": "#E5ECF6",
           "caxis": {
            "gridcolor": "white",
            "linecolor": "white",
            "ticks": ""
           }
          },
          "title": {
           "x": 0.05
          },
          "xaxis": {
           "automargin": true,
           "gridcolor": "white",
           "linecolor": "white",
           "ticks": "",
           "title": {
            "standoff": 15
           },
           "zerolinecolor": "white",
           "zerolinewidth": 2
          },
          "yaxis": {
           "automargin": true,
           "gridcolor": "white",
           "linecolor": "white",
           "ticks": "",
           "title": {
            "standoff": 15
           },
           "zerolinecolor": "white",
           "zerolinewidth": 2
          }
         }
        },
        "title": {
         "text": "Carrilero = Support"
        },
        "xaxis": {
         "anchor": "y",
         "domain": [
          0,
          1
         ],
         "title": {
          "text": "Key Passes/90"
         }
        },
        "yaxis": {
         "anchor": "x",
         "domain": [
          0,
          1
         ],
         "title": {
          "text": "Pass Completion %"
         }
        }
       }
      },
      "text/html": [
       "<div>\n",
       "        \n",
       "        \n",
       "            <div id=\"84a3bdfe-dfeb-4e6d-97f9-bba913a88c82\" class=\"plotly-graph-div\" style=\"height:525px; width:100%;\"></div>\n",
       "            <script type=\"text/javascript\">\n",
       "                require([\"plotly\"], function(Plotly) {\n",
       "                    window.PLOTLYENV=window.PLOTLYENV || {};\n",
       "                    \n",
       "                if (document.getElementById(\"84a3bdfe-dfeb-4e6d-97f9-bba913a88c82\")) {\n",
       "                    Plotly.newPlot(\n",
       "                        '84a3bdfe-dfeb-4e6d-97f9-bba913a88c82',\n",
       "                        [{\"customdata\": [[\"Shawn Hery\"]], \"hovertemplate\": \"Name=%{customdata[0]}<br>K Ps/90=%{x}<br>Pas %=%{y}<br>Age=%{marker.size}<extra></extra>\", \"legendgroup\": \"Shawn Hery\", \"marker\": {\"color\": \"#636efa\", \"size\": [21], \"sizemode\": \"area\", \"sizeref\": 0.0875, \"symbol\": \"circle\"}, \"mode\": \"markers\", \"name\": \"Shawn Hery\", \"showlegend\": true, \"type\": \"scatter\", \"x\": [\"1.02\"], \"xaxis\": \"x\", \"y\": [\"88%\"], \"yaxis\": \"y\"}, {\"customdata\": [[\"Franck Evina\"]], \"hovertemplate\": \"Name=%{customdata[0]}<br>K Ps/90=%{x}<br>Pas %=%{y}<br>Age=%{marker.size}<extra></extra>\", \"legendgroup\": \"Franck Evina\", \"marker\": {\"color\": \"#EF553B\", \"size\": [22], \"sizemode\": \"area\", \"sizeref\": 0.0875, \"symbol\": \"circle\"}, \"mode\": \"markers\", \"name\": \"Franck Evina\", \"showlegend\": true, \"type\": \"scatter\", \"x\": [\"0.26\"], \"xaxis\": \"x\", \"y\": [\"86%\"], \"yaxis\": \"y\"}, {\"customdata\": [[\"Luca Unbehaun\"]], \"hovertemplate\": \"Name=%{customdata[0]}<br>K Ps/90=%{x}<br>Pas %=%{y}<br>Age=%{marker.size}<extra></extra>\", \"legendgroup\": \"Luca Unbehaun\", \"marker\": {\"color\": \"#00cc96\", \"size\": [21], \"sizemode\": \"area\", \"sizeref\": 0.0875, \"symbol\": \"circle\"}, \"mode\": \"markers\", \"name\": \"Luca Unbehaun\", \"showlegend\": true, \"type\": \"scatter\", \"x\": [\"-\"], \"xaxis\": \"x\", \"y\": [\"90%\"], \"yaxis\": \"y\"}, {\"customdata\": [[\"Marvin Jung\"]], \"hovertemplate\": \"Name=%{customdata[0]}<br>K Ps/90=%{x}<br>Pas %=%{y}<br>Age=%{marker.size}<extra></extra>\", \"legendgroup\": \"Marvin Jung\", \"marker\": {\"color\": \"#ab63fa\", \"size\": [21], \"sizemode\": \"area\", \"sizeref\": 0.0875, \"symbol\": \"circle\"}, \"mode\": \"markers\", \"name\": \"Marvin Jung\", \"showlegend\": true, \"type\": \"scatter\", \"x\": [\"0.51\"], \"xaxis\": \"x\", \"y\": [\"86%\"], \"yaxis\": \"y\"}, {\"customdata\": [[\"Mike Fitzner\"]], \"hovertemplate\": \"Name=%{customdata[0]}<br>K Ps/90=%{x}<br>Pas %=%{y}<br>Age=%{marker.size}<extra></extra>\", \"legendgroup\": \"Mike Fitzner\", \"marker\": {\"color\": \"#FFA15A\", \"size\": [18], \"sizemode\": \"area\", \"sizeref\": 0.0875, \"symbol\": \"circle\"}, \"mode\": \"markers\", \"name\": \"Mike Fitzner\", \"showlegend\": true, \"type\": \"scatter\", \"x\": [\"1.74\"], \"xaxis\": \"x\", \"y\": [\"86%\"], \"yaxis\": \"y\"}, {\"customdata\": [[\"Sefer Ayg\\u00c3\\u00bcn\"]], \"hovertemplate\": \"Name=%{customdata[0]}<br>K Ps/90=%{x}<br>Pas %=%{y}<br>Age=%{marker.size}<extra></extra>\", \"legendgroup\": \"Sefer Ayg\\u00c3\\u00bcn\", \"marker\": {\"color\": \"#19d3f3\", \"size\": [18], \"sizemode\": \"area\", \"sizeref\": 0.0875, \"symbol\": \"circle\"}, \"mode\": \"markers\", \"name\": \"Sefer Ayg\\u00c3\\u00bcn\", \"showlegend\": true, \"type\": \"scatter\", \"x\": [\"1.41\"], \"xaxis\": \"x\", \"y\": [\"81%\"], \"yaxis\": \"y\"}, {\"customdata\": [[\"Marco Hiller\"]], \"hovertemplate\": \"Name=%{customdata[0]}<br>K Ps/90=%{x}<br>Pas %=%{y}<br>Age=%{marker.size}<extra></extra>\", \"legendgroup\": \"Marco Hiller\", \"marker\": {\"color\": \"#FF6692\", \"size\": [25], \"sizemode\": \"area\", \"sizeref\": 0.0875, \"symbol\": \"circle\"}, \"mode\": \"markers\", \"name\": \"Marco Hiller\", \"showlegend\": true, \"type\": \"scatter\", \"x\": [\"-\"], \"xaxis\": \"x\", \"y\": [\"-\"], \"yaxis\": \"y\"}, {\"customdata\": [[\"Leon Klassen\"]], \"hovertemplate\": \"Name=%{customdata[0]}<br>K Ps/90=%{x}<br>Pas %=%{y}<br>Age=%{marker.size}<extra></extra>\", \"legendgroup\": \"Leon Klassen\", \"marker\": {\"color\": \"#B6E880\", \"size\": [22], \"sizemode\": \"area\", \"sizeref\": 0.0875, \"symbol\": \"circle\"}, \"mode\": \"markers\", \"name\": \"Leon Klassen\", \"showlegend\": true, \"type\": \"scatter\", \"x\": [\"0.66\"], \"xaxis\": \"x\", \"y\": [\"85%\"], \"yaxis\": \"y\"}, {\"customdata\": [[\"Noel Niemann\"]], \"hovertemplate\": \"Name=%{customdata[0]}<br>K Ps/90=%{x}<br>Pas %=%{y}<br>Age=%{marker.size}<extra></extra>\", \"legendgroup\": \"Noel Niemann\", \"marker\": {\"color\": \"#FF97FF\", \"size\": [23], \"sizemode\": \"area\", \"sizeref\": 0.0875, \"symbol\": \"circle\"}, \"mode\": \"markers\", \"name\": \"Noel Niemann\", \"showlegend\": true, \"type\": \"scatter\", \"x\": [\"0.55\"], \"xaxis\": \"x\", \"y\": [\"80%\"], \"yaxis\": \"y\"}, {\"customdata\": [[\"Lucas Deaux\"]], \"hovertemplate\": \"Name=%{customdata[0]}<br>K Ps/90=%{x}<br>Pas %=%{y}<br>Age=%{marker.size}<extra></extra>\", \"legendgroup\": \"Lucas Deaux\", \"marker\": {\"color\": \"#FECB52\", \"size\": [33], \"sizemode\": \"area\", \"sizeref\": 0.0875, \"symbol\": \"circle\"}, \"mode\": \"markers\", \"name\": \"Lucas Deaux\", \"showlegend\": true, \"type\": \"scatter\", \"x\": [\"1.72\"], \"xaxis\": \"x\", \"y\": [\"92%\"], \"yaxis\": \"y\"}, {\"customdata\": [[\"Julian Schwermann\"]], \"hovertemplate\": \"Name=%{customdata[0]}<br>K Ps/90=%{x}<br>Pas %=%{y}<br>Age=%{marker.size}<extra></extra>\", \"legendgroup\": \"Julian Schwermann\", \"marker\": {\"color\": \"#636efa\", \"size\": [23], \"sizemode\": \"area\", \"sizeref\": 0.0875, \"symbol\": \"circle\"}, \"mode\": \"markers\", \"name\": \"Julian Schwermann\", \"showlegend\": true, \"type\": \"scatter\", \"x\": [\"1.44\"], \"xaxis\": \"x\", \"y\": [\"93%\"], \"yaxis\": \"y\"}, {\"customdata\": [[\"Oliver Kragl\"]], \"hovertemplate\": \"Name=%{customdata[0]}<br>K Ps/90=%{x}<br>Pas %=%{y}<br>Age=%{marker.size}<extra></extra>\", \"legendgroup\": \"Oliver Kragl\", \"marker\": {\"color\": \"#EF553B\", \"size\": [32], \"sizemode\": \"area\", \"sizeref\": 0.0875, \"symbol\": \"circle\"}, \"mode\": \"markers\", \"name\": \"Oliver Kragl\", \"showlegend\": true, \"type\": \"scatter\", \"x\": [\"0.80\"], \"xaxis\": \"x\", \"y\": [\"78%\"], \"yaxis\": \"y\"}, {\"customdata\": [[\"Ben Sch\\u00c3\\u00a4fer\"]], \"hovertemplate\": \"Name=%{customdata[0]}<br>K Ps/90=%{x}<br>Pas %=%{y}<br>Age=%{marker.size}<extra></extra>\", \"legendgroup\": \"Ben Sch\\u00c3\\u00a4fer\", \"marker\": {\"color\": \"#00cc96\", \"size\": [18], \"sizemode\": \"area\", \"sizeref\": 0.0875, \"symbol\": \"circle\"}, \"mode\": \"markers\", \"name\": \"Ben Sch\\u00c3\\u00a4fer\", \"showlegend\": true, \"type\": \"scatter\", \"x\": [\"-\"], \"xaxis\": \"x\", \"y\": [\"-\"], \"yaxis\": \"y\"}, {\"customdata\": [[\"Andreas Ahlm\"]], \"hovertemplate\": \"Name=%{customdata[0]}<br>K Ps/90=%{x}<br>Pas %=%{y}<br>Age=%{marker.size}<extra></extra>\", \"legendgroup\": \"Andreas Ahlm\", \"marker\": {\"color\": \"#ab63fa\", \"size\": [18], \"sizemode\": \"area\", \"sizeref\": 0.0875, \"symbol\": \"circle\"}, \"mode\": \"markers\", \"name\": \"Andreas Ahlm\", \"showlegend\": true, \"type\": \"scatter\", \"x\": [\"-\"], \"xaxis\": \"x\", \"y\": [\"-\"], \"yaxis\": \"y\"}, {\"customdata\": [[\"Petr Dvorak\"]], \"hovertemplate\": \"Name=%{customdata[0]}<br>K Ps/90=%{x}<br>Pas %=%{y}<br>Age=%{marker.size}<extra></extra>\", \"legendgroup\": \"Petr Dvorak\", \"marker\": {\"color\": \"#FFA15A\", \"size\": [17], \"sizemode\": \"area\", \"sizeref\": 0.0875, \"symbol\": \"circle\"}, \"mode\": \"markers\", \"name\": \"Petr Dvorak\", \"showlegend\": true, \"type\": \"scatter\", \"x\": [\"-\"], \"xaxis\": \"x\", \"y\": [\"-\"], \"yaxis\": \"y\"}, {\"customdata\": [[\"Efkan Bekiroglu\"]], \"hovertemplate\": \"Name=%{customdata[0]}<br>K Ps/90=%{x}<br>Pas %=%{y}<br>Age=%{marker.size}<extra></extra>\", \"legendgroup\": \"Efkan Bekiroglu\", \"marker\": {\"color\": \"#19d3f3\", \"size\": [27], \"sizemode\": \"area\", \"sizeref\": 0.0875, \"symbol\": \"circle\"}, \"mode\": \"markers\", \"name\": \"Efkan Bekiroglu\", \"showlegend\": true, \"type\": \"scatter\", \"x\": [\"2.05\"], \"xaxis\": \"x\", \"y\": [\"88%\"], \"yaxis\": \"y\"}, {\"customdata\": [[\"Fabian Greilinger\"]], \"hovertemplate\": \"Name=%{customdata[0]}<br>K Ps/90=%{x}<br>Pas %=%{y}<br>Age=%{marker.size}<extra></extra>\", \"legendgroup\": \"Fabian Greilinger\", \"marker\": {\"color\": \"#FF6692\", \"size\": [22], \"sizemode\": \"area\", \"sizeref\": 0.0875, \"symbol\": \"circle\"}, \"mode\": \"markers\", \"name\": \"Fabian Greilinger\", \"showlegend\": true, \"type\": \"scatter\", \"x\": [\"0.85\"], \"xaxis\": \"x\", \"y\": [\"87%\"], \"yaxis\": \"y\"}, {\"customdata\": [[\"Marko Basic\"]], \"hovertemplate\": \"Name=%{customdata[0]}<br>K Ps/90=%{x}<br>Pas %=%{y}<br>Age=%{marker.size}<extra></extra>\", \"legendgroup\": \"Marko Basic\", \"marker\": {\"color\": \"#B6E880\", \"size\": [17], \"sizemode\": \"area\", \"sizeref\": 0.0875, \"symbol\": \"circle\"}, \"mode\": \"markers\", \"name\": \"Marko Basic\", \"showlegend\": true, \"type\": \"scatter\", \"x\": [\"-\"], \"xaxis\": \"x\", \"y\": [\"-\"], \"yaxis\": \"y\"}, {\"customdata\": [[\"Mert G\\u00c3\\u00b6ckan\"]], \"hovertemplate\": \"Name=%{customdata[0]}<br>K Ps/90=%{x}<br>Pas %=%{y}<br>Age=%{marker.size}<extra></extra>\", \"legendgroup\": \"Mert G\\u00c3\\u00b6ckan\", \"marker\": {\"color\": \"#FF97FF\", \"size\": [21], \"sizemode\": \"area\", \"sizeref\": 0.0875, \"symbol\": \"circle\"}, \"mode\": \"markers\", \"name\": \"Mert G\\u00c3\\u00b6ckan\", \"showlegend\": true, \"type\": \"scatter\", \"x\": [\"0.58\"], \"xaxis\": \"x\", \"y\": [\"79%\"], \"yaxis\": \"y\"}, {\"customdata\": [[\"Gabriel Isik\"]], \"hovertemplate\": \"Name=%{customdata[0]}<br>K Ps/90=%{x}<br>Pas %=%{y}<br>Age=%{marker.size}<extra></extra>\", \"legendgroup\": \"Gabriel Isik\", \"marker\": {\"color\": \"#FECB52\", \"size\": [23], \"sizemode\": \"area\", \"sizeref\": 0.0875, \"symbol\": \"circle\"}, \"mode\": \"markers\", \"name\": \"Gabriel Isik\", \"showlegend\": true, \"type\": \"scatter\", \"x\": [\"0.06\"], \"xaxis\": \"x\", \"y\": [\"83%\"], \"yaxis\": \"y\"}, {\"customdata\": [[\"Pawel Majewski\"]], \"hovertemplate\": \"Name=%{customdata[0]}<br>K Ps/90=%{x}<br>Pas %=%{y}<br>Age=%{marker.size}<extra></extra>\", \"legendgroup\": \"Pawel Majewski\", \"marker\": {\"color\": \"#636efa\", \"size\": [18], \"sizemode\": \"area\", \"sizeref\": 0.0875, \"symbol\": \"circle\"}, \"mode\": \"markers\", \"name\": \"Pawel Majewski\", \"showlegend\": true, \"type\": \"scatter\", \"x\": [\"0.33\"], \"xaxis\": \"x\", \"y\": [\"87%\"], \"yaxis\": \"y\"}, {\"customdata\": [[\"Peter K\\u00c3\\u00b6ster\"]], \"hovertemplate\": \"Name=%{customdata[0]}<br>K Ps/90=%{x}<br>Pas %=%{y}<br>Age=%{marker.size}<extra></extra>\", \"legendgroup\": \"Peter K\\u00c3\\u00b6ster\", \"marker\": {\"color\": \"#EF553B\", \"size\": [23], \"sizemode\": \"area\", \"sizeref\": 0.0875, \"symbol\": \"circle\"}, \"mode\": \"markers\", \"name\": \"Peter K\\u00c3\\u00b6ster\", \"showlegend\": true, \"type\": \"scatter\", \"x\": [\"-\"], \"xaxis\": \"x\", \"y\": [\"81%\"], \"yaxis\": \"y\"}, {\"customdata\": [[\"Abdoulaye Niang\"]], \"hovertemplate\": \"Name=%{customdata[0]}<br>K Ps/90=%{x}<br>Pas %=%{y}<br>Age=%{marker.size}<extra></extra>\", \"legendgroup\": \"Abdoulaye Niang\", \"marker\": {\"color\": \"#00cc96\", \"size\": [19], \"sizemode\": \"area\", \"sizeref\": 0.0875, \"symbol\": \"circle\"}, \"mode\": \"markers\", \"name\": \"Abdoulaye Niang\", \"showlegend\": true, \"type\": \"scatter\", \"x\": [\"1.46\"], \"xaxis\": \"x\", \"y\": [\"94%\"], \"yaxis\": \"y\"}, {\"customdata\": [[\"Sven Bender\"]], \"hovertemplate\": \"Name=%{customdata[0]}<br>K Ps/90=%{x}<br>Pas %=%{y}<br>Age=%{marker.size}<extra></extra>\", \"legendgroup\": \"Sven Bender\", \"marker\": {\"color\": \"#ab63fa\", \"size\": [33], \"sizemode\": \"area\", \"sizeref\": 0.0875, \"symbol\": \"circle\"}, \"mode\": \"markers\", \"name\": \"Sven Bender\", \"showlegend\": true, \"type\": \"scatter\", \"x\": [\"0.33\"], \"xaxis\": \"x\", \"y\": [\"90%\"], \"yaxis\": \"y\"}, {\"customdata\": [[\"Gary Medel\"]], \"hovertemplate\": \"Name=%{customdata[0]}<br>K Ps/90=%{x}<br>Pas %=%{y}<br>Age=%{marker.size}<extra></extra>\", \"legendgroup\": \"Gary Medel\", \"marker\": {\"color\": \"#FFA15A\", \"size\": [35], \"sizemode\": \"area\", \"sizeref\": 0.0875, \"symbol\": \"circle\"}, \"mode\": \"markers\", \"name\": \"Gary Medel\", \"showlegend\": true, \"type\": \"scatter\", \"x\": [\"1.88\"], \"xaxis\": \"x\", \"y\": [\"93%\"], \"yaxis\": \"y\"}],\n",
       "                        {\"font\": {\"color\": \"#7f7f7f\", \"family\": \"Courier New, monospace\", \"size\": 16}, \"legend\": {\"itemsizing\": \"constant\", \"title\": {\"text\": \"Name\"}, \"tracegroupgap\": 0}, \"margin\": {\"t\": 60}, \"template\": {\"data\": {\"bar\": [{\"error_x\": {\"color\": \"#2a3f5f\"}, \"error_y\": {\"color\": \"#2a3f5f\"}, \"marker\": {\"line\": {\"color\": \"#E5ECF6\", \"width\": 0.5}}, \"type\": \"bar\"}], \"barpolar\": [{\"marker\": {\"line\": {\"color\": \"#E5ECF6\", \"width\": 0.5}}, \"type\": \"barpolar\"}], \"carpet\": [{\"aaxis\": {\"endlinecolor\": \"#2a3f5f\", \"gridcolor\": \"white\", \"linecolor\": \"white\", \"minorgridcolor\": \"white\", \"startlinecolor\": \"#2a3f5f\"}, \"baxis\": {\"endlinecolor\": \"#2a3f5f\", \"gridcolor\": \"white\", \"linecolor\": \"white\", \"minorgridcolor\": \"white\", \"startlinecolor\": \"#2a3f5f\"}, \"type\": \"carpet\"}], \"choropleth\": [{\"colorbar\": {\"outlinewidth\": 0, \"ticks\": \"\"}, \"type\": \"choropleth\"}], \"contour\": [{\"colorbar\": {\"outlinewidth\": 0, \"ticks\": \"\"}, \"colorscale\": [[0.0, \"#0d0887\"], [0.1111111111111111, \"#46039f\"], [0.2222222222222222, \"#7201a8\"], [0.3333333333333333, \"#9c179e\"], [0.4444444444444444, \"#bd3786\"], [0.5555555555555556, \"#d8576b\"], [0.6666666666666666, \"#ed7953\"], [0.7777777777777778, \"#fb9f3a\"], [0.8888888888888888, \"#fdca26\"], [1.0, \"#f0f921\"]], \"type\": \"contour\"}], \"contourcarpet\": [{\"colorbar\": {\"outlinewidth\": 0, \"ticks\": \"\"}, \"type\": \"contourcarpet\"}], \"heatmap\": [{\"colorbar\": {\"outlinewidth\": 0, \"ticks\": \"\"}, \"colorscale\": [[0.0, \"#0d0887\"], [0.1111111111111111, \"#46039f\"], [0.2222222222222222, \"#7201a8\"], [0.3333333333333333, \"#9c179e\"], [0.4444444444444444, \"#bd3786\"], [0.5555555555555556, \"#d8576b\"], [0.6666666666666666, \"#ed7953\"], [0.7777777777777778, \"#fb9f3a\"], [0.8888888888888888, \"#fdca26\"], [1.0, \"#f0f921\"]], \"type\": \"heatmap\"}], \"heatmapgl\": [{\"colorbar\": {\"outlinewidth\": 0, \"ticks\": \"\"}, \"colorscale\": [[0.0, \"#0d0887\"], [0.1111111111111111, \"#46039f\"], [0.2222222222222222, \"#7201a8\"], [0.3333333333333333, \"#9c179e\"], [0.4444444444444444, \"#bd3786\"], [0.5555555555555556, \"#d8576b\"], [0.6666666666666666, \"#ed7953\"], [0.7777777777777778, \"#fb9f3a\"], [0.8888888888888888, \"#fdca26\"], [1.0, \"#f0f921\"]], \"type\": \"heatmapgl\"}], \"histogram\": [{\"marker\": {\"colorbar\": {\"outlinewidth\": 0, \"ticks\": \"\"}}, \"type\": \"histogram\"}], \"histogram2d\": [{\"colorbar\": {\"outlinewidth\": 0, \"ticks\": \"\"}, \"colorscale\": [[0.0, \"#0d0887\"], [0.1111111111111111, \"#46039f\"], [0.2222222222222222, \"#7201a8\"], [0.3333333333333333, \"#9c179e\"], [0.4444444444444444, \"#bd3786\"], [0.5555555555555556, \"#d8576b\"], [0.6666666666666666, \"#ed7953\"], [0.7777777777777778, \"#fb9f3a\"], [0.8888888888888888, \"#fdca26\"], [1.0, \"#f0f921\"]], \"type\": \"histogram2d\"}], \"histogram2dcontour\": [{\"colorbar\": {\"outlinewidth\": 0, \"ticks\": \"\"}, \"colorscale\": [[0.0, \"#0d0887\"], [0.1111111111111111, \"#46039f\"], [0.2222222222222222, \"#7201a8\"], [0.3333333333333333, \"#9c179e\"], [0.4444444444444444, \"#bd3786\"], [0.5555555555555556, \"#d8576b\"], [0.6666666666666666, \"#ed7953\"], [0.7777777777777778, \"#fb9f3a\"], [0.8888888888888888, \"#fdca26\"], [1.0, \"#f0f921\"]], \"type\": \"histogram2dcontour\"}], \"mesh3d\": [{\"colorbar\": {\"outlinewidth\": 0, \"ticks\": \"\"}, \"type\": \"mesh3d\"}], \"parcoords\": [{\"line\": {\"colorbar\": {\"outlinewidth\": 0, \"ticks\": \"\"}}, \"type\": \"parcoords\"}], \"pie\": [{\"automargin\": true, \"type\": \"pie\"}], \"scatter\": [{\"marker\": {\"colorbar\": {\"outlinewidth\": 0, \"ticks\": \"\"}}, \"type\": \"scatter\"}], \"scatter3d\": [{\"line\": {\"colorbar\": {\"outlinewidth\": 0, \"ticks\": \"\"}}, \"marker\": {\"colorbar\": {\"outlinewidth\": 0, \"ticks\": \"\"}}, \"type\": \"scatter3d\"}], \"scattercarpet\": [{\"marker\": {\"colorbar\": {\"outlinewidth\": 0, \"ticks\": \"\"}}, \"type\": \"scattercarpet\"}], \"scattergeo\": [{\"marker\": {\"colorbar\": {\"outlinewidth\": 0, \"ticks\": \"\"}}, \"type\": \"scattergeo\"}], \"scattergl\": [{\"marker\": {\"colorbar\": {\"outlinewidth\": 0, \"ticks\": \"\"}}, \"type\": \"scattergl\"}], \"scattermapbox\": [{\"marker\": {\"colorbar\": {\"outlinewidth\": 0, \"ticks\": \"\"}}, \"type\": \"scattermapbox\"}], \"scatterpolar\": [{\"marker\": {\"colorbar\": {\"outlinewidth\": 0, \"ticks\": \"\"}}, \"type\": \"scatterpolar\"}], \"scatterpolargl\": [{\"marker\": {\"colorbar\": {\"outlinewidth\": 0, \"ticks\": \"\"}}, \"type\": \"scatterpolargl\"}], \"scatterternary\": [{\"marker\": {\"colorbar\": {\"outlinewidth\": 0, \"ticks\": \"\"}}, \"type\": \"scatterternary\"}], \"surface\": [{\"colorbar\": {\"outlinewidth\": 0, \"ticks\": \"\"}, \"colorscale\": [[0.0, \"#0d0887\"], [0.1111111111111111, \"#46039f\"], [0.2222222222222222, \"#7201a8\"], [0.3333333333333333, \"#9c179e\"], [0.4444444444444444, \"#bd3786\"], [0.5555555555555556, \"#d8576b\"], [0.6666666666666666, \"#ed7953\"], [0.7777777777777778, \"#fb9f3a\"], [0.8888888888888888, \"#fdca26\"], [1.0, \"#f0f921\"]], \"type\": \"surface\"}], \"table\": [{\"cells\": {\"fill\": {\"color\": \"#EBF0F8\"}, \"line\": {\"color\": \"white\"}}, \"header\": {\"fill\": {\"color\": \"#C8D4E3\"}, \"line\": {\"color\": \"white\"}}, \"type\": \"table\"}]}, \"layout\": {\"annotationdefaults\": {\"arrowcolor\": \"#2a3f5f\", \"arrowhead\": 0, \"arrowwidth\": 1}, \"coloraxis\": {\"colorbar\": {\"outlinewidth\": 0, \"ticks\": \"\"}}, \"colorscale\": {\"diverging\": [[0, \"#8e0152\"], [0.1, \"#c51b7d\"], [0.2, \"#de77ae\"], [0.3, \"#f1b6da\"], [0.4, \"#fde0ef\"], [0.5, \"#f7f7f7\"], [0.6, \"#e6f5d0\"], [0.7, \"#b8e186\"], [0.8, \"#7fbc41\"], [0.9, \"#4d9221\"], [1, \"#276419\"]], \"sequential\": [[0.0, \"#0d0887\"], [0.1111111111111111, \"#46039f\"], [0.2222222222222222, \"#7201a8\"], [0.3333333333333333, \"#9c179e\"], [0.4444444444444444, \"#bd3786\"], [0.5555555555555556, \"#d8576b\"], [0.6666666666666666, \"#ed7953\"], [0.7777777777777778, \"#fb9f3a\"], [0.8888888888888888, \"#fdca26\"], [1.0, \"#f0f921\"]], \"sequentialminus\": [[0.0, \"#0d0887\"], [0.1111111111111111, \"#46039f\"], [0.2222222222222222, \"#7201a8\"], [0.3333333333333333, \"#9c179e\"], [0.4444444444444444, \"#bd3786\"], [0.5555555555555556, \"#d8576b\"], [0.6666666666666666, \"#ed7953\"], [0.7777777777777778, \"#fb9f3a\"], [0.8888888888888888, \"#fdca26\"], [1.0, \"#f0f921\"]]}, \"colorway\": [\"#636efa\", \"#EF553B\", \"#00cc96\", \"#ab63fa\", \"#FFA15A\", \"#19d3f3\", \"#FF6692\", \"#B6E880\", \"#FF97FF\", \"#FECB52\"], \"font\": {\"color\": \"#2a3f5f\"}, \"geo\": {\"bgcolor\": \"white\", \"lakecolor\": \"white\", \"landcolor\": \"#E5ECF6\", \"showlakes\": true, \"showland\": true, \"subunitcolor\": \"white\"}, \"hoverlabel\": {\"align\": \"left\"}, \"hovermode\": \"closest\", \"mapbox\": {\"style\": \"light\"}, \"paper_bgcolor\": \"white\", \"plot_bgcolor\": \"#E5ECF6\", \"polar\": {\"angularaxis\": {\"gridcolor\": \"white\", \"linecolor\": \"white\", \"ticks\": \"\"}, \"bgcolor\": \"#E5ECF6\", \"radialaxis\": {\"gridcolor\": \"white\", \"linecolor\": \"white\", \"ticks\": \"\"}}, \"scene\": {\"xaxis\": {\"backgroundcolor\": \"#E5ECF6\", \"gridcolor\": \"white\", \"gridwidth\": 2, \"linecolor\": \"white\", \"showbackground\": true, \"ticks\": \"\", \"zerolinecolor\": \"white\"}, \"yaxis\": {\"backgroundcolor\": \"#E5ECF6\", \"gridcolor\": \"white\", \"gridwidth\": 2, \"linecolor\": \"white\", \"showbackground\": true, \"ticks\": \"\", \"zerolinecolor\": \"white\"}, \"zaxis\": {\"backgroundcolor\": \"#E5ECF6\", \"gridcolor\": \"white\", \"gridwidth\": 2, \"linecolor\": \"white\", \"showbackground\": true, \"ticks\": \"\", \"zerolinecolor\": \"white\"}}, \"shapedefaults\": {\"line\": {\"color\": \"#2a3f5f\"}}, \"ternary\": {\"aaxis\": {\"gridcolor\": \"white\", \"linecolor\": \"white\", \"ticks\": \"\"}, \"baxis\": {\"gridcolor\": \"white\", \"linecolor\": \"white\", \"ticks\": \"\"}, \"bgcolor\": \"#E5ECF6\", \"caxis\": {\"gridcolor\": \"white\", \"linecolor\": \"white\", \"ticks\": \"\"}}, \"title\": {\"x\": 0.05}, \"xaxis\": {\"automargin\": true, \"gridcolor\": \"white\", \"linecolor\": \"white\", \"ticks\": \"\", \"title\": {\"standoff\": 15}, \"zerolinecolor\": \"white\", \"zerolinewidth\": 2}, \"yaxis\": {\"automargin\": true, \"gridcolor\": \"white\", \"linecolor\": \"white\", \"ticks\": \"\", \"title\": {\"standoff\": 15}, \"zerolinecolor\": \"white\", \"zerolinewidth\": 2}}}, \"title\": {\"text\": \"Carrilero = Support\"}, \"xaxis\": {\"anchor\": \"y\", \"domain\": [0.0, 1.0], \"title\": {\"text\": \"Key Passes/90\"}}, \"yaxis\": {\"anchor\": \"x\", \"domain\": [0.0, 1.0], \"title\": {\"text\": \"Pass Completion %\"}}},\n",
       "                        {\"responsive\": true}\n",
       "                    ).then(function(){\n",
       "                            \n",
       "var gd = document.getElementById('84a3bdfe-dfeb-4e6d-97f9-bba913a88c82');\n",
       "var x = new MutationObserver(function (mutations, observer) {{\n",
       "        var display = window.getComputedStyle(gd).display;\n",
       "        if (!display || display === 'none') {{\n",
       "            console.log([gd, 'removed!']);\n",
       "            Plotly.purge(gd);\n",
       "            observer.disconnect();\n",
       "        }}\n",
       "}});\n",
       "\n",
       "// Listen for the removal of the full notebook cells\n",
       "var notebookContainer = gd.closest('#notebook-container');\n",
       "if (notebookContainer) {{\n",
       "    x.observe(notebookContainer, {childList: true});\n",
       "}}\n",
       "\n",
       "// Listen for the clearing of the current output cell\n",
       "var outputEl = gd.closest('.output');\n",
       "if (outputEl) {{\n",
       "    x.observe(outputEl, {childList: true});\n",
       "}}\n",
       "\n",
       "                        })\n",
       "                };\n",
       "                });\n",
       "            </script>\n",
       "        </div>"
      ]
     },
     "metadata": {},
     "output_type": "display_data"
    }
   ],
   "source": [
    "# Carrilero - Support\n",
    "\n",
    "fig = px.scatter(df, x=\"K Ps/90\", y=\"Pas %\", color=\"Name\",  \n",
    "        size='Age', hover_data=['Name'])\n",
    "\n",
    "fig.update_layout(\n",
    "    title=\"Carrilero = Support\",\n",
    "    xaxis_title=\"Key Passes/90\",\n",
    "    yaxis_title=\"Pass Completion %\",\n",
    "    font=dict(\n",
    "        family=\"Courier New, monospace\",\n",
    "        size=16,\n",
    "        color=\"#7f7f7f\"\n",
    "    )\n",
    ")\n",
    "fig.show()"
   ]
  },
  {
   "cell_type": "code",
   "execution_count": 12,
   "metadata": {},
   "outputs": [
    {
     "data": {
      "application/vnd.plotly.v1+json": {
       "config": {
        "plotlyServerURL": "https://plot.ly"
       },
       "data": [
        {
         "customdata": [
          [
           "Shawn Hery"
          ]
         ],
         "hovertemplate": "Name=%{customdata[0]}<br>Asts/90=%{x}<br>Ch C/90=%{y}<br>Age=%{marker.size}<extra></extra>",
         "legendgroup": "Shawn Hery",
         "marker": {
          "color": "#636efa",
          "size": [
           21
          ],
          "sizemode": "area",
          "sizeref": 0.0875,
          "symbol": "circle"
         },
         "mode": "markers",
         "name": "Shawn Hery",
         "showlegend": true,
         "type": "scatter",
         "x": [
          "-"
         ],
         "xaxis": "x",
         "y": [
          "0.45"
         ],
         "yaxis": "y"
        },
        {
         "customdata": [
          [
           "Franck Evina"
          ]
         ],
         "hovertemplate": "Name=%{customdata[0]}<br>Asts/90=%{x}<br>Ch C/90=%{y}<br>Age=%{marker.size}<extra></extra>",
         "legendgroup": "Franck Evina",
         "marker": {
          "color": "#EF553B",
          "size": [
           22
          ],
          "sizemode": "area",
          "sizeref": 0.0875,
          "symbol": "circle"
         },
         "mode": "markers",
         "name": "Franck Evina",
         "showlegend": true,
         "type": "scatter",
         "x": [
          "0.13"
         ],
         "xaxis": "x",
         "y": [
          "0.13"
         ],
         "yaxis": "y"
        },
        {
         "customdata": [
          [
           "Luca Unbehaun"
          ]
         ],
         "hovertemplate": "Name=%{customdata[0]}<br>Asts/90=%{x}<br>Ch C/90=%{y}<br>Age=%{marker.size}<extra></extra>",
         "legendgroup": "Luca Unbehaun",
         "marker": {
          "color": "#00cc96",
          "size": [
           21
          ],
          "sizemode": "area",
          "sizeref": 0.0875,
          "symbol": "circle"
         },
         "mode": "markers",
         "name": "Luca Unbehaun",
         "showlegend": true,
         "type": "scatter",
         "x": [
          "-"
         ],
         "xaxis": "x",
         "y": [
          "-"
         ],
         "yaxis": "y"
        },
        {
         "customdata": [
          [
           "Marvin Jung"
          ]
         ],
         "hovertemplate": "Name=%{customdata[0]}<br>Asts/90=%{x}<br>Ch C/90=%{y}<br>Age=%{marker.size}<extra></extra>",
         "legendgroup": "Marvin Jung",
         "marker": {
          "color": "#ab63fa",
          "size": [
           21
          ],
          "sizemode": "area",
          "sizeref": 0.0875,
          "symbol": "circle"
         },
         "mode": "markers",
         "name": "Marvin Jung",
         "showlegend": true,
         "type": "scatter",
         "x": [
          "0.22"
         ],
         "xaxis": "x",
         "y": [
          "0.36"
         ],
         "yaxis": "y"
        },
        {
         "customdata": [
          [
           "Mike Fitzner"
          ]
         ],
         "hovertemplate": "Name=%{customdata[0]}<br>Asts/90=%{x}<br>Ch C/90=%{y}<br>Age=%{marker.size}<extra></extra>",
         "legendgroup": "Mike Fitzner",
         "marker": {
          "color": "#FFA15A",
          "size": [
           18
          ],
          "sizemode": "area",
          "sizeref": 0.0875,
          "symbol": "circle"
         },
         "mode": "markers",
         "name": "Mike Fitzner",
         "showlegend": true,
         "type": "scatter",
         "x": [
          "0.29"
         ],
         "xaxis": "x",
         "y": [
          "1.02"
         ],
         "yaxis": "y"
        },
        {
         "customdata": [
          [
           "Sefer AygÃ¼n"
          ]
         ],
         "hovertemplate": "Name=%{customdata[0]}<br>Asts/90=%{x}<br>Ch C/90=%{y}<br>Age=%{marker.size}<extra></extra>",
         "legendgroup": "Sefer AygÃ¼n",
         "marker": {
          "color": "#19d3f3",
          "size": [
           18
          ],
          "sizemode": "area",
          "sizeref": 0.0875,
          "symbol": "circle"
         },
         "mode": "markers",
         "name": "Sefer AygÃ¼n",
         "showlegend": true,
         "type": "scatter",
         "x": [
          "0.35"
         ],
         "xaxis": "x",
         "y": [
          "0.71"
         ],
         "yaxis": "y"
        },
        {
         "customdata": [
          [
           "Marco Hiller"
          ]
         ],
         "hovertemplate": "Name=%{customdata[0]}<br>Asts/90=%{x}<br>Ch C/90=%{y}<br>Age=%{marker.size}<extra></extra>",
         "legendgroup": "Marco Hiller",
         "marker": {
          "color": "#FF6692",
          "size": [
           25
          ],
          "sizemode": "area",
          "sizeref": 0.0875,
          "symbol": "circle"
         },
         "mode": "markers",
         "name": "Marco Hiller",
         "showlegend": true,
         "type": "scatter",
         "x": [
          "-"
         ],
         "xaxis": "x",
         "y": [
          "-"
         ],
         "yaxis": "y"
        },
        {
         "customdata": [
          [
           "Leon Klassen"
          ]
         ],
         "hovertemplate": "Name=%{customdata[0]}<br>Asts/90=%{x}<br>Ch C/90=%{y}<br>Age=%{marker.size}<extra></extra>",
         "legendgroup": "Leon Klassen",
         "marker": {
          "color": "#B6E880",
          "size": [
           22
          ],
          "sizemode": "area",
          "sizeref": 0.0875,
          "symbol": "circle"
         },
         "mode": "markers",
         "name": "Leon Klassen",
         "showlegend": true,
         "type": "scatter",
         "x": [
          "0.26"
         ],
         "xaxis": "x",
         "y": [
          "0.53"
         ],
         "yaxis": "y"
        },
        {
         "customdata": [
          [
           "Noel Niemann"
          ]
         ],
         "hovertemplate": "Name=%{customdata[0]}<br>Asts/90=%{x}<br>Ch C/90=%{y}<br>Age=%{marker.size}<extra></extra>",
         "legendgroup": "Noel Niemann",
         "marker": {
          "color": "#FF97FF",
          "size": [
           23
          ],
          "sizemode": "area",
          "sizeref": 0.0875,
          "symbol": "circle"
         },
         "mode": "markers",
         "name": "Noel Niemann",
         "showlegend": true,
         "type": "scatter",
         "x": [
          "0.11"
         ],
         "xaxis": "x",
         "y": [
          "0.33"
         ],
         "yaxis": "y"
        },
        {
         "customdata": [
          [
           "Lucas Deaux"
          ]
         ],
         "hovertemplate": "Name=%{customdata[0]}<br>Asts/90=%{x}<br>Ch C/90=%{y}<br>Age=%{marker.size}<extra></extra>",
         "legendgroup": "Lucas Deaux",
         "marker": {
          "color": "#FECB52",
          "size": [
           33
          ],
          "sizemode": "area",
          "sizeref": 0.0875,
          "symbol": "circle"
         },
         "mode": "markers",
         "name": "Lucas Deaux",
         "showlegend": true,
         "type": "scatter",
         "x": [
          "0.11"
         ],
         "xaxis": "x",
         "y": [
          "0.23"
         ],
         "yaxis": "y"
        },
        {
         "customdata": [
          [
           "Julian Schwermann"
          ]
         ],
         "hovertemplate": "Name=%{customdata[0]}<br>Asts/90=%{x}<br>Ch C/90=%{y}<br>Age=%{marker.size}<extra></extra>",
         "legendgroup": "Julian Schwermann",
         "marker": {
          "color": "#636efa",
          "size": [
           23
          ],
          "sizemode": "area",
          "sizeref": 0.0875,
          "symbol": "circle"
         },
         "mode": "markers",
         "name": "Julian Schwermann",
         "showlegend": true,
         "type": "scatter",
         "x": [
          "-"
         ],
         "xaxis": "x",
         "y": [
          "-"
         ],
         "yaxis": "y"
        },
        {
         "customdata": [
          [
           "Oliver Kragl"
          ]
         ],
         "hovertemplate": "Name=%{customdata[0]}<br>Asts/90=%{x}<br>Ch C/90=%{y}<br>Age=%{marker.size}<extra></extra>",
         "legendgroup": "Oliver Kragl",
         "marker": {
          "color": "#EF553B",
          "size": [
           32
          ],
          "sizemode": "area",
          "sizeref": 0.0875,
          "symbol": "circle"
         },
         "mode": "markers",
         "name": "Oliver Kragl",
         "showlegend": true,
         "type": "scatter",
         "x": [
          "0.13"
         ],
         "xaxis": "x",
         "y": [
          "0.53"
         ],
         "yaxis": "y"
        },
        {
         "customdata": [
          [
           "Ben SchÃ¤fer"
          ]
         ],
         "hovertemplate": "Name=%{customdata[0]}<br>Asts/90=%{x}<br>Ch C/90=%{y}<br>Age=%{marker.size}<extra></extra>",
         "legendgroup": "Ben SchÃ¤fer",
         "marker": {
          "color": "#00cc96",
          "size": [
           18
          ],
          "sizemode": "area",
          "sizeref": 0.0875,
          "symbol": "circle"
         },
         "mode": "markers",
         "name": "Ben SchÃ¤fer",
         "showlegend": true,
         "type": "scatter",
         "x": [
          "-"
         ],
         "xaxis": "x",
         "y": [
          "-"
         ],
         "yaxis": "y"
        },
        {
         "customdata": [
          [
           "Andreas Ahlm"
          ]
         ],
         "hovertemplate": "Name=%{customdata[0]}<br>Asts/90=%{x}<br>Ch C/90=%{y}<br>Age=%{marker.size}<extra></extra>",
         "legendgroup": "Andreas Ahlm",
         "marker": {
          "color": "#ab63fa",
          "size": [
           18
          ],
          "sizemode": "area",
          "sizeref": 0.0875,
          "symbol": "circle"
         },
         "mode": "markers",
         "name": "Andreas Ahlm",
         "showlegend": true,
         "type": "scatter",
         "x": [
          "-"
         ],
         "xaxis": "x",
         "y": [
          "-"
         ],
         "yaxis": "y"
        },
        {
         "customdata": [
          [
           "Petr Dvorak"
          ]
         ],
         "hovertemplate": "Name=%{customdata[0]}<br>Asts/90=%{x}<br>Ch C/90=%{y}<br>Age=%{marker.size}<extra></extra>",
         "legendgroup": "Petr Dvorak",
         "marker": {
          "color": "#FFA15A",
          "size": [
           17
          ],
          "sizemode": "area",
          "sizeref": 0.0875,
          "symbol": "circle"
         },
         "mode": "markers",
         "name": "Petr Dvorak",
         "showlegend": true,
         "type": "scatter",
         "x": [
          "-"
         ],
         "xaxis": "x",
         "y": [
          "-"
         ],
         "yaxis": "y"
        },
        {
         "customdata": [
          [
           "Efkan Bekiroglu"
          ]
         ],
         "hovertemplate": "Name=%{customdata[0]}<br>Asts/90=%{x}<br>Ch C/90=%{y}<br>Age=%{marker.size}<extra></extra>",
         "legendgroup": "Efkan Bekiroglu",
         "marker": {
          "color": "#19d3f3",
          "size": [
           27
          ],
          "sizemode": "area",
          "sizeref": 0.0875,
          "symbol": "circle"
         },
         "mode": "markers",
         "name": "Efkan Bekiroglu",
         "showlegend": true,
         "type": "scatter",
         "x": [
          "0.11"
         ],
         "xaxis": "x",
         "y": [
          "0.22"
         ],
         "yaxis": "y"
        },
        {
         "customdata": [
          [
           "Fabian Greilinger"
          ]
         ],
         "hovertemplate": "Name=%{customdata[0]}<br>Asts/90=%{x}<br>Ch C/90=%{y}<br>Age=%{marker.size}<extra></extra>",
         "legendgroup": "Fabian Greilinger",
         "marker": {
          "color": "#FF6692",
          "size": [
           22
          ],
          "sizemode": "area",
          "sizeref": 0.0875,
          "symbol": "circle"
         },
         "mode": "markers",
         "name": "Fabian Greilinger",
         "showlegend": true,
         "type": "scatter",
         "x": [
          "0.21"
         ],
         "xaxis": "x",
         "y": [
          "-"
         ],
         "yaxis": "y"
        },
        {
         "customdata": [
          [
           "Marko Basic"
          ]
         ],
         "hovertemplate": "Name=%{customdata[0]}<br>Asts/90=%{x}<br>Ch C/90=%{y}<br>Age=%{marker.size}<extra></extra>",
         "legendgroup": "Marko Basic",
         "marker": {
          "color": "#B6E880",
          "size": [
           17
          ],
          "sizemode": "area",
          "sizeref": 0.0875,
          "symbol": "circle"
         },
         "mode": "markers",
         "name": "Marko Basic",
         "showlegend": true,
         "type": "scatter",
         "x": [
          "-"
         ],
         "xaxis": "x",
         "y": [
          "-"
         ],
         "yaxis": "y"
        },
        {
         "customdata": [
          [
           "Mert GÃ¶ckan"
          ]
         ],
         "hovertemplate": "Name=%{customdata[0]}<br>Asts/90=%{x}<br>Ch C/90=%{y}<br>Age=%{marker.size}<extra></extra>",
         "legendgroup": "Mert GÃ¶ckan",
         "marker": {
          "color": "#FF97FF",
          "size": [
           21
          ],
          "sizemode": "area",
          "sizeref": 0.0875,
          "symbol": "circle"
         },
         "mode": "markers",
         "name": "Mert GÃ¶ckan",
         "showlegend": true,
         "type": "scatter",
         "x": [
          "0.29"
         ],
         "xaxis": "x",
         "y": [
          "-"
         ],
         "yaxis": "y"
        },
        {
         "customdata": [
          [
           "Gabriel Isik"
          ]
         ],
         "hovertemplate": "Name=%{customdata[0]}<br>Asts/90=%{x}<br>Ch C/90=%{y}<br>Age=%{marker.size}<extra></extra>",
         "legendgroup": "Gabriel Isik",
         "marker": {
          "color": "#FECB52",
          "size": [
           23
          ],
          "sizemode": "area",
          "sizeref": 0.0875,
          "symbol": "circle"
         },
         "mode": "markers",
         "name": "Gabriel Isik",
         "showlegend": true,
         "type": "scatter",
         "x": [
          "-"
         ],
         "xaxis": "x",
         "y": [
          "-"
         ],
         "yaxis": "y"
        },
        {
         "customdata": [
          [
           "Pawel Majewski"
          ]
         ],
         "hovertemplate": "Name=%{customdata[0]}<br>Asts/90=%{x}<br>Ch C/90=%{y}<br>Age=%{marker.size}<extra></extra>",
         "legendgroup": "Pawel Majewski",
         "marker": {
          "color": "#636efa",
          "size": [
           18
          ],
          "sizemode": "area",
          "sizeref": 0.0875,
          "symbol": "circle"
         },
         "mode": "markers",
         "name": "Pawel Majewski",
         "showlegend": true,
         "type": "scatter",
         "x": [
          "-"
         ],
         "xaxis": "x",
         "y": [
          "0.33"
         ],
         "yaxis": "y"
        },
        {
         "customdata": [
          [
           "Peter KÃ¶ster"
          ]
         ],
         "hovertemplate": "Name=%{customdata[0]}<br>Asts/90=%{x}<br>Ch C/90=%{y}<br>Age=%{marker.size}<extra></extra>",
         "legendgroup": "Peter KÃ¶ster",
         "marker": {
          "color": "#EF553B",
          "size": [
           23
          ],
          "sizemode": "area",
          "sizeref": 0.0875,
          "symbol": "circle"
         },
         "mode": "markers",
         "name": "Peter KÃ¶ster",
         "showlegend": true,
         "type": "scatter",
         "x": [
          "-"
         ],
         "xaxis": "x",
         "y": [
          "-"
         ],
         "yaxis": "y"
        },
        {
         "customdata": [
          [
           "Abdoulaye Niang"
          ]
         ],
         "hovertemplate": "Name=%{customdata[0]}<br>Asts/90=%{x}<br>Ch C/90=%{y}<br>Age=%{marker.size}<extra></extra>",
         "legendgroup": "Abdoulaye Niang",
         "marker": {
          "color": "#00cc96",
          "size": [
           19
          ],
          "sizemode": "area",
          "sizeref": 0.0875,
          "symbol": "circle"
         },
         "mode": "markers",
         "name": "Abdoulaye Niang",
         "showlegend": true,
         "type": "scatter",
         "x": [
          "0.10"
         ],
         "xaxis": "x",
         "y": [
          "0.19"
         ],
         "yaxis": "y"
        },
        {
         "customdata": [
          [
           "Sven Bender"
          ]
         ],
         "hovertemplate": "Name=%{customdata[0]}<br>Asts/90=%{x}<br>Ch C/90=%{y}<br>Age=%{marker.size}<extra></extra>",
         "legendgroup": "Sven Bender",
         "marker": {
          "color": "#ab63fa",
          "size": [
           33
          ],
          "sizemode": "area",
          "sizeref": 0.0875,
          "symbol": "circle"
         },
         "mode": "markers",
         "name": "Sven Bender",
         "showlegend": true,
         "type": "scatter",
         "x": [
          "-"
         ],
         "xaxis": "x",
         "y": [
          "-"
         ],
         "yaxis": "y"
        },
        {
         "customdata": [
          [
           "Gary Medel"
          ]
         ],
         "hovertemplate": "Name=%{customdata[0]}<br>Asts/90=%{x}<br>Ch C/90=%{y}<br>Age=%{marker.size}<extra></extra>",
         "legendgroup": "Gary Medel",
         "marker": {
          "color": "#FFA15A",
          "size": [
           35
          ],
          "sizemode": "area",
          "sizeref": 0.0875,
          "symbol": "circle"
         },
         "mode": "markers",
         "name": "Gary Medel",
         "showlegend": true,
         "type": "scatter",
         "x": [
          "0.09"
         ],
         "xaxis": "x",
         "y": [
          "0.09"
         ],
         "yaxis": "y"
        }
       ],
       "layout": {
        "font": {
         "color": "#7f7f7f",
         "family": "Courier New, monospace",
         "size": 16
        },
        "legend": {
         "itemsizing": "constant",
         "title": {
          "text": "Name"
         },
         "tracegroupgap": 0
        },
        "margin": {
         "t": 60
        },
        "template": {
         "data": {
          "bar": [
           {
            "error_x": {
             "color": "#2a3f5f"
            },
            "error_y": {
             "color": "#2a3f5f"
            },
            "marker": {
             "line": {
              "color": "#E5ECF6",
              "width": 0.5
             }
            },
            "type": "bar"
           }
          ],
          "barpolar": [
           {
            "marker": {
             "line": {
              "color": "#E5ECF6",
              "width": 0.5
             }
            },
            "type": "barpolar"
           }
          ],
          "carpet": [
           {
            "aaxis": {
             "endlinecolor": "#2a3f5f",
             "gridcolor": "white",
             "linecolor": "white",
             "minorgridcolor": "white",
             "startlinecolor": "#2a3f5f"
            },
            "baxis": {
             "endlinecolor": "#2a3f5f",
             "gridcolor": "white",
             "linecolor": "white",
             "minorgridcolor": "white",
             "startlinecolor": "#2a3f5f"
            },
            "type": "carpet"
           }
          ],
          "choropleth": [
           {
            "colorbar": {
             "outlinewidth": 0,
             "ticks": ""
            },
            "type": "choropleth"
           }
          ],
          "contour": [
           {
            "colorbar": {
             "outlinewidth": 0,
             "ticks": ""
            },
            "colorscale": [
             [
              0,
              "#0d0887"
             ],
             [
              0.1111111111111111,
              "#46039f"
             ],
             [
              0.2222222222222222,
              "#7201a8"
             ],
             [
              0.3333333333333333,
              "#9c179e"
             ],
             [
              0.4444444444444444,
              "#bd3786"
             ],
             [
              0.5555555555555556,
              "#d8576b"
             ],
             [
              0.6666666666666666,
              "#ed7953"
             ],
             [
              0.7777777777777778,
              "#fb9f3a"
             ],
             [
              0.8888888888888888,
              "#fdca26"
             ],
             [
              1,
              "#f0f921"
             ]
            ],
            "type": "contour"
           }
          ],
          "contourcarpet": [
           {
            "colorbar": {
             "outlinewidth": 0,
             "ticks": ""
            },
            "type": "contourcarpet"
           }
          ],
          "heatmap": [
           {
            "colorbar": {
             "outlinewidth": 0,
             "ticks": ""
            },
            "colorscale": [
             [
              0,
              "#0d0887"
             ],
             [
              0.1111111111111111,
              "#46039f"
             ],
             [
              0.2222222222222222,
              "#7201a8"
             ],
             [
              0.3333333333333333,
              "#9c179e"
             ],
             [
              0.4444444444444444,
              "#bd3786"
             ],
             [
              0.5555555555555556,
              "#d8576b"
             ],
             [
              0.6666666666666666,
              "#ed7953"
             ],
             [
              0.7777777777777778,
              "#fb9f3a"
             ],
             [
              0.8888888888888888,
              "#fdca26"
             ],
             [
              1,
              "#f0f921"
             ]
            ],
            "type": "heatmap"
           }
          ],
          "heatmapgl": [
           {
            "colorbar": {
             "outlinewidth": 0,
             "ticks": ""
            },
            "colorscale": [
             [
              0,
              "#0d0887"
             ],
             [
              0.1111111111111111,
              "#46039f"
             ],
             [
              0.2222222222222222,
              "#7201a8"
             ],
             [
              0.3333333333333333,
              "#9c179e"
             ],
             [
              0.4444444444444444,
              "#bd3786"
             ],
             [
              0.5555555555555556,
              "#d8576b"
             ],
             [
              0.6666666666666666,
              "#ed7953"
             ],
             [
              0.7777777777777778,
              "#fb9f3a"
             ],
             [
              0.8888888888888888,
              "#fdca26"
             ],
             [
              1,
              "#f0f921"
             ]
            ],
            "type": "heatmapgl"
           }
          ],
          "histogram": [
           {
            "marker": {
             "colorbar": {
              "outlinewidth": 0,
              "ticks": ""
             }
            },
            "type": "histogram"
           }
          ],
          "histogram2d": [
           {
            "colorbar": {
             "outlinewidth": 0,
             "ticks": ""
            },
            "colorscale": [
             [
              0,
              "#0d0887"
             ],
             [
              0.1111111111111111,
              "#46039f"
             ],
             [
              0.2222222222222222,
              "#7201a8"
             ],
             [
              0.3333333333333333,
              "#9c179e"
             ],
             [
              0.4444444444444444,
              "#bd3786"
             ],
             [
              0.5555555555555556,
              "#d8576b"
             ],
             [
              0.6666666666666666,
              "#ed7953"
             ],
             [
              0.7777777777777778,
              "#fb9f3a"
             ],
             [
              0.8888888888888888,
              "#fdca26"
             ],
             [
              1,
              "#f0f921"
             ]
            ],
            "type": "histogram2d"
           }
          ],
          "histogram2dcontour": [
           {
            "colorbar": {
             "outlinewidth": 0,
             "ticks": ""
            },
            "colorscale": [
             [
              0,
              "#0d0887"
             ],
             [
              0.1111111111111111,
              "#46039f"
             ],
             [
              0.2222222222222222,
              "#7201a8"
             ],
             [
              0.3333333333333333,
              "#9c179e"
             ],
             [
              0.4444444444444444,
              "#bd3786"
             ],
             [
              0.5555555555555556,
              "#d8576b"
             ],
             [
              0.6666666666666666,
              "#ed7953"
             ],
             [
              0.7777777777777778,
              "#fb9f3a"
             ],
             [
              0.8888888888888888,
              "#fdca26"
             ],
             [
              1,
              "#f0f921"
             ]
            ],
            "type": "histogram2dcontour"
           }
          ],
          "mesh3d": [
           {
            "colorbar": {
             "outlinewidth": 0,
             "ticks": ""
            },
            "type": "mesh3d"
           }
          ],
          "parcoords": [
           {
            "line": {
             "colorbar": {
              "outlinewidth": 0,
              "ticks": ""
             }
            },
            "type": "parcoords"
           }
          ],
          "pie": [
           {
            "automargin": true,
            "type": "pie"
           }
          ],
          "scatter": [
           {
            "marker": {
             "colorbar": {
              "outlinewidth": 0,
              "ticks": ""
             }
            },
            "type": "scatter"
           }
          ],
          "scatter3d": [
           {
            "line": {
             "colorbar": {
              "outlinewidth": 0,
              "ticks": ""
             }
            },
            "marker": {
             "colorbar": {
              "outlinewidth": 0,
              "ticks": ""
             }
            },
            "type": "scatter3d"
           }
          ],
          "scattercarpet": [
           {
            "marker": {
             "colorbar": {
              "outlinewidth": 0,
              "ticks": ""
             }
            },
            "type": "scattercarpet"
           }
          ],
          "scattergeo": [
           {
            "marker": {
             "colorbar": {
              "outlinewidth": 0,
              "ticks": ""
             }
            },
            "type": "scattergeo"
           }
          ],
          "scattergl": [
           {
            "marker": {
             "colorbar": {
              "outlinewidth": 0,
              "ticks": ""
             }
            },
            "type": "scattergl"
           }
          ],
          "scattermapbox": [
           {
            "marker": {
             "colorbar": {
              "outlinewidth": 0,
              "ticks": ""
             }
            },
            "type": "scattermapbox"
           }
          ],
          "scatterpolar": [
           {
            "marker": {
             "colorbar": {
              "outlinewidth": 0,
              "ticks": ""
             }
            },
            "type": "scatterpolar"
           }
          ],
          "scatterpolargl": [
           {
            "marker": {
             "colorbar": {
              "outlinewidth": 0,
              "ticks": ""
             }
            },
            "type": "scatterpolargl"
           }
          ],
          "scatterternary": [
           {
            "marker": {
             "colorbar": {
              "outlinewidth": 0,
              "ticks": ""
             }
            },
            "type": "scatterternary"
           }
          ],
          "surface": [
           {
            "colorbar": {
             "outlinewidth": 0,
             "ticks": ""
            },
            "colorscale": [
             [
              0,
              "#0d0887"
             ],
             [
              0.1111111111111111,
              "#46039f"
             ],
             [
              0.2222222222222222,
              "#7201a8"
             ],
             [
              0.3333333333333333,
              "#9c179e"
             ],
             [
              0.4444444444444444,
              "#bd3786"
             ],
             [
              0.5555555555555556,
              "#d8576b"
             ],
             [
              0.6666666666666666,
              "#ed7953"
             ],
             [
              0.7777777777777778,
              "#fb9f3a"
             ],
             [
              0.8888888888888888,
              "#fdca26"
             ],
             [
              1,
              "#f0f921"
             ]
            ],
            "type": "surface"
           }
          ],
          "table": [
           {
            "cells": {
             "fill": {
              "color": "#EBF0F8"
             },
             "line": {
              "color": "white"
             }
            },
            "header": {
             "fill": {
              "color": "#C8D4E3"
             },
             "line": {
              "color": "white"
             }
            },
            "type": "table"
           }
          ]
         },
         "layout": {
          "annotationdefaults": {
           "arrowcolor": "#2a3f5f",
           "arrowhead": 0,
           "arrowwidth": 1
          },
          "coloraxis": {
           "colorbar": {
            "outlinewidth": 0,
            "ticks": ""
           }
          },
          "colorscale": {
           "diverging": [
            [
             0,
             "#8e0152"
            ],
            [
             0.1,
             "#c51b7d"
            ],
            [
             0.2,
             "#de77ae"
            ],
            [
             0.3,
             "#f1b6da"
            ],
            [
             0.4,
             "#fde0ef"
            ],
            [
             0.5,
             "#f7f7f7"
            ],
            [
             0.6,
             "#e6f5d0"
            ],
            [
             0.7,
             "#b8e186"
            ],
            [
             0.8,
             "#7fbc41"
            ],
            [
             0.9,
             "#4d9221"
            ],
            [
             1,
             "#276419"
            ]
           ],
           "sequential": [
            [
             0,
             "#0d0887"
            ],
            [
             0.1111111111111111,
             "#46039f"
            ],
            [
             0.2222222222222222,
             "#7201a8"
            ],
            [
             0.3333333333333333,
             "#9c179e"
            ],
            [
             0.4444444444444444,
             "#bd3786"
            ],
            [
             0.5555555555555556,
             "#d8576b"
            ],
            [
             0.6666666666666666,
             "#ed7953"
            ],
            [
             0.7777777777777778,
             "#fb9f3a"
            ],
            [
             0.8888888888888888,
             "#fdca26"
            ],
            [
             1,
             "#f0f921"
            ]
           ],
           "sequentialminus": [
            [
             0,
             "#0d0887"
            ],
            [
             0.1111111111111111,
             "#46039f"
            ],
            [
             0.2222222222222222,
             "#7201a8"
            ],
            [
             0.3333333333333333,
             "#9c179e"
            ],
            [
             0.4444444444444444,
             "#bd3786"
            ],
            [
             0.5555555555555556,
             "#d8576b"
            ],
            [
             0.6666666666666666,
             "#ed7953"
            ],
            [
             0.7777777777777778,
             "#fb9f3a"
            ],
            [
             0.8888888888888888,
             "#fdca26"
            ],
            [
             1,
             "#f0f921"
            ]
           ]
          },
          "colorway": [
           "#636efa",
           "#EF553B",
           "#00cc96",
           "#ab63fa",
           "#FFA15A",
           "#19d3f3",
           "#FF6692",
           "#B6E880",
           "#FF97FF",
           "#FECB52"
          ],
          "font": {
           "color": "#2a3f5f"
          },
          "geo": {
           "bgcolor": "white",
           "lakecolor": "white",
           "landcolor": "#E5ECF6",
           "showlakes": true,
           "showland": true,
           "subunitcolor": "white"
          },
          "hoverlabel": {
           "align": "left"
          },
          "hovermode": "closest",
          "mapbox": {
           "style": "light"
          },
          "paper_bgcolor": "white",
          "plot_bgcolor": "#E5ECF6",
          "polar": {
           "angularaxis": {
            "gridcolor": "white",
            "linecolor": "white",
            "ticks": ""
           },
           "bgcolor": "#E5ECF6",
           "radialaxis": {
            "gridcolor": "white",
            "linecolor": "white",
            "ticks": ""
           }
          },
          "scene": {
           "xaxis": {
            "backgroundcolor": "#E5ECF6",
            "gridcolor": "white",
            "gridwidth": 2,
            "linecolor": "white",
            "showbackground": true,
            "ticks": "",
            "zerolinecolor": "white"
           },
           "yaxis": {
            "backgroundcolor": "#E5ECF6",
            "gridcolor": "white",
            "gridwidth": 2,
            "linecolor": "white",
            "showbackground": true,
            "ticks": "",
            "zerolinecolor": "white"
           },
           "zaxis": {
            "backgroundcolor": "#E5ECF6",
            "gridcolor": "white",
            "gridwidth": 2,
            "linecolor": "white",
            "showbackground": true,
            "ticks": "",
            "zerolinecolor": "white"
           }
          },
          "shapedefaults": {
           "line": {
            "color": "#2a3f5f"
           }
          },
          "ternary": {
           "aaxis": {
            "gridcolor": "white",
            "linecolor": "white",
            "ticks": ""
           },
           "baxis": {
            "gridcolor": "white",
            "linecolor": "white",
            "ticks": ""
           },
           "bgcolor": "#E5ECF6",
           "caxis": {
            "gridcolor": "white",
            "linecolor": "white",
            "ticks": ""
           }
          },
          "title": {
           "x": 0.05
          },
          "xaxis": {
           "automargin": true,
           "gridcolor": "white",
           "linecolor": "white",
           "ticks": "",
           "title": {
            "standoff": 15
           },
           "zerolinecolor": "white",
           "zerolinewidth": 2
          },
          "yaxis": {
           "automargin": true,
           "gridcolor": "white",
           "linecolor": "white",
           "ticks": "",
           "title": {
            "standoff": 15
           },
           "zerolinecolor": "white",
           "zerolinewidth": 2
          }
         }
        },
        "title": {
         "text": "Inside Forward - Support"
        },
        "xaxis": {
         "anchor": "y",
         "domain": [
          0,
          1
         ],
         "title": {
          "text": "Assists/90"
         }
        },
        "yaxis": {
         "anchor": "x",
         "domain": [
          0,
          1
         ],
         "title": {
          "text": "Chances Created/90"
         }
        }
       }
      },
      "text/html": [
       "<div>\n",
       "        \n",
       "        \n",
       "            <div id=\"5e82f09d-f7a2-4dd3-b517-df36c871a052\" class=\"plotly-graph-div\" style=\"height:525px; width:100%;\"></div>\n",
       "            <script type=\"text/javascript\">\n",
       "                require([\"plotly\"], function(Plotly) {\n",
       "                    window.PLOTLYENV=window.PLOTLYENV || {};\n",
       "                    \n",
       "                if (document.getElementById(\"5e82f09d-f7a2-4dd3-b517-df36c871a052\")) {\n",
       "                    Plotly.newPlot(\n",
       "                        '5e82f09d-f7a2-4dd3-b517-df36c871a052',\n",
       "                        [{\"customdata\": [[\"Shawn Hery\"]], \"hovertemplate\": \"Name=%{customdata[0]}<br>Asts/90=%{x}<br>Ch C/90=%{y}<br>Age=%{marker.size}<extra></extra>\", \"legendgroup\": \"Shawn Hery\", \"marker\": {\"color\": \"#636efa\", \"size\": [21], \"sizemode\": \"area\", \"sizeref\": 0.0875, \"symbol\": \"circle\"}, \"mode\": \"markers\", \"name\": \"Shawn Hery\", \"showlegend\": true, \"type\": \"scatter\", \"x\": [\"-\"], \"xaxis\": \"x\", \"y\": [\"0.45\"], \"yaxis\": \"y\"}, {\"customdata\": [[\"Franck Evina\"]], \"hovertemplate\": \"Name=%{customdata[0]}<br>Asts/90=%{x}<br>Ch C/90=%{y}<br>Age=%{marker.size}<extra></extra>\", \"legendgroup\": \"Franck Evina\", \"marker\": {\"color\": \"#EF553B\", \"size\": [22], \"sizemode\": \"area\", \"sizeref\": 0.0875, \"symbol\": \"circle\"}, \"mode\": \"markers\", \"name\": \"Franck Evina\", \"showlegend\": true, \"type\": \"scatter\", \"x\": [\"0.13\"], \"xaxis\": \"x\", \"y\": [\"0.13\"], \"yaxis\": \"y\"}, {\"customdata\": [[\"Luca Unbehaun\"]], \"hovertemplate\": \"Name=%{customdata[0]}<br>Asts/90=%{x}<br>Ch C/90=%{y}<br>Age=%{marker.size}<extra></extra>\", \"legendgroup\": \"Luca Unbehaun\", \"marker\": {\"color\": \"#00cc96\", \"size\": [21], \"sizemode\": \"area\", \"sizeref\": 0.0875, \"symbol\": \"circle\"}, \"mode\": \"markers\", \"name\": \"Luca Unbehaun\", \"showlegend\": true, \"type\": \"scatter\", \"x\": [\"-\"], \"xaxis\": \"x\", \"y\": [\"-\"], \"yaxis\": \"y\"}, {\"customdata\": [[\"Marvin Jung\"]], \"hovertemplate\": \"Name=%{customdata[0]}<br>Asts/90=%{x}<br>Ch C/90=%{y}<br>Age=%{marker.size}<extra></extra>\", \"legendgroup\": \"Marvin Jung\", \"marker\": {\"color\": \"#ab63fa\", \"size\": [21], \"sizemode\": \"area\", \"sizeref\": 0.0875, \"symbol\": \"circle\"}, \"mode\": \"markers\", \"name\": \"Marvin Jung\", \"showlegend\": true, \"type\": \"scatter\", \"x\": [\"0.22\"], \"xaxis\": \"x\", \"y\": [\"0.36\"], \"yaxis\": \"y\"}, {\"customdata\": [[\"Mike Fitzner\"]], \"hovertemplate\": \"Name=%{customdata[0]}<br>Asts/90=%{x}<br>Ch C/90=%{y}<br>Age=%{marker.size}<extra></extra>\", \"legendgroup\": \"Mike Fitzner\", \"marker\": {\"color\": \"#FFA15A\", \"size\": [18], \"sizemode\": \"area\", \"sizeref\": 0.0875, \"symbol\": \"circle\"}, \"mode\": \"markers\", \"name\": \"Mike Fitzner\", \"showlegend\": true, \"type\": \"scatter\", \"x\": [\"0.29\"], \"xaxis\": \"x\", \"y\": [\"1.02\"], \"yaxis\": \"y\"}, {\"customdata\": [[\"Sefer Ayg\\u00c3\\u00bcn\"]], \"hovertemplate\": \"Name=%{customdata[0]}<br>Asts/90=%{x}<br>Ch C/90=%{y}<br>Age=%{marker.size}<extra></extra>\", \"legendgroup\": \"Sefer Ayg\\u00c3\\u00bcn\", \"marker\": {\"color\": \"#19d3f3\", \"size\": [18], \"sizemode\": \"area\", \"sizeref\": 0.0875, \"symbol\": \"circle\"}, \"mode\": \"markers\", \"name\": \"Sefer Ayg\\u00c3\\u00bcn\", \"showlegend\": true, \"type\": \"scatter\", \"x\": [\"0.35\"], \"xaxis\": \"x\", \"y\": [\"0.71\"], \"yaxis\": \"y\"}, {\"customdata\": [[\"Marco Hiller\"]], \"hovertemplate\": \"Name=%{customdata[0]}<br>Asts/90=%{x}<br>Ch C/90=%{y}<br>Age=%{marker.size}<extra></extra>\", \"legendgroup\": \"Marco Hiller\", \"marker\": {\"color\": \"#FF6692\", \"size\": [25], \"sizemode\": \"area\", \"sizeref\": 0.0875, \"symbol\": \"circle\"}, \"mode\": \"markers\", \"name\": \"Marco Hiller\", \"showlegend\": true, \"type\": \"scatter\", \"x\": [\"-\"], \"xaxis\": \"x\", \"y\": [\"-\"], \"yaxis\": \"y\"}, {\"customdata\": [[\"Leon Klassen\"]], \"hovertemplate\": \"Name=%{customdata[0]}<br>Asts/90=%{x}<br>Ch C/90=%{y}<br>Age=%{marker.size}<extra></extra>\", \"legendgroup\": \"Leon Klassen\", \"marker\": {\"color\": \"#B6E880\", \"size\": [22], \"sizemode\": \"area\", \"sizeref\": 0.0875, \"symbol\": \"circle\"}, \"mode\": \"markers\", \"name\": \"Leon Klassen\", \"showlegend\": true, \"type\": \"scatter\", \"x\": [\"0.26\"], \"xaxis\": \"x\", \"y\": [\"0.53\"], \"yaxis\": \"y\"}, {\"customdata\": [[\"Noel Niemann\"]], \"hovertemplate\": \"Name=%{customdata[0]}<br>Asts/90=%{x}<br>Ch C/90=%{y}<br>Age=%{marker.size}<extra></extra>\", \"legendgroup\": \"Noel Niemann\", \"marker\": {\"color\": \"#FF97FF\", \"size\": [23], \"sizemode\": \"area\", \"sizeref\": 0.0875, \"symbol\": \"circle\"}, \"mode\": \"markers\", \"name\": \"Noel Niemann\", \"showlegend\": true, \"type\": \"scatter\", \"x\": [\"0.11\"], \"xaxis\": \"x\", \"y\": [\"0.33\"], \"yaxis\": \"y\"}, {\"customdata\": [[\"Lucas Deaux\"]], \"hovertemplate\": \"Name=%{customdata[0]}<br>Asts/90=%{x}<br>Ch C/90=%{y}<br>Age=%{marker.size}<extra></extra>\", \"legendgroup\": \"Lucas Deaux\", \"marker\": {\"color\": \"#FECB52\", \"size\": [33], \"sizemode\": \"area\", \"sizeref\": 0.0875, \"symbol\": \"circle\"}, \"mode\": \"markers\", \"name\": \"Lucas Deaux\", \"showlegend\": true, \"type\": \"scatter\", \"x\": [\"0.11\"], \"xaxis\": \"x\", \"y\": [\"0.23\"], \"yaxis\": \"y\"}, {\"customdata\": [[\"Julian Schwermann\"]], \"hovertemplate\": \"Name=%{customdata[0]}<br>Asts/90=%{x}<br>Ch C/90=%{y}<br>Age=%{marker.size}<extra></extra>\", \"legendgroup\": \"Julian Schwermann\", \"marker\": {\"color\": \"#636efa\", \"size\": [23], \"sizemode\": \"area\", \"sizeref\": 0.0875, \"symbol\": \"circle\"}, \"mode\": \"markers\", \"name\": \"Julian Schwermann\", \"showlegend\": true, \"type\": \"scatter\", \"x\": [\"-\"], \"xaxis\": \"x\", \"y\": [\"-\"], \"yaxis\": \"y\"}, {\"customdata\": [[\"Oliver Kragl\"]], \"hovertemplate\": \"Name=%{customdata[0]}<br>Asts/90=%{x}<br>Ch C/90=%{y}<br>Age=%{marker.size}<extra></extra>\", \"legendgroup\": \"Oliver Kragl\", \"marker\": {\"color\": \"#EF553B\", \"size\": [32], \"sizemode\": \"area\", \"sizeref\": 0.0875, \"symbol\": \"circle\"}, \"mode\": \"markers\", \"name\": \"Oliver Kragl\", \"showlegend\": true, \"type\": \"scatter\", \"x\": [\"0.13\"], \"xaxis\": \"x\", \"y\": [\"0.53\"], \"yaxis\": \"y\"}, {\"customdata\": [[\"Ben Sch\\u00c3\\u00a4fer\"]], \"hovertemplate\": \"Name=%{customdata[0]}<br>Asts/90=%{x}<br>Ch C/90=%{y}<br>Age=%{marker.size}<extra></extra>\", \"legendgroup\": \"Ben Sch\\u00c3\\u00a4fer\", \"marker\": {\"color\": \"#00cc96\", \"size\": [18], \"sizemode\": \"area\", \"sizeref\": 0.0875, \"symbol\": \"circle\"}, \"mode\": \"markers\", \"name\": \"Ben Sch\\u00c3\\u00a4fer\", \"showlegend\": true, \"type\": \"scatter\", \"x\": [\"-\"], \"xaxis\": \"x\", \"y\": [\"-\"], \"yaxis\": \"y\"}, {\"customdata\": [[\"Andreas Ahlm\"]], \"hovertemplate\": \"Name=%{customdata[0]}<br>Asts/90=%{x}<br>Ch C/90=%{y}<br>Age=%{marker.size}<extra></extra>\", \"legendgroup\": \"Andreas Ahlm\", \"marker\": {\"color\": \"#ab63fa\", \"size\": [18], \"sizemode\": \"area\", \"sizeref\": 0.0875, \"symbol\": \"circle\"}, \"mode\": \"markers\", \"name\": \"Andreas Ahlm\", \"showlegend\": true, \"type\": \"scatter\", \"x\": [\"-\"], \"xaxis\": \"x\", \"y\": [\"-\"], \"yaxis\": \"y\"}, {\"customdata\": [[\"Petr Dvorak\"]], \"hovertemplate\": \"Name=%{customdata[0]}<br>Asts/90=%{x}<br>Ch C/90=%{y}<br>Age=%{marker.size}<extra></extra>\", \"legendgroup\": \"Petr Dvorak\", \"marker\": {\"color\": \"#FFA15A\", \"size\": [17], \"sizemode\": \"area\", \"sizeref\": 0.0875, \"symbol\": \"circle\"}, \"mode\": \"markers\", \"name\": \"Petr Dvorak\", \"showlegend\": true, \"type\": \"scatter\", \"x\": [\"-\"], \"xaxis\": \"x\", \"y\": [\"-\"], \"yaxis\": \"y\"}, {\"customdata\": [[\"Efkan Bekiroglu\"]], \"hovertemplate\": \"Name=%{customdata[0]}<br>Asts/90=%{x}<br>Ch C/90=%{y}<br>Age=%{marker.size}<extra></extra>\", \"legendgroup\": \"Efkan Bekiroglu\", \"marker\": {\"color\": \"#19d3f3\", \"size\": [27], \"sizemode\": \"area\", \"sizeref\": 0.0875, \"symbol\": \"circle\"}, \"mode\": \"markers\", \"name\": \"Efkan Bekiroglu\", \"showlegend\": true, \"type\": \"scatter\", \"x\": [\"0.11\"], \"xaxis\": \"x\", \"y\": [\"0.22\"], \"yaxis\": \"y\"}, {\"customdata\": [[\"Fabian Greilinger\"]], \"hovertemplate\": \"Name=%{customdata[0]}<br>Asts/90=%{x}<br>Ch C/90=%{y}<br>Age=%{marker.size}<extra></extra>\", \"legendgroup\": \"Fabian Greilinger\", \"marker\": {\"color\": \"#FF6692\", \"size\": [22], \"sizemode\": \"area\", \"sizeref\": 0.0875, \"symbol\": \"circle\"}, \"mode\": \"markers\", \"name\": \"Fabian Greilinger\", \"showlegend\": true, \"type\": \"scatter\", \"x\": [\"0.21\"], \"xaxis\": \"x\", \"y\": [\"-\"], \"yaxis\": \"y\"}, {\"customdata\": [[\"Marko Basic\"]], \"hovertemplate\": \"Name=%{customdata[0]}<br>Asts/90=%{x}<br>Ch C/90=%{y}<br>Age=%{marker.size}<extra></extra>\", \"legendgroup\": \"Marko Basic\", \"marker\": {\"color\": \"#B6E880\", \"size\": [17], \"sizemode\": \"area\", \"sizeref\": 0.0875, \"symbol\": \"circle\"}, \"mode\": \"markers\", \"name\": \"Marko Basic\", \"showlegend\": true, \"type\": \"scatter\", \"x\": [\"-\"], \"xaxis\": \"x\", \"y\": [\"-\"], \"yaxis\": \"y\"}, {\"customdata\": [[\"Mert G\\u00c3\\u00b6ckan\"]], \"hovertemplate\": \"Name=%{customdata[0]}<br>Asts/90=%{x}<br>Ch C/90=%{y}<br>Age=%{marker.size}<extra></extra>\", \"legendgroup\": \"Mert G\\u00c3\\u00b6ckan\", \"marker\": {\"color\": \"#FF97FF\", \"size\": [21], \"sizemode\": \"area\", \"sizeref\": 0.0875, \"symbol\": \"circle\"}, \"mode\": \"markers\", \"name\": \"Mert G\\u00c3\\u00b6ckan\", \"showlegend\": true, \"type\": \"scatter\", \"x\": [\"0.29\"], \"xaxis\": \"x\", \"y\": [\"-\"], \"yaxis\": \"y\"}, {\"customdata\": [[\"Gabriel Isik\"]], \"hovertemplate\": \"Name=%{customdata[0]}<br>Asts/90=%{x}<br>Ch C/90=%{y}<br>Age=%{marker.size}<extra></extra>\", \"legendgroup\": \"Gabriel Isik\", \"marker\": {\"color\": \"#FECB52\", \"size\": [23], \"sizemode\": \"area\", \"sizeref\": 0.0875, \"symbol\": \"circle\"}, \"mode\": \"markers\", \"name\": \"Gabriel Isik\", \"showlegend\": true, \"type\": \"scatter\", \"x\": [\"-\"], \"xaxis\": \"x\", \"y\": [\"-\"], \"yaxis\": \"y\"}, {\"customdata\": [[\"Pawel Majewski\"]], \"hovertemplate\": \"Name=%{customdata[0]}<br>Asts/90=%{x}<br>Ch C/90=%{y}<br>Age=%{marker.size}<extra></extra>\", \"legendgroup\": \"Pawel Majewski\", \"marker\": {\"color\": \"#636efa\", \"size\": [18], \"sizemode\": \"area\", \"sizeref\": 0.0875, \"symbol\": \"circle\"}, \"mode\": \"markers\", \"name\": \"Pawel Majewski\", \"showlegend\": true, \"type\": \"scatter\", \"x\": [\"-\"], \"xaxis\": \"x\", \"y\": [\"0.33\"], \"yaxis\": \"y\"}, {\"customdata\": [[\"Peter K\\u00c3\\u00b6ster\"]], \"hovertemplate\": \"Name=%{customdata[0]}<br>Asts/90=%{x}<br>Ch C/90=%{y}<br>Age=%{marker.size}<extra></extra>\", \"legendgroup\": \"Peter K\\u00c3\\u00b6ster\", \"marker\": {\"color\": \"#EF553B\", \"size\": [23], \"sizemode\": \"area\", \"sizeref\": 0.0875, \"symbol\": \"circle\"}, \"mode\": \"markers\", \"name\": \"Peter K\\u00c3\\u00b6ster\", \"showlegend\": true, \"type\": \"scatter\", \"x\": [\"-\"], \"xaxis\": \"x\", \"y\": [\"-\"], \"yaxis\": \"y\"}, {\"customdata\": [[\"Abdoulaye Niang\"]], \"hovertemplate\": \"Name=%{customdata[0]}<br>Asts/90=%{x}<br>Ch C/90=%{y}<br>Age=%{marker.size}<extra></extra>\", \"legendgroup\": \"Abdoulaye Niang\", \"marker\": {\"color\": \"#00cc96\", \"size\": [19], \"sizemode\": \"area\", \"sizeref\": 0.0875, \"symbol\": \"circle\"}, \"mode\": \"markers\", \"name\": \"Abdoulaye Niang\", \"showlegend\": true, \"type\": \"scatter\", \"x\": [\"0.10\"], \"xaxis\": \"x\", \"y\": [\"0.19\"], \"yaxis\": \"y\"}, {\"customdata\": [[\"Sven Bender\"]], \"hovertemplate\": \"Name=%{customdata[0]}<br>Asts/90=%{x}<br>Ch C/90=%{y}<br>Age=%{marker.size}<extra></extra>\", \"legendgroup\": \"Sven Bender\", \"marker\": {\"color\": \"#ab63fa\", \"size\": [33], \"sizemode\": \"area\", \"sizeref\": 0.0875, \"symbol\": \"circle\"}, \"mode\": \"markers\", \"name\": \"Sven Bender\", \"showlegend\": true, \"type\": \"scatter\", \"x\": [\"-\"], \"xaxis\": \"x\", \"y\": [\"-\"], \"yaxis\": \"y\"}, {\"customdata\": [[\"Gary Medel\"]], \"hovertemplate\": \"Name=%{customdata[0]}<br>Asts/90=%{x}<br>Ch C/90=%{y}<br>Age=%{marker.size}<extra></extra>\", \"legendgroup\": \"Gary Medel\", \"marker\": {\"color\": \"#FFA15A\", \"size\": [35], \"sizemode\": \"area\", \"sizeref\": 0.0875, \"symbol\": \"circle\"}, \"mode\": \"markers\", \"name\": \"Gary Medel\", \"showlegend\": true, \"type\": \"scatter\", \"x\": [\"0.09\"], \"xaxis\": \"x\", \"y\": [\"0.09\"], \"yaxis\": \"y\"}],\n",
       "                        {\"font\": {\"color\": \"#7f7f7f\", \"family\": \"Courier New, monospace\", \"size\": 16}, \"legend\": {\"itemsizing\": \"constant\", \"title\": {\"text\": \"Name\"}, \"tracegroupgap\": 0}, \"margin\": {\"t\": 60}, \"template\": {\"data\": {\"bar\": [{\"error_x\": {\"color\": \"#2a3f5f\"}, \"error_y\": {\"color\": \"#2a3f5f\"}, \"marker\": {\"line\": {\"color\": \"#E5ECF6\", \"width\": 0.5}}, \"type\": \"bar\"}], \"barpolar\": [{\"marker\": {\"line\": {\"color\": \"#E5ECF6\", \"width\": 0.5}}, \"type\": \"barpolar\"}], \"carpet\": [{\"aaxis\": {\"endlinecolor\": \"#2a3f5f\", \"gridcolor\": \"white\", \"linecolor\": \"white\", \"minorgridcolor\": \"white\", \"startlinecolor\": \"#2a3f5f\"}, \"baxis\": {\"endlinecolor\": \"#2a3f5f\", \"gridcolor\": \"white\", \"linecolor\": \"white\", \"minorgridcolor\": \"white\", \"startlinecolor\": \"#2a3f5f\"}, \"type\": \"carpet\"}], \"choropleth\": [{\"colorbar\": {\"outlinewidth\": 0, \"ticks\": \"\"}, \"type\": \"choropleth\"}], \"contour\": [{\"colorbar\": {\"outlinewidth\": 0, \"ticks\": \"\"}, \"colorscale\": [[0.0, \"#0d0887\"], [0.1111111111111111, \"#46039f\"], [0.2222222222222222, \"#7201a8\"], [0.3333333333333333, \"#9c179e\"], [0.4444444444444444, \"#bd3786\"], [0.5555555555555556, \"#d8576b\"], [0.6666666666666666, \"#ed7953\"], [0.7777777777777778, \"#fb9f3a\"], [0.8888888888888888, \"#fdca26\"], [1.0, \"#f0f921\"]], \"type\": \"contour\"}], \"contourcarpet\": [{\"colorbar\": {\"outlinewidth\": 0, \"ticks\": \"\"}, \"type\": \"contourcarpet\"}], \"heatmap\": [{\"colorbar\": {\"outlinewidth\": 0, \"ticks\": \"\"}, \"colorscale\": [[0.0, \"#0d0887\"], [0.1111111111111111, \"#46039f\"], [0.2222222222222222, \"#7201a8\"], [0.3333333333333333, \"#9c179e\"], [0.4444444444444444, \"#bd3786\"], [0.5555555555555556, \"#d8576b\"], [0.6666666666666666, \"#ed7953\"], [0.7777777777777778, \"#fb9f3a\"], [0.8888888888888888, \"#fdca26\"], [1.0, \"#f0f921\"]], \"type\": \"heatmap\"}], \"heatmapgl\": [{\"colorbar\": {\"outlinewidth\": 0, \"ticks\": \"\"}, \"colorscale\": [[0.0, \"#0d0887\"], [0.1111111111111111, \"#46039f\"], [0.2222222222222222, \"#7201a8\"], [0.3333333333333333, \"#9c179e\"], [0.4444444444444444, \"#bd3786\"], [0.5555555555555556, \"#d8576b\"], [0.6666666666666666, \"#ed7953\"], [0.7777777777777778, \"#fb9f3a\"], [0.8888888888888888, \"#fdca26\"], [1.0, \"#f0f921\"]], \"type\": \"heatmapgl\"}], \"histogram\": [{\"marker\": {\"colorbar\": {\"outlinewidth\": 0, \"ticks\": \"\"}}, \"type\": \"histogram\"}], \"histogram2d\": [{\"colorbar\": {\"outlinewidth\": 0, \"ticks\": \"\"}, \"colorscale\": [[0.0, \"#0d0887\"], [0.1111111111111111, \"#46039f\"], [0.2222222222222222, \"#7201a8\"], [0.3333333333333333, \"#9c179e\"], [0.4444444444444444, \"#bd3786\"], [0.5555555555555556, \"#d8576b\"], [0.6666666666666666, \"#ed7953\"], [0.7777777777777778, \"#fb9f3a\"], [0.8888888888888888, \"#fdca26\"], [1.0, \"#f0f921\"]], \"type\": \"histogram2d\"}], \"histogram2dcontour\": [{\"colorbar\": {\"outlinewidth\": 0, \"ticks\": \"\"}, \"colorscale\": [[0.0, \"#0d0887\"], [0.1111111111111111, \"#46039f\"], [0.2222222222222222, \"#7201a8\"], [0.3333333333333333, \"#9c179e\"], [0.4444444444444444, \"#bd3786\"], [0.5555555555555556, \"#d8576b\"], [0.6666666666666666, \"#ed7953\"], [0.7777777777777778, \"#fb9f3a\"], [0.8888888888888888, \"#fdca26\"], [1.0, \"#f0f921\"]], \"type\": \"histogram2dcontour\"}], \"mesh3d\": [{\"colorbar\": {\"outlinewidth\": 0, \"ticks\": \"\"}, \"type\": \"mesh3d\"}], \"parcoords\": [{\"line\": {\"colorbar\": {\"outlinewidth\": 0, \"ticks\": \"\"}}, \"type\": \"parcoords\"}], \"pie\": [{\"automargin\": true, \"type\": \"pie\"}], \"scatter\": [{\"marker\": {\"colorbar\": {\"outlinewidth\": 0, \"ticks\": \"\"}}, \"type\": \"scatter\"}], \"scatter3d\": [{\"line\": {\"colorbar\": {\"outlinewidth\": 0, \"ticks\": \"\"}}, \"marker\": {\"colorbar\": {\"outlinewidth\": 0, \"ticks\": \"\"}}, \"type\": \"scatter3d\"}], \"scattercarpet\": [{\"marker\": {\"colorbar\": {\"outlinewidth\": 0, \"ticks\": \"\"}}, \"type\": \"scattercarpet\"}], \"scattergeo\": [{\"marker\": {\"colorbar\": {\"outlinewidth\": 0, \"ticks\": \"\"}}, \"type\": \"scattergeo\"}], \"scattergl\": [{\"marker\": {\"colorbar\": {\"outlinewidth\": 0, \"ticks\": \"\"}}, \"type\": \"scattergl\"}], \"scattermapbox\": [{\"marker\": {\"colorbar\": {\"outlinewidth\": 0, \"ticks\": \"\"}}, \"type\": \"scattermapbox\"}], \"scatterpolar\": [{\"marker\": {\"colorbar\": {\"outlinewidth\": 0, \"ticks\": \"\"}}, \"type\": \"scatterpolar\"}], \"scatterpolargl\": [{\"marker\": {\"colorbar\": {\"outlinewidth\": 0, \"ticks\": \"\"}}, \"type\": \"scatterpolargl\"}], \"scatterternary\": [{\"marker\": {\"colorbar\": {\"outlinewidth\": 0, \"ticks\": \"\"}}, \"type\": \"scatterternary\"}], \"surface\": [{\"colorbar\": {\"outlinewidth\": 0, \"ticks\": \"\"}, \"colorscale\": [[0.0, \"#0d0887\"], [0.1111111111111111, \"#46039f\"], [0.2222222222222222, \"#7201a8\"], [0.3333333333333333, \"#9c179e\"], [0.4444444444444444, \"#bd3786\"], [0.5555555555555556, \"#d8576b\"], [0.6666666666666666, \"#ed7953\"], [0.7777777777777778, \"#fb9f3a\"], [0.8888888888888888, \"#fdca26\"], [1.0, \"#f0f921\"]], \"type\": \"surface\"}], \"table\": [{\"cells\": {\"fill\": {\"color\": \"#EBF0F8\"}, \"line\": {\"color\": \"white\"}}, \"header\": {\"fill\": {\"color\": \"#C8D4E3\"}, \"line\": {\"color\": \"white\"}}, \"type\": \"table\"}]}, \"layout\": {\"annotationdefaults\": {\"arrowcolor\": \"#2a3f5f\", \"arrowhead\": 0, \"arrowwidth\": 1}, \"coloraxis\": {\"colorbar\": {\"outlinewidth\": 0, \"ticks\": \"\"}}, \"colorscale\": {\"diverging\": [[0, \"#8e0152\"], [0.1, \"#c51b7d\"], [0.2, \"#de77ae\"], [0.3, \"#f1b6da\"], [0.4, \"#fde0ef\"], [0.5, \"#f7f7f7\"], [0.6, \"#e6f5d0\"], [0.7, \"#b8e186\"], [0.8, \"#7fbc41\"], [0.9, \"#4d9221\"], [1, \"#276419\"]], \"sequential\": [[0.0, \"#0d0887\"], [0.1111111111111111, \"#46039f\"], [0.2222222222222222, \"#7201a8\"], [0.3333333333333333, \"#9c179e\"], [0.4444444444444444, \"#bd3786\"], [0.5555555555555556, \"#d8576b\"], [0.6666666666666666, \"#ed7953\"], [0.7777777777777778, \"#fb9f3a\"], [0.8888888888888888, \"#fdca26\"], [1.0, \"#f0f921\"]], \"sequentialminus\": [[0.0, \"#0d0887\"], [0.1111111111111111, \"#46039f\"], [0.2222222222222222, \"#7201a8\"], [0.3333333333333333, \"#9c179e\"], [0.4444444444444444, \"#bd3786\"], [0.5555555555555556, \"#d8576b\"], [0.6666666666666666, \"#ed7953\"], [0.7777777777777778, \"#fb9f3a\"], [0.8888888888888888, \"#fdca26\"], [1.0, \"#f0f921\"]]}, \"colorway\": [\"#636efa\", \"#EF553B\", \"#00cc96\", \"#ab63fa\", \"#FFA15A\", \"#19d3f3\", \"#FF6692\", \"#B6E880\", \"#FF97FF\", \"#FECB52\"], \"font\": {\"color\": \"#2a3f5f\"}, \"geo\": {\"bgcolor\": \"white\", \"lakecolor\": \"white\", \"landcolor\": \"#E5ECF6\", \"showlakes\": true, \"showland\": true, \"subunitcolor\": \"white\"}, \"hoverlabel\": {\"align\": \"left\"}, \"hovermode\": \"closest\", \"mapbox\": {\"style\": \"light\"}, \"paper_bgcolor\": \"white\", \"plot_bgcolor\": \"#E5ECF6\", \"polar\": {\"angularaxis\": {\"gridcolor\": \"white\", \"linecolor\": \"white\", \"ticks\": \"\"}, \"bgcolor\": \"#E5ECF6\", \"radialaxis\": {\"gridcolor\": \"white\", \"linecolor\": \"white\", \"ticks\": \"\"}}, \"scene\": {\"xaxis\": {\"backgroundcolor\": \"#E5ECF6\", \"gridcolor\": \"white\", \"gridwidth\": 2, \"linecolor\": \"white\", \"showbackground\": true, \"ticks\": \"\", \"zerolinecolor\": \"white\"}, \"yaxis\": {\"backgroundcolor\": \"#E5ECF6\", \"gridcolor\": \"white\", \"gridwidth\": 2, \"linecolor\": \"white\", \"showbackground\": true, \"ticks\": \"\", \"zerolinecolor\": \"white\"}, \"zaxis\": {\"backgroundcolor\": \"#E5ECF6\", \"gridcolor\": \"white\", \"gridwidth\": 2, \"linecolor\": \"white\", \"showbackground\": true, \"ticks\": \"\", \"zerolinecolor\": \"white\"}}, \"shapedefaults\": {\"line\": {\"color\": \"#2a3f5f\"}}, \"ternary\": {\"aaxis\": {\"gridcolor\": \"white\", \"linecolor\": \"white\", \"ticks\": \"\"}, \"baxis\": {\"gridcolor\": \"white\", \"linecolor\": \"white\", \"ticks\": \"\"}, \"bgcolor\": \"#E5ECF6\", \"caxis\": {\"gridcolor\": \"white\", \"linecolor\": \"white\", \"ticks\": \"\"}}, \"title\": {\"x\": 0.05}, \"xaxis\": {\"automargin\": true, \"gridcolor\": \"white\", \"linecolor\": \"white\", \"ticks\": \"\", \"title\": {\"standoff\": 15}, \"zerolinecolor\": \"white\", \"zerolinewidth\": 2}, \"yaxis\": {\"automargin\": true, \"gridcolor\": \"white\", \"linecolor\": \"white\", \"ticks\": \"\", \"title\": {\"standoff\": 15}, \"zerolinecolor\": \"white\", \"zerolinewidth\": 2}}}, \"title\": {\"text\": \"Inside Forward - Support\"}, \"xaxis\": {\"anchor\": \"y\", \"domain\": [0.0, 1.0], \"title\": {\"text\": \"Assists/90\"}}, \"yaxis\": {\"anchor\": \"x\", \"domain\": [0.0, 1.0], \"title\": {\"text\": \"Chances Created/90\"}}},\n",
       "                        {\"responsive\": true}\n",
       "                    ).then(function(){\n",
       "                            \n",
       "var gd = document.getElementById('5e82f09d-f7a2-4dd3-b517-df36c871a052');\n",
       "var x = new MutationObserver(function (mutations, observer) {{\n",
       "        var display = window.getComputedStyle(gd).display;\n",
       "        if (!display || display === 'none') {{\n",
       "            console.log([gd, 'removed!']);\n",
       "            Plotly.purge(gd);\n",
       "            observer.disconnect();\n",
       "        }}\n",
       "}});\n",
       "\n",
       "// Listen for the removal of the full notebook cells\n",
       "var notebookContainer = gd.closest('#notebook-container');\n",
       "if (notebookContainer) {{\n",
       "    x.observe(notebookContainer, {childList: true});\n",
       "}}\n",
       "\n",
       "// Listen for the clearing of the current output cell\n",
       "var outputEl = gd.closest('.output');\n",
       "if (outputEl) {{\n",
       "    x.observe(outputEl, {childList: true});\n",
       "}}\n",
       "\n",
       "                        })\n",
       "                };\n",
       "                });\n",
       "            </script>\n",
       "        </div>"
      ]
     },
     "metadata": {},
     "output_type": "display_data"
    }
   ],
   "source": [
    "# Inside Forward - Support\n",
    "\n",
    "fig = px.scatter(df, x=\"Asts/90\", y=\"Ch C/90\", color=\"Name\",  \n",
    "        size='Age', hover_data=['Name'])\n",
    "\n",
    "fig.update_layout(\n",
    "    title=\"Inside Forward - Support\",\n",
    "    xaxis_title=\"Assists/90\",\n",
    "    yaxis_title=\"Chances Created/90\",\n",
    "    font=dict(\n",
    "        family=\"Courier New, monospace\",\n",
    "        size=16,\n",
    "        color=\"#7f7f7f\"\n",
    "    )\n",
    ")\n",
    "fig.show()"
   ]
  },
  {
   "cell_type": "code",
   "execution_count": 13,
   "metadata": {},
   "outputs": [
    {
     "data": {
      "application/vnd.plotly.v1+json": {
       "config": {
        "plotlyServerURL": "https://plot.ly"
       },
       "data": [
        {
         "customdata": [
          [
           "Shawn Hery"
          ]
         ],
         "hovertemplate": "Name=%{customdata[0]}<br>Gls/90=%{x}<br>Ch C/90=%{y}<br>Age=%{marker.size}<extra></extra>",
         "legendgroup": "Shawn Hery",
         "marker": {
          "color": "#636efa",
          "size": [
           21
          ],
          "sizemode": "area",
          "sizeref": 0.0875,
          "symbol": "circle"
         },
         "mode": "markers",
         "name": "Shawn Hery",
         "showlegend": true,
         "type": "scatter",
         "x": [
          "0.34"
         ],
         "xaxis": "x",
         "y": [
          "0.45"
         ],
         "yaxis": "y"
        },
        {
         "customdata": [
          [
           "Franck Evina"
          ]
         ],
         "hovertemplate": "Name=%{customdata[0]}<br>Gls/90=%{x}<br>Ch C/90=%{y}<br>Age=%{marker.size}<extra></extra>",
         "legendgroup": "Franck Evina",
         "marker": {
          "color": "#EF553B",
          "size": [
           22
          ],
          "sizemode": "area",
          "sizeref": 0.0875,
          "symbol": "circle"
         },
         "mode": "markers",
         "name": "Franck Evina",
         "showlegend": true,
         "type": "scatter",
         "x": [
          "0.51"
         ],
         "xaxis": "x",
         "y": [
          "0.13"
         ],
         "yaxis": "y"
        },
        {
         "customdata": [
          [
           "Luca Unbehaun"
          ]
         ],
         "hovertemplate": "Name=%{customdata[0]}<br>Gls/90=%{x}<br>Ch C/90=%{y}<br>Age=%{marker.size}<extra></extra>",
         "legendgroup": "Luca Unbehaun",
         "marker": {
          "color": "#00cc96",
          "size": [
           21
          ],
          "sizemode": "area",
          "sizeref": 0.0875,
          "symbol": "circle"
         },
         "mode": "markers",
         "name": "Luca Unbehaun",
         "showlegend": true,
         "type": "scatter",
         "x": [
          "-"
         ],
         "xaxis": "x",
         "y": [
          "-"
         ],
         "yaxis": "y"
        },
        {
         "customdata": [
          [
           "Marvin Jung"
          ]
         ],
         "hovertemplate": "Name=%{customdata[0]}<br>Gls/90=%{x}<br>Ch C/90=%{y}<br>Age=%{marker.size}<extra></extra>",
         "legendgroup": "Marvin Jung",
         "marker": {
          "color": "#ab63fa",
          "size": [
           21
          ],
          "sizemode": "area",
          "sizeref": 0.0875,
          "symbol": "circle"
         },
         "mode": "markers",
         "name": "Marvin Jung",
         "showlegend": true,
         "type": "scatter",
         "x": [
          "-"
         ],
         "xaxis": "x",
         "y": [
          "0.36"
         ],
         "yaxis": "y"
        },
        {
         "customdata": [
          [
           "Mike Fitzner"
          ]
         ],
         "hovertemplate": "Name=%{customdata[0]}<br>Gls/90=%{x}<br>Ch C/90=%{y}<br>Age=%{marker.size}<extra></extra>",
         "legendgroup": "Mike Fitzner",
         "marker": {
          "color": "#FFA15A",
          "size": [
           18
          ],
          "sizemode": "area",
          "sizeref": 0.0875,
          "symbol": "circle"
         },
         "mode": "markers",
         "name": "Mike Fitzner",
         "showlegend": true,
         "type": "scatter",
         "x": [
          "0.36"
         ],
         "xaxis": "x",
         "y": [
          "1.02"
         ],
         "yaxis": "y"
        },
        {
         "customdata": [
          [
           "Sefer AygÃ¼n"
          ]
         ],
         "hovertemplate": "Name=%{customdata[0]}<br>Gls/90=%{x}<br>Ch C/90=%{y}<br>Age=%{marker.size}<extra></extra>",
         "legendgroup": "Sefer AygÃ¼n",
         "marker": {
          "color": "#19d3f3",
          "size": [
           18
          ],
          "sizemode": "area",
          "sizeref": 0.0875,
          "symbol": "circle"
         },
         "mode": "markers",
         "name": "Sefer AygÃ¼n",
         "showlegend": true,
         "type": "scatter",
         "x": [
          "-"
         ],
         "xaxis": "x",
         "y": [
          "0.71"
         ],
         "yaxis": "y"
        },
        {
         "customdata": [
          [
           "Marco Hiller"
          ]
         ],
         "hovertemplate": "Name=%{customdata[0]}<br>Gls/90=%{x}<br>Ch C/90=%{y}<br>Age=%{marker.size}<extra></extra>",
         "legendgroup": "Marco Hiller",
         "marker": {
          "color": "#FF6692",
          "size": [
           25
          ],
          "sizemode": "area",
          "sizeref": 0.0875,
          "symbol": "circle"
         },
         "mode": "markers",
         "name": "Marco Hiller",
         "showlegend": true,
         "type": "scatter",
         "x": [
          "-"
         ],
         "xaxis": "x",
         "y": [
          "-"
         ],
         "yaxis": "y"
        },
        {
         "customdata": [
          [
           "Leon Klassen"
          ]
         ],
         "hovertemplate": "Name=%{customdata[0]}<br>Gls/90=%{x}<br>Ch C/90=%{y}<br>Age=%{marker.size}<extra></extra>",
         "legendgroup": "Leon Klassen",
         "marker": {
          "color": "#B6E880",
          "size": [
           22
          ],
          "sizemode": "area",
          "sizeref": 0.0875,
          "symbol": "circle"
         },
         "mode": "markers",
         "name": "Leon Klassen",
         "showlegend": true,
         "type": "scatter",
         "x": [
          "0.07"
         ],
         "xaxis": "x",
         "y": [
          "0.53"
         ],
         "yaxis": "y"
        },
        {
         "customdata": [
          [
           "Noel Niemann"
          ]
         ],
         "hovertemplate": "Name=%{customdata[0]}<br>Gls/90=%{x}<br>Ch C/90=%{y}<br>Age=%{marker.size}<extra></extra>",
         "legendgroup": "Noel Niemann",
         "marker": {
          "color": "#FF97FF",
          "size": [
           23
          ],
          "sizemode": "area",
          "sizeref": 0.0875,
          "symbol": "circle"
         },
         "mode": "markers",
         "name": "Noel Niemann",
         "showlegend": true,
         "type": "scatter",
         "x": [
          "0.22"
         ],
         "xaxis": "x",
         "y": [
          "0.33"
         ],
         "yaxis": "y"
        },
        {
         "customdata": [
          [
           "Lucas Deaux"
          ]
         ],
         "hovertemplate": "Name=%{customdata[0]}<br>Gls/90=%{x}<br>Ch C/90=%{y}<br>Age=%{marker.size}<extra></extra>",
         "legendgroup": "Lucas Deaux",
         "marker": {
          "color": "#FECB52",
          "size": [
           33
          ],
          "sizemode": "area",
          "sizeref": 0.0875,
          "symbol": "circle"
         },
         "mode": "markers",
         "name": "Lucas Deaux",
         "showlegend": true,
         "type": "scatter",
         "x": [
          "0.11"
         ],
         "xaxis": "x",
         "y": [
          "0.23"
         ],
         "yaxis": "y"
        },
        {
         "customdata": [
          [
           "Julian Schwermann"
          ]
         ],
         "hovertemplate": "Name=%{customdata[0]}<br>Gls/90=%{x}<br>Ch C/90=%{y}<br>Age=%{marker.size}<extra></extra>",
         "legendgroup": "Julian Schwermann",
         "marker": {
          "color": "#636efa",
          "size": [
           23
          ],
          "sizemode": "area",
          "sizeref": 0.0875,
          "symbol": "circle"
         },
         "mode": "markers",
         "name": "Julian Schwermann",
         "showlegend": true,
         "type": "scatter",
         "x": [
          "0.14"
         ],
         "xaxis": "x",
         "y": [
          "-"
         ],
         "yaxis": "y"
        },
        {
         "customdata": [
          [
           "Oliver Kragl"
          ]
         ],
         "hovertemplate": "Name=%{customdata[0]}<br>Gls/90=%{x}<br>Ch C/90=%{y}<br>Age=%{marker.size}<extra></extra>",
         "legendgroup": "Oliver Kragl",
         "marker": {
          "color": "#EF553B",
          "size": [
           32
          ],
          "sizemode": "area",
          "sizeref": 0.0875,
          "symbol": "circle"
         },
         "mode": "markers",
         "name": "Oliver Kragl",
         "showlegend": true,
         "type": "scatter",
         "x": [
          "0.53"
         ],
         "xaxis": "x",
         "y": [
          "0.53"
         ],
         "yaxis": "y"
        },
        {
         "customdata": [
          [
           "Ben SchÃ¤fer"
          ]
         ],
         "hovertemplate": "Name=%{customdata[0]}<br>Gls/90=%{x}<br>Ch C/90=%{y}<br>Age=%{marker.size}<extra></extra>",
         "legendgroup": "Ben SchÃ¤fer",
         "marker": {
          "color": "#00cc96",
          "size": [
           18
          ],
          "sizemode": "area",
          "sizeref": 0.0875,
          "symbol": "circle"
         },
         "mode": "markers",
         "name": "Ben SchÃ¤fer",
         "showlegend": true,
         "type": "scatter",
         "x": [
          "-"
         ],
         "xaxis": "x",
         "y": [
          "-"
         ],
         "yaxis": "y"
        },
        {
         "customdata": [
          [
           "Andreas Ahlm"
          ]
         ],
         "hovertemplate": "Name=%{customdata[0]}<br>Gls/90=%{x}<br>Ch C/90=%{y}<br>Age=%{marker.size}<extra></extra>",
         "legendgroup": "Andreas Ahlm",
         "marker": {
          "color": "#ab63fa",
          "size": [
           18
          ],
          "sizemode": "area",
          "sizeref": 0.0875,
          "symbol": "circle"
         },
         "mode": "markers",
         "name": "Andreas Ahlm",
         "showlegend": true,
         "type": "scatter",
         "x": [
          "-"
         ],
         "xaxis": "x",
         "y": [
          "-"
         ],
         "yaxis": "y"
        },
        {
         "customdata": [
          [
           "Petr Dvorak"
          ]
         ],
         "hovertemplate": "Name=%{customdata[0]}<br>Gls/90=%{x}<br>Ch C/90=%{y}<br>Age=%{marker.size}<extra></extra>",
         "legendgroup": "Petr Dvorak",
         "marker": {
          "color": "#FFA15A",
          "size": [
           17
          ],
          "sizemode": "area",
          "sizeref": 0.0875,
          "symbol": "circle"
         },
         "mode": "markers",
         "name": "Petr Dvorak",
         "showlegend": true,
         "type": "scatter",
         "x": [
          "-"
         ],
         "xaxis": "x",
         "y": [
          "-"
         ],
         "yaxis": "y"
        },
        {
         "customdata": [
          [
           "Efkan Bekiroglu"
          ]
         ],
         "hovertemplate": "Name=%{customdata[0]}<br>Gls/90=%{x}<br>Ch C/90=%{y}<br>Age=%{marker.size}<extra></extra>",
         "legendgroup": "Efkan Bekiroglu",
         "marker": {
          "color": "#19d3f3",
          "size": [
           27
          ],
          "sizemode": "area",
          "sizeref": 0.0875,
          "symbol": "circle"
         },
         "mode": "markers",
         "name": "Efkan Bekiroglu",
         "showlegend": true,
         "type": "scatter",
         "x": [
          "-"
         ],
         "xaxis": "x",
         "y": [
          "0.22"
         ],
         "yaxis": "y"
        },
        {
         "customdata": [
          [
           "Fabian Greilinger"
          ]
         ],
         "hovertemplate": "Name=%{customdata[0]}<br>Gls/90=%{x}<br>Ch C/90=%{y}<br>Age=%{marker.size}<extra></extra>",
         "legendgroup": "Fabian Greilinger",
         "marker": {
          "color": "#FF6692",
          "size": [
           22
          ],
          "sizemode": "area",
          "sizeref": 0.0875,
          "symbol": "circle"
         },
         "mode": "markers",
         "name": "Fabian Greilinger",
         "showlegend": true,
         "type": "scatter",
         "x": [
          "0.64"
         ],
         "xaxis": "x",
         "y": [
          "-"
         ],
         "yaxis": "y"
        },
        {
         "customdata": [
          [
           "Marko Basic"
          ]
         ],
         "hovertemplate": "Name=%{customdata[0]}<br>Gls/90=%{x}<br>Ch C/90=%{y}<br>Age=%{marker.size}<extra></extra>",
         "legendgroup": "Marko Basic",
         "marker": {
          "color": "#B6E880",
          "size": [
           17
          ],
          "sizemode": "area",
          "sizeref": 0.0875,
          "symbol": "circle"
         },
         "mode": "markers",
         "name": "Marko Basic",
         "showlegend": true,
         "type": "scatter",
         "x": [
          "-"
         ],
         "xaxis": "x",
         "y": [
          "-"
         ],
         "yaxis": "y"
        },
        {
         "customdata": [
          [
           "Mert GÃ¶ckan"
          ]
         ],
         "hovertemplate": "Name=%{customdata[0]}<br>Gls/90=%{x}<br>Ch C/90=%{y}<br>Age=%{marker.size}<extra></extra>",
         "legendgroup": "Mert GÃ¶ckan",
         "marker": {
          "color": "#FF97FF",
          "size": [
           21
          ],
          "sizemode": "area",
          "sizeref": 0.0875,
          "symbol": "circle"
         },
         "mode": "markers",
         "name": "Mert GÃ¶ckan",
         "showlegend": true,
         "type": "scatter",
         "x": [
          "-"
         ],
         "xaxis": "x",
         "y": [
          "-"
         ],
         "yaxis": "y"
        },
        {
         "customdata": [
          [
           "Gabriel Isik"
          ]
         ],
         "hovertemplate": "Name=%{customdata[0]}<br>Gls/90=%{x}<br>Ch C/90=%{y}<br>Age=%{marker.size}<extra></extra>",
         "legendgroup": "Gabriel Isik",
         "marker": {
          "color": "#FECB52",
          "size": [
           23
          ],
          "sizemode": "area",
          "sizeref": 0.0875,
          "symbol": "circle"
         },
         "mode": "markers",
         "name": "Gabriel Isik",
         "showlegend": true,
         "type": "scatter",
         "x": [
          "0.13"
         ],
         "xaxis": "x",
         "y": [
          "-"
         ],
         "yaxis": "y"
        },
        {
         "customdata": [
          [
           "Pawel Majewski"
          ]
         ],
         "hovertemplate": "Name=%{customdata[0]}<br>Gls/90=%{x}<br>Ch C/90=%{y}<br>Age=%{marker.size}<extra></extra>",
         "legendgroup": "Pawel Majewski",
         "marker": {
          "color": "#636efa",
          "size": [
           18
          ],
          "sizemode": "area",
          "sizeref": 0.0875,
          "symbol": "circle"
         },
         "mode": "markers",
         "name": "Pawel Majewski",
         "showlegend": true,
         "type": "scatter",
         "x": [
          "-"
         ],
         "xaxis": "x",
         "y": [
          "0.33"
         ],
         "yaxis": "y"
        },
        {
         "customdata": [
          [
           "Peter KÃ¶ster"
          ]
         ],
         "hovertemplate": "Name=%{customdata[0]}<br>Gls/90=%{x}<br>Ch C/90=%{y}<br>Age=%{marker.size}<extra></extra>",
         "legendgroup": "Peter KÃ¶ster",
         "marker": {
          "color": "#EF553B",
          "size": [
           23
          ],
          "sizemode": "area",
          "sizeref": 0.0875,
          "symbol": "circle"
         },
         "mode": "markers",
         "name": "Peter KÃ¶ster",
         "showlegend": true,
         "type": "scatter",
         "x": [
          "-"
         ],
         "xaxis": "x",
         "y": [
          "-"
         ],
         "yaxis": "y"
        },
        {
         "customdata": [
          [
           "Abdoulaye Niang"
          ]
         ],
         "hovertemplate": "Name=%{customdata[0]}<br>Gls/90=%{x}<br>Ch C/90=%{y}<br>Age=%{marker.size}<extra></extra>",
         "legendgroup": "Abdoulaye Niang",
         "marker": {
          "color": "#00cc96",
          "size": [
           19
          ],
          "sizemode": "area",
          "sizeref": 0.0875,
          "symbol": "circle"
         },
         "mode": "markers",
         "name": "Abdoulaye Niang",
         "showlegend": true,
         "type": "scatter",
         "x": [
          "-"
         ],
         "xaxis": "x",
         "y": [
          "0.19"
         ],
         "yaxis": "y"
        },
        {
         "customdata": [
          [
           "Sven Bender"
          ]
         ],
         "hovertemplate": "Name=%{customdata[0]}<br>Gls/90=%{x}<br>Ch C/90=%{y}<br>Age=%{marker.size}<extra></extra>",
         "legendgroup": "Sven Bender",
         "marker": {
          "color": "#ab63fa",
          "size": [
           33
          ],
          "sizemode": "area",
          "sizeref": 0.0875,
          "symbol": "circle"
         },
         "mode": "markers",
         "name": "Sven Bender",
         "showlegend": true,
         "type": "scatter",
         "x": [
          "0.06"
         ],
         "xaxis": "x",
         "y": [
          "-"
         ],
         "yaxis": "y"
        },
        {
         "customdata": [
          [
           "Gary Medel"
          ]
         ],
         "hovertemplate": "Name=%{customdata[0]}<br>Gls/90=%{x}<br>Ch C/90=%{y}<br>Age=%{marker.size}<extra></extra>",
         "legendgroup": "Gary Medel",
         "marker": {
          "color": "#FFA15A",
          "size": [
           35
          ],
          "sizemode": "area",
          "sizeref": 0.0875,
          "symbol": "circle"
         },
         "mode": "markers",
         "name": "Gary Medel",
         "showlegend": true,
         "type": "scatter",
         "x": [
          "-"
         ],
         "xaxis": "x",
         "y": [
          "0.09"
         ],
         "yaxis": "y"
        }
       ],
       "layout": {
        "font": {
         "color": "#7f7f7f",
         "family": "Courier New, monospace",
         "size": 16
        },
        "legend": {
         "itemsizing": "constant",
         "title": {
          "text": "Name"
         },
         "tracegroupgap": 0
        },
        "margin": {
         "t": 60
        },
        "template": {
         "data": {
          "bar": [
           {
            "error_x": {
             "color": "#2a3f5f"
            },
            "error_y": {
             "color": "#2a3f5f"
            },
            "marker": {
             "line": {
              "color": "#E5ECF6",
              "width": 0.5
             }
            },
            "type": "bar"
           }
          ],
          "barpolar": [
           {
            "marker": {
             "line": {
              "color": "#E5ECF6",
              "width": 0.5
             }
            },
            "type": "barpolar"
           }
          ],
          "carpet": [
           {
            "aaxis": {
             "endlinecolor": "#2a3f5f",
             "gridcolor": "white",
             "linecolor": "white",
             "minorgridcolor": "white",
             "startlinecolor": "#2a3f5f"
            },
            "baxis": {
             "endlinecolor": "#2a3f5f",
             "gridcolor": "white",
             "linecolor": "white",
             "minorgridcolor": "white",
             "startlinecolor": "#2a3f5f"
            },
            "type": "carpet"
           }
          ],
          "choropleth": [
           {
            "colorbar": {
             "outlinewidth": 0,
             "ticks": ""
            },
            "type": "choropleth"
           }
          ],
          "contour": [
           {
            "colorbar": {
             "outlinewidth": 0,
             "ticks": ""
            },
            "colorscale": [
             [
              0,
              "#0d0887"
             ],
             [
              0.1111111111111111,
              "#46039f"
             ],
             [
              0.2222222222222222,
              "#7201a8"
             ],
             [
              0.3333333333333333,
              "#9c179e"
             ],
             [
              0.4444444444444444,
              "#bd3786"
             ],
             [
              0.5555555555555556,
              "#d8576b"
             ],
             [
              0.6666666666666666,
              "#ed7953"
             ],
             [
              0.7777777777777778,
              "#fb9f3a"
             ],
             [
              0.8888888888888888,
              "#fdca26"
             ],
             [
              1,
              "#f0f921"
             ]
            ],
            "type": "contour"
           }
          ],
          "contourcarpet": [
           {
            "colorbar": {
             "outlinewidth": 0,
             "ticks": ""
            },
            "type": "contourcarpet"
           }
          ],
          "heatmap": [
           {
            "colorbar": {
             "outlinewidth": 0,
             "ticks": ""
            },
            "colorscale": [
             [
              0,
              "#0d0887"
             ],
             [
              0.1111111111111111,
              "#46039f"
             ],
             [
              0.2222222222222222,
              "#7201a8"
             ],
             [
              0.3333333333333333,
              "#9c179e"
             ],
             [
              0.4444444444444444,
              "#bd3786"
             ],
             [
              0.5555555555555556,
              "#d8576b"
             ],
             [
              0.6666666666666666,
              "#ed7953"
             ],
             [
              0.7777777777777778,
              "#fb9f3a"
             ],
             [
              0.8888888888888888,
              "#fdca26"
             ],
             [
              1,
              "#f0f921"
             ]
            ],
            "type": "heatmap"
           }
          ],
          "heatmapgl": [
           {
            "colorbar": {
             "outlinewidth": 0,
             "ticks": ""
            },
            "colorscale": [
             [
              0,
              "#0d0887"
             ],
             [
              0.1111111111111111,
              "#46039f"
             ],
             [
              0.2222222222222222,
              "#7201a8"
             ],
             [
              0.3333333333333333,
              "#9c179e"
             ],
             [
              0.4444444444444444,
              "#bd3786"
             ],
             [
              0.5555555555555556,
              "#d8576b"
             ],
             [
              0.6666666666666666,
              "#ed7953"
             ],
             [
              0.7777777777777778,
              "#fb9f3a"
             ],
             [
              0.8888888888888888,
              "#fdca26"
             ],
             [
              1,
              "#f0f921"
             ]
            ],
            "type": "heatmapgl"
           }
          ],
          "histogram": [
           {
            "marker": {
             "colorbar": {
              "outlinewidth": 0,
              "ticks": ""
             }
            },
            "type": "histogram"
           }
          ],
          "histogram2d": [
           {
            "colorbar": {
             "outlinewidth": 0,
             "ticks": ""
            },
            "colorscale": [
             [
              0,
              "#0d0887"
             ],
             [
              0.1111111111111111,
              "#46039f"
             ],
             [
              0.2222222222222222,
              "#7201a8"
             ],
             [
              0.3333333333333333,
              "#9c179e"
             ],
             [
              0.4444444444444444,
              "#bd3786"
             ],
             [
              0.5555555555555556,
              "#d8576b"
             ],
             [
              0.6666666666666666,
              "#ed7953"
             ],
             [
              0.7777777777777778,
              "#fb9f3a"
             ],
             [
              0.8888888888888888,
              "#fdca26"
             ],
             [
              1,
              "#f0f921"
             ]
            ],
            "type": "histogram2d"
           }
          ],
          "histogram2dcontour": [
           {
            "colorbar": {
             "outlinewidth": 0,
             "ticks": ""
            },
            "colorscale": [
             [
              0,
              "#0d0887"
             ],
             [
              0.1111111111111111,
              "#46039f"
             ],
             [
              0.2222222222222222,
              "#7201a8"
             ],
             [
              0.3333333333333333,
              "#9c179e"
             ],
             [
              0.4444444444444444,
              "#bd3786"
             ],
             [
              0.5555555555555556,
              "#d8576b"
             ],
             [
              0.6666666666666666,
              "#ed7953"
             ],
             [
              0.7777777777777778,
              "#fb9f3a"
             ],
             [
              0.8888888888888888,
              "#fdca26"
             ],
             [
              1,
              "#f0f921"
             ]
            ],
            "type": "histogram2dcontour"
           }
          ],
          "mesh3d": [
           {
            "colorbar": {
             "outlinewidth": 0,
             "ticks": ""
            },
            "type": "mesh3d"
           }
          ],
          "parcoords": [
           {
            "line": {
             "colorbar": {
              "outlinewidth": 0,
              "ticks": ""
             }
            },
            "type": "parcoords"
           }
          ],
          "pie": [
           {
            "automargin": true,
            "type": "pie"
           }
          ],
          "scatter": [
           {
            "marker": {
             "colorbar": {
              "outlinewidth": 0,
              "ticks": ""
             }
            },
            "type": "scatter"
           }
          ],
          "scatter3d": [
           {
            "line": {
             "colorbar": {
              "outlinewidth": 0,
              "ticks": ""
             }
            },
            "marker": {
             "colorbar": {
              "outlinewidth": 0,
              "ticks": ""
             }
            },
            "type": "scatter3d"
           }
          ],
          "scattercarpet": [
           {
            "marker": {
             "colorbar": {
              "outlinewidth": 0,
              "ticks": ""
             }
            },
            "type": "scattercarpet"
           }
          ],
          "scattergeo": [
           {
            "marker": {
             "colorbar": {
              "outlinewidth": 0,
              "ticks": ""
             }
            },
            "type": "scattergeo"
           }
          ],
          "scattergl": [
           {
            "marker": {
             "colorbar": {
              "outlinewidth": 0,
              "ticks": ""
             }
            },
            "type": "scattergl"
           }
          ],
          "scattermapbox": [
           {
            "marker": {
             "colorbar": {
              "outlinewidth": 0,
              "ticks": ""
             }
            },
            "type": "scattermapbox"
           }
          ],
          "scatterpolar": [
           {
            "marker": {
             "colorbar": {
              "outlinewidth": 0,
              "ticks": ""
             }
            },
            "type": "scatterpolar"
           }
          ],
          "scatterpolargl": [
           {
            "marker": {
             "colorbar": {
              "outlinewidth": 0,
              "ticks": ""
             }
            },
            "type": "scatterpolargl"
           }
          ],
          "scatterternary": [
           {
            "marker": {
             "colorbar": {
              "outlinewidth": 0,
              "ticks": ""
             }
            },
            "type": "scatterternary"
           }
          ],
          "surface": [
           {
            "colorbar": {
             "outlinewidth": 0,
             "ticks": ""
            },
            "colorscale": [
             [
              0,
              "#0d0887"
             ],
             [
              0.1111111111111111,
              "#46039f"
             ],
             [
              0.2222222222222222,
              "#7201a8"
             ],
             [
              0.3333333333333333,
              "#9c179e"
             ],
             [
              0.4444444444444444,
              "#bd3786"
             ],
             [
              0.5555555555555556,
              "#d8576b"
             ],
             [
              0.6666666666666666,
              "#ed7953"
             ],
             [
              0.7777777777777778,
              "#fb9f3a"
             ],
             [
              0.8888888888888888,
              "#fdca26"
             ],
             [
              1,
              "#f0f921"
             ]
            ],
            "type": "surface"
           }
          ],
          "table": [
           {
            "cells": {
             "fill": {
              "color": "#EBF0F8"
             },
             "line": {
              "color": "white"
             }
            },
            "header": {
             "fill": {
              "color": "#C8D4E3"
             },
             "line": {
              "color": "white"
             }
            },
            "type": "table"
           }
          ]
         },
         "layout": {
          "annotationdefaults": {
           "arrowcolor": "#2a3f5f",
           "arrowhead": 0,
           "arrowwidth": 1
          },
          "coloraxis": {
           "colorbar": {
            "outlinewidth": 0,
            "ticks": ""
           }
          },
          "colorscale": {
           "diverging": [
            [
             0,
             "#8e0152"
            ],
            [
             0.1,
             "#c51b7d"
            ],
            [
             0.2,
             "#de77ae"
            ],
            [
             0.3,
             "#f1b6da"
            ],
            [
             0.4,
             "#fde0ef"
            ],
            [
             0.5,
             "#f7f7f7"
            ],
            [
             0.6,
             "#e6f5d0"
            ],
            [
             0.7,
             "#b8e186"
            ],
            [
             0.8,
             "#7fbc41"
            ],
            [
             0.9,
             "#4d9221"
            ],
            [
             1,
             "#276419"
            ]
           ],
           "sequential": [
            [
             0,
             "#0d0887"
            ],
            [
             0.1111111111111111,
             "#46039f"
            ],
            [
             0.2222222222222222,
             "#7201a8"
            ],
            [
             0.3333333333333333,
             "#9c179e"
            ],
            [
             0.4444444444444444,
             "#bd3786"
            ],
            [
             0.5555555555555556,
             "#d8576b"
            ],
            [
             0.6666666666666666,
             "#ed7953"
            ],
            [
             0.7777777777777778,
             "#fb9f3a"
            ],
            [
             0.8888888888888888,
             "#fdca26"
            ],
            [
             1,
             "#f0f921"
            ]
           ],
           "sequentialminus": [
            [
             0,
             "#0d0887"
            ],
            [
             0.1111111111111111,
             "#46039f"
            ],
            [
             0.2222222222222222,
             "#7201a8"
            ],
            [
             0.3333333333333333,
             "#9c179e"
            ],
            [
             0.4444444444444444,
             "#bd3786"
            ],
            [
             0.5555555555555556,
             "#d8576b"
            ],
            [
             0.6666666666666666,
             "#ed7953"
            ],
            [
             0.7777777777777778,
             "#fb9f3a"
            ],
            [
             0.8888888888888888,
             "#fdca26"
            ],
            [
             1,
             "#f0f921"
            ]
           ]
          },
          "colorway": [
           "#636efa",
           "#EF553B",
           "#00cc96",
           "#ab63fa",
           "#FFA15A",
           "#19d3f3",
           "#FF6692",
           "#B6E880",
           "#FF97FF",
           "#FECB52"
          ],
          "font": {
           "color": "#2a3f5f"
          },
          "geo": {
           "bgcolor": "white",
           "lakecolor": "white",
           "landcolor": "#E5ECF6",
           "showlakes": true,
           "showland": true,
           "subunitcolor": "white"
          },
          "hoverlabel": {
           "align": "left"
          },
          "hovermode": "closest",
          "mapbox": {
           "style": "light"
          },
          "paper_bgcolor": "white",
          "plot_bgcolor": "#E5ECF6",
          "polar": {
           "angularaxis": {
            "gridcolor": "white",
            "linecolor": "white",
            "ticks": ""
           },
           "bgcolor": "#E5ECF6",
           "radialaxis": {
            "gridcolor": "white",
            "linecolor": "white",
            "ticks": ""
           }
          },
          "scene": {
           "xaxis": {
            "backgroundcolor": "#E5ECF6",
            "gridcolor": "white",
            "gridwidth": 2,
            "linecolor": "white",
            "showbackground": true,
            "ticks": "",
            "zerolinecolor": "white"
           },
           "yaxis": {
            "backgroundcolor": "#E5ECF6",
            "gridcolor": "white",
            "gridwidth": 2,
            "linecolor": "white",
            "showbackground": true,
            "ticks": "",
            "zerolinecolor": "white"
           },
           "zaxis": {
            "backgroundcolor": "#E5ECF6",
            "gridcolor": "white",
            "gridwidth": 2,
            "linecolor": "white",
            "showbackground": true,
            "ticks": "",
            "zerolinecolor": "white"
           }
          },
          "shapedefaults": {
           "line": {
            "color": "#2a3f5f"
           }
          },
          "ternary": {
           "aaxis": {
            "gridcolor": "white",
            "linecolor": "white",
            "ticks": ""
           },
           "baxis": {
            "gridcolor": "white",
            "linecolor": "white",
            "ticks": ""
           },
           "bgcolor": "#E5ECF6",
           "caxis": {
            "gridcolor": "white",
            "linecolor": "white",
            "ticks": ""
           }
          },
          "title": {
           "x": 0.05
          },
          "xaxis": {
           "automargin": true,
           "gridcolor": "white",
           "linecolor": "white",
           "ticks": "",
           "title": {
            "standoff": 15
           },
           "zerolinecolor": "white",
           "zerolinewidth": 2
          },
          "yaxis": {
           "automargin": true,
           "gridcolor": "white",
           "linecolor": "white",
           "ticks": "",
           "title": {
            "standoff": 15
           },
           "zerolinecolor": "white",
           "zerolinewidth": 2
          }
         }
        },
        "title": {
         "text": "Inside Forward - Attack"
        },
        "xaxis": {
         "anchor": "y",
         "domain": [
          0,
          1
         ],
         "title": {
          "text": "Goals/90"
         }
        },
        "yaxis": {
         "anchor": "x",
         "domain": [
          0,
          1
         ],
         "title": {
          "text": "Chances Created/90"
         }
        }
       }
      },
      "text/html": [
       "<div>\n",
       "        \n",
       "        \n",
       "            <div id=\"906ed21d-fae6-43c4-981b-0dd365267ac2\" class=\"plotly-graph-div\" style=\"height:525px; width:100%;\"></div>\n",
       "            <script type=\"text/javascript\">\n",
       "                require([\"plotly\"], function(Plotly) {\n",
       "                    window.PLOTLYENV=window.PLOTLYENV || {};\n",
       "                    \n",
       "                if (document.getElementById(\"906ed21d-fae6-43c4-981b-0dd365267ac2\")) {\n",
       "                    Plotly.newPlot(\n",
       "                        '906ed21d-fae6-43c4-981b-0dd365267ac2',\n",
       "                        [{\"customdata\": [[\"Shawn Hery\"]], \"hovertemplate\": \"Name=%{customdata[0]}<br>Gls/90=%{x}<br>Ch C/90=%{y}<br>Age=%{marker.size}<extra></extra>\", \"legendgroup\": \"Shawn Hery\", \"marker\": {\"color\": \"#636efa\", \"size\": [21], \"sizemode\": \"area\", \"sizeref\": 0.0875, \"symbol\": \"circle\"}, \"mode\": \"markers\", \"name\": \"Shawn Hery\", \"showlegend\": true, \"type\": \"scatter\", \"x\": [\"0.34\"], \"xaxis\": \"x\", \"y\": [\"0.45\"], \"yaxis\": \"y\"}, {\"customdata\": [[\"Franck Evina\"]], \"hovertemplate\": \"Name=%{customdata[0]}<br>Gls/90=%{x}<br>Ch C/90=%{y}<br>Age=%{marker.size}<extra></extra>\", \"legendgroup\": \"Franck Evina\", \"marker\": {\"color\": \"#EF553B\", \"size\": [22], \"sizemode\": \"area\", \"sizeref\": 0.0875, \"symbol\": \"circle\"}, \"mode\": \"markers\", \"name\": \"Franck Evina\", \"showlegend\": true, \"type\": \"scatter\", \"x\": [\"0.51\"], \"xaxis\": \"x\", \"y\": [\"0.13\"], \"yaxis\": \"y\"}, {\"customdata\": [[\"Luca Unbehaun\"]], \"hovertemplate\": \"Name=%{customdata[0]}<br>Gls/90=%{x}<br>Ch C/90=%{y}<br>Age=%{marker.size}<extra></extra>\", \"legendgroup\": \"Luca Unbehaun\", \"marker\": {\"color\": \"#00cc96\", \"size\": [21], \"sizemode\": \"area\", \"sizeref\": 0.0875, \"symbol\": \"circle\"}, \"mode\": \"markers\", \"name\": \"Luca Unbehaun\", \"showlegend\": true, \"type\": \"scatter\", \"x\": [\"-\"], \"xaxis\": \"x\", \"y\": [\"-\"], \"yaxis\": \"y\"}, {\"customdata\": [[\"Marvin Jung\"]], \"hovertemplate\": \"Name=%{customdata[0]}<br>Gls/90=%{x}<br>Ch C/90=%{y}<br>Age=%{marker.size}<extra></extra>\", \"legendgroup\": \"Marvin Jung\", \"marker\": {\"color\": \"#ab63fa\", \"size\": [21], \"sizemode\": \"area\", \"sizeref\": 0.0875, \"symbol\": \"circle\"}, \"mode\": \"markers\", \"name\": \"Marvin Jung\", \"showlegend\": true, \"type\": \"scatter\", \"x\": [\"-\"], \"xaxis\": \"x\", \"y\": [\"0.36\"], \"yaxis\": \"y\"}, {\"customdata\": [[\"Mike Fitzner\"]], \"hovertemplate\": \"Name=%{customdata[0]}<br>Gls/90=%{x}<br>Ch C/90=%{y}<br>Age=%{marker.size}<extra></extra>\", \"legendgroup\": \"Mike Fitzner\", \"marker\": {\"color\": \"#FFA15A\", \"size\": [18], \"sizemode\": \"area\", \"sizeref\": 0.0875, \"symbol\": \"circle\"}, \"mode\": \"markers\", \"name\": \"Mike Fitzner\", \"showlegend\": true, \"type\": \"scatter\", \"x\": [\"0.36\"], \"xaxis\": \"x\", \"y\": [\"1.02\"], \"yaxis\": \"y\"}, {\"customdata\": [[\"Sefer Ayg\\u00c3\\u00bcn\"]], \"hovertemplate\": \"Name=%{customdata[0]}<br>Gls/90=%{x}<br>Ch C/90=%{y}<br>Age=%{marker.size}<extra></extra>\", \"legendgroup\": \"Sefer Ayg\\u00c3\\u00bcn\", \"marker\": {\"color\": \"#19d3f3\", \"size\": [18], \"sizemode\": \"area\", \"sizeref\": 0.0875, \"symbol\": \"circle\"}, \"mode\": \"markers\", \"name\": \"Sefer Ayg\\u00c3\\u00bcn\", \"showlegend\": true, \"type\": \"scatter\", \"x\": [\"-\"], \"xaxis\": \"x\", \"y\": [\"0.71\"], \"yaxis\": \"y\"}, {\"customdata\": [[\"Marco Hiller\"]], \"hovertemplate\": \"Name=%{customdata[0]}<br>Gls/90=%{x}<br>Ch C/90=%{y}<br>Age=%{marker.size}<extra></extra>\", \"legendgroup\": \"Marco Hiller\", \"marker\": {\"color\": \"#FF6692\", \"size\": [25], \"sizemode\": \"area\", \"sizeref\": 0.0875, \"symbol\": \"circle\"}, \"mode\": \"markers\", \"name\": \"Marco Hiller\", \"showlegend\": true, \"type\": \"scatter\", \"x\": [\"-\"], \"xaxis\": \"x\", \"y\": [\"-\"], \"yaxis\": \"y\"}, {\"customdata\": [[\"Leon Klassen\"]], \"hovertemplate\": \"Name=%{customdata[0]}<br>Gls/90=%{x}<br>Ch C/90=%{y}<br>Age=%{marker.size}<extra></extra>\", \"legendgroup\": \"Leon Klassen\", \"marker\": {\"color\": \"#B6E880\", \"size\": [22], \"sizemode\": \"area\", \"sizeref\": 0.0875, \"symbol\": \"circle\"}, \"mode\": \"markers\", \"name\": \"Leon Klassen\", \"showlegend\": true, \"type\": \"scatter\", \"x\": [\"0.07\"], \"xaxis\": \"x\", \"y\": [\"0.53\"], \"yaxis\": \"y\"}, {\"customdata\": [[\"Noel Niemann\"]], \"hovertemplate\": \"Name=%{customdata[0]}<br>Gls/90=%{x}<br>Ch C/90=%{y}<br>Age=%{marker.size}<extra></extra>\", \"legendgroup\": \"Noel Niemann\", \"marker\": {\"color\": \"#FF97FF\", \"size\": [23], \"sizemode\": \"area\", \"sizeref\": 0.0875, \"symbol\": \"circle\"}, \"mode\": \"markers\", \"name\": \"Noel Niemann\", \"showlegend\": true, \"type\": \"scatter\", \"x\": [\"0.22\"], \"xaxis\": \"x\", \"y\": [\"0.33\"], \"yaxis\": \"y\"}, {\"customdata\": [[\"Lucas Deaux\"]], \"hovertemplate\": \"Name=%{customdata[0]}<br>Gls/90=%{x}<br>Ch C/90=%{y}<br>Age=%{marker.size}<extra></extra>\", \"legendgroup\": \"Lucas Deaux\", \"marker\": {\"color\": \"#FECB52\", \"size\": [33], \"sizemode\": \"area\", \"sizeref\": 0.0875, \"symbol\": \"circle\"}, \"mode\": \"markers\", \"name\": \"Lucas Deaux\", \"showlegend\": true, \"type\": \"scatter\", \"x\": [\"0.11\"], \"xaxis\": \"x\", \"y\": [\"0.23\"], \"yaxis\": \"y\"}, {\"customdata\": [[\"Julian Schwermann\"]], \"hovertemplate\": \"Name=%{customdata[0]}<br>Gls/90=%{x}<br>Ch C/90=%{y}<br>Age=%{marker.size}<extra></extra>\", \"legendgroup\": \"Julian Schwermann\", \"marker\": {\"color\": \"#636efa\", \"size\": [23], \"sizemode\": \"area\", \"sizeref\": 0.0875, \"symbol\": \"circle\"}, \"mode\": \"markers\", \"name\": \"Julian Schwermann\", \"showlegend\": true, \"type\": \"scatter\", \"x\": [\"0.14\"], \"xaxis\": \"x\", \"y\": [\"-\"], \"yaxis\": \"y\"}, {\"customdata\": [[\"Oliver Kragl\"]], \"hovertemplate\": \"Name=%{customdata[0]}<br>Gls/90=%{x}<br>Ch C/90=%{y}<br>Age=%{marker.size}<extra></extra>\", \"legendgroup\": \"Oliver Kragl\", \"marker\": {\"color\": \"#EF553B\", \"size\": [32], \"sizemode\": \"area\", \"sizeref\": 0.0875, \"symbol\": \"circle\"}, \"mode\": \"markers\", \"name\": \"Oliver Kragl\", \"showlegend\": true, \"type\": \"scatter\", \"x\": [\"0.53\"], \"xaxis\": \"x\", \"y\": [\"0.53\"], \"yaxis\": \"y\"}, {\"customdata\": [[\"Ben Sch\\u00c3\\u00a4fer\"]], \"hovertemplate\": \"Name=%{customdata[0]}<br>Gls/90=%{x}<br>Ch C/90=%{y}<br>Age=%{marker.size}<extra></extra>\", \"legendgroup\": \"Ben Sch\\u00c3\\u00a4fer\", \"marker\": {\"color\": \"#00cc96\", \"size\": [18], \"sizemode\": \"area\", \"sizeref\": 0.0875, \"symbol\": \"circle\"}, \"mode\": \"markers\", \"name\": \"Ben Sch\\u00c3\\u00a4fer\", \"showlegend\": true, \"type\": \"scatter\", \"x\": [\"-\"], \"xaxis\": \"x\", \"y\": [\"-\"], \"yaxis\": \"y\"}, {\"customdata\": [[\"Andreas Ahlm\"]], \"hovertemplate\": \"Name=%{customdata[0]}<br>Gls/90=%{x}<br>Ch C/90=%{y}<br>Age=%{marker.size}<extra></extra>\", \"legendgroup\": \"Andreas Ahlm\", \"marker\": {\"color\": \"#ab63fa\", \"size\": [18], \"sizemode\": \"area\", \"sizeref\": 0.0875, \"symbol\": \"circle\"}, \"mode\": \"markers\", \"name\": \"Andreas Ahlm\", \"showlegend\": true, \"type\": \"scatter\", \"x\": [\"-\"], \"xaxis\": \"x\", \"y\": [\"-\"], \"yaxis\": \"y\"}, {\"customdata\": [[\"Petr Dvorak\"]], \"hovertemplate\": \"Name=%{customdata[0]}<br>Gls/90=%{x}<br>Ch C/90=%{y}<br>Age=%{marker.size}<extra></extra>\", \"legendgroup\": \"Petr Dvorak\", \"marker\": {\"color\": \"#FFA15A\", \"size\": [17], \"sizemode\": \"area\", \"sizeref\": 0.0875, \"symbol\": \"circle\"}, \"mode\": \"markers\", \"name\": \"Petr Dvorak\", \"showlegend\": true, \"type\": \"scatter\", \"x\": [\"-\"], \"xaxis\": \"x\", \"y\": [\"-\"], \"yaxis\": \"y\"}, {\"customdata\": [[\"Efkan Bekiroglu\"]], \"hovertemplate\": \"Name=%{customdata[0]}<br>Gls/90=%{x}<br>Ch C/90=%{y}<br>Age=%{marker.size}<extra></extra>\", \"legendgroup\": \"Efkan Bekiroglu\", \"marker\": {\"color\": \"#19d3f3\", \"size\": [27], \"sizemode\": \"area\", \"sizeref\": 0.0875, \"symbol\": \"circle\"}, \"mode\": \"markers\", \"name\": \"Efkan Bekiroglu\", \"showlegend\": true, \"type\": \"scatter\", \"x\": [\"-\"], \"xaxis\": \"x\", \"y\": [\"0.22\"], \"yaxis\": \"y\"}, {\"customdata\": [[\"Fabian Greilinger\"]], \"hovertemplate\": \"Name=%{customdata[0]}<br>Gls/90=%{x}<br>Ch C/90=%{y}<br>Age=%{marker.size}<extra></extra>\", \"legendgroup\": \"Fabian Greilinger\", \"marker\": {\"color\": \"#FF6692\", \"size\": [22], \"sizemode\": \"area\", \"sizeref\": 0.0875, \"symbol\": \"circle\"}, \"mode\": \"markers\", \"name\": \"Fabian Greilinger\", \"showlegend\": true, \"type\": \"scatter\", \"x\": [\"0.64\"], \"xaxis\": \"x\", \"y\": [\"-\"], \"yaxis\": \"y\"}, {\"customdata\": [[\"Marko Basic\"]], \"hovertemplate\": \"Name=%{customdata[0]}<br>Gls/90=%{x}<br>Ch C/90=%{y}<br>Age=%{marker.size}<extra></extra>\", \"legendgroup\": \"Marko Basic\", \"marker\": {\"color\": \"#B6E880\", \"size\": [17], \"sizemode\": \"area\", \"sizeref\": 0.0875, \"symbol\": \"circle\"}, \"mode\": \"markers\", \"name\": \"Marko Basic\", \"showlegend\": true, \"type\": \"scatter\", \"x\": [\"-\"], \"xaxis\": \"x\", \"y\": [\"-\"], \"yaxis\": \"y\"}, {\"customdata\": [[\"Mert G\\u00c3\\u00b6ckan\"]], \"hovertemplate\": \"Name=%{customdata[0]}<br>Gls/90=%{x}<br>Ch C/90=%{y}<br>Age=%{marker.size}<extra></extra>\", \"legendgroup\": \"Mert G\\u00c3\\u00b6ckan\", \"marker\": {\"color\": \"#FF97FF\", \"size\": [21], \"sizemode\": \"area\", \"sizeref\": 0.0875, \"symbol\": \"circle\"}, \"mode\": \"markers\", \"name\": \"Mert G\\u00c3\\u00b6ckan\", \"showlegend\": true, \"type\": \"scatter\", \"x\": [\"-\"], \"xaxis\": \"x\", \"y\": [\"-\"], \"yaxis\": \"y\"}, {\"customdata\": [[\"Gabriel Isik\"]], \"hovertemplate\": \"Name=%{customdata[0]}<br>Gls/90=%{x}<br>Ch C/90=%{y}<br>Age=%{marker.size}<extra></extra>\", \"legendgroup\": \"Gabriel Isik\", \"marker\": {\"color\": \"#FECB52\", \"size\": [23], \"sizemode\": \"area\", \"sizeref\": 0.0875, \"symbol\": \"circle\"}, \"mode\": \"markers\", \"name\": \"Gabriel Isik\", \"showlegend\": true, \"type\": \"scatter\", \"x\": [\"0.13\"], \"xaxis\": \"x\", \"y\": [\"-\"], \"yaxis\": \"y\"}, {\"customdata\": [[\"Pawel Majewski\"]], \"hovertemplate\": \"Name=%{customdata[0]}<br>Gls/90=%{x}<br>Ch C/90=%{y}<br>Age=%{marker.size}<extra></extra>\", \"legendgroup\": \"Pawel Majewski\", \"marker\": {\"color\": \"#636efa\", \"size\": [18], \"sizemode\": \"area\", \"sizeref\": 0.0875, \"symbol\": \"circle\"}, \"mode\": \"markers\", \"name\": \"Pawel Majewski\", \"showlegend\": true, \"type\": \"scatter\", \"x\": [\"-\"], \"xaxis\": \"x\", \"y\": [\"0.33\"], \"yaxis\": \"y\"}, {\"customdata\": [[\"Peter K\\u00c3\\u00b6ster\"]], \"hovertemplate\": \"Name=%{customdata[0]}<br>Gls/90=%{x}<br>Ch C/90=%{y}<br>Age=%{marker.size}<extra></extra>\", \"legendgroup\": \"Peter K\\u00c3\\u00b6ster\", \"marker\": {\"color\": \"#EF553B\", \"size\": [23], \"sizemode\": \"area\", \"sizeref\": 0.0875, \"symbol\": \"circle\"}, \"mode\": \"markers\", \"name\": \"Peter K\\u00c3\\u00b6ster\", \"showlegend\": true, \"type\": \"scatter\", \"x\": [\"-\"], \"xaxis\": \"x\", \"y\": [\"-\"], \"yaxis\": \"y\"}, {\"customdata\": [[\"Abdoulaye Niang\"]], \"hovertemplate\": \"Name=%{customdata[0]}<br>Gls/90=%{x}<br>Ch C/90=%{y}<br>Age=%{marker.size}<extra></extra>\", \"legendgroup\": \"Abdoulaye Niang\", \"marker\": {\"color\": \"#00cc96\", \"size\": [19], \"sizemode\": \"area\", \"sizeref\": 0.0875, \"symbol\": \"circle\"}, \"mode\": \"markers\", \"name\": \"Abdoulaye Niang\", \"showlegend\": true, \"type\": \"scatter\", \"x\": [\"-\"], \"xaxis\": \"x\", \"y\": [\"0.19\"], \"yaxis\": \"y\"}, {\"customdata\": [[\"Sven Bender\"]], \"hovertemplate\": \"Name=%{customdata[0]}<br>Gls/90=%{x}<br>Ch C/90=%{y}<br>Age=%{marker.size}<extra></extra>\", \"legendgroup\": \"Sven Bender\", \"marker\": {\"color\": \"#ab63fa\", \"size\": [33], \"sizemode\": \"area\", \"sizeref\": 0.0875, \"symbol\": \"circle\"}, \"mode\": \"markers\", \"name\": \"Sven Bender\", \"showlegend\": true, \"type\": \"scatter\", \"x\": [\"0.06\"], \"xaxis\": \"x\", \"y\": [\"-\"], \"yaxis\": \"y\"}, {\"customdata\": [[\"Gary Medel\"]], \"hovertemplate\": \"Name=%{customdata[0]}<br>Gls/90=%{x}<br>Ch C/90=%{y}<br>Age=%{marker.size}<extra></extra>\", \"legendgroup\": \"Gary Medel\", \"marker\": {\"color\": \"#FFA15A\", \"size\": [35], \"sizemode\": \"area\", \"sizeref\": 0.0875, \"symbol\": \"circle\"}, \"mode\": \"markers\", \"name\": \"Gary Medel\", \"showlegend\": true, \"type\": \"scatter\", \"x\": [\"-\"], \"xaxis\": \"x\", \"y\": [\"0.09\"], \"yaxis\": \"y\"}],\n",
       "                        {\"font\": {\"color\": \"#7f7f7f\", \"family\": \"Courier New, monospace\", \"size\": 16}, \"legend\": {\"itemsizing\": \"constant\", \"title\": {\"text\": \"Name\"}, \"tracegroupgap\": 0}, \"margin\": {\"t\": 60}, \"template\": {\"data\": {\"bar\": [{\"error_x\": {\"color\": \"#2a3f5f\"}, \"error_y\": {\"color\": \"#2a3f5f\"}, \"marker\": {\"line\": {\"color\": \"#E5ECF6\", \"width\": 0.5}}, \"type\": \"bar\"}], \"barpolar\": [{\"marker\": {\"line\": {\"color\": \"#E5ECF6\", \"width\": 0.5}}, \"type\": \"barpolar\"}], \"carpet\": [{\"aaxis\": {\"endlinecolor\": \"#2a3f5f\", \"gridcolor\": \"white\", \"linecolor\": \"white\", \"minorgridcolor\": \"white\", \"startlinecolor\": \"#2a3f5f\"}, \"baxis\": {\"endlinecolor\": \"#2a3f5f\", \"gridcolor\": \"white\", \"linecolor\": \"white\", \"minorgridcolor\": \"white\", \"startlinecolor\": \"#2a3f5f\"}, \"type\": \"carpet\"}], \"choropleth\": [{\"colorbar\": {\"outlinewidth\": 0, \"ticks\": \"\"}, \"type\": \"choropleth\"}], \"contour\": [{\"colorbar\": {\"outlinewidth\": 0, \"ticks\": \"\"}, \"colorscale\": [[0.0, \"#0d0887\"], [0.1111111111111111, \"#46039f\"], [0.2222222222222222, \"#7201a8\"], [0.3333333333333333, \"#9c179e\"], [0.4444444444444444, \"#bd3786\"], [0.5555555555555556, \"#d8576b\"], [0.6666666666666666, \"#ed7953\"], [0.7777777777777778, \"#fb9f3a\"], [0.8888888888888888, \"#fdca26\"], [1.0, \"#f0f921\"]], \"type\": \"contour\"}], \"contourcarpet\": [{\"colorbar\": {\"outlinewidth\": 0, \"ticks\": \"\"}, \"type\": \"contourcarpet\"}], \"heatmap\": [{\"colorbar\": {\"outlinewidth\": 0, \"ticks\": \"\"}, \"colorscale\": [[0.0, \"#0d0887\"], [0.1111111111111111, \"#46039f\"], [0.2222222222222222, \"#7201a8\"], [0.3333333333333333, \"#9c179e\"], [0.4444444444444444, \"#bd3786\"], [0.5555555555555556, \"#d8576b\"], [0.6666666666666666, \"#ed7953\"], [0.7777777777777778, \"#fb9f3a\"], [0.8888888888888888, \"#fdca26\"], [1.0, \"#f0f921\"]], \"type\": \"heatmap\"}], \"heatmapgl\": [{\"colorbar\": {\"outlinewidth\": 0, \"ticks\": \"\"}, \"colorscale\": [[0.0, \"#0d0887\"], [0.1111111111111111, \"#46039f\"], [0.2222222222222222, \"#7201a8\"], [0.3333333333333333, \"#9c179e\"], [0.4444444444444444, \"#bd3786\"], [0.5555555555555556, \"#d8576b\"], [0.6666666666666666, \"#ed7953\"], [0.7777777777777778, \"#fb9f3a\"], [0.8888888888888888, \"#fdca26\"], [1.0, \"#f0f921\"]], \"type\": \"heatmapgl\"}], \"histogram\": [{\"marker\": {\"colorbar\": {\"outlinewidth\": 0, \"ticks\": \"\"}}, \"type\": \"histogram\"}], \"histogram2d\": [{\"colorbar\": {\"outlinewidth\": 0, \"ticks\": \"\"}, \"colorscale\": [[0.0, \"#0d0887\"], [0.1111111111111111, \"#46039f\"], [0.2222222222222222, \"#7201a8\"], [0.3333333333333333, \"#9c179e\"], [0.4444444444444444, \"#bd3786\"], [0.5555555555555556, \"#d8576b\"], [0.6666666666666666, \"#ed7953\"], [0.7777777777777778, \"#fb9f3a\"], [0.8888888888888888, \"#fdca26\"], [1.0, \"#f0f921\"]], \"type\": \"histogram2d\"}], \"histogram2dcontour\": [{\"colorbar\": {\"outlinewidth\": 0, \"ticks\": \"\"}, \"colorscale\": [[0.0, \"#0d0887\"], [0.1111111111111111, \"#46039f\"], [0.2222222222222222, \"#7201a8\"], [0.3333333333333333, \"#9c179e\"], [0.4444444444444444, \"#bd3786\"], [0.5555555555555556, \"#d8576b\"], [0.6666666666666666, \"#ed7953\"], [0.7777777777777778, \"#fb9f3a\"], [0.8888888888888888, \"#fdca26\"], [1.0, \"#f0f921\"]], \"type\": \"histogram2dcontour\"}], \"mesh3d\": [{\"colorbar\": {\"outlinewidth\": 0, \"ticks\": \"\"}, \"type\": \"mesh3d\"}], \"parcoords\": [{\"line\": {\"colorbar\": {\"outlinewidth\": 0, \"ticks\": \"\"}}, \"type\": \"parcoords\"}], \"pie\": [{\"automargin\": true, \"type\": \"pie\"}], \"scatter\": [{\"marker\": {\"colorbar\": {\"outlinewidth\": 0, \"ticks\": \"\"}}, \"type\": \"scatter\"}], \"scatter3d\": [{\"line\": {\"colorbar\": {\"outlinewidth\": 0, \"ticks\": \"\"}}, \"marker\": {\"colorbar\": {\"outlinewidth\": 0, \"ticks\": \"\"}}, \"type\": \"scatter3d\"}], \"scattercarpet\": [{\"marker\": {\"colorbar\": {\"outlinewidth\": 0, \"ticks\": \"\"}}, \"type\": \"scattercarpet\"}], \"scattergeo\": [{\"marker\": {\"colorbar\": {\"outlinewidth\": 0, \"ticks\": \"\"}}, \"type\": \"scattergeo\"}], \"scattergl\": [{\"marker\": {\"colorbar\": {\"outlinewidth\": 0, \"ticks\": \"\"}}, \"type\": \"scattergl\"}], \"scattermapbox\": [{\"marker\": {\"colorbar\": {\"outlinewidth\": 0, \"ticks\": \"\"}}, \"type\": \"scattermapbox\"}], \"scatterpolar\": [{\"marker\": {\"colorbar\": {\"outlinewidth\": 0, \"ticks\": \"\"}}, \"type\": \"scatterpolar\"}], \"scatterpolargl\": [{\"marker\": {\"colorbar\": {\"outlinewidth\": 0, \"ticks\": \"\"}}, \"type\": \"scatterpolargl\"}], \"scatterternary\": [{\"marker\": {\"colorbar\": {\"outlinewidth\": 0, \"ticks\": \"\"}}, \"type\": \"scatterternary\"}], \"surface\": [{\"colorbar\": {\"outlinewidth\": 0, \"ticks\": \"\"}, \"colorscale\": [[0.0, \"#0d0887\"], [0.1111111111111111, \"#46039f\"], [0.2222222222222222, \"#7201a8\"], [0.3333333333333333, \"#9c179e\"], [0.4444444444444444, \"#bd3786\"], [0.5555555555555556, \"#d8576b\"], [0.6666666666666666, \"#ed7953\"], [0.7777777777777778, \"#fb9f3a\"], [0.8888888888888888, \"#fdca26\"], [1.0, \"#f0f921\"]], \"type\": \"surface\"}], \"table\": [{\"cells\": {\"fill\": {\"color\": \"#EBF0F8\"}, \"line\": {\"color\": \"white\"}}, \"header\": {\"fill\": {\"color\": \"#C8D4E3\"}, \"line\": {\"color\": \"white\"}}, \"type\": \"table\"}]}, \"layout\": {\"annotationdefaults\": {\"arrowcolor\": \"#2a3f5f\", \"arrowhead\": 0, \"arrowwidth\": 1}, \"coloraxis\": {\"colorbar\": {\"outlinewidth\": 0, \"ticks\": \"\"}}, \"colorscale\": {\"diverging\": [[0, \"#8e0152\"], [0.1, \"#c51b7d\"], [0.2, \"#de77ae\"], [0.3, \"#f1b6da\"], [0.4, \"#fde0ef\"], [0.5, \"#f7f7f7\"], [0.6, \"#e6f5d0\"], [0.7, \"#b8e186\"], [0.8, \"#7fbc41\"], [0.9, \"#4d9221\"], [1, \"#276419\"]], \"sequential\": [[0.0, \"#0d0887\"], [0.1111111111111111, \"#46039f\"], [0.2222222222222222, \"#7201a8\"], [0.3333333333333333, \"#9c179e\"], [0.4444444444444444, \"#bd3786\"], [0.5555555555555556, \"#d8576b\"], [0.6666666666666666, \"#ed7953\"], [0.7777777777777778, \"#fb9f3a\"], [0.8888888888888888, \"#fdca26\"], [1.0, \"#f0f921\"]], \"sequentialminus\": [[0.0, \"#0d0887\"], [0.1111111111111111, \"#46039f\"], [0.2222222222222222, \"#7201a8\"], [0.3333333333333333, \"#9c179e\"], [0.4444444444444444, \"#bd3786\"], [0.5555555555555556, \"#d8576b\"], [0.6666666666666666, \"#ed7953\"], [0.7777777777777778, \"#fb9f3a\"], [0.8888888888888888, \"#fdca26\"], [1.0, \"#f0f921\"]]}, \"colorway\": [\"#636efa\", \"#EF553B\", \"#00cc96\", \"#ab63fa\", \"#FFA15A\", \"#19d3f3\", \"#FF6692\", \"#B6E880\", \"#FF97FF\", \"#FECB52\"], \"font\": {\"color\": \"#2a3f5f\"}, \"geo\": {\"bgcolor\": \"white\", \"lakecolor\": \"white\", \"landcolor\": \"#E5ECF6\", \"showlakes\": true, \"showland\": true, \"subunitcolor\": \"white\"}, \"hoverlabel\": {\"align\": \"left\"}, \"hovermode\": \"closest\", \"mapbox\": {\"style\": \"light\"}, \"paper_bgcolor\": \"white\", \"plot_bgcolor\": \"#E5ECF6\", \"polar\": {\"angularaxis\": {\"gridcolor\": \"white\", \"linecolor\": \"white\", \"ticks\": \"\"}, \"bgcolor\": \"#E5ECF6\", \"radialaxis\": {\"gridcolor\": \"white\", \"linecolor\": \"white\", \"ticks\": \"\"}}, \"scene\": {\"xaxis\": {\"backgroundcolor\": \"#E5ECF6\", \"gridcolor\": \"white\", \"gridwidth\": 2, \"linecolor\": \"white\", \"showbackground\": true, \"ticks\": \"\", \"zerolinecolor\": \"white\"}, \"yaxis\": {\"backgroundcolor\": \"#E5ECF6\", \"gridcolor\": \"white\", \"gridwidth\": 2, \"linecolor\": \"white\", \"showbackground\": true, \"ticks\": \"\", \"zerolinecolor\": \"white\"}, \"zaxis\": {\"backgroundcolor\": \"#E5ECF6\", \"gridcolor\": \"white\", \"gridwidth\": 2, \"linecolor\": \"white\", \"showbackground\": true, \"ticks\": \"\", \"zerolinecolor\": \"white\"}}, \"shapedefaults\": {\"line\": {\"color\": \"#2a3f5f\"}}, \"ternary\": {\"aaxis\": {\"gridcolor\": \"white\", \"linecolor\": \"white\", \"ticks\": \"\"}, \"baxis\": {\"gridcolor\": \"white\", \"linecolor\": \"white\", \"ticks\": \"\"}, \"bgcolor\": \"#E5ECF6\", \"caxis\": {\"gridcolor\": \"white\", \"linecolor\": \"white\", \"ticks\": \"\"}}, \"title\": {\"x\": 0.05}, \"xaxis\": {\"automargin\": true, \"gridcolor\": \"white\", \"linecolor\": \"white\", \"ticks\": \"\", \"title\": {\"standoff\": 15}, \"zerolinecolor\": \"white\", \"zerolinewidth\": 2}, \"yaxis\": {\"automargin\": true, \"gridcolor\": \"white\", \"linecolor\": \"white\", \"ticks\": \"\", \"title\": {\"standoff\": 15}, \"zerolinecolor\": \"white\", \"zerolinewidth\": 2}}}, \"title\": {\"text\": \"Inside Forward - Attack\"}, \"xaxis\": {\"anchor\": \"y\", \"domain\": [0.0, 1.0], \"title\": {\"text\": \"Goals/90\"}}, \"yaxis\": {\"anchor\": \"x\", \"domain\": [0.0, 1.0], \"title\": {\"text\": \"Chances Created/90\"}}},\n",
       "                        {\"responsive\": true}\n",
       "                    ).then(function(){\n",
       "                            \n",
       "var gd = document.getElementById('906ed21d-fae6-43c4-981b-0dd365267ac2');\n",
       "var x = new MutationObserver(function (mutations, observer) {{\n",
       "        var display = window.getComputedStyle(gd).display;\n",
       "        if (!display || display === 'none') {{\n",
       "            console.log([gd, 'removed!']);\n",
       "            Plotly.purge(gd);\n",
       "            observer.disconnect();\n",
       "        }}\n",
       "}});\n",
       "\n",
       "// Listen for the removal of the full notebook cells\n",
       "var notebookContainer = gd.closest('#notebook-container');\n",
       "if (notebookContainer) {{\n",
       "    x.observe(notebookContainer, {childList: true});\n",
       "}}\n",
       "\n",
       "// Listen for the clearing of the current output cell\n",
       "var outputEl = gd.closest('.output');\n",
       "if (outputEl) {{\n",
       "    x.observe(outputEl, {childList: true});\n",
       "}}\n",
       "\n",
       "                        })\n",
       "                };\n",
       "                });\n",
       "            </script>\n",
       "        </div>"
      ]
     },
     "metadata": {},
     "output_type": "display_data"
    }
   ],
   "source": [
    "# Inside Forward - Attack\n",
    "\n",
    "fig = px.scatter(df, x=\"Gls/90\", y=\"Ch C/90\", color=\"Name\",  \n",
    "        size='Age', hover_data=['Name'])\n",
    "\n",
    "fig.update_layout(\n",
    "    title=\"Inside Forward - Attack\",\n",
    "    xaxis_title=\"Goals/90\",\n",
    "    yaxis_title=\"Chances Created/90\",\n",
    "    font=dict(\n",
    "        family=\"Courier New, monospace\",\n",
    "        size=16,\n",
    "        color=\"#7f7f7f\"\n",
    "    )\n",
    ")\n",
    "fig.show()"
   ]
  },
  {
   "cell_type": "code",
   "execution_count": 14,
   "metadata": {},
   "outputs": [
    {
     "data": {
      "application/vnd.plotly.v1+json": {
       "config": {
        "plotlyServerURL": "https://plot.ly"
       },
       "data": [
        {
         "customdata": [
          [
           "Shawn Hery"
          ]
         ],
         "hovertemplate": "Name=%{customdata[0]}<br>Shot/90=%{x}<br>Gls/90=%{y}<br>Age=%{marker.size}<extra></extra>",
         "legendgroup": "Shawn Hery",
         "marker": {
          "color": "#636efa",
          "size": [
           21
          ],
          "sizemode": "area",
          "sizeref": 0.0875,
          "symbol": "circle"
         },
         "mode": "markers",
         "name": "Shawn Hery",
         "showlegend": true,
         "type": "scatter",
         "x": [
          "3.29"
         ],
         "xaxis": "x",
         "y": [
          "0.34"
         ],
         "yaxis": "y"
        },
        {
         "customdata": [
          [
           "Franck Evina"
          ]
         ],
         "hovertemplate": "Name=%{customdata[0]}<br>Shot/90=%{x}<br>Gls/90=%{y}<br>Age=%{marker.size}<extra></extra>",
         "legendgroup": "Franck Evina",
         "marker": {
          "color": "#EF553B",
          "size": [
           22
          ],
          "sizemode": "area",
          "sizeref": 0.0875,
          "symbol": "circle"
         },
         "mode": "markers",
         "name": "Franck Evina",
         "showlegend": true,
         "type": "scatter",
         "x": [
          "3.58"
         ],
         "xaxis": "x",
         "y": [
          "0.51"
         ],
         "yaxis": "y"
        },
        {
         "customdata": [
          [
           "Luca Unbehaun"
          ]
         ],
         "hovertemplate": "Name=%{customdata[0]}<br>Shot/90=%{x}<br>Gls/90=%{y}<br>Age=%{marker.size}<extra></extra>",
         "legendgroup": "Luca Unbehaun",
         "marker": {
          "color": "#00cc96",
          "size": [
           21
          ],
          "sizemode": "area",
          "sizeref": 0.0875,
          "symbol": "circle"
         },
         "mode": "markers",
         "name": "Luca Unbehaun",
         "showlegend": true,
         "type": "scatter",
         "x": [
          "-"
         ],
         "xaxis": "x",
         "y": [
          "-"
         ],
         "yaxis": "y"
        },
        {
         "customdata": [
          [
           "Marvin Jung"
          ]
         ],
         "hovertemplate": "Name=%{customdata[0]}<br>Shot/90=%{x}<br>Gls/90=%{y}<br>Age=%{marker.size}<extra></extra>",
         "legendgroup": "Marvin Jung",
         "marker": {
          "color": "#ab63fa",
          "size": [
           21
          ],
          "sizemode": "area",
          "sizeref": 0.0875,
          "symbol": "circle"
         },
         "mode": "markers",
         "name": "Marvin Jung",
         "showlegend": true,
         "type": "scatter",
         "x": [
          "0.88"
         ],
         "xaxis": "x",
         "y": [
          "-"
         ],
         "yaxis": "y"
        },
        {
         "customdata": [
          [
           "Mike Fitzner"
          ]
         ],
         "hovertemplate": "Name=%{customdata[0]}<br>Shot/90=%{x}<br>Gls/90=%{y}<br>Age=%{marker.size}<extra></extra>",
         "legendgroup": "Mike Fitzner",
         "marker": {
          "color": "#FFA15A",
          "size": [
           18
          ],
          "sizemode": "area",
          "sizeref": 0.0875,
          "symbol": "circle"
         },
         "mode": "markers",
         "name": "Mike Fitzner",
         "showlegend": true,
         "type": "scatter",
         "x": [
          "4.35"
         ],
         "xaxis": "x",
         "y": [
          "0.36"
         ],
         "yaxis": "y"
        },
        {
         "customdata": [
          [
           "Sefer AygÃ¼n"
          ]
         ],
         "hovertemplate": "Name=%{customdata[0]}<br>Shot/90=%{x}<br>Gls/90=%{y}<br>Age=%{marker.size}<extra></extra>",
         "legendgroup": "Sefer AygÃ¼n",
         "marker": {
          "color": "#19d3f3",
          "size": [
           18
          ],
          "sizemode": "area",
          "sizeref": 0.0875,
          "symbol": "circle"
         },
         "mode": "markers",
         "name": "Sefer AygÃ¼n",
         "showlegend": true,
         "type": "scatter",
         "x": [
          "0.53"
         ],
         "xaxis": "x",
         "y": [
          "-"
         ],
         "yaxis": "y"
        },
        {
         "customdata": [
          [
           "Marco Hiller"
          ]
         ],
         "hovertemplate": "Name=%{customdata[0]}<br>Shot/90=%{x}<br>Gls/90=%{y}<br>Age=%{marker.size}<extra></extra>",
         "legendgroup": "Marco Hiller",
         "marker": {
          "color": "#FF6692",
          "size": [
           25
          ],
          "sizemode": "area",
          "sizeref": 0.0875,
          "symbol": "circle"
         },
         "mode": "markers",
         "name": "Marco Hiller",
         "showlegend": true,
         "type": "scatter",
         "x": [
          "-"
         ],
         "xaxis": "x",
         "y": [
          "-"
         ],
         "yaxis": "y"
        },
        {
         "customdata": [
          [
           "Leon Klassen"
          ]
         ],
         "hovertemplate": "Name=%{customdata[0]}<br>Shot/90=%{x}<br>Gls/90=%{y}<br>Age=%{marker.size}<extra></extra>",
         "legendgroup": "Leon Klassen",
         "marker": {
          "color": "#B6E880",
          "size": [
           22
          ],
          "sizemode": "area",
          "sizeref": 0.0875,
          "symbol": "circle"
         },
         "mode": "markers",
         "name": "Leon Klassen",
         "showlegend": true,
         "type": "scatter",
         "x": [
          "0.66"
         ],
         "xaxis": "x",
         "y": [
          "0.07"
         ],
         "yaxis": "y"
        },
        {
         "customdata": [
          [
           "Noel Niemann"
          ]
         ],
         "hovertemplate": "Name=%{customdata[0]}<br>Shot/90=%{x}<br>Gls/90=%{y}<br>Age=%{marker.size}<extra></extra>",
         "legendgroup": "Noel Niemann",
         "marker": {
          "color": "#FF97FF",
          "size": [
           23
          ],
          "sizemode": "area",
          "sizeref": 0.0875,
          "symbol": "circle"
         },
         "mode": "markers",
         "name": "Noel Niemann",
         "showlegend": true,
         "type": "scatter",
         "x": [
          "2.40"
         ],
         "xaxis": "x",
         "y": [
          "0.22"
         ],
         "yaxis": "y"
        },
        {
         "customdata": [
          [
           "Lucas Deaux"
          ]
         ],
         "hovertemplate": "Name=%{customdata[0]}<br>Shot/90=%{x}<br>Gls/90=%{y}<br>Age=%{marker.size}<extra></extra>",
         "legendgroup": "Lucas Deaux",
         "marker": {
          "color": "#FECB52",
          "size": [
           33
          ],
          "sizemode": "area",
          "sizeref": 0.0875,
          "symbol": "circle"
         },
         "mode": "markers",
         "name": "Lucas Deaux",
         "showlegend": true,
         "type": "scatter",
         "x": [
          "1.60"
         ],
         "xaxis": "x",
         "y": [
          "0.11"
         ],
         "yaxis": "y"
        },
        {
         "customdata": [
          [
           "Julian Schwermann"
          ]
         ],
         "hovertemplate": "Name=%{customdata[0]}<br>Shot/90=%{x}<br>Gls/90=%{y}<br>Age=%{marker.size}<extra></extra>",
         "legendgroup": "Julian Schwermann",
         "marker": {
          "color": "#636efa",
          "size": [
           23
          ],
          "sizemode": "area",
          "sizeref": 0.0875,
          "symbol": "circle"
         },
         "mode": "markers",
         "name": "Julian Schwermann",
         "showlegend": true,
         "type": "scatter",
         "x": [
          "0.65"
         ],
         "xaxis": "x",
         "y": [
          "0.14"
         ],
         "yaxis": "y"
        },
        {
         "customdata": [
          [
           "Oliver Kragl"
          ]
         ],
         "hovertemplate": "Name=%{customdata[0]}<br>Shot/90=%{x}<br>Gls/90=%{y}<br>Age=%{marker.size}<extra></extra>",
         "legendgroup": "Oliver Kragl",
         "marker": {
          "color": "#EF553B",
          "size": [
           32
          ],
          "sizemode": "area",
          "sizeref": 0.0875,
          "symbol": "circle"
         },
         "mode": "markers",
         "name": "Oliver Kragl",
         "showlegend": true,
         "type": "scatter",
         "x": [
          "2.93"
         ],
         "xaxis": "x",
         "y": [
          "0.53"
         ],
         "yaxis": "y"
        },
        {
         "customdata": [
          [
           "Ben SchÃ¤fer"
          ]
         ],
         "hovertemplate": "Name=%{customdata[0]}<br>Shot/90=%{x}<br>Gls/90=%{y}<br>Age=%{marker.size}<extra></extra>",
         "legendgroup": "Ben SchÃ¤fer",
         "marker": {
          "color": "#00cc96",
          "size": [
           18
          ],
          "sizemode": "area",
          "sizeref": 0.0875,
          "symbol": "circle"
         },
         "mode": "markers",
         "name": "Ben SchÃ¤fer",
         "showlegend": true,
         "type": "scatter",
         "x": [
          "-"
         ],
         "xaxis": "x",
         "y": [
          "-"
         ],
         "yaxis": "y"
        },
        {
         "customdata": [
          [
           "Andreas Ahlm"
          ]
         ],
         "hovertemplate": "Name=%{customdata[0]}<br>Shot/90=%{x}<br>Gls/90=%{y}<br>Age=%{marker.size}<extra></extra>",
         "legendgroup": "Andreas Ahlm",
         "marker": {
          "color": "#ab63fa",
          "size": [
           18
          ],
          "sizemode": "area",
          "sizeref": 0.0875,
          "symbol": "circle"
         },
         "mode": "markers",
         "name": "Andreas Ahlm",
         "showlegend": true,
         "type": "scatter",
         "x": [
          "-"
         ],
         "xaxis": "x",
         "y": [
          "-"
         ],
         "yaxis": "y"
        },
        {
         "customdata": [
          [
           "Petr Dvorak"
          ]
         ],
         "hovertemplate": "Name=%{customdata[0]}<br>Shot/90=%{x}<br>Gls/90=%{y}<br>Age=%{marker.size}<extra></extra>",
         "legendgroup": "Petr Dvorak",
         "marker": {
          "color": "#FFA15A",
          "size": [
           17
          ],
          "sizemode": "area",
          "sizeref": 0.0875,
          "symbol": "circle"
         },
         "mode": "markers",
         "name": "Petr Dvorak",
         "showlegend": true,
         "type": "scatter",
         "x": [
          "-"
         ],
         "xaxis": "x",
         "y": [
          "-"
         ],
         "yaxis": "y"
        },
        {
         "customdata": [
          [
           "Efkan Bekiroglu"
          ]
         ],
         "hovertemplate": "Name=%{customdata[0]}<br>Shot/90=%{x}<br>Gls/90=%{y}<br>Age=%{marker.size}<extra></extra>",
         "legendgroup": "Efkan Bekiroglu",
         "marker": {
          "color": "#19d3f3",
          "size": [
           27
          ],
          "sizemode": "area",
          "sizeref": 0.0875,
          "symbol": "circle"
         },
         "mode": "markers",
         "name": "Efkan Bekiroglu",
         "showlegend": true,
         "type": "scatter",
         "x": [
          "1.73"
         ],
         "xaxis": "x",
         "y": [
          "-"
         ],
         "yaxis": "y"
        },
        {
         "customdata": [
          [
           "Fabian Greilinger"
          ]
         ],
         "hovertemplate": "Name=%{customdata[0]}<br>Shot/90=%{x}<br>Gls/90=%{y}<br>Age=%{marker.size}<extra></extra>",
         "legendgroup": "Fabian Greilinger",
         "marker": {
          "color": "#FF6692",
          "size": [
           22
          ],
          "sizemode": "area",
          "sizeref": 0.0875,
          "symbol": "circle"
         },
         "mode": "markers",
         "name": "Fabian Greilinger",
         "showlegend": true,
         "type": "scatter",
         "x": [
          "4.87"
         ],
         "xaxis": "x",
         "y": [
          "0.64"
         ],
         "yaxis": "y"
        },
        {
         "customdata": [
          [
           "Marko Basic"
          ]
         ],
         "hovertemplate": "Name=%{customdata[0]}<br>Shot/90=%{x}<br>Gls/90=%{y}<br>Age=%{marker.size}<extra></extra>",
         "legendgroup": "Marko Basic",
         "marker": {
          "color": "#B6E880",
          "size": [
           17
          ],
          "sizemode": "area",
          "sizeref": 0.0875,
          "symbol": "circle"
         },
         "mode": "markers",
         "name": "Marko Basic",
         "showlegend": true,
         "type": "scatter",
         "x": [
          "-"
         ],
         "xaxis": "x",
         "y": [
          "-"
         ],
         "yaxis": "y"
        },
        {
         "customdata": [
          [
           "Mert GÃ¶ckan"
          ]
         ],
         "hovertemplate": "Name=%{customdata[0]}<br>Shot/90=%{x}<br>Gls/90=%{y}<br>Age=%{marker.size}<extra></extra>",
         "legendgroup": "Mert GÃ¶ckan",
         "marker": {
          "color": "#FF97FF",
          "size": [
           21
          ],
          "sizemode": "area",
          "sizeref": 0.0875,
          "symbol": "circle"
         },
         "mode": "markers",
         "name": "Mert GÃ¶ckan",
         "showlegend": true,
         "type": "scatter",
         "x": [
          "0.29"
         ],
         "xaxis": "x",
         "y": [
          "-"
         ],
         "yaxis": "y"
        },
        {
         "customdata": [
          [
           "Gabriel Isik"
          ]
         ],
         "hovertemplate": "Name=%{customdata[0]}<br>Shot/90=%{x}<br>Gls/90=%{y}<br>Age=%{marker.size}<extra></extra>",
         "legendgroup": "Gabriel Isik",
         "marker": {
          "color": "#FECB52",
          "size": [
           23
          ],
          "sizemode": "area",
          "sizeref": 0.0875,
          "symbol": "circle"
         },
         "mode": "markers",
         "name": "Gabriel Isik",
         "showlegend": true,
         "type": "scatter",
         "x": [
          "0.56"
         ],
         "xaxis": "x",
         "y": [
          "0.13"
         ],
         "yaxis": "y"
        },
        {
         "customdata": [
          [
           "Pawel Majewski"
          ]
         ],
         "hovertemplate": "Name=%{customdata[0]}<br>Shot/90=%{x}<br>Gls/90=%{y}<br>Age=%{marker.size}<extra></extra>",
         "legendgroup": "Pawel Majewski",
         "marker": {
          "color": "#636efa",
          "size": [
           18
          ],
          "sizemode": "area",
          "sizeref": 0.0875,
          "symbol": "circle"
         },
         "mode": "markers",
         "name": "Pawel Majewski",
         "showlegend": true,
         "type": "scatter",
         "x": [
          "-"
         ],
         "xaxis": "x",
         "y": [
          "-"
         ],
         "yaxis": "y"
        },
        {
         "customdata": [
          [
           "Peter KÃ¶ster"
          ]
         ],
         "hovertemplate": "Name=%{customdata[0]}<br>Shot/90=%{x}<br>Gls/90=%{y}<br>Age=%{marker.size}<extra></extra>",
         "legendgroup": "Peter KÃ¶ster",
         "marker": {
          "color": "#EF553B",
          "size": [
           23
          ],
          "sizemode": "area",
          "sizeref": 0.0875,
          "symbol": "circle"
         },
         "mode": "markers",
         "name": "Peter KÃ¶ster",
         "showlegend": true,
         "type": "scatter",
         "x": [
          "0.32"
         ],
         "xaxis": "x",
         "y": [
          "-"
         ],
         "yaxis": "y"
        },
        {
         "customdata": [
          [
           "Abdoulaye Niang"
          ]
         ],
         "hovertemplate": "Name=%{customdata[0]}<br>Shot/90=%{x}<br>Gls/90=%{y}<br>Age=%{marker.size}<extra></extra>",
         "legendgroup": "Abdoulaye Niang",
         "marker": {
          "color": "#00cc96",
          "size": [
           19
          ],
          "sizemode": "area",
          "sizeref": 0.0875,
          "symbol": "circle"
         },
         "mode": "markers",
         "name": "Abdoulaye Niang",
         "showlegend": true,
         "type": "scatter",
         "x": [
          "1.07"
         ],
         "xaxis": "x",
         "y": [
          "-"
         ],
         "yaxis": "y"
        },
        {
         "customdata": [
          [
           "Sven Bender"
          ]
         ],
         "hovertemplate": "Name=%{customdata[0]}<br>Shot/90=%{x}<br>Gls/90=%{y}<br>Age=%{marker.size}<extra></extra>",
         "legendgroup": "Sven Bender",
         "marker": {
          "color": "#ab63fa",
          "size": [
           33
          ],
          "sizemode": "area",
          "sizeref": 0.0875,
          "symbol": "circle"
         },
         "mode": "markers",
         "name": "Sven Bender",
         "showlegend": true,
         "type": "scatter",
         "x": [
          "0.61"
         ],
         "xaxis": "x",
         "y": [
          "0.06"
         ],
         "yaxis": "y"
        },
        {
         "customdata": [
          [
           "Gary Medel"
          ]
         ],
         "hovertemplate": "Name=%{customdata[0]}<br>Shot/90=%{x}<br>Gls/90=%{y}<br>Age=%{marker.size}<extra></extra>",
         "legendgroup": "Gary Medel",
         "marker": {
          "color": "#FFA15A",
          "size": [
           35
          ],
          "sizemode": "area",
          "sizeref": 0.0875,
          "symbol": "circle"
         },
         "mode": "markers",
         "name": "Gary Medel",
         "showlegend": true,
         "type": "scatter",
         "x": [
          "0.56"
         ],
         "xaxis": "x",
         "y": [
          "-"
         ],
         "yaxis": "y"
        }
       ],
       "layout": {
        "font": {
         "color": "#7f7f7f",
         "family": "Courier New, monospace",
         "size": 16
        },
        "legend": {
         "itemsizing": "constant",
         "title": {
          "text": "Name"
         },
         "tracegroupgap": 0
        },
        "margin": {
         "t": 60
        },
        "template": {
         "data": {
          "bar": [
           {
            "error_x": {
             "color": "#2a3f5f"
            },
            "error_y": {
             "color": "#2a3f5f"
            },
            "marker": {
             "line": {
              "color": "#E5ECF6",
              "width": 0.5
             }
            },
            "type": "bar"
           }
          ],
          "barpolar": [
           {
            "marker": {
             "line": {
              "color": "#E5ECF6",
              "width": 0.5
             }
            },
            "type": "barpolar"
           }
          ],
          "carpet": [
           {
            "aaxis": {
             "endlinecolor": "#2a3f5f",
             "gridcolor": "white",
             "linecolor": "white",
             "minorgridcolor": "white",
             "startlinecolor": "#2a3f5f"
            },
            "baxis": {
             "endlinecolor": "#2a3f5f",
             "gridcolor": "white",
             "linecolor": "white",
             "minorgridcolor": "white",
             "startlinecolor": "#2a3f5f"
            },
            "type": "carpet"
           }
          ],
          "choropleth": [
           {
            "colorbar": {
             "outlinewidth": 0,
             "ticks": ""
            },
            "type": "choropleth"
           }
          ],
          "contour": [
           {
            "colorbar": {
             "outlinewidth": 0,
             "ticks": ""
            },
            "colorscale": [
             [
              0,
              "#0d0887"
             ],
             [
              0.1111111111111111,
              "#46039f"
             ],
             [
              0.2222222222222222,
              "#7201a8"
             ],
             [
              0.3333333333333333,
              "#9c179e"
             ],
             [
              0.4444444444444444,
              "#bd3786"
             ],
             [
              0.5555555555555556,
              "#d8576b"
             ],
             [
              0.6666666666666666,
              "#ed7953"
             ],
             [
              0.7777777777777778,
              "#fb9f3a"
             ],
             [
              0.8888888888888888,
              "#fdca26"
             ],
             [
              1,
              "#f0f921"
             ]
            ],
            "type": "contour"
           }
          ],
          "contourcarpet": [
           {
            "colorbar": {
             "outlinewidth": 0,
             "ticks": ""
            },
            "type": "contourcarpet"
           }
          ],
          "heatmap": [
           {
            "colorbar": {
             "outlinewidth": 0,
             "ticks": ""
            },
            "colorscale": [
             [
              0,
              "#0d0887"
             ],
             [
              0.1111111111111111,
              "#46039f"
             ],
             [
              0.2222222222222222,
              "#7201a8"
             ],
             [
              0.3333333333333333,
              "#9c179e"
             ],
             [
              0.4444444444444444,
              "#bd3786"
             ],
             [
              0.5555555555555556,
              "#d8576b"
             ],
             [
              0.6666666666666666,
              "#ed7953"
             ],
             [
              0.7777777777777778,
              "#fb9f3a"
             ],
             [
              0.8888888888888888,
              "#fdca26"
             ],
             [
              1,
              "#f0f921"
             ]
            ],
            "type": "heatmap"
           }
          ],
          "heatmapgl": [
           {
            "colorbar": {
             "outlinewidth": 0,
             "ticks": ""
            },
            "colorscale": [
             [
              0,
              "#0d0887"
             ],
             [
              0.1111111111111111,
              "#46039f"
             ],
             [
              0.2222222222222222,
              "#7201a8"
             ],
             [
              0.3333333333333333,
              "#9c179e"
             ],
             [
              0.4444444444444444,
              "#bd3786"
             ],
             [
              0.5555555555555556,
              "#d8576b"
             ],
             [
              0.6666666666666666,
              "#ed7953"
             ],
             [
              0.7777777777777778,
              "#fb9f3a"
             ],
             [
              0.8888888888888888,
              "#fdca26"
             ],
             [
              1,
              "#f0f921"
             ]
            ],
            "type": "heatmapgl"
           }
          ],
          "histogram": [
           {
            "marker": {
             "colorbar": {
              "outlinewidth": 0,
              "ticks": ""
             }
            },
            "type": "histogram"
           }
          ],
          "histogram2d": [
           {
            "colorbar": {
             "outlinewidth": 0,
             "ticks": ""
            },
            "colorscale": [
             [
              0,
              "#0d0887"
             ],
             [
              0.1111111111111111,
              "#46039f"
             ],
             [
              0.2222222222222222,
              "#7201a8"
             ],
             [
              0.3333333333333333,
              "#9c179e"
             ],
             [
              0.4444444444444444,
              "#bd3786"
             ],
             [
              0.5555555555555556,
              "#d8576b"
             ],
             [
              0.6666666666666666,
              "#ed7953"
             ],
             [
              0.7777777777777778,
              "#fb9f3a"
             ],
             [
              0.8888888888888888,
              "#fdca26"
             ],
             [
              1,
              "#f0f921"
             ]
            ],
            "type": "histogram2d"
           }
          ],
          "histogram2dcontour": [
           {
            "colorbar": {
             "outlinewidth": 0,
             "ticks": ""
            },
            "colorscale": [
             [
              0,
              "#0d0887"
             ],
             [
              0.1111111111111111,
              "#46039f"
             ],
             [
              0.2222222222222222,
              "#7201a8"
             ],
             [
              0.3333333333333333,
              "#9c179e"
             ],
             [
              0.4444444444444444,
              "#bd3786"
             ],
             [
              0.5555555555555556,
              "#d8576b"
             ],
             [
              0.6666666666666666,
              "#ed7953"
             ],
             [
              0.7777777777777778,
              "#fb9f3a"
             ],
             [
              0.8888888888888888,
              "#fdca26"
             ],
             [
              1,
              "#f0f921"
             ]
            ],
            "type": "histogram2dcontour"
           }
          ],
          "mesh3d": [
           {
            "colorbar": {
             "outlinewidth": 0,
             "ticks": ""
            },
            "type": "mesh3d"
           }
          ],
          "parcoords": [
           {
            "line": {
             "colorbar": {
              "outlinewidth": 0,
              "ticks": ""
             }
            },
            "type": "parcoords"
           }
          ],
          "pie": [
           {
            "automargin": true,
            "type": "pie"
           }
          ],
          "scatter": [
           {
            "marker": {
             "colorbar": {
              "outlinewidth": 0,
              "ticks": ""
             }
            },
            "type": "scatter"
           }
          ],
          "scatter3d": [
           {
            "line": {
             "colorbar": {
              "outlinewidth": 0,
              "ticks": ""
             }
            },
            "marker": {
             "colorbar": {
              "outlinewidth": 0,
              "ticks": ""
             }
            },
            "type": "scatter3d"
           }
          ],
          "scattercarpet": [
           {
            "marker": {
             "colorbar": {
              "outlinewidth": 0,
              "ticks": ""
             }
            },
            "type": "scattercarpet"
           }
          ],
          "scattergeo": [
           {
            "marker": {
             "colorbar": {
              "outlinewidth": 0,
              "ticks": ""
             }
            },
            "type": "scattergeo"
           }
          ],
          "scattergl": [
           {
            "marker": {
             "colorbar": {
              "outlinewidth": 0,
              "ticks": ""
             }
            },
            "type": "scattergl"
           }
          ],
          "scattermapbox": [
           {
            "marker": {
             "colorbar": {
              "outlinewidth": 0,
              "ticks": ""
             }
            },
            "type": "scattermapbox"
           }
          ],
          "scatterpolar": [
           {
            "marker": {
             "colorbar": {
              "outlinewidth": 0,
              "ticks": ""
             }
            },
            "type": "scatterpolar"
           }
          ],
          "scatterpolargl": [
           {
            "marker": {
             "colorbar": {
              "outlinewidth": 0,
              "ticks": ""
             }
            },
            "type": "scatterpolargl"
           }
          ],
          "scatterternary": [
           {
            "marker": {
             "colorbar": {
              "outlinewidth": 0,
              "ticks": ""
             }
            },
            "type": "scatterternary"
           }
          ],
          "surface": [
           {
            "colorbar": {
             "outlinewidth": 0,
             "ticks": ""
            },
            "colorscale": [
             [
              0,
              "#0d0887"
             ],
             [
              0.1111111111111111,
              "#46039f"
             ],
             [
              0.2222222222222222,
              "#7201a8"
             ],
             [
              0.3333333333333333,
              "#9c179e"
             ],
             [
              0.4444444444444444,
              "#bd3786"
             ],
             [
              0.5555555555555556,
              "#d8576b"
             ],
             [
              0.6666666666666666,
              "#ed7953"
             ],
             [
              0.7777777777777778,
              "#fb9f3a"
             ],
             [
              0.8888888888888888,
              "#fdca26"
             ],
             [
              1,
              "#f0f921"
             ]
            ],
            "type": "surface"
           }
          ],
          "table": [
           {
            "cells": {
             "fill": {
              "color": "#EBF0F8"
             },
             "line": {
              "color": "white"
             }
            },
            "header": {
             "fill": {
              "color": "#C8D4E3"
             },
             "line": {
              "color": "white"
             }
            },
            "type": "table"
           }
          ]
         },
         "layout": {
          "annotationdefaults": {
           "arrowcolor": "#2a3f5f",
           "arrowhead": 0,
           "arrowwidth": 1
          },
          "coloraxis": {
           "colorbar": {
            "outlinewidth": 0,
            "ticks": ""
           }
          },
          "colorscale": {
           "diverging": [
            [
             0,
             "#8e0152"
            ],
            [
             0.1,
             "#c51b7d"
            ],
            [
             0.2,
             "#de77ae"
            ],
            [
             0.3,
             "#f1b6da"
            ],
            [
             0.4,
             "#fde0ef"
            ],
            [
             0.5,
             "#f7f7f7"
            ],
            [
             0.6,
             "#e6f5d0"
            ],
            [
             0.7,
             "#b8e186"
            ],
            [
             0.8,
             "#7fbc41"
            ],
            [
             0.9,
             "#4d9221"
            ],
            [
             1,
             "#276419"
            ]
           ],
           "sequential": [
            [
             0,
             "#0d0887"
            ],
            [
             0.1111111111111111,
             "#46039f"
            ],
            [
             0.2222222222222222,
             "#7201a8"
            ],
            [
             0.3333333333333333,
             "#9c179e"
            ],
            [
             0.4444444444444444,
             "#bd3786"
            ],
            [
             0.5555555555555556,
             "#d8576b"
            ],
            [
             0.6666666666666666,
             "#ed7953"
            ],
            [
             0.7777777777777778,
             "#fb9f3a"
            ],
            [
             0.8888888888888888,
             "#fdca26"
            ],
            [
             1,
             "#f0f921"
            ]
           ],
           "sequentialminus": [
            [
             0,
             "#0d0887"
            ],
            [
             0.1111111111111111,
             "#46039f"
            ],
            [
             0.2222222222222222,
             "#7201a8"
            ],
            [
             0.3333333333333333,
             "#9c179e"
            ],
            [
             0.4444444444444444,
             "#bd3786"
            ],
            [
             0.5555555555555556,
             "#d8576b"
            ],
            [
             0.6666666666666666,
             "#ed7953"
            ],
            [
             0.7777777777777778,
             "#fb9f3a"
            ],
            [
             0.8888888888888888,
             "#fdca26"
            ],
            [
             1,
             "#f0f921"
            ]
           ]
          },
          "colorway": [
           "#636efa",
           "#EF553B",
           "#00cc96",
           "#ab63fa",
           "#FFA15A",
           "#19d3f3",
           "#FF6692",
           "#B6E880",
           "#FF97FF",
           "#FECB52"
          ],
          "font": {
           "color": "#2a3f5f"
          },
          "geo": {
           "bgcolor": "white",
           "lakecolor": "white",
           "landcolor": "#E5ECF6",
           "showlakes": true,
           "showland": true,
           "subunitcolor": "white"
          },
          "hoverlabel": {
           "align": "left"
          },
          "hovermode": "closest",
          "mapbox": {
           "style": "light"
          },
          "paper_bgcolor": "white",
          "plot_bgcolor": "#E5ECF6",
          "polar": {
           "angularaxis": {
            "gridcolor": "white",
            "linecolor": "white",
            "ticks": ""
           },
           "bgcolor": "#E5ECF6",
           "radialaxis": {
            "gridcolor": "white",
            "linecolor": "white",
            "ticks": ""
           }
          },
          "scene": {
           "xaxis": {
            "backgroundcolor": "#E5ECF6",
            "gridcolor": "white",
            "gridwidth": 2,
            "linecolor": "white",
            "showbackground": true,
            "ticks": "",
            "zerolinecolor": "white"
           },
           "yaxis": {
            "backgroundcolor": "#E5ECF6",
            "gridcolor": "white",
            "gridwidth": 2,
            "linecolor": "white",
            "showbackground": true,
            "ticks": "",
            "zerolinecolor": "white"
           },
           "zaxis": {
            "backgroundcolor": "#E5ECF6",
            "gridcolor": "white",
            "gridwidth": 2,
            "linecolor": "white",
            "showbackground": true,
            "ticks": "",
            "zerolinecolor": "white"
           }
          },
          "shapedefaults": {
           "line": {
            "color": "#2a3f5f"
           }
          },
          "ternary": {
           "aaxis": {
            "gridcolor": "white",
            "linecolor": "white",
            "ticks": ""
           },
           "baxis": {
            "gridcolor": "white",
            "linecolor": "white",
            "ticks": ""
           },
           "bgcolor": "#E5ECF6",
           "caxis": {
            "gridcolor": "white",
            "linecolor": "white",
            "ticks": ""
           }
          },
          "title": {
           "x": 0.05
          },
          "xaxis": {
           "automargin": true,
           "gridcolor": "white",
           "linecolor": "white",
           "ticks": "",
           "title": {
            "standoff": 15
           },
           "zerolinecolor": "white",
           "zerolinewidth": 2
          },
          "yaxis": {
           "automargin": true,
           "gridcolor": "white",
           "linecolor": "white",
           "ticks": "",
           "title": {
            "standoff": 15
           },
           "zerolinecolor": "white",
           "zerolinewidth": 2
          }
         }
        },
        "title": {
         "text": "False Nine - Support"
        },
        "xaxis": {
         "anchor": "y",
         "domain": [
          0,
          1
         ],
         "title": {
          "text": "Shots/90"
         }
        },
        "yaxis": {
         "anchor": "x",
         "domain": [
          0,
          1
         ],
         "title": {
          "text": "Goals/90"
         }
        }
       }
      },
      "text/html": [
       "<div>\n",
       "        \n",
       "        \n",
       "            <div id=\"cb141333-0f09-4b53-a575-e9f0ef9c4e48\" class=\"plotly-graph-div\" style=\"height:525px; width:100%;\"></div>\n",
       "            <script type=\"text/javascript\">\n",
       "                require([\"plotly\"], function(Plotly) {\n",
       "                    window.PLOTLYENV=window.PLOTLYENV || {};\n",
       "                    \n",
       "                if (document.getElementById(\"cb141333-0f09-4b53-a575-e9f0ef9c4e48\")) {\n",
       "                    Plotly.newPlot(\n",
       "                        'cb141333-0f09-4b53-a575-e9f0ef9c4e48',\n",
       "                        [{\"customdata\": [[\"Shawn Hery\"]], \"hovertemplate\": \"Name=%{customdata[0]}<br>Shot/90=%{x}<br>Gls/90=%{y}<br>Age=%{marker.size}<extra></extra>\", \"legendgroup\": \"Shawn Hery\", \"marker\": {\"color\": \"#636efa\", \"size\": [21], \"sizemode\": \"area\", \"sizeref\": 0.0875, \"symbol\": \"circle\"}, \"mode\": \"markers\", \"name\": \"Shawn Hery\", \"showlegend\": true, \"type\": \"scatter\", \"x\": [\"3.29\"], \"xaxis\": \"x\", \"y\": [\"0.34\"], \"yaxis\": \"y\"}, {\"customdata\": [[\"Franck Evina\"]], \"hovertemplate\": \"Name=%{customdata[0]}<br>Shot/90=%{x}<br>Gls/90=%{y}<br>Age=%{marker.size}<extra></extra>\", \"legendgroup\": \"Franck Evina\", \"marker\": {\"color\": \"#EF553B\", \"size\": [22], \"sizemode\": \"area\", \"sizeref\": 0.0875, \"symbol\": \"circle\"}, \"mode\": \"markers\", \"name\": \"Franck Evina\", \"showlegend\": true, \"type\": \"scatter\", \"x\": [\"3.58\"], \"xaxis\": \"x\", \"y\": [\"0.51\"], \"yaxis\": \"y\"}, {\"customdata\": [[\"Luca Unbehaun\"]], \"hovertemplate\": \"Name=%{customdata[0]}<br>Shot/90=%{x}<br>Gls/90=%{y}<br>Age=%{marker.size}<extra></extra>\", \"legendgroup\": \"Luca Unbehaun\", \"marker\": {\"color\": \"#00cc96\", \"size\": [21], \"sizemode\": \"area\", \"sizeref\": 0.0875, \"symbol\": \"circle\"}, \"mode\": \"markers\", \"name\": \"Luca Unbehaun\", \"showlegend\": true, \"type\": \"scatter\", \"x\": [\"-\"], \"xaxis\": \"x\", \"y\": [\"-\"], \"yaxis\": \"y\"}, {\"customdata\": [[\"Marvin Jung\"]], \"hovertemplate\": \"Name=%{customdata[0]}<br>Shot/90=%{x}<br>Gls/90=%{y}<br>Age=%{marker.size}<extra></extra>\", \"legendgroup\": \"Marvin Jung\", \"marker\": {\"color\": \"#ab63fa\", \"size\": [21], \"sizemode\": \"area\", \"sizeref\": 0.0875, \"symbol\": \"circle\"}, \"mode\": \"markers\", \"name\": \"Marvin Jung\", \"showlegend\": true, \"type\": \"scatter\", \"x\": [\"0.88\"], \"xaxis\": \"x\", \"y\": [\"-\"], \"yaxis\": \"y\"}, {\"customdata\": [[\"Mike Fitzner\"]], \"hovertemplate\": \"Name=%{customdata[0]}<br>Shot/90=%{x}<br>Gls/90=%{y}<br>Age=%{marker.size}<extra></extra>\", \"legendgroup\": \"Mike Fitzner\", \"marker\": {\"color\": \"#FFA15A\", \"size\": [18], \"sizemode\": \"area\", \"sizeref\": 0.0875, \"symbol\": \"circle\"}, \"mode\": \"markers\", \"name\": \"Mike Fitzner\", \"showlegend\": true, \"type\": \"scatter\", \"x\": [\"4.35\"], \"xaxis\": \"x\", \"y\": [\"0.36\"], \"yaxis\": \"y\"}, {\"customdata\": [[\"Sefer Ayg\\u00c3\\u00bcn\"]], \"hovertemplate\": \"Name=%{customdata[0]}<br>Shot/90=%{x}<br>Gls/90=%{y}<br>Age=%{marker.size}<extra></extra>\", \"legendgroup\": \"Sefer Ayg\\u00c3\\u00bcn\", \"marker\": {\"color\": \"#19d3f3\", \"size\": [18], \"sizemode\": \"area\", \"sizeref\": 0.0875, \"symbol\": \"circle\"}, \"mode\": \"markers\", \"name\": \"Sefer Ayg\\u00c3\\u00bcn\", \"showlegend\": true, \"type\": \"scatter\", \"x\": [\"0.53\"], \"xaxis\": \"x\", \"y\": [\"-\"], \"yaxis\": \"y\"}, {\"customdata\": [[\"Marco Hiller\"]], \"hovertemplate\": \"Name=%{customdata[0]}<br>Shot/90=%{x}<br>Gls/90=%{y}<br>Age=%{marker.size}<extra></extra>\", \"legendgroup\": \"Marco Hiller\", \"marker\": {\"color\": \"#FF6692\", \"size\": [25], \"sizemode\": \"area\", \"sizeref\": 0.0875, \"symbol\": \"circle\"}, \"mode\": \"markers\", \"name\": \"Marco Hiller\", \"showlegend\": true, \"type\": \"scatter\", \"x\": [\"-\"], \"xaxis\": \"x\", \"y\": [\"-\"], \"yaxis\": \"y\"}, {\"customdata\": [[\"Leon Klassen\"]], \"hovertemplate\": \"Name=%{customdata[0]}<br>Shot/90=%{x}<br>Gls/90=%{y}<br>Age=%{marker.size}<extra></extra>\", \"legendgroup\": \"Leon Klassen\", \"marker\": {\"color\": \"#B6E880\", \"size\": [22], \"sizemode\": \"area\", \"sizeref\": 0.0875, \"symbol\": \"circle\"}, \"mode\": \"markers\", \"name\": \"Leon Klassen\", \"showlegend\": true, \"type\": \"scatter\", \"x\": [\"0.66\"], \"xaxis\": \"x\", \"y\": [\"0.07\"], \"yaxis\": \"y\"}, {\"customdata\": [[\"Noel Niemann\"]], \"hovertemplate\": \"Name=%{customdata[0]}<br>Shot/90=%{x}<br>Gls/90=%{y}<br>Age=%{marker.size}<extra></extra>\", \"legendgroup\": \"Noel Niemann\", \"marker\": {\"color\": \"#FF97FF\", \"size\": [23], \"sizemode\": \"area\", \"sizeref\": 0.0875, \"symbol\": \"circle\"}, \"mode\": \"markers\", \"name\": \"Noel Niemann\", \"showlegend\": true, \"type\": \"scatter\", \"x\": [\"2.40\"], \"xaxis\": \"x\", \"y\": [\"0.22\"], \"yaxis\": \"y\"}, {\"customdata\": [[\"Lucas Deaux\"]], \"hovertemplate\": \"Name=%{customdata[0]}<br>Shot/90=%{x}<br>Gls/90=%{y}<br>Age=%{marker.size}<extra></extra>\", \"legendgroup\": \"Lucas Deaux\", \"marker\": {\"color\": \"#FECB52\", \"size\": [33], \"sizemode\": \"area\", \"sizeref\": 0.0875, \"symbol\": \"circle\"}, \"mode\": \"markers\", \"name\": \"Lucas Deaux\", \"showlegend\": true, \"type\": \"scatter\", \"x\": [\"1.60\"], \"xaxis\": \"x\", \"y\": [\"0.11\"], \"yaxis\": \"y\"}, {\"customdata\": [[\"Julian Schwermann\"]], \"hovertemplate\": \"Name=%{customdata[0]}<br>Shot/90=%{x}<br>Gls/90=%{y}<br>Age=%{marker.size}<extra></extra>\", \"legendgroup\": \"Julian Schwermann\", \"marker\": {\"color\": \"#636efa\", \"size\": [23], \"sizemode\": \"area\", \"sizeref\": 0.0875, \"symbol\": \"circle\"}, \"mode\": \"markers\", \"name\": \"Julian Schwermann\", \"showlegend\": true, \"type\": \"scatter\", \"x\": [\"0.65\"], \"xaxis\": \"x\", \"y\": [\"0.14\"], \"yaxis\": \"y\"}, {\"customdata\": [[\"Oliver Kragl\"]], \"hovertemplate\": \"Name=%{customdata[0]}<br>Shot/90=%{x}<br>Gls/90=%{y}<br>Age=%{marker.size}<extra></extra>\", \"legendgroup\": \"Oliver Kragl\", \"marker\": {\"color\": \"#EF553B\", \"size\": [32], \"sizemode\": \"area\", \"sizeref\": 0.0875, \"symbol\": \"circle\"}, \"mode\": \"markers\", \"name\": \"Oliver Kragl\", \"showlegend\": true, \"type\": \"scatter\", \"x\": [\"2.93\"], \"xaxis\": \"x\", \"y\": [\"0.53\"], \"yaxis\": \"y\"}, {\"customdata\": [[\"Ben Sch\\u00c3\\u00a4fer\"]], \"hovertemplate\": \"Name=%{customdata[0]}<br>Shot/90=%{x}<br>Gls/90=%{y}<br>Age=%{marker.size}<extra></extra>\", \"legendgroup\": \"Ben Sch\\u00c3\\u00a4fer\", \"marker\": {\"color\": \"#00cc96\", \"size\": [18], \"sizemode\": \"area\", \"sizeref\": 0.0875, \"symbol\": \"circle\"}, \"mode\": \"markers\", \"name\": \"Ben Sch\\u00c3\\u00a4fer\", \"showlegend\": true, \"type\": \"scatter\", \"x\": [\"-\"], \"xaxis\": \"x\", \"y\": [\"-\"], \"yaxis\": \"y\"}, {\"customdata\": [[\"Andreas Ahlm\"]], \"hovertemplate\": \"Name=%{customdata[0]}<br>Shot/90=%{x}<br>Gls/90=%{y}<br>Age=%{marker.size}<extra></extra>\", \"legendgroup\": \"Andreas Ahlm\", \"marker\": {\"color\": \"#ab63fa\", \"size\": [18], \"sizemode\": \"area\", \"sizeref\": 0.0875, \"symbol\": \"circle\"}, \"mode\": \"markers\", \"name\": \"Andreas Ahlm\", \"showlegend\": true, \"type\": \"scatter\", \"x\": [\"-\"], \"xaxis\": \"x\", \"y\": [\"-\"], \"yaxis\": \"y\"}, {\"customdata\": [[\"Petr Dvorak\"]], \"hovertemplate\": \"Name=%{customdata[0]}<br>Shot/90=%{x}<br>Gls/90=%{y}<br>Age=%{marker.size}<extra></extra>\", \"legendgroup\": \"Petr Dvorak\", \"marker\": {\"color\": \"#FFA15A\", \"size\": [17], \"sizemode\": \"area\", \"sizeref\": 0.0875, \"symbol\": \"circle\"}, \"mode\": \"markers\", \"name\": \"Petr Dvorak\", \"showlegend\": true, \"type\": \"scatter\", \"x\": [\"-\"], \"xaxis\": \"x\", \"y\": [\"-\"], \"yaxis\": \"y\"}, {\"customdata\": [[\"Efkan Bekiroglu\"]], \"hovertemplate\": \"Name=%{customdata[0]}<br>Shot/90=%{x}<br>Gls/90=%{y}<br>Age=%{marker.size}<extra></extra>\", \"legendgroup\": \"Efkan Bekiroglu\", \"marker\": {\"color\": \"#19d3f3\", \"size\": [27], \"sizemode\": \"area\", \"sizeref\": 0.0875, \"symbol\": \"circle\"}, \"mode\": \"markers\", \"name\": \"Efkan Bekiroglu\", \"showlegend\": true, \"type\": \"scatter\", \"x\": [\"1.73\"], \"xaxis\": \"x\", \"y\": [\"-\"], \"yaxis\": \"y\"}, {\"customdata\": [[\"Fabian Greilinger\"]], \"hovertemplate\": \"Name=%{customdata[0]}<br>Shot/90=%{x}<br>Gls/90=%{y}<br>Age=%{marker.size}<extra></extra>\", \"legendgroup\": \"Fabian Greilinger\", \"marker\": {\"color\": \"#FF6692\", \"size\": [22], \"sizemode\": \"area\", \"sizeref\": 0.0875, \"symbol\": \"circle\"}, \"mode\": \"markers\", \"name\": \"Fabian Greilinger\", \"showlegend\": true, \"type\": \"scatter\", \"x\": [\"4.87\"], \"xaxis\": \"x\", \"y\": [\"0.64\"], \"yaxis\": \"y\"}, {\"customdata\": [[\"Marko Basic\"]], \"hovertemplate\": \"Name=%{customdata[0]}<br>Shot/90=%{x}<br>Gls/90=%{y}<br>Age=%{marker.size}<extra></extra>\", \"legendgroup\": \"Marko Basic\", \"marker\": {\"color\": \"#B6E880\", \"size\": [17], \"sizemode\": \"area\", \"sizeref\": 0.0875, \"symbol\": \"circle\"}, \"mode\": \"markers\", \"name\": \"Marko Basic\", \"showlegend\": true, \"type\": \"scatter\", \"x\": [\"-\"], \"xaxis\": \"x\", \"y\": [\"-\"], \"yaxis\": \"y\"}, {\"customdata\": [[\"Mert G\\u00c3\\u00b6ckan\"]], \"hovertemplate\": \"Name=%{customdata[0]}<br>Shot/90=%{x}<br>Gls/90=%{y}<br>Age=%{marker.size}<extra></extra>\", \"legendgroup\": \"Mert G\\u00c3\\u00b6ckan\", \"marker\": {\"color\": \"#FF97FF\", \"size\": [21], \"sizemode\": \"area\", \"sizeref\": 0.0875, \"symbol\": \"circle\"}, \"mode\": \"markers\", \"name\": \"Mert G\\u00c3\\u00b6ckan\", \"showlegend\": true, \"type\": \"scatter\", \"x\": [\"0.29\"], \"xaxis\": \"x\", \"y\": [\"-\"], \"yaxis\": \"y\"}, {\"customdata\": [[\"Gabriel Isik\"]], \"hovertemplate\": \"Name=%{customdata[0]}<br>Shot/90=%{x}<br>Gls/90=%{y}<br>Age=%{marker.size}<extra></extra>\", \"legendgroup\": \"Gabriel Isik\", \"marker\": {\"color\": \"#FECB52\", \"size\": [23], \"sizemode\": \"area\", \"sizeref\": 0.0875, \"symbol\": \"circle\"}, \"mode\": \"markers\", \"name\": \"Gabriel Isik\", \"showlegend\": true, \"type\": \"scatter\", \"x\": [\"0.56\"], \"xaxis\": \"x\", \"y\": [\"0.13\"], \"yaxis\": \"y\"}, {\"customdata\": [[\"Pawel Majewski\"]], \"hovertemplate\": \"Name=%{customdata[0]}<br>Shot/90=%{x}<br>Gls/90=%{y}<br>Age=%{marker.size}<extra></extra>\", \"legendgroup\": \"Pawel Majewski\", \"marker\": {\"color\": \"#636efa\", \"size\": [18], \"sizemode\": \"area\", \"sizeref\": 0.0875, \"symbol\": \"circle\"}, \"mode\": \"markers\", \"name\": \"Pawel Majewski\", \"showlegend\": true, \"type\": \"scatter\", \"x\": [\"-\"], \"xaxis\": \"x\", \"y\": [\"-\"], \"yaxis\": \"y\"}, {\"customdata\": [[\"Peter K\\u00c3\\u00b6ster\"]], \"hovertemplate\": \"Name=%{customdata[0]}<br>Shot/90=%{x}<br>Gls/90=%{y}<br>Age=%{marker.size}<extra></extra>\", \"legendgroup\": \"Peter K\\u00c3\\u00b6ster\", \"marker\": {\"color\": \"#EF553B\", \"size\": [23], \"sizemode\": \"area\", \"sizeref\": 0.0875, \"symbol\": \"circle\"}, \"mode\": \"markers\", \"name\": \"Peter K\\u00c3\\u00b6ster\", \"showlegend\": true, \"type\": \"scatter\", \"x\": [\"0.32\"], \"xaxis\": \"x\", \"y\": [\"-\"], \"yaxis\": \"y\"}, {\"customdata\": [[\"Abdoulaye Niang\"]], \"hovertemplate\": \"Name=%{customdata[0]}<br>Shot/90=%{x}<br>Gls/90=%{y}<br>Age=%{marker.size}<extra></extra>\", \"legendgroup\": \"Abdoulaye Niang\", \"marker\": {\"color\": \"#00cc96\", \"size\": [19], \"sizemode\": \"area\", \"sizeref\": 0.0875, \"symbol\": \"circle\"}, \"mode\": \"markers\", \"name\": \"Abdoulaye Niang\", \"showlegend\": true, \"type\": \"scatter\", \"x\": [\"1.07\"], \"xaxis\": \"x\", \"y\": [\"-\"], \"yaxis\": \"y\"}, {\"customdata\": [[\"Sven Bender\"]], \"hovertemplate\": \"Name=%{customdata[0]}<br>Shot/90=%{x}<br>Gls/90=%{y}<br>Age=%{marker.size}<extra></extra>\", \"legendgroup\": \"Sven Bender\", \"marker\": {\"color\": \"#ab63fa\", \"size\": [33], \"sizemode\": \"area\", \"sizeref\": 0.0875, \"symbol\": \"circle\"}, \"mode\": \"markers\", \"name\": \"Sven Bender\", \"showlegend\": true, \"type\": \"scatter\", \"x\": [\"0.61\"], \"xaxis\": \"x\", \"y\": [\"0.06\"], \"yaxis\": \"y\"}, {\"customdata\": [[\"Gary Medel\"]], \"hovertemplate\": \"Name=%{customdata[0]}<br>Shot/90=%{x}<br>Gls/90=%{y}<br>Age=%{marker.size}<extra></extra>\", \"legendgroup\": \"Gary Medel\", \"marker\": {\"color\": \"#FFA15A\", \"size\": [35], \"sizemode\": \"area\", \"sizeref\": 0.0875, \"symbol\": \"circle\"}, \"mode\": \"markers\", \"name\": \"Gary Medel\", \"showlegend\": true, \"type\": \"scatter\", \"x\": [\"0.56\"], \"xaxis\": \"x\", \"y\": [\"-\"], \"yaxis\": \"y\"}],\n",
       "                        {\"font\": {\"color\": \"#7f7f7f\", \"family\": \"Courier New, monospace\", \"size\": 16}, \"legend\": {\"itemsizing\": \"constant\", \"title\": {\"text\": \"Name\"}, \"tracegroupgap\": 0}, \"margin\": {\"t\": 60}, \"template\": {\"data\": {\"bar\": [{\"error_x\": {\"color\": \"#2a3f5f\"}, \"error_y\": {\"color\": \"#2a3f5f\"}, \"marker\": {\"line\": {\"color\": \"#E5ECF6\", \"width\": 0.5}}, \"type\": \"bar\"}], \"barpolar\": [{\"marker\": {\"line\": {\"color\": \"#E5ECF6\", \"width\": 0.5}}, \"type\": \"barpolar\"}], \"carpet\": [{\"aaxis\": {\"endlinecolor\": \"#2a3f5f\", \"gridcolor\": \"white\", \"linecolor\": \"white\", \"minorgridcolor\": \"white\", \"startlinecolor\": \"#2a3f5f\"}, \"baxis\": {\"endlinecolor\": \"#2a3f5f\", \"gridcolor\": \"white\", \"linecolor\": \"white\", \"minorgridcolor\": \"white\", \"startlinecolor\": \"#2a3f5f\"}, \"type\": \"carpet\"}], \"choropleth\": [{\"colorbar\": {\"outlinewidth\": 0, \"ticks\": \"\"}, \"type\": \"choropleth\"}], \"contour\": [{\"colorbar\": {\"outlinewidth\": 0, \"ticks\": \"\"}, \"colorscale\": [[0.0, \"#0d0887\"], [0.1111111111111111, \"#46039f\"], [0.2222222222222222, \"#7201a8\"], [0.3333333333333333, \"#9c179e\"], [0.4444444444444444, \"#bd3786\"], [0.5555555555555556, \"#d8576b\"], [0.6666666666666666, \"#ed7953\"], [0.7777777777777778, \"#fb9f3a\"], [0.8888888888888888, \"#fdca26\"], [1.0, \"#f0f921\"]], \"type\": \"contour\"}], \"contourcarpet\": [{\"colorbar\": {\"outlinewidth\": 0, \"ticks\": \"\"}, \"type\": \"contourcarpet\"}], \"heatmap\": [{\"colorbar\": {\"outlinewidth\": 0, \"ticks\": \"\"}, \"colorscale\": [[0.0, \"#0d0887\"], [0.1111111111111111, \"#46039f\"], [0.2222222222222222, \"#7201a8\"], [0.3333333333333333, \"#9c179e\"], [0.4444444444444444, \"#bd3786\"], [0.5555555555555556, \"#d8576b\"], [0.6666666666666666, \"#ed7953\"], [0.7777777777777778, \"#fb9f3a\"], [0.8888888888888888, \"#fdca26\"], [1.0, \"#f0f921\"]], \"type\": \"heatmap\"}], \"heatmapgl\": [{\"colorbar\": {\"outlinewidth\": 0, \"ticks\": \"\"}, \"colorscale\": [[0.0, \"#0d0887\"], [0.1111111111111111, \"#46039f\"], [0.2222222222222222, \"#7201a8\"], [0.3333333333333333, \"#9c179e\"], [0.4444444444444444, \"#bd3786\"], [0.5555555555555556, \"#d8576b\"], [0.6666666666666666, \"#ed7953\"], [0.7777777777777778, \"#fb9f3a\"], [0.8888888888888888, \"#fdca26\"], [1.0, \"#f0f921\"]], \"type\": \"heatmapgl\"}], \"histogram\": [{\"marker\": {\"colorbar\": {\"outlinewidth\": 0, \"ticks\": \"\"}}, \"type\": \"histogram\"}], \"histogram2d\": [{\"colorbar\": {\"outlinewidth\": 0, \"ticks\": \"\"}, \"colorscale\": [[0.0, \"#0d0887\"], [0.1111111111111111, \"#46039f\"], [0.2222222222222222, \"#7201a8\"], [0.3333333333333333, \"#9c179e\"], [0.4444444444444444, \"#bd3786\"], [0.5555555555555556, \"#d8576b\"], [0.6666666666666666, \"#ed7953\"], [0.7777777777777778, \"#fb9f3a\"], [0.8888888888888888, \"#fdca26\"], [1.0, \"#f0f921\"]], \"type\": \"histogram2d\"}], \"histogram2dcontour\": [{\"colorbar\": {\"outlinewidth\": 0, \"ticks\": \"\"}, \"colorscale\": [[0.0, \"#0d0887\"], [0.1111111111111111, \"#46039f\"], [0.2222222222222222, \"#7201a8\"], [0.3333333333333333, \"#9c179e\"], [0.4444444444444444, \"#bd3786\"], [0.5555555555555556, \"#d8576b\"], [0.6666666666666666, \"#ed7953\"], [0.7777777777777778, \"#fb9f3a\"], [0.8888888888888888, \"#fdca26\"], [1.0, \"#f0f921\"]], \"type\": \"histogram2dcontour\"}], \"mesh3d\": [{\"colorbar\": {\"outlinewidth\": 0, \"ticks\": \"\"}, \"type\": \"mesh3d\"}], \"parcoords\": [{\"line\": {\"colorbar\": {\"outlinewidth\": 0, \"ticks\": \"\"}}, \"type\": \"parcoords\"}], \"pie\": [{\"automargin\": true, \"type\": \"pie\"}], \"scatter\": [{\"marker\": {\"colorbar\": {\"outlinewidth\": 0, \"ticks\": \"\"}}, \"type\": \"scatter\"}], \"scatter3d\": [{\"line\": {\"colorbar\": {\"outlinewidth\": 0, \"ticks\": \"\"}}, \"marker\": {\"colorbar\": {\"outlinewidth\": 0, \"ticks\": \"\"}}, \"type\": \"scatter3d\"}], \"scattercarpet\": [{\"marker\": {\"colorbar\": {\"outlinewidth\": 0, \"ticks\": \"\"}}, \"type\": \"scattercarpet\"}], \"scattergeo\": [{\"marker\": {\"colorbar\": {\"outlinewidth\": 0, \"ticks\": \"\"}}, \"type\": \"scattergeo\"}], \"scattergl\": [{\"marker\": {\"colorbar\": {\"outlinewidth\": 0, \"ticks\": \"\"}}, \"type\": \"scattergl\"}], \"scattermapbox\": [{\"marker\": {\"colorbar\": {\"outlinewidth\": 0, \"ticks\": \"\"}}, \"type\": \"scattermapbox\"}], \"scatterpolar\": [{\"marker\": {\"colorbar\": {\"outlinewidth\": 0, \"ticks\": \"\"}}, \"type\": \"scatterpolar\"}], \"scatterpolargl\": [{\"marker\": {\"colorbar\": {\"outlinewidth\": 0, \"ticks\": \"\"}}, \"type\": \"scatterpolargl\"}], \"scatterternary\": [{\"marker\": {\"colorbar\": {\"outlinewidth\": 0, \"ticks\": \"\"}}, \"type\": \"scatterternary\"}], \"surface\": [{\"colorbar\": {\"outlinewidth\": 0, \"ticks\": \"\"}, \"colorscale\": [[0.0, \"#0d0887\"], [0.1111111111111111, \"#46039f\"], [0.2222222222222222, \"#7201a8\"], [0.3333333333333333, \"#9c179e\"], [0.4444444444444444, \"#bd3786\"], [0.5555555555555556, \"#d8576b\"], [0.6666666666666666, \"#ed7953\"], [0.7777777777777778, \"#fb9f3a\"], [0.8888888888888888, \"#fdca26\"], [1.0, \"#f0f921\"]], \"type\": \"surface\"}], \"table\": [{\"cells\": {\"fill\": {\"color\": \"#EBF0F8\"}, \"line\": {\"color\": \"white\"}}, \"header\": {\"fill\": {\"color\": \"#C8D4E3\"}, \"line\": {\"color\": \"white\"}}, \"type\": \"table\"}]}, \"layout\": {\"annotationdefaults\": {\"arrowcolor\": \"#2a3f5f\", \"arrowhead\": 0, \"arrowwidth\": 1}, \"coloraxis\": {\"colorbar\": {\"outlinewidth\": 0, \"ticks\": \"\"}}, \"colorscale\": {\"diverging\": [[0, \"#8e0152\"], [0.1, \"#c51b7d\"], [0.2, \"#de77ae\"], [0.3, \"#f1b6da\"], [0.4, \"#fde0ef\"], [0.5, \"#f7f7f7\"], [0.6, \"#e6f5d0\"], [0.7, \"#b8e186\"], [0.8, \"#7fbc41\"], [0.9, \"#4d9221\"], [1, \"#276419\"]], \"sequential\": [[0.0, \"#0d0887\"], [0.1111111111111111, \"#46039f\"], [0.2222222222222222, \"#7201a8\"], [0.3333333333333333, \"#9c179e\"], [0.4444444444444444, \"#bd3786\"], [0.5555555555555556, \"#d8576b\"], [0.6666666666666666, \"#ed7953\"], [0.7777777777777778, \"#fb9f3a\"], [0.8888888888888888, \"#fdca26\"], [1.0, \"#f0f921\"]], \"sequentialminus\": [[0.0, \"#0d0887\"], [0.1111111111111111, \"#46039f\"], [0.2222222222222222, \"#7201a8\"], [0.3333333333333333, \"#9c179e\"], [0.4444444444444444, \"#bd3786\"], [0.5555555555555556, \"#d8576b\"], [0.6666666666666666, \"#ed7953\"], [0.7777777777777778, \"#fb9f3a\"], [0.8888888888888888, \"#fdca26\"], [1.0, \"#f0f921\"]]}, \"colorway\": [\"#636efa\", \"#EF553B\", \"#00cc96\", \"#ab63fa\", \"#FFA15A\", \"#19d3f3\", \"#FF6692\", \"#B6E880\", \"#FF97FF\", \"#FECB52\"], \"font\": {\"color\": \"#2a3f5f\"}, \"geo\": {\"bgcolor\": \"white\", \"lakecolor\": \"white\", \"landcolor\": \"#E5ECF6\", \"showlakes\": true, \"showland\": true, \"subunitcolor\": \"white\"}, \"hoverlabel\": {\"align\": \"left\"}, \"hovermode\": \"closest\", \"mapbox\": {\"style\": \"light\"}, \"paper_bgcolor\": \"white\", \"plot_bgcolor\": \"#E5ECF6\", \"polar\": {\"angularaxis\": {\"gridcolor\": \"white\", \"linecolor\": \"white\", \"ticks\": \"\"}, \"bgcolor\": \"#E5ECF6\", \"radialaxis\": {\"gridcolor\": \"white\", \"linecolor\": \"white\", \"ticks\": \"\"}}, \"scene\": {\"xaxis\": {\"backgroundcolor\": \"#E5ECF6\", \"gridcolor\": \"white\", \"gridwidth\": 2, \"linecolor\": \"white\", \"showbackground\": true, \"ticks\": \"\", \"zerolinecolor\": \"white\"}, \"yaxis\": {\"backgroundcolor\": \"#E5ECF6\", \"gridcolor\": \"white\", \"gridwidth\": 2, \"linecolor\": \"white\", \"showbackground\": true, \"ticks\": \"\", \"zerolinecolor\": \"white\"}, \"zaxis\": {\"backgroundcolor\": \"#E5ECF6\", \"gridcolor\": \"white\", \"gridwidth\": 2, \"linecolor\": \"white\", \"showbackground\": true, \"ticks\": \"\", \"zerolinecolor\": \"white\"}}, \"shapedefaults\": {\"line\": {\"color\": \"#2a3f5f\"}}, \"ternary\": {\"aaxis\": {\"gridcolor\": \"white\", \"linecolor\": \"white\", \"ticks\": \"\"}, \"baxis\": {\"gridcolor\": \"white\", \"linecolor\": \"white\", \"ticks\": \"\"}, \"bgcolor\": \"#E5ECF6\", \"caxis\": {\"gridcolor\": \"white\", \"linecolor\": \"white\", \"ticks\": \"\"}}, \"title\": {\"x\": 0.05}, \"xaxis\": {\"automargin\": true, \"gridcolor\": \"white\", \"linecolor\": \"white\", \"ticks\": \"\", \"title\": {\"standoff\": 15}, \"zerolinecolor\": \"white\", \"zerolinewidth\": 2}, \"yaxis\": {\"automargin\": true, \"gridcolor\": \"white\", \"linecolor\": \"white\", \"ticks\": \"\", \"title\": {\"standoff\": 15}, \"zerolinecolor\": \"white\", \"zerolinewidth\": 2}}}, \"title\": {\"text\": \"False Nine - Support\"}, \"xaxis\": {\"anchor\": \"y\", \"domain\": [0.0, 1.0], \"title\": {\"text\": \"Shots/90\"}}, \"yaxis\": {\"anchor\": \"x\", \"domain\": [0.0, 1.0], \"title\": {\"text\": \"Goals/90\"}}},\n",
       "                        {\"responsive\": true}\n",
       "                    ).then(function(){\n",
       "                            \n",
       "var gd = document.getElementById('cb141333-0f09-4b53-a575-e9f0ef9c4e48');\n",
       "var x = new MutationObserver(function (mutations, observer) {{\n",
       "        var display = window.getComputedStyle(gd).display;\n",
       "        if (!display || display === 'none') {{\n",
       "            console.log([gd, 'removed!']);\n",
       "            Plotly.purge(gd);\n",
       "            observer.disconnect();\n",
       "        }}\n",
       "}});\n",
       "\n",
       "// Listen for the removal of the full notebook cells\n",
       "var notebookContainer = gd.closest('#notebook-container');\n",
       "if (notebookContainer) {{\n",
       "    x.observe(notebookContainer, {childList: true});\n",
       "}}\n",
       "\n",
       "// Listen for the clearing of the current output cell\n",
       "var outputEl = gd.closest('.output');\n",
       "if (outputEl) {{\n",
       "    x.observe(outputEl, {childList: true});\n",
       "}}\n",
       "\n",
       "                        })\n",
       "                };\n",
       "                });\n",
       "            </script>\n",
       "        </div>"
      ]
     },
     "metadata": {},
     "output_type": "display_data"
    }
   ],
   "source": [
    "# False Nine - Support\n",
    "\n",
    "fig = px.scatter(df, x=\"Shot/90\", y=\"Gls/90\", color=\"Name\",  \n",
    "        size='Age', hover_data=['Name'])\n",
    "\n",
    "fig.update_layout(\n",
    "    title=\"False Nine - Support\",\n",
    "    xaxis_title=\"Shots/90\",\n",
    "    yaxis_title=\"Goals/90\",\n",
    "    font=dict(\n",
    "        family=\"Courier New, monospace\",\n",
    "        size=16,\n",
    "        color=\"#7f7f7f\"\n",
    "    )\n",
    ")\n",
    "fig.show()"
   ]
  },
  {
   "cell_type": "code",
   "execution_count": null,
   "metadata": {},
   "outputs": [],
   "source": [
    "\n"
   ]
  },
  {
   "cell_type": "code",
   "execution_count": null,
   "metadata": {},
   "outputs": [],
   "source": []
  },
  {
   "cell_type": "code",
   "execution_count": null,
   "metadata": {},
   "outputs": [],
   "source": []
  },
  {
   "cell_type": "code",
   "execution_count": null,
   "metadata": {},
   "outputs": [],
   "source": []
  },
  {
   "cell_type": "code",
   "execution_count": null,
   "metadata": {},
   "outputs": [],
   "source": []
  },
  {
   "cell_type": "code",
   "execution_count": null,
   "metadata": {},
   "outputs": [],
   "source": []
  },
  {
   "cell_type": "code",
   "execution_count": null,
   "metadata": {},
   "outputs": [],
   "source": []
  },
  {
   "cell_type": "code",
   "execution_count": null,
   "metadata": {},
   "outputs": [],
   "source": []
  },
  {
   "cell_type": "code",
   "execution_count": null,
   "metadata": {},
   "outputs": [],
   "source": []
  },
  {
   "cell_type": "code",
   "execution_count": null,
   "metadata": {},
   "outputs": [],
   "source": []
  },
  {
   "cell_type": "code",
   "execution_count": null,
   "metadata": {},
   "outputs": [],
   "source": []
  },
  {
   "cell_type": "code",
   "execution_count": null,
   "metadata": {},
   "outputs": [],
   "source": []
  },
  {
   "cell_type": "code",
   "execution_count": null,
   "metadata": {},
   "outputs": [],
   "source": []
  },
  {
   "cell_type": "code",
   "execution_count": null,
   "metadata": {},
   "outputs": [],
   "source": []
  },
  {
   "cell_type": "code",
   "execution_count": null,
   "metadata": {},
   "outputs": [],
   "source": []
  },
  {
   "cell_type": "code",
   "execution_count": null,
   "metadata": {},
   "outputs": [],
   "source": []
  }
 ],
 "metadata": {
  "kernelspec": {
   "display_name": "Python 3",
   "language": "python",
   "name": "python3"
  },
  "language_info": {
   "codemirror_mode": {
    "name": "ipython",
    "version": 3
   },
   "file_extension": ".py",
   "mimetype": "text/x-python",
   "name": "python",
   "nbconvert_exporter": "python",
   "pygments_lexer": "ipython3",
   "version": "3.8.2"
  }
 },
 "nbformat": 4,
 "nbformat_minor": 4
}
