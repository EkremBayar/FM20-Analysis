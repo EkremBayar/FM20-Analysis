{
 "cells": [
  {
   "cell_type": "code",
   "execution_count": 1,
   "metadata": {},
   "outputs": [],
   "source": [
    "# Import required packages\n",
    "import numpy as np\n",
    "import pandas as pd\n",
    "import plotly.express as px\n",
    "# Plotly Templates \"plotly\", \"plotly_white\", \"plotly_dark\", \"ggplot2\", \"seaborn\", \"simple_white\"\n",
    "# https://plotly.com/python/templates/\n",
    "# https://plotly.com/python/plotly-fundamentals/\n",
    "# https://pandas.pydata.org/pandas-docs/stable/user_guide/style.html"
   ]
  },
  {
   "cell_type": "code",
   "execution_count": 25,
   "metadata": {},
   "outputs": [],
   "source": [
    "# Create DataFrame\n",
    "\n",
    "df = pd.read_html(r\"C:\\Users\\stuar\\OneDrive\\My Documents\\P\\Python\\FM20\\XML\\attributes_view.html\",skiprows=0)[0]\n",
    "df1 = pd.read_html(r\"C:\\Users\\stuar\\OneDrive\\My Documents\\P\\Python\\FM20\\XML\\statistics_view.html\",skiprows=0)[0]\n",
    "\n",
    "# Set DataFrame limits\n",
    "\n",
    "pd.set_option('display.max_columns',50)\n",
    "pd.set_option('display.max_rows',5)\n",
    "pd.set_option('precision', 0)\n",
    "\n",
    "# Create score for each position and club DNA.\n",
    "\n",
    "# DNA\n",
    "df['dna_score'] = df['Agg'] + df['Det'] + df['Tea'] + df['Wor']\n",
    "\n",
    "# Sweeper Keeper\n",
    "df['sk_score'] = df['Com'] + df['Kic'] + df['1v1'] + df['Ref'] + df['TRO'] + df['Ant'] + df['Cmp'] + df['Cnt'] + df['Pos'] + df['Agi']\n",
    "\n",
    "# CWB\n",
    "df['cwb_score'] = df['Cro'] + df['Dri'] + df['Fir'] + df['Pas'] + df['Tec'] + df['Dec'] + df['OtB'] + df['Tea'] + df['Wor'] + df['Acc'] + df['Pac'] + df['Sta']\n",
    "\n",
    "# WB\n",
    "df['wb_score'] = df['Cro'] + df['Dri'] + df['Mar'] + df['Tck'] + df['OtB'] + df['Tea'] + df['Wor'] + df['Acc'] + df['Sta'] \n",
    "\n",
    "# CD\n",
    "df['cd_score'] = df['Hea'] + df['Mar'] + df['Tck'] + df['Pos'] + df['Jum'] + df['Str'] \n",
    "\n",
    "# DM\n",
    "df['dm_score'] = df['Tck'] + df['Ant'] + df['Cnt'] + df['Pos'] + df['Tea'] + df['Wor'] + df['Sta'] \n",
    "\n",
    "# BWM\n",
    "df['bwm_score'] = df['Tck'] + df['Agg'] + df['Ant'] + df['Bra'] + df['Tea'] + df['Wor'] \n",
    "\n",
    "# CAR\n",
    "df['car_score'] = df['Pas'] + df['Tck'] + df['Dec'] + df['Pos'] + df['Tea'] + df['Wor'] + df['Sta'] \n",
    "\n",
    "# IFS\n",
    "df['ifs_score'] = df['Dri'] + df['Fir'] + df['Pas'] + df['Tec'] + df['OtB'] + df['Acc'] + df['Agi'] + df['Bal'] \n",
    "\n",
    "# IFA\n",
    "df['ifa_score'] = df['Dri'] + df['Fin'] + df['Fir'] + df['Tec'] + df['OtB'] + df['Acc'] + df['Agi'] + df['Bal'] \n",
    "\n",
    "# F9\n",
    "df['f9_score'] = df['Dri'] + df['Fir'] + df['Pas'] + df['Tec'] + df['Cmp'] + df['Dec'] + df['OtB'] + df['Vis'] + df['Acc'] + df['Agi']\n"
   ]
  },
  {
   "cell_type": "code",
   "execution_count": 26,
   "metadata": {},
   "outputs": [],
   "source": [
    "# Create custom column on DataFrame for each position and DNA\n",
    "\n",
    "dna = df[['Name', 'Age', 'Agg' , 'Det' , 'Tea' , 'Wor', 'dna_score']]\n",
    "sk = df[['Name', 'Age' , 'Com' , 'Kic' , '1v1', 'Ref', 'TRO', 'Ant', 'Cmp', 'Cnt', 'Pos', 'Agi', 'sk_score']]\n",
    "cwb = df[['Name', 'Age' , 'Cro' , 'Dri', 'Fir', 'Pas', 'Tec', 'Dec', 'OtB', 'Tea', 'Wor', 'Acc', 'Pac', 'Sta', 'cwb_score']]\n",
    "wb = df[['Name', 'Age' , 'Cro' , 'Dri', 'Mar', 'Tck', 'OtB', 'Tea', 'Wor', 'Acc', 'Sta', 'wb_score']] \n",
    "cd = df[['Name', 'Age' ,  'Hea', 'Mar' , 'Tck', 'Pos', 'Jum', 'Str' , 'cd_score']] \n",
    "dm = df[['Name', 'Age' , 'Tck', 'Ant', 'Cnt', 'Pos', 'Tea', 'Wor', 'Sta', 'dm_score']]\n",
    "bwm = df[['Name', 'Age' , 'Tck' , 'Agg' , 'Ant' , 'Bra' , 'Tea' , 'Wor', 'bwm_score']]\n",
    "car = df[['Name', 'Age' , 'Pas', 'Tck', 'Dec', 'Pos', 'Tea', 'Wor', 'Sta', 'car_score']]\n",
    "ifs = df[['Name', 'Age' , 'Dri', 'Fir', 'Pas', 'Tec', 'OtB', 'Acc', 'Agi', 'Bal', 'ifs_score']]\n",
    "ifa = df[['Name', 'Age' , 'Dri', 'Fin', 'Fir', 'Tec', 'OtB', 'Acc', 'Agi', 'Bal', 'ifa_score']]\n",
    "f9 = df[['Name', 'Age' , 'Dri', 'Fir', 'Pas', 'Tec', 'Cmp', 'Dec', 'OtB', 'Vis', 'Acc', 'Agi', 'f9_score']]\n"
   ]
  },
  {
   "cell_type": "code",
   "execution_count": 27,
   "metadata": {},
   "outputs": [
    {
     "name": "stdout",
     "output_type": "stream",
     "text": [
      "DNA\n"
     ]
    },
    {
     "data": {
      "text/html": [
       "<style  type=\"text/css\" >\n",
       "    #T_b87483b6_92c7_11ea_802a_10bf483492darow0_col1 {\n",
       "            background-color:  #08306b;\n",
       "            color:  #f1f1f1;\n",
       "        }    #T_b87483b6_92c7_11ea_802a_10bf483492darow0_col2 {\n",
       "            background-color:  #08468b;\n",
       "            color:  #f1f1f1;\n",
       "        }    #T_b87483b6_92c7_11ea_802a_10bf483492darow0_col3 {\n",
       "            background-color:  #08488e;\n",
       "            color:  #f1f1f1;\n",
       "        }    #T_b87483b6_92c7_11ea_802a_10bf483492darow0_col4 {\n",
       "            background-color:  #105ba4;\n",
       "            color:  #f1f1f1;\n",
       "        }    #T_b87483b6_92c7_11ea_802a_10bf483492darow0_col5 {\n",
       "            background-color:  #08306b;\n",
       "            color:  #f1f1f1;\n",
       "        }    #T_b87483b6_92c7_11ea_802a_10bf483492darow0_col6 {\n",
       "            background-color:  #08306b;\n",
       "            color:  #f1f1f1;\n",
       "        }    #T_b87483b6_92c7_11ea_802a_10bf483492darow1_col1 {\n",
       "            background-color:  #d0e1f2;\n",
       "            color:  #000000;\n",
       "        }    #T_b87483b6_92c7_11ea_802a_10bf483492darow1_col2 {\n",
       "            background-color:  #08306b;\n",
       "            color:  #f1f1f1;\n",
       "        }    #T_b87483b6_92c7_11ea_802a_10bf483492darow1_col3 {\n",
       "            background-color:  #08488e;\n",
       "            color:  #f1f1f1;\n",
       "        }    #T_b87483b6_92c7_11ea_802a_10bf483492darow1_col4 {\n",
       "            background-color:  #105ba4;\n",
       "            color:  #f1f1f1;\n",
       "        }    #T_b87483b6_92c7_11ea_802a_10bf483492darow1_col5 {\n",
       "            background-color:  #1764ab;\n",
       "            color:  #f1f1f1;\n",
       "        }    #T_b87483b6_92c7_11ea_802a_10bf483492darow1_col6 {\n",
       "            background-color:  #083b7c;\n",
       "            color:  #f1f1f1;\n",
       "        }    #T_b87483b6_92c7_11ea_802a_10bf483492darow2_col1 {\n",
       "            background-color:  #084a91;\n",
       "            color:  #f1f1f1;\n",
       "        }    #T_b87483b6_92c7_11ea_802a_10bf483492darow2_col2 {\n",
       "            background-color:  #3787c0;\n",
       "            color:  #000000;\n",
       "        }    #T_b87483b6_92c7_11ea_802a_10bf483492darow2_col3 {\n",
       "            background-color:  #08488e;\n",
       "            color:  #f1f1f1;\n",
       "        }    #T_b87483b6_92c7_11ea_802a_10bf483492darow2_col4 {\n",
       "            background-color:  #2070b4;\n",
       "            color:  #f1f1f1;\n",
       "        }    #T_b87483b6_92c7_11ea_802a_10bf483492darow2_col5 {\n",
       "            background-color:  #1764ab;\n",
       "            color:  #f1f1f1;\n",
       "        }    #T_b87483b6_92c7_11ea_802a_10bf483492darow2_col6 {\n",
       "            background-color:  #2373b6;\n",
       "            color:  #f1f1f1;\n",
       "        }    #T_b87483b6_92c7_11ea_802a_10bf483492darow3_col1 {\n",
       "            background-color:  #0d57a1;\n",
       "            color:  #f1f1f1;\n",
       "        }    #T_b87483b6_92c7_11ea_802a_10bf483492darow3_col2 {\n",
       "            background-color:  #2070b4;\n",
       "            color:  #f1f1f1;\n",
       "        }    #T_b87483b6_92c7_11ea_802a_10bf483492darow3_col3 {\n",
       "            background-color:  #2676b8;\n",
       "            color:  #000000;\n",
       "        }    #T_b87483b6_92c7_11ea_802a_10bf483492darow3_col4 {\n",
       "            background-color:  #4f9bcb;\n",
       "            color:  #000000;\n",
       "        }    #T_b87483b6_92c7_11ea_802a_10bf483492darow3_col5 {\n",
       "            background-color:  #6aaed6;\n",
       "            color:  #000000;\n",
       "        }    #T_b87483b6_92c7_11ea_802a_10bf483492darow3_col6 {\n",
       "            background-color:  #74b3d8;\n",
       "            color:  #000000;\n",
       "        }    #T_b87483b6_92c7_11ea_802a_10bf483492darow4_col1 {\n",
       "            background-color:  #084a91;\n",
       "            color:  #f1f1f1;\n",
       "        }    #T_b87483b6_92c7_11ea_802a_10bf483492darow4_col2 {\n",
       "            background-color:  #2070b4;\n",
       "            color:  #f1f1f1;\n",
       "        }    #T_b87483b6_92c7_11ea_802a_10bf483492darow4_col3 {\n",
       "            background-color:  #3f8fc5;\n",
       "            color:  #000000;\n",
       "        }    #T_b87483b6_92c7_11ea_802a_10bf483492darow4_col4 {\n",
       "            background-color:  #4f9bcb;\n",
       "            color:  #000000;\n",
       "        }    #T_b87483b6_92c7_11ea_802a_10bf483492darow4_col5 {\n",
       "            background-color:  #4a98c9;\n",
       "            color:  #000000;\n",
       "        }    #T_b87483b6_92c7_11ea_802a_10bf483492darow4_col6 {\n",
       "            background-color:  #74b3d8;\n",
       "            color:  #000000;\n",
       "        }    #T_b87483b6_92c7_11ea_802a_10bf483492darow5_col1 {\n",
       "            background-color:  #d9e8f5;\n",
       "            color:  #000000;\n",
       "        }    #T_b87483b6_92c7_11ea_802a_10bf483492darow5_col2 {\n",
       "            background-color:  #abd0e6;\n",
       "            color:  #000000;\n",
       "        }    #T_b87483b6_92c7_11ea_802a_10bf483492darow5_col3 {\n",
       "            background-color:  #3f8fc5;\n",
       "            color:  #000000;\n",
       "        }    #T_b87483b6_92c7_11ea_802a_10bf483492darow5_col4 {\n",
       "            background-color:  #08306b;\n",
       "            color:  #f1f1f1;\n",
       "        }    #T_b87483b6_92c7_11ea_802a_10bf483492darow5_col5 {\n",
       "            background-color:  #4a98c9;\n",
       "            color:  #000000;\n",
       "        }    #T_b87483b6_92c7_11ea_802a_10bf483492darow5_col6 {\n",
       "            background-color:  #74b3d8;\n",
       "            color:  #000000;\n",
       "        }    #T_b87483b6_92c7_11ea_802a_10bf483492darow6_col1 {\n",
       "            background-color:  #d9e8f5;\n",
       "            color:  #000000;\n",
       "        }    #T_b87483b6_92c7_11ea_802a_10bf483492darow6_col2 {\n",
       "            background-color:  #4f9bcb;\n",
       "            color:  #000000;\n",
       "        }    #T_b87483b6_92c7_11ea_802a_10bf483492darow6_col3 {\n",
       "            background-color:  #3f8fc5;\n",
       "            color:  #000000;\n",
       "        }    #T_b87483b6_92c7_11ea_802a_10bf483492darow6_col4 {\n",
       "            background-color:  #2070b4;\n",
       "            color:  #f1f1f1;\n",
       "        }    #T_b87483b6_92c7_11ea_802a_10bf483492darow6_col5 {\n",
       "            background-color:  #94c4df;\n",
       "            color:  #000000;\n",
       "        }    #T_b87483b6_92c7_11ea_802a_10bf483492darow6_col6 {\n",
       "            background-color:  #97c6df;\n",
       "            color:  #000000;\n",
       "        }    #T_b87483b6_92c7_11ea_802a_10bf483492darow7_col1 {\n",
       "            background-color:  #4a98c9;\n",
       "            color:  #000000;\n",
       "        }    #T_b87483b6_92c7_11ea_802a_10bf483492darow7_col2 {\n",
       "            background-color:  #8dc1dd;\n",
       "            color:  #000000;\n",
       "        }    #T_b87483b6_92c7_11ea_802a_10bf483492darow7_col3 {\n",
       "            background-color:  #3f8fc5;\n",
       "            color:  #000000;\n",
       "        }    #T_b87483b6_92c7_11ea_802a_10bf483492darow7_col4 {\n",
       "            background-color:  #6aaed6;\n",
       "            color:  #000000;\n",
       "        }    #T_b87483b6_92c7_11ea_802a_10bf483492darow7_col5 {\n",
       "            background-color:  #6aaed6;\n",
       "            color:  #000000;\n",
       "        }    #T_b87483b6_92c7_11ea_802a_10bf483492darow7_col6 {\n",
       "            background-color:  #cddff1;\n",
       "            color:  #000000;\n",
       "        }    #T_b87483b6_92c7_11ea_802a_10bf483492darow8_col1 {\n",
       "            background-color:  #a6cee4;\n",
       "            color:  #000000;\n",
       "        }    #T_b87483b6_92c7_11ea_802a_10bf483492darow8_col2 {\n",
       "            background-color:  #2070b4;\n",
       "            color:  #f1f1f1;\n",
       "        }    #T_b87483b6_92c7_11ea_802a_10bf483492darow8_col3 {\n",
       "            background-color:  #7db8da;\n",
       "            color:  #000000;\n",
       "        }    #T_b87483b6_92c7_11ea_802a_10bf483492darow8_col4 {\n",
       "            background-color:  #abd0e6;\n",
       "            color:  #000000;\n",
       "        }    #T_b87483b6_92c7_11ea_802a_10bf483492darow8_col5 {\n",
       "            background-color:  #94c4df;\n",
       "            color:  #000000;\n",
       "        }    #T_b87483b6_92c7_11ea_802a_10bf483492darow8_col6 {\n",
       "            background-color:  #d5e5f4;\n",
       "            color:  #000000;\n",
       "        }    #T_b87483b6_92c7_11ea_802a_10bf483492darow9_col1 {\n",
       "            background-color:  #e3eef9;\n",
       "            color:  #000000;\n",
       "        }    #T_b87483b6_92c7_11ea_802a_10bf483492darow9_col2 {\n",
       "            background-color:  #2070b4;\n",
       "            color:  #f1f1f1;\n",
       "        }    #T_b87483b6_92c7_11ea_802a_10bf483492darow9_col3 {\n",
       "            background-color:  #a1cbe2;\n",
       "            color:  #000000;\n",
       "        }    #T_b87483b6_92c7_11ea_802a_10bf483492darow9_col4 {\n",
       "            background-color:  #3787c0;\n",
       "            color:  #000000;\n",
       "        }    #T_b87483b6_92c7_11ea_802a_10bf483492darow9_col5 {\n",
       "            background-color:  #e3eef9;\n",
       "            color:  #000000;\n",
       "        }    #T_b87483b6_92c7_11ea_802a_10bf483492darow9_col6 {\n",
       "            background-color:  #d5e5f4;\n",
       "            color:  #000000;\n",
       "        }    #T_b87483b6_92c7_11ea_802a_10bf483492darow10_col1 {\n",
       "            background-color:  #e3eef9;\n",
       "            color:  #000000;\n",
       "        }    #T_b87483b6_92c7_11ea_802a_10bf483492darow10_col2 {\n",
       "            background-color:  #3787c0;\n",
       "            color:  #000000;\n",
       "        }    #T_b87483b6_92c7_11ea_802a_10bf483492darow10_col3 {\n",
       "            background-color:  #f7fbff;\n",
       "            color:  #000000;\n",
       "        }    #T_b87483b6_92c7_11ea_802a_10bf483492darow10_col4 {\n",
       "            background-color:  #2070b4;\n",
       "            color:  #f1f1f1;\n",
       "        }    #T_b87483b6_92c7_11ea_802a_10bf483492darow10_col5 {\n",
       "            background-color:  #94c4df;\n",
       "            color:  #000000;\n",
       "        }    #T_b87483b6_92c7_11ea_802a_10bf483492darow10_col6 {\n",
       "            background-color:  #ddeaf7;\n",
       "            color:  #000000;\n",
       "        }    #T_b87483b6_92c7_11ea_802a_10bf483492darow11_col1 {\n",
       "            background-color:  #f7fbff;\n",
       "            color:  #000000;\n",
       "        }    #T_b87483b6_92c7_11ea_802a_10bf483492darow11_col2 {\n",
       "            background-color:  #f7fbff;\n",
       "            color:  #000000;\n",
       "        }    #T_b87483b6_92c7_11ea_802a_10bf483492darow11_col3 {\n",
       "            background-color:  #7db8da;\n",
       "            color:  #000000;\n",
       "        }    #T_b87483b6_92c7_11ea_802a_10bf483492darow11_col4 {\n",
       "            background-color:  #08468b;\n",
       "            color:  #f1f1f1;\n",
       "        }    #T_b87483b6_92c7_11ea_802a_10bf483492darow11_col5 {\n",
       "            background-color:  #6aaed6;\n",
       "            color:  #000000;\n",
       "        }    #T_b87483b6_92c7_11ea_802a_10bf483492darow11_col6 {\n",
       "            background-color:  #ddeaf7;\n",
       "            color:  #000000;\n",
       "        }    #T_b87483b6_92c7_11ea_802a_10bf483492darow12_col1 {\n",
       "            background-color:  #d9e8f5;\n",
       "            color:  #000000;\n",
       "        }    #T_b87483b6_92c7_11ea_802a_10bf483492darow12_col2 {\n",
       "            background-color:  #4f9bcb;\n",
       "            color:  #000000;\n",
       "        }    #T_b87483b6_92c7_11ea_802a_10bf483492darow12_col3 {\n",
       "            background-color:  #7db8da;\n",
       "            color:  #000000;\n",
       "        }    #T_b87483b6_92c7_11ea_802a_10bf483492darow12_col4 {\n",
       "            background-color:  #8dc1dd;\n",
       "            color:  #000000;\n",
       "        }    #T_b87483b6_92c7_11ea_802a_10bf483492darow12_col5 {\n",
       "            background-color:  #94c4df;\n",
       "            color:  #000000;\n",
       "        }    #T_b87483b6_92c7_11ea_802a_10bf483492darow12_col6 {\n",
       "            background-color:  #ddeaf7;\n",
       "            color:  #000000;\n",
       "        }    #T_b87483b6_92c7_11ea_802a_10bf483492darow13_col1 {\n",
       "            background-color:  #e3eef9;\n",
       "            color:  #000000;\n",
       "        }    #T_b87483b6_92c7_11ea_802a_10bf483492darow13_col2 {\n",
       "            background-color:  #f7fbff;\n",
       "            color:  #000000;\n",
       "        }    #T_b87483b6_92c7_11ea_802a_10bf483492darow13_col3 {\n",
       "            background-color:  #5ca4d0;\n",
       "            color:  #000000;\n",
       "        }    #T_b87483b6_92c7_11ea_802a_10bf483492darow13_col4 {\n",
       "            background-color:  #4f9bcb;\n",
       "            color:  #000000;\n",
       "        }    #T_b87483b6_92c7_11ea_802a_10bf483492darow13_col5 {\n",
       "            background-color:  #4a98c9;\n",
       "            color:  #000000;\n",
       "        }    #T_b87483b6_92c7_11ea_802a_10bf483492darow13_col6 {\n",
       "            background-color:  #eef5fc;\n",
       "            color:  #000000;\n",
       "        }    #T_b87483b6_92c7_11ea_802a_10bf483492darow14_col1 {\n",
       "            background-color:  #94c4df;\n",
       "            color:  #000000;\n",
       "        }    #T_b87483b6_92c7_11ea_802a_10bf483492darow14_col2 {\n",
       "            background-color:  #3787c0;\n",
       "            color:  #000000;\n",
       "        }    #T_b87483b6_92c7_11ea_802a_10bf483492darow14_col3 {\n",
       "            background-color:  #08306b;\n",
       "            color:  #f1f1f1;\n",
       "        }    #T_b87483b6_92c7_11ea_802a_10bf483492darow14_col4 {\n",
       "            background-color:  #f7fbff;\n",
       "            color:  #000000;\n",
       "        }    #T_b87483b6_92c7_11ea_802a_10bf483492darow14_col5 {\n",
       "            background-color:  #f7fbff;\n",
       "            color:  #000000;\n",
       "        }    #T_b87483b6_92c7_11ea_802a_10bf483492darow14_col6 {\n",
       "            background-color:  #eef5fc;\n",
       "            color:  #000000;\n",
       "        }    #T_b87483b6_92c7_11ea_802a_10bf483492darow15_col1 {\n",
       "            background-color:  #94c4df;\n",
       "            color:  #000000;\n",
       "        }    #T_b87483b6_92c7_11ea_802a_10bf483492darow15_col2 {\n",
       "            background-color:  #8dc1dd;\n",
       "            color:  #000000;\n",
       "        }    #T_b87483b6_92c7_11ea_802a_10bf483492darow15_col3 {\n",
       "            background-color:  #3f8fc5;\n",
       "            color:  #000000;\n",
       "        }    #T_b87483b6_92c7_11ea_802a_10bf483492darow15_col4 {\n",
       "            background-color:  #8dc1dd;\n",
       "            color:  #000000;\n",
       "        }    #T_b87483b6_92c7_11ea_802a_10bf483492darow15_col5 {\n",
       "            background-color:  #d0e1f2;\n",
       "            color:  #000000;\n",
       "        }    #T_b87483b6_92c7_11ea_802a_10bf483492darow15_col6 {\n",
       "            background-color:  #eef5fc;\n",
       "            color:  #000000;\n",
       "        }    #T_b87483b6_92c7_11ea_802a_10bf483492darow16_col1 {\n",
       "            background-color:  #a6cee4;\n",
       "            color:  #000000;\n",
       "        }    #T_b87483b6_92c7_11ea_802a_10bf483492darow16_col2 {\n",
       "            background-color:  #d6e6f4;\n",
       "            color:  #000000;\n",
       "        }    #T_b87483b6_92c7_11ea_802a_10bf483492darow16_col3 {\n",
       "            background-color:  #5ca4d0;\n",
       "            color:  #000000;\n",
       "        }    #T_b87483b6_92c7_11ea_802a_10bf483492darow16_col4 {\n",
       "            background-color:  #6aaed6;\n",
       "            color:  #000000;\n",
       "        }    #T_b87483b6_92c7_11ea_802a_10bf483492darow16_col5 {\n",
       "            background-color:  #94c4df;\n",
       "            color:  #000000;\n",
       "        }    #T_b87483b6_92c7_11ea_802a_10bf483492darow16_col6 {\n",
       "            background-color:  #f7fbff;\n",
       "            color:  #000000;\n",
       "        }    #T_b87483b6_92c7_11ea_802a_10bf483492darow17_col1 {\n",
       "            background-color:  #eef5fc;\n",
       "            color:  #000000;\n",
       "        }    #T_b87483b6_92c7_11ea_802a_10bf483492darow17_col2 {\n",
       "            background-color:  #abd0e6;\n",
       "            color:  #000000;\n",
       "        }    #T_b87483b6_92c7_11ea_802a_10bf483492darow17_col3 {\n",
       "            background-color:  #d3e4f3;\n",
       "            color:  #000000;\n",
       "        }    #T_b87483b6_92c7_11ea_802a_10bf483492darow17_col4 {\n",
       "            background-color:  #3787c0;\n",
       "            color:  #000000;\n",
       "        }    #T_b87483b6_92c7_11ea_802a_10bf483492darow17_col5 {\n",
       "            background-color:  #94c4df;\n",
       "            color:  #000000;\n",
       "        }    #T_b87483b6_92c7_11ea_802a_10bf483492darow17_col6 {\n",
       "            background-color:  #f7fbff;\n",
       "            color:  #000000;\n",
       "        }    #T_b87483b6_92c7_11ea_802a_10bf483492darow18_col1 {\n",
       "            background-color:  #d9e8f5;\n",
       "            color:  #000000;\n",
       "        }    #T_b87483b6_92c7_11ea_802a_10bf483492darow18_col2 {\n",
       "            background-color:  #c6dbef;\n",
       "            color:  #000000;\n",
       "        }    #T_b87483b6_92c7_11ea_802a_10bf483492darow18_col3 {\n",
       "            background-color:  #7db8da;\n",
       "            color:  #000000;\n",
       "        }    #T_b87483b6_92c7_11ea_802a_10bf483492darow18_col4 {\n",
       "            background-color:  #6aaed6;\n",
       "            color:  #000000;\n",
       "        }    #T_b87483b6_92c7_11ea_802a_10bf483492darow18_col5 {\n",
       "            background-color:  #94c4df;\n",
       "            color:  #000000;\n",
       "        }    #T_b87483b6_92c7_11ea_802a_10bf483492darow18_col6 {\n",
       "            background-color:  #f7fbff;\n",
       "            color:  #000000;\n",
       "        }    #T_b87483b6_92c7_11ea_802a_10bf483492darow19_col1 {\n",
       "            background-color:  #d9e8f5;\n",
       "            color:  #000000;\n",
       "        }    #T_b87483b6_92c7_11ea_802a_10bf483492darow19_col2 {\n",
       "            background-color:  #f7fbff;\n",
       "            color:  #000000;\n",
       "        }    #T_b87483b6_92c7_11ea_802a_10bf483492darow19_col3 {\n",
       "            background-color:  #3f8fc5;\n",
       "            color:  #000000;\n",
       "        }    #T_b87483b6_92c7_11ea_802a_10bf483492darow19_col4 {\n",
       "            background-color:  #3787c0;\n",
       "            color:  #000000;\n",
       "        }    #T_b87483b6_92c7_11ea_802a_10bf483492darow19_col5 {\n",
       "            background-color:  #b7d4ea;\n",
       "            color:  #000000;\n",
       "        }    #T_b87483b6_92c7_11ea_802a_10bf483492darow19_col6 {\n",
       "            background-color:  #f7fbff;\n",
       "            color:  #000000;\n",
       "        }</style><table id=\"T_b87483b6_92c7_11ea_802a_10bf483492da\" ><thead>    <tr>        <th class=\"col_heading level0 col0\" >Name</th>        <th class=\"col_heading level0 col1\" >Age</th>        <th class=\"col_heading level0 col2\" >Agg</th>        <th class=\"col_heading level0 col3\" >Det</th>        <th class=\"col_heading level0 col4\" >Tea</th>        <th class=\"col_heading level0 col5\" >Wor</th>        <th class=\"col_heading level0 col6\" >dna_score</th>    </tr></thead><tbody>\n",
       "                <tr>\n",
       "                                <td id=\"T_b87483b6_92c7_11ea_802a_10bf483492darow0_col0\" class=\"data row0 col0\" >Gary Medel</td>\n",
       "                        <td id=\"T_b87483b6_92c7_11ea_802a_10bf483492darow0_col1\" class=\"data row0 col1\" >                  35</td>\n",
       "                        <td id=\"T_b87483b6_92c7_11ea_802a_10bf483492darow0_col2\" class=\"data row0 col2\" >18</td>\n",
       "                        <td id=\"T_b87483b6_92c7_11ea_802a_10bf483492darow0_col3\" class=\"data row0 col3\" >18</td>\n",
       "                        <td id=\"T_b87483b6_92c7_11ea_802a_10bf483492darow0_col4\" class=\"data row0 col4\" >18</td>\n",
       "                        <td id=\"T_b87483b6_92c7_11ea_802a_10bf483492darow0_col5\" class=\"data row0 col5\" >20</td>\n",
       "                        <td id=\"T_b87483b6_92c7_11ea_802a_10bf483492darow0_col6\" class=\"data row0 col6\" >74</td>\n",
       "            </tr>\n",
       "            <tr>\n",
       "                                <td id=\"T_b87483b6_92c7_11ea_802a_10bf483492darow1_col0\" class=\"data row1 col0\" >Abdoulaye Niang</td>\n",
       "                        <td id=\"T_b87483b6_92c7_11ea_802a_10bf483492darow1_col1\" class=\"data row1 col1\" >                  19</td>\n",
       "                        <td id=\"T_b87483b6_92c7_11ea_802a_10bf483492darow1_col2\" class=\"data row1 col2\" >19</td>\n",
       "                        <td id=\"T_b87483b6_92c7_11ea_802a_10bf483492darow1_col3\" class=\"data row1 col3\" >18</td>\n",
       "                        <td id=\"T_b87483b6_92c7_11ea_802a_10bf483492darow1_col4\" class=\"data row1 col4\" >18</td>\n",
       "                        <td id=\"T_b87483b6_92c7_11ea_802a_10bf483492darow1_col5\" class=\"data row1 col5\" >18</td>\n",
       "                        <td id=\"T_b87483b6_92c7_11ea_802a_10bf483492darow1_col6\" class=\"data row1 col6\" >73</td>\n",
       "            </tr>\n",
       "            <tr>\n",
       "                                <td id=\"T_b87483b6_92c7_11ea_802a_10bf483492darow2_col0\" class=\"data row2 col0\" >Sven Bender</td>\n",
       "                        <td id=\"T_b87483b6_92c7_11ea_802a_10bf483492darow2_col1\" class=\"data row2 col1\" >                  33</td>\n",
       "                        <td id=\"T_b87483b6_92c7_11ea_802a_10bf483492darow2_col2\" class=\"data row2 col2\" >15</td>\n",
       "                        <td id=\"T_b87483b6_92c7_11ea_802a_10bf483492darow2_col3\" class=\"data row2 col3\" >18</td>\n",
       "                        <td id=\"T_b87483b6_92c7_11ea_802a_10bf483492darow2_col4\" class=\"data row2 col4\" >17</td>\n",
       "                        <td id=\"T_b87483b6_92c7_11ea_802a_10bf483492darow2_col5\" class=\"data row2 col5\" >18</td>\n",
       "                        <td id=\"T_b87483b6_92c7_11ea_802a_10bf483492darow2_col6\" class=\"data row2 col6\" >68</td>\n",
       "            </tr>\n",
       "            <tr>\n",
       "                                <td id=\"T_b87483b6_92c7_11ea_802a_10bf483492darow3_col0\" class=\"data row3 col0\" >Oliver Kragl</td>\n",
       "                        <td id=\"T_b87483b6_92c7_11ea_802a_10bf483492darow3_col1\" class=\"data row3 col1\" >                  32</td>\n",
       "                        <td id=\"T_b87483b6_92c7_11ea_802a_10bf483492darow3_col2\" class=\"data row3 col2\" >16</td>\n",
       "                        <td id=\"T_b87483b6_92c7_11ea_802a_10bf483492darow3_col3\" class=\"data row3 col3\" >16</td>\n",
       "                        <td id=\"T_b87483b6_92c7_11ea_802a_10bf483492darow3_col4\" class=\"data row3 col4\" >15</td>\n",
       "                        <td id=\"T_b87483b6_92c7_11ea_802a_10bf483492darow3_col5\" class=\"data row3 col5\" >15</td>\n",
       "                        <td id=\"T_b87483b6_92c7_11ea_802a_10bf483492darow3_col6\" class=\"data row3 col6\" >62</td>\n",
       "            </tr>\n",
       "            <tr>\n",
       "                                <td id=\"T_b87483b6_92c7_11ea_802a_10bf483492darow4_col0\" class=\"data row4 col0\" >Lucas Deaux</td>\n",
       "                        <td id=\"T_b87483b6_92c7_11ea_802a_10bf483492darow4_col1\" class=\"data row4 col1\" >                  33</td>\n",
       "                        <td id=\"T_b87483b6_92c7_11ea_802a_10bf483492darow4_col2\" class=\"data row4 col2\" >16</td>\n",
       "                        <td id=\"T_b87483b6_92c7_11ea_802a_10bf483492darow4_col3\" class=\"data row4 col3\" >15</td>\n",
       "                        <td id=\"T_b87483b6_92c7_11ea_802a_10bf483492darow4_col4\" class=\"data row4 col4\" >15</td>\n",
       "                        <td id=\"T_b87483b6_92c7_11ea_802a_10bf483492darow4_col5\" class=\"data row4 col5\" >16</td>\n",
       "                        <td id=\"T_b87483b6_92c7_11ea_802a_10bf483492darow4_col6\" class=\"data row4 col6\" >62</td>\n",
       "            </tr>\n",
       "            <tr>\n",
       "                                <td id=\"T_b87483b6_92c7_11ea_802a_10bf483492darow5_col0\" class=\"data row5 col0\" >Andreas Ahlm</td>\n",
       "                        <td id=\"T_b87483b6_92c7_11ea_802a_10bf483492darow5_col1\" class=\"data row5 col1\" >                  18</td>\n",
       "                        <td id=\"T_b87483b6_92c7_11ea_802a_10bf483492darow5_col2\" class=\"data row5 col2\" >11</td>\n",
       "                        <td id=\"T_b87483b6_92c7_11ea_802a_10bf483492darow5_col3\" class=\"data row5 col3\" >15</td>\n",
       "                        <td id=\"T_b87483b6_92c7_11ea_802a_10bf483492darow5_col4\" class=\"data row5 col4\" >20</td>\n",
       "                        <td id=\"T_b87483b6_92c7_11ea_802a_10bf483492darow5_col5\" class=\"data row5 col5\" >16</td>\n",
       "                        <td id=\"T_b87483b6_92c7_11ea_802a_10bf483492darow5_col6\" class=\"data row5 col6\" >62</td>\n",
       "            </tr>\n",
       "            <tr>\n",
       "                                <td id=\"T_b87483b6_92c7_11ea_802a_10bf483492darow6_col0\" class=\"data row6 col0\" >Ben SchÃ¤fer</td>\n",
       "                        <td id=\"T_b87483b6_92c7_11ea_802a_10bf483492darow6_col1\" class=\"data row6 col1\" >                  18</td>\n",
       "                        <td id=\"T_b87483b6_92c7_11ea_802a_10bf483492darow6_col2\" class=\"data row6 col2\" >14</td>\n",
       "                        <td id=\"T_b87483b6_92c7_11ea_802a_10bf483492darow6_col3\" class=\"data row6 col3\" >15</td>\n",
       "                        <td id=\"T_b87483b6_92c7_11ea_802a_10bf483492darow6_col4\" class=\"data row6 col4\" >17</td>\n",
       "                        <td id=\"T_b87483b6_92c7_11ea_802a_10bf483492darow6_col5\" class=\"data row6 col5\" >14</td>\n",
       "                        <td id=\"T_b87483b6_92c7_11ea_802a_10bf483492darow6_col6\" class=\"data row6 col6\" >60</td>\n",
       "            </tr>\n",
       "            <tr>\n",
       "                                <td id=\"T_b87483b6_92c7_11ea_802a_10bf483492darow7_col0\" class=\"data row7 col0\" >Efkan Bekiroglu</td>\n",
       "                        <td id=\"T_b87483b6_92c7_11ea_802a_10bf483492darow7_col1\" class=\"data row7 col1\" >                  27</td>\n",
       "                        <td id=\"T_b87483b6_92c7_11ea_802a_10bf483492darow7_col2\" class=\"data row7 col2\" >12</td>\n",
       "                        <td id=\"T_b87483b6_92c7_11ea_802a_10bf483492darow7_col3\" class=\"data row7 col3\" >15</td>\n",
       "                        <td id=\"T_b87483b6_92c7_11ea_802a_10bf483492darow7_col4\" class=\"data row7 col4\" >14</td>\n",
       "                        <td id=\"T_b87483b6_92c7_11ea_802a_10bf483492darow7_col5\" class=\"data row7 col5\" >15</td>\n",
       "                        <td id=\"T_b87483b6_92c7_11ea_802a_10bf483492darow7_col6\" class=\"data row7 col6\" >56</td>\n",
       "            </tr>\n",
       "            <tr>\n",
       "                                <td id=\"T_b87483b6_92c7_11ea_802a_10bf483492darow8_col0\" class=\"data row8 col0\" >Franck Evina</td>\n",
       "                        <td id=\"T_b87483b6_92c7_11ea_802a_10bf483492darow8_col1\" class=\"data row8 col1\" >                  22</td>\n",
       "                        <td id=\"T_b87483b6_92c7_11ea_802a_10bf483492darow8_col2\" class=\"data row8 col2\" >16</td>\n",
       "                        <td id=\"T_b87483b6_92c7_11ea_802a_10bf483492darow8_col3\" class=\"data row8 col3\" >13</td>\n",
       "                        <td id=\"T_b87483b6_92c7_11ea_802a_10bf483492darow8_col4\" class=\"data row8 col4\" >12</td>\n",
       "                        <td id=\"T_b87483b6_92c7_11ea_802a_10bf483492darow8_col5\" class=\"data row8 col5\" >14</td>\n",
       "                        <td id=\"T_b87483b6_92c7_11ea_802a_10bf483492darow8_col6\" class=\"data row8 col6\" >55</td>\n",
       "            </tr>\n",
       "            <tr>\n",
       "                                <td id=\"T_b87483b6_92c7_11ea_802a_10bf483492darow9_col0\" class=\"data row9 col0\" >Martin MÃ¸rk</td>\n",
       "                        <td id=\"T_b87483b6_92c7_11ea_802a_10bf483492darow9_col1\" class=\"data row9 col1\" >                  17</td>\n",
       "                        <td id=\"T_b87483b6_92c7_11ea_802a_10bf483492darow9_col2\" class=\"data row9 col2\" >16</td>\n",
       "                        <td id=\"T_b87483b6_92c7_11ea_802a_10bf483492darow9_col3\" class=\"data row9 col3\" >12</td>\n",
       "                        <td id=\"T_b87483b6_92c7_11ea_802a_10bf483492darow9_col4\" class=\"data row9 col4\" >16</td>\n",
       "                        <td id=\"T_b87483b6_92c7_11ea_802a_10bf483492darow9_col5\" class=\"data row9 col5\" >11</td>\n",
       "                        <td id=\"T_b87483b6_92c7_11ea_802a_10bf483492darow9_col6\" class=\"data row9 col6\" >55</td>\n",
       "            </tr>\n",
       "            <tr>\n",
       "                                <td id=\"T_b87483b6_92c7_11ea_802a_10bf483492darow10_col0\" class=\"data row10 col0\" >Markus Bahr</td>\n",
       "                        <td id=\"T_b87483b6_92c7_11ea_802a_10bf483492darow10_col1\" class=\"data row10 col1\" >                  17</td>\n",
       "                        <td id=\"T_b87483b6_92c7_11ea_802a_10bf483492darow10_col2\" class=\"data row10 col2\" >15</td>\n",
       "                        <td id=\"T_b87483b6_92c7_11ea_802a_10bf483492darow10_col3\" class=\"data row10 col3\" >8</td>\n",
       "                        <td id=\"T_b87483b6_92c7_11ea_802a_10bf483492darow10_col4\" class=\"data row10 col4\" >17</td>\n",
       "                        <td id=\"T_b87483b6_92c7_11ea_802a_10bf483492darow10_col5\" class=\"data row10 col5\" >14</td>\n",
       "                        <td id=\"T_b87483b6_92c7_11ea_802a_10bf483492darow10_col6\" class=\"data row10 col6\" >54</td>\n",
       "            </tr>\n",
       "            <tr>\n",
       "                                <td id=\"T_b87483b6_92c7_11ea_802a_10bf483492darow11_col0\" class=\"data row11 col0\" >Leon Vogel</td>\n",
       "                        <td id=\"T_b87483b6_92c7_11ea_802a_10bf483492darow11_col1\" class=\"data row11 col1\" >                  15</td>\n",
       "                        <td id=\"T_b87483b6_92c7_11ea_802a_10bf483492darow11_col2\" class=\"data row11 col2\" >7</td>\n",
       "                        <td id=\"T_b87483b6_92c7_11ea_802a_10bf483492darow11_col3\" class=\"data row11 col3\" >13</td>\n",
       "                        <td id=\"T_b87483b6_92c7_11ea_802a_10bf483492darow11_col4\" class=\"data row11 col4\" >19</td>\n",
       "                        <td id=\"T_b87483b6_92c7_11ea_802a_10bf483492darow11_col5\" class=\"data row11 col5\" >15</td>\n",
       "                        <td id=\"T_b87483b6_92c7_11ea_802a_10bf483492darow11_col6\" class=\"data row11 col6\" >54</td>\n",
       "            </tr>\n",
       "            <tr>\n",
       "                                <td id=\"T_b87483b6_92c7_11ea_802a_10bf483492darow12_col0\" class=\"data row12 col0\" >Mike Fitzner</td>\n",
       "                        <td id=\"T_b87483b6_92c7_11ea_802a_10bf483492darow12_col1\" class=\"data row12 col1\" >                  18</td>\n",
       "                        <td id=\"T_b87483b6_92c7_11ea_802a_10bf483492darow12_col2\" class=\"data row12 col2\" >14</td>\n",
       "                        <td id=\"T_b87483b6_92c7_11ea_802a_10bf483492darow12_col3\" class=\"data row12 col3\" >13</td>\n",
       "                        <td id=\"T_b87483b6_92c7_11ea_802a_10bf483492darow12_col4\" class=\"data row12 col4\" >13</td>\n",
       "                        <td id=\"T_b87483b6_92c7_11ea_802a_10bf483492darow12_col5\" class=\"data row12 col5\" >14</td>\n",
       "                        <td id=\"T_b87483b6_92c7_11ea_802a_10bf483492darow12_col6\" class=\"data row12 col6\" >54</td>\n",
       "            </tr>\n",
       "            <tr>\n",
       "                                <td id=\"T_b87483b6_92c7_11ea_802a_10bf483492darow13_col0\" class=\"data row13 col0\" >David Hyam</td>\n",
       "                        <td id=\"T_b87483b6_92c7_11ea_802a_10bf483492darow13_col1\" class=\"data row13 col1\" >                  17</td>\n",
       "                        <td id=\"T_b87483b6_92c7_11ea_802a_10bf483492darow13_col2\" class=\"data row13 col2\" >7</td>\n",
       "                        <td id=\"T_b87483b6_92c7_11ea_802a_10bf483492darow13_col3\" class=\"data row13 col3\" >14</td>\n",
       "                        <td id=\"T_b87483b6_92c7_11ea_802a_10bf483492darow13_col4\" class=\"data row13 col4\" >15</td>\n",
       "                        <td id=\"T_b87483b6_92c7_11ea_802a_10bf483492darow13_col5\" class=\"data row13 col5\" >16</td>\n",
       "                        <td id=\"T_b87483b6_92c7_11ea_802a_10bf483492darow13_col6\" class=\"data row13 col6\" >52</td>\n",
       "            </tr>\n",
       "            <tr>\n",
       "                                <td id=\"T_b87483b6_92c7_11ea_802a_10bf483492darow14_col0\" class=\"data row14 col0\" >Peter KÃ¶ster</td>\n",
       "                        <td id=\"T_b87483b6_92c7_11ea_802a_10bf483492darow14_col1\" class=\"data row14 col1\" >                  23</td>\n",
       "                        <td id=\"T_b87483b6_92c7_11ea_802a_10bf483492darow14_col2\" class=\"data row14 col2\" >15</td>\n",
       "                        <td id=\"T_b87483b6_92c7_11ea_802a_10bf483492darow14_col3\" class=\"data row14 col3\" >19</td>\n",
       "                        <td id=\"T_b87483b6_92c7_11ea_802a_10bf483492darow14_col4\" class=\"data row14 col4\" >8</td>\n",
       "                        <td id=\"T_b87483b6_92c7_11ea_802a_10bf483492darow14_col5\" class=\"data row14 col5\" >10</td>\n",
       "                        <td id=\"T_b87483b6_92c7_11ea_802a_10bf483492darow14_col6\" class=\"data row14 col6\" >52</td>\n",
       "            </tr>\n",
       "            <tr>\n",
       "                                <td id=\"T_b87483b6_92c7_11ea_802a_10bf483492darow15_col0\" class=\"data row15 col0\" >Julian Schwermann</td>\n",
       "                        <td id=\"T_b87483b6_92c7_11ea_802a_10bf483492darow15_col1\" class=\"data row15 col1\" >                  23</td>\n",
       "                        <td id=\"T_b87483b6_92c7_11ea_802a_10bf483492darow15_col2\" class=\"data row15 col2\" >12</td>\n",
       "                        <td id=\"T_b87483b6_92c7_11ea_802a_10bf483492darow15_col3\" class=\"data row15 col3\" >15</td>\n",
       "                        <td id=\"T_b87483b6_92c7_11ea_802a_10bf483492darow15_col4\" class=\"data row15 col4\" >13</td>\n",
       "                        <td id=\"T_b87483b6_92c7_11ea_802a_10bf483492darow15_col5\" class=\"data row15 col5\" >12</td>\n",
       "                        <td id=\"T_b87483b6_92c7_11ea_802a_10bf483492darow15_col6\" class=\"data row15 col6\" >52</td>\n",
       "            </tr>\n",
       "            <tr>\n",
       "                                <td id=\"T_b87483b6_92c7_11ea_802a_10bf483492darow16_col0\" class=\"data row16 col0\" >Leon Klassen</td>\n",
       "                        <td id=\"T_b87483b6_92c7_11ea_802a_10bf483492darow16_col1\" class=\"data row16 col1\" >                  22</td>\n",
       "                        <td id=\"T_b87483b6_92c7_11ea_802a_10bf483492darow16_col2\" class=\"data row16 col2\" >9</td>\n",
       "                        <td id=\"T_b87483b6_92c7_11ea_802a_10bf483492darow16_col3\" class=\"data row16 col3\" >14</td>\n",
       "                        <td id=\"T_b87483b6_92c7_11ea_802a_10bf483492darow16_col4\" class=\"data row16 col4\" >14</td>\n",
       "                        <td id=\"T_b87483b6_92c7_11ea_802a_10bf483492darow16_col5\" class=\"data row16 col5\" >14</td>\n",
       "                        <td id=\"T_b87483b6_92c7_11ea_802a_10bf483492darow16_col6\" class=\"data row16 col6\" >51</td>\n",
       "            </tr>\n",
       "            <tr>\n",
       "                                <td id=\"T_b87483b6_92c7_11ea_802a_10bf483492darow17_col0\" class=\"data row17 col0\" >Daniel Haller</td>\n",
       "                        <td id=\"T_b87483b6_92c7_11ea_802a_10bf483492darow17_col1\" class=\"data row17 col1\" >                  16</td>\n",
       "                        <td id=\"T_b87483b6_92c7_11ea_802a_10bf483492darow17_col2\" class=\"data row17 col2\" >11</td>\n",
       "                        <td id=\"T_b87483b6_92c7_11ea_802a_10bf483492darow17_col3\" class=\"data row17 col3\" >10</td>\n",
       "                        <td id=\"T_b87483b6_92c7_11ea_802a_10bf483492darow17_col4\" class=\"data row17 col4\" >16</td>\n",
       "                        <td id=\"T_b87483b6_92c7_11ea_802a_10bf483492darow17_col5\" class=\"data row17 col5\" >14</td>\n",
       "                        <td id=\"T_b87483b6_92c7_11ea_802a_10bf483492darow17_col6\" class=\"data row17 col6\" >51</td>\n",
       "            </tr>\n",
       "            <tr>\n",
       "                                <td id=\"T_b87483b6_92c7_11ea_802a_10bf483492darow18_col0\" class=\"data row18 col0\" >Rene Strehmel</td>\n",
       "                        <td id=\"T_b87483b6_92c7_11ea_802a_10bf483492darow18_col1\" class=\"data row18 col1\" >                  18</td>\n",
       "                        <td id=\"T_b87483b6_92c7_11ea_802a_10bf483492darow18_col2\" class=\"data row18 col2\" >10</td>\n",
       "                        <td id=\"T_b87483b6_92c7_11ea_802a_10bf483492darow18_col3\" class=\"data row18 col3\" >13</td>\n",
       "                        <td id=\"T_b87483b6_92c7_11ea_802a_10bf483492darow18_col4\" class=\"data row18 col4\" >14</td>\n",
       "                        <td id=\"T_b87483b6_92c7_11ea_802a_10bf483492darow18_col5\" class=\"data row18 col5\" >14</td>\n",
       "                        <td id=\"T_b87483b6_92c7_11ea_802a_10bf483492darow18_col6\" class=\"data row18 col6\" >51</td>\n",
       "            </tr>\n",
       "            <tr>\n",
       "                                <td id=\"T_b87483b6_92c7_11ea_802a_10bf483492darow19_col0\" class=\"data row19 col0\" >Pawel Majewski</td>\n",
       "                        <td id=\"T_b87483b6_92c7_11ea_802a_10bf483492darow19_col1\" class=\"data row19 col1\" >                  18</td>\n",
       "                        <td id=\"T_b87483b6_92c7_11ea_802a_10bf483492darow19_col2\" class=\"data row19 col2\" >7</td>\n",
       "                        <td id=\"T_b87483b6_92c7_11ea_802a_10bf483492darow19_col3\" class=\"data row19 col3\" >15</td>\n",
       "                        <td id=\"T_b87483b6_92c7_11ea_802a_10bf483492darow19_col4\" class=\"data row19 col4\" >16</td>\n",
       "                        <td id=\"T_b87483b6_92c7_11ea_802a_10bf483492darow19_col5\" class=\"data row19 col5\" >13</td>\n",
       "                        <td id=\"T_b87483b6_92c7_11ea_802a_10bf483492darow19_col6\" class=\"data row19 col6\" >51</td>\n",
       "            </tr>\n",
       "    </tbody></table>"
      ],
      "text/plain": [
       "<pandas.io.formats.style.Styler at 0xd177340>"
      ]
     },
     "execution_count": 27,
     "metadata": {},
     "output_type": "execute_result"
    }
   ],
   "source": [
    "# Club DNA Score\n",
    "# change number inside brackets next to head() to decide how many rows to display\n",
    "\n",
    "print(\"DNA\")\n",
    "sorted_dna = dna.sort_values(by='dna_score', ascending=False)\n",
    "sorted_dna.head(20).style.format({\"Age\": \"{:20,.0f}\", \n",
    "                          })\\\n",
    "                   .hide_index()\\\n",
    "                   .background_gradient(cmap='Blues')"
   ]
  },
  {
   "cell_type": "code",
   "execution_count": 28,
   "metadata": {},
   "outputs": [
    {
     "name": "stdout",
     "output_type": "stream",
     "text": [
      "Sweeper Keeper - Support\n"
     ]
    },
    {
     "data": {
      "text/html": [
       "<style  type=\"text/css\" >\n",
       "    #T_b89573f9_92c7_11ea_b704_10bf483492darow0_col1 {\n",
       "            background-color:  #c6dbef;\n",
       "            color:  #000000;\n",
       "        }    #T_b89573f9_92c7_11ea_b704_10bf483492darow0_col2 {\n",
       "            background-color:  #08306b;\n",
       "            color:  #f1f1f1;\n",
       "        }    #T_b89573f9_92c7_11ea_b704_10bf483492darow0_col3 {\n",
       "            background-color:  #08306b;\n",
       "            color:  #f1f1f1;\n",
       "        }    #T_b89573f9_92c7_11ea_b704_10bf483492darow0_col4 {\n",
       "            background-color:  #08306b;\n",
       "            color:  #f1f1f1;\n",
       "        }    #T_b89573f9_92c7_11ea_b704_10bf483492darow0_col5 {\n",
       "            background-color:  #1d6cb1;\n",
       "            color:  #f1f1f1;\n",
       "        }    #T_b89573f9_92c7_11ea_b704_10bf483492darow0_col6 {\n",
       "            background-color:  #0b559f;\n",
       "            color:  #f1f1f1;\n",
       "        }    #T_b89573f9_92c7_11ea_b704_10bf483492darow0_col7 {\n",
       "            background-color:  #6aaed6;\n",
       "            color:  #000000;\n",
       "        }    #T_b89573f9_92c7_11ea_b704_10bf483492darow0_col8 {\n",
       "            background-color:  #1d6cb1;\n",
       "            color:  #f1f1f1;\n",
       "        }    #T_b89573f9_92c7_11ea_b704_10bf483492darow0_col9 {\n",
       "            background-color:  #89bedc;\n",
       "            color:  #000000;\n",
       "        }    #T_b89573f9_92c7_11ea_b704_10bf483492darow0_col10 {\n",
       "            background-color:  #f7fbff;\n",
       "            color:  #000000;\n",
       "        }    #T_b89573f9_92c7_11ea_b704_10bf483492darow0_col11 {\n",
       "            background-color:  #6aaed6;\n",
       "            color:  #000000;\n",
       "        }    #T_b89573f9_92c7_11ea_b704_10bf483492darow0_col12 {\n",
       "            background-color:  #08306b;\n",
       "            color:  #f1f1f1;\n",
       "        }    #T_b89573f9_92c7_11ea_b704_10bf483492darow1_col1 {\n",
       "            background-color:  #6aaed6;\n",
       "            color:  #000000;\n",
       "        }    #T_b89573f9_92c7_11ea_b704_10bf483492darow1_col2 {\n",
       "            background-color:  #2575b7;\n",
       "            color:  #000000;\n",
       "        }    #T_b89573f9_92c7_11ea_b704_10bf483492darow1_col3 {\n",
       "            background-color:  #08488e;\n",
       "            color:  #f1f1f1;\n",
       "        }    #T_b89573f9_92c7_11ea_b704_10bf483492darow1_col4 {\n",
       "            background-color:  #08468b;\n",
       "            color:  #f1f1f1;\n",
       "        }    #T_b89573f9_92c7_11ea_b704_10bf483492darow1_col5 {\n",
       "            background-color:  #08306b;\n",
       "            color:  #f1f1f1;\n",
       "        }    #T_b89573f9_92c7_11ea_b704_10bf483492darow1_col6 {\n",
       "            background-color:  #1967ad;\n",
       "            color:  #f1f1f1;\n",
       "        }    #T_b89573f9_92c7_11ea_b704_10bf483492darow1_col7 {\n",
       "            background-color:  #08306b;\n",
       "            color:  #f1f1f1;\n",
       "        }    #T_b89573f9_92c7_11ea_b704_10bf483492darow1_col8 {\n",
       "            background-color:  #5fa6d1;\n",
       "            color:  #000000;\n",
       "        }    #T_b89573f9_92c7_11ea_b704_10bf483492darow1_col9 {\n",
       "            background-color:  #539ecd;\n",
       "            color:  #000000;\n",
       "        }    #T_b89573f9_92c7_11ea_b704_10bf483492darow1_col10 {\n",
       "            background-color:  #abd0e6;\n",
       "            color:  #000000;\n",
       "        }    #T_b89573f9_92c7_11ea_b704_10bf483492darow1_col11 {\n",
       "            background-color:  #abd0e6;\n",
       "            color:  #000000;\n",
       "        }    #T_b89573f9_92c7_11ea_b704_10bf483492darow1_col12 {\n",
       "            background-color:  #083471;\n",
       "            color:  #f1f1f1;\n",
       "        }    #T_b89573f9_92c7_11ea_b704_10bf483492darow2_col1 {\n",
       "            background-color:  #eaf3fb;\n",
       "            color:  #000000;\n",
       "        }    #T_b89573f9_92c7_11ea_b704_10bf483492darow2_col2 {\n",
       "            background-color:  #4a98c9;\n",
       "            color:  #000000;\n",
       "        }    #T_b89573f9_92c7_11ea_b704_10bf483492darow2_col3 {\n",
       "            background-color:  #3f8fc5;\n",
       "            color:  #000000;\n",
       "        }    #T_b89573f9_92c7_11ea_b704_10bf483492darow2_col4 {\n",
       "            background-color:  #6aaed6;\n",
       "            color:  #000000;\n",
       "        }    #T_b89573f9_92c7_11ea_b704_10bf483492darow2_col5 {\n",
       "            background-color:  #08306b;\n",
       "            color:  #f1f1f1;\n",
       "        }    #T_b89573f9_92c7_11ea_b704_10bf483492darow2_col6 {\n",
       "            background-color:  #3d8dc4;\n",
       "            color:  #000000;\n",
       "        }    #T_b89573f9_92c7_11ea_b704_10bf483492darow2_col7 {\n",
       "            background-color:  #deebf7;\n",
       "            color:  #000000;\n",
       "        }    #T_b89573f9_92c7_11ea_b704_10bf483492darow2_col8 {\n",
       "            background-color:  #d9e7f5;\n",
       "            color:  #000000;\n",
       "        }    #T_b89573f9_92c7_11ea_b704_10bf483492darow2_col9 {\n",
       "            background-color:  #bad6eb;\n",
       "            color:  #000000;\n",
       "        }    #T_b89573f9_92c7_11ea_b704_10bf483492darow2_col10 {\n",
       "            background-color:  #d6e6f4;\n",
       "            color:  #000000;\n",
       "        }    #T_b89573f9_92c7_11ea_b704_10bf483492darow2_col11 {\n",
       "            background-color:  #08306b;\n",
       "            color:  #f1f1f1;\n",
       "        }    #T_b89573f9_92c7_11ea_b704_10bf483492darow2_col12 {\n",
       "            background-color:  #56a0ce;\n",
       "            color:  #000000;\n",
       "        }    #T_b89573f9_92c7_11ea_b704_10bf483492darow3_col1 {\n",
       "            background-color:  #f7fbff;\n",
       "            color:  #000000;\n",
       "        }    #T_b89573f9_92c7_11ea_b704_10bf483492darow3_col2 {\n",
       "            background-color:  #94c4df;\n",
       "            color:  #000000;\n",
       "        }    #T_b89573f9_92c7_11ea_b704_10bf483492darow3_col3 {\n",
       "            background-color:  #08488e;\n",
       "            color:  #f1f1f1;\n",
       "        }    #T_b89573f9_92c7_11ea_b704_10bf483492darow3_col4 {\n",
       "            background-color:  #105ba4;\n",
       "            color:  #f1f1f1;\n",
       "        }    #T_b89573f9_92c7_11ea_b704_10bf483492darow3_col5 {\n",
       "            background-color:  #0e58a2;\n",
       "            color:  #f1f1f1;\n",
       "        }    #T_b89573f9_92c7_11ea_b704_10bf483492darow3_col6 {\n",
       "            background-color:  #08306b;\n",
       "            color:  #f1f1f1;\n",
       "        }    #T_b89573f9_92c7_11ea_b704_10bf483492darow3_col7 {\n",
       "            background-color:  #f7fbff;\n",
       "            color:  #000000;\n",
       "        }    #T_b89573f9_92c7_11ea_b704_10bf483492darow3_col8 {\n",
       "            background-color:  #f7fbff;\n",
       "            color:  #000000;\n",
       "        }    #T_b89573f9_92c7_11ea_b704_10bf483492darow3_col9 {\n",
       "            background-color:  #f7fbff;\n",
       "            color:  #000000;\n",
       "        }    #T_b89573f9_92c7_11ea_b704_10bf483492darow3_col10 {\n",
       "            background-color:  #6aaed6;\n",
       "            color:  #000000;\n",
       "        }    #T_b89573f9_92c7_11ea_b704_10bf483492darow3_col11 {\n",
       "            background-color:  #d6e6f4;\n",
       "            color:  #000000;\n",
       "        }    #T_b89573f9_92c7_11ea_b704_10bf483492darow3_col12 {\n",
       "            background-color:  #5ca4d0;\n",
       "            color:  #000000;\n",
       "        }    #T_b89573f9_92c7_11ea_b704_10bf483492darow4_col1 {\n",
       "            background-color:  #4191c6;\n",
       "            color:  #000000;\n",
       "        }    #T_b89573f9_92c7_11ea_b704_10bf483492darow4_col2 {\n",
       "            background-color:  #dceaf6;\n",
       "            color:  #000000;\n",
       "        }    #T_b89573f9_92c7_11ea_b704_10bf483492darow4_col3 {\n",
       "            background-color:  #e5eff9;\n",
       "            color:  #000000;\n",
       "        }    #T_b89573f9_92c7_11ea_b704_10bf483492darow4_col4 {\n",
       "            background-color:  #d6e6f4;\n",
       "            color:  #000000;\n",
       "        }    #T_b89573f9_92c7_11ea_b704_10bf483492darow4_col5 {\n",
       "            background-color:  #d9e7f5;\n",
       "            color:  #000000;\n",
       "        }    #T_b89573f9_92c7_11ea_b704_10bf483492darow4_col6 {\n",
       "            background-color:  #dbe9f6;\n",
       "            color:  #000000;\n",
       "        }    #T_b89573f9_92c7_11ea_b704_10bf483492darow4_col7 {\n",
       "            background-color:  #9dcae1;\n",
       "            color:  #000000;\n",
       "        }    #T_b89573f9_92c7_11ea_b704_10bf483492darow4_col8 {\n",
       "            background-color:  #08306b;\n",
       "            color:  #f1f1f1;\n",
       "        }    #T_b89573f9_92c7_11ea_b704_10bf483492darow4_col9 {\n",
       "            background-color:  #bad6eb;\n",
       "            color:  #000000;\n",
       "        }    #T_b89573f9_92c7_11ea_b704_10bf483492darow4_col10 {\n",
       "            background-color:  #abd0e6;\n",
       "            color:  #000000;\n",
       "        }    #T_b89573f9_92c7_11ea_b704_10bf483492darow4_col11 {\n",
       "            background-color:  #abd0e6;\n",
       "            color:  #000000;\n",
       "        }    #T_b89573f9_92c7_11ea_b704_10bf483492darow4_col12 {\n",
       "            background-color:  #e2edf8;\n",
       "            color:  #000000;\n",
       "        }    #T_b89573f9_92c7_11ea_b704_10bf483492darow5_col1 {\n",
       "            background-color:  #08306b;\n",
       "            color:  #f1f1f1;\n",
       "        }    #T_b89573f9_92c7_11ea_b704_10bf483492darow5_col2 {\n",
       "            background-color:  #dceaf6;\n",
       "            color:  #000000;\n",
       "        }    #T_b89573f9_92c7_11ea_b704_10bf483492darow5_col3 {\n",
       "            background-color:  #f7fbff;\n",
       "            color:  #000000;\n",
       "        }    #T_b89573f9_92c7_11ea_b704_10bf483492darow5_col4 {\n",
       "            background-color:  #f7fbff;\n",
       "            color:  #000000;\n",
       "        }    #T_b89573f9_92c7_11ea_b704_10bf483492darow5_col5 {\n",
       "            background-color:  #f7fbff;\n",
       "            color:  #000000;\n",
       "        }    #T_b89573f9_92c7_11ea_b704_10bf483492darow5_col6 {\n",
       "            background-color:  #dbe9f6;\n",
       "            color:  #000000;\n",
       "        }    #T_b89573f9_92c7_11ea_b704_10bf483492darow5_col7 {\n",
       "            background-color:  #08509b;\n",
       "            color:  #f1f1f1;\n",
       "        }    #T_b89573f9_92c7_11ea_b704_10bf483492darow5_col8 {\n",
       "            background-color:  #5fa6d1;\n",
       "            color:  #000000;\n",
       "        }    #T_b89573f9_92c7_11ea_b704_10bf483492darow5_col9 {\n",
       "            background-color:  #08306b;\n",
       "            color:  #f1f1f1;\n",
       "        }    #T_b89573f9_92c7_11ea_b704_10bf483492darow5_col10 {\n",
       "            background-color:  #105ba4;\n",
       "            color:  #f1f1f1;\n",
       "        }    #T_b89573f9_92c7_11ea_b704_10bf483492darow5_col11 {\n",
       "            background-color:  #f7fbff;\n",
       "            color:  #000000;\n",
       "        }    #T_b89573f9_92c7_11ea_b704_10bf483492darow5_col12 {\n",
       "            background-color:  #e5eff9;\n",
       "            color:  #000000;\n",
       "        }    #T_b89573f9_92c7_11ea_b704_10bf483492darow6_col1 {\n",
       "            background-color:  #9dcae1;\n",
       "            color:  #000000;\n",
       "        }    #T_b89573f9_92c7_11ea_b704_10bf483492darow6_col2 {\n",
       "            background-color:  #eaf2fb;\n",
       "            color:  #000000;\n",
       "        }    #T_b89573f9_92c7_11ea_b704_10bf483492darow6_col3 {\n",
       "            background-color:  #e5eff9;\n",
       "            color:  #000000;\n",
       "        }    #T_b89573f9_92c7_11ea_b704_10bf483492darow6_col4 {\n",
       "            background-color:  #e7f0fa;\n",
       "            color:  #000000;\n",
       "        }    #T_b89573f9_92c7_11ea_b704_10bf483492darow6_col5 {\n",
       "            background-color:  #f7fbff;\n",
       "            color:  #000000;\n",
       "        }    #T_b89573f9_92c7_11ea_b704_10bf483492darow6_col6 {\n",
       "            background-color:  #e9f2fa;\n",
       "            color:  #000000;\n",
       "        }    #T_b89573f9_92c7_11ea_b704_10bf483492darow6_col7 {\n",
       "            background-color:  #2070b4;\n",
       "            color:  #f1f1f1;\n",
       "        }    #T_b89573f9_92c7_11ea_b704_10bf483492darow6_col8 {\n",
       "            background-color:  #5fa6d1;\n",
       "            color:  #000000;\n",
       "        }    #T_b89573f9_92c7_11ea_b704_10bf483492darow6_col9 {\n",
       "            background-color:  #dbe9f6;\n",
       "            color:  #000000;\n",
       "        }    #T_b89573f9_92c7_11ea_b704_10bf483492darow6_col10 {\n",
       "            background-color:  #08306b;\n",
       "            color:  #f1f1f1;\n",
       "        }    #T_b89573f9_92c7_11ea_b704_10bf483492darow6_col11 {\n",
       "            background-color:  #6aaed6;\n",
       "            color:  #000000;\n",
       "        }    #T_b89573f9_92c7_11ea_b704_10bf483492darow6_col12 {\n",
       "            background-color:  #f0f6fd;\n",
       "            color:  #000000;\n",
       "        }    #T_b89573f9_92c7_11ea_b704_10bf483492darow7_col1 {\n",
       "            background-color:  #9dcae1;\n",
       "            color:  #000000;\n",
       "        }    #T_b89573f9_92c7_11ea_b704_10bf483492darow7_col2 {\n",
       "            background-color:  #f7fbff;\n",
       "            color:  #000000;\n",
       "        }    #T_b89573f9_92c7_11ea_b704_10bf483492darow7_col3 {\n",
       "            background-color:  #f7fbff;\n",
       "            color:  #000000;\n",
       "        }    #T_b89573f9_92c7_11ea_b704_10bf483492darow7_col4 {\n",
       "            background-color:  #e7f0fa;\n",
       "            color:  #000000;\n",
       "        }    #T_b89573f9_92c7_11ea_b704_10bf483492darow7_col5 {\n",
       "            background-color:  #e8f1fa;\n",
       "            color:  #000000;\n",
       "        }    #T_b89573f9_92c7_11ea_b704_10bf483492darow7_col6 {\n",
       "            background-color:  #f7fbff;\n",
       "            color:  #000000;\n",
       "        }    #T_b89573f9_92c7_11ea_b704_10bf483492darow7_col7 {\n",
       "            background-color:  #4191c6;\n",
       "            color:  #000000;\n",
       "        }    #T_b89573f9_92c7_11ea_b704_10bf483492darow7_col8 {\n",
       "            background-color:  #3080bd;\n",
       "            color:  #000000;\n",
       "        }    #T_b89573f9_92c7_11ea_b704_10bf483492darow7_col9 {\n",
       "            background-color:  #539ecd;\n",
       "            color:  #000000;\n",
       "        }    #T_b89573f9_92c7_11ea_b704_10bf483492darow7_col10 {\n",
       "            background-color:  #105ba4;\n",
       "            color:  #f1f1f1;\n",
       "        }    #T_b89573f9_92c7_11ea_b704_10bf483492darow7_col11 {\n",
       "            background-color:  #d6e6f4;\n",
       "            color:  #000000;\n",
       "        }    #T_b89573f9_92c7_11ea_b704_10bf483492darow7_col12 {\n",
       "            background-color:  #f4f9fe;\n",
       "            color:  #000000;\n",
       "        }    #T_b89573f9_92c7_11ea_b704_10bf483492darow8_col1 {\n",
       "            background-color:  #b2d2e8;\n",
       "            color:  #000000;\n",
       "        }    #T_b89573f9_92c7_11ea_b704_10bf483492darow8_col2 {\n",
       "            background-color:  #eaf2fb;\n",
       "            color:  #000000;\n",
       "        }    #T_b89573f9_92c7_11ea_b704_10bf483492darow8_col3 {\n",
       "            background-color:  #f7fbff;\n",
       "            color:  #000000;\n",
       "        }    #T_b89573f9_92c7_11ea_b704_10bf483492darow8_col4 {\n",
       "            background-color:  #d6e6f4;\n",
       "            color:  #000000;\n",
       "        }    #T_b89573f9_92c7_11ea_b704_10bf483492darow8_col5 {\n",
       "            background-color:  #e8f1fa;\n",
       "            color:  #000000;\n",
       "        }    #T_b89573f9_92c7_11ea_b704_10bf483492darow8_col6 {\n",
       "            background-color:  #dbe9f6;\n",
       "            color:  #000000;\n",
       "        }    #T_b89573f9_92c7_11ea_b704_10bf483492darow8_col7 {\n",
       "            background-color:  #6aaed6;\n",
       "            color:  #000000;\n",
       "        }    #T_b89573f9_92c7_11ea_b704_10bf483492darow8_col8 {\n",
       "            background-color:  #5fa6d1;\n",
       "            color:  #000000;\n",
       "        }    #T_b89573f9_92c7_11ea_b704_10bf483492darow8_col9 {\n",
       "            background-color:  #dbe9f6;\n",
       "            color:  #000000;\n",
       "        }    #T_b89573f9_92c7_11ea_b704_10bf483492darow8_col10 {\n",
       "            background-color:  #6aaed6;\n",
       "            color:  #000000;\n",
       "        }    #T_b89573f9_92c7_11ea_b704_10bf483492darow8_col11 {\n",
       "            background-color:  #3787c0;\n",
       "            color:  #000000;\n",
       "        }    #T_b89573f9_92c7_11ea_b704_10bf483492darow8_col12 {\n",
       "            background-color:  #f7fbff;\n",
       "            color:  #000000;\n",
       "        }    #T_b89573f9_92c7_11ea_b704_10bf483492darow9_col1 {\n",
       "            background-color:  #08306b;\n",
       "            color:  #f1f1f1;\n",
       "        }    #T_b89573f9_92c7_11ea_b704_10bf483492darow9_col2 {\n",
       "            background-color:  #f7fbff;\n",
       "            color:  #000000;\n",
       "        }    #T_b89573f9_92c7_11ea_b704_10bf483492darow9_col3 {\n",
       "            background-color:  #e5eff9;\n",
       "            color:  #000000;\n",
       "        }    #T_b89573f9_92c7_11ea_b704_10bf483492darow9_col4 {\n",
       "            background-color:  #e7f0fa;\n",
       "            color:  #000000;\n",
       "        }    #T_b89573f9_92c7_11ea_b704_10bf483492darow9_col5 {\n",
       "            background-color:  #f7fbff;\n",
       "            color:  #000000;\n",
       "        }    #T_b89573f9_92c7_11ea_b704_10bf483492darow9_col6 {\n",
       "            background-color:  #f7fbff;\n",
       "            color:  #000000;\n",
       "        }    #T_b89573f9_92c7_11ea_b704_10bf483492darow9_col7 {\n",
       "            background-color:  #4191c6;\n",
       "            color:  #000000;\n",
       "        }    #T_b89573f9_92c7_11ea_b704_10bf483492darow9_col8 {\n",
       "            background-color:  #1d6cb1;\n",
       "            color:  #f1f1f1;\n",
       "        }    #T_b89573f9_92c7_11ea_b704_10bf483492darow9_col9 {\n",
       "            background-color:  #89bedc;\n",
       "            color:  #000000;\n",
       "        }    #T_b89573f9_92c7_11ea_b704_10bf483492darow9_col10 {\n",
       "            background-color:  #3787c0;\n",
       "            color:  #000000;\n",
       "        }    #T_b89573f9_92c7_11ea_b704_10bf483492darow9_col11 {\n",
       "            background-color:  #d6e6f4;\n",
       "            color:  #000000;\n",
       "        }    #T_b89573f9_92c7_11ea_b704_10bf483492darow9_col12 {\n",
       "            background-color:  #f7fbff;\n",
       "            color:  #000000;\n",
       "        }</style><table id=\"T_b89573f9_92c7_11ea_b704_10bf483492da\" ><thead>    <tr>        <th class=\"col_heading level0 col0\" >Name</th>        <th class=\"col_heading level0 col1\" >Age</th>        <th class=\"col_heading level0 col2\" >Com</th>        <th class=\"col_heading level0 col3\" >Kic</th>        <th class=\"col_heading level0 col4\" >1v1</th>        <th class=\"col_heading level0 col5\" >Ref</th>        <th class=\"col_heading level0 col6\" >TRO</th>        <th class=\"col_heading level0 col7\" >Ant</th>        <th class=\"col_heading level0 col8\" >Cmp</th>        <th class=\"col_heading level0 col9\" >Cnt</th>        <th class=\"col_heading level0 col10\" >Pos</th>        <th class=\"col_heading level0 col11\" >Agi</th>        <th class=\"col_heading level0 col12\" >sk_score</th>    </tr></thead><tbody>\n",
       "                <tr>\n",
       "                                <td id=\"T_b89573f9_92c7_11ea_b704_10bf483492darow0_col0\" class=\"data row0 col0\" >Luca Unbehaun</td>\n",
       "                        <td id=\"T_b89573f9_92c7_11ea_b704_10bf483492darow0_col1\" class=\"data row0 col1\" >                  21</td>\n",
       "                        <td id=\"T_b89573f9_92c7_11ea_b704_10bf483492darow0_col2\" class=\"data row0 col2\" >16</td>\n",
       "                        <td id=\"T_b89573f9_92c7_11ea_b704_10bf483492darow0_col3\" class=\"data row0 col3\" >13</td>\n",
       "                        <td id=\"T_b89573f9_92c7_11ea_b704_10bf483492darow0_col4\" class=\"data row0 col4\" >14</td>\n",
       "                        <td id=\"T_b89573f9_92c7_11ea_b704_10bf483492darow0_col5\" class=\"data row0 col5\" >12</td>\n",
       "                        <td id=\"T_b89573f9_92c7_11ea_b704_10bf483492darow0_col6\" class=\"data row0 col6\" >13</td>\n",
       "                        <td id=\"T_b89573f9_92c7_11ea_b704_10bf483492darow0_col7\" class=\"data row0 col7\" >12</td>\n",
       "                        <td id=\"T_b89573f9_92c7_11ea_b704_10bf483492darow0_col8\" class=\"data row0 col8\" >13</td>\n",
       "                        <td id=\"T_b89573f9_92c7_11ea_b704_10bf483492darow0_col9\" class=\"data row0 col9\" >12</td>\n",
       "                        <td id=\"T_b89573f9_92c7_11ea_b704_10bf483492darow0_col10\" class=\"data row0 col10\" >9</td>\n",
       "                        <td id=\"T_b89573f9_92c7_11ea_b704_10bf483492darow0_col11\" class=\"data row0 col11\" >13</td>\n",
       "                        <td id=\"T_b89573f9_92c7_11ea_b704_10bf483492darow0_col12\" class=\"data row0 col12\" >127</td>\n",
       "            </tr>\n",
       "            <tr>\n",
       "                                <td id=\"T_b89573f9_92c7_11ea_b704_10bf483492darow1_col0\" class=\"data row1 col0\" >Marco Hiller</td>\n",
       "                        <td id=\"T_b89573f9_92c7_11ea_b704_10bf483492darow1_col1\" class=\"data row1 col1\" >                  25</td>\n",
       "                        <td id=\"T_b89573f9_92c7_11ea_b704_10bf483492darow1_col2\" class=\"data row1 col2\" >12</td>\n",
       "                        <td id=\"T_b89573f9_92c7_11ea_b704_10bf483492darow1_col3\" class=\"data row1 col3\" >12</td>\n",
       "                        <td id=\"T_b89573f9_92c7_11ea_b704_10bf483492darow1_col4\" class=\"data row1 col4\" >13</td>\n",
       "                        <td id=\"T_b89573f9_92c7_11ea_b704_10bf483492darow1_col5\" class=\"data row1 col5\" >15</td>\n",
       "                        <td id=\"T_b89573f9_92c7_11ea_b704_10bf483492darow1_col6\" class=\"data row1 col6\" >12</td>\n",
       "                        <td id=\"T_b89573f9_92c7_11ea_b704_10bf483492darow1_col7\" class=\"data row1 col7\" >16</td>\n",
       "                        <td id=\"T_b89573f9_92c7_11ea_b704_10bf483492darow1_col8\" class=\"data row1 col8\" >10</td>\n",
       "                        <td id=\"T_b89573f9_92c7_11ea_b704_10bf483492darow1_col9\" class=\"data row1 col9\" >13</td>\n",
       "                        <td id=\"T_b89573f9_92c7_11ea_b704_10bf483492darow1_col10\" class=\"data row1 col10\" >11</td>\n",
       "                        <td id=\"T_b89573f9_92c7_11ea_b704_10bf483492darow1_col11\" class=\"data row1 col11\" >12</td>\n",
       "                        <td id=\"T_b89573f9_92c7_11ea_b704_10bf483492darow1_col12\" class=\"data row1 col12\" >126</td>\n",
       "            </tr>\n",
       "            <tr>\n",
       "                                <td id=\"T_b89573f9_92c7_11ea_b704_10bf483492darow2_col0\" class=\"data row2 col0\" >Pawel Majewski</td>\n",
       "                        <td id=\"T_b89573f9_92c7_11ea_b704_10bf483492darow2_col1\" class=\"data row2 col1\" >                  18</td>\n",
       "                        <td id=\"T_b89573f9_92c7_11ea_b704_10bf483492darow2_col2\" class=\"data row2 col2\" >10</td>\n",
       "                        <td id=\"T_b89573f9_92c7_11ea_b704_10bf483492darow2_col3\" class=\"data row2 col3\" >9</td>\n",
       "                        <td id=\"T_b89573f9_92c7_11ea_b704_10bf483492darow2_col4\" class=\"data row2 col4\" >8</td>\n",
       "                        <td id=\"T_b89573f9_92c7_11ea_b704_10bf483492darow2_col5\" class=\"data row2 col5\" >15</td>\n",
       "                        <td id=\"T_b89573f9_92c7_11ea_b704_10bf483492darow2_col6\" class=\"data row2 col6\" >10</td>\n",
       "                        <td id=\"T_b89573f9_92c7_11ea_b704_10bf483492darow2_col7\" class=\"data row2 col7\" >9</td>\n",
       "                        <td id=\"T_b89573f9_92c7_11ea_b704_10bf483492darow2_col8\" class=\"data row2 col8\" >5</td>\n",
       "                        <td id=\"T_b89573f9_92c7_11ea_b704_10bf483492darow2_col9\" class=\"data row2 col9\" >11</td>\n",
       "                        <td id=\"T_b89573f9_92c7_11ea_b704_10bf483492darow2_col10\" class=\"data row2 col10\" >10</td>\n",
       "                        <td id=\"T_b89573f9_92c7_11ea_b704_10bf483492darow2_col11\" class=\"data row2 col11\" >16</td>\n",
       "                        <td id=\"T_b89573f9_92c7_11ea_b704_10bf483492darow2_col12\" class=\"data row2 col12\" >103</td>\n",
       "            </tr>\n",
       "            <tr>\n",
       "                                <td id=\"T_b89573f9_92c7_11ea_b704_10bf483492darow3_col0\" class=\"data row3 col0\" >Sebastian Drichel</td>\n",
       "                        <td id=\"T_b89573f9_92c7_11ea_b704_10bf483492darow3_col1\" class=\"data row3 col1\" >                  17</td>\n",
       "                        <td id=\"T_b89573f9_92c7_11ea_b704_10bf483492darow3_col2\" class=\"data row3 col2\" >7</td>\n",
       "                        <td id=\"T_b89573f9_92c7_11ea_b704_10bf483492darow3_col3\" class=\"data row3 col3\" >12</td>\n",
       "                        <td id=\"T_b89573f9_92c7_11ea_b704_10bf483492darow3_col4\" class=\"data row3 col4\" >12</td>\n",
       "                        <td id=\"T_b89573f9_92c7_11ea_b704_10bf483492darow3_col5\" class=\"data row3 col5\" >13</td>\n",
       "                        <td id=\"T_b89573f9_92c7_11ea_b704_10bf483492darow3_col6\" class=\"data row3 col6\" >15</td>\n",
       "                        <td id=\"T_b89573f9_92c7_11ea_b704_10bf483492darow3_col7\" class=\"data row3 col7\" >8</td>\n",
       "                        <td id=\"T_b89573f9_92c7_11ea_b704_10bf483492darow3_col8\" class=\"data row3 col8\" >3</td>\n",
       "                        <td id=\"T_b89573f9_92c7_11ea_b704_10bf483492darow3_col9\" class=\"data row3 col9\" >9</td>\n",
       "                        <td id=\"T_b89573f9_92c7_11ea_b704_10bf483492darow3_col10\" class=\"data row3 col10\" >12</td>\n",
       "                        <td id=\"T_b89573f9_92c7_11ea_b704_10bf483492darow3_col11\" class=\"data row3 col11\" >11</td>\n",
       "                        <td id=\"T_b89573f9_92c7_11ea_b704_10bf483492darow3_col12\" class=\"data row3 col12\" >102</td>\n",
       "            </tr>\n",
       "            <tr>\n",
       "                                <td id=\"T_b89573f9_92c7_11ea_b704_10bf483492darow4_col0\" class=\"data row4 col0\" >Efkan Bekiroglu</td>\n",
       "                        <td id=\"T_b89573f9_92c7_11ea_b704_10bf483492darow4_col1\" class=\"data row4 col1\" >                  27</td>\n",
       "                        <td id=\"T_b89573f9_92c7_11ea_b704_10bf483492darow4_col2\" class=\"data row4 col2\" >3</td>\n",
       "                        <td id=\"T_b89573f9_92c7_11ea_b704_10bf483492darow4_col3\" class=\"data row4 col3\" >3</td>\n",
       "                        <td id=\"T_b89573f9_92c7_11ea_b704_10bf483492darow4_col4\" class=\"data row4 col4\" >4</td>\n",
       "                        <td id=\"T_b89573f9_92c7_11ea_b704_10bf483492darow4_col5\" class=\"data row4 col5\" >4</td>\n",
       "                        <td id=\"T_b89573f9_92c7_11ea_b704_10bf483492darow4_col6\" class=\"data row4 col6\" >3</td>\n",
       "                        <td id=\"T_b89573f9_92c7_11ea_b704_10bf483492darow4_col7\" class=\"data row4 col7\" >11</td>\n",
       "                        <td id=\"T_b89573f9_92c7_11ea_b704_10bf483492darow4_col8\" class=\"data row4 col8\" >16</td>\n",
       "                        <td id=\"T_b89573f9_92c7_11ea_b704_10bf483492darow4_col9\" class=\"data row4 col9\" >11</td>\n",
       "                        <td id=\"T_b89573f9_92c7_11ea_b704_10bf483492darow4_col10\" class=\"data row4 col10\" >11</td>\n",
       "                        <td id=\"T_b89573f9_92c7_11ea_b704_10bf483492darow4_col11\" class=\"data row4 col11\" >12</td>\n",
       "                        <td id=\"T_b89573f9_92c7_11ea_b704_10bf483492darow4_col12\" class=\"data row4 col12\" >78</td>\n",
       "            </tr>\n",
       "            <tr>\n",
       "                                <td id=\"T_b89573f9_92c7_11ea_b704_10bf483492darow5_col0\" class=\"data row5 col0\" >Sven Bender</td>\n",
       "                        <td id=\"T_b89573f9_92c7_11ea_b704_10bf483492darow5_col1\" class=\"data row5 col1\" >                  33</td>\n",
       "                        <td id=\"T_b89573f9_92c7_11ea_b704_10bf483492darow5_col2\" class=\"data row5 col2\" >3</td>\n",
       "                        <td id=\"T_b89573f9_92c7_11ea_b704_10bf483492darow5_col3\" class=\"data row5 col3\" >2</td>\n",
       "                        <td id=\"T_b89573f9_92c7_11ea_b704_10bf483492darow5_col4\" class=\"data row5 col4\" >2</td>\n",
       "                        <td id=\"T_b89573f9_92c7_11ea_b704_10bf483492darow5_col5\" class=\"data row5 col5\" >2</td>\n",
       "                        <td id=\"T_b89573f9_92c7_11ea_b704_10bf483492darow5_col6\" class=\"data row5 col6\" >3</td>\n",
       "                        <td id=\"T_b89573f9_92c7_11ea_b704_10bf483492darow5_col7\" class=\"data row5 col7\" >15</td>\n",
       "                        <td id=\"T_b89573f9_92c7_11ea_b704_10bf483492darow5_col8\" class=\"data row5 col8\" >10</td>\n",
       "                        <td id=\"T_b89573f9_92c7_11ea_b704_10bf483492darow5_col9\" class=\"data row5 col9\" >16</td>\n",
       "                        <td id=\"T_b89573f9_92c7_11ea_b704_10bf483492darow5_col10\" class=\"data row5 col10\" >14</td>\n",
       "                        <td id=\"T_b89573f9_92c7_11ea_b704_10bf483492darow5_col11\" class=\"data row5 col11\" >10</td>\n",
       "                        <td id=\"T_b89573f9_92c7_11ea_b704_10bf483492darow5_col12\" class=\"data row5 col12\" >77</td>\n",
       "            </tr>\n",
       "            <tr>\n",
       "                                <td id=\"T_b89573f9_92c7_11ea_b704_10bf483492darow6_col0\" class=\"data row6 col0\" >Gabriel Isik</td>\n",
       "                        <td id=\"T_b89573f9_92c7_11ea_b704_10bf483492darow6_col1\" class=\"data row6 col1\" >                  23</td>\n",
       "                        <td id=\"T_b89573f9_92c7_11ea_b704_10bf483492darow6_col2\" class=\"data row6 col2\" >2</td>\n",
       "                        <td id=\"T_b89573f9_92c7_11ea_b704_10bf483492darow6_col3\" class=\"data row6 col3\" >3</td>\n",
       "                        <td id=\"T_b89573f9_92c7_11ea_b704_10bf483492darow6_col4\" class=\"data row6 col4\" >3</td>\n",
       "                        <td id=\"T_b89573f9_92c7_11ea_b704_10bf483492darow6_col5\" class=\"data row6 col5\" >2</td>\n",
       "                        <td id=\"T_b89573f9_92c7_11ea_b704_10bf483492darow6_col6\" class=\"data row6 col6\" >2</td>\n",
       "                        <td id=\"T_b89573f9_92c7_11ea_b704_10bf483492darow6_col7\" class=\"data row6 col7\" >14</td>\n",
       "                        <td id=\"T_b89573f9_92c7_11ea_b704_10bf483492darow6_col8\" class=\"data row6 col8\" >10</td>\n",
       "                        <td id=\"T_b89573f9_92c7_11ea_b704_10bf483492darow6_col9\" class=\"data row6 col9\" >10</td>\n",
       "                        <td id=\"T_b89573f9_92c7_11ea_b704_10bf483492darow6_col10\" class=\"data row6 col10\" >15</td>\n",
       "                        <td id=\"T_b89573f9_92c7_11ea_b704_10bf483492darow6_col11\" class=\"data row6 col11\" >13</td>\n",
       "                        <td id=\"T_b89573f9_92c7_11ea_b704_10bf483492darow6_col12\" class=\"data row6 col12\" >74</td>\n",
       "            </tr>\n",
       "            <tr>\n",
       "                                <td id=\"T_b89573f9_92c7_11ea_b704_10bf483492darow7_col0\" class=\"data row7 col0\" >Julian Schwermann</td>\n",
       "                        <td id=\"T_b89573f9_92c7_11ea_b704_10bf483492darow7_col1\" class=\"data row7 col1\" >                  23</td>\n",
       "                        <td id=\"T_b89573f9_92c7_11ea_b704_10bf483492darow7_col2\" class=\"data row7 col2\" >1</td>\n",
       "                        <td id=\"T_b89573f9_92c7_11ea_b704_10bf483492darow7_col3\" class=\"data row7 col3\" >2</td>\n",
       "                        <td id=\"T_b89573f9_92c7_11ea_b704_10bf483492darow7_col4\" class=\"data row7 col4\" >3</td>\n",
       "                        <td id=\"T_b89573f9_92c7_11ea_b704_10bf483492darow7_col5\" class=\"data row7 col5\" >3</td>\n",
       "                        <td id=\"T_b89573f9_92c7_11ea_b704_10bf483492darow7_col6\" class=\"data row7 col6\" >1</td>\n",
       "                        <td id=\"T_b89573f9_92c7_11ea_b704_10bf483492darow7_col7\" class=\"data row7 col7\" >13</td>\n",
       "                        <td id=\"T_b89573f9_92c7_11ea_b704_10bf483492darow7_col8\" class=\"data row7 col8\" >12</td>\n",
       "                        <td id=\"T_b89573f9_92c7_11ea_b704_10bf483492darow7_col9\" class=\"data row7 col9\" >13</td>\n",
       "                        <td id=\"T_b89573f9_92c7_11ea_b704_10bf483492darow7_col10\" class=\"data row7 col10\" >14</td>\n",
       "                        <td id=\"T_b89573f9_92c7_11ea_b704_10bf483492darow7_col11\" class=\"data row7 col11\" >11</td>\n",
       "                        <td id=\"T_b89573f9_92c7_11ea_b704_10bf483492darow7_col12\" class=\"data row7 col12\" >73</td>\n",
       "            </tr>\n",
       "            <tr>\n",
       "                                <td id=\"T_b89573f9_92c7_11ea_b704_10bf483492darow8_col0\" class=\"data row8 col0\" >Leon Klassen</td>\n",
       "                        <td id=\"T_b89573f9_92c7_11ea_b704_10bf483492darow8_col1\" class=\"data row8 col1\" >                  22</td>\n",
       "                        <td id=\"T_b89573f9_92c7_11ea_b704_10bf483492darow8_col2\" class=\"data row8 col2\" >2</td>\n",
       "                        <td id=\"T_b89573f9_92c7_11ea_b704_10bf483492darow8_col3\" class=\"data row8 col3\" >2</td>\n",
       "                        <td id=\"T_b89573f9_92c7_11ea_b704_10bf483492darow8_col4\" class=\"data row8 col4\" >4</td>\n",
       "                        <td id=\"T_b89573f9_92c7_11ea_b704_10bf483492darow8_col5\" class=\"data row8 col5\" >3</td>\n",
       "                        <td id=\"T_b89573f9_92c7_11ea_b704_10bf483492darow8_col6\" class=\"data row8 col6\" >3</td>\n",
       "                        <td id=\"T_b89573f9_92c7_11ea_b704_10bf483492darow8_col7\" class=\"data row8 col7\" >12</td>\n",
       "                        <td id=\"T_b89573f9_92c7_11ea_b704_10bf483492darow8_col8\" class=\"data row8 col8\" >10</td>\n",
       "                        <td id=\"T_b89573f9_92c7_11ea_b704_10bf483492darow8_col9\" class=\"data row8 col9\" >10</td>\n",
       "                        <td id=\"T_b89573f9_92c7_11ea_b704_10bf483492darow8_col10\" class=\"data row8 col10\" >12</td>\n",
       "                        <td id=\"T_b89573f9_92c7_11ea_b704_10bf483492darow8_col11\" class=\"data row8 col11\" >14</td>\n",
       "                        <td id=\"T_b89573f9_92c7_11ea_b704_10bf483492darow8_col12\" class=\"data row8 col12\" >72</td>\n",
       "            </tr>\n",
       "            <tr>\n",
       "                                <td id=\"T_b89573f9_92c7_11ea_b704_10bf483492darow9_col0\" class=\"data row9 col0\" >Lucas Deaux</td>\n",
       "                        <td id=\"T_b89573f9_92c7_11ea_b704_10bf483492darow9_col1\" class=\"data row9 col1\" >                  33</td>\n",
       "                        <td id=\"T_b89573f9_92c7_11ea_b704_10bf483492darow9_col2\" class=\"data row9 col2\" >1</td>\n",
       "                        <td id=\"T_b89573f9_92c7_11ea_b704_10bf483492darow9_col3\" class=\"data row9 col3\" >3</td>\n",
       "                        <td id=\"T_b89573f9_92c7_11ea_b704_10bf483492darow9_col4\" class=\"data row9 col4\" >3</td>\n",
       "                        <td id=\"T_b89573f9_92c7_11ea_b704_10bf483492darow9_col5\" class=\"data row9 col5\" >2</td>\n",
       "                        <td id=\"T_b89573f9_92c7_11ea_b704_10bf483492darow9_col6\" class=\"data row9 col6\" >1</td>\n",
       "                        <td id=\"T_b89573f9_92c7_11ea_b704_10bf483492darow9_col7\" class=\"data row9 col7\" >13</td>\n",
       "                        <td id=\"T_b89573f9_92c7_11ea_b704_10bf483492darow9_col8\" class=\"data row9 col8\" >13</td>\n",
       "                        <td id=\"T_b89573f9_92c7_11ea_b704_10bf483492darow9_col9\" class=\"data row9 col9\" >12</td>\n",
       "                        <td id=\"T_b89573f9_92c7_11ea_b704_10bf483492darow9_col10\" class=\"data row9 col10\" >13</td>\n",
       "                        <td id=\"T_b89573f9_92c7_11ea_b704_10bf483492darow9_col11\" class=\"data row9 col11\" >11</td>\n",
       "                        <td id=\"T_b89573f9_92c7_11ea_b704_10bf483492darow9_col12\" class=\"data row9 col12\" >72</td>\n",
       "            </tr>\n",
       "    </tbody></table>"
      ],
      "text/plain": [
       "<pandas.io.formats.style.Styler at 0xc81ae38>"
      ]
     },
     "execution_count": 28,
     "metadata": {},
     "output_type": "execute_result"
    }
   ],
   "source": [
    "# Sweeper Keeper - Support\n",
    "\n",
    "print(\"Sweeper Keeper - Support\")\n",
    "sorted_sk = sk.sort_values(by='sk_score', ascending=False)\n",
    "sorted_sk.head(10).style.format({\"Age\": \"{:20,.0f}\", \n",
    "                          })\\\n",
    "                        .hide_index()\\\n",
    "                        .background_gradient(cmap='Blues')"
   ]
  },
  {
   "cell_type": "code",
   "execution_count": 29,
   "metadata": {},
   "outputs": [
    {
     "data": {
      "application/vnd.plotly.v1+json": {
       "config": {
        "plotlyServerURL": "https://plot.ly"
       },
       "data": [
        {
         "hovertemplate": "Con/90=%{x}<br>Gl Mst=%{y}<br>Name=%{text}<extra></extra>",
         "legendgroup": "",
         "marker": {
          "color": "#636efa",
          "symbol": "circle"
         },
         "mode": "markers+text",
         "name": "",
         "showlegend": false,
         "text": [
          "Luca Unbehaun",
          "Mert GÃ¶ckan",
          "Leon Vogel",
          "Sven Bender",
          "Efkan Bekiroglu",
          "Oliver Kragl",
          "Mike Fitzner",
          "Lucas Deaux",
          "Gary Medel",
          "Julian Schwermann",
          "Franck Evina",
          "Marco Hiller",
          "Noel Niemann",
          "Abdoulaye Niang",
          "Marvin Jung",
          "Gabriel Isik",
          "Shawn Hery",
          "Leon Klassen",
          "Fabian Greilinger",
          "Petr Dvorak",
          "Marko Basic",
          "Peter KÃ¶ster",
          "Rene Strehmel",
          "Sefer AygÃ¼n",
          "Ben SchÃ¤fer",
          "Andreas Ahlm",
          "Pawel Majewski",
          "Felix Abeln",
          "Sebastian Drichel",
          "David Hyam",
          "JosÃ© Batista",
          "Tobias Paula",
          "Fabian Feldhaus",
          "Martin MÃ¸rk",
          "Mahmut KoÃ§",
          "Markus Bahr",
          "Michael Benecke",
          "Peter Eze",
          "Christoph Sailer",
          "Tobias Riegger-Zingerle",
          "Daniel Haller",
          "NÃ©lson Ferreira"
         ],
         "textposition": "top center",
         "type": "scatter",
         "x": [
          "0.80",
          "-",
          "-",
          "-",
          "-",
          "-",
          "-",
          "-",
          "-",
          "-",
          "-",
          "-",
          "-",
          "-",
          "-",
          "-",
          "-",
          "-",
          "-",
          "-",
          "-",
          "-",
          "-",
          "-",
          "-",
          "-",
          "0.60",
          "-",
          "-",
          "-",
          "-",
          "-",
          "-",
          "-",
          "-",
          "-",
          "-",
          "-",
          "-",
          "-",
          "-",
          "-"
         ],
         "xaxis": "x",
         "y": [
          "0",
          "0",
          "-",
          "1",
          "0",
          "0",
          "0",
          "0",
          "0",
          "0",
          "0",
          "-",
          "0",
          "0",
          "0",
          "0",
          "0",
          "0",
          "0",
          "-",
          "-",
          "0",
          "-",
          "0",
          "-",
          "-",
          "0",
          "-",
          "-",
          "-",
          "-",
          "-",
          "-",
          "-",
          "-",
          "-",
          "-",
          "-",
          "-",
          "-",
          "-",
          "-"
         ],
         "yaxis": "y"
        }
       ],
       "layout": {
        "height": 500,
        "legend": {
         "tracegroupgap": 0
        },
        "margin": {
         "t": 60
        },
        "template": {
         "data": {
          "bar": [
           {
            "error_x": {
             "color": "#f2f5fa"
            },
            "error_y": {
             "color": "#f2f5fa"
            },
            "marker": {
             "line": {
              "color": "rgb(17,17,17)",
              "width": 0.5
             }
            },
            "type": "bar"
           }
          ],
          "barpolar": [
           {
            "marker": {
             "line": {
              "color": "rgb(17,17,17)",
              "width": 0.5
             }
            },
            "type": "barpolar"
           }
          ],
          "carpet": [
           {
            "aaxis": {
             "endlinecolor": "#A2B1C6",
             "gridcolor": "#506784",
             "linecolor": "#506784",
             "minorgridcolor": "#506784",
             "startlinecolor": "#A2B1C6"
            },
            "baxis": {
             "endlinecolor": "#A2B1C6",
             "gridcolor": "#506784",
             "linecolor": "#506784",
             "minorgridcolor": "#506784",
             "startlinecolor": "#A2B1C6"
            },
            "type": "carpet"
           }
          ],
          "choropleth": [
           {
            "colorbar": {
             "outlinewidth": 0,
             "ticks": ""
            },
            "type": "choropleth"
           }
          ],
          "contour": [
           {
            "colorbar": {
             "outlinewidth": 0,
             "ticks": ""
            },
            "colorscale": [
             [
              0,
              "#0d0887"
             ],
             [
              0.1111111111111111,
              "#46039f"
             ],
             [
              0.2222222222222222,
              "#7201a8"
             ],
             [
              0.3333333333333333,
              "#9c179e"
             ],
             [
              0.4444444444444444,
              "#bd3786"
             ],
             [
              0.5555555555555556,
              "#d8576b"
             ],
             [
              0.6666666666666666,
              "#ed7953"
             ],
             [
              0.7777777777777778,
              "#fb9f3a"
             ],
             [
              0.8888888888888888,
              "#fdca26"
             ],
             [
              1,
              "#f0f921"
             ]
            ],
            "type": "contour"
           }
          ],
          "contourcarpet": [
           {
            "colorbar": {
             "outlinewidth": 0,
             "ticks": ""
            },
            "type": "contourcarpet"
           }
          ],
          "heatmap": [
           {
            "colorbar": {
             "outlinewidth": 0,
             "ticks": ""
            },
            "colorscale": [
             [
              0,
              "#0d0887"
             ],
             [
              0.1111111111111111,
              "#46039f"
             ],
             [
              0.2222222222222222,
              "#7201a8"
             ],
             [
              0.3333333333333333,
              "#9c179e"
             ],
             [
              0.4444444444444444,
              "#bd3786"
             ],
             [
              0.5555555555555556,
              "#d8576b"
             ],
             [
              0.6666666666666666,
              "#ed7953"
             ],
             [
              0.7777777777777778,
              "#fb9f3a"
             ],
             [
              0.8888888888888888,
              "#fdca26"
             ],
             [
              1,
              "#f0f921"
             ]
            ],
            "type": "heatmap"
           }
          ],
          "heatmapgl": [
           {
            "colorbar": {
             "outlinewidth": 0,
             "ticks": ""
            },
            "colorscale": [
             [
              0,
              "#0d0887"
             ],
             [
              0.1111111111111111,
              "#46039f"
             ],
             [
              0.2222222222222222,
              "#7201a8"
             ],
             [
              0.3333333333333333,
              "#9c179e"
             ],
             [
              0.4444444444444444,
              "#bd3786"
             ],
             [
              0.5555555555555556,
              "#d8576b"
             ],
             [
              0.6666666666666666,
              "#ed7953"
             ],
             [
              0.7777777777777778,
              "#fb9f3a"
             ],
             [
              0.8888888888888888,
              "#fdca26"
             ],
             [
              1,
              "#f0f921"
             ]
            ],
            "type": "heatmapgl"
           }
          ],
          "histogram": [
           {
            "marker": {
             "colorbar": {
              "outlinewidth": 0,
              "ticks": ""
             }
            },
            "type": "histogram"
           }
          ],
          "histogram2d": [
           {
            "colorbar": {
             "outlinewidth": 0,
             "ticks": ""
            },
            "colorscale": [
             [
              0,
              "#0d0887"
             ],
             [
              0.1111111111111111,
              "#46039f"
             ],
             [
              0.2222222222222222,
              "#7201a8"
             ],
             [
              0.3333333333333333,
              "#9c179e"
             ],
             [
              0.4444444444444444,
              "#bd3786"
             ],
             [
              0.5555555555555556,
              "#d8576b"
             ],
             [
              0.6666666666666666,
              "#ed7953"
             ],
             [
              0.7777777777777778,
              "#fb9f3a"
             ],
             [
              0.8888888888888888,
              "#fdca26"
             ],
             [
              1,
              "#f0f921"
             ]
            ],
            "type": "histogram2d"
           }
          ],
          "histogram2dcontour": [
           {
            "colorbar": {
             "outlinewidth": 0,
             "ticks": ""
            },
            "colorscale": [
             [
              0,
              "#0d0887"
             ],
             [
              0.1111111111111111,
              "#46039f"
             ],
             [
              0.2222222222222222,
              "#7201a8"
             ],
             [
              0.3333333333333333,
              "#9c179e"
             ],
             [
              0.4444444444444444,
              "#bd3786"
             ],
             [
              0.5555555555555556,
              "#d8576b"
             ],
             [
              0.6666666666666666,
              "#ed7953"
             ],
             [
              0.7777777777777778,
              "#fb9f3a"
             ],
             [
              0.8888888888888888,
              "#fdca26"
             ],
             [
              1,
              "#f0f921"
             ]
            ],
            "type": "histogram2dcontour"
           }
          ],
          "mesh3d": [
           {
            "colorbar": {
             "outlinewidth": 0,
             "ticks": ""
            },
            "type": "mesh3d"
           }
          ],
          "parcoords": [
           {
            "line": {
             "colorbar": {
              "outlinewidth": 0,
              "ticks": ""
             }
            },
            "type": "parcoords"
           }
          ],
          "pie": [
           {
            "automargin": true,
            "type": "pie"
           }
          ],
          "scatter": [
           {
            "marker": {
             "line": {
              "color": "#283442"
             }
            },
            "type": "scatter"
           }
          ],
          "scatter3d": [
           {
            "line": {
             "colorbar": {
              "outlinewidth": 0,
              "ticks": ""
             }
            },
            "marker": {
             "colorbar": {
              "outlinewidth": 0,
              "ticks": ""
             }
            },
            "type": "scatter3d"
           }
          ],
          "scattercarpet": [
           {
            "marker": {
             "colorbar": {
              "outlinewidth": 0,
              "ticks": ""
             }
            },
            "type": "scattercarpet"
           }
          ],
          "scattergeo": [
           {
            "marker": {
             "colorbar": {
              "outlinewidth": 0,
              "ticks": ""
             }
            },
            "type": "scattergeo"
           }
          ],
          "scattergl": [
           {
            "marker": {
             "line": {
              "color": "#283442"
             }
            },
            "type": "scattergl"
           }
          ],
          "scattermapbox": [
           {
            "marker": {
             "colorbar": {
              "outlinewidth": 0,
              "ticks": ""
             }
            },
            "type": "scattermapbox"
           }
          ],
          "scatterpolar": [
           {
            "marker": {
             "colorbar": {
              "outlinewidth": 0,
              "ticks": ""
             }
            },
            "type": "scatterpolar"
           }
          ],
          "scatterpolargl": [
           {
            "marker": {
             "colorbar": {
              "outlinewidth": 0,
              "ticks": ""
             }
            },
            "type": "scatterpolargl"
           }
          ],
          "scatterternary": [
           {
            "marker": {
             "colorbar": {
              "outlinewidth": 0,
              "ticks": ""
             }
            },
            "type": "scatterternary"
           }
          ],
          "surface": [
           {
            "colorbar": {
             "outlinewidth": 0,
             "ticks": ""
            },
            "colorscale": [
             [
              0,
              "#0d0887"
             ],
             [
              0.1111111111111111,
              "#46039f"
             ],
             [
              0.2222222222222222,
              "#7201a8"
             ],
             [
              0.3333333333333333,
              "#9c179e"
             ],
             [
              0.4444444444444444,
              "#bd3786"
             ],
             [
              0.5555555555555556,
              "#d8576b"
             ],
             [
              0.6666666666666666,
              "#ed7953"
             ],
             [
              0.7777777777777778,
              "#fb9f3a"
             ],
             [
              0.8888888888888888,
              "#fdca26"
             ],
             [
              1,
              "#f0f921"
             ]
            ],
            "type": "surface"
           }
          ],
          "table": [
           {
            "cells": {
             "fill": {
              "color": "#506784"
             },
             "line": {
              "color": "rgb(17,17,17)"
             }
            },
            "header": {
             "fill": {
              "color": "#2a3f5f"
             },
             "line": {
              "color": "rgb(17,17,17)"
             }
            },
            "type": "table"
           }
          ]
         },
         "layout": {
          "annotationdefaults": {
           "arrowcolor": "#f2f5fa",
           "arrowhead": 0,
           "arrowwidth": 1
          },
          "coloraxis": {
           "colorbar": {
            "outlinewidth": 0,
            "ticks": ""
           }
          },
          "colorscale": {
           "diverging": [
            [
             0,
             "#8e0152"
            ],
            [
             0.1,
             "#c51b7d"
            ],
            [
             0.2,
             "#de77ae"
            ],
            [
             0.3,
             "#f1b6da"
            ],
            [
             0.4,
             "#fde0ef"
            ],
            [
             0.5,
             "#f7f7f7"
            ],
            [
             0.6,
             "#e6f5d0"
            ],
            [
             0.7,
             "#b8e186"
            ],
            [
             0.8,
             "#7fbc41"
            ],
            [
             0.9,
             "#4d9221"
            ],
            [
             1,
             "#276419"
            ]
           ],
           "sequential": [
            [
             0,
             "#0d0887"
            ],
            [
             0.1111111111111111,
             "#46039f"
            ],
            [
             0.2222222222222222,
             "#7201a8"
            ],
            [
             0.3333333333333333,
             "#9c179e"
            ],
            [
             0.4444444444444444,
             "#bd3786"
            ],
            [
             0.5555555555555556,
             "#d8576b"
            ],
            [
             0.6666666666666666,
             "#ed7953"
            ],
            [
             0.7777777777777778,
             "#fb9f3a"
            ],
            [
             0.8888888888888888,
             "#fdca26"
            ],
            [
             1,
             "#f0f921"
            ]
           ],
           "sequentialminus": [
            [
             0,
             "#0d0887"
            ],
            [
             0.1111111111111111,
             "#46039f"
            ],
            [
             0.2222222222222222,
             "#7201a8"
            ],
            [
             0.3333333333333333,
             "#9c179e"
            ],
            [
             0.4444444444444444,
             "#bd3786"
            ],
            [
             0.5555555555555556,
             "#d8576b"
            ],
            [
             0.6666666666666666,
             "#ed7953"
            ],
            [
             0.7777777777777778,
             "#fb9f3a"
            ],
            [
             0.8888888888888888,
             "#fdca26"
            ],
            [
             1,
             "#f0f921"
            ]
           ]
          },
          "colorway": [
           "#636efa",
           "#EF553B",
           "#00cc96",
           "#ab63fa",
           "#FFA15A",
           "#19d3f3",
           "#FF6692",
           "#B6E880",
           "#FF97FF",
           "#FECB52"
          ],
          "font": {
           "color": "#f2f5fa"
          },
          "geo": {
           "bgcolor": "rgb(17,17,17)",
           "lakecolor": "rgb(17,17,17)",
           "landcolor": "rgb(17,17,17)",
           "showlakes": true,
           "showland": true,
           "subunitcolor": "#506784"
          },
          "hoverlabel": {
           "align": "left"
          },
          "hovermode": "closest",
          "mapbox": {
           "style": "dark"
          },
          "paper_bgcolor": "rgb(17,17,17)",
          "plot_bgcolor": "rgb(17,17,17)",
          "polar": {
           "angularaxis": {
            "gridcolor": "#506784",
            "linecolor": "#506784",
            "ticks": ""
           },
           "bgcolor": "rgb(17,17,17)",
           "radialaxis": {
            "gridcolor": "#506784",
            "linecolor": "#506784",
            "ticks": ""
           }
          },
          "scene": {
           "xaxis": {
            "backgroundcolor": "rgb(17,17,17)",
            "gridcolor": "#506784",
            "gridwidth": 2,
            "linecolor": "#506784",
            "showbackground": true,
            "ticks": "",
            "zerolinecolor": "#C8D4E3"
           },
           "yaxis": {
            "backgroundcolor": "rgb(17,17,17)",
            "gridcolor": "#506784",
            "gridwidth": 2,
            "linecolor": "#506784",
            "showbackground": true,
            "ticks": "",
            "zerolinecolor": "#C8D4E3"
           },
           "zaxis": {
            "backgroundcolor": "rgb(17,17,17)",
            "gridcolor": "#506784",
            "gridwidth": 2,
            "linecolor": "#506784",
            "showbackground": true,
            "ticks": "",
            "zerolinecolor": "#C8D4E3"
           }
          },
          "shapedefaults": {
           "line": {
            "color": "#f2f5fa"
           }
          },
          "sliderdefaults": {
           "bgcolor": "#C8D4E3",
           "bordercolor": "rgb(17,17,17)",
           "borderwidth": 1,
           "tickwidth": 0
          },
          "ternary": {
           "aaxis": {
            "gridcolor": "#506784",
            "linecolor": "#506784",
            "ticks": ""
           },
           "baxis": {
            "gridcolor": "#506784",
            "linecolor": "#506784",
            "ticks": ""
           },
           "bgcolor": "rgb(17,17,17)",
           "caxis": {
            "gridcolor": "#506784",
            "linecolor": "#506784",
            "ticks": ""
           }
          },
          "title": {
           "x": 0.05
          },
          "updatemenudefaults": {
           "bgcolor": "#506784",
           "borderwidth": 0
          },
          "xaxis": {
           "automargin": true,
           "gridcolor": "#283442",
           "linecolor": "#506784",
           "ticks": "",
           "title": {
            "standoff": 15
           },
           "zerolinecolor": "#283442",
           "zerolinewidth": 2
          },
          "yaxis": {
           "automargin": true,
           "gridcolor": "#283442",
           "linecolor": "#506784",
           "ticks": "",
           "title": {
            "standoff": 15
           },
           "zerolinecolor": "#283442",
           "zerolinewidth": 2
          }
         }
        },
        "title": {
         "text": "Sweeper Keeper - Support"
        },
        "xaxis": {
         "anchor": "y",
         "domain": [
          0,
          1
         ],
         "title": {
          "text": "Con/90"
         }
        },
        "yaxis": {
         "anchor": "x",
         "domain": [
          0,
          1
         ],
         "title": {
          "text": "Gl Mst"
         }
        }
       }
      },
      "text/html": [
       "<div>\n",
       "        \n",
       "        \n",
       "            <div id=\"299befaf-2611-4dbc-b20e-85984c093da8\" class=\"plotly-graph-div\" style=\"height:500px; width:100%;\"></div>\n",
       "            <script type=\"text/javascript\">\n",
       "                require([\"plotly\"], function(Plotly) {\n",
       "                    window.PLOTLYENV=window.PLOTLYENV || {};\n",
       "                    \n",
       "                if (document.getElementById(\"299befaf-2611-4dbc-b20e-85984c093da8\")) {\n",
       "                    Plotly.newPlot(\n",
       "                        '299befaf-2611-4dbc-b20e-85984c093da8',\n",
       "                        [{\"hovertemplate\": \"Con/90=%{x}<br>Gl Mst=%{y}<br>Name=%{text}<extra></extra>\", \"legendgroup\": \"\", \"marker\": {\"color\": \"#636efa\", \"symbol\": \"circle\"}, \"mode\": \"markers+text\", \"name\": \"\", \"showlegend\": false, \"text\": [\"Luca Unbehaun\", \"Mert G\\u00c3\\u00b6ckan\", \"Leon Vogel\", \"Sven Bender\", \"Efkan Bekiroglu\", \"Oliver Kragl\", \"Mike Fitzner\", \"Lucas Deaux\", \"Gary Medel\", \"Julian Schwermann\", \"Franck Evina\", \"Marco Hiller\", \"Noel Niemann\", \"Abdoulaye Niang\", \"Marvin Jung\", \"Gabriel Isik\", \"Shawn Hery\", \"Leon Klassen\", \"Fabian Greilinger\", \"Petr Dvorak\", \"Marko Basic\", \"Peter K\\u00c3\\u00b6ster\", \"Rene Strehmel\", \"Sefer Ayg\\u00c3\\u00bcn\", \"Ben Sch\\u00c3\\u00a4fer\", \"Andreas Ahlm\", \"Pawel Majewski\", \"Felix Abeln\", \"Sebastian Drichel\", \"David Hyam\", \"Jos\\u00c3\\u00a9 Batista\", \"Tobias Paula\", \"Fabian Feldhaus\", \"Martin M\\u00c3\\u00b8rk\", \"Mahmut Ko\\u00c3\\u00a7\", \"Markus Bahr\", \"Michael Benecke\", \"Peter Eze\", \"Christoph Sailer\", \"Tobias Riegger-Zingerle\", \"Daniel Haller\", \"N\\u00c3\\u00a9lson Ferreira\"], \"textposition\": \"top center\", \"type\": \"scatter\", \"x\": [\"0.80\", \"-\", \"-\", \"-\", \"-\", \"-\", \"-\", \"-\", \"-\", \"-\", \"-\", \"-\", \"-\", \"-\", \"-\", \"-\", \"-\", \"-\", \"-\", \"-\", \"-\", \"-\", \"-\", \"-\", \"-\", \"-\", \"0.60\", \"-\", \"-\", \"-\", \"-\", \"-\", \"-\", \"-\", \"-\", \"-\", \"-\", \"-\", \"-\", \"-\", \"-\", \"-\"], \"xaxis\": \"x\", \"y\": [\"0\", \"0\", \"-\", \"1\", \"0\", \"0\", \"0\", \"0\", \"0\", \"0\", \"0\", \"-\", \"0\", \"0\", \"0\", \"0\", \"0\", \"0\", \"0\", \"-\", \"-\", \"0\", \"-\", \"0\", \"-\", \"-\", \"0\", \"-\", \"-\", \"-\", \"-\", \"-\", \"-\", \"-\", \"-\", \"-\", \"-\", \"-\", \"-\", \"-\", \"-\", \"-\"], \"yaxis\": \"y\"}],\n",
       "                        {\"height\": 500, \"legend\": {\"tracegroupgap\": 0}, \"margin\": {\"t\": 60}, \"template\": {\"data\": {\"bar\": [{\"error_x\": {\"color\": \"#f2f5fa\"}, \"error_y\": {\"color\": \"#f2f5fa\"}, \"marker\": {\"line\": {\"color\": \"rgb(17,17,17)\", \"width\": 0.5}}, \"type\": \"bar\"}], \"barpolar\": [{\"marker\": {\"line\": {\"color\": \"rgb(17,17,17)\", \"width\": 0.5}}, \"type\": \"barpolar\"}], \"carpet\": [{\"aaxis\": {\"endlinecolor\": \"#A2B1C6\", \"gridcolor\": \"#506784\", \"linecolor\": \"#506784\", \"minorgridcolor\": \"#506784\", \"startlinecolor\": \"#A2B1C6\"}, \"baxis\": {\"endlinecolor\": \"#A2B1C6\", \"gridcolor\": \"#506784\", \"linecolor\": \"#506784\", \"minorgridcolor\": \"#506784\", \"startlinecolor\": \"#A2B1C6\"}, \"type\": \"carpet\"}], \"choropleth\": [{\"colorbar\": {\"outlinewidth\": 0, \"ticks\": \"\"}, \"type\": \"choropleth\"}], \"contour\": [{\"colorbar\": {\"outlinewidth\": 0, \"ticks\": \"\"}, \"colorscale\": [[0.0, \"#0d0887\"], [0.1111111111111111, \"#46039f\"], [0.2222222222222222, \"#7201a8\"], [0.3333333333333333, \"#9c179e\"], [0.4444444444444444, \"#bd3786\"], [0.5555555555555556, \"#d8576b\"], [0.6666666666666666, \"#ed7953\"], [0.7777777777777778, \"#fb9f3a\"], [0.8888888888888888, \"#fdca26\"], [1.0, \"#f0f921\"]], \"type\": \"contour\"}], \"contourcarpet\": [{\"colorbar\": {\"outlinewidth\": 0, \"ticks\": \"\"}, \"type\": \"contourcarpet\"}], \"heatmap\": [{\"colorbar\": {\"outlinewidth\": 0, \"ticks\": \"\"}, \"colorscale\": [[0.0, \"#0d0887\"], [0.1111111111111111, \"#46039f\"], [0.2222222222222222, \"#7201a8\"], [0.3333333333333333, \"#9c179e\"], [0.4444444444444444, \"#bd3786\"], [0.5555555555555556, \"#d8576b\"], [0.6666666666666666, \"#ed7953\"], [0.7777777777777778, \"#fb9f3a\"], [0.8888888888888888, \"#fdca26\"], [1.0, \"#f0f921\"]], \"type\": \"heatmap\"}], \"heatmapgl\": [{\"colorbar\": {\"outlinewidth\": 0, \"ticks\": \"\"}, \"colorscale\": [[0.0, \"#0d0887\"], [0.1111111111111111, \"#46039f\"], [0.2222222222222222, \"#7201a8\"], [0.3333333333333333, \"#9c179e\"], [0.4444444444444444, \"#bd3786\"], [0.5555555555555556, \"#d8576b\"], [0.6666666666666666, \"#ed7953\"], [0.7777777777777778, \"#fb9f3a\"], [0.8888888888888888, \"#fdca26\"], [1.0, \"#f0f921\"]], \"type\": \"heatmapgl\"}], \"histogram\": [{\"marker\": {\"colorbar\": {\"outlinewidth\": 0, \"ticks\": \"\"}}, \"type\": \"histogram\"}], \"histogram2d\": [{\"colorbar\": {\"outlinewidth\": 0, \"ticks\": \"\"}, \"colorscale\": [[0.0, \"#0d0887\"], [0.1111111111111111, \"#46039f\"], [0.2222222222222222, \"#7201a8\"], [0.3333333333333333, \"#9c179e\"], [0.4444444444444444, \"#bd3786\"], [0.5555555555555556, \"#d8576b\"], [0.6666666666666666, \"#ed7953\"], [0.7777777777777778, \"#fb9f3a\"], [0.8888888888888888, \"#fdca26\"], [1.0, \"#f0f921\"]], \"type\": \"histogram2d\"}], \"histogram2dcontour\": [{\"colorbar\": {\"outlinewidth\": 0, \"ticks\": \"\"}, \"colorscale\": [[0.0, \"#0d0887\"], [0.1111111111111111, \"#46039f\"], [0.2222222222222222, \"#7201a8\"], [0.3333333333333333, \"#9c179e\"], [0.4444444444444444, \"#bd3786\"], [0.5555555555555556, \"#d8576b\"], [0.6666666666666666, \"#ed7953\"], [0.7777777777777778, \"#fb9f3a\"], [0.8888888888888888, \"#fdca26\"], [1.0, \"#f0f921\"]], \"type\": \"histogram2dcontour\"}], \"mesh3d\": [{\"colorbar\": {\"outlinewidth\": 0, \"ticks\": \"\"}, \"type\": \"mesh3d\"}], \"parcoords\": [{\"line\": {\"colorbar\": {\"outlinewidth\": 0, \"ticks\": \"\"}}, \"type\": \"parcoords\"}], \"pie\": [{\"automargin\": true, \"type\": \"pie\"}], \"scatter\": [{\"marker\": {\"line\": {\"color\": \"#283442\"}}, \"type\": \"scatter\"}], \"scatter3d\": [{\"line\": {\"colorbar\": {\"outlinewidth\": 0, \"ticks\": \"\"}}, \"marker\": {\"colorbar\": {\"outlinewidth\": 0, \"ticks\": \"\"}}, \"type\": \"scatter3d\"}], \"scattercarpet\": [{\"marker\": {\"colorbar\": {\"outlinewidth\": 0, \"ticks\": \"\"}}, \"type\": \"scattercarpet\"}], \"scattergeo\": [{\"marker\": {\"colorbar\": {\"outlinewidth\": 0, \"ticks\": \"\"}}, \"type\": \"scattergeo\"}], \"scattergl\": [{\"marker\": {\"line\": {\"color\": \"#283442\"}}, \"type\": \"scattergl\"}], \"scattermapbox\": [{\"marker\": {\"colorbar\": {\"outlinewidth\": 0, \"ticks\": \"\"}}, \"type\": \"scattermapbox\"}], \"scatterpolar\": [{\"marker\": {\"colorbar\": {\"outlinewidth\": 0, \"ticks\": \"\"}}, \"type\": \"scatterpolar\"}], \"scatterpolargl\": [{\"marker\": {\"colorbar\": {\"outlinewidth\": 0, \"ticks\": \"\"}}, \"type\": \"scatterpolargl\"}], \"scatterternary\": [{\"marker\": {\"colorbar\": {\"outlinewidth\": 0, \"ticks\": \"\"}}, \"type\": \"scatterternary\"}], \"surface\": [{\"colorbar\": {\"outlinewidth\": 0, \"ticks\": \"\"}, \"colorscale\": [[0.0, \"#0d0887\"], [0.1111111111111111, \"#46039f\"], [0.2222222222222222, \"#7201a8\"], [0.3333333333333333, \"#9c179e\"], [0.4444444444444444, \"#bd3786\"], [0.5555555555555556, \"#d8576b\"], [0.6666666666666666, \"#ed7953\"], [0.7777777777777778, \"#fb9f3a\"], [0.8888888888888888, \"#fdca26\"], [1.0, \"#f0f921\"]], \"type\": \"surface\"}], \"table\": [{\"cells\": {\"fill\": {\"color\": \"#506784\"}, \"line\": {\"color\": \"rgb(17,17,17)\"}}, \"header\": {\"fill\": {\"color\": \"#2a3f5f\"}, \"line\": {\"color\": \"rgb(17,17,17)\"}}, \"type\": \"table\"}]}, \"layout\": {\"annotationdefaults\": {\"arrowcolor\": \"#f2f5fa\", \"arrowhead\": 0, \"arrowwidth\": 1}, \"coloraxis\": {\"colorbar\": {\"outlinewidth\": 0, \"ticks\": \"\"}}, \"colorscale\": {\"diverging\": [[0, \"#8e0152\"], [0.1, \"#c51b7d\"], [0.2, \"#de77ae\"], [0.3, \"#f1b6da\"], [0.4, \"#fde0ef\"], [0.5, \"#f7f7f7\"], [0.6, \"#e6f5d0\"], [0.7, \"#b8e186\"], [0.8, \"#7fbc41\"], [0.9, \"#4d9221\"], [1, \"#276419\"]], \"sequential\": [[0.0, \"#0d0887\"], [0.1111111111111111, \"#46039f\"], [0.2222222222222222, \"#7201a8\"], [0.3333333333333333, \"#9c179e\"], [0.4444444444444444, \"#bd3786\"], [0.5555555555555556, \"#d8576b\"], [0.6666666666666666, \"#ed7953\"], [0.7777777777777778, \"#fb9f3a\"], [0.8888888888888888, \"#fdca26\"], [1.0, \"#f0f921\"]], \"sequentialminus\": [[0.0, \"#0d0887\"], [0.1111111111111111, \"#46039f\"], [0.2222222222222222, \"#7201a8\"], [0.3333333333333333, \"#9c179e\"], [0.4444444444444444, \"#bd3786\"], [0.5555555555555556, \"#d8576b\"], [0.6666666666666666, \"#ed7953\"], [0.7777777777777778, \"#fb9f3a\"], [0.8888888888888888, \"#fdca26\"], [1.0, \"#f0f921\"]]}, \"colorway\": [\"#636efa\", \"#EF553B\", \"#00cc96\", \"#ab63fa\", \"#FFA15A\", \"#19d3f3\", \"#FF6692\", \"#B6E880\", \"#FF97FF\", \"#FECB52\"], \"font\": {\"color\": \"#f2f5fa\"}, \"geo\": {\"bgcolor\": \"rgb(17,17,17)\", \"lakecolor\": \"rgb(17,17,17)\", \"landcolor\": \"rgb(17,17,17)\", \"showlakes\": true, \"showland\": true, \"subunitcolor\": \"#506784\"}, \"hoverlabel\": {\"align\": \"left\"}, \"hovermode\": \"closest\", \"mapbox\": {\"style\": \"dark\"}, \"paper_bgcolor\": \"rgb(17,17,17)\", \"plot_bgcolor\": \"rgb(17,17,17)\", \"polar\": {\"angularaxis\": {\"gridcolor\": \"#506784\", \"linecolor\": \"#506784\", \"ticks\": \"\"}, \"bgcolor\": \"rgb(17,17,17)\", \"radialaxis\": {\"gridcolor\": \"#506784\", \"linecolor\": \"#506784\", \"ticks\": \"\"}}, \"scene\": {\"xaxis\": {\"backgroundcolor\": \"rgb(17,17,17)\", \"gridcolor\": \"#506784\", \"gridwidth\": 2, \"linecolor\": \"#506784\", \"showbackground\": true, \"ticks\": \"\", \"zerolinecolor\": \"#C8D4E3\"}, \"yaxis\": {\"backgroundcolor\": \"rgb(17,17,17)\", \"gridcolor\": \"#506784\", \"gridwidth\": 2, \"linecolor\": \"#506784\", \"showbackground\": true, \"ticks\": \"\", \"zerolinecolor\": \"#C8D4E3\"}, \"zaxis\": {\"backgroundcolor\": \"rgb(17,17,17)\", \"gridcolor\": \"#506784\", \"gridwidth\": 2, \"linecolor\": \"#506784\", \"showbackground\": true, \"ticks\": \"\", \"zerolinecolor\": \"#C8D4E3\"}}, \"shapedefaults\": {\"line\": {\"color\": \"#f2f5fa\"}}, \"sliderdefaults\": {\"bgcolor\": \"#C8D4E3\", \"bordercolor\": \"rgb(17,17,17)\", \"borderwidth\": 1, \"tickwidth\": 0}, \"ternary\": {\"aaxis\": {\"gridcolor\": \"#506784\", \"linecolor\": \"#506784\", \"ticks\": \"\"}, \"baxis\": {\"gridcolor\": \"#506784\", \"linecolor\": \"#506784\", \"ticks\": \"\"}, \"bgcolor\": \"rgb(17,17,17)\", \"caxis\": {\"gridcolor\": \"#506784\", \"linecolor\": \"#506784\", \"ticks\": \"\"}}, \"title\": {\"x\": 0.05}, \"updatemenudefaults\": {\"bgcolor\": \"#506784\", \"borderwidth\": 0}, \"xaxis\": {\"automargin\": true, \"gridcolor\": \"#283442\", \"linecolor\": \"#506784\", \"ticks\": \"\", \"title\": {\"standoff\": 15}, \"zerolinecolor\": \"#283442\", \"zerolinewidth\": 2}, \"yaxis\": {\"automargin\": true, \"gridcolor\": \"#283442\", \"linecolor\": \"#506784\", \"ticks\": \"\", \"title\": {\"standoff\": 15}, \"zerolinecolor\": \"#283442\", \"zerolinewidth\": 2}}}, \"title\": {\"text\": \"Sweeper Keeper - Support\"}, \"xaxis\": {\"anchor\": \"y\", \"domain\": [0.0, 1.0], \"title\": {\"text\": \"Con/90\"}}, \"yaxis\": {\"anchor\": \"x\", \"domain\": [0.0, 1.0], \"title\": {\"text\": \"Gl Mst\"}}},\n",
       "                        {\"responsive\": true}\n",
       "                    ).then(function(){\n",
       "                            \n",
       "var gd = document.getElementById('299befaf-2611-4dbc-b20e-85984c093da8');\n",
       "var x = new MutationObserver(function (mutations, observer) {{\n",
       "        var display = window.getComputedStyle(gd).display;\n",
       "        if (!display || display === 'none') {{\n",
       "            console.log([gd, 'removed!']);\n",
       "            Plotly.purge(gd);\n",
       "            observer.disconnect();\n",
       "        }}\n",
       "}});\n",
       "\n",
       "// Listen for the removal of the full notebook cells\n",
       "var notebookContainer = gd.closest('#notebook-container');\n",
       "if (notebookContainer) {{\n",
       "    x.observe(notebookContainer, {childList: true});\n",
       "}}\n",
       "\n",
       "// Listen for the clearing of the current output cell\n",
       "var outputEl = gd.closest('.output');\n",
       "if (outputEl) {{\n",
       "    x.observe(outputEl, {childList: true});\n",
       "}}\n",
       "\n",
       "                        })\n",
       "                };\n",
       "                });\n",
       "            </script>\n",
       "        </div>"
      ]
     },
     "metadata": {},
     "output_type": "display_data"
    }
   ],
   "source": [
    "fig = px.scatter(df1, x=\"Con/90\", y=\"Gl Mst\", text=\"Name\", log_x=False, size_max=60)\n",
    "fig.update_traces(textposition='top center')\n",
    "fig.update_layout(\n",
    "    height=500,\n",
    "   )\n",
    "for template in [\"plotly_dark\"]:\n",
    "    fig.update_layout(template=template, title=\"Sweeper Keeper - Support\")\n",
    "fig.show()\n"
   ]
  },
  {
   "cell_type": "code",
   "execution_count": 30,
   "metadata": {},
   "outputs": [
    {
     "name": "stdout",
     "output_type": "stream",
     "text": [
      "Complete Wing Back - Support\n"
     ]
    },
    {
     "data": {
      "text/html": [
       "<style  type=\"text/css\" >\n",
       "    #T_b8d86607_92c7_11ea_968c_10bf483492darow0_col1 {\n",
       "            background-color:  #deebf7;\n",
       "            color:  #000000;\n",
       "        }    #T_b8d86607_92c7_11ea_968c_10bf483492darow0_col2 {\n",
       "            background-color:  #82bbdb;\n",
       "            color:  #000000;\n",
       "        }    #T_b8d86607_92c7_11ea_968c_10bf483492darow0_col3 {\n",
       "            background-color:  #6aaed6;\n",
       "            color:  #000000;\n",
       "        }    #T_b8d86607_92c7_11ea_968c_10bf483492darow0_col4 {\n",
       "            background-color:  #f7fbff;\n",
       "            color:  #000000;\n",
       "        }    #T_b8d86607_92c7_11ea_968c_10bf483492darow0_col5 {\n",
       "            background-color:  #08306b;\n",
       "            color:  #f1f1f1;\n",
       "        }    #T_b8d86607_92c7_11ea_968c_10bf483492darow0_col6 {\n",
       "            background-color:  #abd0e6;\n",
       "            color:  #000000;\n",
       "        }    #T_b8d86607_92c7_11ea_968c_10bf483492darow0_col7 {\n",
       "            background-color:  #2070b4;\n",
       "            color:  #f1f1f1;\n",
       "        }    #T_b8d86607_92c7_11ea_968c_10bf483492darow0_col8 {\n",
       "            background-color:  #4a98c9;\n",
       "            color:  #000000;\n",
       "        }    #T_b8d86607_92c7_11ea_968c_10bf483492darow0_col9 {\n",
       "            background-color:  #08306b;\n",
       "            color:  #f1f1f1;\n",
       "        }    #T_b8d86607_92c7_11ea_968c_10bf483492darow0_col10 {\n",
       "            background-color:  #08306b;\n",
       "            color:  #f1f1f1;\n",
       "        }    #T_b8d86607_92c7_11ea_968c_10bf483492darow0_col11 {\n",
       "            background-color:  #f7fbff;\n",
       "            color:  #000000;\n",
       "        }    #T_b8d86607_92c7_11ea_968c_10bf483492darow0_col12 {\n",
       "            background-color:  #94c4df;\n",
       "            color:  #000000;\n",
       "        }    #T_b8d86607_92c7_11ea_968c_10bf483492darow0_col13 {\n",
       "            background-color:  #08306b;\n",
       "            color:  #f1f1f1;\n",
       "        }    #T_b8d86607_92c7_11ea_968c_10bf483492darow0_col14 {\n",
       "            background-color:  #08306b;\n",
       "            color:  #f1f1f1;\n",
       "        }    #T_b8d86607_92c7_11ea_968c_10bf483492darow1_col1 {\n",
       "            background-color:  #084082;\n",
       "            color:  #f1f1f1;\n",
       "        }    #T_b8d86607_92c7_11ea_968c_10bf483492darow1_col2 {\n",
       "            background-color:  #08306b;\n",
       "            color:  #f1f1f1;\n",
       "        }    #T_b8d86607_92c7_11ea_968c_10bf483492darow1_col3 {\n",
       "            background-color:  #4191c6;\n",
       "            color:  #000000;\n",
       "        }    #T_b8d86607_92c7_11ea_968c_10bf483492darow1_col4 {\n",
       "            background-color:  #c6dbef;\n",
       "            color:  #000000;\n",
       "        }    #T_b8d86607_92c7_11ea_968c_10bf483492darow1_col5 {\n",
       "            background-color:  #539ecd;\n",
       "            color:  #000000;\n",
       "        }    #T_b8d86607_92c7_11ea_968c_10bf483492darow1_col6 {\n",
       "            background-color:  #3787c0;\n",
       "            color:  #000000;\n",
       "        }    #T_b8d86607_92c7_11ea_968c_10bf483492darow1_col7 {\n",
       "            background-color:  #4191c6;\n",
       "            color:  #000000;\n",
       "        }    #T_b8d86607_92c7_11ea_968c_10bf483492darow1_col8 {\n",
       "            background-color:  #4a98c9;\n",
       "            color:  #000000;\n",
       "        }    #T_b8d86607_92c7_11ea_968c_10bf483492darow1_col9 {\n",
       "            background-color:  #2e7ebc;\n",
       "            color:  #000000;\n",
       "        }    #T_b8d86607_92c7_11ea_968c_10bf483492darow1_col10 {\n",
       "            background-color:  #539ecd;\n",
       "            color:  #000000;\n",
       "        }    #T_b8d86607_92c7_11ea_968c_10bf483492darow1_col11 {\n",
       "            background-color:  #d0e1f2;\n",
       "            color:  #000000;\n",
       "        }    #T_b8d86607_92c7_11ea_968c_10bf483492darow1_col12 {\n",
       "            background-color:  #f7fbff;\n",
       "            color:  #000000;\n",
       "        }    #T_b8d86607_92c7_11ea_968c_10bf483492darow1_col13 {\n",
       "            background-color:  #89bedc;\n",
       "            color:  #000000;\n",
       "        }    #T_b8d86607_92c7_11ea_968c_10bf483492darow1_col14 {\n",
       "            background-color:  #539ecd;\n",
       "            color:  #000000;\n",
       "        }    #T_b8d86607_92c7_11ea_968c_10bf483492darow2_col1 {\n",
       "            background-color:  #eaf3fb;\n",
       "            color:  #000000;\n",
       "        }    #T_b8d86607_92c7_11ea_968c_10bf483492darow2_col2 {\n",
       "            background-color:  #abd0e6;\n",
       "            color:  #000000;\n",
       "        }    #T_b8d86607_92c7_11ea_968c_10bf483492darow2_col3 {\n",
       "            background-color:  #9dcae1;\n",
       "            color:  #000000;\n",
       "        }    #T_b8d86607_92c7_11ea_968c_10bf483492darow2_col4 {\n",
       "            background-color:  #6aaed6;\n",
       "            color:  #000000;\n",
       "        }    #T_b8d86607_92c7_11ea_968c_10bf483492darow2_col5 {\n",
       "            background-color:  #dbe9f6;\n",
       "            color:  #000000;\n",
       "        }    #T_b8d86607_92c7_11ea_968c_10bf483492darow2_col6 {\n",
       "            background-color:  #105ba4;\n",
       "            color:  #f1f1f1;\n",
       "        }    #T_b8d86607_92c7_11ea_968c_10bf483492darow2_col7 {\n",
       "            background-color:  #2070b4;\n",
       "            color:  #f1f1f1;\n",
       "        }    #T_b8d86607_92c7_11ea_968c_10bf483492darow2_col8 {\n",
       "            background-color:  #4a98c9;\n",
       "            color:  #000000;\n",
       "        }    #T_b8d86607_92c7_11ea_968c_10bf483492darow2_col9 {\n",
       "            background-color:  #6aaed6;\n",
       "            color:  #000000;\n",
       "        }    #T_b8d86607_92c7_11ea_968c_10bf483492darow2_col10 {\n",
       "            background-color:  #89bedc;\n",
       "            color:  #000000;\n",
       "        }    #T_b8d86607_92c7_11ea_968c_10bf483492darow2_col11 {\n",
       "            background-color:  #08306b;\n",
       "            color:  #f1f1f1;\n",
       "        }    #T_b8d86607_92c7_11ea_968c_10bf483492darow2_col12 {\n",
       "            background-color:  #1764ab;\n",
       "            color:  #f1f1f1;\n",
       "        }    #T_b8d86607_92c7_11ea_968c_10bf483492darow2_col13 {\n",
       "            background-color:  #539ecd;\n",
       "            color:  #000000;\n",
       "        }    #T_b8d86607_92c7_11ea_968c_10bf483492darow2_col14 {\n",
       "            background-color:  #89bedc;\n",
       "            color:  #000000;\n",
       "        }    #T_b8d86607_92c7_11ea_968c_10bf483492darow3_col1 {\n",
       "            background-color:  #4191c6;\n",
       "            color:  #000000;\n",
       "        }    #T_b8d86607_92c7_11ea_968c_10bf483492darow3_col2 {\n",
       "            background-color:  #e1edf8;\n",
       "            color:  #000000;\n",
       "        }    #T_b8d86607_92c7_11ea_968c_10bf483492darow3_col3 {\n",
       "            background-color:  #4191c6;\n",
       "            color:  #000000;\n",
       "        }    #T_b8d86607_92c7_11ea_968c_10bf483492darow3_col4 {\n",
       "            background-color:  #6aaed6;\n",
       "            color:  #000000;\n",
       "        }    #T_b8d86607_92c7_11ea_968c_10bf483492darow3_col5 {\n",
       "            background-color:  #08306b;\n",
       "            color:  #f1f1f1;\n",
       "        }    #T_b8d86607_92c7_11ea_968c_10bf483492darow3_col6 {\n",
       "            background-color:  #3787c0;\n",
       "            color:  #000000;\n",
       "        }    #T_b8d86607_92c7_11ea_968c_10bf483492darow3_col7 {\n",
       "            background-color:  #2070b4;\n",
       "            color:  #f1f1f1;\n",
       "        }    #T_b8d86607_92c7_11ea_968c_10bf483492darow3_col8 {\n",
       "            background-color:  #94c4df;\n",
       "            color:  #000000;\n",
       "        }    #T_b8d86607_92c7_11ea_968c_10bf483492darow3_col9 {\n",
       "            background-color:  #4a98c9;\n",
       "            color:  #000000;\n",
       "        }    #T_b8d86607_92c7_11ea_968c_10bf483492darow3_col10 {\n",
       "            background-color:  #539ecd;\n",
       "            color:  #000000;\n",
       "        }    #T_b8d86607_92c7_11ea_968c_10bf483492darow3_col11 {\n",
       "            background-color:  #d0e1f2;\n",
       "            color:  #000000;\n",
       "        }    #T_b8d86607_92c7_11ea_968c_10bf483492darow3_col12 {\n",
       "            background-color:  #f7fbff;\n",
       "            color:  #000000;\n",
       "        }    #T_b8d86607_92c7_11ea_968c_10bf483492darow3_col13 {\n",
       "            background-color:  #0b559f;\n",
       "            color:  #f1f1f1;\n",
       "        }    #T_b8d86607_92c7_11ea_968c_10bf483492darow3_col14 {\n",
       "            background-color:  #89bedc;\n",
       "            color:  #000000;\n",
       "        }    #T_b8d86607_92c7_11ea_968c_10bf483492darow4_col1 {\n",
       "            background-color:  #c6dbef;\n",
       "            color:  #000000;\n",
       "        }    #T_b8d86607_92c7_11ea_968c_10bf483492darow4_col2 {\n",
       "            background-color:  #3787c0;\n",
       "            color:  #000000;\n",
       "        }    #T_b8d86607_92c7_11ea_968c_10bf483492darow4_col3 {\n",
       "            background-color:  #6aaed6;\n",
       "            color:  #000000;\n",
       "        }    #T_b8d86607_92c7_11ea_968c_10bf483492darow4_col4 {\n",
       "            background-color:  #6aaed6;\n",
       "            color:  #000000;\n",
       "        }    #T_b8d86607_92c7_11ea_968c_10bf483492darow4_col5 {\n",
       "            background-color:  #0b559f;\n",
       "            color:  #f1f1f1;\n",
       "        }    #T_b8d86607_92c7_11ea_968c_10bf483492darow4_col6 {\n",
       "            background-color:  #f7fbff;\n",
       "            color:  #000000;\n",
       "        }    #T_b8d86607_92c7_11ea_968c_10bf483492darow4_col7 {\n",
       "            background-color:  #2070b4;\n",
       "            color:  #f1f1f1;\n",
       "        }    #T_b8d86607_92c7_11ea_968c_10bf483492darow4_col8 {\n",
       "            background-color:  #94c4df;\n",
       "            color:  #000000;\n",
       "        }    #T_b8d86607_92c7_11ea_968c_10bf483492darow4_col9 {\n",
       "            background-color:  #e3eef9;\n",
       "            color:  #000000;\n",
       "        }    #T_b8d86607_92c7_11ea_968c_10bf483492darow4_col10 {\n",
       "            background-color:  #f7fbff;\n",
       "            color:  #000000;\n",
       "        }    #T_b8d86607_92c7_11ea_968c_10bf483492darow4_col11 {\n",
       "            background-color:  #08306b;\n",
       "            color:  #f1f1f1;\n",
       "        }    #T_b8d86607_92c7_11ea_968c_10bf483492darow4_col12 {\n",
       "            background-color:  #08306b;\n",
       "            color:  #f1f1f1;\n",
       "        }    #T_b8d86607_92c7_11ea_968c_10bf483492darow4_col13 {\n",
       "            background-color:  #89bedc;\n",
       "            color:  #000000;\n",
       "        }    #T_b8d86607_92c7_11ea_968c_10bf483492darow4_col14 {\n",
       "            background-color:  #dbe9f6;\n",
       "            color:  #000000;\n",
       "        }    #T_b8d86607_92c7_11ea_968c_10bf483492darow5_col1 {\n",
       "            background-color:  #c6dbef;\n",
       "            color:  #000000;\n",
       "        }    #T_b8d86607_92c7_11ea_968c_10bf483492darow5_col2 {\n",
       "            background-color:  #e1edf8;\n",
       "            color:  #000000;\n",
       "        }    #T_b8d86607_92c7_11ea_968c_10bf483492darow5_col3 {\n",
       "            background-color:  #08306b;\n",
       "            color:  #f1f1f1;\n",
       "        }    #T_b8d86607_92c7_11ea_968c_10bf483492darow5_col4 {\n",
       "            background-color:  #08306b;\n",
       "            color:  #f1f1f1;\n",
       "        }    #T_b8d86607_92c7_11ea_968c_10bf483492darow5_col5 {\n",
       "            background-color:  #f7fbff;\n",
       "            color:  #000000;\n",
       "        }    #T_b8d86607_92c7_11ea_968c_10bf483492darow5_col6 {\n",
       "            background-color:  #08306b;\n",
       "            color:  #f1f1f1;\n",
       "        }    #T_b8d86607_92c7_11ea_968c_10bf483492darow5_col7 {\n",
       "            background-color:  #4191c6;\n",
       "            color:  #000000;\n",
       "        }    #T_b8d86607_92c7_11ea_968c_10bf483492darow5_col8 {\n",
       "            background-color:  #08306b;\n",
       "            color:  #f1f1f1;\n",
       "        }    #T_b8d86607_92c7_11ea_968c_10bf483492darow5_col9 {\n",
       "            background-color:  #f7fbff;\n",
       "            color:  #000000;\n",
       "        }    #T_b8d86607_92c7_11ea_968c_10bf483492darow5_col10 {\n",
       "            background-color:  #f7fbff;\n",
       "            color:  #000000;\n",
       "        }    #T_b8d86607_92c7_11ea_968c_10bf483492darow5_col11 {\n",
       "            background-color:  #08306b;\n",
       "            color:  #f1f1f1;\n",
       "        }    #T_b8d86607_92c7_11ea_968c_10bf483492darow5_col12 {\n",
       "            background-color:  #08306b;\n",
       "            color:  #f1f1f1;\n",
       "        }    #T_b8d86607_92c7_11ea_968c_10bf483492darow5_col13 {\n",
       "            background-color:  #f7fbff;\n",
       "            color:  #000000;\n",
       "        }    #T_b8d86607_92c7_11ea_968c_10bf483492darow5_col14 {\n",
       "            background-color:  #e9f2fa;\n",
       "            color:  #000000;\n",
       "        }    #T_b8d86607_92c7_11ea_968c_10bf483492darow6_col1 {\n",
       "            background-color:  #b2d2e8;\n",
       "            color:  #000000;\n",
       "        }    #T_b8d86607_92c7_11ea_968c_10bf483492darow6_col2 {\n",
       "            background-color:  #ccdff1;\n",
       "            color:  #000000;\n",
       "        }    #T_b8d86607_92c7_11ea_968c_10bf483492darow6_col3 {\n",
       "            background-color:  #6aaed6;\n",
       "            color:  #000000;\n",
       "        }    #T_b8d86607_92c7_11ea_968c_10bf483492darow6_col4 {\n",
       "            background-color:  #6aaed6;\n",
       "            color:  #000000;\n",
       "        }    #T_b8d86607_92c7_11ea_968c_10bf483492darow6_col5 {\n",
       "            background-color:  #bad6eb;\n",
       "            color:  #000000;\n",
       "        }    #T_b8d86607_92c7_11ea_968c_10bf483492darow6_col6 {\n",
       "            background-color:  #3787c0;\n",
       "            color:  #000000;\n",
       "        }    #T_b8d86607_92c7_11ea_968c_10bf483492darow6_col7 {\n",
       "            background-color:  #6aaed6;\n",
       "            color:  #000000;\n",
       "        }    #T_b8d86607_92c7_11ea_968c_10bf483492darow6_col8 {\n",
       "            background-color:  #4a98c9;\n",
       "            color:  #000000;\n",
       "        }    #T_b8d86607_92c7_11ea_968c_10bf483492darow6_col9 {\n",
       "            background-color:  #4a98c9;\n",
       "            color:  #000000;\n",
       "        }    #T_b8d86607_92c7_11ea_968c_10bf483492darow6_col10 {\n",
       "            background-color:  #89bedc;\n",
       "            color:  #000000;\n",
       "        }    #T_b8d86607_92c7_11ea_968c_10bf483492darow6_col11 {\n",
       "            background-color:  #1764ab;\n",
       "            color:  #f1f1f1;\n",
       "        }    #T_b8d86607_92c7_11ea_968c_10bf483492darow6_col12 {\n",
       "            background-color:  #94c4df;\n",
       "            color:  #000000;\n",
       "        }    #T_b8d86607_92c7_11ea_968c_10bf483492darow6_col13 {\n",
       "            background-color:  #89bedc;\n",
       "            color:  #000000;\n",
       "        }    #T_b8d86607_92c7_11ea_968c_10bf483492darow6_col14 {\n",
       "            background-color:  #e9f2fa;\n",
       "            color:  #000000;\n",
       "        }    #T_b8d86607_92c7_11ea_968c_10bf483492darow7_col1 {\n",
       "            background-color:  #f7fbff;\n",
       "            color:  #000000;\n",
       "        }    #T_b8d86607_92c7_11ea_968c_10bf483492darow7_col2 {\n",
       "            background-color:  #f7fbff;\n",
       "            color:  #000000;\n",
       "        }    #T_b8d86607_92c7_11ea_968c_10bf483492darow7_col3 {\n",
       "            background-color:  #2070b4;\n",
       "            color:  #f1f1f1;\n",
       "        }    #T_b8d86607_92c7_11ea_968c_10bf483492darow7_col4 {\n",
       "            background-color:  #2070b4;\n",
       "            color:  #f1f1f1;\n",
       "        }    #T_b8d86607_92c7_11ea_968c_10bf483492darow7_col5 {\n",
       "            background-color:  #0b559f;\n",
       "            color:  #f1f1f1;\n",
       "        }    #T_b8d86607_92c7_11ea_968c_10bf483492darow7_col6 {\n",
       "            background-color:  #3787c0;\n",
       "            color:  #000000;\n",
       "        }    #T_b8d86607_92c7_11ea_968c_10bf483492darow7_col7 {\n",
       "            background-color:  #f7fbff;\n",
       "            color:  #000000;\n",
       "        }    #T_b8d86607_92c7_11ea_968c_10bf483492darow7_col8 {\n",
       "            background-color:  #f7fbff;\n",
       "            color:  #000000;\n",
       "        }    #T_b8d86607_92c7_11ea_968c_10bf483492darow7_col9 {\n",
       "            background-color:  #2e7ebc;\n",
       "            color:  #000000;\n",
       "        }    #T_b8d86607_92c7_11ea_968c_10bf483492darow7_col10 {\n",
       "            background-color:  #2b7bba;\n",
       "            color:  #000000;\n",
       "        }    #T_b8d86607_92c7_11ea_968c_10bf483492darow7_col11 {\n",
       "            background-color:  #d0e1f2;\n",
       "            color:  #000000;\n",
       "        }    #T_b8d86607_92c7_11ea_968c_10bf483492darow7_col12 {\n",
       "            background-color:  #4a98c9;\n",
       "            color:  #000000;\n",
       "        }    #T_b8d86607_92c7_11ea_968c_10bf483492darow7_col13 {\n",
       "            background-color:  #539ecd;\n",
       "            color:  #000000;\n",
       "        }    #T_b8d86607_92c7_11ea_968c_10bf483492darow7_col14 {\n",
       "            background-color:  #e9f2fa;\n",
       "            color:  #000000;\n",
       "        }    #T_b8d86607_92c7_11ea_968c_10bf483492darow8_col1 {\n",
       "            background-color:  #c6dbef;\n",
       "            color:  #000000;\n",
       "        }    #T_b8d86607_92c7_11ea_968c_10bf483492darow8_col2 {\n",
       "            background-color:  #08306b;\n",
       "            color:  #f1f1f1;\n",
       "        }    #T_b8d86607_92c7_11ea_968c_10bf483492darow8_col3 {\n",
       "            background-color:  #9dcae1;\n",
       "            color:  #000000;\n",
       "        }    #T_b8d86607_92c7_11ea_968c_10bf483492darow8_col4 {\n",
       "            background-color:  #f7fbff;\n",
       "            color:  #000000;\n",
       "        }    #T_b8d86607_92c7_11ea_968c_10bf483492darow8_col5 {\n",
       "            background-color:  #539ecd;\n",
       "            color:  #000000;\n",
       "        }    #T_b8d86607_92c7_11ea_968c_10bf483492darow8_col6 {\n",
       "            background-color:  #abd0e6;\n",
       "            color:  #000000;\n",
       "        }    #T_b8d86607_92c7_11ea_968c_10bf483492darow8_col7 {\n",
       "            background-color:  #08509b;\n",
       "            color:  #f1f1f1;\n",
       "        }    #T_b8d86607_92c7_11ea_968c_10bf483492darow8_col8 {\n",
       "            background-color:  #d0e1f2;\n",
       "            color:  #000000;\n",
       "        }    #T_b8d86607_92c7_11ea_968c_10bf483492darow8_col9 {\n",
       "            background-color:  #b7d4ea;\n",
       "            color:  #000000;\n",
       "        }    #T_b8d86607_92c7_11ea_968c_10bf483492darow8_col10 {\n",
       "            background-color:  #f7fbff;\n",
       "            color:  #000000;\n",
       "        }    #T_b8d86607_92c7_11ea_968c_10bf483492darow8_col11 {\n",
       "            background-color:  #1764ab;\n",
       "            color:  #f1f1f1;\n",
       "        }    #T_b8d86607_92c7_11ea_968c_10bf483492darow8_col12 {\n",
       "            background-color:  #94c4df;\n",
       "            color:  #000000;\n",
       "        }    #T_b8d86607_92c7_11ea_968c_10bf483492darow8_col13 {\n",
       "            background-color:  #89bedc;\n",
       "            color:  #000000;\n",
       "        }    #T_b8d86607_92c7_11ea_968c_10bf483492darow8_col14 {\n",
       "            background-color:  #f7fbff;\n",
       "            color:  #000000;\n",
       "        }    #T_b8d86607_92c7_11ea_968c_10bf483492darow9_col1 {\n",
       "            background-color:  #08306b;\n",
       "            color:  #f1f1f1;\n",
       "        }    #T_b8d86607_92c7_11ea_968c_10bf483492darow9_col2 {\n",
       "            background-color:  #f7fbff;\n",
       "            color:  #000000;\n",
       "        }    #T_b8d86607_92c7_11ea_968c_10bf483492darow9_col3 {\n",
       "            background-color:  #f7fbff;\n",
       "            color:  #000000;\n",
       "        }    #T_b8d86607_92c7_11ea_968c_10bf483492darow9_col4 {\n",
       "            background-color:  #2070b4;\n",
       "            color:  #f1f1f1;\n",
       "        }    #T_b8d86607_92c7_11ea_968c_10bf483492darow9_col5 {\n",
       "            background-color:  #0b559f;\n",
       "            color:  #f1f1f1;\n",
       "        }    #T_b8d86607_92c7_11ea_968c_10bf483492darow9_col6 {\n",
       "            background-color:  #3787c0;\n",
       "            color:  #000000;\n",
       "        }    #T_b8d86607_92c7_11ea_968c_10bf483492darow9_col7 {\n",
       "            background-color:  #08306b;\n",
       "            color:  #f1f1f1;\n",
       "        }    #T_b8d86607_92c7_11ea_968c_10bf483492darow9_col8 {\n",
       "            background-color:  #94c4df;\n",
       "            color:  #000000;\n",
       "        }    #T_b8d86607_92c7_11ea_968c_10bf483492darow9_col9 {\n",
       "            background-color:  #2e7ebc;\n",
       "            color:  #000000;\n",
       "        }    #T_b8d86607_92c7_11ea_968c_10bf483492darow9_col10 {\n",
       "            background-color:  #2b7bba;\n",
       "            color:  #000000;\n",
       "        }    #T_b8d86607_92c7_11ea_968c_10bf483492darow9_col11 {\n",
       "            background-color:  #f7fbff;\n",
       "            color:  #000000;\n",
       "        }    #T_b8d86607_92c7_11ea_968c_10bf483492darow9_col12 {\n",
       "            background-color:  #d0e1f2;\n",
       "            color:  #000000;\n",
       "        }    #T_b8d86607_92c7_11ea_968c_10bf483492darow9_col13 {\n",
       "            background-color:  #bad6eb;\n",
       "            color:  #000000;\n",
       "        }    #T_b8d86607_92c7_11ea_968c_10bf483492darow9_col14 {\n",
       "            background-color:  #f7fbff;\n",
       "            color:  #000000;\n",
       "        }</style><table id=\"T_b8d86607_92c7_11ea_968c_10bf483492da\" ><thead>    <tr>        <th class=\"col_heading level0 col0\" >Name</th>        <th class=\"col_heading level0 col1\" >Age</th>        <th class=\"col_heading level0 col2\" >Cro</th>        <th class=\"col_heading level0 col3\" >Dri</th>        <th class=\"col_heading level0 col4\" >Fir</th>        <th class=\"col_heading level0 col5\" >Pas</th>        <th class=\"col_heading level0 col6\" >Tec</th>        <th class=\"col_heading level0 col7\" >Dec</th>        <th class=\"col_heading level0 col8\" >OtB</th>        <th class=\"col_heading level0 col9\" >Tea</th>        <th class=\"col_heading level0 col10\" >Wor</th>        <th class=\"col_heading level0 col11\" >Acc</th>        <th class=\"col_heading level0 col12\" >Pac</th>        <th class=\"col_heading level0 col13\" >Sta</th>        <th class=\"col_heading level0 col14\" >cwb_score</th>    </tr></thead><tbody>\n",
       "                <tr>\n",
       "                                <td id=\"T_b8d86607_92c7_11ea_968c_10bf483492darow0_col0\" class=\"data row0 col0\" >Abdoulaye Niang</td>\n",
       "                        <td id=\"T_b8d86607_92c7_11ea_968c_10bf483492darow0_col1\" class=\"data row0 col1\" >                  19</td>\n",
       "                        <td id=\"T_b8d86607_92c7_11ea_968c_10bf483492darow0_col2\" class=\"data row0 col2\" >11</td>\n",
       "                        <td id=\"T_b8d86607_92c7_11ea_968c_10bf483492darow0_col3\" class=\"data row0 col3\" >11</td>\n",
       "                        <td id=\"T_b8d86607_92c7_11ea_968c_10bf483492darow0_col4\" class=\"data row0 col4\" >10</td>\n",
       "                        <td id=\"T_b8d86607_92c7_11ea_968c_10bf483492darow0_col5\" class=\"data row0 col5\" >14</td>\n",
       "                        <td id=\"T_b8d86607_92c7_11ea_968c_10bf483492darow0_col6\" class=\"data row0 col6\" >11</td>\n",
       "                        <td id=\"T_b8d86607_92c7_11ea_968c_10bf483492darow0_col7\" class=\"data row0 col7\" >12</td>\n",
       "                        <td id=\"T_b8d86607_92c7_11ea_968c_10bf483492darow0_col8\" class=\"data row0 col8\" >13</td>\n",
       "                        <td id=\"T_b8d86607_92c7_11ea_968c_10bf483492darow0_col9\" class=\"data row0 col9\" >18</td>\n",
       "                        <td id=\"T_b8d86607_92c7_11ea_968c_10bf483492darow0_col10\" class=\"data row0 col10\" >18</td>\n",
       "                        <td id=\"T_b8d86607_92c7_11ea_968c_10bf483492darow0_col11\" class=\"data row0 col11\" >11</td>\n",
       "                        <td id=\"T_b8d86607_92c7_11ea_968c_10bf483492darow0_col12\" class=\"data row0 col12\" >13</td>\n",
       "                        <td id=\"T_b8d86607_92c7_11ea_968c_10bf483492darow0_col13\" class=\"data row0 col13\" >16</td>\n",
       "                        <td id=\"T_b8d86607_92c7_11ea_968c_10bf483492darow0_col14\" class=\"data row0 col14\" >158</td>\n",
       "            </tr>\n",
       "            <tr>\n",
       "                                <td id=\"T_b8d86607_92c7_11ea_968c_10bf483492darow1_col0\" class=\"data row1 col0\" >Oliver Kragl</td>\n",
       "                        <td id=\"T_b8d86607_92c7_11ea_968c_10bf483492darow1_col1\" class=\"data row1 col1\" >                  32</td>\n",
       "                        <td id=\"T_b8d86607_92c7_11ea_968c_10bf483492darow1_col2\" class=\"data row1 col2\" >16</td>\n",
       "                        <td id=\"T_b8d86607_92c7_11ea_968c_10bf483492darow1_col3\" class=\"data row1 col3\" >12</td>\n",
       "                        <td id=\"T_b8d86607_92c7_11ea_968c_10bf483492darow1_col4\" class=\"data row1 col4\" >11</td>\n",
       "                        <td id=\"T_b8d86607_92c7_11ea_968c_10bf483492darow1_col5\" class=\"data row1 col5\" >11</td>\n",
       "                        <td id=\"T_b8d86607_92c7_11ea_968c_10bf483492darow1_col6\" class=\"data row1 col6\" >13</td>\n",
       "                        <td id=\"T_b8d86607_92c7_11ea_968c_10bf483492darow1_col7\" class=\"data row1 col7\" >11</td>\n",
       "                        <td id=\"T_b8d86607_92c7_11ea_968c_10bf483492darow1_col8\" class=\"data row1 col8\" >13</td>\n",
       "                        <td id=\"T_b8d86607_92c7_11ea_968c_10bf483492darow1_col9\" class=\"data row1 col9\" >15</td>\n",
       "                        <td id=\"T_b8d86607_92c7_11ea_968c_10bf483492darow1_col10\" class=\"data row1 col10\" >15</td>\n",
       "                        <td id=\"T_b8d86607_92c7_11ea_968c_10bf483492darow1_col11\" class=\"data row1 col11\" >12</td>\n",
       "                        <td id=\"T_b8d86607_92c7_11ea_968c_10bf483492darow1_col12\" class=\"data row1 col12\" >11</td>\n",
       "                        <td id=\"T_b8d86607_92c7_11ea_968c_10bf483492darow1_col13\" class=\"data row1 col13\" >12</td>\n",
       "                        <td id=\"T_b8d86607_92c7_11ea_968c_10bf483492darow1_col14\" class=\"data row1 col14\" >152</td>\n",
       "            </tr>\n",
       "            <tr>\n",
       "                                <td id=\"T_b8d86607_92c7_11ea_968c_10bf483492darow2_col0\" class=\"data row2 col0\" >Mike Fitzner</td>\n",
       "                        <td id=\"T_b8d86607_92c7_11ea_968c_10bf483492darow2_col1\" class=\"data row2 col1\" >                  18</td>\n",
       "                        <td id=\"T_b8d86607_92c7_11ea_968c_10bf483492darow2_col2\" class=\"data row2 col2\" >10</td>\n",
       "                        <td id=\"T_b8d86607_92c7_11ea_968c_10bf483492darow2_col3\" class=\"data row2 col3\" >10</td>\n",
       "                        <td id=\"T_b8d86607_92c7_11ea_968c_10bf483492darow2_col4\" class=\"data row2 col4\" >12</td>\n",
       "                        <td id=\"T_b8d86607_92c7_11ea_968c_10bf483492darow2_col5\" class=\"data row2 col5\" >8</td>\n",
       "                        <td id=\"T_b8d86607_92c7_11ea_968c_10bf483492darow2_col6\" class=\"data row2 col6\" >14</td>\n",
       "                        <td id=\"T_b8d86607_92c7_11ea_968c_10bf483492darow2_col7\" class=\"data row2 col7\" >12</td>\n",
       "                        <td id=\"T_b8d86607_92c7_11ea_968c_10bf483492darow2_col8\" class=\"data row2 col8\" >13</td>\n",
       "                        <td id=\"T_b8d86607_92c7_11ea_968c_10bf483492darow2_col9\" class=\"data row2 col9\" >13</td>\n",
       "                        <td id=\"T_b8d86607_92c7_11ea_968c_10bf483492darow2_col10\" class=\"data row2 col10\" >14</td>\n",
       "                        <td id=\"T_b8d86607_92c7_11ea_968c_10bf483492darow2_col11\" class=\"data row2 col11\" >16</td>\n",
       "                        <td id=\"T_b8d86607_92c7_11ea_968c_10bf483492darow2_col12\" class=\"data row2 col12\" >15</td>\n",
       "                        <td id=\"T_b8d86607_92c7_11ea_968c_10bf483492darow2_col13\" class=\"data row2 col13\" >13</td>\n",
       "                        <td id=\"T_b8d86607_92c7_11ea_968c_10bf483492darow2_col14\" class=\"data row2 col14\" >150</td>\n",
       "            </tr>\n",
       "            <tr>\n",
       "                                <td id=\"T_b8d86607_92c7_11ea_968c_10bf483492darow3_col0\" class=\"data row3 col0\" >Efkan Bekiroglu</td>\n",
       "                        <td id=\"T_b8d86607_92c7_11ea_968c_10bf483492darow3_col1\" class=\"data row3 col1\" >                  27</td>\n",
       "                        <td id=\"T_b8d86607_92c7_11ea_968c_10bf483492darow3_col2\" class=\"data row3 col2\" >8</td>\n",
       "                        <td id=\"T_b8d86607_92c7_11ea_968c_10bf483492darow3_col3\" class=\"data row3 col3\" >12</td>\n",
       "                        <td id=\"T_b8d86607_92c7_11ea_968c_10bf483492darow3_col4\" class=\"data row3 col4\" >12</td>\n",
       "                        <td id=\"T_b8d86607_92c7_11ea_968c_10bf483492darow3_col5\" class=\"data row3 col5\" >14</td>\n",
       "                        <td id=\"T_b8d86607_92c7_11ea_968c_10bf483492darow3_col6\" class=\"data row3 col6\" >13</td>\n",
       "                        <td id=\"T_b8d86607_92c7_11ea_968c_10bf483492darow3_col7\" class=\"data row3 col7\" >12</td>\n",
       "                        <td id=\"T_b8d86607_92c7_11ea_968c_10bf483492darow3_col8\" class=\"data row3 col8\" >12</td>\n",
       "                        <td id=\"T_b8d86607_92c7_11ea_968c_10bf483492darow3_col9\" class=\"data row3 col9\" >14</td>\n",
       "                        <td id=\"T_b8d86607_92c7_11ea_968c_10bf483492darow3_col10\" class=\"data row3 col10\" >15</td>\n",
       "                        <td id=\"T_b8d86607_92c7_11ea_968c_10bf483492darow3_col11\" class=\"data row3 col11\" >12</td>\n",
       "                        <td id=\"T_b8d86607_92c7_11ea_968c_10bf483492darow3_col12\" class=\"data row3 col12\" >11</td>\n",
       "                        <td id=\"T_b8d86607_92c7_11ea_968c_10bf483492darow3_col13\" class=\"data row3 col13\" >15</td>\n",
       "                        <td id=\"T_b8d86607_92c7_11ea_968c_10bf483492darow3_col14\" class=\"data row3 col14\" >150</td>\n",
       "            </tr>\n",
       "            <tr>\n",
       "                                <td id=\"T_b8d86607_92c7_11ea_968c_10bf483492darow4_col0\" class=\"data row4 col0\" >Marvin Jung</td>\n",
       "                        <td id=\"T_b8d86607_92c7_11ea_968c_10bf483492darow4_col1\" class=\"data row4 col1\" >                  21</td>\n",
       "                        <td id=\"T_b8d86607_92c7_11ea_968c_10bf483492darow4_col2\" class=\"data row4 col2\" >13</td>\n",
       "                        <td id=\"T_b8d86607_92c7_11ea_968c_10bf483492darow4_col3\" class=\"data row4 col3\" >11</td>\n",
       "                        <td id=\"T_b8d86607_92c7_11ea_968c_10bf483492darow4_col4\" class=\"data row4 col4\" >12</td>\n",
       "                        <td id=\"T_b8d86607_92c7_11ea_968c_10bf483492darow4_col5\" class=\"data row4 col5\" >13</td>\n",
       "                        <td id=\"T_b8d86607_92c7_11ea_968c_10bf483492darow4_col6\" class=\"data row4 col6\" >9</td>\n",
       "                        <td id=\"T_b8d86607_92c7_11ea_968c_10bf483492darow4_col7\" class=\"data row4 col7\" >12</td>\n",
       "                        <td id=\"T_b8d86607_92c7_11ea_968c_10bf483492darow4_col8\" class=\"data row4 col8\" >12</td>\n",
       "                        <td id=\"T_b8d86607_92c7_11ea_968c_10bf483492darow4_col9\" class=\"data row4 col9\" >9</td>\n",
       "                        <td id=\"T_b8d86607_92c7_11ea_968c_10bf483492darow4_col10\" class=\"data row4 col10\" >11</td>\n",
       "                        <td id=\"T_b8d86607_92c7_11ea_968c_10bf483492darow4_col11\" class=\"data row4 col11\" >16</td>\n",
       "                        <td id=\"T_b8d86607_92c7_11ea_968c_10bf483492darow4_col12\" class=\"data row4 col12\" >16</td>\n",
       "                        <td id=\"T_b8d86607_92c7_11ea_968c_10bf483492darow4_col13\" class=\"data row4 col13\" >12</td>\n",
       "                        <td id=\"T_b8d86607_92c7_11ea_968c_10bf483492darow4_col14\" class=\"data row4 col14\" >146</td>\n",
       "            </tr>\n",
       "            <tr>\n",
       "                                <td id=\"T_b8d86607_92c7_11ea_968c_10bf483492darow5_col0\" class=\"data row5 col0\" >Shawn Hery</td>\n",
       "                        <td id=\"T_b8d86607_92c7_11ea_968c_10bf483492darow5_col1\" class=\"data row5 col1\" >                  21</td>\n",
       "                        <td id=\"T_b8d86607_92c7_11ea_968c_10bf483492darow5_col2\" class=\"data row5 col2\" >8</td>\n",
       "                        <td id=\"T_b8d86607_92c7_11ea_968c_10bf483492darow5_col3\" class=\"data row5 col3\" >15</td>\n",
       "                        <td id=\"T_b8d86607_92c7_11ea_968c_10bf483492darow5_col4\" class=\"data row5 col4\" >14</td>\n",
       "                        <td id=\"T_b8d86607_92c7_11ea_968c_10bf483492darow5_col5\" class=\"data row5 col5\" >7</td>\n",
       "                        <td id=\"T_b8d86607_92c7_11ea_968c_10bf483492darow5_col6\" class=\"data row5 col6\" >15</td>\n",
       "                        <td id=\"T_b8d86607_92c7_11ea_968c_10bf483492darow5_col7\" class=\"data row5 col7\" >11</td>\n",
       "                        <td id=\"T_b8d86607_92c7_11ea_968c_10bf483492darow5_col8\" class=\"data row5 col8\" >15</td>\n",
       "                        <td id=\"T_b8d86607_92c7_11ea_968c_10bf483492darow5_col9\" class=\"data row5 col9\" >8</td>\n",
       "                        <td id=\"T_b8d86607_92c7_11ea_968c_10bf483492darow5_col10\" class=\"data row5 col10\" >11</td>\n",
       "                        <td id=\"T_b8d86607_92c7_11ea_968c_10bf483492darow5_col11\" class=\"data row5 col11\" >16</td>\n",
       "                        <td id=\"T_b8d86607_92c7_11ea_968c_10bf483492darow5_col12\" class=\"data row5 col12\" >16</td>\n",
       "                        <td id=\"T_b8d86607_92c7_11ea_968c_10bf483492darow5_col13\" class=\"data row5 col13\" >9</td>\n",
       "                        <td id=\"T_b8d86607_92c7_11ea_968c_10bf483492darow5_col14\" class=\"data row5 col14\" >145</td>\n",
       "            </tr>\n",
       "            <tr>\n",
       "                                <td id=\"T_b8d86607_92c7_11ea_968c_10bf483492darow6_col0\" class=\"data row6 col0\" >Leon Klassen</td>\n",
       "                        <td id=\"T_b8d86607_92c7_11ea_968c_10bf483492darow6_col1\" class=\"data row6 col1\" >                  22</td>\n",
       "                        <td id=\"T_b8d86607_92c7_11ea_968c_10bf483492darow6_col2\" class=\"data row6 col2\" >9</td>\n",
       "                        <td id=\"T_b8d86607_92c7_11ea_968c_10bf483492darow6_col3\" class=\"data row6 col3\" >11</td>\n",
       "                        <td id=\"T_b8d86607_92c7_11ea_968c_10bf483492darow6_col4\" class=\"data row6 col4\" >12</td>\n",
       "                        <td id=\"T_b8d86607_92c7_11ea_968c_10bf483492darow6_col5\" class=\"data row6 col5\" >9</td>\n",
       "                        <td id=\"T_b8d86607_92c7_11ea_968c_10bf483492darow6_col6\" class=\"data row6 col6\" >13</td>\n",
       "                        <td id=\"T_b8d86607_92c7_11ea_968c_10bf483492darow6_col7\" class=\"data row6 col7\" >10</td>\n",
       "                        <td id=\"T_b8d86607_92c7_11ea_968c_10bf483492darow6_col8\" class=\"data row6 col8\" >13</td>\n",
       "                        <td id=\"T_b8d86607_92c7_11ea_968c_10bf483492darow6_col9\" class=\"data row6 col9\" >14</td>\n",
       "                        <td id=\"T_b8d86607_92c7_11ea_968c_10bf483492darow6_col10\" class=\"data row6 col10\" >14</td>\n",
       "                        <td id=\"T_b8d86607_92c7_11ea_968c_10bf483492darow6_col11\" class=\"data row6 col11\" >15</td>\n",
       "                        <td id=\"T_b8d86607_92c7_11ea_968c_10bf483492darow6_col12\" class=\"data row6 col12\" >13</td>\n",
       "                        <td id=\"T_b8d86607_92c7_11ea_968c_10bf483492darow6_col13\" class=\"data row6 col13\" >12</td>\n",
       "                        <td id=\"T_b8d86607_92c7_11ea_968c_10bf483492darow6_col14\" class=\"data row6 col14\" >145</td>\n",
       "            </tr>\n",
       "            <tr>\n",
       "                                <td id=\"T_b8d86607_92c7_11ea_968c_10bf483492darow7_col0\" class=\"data row7 col0\" >David Hyam</td>\n",
       "                        <td id=\"T_b8d86607_92c7_11ea_968c_10bf483492darow7_col1\" class=\"data row7 col1\" >                  17</td>\n",
       "                        <td id=\"T_b8d86607_92c7_11ea_968c_10bf483492darow7_col2\" class=\"data row7 col2\" >7</td>\n",
       "                        <td id=\"T_b8d86607_92c7_11ea_968c_10bf483492darow7_col3\" class=\"data row7 col3\" >13</td>\n",
       "                        <td id=\"T_b8d86607_92c7_11ea_968c_10bf483492darow7_col4\" class=\"data row7 col4\" >13</td>\n",
       "                        <td id=\"T_b8d86607_92c7_11ea_968c_10bf483492darow7_col5\" class=\"data row7 col5\" >13</td>\n",
       "                        <td id=\"T_b8d86607_92c7_11ea_968c_10bf483492darow7_col6\" class=\"data row7 col6\" >13</td>\n",
       "                        <td id=\"T_b8d86607_92c7_11ea_968c_10bf483492darow7_col7\" class=\"data row7 col7\" >6</td>\n",
       "                        <td id=\"T_b8d86607_92c7_11ea_968c_10bf483492darow7_col8\" class=\"data row7 col8\" >10</td>\n",
       "                        <td id=\"T_b8d86607_92c7_11ea_968c_10bf483492darow7_col9\" class=\"data row7 col9\" >15</td>\n",
       "                        <td id=\"T_b8d86607_92c7_11ea_968c_10bf483492darow7_col10\" class=\"data row7 col10\" >16</td>\n",
       "                        <td id=\"T_b8d86607_92c7_11ea_968c_10bf483492darow7_col11\" class=\"data row7 col11\" >12</td>\n",
       "                        <td id=\"T_b8d86607_92c7_11ea_968c_10bf483492darow7_col12\" class=\"data row7 col12\" >14</td>\n",
       "                        <td id=\"T_b8d86607_92c7_11ea_968c_10bf483492darow7_col13\" class=\"data row7 col13\" >13</td>\n",
       "                        <td id=\"T_b8d86607_92c7_11ea_968c_10bf483492darow7_col14\" class=\"data row7 col14\" >145</td>\n",
       "            </tr>\n",
       "            <tr>\n",
       "                                <td id=\"T_b8d86607_92c7_11ea_968c_10bf483492darow8_col0\" class=\"data row8 col0\" >Mert GÃ¶ckan</td>\n",
       "                        <td id=\"T_b8d86607_92c7_11ea_968c_10bf483492darow8_col1\" class=\"data row8 col1\" >                  21</td>\n",
       "                        <td id=\"T_b8d86607_92c7_11ea_968c_10bf483492darow8_col2\" class=\"data row8 col2\" >16</td>\n",
       "                        <td id=\"T_b8d86607_92c7_11ea_968c_10bf483492darow8_col3\" class=\"data row8 col3\" >10</td>\n",
       "                        <td id=\"T_b8d86607_92c7_11ea_968c_10bf483492darow8_col4\" class=\"data row8 col4\" >10</td>\n",
       "                        <td id=\"T_b8d86607_92c7_11ea_968c_10bf483492darow8_col5\" class=\"data row8 col5\" >11</td>\n",
       "                        <td id=\"T_b8d86607_92c7_11ea_968c_10bf483492darow8_col6\" class=\"data row8 col6\" >11</td>\n",
       "                        <td id=\"T_b8d86607_92c7_11ea_968c_10bf483492darow8_col7\" class=\"data row8 col7\" >13</td>\n",
       "                        <td id=\"T_b8d86607_92c7_11ea_968c_10bf483492darow8_col8\" class=\"data row8 col8\" >11</td>\n",
       "                        <td id=\"T_b8d86607_92c7_11ea_968c_10bf483492darow8_col9\" class=\"data row8 col9\" >11</td>\n",
       "                        <td id=\"T_b8d86607_92c7_11ea_968c_10bf483492darow8_col10\" class=\"data row8 col10\" >11</td>\n",
       "                        <td id=\"T_b8d86607_92c7_11ea_968c_10bf483492darow8_col11\" class=\"data row8 col11\" >15</td>\n",
       "                        <td id=\"T_b8d86607_92c7_11ea_968c_10bf483492darow8_col12\" class=\"data row8 col12\" >13</td>\n",
       "                        <td id=\"T_b8d86607_92c7_11ea_968c_10bf483492darow8_col13\" class=\"data row8 col13\" >12</td>\n",
       "                        <td id=\"T_b8d86607_92c7_11ea_968c_10bf483492darow8_col14\" class=\"data row8 col14\" >144</td>\n",
       "            </tr>\n",
       "            <tr>\n",
       "                                <td id=\"T_b8d86607_92c7_11ea_968c_10bf483492darow9_col0\" class=\"data row9 col0\" >Lucas Deaux</td>\n",
       "                        <td id=\"T_b8d86607_92c7_11ea_968c_10bf483492darow9_col1\" class=\"data row9 col1\" >                  33</td>\n",
       "                        <td id=\"T_b8d86607_92c7_11ea_968c_10bf483492darow9_col2\" class=\"data row9 col2\" >7</td>\n",
       "                        <td id=\"T_b8d86607_92c7_11ea_968c_10bf483492darow9_col3\" class=\"data row9 col3\" >7</td>\n",
       "                        <td id=\"T_b8d86607_92c7_11ea_968c_10bf483492darow9_col4\" class=\"data row9 col4\" >13</td>\n",
       "                        <td id=\"T_b8d86607_92c7_11ea_968c_10bf483492darow9_col5\" class=\"data row9 col5\" >13</td>\n",
       "                        <td id=\"T_b8d86607_92c7_11ea_968c_10bf483492darow9_col6\" class=\"data row9 col6\" >13</td>\n",
       "                        <td id=\"T_b8d86607_92c7_11ea_968c_10bf483492darow9_col7\" class=\"data row9 col7\" >14</td>\n",
       "                        <td id=\"T_b8d86607_92c7_11ea_968c_10bf483492darow9_col8\" class=\"data row9 col8\" >12</td>\n",
       "                        <td id=\"T_b8d86607_92c7_11ea_968c_10bf483492darow9_col9\" class=\"data row9 col9\" >15</td>\n",
       "                        <td id=\"T_b8d86607_92c7_11ea_968c_10bf483492darow9_col10\" class=\"data row9 col10\" >16</td>\n",
       "                        <td id=\"T_b8d86607_92c7_11ea_968c_10bf483492darow9_col11\" class=\"data row9 col11\" >11</td>\n",
       "                        <td id=\"T_b8d86607_92c7_11ea_968c_10bf483492darow9_col12\" class=\"data row9 col12\" >12</td>\n",
       "                        <td id=\"T_b8d86607_92c7_11ea_968c_10bf483492darow9_col13\" class=\"data row9 col13\" >11</td>\n",
       "                        <td id=\"T_b8d86607_92c7_11ea_968c_10bf483492darow9_col14\" class=\"data row9 col14\" >144</td>\n",
       "            </tr>\n",
       "    </tbody></table>"
      ],
      "text/plain": [
       "<pandas.io.formats.style.Styler at 0xc81a5f8>"
      ]
     },
     "execution_count": 30,
     "metadata": {},
     "output_type": "execute_result"
    }
   ],
   "source": [
    "# Complete Wing Back - Support\n",
    "\n",
    "print(\"Complete Wing Back - Support\")\n",
    "sorted_cwb = cwb.sort_values(by='cwb_score', ascending=False)\n",
    "sorted_cwb.head(10).style.format({\"Age\": \"{:20,.0f}\", \n",
    "                          })\\\n",
    "                        .hide_index()\\\n",
    "                        .background_gradient(cmap='Blues')"
   ]
  },
  {
   "cell_type": "code",
   "execution_count": 31,
   "metadata": {},
   "outputs": [
    {
     "data": {
      "application/vnd.plotly.v1+json": {
       "config": {
        "plotlyServerURL": "https://plot.ly"
       },
       "data": [
        {
         "hovertemplate": "K Ps/90=%{x}<br>Cr C/A=%{y}<br>Name=%{text}<extra></extra>",
         "legendgroup": "",
         "marker": {
          "color": "#636efa",
          "symbol": "circle"
         },
         "mode": "markers+text",
         "name": "",
         "showlegend": false,
         "text": [
          "Luca Unbehaun",
          "Mert GÃ¶ckan",
          "Leon Vogel",
          "Sven Bender",
          "Efkan Bekiroglu",
          "Oliver Kragl",
          "Mike Fitzner",
          "Lucas Deaux",
          "Gary Medel",
          "Julian Schwermann",
          "Franck Evina",
          "Marco Hiller",
          "Noel Niemann",
          "Abdoulaye Niang",
          "Marvin Jung",
          "Gabriel Isik",
          "Shawn Hery",
          "Leon Klassen",
          "Fabian Greilinger",
          "Petr Dvorak",
          "Marko Basic",
          "Peter KÃ¶ster",
          "Rene Strehmel",
          "Sefer AygÃ¼n",
          "Ben SchÃ¤fer",
          "Andreas Ahlm",
          "Pawel Majewski",
          "Felix Abeln",
          "Sebastian Drichel",
          "David Hyam",
          "JosÃ© Batista",
          "Tobias Paula",
          "Fabian Feldhaus",
          "Martin MÃ¸rk",
          "Mahmut KoÃ§",
          "Markus Bahr",
          "Michael Benecke",
          "Peter Eze",
          "Christoph Sailer",
          "Tobias Riegger-Zingerle",
          "Daniel Haller",
          "NÃ©lson Ferreira"
         ],
         "textposition": "top center",
         "type": "scatter",
         "x": [
          "-",
          "0.45",
          "-",
          "0.35",
          "2.12",
          "0.77",
          "1.62",
          "2.16",
          "1.70",
          "1.41",
          "0.53",
          "-",
          "0.51",
          "1.46",
          "0.57",
          "0.06",
          "0.86",
          "0.62",
          "0.85",
          "-",
          "-",
          "-",
          "-",
          "1.41",
          "-",
          "-",
          "0.20",
          "-",
          "-",
          "-",
          "-",
          "-",
          "-",
          "-",
          "-",
          "-",
          "-",
          "-",
          "-",
          "-",
          "-",
          "-"
         ],
         "xaxis": "x",
         "y": [
          "0%",
          "15%",
          "-",
          "0%",
          "20%",
          "16%",
          "18%",
          "33%",
          "33%",
          "33%",
          "46%",
          "0%",
          "17%",
          "25%",
          "14%",
          "0%",
          "18%",
          "17%",
          "19%",
          "-",
          "-",
          "0%",
          "-",
          "23%",
          "-",
          "-",
          "0%",
          "-",
          "0%",
          "-",
          "-",
          "-",
          "-",
          "-",
          "-",
          "-",
          "-",
          "-",
          "-",
          "-",
          "-",
          "-"
         ],
         "yaxis": "y"
        }
       ],
       "layout": {
        "height": 500,
        "legend": {
         "tracegroupgap": 0
        },
        "margin": {
         "t": 60
        },
        "template": {
         "data": {
          "bar": [
           {
            "error_x": {
             "color": "#f2f5fa"
            },
            "error_y": {
             "color": "#f2f5fa"
            },
            "marker": {
             "line": {
              "color": "rgb(17,17,17)",
              "width": 0.5
             }
            },
            "type": "bar"
           }
          ],
          "barpolar": [
           {
            "marker": {
             "line": {
              "color": "rgb(17,17,17)",
              "width": 0.5
             }
            },
            "type": "barpolar"
           }
          ],
          "carpet": [
           {
            "aaxis": {
             "endlinecolor": "#A2B1C6",
             "gridcolor": "#506784",
             "linecolor": "#506784",
             "minorgridcolor": "#506784",
             "startlinecolor": "#A2B1C6"
            },
            "baxis": {
             "endlinecolor": "#A2B1C6",
             "gridcolor": "#506784",
             "linecolor": "#506784",
             "minorgridcolor": "#506784",
             "startlinecolor": "#A2B1C6"
            },
            "type": "carpet"
           }
          ],
          "choropleth": [
           {
            "colorbar": {
             "outlinewidth": 0,
             "ticks": ""
            },
            "type": "choropleth"
           }
          ],
          "contour": [
           {
            "colorbar": {
             "outlinewidth": 0,
             "ticks": ""
            },
            "colorscale": [
             [
              0,
              "#0d0887"
             ],
             [
              0.1111111111111111,
              "#46039f"
             ],
             [
              0.2222222222222222,
              "#7201a8"
             ],
             [
              0.3333333333333333,
              "#9c179e"
             ],
             [
              0.4444444444444444,
              "#bd3786"
             ],
             [
              0.5555555555555556,
              "#d8576b"
             ],
             [
              0.6666666666666666,
              "#ed7953"
             ],
             [
              0.7777777777777778,
              "#fb9f3a"
             ],
             [
              0.8888888888888888,
              "#fdca26"
             ],
             [
              1,
              "#f0f921"
             ]
            ],
            "type": "contour"
           }
          ],
          "contourcarpet": [
           {
            "colorbar": {
             "outlinewidth": 0,
             "ticks": ""
            },
            "type": "contourcarpet"
           }
          ],
          "heatmap": [
           {
            "colorbar": {
             "outlinewidth": 0,
             "ticks": ""
            },
            "colorscale": [
             [
              0,
              "#0d0887"
             ],
             [
              0.1111111111111111,
              "#46039f"
             ],
             [
              0.2222222222222222,
              "#7201a8"
             ],
             [
              0.3333333333333333,
              "#9c179e"
             ],
             [
              0.4444444444444444,
              "#bd3786"
             ],
             [
              0.5555555555555556,
              "#d8576b"
             ],
             [
              0.6666666666666666,
              "#ed7953"
             ],
             [
              0.7777777777777778,
              "#fb9f3a"
             ],
             [
              0.8888888888888888,
              "#fdca26"
             ],
             [
              1,
              "#f0f921"
             ]
            ],
            "type": "heatmap"
           }
          ],
          "heatmapgl": [
           {
            "colorbar": {
             "outlinewidth": 0,
             "ticks": ""
            },
            "colorscale": [
             [
              0,
              "#0d0887"
             ],
             [
              0.1111111111111111,
              "#46039f"
             ],
             [
              0.2222222222222222,
              "#7201a8"
             ],
             [
              0.3333333333333333,
              "#9c179e"
             ],
             [
              0.4444444444444444,
              "#bd3786"
             ],
             [
              0.5555555555555556,
              "#d8576b"
             ],
             [
              0.6666666666666666,
              "#ed7953"
             ],
             [
              0.7777777777777778,
              "#fb9f3a"
             ],
             [
              0.8888888888888888,
              "#fdca26"
             ],
             [
              1,
              "#f0f921"
             ]
            ],
            "type": "heatmapgl"
           }
          ],
          "histogram": [
           {
            "marker": {
             "colorbar": {
              "outlinewidth": 0,
              "ticks": ""
             }
            },
            "type": "histogram"
           }
          ],
          "histogram2d": [
           {
            "colorbar": {
             "outlinewidth": 0,
             "ticks": ""
            },
            "colorscale": [
             [
              0,
              "#0d0887"
             ],
             [
              0.1111111111111111,
              "#46039f"
             ],
             [
              0.2222222222222222,
              "#7201a8"
             ],
             [
              0.3333333333333333,
              "#9c179e"
             ],
             [
              0.4444444444444444,
              "#bd3786"
             ],
             [
              0.5555555555555556,
              "#d8576b"
             ],
             [
              0.6666666666666666,
              "#ed7953"
             ],
             [
              0.7777777777777778,
              "#fb9f3a"
             ],
             [
              0.8888888888888888,
              "#fdca26"
             ],
             [
              1,
              "#f0f921"
             ]
            ],
            "type": "histogram2d"
           }
          ],
          "histogram2dcontour": [
           {
            "colorbar": {
             "outlinewidth": 0,
             "ticks": ""
            },
            "colorscale": [
             [
              0,
              "#0d0887"
             ],
             [
              0.1111111111111111,
              "#46039f"
             ],
             [
              0.2222222222222222,
              "#7201a8"
             ],
             [
              0.3333333333333333,
              "#9c179e"
             ],
             [
              0.4444444444444444,
              "#bd3786"
             ],
             [
              0.5555555555555556,
              "#d8576b"
             ],
             [
              0.6666666666666666,
              "#ed7953"
             ],
             [
              0.7777777777777778,
              "#fb9f3a"
             ],
             [
              0.8888888888888888,
              "#fdca26"
             ],
             [
              1,
              "#f0f921"
             ]
            ],
            "type": "histogram2dcontour"
           }
          ],
          "mesh3d": [
           {
            "colorbar": {
             "outlinewidth": 0,
             "ticks": ""
            },
            "type": "mesh3d"
           }
          ],
          "parcoords": [
           {
            "line": {
             "colorbar": {
              "outlinewidth": 0,
              "ticks": ""
             }
            },
            "type": "parcoords"
           }
          ],
          "pie": [
           {
            "automargin": true,
            "type": "pie"
           }
          ],
          "scatter": [
           {
            "marker": {
             "line": {
              "color": "#283442"
             }
            },
            "type": "scatter"
           }
          ],
          "scatter3d": [
           {
            "line": {
             "colorbar": {
              "outlinewidth": 0,
              "ticks": ""
             }
            },
            "marker": {
             "colorbar": {
              "outlinewidth": 0,
              "ticks": ""
             }
            },
            "type": "scatter3d"
           }
          ],
          "scattercarpet": [
           {
            "marker": {
             "colorbar": {
              "outlinewidth": 0,
              "ticks": ""
             }
            },
            "type": "scattercarpet"
           }
          ],
          "scattergeo": [
           {
            "marker": {
             "colorbar": {
              "outlinewidth": 0,
              "ticks": ""
             }
            },
            "type": "scattergeo"
           }
          ],
          "scattergl": [
           {
            "marker": {
             "line": {
              "color": "#283442"
             }
            },
            "type": "scattergl"
           }
          ],
          "scattermapbox": [
           {
            "marker": {
             "colorbar": {
              "outlinewidth": 0,
              "ticks": ""
             }
            },
            "type": "scattermapbox"
           }
          ],
          "scatterpolar": [
           {
            "marker": {
             "colorbar": {
              "outlinewidth": 0,
              "ticks": ""
             }
            },
            "type": "scatterpolar"
           }
          ],
          "scatterpolargl": [
           {
            "marker": {
             "colorbar": {
              "outlinewidth": 0,
              "ticks": ""
             }
            },
            "type": "scatterpolargl"
           }
          ],
          "scatterternary": [
           {
            "marker": {
             "colorbar": {
              "outlinewidth": 0,
              "ticks": ""
             }
            },
            "type": "scatterternary"
           }
          ],
          "surface": [
           {
            "colorbar": {
             "outlinewidth": 0,
             "ticks": ""
            },
            "colorscale": [
             [
              0,
              "#0d0887"
             ],
             [
              0.1111111111111111,
              "#46039f"
             ],
             [
              0.2222222222222222,
              "#7201a8"
             ],
             [
              0.3333333333333333,
              "#9c179e"
             ],
             [
              0.4444444444444444,
              "#bd3786"
             ],
             [
              0.5555555555555556,
              "#d8576b"
             ],
             [
              0.6666666666666666,
              "#ed7953"
             ],
             [
              0.7777777777777778,
              "#fb9f3a"
             ],
             [
              0.8888888888888888,
              "#fdca26"
             ],
             [
              1,
              "#f0f921"
             ]
            ],
            "type": "surface"
           }
          ],
          "table": [
           {
            "cells": {
             "fill": {
              "color": "#506784"
             },
             "line": {
              "color": "rgb(17,17,17)"
             }
            },
            "header": {
             "fill": {
              "color": "#2a3f5f"
             },
             "line": {
              "color": "rgb(17,17,17)"
             }
            },
            "type": "table"
           }
          ]
         },
         "layout": {
          "annotationdefaults": {
           "arrowcolor": "#f2f5fa",
           "arrowhead": 0,
           "arrowwidth": 1
          },
          "coloraxis": {
           "colorbar": {
            "outlinewidth": 0,
            "ticks": ""
           }
          },
          "colorscale": {
           "diverging": [
            [
             0,
             "#8e0152"
            ],
            [
             0.1,
             "#c51b7d"
            ],
            [
             0.2,
             "#de77ae"
            ],
            [
             0.3,
             "#f1b6da"
            ],
            [
             0.4,
             "#fde0ef"
            ],
            [
             0.5,
             "#f7f7f7"
            ],
            [
             0.6,
             "#e6f5d0"
            ],
            [
             0.7,
             "#b8e186"
            ],
            [
             0.8,
             "#7fbc41"
            ],
            [
             0.9,
             "#4d9221"
            ],
            [
             1,
             "#276419"
            ]
           ],
           "sequential": [
            [
             0,
             "#0d0887"
            ],
            [
             0.1111111111111111,
             "#46039f"
            ],
            [
             0.2222222222222222,
             "#7201a8"
            ],
            [
             0.3333333333333333,
             "#9c179e"
            ],
            [
             0.4444444444444444,
             "#bd3786"
            ],
            [
             0.5555555555555556,
             "#d8576b"
            ],
            [
             0.6666666666666666,
             "#ed7953"
            ],
            [
             0.7777777777777778,
             "#fb9f3a"
            ],
            [
             0.8888888888888888,
             "#fdca26"
            ],
            [
             1,
             "#f0f921"
            ]
           ],
           "sequentialminus": [
            [
             0,
             "#0d0887"
            ],
            [
             0.1111111111111111,
             "#46039f"
            ],
            [
             0.2222222222222222,
             "#7201a8"
            ],
            [
             0.3333333333333333,
             "#9c179e"
            ],
            [
             0.4444444444444444,
             "#bd3786"
            ],
            [
             0.5555555555555556,
             "#d8576b"
            ],
            [
             0.6666666666666666,
             "#ed7953"
            ],
            [
             0.7777777777777778,
             "#fb9f3a"
            ],
            [
             0.8888888888888888,
             "#fdca26"
            ],
            [
             1,
             "#f0f921"
            ]
           ]
          },
          "colorway": [
           "#636efa",
           "#EF553B",
           "#00cc96",
           "#ab63fa",
           "#FFA15A",
           "#19d3f3",
           "#FF6692",
           "#B6E880",
           "#FF97FF",
           "#FECB52"
          ],
          "font": {
           "color": "#f2f5fa"
          },
          "geo": {
           "bgcolor": "rgb(17,17,17)",
           "lakecolor": "rgb(17,17,17)",
           "landcolor": "rgb(17,17,17)",
           "showlakes": true,
           "showland": true,
           "subunitcolor": "#506784"
          },
          "hoverlabel": {
           "align": "left"
          },
          "hovermode": "closest",
          "mapbox": {
           "style": "dark"
          },
          "paper_bgcolor": "rgb(17,17,17)",
          "plot_bgcolor": "rgb(17,17,17)",
          "polar": {
           "angularaxis": {
            "gridcolor": "#506784",
            "linecolor": "#506784",
            "ticks": ""
           },
           "bgcolor": "rgb(17,17,17)",
           "radialaxis": {
            "gridcolor": "#506784",
            "linecolor": "#506784",
            "ticks": ""
           }
          },
          "scene": {
           "xaxis": {
            "backgroundcolor": "rgb(17,17,17)",
            "gridcolor": "#506784",
            "gridwidth": 2,
            "linecolor": "#506784",
            "showbackground": true,
            "ticks": "",
            "zerolinecolor": "#C8D4E3"
           },
           "yaxis": {
            "backgroundcolor": "rgb(17,17,17)",
            "gridcolor": "#506784",
            "gridwidth": 2,
            "linecolor": "#506784",
            "showbackground": true,
            "ticks": "",
            "zerolinecolor": "#C8D4E3"
           },
           "zaxis": {
            "backgroundcolor": "rgb(17,17,17)",
            "gridcolor": "#506784",
            "gridwidth": 2,
            "linecolor": "#506784",
            "showbackground": true,
            "ticks": "",
            "zerolinecolor": "#C8D4E3"
           }
          },
          "shapedefaults": {
           "line": {
            "color": "#f2f5fa"
           }
          },
          "sliderdefaults": {
           "bgcolor": "#C8D4E3",
           "bordercolor": "rgb(17,17,17)",
           "borderwidth": 1,
           "tickwidth": 0
          },
          "ternary": {
           "aaxis": {
            "gridcolor": "#506784",
            "linecolor": "#506784",
            "ticks": ""
           },
           "baxis": {
            "gridcolor": "#506784",
            "linecolor": "#506784",
            "ticks": ""
           },
           "bgcolor": "rgb(17,17,17)",
           "caxis": {
            "gridcolor": "#506784",
            "linecolor": "#506784",
            "ticks": ""
           }
          },
          "title": {
           "x": 0.05
          },
          "updatemenudefaults": {
           "bgcolor": "#506784",
           "borderwidth": 0
          },
          "xaxis": {
           "automargin": true,
           "gridcolor": "#283442",
           "linecolor": "#506784",
           "ticks": "",
           "title": {
            "standoff": 15
           },
           "zerolinecolor": "#283442",
           "zerolinewidth": 2
          },
          "yaxis": {
           "automargin": true,
           "gridcolor": "#283442",
           "linecolor": "#506784",
           "ticks": "",
           "title": {
            "standoff": 15
           },
           "zerolinecolor": "#283442",
           "zerolinewidth": 2
          }
         }
        },
        "title": {
         "text": "Complete Wing Back - Support"
        },
        "xaxis": {
         "anchor": "y",
         "domain": [
          0,
          1
         ],
         "title": {
          "text": "K Ps/90"
         }
        },
        "yaxis": {
         "anchor": "x",
         "domain": [
          0,
          1
         ],
         "title": {
          "text": "Cr C/A"
         }
        }
       }
      },
      "text/html": [
       "<div>\n",
       "        \n",
       "        \n",
       "            <div id=\"e18e887d-7760-4435-9ffc-dd864426c6da\" class=\"plotly-graph-div\" style=\"height:500px; width:100%;\"></div>\n",
       "            <script type=\"text/javascript\">\n",
       "                require([\"plotly\"], function(Plotly) {\n",
       "                    window.PLOTLYENV=window.PLOTLYENV || {};\n",
       "                    \n",
       "                if (document.getElementById(\"e18e887d-7760-4435-9ffc-dd864426c6da\")) {\n",
       "                    Plotly.newPlot(\n",
       "                        'e18e887d-7760-4435-9ffc-dd864426c6da',\n",
       "                        [{\"hovertemplate\": \"K Ps/90=%{x}<br>Cr C/A=%{y}<br>Name=%{text}<extra></extra>\", \"legendgroup\": \"\", \"marker\": {\"color\": \"#636efa\", \"symbol\": \"circle\"}, \"mode\": \"markers+text\", \"name\": \"\", \"showlegend\": false, \"text\": [\"Luca Unbehaun\", \"Mert G\\u00c3\\u00b6ckan\", \"Leon Vogel\", \"Sven Bender\", \"Efkan Bekiroglu\", \"Oliver Kragl\", \"Mike Fitzner\", \"Lucas Deaux\", \"Gary Medel\", \"Julian Schwermann\", \"Franck Evina\", \"Marco Hiller\", \"Noel Niemann\", \"Abdoulaye Niang\", \"Marvin Jung\", \"Gabriel Isik\", \"Shawn Hery\", \"Leon Klassen\", \"Fabian Greilinger\", \"Petr Dvorak\", \"Marko Basic\", \"Peter K\\u00c3\\u00b6ster\", \"Rene Strehmel\", \"Sefer Ayg\\u00c3\\u00bcn\", \"Ben Sch\\u00c3\\u00a4fer\", \"Andreas Ahlm\", \"Pawel Majewski\", \"Felix Abeln\", \"Sebastian Drichel\", \"David Hyam\", \"Jos\\u00c3\\u00a9 Batista\", \"Tobias Paula\", \"Fabian Feldhaus\", \"Martin M\\u00c3\\u00b8rk\", \"Mahmut Ko\\u00c3\\u00a7\", \"Markus Bahr\", \"Michael Benecke\", \"Peter Eze\", \"Christoph Sailer\", \"Tobias Riegger-Zingerle\", \"Daniel Haller\", \"N\\u00c3\\u00a9lson Ferreira\"], \"textposition\": \"top center\", \"type\": \"scatter\", \"x\": [\"-\", \"0.45\", \"-\", \"0.35\", \"2.12\", \"0.77\", \"1.62\", \"2.16\", \"1.70\", \"1.41\", \"0.53\", \"-\", \"0.51\", \"1.46\", \"0.57\", \"0.06\", \"0.86\", \"0.62\", \"0.85\", \"-\", \"-\", \"-\", \"-\", \"1.41\", \"-\", \"-\", \"0.20\", \"-\", \"-\", \"-\", \"-\", \"-\", \"-\", \"-\", \"-\", \"-\", \"-\", \"-\", \"-\", \"-\", \"-\", \"-\"], \"xaxis\": \"x\", \"y\": [\"0%\", \"15%\", \"-\", \"0%\", \"20%\", \"16%\", \"18%\", \"33%\", \"33%\", \"33%\", \"46%\", \"0%\", \"17%\", \"25%\", \"14%\", \"0%\", \"18%\", \"17%\", \"19%\", \"-\", \"-\", \"0%\", \"-\", \"23%\", \"-\", \"-\", \"0%\", \"-\", \"0%\", \"-\", \"-\", \"-\", \"-\", \"-\", \"-\", \"-\", \"-\", \"-\", \"-\", \"-\", \"-\", \"-\"], \"yaxis\": \"y\"}],\n",
       "                        {\"height\": 500, \"legend\": {\"tracegroupgap\": 0}, \"margin\": {\"t\": 60}, \"template\": {\"data\": {\"bar\": [{\"error_x\": {\"color\": \"#f2f5fa\"}, \"error_y\": {\"color\": \"#f2f5fa\"}, \"marker\": {\"line\": {\"color\": \"rgb(17,17,17)\", \"width\": 0.5}}, \"type\": \"bar\"}], \"barpolar\": [{\"marker\": {\"line\": {\"color\": \"rgb(17,17,17)\", \"width\": 0.5}}, \"type\": \"barpolar\"}], \"carpet\": [{\"aaxis\": {\"endlinecolor\": \"#A2B1C6\", \"gridcolor\": \"#506784\", \"linecolor\": \"#506784\", \"minorgridcolor\": \"#506784\", \"startlinecolor\": \"#A2B1C6\"}, \"baxis\": {\"endlinecolor\": \"#A2B1C6\", \"gridcolor\": \"#506784\", \"linecolor\": \"#506784\", \"minorgridcolor\": \"#506784\", \"startlinecolor\": \"#A2B1C6\"}, \"type\": \"carpet\"}], \"choropleth\": [{\"colorbar\": {\"outlinewidth\": 0, \"ticks\": \"\"}, \"type\": \"choropleth\"}], \"contour\": [{\"colorbar\": {\"outlinewidth\": 0, \"ticks\": \"\"}, \"colorscale\": [[0.0, \"#0d0887\"], [0.1111111111111111, \"#46039f\"], [0.2222222222222222, \"#7201a8\"], [0.3333333333333333, \"#9c179e\"], [0.4444444444444444, \"#bd3786\"], [0.5555555555555556, \"#d8576b\"], [0.6666666666666666, \"#ed7953\"], [0.7777777777777778, \"#fb9f3a\"], [0.8888888888888888, \"#fdca26\"], [1.0, \"#f0f921\"]], \"type\": \"contour\"}], \"contourcarpet\": [{\"colorbar\": {\"outlinewidth\": 0, \"ticks\": \"\"}, \"type\": \"contourcarpet\"}], \"heatmap\": [{\"colorbar\": {\"outlinewidth\": 0, \"ticks\": \"\"}, \"colorscale\": [[0.0, \"#0d0887\"], [0.1111111111111111, \"#46039f\"], [0.2222222222222222, \"#7201a8\"], [0.3333333333333333, \"#9c179e\"], [0.4444444444444444, \"#bd3786\"], [0.5555555555555556, \"#d8576b\"], [0.6666666666666666, \"#ed7953\"], [0.7777777777777778, \"#fb9f3a\"], [0.8888888888888888, \"#fdca26\"], [1.0, \"#f0f921\"]], \"type\": \"heatmap\"}], \"heatmapgl\": [{\"colorbar\": {\"outlinewidth\": 0, \"ticks\": \"\"}, \"colorscale\": [[0.0, \"#0d0887\"], [0.1111111111111111, \"#46039f\"], [0.2222222222222222, \"#7201a8\"], [0.3333333333333333, \"#9c179e\"], [0.4444444444444444, \"#bd3786\"], [0.5555555555555556, \"#d8576b\"], [0.6666666666666666, \"#ed7953\"], [0.7777777777777778, \"#fb9f3a\"], [0.8888888888888888, \"#fdca26\"], [1.0, \"#f0f921\"]], \"type\": \"heatmapgl\"}], \"histogram\": [{\"marker\": {\"colorbar\": {\"outlinewidth\": 0, \"ticks\": \"\"}}, \"type\": \"histogram\"}], \"histogram2d\": [{\"colorbar\": {\"outlinewidth\": 0, \"ticks\": \"\"}, \"colorscale\": [[0.0, \"#0d0887\"], [0.1111111111111111, \"#46039f\"], [0.2222222222222222, \"#7201a8\"], [0.3333333333333333, \"#9c179e\"], [0.4444444444444444, \"#bd3786\"], [0.5555555555555556, \"#d8576b\"], [0.6666666666666666, \"#ed7953\"], [0.7777777777777778, \"#fb9f3a\"], [0.8888888888888888, \"#fdca26\"], [1.0, \"#f0f921\"]], \"type\": \"histogram2d\"}], \"histogram2dcontour\": [{\"colorbar\": {\"outlinewidth\": 0, \"ticks\": \"\"}, \"colorscale\": [[0.0, \"#0d0887\"], [0.1111111111111111, \"#46039f\"], [0.2222222222222222, \"#7201a8\"], [0.3333333333333333, \"#9c179e\"], [0.4444444444444444, \"#bd3786\"], [0.5555555555555556, \"#d8576b\"], [0.6666666666666666, \"#ed7953\"], [0.7777777777777778, \"#fb9f3a\"], [0.8888888888888888, \"#fdca26\"], [1.0, \"#f0f921\"]], \"type\": \"histogram2dcontour\"}], \"mesh3d\": [{\"colorbar\": {\"outlinewidth\": 0, \"ticks\": \"\"}, \"type\": \"mesh3d\"}], \"parcoords\": [{\"line\": {\"colorbar\": {\"outlinewidth\": 0, \"ticks\": \"\"}}, \"type\": \"parcoords\"}], \"pie\": [{\"automargin\": true, \"type\": \"pie\"}], \"scatter\": [{\"marker\": {\"line\": {\"color\": \"#283442\"}}, \"type\": \"scatter\"}], \"scatter3d\": [{\"line\": {\"colorbar\": {\"outlinewidth\": 0, \"ticks\": \"\"}}, \"marker\": {\"colorbar\": {\"outlinewidth\": 0, \"ticks\": \"\"}}, \"type\": \"scatter3d\"}], \"scattercarpet\": [{\"marker\": {\"colorbar\": {\"outlinewidth\": 0, \"ticks\": \"\"}}, \"type\": \"scattercarpet\"}], \"scattergeo\": [{\"marker\": {\"colorbar\": {\"outlinewidth\": 0, \"ticks\": \"\"}}, \"type\": \"scattergeo\"}], \"scattergl\": [{\"marker\": {\"line\": {\"color\": \"#283442\"}}, \"type\": \"scattergl\"}], \"scattermapbox\": [{\"marker\": {\"colorbar\": {\"outlinewidth\": 0, \"ticks\": \"\"}}, \"type\": \"scattermapbox\"}], \"scatterpolar\": [{\"marker\": {\"colorbar\": {\"outlinewidth\": 0, \"ticks\": \"\"}}, \"type\": \"scatterpolar\"}], \"scatterpolargl\": [{\"marker\": {\"colorbar\": {\"outlinewidth\": 0, \"ticks\": \"\"}}, \"type\": \"scatterpolargl\"}], \"scatterternary\": [{\"marker\": {\"colorbar\": {\"outlinewidth\": 0, \"ticks\": \"\"}}, \"type\": \"scatterternary\"}], \"surface\": [{\"colorbar\": {\"outlinewidth\": 0, \"ticks\": \"\"}, \"colorscale\": [[0.0, \"#0d0887\"], [0.1111111111111111, \"#46039f\"], [0.2222222222222222, \"#7201a8\"], [0.3333333333333333, \"#9c179e\"], [0.4444444444444444, \"#bd3786\"], [0.5555555555555556, \"#d8576b\"], [0.6666666666666666, \"#ed7953\"], [0.7777777777777778, \"#fb9f3a\"], [0.8888888888888888, \"#fdca26\"], [1.0, \"#f0f921\"]], \"type\": \"surface\"}], \"table\": [{\"cells\": {\"fill\": {\"color\": \"#506784\"}, \"line\": {\"color\": \"rgb(17,17,17)\"}}, \"header\": {\"fill\": {\"color\": \"#2a3f5f\"}, \"line\": {\"color\": \"rgb(17,17,17)\"}}, \"type\": \"table\"}]}, \"layout\": {\"annotationdefaults\": {\"arrowcolor\": \"#f2f5fa\", \"arrowhead\": 0, \"arrowwidth\": 1}, \"coloraxis\": {\"colorbar\": {\"outlinewidth\": 0, \"ticks\": \"\"}}, \"colorscale\": {\"diverging\": [[0, \"#8e0152\"], [0.1, \"#c51b7d\"], [0.2, \"#de77ae\"], [0.3, \"#f1b6da\"], [0.4, \"#fde0ef\"], [0.5, \"#f7f7f7\"], [0.6, \"#e6f5d0\"], [0.7, \"#b8e186\"], [0.8, \"#7fbc41\"], [0.9, \"#4d9221\"], [1, \"#276419\"]], \"sequential\": [[0.0, \"#0d0887\"], [0.1111111111111111, \"#46039f\"], [0.2222222222222222, \"#7201a8\"], [0.3333333333333333, \"#9c179e\"], [0.4444444444444444, \"#bd3786\"], [0.5555555555555556, \"#d8576b\"], [0.6666666666666666, \"#ed7953\"], [0.7777777777777778, \"#fb9f3a\"], [0.8888888888888888, \"#fdca26\"], [1.0, \"#f0f921\"]], \"sequentialminus\": [[0.0, \"#0d0887\"], [0.1111111111111111, \"#46039f\"], [0.2222222222222222, \"#7201a8\"], [0.3333333333333333, \"#9c179e\"], [0.4444444444444444, \"#bd3786\"], [0.5555555555555556, \"#d8576b\"], [0.6666666666666666, \"#ed7953\"], [0.7777777777777778, \"#fb9f3a\"], [0.8888888888888888, \"#fdca26\"], [1.0, \"#f0f921\"]]}, \"colorway\": [\"#636efa\", \"#EF553B\", \"#00cc96\", \"#ab63fa\", \"#FFA15A\", \"#19d3f3\", \"#FF6692\", \"#B6E880\", \"#FF97FF\", \"#FECB52\"], \"font\": {\"color\": \"#f2f5fa\"}, \"geo\": {\"bgcolor\": \"rgb(17,17,17)\", \"lakecolor\": \"rgb(17,17,17)\", \"landcolor\": \"rgb(17,17,17)\", \"showlakes\": true, \"showland\": true, \"subunitcolor\": \"#506784\"}, \"hoverlabel\": {\"align\": \"left\"}, \"hovermode\": \"closest\", \"mapbox\": {\"style\": \"dark\"}, \"paper_bgcolor\": \"rgb(17,17,17)\", \"plot_bgcolor\": \"rgb(17,17,17)\", \"polar\": {\"angularaxis\": {\"gridcolor\": \"#506784\", \"linecolor\": \"#506784\", \"ticks\": \"\"}, \"bgcolor\": \"rgb(17,17,17)\", \"radialaxis\": {\"gridcolor\": \"#506784\", \"linecolor\": \"#506784\", \"ticks\": \"\"}}, \"scene\": {\"xaxis\": {\"backgroundcolor\": \"rgb(17,17,17)\", \"gridcolor\": \"#506784\", \"gridwidth\": 2, \"linecolor\": \"#506784\", \"showbackground\": true, \"ticks\": \"\", \"zerolinecolor\": \"#C8D4E3\"}, \"yaxis\": {\"backgroundcolor\": \"rgb(17,17,17)\", \"gridcolor\": \"#506784\", \"gridwidth\": 2, \"linecolor\": \"#506784\", \"showbackground\": true, \"ticks\": \"\", \"zerolinecolor\": \"#C8D4E3\"}, \"zaxis\": {\"backgroundcolor\": \"rgb(17,17,17)\", \"gridcolor\": \"#506784\", \"gridwidth\": 2, \"linecolor\": \"#506784\", \"showbackground\": true, \"ticks\": \"\", \"zerolinecolor\": \"#C8D4E3\"}}, \"shapedefaults\": {\"line\": {\"color\": \"#f2f5fa\"}}, \"sliderdefaults\": {\"bgcolor\": \"#C8D4E3\", \"bordercolor\": \"rgb(17,17,17)\", \"borderwidth\": 1, \"tickwidth\": 0}, \"ternary\": {\"aaxis\": {\"gridcolor\": \"#506784\", \"linecolor\": \"#506784\", \"ticks\": \"\"}, \"baxis\": {\"gridcolor\": \"#506784\", \"linecolor\": \"#506784\", \"ticks\": \"\"}, \"bgcolor\": \"rgb(17,17,17)\", \"caxis\": {\"gridcolor\": \"#506784\", \"linecolor\": \"#506784\", \"ticks\": \"\"}}, \"title\": {\"x\": 0.05}, \"updatemenudefaults\": {\"bgcolor\": \"#506784\", \"borderwidth\": 0}, \"xaxis\": {\"automargin\": true, \"gridcolor\": \"#283442\", \"linecolor\": \"#506784\", \"ticks\": \"\", \"title\": {\"standoff\": 15}, \"zerolinecolor\": \"#283442\", \"zerolinewidth\": 2}, \"yaxis\": {\"automargin\": true, \"gridcolor\": \"#283442\", \"linecolor\": \"#506784\", \"ticks\": \"\", \"title\": {\"standoff\": 15}, \"zerolinecolor\": \"#283442\", \"zerolinewidth\": 2}}}, \"title\": {\"text\": \"Complete Wing Back - Support\"}, \"xaxis\": {\"anchor\": \"y\", \"domain\": [0.0, 1.0], \"title\": {\"text\": \"K Ps/90\"}}, \"yaxis\": {\"anchor\": \"x\", \"domain\": [0.0, 1.0], \"title\": {\"text\": \"Cr C/A\"}}},\n",
       "                        {\"responsive\": true}\n",
       "                    ).then(function(){\n",
       "                            \n",
       "var gd = document.getElementById('e18e887d-7760-4435-9ffc-dd864426c6da');\n",
       "var x = new MutationObserver(function (mutations, observer) {{\n",
       "        var display = window.getComputedStyle(gd).display;\n",
       "        if (!display || display === 'none') {{\n",
       "            console.log([gd, 'removed!']);\n",
       "            Plotly.purge(gd);\n",
       "            observer.disconnect();\n",
       "        }}\n",
       "}});\n",
       "\n",
       "// Listen for the removal of the full notebook cells\n",
       "var notebookContainer = gd.closest('#notebook-container');\n",
       "if (notebookContainer) {{\n",
       "    x.observe(notebookContainer, {childList: true});\n",
       "}}\n",
       "\n",
       "// Listen for the clearing of the current output cell\n",
       "var outputEl = gd.closest('.output');\n",
       "if (outputEl) {{\n",
       "    x.observe(outputEl, {childList: true});\n",
       "}}\n",
       "\n",
       "                        })\n",
       "                };\n",
       "                });\n",
       "            </script>\n",
       "        </div>"
      ]
     },
     "metadata": {},
     "output_type": "display_data"
    }
   ],
   "source": [
    "fig = px.scatter(df1, x=\"K Ps/90\", y=\"Cr C/A\", text=\"Name\", log_x=False, size_max=60)\n",
    "fig.update_traces(textposition='top center')\n",
    "fig.update_layout(\n",
    "    height=500,\n",
    "   )\n",
    "for template in [\"plotly_dark\"]:\n",
    "    fig.update_layout(template=template, title=\"Complete Wing Back - Support\")\n",
    "fig.show()\n",
    "\n"
   ]
  },
  {
   "cell_type": "code",
   "execution_count": 32,
   "metadata": {},
   "outputs": [
    {
     "name": "stdout",
     "output_type": "stream",
     "text": [
      "Wing Back - Support\n"
     ]
    },
    {
     "data": {
      "text/html": [
       "<style  type=\"text/css\" >\n",
       "    #T_b920377a_92c7_11ea_9912_10bf483492darow0_col1 {\n",
       "            background-color:  #ebf3fb;\n",
       "            color:  #000000;\n",
       "        }    #T_b920377a_92c7_11ea_9912_10bf483492darow0_col2 {\n",
       "            background-color:  #82bbdb;\n",
       "            color:  #000000;\n",
       "        }    #T_b920377a_92c7_11ea_9912_10bf483492darow0_col3 {\n",
       "            background-color:  #105ba4;\n",
       "            color:  #f1f1f1;\n",
       "        }    #T_b920377a_92c7_11ea_9912_10bf483492darow0_col4 {\n",
       "            background-color:  #4191c6;\n",
       "            color:  #000000;\n",
       "        }    #T_b920377a_92c7_11ea_9912_10bf483492darow0_col5 {\n",
       "            background-color:  #2e7ebc;\n",
       "            color:  #000000;\n",
       "        }    #T_b920377a_92c7_11ea_9912_10bf483492darow0_col6 {\n",
       "            background-color:  #08306b;\n",
       "            color:  #f1f1f1;\n",
       "        }    #T_b920377a_92c7_11ea_9912_10bf483492darow0_col7 {\n",
       "            background-color:  #08306b;\n",
       "            color:  #f1f1f1;\n",
       "        }    #T_b920377a_92c7_11ea_9912_10bf483492darow0_col8 {\n",
       "            background-color:  #1b69af;\n",
       "            color:  #f1f1f1;\n",
       "        }    #T_b920377a_92c7_11ea_9912_10bf483492darow0_col9 {\n",
       "            background-color:  #bad6eb;\n",
       "            color:  #000000;\n",
       "        }    #T_b920377a_92c7_11ea_9912_10bf483492darow0_col10 {\n",
       "            background-color:  #08306b;\n",
       "            color:  #f1f1f1;\n",
       "        }    #T_b920377a_92c7_11ea_9912_10bf483492darow0_col11 {\n",
       "            background-color:  #08306b;\n",
       "            color:  #f1f1f1;\n",
       "        }    #T_b920377a_92c7_11ea_9912_10bf483492darow1_col1 {\n",
       "            background-color:  #084f99;\n",
       "            color:  #f1f1f1;\n",
       "        }    #T_b920377a_92c7_11ea_9912_10bf483492darow1_col2 {\n",
       "            background-color:  #ccdff1;\n",
       "            color:  #000000;\n",
       "        }    #T_b920377a_92c7_11ea_9912_10bf483492darow1_col3 {\n",
       "            background-color:  #d6e6f4;\n",
       "            color:  #000000;\n",
       "        }    #T_b920377a_92c7_11ea_9912_10bf483492darow1_col4 {\n",
       "            background-color:  #08509b;\n",
       "            color:  #f1f1f1;\n",
       "        }    #T_b920377a_92c7_11ea_9912_10bf483492darow1_col5 {\n",
       "            background-color:  #08306b;\n",
       "            color:  #f1f1f1;\n",
       "        }    #T_b920377a_92c7_11ea_9912_10bf483492darow1_col6 {\n",
       "            background-color:  #f7fbff;\n",
       "            color:  #000000;\n",
       "        }    #T_b920377a_92c7_11ea_9912_10bf483492darow1_col7 {\n",
       "            background-color:  #084d96;\n",
       "            color:  #f1f1f1;\n",
       "        }    #T_b920377a_92c7_11ea_9912_10bf483492darow1_col8 {\n",
       "            background-color:  #1b69af;\n",
       "            color:  #f1f1f1;\n",
       "        }    #T_b920377a_92c7_11ea_9912_10bf483492darow1_col9 {\n",
       "            background-color:  #f7fbff;\n",
       "            color:  #000000;\n",
       "        }    #T_b920377a_92c7_11ea_9912_10bf483492darow1_col10 {\n",
       "            background-color:  #084a91;\n",
       "            color:  #f1f1f1;\n",
       "        }    #T_b920377a_92c7_11ea_9912_10bf483492darow1_col11 {\n",
       "            background-color:  #63a8d3;\n",
       "            color:  #000000;\n",
       "        }    #T_b920377a_92c7_11ea_9912_10bf483492darow2_col1 {\n",
       "            background-color:  #125ea6;\n",
       "            color:  #f1f1f1;\n",
       "        }    #T_b920377a_92c7_11ea_9912_10bf483492darow2_col2 {\n",
       "            background-color:  #08306b;\n",
       "            color:  #f1f1f1;\n",
       "        }    #T_b920377a_92c7_11ea_9912_10bf483492darow2_col3 {\n",
       "            background-color:  #08306b;\n",
       "            color:  #f1f1f1;\n",
       "        }    #T_b920377a_92c7_11ea_9912_10bf483492darow2_col4 {\n",
       "            background-color:  #deebf7;\n",
       "            color:  #000000;\n",
       "        }    #T_b920377a_92c7_11ea_9912_10bf483492darow2_col5 {\n",
       "            background-color:  #b7d4ea;\n",
       "            color:  #000000;\n",
       "        }    #T_b920377a_92c7_11ea_9912_10bf483492darow2_col6 {\n",
       "            background-color:  #08306b;\n",
       "            color:  #f1f1f1;\n",
       "        }    #T_b920377a_92c7_11ea_9912_10bf483492darow2_col7 {\n",
       "            background-color:  #3787c0;\n",
       "            color:  #000000;\n",
       "        }    #T_b920377a_92c7_11ea_9912_10bf483492darow2_col8 {\n",
       "            background-color:  #82bbdb;\n",
       "            color:  #000000;\n",
       "        }    #T_b920377a_92c7_11ea_9912_10bf483492darow2_col9 {\n",
       "            background-color:  #89bedc;\n",
       "            color:  #000000;\n",
       "        }    #T_b920377a_92c7_11ea_9912_10bf483492darow2_col10 {\n",
       "            background-color:  #4a98c9;\n",
       "            color:  #000000;\n",
       "        }    #T_b920377a_92c7_11ea_9912_10bf483492darow2_col11 {\n",
       "            background-color:  #75b4d8;\n",
       "            color:  #000000;\n",
       "        }    #T_b920377a_92c7_11ea_9912_10bf483492darow3_col1 {\n",
       "            background-color:  #d4e4f4;\n",
       "            color:  #000000;\n",
       "        }    #T_b920377a_92c7_11ea_9912_10bf483492darow3_col2 {\n",
       "            background-color:  #08306b;\n",
       "            color:  #f1f1f1;\n",
       "        }    #T_b920377a_92c7_11ea_9912_10bf483492darow3_col3 {\n",
       "            background-color:  #3787c0;\n",
       "            color:  #000000;\n",
       "        }    #T_b920377a_92c7_11ea_9912_10bf483492darow3_col4 {\n",
       "            background-color:  #9dcae1;\n",
       "            color:  #000000;\n",
       "        }    #T_b920377a_92c7_11ea_9912_10bf483492darow3_col5 {\n",
       "            background-color:  #1764ab;\n",
       "            color:  #f1f1f1;\n",
       "        }    #T_b920377a_92c7_11ea_9912_10bf483492darow3_col6 {\n",
       "            background-color:  #4a98c9;\n",
       "            color:  #000000;\n",
       "        }    #T_b920377a_92c7_11ea_9912_10bf483492darow3_col7 {\n",
       "            background-color:  #ccdff1;\n",
       "            color:  #000000;\n",
       "        }    #T_b920377a_92c7_11ea_9912_10bf483492darow3_col8 {\n",
       "            background-color:  #f7fbff;\n",
       "            color:  #000000;\n",
       "        }    #T_b920377a_92c7_11ea_9912_10bf483492darow3_col9 {\n",
       "            background-color:  #0b559f;\n",
       "            color:  #f1f1f1;\n",
       "        }    #T_b920377a_92c7_11ea_9912_10bf483492darow3_col10 {\n",
       "            background-color:  #4a98c9;\n",
       "            color:  #000000;\n",
       "        }    #T_b920377a_92c7_11ea_9912_10bf483492darow3_col11 {\n",
       "            background-color:  #9cc9e1;\n",
       "            color:  #000000;\n",
       "        }    #T_b920377a_92c7_11ea_9912_10bf483492darow4_col1 {\n",
       "            background-color:  #c9ddf0;\n",
       "            color:  #000000;\n",
       "        }    #T_b920377a_92c7_11ea_9912_10bf483492darow4_col2 {\n",
       "            background-color:  #ccdff1;\n",
       "            color:  #000000;\n",
       "        }    #T_b920377a_92c7_11ea_9912_10bf483492darow4_col3 {\n",
       "            background-color:  #105ba4;\n",
       "            color:  #f1f1f1;\n",
       "        }    #T_b920377a_92c7_11ea_9912_10bf483492darow4_col4 {\n",
       "            background-color:  #c6dbef;\n",
       "            color:  #000000;\n",
       "        }    #T_b920377a_92c7_11ea_9912_10bf483492darow4_col5 {\n",
       "            background-color:  #94c4df;\n",
       "            color:  #000000;\n",
       "        }    #T_b920377a_92c7_11ea_9912_10bf483492darow4_col6 {\n",
       "            background-color:  #08306b;\n",
       "            color:  #f1f1f1;\n",
       "        }    #T_b920377a_92c7_11ea_9912_10bf483492darow4_col7 {\n",
       "            background-color:  #58a1cf;\n",
       "            color:  #000000;\n",
       "        }    #T_b920377a_92c7_11ea_9912_10bf483492darow4_col8 {\n",
       "            background-color:  #abd0e6;\n",
       "            color:  #000000;\n",
       "        }    #T_b920377a_92c7_11ea_9912_10bf483492darow4_col9 {\n",
       "            background-color:  #0b559f;\n",
       "            color:  #f1f1f1;\n",
       "        }    #T_b920377a_92c7_11ea_9912_10bf483492darow4_col10 {\n",
       "            background-color:  #4a98c9;\n",
       "            color:  #000000;\n",
       "        }    #T_b920377a_92c7_11ea_9912_10bf483492darow4_col11 {\n",
       "            background-color:  #c9ddf0;\n",
       "            color:  #000000;\n",
       "        }    #T_b920377a_92c7_11ea_9912_10bf483492darow5_col1 {\n",
       "            background-color:  #08306b;\n",
       "            color:  #f1f1f1;\n",
       "        }    #T_b920377a_92c7_11ea_9912_10bf483492darow5_col2 {\n",
       "            background-color:  #e1edf8;\n",
       "            color:  #000000;\n",
       "        }    #T_b920377a_92c7_11ea_9912_10bf483492darow5_col3 {\n",
       "            background-color:  #f7fbff;\n",
       "            color:  #000000;\n",
       "        }    #T_b920377a_92c7_11ea_9912_10bf483492darow5_col4 {\n",
       "            background-color:  #08306b;\n",
       "            color:  #f1f1f1;\n",
       "        }    #T_b920377a_92c7_11ea_9912_10bf483492darow5_col5 {\n",
       "            background-color:  #1764ab;\n",
       "            color:  #f1f1f1;\n",
       "        }    #T_b920377a_92c7_11ea_9912_10bf483492darow5_col6 {\n",
       "            background-color:  #94c4df;\n",
       "            color:  #000000;\n",
       "        }    #T_b920377a_92c7_11ea_9912_10bf483492darow5_col7 {\n",
       "            background-color:  #08306b;\n",
       "            color:  #f1f1f1;\n",
       "        }    #T_b920377a_92c7_11ea_9912_10bf483492darow5_col8 {\n",
       "            background-color:  #08306b;\n",
       "            color:  #f1f1f1;\n",
       "        }    #T_b920377a_92c7_11ea_9912_10bf483492darow5_col9 {\n",
       "            background-color:  #f7fbff;\n",
       "            color:  #000000;\n",
       "        }    #T_b920377a_92c7_11ea_9912_10bf483492darow5_col10 {\n",
       "            background-color:  #f7fbff;\n",
       "            color:  #000000;\n",
       "        }    #T_b920377a_92c7_11ea_9912_10bf483492darow5_col11 {\n",
       "            background-color:  #d2e3f3;\n",
       "            color:  #000000;\n",
       "        }    #T_b920377a_92c7_11ea_9912_10bf483492darow6_col1 {\n",
       "            background-color:  #d4e4f4;\n",
       "            color:  #000000;\n",
       "        }    #T_b920377a_92c7_11ea_9912_10bf483492darow6_col2 {\n",
       "            background-color:  #3787c0;\n",
       "            color:  #000000;\n",
       "        }    #T_b920377a_92c7_11ea_9912_10bf483492darow6_col3 {\n",
       "            background-color:  #105ba4;\n",
       "            color:  #f1f1f1;\n",
       "        }    #T_b920377a_92c7_11ea_9912_10bf483492darow6_col4 {\n",
       "            background-color:  #c6dbef;\n",
       "            color:  #000000;\n",
       "        }    #T_b920377a_92c7_11ea_9912_10bf483492darow6_col5 {\n",
       "            background-color:  #6aaed6;\n",
       "            color:  #000000;\n",
       "        }    #T_b920377a_92c7_11ea_9912_10bf483492darow6_col6 {\n",
       "            background-color:  #1764ab;\n",
       "            color:  #f1f1f1;\n",
       "        }    #T_b920377a_92c7_11ea_9912_10bf483492darow6_col7 {\n",
       "            background-color:  #f7fbff;\n",
       "            color:  #000000;\n",
       "        }    #T_b920377a_92c7_11ea_9912_10bf483492darow6_col8 {\n",
       "            background-color:  #f7fbff;\n",
       "            color:  #000000;\n",
       "        }    #T_b920377a_92c7_11ea_9912_10bf483492darow6_col9 {\n",
       "            background-color:  #08306b;\n",
       "            color:  #f1f1f1;\n",
       "        }    #T_b920377a_92c7_11ea_9912_10bf483492darow6_col10 {\n",
       "            background-color:  #4a98c9;\n",
       "            color:  #000000;\n",
       "        }    #T_b920377a_92c7_11ea_9912_10bf483492darow6_col11 {\n",
       "            background-color:  #e4eff9;\n",
       "            color:  #000000;\n",
       "        }    #T_b920377a_92c7_11ea_9912_10bf483492darow7_col1 {\n",
       "            background-color:  #61a7d2;\n",
       "            color:  #000000;\n",
       "        }    #T_b920377a_92c7_11ea_9912_10bf483492darow7_col2 {\n",
       "            background-color:  #e1edf8;\n",
       "            color:  #000000;\n",
       "        }    #T_b920377a_92c7_11ea_9912_10bf483492darow7_col3 {\n",
       "            background-color:  #08306b;\n",
       "            color:  #f1f1f1;\n",
       "        }    #T_b920377a_92c7_11ea_9912_10bf483492darow7_col4 {\n",
       "            background-color:  #deebf7;\n",
       "            color:  #000000;\n",
       "        }    #T_b920377a_92c7_11ea_9912_10bf483492darow7_col5 {\n",
       "            background-color:  #e3eef9;\n",
       "            color:  #000000;\n",
       "        }    #T_b920377a_92c7_11ea_9912_10bf483492darow7_col6 {\n",
       "            background-color:  #1764ab;\n",
       "            color:  #f1f1f1;\n",
       "        }    #T_b920377a_92c7_11ea_9912_10bf483492darow7_col7 {\n",
       "            background-color:  #58a1cf;\n",
       "            color:  #000000;\n",
       "        }    #T_b920377a_92c7_11ea_9912_10bf483492darow7_col8 {\n",
       "            background-color:  #82bbdb;\n",
       "            color:  #000000;\n",
       "        }    #T_b920377a_92c7_11ea_9912_10bf483492darow7_col9 {\n",
       "            background-color:  #89bedc;\n",
       "            color:  #000000;\n",
       "        }    #T_b920377a_92c7_11ea_9912_10bf483492darow7_col10 {\n",
       "            background-color:  #084a91;\n",
       "            color:  #f1f1f1;\n",
       "        }    #T_b920377a_92c7_11ea_9912_10bf483492darow7_col11 {\n",
       "            background-color:  #eef5fc;\n",
       "            color:  #000000;\n",
       "        }    #T_b920377a_92c7_11ea_9912_10bf483492darow8_col1 {\n",
       "            background-color:  #f7fbff;\n",
       "            color:  #000000;\n",
       "        }    #T_b920377a_92c7_11ea_9912_10bf483492darow8_col2 {\n",
       "            background-color:  #abd0e6;\n",
       "            color:  #000000;\n",
       "        }    #T_b920377a_92c7_11ea_9912_10bf483492darow8_col3 {\n",
       "            background-color:  #3787c0;\n",
       "            color:  #000000;\n",
       "        }    #T_b920377a_92c7_11ea_9912_10bf483492darow8_col4 {\n",
       "            background-color:  #f7fbff;\n",
       "            color:  #000000;\n",
       "        }    #T_b920377a_92c7_11ea_9912_10bf483492darow8_col5 {\n",
       "            background-color:  #f7fbff;\n",
       "            color:  #000000;\n",
       "        }    #T_b920377a_92c7_11ea_9912_10bf483492darow8_col6 {\n",
       "            background-color:  #08306b;\n",
       "            color:  #f1f1f1;\n",
       "        }    #T_b920377a_92c7_11ea_9912_10bf483492darow8_col7 {\n",
       "            background-color:  #82bbdb;\n",
       "            color:  #000000;\n",
       "        }    #T_b920377a_92c7_11ea_9912_10bf483492darow8_col8 {\n",
       "            background-color:  #abd0e6;\n",
       "            color:  #000000;\n",
       "        }    #T_b920377a_92c7_11ea_9912_10bf483492darow8_col9 {\n",
       "            background-color:  #08306b;\n",
       "            color:  #f1f1f1;\n",
       "        }    #T_b920377a_92c7_11ea_9912_10bf483492darow8_col10 {\n",
       "            background-color:  #2e7ebc;\n",
       "            color:  #000000;\n",
       "        }    #T_b920377a_92c7_11ea_9912_10bf483492darow8_col11 {\n",
       "            background-color:  #f7fbff;\n",
       "            color:  #000000;\n",
       "        }    #T_b920377a_92c7_11ea_9912_10bf483492darow9_col1 {\n",
       "            background-color:  #084f99;\n",
       "            color:  #f1f1f1;\n",
       "        }    #T_b920377a_92c7_11ea_9912_10bf483492darow9_col2 {\n",
       "            background-color:  #f7fbff;\n",
       "            color:  #000000;\n",
       "        }    #T_b920377a_92c7_11ea_9912_10bf483492darow9_col3 {\n",
       "            background-color:  #d6e6f4;\n",
       "            color:  #000000;\n",
       "        }    #T_b920377a_92c7_11ea_9912_10bf483492darow9_col4 {\n",
       "            background-color:  #6aaed6;\n",
       "            color:  #000000;\n",
       "        }    #T_b920377a_92c7_11ea_9912_10bf483492darow9_col5 {\n",
       "            background-color:  #4a98c9;\n",
       "            color:  #000000;\n",
       "        }    #T_b920377a_92c7_11ea_9912_10bf483492darow9_col6 {\n",
       "            background-color:  #1764ab;\n",
       "            color:  #f1f1f1;\n",
       "        }    #T_b920377a_92c7_11ea_9912_10bf483492darow9_col7 {\n",
       "            background-color:  #3787c0;\n",
       "            color:  #000000;\n",
       "        }    #T_b920377a_92c7_11ea_9912_10bf483492darow9_col8 {\n",
       "            background-color:  #58a1cf;\n",
       "            color:  #000000;\n",
       "        }    #T_b920377a_92c7_11ea_9912_10bf483492darow9_col9 {\n",
       "            background-color:  #bad6eb;\n",
       "            color:  #000000;\n",
       "        }    #T_b920377a_92c7_11ea_9912_10bf483492darow9_col10 {\n",
       "            background-color:  #6aaed6;\n",
       "            color:  #000000;\n",
       "        }    #T_b920377a_92c7_11ea_9912_10bf483492darow9_col11 {\n",
       "            background-color:  #f7fbff;\n",
       "            color:  #000000;\n",
       "        }</style><table id=\"T_b920377a_92c7_11ea_9912_10bf483492da\" ><thead>    <tr>        <th class=\"col_heading level0 col0\" >Name</th>        <th class=\"col_heading level0 col1\" >Age</th>        <th class=\"col_heading level0 col2\" >Cro</th>        <th class=\"col_heading level0 col3\" >Dri</th>        <th class=\"col_heading level0 col4\" >Mar</th>        <th class=\"col_heading level0 col5\" >Tck</th>        <th class=\"col_heading level0 col6\" >OtB</th>        <th class=\"col_heading level0 col7\" >Tea</th>        <th class=\"col_heading level0 col8\" >Wor</th>        <th class=\"col_heading level0 col9\" >Acc</th>        <th class=\"col_heading level0 col10\" >Sta</th>        <th class=\"col_heading level0 col11\" >wb_score</th>    </tr></thead><tbody>\n",
       "                <tr>\n",
       "                                <td id=\"T_b920377a_92c7_11ea_9912_10bf483492darow0_col0\" class=\"data row0 col0\" >Abdoulaye Niang</td>\n",
       "                        <td id=\"T_b920377a_92c7_11ea_9912_10bf483492darow0_col1\" class=\"data row0 col1\" >                  19</td>\n",
       "                        <td id=\"T_b920377a_92c7_11ea_9912_10bf483492darow0_col2\" class=\"data row0 col2\" >11</td>\n",
       "                        <td id=\"T_b920377a_92c7_11ea_9912_10bf483492darow0_col3\" class=\"data row0 col3\" >11</td>\n",
       "                        <td id=\"T_b920377a_92c7_11ea_9912_10bf483492darow0_col4\" class=\"data row0 col4\" >13</td>\n",
       "                        <td id=\"T_b920377a_92c7_11ea_9912_10bf483492darow0_col5\" class=\"data row0 col5\" >14</td>\n",
       "                        <td id=\"T_b920377a_92c7_11ea_9912_10bf483492darow0_col6\" class=\"data row0 col6\" >13</td>\n",
       "                        <td id=\"T_b920377a_92c7_11ea_9912_10bf483492darow0_col7\" class=\"data row0 col7\" >18</td>\n",
       "                        <td id=\"T_b920377a_92c7_11ea_9912_10bf483492darow0_col8\" class=\"data row0 col8\" >18</td>\n",
       "                        <td id=\"T_b920377a_92c7_11ea_9912_10bf483492darow0_col9\" class=\"data row0 col9\" >11</td>\n",
       "                        <td id=\"T_b920377a_92c7_11ea_9912_10bf483492darow0_col10\" class=\"data row0 col10\" >16</td>\n",
       "                        <td id=\"T_b920377a_92c7_11ea_9912_10bf483492darow0_col11\" class=\"data row0 col11\" >125</td>\n",
       "            </tr>\n",
       "            <tr>\n",
       "                                <td id=\"T_b920377a_92c7_11ea_9912_10bf483492darow1_col0\" class=\"data row1 col0\" >Sven Bender</td>\n",
       "                        <td id=\"T_b920377a_92c7_11ea_9912_10bf483492darow1_col1\" class=\"data row1 col1\" >                  33</td>\n",
       "                        <td id=\"T_b920377a_92c7_11ea_9912_10bf483492darow1_col2\" class=\"data row1 col2\" >9</td>\n",
       "                        <td id=\"T_b920377a_92c7_11ea_9912_10bf483492darow1_col3\" class=\"data row1 col3\" >7</td>\n",
       "                        <td id=\"T_b920377a_92c7_11ea_9912_10bf483492darow1_col4\" class=\"data row1 col4\" >15</td>\n",
       "                        <td id=\"T_b920377a_92c7_11ea_9912_10bf483492darow1_col5\" class=\"data row1 col5\" >17</td>\n",
       "                        <td id=\"T_b920377a_92c7_11ea_9912_10bf483492darow1_col6\" class=\"data row1 col6\" >8</td>\n",
       "                        <td id=\"T_b920377a_92c7_11ea_9912_10bf483492darow1_col7\" class=\"data row1 col7\" >17</td>\n",
       "                        <td id=\"T_b920377a_92c7_11ea_9912_10bf483492darow1_col8\" class=\"data row1 col8\" >18</td>\n",
       "                        <td id=\"T_b920377a_92c7_11ea_9912_10bf483492darow1_col9\" class=\"data row1 col9\" >9</td>\n",
       "                        <td id=\"T_b920377a_92c7_11ea_9912_10bf483492darow1_col10\" class=\"data row1 col10\" >15</td>\n",
       "                        <td id=\"T_b920377a_92c7_11ea_9912_10bf483492darow1_col11\" class=\"data row1 col11\" >115</td>\n",
       "            </tr>\n",
       "            <tr>\n",
       "                                <td id=\"T_b920377a_92c7_11ea_9912_10bf483492darow2_col0\" class=\"data row2 col0\" >Oliver Kragl</td>\n",
       "                        <td id=\"T_b920377a_92c7_11ea_9912_10bf483492darow2_col1\" class=\"data row2 col1\" >                  32</td>\n",
       "                        <td id=\"T_b920377a_92c7_11ea_9912_10bf483492darow2_col2\" class=\"data row2 col2\" >16</td>\n",
       "                        <td id=\"T_b920377a_92c7_11ea_9912_10bf483492darow2_col3\" class=\"data row2 col3\" >12</td>\n",
       "                        <td id=\"T_b920377a_92c7_11ea_9912_10bf483492darow2_col4\" class=\"data row2 col4\" >9</td>\n",
       "                        <td id=\"T_b920377a_92c7_11ea_9912_10bf483492darow2_col5\" class=\"data row2 col5\" >10</td>\n",
       "                        <td id=\"T_b920377a_92c7_11ea_9912_10bf483492darow2_col6\" class=\"data row2 col6\" >13</td>\n",
       "                        <td id=\"T_b920377a_92c7_11ea_9912_10bf483492darow2_col7\" class=\"data row2 col7\" >15</td>\n",
       "                        <td id=\"T_b920377a_92c7_11ea_9912_10bf483492darow2_col8\" class=\"data row2 col8\" >15</td>\n",
       "                        <td id=\"T_b920377a_92c7_11ea_9912_10bf483492darow2_col9\" class=\"data row2 col9\" >12</td>\n",
       "                        <td id=\"T_b920377a_92c7_11ea_9912_10bf483492darow2_col10\" class=\"data row2 col10\" >12</td>\n",
       "                        <td id=\"T_b920377a_92c7_11ea_9912_10bf483492darow2_col11\" class=\"data row2 col11\" >114</td>\n",
       "            </tr>\n",
       "            <tr>\n",
       "                                <td id=\"T_b920377a_92c7_11ea_9912_10bf483492darow3_col0\" class=\"data row3 col0\" >Mert GÃ¶ckan</td>\n",
       "                        <td id=\"T_b920377a_92c7_11ea_9912_10bf483492darow3_col1\" class=\"data row3 col1\" >                  21</td>\n",
       "                        <td id=\"T_b920377a_92c7_11ea_9912_10bf483492darow3_col2\" class=\"data row3 col2\" >16</td>\n",
       "                        <td id=\"T_b920377a_92c7_11ea_9912_10bf483492darow3_col3\" class=\"data row3 col3\" >10</td>\n",
       "                        <td id=\"T_b920377a_92c7_11ea_9912_10bf483492darow3_col4\" class=\"data row3 col4\" >11</td>\n",
       "                        <td id=\"T_b920377a_92c7_11ea_9912_10bf483492darow3_col5\" class=\"data row3 col5\" >15</td>\n",
       "                        <td id=\"T_b920377a_92c7_11ea_9912_10bf483492darow3_col6\" class=\"data row3 col6\" >11</td>\n",
       "                        <td id=\"T_b920377a_92c7_11ea_9912_10bf483492darow3_col7\" class=\"data row3 col7\" >11</td>\n",
       "                        <td id=\"T_b920377a_92c7_11ea_9912_10bf483492darow3_col8\" class=\"data row3 col8\" >11</td>\n",
       "                        <td id=\"T_b920377a_92c7_11ea_9912_10bf483492darow3_col9\" class=\"data row3 col9\" >15</td>\n",
       "                        <td id=\"T_b920377a_92c7_11ea_9912_10bf483492darow3_col10\" class=\"data row3 col10\" >12</td>\n",
       "                        <td id=\"T_b920377a_92c7_11ea_9912_10bf483492darow3_col11\" class=\"data row3 col11\" >112</td>\n",
       "            </tr>\n",
       "            <tr>\n",
       "                                <td id=\"T_b920377a_92c7_11ea_9912_10bf483492darow4_col0\" class=\"data row4 col0\" >Leon Klassen</td>\n",
       "                        <td id=\"T_b920377a_92c7_11ea_9912_10bf483492darow4_col1\" class=\"data row4 col1\" >                  22</td>\n",
       "                        <td id=\"T_b920377a_92c7_11ea_9912_10bf483492darow4_col2\" class=\"data row4 col2\" >9</td>\n",
       "                        <td id=\"T_b920377a_92c7_11ea_9912_10bf483492darow4_col3\" class=\"data row4 col3\" >11</td>\n",
       "                        <td id=\"T_b920377a_92c7_11ea_9912_10bf483492darow4_col4\" class=\"data row4 col4\" >10</td>\n",
       "                        <td id=\"T_b920377a_92c7_11ea_9912_10bf483492darow4_col5\" class=\"data row4 col5\" >11</td>\n",
       "                        <td id=\"T_b920377a_92c7_11ea_9912_10bf483492darow4_col6\" class=\"data row4 col6\" >13</td>\n",
       "                        <td id=\"T_b920377a_92c7_11ea_9912_10bf483492darow4_col7\" class=\"data row4 col7\" >14</td>\n",
       "                        <td id=\"T_b920377a_92c7_11ea_9912_10bf483492darow4_col8\" class=\"data row4 col8\" >14</td>\n",
       "                        <td id=\"T_b920377a_92c7_11ea_9912_10bf483492darow4_col9\" class=\"data row4 col9\" >15</td>\n",
       "                        <td id=\"T_b920377a_92c7_11ea_9912_10bf483492darow4_col10\" class=\"data row4 col10\" >12</td>\n",
       "                        <td id=\"T_b920377a_92c7_11ea_9912_10bf483492darow4_col11\" class=\"data row4 col11\" >109</td>\n",
       "            </tr>\n",
       "            <tr>\n",
       "                                <td id=\"T_b920377a_92c7_11ea_9912_10bf483492darow5_col0\" class=\"data row5 col0\" >Gary Medel</td>\n",
       "                        <td id=\"T_b920377a_92c7_11ea_9912_10bf483492darow5_col1\" class=\"data row5 col1\" >                  35</td>\n",
       "                        <td id=\"T_b920377a_92c7_11ea_9912_10bf483492darow5_col2\" class=\"data row5 col2\" >8</td>\n",
       "                        <td id=\"T_b920377a_92c7_11ea_9912_10bf483492darow5_col3\" class=\"data row5 col3\" >6</td>\n",
       "                        <td id=\"T_b920377a_92c7_11ea_9912_10bf483492darow5_col4\" class=\"data row5 col4\" >16</td>\n",
       "                        <td id=\"T_b920377a_92c7_11ea_9912_10bf483492darow5_col5\" class=\"data row5 col5\" >15</td>\n",
       "                        <td id=\"T_b920377a_92c7_11ea_9912_10bf483492darow5_col6\" class=\"data row5 col6\" >10</td>\n",
       "                        <td id=\"T_b920377a_92c7_11ea_9912_10bf483492darow5_col7\" class=\"data row5 col7\" >18</td>\n",
       "                        <td id=\"T_b920377a_92c7_11ea_9912_10bf483492darow5_col8\" class=\"data row5 col8\" >20</td>\n",
       "                        <td id=\"T_b920377a_92c7_11ea_9912_10bf483492darow5_col9\" class=\"data row5 col9\" >9</td>\n",
       "                        <td id=\"T_b920377a_92c7_11ea_9912_10bf483492darow5_col10\" class=\"data row5 col10\" >6</td>\n",
       "                        <td id=\"T_b920377a_92c7_11ea_9912_10bf483492darow5_col11\" class=\"data row5 col11\" >108</td>\n",
       "            </tr>\n",
       "            <tr>\n",
       "                                <td id=\"T_b920377a_92c7_11ea_9912_10bf483492darow6_col0\" class=\"data row6 col0\" >Marvin Jung</td>\n",
       "                        <td id=\"T_b920377a_92c7_11ea_9912_10bf483492darow6_col1\" class=\"data row6 col1\" >                  21</td>\n",
       "                        <td id=\"T_b920377a_92c7_11ea_9912_10bf483492darow6_col2\" class=\"data row6 col2\" >13</td>\n",
       "                        <td id=\"T_b920377a_92c7_11ea_9912_10bf483492darow6_col3\" class=\"data row6 col3\" >11</td>\n",
       "                        <td id=\"T_b920377a_92c7_11ea_9912_10bf483492darow6_col4\" class=\"data row6 col4\" >10</td>\n",
       "                        <td id=\"T_b920377a_92c7_11ea_9912_10bf483492darow6_col5\" class=\"data row6 col5\" >12</td>\n",
       "                        <td id=\"T_b920377a_92c7_11ea_9912_10bf483492darow6_col6\" class=\"data row6 col6\" >12</td>\n",
       "                        <td id=\"T_b920377a_92c7_11ea_9912_10bf483492darow6_col7\" class=\"data row6 col7\" >9</td>\n",
       "                        <td id=\"T_b920377a_92c7_11ea_9912_10bf483492darow6_col8\" class=\"data row6 col8\" >11</td>\n",
       "                        <td id=\"T_b920377a_92c7_11ea_9912_10bf483492darow6_col9\" class=\"data row6 col9\" >16</td>\n",
       "                        <td id=\"T_b920377a_92c7_11ea_9912_10bf483492darow6_col10\" class=\"data row6 col10\" >12</td>\n",
       "                        <td id=\"T_b920377a_92c7_11ea_9912_10bf483492darow6_col11\" class=\"data row6 col11\" >106</td>\n",
       "            </tr>\n",
       "            <tr>\n",
       "                                <td id=\"T_b920377a_92c7_11ea_9912_10bf483492darow7_col0\" class=\"data row7 col0\" >Efkan Bekiroglu</td>\n",
       "                        <td id=\"T_b920377a_92c7_11ea_9912_10bf483492darow7_col1\" class=\"data row7 col1\" >                  27</td>\n",
       "                        <td id=\"T_b920377a_92c7_11ea_9912_10bf483492darow7_col2\" class=\"data row7 col2\" >8</td>\n",
       "                        <td id=\"T_b920377a_92c7_11ea_9912_10bf483492darow7_col3\" class=\"data row7 col3\" >12</td>\n",
       "                        <td id=\"T_b920377a_92c7_11ea_9912_10bf483492darow7_col4\" class=\"data row7 col4\" >9</td>\n",
       "                        <td id=\"T_b920377a_92c7_11ea_9912_10bf483492darow7_col5\" class=\"data row7 col5\" >8</td>\n",
       "                        <td id=\"T_b920377a_92c7_11ea_9912_10bf483492darow7_col6\" class=\"data row7 col6\" >12</td>\n",
       "                        <td id=\"T_b920377a_92c7_11ea_9912_10bf483492darow7_col7\" class=\"data row7 col7\" >14</td>\n",
       "                        <td id=\"T_b920377a_92c7_11ea_9912_10bf483492darow7_col8\" class=\"data row7 col8\" >15</td>\n",
       "                        <td id=\"T_b920377a_92c7_11ea_9912_10bf483492darow7_col9\" class=\"data row7 col9\" >12</td>\n",
       "                        <td id=\"T_b920377a_92c7_11ea_9912_10bf483492darow7_col10\" class=\"data row7 col10\" >15</td>\n",
       "                        <td id=\"T_b920377a_92c7_11ea_9912_10bf483492darow7_col11\" class=\"data row7 col11\" >105</td>\n",
       "            </tr>\n",
       "            <tr>\n",
       "                                <td id=\"T_b920377a_92c7_11ea_9912_10bf483492darow8_col0\" class=\"data row8 col0\" >Mike Fitzner</td>\n",
       "                        <td id=\"T_b920377a_92c7_11ea_9912_10bf483492darow8_col1\" class=\"data row8 col1\" >                  18</td>\n",
       "                        <td id=\"T_b920377a_92c7_11ea_9912_10bf483492darow8_col2\" class=\"data row8 col2\" >10</td>\n",
       "                        <td id=\"T_b920377a_92c7_11ea_9912_10bf483492darow8_col3\" class=\"data row8 col3\" >10</td>\n",
       "                        <td id=\"T_b920377a_92c7_11ea_9912_10bf483492darow8_col4\" class=\"data row8 col4\" >8</td>\n",
       "                        <td id=\"T_b920377a_92c7_11ea_9912_10bf483492darow8_col5\" class=\"data row8 col5\" >7</td>\n",
       "                        <td id=\"T_b920377a_92c7_11ea_9912_10bf483492darow8_col6\" class=\"data row8 col6\" >13</td>\n",
       "                        <td id=\"T_b920377a_92c7_11ea_9912_10bf483492darow8_col7\" class=\"data row8 col7\" >13</td>\n",
       "                        <td id=\"T_b920377a_92c7_11ea_9912_10bf483492darow8_col8\" class=\"data row8 col8\" >14</td>\n",
       "                        <td id=\"T_b920377a_92c7_11ea_9912_10bf483492darow8_col9\" class=\"data row8 col9\" >16</td>\n",
       "                        <td id=\"T_b920377a_92c7_11ea_9912_10bf483492darow8_col10\" class=\"data row8 col10\" >13</td>\n",
       "                        <td id=\"T_b920377a_92c7_11ea_9912_10bf483492darow8_col11\" class=\"data row8 col11\" >104</td>\n",
       "            </tr>\n",
       "            <tr>\n",
       "                                <td id=\"T_b920377a_92c7_11ea_9912_10bf483492darow9_col0\" class=\"data row9 col0\" >Lucas Deaux</td>\n",
       "                        <td id=\"T_b920377a_92c7_11ea_9912_10bf483492darow9_col1\" class=\"data row9 col1\" >                  33</td>\n",
       "                        <td id=\"T_b920377a_92c7_11ea_9912_10bf483492darow9_col2\" class=\"data row9 col2\" >7</td>\n",
       "                        <td id=\"T_b920377a_92c7_11ea_9912_10bf483492darow9_col3\" class=\"data row9 col3\" >7</td>\n",
       "                        <td id=\"T_b920377a_92c7_11ea_9912_10bf483492darow9_col4\" class=\"data row9 col4\" >12</td>\n",
       "                        <td id=\"T_b920377a_92c7_11ea_9912_10bf483492darow9_col5\" class=\"data row9 col5\" >13</td>\n",
       "                        <td id=\"T_b920377a_92c7_11ea_9912_10bf483492darow9_col6\" class=\"data row9 col6\" >12</td>\n",
       "                        <td id=\"T_b920377a_92c7_11ea_9912_10bf483492darow9_col7\" class=\"data row9 col7\" >15</td>\n",
       "                        <td id=\"T_b920377a_92c7_11ea_9912_10bf483492darow9_col8\" class=\"data row9 col8\" >16</td>\n",
       "                        <td id=\"T_b920377a_92c7_11ea_9912_10bf483492darow9_col9\" class=\"data row9 col9\" >11</td>\n",
       "                        <td id=\"T_b920377a_92c7_11ea_9912_10bf483492darow9_col10\" class=\"data row9 col10\" >11</td>\n",
       "                        <td id=\"T_b920377a_92c7_11ea_9912_10bf483492darow9_col11\" class=\"data row9 col11\" >104</td>\n",
       "            </tr>\n",
       "    </tbody></table>"
      ],
      "text/plain": [
       "<pandas.io.formats.style.Styler at 0xa2b7e80>"
      ]
     },
     "execution_count": 32,
     "metadata": {},
     "output_type": "execute_result"
    }
   ],
   "source": [
    "print(\"Wing Back - Support\")\n",
    "sorted_wb = wb.sort_values(by='wb_score', ascending=False)\n",
    "sorted_wb.head(10).style.format({\"Age\": \"{:20,.0f}\", \n",
    "                          })\\\n",
    "                       .hide_index()\\\n",
    "                       .background_gradient(cmap='Blues')"
   ]
  },
  {
   "cell_type": "code",
   "execution_count": 33,
   "metadata": {},
   "outputs": [
    {
     "data": {
      "application/vnd.plotly.v1+json": {
       "config": {
        "plotlyServerURL": "https://plot.ly"
       },
       "data": [
        {
         "hovertemplate": "DrbPG=%{x}<br>Cr C/A=%{y}<br>Name=%{text}<extra></extra>",
         "legendgroup": "",
         "marker": {
          "color": "#636efa",
          "symbol": "circle"
         },
         "mode": "markers+text",
         "name": "",
         "showlegend": false,
         "text": [
          "Luca Unbehaun",
          "Mert GÃ¶ckan",
          "Leon Vogel",
          "Sven Bender",
          "Efkan Bekiroglu",
          "Oliver Kragl",
          "Mike Fitzner",
          "Lucas Deaux",
          "Gary Medel",
          "Julian Schwermann",
          "Franck Evina",
          "Marco Hiller",
          "Noel Niemann",
          "Abdoulaye Niang",
          "Marvin Jung",
          "Gabriel Isik",
          "Shawn Hery",
          "Leon Klassen",
          "Fabian Greilinger",
          "Petr Dvorak",
          "Marko Basic",
          "Peter KÃ¶ster",
          "Rene Strehmel",
          "Sefer AygÃ¼n",
          "Ben SchÃ¤fer",
          "Andreas Ahlm",
          "Pawel Majewski",
          "Felix Abeln",
          "Sebastian Drichel",
          "David Hyam",
          "JosÃ© Batista",
          "Tobias Paula",
          "Fabian Feldhaus",
          "Martin MÃ¸rk",
          "Mahmut KoÃ§",
          "Markus Bahr",
          "Michael Benecke",
          "Peter Eze",
          "Christoph Sailer",
          "Tobias Riegger-Zingerle",
          "Daniel Haller",
          "NÃ©lson Ferreira"
         ],
         "textposition": "top center",
         "type": "scatter",
         "x": [
          "-",
          "0.90",
          "-",
          "0.35",
          "0.21",
          "2.81",
          "2.59",
          "0.66",
          "0.65",
          "0.42",
          "1.26",
          "-",
          "3.17",
          "0.98",
          "3.95",
          "0.50",
          "3.74",
          "2.90",
          "3.60",
          "-",
          "-",
          "0.32",
          "-",
          "2.12",
          "-",
          "-",
          "-",
          "-",
          "-",
          "-",
          "-",
          "-",
          "-",
          "-",
          "-",
          "-",
          "-",
          "-",
          "-",
          "-",
          "-",
          "-"
         ],
         "xaxis": "x",
         "y": [
          "0%",
          "15%",
          "-",
          "0%",
          "20%",
          "16%",
          "18%",
          "33%",
          "33%",
          "33%",
          "46%",
          "0%",
          "17%",
          "25%",
          "14%",
          "0%",
          "18%",
          "17%",
          "19%",
          "-",
          "-",
          "0%",
          "-",
          "23%",
          "-",
          "-",
          "0%",
          "-",
          "0%",
          "-",
          "-",
          "-",
          "-",
          "-",
          "-",
          "-",
          "-",
          "-",
          "-",
          "-",
          "-",
          "-"
         ],
         "yaxis": "y"
        }
       ],
       "layout": {
        "height": 500,
        "legend": {
         "tracegroupgap": 0
        },
        "margin": {
         "t": 60
        },
        "template": {
         "data": {
          "bar": [
           {
            "error_x": {
             "color": "#f2f5fa"
            },
            "error_y": {
             "color": "#f2f5fa"
            },
            "marker": {
             "line": {
              "color": "rgb(17,17,17)",
              "width": 0.5
             }
            },
            "type": "bar"
           }
          ],
          "barpolar": [
           {
            "marker": {
             "line": {
              "color": "rgb(17,17,17)",
              "width": 0.5
             }
            },
            "type": "barpolar"
           }
          ],
          "carpet": [
           {
            "aaxis": {
             "endlinecolor": "#A2B1C6",
             "gridcolor": "#506784",
             "linecolor": "#506784",
             "minorgridcolor": "#506784",
             "startlinecolor": "#A2B1C6"
            },
            "baxis": {
             "endlinecolor": "#A2B1C6",
             "gridcolor": "#506784",
             "linecolor": "#506784",
             "minorgridcolor": "#506784",
             "startlinecolor": "#A2B1C6"
            },
            "type": "carpet"
           }
          ],
          "choropleth": [
           {
            "colorbar": {
             "outlinewidth": 0,
             "ticks": ""
            },
            "type": "choropleth"
           }
          ],
          "contour": [
           {
            "colorbar": {
             "outlinewidth": 0,
             "ticks": ""
            },
            "colorscale": [
             [
              0,
              "#0d0887"
             ],
             [
              0.1111111111111111,
              "#46039f"
             ],
             [
              0.2222222222222222,
              "#7201a8"
             ],
             [
              0.3333333333333333,
              "#9c179e"
             ],
             [
              0.4444444444444444,
              "#bd3786"
             ],
             [
              0.5555555555555556,
              "#d8576b"
             ],
             [
              0.6666666666666666,
              "#ed7953"
             ],
             [
              0.7777777777777778,
              "#fb9f3a"
             ],
             [
              0.8888888888888888,
              "#fdca26"
             ],
             [
              1,
              "#f0f921"
             ]
            ],
            "type": "contour"
           }
          ],
          "contourcarpet": [
           {
            "colorbar": {
             "outlinewidth": 0,
             "ticks": ""
            },
            "type": "contourcarpet"
           }
          ],
          "heatmap": [
           {
            "colorbar": {
             "outlinewidth": 0,
             "ticks": ""
            },
            "colorscale": [
             [
              0,
              "#0d0887"
             ],
             [
              0.1111111111111111,
              "#46039f"
             ],
             [
              0.2222222222222222,
              "#7201a8"
             ],
             [
              0.3333333333333333,
              "#9c179e"
             ],
             [
              0.4444444444444444,
              "#bd3786"
             ],
             [
              0.5555555555555556,
              "#d8576b"
             ],
             [
              0.6666666666666666,
              "#ed7953"
             ],
             [
              0.7777777777777778,
              "#fb9f3a"
             ],
             [
              0.8888888888888888,
              "#fdca26"
             ],
             [
              1,
              "#f0f921"
             ]
            ],
            "type": "heatmap"
           }
          ],
          "heatmapgl": [
           {
            "colorbar": {
             "outlinewidth": 0,
             "ticks": ""
            },
            "colorscale": [
             [
              0,
              "#0d0887"
             ],
             [
              0.1111111111111111,
              "#46039f"
             ],
             [
              0.2222222222222222,
              "#7201a8"
             ],
             [
              0.3333333333333333,
              "#9c179e"
             ],
             [
              0.4444444444444444,
              "#bd3786"
             ],
             [
              0.5555555555555556,
              "#d8576b"
             ],
             [
              0.6666666666666666,
              "#ed7953"
             ],
             [
              0.7777777777777778,
              "#fb9f3a"
             ],
             [
              0.8888888888888888,
              "#fdca26"
             ],
             [
              1,
              "#f0f921"
             ]
            ],
            "type": "heatmapgl"
           }
          ],
          "histogram": [
           {
            "marker": {
             "colorbar": {
              "outlinewidth": 0,
              "ticks": ""
             }
            },
            "type": "histogram"
           }
          ],
          "histogram2d": [
           {
            "colorbar": {
             "outlinewidth": 0,
             "ticks": ""
            },
            "colorscale": [
             [
              0,
              "#0d0887"
             ],
             [
              0.1111111111111111,
              "#46039f"
             ],
             [
              0.2222222222222222,
              "#7201a8"
             ],
             [
              0.3333333333333333,
              "#9c179e"
             ],
             [
              0.4444444444444444,
              "#bd3786"
             ],
             [
              0.5555555555555556,
              "#d8576b"
             ],
             [
              0.6666666666666666,
              "#ed7953"
             ],
             [
              0.7777777777777778,
              "#fb9f3a"
             ],
             [
              0.8888888888888888,
              "#fdca26"
             ],
             [
              1,
              "#f0f921"
             ]
            ],
            "type": "histogram2d"
           }
          ],
          "histogram2dcontour": [
           {
            "colorbar": {
             "outlinewidth": 0,
             "ticks": ""
            },
            "colorscale": [
             [
              0,
              "#0d0887"
             ],
             [
              0.1111111111111111,
              "#46039f"
             ],
             [
              0.2222222222222222,
              "#7201a8"
             ],
             [
              0.3333333333333333,
              "#9c179e"
             ],
             [
              0.4444444444444444,
              "#bd3786"
             ],
             [
              0.5555555555555556,
              "#d8576b"
             ],
             [
              0.6666666666666666,
              "#ed7953"
             ],
             [
              0.7777777777777778,
              "#fb9f3a"
             ],
             [
              0.8888888888888888,
              "#fdca26"
             ],
             [
              1,
              "#f0f921"
             ]
            ],
            "type": "histogram2dcontour"
           }
          ],
          "mesh3d": [
           {
            "colorbar": {
             "outlinewidth": 0,
             "ticks": ""
            },
            "type": "mesh3d"
           }
          ],
          "parcoords": [
           {
            "line": {
             "colorbar": {
              "outlinewidth": 0,
              "ticks": ""
             }
            },
            "type": "parcoords"
           }
          ],
          "pie": [
           {
            "automargin": true,
            "type": "pie"
           }
          ],
          "scatter": [
           {
            "marker": {
             "line": {
              "color": "#283442"
             }
            },
            "type": "scatter"
           }
          ],
          "scatter3d": [
           {
            "line": {
             "colorbar": {
              "outlinewidth": 0,
              "ticks": ""
             }
            },
            "marker": {
             "colorbar": {
              "outlinewidth": 0,
              "ticks": ""
             }
            },
            "type": "scatter3d"
           }
          ],
          "scattercarpet": [
           {
            "marker": {
             "colorbar": {
              "outlinewidth": 0,
              "ticks": ""
             }
            },
            "type": "scattercarpet"
           }
          ],
          "scattergeo": [
           {
            "marker": {
             "colorbar": {
              "outlinewidth": 0,
              "ticks": ""
             }
            },
            "type": "scattergeo"
           }
          ],
          "scattergl": [
           {
            "marker": {
             "line": {
              "color": "#283442"
             }
            },
            "type": "scattergl"
           }
          ],
          "scattermapbox": [
           {
            "marker": {
             "colorbar": {
              "outlinewidth": 0,
              "ticks": ""
             }
            },
            "type": "scattermapbox"
           }
          ],
          "scatterpolar": [
           {
            "marker": {
             "colorbar": {
              "outlinewidth": 0,
              "ticks": ""
             }
            },
            "type": "scatterpolar"
           }
          ],
          "scatterpolargl": [
           {
            "marker": {
             "colorbar": {
              "outlinewidth": 0,
              "ticks": ""
             }
            },
            "type": "scatterpolargl"
           }
          ],
          "scatterternary": [
           {
            "marker": {
             "colorbar": {
              "outlinewidth": 0,
              "ticks": ""
             }
            },
            "type": "scatterternary"
           }
          ],
          "surface": [
           {
            "colorbar": {
             "outlinewidth": 0,
             "ticks": ""
            },
            "colorscale": [
             [
              0,
              "#0d0887"
             ],
             [
              0.1111111111111111,
              "#46039f"
             ],
             [
              0.2222222222222222,
              "#7201a8"
             ],
             [
              0.3333333333333333,
              "#9c179e"
             ],
             [
              0.4444444444444444,
              "#bd3786"
             ],
             [
              0.5555555555555556,
              "#d8576b"
             ],
             [
              0.6666666666666666,
              "#ed7953"
             ],
             [
              0.7777777777777778,
              "#fb9f3a"
             ],
             [
              0.8888888888888888,
              "#fdca26"
             ],
             [
              1,
              "#f0f921"
             ]
            ],
            "type": "surface"
           }
          ],
          "table": [
           {
            "cells": {
             "fill": {
              "color": "#506784"
             },
             "line": {
              "color": "rgb(17,17,17)"
             }
            },
            "header": {
             "fill": {
              "color": "#2a3f5f"
             },
             "line": {
              "color": "rgb(17,17,17)"
             }
            },
            "type": "table"
           }
          ]
         },
         "layout": {
          "annotationdefaults": {
           "arrowcolor": "#f2f5fa",
           "arrowhead": 0,
           "arrowwidth": 1
          },
          "coloraxis": {
           "colorbar": {
            "outlinewidth": 0,
            "ticks": ""
           }
          },
          "colorscale": {
           "diverging": [
            [
             0,
             "#8e0152"
            ],
            [
             0.1,
             "#c51b7d"
            ],
            [
             0.2,
             "#de77ae"
            ],
            [
             0.3,
             "#f1b6da"
            ],
            [
             0.4,
             "#fde0ef"
            ],
            [
             0.5,
             "#f7f7f7"
            ],
            [
             0.6,
             "#e6f5d0"
            ],
            [
             0.7,
             "#b8e186"
            ],
            [
             0.8,
             "#7fbc41"
            ],
            [
             0.9,
             "#4d9221"
            ],
            [
             1,
             "#276419"
            ]
           ],
           "sequential": [
            [
             0,
             "#0d0887"
            ],
            [
             0.1111111111111111,
             "#46039f"
            ],
            [
             0.2222222222222222,
             "#7201a8"
            ],
            [
             0.3333333333333333,
             "#9c179e"
            ],
            [
             0.4444444444444444,
             "#bd3786"
            ],
            [
             0.5555555555555556,
             "#d8576b"
            ],
            [
             0.6666666666666666,
             "#ed7953"
            ],
            [
             0.7777777777777778,
             "#fb9f3a"
            ],
            [
             0.8888888888888888,
             "#fdca26"
            ],
            [
             1,
             "#f0f921"
            ]
           ],
           "sequentialminus": [
            [
             0,
             "#0d0887"
            ],
            [
             0.1111111111111111,
             "#46039f"
            ],
            [
             0.2222222222222222,
             "#7201a8"
            ],
            [
             0.3333333333333333,
             "#9c179e"
            ],
            [
             0.4444444444444444,
             "#bd3786"
            ],
            [
             0.5555555555555556,
             "#d8576b"
            ],
            [
             0.6666666666666666,
             "#ed7953"
            ],
            [
             0.7777777777777778,
             "#fb9f3a"
            ],
            [
             0.8888888888888888,
             "#fdca26"
            ],
            [
             1,
             "#f0f921"
            ]
           ]
          },
          "colorway": [
           "#636efa",
           "#EF553B",
           "#00cc96",
           "#ab63fa",
           "#FFA15A",
           "#19d3f3",
           "#FF6692",
           "#B6E880",
           "#FF97FF",
           "#FECB52"
          ],
          "font": {
           "color": "#f2f5fa"
          },
          "geo": {
           "bgcolor": "rgb(17,17,17)",
           "lakecolor": "rgb(17,17,17)",
           "landcolor": "rgb(17,17,17)",
           "showlakes": true,
           "showland": true,
           "subunitcolor": "#506784"
          },
          "hoverlabel": {
           "align": "left"
          },
          "hovermode": "closest",
          "mapbox": {
           "style": "dark"
          },
          "paper_bgcolor": "rgb(17,17,17)",
          "plot_bgcolor": "rgb(17,17,17)",
          "polar": {
           "angularaxis": {
            "gridcolor": "#506784",
            "linecolor": "#506784",
            "ticks": ""
           },
           "bgcolor": "rgb(17,17,17)",
           "radialaxis": {
            "gridcolor": "#506784",
            "linecolor": "#506784",
            "ticks": ""
           }
          },
          "scene": {
           "xaxis": {
            "backgroundcolor": "rgb(17,17,17)",
            "gridcolor": "#506784",
            "gridwidth": 2,
            "linecolor": "#506784",
            "showbackground": true,
            "ticks": "",
            "zerolinecolor": "#C8D4E3"
           },
           "yaxis": {
            "backgroundcolor": "rgb(17,17,17)",
            "gridcolor": "#506784",
            "gridwidth": 2,
            "linecolor": "#506784",
            "showbackground": true,
            "ticks": "",
            "zerolinecolor": "#C8D4E3"
           },
           "zaxis": {
            "backgroundcolor": "rgb(17,17,17)",
            "gridcolor": "#506784",
            "gridwidth": 2,
            "linecolor": "#506784",
            "showbackground": true,
            "ticks": "",
            "zerolinecolor": "#C8D4E3"
           }
          },
          "shapedefaults": {
           "line": {
            "color": "#f2f5fa"
           }
          },
          "sliderdefaults": {
           "bgcolor": "#C8D4E3",
           "bordercolor": "rgb(17,17,17)",
           "borderwidth": 1,
           "tickwidth": 0
          },
          "ternary": {
           "aaxis": {
            "gridcolor": "#506784",
            "linecolor": "#506784",
            "ticks": ""
           },
           "baxis": {
            "gridcolor": "#506784",
            "linecolor": "#506784",
            "ticks": ""
           },
           "bgcolor": "rgb(17,17,17)",
           "caxis": {
            "gridcolor": "#506784",
            "linecolor": "#506784",
            "ticks": ""
           }
          },
          "title": {
           "x": 0.05
          },
          "updatemenudefaults": {
           "bgcolor": "#506784",
           "borderwidth": 0
          },
          "xaxis": {
           "automargin": true,
           "gridcolor": "#283442",
           "linecolor": "#506784",
           "ticks": "",
           "title": {
            "standoff": 15
           },
           "zerolinecolor": "#283442",
           "zerolinewidth": 2
          },
          "yaxis": {
           "automargin": true,
           "gridcolor": "#283442",
           "linecolor": "#506784",
           "ticks": "",
           "title": {
            "standoff": 15
           },
           "zerolinecolor": "#283442",
           "zerolinewidth": 2
          }
         }
        },
        "title": {
         "text": "Wing Back - Support"
        },
        "xaxis": {
         "anchor": "y",
         "domain": [
          0,
          1
         ],
         "title": {
          "text": "DrbPG"
         }
        },
        "yaxis": {
         "anchor": "x",
         "domain": [
          0,
          1
         ],
         "title": {
          "text": "Cr C/A"
         }
        }
       }
      },
      "text/html": [
       "<div>\n",
       "        \n",
       "        \n",
       "            <div id=\"7b057f26-f3cb-40a6-853e-5a1b5c3cc8ea\" class=\"plotly-graph-div\" style=\"height:500px; width:100%;\"></div>\n",
       "            <script type=\"text/javascript\">\n",
       "                require([\"plotly\"], function(Plotly) {\n",
       "                    window.PLOTLYENV=window.PLOTLYENV || {};\n",
       "                    \n",
       "                if (document.getElementById(\"7b057f26-f3cb-40a6-853e-5a1b5c3cc8ea\")) {\n",
       "                    Plotly.newPlot(\n",
       "                        '7b057f26-f3cb-40a6-853e-5a1b5c3cc8ea',\n",
       "                        [{\"hovertemplate\": \"DrbPG=%{x}<br>Cr C/A=%{y}<br>Name=%{text}<extra></extra>\", \"legendgroup\": \"\", \"marker\": {\"color\": \"#636efa\", \"symbol\": \"circle\"}, \"mode\": \"markers+text\", \"name\": \"\", \"showlegend\": false, \"text\": [\"Luca Unbehaun\", \"Mert G\\u00c3\\u00b6ckan\", \"Leon Vogel\", \"Sven Bender\", \"Efkan Bekiroglu\", \"Oliver Kragl\", \"Mike Fitzner\", \"Lucas Deaux\", \"Gary Medel\", \"Julian Schwermann\", \"Franck Evina\", \"Marco Hiller\", \"Noel Niemann\", \"Abdoulaye Niang\", \"Marvin Jung\", \"Gabriel Isik\", \"Shawn Hery\", \"Leon Klassen\", \"Fabian Greilinger\", \"Petr Dvorak\", \"Marko Basic\", \"Peter K\\u00c3\\u00b6ster\", \"Rene Strehmel\", \"Sefer Ayg\\u00c3\\u00bcn\", \"Ben Sch\\u00c3\\u00a4fer\", \"Andreas Ahlm\", \"Pawel Majewski\", \"Felix Abeln\", \"Sebastian Drichel\", \"David Hyam\", \"Jos\\u00c3\\u00a9 Batista\", \"Tobias Paula\", \"Fabian Feldhaus\", \"Martin M\\u00c3\\u00b8rk\", \"Mahmut Ko\\u00c3\\u00a7\", \"Markus Bahr\", \"Michael Benecke\", \"Peter Eze\", \"Christoph Sailer\", \"Tobias Riegger-Zingerle\", \"Daniel Haller\", \"N\\u00c3\\u00a9lson Ferreira\"], \"textposition\": \"top center\", \"type\": \"scatter\", \"x\": [\"-\", \"0.90\", \"-\", \"0.35\", \"0.21\", \"2.81\", \"2.59\", \"0.66\", \"0.65\", \"0.42\", \"1.26\", \"-\", \"3.17\", \"0.98\", \"3.95\", \"0.50\", \"3.74\", \"2.90\", \"3.60\", \"-\", \"-\", \"0.32\", \"-\", \"2.12\", \"-\", \"-\", \"-\", \"-\", \"-\", \"-\", \"-\", \"-\", \"-\", \"-\", \"-\", \"-\", \"-\", \"-\", \"-\", \"-\", \"-\", \"-\"], \"xaxis\": \"x\", \"y\": [\"0%\", \"15%\", \"-\", \"0%\", \"20%\", \"16%\", \"18%\", \"33%\", \"33%\", \"33%\", \"46%\", \"0%\", \"17%\", \"25%\", \"14%\", \"0%\", \"18%\", \"17%\", \"19%\", \"-\", \"-\", \"0%\", \"-\", \"23%\", \"-\", \"-\", \"0%\", \"-\", \"0%\", \"-\", \"-\", \"-\", \"-\", \"-\", \"-\", \"-\", \"-\", \"-\", \"-\", \"-\", \"-\", \"-\"], \"yaxis\": \"y\"}],\n",
       "                        {\"height\": 500, \"legend\": {\"tracegroupgap\": 0}, \"margin\": {\"t\": 60}, \"template\": {\"data\": {\"bar\": [{\"error_x\": {\"color\": \"#f2f5fa\"}, \"error_y\": {\"color\": \"#f2f5fa\"}, \"marker\": {\"line\": {\"color\": \"rgb(17,17,17)\", \"width\": 0.5}}, \"type\": \"bar\"}], \"barpolar\": [{\"marker\": {\"line\": {\"color\": \"rgb(17,17,17)\", \"width\": 0.5}}, \"type\": \"barpolar\"}], \"carpet\": [{\"aaxis\": {\"endlinecolor\": \"#A2B1C6\", \"gridcolor\": \"#506784\", \"linecolor\": \"#506784\", \"minorgridcolor\": \"#506784\", \"startlinecolor\": \"#A2B1C6\"}, \"baxis\": {\"endlinecolor\": \"#A2B1C6\", \"gridcolor\": \"#506784\", \"linecolor\": \"#506784\", \"minorgridcolor\": \"#506784\", \"startlinecolor\": \"#A2B1C6\"}, \"type\": \"carpet\"}], \"choropleth\": [{\"colorbar\": {\"outlinewidth\": 0, \"ticks\": \"\"}, \"type\": \"choropleth\"}], \"contour\": [{\"colorbar\": {\"outlinewidth\": 0, \"ticks\": \"\"}, \"colorscale\": [[0.0, \"#0d0887\"], [0.1111111111111111, \"#46039f\"], [0.2222222222222222, \"#7201a8\"], [0.3333333333333333, \"#9c179e\"], [0.4444444444444444, \"#bd3786\"], [0.5555555555555556, \"#d8576b\"], [0.6666666666666666, \"#ed7953\"], [0.7777777777777778, \"#fb9f3a\"], [0.8888888888888888, \"#fdca26\"], [1.0, \"#f0f921\"]], \"type\": \"contour\"}], \"contourcarpet\": [{\"colorbar\": {\"outlinewidth\": 0, \"ticks\": \"\"}, \"type\": \"contourcarpet\"}], \"heatmap\": [{\"colorbar\": {\"outlinewidth\": 0, \"ticks\": \"\"}, \"colorscale\": [[0.0, \"#0d0887\"], [0.1111111111111111, \"#46039f\"], [0.2222222222222222, \"#7201a8\"], [0.3333333333333333, \"#9c179e\"], [0.4444444444444444, \"#bd3786\"], [0.5555555555555556, \"#d8576b\"], [0.6666666666666666, \"#ed7953\"], [0.7777777777777778, \"#fb9f3a\"], [0.8888888888888888, \"#fdca26\"], [1.0, \"#f0f921\"]], \"type\": \"heatmap\"}], \"heatmapgl\": [{\"colorbar\": {\"outlinewidth\": 0, \"ticks\": \"\"}, \"colorscale\": [[0.0, \"#0d0887\"], [0.1111111111111111, \"#46039f\"], [0.2222222222222222, \"#7201a8\"], [0.3333333333333333, \"#9c179e\"], [0.4444444444444444, \"#bd3786\"], [0.5555555555555556, \"#d8576b\"], [0.6666666666666666, \"#ed7953\"], [0.7777777777777778, \"#fb9f3a\"], [0.8888888888888888, \"#fdca26\"], [1.0, \"#f0f921\"]], \"type\": \"heatmapgl\"}], \"histogram\": [{\"marker\": {\"colorbar\": {\"outlinewidth\": 0, \"ticks\": \"\"}}, \"type\": \"histogram\"}], \"histogram2d\": [{\"colorbar\": {\"outlinewidth\": 0, \"ticks\": \"\"}, \"colorscale\": [[0.0, \"#0d0887\"], [0.1111111111111111, \"#46039f\"], [0.2222222222222222, \"#7201a8\"], [0.3333333333333333, \"#9c179e\"], [0.4444444444444444, \"#bd3786\"], [0.5555555555555556, \"#d8576b\"], [0.6666666666666666, \"#ed7953\"], [0.7777777777777778, \"#fb9f3a\"], [0.8888888888888888, \"#fdca26\"], [1.0, \"#f0f921\"]], \"type\": \"histogram2d\"}], \"histogram2dcontour\": [{\"colorbar\": {\"outlinewidth\": 0, \"ticks\": \"\"}, \"colorscale\": [[0.0, \"#0d0887\"], [0.1111111111111111, \"#46039f\"], [0.2222222222222222, \"#7201a8\"], [0.3333333333333333, \"#9c179e\"], [0.4444444444444444, \"#bd3786\"], [0.5555555555555556, \"#d8576b\"], [0.6666666666666666, \"#ed7953\"], [0.7777777777777778, \"#fb9f3a\"], [0.8888888888888888, \"#fdca26\"], [1.0, \"#f0f921\"]], \"type\": \"histogram2dcontour\"}], \"mesh3d\": [{\"colorbar\": {\"outlinewidth\": 0, \"ticks\": \"\"}, \"type\": \"mesh3d\"}], \"parcoords\": [{\"line\": {\"colorbar\": {\"outlinewidth\": 0, \"ticks\": \"\"}}, \"type\": \"parcoords\"}], \"pie\": [{\"automargin\": true, \"type\": \"pie\"}], \"scatter\": [{\"marker\": {\"line\": {\"color\": \"#283442\"}}, \"type\": \"scatter\"}], \"scatter3d\": [{\"line\": {\"colorbar\": {\"outlinewidth\": 0, \"ticks\": \"\"}}, \"marker\": {\"colorbar\": {\"outlinewidth\": 0, \"ticks\": \"\"}}, \"type\": \"scatter3d\"}], \"scattercarpet\": [{\"marker\": {\"colorbar\": {\"outlinewidth\": 0, \"ticks\": \"\"}}, \"type\": \"scattercarpet\"}], \"scattergeo\": [{\"marker\": {\"colorbar\": {\"outlinewidth\": 0, \"ticks\": \"\"}}, \"type\": \"scattergeo\"}], \"scattergl\": [{\"marker\": {\"line\": {\"color\": \"#283442\"}}, \"type\": \"scattergl\"}], \"scattermapbox\": [{\"marker\": {\"colorbar\": {\"outlinewidth\": 0, \"ticks\": \"\"}}, \"type\": \"scattermapbox\"}], \"scatterpolar\": [{\"marker\": {\"colorbar\": {\"outlinewidth\": 0, \"ticks\": \"\"}}, \"type\": \"scatterpolar\"}], \"scatterpolargl\": [{\"marker\": {\"colorbar\": {\"outlinewidth\": 0, \"ticks\": \"\"}}, \"type\": \"scatterpolargl\"}], \"scatterternary\": [{\"marker\": {\"colorbar\": {\"outlinewidth\": 0, \"ticks\": \"\"}}, \"type\": \"scatterternary\"}], \"surface\": [{\"colorbar\": {\"outlinewidth\": 0, \"ticks\": \"\"}, \"colorscale\": [[0.0, \"#0d0887\"], [0.1111111111111111, \"#46039f\"], [0.2222222222222222, \"#7201a8\"], [0.3333333333333333, \"#9c179e\"], [0.4444444444444444, \"#bd3786\"], [0.5555555555555556, \"#d8576b\"], [0.6666666666666666, \"#ed7953\"], [0.7777777777777778, \"#fb9f3a\"], [0.8888888888888888, \"#fdca26\"], [1.0, \"#f0f921\"]], \"type\": \"surface\"}], \"table\": [{\"cells\": {\"fill\": {\"color\": \"#506784\"}, \"line\": {\"color\": \"rgb(17,17,17)\"}}, \"header\": {\"fill\": {\"color\": \"#2a3f5f\"}, \"line\": {\"color\": \"rgb(17,17,17)\"}}, \"type\": \"table\"}]}, \"layout\": {\"annotationdefaults\": {\"arrowcolor\": \"#f2f5fa\", \"arrowhead\": 0, \"arrowwidth\": 1}, \"coloraxis\": {\"colorbar\": {\"outlinewidth\": 0, \"ticks\": \"\"}}, \"colorscale\": {\"diverging\": [[0, \"#8e0152\"], [0.1, \"#c51b7d\"], [0.2, \"#de77ae\"], [0.3, \"#f1b6da\"], [0.4, \"#fde0ef\"], [0.5, \"#f7f7f7\"], [0.6, \"#e6f5d0\"], [0.7, \"#b8e186\"], [0.8, \"#7fbc41\"], [0.9, \"#4d9221\"], [1, \"#276419\"]], \"sequential\": [[0.0, \"#0d0887\"], [0.1111111111111111, \"#46039f\"], [0.2222222222222222, \"#7201a8\"], [0.3333333333333333, \"#9c179e\"], [0.4444444444444444, \"#bd3786\"], [0.5555555555555556, \"#d8576b\"], [0.6666666666666666, \"#ed7953\"], [0.7777777777777778, \"#fb9f3a\"], [0.8888888888888888, \"#fdca26\"], [1.0, \"#f0f921\"]], \"sequentialminus\": [[0.0, \"#0d0887\"], [0.1111111111111111, \"#46039f\"], [0.2222222222222222, \"#7201a8\"], [0.3333333333333333, \"#9c179e\"], [0.4444444444444444, \"#bd3786\"], [0.5555555555555556, \"#d8576b\"], [0.6666666666666666, \"#ed7953\"], [0.7777777777777778, \"#fb9f3a\"], [0.8888888888888888, \"#fdca26\"], [1.0, \"#f0f921\"]]}, \"colorway\": [\"#636efa\", \"#EF553B\", \"#00cc96\", \"#ab63fa\", \"#FFA15A\", \"#19d3f3\", \"#FF6692\", \"#B6E880\", \"#FF97FF\", \"#FECB52\"], \"font\": {\"color\": \"#f2f5fa\"}, \"geo\": {\"bgcolor\": \"rgb(17,17,17)\", \"lakecolor\": \"rgb(17,17,17)\", \"landcolor\": \"rgb(17,17,17)\", \"showlakes\": true, \"showland\": true, \"subunitcolor\": \"#506784\"}, \"hoverlabel\": {\"align\": \"left\"}, \"hovermode\": \"closest\", \"mapbox\": {\"style\": \"dark\"}, \"paper_bgcolor\": \"rgb(17,17,17)\", \"plot_bgcolor\": \"rgb(17,17,17)\", \"polar\": {\"angularaxis\": {\"gridcolor\": \"#506784\", \"linecolor\": \"#506784\", \"ticks\": \"\"}, \"bgcolor\": \"rgb(17,17,17)\", \"radialaxis\": {\"gridcolor\": \"#506784\", \"linecolor\": \"#506784\", \"ticks\": \"\"}}, \"scene\": {\"xaxis\": {\"backgroundcolor\": \"rgb(17,17,17)\", \"gridcolor\": \"#506784\", \"gridwidth\": 2, \"linecolor\": \"#506784\", \"showbackground\": true, \"ticks\": \"\", \"zerolinecolor\": \"#C8D4E3\"}, \"yaxis\": {\"backgroundcolor\": \"rgb(17,17,17)\", \"gridcolor\": \"#506784\", \"gridwidth\": 2, \"linecolor\": \"#506784\", \"showbackground\": true, \"ticks\": \"\", \"zerolinecolor\": \"#C8D4E3\"}, \"zaxis\": {\"backgroundcolor\": \"rgb(17,17,17)\", \"gridcolor\": \"#506784\", \"gridwidth\": 2, \"linecolor\": \"#506784\", \"showbackground\": true, \"ticks\": \"\", \"zerolinecolor\": \"#C8D4E3\"}}, \"shapedefaults\": {\"line\": {\"color\": \"#f2f5fa\"}}, \"sliderdefaults\": {\"bgcolor\": \"#C8D4E3\", \"bordercolor\": \"rgb(17,17,17)\", \"borderwidth\": 1, \"tickwidth\": 0}, \"ternary\": {\"aaxis\": {\"gridcolor\": \"#506784\", \"linecolor\": \"#506784\", \"ticks\": \"\"}, \"baxis\": {\"gridcolor\": \"#506784\", \"linecolor\": \"#506784\", \"ticks\": \"\"}, \"bgcolor\": \"rgb(17,17,17)\", \"caxis\": {\"gridcolor\": \"#506784\", \"linecolor\": \"#506784\", \"ticks\": \"\"}}, \"title\": {\"x\": 0.05}, \"updatemenudefaults\": {\"bgcolor\": \"#506784\", \"borderwidth\": 0}, \"xaxis\": {\"automargin\": true, \"gridcolor\": \"#283442\", \"linecolor\": \"#506784\", \"ticks\": \"\", \"title\": {\"standoff\": 15}, \"zerolinecolor\": \"#283442\", \"zerolinewidth\": 2}, \"yaxis\": {\"automargin\": true, \"gridcolor\": \"#283442\", \"linecolor\": \"#506784\", \"ticks\": \"\", \"title\": {\"standoff\": 15}, \"zerolinecolor\": \"#283442\", \"zerolinewidth\": 2}}}, \"title\": {\"text\": \"Wing Back - Support\"}, \"xaxis\": {\"anchor\": \"y\", \"domain\": [0.0, 1.0], \"title\": {\"text\": \"DrbPG\"}}, \"yaxis\": {\"anchor\": \"x\", \"domain\": [0.0, 1.0], \"title\": {\"text\": \"Cr C/A\"}}},\n",
       "                        {\"responsive\": true}\n",
       "                    ).then(function(){\n",
       "                            \n",
       "var gd = document.getElementById('7b057f26-f3cb-40a6-853e-5a1b5c3cc8ea');\n",
       "var x = new MutationObserver(function (mutations, observer) {{\n",
       "        var display = window.getComputedStyle(gd).display;\n",
       "        if (!display || display === 'none') {{\n",
       "            console.log([gd, 'removed!']);\n",
       "            Plotly.purge(gd);\n",
       "            observer.disconnect();\n",
       "        }}\n",
       "}});\n",
       "\n",
       "// Listen for the removal of the full notebook cells\n",
       "var notebookContainer = gd.closest('#notebook-container');\n",
       "if (notebookContainer) {{\n",
       "    x.observe(notebookContainer, {childList: true});\n",
       "}}\n",
       "\n",
       "// Listen for the clearing of the current output cell\n",
       "var outputEl = gd.closest('.output');\n",
       "if (outputEl) {{\n",
       "    x.observe(outputEl, {childList: true});\n",
       "}}\n",
       "\n",
       "                        })\n",
       "                };\n",
       "                });\n",
       "            </script>\n",
       "        </div>"
      ]
     },
     "metadata": {},
     "output_type": "display_data"
    }
   ],
   "source": [
    "fig = px.scatter(df1, x=\"DrbPG\", y=\"Cr C/A\", text=\"Name\", log_x=False, size_max=60)\n",
    "fig.update_traces(textposition='top center')\n",
    "fig.update_layout(\n",
    "    height=500,\n",
    "   )\n",
    "for template in [\"plotly_dark\"]:\n",
    "    fig.update_layout(template=template, title=\"Wing Back - Support\")\n",
    "fig.show()\n"
   ]
  },
  {
   "cell_type": "code",
   "execution_count": 34,
   "metadata": {},
   "outputs": [
    {
     "name": "stdout",
     "output_type": "stream",
     "text": [
      "Central Defender\n"
     ]
    },
    {
     "data": {
      "text/html": [
       "<style  type=\"text/css\" >\n",
       "    #T_b95a3a91_92c7_11ea_b087_10bf483492darow0_col1 {\n",
       "            background-color:  #084f99;\n",
       "            color:  #f1f1f1;\n",
       "        }    #T_b95a3a91_92c7_11ea_b087_10bf483492darow0_col2 {\n",
       "            background-color:  #539ecd;\n",
       "            color:  #000000;\n",
       "        }    #T_b95a3a91_92c7_11ea_b087_10bf483492darow0_col3 {\n",
       "            background-color:  #0b559f;\n",
       "            color:  #f1f1f1;\n",
       "        }    #T_b95a3a91_92c7_11ea_b087_10bf483492darow0_col4 {\n",
       "            background-color:  #08306b;\n",
       "            color:  #f1f1f1;\n",
       "        }    #T_b95a3a91_92c7_11ea_b087_10bf483492darow0_col5 {\n",
       "            background-color:  #1764ab;\n",
       "            color:  #f1f1f1;\n",
       "        }    #T_b95a3a91_92c7_11ea_b087_10bf483492darow0_col6 {\n",
       "            background-color:  #abd0e6;\n",
       "            color:  #000000;\n",
       "        }    #T_b95a3a91_92c7_11ea_b087_10bf483492darow0_col7 {\n",
       "            background-color:  #c6dbef;\n",
       "            color:  #000000;\n",
       "        }    #T_b95a3a91_92c7_11ea_b087_10bf483492darow0_col8 {\n",
       "            background-color:  #08306b;\n",
       "            color:  #f1f1f1;\n",
       "        }    #T_b95a3a91_92c7_11ea_b087_10bf483492darow1_col1 {\n",
       "            background-color:  #084f99;\n",
       "            color:  #f1f1f1;\n",
       "        }    #T_b95a3a91_92c7_11ea_b087_10bf483492darow1_col2 {\n",
       "            background-color:  #08306b;\n",
       "            color:  #f1f1f1;\n",
       "        }    #T_b95a3a91_92c7_11ea_b087_10bf483492darow1_col3 {\n",
       "            background-color:  #89bedc;\n",
       "            color:  #000000;\n",
       "        }    #T_b95a3a91_92c7_11ea_b087_10bf483492darow1_col4 {\n",
       "            background-color:  #6aaed6;\n",
       "            color:  #000000;\n",
       "        }    #T_b95a3a91_92c7_11ea_b087_10bf483492darow1_col5 {\n",
       "            background-color:  #4a98c9;\n",
       "            color:  #000000;\n",
       "        }    #T_b95a3a91_92c7_11ea_b087_10bf483492darow1_col6 {\n",
       "            background-color:  #105ba4;\n",
       "            color:  #f1f1f1;\n",
       "        }    #T_b95a3a91_92c7_11ea_b087_10bf483492darow1_col7 {\n",
       "            background-color:  #2070b4;\n",
       "            color:  #f1f1f1;\n",
       "        }    #T_b95a3a91_92c7_11ea_b087_10bf483492darow1_col8 {\n",
       "            background-color:  #08306b;\n",
       "            color:  #f1f1f1;\n",
       "        }    #T_b95a3a91_92c7_11ea_b087_10bf483492darow2_col1 {\n",
       "            background-color:  #b8d5ea;\n",
       "            color:  #000000;\n",
       "        }    #T_b95a3a91_92c7_11ea_b087_10bf483492darow2_col2 {\n",
       "            background-color:  #08306b;\n",
       "            color:  #f1f1f1;\n",
       "        }    #T_b95a3a91_92c7_11ea_b087_10bf483492darow2_col3 {\n",
       "            background-color:  #2b7bba;\n",
       "            color:  #000000;\n",
       "        }    #T_b95a3a91_92c7_11ea_b087_10bf483492darow2_col4 {\n",
       "            background-color:  #6aaed6;\n",
       "            color:  #000000;\n",
       "        }    #T_b95a3a91_92c7_11ea_b087_10bf483492darow2_col5 {\n",
       "            background-color:  #08306b;\n",
       "            color:  #f1f1f1;\n",
       "        }    #T_b95a3a91_92c7_11ea_b087_10bf483492darow2_col6 {\n",
       "            background-color:  #d6e6f4;\n",
       "            color:  #000000;\n",
       "        }    #T_b95a3a91_92c7_11ea_b087_10bf483492darow2_col7 {\n",
       "            background-color:  #6aaed6;\n",
       "            color:  #000000;\n",
       "        }    #T_b95a3a91_92c7_11ea_b087_10bf483492darow2_col8 {\n",
       "            background-color:  #08468b;\n",
       "            color:  #f1f1f1;\n",
       "        }    #T_b95a3a91_92c7_11ea_b087_10bf483492darow3_col1 {\n",
       "            background-color:  #08306b;\n",
       "            color:  #f1f1f1;\n",
       "        }    #T_b95a3a91_92c7_11ea_b087_10bf483492darow3_col2 {\n",
       "            background-color:  #2b7bba;\n",
       "            color:  #000000;\n",
       "        }    #T_b95a3a91_92c7_11ea_b087_10bf483492darow3_col3 {\n",
       "            background-color:  #08306b;\n",
       "            color:  #f1f1f1;\n",
       "        }    #T_b95a3a91_92c7_11ea_b087_10bf483492darow3_col4 {\n",
       "            background-color:  #2070b4;\n",
       "            color:  #f1f1f1;\n",
       "        }    #T_b95a3a91_92c7_11ea_b087_10bf483492darow3_col5 {\n",
       "            background-color:  #08306b;\n",
       "            color:  #f1f1f1;\n",
       "        }    #T_b95a3a91_92c7_11ea_b087_10bf483492darow3_col6 {\n",
       "            background-color:  #f7fbff;\n",
       "            color:  #000000;\n",
       "        }    #T_b95a3a91_92c7_11ea_b087_10bf483492darow3_col7 {\n",
       "            background-color:  #f7fbff;\n",
       "            color:  #000000;\n",
       "        }    #T_b95a3a91_92c7_11ea_b087_10bf483492darow3_col8 {\n",
       "            background-color:  #105ba4;\n",
       "            color:  #f1f1f1;\n",
       "        }    #T_b95a3a91_92c7_11ea_b087_10bf483492darow4_col1 {\n",
       "            background-color:  #b8d5ea;\n",
       "            color:  #000000;\n",
       "        }    #T_b95a3a91_92c7_11ea_b087_10bf483492darow4_col2 {\n",
       "            background-color:  #539ecd;\n",
       "            color:  #000000;\n",
       "        }    #T_b95a3a91_92c7_11ea_b087_10bf483492darow4_col3 {\n",
       "            background-color:  #539ecd;\n",
       "            color:  #000000;\n",
       "        }    #T_b95a3a91_92c7_11ea_b087_10bf483492darow4_col4 {\n",
       "            background-color:  #9dcae1;\n",
       "            color:  #000000;\n",
       "        }    #T_b95a3a91_92c7_11ea_b087_10bf483492darow4_col5 {\n",
       "            background-color:  #1764ab;\n",
       "            color:  #f1f1f1;\n",
       "        }    #T_b95a3a91_92c7_11ea_b087_10bf483492darow4_col6 {\n",
       "            background-color:  #3787c0;\n",
       "            color:  #000000;\n",
       "        }    #T_b95a3a91_92c7_11ea_b087_10bf483492darow4_col7 {\n",
       "            background-color:  #08306b;\n",
       "            color:  #f1f1f1;\n",
       "        }    #T_b95a3a91_92c7_11ea_b087_10bf483492darow4_col8 {\n",
       "            background-color:  #105ba4;\n",
       "            color:  #f1f1f1;\n",
       "        }    #T_b95a3a91_92c7_11ea_b087_10bf483492darow5_col1 {\n",
       "            background-color:  #b8d5ea;\n",
       "            color:  #000000;\n",
       "        }    #T_b95a3a91_92c7_11ea_b087_10bf483492darow5_col2 {\n",
       "            background-color:  #08306b;\n",
       "            color:  #f1f1f1;\n",
       "        }    #T_b95a3a91_92c7_11ea_b087_10bf483492darow5_col3 {\n",
       "            background-color:  #bad6eb;\n",
       "            color:  #000000;\n",
       "        }    #T_b95a3a91_92c7_11ea_b087_10bf483492darow5_col4 {\n",
       "            background-color:  #4191c6;\n",
       "            color:  #000000;\n",
       "        }    #T_b95a3a91_92c7_11ea_b087_10bf483492darow5_col5 {\n",
       "            background-color:  #94c4df;\n",
       "            color:  #000000;\n",
       "        }    #T_b95a3a91_92c7_11ea_b087_10bf483492darow5_col6 {\n",
       "            background-color:  #6aaed6;\n",
       "            color:  #000000;\n",
       "        }    #T_b95a3a91_92c7_11ea_b087_10bf483492darow5_col7 {\n",
       "            background-color:  #c6dbef;\n",
       "            color:  #000000;\n",
       "        }    #T_b95a3a91_92c7_11ea_b087_10bf483492darow5_col8 {\n",
       "            background-color:  #4f9bcb;\n",
       "            color:  #000000;\n",
       "        }    #T_b95a3a91_92c7_11ea_b087_10bf483492darow6_col1 {\n",
       "            background-color:  #d4e4f4;\n",
       "            color:  #000000;\n",
       "        }    #T_b95a3a91_92c7_11ea_b087_10bf483492darow6_col2 {\n",
       "            background-color:  #bad6eb;\n",
       "            color:  #000000;\n",
       "        }    #T_b95a3a91_92c7_11ea_b087_10bf483492darow6_col3 {\n",
       "            background-color:  #bad6eb;\n",
       "            color:  #000000;\n",
       "        }    #T_b95a3a91_92c7_11ea_b087_10bf483492darow6_col4 {\n",
       "            background-color:  #2070b4;\n",
       "            color:  #f1f1f1;\n",
       "        }    #T_b95a3a91_92c7_11ea_b087_10bf483492darow6_col5 {\n",
       "            background-color:  #94c4df;\n",
       "            color:  #000000;\n",
       "        }    #T_b95a3a91_92c7_11ea_b087_10bf483492darow6_col6 {\n",
       "            background-color:  #d6e6f4;\n",
       "            color:  #000000;\n",
       "        }    #T_b95a3a91_92c7_11ea_b087_10bf483492darow6_col7 {\n",
       "            background-color:  #c6dbef;\n",
       "            color:  #000000;\n",
       "        }    #T_b95a3a91_92c7_11ea_b087_10bf483492darow6_col8 {\n",
       "            background-color:  #e7f0fa;\n",
       "            color:  #000000;\n",
       "        }    #T_b95a3a91_92c7_11ea_b087_10bf483492darow7_col1 {\n",
       "            background-color:  #ebf3fb;\n",
       "            color:  #000000;\n",
       "        }    #T_b95a3a91_92c7_11ea_b087_10bf483492darow7_col2 {\n",
       "            background-color:  #f7fbff;\n",
       "            color:  #000000;\n",
       "        }    #T_b95a3a91_92c7_11ea_b087_10bf483492darow7_col3 {\n",
       "            background-color:  #539ecd;\n",
       "            color:  #000000;\n",
       "        }    #T_b95a3a91_92c7_11ea_b087_10bf483492darow7_col4 {\n",
       "            background-color:  #4191c6;\n",
       "            color:  #000000;\n",
       "        }    #T_b95a3a91_92c7_11ea_b087_10bf483492darow7_col5 {\n",
       "            background-color:  #d0e1f2;\n",
       "            color:  #000000;\n",
       "        }    #T_b95a3a91_92c7_11ea_b087_10bf483492darow7_col6 {\n",
       "            background-color:  #f7fbff;\n",
       "            color:  #000000;\n",
       "        }    #T_b95a3a91_92c7_11ea_b087_10bf483492darow7_col7 {\n",
       "            background-color:  #08306b;\n",
       "            color:  #f1f1f1;\n",
       "        }    #T_b95a3a91_92c7_11ea_b087_10bf483492darow7_col8 {\n",
       "            background-color:  #e7f0fa;\n",
       "            color:  #000000;\n",
       "        }    #T_b95a3a91_92c7_11ea_b087_10bf483492darow8_col1 {\n",
       "            background-color:  #125ea6;\n",
       "            color:  #f1f1f1;\n",
       "        }    #T_b95a3a91_92c7_11ea_b087_10bf483492darow8_col2 {\n",
       "            background-color:  #539ecd;\n",
       "            color:  #000000;\n",
       "        }    #T_b95a3a91_92c7_11ea_b087_10bf483492darow8_col3 {\n",
       "            background-color:  #f7fbff;\n",
       "            color:  #000000;\n",
       "        }    #T_b95a3a91_92c7_11ea_b087_10bf483492darow8_col4 {\n",
       "            background-color:  #deebf7;\n",
       "            color:  #000000;\n",
       "        }    #T_b95a3a91_92c7_11ea_b087_10bf483492darow8_col5 {\n",
       "            background-color:  #4a98c9;\n",
       "            color:  #000000;\n",
       "        }    #T_b95a3a91_92c7_11ea_b087_10bf483492darow8_col6 {\n",
       "            background-color:  #d6e6f4;\n",
       "            color:  #000000;\n",
       "        }    #T_b95a3a91_92c7_11ea_b087_10bf483492darow8_col7 {\n",
       "            background-color:  #08306b;\n",
       "            color:  #f1f1f1;\n",
       "        }    #T_b95a3a91_92c7_11ea_b087_10bf483492darow8_col8 {\n",
       "            background-color:  #f7fbff;\n",
       "            color:  #000000;\n",
       "        }    #T_b95a3a91_92c7_11ea_b087_10bf483492darow9_col1 {\n",
       "            background-color:  #f7fbff;\n",
       "            color:  #000000;\n",
       "        }    #T_b95a3a91_92c7_11ea_b087_10bf483492darow9_col2 {\n",
       "            background-color:  #89bedc;\n",
       "            color:  #000000;\n",
       "        }    #T_b95a3a91_92c7_11ea_b087_10bf483492darow9_col3 {\n",
       "            background-color:  #539ecd;\n",
       "            color:  #000000;\n",
       "        }    #T_b95a3a91_92c7_11ea_b087_10bf483492darow9_col4 {\n",
       "            background-color:  #f7fbff;\n",
       "            color:  #000000;\n",
       "        }    #T_b95a3a91_92c7_11ea_b087_10bf483492darow9_col5 {\n",
       "            background-color:  #f7fbff;\n",
       "            color:  #000000;\n",
       "        }    #T_b95a3a91_92c7_11ea_b087_10bf483492darow9_col6 {\n",
       "            background-color:  #08306b;\n",
       "            color:  #f1f1f1;\n",
       "        }    #T_b95a3a91_92c7_11ea_b087_10bf483492darow9_col7 {\n",
       "            background-color:  #f7fbff;\n",
       "            color:  #000000;\n",
       "        }    #T_b95a3a91_92c7_11ea_b087_10bf483492darow9_col8 {\n",
       "            background-color:  #f7fbff;\n",
       "            color:  #000000;\n",
       "        }</style><table id=\"T_b95a3a91_92c7_11ea_b087_10bf483492da\" ><thead>    <tr>        <th class=\"col_heading level0 col0\" >Name</th>        <th class=\"col_heading level0 col1\" >Age</th>        <th class=\"col_heading level0 col2\" >Hea</th>        <th class=\"col_heading level0 col3\" >Mar</th>        <th class=\"col_heading level0 col4\" >Tck</th>        <th class=\"col_heading level0 col5\" >Pos</th>        <th class=\"col_heading level0 col6\" >Jum</th>        <th class=\"col_heading level0 col7\" >Str</th>        <th class=\"col_heading level0 col8\" >cd_score</th>    </tr></thead><tbody>\n",
       "                <tr>\n",
       "                                <td id=\"T_b95a3a91_92c7_11ea_b087_10bf483492darow0_col0\" class=\"data row0 col0\" >Sven Bender</td>\n",
       "                        <td id=\"T_b95a3a91_92c7_11ea_b087_10bf483492darow0_col1\" class=\"data row0 col1\" >                  33</td>\n",
       "                        <td id=\"T_b95a3a91_92c7_11ea_b087_10bf483492darow0_col2\" class=\"data row0 col2\" >11</td>\n",
       "                        <td id=\"T_b95a3a91_92c7_11ea_b087_10bf483492darow0_col3\" class=\"data row0 col3\" >15</td>\n",
       "                        <td id=\"T_b95a3a91_92c7_11ea_b087_10bf483492darow0_col4\" class=\"data row0 col4\" >17</td>\n",
       "                        <td id=\"T_b95a3a91_92c7_11ea_b087_10bf483492darow0_col5\" class=\"data row0 col5\" >14</td>\n",
       "                        <td id=\"T_b95a3a91_92c7_11ea_b087_10bf483492darow0_col6\" class=\"data row0 col6\" >11</td>\n",
       "                        <td id=\"T_b95a3a91_92c7_11ea_b087_10bf483492darow0_col7\" class=\"data row0 col7\" >10</td>\n",
       "                        <td id=\"T_b95a3a91_92c7_11ea_b087_10bf483492darow0_col8\" class=\"data row0 col8\" >78</td>\n",
       "            </tr>\n",
       "            <tr>\n",
       "                                <td id=\"T_b95a3a91_92c7_11ea_b087_10bf483492darow1_col0\" class=\"data row1 col0\" >Lucas Deaux</td>\n",
       "                        <td id=\"T_b95a3a91_92c7_11ea_b087_10bf483492darow1_col1\" class=\"data row1 col1\" >                  33</td>\n",
       "                        <td id=\"T_b95a3a91_92c7_11ea_b087_10bf483492darow1_col2\" class=\"data row1 col2\" >14</td>\n",
       "                        <td id=\"T_b95a3a91_92c7_11ea_b087_10bf483492darow1_col3\" class=\"data row1 col3\" >12</td>\n",
       "                        <td id=\"T_b95a3a91_92c7_11ea_b087_10bf483492darow1_col4\" class=\"data row1 col4\" >13</td>\n",
       "                        <td id=\"T_b95a3a91_92c7_11ea_b087_10bf483492darow1_col5\" class=\"data row1 col5\" >13</td>\n",
       "                        <td id=\"T_b95a3a91_92c7_11ea_b087_10bf483492darow1_col6\" class=\"data row1 col6\" >14</td>\n",
       "                        <td id=\"T_b95a3a91_92c7_11ea_b087_10bf483492darow1_col7\" class=\"data row1 col7\" >12</td>\n",
       "                        <td id=\"T_b95a3a91_92c7_11ea_b087_10bf483492darow1_col8\" class=\"data row1 col8\" >78</td>\n",
       "            </tr>\n",
       "            <tr>\n",
       "                                <td id=\"T_b95a3a91_92c7_11ea_b087_10bf483492darow2_col0\" class=\"data row2 col0\" >Gabriel Isik</td>\n",
       "                        <td id=\"T_b95a3a91_92c7_11ea_b087_10bf483492darow2_col1\" class=\"data row2 col1\" >                  23</td>\n",
       "                        <td id=\"T_b95a3a91_92c7_11ea_b087_10bf483492darow2_col2\" class=\"data row2 col2\" >14</td>\n",
       "                        <td id=\"T_b95a3a91_92c7_11ea_b087_10bf483492darow2_col3\" class=\"data row2 col3\" >14</td>\n",
       "                        <td id=\"T_b95a3a91_92c7_11ea_b087_10bf483492darow2_col4\" class=\"data row2 col4\" >13</td>\n",
       "                        <td id=\"T_b95a3a91_92c7_11ea_b087_10bf483492darow2_col5\" class=\"data row2 col5\" >15</td>\n",
       "                        <td id=\"T_b95a3a91_92c7_11ea_b087_10bf483492darow2_col6\" class=\"data row2 col6\" >10</td>\n",
       "                        <td id=\"T_b95a3a91_92c7_11ea_b087_10bf483492darow2_col7\" class=\"data row2 col7\" >11</td>\n",
       "                        <td id=\"T_b95a3a91_92c7_11ea_b087_10bf483492darow2_col8\" class=\"data row2 col8\" >77</td>\n",
       "            </tr>\n",
       "            <tr>\n",
       "                                <td id=\"T_b95a3a91_92c7_11ea_b087_10bf483492darow3_col0\" class=\"data row3 col0\" >Gary Medel</td>\n",
       "                        <td id=\"T_b95a3a91_92c7_11ea_b087_10bf483492darow3_col1\" class=\"data row3 col1\" >                  35</td>\n",
       "                        <td id=\"T_b95a3a91_92c7_11ea_b087_10bf483492darow3_col2\" class=\"data row3 col2\" >12</td>\n",
       "                        <td id=\"T_b95a3a91_92c7_11ea_b087_10bf483492darow3_col3\" class=\"data row3 col3\" >16</td>\n",
       "                        <td id=\"T_b95a3a91_92c7_11ea_b087_10bf483492darow3_col4\" class=\"data row3 col4\" >15</td>\n",
       "                        <td id=\"T_b95a3a91_92c7_11ea_b087_10bf483492darow3_col5\" class=\"data row3 col5\" >15</td>\n",
       "                        <td id=\"T_b95a3a91_92c7_11ea_b087_10bf483492darow3_col6\" class=\"data row3 col6\" >9</td>\n",
       "                        <td id=\"T_b95a3a91_92c7_11ea_b087_10bf483492darow3_col7\" class=\"data row3 col7\" >9</td>\n",
       "                        <td id=\"T_b95a3a91_92c7_11ea_b087_10bf483492darow3_col8\" class=\"data row3 col8\" >76</td>\n",
       "            </tr>\n",
       "            <tr>\n",
       "                                <td id=\"T_b95a3a91_92c7_11ea_b087_10bf483492darow4_col0\" class=\"data row4 col0\" >Julian Schwermann</td>\n",
       "                        <td id=\"T_b95a3a91_92c7_11ea_b087_10bf483492darow4_col1\" class=\"data row4 col1\" >                  23</td>\n",
       "                        <td id=\"T_b95a3a91_92c7_11ea_b087_10bf483492darow4_col2\" class=\"data row4 col2\" >11</td>\n",
       "                        <td id=\"T_b95a3a91_92c7_11ea_b087_10bf483492darow4_col3\" class=\"data row4 col3\" >13</td>\n",
       "                        <td id=\"T_b95a3a91_92c7_11ea_b087_10bf483492darow4_col4\" class=\"data row4 col4\" >12</td>\n",
       "                        <td id=\"T_b95a3a91_92c7_11ea_b087_10bf483492darow4_col5\" class=\"data row4 col5\" >14</td>\n",
       "                        <td id=\"T_b95a3a91_92c7_11ea_b087_10bf483492darow4_col6\" class=\"data row4 col6\" >13</td>\n",
       "                        <td id=\"T_b95a3a91_92c7_11ea_b087_10bf483492darow4_col7\" class=\"data row4 col7\" >13</td>\n",
       "                        <td id=\"T_b95a3a91_92c7_11ea_b087_10bf483492darow4_col8\" class=\"data row4 col8\" >76</td>\n",
       "            </tr>\n",
       "            <tr>\n",
       "                                <td id=\"T_b95a3a91_92c7_11ea_b087_10bf483492darow5_col0\" class=\"data row5 col0\" >Peter KÃ¶ster</td>\n",
       "                        <td id=\"T_b95a3a91_92c7_11ea_b087_10bf483492darow5_col1\" class=\"data row5 col1\" >                  23</td>\n",
       "                        <td id=\"T_b95a3a91_92c7_11ea_b087_10bf483492darow5_col2\" class=\"data row5 col2\" >14</td>\n",
       "                        <td id=\"T_b95a3a91_92c7_11ea_b087_10bf483492darow5_col3\" class=\"data row5 col3\" >11</td>\n",
       "                        <td id=\"T_b95a3a91_92c7_11ea_b087_10bf483492darow5_col4\" class=\"data row5 col4\" >14</td>\n",
       "                        <td id=\"T_b95a3a91_92c7_11ea_b087_10bf483492darow5_col5\" class=\"data row5 col5\" >12</td>\n",
       "                        <td id=\"T_b95a3a91_92c7_11ea_b087_10bf483492darow5_col6\" class=\"data row5 col6\" >12</td>\n",
       "                        <td id=\"T_b95a3a91_92c7_11ea_b087_10bf483492darow5_col7\" class=\"data row5 col7\" >10</td>\n",
       "                        <td id=\"T_b95a3a91_92c7_11ea_b087_10bf483492darow5_col8\" class=\"data row5 col8\" >73</td>\n",
       "            </tr>\n",
       "            <tr>\n",
       "                                <td id=\"T_b95a3a91_92c7_11ea_b087_10bf483492darow6_col0\" class=\"data row6 col0\" >Mert GÃ¶ckan</td>\n",
       "                        <td id=\"T_b95a3a91_92c7_11ea_b087_10bf483492darow6_col1\" class=\"data row6 col1\" >                  21</td>\n",
       "                        <td id=\"T_b95a3a91_92c7_11ea_b087_10bf483492darow6_col2\" class=\"data row6 col2\" >9</td>\n",
       "                        <td id=\"T_b95a3a91_92c7_11ea_b087_10bf483492darow6_col3\" class=\"data row6 col3\" >11</td>\n",
       "                        <td id=\"T_b95a3a91_92c7_11ea_b087_10bf483492darow6_col4\" class=\"data row6 col4\" >15</td>\n",
       "                        <td id=\"T_b95a3a91_92c7_11ea_b087_10bf483492darow6_col5\" class=\"data row6 col5\" >12</td>\n",
       "                        <td id=\"T_b95a3a91_92c7_11ea_b087_10bf483492darow6_col6\" class=\"data row6 col6\" >10</td>\n",
       "                        <td id=\"T_b95a3a91_92c7_11ea_b087_10bf483492darow6_col7\" class=\"data row6 col7\" >10</td>\n",
       "                        <td id=\"T_b95a3a91_92c7_11ea_b087_10bf483492darow6_col8\" class=\"data row6 col8\" >67</td>\n",
       "            </tr>\n",
       "            <tr>\n",
       "                                <td id=\"T_b95a3a91_92c7_11ea_b087_10bf483492darow7_col0\" class=\"data row7 col0\" >Abdoulaye Niang</td>\n",
       "                        <td id=\"T_b95a3a91_92c7_11ea_b087_10bf483492darow7_col1\" class=\"data row7 col1\" >                  19</td>\n",
       "                        <td id=\"T_b95a3a91_92c7_11ea_b087_10bf483492darow7_col2\" class=\"data row7 col2\" >7</td>\n",
       "                        <td id=\"T_b95a3a91_92c7_11ea_b087_10bf483492darow7_col3\" class=\"data row7 col3\" >13</td>\n",
       "                        <td id=\"T_b95a3a91_92c7_11ea_b087_10bf483492darow7_col4\" class=\"data row7 col4\" >14</td>\n",
       "                        <td id=\"T_b95a3a91_92c7_11ea_b087_10bf483492darow7_col5\" class=\"data row7 col5\" >11</td>\n",
       "                        <td id=\"T_b95a3a91_92c7_11ea_b087_10bf483492darow7_col6\" class=\"data row7 col6\" >9</td>\n",
       "                        <td id=\"T_b95a3a91_92c7_11ea_b087_10bf483492darow7_col7\" class=\"data row7 col7\" >13</td>\n",
       "                        <td id=\"T_b95a3a91_92c7_11ea_b087_10bf483492darow7_col8\" class=\"data row7 col8\" >67</td>\n",
       "            </tr>\n",
       "            <tr>\n",
       "                                <td id=\"T_b95a3a91_92c7_11ea_b087_10bf483492darow8_col0\" class=\"data row8 col0\" >Oliver Kragl</td>\n",
       "                        <td id=\"T_b95a3a91_92c7_11ea_b087_10bf483492darow8_col1\" class=\"data row8 col1\" >                  32</td>\n",
       "                        <td id=\"T_b95a3a91_92c7_11ea_b087_10bf483492darow8_col2\" class=\"data row8 col2\" >11</td>\n",
       "                        <td id=\"T_b95a3a91_92c7_11ea_b087_10bf483492darow8_col3\" class=\"data row8 col3\" >9</td>\n",
       "                        <td id=\"T_b95a3a91_92c7_11ea_b087_10bf483492darow8_col4\" class=\"data row8 col4\" >10</td>\n",
       "                        <td id=\"T_b95a3a91_92c7_11ea_b087_10bf483492darow8_col5\" class=\"data row8 col5\" >13</td>\n",
       "                        <td id=\"T_b95a3a91_92c7_11ea_b087_10bf483492darow8_col6\" class=\"data row8 col6\" >10</td>\n",
       "                        <td id=\"T_b95a3a91_92c7_11ea_b087_10bf483492darow8_col7\" class=\"data row8 col7\" >13</td>\n",
       "                        <td id=\"T_b95a3a91_92c7_11ea_b087_10bf483492darow8_col8\" class=\"data row8 col8\" >66</td>\n",
       "            </tr>\n",
       "            <tr>\n",
       "                                <td id=\"T_b95a3a91_92c7_11ea_b087_10bf483492darow9_col0\" class=\"data row9 col0\" >Felix Abeln</td>\n",
       "                        <td id=\"T_b95a3a91_92c7_11ea_b087_10bf483492darow9_col1\" class=\"data row9 col1\" >                  18</td>\n",
       "                        <td id=\"T_b95a3a91_92c7_11ea_b087_10bf483492darow9_col2\" class=\"data row9 col2\" >10</td>\n",
       "                        <td id=\"T_b95a3a91_92c7_11ea_b087_10bf483492darow9_col3\" class=\"data row9 col3\" >13</td>\n",
       "                        <td id=\"T_b95a3a91_92c7_11ea_b087_10bf483492darow9_col4\" class=\"data row9 col4\" >9</td>\n",
       "                        <td id=\"T_b95a3a91_92c7_11ea_b087_10bf483492darow9_col5\" class=\"data row9 col5\" >10</td>\n",
       "                        <td id=\"T_b95a3a91_92c7_11ea_b087_10bf483492darow9_col6\" class=\"data row9 col6\" >15</td>\n",
       "                        <td id=\"T_b95a3a91_92c7_11ea_b087_10bf483492darow9_col7\" class=\"data row9 col7\" >9</td>\n",
       "                        <td id=\"T_b95a3a91_92c7_11ea_b087_10bf483492darow9_col8\" class=\"data row9 col8\" >66</td>\n",
       "            </tr>\n",
       "    </tbody></table>"
      ],
      "text/plain": [
       "<pandas.io.formats.style.Styler at 0xc81aa90>"
      ]
     },
     "execution_count": 34,
     "metadata": {},
     "output_type": "execute_result"
    }
   ],
   "source": [
    "print(\"Central Defender\")\n",
    "sorted_cd = cd.sort_values(by='cd_score', ascending=False)\n",
    "sorted_cd.head(10).style.format({\"Age\": \"{:20,.0f}\", \n",
    "                          })\\\n",
    "                       .hide_index()\\\n",
    "                       .background_gradient(cmap='Blues')"
   ]
  },
  {
   "cell_type": "code",
   "execution_count": 35,
   "metadata": {},
   "outputs": [
    {
     "data": {
      "application/vnd.plotly.v1+json": {
       "config": {
        "plotlyServerURL": "https://plot.ly"
       },
       "data": [
        {
         "hovertemplate": "Hdrs W/90=%{x}<br>Int/90=%{y}<br>Name=%{text}<extra></extra>",
         "legendgroup": "",
         "marker": {
          "color": "#636efa",
          "symbol": "circle"
         },
         "mode": "markers+text",
         "name": "",
         "showlegend": false,
         "text": [
          "Luca Unbehaun",
          "Mert GÃ¶ckan",
          "Leon Vogel",
          "Sven Bender",
          "Efkan Bekiroglu",
          "Oliver Kragl",
          "Mike Fitzner",
          "Lucas Deaux",
          "Gary Medel",
          "Julian Schwermann",
          "Franck Evina",
          "Marco Hiller",
          "Noel Niemann",
          "Abdoulaye Niang",
          "Marvin Jung",
          "Gabriel Isik",
          "Shawn Hery",
          "Leon Klassen",
          "Fabian Greilinger",
          "Petr Dvorak",
          "Marko Basic",
          "Peter KÃ¶ster",
          "Rene Strehmel",
          "Sefer AygÃ¼n",
          "Ben SchÃ¤fer",
          "Andreas Ahlm",
          "Pawel Majewski",
          "Felix Abeln",
          "Sebastian Drichel",
          "David Hyam",
          "JosÃ© Batista",
          "Tobias Paula",
          "Fabian Feldhaus",
          "Martin MÃ¸rk",
          "Mahmut KoÃ§",
          "Markus Bahr",
          "Michael Benecke",
          "Peter Eze",
          "Christoph Sailer",
          "Tobias Riegger-Zingerle",
          "Daniel Haller",
          "NÃ©lson Ferreira"
         ],
         "textposition": "top center",
         "type": "scatter",
         "x": [
          "-",
          "3.39",
          "-",
          "4.25",
          "2.22",
          "3.32",
          "4.78",
          "2.91",
          "0.65",
          "1.48",
          "2.85",
          "-",
          "1.64",
          "1.06",
          "4.33",
          "3.17",
          "3.36",
          "1.05",
          "1.91",
          "-",
          "-",
          "2.25",
          "-",
          "1.41",
          "-",
          "-",
          "-",
          "-",
          "-",
          "-",
          "-",
          "-",
          "-",
          "-",
          "-",
          "-",
          "-",
          "-",
          "-",
          "-",
          "-",
          "-"
         ],
         "xaxis": "x",
         "y": [
          "-",
          "1.36",
          "-",
          "2.80",
          "0.74",
          "1.02",
          "0.71",
          "1.22",
          "0.57",
          "1.27",
          "1.48",
          "-",
          "0.72",
          "1.30",
          "2.68",
          "2.28",
          "0.86",
          "1.54",
          "0.42",
          "-",
          "-",
          "1.61",
          "-",
          "1.24",
          "-",
          "-",
          "-",
          "-",
          "-",
          "-",
          "-",
          "-",
          "-",
          "-",
          "-",
          "-",
          "-",
          "-",
          "-",
          "-",
          "-",
          "-"
         ],
         "yaxis": "y"
        }
       ],
       "layout": {
        "height": 500,
        "legend": {
         "tracegroupgap": 0
        },
        "margin": {
         "t": 60
        },
        "template": {
         "data": {
          "bar": [
           {
            "error_x": {
             "color": "#f2f5fa"
            },
            "error_y": {
             "color": "#f2f5fa"
            },
            "marker": {
             "line": {
              "color": "rgb(17,17,17)",
              "width": 0.5
             }
            },
            "type": "bar"
           }
          ],
          "barpolar": [
           {
            "marker": {
             "line": {
              "color": "rgb(17,17,17)",
              "width": 0.5
             }
            },
            "type": "barpolar"
           }
          ],
          "carpet": [
           {
            "aaxis": {
             "endlinecolor": "#A2B1C6",
             "gridcolor": "#506784",
             "linecolor": "#506784",
             "minorgridcolor": "#506784",
             "startlinecolor": "#A2B1C6"
            },
            "baxis": {
             "endlinecolor": "#A2B1C6",
             "gridcolor": "#506784",
             "linecolor": "#506784",
             "minorgridcolor": "#506784",
             "startlinecolor": "#A2B1C6"
            },
            "type": "carpet"
           }
          ],
          "choropleth": [
           {
            "colorbar": {
             "outlinewidth": 0,
             "ticks": ""
            },
            "type": "choropleth"
           }
          ],
          "contour": [
           {
            "colorbar": {
             "outlinewidth": 0,
             "ticks": ""
            },
            "colorscale": [
             [
              0,
              "#0d0887"
             ],
             [
              0.1111111111111111,
              "#46039f"
             ],
             [
              0.2222222222222222,
              "#7201a8"
             ],
             [
              0.3333333333333333,
              "#9c179e"
             ],
             [
              0.4444444444444444,
              "#bd3786"
             ],
             [
              0.5555555555555556,
              "#d8576b"
             ],
             [
              0.6666666666666666,
              "#ed7953"
             ],
             [
              0.7777777777777778,
              "#fb9f3a"
             ],
             [
              0.8888888888888888,
              "#fdca26"
             ],
             [
              1,
              "#f0f921"
             ]
            ],
            "type": "contour"
           }
          ],
          "contourcarpet": [
           {
            "colorbar": {
             "outlinewidth": 0,
             "ticks": ""
            },
            "type": "contourcarpet"
           }
          ],
          "heatmap": [
           {
            "colorbar": {
             "outlinewidth": 0,
             "ticks": ""
            },
            "colorscale": [
             [
              0,
              "#0d0887"
             ],
             [
              0.1111111111111111,
              "#46039f"
             ],
             [
              0.2222222222222222,
              "#7201a8"
             ],
             [
              0.3333333333333333,
              "#9c179e"
             ],
             [
              0.4444444444444444,
              "#bd3786"
             ],
             [
              0.5555555555555556,
              "#d8576b"
             ],
             [
              0.6666666666666666,
              "#ed7953"
             ],
             [
              0.7777777777777778,
              "#fb9f3a"
             ],
             [
              0.8888888888888888,
              "#fdca26"
             ],
             [
              1,
              "#f0f921"
             ]
            ],
            "type": "heatmap"
           }
          ],
          "heatmapgl": [
           {
            "colorbar": {
             "outlinewidth": 0,
             "ticks": ""
            },
            "colorscale": [
             [
              0,
              "#0d0887"
             ],
             [
              0.1111111111111111,
              "#46039f"
             ],
             [
              0.2222222222222222,
              "#7201a8"
             ],
             [
              0.3333333333333333,
              "#9c179e"
             ],
             [
              0.4444444444444444,
              "#bd3786"
             ],
             [
              0.5555555555555556,
              "#d8576b"
             ],
             [
              0.6666666666666666,
              "#ed7953"
             ],
             [
              0.7777777777777778,
              "#fb9f3a"
             ],
             [
              0.8888888888888888,
              "#fdca26"
             ],
             [
              1,
              "#f0f921"
             ]
            ],
            "type": "heatmapgl"
           }
          ],
          "histogram": [
           {
            "marker": {
             "colorbar": {
              "outlinewidth": 0,
              "ticks": ""
             }
            },
            "type": "histogram"
           }
          ],
          "histogram2d": [
           {
            "colorbar": {
             "outlinewidth": 0,
             "ticks": ""
            },
            "colorscale": [
             [
              0,
              "#0d0887"
             ],
             [
              0.1111111111111111,
              "#46039f"
             ],
             [
              0.2222222222222222,
              "#7201a8"
             ],
             [
              0.3333333333333333,
              "#9c179e"
             ],
             [
              0.4444444444444444,
              "#bd3786"
             ],
             [
              0.5555555555555556,
              "#d8576b"
             ],
             [
              0.6666666666666666,
              "#ed7953"
             ],
             [
              0.7777777777777778,
              "#fb9f3a"
             ],
             [
              0.8888888888888888,
              "#fdca26"
             ],
             [
              1,
              "#f0f921"
             ]
            ],
            "type": "histogram2d"
           }
          ],
          "histogram2dcontour": [
           {
            "colorbar": {
             "outlinewidth": 0,
             "ticks": ""
            },
            "colorscale": [
             [
              0,
              "#0d0887"
             ],
             [
              0.1111111111111111,
              "#46039f"
             ],
             [
              0.2222222222222222,
              "#7201a8"
             ],
             [
              0.3333333333333333,
              "#9c179e"
             ],
             [
              0.4444444444444444,
              "#bd3786"
             ],
             [
              0.5555555555555556,
              "#d8576b"
             ],
             [
              0.6666666666666666,
              "#ed7953"
             ],
             [
              0.7777777777777778,
              "#fb9f3a"
             ],
             [
              0.8888888888888888,
              "#fdca26"
             ],
             [
              1,
              "#f0f921"
             ]
            ],
            "type": "histogram2dcontour"
           }
          ],
          "mesh3d": [
           {
            "colorbar": {
             "outlinewidth": 0,
             "ticks": ""
            },
            "type": "mesh3d"
           }
          ],
          "parcoords": [
           {
            "line": {
             "colorbar": {
              "outlinewidth": 0,
              "ticks": ""
             }
            },
            "type": "parcoords"
           }
          ],
          "pie": [
           {
            "automargin": true,
            "type": "pie"
           }
          ],
          "scatter": [
           {
            "marker": {
             "line": {
              "color": "#283442"
             }
            },
            "type": "scatter"
           }
          ],
          "scatter3d": [
           {
            "line": {
             "colorbar": {
              "outlinewidth": 0,
              "ticks": ""
             }
            },
            "marker": {
             "colorbar": {
              "outlinewidth": 0,
              "ticks": ""
             }
            },
            "type": "scatter3d"
           }
          ],
          "scattercarpet": [
           {
            "marker": {
             "colorbar": {
              "outlinewidth": 0,
              "ticks": ""
             }
            },
            "type": "scattercarpet"
           }
          ],
          "scattergeo": [
           {
            "marker": {
             "colorbar": {
              "outlinewidth": 0,
              "ticks": ""
             }
            },
            "type": "scattergeo"
           }
          ],
          "scattergl": [
           {
            "marker": {
             "line": {
              "color": "#283442"
             }
            },
            "type": "scattergl"
           }
          ],
          "scattermapbox": [
           {
            "marker": {
             "colorbar": {
              "outlinewidth": 0,
              "ticks": ""
             }
            },
            "type": "scattermapbox"
           }
          ],
          "scatterpolar": [
           {
            "marker": {
             "colorbar": {
              "outlinewidth": 0,
              "ticks": ""
             }
            },
            "type": "scatterpolar"
           }
          ],
          "scatterpolargl": [
           {
            "marker": {
             "colorbar": {
              "outlinewidth": 0,
              "ticks": ""
             }
            },
            "type": "scatterpolargl"
           }
          ],
          "scatterternary": [
           {
            "marker": {
             "colorbar": {
              "outlinewidth": 0,
              "ticks": ""
             }
            },
            "type": "scatterternary"
           }
          ],
          "surface": [
           {
            "colorbar": {
             "outlinewidth": 0,
             "ticks": ""
            },
            "colorscale": [
             [
              0,
              "#0d0887"
             ],
             [
              0.1111111111111111,
              "#46039f"
             ],
             [
              0.2222222222222222,
              "#7201a8"
             ],
             [
              0.3333333333333333,
              "#9c179e"
             ],
             [
              0.4444444444444444,
              "#bd3786"
             ],
             [
              0.5555555555555556,
              "#d8576b"
             ],
             [
              0.6666666666666666,
              "#ed7953"
             ],
             [
              0.7777777777777778,
              "#fb9f3a"
             ],
             [
              0.8888888888888888,
              "#fdca26"
             ],
             [
              1,
              "#f0f921"
             ]
            ],
            "type": "surface"
           }
          ],
          "table": [
           {
            "cells": {
             "fill": {
              "color": "#506784"
             },
             "line": {
              "color": "rgb(17,17,17)"
             }
            },
            "header": {
             "fill": {
              "color": "#2a3f5f"
             },
             "line": {
              "color": "rgb(17,17,17)"
             }
            },
            "type": "table"
           }
          ]
         },
         "layout": {
          "annotationdefaults": {
           "arrowcolor": "#f2f5fa",
           "arrowhead": 0,
           "arrowwidth": 1
          },
          "coloraxis": {
           "colorbar": {
            "outlinewidth": 0,
            "ticks": ""
           }
          },
          "colorscale": {
           "diverging": [
            [
             0,
             "#8e0152"
            ],
            [
             0.1,
             "#c51b7d"
            ],
            [
             0.2,
             "#de77ae"
            ],
            [
             0.3,
             "#f1b6da"
            ],
            [
             0.4,
             "#fde0ef"
            ],
            [
             0.5,
             "#f7f7f7"
            ],
            [
             0.6,
             "#e6f5d0"
            ],
            [
             0.7,
             "#b8e186"
            ],
            [
             0.8,
             "#7fbc41"
            ],
            [
             0.9,
             "#4d9221"
            ],
            [
             1,
             "#276419"
            ]
           ],
           "sequential": [
            [
             0,
             "#0d0887"
            ],
            [
             0.1111111111111111,
             "#46039f"
            ],
            [
             0.2222222222222222,
             "#7201a8"
            ],
            [
             0.3333333333333333,
             "#9c179e"
            ],
            [
             0.4444444444444444,
             "#bd3786"
            ],
            [
             0.5555555555555556,
             "#d8576b"
            ],
            [
             0.6666666666666666,
             "#ed7953"
            ],
            [
             0.7777777777777778,
             "#fb9f3a"
            ],
            [
             0.8888888888888888,
             "#fdca26"
            ],
            [
             1,
             "#f0f921"
            ]
           ],
           "sequentialminus": [
            [
             0,
             "#0d0887"
            ],
            [
             0.1111111111111111,
             "#46039f"
            ],
            [
             0.2222222222222222,
             "#7201a8"
            ],
            [
             0.3333333333333333,
             "#9c179e"
            ],
            [
             0.4444444444444444,
             "#bd3786"
            ],
            [
             0.5555555555555556,
             "#d8576b"
            ],
            [
             0.6666666666666666,
             "#ed7953"
            ],
            [
             0.7777777777777778,
             "#fb9f3a"
            ],
            [
             0.8888888888888888,
             "#fdca26"
            ],
            [
             1,
             "#f0f921"
            ]
           ]
          },
          "colorway": [
           "#636efa",
           "#EF553B",
           "#00cc96",
           "#ab63fa",
           "#FFA15A",
           "#19d3f3",
           "#FF6692",
           "#B6E880",
           "#FF97FF",
           "#FECB52"
          ],
          "font": {
           "color": "#f2f5fa"
          },
          "geo": {
           "bgcolor": "rgb(17,17,17)",
           "lakecolor": "rgb(17,17,17)",
           "landcolor": "rgb(17,17,17)",
           "showlakes": true,
           "showland": true,
           "subunitcolor": "#506784"
          },
          "hoverlabel": {
           "align": "left"
          },
          "hovermode": "closest",
          "mapbox": {
           "style": "dark"
          },
          "paper_bgcolor": "rgb(17,17,17)",
          "plot_bgcolor": "rgb(17,17,17)",
          "polar": {
           "angularaxis": {
            "gridcolor": "#506784",
            "linecolor": "#506784",
            "ticks": ""
           },
           "bgcolor": "rgb(17,17,17)",
           "radialaxis": {
            "gridcolor": "#506784",
            "linecolor": "#506784",
            "ticks": ""
           }
          },
          "scene": {
           "xaxis": {
            "backgroundcolor": "rgb(17,17,17)",
            "gridcolor": "#506784",
            "gridwidth": 2,
            "linecolor": "#506784",
            "showbackground": true,
            "ticks": "",
            "zerolinecolor": "#C8D4E3"
           },
           "yaxis": {
            "backgroundcolor": "rgb(17,17,17)",
            "gridcolor": "#506784",
            "gridwidth": 2,
            "linecolor": "#506784",
            "showbackground": true,
            "ticks": "",
            "zerolinecolor": "#C8D4E3"
           },
           "zaxis": {
            "backgroundcolor": "rgb(17,17,17)",
            "gridcolor": "#506784",
            "gridwidth": 2,
            "linecolor": "#506784",
            "showbackground": true,
            "ticks": "",
            "zerolinecolor": "#C8D4E3"
           }
          },
          "shapedefaults": {
           "line": {
            "color": "#f2f5fa"
           }
          },
          "sliderdefaults": {
           "bgcolor": "#C8D4E3",
           "bordercolor": "rgb(17,17,17)",
           "borderwidth": 1,
           "tickwidth": 0
          },
          "ternary": {
           "aaxis": {
            "gridcolor": "#506784",
            "linecolor": "#506784",
            "ticks": ""
           },
           "baxis": {
            "gridcolor": "#506784",
            "linecolor": "#506784",
            "ticks": ""
           },
           "bgcolor": "rgb(17,17,17)",
           "caxis": {
            "gridcolor": "#506784",
            "linecolor": "#506784",
            "ticks": ""
           }
          },
          "title": {
           "x": 0.05
          },
          "updatemenudefaults": {
           "bgcolor": "#506784",
           "borderwidth": 0
          },
          "xaxis": {
           "automargin": true,
           "gridcolor": "#283442",
           "linecolor": "#506784",
           "ticks": "",
           "title": {
            "standoff": 15
           },
           "zerolinecolor": "#283442",
           "zerolinewidth": 2
          },
          "yaxis": {
           "automargin": true,
           "gridcolor": "#283442",
           "linecolor": "#506784",
           "ticks": "",
           "title": {
            "standoff": 15
           },
           "zerolinecolor": "#283442",
           "zerolinewidth": 2
          }
         }
        },
        "title": {
         "text": "Central Defender - Defend"
        },
        "xaxis": {
         "anchor": "y",
         "domain": [
          0,
          1
         ],
         "title": {
          "text": "Hdrs W/90"
         }
        },
        "yaxis": {
         "anchor": "x",
         "domain": [
          0,
          1
         ],
         "title": {
          "text": "Int/90"
         }
        }
       }
      },
      "text/html": [
       "<div>\n",
       "        \n",
       "        \n",
       "            <div id=\"c1f66cf0-852d-4001-a30d-a3f01d2a068f\" class=\"plotly-graph-div\" style=\"height:500px; width:100%;\"></div>\n",
       "            <script type=\"text/javascript\">\n",
       "                require([\"plotly\"], function(Plotly) {\n",
       "                    window.PLOTLYENV=window.PLOTLYENV || {};\n",
       "                    \n",
       "                if (document.getElementById(\"c1f66cf0-852d-4001-a30d-a3f01d2a068f\")) {\n",
       "                    Plotly.newPlot(\n",
       "                        'c1f66cf0-852d-4001-a30d-a3f01d2a068f',\n",
       "                        [{\"hovertemplate\": \"Hdrs W/90=%{x}<br>Int/90=%{y}<br>Name=%{text}<extra></extra>\", \"legendgroup\": \"\", \"marker\": {\"color\": \"#636efa\", \"symbol\": \"circle\"}, \"mode\": \"markers+text\", \"name\": \"\", \"showlegend\": false, \"text\": [\"Luca Unbehaun\", \"Mert G\\u00c3\\u00b6ckan\", \"Leon Vogel\", \"Sven Bender\", \"Efkan Bekiroglu\", \"Oliver Kragl\", \"Mike Fitzner\", \"Lucas Deaux\", \"Gary Medel\", \"Julian Schwermann\", \"Franck Evina\", \"Marco Hiller\", \"Noel Niemann\", \"Abdoulaye Niang\", \"Marvin Jung\", \"Gabriel Isik\", \"Shawn Hery\", \"Leon Klassen\", \"Fabian Greilinger\", \"Petr Dvorak\", \"Marko Basic\", \"Peter K\\u00c3\\u00b6ster\", \"Rene Strehmel\", \"Sefer Ayg\\u00c3\\u00bcn\", \"Ben Sch\\u00c3\\u00a4fer\", \"Andreas Ahlm\", \"Pawel Majewski\", \"Felix Abeln\", \"Sebastian Drichel\", \"David Hyam\", \"Jos\\u00c3\\u00a9 Batista\", \"Tobias Paula\", \"Fabian Feldhaus\", \"Martin M\\u00c3\\u00b8rk\", \"Mahmut Ko\\u00c3\\u00a7\", \"Markus Bahr\", \"Michael Benecke\", \"Peter Eze\", \"Christoph Sailer\", \"Tobias Riegger-Zingerle\", \"Daniel Haller\", \"N\\u00c3\\u00a9lson Ferreira\"], \"textposition\": \"top center\", \"type\": \"scatter\", \"x\": [\"-\", \"3.39\", \"-\", \"4.25\", \"2.22\", \"3.32\", \"4.78\", \"2.91\", \"0.65\", \"1.48\", \"2.85\", \"-\", \"1.64\", \"1.06\", \"4.33\", \"3.17\", \"3.36\", \"1.05\", \"1.91\", \"-\", \"-\", \"2.25\", \"-\", \"1.41\", \"-\", \"-\", \"-\", \"-\", \"-\", \"-\", \"-\", \"-\", \"-\", \"-\", \"-\", \"-\", \"-\", \"-\", \"-\", \"-\", \"-\", \"-\"], \"xaxis\": \"x\", \"y\": [\"-\", \"1.36\", \"-\", \"2.80\", \"0.74\", \"1.02\", \"0.71\", \"1.22\", \"0.57\", \"1.27\", \"1.48\", \"-\", \"0.72\", \"1.30\", \"2.68\", \"2.28\", \"0.86\", \"1.54\", \"0.42\", \"-\", \"-\", \"1.61\", \"-\", \"1.24\", \"-\", \"-\", \"-\", \"-\", \"-\", \"-\", \"-\", \"-\", \"-\", \"-\", \"-\", \"-\", \"-\", \"-\", \"-\", \"-\", \"-\", \"-\"], \"yaxis\": \"y\"}],\n",
       "                        {\"height\": 500, \"legend\": {\"tracegroupgap\": 0}, \"margin\": {\"t\": 60}, \"template\": {\"data\": {\"bar\": [{\"error_x\": {\"color\": \"#f2f5fa\"}, \"error_y\": {\"color\": \"#f2f5fa\"}, \"marker\": {\"line\": {\"color\": \"rgb(17,17,17)\", \"width\": 0.5}}, \"type\": \"bar\"}], \"barpolar\": [{\"marker\": {\"line\": {\"color\": \"rgb(17,17,17)\", \"width\": 0.5}}, \"type\": \"barpolar\"}], \"carpet\": [{\"aaxis\": {\"endlinecolor\": \"#A2B1C6\", \"gridcolor\": \"#506784\", \"linecolor\": \"#506784\", \"minorgridcolor\": \"#506784\", \"startlinecolor\": \"#A2B1C6\"}, \"baxis\": {\"endlinecolor\": \"#A2B1C6\", \"gridcolor\": \"#506784\", \"linecolor\": \"#506784\", \"minorgridcolor\": \"#506784\", \"startlinecolor\": \"#A2B1C6\"}, \"type\": \"carpet\"}], \"choropleth\": [{\"colorbar\": {\"outlinewidth\": 0, \"ticks\": \"\"}, \"type\": \"choropleth\"}], \"contour\": [{\"colorbar\": {\"outlinewidth\": 0, \"ticks\": \"\"}, \"colorscale\": [[0.0, \"#0d0887\"], [0.1111111111111111, \"#46039f\"], [0.2222222222222222, \"#7201a8\"], [0.3333333333333333, \"#9c179e\"], [0.4444444444444444, \"#bd3786\"], [0.5555555555555556, \"#d8576b\"], [0.6666666666666666, \"#ed7953\"], [0.7777777777777778, \"#fb9f3a\"], [0.8888888888888888, \"#fdca26\"], [1.0, \"#f0f921\"]], \"type\": \"contour\"}], \"contourcarpet\": [{\"colorbar\": {\"outlinewidth\": 0, \"ticks\": \"\"}, \"type\": \"contourcarpet\"}], \"heatmap\": [{\"colorbar\": {\"outlinewidth\": 0, \"ticks\": \"\"}, \"colorscale\": [[0.0, \"#0d0887\"], [0.1111111111111111, \"#46039f\"], [0.2222222222222222, \"#7201a8\"], [0.3333333333333333, \"#9c179e\"], [0.4444444444444444, \"#bd3786\"], [0.5555555555555556, \"#d8576b\"], [0.6666666666666666, \"#ed7953\"], [0.7777777777777778, \"#fb9f3a\"], [0.8888888888888888, \"#fdca26\"], [1.0, \"#f0f921\"]], \"type\": \"heatmap\"}], \"heatmapgl\": [{\"colorbar\": {\"outlinewidth\": 0, \"ticks\": \"\"}, \"colorscale\": [[0.0, \"#0d0887\"], [0.1111111111111111, \"#46039f\"], [0.2222222222222222, \"#7201a8\"], [0.3333333333333333, \"#9c179e\"], [0.4444444444444444, \"#bd3786\"], [0.5555555555555556, \"#d8576b\"], [0.6666666666666666, \"#ed7953\"], [0.7777777777777778, \"#fb9f3a\"], [0.8888888888888888, \"#fdca26\"], [1.0, \"#f0f921\"]], \"type\": \"heatmapgl\"}], \"histogram\": [{\"marker\": {\"colorbar\": {\"outlinewidth\": 0, \"ticks\": \"\"}}, \"type\": \"histogram\"}], \"histogram2d\": [{\"colorbar\": {\"outlinewidth\": 0, \"ticks\": \"\"}, \"colorscale\": [[0.0, \"#0d0887\"], [0.1111111111111111, \"#46039f\"], [0.2222222222222222, \"#7201a8\"], [0.3333333333333333, \"#9c179e\"], [0.4444444444444444, \"#bd3786\"], [0.5555555555555556, \"#d8576b\"], [0.6666666666666666, \"#ed7953\"], [0.7777777777777778, \"#fb9f3a\"], [0.8888888888888888, \"#fdca26\"], [1.0, \"#f0f921\"]], \"type\": \"histogram2d\"}], \"histogram2dcontour\": [{\"colorbar\": {\"outlinewidth\": 0, \"ticks\": \"\"}, \"colorscale\": [[0.0, \"#0d0887\"], [0.1111111111111111, \"#46039f\"], [0.2222222222222222, \"#7201a8\"], [0.3333333333333333, \"#9c179e\"], [0.4444444444444444, \"#bd3786\"], [0.5555555555555556, \"#d8576b\"], [0.6666666666666666, \"#ed7953\"], [0.7777777777777778, \"#fb9f3a\"], [0.8888888888888888, \"#fdca26\"], [1.0, \"#f0f921\"]], \"type\": \"histogram2dcontour\"}], \"mesh3d\": [{\"colorbar\": {\"outlinewidth\": 0, \"ticks\": \"\"}, \"type\": \"mesh3d\"}], \"parcoords\": [{\"line\": {\"colorbar\": {\"outlinewidth\": 0, \"ticks\": \"\"}}, \"type\": \"parcoords\"}], \"pie\": [{\"automargin\": true, \"type\": \"pie\"}], \"scatter\": [{\"marker\": {\"line\": {\"color\": \"#283442\"}}, \"type\": \"scatter\"}], \"scatter3d\": [{\"line\": {\"colorbar\": {\"outlinewidth\": 0, \"ticks\": \"\"}}, \"marker\": {\"colorbar\": {\"outlinewidth\": 0, \"ticks\": \"\"}}, \"type\": \"scatter3d\"}], \"scattercarpet\": [{\"marker\": {\"colorbar\": {\"outlinewidth\": 0, \"ticks\": \"\"}}, \"type\": \"scattercarpet\"}], \"scattergeo\": [{\"marker\": {\"colorbar\": {\"outlinewidth\": 0, \"ticks\": \"\"}}, \"type\": \"scattergeo\"}], \"scattergl\": [{\"marker\": {\"line\": {\"color\": \"#283442\"}}, \"type\": \"scattergl\"}], \"scattermapbox\": [{\"marker\": {\"colorbar\": {\"outlinewidth\": 0, \"ticks\": \"\"}}, \"type\": \"scattermapbox\"}], \"scatterpolar\": [{\"marker\": {\"colorbar\": {\"outlinewidth\": 0, \"ticks\": \"\"}}, \"type\": \"scatterpolar\"}], \"scatterpolargl\": [{\"marker\": {\"colorbar\": {\"outlinewidth\": 0, \"ticks\": \"\"}}, \"type\": \"scatterpolargl\"}], \"scatterternary\": [{\"marker\": {\"colorbar\": {\"outlinewidth\": 0, \"ticks\": \"\"}}, \"type\": \"scatterternary\"}], \"surface\": [{\"colorbar\": {\"outlinewidth\": 0, \"ticks\": \"\"}, \"colorscale\": [[0.0, \"#0d0887\"], [0.1111111111111111, \"#46039f\"], [0.2222222222222222, \"#7201a8\"], [0.3333333333333333, \"#9c179e\"], [0.4444444444444444, \"#bd3786\"], [0.5555555555555556, \"#d8576b\"], [0.6666666666666666, \"#ed7953\"], [0.7777777777777778, \"#fb9f3a\"], [0.8888888888888888, \"#fdca26\"], [1.0, \"#f0f921\"]], \"type\": \"surface\"}], \"table\": [{\"cells\": {\"fill\": {\"color\": \"#506784\"}, \"line\": {\"color\": \"rgb(17,17,17)\"}}, \"header\": {\"fill\": {\"color\": \"#2a3f5f\"}, \"line\": {\"color\": \"rgb(17,17,17)\"}}, \"type\": \"table\"}]}, \"layout\": {\"annotationdefaults\": {\"arrowcolor\": \"#f2f5fa\", \"arrowhead\": 0, \"arrowwidth\": 1}, \"coloraxis\": {\"colorbar\": {\"outlinewidth\": 0, \"ticks\": \"\"}}, \"colorscale\": {\"diverging\": [[0, \"#8e0152\"], [0.1, \"#c51b7d\"], [0.2, \"#de77ae\"], [0.3, \"#f1b6da\"], [0.4, \"#fde0ef\"], [0.5, \"#f7f7f7\"], [0.6, \"#e6f5d0\"], [0.7, \"#b8e186\"], [0.8, \"#7fbc41\"], [0.9, \"#4d9221\"], [1, \"#276419\"]], \"sequential\": [[0.0, \"#0d0887\"], [0.1111111111111111, \"#46039f\"], [0.2222222222222222, \"#7201a8\"], [0.3333333333333333, \"#9c179e\"], [0.4444444444444444, \"#bd3786\"], [0.5555555555555556, \"#d8576b\"], [0.6666666666666666, \"#ed7953\"], [0.7777777777777778, \"#fb9f3a\"], [0.8888888888888888, \"#fdca26\"], [1.0, \"#f0f921\"]], \"sequentialminus\": [[0.0, \"#0d0887\"], [0.1111111111111111, \"#46039f\"], [0.2222222222222222, \"#7201a8\"], [0.3333333333333333, \"#9c179e\"], [0.4444444444444444, \"#bd3786\"], [0.5555555555555556, \"#d8576b\"], [0.6666666666666666, \"#ed7953\"], [0.7777777777777778, \"#fb9f3a\"], [0.8888888888888888, \"#fdca26\"], [1.0, \"#f0f921\"]]}, \"colorway\": [\"#636efa\", \"#EF553B\", \"#00cc96\", \"#ab63fa\", \"#FFA15A\", \"#19d3f3\", \"#FF6692\", \"#B6E880\", \"#FF97FF\", \"#FECB52\"], \"font\": {\"color\": \"#f2f5fa\"}, \"geo\": {\"bgcolor\": \"rgb(17,17,17)\", \"lakecolor\": \"rgb(17,17,17)\", \"landcolor\": \"rgb(17,17,17)\", \"showlakes\": true, \"showland\": true, \"subunitcolor\": \"#506784\"}, \"hoverlabel\": {\"align\": \"left\"}, \"hovermode\": \"closest\", \"mapbox\": {\"style\": \"dark\"}, \"paper_bgcolor\": \"rgb(17,17,17)\", \"plot_bgcolor\": \"rgb(17,17,17)\", \"polar\": {\"angularaxis\": {\"gridcolor\": \"#506784\", \"linecolor\": \"#506784\", \"ticks\": \"\"}, \"bgcolor\": \"rgb(17,17,17)\", \"radialaxis\": {\"gridcolor\": \"#506784\", \"linecolor\": \"#506784\", \"ticks\": \"\"}}, \"scene\": {\"xaxis\": {\"backgroundcolor\": \"rgb(17,17,17)\", \"gridcolor\": \"#506784\", \"gridwidth\": 2, \"linecolor\": \"#506784\", \"showbackground\": true, \"ticks\": \"\", \"zerolinecolor\": \"#C8D4E3\"}, \"yaxis\": {\"backgroundcolor\": \"rgb(17,17,17)\", \"gridcolor\": \"#506784\", \"gridwidth\": 2, \"linecolor\": \"#506784\", \"showbackground\": true, \"ticks\": \"\", \"zerolinecolor\": \"#C8D4E3\"}, \"zaxis\": {\"backgroundcolor\": \"rgb(17,17,17)\", \"gridcolor\": \"#506784\", \"gridwidth\": 2, \"linecolor\": \"#506784\", \"showbackground\": true, \"ticks\": \"\", \"zerolinecolor\": \"#C8D4E3\"}}, \"shapedefaults\": {\"line\": {\"color\": \"#f2f5fa\"}}, \"sliderdefaults\": {\"bgcolor\": \"#C8D4E3\", \"bordercolor\": \"rgb(17,17,17)\", \"borderwidth\": 1, \"tickwidth\": 0}, \"ternary\": {\"aaxis\": {\"gridcolor\": \"#506784\", \"linecolor\": \"#506784\", \"ticks\": \"\"}, \"baxis\": {\"gridcolor\": \"#506784\", \"linecolor\": \"#506784\", \"ticks\": \"\"}, \"bgcolor\": \"rgb(17,17,17)\", \"caxis\": {\"gridcolor\": \"#506784\", \"linecolor\": \"#506784\", \"ticks\": \"\"}}, \"title\": {\"x\": 0.05}, \"updatemenudefaults\": {\"bgcolor\": \"#506784\", \"borderwidth\": 0}, \"xaxis\": {\"automargin\": true, \"gridcolor\": \"#283442\", \"linecolor\": \"#506784\", \"ticks\": \"\", \"title\": {\"standoff\": 15}, \"zerolinecolor\": \"#283442\", \"zerolinewidth\": 2}, \"yaxis\": {\"automargin\": true, \"gridcolor\": \"#283442\", \"linecolor\": \"#506784\", \"ticks\": \"\", \"title\": {\"standoff\": 15}, \"zerolinecolor\": \"#283442\", \"zerolinewidth\": 2}}}, \"title\": {\"text\": \"Central Defender - Defend\"}, \"xaxis\": {\"anchor\": \"y\", \"domain\": [0.0, 1.0], \"title\": {\"text\": \"Hdrs W/90\"}}, \"yaxis\": {\"anchor\": \"x\", \"domain\": [0.0, 1.0], \"title\": {\"text\": \"Int/90\"}}},\n",
       "                        {\"responsive\": true}\n",
       "                    ).then(function(){\n",
       "                            \n",
       "var gd = document.getElementById('c1f66cf0-852d-4001-a30d-a3f01d2a068f');\n",
       "var x = new MutationObserver(function (mutations, observer) {{\n",
       "        var display = window.getComputedStyle(gd).display;\n",
       "        if (!display || display === 'none') {{\n",
       "            console.log([gd, 'removed!']);\n",
       "            Plotly.purge(gd);\n",
       "            observer.disconnect();\n",
       "        }}\n",
       "}});\n",
       "\n",
       "// Listen for the removal of the full notebook cells\n",
       "var notebookContainer = gd.closest('#notebook-container');\n",
       "if (notebookContainer) {{\n",
       "    x.observe(notebookContainer, {childList: true});\n",
       "}}\n",
       "\n",
       "// Listen for the clearing of the current output cell\n",
       "var outputEl = gd.closest('.output');\n",
       "if (outputEl) {{\n",
       "    x.observe(outputEl, {childList: true});\n",
       "}}\n",
       "\n",
       "                        })\n",
       "                };\n",
       "                });\n",
       "            </script>\n",
       "        </div>"
      ]
     },
     "metadata": {},
     "output_type": "display_data"
    }
   ],
   "source": [
    "fig = px.scatter(df1, x=\"Hdrs W/90\", y=\"Int/90\", text=\"Name\", log_x=False, size_max=60)\n",
    "fig.update_traces(textposition='top center')\n",
    "fig.update_layout(\n",
    "    height=500,\n",
    "   )\n",
    "for template in [\"plotly_dark\"]:\n",
    "    fig.update_layout(template=template, title=\"Central Defender - Defend\")\n",
    "fig.show()\n"
   ]
  },
  {
   "cell_type": "code",
   "execution_count": 13,
   "metadata": {},
   "outputs": [
    {
     "name": "stdout",
     "output_type": "stream",
     "text": [
      "Defensive Midfielder\n"
     ]
    },
    {
     "data": {
      "text/html": [
       "<style  type=\"text/css\" >\n",
       "    #T_e29dd557_92c6_11ea_a821_10bf483492darow0_col1 {\n",
       "            background-color:  #d0e1f2;\n",
       "            color:  #000000;\n",
       "        }    #T_e29dd557_92c6_11ea_a821_10bf483492darow0_col2 {\n",
       "            background-color:  #6aaed6;\n",
       "            color:  #000000;\n",
       "        }    #T_e29dd557_92c6_11ea_a821_10bf483492darow0_col3 {\n",
       "            background-color:  #1764ab;\n",
       "            color:  #f1f1f1;\n",
       "        }    #T_e29dd557_92c6_11ea_a821_10bf483492darow0_col4 {\n",
       "            background-color:  #1764ab;\n",
       "            color:  #f1f1f1;\n",
       "        }    #T_e29dd557_92c6_11ea_a821_10bf483492darow0_col5 {\n",
       "            background-color:  #539ecd;\n",
       "            color:  #000000;\n",
       "        }    #T_e29dd557_92c6_11ea_a821_10bf483492darow0_col6 {\n",
       "            background-color:  #2070b4;\n",
       "            color:  #f1f1f1;\n",
       "        }    #T_e29dd557_92c6_11ea_a821_10bf483492darow0_col7 {\n",
       "            background-color:  #1764ab;\n",
       "            color:  #f1f1f1;\n",
       "        }    #T_e29dd557_92c6_11ea_a821_10bf483492darow0_col8 {\n",
       "            background-color:  #2070b4;\n",
       "            color:  #f1f1f1;\n",
       "        }    #T_e29dd557_92c6_11ea_a821_10bf483492darow0_col9 {\n",
       "            background-color:  #08306b;\n",
       "            color:  #f1f1f1;\n",
       "        }    #T_e29dd557_92c6_11ea_a821_10bf483492darow1_col1 {\n",
       "            background-color:  #f7fbff;\n",
       "            color:  #000000;\n",
       "        }    #T_e29dd557_92c6_11ea_a821_10bf483492darow1_col2 {\n",
       "            background-color:  #c6dbef;\n",
       "            color:  #000000;\n",
       "        }    #T_e29dd557_92c6_11ea_a821_10bf483492darow1_col3 {\n",
       "            background-color:  #1764ab;\n",
       "            color:  #f1f1f1;\n",
       "        }    #T_e29dd557_92c6_11ea_a821_10bf483492darow1_col4 {\n",
       "            background-color:  #d0e1f2;\n",
       "            color:  #000000;\n",
       "        }    #T_e29dd557_92c6_11ea_a821_10bf483492darow1_col5 {\n",
       "            background-color:  #f7fbff;\n",
       "            color:  #000000;\n",
       "        }    #T_e29dd557_92c6_11ea_a821_10bf483492darow1_col6 {\n",
       "            background-color:  #08509b;\n",
       "            color:  #f1f1f1;\n",
       "        }    #T_e29dd557_92c6_11ea_a821_10bf483492darow1_col7 {\n",
       "            background-color:  #1764ab;\n",
       "            color:  #f1f1f1;\n",
       "        }    #T_e29dd557_92c6_11ea_a821_10bf483492darow1_col8 {\n",
       "            background-color:  #08306b;\n",
       "            color:  #f1f1f1;\n",
       "        }    #T_e29dd557_92c6_11ea_a821_10bf483492darow1_col9 {\n",
       "            background-color:  #7db8da;\n",
       "            color:  #000000;\n",
       "        }    #T_e29dd557_92c6_11ea_a821_10bf483492darow2_col1 {\n",
       "            background-color:  #1764ab;\n",
       "            color:  #f1f1f1;\n",
       "        }    #T_e29dd557_92c6_11ea_a821_10bf483492darow2_col2 {\n",
       "            background-color:  #2070b4;\n",
       "            color:  #f1f1f1;\n",
       "        }    #T_e29dd557_92c6_11ea_a821_10bf483492darow2_col3 {\n",
       "            background-color:  #4a98c9;\n",
       "            color:  #000000;\n",
       "        }    #T_e29dd557_92c6_11ea_a821_10bf483492darow2_col4 {\n",
       "            background-color:  #94c4df;\n",
       "            color:  #000000;\n",
       "        }    #T_e29dd557_92c6_11ea_a821_10bf483492darow2_col5 {\n",
       "            background-color:  #2b7bba;\n",
       "            color:  #000000;\n",
       "        }    #T_e29dd557_92c6_11ea_a821_10bf483492darow2_col6 {\n",
       "            background-color:  #6aaed6;\n",
       "            color:  #000000;\n",
       "        }    #T_e29dd557_92c6_11ea_a821_10bf483492darow2_col7 {\n",
       "            background-color:  #94c4df;\n",
       "            color:  #000000;\n",
       "        }    #T_e29dd557_92c6_11ea_a821_10bf483492darow2_col8 {\n",
       "            background-color:  #c6dbef;\n",
       "            color:  #000000;\n",
       "        }    #T_e29dd557_92c6_11ea_a821_10bf483492darow2_col9 {\n",
       "            background-color:  #bfd8ed;\n",
       "            color:  #000000;\n",
       "        }    #T_e29dd557_92c6_11ea_a821_10bf483492darow3_col1 {\n",
       "            background-color:  #4a98c9;\n",
       "            color:  #000000;\n",
       "        }    #T_e29dd557_92c6_11ea_a821_10bf483492darow3_col2 {\n",
       "            background-color:  #c6dbef;\n",
       "            color:  #000000;\n",
       "        }    #T_e29dd557_92c6_11ea_a821_10bf483492darow3_col3 {\n",
       "            background-color:  #4a98c9;\n",
       "            color:  #000000;\n",
       "        }    #T_e29dd557_92c6_11ea_a821_10bf483492darow3_col4 {\n",
       "            background-color:  #94c4df;\n",
       "            color:  #000000;\n",
       "        }    #T_e29dd557_92c6_11ea_a821_10bf483492darow3_col5 {\n",
       "            background-color:  #539ecd;\n",
       "            color:  #000000;\n",
       "        }    #T_e29dd557_92c6_11ea_a821_10bf483492darow3_col6 {\n",
       "            background-color:  #4191c6;\n",
       "            color:  #000000;\n",
       "        }    #T_e29dd557_92c6_11ea_a821_10bf483492darow3_col7 {\n",
       "            background-color:  #94c4df;\n",
       "            color:  #000000;\n",
       "        }    #T_e29dd557_92c6_11ea_a821_10bf483492darow3_col8 {\n",
       "            background-color:  #6aaed6;\n",
       "            color:  #000000;\n",
       "        }    #T_e29dd557_92c6_11ea_a821_10bf483492darow3_col9 {\n",
       "            background-color:  #d3e4f3;\n",
       "            color:  #000000;\n",
       "        }    #T_e29dd557_92c6_11ea_a821_10bf483492darow4_col1 {\n",
       "            background-color:  #94c4df;\n",
       "            color:  #000000;\n",
       "        }    #T_e29dd557_92c6_11ea_a821_10bf483492darow4_col2 {\n",
       "            background-color:  #6aaed6;\n",
       "            color:  #000000;\n",
       "        }    #T_e29dd557_92c6_11ea_a821_10bf483492darow4_col3 {\n",
       "            background-color:  #08306b;\n",
       "            color:  #f1f1f1;\n",
       "        }    #T_e29dd557_92c6_11ea_a821_10bf483492darow4_col4 {\n",
       "            background-color:  #94c4df;\n",
       "            color:  #000000;\n",
       "        }    #T_e29dd557_92c6_11ea_a821_10bf483492darow4_col5 {\n",
       "            background-color:  #2b7bba;\n",
       "            color:  #000000;\n",
       "        }    #T_e29dd557_92c6_11ea_a821_10bf483492darow4_col6 {\n",
       "            background-color:  #deebf7;\n",
       "            color:  #000000;\n",
       "        }    #T_e29dd557_92c6_11ea_a821_10bf483492darow4_col7 {\n",
       "            background-color:  #d0e1f2;\n",
       "            color:  #000000;\n",
       "        }    #T_e29dd557_92c6_11ea_a821_10bf483492darow4_col8 {\n",
       "            background-color:  #c6dbef;\n",
       "            color:  #000000;\n",
       "        }    #T_e29dd557_92c6_11ea_a821_10bf483492darow4_col9 {\n",
       "            background-color:  #d3e4f3;\n",
       "            color:  #000000;\n",
       "        }    #T_e29dd557_92c6_11ea_a821_10bf483492darow5_col1 {\n",
       "            background-color:  #d0e1f2;\n",
       "            color:  #000000;\n",
       "        }    #T_e29dd557_92c6_11ea_a821_10bf483492darow5_col2 {\n",
       "            background-color:  #f7fbff;\n",
       "            color:  #000000;\n",
       "        }    #T_e29dd557_92c6_11ea_a821_10bf483492darow5_col3 {\n",
       "            background-color:  #4a98c9;\n",
       "            color:  #000000;\n",
       "        }    #T_e29dd557_92c6_11ea_a821_10bf483492darow5_col4 {\n",
       "            background-color:  #f7fbff;\n",
       "            color:  #000000;\n",
       "        }    #T_e29dd557_92c6_11ea_a821_10bf483492darow5_col5 {\n",
       "            background-color:  #89bedc;\n",
       "            color:  #000000;\n",
       "        }    #T_e29dd557_92c6_11ea_a821_10bf483492darow5_col6 {\n",
       "            background-color:  #08306b;\n",
       "            color:  #f1f1f1;\n",
       "        }    #T_e29dd557_92c6_11ea_a821_10bf483492darow5_col7 {\n",
       "            background-color:  #1764ab;\n",
       "            color:  #f1f1f1;\n",
       "        }    #T_e29dd557_92c6_11ea_a821_10bf483492darow5_col8 {\n",
       "            background-color:  #c6dbef;\n",
       "            color:  #000000;\n",
       "        }    #T_e29dd557_92c6_11ea_a821_10bf483492darow5_col9 {\n",
       "            background-color:  #d3e4f3;\n",
       "            color:  #000000;\n",
       "        }    #T_e29dd557_92c6_11ea_a821_10bf483492darow6_col1 {\n",
       "            background-color:  #1764ab;\n",
       "            color:  #f1f1f1;\n",
       "        }    #T_e29dd557_92c6_11ea_a821_10bf483492darow6_col2 {\n",
       "            background-color:  #08306b;\n",
       "            color:  #f1f1f1;\n",
       "        }    #T_e29dd557_92c6_11ea_a821_10bf483492darow6_col3 {\n",
       "            background-color:  #f7fbff;\n",
       "            color:  #000000;\n",
       "        }    #T_e29dd557_92c6_11ea_a821_10bf483492darow6_col4 {\n",
       "            background-color:  #d0e1f2;\n",
       "            color:  #000000;\n",
       "        }    #T_e29dd557_92c6_11ea_a821_10bf483492darow6_col5 {\n",
       "            background-color:  #539ecd;\n",
       "            color:  #000000;\n",
       "        }    #T_e29dd557_92c6_11ea_a821_10bf483492darow6_col6 {\n",
       "            background-color:  #2070b4;\n",
       "            color:  #f1f1f1;\n",
       "        }    #T_e29dd557_92c6_11ea_a821_10bf483492darow6_col7 {\n",
       "            background-color:  #08306b;\n",
       "            color:  #f1f1f1;\n",
       "        }    #T_e29dd557_92c6_11ea_a821_10bf483492darow6_col8 {\n",
       "            background-color:  #6aaed6;\n",
       "            color:  #000000;\n",
       "        }    #T_e29dd557_92c6_11ea_a821_10bf483492darow6_col9 {\n",
       "            background-color:  #d3e4f3;\n",
       "            color:  #000000;\n",
       "        }    #T_e29dd557_92c6_11ea_a821_10bf483492darow7_col1 {\n",
       "            background-color:  #08306b;\n",
       "            color:  #f1f1f1;\n",
       "        }    #T_e29dd557_92c6_11ea_a821_10bf483492darow7_col2 {\n",
       "            background-color:  #c6dbef;\n",
       "            color:  #000000;\n",
       "        }    #T_e29dd557_92c6_11ea_a821_10bf483492darow7_col3 {\n",
       "            background-color:  #4a98c9;\n",
       "            color:  #000000;\n",
       "        }    #T_e29dd557_92c6_11ea_a821_10bf483492darow7_col4 {\n",
       "            background-color:  #4a98c9;\n",
       "            color:  #000000;\n",
       "        }    #T_e29dd557_92c6_11ea_a821_10bf483492darow7_col5 {\n",
       "            background-color:  #2b7bba;\n",
       "            color:  #000000;\n",
       "        }    #T_e29dd557_92c6_11ea_a821_10bf483492darow7_col6 {\n",
       "            background-color:  #deebf7;\n",
       "            color:  #000000;\n",
       "        }    #T_e29dd557_92c6_11ea_a821_10bf483492darow7_col7 {\n",
       "            background-color:  #d0e1f2;\n",
       "            color:  #000000;\n",
       "        }    #T_e29dd557_92c6_11ea_a821_10bf483492darow7_col8 {\n",
       "            background-color:  #08306b;\n",
       "            color:  #f1f1f1;\n",
       "        }    #T_e29dd557_92c6_11ea_a821_10bf483492darow7_col9 {\n",
       "            background-color:  #e5eff9;\n",
       "            color:  #000000;\n",
       "        }    #T_e29dd557_92c6_11ea_a821_10bf483492darow8_col1 {\n",
       "            background-color:  #08306b;\n",
       "            color:  #f1f1f1;\n",
       "        }    #T_e29dd557_92c6_11ea_a821_10bf483492darow8_col2 {\n",
       "            background-color:  #6aaed6;\n",
       "            color:  #000000;\n",
       "        }    #T_e29dd557_92c6_11ea_a821_10bf483492darow8_col3 {\n",
       "            background-color:  #4a98c9;\n",
       "            color:  #000000;\n",
       "        }    #T_e29dd557_92c6_11ea_a821_10bf483492darow8_col4 {\n",
       "            background-color:  #4a98c9;\n",
       "            color:  #000000;\n",
       "        }    #T_e29dd557_92c6_11ea_a821_10bf483492darow8_col5 {\n",
       "            background-color:  #2b7bba;\n",
       "            color:  #000000;\n",
       "        }    #T_e29dd557_92c6_11ea_a821_10bf483492darow8_col6 {\n",
       "            background-color:  #deebf7;\n",
       "            color:  #000000;\n",
       "        }    #T_e29dd557_92c6_11ea_a821_10bf483492darow8_col7 {\n",
       "            background-color:  #f7fbff;\n",
       "            color:  #000000;\n",
       "        }    #T_e29dd557_92c6_11ea_a821_10bf483492darow8_col8 {\n",
       "            background-color:  #2070b4;\n",
       "            color:  #f1f1f1;\n",
       "        }    #T_e29dd557_92c6_11ea_a821_10bf483492darow8_col9 {\n",
       "            background-color:  #f7fbff;\n",
       "            color:  #000000;\n",
       "        }    #T_e29dd557_92c6_11ea_a821_10bf483492darow9_col1 {\n",
       "            background-color:  #f7fbff;\n",
       "            color:  #000000;\n",
       "        }    #T_e29dd557_92c6_11ea_a821_10bf483492darow9_col2 {\n",
       "            background-color:  #6aaed6;\n",
       "            color:  #000000;\n",
       "        }    #T_e29dd557_92c6_11ea_a821_10bf483492darow9_col3 {\n",
       "            background-color:  #6aaed6;\n",
       "            color:  #000000;\n",
       "        }    #T_e29dd557_92c6_11ea_a821_10bf483492darow9_col4 {\n",
       "            background-color:  #08306b;\n",
       "            color:  #f1f1f1;\n",
       "        }    #T_e29dd557_92c6_11ea_a821_10bf483492darow9_col5 {\n",
       "            background-color:  #08306b;\n",
       "            color:  #f1f1f1;\n",
       "        }    #T_e29dd557_92c6_11ea_a821_10bf483492darow9_col6 {\n",
       "            background-color:  #f7fbff;\n",
       "            color:  #000000;\n",
       "        }    #T_e29dd557_92c6_11ea_a821_10bf483492darow9_col7 {\n",
       "            background-color:  #d0e1f2;\n",
       "            color:  #000000;\n",
       "        }    #T_e29dd557_92c6_11ea_a821_10bf483492darow9_col8 {\n",
       "            background-color:  #f7fbff;\n",
       "            color:  #000000;\n",
       "        }    #T_e29dd557_92c6_11ea_a821_10bf483492darow9_col9 {\n",
       "            background-color:  #f7fbff;\n",
       "            color:  #000000;\n",
       "        }</style><table id=\"T_e29dd557_92c6_11ea_a821_10bf483492da\" ><thead>    <tr>        <th class=\"col_heading level0 col0\" >Name</th>        <th class=\"col_heading level0 col1\" >Age</th>        <th class=\"col_heading level0 col2\" >Tck</th>        <th class=\"col_heading level0 col3\" >Ant</th>        <th class=\"col_heading level0 col4\" >Cnt</th>        <th class=\"col_heading level0 col5\" >Pos</th>        <th class=\"col_heading level0 col6\" >Tea</th>        <th class=\"col_heading level0 col7\" >Wor</th>        <th class=\"col_heading level0 col8\" >Sta</th>        <th class=\"col_heading level0 col9\" >dm_score</th>    </tr></thead><tbody>\n",
       "                <tr>\n",
       "                                <td id=\"T_e29dd557_92c6_11ea_a821_10bf483492darow0_col0\" class=\"data row0 col0\" >Paul Mari</td>\n",
       "                        <td id=\"T_e29dd557_92c6_11ea_a821_10bf483492darow0_col1\" class=\"data row0 col1\" >                  19</td>\n",
       "                        <td id=\"T_e29dd557_92c6_11ea_a821_10bf483492darow0_col2\" class=\"data row0 col2\" >13</td>\n",
       "                        <td id=\"T_e29dd557_92c6_11ea_a821_10bf483492darow0_col3\" class=\"data row0 col3\" >13</td>\n",
       "                        <td id=\"T_e29dd557_92c6_11ea_a821_10bf483492darow0_col4\" class=\"data row0 col4\" >13</td>\n",
       "                        <td id=\"T_e29dd557_92c6_11ea_a821_10bf483492darow0_col5\" class=\"data row0 col5\" >12</td>\n",
       "                        <td id=\"T_e29dd557_92c6_11ea_a821_10bf483492darow0_col6\" class=\"data row0 col6\" >18</td>\n",
       "                        <td id=\"T_e29dd557_92c6_11ea_a821_10bf483492darow0_col7\" class=\"data row0 col7\" >16</td>\n",
       "                        <td id=\"T_e29dd557_92c6_11ea_a821_10bf483492darow0_col8\" class=\"data row0 col8\" >14</td>\n",
       "                        <td id=\"T_e29dd557_92c6_11ea_a821_10bf483492darow0_col9\" class=\"data row0 col9\" >99</td>\n",
       "            </tr>\n",
       "            <tr>\n",
       "                                <td id=\"T_e29dd557_92c6_11ea_a821_10bf483492darow1_col0\" class=\"data row1 col0\" >Daniel Piesio</td>\n",
       "                        <td id=\"T_e29dd557_92c6_11ea_a821_10bf483492darow1_col1\" class=\"data row1 col1\" >                  18</td>\n",
       "                        <td id=\"T_e29dd557_92c6_11ea_a821_10bf483492darow1_col2\" class=\"data row1 col2\" >12</td>\n",
       "                        <td id=\"T_e29dd557_92c6_11ea_a821_10bf483492darow1_col3\" class=\"data row1 col3\" >13</td>\n",
       "                        <td id=\"T_e29dd557_92c6_11ea_a821_10bf483492darow1_col4\" class=\"data row1 col4\" >10</td>\n",
       "                        <td id=\"T_e29dd557_92c6_11ea_a821_10bf483492darow1_col5\" class=\"data row1 col5\" >8</td>\n",
       "                        <td id=\"T_e29dd557_92c6_11ea_a821_10bf483492darow1_col6\" class=\"data row1 col6\" >19</td>\n",
       "                        <td id=\"T_e29dd557_92c6_11ea_a821_10bf483492darow1_col7\" class=\"data row1 col7\" >16</td>\n",
       "                        <td id=\"T_e29dd557_92c6_11ea_a821_10bf483492darow1_col8\" class=\"data row1 col8\" >15</td>\n",
       "                        <td id=\"T_e29dd557_92c6_11ea_a821_10bf483492darow1_col9\" class=\"data row1 col9\" >93</td>\n",
       "            </tr>\n",
       "            <tr>\n",
       "                                <td id=\"T_e29dd557_92c6_11ea_a821_10bf483492darow2_col0\" class=\"data row2 col0\" >Piotr Wujec</td>\n",
       "                        <td id=\"T_e29dd557_92c6_11ea_a821_10bf483492darow2_col1\" class=\"data row2 col1\" >                  22</td>\n",
       "                        <td id=\"T_e29dd557_92c6_11ea_a821_10bf483492darow2_col2\" class=\"data row2 col2\" >14</td>\n",
       "                        <td id=\"T_e29dd557_92c6_11ea_a821_10bf483492darow2_col3\" class=\"data row2 col3\" >11</td>\n",
       "                        <td id=\"T_e29dd557_92c6_11ea_a821_10bf483492darow2_col4\" class=\"data row2 col4\" >11</td>\n",
       "                        <td id=\"T_e29dd557_92c6_11ea_a821_10bf483492darow2_col5\" class=\"data row2 col5\" >13</td>\n",
       "                        <td id=\"T_e29dd557_92c6_11ea_a821_10bf483492darow2_col6\" class=\"data row2 col6\" >16</td>\n",
       "                        <td id=\"T_e29dd557_92c6_11ea_a821_10bf483492darow2_col7\" class=\"data row2 col7\" >14</td>\n",
       "                        <td id=\"T_e29dd557_92c6_11ea_a821_10bf483492darow2_col8\" class=\"data row2 col8\" >12</td>\n",
       "                        <td id=\"T_e29dd557_92c6_11ea_a821_10bf483492darow2_col9\" class=\"data row2 col9\" >91</td>\n",
       "            </tr>\n",
       "            <tr>\n",
       "                                <td id=\"T_e29dd557_92c6_11ea_a821_10bf483492darow3_col0\" class=\"data row3 col0\" >Yuri Sprandel Flores</td>\n",
       "                        <td id=\"T_e29dd557_92c6_11ea_a821_10bf483492darow3_col1\" class=\"data row3 col1\" >                  21</td>\n",
       "                        <td id=\"T_e29dd557_92c6_11ea_a821_10bf483492darow3_col2\" class=\"data row3 col2\" >12</td>\n",
       "                        <td id=\"T_e29dd557_92c6_11ea_a821_10bf483492darow3_col3\" class=\"data row3 col3\" >11</td>\n",
       "                        <td id=\"T_e29dd557_92c6_11ea_a821_10bf483492darow3_col4\" class=\"data row3 col4\" >11</td>\n",
       "                        <td id=\"T_e29dd557_92c6_11ea_a821_10bf483492darow3_col5\" class=\"data row3 col5\" >12</td>\n",
       "                        <td id=\"T_e29dd557_92c6_11ea_a821_10bf483492darow3_col6\" class=\"data row3 col6\" >17</td>\n",
       "                        <td id=\"T_e29dd557_92c6_11ea_a821_10bf483492darow3_col7\" class=\"data row3 col7\" >14</td>\n",
       "                        <td id=\"T_e29dd557_92c6_11ea_a821_10bf483492darow3_col8\" class=\"data row3 col8\" >13</td>\n",
       "                        <td id=\"T_e29dd557_92c6_11ea_a821_10bf483492darow3_col9\" class=\"data row3 col9\" >90</td>\n",
       "            </tr>\n",
       "            <tr>\n",
       "                                <td id=\"T_e29dd557_92c6_11ea_a821_10bf483492darow4_col0\" class=\"data row4 col0\" >Kamal Bafounta</td>\n",
       "                        <td id=\"T_e29dd557_92c6_11ea_a821_10bf483492darow4_col1\" class=\"data row4 col1\" >                  20</td>\n",
       "                        <td id=\"T_e29dd557_92c6_11ea_a821_10bf483492darow4_col2\" class=\"data row4 col2\" >13</td>\n",
       "                        <td id=\"T_e29dd557_92c6_11ea_a821_10bf483492darow4_col3\" class=\"data row4 col3\" >15</td>\n",
       "                        <td id=\"T_e29dd557_92c6_11ea_a821_10bf483492darow4_col4\" class=\"data row4 col4\" >11</td>\n",
       "                        <td id=\"T_e29dd557_92c6_11ea_a821_10bf483492darow4_col5\" class=\"data row4 col5\" >13</td>\n",
       "                        <td id=\"T_e29dd557_92c6_11ea_a821_10bf483492darow4_col6\" class=\"data row4 col6\" >13</td>\n",
       "                        <td id=\"T_e29dd557_92c6_11ea_a821_10bf483492darow4_col7\" class=\"data row4 col7\" >13</td>\n",
       "                        <td id=\"T_e29dd557_92c6_11ea_a821_10bf483492darow4_col8\" class=\"data row4 col8\" >12</td>\n",
       "                        <td id=\"T_e29dd557_92c6_11ea_a821_10bf483492darow4_col9\" class=\"data row4 col9\" >90</td>\n",
       "            </tr>\n",
       "            <tr>\n",
       "                                <td id=\"T_e29dd557_92c6_11ea_a821_10bf483492darow5_col0\" class=\"data row5 col0\" >Daniel Hoyo-Kowalski</td>\n",
       "                        <td id=\"T_e29dd557_92c6_11ea_a821_10bf483492darow5_col1\" class=\"data row5 col1\" >                  19</td>\n",
       "                        <td id=\"T_e29dd557_92c6_11ea_a821_10bf483492darow5_col2\" class=\"data row5 col2\" >11</td>\n",
       "                        <td id=\"T_e29dd557_92c6_11ea_a821_10bf483492darow5_col3\" class=\"data row5 col3\" >11</td>\n",
       "                        <td id=\"T_e29dd557_92c6_11ea_a821_10bf483492darow5_col4\" class=\"data row5 col4\" >9</td>\n",
       "                        <td id=\"T_e29dd557_92c6_11ea_a821_10bf483492darow5_col5\" class=\"data row5 col5\" >11</td>\n",
       "                        <td id=\"T_e29dd557_92c6_11ea_a821_10bf483492darow5_col6\" class=\"data row5 col6\" >20</td>\n",
       "                        <td id=\"T_e29dd557_92c6_11ea_a821_10bf483492darow5_col7\" class=\"data row5 col7\" >16</td>\n",
       "                        <td id=\"T_e29dd557_92c6_11ea_a821_10bf483492darow5_col8\" class=\"data row5 col8\" >12</td>\n",
       "                        <td id=\"T_e29dd557_92c6_11ea_a821_10bf483492darow5_col9\" class=\"data row5 col9\" >90</td>\n",
       "            </tr>\n",
       "            <tr>\n",
       "                                <td id=\"T_e29dd557_92c6_11ea_a821_10bf483492darow6_col0\" class=\"data row6 col0\" >Michal Ozga</td>\n",
       "                        <td id=\"T_e29dd557_92c6_11ea_a821_10bf483492darow6_col1\" class=\"data row6 col1\" >                  22</td>\n",
       "                        <td id=\"T_e29dd557_92c6_11ea_a821_10bf483492darow6_col2\" class=\"data row6 col2\" >15</td>\n",
       "                        <td id=\"T_e29dd557_92c6_11ea_a821_10bf483492darow6_col3\" class=\"data row6 col3\" >5</td>\n",
       "                        <td id=\"T_e29dd557_92c6_11ea_a821_10bf483492darow6_col4\" class=\"data row6 col4\" >10</td>\n",
       "                        <td id=\"T_e29dd557_92c6_11ea_a821_10bf483492darow6_col5\" class=\"data row6 col5\" >12</td>\n",
       "                        <td id=\"T_e29dd557_92c6_11ea_a821_10bf483492darow6_col6\" class=\"data row6 col6\" >18</td>\n",
       "                        <td id=\"T_e29dd557_92c6_11ea_a821_10bf483492darow6_col7\" class=\"data row6 col7\" >17</td>\n",
       "                        <td id=\"T_e29dd557_92c6_11ea_a821_10bf483492darow6_col8\" class=\"data row6 col8\" >13</td>\n",
       "                        <td id=\"T_e29dd557_92c6_11ea_a821_10bf483492darow6_col9\" class=\"data row6 col9\" >90</td>\n",
       "            </tr>\n",
       "            <tr>\n",
       "                                <td id=\"T_e29dd557_92c6_11ea_a821_10bf483492darow7_col0\" class=\"data row7 col0\" >Michel StÃ¶cker</td>\n",
       "                        <td id=\"T_e29dd557_92c6_11ea_a821_10bf483492darow7_col1\" class=\"data row7 col1\" >                  23</td>\n",
       "                        <td id=\"T_e29dd557_92c6_11ea_a821_10bf483492darow7_col2\" class=\"data row7 col2\" >12</td>\n",
       "                        <td id=\"T_e29dd557_92c6_11ea_a821_10bf483492darow7_col3\" class=\"data row7 col3\" >11</td>\n",
       "                        <td id=\"T_e29dd557_92c6_11ea_a821_10bf483492darow7_col4\" class=\"data row7 col4\" >12</td>\n",
       "                        <td id=\"T_e29dd557_92c6_11ea_a821_10bf483492darow7_col5\" class=\"data row7 col5\" >13</td>\n",
       "                        <td id=\"T_e29dd557_92c6_11ea_a821_10bf483492darow7_col6\" class=\"data row7 col6\" >13</td>\n",
       "                        <td id=\"T_e29dd557_92c6_11ea_a821_10bf483492darow7_col7\" class=\"data row7 col7\" >13</td>\n",
       "                        <td id=\"T_e29dd557_92c6_11ea_a821_10bf483492darow7_col8\" class=\"data row7 col8\" >15</td>\n",
       "                        <td id=\"T_e29dd557_92c6_11ea_a821_10bf483492darow7_col9\" class=\"data row7 col9\" >89</td>\n",
       "            </tr>\n",
       "            <tr>\n",
       "                                <td id=\"T_e29dd557_92c6_11ea_a821_10bf483492darow8_col0\" class=\"data row8 col0\" >Jan Sobocinski</td>\n",
       "                        <td id=\"T_e29dd557_92c6_11ea_a821_10bf483492darow8_col1\" class=\"data row8 col1\" >                  23</td>\n",
       "                        <td id=\"T_e29dd557_92c6_11ea_a821_10bf483492darow8_col2\" class=\"data row8 col2\" >13</td>\n",
       "                        <td id=\"T_e29dd557_92c6_11ea_a821_10bf483492darow8_col3\" class=\"data row8 col3\" >11</td>\n",
       "                        <td id=\"T_e29dd557_92c6_11ea_a821_10bf483492darow8_col4\" class=\"data row8 col4\" >12</td>\n",
       "                        <td id=\"T_e29dd557_92c6_11ea_a821_10bf483492darow8_col5\" class=\"data row8 col5\" >13</td>\n",
       "                        <td id=\"T_e29dd557_92c6_11ea_a821_10bf483492darow8_col6\" class=\"data row8 col6\" >13</td>\n",
       "                        <td id=\"T_e29dd557_92c6_11ea_a821_10bf483492darow8_col7\" class=\"data row8 col7\" >12</td>\n",
       "                        <td id=\"T_e29dd557_92c6_11ea_a821_10bf483492darow8_col8\" class=\"data row8 col8\" >14</td>\n",
       "                        <td id=\"T_e29dd557_92c6_11ea_a821_10bf483492darow8_col9\" class=\"data row8 col9\" >88</td>\n",
       "            </tr>\n",
       "            <tr>\n",
       "                                <td id=\"T_e29dd557_92c6_11ea_a821_10bf483492darow9_col0\" class=\"data row9 col0\" >Szymon Kobeszko</td>\n",
       "                        <td id=\"T_e29dd557_92c6_11ea_a821_10bf483492darow9_col1\" class=\"data row9 col1\" >                  18</td>\n",
       "                        <td id=\"T_e29dd557_92c6_11ea_a821_10bf483492darow9_col2\" class=\"data row9 col2\" >13</td>\n",
       "                        <td id=\"T_e29dd557_92c6_11ea_a821_10bf483492darow9_col3\" class=\"data row9 col3\" >10</td>\n",
       "                        <td id=\"T_e29dd557_92c6_11ea_a821_10bf483492darow9_col4\" class=\"data row9 col4\" >14</td>\n",
       "                        <td id=\"T_e29dd557_92c6_11ea_a821_10bf483492darow9_col5\" class=\"data row9 col5\" >15</td>\n",
       "                        <td id=\"T_e29dd557_92c6_11ea_a821_10bf483492darow9_col6\" class=\"data row9 col6\" >12</td>\n",
       "                        <td id=\"T_e29dd557_92c6_11ea_a821_10bf483492darow9_col7\" class=\"data row9 col7\" >13</td>\n",
       "                        <td id=\"T_e29dd557_92c6_11ea_a821_10bf483492darow9_col8\" class=\"data row9 col8\" >11</td>\n",
       "                        <td id=\"T_e29dd557_92c6_11ea_a821_10bf483492darow9_col9\" class=\"data row9 col9\" >88</td>\n",
       "            </tr>\n",
       "    </tbody></table>"
      ],
      "text/plain": [
       "<pandas.io.formats.style.Styler at 0xdb84880>"
      ]
     },
     "execution_count": 13,
     "metadata": {},
     "output_type": "execute_result"
    }
   ],
   "source": [
    "print(\"Defensive Midfielder\")\n",
    "sorted_dm = dm.sort_values(by='dm_score', ascending=False)\n",
    "sorted_dm.head(10).style.format({\"Age\": \"{:20,.0f}\", \n",
    "                          })\\\n",
    "                       .hide_index()\\\n",
    "                       .background_gradient(cmap='Blues')"
   ]
  },
  {
   "cell_type": "code",
   "execution_count": 14,
   "metadata": {},
   "outputs": [
    {
     "data": {
      "application/vnd.plotly.v1+json": {
       "config": {
        "plotlyServerURL": "https://plot.ly"
       },
       "data": [
        {
         "hovertemplate": "Pas %=%{x}<br>Int/90=%{y}<br>Name=%{text}<extra></extra>",
         "legendgroup": "",
         "marker": {
          "color": "#636efa",
          "symbol": "circle"
         },
         "mode": "markers+text",
         "name": "",
         "showlegend": false,
         "text": [
          "Djibril DiakitÃ©",
          "JoÃ£o Tavares",
          "Matej Hudecek",
          "Adrian Rybak",
          "Oskar Repka",
          "Maciej Obodecki",
          "Ivo Kralj",
          "Bartosz Sobczyk",
          "Ivan Tomac",
          "Nikola Bogdanovski",
          "Stefan Velickovic",
          "Andrija Zakoc",
          "AurÃ©lien Nguiamba",
          "Flynn Downes",
          "Nikola Puzic",
          "Andjelo Kacavenda",
          "Tymoteusz Puchacz",
          "Felix Brunmayr",
          "Lennart Grill",
          "Josip Rakic",
          "Stefan Randjelovic",
          "Radoslaw Dzierbicki",
          "Alexandar Ubavic",
          "Veljko Jovkovic",
          "Mariano GÃ³mez",
          "David Bumberger",
          "Enrico Huss",
          "Mateo Jaksic",
          "Konrad Jozwicki",
          "Nikita Marusenko",
          "Djordje Jovanovic",
          "Filip Lisnic",
          "Dawid Szalas",
          "Vladimir Ilic",
          "Marcin Mackowiak",
          "Florin Codrean",
          "David Otto",
          "Stefan Golubovic",
          "Keanan Bennetts",
          "Andrej Vukas",
          "Jannik Tepe",
          "Mladen Devetak",
          "Tom Baack",
          "Jan Sobocinski",
          "TomÃ¡s Blanco",
          "Sinan Karweina",
          "Ben Williams",
          "Arkadiusz Zajaczkowski",
          "Miguel Reisinho",
          "Filp Ceko",
          "Michel StÃ¶cker",
          "JÃ©rÃ´me Deom",
          "Ranko Jokic",
          "Palko DÃ¡rdai",
          "Aleksander Tomasz",
          "Alex Vigo",
          "Daniel Bielica",
          "Marko Djira",
          "Norbert Walczak",
          "Boris Moltenis",
          "Julius Kade",
          "Goran Buljandric",
          "Jannis KÃ¼bler",
          "Aleksa Jovanovic",
          "Tomasz Owczarek",
          "David Wittkowski",
          "Konrad Zaklika",
          "Pawel Karbowinski",
          "Nicky Werner",
          "Julijan Popovic",
          "Nassim Boujellab",
          "Bartlomiej Gajda",
          "Nemanja Matijevic",
          "Marko Denic",
          "Robert Baar",
          "Tuta",
          "Dusan Jokovic",
          "Tomasz Dzida",
          "Aleksa Pejic",
          "Krsta Bojic",
          "Sikou NiakatÃ©",
          "Tomasz Makowski",
          "Sebastian Gwozdz",
          "Adrian Polanski",
          "Bryan Mbeumo",
          "Dorin Sirbu",
          "Elvis Novalic",
          "MickaÃ«l Cuisance",
          "Mateusz Madzia",
          "JesÃºs Vargas",
          "Marino Jedvaj",
          "Raphael Assibey-Mensah",
          "Lukasz Sztylka",
          "Zoran Zrnzevic",
          "Alex Krawiec",
          "Petar Melezovic",
          "Tomasz Kurek",
          "Danko Radic",
          "Paul Mensah",
          "Jordan Williams",
          "Mario Mustapic",
          "Nikola Trickovic",
          "Patrik Delic",
          "Maciej Famulak",
          "Wiktor Nahrebecki",
          "Barne Poggenberg",
          "Mirza Jasarevic",
          "Ratko Minic",
          "Semih Åahin",
          "Matej Santek",
          "Georgios Siadas",
          "Tyrese Campbell",
          "Martin Krizmanic",
          "Kacper Laskos",
          "Aleksa Milojevic",
          "Cheick DoucourÃ©",
          "Ivan Jakovljev",
          "Przemyslaw Zdybowicz",
          "Sven Botman",
          "Malik Karaahmet",
          "Lukas KrÃ¼ger",
          "Niclas Stierlin",
          "Mane Markovic",
          "Karol Czubak",
          "Ilija Dejanovic",
          "Pascal Hackethal",
          "Oleg Gorin",
          "Michal Zieba",
          "Miodrag Maljkovic",
          "Jakov Blagaic",
          "Harisson Marcelin",
          "Vice Bazdaric",
          "Daniel Liszka",
          "Jan Sieracki",
          "Jhonny Lucas",
          "Tymoteusz Klups",
          "Josip Sutalo",
          "Othman Boussaid",
          "Evert Linthorst",
          "Jusuf Gazibegovic",
          "Virgiliu Postolachi",
          "Luis GÃ¶rlich",
          "Andrej Ilic",
          "Daniel Haritonov",
          "Patryk Drabik",
          "Tom Dobek-Pietrowski",
          "Michal Mydlarz",
          "Cho Jeong-Hui",
          "Mohamed Loua",
          "Nemanja Zikic",
          "Emir Sejdovic",
          "Samuel Lengle",
          "Mateusz Duchowski",
          "Iliya Gruev",
          "Bartosz Borun",
          "Juraj Ljubic",
          "GonÃ§alo Rebelo",
          "Dominik Resetar",
          "Jurica Prsir",
          "Piotr Wujec",
          "Jan Majsterek",
          "Mitchel Bakker",
          "Kamil Piatkowski",
          "Michal Ozga",
          "Karol Turek",
          "Toni Karimovic",
          "Billy Crellin",
          "Konrad Sieracki",
          "Vando Luis",
          "Jan Los",
          "Jessic Ngankam",
          "Adam Borkowski",
          "Julian Rieckmann",
          "Luka Pavlak",
          "Robert Ion",
          "Linus RosenlÃ¶cher",
          "Eugen Telch",
          "Nicholas Wunsch",
          "Dawid Kisly",
          "Uros Miloradovic",
          "Alois Oroz",
          "Luca Bazzoli",
          "Ronan Darcy",
          "Yann-Aurel Bisseck",
          "Timo Bornemann",
          "Radivoj Bosic",
          "Jakov Katusa",
          "Kacper Jozefiak",
          "Szymon Mroczko",
          "Karol Struski",
          "Wojciech Kaminski",
          "Piotr Lisowski",
          "Daishawn Redan",
          "Kacper Smolinski",
          "Lukas SchÃ¶fl",
          "Mikolaj Labojko",
          "Jakub Karbownik",
          "Damir Magdic",
          "Karol Malec",
          "Patryk Wozniak",
          "Can Bozdogan",
          "Aleksander Paluszek",
          "Mario Cuic",
          "Dragoljub Savic",
          "Nathan Collins",
          "Dominik Pila",
          "Mihael Kupresak",
          "Manu KonÃ©",
          "Niels Hahn",
          "Tin Hrvoj",
          "Lucas Da Cunha",
          "Rahim Ibrahim",
          "Renato Josipovic",
          "Han-Noah Massengo",
          "Kacper Wiatrak",
          "Bartosz Kuzniarski",
          "Adrian Petk",
          "Fabian Tauchhammer",
          "Bartlomiej Mruk",
          "Jakub Rudek",
          "Jakub Swiecinski",
          "Jakub Nowakowski",
          "Kamil Dabrowski",
          "Yuri Sprandel Flores",
          "Stefan Radmanovac",
          "Kamal Bafounta",
          "Filip Marchwinski",
          "Kamil Lukoszek",
          "Jakub Niewiadomski",
          "Dominik Kedzior",
          "Joe Gelhardt",
          "Filip Sobiecki",
          "Fran Tomek",
          "Hubert Wasiewski",
          "Djordje Vasic",
          "Jakub Zima",
          "Damian Makuch",
          "Andrzej Kloda",
          "Stipe Biuk",
          "Mateusz Pienczak",
          "FIlip Brekalo",
          "Stefan Despotovski",
          "Jakub Kisiel",
          "Duje Skugor",
          "Martin Baturina",
          "Radoslaw Cielemecki",
          "Ariel Mosor",
          "Nikola Petkovic",
          "Nikodem Sujecki",
          "Ivan Mandic",
          "Stanislaw Loch",
          "Dario Grgic",
          "Wojciech Szybka",
          "Kacper Szmidt",
          "Vukasin Krstic",
          "Obrendo Doesburg",
          "Casper Elderman",
          "Predrag Jovic",
          "Daniel Hoyo-Kowalski",
          "Darijo Basic",
          "Wiktor Mosur",
          "Uros Mirkovic",
          "Marcos RodrÃ­guez",
          "Adrian Å¢apu",
          "Paul Mari",
          "Pawel Muzylowski",
          "Dragan Radovic",
          "Szymon Kobeszko",
          "Marcin Dabrowski",
          "Jorge Delgado",
          "Daniel Piesio",
          null
         ],
         "textposition": "top center",
         "type": "scatter",
         "x": [
          "64%",
          "66%",
          "68%",
          "71%",
          "71%",
          "61%",
          "71%",
          "69%",
          "70%",
          "70%",
          "76%",
          "68%",
          "80%",
          "83%",
          "69%",
          "77%",
          "71%",
          "68%",
          "48%",
          "68%",
          "43%",
          "69%",
          "67%",
          "64%",
          "71%",
          "74%",
          "73%",
          "68%",
          "76%",
          "75%",
          "65%",
          "72%",
          "57%",
          "70%",
          "75%",
          "74%",
          "65%",
          "61%",
          "64%",
          "57%",
          "62%",
          "73%",
          "88%",
          "82%",
          "64%",
          "64%",
          "72%",
          "71%",
          "75%",
          "64%",
          "74%",
          "63%",
          "69%",
          "68%",
          "74%",
          "72%",
          "44%",
          "76%",
          "61%",
          "78%",
          "91%",
          "61%",
          "70%",
          "74%",
          "70%",
          "65%",
          "72%",
          "63%",
          "61%",
          "70%",
          "71%",
          "74%",
          "61%",
          "70%",
          "67%",
          "84%",
          "75%",
          "66%",
          "76%",
          "66%",
          "77%",
          "82%",
          "73%",
          "64%",
          "65%",
          "68%",
          "77%",
          "80%",
          "66%",
          "66%",
          "72%",
          "70%",
          "66%",
          "67%",
          "61%",
          "70%",
          "63%",
          "64%",
          "66%",
          "71%",
          "42%",
          "79%",
          "68%",
          "74%",
          "72%",
          "67%",
          "64%",
          "68%",
          "68%",
          "76%",
          "71%",
          "66%",
          "68%",
          "78%",
          "47%",
          "77%",
          "72%",
          "60%",
          "76%",
          "58%",
          "68%",
          "73%",
          "44%",
          "62%",
          "65%",
          "71%",
          "68%",
          "72%",
          "64%",
          "71%",
          "71%",
          "47%",
          "68%",
          "70%",
          "75%",
          "70%",
          "74%",
          "68%",
          "72%",
          "69%",
          "57%",
          "70%",
          "64%",
          "70%",
          "70%",
          "69%",
          "69%",
          "66%",
          "82%",
          "73%",
          "74%",
          "71%",
          "73%",
          "78%",
          "69%",
          "71%",
          "68%",
          "63%",
          "72%",
          "70%",
          "69%",
          "73%",
          "75%",
          "70%",
          "69%",
          "65%",
          "58%",
          "72%",
          "68%",
          "65%",
          "65%",
          "66%",
          "79%",
          "71%",
          "65%",
          "66%",
          "69%",
          "59%",
          "72%",
          "77%",
          "68%",
          "73%",
          "74%",
          "76%",
          "61%",
          "64%",
          "65%",
          "71%",
          "66%",
          "68%",
          "77%",
          "72%",
          "66%",
          "71%",
          "71%",
          "72%",
          "66%",
          "67%",
          "63%",
          "70%",
          "74%",
          "71%",
          "72%",
          "73%",
          "78%",
          "73%",
          "63%",
          "69%",
          "72%",
          "69%",
          "72%",
          "70%",
          "51%",
          "77%",
          "69%",
          "61%",
          "76%",
          "73%",
          "72%",
          "75%",
          "72%",
          "70%",
          "65%",
          "71%",
          "68%",
          "80%",
          "74%",
          "62%",
          "67%",
          "63%",
          "55%",
          "70%",
          "78%",
          "48%",
          "74%",
          "76%",
          "69%",
          "68%",
          "72%",
          "73%",
          "73%",
          "70%",
          "71%",
          "57%",
          "70%",
          "67%",
          "75%",
          "76%",
          "51%",
          "46%",
          "71%",
          "71%",
          "75%",
          "72%",
          "73%",
          "75%",
          "73%",
          "72%",
          "68%",
          "72%",
          "64%",
          "62%",
          "70%",
          "68%",
          "77%",
          "71%",
          "67%",
          "75%",
          "70%",
          "73%",
          "72%",
          null
         ],
         "xaxis": "x",
         "y": [
          "0.07",
          "-",
          "2.47",
          "2.55",
          "3.02",
          "-",
          "4.56",
          "1.13",
          "3.32",
          "2.92",
          "2.30",
          "1.15",
          "2.63",
          "2.46",
          "3.40",
          "3.12",
          "3.17",
          "0.88",
          "-",
          "3.35",
          "-",
          "0.79",
          "-",
          "1.61",
          "1.72",
          "4.08",
          "1.83",
          "2.30",
          "1.50",
          "2.08",
          "1.39",
          "3.22",
          "1.21",
          "1.24",
          "2.77",
          "-",
          "1.19",
          "1.15",
          "1.18",
          "0.93",
          "1.24",
          "2.86",
          "2.78",
          "3.29",
          "0.85",
          "1.21",
          "3.08",
          "3.89",
          "1.59",
          "2.94",
          "3.82",
          "0.36",
          "2.67",
          "1.41",
          "-",
          "1.49",
          "-",
          "1.65",
          "-",
          "2.94",
          "1.10",
          "-",
          "3.70",
          "2.82",
          "1.62",
          "3.67",
          "2.35",
          "1.00",
          "0.92",
          "2.85",
          "1.56",
          "4.17",
          "0.80",
          "-",
          "1.32",
          "3.06",
          "2.66",
          "0.93",
          "2.47",
          "1.41",
          "4.28",
          "3.39",
          "-",
          "4.07",
          "0.98",
          "-",
          "2.57",
          "1.25",
          "3.88",
          "1.99",
          "-",
          "-",
          "1.49",
          "-",
          "1.10",
          "-",
          "0.92",
          "1.29",
          "0.96",
          "2.44",
          "-",
          "1.20",
          "-",
          "0.85",
          "3.53",
          "2.91",
          "0.84",
          "0.77",
          "2.90",
          "4.32",
          "3.67",
          "1.00",
          "2.58",
          "2.42",
          "-",
          "3.00",
          "-",
          "0.79",
          "2.76",
          "-",
          "1.49",
          "2.43",
          "-",
          "0.70",
          "-",
          "2.72",
          "2.65",
          "2.57",
          "0.88",
          "1.69",
          "0.38",
          "-",
          "1.95",
          "2.15",
          "3.53",
          "0.86",
          "3.43",
          "-",
          "0.91",
          "1.80",
          "-",
          "2.15",
          "1.03",
          "3.23",
          "0.67",
          "2.24",
          "3.21",
          "0.09",
          "3.74",
          "-",
          "2.04",
          "3.45",
          "1.19",
          "3.07",
          "1.33",
          "1.61",
          "0.17",
          "0.92",
          "2.10",
          "3.89",
          "2.05",
          "1.94",
          "3.59",
          "1.25",
          "3.60",
          "1.90",
          "-",
          "1.33",
          "0.21",
          "1.25",
          "1.18",
          "0.92",
          "4.07",
          "2.50",
          "2.16",
          "2.33",
          "-",
          "1.01",
          "1.70",
          "2.48",
          "3.61",
          "1.13",
          "0.47",
          "3.15",
          "0.96",
          "1.84",
          "0.97",
          "3.57",
          "1.76",
          "1.56",
          "3.84",
          "3.73",
          "1.86",
          "3.20",
          "-",
          "-",
          "0.73",
          "2.31",
          "0.93",
          "2.04",
          "2.25",
          "3.57",
          "5.09",
          "-",
          "2.76",
          "0.80",
          "1.53",
          "-",
          "-",
          "2.27",
          "-",
          "-",
          "-",
          "2.94",
          "-",
          "1.23",
          "3.73",
          "-",
          "4.61",
          "2.73",
          "2.92",
          "-",
          "0.87",
          "2.01",
          "1.33",
          "5.14",
          "1.29",
          "1.09",
          "1.91",
          "0.96",
          "0.19",
          "1.37",
          "3.21",
          "-",
          "0.80",
          "2.90",
          "4.38",
          "3.21",
          "0.99",
          "2.62",
          "3.02",
          "4.47",
          "1.65",
          "0.77",
          "0.85",
          "2.28",
          "4.00",
          "3.42",
          "-",
          "-",
          "1.06",
          "1.48",
          "4.07",
          "0.96",
          "4.23",
          "-",
          "3.21",
          "1.46",
          "3.61",
          "2.01",
          "1.07",
          "0.96",
          "1.37",
          "1.36",
          "3.14",
          "1.00",
          "1.76",
          "2.69",
          "1.72",
          "0.80",
          "3.25",
          null
         ],
         "yaxis": "y"
        }
       ],
       "layout": {
        "height": 500,
        "legend": {
         "tracegroupgap": 0
        },
        "margin": {
         "t": 60
        },
        "template": {
         "data": {
          "bar": [
           {
            "error_x": {
             "color": "#f2f5fa"
            },
            "error_y": {
             "color": "#f2f5fa"
            },
            "marker": {
             "line": {
              "color": "rgb(17,17,17)",
              "width": 0.5
             }
            },
            "type": "bar"
           }
          ],
          "barpolar": [
           {
            "marker": {
             "line": {
              "color": "rgb(17,17,17)",
              "width": 0.5
             }
            },
            "type": "barpolar"
           }
          ],
          "carpet": [
           {
            "aaxis": {
             "endlinecolor": "#A2B1C6",
             "gridcolor": "#506784",
             "linecolor": "#506784",
             "minorgridcolor": "#506784",
             "startlinecolor": "#A2B1C6"
            },
            "baxis": {
             "endlinecolor": "#A2B1C6",
             "gridcolor": "#506784",
             "linecolor": "#506784",
             "minorgridcolor": "#506784",
             "startlinecolor": "#A2B1C6"
            },
            "type": "carpet"
           }
          ],
          "choropleth": [
           {
            "colorbar": {
             "outlinewidth": 0,
             "ticks": ""
            },
            "type": "choropleth"
           }
          ],
          "contour": [
           {
            "colorbar": {
             "outlinewidth": 0,
             "ticks": ""
            },
            "colorscale": [
             [
              0,
              "#0d0887"
             ],
             [
              0.1111111111111111,
              "#46039f"
             ],
             [
              0.2222222222222222,
              "#7201a8"
             ],
             [
              0.3333333333333333,
              "#9c179e"
             ],
             [
              0.4444444444444444,
              "#bd3786"
             ],
             [
              0.5555555555555556,
              "#d8576b"
             ],
             [
              0.6666666666666666,
              "#ed7953"
             ],
             [
              0.7777777777777778,
              "#fb9f3a"
             ],
             [
              0.8888888888888888,
              "#fdca26"
             ],
             [
              1,
              "#f0f921"
             ]
            ],
            "type": "contour"
           }
          ],
          "contourcarpet": [
           {
            "colorbar": {
             "outlinewidth": 0,
             "ticks": ""
            },
            "type": "contourcarpet"
           }
          ],
          "heatmap": [
           {
            "colorbar": {
             "outlinewidth": 0,
             "ticks": ""
            },
            "colorscale": [
             [
              0,
              "#0d0887"
             ],
             [
              0.1111111111111111,
              "#46039f"
             ],
             [
              0.2222222222222222,
              "#7201a8"
             ],
             [
              0.3333333333333333,
              "#9c179e"
             ],
             [
              0.4444444444444444,
              "#bd3786"
             ],
             [
              0.5555555555555556,
              "#d8576b"
             ],
             [
              0.6666666666666666,
              "#ed7953"
             ],
             [
              0.7777777777777778,
              "#fb9f3a"
             ],
             [
              0.8888888888888888,
              "#fdca26"
             ],
             [
              1,
              "#f0f921"
             ]
            ],
            "type": "heatmap"
           }
          ],
          "heatmapgl": [
           {
            "colorbar": {
             "outlinewidth": 0,
             "ticks": ""
            },
            "colorscale": [
             [
              0,
              "#0d0887"
             ],
             [
              0.1111111111111111,
              "#46039f"
             ],
             [
              0.2222222222222222,
              "#7201a8"
             ],
             [
              0.3333333333333333,
              "#9c179e"
             ],
             [
              0.4444444444444444,
              "#bd3786"
             ],
             [
              0.5555555555555556,
              "#d8576b"
             ],
             [
              0.6666666666666666,
              "#ed7953"
             ],
             [
              0.7777777777777778,
              "#fb9f3a"
             ],
             [
              0.8888888888888888,
              "#fdca26"
             ],
             [
              1,
              "#f0f921"
             ]
            ],
            "type": "heatmapgl"
           }
          ],
          "histogram": [
           {
            "marker": {
             "colorbar": {
              "outlinewidth": 0,
              "ticks": ""
             }
            },
            "type": "histogram"
           }
          ],
          "histogram2d": [
           {
            "colorbar": {
             "outlinewidth": 0,
             "ticks": ""
            },
            "colorscale": [
             [
              0,
              "#0d0887"
             ],
             [
              0.1111111111111111,
              "#46039f"
             ],
             [
              0.2222222222222222,
              "#7201a8"
             ],
             [
              0.3333333333333333,
              "#9c179e"
             ],
             [
              0.4444444444444444,
              "#bd3786"
             ],
             [
              0.5555555555555556,
              "#d8576b"
             ],
             [
              0.6666666666666666,
              "#ed7953"
             ],
             [
              0.7777777777777778,
              "#fb9f3a"
             ],
             [
              0.8888888888888888,
              "#fdca26"
             ],
             [
              1,
              "#f0f921"
             ]
            ],
            "type": "histogram2d"
           }
          ],
          "histogram2dcontour": [
           {
            "colorbar": {
             "outlinewidth": 0,
             "ticks": ""
            },
            "colorscale": [
             [
              0,
              "#0d0887"
             ],
             [
              0.1111111111111111,
              "#46039f"
             ],
             [
              0.2222222222222222,
              "#7201a8"
             ],
             [
              0.3333333333333333,
              "#9c179e"
             ],
             [
              0.4444444444444444,
              "#bd3786"
             ],
             [
              0.5555555555555556,
              "#d8576b"
             ],
             [
              0.6666666666666666,
              "#ed7953"
             ],
             [
              0.7777777777777778,
              "#fb9f3a"
             ],
             [
              0.8888888888888888,
              "#fdca26"
             ],
             [
              1,
              "#f0f921"
             ]
            ],
            "type": "histogram2dcontour"
           }
          ],
          "mesh3d": [
           {
            "colorbar": {
             "outlinewidth": 0,
             "ticks": ""
            },
            "type": "mesh3d"
           }
          ],
          "parcoords": [
           {
            "line": {
             "colorbar": {
              "outlinewidth": 0,
              "ticks": ""
             }
            },
            "type": "parcoords"
           }
          ],
          "pie": [
           {
            "automargin": true,
            "type": "pie"
           }
          ],
          "scatter": [
           {
            "marker": {
             "line": {
              "color": "#283442"
             }
            },
            "type": "scatter"
           }
          ],
          "scatter3d": [
           {
            "line": {
             "colorbar": {
              "outlinewidth": 0,
              "ticks": ""
             }
            },
            "marker": {
             "colorbar": {
              "outlinewidth": 0,
              "ticks": ""
             }
            },
            "type": "scatter3d"
           }
          ],
          "scattercarpet": [
           {
            "marker": {
             "colorbar": {
              "outlinewidth": 0,
              "ticks": ""
             }
            },
            "type": "scattercarpet"
           }
          ],
          "scattergeo": [
           {
            "marker": {
             "colorbar": {
              "outlinewidth": 0,
              "ticks": ""
             }
            },
            "type": "scattergeo"
           }
          ],
          "scattergl": [
           {
            "marker": {
             "line": {
              "color": "#283442"
             }
            },
            "type": "scattergl"
           }
          ],
          "scattermapbox": [
           {
            "marker": {
             "colorbar": {
              "outlinewidth": 0,
              "ticks": ""
             }
            },
            "type": "scattermapbox"
           }
          ],
          "scatterpolar": [
           {
            "marker": {
             "colorbar": {
              "outlinewidth": 0,
              "ticks": ""
             }
            },
            "type": "scatterpolar"
           }
          ],
          "scatterpolargl": [
           {
            "marker": {
             "colorbar": {
              "outlinewidth": 0,
              "ticks": ""
             }
            },
            "type": "scatterpolargl"
           }
          ],
          "scatterternary": [
           {
            "marker": {
             "colorbar": {
              "outlinewidth": 0,
              "ticks": ""
             }
            },
            "type": "scatterternary"
           }
          ],
          "surface": [
           {
            "colorbar": {
             "outlinewidth": 0,
             "ticks": ""
            },
            "colorscale": [
             [
              0,
              "#0d0887"
             ],
             [
              0.1111111111111111,
              "#46039f"
             ],
             [
              0.2222222222222222,
              "#7201a8"
             ],
             [
              0.3333333333333333,
              "#9c179e"
             ],
             [
              0.4444444444444444,
              "#bd3786"
             ],
             [
              0.5555555555555556,
              "#d8576b"
             ],
             [
              0.6666666666666666,
              "#ed7953"
             ],
             [
              0.7777777777777778,
              "#fb9f3a"
             ],
             [
              0.8888888888888888,
              "#fdca26"
             ],
             [
              1,
              "#f0f921"
             ]
            ],
            "type": "surface"
           }
          ],
          "table": [
           {
            "cells": {
             "fill": {
              "color": "#506784"
             },
             "line": {
              "color": "rgb(17,17,17)"
             }
            },
            "header": {
             "fill": {
              "color": "#2a3f5f"
             },
             "line": {
              "color": "rgb(17,17,17)"
             }
            },
            "type": "table"
           }
          ]
         },
         "layout": {
          "annotationdefaults": {
           "arrowcolor": "#f2f5fa",
           "arrowhead": 0,
           "arrowwidth": 1
          },
          "coloraxis": {
           "colorbar": {
            "outlinewidth": 0,
            "ticks": ""
           }
          },
          "colorscale": {
           "diverging": [
            [
             0,
             "#8e0152"
            ],
            [
             0.1,
             "#c51b7d"
            ],
            [
             0.2,
             "#de77ae"
            ],
            [
             0.3,
             "#f1b6da"
            ],
            [
             0.4,
             "#fde0ef"
            ],
            [
             0.5,
             "#f7f7f7"
            ],
            [
             0.6,
             "#e6f5d0"
            ],
            [
             0.7,
             "#b8e186"
            ],
            [
             0.8,
             "#7fbc41"
            ],
            [
             0.9,
             "#4d9221"
            ],
            [
             1,
             "#276419"
            ]
           ],
           "sequential": [
            [
             0,
             "#0d0887"
            ],
            [
             0.1111111111111111,
             "#46039f"
            ],
            [
             0.2222222222222222,
             "#7201a8"
            ],
            [
             0.3333333333333333,
             "#9c179e"
            ],
            [
             0.4444444444444444,
             "#bd3786"
            ],
            [
             0.5555555555555556,
             "#d8576b"
            ],
            [
             0.6666666666666666,
             "#ed7953"
            ],
            [
             0.7777777777777778,
             "#fb9f3a"
            ],
            [
             0.8888888888888888,
             "#fdca26"
            ],
            [
             1,
             "#f0f921"
            ]
           ],
           "sequentialminus": [
            [
             0,
             "#0d0887"
            ],
            [
             0.1111111111111111,
             "#46039f"
            ],
            [
             0.2222222222222222,
             "#7201a8"
            ],
            [
             0.3333333333333333,
             "#9c179e"
            ],
            [
             0.4444444444444444,
             "#bd3786"
            ],
            [
             0.5555555555555556,
             "#d8576b"
            ],
            [
             0.6666666666666666,
             "#ed7953"
            ],
            [
             0.7777777777777778,
             "#fb9f3a"
            ],
            [
             0.8888888888888888,
             "#fdca26"
            ],
            [
             1,
             "#f0f921"
            ]
           ]
          },
          "colorway": [
           "#636efa",
           "#EF553B",
           "#00cc96",
           "#ab63fa",
           "#FFA15A",
           "#19d3f3",
           "#FF6692",
           "#B6E880",
           "#FF97FF",
           "#FECB52"
          ],
          "font": {
           "color": "#f2f5fa"
          },
          "geo": {
           "bgcolor": "rgb(17,17,17)",
           "lakecolor": "rgb(17,17,17)",
           "landcolor": "rgb(17,17,17)",
           "showlakes": true,
           "showland": true,
           "subunitcolor": "#506784"
          },
          "hoverlabel": {
           "align": "left"
          },
          "hovermode": "closest",
          "mapbox": {
           "style": "dark"
          },
          "paper_bgcolor": "rgb(17,17,17)",
          "plot_bgcolor": "rgb(17,17,17)",
          "polar": {
           "angularaxis": {
            "gridcolor": "#506784",
            "linecolor": "#506784",
            "ticks": ""
           },
           "bgcolor": "rgb(17,17,17)",
           "radialaxis": {
            "gridcolor": "#506784",
            "linecolor": "#506784",
            "ticks": ""
           }
          },
          "scene": {
           "xaxis": {
            "backgroundcolor": "rgb(17,17,17)",
            "gridcolor": "#506784",
            "gridwidth": 2,
            "linecolor": "#506784",
            "showbackground": true,
            "ticks": "",
            "zerolinecolor": "#C8D4E3"
           },
           "yaxis": {
            "backgroundcolor": "rgb(17,17,17)",
            "gridcolor": "#506784",
            "gridwidth": 2,
            "linecolor": "#506784",
            "showbackground": true,
            "ticks": "",
            "zerolinecolor": "#C8D4E3"
           },
           "zaxis": {
            "backgroundcolor": "rgb(17,17,17)",
            "gridcolor": "#506784",
            "gridwidth": 2,
            "linecolor": "#506784",
            "showbackground": true,
            "ticks": "",
            "zerolinecolor": "#C8D4E3"
           }
          },
          "shapedefaults": {
           "line": {
            "color": "#f2f5fa"
           }
          },
          "sliderdefaults": {
           "bgcolor": "#C8D4E3",
           "bordercolor": "rgb(17,17,17)",
           "borderwidth": 1,
           "tickwidth": 0
          },
          "ternary": {
           "aaxis": {
            "gridcolor": "#506784",
            "linecolor": "#506784",
            "ticks": ""
           },
           "baxis": {
            "gridcolor": "#506784",
            "linecolor": "#506784",
            "ticks": ""
           },
           "bgcolor": "rgb(17,17,17)",
           "caxis": {
            "gridcolor": "#506784",
            "linecolor": "#506784",
            "ticks": ""
           }
          },
          "title": {
           "x": 0.05
          },
          "updatemenudefaults": {
           "bgcolor": "#506784",
           "borderwidth": 0
          },
          "xaxis": {
           "automargin": true,
           "gridcolor": "#283442",
           "linecolor": "#506784",
           "ticks": "",
           "title": {
            "standoff": 15
           },
           "zerolinecolor": "#283442",
           "zerolinewidth": 2
          },
          "yaxis": {
           "automargin": true,
           "gridcolor": "#283442",
           "linecolor": "#506784",
           "ticks": "",
           "title": {
            "standoff": 15
           },
           "zerolinecolor": "#283442",
           "zerolinewidth": 2
          }
         }
        },
        "title": {
         "text": "Defensive Midfielder - Defend"
        },
        "xaxis": {
         "anchor": "y",
         "domain": [
          0,
          1
         ],
         "title": {
          "text": "Pas %"
         }
        },
        "yaxis": {
         "anchor": "x",
         "domain": [
          0,
          1
         ],
         "title": {
          "text": "Int/90"
         }
        }
       }
      },
      "text/html": [
       "<div>\n",
       "        \n",
       "        \n",
       "            <div id=\"30f340fd-8cc0-4b4f-b58d-cb36a4e1ba42\" class=\"plotly-graph-div\" style=\"height:500px; width:100%;\"></div>\n",
       "            <script type=\"text/javascript\">\n",
       "                require([\"plotly\"], function(Plotly) {\n",
       "                    window.PLOTLYENV=window.PLOTLYENV || {};\n",
       "                    \n",
       "                if (document.getElementById(\"30f340fd-8cc0-4b4f-b58d-cb36a4e1ba42\")) {\n",
       "                    Plotly.newPlot(\n",
       "                        '30f340fd-8cc0-4b4f-b58d-cb36a4e1ba42',\n",
       "                        [{\"hovertemplate\": \"Pas %=%{x}<br>Int/90=%{y}<br>Name=%{text}<extra></extra>\", \"legendgroup\": \"\", \"marker\": {\"color\": \"#636efa\", \"symbol\": \"circle\"}, \"mode\": \"markers+text\", \"name\": \"\", \"showlegend\": false, \"text\": [\"Djibril Diakit\\u00c3\\u00a9\", \"Jo\\u00c3\\u00a3o Tavares\", \"Matej Hudecek\", \"Adrian Rybak\", \"Oskar Repka\", \"Maciej Obodecki\", \"Ivo Kralj\", \"Bartosz Sobczyk\", \"Ivan Tomac\", \"Nikola Bogdanovski\", \"Stefan Velickovic\", \"Andrija Zakoc\", \"Aur\\u00c3\\u00a9lien Nguiamba\", \"Flynn Downes\", \"Nikola Puzic\", \"Andjelo Kacavenda\", \"Tymoteusz Puchacz\", \"Felix Brunmayr\", \"Lennart Grill\", \"Josip Rakic\", \"Stefan Randjelovic\", \"Radoslaw Dzierbicki\", \"Alexandar Ubavic\", \"Veljko Jovkovic\", \"Mariano G\\u00c3\\u00b3mez\", \"David Bumberger\", \"Enrico Huss\", \"Mateo Jaksic\", \"Konrad Jozwicki\", \"Nikita Marusenko\", \"Djordje Jovanovic\", \"Filip Lisnic\", \"Dawid Szalas\", \"Vladimir Ilic\", \"Marcin Mackowiak\", \"Florin Codrean\", \"David Otto\", \"Stefan Golubovic\", \"Keanan Bennetts\", \"Andrej Vukas\", \"Jannik Tepe\", \"Mladen Devetak\", \"Tom Baack\", \"Jan Sobocinski\", \"Tom\\u00c3\\u00a1s Blanco\", \"Sinan Karweina\", \"Ben Williams\", \"Arkadiusz Zajaczkowski\", \"Miguel Reisinho\", \"Filp Ceko\", \"Michel St\\u00c3\\u00b6cker\", \"J\\u00c3\\u00a9r\\u00c3\\u00b4me Deom\", \"Ranko Jokic\", \"Palko D\\u00c3\\u00a1rdai\", \"Aleksander Tomasz\", \"Alex Vigo\", \"Daniel Bielica\", \"Marko Djira\", \"Norbert Walczak\", \"Boris Moltenis\", \"Julius Kade\", \"Goran Buljandric\", \"Jannis K\\u00c3\\u00bcbler\", \"Aleksa Jovanovic\", \"Tomasz Owczarek\", \"David Wittkowski\", \"Konrad Zaklika\", \"Pawel Karbowinski\", \"Nicky Werner\", \"Julijan Popovic\", \"Nassim Boujellab\", \"Bartlomiej Gajda\", \"Nemanja Matijevic\", \"Marko Denic\", \"Robert Baar\", \"Tuta\", \"Dusan Jokovic\", \"Tomasz Dzida\", \"Aleksa Pejic\", \"Krsta Bojic\", \"Sikou Niakat\\u00c3\\u00a9\", \"Tomasz Makowski\", \"Sebastian Gwozdz\", \"Adrian Polanski\", \"Bryan Mbeumo\", \"Dorin Sirbu\", \"Elvis Novalic\", \"Micka\\u00c3\\u00abl Cuisance\", \"Mateusz Madzia\", \"Jes\\u00c3\\u00bas Vargas\", \"Marino Jedvaj\", \"Raphael Assibey-Mensah\", \"Lukasz Sztylka\", \"Zoran Zrnzevic\", \"Alex Krawiec\", \"Petar Melezovic\", \"Tomasz Kurek\", \"Danko Radic\", \"Paul Mensah\", \"Jordan Williams\", \"Mario Mustapic\", \"Nikola Trickovic\", \"Patrik Delic\", \"Maciej Famulak\", \"Wiktor Nahrebecki\", \"Barne Poggenberg\", \"Mirza Jasarevic\", \"Ratko Minic\", \"Semih \\u00c5\\u009eahin\", \"Matej Santek\", \"Georgios Siadas\", \"Tyrese Campbell\", \"Martin Krizmanic\", \"Kacper Laskos\", \"Aleksa Milojevic\", \"Cheick Doucour\\u00c3\\u00a9\", \"Ivan Jakovljev\", \"Przemyslaw Zdybowicz\", \"Sven Botman\", \"Malik Karaahmet\", \"Lukas Kr\\u00c3\\u00bcger\", \"Niclas Stierlin\", \"Mane Markovic\", \"Karol Czubak\", \"Ilija Dejanovic\", \"Pascal Hackethal\", \"Oleg Gorin\", \"Michal Zieba\", \"Miodrag Maljkovic\", \"Jakov Blagaic\", \"Harisson Marcelin\", \"Vice Bazdaric\", \"Daniel Liszka\", \"Jan Sieracki\", \"Jhonny Lucas\", \"Tymoteusz Klups\", \"Josip Sutalo\", \"Othman Boussaid\", \"Evert Linthorst\", \"Jusuf Gazibegovic\", \"Virgiliu Postolachi\", \"Luis G\\u00c3\\u00b6rlich\", \"Andrej Ilic\", \"Daniel Haritonov\", \"Patryk Drabik\", \"Tom Dobek-Pietrowski\", \"Michal Mydlarz\", \"Cho Jeong-Hui\", \"Mohamed Loua\", \"Nemanja Zikic\", \"Emir Sejdovic\", \"Samuel Lengle\", \"Mateusz Duchowski\", \"Iliya Gruev\", \"Bartosz Borun\", \"Juraj Ljubic\", \"Gon\\u00c3\\u00a7alo Rebelo\", \"Dominik Resetar\", \"Jurica Prsir\", \"Piotr Wujec\", \"Jan Majsterek\", \"Mitchel Bakker\", \"Kamil Piatkowski\", \"Michal Ozga\", \"Karol Turek\", \"Toni Karimovic\", \"Billy Crellin\", \"Konrad Sieracki\", \"Vando Luis\", \"Jan Los\", \"Jessic Ngankam\", \"Adam Borkowski\", \"Julian Rieckmann\", \"Luka Pavlak\", \"Robert Ion\", \"Linus Rosenl\\u00c3\\u00b6cher\", \"Eugen Telch\", \"Nicholas Wunsch\", \"Dawid Kisly\", \"Uros Miloradovic\", \"Alois Oroz\", \"Luca Bazzoli\", \"Ronan Darcy\", \"Yann-Aurel Bisseck\", \"Timo Bornemann\", \"Radivoj Bosic\", \"Jakov Katusa\", \"Kacper Jozefiak\", \"Szymon Mroczko\", \"Karol Struski\", \"Wojciech Kaminski\", \"Piotr Lisowski\", \"Daishawn Redan\", \"Kacper Smolinski\", \"Lukas Sch\\u00c3\\u00b6fl\", \"Mikolaj Labojko\", \"Jakub Karbownik\", \"Damir Magdic\", \"Karol Malec\", \"Patryk Wozniak\", \"Can Bozdogan\", \"Aleksander Paluszek\", \"Mario Cuic\", \"Dragoljub Savic\", \"Nathan Collins\", \"Dominik Pila\", \"Mihael Kupresak\", \"Manu Kon\\u00c3\\u00a9\", \"Niels Hahn\", \"Tin Hrvoj\", \"Lucas Da Cunha\", \"Rahim Ibrahim\", \"Renato Josipovic\", \"Han-Noah Massengo\", \"Kacper Wiatrak\", \"Bartosz Kuzniarski\", \"Adrian Petk\", \"Fabian Tauchhammer\", \"Bartlomiej Mruk\", \"Jakub Rudek\", \"Jakub Swiecinski\", \"Jakub Nowakowski\", \"Kamil Dabrowski\", \"Yuri Sprandel Flores\", \"Stefan Radmanovac\", \"Kamal Bafounta\", \"Filip Marchwinski\", \"Kamil Lukoszek\", \"Jakub Niewiadomski\", \"Dominik Kedzior\", \"Joe Gelhardt\", \"Filip Sobiecki\", \"Fran Tomek\", \"Hubert Wasiewski\", \"Djordje Vasic\", \"Jakub Zima\", \"Damian Makuch\", \"Andrzej Kloda\", \"Stipe Biuk\", \"Mateusz Pienczak\", \"FIlip Brekalo\", \"Stefan Despotovski\", \"Jakub Kisiel\", \"Duje Skugor\", \"Martin Baturina\", \"Radoslaw Cielemecki\", \"Ariel Mosor\", \"Nikola Petkovic\", \"Nikodem Sujecki\", \"Ivan Mandic\", \"Stanislaw Loch\", \"Dario Grgic\", \"Wojciech Szybka\", \"Kacper Szmidt\", \"Vukasin Krstic\", \"Obrendo Doesburg\", \"Casper Elderman\", \"Predrag Jovic\", \"Daniel Hoyo-Kowalski\", \"Darijo Basic\", \"Wiktor Mosur\", \"Uros Mirkovic\", \"Marcos Rodr\\u00c3\\u00adguez\", \"Adrian \\u00c5\\u00a2apu\", \"Paul Mari\", \"Pawel Muzylowski\", \"Dragan Radovic\", \"Szymon Kobeszko\", \"Marcin Dabrowski\", \"Jorge Delgado\", \"Daniel Piesio\", null], \"textposition\": \"top center\", \"type\": \"scatter\", \"x\": [\"64%\", \"66%\", \"68%\", \"71%\", \"71%\", \"61%\", \"71%\", \"69%\", \"70%\", \"70%\", \"76%\", \"68%\", \"80%\", \"83%\", \"69%\", \"77%\", \"71%\", \"68%\", \"48%\", \"68%\", \"43%\", \"69%\", \"67%\", \"64%\", \"71%\", \"74%\", \"73%\", \"68%\", \"76%\", \"75%\", \"65%\", \"72%\", \"57%\", \"70%\", \"75%\", \"74%\", \"65%\", \"61%\", \"64%\", \"57%\", \"62%\", \"73%\", \"88%\", \"82%\", \"64%\", \"64%\", \"72%\", \"71%\", \"75%\", \"64%\", \"74%\", \"63%\", \"69%\", \"68%\", \"74%\", \"72%\", \"44%\", \"76%\", \"61%\", \"78%\", \"91%\", \"61%\", \"70%\", \"74%\", \"70%\", \"65%\", \"72%\", \"63%\", \"61%\", \"70%\", \"71%\", \"74%\", \"61%\", \"70%\", \"67%\", \"84%\", \"75%\", \"66%\", \"76%\", \"66%\", \"77%\", \"82%\", \"73%\", \"64%\", \"65%\", \"68%\", \"77%\", \"80%\", \"66%\", \"66%\", \"72%\", \"70%\", \"66%\", \"67%\", \"61%\", \"70%\", \"63%\", \"64%\", \"66%\", \"71%\", \"42%\", \"79%\", \"68%\", \"74%\", \"72%\", \"67%\", \"64%\", \"68%\", \"68%\", \"76%\", \"71%\", \"66%\", \"68%\", \"78%\", \"47%\", \"77%\", \"72%\", \"60%\", \"76%\", \"58%\", \"68%\", \"73%\", \"44%\", \"62%\", \"65%\", \"71%\", \"68%\", \"72%\", \"64%\", \"71%\", \"71%\", \"47%\", \"68%\", \"70%\", \"75%\", \"70%\", \"74%\", \"68%\", \"72%\", \"69%\", \"57%\", \"70%\", \"64%\", \"70%\", \"70%\", \"69%\", \"69%\", \"66%\", \"82%\", \"73%\", \"74%\", \"71%\", \"73%\", \"78%\", \"69%\", \"71%\", \"68%\", \"63%\", \"72%\", \"70%\", \"69%\", \"73%\", \"75%\", \"70%\", \"69%\", \"65%\", \"58%\", \"72%\", \"68%\", \"65%\", \"65%\", \"66%\", \"79%\", \"71%\", \"65%\", \"66%\", \"69%\", \"59%\", \"72%\", \"77%\", \"68%\", \"73%\", \"74%\", \"76%\", \"61%\", \"64%\", \"65%\", \"71%\", \"66%\", \"68%\", \"77%\", \"72%\", \"66%\", \"71%\", \"71%\", \"72%\", \"66%\", \"67%\", \"63%\", \"70%\", \"74%\", \"71%\", \"72%\", \"73%\", \"78%\", \"73%\", \"63%\", \"69%\", \"72%\", \"69%\", \"72%\", \"70%\", \"51%\", \"77%\", \"69%\", \"61%\", \"76%\", \"73%\", \"72%\", \"75%\", \"72%\", \"70%\", \"65%\", \"71%\", \"68%\", \"80%\", \"74%\", \"62%\", \"67%\", \"63%\", \"55%\", \"70%\", \"78%\", \"48%\", \"74%\", \"76%\", \"69%\", \"68%\", \"72%\", \"73%\", \"73%\", \"70%\", \"71%\", \"57%\", \"70%\", \"67%\", \"75%\", \"76%\", \"51%\", \"46%\", \"71%\", \"71%\", \"75%\", \"72%\", \"73%\", \"75%\", \"73%\", \"72%\", \"68%\", \"72%\", \"64%\", \"62%\", \"70%\", \"68%\", \"77%\", \"71%\", \"67%\", \"75%\", \"70%\", \"73%\", \"72%\", null], \"xaxis\": \"x\", \"y\": [\"0.07\", \"-\", \"2.47\", \"2.55\", \"3.02\", \"-\", \"4.56\", \"1.13\", \"3.32\", \"2.92\", \"2.30\", \"1.15\", \"2.63\", \"2.46\", \"3.40\", \"3.12\", \"3.17\", \"0.88\", \"-\", \"3.35\", \"-\", \"0.79\", \"-\", \"1.61\", \"1.72\", \"4.08\", \"1.83\", \"2.30\", \"1.50\", \"2.08\", \"1.39\", \"3.22\", \"1.21\", \"1.24\", \"2.77\", \"-\", \"1.19\", \"1.15\", \"1.18\", \"0.93\", \"1.24\", \"2.86\", \"2.78\", \"3.29\", \"0.85\", \"1.21\", \"3.08\", \"3.89\", \"1.59\", \"2.94\", \"3.82\", \"0.36\", \"2.67\", \"1.41\", \"-\", \"1.49\", \"-\", \"1.65\", \"-\", \"2.94\", \"1.10\", \"-\", \"3.70\", \"2.82\", \"1.62\", \"3.67\", \"2.35\", \"1.00\", \"0.92\", \"2.85\", \"1.56\", \"4.17\", \"0.80\", \"-\", \"1.32\", \"3.06\", \"2.66\", \"0.93\", \"2.47\", \"1.41\", \"4.28\", \"3.39\", \"-\", \"4.07\", \"0.98\", \"-\", \"2.57\", \"1.25\", \"3.88\", \"1.99\", \"-\", \"-\", \"1.49\", \"-\", \"1.10\", \"-\", \"0.92\", \"1.29\", \"0.96\", \"2.44\", \"-\", \"1.20\", \"-\", \"0.85\", \"3.53\", \"2.91\", \"0.84\", \"0.77\", \"2.90\", \"4.32\", \"3.67\", \"1.00\", \"2.58\", \"2.42\", \"-\", \"3.00\", \"-\", \"0.79\", \"2.76\", \"-\", \"1.49\", \"2.43\", \"-\", \"0.70\", \"-\", \"2.72\", \"2.65\", \"2.57\", \"0.88\", \"1.69\", \"0.38\", \"-\", \"1.95\", \"2.15\", \"3.53\", \"0.86\", \"3.43\", \"-\", \"0.91\", \"1.80\", \"-\", \"2.15\", \"1.03\", \"3.23\", \"0.67\", \"2.24\", \"3.21\", \"0.09\", \"3.74\", \"-\", \"2.04\", \"3.45\", \"1.19\", \"3.07\", \"1.33\", \"1.61\", \"0.17\", \"0.92\", \"2.10\", \"3.89\", \"2.05\", \"1.94\", \"3.59\", \"1.25\", \"3.60\", \"1.90\", \"-\", \"1.33\", \"0.21\", \"1.25\", \"1.18\", \"0.92\", \"4.07\", \"2.50\", \"2.16\", \"2.33\", \"-\", \"1.01\", \"1.70\", \"2.48\", \"3.61\", \"1.13\", \"0.47\", \"3.15\", \"0.96\", \"1.84\", \"0.97\", \"3.57\", \"1.76\", \"1.56\", \"3.84\", \"3.73\", \"1.86\", \"3.20\", \"-\", \"-\", \"0.73\", \"2.31\", \"0.93\", \"2.04\", \"2.25\", \"3.57\", \"5.09\", \"-\", \"2.76\", \"0.80\", \"1.53\", \"-\", \"-\", \"2.27\", \"-\", \"-\", \"-\", \"2.94\", \"-\", \"1.23\", \"3.73\", \"-\", \"4.61\", \"2.73\", \"2.92\", \"-\", \"0.87\", \"2.01\", \"1.33\", \"5.14\", \"1.29\", \"1.09\", \"1.91\", \"0.96\", \"0.19\", \"1.37\", \"3.21\", \"-\", \"0.80\", \"2.90\", \"4.38\", \"3.21\", \"0.99\", \"2.62\", \"3.02\", \"4.47\", \"1.65\", \"0.77\", \"0.85\", \"2.28\", \"4.00\", \"3.42\", \"-\", \"-\", \"1.06\", \"1.48\", \"4.07\", \"0.96\", \"4.23\", \"-\", \"3.21\", \"1.46\", \"3.61\", \"2.01\", \"1.07\", \"0.96\", \"1.37\", \"1.36\", \"3.14\", \"1.00\", \"1.76\", \"2.69\", \"1.72\", \"0.80\", \"3.25\", null], \"yaxis\": \"y\"}],\n",
       "                        {\"height\": 500, \"legend\": {\"tracegroupgap\": 0}, \"margin\": {\"t\": 60}, \"template\": {\"data\": {\"bar\": [{\"error_x\": {\"color\": \"#f2f5fa\"}, \"error_y\": {\"color\": \"#f2f5fa\"}, \"marker\": {\"line\": {\"color\": \"rgb(17,17,17)\", \"width\": 0.5}}, \"type\": \"bar\"}], \"barpolar\": [{\"marker\": {\"line\": {\"color\": \"rgb(17,17,17)\", \"width\": 0.5}}, \"type\": \"barpolar\"}], \"carpet\": [{\"aaxis\": {\"endlinecolor\": \"#A2B1C6\", \"gridcolor\": \"#506784\", \"linecolor\": \"#506784\", \"minorgridcolor\": \"#506784\", \"startlinecolor\": \"#A2B1C6\"}, \"baxis\": {\"endlinecolor\": \"#A2B1C6\", \"gridcolor\": \"#506784\", \"linecolor\": \"#506784\", \"minorgridcolor\": \"#506784\", \"startlinecolor\": \"#A2B1C6\"}, \"type\": \"carpet\"}], \"choropleth\": [{\"colorbar\": {\"outlinewidth\": 0, \"ticks\": \"\"}, \"type\": \"choropleth\"}], \"contour\": [{\"colorbar\": {\"outlinewidth\": 0, \"ticks\": \"\"}, \"colorscale\": [[0.0, \"#0d0887\"], [0.1111111111111111, \"#46039f\"], [0.2222222222222222, \"#7201a8\"], [0.3333333333333333, \"#9c179e\"], [0.4444444444444444, \"#bd3786\"], [0.5555555555555556, \"#d8576b\"], [0.6666666666666666, \"#ed7953\"], [0.7777777777777778, \"#fb9f3a\"], [0.8888888888888888, \"#fdca26\"], [1.0, \"#f0f921\"]], \"type\": \"contour\"}], \"contourcarpet\": [{\"colorbar\": {\"outlinewidth\": 0, \"ticks\": \"\"}, \"type\": \"contourcarpet\"}], \"heatmap\": [{\"colorbar\": {\"outlinewidth\": 0, \"ticks\": \"\"}, \"colorscale\": [[0.0, \"#0d0887\"], [0.1111111111111111, \"#46039f\"], [0.2222222222222222, \"#7201a8\"], [0.3333333333333333, \"#9c179e\"], [0.4444444444444444, \"#bd3786\"], [0.5555555555555556, \"#d8576b\"], [0.6666666666666666, \"#ed7953\"], [0.7777777777777778, \"#fb9f3a\"], [0.8888888888888888, \"#fdca26\"], [1.0, \"#f0f921\"]], \"type\": \"heatmap\"}], \"heatmapgl\": [{\"colorbar\": {\"outlinewidth\": 0, \"ticks\": \"\"}, \"colorscale\": [[0.0, \"#0d0887\"], [0.1111111111111111, \"#46039f\"], [0.2222222222222222, \"#7201a8\"], [0.3333333333333333, \"#9c179e\"], [0.4444444444444444, \"#bd3786\"], [0.5555555555555556, \"#d8576b\"], [0.6666666666666666, \"#ed7953\"], [0.7777777777777778, \"#fb9f3a\"], [0.8888888888888888, \"#fdca26\"], [1.0, \"#f0f921\"]], \"type\": \"heatmapgl\"}], \"histogram\": [{\"marker\": {\"colorbar\": {\"outlinewidth\": 0, \"ticks\": \"\"}}, \"type\": \"histogram\"}], \"histogram2d\": [{\"colorbar\": {\"outlinewidth\": 0, \"ticks\": \"\"}, \"colorscale\": [[0.0, \"#0d0887\"], [0.1111111111111111, \"#46039f\"], [0.2222222222222222, \"#7201a8\"], [0.3333333333333333, \"#9c179e\"], [0.4444444444444444, \"#bd3786\"], [0.5555555555555556, \"#d8576b\"], [0.6666666666666666, \"#ed7953\"], [0.7777777777777778, \"#fb9f3a\"], [0.8888888888888888, \"#fdca26\"], [1.0, \"#f0f921\"]], \"type\": \"histogram2d\"}], \"histogram2dcontour\": [{\"colorbar\": {\"outlinewidth\": 0, \"ticks\": \"\"}, \"colorscale\": [[0.0, \"#0d0887\"], [0.1111111111111111, \"#46039f\"], [0.2222222222222222, \"#7201a8\"], [0.3333333333333333, \"#9c179e\"], [0.4444444444444444, \"#bd3786\"], [0.5555555555555556, \"#d8576b\"], [0.6666666666666666, \"#ed7953\"], [0.7777777777777778, \"#fb9f3a\"], [0.8888888888888888, \"#fdca26\"], [1.0, \"#f0f921\"]], \"type\": \"histogram2dcontour\"}], \"mesh3d\": [{\"colorbar\": {\"outlinewidth\": 0, \"ticks\": \"\"}, \"type\": \"mesh3d\"}], \"parcoords\": [{\"line\": {\"colorbar\": {\"outlinewidth\": 0, \"ticks\": \"\"}}, \"type\": \"parcoords\"}], \"pie\": [{\"automargin\": true, \"type\": \"pie\"}], \"scatter\": [{\"marker\": {\"line\": {\"color\": \"#283442\"}}, \"type\": \"scatter\"}], \"scatter3d\": [{\"line\": {\"colorbar\": {\"outlinewidth\": 0, \"ticks\": \"\"}}, \"marker\": {\"colorbar\": {\"outlinewidth\": 0, \"ticks\": \"\"}}, \"type\": \"scatter3d\"}], \"scattercarpet\": [{\"marker\": {\"colorbar\": {\"outlinewidth\": 0, \"ticks\": \"\"}}, \"type\": \"scattercarpet\"}], \"scattergeo\": [{\"marker\": {\"colorbar\": {\"outlinewidth\": 0, \"ticks\": \"\"}}, \"type\": \"scattergeo\"}], \"scattergl\": [{\"marker\": {\"line\": {\"color\": \"#283442\"}}, \"type\": \"scattergl\"}], \"scattermapbox\": [{\"marker\": {\"colorbar\": {\"outlinewidth\": 0, \"ticks\": \"\"}}, \"type\": \"scattermapbox\"}], \"scatterpolar\": [{\"marker\": {\"colorbar\": {\"outlinewidth\": 0, \"ticks\": \"\"}}, \"type\": \"scatterpolar\"}], \"scatterpolargl\": [{\"marker\": {\"colorbar\": {\"outlinewidth\": 0, \"ticks\": \"\"}}, \"type\": \"scatterpolargl\"}], \"scatterternary\": [{\"marker\": {\"colorbar\": {\"outlinewidth\": 0, \"ticks\": \"\"}}, \"type\": \"scatterternary\"}], \"surface\": [{\"colorbar\": {\"outlinewidth\": 0, \"ticks\": \"\"}, \"colorscale\": [[0.0, \"#0d0887\"], [0.1111111111111111, \"#46039f\"], [0.2222222222222222, \"#7201a8\"], [0.3333333333333333, \"#9c179e\"], [0.4444444444444444, \"#bd3786\"], [0.5555555555555556, \"#d8576b\"], [0.6666666666666666, \"#ed7953\"], [0.7777777777777778, \"#fb9f3a\"], [0.8888888888888888, \"#fdca26\"], [1.0, \"#f0f921\"]], \"type\": \"surface\"}], \"table\": [{\"cells\": {\"fill\": {\"color\": \"#506784\"}, \"line\": {\"color\": \"rgb(17,17,17)\"}}, \"header\": {\"fill\": {\"color\": \"#2a3f5f\"}, \"line\": {\"color\": \"rgb(17,17,17)\"}}, \"type\": \"table\"}]}, \"layout\": {\"annotationdefaults\": {\"arrowcolor\": \"#f2f5fa\", \"arrowhead\": 0, \"arrowwidth\": 1}, \"coloraxis\": {\"colorbar\": {\"outlinewidth\": 0, \"ticks\": \"\"}}, \"colorscale\": {\"diverging\": [[0, \"#8e0152\"], [0.1, \"#c51b7d\"], [0.2, \"#de77ae\"], [0.3, \"#f1b6da\"], [0.4, \"#fde0ef\"], [0.5, \"#f7f7f7\"], [0.6, \"#e6f5d0\"], [0.7, \"#b8e186\"], [0.8, \"#7fbc41\"], [0.9, \"#4d9221\"], [1, \"#276419\"]], \"sequential\": [[0.0, \"#0d0887\"], [0.1111111111111111, \"#46039f\"], [0.2222222222222222, \"#7201a8\"], [0.3333333333333333, \"#9c179e\"], [0.4444444444444444, \"#bd3786\"], [0.5555555555555556, \"#d8576b\"], [0.6666666666666666, \"#ed7953\"], [0.7777777777777778, \"#fb9f3a\"], [0.8888888888888888, \"#fdca26\"], [1.0, \"#f0f921\"]], \"sequentialminus\": [[0.0, \"#0d0887\"], [0.1111111111111111, \"#46039f\"], [0.2222222222222222, \"#7201a8\"], [0.3333333333333333, \"#9c179e\"], [0.4444444444444444, \"#bd3786\"], [0.5555555555555556, \"#d8576b\"], [0.6666666666666666, \"#ed7953\"], [0.7777777777777778, \"#fb9f3a\"], [0.8888888888888888, \"#fdca26\"], [1.0, \"#f0f921\"]]}, \"colorway\": [\"#636efa\", \"#EF553B\", \"#00cc96\", \"#ab63fa\", \"#FFA15A\", \"#19d3f3\", \"#FF6692\", \"#B6E880\", \"#FF97FF\", \"#FECB52\"], \"font\": {\"color\": \"#f2f5fa\"}, \"geo\": {\"bgcolor\": \"rgb(17,17,17)\", \"lakecolor\": \"rgb(17,17,17)\", \"landcolor\": \"rgb(17,17,17)\", \"showlakes\": true, \"showland\": true, \"subunitcolor\": \"#506784\"}, \"hoverlabel\": {\"align\": \"left\"}, \"hovermode\": \"closest\", \"mapbox\": {\"style\": \"dark\"}, \"paper_bgcolor\": \"rgb(17,17,17)\", \"plot_bgcolor\": \"rgb(17,17,17)\", \"polar\": {\"angularaxis\": {\"gridcolor\": \"#506784\", \"linecolor\": \"#506784\", \"ticks\": \"\"}, \"bgcolor\": \"rgb(17,17,17)\", \"radialaxis\": {\"gridcolor\": \"#506784\", \"linecolor\": \"#506784\", \"ticks\": \"\"}}, \"scene\": {\"xaxis\": {\"backgroundcolor\": \"rgb(17,17,17)\", \"gridcolor\": \"#506784\", \"gridwidth\": 2, \"linecolor\": \"#506784\", \"showbackground\": true, \"ticks\": \"\", \"zerolinecolor\": \"#C8D4E3\"}, \"yaxis\": {\"backgroundcolor\": \"rgb(17,17,17)\", \"gridcolor\": \"#506784\", \"gridwidth\": 2, \"linecolor\": \"#506784\", \"showbackground\": true, \"ticks\": \"\", \"zerolinecolor\": \"#C8D4E3\"}, \"zaxis\": {\"backgroundcolor\": \"rgb(17,17,17)\", \"gridcolor\": \"#506784\", \"gridwidth\": 2, \"linecolor\": \"#506784\", \"showbackground\": true, \"ticks\": \"\", \"zerolinecolor\": \"#C8D4E3\"}}, \"shapedefaults\": {\"line\": {\"color\": \"#f2f5fa\"}}, \"sliderdefaults\": {\"bgcolor\": \"#C8D4E3\", \"bordercolor\": \"rgb(17,17,17)\", \"borderwidth\": 1, \"tickwidth\": 0}, \"ternary\": {\"aaxis\": {\"gridcolor\": \"#506784\", \"linecolor\": \"#506784\", \"ticks\": \"\"}, \"baxis\": {\"gridcolor\": \"#506784\", \"linecolor\": \"#506784\", \"ticks\": \"\"}, \"bgcolor\": \"rgb(17,17,17)\", \"caxis\": {\"gridcolor\": \"#506784\", \"linecolor\": \"#506784\", \"ticks\": \"\"}}, \"title\": {\"x\": 0.05}, \"updatemenudefaults\": {\"bgcolor\": \"#506784\", \"borderwidth\": 0}, \"xaxis\": {\"automargin\": true, \"gridcolor\": \"#283442\", \"linecolor\": \"#506784\", \"ticks\": \"\", \"title\": {\"standoff\": 15}, \"zerolinecolor\": \"#283442\", \"zerolinewidth\": 2}, \"yaxis\": {\"automargin\": true, \"gridcolor\": \"#283442\", \"linecolor\": \"#506784\", \"ticks\": \"\", \"title\": {\"standoff\": 15}, \"zerolinecolor\": \"#283442\", \"zerolinewidth\": 2}}}, \"title\": {\"text\": \"Defensive Midfielder - Defend\"}, \"xaxis\": {\"anchor\": \"y\", \"domain\": [0.0, 1.0], \"title\": {\"text\": \"Pas %\"}}, \"yaxis\": {\"anchor\": \"x\", \"domain\": [0.0, 1.0], \"title\": {\"text\": \"Int/90\"}}},\n",
       "                        {\"responsive\": true}\n",
       "                    ).then(function(){\n",
       "                            \n",
       "var gd = document.getElementById('30f340fd-8cc0-4b4f-b58d-cb36a4e1ba42');\n",
       "var x = new MutationObserver(function (mutations, observer) {{\n",
       "        var display = window.getComputedStyle(gd).display;\n",
       "        if (!display || display === 'none') {{\n",
       "            console.log([gd, 'removed!']);\n",
       "            Plotly.purge(gd);\n",
       "            observer.disconnect();\n",
       "        }}\n",
       "}});\n",
       "\n",
       "// Listen for the removal of the full notebook cells\n",
       "var notebookContainer = gd.closest('#notebook-container');\n",
       "if (notebookContainer) {{\n",
       "    x.observe(notebookContainer, {childList: true});\n",
       "}}\n",
       "\n",
       "// Listen for the clearing of the current output cell\n",
       "var outputEl = gd.closest('.output');\n",
       "if (outputEl) {{\n",
       "    x.observe(outputEl, {childList: true});\n",
       "}}\n",
       "\n",
       "                        })\n",
       "                };\n",
       "                });\n",
       "            </script>\n",
       "        </div>"
      ]
     },
     "metadata": {},
     "output_type": "display_data"
    }
   ],
   "source": [
    "fig = px.scatter(df1, x=\"Pas %\", y=\"Int/90\", text=\"Name\", log_x=False, size_max=60)\n",
    "fig.update_traces(textposition='top center')\n",
    "fig.update_layout(\n",
    "    height=500,\n",
    "   )\n",
    "for template in [\"plotly_dark\"]:\n",
    "    fig.update_layout(template=template, title=\"Defensive Midfielder - Defend\")\n",
    "fig.show()\n",
    "\n"
   ]
  },
  {
   "cell_type": "code",
   "execution_count": 15,
   "metadata": {},
   "outputs": [
    {
     "name": "stdout",
     "output_type": "stream",
     "text": [
      "Ball Winning Midfielder\n"
     ]
    },
    {
     "data": {
      "text/html": [
       "<style  type=\"text/css\" >\n",
       "    #T_e2c1d27a_92c6_11ea_bd6d_10bf483492darow0_col1 {\n",
       "            background-color:  #f7fbff;\n",
       "            color:  #000000;\n",
       "        }    #T_e2c1d27a_92c6_11ea_bd6d_10bf483492darow0_col2 {\n",
       "            background-color:  #c6dbef;\n",
       "            color:  #000000;\n",
       "        }    #T_e2c1d27a_92c6_11ea_bd6d_10bf483492darow0_col3 {\n",
       "            background-color:  #08306b;\n",
       "            color:  #f1f1f1;\n",
       "        }    #T_e2c1d27a_92c6_11ea_bd6d_10bf483492darow0_col4 {\n",
       "            background-color:  #08306b;\n",
       "            color:  #f1f1f1;\n",
       "        }    #T_e2c1d27a_92c6_11ea_bd6d_10bf483492darow0_col5 {\n",
       "            background-color:  #f7fbff;\n",
       "            color:  #000000;\n",
       "        }    #T_e2c1d27a_92c6_11ea_bd6d_10bf483492darow0_col6 {\n",
       "            background-color:  #08306b;\n",
       "            color:  #f1f1f1;\n",
       "        }    #T_e2c1d27a_92c6_11ea_bd6d_10bf483492darow0_col7 {\n",
       "            background-color:  #1764ab;\n",
       "            color:  #f1f1f1;\n",
       "        }    #T_e2c1d27a_92c6_11ea_bd6d_10bf483492darow0_col8 {\n",
       "            background-color:  #08306b;\n",
       "            color:  #f1f1f1;\n",
       "        }    #T_e2c1d27a_92c6_11ea_bd6d_10bf483492darow1_col1 {\n",
       "            background-color:  #d0e1f2;\n",
       "            color:  #000000;\n",
       "        }    #T_e2c1d27a_92c6_11ea_bd6d_10bf483492darow1_col2 {\n",
       "            background-color:  #6aaed6;\n",
       "            color:  #000000;\n",
       "        }    #T_e2c1d27a_92c6_11ea_bd6d_10bf483492darow1_col3 {\n",
       "            background-color:  #9dcae1;\n",
       "            color:  #000000;\n",
       "        }    #T_e2c1d27a_92c6_11ea_bd6d_10bf483492darow1_col4 {\n",
       "            background-color:  #08306b;\n",
       "            color:  #f1f1f1;\n",
       "        }    #T_e2c1d27a_92c6_11ea_bd6d_10bf483492darow1_col5 {\n",
       "            background-color:  #6aaed6;\n",
       "            color:  #000000;\n",
       "        }    #T_e2c1d27a_92c6_11ea_bd6d_10bf483492darow1_col6 {\n",
       "            background-color:  #1764ab;\n",
       "            color:  #f1f1f1;\n",
       "        }    #T_e2c1d27a_92c6_11ea_bd6d_10bf483492darow1_col7 {\n",
       "            background-color:  #1764ab;\n",
       "            color:  #f1f1f1;\n",
       "        }    #T_e2c1d27a_92c6_11ea_bd6d_10bf483492darow1_col8 {\n",
       "            background-color:  #1967ad;\n",
       "            color:  #f1f1f1;\n",
       "        }    #T_e2c1d27a_92c6_11ea_bd6d_10bf483492darow2_col1 {\n",
       "            background-color:  #1764ab;\n",
       "            color:  #f1f1f1;\n",
       "        }    #T_e2c1d27a_92c6_11ea_bd6d_10bf483492darow2_col2 {\n",
       "            background-color:  #2070b4;\n",
       "            color:  #f1f1f1;\n",
       "        }    #T_e2c1d27a_92c6_11ea_bd6d_10bf483492darow2_col3 {\n",
       "            background-color:  #9dcae1;\n",
       "            color:  #000000;\n",
       "        }    #T_e2c1d27a_92c6_11ea_bd6d_10bf483492darow2_col4 {\n",
       "            background-color:  #2070b4;\n",
       "            color:  #f1f1f1;\n",
       "        }    #T_e2c1d27a_92c6_11ea_bd6d_10bf483492darow2_col5 {\n",
       "            background-color:  #f7fbff;\n",
       "            color:  #000000;\n",
       "        }    #T_e2c1d27a_92c6_11ea_bd6d_10bf483492darow2_col6 {\n",
       "            background-color:  #94c4df;\n",
       "            color:  #000000;\n",
       "        }    #T_e2c1d27a_92c6_11ea_bd6d_10bf483492darow2_col7 {\n",
       "            background-color:  #94c4df;\n",
       "            color:  #000000;\n",
       "        }    #T_e2c1d27a_92c6_11ea_bd6d_10bf483492darow2_col8 {\n",
       "            background-color:  #bad6eb;\n",
       "            color:  #000000;\n",
       "        }    #T_e2c1d27a_92c6_11ea_bd6d_10bf483492darow3_col1 {\n",
       "            background-color:  #08306b;\n",
       "            color:  #f1f1f1;\n",
       "        }    #T_e2c1d27a_92c6_11ea_bd6d_10bf483492darow3_col2 {\n",
       "            background-color:  #f7fbff;\n",
       "            color:  #000000;\n",
       "        }    #T_e2c1d27a_92c6_11ea_bd6d_10bf483492darow3_col3 {\n",
       "            background-color:  #4191c6;\n",
       "            color:  #000000;\n",
       "        }    #T_e2c1d27a_92c6_11ea_bd6d_10bf483492darow3_col4 {\n",
       "            background-color:  #08509b;\n",
       "            color:  #f1f1f1;\n",
       "        }    #T_e2c1d27a_92c6_11ea_bd6d_10bf483492darow3_col5 {\n",
       "            background-color:  #c6dbef;\n",
       "            color:  #000000;\n",
       "        }    #T_e2c1d27a_92c6_11ea_bd6d_10bf483492darow3_col6 {\n",
       "            background-color:  #94c4df;\n",
       "            color:  #000000;\n",
       "        }    #T_e2c1d27a_92c6_11ea_bd6d_10bf483492darow3_col7 {\n",
       "            background-color:  #d0e1f2;\n",
       "            color:  #000000;\n",
       "        }    #T_e2c1d27a_92c6_11ea_bd6d_10bf483492darow3_col8 {\n",
       "            background-color:  #bad6eb;\n",
       "            color:  #000000;\n",
       "        }    #T_e2c1d27a_92c6_11ea_bd6d_10bf483492darow4_col1 {\n",
       "            background-color:  #08306b;\n",
       "            color:  #f1f1f1;\n",
       "        }    #T_e2c1d27a_92c6_11ea_bd6d_10bf483492darow4_col2 {\n",
       "            background-color:  #f7fbff;\n",
       "            color:  #000000;\n",
       "        }    #T_e2c1d27a_92c6_11ea_bd6d_10bf483492darow4_col3 {\n",
       "            background-color:  #f7fbff;\n",
       "            color:  #000000;\n",
       "        }    #T_e2c1d27a_92c6_11ea_bd6d_10bf483492darow4_col4 {\n",
       "            background-color:  #4191c6;\n",
       "            color:  #000000;\n",
       "        }    #T_e2c1d27a_92c6_11ea_bd6d_10bf483492darow4_col5 {\n",
       "            background-color:  #08306b;\n",
       "            color:  #f1f1f1;\n",
       "        }    #T_e2c1d27a_92c6_11ea_bd6d_10bf483492darow4_col6 {\n",
       "            background-color:  #1764ab;\n",
       "            color:  #f1f1f1;\n",
       "        }    #T_e2c1d27a_92c6_11ea_bd6d_10bf483492darow4_col7 {\n",
       "            background-color:  #4a98c9;\n",
       "            color:  #000000;\n",
       "        }    #T_e2c1d27a_92c6_11ea_bd6d_10bf483492darow4_col8 {\n",
       "            background-color:  #bad6eb;\n",
       "            color:  #000000;\n",
       "        }    #T_e2c1d27a_92c6_11ea_bd6d_10bf483492darow5_col1 {\n",
       "            background-color:  #08306b;\n",
       "            color:  #f1f1f1;\n",
       "        }    #T_e2c1d27a_92c6_11ea_bd6d_10bf483492darow5_col2 {\n",
       "            background-color:  #08306b;\n",
       "            color:  #f1f1f1;\n",
       "        }    #T_e2c1d27a_92c6_11ea_bd6d_10bf483492darow5_col3 {\n",
       "            background-color:  #deebf7;\n",
       "            color:  #000000;\n",
       "        }    #T_e2c1d27a_92c6_11ea_bd6d_10bf483492darow5_col4 {\n",
       "            background-color:  #2070b4;\n",
       "            color:  #f1f1f1;\n",
       "        }    #T_e2c1d27a_92c6_11ea_bd6d_10bf483492darow5_col5 {\n",
       "            background-color:  #6aaed6;\n",
       "            color:  #000000;\n",
       "        }    #T_e2c1d27a_92c6_11ea_bd6d_10bf483492darow5_col6 {\n",
       "            background-color:  #d0e1f2;\n",
       "            color:  #000000;\n",
       "        }    #T_e2c1d27a_92c6_11ea_bd6d_10bf483492darow5_col7 {\n",
       "            background-color:  #d0e1f2;\n",
       "            color:  #000000;\n",
       "        }    #T_e2c1d27a_92c6_11ea_bd6d_10bf483492darow5_col8 {\n",
       "            background-color:  #cde0f1;\n",
       "            color:  #000000;\n",
       "        }    #T_e2c1d27a_92c6_11ea_bd6d_10bf483492darow6_col1 {\n",
       "            background-color:  #08306b;\n",
       "            color:  #f1f1f1;\n",
       "        }    #T_e2c1d27a_92c6_11ea_bd6d_10bf483492darow6_col2 {\n",
       "            background-color:  #f7fbff;\n",
       "            color:  #000000;\n",
       "        }    #T_e2c1d27a_92c6_11ea_bd6d_10bf483492darow6_col3 {\n",
       "            background-color:  #6aaed6;\n",
       "            color:  #000000;\n",
       "        }    #T_e2c1d27a_92c6_11ea_bd6d_10bf483492darow6_col4 {\n",
       "            background-color:  #9dcae1;\n",
       "            color:  #000000;\n",
       "        }    #T_e2c1d27a_92c6_11ea_bd6d_10bf483492darow6_col5 {\n",
       "            background-color:  #6aaed6;\n",
       "            color:  #000000;\n",
       "        }    #T_e2c1d27a_92c6_11ea_bd6d_10bf483492darow6_col6 {\n",
       "            background-color:  #1764ab;\n",
       "            color:  #f1f1f1;\n",
       "        }    #T_e2c1d27a_92c6_11ea_bd6d_10bf483492darow6_col7 {\n",
       "            background-color:  #d0e1f2;\n",
       "            color:  #000000;\n",
       "        }    #T_e2c1d27a_92c6_11ea_bd6d_10bf483492darow6_col8 {\n",
       "            background-color:  #dbe9f6;\n",
       "            color:  #000000;\n",
       "        }    #T_e2c1d27a_92c6_11ea_bd6d_10bf483492darow7_col1 {\n",
       "            background-color:  #4a98c9;\n",
       "            color:  #000000;\n",
       "        }    #T_e2c1d27a_92c6_11ea_bd6d_10bf483492darow7_col2 {\n",
       "            background-color:  #c6dbef;\n",
       "            color:  #000000;\n",
       "        }    #T_e2c1d27a_92c6_11ea_bd6d_10bf483492darow7_col3 {\n",
       "            background-color:  #9dcae1;\n",
       "            color:  #000000;\n",
       "        }    #T_e2c1d27a_92c6_11ea_bd6d_10bf483492darow7_col4 {\n",
       "            background-color:  #6aaed6;\n",
       "            color:  #000000;\n",
       "        }    #T_e2c1d27a_92c6_11ea_bd6d_10bf483492darow7_col5 {\n",
       "            background-color:  #c6dbef;\n",
       "            color:  #000000;\n",
       "        }    #T_e2c1d27a_92c6_11ea_bd6d_10bf483492darow7_col6 {\n",
       "            background-color:  #f7fbff;\n",
       "            color:  #000000;\n",
       "        }    #T_e2c1d27a_92c6_11ea_bd6d_10bf483492darow7_col7 {\n",
       "            background-color:  #08306b;\n",
       "            color:  #f1f1f1;\n",
       "        }    #T_e2c1d27a_92c6_11ea_bd6d_10bf483492darow7_col8 {\n",
       "            background-color:  #dbe9f6;\n",
       "            color:  #000000;\n",
       "        }    #T_e2c1d27a_92c6_11ea_bd6d_10bf483492darow8_col1 {\n",
       "            background-color:  #4a98c9;\n",
       "            color:  #000000;\n",
       "        }    #T_e2c1d27a_92c6_11ea_bd6d_10bf483492darow8_col2 {\n",
       "            background-color:  #c6dbef;\n",
       "            color:  #000000;\n",
       "        }    #T_e2c1d27a_92c6_11ea_bd6d_10bf483492darow8_col3 {\n",
       "            background-color:  #08306b;\n",
       "            color:  #f1f1f1;\n",
       "        }    #T_e2c1d27a_92c6_11ea_bd6d_10bf483492darow8_col4 {\n",
       "            background-color:  #f7fbff;\n",
       "            color:  #000000;\n",
       "        }    #T_e2c1d27a_92c6_11ea_bd6d_10bf483492darow8_col5 {\n",
       "            background-color:  #f7fbff;\n",
       "            color:  #000000;\n",
       "        }    #T_e2c1d27a_92c6_11ea_bd6d_10bf483492darow8_col6 {\n",
       "            background-color:  #4a98c9;\n",
       "            color:  #000000;\n",
       "        }    #T_e2c1d27a_92c6_11ea_bd6d_10bf483492darow8_col7 {\n",
       "            background-color:  #f7fbff;\n",
       "            color:  #000000;\n",
       "        }    #T_e2c1d27a_92c6_11ea_bd6d_10bf483492darow8_col8 {\n",
       "            background-color:  #f7fbff;\n",
       "            color:  #000000;\n",
       "        }    #T_e2c1d27a_92c6_11ea_bd6d_10bf483492darow9_col1 {\n",
       "            background-color:  #d0e1f2;\n",
       "            color:  #000000;\n",
       "        }    #T_e2c1d27a_92c6_11ea_bd6d_10bf483492darow9_col2 {\n",
       "            background-color:  #6aaed6;\n",
       "            color:  #000000;\n",
       "        }    #T_e2c1d27a_92c6_11ea_bd6d_10bf483492darow9_col3 {\n",
       "            background-color:  #6aaed6;\n",
       "            color:  #000000;\n",
       "        }    #T_e2c1d27a_92c6_11ea_bd6d_10bf483492darow9_col4 {\n",
       "            background-color:  #c6dbef;\n",
       "            color:  #000000;\n",
       "        }    #T_e2c1d27a_92c6_11ea_bd6d_10bf483492darow9_col5 {\n",
       "            background-color:  #2070b4;\n",
       "            color:  #f1f1f1;\n",
       "        }    #T_e2c1d27a_92c6_11ea_bd6d_10bf483492darow9_col6 {\n",
       "            background-color:  #d0e1f2;\n",
       "            color:  #000000;\n",
       "        }    #T_e2c1d27a_92c6_11ea_bd6d_10bf483492darow9_col7 {\n",
       "            background-color:  #f7fbff;\n",
       "            color:  #000000;\n",
       "        }    #T_e2c1d27a_92c6_11ea_bd6d_10bf483492darow9_col8 {\n",
       "            background-color:  #f7fbff;\n",
       "            color:  #000000;\n",
       "        }</style><table id=\"T_e2c1d27a_92c6_11ea_bd6d_10bf483492da\" ><thead>    <tr>        <th class=\"col_heading level0 col0\" >Name</th>        <th class=\"col_heading level0 col1\" >Age</th>        <th class=\"col_heading level0 col2\" >Tck</th>        <th class=\"col_heading level0 col3\" >Agg</th>        <th class=\"col_heading level0 col4\" >Ant</th>        <th class=\"col_heading level0 col5\" >Bra</th>        <th class=\"col_heading level0 col6\" >Tea</th>        <th class=\"col_heading level0 col7\" >Wor</th>        <th class=\"col_heading level0 col8\" >bwm_score</th>    </tr></thead><tbody>\n",
       "                <tr>\n",
       "                                <td id=\"T_e2c1d27a_92c6_11ea_bd6d_10bf483492darow0_col0\" class=\"data row0 col0\" >Daniel Piesio</td>\n",
       "                        <td id=\"T_e2c1d27a_92c6_11ea_bd6d_10bf483492darow0_col1\" class=\"data row0 col1\" >                  18</td>\n",
       "                        <td id=\"T_e2c1d27a_92c6_11ea_bd6d_10bf483492darow0_col2\" class=\"data row0 col2\" >12</td>\n",
       "                        <td id=\"T_e2c1d27a_92c6_11ea_bd6d_10bf483492darow0_col3\" class=\"data row0 col3\" >18</td>\n",
       "                        <td id=\"T_e2c1d27a_92c6_11ea_bd6d_10bf483492darow0_col4\" class=\"data row0 col4\" >13</td>\n",
       "                        <td id=\"T_e2c1d27a_92c6_11ea_bd6d_10bf483492darow0_col5\" class=\"data row0 col5\" >16</td>\n",
       "                        <td id=\"T_e2c1d27a_92c6_11ea_bd6d_10bf483492darow0_col6\" class=\"data row0 col6\" >19</td>\n",
       "                        <td id=\"T_e2c1d27a_92c6_11ea_bd6d_10bf483492darow0_col7\" class=\"data row0 col7\" >16</td>\n",
       "                        <td id=\"T_e2c1d27a_92c6_11ea_bd6d_10bf483492darow0_col8\" class=\"data row0 col8\" >94</td>\n",
       "            </tr>\n",
       "            <tr>\n",
       "                                <td id=\"T_e2c1d27a_92c6_11ea_bd6d_10bf483492darow1_col0\" class=\"data row1 col0\" >Paul Mari</td>\n",
       "                        <td id=\"T_e2c1d27a_92c6_11ea_bd6d_10bf483492darow1_col1\" class=\"data row1 col1\" >                  19</td>\n",
       "                        <td id=\"T_e2c1d27a_92c6_11ea_bd6d_10bf483492darow1_col2\" class=\"data row1 col2\" >13</td>\n",
       "                        <td id=\"T_e2c1d27a_92c6_11ea_bd6d_10bf483492darow1_col3\" class=\"data row1 col3\" >13</td>\n",
       "                        <td id=\"T_e2c1d27a_92c6_11ea_bd6d_10bf483492darow1_col4\" class=\"data row1 col4\" >13</td>\n",
       "                        <td id=\"T_e2c1d27a_92c6_11ea_bd6d_10bf483492darow1_col5\" class=\"data row1 col5\" >18</td>\n",
       "                        <td id=\"T_e2c1d27a_92c6_11ea_bd6d_10bf483492darow1_col6\" class=\"data row1 col6\" >18</td>\n",
       "                        <td id=\"T_e2c1d27a_92c6_11ea_bd6d_10bf483492darow1_col7\" class=\"data row1 col7\" >16</td>\n",
       "                        <td id=\"T_e2c1d27a_92c6_11ea_bd6d_10bf483492darow1_col8\" class=\"data row1 col8\" >91</td>\n",
       "            </tr>\n",
       "            <tr>\n",
       "                                <td id=\"T_e2c1d27a_92c6_11ea_bd6d_10bf483492darow2_col0\" class=\"data row2 col0\" >Piotr Wujec</td>\n",
       "                        <td id=\"T_e2c1d27a_92c6_11ea_bd6d_10bf483492darow2_col1\" class=\"data row2 col1\" >                  22</td>\n",
       "                        <td id=\"T_e2c1d27a_92c6_11ea_bd6d_10bf483492darow2_col2\" class=\"data row2 col2\" >14</td>\n",
       "                        <td id=\"T_e2c1d27a_92c6_11ea_bd6d_10bf483492darow2_col3\" class=\"data row2 col3\" >13</td>\n",
       "                        <td id=\"T_e2c1d27a_92c6_11ea_bd6d_10bf483492darow2_col4\" class=\"data row2 col4\" >11</td>\n",
       "                        <td id=\"T_e2c1d27a_92c6_11ea_bd6d_10bf483492darow2_col5\" class=\"data row2 col5\" >16</td>\n",
       "                        <td id=\"T_e2c1d27a_92c6_11ea_bd6d_10bf483492darow2_col6\" class=\"data row2 col6\" >16</td>\n",
       "                        <td id=\"T_e2c1d27a_92c6_11ea_bd6d_10bf483492darow2_col7\" class=\"data row2 col7\" >14</td>\n",
       "                        <td id=\"T_e2c1d27a_92c6_11ea_bd6d_10bf483492darow2_col8\" class=\"data row2 col8\" >84</td>\n",
       "            </tr>\n",
       "            <tr>\n",
       "                                <td id=\"T_e2c1d27a_92c6_11ea_bd6d_10bf483492darow3_col0\" class=\"data row3 col0\" >Ivo Kralj</td>\n",
       "                        <td id=\"T_e2c1d27a_92c6_11ea_bd6d_10bf483492darow3_col1\" class=\"data row3 col1\" >                  23</td>\n",
       "                        <td id=\"T_e2c1d27a_92c6_11ea_bd6d_10bf483492darow3_col2\" class=\"data row3 col2\" >11</td>\n",
       "                        <td id=\"T_e2c1d27a_92c6_11ea_bd6d_10bf483492darow3_col3\" class=\"data row3 col3\" >15</td>\n",
       "                        <td id=\"T_e2c1d27a_92c6_11ea_bd6d_10bf483492darow3_col4\" class=\"data row3 col4\" >12</td>\n",
       "                        <td id=\"T_e2c1d27a_92c6_11ea_bd6d_10bf483492darow3_col5\" class=\"data row3 col5\" >17</td>\n",
       "                        <td id=\"T_e2c1d27a_92c6_11ea_bd6d_10bf483492darow3_col6\" class=\"data row3 col6\" >16</td>\n",
       "                        <td id=\"T_e2c1d27a_92c6_11ea_bd6d_10bf483492darow3_col7\" class=\"data row3 col7\" >13</td>\n",
       "                        <td id=\"T_e2c1d27a_92c6_11ea_bd6d_10bf483492darow3_col8\" class=\"data row3 col8\" >84</td>\n",
       "            </tr>\n",
       "            <tr>\n",
       "                                <td id=\"T_e2c1d27a_92c6_11ea_bd6d_10bf483492darow4_col0\" class=\"data row4 col0\" >Elvis Novalic</td>\n",
       "                        <td id=\"T_e2c1d27a_92c6_11ea_bd6d_10bf483492darow4_col1\" class=\"data row4 col1\" >                  23</td>\n",
       "                        <td id=\"T_e2c1d27a_92c6_11ea_bd6d_10bf483492darow4_col2\" class=\"data row4 col2\" >11</td>\n",
       "                        <td id=\"T_e2c1d27a_92c6_11ea_bd6d_10bf483492darow4_col3\" class=\"data row4 col3\" >10</td>\n",
       "                        <td id=\"T_e2c1d27a_92c6_11ea_bd6d_10bf483492darow4_col4\" class=\"data row4 col4\" >10</td>\n",
       "                        <td id=\"T_e2c1d27a_92c6_11ea_bd6d_10bf483492darow4_col5\" class=\"data row4 col5\" >20</td>\n",
       "                        <td id=\"T_e2c1d27a_92c6_11ea_bd6d_10bf483492darow4_col6\" class=\"data row4 col6\" >18</td>\n",
       "                        <td id=\"T_e2c1d27a_92c6_11ea_bd6d_10bf483492darow4_col7\" class=\"data row4 col7\" >15</td>\n",
       "                        <td id=\"T_e2c1d27a_92c6_11ea_bd6d_10bf483492darow4_col8\" class=\"data row4 col8\" >84</td>\n",
       "            </tr>\n",
       "            <tr>\n",
       "                                <td id=\"T_e2c1d27a_92c6_11ea_bd6d_10bf483492darow5_col0\" class=\"data row5 col0\" >Oskar Repka</td>\n",
       "                        <td id=\"T_e2c1d27a_92c6_11ea_bd6d_10bf483492darow5_col1\" class=\"data row5 col1\" >                  23</td>\n",
       "                        <td id=\"T_e2c1d27a_92c6_11ea_bd6d_10bf483492darow5_col2\" class=\"data row5 col2\" >15</td>\n",
       "                        <td id=\"T_e2c1d27a_92c6_11ea_bd6d_10bf483492darow5_col3\" class=\"data row5 col3\" >11</td>\n",
       "                        <td id=\"T_e2c1d27a_92c6_11ea_bd6d_10bf483492darow5_col4\" class=\"data row5 col4\" >11</td>\n",
       "                        <td id=\"T_e2c1d27a_92c6_11ea_bd6d_10bf483492darow5_col5\" class=\"data row5 col5\" >18</td>\n",
       "                        <td id=\"T_e2c1d27a_92c6_11ea_bd6d_10bf483492darow5_col6\" class=\"data row5 col6\" >15</td>\n",
       "                        <td id=\"T_e2c1d27a_92c6_11ea_bd6d_10bf483492darow5_col7\" class=\"data row5 col7\" >13</td>\n",
       "                        <td id=\"T_e2c1d27a_92c6_11ea_bd6d_10bf483492darow5_col8\" class=\"data row5 col8\" >83</td>\n",
       "            </tr>\n",
       "            <tr>\n",
       "                                <td id=\"T_e2c1d27a_92c6_11ea_bd6d_10bf483492darow6_col0\" class=\"data row6 col0\" >Marino Jedvaj</td>\n",
       "                        <td id=\"T_e2c1d27a_92c6_11ea_bd6d_10bf483492darow6_col1\" class=\"data row6 col1\" >                  23</td>\n",
       "                        <td id=\"T_e2c1d27a_92c6_11ea_bd6d_10bf483492darow6_col2\" class=\"data row6 col2\" >11</td>\n",
       "                        <td id=\"T_e2c1d27a_92c6_11ea_bd6d_10bf483492darow6_col3\" class=\"data row6 col3\" >14</td>\n",
       "                        <td id=\"T_e2c1d27a_92c6_11ea_bd6d_10bf483492darow6_col4\" class=\"data row6 col4\" >8</td>\n",
       "                        <td id=\"T_e2c1d27a_92c6_11ea_bd6d_10bf483492darow6_col5\" class=\"data row6 col5\" >18</td>\n",
       "                        <td id=\"T_e2c1d27a_92c6_11ea_bd6d_10bf483492darow6_col6\" class=\"data row6 col6\" >18</td>\n",
       "                        <td id=\"T_e2c1d27a_92c6_11ea_bd6d_10bf483492darow6_col7\" class=\"data row6 col7\" >13</td>\n",
       "                        <td id=\"T_e2c1d27a_92c6_11ea_bd6d_10bf483492darow6_col8\" class=\"data row6 col8\" >82</td>\n",
       "            </tr>\n",
       "            <tr>\n",
       "                                <td id=\"T_e2c1d27a_92c6_11ea_bd6d_10bf483492darow7_col0\" class=\"data row7 col0\" >Jakub Swiecinski</td>\n",
       "                        <td id=\"T_e2c1d27a_92c6_11ea_bd6d_10bf483492darow7_col1\" class=\"data row7 col1\" >                  21</td>\n",
       "                        <td id=\"T_e2c1d27a_92c6_11ea_bd6d_10bf483492darow7_col2\" class=\"data row7 col2\" >12</td>\n",
       "                        <td id=\"T_e2c1d27a_92c6_11ea_bd6d_10bf483492darow7_col3\" class=\"data row7 col3\" >13</td>\n",
       "                        <td id=\"T_e2c1d27a_92c6_11ea_bd6d_10bf483492darow7_col4\" class=\"data row7 col4\" >9</td>\n",
       "                        <td id=\"T_e2c1d27a_92c6_11ea_bd6d_10bf483492darow7_col5\" class=\"data row7 col5\" >17</td>\n",
       "                        <td id=\"T_e2c1d27a_92c6_11ea_bd6d_10bf483492darow7_col6\" class=\"data row7 col6\" >14</td>\n",
       "                        <td id=\"T_e2c1d27a_92c6_11ea_bd6d_10bf483492darow7_col7\" class=\"data row7 col7\" >17</td>\n",
       "                        <td id=\"T_e2c1d27a_92c6_11ea_bd6d_10bf483492darow7_col8\" class=\"data row7 col8\" >82</td>\n",
       "            </tr>\n",
       "            <tr>\n",
       "                                <td id=\"T_e2c1d27a_92c6_11ea_bd6d_10bf483492darow8_col0\" class=\"data row8 col0\" >Mikolaj Labojko</td>\n",
       "                        <td id=\"T_e2c1d27a_92c6_11ea_bd6d_10bf483492darow8_col1\" class=\"data row8 col1\" >                  21</td>\n",
       "                        <td id=\"T_e2c1d27a_92c6_11ea_bd6d_10bf483492darow8_col2\" class=\"data row8 col2\" >12</td>\n",
       "                        <td id=\"T_e2c1d27a_92c6_11ea_bd6d_10bf483492darow8_col3\" class=\"data row8 col3\" >18</td>\n",
       "                        <td id=\"T_e2c1d27a_92c6_11ea_bd6d_10bf483492darow8_col4\" class=\"data row8 col4\" >5</td>\n",
       "                        <td id=\"T_e2c1d27a_92c6_11ea_bd6d_10bf483492darow8_col5\" class=\"data row8 col5\" >16</td>\n",
       "                        <td id=\"T_e2c1d27a_92c6_11ea_bd6d_10bf483492darow8_col6\" class=\"data row8 col6\" >17</td>\n",
       "                        <td id=\"T_e2c1d27a_92c6_11ea_bd6d_10bf483492darow8_col7\" class=\"data row8 col7\" >12</td>\n",
       "                        <td id=\"T_e2c1d27a_92c6_11ea_bd6d_10bf483492darow8_col8\" class=\"data row8 col8\" >80</td>\n",
       "            </tr>\n",
       "            <tr>\n",
       "                                <td id=\"T_e2c1d27a_92c6_11ea_bd6d_10bf483492darow9_col0\" class=\"data row9 col0\" >Jakub Kisiel</td>\n",
       "                        <td id=\"T_e2c1d27a_92c6_11ea_bd6d_10bf483492darow9_col1\" class=\"data row9 col1\" >                  19</td>\n",
       "                        <td id=\"T_e2c1d27a_92c6_11ea_bd6d_10bf483492darow9_col2\" class=\"data row9 col2\" >13</td>\n",
       "                        <td id=\"T_e2c1d27a_92c6_11ea_bd6d_10bf483492darow9_col3\" class=\"data row9 col3\" >14</td>\n",
       "                        <td id=\"T_e2c1d27a_92c6_11ea_bd6d_10bf483492darow9_col4\" class=\"data row9 col4\" >7</td>\n",
       "                        <td id=\"T_e2c1d27a_92c6_11ea_bd6d_10bf483492darow9_col5\" class=\"data row9 col5\" >19</td>\n",
       "                        <td id=\"T_e2c1d27a_92c6_11ea_bd6d_10bf483492darow9_col6\" class=\"data row9 col6\" >15</td>\n",
       "                        <td id=\"T_e2c1d27a_92c6_11ea_bd6d_10bf483492darow9_col7\" class=\"data row9 col7\" >12</td>\n",
       "                        <td id=\"T_e2c1d27a_92c6_11ea_bd6d_10bf483492darow9_col8\" class=\"data row9 col8\" >80</td>\n",
       "            </tr>\n",
       "    </tbody></table>"
      ],
      "text/plain": [
       "<pandas.io.formats.style.Styler at 0xd187730>"
      ]
     },
     "execution_count": 15,
     "metadata": {},
     "output_type": "execute_result"
    }
   ],
   "source": [
    "print(\"Ball Winning Midfielder\")\n",
    "sorted_bwm = bwm.sort_values(by='bwm_score', ascending=False)\n",
    "sorted_bwm.head(10).style.format({\"Age\": \"{:20,.0f}\", \n",
    "                          })\\\n",
    "                       .hide_index()\\\n",
    "                       .background_gradient(cmap='Blues')"
   ]
  },
  {
   "cell_type": "code",
   "execution_count": 16,
   "metadata": {},
   "outputs": [
    {
     "data": {
      "application/vnd.plotly.v1+json": {
       "config": {
        "plotlyServerURL": "https://plot.ly"
       },
       "data": [
        {
         "hovertemplate": "Tck=%{x}<br>Int/90=%{y}<br>Name=%{text}<extra></extra>",
         "legendgroup": "",
         "marker": {
          "color": "#636efa",
          "symbol": "circle"
         },
         "mode": "markers+text",
         "name": "",
         "showlegend": false,
         "text": [
          "Djibril DiakitÃ©",
          "JoÃ£o Tavares",
          "Matej Hudecek",
          "Adrian Rybak",
          "Oskar Repka",
          "Maciej Obodecki",
          "Ivo Kralj",
          "Bartosz Sobczyk",
          "Ivan Tomac",
          "Nikola Bogdanovski",
          "Stefan Velickovic",
          "Andrija Zakoc",
          "AurÃ©lien Nguiamba",
          "Flynn Downes",
          "Nikola Puzic",
          "Andjelo Kacavenda",
          "Tymoteusz Puchacz",
          "Felix Brunmayr",
          "Lennart Grill",
          "Josip Rakic",
          "Stefan Randjelovic",
          "Radoslaw Dzierbicki",
          "Alexandar Ubavic",
          "Veljko Jovkovic",
          "Mariano GÃ³mez",
          "David Bumberger",
          "Enrico Huss",
          "Mateo Jaksic",
          "Konrad Jozwicki",
          "Nikita Marusenko",
          "Djordje Jovanovic",
          "Filip Lisnic",
          "Dawid Szalas",
          "Vladimir Ilic",
          "Marcin Mackowiak",
          "Florin Codrean",
          "David Otto",
          "Stefan Golubovic",
          "Keanan Bennetts",
          "Andrej Vukas",
          "Jannik Tepe",
          "Mladen Devetak",
          "Tom Baack",
          "Jan Sobocinski",
          "TomÃ¡s Blanco",
          "Sinan Karweina",
          "Ben Williams",
          "Arkadiusz Zajaczkowski",
          "Miguel Reisinho",
          "Filp Ceko",
          "Michel StÃ¶cker",
          "JÃ©rÃ´me Deom",
          "Ranko Jokic",
          "Palko DÃ¡rdai",
          "Aleksander Tomasz",
          "Alex Vigo",
          "Daniel Bielica",
          "Marko Djira",
          "Norbert Walczak",
          "Boris Moltenis",
          "Julius Kade",
          "Goran Buljandric",
          "Jannis KÃ¼bler",
          "Aleksa Jovanovic",
          "Tomasz Owczarek",
          "David Wittkowski",
          "Konrad Zaklika",
          "Pawel Karbowinski",
          "Nicky Werner",
          "Julijan Popovic",
          "Nassim Boujellab",
          "Bartlomiej Gajda",
          "Nemanja Matijevic",
          "Marko Denic",
          "Robert Baar",
          "Tuta",
          "Dusan Jokovic",
          "Tomasz Dzida",
          "Aleksa Pejic",
          "Krsta Bojic",
          "Sikou NiakatÃ©",
          "Tomasz Makowski",
          "Sebastian Gwozdz",
          "Adrian Polanski",
          "Bryan Mbeumo",
          "Dorin Sirbu",
          "Elvis Novalic",
          "MickaÃ«l Cuisance",
          "Mateusz Madzia",
          "JesÃºs Vargas",
          "Marino Jedvaj",
          "Raphael Assibey-Mensah",
          "Lukasz Sztylka",
          "Zoran Zrnzevic",
          "Alex Krawiec",
          "Petar Melezovic",
          "Tomasz Kurek",
          "Danko Radic",
          "Paul Mensah",
          "Jordan Williams",
          "Mario Mustapic",
          "Nikola Trickovic",
          "Patrik Delic",
          "Maciej Famulak",
          "Wiktor Nahrebecki",
          "Barne Poggenberg",
          "Mirza Jasarevic",
          "Ratko Minic",
          "Semih Åahin",
          "Matej Santek",
          "Georgios Siadas",
          "Tyrese Campbell",
          "Martin Krizmanic",
          "Kacper Laskos",
          "Aleksa Milojevic",
          "Cheick DoucourÃ©",
          "Ivan Jakovljev",
          "Przemyslaw Zdybowicz",
          "Sven Botman",
          "Malik Karaahmet",
          "Lukas KrÃ¼ger",
          "Niclas Stierlin",
          "Mane Markovic",
          "Karol Czubak",
          "Ilija Dejanovic",
          "Pascal Hackethal",
          "Oleg Gorin",
          "Michal Zieba",
          "Miodrag Maljkovic",
          "Jakov Blagaic",
          "Harisson Marcelin",
          "Vice Bazdaric",
          "Daniel Liszka",
          "Jan Sieracki",
          "Jhonny Lucas",
          "Tymoteusz Klups",
          "Josip Sutalo",
          "Othman Boussaid",
          "Evert Linthorst",
          "Jusuf Gazibegovic",
          "Virgiliu Postolachi",
          "Luis GÃ¶rlich",
          "Andrej Ilic",
          "Daniel Haritonov",
          "Patryk Drabik",
          "Tom Dobek-Pietrowski",
          "Michal Mydlarz",
          "Cho Jeong-Hui",
          "Mohamed Loua",
          "Nemanja Zikic",
          "Emir Sejdovic",
          "Samuel Lengle",
          "Mateusz Duchowski",
          "Iliya Gruev",
          "Bartosz Borun",
          "Juraj Ljubic",
          "GonÃ§alo Rebelo",
          "Dominik Resetar",
          "Jurica Prsir",
          "Piotr Wujec",
          "Jan Majsterek",
          "Mitchel Bakker",
          "Kamil Piatkowski",
          "Michal Ozga",
          "Karol Turek",
          "Toni Karimovic",
          "Billy Crellin",
          "Konrad Sieracki",
          "Vando Luis",
          "Jan Los",
          "Jessic Ngankam",
          "Adam Borkowski",
          "Julian Rieckmann",
          "Luka Pavlak",
          "Robert Ion",
          "Linus RosenlÃ¶cher",
          "Eugen Telch",
          "Nicholas Wunsch",
          "Dawid Kisly",
          "Uros Miloradovic",
          "Alois Oroz",
          "Luca Bazzoli",
          "Ronan Darcy",
          "Yann-Aurel Bisseck",
          "Timo Bornemann",
          "Radivoj Bosic",
          "Jakov Katusa",
          "Kacper Jozefiak",
          "Szymon Mroczko",
          "Karol Struski",
          "Wojciech Kaminski",
          "Piotr Lisowski",
          "Daishawn Redan",
          "Kacper Smolinski",
          "Lukas SchÃ¶fl",
          "Mikolaj Labojko",
          "Jakub Karbownik",
          "Damir Magdic",
          "Karol Malec",
          "Patryk Wozniak",
          "Can Bozdogan",
          "Aleksander Paluszek",
          "Mario Cuic",
          "Dragoljub Savic",
          "Nathan Collins",
          "Dominik Pila",
          "Mihael Kupresak",
          "Manu KonÃ©",
          "Niels Hahn",
          "Tin Hrvoj",
          "Lucas Da Cunha",
          "Rahim Ibrahim",
          "Renato Josipovic",
          "Han-Noah Massengo",
          "Kacper Wiatrak",
          "Bartosz Kuzniarski",
          "Adrian Petk",
          "Fabian Tauchhammer",
          "Bartlomiej Mruk",
          "Jakub Rudek",
          "Jakub Swiecinski",
          "Jakub Nowakowski",
          "Kamil Dabrowski",
          "Yuri Sprandel Flores",
          "Stefan Radmanovac",
          "Kamal Bafounta",
          "Filip Marchwinski",
          "Kamil Lukoszek",
          "Jakub Niewiadomski",
          "Dominik Kedzior",
          "Joe Gelhardt",
          "Filip Sobiecki",
          "Fran Tomek",
          "Hubert Wasiewski",
          "Djordje Vasic",
          "Jakub Zima",
          "Damian Makuch",
          "Andrzej Kloda",
          "Stipe Biuk",
          "Mateusz Pienczak",
          "FIlip Brekalo",
          "Stefan Despotovski",
          "Jakub Kisiel",
          "Duje Skugor",
          "Martin Baturina",
          "Radoslaw Cielemecki",
          "Ariel Mosor",
          "Nikola Petkovic",
          "Nikodem Sujecki",
          "Ivan Mandic",
          "Stanislaw Loch",
          "Dario Grgic",
          "Wojciech Szybka",
          "Kacper Szmidt",
          "Vukasin Krstic",
          "Obrendo Doesburg",
          "Casper Elderman",
          "Predrag Jovic",
          "Daniel Hoyo-Kowalski",
          "Darijo Basic",
          "Wiktor Mosur",
          "Uros Mirkovic",
          "Marcos RodrÃ­guez",
          "Adrian Å¢apu",
          "Paul Mari",
          "Pawel Muzylowski",
          "Dragan Radovic",
          "Szymon Kobeszko",
          "Marcin Dabrowski",
          "Jorge Delgado",
          "Daniel Piesio",
          null
         ],
         "textposition": "top center",
         "type": "scatter",
         "x": [
          "2.20",
          "1.29",
          "3.31",
          "4.07",
          "7.23",
          "0.94",
          "3.92",
          "2.78",
          "4.20",
          "1.36",
          "5.13",
          "3.37",
          "4.53",
          "3.98",
          "4.81",
          "6.54",
          "0.98",
          "2.26",
          "-",
          "3.88",
          "0.00",
          "1.25",
          "2.13",
          "0.29",
          "3.00",
          "4.14",
          "2.16",
          "4.02",
          "3.46",
          "2.94",
          "0.00",
          "3.44",
          "0.93",
          "3.48",
          "4.30",
          "2.17",
          "0.17",
          "3.90",
          "2.19",
          "-",
          "0.32",
          "3.84",
          "1.56",
          "4.15",
          "0.62",
          "0.32",
          "3.85",
          "3.67",
          "2.96",
          "4.00",
          "4.08",
          "0.50",
          "3.44",
          "1.13",
          "2.00",
          "2.46",
          "-",
          "3.89",
          "1.00",
          "3.44",
          "0.85",
          "-",
          "3.63",
          "3.96",
          "5.16",
          "3.92",
          "3.34",
          "3.84",
          "0.48",
          "3.27",
          "3.34",
          "6.00",
          "0.28",
          "1.90",
          "3.47",
          "1.79",
          "4.46",
          "1.53",
          "5.92",
          "1.16",
          "3.76",
          "3.86",
          "2.01",
          "4.36",
          "0.60",
          "1.02",
          "3.95",
          "2.55",
          "5.09",
          "1.61",
          "1.68",
          "1.13",
          "4.13",
          "1.74",
          "0.75",
          "2.10",
          "0.43",
          "0.20",
          "0.13",
          "2.91",
          "0.00",
          "2.98",
          "1.00",
          "2.72",
          "3.98",
          "3.84",
          "0.42",
          "0.44",
          "1.30",
          "3.33",
          "3.28",
          "0.06",
          "3.21",
          "3.49",
          "-",
          "3.27",
          "1.61",
          "0.46",
          "4.03",
          "1.14",
          "0.84",
          "3.94",
          "0.00",
          "0.84",
          "1.26",
          "3.26",
          "3.89",
          "4.01",
          "0.44",
          "0.50",
          "2.37",
          "0.00",
          "3.02",
          "4.07",
          "3.84",
          "0.94",
          "4.07",
          "0.93",
          "2.59",
          "3.65",
          "1.00",
          "4.08",
          "0.74",
          "4.64",
          "0.82",
          "2.17",
          "3.42",
          "2.05",
          "4.74",
          "2.09",
          "2.30",
          "4.61",
          "0.56",
          "4.17",
          "2.66",
          "2.01",
          "1.33",
          "0.58",
          "2.19",
          "4.89",
          "3.94",
          "3.65",
          "3.81",
          "6.15",
          "2.70",
          "1.31",
          "-",
          "3.21",
          "1.92",
          "0.53",
          "1.05",
          "1.76",
          "4.49",
          "1.60",
          "0.42",
          "3.64",
          "1.63",
          "0.69",
          "5.21",
          "3.09",
          "2.55",
          "1.91",
          "1.23",
          "4.04",
          "0.18",
          "1.58",
          "1.10",
          "4.15",
          "3.51",
          "2.55",
          "5.17",
          "3.18",
          "0.49",
          "3.88",
          "2.06",
          "2.21",
          "1.06",
          "2.85",
          "3.72",
          "2.51",
          "2.38",
          "3.49",
          "4.61",
          "0.68",
          "3.42",
          "1.78",
          "0.28",
          "0.94",
          "2.00",
          "3.72",
          "1.41",
          "2.10",
          "0.00",
          "3.73",
          "1.68",
          "0.55",
          "3.97",
          "1.57",
          "4.28",
          "2.91",
          "4.07",
          "2.07",
          "1.51",
          "3.41",
          "3.20",
          "4.48",
          "0.28",
          "0.55",
          "4.01",
          "0.96",
          "1.27",
          "0.68",
          "4.36",
          "-",
          "1.51",
          "4.08",
          "3.94",
          "4.24",
          "1.04",
          "3.78",
          "3.17",
          "3.60",
          "5.18",
          "0.69",
          "2.14",
          "2.09",
          "4.00",
          "3.53",
          "-",
          "-",
          "1.22",
          "2.58",
          "3.92",
          "0.96",
          "4.58",
          "1.83",
          "4.52",
          "1.96",
          "3.77",
          "2.93",
          "1.07",
          "1.47",
          "4.02",
          "1.99",
          "3.83",
          "1.79",
          "1.02",
          "4.34",
          "4.27",
          "2.32",
          "2.48",
          null
         ],
         "xaxis": "x",
         "y": [
          "0.07",
          "-",
          "2.47",
          "2.55",
          "3.02",
          "-",
          "4.56",
          "1.13",
          "3.32",
          "2.92",
          "2.30",
          "1.15",
          "2.63",
          "2.46",
          "3.40",
          "3.12",
          "3.17",
          "0.88",
          "-",
          "3.35",
          "-",
          "0.79",
          "-",
          "1.61",
          "1.72",
          "4.08",
          "1.83",
          "2.30",
          "1.50",
          "2.08",
          "1.39",
          "3.22",
          "1.21",
          "1.24",
          "2.77",
          "-",
          "1.19",
          "1.15",
          "1.18",
          "0.93",
          "1.24",
          "2.86",
          "2.78",
          "3.29",
          "0.85",
          "1.21",
          "3.08",
          "3.89",
          "1.59",
          "2.94",
          "3.82",
          "0.36",
          "2.67",
          "1.41",
          "-",
          "1.49",
          "-",
          "1.65",
          "-",
          "2.94",
          "1.10",
          "-",
          "3.70",
          "2.82",
          "1.62",
          "3.67",
          "2.35",
          "1.00",
          "0.92",
          "2.85",
          "1.56",
          "4.17",
          "0.80",
          "-",
          "1.32",
          "3.06",
          "2.66",
          "0.93",
          "2.47",
          "1.41",
          "4.28",
          "3.39",
          "-",
          "4.07",
          "0.98",
          "-",
          "2.57",
          "1.25",
          "3.88",
          "1.99",
          "-",
          "-",
          "1.49",
          "-",
          "1.10",
          "-",
          "0.92",
          "1.29",
          "0.96",
          "2.44",
          "-",
          "1.20",
          "-",
          "0.85",
          "3.53",
          "2.91",
          "0.84",
          "0.77",
          "2.90",
          "4.32",
          "3.67",
          "1.00",
          "2.58",
          "2.42",
          "-",
          "3.00",
          "-",
          "0.79",
          "2.76",
          "-",
          "1.49",
          "2.43",
          "-",
          "0.70",
          "-",
          "2.72",
          "2.65",
          "2.57",
          "0.88",
          "1.69",
          "0.38",
          "-",
          "1.95",
          "2.15",
          "3.53",
          "0.86",
          "3.43",
          "-",
          "0.91",
          "1.80",
          "-",
          "2.15",
          "1.03",
          "3.23",
          "0.67",
          "2.24",
          "3.21",
          "0.09",
          "3.74",
          "-",
          "2.04",
          "3.45",
          "1.19",
          "3.07",
          "1.33",
          "1.61",
          "0.17",
          "0.92",
          "2.10",
          "3.89",
          "2.05",
          "1.94",
          "3.59",
          "1.25",
          "3.60",
          "1.90",
          "-",
          "1.33",
          "0.21",
          "1.25",
          "1.18",
          "0.92",
          "4.07",
          "2.50",
          "2.16",
          "2.33",
          "-",
          "1.01",
          "1.70",
          "2.48",
          "3.61",
          "1.13",
          "0.47",
          "3.15",
          "0.96",
          "1.84",
          "0.97",
          "3.57",
          "1.76",
          "1.56",
          "3.84",
          "3.73",
          "1.86",
          "3.20",
          "-",
          "-",
          "0.73",
          "2.31",
          "0.93",
          "2.04",
          "2.25",
          "3.57",
          "5.09",
          "-",
          "2.76",
          "0.80",
          "1.53",
          "-",
          "-",
          "2.27",
          "-",
          "-",
          "-",
          "2.94",
          "-",
          "1.23",
          "3.73",
          "-",
          "4.61",
          "2.73",
          "2.92",
          "-",
          "0.87",
          "2.01",
          "1.33",
          "5.14",
          "1.29",
          "1.09",
          "1.91",
          "0.96",
          "0.19",
          "1.37",
          "3.21",
          "-",
          "0.80",
          "2.90",
          "4.38",
          "3.21",
          "0.99",
          "2.62",
          "3.02",
          "4.47",
          "1.65",
          "0.77",
          "0.85",
          "2.28",
          "4.00",
          "3.42",
          "-",
          "-",
          "1.06",
          "1.48",
          "4.07",
          "0.96",
          "4.23",
          "-",
          "3.21",
          "1.46",
          "3.61",
          "2.01",
          "1.07",
          "0.96",
          "1.37",
          "1.36",
          "3.14",
          "1.00",
          "1.76",
          "2.69",
          "1.72",
          "0.80",
          "3.25",
          null
         ],
         "yaxis": "y"
        }
       ],
       "layout": {
        "height": 500,
        "legend": {
         "tracegroupgap": 0
        },
        "margin": {
         "t": 60
        },
        "template": {
         "data": {
          "bar": [
           {
            "error_x": {
             "color": "#f2f5fa"
            },
            "error_y": {
             "color": "#f2f5fa"
            },
            "marker": {
             "line": {
              "color": "rgb(17,17,17)",
              "width": 0.5
             }
            },
            "type": "bar"
           }
          ],
          "barpolar": [
           {
            "marker": {
             "line": {
              "color": "rgb(17,17,17)",
              "width": 0.5
             }
            },
            "type": "barpolar"
           }
          ],
          "carpet": [
           {
            "aaxis": {
             "endlinecolor": "#A2B1C6",
             "gridcolor": "#506784",
             "linecolor": "#506784",
             "minorgridcolor": "#506784",
             "startlinecolor": "#A2B1C6"
            },
            "baxis": {
             "endlinecolor": "#A2B1C6",
             "gridcolor": "#506784",
             "linecolor": "#506784",
             "minorgridcolor": "#506784",
             "startlinecolor": "#A2B1C6"
            },
            "type": "carpet"
           }
          ],
          "choropleth": [
           {
            "colorbar": {
             "outlinewidth": 0,
             "ticks": ""
            },
            "type": "choropleth"
           }
          ],
          "contour": [
           {
            "colorbar": {
             "outlinewidth": 0,
             "ticks": ""
            },
            "colorscale": [
             [
              0,
              "#0d0887"
             ],
             [
              0.1111111111111111,
              "#46039f"
             ],
             [
              0.2222222222222222,
              "#7201a8"
             ],
             [
              0.3333333333333333,
              "#9c179e"
             ],
             [
              0.4444444444444444,
              "#bd3786"
             ],
             [
              0.5555555555555556,
              "#d8576b"
             ],
             [
              0.6666666666666666,
              "#ed7953"
             ],
             [
              0.7777777777777778,
              "#fb9f3a"
             ],
             [
              0.8888888888888888,
              "#fdca26"
             ],
             [
              1,
              "#f0f921"
             ]
            ],
            "type": "contour"
           }
          ],
          "contourcarpet": [
           {
            "colorbar": {
             "outlinewidth": 0,
             "ticks": ""
            },
            "type": "contourcarpet"
           }
          ],
          "heatmap": [
           {
            "colorbar": {
             "outlinewidth": 0,
             "ticks": ""
            },
            "colorscale": [
             [
              0,
              "#0d0887"
             ],
             [
              0.1111111111111111,
              "#46039f"
             ],
             [
              0.2222222222222222,
              "#7201a8"
             ],
             [
              0.3333333333333333,
              "#9c179e"
             ],
             [
              0.4444444444444444,
              "#bd3786"
             ],
             [
              0.5555555555555556,
              "#d8576b"
             ],
             [
              0.6666666666666666,
              "#ed7953"
             ],
             [
              0.7777777777777778,
              "#fb9f3a"
             ],
             [
              0.8888888888888888,
              "#fdca26"
             ],
             [
              1,
              "#f0f921"
             ]
            ],
            "type": "heatmap"
           }
          ],
          "heatmapgl": [
           {
            "colorbar": {
             "outlinewidth": 0,
             "ticks": ""
            },
            "colorscale": [
             [
              0,
              "#0d0887"
             ],
             [
              0.1111111111111111,
              "#46039f"
             ],
             [
              0.2222222222222222,
              "#7201a8"
             ],
             [
              0.3333333333333333,
              "#9c179e"
             ],
             [
              0.4444444444444444,
              "#bd3786"
             ],
             [
              0.5555555555555556,
              "#d8576b"
             ],
             [
              0.6666666666666666,
              "#ed7953"
             ],
             [
              0.7777777777777778,
              "#fb9f3a"
             ],
             [
              0.8888888888888888,
              "#fdca26"
             ],
             [
              1,
              "#f0f921"
             ]
            ],
            "type": "heatmapgl"
           }
          ],
          "histogram": [
           {
            "marker": {
             "colorbar": {
              "outlinewidth": 0,
              "ticks": ""
             }
            },
            "type": "histogram"
           }
          ],
          "histogram2d": [
           {
            "colorbar": {
             "outlinewidth": 0,
             "ticks": ""
            },
            "colorscale": [
             [
              0,
              "#0d0887"
             ],
             [
              0.1111111111111111,
              "#46039f"
             ],
             [
              0.2222222222222222,
              "#7201a8"
             ],
             [
              0.3333333333333333,
              "#9c179e"
             ],
             [
              0.4444444444444444,
              "#bd3786"
             ],
             [
              0.5555555555555556,
              "#d8576b"
             ],
             [
              0.6666666666666666,
              "#ed7953"
             ],
             [
              0.7777777777777778,
              "#fb9f3a"
             ],
             [
              0.8888888888888888,
              "#fdca26"
             ],
             [
              1,
              "#f0f921"
             ]
            ],
            "type": "histogram2d"
           }
          ],
          "histogram2dcontour": [
           {
            "colorbar": {
             "outlinewidth": 0,
             "ticks": ""
            },
            "colorscale": [
             [
              0,
              "#0d0887"
             ],
             [
              0.1111111111111111,
              "#46039f"
             ],
             [
              0.2222222222222222,
              "#7201a8"
             ],
             [
              0.3333333333333333,
              "#9c179e"
             ],
             [
              0.4444444444444444,
              "#bd3786"
             ],
             [
              0.5555555555555556,
              "#d8576b"
             ],
             [
              0.6666666666666666,
              "#ed7953"
             ],
             [
              0.7777777777777778,
              "#fb9f3a"
             ],
             [
              0.8888888888888888,
              "#fdca26"
             ],
             [
              1,
              "#f0f921"
             ]
            ],
            "type": "histogram2dcontour"
           }
          ],
          "mesh3d": [
           {
            "colorbar": {
             "outlinewidth": 0,
             "ticks": ""
            },
            "type": "mesh3d"
           }
          ],
          "parcoords": [
           {
            "line": {
             "colorbar": {
              "outlinewidth": 0,
              "ticks": ""
             }
            },
            "type": "parcoords"
           }
          ],
          "pie": [
           {
            "automargin": true,
            "type": "pie"
           }
          ],
          "scatter": [
           {
            "marker": {
             "line": {
              "color": "#283442"
             }
            },
            "type": "scatter"
           }
          ],
          "scatter3d": [
           {
            "line": {
             "colorbar": {
              "outlinewidth": 0,
              "ticks": ""
             }
            },
            "marker": {
             "colorbar": {
              "outlinewidth": 0,
              "ticks": ""
             }
            },
            "type": "scatter3d"
           }
          ],
          "scattercarpet": [
           {
            "marker": {
             "colorbar": {
              "outlinewidth": 0,
              "ticks": ""
             }
            },
            "type": "scattercarpet"
           }
          ],
          "scattergeo": [
           {
            "marker": {
             "colorbar": {
              "outlinewidth": 0,
              "ticks": ""
             }
            },
            "type": "scattergeo"
           }
          ],
          "scattergl": [
           {
            "marker": {
             "line": {
              "color": "#283442"
             }
            },
            "type": "scattergl"
           }
          ],
          "scattermapbox": [
           {
            "marker": {
             "colorbar": {
              "outlinewidth": 0,
              "ticks": ""
             }
            },
            "type": "scattermapbox"
           }
          ],
          "scatterpolar": [
           {
            "marker": {
             "colorbar": {
              "outlinewidth": 0,
              "ticks": ""
             }
            },
            "type": "scatterpolar"
           }
          ],
          "scatterpolargl": [
           {
            "marker": {
             "colorbar": {
              "outlinewidth": 0,
              "ticks": ""
             }
            },
            "type": "scatterpolargl"
           }
          ],
          "scatterternary": [
           {
            "marker": {
             "colorbar": {
              "outlinewidth": 0,
              "ticks": ""
             }
            },
            "type": "scatterternary"
           }
          ],
          "surface": [
           {
            "colorbar": {
             "outlinewidth": 0,
             "ticks": ""
            },
            "colorscale": [
             [
              0,
              "#0d0887"
             ],
             [
              0.1111111111111111,
              "#46039f"
             ],
             [
              0.2222222222222222,
              "#7201a8"
             ],
             [
              0.3333333333333333,
              "#9c179e"
             ],
             [
              0.4444444444444444,
              "#bd3786"
             ],
             [
              0.5555555555555556,
              "#d8576b"
             ],
             [
              0.6666666666666666,
              "#ed7953"
             ],
             [
              0.7777777777777778,
              "#fb9f3a"
             ],
             [
              0.8888888888888888,
              "#fdca26"
             ],
             [
              1,
              "#f0f921"
             ]
            ],
            "type": "surface"
           }
          ],
          "table": [
           {
            "cells": {
             "fill": {
              "color": "#506784"
             },
             "line": {
              "color": "rgb(17,17,17)"
             }
            },
            "header": {
             "fill": {
              "color": "#2a3f5f"
             },
             "line": {
              "color": "rgb(17,17,17)"
             }
            },
            "type": "table"
           }
          ]
         },
         "layout": {
          "annotationdefaults": {
           "arrowcolor": "#f2f5fa",
           "arrowhead": 0,
           "arrowwidth": 1
          },
          "coloraxis": {
           "colorbar": {
            "outlinewidth": 0,
            "ticks": ""
           }
          },
          "colorscale": {
           "diverging": [
            [
             0,
             "#8e0152"
            ],
            [
             0.1,
             "#c51b7d"
            ],
            [
             0.2,
             "#de77ae"
            ],
            [
             0.3,
             "#f1b6da"
            ],
            [
             0.4,
             "#fde0ef"
            ],
            [
             0.5,
             "#f7f7f7"
            ],
            [
             0.6,
             "#e6f5d0"
            ],
            [
             0.7,
             "#b8e186"
            ],
            [
             0.8,
             "#7fbc41"
            ],
            [
             0.9,
             "#4d9221"
            ],
            [
             1,
             "#276419"
            ]
           ],
           "sequential": [
            [
             0,
             "#0d0887"
            ],
            [
             0.1111111111111111,
             "#46039f"
            ],
            [
             0.2222222222222222,
             "#7201a8"
            ],
            [
             0.3333333333333333,
             "#9c179e"
            ],
            [
             0.4444444444444444,
             "#bd3786"
            ],
            [
             0.5555555555555556,
             "#d8576b"
            ],
            [
             0.6666666666666666,
             "#ed7953"
            ],
            [
             0.7777777777777778,
             "#fb9f3a"
            ],
            [
             0.8888888888888888,
             "#fdca26"
            ],
            [
             1,
             "#f0f921"
            ]
           ],
           "sequentialminus": [
            [
             0,
             "#0d0887"
            ],
            [
             0.1111111111111111,
             "#46039f"
            ],
            [
             0.2222222222222222,
             "#7201a8"
            ],
            [
             0.3333333333333333,
             "#9c179e"
            ],
            [
             0.4444444444444444,
             "#bd3786"
            ],
            [
             0.5555555555555556,
             "#d8576b"
            ],
            [
             0.6666666666666666,
             "#ed7953"
            ],
            [
             0.7777777777777778,
             "#fb9f3a"
            ],
            [
             0.8888888888888888,
             "#fdca26"
            ],
            [
             1,
             "#f0f921"
            ]
           ]
          },
          "colorway": [
           "#636efa",
           "#EF553B",
           "#00cc96",
           "#ab63fa",
           "#FFA15A",
           "#19d3f3",
           "#FF6692",
           "#B6E880",
           "#FF97FF",
           "#FECB52"
          ],
          "font": {
           "color": "#f2f5fa"
          },
          "geo": {
           "bgcolor": "rgb(17,17,17)",
           "lakecolor": "rgb(17,17,17)",
           "landcolor": "rgb(17,17,17)",
           "showlakes": true,
           "showland": true,
           "subunitcolor": "#506784"
          },
          "hoverlabel": {
           "align": "left"
          },
          "hovermode": "closest",
          "mapbox": {
           "style": "dark"
          },
          "paper_bgcolor": "rgb(17,17,17)",
          "plot_bgcolor": "rgb(17,17,17)",
          "polar": {
           "angularaxis": {
            "gridcolor": "#506784",
            "linecolor": "#506784",
            "ticks": ""
           },
           "bgcolor": "rgb(17,17,17)",
           "radialaxis": {
            "gridcolor": "#506784",
            "linecolor": "#506784",
            "ticks": ""
           }
          },
          "scene": {
           "xaxis": {
            "backgroundcolor": "rgb(17,17,17)",
            "gridcolor": "#506784",
            "gridwidth": 2,
            "linecolor": "#506784",
            "showbackground": true,
            "ticks": "",
            "zerolinecolor": "#C8D4E3"
           },
           "yaxis": {
            "backgroundcolor": "rgb(17,17,17)",
            "gridcolor": "#506784",
            "gridwidth": 2,
            "linecolor": "#506784",
            "showbackground": true,
            "ticks": "",
            "zerolinecolor": "#C8D4E3"
           },
           "zaxis": {
            "backgroundcolor": "rgb(17,17,17)",
            "gridcolor": "#506784",
            "gridwidth": 2,
            "linecolor": "#506784",
            "showbackground": true,
            "ticks": "",
            "zerolinecolor": "#C8D4E3"
           }
          },
          "shapedefaults": {
           "line": {
            "color": "#f2f5fa"
           }
          },
          "sliderdefaults": {
           "bgcolor": "#C8D4E3",
           "bordercolor": "rgb(17,17,17)",
           "borderwidth": 1,
           "tickwidth": 0
          },
          "ternary": {
           "aaxis": {
            "gridcolor": "#506784",
            "linecolor": "#506784",
            "ticks": ""
           },
           "baxis": {
            "gridcolor": "#506784",
            "linecolor": "#506784",
            "ticks": ""
           },
           "bgcolor": "rgb(17,17,17)",
           "caxis": {
            "gridcolor": "#506784",
            "linecolor": "#506784",
            "ticks": ""
           }
          },
          "title": {
           "x": 0.05
          },
          "updatemenudefaults": {
           "bgcolor": "#506784",
           "borderwidth": 0
          },
          "xaxis": {
           "automargin": true,
           "gridcolor": "#283442",
           "linecolor": "#506784",
           "ticks": "",
           "title": {
            "standoff": 15
           },
           "zerolinecolor": "#283442",
           "zerolinewidth": 2
          },
          "yaxis": {
           "automargin": true,
           "gridcolor": "#283442",
           "linecolor": "#506784",
           "ticks": "",
           "title": {
            "standoff": 15
           },
           "zerolinecolor": "#283442",
           "zerolinewidth": 2
          }
         }
        },
        "title": {
         "text": "Ball Winning Midfielder - Support"
        },
        "xaxis": {
         "anchor": "y",
         "domain": [
          0,
          1
         ],
         "title": {
          "text": "Tck"
         }
        },
        "yaxis": {
         "anchor": "x",
         "domain": [
          0,
          1
         ],
         "title": {
          "text": "Int/90"
         }
        }
       }
      },
      "text/html": [
       "<div>\n",
       "        \n",
       "        \n",
       "            <div id=\"ef42beb6-83f1-481d-9efb-bd5d86b28285\" class=\"plotly-graph-div\" style=\"height:500px; width:100%;\"></div>\n",
       "            <script type=\"text/javascript\">\n",
       "                require([\"plotly\"], function(Plotly) {\n",
       "                    window.PLOTLYENV=window.PLOTLYENV || {};\n",
       "                    \n",
       "                if (document.getElementById(\"ef42beb6-83f1-481d-9efb-bd5d86b28285\")) {\n",
       "                    Plotly.newPlot(\n",
       "                        'ef42beb6-83f1-481d-9efb-bd5d86b28285',\n",
       "                        [{\"hovertemplate\": \"Tck=%{x}<br>Int/90=%{y}<br>Name=%{text}<extra></extra>\", \"legendgroup\": \"\", \"marker\": {\"color\": \"#636efa\", \"symbol\": \"circle\"}, \"mode\": \"markers+text\", \"name\": \"\", \"showlegend\": false, \"text\": [\"Djibril Diakit\\u00c3\\u00a9\", \"Jo\\u00c3\\u00a3o Tavares\", \"Matej Hudecek\", \"Adrian Rybak\", \"Oskar Repka\", \"Maciej Obodecki\", \"Ivo Kralj\", \"Bartosz Sobczyk\", \"Ivan Tomac\", \"Nikola Bogdanovski\", \"Stefan Velickovic\", \"Andrija Zakoc\", \"Aur\\u00c3\\u00a9lien Nguiamba\", \"Flynn Downes\", \"Nikola Puzic\", \"Andjelo Kacavenda\", \"Tymoteusz Puchacz\", \"Felix Brunmayr\", \"Lennart Grill\", \"Josip Rakic\", \"Stefan Randjelovic\", \"Radoslaw Dzierbicki\", \"Alexandar Ubavic\", \"Veljko Jovkovic\", \"Mariano G\\u00c3\\u00b3mez\", \"David Bumberger\", \"Enrico Huss\", \"Mateo Jaksic\", \"Konrad Jozwicki\", \"Nikita Marusenko\", \"Djordje Jovanovic\", \"Filip Lisnic\", \"Dawid Szalas\", \"Vladimir Ilic\", \"Marcin Mackowiak\", \"Florin Codrean\", \"David Otto\", \"Stefan Golubovic\", \"Keanan Bennetts\", \"Andrej Vukas\", \"Jannik Tepe\", \"Mladen Devetak\", \"Tom Baack\", \"Jan Sobocinski\", \"Tom\\u00c3\\u00a1s Blanco\", \"Sinan Karweina\", \"Ben Williams\", \"Arkadiusz Zajaczkowski\", \"Miguel Reisinho\", \"Filp Ceko\", \"Michel St\\u00c3\\u00b6cker\", \"J\\u00c3\\u00a9r\\u00c3\\u00b4me Deom\", \"Ranko Jokic\", \"Palko D\\u00c3\\u00a1rdai\", \"Aleksander Tomasz\", \"Alex Vigo\", \"Daniel Bielica\", \"Marko Djira\", \"Norbert Walczak\", \"Boris Moltenis\", \"Julius Kade\", \"Goran Buljandric\", \"Jannis K\\u00c3\\u00bcbler\", \"Aleksa Jovanovic\", \"Tomasz Owczarek\", \"David Wittkowski\", \"Konrad Zaklika\", \"Pawel Karbowinski\", \"Nicky Werner\", \"Julijan Popovic\", \"Nassim Boujellab\", \"Bartlomiej Gajda\", \"Nemanja Matijevic\", \"Marko Denic\", \"Robert Baar\", \"Tuta\", \"Dusan Jokovic\", \"Tomasz Dzida\", \"Aleksa Pejic\", \"Krsta Bojic\", \"Sikou Niakat\\u00c3\\u00a9\", \"Tomasz Makowski\", \"Sebastian Gwozdz\", \"Adrian Polanski\", \"Bryan Mbeumo\", \"Dorin Sirbu\", \"Elvis Novalic\", \"Micka\\u00c3\\u00abl Cuisance\", \"Mateusz Madzia\", \"Jes\\u00c3\\u00bas Vargas\", \"Marino Jedvaj\", \"Raphael Assibey-Mensah\", \"Lukasz Sztylka\", \"Zoran Zrnzevic\", \"Alex Krawiec\", \"Petar Melezovic\", \"Tomasz Kurek\", \"Danko Radic\", \"Paul Mensah\", \"Jordan Williams\", \"Mario Mustapic\", \"Nikola Trickovic\", \"Patrik Delic\", \"Maciej Famulak\", \"Wiktor Nahrebecki\", \"Barne Poggenberg\", \"Mirza Jasarevic\", \"Ratko Minic\", \"Semih \\u00c5\\u009eahin\", \"Matej Santek\", \"Georgios Siadas\", \"Tyrese Campbell\", \"Martin Krizmanic\", \"Kacper Laskos\", \"Aleksa Milojevic\", \"Cheick Doucour\\u00c3\\u00a9\", \"Ivan Jakovljev\", \"Przemyslaw Zdybowicz\", \"Sven Botman\", \"Malik Karaahmet\", \"Lukas Kr\\u00c3\\u00bcger\", \"Niclas Stierlin\", \"Mane Markovic\", \"Karol Czubak\", \"Ilija Dejanovic\", \"Pascal Hackethal\", \"Oleg Gorin\", \"Michal Zieba\", \"Miodrag Maljkovic\", \"Jakov Blagaic\", \"Harisson Marcelin\", \"Vice Bazdaric\", \"Daniel Liszka\", \"Jan Sieracki\", \"Jhonny Lucas\", \"Tymoteusz Klups\", \"Josip Sutalo\", \"Othman Boussaid\", \"Evert Linthorst\", \"Jusuf Gazibegovic\", \"Virgiliu Postolachi\", \"Luis G\\u00c3\\u00b6rlich\", \"Andrej Ilic\", \"Daniel Haritonov\", \"Patryk Drabik\", \"Tom Dobek-Pietrowski\", \"Michal Mydlarz\", \"Cho Jeong-Hui\", \"Mohamed Loua\", \"Nemanja Zikic\", \"Emir Sejdovic\", \"Samuel Lengle\", \"Mateusz Duchowski\", \"Iliya Gruev\", \"Bartosz Borun\", \"Juraj Ljubic\", \"Gon\\u00c3\\u00a7alo Rebelo\", \"Dominik Resetar\", \"Jurica Prsir\", \"Piotr Wujec\", \"Jan Majsterek\", \"Mitchel Bakker\", \"Kamil Piatkowski\", \"Michal Ozga\", \"Karol Turek\", \"Toni Karimovic\", \"Billy Crellin\", \"Konrad Sieracki\", \"Vando Luis\", \"Jan Los\", \"Jessic Ngankam\", \"Adam Borkowski\", \"Julian Rieckmann\", \"Luka Pavlak\", \"Robert Ion\", \"Linus Rosenl\\u00c3\\u00b6cher\", \"Eugen Telch\", \"Nicholas Wunsch\", \"Dawid Kisly\", \"Uros Miloradovic\", \"Alois Oroz\", \"Luca Bazzoli\", \"Ronan Darcy\", \"Yann-Aurel Bisseck\", \"Timo Bornemann\", \"Radivoj Bosic\", \"Jakov Katusa\", \"Kacper Jozefiak\", \"Szymon Mroczko\", \"Karol Struski\", \"Wojciech Kaminski\", \"Piotr Lisowski\", \"Daishawn Redan\", \"Kacper Smolinski\", \"Lukas Sch\\u00c3\\u00b6fl\", \"Mikolaj Labojko\", \"Jakub Karbownik\", \"Damir Magdic\", \"Karol Malec\", \"Patryk Wozniak\", \"Can Bozdogan\", \"Aleksander Paluszek\", \"Mario Cuic\", \"Dragoljub Savic\", \"Nathan Collins\", \"Dominik Pila\", \"Mihael Kupresak\", \"Manu Kon\\u00c3\\u00a9\", \"Niels Hahn\", \"Tin Hrvoj\", \"Lucas Da Cunha\", \"Rahim Ibrahim\", \"Renato Josipovic\", \"Han-Noah Massengo\", \"Kacper Wiatrak\", \"Bartosz Kuzniarski\", \"Adrian Petk\", \"Fabian Tauchhammer\", \"Bartlomiej Mruk\", \"Jakub Rudek\", \"Jakub Swiecinski\", \"Jakub Nowakowski\", \"Kamil Dabrowski\", \"Yuri Sprandel Flores\", \"Stefan Radmanovac\", \"Kamal Bafounta\", \"Filip Marchwinski\", \"Kamil Lukoszek\", \"Jakub Niewiadomski\", \"Dominik Kedzior\", \"Joe Gelhardt\", \"Filip Sobiecki\", \"Fran Tomek\", \"Hubert Wasiewski\", \"Djordje Vasic\", \"Jakub Zima\", \"Damian Makuch\", \"Andrzej Kloda\", \"Stipe Biuk\", \"Mateusz Pienczak\", \"FIlip Brekalo\", \"Stefan Despotovski\", \"Jakub Kisiel\", \"Duje Skugor\", \"Martin Baturina\", \"Radoslaw Cielemecki\", \"Ariel Mosor\", \"Nikola Petkovic\", \"Nikodem Sujecki\", \"Ivan Mandic\", \"Stanislaw Loch\", \"Dario Grgic\", \"Wojciech Szybka\", \"Kacper Szmidt\", \"Vukasin Krstic\", \"Obrendo Doesburg\", \"Casper Elderman\", \"Predrag Jovic\", \"Daniel Hoyo-Kowalski\", \"Darijo Basic\", \"Wiktor Mosur\", \"Uros Mirkovic\", \"Marcos Rodr\\u00c3\\u00adguez\", \"Adrian \\u00c5\\u00a2apu\", \"Paul Mari\", \"Pawel Muzylowski\", \"Dragan Radovic\", \"Szymon Kobeszko\", \"Marcin Dabrowski\", \"Jorge Delgado\", \"Daniel Piesio\", null], \"textposition\": \"top center\", \"type\": \"scatter\", \"x\": [\"2.20\", \"1.29\", \"3.31\", \"4.07\", \"7.23\", \"0.94\", \"3.92\", \"2.78\", \"4.20\", \"1.36\", \"5.13\", \"3.37\", \"4.53\", \"3.98\", \"4.81\", \"6.54\", \"0.98\", \"2.26\", \"-\", \"3.88\", \"0.00\", \"1.25\", \"2.13\", \"0.29\", \"3.00\", \"4.14\", \"2.16\", \"4.02\", \"3.46\", \"2.94\", \"0.00\", \"3.44\", \"0.93\", \"3.48\", \"4.30\", \"2.17\", \"0.17\", \"3.90\", \"2.19\", \"-\", \"0.32\", \"3.84\", \"1.56\", \"4.15\", \"0.62\", \"0.32\", \"3.85\", \"3.67\", \"2.96\", \"4.00\", \"4.08\", \"0.50\", \"3.44\", \"1.13\", \"2.00\", \"2.46\", \"-\", \"3.89\", \"1.00\", \"3.44\", \"0.85\", \"-\", \"3.63\", \"3.96\", \"5.16\", \"3.92\", \"3.34\", \"3.84\", \"0.48\", \"3.27\", \"3.34\", \"6.00\", \"0.28\", \"1.90\", \"3.47\", \"1.79\", \"4.46\", \"1.53\", \"5.92\", \"1.16\", \"3.76\", \"3.86\", \"2.01\", \"4.36\", \"0.60\", \"1.02\", \"3.95\", \"2.55\", \"5.09\", \"1.61\", \"1.68\", \"1.13\", \"4.13\", \"1.74\", \"0.75\", \"2.10\", \"0.43\", \"0.20\", \"0.13\", \"2.91\", \"0.00\", \"2.98\", \"1.00\", \"2.72\", \"3.98\", \"3.84\", \"0.42\", \"0.44\", \"1.30\", \"3.33\", \"3.28\", \"0.06\", \"3.21\", \"3.49\", \"-\", \"3.27\", \"1.61\", \"0.46\", \"4.03\", \"1.14\", \"0.84\", \"3.94\", \"0.00\", \"0.84\", \"1.26\", \"3.26\", \"3.89\", \"4.01\", \"0.44\", \"0.50\", \"2.37\", \"0.00\", \"3.02\", \"4.07\", \"3.84\", \"0.94\", \"4.07\", \"0.93\", \"2.59\", \"3.65\", \"1.00\", \"4.08\", \"0.74\", \"4.64\", \"0.82\", \"2.17\", \"3.42\", \"2.05\", \"4.74\", \"2.09\", \"2.30\", \"4.61\", \"0.56\", \"4.17\", \"2.66\", \"2.01\", \"1.33\", \"0.58\", \"2.19\", \"4.89\", \"3.94\", \"3.65\", \"3.81\", \"6.15\", \"2.70\", \"1.31\", \"-\", \"3.21\", \"1.92\", \"0.53\", \"1.05\", \"1.76\", \"4.49\", \"1.60\", \"0.42\", \"3.64\", \"1.63\", \"0.69\", \"5.21\", \"3.09\", \"2.55\", \"1.91\", \"1.23\", \"4.04\", \"0.18\", \"1.58\", \"1.10\", \"4.15\", \"3.51\", \"2.55\", \"5.17\", \"3.18\", \"0.49\", \"3.88\", \"2.06\", \"2.21\", \"1.06\", \"2.85\", \"3.72\", \"2.51\", \"2.38\", \"3.49\", \"4.61\", \"0.68\", \"3.42\", \"1.78\", \"0.28\", \"0.94\", \"2.00\", \"3.72\", \"1.41\", \"2.10\", \"0.00\", \"3.73\", \"1.68\", \"0.55\", \"3.97\", \"1.57\", \"4.28\", \"2.91\", \"4.07\", \"2.07\", \"1.51\", \"3.41\", \"3.20\", \"4.48\", \"0.28\", \"0.55\", \"4.01\", \"0.96\", \"1.27\", \"0.68\", \"4.36\", \"-\", \"1.51\", \"4.08\", \"3.94\", \"4.24\", \"1.04\", \"3.78\", \"3.17\", \"3.60\", \"5.18\", \"0.69\", \"2.14\", \"2.09\", \"4.00\", \"3.53\", \"-\", \"-\", \"1.22\", \"2.58\", \"3.92\", \"0.96\", \"4.58\", \"1.83\", \"4.52\", \"1.96\", \"3.77\", \"2.93\", \"1.07\", \"1.47\", \"4.02\", \"1.99\", \"3.83\", \"1.79\", \"1.02\", \"4.34\", \"4.27\", \"2.32\", \"2.48\", null], \"xaxis\": \"x\", \"y\": [\"0.07\", \"-\", \"2.47\", \"2.55\", \"3.02\", \"-\", \"4.56\", \"1.13\", \"3.32\", \"2.92\", \"2.30\", \"1.15\", \"2.63\", \"2.46\", \"3.40\", \"3.12\", \"3.17\", \"0.88\", \"-\", \"3.35\", \"-\", \"0.79\", \"-\", \"1.61\", \"1.72\", \"4.08\", \"1.83\", \"2.30\", \"1.50\", \"2.08\", \"1.39\", \"3.22\", \"1.21\", \"1.24\", \"2.77\", \"-\", \"1.19\", \"1.15\", \"1.18\", \"0.93\", \"1.24\", \"2.86\", \"2.78\", \"3.29\", \"0.85\", \"1.21\", \"3.08\", \"3.89\", \"1.59\", \"2.94\", \"3.82\", \"0.36\", \"2.67\", \"1.41\", \"-\", \"1.49\", \"-\", \"1.65\", \"-\", \"2.94\", \"1.10\", \"-\", \"3.70\", \"2.82\", \"1.62\", \"3.67\", \"2.35\", \"1.00\", \"0.92\", \"2.85\", \"1.56\", \"4.17\", \"0.80\", \"-\", \"1.32\", \"3.06\", \"2.66\", \"0.93\", \"2.47\", \"1.41\", \"4.28\", \"3.39\", \"-\", \"4.07\", \"0.98\", \"-\", \"2.57\", \"1.25\", \"3.88\", \"1.99\", \"-\", \"-\", \"1.49\", \"-\", \"1.10\", \"-\", \"0.92\", \"1.29\", \"0.96\", \"2.44\", \"-\", \"1.20\", \"-\", \"0.85\", \"3.53\", \"2.91\", \"0.84\", \"0.77\", \"2.90\", \"4.32\", \"3.67\", \"1.00\", \"2.58\", \"2.42\", \"-\", \"3.00\", \"-\", \"0.79\", \"2.76\", \"-\", \"1.49\", \"2.43\", \"-\", \"0.70\", \"-\", \"2.72\", \"2.65\", \"2.57\", \"0.88\", \"1.69\", \"0.38\", \"-\", \"1.95\", \"2.15\", \"3.53\", \"0.86\", \"3.43\", \"-\", \"0.91\", \"1.80\", \"-\", \"2.15\", \"1.03\", \"3.23\", \"0.67\", \"2.24\", \"3.21\", \"0.09\", \"3.74\", \"-\", \"2.04\", \"3.45\", \"1.19\", \"3.07\", \"1.33\", \"1.61\", \"0.17\", \"0.92\", \"2.10\", \"3.89\", \"2.05\", \"1.94\", \"3.59\", \"1.25\", \"3.60\", \"1.90\", \"-\", \"1.33\", \"0.21\", \"1.25\", \"1.18\", \"0.92\", \"4.07\", \"2.50\", \"2.16\", \"2.33\", \"-\", \"1.01\", \"1.70\", \"2.48\", \"3.61\", \"1.13\", \"0.47\", \"3.15\", \"0.96\", \"1.84\", \"0.97\", \"3.57\", \"1.76\", \"1.56\", \"3.84\", \"3.73\", \"1.86\", \"3.20\", \"-\", \"-\", \"0.73\", \"2.31\", \"0.93\", \"2.04\", \"2.25\", \"3.57\", \"5.09\", \"-\", \"2.76\", \"0.80\", \"1.53\", \"-\", \"-\", \"2.27\", \"-\", \"-\", \"-\", \"2.94\", \"-\", \"1.23\", \"3.73\", \"-\", \"4.61\", \"2.73\", \"2.92\", \"-\", \"0.87\", \"2.01\", \"1.33\", \"5.14\", \"1.29\", \"1.09\", \"1.91\", \"0.96\", \"0.19\", \"1.37\", \"3.21\", \"-\", \"0.80\", \"2.90\", \"4.38\", \"3.21\", \"0.99\", \"2.62\", \"3.02\", \"4.47\", \"1.65\", \"0.77\", \"0.85\", \"2.28\", \"4.00\", \"3.42\", \"-\", \"-\", \"1.06\", \"1.48\", \"4.07\", \"0.96\", \"4.23\", \"-\", \"3.21\", \"1.46\", \"3.61\", \"2.01\", \"1.07\", \"0.96\", \"1.37\", \"1.36\", \"3.14\", \"1.00\", \"1.76\", \"2.69\", \"1.72\", \"0.80\", \"3.25\", null], \"yaxis\": \"y\"}],\n",
       "                        {\"height\": 500, \"legend\": {\"tracegroupgap\": 0}, \"margin\": {\"t\": 60}, \"template\": {\"data\": {\"bar\": [{\"error_x\": {\"color\": \"#f2f5fa\"}, \"error_y\": {\"color\": \"#f2f5fa\"}, \"marker\": {\"line\": {\"color\": \"rgb(17,17,17)\", \"width\": 0.5}}, \"type\": \"bar\"}], \"barpolar\": [{\"marker\": {\"line\": {\"color\": \"rgb(17,17,17)\", \"width\": 0.5}}, \"type\": \"barpolar\"}], \"carpet\": [{\"aaxis\": {\"endlinecolor\": \"#A2B1C6\", \"gridcolor\": \"#506784\", \"linecolor\": \"#506784\", \"minorgridcolor\": \"#506784\", \"startlinecolor\": \"#A2B1C6\"}, \"baxis\": {\"endlinecolor\": \"#A2B1C6\", \"gridcolor\": \"#506784\", \"linecolor\": \"#506784\", \"minorgridcolor\": \"#506784\", \"startlinecolor\": \"#A2B1C6\"}, \"type\": \"carpet\"}], \"choropleth\": [{\"colorbar\": {\"outlinewidth\": 0, \"ticks\": \"\"}, \"type\": \"choropleth\"}], \"contour\": [{\"colorbar\": {\"outlinewidth\": 0, \"ticks\": \"\"}, \"colorscale\": [[0.0, \"#0d0887\"], [0.1111111111111111, \"#46039f\"], [0.2222222222222222, \"#7201a8\"], [0.3333333333333333, \"#9c179e\"], [0.4444444444444444, \"#bd3786\"], [0.5555555555555556, \"#d8576b\"], [0.6666666666666666, \"#ed7953\"], [0.7777777777777778, \"#fb9f3a\"], [0.8888888888888888, \"#fdca26\"], [1.0, \"#f0f921\"]], \"type\": \"contour\"}], \"contourcarpet\": [{\"colorbar\": {\"outlinewidth\": 0, \"ticks\": \"\"}, \"type\": \"contourcarpet\"}], \"heatmap\": [{\"colorbar\": {\"outlinewidth\": 0, \"ticks\": \"\"}, \"colorscale\": [[0.0, \"#0d0887\"], [0.1111111111111111, \"#46039f\"], [0.2222222222222222, \"#7201a8\"], [0.3333333333333333, \"#9c179e\"], [0.4444444444444444, \"#bd3786\"], [0.5555555555555556, \"#d8576b\"], [0.6666666666666666, \"#ed7953\"], [0.7777777777777778, \"#fb9f3a\"], [0.8888888888888888, \"#fdca26\"], [1.0, \"#f0f921\"]], \"type\": \"heatmap\"}], \"heatmapgl\": [{\"colorbar\": {\"outlinewidth\": 0, \"ticks\": \"\"}, \"colorscale\": [[0.0, \"#0d0887\"], [0.1111111111111111, \"#46039f\"], [0.2222222222222222, \"#7201a8\"], [0.3333333333333333, \"#9c179e\"], [0.4444444444444444, \"#bd3786\"], [0.5555555555555556, \"#d8576b\"], [0.6666666666666666, \"#ed7953\"], [0.7777777777777778, \"#fb9f3a\"], [0.8888888888888888, \"#fdca26\"], [1.0, \"#f0f921\"]], \"type\": \"heatmapgl\"}], \"histogram\": [{\"marker\": {\"colorbar\": {\"outlinewidth\": 0, \"ticks\": \"\"}}, \"type\": \"histogram\"}], \"histogram2d\": [{\"colorbar\": {\"outlinewidth\": 0, \"ticks\": \"\"}, \"colorscale\": [[0.0, \"#0d0887\"], [0.1111111111111111, \"#46039f\"], [0.2222222222222222, \"#7201a8\"], [0.3333333333333333, \"#9c179e\"], [0.4444444444444444, \"#bd3786\"], [0.5555555555555556, \"#d8576b\"], [0.6666666666666666, \"#ed7953\"], [0.7777777777777778, \"#fb9f3a\"], [0.8888888888888888, \"#fdca26\"], [1.0, \"#f0f921\"]], \"type\": \"histogram2d\"}], \"histogram2dcontour\": [{\"colorbar\": {\"outlinewidth\": 0, \"ticks\": \"\"}, \"colorscale\": [[0.0, \"#0d0887\"], [0.1111111111111111, \"#46039f\"], [0.2222222222222222, \"#7201a8\"], [0.3333333333333333, \"#9c179e\"], [0.4444444444444444, \"#bd3786\"], [0.5555555555555556, \"#d8576b\"], [0.6666666666666666, \"#ed7953\"], [0.7777777777777778, \"#fb9f3a\"], [0.8888888888888888, \"#fdca26\"], [1.0, \"#f0f921\"]], \"type\": \"histogram2dcontour\"}], \"mesh3d\": [{\"colorbar\": {\"outlinewidth\": 0, \"ticks\": \"\"}, \"type\": \"mesh3d\"}], \"parcoords\": [{\"line\": {\"colorbar\": {\"outlinewidth\": 0, \"ticks\": \"\"}}, \"type\": \"parcoords\"}], \"pie\": [{\"automargin\": true, \"type\": \"pie\"}], \"scatter\": [{\"marker\": {\"line\": {\"color\": \"#283442\"}}, \"type\": \"scatter\"}], \"scatter3d\": [{\"line\": {\"colorbar\": {\"outlinewidth\": 0, \"ticks\": \"\"}}, \"marker\": {\"colorbar\": {\"outlinewidth\": 0, \"ticks\": \"\"}}, \"type\": \"scatter3d\"}], \"scattercarpet\": [{\"marker\": {\"colorbar\": {\"outlinewidth\": 0, \"ticks\": \"\"}}, \"type\": \"scattercarpet\"}], \"scattergeo\": [{\"marker\": {\"colorbar\": {\"outlinewidth\": 0, \"ticks\": \"\"}}, \"type\": \"scattergeo\"}], \"scattergl\": [{\"marker\": {\"line\": {\"color\": \"#283442\"}}, \"type\": \"scattergl\"}], \"scattermapbox\": [{\"marker\": {\"colorbar\": {\"outlinewidth\": 0, \"ticks\": \"\"}}, \"type\": \"scattermapbox\"}], \"scatterpolar\": [{\"marker\": {\"colorbar\": {\"outlinewidth\": 0, \"ticks\": \"\"}}, \"type\": \"scatterpolar\"}], \"scatterpolargl\": [{\"marker\": {\"colorbar\": {\"outlinewidth\": 0, \"ticks\": \"\"}}, \"type\": \"scatterpolargl\"}], \"scatterternary\": [{\"marker\": {\"colorbar\": {\"outlinewidth\": 0, \"ticks\": \"\"}}, \"type\": \"scatterternary\"}], \"surface\": [{\"colorbar\": {\"outlinewidth\": 0, \"ticks\": \"\"}, \"colorscale\": [[0.0, \"#0d0887\"], [0.1111111111111111, \"#46039f\"], [0.2222222222222222, \"#7201a8\"], [0.3333333333333333, \"#9c179e\"], [0.4444444444444444, \"#bd3786\"], [0.5555555555555556, \"#d8576b\"], [0.6666666666666666, \"#ed7953\"], [0.7777777777777778, \"#fb9f3a\"], [0.8888888888888888, \"#fdca26\"], [1.0, \"#f0f921\"]], \"type\": \"surface\"}], \"table\": [{\"cells\": {\"fill\": {\"color\": \"#506784\"}, \"line\": {\"color\": \"rgb(17,17,17)\"}}, \"header\": {\"fill\": {\"color\": \"#2a3f5f\"}, \"line\": {\"color\": \"rgb(17,17,17)\"}}, \"type\": \"table\"}]}, \"layout\": {\"annotationdefaults\": {\"arrowcolor\": \"#f2f5fa\", \"arrowhead\": 0, \"arrowwidth\": 1}, \"coloraxis\": {\"colorbar\": {\"outlinewidth\": 0, \"ticks\": \"\"}}, \"colorscale\": {\"diverging\": [[0, \"#8e0152\"], [0.1, \"#c51b7d\"], [0.2, \"#de77ae\"], [0.3, \"#f1b6da\"], [0.4, \"#fde0ef\"], [0.5, \"#f7f7f7\"], [0.6, \"#e6f5d0\"], [0.7, \"#b8e186\"], [0.8, \"#7fbc41\"], [0.9, \"#4d9221\"], [1, \"#276419\"]], \"sequential\": [[0.0, \"#0d0887\"], [0.1111111111111111, \"#46039f\"], [0.2222222222222222, \"#7201a8\"], [0.3333333333333333, \"#9c179e\"], [0.4444444444444444, \"#bd3786\"], [0.5555555555555556, \"#d8576b\"], [0.6666666666666666, \"#ed7953\"], [0.7777777777777778, \"#fb9f3a\"], [0.8888888888888888, \"#fdca26\"], [1.0, \"#f0f921\"]], \"sequentialminus\": [[0.0, \"#0d0887\"], [0.1111111111111111, \"#46039f\"], [0.2222222222222222, \"#7201a8\"], [0.3333333333333333, \"#9c179e\"], [0.4444444444444444, \"#bd3786\"], [0.5555555555555556, \"#d8576b\"], [0.6666666666666666, \"#ed7953\"], [0.7777777777777778, \"#fb9f3a\"], [0.8888888888888888, \"#fdca26\"], [1.0, \"#f0f921\"]]}, \"colorway\": [\"#636efa\", \"#EF553B\", \"#00cc96\", \"#ab63fa\", \"#FFA15A\", \"#19d3f3\", \"#FF6692\", \"#B6E880\", \"#FF97FF\", \"#FECB52\"], \"font\": {\"color\": \"#f2f5fa\"}, \"geo\": {\"bgcolor\": \"rgb(17,17,17)\", \"lakecolor\": \"rgb(17,17,17)\", \"landcolor\": \"rgb(17,17,17)\", \"showlakes\": true, \"showland\": true, \"subunitcolor\": \"#506784\"}, \"hoverlabel\": {\"align\": \"left\"}, \"hovermode\": \"closest\", \"mapbox\": {\"style\": \"dark\"}, \"paper_bgcolor\": \"rgb(17,17,17)\", \"plot_bgcolor\": \"rgb(17,17,17)\", \"polar\": {\"angularaxis\": {\"gridcolor\": \"#506784\", \"linecolor\": \"#506784\", \"ticks\": \"\"}, \"bgcolor\": \"rgb(17,17,17)\", \"radialaxis\": {\"gridcolor\": \"#506784\", \"linecolor\": \"#506784\", \"ticks\": \"\"}}, \"scene\": {\"xaxis\": {\"backgroundcolor\": \"rgb(17,17,17)\", \"gridcolor\": \"#506784\", \"gridwidth\": 2, \"linecolor\": \"#506784\", \"showbackground\": true, \"ticks\": \"\", \"zerolinecolor\": \"#C8D4E3\"}, \"yaxis\": {\"backgroundcolor\": \"rgb(17,17,17)\", \"gridcolor\": \"#506784\", \"gridwidth\": 2, \"linecolor\": \"#506784\", \"showbackground\": true, \"ticks\": \"\", \"zerolinecolor\": \"#C8D4E3\"}, \"zaxis\": {\"backgroundcolor\": \"rgb(17,17,17)\", \"gridcolor\": \"#506784\", \"gridwidth\": 2, \"linecolor\": \"#506784\", \"showbackground\": true, \"ticks\": \"\", \"zerolinecolor\": \"#C8D4E3\"}}, \"shapedefaults\": {\"line\": {\"color\": \"#f2f5fa\"}}, \"sliderdefaults\": {\"bgcolor\": \"#C8D4E3\", \"bordercolor\": \"rgb(17,17,17)\", \"borderwidth\": 1, \"tickwidth\": 0}, \"ternary\": {\"aaxis\": {\"gridcolor\": \"#506784\", \"linecolor\": \"#506784\", \"ticks\": \"\"}, \"baxis\": {\"gridcolor\": \"#506784\", \"linecolor\": \"#506784\", \"ticks\": \"\"}, \"bgcolor\": \"rgb(17,17,17)\", \"caxis\": {\"gridcolor\": \"#506784\", \"linecolor\": \"#506784\", \"ticks\": \"\"}}, \"title\": {\"x\": 0.05}, \"updatemenudefaults\": {\"bgcolor\": \"#506784\", \"borderwidth\": 0}, \"xaxis\": {\"automargin\": true, \"gridcolor\": \"#283442\", \"linecolor\": \"#506784\", \"ticks\": \"\", \"title\": {\"standoff\": 15}, \"zerolinecolor\": \"#283442\", \"zerolinewidth\": 2}, \"yaxis\": {\"automargin\": true, \"gridcolor\": \"#283442\", \"linecolor\": \"#506784\", \"ticks\": \"\", \"title\": {\"standoff\": 15}, \"zerolinecolor\": \"#283442\", \"zerolinewidth\": 2}}}, \"title\": {\"text\": \"Ball Winning Midfielder - Support\"}, \"xaxis\": {\"anchor\": \"y\", \"domain\": [0.0, 1.0], \"title\": {\"text\": \"Tck\"}}, \"yaxis\": {\"anchor\": \"x\", \"domain\": [0.0, 1.0], \"title\": {\"text\": \"Int/90\"}}},\n",
       "                        {\"responsive\": true}\n",
       "                    ).then(function(){\n",
       "                            \n",
       "var gd = document.getElementById('ef42beb6-83f1-481d-9efb-bd5d86b28285');\n",
       "var x = new MutationObserver(function (mutations, observer) {{\n",
       "        var display = window.getComputedStyle(gd).display;\n",
       "        if (!display || display === 'none') {{\n",
       "            console.log([gd, 'removed!']);\n",
       "            Plotly.purge(gd);\n",
       "            observer.disconnect();\n",
       "        }}\n",
       "}});\n",
       "\n",
       "// Listen for the removal of the full notebook cells\n",
       "var notebookContainer = gd.closest('#notebook-container');\n",
       "if (notebookContainer) {{\n",
       "    x.observe(notebookContainer, {childList: true});\n",
       "}}\n",
       "\n",
       "// Listen for the clearing of the current output cell\n",
       "var outputEl = gd.closest('.output');\n",
       "if (outputEl) {{\n",
       "    x.observe(outputEl, {childList: true});\n",
       "}}\n",
       "\n",
       "                        })\n",
       "                };\n",
       "                });\n",
       "            </script>\n",
       "        </div>"
      ]
     },
     "metadata": {},
     "output_type": "display_data"
    }
   ],
   "source": [
    "fig = px.scatter(df1, x=\"Tck\", y=\"Int/90\", text=\"Name\", log_x=False, size_max=60)\n",
    "fig.update_traces(textposition='top center')\n",
    "fig.update_layout(\n",
    "    height=500,\n",
    "   )\n",
    "for template in [\"plotly_dark\"]:\n",
    "    fig.update_layout(template=template, title=\"Ball Winning Midfielder - Support\")\n",
    "fig.show()\n",
    "\n"
   ]
  },
  {
   "cell_type": "code",
   "execution_count": 17,
   "metadata": {},
   "outputs": [
    {
     "name": "stdout",
     "output_type": "stream",
     "text": [
      "Carilello\n"
     ]
    },
    {
     "data": {
      "text/html": [
       "<style  type=\"text/css\" >\n",
       "    #T_e2e9515d_92c6_11ea_8cb1_10bf483492darow0_col1 {\n",
       "            background-color:  #f7fbff;\n",
       "            color:  #000000;\n",
       "        }    #T_e2e9515d_92c6_11ea_8cb1_10bf483492darow0_col2 {\n",
       "            background-color:  #0b559f;\n",
       "            color:  #f1f1f1;\n",
       "        }    #T_e2e9515d_92c6_11ea_8cb1_10bf483492darow0_col3 {\n",
       "            background-color:  #6aaed6;\n",
       "            color:  #000000;\n",
       "        }    #T_e2e9515d_92c6_11ea_8cb1_10bf483492darow0_col4 {\n",
       "            background-color:  #3787c0;\n",
       "            color:  #000000;\n",
       "        }    #T_e2e9515d_92c6_11ea_8cb1_10bf483492darow0_col5 {\n",
       "            background-color:  #4a98c9;\n",
       "            color:  #000000;\n",
       "        }    #T_e2e9515d_92c6_11ea_8cb1_10bf483492darow0_col6 {\n",
       "            background-color:  #08306b;\n",
       "            color:  #f1f1f1;\n",
       "        }    #T_e2e9515d_92c6_11ea_8cb1_10bf483492darow0_col7 {\n",
       "            background-color:  #105ba4;\n",
       "            color:  #f1f1f1;\n",
       "        }    #T_e2e9515d_92c6_11ea_8cb1_10bf483492darow0_col8 {\n",
       "            background-color:  #2b7bba;\n",
       "            color:  #000000;\n",
       "        }    #T_e2e9515d_92c6_11ea_8cb1_10bf483492darow0_col9 {\n",
       "            background-color:  #08306b;\n",
       "            color:  #f1f1f1;\n",
       "        }    #T_e2e9515d_92c6_11ea_8cb1_10bf483492darow1_col1 {\n",
       "            background-color:  #2070b4;\n",
       "            color:  #f1f1f1;\n",
       "        }    #T_e2e9515d_92c6_11ea_8cb1_10bf483492darow1_col2 {\n",
       "            background-color:  #f7fbff;\n",
       "            color:  #000000;\n",
       "        }    #T_e2e9515d_92c6_11ea_8cb1_10bf483492darow1_col3 {\n",
       "            background-color:  #08306b;\n",
       "            color:  #f1f1f1;\n",
       "        }    #T_e2e9515d_92c6_11ea_8cb1_10bf483492darow1_col4 {\n",
       "            background-color:  #08306b;\n",
       "            color:  #f1f1f1;\n",
       "        }    #T_e2e9515d_92c6_11ea_8cb1_10bf483492darow1_col5 {\n",
       "            background-color:  #4a98c9;\n",
       "            color:  #000000;\n",
       "        }    #T_e2e9515d_92c6_11ea_8cb1_10bf483492darow1_col6 {\n",
       "            background-color:  #08306b;\n",
       "            color:  #f1f1f1;\n",
       "        }    #T_e2e9515d_92c6_11ea_8cb1_10bf483492darow1_col7 {\n",
       "            background-color:  #08306b;\n",
       "            color:  #f1f1f1;\n",
       "        }    #T_e2e9515d_92c6_11ea_8cb1_10bf483492darow1_col8 {\n",
       "            background-color:  #539ecd;\n",
       "            color:  #000000;\n",
       "        }    #T_e2e9515d_92c6_11ea_8cb1_10bf483492darow1_col9 {\n",
       "            background-color:  #2676b8;\n",
       "            color:  #000000;\n",
       "        }    #T_e2e9515d_92c6_11ea_8cb1_10bf483492darow2_col1 {\n",
       "            background-color:  #08306b;\n",
       "            color:  #f1f1f1;\n",
       "        }    #T_e2e9515d_92c6_11ea_8cb1_10bf483492darow2_col2 {\n",
       "            background-color:  #08306b;\n",
       "            color:  #f1f1f1;\n",
       "        }    #T_e2e9515d_92c6_11ea_8cb1_10bf483492darow2_col3 {\n",
       "            background-color:  #6aaed6;\n",
       "            color:  #000000;\n",
       "        }    #T_e2e9515d_92c6_11ea_8cb1_10bf483492darow2_col4 {\n",
       "            background-color:  #3787c0;\n",
       "            color:  #000000;\n",
       "        }    #T_e2e9515d_92c6_11ea_8cb1_10bf483492darow2_col5 {\n",
       "            background-color:  #1764ab;\n",
       "            color:  #f1f1f1;\n",
       "        }    #T_e2e9515d_92c6_11ea_8cb1_10bf483492darow2_col6 {\n",
       "            background-color:  #f7fbff;\n",
       "            color:  #000000;\n",
       "        }    #T_e2e9515d_92c6_11ea_8cb1_10bf483492darow2_col7 {\n",
       "            background-color:  #d6e6f4;\n",
       "            color:  #000000;\n",
       "        }    #T_e2e9515d_92c6_11ea_8cb1_10bf483492darow2_col8 {\n",
       "            background-color:  #2b7bba;\n",
       "            color:  #000000;\n",
       "        }    #T_e2e9515d_92c6_11ea_8cb1_10bf483492darow2_col9 {\n",
       "            background-color:  #a1cbe2;\n",
       "            color:  #000000;\n",
       "        }    #T_e2e9515d_92c6_11ea_8cb1_10bf483492darow3_col1 {\n",
       "            background-color:  #6aaed6;\n",
       "            color:  #000000;\n",
       "        }    #T_e2e9515d_92c6_11ea_8cb1_10bf483492darow3_col2 {\n",
       "            background-color:  #539ecd;\n",
       "            color:  #000000;\n",
       "        }    #T_e2e9515d_92c6_11ea_8cb1_10bf483492darow3_col3 {\n",
       "            background-color:  #c6dbef;\n",
       "            color:  #000000;\n",
       "        }    #T_e2e9515d_92c6_11ea_8cb1_10bf483492darow3_col4 {\n",
       "            background-color:  #abd0e6;\n",
       "            color:  #000000;\n",
       "        }    #T_e2e9515d_92c6_11ea_8cb1_10bf483492darow3_col5 {\n",
       "            background-color:  #4a98c9;\n",
       "            color:  #000000;\n",
       "        }    #T_e2e9515d_92c6_11ea_8cb1_10bf483492darow3_col6 {\n",
       "            background-color:  #1764ab;\n",
       "            color:  #f1f1f1;\n",
       "        }    #T_e2e9515d_92c6_11ea_8cb1_10bf483492darow3_col7 {\n",
       "            background-color:  #6aaed6;\n",
       "            color:  #000000;\n",
       "        }    #T_e2e9515d_92c6_11ea_8cb1_10bf483492darow3_col8 {\n",
       "            background-color:  #539ecd;\n",
       "            color:  #000000;\n",
       "        }    #T_e2e9515d_92c6_11ea_8cb1_10bf483492darow3_col9 {\n",
       "            background-color:  #bfd8ed;\n",
       "            color:  #000000;\n",
       "        }    #T_e2e9515d_92c6_11ea_8cb1_10bf483492darow4_col1 {\n",
       "            background-color:  #08306b;\n",
       "            color:  #f1f1f1;\n",
       "        }    #T_e2e9515d_92c6_11ea_8cb1_10bf483492darow4_col2 {\n",
       "            background-color:  #2b7bba;\n",
       "            color:  #000000;\n",
       "        }    #T_e2e9515d_92c6_11ea_8cb1_10bf483492darow4_col3 {\n",
       "            background-color:  #08306b;\n",
       "            color:  #f1f1f1;\n",
       "        }    #T_e2e9515d_92c6_11ea_8cb1_10bf483492darow4_col4 {\n",
       "            background-color:  #3787c0;\n",
       "            color:  #000000;\n",
       "        }    #T_e2e9515d_92c6_11ea_8cb1_10bf483492darow4_col5 {\n",
       "            background-color:  #08306b;\n",
       "            color:  #f1f1f1;\n",
       "        }    #T_e2e9515d_92c6_11ea_8cb1_10bf483492darow4_col6 {\n",
       "            background-color:  #1764ab;\n",
       "            color:  #f1f1f1;\n",
       "        }    #T_e2e9515d_92c6_11ea_8cb1_10bf483492darow4_col7 {\n",
       "            background-color:  #f7fbff;\n",
       "            color:  #000000;\n",
       "        }    #T_e2e9515d_92c6_11ea_8cb1_10bf483492darow4_col8 {\n",
       "            background-color:  #f7fbff;\n",
       "            color:  #000000;\n",
       "        }    #T_e2e9515d_92c6_11ea_8cb1_10bf483492darow4_col9 {\n",
       "            background-color:  #bfd8ed;\n",
       "            color:  #000000;\n",
       "        }    #T_e2e9515d_92c6_11ea_8cb1_10bf483492darow5_col1 {\n",
       "            background-color:  #08306b;\n",
       "            color:  #f1f1f1;\n",
       "        }    #T_e2e9515d_92c6_11ea_8cb1_10bf483492darow5_col2 {\n",
       "            background-color:  #08306b;\n",
       "            color:  #f1f1f1;\n",
       "        }    #T_e2e9515d_92c6_11ea_8cb1_10bf483492darow5_col3 {\n",
       "            background-color:  #f7fbff;\n",
       "            color:  #000000;\n",
       "        }    #T_e2e9515d_92c6_11ea_8cb1_10bf483492darow5_col4 {\n",
       "            background-color:  #abd0e6;\n",
       "            color:  #000000;\n",
       "        }    #T_e2e9515d_92c6_11ea_8cb1_10bf483492darow5_col5 {\n",
       "            background-color:  #d0e1f2;\n",
       "            color:  #000000;\n",
       "        }    #T_e2e9515d_92c6_11ea_8cb1_10bf483492darow5_col6 {\n",
       "            background-color:  #08306b;\n",
       "            color:  #f1f1f1;\n",
       "        }    #T_e2e9515d_92c6_11ea_8cb1_10bf483492darow5_col7 {\n",
       "            background-color:  #3787c0;\n",
       "            color:  #000000;\n",
       "        }    #T_e2e9515d_92c6_11ea_8cb1_10bf483492darow5_col8 {\n",
       "            background-color:  #dbe9f6;\n",
       "            color:  #000000;\n",
       "        }    #T_e2e9515d_92c6_11ea_8cb1_10bf483492darow5_col9 {\n",
       "            background-color:  #d3e4f3;\n",
       "            color:  #000000;\n",
       "        }    #T_e2e9515d_92c6_11ea_8cb1_10bf483492darow6_col1 {\n",
       "            background-color:  #6aaed6;\n",
       "            color:  #000000;\n",
       "        }    #T_e2e9515d_92c6_11ea_8cb1_10bf483492darow6_col2 {\n",
       "            background-color:  #bad6eb;\n",
       "            color:  #000000;\n",
       "        }    #T_e2e9515d_92c6_11ea_8cb1_10bf483492darow6_col3 {\n",
       "            background-color:  #c6dbef;\n",
       "            color:  #000000;\n",
       "        }    #T_e2e9515d_92c6_11ea_8cb1_10bf483492darow6_col4 {\n",
       "            background-color:  #f7fbff;\n",
       "            color:  #000000;\n",
       "        }    #T_e2e9515d_92c6_11ea_8cb1_10bf483492darow6_col5 {\n",
       "            background-color:  #94c4df;\n",
       "            color:  #000000;\n",
       "        }    #T_e2e9515d_92c6_11ea_8cb1_10bf483492darow6_col6 {\n",
       "            background-color:  #d0e1f2;\n",
       "            color:  #000000;\n",
       "        }    #T_e2e9515d_92c6_11ea_8cb1_10bf483492darow6_col7 {\n",
       "            background-color:  #08306b;\n",
       "            color:  #f1f1f1;\n",
       "        }    #T_e2e9515d_92c6_11ea_8cb1_10bf483492darow6_col8 {\n",
       "            background-color:  #08306b;\n",
       "            color:  #f1f1f1;\n",
       "        }    #T_e2e9515d_92c6_11ea_8cb1_10bf483492darow6_col9 {\n",
       "            background-color:  #d3e4f3;\n",
       "            color:  #000000;\n",
       "        }    #T_e2e9515d_92c6_11ea_8cb1_10bf483492darow7_col1 {\n",
       "            background-color:  #2070b4;\n",
       "            color:  #f1f1f1;\n",
       "        }    #T_e2e9515d_92c6_11ea_8cb1_10bf483492darow7_col2 {\n",
       "            background-color:  #f7fbff;\n",
       "            color:  #000000;\n",
       "        }    #T_e2e9515d_92c6_11ea_8cb1_10bf483492darow7_col3 {\n",
       "            background-color:  #2070b4;\n",
       "            color:  #f1f1f1;\n",
       "        }    #T_e2e9515d_92c6_11ea_8cb1_10bf483492darow7_col4 {\n",
       "            background-color:  #3787c0;\n",
       "            color:  #000000;\n",
       "        }    #T_e2e9515d_92c6_11ea_8cb1_10bf483492darow7_col5 {\n",
       "            background-color:  #1764ab;\n",
       "            color:  #f1f1f1;\n",
       "        }    #T_e2e9515d_92c6_11ea_8cb1_10bf483492darow7_col6 {\n",
       "            background-color:  #4a98c9;\n",
       "            color:  #000000;\n",
       "        }    #T_e2e9515d_92c6_11ea_8cb1_10bf483492darow7_col7 {\n",
       "            background-color:  #6aaed6;\n",
       "            color:  #000000;\n",
       "        }    #T_e2e9515d_92c6_11ea_8cb1_10bf483492darow7_col8 {\n",
       "            background-color:  #89bedc;\n",
       "            color:  #000000;\n",
       "        }    #T_e2e9515d_92c6_11ea_8cb1_10bf483492darow7_col9 {\n",
       "            background-color:  #e5eff9;\n",
       "            color:  #000000;\n",
       "        }    #T_e2e9515d_92c6_11ea_8cb1_10bf483492darow8_col1 {\n",
       "            background-color:  #c6dbef;\n",
       "            color:  #000000;\n",
       "        }    #T_e2e9515d_92c6_11ea_8cb1_10bf483492darow8_col2 {\n",
       "            background-color:  #2b7bba;\n",
       "            color:  #000000;\n",
       "        }    #T_e2e9515d_92c6_11ea_8cb1_10bf483492darow8_col3 {\n",
       "            background-color:  #6aaed6;\n",
       "            color:  #000000;\n",
       "        }    #T_e2e9515d_92c6_11ea_8cb1_10bf483492darow8_col4 {\n",
       "            background-color:  #3787c0;\n",
       "            color:  #000000;\n",
       "        }    #T_e2e9515d_92c6_11ea_8cb1_10bf483492darow8_col5 {\n",
       "            background-color:  #1764ab;\n",
       "            color:  #f1f1f1;\n",
       "        }    #T_e2e9515d_92c6_11ea_8cb1_10bf483492darow8_col6 {\n",
       "            background-color:  #f7fbff;\n",
       "            color:  #000000;\n",
       "        }    #T_e2e9515d_92c6_11ea_8cb1_10bf483492darow8_col7 {\n",
       "            background-color:  #abd0e6;\n",
       "            color:  #000000;\n",
       "        }    #T_e2e9515d_92c6_11ea_8cb1_10bf483492darow8_col8 {\n",
       "            background-color:  #89bedc;\n",
       "            color:  #000000;\n",
       "        }    #T_e2e9515d_92c6_11ea_8cb1_10bf483492darow8_col9 {\n",
       "            background-color:  #e5eff9;\n",
       "            color:  #000000;\n",
       "        }    #T_e2e9515d_92c6_11ea_8cb1_10bf483492darow9_col1 {\n",
       "            background-color:  #2070b4;\n",
       "            color:  #f1f1f1;\n",
       "        }    #T_e2e9515d_92c6_11ea_8cb1_10bf483492darow9_col2 {\n",
       "            background-color:  #bad6eb;\n",
       "            color:  #000000;\n",
       "        }    #T_e2e9515d_92c6_11ea_8cb1_10bf483492darow9_col3 {\n",
       "            background-color:  #6aaed6;\n",
       "            color:  #000000;\n",
       "        }    #T_e2e9515d_92c6_11ea_8cb1_10bf483492darow9_col4 {\n",
       "            background-color:  #abd0e6;\n",
       "            color:  #000000;\n",
       "        }    #T_e2e9515d_92c6_11ea_8cb1_10bf483492darow9_col5 {\n",
       "            background-color:  #f7fbff;\n",
       "            color:  #000000;\n",
       "        }    #T_e2e9515d_92c6_11ea_8cb1_10bf483492darow9_col6 {\n",
       "            background-color:  #1764ab;\n",
       "            color:  #f1f1f1;\n",
       "        }    #T_e2e9515d_92c6_11ea_8cb1_10bf483492darow9_col7 {\n",
       "            background-color:  #105ba4;\n",
       "            color:  #f1f1f1;\n",
       "        }    #T_e2e9515d_92c6_11ea_8cb1_10bf483492darow9_col8 {\n",
       "            background-color:  #89bedc;\n",
       "            color:  #000000;\n",
       "        }    #T_e2e9515d_92c6_11ea_8cb1_10bf483492darow9_col9 {\n",
       "            background-color:  #f7fbff;\n",
       "            color:  #000000;\n",
       "        }</style><table id=\"T_e2e9515d_92c6_11ea_8cb1_10bf483492da\" ><thead>    <tr>        <th class=\"col_heading level0 col0\" >Name</th>        <th class=\"col_heading level0 col1\" >Age</th>        <th class=\"col_heading level0 col2\" >Pas</th>        <th class=\"col_heading level0 col3\" >Tck</th>        <th class=\"col_heading level0 col4\" >Dec</th>        <th class=\"col_heading level0 col5\" >Pos</th>        <th class=\"col_heading level0 col6\" >Tea</th>        <th class=\"col_heading level0 col7\" >Wor</th>        <th class=\"col_heading level0 col8\" >Sta</th>        <th class=\"col_heading level0 col9\" >car_score</th>    </tr></thead><tbody>\n",
       "                <tr>\n",
       "                                <td id=\"T_e2e9515d_92c6_11ea_8cb1_10bf483492darow0_col0\" class=\"data row0 col0\" >Paul Mari</td>\n",
       "                        <td id=\"T_e2e9515d_92c6_11ea_8cb1_10bf483492darow0_col1\" class=\"data row0 col1\" >                  19</td>\n",
       "                        <td id=\"T_e2e9515d_92c6_11ea_8cb1_10bf483492darow0_col2\" class=\"data row0 col2\" >14</td>\n",
       "                        <td id=\"T_e2e9515d_92c6_11ea_8cb1_10bf483492darow0_col3\" class=\"data row0 col3\" >13</td>\n",
       "                        <td id=\"T_e2e9515d_92c6_11ea_8cb1_10bf483492darow0_col4\" class=\"data row0 col4\" >13</td>\n",
       "                        <td id=\"T_e2e9515d_92c6_11ea_8cb1_10bf483492darow0_col5\" class=\"data row0 col5\" >12</td>\n",
       "                        <td id=\"T_e2e9515d_92c6_11ea_8cb1_10bf483492darow0_col6\" class=\"data row0 col6\" >18</td>\n",
       "                        <td id=\"T_e2e9515d_92c6_11ea_8cb1_10bf483492darow0_col7\" class=\"data row0 col7\" >16</td>\n",
       "                        <td id=\"T_e2e9515d_92c6_11ea_8cb1_10bf483492darow0_col8\" class=\"data row0 col8\" >14</td>\n",
       "                        <td id=\"T_e2e9515d_92c6_11ea_8cb1_10bf483492darow0_col9\" class=\"data row0 col9\" >100</td>\n",
       "            </tr>\n",
       "            <tr>\n",
       "                                <td id=\"T_e2e9515d_92c6_11ea_8cb1_10bf483492darow1_col0\" class=\"data row1 col0\" >Michal Ozga</td>\n",
       "                        <td id=\"T_e2e9515d_92c6_11ea_8cb1_10bf483492darow1_col1\" class=\"data row1 col1\" >                  22</td>\n",
       "                        <td id=\"T_e2e9515d_92c6_11ea_8cb1_10bf483492darow1_col2\" class=\"data row1 col2\" >8</td>\n",
       "                        <td id=\"T_e2e9515d_92c6_11ea_8cb1_10bf483492darow1_col3\" class=\"data row1 col3\" >15</td>\n",
       "                        <td id=\"T_e2e9515d_92c6_11ea_8cb1_10bf483492darow1_col4\" class=\"data row1 col4\" >14</td>\n",
       "                        <td id=\"T_e2e9515d_92c6_11ea_8cb1_10bf483492darow1_col5\" class=\"data row1 col5\" >12</td>\n",
       "                        <td id=\"T_e2e9515d_92c6_11ea_8cb1_10bf483492darow1_col6\" class=\"data row1 col6\" >18</td>\n",
       "                        <td id=\"T_e2e9515d_92c6_11ea_8cb1_10bf483492darow1_col7\" class=\"data row1 col7\" >17</td>\n",
       "                        <td id=\"T_e2e9515d_92c6_11ea_8cb1_10bf483492darow1_col8\" class=\"data row1 col8\" >13</td>\n",
       "                        <td id=\"T_e2e9515d_92c6_11ea_8cb1_10bf483492darow1_col9\" class=\"data row1 col9\" >97</td>\n",
       "            </tr>\n",
       "            <tr>\n",
       "                                <td id=\"T_e2e9515d_92c6_11ea_8cb1_10bf483492darow2_col0\" class=\"data row2 col0\" >Jan Sobocinski</td>\n",
       "                        <td id=\"T_e2e9515d_92c6_11ea_8cb1_10bf483492darow2_col1\" class=\"data row2 col1\" >                  23</td>\n",
       "                        <td id=\"T_e2e9515d_92c6_11ea_8cb1_10bf483492darow2_col2\" class=\"data row2 col2\" >15</td>\n",
       "                        <td id=\"T_e2e9515d_92c6_11ea_8cb1_10bf483492darow2_col3\" class=\"data row2 col3\" >13</td>\n",
       "                        <td id=\"T_e2e9515d_92c6_11ea_8cb1_10bf483492darow2_col4\" class=\"data row2 col4\" >13</td>\n",
       "                        <td id=\"T_e2e9515d_92c6_11ea_8cb1_10bf483492darow2_col5\" class=\"data row2 col5\" >13</td>\n",
       "                        <td id=\"T_e2e9515d_92c6_11ea_8cb1_10bf483492darow2_col6\" class=\"data row2 col6\" >13</td>\n",
       "                        <td id=\"T_e2e9515d_92c6_11ea_8cb1_10bf483492darow2_col7\" class=\"data row2 col7\" >12</td>\n",
       "                        <td id=\"T_e2e9515d_92c6_11ea_8cb1_10bf483492darow2_col8\" class=\"data row2 col8\" >14</td>\n",
       "                        <td id=\"T_e2e9515d_92c6_11ea_8cb1_10bf483492darow2_col9\" class=\"data row2 col9\" >93</td>\n",
       "            </tr>\n",
       "            <tr>\n",
       "                                <td id=\"T_e2e9515d_92c6_11ea_8cb1_10bf483492darow3_col0\" class=\"data row3 col0\" >Yuri Sprandel Flores</td>\n",
       "                        <td id=\"T_e2e9515d_92c6_11ea_8cb1_10bf483492darow3_col1\" class=\"data row3 col1\" >                  21</td>\n",
       "                        <td id=\"T_e2e9515d_92c6_11ea_8cb1_10bf483492darow3_col2\" class=\"data row3 col2\" >12</td>\n",
       "                        <td id=\"T_e2e9515d_92c6_11ea_8cb1_10bf483492darow3_col3\" class=\"data row3 col3\" >12</td>\n",
       "                        <td id=\"T_e2e9515d_92c6_11ea_8cb1_10bf483492darow3_col4\" class=\"data row3 col4\" >12</td>\n",
       "                        <td id=\"T_e2e9515d_92c6_11ea_8cb1_10bf483492darow3_col5\" class=\"data row3 col5\" >12</td>\n",
       "                        <td id=\"T_e2e9515d_92c6_11ea_8cb1_10bf483492darow3_col6\" class=\"data row3 col6\" >17</td>\n",
       "                        <td id=\"T_e2e9515d_92c6_11ea_8cb1_10bf483492darow3_col7\" class=\"data row3 col7\" >14</td>\n",
       "                        <td id=\"T_e2e9515d_92c6_11ea_8cb1_10bf483492darow3_col8\" class=\"data row3 col8\" >13</td>\n",
       "                        <td id=\"T_e2e9515d_92c6_11ea_8cb1_10bf483492darow3_col9\" class=\"data row3 col9\" >92</td>\n",
       "            </tr>\n",
       "            <tr>\n",
       "                                <td id=\"T_e2e9515d_92c6_11ea_8cb1_10bf483492darow4_col0\" class=\"data row4 col0\" >Andjelo Kacavenda</td>\n",
       "                        <td id=\"T_e2e9515d_92c6_11ea_8cb1_10bf483492darow4_col1\" class=\"data row4 col1\" >                  23</td>\n",
       "                        <td id=\"T_e2e9515d_92c6_11ea_8cb1_10bf483492darow4_col2\" class=\"data row4 col2\" >13</td>\n",
       "                        <td id=\"T_e2e9515d_92c6_11ea_8cb1_10bf483492darow4_col3\" class=\"data row4 col3\" >15</td>\n",
       "                        <td id=\"T_e2e9515d_92c6_11ea_8cb1_10bf483492darow4_col4\" class=\"data row4 col4\" >13</td>\n",
       "                        <td id=\"T_e2e9515d_92c6_11ea_8cb1_10bf483492darow4_col5\" class=\"data row4 col5\" >14</td>\n",
       "                        <td id=\"T_e2e9515d_92c6_11ea_8cb1_10bf483492darow4_col6\" class=\"data row4 col6\" >17</td>\n",
       "                        <td id=\"T_e2e9515d_92c6_11ea_8cb1_10bf483492darow4_col7\" class=\"data row4 col7\" >11</td>\n",
       "                        <td id=\"T_e2e9515d_92c6_11ea_8cb1_10bf483492darow4_col8\" class=\"data row4 col8\" >9</td>\n",
       "                        <td id=\"T_e2e9515d_92c6_11ea_8cb1_10bf483492darow4_col9\" class=\"data row4 col9\" >92</td>\n",
       "            </tr>\n",
       "            <tr>\n",
       "                                <td id=\"T_e2e9515d_92c6_11ea_8cb1_10bf483492darow5_col0\" class=\"data row5 col0\" >Elvis Novalic</td>\n",
       "                        <td id=\"T_e2e9515d_92c6_11ea_8cb1_10bf483492darow5_col1\" class=\"data row5 col1\" >                  23</td>\n",
       "                        <td id=\"T_e2e9515d_92c6_11ea_8cb1_10bf483492darow5_col2\" class=\"data row5 col2\" >15</td>\n",
       "                        <td id=\"T_e2e9515d_92c6_11ea_8cb1_10bf483492darow5_col3\" class=\"data row5 col3\" >11</td>\n",
       "                        <td id=\"T_e2e9515d_92c6_11ea_8cb1_10bf483492darow5_col4\" class=\"data row5 col4\" >12</td>\n",
       "                        <td id=\"T_e2e9515d_92c6_11ea_8cb1_10bf483492darow5_col5\" class=\"data row5 col5\" >10</td>\n",
       "                        <td id=\"T_e2e9515d_92c6_11ea_8cb1_10bf483492darow5_col6\" class=\"data row5 col6\" >18</td>\n",
       "                        <td id=\"T_e2e9515d_92c6_11ea_8cb1_10bf483492darow5_col7\" class=\"data row5 col7\" >15</td>\n",
       "                        <td id=\"T_e2e9515d_92c6_11ea_8cb1_10bf483492darow5_col8\" class=\"data row5 col8\" >10</td>\n",
       "                        <td id=\"T_e2e9515d_92c6_11ea_8cb1_10bf483492darow5_col9\" class=\"data row5 col9\" >91</td>\n",
       "            </tr>\n",
       "            <tr>\n",
       "                                <td id=\"T_e2e9515d_92c6_11ea_8cb1_10bf483492darow6_col0\" class=\"data row6 col0\" >Jakub Swiecinski</td>\n",
       "                        <td id=\"T_e2e9515d_92c6_11ea_8cb1_10bf483492darow6_col1\" class=\"data row6 col1\" >                  21</td>\n",
       "                        <td id=\"T_e2e9515d_92c6_11ea_8cb1_10bf483492darow6_col2\" class=\"data row6 col2\" >10</td>\n",
       "                        <td id=\"T_e2e9515d_92c6_11ea_8cb1_10bf483492darow6_col3\" class=\"data row6 col3\" >12</td>\n",
       "                        <td id=\"T_e2e9515d_92c6_11ea_8cb1_10bf483492darow6_col4\" class=\"data row6 col4\" >11</td>\n",
       "                        <td id=\"T_e2e9515d_92c6_11ea_8cb1_10bf483492darow6_col5\" class=\"data row6 col5\" >11</td>\n",
       "                        <td id=\"T_e2e9515d_92c6_11ea_8cb1_10bf483492darow6_col6\" class=\"data row6 col6\" >14</td>\n",
       "                        <td id=\"T_e2e9515d_92c6_11ea_8cb1_10bf483492darow6_col7\" class=\"data row6 col7\" >17</td>\n",
       "                        <td id=\"T_e2e9515d_92c6_11ea_8cb1_10bf483492darow6_col8\" class=\"data row6 col8\" >16</td>\n",
       "                        <td id=\"T_e2e9515d_92c6_11ea_8cb1_10bf483492darow6_col9\" class=\"data row6 col9\" >91</td>\n",
       "            </tr>\n",
       "            <tr>\n",
       "                                <td id=\"T_e2e9515d_92c6_11ea_8cb1_10bf483492darow7_col0\" class=\"data row7 col0\" >Piotr Wujec</td>\n",
       "                        <td id=\"T_e2e9515d_92c6_11ea_8cb1_10bf483492darow7_col1\" class=\"data row7 col1\" >                  22</td>\n",
       "                        <td id=\"T_e2e9515d_92c6_11ea_8cb1_10bf483492darow7_col2\" class=\"data row7 col2\" >8</td>\n",
       "                        <td id=\"T_e2e9515d_92c6_11ea_8cb1_10bf483492darow7_col3\" class=\"data row7 col3\" >14</td>\n",
       "                        <td id=\"T_e2e9515d_92c6_11ea_8cb1_10bf483492darow7_col4\" class=\"data row7 col4\" >13</td>\n",
       "                        <td id=\"T_e2e9515d_92c6_11ea_8cb1_10bf483492darow7_col5\" class=\"data row7 col5\" >13</td>\n",
       "                        <td id=\"T_e2e9515d_92c6_11ea_8cb1_10bf483492darow7_col6\" class=\"data row7 col6\" >16</td>\n",
       "                        <td id=\"T_e2e9515d_92c6_11ea_8cb1_10bf483492darow7_col7\" class=\"data row7 col7\" >14</td>\n",
       "                        <td id=\"T_e2e9515d_92c6_11ea_8cb1_10bf483492darow7_col8\" class=\"data row7 col8\" >12</td>\n",
       "                        <td id=\"T_e2e9515d_92c6_11ea_8cb1_10bf483492darow7_col9\" class=\"data row7 col9\" >90</td>\n",
       "            </tr>\n",
       "            <tr>\n",
       "                                <td id=\"T_e2e9515d_92c6_11ea_8cb1_10bf483492darow8_col0\" class=\"data row8 col0\" >Kamal Bafounta</td>\n",
       "                        <td id=\"T_e2e9515d_92c6_11ea_8cb1_10bf483492darow8_col1\" class=\"data row8 col1\" >                  20</td>\n",
       "                        <td id=\"T_e2e9515d_92c6_11ea_8cb1_10bf483492darow8_col2\" class=\"data row8 col2\" >13</td>\n",
       "                        <td id=\"T_e2e9515d_92c6_11ea_8cb1_10bf483492darow8_col3\" class=\"data row8 col3\" >13</td>\n",
       "                        <td id=\"T_e2e9515d_92c6_11ea_8cb1_10bf483492darow8_col4\" class=\"data row8 col4\" >13</td>\n",
       "                        <td id=\"T_e2e9515d_92c6_11ea_8cb1_10bf483492darow8_col5\" class=\"data row8 col5\" >13</td>\n",
       "                        <td id=\"T_e2e9515d_92c6_11ea_8cb1_10bf483492darow8_col6\" class=\"data row8 col6\" >13</td>\n",
       "                        <td id=\"T_e2e9515d_92c6_11ea_8cb1_10bf483492darow8_col7\" class=\"data row8 col7\" >13</td>\n",
       "                        <td id=\"T_e2e9515d_92c6_11ea_8cb1_10bf483492darow8_col8\" class=\"data row8 col8\" >12</td>\n",
       "                        <td id=\"T_e2e9515d_92c6_11ea_8cb1_10bf483492darow8_col9\" class=\"data row8 col9\" >90</td>\n",
       "            </tr>\n",
       "            <tr>\n",
       "                                <td id=\"T_e2e9515d_92c6_11ea_8cb1_10bf483492darow9_col0\" class=\"data row9 col0\" >Jan Sieracki</td>\n",
       "                        <td id=\"T_e2e9515d_92c6_11ea_8cb1_10bf483492darow9_col1\" class=\"data row9 col1\" >                  22</td>\n",
       "                        <td id=\"T_e2e9515d_92c6_11ea_8cb1_10bf483492darow9_col2\" class=\"data row9 col2\" >10</td>\n",
       "                        <td id=\"T_e2e9515d_92c6_11ea_8cb1_10bf483492darow9_col3\" class=\"data row9 col3\" >13</td>\n",
       "                        <td id=\"T_e2e9515d_92c6_11ea_8cb1_10bf483492darow9_col4\" class=\"data row9 col4\" >12</td>\n",
       "                        <td id=\"T_e2e9515d_92c6_11ea_8cb1_10bf483492darow9_col5\" class=\"data row9 col5\" >9</td>\n",
       "                        <td id=\"T_e2e9515d_92c6_11ea_8cb1_10bf483492darow9_col6\" class=\"data row9 col6\" >17</td>\n",
       "                        <td id=\"T_e2e9515d_92c6_11ea_8cb1_10bf483492darow9_col7\" class=\"data row9 col7\" >16</td>\n",
       "                        <td id=\"T_e2e9515d_92c6_11ea_8cb1_10bf483492darow9_col8\" class=\"data row9 col8\" >12</td>\n",
       "                        <td id=\"T_e2e9515d_92c6_11ea_8cb1_10bf483492darow9_col9\" class=\"data row9 col9\" >89</td>\n",
       "            </tr>\n",
       "    </tbody></table>"
      ],
      "text/plain": [
       "<pandas.io.formats.style.Styler at 0xd187b80>"
      ]
     },
     "execution_count": 17,
     "metadata": {},
     "output_type": "execute_result"
    }
   ],
   "source": [
    "print(\"Carilello\")\n",
    "sorted_car = car.sort_values(by='car_score', ascending=False)\n",
    "sorted_car.head(10).style.format({\"Age\": \"{:20,.0f}\", \n",
    "                          })\\\n",
    "                       .hide_index()\\\n",
    "                       .background_gradient(cmap='Blues')"
   ]
  },
  {
   "cell_type": "code",
   "execution_count": 18,
   "metadata": {},
   "outputs": [
    {
     "data": {
      "application/vnd.plotly.v1+json": {
       "config": {
        "plotlyServerURL": "https://plot.ly"
       },
       "data": [
        {
         "hovertemplate": "K Ps/90=%{x}<br>Pas %=%{y}<br>Name=%{text}<extra></extra>",
         "legendgroup": "",
         "marker": {
          "color": "#636efa",
          "symbol": "circle"
         },
         "mode": "markers+text",
         "name": "",
         "showlegend": false,
         "text": [
          "Djibril DiakitÃ©",
          "JoÃ£o Tavares",
          "Matej Hudecek",
          "Adrian Rybak",
          "Oskar Repka",
          "Maciej Obodecki",
          "Ivo Kralj",
          "Bartosz Sobczyk",
          "Ivan Tomac",
          "Nikola Bogdanovski",
          "Stefan Velickovic",
          "Andrija Zakoc",
          "AurÃ©lien Nguiamba",
          "Flynn Downes",
          "Nikola Puzic",
          "Andjelo Kacavenda",
          "Tymoteusz Puchacz",
          "Felix Brunmayr",
          "Lennart Grill",
          "Josip Rakic",
          "Stefan Randjelovic",
          "Radoslaw Dzierbicki",
          "Alexandar Ubavic",
          "Veljko Jovkovic",
          "Mariano GÃ³mez",
          "David Bumberger",
          "Enrico Huss",
          "Mateo Jaksic",
          "Konrad Jozwicki",
          "Nikita Marusenko",
          "Djordje Jovanovic",
          "Filip Lisnic",
          "Dawid Szalas",
          "Vladimir Ilic",
          "Marcin Mackowiak",
          "Florin Codrean",
          "David Otto",
          "Stefan Golubovic",
          "Keanan Bennetts",
          "Andrej Vukas",
          "Jannik Tepe",
          "Mladen Devetak",
          "Tom Baack",
          "Jan Sobocinski",
          "TomÃ¡s Blanco",
          "Sinan Karweina",
          "Ben Williams",
          "Arkadiusz Zajaczkowski",
          "Miguel Reisinho",
          "Filp Ceko",
          "Michel StÃ¶cker",
          "JÃ©rÃ´me Deom",
          "Ranko Jokic",
          "Palko DÃ¡rdai",
          "Aleksander Tomasz",
          "Alex Vigo",
          "Daniel Bielica",
          "Marko Djira",
          "Norbert Walczak",
          "Boris Moltenis",
          "Julius Kade",
          "Goran Buljandric",
          "Jannis KÃ¼bler",
          "Aleksa Jovanovic",
          "Tomasz Owczarek",
          "David Wittkowski",
          "Konrad Zaklika",
          "Pawel Karbowinski",
          "Nicky Werner",
          "Julijan Popovic",
          "Nassim Boujellab",
          "Bartlomiej Gajda",
          "Nemanja Matijevic",
          "Marko Denic",
          "Robert Baar",
          "Tuta",
          "Dusan Jokovic",
          "Tomasz Dzida",
          "Aleksa Pejic",
          "Krsta Bojic",
          "Sikou NiakatÃ©",
          "Tomasz Makowski",
          "Sebastian Gwozdz",
          "Adrian Polanski",
          "Bryan Mbeumo",
          "Dorin Sirbu",
          "Elvis Novalic",
          "MickaÃ«l Cuisance",
          "Mateusz Madzia",
          "JesÃºs Vargas",
          "Marino Jedvaj",
          "Raphael Assibey-Mensah",
          "Lukasz Sztylka",
          "Zoran Zrnzevic",
          "Alex Krawiec",
          "Petar Melezovic",
          "Tomasz Kurek",
          "Danko Radic",
          "Paul Mensah",
          "Jordan Williams",
          "Mario Mustapic",
          "Nikola Trickovic",
          "Patrik Delic",
          "Maciej Famulak",
          "Wiktor Nahrebecki",
          "Barne Poggenberg",
          "Mirza Jasarevic",
          "Ratko Minic",
          "Semih Åahin",
          "Matej Santek",
          "Georgios Siadas",
          "Tyrese Campbell",
          "Martin Krizmanic",
          "Kacper Laskos",
          "Aleksa Milojevic",
          "Cheick DoucourÃ©",
          "Ivan Jakovljev",
          "Przemyslaw Zdybowicz",
          "Sven Botman",
          "Malik Karaahmet",
          "Lukas KrÃ¼ger",
          "Niclas Stierlin",
          "Mane Markovic",
          "Karol Czubak",
          "Ilija Dejanovic",
          "Pascal Hackethal",
          "Oleg Gorin",
          "Michal Zieba",
          "Miodrag Maljkovic",
          "Jakov Blagaic",
          "Harisson Marcelin",
          "Vice Bazdaric",
          "Daniel Liszka",
          "Jan Sieracki",
          "Jhonny Lucas",
          "Tymoteusz Klups",
          "Josip Sutalo",
          "Othman Boussaid",
          "Evert Linthorst",
          "Jusuf Gazibegovic",
          "Virgiliu Postolachi",
          "Luis GÃ¶rlich",
          "Andrej Ilic",
          "Daniel Haritonov",
          "Patryk Drabik",
          "Tom Dobek-Pietrowski",
          "Michal Mydlarz",
          "Cho Jeong-Hui",
          "Mohamed Loua",
          "Nemanja Zikic",
          "Emir Sejdovic",
          "Samuel Lengle",
          "Mateusz Duchowski",
          "Iliya Gruev",
          "Bartosz Borun",
          "Juraj Ljubic",
          "GonÃ§alo Rebelo",
          "Dominik Resetar",
          "Jurica Prsir",
          "Piotr Wujec",
          "Jan Majsterek",
          "Mitchel Bakker",
          "Kamil Piatkowski",
          "Michal Ozga",
          "Karol Turek",
          "Toni Karimovic",
          "Billy Crellin",
          "Konrad Sieracki",
          "Vando Luis",
          "Jan Los",
          "Jessic Ngankam",
          "Adam Borkowski",
          "Julian Rieckmann",
          "Luka Pavlak",
          "Robert Ion",
          "Linus RosenlÃ¶cher",
          "Eugen Telch",
          "Nicholas Wunsch",
          "Dawid Kisly",
          "Uros Miloradovic",
          "Alois Oroz",
          "Luca Bazzoli",
          "Ronan Darcy",
          "Yann-Aurel Bisseck",
          "Timo Bornemann",
          "Radivoj Bosic",
          "Jakov Katusa",
          "Kacper Jozefiak",
          "Szymon Mroczko",
          "Karol Struski",
          "Wojciech Kaminski",
          "Piotr Lisowski",
          "Daishawn Redan",
          "Kacper Smolinski",
          "Lukas SchÃ¶fl",
          "Mikolaj Labojko",
          "Jakub Karbownik",
          "Damir Magdic",
          "Karol Malec",
          "Patryk Wozniak",
          "Can Bozdogan",
          "Aleksander Paluszek",
          "Mario Cuic",
          "Dragoljub Savic",
          "Nathan Collins",
          "Dominik Pila",
          "Mihael Kupresak",
          "Manu KonÃ©",
          "Niels Hahn",
          "Tin Hrvoj",
          "Lucas Da Cunha",
          "Rahim Ibrahim",
          "Renato Josipovic",
          "Han-Noah Massengo",
          "Kacper Wiatrak",
          "Bartosz Kuzniarski",
          "Adrian Petk",
          "Fabian Tauchhammer",
          "Bartlomiej Mruk",
          "Jakub Rudek",
          "Jakub Swiecinski",
          "Jakub Nowakowski",
          "Kamil Dabrowski",
          "Yuri Sprandel Flores",
          "Stefan Radmanovac",
          "Kamal Bafounta",
          "Filip Marchwinski",
          "Kamil Lukoszek",
          "Jakub Niewiadomski",
          "Dominik Kedzior",
          "Joe Gelhardt",
          "Filip Sobiecki",
          "Fran Tomek",
          "Hubert Wasiewski",
          "Djordje Vasic",
          "Jakub Zima",
          "Damian Makuch",
          "Andrzej Kloda",
          "Stipe Biuk",
          "Mateusz Pienczak",
          "FIlip Brekalo",
          "Stefan Despotovski",
          "Jakub Kisiel",
          "Duje Skugor",
          "Martin Baturina",
          "Radoslaw Cielemecki",
          "Ariel Mosor",
          "Nikola Petkovic",
          "Nikodem Sujecki",
          "Ivan Mandic",
          "Stanislaw Loch",
          "Dario Grgic",
          "Wojciech Szybka",
          "Kacper Szmidt",
          "Vukasin Krstic",
          "Obrendo Doesburg",
          "Casper Elderman",
          "Predrag Jovic",
          "Daniel Hoyo-Kowalski",
          "Darijo Basic",
          "Wiktor Mosur",
          "Uros Mirkovic",
          "Marcos RodrÃ­guez",
          "Adrian Å¢apu",
          "Paul Mari",
          "Pawel Muzylowski",
          "Dragan Radovic",
          "Szymon Kobeszko",
          "Marcin Dabrowski",
          "Jorge Delgado",
          "Daniel Piesio",
          null
         ],
         "textposition": "top center",
         "type": "scatter",
         "x": [
          "-",
          "-",
          "0.11",
          "0.12",
          "-",
          "-",
          "-",
          "0.15",
          "0.42",
          "0.58",
          "0.23",
          "0.25",
          "0.28",
          "0.44",
          "1.04",
          "0.26",
          "0.23",
          "0.25",
          "0.10",
          "0.15",
          "0.14",
          "0.33",
          "-",
          "0.57",
          "0.22",
          "0.23",
          "0.26",
          "0.14",
          "0.46",
          "0.40",
          "0.46",
          "0.06",
          "0.44",
          "0.10",
          "0.24",
          "-",
          "0.34",
          "0.05",
          "0.48",
          "0.29",
          "0.38",
          "0.52",
          "0.40",
          "0.29",
          "-",
          "0.40",
          "0.08",
          "0.32",
          "0.58",
          "0.17",
          "0.31",
          "0.43",
          "0.11",
          "0.99",
          "-",
          "0.06",
          "0.17",
          "0.75",
          "-",
          "0.06",
          "0.79",
          "-",
          "1.01",
          "0.15",
          "0.12",
          "0.20",
          "0.27",
          "0.32",
          "0.19",
          "0.32",
          "0.86",
          "0.40",
          "0.47",
          "-",
          "0.20",
          "-",
          "0.25",
          "0.68",
          "0.34",
          "0.37",
          "0.19",
          "0.33",
          "-",
          "0.35",
          "0.45",
          "-",
          "0.60",
          "1.07",
          "0.05",
          "0.39",
          "-",
          "-",
          "0.26",
          "-",
          "1.74",
          "-",
          "0.61",
          "0.70",
          "0.45",
          "0.29",
          "0.17",
          "0.25",
          "-",
          "0.85",
          "0.85",
          "0.23",
          "0.24",
          "0.71",
          "0.53",
          "0.67",
          "0.44",
          "0.17",
          "0.11",
          "0.18",
          "0.12",
          "0.86",
          "-",
          "0.20",
          "0.06",
          "-",
          "0.30",
          "0.41",
          "0.10",
          "0.21",
          "-",
          "0.48",
          "0.44",
          "0.32",
          "0.49",
          "0.69",
          "0.06",
          "0.06",
          "0.88",
          "0.54",
          "0.46",
          "0.22",
          "0.14",
          "-",
          "0.14",
          "0.51",
          "-",
          "0.37",
          "0.29",
          "0.30",
          "0.60",
          "0.82",
          "0.71",
          "0.09",
          "0.07",
          "-",
          "0.96",
          "0.51",
          "0.94",
          "0.18",
          "0.66",
          "0.40",
          "-",
          "0.17",
          "0.88",
          "0.06",
          "0.60",
          "0.18",
          "0.27",
          "0.36",
          "0.41",
          "0.72",
          "-",
          "0.56",
          "-",
          "0.45",
          "0.46",
          "0.08",
          "0.21",
          "1.22",
          "0.66",
          "0.29",
          "-",
          "0.38",
          "0.23",
          "0.68",
          "0.06",
          "0.59",
          "0.47",
          "0.16",
          "0.14",
          "0.18",
          "1.10",
          "0.08",
          "0.20",
          "0.71",
          "0.26",
          "0.36",
          "0.15",
          "0.30",
          "-",
          "-",
          "0.08",
          "0.23",
          "0.14",
          "0.94",
          "0.56",
          "-",
          "0.24",
          "-",
          "0.07",
          "0.09",
          "0.49",
          "-",
          "-",
          "0.32",
          "-",
          "-",
          "0.06",
          "0.56",
          "-",
          "0.31",
          "0.47",
          "-",
          "0.22",
          "0.81",
          "0.11",
          "-",
          "0.14",
          "0.03",
          "0.27",
          "0.31",
          "1.01",
          "0.23",
          "0.33",
          "0.44",
          "0.06",
          "0.38",
          "0.83",
          "0.07",
          "0.48",
          "-",
          "0.15",
          "0.17",
          "0.90",
          "-",
          "0.29",
          "0.20",
          "0.63",
          "0.15",
          "0.43",
          "0.70",
          "0.15",
          "1.25",
          "0.07",
          "0.15",
          "1.06",
          "0.52",
          "0.54",
          "0.59",
          "0.21",
          "-",
          "-",
          "0.90",
          "-",
          "0.25",
          "0.44",
          "0.34",
          "0.24",
          "0.16",
          "0.17",
          "0.86",
          "0.75",
          "0.18",
          "0.25",
          "0.42",
          "0.70",
          null
         ],
         "xaxis": "x",
         "y": [
          "64%",
          "66%",
          "68%",
          "71%",
          "71%",
          "61%",
          "71%",
          "69%",
          "70%",
          "70%",
          "76%",
          "68%",
          "80%",
          "83%",
          "69%",
          "77%",
          "71%",
          "68%",
          "48%",
          "68%",
          "43%",
          "69%",
          "67%",
          "64%",
          "71%",
          "74%",
          "73%",
          "68%",
          "76%",
          "75%",
          "65%",
          "72%",
          "57%",
          "70%",
          "75%",
          "74%",
          "65%",
          "61%",
          "64%",
          "57%",
          "62%",
          "73%",
          "88%",
          "82%",
          "64%",
          "64%",
          "72%",
          "71%",
          "75%",
          "64%",
          "74%",
          "63%",
          "69%",
          "68%",
          "74%",
          "72%",
          "44%",
          "76%",
          "61%",
          "78%",
          "91%",
          "61%",
          "70%",
          "74%",
          "70%",
          "65%",
          "72%",
          "63%",
          "61%",
          "70%",
          "71%",
          "74%",
          "61%",
          "70%",
          "67%",
          "84%",
          "75%",
          "66%",
          "76%",
          "66%",
          "77%",
          "82%",
          "73%",
          "64%",
          "65%",
          "68%",
          "77%",
          "80%",
          "66%",
          "66%",
          "72%",
          "70%",
          "66%",
          "67%",
          "61%",
          "70%",
          "63%",
          "64%",
          "66%",
          "71%",
          "42%",
          "79%",
          "68%",
          "74%",
          "72%",
          "67%",
          "64%",
          "68%",
          "68%",
          "76%",
          "71%",
          "66%",
          "68%",
          "78%",
          "47%",
          "77%",
          "72%",
          "60%",
          "76%",
          "58%",
          "68%",
          "73%",
          "44%",
          "62%",
          "65%",
          "71%",
          "68%",
          "72%",
          "64%",
          "71%",
          "71%",
          "47%",
          "68%",
          "70%",
          "75%",
          "70%",
          "74%",
          "68%",
          "72%",
          "69%",
          "57%",
          "70%",
          "64%",
          "70%",
          "70%",
          "69%",
          "69%",
          "66%",
          "82%",
          "73%",
          "74%",
          "71%",
          "73%",
          "78%",
          "69%",
          "71%",
          "68%",
          "63%",
          "72%",
          "70%",
          "69%",
          "73%",
          "75%",
          "70%",
          "69%",
          "65%",
          "58%",
          "72%",
          "68%",
          "65%",
          "65%",
          "66%",
          "79%",
          "71%",
          "65%",
          "66%",
          "69%",
          "59%",
          "72%",
          "77%",
          "68%",
          "73%",
          "74%",
          "76%",
          "61%",
          "64%",
          "65%",
          "71%",
          "66%",
          "68%",
          "77%",
          "72%",
          "66%",
          "71%",
          "71%",
          "72%",
          "66%",
          "67%",
          "63%",
          "70%",
          "74%",
          "71%",
          "72%",
          "73%",
          "78%",
          "73%",
          "63%",
          "69%",
          "72%",
          "69%",
          "72%",
          "70%",
          "51%",
          "77%",
          "69%",
          "61%",
          "76%",
          "73%",
          "72%",
          "75%",
          "72%",
          "70%",
          "65%",
          "71%",
          "68%",
          "80%",
          "74%",
          "62%",
          "67%",
          "63%",
          "55%",
          "70%",
          "78%",
          "48%",
          "74%",
          "76%",
          "69%",
          "68%",
          "72%",
          "73%",
          "73%",
          "70%",
          "71%",
          "57%",
          "70%",
          "67%",
          "75%",
          "76%",
          "51%",
          "46%",
          "71%",
          "71%",
          "75%",
          "72%",
          "73%",
          "75%",
          "73%",
          "72%",
          "68%",
          "72%",
          "64%",
          "62%",
          "70%",
          "68%",
          "77%",
          "71%",
          "67%",
          "75%",
          "70%",
          "73%",
          "72%",
          null
         ],
         "yaxis": "y"
        }
       ],
       "layout": {
        "height": 500,
        "legend": {
         "tracegroupgap": 0
        },
        "margin": {
         "t": 60
        },
        "template": {
         "data": {
          "bar": [
           {
            "error_x": {
             "color": "#f2f5fa"
            },
            "error_y": {
             "color": "#f2f5fa"
            },
            "marker": {
             "line": {
              "color": "rgb(17,17,17)",
              "width": 0.5
             }
            },
            "type": "bar"
           }
          ],
          "barpolar": [
           {
            "marker": {
             "line": {
              "color": "rgb(17,17,17)",
              "width": 0.5
             }
            },
            "type": "barpolar"
           }
          ],
          "carpet": [
           {
            "aaxis": {
             "endlinecolor": "#A2B1C6",
             "gridcolor": "#506784",
             "linecolor": "#506784",
             "minorgridcolor": "#506784",
             "startlinecolor": "#A2B1C6"
            },
            "baxis": {
             "endlinecolor": "#A2B1C6",
             "gridcolor": "#506784",
             "linecolor": "#506784",
             "minorgridcolor": "#506784",
             "startlinecolor": "#A2B1C6"
            },
            "type": "carpet"
           }
          ],
          "choropleth": [
           {
            "colorbar": {
             "outlinewidth": 0,
             "ticks": ""
            },
            "type": "choropleth"
           }
          ],
          "contour": [
           {
            "colorbar": {
             "outlinewidth": 0,
             "ticks": ""
            },
            "colorscale": [
             [
              0,
              "#0d0887"
             ],
             [
              0.1111111111111111,
              "#46039f"
             ],
             [
              0.2222222222222222,
              "#7201a8"
             ],
             [
              0.3333333333333333,
              "#9c179e"
             ],
             [
              0.4444444444444444,
              "#bd3786"
             ],
             [
              0.5555555555555556,
              "#d8576b"
             ],
             [
              0.6666666666666666,
              "#ed7953"
             ],
             [
              0.7777777777777778,
              "#fb9f3a"
             ],
             [
              0.8888888888888888,
              "#fdca26"
             ],
             [
              1,
              "#f0f921"
             ]
            ],
            "type": "contour"
           }
          ],
          "contourcarpet": [
           {
            "colorbar": {
             "outlinewidth": 0,
             "ticks": ""
            },
            "type": "contourcarpet"
           }
          ],
          "heatmap": [
           {
            "colorbar": {
             "outlinewidth": 0,
             "ticks": ""
            },
            "colorscale": [
             [
              0,
              "#0d0887"
             ],
             [
              0.1111111111111111,
              "#46039f"
             ],
             [
              0.2222222222222222,
              "#7201a8"
             ],
             [
              0.3333333333333333,
              "#9c179e"
             ],
             [
              0.4444444444444444,
              "#bd3786"
             ],
             [
              0.5555555555555556,
              "#d8576b"
             ],
             [
              0.6666666666666666,
              "#ed7953"
             ],
             [
              0.7777777777777778,
              "#fb9f3a"
             ],
             [
              0.8888888888888888,
              "#fdca26"
             ],
             [
              1,
              "#f0f921"
             ]
            ],
            "type": "heatmap"
           }
          ],
          "heatmapgl": [
           {
            "colorbar": {
             "outlinewidth": 0,
             "ticks": ""
            },
            "colorscale": [
             [
              0,
              "#0d0887"
             ],
             [
              0.1111111111111111,
              "#46039f"
             ],
             [
              0.2222222222222222,
              "#7201a8"
             ],
             [
              0.3333333333333333,
              "#9c179e"
             ],
             [
              0.4444444444444444,
              "#bd3786"
             ],
             [
              0.5555555555555556,
              "#d8576b"
             ],
             [
              0.6666666666666666,
              "#ed7953"
             ],
             [
              0.7777777777777778,
              "#fb9f3a"
             ],
             [
              0.8888888888888888,
              "#fdca26"
             ],
             [
              1,
              "#f0f921"
             ]
            ],
            "type": "heatmapgl"
           }
          ],
          "histogram": [
           {
            "marker": {
             "colorbar": {
              "outlinewidth": 0,
              "ticks": ""
             }
            },
            "type": "histogram"
           }
          ],
          "histogram2d": [
           {
            "colorbar": {
             "outlinewidth": 0,
             "ticks": ""
            },
            "colorscale": [
             [
              0,
              "#0d0887"
             ],
             [
              0.1111111111111111,
              "#46039f"
             ],
             [
              0.2222222222222222,
              "#7201a8"
             ],
             [
              0.3333333333333333,
              "#9c179e"
             ],
             [
              0.4444444444444444,
              "#bd3786"
             ],
             [
              0.5555555555555556,
              "#d8576b"
             ],
             [
              0.6666666666666666,
              "#ed7953"
             ],
             [
              0.7777777777777778,
              "#fb9f3a"
             ],
             [
              0.8888888888888888,
              "#fdca26"
             ],
             [
              1,
              "#f0f921"
             ]
            ],
            "type": "histogram2d"
           }
          ],
          "histogram2dcontour": [
           {
            "colorbar": {
             "outlinewidth": 0,
             "ticks": ""
            },
            "colorscale": [
             [
              0,
              "#0d0887"
             ],
             [
              0.1111111111111111,
              "#46039f"
             ],
             [
              0.2222222222222222,
              "#7201a8"
             ],
             [
              0.3333333333333333,
              "#9c179e"
             ],
             [
              0.4444444444444444,
              "#bd3786"
             ],
             [
              0.5555555555555556,
              "#d8576b"
             ],
             [
              0.6666666666666666,
              "#ed7953"
             ],
             [
              0.7777777777777778,
              "#fb9f3a"
             ],
             [
              0.8888888888888888,
              "#fdca26"
             ],
             [
              1,
              "#f0f921"
             ]
            ],
            "type": "histogram2dcontour"
           }
          ],
          "mesh3d": [
           {
            "colorbar": {
             "outlinewidth": 0,
             "ticks": ""
            },
            "type": "mesh3d"
           }
          ],
          "parcoords": [
           {
            "line": {
             "colorbar": {
              "outlinewidth": 0,
              "ticks": ""
             }
            },
            "type": "parcoords"
           }
          ],
          "pie": [
           {
            "automargin": true,
            "type": "pie"
           }
          ],
          "scatter": [
           {
            "marker": {
             "line": {
              "color": "#283442"
             }
            },
            "type": "scatter"
           }
          ],
          "scatter3d": [
           {
            "line": {
             "colorbar": {
              "outlinewidth": 0,
              "ticks": ""
             }
            },
            "marker": {
             "colorbar": {
              "outlinewidth": 0,
              "ticks": ""
             }
            },
            "type": "scatter3d"
           }
          ],
          "scattercarpet": [
           {
            "marker": {
             "colorbar": {
              "outlinewidth": 0,
              "ticks": ""
             }
            },
            "type": "scattercarpet"
           }
          ],
          "scattergeo": [
           {
            "marker": {
             "colorbar": {
              "outlinewidth": 0,
              "ticks": ""
             }
            },
            "type": "scattergeo"
           }
          ],
          "scattergl": [
           {
            "marker": {
             "line": {
              "color": "#283442"
             }
            },
            "type": "scattergl"
           }
          ],
          "scattermapbox": [
           {
            "marker": {
             "colorbar": {
              "outlinewidth": 0,
              "ticks": ""
             }
            },
            "type": "scattermapbox"
           }
          ],
          "scatterpolar": [
           {
            "marker": {
             "colorbar": {
              "outlinewidth": 0,
              "ticks": ""
             }
            },
            "type": "scatterpolar"
           }
          ],
          "scatterpolargl": [
           {
            "marker": {
             "colorbar": {
              "outlinewidth": 0,
              "ticks": ""
             }
            },
            "type": "scatterpolargl"
           }
          ],
          "scatterternary": [
           {
            "marker": {
             "colorbar": {
              "outlinewidth": 0,
              "ticks": ""
             }
            },
            "type": "scatterternary"
           }
          ],
          "surface": [
           {
            "colorbar": {
             "outlinewidth": 0,
             "ticks": ""
            },
            "colorscale": [
             [
              0,
              "#0d0887"
             ],
             [
              0.1111111111111111,
              "#46039f"
             ],
             [
              0.2222222222222222,
              "#7201a8"
             ],
             [
              0.3333333333333333,
              "#9c179e"
             ],
             [
              0.4444444444444444,
              "#bd3786"
             ],
             [
              0.5555555555555556,
              "#d8576b"
             ],
             [
              0.6666666666666666,
              "#ed7953"
             ],
             [
              0.7777777777777778,
              "#fb9f3a"
             ],
             [
              0.8888888888888888,
              "#fdca26"
             ],
             [
              1,
              "#f0f921"
             ]
            ],
            "type": "surface"
           }
          ],
          "table": [
           {
            "cells": {
             "fill": {
              "color": "#506784"
             },
             "line": {
              "color": "rgb(17,17,17)"
             }
            },
            "header": {
             "fill": {
              "color": "#2a3f5f"
             },
             "line": {
              "color": "rgb(17,17,17)"
             }
            },
            "type": "table"
           }
          ]
         },
         "layout": {
          "annotationdefaults": {
           "arrowcolor": "#f2f5fa",
           "arrowhead": 0,
           "arrowwidth": 1
          },
          "coloraxis": {
           "colorbar": {
            "outlinewidth": 0,
            "ticks": ""
           }
          },
          "colorscale": {
           "diverging": [
            [
             0,
             "#8e0152"
            ],
            [
             0.1,
             "#c51b7d"
            ],
            [
             0.2,
             "#de77ae"
            ],
            [
             0.3,
             "#f1b6da"
            ],
            [
             0.4,
             "#fde0ef"
            ],
            [
             0.5,
             "#f7f7f7"
            ],
            [
             0.6,
             "#e6f5d0"
            ],
            [
             0.7,
             "#b8e186"
            ],
            [
             0.8,
             "#7fbc41"
            ],
            [
             0.9,
             "#4d9221"
            ],
            [
             1,
             "#276419"
            ]
           ],
           "sequential": [
            [
             0,
             "#0d0887"
            ],
            [
             0.1111111111111111,
             "#46039f"
            ],
            [
             0.2222222222222222,
             "#7201a8"
            ],
            [
             0.3333333333333333,
             "#9c179e"
            ],
            [
             0.4444444444444444,
             "#bd3786"
            ],
            [
             0.5555555555555556,
             "#d8576b"
            ],
            [
             0.6666666666666666,
             "#ed7953"
            ],
            [
             0.7777777777777778,
             "#fb9f3a"
            ],
            [
             0.8888888888888888,
             "#fdca26"
            ],
            [
             1,
             "#f0f921"
            ]
           ],
           "sequentialminus": [
            [
             0,
             "#0d0887"
            ],
            [
             0.1111111111111111,
             "#46039f"
            ],
            [
             0.2222222222222222,
             "#7201a8"
            ],
            [
             0.3333333333333333,
             "#9c179e"
            ],
            [
             0.4444444444444444,
             "#bd3786"
            ],
            [
             0.5555555555555556,
             "#d8576b"
            ],
            [
             0.6666666666666666,
             "#ed7953"
            ],
            [
             0.7777777777777778,
             "#fb9f3a"
            ],
            [
             0.8888888888888888,
             "#fdca26"
            ],
            [
             1,
             "#f0f921"
            ]
           ]
          },
          "colorway": [
           "#636efa",
           "#EF553B",
           "#00cc96",
           "#ab63fa",
           "#FFA15A",
           "#19d3f3",
           "#FF6692",
           "#B6E880",
           "#FF97FF",
           "#FECB52"
          ],
          "font": {
           "color": "#f2f5fa"
          },
          "geo": {
           "bgcolor": "rgb(17,17,17)",
           "lakecolor": "rgb(17,17,17)",
           "landcolor": "rgb(17,17,17)",
           "showlakes": true,
           "showland": true,
           "subunitcolor": "#506784"
          },
          "hoverlabel": {
           "align": "left"
          },
          "hovermode": "closest",
          "mapbox": {
           "style": "dark"
          },
          "paper_bgcolor": "rgb(17,17,17)",
          "plot_bgcolor": "rgb(17,17,17)",
          "polar": {
           "angularaxis": {
            "gridcolor": "#506784",
            "linecolor": "#506784",
            "ticks": ""
           },
           "bgcolor": "rgb(17,17,17)",
           "radialaxis": {
            "gridcolor": "#506784",
            "linecolor": "#506784",
            "ticks": ""
           }
          },
          "scene": {
           "xaxis": {
            "backgroundcolor": "rgb(17,17,17)",
            "gridcolor": "#506784",
            "gridwidth": 2,
            "linecolor": "#506784",
            "showbackground": true,
            "ticks": "",
            "zerolinecolor": "#C8D4E3"
           },
           "yaxis": {
            "backgroundcolor": "rgb(17,17,17)",
            "gridcolor": "#506784",
            "gridwidth": 2,
            "linecolor": "#506784",
            "showbackground": true,
            "ticks": "",
            "zerolinecolor": "#C8D4E3"
           },
           "zaxis": {
            "backgroundcolor": "rgb(17,17,17)",
            "gridcolor": "#506784",
            "gridwidth": 2,
            "linecolor": "#506784",
            "showbackground": true,
            "ticks": "",
            "zerolinecolor": "#C8D4E3"
           }
          },
          "shapedefaults": {
           "line": {
            "color": "#f2f5fa"
           }
          },
          "sliderdefaults": {
           "bgcolor": "#C8D4E3",
           "bordercolor": "rgb(17,17,17)",
           "borderwidth": 1,
           "tickwidth": 0
          },
          "ternary": {
           "aaxis": {
            "gridcolor": "#506784",
            "linecolor": "#506784",
            "ticks": ""
           },
           "baxis": {
            "gridcolor": "#506784",
            "linecolor": "#506784",
            "ticks": ""
           },
           "bgcolor": "rgb(17,17,17)",
           "caxis": {
            "gridcolor": "#506784",
            "linecolor": "#506784",
            "ticks": ""
           }
          },
          "title": {
           "x": 0.05
          },
          "updatemenudefaults": {
           "bgcolor": "#506784",
           "borderwidth": 0
          },
          "xaxis": {
           "automargin": true,
           "gridcolor": "#283442",
           "linecolor": "#506784",
           "ticks": "",
           "title": {
            "standoff": 15
           },
           "zerolinecolor": "#283442",
           "zerolinewidth": 2
          },
          "yaxis": {
           "automargin": true,
           "gridcolor": "#283442",
           "linecolor": "#506784",
           "ticks": "",
           "title": {
            "standoff": 15
           },
           "zerolinecolor": "#283442",
           "zerolinewidth": 2
          }
         }
        },
        "title": {
         "text": "Carrilero - Support"
        },
        "xaxis": {
         "anchor": "y",
         "domain": [
          0,
          1
         ],
         "title": {
          "text": "K Ps/90"
         }
        },
        "yaxis": {
         "anchor": "x",
         "domain": [
          0,
          1
         ],
         "title": {
          "text": "Pas %"
         }
        }
       }
      },
      "text/html": [
       "<div>\n",
       "        \n",
       "        \n",
       "            <div id=\"7fb19b60-7242-49b0-887d-b7026fa2bbe2\" class=\"plotly-graph-div\" style=\"height:500px; width:100%;\"></div>\n",
       "            <script type=\"text/javascript\">\n",
       "                require([\"plotly\"], function(Plotly) {\n",
       "                    window.PLOTLYENV=window.PLOTLYENV || {};\n",
       "                    \n",
       "                if (document.getElementById(\"7fb19b60-7242-49b0-887d-b7026fa2bbe2\")) {\n",
       "                    Plotly.newPlot(\n",
       "                        '7fb19b60-7242-49b0-887d-b7026fa2bbe2',\n",
       "                        [{\"hovertemplate\": \"K Ps/90=%{x}<br>Pas %=%{y}<br>Name=%{text}<extra></extra>\", \"legendgroup\": \"\", \"marker\": {\"color\": \"#636efa\", \"symbol\": \"circle\"}, \"mode\": \"markers+text\", \"name\": \"\", \"showlegend\": false, \"text\": [\"Djibril Diakit\\u00c3\\u00a9\", \"Jo\\u00c3\\u00a3o Tavares\", \"Matej Hudecek\", \"Adrian Rybak\", \"Oskar Repka\", \"Maciej Obodecki\", \"Ivo Kralj\", \"Bartosz Sobczyk\", \"Ivan Tomac\", \"Nikola Bogdanovski\", \"Stefan Velickovic\", \"Andrija Zakoc\", \"Aur\\u00c3\\u00a9lien Nguiamba\", \"Flynn Downes\", \"Nikola Puzic\", \"Andjelo Kacavenda\", \"Tymoteusz Puchacz\", \"Felix Brunmayr\", \"Lennart Grill\", \"Josip Rakic\", \"Stefan Randjelovic\", \"Radoslaw Dzierbicki\", \"Alexandar Ubavic\", \"Veljko Jovkovic\", \"Mariano G\\u00c3\\u00b3mez\", \"David Bumberger\", \"Enrico Huss\", \"Mateo Jaksic\", \"Konrad Jozwicki\", \"Nikita Marusenko\", \"Djordje Jovanovic\", \"Filip Lisnic\", \"Dawid Szalas\", \"Vladimir Ilic\", \"Marcin Mackowiak\", \"Florin Codrean\", \"David Otto\", \"Stefan Golubovic\", \"Keanan Bennetts\", \"Andrej Vukas\", \"Jannik Tepe\", \"Mladen Devetak\", \"Tom Baack\", \"Jan Sobocinski\", \"Tom\\u00c3\\u00a1s Blanco\", \"Sinan Karweina\", \"Ben Williams\", \"Arkadiusz Zajaczkowski\", \"Miguel Reisinho\", \"Filp Ceko\", \"Michel St\\u00c3\\u00b6cker\", \"J\\u00c3\\u00a9r\\u00c3\\u00b4me Deom\", \"Ranko Jokic\", \"Palko D\\u00c3\\u00a1rdai\", \"Aleksander Tomasz\", \"Alex Vigo\", \"Daniel Bielica\", \"Marko Djira\", \"Norbert Walczak\", \"Boris Moltenis\", \"Julius Kade\", \"Goran Buljandric\", \"Jannis K\\u00c3\\u00bcbler\", \"Aleksa Jovanovic\", \"Tomasz Owczarek\", \"David Wittkowski\", \"Konrad Zaklika\", \"Pawel Karbowinski\", \"Nicky Werner\", \"Julijan Popovic\", \"Nassim Boujellab\", \"Bartlomiej Gajda\", \"Nemanja Matijevic\", \"Marko Denic\", \"Robert Baar\", \"Tuta\", \"Dusan Jokovic\", \"Tomasz Dzida\", \"Aleksa Pejic\", \"Krsta Bojic\", \"Sikou Niakat\\u00c3\\u00a9\", \"Tomasz Makowski\", \"Sebastian Gwozdz\", \"Adrian Polanski\", \"Bryan Mbeumo\", \"Dorin Sirbu\", \"Elvis Novalic\", \"Micka\\u00c3\\u00abl Cuisance\", \"Mateusz Madzia\", \"Jes\\u00c3\\u00bas Vargas\", \"Marino Jedvaj\", \"Raphael Assibey-Mensah\", \"Lukasz Sztylka\", \"Zoran Zrnzevic\", \"Alex Krawiec\", \"Petar Melezovic\", \"Tomasz Kurek\", \"Danko Radic\", \"Paul Mensah\", \"Jordan Williams\", \"Mario Mustapic\", \"Nikola Trickovic\", \"Patrik Delic\", \"Maciej Famulak\", \"Wiktor Nahrebecki\", \"Barne Poggenberg\", \"Mirza Jasarevic\", \"Ratko Minic\", \"Semih \\u00c5\\u009eahin\", \"Matej Santek\", \"Georgios Siadas\", \"Tyrese Campbell\", \"Martin Krizmanic\", \"Kacper Laskos\", \"Aleksa Milojevic\", \"Cheick Doucour\\u00c3\\u00a9\", \"Ivan Jakovljev\", \"Przemyslaw Zdybowicz\", \"Sven Botman\", \"Malik Karaahmet\", \"Lukas Kr\\u00c3\\u00bcger\", \"Niclas Stierlin\", \"Mane Markovic\", \"Karol Czubak\", \"Ilija Dejanovic\", \"Pascal Hackethal\", \"Oleg Gorin\", \"Michal Zieba\", \"Miodrag Maljkovic\", \"Jakov Blagaic\", \"Harisson Marcelin\", \"Vice Bazdaric\", \"Daniel Liszka\", \"Jan Sieracki\", \"Jhonny Lucas\", \"Tymoteusz Klups\", \"Josip Sutalo\", \"Othman Boussaid\", \"Evert Linthorst\", \"Jusuf Gazibegovic\", \"Virgiliu Postolachi\", \"Luis G\\u00c3\\u00b6rlich\", \"Andrej Ilic\", \"Daniel Haritonov\", \"Patryk Drabik\", \"Tom Dobek-Pietrowski\", \"Michal Mydlarz\", \"Cho Jeong-Hui\", \"Mohamed Loua\", \"Nemanja Zikic\", \"Emir Sejdovic\", \"Samuel Lengle\", \"Mateusz Duchowski\", \"Iliya Gruev\", \"Bartosz Borun\", \"Juraj Ljubic\", \"Gon\\u00c3\\u00a7alo Rebelo\", \"Dominik Resetar\", \"Jurica Prsir\", \"Piotr Wujec\", \"Jan Majsterek\", \"Mitchel Bakker\", \"Kamil Piatkowski\", \"Michal Ozga\", \"Karol Turek\", \"Toni Karimovic\", \"Billy Crellin\", \"Konrad Sieracki\", \"Vando Luis\", \"Jan Los\", \"Jessic Ngankam\", \"Adam Borkowski\", \"Julian Rieckmann\", \"Luka Pavlak\", \"Robert Ion\", \"Linus Rosenl\\u00c3\\u00b6cher\", \"Eugen Telch\", \"Nicholas Wunsch\", \"Dawid Kisly\", \"Uros Miloradovic\", \"Alois Oroz\", \"Luca Bazzoli\", \"Ronan Darcy\", \"Yann-Aurel Bisseck\", \"Timo Bornemann\", \"Radivoj Bosic\", \"Jakov Katusa\", \"Kacper Jozefiak\", \"Szymon Mroczko\", \"Karol Struski\", \"Wojciech Kaminski\", \"Piotr Lisowski\", \"Daishawn Redan\", \"Kacper Smolinski\", \"Lukas Sch\\u00c3\\u00b6fl\", \"Mikolaj Labojko\", \"Jakub Karbownik\", \"Damir Magdic\", \"Karol Malec\", \"Patryk Wozniak\", \"Can Bozdogan\", \"Aleksander Paluszek\", \"Mario Cuic\", \"Dragoljub Savic\", \"Nathan Collins\", \"Dominik Pila\", \"Mihael Kupresak\", \"Manu Kon\\u00c3\\u00a9\", \"Niels Hahn\", \"Tin Hrvoj\", \"Lucas Da Cunha\", \"Rahim Ibrahim\", \"Renato Josipovic\", \"Han-Noah Massengo\", \"Kacper Wiatrak\", \"Bartosz Kuzniarski\", \"Adrian Petk\", \"Fabian Tauchhammer\", \"Bartlomiej Mruk\", \"Jakub Rudek\", \"Jakub Swiecinski\", \"Jakub Nowakowski\", \"Kamil Dabrowski\", \"Yuri Sprandel Flores\", \"Stefan Radmanovac\", \"Kamal Bafounta\", \"Filip Marchwinski\", \"Kamil Lukoszek\", \"Jakub Niewiadomski\", \"Dominik Kedzior\", \"Joe Gelhardt\", \"Filip Sobiecki\", \"Fran Tomek\", \"Hubert Wasiewski\", \"Djordje Vasic\", \"Jakub Zima\", \"Damian Makuch\", \"Andrzej Kloda\", \"Stipe Biuk\", \"Mateusz Pienczak\", \"FIlip Brekalo\", \"Stefan Despotovski\", \"Jakub Kisiel\", \"Duje Skugor\", \"Martin Baturina\", \"Radoslaw Cielemecki\", \"Ariel Mosor\", \"Nikola Petkovic\", \"Nikodem Sujecki\", \"Ivan Mandic\", \"Stanislaw Loch\", \"Dario Grgic\", \"Wojciech Szybka\", \"Kacper Szmidt\", \"Vukasin Krstic\", \"Obrendo Doesburg\", \"Casper Elderman\", \"Predrag Jovic\", \"Daniel Hoyo-Kowalski\", \"Darijo Basic\", \"Wiktor Mosur\", \"Uros Mirkovic\", \"Marcos Rodr\\u00c3\\u00adguez\", \"Adrian \\u00c5\\u00a2apu\", \"Paul Mari\", \"Pawel Muzylowski\", \"Dragan Radovic\", \"Szymon Kobeszko\", \"Marcin Dabrowski\", \"Jorge Delgado\", \"Daniel Piesio\", null], \"textposition\": \"top center\", \"type\": \"scatter\", \"x\": [\"-\", \"-\", \"0.11\", \"0.12\", \"-\", \"-\", \"-\", \"0.15\", \"0.42\", \"0.58\", \"0.23\", \"0.25\", \"0.28\", \"0.44\", \"1.04\", \"0.26\", \"0.23\", \"0.25\", \"0.10\", \"0.15\", \"0.14\", \"0.33\", \"-\", \"0.57\", \"0.22\", \"0.23\", \"0.26\", \"0.14\", \"0.46\", \"0.40\", \"0.46\", \"0.06\", \"0.44\", \"0.10\", \"0.24\", \"-\", \"0.34\", \"0.05\", \"0.48\", \"0.29\", \"0.38\", \"0.52\", \"0.40\", \"0.29\", \"-\", \"0.40\", \"0.08\", \"0.32\", \"0.58\", \"0.17\", \"0.31\", \"0.43\", \"0.11\", \"0.99\", \"-\", \"0.06\", \"0.17\", \"0.75\", \"-\", \"0.06\", \"0.79\", \"-\", \"1.01\", \"0.15\", \"0.12\", \"0.20\", \"0.27\", \"0.32\", \"0.19\", \"0.32\", \"0.86\", \"0.40\", \"0.47\", \"-\", \"0.20\", \"-\", \"0.25\", \"0.68\", \"0.34\", \"0.37\", \"0.19\", \"0.33\", \"-\", \"0.35\", \"0.45\", \"-\", \"0.60\", \"1.07\", \"0.05\", \"0.39\", \"-\", \"-\", \"0.26\", \"-\", \"1.74\", \"-\", \"0.61\", \"0.70\", \"0.45\", \"0.29\", \"0.17\", \"0.25\", \"-\", \"0.85\", \"0.85\", \"0.23\", \"0.24\", \"0.71\", \"0.53\", \"0.67\", \"0.44\", \"0.17\", \"0.11\", \"0.18\", \"0.12\", \"0.86\", \"-\", \"0.20\", \"0.06\", \"-\", \"0.30\", \"0.41\", \"0.10\", \"0.21\", \"-\", \"0.48\", \"0.44\", \"0.32\", \"0.49\", \"0.69\", \"0.06\", \"0.06\", \"0.88\", \"0.54\", \"0.46\", \"0.22\", \"0.14\", \"-\", \"0.14\", \"0.51\", \"-\", \"0.37\", \"0.29\", \"0.30\", \"0.60\", \"0.82\", \"0.71\", \"0.09\", \"0.07\", \"-\", \"0.96\", \"0.51\", \"0.94\", \"0.18\", \"0.66\", \"0.40\", \"-\", \"0.17\", \"0.88\", \"0.06\", \"0.60\", \"0.18\", \"0.27\", \"0.36\", \"0.41\", \"0.72\", \"-\", \"0.56\", \"-\", \"0.45\", \"0.46\", \"0.08\", \"0.21\", \"1.22\", \"0.66\", \"0.29\", \"-\", \"0.38\", \"0.23\", \"0.68\", \"0.06\", \"0.59\", \"0.47\", \"0.16\", \"0.14\", \"0.18\", \"1.10\", \"0.08\", \"0.20\", \"0.71\", \"0.26\", \"0.36\", \"0.15\", \"0.30\", \"-\", \"-\", \"0.08\", \"0.23\", \"0.14\", \"0.94\", \"0.56\", \"-\", \"0.24\", \"-\", \"0.07\", \"0.09\", \"0.49\", \"-\", \"-\", \"0.32\", \"-\", \"-\", \"0.06\", \"0.56\", \"-\", \"0.31\", \"0.47\", \"-\", \"0.22\", \"0.81\", \"0.11\", \"-\", \"0.14\", \"0.03\", \"0.27\", \"0.31\", \"1.01\", \"0.23\", \"0.33\", \"0.44\", \"0.06\", \"0.38\", \"0.83\", \"0.07\", \"0.48\", \"-\", \"0.15\", \"0.17\", \"0.90\", \"-\", \"0.29\", \"0.20\", \"0.63\", \"0.15\", \"0.43\", \"0.70\", \"0.15\", \"1.25\", \"0.07\", \"0.15\", \"1.06\", \"0.52\", \"0.54\", \"0.59\", \"0.21\", \"-\", \"-\", \"0.90\", \"-\", \"0.25\", \"0.44\", \"0.34\", \"0.24\", \"0.16\", \"0.17\", \"0.86\", \"0.75\", \"0.18\", \"0.25\", \"0.42\", \"0.70\", null], \"xaxis\": \"x\", \"y\": [\"64%\", \"66%\", \"68%\", \"71%\", \"71%\", \"61%\", \"71%\", \"69%\", \"70%\", \"70%\", \"76%\", \"68%\", \"80%\", \"83%\", \"69%\", \"77%\", \"71%\", \"68%\", \"48%\", \"68%\", \"43%\", \"69%\", \"67%\", \"64%\", \"71%\", \"74%\", \"73%\", \"68%\", \"76%\", \"75%\", \"65%\", \"72%\", \"57%\", \"70%\", \"75%\", \"74%\", \"65%\", \"61%\", \"64%\", \"57%\", \"62%\", \"73%\", \"88%\", \"82%\", \"64%\", \"64%\", \"72%\", \"71%\", \"75%\", \"64%\", \"74%\", \"63%\", \"69%\", \"68%\", \"74%\", \"72%\", \"44%\", \"76%\", \"61%\", \"78%\", \"91%\", \"61%\", \"70%\", \"74%\", \"70%\", \"65%\", \"72%\", \"63%\", \"61%\", \"70%\", \"71%\", \"74%\", \"61%\", \"70%\", \"67%\", \"84%\", \"75%\", \"66%\", \"76%\", \"66%\", \"77%\", \"82%\", \"73%\", \"64%\", \"65%\", \"68%\", \"77%\", \"80%\", \"66%\", \"66%\", \"72%\", \"70%\", \"66%\", \"67%\", \"61%\", \"70%\", \"63%\", \"64%\", \"66%\", \"71%\", \"42%\", \"79%\", \"68%\", \"74%\", \"72%\", \"67%\", \"64%\", \"68%\", \"68%\", \"76%\", \"71%\", \"66%\", \"68%\", \"78%\", \"47%\", \"77%\", \"72%\", \"60%\", \"76%\", \"58%\", \"68%\", \"73%\", \"44%\", \"62%\", \"65%\", \"71%\", \"68%\", \"72%\", \"64%\", \"71%\", \"71%\", \"47%\", \"68%\", \"70%\", \"75%\", \"70%\", \"74%\", \"68%\", \"72%\", \"69%\", \"57%\", \"70%\", \"64%\", \"70%\", \"70%\", \"69%\", \"69%\", \"66%\", \"82%\", \"73%\", \"74%\", \"71%\", \"73%\", \"78%\", \"69%\", \"71%\", \"68%\", \"63%\", \"72%\", \"70%\", \"69%\", \"73%\", \"75%\", \"70%\", \"69%\", \"65%\", \"58%\", \"72%\", \"68%\", \"65%\", \"65%\", \"66%\", \"79%\", \"71%\", \"65%\", \"66%\", \"69%\", \"59%\", \"72%\", \"77%\", \"68%\", \"73%\", \"74%\", \"76%\", \"61%\", \"64%\", \"65%\", \"71%\", \"66%\", \"68%\", \"77%\", \"72%\", \"66%\", \"71%\", \"71%\", \"72%\", \"66%\", \"67%\", \"63%\", \"70%\", \"74%\", \"71%\", \"72%\", \"73%\", \"78%\", \"73%\", \"63%\", \"69%\", \"72%\", \"69%\", \"72%\", \"70%\", \"51%\", \"77%\", \"69%\", \"61%\", \"76%\", \"73%\", \"72%\", \"75%\", \"72%\", \"70%\", \"65%\", \"71%\", \"68%\", \"80%\", \"74%\", \"62%\", \"67%\", \"63%\", \"55%\", \"70%\", \"78%\", \"48%\", \"74%\", \"76%\", \"69%\", \"68%\", \"72%\", \"73%\", \"73%\", \"70%\", \"71%\", \"57%\", \"70%\", \"67%\", \"75%\", \"76%\", \"51%\", \"46%\", \"71%\", \"71%\", \"75%\", \"72%\", \"73%\", \"75%\", \"73%\", \"72%\", \"68%\", \"72%\", \"64%\", \"62%\", \"70%\", \"68%\", \"77%\", \"71%\", \"67%\", \"75%\", \"70%\", \"73%\", \"72%\", null], \"yaxis\": \"y\"}],\n",
       "                        {\"height\": 500, \"legend\": {\"tracegroupgap\": 0}, \"margin\": {\"t\": 60}, \"template\": {\"data\": {\"bar\": [{\"error_x\": {\"color\": \"#f2f5fa\"}, \"error_y\": {\"color\": \"#f2f5fa\"}, \"marker\": {\"line\": {\"color\": \"rgb(17,17,17)\", \"width\": 0.5}}, \"type\": \"bar\"}], \"barpolar\": [{\"marker\": {\"line\": {\"color\": \"rgb(17,17,17)\", \"width\": 0.5}}, \"type\": \"barpolar\"}], \"carpet\": [{\"aaxis\": {\"endlinecolor\": \"#A2B1C6\", \"gridcolor\": \"#506784\", \"linecolor\": \"#506784\", \"minorgridcolor\": \"#506784\", \"startlinecolor\": \"#A2B1C6\"}, \"baxis\": {\"endlinecolor\": \"#A2B1C6\", \"gridcolor\": \"#506784\", \"linecolor\": \"#506784\", \"minorgridcolor\": \"#506784\", \"startlinecolor\": \"#A2B1C6\"}, \"type\": \"carpet\"}], \"choropleth\": [{\"colorbar\": {\"outlinewidth\": 0, \"ticks\": \"\"}, \"type\": \"choropleth\"}], \"contour\": [{\"colorbar\": {\"outlinewidth\": 0, \"ticks\": \"\"}, \"colorscale\": [[0.0, \"#0d0887\"], [0.1111111111111111, \"#46039f\"], [0.2222222222222222, \"#7201a8\"], [0.3333333333333333, \"#9c179e\"], [0.4444444444444444, \"#bd3786\"], [0.5555555555555556, \"#d8576b\"], [0.6666666666666666, \"#ed7953\"], [0.7777777777777778, \"#fb9f3a\"], [0.8888888888888888, \"#fdca26\"], [1.0, \"#f0f921\"]], \"type\": \"contour\"}], \"contourcarpet\": [{\"colorbar\": {\"outlinewidth\": 0, \"ticks\": \"\"}, \"type\": \"contourcarpet\"}], \"heatmap\": [{\"colorbar\": {\"outlinewidth\": 0, \"ticks\": \"\"}, \"colorscale\": [[0.0, \"#0d0887\"], [0.1111111111111111, \"#46039f\"], [0.2222222222222222, \"#7201a8\"], [0.3333333333333333, \"#9c179e\"], [0.4444444444444444, \"#bd3786\"], [0.5555555555555556, \"#d8576b\"], [0.6666666666666666, \"#ed7953\"], [0.7777777777777778, \"#fb9f3a\"], [0.8888888888888888, \"#fdca26\"], [1.0, \"#f0f921\"]], \"type\": \"heatmap\"}], \"heatmapgl\": [{\"colorbar\": {\"outlinewidth\": 0, \"ticks\": \"\"}, \"colorscale\": [[0.0, \"#0d0887\"], [0.1111111111111111, \"#46039f\"], [0.2222222222222222, \"#7201a8\"], [0.3333333333333333, \"#9c179e\"], [0.4444444444444444, \"#bd3786\"], [0.5555555555555556, \"#d8576b\"], [0.6666666666666666, \"#ed7953\"], [0.7777777777777778, \"#fb9f3a\"], [0.8888888888888888, \"#fdca26\"], [1.0, \"#f0f921\"]], \"type\": \"heatmapgl\"}], \"histogram\": [{\"marker\": {\"colorbar\": {\"outlinewidth\": 0, \"ticks\": \"\"}}, \"type\": \"histogram\"}], \"histogram2d\": [{\"colorbar\": {\"outlinewidth\": 0, \"ticks\": \"\"}, \"colorscale\": [[0.0, \"#0d0887\"], [0.1111111111111111, \"#46039f\"], [0.2222222222222222, \"#7201a8\"], [0.3333333333333333, \"#9c179e\"], [0.4444444444444444, \"#bd3786\"], [0.5555555555555556, \"#d8576b\"], [0.6666666666666666, \"#ed7953\"], [0.7777777777777778, \"#fb9f3a\"], [0.8888888888888888, \"#fdca26\"], [1.0, \"#f0f921\"]], \"type\": \"histogram2d\"}], \"histogram2dcontour\": [{\"colorbar\": {\"outlinewidth\": 0, \"ticks\": \"\"}, \"colorscale\": [[0.0, \"#0d0887\"], [0.1111111111111111, \"#46039f\"], [0.2222222222222222, \"#7201a8\"], [0.3333333333333333, \"#9c179e\"], [0.4444444444444444, \"#bd3786\"], [0.5555555555555556, \"#d8576b\"], [0.6666666666666666, \"#ed7953\"], [0.7777777777777778, \"#fb9f3a\"], [0.8888888888888888, \"#fdca26\"], [1.0, \"#f0f921\"]], \"type\": \"histogram2dcontour\"}], \"mesh3d\": [{\"colorbar\": {\"outlinewidth\": 0, \"ticks\": \"\"}, \"type\": \"mesh3d\"}], \"parcoords\": [{\"line\": {\"colorbar\": {\"outlinewidth\": 0, \"ticks\": \"\"}}, \"type\": \"parcoords\"}], \"pie\": [{\"automargin\": true, \"type\": \"pie\"}], \"scatter\": [{\"marker\": {\"line\": {\"color\": \"#283442\"}}, \"type\": \"scatter\"}], \"scatter3d\": [{\"line\": {\"colorbar\": {\"outlinewidth\": 0, \"ticks\": \"\"}}, \"marker\": {\"colorbar\": {\"outlinewidth\": 0, \"ticks\": \"\"}}, \"type\": \"scatter3d\"}], \"scattercarpet\": [{\"marker\": {\"colorbar\": {\"outlinewidth\": 0, \"ticks\": \"\"}}, \"type\": \"scattercarpet\"}], \"scattergeo\": [{\"marker\": {\"colorbar\": {\"outlinewidth\": 0, \"ticks\": \"\"}}, \"type\": \"scattergeo\"}], \"scattergl\": [{\"marker\": {\"line\": {\"color\": \"#283442\"}}, \"type\": \"scattergl\"}], \"scattermapbox\": [{\"marker\": {\"colorbar\": {\"outlinewidth\": 0, \"ticks\": \"\"}}, \"type\": \"scattermapbox\"}], \"scatterpolar\": [{\"marker\": {\"colorbar\": {\"outlinewidth\": 0, \"ticks\": \"\"}}, \"type\": \"scatterpolar\"}], \"scatterpolargl\": [{\"marker\": {\"colorbar\": {\"outlinewidth\": 0, \"ticks\": \"\"}}, \"type\": \"scatterpolargl\"}], \"scatterternary\": [{\"marker\": {\"colorbar\": {\"outlinewidth\": 0, \"ticks\": \"\"}}, \"type\": \"scatterternary\"}], \"surface\": [{\"colorbar\": {\"outlinewidth\": 0, \"ticks\": \"\"}, \"colorscale\": [[0.0, \"#0d0887\"], [0.1111111111111111, \"#46039f\"], [0.2222222222222222, \"#7201a8\"], [0.3333333333333333, \"#9c179e\"], [0.4444444444444444, \"#bd3786\"], [0.5555555555555556, \"#d8576b\"], [0.6666666666666666, \"#ed7953\"], [0.7777777777777778, \"#fb9f3a\"], [0.8888888888888888, \"#fdca26\"], [1.0, \"#f0f921\"]], \"type\": \"surface\"}], \"table\": [{\"cells\": {\"fill\": {\"color\": \"#506784\"}, \"line\": {\"color\": \"rgb(17,17,17)\"}}, \"header\": {\"fill\": {\"color\": \"#2a3f5f\"}, \"line\": {\"color\": \"rgb(17,17,17)\"}}, \"type\": \"table\"}]}, \"layout\": {\"annotationdefaults\": {\"arrowcolor\": \"#f2f5fa\", \"arrowhead\": 0, \"arrowwidth\": 1}, \"coloraxis\": {\"colorbar\": {\"outlinewidth\": 0, \"ticks\": \"\"}}, \"colorscale\": {\"diverging\": [[0, \"#8e0152\"], [0.1, \"#c51b7d\"], [0.2, \"#de77ae\"], [0.3, \"#f1b6da\"], [0.4, \"#fde0ef\"], [0.5, \"#f7f7f7\"], [0.6, \"#e6f5d0\"], [0.7, \"#b8e186\"], [0.8, \"#7fbc41\"], [0.9, \"#4d9221\"], [1, \"#276419\"]], \"sequential\": [[0.0, \"#0d0887\"], [0.1111111111111111, \"#46039f\"], [0.2222222222222222, \"#7201a8\"], [0.3333333333333333, \"#9c179e\"], [0.4444444444444444, \"#bd3786\"], [0.5555555555555556, \"#d8576b\"], [0.6666666666666666, \"#ed7953\"], [0.7777777777777778, \"#fb9f3a\"], [0.8888888888888888, \"#fdca26\"], [1.0, \"#f0f921\"]], \"sequentialminus\": [[0.0, \"#0d0887\"], [0.1111111111111111, \"#46039f\"], [0.2222222222222222, \"#7201a8\"], [0.3333333333333333, \"#9c179e\"], [0.4444444444444444, \"#bd3786\"], [0.5555555555555556, \"#d8576b\"], [0.6666666666666666, \"#ed7953\"], [0.7777777777777778, \"#fb9f3a\"], [0.8888888888888888, \"#fdca26\"], [1.0, \"#f0f921\"]]}, \"colorway\": [\"#636efa\", \"#EF553B\", \"#00cc96\", \"#ab63fa\", \"#FFA15A\", \"#19d3f3\", \"#FF6692\", \"#B6E880\", \"#FF97FF\", \"#FECB52\"], \"font\": {\"color\": \"#f2f5fa\"}, \"geo\": {\"bgcolor\": \"rgb(17,17,17)\", \"lakecolor\": \"rgb(17,17,17)\", \"landcolor\": \"rgb(17,17,17)\", \"showlakes\": true, \"showland\": true, \"subunitcolor\": \"#506784\"}, \"hoverlabel\": {\"align\": \"left\"}, \"hovermode\": \"closest\", \"mapbox\": {\"style\": \"dark\"}, \"paper_bgcolor\": \"rgb(17,17,17)\", \"plot_bgcolor\": \"rgb(17,17,17)\", \"polar\": {\"angularaxis\": {\"gridcolor\": \"#506784\", \"linecolor\": \"#506784\", \"ticks\": \"\"}, \"bgcolor\": \"rgb(17,17,17)\", \"radialaxis\": {\"gridcolor\": \"#506784\", \"linecolor\": \"#506784\", \"ticks\": \"\"}}, \"scene\": {\"xaxis\": {\"backgroundcolor\": \"rgb(17,17,17)\", \"gridcolor\": \"#506784\", \"gridwidth\": 2, \"linecolor\": \"#506784\", \"showbackground\": true, \"ticks\": \"\", \"zerolinecolor\": \"#C8D4E3\"}, \"yaxis\": {\"backgroundcolor\": \"rgb(17,17,17)\", \"gridcolor\": \"#506784\", \"gridwidth\": 2, \"linecolor\": \"#506784\", \"showbackground\": true, \"ticks\": \"\", \"zerolinecolor\": \"#C8D4E3\"}, \"zaxis\": {\"backgroundcolor\": \"rgb(17,17,17)\", \"gridcolor\": \"#506784\", \"gridwidth\": 2, \"linecolor\": \"#506784\", \"showbackground\": true, \"ticks\": \"\", \"zerolinecolor\": \"#C8D4E3\"}}, \"shapedefaults\": {\"line\": {\"color\": \"#f2f5fa\"}}, \"sliderdefaults\": {\"bgcolor\": \"#C8D4E3\", \"bordercolor\": \"rgb(17,17,17)\", \"borderwidth\": 1, \"tickwidth\": 0}, \"ternary\": {\"aaxis\": {\"gridcolor\": \"#506784\", \"linecolor\": \"#506784\", \"ticks\": \"\"}, \"baxis\": {\"gridcolor\": \"#506784\", \"linecolor\": \"#506784\", \"ticks\": \"\"}, \"bgcolor\": \"rgb(17,17,17)\", \"caxis\": {\"gridcolor\": \"#506784\", \"linecolor\": \"#506784\", \"ticks\": \"\"}}, \"title\": {\"x\": 0.05}, \"updatemenudefaults\": {\"bgcolor\": \"#506784\", \"borderwidth\": 0}, \"xaxis\": {\"automargin\": true, \"gridcolor\": \"#283442\", \"linecolor\": \"#506784\", \"ticks\": \"\", \"title\": {\"standoff\": 15}, \"zerolinecolor\": \"#283442\", \"zerolinewidth\": 2}, \"yaxis\": {\"automargin\": true, \"gridcolor\": \"#283442\", \"linecolor\": \"#506784\", \"ticks\": \"\", \"title\": {\"standoff\": 15}, \"zerolinecolor\": \"#283442\", \"zerolinewidth\": 2}}}, \"title\": {\"text\": \"Carrilero - Support\"}, \"xaxis\": {\"anchor\": \"y\", \"domain\": [0.0, 1.0], \"title\": {\"text\": \"K Ps/90\"}}, \"yaxis\": {\"anchor\": \"x\", \"domain\": [0.0, 1.0], \"title\": {\"text\": \"Pas %\"}}},\n",
       "                        {\"responsive\": true}\n",
       "                    ).then(function(){\n",
       "                            \n",
       "var gd = document.getElementById('7fb19b60-7242-49b0-887d-b7026fa2bbe2');\n",
       "var x = new MutationObserver(function (mutations, observer) {{\n",
       "        var display = window.getComputedStyle(gd).display;\n",
       "        if (!display || display === 'none') {{\n",
       "            console.log([gd, 'removed!']);\n",
       "            Plotly.purge(gd);\n",
       "            observer.disconnect();\n",
       "        }}\n",
       "}});\n",
       "\n",
       "// Listen for the removal of the full notebook cells\n",
       "var notebookContainer = gd.closest('#notebook-container');\n",
       "if (notebookContainer) {{\n",
       "    x.observe(notebookContainer, {childList: true});\n",
       "}}\n",
       "\n",
       "// Listen for the clearing of the current output cell\n",
       "var outputEl = gd.closest('.output');\n",
       "if (outputEl) {{\n",
       "    x.observe(outputEl, {childList: true});\n",
       "}}\n",
       "\n",
       "                        })\n",
       "                };\n",
       "                });\n",
       "            </script>\n",
       "        </div>"
      ]
     },
     "metadata": {},
     "output_type": "display_data"
    }
   ],
   "source": [
    "fig = px.scatter(df1, x=\"K Ps/90\", y=\"Pas %\", text=\"Name\", log_x=False, size_max=60)\n",
    "fig.update_traces(textposition='top center')\n",
    "fig.update_layout(\n",
    "    height=500,\n",
    "   )\n",
    "for template in [\"plotly_dark\"]:\n",
    "    fig.update_layout(template=template, title=\"Carrilero - Support\")\n",
    "fig.show()\n"
   ]
  },
  {
   "cell_type": "code",
   "execution_count": 19,
   "metadata": {},
   "outputs": [
    {
     "name": "stdout",
     "output_type": "stream",
     "text": [
      "Inside Forward Support\n"
     ]
    },
    {
     "data": {
      "text/html": [
       "<style  type=\"text/css\" >\n",
       "    #T_e30f49fc_92c6_11ea_a788_10bf483492darow0_col1 {\n",
       "            background-color:  #d6e6f4;\n",
       "            color:  #000000;\n",
       "        }    #T_e30f49fc_92c6_11ea_a788_10bf483492darow0_col2 {\n",
       "            background-color:  #2b7bba;\n",
       "            color:  #000000;\n",
       "        }    #T_e30f49fc_92c6_11ea_a788_10bf483492darow0_col3 {\n",
       "            background-color:  #1764ab;\n",
       "            color:  #f1f1f1;\n",
       "        }    #T_e30f49fc_92c6_11ea_a788_10bf483492darow0_col4 {\n",
       "            background-color:  #d0e1f2;\n",
       "            color:  #000000;\n",
       "        }    #T_e30f49fc_92c6_11ea_a788_10bf483492darow0_col5 {\n",
       "            background-color:  #2b7bba;\n",
       "            color:  #000000;\n",
       "        }    #T_e30f49fc_92c6_11ea_a788_10bf483492darow0_col6 {\n",
       "            background-color:  #f7fbff;\n",
       "            color:  #000000;\n",
       "        }    #T_e30f49fc_92c6_11ea_a788_10bf483492darow0_col7 {\n",
       "            background-color:  #0b559f;\n",
       "            color:  #f1f1f1;\n",
       "        }    #T_e30f49fc_92c6_11ea_a788_10bf483492darow0_col8 {\n",
       "            background-color:  #08306b;\n",
       "            color:  #f1f1f1;\n",
       "        }    #T_e30f49fc_92c6_11ea_a788_10bf483492darow0_col9 {\n",
       "            background-color:  #abd0e6;\n",
       "            color:  #000000;\n",
       "        }    #T_e30f49fc_92c6_11ea_a788_10bf483492darow0_col10 {\n",
       "            background-color:  #08306b;\n",
       "            color:  #f1f1f1;\n",
       "        }    #T_e30f49fc_92c6_11ea_a788_10bf483492darow1_col1 {\n",
       "            background-color:  #d6e6f4;\n",
       "            color:  #000000;\n",
       "        }    #T_e30f49fc_92c6_11ea_a788_10bf483492darow1_col2 {\n",
       "            background-color:  #539ecd;\n",
       "            color:  #000000;\n",
       "        }    #T_e30f49fc_92c6_11ea_a788_10bf483492darow1_col3 {\n",
       "            background-color:  #94c4df;\n",
       "            color:  #000000;\n",
       "        }    #T_e30f49fc_92c6_11ea_a788_10bf483492darow1_col4 {\n",
       "            background-color:  #6aaed6;\n",
       "            color:  #000000;\n",
       "        }    #T_e30f49fc_92c6_11ea_a788_10bf483492darow1_col5 {\n",
       "            background-color:  #08306b;\n",
       "            color:  #f1f1f1;\n",
       "        }    #T_e30f49fc_92c6_11ea_a788_10bf483492darow1_col6 {\n",
       "            background-color:  #6aaed6;\n",
       "            color:  #000000;\n",
       "        }    #T_e30f49fc_92c6_11ea_a788_10bf483492darow1_col7 {\n",
       "            background-color:  #bad6eb;\n",
       "            color:  #000000;\n",
       "        }    #T_e30f49fc_92c6_11ea_a788_10bf483492darow1_col8 {\n",
       "            background-color:  #6aaed6;\n",
       "            color:  #000000;\n",
       "        }    #T_e30f49fc_92c6_11ea_a788_10bf483492darow1_col9 {\n",
       "            background-color:  #3787c0;\n",
       "            color:  #000000;\n",
       "        }    #T_e30f49fc_92c6_11ea_a788_10bf483492darow1_col10 {\n",
       "            background-color:  #08306b;\n",
       "            color:  #f1f1f1;\n",
       "        }    #T_e30f49fc_92c6_11ea_a788_10bf483492darow2_col1 {\n",
       "            background-color:  #abd0e6;\n",
       "            color:  #000000;\n",
       "        }    #T_e30f49fc_92c6_11ea_a788_10bf483492darow2_col2 {\n",
       "            background-color:  #89bedc;\n",
       "            color:  #000000;\n",
       "        }    #T_e30f49fc_92c6_11ea_a788_10bf483492darow2_col3 {\n",
       "            background-color:  #1764ab;\n",
       "            color:  #f1f1f1;\n",
       "        }    #T_e30f49fc_92c6_11ea_a788_10bf483492darow2_col4 {\n",
       "            background-color:  #08306b;\n",
       "            color:  #f1f1f1;\n",
       "        }    #T_e30f49fc_92c6_11ea_a788_10bf483492darow2_col5 {\n",
       "            background-color:  #f7fbff;\n",
       "            color:  #000000;\n",
       "        }    #T_e30f49fc_92c6_11ea_a788_10bf483492darow2_col6 {\n",
       "            background-color:  #2070b4;\n",
       "            color:  #f1f1f1;\n",
       "        }    #T_e30f49fc_92c6_11ea_a788_10bf483492darow2_col7 {\n",
       "            background-color:  #f7fbff;\n",
       "            color:  #000000;\n",
       "        }    #T_e30f49fc_92c6_11ea_a788_10bf483492darow2_col8 {\n",
       "            background-color:  #c6dbef;\n",
       "            color:  #000000;\n",
       "        }    #T_e30f49fc_92c6_11ea_a788_10bf483492darow2_col9 {\n",
       "            background-color:  #08306b;\n",
       "            color:  #f1f1f1;\n",
       "        }    #T_e30f49fc_92c6_11ea_a788_10bf483492darow2_col10 {\n",
       "            background-color:  #1764ab;\n",
       "            color:  #f1f1f1;\n",
       "        }    #T_e30f49fc_92c6_11ea_a788_10bf483492darow3_col1 {\n",
       "            background-color:  #08306b;\n",
       "            color:  #f1f1f1;\n",
       "        }    #T_e30f49fc_92c6_11ea_a788_10bf483492darow3_col2 {\n",
       "            background-color:  #08306b;\n",
       "            color:  #f1f1f1;\n",
       "        }    #T_e30f49fc_92c6_11ea_a788_10bf483492darow3_col3 {\n",
       "            background-color:  #d0e1f2;\n",
       "            color:  #000000;\n",
       "        }    #T_e30f49fc_92c6_11ea_a788_10bf483492darow3_col4 {\n",
       "            background-color:  #6aaed6;\n",
       "            color:  #000000;\n",
       "        }    #T_e30f49fc_92c6_11ea_a788_10bf483492darow3_col5 {\n",
       "            background-color:  #2b7bba;\n",
       "            color:  #000000;\n",
       "        }    #T_e30f49fc_92c6_11ea_a788_10bf483492darow3_col6 {\n",
       "            background-color:  #6aaed6;\n",
       "            color:  #000000;\n",
       "        }    #T_e30f49fc_92c6_11ea_a788_10bf483492darow3_col7 {\n",
       "            background-color:  #539ecd;\n",
       "            color:  #000000;\n",
       "        }    #T_e30f49fc_92c6_11ea_a788_10bf483492darow3_col8 {\n",
       "            background-color:  #c6dbef;\n",
       "            color:  #000000;\n",
       "        }    #T_e30f49fc_92c6_11ea_a788_10bf483492darow3_col9 {\n",
       "            background-color:  #d6e6f4;\n",
       "            color:  #000000;\n",
       "        }    #T_e30f49fc_92c6_11ea_a788_10bf483492darow3_col10 {\n",
       "            background-color:  #4a98c9;\n",
       "            color:  #000000;\n",
       "        }    #T_e30f49fc_92c6_11ea_a788_10bf483492darow4_col1 {\n",
       "            background-color:  #f7fbff;\n",
       "            color:  #000000;\n",
       "        }    #T_e30f49fc_92c6_11ea_a788_10bf483492darow4_col2 {\n",
       "            background-color:  #dbe9f6;\n",
       "            color:  #000000;\n",
       "        }    #T_e30f49fc_92c6_11ea_a788_10bf483492darow4_col3 {\n",
       "            background-color:  #f7fbff;\n",
       "            color:  #000000;\n",
       "        }    #T_e30f49fc_92c6_11ea_a788_10bf483492darow4_col4 {\n",
       "            background-color:  #084a91;\n",
       "            color:  #f1f1f1;\n",
       "        }    #T_e30f49fc_92c6_11ea_a788_10bf483492darow4_col5 {\n",
       "            background-color:  #539ecd;\n",
       "            color:  #000000;\n",
       "        }    #T_e30f49fc_92c6_11ea_a788_10bf483492darow4_col6 {\n",
       "            background-color:  #6aaed6;\n",
       "            color:  #000000;\n",
       "        }    #T_e30f49fc_92c6_11ea_a788_10bf483492darow4_col7 {\n",
       "            background-color:  #539ecd;\n",
       "            color:  #000000;\n",
       "        }    #T_e30f49fc_92c6_11ea_a788_10bf483492darow4_col8 {\n",
       "            background-color:  #2070b4;\n",
       "            color:  #f1f1f1;\n",
       "        }    #T_e30f49fc_92c6_11ea_a788_10bf483492darow4_col9 {\n",
       "            background-color:  #abd0e6;\n",
       "            color:  #000000;\n",
       "        }    #T_e30f49fc_92c6_11ea_a788_10bf483492darow4_col10 {\n",
       "            background-color:  #94c4df;\n",
       "            color:  #000000;\n",
       "        }    #T_e30f49fc_92c6_11ea_a788_10bf483492darow5_col1 {\n",
       "            background-color:  #105ba4;\n",
       "            color:  #f1f1f1;\n",
       "        }    #T_e30f49fc_92c6_11ea_a788_10bf483492darow5_col2 {\n",
       "            background-color:  #0b559f;\n",
       "            color:  #f1f1f1;\n",
       "        }    #T_e30f49fc_92c6_11ea_a788_10bf483492darow5_col3 {\n",
       "            background-color:  #d0e1f2;\n",
       "            color:  #000000;\n",
       "        }    #T_e30f49fc_92c6_11ea_a788_10bf483492darow5_col4 {\n",
       "            background-color:  #1764ab;\n",
       "            color:  #f1f1f1;\n",
       "        }    #T_e30f49fc_92c6_11ea_a788_10bf483492darow5_col5 {\n",
       "            background-color:  #f7fbff;\n",
       "            color:  #000000;\n",
       "        }    #T_e30f49fc_92c6_11ea_a788_10bf483492darow5_col6 {\n",
       "            background-color:  #c6dbef;\n",
       "            color:  #000000;\n",
       "        }    #T_e30f49fc_92c6_11ea_a788_10bf483492darow5_col7 {\n",
       "            background-color:  #08306b;\n",
       "            color:  #f1f1f1;\n",
       "        }    #T_e30f49fc_92c6_11ea_a788_10bf483492darow5_col8 {\n",
       "            background-color:  #f7fbff;\n",
       "            color:  #000000;\n",
       "        }    #T_e30f49fc_92c6_11ea_a788_10bf483492darow5_col9 {\n",
       "            background-color:  #abd0e6;\n",
       "            color:  #000000;\n",
       "        }    #T_e30f49fc_92c6_11ea_a788_10bf483492darow5_col10 {\n",
       "            background-color:  #94c4df;\n",
       "            color:  #000000;\n",
       "        }    #T_e30f49fc_92c6_11ea_a788_10bf483492darow6_col1 {\n",
       "            background-color:  #3787c0;\n",
       "            color:  #000000;\n",
       "        }    #T_e30f49fc_92c6_11ea_a788_10bf483492darow6_col2 {\n",
       "            background-color:  #89bedc;\n",
       "            color:  #000000;\n",
       "        }    #T_e30f49fc_92c6_11ea_a788_10bf483492darow6_col3 {\n",
       "            background-color:  #1764ab;\n",
       "            color:  #f1f1f1;\n",
       "        }    #T_e30f49fc_92c6_11ea_a788_10bf483492darow6_col4 {\n",
       "            background-color:  #2e7ebc;\n",
       "            color:  #000000;\n",
       "        }    #T_e30f49fc_92c6_11ea_a788_10bf483492darow6_col5 {\n",
       "            background-color:  #539ecd;\n",
       "            color:  #000000;\n",
       "        }    #T_e30f49fc_92c6_11ea_a788_10bf483492darow6_col6 {\n",
       "            background-color:  #c6dbef;\n",
       "            color:  #000000;\n",
       "        }    #T_e30f49fc_92c6_11ea_a788_10bf483492darow6_col7 {\n",
       "            background-color:  #89bedc;\n",
       "            color:  #000000;\n",
       "        }    #T_e30f49fc_92c6_11ea_a788_10bf483492darow6_col8 {\n",
       "            background-color:  #6aaed6;\n",
       "            color:  #000000;\n",
       "        }    #T_e30f49fc_92c6_11ea_a788_10bf483492darow6_col9 {\n",
       "            background-color:  #f7fbff;\n",
       "            color:  #000000;\n",
       "        }    #T_e30f49fc_92c6_11ea_a788_10bf483492darow6_col10 {\n",
       "            background-color:  #d0e1f2;\n",
       "            color:  #000000;\n",
       "        }    #T_e30f49fc_92c6_11ea_a788_10bf483492darow7_col1 {\n",
       "            background-color:  #105ba4;\n",
       "            color:  #f1f1f1;\n",
       "        }    #T_e30f49fc_92c6_11ea_a788_10bf483492darow7_col2 {\n",
       "            background-color:  #f7fbff;\n",
       "            color:  #000000;\n",
       "        }    #T_e30f49fc_92c6_11ea_a788_10bf483492darow7_col3 {\n",
       "            background-color:  #1764ab;\n",
       "            color:  #f1f1f1;\n",
       "        }    #T_e30f49fc_92c6_11ea_a788_10bf483492darow7_col4 {\n",
       "            background-color:  #b7d4ea;\n",
       "            color:  #000000;\n",
       "        }    #T_e30f49fc_92c6_11ea_a788_10bf483492darow7_col5 {\n",
       "            background-color:  #89bedc;\n",
       "            color:  #000000;\n",
       "        }    #T_e30f49fc_92c6_11ea_a788_10bf483492darow7_col6 {\n",
       "            background-color:  #6aaed6;\n",
       "            color:  #000000;\n",
       "        }    #T_e30f49fc_92c6_11ea_a788_10bf483492darow7_col7 {\n",
       "            background-color:  #2b7bba;\n",
       "            color:  #000000;\n",
       "        }    #T_e30f49fc_92c6_11ea_a788_10bf483492darow7_col8 {\n",
       "            background-color:  #2070b4;\n",
       "            color:  #f1f1f1;\n",
       "        }    #T_e30f49fc_92c6_11ea_a788_10bf483492darow7_col9 {\n",
       "            background-color:  #3787c0;\n",
       "            color:  #000000;\n",
       "        }    #T_e30f49fc_92c6_11ea_a788_10bf483492darow7_col10 {\n",
       "            background-color:  #d0e1f2;\n",
       "            color:  #000000;\n",
       "        }    #T_e30f49fc_92c6_11ea_a788_10bf483492darow8_col1 {\n",
       "            background-color:  #abd0e6;\n",
       "            color:  #000000;\n",
       "        }    #T_e30f49fc_92c6_11ea_a788_10bf483492darow8_col2 {\n",
       "            background-color:  #2b7bba;\n",
       "            color:  #000000;\n",
       "        }    #T_e30f49fc_92c6_11ea_a788_10bf483492darow8_col3 {\n",
       "            background-color:  #08306b;\n",
       "            color:  #f1f1f1;\n",
       "        }    #T_e30f49fc_92c6_11ea_a788_10bf483492darow8_col4 {\n",
       "            background-color:  #d0e1f2;\n",
       "            color:  #000000;\n",
       "        }    #T_e30f49fc_92c6_11ea_a788_10bf483492darow8_col5 {\n",
       "            background-color:  #bad6eb;\n",
       "            color:  #000000;\n",
       "        }    #T_e30f49fc_92c6_11ea_a788_10bf483492darow8_col6 {\n",
       "            background-color:  #2070b4;\n",
       "            color:  #f1f1f1;\n",
       "        }    #T_e30f49fc_92c6_11ea_a788_10bf483492darow8_col7 {\n",
       "            background-color:  #89bedc;\n",
       "            color:  #000000;\n",
       "        }    #T_e30f49fc_92c6_11ea_a788_10bf483492darow8_col8 {\n",
       "            background-color:  #c6dbef;\n",
       "            color:  #000000;\n",
       "        }    #T_e30f49fc_92c6_11ea_a788_10bf483492darow8_col9 {\n",
       "            background-color:  #abd0e6;\n",
       "            color:  #000000;\n",
       "        }    #T_e30f49fc_92c6_11ea_a788_10bf483492darow8_col10 {\n",
       "            background-color:  #f7fbff;\n",
       "            color:  #000000;\n",
       "        }    #T_e30f49fc_92c6_11ea_a788_10bf483492darow9_col1 {\n",
       "            background-color:  #d6e6f4;\n",
       "            color:  #000000;\n",
       "        }    #T_e30f49fc_92c6_11ea_a788_10bf483492darow9_col2 {\n",
       "            background-color:  #0b559f;\n",
       "            color:  #f1f1f1;\n",
       "        }    #T_e30f49fc_92c6_11ea_a788_10bf483492darow9_col3 {\n",
       "            background-color:  #4a98c9;\n",
       "            color:  #000000;\n",
       "        }    #T_e30f49fc_92c6_11ea_a788_10bf483492darow9_col4 {\n",
       "            background-color:  #f7fbff;\n",
       "            color:  #000000;\n",
       "        }    #T_e30f49fc_92c6_11ea_a788_10bf483492darow9_col5 {\n",
       "            background-color:  #dbe9f6;\n",
       "            color:  #000000;\n",
       "        }    #T_e30f49fc_92c6_11ea_a788_10bf483492darow9_col6 {\n",
       "            background-color:  #08306b;\n",
       "            color:  #f1f1f1;\n",
       "        }    #T_e30f49fc_92c6_11ea_a788_10bf483492darow9_col7 {\n",
       "            background-color:  #539ecd;\n",
       "            color:  #000000;\n",
       "        }    #T_e30f49fc_92c6_11ea_a788_10bf483492darow9_col8 {\n",
       "            background-color:  #6aaed6;\n",
       "            color:  #000000;\n",
       "        }    #T_e30f49fc_92c6_11ea_a788_10bf483492darow9_col9 {\n",
       "            background-color:  #6aaed6;\n",
       "            color:  #000000;\n",
       "        }    #T_e30f49fc_92c6_11ea_a788_10bf483492darow9_col10 {\n",
       "            background-color:  #f7fbff;\n",
       "            color:  #000000;\n",
       "        }</style><table id=\"T_e30f49fc_92c6_11ea_a788_10bf483492da\" ><thead>    <tr>        <th class=\"col_heading level0 col0\" >Name</th>        <th class=\"col_heading level0 col1\" >Age</th>        <th class=\"col_heading level0 col2\" >Dri</th>        <th class=\"col_heading level0 col3\" >Fir</th>        <th class=\"col_heading level0 col4\" >Pas</th>        <th class=\"col_heading level0 col5\" >Tec</th>        <th class=\"col_heading level0 col6\" >OtB</th>        <th class=\"col_heading level0 col7\" >Acc</th>        <th class=\"col_heading level0 col8\" >Agi</th>        <th class=\"col_heading level0 col9\" >Bal</th>        <th class=\"col_heading level0 col10\" >ifs_score</th>    </tr></thead><tbody>\n",
       "                <tr>\n",
       "                                <td id=\"T_e30f49fc_92c6_11ea_a788_10bf483492darow0_col0\" class=\"data row0 col0\" >Filipe Cerqueira</td>\n",
       "                        <td id=\"T_e30f49fc_92c6_11ea_a788_10bf483492darow0_col1\" class=\"data row0 col1\" >                  18</td>\n",
       "                        <td id=\"T_e30f49fc_92c6_11ea_a788_10bf483492darow0_col2\" class=\"data row0 col2\" >13</td>\n",
       "                        <td id=\"T_e30f49fc_92c6_11ea_a788_10bf483492darow0_col3\" class=\"data row0 col3\" >15</td>\n",
       "                        <td id=\"T_e30f49fc_92c6_11ea_a788_10bf483492darow0_col4\" class=\"data row0 col4\" >9</td>\n",
       "                        <td id=\"T_e30f49fc_92c6_11ea_a788_10bf483492darow0_col5\" class=\"data row0 col5\" >15</td>\n",
       "                        <td id=\"T_e30f49fc_92c6_11ea_a788_10bf483492darow0_col6\" class=\"data row0 col6\" >10</td>\n",
       "                        <td id=\"T_e30f49fc_92c6_11ea_a788_10bf483492darow0_col7\" class=\"data row0 col7\" >15</td>\n",
       "                        <td id=\"T_e30f49fc_92c6_11ea_a788_10bf483492darow0_col8\" class=\"data row0 col8\" >17</td>\n",
       "                        <td id=\"T_e30f49fc_92c6_11ea_a788_10bf483492darow0_col9\" class=\"data row0 col9\" >12</td>\n",
       "                        <td id=\"T_e30f49fc_92c6_11ea_a788_10bf483492darow0_col10\" class=\"data row0 col10\" >106</td>\n",
       "            </tr>\n",
       "            <tr>\n",
       "                                <td id=\"T_e30f49fc_92c6_11ea_a788_10bf483492darow1_col0\" class=\"data row1 col0\" >Pawel Muzylowski</td>\n",
       "                        <td id=\"T_e30f49fc_92c6_11ea_a788_10bf483492darow1_col1\" class=\"data row1 col1\" >                  18</td>\n",
       "                        <td id=\"T_e30f49fc_92c6_11ea_a788_10bf483492darow1_col2\" class=\"data row1 col2\" >12</td>\n",
       "                        <td id=\"T_e30f49fc_92c6_11ea_a788_10bf483492darow1_col3\" class=\"data row1 col3\" >13</td>\n",
       "                        <td id=\"T_e30f49fc_92c6_11ea_a788_10bf483492darow1_col4\" class=\"data row1 col4\" >12</td>\n",
       "                        <td id=\"T_e30f49fc_92c6_11ea_a788_10bf483492darow1_col5\" class=\"data row1 col5\" >17</td>\n",
       "                        <td id=\"T_e30f49fc_92c6_11ea_a788_10bf483492darow1_col6\" class=\"data row1 col6\" >12</td>\n",
       "                        <td id=\"T_e30f49fc_92c6_11ea_a788_10bf483492darow1_col7\" class=\"data row1 col7\" >11</td>\n",
       "                        <td id=\"T_e30f49fc_92c6_11ea_a788_10bf483492darow1_col8\" class=\"data row1 col8\" >15</td>\n",
       "                        <td id=\"T_e30f49fc_92c6_11ea_a788_10bf483492darow1_col9\" class=\"data row1 col9\" >14</td>\n",
       "                        <td id=\"T_e30f49fc_92c6_11ea_a788_10bf483492darow1_col10\" class=\"data row1 col10\" >106</td>\n",
       "            </tr>\n",
       "            <tr>\n",
       "                                <td id=\"T_e30f49fc_92c6_11ea_a788_10bf483492darow2_col0\" class=\"data row2 col0\" >Predrag Jovic</td>\n",
       "                        <td id=\"T_e30f49fc_92c6_11ea_a788_10bf483492darow2_col1\" class=\"data row2 col1\" >                  19</td>\n",
       "                        <td id=\"T_e30f49fc_92c6_11ea_a788_10bf483492darow2_col2\" class=\"data row2 col2\" >11</td>\n",
       "                        <td id=\"T_e30f49fc_92c6_11ea_a788_10bf483492darow2_col3\" class=\"data row2 col3\" >15</td>\n",
       "                        <td id=\"T_e30f49fc_92c6_11ea_a788_10bf483492darow2_col4\" class=\"data row2 col4\" >17</td>\n",
       "                        <td id=\"T_e30f49fc_92c6_11ea_a788_10bf483492darow2_col5\" class=\"data row2 col5\" >10</td>\n",
       "                        <td id=\"T_e30f49fc_92c6_11ea_a788_10bf483492darow2_col6\" class=\"data row2 col6\" >13</td>\n",
       "                        <td id=\"T_e30f49fc_92c6_11ea_a788_10bf483492darow2_col7\" class=\"data row2 col7\" >9</td>\n",
       "                        <td id=\"T_e30f49fc_92c6_11ea_a788_10bf483492darow2_col8\" class=\"data row2 col8\" >14</td>\n",
       "                        <td id=\"T_e30f49fc_92c6_11ea_a788_10bf483492darow2_col9\" class=\"data row2 col9\" >16</td>\n",
       "                        <td id=\"T_e30f49fc_92c6_11ea_a788_10bf483492darow2_col10\" class=\"data row2 col10\" >105</td>\n",
       "            </tr>\n",
       "            <tr>\n",
       "                                <td id=\"T_e30f49fc_92c6_11ea_a788_10bf483492darow3_col0\" class=\"data row3 col0\" >JesÃºs Vargas</td>\n",
       "                        <td id=\"T_e30f49fc_92c6_11ea_a788_10bf483492darow3_col1\" class=\"data row3 col1\" >                  23</td>\n",
       "                        <td id=\"T_e30f49fc_92c6_11ea_a788_10bf483492darow3_col2\" class=\"data row3 col2\" >15</td>\n",
       "                        <td id=\"T_e30f49fc_92c6_11ea_a788_10bf483492darow3_col3\" class=\"data row3 col3\" >12</td>\n",
       "                        <td id=\"T_e30f49fc_92c6_11ea_a788_10bf483492darow3_col4\" class=\"data row3 col4\" >12</td>\n",
       "                        <td id=\"T_e30f49fc_92c6_11ea_a788_10bf483492darow3_col5\" class=\"data row3 col5\" >15</td>\n",
       "                        <td id=\"T_e30f49fc_92c6_11ea_a788_10bf483492darow3_col6\" class=\"data row3 col6\" >12</td>\n",
       "                        <td id=\"T_e30f49fc_92c6_11ea_a788_10bf483492darow3_col7\" class=\"data row3 col7\" >13</td>\n",
       "                        <td id=\"T_e30f49fc_92c6_11ea_a788_10bf483492darow3_col8\" class=\"data row3 col8\" >14</td>\n",
       "                        <td id=\"T_e30f49fc_92c6_11ea_a788_10bf483492darow3_col9\" class=\"data row3 col9\" >11</td>\n",
       "                        <td id=\"T_e30f49fc_92c6_11ea_a788_10bf483492darow3_col10\" class=\"data row3 col10\" >104</td>\n",
       "            </tr>\n",
       "            <tr>\n",
       "                                <td id=\"T_e30f49fc_92c6_11ea_a788_10bf483492darow4_col0\" class=\"data row4 col0\" >Helderlan</td>\n",
       "                        <td id=\"T_e30f49fc_92c6_11ea_a788_10bf483492darow4_col1\" class=\"data row4 col1\" >                  17</td>\n",
       "                        <td id=\"T_e30f49fc_92c6_11ea_a788_10bf483492darow4_col2\" class=\"data row4 col2\" >9</td>\n",
       "                        <td id=\"T_e30f49fc_92c6_11ea_a788_10bf483492darow4_col3\" class=\"data row4 col3\" >11</td>\n",
       "                        <td id=\"T_e30f49fc_92c6_11ea_a788_10bf483492darow4_col4\" class=\"data row4 col4\" >16</td>\n",
       "                        <td id=\"T_e30f49fc_92c6_11ea_a788_10bf483492darow4_col5\" class=\"data row4 col5\" >14</td>\n",
       "                        <td id=\"T_e30f49fc_92c6_11ea_a788_10bf483492darow4_col6\" class=\"data row4 col6\" >12</td>\n",
       "                        <td id=\"T_e30f49fc_92c6_11ea_a788_10bf483492darow4_col7\" class=\"data row4 col7\" >13</td>\n",
       "                        <td id=\"T_e30f49fc_92c6_11ea_a788_10bf483492darow4_col8\" class=\"data row4 col8\" >16</td>\n",
       "                        <td id=\"T_e30f49fc_92c6_11ea_a788_10bf483492darow4_col9\" class=\"data row4 col9\" >12</td>\n",
       "                        <td id=\"T_e30f49fc_92c6_11ea_a788_10bf483492darow4_col10\" class=\"data row4 col10\" >103</td>\n",
       "            </tr>\n",
       "            <tr>\n",
       "                                <td id=\"T_e30f49fc_92c6_11ea_a788_10bf483492darow5_col0\" class=\"data row5 col0\" >Semih Åahin</td>\n",
       "                        <td id=\"T_e30f49fc_92c6_11ea_a788_10bf483492darow5_col1\" class=\"data row5 col1\" >                  22</td>\n",
       "                        <td id=\"T_e30f49fc_92c6_11ea_a788_10bf483492darow5_col2\" class=\"data row5 col2\" >14</td>\n",
       "                        <td id=\"T_e30f49fc_92c6_11ea_a788_10bf483492darow5_col3\" class=\"data row5 col3\" >12</td>\n",
       "                        <td id=\"T_e30f49fc_92c6_11ea_a788_10bf483492darow5_col4\" class=\"data row5 col4\" >15</td>\n",
       "                        <td id=\"T_e30f49fc_92c6_11ea_a788_10bf483492darow5_col5\" class=\"data row5 col5\" >10</td>\n",
       "                        <td id=\"T_e30f49fc_92c6_11ea_a788_10bf483492darow5_col6\" class=\"data row5 col6\" >11</td>\n",
       "                        <td id=\"T_e30f49fc_92c6_11ea_a788_10bf483492darow5_col7\" class=\"data row5 col7\" >16</td>\n",
       "                        <td id=\"T_e30f49fc_92c6_11ea_a788_10bf483492darow5_col8\" class=\"data row5 col8\" >13</td>\n",
       "                        <td id=\"T_e30f49fc_92c6_11ea_a788_10bf483492darow5_col9\" class=\"data row5 col9\" >12</td>\n",
       "                        <td id=\"T_e30f49fc_92c6_11ea_a788_10bf483492darow5_col10\" class=\"data row5 col10\" >103</td>\n",
       "            </tr>\n",
       "            <tr>\n",
       "                                <td id=\"T_e30f49fc_92c6_11ea_a788_10bf483492darow6_col0\" class=\"data row6 col0\" >Can Bozdogan</td>\n",
       "                        <td id=\"T_e30f49fc_92c6_11ea_a788_10bf483492darow6_col1\" class=\"data row6 col1\" >                  21</td>\n",
       "                        <td id=\"T_e30f49fc_92c6_11ea_a788_10bf483492darow6_col2\" class=\"data row6 col2\" >11</td>\n",
       "                        <td id=\"T_e30f49fc_92c6_11ea_a788_10bf483492darow6_col3\" class=\"data row6 col3\" >15</td>\n",
       "                        <td id=\"T_e30f49fc_92c6_11ea_a788_10bf483492darow6_col4\" class=\"data row6 col4\" >14</td>\n",
       "                        <td id=\"T_e30f49fc_92c6_11ea_a788_10bf483492darow6_col5\" class=\"data row6 col5\" >14</td>\n",
       "                        <td id=\"T_e30f49fc_92c6_11ea_a788_10bf483492darow6_col6\" class=\"data row6 col6\" >11</td>\n",
       "                        <td id=\"T_e30f49fc_92c6_11ea_a788_10bf483492darow6_col7\" class=\"data row6 col7\" >12</td>\n",
       "                        <td id=\"T_e30f49fc_92c6_11ea_a788_10bf483492darow6_col8\" class=\"data row6 col8\" >15</td>\n",
       "                        <td id=\"T_e30f49fc_92c6_11ea_a788_10bf483492darow6_col9\" class=\"data row6 col9\" >10</td>\n",
       "                        <td id=\"T_e30f49fc_92c6_11ea_a788_10bf483492darow6_col10\" class=\"data row6 col10\" >102</td>\n",
       "            </tr>\n",
       "            <tr>\n",
       "                                <td id=\"T_e30f49fc_92c6_11ea_a788_10bf483492darow7_col0\" class=\"data row7 col0\" >Virgiliu Postolachi</td>\n",
       "                        <td id=\"T_e30f49fc_92c6_11ea_a788_10bf483492darow7_col1\" class=\"data row7 col1\" >                  22</td>\n",
       "                        <td id=\"T_e30f49fc_92c6_11ea_a788_10bf483492darow7_col2\" class=\"data row7 col2\" >8</td>\n",
       "                        <td id=\"T_e30f49fc_92c6_11ea_a788_10bf483492darow7_col3\" class=\"data row7 col3\" >15</td>\n",
       "                        <td id=\"T_e30f49fc_92c6_11ea_a788_10bf483492darow7_col4\" class=\"data row7 col4\" >10</td>\n",
       "                        <td id=\"T_e30f49fc_92c6_11ea_a788_10bf483492darow7_col5\" class=\"data row7 col5\" >13</td>\n",
       "                        <td id=\"T_e30f49fc_92c6_11ea_a788_10bf483492darow7_col6\" class=\"data row7 col6\" >12</td>\n",
       "                        <td id=\"T_e30f49fc_92c6_11ea_a788_10bf483492darow7_col7\" class=\"data row7 col7\" >14</td>\n",
       "                        <td id=\"T_e30f49fc_92c6_11ea_a788_10bf483492darow7_col8\" class=\"data row7 col8\" >16</td>\n",
       "                        <td id=\"T_e30f49fc_92c6_11ea_a788_10bf483492darow7_col9\" class=\"data row7 col9\" >14</td>\n",
       "                        <td id=\"T_e30f49fc_92c6_11ea_a788_10bf483492darow7_col10\" class=\"data row7 col10\" >102</td>\n",
       "            </tr>\n",
       "            <tr>\n",
       "                                <td id=\"T_e30f49fc_92c6_11ea_a788_10bf483492darow8_col0\" class=\"data row8 col0\" >Adrian Å¢apu</td>\n",
       "                        <td id=\"T_e30f49fc_92c6_11ea_a788_10bf483492darow8_col1\" class=\"data row8 col1\" >                  19</td>\n",
       "                        <td id=\"T_e30f49fc_92c6_11ea_a788_10bf483492darow8_col2\" class=\"data row8 col2\" >13</td>\n",
       "                        <td id=\"T_e30f49fc_92c6_11ea_a788_10bf483492darow8_col3\" class=\"data row8 col3\" >16</td>\n",
       "                        <td id=\"T_e30f49fc_92c6_11ea_a788_10bf483492darow8_col4\" class=\"data row8 col4\" >9</td>\n",
       "                        <td id=\"T_e30f49fc_92c6_11ea_a788_10bf483492darow8_col5\" class=\"data row8 col5\" >12</td>\n",
       "                        <td id=\"T_e30f49fc_92c6_11ea_a788_10bf483492darow8_col6\" class=\"data row8 col6\" >13</td>\n",
       "                        <td id=\"T_e30f49fc_92c6_11ea_a788_10bf483492darow8_col7\" class=\"data row8 col7\" >12</td>\n",
       "                        <td id=\"T_e30f49fc_92c6_11ea_a788_10bf483492darow8_col8\" class=\"data row8 col8\" >14</td>\n",
       "                        <td id=\"T_e30f49fc_92c6_11ea_a788_10bf483492darow8_col9\" class=\"data row8 col9\" >12</td>\n",
       "                        <td id=\"T_e30f49fc_92c6_11ea_a788_10bf483492darow8_col10\" class=\"data row8 col10\" >101</td>\n",
       "            </tr>\n",
       "            <tr>\n",
       "                                <td id=\"T_e30f49fc_92c6_11ea_a788_10bf483492darow9_col0\" class=\"data row9 col0\" >Milan Mugosa</td>\n",
       "                        <td id=\"T_e30f49fc_92c6_11ea_a788_10bf483492darow9_col1\" class=\"data row9 col1\" >                  18</td>\n",
       "                        <td id=\"T_e30f49fc_92c6_11ea_a788_10bf483492darow9_col2\" class=\"data row9 col2\" >14</td>\n",
       "                        <td id=\"T_e30f49fc_92c6_11ea_a788_10bf483492darow9_col3\" class=\"data row9 col3\" >14</td>\n",
       "                        <td id=\"T_e30f49fc_92c6_11ea_a788_10bf483492darow9_col4\" class=\"data row9 col4\" >7</td>\n",
       "                        <td id=\"T_e30f49fc_92c6_11ea_a788_10bf483492darow9_col5\" class=\"data row9 col5\" >11</td>\n",
       "                        <td id=\"T_e30f49fc_92c6_11ea_a788_10bf483492darow9_col6\" class=\"data row9 col6\" >14</td>\n",
       "                        <td id=\"T_e30f49fc_92c6_11ea_a788_10bf483492darow9_col7\" class=\"data row9 col7\" >13</td>\n",
       "                        <td id=\"T_e30f49fc_92c6_11ea_a788_10bf483492darow9_col8\" class=\"data row9 col8\" >15</td>\n",
       "                        <td id=\"T_e30f49fc_92c6_11ea_a788_10bf483492darow9_col9\" class=\"data row9 col9\" >13</td>\n",
       "                        <td id=\"T_e30f49fc_92c6_11ea_a788_10bf483492darow9_col10\" class=\"data row9 col10\" >101</td>\n",
       "            </tr>\n",
       "    </tbody></table>"
      ],
      "text/plain": [
       "<pandas.io.formats.style.Styler at 0xd187df0>"
      ]
     },
     "execution_count": 19,
     "metadata": {},
     "output_type": "execute_result"
    }
   ],
   "source": [
    "print(\"Inside Forward Support\")\n",
    "sorted_ifs = ifs.sort_values(by='ifs_score', ascending=False)\n",
    "sorted_ifs.head(10).style.format({\"Age\": \"{:20,.0f}\", \n",
    "                          })\\\n",
    "                       .hide_index()\\\n",
    "                       .background_gradient(cmap='Blues')"
   ]
  },
  {
   "cell_type": "code",
   "execution_count": 20,
   "metadata": {},
   "outputs": [
    {
     "data": {
      "application/vnd.plotly.v1+json": {
       "config": {
        "plotlyServerURL": "https://plot.ly"
       },
       "data": [
        {
         "hovertemplate": "Asts/90=%{x}<br>Ch C/90=%{y}<br>Name=%{text}<extra></extra>",
         "legendgroup": "",
         "marker": {
          "color": "#636efa",
          "symbol": "circle"
         },
         "mode": "markers+text",
         "name": "",
         "showlegend": false,
         "text": [
          "Djibril DiakitÃ©",
          "JoÃ£o Tavares",
          "Matej Hudecek",
          "Adrian Rybak",
          "Oskar Repka",
          "Maciej Obodecki",
          "Ivo Kralj",
          "Bartosz Sobczyk",
          "Ivan Tomac",
          "Nikola Bogdanovski",
          "Stefan Velickovic",
          "Andrija Zakoc",
          "AurÃ©lien Nguiamba",
          "Flynn Downes",
          "Nikola Puzic",
          "Andjelo Kacavenda",
          "Tymoteusz Puchacz",
          "Felix Brunmayr",
          "Lennart Grill",
          "Josip Rakic",
          "Stefan Randjelovic",
          "Radoslaw Dzierbicki",
          "Alexandar Ubavic",
          "Veljko Jovkovic",
          "Mariano GÃ³mez",
          "David Bumberger",
          "Enrico Huss",
          "Mateo Jaksic",
          "Konrad Jozwicki",
          "Nikita Marusenko",
          "Djordje Jovanovic",
          "Filip Lisnic",
          "Dawid Szalas",
          "Vladimir Ilic",
          "Marcin Mackowiak",
          "Florin Codrean",
          "David Otto",
          "Stefan Golubovic",
          "Keanan Bennetts",
          "Andrej Vukas",
          "Jannik Tepe",
          "Mladen Devetak",
          "Tom Baack",
          "Jan Sobocinski",
          "TomÃ¡s Blanco",
          "Sinan Karweina",
          "Ben Williams",
          "Arkadiusz Zajaczkowski",
          "Miguel Reisinho",
          "Filp Ceko",
          "Michel StÃ¶cker",
          "JÃ©rÃ´me Deom",
          "Ranko Jokic",
          "Palko DÃ¡rdai",
          "Aleksander Tomasz",
          "Alex Vigo",
          "Daniel Bielica",
          "Marko Djira",
          "Norbert Walczak",
          "Boris Moltenis",
          "Julius Kade",
          "Goran Buljandric",
          "Jannis KÃ¼bler",
          "Aleksa Jovanovic",
          "Tomasz Owczarek",
          "David Wittkowski",
          "Konrad Zaklika",
          "Pawel Karbowinski",
          "Nicky Werner",
          "Julijan Popovic",
          "Nassim Boujellab",
          "Bartlomiej Gajda",
          "Nemanja Matijevic",
          "Marko Denic",
          "Robert Baar",
          "Tuta",
          "Dusan Jokovic",
          "Tomasz Dzida",
          "Aleksa Pejic",
          "Krsta Bojic",
          "Sikou NiakatÃ©",
          "Tomasz Makowski",
          "Sebastian Gwozdz",
          "Adrian Polanski",
          "Bryan Mbeumo",
          "Dorin Sirbu",
          "Elvis Novalic",
          "MickaÃ«l Cuisance",
          "Mateusz Madzia",
          "JesÃºs Vargas",
          "Marino Jedvaj",
          "Raphael Assibey-Mensah",
          "Lukasz Sztylka",
          "Zoran Zrnzevic",
          "Alex Krawiec",
          "Petar Melezovic",
          "Tomasz Kurek",
          "Danko Radic",
          "Paul Mensah",
          "Jordan Williams",
          "Mario Mustapic",
          "Nikola Trickovic",
          "Patrik Delic",
          "Maciej Famulak",
          "Wiktor Nahrebecki",
          "Barne Poggenberg",
          "Mirza Jasarevic",
          "Ratko Minic",
          "Semih Åahin",
          "Matej Santek",
          "Georgios Siadas",
          "Tyrese Campbell",
          "Martin Krizmanic",
          "Kacper Laskos",
          "Aleksa Milojevic",
          "Cheick DoucourÃ©",
          "Ivan Jakovljev",
          "Przemyslaw Zdybowicz",
          "Sven Botman",
          "Malik Karaahmet",
          "Lukas KrÃ¼ger",
          "Niclas Stierlin",
          "Mane Markovic",
          "Karol Czubak",
          "Ilija Dejanovic",
          "Pascal Hackethal",
          "Oleg Gorin",
          "Michal Zieba",
          "Miodrag Maljkovic",
          "Jakov Blagaic",
          "Harisson Marcelin",
          "Vice Bazdaric",
          "Daniel Liszka",
          "Jan Sieracki",
          "Jhonny Lucas",
          "Tymoteusz Klups",
          "Josip Sutalo",
          "Othman Boussaid",
          "Evert Linthorst",
          "Jusuf Gazibegovic",
          "Virgiliu Postolachi",
          "Luis GÃ¶rlich",
          "Andrej Ilic",
          "Daniel Haritonov",
          "Patryk Drabik",
          "Tom Dobek-Pietrowski",
          "Michal Mydlarz",
          "Cho Jeong-Hui",
          "Mohamed Loua",
          "Nemanja Zikic",
          "Emir Sejdovic",
          "Samuel Lengle",
          "Mateusz Duchowski",
          "Iliya Gruev",
          "Bartosz Borun",
          "Juraj Ljubic",
          "GonÃ§alo Rebelo",
          "Dominik Resetar",
          "Jurica Prsir",
          "Piotr Wujec",
          "Jan Majsterek",
          "Mitchel Bakker",
          "Kamil Piatkowski",
          "Michal Ozga",
          "Karol Turek",
          "Toni Karimovic",
          "Billy Crellin",
          "Konrad Sieracki",
          "Vando Luis",
          "Jan Los",
          "Jessic Ngankam",
          "Adam Borkowski",
          "Julian Rieckmann",
          "Luka Pavlak",
          "Robert Ion",
          "Linus RosenlÃ¶cher",
          "Eugen Telch",
          "Nicholas Wunsch",
          "Dawid Kisly",
          "Uros Miloradovic",
          "Alois Oroz",
          "Luca Bazzoli",
          "Ronan Darcy",
          "Yann-Aurel Bisseck",
          "Timo Bornemann",
          "Radivoj Bosic",
          "Jakov Katusa",
          "Kacper Jozefiak",
          "Szymon Mroczko",
          "Karol Struski",
          "Wojciech Kaminski",
          "Piotr Lisowski",
          "Daishawn Redan",
          "Kacper Smolinski",
          "Lukas SchÃ¶fl",
          "Mikolaj Labojko",
          "Jakub Karbownik",
          "Damir Magdic",
          "Karol Malec",
          "Patryk Wozniak",
          "Can Bozdogan",
          "Aleksander Paluszek",
          "Mario Cuic",
          "Dragoljub Savic",
          "Nathan Collins",
          "Dominik Pila",
          "Mihael Kupresak",
          "Manu KonÃ©",
          "Niels Hahn",
          "Tin Hrvoj",
          "Lucas Da Cunha",
          "Rahim Ibrahim",
          "Renato Josipovic",
          "Han-Noah Massengo",
          "Kacper Wiatrak",
          "Bartosz Kuzniarski",
          "Adrian Petk",
          "Fabian Tauchhammer",
          "Bartlomiej Mruk",
          "Jakub Rudek",
          "Jakub Swiecinski",
          "Jakub Nowakowski",
          "Kamil Dabrowski",
          "Yuri Sprandel Flores",
          "Stefan Radmanovac",
          "Kamal Bafounta",
          "Filip Marchwinski",
          "Kamil Lukoszek",
          "Jakub Niewiadomski",
          "Dominik Kedzior",
          "Joe Gelhardt",
          "Filip Sobiecki",
          "Fran Tomek",
          "Hubert Wasiewski",
          "Djordje Vasic",
          "Jakub Zima",
          "Damian Makuch",
          "Andrzej Kloda",
          "Stipe Biuk",
          "Mateusz Pienczak",
          "FIlip Brekalo",
          "Stefan Despotovski",
          "Jakub Kisiel",
          "Duje Skugor",
          "Martin Baturina",
          "Radoslaw Cielemecki",
          "Ariel Mosor",
          "Nikola Petkovic",
          "Nikodem Sujecki",
          "Ivan Mandic",
          "Stanislaw Loch",
          "Dario Grgic",
          "Wojciech Szybka",
          "Kacper Szmidt",
          "Vukasin Krstic",
          "Obrendo Doesburg",
          "Casper Elderman",
          "Predrag Jovic",
          "Daniel Hoyo-Kowalski",
          "Darijo Basic",
          "Wiktor Mosur",
          "Uros Mirkovic",
          "Marcos RodrÃ­guez",
          "Adrian Å¢apu",
          "Paul Mari",
          "Pawel Muzylowski",
          "Dragan Radovic",
          "Szymon Kobeszko",
          "Marcin Dabrowski",
          "Jorge Delgado",
          "Daniel Piesio",
          null
         ],
         "textposition": "top center",
         "type": "scatter",
         "x": [
          "-",
          "0.14",
          "0.11",
          "0.06",
          "-",
          "0.17",
          "-",
          "-",
          "0.23",
          "0.24",
          "0.15",
          "0.08",
          "0.06",
          "0.06",
          "0.44",
          "0.05",
          "0.08",
          "0.04",
          "-",
          "0.08",
          "-",
          "0.07",
          "0.22",
          "0.17",
          "0.17",
          "0.11",
          "0.20",
          "0.07",
          "0.06",
          "-",
          "0.08",
          "-",
          "0.27",
          "-",
          "0.06",
          "0.04",
          "0.06",
          "-",
          "0.13",
          "0.15",
          "-",
          "0.05",
          "-",
          "0.12",
          "0.08",
          "0.24",
          "-",
          "0.11",
          "0.22",
          "0.06",
          "0.05",
          "0.29",
          "0.11",
          "0.33",
          "0.12",
          "0.11",
          "-",
          "0.30",
          "0.14",
          "0.06",
          "0.12",
          "-",
          "0.27",
          "-",
          "-",
          "0.05",
          "0.05",
          "-",
          "0.10",
          "0.18",
          "0.46",
          "0.11",
          "0.14",
          "0.23",
          "0.05",
          "-",
          "-",
          "0.42",
          "0.11",
          "0.12",
          "0.13",
          "0.07",
          "0.13",
          "0.24",
          "0.08",
          "0.06",
          "0.18",
          "0.53",
          "0.05",
          "0.11",
          "0.16",
          "0.22",
          "0.09",
          "0.09",
          "0.93",
          "0.05",
          "0.37",
          "0.40",
          "0.19",
          "0.06",
          "-",
          "0.06",
          "0.09",
          "0.54",
          "0.59",
          "0.05",
          "0.18",
          "0.22",
          "0.34",
          "0.40",
          "0.17",
          "-",
          "-",
          "0.09",
          "-",
          "0.16",
          "-",
          "0.13",
          "-",
          "0.21",
          "-",
          "-",
          "-",
          "0.21",
          "0.13",
          "0.20",
          "0.09",
          "0.08",
          "0.27",
          "0.38",
          "-",
          "-",
          "0.38",
          "-",
          "0.08",
          "0.07",
          "0.07",
          "0.07",
          "0.21",
          "0.22",
          "0.07",
          "0.18",
          "-",
          "0.10",
          "0.45",
          "0.22",
          "0.38",
          "0.21",
          "-",
          "0.09",
          "0.39",
          "0.30",
          "0.25",
          "-",
          "0.30",
          "0.16",
          "0.13",
          "0.06",
          "0.18",
          "-",
          "0.17",
          "-",
          "0.11",
          "0.18",
          "0.16",
          "0.13",
          "-",
          "0.42",
          "0.04",
          "0.09",
          "0.33",
          "0.08",
          "0.11",
          "0.51",
          "0.06",
          "0.07",
          "0.26",
          "0.32",
          "0.06",
          "0.15",
          "0.06",
          "0.20",
          "0.18",
          "0.08",
          "0.09",
          "0.09",
          "0.32",
          "0.08",
          "0.07",
          "0.43",
          "-",
          "0.05",
          "0.10",
          "0.08",
          "0.18",
          "0.07",
          "0.08",
          "-",
          "-",
          "0.86",
          "0.25",
          "-",
          "-",
          "0.14",
          "-",
          "-",
          "0.21",
          "0.29",
          "0.06",
          "-",
          "0.12",
          "0.20",
          "-",
          "0.08",
          "0.05",
          "0.12",
          "0.17",
          "0.04",
          "0.06",
          "0.06",
          "0.06",
          "0.14",
          "-",
          "0.03",
          "0.05",
          "0.13",
          "0.09",
          "0.08",
          "0.13",
          "0.17",
          "0.06",
          "0.08",
          "0.26",
          "-",
          "0.08",
          "-",
          "0.15",
          "-",
          "0.28",
          "0.08",
          "0.15",
          "0.10",
          "0.24",
          "0.15",
          "-",
          "0.19",
          "-",
          "0.54",
          "-",
          "-",
          "0.08",
          "0.32",
          "0.08",
          "0.15",
          "-",
          "0.04",
          "-",
          "-",
          "-",
          "0.08",
          "0.13",
          "0.06",
          "-",
          "-",
          "0.06",
          "0.47",
          "0.41",
          "-",
          "-",
          "0.15",
          "0.13",
          null
         ],
         "xaxis": "x",
         "y": [
          "-",
          "-",
          "0.67",
          "0.18",
          "0.56",
          "-",
          "0.57",
          "0.60",
          "1.45",
          "2.63",
          "1.22",
          "0.16",
          "0.28",
          "0.44",
          "3.62",
          "0.77",
          "0.60",
          "1.09",
          "-",
          "0.46",
          "-",
          "0.53",
          "-",
          "0.98",
          "0.17",
          "0.45",
          "0.65",
          "1.22",
          "1.44",
          "0.40",
          "0.85",
          "0.33",
          "1.97",
          "0.10",
          "0.77",
          "-",
          "0.68",
          "0.25",
          "0.83",
          "0.29",
          "0.70",
          "0.99",
          "-",
          "0.58",
          "1.01",
          "1.13",
          "0.62",
          "0.48",
          "0.87",
          "0.44",
          "0.46",
          "0.64",
          "0.56",
          "3.24",
          "-",
          "0.17",
          "-",
          "0.37",
          "-",
          "0.28",
          "0.37",
          "-",
          "1.08",
          "0.25",
          "0.12",
          "0.25",
          "0.33",
          "1.16",
          "0.53",
          "0.92",
          "1.15",
          "1.09",
          "1.42",
          "-",
          "0.34",
          "-",
          "0.43",
          "1.36",
          "1.32",
          "1.59",
          "0.52",
          "0.27",
          "-",
          "0.88",
          "1.89",
          "-",
          "1.70",
          "2.37",
          "0.33",
          "1.49",
          "-",
          "-",
          "0.97",
          "-",
          "3.37",
          "-",
          "0.55",
          "2.14",
          "1.09",
          "0.93",
          "-",
          "0.57",
          "-",
          "0.62",
          "2.29",
          "0.51",
          "0.78",
          "1.48",
          "1.79",
          "2.26",
          "1.06",
          "0.84",
          "0.16",
          "0.36",
          "-",
          "1.07",
          "-",
          "0.92",
          "0.11",
          "-",
          "1.02",
          "0.60",
          "-",
          "0.56",
          "-",
          "0.41",
          "2.38",
          "0.32",
          "1.48",
          "1.63",
          "-",
          "-",
          "2.33",
          "0.92",
          "1.38",
          "1.59",
          "0.29",
          "-",
          "0.84",
          "0.79",
          "-",
          "1.83",
          "0.81",
          "0.55",
          "1.94",
          "2.17",
          "1.85",
          "0.04",
          "0.50",
          "-",
          "1.87",
          "2.13",
          "0.88",
          "0.80",
          "3.17",
          "1.29",
          "-",
          "0.52",
          "2.72",
          "0.28",
          "0.51",
          "0.29",
          "0.44",
          "0.27",
          "0.65",
          "1.38",
          "-",
          "1.33",
          "-",
          "1.51",
          "1.11",
          "0.54",
          "0.32",
          "0.96",
          "1.02",
          "0.36",
          "-",
          "1.70",
          "0.59",
          "1.51",
          "0.71",
          "0.83",
          "0.23",
          "0.40",
          "0.87",
          "1.49",
          "2.13",
          "0.25",
          "0.14",
          "1.77",
          "0.20",
          "0.55",
          "0.64",
          "0.61",
          "-",
          "-",
          "1.14",
          "0.92",
          "0.79",
          "2.74",
          "1.25",
          "0.08",
          "0.40",
          "-",
          "0.44",
          "1.16",
          "1.39",
          "-",
          "-",
          "0.32",
          "-",
          "-",
          "-",
          "1.67",
          "-",
          "1.72",
          "1.34",
          "-",
          "0.39",
          "1.10",
          "0.77",
          "-",
          "1.51",
          "0.34",
          "0.43",
          "0.44",
          "1.57",
          "1.01",
          "0.13",
          "0.96",
          "-",
          "0.76",
          "1.54",
          "-",
          "0.48",
          "0.47",
          "-",
          "0.09",
          "2.32",
          "0.39",
          "0.81",
          "0.76",
          "1.26",
          "0.31",
          "2.48",
          "1.52",
          "0.45",
          "2.71",
          "-",
          "-",
          "1.95",
          "2.06",
          "1.38",
          "2.89",
          "0.21",
          "-",
          "0.35",
          "1.12",
          "0.15",
          "0.84",
          "1.70",
          "0.85",
          "0.40",
          "1.04",
          "0.51",
          "1.33",
          "1.97",
          "0.98",
          "0.89",
          "0.49",
          "1.59",
          null
         ],
         "yaxis": "y"
        }
       ],
       "layout": {
        "height": 500,
        "legend": {
         "tracegroupgap": 0
        },
        "margin": {
         "t": 60
        },
        "template": {
         "data": {
          "bar": [
           {
            "error_x": {
             "color": "#f2f5fa"
            },
            "error_y": {
             "color": "#f2f5fa"
            },
            "marker": {
             "line": {
              "color": "rgb(17,17,17)",
              "width": 0.5
             }
            },
            "type": "bar"
           }
          ],
          "barpolar": [
           {
            "marker": {
             "line": {
              "color": "rgb(17,17,17)",
              "width": 0.5
             }
            },
            "type": "barpolar"
           }
          ],
          "carpet": [
           {
            "aaxis": {
             "endlinecolor": "#A2B1C6",
             "gridcolor": "#506784",
             "linecolor": "#506784",
             "minorgridcolor": "#506784",
             "startlinecolor": "#A2B1C6"
            },
            "baxis": {
             "endlinecolor": "#A2B1C6",
             "gridcolor": "#506784",
             "linecolor": "#506784",
             "minorgridcolor": "#506784",
             "startlinecolor": "#A2B1C6"
            },
            "type": "carpet"
           }
          ],
          "choropleth": [
           {
            "colorbar": {
             "outlinewidth": 0,
             "ticks": ""
            },
            "type": "choropleth"
           }
          ],
          "contour": [
           {
            "colorbar": {
             "outlinewidth": 0,
             "ticks": ""
            },
            "colorscale": [
             [
              0,
              "#0d0887"
             ],
             [
              0.1111111111111111,
              "#46039f"
             ],
             [
              0.2222222222222222,
              "#7201a8"
             ],
             [
              0.3333333333333333,
              "#9c179e"
             ],
             [
              0.4444444444444444,
              "#bd3786"
             ],
             [
              0.5555555555555556,
              "#d8576b"
             ],
             [
              0.6666666666666666,
              "#ed7953"
             ],
             [
              0.7777777777777778,
              "#fb9f3a"
             ],
             [
              0.8888888888888888,
              "#fdca26"
             ],
             [
              1,
              "#f0f921"
             ]
            ],
            "type": "contour"
           }
          ],
          "contourcarpet": [
           {
            "colorbar": {
             "outlinewidth": 0,
             "ticks": ""
            },
            "type": "contourcarpet"
           }
          ],
          "heatmap": [
           {
            "colorbar": {
             "outlinewidth": 0,
             "ticks": ""
            },
            "colorscale": [
             [
              0,
              "#0d0887"
             ],
             [
              0.1111111111111111,
              "#46039f"
             ],
             [
              0.2222222222222222,
              "#7201a8"
             ],
             [
              0.3333333333333333,
              "#9c179e"
             ],
             [
              0.4444444444444444,
              "#bd3786"
             ],
             [
              0.5555555555555556,
              "#d8576b"
             ],
             [
              0.6666666666666666,
              "#ed7953"
             ],
             [
              0.7777777777777778,
              "#fb9f3a"
             ],
             [
              0.8888888888888888,
              "#fdca26"
             ],
             [
              1,
              "#f0f921"
             ]
            ],
            "type": "heatmap"
           }
          ],
          "heatmapgl": [
           {
            "colorbar": {
             "outlinewidth": 0,
             "ticks": ""
            },
            "colorscale": [
             [
              0,
              "#0d0887"
             ],
             [
              0.1111111111111111,
              "#46039f"
             ],
             [
              0.2222222222222222,
              "#7201a8"
             ],
             [
              0.3333333333333333,
              "#9c179e"
             ],
             [
              0.4444444444444444,
              "#bd3786"
             ],
             [
              0.5555555555555556,
              "#d8576b"
             ],
             [
              0.6666666666666666,
              "#ed7953"
             ],
             [
              0.7777777777777778,
              "#fb9f3a"
             ],
             [
              0.8888888888888888,
              "#fdca26"
             ],
             [
              1,
              "#f0f921"
             ]
            ],
            "type": "heatmapgl"
           }
          ],
          "histogram": [
           {
            "marker": {
             "colorbar": {
              "outlinewidth": 0,
              "ticks": ""
             }
            },
            "type": "histogram"
           }
          ],
          "histogram2d": [
           {
            "colorbar": {
             "outlinewidth": 0,
             "ticks": ""
            },
            "colorscale": [
             [
              0,
              "#0d0887"
             ],
             [
              0.1111111111111111,
              "#46039f"
             ],
             [
              0.2222222222222222,
              "#7201a8"
             ],
             [
              0.3333333333333333,
              "#9c179e"
             ],
             [
              0.4444444444444444,
              "#bd3786"
             ],
             [
              0.5555555555555556,
              "#d8576b"
             ],
             [
              0.6666666666666666,
              "#ed7953"
             ],
             [
              0.7777777777777778,
              "#fb9f3a"
             ],
             [
              0.8888888888888888,
              "#fdca26"
             ],
             [
              1,
              "#f0f921"
             ]
            ],
            "type": "histogram2d"
           }
          ],
          "histogram2dcontour": [
           {
            "colorbar": {
             "outlinewidth": 0,
             "ticks": ""
            },
            "colorscale": [
             [
              0,
              "#0d0887"
             ],
             [
              0.1111111111111111,
              "#46039f"
             ],
             [
              0.2222222222222222,
              "#7201a8"
             ],
             [
              0.3333333333333333,
              "#9c179e"
             ],
             [
              0.4444444444444444,
              "#bd3786"
             ],
             [
              0.5555555555555556,
              "#d8576b"
             ],
             [
              0.6666666666666666,
              "#ed7953"
             ],
             [
              0.7777777777777778,
              "#fb9f3a"
             ],
             [
              0.8888888888888888,
              "#fdca26"
             ],
             [
              1,
              "#f0f921"
             ]
            ],
            "type": "histogram2dcontour"
           }
          ],
          "mesh3d": [
           {
            "colorbar": {
             "outlinewidth": 0,
             "ticks": ""
            },
            "type": "mesh3d"
           }
          ],
          "parcoords": [
           {
            "line": {
             "colorbar": {
              "outlinewidth": 0,
              "ticks": ""
             }
            },
            "type": "parcoords"
           }
          ],
          "pie": [
           {
            "automargin": true,
            "type": "pie"
           }
          ],
          "scatter": [
           {
            "marker": {
             "line": {
              "color": "#283442"
             }
            },
            "type": "scatter"
           }
          ],
          "scatter3d": [
           {
            "line": {
             "colorbar": {
              "outlinewidth": 0,
              "ticks": ""
             }
            },
            "marker": {
             "colorbar": {
              "outlinewidth": 0,
              "ticks": ""
             }
            },
            "type": "scatter3d"
           }
          ],
          "scattercarpet": [
           {
            "marker": {
             "colorbar": {
              "outlinewidth": 0,
              "ticks": ""
             }
            },
            "type": "scattercarpet"
           }
          ],
          "scattergeo": [
           {
            "marker": {
             "colorbar": {
              "outlinewidth": 0,
              "ticks": ""
             }
            },
            "type": "scattergeo"
           }
          ],
          "scattergl": [
           {
            "marker": {
             "line": {
              "color": "#283442"
             }
            },
            "type": "scattergl"
           }
          ],
          "scattermapbox": [
           {
            "marker": {
             "colorbar": {
              "outlinewidth": 0,
              "ticks": ""
             }
            },
            "type": "scattermapbox"
           }
          ],
          "scatterpolar": [
           {
            "marker": {
             "colorbar": {
              "outlinewidth": 0,
              "ticks": ""
             }
            },
            "type": "scatterpolar"
           }
          ],
          "scatterpolargl": [
           {
            "marker": {
             "colorbar": {
              "outlinewidth": 0,
              "ticks": ""
             }
            },
            "type": "scatterpolargl"
           }
          ],
          "scatterternary": [
           {
            "marker": {
             "colorbar": {
              "outlinewidth": 0,
              "ticks": ""
             }
            },
            "type": "scatterternary"
           }
          ],
          "surface": [
           {
            "colorbar": {
             "outlinewidth": 0,
             "ticks": ""
            },
            "colorscale": [
             [
              0,
              "#0d0887"
             ],
             [
              0.1111111111111111,
              "#46039f"
             ],
             [
              0.2222222222222222,
              "#7201a8"
             ],
             [
              0.3333333333333333,
              "#9c179e"
             ],
             [
              0.4444444444444444,
              "#bd3786"
             ],
             [
              0.5555555555555556,
              "#d8576b"
             ],
             [
              0.6666666666666666,
              "#ed7953"
             ],
             [
              0.7777777777777778,
              "#fb9f3a"
             ],
             [
              0.8888888888888888,
              "#fdca26"
             ],
             [
              1,
              "#f0f921"
             ]
            ],
            "type": "surface"
           }
          ],
          "table": [
           {
            "cells": {
             "fill": {
              "color": "#506784"
             },
             "line": {
              "color": "rgb(17,17,17)"
             }
            },
            "header": {
             "fill": {
              "color": "#2a3f5f"
             },
             "line": {
              "color": "rgb(17,17,17)"
             }
            },
            "type": "table"
           }
          ]
         },
         "layout": {
          "annotationdefaults": {
           "arrowcolor": "#f2f5fa",
           "arrowhead": 0,
           "arrowwidth": 1
          },
          "coloraxis": {
           "colorbar": {
            "outlinewidth": 0,
            "ticks": ""
           }
          },
          "colorscale": {
           "diverging": [
            [
             0,
             "#8e0152"
            ],
            [
             0.1,
             "#c51b7d"
            ],
            [
             0.2,
             "#de77ae"
            ],
            [
             0.3,
             "#f1b6da"
            ],
            [
             0.4,
             "#fde0ef"
            ],
            [
             0.5,
             "#f7f7f7"
            ],
            [
             0.6,
             "#e6f5d0"
            ],
            [
             0.7,
             "#b8e186"
            ],
            [
             0.8,
             "#7fbc41"
            ],
            [
             0.9,
             "#4d9221"
            ],
            [
             1,
             "#276419"
            ]
           ],
           "sequential": [
            [
             0,
             "#0d0887"
            ],
            [
             0.1111111111111111,
             "#46039f"
            ],
            [
             0.2222222222222222,
             "#7201a8"
            ],
            [
             0.3333333333333333,
             "#9c179e"
            ],
            [
             0.4444444444444444,
             "#bd3786"
            ],
            [
             0.5555555555555556,
             "#d8576b"
            ],
            [
             0.6666666666666666,
             "#ed7953"
            ],
            [
             0.7777777777777778,
             "#fb9f3a"
            ],
            [
             0.8888888888888888,
             "#fdca26"
            ],
            [
             1,
             "#f0f921"
            ]
           ],
           "sequentialminus": [
            [
             0,
             "#0d0887"
            ],
            [
             0.1111111111111111,
             "#46039f"
            ],
            [
             0.2222222222222222,
             "#7201a8"
            ],
            [
             0.3333333333333333,
             "#9c179e"
            ],
            [
             0.4444444444444444,
             "#bd3786"
            ],
            [
             0.5555555555555556,
             "#d8576b"
            ],
            [
             0.6666666666666666,
             "#ed7953"
            ],
            [
             0.7777777777777778,
             "#fb9f3a"
            ],
            [
             0.8888888888888888,
             "#fdca26"
            ],
            [
             1,
             "#f0f921"
            ]
           ]
          },
          "colorway": [
           "#636efa",
           "#EF553B",
           "#00cc96",
           "#ab63fa",
           "#FFA15A",
           "#19d3f3",
           "#FF6692",
           "#B6E880",
           "#FF97FF",
           "#FECB52"
          ],
          "font": {
           "color": "#f2f5fa"
          },
          "geo": {
           "bgcolor": "rgb(17,17,17)",
           "lakecolor": "rgb(17,17,17)",
           "landcolor": "rgb(17,17,17)",
           "showlakes": true,
           "showland": true,
           "subunitcolor": "#506784"
          },
          "hoverlabel": {
           "align": "left"
          },
          "hovermode": "closest",
          "mapbox": {
           "style": "dark"
          },
          "paper_bgcolor": "rgb(17,17,17)",
          "plot_bgcolor": "rgb(17,17,17)",
          "polar": {
           "angularaxis": {
            "gridcolor": "#506784",
            "linecolor": "#506784",
            "ticks": ""
           },
           "bgcolor": "rgb(17,17,17)",
           "radialaxis": {
            "gridcolor": "#506784",
            "linecolor": "#506784",
            "ticks": ""
           }
          },
          "scene": {
           "xaxis": {
            "backgroundcolor": "rgb(17,17,17)",
            "gridcolor": "#506784",
            "gridwidth": 2,
            "linecolor": "#506784",
            "showbackground": true,
            "ticks": "",
            "zerolinecolor": "#C8D4E3"
           },
           "yaxis": {
            "backgroundcolor": "rgb(17,17,17)",
            "gridcolor": "#506784",
            "gridwidth": 2,
            "linecolor": "#506784",
            "showbackground": true,
            "ticks": "",
            "zerolinecolor": "#C8D4E3"
           },
           "zaxis": {
            "backgroundcolor": "rgb(17,17,17)",
            "gridcolor": "#506784",
            "gridwidth": 2,
            "linecolor": "#506784",
            "showbackground": true,
            "ticks": "",
            "zerolinecolor": "#C8D4E3"
           }
          },
          "shapedefaults": {
           "line": {
            "color": "#f2f5fa"
           }
          },
          "sliderdefaults": {
           "bgcolor": "#C8D4E3",
           "bordercolor": "rgb(17,17,17)",
           "borderwidth": 1,
           "tickwidth": 0
          },
          "ternary": {
           "aaxis": {
            "gridcolor": "#506784",
            "linecolor": "#506784",
            "ticks": ""
           },
           "baxis": {
            "gridcolor": "#506784",
            "linecolor": "#506784",
            "ticks": ""
           },
           "bgcolor": "rgb(17,17,17)",
           "caxis": {
            "gridcolor": "#506784",
            "linecolor": "#506784",
            "ticks": ""
           }
          },
          "title": {
           "x": 0.05
          },
          "updatemenudefaults": {
           "bgcolor": "#506784",
           "borderwidth": 0
          },
          "xaxis": {
           "automargin": true,
           "gridcolor": "#283442",
           "linecolor": "#506784",
           "ticks": "",
           "title": {
            "standoff": 15
           },
           "zerolinecolor": "#283442",
           "zerolinewidth": 2
          },
          "yaxis": {
           "automargin": true,
           "gridcolor": "#283442",
           "linecolor": "#506784",
           "ticks": "",
           "title": {
            "standoff": 15
           },
           "zerolinecolor": "#283442",
           "zerolinewidth": 2
          }
         }
        },
        "title": {
         "text": "Inside Forward - Support"
        },
        "xaxis": {
         "anchor": "y",
         "domain": [
          0,
          1
         ],
         "title": {
          "text": "Asts/90"
         }
        },
        "yaxis": {
         "anchor": "x",
         "domain": [
          0,
          1
         ],
         "title": {
          "text": "Ch C/90"
         }
        }
       }
      },
      "text/html": [
       "<div>\n",
       "        \n",
       "        \n",
       "            <div id=\"6fa12c5a-d8ba-438e-9ce0-0355e622fc92\" class=\"plotly-graph-div\" style=\"height:500px; width:100%;\"></div>\n",
       "            <script type=\"text/javascript\">\n",
       "                require([\"plotly\"], function(Plotly) {\n",
       "                    window.PLOTLYENV=window.PLOTLYENV || {};\n",
       "                    \n",
       "                if (document.getElementById(\"6fa12c5a-d8ba-438e-9ce0-0355e622fc92\")) {\n",
       "                    Plotly.newPlot(\n",
       "                        '6fa12c5a-d8ba-438e-9ce0-0355e622fc92',\n",
       "                        [{\"hovertemplate\": \"Asts/90=%{x}<br>Ch C/90=%{y}<br>Name=%{text}<extra></extra>\", \"legendgroup\": \"\", \"marker\": {\"color\": \"#636efa\", \"symbol\": \"circle\"}, \"mode\": \"markers+text\", \"name\": \"\", \"showlegend\": false, \"text\": [\"Djibril Diakit\\u00c3\\u00a9\", \"Jo\\u00c3\\u00a3o Tavares\", \"Matej Hudecek\", \"Adrian Rybak\", \"Oskar Repka\", \"Maciej Obodecki\", \"Ivo Kralj\", \"Bartosz Sobczyk\", \"Ivan Tomac\", \"Nikola Bogdanovski\", \"Stefan Velickovic\", \"Andrija Zakoc\", \"Aur\\u00c3\\u00a9lien Nguiamba\", \"Flynn Downes\", \"Nikola Puzic\", \"Andjelo Kacavenda\", \"Tymoteusz Puchacz\", \"Felix Brunmayr\", \"Lennart Grill\", \"Josip Rakic\", \"Stefan Randjelovic\", \"Radoslaw Dzierbicki\", \"Alexandar Ubavic\", \"Veljko Jovkovic\", \"Mariano G\\u00c3\\u00b3mez\", \"David Bumberger\", \"Enrico Huss\", \"Mateo Jaksic\", \"Konrad Jozwicki\", \"Nikita Marusenko\", \"Djordje Jovanovic\", \"Filip Lisnic\", \"Dawid Szalas\", \"Vladimir Ilic\", \"Marcin Mackowiak\", \"Florin Codrean\", \"David Otto\", \"Stefan Golubovic\", \"Keanan Bennetts\", \"Andrej Vukas\", \"Jannik Tepe\", \"Mladen Devetak\", \"Tom Baack\", \"Jan Sobocinski\", \"Tom\\u00c3\\u00a1s Blanco\", \"Sinan Karweina\", \"Ben Williams\", \"Arkadiusz Zajaczkowski\", \"Miguel Reisinho\", \"Filp Ceko\", \"Michel St\\u00c3\\u00b6cker\", \"J\\u00c3\\u00a9r\\u00c3\\u00b4me Deom\", \"Ranko Jokic\", \"Palko D\\u00c3\\u00a1rdai\", \"Aleksander Tomasz\", \"Alex Vigo\", \"Daniel Bielica\", \"Marko Djira\", \"Norbert Walczak\", \"Boris Moltenis\", \"Julius Kade\", \"Goran Buljandric\", \"Jannis K\\u00c3\\u00bcbler\", \"Aleksa Jovanovic\", \"Tomasz Owczarek\", \"David Wittkowski\", \"Konrad Zaklika\", \"Pawel Karbowinski\", \"Nicky Werner\", \"Julijan Popovic\", \"Nassim Boujellab\", \"Bartlomiej Gajda\", \"Nemanja Matijevic\", \"Marko Denic\", \"Robert Baar\", \"Tuta\", \"Dusan Jokovic\", \"Tomasz Dzida\", \"Aleksa Pejic\", \"Krsta Bojic\", \"Sikou Niakat\\u00c3\\u00a9\", \"Tomasz Makowski\", \"Sebastian Gwozdz\", \"Adrian Polanski\", \"Bryan Mbeumo\", \"Dorin Sirbu\", \"Elvis Novalic\", \"Micka\\u00c3\\u00abl Cuisance\", \"Mateusz Madzia\", \"Jes\\u00c3\\u00bas Vargas\", \"Marino Jedvaj\", \"Raphael Assibey-Mensah\", \"Lukasz Sztylka\", \"Zoran Zrnzevic\", \"Alex Krawiec\", \"Petar Melezovic\", \"Tomasz Kurek\", \"Danko Radic\", \"Paul Mensah\", \"Jordan Williams\", \"Mario Mustapic\", \"Nikola Trickovic\", \"Patrik Delic\", \"Maciej Famulak\", \"Wiktor Nahrebecki\", \"Barne Poggenberg\", \"Mirza Jasarevic\", \"Ratko Minic\", \"Semih \\u00c5\\u009eahin\", \"Matej Santek\", \"Georgios Siadas\", \"Tyrese Campbell\", \"Martin Krizmanic\", \"Kacper Laskos\", \"Aleksa Milojevic\", \"Cheick Doucour\\u00c3\\u00a9\", \"Ivan Jakovljev\", \"Przemyslaw Zdybowicz\", \"Sven Botman\", \"Malik Karaahmet\", \"Lukas Kr\\u00c3\\u00bcger\", \"Niclas Stierlin\", \"Mane Markovic\", \"Karol Czubak\", \"Ilija Dejanovic\", \"Pascal Hackethal\", \"Oleg Gorin\", \"Michal Zieba\", \"Miodrag Maljkovic\", \"Jakov Blagaic\", \"Harisson Marcelin\", \"Vice Bazdaric\", \"Daniel Liszka\", \"Jan Sieracki\", \"Jhonny Lucas\", \"Tymoteusz Klups\", \"Josip Sutalo\", \"Othman Boussaid\", \"Evert Linthorst\", \"Jusuf Gazibegovic\", \"Virgiliu Postolachi\", \"Luis G\\u00c3\\u00b6rlich\", \"Andrej Ilic\", \"Daniel Haritonov\", \"Patryk Drabik\", \"Tom Dobek-Pietrowski\", \"Michal Mydlarz\", \"Cho Jeong-Hui\", \"Mohamed Loua\", \"Nemanja Zikic\", \"Emir Sejdovic\", \"Samuel Lengle\", \"Mateusz Duchowski\", \"Iliya Gruev\", \"Bartosz Borun\", \"Juraj Ljubic\", \"Gon\\u00c3\\u00a7alo Rebelo\", \"Dominik Resetar\", \"Jurica Prsir\", \"Piotr Wujec\", \"Jan Majsterek\", \"Mitchel Bakker\", \"Kamil Piatkowski\", \"Michal Ozga\", \"Karol Turek\", \"Toni Karimovic\", \"Billy Crellin\", \"Konrad Sieracki\", \"Vando Luis\", \"Jan Los\", \"Jessic Ngankam\", \"Adam Borkowski\", \"Julian Rieckmann\", \"Luka Pavlak\", \"Robert Ion\", \"Linus Rosenl\\u00c3\\u00b6cher\", \"Eugen Telch\", \"Nicholas Wunsch\", \"Dawid Kisly\", \"Uros Miloradovic\", \"Alois Oroz\", \"Luca Bazzoli\", \"Ronan Darcy\", \"Yann-Aurel Bisseck\", \"Timo Bornemann\", \"Radivoj Bosic\", \"Jakov Katusa\", \"Kacper Jozefiak\", \"Szymon Mroczko\", \"Karol Struski\", \"Wojciech Kaminski\", \"Piotr Lisowski\", \"Daishawn Redan\", \"Kacper Smolinski\", \"Lukas Sch\\u00c3\\u00b6fl\", \"Mikolaj Labojko\", \"Jakub Karbownik\", \"Damir Magdic\", \"Karol Malec\", \"Patryk Wozniak\", \"Can Bozdogan\", \"Aleksander Paluszek\", \"Mario Cuic\", \"Dragoljub Savic\", \"Nathan Collins\", \"Dominik Pila\", \"Mihael Kupresak\", \"Manu Kon\\u00c3\\u00a9\", \"Niels Hahn\", \"Tin Hrvoj\", \"Lucas Da Cunha\", \"Rahim Ibrahim\", \"Renato Josipovic\", \"Han-Noah Massengo\", \"Kacper Wiatrak\", \"Bartosz Kuzniarski\", \"Adrian Petk\", \"Fabian Tauchhammer\", \"Bartlomiej Mruk\", \"Jakub Rudek\", \"Jakub Swiecinski\", \"Jakub Nowakowski\", \"Kamil Dabrowski\", \"Yuri Sprandel Flores\", \"Stefan Radmanovac\", \"Kamal Bafounta\", \"Filip Marchwinski\", \"Kamil Lukoszek\", \"Jakub Niewiadomski\", \"Dominik Kedzior\", \"Joe Gelhardt\", \"Filip Sobiecki\", \"Fran Tomek\", \"Hubert Wasiewski\", \"Djordje Vasic\", \"Jakub Zima\", \"Damian Makuch\", \"Andrzej Kloda\", \"Stipe Biuk\", \"Mateusz Pienczak\", \"FIlip Brekalo\", \"Stefan Despotovski\", \"Jakub Kisiel\", \"Duje Skugor\", \"Martin Baturina\", \"Radoslaw Cielemecki\", \"Ariel Mosor\", \"Nikola Petkovic\", \"Nikodem Sujecki\", \"Ivan Mandic\", \"Stanislaw Loch\", \"Dario Grgic\", \"Wojciech Szybka\", \"Kacper Szmidt\", \"Vukasin Krstic\", \"Obrendo Doesburg\", \"Casper Elderman\", \"Predrag Jovic\", \"Daniel Hoyo-Kowalski\", \"Darijo Basic\", \"Wiktor Mosur\", \"Uros Mirkovic\", \"Marcos Rodr\\u00c3\\u00adguez\", \"Adrian \\u00c5\\u00a2apu\", \"Paul Mari\", \"Pawel Muzylowski\", \"Dragan Radovic\", \"Szymon Kobeszko\", \"Marcin Dabrowski\", \"Jorge Delgado\", \"Daniel Piesio\", null], \"textposition\": \"top center\", \"type\": \"scatter\", \"x\": [\"-\", \"0.14\", \"0.11\", \"0.06\", \"-\", \"0.17\", \"-\", \"-\", \"0.23\", \"0.24\", \"0.15\", \"0.08\", \"0.06\", \"0.06\", \"0.44\", \"0.05\", \"0.08\", \"0.04\", \"-\", \"0.08\", \"-\", \"0.07\", \"0.22\", \"0.17\", \"0.17\", \"0.11\", \"0.20\", \"0.07\", \"0.06\", \"-\", \"0.08\", \"-\", \"0.27\", \"-\", \"0.06\", \"0.04\", \"0.06\", \"-\", \"0.13\", \"0.15\", \"-\", \"0.05\", \"-\", \"0.12\", \"0.08\", \"0.24\", \"-\", \"0.11\", \"0.22\", \"0.06\", \"0.05\", \"0.29\", \"0.11\", \"0.33\", \"0.12\", \"0.11\", \"-\", \"0.30\", \"0.14\", \"0.06\", \"0.12\", \"-\", \"0.27\", \"-\", \"-\", \"0.05\", \"0.05\", \"-\", \"0.10\", \"0.18\", \"0.46\", \"0.11\", \"0.14\", \"0.23\", \"0.05\", \"-\", \"-\", \"0.42\", \"0.11\", \"0.12\", \"0.13\", \"0.07\", \"0.13\", \"0.24\", \"0.08\", \"0.06\", \"0.18\", \"0.53\", \"0.05\", \"0.11\", \"0.16\", \"0.22\", \"0.09\", \"0.09\", \"0.93\", \"0.05\", \"0.37\", \"0.40\", \"0.19\", \"0.06\", \"-\", \"0.06\", \"0.09\", \"0.54\", \"0.59\", \"0.05\", \"0.18\", \"0.22\", \"0.34\", \"0.40\", \"0.17\", \"-\", \"-\", \"0.09\", \"-\", \"0.16\", \"-\", \"0.13\", \"-\", \"0.21\", \"-\", \"-\", \"-\", \"0.21\", \"0.13\", \"0.20\", \"0.09\", \"0.08\", \"0.27\", \"0.38\", \"-\", \"-\", \"0.38\", \"-\", \"0.08\", \"0.07\", \"0.07\", \"0.07\", \"0.21\", \"0.22\", \"0.07\", \"0.18\", \"-\", \"0.10\", \"0.45\", \"0.22\", \"0.38\", \"0.21\", \"-\", \"0.09\", \"0.39\", \"0.30\", \"0.25\", \"-\", \"0.30\", \"0.16\", \"0.13\", \"0.06\", \"0.18\", \"-\", \"0.17\", \"-\", \"0.11\", \"0.18\", \"0.16\", \"0.13\", \"-\", \"0.42\", \"0.04\", \"0.09\", \"0.33\", \"0.08\", \"0.11\", \"0.51\", \"0.06\", \"0.07\", \"0.26\", \"0.32\", \"0.06\", \"0.15\", \"0.06\", \"0.20\", \"0.18\", \"0.08\", \"0.09\", \"0.09\", \"0.32\", \"0.08\", \"0.07\", \"0.43\", \"-\", \"0.05\", \"0.10\", \"0.08\", \"0.18\", \"0.07\", \"0.08\", \"-\", \"-\", \"0.86\", \"0.25\", \"-\", \"-\", \"0.14\", \"-\", \"-\", \"0.21\", \"0.29\", \"0.06\", \"-\", \"0.12\", \"0.20\", \"-\", \"0.08\", \"0.05\", \"0.12\", \"0.17\", \"0.04\", \"0.06\", \"0.06\", \"0.06\", \"0.14\", \"-\", \"0.03\", \"0.05\", \"0.13\", \"0.09\", \"0.08\", \"0.13\", \"0.17\", \"0.06\", \"0.08\", \"0.26\", \"-\", \"0.08\", \"-\", \"0.15\", \"-\", \"0.28\", \"0.08\", \"0.15\", \"0.10\", \"0.24\", \"0.15\", \"-\", \"0.19\", \"-\", \"0.54\", \"-\", \"-\", \"0.08\", \"0.32\", \"0.08\", \"0.15\", \"-\", \"0.04\", \"-\", \"-\", \"-\", \"0.08\", \"0.13\", \"0.06\", \"-\", \"-\", \"0.06\", \"0.47\", \"0.41\", \"-\", \"-\", \"0.15\", \"0.13\", null], \"xaxis\": \"x\", \"y\": [\"-\", \"-\", \"0.67\", \"0.18\", \"0.56\", \"-\", \"0.57\", \"0.60\", \"1.45\", \"2.63\", \"1.22\", \"0.16\", \"0.28\", \"0.44\", \"3.62\", \"0.77\", \"0.60\", \"1.09\", \"-\", \"0.46\", \"-\", \"0.53\", \"-\", \"0.98\", \"0.17\", \"0.45\", \"0.65\", \"1.22\", \"1.44\", \"0.40\", \"0.85\", \"0.33\", \"1.97\", \"0.10\", \"0.77\", \"-\", \"0.68\", \"0.25\", \"0.83\", \"0.29\", \"0.70\", \"0.99\", \"-\", \"0.58\", \"1.01\", \"1.13\", \"0.62\", \"0.48\", \"0.87\", \"0.44\", \"0.46\", \"0.64\", \"0.56\", \"3.24\", \"-\", \"0.17\", \"-\", \"0.37\", \"-\", \"0.28\", \"0.37\", \"-\", \"1.08\", \"0.25\", \"0.12\", \"0.25\", \"0.33\", \"1.16\", \"0.53\", \"0.92\", \"1.15\", \"1.09\", \"1.42\", \"-\", \"0.34\", \"-\", \"0.43\", \"1.36\", \"1.32\", \"1.59\", \"0.52\", \"0.27\", \"-\", \"0.88\", \"1.89\", \"-\", \"1.70\", \"2.37\", \"0.33\", \"1.49\", \"-\", \"-\", \"0.97\", \"-\", \"3.37\", \"-\", \"0.55\", \"2.14\", \"1.09\", \"0.93\", \"-\", \"0.57\", \"-\", \"0.62\", \"2.29\", \"0.51\", \"0.78\", \"1.48\", \"1.79\", \"2.26\", \"1.06\", \"0.84\", \"0.16\", \"0.36\", \"-\", \"1.07\", \"-\", \"0.92\", \"0.11\", \"-\", \"1.02\", \"0.60\", \"-\", \"0.56\", \"-\", \"0.41\", \"2.38\", \"0.32\", \"1.48\", \"1.63\", \"-\", \"-\", \"2.33\", \"0.92\", \"1.38\", \"1.59\", \"0.29\", \"-\", \"0.84\", \"0.79\", \"-\", \"1.83\", \"0.81\", \"0.55\", \"1.94\", \"2.17\", \"1.85\", \"0.04\", \"0.50\", \"-\", \"1.87\", \"2.13\", \"0.88\", \"0.80\", \"3.17\", \"1.29\", \"-\", \"0.52\", \"2.72\", \"0.28\", \"0.51\", \"0.29\", \"0.44\", \"0.27\", \"0.65\", \"1.38\", \"-\", \"1.33\", \"-\", \"1.51\", \"1.11\", \"0.54\", \"0.32\", \"0.96\", \"1.02\", \"0.36\", \"-\", \"1.70\", \"0.59\", \"1.51\", \"0.71\", \"0.83\", \"0.23\", \"0.40\", \"0.87\", \"1.49\", \"2.13\", \"0.25\", \"0.14\", \"1.77\", \"0.20\", \"0.55\", \"0.64\", \"0.61\", \"-\", \"-\", \"1.14\", \"0.92\", \"0.79\", \"2.74\", \"1.25\", \"0.08\", \"0.40\", \"-\", \"0.44\", \"1.16\", \"1.39\", \"-\", \"-\", \"0.32\", \"-\", \"-\", \"-\", \"1.67\", \"-\", \"1.72\", \"1.34\", \"-\", \"0.39\", \"1.10\", \"0.77\", \"-\", \"1.51\", \"0.34\", \"0.43\", \"0.44\", \"1.57\", \"1.01\", \"0.13\", \"0.96\", \"-\", \"0.76\", \"1.54\", \"-\", \"0.48\", \"0.47\", \"-\", \"0.09\", \"2.32\", \"0.39\", \"0.81\", \"0.76\", \"1.26\", \"0.31\", \"2.48\", \"1.52\", \"0.45\", \"2.71\", \"-\", \"-\", \"1.95\", \"2.06\", \"1.38\", \"2.89\", \"0.21\", \"-\", \"0.35\", \"1.12\", \"0.15\", \"0.84\", \"1.70\", \"0.85\", \"0.40\", \"1.04\", \"0.51\", \"1.33\", \"1.97\", \"0.98\", \"0.89\", \"0.49\", \"1.59\", null], \"yaxis\": \"y\"}],\n",
       "                        {\"height\": 500, \"legend\": {\"tracegroupgap\": 0}, \"margin\": {\"t\": 60}, \"template\": {\"data\": {\"bar\": [{\"error_x\": {\"color\": \"#f2f5fa\"}, \"error_y\": {\"color\": \"#f2f5fa\"}, \"marker\": {\"line\": {\"color\": \"rgb(17,17,17)\", \"width\": 0.5}}, \"type\": \"bar\"}], \"barpolar\": [{\"marker\": {\"line\": {\"color\": \"rgb(17,17,17)\", \"width\": 0.5}}, \"type\": \"barpolar\"}], \"carpet\": [{\"aaxis\": {\"endlinecolor\": \"#A2B1C6\", \"gridcolor\": \"#506784\", \"linecolor\": \"#506784\", \"minorgridcolor\": \"#506784\", \"startlinecolor\": \"#A2B1C6\"}, \"baxis\": {\"endlinecolor\": \"#A2B1C6\", \"gridcolor\": \"#506784\", \"linecolor\": \"#506784\", \"minorgridcolor\": \"#506784\", \"startlinecolor\": \"#A2B1C6\"}, \"type\": \"carpet\"}], \"choropleth\": [{\"colorbar\": {\"outlinewidth\": 0, \"ticks\": \"\"}, \"type\": \"choropleth\"}], \"contour\": [{\"colorbar\": {\"outlinewidth\": 0, \"ticks\": \"\"}, \"colorscale\": [[0.0, \"#0d0887\"], [0.1111111111111111, \"#46039f\"], [0.2222222222222222, \"#7201a8\"], [0.3333333333333333, \"#9c179e\"], [0.4444444444444444, \"#bd3786\"], [0.5555555555555556, \"#d8576b\"], [0.6666666666666666, \"#ed7953\"], [0.7777777777777778, \"#fb9f3a\"], [0.8888888888888888, \"#fdca26\"], [1.0, \"#f0f921\"]], \"type\": \"contour\"}], \"contourcarpet\": [{\"colorbar\": {\"outlinewidth\": 0, \"ticks\": \"\"}, \"type\": \"contourcarpet\"}], \"heatmap\": [{\"colorbar\": {\"outlinewidth\": 0, \"ticks\": \"\"}, \"colorscale\": [[0.0, \"#0d0887\"], [0.1111111111111111, \"#46039f\"], [0.2222222222222222, \"#7201a8\"], [0.3333333333333333, \"#9c179e\"], [0.4444444444444444, \"#bd3786\"], [0.5555555555555556, \"#d8576b\"], [0.6666666666666666, \"#ed7953\"], [0.7777777777777778, \"#fb9f3a\"], [0.8888888888888888, \"#fdca26\"], [1.0, \"#f0f921\"]], \"type\": \"heatmap\"}], \"heatmapgl\": [{\"colorbar\": {\"outlinewidth\": 0, \"ticks\": \"\"}, \"colorscale\": [[0.0, \"#0d0887\"], [0.1111111111111111, \"#46039f\"], [0.2222222222222222, \"#7201a8\"], [0.3333333333333333, \"#9c179e\"], [0.4444444444444444, \"#bd3786\"], [0.5555555555555556, \"#d8576b\"], [0.6666666666666666, \"#ed7953\"], [0.7777777777777778, \"#fb9f3a\"], [0.8888888888888888, \"#fdca26\"], [1.0, \"#f0f921\"]], \"type\": \"heatmapgl\"}], \"histogram\": [{\"marker\": {\"colorbar\": {\"outlinewidth\": 0, \"ticks\": \"\"}}, \"type\": \"histogram\"}], \"histogram2d\": [{\"colorbar\": {\"outlinewidth\": 0, \"ticks\": \"\"}, \"colorscale\": [[0.0, \"#0d0887\"], [0.1111111111111111, \"#46039f\"], [0.2222222222222222, \"#7201a8\"], [0.3333333333333333, \"#9c179e\"], [0.4444444444444444, \"#bd3786\"], [0.5555555555555556, \"#d8576b\"], [0.6666666666666666, \"#ed7953\"], [0.7777777777777778, \"#fb9f3a\"], [0.8888888888888888, \"#fdca26\"], [1.0, \"#f0f921\"]], \"type\": \"histogram2d\"}], \"histogram2dcontour\": [{\"colorbar\": {\"outlinewidth\": 0, \"ticks\": \"\"}, \"colorscale\": [[0.0, \"#0d0887\"], [0.1111111111111111, \"#46039f\"], [0.2222222222222222, \"#7201a8\"], [0.3333333333333333, \"#9c179e\"], [0.4444444444444444, \"#bd3786\"], [0.5555555555555556, \"#d8576b\"], [0.6666666666666666, \"#ed7953\"], [0.7777777777777778, \"#fb9f3a\"], [0.8888888888888888, \"#fdca26\"], [1.0, \"#f0f921\"]], \"type\": \"histogram2dcontour\"}], \"mesh3d\": [{\"colorbar\": {\"outlinewidth\": 0, \"ticks\": \"\"}, \"type\": \"mesh3d\"}], \"parcoords\": [{\"line\": {\"colorbar\": {\"outlinewidth\": 0, \"ticks\": \"\"}}, \"type\": \"parcoords\"}], \"pie\": [{\"automargin\": true, \"type\": \"pie\"}], \"scatter\": [{\"marker\": {\"line\": {\"color\": \"#283442\"}}, \"type\": \"scatter\"}], \"scatter3d\": [{\"line\": {\"colorbar\": {\"outlinewidth\": 0, \"ticks\": \"\"}}, \"marker\": {\"colorbar\": {\"outlinewidth\": 0, \"ticks\": \"\"}}, \"type\": \"scatter3d\"}], \"scattercarpet\": [{\"marker\": {\"colorbar\": {\"outlinewidth\": 0, \"ticks\": \"\"}}, \"type\": \"scattercarpet\"}], \"scattergeo\": [{\"marker\": {\"colorbar\": {\"outlinewidth\": 0, \"ticks\": \"\"}}, \"type\": \"scattergeo\"}], \"scattergl\": [{\"marker\": {\"line\": {\"color\": \"#283442\"}}, \"type\": \"scattergl\"}], \"scattermapbox\": [{\"marker\": {\"colorbar\": {\"outlinewidth\": 0, \"ticks\": \"\"}}, \"type\": \"scattermapbox\"}], \"scatterpolar\": [{\"marker\": {\"colorbar\": {\"outlinewidth\": 0, \"ticks\": \"\"}}, \"type\": \"scatterpolar\"}], \"scatterpolargl\": [{\"marker\": {\"colorbar\": {\"outlinewidth\": 0, \"ticks\": \"\"}}, \"type\": \"scatterpolargl\"}], \"scatterternary\": [{\"marker\": {\"colorbar\": {\"outlinewidth\": 0, \"ticks\": \"\"}}, \"type\": \"scatterternary\"}], \"surface\": [{\"colorbar\": {\"outlinewidth\": 0, \"ticks\": \"\"}, \"colorscale\": [[0.0, \"#0d0887\"], [0.1111111111111111, \"#46039f\"], [0.2222222222222222, \"#7201a8\"], [0.3333333333333333, \"#9c179e\"], [0.4444444444444444, \"#bd3786\"], [0.5555555555555556, \"#d8576b\"], [0.6666666666666666, \"#ed7953\"], [0.7777777777777778, \"#fb9f3a\"], [0.8888888888888888, \"#fdca26\"], [1.0, \"#f0f921\"]], \"type\": \"surface\"}], \"table\": [{\"cells\": {\"fill\": {\"color\": \"#506784\"}, \"line\": {\"color\": \"rgb(17,17,17)\"}}, \"header\": {\"fill\": {\"color\": \"#2a3f5f\"}, \"line\": {\"color\": \"rgb(17,17,17)\"}}, \"type\": \"table\"}]}, \"layout\": {\"annotationdefaults\": {\"arrowcolor\": \"#f2f5fa\", \"arrowhead\": 0, \"arrowwidth\": 1}, \"coloraxis\": {\"colorbar\": {\"outlinewidth\": 0, \"ticks\": \"\"}}, \"colorscale\": {\"diverging\": [[0, \"#8e0152\"], [0.1, \"#c51b7d\"], [0.2, \"#de77ae\"], [0.3, \"#f1b6da\"], [0.4, \"#fde0ef\"], [0.5, \"#f7f7f7\"], [0.6, \"#e6f5d0\"], [0.7, \"#b8e186\"], [0.8, \"#7fbc41\"], [0.9, \"#4d9221\"], [1, \"#276419\"]], \"sequential\": [[0.0, \"#0d0887\"], [0.1111111111111111, \"#46039f\"], [0.2222222222222222, \"#7201a8\"], [0.3333333333333333, \"#9c179e\"], [0.4444444444444444, \"#bd3786\"], [0.5555555555555556, \"#d8576b\"], [0.6666666666666666, \"#ed7953\"], [0.7777777777777778, \"#fb9f3a\"], [0.8888888888888888, \"#fdca26\"], [1.0, \"#f0f921\"]], \"sequentialminus\": [[0.0, \"#0d0887\"], [0.1111111111111111, \"#46039f\"], [0.2222222222222222, \"#7201a8\"], [0.3333333333333333, \"#9c179e\"], [0.4444444444444444, \"#bd3786\"], [0.5555555555555556, \"#d8576b\"], [0.6666666666666666, \"#ed7953\"], [0.7777777777777778, \"#fb9f3a\"], [0.8888888888888888, \"#fdca26\"], [1.0, \"#f0f921\"]]}, \"colorway\": [\"#636efa\", \"#EF553B\", \"#00cc96\", \"#ab63fa\", \"#FFA15A\", \"#19d3f3\", \"#FF6692\", \"#B6E880\", \"#FF97FF\", \"#FECB52\"], \"font\": {\"color\": \"#f2f5fa\"}, \"geo\": {\"bgcolor\": \"rgb(17,17,17)\", \"lakecolor\": \"rgb(17,17,17)\", \"landcolor\": \"rgb(17,17,17)\", \"showlakes\": true, \"showland\": true, \"subunitcolor\": \"#506784\"}, \"hoverlabel\": {\"align\": \"left\"}, \"hovermode\": \"closest\", \"mapbox\": {\"style\": \"dark\"}, \"paper_bgcolor\": \"rgb(17,17,17)\", \"plot_bgcolor\": \"rgb(17,17,17)\", \"polar\": {\"angularaxis\": {\"gridcolor\": \"#506784\", \"linecolor\": \"#506784\", \"ticks\": \"\"}, \"bgcolor\": \"rgb(17,17,17)\", \"radialaxis\": {\"gridcolor\": \"#506784\", \"linecolor\": \"#506784\", \"ticks\": \"\"}}, \"scene\": {\"xaxis\": {\"backgroundcolor\": \"rgb(17,17,17)\", \"gridcolor\": \"#506784\", \"gridwidth\": 2, \"linecolor\": \"#506784\", \"showbackground\": true, \"ticks\": \"\", \"zerolinecolor\": \"#C8D4E3\"}, \"yaxis\": {\"backgroundcolor\": \"rgb(17,17,17)\", \"gridcolor\": \"#506784\", \"gridwidth\": 2, \"linecolor\": \"#506784\", \"showbackground\": true, \"ticks\": \"\", \"zerolinecolor\": \"#C8D4E3\"}, \"zaxis\": {\"backgroundcolor\": \"rgb(17,17,17)\", \"gridcolor\": \"#506784\", \"gridwidth\": 2, \"linecolor\": \"#506784\", \"showbackground\": true, \"ticks\": \"\", \"zerolinecolor\": \"#C8D4E3\"}}, \"shapedefaults\": {\"line\": {\"color\": \"#f2f5fa\"}}, \"sliderdefaults\": {\"bgcolor\": \"#C8D4E3\", \"bordercolor\": \"rgb(17,17,17)\", \"borderwidth\": 1, \"tickwidth\": 0}, \"ternary\": {\"aaxis\": {\"gridcolor\": \"#506784\", \"linecolor\": \"#506784\", \"ticks\": \"\"}, \"baxis\": {\"gridcolor\": \"#506784\", \"linecolor\": \"#506784\", \"ticks\": \"\"}, \"bgcolor\": \"rgb(17,17,17)\", \"caxis\": {\"gridcolor\": \"#506784\", \"linecolor\": \"#506784\", \"ticks\": \"\"}}, \"title\": {\"x\": 0.05}, \"updatemenudefaults\": {\"bgcolor\": \"#506784\", \"borderwidth\": 0}, \"xaxis\": {\"automargin\": true, \"gridcolor\": \"#283442\", \"linecolor\": \"#506784\", \"ticks\": \"\", \"title\": {\"standoff\": 15}, \"zerolinecolor\": \"#283442\", \"zerolinewidth\": 2}, \"yaxis\": {\"automargin\": true, \"gridcolor\": \"#283442\", \"linecolor\": \"#506784\", \"ticks\": \"\", \"title\": {\"standoff\": 15}, \"zerolinecolor\": \"#283442\", \"zerolinewidth\": 2}}}, \"title\": {\"text\": \"Inside Forward - Support\"}, \"xaxis\": {\"anchor\": \"y\", \"domain\": [0.0, 1.0], \"title\": {\"text\": \"Asts/90\"}}, \"yaxis\": {\"anchor\": \"x\", \"domain\": [0.0, 1.0], \"title\": {\"text\": \"Ch C/90\"}}},\n",
       "                        {\"responsive\": true}\n",
       "                    ).then(function(){\n",
       "                            \n",
       "var gd = document.getElementById('6fa12c5a-d8ba-438e-9ce0-0355e622fc92');\n",
       "var x = new MutationObserver(function (mutations, observer) {{\n",
       "        var display = window.getComputedStyle(gd).display;\n",
       "        if (!display || display === 'none') {{\n",
       "            console.log([gd, 'removed!']);\n",
       "            Plotly.purge(gd);\n",
       "            observer.disconnect();\n",
       "        }}\n",
       "}});\n",
       "\n",
       "// Listen for the removal of the full notebook cells\n",
       "var notebookContainer = gd.closest('#notebook-container');\n",
       "if (notebookContainer) {{\n",
       "    x.observe(notebookContainer, {childList: true});\n",
       "}}\n",
       "\n",
       "// Listen for the clearing of the current output cell\n",
       "var outputEl = gd.closest('.output');\n",
       "if (outputEl) {{\n",
       "    x.observe(outputEl, {childList: true});\n",
       "}}\n",
       "\n",
       "                        })\n",
       "                };\n",
       "                });\n",
       "            </script>\n",
       "        </div>"
      ]
     },
     "metadata": {},
     "output_type": "display_data"
    }
   ],
   "source": [
    "fig = px.scatter(df1, x=\"Asts/90\", y=\"Ch C/90\", text=\"Name\", log_x=False, size_max=60)\n",
    "fig.update_traces(textposition='top center')\n",
    "fig.update_layout(\n",
    "    height=500,\n",
    "   )\n",
    "for template in [\"plotly_dark\"]:\n",
    "    fig.update_layout(template=template, title=\"Inside Forward - Support\")\n",
    "fig.show()\n"
   ]
  },
  {
   "cell_type": "code",
   "execution_count": 21,
   "metadata": {},
   "outputs": [
    {
     "name": "stdout",
     "output_type": "stream",
     "text": [
      "Inside Forward Attack\n"
     ]
    },
    {
     "data": {
      "text/html": [
       "<style  type=\"text/css\" >\n",
       "    #T_e336a1f0_92c6_11ea_9d30_10bf483492darow0_col1 {\n",
       "            background-color:  #f7fbff;\n",
       "            color:  #000000;\n",
       "        }    #T_e336a1f0_92c6_11ea_9d30_10bf483492darow0_col2 {\n",
       "            background-color:  #0b559f;\n",
       "            color:  #f1f1f1;\n",
       "        }    #T_e336a1f0_92c6_11ea_9d30_10bf483492darow0_col3 {\n",
       "            background-color:  #539ecd;\n",
       "            color:  #000000;\n",
       "        }    #T_e336a1f0_92c6_11ea_9d30_10bf483492darow0_col4 {\n",
       "            background-color:  #6aaed6;\n",
       "            color:  #000000;\n",
       "        }    #T_e336a1f0_92c6_11ea_9d30_10bf483492darow0_col5 {\n",
       "            background-color:  #7db8da;\n",
       "            color:  #000000;\n",
       "        }    #T_e336a1f0_92c6_11ea_9d30_10bf483492darow0_col6 {\n",
       "            background-color:  #08306b;\n",
       "            color:  #f1f1f1;\n",
       "        }    #T_e336a1f0_92c6_11ea_9d30_10bf483492darow0_col7 {\n",
       "            background-color:  #6aaed6;\n",
       "            color:  #000000;\n",
       "        }    #T_e336a1f0_92c6_11ea_9d30_10bf483492darow0_col8 {\n",
       "            background-color:  #4a98c9;\n",
       "            color:  #000000;\n",
       "        }    #T_e336a1f0_92c6_11ea_9d30_10bf483492darow0_col9 {\n",
       "            background-color:  #105ba4;\n",
       "            color:  #f1f1f1;\n",
       "        }    #T_e336a1f0_92c6_11ea_9d30_10bf483492darow0_col10 {\n",
       "            background-color:  #08306b;\n",
       "            color:  #f1f1f1;\n",
       "        }    #T_e336a1f0_92c6_11ea_9d30_10bf483492darow1_col1 {\n",
       "            background-color:  #f7fbff;\n",
       "            color:  #000000;\n",
       "        }    #T_e336a1f0_92c6_11ea_9d30_10bf483492darow1_col2 {\n",
       "            background-color:  #2b7bba;\n",
       "            color:  #000000;\n",
       "        }    #T_e336a1f0_92c6_11ea_9d30_10bf483492darow1_col3 {\n",
       "            background-color:  #f7fbff;\n",
       "            color:  #000000;\n",
       "        }    #T_e336a1f0_92c6_11ea_9d30_10bf483492darow1_col4 {\n",
       "            background-color:  #2070b4;\n",
       "            color:  #f1f1f1;\n",
       "        }    #T_e336a1f0_92c6_11ea_9d30_10bf483492darow1_col5 {\n",
       "            background-color:  #135fa7;\n",
       "            color:  #f1f1f1;\n",
       "        }    #T_e336a1f0_92c6_11ea_9d30_10bf483492darow1_col6 {\n",
       "            background-color:  #f7fbff;\n",
       "            color:  #000000;\n",
       "        }    #T_e336a1f0_92c6_11ea_9d30_10bf483492darow1_col7 {\n",
       "            background-color:  #08306b;\n",
       "            color:  #f1f1f1;\n",
       "        }    #T_e336a1f0_92c6_11ea_9d30_10bf483492darow1_col8 {\n",
       "            background-color:  #08306b;\n",
       "            color:  #f1f1f1;\n",
       "        }    #T_e336a1f0_92c6_11ea_9d30_10bf483492darow1_col9 {\n",
       "            background-color:  #3787c0;\n",
       "            color:  #000000;\n",
       "        }    #T_e336a1f0_92c6_11ea_9d30_10bf483492darow1_col10 {\n",
       "            background-color:  #08509b;\n",
       "            color:  #f1f1f1;\n",
       "        }    #T_e336a1f0_92c6_11ea_9d30_10bf483492darow2_col1 {\n",
       "            background-color:  #1764ab;\n",
       "            color:  #f1f1f1;\n",
       "        }    #T_e336a1f0_92c6_11ea_9d30_10bf483492darow2_col2 {\n",
       "            background-color:  #f7fbff;\n",
       "            color:  #000000;\n",
       "        }    #T_e336a1f0_92c6_11ea_9d30_10bf483492darow2_col3 {\n",
       "            background-color:  #bad6eb;\n",
       "            color:  #000000;\n",
       "        }    #T_e336a1f0_92c6_11ea_9d30_10bf483492darow2_col4 {\n",
       "            background-color:  #2070b4;\n",
       "            color:  #f1f1f1;\n",
       "        }    #T_e336a1f0_92c6_11ea_9d30_10bf483492darow2_col5 {\n",
       "            background-color:  #3f8fc5;\n",
       "            color:  #000000;\n",
       "        }    #T_e336a1f0_92c6_11ea_9d30_10bf483492darow2_col6 {\n",
       "            background-color:  #6aaed6;\n",
       "            color:  #000000;\n",
       "        }    #T_e336a1f0_92c6_11ea_9d30_10bf483492darow2_col7 {\n",
       "            background-color:  #2070b4;\n",
       "            color:  #f1f1f1;\n",
       "        }    #T_e336a1f0_92c6_11ea_9d30_10bf483492darow2_col8 {\n",
       "            background-color:  #1764ab;\n",
       "            color:  #f1f1f1;\n",
       "        }    #T_e336a1f0_92c6_11ea_9d30_10bf483492darow2_col9 {\n",
       "            background-color:  #08306b;\n",
       "            color:  #f1f1f1;\n",
       "        }    #T_e336a1f0_92c6_11ea_9d30_10bf483492darow2_col10 {\n",
       "            background-color:  #6aaed6;\n",
       "            color:  #000000;\n",
       "        }    #T_e336a1f0_92c6_11ea_9d30_10bf483492darow3_col1 {\n",
       "            background-color:  #f7fbff;\n",
       "            color:  #000000;\n",
       "        }    #T_e336a1f0_92c6_11ea_9d30_10bf483492darow3_col2 {\n",
       "            background-color:  #539ecd;\n",
       "            color:  #000000;\n",
       "        }    #T_e336a1f0_92c6_11ea_9d30_10bf483492darow3_col3 {\n",
       "            background-color:  #f7fbff;\n",
       "            color:  #000000;\n",
       "        }    #T_e336a1f0_92c6_11ea_9d30_10bf483492darow3_col4 {\n",
       "            background-color:  #c6dbef;\n",
       "            color:  #000000;\n",
       "        }    #T_e336a1f0_92c6_11ea_9d30_10bf483492darow3_col5 {\n",
       "            background-color:  #08306b;\n",
       "            color:  #f1f1f1;\n",
       "        }    #T_e336a1f0_92c6_11ea_9d30_10bf483492darow3_col6 {\n",
       "            background-color:  #6aaed6;\n",
       "            color:  #000000;\n",
       "        }    #T_e336a1f0_92c6_11ea_9d30_10bf483492darow3_col7 {\n",
       "            background-color:  #f7fbff;\n",
       "            color:  #000000;\n",
       "        }    #T_e336a1f0_92c6_11ea_9d30_10bf483492darow3_col8 {\n",
       "            background-color:  #4a98c9;\n",
       "            color:  #000000;\n",
       "        }    #T_e336a1f0_92c6_11ea_9d30_10bf483492darow3_col9 {\n",
       "            background-color:  #08306b;\n",
       "            color:  #f1f1f1;\n",
       "        }    #T_e336a1f0_92c6_11ea_9d30_10bf483492darow3_col10 {\n",
       "            background-color:  #6aaed6;\n",
       "            color:  #000000;\n",
       "        }    #T_e336a1f0_92c6_11ea_9d30_10bf483492darow4_col1 {\n",
       "            background-color:  #d0e1f2;\n",
       "            color:  #000000;\n",
       "        }    #T_e336a1f0_92c6_11ea_9d30_10bf483492darow4_col2 {\n",
       "            background-color:  #2b7bba;\n",
       "            color:  #000000;\n",
       "        }    #T_e336a1f0_92c6_11ea_9d30_10bf483492darow4_col3 {\n",
       "            background-color:  #bad6eb;\n",
       "            color:  #000000;\n",
       "        }    #T_e336a1f0_92c6_11ea_9d30_10bf483492darow4_col4 {\n",
       "            background-color:  #08306b;\n",
       "            color:  #f1f1f1;\n",
       "        }    #T_e336a1f0_92c6_11ea_9d30_10bf483492darow4_col5 {\n",
       "            background-color:  #5ca4d0;\n",
       "            color:  #000000;\n",
       "        }    #T_e336a1f0_92c6_11ea_9d30_10bf483492darow4_col6 {\n",
       "            background-color:  #2070b4;\n",
       "            color:  #f1f1f1;\n",
       "        }    #T_e336a1f0_92c6_11ea_9d30_10bf483492darow4_col7 {\n",
       "            background-color:  #c6dbef;\n",
       "            color:  #000000;\n",
       "        }    #T_e336a1f0_92c6_11ea_9d30_10bf483492darow4_col8 {\n",
       "            background-color:  #94c4df;\n",
       "            color:  #000000;\n",
       "        }    #T_e336a1f0_92c6_11ea_9d30_10bf483492darow4_col9 {\n",
       "            background-color:  #3787c0;\n",
       "            color:  #000000;\n",
       "        }    #T_e336a1f0_92c6_11ea_9d30_10bf483492darow4_col10 {\n",
       "            background-color:  #6aaed6;\n",
       "            color:  #000000;\n",
       "        }    #T_e336a1f0_92c6_11ea_9d30_10bf483492darow5_col1 {\n",
       "            background-color:  #08306b;\n",
       "            color:  #f1f1f1;\n",
       "        }    #T_e336a1f0_92c6_11ea_9d30_10bf483492darow5_col2 {\n",
       "            background-color:  #08306b;\n",
       "            color:  #f1f1f1;\n",
       "        }    #T_e336a1f0_92c6_11ea_9d30_10bf483492darow5_col3 {\n",
       "            background-color:  #f7fbff;\n",
       "            color:  #000000;\n",
       "        }    #T_e336a1f0_92c6_11ea_9d30_10bf483492darow5_col4 {\n",
       "            background-color:  #f7fbff;\n",
       "            color:  #000000;\n",
       "        }    #T_e336a1f0_92c6_11ea_9d30_10bf483492darow5_col5 {\n",
       "            background-color:  #135fa7;\n",
       "            color:  #f1f1f1;\n",
       "        }    #T_e336a1f0_92c6_11ea_9d30_10bf483492darow5_col6 {\n",
       "            background-color:  #6aaed6;\n",
       "            color:  #000000;\n",
       "        }    #T_e336a1f0_92c6_11ea_9d30_10bf483492darow5_col7 {\n",
       "            background-color:  #6aaed6;\n",
       "            color:  #000000;\n",
       "        }    #T_e336a1f0_92c6_11ea_9d30_10bf483492darow5_col8 {\n",
       "            background-color:  #94c4df;\n",
       "            color:  #000000;\n",
       "        }    #T_e336a1f0_92c6_11ea_9d30_10bf483492darow5_col9 {\n",
       "            background-color:  #6aaed6;\n",
       "            color:  #000000;\n",
       "        }    #T_e336a1f0_92c6_11ea_9d30_10bf483492darow5_col10 {\n",
       "            background-color:  #c6dbef;\n",
       "            color:  #000000;\n",
       "        }    #T_e336a1f0_92c6_11ea_9d30_10bf483492darow6_col1 {\n",
       "            background-color:  #94c4df;\n",
       "            color:  #000000;\n",
       "        }    #T_e336a1f0_92c6_11ea_9d30_10bf483492darow6_col2 {\n",
       "            background-color:  #539ecd;\n",
       "            color:  #000000;\n",
       "        }    #T_e336a1f0_92c6_11ea_9d30_10bf483492darow6_col3 {\n",
       "            background-color:  #89bedc;\n",
       "            color:  #000000;\n",
       "        }    #T_e336a1f0_92c6_11ea_9d30_10bf483492darow6_col4 {\n",
       "            background-color:  #c6dbef;\n",
       "            color:  #000000;\n",
       "        }    #T_e336a1f0_92c6_11ea_9d30_10bf483492darow6_col5 {\n",
       "            background-color:  #5ca4d0;\n",
       "            color:  #000000;\n",
       "        }    #T_e336a1f0_92c6_11ea_9d30_10bf483492darow6_col6 {\n",
       "            background-color:  #f7fbff;\n",
       "            color:  #000000;\n",
       "        }    #T_e336a1f0_92c6_11ea_9d30_10bf483492darow6_col7 {\n",
       "            background-color:  #2070b4;\n",
       "            color:  #f1f1f1;\n",
       "        }    #T_e336a1f0_92c6_11ea_9d30_10bf483492darow6_col8 {\n",
       "            background-color:  #94c4df;\n",
       "            color:  #000000;\n",
       "        }    #T_e336a1f0_92c6_11ea_9d30_10bf483492darow6_col9 {\n",
       "            background-color:  #105ba4;\n",
       "            color:  #f1f1f1;\n",
       "        }    #T_e336a1f0_92c6_11ea_9d30_10bf483492darow6_col10 {\n",
       "            background-color:  #deebf7;\n",
       "            color:  #000000;\n",
       "        }    #T_e336a1f0_92c6_11ea_9d30_10bf483492darow7_col1 {\n",
       "            background-color:  #4a98c9;\n",
       "            color:  #000000;\n",
       "        }    #T_e336a1f0_92c6_11ea_9d30_10bf483492darow7_col2 {\n",
       "            background-color:  #539ecd;\n",
       "            color:  #000000;\n",
       "        }    #T_e336a1f0_92c6_11ea_9d30_10bf483492darow7_col3 {\n",
       "            background-color:  #539ecd;\n",
       "            color:  #000000;\n",
       "        }    #T_e336a1f0_92c6_11ea_9d30_10bf483492darow7_col4 {\n",
       "            background-color:  #c6dbef;\n",
       "            color:  #000000;\n",
       "        }    #T_e336a1f0_92c6_11ea_9d30_10bf483492darow7_col5 {\n",
       "            background-color:  #2676b8;\n",
       "            color:  #000000;\n",
       "        }    #T_e336a1f0_92c6_11ea_9d30_10bf483492darow7_col6 {\n",
       "            background-color:  #08306b;\n",
       "            color:  #f1f1f1;\n",
       "        }    #T_e336a1f0_92c6_11ea_9d30_10bf483492darow7_col7 {\n",
       "            background-color:  #6aaed6;\n",
       "            color:  #000000;\n",
       "        }    #T_e336a1f0_92c6_11ea_9d30_10bf483492darow7_col8 {\n",
       "            background-color:  #d0e1f2;\n",
       "            color:  #000000;\n",
       "        }    #T_e336a1f0_92c6_11ea_9d30_10bf483492darow7_col9 {\n",
       "            background-color:  #f7fbff;\n",
       "            color:  #000000;\n",
       "        }    #T_e336a1f0_92c6_11ea_9d30_10bf483492darow7_col10 {\n",
       "            background-color:  #deebf7;\n",
       "            color:  #000000;\n",
       "        }    #T_e336a1f0_92c6_11ea_9d30_10bf483492darow8_col1 {\n",
       "            background-color:  #08306b;\n",
       "            color:  #f1f1f1;\n",
       "        }    #T_e336a1f0_92c6_11ea_9d30_10bf483492darow8_col2 {\n",
       "            background-color:  #89bedc;\n",
       "            color:  #000000;\n",
       "        }    #T_e336a1f0_92c6_11ea_9d30_10bf483492darow8_col3 {\n",
       "            background-color:  #539ecd;\n",
       "            color:  #000000;\n",
       "        }    #T_e336a1f0_92c6_11ea_9d30_10bf483492darow8_col4 {\n",
       "            background-color:  #f7fbff;\n",
       "            color:  #000000;\n",
       "        }    #T_e336a1f0_92c6_11ea_9d30_10bf483492darow8_col5 {\n",
       "            background-color:  #3f8fc5;\n",
       "            color:  #000000;\n",
       "        }    #T_e336a1f0_92c6_11ea_9d30_10bf483492darow8_col6 {\n",
       "            background-color:  #08306b;\n",
       "            color:  #f1f1f1;\n",
       "        }    #T_e336a1f0_92c6_11ea_9d30_10bf483492darow8_col7 {\n",
       "            background-color:  #f7fbff;\n",
       "            color:  #000000;\n",
       "        }    #T_e336a1f0_92c6_11ea_9d30_10bf483492darow8_col8 {\n",
       "            background-color:  #f7fbff;\n",
       "            color:  #000000;\n",
       "        }    #T_e336a1f0_92c6_11ea_9d30_10bf483492darow8_col9 {\n",
       "            background-color:  #105ba4;\n",
       "            color:  #f1f1f1;\n",
       "        }    #T_e336a1f0_92c6_11ea_9d30_10bf483492darow8_col10 {\n",
       "            background-color:  #f7fbff;\n",
       "            color:  #000000;\n",
       "        }    #T_e336a1f0_92c6_11ea_9d30_10bf483492darow9_col1 {\n",
       "            background-color:  #d0e1f2;\n",
       "            color:  #000000;\n",
       "        }    #T_e336a1f0_92c6_11ea_9d30_10bf483492darow9_col2 {\n",
       "            background-color:  #539ecd;\n",
       "            color:  #000000;\n",
       "        }    #T_e336a1f0_92c6_11ea_9d30_10bf483492darow9_col3 {\n",
       "            background-color:  #08306b;\n",
       "            color:  #f1f1f1;\n",
       "        }    #T_e336a1f0_92c6_11ea_9d30_10bf483492darow9_col4 {\n",
       "            background-color:  #f7fbff;\n",
       "            color:  #000000;\n",
       "        }    #T_e336a1f0_92c6_11ea_9d30_10bf483492darow9_col5 {\n",
       "            background-color:  #f7fbff;\n",
       "            color:  #000000;\n",
       "        }    #T_e336a1f0_92c6_11ea_9d30_10bf483492darow9_col6 {\n",
       "            background-color:  #f7fbff;\n",
       "            color:  #000000;\n",
       "        }    #T_e336a1f0_92c6_11ea_9d30_10bf483492darow9_col7 {\n",
       "            background-color:  #08306b;\n",
       "            color:  #f1f1f1;\n",
       "        }    #T_e336a1f0_92c6_11ea_9d30_10bf483492darow9_col8 {\n",
       "            background-color:  #4a98c9;\n",
       "            color:  #000000;\n",
       "        }    #T_e336a1f0_92c6_11ea_9d30_10bf483492darow9_col9 {\n",
       "            background-color:  #105ba4;\n",
       "            color:  #f1f1f1;\n",
       "        }    #T_e336a1f0_92c6_11ea_9d30_10bf483492darow9_col10 {\n",
       "            background-color:  #f7fbff;\n",
       "            color:  #000000;\n",
       "        }</style><table id=\"T_e336a1f0_92c6_11ea_9d30_10bf483492da\" ><thead>    <tr>        <th class=\"col_heading level0 col0\" >Name</th>        <th class=\"col_heading level0 col1\" >Age</th>        <th class=\"col_heading level0 col2\" >Dri</th>        <th class=\"col_heading level0 col3\" >Fin</th>        <th class=\"col_heading level0 col4\" >Fir</th>        <th class=\"col_heading level0 col5\" >Tec</th>        <th class=\"col_heading level0 col6\" >OtB</th>        <th class=\"col_heading level0 col7\" >Acc</th>        <th class=\"col_heading level0 col8\" >Agi</th>        <th class=\"col_heading level0 col9\" >Bal</th>        <th class=\"col_heading level0 col10\" >ifa_score</th>    </tr></thead><tbody>\n",
       "                <tr>\n",
       "                                <td id=\"T_e336a1f0_92c6_11ea_9d30_10bf483492darow0_col0\" class=\"data row0 col0\" >Milan Mugosa</td>\n",
       "                        <td id=\"T_e336a1f0_92c6_11ea_9d30_10bf483492darow0_col1\" class=\"data row0 col1\" >                  18</td>\n",
       "                        <td id=\"T_e336a1f0_92c6_11ea_9d30_10bf483492darow0_col2\" class=\"data row0 col2\" >14</td>\n",
       "                        <td id=\"T_e336a1f0_92c6_11ea_9d30_10bf483492darow0_col3\" class=\"data row0 col3\" >12</td>\n",
       "                        <td id=\"T_e336a1f0_92c6_11ea_9d30_10bf483492darow0_col4\" class=\"data row0 col4\" >14</td>\n",
       "                        <td id=\"T_e336a1f0_92c6_11ea_9d30_10bf483492darow0_col5\" class=\"data row0 col5\" >11</td>\n",
       "                        <td id=\"T_e336a1f0_92c6_11ea_9d30_10bf483492darow0_col6\" class=\"data row0 col6\" >14</td>\n",
       "                        <td id=\"T_e336a1f0_92c6_11ea_9d30_10bf483492darow0_col7\" class=\"data row0 col7\" >13</td>\n",
       "                        <td id=\"T_e336a1f0_92c6_11ea_9d30_10bf483492darow0_col8\" class=\"data row0 col8\" >15</td>\n",
       "                        <td id=\"T_e336a1f0_92c6_11ea_9d30_10bf483492darow0_col9\" class=\"data row0 col9\" >13</td>\n",
       "                        <td id=\"T_e336a1f0_92c6_11ea_9d30_10bf483492darow0_col10\" class=\"data row0 col10\" >106</td>\n",
       "            </tr>\n",
       "            <tr>\n",
       "                                <td id=\"T_e336a1f0_92c6_11ea_9d30_10bf483492darow1_col0\" class=\"data row1 col0\" >Filipe Cerqueira</td>\n",
       "                        <td id=\"T_e336a1f0_92c6_11ea_9d30_10bf483492darow1_col1\" class=\"data row1 col1\" >                  18</td>\n",
       "                        <td id=\"T_e336a1f0_92c6_11ea_9d30_10bf483492darow1_col2\" class=\"data row1 col2\" >13</td>\n",
       "                        <td id=\"T_e336a1f0_92c6_11ea_9d30_10bf483492darow1_col3\" class=\"data row1 col3\" >8</td>\n",
       "                        <td id=\"T_e336a1f0_92c6_11ea_9d30_10bf483492darow1_col4\" class=\"data row1 col4\" >15</td>\n",
       "                        <td id=\"T_e336a1f0_92c6_11ea_9d30_10bf483492darow1_col5\" class=\"data row1 col5\" >15</td>\n",
       "                        <td id=\"T_e336a1f0_92c6_11ea_9d30_10bf483492darow1_col6\" class=\"data row1 col6\" >10</td>\n",
       "                        <td id=\"T_e336a1f0_92c6_11ea_9d30_10bf483492darow1_col7\" class=\"data row1 col7\" >15</td>\n",
       "                        <td id=\"T_e336a1f0_92c6_11ea_9d30_10bf483492darow1_col8\" class=\"data row1 col8\" >17</td>\n",
       "                        <td id=\"T_e336a1f0_92c6_11ea_9d30_10bf483492darow1_col9\" class=\"data row1 col9\" >12</td>\n",
       "                        <td id=\"T_e336a1f0_92c6_11ea_9d30_10bf483492darow1_col10\" class=\"data row1 col10\" >105</td>\n",
       "            </tr>\n",
       "            <tr>\n",
       "                                <td id=\"T_e336a1f0_92c6_11ea_9d30_10bf483492darow2_col0\" class=\"data row2 col0\" >Virgiliu Postolachi</td>\n",
       "                        <td id=\"T_e336a1f0_92c6_11ea_9d30_10bf483492darow2_col1\" class=\"data row2 col1\" >                  22</td>\n",
       "                        <td id=\"T_e336a1f0_92c6_11ea_9d30_10bf483492darow2_col2\" class=\"data row2 col2\" >8</td>\n",
       "                        <td id=\"T_e336a1f0_92c6_11ea_9d30_10bf483492darow2_col3\" class=\"data row2 col3\" >10</td>\n",
       "                        <td id=\"T_e336a1f0_92c6_11ea_9d30_10bf483492darow2_col4\" class=\"data row2 col4\" >15</td>\n",
       "                        <td id=\"T_e336a1f0_92c6_11ea_9d30_10bf483492darow2_col5\" class=\"data row2 col5\" >13</td>\n",
       "                        <td id=\"T_e336a1f0_92c6_11ea_9d30_10bf483492darow2_col6\" class=\"data row2 col6\" >12</td>\n",
       "                        <td id=\"T_e336a1f0_92c6_11ea_9d30_10bf483492darow2_col7\" class=\"data row2 col7\" >14</td>\n",
       "                        <td id=\"T_e336a1f0_92c6_11ea_9d30_10bf483492darow2_col8\" class=\"data row2 col8\" >16</td>\n",
       "                        <td id=\"T_e336a1f0_92c6_11ea_9d30_10bf483492darow2_col9\" class=\"data row2 col9\" >14</td>\n",
       "                        <td id=\"T_e336a1f0_92c6_11ea_9d30_10bf483492darow2_col10\" class=\"data row2 col10\" >102</td>\n",
       "            </tr>\n",
       "            <tr>\n",
       "                                <td id=\"T_e336a1f0_92c6_11ea_9d30_10bf483492darow3_col0\" class=\"data row3 col0\" >Pawel Muzylowski</td>\n",
       "                        <td id=\"T_e336a1f0_92c6_11ea_9d30_10bf483492darow3_col1\" class=\"data row3 col1\" >                  18</td>\n",
       "                        <td id=\"T_e336a1f0_92c6_11ea_9d30_10bf483492darow3_col2\" class=\"data row3 col2\" >12</td>\n",
       "                        <td id=\"T_e336a1f0_92c6_11ea_9d30_10bf483492darow3_col3\" class=\"data row3 col3\" >8</td>\n",
       "                        <td id=\"T_e336a1f0_92c6_11ea_9d30_10bf483492darow3_col4\" class=\"data row3 col4\" >13</td>\n",
       "                        <td id=\"T_e336a1f0_92c6_11ea_9d30_10bf483492darow3_col5\" class=\"data row3 col5\" >17</td>\n",
       "                        <td id=\"T_e336a1f0_92c6_11ea_9d30_10bf483492darow3_col6\" class=\"data row3 col6\" >12</td>\n",
       "                        <td id=\"T_e336a1f0_92c6_11ea_9d30_10bf483492darow3_col7\" class=\"data row3 col7\" >11</td>\n",
       "                        <td id=\"T_e336a1f0_92c6_11ea_9d30_10bf483492darow3_col8\" class=\"data row3 col8\" >15</td>\n",
       "                        <td id=\"T_e336a1f0_92c6_11ea_9d30_10bf483492darow3_col9\" class=\"data row3 col9\" >14</td>\n",
       "                        <td id=\"T_e336a1f0_92c6_11ea_9d30_10bf483492darow3_col10\" class=\"data row3 col10\" >102</td>\n",
       "            </tr>\n",
       "            <tr>\n",
       "                                <td id=\"T_e336a1f0_92c6_11ea_9d30_10bf483492darow4_col0\" class=\"data row4 col0\" >Adrian Å¢apu</td>\n",
       "                        <td id=\"T_e336a1f0_92c6_11ea_9d30_10bf483492darow4_col1\" class=\"data row4 col1\" >                  19</td>\n",
       "                        <td id=\"T_e336a1f0_92c6_11ea_9d30_10bf483492darow4_col2\" class=\"data row4 col2\" >13</td>\n",
       "                        <td id=\"T_e336a1f0_92c6_11ea_9d30_10bf483492darow4_col3\" class=\"data row4 col3\" >10</td>\n",
       "                        <td id=\"T_e336a1f0_92c6_11ea_9d30_10bf483492darow4_col4\" class=\"data row4 col4\" >16</td>\n",
       "                        <td id=\"T_e336a1f0_92c6_11ea_9d30_10bf483492darow4_col5\" class=\"data row4 col5\" >12</td>\n",
       "                        <td id=\"T_e336a1f0_92c6_11ea_9d30_10bf483492darow4_col6\" class=\"data row4 col6\" >13</td>\n",
       "                        <td id=\"T_e336a1f0_92c6_11ea_9d30_10bf483492darow4_col7\" class=\"data row4 col7\" >12</td>\n",
       "                        <td id=\"T_e336a1f0_92c6_11ea_9d30_10bf483492darow4_col8\" class=\"data row4 col8\" >14</td>\n",
       "                        <td id=\"T_e336a1f0_92c6_11ea_9d30_10bf483492darow4_col9\" class=\"data row4 col9\" >12</td>\n",
       "                        <td id=\"T_e336a1f0_92c6_11ea_9d30_10bf483492darow4_col10\" class=\"data row4 col10\" >102</td>\n",
       "            </tr>\n",
       "            <tr>\n",
       "                                <td id=\"T_e336a1f0_92c6_11ea_9d30_10bf483492darow5_col0\" class=\"data row5 col0\" >JesÃºs Vargas</td>\n",
       "                        <td id=\"T_e336a1f0_92c6_11ea_9d30_10bf483492darow5_col1\" class=\"data row5 col1\" >                  23</td>\n",
       "                        <td id=\"T_e336a1f0_92c6_11ea_9d30_10bf483492darow5_col2\" class=\"data row5 col2\" >15</td>\n",
       "                        <td id=\"T_e336a1f0_92c6_11ea_9d30_10bf483492darow5_col3\" class=\"data row5 col3\" >8</td>\n",
       "                        <td id=\"T_e336a1f0_92c6_11ea_9d30_10bf483492darow5_col4\" class=\"data row5 col4\" >12</td>\n",
       "                        <td id=\"T_e336a1f0_92c6_11ea_9d30_10bf483492darow5_col5\" class=\"data row5 col5\" >15</td>\n",
       "                        <td id=\"T_e336a1f0_92c6_11ea_9d30_10bf483492darow5_col6\" class=\"data row5 col6\" >12</td>\n",
       "                        <td id=\"T_e336a1f0_92c6_11ea_9d30_10bf483492darow5_col7\" class=\"data row5 col7\" >13</td>\n",
       "                        <td id=\"T_e336a1f0_92c6_11ea_9d30_10bf483492darow5_col8\" class=\"data row5 col8\" >14</td>\n",
       "                        <td id=\"T_e336a1f0_92c6_11ea_9d30_10bf483492darow5_col9\" class=\"data row5 col9\" >11</td>\n",
       "                        <td id=\"T_e336a1f0_92c6_11ea_9d30_10bf483492darow5_col10\" class=\"data row5 col10\" >100</td>\n",
       "            </tr>\n",
       "            <tr>\n",
       "                                <td id=\"T_e336a1f0_92c6_11ea_9d30_10bf483492darow6_col0\" class=\"data row6 col0\" >Fran Tomek</td>\n",
       "                        <td id=\"T_e336a1f0_92c6_11ea_9d30_10bf483492darow6_col1\" class=\"data row6 col1\" >                  20</td>\n",
       "                        <td id=\"T_e336a1f0_92c6_11ea_9d30_10bf483492darow6_col2\" class=\"data row6 col2\" >12</td>\n",
       "                        <td id=\"T_e336a1f0_92c6_11ea_9d30_10bf483492darow6_col3\" class=\"data row6 col3\" >11</td>\n",
       "                        <td id=\"T_e336a1f0_92c6_11ea_9d30_10bf483492darow6_col4\" class=\"data row6 col4\" >13</td>\n",
       "                        <td id=\"T_e336a1f0_92c6_11ea_9d30_10bf483492darow6_col5\" class=\"data row6 col5\" >12</td>\n",
       "                        <td id=\"T_e336a1f0_92c6_11ea_9d30_10bf483492darow6_col6\" class=\"data row6 col6\" >10</td>\n",
       "                        <td id=\"T_e336a1f0_92c6_11ea_9d30_10bf483492darow6_col7\" class=\"data row6 col7\" >14</td>\n",
       "                        <td id=\"T_e336a1f0_92c6_11ea_9d30_10bf483492darow6_col8\" class=\"data row6 col8\" >14</td>\n",
       "                        <td id=\"T_e336a1f0_92c6_11ea_9d30_10bf483492darow6_col9\" class=\"data row6 col9\" >13</td>\n",
       "                        <td id=\"T_e336a1f0_92c6_11ea_9d30_10bf483492darow6_col10\" class=\"data row6 col10\" >99</td>\n",
       "            </tr>\n",
       "            <tr>\n",
       "                                <td id=\"T_e336a1f0_92c6_11ea_9d30_10bf483492darow7_col0\" class=\"data row7 col0\" >Mihael Kupresak</td>\n",
       "                        <td id=\"T_e336a1f0_92c6_11ea_9d30_10bf483492darow7_col1\" class=\"data row7 col1\" >                  21</td>\n",
       "                        <td id=\"T_e336a1f0_92c6_11ea_9d30_10bf483492darow7_col2\" class=\"data row7 col2\" >12</td>\n",
       "                        <td id=\"T_e336a1f0_92c6_11ea_9d30_10bf483492darow7_col3\" class=\"data row7 col3\" >12</td>\n",
       "                        <td id=\"T_e336a1f0_92c6_11ea_9d30_10bf483492darow7_col4\" class=\"data row7 col4\" >13</td>\n",
       "                        <td id=\"T_e336a1f0_92c6_11ea_9d30_10bf483492darow7_col5\" class=\"data row7 col5\" >14</td>\n",
       "                        <td id=\"T_e336a1f0_92c6_11ea_9d30_10bf483492darow7_col6\" class=\"data row7 col6\" >14</td>\n",
       "                        <td id=\"T_e336a1f0_92c6_11ea_9d30_10bf483492darow7_col7\" class=\"data row7 col7\" >13</td>\n",
       "                        <td id=\"T_e336a1f0_92c6_11ea_9d30_10bf483492darow7_col8\" class=\"data row7 col8\" >13</td>\n",
       "                        <td id=\"T_e336a1f0_92c6_11ea_9d30_10bf483492darow7_col9\" class=\"data row7 col9\" >8</td>\n",
       "                        <td id=\"T_e336a1f0_92c6_11ea_9d30_10bf483492darow7_col10\" class=\"data row7 col10\" >99</td>\n",
       "            </tr>\n",
       "            <tr>\n",
       "                                <td id=\"T_e336a1f0_92c6_11ea_9d30_10bf483492darow8_col0\" class=\"data row8 col0\" >Djordje Jovanovic</td>\n",
       "                        <td id=\"T_e336a1f0_92c6_11ea_9d30_10bf483492darow8_col1\" class=\"data row8 col1\" >                  23</td>\n",
       "                        <td id=\"T_e336a1f0_92c6_11ea_9d30_10bf483492darow8_col2\" class=\"data row8 col2\" >11</td>\n",
       "                        <td id=\"T_e336a1f0_92c6_11ea_9d30_10bf483492darow8_col3\" class=\"data row8 col3\" >12</td>\n",
       "                        <td id=\"T_e336a1f0_92c6_11ea_9d30_10bf483492darow8_col4\" class=\"data row8 col4\" >12</td>\n",
       "                        <td id=\"T_e336a1f0_92c6_11ea_9d30_10bf483492darow8_col5\" class=\"data row8 col5\" >13</td>\n",
       "                        <td id=\"T_e336a1f0_92c6_11ea_9d30_10bf483492darow8_col6\" class=\"data row8 col6\" >14</td>\n",
       "                        <td id=\"T_e336a1f0_92c6_11ea_9d30_10bf483492darow8_col7\" class=\"data row8 col7\" >11</td>\n",
       "                        <td id=\"T_e336a1f0_92c6_11ea_9d30_10bf483492darow8_col8\" class=\"data row8 col8\" >12</td>\n",
       "                        <td id=\"T_e336a1f0_92c6_11ea_9d30_10bf483492darow8_col9\" class=\"data row8 col9\" >13</td>\n",
       "                        <td id=\"T_e336a1f0_92c6_11ea_9d30_10bf483492darow8_col10\" class=\"data row8 col10\" >98</td>\n",
       "            </tr>\n",
       "            <tr>\n",
       "                                <td id=\"T_e336a1f0_92c6_11ea_9d30_10bf483492darow9_col0\" class=\"data row9 col0\" >Duje Skugor</td>\n",
       "                        <td id=\"T_e336a1f0_92c6_11ea_9d30_10bf483492darow9_col1\" class=\"data row9 col1\" >                  19</td>\n",
       "                        <td id=\"T_e336a1f0_92c6_11ea_9d30_10bf483492darow9_col2\" class=\"data row9 col2\" >12</td>\n",
       "                        <td id=\"T_e336a1f0_92c6_11ea_9d30_10bf483492darow9_col3\" class=\"data row9 col3\" >15</td>\n",
       "                        <td id=\"T_e336a1f0_92c6_11ea_9d30_10bf483492darow9_col4\" class=\"data row9 col4\" >12</td>\n",
       "                        <td id=\"T_e336a1f0_92c6_11ea_9d30_10bf483492darow9_col5\" class=\"data row9 col5\" >6</td>\n",
       "                        <td id=\"T_e336a1f0_92c6_11ea_9d30_10bf483492darow9_col6\" class=\"data row9 col6\" >10</td>\n",
       "                        <td id=\"T_e336a1f0_92c6_11ea_9d30_10bf483492darow9_col7\" class=\"data row9 col7\" >15</td>\n",
       "                        <td id=\"T_e336a1f0_92c6_11ea_9d30_10bf483492darow9_col8\" class=\"data row9 col8\" >15</td>\n",
       "                        <td id=\"T_e336a1f0_92c6_11ea_9d30_10bf483492darow9_col9\" class=\"data row9 col9\" >13</td>\n",
       "                        <td id=\"T_e336a1f0_92c6_11ea_9d30_10bf483492darow9_col10\" class=\"data row9 col10\" >98</td>\n",
       "            </tr>\n",
       "    </tbody></table>"
      ],
      "text/plain": [
       "<pandas.io.formats.style.Styler at 0xd1fe5b0>"
      ]
     },
     "execution_count": 21,
     "metadata": {},
     "output_type": "execute_result"
    }
   ],
   "source": [
    "print(\"Inside Forward Attack\")\n",
    "sorted_ifa = ifa.sort_values(by='ifa_score', ascending=False)\n",
    "sorted_ifa.head(10).style.format({\"Age\": \"{:20,.0f}\", \n",
    "                          })\\\n",
    "                       .hide_index()\\\n",
    "                       .background_gradient(cmap='Blues')"
   ]
  },
  {
   "cell_type": "code",
   "execution_count": 22,
   "metadata": {},
   "outputs": [
    {
     "data": {
      "application/vnd.plotly.v1+json": {
       "config": {
        "plotlyServerURL": "https://plot.ly"
       },
       "data": [
        {
         "hovertemplate": "Gls/90=%{x}<br>Ch C/90=%{y}<br>Name=%{text}<extra></extra>",
         "legendgroup": "",
         "marker": {
          "color": "#636efa",
          "symbol": "circle"
         },
         "mode": "markers+text",
         "name": "",
         "showlegend": false,
         "text": [
          "Djibril DiakitÃ©",
          "JoÃ£o Tavares",
          "Matej Hudecek",
          "Adrian Rybak",
          "Oskar Repka",
          "Maciej Obodecki",
          "Ivo Kralj",
          "Bartosz Sobczyk",
          "Ivan Tomac",
          "Nikola Bogdanovski",
          "Stefan Velickovic",
          "Andrija Zakoc",
          "AurÃ©lien Nguiamba",
          "Flynn Downes",
          "Nikola Puzic",
          "Andjelo Kacavenda",
          "Tymoteusz Puchacz",
          "Felix Brunmayr",
          "Lennart Grill",
          "Josip Rakic",
          "Stefan Randjelovic",
          "Radoslaw Dzierbicki",
          "Alexandar Ubavic",
          "Veljko Jovkovic",
          "Mariano GÃ³mez",
          "David Bumberger",
          "Enrico Huss",
          "Mateo Jaksic",
          "Konrad Jozwicki",
          "Nikita Marusenko",
          "Djordje Jovanovic",
          "Filip Lisnic",
          "Dawid Szalas",
          "Vladimir Ilic",
          "Marcin Mackowiak",
          "Florin Codrean",
          "David Otto",
          "Stefan Golubovic",
          "Keanan Bennetts",
          "Andrej Vukas",
          "Jannik Tepe",
          "Mladen Devetak",
          "Tom Baack",
          "Jan Sobocinski",
          "TomÃ¡s Blanco",
          "Sinan Karweina",
          "Ben Williams",
          "Arkadiusz Zajaczkowski",
          "Miguel Reisinho",
          "Filp Ceko",
          "Michel StÃ¶cker",
          "JÃ©rÃ´me Deom",
          "Ranko Jokic",
          "Palko DÃ¡rdai",
          "Aleksander Tomasz",
          "Alex Vigo",
          "Daniel Bielica",
          "Marko Djira",
          "Norbert Walczak",
          "Boris Moltenis",
          "Julius Kade",
          "Goran Buljandric",
          "Jannis KÃ¼bler",
          "Aleksa Jovanovic",
          "Tomasz Owczarek",
          "David Wittkowski",
          "Konrad Zaklika",
          "Pawel Karbowinski",
          "Nicky Werner",
          "Julijan Popovic",
          "Nassim Boujellab",
          "Bartlomiej Gajda",
          "Nemanja Matijevic",
          "Marko Denic",
          "Robert Baar",
          "Tuta",
          "Dusan Jokovic",
          "Tomasz Dzida",
          "Aleksa Pejic",
          "Krsta Bojic",
          "Sikou NiakatÃ©",
          "Tomasz Makowski",
          "Sebastian Gwozdz",
          "Adrian Polanski",
          "Bryan Mbeumo",
          "Dorin Sirbu",
          "Elvis Novalic",
          "MickaÃ«l Cuisance",
          "Mateusz Madzia",
          "JesÃºs Vargas",
          "Marino Jedvaj",
          "Raphael Assibey-Mensah",
          "Lukasz Sztylka",
          "Zoran Zrnzevic",
          "Alex Krawiec",
          "Petar Melezovic",
          "Tomasz Kurek",
          "Danko Radic",
          "Paul Mensah",
          "Jordan Williams",
          "Mario Mustapic",
          "Nikola Trickovic",
          "Patrik Delic",
          "Maciej Famulak",
          "Wiktor Nahrebecki",
          "Barne Poggenberg",
          "Mirza Jasarevic",
          "Ratko Minic",
          "Semih Åahin",
          "Matej Santek",
          "Georgios Siadas",
          "Tyrese Campbell",
          "Martin Krizmanic",
          "Kacper Laskos",
          "Aleksa Milojevic",
          "Cheick DoucourÃ©",
          "Ivan Jakovljev",
          "Przemyslaw Zdybowicz",
          "Sven Botman",
          "Malik Karaahmet",
          "Lukas KrÃ¼ger",
          "Niclas Stierlin",
          "Mane Markovic",
          "Karol Czubak",
          "Ilija Dejanovic",
          "Pascal Hackethal",
          "Oleg Gorin",
          "Michal Zieba",
          "Miodrag Maljkovic",
          "Jakov Blagaic",
          "Harisson Marcelin",
          "Vice Bazdaric",
          "Daniel Liszka",
          "Jan Sieracki",
          "Jhonny Lucas",
          "Tymoteusz Klups",
          "Josip Sutalo",
          "Othman Boussaid",
          "Evert Linthorst",
          "Jusuf Gazibegovic",
          "Virgiliu Postolachi",
          "Luis GÃ¶rlich",
          "Andrej Ilic",
          "Daniel Haritonov",
          "Patryk Drabik",
          "Tom Dobek-Pietrowski",
          "Michal Mydlarz",
          "Cho Jeong-Hui",
          "Mohamed Loua",
          "Nemanja Zikic",
          "Emir Sejdovic",
          "Samuel Lengle",
          "Mateusz Duchowski",
          "Iliya Gruev",
          "Bartosz Borun",
          "Juraj Ljubic",
          "GonÃ§alo Rebelo",
          "Dominik Resetar",
          "Jurica Prsir",
          "Piotr Wujec",
          "Jan Majsterek",
          "Mitchel Bakker",
          "Kamil Piatkowski",
          "Michal Ozga",
          "Karol Turek",
          "Toni Karimovic",
          "Billy Crellin",
          "Konrad Sieracki",
          "Vando Luis",
          "Jan Los",
          "Jessic Ngankam",
          "Adam Borkowski",
          "Julian Rieckmann",
          "Luka Pavlak",
          "Robert Ion",
          "Linus RosenlÃ¶cher",
          "Eugen Telch",
          "Nicholas Wunsch",
          "Dawid Kisly",
          "Uros Miloradovic",
          "Alois Oroz",
          "Luca Bazzoli",
          "Ronan Darcy",
          "Yann-Aurel Bisseck",
          "Timo Bornemann",
          "Radivoj Bosic",
          "Jakov Katusa",
          "Kacper Jozefiak",
          "Szymon Mroczko",
          "Karol Struski",
          "Wojciech Kaminski",
          "Piotr Lisowski",
          "Daishawn Redan",
          "Kacper Smolinski",
          "Lukas SchÃ¶fl",
          "Mikolaj Labojko",
          "Jakub Karbownik",
          "Damir Magdic",
          "Karol Malec",
          "Patryk Wozniak",
          "Can Bozdogan",
          "Aleksander Paluszek",
          "Mario Cuic",
          "Dragoljub Savic",
          "Nathan Collins",
          "Dominik Pila",
          "Mihael Kupresak",
          "Manu KonÃ©",
          "Niels Hahn",
          "Tin Hrvoj",
          "Lucas Da Cunha",
          "Rahim Ibrahim",
          "Renato Josipovic",
          "Han-Noah Massengo",
          "Kacper Wiatrak",
          "Bartosz Kuzniarski",
          "Adrian Petk",
          "Fabian Tauchhammer",
          "Bartlomiej Mruk",
          "Jakub Rudek",
          "Jakub Swiecinski",
          "Jakub Nowakowski",
          "Kamil Dabrowski",
          "Yuri Sprandel Flores",
          "Stefan Radmanovac",
          "Kamal Bafounta",
          "Filip Marchwinski",
          "Kamil Lukoszek",
          "Jakub Niewiadomski",
          "Dominik Kedzior",
          "Joe Gelhardt",
          "Filip Sobiecki",
          "Fran Tomek",
          "Hubert Wasiewski",
          "Djordje Vasic",
          "Jakub Zima",
          "Damian Makuch",
          "Andrzej Kloda",
          "Stipe Biuk",
          "Mateusz Pienczak",
          "FIlip Brekalo",
          "Stefan Despotovski",
          "Jakub Kisiel",
          "Duje Skugor",
          "Martin Baturina",
          "Radoslaw Cielemecki",
          "Ariel Mosor",
          "Nikola Petkovic",
          "Nikodem Sujecki",
          "Ivan Mandic",
          "Stanislaw Loch",
          "Dario Grgic",
          "Wojciech Szybka",
          "Kacper Szmidt",
          "Vukasin Krstic",
          "Obrendo Doesburg",
          "Casper Elderman",
          "Predrag Jovic",
          "Daniel Hoyo-Kowalski",
          "Darijo Basic",
          "Wiktor Mosur",
          "Uros Mirkovic",
          "Marcos RodrÃ­guez",
          "Adrian Å¢apu",
          "Paul Mari",
          "Pawel Muzylowski",
          "Dragan Radovic",
          "Szymon Kobeszko",
          "Marcin Dabrowski",
          "Jorge Delgado",
          "Daniel Piesio",
          null
         ],
         "textposition": "top center",
         "type": "scatter",
         "x": [
          "0.07",
          "0.14",
          "0.17",
          "0.06",
          "-",
          "0.17",
          "-",
          "0.08",
          "-",
          "0.24",
          "-",
          "-",
          "-",
          "-",
          "0.07",
          "0.05",
          "0.38",
          "-",
          "-",
          "0.08",
          "-",
          "-",
          "0.13",
          "0.23",
          "0.11",
          "-",
          "-",
          "0.07",
          "-",
          "0.06",
          "0.54",
          "0.06",
          "0.05",
          "0.10",
          "0.06",
          "-",
          "0.62",
          "-",
          "-",
          "0.10",
          "0.32",
          "-",
          "-",
          "-",
          "0.23",
          "0.32",
          "-",
          "0.16",
          "-",
          "0.06",
          "-",
          "0.14",
          "-",
          "0.28",
          "0.06",
          "0.11",
          "-",
          "-",
          "0.14",
          "-",
          "0.12",
          "-",
          "0.13",
          "0.05",
          "-",
          "0.05",
          "-",
          "-",
          "0.15",
          "-",
          "0.23",
          "0.11",
          "0.33",
          "0.05",
          "-",
          "-",
          "0.06",
          "0.17",
          "-",
          "0.24",
          "-",
          "0.07",
          "0.13",
          "0.24",
          "0.30",
          "-",
          "0.05",
          "0.12",
          "-",
          "0.22",
          "-",
          "0.09",
          "-",
          "0.13",
          "0.23",
          "0.05",
          "0.61",
          "0.15",
          "0.45",
          "-",
          "-",
          "-",
          "-",
          "0.08",
          "0.07",
          "0.05",
          "0.18",
          "0.16",
          "0.19",
          "0.07",
          "-",
          "0.33",
          "-",
          "-",
          "-",
          "0.11",
          "0.09",
          "0.39",
          "-",
          "0.79",
          "0.06",
          "-",
          "-",
          "0.49",
          "0.09",
          "-",
          "0.18",
          "0.24",
          "0.55",
          "0.31",
          "0.06",
          "-",
          "0.06",
          "0.08",
          "0.15",
          "0.22",
          "-",
          "0.07",
          "0.21",
          "-",
          "0.07",
          "0.05",
          "0.22",
          "-",
          "0.37",
          "0.07",
          "0.22",
          "-",
          "-",
          "0.04",
          "0.04",
          "0.20",
          "0.44",
          "-",
          "-",
          "0.16",
          "0.04",
          "0.64",
          "0.18",
          "0.06",
          "0.17",
          "-",
          "-",
          "0.09",
          "-",
          "0.26",
          "-",
          "-",
          "-",
          "0.45",
          "0.13",
          "0.08",
          "-",
          "0.19",
          "0.18",
          "-",
          "-",
          "-",
          "-",
          "0.08",
          "0.12",
          "0.10",
          "0.23",
          "-",
          "0.69",
          "-",
          "0.06",
          "-",
          "-",
          "0.07",
          "0.05",
          "-",
          "0.64",
          "-",
          "0.06",
          "0.14",
          "-",
          "0.08",
          "0.05",
          "0.16",
          "-",
          "0.08",
          "-",
          "0.14",
          "-",
          "0.09",
          "0.42",
          "0.12",
          "0.06",
          "0.08",
          "0.06",
          "0.03",
          "-",
          "0.08",
          "-",
          "0.62",
          "0.17",
          "-",
          "-",
          "0.17",
          "-",
          "0.05",
          "0.07",
          "-",
          "0.16",
          "-",
          "0.18",
          "0.31",
          "0.07",
          "0.17",
          "0.44",
          "0.15",
          "0.13",
          "-",
          "-",
          "0.08",
          "0.07",
          "-",
          "0.19",
          "-",
          "-",
          "0.10",
          "0.08",
          "0.38",
          "-",
          "0.06",
          "-",
          "0.22",
          "-",
          "-",
          "0.41",
          "0.06",
          "0.08",
          "0.07",
          "0.14",
          "0.09",
          "-",
          "0.11",
          "-",
          "0.08",
          "-",
          "0.11",
          "-",
          "0.16",
          "0.06",
          "0.20",
          "0.34",
          "-",
          "-",
          "-",
          "0.13",
          null
         ],
         "xaxis": "x",
         "y": [
          "-",
          "-",
          "0.67",
          "0.18",
          "0.56",
          "-",
          "0.57",
          "0.60",
          "1.45",
          "2.63",
          "1.22",
          "0.16",
          "0.28",
          "0.44",
          "3.62",
          "0.77",
          "0.60",
          "1.09",
          "-",
          "0.46",
          "-",
          "0.53",
          "-",
          "0.98",
          "0.17",
          "0.45",
          "0.65",
          "1.22",
          "1.44",
          "0.40",
          "0.85",
          "0.33",
          "1.97",
          "0.10",
          "0.77",
          "-",
          "0.68",
          "0.25",
          "0.83",
          "0.29",
          "0.70",
          "0.99",
          "-",
          "0.58",
          "1.01",
          "1.13",
          "0.62",
          "0.48",
          "0.87",
          "0.44",
          "0.46",
          "0.64",
          "0.56",
          "3.24",
          "-",
          "0.17",
          "-",
          "0.37",
          "-",
          "0.28",
          "0.37",
          "-",
          "1.08",
          "0.25",
          "0.12",
          "0.25",
          "0.33",
          "1.16",
          "0.53",
          "0.92",
          "1.15",
          "1.09",
          "1.42",
          "-",
          "0.34",
          "-",
          "0.43",
          "1.36",
          "1.32",
          "1.59",
          "0.52",
          "0.27",
          "-",
          "0.88",
          "1.89",
          "-",
          "1.70",
          "2.37",
          "0.33",
          "1.49",
          "-",
          "-",
          "0.97",
          "-",
          "3.37",
          "-",
          "0.55",
          "2.14",
          "1.09",
          "0.93",
          "-",
          "0.57",
          "-",
          "0.62",
          "2.29",
          "0.51",
          "0.78",
          "1.48",
          "1.79",
          "2.26",
          "1.06",
          "0.84",
          "0.16",
          "0.36",
          "-",
          "1.07",
          "-",
          "0.92",
          "0.11",
          "-",
          "1.02",
          "0.60",
          "-",
          "0.56",
          "-",
          "0.41",
          "2.38",
          "0.32",
          "1.48",
          "1.63",
          "-",
          "-",
          "2.33",
          "0.92",
          "1.38",
          "1.59",
          "0.29",
          "-",
          "0.84",
          "0.79",
          "-",
          "1.83",
          "0.81",
          "0.55",
          "1.94",
          "2.17",
          "1.85",
          "0.04",
          "0.50",
          "-",
          "1.87",
          "2.13",
          "0.88",
          "0.80",
          "3.17",
          "1.29",
          "-",
          "0.52",
          "2.72",
          "0.28",
          "0.51",
          "0.29",
          "0.44",
          "0.27",
          "0.65",
          "1.38",
          "-",
          "1.33",
          "-",
          "1.51",
          "1.11",
          "0.54",
          "0.32",
          "0.96",
          "1.02",
          "0.36",
          "-",
          "1.70",
          "0.59",
          "1.51",
          "0.71",
          "0.83",
          "0.23",
          "0.40",
          "0.87",
          "1.49",
          "2.13",
          "0.25",
          "0.14",
          "1.77",
          "0.20",
          "0.55",
          "0.64",
          "0.61",
          "-",
          "-",
          "1.14",
          "0.92",
          "0.79",
          "2.74",
          "1.25",
          "0.08",
          "0.40",
          "-",
          "0.44",
          "1.16",
          "1.39",
          "-",
          "-",
          "0.32",
          "-",
          "-",
          "-",
          "1.67",
          "-",
          "1.72",
          "1.34",
          "-",
          "0.39",
          "1.10",
          "0.77",
          "-",
          "1.51",
          "0.34",
          "0.43",
          "0.44",
          "1.57",
          "1.01",
          "0.13",
          "0.96",
          "-",
          "0.76",
          "1.54",
          "-",
          "0.48",
          "0.47",
          "-",
          "0.09",
          "2.32",
          "0.39",
          "0.81",
          "0.76",
          "1.26",
          "0.31",
          "2.48",
          "1.52",
          "0.45",
          "2.71",
          "-",
          "-",
          "1.95",
          "2.06",
          "1.38",
          "2.89",
          "0.21",
          "-",
          "0.35",
          "1.12",
          "0.15",
          "0.84",
          "1.70",
          "0.85",
          "0.40",
          "1.04",
          "0.51",
          "1.33",
          "1.97",
          "0.98",
          "0.89",
          "0.49",
          "1.59",
          null
         ],
         "yaxis": "y"
        }
       ],
       "layout": {
        "height": 500,
        "legend": {
         "tracegroupgap": 0
        },
        "margin": {
         "t": 60
        },
        "template": {
         "data": {
          "bar": [
           {
            "error_x": {
             "color": "#f2f5fa"
            },
            "error_y": {
             "color": "#f2f5fa"
            },
            "marker": {
             "line": {
              "color": "rgb(17,17,17)",
              "width": 0.5
             }
            },
            "type": "bar"
           }
          ],
          "barpolar": [
           {
            "marker": {
             "line": {
              "color": "rgb(17,17,17)",
              "width": 0.5
             }
            },
            "type": "barpolar"
           }
          ],
          "carpet": [
           {
            "aaxis": {
             "endlinecolor": "#A2B1C6",
             "gridcolor": "#506784",
             "linecolor": "#506784",
             "minorgridcolor": "#506784",
             "startlinecolor": "#A2B1C6"
            },
            "baxis": {
             "endlinecolor": "#A2B1C6",
             "gridcolor": "#506784",
             "linecolor": "#506784",
             "minorgridcolor": "#506784",
             "startlinecolor": "#A2B1C6"
            },
            "type": "carpet"
           }
          ],
          "choropleth": [
           {
            "colorbar": {
             "outlinewidth": 0,
             "ticks": ""
            },
            "type": "choropleth"
           }
          ],
          "contour": [
           {
            "colorbar": {
             "outlinewidth": 0,
             "ticks": ""
            },
            "colorscale": [
             [
              0,
              "#0d0887"
             ],
             [
              0.1111111111111111,
              "#46039f"
             ],
             [
              0.2222222222222222,
              "#7201a8"
             ],
             [
              0.3333333333333333,
              "#9c179e"
             ],
             [
              0.4444444444444444,
              "#bd3786"
             ],
             [
              0.5555555555555556,
              "#d8576b"
             ],
             [
              0.6666666666666666,
              "#ed7953"
             ],
             [
              0.7777777777777778,
              "#fb9f3a"
             ],
             [
              0.8888888888888888,
              "#fdca26"
             ],
             [
              1,
              "#f0f921"
             ]
            ],
            "type": "contour"
           }
          ],
          "contourcarpet": [
           {
            "colorbar": {
             "outlinewidth": 0,
             "ticks": ""
            },
            "type": "contourcarpet"
           }
          ],
          "heatmap": [
           {
            "colorbar": {
             "outlinewidth": 0,
             "ticks": ""
            },
            "colorscale": [
             [
              0,
              "#0d0887"
             ],
             [
              0.1111111111111111,
              "#46039f"
             ],
             [
              0.2222222222222222,
              "#7201a8"
             ],
             [
              0.3333333333333333,
              "#9c179e"
             ],
             [
              0.4444444444444444,
              "#bd3786"
             ],
             [
              0.5555555555555556,
              "#d8576b"
             ],
             [
              0.6666666666666666,
              "#ed7953"
             ],
             [
              0.7777777777777778,
              "#fb9f3a"
             ],
             [
              0.8888888888888888,
              "#fdca26"
             ],
             [
              1,
              "#f0f921"
             ]
            ],
            "type": "heatmap"
           }
          ],
          "heatmapgl": [
           {
            "colorbar": {
             "outlinewidth": 0,
             "ticks": ""
            },
            "colorscale": [
             [
              0,
              "#0d0887"
             ],
             [
              0.1111111111111111,
              "#46039f"
             ],
             [
              0.2222222222222222,
              "#7201a8"
             ],
             [
              0.3333333333333333,
              "#9c179e"
             ],
             [
              0.4444444444444444,
              "#bd3786"
             ],
             [
              0.5555555555555556,
              "#d8576b"
             ],
             [
              0.6666666666666666,
              "#ed7953"
             ],
             [
              0.7777777777777778,
              "#fb9f3a"
             ],
             [
              0.8888888888888888,
              "#fdca26"
             ],
             [
              1,
              "#f0f921"
             ]
            ],
            "type": "heatmapgl"
           }
          ],
          "histogram": [
           {
            "marker": {
             "colorbar": {
              "outlinewidth": 0,
              "ticks": ""
             }
            },
            "type": "histogram"
           }
          ],
          "histogram2d": [
           {
            "colorbar": {
             "outlinewidth": 0,
             "ticks": ""
            },
            "colorscale": [
             [
              0,
              "#0d0887"
             ],
             [
              0.1111111111111111,
              "#46039f"
             ],
             [
              0.2222222222222222,
              "#7201a8"
             ],
             [
              0.3333333333333333,
              "#9c179e"
             ],
             [
              0.4444444444444444,
              "#bd3786"
             ],
             [
              0.5555555555555556,
              "#d8576b"
             ],
             [
              0.6666666666666666,
              "#ed7953"
             ],
             [
              0.7777777777777778,
              "#fb9f3a"
             ],
             [
              0.8888888888888888,
              "#fdca26"
             ],
             [
              1,
              "#f0f921"
             ]
            ],
            "type": "histogram2d"
           }
          ],
          "histogram2dcontour": [
           {
            "colorbar": {
             "outlinewidth": 0,
             "ticks": ""
            },
            "colorscale": [
             [
              0,
              "#0d0887"
             ],
             [
              0.1111111111111111,
              "#46039f"
             ],
             [
              0.2222222222222222,
              "#7201a8"
             ],
             [
              0.3333333333333333,
              "#9c179e"
             ],
             [
              0.4444444444444444,
              "#bd3786"
             ],
             [
              0.5555555555555556,
              "#d8576b"
             ],
             [
              0.6666666666666666,
              "#ed7953"
             ],
             [
              0.7777777777777778,
              "#fb9f3a"
             ],
             [
              0.8888888888888888,
              "#fdca26"
             ],
             [
              1,
              "#f0f921"
             ]
            ],
            "type": "histogram2dcontour"
           }
          ],
          "mesh3d": [
           {
            "colorbar": {
             "outlinewidth": 0,
             "ticks": ""
            },
            "type": "mesh3d"
           }
          ],
          "parcoords": [
           {
            "line": {
             "colorbar": {
              "outlinewidth": 0,
              "ticks": ""
             }
            },
            "type": "parcoords"
           }
          ],
          "pie": [
           {
            "automargin": true,
            "type": "pie"
           }
          ],
          "scatter": [
           {
            "marker": {
             "line": {
              "color": "#283442"
             }
            },
            "type": "scatter"
           }
          ],
          "scatter3d": [
           {
            "line": {
             "colorbar": {
              "outlinewidth": 0,
              "ticks": ""
             }
            },
            "marker": {
             "colorbar": {
              "outlinewidth": 0,
              "ticks": ""
             }
            },
            "type": "scatter3d"
           }
          ],
          "scattercarpet": [
           {
            "marker": {
             "colorbar": {
              "outlinewidth": 0,
              "ticks": ""
             }
            },
            "type": "scattercarpet"
           }
          ],
          "scattergeo": [
           {
            "marker": {
             "colorbar": {
              "outlinewidth": 0,
              "ticks": ""
             }
            },
            "type": "scattergeo"
           }
          ],
          "scattergl": [
           {
            "marker": {
             "line": {
              "color": "#283442"
             }
            },
            "type": "scattergl"
           }
          ],
          "scattermapbox": [
           {
            "marker": {
             "colorbar": {
              "outlinewidth": 0,
              "ticks": ""
             }
            },
            "type": "scattermapbox"
           }
          ],
          "scatterpolar": [
           {
            "marker": {
             "colorbar": {
              "outlinewidth": 0,
              "ticks": ""
             }
            },
            "type": "scatterpolar"
           }
          ],
          "scatterpolargl": [
           {
            "marker": {
             "colorbar": {
              "outlinewidth": 0,
              "ticks": ""
             }
            },
            "type": "scatterpolargl"
           }
          ],
          "scatterternary": [
           {
            "marker": {
             "colorbar": {
              "outlinewidth": 0,
              "ticks": ""
             }
            },
            "type": "scatterternary"
           }
          ],
          "surface": [
           {
            "colorbar": {
             "outlinewidth": 0,
             "ticks": ""
            },
            "colorscale": [
             [
              0,
              "#0d0887"
             ],
             [
              0.1111111111111111,
              "#46039f"
             ],
             [
              0.2222222222222222,
              "#7201a8"
             ],
             [
              0.3333333333333333,
              "#9c179e"
             ],
             [
              0.4444444444444444,
              "#bd3786"
             ],
             [
              0.5555555555555556,
              "#d8576b"
             ],
             [
              0.6666666666666666,
              "#ed7953"
             ],
             [
              0.7777777777777778,
              "#fb9f3a"
             ],
             [
              0.8888888888888888,
              "#fdca26"
             ],
             [
              1,
              "#f0f921"
             ]
            ],
            "type": "surface"
           }
          ],
          "table": [
           {
            "cells": {
             "fill": {
              "color": "#506784"
             },
             "line": {
              "color": "rgb(17,17,17)"
             }
            },
            "header": {
             "fill": {
              "color": "#2a3f5f"
             },
             "line": {
              "color": "rgb(17,17,17)"
             }
            },
            "type": "table"
           }
          ]
         },
         "layout": {
          "annotationdefaults": {
           "arrowcolor": "#f2f5fa",
           "arrowhead": 0,
           "arrowwidth": 1
          },
          "coloraxis": {
           "colorbar": {
            "outlinewidth": 0,
            "ticks": ""
           }
          },
          "colorscale": {
           "diverging": [
            [
             0,
             "#8e0152"
            ],
            [
             0.1,
             "#c51b7d"
            ],
            [
             0.2,
             "#de77ae"
            ],
            [
             0.3,
             "#f1b6da"
            ],
            [
             0.4,
             "#fde0ef"
            ],
            [
             0.5,
             "#f7f7f7"
            ],
            [
             0.6,
             "#e6f5d0"
            ],
            [
             0.7,
             "#b8e186"
            ],
            [
             0.8,
             "#7fbc41"
            ],
            [
             0.9,
             "#4d9221"
            ],
            [
             1,
             "#276419"
            ]
           ],
           "sequential": [
            [
             0,
             "#0d0887"
            ],
            [
             0.1111111111111111,
             "#46039f"
            ],
            [
             0.2222222222222222,
             "#7201a8"
            ],
            [
             0.3333333333333333,
             "#9c179e"
            ],
            [
             0.4444444444444444,
             "#bd3786"
            ],
            [
             0.5555555555555556,
             "#d8576b"
            ],
            [
             0.6666666666666666,
             "#ed7953"
            ],
            [
             0.7777777777777778,
             "#fb9f3a"
            ],
            [
             0.8888888888888888,
             "#fdca26"
            ],
            [
             1,
             "#f0f921"
            ]
           ],
           "sequentialminus": [
            [
             0,
             "#0d0887"
            ],
            [
             0.1111111111111111,
             "#46039f"
            ],
            [
             0.2222222222222222,
             "#7201a8"
            ],
            [
             0.3333333333333333,
             "#9c179e"
            ],
            [
             0.4444444444444444,
             "#bd3786"
            ],
            [
             0.5555555555555556,
             "#d8576b"
            ],
            [
             0.6666666666666666,
             "#ed7953"
            ],
            [
             0.7777777777777778,
             "#fb9f3a"
            ],
            [
             0.8888888888888888,
             "#fdca26"
            ],
            [
             1,
             "#f0f921"
            ]
           ]
          },
          "colorway": [
           "#636efa",
           "#EF553B",
           "#00cc96",
           "#ab63fa",
           "#FFA15A",
           "#19d3f3",
           "#FF6692",
           "#B6E880",
           "#FF97FF",
           "#FECB52"
          ],
          "font": {
           "color": "#f2f5fa"
          },
          "geo": {
           "bgcolor": "rgb(17,17,17)",
           "lakecolor": "rgb(17,17,17)",
           "landcolor": "rgb(17,17,17)",
           "showlakes": true,
           "showland": true,
           "subunitcolor": "#506784"
          },
          "hoverlabel": {
           "align": "left"
          },
          "hovermode": "closest",
          "mapbox": {
           "style": "dark"
          },
          "paper_bgcolor": "rgb(17,17,17)",
          "plot_bgcolor": "rgb(17,17,17)",
          "polar": {
           "angularaxis": {
            "gridcolor": "#506784",
            "linecolor": "#506784",
            "ticks": ""
           },
           "bgcolor": "rgb(17,17,17)",
           "radialaxis": {
            "gridcolor": "#506784",
            "linecolor": "#506784",
            "ticks": ""
           }
          },
          "scene": {
           "xaxis": {
            "backgroundcolor": "rgb(17,17,17)",
            "gridcolor": "#506784",
            "gridwidth": 2,
            "linecolor": "#506784",
            "showbackground": true,
            "ticks": "",
            "zerolinecolor": "#C8D4E3"
           },
           "yaxis": {
            "backgroundcolor": "rgb(17,17,17)",
            "gridcolor": "#506784",
            "gridwidth": 2,
            "linecolor": "#506784",
            "showbackground": true,
            "ticks": "",
            "zerolinecolor": "#C8D4E3"
           },
           "zaxis": {
            "backgroundcolor": "rgb(17,17,17)",
            "gridcolor": "#506784",
            "gridwidth": 2,
            "linecolor": "#506784",
            "showbackground": true,
            "ticks": "",
            "zerolinecolor": "#C8D4E3"
           }
          },
          "shapedefaults": {
           "line": {
            "color": "#f2f5fa"
           }
          },
          "sliderdefaults": {
           "bgcolor": "#C8D4E3",
           "bordercolor": "rgb(17,17,17)",
           "borderwidth": 1,
           "tickwidth": 0
          },
          "ternary": {
           "aaxis": {
            "gridcolor": "#506784",
            "linecolor": "#506784",
            "ticks": ""
           },
           "baxis": {
            "gridcolor": "#506784",
            "linecolor": "#506784",
            "ticks": ""
           },
           "bgcolor": "rgb(17,17,17)",
           "caxis": {
            "gridcolor": "#506784",
            "linecolor": "#506784",
            "ticks": ""
           }
          },
          "title": {
           "x": 0.05
          },
          "updatemenudefaults": {
           "bgcolor": "#506784",
           "borderwidth": 0
          },
          "xaxis": {
           "automargin": true,
           "gridcolor": "#283442",
           "linecolor": "#506784",
           "ticks": "",
           "title": {
            "standoff": 15
           },
           "zerolinecolor": "#283442",
           "zerolinewidth": 2
          },
          "yaxis": {
           "automargin": true,
           "gridcolor": "#283442",
           "linecolor": "#506784",
           "ticks": "",
           "title": {
            "standoff": 15
           },
           "zerolinecolor": "#283442",
           "zerolinewidth": 2
          }
         }
        },
        "title": {
         "text": "Inside Forward - Attack"
        },
        "xaxis": {
         "anchor": "y",
         "domain": [
          0,
          1
         ],
         "title": {
          "text": "Gls/90"
         }
        },
        "yaxis": {
         "anchor": "x",
         "domain": [
          0,
          1
         ],
         "title": {
          "text": "Ch C/90"
         }
        }
       }
      },
      "text/html": [
       "<div>\n",
       "        \n",
       "        \n",
       "            <div id=\"6836ecee-6863-4fd9-9c75-789d35649ebf\" class=\"plotly-graph-div\" style=\"height:500px; width:100%;\"></div>\n",
       "            <script type=\"text/javascript\">\n",
       "                require([\"plotly\"], function(Plotly) {\n",
       "                    window.PLOTLYENV=window.PLOTLYENV || {};\n",
       "                    \n",
       "                if (document.getElementById(\"6836ecee-6863-4fd9-9c75-789d35649ebf\")) {\n",
       "                    Plotly.newPlot(\n",
       "                        '6836ecee-6863-4fd9-9c75-789d35649ebf',\n",
       "                        [{\"hovertemplate\": \"Gls/90=%{x}<br>Ch C/90=%{y}<br>Name=%{text}<extra></extra>\", \"legendgroup\": \"\", \"marker\": {\"color\": \"#636efa\", \"symbol\": \"circle\"}, \"mode\": \"markers+text\", \"name\": \"\", \"showlegend\": false, \"text\": [\"Djibril Diakit\\u00c3\\u00a9\", \"Jo\\u00c3\\u00a3o Tavares\", \"Matej Hudecek\", \"Adrian Rybak\", \"Oskar Repka\", \"Maciej Obodecki\", \"Ivo Kralj\", \"Bartosz Sobczyk\", \"Ivan Tomac\", \"Nikola Bogdanovski\", \"Stefan Velickovic\", \"Andrija Zakoc\", \"Aur\\u00c3\\u00a9lien Nguiamba\", \"Flynn Downes\", \"Nikola Puzic\", \"Andjelo Kacavenda\", \"Tymoteusz Puchacz\", \"Felix Brunmayr\", \"Lennart Grill\", \"Josip Rakic\", \"Stefan Randjelovic\", \"Radoslaw Dzierbicki\", \"Alexandar Ubavic\", \"Veljko Jovkovic\", \"Mariano G\\u00c3\\u00b3mez\", \"David Bumberger\", \"Enrico Huss\", \"Mateo Jaksic\", \"Konrad Jozwicki\", \"Nikita Marusenko\", \"Djordje Jovanovic\", \"Filip Lisnic\", \"Dawid Szalas\", \"Vladimir Ilic\", \"Marcin Mackowiak\", \"Florin Codrean\", \"David Otto\", \"Stefan Golubovic\", \"Keanan Bennetts\", \"Andrej Vukas\", \"Jannik Tepe\", \"Mladen Devetak\", \"Tom Baack\", \"Jan Sobocinski\", \"Tom\\u00c3\\u00a1s Blanco\", \"Sinan Karweina\", \"Ben Williams\", \"Arkadiusz Zajaczkowski\", \"Miguel Reisinho\", \"Filp Ceko\", \"Michel St\\u00c3\\u00b6cker\", \"J\\u00c3\\u00a9r\\u00c3\\u00b4me Deom\", \"Ranko Jokic\", \"Palko D\\u00c3\\u00a1rdai\", \"Aleksander Tomasz\", \"Alex Vigo\", \"Daniel Bielica\", \"Marko Djira\", \"Norbert Walczak\", \"Boris Moltenis\", \"Julius Kade\", \"Goran Buljandric\", \"Jannis K\\u00c3\\u00bcbler\", \"Aleksa Jovanovic\", \"Tomasz Owczarek\", \"David Wittkowski\", \"Konrad Zaklika\", \"Pawel Karbowinski\", \"Nicky Werner\", \"Julijan Popovic\", \"Nassim Boujellab\", \"Bartlomiej Gajda\", \"Nemanja Matijevic\", \"Marko Denic\", \"Robert Baar\", \"Tuta\", \"Dusan Jokovic\", \"Tomasz Dzida\", \"Aleksa Pejic\", \"Krsta Bojic\", \"Sikou Niakat\\u00c3\\u00a9\", \"Tomasz Makowski\", \"Sebastian Gwozdz\", \"Adrian Polanski\", \"Bryan Mbeumo\", \"Dorin Sirbu\", \"Elvis Novalic\", \"Micka\\u00c3\\u00abl Cuisance\", \"Mateusz Madzia\", \"Jes\\u00c3\\u00bas Vargas\", \"Marino Jedvaj\", \"Raphael Assibey-Mensah\", \"Lukasz Sztylka\", \"Zoran Zrnzevic\", \"Alex Krawiec\", \"Petar Melezovic\", \"Tomasz Kurek\", \"Danko Radic\", \"Paul Mensah\", \"Jordan Williams\", \"Mario Mustapic\", \"Nikola Trickovic\", \"Patrik Delic\", \"Maciej Famulak\", \"Wiktor Nahrebecki\", \"Barne Poggenberg\", \"Mirza Jasarevic\", \"Ratko Minic\", \"Semih \\u00c5\\u009eahin\", \"Matej Santek\", \"Georgios Siadas\", \"Tyrese Campbell\", \"Martin Krizmanic\", \"Kacper Laskos\", \"Aleksa Milojevic\", \"Cheick Doucour\\u00c3\\u00a9\", \"Ivan Jakovljev\", \"Przemyslaw Zdybowicz\", \"Sven Botman\", \"Malik Karaahmet\", \"Lukas Kr\\u00c3\\u00bcger\", \"Niclas Stierlin\", \"Mane Markovic\", \"Karol Czubak\", \"Ilija Dejanovic\", \"Pascal Hackethal\", \"Oleg Gorin\", \"Michal Zieba\", \"Miodrag Maljkovic\", \"Jakov Blagaic\", \"Harisson Marcelin\", \"Vice Bazdaric\", \"Daniel Liszka\", \"Jan Sieracki\", \"Jhonny Lucas\", \"Tymoteusz Klups\", \"Josip Sutalo\", \"Othman Boussaid\", \"Evert Linthorst\", \"Jusuf Gazibegovic\", \"Virgiliu Postolachi\", \"Luis G\\u00c3\\u00b6rlich\", \"Andrej Ilic\", \"Daniel Haritonov\", \"Patryk Drabik\", \"Tom Dobek-Pietrowski\", \"Michal Mydlarz\", \"Cho Jeong-Hui\", \"Mohamed Loua\", \"Nemanja Zikic\", \"Emir Sejdovic\", \"Samuel Lengle\", \"Mateusz Duchowski\", \"Iliya Gruev\", \"Bartosz Borun\", \"Juraj Ljubic\", \"Gon\\u00c3\\u00a7alo Rebelo\", \"Dominik Resetar\", \"Jurica Prsir\", \"Piotr Wujec\", \"Jan Majsterek\", \"Mitchel Bakker\", \"Kamil Piatkowski\", \"Michal Ozga\", \"Karol Turek\", \"Toni Karimovic\", \"Billy Crellin\", \"Konrad Sieracki\", \"Vando Luis\", \"Jan Los\", \"Jessic Ngankam\", \"Adam Borkowski\", \"Julian Rieckmann\", \"Luka Pavlak\", \"Robert Ion\", \"Linus Rosenl\\u00c3\\u00b6cher\", \"Eugen Telch\", \"Nicholas Wunsch\", \"Dawid Kisly\", \"Uros Miloradovic\", \"Alois Oroz\", \"Luca Bazzoli\", \"Ronan Darcy\", \"Yann-Aurel Bisseck\", \"Timo Bornemann\", \"Radivoj Bosic\", \"Jakov Katusa\", \"Kacper Jozefiak\", \"Szymon Mroczko\", \"Karol Struski\", \"Wojciech Kaminski\", \"Piotr Lisowski\", \"Daishawn Redan\", \"Kacper Smolinski\", \"Lukas Sch\\u00c3\\u00b6fl\", \"Mikolaj Labojko\", \"Jakub Karbownik\", \"Damir Magdic\", \"Karol Malec\", \"Patryk Wozniak\", \"Can Bozdogan\", \"Aleksander Paluszek\", \"Mario Cuic\", \"Dragoljub Savic\", \"Nathan Collins\", \"Dominik Pila\", \"Mihael Kupresak\", \"Manu Kon\\u00c3\\u00a9\", \"Niels Hahn\", \"Tin Hrvoj\", \"Lucas Da Cunha\", \"Rahim Ibrahim\", \"Renato Josipovic\", \"Han-Noah Massengo\", \"Kacper Wiatrak\", \"Bartosz Kuzniarski\", \"Adrian Petk\", \"Fabian Tauchhammer\", \"Bartlomiej Mruk\", \"Jakub Rudek\", \"Jakub Swiecinski\", \"Jakub Nowakowski\", \"Kamil Dabrowski\", \"Yuri Sprandel Flores\", \"Stefan Radmanovac\", \"Kamal Bafounta\", \"Filip Marchwinski\", \"Kamil Lukoszek\", \"Jakub Niewiadomski\", \"Dominik Kedzior\", \"Joe Gelhardt\", \"Filip Sobiecki\", \"Fran Tomek\", \"Hubert Wasiewski\", \"Djordje Vasic\", \"Jakub Zima\", \"Damian Makuch\", \"Andrzej Kloda\", \"Stipe Biuk\", \"Mateusz Pienczak\", \"FIlip Brekalo\", \"Stefan Despotovski\", \"Jakub Kisiel\", \"Duje Skugor\", \"Martin Baturina\", \"Radoslaw Cielemecki\", \"Ariel Mosor\", \"Nikola Petkovic\", \"Nikodem Sujecki\", \"Ivan Mandic\", \"Stanislaw Loch\", \"Dario Grgic\", \"Wojciech Szybka\", \"Kacper Szmidt\", \"Vukasin Krstic\", \"Obrendo Doesburg\", \"Casper Elderman\", \"Predrag Jovic\", \"Daniel Hoyo-Kowalski\", \"Darijo Basic\", \"Wiktor Mosur\", \"Uros Mirkovic\", \"Marcos Rodr\\u00c3\\u00adguez\", \"Adrian \\u00c5\\u00a2apu\", \"Paul Mari\", \"Pawel Muzylowski\", \"Dragan Radovic\", \"Szymon Kobeszko\", \"Marcin Dabrowski\", \"Jorge Delgado\", \"Daniel Piesio\", null], \"textposition\": \"top center\", \"type\": \"scatter\", \"x\": [\"0.07\", \"0.14\", \"0.17\", \"0.06\", \"-\", \"0.17\", \"-\", \"0.08\", \"-\", \"0.24\", \"-\", \"-\", \"-\", \"-\", \"0.07\", \"0.05\", \"0.38\", \"-\", \"-\", \"0.08\", \"-\", \"-\", \"0.13\", \"0.23\", \"0.11\", \"-\", \"-\", \"0.07\", \"-\", \"0.06\", \"0.54\", \"0.06\", \"0.05\", \"0.10\", \"0.06\", \"-\", \"0.62\", \"-\", \"-\", \"0.10\", \"0.32\", \"-\", \"-\", \"-\", \"0.23\", \"0.32\", \"-\", \"0.16\", \"-\", \"0.06\", \"-\", \"0.14\", \"-\", \"0.28\", \"0.06\", \"0.11\", \"-\", \"-\", \"0.14\", \"-\", \"0.12\", \"-\", \"0.13\", \"0.05\", \"-\", \"0.05\", \"-\", \"-\", \"0.15\", \"-\", \"0.23\", \"0.11\", \"0.33\", \"0.05\", \"-\", \"-\", \"0.06\", \"0.17\", \"-\", \"0.24\", \"-\", \"0.07\", \"0.13\", \"0.24\", \"0.30\", \"-\", \"0.05\", \"0.12\", \"-\", \"0.22\", \"-\", \"0.09\", \"-\", \"0.13\", \"0.23\", \"0.05\", \"0.61\", \"0.15\", \"0.45\", \"-\", \"-\", \"-\", \"-\", \"0.08\", \"0.07\", \"0.05\", \"0.18\", \"0.16\", \"0.19\", \"0.07\", \"-\", \"0.33\", \"-\", \"-\", \"-\", \"0.11\", \"0.09\", \"0.39\", \"-\", \"0.79\", \"0.06\", \"-\", \"-\", \"0.49\", \"0.09\", \"-\", \"0.18\", \"0.24\", \"0.55\", \"0.31\", \"0.06\", \"-\", \"0.06\", \"0.08\", \"0.15\", \"0.22\", \"-\", \"0.07\", \"0.21\", \"-\", \"0.07\", \"0.05\", \"0.22\", \"-\", \"0.37\", \"0.07\", \"0.22\", \"-\", \"-\", \"0.04\", \"0.04\", \"0.20\", \"0.44\", \"-\", \"-\", \"0.16\", \"0.04\", \"0.64\", \"0.18\", \"0.06\", \"0.17\", \"-\", \"-\", \"0.09\", \"-\", \"0.26\", \"-\", \"-\", \"-\", \"0.45\", \"0.13\", \"0.08\", \"-\", \"0.19\", \"0.18\", \"-\", \"-\", \"-\", \"-\", \"0.08\", \"0.12\", \"0.10\", \"0.23\", \"-\", \"0.69\", \"-\", \"0.06\", \"-\", \"-\", \"0.07\", \"0.05\", \"-\", \"0.64\", \"-\", \"0.06\", \"0.14\", \"-\", \"0.08\", \"0.05\", \"0.16\", \"-\", \"0.08\", \"-\", \"0.14\", \"-\", \"0.09\", \"0.42\", \"0.12\", \"0.06\", \"0.08\", \"0.06\", \"0.03\", \"-\", \"0.08\", \"-\", \"0.62\", \"0.17\", \"-\", \"-\", \"0.17\", \"-\", \"0.05\", \"0.07\", \"-\", \"0.16\", \"-\", \"0.18\", \"0.31\", \"0.07\", \"0.17\", \"0.44\", \"0.15\", \"0.13\", \"-\", \"-\", \"0.08\", \"0.07\", \"-\", \"0.19\", \"-\", \"-\", \"0.10\", \"0.08\", \"0.38\", \"-\", \"0.06\", \"-\", \"0.22\", \"-\", \"-\", \"0.41\", \"0.06\", \"0.08\", \"0.07\", \"0.14\", \"0.09\", \"-\", \"0.11\", \"-\", \"0.08\", \"-\", \"0.11\", \"-\", \"0.16\", \"0.06\", \"0.20\", \"0.34\", \"-\", \"-\", \"-\", \"0.13\", null], \"xaxis\": \"x\", \"y\": [\"-\", \"-\", \"0.67\", \"0.18\", \"0.56\", \"-\", \"0.57\", \"0.60\", \"1.45\", \"2.63\", \"1.22\", \"0.16\", \"0.28\", \"0.44\", \"3.62\", \"0.77\", \"0.60\", \"1.09\", \"-\", \"0.46\", \"-\", \"0.53\", \"-\", \"0.98\", \"0.17\", \"0.45\", \"0.65\", \"1.22\", \"1.44\", \"0.40\", \"0.85\", \"0.33\", \"1.97\", \"0.10\", \"0.77\", \"-\", \"0.68\", \"0.25\", \"0.83\", \"0.29\", \"0.70\", \"0.99\", \"-\", \"0.58\", \"1.01\", \"1.13\", \"0.62\", \"0.48\", \"0.87\", \"0.44\", \"0.46\", \"0.64\", \"0.56\", \"3.24\", \"-\", \"0.17\", \"-\", \"0.37\", \"-\", \"0.28\", \"0.37\", \"-\", \"1.08\", \"0.25\", \"0.12\", \"0.25\", \"0.33\", \"1.16\", \"0.53\", \"0.92\", \"1.15\", \"1.09\", \"1.42\", \"-\", \"0.34\", \"-\", \"0.43\", \"1.36\", \"1.32\", \"1.59\", \"0.52\", \"0.27\", \"-\", \"0.88\", \"1.89\", \"-\", \"1.70\", \"2.37\", \"0.33\", \"1.49\", \"-\", \"-\", \"0.97\", \"-\", \"3.37\", \"-\", \"0.55\", \"2.14\", \"1.09\", \"0.93\", \"-\", \"0.57\", \"-\", \"0.62\", \"2.29\", \"0.51\", \"0.78\", \"1.48\", \"1.79\", \"2.26\", \"1.06\", \"0.84\", \"0.16\", \"0.36\", \"-\", \"1.07\", \"-\", \"0.92\", \"0.11\", \"-\", \"1.02\", \"0.60\", \"-\", \"0.56\", \"-\", \"0.41\", \"2.38\", \"0.32\", \"1.48\", \"1.63\", \"-\", \"-\", \"2.33\", \"0.92\", \"1.38\", \"1.59\", \"0.29\", \"-\", \"0.84\", \"0.79\", \"-\", \"1.83\", \"0.81\", \"0.55\", \"1.94\", \"2.17\", \"1.85\", \"0.04\", \"0.50\", \"-\", \"1.87\", \"2.13\", \"0.88\", \"0.80\", \"3.17\", \"1.29\", \"-\", \"0.52\", \"2.72\", \"0.28\", \"0.51\", \"0.29\", \"0.44\", \"0.27\", \"0.65\", \"1.38\", \"-\", \"1.33\", \"-\", \"1.51\", \"1.11\", \"0.54\", \"0.32\", \"0.96\", \"1.02\", \"0.36\", \"-\", \"1.70\", \"0.59\", \"1.51\", \"0.71\", \"0.83\", \"0.23\", \"0.40\", \"0.87\", \"1.49\", \"2.13\", \"0.25\", \"0.14\", \"1.77\", \"0.20\", \"0.55\", \"0.64\", \"0.61\", \"-\", \"-\", \"1.14\", \"0.92\", \"0.79\", \"2.74\", \"1.25\", \"0.08\", \"0.40\", \"-\", \"0.44\", \"1.16\", \"1.39\", \"-\", \"-\", \"0.32\", \"-\", \"-\", \"-\", \"1.67\", \"-\", \"1.72\", \"1.34\", \"-\", \"0.39\", \"1.10\", \"0.77\", \"-\", \"1.51\", \"0.34\", \"0.43\", \"0.44\", \"1.57\", \"1.01\", \"0.13\", \"0.96\", \"-\", \"0.76\", \"1.54\", \"-\", \"0.48\", \"0.47\", \"-\", \"0.09\", \"2.32\", \"0.39\", \"0.81\", \"0.76\", \"1.26\", \"0.31\", \"2.48\", \"1.52\", \"0.45\", \"2.71\", \"-\", \"-\", \"1.95\", \"2.06\", \"1.38\", \"2.89\", \"0.21\", \"-\", \"0.35\", \"1.12\", \"0.15\", \"0.84\", \"1.70\", \"0.85\", \"0.40\", \"1.04\", \"0.51\", \"1.33\", \"1.97\", \"0.98\", \"0.89\", \"0.49\", \"1.59\", null], \"yaxis\": \"y\"}],\n",
       "                        {\"height\": 500, \"legend\": {\"tracegroupgap\": 0}, \"margin\": {\"t\": 60}, \"template\": {\"data\": {\"bar\": [{\"error_x\": {\"color\": \"#f2f5fa\"}, \"error_y\": {\"color\": \"#f2f5fa\"}, \"marker\": {\"line\": {\"color\": \"rgb(17,17,17)\", \"width\": 0.5}}, \"type\": \"bar\"}], \"barpolar\": [{\"marker\": {\"line\": {\"color\": \"rgb(17,17,17)\", \"width\": 0.5}}, \"type\": \"barpolar\"}], \"carpet\": [{\"aaxis\": {\"endlinecolor\": \"#A2B1C6\", \"gridcolor\": \"#506784\", \"linecolor\": \"#506784\", \"minorgridcolor\": \"#506784\", \"startlinecolor\": \"#A2B1C6\"}, \"baxis\": {\"endlinecolor\": \"#A2B1C6\", \"gridcolor\": \"#506784\", \"linecolor\": \"#506784\", \"minorgridcolor\": \"#506784\", \"startlinecolor\": \"#A2B1C6\"}, \"type\": \"carpet\"}], \"choropleth\": [{\"colorbar\": {\"outlinewidth\": 0, \"ticks\": \"\"}, \"type\": \"choropleth\"}], \"contour\": [{\"colorbar\": {\"outlinewidth\": 0, \"ticks\": \"\"}, \"colorscale\": [[0.0, \"#0d0887\"], [0.1111111111111111, \"#46039f\"], [0.2222222222222222, \"#7201a8\"], [0.3333333333333333, \"#9c179e\"], [0.4444444444444444, \"#bd3786\"], [0.5555555555555556, \"#d8576b\"], [0.6666666666666666, \"#ed7953\"], [0.7777777777777778, \"#fb9f3a\"], [0.8888888888888888, \"#fdca26\"], [1.0, \"#f0f921\"]], \"type\": \"contour\"}], \"contourcarpet\": [{\"colorbar\": {\"outlinewidth\": 0, \"ticks\": \"\"}, \"type\": \"contourcarpet\"}], \"heatmap\": [{\"colorbar\": {\"outlinewidth\": 0, \"ticks\": \"\"}, \"colorscale\": [[0.0, \"#0d0887\"], [0.1111111111111111, \"#46039f\"], [0.2222222222222222, \"#7201a8\"], [0.3333333333333333, \"#9c179e\"], [0.4444444444444444, \"#bd3786\"], [0.5555555555555556, \"#d8576b\"], [0.6666666666666666, \"#ed7953\"], [0.7777777777777778, \"#fb9f3a\"], [0.8888888888888888, \"#fdca26\"], [1.0, \"#f0f921\"]], \"type\": \"heatmap\"}], \"heatmapgl\": [{\"colorbar\": {\"outlinewidth\": 0, \"ticks\": \"\"}, \"colorscale\": [[0.0, \"#0d0887\"], [0.1111111111111111, \"#46039f\"], [0.2222222222222222, \"#7201a8\"], [0.3333333333333333, \"#9c179e\"], [0.4444444444444444, \"#bd3786\"], [0.5555555555555556, \"#d8576b\"], [0.6666666666666666, \"#ed7953\"], [0.7777777777777778, \"#fb9f3a\"], [0.8888888888888888, \"#fdca26\"], [1.0, \"#f0f921\"]], \"type\": \"heatmapgl\"}], \"histogram\": [{\"marker\": {\"colorbar\": {\"outlinewidth\": 0, \"ticks\": \"\"}}, \"type\": \"histogram\"}], \"histogram2d\": [{\"colorbar\": {\"outlinewidth\": 0, \"ticks\": \"\"}, \"colorscale\": [[0.0, \"#0d0887\"], [0.1111111111111111, \"#46039f\"], [0.2222222222222222, \"#7201a8\"], [0.3333333333333333, \"#9c179e\"], [0.4444444444444444, \"#bd3786\"], [0.5555555555555556, \"#d8576b\"], [0.6666666666666666, \"#ed7953\"], [0.7777777777777778, \"#fb9f3a\"], [0.8888888888888888, \"#fdca26\"], [1.0, \"#f0f921\"]], \"type\": \"histogram2d\"}], \"histogram2dcontour\": [{\"colorbar\": {\"outlinewidth\": 0, \"ticks\": \"\"}, \"colorscale\": [[0.0, \"#0d0887\"], [0.1111111111111111, \"#46039f\"], [0.2222222222222222, \"#7201a8\"], [0.3333333333333333, \"#9c179e\"], [0.4444444444444444, \"#bd3786\"], [0.5555555555555556, \"#d8576b\"], [0.6666666666666666, \"#ed7953\"], [0.7777777777777778, \"#fb9f3a\"], [0.8888888888888888, \"#fdca26\"], [1.0, \"#f0f921\"]], \"type\": \"histogram2dcontour\"}], \"mesh3d\": [{\"colorbar\": {\"outlinewidth\": 0, \"ticks\": \"\"}, \"type\": \"mesh3d\"}], \"parcoords\": [{\"line\": {\"colorbar\": {\"outlinewidth\": 0, \"ticks\": \"\"}}, \"type\": \"parcoords\"}], \"pie\": [{\"automargin\": true, \"type\": \"pie\"}], \"scatter\": [{\"marker\": {\"line\": {\"color\": \"#283442\"}}, \"type\": \"scatter\"}], \"scatter3d\": [{\"line\": {\"colorbar\": {\"outlinewidth\": 0, \"ticks\": \"\"}}, \"marker\": {\"colorbar\": {\"outlinewidth\": 0, \"ticks\": \"\"}}, \"type\": \"scatter3d\"}], \"scattercarpet\": [{\"marker\": {\"colorbar\": {\"outlinewidth\": 0, \"ticks\": \"\"}}, \"type\": \"scattercarpet\"}], \"scattergeo\": [{\"marker\": {\"colorbar\": {\"outlinewidth\": 0, \"ticks\": \"\"}}, \"type\": \"scattergeo\"}], \"scattergl\": [{\"marker\": {\"line\": {\"color\": \"#283442\"}}, \"type\": \"scattergl\"}], \"scattermapbox\": [{\"marker\": {\"colorbar\": {\"outlinewidth\": 0, \"ticks\": \"\"}}, \"type\": \"scattermapbox\"}], \"scatterpolar\": [{\"marker\": {\"colorbar\": {\"outlinewidth\": 0, \"ticks\": \"\"}}, \"type\": \"scatterpolar\"}], \"scatterpolargl\": [{\"marker\": {\"colorbar\": {\"outlinewidth\": 0, \"ticks\": \"\"}}, \"type\": \"scatterpolargl\"}], \"scatterternary\": [{\"marker\": {\"colorbar\": {\"outlinewidth\": 0, \"ticks\": \"\"}}, \"type\": \"scatterternary\"}], \"surface\": [{\"colorbar\": {\"outlinewidth\": 0, \"ticks\": \"\"}, \"colorscale\": [[0.0, \"#0d0887\"], [0.1111111111111111, \"#46039f\"], [0.2222222222222222, \"#7201a8\"], [0.3333333333333333, \"#9c179e\"], [0.4444444444444444, \"#bd3786\"], [0.5555555555555556, \"#d8576b\"], [0.6666666666666666, \"#ed7953\"], [0.7777777777777778, \"#fb9f3a\"], [0.8888888888888888, \"#fdca26\"], [1.0, \"#f0f921\"]], \"type\": \"surface\"}], \"table\": [{\"cells\": {\"fill\": {\"color\": \"#506784\"}, \"line\": {\"color\": \"rgb(17,17,17)\"}}, \"header\": {\"fill\": {\"color\": \"#2a3f5f\"}, \"line\": {\"color\": \"rgb(17,17,17)\"}}, \"type\": \"table\"}]}, \"layout\": {\"annotationdefaults\": {\"arrowcolor\": \"#f2f5fa\", \"arrowhead\": 0, \"arrowwidth\": 1}, \"coloraxis\": {\"colorbar\": {\"outlinewidth\": 0, \"ticks\": \"\"}}, \"colorscale\": {\"diverging\": [[0, \"#8e0152\"], [0.1, \"#c51b7d\"], [0.2, \"#de77ae\"], [0.3, \"#f1b6da\"], [0.4, \"#fde0ef\"], [0.5, \"#f7f7f7\"], [0.6, \"#e6f5d0\"], [0.7, \"#b8e186\"], [0.8, \"#7fbc41\"], [0.9, \"#4d9221\"], [1, \"#276419\"]], \"sequential\": [[0.0, \"#0d0887\"], [0.1111111111111111, \"#46039f\"], [0.2222222222222222, \"#7201a8\"], [0.3333333333333333, \"#9c179e\"], [0.4444444444444444, \"#bd3786\"], [0.5555555555555556, \"#d8576b\"], [0.6666666666666666, \"#ed7953\"], [0.7777777777777778, \"#fb9f3a\"], [0.8888888888888888, \"#fdca26\"], [1.0, \"#f0f921\"]], \"sequentialminus\": [[0.0, \"#0d0887\"], [0.1111111111111111, \"#46039f\"], [0.2222222222222222, \"#7201a8\"], [0.3333333333333333, \"#9c179e\"], [0.4444444444444444, \"#bd3786\"], [0.5555555555555556, \"#d8576b\"], [0.6666666666666666, \"#ed7953\"], [0.7777777777777778, \"#fb9f3a\"], [0.8888888888888888, \"#fdca26\"], [1.0, \"#f0f921\"]]}, \"colorway\": [\"#636efa\", \"#EF553B\", \"#00cc96\", \"#ab63fa\", \"#FFA15A\", \"#19d3f3\", \"#FF6692\", \"#B6E880\", \"#FF97FF\", \"#FECB52\"], \"font\": {\"color\": \"#f2f5fa\"}, \"geo\": {\"bgcolor\": \"rgb(17,17,17)\", \"lakecolor\": \"rgb(17,17,17)\", \"landcolor\": \"rgb(17,17,17)\", \"showlakes\": true, \"showland\": true, \"subunitcolor\": \"#506784\"}, \"hoverlabel\": {\"align\": \"left\"}, \"hovermode\": \"closest\", \"mapbox\": {\"style\": \"dark\"}, \"paper_bgcolor\": \"rgb(17,17,17)\", \"plot_bgcolor\": \"rgb(17,17,17)\", \"polar\": {\"angularaxis\": {\"gridcolor\": \"#506784\", \"linecolor\": \"#506784\", \"ticks\": \"\"}, \"bgcolor\": \"rgb(17,17,17)\", \"radialaxis\": {\"gridcolor\": \"#506784\", \"linecolor\": \"#506784\", \"ticks\": \"\"}}, \"scene\": {\"xaxis\": {\"backgroundcolor\": \"rgb(17,17,17)\", \"gridcolor\": \"#506784\", \"gridwidth\": 2, \"linecolor\": \"#506784\", \"showbackground\": true, \"ticks\": \"\", \"zerolinecolor\": \"#C8D4E3\"}, \"yaxis\": {\"backgroundcolor\": \"rgb(17,17,17)\", \"gridcolor\": \"#506784\", \"gridwidth\": 2, \"linecolor\": \"#506784\", \"showbackground\": true, \"ticks\": \"\", \"zerolinecolor\": \"#C8D4E3\"}, \"zaxis\": {\"backgroundcolor\": \"rgb(17,17,17)\", \"gridcolor\": \"#506784\", \"gridwidth\": 2, \"linecolor\": \"#506784\", \"showbackground\": true, \"ticks\": \"\", \"zerolinecolor\": \"#C8D4E3\"}}, \"shapedefaults\": {\"line\": {\"color\": \"#f2f5fa\"}}, \"sliderdefaults\": {\"bgcolor\": \"#C8D4E3\", \"bordercolor\": \"rgb(17,17,17)\", \"borderwidth\": 1, \"tickwidth\": 0}, \"ternary\": {\"aaxis\": {\"gridcolor\": \"#506784\", \"linecolor\": \"#506784\", \"ticks\": \"\"}, \"baxis\": {\"gridcolor\": \"#506784\", \"linecolor\": \"#506784\", \"ticks\": \"\"}, \"bgcolor\": \"rgb(17,17,17)\", \"caxis\": {\"gridcolor\": \"#506784\", \"linecolor\": \"#506784\", \"ticks\": \"\"}}, \"title\": {\"x\": 0.05}, \"updatemenudefaults\": {\"bgcolor\": \"#506784\", \"borderwidth\": 0}, \"xaxis\": {\"automargin\": true, \"gridcolor\": \"#283442\", \"linecolor\": \"#506784\", \"ticks\": \"\", \"title\": {\"standoff\": 15}, \"zerolinecolor\": \"#283442\", \"zerolinewidth\": 2}, \"yaxis\": {\"automargin\": true, \"gridcolor\": \"#283442\", \"linecolor\": \"#506784\", \"ticks\": \"\", \"title\": {\"standoff\": 15}, \"zerolinecolor\": \"#283442\", \"zerolinewidth\": 2}}}, \"title\": {\"text\": \"Inside Forward - Attack\"}, \"xaxis\": {\"anchor\": \"y\", \"domain\": [0.0, 1.0], \"title\": {\"text\": \"Gls/90\"}}, \"yaxis\": {\"anchor\": \"x\", \"domain\": [0.0, 1.0], \"title\": {\"text\": \"Ch C/90\"}}},\n",
       "                        {\"responsive\": true}\n",
       "                    ).then(function(){\n",
       "                            \n",
       "var gd = document.getElementById('6836ecee-6863-4fd9-9c75-789d35649ebf');\n",
       "var x = new MutationObserver(function (mutations, observer) {{\n",
       "        var display = window.getComputedStyle(gd).display;\n",
       "        if (!display || display === 'none') {{\n",
       "            console.log([gd, 'removed!']);\n",
       "            Plotly.purge(gd);\n",
       "            observer.disconnect();\n",
       "        }}\n",
       "}});\n",
       "\n",
       "// Listen for the removal of the full notebook cells\n",
       "var notebookContainer = gd.closest('#notebook-container');\n",
       "if (notebookContainer) {{\n",
       "    x.observe(notebookContainer, {childList: true});\n",
       "}}\n",
       "\n",
       "// Listen for the clearing of the current output cell\n",
       "var outputEl = gd.closest('.output');\n",
       "if (outputEl) {{\n",
       "    x.observe(outputEl, {childList: true});\n",
       "}}\n",
       "\n",
       "                        })\n",
       "                };\n",
       "                });\n",
       "            </script>\n",
       "        </div>"
      ]
     },
     "metadata": {},
     "output_type": "display_data"
    }
   ],
   "source": [
    "fig = px.scatter(df1, x=\"Gls/90\", y=\"Ch C/90\", text=\"Name\", log_x=False, size_max=60)\n",
    "fig.update_traces(textposition='top center')\n",
    "fig.update_layout(\n",
    "    height=500,\n",
    "   )\n",
    "for template in [\"plotly_dark\"]:\n",
    "    fig.update_layout(template=template, title=\"Inside Forward - Attack\")\n",
    "fig.show()\n"
   ]
  },
  {
   "cell_type": "code",
   "execution_count": 23,
   "metadata": {},
   "outputs": [
    {
     "name": "stdout",
     "output_type": "stream",
     "text": [
      "False Nine\n"
     ]
    },
    {
     "data": {
      "text/html": [
       "<style  type=\"text/css\" >\n",
       "    #T_e365c0fc_92c6_11ea_83e6_10bf483492darow0_col1 {\n",
       "            background-color:  #f7fbff;\n",
       "            color:  #000000;\n",
       "        }    #T_e365c0fc_92c6_11ea_83e6_10bf483492darow0_col2 {\n",
       "            background-color:  #94c4df;\n",
       "            color:  #000000;\n",
       "        }    #T_e365c0fc_92c6_11ea_83e6_10bf483492darow0_col3 {\n",
       "            background-color:  #c6dbef;\n",
       "            color:  #000000;\n",
       "        }    #T_e365c0fc_92c6_11ea_83e6_10bf483492darow0_col4 {\n",
       "            background-color:  #9dcae1;\n",
       "            color:  #000000;\n",
       "        }    #T_e365c0fc_92c6_11ea_83e6_10bf483492darow0_col5 {\n",
       "            background-color:  #08306b;\n",
       "            color:  #f1f1f1;\n",
       "        }    #T_e365c0fc_92c6_11ea_83e6_10bf483492darow0_col6 {\n",
       "            background-color:  #4a98c9;\n",
       "            color:  #000000;\n",
       "        }    #T_e365c0fc_92c6_11ea_83e6_10bf483492darow0_col7 {\n",
       "            background-color:  #08306b;\n",
       "            color:  #f1f1f1;\n",
       "        }    #T_e365c0fc_92c6_11ea_83e6_10bf483492darow0_col8 {\n",
       "            background-color:  #2070b4;\n",
       "            color:  #f1f1f1;\n",
       "        }    #T_e365c0fc_92c6_11ea_83e6_10bf483492darow0_col9 {\n",
       "            background-color:  #3787c0;\n",
       "            color:  #000000;\n",
       "        }    #T_e365c0fc_92c6_11ea_83e6_10bf483492darow0_col10 {\n",
       "            background-color:  #bad6eb;\n",
       "            color:  #000000;\n",
       "        }    #T_e365c0fc_92c6_11ea_83e6_10bf483492darow0_col11 {\n",
       "            background-color:  #4a98c9;\n",
       "            color:  #000000;\n",
       "        }    #T_e365c0fc_92c6_11ea_83e6_10bf483492darow0_col12 {\n",
       "            background-color:  #08306b;\n",
       "            color:  #f1f1f1;\n",
       "        }    #T_e365c0fc_92c6_11ea_83e6_10bf483492darow1_col1 {\n",
       "            background-color:  #08306b;\n",
       "            color:  #f1f1f1;\n",
       "        }    #T_e365c0fc_92c6_11ea_83e6_10bf483492darow1_col2 {\n",
       "            background-color:  #94c4df;\n",
       "            color:  #000000;\n",
       "        }    #T_e365c0fc_92c6_11ea_83e6_10bf483492darow1_col3 {\n",
       "            background-color:  #f7fbff;\n",
       "            color:  #000000;\n",
       "        }    #T_e365c0fc_92c6_11ea_83e6_10bf483492darow1_col4 {\n",
       "            background-color:  #9dcae1;\n",
       "            color:  #000000;\n",
       "        }    #T_e365c0fc_92c6_11ea_83e6_10bf483492darow1_col5 {\n",
       "            background-color:  #89bedc;\n",
       "            color:  #000000;\n",
       "        }    #T_e365c0fc_92c6_11ea_83e6_10bf483492darow1_col6 {\n",
       "            background-color:  #08306b;\n",
       "            color:  #f1f1f1;\n",
       "        }    #T_e365c0fc_92c6_11ea_83e6_10bf483492darow1_col7 {\n",
       "            background-color:  #1764ab;\n",
       "            color:  #f1f1f1;\n",
       "        }    #T_e365c0fc_92c6_11ea_83e6_10bf483492darow1_col8 {\n",
       "            background-color:  #2070b4;\n",
       "            color:  #f1f1f1;\n",
       "        }    #T_e365c0fc_92c6_11ea_83e6_10bf483492darow1_col9 {\n",
       "            background-color:  #d6e6f4;\n",
       "            color:  #000000;\n",
       "        }    #T_e365c0fc_92c6_11ea_83e6_10bf483492darow1_col10 {\n",
       "            background-color:  #2b7bba;\n",
       "            color:  #000000;\n",
       "        }    #T_e365c0fc_92c6_11ea_83e6_10bf483492darow1_col11 {\n",
       "            background-color:  #94c4df;\n",
       "            color:  #000000;\n",
       "        }    #T_e365c0fc_92c6_11ea_83e6_10bf483492darow1_col12 {\n",
       "            background-color:  #6aaed6;\n",
       "            color:  #000000;\n",
       "        }    #T_e365c0fc_92c6_11ea_83e6_10bf483492darow2_col1 {\n",
       "            background-color:  #08306b;\n",
       "            color:  #f1f1f1;\n",
       "        }    #T_e365c0fc_92c6_11ea_83e6_10bf483492darow2_col2 {\n",
       "            background-color:  #08306b;\n",
       "            color:  #f1f1f1;\n",
       "        }    #T_e365c0fc_92c6_11ea_83e6_10bf483492darow2_col3 {\n",
       "            background-color:  #f7fbff;\n",
       "            color:  #000000;\n",
       "        }    #T_e365c0fc_92c6_11ea_83e6_10bf483492darow2_col4 {\n",
       "            background-color:  #9dcae1;\n",
       "            color:  #000000;\n",
       "        }    #T_e365c0fc_92c6_11ea_83e6_10bf483492darow2_col5 {\n",
       "            background-color:  #2b7bba;\n",
       "            color:  #000000;\n",
       "        }    #T_e365c0fc_92c6_11ea_83e6_10bf483492darow2_col6 {\n",
       "            background-color:  #94c4df;\n",
       "            color:  #000000;\n",
       "        }    #T_e365c0fc_92c6_11ea_83e6_10bf483492darow2_col7 {\n",
       "            background-color:  #94c4df;\n",
       "            color:  #000000;\n",
       "        }    #T_e365c0fc_92c6_11ea_83e6_10bf483492darow2_col8 {\n",
       "            background-color:  #2070b4;\n",
       "            color:  #f1f1f1;\n",
       "        }    #T_e365c0fc_92c6_11ea_83e6_10bf483492darow2_col9 {\n",
       "            background-color:  #abd0e6;\n",
       "            color:  #000000;\n",
       "        }    #T_e365c0fc_92c6_11ea_83e6_10bf483492darow2_col10 {\n",
       "            background-color:  #539ecd;\n",
       "            color:  #000000;\n",
       "        }    #T_e365c0fc_92c6_11ea_83e6_10bf483492darow2_col11 {\n",
       "            background-color:  #94c4df;\n",
       "            color:  #000000;\n",
       "        }    #T_e365c0fc_92c6_11ea_83e6_10bf483492darow2_col12 {\n",
       "            background-color:  #6aaed6;\n",
       "            color:  #000000;\n",
       "        }    #T_e365c0fc_92c6_11ea_83e6_10bf483492darow3_col1 {\n",
       "            background-color:  #4a98c9;\n",
       "            color:  #000000;\n",
       "        }    #T_e365c0fc_92c6_11ea_83e6_10bf483492darow3_col2 {\n",
       "            background-color:  #d0e1f2;\n",
       "            color:  #000000;\n",
       "        }    #T_e365c0fc_92c6_11ea_83e6_10bf483492darow3_col3 {\n",
       "            background-color:  #2070b4;\n",
       "            color:  #f1f1f1;\n",
       "        }    #T_e365c0fc_92c6_11ea_83e6_10bf483492darow3_col4 {\n",
       "            background-color:  #4191c6;\n",
       "            color:  #000000;\n",
       "        }    #T_e365c0fc_92c6_11ea_83e6_10bf483492darow3_col5 {\n",
       "            background-color:  #539ecd;\n",
       "            color:  #000000;\n",
       "        }    #T_e365c0fc_92c6_11ea_83e6_10bf483492darow3_col6 {\n",
       "            background-color:  #94c4df;\n",
       "            color:  #000000;\n",
       "        }    #T_e365c0fc_92c6_11ea_83e6_10bf483492darow3_col7 {\n",
       "            background-color:  #f7fbff;\n",
       "            color:  #000000;\n",
       "        }    #T_e365c0fc_92c6_11ea_83e6_10bf483492darow3_col8 {\n",
       "            background-color:  #6aaed6;\n",
       "            color:  #000000;\n",
       "        }    #T_e365c0fc_92c6_11ea_83e6_10bf483492darow3_col9 {\n",
       "            background-color:  #3787c0;\n",
       "            color:  #000000;\n",
       "        }    #T_e365c0fc_92c6_11ea_83e6_10bf483492darow3_col10 {\n",
       "            background-color:  #89bedc;\n",
       "            color:  #000000;\n",
       "        }    #T_e365c0fc_92c6_11ea_83e6_10bf483492darow3_col11 {\n",
       "            background-color:  #4a98c9;\n",
       "            color:  #000000;\n",
       "        }    #T_e365c0fc_92c6_11ea_83e6_10bf483492darow3_col12 {\n",
       "            background-color:  #94c4df;\n",
       "            color:  #000000;\n",
       "        }    #T_e365c0fc_92c6_11ea_83e6_10bf483492darow4_col1 {\n",
       "            background-color:  #d0e1f2;\n",
       "            color:  #000000;\n",
       "        }    #T_e365c0fc_92c6_11ea_83e6_10bf483492darow4_col2 {\n",
       "            background-color:  #4a98c9;\n",
       "            color:  #000000;\n",
       "        }    #T_e365c0fc_92c6_11ea_83e6_10bf483492darow4_col3 {\n",
       "            background-color:  #08306b;\n",
       "            color:  #f1f1f1;\n",
       "        }    #T_e365c0fc_92c6_11ea_83e6_10bf483492darow4_col4 {\n",
       "            background-color:  #f7fbff;\n",
       "            color:  #000000;\n",
       "        }    #T_e365c0fc_92c6_11ea_83e6_10bf483492darow4_col5 {\n",
       "            background-color:  #bad6eb;\n",
       "            color:  #000000;\n",
       "        }    #T_e365c0fc_92c6_11ea_83e6_10bf483492darow4_col6 {\n",
       "            background-color:  #f7fbff;\n",
       "            color:  #000000;\n",
       "        }    #T_e365c0fc_92c6_11ea_83e6_10bf483492darow4_col7 {\n",
       "            background-color:  #1764ab;\n",
       "            color:  #f1f1f1;\n",
       "        }    #T_e365c0fc_92c6_11ea_83e6_10bf483492darow4_col8 {\n",
       "            background-color:  #08306b;\n",
       "            color:  #f1f1f1;\n",
       "        }    #T_e365c0fc_92c6_11ea_83e6_10bf483492darow4_col9 {\n",
       "            background-color:  #105ba4;\n",
       "            color:  #f1f1f1;\n",
       "        }    #T_e365c0fc_92c6_11ea_83e6_10bf483492darow4_col10 {\n",
       "            background-color:  #89bedc;\n",
       "            color:  #000000;\n",
       "        }    #T_e365c0fc_92c6_11ea_83e6_10bf483492darow4_col11 {\n",
       "            background-color:  #94c4df;\n",
       "            color:  #000000;\n",
       "        }    #T_e365c0fc_92c6_11ea_83e6_10bf483492darow4_col12 {\n",
       "            background-color:  #94c4df;\n",
       "            color:  #000000;\n",
       "        }    #T_e365c0fc_92c6_11ea_83e6_10bf483492darow5_col1 {\n",
       "            background-color:  #f7fbff;\n",
       "            color:  #000000;\n",
       "        }    #T_e365c0fc_92c6_11ea_83e6_10bf483492darow5_col2 {\n",
       "            background-color:  #4a98c9;\n",
       "            color:  #000000;\n",
       "        }    #T_e365c0fc_92c6_11ea_83e6_10bf483492darow5_col3 {\n",
       "            background-color:  #2070b4;\n",
       "            color:  #f1f1f1;\n",
       "        }    #T_e365c0fc_92c6_11ea_83e6_10bf483492darow5_col4 {\n",
       "            background-color:  #f7fbff;\n",
       "            color:  #000000;\n",
       "        }    #T_e365c0fc_92c6_11ea_83e6_10bf483492darow5_col5 {\n",
       "            background-color:  #2b7bba;\n",
       "            color:  #000000;\n",
       "        }    #T_e365c0fc_92c6_11ea_83e6_10bf483492darow5_col6 {\n",
       "            background-color:  #94c4df;\n",
       "            color:  #000000;\n",
       "        }    #T_e365c0fc_92c6_11ea_83e6_10bf483492darow5_col7 {\n",
       "            background-color:  #d0e1f2;\n",
       "            color:  #000000;\n",
       "        }    #T_e365c0fc_92c6_11ea_83e6_10bf483492darow5_col8 {\n",
       "            background-color:  #c6dbef;\n",
       "            color:  #000000;\n",
       "        }    #T_e365c0fc_92c6_11ea_83e6_10bf483492darow5_col9 {\n",
       "            background-color:  #f7fbff;\n",
       "            color:  #000000;\n",
       "        }    #T_e365c0fc_92c6_11ea_83e6_10bf483492darow5_col10 {\n",
       "            background-color:  #0b559f;\n",
       "            color:  #f1f1f1;\n",
       "        }    #T_e365c0fc_92c6_11ea_83e6_10bf483492darow5_col11 {\n",
       "            background-color:  #08306b;\n",
       "            color:  #f1f1f1;\n",
       "        }    #T_e365c0fc_92c6_11ea_83e6_10bf483492darow5_col12 {\n",
       "            background-color:  #b7d4ea;\n",
       "            color:  #000000;\n",
       "        }    #T_e365c0fc_92c6_11ea_83e6_10bf483492darow6_col1 {\n",
       "            background-color:  #d0e1f2;\n",
       "            color:  #000000;\n",
       "        }    #T_e365c0fc_92c6_11ea_83e6_10bf483492darow6_col2 {\n",
       "            background-color:  #d0e1f2;\n",
       "            color:  #000000;\n",
       "        }    #T_e365c0fc_92c6_11ea_83e6_10bf483492darow6_col3 {\n",
       "            background-color:  #2070b4;\n",
       "            color:  #f1f1f1;\n",
       "        }    #T_e365c0fc_92c6_11ea_83e6_10bf483492darow6_col4 {\n",
       "            background-color:  #08306b;\n",
       "            color:  #f1f1f1;\n",
       "        }    #T_e365c0fc_92c6_11ea_83e6_10bf483492darow6_col5 {\n",
       "            background-color:  #f7fbff;\n",
       "            color:  #000000;\n",
       "        }    #T_e365c0fc_92c6_11ea_83e6_10bf483492darow6_col6 {\n",
       "            background-color:  #94c4df;\n",
       "            color:  #000000;\n",
       "        }    #T_e365c0fc_92c6_11ea_83e6_10bf483492darow6_col7 {\n",
       "            background-color:  #f7fbff;\n",
       "            color:  #000000;\n",
       "        }    #T_e365c0fc_92c6_11ea_83e6_10bf483492darow6_col8 {\n",
       "            background-color:  #08306b;\n",
       "            color:  #f1f1f1;\n",
       "        }    #T_e365c0fc_92c6_11ea_83e6_10bf483492darow6_col9 {\n",
       "            background-color:  #08306b;\n",
       "            color:  #f1f1f1;\n",
       "        }    #T_e365c0fc_92c6_11ea_83e6_10bf483492darow6_col10 {\n",
       "            background-color:  #f7fbff;\n",
       "            color:  #000000;\n",
       "        }    #T_e365c0fc_92c6_11ea_83e6_10bf483492darow6_col11 {\n",
       "            background-color:  #94c4df;\n",
       "            color:  #000000;\n",
       "        }    #T_e365c0fc_92c6_11ea_83e6_10bf483492darow6_col12 {\n",
       "            background-color:  #b7d4ea;\n",
       "            color:  #000000;\n",
       "        }    #T_e365c0fc_92c6_11ea_83e6_10bf483492darow7_col1 {\n",
       "            background-color:  #1764ab;\n",
       "            color:  #f1f1f1;\n",
       "        }    #T_e365c0fc_92c6_11ea_83e6_10bf483492darow7_col2 {\n",
       "            background-color:  #1764ab;\n",
       "            color:  #f1f1f1;\n",
       "        }    #T_e365c0fc_92c6_11ea_83e6_10bf483492darow7_col3 {\n",
       "            background-color:  #f7fbff;\n",
       "            color:  #000000;\n",
       "        }    #T_e365c0fc_92c6_11ea_83e6_10bf483492darow7_col4 {\n",
       "            background-color:  #2070b4;\n",
       "            color:  #f1f1f1;\n",
       "        }    #T_e365c0fc_92c6_11ea_83e6_10bf483492darow7_col5 {\n",
       "            background-color:  #f7fbff;\n",
       "            color:  #000000;\n",
       "        }    #T_e365c0fc_92c6_11ea_83e6_10bf483492darow7_col6 {\n",
       "            background-color:  #d0e1f2;\n",
       "            color:  #000000;\n",
       "        }    #T_e365c0fc_92c6_11ea_83e6_10bf483492darow7_col7 {\n",
       "            background-color:  #4a98c9;\n",
       "            color:  #000000;\n",
       "        }    #T_e365c0fc_92c6_11ea_83e6_10bf483492darow7_col8 {\n",
       "            background-color:  #6aaed6;\n",
       "            color:  #000000;\n",
       "        }    #T_e365c0fc_92c6_11ea_83e6_10bf483492darow7_col9 {\n",
       "            background-color:  #abd0e6;\n",
       "            color:  #000000;\n",
       "        }    #T_e365c0fc_92c6_11ea_83e6_10bf483492darow7_col10 {\n",
       "            background-color:  #08306b;\n",
       "            color:  #f1f1f1;\n",
       "        }    #T_e365c0fc_92c6_11ea_83e6_10bf483492darow7_col11 {\n",
       "            background-color:  #d0e1f2;\n",
       "            color:  #000000;\n",
       "        }    #T_e365c0fc_92c6_11ea_83e6_10bf483492darow7_col12 {\n",
       "            background-color:  #b7d4ea;\n",
       "            color:  #000000;\n",
       "        }    #T_e365c0fc_92c6_11ea_83e6_10bf483492darow8_col1 {\n",
       "            background-color:  #d0e1f2;\n",
       "            color:  #000000;\n",
       "        }    #T_e365c0fc_92c6_11ea_83e6_10bf483492darow8_col2 {\n",
       "            background-color:  #94c4df;\n",
       "            color:  #000000;\n",
       "        }    #T_e365c0fc_92c6_11ea_83e6_10bf483492darow8_col3 {\n",
       "            background-color:  #6aaed6;\n",
       "            color:  #000000;\n",
       "        }    #T_e365c0fc_92c6_11ea_83e6_10bf483492darow8_col4 {\n",
       "            background-color:  #9dcae1;\n",
       "            color:  #000000;\n",
       "        }    #T_e365c0fc_92c6_11ea_83e6_10bf483492darow8_col5 {\n",
       "            background-color:  #539ecd;\n",
       "            color:  #000000;\n",
       "        }    #T_e365c0fc_92c6_11ea_83e6_10bf483492darow8_col6 {\n",
       "            background-color:  #f7fbff;\n",
       "            color:  #000000;\n",
       "        }    #T_e365c0fc_92c6_11ea_83e6_10bf483492darow8_col7 {\n",
       "            background-color:  #1764ab;\n",
       "            color:  #f1f1f1;\n",
       "        }    #T_e365c0fc_92c6_11ea_83e6_10bf483492darow8_col8 {\n",
       "            background-color:  #6aaed6;\n",
       "            color:  #000000;\n",
       "        }    #T_e365c0fc_92c6_11ea_83e6_10bf483492darow8_col9 {\n",
       "            background-color:  #6aaed6;\n",
       "            color:  #000000;\n",
       "        }    #T_e365c0fc_92c6_11ea_83e6_10bf483492darow8_col10 {\n",
       "            background-color:  #bad6eb;\n",
       "            color:  #000000;\n",
       "        }    #T_e365c0fc_92c6_11ea_83e6_10bf483492darow8_col11 {\n",
       "            background-color:  #d0e1f2;\n",
       "            color:  #000000;\n",
       "        }    #T_e365c0fc_92c6_11ea_83e6_10bf483492darow8_col12 {\n",
       "            background-color:  #f7fbff;\n",
       "            color:  #000000;\n",
       "        }    #T_e365c0fc_92c6_11ea_83e6_10bf483492darow9_col1 {\n",
       "            background-color:  #08306b;\n",
       "            color:  #f1f1f1;\n",
       "        }    #T_e365c0fc_92c6_11ea_83e6_10bf483492darow9_col2 {\n",
       "            background-color:  #f7fbff;\n",
       "            color:  #000000;\n",
       "        }    #T_e365c0fc_92c6_11ea_83e6_10bf483492darow9_col3 {\n",
       "            background-color:  #2070b4;\n",
       "            color:  #f1f1f1;\n",
       "        }    #T_e365c0fc_92c6_11ea_83e6_10bf483492darow9_col4 {\n",
       "            background-color:  #deebf7;\n",
       "            color:  #000000;\n",
       "        }    #T_e365c0fc_92c6_11ea_83e6_10bf483492darow9_col5 {\n",
       "            background-color:  #89bedc;\n",
       "            color:  #000000;\n",
       "        }    #T_e365c0fc_92c6_11ea_83e6_10bf483492darow9_col6 {\n",
       "            background-color:  #94c4df;\n",
       "            color:  #000000;\n",
       "        }    #T_e365c0fc_92c6_11ea_83e6_10bf483492darow9_col7 {\n",
       "            background-color:  #08306b;\n",
       "            color:  #f1f1f1;\n",
       "        }    #T_e365c0fc_92c6_11ea_83e6_10bf483492darow9_col8 {\n",
       "            background-color:  #f7fbff;\n",
       "            color:  #000000;\n",
       "        }    #T_e365c0fc_92c6_11ea_83e6_10bf483492darow9_col9 {\n",
       "            background-color:  #105ba4;\n",
       "            color:  #f1f1f1;\n",
       "        }    #T_e365c0fc_92c6_11ea_83e6_10bf483492darow9_col10 {\n",
       "            background-color:  #539ecd;\n",
       "            color:  #000000;\n",
       "        }    #T_e365c0fc_92c6_11ea_83e6_10bf483492darow9_col11 {\n",
       "            background-color:  #f7fbff;\n",
       "            color:  #000000;\n",
       "        }    #T_e365c0fc_92c6_11ea_83e6_10bf483492darow9_col12 {\n",
       "            background-color:  #f7fbff;\n",
       "            color:  #000000;\n",
       "        }</style><table id=\"T_e365c0fc_92c6_11ea_83e6_10bf483492da\" ><thead>    <tr>        <th class=\"col_heading level0 col0\" >Name</th>        <th class=\"col_heading level0 col1\" >Age</th>        <th class=\"col_heading level0 col2\" >Dri</th>        <th class=\"col_heading level0 col3\" >Fir</th>        <th class=\"col_heading level0 col4\" >Pas</th>        <th class=\"col_heading level0 col5\" >Tec</th>        <th class=\"col_heading level0 col6\" >Cmp</th>        <th class=\"col_heading level0 col7\" >Dec</th>        <th class=\"col_heading level0 col8\" >OtB</th>        <th class=\"col_heading level0 col9\" >Vis</th>        <th class=\"col_heading level0 col10\" >Acc</th>        <th class=\"col_heading level0 col11\" >Agi</th>        <th class=\"col_heading level0 col12\" >f9_score</th>    </tr></thead><tbody>\n",
       "                <tr>\n",
       "                                <td id=\"T_e365c0fc_92c6_11ea_83e6_10bf483492darow0_col0\" class=\"data row0 col0\" >Pawel Muzylowski</td>\n",
       "                        <td id=\"T_e365c0fc_92c6_11ea_83e6_10bf483492darow0_col1\" class=\"data row0 col1\" >                  18</td>\n",
       "                        <td id=\"T_e365c0fc_92c6_11ea_83e6_10bf483492darow0_col2\" class=\"data row0 col2\" >12</td>\n",
       "                        <td id=\"T_e365c0fc_92c6_11ea_83e6_10bf483492darow0_col3\" class=\"data row0 col3\" >13</td>\n",
       "                        <td id=\"T_e365c0fc_92c6_11ea_83e6_10bf483492darow0_col4\" class=\"data row0 col4\" >12</td>\n",
       "                        <td id=\"T_e365c0fc_92c6_11ea_83e6_10bf483492darow0_col5\" class=\"data row0 col5\" >17</td>\n",
       "                        <td id=\"T_e365c0fc_92c6_11ea_83e6_10bf483492darow0_col6\" class=\"data row0 col6\" >13</td>\n",
       "                        <td id=\"T_e365c0fc_92c6_11ea_83e6_10bf483492darow0_col7\" class=\"data row0 col7\" >14</td>\n",
       "                        <td id=\"T_e365c0fc_92c6_11ea_83e6_10bf483492darow0_col8\" class=\"data row0 col8\" >12</td>\n",
       "                        <td id=\"T_e365c0fc_92c6_11ea_83e6_10bf483492darow0_col9\" class=\"data row0 col9\" >14</td>\n",
       "                        <td id=\"T_e365c0fc_92c6_11ea_83e6_10bf483492darow0_col10\" class=\"data row0 col10\" >11</td>\n",
       "                        <td id=\"T_e365c0fc_92c6_11ea_83e6_10bf483492darow0_col11\" class=\"data row0 col11\" >15</td>\n",
       "                        <td id=\"T_e365c0fc_92c6_11ea_83e6_10bf483492darow0_col12\" class=\"data row0 col12\" >133</td>\n",
       "            </tr>\n",
       "            <tr>\n",
       "                                <td id=\"T_e365c0fc_92c6_11ea_83e6_10bf483492darow1_col0\" class=\"data row1 col0\" >TomÃ¡s Blanco</td>\n",
       "                        <td id=\"T_e365c0fc_92c6_11ea_83e6_10bf483492darow1_col1\" class=\"data row1 col1\" >                  23</td>\n",
       "                        <td id=\"T_e365c0fc_92c6_11ea_83e6_10bf483492darow1_col2\" class=\"data row1 col2\" >12</td>\n",
       "                        <td id=\"T_e365c0fc_92c6_11ea_83e6_10bf483492darow1_col3\" class=\"data row1 col3\" >12</td>\n",
       "                        <td id=\"T_e365c0fc_92c6_11ea_83e6_10bf483492darow1_col4\" class=\"data row1 col4\" >12</td>\n",
       "                        <td id=\"T_e365c0fc_92c6_11ea_83e6_10bf483492darow1_col5\" class=\"data row1 col5\" >13</td>\n",
       "                        <td id=\"T_e365c0fc_92c6_11ea_83e6_10bf483492darow1_col6\" class=\"data row1 col6\" >15</td>\n",
       "                        <td id=\"T_e365c0fc_92c6_11ea_83e6_10bf483492darow1_col7\" class=\"data row1 col7\" >13</td>\n",
       "                        <td id=\"T_e365c0fc_92c6_11ea_83e6_10bf483492darow1_col8\" class=\"data row1 col8\" >12</td>\n",
       "                        <td id=\"T_e365c0fc_92c6_11ea_83e6_10bf483492darow1_col9\" class=\"data row1 col9\" >11</td>\n",
       "                        <td id=\"T_e365c0fc_92c6_11ea_83e6_10bf483492darow1_col10\" class=\"data row1 col10\" >14</td>\n",
       "                        <td id=\"T_e365c0fc_92c6_11ea_83e6_10bf483492darow1_col11\" class=\"data row1 col11\" >14</td>\n",
       "                        <td id=\"T_e365c0fc_92c6_11ea_83e6_10bf483492darow1_col12\" class=\"data row1 col12\" >128</td>\n",
       "            </tr>\n",
       "            <tr>\n",
       "                                <td id=\"T_e365c0fc_92c6_11ea_83e6_10bf483492darow2_col0\" class=\"data row2 col0\" >JesÃºs Vargas</td>\n",
       "                        <td id=\"T_e365c0fc_92c6_11ea_83e6_10bf483492darow2_col1\" class=\"data row2 col1\" >                  23</td>\n",
       "                        <td id=\"T_e365c0fc_92c6_11ea_83e6_10bf483492darow2_col2\" class=\"data row2 col2\" >15</td>\n",
       "                        <td id=\"T_e365c0fc_92c6_11ea_83e6_10bf483492darow2_col3\" class=\"data row2 col3\" >12</td>\n",
       "                        <td id=\"T_e365c0fc_92c6_11ea_83e6_10bf483492darow2_col4\" class=\"data row2 col4\" >12</td>\n",
       "                        <td id=\"T_e365c0fc_92c6_11ea_83e6_10bf483492darow2_col5\" class=\"data row2 col5\" >15</td>\n",
       "                        <td id=\"T_e365c0fc_92c6_11ea_83e6_10bf483492darow2_col6\" class=\"data row2 col6\" >12</td>\n",
       "                        <td id=\"T_e365c0fc_92c6_11ea_83e6_10bf483492darow2_col7\" class=\"data row2 col7\" >11</td>\n",
       "                        <td id=\"T_e365c0fc_92c6_11ea_83e6_10bf483492darow2_col8\" class=\"data row2 col8\" >12</td>\n",
       "                        <td id=\"T_e365c0fc_92c6_11ea_83e6_10bf483492darow2_col9\" class=\"data row2 col9\" >12</td>\n",
       "                        <td id=\"T_e365c0fc_92c6_11ea_83e6_10bf483492darow2_col10\" class=\"data row2 col10\" >13</td>\n",
       "                        <td id=\"T_e365c0fc_92c6_11ea_83e6_10bf483492darow2_col11\" class=\"data row2 col11\" >14</td>\n",
       "                        <td id=\"T_e365c0fc_92c6_11ea_83e6_10bf483492darow2_col12\" class=\"data row2 col12\" >128</td>\n",
       "            </tr>\n",
       "            <tr>\n",
       "                                <td id=\"T_e365c0fc_92c6_11ea_83e6_10bf483492darow3_col0\" class=\"data row3 col0\" >Can Bozdogan</td>\n",
       "                        <td id=\"T_e365c0fc_92c6_11ea_83e6_10bf483492darow3_col1\" class=\"data row3 col1\" >                  21</td>\n",
       "                        <td id=\"T_e365c0fc_92c6_11ea_83e6_10bf483492darow3_col2\" class=\"data row3 col2\" >11</td>\n",
       "                        <td id=\"T_e365c0fc_92c6_11ea_83e6_10bf483492darow3_col3\" class=\"data row3 col3\" >15</td>\n",
       "                        <td id=\"T_e365c0fc_92c6_11ea_83e6_10bf483492darow3_col4\" class=\"data row3 col4\" >14</td>\n",
       "                        <td id=\"T_e365c0fc_92c6_11ea_83e6_10bf483492darow3_col5\" class=\"data row3 col5\" >14</td>\n",
       "                        <td id=\"T_e365c0fc_92c6_11ea_83e6_10bf483492darow3_col6\" class=\"data row3 col6\" >12</td>\n",
       "                        <td id=\"T_e365c0fc_92c6_11ea_83e6_10bf483492darow3_col7\" class=\"data row3 col7\" >9</td>\n",
       "                        <td id=\"T_e365c0fc_92c6_11ea_83e6_10bf483492darow3_col8\" class=\"data row3 col8\" >11</td>\n",
       "                        <td id=\"T_e365c0fc_92c6_11ea_83e6_10bf483492darow3_col9\" class=\"data row3 col9\" >14</td>\n",
       "                        <td id=\"T_e365c0fc_92c6_11ea_83e6_10bf483492darow3_col10\" class=\"data row3 col10\" >12</td>\n",
       "                        <td id=\"T_e365c0fc_92c6_11ea_83e6_10bf483492darow3_col11\" class=\"data row3 col11\" >15</td>\n",
       "                        <td id=\"T_e365c0fc_92c6_11ea_83e6_10bf483492darow3_col12\" class=\"data row3 col12\" >127</td>\n",
       "            </tr>\n",
       "            <tr>\n",
       "                                <td id=\"T_e365c0fc_92c6_11ea_83e6_10bf483492darow4_col0\" class=\"data row4 col0\" >Adrian Å¢apu</td>\n",
       "                        <td id=\"T_e365c0fc_92c6_11ea_83e6_10bf483492darow4_col1\" class=\"data row4 col1\" >                  19</td>\n",
       "                        <td id=\"T_e365c0fc_92c6_11ea_83e6_10bf483492darow4_col2\" class=\"data row4 col2\" >13</td>\n",
       "                        <td id=\"T_e365c0fc_92c6_11ea_83e6_10bf483492darow4_col3\" class=\"data row4 col3\" >16</td>\n",
       "                        <td id=\"T_e365c0fc_92c6_11ea_83e6_10bf483492darow4_col4\" class=\"data row4 col4\" >9</td>\n",
       "                        <td id=\"T_e365c0fc_92c6_11ea_83e6_10bf483492darow4_col5\" class=\"data row4 col5\" >12</td>\n",
       "                        <td id=\"T_e365c0fc_92c6_11ea_83e6_10bf483492darow4_col6\" class=\"data row4 col6\" >10</td>\n",
       "                        <td id=\"T_e365c0fc_92c6_11ea_83e6_10bf483492darow4_col7\" class=\"data row4 col7\" >13</td>\n",
       "                        <td id=\"T_e365c0fc_92c6_11ea_83e6_10bf483492darow4_col8\" class=\"data row4 col8\" >13</td>\n",
       "                        <td id=\"T_e365c0fc_92c6_11ea_83e6_10bf483492darow4_col9\" class=\"data row4 col9\" >15</td>\n",
       "                        <td id=\"T_e365c0fc_92c6_11ea_83e6_10bf483492darow4_col10\" class=\"data row4 col10\" >12</td>\n",
       "                        <td id=\"T_e365c0fc_92c6_11ea_83e6_10bf483492darow4_col11\" class=\"data row4 col11\" >14</td>\n",
       "                        <td id=\"T_e365c0fc_92c6_11ea_83e6_10bf483492darow4_col12\" class=\"data row4 col12\" >127</td>\n",
       "            </tr>\n",
       "            <tr>\n",
       "                                <td id=\"T_e365c0fc_92c6_11ea_83e6_10bf483492darow5_col0\" class=\"data row5 col0\" >Filipe Cerqueira</td>\n",
       "                        <td id=\"T_e365c0fc_92c6_11ea_83e6_10bf483492darow5_col1\" class=\"data row5 col1\" >                  18</td>\n",
       "                        <td id=\"T_e365c0fc_92c6_11ea_83e6_10bf483492darow5_col2\" class=\"data row5 col2\" >13</td>\n",
       "                        <td id=\"T_e365c0fc_92c6_11ea_83e6_10bf483492darow5_col3\" class=\"data row5 col3\" >15</td>\n",
       "                        <td id=\"T_e365c0fc_92c6_11ea_83e6_10bf483492darow5_col4\" class=\"data row5 col4\" >9</td>\n",
       "                        <td id=\"T_e365c0fc_92c6_11ea_83e6_10bf483492darow5_col5\" class=\"data row5 col5\" >15</td>\n",
       "                        <td id=\"T_e365c0fc_92c6_11ea_83e6_10bf483492darow5_col6\" class=\"data row5 col6\" >12</td>\n",
       "                        <td id=\"T_e365c0fc_92c6_11ea_83e6_10bf483492darow5_col7\" class=\"data row5 col7\" >10</td>\n",
       "                        <td id=\"T_e365c0fc_92c6_11ea_83e6_10bf483492darow5_col8\" class=\"data row5 col8\" >10</td>\n",
       "                        <td id=\"T_e365c0fc_92c6_11ea_83e6_10bf483492darow5_col9\" class=\"data row5 col9\" >10</td>\n",
       "                        <td id=\"T_e365c0fc_92c6_11ea_83e6_10bf483492darow5_col10\" class=\"data row5 col10\" >15</td>\n",
       "                        <td id=\"T_e365c0fc_92c6_11ea_83e6_10bf483492darow5_col11\" class=\"data row5 col11\" >17</td>\n",
       "                        <td id=\"T_e365c0fc_92c6_11ea_83e6_10bf483492darow5_col12\" class=\"data row5 col12\" >126</td>\n",
       "            </tr>\n",
       "            <tr>\n",
       "                                <td id=\"T_e365c0fc_92c6_11ea_83e6_10bf483492darow6_col0\" class=\"data row6 col0\" >Predrag Jovic</td>\n",
       "                        <td id=\"T_e365c0fc_92c6_11ea_83e6_10bf483492darow6_col1\" class=\"data row6 col1\" >                  19</td>\n",
       "                        <td id=\"T_e365c0fc_92c6_11ea_83e6_10bf483492darow6_col2\" class=\"data row6 col2\" >11</td>\n",
       "                        <td id=\"T_e365c0fc_92c6_11ea_83e6_10bf483492darow6_col3\" class=\"data row6 col3\" >15</td>\n",
       "                        <td id=\"T_e365c0fc_92c6_11ea_83e6_10bf483492darow6_col4\" class=\"data row6 col4\" >17</td>\n",
       "                        <td id=\"T_e365c0fc_92c6_11ea_83e6_10bf483492darow6_col5\" class=\"data row6 col5\" >10</td>\n",
       "                        <td id=\"T_e365c0fc_92c6_11ea_83e6_10bf483492darow6_col6\" class=\"data row6 col6\" >12</td>\n",
       "                        <td id=\"T_e365c0fc_92c6_11ea_83e6_10bf483492darow6_col7\" class=\"data row6 col7\" >9</td>\n",
       "                        <td id=\"T_e365c0fc_92c6_11ea_83e6_10bf483492darow6_col8\" class=\"data row6 col8\" >13</td>\n",
       "                        <td id=\"T_e365c0fc_92c6_11ea_83e6_10bf483492darow6_col9\" class=\"data row6 col9\" >16</td>\n",
       "                        <td id=\"T_e365c0fc_92c6_11ea_83e6_10bf483492darow6_col10\" class=\"data row6 col10\" >9</td>\n",
       "                        <td id=\"T_e365c0fc_92c6_11ea_83e6_10bf483492darow6_col11\" class=\"data row6 col11\" >14</td>\n",
       "                        <td id=\"T_e365c0fc_92c6_11ea_83e6_10bf483492darow6_col12\" class=\"data row6 col12\" >126</td>\n",
       "            </tr>\n",
       "            <tr>\n",
       "                                <td id=\"T_e365c0fc_92c6_11ea_83e6_10bf483492darow7_col0\" class=\"data row7 col0\" >Semih Åahin</td>\n",
       "                        <td id=\"T_e365c0fc_92c6_11ea_83e6_10bf483492darow7_col1\" class=\"data row7 col1\" >                  22</td>\n",
       "                        <td id=\"T_e365c0fc_92c6_11ea_83e6_10bf483492darow7_col2\" class=\"data row7 col2\" >14</td>\n",
       "                        <td id=\"T_e365c0fc_92c6_11ea_83e6_10bf483492darow7_col3\" class=\"data row7 col3\" >12</td>\n",
       "                        <td id=\"T_e365c0fc_92c6_11ea_83e6_10bf483492darow7_col4\" class=\"data row7 col4\" >15</td>\n",
       "                        <td id=\"T_e365c0fc_92c6_11ea_83e6_10bf483492darow7_col5\" class=\"data row7 col5\" >10</td>\n",
       "                        <td id=\"T_e365c0fc_92c6_11ea_83e6_10bf483492darow7_col6\" class=\"data row7 col6\" >11</td>\n",
       "                        <td id=\"T_e365c0fc_92c6_11ea_83e6_10bf483492darow7_col7\" class=\"data row7 col7\" >12</td>\n",
       "                        <td id=\"T_e365c0fc_92c6_11ea_83e6_10bf483492darow7_col8\" class=\"data row7 col8\" >11</td>\n",
       "                        <td id=\"T_e365c0fc_92c6_11ea_83e6_10bf483492darow7_col9\" class=\"data row7 col9\" >12</td>\n",
       "                        <td id=\"T_e365c0fc_92c6_11ea_83e6_10bf483492darow7_col10\" class=\"data row7 col10\" >16</td>\n",
       "                        <td id=\"T_e365c0fc_92c6_11ea_83e6_10bf483492darow7_col11\" class=\"data row7 col11\" >13</td>\n",
       "                        <td id=\"T_e365c0fc_92c6_11ea_83e6_10bf483492darow7_col12\" class=\"data row7 col12\" >126</td>\n",
       "            </tr>\n",
       "            <tr>\n",
       "                                <td id=\"T_e365c0fc_92c6_11ea_83e6_10bf483492darow8_col0\" class=\"data row8 col0\" >Martin Baturina</td>\n",
       "                        <td id=\"T_e365c0fc_92c6_11ea_83e6_10bf483492darow8_col1\" class=\"data row8 col1\" >                  19</td>\n",
       "                        <td id=\"T_e365c0fc_92c6_11ea_83e6_10bf483492darow8_col2\" class=\"data row8 col2\" >12</td>\n",
       "                        <td id=\"T_e365c0fc_92c6_11ea_83e6_10bf483492darow8_col3\" class=\"data row8 col3\" >14</td>\n",
       "                        <td id=\"T_e365c0fc_92c6_11ea_83e6_10bf483492darow8_col4\" class=\"data row8 col4\" >12</td>\n",
       "                        <td id=\"T_e365c0fc_92c6_11ea_83e6_10bf483492darow8_col5\" class=\"data row8 col5\" >14</td>\n",
       "                        <td id=\"T_e365c0fc_92c6_11ea_83e6_10bf483492darow8_col6\" class=\"data row8 col6\" >10</td>\n",
       "                        <td id=\"T_e365c0fc_92c6_11ea_83e6_10bf483492darow8_col7\" class=\"data row8 col7\" >13</td>\n",
       "                        <td id=\"T_e365c0fc_92c6_11ea_83e6_10bf483492darow8_col8\" class=\"data row8 col8\" >11</td>\n",
       "                        <td id=\"T_e365c0fc_92c6_11ea_83e6_10bf483492darow8_col9\" class=\"data row8 col9\" >13</td>\n",
       "                        <td id=\"T_e365c0fc_92c6_11ea_83e6_10bf483492darow8_col10\" class=\"data row8 col10\" >11</td>\n",
       "                        <td id=\"T_e365c0fc_92c6_11ea_83e6_10bf483492darow8_col11\" class=\"data row8 col11\" >13</td>\n",
       "                        <td id=\"T_e365c0fc_92c6_11ea_83e6_10bf483492darow8_col12\" class=\"data row8 col12\" >123</td>\n",
       "            </tr>\n",
       "            <tr>\n",
       "                                <td id=\"T_e365c0fc_92c6_11ea_83e6_10bf483492darow9_col0\" class=\"data row9 col0\" >Jannis KÃ¼bler</td>\n",
       "                        <td id=\"T_e365c0fc_92c6_11ea_83e6_10bf483492darow9_col1\" class=\"data row9 col1\" >                  23</td>\n",
       "                        <td id=\"T_e365c0fc_92c6_11ea_83e6_10bf483492darow9_col2\" class=\"data row9 col2\" >10</td>\n",
       "                        <td id=\"T_e365c0fc_92c6_11ea_83e6_10bf483492darow9_col3\" class=\"data row9 col3\" >15</td>\n",
       "                        <td id=\"T_e365c0fc_92c6_11ea_83e6_10bf483492darow9_col4\" class=\"data row9 col4\" >10</td>\n",
       "                        <td id=\"T_e365c0fc_92c6_11ea_83e6_10bf483492darow9_col5\" class=\"data row9 col5\" >13</td>\n",
       "                        <td id=\"T_e365c0fc_92c6_11ea_83e6_10bf483492darow9_col6\" class=\"data row9 col6\" >12</td>\n",
       "                        <td id=\"T_e365c0fc_92c6_11ea_83e6_10bf483492darow9_col7\" class=\"data row9 col7\" >14</td>\n",
       "                        <td id=\"T_e365c0fc_92c6_11ea_83e6_10bf483492darow9_col8\" class=\"data row9 col8\" >9</td>\n",
       "                        <td id=\"T_e365c0fc_92c6_11ea_83e6_10bf483492darow9_col9\" class=\"data row9 col9\" >15</td>\n",
       "                        <td id=\"T_e365c0fc_92c6_11ea_83e6_10bf483492darow9_col10\" class=\"data row9 col10\" >13</td>\n",
       "                        <td id=\"T_e365c0fc_92c6_11ea_83e6_10bf483492darow9_col11\" class=\"data row9 col11\" >12</td>\n",
       "                        <td id=\"T_e365c0fc_92c6_11ea_83e6_10bf483492darow9_col12\" class=\"data row9 col12\" >123</td>\n",
       "            </tr>\n",
       "    </tbody></table>"
      ],
      "text/plain": [
       "<pandas.io.formats.style.Styler at 0x5ccd6d0>"
      ]
     },
     "execution_count": 23,
     "metadata": {},
     "output_type": "execute_result"
    }
   ],
   "source": [
    "print(\"False Nine\")\n",
    "sorted_f9 = f9.sort_values(by='f9_score', ascending=False)\n",
    "sorted_f9.head(10).style.format({\"Age\": \"{:20,.0f}\", \n",
    "                          })\\\n",
    "                       .hide_index()\\\n",
    "                       .background_gradient(cmap='Blues')"
   ]
  },
  {
   "cell_type": "code",
   "execution_count": 24,
   "metadata": {},
   "outputs": [
    {
     "data": {
      "application/vnd.plotly.v1+json": {
       "config": {
        "plotlyServerURL": "https://plot.ly"
       },
       "data": [
        {
         "hovertemplate": "Shot/90=%{x}<br>Gls/90=%{y}<br>Name=%{text}<extra></extra>",
         "legendgroup": "",
         "marker": {
          "color": "#636efa",
          "symbol": "circle"
         },
         "mode": "markers+text",
         "name": "",
         "showlegend": false,
         "text": [
          "Djibril DiakitÃ©",
          "JoÃ£o Tavares",
          "Matej Hudecek",
          "Adrian Rybak",
          "Oskar Repka",
          "Maciej Obodecki",
          "Ivo Kralj",
          "Bartosz Sobczyk",
          "Ivan Tomac",
          "Nikola Bogdanovski",
          "Stefan Velickovic",
          "Andrija Zakoc",
          "AurÃ©lien Nguiamba",
          "Flynn Downes",
          "Nikola Puzic",
          "Andjelo Kacavenda",
          "Tymoteusz Puchacz",
          "Felix Brunmayr",
          "Lennart Grill",
          "Josip Rakic",
          "Stefan Randjelovic",
          "Radoslaw Dzierbicki",
          "Alexandar Ubavic",
          "Veljko Jovkovic",
          "Mariano GÃ³mez",
          "David Bumberger",
          "Enrico Huss",
          "Mateo Jaksic",
          "Konrad Jozwicki",
          "Nikita Marusenko",
          "Djordje Jovanovic",
          "Filip Lisnic",
          "Dawid Szalas",
          "Vladimir Ilic",
          "Marcin Mackowiak",
          "Florin Codrean",
          "David Otto",
          "Stefan Golubovic",
          "Keanan Bennetts",
          "Andrej Vukas",
          "Jannik Tepe",
          "Mladen Devetak",
          "Tom Baack",
          "Jan Sobocinski",
          "TomÃ¡s Blanco",
          "Sinan Karweina",
          "Ben Williams",
          "Arkadiusz Zajaczkowski",
          "Miguel Reisinho",
          "Filp Ceko",
          "Michel StÃ¶cker",
          "JÃ©rÃ´me Deom",
          "Ranko Jokic",
          "Palko DÃ¡rdai",
          "Aleksander Tomasz",
          "Alex Vigo",
          "Daniel Bielica",
          "Marko Djira",
          "Norbert Walczak",
          "Boris Moltenis",
          "Julius Kade",
          "Goran Buljandric",
          "Jannis KÃ¼bler",
          "Aleksa Jovanovic",
          "Tomasz Owczarek",
          "David Wittkowski",
          "Konrad Zaklika",
          "Pawel Karbowinski",
          "Nicky Werner",
          "Julijan Popovic",
          "Nassim Boujellab",
          "Bartlomiej Gajda",
          "Nemanja Matijevic",
          "Marko Denic",
          "Robert Baar",
          "Tuta",
          "Dusan Jokovic",
          "Tomasz Dzida",
          "Aleksa Pejic",
          "Krsta Bojic",
          "Sikou NiakatÃ©",
          "Tomasz Makowski",
          "Sebastian Gwozdz",
          "Adrian Polanski",
          "Bryan Mbeumo",
          "Dorin Sirbu",
          "Elvis Novalic",
          "MickaÃ«l Cuisance",
          "Mateusz Madzia",
          "JesÃºs Vargas",
          "Marino Jedvaj",
          "Raphael Assibey-Mensah",
          "Lukasz Sztylka",
          "Zoran Zrnzevic",
          "Alex Krawiec",
          "Petar Melezovic",
          "Tomasz Kurek",
          "Danko Radic",
          "Paul Mensah",
          "Jordan Williams",
          "Mario Mustapic",
          "Nikola Trickovic",
          "Patrik Delic",
          "Maciej Famulak",
          "Wiktor Nahrebecki",
          "Barne Poggenberg",
          "Mirza Jasarevic",
          "Ratko Minic",
          "Semih Åahin",
          "Matej Santek",
          "Georgios Siadas",
          "Tyrese Campbell",
          "Martin Krizmanic",
          "Kacper Laskos",
          "Aleksa Milojevic",
          "Cheick DoucourÃ©",
          "Ivan Jakovljev",
          "Przemyslaw Zdybowicz",
          "Sven Botman",
          "Malik Karaahmet",
          "Lukas KrÃ¼ger",
          "Niclas Stierlin",
          "Mane Markovic",
          "Karol Czubak",
          "Ilija Dejanovic",
          "Pascal Hackethal",
          "Oleg Gorin",
          "Michal Zieba",
          "Miodrag Maljkovic",
          "Jakov Blagaic",
          "Harisson Marcelin",
          "Vice Bazdaric",
          "Daniel Liszka",
          "Jan Sieracki",
          "Jhonny Lucas",
          "Tymoteusz Klups",
          "Josip Sutalo",
          "Othman Boussaid",
          "Evert Linthorst",
          "Jusuf Gazibegovic",
          "Virgiliu Postolachi",
          "Luis GÃ¶rlich",
          "Andrej Ilic",
          "Daniel Haritonov",
          "Patryk Drabik",
          "Tom Dobek-Pietrowski",
          "Michal Mydlarz",
          "Cho Jeong-Hui",
          "Mohamed Loua",
          "Nemanja Zikic",
          "Emir Sejdovic",
          "Samuel Lengle",
          "Mateusz Duchowski",
          "Iliya Gruev",
          "Bartosz Borun",
          "Juraj Ljubic",
          "GonÃ§alo Rebelo",
          "Dominik Resetar",
          "Jurica Prsir",
          "Piotr Wujec",
          "Jan Majsterek",
          "Mitchel Bakker",
          "Kamil Piatkowski",
          "Michal Ozga",
          "Karol Turek",
          "Toni Karimovic",
          "Billy Crellin",
          "Konrad Sieracki",
          "Vando Luis",
          "Jan Los",
          "Jessic Ngankam",
          "Adam Borkowski",
          "Julian Rieckmann",
          "Luka Pavlak",
          "Robert Ion",
          "Linus RosenlÃ¶cher",
          "Eugen Telch",
          "Nicholas Wunsch",
          "Dawid Kisly",
          "Uros Miloradovic",
          "Alois Oroz",
          "Luca Bazzoli",
          "Ronan Darcy",
          "Yann-Aurel Bisseck",
          "Timo Bornemann",
          "Radivoj Bosic",
          "Jakov Katusa",
          "Kacper Jozefiak",
          "Szymon Mroczko",
          "Karol Struski",
          "Wojciech Kaminski",
          "Piotr Lisowski",
          "Daishawn Redan",
          "Kacper Smolinski",
          "Lukas SchÃ¶fl",
          "Mikolaj Labojko",
          "Jakub Karbownik",
          "Damir Magdic",
          "Karol Malec",
          "Patryk Wozniak",
          "Can Bozdogan",
          "Aleksander Paluszek",
          "Mario Cuic",
          "Dragoljub Savic",
          "Nathan Collins",
          "Dominik Pila",
          "Mihael Kupresak",
          "Manu KonÃ©",
          "Niels Hahn",
          "Tin Hrvoj",
          "Lucas Da Cunha",
          "Rahim Ibrahim",
          "Renato Josipovic",
          "Han-Noah Massengo",
          "Kacper Wiatrak",
          "Bartosz Kuzniarski",
          "Adrian Petk",
          "Fabian Tauchhammer",
          "Bartlomiej Mruk",
          "Jakub Rudek",
          "Jakub Swiecinski",
          "Jakub Nowakowski",
          "Kamil Dabrowski",
          "Yuri Sprandel Flores",
          "Stefan Radmanovac",
          "Kamal Bafounta",
          "Filip Marchwinski",
          "Kamil Lukoszek",
          "Jakub Niewiadomski",
          "Dominik Kedzior",
          "Joe Gelhardt",
          "Filip Sobiecki",
          "Fran Tomek",
          "Hubert Wasiewski",
          "Djordje Vasic",
          "Jakub Zima",
          "Damian Makuch",
          "Andrzej Kloda",
          "Stipe Biuk",
          "Mateusz Pienczak",
          "FIlip Brekalo",
          "Stefan Despotovski",
          "Jakub Kisiel",
          "Duje Skugor",
          "Martin Baturina",
          "Radoslaw Cielemecki",
          "Ariel Mosor",
          "Nikola Petkovic",
          "Nikodem Sujecki",
          "Ivan Mandic",
          "Stanislaw Loch",
          "Dario Grgic",
          "Wojciech Szybka",
          "Kacper Szmidt",
          "Vukasin Krstic",
          "Obrendo Doesburg",
          "Casper Elderman",
          "Predrag Jovic",
          "Daniel Hoyo-Kowalski",
          "Darijo Basic",
          "Wiktor Mosur",
          "Uros Mirkovic",
          "Marcos RodrÃ­guez",
          "Adrian Å¢apu",
          "Paul Mari",
          "Pawel Muzylowski",
          "Dragan Radovic",
          "Szymon Kobeszko",
          "Marcin Dabrowski",
          "Jorge Delgado",
          "Daniel Piesio",
          null
         ],
         "textposition": "top center",
         "type": "scatter",
         "x": [
          "0.87",
          "0.79",
          "1.85",
          "1.15",
          "0.64",
          "2.72",
          "0.57",
          "0.38",
          "1.31",
          "1.27",
          "0.61",
          "1.48",
          "0.50",
          "0.50",
          "0.96",
          "0.77",
          "1.96",
          "0.46",
          "-",
          "1.45",
          "-",
          "0.92",
          "0.26",
          "1.15",
          "0.39",
          "0.28",
          "1.11",
          "0.65",
          "0.58",
          "0.52",
          "3.31",
          "0.61",
          "0.66",
          "1.05",
          "0.71",
          "0.35",
          "3.29",
          "0.15",
          "0.04",
          "1.76",
          "2.15",
          "0.05",
          "0.35",
          "0.58",
          "1.79",
          "1.93",
          "0.23",
          "1.92",
          "1.16",
          "0.72",
          "1.22",
          "2.21",
          "0.17",
          "1.41",
          "0.29",
          "1.31",
          "-",
          "0.15",
          "4.03",
          "0.72",
          "1.40",
          "-",
          "1.41",
          "0.74",
          "0.75",
          "0.05",
          "0.66",
          "0.11",
          "0.87",
          "0.74",
          "1.96",
          "0.97",
          "1.60",
          "0.63",
          "0.44",
          "0.35",
          "0.37",
          "1.02",
          "0.69",
          "1.59",
          "0.45",
          "1.06",
          "0.49",
          "2.30",
          "2.87",
          "1.80",
          "0.64",
          "1.42",
          "1.26",
          "1.99",
          "0.26",
          "1.61",
          "0.44",
          "0.39",
          "1.74",
          "0.40",
          "3.07",
          "2.39",
          "4.22",
          "0.47",
          "-",
          "0.38",
          "1.57",
          "0.78",
          "1.18",
          "0.18",
          "0.96",
          "1.75",
          "1.26",
          "1.06",
          "0.50",
          "3.85",
          "0.32",
          "0.99",
          "-",
          "1.07",
          "0.70",
          "2.36",
          "0.22",
          "1.93",
          "1.31",
          "0.69",
          "-",
          "3.06",
          "1.57",
          "0.20",
          "1.41",
          "1.77",
          "2.14",
          "2.00",
          "0.58",
          "-",
          "0.57",
          "2.54",
          "1.92",
          "1.66",
          "0.79",
          "1.21",
          "1.47",
          "1.35",
          "3.53",
          "1.70",
          "2.43",
          "0.30",
          "1.35",
          "1.27",
          "1.25",
          "0.38",
          "0.93",
          "0.61",
          "0.91",
          "1.47",
          "1.88",
          "0.55",
          "0.37",
          "1.29",
          "0.25",
          "3.23",
          "1.58",
          "1.22",
          "1.80",
          "0.24",
          "1.25",
          "1.07",
          "0.08",
          "1.64",
          "-",
          "0.70",
          "0.17",
          "2.58",
          "2.03",
          "1.61",
          "0.63",
          "0.96",
          "1.50",
          "0.07",
          "0.05",
          "0.57",
          "0.70",
          "1.20",
          "1.07",
          "0.73",
          "1.93",
          "0.65",
          "2.93",
          "0.53",
          "0.64",
          "1.08",
          "1.89",
          "1.06",
          "0.56",
          "0.95",
          "2.79",
          "0.46",
          "0.76",
          "0.43",
          "1.71",
          "0.77",
          "0.98",
          "1.25",
          "1.06",
          "1.52",
          "0.48",
          "1.86",
          "0.15",
          "0.80",
          "2.86",
          "0.82",
          "0.31",
          "1.21",
          "0.71",
          "0.46",
          "-",
          "1.19",
          "0.40",
          "2.65",
          "1.22",
          "0.57",
          "1.00",
          "1.34",
          "0.28",
          "0.18",
          "0.79",
          "0.17",
          "1.01",
          "1.36",
          "1.89",
          "2.11",
          "0.26",
          "1.57",
          "3.29",
          "1.59",
          "0.58",
          "-",
          "0.40",
          "0.31",
          "1.19",
          "1.99",
          "0.71",
          "0.85",
          "0.07",
          "1.27",
          "1.02",
          "2.68",
          "0.85",
          "1.21",
          "1.28",
          "1.74",
          "-",
          "-",
          "0.97",
          "0.71",
          "0.92",
          "1.93",
          "0.42",
          "0.57",
          "0.43",
          "0.73",
          "1.15",
          "0.42",
          "1.01",
          "0.73",
          "-",
          "1.04",
          "0.69",
          "1.06",
          "2.65",
          "0.67",
          "0.25",
          "0.46",
          "0.64",
          null
         ],
         "xaxis": "x",
         "y": [
          "0.07",
          "0.14",
          "0.17",
          "0.06",
          "-",
          "0.17",
          "-",
          "0.08",
          "-",
          "0.24",
          "-",
          "-",
          "-",
          "-",
          "0.07",
          "0.05",
          "0.38",
          "-",
          "-",
          "0.08",
          "-",
          "-",
          "0.13",
          "0.23",
          "0.11",
          "-",
          "-",
          "0.07",
          "-",
          "0.06",
          "0.54",
          "0.06",
          "0.05",
          "0.10",
          "0.06",
          "-",
          "0.62",
          "-",
          "-",
          "0.10",
          "0.32",
          "-",
          "-",
          "-",
          "0.23",
          "0.32",
          "-",
          "0.16",
          "-",
          "0.06",
          "-",
          "0.14",
          "-",
          "0.28",
          "0.06",
          "0.11",
          "-",
          "-",
          "0.14",
          "-",
          "0.12",
          "-",
          "0.13",
          "0.05",
          "-",
          "0.05",
          "-",
          "-",
          "0.15",
          "-",
          "0.23",
          "0.11",
          "0.33",
          "0.05",
          "-",
          "-",
          "0.06",
          "0.17",
          "-",
          "0.24",
          "-",
          "0.07",
          "0.13",
          "0.24",
          "0.30",
          "-",
          "0.05",
          "0.12",
          "-",
          "0.22",
          "-",
          "0.09",
          "-",
          "0.13",
          "0.23",
          "0.05",
          "0.61",
          "0.15",
          "0.45",
          "-",
          "-",
          "-",
          "-",
          "0.08",
          "0.07",
          "0.05",
          "0.18",
          "0.16",
          "0.19",
          "0.07",
          "-",
          "0.33",
          "-",
          "-",
          "-",
          "0.11",
          "0.09",
          "0.39",
          "-",
          "0.79",
          "0.06",
          "-",
          "-",
          "0.49",
          "0.09",
          "-",
          "0.18",
          "0.24",
          "0.55",
          "0.31",
          "0.06",
          "-",
          "0.06",
          "0.08",
          "0.15",
          "0.22",
          "-",
          "0.07",
          "0.21",
          "-",
          "0.07",
          "0.05",
          "0.22",
          "-",
          "0.37",
          "0.07",
          "0.22",
          "-",
          "-",
          "0.04",
          "0.04",
          "0.20",
          "0.44",
          "-",
          "-",
          "0.16",
          "0.04",
          "0.64",
          "0.18",
          "0.06",
          "0.17",
          "-",
          "-",
          "0.09",
          "-",
          "0.26",
          "-",
          "-",
          "-",
          "0.45",
          "0.13",
          "0.08",
          "-",
          "0.19",
          "0.18",
          "-",
          "-",
          "-",
          "-",
          "0.08",
          "0.12",
          "0.10",
          "0.23",
          "-",
          "0.69",
          "-",
          "0.06",
          "-",
          "-",
          "0.07",
          "0.05",
          "-",
          "0.64",
          "-",
          "0.06",
          "0.14",
          "-",
          "0.08",
          "0.05",
          "0.16",
          "-",
          "0.08",
          "-",
          "0.14",
          "-",
          "0.09",
          "0.42",
          "0.12",
          "0.06",
          "0.08",
          "0.06",
          "0.03",
          "-",
          "0.08",
          "-",
          "0.62",
          "0.17",
          "-",
          "-",
          "0.17",
          "-",
          "0.05",
          "0.07",
          "-",
          "0.16",
          "-",
          "0.18",
          "0.31",
          "0.07",
          "0.17",
          "0.44",
          "0.15",
          "0.13",
          "-",
          "-",
          "0.08",
          "0.07",
          "-",
          "0.19",
          "-",
          "-",
          "0.10",
          "0.08",
          "0.38",
          "-",
          "0.06",
          "-",
          "0.22",
          "-",
          "-",
          "0.41",
          "0.06",
          "0.08",
          "0.07",
          "0.14",
          "0.09",
          "-",
          "0.11",
          "-",
          "0.08",
          "-",
          "0.11",
          "-",
          "0.16",
          "0.06",
          "0.20",
          "0.34",
          "-",
          "-",
          "-",
          "0.13",
          null
         ],
         "yaxis": "y"
        }
       ],
       "layout": {
        "height": 500,
        "legend": {
         "tracegroupgap": 0
        },
        "margin": {
         "t": 60
        },
        "template": {
         "data": {
          "bar": [
           {
            "error_x": {
             "color": "#f2f5fa"
            },
            "error_y": {
             "color": "#f2f5fa"
            },
            "marker": {
             "line": {
              "color": "rgb(17,17,17)",
              "width": 0.5
             }
            },
            "type": "bar"
           }
          ],
          "barpolar": [
           {
            "marker": {
             "line": {
              "color": "rgb(17,17,17)",
              "width": 0.5
             }
            },
            "type": "barpolar"
           }
          ],
          "carpet": [
           {
            "aaxis": {
             "endlinecolor": "#A2B1C6",
             "gridcolor": "#506784",
             "linecolor": "#506784",
             "minorgridcolor": "#506784",
             "startlinecolor": "#A2B1C6"
            },
            "baxis": {
             "endlinecolor": "#A2B1C6",
             "gridcolor": "#506784",
             "linecolor": "#506784",
             "minorgridcolor": "#506784",
             "startlinecolor": "#A2B1C6"
            },
            "type": "carpet"
           }
          ],
          "choropleth": [
           {
            "colorbar": {
             "outlinewidth": 0,
             "ticks": ""
            },
            "type": "choropleth"
           }
          ],
          "contour": [
           {
            "colorbar": {
             "outlinewidth": 0,
             "ticks": ""
            },
            "colorscale": [
             [
              0,
              "#0d0887"
             ],
             [
              0.1111111111111111,
              "#46039f"
             ],
             [
              0.2222222222222222,
              "#7201a8"
             ],
             [
              0.3333333333333333,
              "#9c179e"
             ],
             [
              0.4444444444444444,
              "#bd3786"
             ],
             [
              0.5555555555555556,
              "#d8576b"
             ],
             [
              0.6666666666666666,
              "#ed7953"
             ],
             [
              0.7777777777777778,
              "#fb9f3a"
             ],
             [
              0.8888888888888888,
              "#fdca26"
             ],
             [
              1,
              "#f0f921"
             ]
            ],
            "type": "contour"
           }
          ],
          "contourcarpet": [
           {
            "colorbar": {
             "outlinewidth": 0,
             "ticks": ""
            },
            "type": "contourcarpet"
           }
          ],
          "heatmap": [
           {
            "colorbar": {
             "outlinewidth": 0,
             "ticks": ""
            },
            "colorscale": [
             [
              0,
              "#0d0887"
             ],
             [
              0.1111111111111111,
              "#46039f"
             ],
             [
              0.2222222222222222,
              "#7201a8"
             ],
             [
              0.3333333333333333,
              "#9c179e"
             ],
             [
              0.4444444444444444,
              "#bd3786"
             ],
             [
              0.5555555555555556,
              "#d8576b"
             ],
             [
              0.6666666666666666,
              "#ed7953"
             ],
             [
              0.7777777777777778,
              "#fb9f3a"
             ],
             [
              0.8888888888888888,
              "#fdca26"
             ],
             [
              1,
              "#f0f921"
             ]
            ],
            "type": "heatmap"
           }
          ],
          "heatmapgl": [
           {
            "colorbar": {
             "outlinewidth": 0,
             "ticks": ""
            },
            "colorscale": [
             [
              0,
              "#0d0887"
             ],
             [
              0.1111111111111111,
              "#46039f"
             ],
             [
              0.2222222222222222,
              "#7201a8"
             ],
             [
              0.3333333333333333,
              "#9c179e"
             ],
             [
              0.4444444444444444,
              "#bd3786"
             ],
             [
              0.5555555555555556,
              "#d8576b"
             ],
             [
              0.6666666666666666,
              "#ed7953"
             ],
             [
              0.7777777777777778,
              "#fb9f3a"
             ],
             [
              0.8888888888888888,
              "#fdca26"
             ],
             [
              1,
              "#f0f921"
             ]
            ],
            "type": "heatmapgl"
           }
          ],
          "histogram": [
           {
            "marker": {
             "colorbar": {
              "outlinewidth": 0,
              "ticks": ""
             }
            },
            "type": "histogram"
           }
          ],
          "histogram2d": [
           {
            "colorbar": {
             "outlinewidth": 0,
             "ticks": ""
            },
            "colorscale": [
             [
              0,
              "#0d0887"
             ],
             [
              0.1111111111111111,
              "#46039f"
             ],
             [
              0.2222222222222222,
              "#7201a8"
             ],
             [
              0.3333333333333333,
              "#9c179e"
             ],
             [
              0.4444444444444444,
              "#bd3786"
             ],
             [
              0.5555555555555556,
              "#d8576b"
             ],
             [
              0.6666666666666666,
              "#ed7953"
             ],
             [
              0.7777777777777778,
              "#fb9f3a"
             ],
             [
              0.8888888888888888,
              "#fdca26"
             ],
             [
              1,
              "#f0f921"
             ]
            ],
            "type": "histogram2d"
           }
          ],
          "histogram2dcontour": [
           {
            "colorbar": {
             "outlinewidth": 0,
             "ticks": ""
            },
            "colorscale": [
             [
              0,
              "#0d0887"
             ],
             [
              0.1111111111111111,
              "#46039f"
             ],
             [
              0.2222222222222222,
              "#7201a8"
             ],
             [
              0.3333333333333333,
              "#9c179e"
             ],
             [
              0.4444444444444444,
              "#bd3786"
             ],
             [
              0.5555555555555556,
              "#d8576b"
             ],
             [
              0.6666666666666666,
              "#ed7953"
             ],
             [
              0.7777777777777778,
              "#fb9f3a"
             ],
             [
              0.8888888888888888,
              "#fdca26"
             ],
             [
              1,
              "#f0f921"
             ]
            ],
            "type": "histogram2dcontour"
           }
          ],
          "mesh3d": [
           {
            "colorbar": {
             "outlinewidth": 0,
             "ticks": ""
            },
            "type": "mesh3d"
           }
          ],
          "parcoords": [
           {
            "line": {
             "colorbar": {
              "outlinewidth": 0,
              "ticks": ""
             }
            },
            "type": "parcoords"
           }
          ],
          "pie": [
           {
            "automargin": true,
            "type": "pie"
           }
          ],
          "scatter": [
           {
            "marker": {
             "line": {
              "color": "#283442"
             }
            },
            "type": "scatter"
           }
          ],
          "scatter3d": [
           {
            "line": {
             "colorbar": {
              "outlinewidth": 0,
              "ticks": ""
             }
            },
            "marker": {
             "colorbar": {
              "outlinewidth": 0,
              "ticks": ""
             }
            },
            "type": "scatter3d"
           }
          ],
          "scattercarpet": [
           {
            "marker": {
             "colorbar": {
              "outlinewidth": 0,
              "ticks": ""
             }
            },
            "type": "scattercarpet"
           }
          ],
          "scattergeo": [
           {
            "marker": {
             "colorbar": {
              "outlinewidth": 0,
              "ticks": ""
             }
            },
            "type": "scattergeo"
           }
          ],
          "scattergl": [
           {
            "marker": {
             "line": {
              "color": "#283442"
             }
            },
            "type": "scattergl"
           }
          ],
          "scattermapbox": [
           {
            "marker": {
             "colorbar": {
              "outlinewidth": 0,
              "ticks": ""
             }
            },
            "type": "scattermapbox"
           }
          ],
          "scatterpolar": [
           {
            "marker": {
             "colorbar": {
              "outlinewidth": 0,
              "ticks": ""
             }
            },
            "type": "scatterpolar"
           }
          ],
          "scatterpolargl": [
           {
            "marker": {
             "colorbar": {
              "outlinewidth": 0,
              "ticks": ""
             }
            },
            "type": "scatterpolargl"
           }
          ],
          "scatterternary": [
           {
            "marker": {
             "colorbar": {
              "outlinewidth": 0,
              "ticks": ""
             }
            },
            "type": "scatterternary"
           }
          ],
          "surface": [
           {
            "colorbar": {
             "outlinewidth": 0,
             "ticks": ""
            },
            "colorscale": [
             [
              0,
              "#0d0887"
             ],
             [
              0.1111111111111111,
              "#46039f"
             ],
             [
              0.2222222222222222,
              "#7201a8"
             ],
             [
              0.3333333333333333,
              "#9c179e"
             ],
             [
              0.4444444444444444,
              "#bd3786"
             ],
             [
              0.5555555555555556,
              "#d8576b"
             ],
             [
              0.6666666666666666,
              "#ed7953"
             ],
             [
              0.7777777777777778,
              "#fb9f3a"
             ],
             [
              0.8888888888888888,
              "#fdca26"
             ],
             [
              1,
              "#f0f921"
             ]
            ],
            "type": "surface"
           }
          ],
          "table": [
           {
            "cells": {
             "fill": {
              "color": "#506784"
             },
             "line": {
              "color": "rgb(17,17,17)"
             }
            },
            "header": {
             "fill": {
              "color": "#2a3f5f"
             },
             "line": {
              "color": "rgb(17,17,17)"
             }
            },
            "type": "table"
           }
          ]
         },
         "layout": {
          "annotationdefaults": {
           "arrowcolor": "#f2f5fa",
           "arrowhead": 0,
           "arrowwidth": 1
          },
          "coloraxis": {
           "colorbar": {
            "outlinewidth": 0,
            "ticks": ""
           }
          },
          "colorscale": {
           "diverging": [
            [
             0,
             "#8e0152"
            ],
            [
             0.1,
             "#c51b7d"
            ],
            [
             0.2,
             "#de77ae"
            ],
            [
             0.3,
             "#f1b6da"
            ],
            [
             0.4,
             "#fde0ef"
            ],
            [
             0.5,
             "#f7f7f7"
            ],
            [
             0.6,
             "#e6f5d0"
            ],
            [
             0.7,
             "#b8e186"
            ],
            [
             0.8,
             "#7fbc41"
            ],
            [
             0.9,
             "#4d9221"
            ],
            [
             1,
             "#276419"
            ]
           ],
           "sequential": [
            [
             0,
             "#0d0887"
            ],
            [
             0.1111111111111111,
             "#46039f"
            ],
            [
             0.2222222222222222,
             "#7201a8"
            ],
            [
             0.3333333333333333,
             "#9c179e"
            ],
            [
             0.4444444444444444,
             "#bd3786"
            ],
            [
             0.5555555555555556,
             "#d8576b"
            ],
            [
             0.6666666666666666,
             "#ed7953"
            ],
            [
             0.7777777777777778,
             "#fb9f3a"
            ],
            [
             0.8888888888888888,
             "#fdca26"
            ],
            [
             1,
             "#f0f921"
            ]
           ],
           "sequentialminus": [
            [
             0,
             "#0d0887"
            ],
            [
             0.1111111111111111,
             "#46039f"
            ],
            [
             0.2222222222222222,
             "#7201a8"
            ],
            [
             0.3333333333333333,
             "#9c179e"
            ],
            [
             0.4444444444444444,
             "#bd3786"
            ],
            [
             0.5555555555555556,
             "#d8576b"
            ],
            [
             0.6666666666666666,
             "#ed7953"
            ],
            [
             0.7777777777777778,
             "#fb9f3a"
            ],
            [
             0.8888888888888888,
             "#fdca26"
            ],
            [
             1,
             "#f0f921"
            ]
           ]
          },
          "colorway": [
           "#636efa",
           "#EF553B",
           "#00cc96",
           "#ab63fa",
           "#FFA15A",
           "#19d3f3",
           "#FF6692",
           "#B6E880",
           "#FF97FF",
           "#FECB52"
          ],
          "font": {
           "color": "#f2f5fa"
          },
          "geo": {
           "bgcolor": "rgb(17,17,17)",
           "lakecolor": "rgb(17,17,17)",
           "landcolor": "rgb(17,17,17)",
           "showlakes": true,
           "showland": true,
           "subunitcolor": "#506784"
          },
          "hoverlabel": {
           "align": "left"
          },
          "hovermode": "closest",
          "mapbox": {
           "style": "dark"
          },
          "paper_bgcolor": "rgb(17,17,17)",
          "plot_bgcolor": "rgb(17,17,17)",
          "polar": {
           "angularaxis": {
            "gridcolor": "#506784",
            "linecolor": "#506784",
            "ticks": ""
           },
           "bgcolor": "rgb(17,17,17)",
           "radialaxis": {
            "gridcolor": "#506784",
            "linecolor": "#506784",
            "ticks": ""
           }
          },
          "scene": {
           "xaxis": {
            "backgroundcolor": "rgb(17,17,17)",
            "gridcolor": "#506784",
            "gridwidth": 2,
            "linecolor": "#506784",
            "showbackground": true,
            "ticks": "",
            "zerolinecolor": "#C8D4E3"
           },
           "yaxis": {
            "backgroundcolor": "rgb(17,17,17)",
            "gridcolor": "#506784",
            "gridwidth": 2,
            "linecolor": "#506784",
            "showbackground": true,
            "ticks": "",
            "zerolinecolor": "#C8D4E3"
           },
           "zaxis": {
            "backgroundcolor": "rgb(17,17,17)",
            "gridcolor": "#506784",
            "gridwidth": 2,
            "linecolor": "#506784",
            "showbackground": true,
            "ticks": "",
            "zerolinecolor": "#C8D4E3"
           }
          },
          "shapedefaults": {
           "line": {
            "color": "#f2f5fa"
           }
          },
          "sliderdefaults": {
           "bgcolor": "#C8D4E3",
           "bordercolor": "rgb(17,17,17)",
           "borderwidth": 1,
           "tickwidth": 0
          },
          "ternary": {
           "aaxis": {
            "gridcolor": "#506784",
            "linecolor": "#506784",
            "ticks": ""
           },
           "baxis": {
            "gridcolor": "#506784",
            "linecolor": "#506784",
            "ticks": ""
           },
           "bgcolor": "rgb(17,17,17)",
           "caxis": {
            "gridcolor": "#506784",
            "linecolor": "#506784",
            "ticks": ""
           }
          },
          "title": {
           "x": 0.05
          },
          "updatemenudefaults": {
           "bgcolor": "#506784",
           "borderwidth": 0
          },
          "xaxis": {
           "automargin": true,
           "gridcolor": "#283442",
           "linecolor": "#506784",
           "ticks": "",
           "title": {
            "standoff": 15
           },
           "zerolinecolor": "#283442",
           "zerolinewidth": 2
          },
          "yaxis": {
           "automargin": true,
           "gridcolor": "#283442",
           "linecolor": "#506784",
           "ticks": "",
           "title": {
            "standoff": 15
           },
           "zerolinecolor": "#283442",
           "zerolinewidth": 2
          }
         }
        },
        "title": {
         "text": "False Nine - Support"
        },
        "xaxis": {
         "anchor": "y",
         "domain": [
          0,
          1
         ],
         "title": {
          "text": "Shot/90"
         }
        },
        "yaxis": {
         "anchor": "x",
         "domain": [
          0,
          1
         ],
         "title": {
          "text": "Gls/90"
         }
        }
       }
      },
      "text/html": [
       "<div>\n",
       "        \n",
       "        \n",
       "            <div id=\"ea75bf0a-8d1a-46c0-b62a-65a12b10b3b2\" class=\"plotly-graph-div\" style=\"height:500px; width:100%;\"></div>\n",
       "            <script type=\"text/javascript\">\n",
       "                require([\"plotly\"], function(Plotly) {\n",
       "                    window.PLOTLYENV=window.PLOTLYENV || {};\n",
       "                    \n",
       "                if (document.getElementById(\"ea75bf0a-8d1a-46c0-b62a-65a12b10b3b2\")) {\n",
       "                    Plotly.newPlot(\n",
       "                        'ea75bf0a-8d1a-46c0-b62a-65a12b10b3b2',\n",
       "                        [{\"hovertemplate\": \"Shot/90=%{x}<br>Gls/90=%{y}<br>Name=%{text}<extra></extra>\", \"legendgroup\": \"\", \"marker\": {\"color\": \"#636efa\", \"symbol\": \"circle\"}, \"mode\": \"markers+text\", \"name\": \"\", \"showlegend\": false, \"text\": [\"Djibril Diakit\\u00c3\\u00a9\", \"Jo\\u00c3\\u00a3o Tavares\", \"Matej Hudecek\", \"Adrian Rybak\", \"Oskar Repka\", \"Maciej Obodecki\", \"Ivo Kralj\", \"Bartosz Sobczyk\", \"Ivan Tomac\", \"Nikola Bogdanovski\", \"Stefan Velickovic\", \"Andrija Zakoc\", \"Aur\\u00c3\\u00a9lien Nguiamba\", \"Flynn Downes\", \"Nikola Puzic\", \"Andjelo Kacavenda\", \"Tymoteusz Puchacz\", \"Felix Brunmayr\", \"Lennart Grill\", \"Josip Rakic\", \"Stefan Randjelovic\", \"Radoslaw Dzierbicki\", \"Alexandar Ubavic\", \"Veljko Jovkovic\", \"Mariano G\\u00c3\\u00b3mez\", \"David Bumberger\", \"Enrico Huss\", \"Mateo Jaksic\", \"Konrad Jozwicki\", \"Nikita Marusenko\", \"Djordje Jovanovic\", \"Filip Lisnic\", \"Dawid Szalas\", \"Vladimir Ilic\", \"Marcin Mackowiak\", \"Florin Codrean\", \"David Otto\", \"Stefan Golubovic\", \"Keanan Bennetts\", \"Andrej Vukas\", \"Jannik Tepe\", \"Mladen Devetak\", \"Tom Baack\", \"Jan Sobocinski\", \"Tom\\u00c3\\u00a1s Blanco\", \"Sinan Karweina\", \"Ben Williams\", \"Arkadiusz Zajaczkowski\", \"Miguel Reisinho\", \"Filp Ceko\", \"Michel St\\u00c3\\u00b6cker\", \"J\\u00c3\\u00a9r\\u00c3\\u00b4me Deom\", \"Ranko Jokic\", \"Palko D\\u00c3\\u00a1rdai\", \"Aleksander Tomasz\", \"Alex Vigo\", \"Daniel Bielica\", \"Marko Djira\", \"Norbert Walczak\", \"Boris Moltenis\", \"Julius Kade\", \"Goran Buljandric\", \"Jannis K\\u00c3\\u00bcbler\", \"Aleksa Jovanovic\", \"Tomasz Owczarek\", \"David Wittkowski\", \"Konrad Zaklika\", \"Pawel Karbowinski\", \"Nicky Werner\", \"Julijan Popovic\", \"Nassim Boujellab\", \"Bartlomiej Gajda\", \"Nemanja Matijevic\", \"Marko Denic\", \"Robert Baar\", \"Tuta\", \"Dusan Jokovic\", \"Tomasz Dzida\", \"Aleksa Pejic\", \"Krsta Bojic\", \"Sikou Niakat\\u00c3\\u00a9\", \"Tomasz Makowski\", \"Sebastian Gwozdz\", \"Adrian Polanski\", \"Bryan Mbeumo\", \"Dorin Sirbu\", \"Elvis Novalic\", \"Micka\\u00c3\\u00abl Cuisance\", \"Mateusz Madzia\", \"Jes\\u00c3\\u00bas Vargas\", \"Marino Jedvaj\", \"Raphael Assibey-Mensah\", \"Lukasz Sztylka\", \"Zoran Zrnzevic\", \"Alex Krawiec\", \"Petar Melezovic\", \"Tomasz Kurek\", \"Danko Radic\", \"Paul Mensah\", \"Jordan Williams\", \"Mario Mustapic\", \"Nikola Trickovic\", \"Patrik Delic\", \"Maciej Famulak\", \"Wiktor Nahrebecki\", \"Barne Poggenberg\", \"Mirza Jasarevic\", \"Ratko Minic\", \"Semih \\u00c5\\u009eahin\", \"Matej Santek\", \"Georgios Siadas\", \"Tyrese Campbell\", \"Martin Krizmanic\", \"Kacper Laskos\", \"Aleksa Milojevic\", \"Cheick Doucour\\u00c3\\u00a9\", \"Ivan Jakovljev\", \"Przemyslaw Zdybowicz\", \"Sven Botman\", \"Malik Karaahmet\", \"Lukas Kr\\u00c3\\u00bcger\", \"Niclas Stierlin\", \"Mane Markovic\", \"Karol Czubak\", \"Ilija Dejanovic\", \"Pascal Hackethal\", \"Oleg Gorin\", \"Michal Zieba\", \"Miodrag Maljkovic\", \"Jakov Blagaic\", \"Harisson Marcelin\", \"Vice Bazdaric\", \"Daniel Liszka\", \"Jan Sieracki\", \"Jhonny Lucas\", \"Tymoteusz Klups\", \"Josip Sutalo\", \"Othman Boussaid\", \"Evert Linthorst\", \"Jusuf Gazibegovic\", \"Virgiliu Postolachi\", \"Luis G\\u00c3\\u00b6rlich\", \"Andrej Ilic\", \"Daniel Haritonov\", \"Patryk Drabik\", \"Tom Dobek-Pietrowski\", \"Michal Mydlarz\", \"Cho Jeong-Hui\", \"Mohamed Loua\", \"Nemanja Zikic\", \"Emir Sejdovic\", \"Samuel Lengle\", \"Mateusz Duchowski\", \"Iliya Gruev\", \"Bartosz Borun\", \"Juraj Ljubic\", \"Gon\\u00c3\\u00a7alo Rebelo\", \"Dominik Resetar\", \"Jurica Prsir\", \"Piotr Wujec\", \"Jan Majsterek\", \"Mitchel Bakker\", \"Kamil Piatkowski\", \"Michal Ozga\", \"Karol Turek\", \"Toni Karimovic\", \"Billy Crellin\", \"Konrad Sieracki\", \"Vando Luis\", \"Jan Los\", \"Jessic Ngankam\", \"Adam Borkowski\", \"Julian Rieckmann\", \"Luka Pavlak\", \"Robert Ion\", \"Linus Rosenl\\u00c3\\u00b6cher\", \"Eugen Telch\", \"Nicholas Wunsch\", \"Dawid Kisly\", \"Uros Miloradovic\", \"Alois Oroz\", \"Luca Bazzoli\", \"Ronan Darcy\", \"Yann-Aurel Bisseck\", \"Timo Bornemann\", \"Radivoj Bosic\", \"Jakov Katusa\", \"Kacper Jozefiak\", \"Szymon Mroczko\", \"Karol Struski\", \"Wojciech Kaminski\", \"Piotr Lisowski\", \"Daishawn Redan\", \"Kacper Smolinski\", \"Lukas Sch\\u00c3\\u00b6fl\", \"Mikolaj Labojko\", \"Jakub Karbownik\", \"Damir Magdic\", \"Karol Malec\", \"Patryk Wozniak\", \"Can Bozdogan\", \"Aleksander Paluszek\", \"Mario Cuic\", \"Dragoljub Savic\", \"Nathan Collins\", \"Dominik Pila\", \"Mihael Kupresak\", \"Manu Kon\\u00c3\\u00a9\", \"Niels Hahn\", \"Tin Hrvoj\", \"Lucas Da Cunha\", \"Rahim Ibrahim\", \"Renato Josipovic\", \"Han-Noah Massengo\", \"Kacper Wiatrak\", \"Bartosz Kuzniarski\", \"Adrian Petk\", \"Fabian Tauchhammer\", \"Bartlomiej Mruk\", \"Jakub Rudek\", \"Jakub Swiecinski\", \"Jakub Nowakowski\", \"Kamil Dabrowski\", \"Yuri Sprandel Flores\", \"Stefan Radmanovac\", \"Kamal Bafounta\", \"Filip Marchwinski\", \"Kamil Lukoszek\", \"Jakub Niewiadomski\", \"Dominik Kedzior\", \"Joe Gelhardt\", \"Filip Sobiecki\", \"Fran Tomek\", \"Hubert Wasiewski\", \"Djordje Vasic\", \"Jakub Zima\", \"Damian Makuch\", \"Andrzej Kloda\", \"Stipe Biuk\", \"Mateusz Pienczak\", \"FIlip Brekalo\", \"Stefan Despotovski\", \"Jakub Kisiel\", \"Duje Skugor\", \"Martin Baturina\", \"Radoslaw Cielemecki\", \"Ariel Mosor\", \"Nikola Petkovic\", \"Nikodem Sujecki\", \"Ivan Mandic\", \"Stanislaw Loch\", \"Dario Grgic\", \"Wojciech Szybka\", \"Kacper Szmidt\", \"Vukasin Krstic\", \"Obrendo Doesburg\", \"Casper Elderman\", \"Predrag Jovic\", \"Daniel Hoyo-Kowalski\", \"Darijo Basic\", \"Wiktor Mosur\", \"Uros Mirkovic\", \"Marcos Rodr\\u00c3\\u00adguez\", \"Adrian \\u00c5\\u00a2apu\", \"Paul Mari\", \"Pawel Muzylowski\", \"Dragan Radovic\", \"Szymon Kobeszko\", \"Marcin Dabrowski\", \"Jorge Delgado\", \"Daniel Piesio\", null], \"textposition\": \"top center\", \"type\": \"scatter\", \"x\": [\"0.87\", \"0.79\", \"1.85\", \"1.15\", \"0.64\", \"2.72\", \"0.57\", \"0.38\", \"1.31\", \"1.27\", \"0.61\", \"1.48\", \"0.50\", \"0.50\", \"0.96\", \"0.77\", \"1.96\", \"0.46\", \"-\", \"1.45\", \"-\", \"0.92\", \"0.26\", \"1.15\", \"0.39\", \"0.28\", \"1.11\", \"0.65\", \"0.58\", \"0.52\", \"3.31\", \"0.61\", \"0.66\", \"1.05\", \"0.71\", \"0.35\", \"3.29\", \"0.15\", \"0.04\", \"1.76\", \"2.15\", \"0.05\", \"0.35\", \"0.58\", \"1.79\", \"1.93\", \"0.23\", \"1.92\", \"1.16\", \"0.72\", \"1.22\", \"2.21\", \"0.17\", \"1.41\", \"0.29\", \"1.31\", \"-\", \"0.15\", \"4.03\", \"0.72\", \"1.40\", \"-\", \"1.41\", \"0.74\", \"0.75\", \"0.05\", \"0.66\", \"0.11\", \"0.87\", \"0.74\", \"1.96\", \"0.97\", \"1.60\", \"0.63\", \"0.44\", \"0.35\", \"0.37\", \"1.02\", \"0.69\", \"1.59\", \"0.45\", \"1.06\", \"0.49\", \"2.30\", \"2.87\", \"1.80\", \"0.64\", \"1.42\", \"1.26\", \"1.99\", \"0.26\", \"1.61\", \"0.44\", \"0.39\", \"1.74\", \"0.40\", \"3.07\", \"2.39\", \"4.22\", \"0.47\", \"-\", \"0.38\", \"1.57\", \"0.78\", \"1.18\", \"0.18\", \"0.96\", \"1.75\", \"1.26\", \"1.06\", \"0.50\", \"3.85\", \"0.32\", \"0.99\", \"-\", \"1.07\", \"0.70\", \"2.36\", \"0.22\", \"1.93\", \"1.31\", \"0.69\", \"-\", \"3.06\", \"1.57\", \"0.20\", \"1.41\", \"1.77\", \"2.14\", \"2.00\", \"0.58\", \"-\", \"0.57\", \"2.54\", \"1.92\", \"1.66\", \"0.79\", \"1.21\", \"1.47\", \"1.35\", \"3.53\", \"1.70\", \"2.43\", \"0.30\", \"1.35\", \"1.27\", \"1.25\", \"0.38\", \"0.93\", \"0.61\", \"0.91\", \"1.47\", \"1.88\", \"0.55\", \"0.37\", \"1.29\", \"0.25\", \"3.23\", \"1.58\", \"1.22\", \"1.80\", \"0.24\", \"1.25\", \"1.07\", \"0.08\", \"1.64\", \"-\", \"0.70\", \"0.17\", \"2.58\", \"2.03\", \"1.61\", \"0.63\", \"0.96\", \"1.50\", \"0.07\", \"0.05\", \"0.57\", \"0.70\", \"1.20\", \"1.07\", \"0.73\", \"1.93\", \"0.65\", \"2.93\", \"0.53\", \"0.64\", \"1.08\", \"1.89\", \"1.06\", \"0.56\", \"0.95\", \"2.79\", \"0.46\", \"0.76\", \"0.43\", \"1.71\", \"0.77\", \"0.98\", \"1.25\", \"1.06\", \"1.52\", \"0.48\", \"1.86\", \"0.15\", \"0.80\", \"2.86\", \"0.82\", \"0.31\", \"1.21\", \"0.71\", \"0.46\", \"-\", \"1.19\", \"0.40\", \"2.65\", \"1.22\", \"0.57\", \"1.00\", \"1.34\", \"0.28\", \"0.18\", \"0.79\", \"0.17\", \"1.01\", \"1.36\", \"1.89\", \"2.11\", \"0.26\", \"1.57\", \"3.29\", \"1.59\", \"0.58\", \"-\", \"0.40\", \"0.31\", \"1.19\", \"1.99\", \"0.71\", \"0.85\", \"0.07\", \"1.27\", \"1.02\", \"2.68\", \"0.85\", \"1.21\", \"1.28\", \"1.74\", \"-\", \"-\", \"0.97\", \"0.71\", \"0.92\", \"1.93\", \"0.42\", \"0.57\", \"0.43\", \"0.73\", \"1.15\", \"0.42\", \"1.01\", \"0.73\", \"-\", \"1.04\", \"0.69\", \"1.06\", \"2.65\", \"0.67\", \"0.25\", \"0.46\", \"0.64\", null], \"xaxis\": \"x\", \"y\": [\"0.07\", \"0.14\", \"0.17\", \"0.06\", \"-\", \"0.17\", \"-\", \"0.08\", \"-\", \"0.24\", \"-\", \"-\", \"-\", \"-\", \"0.07\", \"0.05\", \"0.38\", \"-\", \"-\", \"0.08\", \"-\", \"-\", \"0.13\", \"0.23\", \"0.11\", \"-\", \"-\", \"0.07\", \"-\", \"0.06\", \"0.54\", \"0.06\", \"0.05\", \"0.10\", \"0.06\", \"-\", \"0.62\", \"-\", \"-\", \"0.10\", \"0.32\", \"-\", \"-\", \"-\", \"0.23\", \"0.32\", \"-\", \"0.16\", \"-\", \"0.06\", \"-\", \"0.14\", \"-\", \"0.28\", \"0.06\", \"0.11\", \"-\", \"-\", \"0.14\", \"-\", \"0.12\", \"-\", \"0.13\", \"0.05\", \"-\", \"0.05\", \"-\", \"-\", \"0.15\", \"-\", \"0.23\", \"0.11\", \"0.33\", \"0.05\", \"-\", \"-\", \"0.06\", \"0.17\", \"-\", \"0.24\", \"-\", \"0.07\", \"0.13\", \"0.24\", \"0.30\", \"-\", \"0.05\", \"0.12\", \"-\", \"0.22\", \"-\", \"0.09\", \"-\", \"0.13\", \"0.23\", \"0.05\", \"0.61\", \"0.15\", \"0.45\", \"-\", \"-\", \"-\", \"-\", \"0.08\", \"0.07\", \"0.05\", \"0.18\", \"0.16\", \"0.19\", \"0.07\", \"-\", \"0.33\", \"-\", \"-\", \"-\", \"0.11\", \"0.09\", \"0.39\", \"-\", \"0.79\", \"0.06\", \"-\", \"-\", \"0.49\", \"0.09\", \"-\", \"0.18\", \"0.24\", \"0.55\", \"0.31\", \"0.06\", \"-\", \"0.06\", \"0.08\", \"0.15\", \"0.22\", \"-\", \"0.07\", \"0.21\", \"-\", \"0.07\", \"0.05\", \"0.22\", \"-\", \"0.37\", \"0.07\", \"0.22\", \"-\", \"-\", \"0.04\", \"0.04\", \"0.20\", \"0.44\", \"-\", \"-\", \"0.16\", \"0.04\", \"0.64\", \"0.18\", \"0.06\", \"0.17\", \"-\", \"-\", \"0.09\", \"-\", \"0.26\", \"-\", \"-\", \"-\", \"0.45\", \"0.13\", \"0.08\", \"-\", \"0.19\", \"0.18\", \"-\", \"-\", \"-\", \"-\", \"0.08\", \"0.12\", \"0.10\", \"0.23\", \"-\", \"0.69\", \"-\", \"0.06\", \"-\", \"-\", \"0.07\", \"0.05\", \"-\", \"0.64\", \"-\", \"0.06\", \"0.14\", \"-\", \"0.08\", \"0.05\", \"0.16\", \"-\", \"0.08\", \"-\", \"0.14\", \"-\", \"0.09\", \"0.42\", \"0.12\", \"0.06\", \"0.08\", \"0.06\", \"0.03\", \"-\", \"0.08\", \"-\", \"0.62\", \"0.17\", \"-\", \"-\", \"0.17\", \"-\", \"0.05\", \"0.07\", \"-\", \"0.16\", \"-\", \"0.18\", \"0.31\", \"0.07\", \"0.17\", \"0.44\", \"0.15\", \"0.13\", \"-\", \"-\", \"0.08\", \"0.07\", \"-\", \"0.19\", \"-\", \"-\", \"0.10\", \"0.08\", \"0.38\", \"-\", \"0.06\", \"-\", \"0.22\", \"-\", \"-\", \"0.41\", \"0.06\", \"0.08\", \"0.07\", \"0.14\", \"0.09\", \"-\", \"0.11\", \"-\", \"0.08\", \"-\", \"0.11\", \"-\", \"0.16\", \"0.06\", \"0.20\", \"0.34\", \"-\", \"-\", \"-\", \"0.13\", null], \"yaxis\": \"y\"}],\n",
       "                        {\"height\": 500, \"legend\": {\"tracegroupgap\": 0}, \"margin\": {\"t\": 60}, \"template\": {\"data\": {\"bar\": [{\"error_x\": {\"color\": \"#f2f5fa\"}, \"error_y\": {\"color\": \"#f2f5fa\"}, \"marker\": {\"line\": {\"color\": \"rgb(17,17,17)\", \"width\": 0.5}}, \"type\": \"bar\"}], \"barpolar\": [{\"marker\": {\"line\": {\"color\": \"rgb(17,17,17)\", \"width\": 0.5}}, \"type\": \"barpolar\"}], \"carpet\": [{\"aaxis\": {\"endlinecolor\": \"#A2B1C6\", \"gridcolor\": \"#506784\", \"linecolor\": \"#506784\", \"minorgridcolor\": \"#506784\", \"startlinecolor\": \"#A2B1C6\"}, \"baxis\": {\"endlinecolor\": \"#A2B1C6\", \"gridcolor\": \"#506784\", \"linecolor\": \"#506784\", \"minorgridcolor\": \"#506784\", \"startlinecolor\": \"#A2B1C6\"}, \"type\": \"carpet\"}], \"choropleth\": [{\"colorbar\": {\"outlinewidth\": 0, \"ticks\": \"\"}, \"type\": \"choropleth\"}], \"contour\": [{\"colorbar\": {\"outlinewidth\": 0, \"ticks\": \"\"}, \"colorscale\": [[0.0, \"#0d0887\"], [0.1111111111111111, \"#46039f\"], [0.2222222222222222, \"#7201a8\"], [0.3333333333333333, \"#9c179e\"], [0.4444444444444444, \"#bd3786\"], [0.5555555555555556, \"#d8576b\"], [0.6666666666666666, \"#ed7953\"], [0.7777777777777778, \"#fb9f3a\"], [0.8888888888888888, \"#fdca26\"], [1.0, \"#f0f921\"]], \"type\": \"contour\"}], \"contourcarpet\": [{\"colorbar\": {\"outlinewidth\": 0, \"ticks\": \"\"}, \"type\": \"contourcarpet\"}], \"heatmap\": [{\"colorbar\": {\"outlinewidth\": 0, \"ticks\": \"\"}, \"colorscale\": [[0.0, \"#0d0887\"], [0.1111111111111111, \"#46039f\"], [0.2222222222222222, \"#7201a8\"], [0.3333333333333333, \"#9c179e\"], [0.4444444444444444, \"#bd3786\"], [0.5555555555555556, \"#d8576b\"], [0.6666666666666666, \"#ed7953\"], [0.7777777777777778, \"#fb9f3a\"], [0.8888888888888888, \"#fdca26\"], [1.0, \"#f0f921\"]], \"type\": \"heatmap\"}], \"heatmapgl\": [{\"colorbar\": {\"outlinewidth\": 0, \"ticks\": \"\"}, \"colorscale\": [[0.0, \"#0d0887\"], [0.1111111111111111, \"#46039f\"], [0.2222222222222222, \"#7201a8\"], [0.3333333333333333, \"#9c179e\"], [0.4444444444444444, \"#bd3786\"], [0.5555555555555556, \"#d8576b\"], [0.6666666666666666, \"#ed7953\"], [0.7777777777777778, \"#fb9f3a\"], [0.8888888888888888, \"#fdca26\"], [1.0, \"#f0f921\"]], \"type\": \"heatmapgl\"}], \"histogram\": [{\"marker\": {\"colorbar\": {\"outlinewidth\": 0, \"ticks\": \"\"}}, \"type\": \"histogram\"}], \"histogram2d\": [{\"colorbar\": {\"outlinewidth\": 0, \"ticks\": \"\"}, \"colorscale\": [[0.0, \"#0d0887\"], [0.1111111111111111, \"#46039f\"], [0.2222222222222222, \"#7201a8\"], [0.3333333333333333, \"#9c179e\"], [0.4444444444444444, \"#bd3786\"], [0.5555555555555556, \"#d8576b\"], [0.6666666666666666, \"#ed7953\"], [0.7777777777777778, \"#fb9f3a\"], [0.8888888888888888, \"#fdca26\"], [1.0, \"#f0f921\"]], \"type\": \"histogram2d\"}], \"histogram2dcontour\": [{\"colorbar\": {\"outlinewidth\": 0, \"ticks\": \"\"}, \"colorscale\": [[0.0, \"#0d0887\"], [0.1111111111111111, \"#46039f\"], [0.2222222222222222, \"#7201a8\"], [0.3333333333333333, \"#9c179e\"], [0.4444444444444444, \"#bd3786\"], [0.5555555555555556, \"#d8576b\"], [0.6666666666666666, \"#ed7953\"], [0.7777777777777778, \"#fb9f3a\"], [0.8888888888888888, \"#fdca26\"], [1.0, \"#f0f921\"]], \"type\": \"histogram2dcontour\"}], \"mesh3d\": [{\"colorbar\": {\"outlinewidth\": 0, \"ticks\": \"\"}, \"type\": \"mesh3d\"}], \"parcoords\": [{\"line\": {\"colorbar\": {\"outlinewidth\": 0, \"ticks\": \"\"}}, \"type\": \"parcoords\"}], \"pie\": [{\"automargin\": true, \"type\": \"pie\"}], \"scatter\": [{\"marker\": {\"line\": {\"color\": \"#283442\"}}, \"type\": \"scatter\"}], \"scatter3d\": [{\"line\": {\"colorbar\": {\"outlinewidth\": 0, \"ticks\": \"\"}}, \"marker\": {\"colorbar\": {\"outlinewidth\": 0, \"ticks\": \"\"}}, \"type\": \"scatter3d\"}], \"scattercarpet\": [{\"marker\": {\"colorbar\": {\"outlinewidth\": 0, \"ticks\": \"\"}}, \"type\": \"scattercarpet\"}], \"scattergeo\": [{\"marker\": {\"colorbar\": {\"outlinewidth\": 0, \"ticks\": \"\"}}, \"type\": \"scattergeo\"}], \"scattergl\": [{\"marker\": {\"line\": {\"color\": \"#283442\"}}, \"type\": \"scattergl\"}], \"scattermapbox\": [{\"marker\": {\"colorbar\": {\"outlinewidth\": 0, \"ticks\": \"\"}}, \"type\": \"scattermapbox\"}], \"scatterpolar\": [{\"marker\": {\"colorbar\": {\"outlinewidth\": 0, \"ticks\": \"\"}}, \"type\": \"scatterpolar\"}], \"scatterpolargl\": [{\"marker\": {\"colorbar\": {\"outlinewidth\": 0, \"ticks\": \"\"}}, \"type\": \"scatterpolargl\"}], \"scatterternary\": [{\"marker\": {\"colorbar\": {\"outlinewidth\": 0, \"ticks\": \"\"}}, \"type\": \"scatterternary\"}], \"surface\": [{\"colorbar\": {\"outlinewidth\": 0, \"ticks\": \"\"}, \"colorscale\": [[0.0, \"#0d0887\"], [0.1111111111111111, \"#46039f\"], [0.2222222222222222, \"#7201a8\"], [0.3333333333333333, \"#9c179e\"], [0.4444444444444444, \"#bd3786\"], [0.5555555555555556, \"#d8576b\"], [0.6666666666666666, \"#ed7953\"], [0.7777777777777778, \"#fb9f3a\"], [0.8888888888888888, \"#fdca26\"], [1.0, \"#f0f921\"]], \"type\": \"surface\"}], \"table\": [{\"cells\": {\"fill\": {\"color\": \"#506784\"}, \"line\": {\"color\": \"rgb(17,17,17)\"}}, \"header\": {\"fill\": {\"color\": \"#2a3f5f\"}, \"line\": {\"color\": \"rgb(17,17,17)\"}}, \"type\": \"table\"}]}, \"layout\": {\"annotationdefaults\": {\"arrowcolor\": \"#f2f5fa\", \"arrowhead\": 0, \"arrowwidth\": 1}, \"coloraxis\": {\"colorbar\": {\"outlinewidth\": 0, \"ticks\": \"\"}}, \"colorscale\": {\"diverging\": [[0, \"#8e0152\"], [0.1, \"#c51b7d\"], [0.2, \"#de77ae\"], [0.3, \"#f1b6da\"], [0.4, \"#fde0ef\"], [0.5, \"#f7f7f7\"], [0.6, \"#e6f5d0\"], [0.7, \"#b8e186\"], [0.8, \"#7fbc41\"], [0.9, \"#4d9221\"], [1, \"#276419\"]], \"sequential\": [[0.0, \"#0d0887\"], [0.1111111111111111, \"#46039f\"], [0.2222222222222222, \"#7201a8\"], [0.3333333333333333, \"#9c179e\"], [0.4444444444444444, \"#bd3786\"], [0.5555555555555556, \"#d8576b\"], [0.6666666666666666, \"#ed7953\"], [0.7777777777777778, \"#fb9f3a\"], [0.8888888888888888, \"#fdca26\"], [1.0, \"#f0f921\"]], \"sequentialminus\": [[0.0, \"#0d0887\"], [0.1111111111111111, \"#46039f\"], [0.2222222222222222, \"#7201a8\"], [0.3333333333333333, \"#9c179e\"], [0.4444444444444444, \"#bd3786\"], [0.5555555555555556, \"#d8576b\"], [0.6666666666666666, \"#ed7953\"], [0.7777777777777778, \"#fb9f3a\"], [0.8888888888888888, \"#fdca26\"], [1.0, \"#f0f921\"]]}, \"colorway\": [\"#636efa\", \"#EF553B\", \"#00cc96\", \"#ab63fa\", \"#FFA15A\", \"#19d3f3\", \"#FF6692\", \"#B6E880\", \"#FF97FF\", \"#FECB52\"], \"font\": {\"color\": \"#f2f5fa\"}, \"geo\": {\"bgcolor\": \"rgb(17,17,17)\", \"lakecolor\": \"rgb(17,17,17)\", \"landcolor\": \"rgb(17,17,17)\", \"showlakes\": true, \"showland\": true, \"subunitcolor\": \"#506784\"}, \"hoverlabel\": {\"align\": \"left\"}, \"hovermode\": \"closest\", \"mapbox\": {\"style\": \"dark\"}, \"paper_bgcolor\": \"rgb(17,17,17)\", \"plot_bgcolor\": \"rgb(17,17,17)\", \"polar\": {\"angularaxis\": {\"gridcolor\": \"#506784\", \"linecolor\": \"#506784\", \"ticks\": \"\"}, \"bgcolor\": \"rgb(17,17,17)\", \"radialaxis\": {\"gridcolor\": \"#506784\", \"linecolor\": \"#506784\", \"ticks\": \"\"}}, \"scene\": {\"xaxis\": {\"backgroundcolor\": \"rgb(17,17,17)\", \"gridcolor\": \"#506784\", \"gridwidth\": 2, \"linecolor\": \"#506784\", \"showbackground\": true, \"ticks\": \"\", \"zerolinecolor\": \"#C8D4E3\"}, \"yaxis\": {\"backgroundcolor\": \"rgb(17,17,17)\", \"gridcolor\": \"#506784\", \"gridwidth\": 2, \"linecolor\": \"#506784\", \"showbackground\": true, \"ticks\": \"\", \"zerolinecolor\": \"#C8D4E3\"}, \"zaxis\": {\"backgroundcolor\": \"rgb(17,17,17)\", \"gridcolor\": \"#506784\", \"gridwidth\": 2, \"linecolor\": \"#506784\", \"showbackground\": true, \"ticks\": \"\", \"zerolinecolor\": \"#C8D4E3\"}}, \"shapedefaults\": {\"line\": {\"color\": \"#f2f5fa\"}}, \"sliderdefaults\": {\"bgcolor\": \"#C8D4E3\", \"bordercolor\": \"rgb(17,17,17)\", \"borderwidth\": 1, \"tickwidth\": 0}, \"ternary\": {\"aaxis\": {\"gridcolor\": \"#506784\", \"linecolor\": \"#506784\", \"ticks\": \"\"}, \"baxis\": {\"gridcolor\": \"#506784\", \"linecolor\": \"#506784\", \"ticks\": \"\"}, \"bgcolor\": \"rgb(17,17,17)\", \"caxis\": {\"gridcolor\": \"#506784\", \"linecolor\": \"#506784\", \"ticks\": \"\"}}, \"title\": {\"x\": 0.05}, \"updatemenudefaults\": {\"bgcolor\": \"#506784\", \"borderwidth\": 0}, \"xaxis\": {\"automargin\": true, \"gridcolor\": \"#283442\", \"linecolor\": \"#506784\", \"ticks\": \"\", \"title\": {\"standoff\": 15}, \"zerolinecolor\": \"#283442\", \"zerolinewidth\": 2}, \"yaxis\": {\"automargin\": true, \"gridcolor\": \"#283442\", \"linecolor\": \"#506784\", \"ticks\": \"\", \"title\": {\"standoff\": 15}, \"zerolinecolor\": \"#283442\", \"zerolinewidth\": 2}}}, \"title\": {\"text\": \"False Nine - Support\"}, \"xaxis\": {\"anchor\": \"y\", \"domain\": [0.0, 1.0], \"title\": {\"text\": \"Shot/90\"}}, \"yaxis\": {\"anchor\": \"x\", \"domain\": [0.0, 1.0], \"title\": {\"text\": \"Gls/90\"}}},\n",
       "                        {\"responsive\": true}\n",
       "                    ).then(function(){\n",
       "                            \n",
       "var gd = document.getElementById('ea75bf0a-8d1a-46c0-b62a-65a12b10b3b2');\n",
       "var x = new MutationObserver(function (mutations, observer) {{\n",
       "        var display = window.getComputedStyle(gd).display;\n",
       "        if (!display || display === 'none') {{\n",
       "            console.log([gd, 'removed!']);\n",
       "            Plotly.purge(gd);\n",
       "            observer.disconnect();\n",
       "        }}\n",
       "}});\n",
       "\n",
       "// Listen for the removal of the full notebook cells\n",
       "var notebookContainer = gd.closest('#notebook-container');\n",
       "if (notebookContainer) {{\n",
       "    x.observe(notebookContainer, {childList: true});\n",
       "}}\n",
       "\n",
       "// Listen for the clearing of the current output cell\n",
       "var outputEl = gd.closest('.output');\n",
       "if (outputEl) {{\n",
       "    x.observe(outputEl, {childList: true});\n",
       "}}\n",
       "\n",
       "                        })\n",
       "                };\n",
       "                });\n",
       "            </script>\n",
       "        </div>"
      ]
     },
     "metadata": {},
     "output_type": "display_data"
    }
   ],
   "source": [
    "fig = px.scatter(df1, x=\"Shot/90\", y=\"Gls/90\", text=\"Name\", log_x=False, size_max=60)\n",
    "fig.update_traces(textposition='top center')\n",
    "fig.update_layout(\n",
    "    height=500,\n",
    "   )\n",
    "for template in [\"plotly_dark\"]:\n",
    "    fig.update_layout(template=template, title=\"False Nine - Support\")\n",
    "fig.show()"
   ]
  },
  {
   "cell_type": "code",
   "execution_count": null,
   "metadata": {},
   "outputs": [],
   "source": []
  },
  {
   "cell_type": "code",
   "execution_count": null,
   "metadata": {},
   "outputs": [],
   "source": []
  },
  {
   "cell_type": "code",
   "execution_count": null,
   "metadata": {},
   "outputs": [],
   "source": []
  },
  {
   "cell_type": "code",
   "execution_count": null,
   "metadata": {},
   "outputs": [],
   "source": []
  },
  {
   "cell_type": "code",
   "execution_count": null,
   "metadata": {},
   "outputs": [],
   "source": []
  },
  {
   "cell_type": "code",
   "execution_count": null,
   "metadata": {},
   "outputs": [],
   "source": []
  },
  {
   "cell_type": "code",
   "execution_count": null,
   "metadata": {},
   "outputs": [],
   "source": []
  },
  {
   "cell_type": "code",
   "execution_count": null,
   "metadata": {},
   "outputs": [],
   "source": []
  },
  {
   "cell_type": "code",
   "execution_count": null,
   "metadata": {},
   "outputs": [],
   "source": []
  },
  {
   "cell_type": "code",
   "execution_count": null,
   "metadata": {},
   "outputs": [],
   "source": []
  },
  {
   "cell_type": "code",
   "execution_count": null,
   "metadata": {},
   "outputs": [],
   "source": []
  },
  {
   "cell_type": "code",
   "execution_count": null,
   "metadata": {},
   "outputs": [],
   "source": []
  },
  {
   "cell_type": "code",
   "execution_count": null,
   "metadata": {},
   "outputs": [],
   "source": []
  },
  {
   "cell_type": "code",
   "execution_count": null,
   "metadata": {},
   "outputs": [],
   "source": []
  },
  {
   "cell_type": "code",
   "execution_count": null,
   "metadata": {},
   "outputs": [],
   "source": []
  },
  {
   "cell_type": "code",
   "execution_count": null,
   "metadata": {},
   "outputs": [],
   "source": []
  },
  {
   "cell_type": "code",
   "execution_count": null,
   "metadata": {},
   "outputs": [],
   "source": []
  },
  {
   "cell_type": "code",
   "execution_count": null,
   "metadata": {},
   "outputs": [],
   "source": []
  },
  {
   "cell_type": "code",
   "execution_count": null,
   "metadata": {},
   "outputs": [],
   "source": []
  },
  {
   "cell_type": "code",
   "execution_count": null,
   "metadata": {},
   "outputs": [],
   "source": []
  }
 ],
 "metadata": {
  "kernelspec": {
   "display_name": "Python 3",
   "language": "python",
   "name": "python3"
  },
  "language_info": {
   "codemirror_mode": {
    "name": "ipython",
    "version": 3
   },
   "file_extension": ".py",
   "mimetype": "text/x-python",
   "name": "python",
   "nbconvert_exporter": "python",
   "pygments_lexer": "ipython3",
   "version": "3.8.2"
  }
 },
 "nbformat": 4,
 "nbformat_minor": 4
}
